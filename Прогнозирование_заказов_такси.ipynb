{
 "cells": [
  {
   "cell_type": "markdown",
   "metadata": {
    "toc": true
   },
   "source": [
    "<h1>Содержание<span class=\"tocSkip\"></span></h1>\n",
    "<div class=\"toc\"><ul class=\"toc-item\"><li><span><a href=\"#Подготовка\" data-toc-modified-id=\"Подготовка-1\"><span class=\"toc-item-num\">1&nbsp;&nbsp;</span>Подготовка</a></span></li><li><span><a href=\"#Анализ\" data-toc-modified-id=\"Анализ-2\"><span class=\"toc-item-num\">2&nbsp;&nbsp;</span>Анализ</a></span></li><li><span><a href=\"#Обучение\" data-toc-modified-id=\"Обучение-3\"><span class=\"toc-item-num\">3&nbsp;&nbsp;</span>Обучение</a></span></li><li><span><a href=\"#Тестирование\" data-toc-modified-id=\"Тестирование-4\"><span class=\"toc-item-num\">4&nbsp;&nbsp;</span>Тестирование</a></span></li><li><span><a href=\"#Чек-лист-проверки\" data-toc-modified-id=\"Чек-лист-проверки-5\"><span class=\"toc-item-num\">5&nbsp;&nbsp;</span>Чек-лист проверки</a></span></li></ul></div>"
   ]
  },
  {
   "cell_type": "markdown",
   "metadata": {},
   "source": [
    "#  Прогнозирование заказов такси"
   ]
  },
  {
   "cell_type": "markdown",
   "metadata": {},
   "source": [
    "Компания «Чётенькое такси» собрала исторические данные о заказах такси в аэропортах. Чтобы привлекать больше водителей в период пиковой нагрузки, нужно спрогнозировать количество заказов такси на следующий час. Постройте модель для такого предсказания.\n",
    "\n",
    "Значение метрики *RMSE* на тестовой выборке должно быть не больше 48.\n",
    "\n",
    "Вам нужно:\n",
    "\n",
    "1. Загрузить данные и выполнить их ресемплирование по одному часу.\n",
    "2. Проанализировать данные.\n",
    "3. Обучить разные модели с различными гиперпараметрами. Сделать тестовую выборку размером 10% от исходных данных.\n",
    "4. Проверить данные на тестовой выборке и сделать выводы.\n",
    "\n",
    "\n",
    "Данные лежат в файле `taxi.csv`. Количество заказов находится в столбце `num_orders` (от англ. *number of orders*, «число заказов»)."
   ]
  },
  {
   "cell_type": "markdown",
   "metadata": {},
   "source": [
    "## Подготовка"
   ]
  },
  {
   "cell_type": "code",
   "execution_count": 1,
   "metadata": {},
   "outputs": [],
   "source": [
    "import pandas as pd\n",
    "import matplotlib.pyplot as plt\n",
    "import seaborn as sns\n",
    "import numpy as np\n",
    "from sqlalchemy import create_engine \n",
    "\n",
    "from sklearn.compose import ColumnTransformer\n",
    "from sklearn.preprocessing import OneHotEncoder\n",
    "from sklearn.preprocessing import StandardScaler\n",
    "from sklearn.impute import SimpleImputer\n",
    "from sklearn.model_selection import GridSearchCV\n",
    "from sklearn.pipeline import Pipeline, make_pipeline\n",
    "from sklearn.ensemble import RandomForestRegressor\n",
    "from sklearn.linear_model import LinearRegression\n",
    "from lightgbm import LGBMRegressor\n",
    "from catboost import CatBoostRegressor\n",
    "from sklearn.decomposition import TruncatedSVD\n",
    "from sklearn.model_selection import train_test_split\n",
    "from tqdm.notebook import tqdm\n",
    "from sklearn.base import BaseEstimator\n",
    "import random\n",
    "import torch.nn as nn\n",
    "from torch.nn import ReLU\n",
    "from math import ceil\n",
    "import torch.utils.data\n",
    "from torch.utils.data import TensorDataset, DataLoader\n",
    "from sklearn.metrics import mean_squared_error, confusion_matrix\n",
    "from sklearn.metrics import roc_auc_score, accuracy_score, precision_score, recall_score, f1_score\n",
    "from sklearn.model_selection import ParameterSampler\n",
    "from sklearn.compose import ColumnTransformer\n",
    "from sklearn.model_selection import train_test_split\n",
    "from statsmodels.tsa.seasonal import seasonal_decompose\n",
    "import matplotlib.pyplot as plt\n",
    "\n",
    "import warnings\n",
    "# warnings.simplefilter(action='ignore', category=FutureWarning)\n",
    "warnings.filterwarnings('ignore')"
   ]
  },
  {
   "cell_type": "code",
   "execution_count": 2,
   "metadata": {},
   "outputs": [
    {
     "data": {
      "text/html": [
       "<div>\n",
       "<style scoped>\n",
       "    .dataframe tbody tr th:only-of-type {\n",
       "        vertical-align: middle;\n",
       "    }\n",
       "\n",
       "    .dataframe tbody tr th {\n",
       "        vertical-align: top;\n",
       "    }\n",
       "\n",
       "    .dataframe thead th {\n",
       "        text-align: right;\n",
       "    }\n",
       "</style>\n",
       "<table border=\"1\" class=\"dataframe\">\n",
       "  <thead>\n",
       "    <tr style=\"text-align: right;\">\n",
       "      <th></th>\n",
       "      <th>num_orders</th>\n",
       "    </tr>\n",
       "    <tr>\n",
       "      <th>datetime</th>\n",
       "      <th></th>\n",
       "    </tr>\n",
       "  </thead>\n",
       "  <tbody>\n",
       "    <tr>\n",
       "      <th>2018-03-01 00:00:00</th>\n",
       "      <td>9</td>\n",
       "    </tr>\n",
       "    <tr>\n",
       "      <th>2018-03-01 00:10:00</th>\n",
       "      <td>14</td>\n",
       "    </tr>\n",
       "    <tr>\n",
       "      <th>2018-03-01 00:20:00</th>\n",
       "      <td>28</td>\n",
       "    </tr>\n",
       "    <tr>\n",
       "      <th>2018-03-01 00:30:00</th>\n",
       "      <td>20</td>\n",
       "    </tr>\n",
       "    <tr>\n",
       "      <th>2018-03-01 00:40:00</th>\n",
       "      <td>32</td>\n",
       "    </tr>\n",
       "  </tbody>\n",
       "</table>\n",
       "</div>"
      ],
      "text/plain": [
       "                     num_orders\n",
       "datetime                       \n",
       "2018-03-01 00:00:00           9\n",
       "2018-03-01 00:10:00          14\n",
       "2018-03-01 00:20:00          28\n",
       "2018-03-01 00:30:00          20\n",
       "2018-03-01 00:40:00          32"
      ]
     },
     "execution_count": 2,
     "metadata": {},
     "output_type": "execute_result"
    }
   ],
   "source": [
    "#загрузка файла, преобразование даты в формат DateTime и помещение даты в индекс.\n",
    "data = pd.read_csv('https://code.s3.yandex.net/datasets/taxi.csv', index_col=[0], parse_dates=[0])\n",
    "#проведем сортировку индексов\n",
    "data.sort_index(inplace=True)\n",
    "data.head()"
   ]
  },
  {
   "cell_type": "code",
   "execution_count": 3,
   "metadata": {},
   "outputs": [
    {
     "data": {
      "text/plain": [
       "array([  0,   1,   2,   3,   4,   5,   6,   7,   8,   9,  10,  11,  12,\n",
       "        13,  14,  15,  16,  17,  18,  19,  20,  21,  22,  23,  24,  25,\n",
       "        26,  27,  28,  29,  30,  31,  32,  33,  34,  35,  36,  37,  38,\n",
       "        39,  40,  41,  42,  43,  44,  45,  46,  47,  48,  49,  50,  51,\n",
       "        52,  53,  54,  55,  56,  57,  58,  60,  61,  62,  64,  65,  66,\n",
       "        67,  68,  71,  76,  78,  80,  81,  82,  87,  90,  91,  94,  95,\n",
       "        98,  99, 119])"
      ]
     },
     "execution_count": 3,
     "metadata": {},
     "output_type": "execute_result"
    }
   ],
   "source": [
    "data['num_orders'].sort_values().unique()#выведем все уникальные значения столбца num_orders"
   ]
  },
  {
   "cell_type": "markdown",
   "metadata": {},
   "source": [
    "Как видно из данных, есть некоторе количество отризательных значений поездок. Создадим функцию для того, чтобы заменить отрицательные значения на положительные."
   ]
  },
  {
   "cell_type": "code",
   "execution_count": 4,
   "metadata": {},
   "outputs": [],
   "source": [
    "# создадим функцию для того, чтобы заменить отрицательные значения на положительные. \n",
    "def my_max(a):\n",
    "    if a > 0:\n",
    "        return a\n",
    "    else:\n",
    "        return a*(-1)\n",
    "data['num_orders'] = data['num_orders'].apply(my_max)"
   ]
  },
  {
   "cell_type": "code",
   "execution_count": 5,
   "metadata": {},
   "outputs": [
    {
     "data": {
      "text/plain": [
       "array([  0,   1,   2,   3,   4,   5,   6,   7,   8,   9,  10,  11,  12,\n",
       "        13,  14,  15,  16,  17,  18,  19,  20,  21,  22,  23,  24,  25,\n",
       "        26,  27,  28,  29,  30,  31,  32,  33,  34,  35,  36,  37,  38,\n",
       "        39,  40,  41,  42,  43,  44,  45,  46,  47,  48,  49,  50,  51,\n",
       "        52,  53,  54,  55,  56,  57,  58,  60,  61,  62,  64,  65,  66,\n",
       "        67,  68,  71,  76,  78,  80,  81,  82,  87,  90,  91,  94,  95,\n",
       "        98,  99, 119])"
      ]
     },
     "execution_count": 5,
     "metadata": {},
     "output_type": "execute_result"
    }
   ],
   "source": [
    "data['num_orders'].sort_values().unique()#выведем униальные значения после преобразования отриательных значений."
   ]
  },
  {
   "cell_type": "code",
   "execution_count": 6,
   "metadata": {},
   "outputs": [
    {
     "name": "stdout",
     "output_type": "stream",
     "text": [
      "<class 'pandas.core.frame.DataFrame'>\n",
      "DatetimeIndex: 26496 entries, 2018-03-01 00:00:00 to 2018-08-31 23:50:00\n",
      "Data columns (total 1 columns):\n",
      " #   Column      Non-Null Count  Dtype\n",
      "---  ------      --------------  -----\n",
      " 0   num_orders  26496 non-null  int64\n",
      "dtypes: int64(1)\n",
      "memory usage: 414.0 KB\n"
     ]
    }
   ],
   "source": [
    "data.info()#выведем информаию о датасете"
   ]
  },
  {
   "cell_type": "code",
   "execution_count": 7,
   "metadata": {},
   "outputs": [],
   "source": [
    "# сгруппируем по часам и посчитаем сумму заказов за час\n",
    "data = data.resample('1H').sum()"
   ]
  },
  {
   "cell_type": "code",
   "execution_count": 8,
   "metadata": {},
   "outputs": [
    {
     "name": "stdout",
     "output_type": "stream",
     "text": [
      "<class 'pandas.core.frame.DataFrame'>\n",
      "DatetimeIndex: 4416 entries, 2018-03-01 00:00:00 to 2018-08-31 23:00:00\n",
      "Freq: H\n",
      "Data columns (total 1 columns):\n",
      " #   Column      Non-Null Count  Dtype\n",
      "---  ------      --------------  -----\n",
      " 0   num_orders  4416 non-null   int64\n",
      "dtypes: int64(1)\n",
      "memory usage: 69.0 KB\n"
     ]
    }
   ],
   "source": [
    "data.info()#выведем информацию после ресемплинга"
   ]
  },
  {
   "cell_type": "code",
   "execution_count": 9,
   "metadata": {},
   "outputs": [
    {
     "data": {
      "text/plain": [
       "Timestamp('2018-03-01 00:00:00', freq='H')"
      ]
     },
     "execution_count": 9,
     "metadata": {},
     "output_type": "execute_result"
    }
   ],
   "source": [
    "data.index.min()#выведем минимальный временной показатель"
   ]
  },
  {
   "cell_type": "code",
   "execution_count": 10,
   "metadata": {},
   "outputs": [
    {
     "data": {
      "text/plain": [
       "Timestamp('2018-08-31 23:00:00', freq='H')"
      ]
     },
     "execution_count": 10,
     "metadata": {},
     "output_type": "execute_result"
    }
   ],
   "source": [
    "data.index.max()#выведем максимальный временной покзатель"
   ]
  },
  {
   "cell_type": "markdown",
   "metadata": {},
   "source": [
    "**Вывод**  \n",
    "Как видно из данных выше, в представленном датасете 26 496 строк, отсутствуют пустые значения. После ресемплирования строк в датасете стало 4 416. Период в датасете представлен с 2018-03-01 (00:00:00) до 2018-08-31(23:00:00). Целевой признак - num_orders.  \n"
   ]
  },
  {
   "cell_type": "code",
   "execution_count": 11,
   "metadata": {},
   "outputs": [],
   "source": [
    "train, test = train_test_split(data, shuffle=False, test_size=0.1)\n",
    "train = train.dropna()"
   ]
  },
  {
   "cell_type": "code",
   "execution_count": 12,
   "metadata": {},
   "outputs": [
    {
     "name": "stdout",
     "output_type": "stream",
     "text": [
      "2018-03-01 00:00:00 2018-08-13 13:00:00\n",
      "2018-08-13 14:00:00 2018-08-31 23:00:00\n"
     ]
    }
   ],
   "source": [
    "print(train.index.min(), train.index.max())\n",
    "print(test.index.min(), test.index.max())"
   ]
  },
  {
   "cell_type": "markdown",
   "metadata": {},
   "source": [
    "## Анализ"
   ]
  },
  {
   "cell_type": "code",
   "execution_count": 13,
   "metadata": {
    "scrolled": true
   },
   "outputs": [
    {
     "data": {
      "text/plain": [
       "<Figure size 1080x576 with 0 Axes>"
      ]
     },
     "metadata": {},
     "output_type": "display_data"
    },
    {
     "data": {
      "image/png": "[encoded data removed]",
      "text/plain": [
       "<Figure size 432x288 with 1 Axes>"
      ]
     },
     "metadata": {
      "needs_background": "light"
     },
     "output_type": "display_data"
    }
   ],
   "source": [
    "plt.figure(figsize = (15,8))\n",
    "data.plot()\n",
    "plt.title('Количество заказов по дням')\n",
    "plt.show()"
   ]
  },
  {
   "cell_type": "markdown",
   "metadata": {},
   "source": [
    "Как вдино из данных, временной ряд является нестационарным, имеет тренд."
   ]
  },
  {
   "cell_type": "code",
   "execution_count": 14,
   "metadata": {},
   "outputs": [
    {
     "data": {
      "text/plain": [
       "<AxesSubplot:xlabel='datetime'>"
      ]
     },
     "execution_count": 14,
     "metadata": {},
     "output_type": "execute_result"
    },
    {
     "data": {
      "image/png": "[encoded data removed]",
      "text/plain": [
       "<Figure size 432x288 with 1 Axes>"
      ]
     },
     "metadata": {
      "needs_background": "light"
     },
     "output_type": "display_data"
    }
   ],
   "source": [
    "# Создадим столбец со скользящим средним и окном 10.\n",
    "data_roll = data.copy()\n",
    "data_roll['rolling_mean'] = data_roll.rolling(10).mean()# < напишите код здесь >\n",
    "data_roll.plot()"
   ]
  },
  {
   "cell_type": "markdown",
   "metadata": {},
   "source": [
    "Как видно из данных, приведенных выше, среднее количество заказов возрастает за анализируемый период."
   ]
  },
  {
   "cell_type": "code",
   "execution_count": 15,
   "metadata": {},
   "outputs": [
    {
     "data": {
      "image/png": "[encoded data removed]",
      "text/plain": [
       "<Figure size 432x576 with 3 Axes>"
      ]
     },
     "metadata": {
      "needs_background": "light"
     },
     "output_type": "display_data"
    }
   ],
   "source": [
    "# Произвожу декомпозицию временного ряда, чтоб увидеть тренд, сезонность и белый шум\n",
    "decomposed = seasonal_decompose(data)\n",
    "plt.figure(figsize=(6, 8))\n",
    "plt.subplot(311)\n",
    "\n",
    "decomposed.trend['2018-08-06':'2018-08-12'].plot(ax=plt.gca())\n",
    "plt.title('Trend')\n",
    "plt.subplot(312)\n",
    "decomposed.seasonal['2018-08-06':'2018-08-12'].plot(ax=plt.gca())\n",
    "plt.title('Seasonality')\n",
    "plt.subplot(313)\n",
    "decomposed.resid['2018-08-06':'2018-08-12'].plot(ax=plt.gca())\n",
    "plt.title('Residuals')\n",
    "plt.tight_layout()"
   ]
  },
  {
   "cell_type": "markdown",
   "metadata": {},
   "source": [
    "Построили графики за неделю, в котором наблюдается сезонность внтури дня."
   ]
  },
  {
   "cell_type": "code",
   "execution_count": 16,
   "metadata": {
    "scrolled": true
   },
   "outputs": [
    {
     "data": {
      "image/png": "[encoded data removed]",
      "text/plain": [
       "<Figure size 432x576 with 3 Axes>"
      ]
     },
     "metadata": {
      "needs_background": "light"
     },
     "output_type": "display_data"
    }
   ],
   "source": [
    "# Произвожу декомпозицию временного ряда, что увидеть тренд, сезонность и белый шум\n",
    "\n",
    "plt.figure(figsize=(6, 8))\n",
    "plt.subplot(311)\n",
    "\n",
    "decomposed.trend['2018-08-08':'2018-08-09'].plot(ax=plt.gca())\n",
    "plt.title('Trend')\n",
    "plt.subplot(312)\n",
    "decomposed.seasonal['2018-08-08':'2018-08-09'].plot(ax=plt.gca())\n",
    "plt.title('Seasonality')\n",
    "plt.subplot(313)\n",
    "decomposed.resid['2018-08-08':'2018-08-09'].plot(ax=plt.gca())\n",
    "plt.title('Residuals')\n",
    "plt.tight_layout()"
   ]
  },
  {
   "cell_type": "markdown",
   "metadata": {},
   "source": [
    "Как видно из графика за день, из графика сезонности видно, что наименьшее количество заказов в 6.00, а наибольшее количество заказов в 00:00."
   ]
  },
  {
   "cell_type": "code",
   "execution_count": 17,
   "metadata": {},
   "outputs": [],
   "source": [
    "# Подготовим функция для создания календарных признаков и отстающих значений\n",
    "def make_features(data, max_lag, rolling_mean_size):\n",
    "  \n",
    "    data['Day']=data.index.day\n",
    "    data['Day_of_week']=data.index.dayofweek\n",
    "    \n",
    "    for i in range(1,max_lag+1):\n",
    "        data['lag_{}'.format(i)]=data['num_orders'].shift(i)\n",
    "    data['rolling_mean']=data['num_orders'].shift().rolling(window=rolling_mean_size).mean()\n",
    "    return data"
   ]
  },
  {
   "cell_type": "markdown",
   "metadata": {},
   "source": [
    "## Обучение"
   ]
  },
  {
   "cell_type": "markdown",
   "metadata": {},
   "source": [
    "Проведем подбор гиперпараметров модели на произвольном числе признаков. Возьмем, к примеру, max_lag  = 1 и rolling_mean_size = 24."
   ]
  },
  {
   "cell_type": "code",
   "execution_count": 18,
   "metadata": {},
   "outputs": [
    {
     "data": {
      "text/html": [
       "<div>\n",
       "<style scoped>\n",
       "    .dataframe tbody tr th:only-of-type {\n",
       "        vertical-align: middle;\n",
       "    }\n",
       "\n",
       "    .dataframe tbody tr th {\n",
       "        vertical-align: top;\n",
       "    }\n",
       "\n",
       "    .dataframe thead th {\n",
       "        text-align: right;\n",
       "    }\n",
       "</style>\n",
       "<table border=\"1\" class=\"dataframe\">\n",
       "  <thead>\n",
       "    <tr style=\"text-align: right;\">\n",
       "      <th></th>\n",
       "      <th>num_orders</th>\n",
       "      <th>Day</th>\n",
       "      <th>Day_of_week</th>\n",
       "      <th>lag_1</th>\n",
       "      <th>rolling_mean</th>\n",
       "    </tr>\n",
       "    <tr>\n",
       "      <th>datetime</th>\n",
       "      <th></th>\n",
       "      <th></th>\n",
       "      <th></th>\n",
       "      <th></th>\n",
       "      <th></th>\n",
       "    </tr>\n",
       "  </thead>\n",
       "  <tbody>\n",
       "    <tr>\n",
       "      <th>2018-03-01 00:00:00</th>\n",
       "      <td>124</td>\n",
       "      <td>1</td>\n",
       "      <td>3</td>\n",
       "      <td>NaN</td>\n",
       "      <td>NaN</td>\n",
       "    </tr>\n",
       "    <tr>\n",
       "      <th>2018-03-01 01:00:00</th>\n",
       "      <td>85</td>\n",
       "      <td>1</td>\n",
       "      <td>3</td>\n",
       "      <td>124.0</td>\n",
       "      <td>NaN</td>\n",
       "    </tr>\n",
       "    <tr>\n",
       "      <th>2018-03-01 02:00:00</th>\n",
       "      <td>71</td>\n",
       "      <td>1</td>\n",
       "      <td>3</td>\n",
       "      <td>85.0</td>\n",
       "      <td>NaN</td>\n",
       "    </tr>\n",
       "    <tr>\n",
       "      <th>2018-03-01 03:00:00</th>\n",
       "      <td>66</td>\n",
       "      <td>1</td>\n",
       "      <td>3</td>\n",
       "      <td>71.0</td>\n",
       "      <td>NaN</td>\n",
       "    </tr>\n",
       "    <tr>\n",
       "      <th>2018-03-01 04:00:00</th>\n",
       "      <td>43</td>\n",
       "      <td>1</td>\n",
       "      <td>3</td>\n",
       "      <td>66.0</td>\n",
       "      <td>NaN</td>\n",
       "    </tr>\n",
       "    <tr>\n",
       "      <th>...</th>\n",
       "      <td>...</td>\n",
       "      <td>...</td>\n",
       "      <td>...</td>\n",
       "      <td>...</td>\n",
       "      <td>...</td>\n",
       "    </tr>\n",
       "    <tr>\n",
       "      <th>2018-08-31 19:00:00</th>\n",
       "      <td>136</td>\n",
       "      <td>31</td>\n",
       "      <td>4</td>\n",
       "      <td>207.0</td>\n",
       "      <td>164.875000</td>\n",
       "    </tr>\n",
       "    <tr>\n",
       "      <th>2018-08-31 20:00:00</th>\n",
       "      <td>154</td>\n",
       "      <td>31</td>\n",
       "      <td>4</td>\n",
       "      <td>136.0</td>\n",
       "      <td>167.541667</td>\n",
       "    </tr>\n",
       "    <tr>\n",
       "      <th>2018-08-31 21:00:00</th>\n",
       "      <td>159</td>\n",
       "      <td>31</td>\n",
       "      <td>4</td>\n",
       "      <td>154.0</td>\n",
       "      <td>168.041667</td>\n",
       "    </tr>\n",
       "    <tr>\n",
       "      <th>2018-08-31 22:00:00</th>\n",
       "      <td>223</td>\n",
       "      <td>31</td>\n",
       "      <td>4</td>\n",
       "      <td>159.0</td>\n",
       "      <td>166.416667</td>\n",
       "    </tr>\n",
       "    <tr>\n",
       "      <th>2018-08-31 23:00:00</th>\n",
       "      <td>205</td>\n",
       "      <td>31</td>\n",
       "      <td>4</td>\n",
       "      <td>223.0</td>\n",
       "      <td>169.125000</td>\n",
       "    </tr>\n",
       "  </tbody>\n",
       "</table>\n",
       "<p>4416 rows × 5 columns</p>\n",
       "</div>"
      ],
      "text/plain": [
       "                     num_orders  Day  Day_of_week  lag_1  rolling_mean\n",
       "datetime                                                              \n",
       "2018-03-01 00:00:00         124    1            3    NaN           NaN\n",
       "2018-03-01 01:00:00          85    1            3  124.0           NaN\n",
       "2018-03-01 02:00:00          71    1            3   85.0           NaN\n",
       "2018-03-01 03:00:00          66    1            3   71.0           NaN\n",
       "2018-03-01 04:00:00          43    1            3   66.0           NaN\n",
       "...                         ...  ...          ...    ...           ...\n",
       "2018-08-31 19:00:00         136   31            4  207.0    164.875000\n",
       "2018-08-31 20:00:00         154   31            4  136.0    167.541667\n",
       "2018-08-31 21:00:00         159   31            4  154.0    168.041667\n",
       "2018-08-31 22:00:00         223   31            4  159.0    166.416667\n",
       "2018-08-31 23:00:00         205   31            4  223.0    169.125000\n",
       "\n",
       "[4416 rows x 5 columns]"
      ]
     },
     "execution_count": 18,
     "metadata": {},
     "output_type": "execute_result"
    }
   ],
   "source": [
    "data_line = make_features(data,1,24)\n",
    "data_line"
   ]
  },
  {
   "cell_type": "code",
   "execution_count": 19,
   "metadata": {},
   "outputs": [],
   "source": [
    "# Произведем отделение тестовой части датасета \n",
    "\n",
    "train_valid, test = train_test_split(data, test_size=0.1, shuffle=False)\n",
    "\n",
    "data_line = make_features(train_valid, 10, 9)\n",
    "\n",
    "# произведем удаление NAN из датасета\n",
    "data_line=data_line.dropna()\n",
    "\n",
    "#определим целевой признак\n",
    "target=data_line['num_orders']\n",
    "features=data_line.drop(['num_orders'], axis=1)\n",
    "# разделим выборку на валидацию и трейн\n",
    "X_train, X_valid, y_train, y_valid = train_test_split(features, target, train_size=0.9, shuffle=False)"
   ]
  },
  {
   "cell_type": "code",
   "execution_count": 20,
   "metadata": {},
   "outputs": [
    {
     "data": {
      "text/html": [
       "<div>\n",
       "<style scoped>\n",
       "    .dataframe tbody tr th:only-of-type {\n",
       "        vertical-align: middle;\n",
       "    }\n",
       "\n",
       "    .dataframe tbody tr th {\n",
       "        vertical-align: top;\n",
       "    }\n",
       "\n",
       "    .dataframe thead th {\n",
       "        text-align: right;\n",
       "    }\n",
       "</style>\n",
       "<table border=\"1\" class=\"dataframe\">\n",
       "  <thead>\n",
       "    <tr style=\"text-align: right;\">\n",
       "      <th></th>\n",
       "      <th>num_orders</th>\n",
       "      <th>Day</th>\n",
       "      <th>Day_of_week</th>\n",
       "      <th>lag_1</th>\n",
       "      <th>rolling_mean</th>\n",
       "      <th>lag_2</th>\n",
       "      <th>lag_3</th>\n",
       "      <th>lag_4</th>\n",
       "      <th>lag_5</th>\n",
       "      <th>lag_6</th>\n",
       "      <th>lag_7</th>\n",
       "      <th>lag_8</th>\n",
       "      <th>lag_9</th>\n",
       "      <th>lag_10</th>\n",
       "    </tr>\n",
       "    <tr>\n",
       "      <th>datetime</th>\n",
       "      <th></th>\n",
       "      <th></th>\n",
       "      <th></th>\n",
       "      <th></th>\n",
       "      <th></th>\n",
       "      <th></th>\n",
       "      <th></th>\n",
       "      <th></th>\n",
       "      <th></th>\n",
       "      <th></th>\n",
       "      <th></th>\n",
       "      <th></th>\n",
       "      <th></th>\n",
       "      <th></th>\n",
       "    </tr>\n",
       "  </thead>\n",
       "  <tbody>\n",
       "    <tr>\n",
       "      <th>2018-03-01 10:00:00</th>\n",
       "      <td>64</td>\n",
       "      <td>1</td>\n",
       "      <td>3</td>\n",
       "      <td>69.0</td>\n",
       "      <td>44.555556</td>\n",
       "      <td>34.0</td>\n",
       "      <td>15.0</td>\n",
       "      <td>12.0</td>\n",
       "      <td>6.0</td>\n",
       "      <td>43.0</td>\n",
       "      <td>66.0</td>\n",
       "      <td>71.0</td>\n",
       "      <td>85.0</td>\n",
       "      <td>124.0</td>\n",
       "    </tr>\n",
       "    <tr>\n",
       "      <th>2018-03-01 11:00:00</th>\n",
       "      <td>96</td>\n",
       "      <td>1</td>\n",
       "      <td>3</td>\n",
       "      <td>64.0</td>\n",
       "      <td>42.222222</td>\n",
       "      <td>69.0</td>\n",
       "      <td>34.0</td>\n",
       "      <td>15.0</td>\n",
       "      <td>12.0</td>\n",
       "      <td>6.0</td>\n",
       "      <td>43.0</td>\n",
       "      <td>66.0</td>\n",
       "      <td>71.0</td>\n",
       "      <td>85.0</td>\n",
       "    </tr>\n",
       "    <tr>\n",
       "      <th>2018-03-01 12:00:00</th>\n",
       "      <td>30</td>\n",
       "      <td>1</td>\n",
       "      <td>3</td>\n",
       "      <td>96.0</td>\n",
       "      <td>45.000000</td>\n",
       "      <td>64.0</td>\n",
       "      <td>69.0</td>\n",
       "      <td>34.0</td>\n",
       "      <td>15.0</td>\n",
       "      <td>12.0</td>\n",
       "      <td>6.0</td>\n",
       "      <td>43.0</td>\n",
       "      <td>66.0</td>\n",
       "      <td>71.0</td>\n",
       "    </tr>\n",
       "    <tr>\n",
       "      <th>2018-03-01 13:00:00</th>\n",
       "      <td>32</td>\n",
       "      <td>1</td>\n",
       "      <td>3</td>\n",
       "      <td>30.0</td>\n",
       "      <td>41.000000</td>\n",
       "      <td>96.0</td>\n",
       "      <td>64.0</td>\n",
       "      <td>69.0</td>\n",
       "      <td>34.0</td>\n",
       "      <td>15.0</td>\n",
       "      <td>12.0</td>\n",
       "      <td>6.0</td>\n",
       "      <td>43.0</td>\n",
       "      <td>66.0</td>\n",
       "    </tr>\n",
       "    <tr>\n",
       "      <th>2018-03-01 14:00:00</th>\n",
       "      <td>48</td>\n",
       "      <td>1</td>\n",
       "      <td>3</td>\n",
       "      <td>32.0</td>\n",
       "      <td>39.777778</td>\n",
       "      <td>30.0</td>\n",
       "      <td>96.0</td>\n",
       "      <td>64.0</td>\n",
       "      <td>69.0</td>\n",
       "      <td>34.0</td>\n",
       "      <td>15.0</td>\n",
       "      <td>12.0</td>\n",
       "      <td>6.0</td>\n",
       "      <td>43.0</td>\n",
       "    </tr>\n",
       "    <tr>\n",
       "      <th>...</th>\n",
       "      <td>...</td>\n",
       "      <td>...</td>\n",
       "      <td>...</td>\n",
       "      <td>...</td>\n",
       "      <td>...</td>\n",
       "      <td>...</td>\n",
       "      <td>...</td>\n",
       "      <td>...</td>\n",
       "      <td>...</td>\n",
       "      <td>...</td>\n",
       "      <td>...</td>\n",
       "      <td>...</td>\n",
       "      <td>...</td>\n",
       "      <td>...</td>\n",
       "    </tr>\n",
       "    <tr>\n",
       "      <th>2018-08-13 09:00:00</th>\n",
       "      <td>137</td>\n",
       "      <td>13</td>\n",
       "      <td>0</td>\n",
       "      <td>91.0</td>\n",
       "      <td>162.222222</td>\n",
       "      <td>39.0</td>\n",
       "      <td>66.0</td>\n",
       "      <td>83.0</td>\n",
       "      <td>143.0</td>\n",
       "      <td>168.0</td>\n",
       "      <td>437.0</td>\n",
       "      <td>273.0</td>\n",
       "      <td>160.0</td>\n",
       "      <td>185.0</td>\n",
       "    </tr>\n",
       "    <tr>\n",
       "      <th>2018-08-13 10:00:00</th>\n",
       "      <td>156</td>\n",
       "      <td>13</td>\n",
       "      <td>0</td>\n",
       "      <td>137.0</td>\n",
       "      <td>159.666667</td>\n",
       "      <td>91.0</td>\n",
       "      <td>39.0</td>\n",
       "      <td>66.0</td>\n",
       "      <td>83.0</td>\n",
       "      <td>143.0</td>\n",
       "      <td>168.0</td>\n",
       "      <td>437.0</td>\n",
       "      <td>273.0</td>\n",
       "      <td>160.0</td>\n",
       "    </tr>\n",
       "    <tr>\n",
       "      <th>2018-08-13 11:00:00</th>\n",
       "      <td>144</td>\n",
       "      <td>13</td>\n",
       "      <td>0</td>\n",
       "      <td>156.0</td>\n",
       "      <td>146.666667</td>\n",
       "      <td>137.0</td>\n",
       "      <td>91.0</td>\n",
       "      <td>39.0</td>\n",
       "      <td>66.0</td>\n",
       "      <td>83.0</td>\n",
       "      <td>143.0</td>\n",
       "      <td>168.0</td>\n",
       "      <td>437.0</td>\n",
       "      <td>273.0</td>\n",
       "    </tr>\n",
       "    <tr>\n",
       "      <th>2018-08-13 12:00:00</th>\n",
       "      <td>92</td>\n",
       "      <td>13</td>\n",
       "      <td>0</td>\n",
       "      <td>144.0</td>\n",
       "      <td>114.111111</td>\n",
       "      <td>156.0</td>\n",
       "      <td>137.0</td>\n",
       "      <td>91.0</td>\n",
       "      <td>39.0</td>\n",
       "      <td>66.0</td>\n",
       "      <td>83.0</td>\n",
       "      <td>143.0</td>\n",
       "      <td>168.0</td>\n",
       "      <td>437.0</td>\n",
       "    </tr>\n",
       "    <tr>\n",
       "      <th>2018-08-13 13:00:00</th>\n",
       "      <td>119</td>\n",
       "      <td>13</td>\n",
       "      <td>0</td>\n",
       "      <td>92.0</td>\n",
       "      <td>105.666667</td>\n",
       "      <td>144.0</td>\n",
       "      <td>156.0</td>\n",
       "      <td>137.0</td>\n",
       "      <td>91.0</td>\n",
       "      <td>39.0</td>\n",
       "      <td>66.0</td>\n",
       "      <td>83.0</td>\n",
       "      <td>143.0</td>\n",
       "      <td>168.0</td>\n",
       "    </tr>\n",
       "  </tbody>\n",
       "</table>\n",
       "<p>3964 rows × 14 columns</p>\n",
       "</div>"
      ],
      "text/plain": [
       "                     num_orders  Day  Day_of_week  lag_1  rolling_mean  lag_2  \\\n",
       "datetime                                                                        \n",
       "2018-03-01 10:00:00          64    1            3   69.0     44.555556   34.0   \n",
       "2018-03-01 11:00:00          96    1            3   64.0     42.222222   69.0   \n",
       "2018-03-01 12:00:00          30    1            3   96.0     45.000000   64.0   \n",
       "2018-03-01 13:00:00          32    1            3   30.0     41.000000   96.0   \n",
       "2018-03-01 14:00:00          48    1            3   32.0     39.777778   30.0   \n",
       "...                         ...  ...          ...    ...           ...    ...   \n",
       "2018-08-13 09:00:00         137   13            0   91.0    162.222222   39.0   \n",
       "2018-08-13 10:00:00         156   13            0  137.0    159.666667   91.0   \n",
       "2018-08-13 11:00:00         144   13            0  156.0    146.666667  137.0   \n",
       "2018-08-13 12:00:00          92   13            0  144.0    114.111111  156.0   \n",
       "2018-08-13 13:00:00         119   13            0   92.0    105.666667  144.0   \n",
       "\n",
       "                     lag_3  lag_4  lag_5  lag_6  lag_7  lag_8  lag_9  lag_10  \n",
       "datetime                                                                      \n",
       "2018-03-01 10:00:00   15.0   12.0    6.0   43.0   66.0   71.0   85.0   124.0  \n",
       "2018-03-01 11:00:00   34.0   15.0   12.0    6.0   43.0   66.0   71.0    85.0  \n",
       "2018-03-01 12:00:00   69.0   34.0   15.0   12.0    6.0   43.0   66.0    71.0  \n",
       "2018-03-01 13:00:00   64.0   69.0   34.0   15.0   12.0    6.0   43.0    66.0  \n",
       "2018-03-01 14:00:00   96.0   64.0   69.0   34.0   15.0   12.0    6.0    43.0  \n",
       "...                    ...    ...    ...    ...    ...    ...    ...     ...  \n",
       "2018-08-13 09:00:00   66.0   83.0  143.0  168.0  437.0  273.0  160.0   185.0  \n",
       "2018-08-13 10:00:00   39.0   66.0   83.0  143.0  168.0  437.0  273.0   160.0  \n",
       "2018-08-13 11:00:00   91.0   39.0   66.0   83.0  143.0  168.0  437.0   273.0  \n",
       "2018-08-13 12:00:00  137.0   91.0   39.0   66.0   83.0  143.0  168.0   437.0  \n",
       "2018-08-13 13:00:00  156.0  137.0   91.0   39.0   66.0   83.0  143.0   168.0  \n",
       "\n",
       "[3964 rows x 14 columns]"
      ]
     },
     "execution_count": 20,
     "metadata": {},
     "output_type": "execute_result"
    }
   ],
   "source": [
    "data_line"
   ]
  },
  {
   "cell_type": "markdown",
   "metadata": {},
   "source": [
    "Напишем пайплайн для подбора гиперпараметров моделей."
   ]
  },
  {
   "cell_type": "code",
   "execution_count": 27,
   "metadata": {},
   "outputs": [],
   "source": [
    "pipelines = []\n",
    "params = []\n",
    "names = []"
   ]
  },
  {
   "cell_type": "code",
   "execution_count": 28,
   "metadata": {},
   "outputs": [],
   "source": [
    "pipeline_tree = Pipeline([('tree', None)])\n",
    "\n",
    "pipeline_lgm = Pipeline([('lgm', None)])\n",
    "\n",
    "pipeline_catboost = Pipeline([('cat', None)])"
   ]
  },
  {
   "cell_type": "code",
   "execution_count": 29,
   "metadata": {},
   "outputs": [],
   "source": [
    "param_tree = [\n",
    "    {'tree': (RandomForestRegressor(random_state=1),),\n",
    "     'tree__n_estimators': range(1, 20, 20),\n",
    "     'tree__max_depth': range(1, 20, 20),\n",
    "     }\n",
    "]\n",
    "\n",
    "param_tree_default = [\n",
    "    {'tree': (RandomForestRegressor(random_state=1),),     \n",
    "     }\n",
    "]\n",
    "\n",
    "param_lgm = [\n",
    "    {'lgm': (LGBMRegressor(random_state=1, learning_rate=0.1),),\n",
    "     'lgm__n_estimators': [50, 100],\n",
    "     'lgm__max_depth': [5, 10],\n",
    "     }\n",
    "]\n",
    "\n",
    "param_lgm_default = [\n",
    "    {'lgm': (LGBMRegressor(random_state=1),),}\n",
    "]\n",
    "\n",
    "param_catboost = [\n",
    "     {'cat': (CatBoostRegressor(random_state=1, verbose=False),),\n",
    "      }\n",
    " ]\n",
    "param_catboost_1 = [\n",
    "     {'cat': (CatBoostRegressor(random_state=1, verbose=False),),\n",
    "     'cat__learning_rate': np.logspace(-4, -1, 5),\n",
    "     'cat__iterations': range(25, 100, 75),\n",
    "     'cat__depth': range(5,10,5),\n",
    "     }\n",
    " ]"
   ]
  },
  {
   "cell_type": "code",
   "execution_count": 34,
   "metadata": {},
   "outputs": [],
   "source": [
    "names = ['TREE' , \"TREE_DEFAULT\", \"LGM\", \"LGM_DEFAULT\", \"CAT_BOOST\", \"CAT_BOOST_1\"]"
   ]
  },
  {
   "cell_type": "code",
   "execution_count": 31,
   "metadata": {},
   "outputs": [],
   "source": [
    "pipelines.append(pipeline_tree)\n",
    "pipelines.append(pipeline_tree)\n",
    "pipelines.append(pipeline_lgm)\n",
    "pipelines.append(pipeline_lgm)\n",
    "pipelines.append(pipeline_catboost)\n",
    "pipelines.append(pipeline_catboost)\n",
    "\n",
    "params.append(param_tree)\n",
    "params.append(param_tree_default)\n",
    "params.append(param_lgm)\n",
    "params.append(param_lgm_default)\n",
    "params.append(param_catboost)\n",
    "params.append(param_catboost_1)\n"
   ]
  },
  {
   "cell_type": "code",
   "execution_count": 35,
   "metadata": {},
   "outputs": [
    {
     "data": {
      "application/vnd.jupyter.widget-view+json": {
       "model_id": "9b07e16bf7b34a8facb478682dca3eb3",
       "version_major": 2,
       "version_minor": 0
      },
      "text/plain": [
       "0it [00:00, ?it/s]"
      ]
     },
     "metadata": {},
     "output_type": "display_data"
    },
    {
     "name": "stdout",
     "output_type": "stream",
     "text": [
      "Top CAT_BOOST models:\n"
     ]
    },
    {
     "data": {
      "text/html": [
       "<div>\n",
       "<style scoped>\n",
       "    .dataframe tbody tr th:only-of-type {\n",
       "        vertical-align: middle;\n",
       "    }\n",
       "\n",
       "    .dataframe tbody tr th {\n",
       "        vertical-align: top;\n",
       "    }\n",
       "\n",
       "    .dataframe thead th {\n",
       "        text-align: right;\n",
       "    }\n",
       "</style>\n",
       "<table border=\"1\" class=\"dataframe\">\n",
       "  <thead>\n",
       "    <tr style=\"text-align: right;\">\n",
       "      <th></th>\n",
       "      <th>params</th>\n",
       "      <th>cv_score</th>\n",
       "      <th>mean_fit_time</th>\n",
       "      <th>rank_cv_score</th>\n",
       "    </tr>\n",
       "  </thead>\n",
       "  <tbody>\n",
       "    <tr>\n",
       "      <th>0</th>\n",
       "      <td>{'cat': &lt;catboost.core.CatBoostRegressor objec...</td>\n",
       "      <td>-27.779294</td>\n",
       "      <td>26.755236</td>\n",
       "      <td>1</td>\n",
       "    </tr>\n",
       "  </tbody>\n",
       "</table>\n",
       "</div>"
      ],
      "text/plain": [
       "                                              params   cv_score  \\\n",
       "0  {'cat': <catboost.core.CatBoostRegressor objec... -27.779294   \n",
       "\n",
       "   mean_fit_time  rank_cv_score  \n",
       "0      26.755236              1  "
      ]
     },
     "metadata": {},
     "output_type": "display_data"
    }
   ],
   "source": [
    "results = {}\n",
    "for pipeline, param_grid, name in tqdm(zip(pipelines, params, names)):   \n",
    "    gs = GridSearchCV(pipeline,\n",
    "                  param_grid,\n",
    "                  scoring='neg_root_mean_squared_error',\n",
    "                  refit='neg_root_mean_squared_error',\n",
    "                  n_jobs=-1,\n",
    "                  cv=5 )\n",
    "    \n",
    "    gs.fit(X_train, y_train)  \n",
    "    \n",
    "    #top models table\n",
    "    print('Top ' + name + ' models:')\n",
    "    results_df = pd.DataFrame(gs.cv_results_)\n",
    "    results_df = results_df.sort_values(by=[\"rank_test_score\"])\n",
    "    display(results_df[['params', 'mean_test_score', 'mean_fit_time', 'rank_test_score']]\n",
    "            .head(5)\n",
    "            .rename(columns={'mean_test_score': 'cv_score'})\n",
    "            .rename(columns={'rank_test_score': 'rank_cv_score'}))\n",
    "\n",
    "    results[name] = gs\n",
    "\n",
    "\n"
   ]
  },
  {
   "cell_type": "markdown",
   "metadata": {},
   "source": [
    "Как видно из данных, приведенных выше, лучший показатель у модели CAT_BOOST. В данной связи сохраним ее гиперпараметры, как лучший результат."
   ]
  },
  {
   "cell_type": "code",
   "execution_count": 36,
   "metadata": {},
   "outputs": [],
   "source": [
    "X_valid['pred'] = results['CAT_BOOST'].best_estimator_.predict(X_valid)\n",
    "X_valid[['pred']].to_csv('test_submission.csv', index=False)"
   ]
  },
  {
   "cell_type": "code",
   "execution_count": 37,
   "metadata": {},
   "outputs": [
    {
     "data": {
      "text/plain": [
       "datetime\n",
       "2018-07-28 01:00:00    125.946077\n",
       "2018-07-28 02:00:00    169.840697\n",
       "2018-07-28 03:00:00    141.211712\n",
       "2018-07-28 04:00:00    110.449067\n",
       "2018-07-28 05:00:00     93.471052\n",
       "                          ...    \n",
       "2018-08-13 09:00:00    108.937462\n",
       "2018-08-13 10:00:00    118.717425\n",
       "2018-08-13 11:00:00    124.436661\n",
       "2018-08-13 12:00:00    118.945051\n",
       "2018-08-13 13:00:00    119.408291\n",
       "Freq: H, Name: pred, Length: 397, dtype: float64"
      ]
     },
     "execution_count": 37,
     "metadata": {},
     "output_type": "execute_result"
    }
   ],
   "source": [
    "X_valid['pred']"
   ]
  },
  {
   "cell_type": "markdown",
   "metadata": {},
   "source": [
    "Напишем функцию для подбора количества признаков временного ряда."
   ]
  },
  {
   "cell_type": "code",
   "execution_count": 38,
   "metadata": {},
   "outputs": [],
   "source": [
    "def perebor(d, model, min_lag=1, max_lag=50, step_lag=10, min_rolling_mean_size=1, rolling_mean_size=50, step_rolling_mean_size=10):\n",
    "    best_rmse = -10\n",
    "    best_lag = 0\n",
    "    best_rol = 0\n",
    "    c = 0\n",
    "    lag_list = range(min_lag, max_lag, step_lag)\n",
    "    rolling_list = range(min_rolling_mean_size, rolling_mean_size, step_rolling_mean_size)\n",
    "    for l in lag_list:\n",
    "        for r in rolling_list:\n",
    "\n",
    "            print(f'Lag: {l}, Roll: {r}', end='\\r', flush=False)\n",
    "            d_1 = make_features(d, l, r)\n",
    "            \n",
    "            train, valid = train_test_split(d_1, shuffle=False, test_size=0.1)\n",
    "            \n",
    "            train = train.dropna()\n",
    "            train_x = train.drop('num_orders', axis=1)\n",
    "            train_y = train['num_orders']\n",
    "            \n",
    "            valid_x = valid.drop('num_orders', axis=1)\n",
    "            valid_y = valid['num_orders']\n",
    "            \n",
    "            model.fit(train_x, train_y)\n",
    "            pred = model.predict(valid_x)\n",
    "            rmse = mean_squared_error(valid_y, pred, squared=False)\n",
    "            \n",
    "            if best_rmse < -2:\n",
    "                #print('Первая итерация')\n",
    "                best_rmse = rmse\n",
    "                best_lag = l\n",
    "                best_rol = r\n",
    "            elif best_rmse > rmse:\n",
    "                    best_rmse = rmse\n",
    "                    best_lag = l\n",
    "                    best_rol = r\n",
    "    print(f'RMSE: {best_rmse}, best_lag: {best_lag}, best_rol: {best_rol}, model:{model}')\n",
    "    return best_rmse, best_lag, best_rol"
   ]
  },
  {
   "cell_type": "code",
   "execution_count": 41,
   "metadata": {},
   "outputs": [
    {
     "name": "stdout",
     "output_type": "stream",
     "text": [
      "Lag: 1, Roll: 1\r"
     ]
    },
    {
     "name": "stderr",
     "output_type": "stream",
     "text": [
      "Custom logger is already specified. Specify more than one logger at same time is not thread safe."
     ]
    },
    {
     "name": "stdout",
     "output_type": "stream",
     "text": [
      "RMSE: 30.692704438922533, best_lag: 41, best_rol: 11, model:Pipeline(steps=[('cat',\n",
      "                 <catboost.core.CatBoostRegressor object at 0x7f108704cd60>)])\n",
      "best_rmse: 30.692704438922533, best_lag: 41, best_rol: 11\n"
     ]
    }
   ],
   "source": [
    "returns = perebor(train_valid, results['CAT_BOOST'].best_estimator_)\n",
    "print(f\"best_rmse: {returns[0]}, best_lag: {returns[1]}, best_rol: {returns[2]}\")"
   ]
  },
  {
   "cell_type": "markdown",
   "metadata": {},
   "source": [
    "***Вывод***  \n",
    "Как видно из данных, приведенных выше, лучшимигиперпараметрами для модели CAT_BOOST являлись:  \n",
    "- best_lag: 41,\n",
    "- best_rol: 41.\n"
   ]
  },
  {
   "cell_type": "markdown",
   "metadata": {},
   "source": [
    "## Тестирование"
   ]
  },
  {
   "cell_type": "markdown",
   "metadata": {},
   "source": [
    "Проведем тестирование модели CAT_BOOST с наилучшими гиперпараметрами."
   ]
  },
  {
   "cell_type": "code",
   "execution_count": 42,
   "metadata": {},
   "outputs": [
    {
     "data": {
      "text/plain": [
       "43.09020564135432"
      ]
     },
     "execution_count": 42,
     "metadata": {},
     "output_type": "execute_result"
    }
   ],
   "source": [
    "#Тестируем модель CatBoost на датасет тест\n",
    "returns = [returns[0], 41, 41]\n",
    "\n",
    "best_model = results['CAT_BOOST'].best_estimator_\n",
    "\n",
    "train = train_valid\n",
    "\n",
    "train = make_features(train, returns[1], returns[2])\n",
    "test_line = make_features(test, returns[1], returns[2])\n",
    "\n",
    "train = train.dropna()\n",
    "train_x = train.drop('num_orders', axis=1)\n",
    "train_y = train['num_orders']\n",
    "           \n",
    "test_x = test_line.drop('num_orders', axis=1)\n",
    "test_y = test_line['num_orders']\n",
    "            \n",
    "best_model.fit(train_x, train_y)\n",
    "pred = best_model.predict(test_x)\n",
    "rmse = mean_squared_error(test_y, pred, squared=False)\n",
    "\n",
    "\n",
    "rmse"
   ]
  },
  {
   "attachments": {
    "image.png": {
     "image/png": "[encoded data removed]"
    }
   },
   "cell_type": "markdown",
   "metadata": {},
   "source": [
    "![image.png](attachment:image.png)"
   ]
  },
  {
   "cell_type": "code",
   "execution_count": 43,
   "metadata": {},
   "outputs": [
    {
     "data": {
      "text/plain": [
       "datetime\n",
       "2018-08-13 14:00:00    56.993703\n",
       "2018-08-13 15:00:00    75.548344\n",
       "2018-08-13 16:00:00    79.836838\n",
       "2018-08-13 17:00:00    92.683827\n",
       "2018-08-13 18:00:00    92.050060\n",
       "Freq: H, dtype: float64"
      ]
     },
     "execution_count": 43,
     "metadata": {},
     "output_type": "execute_result"
    }
   ],
   "source": [
    "#Выведем предсказания лучшей модели\n",
    "pred_1 = pd.Series(pred)\n",
    "pred_1.index = test_y.index\n",
    "pred_1.head()"
   ]
  },
  {
   "cell_type": "code",
   "execution_count": 44,
   "metadata": {
    "scrolled": true
   },
   "outputs": [
    {
     "data": {
      "text/plain": [
       "<matplotlib.legend.Legend at 0x7f1086d6afd0>"
      ]
     },
     "execution_count": 44,
     "metadata": {},
     "output_type": "execute_result"
    },
    {
     "data": {
      "image/png": "[encoded data removed]",
      "text/plain": [
       "<Figure size 432x288 with 1 Axes>"
      ]
     },
     "metadata": {
      "needs_background": "light"
     },
     "output_type": "display_data"
    }
   ],
   "source": [
    "#Построим график  факт/предсказанное для того, чтобы увидеть отличия предсказания модели\n",
    "# от фактического количества заказов такси\n",
    "import matplotlib.pyplot as plt\n",
    "fig, ax = plt.subplots()\n",
    "ax.plot(test_y['2018-08-24 00:00:00':'2018-08-26 23:59:59'], label = 'факт', color = 'g')\n",
    "ax.plot(pred_1['2018-08-24 00:00:00':'2018-08-26 23:59:59'], label = 'прогноз', color='b')\n",
    "plt.title('Результаты модели, 2 дня')\n",
    "plt.ylabel('Число заказов')\n",
    "plt.xlabel('Дата и время')\n",
    "ax.legend(fontsize = 6,\n",
    "          ncol = 6,    #  количество столбцов\n",
    "          facecolor = 'oldlace',    #  цвет области\n",
    "          edgecolor = 'r',    #  цвет крайней линии\n",
    "          title_fontsize = '6'    #  размер шрифта заголовка\n",
    "         )\n"
   ]
  },
  {
   "cell_type": "markdown",
   "metadata": {},
   "source": [
    "Как видно из графика, модель предсказывает более усредненные значения и не предсказывает отдельные очень большие пики."
   ]
  },
  {
   "cell_type": "markdown",
   "metadata": {},
   "source": [
    "***Вывод***  \n",
    "Исходя из вышеизложенного, построили модель для прогнозироания временных рядов, протестировали ее на тестовой выборке, и получили результат RMSE = 43.09020564135432, при этом, модель предсказывает более усредненные значения и не предсказывает одельные очень большие пики."
   ]
  }
 ],
 "metadata": {
  "ExecuteTimeLog": [
   {
    "duration": 46,
    "start_time": "2022-07-13T06:06:00.275Z"
   },
   {
    "duration": 6,
    "start_time": "2022-07-13T06:06:04.404Z"
   },
   {
    "duration": 2230,
    "start_time": "2022-07-13T06:06:10.150Z"
   },
   {
    "duration": 144,
    "start_time": "2022-07-13T06:06:12.761Z"
   },
   {
    "duration": 71,
    "start_time": "2022-07-13T06:06:34.054Z"
   },
   {
    "duration": 7,
    "start_time": "2022-07-13T06:20:40.166Z"
   },
   {
    "duration": 69,
    "start_time": "2022-07-13T06:20:40.175Z"
   },
   {
    "duration": 98,
    "start_time": "2022-07-13T06:20:40.246Z"
   },
   {
    "duration": 5,
    "start_time": "2022-07-13T06:20:54.598Z"
   },
   {
    "duration": 68,
    "start_time": "2022-07-13T06:20:55.170Z"
   },
   {
    "duration": 19,
    "start_time": "2022-07-13T06:20:57.523Z"
   },
   {
    "duration": 8,
    "start_time": "2022-07-13T06:27:31.063Z"
   },
   {
    "duration": 176,
    "start_time": "2022-07-13T06:27:31.073Z"
   },
   {
    "duration": 48,
    "start_time": "2022-07-13T06:27:31.251Z"
   },
   {
    "duration": 25,
    "start_time": "2022-07-13T06:27:31.300Z"
   },
   {
    "duration": 12,
    "start_time": "2022-07-13T06:28:25.676Z"
   },
   {
    "duration": 6,
    "start_time": "2022-07-13T06:28:47.212Z"
   },
   {
    "duration": 11,
    "start_time": "2022-07-13T06:36:32.498Z"
   },
   {
    "duration": 11,
    "start_time": "2022-07-13T06:36:42.421Z"
   },
   {
    "duration": 3098,
    "start_time": "2022-07-13T06:37:30.809Z"
   },
   {
    "duration": 4,
    "start_time": "2022-07-13T06:39:11.614Z"
   },
   {
    "duration": 252,
    "start_time": "2022-07-13T06:40:59.109Z"
   },
   {
    "duration": 237,
    "start_time": "2022-07-13T06:42:51.900Z"
   },
   {
    "duration": 32,
    "start_time": "2022-07-13T06:45:00.081Z"
   },
   {
    "duration": 22,
    "start_time": "2022-07-13T06:46:39.467Z"
   },
   {
    "duration": 5,
    "start_time": "2022-07-13T06:46:59.966Z"
   },
   {
    "duration": 68,
    "start_time": "2022-07-13T06:46:59.976Z"
   },
   {
    "duration": 7,
    "start_time": "2022-07-13T06:47:00.046Z"
   },
   {
    "duration": 21,
    "start_time": "2022-07-13T06:47:00.054Z"
   },
   {
    "duration": 18,
    "start_time": "2022-07-13T06:47:00.077Z"
   },
   {
    "duration": 14,
    "start_time": "2022-07-13T06:47:00.097Z"
   },
   {
    "duration": 3075,
    "start_time": "2022-07-13T06:47:00.113Z"
   },
   {
    "duration": 209,
    "start_time": "2022-07-13T06:47:03.190Z"
   },
   {
    "duration": 247,
    "start_time": "2022-07-13T06:47:03.400Z"
   },
   {
    "duration": 12,
    "start_time": "2022-07-13T06:47:03.649Z"
   },
   {
    "duration": 0,
    "start_time": "2022-07-13T06:47:03.662Z"
   },
   {
    "duration": 0,
    "start_time": "2022-07-13T06:47:03.663Z"
   },
   {
    "duration": 7,
    "start_time": "2022-07-13T06:50:22.065Z"
   },
   {
    "duration": 87,
    "start_time": "2022-07-13T06:50:22.074Z"
   },
   {
    "duration": 6,
    "start_time": "2022-07-13T06:50:22.163Z"
   },
   {
    "duration": 29,
    "start_time": "2022-07-13T06:50:22.170Z"
   },
   {
    "duration": 10,
    "start_time": "2022-07-13T06:50:22.201Z"
   },
   {
    "duration": 26,
    "start_time": "2022-07-13T06:50:22.212Z"
   },
   {
    "duration": 3267,
    "start_time": "2022-07-13T06:50:22.240Z"
   },
   {
    "duration": 218,
    "start_time": "2022-07-13T06:50:25.509Z"
   },
   {
    "duration": 237,
    "start_time": "2022-07-13T06:50:25.729Z"
   },
   {
    "duration": 6,
    "start_time": "2022-07-13T06:50:58.964Z"
   },
   {
    "duration": 89,
    "start_time": "2022-07-13T06:50:58.972Z"
   },
   {
    "duration": 7,
    "start_time": "2022-07-13T06:50:59.063Z"
   },
   {
    "duration": 30,
    "start_time": "2022-07-13T06:50:59.072Z"
   },
   {
    "duration": 18,
    "start_time": "2022-07-13T06:50:59.104Z"
   },
   {
    "duration": 21,
    "start_time": "2022-07-13T06:50:59.124Z"
   },
   {
    "duration": 3242,
    "start_time": "2022-07-13T06:50:59.147Z"
   },
   {
    "duration": 213,
    "start_time": "2022-07-13T06:51:02.391Z"
   },
   {
    "duration": 3,
    "start_time": "2022-07-13T06:51:02.606Z"
   },
   {
    "duration": 709,
    "start_time": "2022-07-13T06:51:06.425Z"
   },
   {
    "duration": 128,
    "start_time": "2022-07-13T06:54:53.282Z"
   },
   {
    "duration": 685,
    "start_time": "2022-07-13T06:55:31.279Z"
   },
   {
    "duration": 6,
    "start_time": "2022-07-13T07:07:27.611Z"
   },
   {
    "duration": 114,
    "start_time": "2022-07-13T07:07:27.620Z"
   },
   {
    "duration": 7,
    "start_time": "2022-07-13T07:07:27.735Z"
   },
   {
    "duration": 15,
    "start_time": "2022-07-13T07:07:27.744Z"
   },
   {
    "duration": 6,
    "start_time": "2022-07-13T07:07:27.762Z"
   },
   {
    "duration": 8,
    "start_time": "2022-07-13T07:07:27.770Z"
   },
   {
    "duration": 3290,
    "start_time": "2022-07-13T07:07:27.780Z"
   },
   {
    "duration": 233,
    "start_time": "2022-07-13T07:07:31.072Z"
   },
   {
    "duration": 3,
    "start_time": "2022-07-13T07:07:31.307Z"
   },
   {
    "duration": 764,
    "start_time": "2022-07-13T07:07:31.311Z"
   },
   {
    "duration": 7,
    "start_time": "2022-07-13T07:07:32.077Z"
   },
   {
    "duration": 91,
    "start_time": "2022-07-13T07:07:32.085Z"
   },
   {
    "duration": 6,
    "start_time": "2022-07-13T07:08:37.381Z"
   },
   {
    "duration": 4,
    "start_time": "2022-07-13T07:08:50.365Z"
   },
   {
    "duration": 6,
    "start_time": "2022-07-13T07:14:26.859Z"
   },
   {
    "duration": 90,
    "start_time": "2022-07-13T07:14:26.867Z"
   },
   {
    "duration": 11,
    "start_time": "2022-07-13T07:14:26.959Z"
   },
   {
    "duration": 8,
    "start_time": "2022-07-13T07:14:26.972Z"
   },
   {
    "duration": 16,
    "start_time": "2022-07-13T07:14:26.982Z"
   },
   {
    "duration": 8,
    "start_time": "2022-07-13T07:14:27.000Z"
   },
   {
    "duration": 9,
    "start_time": "2022-07-13T07:14:27.010Z"
   },
   {
    "duration": 240,
    "start_time": "2022-07-13T07:24:56.456Z"
   },
   {
    "duration": 53,
    "start_time": "2022-07-13T07:28:08.225Z"
   },
   {
    "duration": 239,
    "start_time": "2022-07-13T07:34:11.268Z"
   },
   {
    "duration": 835,
    "start_time": "2022-07-13T07:40:40.068Z"
   },
   {
    "duration": 497,
    "start_time": "2022-07-13T07:41:39.073Z"
   },
   {
    "duration": 399,
    "start_time": "2022-07-13T07:42:09.660Z"
   },
   {
    "duration": 566,
    "start_time": "2022-07-13T07:43:05.068Z"
   },
   {
    "duration": 498,
    "start_time": "2022-07-13T07:44:13.876Z"
   },
   {
    "duration": 485,
    "start_time": "2022-07-13T07:44:39.660Z"
   },
   {
    "duration": 510,
    "start_time": "2022-07-13T07:46:53.763Z"
   },
   {
    "duration": 470,
    "start_time": "2022-07-13T07:47:27.306Z"
   },
   {
    "duration": 483,
    "start_time": "2022-07-13T07:48:13.874Z"
   },
   {
    "duration": 468,
    "start_time": "2022-07-13T07:50:49.468Z"
   },
   {
    "duration": 460,
    "start_time": "2022-07-13T07:52:36.853Z"
   },
   {
    "duration": 480,
    "start_time": "2022-07-13T07:53:42.367Z"
   },
   {
    "duration": 3,
    "start_time": "2022-07-13T07:57:14.785Z"
   },
   {
    "duration": 236,
    "start_time": "2022-07-13T07:57:22.887Z"
   },
   {
    "duration": 4,
    "start_time": "2022-07-13T08:00:19.772Z"
   },
   {
    "duration": 48,
    "start_time": "2022-07-13T08:11:50.276Z"
   },
   {
    "duration": 62,
    "start_time": "2022-07-13T08:11:55.957Z"
   },
   {
    "duration": 4,
    "start_time": "2022-07-13T08:12:07.513Z"
   },
   {
    "duration": 485,
    "start_time": "2022-07-13T08:12:23.621Z"
   },
   {
    "duration": 2,
    "start_time": "2022-07-13T08:12:52.598Z"
   },
   {
    "duration": 23,
    "start_time": "2022-07-13T08:30:12.256Z"
   },
   {
    "duration": 133,
    "start_time": "2022-07-13T08:30:12.288Z"
   },
   {
    "duration": 9,
    "start_time": "2022-07-13T08:30:12.423Z"
   },
   {
    "duration": 7,
    "start_time": "2022-07-13T08:30:12.434Z"
   },
   {
    "duration": 10,
    "start_time": "2022-07-13T08:30:12.443Z"
   },
   {
    "duration": 7,
    "start_time": "2022-07-13T08:30:12.456Z"
   },
   {
    "duration": 6,
    "start_time": "2022-07-13T08:30:12.464Z"
   },
   {
    "duration": 7,
    "start_time": "2022-07-13T08:30:12.471Z"
   },
   {
    "duration": 32,
    "start_time": "2022-07-13T08:30:12.479Z"
   },
   {
    "duration": 3488,
    "start_time": "2022-07-13T08:30:12.513Z"
   },
   {
    "duration": 256,
    "start_time": "2022-07-13T08:30:16.004Z"
   },
   {
    "duration": 269,
    "start_time": "2022-07-13T08:30:16.263Z"
   },
   {
    "duration": 471,
    "start_time": "2022-07-13T08:30:16.533Z"
   },
   {
    "duration": 492,
    "start_time": "2022-07-13T08:30:17.006Z"
   },
   {
    "duration": 4,
    "start_time": "2022-07-13T08:30:17.501Z"
   },
   {
    "duration": 215,
    "start_time": "2022-07-13T08:30:17.506Z"
   },
   {
    "duration": 72,
    "start_time": "2022-07-13T08:30:17.722Z"
   },
   {
    "duration": 0,
    "start_time": "2022-07-13T08:30:17.796Z"
   },
   {
    "duration": 0,
    "start_time": "2022-07-13T08:30:17.798Z"
   },
   {
    "duration": 0,
    "start_time": "2022-07-13T08:30:17.799Z"
   },
   {
    "duration": 0,
    "start_time": "2022-07-13T08:30:17.801Z"
   },
   {
    "duration": 1,
    "start_time": "2022-07-13T08:30:17.802Z"
   },
   {
    "duration": 0,
    "start_time": "2022-07-13T08:30:17.804Z"
   },
   {
    "duration": 0,
    "start_time": "2022-07-13T08:30:17.805Z"
   },
   {
    "duration": 0,
    "start_time": "2022-07-13T08:30:17.807Z"
   },
   {
    "duration": 0,
    "start_time": "2022-07-13T08:30:17.809Z"
   },
   {
    "duration": 4,
    "start_time": "2022-07-13T08:30:44.904Z"
   },
   {
    "duration": 4,
    "start_time": "2022-07-13T08:30:44.915Z"
   },
   {
    "duration": 11,
    "start_time": "2022-07-13T08:30:44.921Z"
   },
   {
    "duration": 13,
    "start_time": "2022-07-13T08:30:44.934Z"
   },
   {
    "duration": 8,
    "start_time": "2022-07-13T08:30:44.948Z"
   },
   {
    "duration": 17,
    "start_time": "2022-07-13T08:30:44.958Z"
   },
   {
    "duration": 0,
    "start_time": "2022-07-13T08:30:44.977Z"
   },
   {
    "duration": 0,
    "start_time": "2022-07-13T08:30:44.979Z"
   },
   {
    "duration": 0,
    "start_time": "2022-07-13T08:30:44.980Z"
   },
   {
    "duration": 6,
    "start_time": "2022-07-13T08:31:07.960Z"
   },
   {
    "duration": 3,
    "start_time": "2022-07-13T08:31:11.774Z"
   },
   {
    "duration": 3,
    "start_time": "2022-07-13T08:31:13.076Z"
   },
   {
    "duration": 3,
    "start_time": "2022-07-13T08:31:14.793Z"
   },
   {
    "duration": 35,
    "start_time": "2022-07-13T08:31:43.860Z"
   },
   {
    "duration": 11,
    "start_time": "2022-07-13T08:33:27.988Z"
   },
   {
    "duration": 11,
    "start_time": "2022-07-13T08:34:08.613Z"
   },
   {
    "duration": 19,
    "start_time": "2022-07-13T08:34:12.972Z"
   },
   {
    "duration": 2,
    "start_time": "2022-07-13T08:34:57.760Z"
   },
   {
    "duration": 7,
    "start_time": "2022-07-13T08:35:11.279Z"
   },
   {
    "duration": 2,
    "start_time": "2022-07-13T08:35:17.593Z"
   },
   {
    "duration": 3,
    "start_time": "2022-07-13T08:35:18.321Z"
   },
   {
    "duration": 6,
    "start_time": "2022-07-13T08:35:19.167Z"
   },
   {
    "duration": 3,
    "start_time": "2022-07-13T08:35:20.381Z"
   },
   {
    "duration": 3,
    "start_time": "2022-07-13T08:35:21.160Z"
   },
   {
    "duration": 14013,
    "start_time": "2022-07-13T08:35:22.168Z"
   },
   {
    "duration": 7,
    "start_time": "2022-07-13T09:30:45.789Z"
   },
   {
    "duration": 14,
    "start_time": "2022-07-13T09:30:58.376Z"
   },
   {
    "duration": 9,
    "start_time": "2022-07-13T09:31:09.598Z"
   },
   {
    "duration": 8,
    "start_time": "2022-07-13T09:31:17.189Z"
   },
   {
    "duration": 2212,
    "start_time": "2022-07-13T12:56:18.992Z"
   },
   {
    "duration": 98,
    "start_time": "2022-07-13T12:56:21.206Z"
   },
   {
    "duration": 10,
    "start_time": "2022-07-13T12:56:21.305Z"
   },
   {
    "duration": 15,
    "start_time": "2022-07-13T12:56:21.317Z"
   },
   {
    "duration": 26,
    "start_time": "2022-07-13T12:56:21.334Z"
   },
   {
    "duration": 13,
    "start_time": "2022-07-13T12:56:21.362Z"
   },
   {
    "duration": 37,
    "start_time": "2022-07-13T12:56:21.376Z"
   },
   {
    "duration": 23,
    "start_time": "2022-07-13T12:56:21.415Z"
   },
   {
    "duration": 48,
    "start_time": "2022-07-13T12:56:21.441Z"
   },
   {
    "duration": 3213,
    "start_time": "2022-07-13T12:56:21.491Z"
   },
   {
    "duration": 227,
    "start_time": "2022-07-13T12:56:24.708Z"
   },
   {
    "duration": 242,
    "start_time": "2022-07-13T12:56:24.937Z"
   },
   {
    "duration": 555,
    "start_time": "2022-07-13T12:56:25.181Z"
   },
   {
    "duration": 582,
    "start_time": "2022-07-13T12:56:25.739Z"
   },
   {
    "duration": 4,
    "start_time": "2022-07-13T12:56:26.322Z"
   },
   {
    "duration": 221,
    "start_time": "2022-07-13T12:56:26.327Z"
   },
   {
    "duration": 4,
    "start_time": "2022-07-13T12:56:26.549Z"
   },
   {
    "duration": 7,
    "start_time": "2022-07-13T12:56:30.788Z"
   },
   {
    "duration": 146,
    "start_time": "2022-07-13T12:57:23.847Z"
   },
   {
    "duration": 4,
    "start_time": "2022-07-13T12:57:50.391Z"
   },
   {
    "duration": 50,
    "start_time": "2022-07-13T12:57:52.455Z"
   },
   {
    "duration": 37,
    "start_time": "2022-07-13T12:58:16.708Z"
   },
   {
    "duration": 12,
    "start_time": "2022-07-13T12:58:29.599Z"
   },
   {
    "duration": 8,
    "start_time": "2022-07-13T12:58:31.152Z"
   },
   {
    "duration": 7,
    "start_time": "2022-07-13T12:58:34.740Z"
   },
   {
    "duration": 3,
    "start_time": "2022-07-13T12:58:35.803Z"
   },
   {
    "duration": 6,
    "start_time": "2022-07-13T12:58:36.591Z"
   },
   {
    "duration": 3,
    "start_time": "2022-07-13T12:58:37.743Z"
   },
   {
    "duration": 3,
    "start_time": "2022-07-13T12:58:38.469Z"
   },
   {
    "duration": 1261848,
    "start_time": "2022-07-13T12:58:40.088Z"
   },
   {
    "duration": 6,
    "start_time": "2022-07-13T13:19:41.938Z"
   },
   {
    "duration": 9,
    "start_time": "2022-07-13T13:19:41.946Z"
   },
   {
    "duration": 19,
    "start_time": "2022-07-13T13:19:51.855Z"
   },
   {
    "duration": 17,
    "start_time": "2022-07-13T13:20:18.118Z"
   },
   {
    "duration": 13,
    "start_time": "2022-07-13T13:21:02.183Z"
   },
   {
    "duration": 7,
    "start_time": "2022-07-13T13:21:28.004Z"
   },
   {
    "duration": 15,
    "start_time": "2022-07-13T13:21:36.093Z"
   },
   {
    "duration": 16,
    "start_time": "2022-07-13T13:22:12.015Z"
   },
   {
    "duration": 159,
    "start_time": "2022-07-13T13:22:23.835Z"
   },
   {
    "duration": 30,
    "start_time": "2022-07-13T13:24:34.692Z"
   },
   {
    "duration": 24,
    "start_time": "2022-07-13T13:24:41.163Z"
   },
   {
    "duration": 8,
    "start_time": "2022-07-13T13:38:06.440Z"
   },
   {
    "duration": 5,
    "start_time": "2022-07-13T13:38:10.306Z"
   },
   {
    "duration": 6,
    "start_time": "2022-07-13T13:38:29.028Z"
   },
   {
    "duration": 5,
    "start_time": "2022-07-13T13:38:30.249Z"
   },
   {
    "duration": 6,
    "start_time": "2022-07-13T13:40:15.266Z"
   },
   {
    "duration": 5,
    "start_time": "2022-07-13T13:40:16.168Z"
   },
   {
    "duration": 7,
    "start_time": "2022-07-13T13:44:03.951Z"
   },
   {
    "duration": 70,
    "start_time": "2022-07-13T13:44:03.960Z"
   },
   {
    "duration": 6,
    "start_time": "2022-07-13T13:44:04.032Z"
   },
   {
    "duration": 12,
    "start_time": "2022-07-13T13:44:04.040Z"
   },
   {
    "duration": 17,
    "start_time": "2022-07-13T13:44:04.053Z"
   },
   {
    "duration": 18,
    "start_time": "2022-07-13T13:44:04.071Z"
   },
   {
    "duration": 29,
    "start_time": "2022-07-13T13:44:04.091Z"
   },
   {
    "duration": 29,
    "start_time": "2022-07-13T13:44:04.121Z"
   },
   {
    "duration": 11,
    "start_time": "2022-07-13T13:44:04.152Z"
   },
   {
    "duration": 12,
    "start_time": "2022-07-13T13:44:04.164Z"
   },
   {
    "duration": 8,
    "start_time": "2022-07-13T13:44:04.177Z"
   },
   {
    "duration": 8,
    "start_time": "2022-07-13T13:44:04.186Z"
   },
   {
    "duration": 3058,
    "start_time": "2022-07-13T13:44:04.195Z"
   },
   {
    "duration": 217,
    "start_time": "2022-07-13T13:44:07.254Z"
   },
   {
    "duration": 236,
    "start_time": "2022-07-13T13:44:07.473Z"
   },
   {
    "duration": 457,
    "start_time": "2022-07-13T13:44:07.711Z"
   },
   {
    "duration": 432,
    "start_time": "2022-07-13T13:44:08.169Z"
   },
   {
    "duration": 10,
    "start_time": "2022-07-13T13:44:08.602Z"
   },
   {
    "duration": 217,
    "start_time": "2022-07-13T13:44:08.613Z"
   },
   {
    "duration": 5,
    "start_time": "2022-07-13T13:44:08.831Z"
   },
   {
    "duration": 38,
    "start_time": "2022-07-13T13:44:08.838Z"
   },
   {
    "duration": 10,
    "start_time": "2022-07-13T13:44:08.878Z"
   },
   {
    "duration": 27,
    "start_time": "2022-07-13T13:44:08.889Z"
   },
   {
    "duration": 5,
    "start_time": "2022-07-13T13:44:08.920Z"
   },
   {
    "duration": 19,
    "start_time": "2022-07-13T13:44:08.927Z"
   },
   {
    "duration": 11,
    "start_time": "2022-07-13T13:44:08.948Z"
   },
   {
    "duration": 5,
    "start_time": "2022-07-13T13:44:08.961Z"
   },
   {
    "duration": 11,
    "start_time": "2022-07-13T13:44:08.968Z"
   },
   {
    "duration": 9,
    "start_time": "2022-07-13T13:44:08.981Z"
   },
   {
    "duration": 6,
    "start_time": "2022-07-13T13:44:08.992Z"
   },
   {
    "duration": 7,
    "start_time": "2022-07-13T13:44:09.000Z"
   },
   {
    "duration": 440,
    "start_time": "2022-07-13T13:44:09.008Z"
   },
   {
    "duration": 0,
    "start_time": "2022-07-13T13:44:09.449Z"
   },
   {
    "duration": 0,
    "start_time": "2022-07-13T13:44:09.451Z"
   },
   {
    "duration": 74675,
    "start_time": "2022-07-13T13:45:26.234Z"
   },
   {
    "duration": 60,
    "start_time": "2022-07-13T13:54:41.209Z"
   },
   {
    "duration": 33,
    "start_time": "2022-07-13T13:54:45.567Z"
   },
   {
    "duration": 38,
    "start_time": "2022-07-13T13:55:16.148Z"
   },
   {
    "duration": 29,
    "start_time": "2022-07-13T13:55:25.789Z"
   },
   {
    "duration": 11,
    "start_time": "2022-07-13T13:56:15.937Z"
   },
   {
    "duration": 16,
    "start_time": "2022-07-13T13:56:51.600Z"
   },
   {
    "duration": 6,
    "start_time": "2022-07-13T13:57:04.870Z"
   },
   {
    "duration": 7,
    "start_time": "2022-07-13T13:58:02.432Z"
   },
   {
    "duration": 89,
    "start_time": "2022-07-13T13:58:04.624Z"
   },
   {
    "duration": 7,
    "start_time": "2022-07-13T13:58:04.715Z"
   },
   {
    "duration": 1988,
    "start_time": "2022-07-13T13:58:51.161Z"
   },
   {
    "duration": 81,
    "start_time": "2022-07-13T13:58:53.151Z"
   },
   {
    "duration": 7,
    "start_time": "2022-07-13T13:58:53.233Z"
   },
   {
    "duration": 11,
    "start_time": "2022-07-13T13:58:53.241Z"
   },
   {
    "duration": 11,
    "start_time": "2022-07-13T13:58:53.254Z"
   },
   {
    "duration": 10,
    "start_time": "2022-07-13T13:58:53.267Z"
   },
   {
    "duration": 32,
    "start_time": "2022-07-13T13:58:53.279Z"
   },
   {
    "duration": 10,
    "start_time": "2022-07-13T13:58:53.313Z"
   },
   {
    "duration": 5,
    "start_time": "2022-07-13T13:58:53.325Z"
   },
   {
    "duration": 6,
    "start_time": "2022-07-13T13:58:53.332Z"
   },
   {
    "duration": 13,
    "start_time": "2022-07-13T13:58:53.339Z"
   },
   {
    "duration": 5,
    "start_time": "2022-07-13T13:59:36.419Z"
   },
   {
    "duration": 4,
    "start_time": "2022-07-13T13:59:37.502Z"
   },
   {
    "duration": 3036,
    "start_time": "2022-07-13T13:59:42.540Z"
   },
   {
    "duration": 213,
    "start_time": "2022-07-13T13:59:45.578Z"
   },
   {
    "duration": 235,
    "start_time": "2022-07-13T13:59:53.973Z"
   },
   {
    "duration": 487,
    "start_time": "2022-07-13T13:59:58.281Z"
   },
   {
    "duration": 599,
    "start_time": "2022-07-13T14:00:20.739Z"
   },
   {
    "duration": 4,
    "start_time": "2022-07-13T14:00:26.382Z"
   },
   {
    "duration": 213,
    "start_time": "2022-07-13T14:00:27.510Z"
   },
   {
    "duration": 4,
    "start_time": "2022-07-13T14:00:29.947Z"
   },
   {
    "duration": 35,
    "start_time": "2022-07-13T14:00:33.056Z"
   },
   {
    "duration": 8,
    "start_time": "2022-07-13T14:01:12.258Z"
   },
   {
    "duration": 156,
    "start_time": "2022-07-13T14:01:46.980Z"
   },
   {
    "duration": 6,
    "start_time": "2022-07-13T14:02:17.721Z"
   },
   {
    "duration": 87,
    "start_time": "2022-07-13T14:02:17.729Z"
   },
   {
    "duration": 7,
    "start_time": "2022-07-13T14:02:17.817Z"
   },
   {
    "duration": 38,
    "start_time": "2022-07-13T14:02:17.826Z"
   },
   {
    "duration": 42,
    "start_time": "2022-07-13T14:02:17.866Z"
   },
   {
    "duration": 25,
    "start_time": "2022-07-13T14:02:17.910Z"
   },
   {
    "duration": 26,
    "start_time": "2022-07-13T14:02:17.937Z"
   },
   {
    "duration": 55,
    "start_time": "2022-07-13T14:02:17.965Z"
   },
   {
    "duration": 30,
    "start_time": "2022-07-13T14:02:18.023Z"
   },
   {
    "duration": 13,
    "start_time": "2022-07-13T14:02:18.055Z"
   },
   {
    "duration": 37,
    "start_time": "2022-07-13T14:02:18.070Z"
   },
   {
    "duration": 27,
    "start_time": "2022-07-13T14:02:18.108Z"
   },
   {
    "duration": 24,
    "start_time": "2022-07-13T14:02:18.137Z"
   },
   {
    "duration": 3146,
    "start_time": "2022-07-13T14:02:18.163Z"
   },
   {
    "duration": 429,
    "start_time": "2022-07-13T14:02:21.311Z"
   },
   {
    "duration": 238,
    "start_time": "2022-07-13T14:02:21.741Z"
   },
   {
    "duration": 490,
    "start_time": "2022-07-13T14:02:21.980Z"
   },
   {
    "duration": 532,
    "start_time": "2022-07-13T14:02:22.474Z"
   },
   {
    "duration": 3,
    "start_time": "2022-07-13T14:02:23.010Z"
   },
   {
    "duration": 242,
    "start_time": "2022-07-13T14:02:23.015Z"
   },
   {
    "duration": 7,
    "start_time": "2022-07-13T14:02:23.258Z"
   },
   {
    "duration": 40,
    "start_time": "2022-07-13T14:02:23.267Z"
   },
   {
    "duration": 63,
    "start_time": "2022-07-13T14:02:23.309Z"
   },
   {
    "duration": 6,
    "start_time": "2022-07-13T14:02:23.374Z"
   },
   {
    "duration": 6,
    "start_time": "2022-07-13T14:03:13.203Z"
   },
   {
    "duration": 72,
    "start_time": "2022-07-13T14:03:13.211Z"
   },
   {
    "duration": 6,
    "start_time": "2022-07-13T14:03:13.284Z"
   },
   {
    "duration": 11,
    "start_time": "2022-07-13T14:03:13.291Z"
   },
   {
    "duration": 15,
    "start_time": "2022-07-13T14:03:13.304Z"
   },
   {
    "duration": 19,
    "start_time": "2022-07-13T14:03:13.321Z"
   },
   {
    "duration": 15,
    "start_time": "2022-07-13T14:03:13.342Z"
   },
   {
    "duration": 7,
    "start_time": "2022-07-13T14:03:13.359Z"
   },
   {
    "duration": 10,
    "start_time": "2022-07-13T14:03:13.368Z"
   },
   {
    "duration": 13,
    "start_time": "2022-07-13T14:03:13.380Z"
   },
   {
    "duration": 25,
    "start_time": "2022-07-13T14:03:13.397Z"
   },
   {
    "duration": 8,
    "start_time": "2022-07-13T14:03:13.424Z"
   },
   {
    "duration": 8,
    "start_time": "2022-07-13T14:03:13.434Z"
   },
   {
    "duration": 11,
    "start_time": "2022-07-13T14:03:13.444Z"
   },
   {
    "duration": 3220,
    "start_time": "2022-07-13T14:03:13.456Z"
   },
   {
    "duration": 218,
    "start_time": "2022-07-13T14:03:16.678Z"
   },
   {
    "duration": 252,
    "start_time": "2022-07-13T14:03:16.898Z"
   },
   {
    "duration": 472,
    "start_time": "2022-07-13T14:03:17.152Z"
   },
   {
    "duration": 491,
    "start_time": "2022-07-13T14:03:17.625Z"
   },
   {
    "duration": 4,
    "start_time": "2022-07-13T14:03:18.118Z"
   },
   {
    "duration": 234,
    "start_time": "2022-07-13T14:03:18.124Z"
   },
   {
    "duration": 6,
    "start_time": "2022-07-13T14:03:18.359Z"
   },
   {
    "duration": 24,
    "start_time": "2022-07-13T14:03:18.366Z"
   },
   {
    "duration": 47,
    "start_time": "2022-07-13T14:03:18.392Z"
   },
   {
    "duration": 7,
    "start_time": "2022-07-13T14:03:18.441Z"
   },
   {
    "duration": 6,
    "start_time": "2022-07-13T14:09:29.568Z"
   },
   {
    "duration": 70,
    "start_time": "2022-07-13T14:09:29.577Z"
   },
   {
    "duration": 6,
    "start_time": "2022-07-13T14:09:29.649Z"
   },
   {
    "duration": 12,
    "start_time": "2022-07-13T14:09:29.657Z"
   },
   {
    "duration": 11,
    "start_time": "2022-07-13T14:09:29.671Z"
   },
   {
    "duration": 10,
    "start_time": "2022-07-13T14:09:29.684Z"
   },
   {
    "duration": 7,
    "start_time": "2022-07-13T14:09:29.709Z"
   },
   {
    "duration": 7,
    "start_time": "2022-07-13T14:09:29.718Z"
   },
   {
    "duration": 11,
    "start_time": "2022-07-13T14:09:29.727Z"
   },
   {
    "duration": 7,
    "start_time": "2022-07-13T14:09:29.739Z"
   },
   {
    "duration": 12,
    "start_time": "2022-07-13T14:09:29.748Z"
   },
   {
    "duration": 13,
    "start_time": "2022-07-13T14:09:29.762Z"
   },
   {
    "duration": 5,
    "start_time": "2022-07-13T14:09:29.776Z"
   },
   {
    "duration": 27,
    "start_time": "2022-07-13T14:09:29.784Z"
   },
   {
    "duration": 3355,
    "start_time": "2022-07-13T14:09:29.813Z"
   },
   {
    "duration": 227,
    "start_time": "2022-07-13T14:09:33.169Z"
   },
   {
    "duration": 248,
    "start_time": "2022-07-13T14:09:33.398Z"
   },
   {
    "duration": 6,
    "start_time": "2022-07-13T14:09:33.648Z"
   },
   {
    "duration": 487,
    "start_time": "2022-07-13T14:09:33.656Z"
   },
   {
    "duration": 492,
    "start_time": "2022-07-13T14:09:34.145Z"
   },
   {
    "duration": 6,
    "start_time": "2022-07-13T14:09:34.639Z"
   },
   {
    "duration": 10,
    "start_time": "2022-07-13T14:09:34.646Z"
   },
   {
    "duration": 421,
    "start_time": "2022-07-13T14:09:34.657Z"
   },
   {
    "duration": 6,
    "start_time": "2022-07-13T14:09:35.079Z"
   },
   {
    "duration": 34,
    "start_time": "2022-07-13T14:09:35.087Z"
   },
   {
    "duration": 47,
    "start_time": "2022-07-13T14:09:35.123Z"
   },
   {
    "duration": 5,
    "start_time": "2022-07-13T14:09:35.172Z"
   },
   {
    "duration": 7,
    "start_time": "2022-07-13T14:10:53.305Z"
   },
   {
    "duration": 77,
    "start_time": "2022-07-13T14:10:53.315Z"
   },
   {
    "duration": 15,
    "start_time": "2022-07-13T14:10:53.393Z"
   },
   {
    "duration": 15,
    "start_time": "2022-07-13T14:10:53.410Z"
   },
   {
    "duration": 12,
    "start_time": "2022-07-13T14:10:53.428Z"
   },
   {
    "duration": 12,
    "start_time": "2022-07-13T14:10:53.442Z"
   },
   {
    "duration": 13,
    "start_time": "2022-07-13T14:10:53.456Z"
   },
   {
    "duration": 9,
    "start_time": "2022-07-13T14:10:53.470Z"
   },
   {
    "duration": 13,
    "start_time": "2022-07-13T14:10:53.481Z"
   },
   {
    "duration": 14,
    "start_time": "2022-07-13T14:10:53.496Z"
   },
   {
    "duration": 11,
    "start_time": "2022-07-13T14:10:53.512Z"
   },
   {
    "duration": 9,
    "start_time": "2022-07-13T14:10:53.524Z"
   },
   {
    "duration": 5,
    "start_time": "2022-07-13T14:10:53.535Z"
   },
   {
    "duration": 6,
    "start_time": "2022-07-13T14:10:53.543Z"
   },
   {
    "duration": 3083,
    "start_time": "2022-07-13T14:10:53.551Z"
   },
   {
    "duration": 228,
    "start_time": "2022-07-13T14:10:56.636Z"
   },
   {
    "duration": 244,
    "start_time": "2022-07-13T14:10:56.865Z"
   },
   {
    "duration": 6,
    "start_time": "2022-07-13T14:10:57.111Z"
   },
   {
    "duration": 468,
    "start_time": "2022-07-13T14:10:57.119Z"
   },
   {
    "duration": 494,
    "start_time": "2022-07-13T14:10:57.589Z"
   },
   {
    "duration": 5,
    "start_time": "2022-07-13T14:10:58.085Z"
   },
   {
    "duration": 4,
    "start_time": "2022-07-13T14:10:58.091Z"
   },
   {
    "duration": 2,
    "start_time": "2022-07-13T14:10:58.109Z"
   },
   {
    "duration": 13,
    "start_time": "2022-07-13T14:10:58.113Z"
   },
   {
    "duration": 4,
    "start_time": "2022-07-13T14:10:58.128Z"
   },
   {
    "duration": 37,
    "start_time": "2022-07-13T14:10:58.135Z"
   },
   {
    "duration": 5,
    "start_time": "2022-07-13T14:10:58.173Z"
   },
   {
    "duration": 8,
    "start_time": "2022-07-13T14:11:12.616Z"
   },
   {
    "duration": 7,
    "start_time": "2022-07-13T14:11:13.173Z"
   },
   {
    "duration": 2,
    "start_time": "2022-07-13T14:11:13.636Z"
   },
   {
    "duration": 3,
    "start_time": "2022-07-13T14:11:14.149Z"
   },
   {
    "duration": 6,
    "start_time": "2022-07-13T14:11:15.704Z"
   },
   {
    "duration": 3,
    "start_time": "2022-07-13T14:11:16.596Z"
   },
   {
    "duration": 4,
    "start_time": "2022-07-13T14:11:17.147Z"
   },
   {
    "duration": 79045,
    "start_time": "2022-07-13T14:11:18.909Z"
   },
   {
    "duration": 65,
    "start_time": "2022-07-13T14:12:37.957Z"
   },
   {
    "duration": 159,
    "start_time": "2022-07-13T14:12:38.024Z"
   },
   {
    "duration": 43,
    "start_time": "2022-07-13T20:19:33.508Z"
   },
   {
    "duration": 2862,
    "start_time": "2022-07-13T20:30:29.086Z"
   },
   {
    "duration": 170,
    "start_time": "2022-07-13T20:30:31.950Z"
   },
   {
    "duration": 6,
    "start_time": "2022-07-13T20:30:32.122Z"
   },
   {
    "duration": 10,
    "start_time": "2022-07-13T20:30:32.130Z"
   },
   {
    "duration": 18,
    "start_time": "2022-07-13T20:30:32.142Z"
   },
   {
    "duration": 9,
    "start_time": "2022-07-13T20:30:32.161Z"
   },
   {
    "duration": 11,
    "start_time": "2022-07-13T20:30:32.172Z"
   },
   {
    "duration": 4,
    "start_time": "2022-07-13T20:30:32.185Z"
   },
   {
    "duration": 10,
    "start_time": "2022-07-13T20:30:32.191Z"
   },
   {
    "duration": 6,
    "start_time": "2022-07-13T20:30:32.203Z"
   },
   {
    "duration": 6,
    "start_time": "2022-07-13T20:30:32.210Z"
   },
   {
    "duration": 8,
    "start_time": "2022-07-13T20:30:32.217Z"
   },
   {
    "duration": 29,
    "start_time": "2022-07-13T20:30:32.227Z"
   },
   {
    "duration": 6,
    "start_time": "2022-07-13T20:30:32.258Z"
   },
   {
    "duration": 2958,
    "start_time": "2022-07-13T20:30:32.266Z"
   },
   {
    "duration": 254,
    "start_time": "2022-07-13T20:30:35.226Z"
   },
   {
    "duration": 229,
    "start_time": "2022-07-13T20:30:35.482Z"
   },
   {
    "duration": 5,
    "start_time": "2022-07-13T20:30:35.713Z"
   },
   {
    "duration": 592,
    "start_time": "2022-07-13T20:30:35.719Z"
   },
   {
    "duration": 544,
    "start_time": "2022-07-13T20:30:36.313Z"
   },
   {
    "duration": 5,
    "start_time": "2022-07-13T20:30:36.859Z"
   },
   {
    "duration": 4,
    "start_time": "2022-07-13T20:30:36.866Z"
   },
   {
    "duration": 5,
    "start_time": "2022-07-13T20:30:36.872Z"
   },
   {
    "duration": 9,
    "start_time": "2022-07-13T20:30:36.879Z"
   },
   {
    "duration": 4,
    "start_time": "2022-07-13T20:30:36.890Z"
   },
   {
    "duration": 7,
    "start_time": "2022-07-13T20:30:36.895Z"
   },
   {
    "duration": 3,
    "start_time": "2022-07-13T20:30:47.455Z"
   },
   {
    "duration": 8,
    "start_time": "2022-07-13T20:30:50.224Z"
   },
   {
    "duration": 12,
    "start_time": "2022-07-13T20:30:57.014Z"
   },
   {
    "duration": 32,
    "start_time": "2022-07-13T20:31:13.632Z"
   },
   {
    "duration": 3,
    "start_time": "2022-07-13T20:33:35.700Z"
   },
   {
    "duration": 100,
    "start_time": "2022-07-13T21:03:30.511Z"
   },
   {
    "duration": 5,
    "start_time": "2022-07-13T21:03:52.634Z"
   },
   {
    "duration": 21,
    "start_time": "2022-07-13T21:03:55.387Z"
   },
   {
    "duration": 55,
    "start_time": "2022-07-14T19:39:22.362Z"
   },
   {
    "duration": 6,
    "start_time": "2022-07-14T19:39:26.094Z"
   },
   {
    "duration": 4,
    "start_time": "2022-07-14T19:39:27.139Z"
   },
   {
    "duration": 6,
    "start_time": "2022-07-14T19:39:28.267Z"
   },
   {
    "duration": 7,
    "start_time": "2022-07-14T19:42:12.924Z"
   },
   {
    "duration": 2863,
    "start_time": "2022-07-14T19:42:33.218Z"
   },
   {
    "duration": 152,
    "start_time": "2022-07-14T19:42:36.083Z"
   },
   {
    "duration": 9,
    "start_time": "2022-07-14T19:42:36.237Z"
   },
   {
    "duration": 11,
    "start_time": "2022-07-14T19:42:36.247Z"
   },
   {
    "duration": 11,
    "start_time": "2022-07-14T19:42:36.261Z"
   },
   {
    "duration": 42,
    "start_time": "2022-07-14T19:42:36.274Z"
   },
   {
    "duration": 14,
    "start_time": "2022-07-14T19:42:36.318Z"
   },
   {
    "duration": 5,
    "start_time": "2022-07-14T19:42:36.334Z"
   },
   {
    "duration": 15,
    "start_time": "2022-07-14T19:42:36.341Z"
   },
   {
    "duration": 10,
    "start_time": "2022-07-14T19:42:36.358Z"
   },
   {
    "duration": 8,
    "start_time": "2022-07-14T19:42:36.370Z"
   },
   {
    "duration": 9,
    "start_time": "2022-07-14T19:42:36.380Z"
   },
   {
    "duration": 15,
    "start_time": "2022-07-14T19:42:36.390Z"
   },
   {
    "duration": 20,
    "start_time": "2022-07-14T19:42:36.409Z"
   },
   {
    "duration": 3390,
    "start_time": "2022-07-14T19:42:36.431Z"
   },
   {
    "duration": 233,
    "start_time": "2022-07-14T19:42:39.823Z"
   },
   {
    "duration": 252,
    "start_time": "2022-07-14T19:42:40.057Z"
   },
   {
    "duration": 7,
    "start_time": "2022-07-14T19:42:40.313Z"
   },
   {
    "duration": 536,
    "start_time": "2022-07-14T19:42:40.321Z"
   },
   {
    "duration": 611,
    "start_time": "2022-07-14T19:42:40.858Z"
   },
   {
    "duration": 7,
    "start_time": "2022-07-14T19:42:41.471Z"
   },
   {
    "duration": 24,
    "start_time": "2022-07-14T19:42:41.479Z"
   },
   {
    "duration": 7,
    "start_time": "2022-07-14T19:42:41.507Z"
   },
   {
    "duration": 24,
    "start_time": "2022-07-14T19:42:41.516Z"
   },
   {
    "duration": 10,
    "start_time": "2022-07-14T19:42:41.542Z"
   },
   {
    "duration": 39,
    "start_time": "2022-07-14T19:42:41.554Z"
   },
   {
    "duration": 9,
    "start_time": "2022-07-14T19:42:41.595Z"
   },
   {
    "duration": 13,
    "start_time": "2022-07-14T19:42:41.608Z"
   },
   {
    "duration": 143,
    "start_time": "2022-07-14T19:42:41.623Z"
   },
   {
    "duration": 0,
    "start_time": "2022-07-14T19:42:41.767Z"
   },
   {
    "duration": 0,
    "start_time": "2022-07-14T19:42:41.768Z"
   },
   {
    "duration": 0,
    "start_time": "2022-07-14T19:42:41.770Z"
   },
   {
    "duration": 0,
    "start_time": "2022-07-14T19:42:41.771Z"
   },
   {
    "duration": 0,
    "start_time": "2022-07-14T19:42:41.772Z"
   },
   {
    "duration": 0,
    "start_time": "2022-07-14T19:42:41.773Z"
   },
   {
    "duration": 0,
    "start_time": "2022-07-14T19:42:41.774Z"
   },
   {
    "duration": 0,
    "start_time": "2022-07-14T19:42:41.776Z"
   },
   {
    "duration": 0,
    "start_time": "2022-07-14T19:42:41.776Z"
   },
   {
    "duration": 16,
    "start_time": "2022-07-14T19:43:32.417Z"
   },
   {
    "duration": 7,
    "start_time": "2022-07-14T19:43:35.704Z"
   },
   {
    "duration": 3,
    "start_time": "2022-07-14T19:43:36.981Z"
   },
   {
    "duration": 5,
    "start_time": "2022-07-14T19:43:38.526Z"
   },
   {
    "duration": 3,
    "start_time": "2022-07-14T19:43:41.866Z"
   },
   {
    "duration": 4,
    "start_time": "2022-07-14T19:43:43.061Z"
   },
   {
    "duration": 82,
    "start_time": "2022-07-14T19:43:45.047Z"
   },
   {
    "duration": 9,
    "start_time": "2022-07-14T19:44:24.505Z"
   },
   {
    "duration": 100,
    "start_time": "2022-07-14T19:44:24.516Z"
   },
   {
    "duration": 7,
    "start_time": "2022-07-14T19:44:24.617Z"
   },
   {
    "duration": 11,
    "start_time": "2022-07-14T19:44:24.627Z"
   },
   {
    "duration": 11,
    "start_time": "2022-07-14T19:44:24.639Z"
   },
   {
    "duration": 10,
    "start_time": "2022-07-14T19:44:24.652Z"
   },
   {
    "duration": 6,
    "start_time": "2022-07-14T19:44:24.664Z"
   },
   {
    "duration": 11,
    "start_time": "2022-07-14T19:44:24.672Z"
   },
   {
    "duration": 30,
    "start_time": "2022-07-14T19:44:24.685Z"
   },
   {
    "duration": 5,
    "start_time": "2022-07-14T19:44:24.717Z"
   },
   {
    "duration": 6,
    "start_time": "2022-07-14T19:44:24.724Z"
   },
   {
    "duration": 11,
    "start_time": "2022-07-14T19:44:24.732Z"
   },
   {
    "duration": 4,
    "start_time": "2022-07-14T19:44:24.745Z"
   },
   {
    "duration": 6,
    "start_time": "2022-07-14T19:44:24.751Z"
   },
   {
    "duration": 3159,
    "start_time": "2022-07-14T19:44:24.758Z"
   },
   {
    "duration": 216,
    "start_time": "2022-07-14T19:44:27.921Z"
   },
   {
    "duration": 392,
    "start_time": "2022-07-14T19:44:28.138Z"
   },
   {
    "duration": 7,
    "start_time": "2022-07-14T19:44:28.532Z"
   },
   {
    "duration": 478,
    "start_time": "2022-07-14T19:44:28.541Z"
   },
   {
    "duration": 498,
    "start_time": "2022-07-14T19:44:29.023Z"
   },
   {
    "duration": 6,
    "start_time": "2022-07-14T19:44:29.523Z"
   },
   {
    "duration": 4,
    "start_time": "2022-07-14T19:44:29.531Z"
   },
   {
    "duration": 8,
    "start_time": "2022-07-14T19:44:29.537Z"
   },
   {
    "duration": 7,
    "start_time": "2022-07-14T19:44:29.549Z"
   },
   {
    "duration": 7,
    "start_time": "2022-07-14T19:44:29.558Z"
   },
   {
    "duration": 60,
    "start_time": "2022-07-14T19:44:29.567Z"
   },
   {
    "duration": 5,
    "start_time": "2022-07-14T19:44:29.629Z"
   },
   {
    "duration": 11,
    "start_time": "2022-07-14T19:44:29.636Z"
   },
   {
    "duration": 16,
    "start_time": "2022-07-14T19:44:29.649Z"
   },
   {
    "duration": 2,
    "start_time": "2022-07-14T19:44:29.667Z"
   },
   {
    "duration": 46,
    "start_time": "2022-07-14T19:44:29.671Z"
   },
   {
    "duration": 9,
    "start_time": "2022-07-14T19:44:29.719Z"
   },
   {
    "duration": 8,
    "start_time": "2022-07-14T19:44:29.729Z"
   },
   {
    "duration": 5,
    "start_time": "2022-07-14T19:44:29.739Z"
   },
   {
    "duration": 89,
    "start_time": "2022-07-14T19:44:29.746Z"
   },
   {
    "duration": 0,
    "start_time": "2022-07-14T19:44:29.836Z"
   },
   {
    "duration": 0,
    "start_time": "2022-07-14T19:44:29.838Z"
   },
   {
    "duration": 0,
    "start_time": "2022-07-14T19:44:29.839Z"
   },
   {
    "duration": 0,
    "start_time": "2022-07-14T19:44:29.841Z"
   },
   {
    "duration": 0,
    "start_time": "2022-07-14T19:44:29.842Z"
   },
   {
    "duration": 0,
    "start_time": "2022-07-14T19:44:29.844Z"
   },
   {
    "duration": 0,
    "start_time": "2022-07-14T19:44:29.845Z"
   },
   {
    "duration": 0,
    "start_time": "2022-07-14T19:44:29.846Z"
   },
   {
    "duration": 0,
    "start_time": "2022-07-14T19:44:29.847Z"
   },
   {
    "duration": 0,
    "start_time": "2022-07-14T19:44:29.849Z"
   },
   {
    "duration": 0,
    "start_time": "2022-07-14T19:44:29.850Z"
   },
   {
    "duration": 0,
    "start_time": "2022-07-14T19:44:29.852Z"
   },
   {
    "duration": 6,
    "start_time": "2022-07-14T19:46:03.636Z"
   },
   {
    "duration": 75,
    "start_time": "2022-07-14T19:46:03.644Z"
   },
   {
    "duration": 6,
    "start_time": "2022-07-14T19:46:03.721Z"
   },
   {
    "duration": 15,
    "start_time": "2022-07-14T19:46:03.729Z"
   },
   {
    "duration": 22,
    "start_time": "2022-07-14T19:46:03.746Z"
   },
   {
    "duration": 10,
    "start_time": "2022-07-14T19:46:03.770Z"
   },
   {
    "duration": 12,
    "start_time": "2022-07-14T19:46:03.801Z"
   },
   {
    "duration": 14,
    "start_time": "2022-07-14T19:46:03.816Z"
   },
   {
    "duration": 11,
    "start_time": "2022-07-14T19:46:03.833Z"
   },
   {
    "duration": 17,
    "start_time": "2022-07-14T19:46:03.846Z"
   },
   {
    "duration": 8,
    "start_time": "2022-07-14T19:46:03.866Z"
   },
   {
    "duration": 31,
    "start_time": "2022-07-14T19:46:03.877Z"
   },
   {
    "duration": 20,
    "start_time": "2022-07-14T19:46:03.912Z"
   },
   {
    "duration": 20,
    "start_time": "2022-07-14T19:46:03.934Z"
   },
   {
    "duration": 3331,
    "start_time": "2022-07-14T19:46:03.956Z"
   },
   {
    "duration": 401,
    "start_time": "2022-07-14T19:46:07.288Z"
   },
   {
    "duration": 267,
    "start_time": "2022-07-14T19:46:07.691Z"
   },
   {
    "duration": 5,
    "start_time": "2022-07-14T19:46:07.960Z"
   },
   {
    "duration": 490,
    "start_time": "2022-07-14T19:46:07.967Z"
   },
   {
    "duration": 556,
    "start_time": "2022-07-14T19:46:08.459Z"
   },
   {
    "duration": 6,
    "start_time": "2022-07-14T19:46:09.017Z"
   },
   {
    "duration": 3,
    "start_time": "2022-07-14T19:46:09.025Z"
   },
   {
    "duration": 5,
    "start_time": "2022-07-14T19:46:09.030Z"
   },
   {
    "duration": 6,
    "start_time": "2022-07-14T19:46:09.038Z"
   },
   {
    "duration": 4,
    "start_time": "2022-07-14T19:46:09.045Z"
   },
   {
    "duration": 59,
    "start_time": "2022-07-14T19:46:09.051Z"
   },
   {
    "duration": 8,
    "start_time": "2022-07-14T19:46:09.112Z"
   },
   {
    "duration": 3,
    "start_time": "2022-07-14T19:46:09.122Z"
   },
   {
    "duration": 25,
    "start_time": "2022-07-14T19:46:09.127Z"
   },
   {
    "duration": 3,
    "start_time": "2022-07-14T19:46:09.153Z"
   },
   {
    "duration": 8,
    "start_time": "2022-07-14T19:46:09.157Z"
   },
   {
    "duration": 7,
    "start_time": "2022-07-14T19:46:09.166Z"
   },
   {
    "duration": 10,
    "start_time": "2022-07-14T19:46:09.174Z"
   },
   {
    "duration": 16,
    "start_time": "2022-07-14T19:46:09.186Z"
   },
   {
    "duration": 516166,
    "start_time": "2022-07-14T19:46:09.204Z"
   },
   {
    "duration": 79,
    "start_time": "2022-07-14T19:54:45.372Z"
   },
   {
    "duration": 41,
    "start_time": "2022-07-14T19:54:45.454Z"
   },
   {
    "duration": 79,
    "start_time": "2022-07-14T19:54:45.497Z"
   },
   {
    "duration": 0,
    "start_time": "2022-07-14T19:54:45.577Z"
   },
   {
    "duration": 0,
    "start_time": "2022-07-14T19:54:45.579Z"
   },
   {
    "duration": 0,
    "start_time": "2022-07-14T19:54:45.580Z"
   },
   {
    "duration": 0,
    "start_time": "2022-07-14T19:54:45.582Z"
   },
   {
    "duration": 0,
    "start_time": "2022-07-14T19:54:45.583Z"
   },
   {
    "duration": 0,
    "start_time": "2022-07-14T19:54:45.585Z"
   },
   {
    "duration": 0,
    "start_time": "2022-07-14T19:54:45.586Z"
   },
   {
    "duration": 0,
    "start_time": "2022-07-14T19:54:45.587Z"
   },
   {
    "duration": 0,
    "start_time": "2022-07-14T19:54:45.589Z"
   },
   {
    "duration": 7,
    "start_time": "2022-07-14T19:58:58.816Z"
   },
   {
    "duration": 14140,
    "start_time": "2022-07-14T19:59:02.036Z"
   },
   {
    "duration": 409,
    "start_time": "2022-07-14T20:10:19.029Z"
   },
   {
    "duration": 24,
    "start_time": "2022-07-14T20:10:31.138Z"
   },
   {
    "duration": 4356,
    "start_time": "2022-07-14T20:11:00.981Z"
   },
   {
    "duration": 3951,
    "start_time": "2022-07-14T20:12:41.213Z"
   },
   {
    "duration": 4693,
    "start_time": "2022-07-14T20:15:03.864Z"
   },
   {
    "duration": 4057,
    "start_time": "2022-07-14T20:15:22.049Z"
   },
   {
    "duration": 4430,
    "start_time": "2022-07-14T20:15:52.328Z"
   },
   {
    "duration": 17,
    "start_time": "2022-07-14T20:16:39.765Z"
   },
   {
    "duration": 15,
    "start_time": "2022-07-14T20:16:51.774Z"
   },
   {
    "duration": 5066,
    "start_time": "2022-07-14T20:17:23.519Z"
   },
   {
    "duration": 4870,
    "start_time": "2022-07-14T20:18:00.070Z"
   },
   {
    "duration": 4908,
    "start_time": "2022-07-14T20:18:11.175Z"
   },
   {
    "duration": 6,
    "start_time": "2022-07-14T20:19:13.546Z"
   },
   {
    "duration": 18266,
    "start_time": "2022-07-14T20:19:18.796Z"
   },
   {
    "duration": 6,
    "start_time": "2022-07-14T20:20:09.060Z"
   },
   {
    "duration": 199729,
    "start_time": "2022-07-14T20:20:13.365Z"
   },
   {
    "duration": 15,
    "start_time": "2022-07-14T20:24:30.502Z"
   },
   {
    "duration": 9,
    "start_time": "2022-07-14T20:25:05.990Z"
   },
   {
    "duration": 16,
    "start_time": "2022-07-14T20:25:25.208Z"
   },
   {
    "duration": 18091,
    "start_time": "2022-07-14T20:25:29.154Z"
   },
   {
    "duration": 10,
    "start_time": "2022-07-14T20:25:47.582Z"
   },
   {
    "duration": 37996,
    "start_time": "2022-07-14T20:25:49.248Z"
   },
   {
    "duration": 4101,
    "start_time": "2022-07-14T20:26:41.848Z"
   },
   {
    "duration": 4756,
    "start_time": "2022-07-14T20:26:52.548Z"
   },
   {
    "duration": 4556,
    "start_time": "2022-07-14T20:27:04.509Z"
   },
   {
    "duration": 4332,
    "start_time": "2022-07-14T20:27:11.899Z"
   },
   {
    "duration": 5093,
    "start_time": "2022-07-14T20:27:24.537Z"
   },
   {
    "duration": 4292,
    "start_time": "2022-07-14T20:28:48.896Z"
   },
   {
    "duration": 7352,
    "start_time": "2022-07-14T20:29:03.141Z"
   },
   {
    "duration": 11,
    "start_time": "2022-07-14T20:29:56.625Z"
   },
   {
    "duration": 5,
    "start_time": "2022-07-14T20:29:59.659Z"
   },
   {
    "duration": 6,
    "start_time": "2022-07-14T20:31:07.023Z"
   },
   {
    "duration": 188391,
    "start_time": "2022-07-14T20:31:11.087Z"
   },
   {
    "duration": 10240,
    "start_time": "2022-07-14T20:34:31.918Z"
   },
   {
    "duration": 10,
    "start_time": "2022-07-14T20:34:42.160Z"
   },
   {
    "duration": 43,
    "start_time": "2022-07-15T06:35:19.174Z"
   },
   {
    "duration": 2130,
    "start_time": "2022-07-15T06:51:49.790Z"
   },
   {
    "duration": 302,
    "start_time": "2022-07-15T06:51:51.922Z"
   },
   {
    "duration": 6,
    "start_time": "2022-07-15T06:51:52.226Z"
   },
   {
    "duration": 12,
    "start_time": "2022-07-15T06:51:52.234Z"
   },
   {
    "duration": 11,
    "start_time": "2022-07-15T06:51:52.248Z"
   },
   {
    "duration": 10,
    "start_time": "2022-07-15T06:51:52.260Z"
   },
   {
    "duration": 8,
    "start_time": "2022-07-15T06:51:52.272Z"
   },
   {
    "duration": 9,
    "start_time": "2022-07-15T06:51:52.282Z"
   },
   {
    "duration": 11,
    "start_time": "2022-07-15T06:51:52.292Z"
   },
   {
    "duration": 6,
    "start_time": "2022-07-15T06:51:52.304Z"
   },
   {
    "duration": 8,
    "start_time": "2022-07-15T06:51:52.311Z"
   },
   {
    "duration": 6,
    "start_time": "2022-07-15T06:51:52.320Z"
   },
   {
    "duration": 253,
    "start_time": "2022-07-15T06:51:52.328Z"
   },
   {
    "duration": 233,
    "start_time": "2022-07-15T06:51:52.584Z"
   },
   {
    "duration": 585,
    "start_time": "2022-07-15T06:51:52.818Z"
   },
   {
    "duration": 410,
    "start_time": "2022-07-15T06:51:53.405Z"
   },
   {
    "duration": 5,
    "start_time": "2022-07-15T06:51:53.817Z"
   },
   {
    "duration": 46,
    "start_time": "2022-07-15T06:51:53.823Z"
   },
   {
    "duration": 16,
    "start_time": "2022-07-15T06:51:53.870Z"
   },
   {
    "duration": 3,
    "start_time": "2022-07-15T06:51:53.888Z"
   },
   {
    "duration": 10,
    "start_time": "2022-07-15T06:51:53.892Z"
   },
   {
    "duration": 10,
    "start_time": "2022-07-15T06:51:53.904Z"
   },
   {
    "duration": 7,
    "start_time": "2022-07-15T06:51:53.916Z"
   },
   {
    "duration": 6,
    "start_time": "2022-07-15T06:51:53.925Z"
   },
   {
    "duration": 661834,
    "start_time": "2022-07-15T06:51:53.932Z"
   },
   {
    "duration": 98,
    "start_time": "2022-07-15T07:02:55.767Z"
   },
   {
    "duration": 6,
    "start_time": "2022-07-15T07:02:55.867Z"
   },
   {
    "duration": 147457,
    "start_time": "2022-07-15T07:02:55.875Z"
   },
   {
    "duration": 10030,
    "start_time": "2022-07-15T07:05:23.333Z"
   },
   {
    "duration": 2665,
    "start_time": "2022-07-15T08:37:36.465Z"
   },
   {
    "duration": 195,
    "start_time": "2022-07-15T08:37:40.064Z"
   },
   {
    "duration": 7,
    "start_time": "2022-07-15T08:37:43.586Z"
   },
   {
    "duration": 11,
    "start_time": "2022-07-15T08:37:44.982Z"
   },
   {
    "duration": 10,
    "start_time": "2022-07-15T08:37:46.483Z"
   },
   {
    "duration": 23,
    "start_time": "2022-07-15T08:37:46.495Z"
   },
   {
    "duration": 10,
    "start_time": "2022-07-15T08:37:46.520Z"
   },
   {
    "duration": 9,
    "start_time": "2022-07-15T08:37:46.699Z"
   },
   {
    "duration": 4,
    "start_time": "2022-07-15T08:37:47.259Z"
   },
   {
    "duration": 4,
    "start_time": "2022-07-15T08:37:47.728Z"
   },
   {
    "duration": 8,
    "start_time": "2022-07-15T08:37:48.618Z"
   },
   {
    "duration": 5,
    "start_time": "2022-07-15T08:37:48.818Z"
   },
   {
    "duration": 211,
    "start_time": "2022-07-15T08:39:07.569Z"
   },
   {
    "duration": 235,
    "start_time": "2022-07-15T08:39:09.023Z"
   },
   {
    "duration": 607,
    "start_time": "2022-07-15T08:39:09.971Z"
   },
   {
    "duration": 474,
    "start_time": "2022-07-15T08:39:10.905Z"
   },
   {
    "duration": 115,
    "start_time": "2022-07-15T09:32:33.851Z"
   },
   {
    "duration": 2427,
    "start_time": "2022-07-15T10:31:04.011Z"
   },
   {
    "duration": 153,
    "start_time": "2022-07-15T10:31:06.441Z"
   },
   {
    "duration": 10,
    "start_time": "2022-07-15T10:31:06.596Z"
   },
   {
    "duration": 14,
    "start_time": "2022-07-15T10:31:06.607Z"
   },
   {
    "duration": 10,
    "start_time": "2022-07-15T10:31:06.624Z"
   },
   {
    "duration": 14,
    "start_time": "2022-07-15T10:31:06.636Z"
   },
   {
    "duration": 14,
    "start_time": "2022-07-15T10:31:06.652Z"
   },
   {
    "duration": 16,
    "start_time": "2022-07-15T10:31:06.668Z"
   },
   {
    "duration": 39,
    "start_time": "2022-07-15T10:31:06.686Z"
   },
   {
    "duration": 8,
    "start_time": "2022-07-15T10:31:06.727Z"
   },
   {
    "duration": 12,
    "start_time": "2022-07-15T10:31:06.737Z"
   },
   {
    "duration": 13,
    "start_time": "2022-07-15T10:31:06.751Z"
   },
   {
    "duration": 362,
    "start_time": "2022-07-15T10:31:06.767Z"
   },
   {
    "duration": 376,
    "start_time": "2022-07-15T10:31:07.133Z"
   },
   {
    "duration": 783,
    "start_time": "2022-07-15T10:31:07.511Z"
   },
   {
    "duration": 587,
    "start_time": "2022-07-15T10:31:08.296Z"
   },
   {
    "duration": 5,
    "start_time": "2022-07-15T10:31:08.886Z"
   },
   {
    "duration": 57,
    "start_time": "2022-07-15T10:31:08.893Z"
   },
   {
    "duration": 79,
    "start_time": "2022-07-15T10:31:08.952Z"
   },
   {
    "duration": 18,
    "start_time": "2022-07-15T10:31:09.033Z"
   },
   {
    "duration": 49,
    "start_time": "2022-07-15T10:31:09.054Z"
   },
   {
    "duration": 35,
    "start_time": "2022-07-15T10:31:09.106Z"
   },
   {
    "duration": 44,
    "start_time": "2022-07-15T10:31:09.144Z"
   },
   {
    "duration": 14,
    "start_time": "2022-07-15T10:31:09.190Z"
   },
   {
    "duration": 1969,
    "start_time": "2022-07-15T11:01:16.976Z"
   },
   {
    "duration": 76,
    "start_time": "2022-07-15T11:01:18.948Z"
   },
   {
    "duration": 8,
    "start_time": "2022-07-15T11:01:19.026Z"
   },
   {
    "duration": 45,
    "start_time": "2022-07-15T11:01:19.036Z"
   },
   {
    "duration": 12,
    "start_time": "2022-07-15T11:01:19.085Z"
   },
   {
    "duration": 13,
    "start_time": "2022-07-15T11:01:19.099Z"
   },
   {
    "duration": 25,
    "start_time": "2022-07-15T11:01:19.114Z"
   },
   {
    "duration": 24,
    "start_time": "2022-07-15T11:01:19.142Z"
   },
   {
    "duration": 15,
    "start_time": "2022-07-15T11:01:19.168Z"
   },
   {
    "duration": 16,
    "start_time": "2022-07-15T11:01:19.185Z"
   },
   {
    "duration": 9,
    "start_time": "2022-07-15T11:01:19.203Z"
   },
   {
    "duration": 4,
    "start_time": "2022-07-15T11:01:19.214Z"
   },
   {
    "duration": 242,
    "start_time": "2022-07-15T11:01:19.220Z"
   },
   {
    "duration": 250,
    "start_time": "2022-07-15T11:01:19.465Z"
   },
   {
    "duration": 596,
    "start_time": "2022-07-15T11:01:19.722Z"
   },
   {
    "duration": 476,
    "start_time": "2022-07-15T11:01:20.319Z"
   },
   {
    "duration": 4,
    "start_time": "2022-07-15T11:01:20.797Z"
   },
   {
    "duration": 30,
    "start_time": "2022-07-15T11:01:20.802Z"
   },
   {
    "duration": 21,
    "start_time": "2022-07-15T11:01:20.834Z"
   },
   {
    "duration": 2,
    "start_time": "2022-07-15T11:01:20.857Z"
   },
   {
    "duration": 15,
    "start_time": "2022-07-15T11:01:20.861Z"
   },
   {
    "duration": 7,
    "start_time": "2022-07-15T11:01:20.878Z"
   },
   {
    "duration": 6,
    "start_time": "2022-07-15T11:01:20.887Z"
   },
   {
    "duration": 6,
    "start_time": "2022-07-15T11:01:20.895Z"
   },
   {
    "duration": 868559,
    "start_time": "2022-07-15T11:01:20.902Z"
   },
   {
    "duration": 75,
    "start_time": "2022-07-15T11:15:49.462Z"
   },
   {
    "duration": 6,
    "start_time": "2022-07-15T11:15:49.539Z"
   },
   {
    "duration": 160896,
    "start_time": "2022-07-15T11:15:49.547Z"
   },
   {
    "duration": 11738,
    "start_time": "2022-07-15T11:18:30.445Z"
   },
   {
    "duration": 6,
    "start_time": "2022-07-15T11:18:42.185Z"
   },
   {
    "duration": 163,
    "start_time": "2022-07-15T11:18:42.193Z"
   },
   {
    "duration": 0,
    "start_time": "2022-07-15T11:18:42.357Z"
   },
   {
    "duration": 0,
    "start_time": "2022-07-15T11:18:42.359Z"
   },
   {
    "duration": 0,
    "start_time": "2022-07-15T11:18:42.360Z"
   },
   {
    "duration": 0,
    "start_time": "2022-07-15T11:18:42.362Z"
   },
   {
    "duration": 0,
    "start_time": "2022-07-15T11:18:42.362Z"
   },
   {
    "duration": 0,
    "start_time": "2022-07-15T11:18:42.364Z"
   },
   {
    "duration": 8,
    "start_time": "2022-07-15T11:23:38.754Z"
   },
   {
    "duration": 3,
    "start_time": "2022-07-15T11:23:53.555Z"
   },
   {
    "duration": 24,
    "start_time": "2022-07-15T11:23:54.814Z"
   },
   {
    "duration": 7,
    "start_time": "2022-07-15T11:25:03.435Z"
   },
   {
    "duration": 7,
    "start_time": "2022-07-15T11:27:39.534Z"
   },
   {
    "duration": 17,
    "start_time": "2022-07-15T11:28:11.147Z"
   },
   {
    "duration": 7,
    "start_time": "2022-07-15T11:28:19.375Z"
   },
   {
    "duration": 10,
    "start_time": "2022-07-15T11:29:21.267Z"
   },
   {
    "duration": 219,
    "start_time": "2022-07-15T11:30:15.314Z"
   },
   {
    "duration": 862,
    "start_time": "2022-07-15T11:33:05.602Z"
   },
   {
    "duration": 903,
    "start_time": "2022-07-15T11:33:23.814Z"
   },
   {
    "duration": 10,
    "start_time": "2022-07-15T11:48:37.694Z"
   },
   {
    "duration": 12,
    "start_time": "2022-07-15T11:49:11.041Z"
   },
   {
    "duration": 7,
    "start_time": "2022-07-15T11:49:43.573Z"
   },
   {
    "duration": 6,
    "start_time": "2022-07-15T11:51:35.734Z"
   },
   {
    "duration": 6,
    "start_time": "2022-07-15T11:55:13.013Z"
   },
   {
    "duration": 12,
    "start_time": "2022-07-15T11:56:08.204Z"
   },
   {
    "duration": 8,
    "start_time": "2022-07-15T11:56:33.193Z"
   },
   {
    "duration": 9,
    "start_time": "2022-07-15T11:56:53.094Z"
   },
   {
    "duration": 18,
    "start_time": "2022-07-15T11:58:36.800Z"
   },
   {
    "duration": 12,
    "start_time": "2022-07-15T12:00:47.463Z"
   },
   {
    "duration": 9,
    "start_time": "2022-07-15T12:03:51.851Z"
   },
   {
    "duration": 32,
    "start_time": "2022-07-15T12:03:58.152Z"
   },
   {
    "duration": 13,
    "start_time": "2022-07-15T12:05:46.012Z"
   },
   {
    "duration": 37,
    "start_time": "2022-07-15T12:05:52.920Z"
   },
   {
    "duration": 14,
    "start_time": "2022-07-15T12:06:15.139Z"
   },
   {
    "duration": 8,
    "start_time": "2022-07-15T12:06:28.840Z"
   },
   {
    "duration": 12,
    "start_time": "2022-07-15T12:06:32.832Z"
   },
   {
    "duration": 7,
    "start_time": "2022-07-15T12:07:16.771Z"
   },
   {
    "duration": 192,
    "start_time": "2022-07-15T12:08:37.536Z"
   },
   {
    "duration": 13,
    "start_time": "2022-07-15T12:10:53.122Z"
   },
   {
    "duration": 4,
    "start_time": "2022-07-15T12:11:06.953Z"
   },
   {
    "duration": 7,
    "start_time": "2022-07-15T12:12:08.691Z"
   },
   {
    "duration": 185,
    "start_time": "2022-07-15T12:13:05.859Z"
   },
   {
    "duration": 189,
    "start_time": "2022-07-15T12:13:40.423Z"
   },
   {
    "duration": 217,
    "start_time": "2022-07-15T12:14:49.116Z"
   },
   {
    "duration": 192,
    "start_time": "2022-07-15T12:15:00.131Z"
   },
   {
    "duration": 144,
    "start_time": "2022-07-15T12:16:22.432Z"
   },
   {
    "duration": 138,
    "start_time": "2022-07-15T12:16:49.243Z"
   },
   {
    "duration": 144,
    "start_time": "2022-07-15T12:17:24.209Z"
   },
   {
    "duration": 265,
    "start_time": "2022-07-15T12:18:07.598Z"
   },
   {
    "duration": 140,
    "start_time": "2022-07-15T12:18:19.327Z"
   },
   {
    "duration": 150,
    "start_time": "2022-07-15T12:23:37.126Z"
   },
   {
    "duration": 143,
    "start_time": "2022-07-15T12:23:44.778Z"
   },
   {
    "duration": 134,
    "start_time": "2022-07-15T12:23:53.326Z"
   },
   {
    "duration": 182,
    "start_time": "2022-07-15T12:23:58.842Z"
   },
   {
    "duration": 152,
    "start_time": "2022-07-15T12:24:11.202Z"
   },
   {
    "duration": 133,
    "start_time": "2022-07-15T12:25:23.670Z"
   },
   {
    "duration": 3,
    "start_time": "2022-07-15T12:26:34.108Z"
   },
   {
    "duration": 5,
    "start_time": "2022-07-15T12:26:40.402Z"
   },
   {
    "duration": 155,
    "start_time": "2022-07-15T12:26:49.811Z"
   },
   {
    "duration": 14,
    "start_time": "2022-07-15T12:40:05.149Z"
   },
   {
    "duration": 10,
    "start_time": "2022-07-15T12:40:24.094Z"
   },
   {
    "duration": 6,
    "start_time": "2022-07-15T12:40:32.817Z"
   },
   {
    "duration": 2418,
    "start_time": "2022-07-15T15:54:03.874Z"
   },
   {
    "duration": 150,
    "start_time": "2022-07-15T15:54:06.295Z"
   },
   {
    "duration": 7,
    "start_time": "2022-07-15T15:54:06.447Z"
   },
   {
    "duration": 11,
    "start_time": "2022-07-15T15:54:06.456Z"
   },
   {
    "duration": 8,
    "start_time": "2022-07-15T15:54:06.469Z"
   },
   {
    "duration": 21,
    "start_time": "2022-07-15T15:54:06.478Z"
   },
   {
    "duration": 17,
    "start_time": "2022-07-15T15:54:06.501Z"
   },
   {
    "duration": 9,
    "start_time": "2022-07-15T15:54:06.519Z"
   },
   {
    "duration": 11,
    "start_time": "2022-07-15T15:54:06.530Z"
   },
   {
    "duration": 12,
    "start_time": "2022-07-15T15:54:06.543Z"
   },
   {
    "duration": 10,
    "start_time": "2022-07-15T15:54:06.557Z"
   },
   {
    "duration": 3,
    "start_time": "2022-07-15T15:54:06.569Z"
   },
   {
    "duration": 260,
    "start_time": "2022-07-15T15:54:06.574Z"
   },
   {
    "duration": 238,
    "start_time": "2022-07-15T15:54:06.836Z"
   },
   {
    "duration": 592,
    "start_time": "2022-07-15T15:54:07.076Z"
   },
   {
    "duration": 486,
    "start_time": "2022-07-15T15:54:07.670Z"
   },
   {
    "duration": 6,
    "start_time": "2022-07-15T15:54:08.158Z"
   },
   {
    "duration": 19,
    "start_time": "2022-07-15T15:54:08.166Z"
   },
   {
    "duration": 18,
    "start_time": "2022-07-15T15:54:08.187Z"
   },
   {
    "duration": 3,
    "start_time": "2022-07-15T15:54:08.206Z"
   },
   {
    "duration": 7,
    "start_time": "2022-07-15T15:54:08.210Z"
   },
   {
    "duration": 7,
    "start_time": "2022-07-15T15:54:08.219Z"
   },
   {
    "duration": 6,
    "start_time": "2022-07-15T15:54:08.227Z"
   },
   {
    "duration": 31,
    "start_time": "2022-07-15T15:54:08.234Z"
   },
   {
    "duration": 107031,
    "start_time": "2022-07-15T15:54:08.267Z"
   },
   {
    "duration": 49,
    "start_time": "2022-07-15T15:55:55.300Z"
   },
   {
    "duration": 6,
    "start_time": "2022-07-15T15:55:55.350Z"
   },
   {
    "duration": 6,
    "start_time": "2022-07-15T15:55:55.359Z"
   },
   {
    "duration": 142634,
    "start_time": "2022-07-15T15:55:55.367Z"
   },
   {
    "duration": 10220,
    "start_time": "2022-07-15T15:58:18.002Z"
   },
   {
    "duration": 5,
    "start_time": "2022-07-15T15:58:28.224Z"
   },
   {
    "duration": 4,
    "start_time": "2022-07-15T15:58:48.515Z"
   },
   {
    "duration": 5,
    "start_time": "2022-07-15T15:58:56.551Z"
   },
   {
    "duration": 140,
    "start_time": "2022-07-15T15:59:41.557Z"
   },
   {
    "duration": 3,
    "start_time": "2022-07-15T15:59:48.954Z"
   },
   {
    "duration": 11,
    "start_time": "2022-07-15T16:00:00.894Z"
   },
   {
    "duration": 8,
    "start_time": "2022-07-15T16:00:28.673Z"
   },
   {
    "duration": 6,
    "start_time": "2022-07-15T16:00:32.963Z"
   },
   {
    "duration": 8,
    "start_time": "2022-07-15T16:00:46.500Z"
   },
   {
    "duration": 6,
    "start_time": "2022-07-15T16:00:53.241Z"
   },
   {
    "duration": 6,
    "start_time": "2022-07-15T16:01:05.217Z"
   },
   {
    "duration": 132,
    "start_time": "2022-07-15T16:01:26.406Z"
   },
   {
    "duration": 151,
    "start_time": "2022-07-15T16:01:50.015Z"
   },
   {
    "duration": 135,
    "start_time": "2022-07-15T16:02:59.640Z"
   },
   {
    "duration": 166,
    "start_time": "2022-07-15T16:03:07.928Z"
   },
   {
    "duration": 169,
    "start_time": "2022-07-15T16:03:53.922Z"
   },
   {
    "duration": 46,
    "start_time": "2022-07-16T07:38:28.767Z"
   },
   {
    "duration": 633,
    "start_time": "2022-07-16T07:47:39.816Z"
   },
   {
    "duration": 1688,
    "start_time": "2022-07-16T07:47:48.178Z"
   },
   {
    "duration": 719,
    "start_time": "2022-07-16T07:47:49.868Z"
   },
   {
    "duration": 7,
    "start_time": "2022-07-16T07:47:50.589Z"
   },
   {
    "duration": 13,
    "start_time": "2022-07-16T07:47:50.598Z"
   },
   {
    "duration": 12,
    "start_time": "2022-07-16T07:47:50.613Z"
   },
   {
    "duration": 15,
    "start_time": "2022-07-16T07:47:50.626Z"
   },
   {
    "duration": 11,
    "start_time": "2022-07-16T07:47:50.642Z"
   },
   {
    "duration": 9,
    "start_time": "2022-07-16T07:47:50.655Z"
   },
   {
    "duration": 5,
    "start_time": "2022-07-16T07:47:50.665Z"
   },
   {
    "duration": 9,
    "start_time": "2022-07-16T07:47:50.672Z"
   },
   {
    "duration": 12,
    "start_time": "2022-07-16T07:47:50.682Z"
   },
   {
    "duration": 4,
    "start_time": "2022-07-16T07:47:50.695Z"
   },
   {
    "duration": 243,
    "start_time": "2022-07-16T07:47:50.709Z"
   },
   {
    "duration": 249,
    "start_time": "2022-07-16T07:47:50.955Z"
   },
   {
    "duration": 655,
    "start_time": "2022-07-16T07:47:51.209Z"
   },
   {
    "duration": 585,
    "start_time": "2022-07-16T07:47:51.866Z"
   },
   {
    "duration": 4,
    "start_time": "2022-07-16T07:47:52.452Z"
   },
   {
    "duration": 20,
    "start_time": "2022-07-16T07:47:52.457Z"
   },
   {
    "duration": 33,
    "start_time": "2022-07-16T07:47:52.479Z"
   },
   {
    "duration": 3,
    "start_time": "2022-07-16T07:47:52.513Z"
   },
   {
    "duration": 6,
    "start_time": "2022-07-16T07:47:52.517Z"
   },
   {
    "duration": 7,
    "start_time": "2022-07-16T07:47:52.524Z"
   },
   {
    "duration": 5,
    "start_time": "2022-07-16T07:47:52.532Z"
   },
   {
    "duration": 5,
    "start_time": "2022-07-16T07:47:52.539Z"
   },
   {
    "duration": 2038,
    "start_time": "2022-07-16T08:27:50.201Z"
   },
   {
    "duration": 89,
    "start_time": "2022-07-16T08:27:52.241Z"
   },
   {
    "duration": 8,
    "start_time": "2022-07-16T08:27:52.331Z"
   },
   {
    "duration": 18,
    "start_time": "2022-07-16T08:27:52.340Z"
   },
   {
    "duration": 17,
    "start_time": "2022-07-16T08:27:52.360Z"
   },
   {
    "duration": 10,
    "start_time": "2022-07-16T08:27:52.379Z"
   },
   {
    "duration": 11,
    "start_time": "2022-07-16T08:27:52.391Z"
   },
   {
    "duration": 10,
    "start_time": "2022-07-16T08:27:52.403Z"
   },
   {
    "duration": 9,
    "start_time": "2022-07-16T08:27:52.414Z"
   },
   {
    "duration": 5,
    "start_time": "2022-07-16T08:27:52.425Z"
   },
   {
    "duration": 8,
    "start_time": "2022-07-16T08:27:52.432Z"
   },
   {
    "duration": 5,
    "start_time": "2022-07-16T08:27:52.442Z"
   },
   {
    "duration": 275,
    "start_time": "2022-07-16T08:27:52.449Z"
   },
   {
    "duration": 294,
    "start_time": "2022-07-16T08:27:52.728Z"
   },
   {
    "duration": 600,
    "start_time": "2022-07-16T08:27:53.024Z"
   },
   {
    "duration": 461,
    "start_time": "2022-07-16T08:27:53.626Z"
   },
   {
    "duration": 5,
    "start_time": "2022-07-16T08:27:54.090Z"
   },
   {
    "duration": 33,
    "start_time": "2022-07-16T08:27:54.097Z"
   },
   {
    "duration": 30,
    "start_time": "2022-07-16T08:27:54.132Z"
   },
   {
    "duration": 23,
    "start_time": "2022-07-16T08:27:54.164Z"
   },
   {
    "duration": 27,
    "start_time": "2022-07-16T08:27:54.188Z"
   },
   {
    "duration": 33,
    "start_time": "2022-07-16T08:27:54.216Z"
   },
   {
    "duration": 27,
    "start_time": "2022-07-16T08:27:54.250Z"
   },
   {
    "duration": 35,
    "start_time": "2022-07-16T08:27:54.278Z"
   },
   {
    "duration": 0,
    "start_time": "2022-07-16T09:42:09.630Z"
   },
   {
    "duration": 0,
    "start_time": "2022-07-16T09:42:09.632Z"
   },
   {
    "duration": 0,
    "start_time": "2022-07-16T09:42:09.634Z"
   },
   {
    "duration": 0,
    "start_time": "2022-07-16T09:42:09.636Z"
   },
   {
    "duration": 0,
    "start_time": "2022-07-16T09:42:09.637Z"
   },
   {
    "duration": 0,
    "start_time": "2022-07-16T09:42:09.639Z"
   },
   {
    "duration": 0,
    "start_time": "2022-07-16T09:42:09.641Z"
   },
   {
    "duration": 0,
    "start_time": "2022-07-16T09:42:09.643Z"
   },
   {
    "duration": 0,
    "start_time": "2022-07-16T09:42:09.645Z"
   },
   {
    "duration": 0,
    "start_time": "2022-07-16T09:42:09.647Z"
   },
   {
    "duration": 0,
    "start_time": "2022-07-16T09:42:09.648Z"
   },
   {
    "duration": 1,
    "start_time": "2022-07-16T09:42:09.651Z"
   },
   {
    "duration": 0,
    "start_time": "2022-07-16T09:42:09.654Z"
   },
   {
    "duration": 0,
    "start_time": "2022-07-16T09:42:09.657Z"
   },
   {
    "duration": 0,
    "start_time": "2022-07-16T09:42:09.710Z"
   },
   {
    "duration": 0,
    "start_time": "2022-07-16T09:42:09.713Z"
   },
   {
    "duration": 0,
    "start_time": "2022-07-16T09:42:09.716Z"
   },
   {
    "duration": 0,
    "start_time": "2022-07-16T09:42:09.718Z"
   },
   {
    "duration": 0,
    "start_time": "2022-07-16T09:42:09.719Z"
   },
   {
    "duration": 0,
    "start_time": "2022-07-16T09:42:09.720Z"
   },
   {
    "duration": 0,
    "start_time": "2022-07-16T09:42:09.721Z"
   },
   {
    "duration": 0,
    "start_time": "2022-07-16T09:42:09.723Z"
   },
   {
    "duration": 0,
    "start_time": "2022-07-16T09:42:09.724Z"
   },
   {
    "duration": 0,
    "start_time": "2022-07-16T09:42:09.726Z"
   },
   {
    "duration": 0,
    "start_time": "2022-07-16T09:42:09.728Z"
   },
   {
    "duration": 0,
    "start_time": "2022-07-16T09:42:09.729Z"
   },
   {
    "duration": 0,
    "start_time": "2022-07-16T09:42:09.733Z"
   },
   {
    "duration": 0,
    "start_time": "2022-07-16T09:42:09.736Z"
   },
   {
    "duration": 0,
    "start_time": "2022-07-16T09:42:09.738Z"
   },
   {
    "duration": 0,
    "start_time": "2022-07-16T09:42:09.741Z"
   },
   {
    "duration": 0,
    "start_time": "2022-07-16T09:42:09.744Z"
   },
   {
    "duration": 0,
    "start_time": "2022-07-16T09:42:09.747Z"
   },
   {
    "duration": 2343,
    "start_time": "2022-07-17T03:15:57.659Z"
   },
   {
    "duration": 115,
    "start_time": "2022-07-17T03:16:00.005Z"
   },
   {
    "duration": 8,
    "start_time": "2022-07-17T03:16:00.122Z"
   },
   {
    "duration": 21,
    "start_time": "2022-07-17T03:16:01.662Z"
   },
   {
    "duration": 7,
    "start_time": "2022-07-17T03:16:01.824Z"
   },
   {
    "duration": 12,
    "start_time": "2022-07-17T03:16:02.004Z"
   },
   {
    "duration": 9,
    "start_time": "2022-07-17T03:16:02.206Z"
   },
   {
    "duration": 11,
    "start_time": "2022-07-17T03:16:02.407Z"
   },
   {
    "duration": 4,
    "start_time": "2022-07-17T03:16:02.860Z"
   },
   {
    "duration": 4,
    "start_time": "2022-07-17T03:16:03.059Z"
   },
   {
    "duration": 7,
    "start_time": "2022-07-17T03:16:03.393Z"
   },
   {
    "duration": 4,
    "start_time": "2022-07-17T03:16:04.005Z"
   },
   {
    "duration": 242,
    "start_time": "2022-07-17T03:16:05.538Z"
   },
   {
    "duration": 351,
    "start_time": "2022-07-17T03:16:07.674Z"
   },
   {
    "duration": 580,
    "start_time": "2022-07-17T03:16:08.407Z"
   },
   {
    "duration": 485,
    "start_time": "2022-07-17T03:16:10.060Z"
   },
   {
    "duration": 4,
    "start_time": "2022-07-17T03:16:15.945Z"
   },
   {
    "duration": 19,
    "start_time": "2022-07-17T03:16:23.322Z"
   },
   {
    "duration": 22,
    "start_time": "2022-07-17T03:17:10.142Z"
   },
   {
    "duration": 37,
    "start_time": "2022-07-17T03:17:17.123Z"
   },
   {
    "duration": 3,
    "start_time": "2022-07-17T03:18:24.884Z"
   },
   {
    "duration": 3,
    "start_time": "2022-07-17T03:18:25.528Z"
   },
   {
    "duration": 6,
    "start_time": "2022-07-17T03:18:26.444Z"
   },
   {
    "duration": 3,
    "start_time": "2022-07-17T03:18:27.731Z"
   },
   {
    "duration": 4,
    "start_time": "2022-07-17T03:18:28.589Z"
   },
   {
    "duration": 1303748,
    "start_time": "2022-07-17T03:18:31.267Z"
   },
   {
    "duration": 0,
    "start_time": "2022-07-17T03:40:15.022Z"
   },
   {
    "duration": 0,
    "start_time": "2022-07-17T03:40:15.027Z"
   },
   {
    "duration": 0,
    "start_time": "2022-07-17T03:40:15.028Z"
   },
   {
    "duration": 0,
    "start_time": "2022-07-17T03:40:15.029Z"
   },
   {
    "duration": 78,
    "start_time": "2022-07-17T03:40:15.030Z"
   },
   {
    "duration": 0,
    "start_time": "2022-07-17T03:40:15.117Z"
   },
   {
    "duration": 0,
    "start_time": "2022-07-17T03:40:15.118Z"
   },
   {
    "duration": 6,
    "start_time": "2022-07-17T03:41:12.409Z"
   },
   {
    "duration": 88,
    "start_time": "2022-07-17T03:41:14.121Z"
   },
   {
    "duration": 8,
    "start_time": "2022-07-17T03:41:18.210Z"
   },
   {
    "duration": 6,
    "start_time": "2022-07-17T03:41:19.109Z"
   },
   {
    "duration": 3,
    "start_time": "2022-07-17T03:41:20.111Z"
   },
   {
    "duration": 157106,
    "start_time": "2022-07-17T03:41:22.610Z"
   },
   {
    "duration": 102,
    "start_time": "2022-07-17T03:44:46.911Z"
   },
   {
    "duration": 6,
    "start_time": "2022-07-17T03:45:13.609Z"
   },
   {
    "duration": 165111,
    "start_time": "2022-07-17T03:45:18.709Z"
   },
   {
    "duration": 290,
    "start_time": "2022-07-17T03:48:19.720Z"
   },
   {
    "duration": 11,
    "start_time": "2022-07-17T03:48:20.711Z"
   },
   {
    "duration": 93,
    "start_time": "2022-07-17T03:48:22.418Z"
   },
   {
    "duration": 45305,
    "start_time": "2022-07-17T03:48:23.710Z"
   },
   {
    "duration": 0,
    "start_time": "2022-07-17T03:49:09.017Z"
   },
   {
    "duration": 107,
    "start_time": "2022-07-17T03:49:16.309Z"
   },
   {
    "duration": 1069305,
    "start_time": "2022-07-17T03:49:29.010Z"
   },
   {
    "duration": 68711,
    "start_time": "2022-07-17T04:07:43.715Z"
   },
   {
    "duration": 91,
    "start_time": "2022-07-17T04:12:27.720Z"
   },
   {
    "duration": 1706,
    "start_time": "2022-07-17T04:12:27.814Z"
   }
  ],
  "kernelspec": {
   "display_name": "Python 3",
   "language": "python",
   "name": "python3"
  },
  "language_info": {
   "codemirror_mode": {
    "name": "ipython",
    "version": 3
   },
   "file_extension": ".py",
   "mimetype": "text/x-python",
   "name": "python",
   "nbconvert_exporter": "python",
   "pygments_lexer": "ipython3",
   "version": "3.8.8"
  },
  "toc": {
   "base_numbering": 1,
   "nav_menu": {},
   "number_sections": true,
   "sideBar": true,
   "skip_h1_title": true,
   "title_cell": "Содержание",
   "title_sidebar": "Contents",
   "toc_cell": true,
   "toc_position": {},
   "toc_section_display": true,
   "toc_window_display": true
  }
 },
 "nbformat": 4,
 "nbformat_minor": 2
}
