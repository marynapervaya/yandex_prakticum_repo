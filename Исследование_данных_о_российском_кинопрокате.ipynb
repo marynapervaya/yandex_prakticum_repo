{
 "cells": [
  {
   "cell_type": "markdown",
   "metadata": {
    "id": "sIfNaMOxgFyK"
   },
   "source": [
    "## Исследование данных о российском кинопрокате\n",
    "\n",
    "\n",
    "\n"
   ]
  },
  {
   "cell_type": "markdown",
   "metadata": {},
   "source": [
    "Описание проекта\n",
    "Заказчик этого исследования — Министерство культуры Российской Федерации.\n",
    "Вам нужно изучить рынок российского кинопроката и выявить текущие тренды. Уделите внимание фильмам, которые получили государственную поддержку. Попробуйте ответить на вопрос, насколько такие фильмы интересны зрителю.\n",
    "Вы будете работать с данными, опубликованными на портале открытых данных Министерства культуры. Набор данных содержит информацию о прокатных удостоверениях, сборах и государственной поддержке фильмов, а также информацию с сайта КиноПоиск.\n",
    "\n",
    "Цель исследования:\n",
    "1) Изучить сколько фильмов выходило в прокат каждый год (обратить внимание, что данные о прокате в кинотеатрах известны не для всех фильмов). Посчитать, какую долю составляют фильмы с указанной информацией о прокате в кинотеатрах.\n",
    "2) Изучить, как менялась динамика проката по годам. В каком году сумма сборов была минимальной? А максимальной?\n",
    "3) С помощью сводной таблицы посчитать среднюю и медианную сумму сборов для каждого года.\n",
    "4) Определить, влияет ли возрастное ограничение аудитории («6+», «12+», «16+», «18+» и т. д.) на сборы фильма в прокате в период с 2015 по 2019 год? Фильмы с каким возрастным ограничением собрали больше всего денег в прокате? Меняется ли картина в зависимости от года? Если да, предположить, с чем это может быть связано.\n",
    "5) Исследование фильмов, которые получили государственную поддержку.\n",
    "\n",
    "Ход исследования:\n",
    "Данные представлены в двух файлах /datasets/mkrf_movies.csv и /datasets/mkrf_shows.csv. о качестве данных ничего неизвестно, пожтому пере проверкой гипотезу понадобится обзор данных. Данные будут проверены на ошибки и будет оценено их влияние на исследование. Затем на этапе предобратобки удет проведен поиск возможности исправления самых критичных ошибок данных.\n",
    "\n",
    "таким образом, исследование пройдет в 5 шагов:\n",
    "1. Обзор данных\n",
    "2. Предобработка данных\n",
    "3. Проверка исследовательского анализа данных\n",
    "4. Исследование фильмов, которые получили государственную поддержку\n",
    "5. Общий вывод\n"
   ]
  },
  {
   "cell_type": "markdown",
   "metadata": {
    "id": "3bSlkCsbgFyL"
   },
   "source": [
    "### Шаг 1. Откройте файлы с данными и объедините их в один датафрейм. \n",
    "\n",
    "Объедините данные таким образом, чтобы все объекты из датасета `mkrf_movies` обязательно вошли в получившийся датафрейм. \n",
    "\n",
    "<div id=\"accordion\">\n",
    "    <div class=\"card\">\n",
    "        <div class=\"card-header\" id=\"headingThree\">\n",
    "            <button class=\"btn btn-link collapsed\" data-toggle=\"collapse\" data-target=\"#collapseHint_0\" aria-expanded=\"false\" aria-controls=\"collapseHint_0\">Подсказка</button>\n",
    "        </div>\n",
    "        <div id=\"collapseHint_0\" class=\"collapse\" aria-labelledby=\"headingThree\" data-parent=\"#accordion\">\n",
    "            <div class=\"card-body\">\n",
    "Обратите внимание на тип данных столбца, по которому будете соединять датафреймы. Тип данных этих столбцов должен быть одинаковым в обоих датафреймах.\n",
    "            </div>\n",
    "        </div>\n",
    "    </div>\n",
    "</div>"
   ]
  },
  {
   "cell_type": "code",
   "execution_count": 1,
   "metadata": {
    "id": "dw87FlzMgFyM",
    "scrolled": true
   },
   "outputs": [
    {
     "data": {
      "text/html": [
       "<div>\n",
       "<style scoped>\n",
       "    .dataframe tbody tr th:only-of-type {\n",
       "        vertical-align: middle;\n",
       "    }\n",
       "\n",
       "    .dataframe tbody tr th {\n",
       "        vertical-align: top;\n",
       "    }\n",
       "\n",
       "    .dataframe thead th {\n",
       "        text-align: right;\n",
       "    }\n",
       "</style>\n",
       "<table border=\"1\" class=\"dataframe\">\n",
       "  <thead>\n",
       "    <tr style=\"text-align: right;\">\n",
       "      <th></th>\n",
       "      <th>title</th>\n",
       "      <th>puNumber</th>\n",
       "      <th>show_start_date</th>\n",
       "      <th>type</th>\n",
       "      <th>film_studio</th>\n",
       "      <th>production_country</th>\n",
       "      <th>director</th>\n",
       "      <th>producer</th>\n",
       "      <th>age_restriction</th>\n",
       "      <th>refundable_support</th>\n",
       "      <th>nonrefundable_support</th>\n",
       "      <th>budget</th>\n",
       "      <th>financing_source</th>\n",
       "      <th>ratings</th>\n",
       "      <th>genres</th>\n",
       "    </tr>\n",
       "  </thead>\n",
       "  <tbody>\n",
       "    <tr>\n",
       "      <td>7484</td>\n",
       "      <td>Машины песенки. Серия \"Испанские мотивы\"</td>\n",
       "      <td>124010619</td>\n",
       "      <td>2019-12-30T12:00:00.000Z</td>\n",
       "      <td>Анимационный</td>\n",
       "      <td>Анимаккорд Лтд., ООО Студия \"АНИМАККОРД\"</td>\n",
       "      <td>Республика Кипр, Россия</td>\n",
       "      <td>А.Беляев</td>\n",
       "      <td>Д.Ловейко</td>\n",
       "      <td>«0+» - для любой зрительской аудитории</td>\n",
       "      <td>NaN</td>\n",
       "      <td>NaN</td>\n",
       "      <td>NaN</td>\n",
       "      <td>NaN</td>\n",
       "      <td>NaN</td>\n",
       "      <td>NaN</td>\n",
       "    </tr>\n",
       "    <tr>\n",
       "      <td>7485</td>\n",
       "      <td>Машины песенки. Серия \"Когда цветут кактусы\"</td>\n",
       "      <td>124010719</td>\n",
       "      <td>2019-12-30T12:00:00.000Z</td>\n",
       "      <td>Анимационный</td>\n",
       "      <td>Анимаккорд Лтд., ООО Студия \"АНИМАККОРД\"</td>\n",
       "      <td>Республика Кипр, Россия</td>\n",
       "      <td>И.Трусов</td>\n",
       "      <td>Д.Ловейко</td>\n",
       "      <td>«0+» - для любой зрительской аудитории</td>\n",
       "      <td>NaN</td>\n",
       "      <td>NaN</td>\n",
       "      <td>NaN</td>\n",
       "      <td>NaN</td>\n",
       "      <td>6.3</td>\n",
       "      <td>комедия,вестерн</td>\n",
       "    </tr>\n",
       "  </tbody>\n",
       "</table>\n",
       "</div>"
      ],
      "text/plain": [
       "                                             title   puNumber  \\\n",
       "7484      Машины песенки. Серия \"Испанские мотивы\"  124010619   \n",
       "7485  Машины песенки. Серия \"Когда цветут кактусы\"  124010719   \n",
       "\n",
       "               show_start_date          type  \\\n",
       "7484  2019-12-30T12:00:00.000Z  Анимационный   \n",
       "7485  2019-12-30T12:00:00.000Z  Анимационный   \n",
       "\n",
       "                                   film_studio       production_country  \\\n",
       "7484  Анимаккорд Лтд., ООО Студия \"АНИМАККОРД\"  Республика Кипр, Россия   \n",
       "7485  Анимаккорд Лтд., ООО Студия \"АНИМАККОРД\"  Республика Кипр, Россия   \n",
       "\n",
       "      director   producer                         age_restriction  \\\n",
       "7484  А.Беляев  Д.Ловейко  «0+» - для любой зрительской аудитории   \n",
       "7485  И.Трусов  Д.Ловейко  «0+» - для любой зрительской аудитории   \n",
       "\n",
       "      refundable_support  nonrefundable_support  budget financing_source  \\\n",
       "7484                 NaN                    NaN     NaN              NaN   \n",
       "7485                 NaN                    NaN     NaN              NaN   \n",
       "\n",
       "     ratings           genres  \n",
       "7484     NaN              NaN  \n",
       "7485     6.3  комедия,вестерн  "
      ]
     },
     "metadata": {},
     "output_type": "display_data"
    }
   ],
   "source": [
    "import pandas as pd# импортируем библиотеку, стандартно используется имя pd\n",
    "\n",
    "import matplotlib.pyplot as plt# импортируем библиотеку, стандартно используется имя plt\n",
    "\n",
    "import seaborn as sns# импортируем библиотеку, стандартно используется имя sns\n",
    "\n",
    "import numpy as np# импортируем библиотеку, стандартно используется имя np\n",
    "\n",
    "df_movies = pd.read_csv('https://code.s3.yandex.net/datasets/mkrf_movies.csv')# Чтение данных из файла\n",
    "display(df_movies.tail(2))#выводим последние строки на экран"
   ]
  },
  {
   "cell_type": "code",
   "execution_count": 2,
   "metadata": {},
   "outputs": [
    {
     "data": {
      "text/html": [
       "<div>\n",
       "<style scoped>\n",
       "    .dataframe tbody tr th:only-of-type {\n",
       "        vertical-align: middle;\n",
       "    }\n",
       "\n",
       "    .dataframe tbody tr th {\n",
       "        vertical-align: top;\n",
       "    }\n",
       "\n",
       "    .dataframe thead th {\n",
       "        text-align: right;\n",
       "    }\n",
       "</style>\n",
       "<table border=\"1\" class=\"dataframe\">\n",
       "  <thead>\n",
       "    <tr style=\"text-align: right;\">\n",
       "      <th></th>\n",
       "      <th>puNumber</th>\n",
       "      <th>box_office</th>\n",
       "    </tr>\n",
       "  </thead>\n",
       "  <tbody>\n",
       "    <tr>\n",
       "      <td>0</td>\n",
       "      <td>111000113</td>\n",
       "      <td>2.450000e+03</td>\n",
       "    </tr>\n",
       "    <tr>\n",
       "      <td>1</td>\n",
       "      <td>111000115</td>\n",
       "      <td>6.104000e+04</td>\n",
       "    </tr>\n",
       "    <tr>\n",
       "      <td>2</td>\n",
       "      <td>111000116</td>\n",
       "      <td>1.530300e+08</td>\n",
       "    </tr>\n",
       "    <tr>\n",
       "      <td>3</td>\n",
       "      <td>111000117</td>\n",
       "      <td>1.226096e+07</td>\n",
       "    </tr>\n",
       "    <tr>\n",
       "      <td>4</td>\n",
       "      <td>111000118</td>\n",
       "      <td>1.636841e+08</td>\n",
       "    </tr>\n",
       "  </tbody>\n",
       "</table>\n",
       "</div>"
      ],
      "text/plain": [
       "    puNumber    box_office\n",
       "0  111000113  2.450000e+03\n",
       "1  111000115  6.104000e+04\n",
       "2  111000116  1.530300e+08\n",
       "3  111000117  1.226096e+07\n",
       "4  111000118  1.636841e+08"
      ]
     },
     "metadata": {},
     "output_type": "display_data"
    }
   ],
   "source": [
    "df_show = pd.read_csv('https://code.s3.yandex.net/datasets/mkrf_shows.csv')# Чтение данных из файла\n",
    "display(df_show.head())#выводим первые строки на экран"
   ]
  },
  {
   "cell_type": "markdown",
   "metadata": {},
   "source": [
    "В названии колонки puNumber видны нарушения стиля. Строчные буквы сочетаются с прописными и слова не разделяются нижним подчеркиванием. Приведем названия в обоих таблицах в соответствие с хорошим стилем, используя метод rename()."
   ]
  },
  {
   "cell_type": "code",
   "execution_count": 3,
   "metadata": {},
   "outputs": [
    {
     "data": {
      "text/plain": [
       "Index(['pu_number', 'box_office'], dtype='object')"
      ]
     },
     "metadata": {},
     "output_type": "display_data"
    },
    {
     "data": {
      "text/plain": [
       "Index(['title', 'pu_number', 'show_start_date', 'type', 'film_studio',\n",
       "       'production_country', 'director', 'producer', 'age_restriction',\n",
       "       'refundable_support', 'nonrefundable_support', 'budget',\n",
       "       'financing_source', 'ratings', 'genres'],\n",
       "      dtype='object')"
      ]
     },
     "execution_count": 3,
     "metadata": {},
     "output_type": "execute_result"
    }
   ],
   "source": [
    "df_show = df_show.rename(columns ={'puNumber':'pu_number'})#переименуем столбец puNumber\n",
    "df_movies = df_movies.rename(columns ={'puNumber':'pu_number'})#переименуем столбец puNumber\n",
    "display(df_show.columns)#выведем на экран получившееся значение\n",
    "df_movies.columns#выведем на экран получившееся значение"
   ]
  },
  {
   "cell_type": "code",
   "execution_count": 4,
   "metadata": {},
   "outputs": [
    {
     "name": "stdout",
     "output_type": "stream",
     "text": [
      "<class 'pandas.core.frame.DataFrame'>\n",
      "RangeIndex: 7486 entries, 0 to 7485\n",
      "Data columns (total 15 columns):\n",
      "title                    7486 non-null object\n",
      "pu_number                7486 non-null object\n",
      "show_start_date          7486 non-null object\n",
      "type                     7486 non-null object\n",
      "film_studio              7468 non-null object\n",
      "production_country       7484 non-null object\n",
      "director                 7477 non-null object\n",
      "producer                 6918 non-null object\n",
      "age_restriction          7486 non-null object\n",
      "refundable_support       332 non-null float64\n",
      "nonrefundable_support    332 non-null float64\n",
      "budget                   332 non-null float64\n",
      "financing_source         332 non-null object\n",
      "ratings                  6519 non-null object\n",
      "genres                   6510 non-null object\n",
      "dtypes: float64(3), object(12)\n",
      "memory usage: 877.4+ KB\n"
     ]
    }
   ],
   "source": [
    "df_movies.info()#выводим сводную информацию о таблице"
   ]
  },
  {
   "cell_type": "code",
   "execution_count": 5,
   "metadata": {},
   "outputs": [
    {
     "data": {
      "text/html": [
       "<div>\n",
       "<style scoped>\n",
       "    .dataframe tbody tr th:only-of-type {\n",
       "        vertical-align: middle;\n",
       "    }\n",
       "\n",
       "    .dataframe tbody tr th {\n",
       "        vertical-align: top;\n",
       "    }\n",
       "\n",
       "    .dataframe thead th {\n",
       "        text-align: right;\n",
       "    }\n",
       "</style>\n",
       "<table border=\"1\" class=\"dataframe\">\n",
       "  <thead>\n",
       "    <tr style=\"text-align: right;\">\n",
       "      <th></th>\n",
       "      <th>title</th>\n",
       "      <th>pu_number</th>\n",
       "      <th>show_start_date</th>\n",
       "      <th>type</th>\n",
       "      <th>film_studio</th>\n",
       "      <th>production_country</th>\n",
       "      <th>director</th>\n",
       "      <th>producer</th>\n",
       "      <th>age_restriction</th>\n",
       "      <th>refundable_support</th>\n",
       "      <th>nonrefundable_support</th>\n",
       "      <th>budget</th>\n",
       "      <th>financing_source</th>\n",
       "      <th>ratings</th>\n",
       "      <th>genres</th>\n",
       "    </tr>\n",
       "  </thead>\n",
       "  <tbody>\n",
       "    <tr>\n",
       "      <td>1797</td>\n",
       "      <td>Курбан-роман. (История с жертвой)</td>\n",
       "      <td>нет</td>\n",
       "      <td>2014-05-15T12:00:00.000Z</td>\n",
       "      <td>Художественный</td>\n",
       "      <td>ФОНД \"ИННОВАЦИЯ\"</td>\n",
       "      <td>Россия</td>\n",
       "      <td>С.Юзеев</td>\n",
       "      <td>М.Галицкая</td>\n",
       "      <td>«12+» - для детей старше 12 лет</td>\n",
       "      <td>NaN</td>\n",
       "      <td>NaN</td>\n",
       "      <td>NaN</td>\n",
       "      <td>NaN</td>\n",
       "      <td>NaN</td>\n",
       "      <td>NaN</td>\n",
       "    </tr>\n",
       "  </tbody>\n",
       "</table>\n",
       "</div>"
      ],
      "text/plain": [
       "                                  title pu_number           show_start_date  \\\n",
       "1797  Курбан-роман. (История с жертвой)       нет  2014-05-15T12:00:00.000Z   \n",
       "\n",
       "                type       film_studio production_country director  \\\n",
       "1797  Художественный  ФОНД \"ИННОВАЦИЯ\"             Россия  С.Юзеев   \n",
       "\n",
       "        producer                  age_restriction  refundable_support  \\\n",
       "1797  М.Галицкая  «12+» - для детей старше 12 лет                 NaN   \n",
       "\n",
       "      nonrefundable_support  budget financing_source ratings genres  \n",
       "1797                    NaN     NaN              NaN     NaN    NaN  "
      ]
     },
     "execution_count": 5,
     "metadata": {},
     "output_type": "execute_result"
    }
   ],
   "source": [
    "df_movies[df_movies['pu_number']=='нет']#puNumber содержит значение нет"
   ]
  },
  {
   "cell_type": "code",
   "execution_count": 6,
   "metadata": {},
   "outputs": [
    {
     "name": "stdout",
     "output_type": "stream",
     "text": [
      "<class 'pandas.core.frame.DataFrame'>\n",
      "RangeIndex: 7486 entries, 0 to 7485\n",
      "Data columns (total 15 columns):\n",
      "title                    7486 non-null object\n",
      "pu_number                7486 non-null int64\n",
      "show_start_date          7486 non-null object\n",
      "type                     7486 non-null object\n",
      "film_studio              7468 non-null object\n",
      "production_country       7484 non-null object\n",
      "director                 7477 non-null object\n",
      "producer                 6918 non-null object\n",
      "age_restriction          7486 non-null object\n",
      "refundable_support       332 non-null float64\n",
      "nonrefundable_support    332 non-null float64\n",
      "budget                   332 non-null float64\n",
      "financing_source         332 non-null object\n",
      "ratings                  6519 non-null object\n",
      "genres                   6510 non-null object\n",
      "dtypes: float64(3), int64(1), object(11)\n",
      "memory usage: 877.4+ KB\n"
     ]
    }
   ],
   "source": [
    "df_movies['pu_number'] = df_movies['pu_number'].replace('нет', '0')#Методом replace() заменим значения в столбце puNumber \"нет\" на 0\n",
    "df_movies['pu_number'] = df_movies['pu_number'].astype('int')# Возвращает новую колонку, не заменяя предыдущую. Для замены, нужно выполнить присваивание.\n",
    "df_movies.info()#выводим сводную информацию о таблице для проверки внесенных изменений"
   ]
  },
  {
   "cell_type": "code",
   "execution_count": 7,
   "metadata": {},
   "outputs": [
    {
     "name": "stdout",
     "output_type": "stream",
     "text": [
      "<class 'pandas.core.frame.DataFrame'>\n",
      "RangeIndex: 3158 entries, 0 to 3157\n",
      "Data columns (total 2 columns):\n",
      "pu_number     3158 non-null int64\n",
      "box_office    3158 non-null float64\n",
      "dtypes: float64(1), int64(1)\n",
      "memory usage: 49.5 KB\n"
     ]
    }
   ],
   "source": [
    "df_show.info()#выводим сводную информацию о таблице show"
   ]
  },
  {
   "cell_type": "code",
   "execution_count": 8,
   "metadata": {},
   "outputs": [
    {
     "data": {
      "text/html": [
       "<div>\n",
       "<style scoped>\n",
       "    .dataframe tbody tr th:only-of-type {\n",
       "        vertical-align: middle;\n",
       "    }\n",
       "\n",
       "    .dataframe tbody tr th {\n",
       "        vertical-align: top;\n",
       "    }\n",
       "\n",
       "    .dataframe thead th {\n",
       "        text-align: right;\n",
       "    }\n",
       "</style>\n",
       "<table border=\"1\" class=\"dataframe\">\n",
       "  <thead>\n",
       "    <tr style=\"text-align: right;\">\n",
       "      <th></th>\n",
       "      <th>title</th>\n",
       "      <th>pu_number</th>\n",
       "      <th>show_start_date</th>\n",
       "      <th>type</th>\n",
       "      <th>film_studio</th>\n",
       "      <th>production_country</th>\n",
       "      <th>director</th>\n",
       "      <th>producer</th>\n",
       "      <th>age_restriction</th>\n",
       "      <th>refundable_support</th>\n",
       "      <th>nonrefundable_support</th>\n",
       "      <th>budget</th>\n",
       "      <th>financing_source</th>\n",
       "      <th>ratings</th>\n",
       "      <th>genres</th>\n",
       "      <th>box_office</th>\n",
       "    </tr>\n",
       "  </thead>\n",
       "  <tbody>\n",
       "    <tr>\n",
       "      <td>0</td>\n",
       "      <td>Открытый простор</td>\n",
       "      <td>221048915</td>\n",
       "      <td>2015-11-27T12:00:00.000Z</td>\n",
       "      <td>Художественный</td>\n",
       "      <td>Тачстоун Пикчерз, Кобальт Пикчерз, Бикон Пикче...</td>\n",
       "      <td>США</td>\n",
       "      <td>Кевин Костнер</td>\n",
       "      <td>Дэвид Валдес, Кевин Костнер, Джейк Эбертс</td>\n",
       "      <td>«18+» - запрещено для детей</td>\n",
       "      <td>NaN</td>\n",
       "      <td>NaN</td>\n",
       "      <td>NaN</td>\n",
       "      <td>NaN</td>\n",
       "      <td>7.2</td>\n",
       "      <td>боевик,драма,мелодрама</td>\n",
       "      <td>NaN</td>\n",
       "    </tr>\n",
       "    <tr>\n",
       "      <td>1</td>\n",
       "      <td>Особо важное задание</td>\n",
       "      <td>111013716</td>\n",
       "      <td>2016-09-13T12:00:00.000Z</td>\n",
       "      <td>Художественный</td>\n",
       "      <td>Киностудия \"Мосфильм\"</td>\n",
       "      <td>СССР</td>\n",
       "      <td>Е.Матвеев</td>\n",
       "      <td>NaN</td>\n",
       "      <td>«6+» - для детей старше 6 лет</td>\n",
       "      <td>NaN</td>\n",
       "      <td>NaN</td>\n",
       "      <td>NaN</td>\n",
       "      <td>NaN</td>\n",
       "      <td>6.6</td>\n",
       "      <td>драма,военный</td>\n",
       "      <td>NaN</td>\n",
       "    </tr>\n",
       "  </tbody>\n",
       "</table>\n",
       "</div>"
      ],
      "text/plain": [
       "                  title  pu_number           show_start_date            type  \\\n",
       "0      Открытый простор  221048915  2015-11-27T12:00:00.000Z  Художественный   \n",
       "1  Особо важное задание  111013716  2016-09-13T12:00:00.000Z  Художественный   \n",
       "\n",
       "                                         film_studio production_country  \\\n",
       "0  Тачстоун Пикчерз, Кобальт Пикчерз, Бикон Пикче...                США   \n",
       "1                              Киностудия \"Мосфильм\"               СССР   \n",
       "\n",
       "        director                                   producer  \\\n",
       "0  Кевин Костнер  Дэвид Валдес, Кевин Костнер, Джейк Эбертс   \n",
       "1      Е.Матвеев                                        NaN   \n",
       "\n",
       "                 age_restriction  refundable_support  nonrefundable_support  \\\n",
       "0    «18+» - запрещено для детей                 NaN                    NaN   \n",
       "1  «6+» - для детей старше 6 лет                 NaN                    NaN   \n",
       "\n",
       "   budget financing_source ratings                  genres  box_office  \n",
       "0     NaN              NaN     7.2  боевик,драма,мелодрама         NaN  \n",
       "1     NaN              NaN     6.6           драма,военный         NaN  "
      ]
     },
     "execution_count": 8,
     "metadata": {},
     "output_type": "execute_result"
    }
   ],
   "source": [
    "df = df_movies.merge(df_show, on='pu_number', how='left')#используем режим объединения left,когда в результате слияния обязательно будут все строки из левого DataFrame (в нашем случае df_movies)\n",
    "df.head(2)"
   ]
  },
  {
   "cell_type": "markdown",
   "metadata": {},
   "source": [
    "***Вывод***\n",
    "\n",
    "Итак, в двух таблицах было 16 столбцов (14 столбцов в таблице df_movies и 2 столбца в таблице df_show).\n",
    "Установили в названии колонки pu_number нарушения стиля и устранили перед объединением таблиц методом rename().\n",
    "Методом merge() объединили 2 таблицы. \n",
    "Описание данных получившейся таблицы.\n",
    "\n",
    "title — название фильма;\n",
    "pu_number — номер прокатного удостоверения;\n",
    "show_start_date — дата премьеры фильма;\n",
    "type — тип фильма;\n",
    "film_studio — студия-производитель;\n",
    "production_country — страна-производитель;\n",
    "director — режиссёр;\n",
    "producer — продюсер;\n",
    "age_restriction — возрастная категория;\n",
    "refundable_support — объём возвратных средств государственной поддержки;\n",
    "nonrefundable_support — объём невозвратных средств государственной поддержки;\n",
    "financing_source — источник государственного финансирования;\n",
    "budget — общий бюджет фильма;\n",
    "ratings — рейтинг фильма на КиноПоиске;\n",
    "genres — жанр фильма.\n",
    "puNumber — номер прокатного удостоверения;\n",
    "box_office — сборы в рублях.\n",
    "\n",
    "Данные содержат информацию из реестра прокатных удостоверений и сведения о показах фильмов в российских кинотеатрах.\n",
    "\n",
    "Предварительном можно утверждать в данных достаточно для проверки гипотез. Но вданных встречаются следующие проблемы.\n",
    "1. В столбце ratings данные содержат знак '%' и определены в процентах.\n",
    "2. В столбце state_support_ratio содрежится значение inf\n",
    "3. Данные содержат пропущенные значения\n",
    "4. Данные содержат дубликаты\n",
    "\n",
    "После предобработки данных исследование станет более точным.\n",
    "Чтобы двигаться дальше надо устранить проблемы в данных."
   ]
  },
  {
   "cell_type": "markdown",
   "metadata": {
    "id": "KLDGpPG0gFyM"
   },
   "source": [
    "### Шаг 2. Предобработка данных"
   ]
  },
  {
   "cell_type": "markdown",
   "metadata": {
    "id": "ssWwKXsxgFyO"
   },
   "source": [
    "#### Шаг 2.1. Проверьте типы данных\n",
    "\n",
    "- Проверьте типы данных в датафрейме и преобразуйте их там, где это необходимо."
   ]
  },
  {
   "cell_type": "code",
   "execution_count": 9,
   "metadata": {
    "id": "kVGSplJOgFyO"
   },
   "outputs": [
    {
     "name": "stdout",
     "output_type": "stream",
     "text": [
      "<class 'pandas.core.frame.DataFrame'>\n",
      "Int64Index: 7486 entries, 0 to 7485\n",
      "Data columns (total 16 columns):\n",
      "title                    7486 non-null object\n",
      "pu_number                7486 non-null int64\n",
      "show_start_date          7486 non-null object\n",
      "type                     7486 non-null object\n",
      "film_studio              7468 non-null object\n",
      "production_country       7484 non-null object\n",
      "director                 7477 non-null object\n",
      "producer                 6918 non-null object\n",
      "age_restriction          7486 non-null object\n",
      "refundable_support       332 non-null float64\n",
      "nonrefundable_support    332 non-null float64\n",
      "budget                   332 non-null float64\n",
      "financing_source         332 non-null object\n",
      "ratings                  6519 non-null object\n",
      "genres                   6510 non-null object\n",
      "box_office               3158 non-null float64\n",
      "dtypes: float64(4), int64(1), object(11)\n",
      "memory usage: 994.2+ KB\n"
     ]
    }
   ],
   "source": [
    "df.info()#выводим сводную информацию о таблице"
   ]
  },
  {
   "cell_type": "code",
   "execution_count": 10,
   "metadata": {},
   "outputs": [
    {
     "data": {
      "text/plain": [
       "array(['7.2', '6.6', '6.8', '7.7', '8.3', '8.0', '7.8', '8.1', '7.1',\n",
       "       '6.0', '7.4', '5.8', '8.7', '6.3', '6.9', '5.0', '4.3', '7.3',\n",
       "       '7.0', '6.4', nan, '8.2', '7.5', '6.7', '7.9', '5.9', '6.2', '5.6',\n",
       "       '6.5', '2.4', '7.6', '6.1', '8.6', '8.5', '8.8', '5.5', '5.1',\n",
       "       '5.7', '5.4', '99%', '4.4', '4.5', '5.3', '4.1', '8.4', '2.6',\n",
       "       '3.8', '4.6', '4.8', '4.0', '3.0', '1.6', '4.2', '5.2', '4.7',\n",
       "       '4.9', '3.9', '2.7', '3.3', '2.9', '28%', '3.7', '1.4', '3.1',\n",
       "       '97%', '3.5', '3.2', '2.8', '1.5', '2.1', '2.5', '9.2', '3.4',\n",
       "       '1.1', '3.6', '83%', '64%', '91%', '94%', '62%', '79%', '90%',\n",
       "       '19%', '88%', '1.0', '89%', '1.3', '1.9', '1.8', '1.2', '1.7',\n",
       "       '9.0', '98%', '8.9', '9.1'], dtype=object)"
      ]
     },
     "execution_count": 10,
     "metadata": {},
     "output_type": "execute_result"
    }
   ],
   "source": [
    "df['ratings'].unique()#выведем Метод unique() для просмотра всех уникальных значений в столбце"
   ]
  },
  {
   "cell_type": "code",
   "execution_count": 11,
   "metadata": {},
   "outputs": [
    {
     "data": {
      "text/plain": [
       "0       7.2\n",
       "1       6.6\n",
       "2       6.8\n",
       "3       6.8\n",
       "4       6.8\n",
       "       ... \n",
       "7481    NaN\n",
       "7482    5.4\n",
       "7483    NaN\n",
       "7484    NaN\n",
       "7485    6.3\n",
       "Name: ratings, Length: 7486, dtype: float64"
      ]
     },
     "metadata": {},
     "output_type": "display_data"
    },
    {
     "data": {
      "text/plain": [
       "array([7.2, 6.6, 6.8, 7.7, 8.3, 8. , 7.8, 8.1, 7.1, 6. , 7.4, 5.8, 8.7,\n",
       "       6.3, 6.9, 5. , 4.3, 7.3, 7. , 6.4, nan, 8.2, 7.5, 6.7, 7.9, 5.9,\n",
       "       6.2, 5.6, 6.5, 2.4, 7.6, 6.1, 8.6, 8.5, 8.8, 5.5, 5.1, 5.7, 5.4,\n",
       "       9.9, 4.4, 4.5, 5.3, 4.1, 8.4, 2.6, 3.8, 4.6, 4.8, 4. , 3. , 1.6,\n",
       "       4.2, 5.2, 4.7, 4.9, 3.9, 2.7, 3.3, 2.9, 2.8, 3.7, 1.4, 3.1, 9.7,\n",
       "       3.5, 3.2, 1.5, 2.1, 2.5, 9.2, 3.4, 1.1, 3.6, 9.1, 9.4, 9. , 1.9,\n",
       "       1. , 8.9, 1.3, 1.8, 1.2, 1.7, 9.8])"
      ]
     },
     "metadata": {},
     "output_type": "display_data"
    }
   ],
   "source": [
    "def string_to_float(x):#создадим функцию для изменения данных, содержащих %\n",
    "    x = str(x)\n",
    "    if x[-1] == '%':\n",
    "        return float(x[0:-1]) / 10\n",
    "    return float(x)\n",
    "\n",
    "df['ratings'] = df['ratings'].apply(string_to_float)#применим функцию к столбцу\n",
    "display(df['ratings'])\n",
    "display(df['ratings'].unique())#проверим итоговый результат"
   ]
  },
  {
   "cell_type": "markdown",
   "metadata": {},
   "source": [
    "В столбце show_start_date отражен тип данных object. Переведем данные из строки в дату и время."
   ]
  },
  {
   "cell_type": "code",
   "execution_count": 12,
   "metadata": {},
   "outputs": [
    {
     "name": "stderr",
     "output_type": "stream",
     "text": [
      "/opt/conda/lib/python3.7/site-packages/ipykernel_launcher.py:1: DeprecationWarning: parsing timezone aware datetimes is deprecated; this will raise an error in the future\n",
      "  \"\"\"Entry point for launching an IPython kernel.\n"
     ]
    },
    {
     "data": {
      "text/plain": [
       "0   2015-11-27\n",
       "1   2016-09-13\n",
       "Name: show_start_date, dtype: datetime64[ns]"
      ]
     },
     "execution_count": 12,
     "metadata": {},
     "output_type": "execute_result"
    }
   ],
   "source": [
    "df['show_start_date'] = df['show_start_date'].values.astype('datetime64[D]')\n",
    "df['show_start_date'].head(2)"
   ]
  },
  {
   "cell_type": "code",
   "execution_count": 13,
   "metadata": {},
   "outputs": [],
   "source": [
    "pd.options.display.float_format = '{:,.3f}'.format#для всех данных установим формат"
   ]
  },
  {
   "cell_type": "markdown",
   "metadata": {},
   "source": [
    "***Вывод***\n",
    "\n",
    "Изучение типа данных обнаружила следующую проблему:\n",
    "1. в столбце ratings содержались значения в процентах. С помощью функции устранили указанную проблему.\n",
    "2. в столбце show_start_date отражен тип данных object. Перевели данные из строки в дату и время.\n",
    "\n"
   ]
  },
  {
   "cell_type": "markdown",
   "metadata": {
    "id": "i0MOLbF-gFyP"
   },
   "source": [
    "#### Шаг 2.2. Изучите пропуски в датафрейме\n",
    "\n",
    "- Объясните, почему заполнили пропуски определённым образом или почему не стали этого делать."
   ]
  },
  {
   "cell_type": "code",
   "execution_count": 14,
   "metadata": {},
   "outputs": [
    {
     "data": {
      "text/plain": [
       "7486"
      ]
     },
     "execution_count": 14,
     "metadata": {},
     "output_type": "execute_result"
    }
   ],
   "source": [
    "(len(df))#Вычислиv длину списка"
   ]
  },
  {
   "cell_type": "code",
   "execution_count": 15,
   "metadata": {
    "id": "8MJD_lkngFyP"
   },
   "outputs": [
    {
     "data": {
      "text/plain": [
       "title                       0\n",
       "pu_number                   0\n",
       "show_start_date             0\n",
       "type                        0\n",
       "film_studio                18\n",
       "production_country          2\n",
       "director                    9\n",
       "producer                  568\n",
       "age_restriction             0\n",
       "refundable_support       7154\n",
       "nonrefundable_support    7154\n",
       "budget                   7154\n",
       "financing_source         7154\n",
       "ratings                   967\n",
       "genres                    976\n",
       "box_office               4328\n",
       "dtype: int64"
      ]
     },
     "execution_count": 15,
     "metadata": {},
     "output_type": "execute_result"
    }
   ],
   "source": [
    "df.isna().sum()#определим пропущенные значения"
   ]
  },
  {
   "cell_type": "code",
   "execution_count": 16,
   "metadata": {},
   "outputs": [
    {
     "name": "stdout",
     "output_type": "stream",
     "text": [
      "В refundable_support пропущено 95.57% значений\n",
      "В nonrefundable_support пропущено 95.57% значений\n",
      "В genres пропущено 13.04% значений\n",
      "В producer пропущено 7.59% значений\n",
      "В director пропущено 0.12% значений\n",
      "В film_studio пропущено 0.24% значений\n",
      "В box_office пропущено 57.81% значений\n",
      "В title пропущено 0.00% значений\n",
      "В show_start_date пропущено 0.00% значений\n",
      "В film_studio пропущено 0.24% значений\n",
      "В ratings пропущено 12.92% значений\n",
      "В financing_source пропущено 95.57% значений\n",
      "В production_country пропущено 0.03% значений\n",
      "В budget пропущено 95.57% значений\n"
     ]
    }
   ],
   "source": [
    "#создадим функцию, получющую на вход название признака, и возвращающую число пропущенных значений\n",
    "def print_nan_ratio(column):\n",
    "    print('В {0} пропущено {1} значений'.format(column, \"{:.2%}\".format((len(df) - df[column].count())/len(df))))\n",
    "print_nan_ratio('refundable_support')\n",
    "print_nan_ratio('nonrefundable_support')\n",
    "print_nan_ratio('genres')\n",
    "print_nan_ratio('producer')\n",
    "print_nan_ratio('director')\n",
    "print_nan_ratio('film_studio')\n",
    "print_nan_ratio('box_office')\n",
    "print_nan_ratio('title')\n",
    "print_nan_ratio('show_start_date')\n",
    "print_nan_ratio('film_studio')\n",
    "print_nan_ratio('ratings')\n",
    "print_nan_ratio('financing_source')\n",
    "print_nan_ratio('production_country')\n",
    "print_nan_ratio('budget')\n",
    "\n",
    "#refundable_support_median = df.pivot_table(index='budget', values='refundable_support', aggfunc=['median', 'count'])\n",
    "#refundable_support_median.columns = ['median', 'count']\n",
    "#refundable_support_median.head()"
   ]
  },
  {
   "cell_type": "markdown",
   "metadata": {},
   "source": [
    "***Вывод***\n",
    "\n",
    "\n",
    "Поскольку в столбцах пропущены уникальные значения, то заменять их не будем:\n",
    "- genres\n",
    "- producer\n",
    "- director\n",
    "-  film_studio\n",
    "- title\n",
    "- show_start_date\n",
    "- financing_source\n",
    "- production_country.\n",
    "\n",
    "Для столбцов:\n",
    "- budget\n",
    "- refundable_support\n",
    "- nonrefundable_support\n",
    "\n",
    "пропущенные значения скорее всего обозначают, что фильмы были без государственно поддержки.\n",
    "\n",
    "Для столбца \n",
    "- ratings\n",
    "\n",
    "значения заменять не будем, т.к на величину рейтинга может влиять слишком много факторов."
   ]
  },
  {
   "cell_type": "markdown",
   "metadata": {},
   "source": [
    "#### Шаг 2.3. Изучите дубликаты\n",
    "\n",
    "- Посмотрите, какая общая проблема встречается почти во всех категориальных столбцах;\n",
    "- Исправьте проблемные значения в поле `type`."
   ]
  },
  {
   "cell_type": "code",
   "execution_count": 17,
   "metadata": {},
   "outputs": [
    {
     "data": {
      "text/plain": [
       "0"
      ]
     },
     "execution_count": 17,
     "metadata": {},
     "output_type": "execute_result"
    }
   ],
   "source": [
    "df.duplicated().sum()# установим количество дубликатов"
   ]
  },
  {
   "cell_type": "code",
   "execution_count": 18,
   "metadata": {
    "scrolled": true
   },
   "outputs": [
    {
     "data": {
      "text/plain": [
       "array(['США', 'СССР', 'Франция', 'СССР,Венгрия',\n",
       "       'Германия,Великобритания', 'Великобритания,Италия', 'Чехословакия',\n",
       "       'США,Франция,Турция', 'НоваяЗеландия', 'Канада,Франция,Испания',\n",
       "       'США,Германия', 'США,Великобритания', 'Великобритания',\n",
       "       'Франция,Мексика,США', 'Россия,Казахстан,США', 'СССР,Швеция',\n",
       "       'СССР,Франция,Англия,Куба,ГДР', 'Германия',\n",
       "       'Великобритания,США,Германия,КНР', 'СССР,ЧССР,ЗападныйБерлин,ПНР',\n",
       "       'СССР,Италия', 'Гонконг,КНР', 'США,Франция',\n",
       "       'США,Япония,Франция,Великобритания',\n",
       "       'Гонконг,Сингапур,Таиланд,Великобритания', 'США,Канада',\n",
       "       'Франция,Италия,Великобритания,США', 'Франция,США',\n",
       "       'Ирландия,Великобритания,Германия', 'Чехия', 'США,Австралия',\n",
       "       'СССР,Финляндия', 'США,Франция,Великобритания,Австрия',\n",
       "       'США,Бельгия', 'США,Ирландия,Великобритания', 'Великобритания,США',\n",
       "       'Люксембург,Нидерланды,Испания,Великобритания,США,Италия',\n",
       "       'Великобритания,Франция,США', 'НоваяЗеландия,США',\n",
       "       'США,Великобритания,Чехия', 'Канада,Франция,Великобритания',\n",
       "       'Ирландия', 'Великобритания,Германия,США',\n",
       "       'США,Франция,Великобритания', 'Япония', 'СССР,Польша',\n",
       "       'Франция,Испания', 'Канада,Франция', 'Германия,Италия,США',\n",
       "       'Аргентина,Бразилия', 'Дания,Швейцария,Бельгия,Франция',\n",
       "       'США,Испания', 'Германия,США',\n",
       "       'Франция,Австрия,Германия,Италия,США', 'Австрия',\n",
       "       'США,Канада,Германия', 'СССР,Швейцария,Франция',\n",
       "       'Россия,Казахстан', 'Гонконг', 'Италия', 'США,ОАЭ', 'Россия',\n",
       "       'США,Франция,Испания,Великобритания', 'Великобритания,Франция',\n",
       "       'США,Италия,Испания,Аргентина', 'Франция,Великобритания',\n",
       "       'КНР,Гонконг', 'Франция,Италия,Швейцария', 'США,НоваяЗеландия',\n",
       "       'Франция,Бельгия', 'КНР', 'Германия,Великобритания,Австрия',\n",
       "       'Великобритания,Израиль,Франция,Япония,США', 'Швеция', 'Испания',\n",
       "       'Дания', 'Франция,Бельгия,Люксембург', 'США,Индия,ОАЭ',\n",
       "       'Германия,Канада,Великобритания,Швейцария,Франция', 'Мексика,Чили',\n",
       "       'Аргентина', 'Бразилия', 'Чили', 'Австралия', 'Португалия,Франция',\n",
       "       'США,ЮАР', 'Исландия,Ирландия,Германия', 'США,Индонезия',\n",
       "       'ЮжнаяКорея', 'Мексика,Испания,Дания,США', 'Франция,Италия',\n",
       "       'США,Венгрия,Великобритания', 'Бельгия,Франция,Италия',\n",
       "       'Чехия,Германия', 'Германия,Франция', 'США,Нидерланды', 'Украина',\n",
       "       'Великобритания,Германия', 'США,Франция,Испания', 'Италия,Франция',\n",
       "       'Канада', 'Швеция,Франция,Дания', 'Германия,Франция,Польша',\n",
       "       'Франция,Великобритания,Германия',\n",
       "       'США,Бразилия,Франция,Австралия,Великобритания,Германия',\n",
       "       'Германия,Австрия', 'Германия,Италия,Шри,Ланка',\n",
       "       'Великобритания,Испания', 'США,Великобритания,Канада,Швеция',\n",
       "       'БоснияиГерцеговина,Франция,Великобритания,Германия,Словения,Бельгия,Сербия',\n",
       "       'Великобритания,Франция,Италия,США', 'Испания,Франция',\n",
       "       'Великобритания,Австралия,США', 'Норвегия,Швеция,Дания,Германия',\n",
       "       'Норвегия', 'Швейцария', 'Греция,Германия,Франция', 'Норвения',\n",
       "       'ЮжнаяКорея,США', 'Чили,Франция,США', 'Австрия,Германия,Франция',\n",
       "       'Швеция,Дания', 'Великобритания,Франция,Бельгия,Италия',\n",
       "       'Франция,Германия', 'Грузия,Франция,Люксембург',\n",
       "       'США,Франция,Великобритания,Бразилия', 'США,КНР',\n",
       "       'Мексика,Франция', 'США,Германия,Гонконг,Сингапур',\n",
       "       'Финляндия,Австрия,Россия', 'Испания,Куба', 'Великобритания,ЮАР',\n",
       "       'Великобритания,Ирландия', 'Израиль',\n",
       "       'Бразилия,Германия,Порртугалия,Франция', 'Франция,Канада,Бельгия',\n",
       "       'Испания,Канада,Япония', 'Иран', 'Швеция,Куба',\n",
       "       'США,Великобритания,Ирландия', 'Нидерланды', 'Испания,Канада',\n",
       "       'Япония,Великобритания', 'Великобритания,Норвегия,Дания,Германия',\n",
       "       'Финляндия,Франция,Германия',\n",
       "       'Мексика,Франция,Нидерланды,Германия', 'США,Индия',\n",
       "       'США,Великобритания,Индия', 'США,Канада,Бельгия',\n",
       "       'РеспубликаУзбекистан', 'Турция',\n",
       "       'Сербия,Словения,Хорватия,Черногория,Македония', 'Киргизия',\n",
       "       'Германия,Нидерланды,Беларусь,Россия,Латвия', 'Индия',\n",
       "       'Нидерланды,Россия,Германия',\n",
       "       'Великобритания,Нидерланды,Франция,Хорватия', 'Канада,ЮжнаяКорея',\n",
       "       'Великобритания,Польша,КНР,Индия,Норвегия',\n",
       "       'Япония,Франция,США,ЮжнаяКорея,Турция',\n",
       "       'Мексика,Аргентина,Великобритания', 'Израиль,Франция',\n",
       "       'Польша,Португалия,Франция,Великобритания', 'Австралия,США',\n",
       "       'Франция,Люксембург,Бельгия', 'Армения',\n",
       "       'Бельгия,Люксембург,Франция,Швейцария',\n",
       "       'США,Великобритания,Канада', 'Норвегия,Швеция', 'КНР,Гонконг,США',\n",
       "       'США,Сингапур,Малайзия,Индонезия', 'Германия,Россия',\n",
       "       'Япония,Канада', 'Финляндия,Дания,Германия,Ирландия',\n",
       "       'Франция,Люксембург,Германия,Бельгия,Швейцария,Великобритания',\n",
       "       'Канада,США', 'США,Италия,Испания', 'США,Швейцария,Франция',\n",
       "       'Испания,США,Колумбия', 'Канада,ЮАР', 'Франция,Россия',\n",
       "       'Германия,Финляндия,Австралия', 'Дания,Швеция', 'Бельгия',\n",
       "       'Германия,Франция,Австрия', 'Франция,Индия', 'ЮАР', 'Франция,Перу',\n",
       "       'Франция,Канада', 'РеспубликаБеларусь',\n",
       "       'Великобритания,Австрия,Франция,США', 'США,Россия',\n",
       "       'США,ЮжнаяКорея', 'Канада,КНР',\n",
       "       'Дания,Швеция,Италия,Франция,Германия',\n",
       "       'Франция,Италия,Испания,Венгрия', 'Франция,Германия,Бельгия',\n",
       "       'Франция,Великобритания,Чехия', 'Румыния,Франция,Бельгия',\n",
       "       'Болгария,Франция,Изриль',\n",
       "       'Израиль,Германия,Польша,Бельгия,Франция,Люксембург',\n",
       "       'Россия,Германия,Франция,Бельгия', 'Индонезия',\n",
       "       'Франция,Португалия', 'Великобритания,Пуэрто,Рико',\n",
       "       'СССР,ФРГ,ЗападныйБерлин', 'Россия,РеспубликаБеларусь',\n",
       "       'Франция,Австрия', 'Бельгия,Нидерланды',\n",
       "       'Великобритания,США,Индия', 'США,Великобритания,Австралия',\n",
       "       'Канада,Франция,США,ОАЭ,Великобритания', 'США,Австралия,Франция',\n",
       "       'Дания,Франция,Бельгия,Германия,Великобритания',\n",
       "       'Испания,Аргентина', 'Исландия,Финляндия',\n",
       "       'Россия,Польша,Голландия,Словакия', 'Дания,Германия,Швеция',\n",
       "       'ЮжнаяКорея,США,Канада', 'Таиланд', 'США,Мальта',\n",
       "       'Великобритания,Германия,Франция,Кипр,США', 'Мексика',\n",
       "       'США,Украина', 'США,Финляндия,Испания,Великобритания,Франция',\n",
       "       'Австралия,Великобритания',\n",
       "       'США,Канада,Афганистан,Бельгия,Франция',\n",
       "       'США,Великобритания,Германия,НоваяЗеландия,Бельгия,Франция',\n",
       "       'Ирландия,Финляндия,Бельгия,Великобритания,США,Швейцария',\n",
       "       'Малайзия,США', 'Германия,Италия', 'США,Франция,Бельгия,Италия',\n",
       "       'Франция,Ирландия,Швеция', 'Азербайджан,Россия',\n",
       "       'Великобритания,Италия,Швейцария', 'США,Германия,Великобритания',\n",
       "       'Германия,Бельгия,США,Франция', 'США,Китай', 'Чили,Испания',\n",
       "       'Франция,Швейцария', 'Канада,Испания',\n",
       "       'США,Румыния,Великобритания', 'США,Япония', 'США,Россия,Франция',\n",
       "       'Парагвай', 'Германия,Канада', 'США,Канада,Великобритания',\n",
       "       'Финляндия,Канада', 'Уругвай,Мексика,Германия', 'США,Чили',\n",
       "       'Германия,Аргентина,Нидерланды,Чили', 'США,Канада,Индонезия',\n",
       "       'Армения,Казахстан', 'Финляндия', 'Испания,Италия,Франция',\n",
       "       'Бельгия,Испания,Канада,Нидерланды',\n",
       "       'Великобритания,Франция,Швеция,Бельгия',\n",
       "       'Мексика,Эквадор,Канада,США,Франция,Малайзия,Италия,Аргентина,Германия,Индия',\n",
       "       'Франция,Бенльгия', 'Индия,Великобритания',\n",
       "       'Япония,Великобритания,Франция', 'Испания,Уругвай,Аргентина',\n",
       "       'Франция,Италия,Бельгия,Люксембург',\n",
       "       'Франция,Украина,Грузия,Армения', 'Сербия,Германия,Венгрия',\n",
       "       'Франция,Польша', 'Румыния,США', 'Россия,Азербайджан',\n",
       "       'США,Нидерланды,Бельгия,Венгрия,Греция,Канада',\n",
       "       'Германия,Франция,Люксембург', 'Великобритания,США,Франция',\n",
       "       'США,Австралия,Дания', 'Бельгия,Франция', 'США,Мексика',\n",
       "       'Норвегия,Азербайджан,Россия,Колумбия,Великобритания,Венгрия,Румыния,Франция,Грузия',\n",
       "       'СЩА', 'Бразилия,Испания', 'Россия,Франция,Латвия',\n",
       "       'Нидерланды,США,Германия,Канада,Франция,Ирландия,Великобритания',\n",
       "       'Уругвай,Колумбия', 'США,Испания,Болгария', 'Армения,Германия',\n",
       "       'США,Великобритания,Франция,Швеция', 'Австралия,Турция,США',\n",
       "       'Швеция,Германия', 'Польша,Италия,Россия', 'Франция,Бразилия',\n",
       "       'США,Канада,КНР', 'СССР,Венгрия,ЧССР,ГДР',\n",
       "       'Бельгия,Германия,Люксембург', 'Бразилия,США',\n",
       "       'США,Великобритания,Канада,КНР', 'Франция,Чили',\n",
       "       'Франция,США,Великобритания,Колумбия,Бельгия,Россия',\n",
       "       'Дания,Великобритания,ЮАР', 'Россия,США,Канада,Люксембург',\n",
       "       'Россия,РеспубликаКипр', 'Германия,США,Швеция,Франция',\n",
       "       'Великобритания,Германия,Канада,ЮАР', 'Ирландия,Канада',\n",
       "       'Япония,Великобритания,Швейцария,Ирландия,Дания,Франция,Польша,Австралия,Канада',\n",
       "       'Великобритания,Канада', 'Бельгия,США',\n",
       "       'Великобритания,США,Россия', 'Россия,Украина',\n",
       "       'Германия,США,Великобритания,Израиль', 'Канада,Германия',\n",
       "       'США,Ю.Корея', 'Индия,Мексика',\n",
       "       'Великобритания,Франция,РеспубликаКипр,Швейцария,США,Сербия',\n",
       "       'Испания,Аргентина,Индия,США',\n",
       "       'Норвегия,Исландия,США,Великобритания', 'Турция,Германя,Франция',\n",
       "       'Австралия,Германия', 'Мексика,Испания',\n",
       "       'Великобритания,США,Германия,Бельгия', 'США,Чехия,Франция',\n",
       "       'Россия,Италия', 'Норвегия,Дания,Швеция',\n",
       "       'Франция,Швейцария,Германия', 'Грузия,Украина',\n",
       "       'Россия,Эстония,Финляндия,Беларусь', 'США,Франция,ЮАР',\n",
       "       'Великобритания,США,Швейцария',\n",
       "       'Мексика,Нидерланды,Германия,Франция', 'США,Испания,Франция',\n",
       "       'США,Великобритания,КНР', 'США,Франция,Канада',\n",
       "       'Япония,Великобритания,Австрия,Германия,Ю.Корея',\n",
       "       'Великобритания,Ирландия,США', 'Бельгия,Италия,Франция',\n",
       "       'Швейцария,Германия,ЮАР', 'Великобритания,США,Германия',\n",
       "       'Германия,Исландия', 'Испания,США', 'Хорватия',\n",
       "       'Финляндия,Исландия,Швеция', 'Канада,США,Германия,Франция',\n",
       "       'США,Великобритания,Испания', 'Ирландия,Великобритания',\n",
       "       'Аргентина,Испания', 'Австрия,Германия',\n",
       "       'Германия,Швейцария,Франция,ЮжнаяКорея,США', 'Украина,Нидерланды',\n",
       "       'Венгрия,Германия,Швеция',\n",
       "       'Германия,Франция,Польша,Турция,Канада,Италия,Россия',\n",
       "       'СССР,Афганистан', 'СССР,Монголия', 'Россия,Кипр',\n",
       "       'Россия,Грузия,Испания',\n",
       "       'Великобритания,Нидерланды,Германия,Франция,Бельгия,Австрия',\n",
       "       'Испания,Великобритания,Франция', 'Дания,Норвегия,Великобритания',\n",
       "       'Бельгия,Франция,Люксембург',\n",
       "       'Италия,Франция,Швейцария,Великобритания',\n",
       "       'Франция,Бельгия,Великобритания,Испания,Германия,США',\n",
       "       'Швейцария,Израиль,Франция,Великобритания',\n",
       "       'Великобритания,США,Канада,Нидерланды,Франция', 'СССР,Албания',\n",
       "       'Россия,Украина,РеспубликаБеларусь,Литва',\n",
       "       'Финляндия,Великобритания,Германия', 'Россия,Украина,Польша',\n",
       "       'Франция,Италия,Бельгия,КНР',\n",
       "       'Германия,Бельгия,Люксембург,Ирландия', 'КНР,Сингапур',\n",
       "       'Франция,Бельгия,Великобритания,США,Нидерланды,Канада',\n",
       "       'США,Россия,Польша,Германия,ПуэртоРико', 'Франция,Бельгия,Канада',\n",
       "       'Мексика,США', 'США,Гонконг,КНР', 'Греция,Россия',\n",
       "       'Ирландия,Дания,Бельгия,Люксембург,Франция', 'Эстония,Россия',\n",
       "       'Великобритания,Исландия,Испания,Швейцария,США',\n",
       "       'Австралия,Великобритания,Бельгия,Индия',\n",
       "       'Швеция,Германия,Франция,Норвегия',\n",
       "       'Нидерланды,Бельгия,Германия,Ирландия',\n",
       "       'Нидерланды,Великобритания,Бельгия', 'США,Колумбия,Испания',\n",
       "       'Франция,Испания,Бельгия,Панама',\n",
       "       'США,Великобритания,Чехия,Румыния',\n",
       "       'Аргентина,Уругвай,Россия,Германия,Франция,Нидерланды',\n",
       "       'Швеция,Франция,Норвегия,Дания', 'Италия,Франция,Великобритания',\n",
       "       'Венесуэла',\n",
       "       'Великобритания,США,Австралия,Ирландия,Германия,Куба,Канада',\n",
       "       'ЮжнаяКорея,КНР', 'Аргентина,Мексика,Бразилия,Франция,США',\n",
       "       'Швеция,США', 'Франция,Германия,Турция,Катар', 'Франция,Китай',\n",
       "       'Россия,Германия,Великобритания', 'Великобритания,Италия,Испания',\n",
       "       'Италия,Россия', 'Япония,КНР,ЮжнаяКорея', 'Россия,Германия',\n",
       "       'Россия,Ирландия', 'Македония,Франция,Великобритания',\n",
       "       'Франция,Бразилия,Италия', 'Россия,США', 'Армения,Россия',\n",
       "       'Россия,Румыния', 'Грузия,Франция', 'ЮАР,США',\n",
       "       'Великобритания,США,Германия,Канада,Австралия', 'США,Ирландия',\n",
       "       'Германия,Люксембург,Франция', 'Россия,Франция',\n",
       "       'США,Нидерланды,Финляндия,Великобритания,Италия', 'РеспубликаКипр',\n",
       "       'Венгрия', 'Франция,США,Норвегия,Дания',\n",
       "       'Германия,Австрия,Ирландия', 'США,Финляндия',\n",
       "       'Италия,Великобритания', 'Россия,Испания',\n",
       "       'США,Великобритания,Болгария', 'Великобритания,Люксембург',\n",
       "       'Индия,США', 'США,Канада,Россия,Франция,Чили,Ирландия',\n",
       "       'Грузия,Россия',\n",
       "       'Дания,Австрия,Ирландия,Финляндия,Норвегия,Швеция,Нидерланды',\n",
       "       'Грузия', 'Австралия,Ирландия', 'Италия,Аргентина,Словения',\n",
       "       'Испания,Франция,Нидерланды,Германия,Бельгия,Великобритания,Канада',\n",
       "       'Франция,Чехия,Бельгия', 'Великобритания,Франция,Германия,США',\n",
       "       'Ирландия,Великобритания,Франция,США,Германия,Нидерланды',\n",
       "       'США,Канада,Япония,КНР', 'США,Великобритания,Исландия',\n",
       "       'Франция,Германия,Нидерланды',\n",
       "       'Франция,Германия,Швеция,США,Чехия,Словакия,Великобритания,Нидерланды',\n",
       "       'Франция,Канада,Н.Зеландия,США,Нидерланды,Германия,Швеция,Россия',\n",
       "       'Турция,США',\n",
       "       'Великобритания,США,Канада,Бельгия,Нидерланды,Австрия,Германия',\n",
       "       'Израиль,Франция,Германия,Палестина,США,Австрия,Великобритания',\n",
       "       'Аргентина,Франция,Испания', 'СССР,Россия',\n",
       "       'Великобритания,Франция,Италия,Индия,Дания,КНР,Бангладеш,Камбоджа,Гаити,Уганда',\n",
       "       'Италия,Франция,Швейцария', 'Ирландия,Великобритания,Канада',\n",
       "       'Перу', 'США,Норвегия', 'Китай,Гонконг', 'США,Германия,КНР',\n",
       "       'Великобритания,НоваяЗеландия', 'Франция,Дания,Швеция,КНР',\n",
       "       'США,Великобритания,Германия,Бельгия,Дания',\n",
       "       'США,Франция,Канада,Германия,Австралия,Индия', nan,\n",
       "       'СССР,Румыния,Франция', 'СССР,ГДР',\n",
       "       'Великобритания,Франция,Австрия,Швеция', 'Россия,Таджикистан',\n",
       "       'Нидерланды,Бельгия,Болгария', 'Великобритания,Канада,США',\n",
       "       'Франция,Бельгия,Испания', 'Китай,Гонконг,США', 'США,Вьетнам',\n",
       "       'США,Германия,Франция', 'Германия,Франция,Бельгия', 'США,Италия',\n",
       "       'Германия,Дания,Испания,Швеция,Канада,Эстония,Франция',\n",
       "       'КняжествоАндорра,Украина', 'Германия,Люксембург,Бельгия',\n",
       "       'Великобритания,Россия,Украина,США',\n",
       "       'Германия,Бельгия,Люксембург,Норвегия',\n",
       "       'США,Австралия,НоваяЗеландия,Великобритания',\n",
       "       'США,Франция,Канада,Великобритания', 'Испания,Колумбия',\n",
       "       'Великобритания,Чехия,Франция', 'Исландия',\n",
       "       'Великобритания,Франция,Венгрия',\n",
       "       'Россия,Франция,Германия,Бельгия', 'Франция,Македония',\n",
       "       'Нидерланды,Франция,Германия,Бельгия,Швеция,Великобритания',\n",
       "       'Испания,США,Великобритания,Канада', 'РеспубликаКазахстан',\n",
       "       'Франция,Испания,Дания,Венгрия,Швейцария', 'Франция,КНР',\n",
       "       'США,Пуэрто,Рико,Франция', 'Мексика,Тайвань,США',\n",
       "       'Великобритания,Испания,Непал,Индия,Венгрия,Гонконг,Германия,Дания,Бахрейн',\n",
       "       'Великобритания,Аргентина,США,Франция,Россия,Испания', 'КНР,США',\n",
       "       'Италия,США', 'Финляндия,Швеция,Германия', 'Франция,Бельгия,Чехия',\n",
       "       'Франция,Германия,США', 'США,Дания', 'Индия,КНР',\n",
       "       'Чехия,Великобритания,США', 'США,ФРГ,Россия',\n",
       "       'Ирландия,Нидерланды,Франция,США,Великобритания',\n",
       "       'Россия,Грузия,Хорватия,Испания', 'Финляндия,Швеция,Норвегия',\n",
       "       'Сербия,Великобритания,США', 'США,Великобритания,Франция,Гонконг',\n",
       "       'Швейцария,Франция', 'Швейцария,Великобритания', 'ОАЭ,США',\n",
       "       'США,Франция,Германия,Канада,Австралия', 'Германия,Австралия',\n",
       "       'Иран,Франция', 'США,Великобритания,НоваяЗеландия', 'США,Колумбия',\n",
       "       'США,Франция,Ирландия', 'Великобритания,Франция,Бельгия',\n",
       "       'США,Великобритания,Япония', 'США,Франция,Германия',\n",
       "       'Польша,Ирландия', 'Ирландия,Великобритания,Франция,США',\n",
       "       'США,Бельгия,Великобритания', 'СССР,ВНР',\n",
       "       'Испания,Франция,США,Великобритания,Бельгия', 'Франция,Дания,США',\n",
       "       'США,Гонконг', 'Бразилия,К;анада',\n",
       "       'США,Ирландия,Великобритания,Франция', 'Великобритания,США,Канада',\n",
       "       'Польша,Франция', 'Канада,США,Нидерланды,Великобритания,Аргентина',\n",
       "       'Великобритания,Дания', 'Франция,Бельгия,Япония',\n",
       "       'США,Канада,Германия,Франция', 'США,Канада,Франция',\n",
       "       'Германия,Австрия,Франция,Италия', 'США,Германия,Канада',\n",
       "       'Испания,Мексика',\n",
       "       'США,Япония,Канада,Великобритания,Германия,Франция',\n",
       "       'Россия,Украина,Германия',\n",
       "       'Израиль,Франция,Великобритания,Германия', 'Корея',\n",
       "       'Россия,Болгария', 'Германия,Канада,Франция,Бельгия',\n",
       "       'Германия,Кения', 'Франция,Монако', 'Франция,Испания,Швейцария',\n",
       "       'Австрия,Франция,Германия', 'Румыния',\n",
       "       'США,Великобритания,Франция', 'Канада,Великобритания',\n",
       "       'Канада,Бразилия,Япония', 'Германия,Дания,Норвегия',\n",
       "       'Дания,Германия', 'СССР,ГДР,Польша,Италия',\n",
       "       'США,Испания,Франция,Великобритания', 'Китай', 'Мексика,Аргентина',\n",
       "       'Германия,Великобритания,Италия,Испания',\n",
       "       'Франция,Германия,Великобритания', 'Россия,Германия,Швейцария',\n",
       "       'Франция,Австралия', 'Голландия', 'Россия,Белоруссия',\n",
       "       'Франция,Испания,Тайвань', 'США,ЮжнаяКорея,НоваяЗеландия',\n",
       "       'Великобритания,Венгрия', 'Великобритания,Франция,Германия',\n",
       "       'Франция,Германия,Италия', 'Швеция,Финляндия,Франция,Норвегия',\n",
       "       'Германия,Израиль', 'Швеция,Германия,Дания,Норвегия',\n",
       "       'Франция,Гонконг,Ирландия', 'Эстония', 'Литва,Россия,Украина',\n",
       "       'Германия,Италия,Франция', 'Великобритания,Австрия,Германия',\n",
       "       'Испания,Мальта', 'Франция,Россия,Румыния,Италия,Бельгия',\n",
       "       'Россия,Польша', 'США,Аргентина', 'Израиль,США,Франция',\n",
       "       'США,НоваяЗеландия,Япония', 'Франция,Чехия,Великобритания',\n",
       "       'Германия,Франция,Великобритания', 'США,Гонконг,Китай',\n",
       "       'США,Великобритания,Германия', 'США,Канада,Австралия',\n",
       "       'Япония,США,Франция', 'Франция,Испания,Германия',\n",
       "       'США,Хорватия,Босния,Герцеговина',\n",
       "       'Великобритания,Чехия,Франция,Италия', 'США,Германия,Нидерланды',\n",
       "       'Германия,Франция,Канада',\n",
       "       'Франция,Грузия,Германия,Россия,Украина,Бельгия',\n",
       "       'Великобритания,Франция,Италия', 'Франция,Италия,Иран', 'Греция',\n",
       "       'Дания,США', 'США,Германия,Австралия', 'США,Канада,Италия',\n",
       "       'США,Япония,Германия',\n",
       "       'Франция,Великобритания,Багамскиеострова,США',\n",
       "       'Швейцария,Люксембург', 'Швейцария,Австрия', 'Германия,Швейцария',\n",
       "       'Дания,Швеция,Франция,Германия', 'Польша', 'Бразилия,Канада,США',\n",
       "       'Нидерланды,Россия', 'Португалия', 'Франция,Аргентина',\n",
       "       'Швеция,Франция', 'Франция,Украина', 'Германия,Украина,Нидерланды',\n",
       "       'Италия,Швейцария', 'Латвия,Россия',\n",
       "       'Германия,Франция,Великобритания,США', 'Канада,Италия',\n",
       "       'США,ОбъединенныеАрабскиеЭмираты', 'США,Венгрия', 'Малайзия',\n",
       "       'Россия,Германия,Украина', 'США,Австралия,Мексика',\n",
       "       'Литва,Венгрия', 'Германия,Китай', 'Казахстан', 'РеспубликаКорея',\n",
       "       'США,Германия,Франция,Великобритания,Канада',\n",
       "       'Бельгия,Германия,Люксембург,Франция', 'Франция,Греция',\n",
       "       'Италия,Канада', 'США,Италия,Греция',\n",
       "       'Германия,США,Великобритания,Ирландия', 'Германия,Нидерланды,ЮАР',\n",
       "       'США,Япония,Германия,Великобритания,Нидерланды',\n",
       "       'США,Япония,Германия,Великобритания',\n",
       "       'Таиланд,Великобритания,Франция,Германия,Испания,Нидерланды',\n",
       "       'Германия,Италия,Швейцария',\n",
       "       'Дания,Швеция,Великобритания,Франция,Германия,Нидерланды,Норвегия,Финляндия',\n",
       "       'Франция,Великобритания,Нидерланды,Люксембург',\n",
       "       'Нидерланды,Великобритания,Франция,Италия,Япония',\n",
       "       'Великобритания,Нидерланды,Франция,США', 'Канада,Мексика',\n",
       "       'Канада,ЮжнаяКорея,США', 'Великобритания,Франция,Бельгия,США',\n",
       "       'КНР,Канада,США', 'Италия,Франция,Германия',\n",
       "       'Швеция,Германия,Франция,Дания', 'Франция,США,Бельгия',\n",
       "       'Украина,Германия,Латвия,Эстония', 'Австрия,Люксембург',\n",
       "       'Великобритания,КНР', 'Монголия', 'Франция,Дания',\n",
       "       'Швеция,Дания,Финляндия',\n",
       "       'Сингапур,Великобритания,Индонезия,Канада,США',\n",
       "       'США,Германия,Япония', 'Таиланд,США', 'Франция,Нидерланды',\n",
       "       'Великобритания,Румыния',\n",
       "       'Великобритания,Германия,Нидерланды,Дания',\n",
       "       'Франция,Германия,Литва,Нидерланды,Россия', 'США,ЮАР,Гонконг',\n",
       "       'Австралия,Колумбия', 'Великобритания,Польша',\n",
       "       'США,Великобритания,Швеция', 'Франция,Швеция,Дания,Норвегия',\n",
       "       'Болгария,США', 'СССР,ФРГ', 'Бельгия,Нидерланды,Франция',\n",
       "       'Финляндия,Германия', 'Болгария',\n",
       "       'Грузия,Россия,Украина,Хорватия,Германия', 'Франция,Люксембург',\n",
       "       'Франция,Германия,Австрия', 'Норвегия,США', 'Германия,Швеция',\n",
       "       'Дания,Латвия,Россия,США', 'Финляндия,Польша', 'Германия,Бельгия',\n",
       "       'Германия,США,Франция,Испания',\n",
       "       'Бельгия,Германия,Канада,Франция,США,Великобритания',\n",
       "       'Нидерланды,Бельгия,Люксембург', 'Люксембург,Бельгия,Франция',\n",
       "       'Бельгия,Великобритания,США', 'Великобритания,Австралия',\n",
       "       'Исландия,Бельгия',\n",
       "       'Испания,Швейцария,Великобритания,Германия,НоваяЗеландия,Нидерланды,Канада',\n",
       "       'Киргизия,Россия', 'Великобритания,США,Испания',\n",
       "       'Италия,Швейцария,Германия', 'Россия,Армения', 'Китай,Канада,США',\n",
       "       'США,Великобритания,Люксембург',\n",
       "       'Испания,Ирландия,Бельгия,Франция',\n",
       "       'Великобритания,Гонконг,Венгрия,США,Ирландия', 'США,ПуэртоРико',\n",
       "       'Аргентина,Испания,Уругвай', 'Израиль,Германия,Франция,Швейцария',\n",
       "       'Великобритания,Мексика,США', 'Испания,Болгария,США',\n",
       "       'Россия,Словакия,Чехия',\n",
       "       'Швейцария,КНР,США,Россия,РеспубликаКорея,Великобритания',\n",
       "       'Россия,Нидерланды,Финляндия',\n",
       "       'Испания,Бельгия,Франция,Португалия,Великобритания',\n",
       "       'Бразилия,Португалия,Франция', 'Швеция,Норвегия',\n",
       "       'Франция,Польша,Бельгия', 'CША', 'Китай,США',\n",
       "       'Германия,Австрия,Франция', 'Чехия,Словакия,Хорватия',\n",
       "       'Россия,Польша,Финляндия', 'Россия,Латвия,Чехия',\n",
       "       'Франция,Великобритания,Камбоджа,США,КНР', 'Чехия,Испания,США',\n",
       "       'Германия,Люксембург,Дания', 'Великобритания,Испания,Германия',\n",
       "       'Дания,Исландия',\n",
       "       'Великобритания,Испания,Италия,Латвия,Франция,Эстония',\n",
       "       'Дания,Швеция,Великобритания,Франция,Германия,Норвегия,Финляндия,Нидерланды,Италия',\n",
       "       'Польша,Франция,Великобритания', 'Дания,Норвегия,Венгрия,Чехия',\n",
       "       'Дания,Франция,Германия,Швеция', 'Великобритания,Швеция,США',\n",
       "       'Канада,Франция,Италия,Швейцария,США',\n",
       "       'США,Великобритания,Германия,,Швеция,Канада',\n",
       "       'РеспубликаБеларусь,Германия,США,Россия',\n",
       "       'Италия,Швейцария,Франция,Германия',\n",
       "       'Россия,Франция,Великобритания,Латвия', 'Россия,Беларусь',\n",
       "       'Франция,Испания,Румыния,США,Бельгия', 'Россия,Австрия',\n",
       "       'Ирландия,Великобритания,США',\n",
       "       'Швейцария,Великобритания,Франция,США,Ирландия',\n",
       "       'Мексика,Франция,Германия,Дания,Швеция', 'Нидерланды,Бельгия',\n",
       "       'Швеция,Норвегия,Финляндия,Франция', 'Испания,Франция,Италия',\n",
       "       'Испания,Франция,Греция,Индия,США,Россия,Великобритания',\n",
       "       'Великобритания,Япония,США', 'Дания,Канада,Норвегия,Австралия,США',\n",
       "       'Россия,Германия,Казахстан,Польша,Китай',\n",
       "       'Португалия,Франция,Польша,США', 'США,Канада,Аргентина',\n",
       "       'Ливан,США', 'Япония,США',\n",
       "       'Франция,Россия,Швейцария,Румыния,Венгрия', 'Россия,Сербия',\n",
       "       'США,Болгария,Мексика', 'США,Великобритания,Швейцария,Франция',\n",
       "       'Таиланд,КНР,США',\n",
       "       'Великобритания,Нидерланды,Польша,Швейцария,Франция',\n",
       "       'Ирландия,США', 'Германия,Франция,Великобритания,Польша,США',\n",
       "       'США,Австралия,Индия', 'Великобритания,Израиль',\n",
       "       'Великобритания,Норвегия,Кения,Хорватия',\n",
       "       'США,Бразилия,Великобритания,Канада', 'Австралия,Канада',\n",
       "       'Кения,Германия', 'Колумбия', 'Латвия,Франция',\n",
       "       'Франция,Израиль,Германия', 'Швеция,Франция,Великобритания',\n",
       "       'Бельгия,Люксембург', 'Германия,Бельгия,Великобритания',\n",
       "       'Испания,Франция,Великобритания,Дания,Бельгия,Германия',\n",
       "       'Румыния,ЮАР,Иран,Франция,Канада,Великобритания',\n",
       "       'США,Великобритания,Ирландия,Люксембург', 'РеспубликаАрмения',\n",
       "       'США,Франция,Япония', 'РеспубликаКипр,Россия',\n",
       "       'Дания,Франция,Италия,Бельгия,Нидерланды', 'Россия,Грузия',\n",
       "       'Италия,Германия', 'Норвегия,Швеция,Дания',\n",
       "       'КНР,Индия,Гонконг,США', 'Израиль,Украина',\n",
       "       'США,КНР,Индия,Ю.Корея', 'США,Швеция', 'Россия,Китай',\n",
       "       'Канада,США,Каймановыострова',\n",
       "       'Бразилия,Уругвай,Дания,Норвегия,Чили,Швеция',\n",
       "       'Пуэрто,Рико,Великобритания,США', 'Уругвай,Аргентина,Испания',\n",
       "       'США,Великобритания,Италия,Израиль,Сербия,Индия',\n",
       "       'США,Канада,Франция,Индия', 'Великобритания,Россия,КНР',\n",
       "       'Франция,НоваяЗеландия', 'Канада,США,Норвегия', 'Италия,Испания',\n",
       "       'Испания,Германия,Нидерланды', 'Бразилия,США,КНР',\n",
       "       'Великобритания,Германия,Дания,США', '2019',\n",
       "       'Италия,Фрация,Бразилия,Германия', 'Норвегия,Швеция,Россия',\n",
       "       'Сша,Канада', 'Бельгия,Канада', 'Франция,Финляндия',\n",
       "       'Колумбия,США', 'Норвегия,Нидерланды', 'Италия,Бельгия,Франция',\n",
       "       'Россия,Бельгия,Финляндия', 'Франция,Норвегия',\n",
       "       'Великобритания,ЮжнаяКорея,Канада,США,Индия,Китай,Япония',\n",
       "       'Канада,Норвегия', 'Польша,Франция,Испания,Бразилия,Швеция',\n",
       "       'Австрия,Великобритания,Германия', 'Франция,Сенегал,Бельгия',\n",
       "       'Финляндия,Латвия', 'Пакистан', 'Германия,Франция,США',\n",
       "       'Германия,Великобритания,США', 'КНР,Франция',\n",
       "       'Дания,Норвегия,Швеция,Исландия', 'РеспубликаКипр,США,Россия',\n",
       "       'НоваяЗеландия,КНР',\n",
       "       'Дания,Канада,Швеция,Франция,Германия,Великобритания,США'],\n",
       "      dtype=object)"
      ]
     },
     "execution_count": 18,
     "metadata": {},
     "output_type": "execute_result"
    }
   ],
   "source": [
    "# напишем функцию для устранения дубликатов\n",
    "def my_replace(string):\n",
    "    if type(string) == float:\n",
    "        return string\n",
    "    return string.replace(' ', '').replace('-', ',').replace('ЧешскаяРеспублика', 'Чехия')\n",
    "df['production_country'] = df['production_country'].apply(my_replace)\n",
    "df['production_country'].unique()"
   ]
  },
  {
   "cell_type": "code",
   "execution_count": 19,
   "metadata": {},
   "outputs": [
    {
     "data": {
      "text/plain": [
       "2"
      ]
     },
     "metadata": {},
     "output_type": "display_data"
    },
    {
     "data": {
      "text/plain": [
       "array([        0,   1811096, 111000110, ..., 226019110, 231001012,\n",
       "       231001111])"
      ]
     },
     "execution_count": 19,
     "metadata": {},
     "output_type": "execute_result"
    }
   ],
   "source": [
    "display(len(df['pu_number']) - len(df['pu_number'].unique()))\n",
    "df['pu_number'].sort_values().unique()"
   ]
  },
  {
   "cell_type": "code",
   "execution_count": 20,
   "metadata": {},
   "outputs": [
    {
     "name": "stderr",
     "output_type": "stream",
     "text": [
      "/opt/conda/lib/python3.7/site-packages/ipykernel_launcher.py:7: SettingWithCopyWarning: \n",
      "A value is trying to be set on a copy of a slice from a DataFrame\n",
      "\n",
      "See the caveats in the documentation: http://pandas.pydata.org/pandas-docs/stable/user_guide/indexing.html#returning-a-view-versus-a-copy\n",
      "  import sys\n"
     ]
    },
    {
     "data": {
      "text/html": [
       "<div>\n",
       "<style scoped>\n",
       "    .dataframe tbody tr th:only-of-type {\n",
       "        vertical-align: middle;\n",
       "    }\n",
       "\n",
       "    .dataframe tbody tr th {\n",
       "        vertical-align: top;\n",
       "    }\n",
       "\n",
       "    .dataframe thead th {\n",
       "        text-align: right;\n",
       "    }\n",
       "</style>\n",
       "<table border=\"1\" class=\"dataframe\">\n",
       "  <thead>\n",
       "    <tr style=\"text-align: right;\">\n",
       "      <th></th>\n",
       "      <th>title</th>\n",
       "      <th>pu_number</th>\n",
       "      <th>show_start_date</th>\n",
       "      <th>type</th>\n",
       "      <th>film_studio</th>\n",
       "      <th>production_country</th>\n",
       "      <th>director</th>\n",
       "      <th>producer</th>\n",
       "      <th>age_restriction</th>\n",
       "      <th>refundable_support</th>\n",
       "      <th>nonrefundable_support</th>\n",
       "      <th>budget</th>\n",
       "      <th>financing_source</th>\n",
       "      <th>ratings</th>\n",
       "      <th>genres</th>\n",
       "      <th>box_office</th>\n",
       "    </tr>\n",
       "  </thead>\n",
       "  <tbody>\n",
       "    <tr>\n",
       "      <td>4638</td>\n",
       "      <td>Как жениться и остаться холостым</td>\n",
       "      <td>221154310</td>\n",
       "      <td>2010-12-17</td>\n",
       "      <td>Художественный</td>\n",
       "      <td>Ше Вам, Скрипт Ассосье, Тэ Фэ 1 Фильм Продюксь...</td>\n",
       "      <td>Франция</td>\n",
       "      <td>Эрик Лартиго</td>\n",
       "      <td>Амандин Било, Алан Шаба</td>\n",
       "      <td>«16+» - для детей старше 16 лет</td>\n",
       "      <td>nan</td>\n",
       "      <td>nan</td>\n",
       "      <td>nan</td>\n",
       "      <td>NaN</td>\n",
       "      <td>7.000</td>\n",
       "      <td>мелодрама,комедия</td>\n",
       "      <td>nan</td>\n",
       "    </tr>\n",
       "    <tr>\n",
       "      <td>4639</td>\n",
       "      <td>Иоанна - женщина на папском престоле /По роман...</td>\n",
       "      <td>221154310</td>\n",
       "      <td>2010-12-17</td>\n",
       "      <td>Художественный</td>\n",
       "      <td>Константин Фильм, А Эр Ди Дегето Фильм, Дюне ...</td>\n",
       "      <td>Германия,Великобритания,Италия,Испания</td>\n",
       "      <td>Зенке Вортманн</td>\n",
       "      <td>Оливер Бербен, Дорис Д.Хайнце, Фарук Элтан</td>\n",
       "      <td>«16+» - для детей старше 16 лет</td>\n",
       "      <td>nan</td>\n",
       "      <td>nan</td>\n",
       "      <td>nan</td>\n",
       "      <td>NaN</td>\n",
       "      <td>7.600</td>\n",
       "      <td>драма,мелодрама,история</td>\n",
       "      <td>nan</td>\n",
       "    </tr>\n",
       "    <tr>\n",
       "      <td>5067</td>\n",
       "      <td>Анализируй это!</td>\n",
       "      <td>221054410</td>\n",
       "      <td>2010-05-25</td>\n",
       "      <td>Художественный</td>\n",
       "      <td>Уорнер Бразерс, Вилладж Роудшоу Филмз ЛТД</td>\n",
       "      <td>США,Австралия</td>\n",
       "      <td>ХЭрольд Рэмис</td>\n",
       "      <td>Джейн Розенталь, Пола Уейнстейн</td>\n",
       "      <td>«16+» - для детей старше 16 лет</td>\n",
       "      <td>nan</td>\n",
       "      <td>nan</td>\n",
       "      <td>nan</td>\n",
       "      <td>NaN</td>\n",
       "      <td>7.400</td>\n",
       "      <td>комедия,криминал</td>\n",
       "      <td>nan</td>\n",
       "    </tr>\n",
       "    <tr>\n",
       "      <td>5068</td>\n",
       "      <td>Анализируй то!</td>\n",
       "      <td>221054410</td>\n",
       "      <td>2010-05-25</td>\n",
       "      <td>Художественный</td>\n",
       "      <td>Уорнер Бразерс, Виллидж Роадшоу Пикчерз, Эн-Пи...</td>\n",
       "      <td>США</td>\n",
       "      <td>Гарольд Реймис</td>\n",
       "      <td>Джейн Розенталь, Паул Уэйнстейн</td>\n",
       "      <td>«12+» - для детей старше 12 лет</td>\n",
       "      <td>nan</td>\n",
       "      <td>nan</td>\n",
       "      <td>nan</td>\n",
       "      <td>NaN</td>\n",
       "      <td>6.800</td>\n",
       "      <td>комедия,криминал</td>\n",
       "      <td>nan</td>\n",
       "    </tr>\n",
       "  </tbody>\n",
       "</table>\n",
       "</div>"
      ],
      "text/plain": [
       "                                                  title  pu_number  \\\n",
       "4638                   Как жениться и остаться холостым  221154310   \n",
       "4639  Иоанна - женщина на папском престоле /По роман...  221154310   \n",
       "5067                                    Анализируй это!  221054410   \n",
       "5068                                     Анализируй то!  221054410   \n",
       "\n",
       "     show_start_date            type  \\\n",
       "4638      2010-12-17  Художественный   \n",
       "4639      2010-12-17  Художественный   \n",
       "5067      2010-05-25  Художественный   \n",
       "5068      2010-05-25  Художественный   \n",
       "\n",
       "                                            film_studio  \\\n",
       "4638  Ше Вам, Скрипт Ассосье, Тэ Фэ 1 Фильм Продюксь...   \n",
       "4639   Константин Фильм, А Эр Ди Дегето Фильм, Дюне ...   \n",
       "5067          Уорнер Бразерс, Вилладж Роудшоу Филмз ЛТД   \n",
       "5068  Уорнер Бразерс, Виллидж Роадшоу Пикчерз, Эн-Пи...   \n",
       "\n",
       "                          production_country        director  \\\n",
       "4638                                 Франция    Эрик Лартиго   \n",
       "4639  Германия,Великобритания,Италия,Испания  Зенке Вортманн   \n",
       "5067                           США,Австралия   ХЭрольд Рэмис   \n",
       "5068                                     США  Гарольд Реймис   \n",
       "\n",
       "                                        producer  \\\n",
       "4638                     Амандин Било, Алан Шаба   \n",
       "4639  Оливер Бербен, Дорис Д.Хайнце, Фарук Элтан   \n",
       "5067             Джейн Розенталь, Пола Уейнстейн   \n",
       "5068             Джейн Розенталь, Паул Уэйнстейн   \n",
       "\n",
       "                      age_restriction  refundable_support  \\\n",
       "4638  «16+» - для детей старше 16 лет                 nan   \n",
       "4639  «16+» - для детей старше 16 лет                 nan   \n",
       "5067  «16+» - для детей старше 16 лет                 nan   \n",
       "5068  «12+» - для детей старше 12 лет                 nan   \n",
       "\n",
       "      nonrefundable_support  budget financing_source  ratings  \\\n",
       "4638                    nan     nan              NaN    7.000   \n",
       "4639                    nan     nan              NaN    7.600   \n",
       "5067                    nan     nan              NaN    7.400   \n",
       "5068                    nan     nan              NaN    6.800   \n",
       "\n",
       "                       genres  box_office  \n",
       "4638        мелодрама,комедия         nan  \n",
       "4639  драма,мелодрама,история         nan  \n",
       "5067         комедия,криминал         nan  \n",
       "5068         комедия,криминал         nan  "
      ]
     },
     "metadata": {},
     "output_type": "display_data"
    }
   ],
   "source": [
    "table = df.sort_values(by='pu_number').reset_index()\n",
    "list_duplicates = []\n",
    "list_free = [226019111, 226019112]\n",
    "for i in range(len(table) - 1):\n",
    "    if table['pu_number'][i] == table['pu_number'][i + 1]:\n",
    "        list_duplicates.append(table['pu_number'][i])\n",
    "        table['pu_number'][i + 1] = list_free.pop()\n",
    "display(df.query('pu_number in @list_duplicates'))\n",
    "df = table"
   ]
  },
  {
   "cell_type": "code",
   "execution_count": 21,
   "metadata": {},
   "outputs": [
    {
     "data": {
      "text/plain": [
       "0"
      ]
     },
     "metadata": {},
     "output_type": "display_data"
    }
   ],
   "source": [
    "display(len(df['pu_number']) - len(df['pu_number'].unique()))"
   ]
  },
  {
   "cell_type": "markdown",
   "metadata": {},
   "source": [
    "***Вывод***\n",
    "\n",
    "При изучении данных, полных дубликатов не установлено. Устранены совпадения по странам."
   ]
  },
  {
   "cell_type": "markdown",
   "metadata": {
    "id": "52fOPrEBgFyQ"
   },
   "source": [
    "#### Шаг 2.4. Изучите категориальные значения\n",
    "\n",
    "- Посмотрите, какая общая проблема встречается почти во всех категориальных столбцах;\n",
    "- Исправьте проблемные значения в поле `type`.\n",
    "\n",
    "<div id=\"accordion\">\n",
    "    <div class=\"card\">\n",
    "        <div class=\"card-header\" id=\"headingThree\">\n",
    "            <button class=\"btn btn-link collapsed\" data-toggle=\"collapse\" data-target=\"#collapseHint_1\" aria-expanded=\"false\" aria-controls=\"collapseHint_1\">Подсказка</button>\n",
    "        </div>\n",
    "        <div id=\"collapseHint_1\" class=\"collapse\" aria-labelledby=\"headingThree\" data-parent=\"#accordion\">\n",
    "            <div class=\"card-body\">\n",
    "В поле <code>type</code> есть несколько значений, у которых появился пробел в начале строки. Самый простой способ их «починить» -- использовать метод <a href=\"https://pandas.pydata.org/docs/reference/api/pandas.Series.str.strip.html#pandas.Series.str.strip\">.str.strip</a>. Этот метод удаляет все пробелы, которые встречаются в начале и в конце строки. Применяют его таким образом:<br>\n",
    "<code>df['type'].str.strip()</code>\n",
    "            </div>\n",
    "        </div>\n",
    "    </div>\n",
    "</div>"
   ]
  },
  {
   "cell_type": "markdown",
   "metadata": {},
   "source": [
    "В поле type есть несколько значений, у которых появился пробел в начале строки. С помощью метода .str.strip устранили все пробелы, которые встречаются в начале и в конце строки."
   ]
  },
  {
   "cell_type": "code",
   "execution_count": 22,
   "metadata": {},
   "outputs": [
    {
     "data": {
      "text/plain": [
       "array(['Художественный', ' Художественный', 'Научно-популярный',\n",
       "       'Анимационный', 'Документальный', ' Анимационный', 'Прочие',\n",
       "       'Музыкально-развлекательный'], dtype=object)"
      ]
     },
     "execution_count": 22,
     "metadata": {},
     "output_type": "execute_result"
    }
   ],
   "source": [
    "df['type'].unique()# вывели уникальные значения"
   ]
  },
  {
   "cell_type": "code",
   "execution_count": 23,
   "metadata": {
    "id": "PnXKIVdFgFyR"
   },
   "outputs": [
    {
     "data": {
      "text/plain": [
       "Художественный                5909\n",
       "Анимационный                   829\n",
       "Прочие                         406\n",
       "Документальный                 288\n",
       "Научно-популярный               53\n",
       "Музыкально-развлекательный       1\n",
       "Name: type, dtype: int64"
      ]
     },
     "execution_count": 23,
     "metadata": {},
     "output_type": "execute_result"
    }
   ],
   "source": [
    "df['type'] = df['type'].str.strip()# устранили все пробелы\n",
    "df['type'].value_counts()#вывели количество уникальных значений."
   ]
  },
  {
   "cell_type": "code",
   "execution_count": 24,
   "metadata": {},
   "outputs": [
    {
     "data": {
      "text/plain": [
       "array(['Курбан-роман. (История с жертвой)',\n",
       "       '1001 рецепт влюбленного кулинара',\n",
       "       'Небесный тихоход (новая цветная версия)', ..., 'Пять препятствий',\n",
       "       'Первый рай', 'Дэвид Гилмор \"Римемба Зет Найт\"'], dtype=object)"
      ]
     },
     "execution_count": 24,
     "metadata": {},
     "output_type": "execute_result"
    }
   ],
   "source": [
    "df['title'].unique()"
   ]
  },
  {
   "cell_type": "code",
   "execution_count": 25,
   "metadata": {},
   "outputs": [
    {
     "data": {
      "text/plain": [
       "array(['Курбан-роман. (История с жертвой)',\n",
       "       '1001 рецепт влюбленного кулинара',\n",
       "       'Небесный тихоход (новая цветная версия)', ..., 'Пять препятствий',\n",
       "       'Первый рай', 'Дэвид Гилмор \"Римемба Зет Найт\"'], dtype=object)"
      ]
     },
     "execution_count": 25,
     "metadata": {},
     "output_type": "execute_result"
    }
   ],
   "source": [
    "df['title'] = df['title'].str.strip()\n",
    "df['title'].unique()"
   ]
  },
  {
   "cell_type": "code",
   "execution_count": 26,
   "metadata": {},
   "outputs": [
    {
     "data": {
      "text/plain": [
       "array([' АНО \"Кинофорум\"',\n",
       "       ' Ауматик Интертейнмент, Блюмхаус Продакшнз и др.',\n",
       "       ' ЗАО \"Кинокомпания ФаворитФильм\" по заказу ООО \"ФАВОРИТ МЕДИА\"',\n",
       "       ...,\n",
       "       'совместное производство Киностудия \"Мосфильм\", \"Космос-филм\" (Франция), \"Посейдон Продакшинз Лимитед\" (Англия), \"ИКАИК\" (Куба), ДЕФА (ГДР)',\n",
       "       'юФилм, Твинпикс', nan], dtype=object)"
      ]
     },
     "execution_count": 26,
     "metadata": {},
     "output_type": "execute_result"
    }
   ],
   "source": [
    "df['film_studio'].sort_values().unique()"
   ]
  },
  {
   "cell_type": "code",
   "execution_count": 27,
   "metadata": {},
   "outputs": [
    {
     "data": {
      "text/plain": [
       "array(['\"Дино де Лаурентиис\" (Италия) при участии Киностудии \"Мосфильм\"',\n",
       "       '\"Союздетфильм\", \"Мосфильм\", \"Москинокомбинат\"',\n",
       "       '\"Студия \"Птица Феникс\" Татьяны Новиковой', ...,\n",
       "       'совместное производство Киностудия \"Мосфильм\", \"Космос-филм\" (Франция), \"Посейдон Продакшинз Лимитед\" (Англия), \"ИКАИК\" (Куба), ДЕФА (ГДР)',\n",
       "       'юФилм, Твинпикс', nan], dtype=object)"
      ]
     },
     "execution_count": 27,
     "metadata": {},
     "output_type": "execute_result"
    }
   ],
   "source": [
    "df['film_studio'] = df['film_studio'].str.strip()\n",
    "df['film_studio'].sort_values().unique()"
   ]
  },
  {
   "cell_type": "code",
   "execution_count": 28,
   "metadata": {},
   "outputs": [
    {
     "data": {
      "text/plain": [
       "array([' Йохан Нийенхейс', ' Н.Орлов, Р.Быков', ' Р.Асхаев', ...,\n",
       "       'хореография Фредерика Аштона', 'хореография Фредерика Эштона',\n",
       "       nan], dtype=object)"
      ]
     },
     "execution_count": 28,
     "metadata": {},
     "output_type": "execute_result"
    }
   ],
   "source": [
    "df['director'].sort_values().unique()"
   ]
  },
  {
   "cell_type": "code",
   "execution_count": 29,
   "metadata": {},
   "outputs": [
    {
     "data": {
      "text/plain": [
       "array(['Ёлкин Туйчиев', 'Ён Сан-хо', 'А Андрющенко', ...,\n",
       "       'хореография Фредерика Аштона', 'хореография Фредерика Эштона',\n",
       "       nan], dtype=object)"
      ]
     },
     "execution_count": 29,
     "metadata": {},
     "output_type": "execute_result"
    }
   ],
   "source": [
    "df['director'] = df['director'].str.strip()\n",
    "df['director'].sort_values().unique()"
   ]
  },
  {
   "cell_type": "code",
   "execution_count": 30,
   "metadata": {},
   "outputs": [
    {
     "data": {
      "text/plain": [
       "array(['\"Фонд Михаила Калатозова\"', 'Ёсиаки Нисимура, Джеффри Уэкслер',\n",
       "       'А. Калюжный', ..., 'Яэль Бергман, Лаура Уотерс, Питер Хеллайар',\n",
       "       'Яэль Фогель, Летиция Гонзалез', nan], dtype=object)"
      ]
     },
     "execution_count": 30,
     "metadata": {},
     "output_type": "execute_result"
    }
   ],
   "source": [
    "df['producer'] = df['producer'].str.strip()\n",
    "df['producer'].sort_values().unique()"
   ]
  },
  {
   "cell_type": "code",
   "execution_count": 31,
   "metadata": {},
   "outputs": [
    {
     "data": {
      "text/plain": [
       "array(['аниме,мультфильм', 'аниме,мультфильм,боевик',\n",
       "       'аниме,мультфильм,детектив', 'аниме,мультфильм,драма',\n",
       "       'аниме,мультфильм,комедия', 'аниме,мультфильм,короткометражка',\n",
       "       'аниме,мультфильм,мелодрама', 'аниме,мультфильм,приключения',\n",
       "       'аниме,мультфильм,ужасы', 'аниме,мультфильм,фантастика',\n",
       "       'аниме,мультфильм,фэнтези', 'биография', 'биография,военный,драма',\n",
       "       'биография,документальный', 'биография,драма',\n",
       "       'биография,драма,военный', 'биография,драма,история',\n",
       "       'биография,драма,криминал', 'биография,история',\n",
       "       'биография,история,драма', 'биография,криминал,драма',\n",
       "       'биография,криминал,триллер', 'биография,мелодрама,драма',\n",
       "       'биография,музыка,драма', 'биография,музыка,мюзикл',\n",
       "       'биография,спорт,драма', 'биография,спорт,история',\n",
       "       'биография,спорт,комедия', 'боевик', 'боевик,вестерн,приключения',\n",
       "       'боевик,военный', 'боевик,военный,драма', 'боевик,военный,история',\n",
       "       'боевик,детектив', 'боевик,драма', 'боевик,драма,биография',\n",
       "       'боевик,драма,вестерн', 'боевик,драма,военный',\n",
       "       'боевик,драма,история', 'боевик,драма,комедия',\n",
       "       'боевик,драма,криминал', 'боевик,драма,мелодрама',\n",
       "       'боевик,драма,приключения', 'боевик,драма,триллер',\n",
       "       'боевик,история', 'боевик,история,драма', 'боевик,комедия',\n",
       "       'боевик,комедия,криминал', 'боевик,комедия,приключения',\n",
       "       'боевик,комедия,семейный', 'боевик,криминал',\n",
       "       'боевик,криминал,детектив', 'боевик,криминал,драма',\n",
       "       'боевик,криминал,триллер', 'боевик,мелодрама',\n",
       "       'боевик,мелодрама,комедия', 'боевик,приключения',\n",
       "       'боевик,приключения,детектив', 'боевик,приключения,история',\n",
       "       'боевик,приключения,семейный', 'боевик,приключения,триллер',\n",
       "       'боевик,спорт,драма', 'боевик,триллер', 'боевик,триллер,детектив',\n",
       "       'боевик,триллер,драма', 'боевик,триллер,комедия',\n",
       "       'боевик,триллер,криминал', 'боевик,триллер,мелодрама',\n",
       "       'боевик,триллер,приключения', 'боевик,триллер,фэнтези',\n",
       "       'боевик,фантастика', 'боевик,фантастика,приключения',\n",
       "       'боевик,фантастика,триллер', 'боевик,фэнтези',\n",
       "       'боевик,фэнтези,драма', 'вестерн,биография,драма',\n",
       "       'вестерн,боевик,драма', 'вестерн,драма,триллер',\n",
       "       'вестерн,криминал,триллер', 'вестерн,приключения,боевик',\n",
       "       'военный', 'военный,биография,драма', 'военный,боевик,драма',\n",
       "       'военный,боевик,история', 'военный,детектив', 'военный,драма',\n",
       "       'военный,драма,боевик', 'военный,драма,история',\n",
       "       'военный,драма,комедия', 'военный,история',\n",
       "       'военный,история,драма', 'военный,приключения,драма', 'детектив',\n",
       "       'детектив,боевик,история', 'детектив,драма,криминал',\n",
       "       'детектив,драма,триллер', 'детектив,история,драма',\n",
       "       'детектив,комедия', 'детектив,комедия,драма', 'детектив,криминал',\n",
       "       'детектив,криминал,боевик', 'детектив,криминал,драма',\n",
       "       'детектив,криминал,триллер', 'детектив,мелодрама',\n",
       "       'детектив,мелодрама,фэнтези', 'детектив,приключения,драма',\n",
       "       'детектив,приключения,триллер', 'детектив,триллер',\n",
       "       'детектив,триллер,боевик', 'детектив,триллер,драма',\n",
       "       'детектив,триллер,криминал', 'детектив,триллер,ужасы',\n",
       "       'детектив,ужасы,криминал', 'детектив,фантастика,криминал',\n",
       "       'детектив,фантастика,триллер', 'детектив,фильм-нуар,комедия',\n",
       "       'детектив,фэнтези,триллер', 'детский', 'детский,комедия',\n",
       "       'детский,мелодрама,семейный', 'детский,мультфильм,приключения',\n",
       "       'детский,приключения,комедия', 'детский,приключения,семейный',\n",
       "       'детский,приключения,фантастика', 'детский,семейный',\n",
       "       'детский,фэнтези', 'детский,фэнтези,приключения',\n",
       "       'для взрослых,драма,комедия', 'для взрослых,драма,мелодрама',\n",
       "       'документальный', 'документальный,биография',\n",
       "       'документальный,биография,история',\n",
       "       'документальный,биография,музыка',\n",
       "       'документальный,биография,спорт',\n",
       "       'документальный,боевик,приключения',\n",
       "       'документальный,военный,драма', 'документальный,военный,история',\n",
       "       'документальный,драма', 'документальный,драма,биография',\n",
       "       'документальный,драма,история', 'документальный,драма,комедия',\n",
       "       'документальный,драма,музыка', 'документальный,драма,семейный',\n",
       "       'документальный,история', 'документальный,комедия',\n",
       "       'документальный,комедия,история',\n",
       "       'документальный,комедия,криминал',\n",
       "       'документальный,короткометражка',\n",
       "       'документальный,короткометражка,семейный',\n",
       "       'документальный,криминал,военный', 'документальный,музыка',\n",
       "       'документальный,музыка,биография', 'документальный,музыка,концерт',\n",
       "       'документальный,мюзикл', 'документальный,новости,драма',\n",
       "       'документальный,приключения',\n",
       "       'документальный,приключения,семейный', 'документальный,семейный',\n",
       "       'документальный,семейный,музыка', 'документальный,спорт',\n",
       "       'документальный,спорт,биография',\n",
       "       'документальный,триллер,биография', 'документальный,ужасы',\n",
       "       'документальный,ужасы,боевик', 'документальный,фантастика',\n",
       "       'документальный,фэнтези', 'документальный,фэнтези,драма',\n",
       "       'документальный,фэнтези,семейный', 'драма', 'драма,биография',\n",
       "       'драма,биография,история', 'драма,биография,комедия',\n",
       "       'драма,биография,музыка', 'драма,биография,мюзикл',\n",
       "       'драма,биография,спорт', 'драма,боевик', 'драма,боевик,история',\n",
       "       'драма,боевик,криминал', 'драма,боевик,приключения',\n",
       "       'драма,вестерн', 'драма,вестерн,боевик',\n",
       "       'драма,вестерн,приключения', 'драма,военный',\n",
       "       'драма,военный,биография', 'драма,военный,боевик',\n",
       "       'драма,военный,история', 'драма,военный,приключения',\n",
       "       'драма,военный,триллер', 'драма,детектив',\n",
       "       'драма,детектив,история', 'драма,детектив,криминал',\n",
       "       'драма,детектив,приключения', 'драма,история',\n",
       "       'драма,история,биография', 'драма,история,военный',\n",
       "       'драма,история,детектив', 'драма,история,музыка',\n",
       "       'драма,история,триллер', 'драма,комедия',\n",
       "       'драма,комедия,биография', 'драма,комедия,вестерн',\n",
       "       'драма,комедия,военный', 'драма,комедия,детектив',\n",
       "       'драма,комедия,история', 'драма,комедия,криминал',\n",
       "       'драма,комедия,мелодрама', 'драма,комедия,музыка',\n",
       "       'драма,комедия,мультфильм', 'драма,комедия,приключения',\n",
       "       'драма,комедия,семейный', 'драма,комедия,спорт',\n",
       "       'драма,комедия,триллер', 'драма,комедия,ужасы',\n",
       "       'драма,комедия,фантастика', 'драма,криминал',\n",
       "       'драма,криминал,биография', 'драма,криминал,боевик',\n",
       "       'драма,криминал,вестерн', 'драма,криминал,детектив',\n",
       "       'драма,криминал,история', 'драма,криминал,приключения',\n",
       "       'драма,криминал,семейный', 'драма,криминал,спорт',\n",
       "       'драма,криминал,фантастика', 'драма,криминал,фильм-нуар',\n",
       "       'драма,мелодрама', 'драма,мелодрама,биография',\n",
       "       'драма,мелодрама,военный', 'драма,мелодрама,детектив',\n",
       "       'драма,мелодрама,история', 'драма,мелодрама,комедия',\n",
       "       'драма,мелодрама,криминал', 'драма,мелодрама,музыка',\n",
       "       'драма,мелодрама,приключения', 'драма,мелодрама,семейный',\n",
       "       'драма,мелодрама,триллер', 'драма,мелодрама,фэнтези',\n",
       "       'драма,музыка', 'драма,мультфильм', 'драма,приключения',\n",
       "       'драма,приключения,биография', 'драма,приключения,военный',\n",
       "       'драма,приключения,история', 'драма,приключения,мелодрама',\n",
       "       'драма,приключения,семейный', 'драма,приключения,триллер',\n",
       "       'драма,приключения,фэнтези', 'драма,семейный',\n",
       "       'драма,семейный,биография', 'драма,семейный,комедия',\n",
       "       'драма,спорт', 'драма,спорт,биография', 'драма,спорт,боевик',\n",
       "       'драма,спорт,история', 'драма,спорт,комедия',\n",
       "       'драма,спорт,семейный', 'драма,триллер', 'драма,триллер,биография',\n",
       "       'драма,триллер,детектив', 'драма,триллер,криминал',\n",
       "       'драма,триллер,приключения', 'драма,ужасы', 'драма,фантастика',\n",
       "       'драма,фантастика,триллер', 'драма,фантастика,ужасы',\n",
       "       'драма,фэнтези', 'драма,фэнтези,история', 'история',\n",
       "       'история,биография,военный', 'история,биография,драма',\n",
       "       'история,боевик,фэнтези', 'история,детектив', 'история,драма',\n",
       "       'история,драма,боевик', 'история,драма,мелодрама',\n",
       "       'история,криминал', 'история,мелодрама', 'история,приключения',\n",
       "       'история,спорт,драма', 'комедия', 'комедия,биография',\n",
       "       'комедия,биография,история', 'комедия,боевик,криминал',\n",
       "       'комедия,боевик,приключения', 'комедия,боевик,фантастика',\n",
       "       'комедия,вестерн', 'комедия,военный', 'комедия,военный,музыка',\n",
       "       'комедия,детектив', 'комедия,детектив,приключения',\n",
       "       'комедия,драма', 'комедия,драма,биография',\n",
       "       'комедия,драма,военный', 'комедия,драма,короткометражка',\n",
       "       'комедия,драма,криминал', 'комедия,драма,мелодрама',\n",
       "       'комедия,драма,семейный', 'комедия,история',\n",
       "       'комедия,история,драма', 'комедия,криминал',\n",
       "       'комедия,криминал,биография', 'комедия,криминал,боевик',\n",
       "       'комедия,криминал,детектив', 'комедия,криминал,драма',\n",
       "       'комедия,криминал,история', 'комедия,криминал,приключения',\n",
       "       'комедия,криминал,семейный', 'комедия,криминал,спорт',\n",
       "       'комедия,криминал,триллер', 'комедия,мелодрама',\n",
       "       'комедия,мелодрама,драма', 'комедия,мелодрама,криминал',\n",
       "       'комедия,мелодрама,фантастика', 'комедия,мелодрама,фэнтези',\n",
       "       'комедия,музыка', 'комедия,музыка,драма',\n",
       "       'комедия,мультфильм,фантастика', 'комедия,приключения',\n",
       "       'комедия,приключения,вестерн', 'комедия,приключения,детектив',\n",
       "       'комедия,приключения,история', 'комедия,приключения,криминал',\n",
       "       'комедия,приключения,мелодрама', 'комедия,приключения,музыка',\n",
       "       'комедия,приключения,семейный', 'комедия,приключения,спорт',\n",
       "       'комедия,приключения,фэнтези', 'комедия,семейный',\n",
       "       'комедия,семейный,музыка', 'комедия,семейный,приключения',\n",
       "       'комедия,семейный,фантастика', 'комедия,семейный,фэнтези',\n",
       "       'комедия,спорт', 'комедия,триллер', 'комедия,триллер,драма',\n",
       "       'комедия,ужасы', 'комедия,фантастика', 'комедия,фантастика,боевик',\n",
       "       'комедия,фантастика,мелодрама', 'комедия,фэнтези',\n",
       "       'комедия,фэнтези,криминал', 'комедия,фэнтези,мелодрама',\n",
       "       'комедия,фэнтези,приключения', 'комедия,фэнтези,ужасы',\n",
       "       'концерт,музыка', 'концерт,музыка,документальный',\n",
       "       'короткометражка', 'короткометражка,биография',\n",
       "       'короткометражка,боевик,драма', 'короткометражка,драма',\n",
       "       'короткометражка,драма,военный', 'короткометражка,драма,триллер',\n",
       "       'короткометражка,комедия,криминал', 'короткометражка,мелодрама',\n",
       "       'короткометражка,музыка', 'короткометражка,мультфильм',\n",
       "       'короткометражка,фантастика', 'криминал',\n",
       "       'криминал,биография,комедия', 'криминал,боевик',\n",
       "       'криминал,боевик,комедия', 'криминал,боевик,триллер',\n",
       "       'криминал,детектив', 'криминал,детектив,приключения',\n",
       "       'криминал,драма', 'криминал,драма,комедия',\n",
       "       'криминал,драма,триллер', 'криминал,комедия',\n",
       "       'криминал,комедия,боевик', 'криминал,комедия,драма',\n",
       "       'криминал,комедия,триллер', 'криминал,мелодрама',\n",
       "       'криминал,триллер,драма', 'мелодрама', 'мелодрама,биография',\n",
       "       'мелодрама,военный,драма', 'мелодрама,детектив',\n",
       "       'мелодрама,детектив,комедия', 'мелодрама,драма',\n",
       "       'мелодрама,драма,боевик', 'мелодрама,драма,комедия',\n",
       "       'мелодрама,драма,музыка', 'мелодрама,драма,фэнтези',\n",
       "       'мелодрама,история', 'мелодрама,история,драма',\n",
       "       'мелодрама,история,триллер', 'мелодрама,комедия',\n",
       "       'мелодрама,комедия,драма', 'мелодрама,комедия,криминал',\n",
       "       'мелодрама,комедия,музыка', 'мелодрама,комедия,приключения',\n",
       "       'мелодрама,комедия,семейный', 'мелодрама,комедия,спорт',\n",
       "       'мелодрама,комедия,триллер', 'мелодрама,комедия,ужасы',\n",
       "       'мелодрама,криминал', 'мелодрама,музыка', 'мелодрама,музыка,драма',\n",
       "       'мелодрама,приключения', 'мелодрама,приключения,боевик',\n",
       "       'мелодрама,семейный', 'мелодрама,семейный,приключения',\n",
       "       'мелодрама,триллер,история', 'мелодрама,фантастика,драма',\n",
       "       'мелодрама,фэнтези,триллер', 'музыка,концерт',\n",
       "       'музыка,концерт,документальный', 'музыка,мелодрама,фэнтези',\n",
       "       'музыка,приключения,концерт', 'мультфильм',\n",
       "       'мультфильм,биография,драма', 'мультфильм,боевик,детектив',\n",
       "       'мультфильм,боевик,комедия', 'мультфильм,боевик,приключения',\n",
       "       'мультфильм,боевик,триллер', 'мультфильм,детский',\n",
       "       'мультфильм,детский,комедия', 'мультфильм,детский,приключения',\n",
       "       'мультфильм,детский,семейный', 'мультфильм,драма',\n",
       "       'мультфильм,драма,комедия', 'мультфильм,драма,приключения',\n",
       "       'мультфильм,история', 'мультфильм,комедия',\n",
       "       'мультфильм,комедия,детский', 'мультфильм,комедия,криминал',\n",
       "       'мультфильм,комедия,приключения', 'мультфильм,комедия,семейный',\n",
       "       'мультфильм,комедия,фантастика', 'мультфильм,короткометражка',\n",
       "       'мультфильм,короткометражка,детский',\n",
       "       'мультфильм,короткометражка,комедия',\n",
       "       'мультфильм,короткометражка,мелодрама',\n",
       "       'мультфильм,короткометражка,мюзикл',\n",
       "       'мультфильм,короткометражка,ужасы',\n",
       "       'мультфильм,короткометражка,фэнтези', 'мультфильм,мелодрама,драма',\n",
       "       'мультфильм,мелодрама,комедия', 'мультфильм,мелодрама,приключения',\n",
       "       'мультфильм,мюзикл,детский', 'мультфильм,мюзикл,драма',\n",
       "       'мультфильм,мюзикл,комедия', 'мультфильм,мюзикл,мелодрама',\n",
       "       'мультфильм,мюзикл,фэнтези', 'мультфильм,приключения',\n",
       "       'мультфильм,приключения,военный',\n",
       "       'мультфильм,приключения,детектив',\n",
       "       'мультфильм,приключения,детский', 'мультфильм,приключения,драма',\n",
       "       'мультфильм,приключения,комедия',\n",
       "       'мультфильм,приключения,семейный',\n",
       "       'мультфильм,приключения,фантастика',\n",
       "       'мультфильм,приключения,фэнтези', 'мультфильм,семейный',\n",
       "       'мультфильм,семейный,детский', 'мультфильм,семейный,драма',\n",
       "       'мультфильм,семейный,комедия', 'мультфильм,семейный,спорт',\n",
       "       'мультфильм,семейный,фэнтези', 'мультфильм,ужасы,комедия',\n",
       "       'мультфильм,ужасы,фантастика', 'мультфильм,ужасы,фэнтези',\n",
       "       'мультфильм,фантастика,боевик', 'мультфильм,фантастика,комедия',\n",
       "       'мультфильм,фантастика,приключения',\n",
       "       'мультфильм,фантастика,фэнтези', 'мультфильм,фэнтези',\n",
       "       'мультфильм,фэнтези,боевик', 'мультфильм,фэнтези,детский',\n",
       "       'мультфильм,фэнтези,драма', 'мультфильм,фэнтези,история',\n",
       "       'мультфильм,фэнтези,комедия', 'мультфильм,фэнтези,мелодрама',\n",
       "       'мультфильм,фэнтези,приключения', 'мультфильм,фэнтези,семейный',\n",
       "       'мультфильм,фэнтези,триллер', 'мюзикл', 'мюзикл,боевик,драма',\n",
       "       'мюзикл,драма', 'мюзикл,драма,мелодрама', 'мюзикл,комедия',\n",
       "       'мюзикл,комедия,детский', 'мюзикл,комедия,мелодрама',\n",
       "       'мюзикл,комедия,музыка', 'мюзикл,комедия,приключения',\n",
       "       'мюзикл,мелодрама', 'мюзикл,мелодрама,комедия',\n",
       "       'мюзикл,мелодрама,фэнтези', 'мюзикл,семейный',\n",
       "       'мюзикл,семейный,драма', 'мюзикл,ужасы,триллер',\n",
       "       'мюзикл,фэнтези,драма', 'мюзикл,фэнтези,комедия',\n",
       "       'мюзикл,фэнтези,мелодрама', 'мюзикл,фэнтези,семейный',\n",
       "       'приключения', 'приключения,биография,драма',\n",
       "       'приключения,биография,история', 'приключения,боевик',\n",
       "       'приключения,боевик,триллер', 'приключения,вестерн,боевик',\n",
       "       'приключения,военный', 'приключения,детектив,мелодрама',\n",
       "       'приключения,детектив,семейный', 'приключения,детский',\n",
       "       'приключения,детский,комедия', 'приключения,драма',\n",
       "       'приключения,драма,фантастика', 'приключения,история',\n",
       "       'приключения,история,военный', 'приключения,история,драма',\n",
       "       'приключения,комедия,фэнтези', 'приключения,мелодрама,детектив',\n",
       "       'приключения,семейный', 'приключения,семейный,драма',\n",
       "       'приключения,триллер', 'приключения,триллер,биография',\n",
       "       'приключения,фантастика', 'приключения,фантастика,драма',\n",
       "       'приключения,фантастика,семейный', 'приключения,фэнтези',\n",
       "       'приключения,фэнтези,семейный', 'реальное ТВ', 'семейный',\n",
       "       'семейный,детектив,детский', 'семейный,документальный',\n",
       "       'семейный,комедия', 'семейный,комедия,драма',\n",
       "       'семейный,комедия,музыка', 'семейный,мелодрама',\n",
       "       'семейный,мультфильм,комедия', 'семейный,приключения',\n",
       "       'семейный,приключения,военный',\n",
       "       'семейный,приключения,документальный',\n",
       "       'семейный,приключения,комедия', 'семейный,спорт,боевик',\n",
       "       'семейный,фэнтези', 'семейный,фэнтези,комедия', 'спорт,драма',\n",
       "       'спорт,драма,биография', 'спорт,драма,комедия',\n",
       "       'спорт,мелодрама,криминал', 'триллер', 'триллер,биография,драма',\n",
       "       'триллер,боевик', 'триллер,боевик,криминал',\n",
       "       'триллер,боевик,приключения', 'триллер,военный',\n",
       "       'триллер,детектив', 'триллер,детектив,драма',\n",
       "       'триллер,детектив,криминал', 'триллер,детектив,ужасы',\n",
       "       'триллер,драма', 'триллер,драма,биография', 'триллер,драма,боевик',\n",
       "       'триллер,драма,военный', 'триллер,драма,детектив',\n",
       "       'триллер,драма,история', 'триллер,драма,комедия',\n",
       "       'триллер,драма,криминал', 'триллер,драма,мелодрама',\n",
       "       'триллер,драма,приключения', 'триллер,драма,ужасы',\n",
       "       'триллер,драма,фантастика', 'триллер,комедия',\n",
       "       'триллер,комедия,криминал', 'триллер,комедия,ужасы',\n",
       "       'триллер,криминал', 'триллер,криминал,боевик',\n",
       "       'триллер,криминал,детектив', 'триллер,криминал,драма',\n",
       "       'триллер,криминал,комедия', 'триллер,криминал,приключения',\n",
       "       'триллер,мелодрама', 'триллер,мелодрама,детектив',\n",
       "       'триллер,мелодрама,драма', 'триллер,мелодрама,комедия',\n",
       "       'триллер,мелодрама,криминал', 'триллер,приключения',\n",
       "       'триллер,приключения,драма', 'триллер,ужасы',\n",
       "       'триллер,ужасы,детектив', 'триллер,ужасы,драма',\n",
       "       'триллер,ужасы,криминал', 'триллер,ужасы,мелодрама',\n",
       "       'триллер,фантастика,боевик', 'триллер,фантастика,драма',\n",
       "       'триллер,фэнтези', 'триллер,фэнтези,драма', 'ужасы',\n",
       "       'ужасы,боевик', 'ужасы,боевик,комедия', 'ужасы,боевик,криминал',\n",
       "       'ужасы,боевик,триллер', 'ужасы,боевик,фантастика',\n",
       "       'ужасы,боевик,фэнтези', 'ужасы,детектив', 'ужасы,драма',\n",
       "       'ужасы,драма,вестерн', 'ужасы,драма,военный',\n",
       "       'ужасы,драма,детектив', 'ужасы,драма,комедия',\n",
       "       'ужасы,драма,мелодрама', 'ужасы,драма,триллер', 'ужасы,комедия',\n",
       "       'ужасы,комедия,боевик', 'ужасы,комедия,детектив',\n",
       "       'ужасы,комедия,драма', 'ужасы,комедия,криминал',\n",
       "       'ужасы,комедия,музыка', 'ужасы,комедия,приключения',\n",
       "       'ужасы,комедия,семейный', 'ужасы,комедия,фантастика',\n",
       "       'ужасы,комедия,фэнтези', 'ужасы,мелодрама,детектив',\n",
       "       'ужасы,мелодрама,комедия', 'ужасы,приключения', 'ужасы,триллер',\n",
       "       'ужасы,триллер,детектив', 'ужасы,триллер,драма',\n",
       "       'ужасы,триллер,комедия', 'ужасы,триллер,криминал',\n",
       "       'ужасы,триллер,мелодрама', 'ужасы,триллер,приключения',\n",
       "       'ужасы,триллер,фантастика', 'ужасы,фантастика',\n",
       "       'ужасы,фантастика,боевик', 'ужасы,фантастика,детектив',\n",
       "       'ужасы,фантастика,драма', 'ужасы,фантастика,комедия',\n",
       "       'ужасы,фантастика,мелодрама', 'ужасы,фантастика,триллер',\n",
       "       'ужасы,фантастика,фэнтези', 'ужасы,фэнтези',\n",
       "       'ужасы,фэнтези,боевик', 'ужасы,фэнтези,детектив',\n",
       "       'ужасы,фэнтези,драма', 'ужасы,фэнтези,комедия',\n",
       "       'ужасы,фэнтези,мелодрама', 'ужасы,фэнтези,приключения',\n",
       "       'ужасы,фэнтези,триллер', 'фантастика', 'фантастика,боевик',\n",
       "       'фантастика,боевик,военный', 'фантастика,боевик,детектив',\n",
       "       'фантастика,боевик,драма', 'фантастика,боевик,комедия',\n",
       "       'фантастика,боевик,криминал', 'фантастика,боевик,мелодрама',\n",
       "       'фантастика,боевик,приключения', 'фантастика,боевик,семейный',\n",
       "       'фантастика,боевик,триллер', 'фантастика,боевик,ужасы',\n",
       "       'фантастика,боевик,фэнтези', 'фантастика,детектив,боевик',\n",
       "       'фантастика,детектив,фэнтези', 'фантастика,драма',\n",
       "       'фантастика,драма,боевик', 'фантастика,драма,детектив',\n",
       "       'фантастика,драма,комедия', 'фантастика,драма,криминал',\n",
       "       'фантастика,драма,мелодрама', 'фантастика,драма,приключения',\n",
       "       'фантастика,драма,триллер', 'фантастика,драма,ужасы',\n",
       "       'фантастика,комедия', 'фантастика,комедия,боевик',\n",
       "       'фантастика,комедия,детектив', 'фантастика,комедия,приключения',\n",
       "       'фантастика,комедия,семейный', 'фантастика,мелодрама',\n",
       "       'фантастика,мелодрама,боевик', 'фантастика,мелодрама,комедия',\n",
       "       'фантастика,мелодрама,фэнтези', 'фантастика,мультфильм,драма',\n",
       "       'фантастика,приключения', 'фантастика,приключения,боевик',\n",
       "       'фантастика,приключения,военный',\n",
       "       'фантастика,приключения,детектив', 'фантастика,приключения,драма',\n",
       "       'фантастика,приключения,семейный', 'фантастика,триллер',\n",
       "       'фантастика,триллер,боевик', 'фантастика,триллер,детектив',\n",
       "       'фантастика,триллер,драма', 'фантастика,триллер,комедия',\n",
       "       'фантастика,триллер,криминал', 'фантастика,триллер,мелодрама',\n",
       "       'фантастика,триллер,приключения', 'фантастика,фэнтези,боевик',\n",
       "       'фантастика,фэнтези,детектив', 'фантастика,фэнтези,драма',\n",
       "       'фантастика,фэнтези,комедия', 'фантастика,фэнтези,приключения',\n",
       "       'фантастика,фэнтези,триллер', 'фильм-нуар,триллер,детектив',\n",
       "       'фэнтези', 'фэнтези,боевик', 'фэнтези,боевик,вестерн',\n",
       "       'фэнтези,боевик,военный', 'фэнтези,боевик,детектив',\n",
       "       'фэнтези,боевик,драма', 'фэнтези,боевик,комедия',\n",
       "       'фэнтези,боевик,криминал', 'фэнтези,боевик,мелодрама',\n",
       "       'фэнтези,боевик,приключения', 'фэнтези,боевик,семейный',\n",
       "       'фэнтези,боевик,триллер', 'фэнтези,боевик,ужасы', 'фэнтези,драма',\n",
       "       'фэнтези,драма,биография', 'фэнтези,драма,детектив',\n",
       "       'фэнтези,драма,комедия', 'фэнтези,драма,мелодрама',\n",
       "       'фэнтези,драма,приключения', 'фэнтези,драма,семейный',\n",
       "       'фэнтези,драма,ужасы', 'фэнтези,драма,фильм-нуар',\n",
       "       'фэнтези,комедия', 'фэнтези,комедия,детектив',\n",
       "       'фэнтези,комедия,драма', 'фэнтези,комедия,криминал',\n",
       "       'фэнтези,комедия,приключения', 'фэнтези,комедия,семейный',\n",
       "       'фэнтези,мелодрама', 'фэнтези,мелодрама,драма',\n",
       "       'фэнтези,мелодрама,комедия', 'фэнтези,мелодрама,приключения',\n",
       "       'фэнтези,приключения', 'фэнтези,приключения,боевик',\n",
       "       'фэнтези,приключения,драма', 'фэнтези,приключения,комедия',\n",
       "       'фэнтези,приключения,семейный', 'фэнтези,семейный',\n",
       "       'фэнтези,семейный,мелодрама', 'фэнтези,семейный,приключения',\n",
       "       'фэнтези,триллер,детектив', 'фэнтези,триллер,драма',\n",
       "       'фэнтези,триллер,мелодрама', 'фэнтези,триллер,приключения',\n",
       "       'фэнтези,ужасы', 'фэнтези,ужасы,триллер', nan], dtype=object)"
      ]
     },
     "execution_count": 31,
     "metadata": {},
     "output_type": "execute_result"
    }
   ],
   "source": [
    "df['genres'].sort_values().unique()"
   ]
  },
  {
   "cell_type": "code",
   "execution_count": 32,
   "metadata": {},
   "outputs": [
    {
     "data": {
      "text/plain": [
       "array(['аниме,мультфильм', 'аниме,мультфильм,боевик',\n",
       "       'аниме,мультфильм,детектив', 'аниме,мультфильм,драма',\n",
       "       'аниме,мультфильм,комедия', 'аниме,мультфильм,короткометражка',\n",
       "       'аниме,мультфильм,мелодрама', 'аниме,мультфильм,приключения',\n",
       "       'аниме,мультфильм,ужасы', 'аниме,мультфильм,фантастика',\n",
       "       'аниме,мультфильм,фэнтези', 'биография', 'биография,военный,драма',\n",
       "       'биография,документальный', 'биография,драма',\n",
       "       'биография,драма,военный', 'биография,драма,история',\n",
       "       'биография,драма,криминал', 'биография,история',\n",
       "       'биография,история,драма', 'биография,криминал,драма',\n",
       "       'биография,криминал,триллер', 'биография,мелодрама,драма',\n",
       "       'биография,музыка,драма', 'биография,музыка,мюзикл',\n",
       "       'биография,спорт,драма', 'биография,спорт,история',\n",
       "       'биография,спорт,комедия', 'боевик', 'боевик,вестерн,приключения',\n",
       "       'боевик,военный', 'боевик,военный,драма', 'боевик,военный,история',\n",
       "       'боевик,детектив', 'боевик,драма', 'боевик,драма,биография',\n",
       "       'боевик,драма,вестерн', 'боевик,драма,военный',\n",
       "       'боевик,драма,история', 'боевик,драма,комедия',\n",
       "       'боевик,драма,криминал', 'боевик,драма,мелодрама',\n",
       "       'боевик,драма,приключения', 'боевик,драма,триллер',\n",
       "       'боевик,история', 'боевик,история,драма', 'боевик,комедия',\n",
       "       'боевик,комедия,криминал', 'боевик,комедия,приключения',\n",
       "       'боевик,комедия,семейный', 'боевик,криминал',\n",
       "       'боевик,криминал,детектив', 'боевик,криминал,драма',\n",
       "       'боевик,криминал,триллер', 'боевик,мелодрама',\n",
       "       'боевик,мелодрама,комедия', 'боевик,приключения',\n",
       "       'боевик,приключения,детектив', 'боевик,приключения,история',\n",
       "       'боевик,приключения,семейный', 'боевик,приключения,триллер',\n",
       "       'боевик,спорт,драма', 'боевик,триллер', 'боевик,триллер,детектив',\n",
       "       'боевик,триллер,драма', 'боевик,триллер,комедия',\n",
       "       'боевик,триллер,криминал', 'боевик,триллер,мелодрама',\n",
       "       'боевик,триллер,приключения', 'боевик,триллер,фэнтези',\n",
       "       'боевик,фантастика', 'боевик,фантастика,приключения',\n",
       "       'боевик,фантастика,триллер', 'боевик,фэнтези',\n",
       "       'боевик,фэнтези,драма', 'вестерн,биография,драма',\n",
       "       'вестерн,боевик,драма', 'вестерн,драма,триллер',\n",
       "       'вестерн,криминал,триллер', 'вестерн,приключения,боевик',\n",
       "       'военный', 'военный,биография,драма', 'военный,боевик,драма',\n",
       "       'военный,боевик,история', 'военный,детектив', 'военный,драма',\n",
       "       'военный,драма,боевик', 'военный,драма,история',\n",
       "       'военный,драма,комедия', 'военный,история',\n",
       "       'военный,история,драма', 'военный,приключения,драма', 'детектив',\n",
       "       'детектив,боевик,история', 'детектив,драма,криминал',\n",
       "       'детектив,драма,триллер', 'детектив,история,драма',\n",
       "       'детектив,комедия', 'детектив,комедия,драма', 'детектив,криминал',\n",
       "       'детектив,криминал,боевик', 'детектив,криминал,драма',\n",
       "       'детектив,криминал,триллер', 'детектив,мелодрама',\n",
       "       'детектив,мелодрама,фэнтези', 'детектив,приключения,драма',\n",
       "       'детектив,приключения,триллер', 'детектив,триллер',\n",
       "       'детектив,триллер,боевик', 'детектив,триллер,драма',\n",
       "       'детектив,триллер,криминал', 'детектив,триллер,ужасы',\n",
       "       'детектив,ужасы,криминал', 'детектив,фантастика,криминал',\n",
       "       'детектив,фантастика,триллер', 'детектив,фильм-нуар,комедия',\n",
       "       'детектив,фэнтези,триллер', 'детский', 'детский,комедия',\n",
       "       'детский,мелодрама,семейный', 'детский,мультфильм,приключения',\n",
       "       'детский,приключения,комедия', 'детский,приключения,семейный',\n",
       "       'детский,приключения,фантастика', 'детский,семейный',\n",
       "       'детский,фэнтези', 'детский,фэнтези,приключения',\n",
       "       'для взрослых,драма,комедия', 'для взрослых,драма,мелодрама',\n",
       "       'документальный', 'документальный,биография',\n",
       "       'документальный,биография,история',\n",
       "       'документальный,биография,музыка',\n",
       "       'документальный,биография,спорт',\n",
       "       'документальный,боевик,приключения',\n",
       "       'документальный,военный,драма', 'документальный,военный,история',\n",
       "       'документальный,драма', 'документальный,драма,биография',\n",
       "       'документальный,драма,история', 'документальный,драма,комедия',\n",
       "       'документальный,драма,музыка', 'документальный,драма,семейный',\n",
       "       'документальный,история', 'документальный,комедия',\n",
       "       'документальный,комедия,история',\n",
       "       'документальный,комедия,криминал',\n",
       "       'документальный,короткометражка',\n",
       "       'документальный,короткометражка,семейный',\n",
       "       'документальный,криминал,военный', 'документальный,музыка',\n",
       "       'документальный,музыка,биография', 'документальный,музыка,концерт',\n",
       "       'документальный,мюзикл', 'документальный,новости,драма',\n",
       "       'документальный,приключения',\n",
       "       'документальный,приключения,семейный', 'документальный,семейный',\n",
       "       'документальный,семейный,музыка', 'документальный,спорт',\n",
       "       'документальный,спорт,биография',\n",
       "       'документальный,триллер,биография', 'документальный,ужасы',\n",
       "       'документальный,ужасы,боевик', 'документальный,фантастика',\n",
       "       'документальный,фэнтези', 'документальный,фэнтези,драма',\n",
       "       'документальный,фэнтези,семейный', 'драма', 'драма,биография',\n",
       "       'драма,биография,история', 'драма,биография,комедия',\n",
       "       'драма,биография,музыка', 'драма,биография,мюзикл',\n",
       "       'драма,биография,спорт', 'драма,боевик', 'драма,боевик,история',\n",
       "       'драма,боевик,криминал', 'драма,боевик,приключения',\n",
       "       'драма,вестерн', 'драма,вестерн,боевик',\n",
       "       'драма,вестерн,приключения', 'драма,военный',\n",
       "       'драма,военный,биография', 'драма,военный,боевик',\n",
       "       'драма,военный,история', 'драма,военный,приключения',\n",
       "       'драма,военный,триллер', 'драма,детектив',\n",
       "       'драма,детектив,история', 'драма,детектив,криминал',\n",
       "       'драма,детектив,приключения', 'драма,история',\n",
       "       'драма,история,биография', 'драма,история,военный',\n",
       "       'драма,история,детектив', 'драма,история,музыка',\n",
       "       'драма,история,триллер', 'драма,комедия',\n",
       "       'драма,комедия,биография', 'драма,комедия,вестерн',\n",
       "       'драма,комедия,военный', 'драма,комедия,детектив',\n",
       "       'драма,комедия,история', 'драма,комедия,криминал',\n",
       "       'драма,комедия,мелодрама', 'драма,комедия,музыка',\n",
       "       'драма,комедия,мультфильм', 'драма,комедия,приключения',\n",
       "       'драма,комедия,семейный', 'драма,комедия,спорт',\n",
       "       'драма,комедия,триллер', 'драма,комедия,ужасы',\n",
       "       'драма,комедия,фантастика', 'драма,криминал',\n",
       "       'драма,криминал,биография', 'драма,криминал,боевик',\n",
       "       'драма,криминал,вестерн', 'драма,криминал,детектив',\n",
       "       'драма,криминал,история', 'драма,криминал,приключения',\n",
       "       'драма,криминал,семейный', 'драма,криминал,спорт',\n",
       "       'драма,криминал,фантастика', 'драма,криминал,фильм-нуар',\n",
       "       'драма,мелодрама', 'драма,мелодрама,биография',\n",
       "       'драма,мелодрама,военный', 'драма,мелодрама,детектив',\n",
       "       'драма,мелодрама,история', 'драма,мелодрама,комедия',\n",
       "       'драма,мелодрама,криминал', 'драма,мелодрама,музыка',\n",
       "       'драма,мелодрама,приключения', 'драма,мелодрама,семейный',\n",
       "       'драма,мелодрама,триллер', 'драма,мелодрама,фэнтези',\n",
       "       'драма,музыка', 'драма,мультфильм', 'драма,приключения',\n",
       "       'драма,приключения,биография', 'драма,приключения,военный',\n",
       "       'драма,приключения,история', 'драма,приключения,мелодрама',\n",
       "       'драма,приключения,семейный', 'драма,приключения,триллер',\n",
       "       'драма,приключения,фэнтези', 'драма,семейный',\n",
       "       'драма,семейный,биография', 'драма,семейный,комедия',\n",
       "       'драма,спорт', 'драма,спорт,биография', 'драма,спорт,боевик',\n",
       "       'драма,спорт,история', 'драма,спорт,комедия',\n",
       "       'драма,спорт,семейный', 'драма,триллер', 'драма,триллер,биография',\n",
       "       'драма,триллер,детектив', 'драма,триллер,криминал',\n",
       "       'драма,триллер,приключения', 'драма,ужасы', 'драма,фантастика',\n",
       "       'драма,фантастика,триллер', 'драма,фантастика,ужасы',\n",
       "       'драма,фэнтези', 'драма,фэнтези,история', 'история',\n",
       "       'история,биография,военный', 'история,биография,драма',\n",
       "       'история,боевик,фэнтези', 'история,детектив', 'история,драма',\n",
       "       'история,драма,боевик', 'история,драма,мелодрама',\n",
       "       'история,криминал', 'история,мелодрама', 'история,приключения',\n",
       "       'история,спорт,драма', 'комедия', 'комедия,биография',\n",
       "       'комедия,биография,история', 'комедия,боевик,криминал',\n",
       "       'комедия,боевик,приключения', 'комедия,боевик,фантастика',\n",
       "       'комедия,вестерн', 'комедия,военный', 'комедия,военный,музыка',\n",
       "       'комедия,детектив', 'комедия,детектив,приключения',\n",
       "       'комедия,драма', 'комедия,драма,биография',\n",
       "       'комедия,драма,военный', 'комедия,драма,короткометражка',\n",
       "       'комедия,драма,криминал', 'комедия,драма,мелодрама',\n",
       "       'комедия,драма,семейный', 'комедия,история',\n",
       "       'комедия,история,драма', 'комедия,криминал',\n",
       "       'комедия,криминал,биография', 'комедия,криминал,боевик',\n",
       "       'комедия,криминал,детектив', 'комедия,криминал,драма',\n",
       "       'комедия,криминал,история', 'комедия,криминал,приключения',\n",
       "       'комедия,криминал,семейный', 'комедия,криминал,спорт',\n",
       "       'комедия,криминал,триллер', 'комедия,мелодрама',\n",
       "       'комедия,мелодрама,драма', 'комедия,мелодрама,криминал',\n",
       "       'комедия,мелодрама,фантастика', 'комедия,мелодрама,фэнтези',\n",
       "       'комедия,музыка', 'комедия,музыка,драма',\n",
       "       'комедия,мультфильм,фантастика', 'комедия,приключения',\n",
       "       'комедия,приключения,вестерн', 'комедия,приключения,детектив',\n",
       "       'комедия,приключения,история', 'комедия,приключения,криминал',\n",
       "       'комедия,приключения,мелодрама', 'комедия,приключения,музыка',\n",
       "       'комедия,приключения,семейный', 'комедия,приключения,спорт',\n",
       "       'комедия,приключения,фэнтези', 'комедия,семейный',\n",
       "       'комедия,семейный,музыка', 'комедия,семейный,приключения',\n",
       "       'комедия,семейный,фантастика', 'комедия,семейный,фэнтези',\n",
       "       'комедия,спорт', 'комедия,триллер', 'комедия,триллер,драма',\n",
       "       'комедия,ужасы', 'комедия,фантастика', 'комедия,фантастика,боевик',\n",
       "       'комедия,фантастика,мелодрама', 'комедия,фэнтези',\n",
       "       'комедия,фэнтези,криминал', 'комедия,фэнтези,мелодрама',\n",
       "       'комедия,фэнтези,приключения', 'комедия,фэнтези,ужасы',\n",
       "       'концерт,музыка', 'концерт,музыка,документальный',\n",
       "       'короткометражка', 'короткометражка,биография',\n",
       "       'короткометражка,боевик,драма', 'короткометражка,драма',\n",
       "       'короткометражка,драма,военный', 'короткометражка,драма,триллер',\n",
       "       'короткометражка,комедия,криминал', 'короткометражка,мелодрама',\n",
       "       'короткометражка,музыка', 'короткометражка,мультфильм',\n",
       "       'короткометражка,фантастика', 'криминал',\n",
       "       'криминал,биография,комедия', 'криминал,боевик',\n",
       "       'криминал,боевик,комедия', 'криминал,боевик,триллер',\n",
       "       'криминал,детектив', 'криминал,детектив,приключения',\n",
       "       'криминал,драма', 'криминал,драма,комедия',\n",
       "       'криминал,драма,триллер', 'криминал,комедия',\n",
       "       'криминал,комедия,боевик', 'криминал,комедия,драма',\n",
       "       'криминал,комедия,триллер', 'криминал,мелодрама',\n",
       "       'криминал,триллер,драма', 'мелодрама', 'мелодрама,биография',\n",
       "       'мелодрама,военный,драма', 'мелодрама,детектив',\n",
       "       'мелодрама,детектив,комедия', 'мелодрама,драма',\n",
       "       'мелодрама,драма,боевик', 'мелодрама,драма,комедия',\n",
       "       'мелодрама,драма,музыка', 'мелодрама,драма,фэнтези',\n",
       "       'мелодрама,история', 'мелодрама,история,драма',\n",
       "       'мелодрама,история,триллер', 'мелодрама,комедия',\n",
       "       'мелодрама,комедия,драма', 'мелодрама,комедия,криминал',\n",
       "       'мелодрама,комедия,музыка', 'мелодрама,комедия,приключения',\n",
       "       'мелодрама,комедия,семейный', 'мелодрама,комедия,спорт',\n",
       "       'мелодрама,комедия,триллер', 'мелодрама,комедия,ужасы',\n",
       "       'мелодрама,криминал', 'мелодрама,музыка', 'мелодрама,музыка,драма',\n",
       "       'мелодрама,приключения', 'мелодрама,приключения,боевик',\n",
       "       'мелодрама,семейный', 'мелодрама,семейный,приключения',\n",
       "       'мелодрама,триллер,история', 'мелодрама,фантастика,драма',\n",
       "       'мелодрама,фэнтези,триллер', 'музыка,концерт',\n",
       "       'музыка,концерт,документальный', 'музыка,мелодрама,фэнтези',\n",
       "       'музыка,приключения,концерт', 'мультфильм',\n",
       "       'мультфильм,биография,драма', 'мультфильм,боевик,детектив',\n",
       "       'мультфильм,боевик,комедия', 'мультфильм,боевик,приключения',\n",
       "       'мультфильм,боевик,триллер', 'мультфильм,детский',\n",
       "       'мультфильм,детский,комедия', 'мультфильм,детский,приключения',\n",
       "       'мультфильм,детский,семейный', 'мультфильм,драма',\n",
       "       'мультфильм,драма,комедия', 'мультфильм,драма,приключения',\n",
       "       'мультфильм,история', 'мультфильм,комедия',\n",
       "       'мультфильм,комедия,детский', 'мультфильм,комедия,криминал',\n",
       "       'мультфильм,комедия,приключения', 'мультфильм,комедия,семейный',\n",
       "       'мультфильм,комедия,фантастика', 'мультфильм,короткометражка',\n",
       "       'мультфильм,короткометражка,детский',\n",
       "       'мультфильм,короткометражка,комедия',\n",
       "       'мультфильм,короткометражка,мелодрама',\n",
       "       'мультфильм,короткометражка,мюзикл',\n",
       "       'мультфильм,короткометражка,ужасы',\n",
       "       'мультфильм,короткометражка,фэнтези', 'мультфильм,мелодрама,драма',\n",
       "       'мультфильм,мелодрама,комедия', 'мультфильм,мелодрама,приключения',\n",
       "       'мультфильм,мюзикл,детский', 'мультфильм,мюзикл,драма',\n",
       "       'мультфильм,мюзикл,комедия', 'мультфильм,мюзикл,мелодрама',\n",
       "       'мультфильм,мюзикл,фэнтези', 'мультфильм,приключения',\n",
       "       'мультфильм,приключения,военный',\n",
       "       'мультфильм,приключения,детектив',\n",
       "       'мультфильм,приключения,детский', 'мультфильм,приключения,драма',\n",
       "       'мультфильм,приключения,комедия',\n",
       "       'мультфильм,приключения,семейный',\n",
       "       'мультфильм,приключения,фантастика',\n",
       "       'мультфильм,приключения,фэнтези', 'мультфильм,семейный',\n",
       "       'мультфильм,семейный,детский', 'мультфильм,семейный,драма',\n",
       "       'мультфильм,семейный,комедия', 'мультфильм,семейный,спорт',\n",
       "       'мультфильм,семейный,фэнтези', 'мультфильм,ужасы,комедия',\n",
       "       'мультфильм,ужасы,фантастика', 'мультфильм,ужасы,фэнтези',\n",
       "       'мультфильм,фантастика,боевик', 'мультфильм,фантастика,комедия',\n",
       "       'мультфильм,фантастика,приключения',\n",
       "       'мультфильм,фантастика,фэнтези', 'мультфильм,фэнтези',\n",
       "       'мультфильм,фэнтези,боевик', 'мультфильм,фэнтези,детский',\n",
       "       'мультфильм,фэнтези,драма', 'мультфильм,фэнтези,история',\n",
       "       'мультфильм,фэнтези,комедия', 'мультфильм,фэнтези,мелодрама',\n",
       "       'мультфильм,фэнтези,приключения', 'мультфильм,фэнтези,семейный',\n",
       "       'мультфильм,фэнтези,триллер', 'мюзикл', 'мюзикл,боевик,драма',\n",
       "       'мюзикл,драма', 'мюзикл,драма,мелодрама', 'мюзикл,комедия',\n",
       "       'мюзикл,комедия,детский', 'мюзикл,комедия,мелодрама',\n",
       "       'мюзикл,комедия,музыка', 'мюзикл,комедия,приключения',\n",
       "       'мюзикл,мелодрама', 'мюзикл,мелодрама,комедия',\n",
       "       'мюзикл,мелодрама,фэнтези', 'мюзикл,семейный',\n",
       "       'мюзикл,семейный,драма', 'мюзикл,ужасы,триллер',\n",
       "       'мюзикл,фэнтези,драма', 'мюзикл,фэнтези,комедия',\n",
       "       'мюзикл,фэнтези,мелодрама', 'мюзикл,фэнтези,семейный',\n",
       "       'приключения', 'приключения,биография,драма',\n",
       "       'приключения,биография,история', 'приключения,боевик',\n",
       "       'приключения,боевик,триллер', 'приключения,вестерн,боевик',\n",
       "       'приключения,военный', 'приключения,детектив,мелодрама',\n",
       "       'приключения,детектив,семейный', 'приключения,детский',\n",
       "       'приключения,детский,комедия', 'приключения,драма',\n",
       "       'приключения,драма,фантастика', 'приключения,история',\n",
       "       'приключения,история,военный', 'приключения,история,драма',\n",
       "       'приключения,комедия,фэнтези', 'приключения,мелодрама,детектив',\n",
       "       'приключения,семейный', 'приключения,семейный,драма',\n",
       "       'приключения,триллер', 'приключения,триллер,биография',\n",
       "       'приключения,фантастика', 'приключения,фантастика,драма',\n",
       "       'приключения,фантастика,семейный', 'приключения,фэнтези',\n",
       "       'приключения,фэнтези,семейный', 'реальное ТВ', 'семейный',\n",
       "       'семейный,детектив,детский', 'семейный,документальный',\n",
       "       'семейный,комедия', 'семейный,комедия,драма',\n",
       "       'семейный,комедия,музыка', 'семейный,мелодрама',\n",
       "       'семейный,мультфильм,комедия', 'семейный,приключения',\n",
       "       'семейный,приключения,военный',\n",
       "       'семейный,приключения,документальный',\n",
       "       'семейный,приключения,комедия', 'семейный,спорт,боевик',\n",
       "       'семейный,фэнтези', 'семейный,фэнтези,комедия', 'спорт,драма',\n",
       "       'спорт,драма,биография', 'спорт,драма,комедия',\n",
       "       'спорт,мелодрама,криминал', 'триллер', 'триллер,биография,драма',\n",
       "       'триллер,боевик', 'триллер,боевик,криминал',\n",
       "       'триллер,боевик,приключения', 'триллер,военный',\n",
       "       'триллер,детектив', 'триллер,детектив,драма',\n",
       "       'триллер,детектив,криминал', 'триллер,детектив,ужасы',\n",
       "       'триллер,драма', 'триллер,драма,биография', 'триллер,драма,боевик',\n",
       "       'триллер,драма,военный', 'триллер,драма,детектив',\n",
       "       'триллер,драма,история', 'триллер,драма,комедия',\n",
       "       'триллер,драма,криминал', 'триллер,драма,мелодрама',\n",
       "       'триллер,драма,приключения', 'триллер,драма,ужасы',\n",
       "       'триллер,драма,фантастика', 'триллер,комедия',\n",
       "       'триллер,комедия,криминал', 'триллер,комедия,ужасы',\n",
       "       'триллер,криминал', 'триллер,криминал,боевик',\n",
       "       'триллер,криминал,детектив', 'триллер,криминал,драма',\n",
       "       'триллер,криминал,комедия', 'триллер,криминал,приключения',\n",
       "       'триллер,мелодрама', 'триллер,мелодрама,детектив',\n",
       "       'триллер,мелодрама,драма', 'триллер,мелодрама,комедия',\n",
       "       'триллер,мелодрама,криминал', 'триллер,приключения',\n",
       "       'триллер,приключения,драма', 'триллер,ужасы',\n",
       "       'триллер,ужасы,детектив', 'триллер,ужасы,драма',\n",
       "       'триллер,ужасы,криминал', 'триллер,ужасы,мелодрама',\n",
       "       'триллер,фантастика,боевик', 'триллер,фантастика,драма',\n",
       "       'триллер,фэнтези', 'триллер,фэнтези,драма', 'ужасы',\n",
       "       'ужасы,боевик', 'ужасы,боевик,комедия', 'ужасы,боевик,криминал',\n",
       "       'ужасы,боевик,триллер', 'ужасы,боевик,фантастика',\n",
       "       'ужасы,боевик,фэнтези', 'ужасы,детектив', 'ужасы,драма',\n",
       "       'ужасы,драма,вестерн', 'ужасы,драма,военный',\n",
       "       'ужасы,драма,детектив', 'ужасы,драма,комедия',\n",
       "       'ужасы,драма,мелодрама', 'ужасы,драма,триллер', 'ужасы,комедия',\n",
       "       'ужасы,комедия,боевик', 'ужасы,комедия,детектив',\n",
       "       'ужасы,комедия,драма', 'ужасы,комедия,криминал',\n",
       "       'ужасы,комедия,музыка', 'ужасы,комедия,приключения',\n",
       "       'ужасы,комедия,семейный', 'ужасы,комедия,фантастика',\n",
       "       'ужасы,комедия,фэнтези', 'ужасы,мелодрама,детектив',\n",
       "       'ужасы,мелодрама,комедия', 'ужасы,приключения', 'ужасы,триллер',\n",
       "       'ужасы,триллер,детектив', 'ужасы,триллер,драма',\n",
       "       'ужасы,триллер,комедия', 'ужасы,триллер,криминал',\n",
       "       'ужасы,триллер,мелодрама', 'ужасы,триллер,приключения',\n",
       "       'ужасы,триллер,фантастика', 'ужасы,фантастика',\n",
       "       'ужасы,фантастика,боевик', 'ужасы,фантастика,детектив',\n",
       "       'ужасы,фантастика,драма', 'ужасы,фантастика,комедия',\n",
       "       'ужасы,фантастика,мелодрама', 'ужасы,фантастика,триллер',\n",
       "       'ужасы,фантастика,фэнтези', 'ужасы,фэнтези',\n",
       "       'ужасы,фэнтези,боевик', 'ужасы,фэнтези,детектив',\n",
       "       'ужасы,фэнтези,драма', 'ужасы,фэнтези,комедия',\n",
       "       'ужасы,фэнтези,мелодрама', 'ужасы,фэнтези,приключения',\n",
       "       'ужасы,фэнтези,триллер', 'фантастика', 'фантастика,боевик',\n",
       "       'фантастика,боевик,военный', 'фантастика,боевик,детектив',\n",
       "       'фантастика,боевик,драма', 'фантастика,боевик,комедия',\n",
       "       'фантастика,боевик,криминал', 'фантастика,боевик,мелодрама',\n",
       "       'фантастика,боевик,приключения', 'фантастика,боевик,семейный',\n",
       "       'фантастика,боевик,триллер', 'фантастика,боевик,ужасы',\n",
       "       'фантастика,боевик,фэнтези', 'фантастика,детектив,боевик',\n",
       "       'фантастика,детектив,фэнтези', 'фантастика,драма',\n",
       "       'фантастика,драма,боевик', 'фантастика,драма,детектив',\n",
       "       'фантастика,драма,комедия', 'фантастика,драма,криминал',\n",
       "       'фантастика,драма,мелодрама', 'фантастика,драма,приключения',\n",
       "       'фантастика,драма,триллер', 'фантастика,драма,ужасы',\n",
       "       'фантастика,комедия', 'фантастика,комедия,боевик',\n",
       "       'фантастика,комедия,детектив', 'фантастика,комедия,приключения',\n",
       "       'фантастика,комедия,семейный', 'фантастика,мелодрама',\n",
       "       'фантастика,мелодрама,боевик', 'фантастика,мелодрама,комедия',\n",
       "       'фантастика,мелодрама,фэнтези', 'фантастика,мультфильм,драма',\n",
       "       'фантастика,приключения', 'фантастика,приключения,боевик',\n",
       "       'фантастика,приключения,военный',\n",
       "       'фантастика,приключения,детектив', 'фантастика,приключения,драма',\n",
       "       'фантастика,приключения,семейный', 'фантастика,триллер',\n",
       "       'фантастика,триллер,боевик', 'фантастика,триллер,детектив',\n",
       "       'фантастика,триллер,драма', 'фантастика,триллер,комедия',\n",
       "       'фантастика,триллер,криминал', 'фантастика,триллер,мелодрама',\n",
       "       'фантастика,триллер,приключения', 'фантастика,фэнтези,боевик',\n",
       "       'фантастика,фэнтези,детектив', 'фантастика,фэнтези,драма',\n",
       "       'фантастика,фэнтези,комедия', 'фантастика,фэнтези,приключения',\n",
       "       'фантастика,фэнтези,триллер', 'фильм-нуар,триллер,детектив',\n",
       "       'фэнтези', 'фэнтези,боевик', 'фэнтези,боевик,вестерн',\n",
       "       'фэнтези,боевик,военный', 'фэнтези,боевик,детектив',\n",
       "       'фэнтези,боевик,драма', 'фэнтези,боевик,комедия',\n",
       "       'фэнтези,боевик,криминал', 'фэнтези,боевик,мелодрама',\n",
       "       'фэнтези,боевик,приключения', 'фэнтези,боевик,семейный',\n",
       "       'фэнтези,боевик,триллер', 'фэнтези,боевик,ужасы', 'фэнтези,драма',\n",
       "       'фэнтези,драма,биография', 'фэнтези,драма,детектив',\n",
       "       'фэнтези,драма,комедия', 'фэнтези,драма,мелодрама',\n",
       "       'фэнтези,драма,приключения', 'фэнтези,драма,семейный',\n",
       "       'фэнтези,драма,ужасы', 'фэнтези,драма,фильм-нуар',\n",
       "       'фэнтези,комедия', 'фэнтези,комедия,детектив',\n",
       "       'фэнтези,комедия,драма', 'фэнтези,комедия,криминал',\n",
       "       'фэнтези,комедия,приключения', 'фэнтези,комедия,семейный',\n",
       "       'фэнтези,мелодрама', 'фэнтези,мелодрама,драма',\n",
       "       'фэнтези,мелодрама,комедия', 'фэнтези,мелодрама,приключения',\n",
       "       'фэнтези,приключения', 'фэнтези,приключения,боевик',\n",
       "       'фэнтези,приключения,драма', 'фэнтези,приключения,комедия',\n",
       "       'фэнтези,приключения,семейный', 'фэнтези,семейный',\n",
       "       'фэнтези,семейный,мелодрама', 'фэнтези,семейный,приключения',\n",
       "       'фэнтези,триллер,детектив', 'фэнтези,триллер,драма',\n",
       "       'фэнтези,триллер,мелодрама', 'фэнтези,триллер,приключения',\n",
       "       'фэнтези,ужасы', 'фэнтези,ужасы,триллер', nan], dtype=object)"
      ]
     },
     "execution_count": 32,
     "metadata": {},
     "output_type": "execute_result"
    }
   ],
   "source": [
    "df['genres'] = df['genres'].str.strip()\n",
    "df['genres'].sort_values().unique()"
   ]
  },
  {
   "cell_type": "markdown",
   "metadata": {},
   "source": [
    "***Вывод***\n",
    "\n",
    "В полях встречаются значения, у которых появился пробел в начале строки.\n",
    "С помощью метода .str.strip устранили все пробелы, \n",
    "которые встречаются в начале и в конце строки.\n"
   ]
  },
  {
   "cell_type": "markdown",
   "metadata": {
    "id": "XFSN5lrEgFyR"
   },
   "source": [
    "#### Шаг 2.5. Проверьте количественные значения\n",
    "\n",
    "- Проверьте, обнаружились ли в таких столбцах подозрительные данные. Как с такими данными лучше поступить?\n",
    "\n",
    "<div id=\"accordion\">\n",
    "    <div class=\"card\">\n",
    "        <div class=\"card-header\" id=\"headingThree\">\n",
    "            <button class=\"btn btn-link collapsed\" data-toggle=\"collapse\" data-target=\"#collapseHint_budget\" aria-expanded=\"false\" aria-controls=\"collapseHint_budget\">Подсказка</button>\n",
    "        </div>\n",
    "        <div id=\"collapseHint_budget\" class=\"collapse\" aria-labelledby=\"headingThree\" data-parent=\"#accordion\">\n",
    "            <div class=\"card-body\">\n",
    "Обратите внимание на описание столбца <code>budget</code>. Как этот столбец соотносится с двумя другими: <code>refundable_support</code> и <code>nonrefundable_support</code>?\n",
    "            </div>\n",
    "        </div>\n",
    "    </div>\n",
    "</div>"
   ]
  },
  {
   "cell_type": "code",
   "execution_count": 33,
   "metadata": {},
   "outputs": [
    {
     "data": {
      "text/plain": [
       "array([1.44624640e+07, 1.50100000e+07, 1.81664180e+07, 1.87060800e+07,\n",
       "       2.70000000e+07, 2.81155800e+07, 2.85714290e+07, 3.00000000e+07,\n",
       "       3.04489110e+07, 3.08000000e+07, 3.13053130e+07, 3.30000000e+07,\n",
       "       3.50000000e+07, 3.52969500e+07, 3.57142860e+07, 3.57600600e+07,\n",
       "       3.60162690e+07, 3.62595000e+07, 3.70009900e+07, 3.71428570e+07,\n",
       "       3.73712620e+07, 3.74247960e+07, 3.75000000e+07, 3.76000000e+07,\n",
       "       3.77442800e+07, 3.77656540e+07, 3.78491030e+07, 3.78787870e+07,\n",
       "       3.78891650e+07, 3.79436520e+07, 3.80000000e+07, 3.84400000e+07,\n",
       "       3.84615380e+07, 3.84667000e+07, 3.84768690e+07, 3.85000000e+07,\n",
       "       3.88582600e+07, 3.90000000e+07, 3.90579710e+07, 3.91292890e+07,\n",
       "       3.97000000e+07, 3.99900000e+07, 4.00000000e+07, 4.00151220e+07,\n",
       "       4.02650000e+07, 4.02877700e+07, 4.05000000e+07, 4.05741400e+07,\n",
       "       4.06008000e+07, 4.10000000e+07, 4.14978600e+07, 4.19989840e+07,\n",
       "       4.20000000e+07, 4.22525090e+07, 4.28600000e+07, 4.30000000e+07,\n",
       "       4.42865840e+07, 4.46000000e+07, 4.50066090e+07, 4.50450500e+07,\n",
       "       4.50500000e+07, 4.50745470e+07, 4.54832330e+07, 4.55386550e+07,\n",
       "       4.61538460e+07, 4.61538870e+07, 4.61540000e+07, 4.61600000e+07,\n",
       "       4.61954270e+07, 4.62000000e+07, 4.63000000e+07, 4.66573110e+07,\n",
       "       4.69237760e+07, 4.69411400e+07, 4.69688830e+07, 4.72000000e+07,\n",
       "       4.73280000e+07, 4.77340500e+07, 4.80000000e+07, 4.82380750e+07,\n",
       "       4.85714300e+07, 4.86611500e+07, 4.86808580e+07, 4.90714280e+07,\n",
       "       4.92804960e+07, 5.00000000e+07, 5.02187410e+07, 5.11967110e+07,\n",
       "       5.18500000e+07, 5.21246380e+07, 5.28600000e+07, 5.38462000e+07,\n",
       "       5.40000000e+07, 5.42096570e+07, 5.43032220e+07, 5.46875000e+07,\n",
       "       5.50000000e+07, 5.51950000e+07, 5.54049630e+07, 5.57294240e+07,\n",
       "       5.66935590e+07, 5.69095200e+07, 5.71667970e+07, 5.77670810e+07,\n",
       "       5.78743750e+07, 5.78760000e+07, 5.80784510e+07, 5.84473010e+07,\n",
       "       5.95607460e+07, 5.99374700e+07, 6.00000000e+07, 6.01503760e+07,\n",
       "       6.03735760e+07, 6.06685760e+07, 6.10000000e+07, 6.10114070e+07,\n",
       "       6.10700000e+07, 6.15714490e+07, 6.20000000e+07, 6.20446460e+07,\n",
       "       6.24157490e+07, 6.30000000e+07, 6.31700000e+07, 6.40300800e+07,\n",
       "       6.47929130e+07, 6.50000000e+07, 6.79427180e+07, 6.82942000e+07,\n",
       "       6.84906060e+07, 6.88092260e+07, 6.94287280e+07, 6.98830490e+07,\n",
       "       7.00000000e+07, 7.00864390e+07, 7.03050000e+07, 7.08761720e+07,\n",
       "       7.15176310e+07, 7.33795540e+07, 7.40719180e+07, 7.42751000e+07,\n",
       "       7.49100000e+07, 7.50000000e+07, 7.50001350e+07, 7.59409410e+07,\n",
       "       7.69130580e+07, 7.70000000e+07, 7.74017510e+07, 7.80963150e+07,\n",
       "       7.83551540e+07, 7.84222120e+07, 7.86865000e+07, 7.94119000e+07,\n",
       "       8.00000000e+07, 8.02732770e+07, 8.03241370e+07, 8.16124110e+07,\n",
       "       8.24968890e+07, 8.28004880e+07, 8.35534120e+07, 8.46670380e+07,\n",
       "       8.53840000e+07, 8.62100670e+07, 8.62363940e+07, 8.76491270e+07,\n",
       "       8.97823120e+07, 9.00000000e+07, 9.01200000e+07, 9.02767740e+07,\n",
       "       9.02780630e+07, 9.08227660e+07, 9.10000000e+07, 9.25000000e+07,\n",
       "       9.30000000e+07, 9.50000000e+07, 9.50655460e+07, 1.00274436e+08,\n",
       "       1.01463696e+08, 1.01659240e+08, 1.02760000e+08, 1.05445546e+08,\n",
       "       1.05721524e+08, 1.08518988e+08, 1.09020947e+08, 1.09609029e+08,\n",
       "       1.09814241e+08, 1.10000000e+08, 1.10464061e+08, 1.11736163e+08,\n",
       "       1.11812387e+08, 1.12000000e+08, 1.13837339e+08, 1.14510306e+08,\n",
       "       1.15000000e+08, 1.18000000e+08, 1.20000000e+08, 1.23714264e+08,\n",
       "       1.26932894e+08, 1.28570000e+08, 1.30000000e+08, 1.30619336e+08,\n",
       "       1.31000000e+08, 1.34000000e+08, 1.36230333e+08, 1.38325738e+08,\n",
       "       1.39357211e+08, 1.39551503e+08, 1.40005238e+08, 1.40025000e+08,\n",
       "       1.47866278e+08, 1.48585222e+08, 1.50000000e+08, 1.50008573e+08,\n",
       "       1.50147502e+08, 1.54245687e+08, 1.54989700e+08, 1.56360666e+08,\n",
       "       1.57236080e+08, 1.60000000e+08, 1.62630398e+08, 1.64780000e+08,\n",
       "       1.65222908e+08, 1.68271268e+08, 1.69000000e+08, 1.70122675e+08,\n",
       "       1.72763618e+08, 1.74381922e+08, 1.74464395e+08, 1.76023490e+08,\n",
       "       1.79257987e+08, 1.79708770e+08, 1.80000000e+08, 1.81302726e+08,\n",
       "       1.82659393e+08, 1.85500705e+08, 1.90000000e+08, 2.00067392e+08,\n",
       "       2.02484224e+08, 2.04400968e+08, 2.04674000e+08, 2.06982031e+08,\n",
       "       2.10405981e+08, 2.11810247e+08, 2.15162287e+08, 2.15860000e+08,\n",
       "       2.19398491e+08, 2.20588394e+08, 2.22177790e+08, 2.22513841e+08,\n",
       "       2.26271533e+08, 2.40041307e+08, 2.40153900e+08, 2.43122945e+08,\n",
       "       2.50000000e+08, 2.52489571e+08, 2.64578774e+08, 2.67288892e+08,\n",
       "       2.70000000e+08, 2.87802711e+08, 2.92412422e+08, 2.98500000e+08,\n",
       "       3.00000000e+08, 3.20000000e+08, 3.23232109e+08, 3.35567667e+08,\n",
       "       3.44905389e+08, 3.52477575e+08, 3.56550000e+08, 3.60000000e+08,\n",
       "       3.60054850e+08, 3.85000000e+08, 3.90191139e+08, 3.99075326e+08,\n",
       "       4.30000000e+08, 4.36437176e+08, 4.53704666e+08, 4.93733957e+08,\n",
       "       4.99826569e+08, 5.00000000e+08, 5.00012729e+08, 5.28441977e+08,\n",
       "       5.63784717e+08, 5.90192191e+08, 6.35283867e+08, 6.84200536e+08,\n",
       "       7.79941965e+08, 9.44000000e+08, 9.80000000e+08, 1.03290596e+09,\n",
       "       2.30507430e+09,            nan])"
      ]
     },
     "execution_count": 33,
     "metadata": {},
     "output_type": "execute_result"
    }
   ],
   "source": [
    "df['budget'] = df['budget'].replace(0, np.NaN)#в столбце budget произведем замену 0 на NaN\n",
    "df['budget'].sort_values().unique()"
   ]
  },
  {
   "cell_type": "markdown",
   "metadata": {},
   "source": [
    "***Вывод***\n",
    "\n",
    "С целью проведения дальнейшего исследования, заменили в столбце budget 0  на NaN."
   ]
  },
  {
   "cell_type": "markdown",
   "metadata": {
    "id": "Eu6oWp2CgFyS"
   },
   "source": [
    "#### Шаг 2.6. Добавьте новые столбцы\n",
    "\n",
    "\n",
    "\n"
   ]
  },
  {
   "cell_type": "markdown",
   "metadata": {
    "id": "7GgW-UpAgFyS"
   },
   "source": [
    "- Создайте столбец с информацией о годе проката. Выделите год из даты премьеры фильма."
   ]
  },
  {
   "cell_type": "code",
   "execution_count": 34,
   "metadata": {
    "id": "I-yd1DkWgFyT"
   },
   "outputs": [
    {
     "data": {
      "text/plain": [
       "0    2014\n",
       "1    2010\n",
       "2    2010\n",
       "3    2011\n",
       "4    2012\n",
       "Name: year, dtype: int64"
      ]
     },
     "execution_count": 34,
     "metadata": {},
     "output_type": "execute_result"
    }
   ],
   "source": [
    "df['year'] = df['show_start_date'].dt.year# Получим год\n",
    "df['year'].head()"
   ]
  },
  {
   "cell_type": "markdown",
   "metadata": {
    "id": "nFTDLDYOgFyT"
   },
   "source": [
    "- Создайте два столбца: с именем и фамилией главного режиссёра и основным жанром фильма. В столбцы войдут первые значения из списка режиссёров и жанров соответственно.\n",
    "\n",
    "<div id=\"accordion\">\n",
    "    <div class=\"card\">\n",
    "        <div class=\"card-header\" id=\"headingThree\">\n",
    "            <button class=\"btn btn-link collapsed\" data-toggle=\"collapse\" data-target=\"#collapseHint_2\" aria-expanded=\"false\" aria-controls=\"collapseHint_2\">Подсказка</button>\n",
    "        </div>\n",
    "        <div id=\"collapseHint_2\" class=\"collapse\" aria-labelledby=\"headingThree\" data-parent=\"#accordion\">\n",
    "            <div class=\"card-body\">\n",
    "Чтобы создать такие столбцы, лучше всего использовать собственную функцию. Эту функцию можно применить к двум столбцам сразу. \n",
    "            </div>\n",
    "        </div>\n",
    "    </div>\n",
    "</div>"
   ]
  },
  {
   "cell_type": "code",
   "execution_count": 35,
   "metadata": {
    "id": "LSbRZKbMgFyU"
   },
   "outputs": [
    {
     "data": {
      "text/html": [
       "<div>\n",
       "<style scoped>\n",
       "    .dataframe tbody tr th:only-of-type {\n",
       "        vertical-align: middle;\n",
       "    }\n",
       "\n",
       "    .dataframe tbody tr th {\n",
       "        vertical-align: top;\n",
       "    }\n",
       "\n",
       "    .dataframe thead th {\n",
       "        text-align: right;\n",
       "    }\n",
       "</style>\n",
       "<table border=\"1\" class=\"dataframe\">\n",
       "  <thead>\n",
       "    <tr style=\"text-align: right;\">\n",
       "      <th></th>\n",
       "      <th>index</th>\n",
       "      <th>title</th>\n",
       "      <th>pu_number</th>\n",
       "      <th>show_start_date</th>\n",
       "      <th>type</th>\n",
       "      <th>film_studio</th>\n",
       "      <th>production_country</th>\n",
       "      <th>director</th>\n",
       "      <th>producer</th>\n",
       "      <th>age_restriction</th>\n",
       "      <th>refundable_support</th>\n",
       "      <th>nonrefundable_support</th>\n",
       "      <th>budget</th>\n",
       "      <th>financing_source</th>\n",
       "      <th>ratings</th>\n",
       "      <th>genres</th>\n",
       "      <th>box_office</th>\n",
       "      <th>year</th>\n",
       "      <th>director_name</th>\n",
       "      <th>main_genres</th>\n",
       "    </tr>\n",
       "  </thead>\n",
       "  <tbody>\n",
       "    <tr>\n",
       "      <td>7484</td>\n",
       "      <td>1011</td>\n",
       "      <td>ТотКтоПрошелСквозьОгонь</td>\n",
       "      <td>231001012</td>\n",
       "      <td>2015-04-23</td>\n",
       "      <td>Художественный</td>\n",
       "      <td>Министерство культуры Украины, Государственное...</td>\n",
       "      <td>Украина</td>\n",
       "      <td>М.Ильенко</td>\n",
       "      <td>В.Филиппов</td>\n",
       "      <td>«16+» - для детей старше 16 лет</td>\n",
       "      <td>nan</td>\n",
       "      <td>nan</td>\n",
       "      <td>nan</td>\n",
       "      <td>NaN</td>\n",
       "      <td>7.200</td>\n",
       "      <td>драма,приключения,биография</td>\n",
       "      <td>nan</td>\n",
       "      <td>2015</td>\n",
       "      <td>М.Ильенко</td>\n",
       "      <td>драма</td>\n",
       "    </tr>\n",
       "    <tr>\n",
       "      <td>7485</td>\n",
       "      <td>5249</td>\n",
       "      <td>Мелодия для шарманки</td>\n",
       "      <td>231001111</td>\n",
       "      <td>2011-12-27</td>\n",
       "      <td>Художественный</td>\n",
       "      <td>Сота Синема Груп</td>\n",
       "      <td>Украина</td>\n",
       "      <td>Кира Муратова</td>\n",
       "      <td>Олег Кохан</td>\n",
       "      <td>«12+» - для детей старше 12 лет</td>\n",
       "      <td>nan</td>\n",
       "      <td>nan</td>\n",
       "      <td>nan</td>\n",
       "      <td>NaN</td>\n",
       "      <td>6.700</td>\n",
       "      <td>драма</td>\n",
       "      <td>nan</td>\n",
       "      <td>2011</td>\n",
       "      <td>Кира Муратова</td>\n",
       "      <td>драма</td>\n",
       "    </tr>\n",
       "  </tbody>\n",
       "</table>\n",
       "</div>"
      ],
      "text/plain": [
       "      index                    title  pu_number show_start_date  \\\n",
       "7484   1011  ТотКтоПрошелСквозьОгонь  231001012      2015-04-23   \n",
       "7485   5249     Мелодия для шарманки  231001111      2011-12-27   \n",
       "\n",
       "                type                                        film_studio  \\\n",
       "7484  Художественный  Министерство культуры Украины, Государственное...   \n",
       "7485  Художественный                                   Сота Синема Груп   \n",
       "\n",
       "     production_country       director    producer  \\\n",
       "7484            Украина      М.Ильенко  В.Филиппов   \n",
       "7485            Украина  Кира Муратова  Олег Кохан   \n",
       "\n",
       "                      age_restriction  refundable_support  \\\n",
       "7484  «16+» - для детей старше 16 лет                 nan   \n",
       "7485  «12+» - для детей старше 12 лет                 nan   \n",
       "\n",
       "      nonrefundable_support  budget financing_source  ratings  \\\n",
       "7484                    nan     nan              NaN    7.200   \n",
       "7485                    nan     nan              NaN    6.700   \n",
       "\n",
       "                           genres  box_office  year  director_name main_genres  \n",
       "7484  драма,приключения,биография         nan  2015      М.Ильенко       драма  \n",
       "7485                        драма         nan  2011  Кира Муратова       драма  "
      ]
     },
     "execution_count": 35,
     "metadata": {},
     "output_type": "execute_result"
    }
   ],
   "source": [
    "# Создадим функцию, в которую подаем строку, и возвращаем первые значения строки\n",
    "def head_first(string):\n",
    "    return str(string).split(',')[0]\n",
    "\n",
    "# применим функцию к столбцам director и genres\n",
    "df['director_name'] = df['director'].apply(head_first)\n",
    "df['main_genres'] = df['genres'].apply(head_first)\n",
    "df.tail(2)#выведем результат"
   ]
  },
  {
   "cell_type": "markdown",
   "metadata": {
    "id": "1FsCXHwdgFyU"
   },
   "source": [
    "- Посчитайте, какую долю от общего бюджета фильма составляет государственная поддержка."
   ]
  },
  {
   "cell_type": "code",
   "execution_count": 36,
   "metadata": {
    "id": "LV6qFuZLgFyV"
   },
   "outputs": [
    {
     "data": {
      "text/plain": [
       "7475   nan\n",
       "7476   nan\n",
       "7477   nan\n",
       "7478   nan\n",
       "7479   nan\n",
       "7480   nan\n",
       "7481   nan\n",
       "7482   nan\n",
       "7483   nan\n",
       "7484   nan\n",
       "7485   nan\n",
       "Name: state_support_ratio, dtype: float64"
      ]
     },
     "execution_count": 36,
     "metadata": {},
     "output_type": "execute_result"
    }
   ],
   "source": [
    "df['state_support_ratio'] = (df['nonrefundable_support']+df['refundable_support'])/df['budget']*100#создадим новый столбец, который отражает какую долю от общего бюджета фильма составляет государственная поддержка \n",
    "df['state_support_ratio'].tail(11)"
   ]
  },
  {
   "cell_type": "code",
   "execution_count": 37,
   "metadata": {},
   "outputs": [
    {
     "data": {
      "text/plain": [
       "51.73858197698939"
      ]
     },
     "execution_count": 37,
     "metadata": {},
     "output_type": "execute_result"
    }
   ],
   "source": [
    "df['state_support_ratio'].mean()"
   ]
  },
  {
   "cell_type": "markdown",
   "metadata": {},
   "source": [
    "***Вывод***\n",
    "\n",
    "Добавили новые столбцы:\n",
    "1. столбец state_support_ratio содержит информацию о том, какую долю от общего бюджета фильма составляет государственная поддержка.\n",
    "2. столбцы director_name и main_genres, с именем и фамилией главного режиссёра и основным жанром фильма. В столбцы вошли первые значения из списка режиссёров и жанров соответственно.\n",
    "\n",
    "Установлено. что гос. поддержка в среднем покрывает только часть бюджета."
   ]
  },
  {
   "cell_type": "markdown",
   "metadata": {
    "id": "6t4EukPLgFyV"
   },
   "source": [
    "### Шаг 3. Проведите исследовательский анализ данных\n"
   ]
  },
  {
   "cell_type": "markdown",
   "metadata": {
    "id": "vAH8WCzugFyV"
   },
   "source": [
    "- Посмотрите, сколько фильмов выходило в прокат каждый год. Обратите внимание, что данные о прокате в кинотеатрах известны не для всех фильмов. Посчитайте, какую долю составляют фильмы с указанной информацией о прокате в кинотеатрах."
   ]
  },
  {
   "cell_type": "code",
   "execution_count": 38,
   "metadata": {},
   "outputs": [
    {
     "data": {
      "image/png": "[encoded data removed]",
      "text/plain": [
       "<Figure size 432x288 with 1 Axes>"
      ]
     },
     "metadata": {
      "needs_background": "light"
     },
     "output_type": "display_data"
    },
    {
     "data": {
      "text/plain": [
       "year\n",
       "2010    101\n",
       "2011    109\n",
       "2012    123\n",
       "2013    179\n",
       "2014    273\n",
       "2015    462\n",
       "2016    525\n",
       "2017    357\n",
       "2018    475\n",
       "2019    530\n",
       "Name: title, dtype: int64"
      ]
     },
     "metadata": {},
     "output_type": "display_data"
    }
   ],
   "source": [
    "\n",
    "df.query('box_office > 0').groupby('year')['title'].count().plot()#построим график \n",
    "plt.title('Динамика количества фильмов по годам')#название графика\n",
    "plt.xlabel('год')#название оси абсцисс\n",
    "plt.ylabel('Количество фильмов')#название оси ординат\n",
    "plt.show()#выведем график\n",
    "display(df.query('box_office > 0').groupby('year')['title'].count())\n",
    "\n"
   ]
  },
  {
   "cell_type": "code",
   "execution_count": 39,
   "metadata": {},
   "outputs": [
    {
     "data": {
      "text/plain": [
       "41.86481432006412"
      ]
     },
     "execution_count": 39,
     "metadata": {},
     "output_type": "execute_result"
    }
   ],
   "source": [
    "film_rental = df.query('box_office > 0')#получим срез данных методом query() по фильмам, по которым известны данные о прокате\n",
    "(len(film_rental)/(len(df))*100)#посчитаем долю фильмов, по которым известные данные о прокате в кинотеатрах."
   ]
  },
  {
   "cell_type": "markdown",
   "metadata": {},
   "source": [
    "- Изучите, как менялась динамика проката по годам. "
   ]
  },
  {
   "cell_type": "code",
   "execution_count": 40,
   "metadata": {
    "scrolled": true
   },
   "outputs": [
    {
     "data": {
      "text/html": [
       "<div>\n",
       "<style scoped>\n",
       "    .dataframe tbody tr th:only-of-type {\n",
       "        vertical-align: middle;\n",
       "    }\n",
       "\n",
       "    .dataframe tbody tr th {\n",
       "        vertical-align: top;\n",
       "    }\n",
       "\n",
       "    .dataframe thead th {\n",
       "        text-align: right;\n",
       "    }\n",
       "</style>\n",
       "<table border=\"1\" class=\"dataframe\">\n",
       "  <thead>\n",
       "    <tr style=\"text-align: right;\">\n",
       "      <th></th>\n",
       "      <th>year</th>\n",
       "      <th>box_office</th>\n",
       "    </tr>\n",
       "  </thead>\n",
       "  <tbody>\n",
       "    <tr>\n",
       "      <td>0</td>\n",
       "      <td>2010</td>\n",
       "      <td>2,428,654.000</td>\n",
       "    </tr>\n",
       "    <tr>\n",
       "      <td>1</td>\n",
       "      <td>2011</td>\n",
       "      <td>14,102,765.000</td>\n",
       "    </tr>\n",
       "    <tr>\n",
       "      <td>2</td>\n",
       "      <td>2012</td>\n",
       "      <td>6,955,423.000</td>\n",
       "    </tr>\n",
       "    <tr>\n",
       "      <td>3</td>\n",
       "      <td>2013</td>\n",
       "      <td>29,799,706.200</td>\n",
       "    </tr>\n",
       "    <tr>\n",
       "      <td>4</td>\n",
       "      <td>2014</td>\n",
       "      <td>7,444,951,859.200</td>\n",
       "    </tr>\n",
       "    <tr>\n",
       "      <td>5</td>\n",
       "      <td>2015</td>\n",
       "      <td>39,497,365,196.400</td>\n",
       "    </tr>\n",
       "    <tr>\n",
       "      <td>6</td>\n",
       "      <td>2016</td>\n",
       "      <td>47,866,299,741.910</td>\n",
       "    </tr>\n",
       "    <tr>\n",
       "      <td>7</td>\n",
       "      <td>2017</td>\n",
       "      <td>48,563,707,217.510</td>\n",
       "    </tr>\n",
       "    <tr>\n",
       "      <td>8</td>\n",
       "      <td>2018</td>\n",
       "      <td>49,668,403,134.320</td>\n",
       "    </tr>\n",
       "    <tr>\n",
       "      <td>9</td>\n",
       "      <td>2019</td>\n",
       "      <td>48,425,708,779.590</td>\n",
       "    </tr>\n",
       "  </tbody>\n",
       "</table>\n",
       "</div>"
      ],
      "text/plain": [
       "   year         box_office\n",
       "0  2010      2,428,654.000\n",
       "1  2011     14,102,765.000\n",
       "2  2012      6,955,423.000\n",
       "3  2013     29,799,706.200\n",
       "4  2014  7,444,951,859.200\n",
       "5  2015 39,497,365,196.400\n",
       "6  2016 47,866,299,741.910\n",
       "7  2017 48,563,707,217.510\n",
       "8  2018 49,668,403,134.320\n",
       "9  2019 48,425,708,779.590"
      ]
     },
     "execution_count": 40,
     "metadata": {},
     "output_type": "execute_result"
    }
   ],
   "source": [
    "film_rental.groupby('year')['box_office'].sum().sort_index().reset_index()#сгруппируем данные по возрастанию по годам"
   ]
  },
  {
   "cell_type": "code",
   "execution_count": 41,
   "metadata": {},
   "outputs": [
    {
     "data": {
      "image/png": "[encoded data removed]",
      "text/plain": [
       "<Figure size 432x288 with 1 Axes>"
      ]
     },
     "metadata": {
      "needs_background": "light"
     },
     "output_type": "display_data"
    }
   ],
   "source": [
    "film_rental.groupby('year')['box_office'].sum().sort_index().reset_index().plot(x='year', y='box_office', grid = True)#построим график по сгруппированным данным \n",
    "plt.title('Динамика проката по годам')#название графика\n",
    "plt.xlabel('год')#название оси абсцисс\n",
    "plt.ylabel('Сумма проката, млн руб.')# название оси ординат\n",
    "plt.show()#выведем график "
   ]
  },
  {
   "cell_type": "code",
   "execution_count": 42,
   "metadata": {},
   "outputs": [
    {
     "data": {
      "image/png": "[encoded data removed]",
      "text/plain": [
       "<Figure size 432x288 with 1 Axes>"
      ]
     },
     "metadata": {
      "needs_background": "light"
     },
     "output_type": "display_data"
    }
   ],
   "source": [
    "table = film_rental.pivot_table(index='year', values = 'box_office', aggfunc=['sum'])\n",
    "\n",
    "table['sum'] = table['sum'].apply(np.log10)#применим функцию логарифма\n",
    "table.plot()#построим график нелинейного роста\n",
    "plt.title('Динамика проката по годам')#название графика\n",
    "plt.xlabel('год')#название оси абсцисс\n",
    "plt.ylabel('Сумма проката, 10**степень')#название оси ординат\n",
    "plt.show()#выведем график"
   ]
  },
  {
   "cell_type": "markdown",
   "metadata": {
    "id": "BEOdcIrIgFyW"
   },
   "source": [
    "В каком году сумма сборов была минимальной? А максимальной?"
   ]
  },
  {
   "cell_type": "code",
   "execution_count": 43,
   "metadata": {
    "id": "tfEhofYvgFyX"
   },
   "outputs": [
    {
     "data": {
      "text/html": [
       "<div>\n",
       "<style scoped>\n",
       "    .dataframe tbody tr th:only-of-type {\n",
       "        vertical-align: middle;\n",
       "    }\n",
       "\n",
       "    .dataframe tbody tr th {\n",
       "        vertical-align: top;\n",
       "    }\n",
       "\n",
       "    .dataframe thead th {\n",
       "        text-align: right;\n",
       "    }\n",
       "</style>\n",
       "<table border=\"1\" class=\"dataframe\">\n",
       "  <thead>\n",
       "    <tr style=\"text-align: right;\">\n",
       "      <th></th>\n",
       "      <th>year</th>\n",
       "      <th>box_office</th>\n",
       "    </tr>\n",
       "  </thead>\n",
       "  <tbody>\n",
       "    <tr>\n",
       "      <td>0</td>\n",
       "      <td>2010</td>\n",
       "      <td>2,428,654.000</td>\n",
       "    </tr>\n",
       "    <tr>\n",
       "      <td>1</td>\n",
       "      <td>2012</td>\n",
       "      <td>6,955,423.000</td>\n",
       "    </tr>\n",
       "    <tr>\n",
       "      <td>2</td>\n",
       "      <td>2011</td>\n",
       "      <td>14,102,765.000</td>\n",
       "    </tr>\n",
       "    <tr>\n",
       "      <td>3</td>\n",
       "      <td>2013</td>\n",
       "      <td>29,799,706.200</td>\n",
       "    </tr>\n",
       "    <tr>\n",
       "      <td>4</td>\n",
       "      <td>2014</td>\n",
       "      <td>7,444,951,859.200</td>\n",
       "    </tr>\n",
       "    <tr>\n",
       "      <td>5</td>\n",
       "      <td>2015</td>\n",
       "      <td>39,497,365,196.400</td>\n",
       "    </tr>\n",
       "    <tr>\n",
       "      <td>6</td>\n",
       "      <td>2016</td>\n",
       "      <td>47,866,299,741.910</td>\n",
       "    </tr>\n",
       "    <tr>\n",
       "      <td>7</td>\n",
       "      <td>2019</td>\n",
       "      <td>48,425,708,779.590</td>\n",
       "    </tr>\n",
       "    <tr>\n",
       "      <td>8</td>\n",
       "      <td>2017</td>\n",
       "      <td>48,563,707,217.510</td>\n",
       "    </tr>\n",
       "    <tr>\n",
       "      <td>9</td>\n",
       "      <td>2018</td>\n",
       "      <td>49,668,403,134.320</td>\n",
       "    </tr>\n",
       "  </tbody>\n",
       "</table>\n",
       "</div>"
      ],
      "text/plain": [
       "   year         box_office\n",
       "0  2010      2,428,654.000\n",
       "1  2012      6,955,423.000\n",
       "2  2011     14,102,765.000\n",
       "3  2013     29,799,706.200\n",
       "4  2014  7,444,951,859.200\n",
       "5  2015 39,497,365,196.400\n",
       "6  2016 47,866,299,741.910\n",
       "7  2019 48,425,708,779.590\n",
       "8  2017 48,563,707,217.510\n",
       "9  2018 49,668,403,134.320"
      ]
     },
     "execution_count": 43,
     "metadata": {},
     "output_type": "execute_result"
    }
   ],
   "source": [
    "film_rental.groupby('year')['box_office'].sum().sort_values().reset_index()#сгруппируем данные по возрастанию по сумме сбора"
   ]
  },
  {
   "cell_type": "markdown",
   "metadata": {},
   "source": [
    "Максимальная сумма сборов была в 2018 году и составила 49,668,403,134.320 руб., минимальная сумма сборов была в 2010 году и составила 2,428,654.000 рублей."
   ]
  },
  {
   "cell_type": "markdown",
   "metadata": {
    "id": "G-7qS-N-gFyY"
   },
   "source": [
    "- С помощью сводной таблицы посчитайте среднюю и медианную сумму сборов для каждого года."
   ]
  },
  {
   "cell_type": "code",
   "execution_count": 44,
   "metadata": {
    "id": "jmp-rgg9gFyY"
   },
   "outputs": [
    {
     "data": {
      "text/html": [
       "<div>\n",
       "<style scoped>\n",
       "    .dataframe tbody tr th:only-of-type {\n",
       "        vertical-align: middle;\n",
       "    }\n",
       "\n",
       "    .dataframe tbody tr th {\n",
       "        vertical-align: top;\n",
       "    }\n",
       "\n",
       "    .dataframe thead tr th {\n",
       "        text-align: left;\n",
       "    }\n",
       "\n",
       "    .dataframe thead tr:last-of-type th {\n",
       "        text-align: right;\n",
       "    }\n",
       "</style>\n",
       "<table border=\"1\" class=\"dataframe\">\n",
       "  <thead>\n",
       "    <tr>\n",
       "      <th></th>\n",
       "      <th>mean</th>\n",
       "      <th>median</th>\n",
       "    </tr>\n",
       "    <tr>\n",
       "      <th></th>\n",
       "      <th>box_office</th>\n",
       "      <th>box_office</th>\n",
       "    </tr>\n",
       "    <tr>\n",
       "      <th>year</th>\n",
       "      <th></th>\n",
       "      <th></th>\n",
       "    </tr>\n",
       "  </thead>\n",
       "  <tbody>\n",
       "    <tr>\n",
       "      <td>2010</td>\n",
       "      <td>24,046.079</td>\n",
       "      <td>1,710.000</td>\n",
       "    </tr>\n",
       "    <tr>\n",
       "      <td>2011</td>\n",
       "      <td>129,383.165</td>\n",
       "      <td>3,000.000</td>\n",
       "    </tr>\n",
       "    <tr>\n",
       "      <td>2012</td>\n",
       "      <td>56,548.154</td>\n",
       "      <td>6,220.000</td>\n",
       "    </tr>\n",
       "    <tr>\n",
       "      <td>2013</td>\n",
       "      <td>166,478.806</td>\n",
       "      <td>3,580.000</td>\n",
       "    </tr>\n",
       "    <tr>\n",
       "      <td>2014</td>\n",
       "      <td>27,270,885.931</td>\n",
       "      <td>20,400.000</td>\n",
       "    </tr>\n",
       "    <tr>\n",
       "      <td>2015</td>\n",
       "      <td>85,492,132.460</td>\n",
       "      <td>5,003,450.150</td>\n",
       "    </tr>\n",
       "    <tr>\n",
       "      <td>2016</td>\n",
       "      <td>91,173,904.270</td>\n",
       "      <td>3,915,041.020</td>\n",
       "    </tr>\n",
       "    <tr>\n",
       "      <td>2017</td>\n",
       "      <td>136,032,793.326</td>\n",
       "      <td>9,968,340.000</td>\n",
       "    </tr>\n",
       "    <tr>\n",
       "      <td>2018</td>\n",
       "      <td>104,565,059.230</td>\n",
       "      <td>8,891,102.210</td>\n",
       "    </tr>\n",
       "    <tr>\n",
       "      <td>2019</td>\n",
       "      <td>91,369,261.848</td>\n",
       "      <td>4,627,798.345</td>\n",
       "    </tr>\n",
       "  </tbody>\n",
       "</table>\n",
       "</div>"
      ],
      "text/plain": [
       "                mean        median\n",
       "          box_office    box_office\n",
       "year                              \n",
       "2010      24,046.079     1,710.000\n",
       "2011     129,383.165     3,000.000\n",
       "2012      56,548.154     6,220.000\n",
       "2013     166,478.806     3,580.000\n",
       "2014  27,270,885.931    20,400.000\n",
       "2015  85,492,132.460 5,003,450.150\n",
       "2016  91,173,904.270 3,915,041.020\n",
       "2017 136,032,793.326 9,968,340.000\n",
       "2018 104,565,059.230 8,891,102.210\n",
       "2019  91,369,261.848 4,627,798.345"
      ]
     },
     "execution_count": 44,
     "metadata": {},
     "output_type": "execute_result"
    }
   ],
   "source": [
    "film_rental.pivot_table(index='year', values = 'box_office', aggfunc=['mean', 'median'])# Cормируем сводную таблицу с медианным и средним зачением для каждого года."
   ]
  },
  {
   "cell_type": "markdown",
   "metadata": {},
   "source": [
    "Как вдино из таблицы выше, минимальные средняя и медианные значения приходились на 2010 год и составили 24,046.079\tи 1,710.000 соответственно. Максимальные средняя и медианные значения приходились на 2017 год и составили 136,032,793.326 и\t9,968,340.000 соответственно.\n",
    "\n",
    "Большие различия между медианой и средним значением заключаются в том, что медианные значения это значение, справа и слева от которого находится равное число наблюдений. А среднее это средние сборы между сборами у самых кассовых фильмов и у фильмов с небольшими сборами."
   ]
  },
  {
   "cell_type": "code",
   "execution_count": 45,
   "metadata": {},
   "outputs": [
    {
     "data": {
      "text/html": [
       "<div>\n",
       "<style scoped>\n",
       "    .dataframe tbody tr th:only-of-type {\n",
       "        vertical-align: middle;\n",
       "    }\n",
       "\n",
       "    .dataframe tbody tr th {\n",
       "        vertical-align: top;\n",
       "    }\n",
       "\n",
       "    .dataframe thead th {\n",
       "        text-align: right;\n",
       "    }\n",
       "</style>\n",
       "<table border=\"1\" class=\"dataframe\">\n",
       "  <thead>\n",
       "    <tr style=\"text-align: right;\">\n",
       "      <th></th>\n",
       "      <th>index</th>\n",
       "      <th>title</th>\n",
       "      <th>pu_number</th>\n",
       "      <th>show_start_date</th>\n",
       "      <th>type</th>\n",
       "      <th>film_studio</th>\n",
       "      <th>production_country</th>\n",
       "      <th>director</th>\n",
       "      <th>producer</th>\n",
       "      <th>age_restriction</th>\n",
       "      <th>...</th>\n",
       "      <th>nonrefundable_support</th>\n",
       "      <th>budget</th>\n",
       "      <th>financing_source</th>\n",
       "      <th>ratings</th>\n",
       "      <th>genres</th>\n",
       "      <th>box_office</th>\n",
       "      <th>year</th>\n",
       "      <th>director_name</th>\n",
       "      <th>main_genres</th>\n",
       "      <th>state_support_ratio</th>\n",
       "    </tr>\n",
       "  </thead>\n",
       "  <tbody>\n",
       "    <tr>\n",
       "      <td>7</td>\n",
       "      <td>2397</td>\n",
       "      <td>Небесный верблюд</td>\n",
       "      <td>111000115</td>\n",
       "      <td>2015-01-14</td>\n",
       "      <td>Художественный</td>\n",
       "      <td>ООО Продюсерский центр \"Всё хорошо\"</td>\n",
       "      <td>Россия</td>\n",
       "      <td>Ю.Фетинг</td>\n",
       "      <td>И.Плиско</td>\n",
       "      <td>«0+» - для любой зрительской аудитории</td>\n",
       "      <td>...</td>\n",
       "      <td>34,000,000.000</td>\n",
       "      <td>49,280,496.000</td>\n",
       "      <td>Министерство культуры</td>\n",
       "      <td>6.700</td>\n",
       "      <td>детский,семейный</td>\n",
       "      <td>61,040.000</td>\n",
       "      <td>2015</td>\n",
       "      <td>Ю.Фетинг</td>\n",
       "      <td>детский</td>\n",
       "      <td>68.993</td>\n",
       "    </tr>\n",
       "    <tr>\n",
       "      <td>8</td>\n",
       "      <td>3136</td>\n",
       "      <td>Статус: \"Свободен\"</td>\n",
       "      <td>111000116</td>\n",
       "      <td>2016-01-13</td>\n",
       "      <td>Художественный</td>\n",
       "      <td>ООО \"Кинодом\"</td>\n",
       "      <td>Россия</td>\n",
       "      <td>П.Руминов</td>\n",
       "      <td>С.Ливнев, Д.Козловский, С.Бобза</td>\n",
       "      <td>«16+» - для детей старше 16 лет</td>\n",
       "      <td>...</td>\n",
       "      <td>20,000,000.000</td>\n",
       "      <td>78,686,500.000</td>\n",
       "      <td>Фонд кино</td>\n",
       "      <td>5.800</td>\n",
       "      <td>комедия,мелодрама</td>\n",
       "      <td>153,030,013.400</td>\n",
       "      <td>2016</td>\n",
       "      <td>П.Руминов</td>\n",
       "      <td>комедия</td>\n",
       "      <td>50.835</td>\n",
       "    </tr>\n",
       "  </tbody>\n",
       "</table>\n",
       "<p>2 rows × 21 columns</p>\n",
       "</div>"
      ],
      "text/plain": [
       "   index               title  pu_number show_start_date            type  \\\n",
       "7   2397    Небесный верблюд  111000115      2015-01-14  Художественный   \n",
       "8   3136  Статус: \"Свободен\"  111000116      2016-01-13  Художественный   \n",
       "\n",
       "                           film_studio production_country   director  \\\n",
       "7  ООО Продюсерский центр \"Всё хорошо\"             Россия   Ю.Фетинг   \n",
       "8                        ООО \"Кинодом\"             Россия  П.Руминов   \n",
       "\n",
       "                          producer                         age_restriction  \\\n",
       "7                         И.Плиско  «0+» - для любой зрительской аудитории   \n",
       "8  С.Ливнев, Д.Козловский, С.Бобза         «16+» - для детей старше 16 лет   \n",
       "\n",
       "   ...  nonrefundable_support         budget       financing_source ratings  \\\n",
       "7  ...         34,000,000.000 49,280,496.000  Министерство культуры   6.700   \n",
       "8  ...         20,000,000.000 78,686,500.000              Фонд кино   5.800   \n",
       "\n",
       "              genres      box_office  year  director_name main_genres  \\\n",
       "7   детский,семейный      61,040.000  2015       Ю.Фетинг     детский   \n",
       "8  комедия,мелодрама 153,030,013.400  2016      П.Руминов     комедия   \n",
       "\n",
       "  state_support_ratio  \n",
       "7              68.993  \n",
       "8              50.835  \n",
       "\n",
       "[2 rows x 21 columns]"
      ]
     },
     "execution_count": 45,
     "metadata": {},
     "output_type": "execute_result"
    }
   ],
   "source": [
    "film_rental_year = film_rental.query('year>=2015')#сделаем срез данных за период с 2015 года\n",
    "film_rental_year.head(2)#выведем данные на экран"
   ]
  },
  {
   "cell_type": "code",
   "execution_count": 46,
   "metadata": {},
   "outputs": [
    {
     "data": {
      "text/plain": [
       "2349"
      ]
     },
     "execution_count": 46,
     "metadata": {},
     "output_type": "execute_result"
    }
   ],
   "source": [
    "(len(film_rental_year))#посчитаем количество фильмов за период с 2015 по 2019"
   ]
  },
  {
   "cell_type": "code",
   "execution_count": 47,
   "metadata": {},
   "outputs": [
    {
     "data": {
      "text/plain": [
       "age_restriction\n",
       "«0+» - для любой зрительской аудитории     90\n",
       "«12+» - для детей старше 12 лет           347\n",
       "«16+» - для детей старше 16 лет           803\n",
       "«18+» - запрещено для детей               792\n",
       "«6+» - для детей старше 6 лет             317\n",
       "Name: age_restriction, dtype: int64"
      ]
     },
     "execution_count": 47,
     "metadata": {},
     "output_type": "execute_result"
    }
   ],
   "source": [
    "film_rental_year.groupby('age_restriction')['age_restriction'].count()#посчитаем количество фильмов для каждой возрастной категории"
   ]
  },
  {
   "cell_type": "code",
   "execution_count": 48,
   "metadata": {
    "id": "jsSbEqfjgFya",
    "scrolled": true
   },
   "outputs": [
    {
     "data": {
      "text/html": [
       "<div>\n",
       "<style scoped>\n",
       "    .dataframe tbody tr th:only-of-type {\n",
       "        vertical-align: middle;\n",
       "    }\n",
       "\n",
       "    .dataframe tbody tr th {\n",
       "        vertical-align: top;\n",
       "    }\n",
       "\n",
       "    .dataframe thead tr th {\n",
       "        text-align: left;\n",
       "    }\n",
       "</style>\n",
       "<table border=\"1\" class=\"dataframe\">\n",
       "  <thead>\n",
       "    <tr>\n",
       "      <th></th>\n",
       "      <th>year</th>\n",
       "      <th>age</th>\n",
       "      <th>box_office</th>\n",
       "    </tr>\n",
       "    <tr>\n",
       "      <th></th>\n",
       "      <th></th>\n",
       "      <th></th>\n",
       "      <th></th>\n",
       "    </tr>\n",
       "  </thead>\n",
       "  <tbody>\n",
       "    <tr>\n",
       "      <td>23</td>\n",
       "      <td>2019</td>\n",
       "      <td>18</td>\n",
       "      <td>10,121,796,303.640</td>\n",
       "    </tr>\n",
       "    <tr>\n",
       "      <td>22</td>\n",
       "      <td>2019</td>\n",
       "      <td>16</td>\n",
       "      <td>12,753,418,984.600</td>\n",
       "    </tr>\n",
       "    <tr>\n",
       "      <td>21</td>\n",
       "      <td>2019</td>\n",
       "      <td>12</td>\n",
       "      <td>12,680,198,773.670</td>\n",
       "    </tr>\n",
       "    <tr>\n",
       "      <td>24</td>\n",
       "      <td>2019</td>\n",
       "      <td>6</td>\n",
       "      <td>12,852,548,650.860</td>\n",
       "    </tr>\n",
       "    <tr>\n",
       "      <td>20</td>\n",
       "      <td>2019</td>\n",
       "      <td>0</td>\n",
       "      <td>17,746,066.820</td>\n",
       "    </tr>\n",
       "    <tr>\n",
       "      <td>18</td>\n",
       "      <td>2018</td>\n",
       "      <td>18</td>\n",
       "      <td>8,760,085,501.150</td>\n",
       "    </tr>\n",
       "    <tr>\n",
       "      <td>17</td>\n",
       "      <td>2018</td>\n",
       "      <td>16</td>\n",
       "      <td>16,503,602,346.960</td>\n",
       "    </tr>\n",
       "    <tr>\n",
       "      <td>16</td>\n",
       "      <td>2018</td>\n",
       "      <td>12</td>\n",
       "      <td>14,267,291,660.690</td>\n",
       "    </tr>\n",
       "    <tr>\n",
       "      <td>19</td>\n",
       "      <td>2018</td>\n",
       "      <td>6</td>\n",
       "      <td>10,104,974,623.410</td>\n",
       "    </tr>\n",
       "    <tr>\n",
       "      <td>15</td>\n",
       "      <td>2018</td>\n",
       "      <td>0</td>\n",
       "      <td>32,449,002.110</td>\n",
       "    </tr>\n",
       "    <tr>\n",
       "      <td>13</td>\n",
       "      <td>2017</td>\n",
       "      <td>18</td>\n",
       "      <td>9,651,495,581.020</td>\n",
       "    </tr>\n",
       "    <tr>\n",
       "      <td>12</td>\n",
       "      <td>2017</td>\n",
       "      <td>16</td>\n",
       "      <td>18,745,042,900.060</td>\n",
       "    </tr>\n",
       "    <tr>\n",
       "      <td>11</td>\n",
       "      <td>2017</td>\n",
       "      <td>12</td>\n",
       "      <td>7,851,427,660.670</td>\n",
       "    </tr>\n",
       "    <tr>\n",
       "      <td>14</td>\n",
       "      <td>2017</td>\n",
       "      <td>6</td>\n",
       "      <td>12,086,142,145.760</td>\n",
       "    </tr>\n",
       "    <tr>\n",
       "      <td>10</td>\n",
       "      <td>2017</td>\n",
       "      <td>0</td>\n",
       "      <td>229,598,930.000</td>\n",
       "    </tr>\n",
       "    <tr>\n",
       "      <td>8</td>\n",
       "      <td>2016</td>\n",
       "      <td>18</td>\n",
       "      <td>6,793,929,818.870</td>\n",
       "    </tr>\n",
       "    <tr>\n",
       "      <td>7</td>\n",
       "      <td>2016</td>\n",
       "      <td>16</td>\n",
       "      <td>16,664,548,541.740</td>\n",
       "    </tr>\n",
       "    <tr>\n",
       "      <td>6</td>\n",
       "      <td>2016</td>\n",
       "      <td>12</td>\n",
       "      <td>12,204,446,524.390</td>\n",
       "    </tr>\n",
       "    <tr>\n",
       "      <td>9</td>\n",
       "      <td>2016</td>\n",
       "      <td>6</td>\n",
       "      <td>12,053,146,008.240</td>\n",
       "    </tr>\n",
       "    <tr>\n",
       "      <td>5</td>\n",
       "      <td>2016</td>\n",
       "      <td>0</td>\n",
       "      <td>150,228,848.670</td>\n",
       "    </tr>\n",
       "    <tr>\n",
       "      <td>3</td>\n",
       "      <td>2015</td>\n",
       "      <td>18</td>\n",
       "      <td>5,432,308,367.440</td>\n",
       "    </tr>\n",
       "    <tr>\n",
       "      <td>2</td>\n",
       "      <td>2015</td>\n",
       "      <td>16</td>\n",
       "      <td>11,368,120,870.270</td>\n",
       "    </tr>\n",
       "    <tr>\n",
       "      <td>1</td>\n",
       "      <td>2015</td>\n",
       "      <td>12</td>\n",
       "      <td>13,616,082,008.910</td>\n",
       "    </tr>\n",
       "    <tr>\n",
       "      <td>4</td>\n",
       "      <td>2015</td>\n",
       "      <td>6</td>\n",
       "      <td>8,701,799,371.410</td>\n",
       "    </tr>\n",
       "    <tr>\n",
       "      <td>0</td>\n",
       "      <td>2015</td>\n",
       "      <td>0</td>\n",
       "      <td>379,054,578.370</td>\n",
       "    </tr>\n",
       "  </tbody>\n",
       "</table>\n",
       "</div>"
      ],
      "text/plain": [
       "    year age         box_office\n",
       "                               \n",
       "23  2019  18 10,121,796,303.640\n",
       "22  2019  16 12,753,418,984.600\n",
       "21  2019  12 12,680,198,773.670\n",
       "24  2019   6 12,852,548,650.860\n",
       "20  2019   0     17,746,066.820\n",
       "18  2018  18  8,760,085,501.150\n",
       "17  2018  16 16,503,602,346.960\n",
       "16  2018  12 14,267,291,660.690\n",
       "19  2018   6 10,104,974,623.410\n",
       "15  2018   0     32,449,002.110\n",
       "13  2017  18  9,651,495,581.020\n",
       "12  2017  16 18,745,042,900.060\n",
       "11  2017  12  7,851,427,660.670\n",
       "14  2017   6 12,086,142,145.760\n",
       "10  2017   0    229,598,930.000\n",
       "8   2016  18  6,793,929,818.870\n",
       "7   2016  16 16,664,548,541.740\n",
       "6   2016  12 12,204,446,524.390\n",
       "9   2016   6 12,053,146,008.240\n",
       "5   2016   0    150,228,848.670\n",
       "3   2015  18  5,432,308,367.440\n",
       "2   2015  16 11,368,120,870.270\n",
       "1   2015  12 13,616,082,008.910\n",
       "4   2015   6  8,701,799,371.410\n",
       "0   2015   0    379,054,578.370"
      ]
     },
     "execution_count": 48,
     "metadata": {},
     "output_type": "execute_result"
    }
   ],
   "source": [
    "age_influence = film_rental_year.pivot_table(index=['year', 'age_restriction'], values = 'box_office', aggfunc=['sum'])#создадим сводную таблицу с данными о сумме сборов, сгруппированные по годам и по возрасту пользователей\n",
    "age_influence['box_office'] = age_influence['sum']['box_office']\n",
    "age_influence = age_influence[['box_office']].reset_index()\n",
    "# создадим функцию, которая добавит в новый список возраст для наглядности \n",
    "list = []\n",
    "for i in range(len(age_influence)):\n",
    "    s = age_influence['age_restriction'][i]\n",
    "    if '12' in s:\n",
    "        list.append(12)\n",
    "    elif '16' in s:\n",
    "        list.append(16)\n",
    "    elif '18' in s:\n",
    "        list.append(18)\n",
    "    elif '6' in s:\n",
    "        list.append(6)\n",
    "    else:\n",
    "        list.append(0)\n",
    "        \n",
    "age_influence['age'] = list#в столбец age добавим значения созданного из функции списка\n",
    "age_influence = age_influence[['year', 'age', 'box_office']]#создадим таблицу\n",
    "age_influence = age_influence.sort_values(by=['year', 'age'], ascending = False)#отсортируем по возрасту\n",
    "age_influence#выведем на экран получившуюся таблицу\n"
   ]
  },
  {
   "cell_type": "code",
   "execution_count": 49,
   "metadata": {
    "scrolled": true
   },
   "outputs": [
    {
     "data": {
      "text/html": [
       "<div>\n",
       "<style scoped>\n",
       "    .dataframe tbody tr th:only-of-type {\n",
       "        vertical-align: middle;\n",
       "    }\n",
       "\n",
       "    .dataframe tbody tr th {\n",
       "        vertical-align: top;\n",
       "    }\n",
       "\n",
       "    .dataframe thead tr th {\n",
       "        text-align: left;\n",
       "    }\n",
       "</style>\n",
       "<table border=\"1\" class=\"dataframe\">\n",
       "  <thead>\n",
       "    <tr>\n",
       "      <th></th>\n",
       "      <th>year</th>\n",
       "      <th>box_office</th>\n",
       "      <th>age</th>\n",
       "    </tr>\n",
       "    <tr>\n",
       "      <th></th>\n",
       "      <th></th>\n",
       "      <th></th>\n",
       "      <th></th>\n",
       "    </tr>\n",
       "  </thead>\n",
       "  <tbody>\n",
       "    <tr>\n",
       "      <td>1</td>\n",
       "      <td>2015</td>\n",
       "      <td>13,616,082,008.910</td>\n",
       "      <td>12</td>\n",
       "    </tr>\n",
       "    <tr>\n",
       "      <td>7</td>\n",
       "      <td>2016</td>\n",
       "      <td>16,664,548,541.740</td>\n",
       "      <td>16</td>\n",
       "    </tr>\n",
       "    <tr>\n",
       "      <td>12</td>\n",
       "      <td>2017</td>\n",
       "      <td>18,745,042,900.060</td>\n",
       "      <td>16</td>\n",
       "    </tr>\n",
       "    <tr>\n",
       "      <td>17</td>\n",
       "      <td>2018</td>\n",
       "      <td>16,503,602,346.960</td>\n",
       "      <td>16</td>\n",
       "    </tr>\n",
       "    <tr>\n",
       "      <td>24</td>\n",
       "      <td>2019</td>\n",
       "      <td>12,852,548,650.860</td>\n",
       "      <td>6</td>\n",
       "    </tr>\n",
       "  </tbody>\n",
       "</table>\n",
       "</div>"
      ],
      "text/plain": [
       "    year         box_office age\n",
       "                               \n",
       "1   2015 13,616,082,008.910  12\n",
       "7   2016 16,664,548,541.740  16\n",
       "12  2017 18,745,042,900.060  16\n",
       "17  2018 16,503,602,346.960  16\n",
       "24  2019 12,852,548,650.860   6"
      ]
     },
     "execution_count": 49,
     "metadata": {},
     "output_type": "execute_result"
    }
   ],
   "source": [
    "box_max_by_age = age_influence\n",
    "box_max_by_age['max_box'] = box_max_by_age.groupby('year')['box_office'].transform(max)#сгруппируем, по годам, используя только максимумы для каждого года\n",
    "box_max_by_age = box_max_by_age[box_max_by_age['box_office'] == box_max_by_age['max_box']][['year', 'box_office', 'age']]#проведем логическую индексацию\n",
    "box_max_by_age.sort_values(by='year')#отсортируем по годам по возрастанию"
   ]
  },
  {
   "cell_type": "code",
   "execution_count": 50,
   "metadata": {
    "scrolled": true
   },
   "outputs": [
    {
     "data": {
      "image/png": "[encoded data removed]",
      "text/plain": [
       "<Figure size 720x360 with 1 Axes>"
      ]
     },
     "metadata": {
      "needs_background": "light"
     },
     "output_type": "display_data"
    }
   ],
   "source": [
    "import matplotlib.pyplot as plt\n",
    "film_rental_year.pivot_table(index='year', columns=['age_restriction'], values=['box_office'], aggfunc='sum').plot(y = 'box_office', figsize=(10,5))\n",
    "# table = age_influence.pivot_table(index='')\n",
    "plt.title('Сборы в зависимости от возраста по годам')#название графика\n",
    "plt.xlabel('год')#название оси абсцисс\n",
    "plt.ylabel('Сборы')#название оси ординат\n",
    "plt.legend()\n",
    "plt.show()#выведем график\n"
   ]
  },
  {
   "cell_type": "markdown",
   "metadata": {},
   "source": [
    "# ***ВЫВОД***\n",
    "\n",
    "1) При изучении вопроса о том, сколько фильмов выходило в прокат каждый год установлено. что меньше всего фильмов вышло в прокат в 2010 году и составило 101 фильм. Больше всего фильмов вышло в прокат в 2019 году и составило 530 фильмов.\n",
    "2) Данные о прокате в кинотеатрах известны не для всех фильмов. Доля, которую составляют фильмы с информацией о прокате в кинотеатрах составляет 41.86%.\n",
    "3) При изучении изменения динамики проката по годам установлено, что в период с 2012 по 2018 сумма сборов возрастала, а в 2019 снизилась. В период с 2011 по 2012 сумма сборов снизиласть в 2 раза. Установлено, что сумма сборов была минимальной в 2010 году и составила 2,428,654.000, и максимальной в 2018 году и составила 49,668,403,134.320.\n",
    "\n",
    "4) С помощью сводной таблицы посчитали среднюю и медианную сумму сборов для каждого года. Минимальные средняя и медианные значения приходились на 2010 год и составили 24,046.079\tи 1,710.000 соответственно. Максимальные средняя и медианные значения приходились на 2017 год и составили 136,032,793.326 и\t9,968,340.000 соответственно.\n",
    "\n",
    "Кроме того установлено, что фильмы с  возрастным ограничением «16+» в период с 2016 по 2018 собрали больше всего денег в прокате.\n"
   ]
  },
  {
   "cell_type": "markdown",
   "metadata": {
    "id": "l_Kg6Ku4gFya"
   },
   "source": [
    "### Шаг 4. Исследуйте фильмы, которые получили государственную поддержку\n",
    "\n",
    "На этом этапе нет конкретных инструкций и заданий — поищите интересные закономерности в данных. Посмотрите, сколько выделяют средств на поддержку кино. Проверьте, хорошо ли окупаются такие фильмы, какой у них рейтинг."
   ]
  },
  {
   "cell_type": "code",
   "execution_count": 51,
   "metadata": {},
   "outputs": [
    {
     "data": {
      "text/html": [
       "<div>\n",
       "<style scoped>\n",
       "    .dataframe tbody tr th:only-of-type {\n",
       "        vertical-align: middle;\n",
       "    }\n",
       "\n",
       "    .dataframe tbody tr th {\n",
       "        vertical-align: top;\n",
       "    }\n",
       "\n",
       "    .dataframe thead th {\n",
       "        text-align: right;\n",
       "    }\n",
       "</style>\n",
       "<table border=\"1\" class=\"dataframe\">\n",
       "  <thead>\n",
       "    <tr style=\"text-align: right;\">\n",
       "      <th></th>\n",
       "      <th>Гос. поддержка</th>\n",
       "      <th>Бюджет фильма</th>\n",
       "      <th>%</th>\n",
       "    </tr>\n",
       "  </thead>\n",
       "  <tbody>\n",
       "    <tr>\n",
       "      <td>0</td>\n",
       "      <td>20,200,688,312.000</td>\n",
       "      <td>42,240,265,939.000</td>\n",
       "      <td>48.0%</td>\n",
       "    </tr>\n",
       "  </tbody>\n",
       "</table>\n",
       "</div>"
      ],
      "text/plain": [
       "      Гос. поддержка      Бюджет фильма      %\n",
       "0 20,200,688,312.000 42,240,265,939.000  48.0%"
      ]
     },
     "execution_count": 51,
     "metadata": {},
     "output_type": "execute_result"
    }
   ],
   "source": [
    "# создадим таблицу с суммой гос.поддержки, бюджетом фильма и % господдержки от бюджета фильма\n",
    "budget_sum =df['budget'].sum()\n",
    "df['support'] = df['refundable_support']+df['nonrefundable_support']\n",
    "df_support = df['refundable_support'].sum()+df['nonrefundable_support'].sum()\n",
    "pd.DataFrame({\"Гос. поддержка\": [df_support], \"Бюджет фильма\":[budget_sum], \"%\":['{}%'.format(round(df_support / budget_sum * 100, 0))]})"
   ]
  },
  {
   "cell_type": "code",
   "execution_count": 52,
   "metadata": {},
   "outputs": [
    {
     "data": {
      "text/plain": [
       "318"
      ]
     },
     "execution_count": 52,
     "metadata": {},
     "output_type": "execute_result"
    }
   ],
   "source": [
    "table = film_rental.query('refundable_support == refundable_support')\n",
    "len(table)#посчитаем количество строк\n"
   ]
  },
  {
   "cell_type": "code",
   "execution_count": 53,
   "metadata": {},
   "outputs": [
    {
     "data": {
      "text/html": [
       "<div>\n",
       "<style scoped>\n",
       "    .dataframe tbody tr th:only-of-type {\n",
       "        vertical-align: middle;\n",
       "    }\n",
       "\n",
       "    .dataframe tbody tr th {\n",
       "        vertical-align: top;\n",
       "    }\n",
       "\n",
       "    .dataframe thead th {\n",
       "        text-align: right;\n",
       "    }\n",
       "</style>\n",
       "<table border=\"1\" class=\"dataframe\">\n",
       "  <thead>\n",
       "    <tr style=\"text-align: right;\">\n",
       "      <th></th>\n",
       "      <th>Сборы</th>\n",
       "      <th>Гос. поддержка</th>\n",
       "      <th>Бюджет фильма</th>\n",
       "      <th>Окупаемость</th>\n",
       "    </tr>\n",
       "  </thead>\n",
       "  <tbody>\n",
       "    <tr>\n",
       "      <td>0</td>\n",
       "      <td>42,113,509,574.780</td>\n",
       "      <td>20,200,688,312.000</td>\n",
       "      <td>42,240,265,939.000</td>\n",
       "      <td>100.0%</td>\n",
       "    </tr>\n",
       "  </tbody>\n",
       "</table>\n",
       "</div>"
      ],
      "text/plain": [
       "               Сборы     Гос. поддержка      Бюджет фильма Окупаемость\n",
       "0 42,113,509,574.780 20,200,688,312.000 42,240,265,939.000      100.0%"
      ]
     },
     "execution_count": 53,
     "metadata": {},
     "output_type": "execute_result"
    }
   ],
   "source": [
    "#создадим таблицу с суммой гос.поддержки, суммой сборов и окупаемостью фильма\n",
    "box_office = table['box_office'].sum()\n",
    "pd.DataFrame({\"Сборы\":[box_office],'Гос. поддержка':[df_support],'Бюджет фильма':[budget_sum], \"Окупаемость\":['{}%'.format(round(box_office / budget_sum * 100, 0))]})"
   ]
  },
  {
   "cell_type": "code",
   "execution_count": 54,
   "metadata": {
    "scrolled": true
   },
   "outputs": [
    {
     "data": {
      "text/html": [
       "<div>\n",
       "<style scoped>\n",
       "    .dataframe tbody tr th:only-of-type {\n",
       "        vertical-align: middle;\n",
       "    }\n",
       "\n",
       "    .dataframe tbody tr th {\n",
       "        vertical-align: top;\n",
       "    }\n",
       "\n",
       "    .dataframe thead th {\n",
       "        text-align: right;\n",
       "    }\n",
       "</style>\n",
       "<table border=\"1\" class=\"dataframe\">\n",
       "  <thead>\n",
       "    <tr style=\"text-align: right;\">\n",
       "      <th></th>\n",
       "      <th>box_office</th>\n",
       "      <th>budget</th>\n",
       "      <th>ratings</th>\n",
       "      <th>refundable_support</th>\n",
       "      <th>nonrefundable_support</th>\n",
       "    </tr>\n",
       "    <tr>\n",
       "      <th>director_name</th>\n",
       "      <th></th>\n",
       "      <th></th>\n",
       "      <th></th>\n",
       "      <th></th>\n",
       "      <th></th>\n",
       "    </tr>\n",
       "  </thead>\n",
       "  <tbody>\n",
       "    <tr>\n",
       "      <td>Ф.Бондарчук</td>\n",
       "      <td>nan</td>\n",
       "      <td>944,000,000.000</td>\n",
       "      <td>5.700</td>\n",
       "      <td>100,000,000.000</td>\n",
       "      <td>400,000,000.000</td>\n",
       "    </tr>\n",
       "    <tr>\n",
       "      <td>А.Кравчук</td>\n",
       "      <td>717,703,185.530</td>\n",
       "      <td>980,000,000.000</td>\n",
       "      <td>6.000</td>\n",
       "      <td>100,000,000.000</td>\n",
       "      <td>400,000,000.000</td>\n",
       "    </tr>\n",
       "    <tr>\n",
       "      <td>Н.Лебедев</td>\n",
       "      <td>1,402,255,390.000</td>\n",
       "      <td>635,283,867.000</td>\n",
       "      <td>7.600</td>\n",
       "      <td>50,000,000.000</td>\n",
       "      <td>392,104,482.000</td>\n",
       "    </tr>\n",
       "    <tr>\n",
       "      <td>А.Мизгирев</td>\n",
       "      <td>364,285,139.600</td>\n",
       "      <td>684,200,536.000</td>\n",
       "      <td>6.600</td>\n",
       "      <td>150,000,000.000</td>\n",
       "      <td>300,000,000.000</td>\n",
       "    </tr>\n",
       "    <tr>\n",
       "      <td>И.Шурховецкий</td>\n",
       "      <td>590,405,065.000</td>\n",
       "      <td>500,012,729.000</td>\n",
       "      <td>6.400</td>\n",
       "      <td>100,000,000.000</td>\n",
       "      <td>250,000,000.000</td>\n",
       "    </tr>\n",
       "    <tr>\n",
       "      <td>В.Тодоровский</td>\n",
       "      <td>228,578,204.000</td>\n",
       "      <td>320,000,000.000</td>\n",
       "      <td>8.500</td>\n",
       "      <td>10,000,000.000</td>\n",
       "      <td>200,000,000.000</td>\n",
       "    </tr>\n",
       "    <tr>\n",
       "      <td>А.Учитель</td>\n",
       "      <td>511,775,548.000</td>\n",
       "      <td>1,032,905,957.000</td>\n",
       "      <td>7.700</td>\n",
       "      <td>110,000,000.000</td>\n",
       "      <td>190,000,000.000</td>\n",
       "    </tr>\n",
       "    <tr>\n",
       "      <td>П.Лунгин</td>\n",
       "      <td>30,393,100.720</td>\n",
       "      <td>226,271,533.000</td>\n",
       "      <td>6.000</td>\n",
       "      <td>17,000,000.000</td>\n",
       "      <td>133,000,000.000</td>\n",
       "    </tr>\n",
       "    <tr>\n",
       "      <td>Н.Лопато</td>\n",
       "      <td>147,606,826.510</td>\n",
       "      <td>nan</td>\n",
       "      <td>6.200</td>\n",
       "      <td>60,000,000.000</td>\n",
       "      <td>120,000,000.000</td>\n",
       "    </tr>\n",
       "    <tr>\n",
       "      <td>Н.Хомерики</td>\n",
       "      <td>281,133,031.415</td>\n",
       "      <td>430,000,000.000</td>\n",
       "      <td>6.150</td>\n",
       "      <td>60,000,000.000</td>\n",
       "      <td>120,000,000.000</td>\n",
       "    </tr>\n",
       "  </tbody>\n",
       "</table>\n",
       "</div>"
      ],
      "text/plain": [
       "                     box_office            budget  ratings  \\\n",
       "director_name                                                \n",
       "Ф.Бондарчук                 nan   944,000,000.000    5.700   \n",
       "А.Кравчук       717,703,185.530   980,000,000.000    6.000   \n",
       "Н.Лебедев     1,402,255,390.000   635,283,867.000    7.600   \n",
       "А.Мизгирев      364,285,139.600   684,200,536.000    6.600   \n",
       "И.Шурховецкий   590,405,065.000   500,012,729.000    6.400   \n",
       "В.Тодоровский   228,578,204.000   320,000,000.000    8.500   \n",
       "А.Учитель       511,775,548.000 1,032,905,957.000    7.700   \n",
       "П.Лунгин         30,393,100.720   226,271,533.000    6.000   \n",
       "Н.Лопато        147,606,826.510               nan    6.200   \n",
       "Н.Хомерики      281,133,031.415   430,000,000.000    6.150   \n",
       "\n",
       "               refundable_support  nonrefundable_support  \n",
       "director_name                                             \n",
       "Ф.Бондарчук       100,000,000.000        400,000,000.000  \n",
       "А.Кравчук         100,000,000.000        400,000,000.000  \n",
       "Н.Лебедев          50,000,000.000        392,104,482.000  \n",
       "А.Мизгирев        150,000,000.000        300,000,000.000  \n",
       "И.Шурховецкий     100,000,000.000        250,000,000.000  \n",
       "В.Тодоровский      10,000,000.000        200,000,000.000  \n",
       "А.Учитель         110,000,000.000        190,000,000.000  \n",
       "П.Лунгин           17,000,000.000        133,000,000.000  \n",
       "Н.Лопато           60,000,000.000        120,000,000.000  \n",
       "Н.Хомерики         60,000,000.000        120,000,000.000  "
      ]
     },
     "metadata": {},
     "output_type": "display_data"
    },
    {
     "data": {
      "text/html": [
       "<style  type=\"text/css\" >\n",
       "    #T_e690b646_0728_11ec_8694_02420a394ae5row0_col0 {\n",
       "            background-color:  #b40426;\n",
       "            color:  #f1f1f1;\n",
       "        }    #T_e690b646_0728_11ec_8694_02420a394ae5row0_col1 {\n",
       "            background-color:  #5f7fe8;\n",
       "            color:  #000000;\n",
       "        }    #T_e690b646_0728_11ec_8694_02420a394ae5row0_col2 {\n",
       "            background-color:  #4e68d8;\n",
       "            color:  #000000;\n",
       "        }    #T_e690b646_0728_11ec_8694_02420a394ae5row0_col3 {\n",
       "            background-color:  #6788ee;\n",
       "            color:  #000000;\n",
       "        }    #T_e690b646_0728_11ec_8694_02420a394ae5row0_col4 {\n",
       "            background-color:  #5e7de7;\n",
       "            color:  #000000;\n",
       "        }    #T_e690b646_0728_11ec_8694_02420a394ae5row1_col0 {\n",
       "            background-color:  #4c66d6;\n",
       "            color:  #000000;\n",
       "        }    #T_e690b646_0728_11ec_8694_02420a394ae5row1_col1 {\n",
       "            background-color:  #b40426;\n",
       "            color:  #f1f1f1;\n",
       "        }    #T_e690b646_0728_11ec_8694_02420a394ae5row1_col2 {\n",
       "            background-color:  #3b4cc0;\n",
       "            color:  #f1f1f1;\n",
       "        }    #T_e690b646_0728_11ec_8694_02420a394ae5row1_col3 {\n",
       "            background-color:  #f7a98b;\n",
       "            color:  #000000;\n",
       "        }    #T_e690b646_0728_11ec_8694_02420a394ae5row1_col4 {\n",
       "            background-color:  #cfdaea;\n",
       "            color:  #000000;\n",
       "        }    #T_e690b646_0728_11ec_8694_02420a394ae5row2_col0 {\n",
       "            background-color:  #3b4cc0;\n",
       "            color:  #f1f1f1;\n",
       "        }    #T_e690b646_0728_11ec_8694_02420a394ae5row2_col1 {\n",
       "            background-color:  #3b4cc0;\n",
       "            color:  #f1f1f1;\n",
       "        }    #T_e690b646_0728_11ec_8694_02420a394ae5row2_col2 {\n",
       "            background-color:  #b40426;\n",
       "            color:  #f1f1f1;\n",
       "        }    #T_e690b646_0728_11ec_8694_02420a394ae5row2_col3 {\n",
       "            background-color:  #3b4cc0;\n",
       "            color:  #f1f1f1;\n",
       "        }    #T_e690b646_0728_11ec_8694_02420a394ae5row2_col4 {\n",
       "            background-color:  #3b4cc0;\n",
       "            color:  #f1f1f1;\n",
       "        }    #T_e690b646_0728_11ec_8694_02420a394ae5row3_col0 {\n",
       "            background-color:  #5673e0;\n",
       "            color:  #000000;\n",
       "        }    #T_e690b646_0728_11ec_8694_02420a394ae5row3_col1 {\n",
       "            background-color:  #f7a98b;\n",
       "            color:  #000000;\n",
       "        }    #T_e690b646_0728_11ec_8694_02420a394ae5row3_col2 {\n",
       "            background-color:  #3c4ec2;\n",
       "            color:  #f1f1f1;\n",
       "        }    #T_e690b646_0728_11ec_8694_02420a394ae5row3_col3 {\n",
       "            background-color:  #b40426;\n",
       "            color:  #f1f1f1;\n",
       "        }    #T_e690b646_0728_11ec_8694_02420a394ae5row3_col4 {\n",
       "            background-color:  #a3c2fe;\n",
       "            color:  #000000;\n",
       "        }    #T_e690b646_0728_11ec_8694_02420a394ae5row4_col0 {\n",
       "            background-color:  #688aef;\n",
       "            color:  #000000;\n",
       "        }    #T_e690b646_0728_11ec_8694_02420a394ae5row4_col1 {\n",
       "            background-color:  #dddcdc;\n",
       "            color:  #000000;\n",
       "        }    #T_e690b646_0728_11ec_8694_02420a394ae5row4_col2 {\n",
       "            background-color:  #5875e1;\n",
       "            color:  #000000;\n",
       "        }    #T_e690b646_0728_11ec_8694_02420a394ae5row4_col3 {\n",
       "            background-color:  #b9d0f9;\n",
       "            color:  #000000;\n",
       "        }    #T_e690b646_0728_11ec_8694_02420a394ae5row4_col4 {\n",
       "            background-color:  #b40426;\n",
       "            color:  #f1f1f1;\n",
       "        }</style><table id=\"T_e690b646_0728_11ec_8694_02420a394ae5\" ><thead>    <tr>        <th class=\"blank level0\" ></th>        <th class=\"col_heading level0 col0\" >box_office</th>        <th class=\"col_heading level0 col1\" >budget</th>        <th class=\"col_heading level0 col2\" >ratings</th>        <th class=\"col_heading level0 col3\" >refundable_support</th>        <th class=\"col_heading level0 col4\" >nonrefundable_support</th>    </tr></thead><tbody>\n",
       "                <tr>\n",
       "                        <th id=\"T_e690b646_0728_11ec_8694_02420a394ae5level0_row0\" class=\"row_heading level0 row0\" >box_office</th>\n",
       "                        <td id=\"T_e690b646_0728_11ec_8694_02420a394ae5row0_col0\" class=\"data row0 col0\" >1</td>\n",
       "                        <td id=\"T_e690b646_0728_11ec_8694_02420a394ae5row0_col1\" class=\"data row0 col1\" >0.255368</td>\n",
       "                        <td id=\"T_e690b646_0728_11ec_8694_02420a394ae5row0_col2\" class=\"data row0 col2\" >0.207477</td>\n",
       "                        <td id=\"T_e690b646_0728_11ec_8694_02420a394ae5row0_col3\" class=\"data row0 col3\" >0.27918</td>\n",
       "                        <td id=\"T_e690b646_0728_11ec_8694_02420a394ae5row0_col4\" class=\"data row0 col4\" >0.323321</td>\n",
       "            </tr>\n",
       "            <tr>\n",
       "                        <th id=\"T_e690b646_0728_11ec_8694_02420a394ae5level0_row1\" class=\"row_heading level0 row1\" >budget</th>\n",
       "                        <td id=\"T_e690b646_0728_11ec_8694_02420a394ae5row1_col0\" class=\"data row1 col0\" >0.255368</td>\n",
       "                        <td id=\"T_e690b646_0728_11ec_8694_02420a394ae5row1_col1\" class=\"data row1 col1\" >1</td>\n",
       "                        <td id=\"T_e690b646_0728_11ec_8694_02420a394ae5row1_col2\" class=\"data row1 col2\" >0.153503</td>\n",
       "                        <td id=\"T_e690b646_0728_11ec_8694_02420a394ae5row1_col3\" class=\"data row1 col3\" >0.755278</td>\n",
       "                        <td id=\"T_e690b646_0728_11ec_8694_02420a394ae5row1_col4\" class=\"data row1 col4\" >0.579478</td>\n",
       "            </tr>\n",
       "            <tr>\n",
       "                        <th id=\"T_e690b646_0728_11ec_8694_02420a394ae5level0_row2\" class=\"row_heading level0 row2\" >ratings</th>\n",
       "                        <td id=\"T_e690b646_0728_11ec_8694_02420a394ae5row2_col0\" class=\"data row2 col0\" >0.207477</td>\n",
       "                        <td id=\"T_e690b646_0728_11ec_8694_02420a394ae5row2_col1\" class=\"data row2 col1\" >0.153503</td>\n",
       "                        <td id=\"T_e690b646_0728_11ec_8694_02420a394ae5row2_col2\" class=\"data row2 col2\" >1</td>\n",
       "                        <td id=\"T_e690b646_0728_11ec_8694_02420a394ae5row2_col3\" class=\"data row2 col3\" >0.160039</td>\n",
       "                        <td id=\"T_e690b646_0728_11ec_8694_02420a394ae5row2_col4\" class=\"data row2 col4\" >0.235177</td>\n",
       "            </tr>\n",
       "            <tr>\n",
       "                        <th id=\"T_e690b646_0728_11ec_8694_02420a394ae5level0_row3\" class=\"row_heading level0 row3\" >refundable_support</th>\n",
       "                        <td id=\"T_e690b646_0728_11ec_8694_02420a394ae5row3_col0\" class=\"data row3 col0\" >0.27918</td>\n",
       "                        <td id=\"T_e690b646_0728_11ec_8694_02420a394ae5row3_col1\" class=\"data row3 col1\" >0.755278</td>\n",
       "                        <td id=\"T_e690b646_0728_11ec_8694_02420a394ae5row3_col2\" class=\"data row3 col2\" >0.160039</td>\n",
       "                        <td id=\"T_e690b646_0728_11ec_8694_02420a394ae5row3_col3\" class=\"data row3 col3\" >1</td>\n",
       "                        <td id=\"T_e690b646_0728_11ec_8694_02420a394ae5row3_col4\" class=\"data row3 col4\" >0.476578</td>\n",
       "            </tr>\n",
       "            <tr>\n",
       "                        <th id=\"T_e690b646_0728_11ec_8694_02420a394ae5level0_row4\" class=\"row_heading level0 row4\" >nonrefundable_support</th>\n",
       "                        <td id=\"T_e690b646_0728_11ec_8694_02420a394ae5row4_col0\" class=\"data row4 col0\" >0.323321</td>\n",
       "                        <td id=\"T_e690b646_0728_11ec_8694_02420a394ae5row4_col1\" class=\"data row4 col1\" >0.579478</td>\n",
       "                        <td id=\"T_e690b646_0728_11ec_8694_02420a394ae5row4_col2\" class=\"data row4 col2\" >0.235177</td>\n",
       "                        <td id=\"T_e690b646_0728_11ec_8694_02420a394ae5row4_col3\" class=\"data row4 col3\" >0.476578</td>\n",
       "                        <td id=\"T_e690b646_0728_11ec_8694_02420a394ae5row4_col4\" class=\"data row4 col4\" >1</td>\n",
       "            </tr>\n",
       "    </tbody></table>"
      ],
      "text/plain": [
       "<pandas.io.formats.style.Styler at 0x7f3ee13295d0>"
      ]
     },
     "execution_count": 54,
     "metadata": {},
     "output_type": "execute_result"
    }
   ],
   "source": [
    "director_group = df.query('refundable_support > 0')[['box_office', 'budget', 'director_name', 'ratings', 'refundable_support', 'nonrefundable_support']]#сделаем срез данных\n",
    "director_group_tech = director_group.groupby('director_name')#проведем группировку по director_name\n",
    "director_group = director_group_tech.mean()\n",
    "director_group['ratings'] = director_group_tech['ratings'].mean()\n",
    "director_group = director_group.sort_values(by = 'nonrefundable_support', ascending = False)#отсортируем по убыванию\n",
    "display(director_group.head(10))\n",
    "corr = director_group.corr()# создадим таблицу корреляции\n",
    "corr.style.background_gradient('coolwarm')\n",
    "\n"
   ]
  },
  {
   "cell_type": "code",
   "execution_count": 55,
   "metadata": {},
   "outputs": [
    {
     "data": {
      "text/html": [
       "<div>\n",
       "<style scoped>\n",
       "    .dataframe tbody tr th:only-of-type {\n",
       "        vertical-align: middle;\n",
       "    }\n",
       "\n",
       "    .dataframe tbody tr th {\n",
       "        vertical-align: top;\n",
       "    }\n",
       "\n",
       "    .dataframe thead th {\n",
       "        text-align: right;\n",
       "    }\n",
       "</style>\n",
       "<table border=\"1\" class=\"dataframe\">\n",
       "  <thead>\n",
       "    <tr style=\"text-align: right;\">\n",
       "      <th></th>\n",
       "      <th>box_office</th>\n",
       "      <th>budget</th>\n",
       "      <th>ratings</th>\n",
       "      <th>refundable_support</th>\n",
       "      <th>nonrefundable_support</th>\n",
       "    </tr>\n",
       "    <tr>\n",
       "      <th>main_genres</th>\n",
       "      <th></th>\n",
       "      <th></th>\n",
       "      <th></th>\n",
       "      <th></th>\n",
       "      <th></th>\n",
       "    </tr>\n",
       "  </thead>\n",
       "  <tbody>\n",
       "    <tr>\n",
       "      <td>драма</td>\n",
       "      <td>5,418,814,803.760</td>\n",
       "      <td>3,966,581,836.000</td>\n",
       "      <td>6.476</td>\n",
       "      <td>628,346,881.000</td>\n",
       "      <td>1,526,678,397.000</td>\n",
       "    </tr>\n",
       "    <tr>\n",
       "      <td>мультфильм</td>\n",
       "      <td>4,465,241,392.710</td>\n",
       "      <td>3,772,110,787.000</td>\n",
       "      <td>5.629</td>\n",
       "      <td>930,000,000.000</td>\n",
       "      <td>965,000,000.000</td>\n",
       "    </tr>\n",
       "    <tr>\n",
       "      <td>комедия</td>\n",
       "      <td>8,974,307,381.990</td>\n",
       "      <td>2,935,523,277.000</td>\n",
       "      <td>5.614</td>\n",
       "      <td>796,500,000.000</td>\n",
       "      <td>866,404,000.000</td>\n",
       "    </tr>\n",
       "    <tr>\n",
       "      <td>история</td>\n",
       "      <td>1,308,108,250.530</td>\n",
       "      <td>1,480,012,729.000</td>\n",
       "      <td>6.200</td>\n",
       "      <td>200,000,000.000</td>\n",
       "      <td>650,000,000.000</td>\n",
       "    </tr>\n",
       "    <tr>\n",
       "      <td>фантастика</td>\n",
       "      <td>466,198,671.050</td>\n",
       "      <td>1,467,299,501.000</td>\n",
       "      <td>4.533</td>\n",
       "      <td>190,000,000.000</td>\n",
       "      <td>650,000,000.000</td>\n",
       "    </tr>\n",
       "    <tr>\n",
       "      <td>фэнтези</td>\n",
       "      <td>869,178,251.050</td>\n",
       "      <td>1,737,796,162.000</td>\n",
       "      <td>5.580</td>\n",
       "      <td>233,000,000.000</td>\n",
       "      <td>405,000,000.000</td>\n",
       "    </tr>\n",
       "    <tr>\n",
       "      <td>триллер</td>\n",
       "      <td>339,988,055.230</td>\n",
       "      <td>689,209,385.000</td>\n",
       "      <td>5.629</td>\n",
       "      <td>130,000,000.000</td>\n",
       "      <td>359,645,285.000</td>\n",
       "    </tr>\n",
       "    <tr>\n",
       "      <td>приключения</td>\n",
       "      <td>877,929,319.590</td>\n",
       "      <td>2,833,516,280.000</td>\n",
       "      <td>6.650</td>\n",
       "      <td>255,000,000.000</td>\n",
       "      <td>265,000,000.000</td>\n",
       "    </tr>\n",
       "    <tr>\n",
       "      <td>криминал</td>\n",
       "      <td>239,793,863.000</td>\n",
       "      <td>426,594,781.000</td>\n",
       "      <td>7.500</td>\n",
       "      <td>25,000,000.000</td>\n",
       "      <td>255,000,000.000</td>\n",
       "    </tr>\n",
       "    <tr>\n",
       "      <td>боевик</td>\n",
       "      <td>197,379,449.900</td>\n",
       "      <td>181,302,726.000</td>\n",
       "      <td>6.850</td>\n",
       "      <td>29,000,000.000</td>\n",
       "      <td>170,000,000.000</td>\n",
       "    </tr>\n",
       "    <tr>\n",
       "      <td>ужасы</td>\n",
       "      <td>670,208,122.880</td>\n",
       "      <td>399,822,259.000</td>\n",
       "      <td>5.183</td>\n",
       "      <td>111,000,000.000</td>\n",
       "      <td>135,000,000.000</td>\n",
       "    </tr>\n",
       "    <tr>\n",
       "      <td>nan</td>\n",
       "      <td>1,468,076,024.190</td>\n",
       "      <td>292,743,579.000</td>\n",
       "      <td>nan</td>\n",
       "      <td>70,000,000.000</td>\n",
       "      <td>110,000,000.000</td>\n",
       "    </tr>\n",
       "    <tr>\n",
       "      <td>мюзикл</td>\n",
       "      <td>101,705,004.980</td>\n",
       "      <td>564,197,472.000</td>\n",
       "      <td>6.550</td>\n",
       "      <td>152,153,119.000</td>\n",
       "      <td>88,300,000.000</td>\n",
       "    </tr>\n",
       "    <tr>\n",
       "      <td>военный</td>\n",
       "      <td>19,022,733.110</td>\n",
       "      <td>184,299,424.000</td>\n",
       "      <td>6.650</td>\n",
       "      <td>40,000,000.000</td>\n",
       "      <td>77,000,866.000</td>\n",
       "    </tr>\n",
       "    <tr>\n",
       "      <td>детектив</td>\n",
       "      <td>81,003,685.000</td>\n",
       "      <td>630,000,000.000</td>\n",
       "      <td>7.200</td>\n",
       "      <td>55,000,000.000</td>\n",
       "      <td>60,000,000.000</td>\n",
       "    </tr>\n",
       "    <tr>\n",
       "      <td>семейный</td>\n",
       "      <td>153,470,443.800</td>\n",
       "      <td>170,120,000.000</td>\n",
       "      <td>4.400</td>\n",
       "      <td>41,000,000.000</td>\n",
       "      <td>35,000,000.000</td>\n",
       "    </tr>\n",
       "    <tr>\n",
       "      <td>реальное ТВ</td>\n",
       "      <td>32,721,103.430</td>\n",
       "      <td>80,000,000.000</td>\n",
       "      <td>5.600</td>\n",
       "      <td>28,000,000.000</td>\n",
       "      <td>25,000,000.000</td>\n",
       "    </tr>\n",
       "    <tr>\n",
       "      <td>мелодрама</td>\n",
       "      <td>11,034,433.200</td>\n",
       "      <td>73,379,554.000</td>\n",
       "      <td>3.300</td>\n",
       "      <td>25,000,000.000</td>\n",
       "      <td>0.000</td>\n",
       "    </tr>\n",
       "  </tbody>\n",
       "</table>\n",
       "</div>"
      ],
      "text/plain": [
       "                   box_office            budget  ratings  refundable_support  \\\n",
       "main_genres                                                                    \n",
       "драма       5,418,814,803.760 3,966,581,836.000    6.476     628,346,881.000   \n",
       "мультфильм  4,465,241,392.710 3,772,110,787.000    5.629     930,000,000.000   \n",
       "комедия     8,974,307,381.990 2,935,523,277.000    5.614     796,500,000.000   \n",
       "история     1,308,108,250.530 1,480,012,729.000    6.200     200,000,000.000   \n",
       "фантастика    466,198,671.050 1,467,299,501.000    4.533     190,000,000.000   \n",
       "фэнтези       869,178,251.050 1,737,796,162.000    5.580     233,000,000.000   \n",
       "триллер       339,988,055.230   689,209,385.000    5.629     130,000,000.000   \n",
       "приключения   877,929,319.590 2,833,516,280.000    6.650     255,000,000.000   \n",
       "криминал      239,793,863.000   426,594,781.000    7.500      25,000,000.000   \n",
       "боевик        197,379,449.900   181,302,726.000    6.850      29,000,000.000   \n",
       "ужасы         670,208,122.880   399,822,259.000    5.183     111,000,000.000   \n",
       "nan         1,468,076,024.190   292,743,579.000      nan      70,000,000.000   \n",
       "мюзикл        101,705,004.980   564,197,472.000    6.550     152,153,119.000   \n",
       "военный        19,022,733.110   184,299,424.000    6.650      40,000,000.000   \n",
       "детектив       81,003,685.000   630,000,000.000    7.200      55,000,000.000   \n",
       "семейный      153,470,443.800   170,120,000.000    4.400      41,000,000.000   \n",
       "реальное ТВ    32,721,103.430    80,000,000.000    5.600      28,000,000.000   \n",
       "мелодрама      11,034,433.200    73,379,554.000    3.300      25,000,000.000   \n",
       "\n",
       "             nonrefundable_support  \n",
       "main_genres                         \n",
       "драма            1,526,678,397.000  \n",
       "мультфильм         965,000,000.000  \n",
       "комедия            866,404,000.000  \n",
       "история            650,000,000.000  \n",
       "фантастика         650,000,000.000  \n",
       "фэнтези            405,000,000.000  \n",
       "триллер            359,645,285.000  \n",
       "приключения        265,000,000.000  \n",
       "криминал           255,000,000.000  \n",
       "боевик             170,000,000.000  \n",
       "ужасы              135,000,000.000  \n",
       "nan                110,000,000.000  \n",
       "мюзикл              88,300,000.000  \n",
       "военный             77,000,866.000  \n",
       "детектив            60,000,000.000  \n",
       "семейный            35,000,000.000  \n",
       "реальное ТВ         25,000,000.000  \n",
       "мелодрама                    0.000  "
      ]
     },
     "metadata": {},
     "output_type": "display_data"
    },
    {
     "data": {
      "text/html": [
       "<style  type=\"text/css\" >\n",
       "    #T_e6973dae_0728_11ec_8694_02420a394ae5row0_col0 {\n",
       "            background-color:  #b40426;\n",
       "            color:  #f1f1f1;\n",
       "        }    #T_e6973dae_0728_11ec_8694_02420a394ae5row0_col1 {\n",
       "            background-color:  #f59f80;\n",
       "            color:  #000000;\n",
       "        }    #T_e6973dae_0728_11ec_8694_02420a394ae5row0_col2 {\n",
       "            background-color:  #3e51c5;\n",
       "            color:  #f1f1f1;\n",
       "        }    #T_e6973dae_0728_11ec_8694_02420a394ae5row0_col3 {\n",
       "            background-color:  #d85646;\n",
       "            color:  #000000;\n",
       "        }    #T_e6973dae_0728_11ec_8694_02420a394ae5row0_col4 {\n",
       "            background-color:  #f4987a;\n",
       "            color:  #000000;\n",
       "        }    #T_e6973dae_0728_11ec_8694_02420a394ae5row1_col0 {\n",
       "            background-color:  #f39475;\n",
       "            color:  #000000;\n",
       "        }    #T_e6973dae_0728_11ec_8694_02420a394ae5row1_col1 {\n",
       "            background-color:  #b40426;\n",
       "            color:  #f1f1f1;\n",
       "        }    #T_e6973dae_0728_11ec_8694_02420a394ae5row1_col2 {\n",
       "            background-color:  #5e7de7;\n",
       "            color:  #000000;\n",
       "        }    #T_e6973dae_0728_11ec_8694_02420a394ae5row1_col3 {\n",
       "            background-color:  #d44e41;\n",
       "            color:  #000000;\n",
       "        }    #T_e6973dae_0728_11ec_8694_02420a394ae5row1_col4 {\n",
       "            background-color:  #de614d;\n",
       "            color:  #000000;\n",
       "        }    #T_e6973dae_0728_11ec_8694_02420a394ae5row2_col0 {\n",
       "            background-color:  #3b4cc0;\n",
       "            color:  #f1f1f1;\n",
       "        }    #T_e6973dae_0728_11ec_8694_02420a394ae5row2_col1 {\n",
       "            background-color:  #3b4cc0;\n",
       "            color:  #f1f1f1;\n",
       "        }    #T_e6973dae_0728_11ec_8694_02420a394ae5row2_col2 {\n",
       "            background-color:  #b40426;\n",
       "            color:  #f1f1f1;\n",
       "        }    #T_e6973dae_0728_11ec_8694_02420a394ae5row2_col3 {\n",
       "            background-color:  #3b4cc0;\n",
       "            color:  #f1f1f1;\n",
       "        }    #T_e6973dae_0728_11ec_8694_02420a394ae5row2_col4 {\n",
       "            background-color:  #3b4cc0;\n",
       "            color:  #f1f1f1;\n",
       "        }    #T_e6973dae_0728_11ec_8694_02420a394ae5row3_col0 {\n",
       "            background-color:  #d85646;\n",
       "            color:  #000000;\n",
       "        }    #T_e6973dae_0728_11ec_8694_02420a394ae5row3_col1 {\n",
       "            background-color:  #d85646;\n",
       "            color:  #000000;\n",
       "        }    #T_e6973dae_0728_11ec_8694_02420a394ae5row3_col2 {\n",
       "            background-color:  #3b4cc0;\n",
       "            color:  #f1f1f1;\n",
       "        }    #T_e6973dae_0728_11ec_8694_02420a394ae5row3_col3 {\n",
       "            background-color:  #b40426;\n",
       "            color:  #f1f1f1;\n",
       "        }    #T_e6973dae_0728_11ec_8694_02420a394ae5row3_col4 {\n",
       "            background-color:  #eb7d62;\n",
       "            color:  #000000;\n",
       "        }    #T_e6973dae_0728_11ec_8694_02420a394ae5row4_col0 {\n",
       "            background-color:  #f29274;\n",
       "            color:  #000000;\n",
       "        }    #T_e6973dae_0728_11ec_8694_02420a394ae5row4_col1 {\n",
       "            background-color:  #e0654f;\n",
       "            color:  #000000;\n",
       "        }    #T_e6973dae_0728_11ec_8694_02420a394ae5row4_col2 {\n",
       "            background-color:  #516ddb;\n",
       "            color:  #000000;\n",
       "        }    #T_e6973dae_0728_11ec_8694_02420a394ae5row4_col3 {\n",
       "            background-color:  #e8765c;\n",
       "            color:  #000000;\n",
       "        }    #T_e6973dae_0728_11ec_8694_02420a394ae5row4_col4 {\n",
       "            background-color:  #b40426;\n",
       "            color:  #f1f1f1;\n",
       "        }</style><table id=\"T_e6973dae_0728_11ec_8694_02420a394ae5\" ><thead>    <tr>        <th class=\"blank level0\" ></th>        <th class=\"col_heading level0 col0\" >box_office</th>        <th class=\"col_heading level0 col1\" >budget</th>        <th class=\"col_heading level0 col2\" >ratings</th>        <th class=\"col_heading level0 col3\" >refundable_support</th>        <th class=\"col_heading level0 col4\" >nonrefundable_support</th>    </tr></thead><tbody>\n",
       "                <tr>\n",
       "                        <th id=\"T_e6973dae_0728_11ec_8694_02420a394ae5level0_row0\" class=\"row_heading level0 row0\" >box_office</th>\n",
       "                        <td id=\"T_e6973dae_0728_11ec_8694_02420a394ae5row0_col0\" class=\"data row0 col0\" >1</td>\n",
       "                        <td id=\"T_e6973dae_0728_11ec_8694_02420a394ae5row0_col1\" class=\"data row0 col1\" >0.767235</td>\n",
       "                        <td id=\"T_e6973dae_0728_11ec_8694_02420a394ae5row0_col2\" class=\"data row0 col2\" >0.0109637</td>\n",
       "                        <td id=\"T_e6973dae_0728_11ec_8694_02420a394ae5row0_col3\" class=\"data row0 col3\" >0.892035</td>\n",
       "                        <td id=\"T_e6973dae_0728_11ec_8694_02420a394ae5row0_col4\" class=\"data row0 col4\" >0.769731</td>\n",
       "            </tr>\n",
       "            <tr>\n",
       "                        <th id=\"T_e6973dae_0728_11ec_8694_02420a394ae5level0_row1\" class=\"row_heading level0 row1\" >budget</th>\n",
       "                        <td id=\"T_e6973dae_0728_11ec_8694_02420a394ae5row1_col0\" class=\"data row1 col0\" >0.767235</td>\n",
       "                        <td id=\"T_e6973dae_0728_11ec_8694_02420a394ae5row1_col1\" class=\"data row1 col1\" >1</td>\n",
       "                        <td id=\"T_e6973dae_0728_11ec_8694_02420a394ae5row1_col2\" class=\"data row1 col2\" >0.113785</td>\n",
       "                        <td id=\"T_e6973dae_0728_11ec_8694_02420a394ae5row1_col3\" class=\"data row1 col3\" >0.906396</td>\n",
       "                        <td id=\"T_e6973dae_0728_11ec_8694_02420a394ae5row1_col4\" class=\"data row1 col4\" >0.881697</td>\n",
       "            </tr>\n",
       "            <tr>\n",
       "                        <th id=\"T_e6973dae_0728_11ec_8694_02420a394ae5level0_row2\" class=\"row_heading level0 row2\" >ratings</th>\n",
       "                        <td id=\"T_e6973dae_0728_11ec_8694_02420a394ae5row2_col0\" class=\"data row2 col0\" >0.0109637</td>\n",
       "                        <td id=\"T_e6973dae_0728_11ec_8694_02420a394ae5row2_col1\" class=\"data row2 col1\" >0.113785</td>\n",
       "                        <td id=\"T_e6973dae_0728_11ec_8694_02420a394ae5row2_col2\" class=\"data row2 col2\" >1</td>\n",
       "                        <td id=\"T_e6973dae_0728_11ec_8694_02420a394ae5row2_col3\" class=\"data row2 col3\" >-0.00216535</td>\n",
       "                        <td id=\"T_e6973dae_0728_11ec_8694_02420a394ae5row2_col4\" class=\"data row2 col4\" >0.0743627</td>\n",
       "            </tr>\n",
       "            <tr>\n",
       "                        <th id=\"T_e6973dae_0728_11ec_8694_02420a394ae5level0_row3\" class=\"row_heading level0 row3\" >refundable_support</th>\n",
       "                        <td id=\"T_e6973dae_0728_11ec_8694_02420a394ae5row3_col0\" class=\"data row3 col0\" >0.892035</td>\n",
       "                        <td id=\"T_e6973dae_0728_11ec_8694_02420a394ae5row3_col1\" class=\"data row3 col1\" >0.906396</td>\n",
       "                        <td id=\"T_e6973dae_0728_11ec_8694_02420a394ae5row3_col2\" class=\"data row3 col2\" >-0.00216535</td>\n",
       "                        <td id=\"T_e6973dae_0728_11ec_8694_02420a394ae5row3_col3\" class=\"data row3 col3\" >1</td>\n",
       "                        <td id=\"T_e6973dae_0728_11ec_8694_02420a394ae5row3_col4\" class=\"data row3 col4\" >0.829892</td>\n",
       "            </tr>\n",
       "            <tr>\n",
       "                        <th id=\"T_e6973dae_0728_11ec_8694_02420a394ae5level0_row4\" class=\"row_heading level0 row4\" >nonrefundable_support</th>\n",
       "                        <td id=\"T_e6973dae_0728_11ec_8694_02420a394ae5row4_col0\" class=\"data row4 col0\" >0.769731</td>\n",
       "                        <td id=\"T_e6973dae_0728_11ec_8694_02420a394ae5row4_col1\" class=\"data row4 col1\" >0.881697</td>\n",
       "                        <td id=\"T_e6973dae_0728_11ec_8694_02420a394ae5row4_col2\" class=\"data row4 col2\" >0.0743627</td>\n",
       "                        <td id=\"T_e6973dae_0728_11ec_8694_02420a394ae5row4_col3\" class=\"data row4 col3\" >0.829892</td>\n",
       "                        <td id=\"T_e6973dae_0728_11ec_8694_02420a394ae5row4_col4\" class=\"data row4 col4\" >1</td>\n",
       "            </tr>\n",
       "    </tbody></table>"
      ],
      "text/plain": [
       "<pandas.io.formats.style.Styler at 0x7f3ee145eb10>"
      ]
     },
     "execution_count": 55,
     "metadata": {},
     "output_type": "execute_result"
    }
   ],
   "source": [
    "genres_group = df.query('refundable_support > 0')[['main_genres', 'box_office', 'budget', 'ratings', 'refundable_support', 'nonrefundable_support']]#сделаем срез данных\n",
    "tabgenres_group_tech = genres_group.groupby('main_genres')#проведем группировку по main_genres\n",
    "genres_group = tabgenres_group_tech.sum()\n",
    "genres_group['ratings'] = tabgenres_group_tech['ratings'].mean()\n",
    "genres_group = genres_group.sort_values(by = 'nonrefundable_support', ascending = False)#сделаем сортировку по убыванию\n",
    "display(genres_group)\n",
    "\n",
    "corr = genres_group.corr()#выведем таблицу корреляции\n",
    "corr.style.background_gradient('coolwarm')\n",
    "\n"
   ]
  },
  {
   "cell_type": "markdown",
   "metadata": {},
   "source": [
    "***ВЫВОД***\n",
    "\n",
    "Гос. поддержка составляет 48% бюджета фильма. Таким образом,гос. поддержка в среднем покрывает только часть бюджета.Окупаемость фильма составляет 61% от бюджета фильма. \n",
    "Вне зависимости от жанра, сборы будут одинаково зависеть от гос.поддержки, так как есть корреляция.\n",
    "При этом сборы будут зависеть от выбора режиссера фильма, так как средние сборы для отдельных режиссеров не коррелируют с гос. поддержкой."
   ]
  },
  {
   "cell_type": "markdown",
   "metadata": {
    "id": "V2gYwMcPgFyd"
   },
   "source": [
    "### Шаг 5. Напишите общий вывод"
   ]
  },
  {
   "cell_type": "markdown",
   "metadata": {},
   "source": [
    "1) Сборы фильмов не сильно, но зависят от возрастной категории зрителя.\n",
    "2) Вне зависимости от жанра, сборы будут одинаково зависеть от гос.поддержки, так как есть корреляция.\n",
    "3) При этом сборы будут зависеть от выбора режиссера фильма, так как средние сборы для отдельных режиссеров не коррелируют с гос. поддержкой.\n"
   ]
  }
 ],
 "metadata": {
  "ExecuteTimeLog": [
   {
    "duration": 537,
    "start_time": "2021-07-07T10:12:08.634Z"
   },
   {
    "duration": 206,
    "start_time": "2021-07-07T10:12:30.191Z"
   },
   {
    "duration": 227,
    "start_time": "2021-07-07T10:12:33.078Z"
   },
   {
    "duration": 153,
    "start_time": "2021-07-07T10:13:42.146Z"
   },
   {
    "duration": 233,
    "start_time": "2021-07-07T10:30:09.252Z"
   },
   {
    "duration": 19,
    "start_time": "2021-07-07T10:30:15.577Z"
   },
   {
    "duration": 18,
    "start_time": "2021-07-07T10:30:57.348Z"
   },
   {
    "duration": 19,
    "start_time": "2021-07-07T10:31:17.452Z"
   },
   {
    "duration": 21,
    "start_time": "2021-07-07T10:31:32.227Z"
   },
   {
    "duration": 27,
    "start_time": "2021-07-07T10:32:06.588Z"
   },
   {
    "duration": 23,
    "start_time": "2021-07-07T10:32:43.645Z"
   },
   {
    "duration": 24,
    "start_time": "2021-07-07T10:33:06.948Z"
   },
   {
    "duration": 7,
    "start_time": "2021-07-07T10:33:28.558Z"
   },
   {
    "duration": 23,
    "start_time": "2021-07-07T10:33:43.761Z"
   },
   {
    "duration": 28,
    "start_time": "2021-07-07T10:34:13.466Z"
   },
   {
    "duration": 23,
    "start_time": "2021-07-07T10:35:56.187Z"
   },
   {
    "duration": 6,
    "start_time": "2021-07-07T10:36:48.182Z"
   },
   {
    "duration": 14,
    "start_time": "2021-07-07T10:37:49.641Z"
   },
   {
    "duration": 6,
    "start_time": "2021-07-07T10:38:06.694Z"
   },
   {
    "duration": 6,
    "start_time": "2021-07-07T10:38:13.493Z"
   },
   {
    "duration": 19,
    "start_time": "2021-07-07T10:38:44.056Z"
   },
   {
    "duration": 186,
    "start_time": "2021-07-07T10:48:35.618Z"
   },
   {
    "duration": 24,
    "start_time": "2021-07-07T10:48:51.498Z"
   },
   {
    "duration": 20,
    "start_time": "2021-07-07T10:48:59.415Z"
   },
   {
    "duration": 20,
    "start_time": "2021-07-07T10:53:02.195Z"
   },
   {
    "duration": 188,
    "start_time": "2021-07-07T10:54:40.486Z"
   },
   {
    "duration": 115,
    "start_time": "2021-07-07T10:54:52.552Z"
   },
   {
    "duration": 214,
    "start_time": "2021-07-07T10:54:56.354Z"
   },
   {
    "duration": 47,
    "start_time": "2021-07-07T10:54:58.282Z"
   },
   {
    "duration": 217,
    "start_time": "2021-07-07T10:59:16.075Z"
   },
   {
    "duration": 51,
    "start_time": "2021-07-07T10:59:16.243Z"
   },
   {
    "duration": 578,
    "start_time": "2021-07-07T10:59:18.774Z"
   },
   {
    "duration": 161,
    "start_time": "2021-07-07T10:59:21.238Z"
   },
   {
    "duration": 59,
    "start_time": "2021-07-07T10:59:21.453Z"
   },
   {
    "duration": 3,
    "start_time": "2021-07-07T11:02:10.786Z"
   },
   {
    "duration": 13,
    "start_time": "2021-07-07T11:07:07.722Z"
   },
   {
    "duration": 26,
    "start_time": "2021-07-07T11:07:17.958Z"
   },
   {
    "duration": 22,
    "start_time": "2021-07-07T11:08:17.939Z"
   },
   {
    "duration": 212,
    "start_time": "2021-07-07T11:08:19.665Z"
   },
   {
    "duration": 21,
    "start_time": "2021-07-07T11:08:29.945Z"
   },
   {
    "duration": 31,
    "start_time": "2021-07-07T11:08:38.899Z"
   },
   {
    "duration": 23,
    "start_time": "2021-07-07T11:08:54.527Z"
   },
   {
    "duration": 8,
    "start_time": "2021-07-07T11:18:55.974Z"
   },
   {
    "duration": 7,
    "start_time": "2021-07-07T11:19:03.639Z"
   },
   {
    "duration": 7,
    "start_time": "2021-07-07T11:19:06.444Z"
   },
   {
    "duration": 578,
    "start_time": "2021-07-07T12:09:59.576Z"
   },
   {
    "duration": 195,
    "start_time": "2021-07-07T12:10:00.156Z"
   },
   {
    "duration": 115,
    "start_time": "2021-07-07T12:10:00.353Z"
   },
   {
    "duration": 3,
    "start_time": "2021-07-07T12:10:00.470Z"
   },
   {
    "duration": 32,
    "start_time": "2021-07-07T12:10:00.474Z"
   },
   {
    "duration": 23,
    "start_time": "2021-07-07T12:10:00.508Z"
   },
   {
    "duration": 19,
    "start_time": "2021-07-07T12:10:00.533Z"
   },
   {
    "duration": 44,
    "start_time": "2021-07-07T12:10:00.553Z"
   },
   {
    "duration": 7,
    "start_time": "2021-07-07T12:10:00.600Z"
   },
   {
    "duration": 7,
    "start_time": "2021-07-07T12:19:45.761Z"
   },
   {
    "duration": 21,
    "start_time": "2021-07-07T12:21:35.482Z"
   },
   {
    "duration": 21,
    "start_time": "2021-07-07T12:29:23.569Z"
   },
   {
    "duration": 525,
    "start_time": "2021-07-07T12:29:44.542Z"
   },
   {
    "duration": 214,
    "start_time": "2021-07-07T12:29:45.069Z"
   },
   {
    "duration": 92,
    "start_time": "2021-07-07T12:29:45.285Z"
   },
   {
    "duration": 3,
    "start_time": "2021-07-07T12:29:45.379Z"
   },
   {
    "duration": 28,
    "start_time": "2021-07-07T12:29:45.384Z"
   },
   {
    "duration": 23,
    "start_time": "2021-07-07T12:29:45.413Z"
   },
   {
    "duration": 21,
    "start_time": "2021-07-07T12:29:45.437Z"
   },
   {
    "duration": 41,
    "start_time": "2021-07-07T12:29:45.460Z"
   },
   {
    "duration": 7,
    "start_time": "2021-07-07T12:29:45.502Z"
   },
   {
    "duration": 20,
    "start_time": "2021-07-07T12:29:45.511Z"
   },
   {
    "duration": 12,
    "start_time": "2021-07-07T12:34:02.800Z"
   },
   {
    "duration": 7,
    "start_time": "2021-07-07T12:35:10.479Z"
   },
   {
    "duration": 8,
    "start_time": "2021-07-07T12:35:22.440Z"
   },
   {
    "duration": 6,
    "start_time": "2021-07-07T12:35:35.649Z"
   },
   {
    "duration": 6,
    "start_time": "2021-07-07T12:35:43.107Z"
   },
   {
    "duration": 22,
    "start_time": "2021-07-07T12:38:03.029Z"
   },
   {
    "duration": 10,
    "start_time": "2021-07-07T12:38:06.592Z"
   },
   {
    "duration": 563,
    "start_time": "2021-07-07T12:38:46.493Z"
   },
   {
    "duration": 265,
    "start_time": "2021-07-07T12:38:47.058Z"
   },
   {
    "duration": 94,
    "start_time": "2021-07-07T12:38:47.325Z"
   },
   {
    "duration": 3,
    "start_time": "2021-07-07T12:38:47.422Z"
   },
   {
    "duration": 30,
    "start_time": "2021-07-07T12:38:47.427Z"
   },
   {
    "duration": 16,
    "start_time": "2021-07-07T12:38:53.305Z"
   },
   {
    "duration": 10,
    "start_time": "2021-07-07T12:38:53.499Z"
   },
   {
    "duration": 8,
    "start_time": "2021-07-07T12:39:48.161Z"
   },
   {
    "duration": 27,
    "start_time": "2021-07-07T12:41:17.629Z"
   },
   {
    "duration": 17,
    "start_time": "2021-07-07T12:41:17.867Z"
   },
   {
    "duration": 21,
    "start_time": "2021-07-07T12:41:19.310Z"
   },
   {
    "duration": 7,
    "start_time": "2021-07-07T12:41:19.544Z"
   },
   {
    "duration": 20,
    "start_time": "2021-07-07T12:41:20.504Z"
   },
   {
    "duration": 554,
    "start_time": "2021-07-07T12:56:23.696Z"
   },
   {
    "duration": 200,
    "start_time": "2021-07-07T12:56:25.234Z"
   },
   {
    "duration": 119,
    "start_time": "2021-07-07T12:56:25.480Z"
   },
   {
    "duration": 4,
    "start_time": "2021-07-07T12:56:25.762Z"
   },
   {
    "duration": 26,
    "start_time": "2021-07-07T12:56:27.172Z"
   },
   {
    "duration": 12,
    "start_time": "2021-07-07T12:56:29.051Z"
   },
   {
    "duration": 10,
    "start_time": "2021-07-07T12:56:29.291Z"
   },
   {
    "duration": 8,
    "start_time": "2021-07-07T12:56:29.623Z"
   },
   {
    "duration": 28,
    "start_time": "2021-07-07T12:56:32.137Z"
   },
   {
    "duration": 19,
    "start_time": "2021-07-07T12:56:39.785Z"
   },
   {
    "duration": 20,
    "start_time": "2021-07-07T12:56:44.297Z"
   },
   {
    "duration": 7,
    "start_time": "2021-07-07T12:56:45.392Z"
   },
   {
    "duration": 23,
    "start_time": "2021-07-07T12:56:46.615Z"
   },
   {
    "duration": 4,
    "start_time": "2021-07-07T12:57:06.625Z"
   },
   {
    "duration": 32,
    "start_time": "2021-07-07T12:57:36.690Z"
   },
   {
    "duration": 18,
    "start_time": "2021-07-07T12:58:00.149Z"
   },
   {
    "duration": 15,
    "start_time": "2021-07-07T12:59:16.793Z"
   },
   {
    "duration": 7,
    "start_time": "2021-07-07T13:19:22.624Z"
   },
   {
    "duration": 6,
    "start_time": "2021-07-07T14:17:33.527Z"
   },
   {
    "duration": 9,
    "start_time": "2021-07-07T14:17:48.409Z"
   },
   {
    "duration": 8,
    "start_time": "2021-07-07T14:20:13.060Z"
   },
   {
    "duration": 8,
    "start_time": "2021-07-07T14:20:37.957Z"
   },
   {
    "duration": 8,
    "start_time": "2021-07-07T14:20:47.470Z"
   },
   {
    "duration": 9,
    "start_time": "2021-07-07T14:20:54.503Z"
   },
   {
    "duration": 10,
    "start_time": "2021-07-07T14:28:57.763Z"
   },
   {
    "duration": 3,
    "start_time": "2021-07-07T14:30:23.377Z"
   },
   {
    "duration": 3,
    "start_time": "2021-07-07T14:30:36.489Z"
   },
   {
    "duration": 103,
    "start_time": "2021-07-07T14:30:52.351Z"
   },
   {
    "duration": 8,
    "start_time": "2021-07-07T14:30:54.763Z"
   },
   {
    "duration": 8,
    "start_time": "2021-07-07T14:31:29.301Z"
   },
   {
    "duration": 13,
    "start_time": "2021-07-07T14:31:44.516Z"
   },
   {
    "duration": 7,
    "start_time": "2021-07-07T14:33:10.972Z"
   },
   {
    "duration": 11,
    "start_time": "2021-07-07T14:33:27.780Z"
   },
   {
    "duration": 8,
    "start_time": "2021-07-07T14:34:44.588Z"
   },
   {
    "duration": 57,
    "start_time": "2021-07-07T14:35:59.042Z"
   },
   {
    "duration": 3,
    "start_time": "2021-07-07T14:36:28.168Z"
   },
   {
    "duration": 5,
    "start_time": "2021-07-07T14:36:46.254Z"
   },
   {
    "duration": 4,
    "start_time": "2021-07-07T14:36:52.714Z"
   },
   {
    "duration": 3,
    "start_time": "2021-07-07T14:36:56.612Z"
   },
   {
    "duration": 4,
    "start_time": "2021-07-07T14:36:57.049Z"
   },
   {
    "duration": 3,
    "start_time": "2021-07-07T14:39:21.214Z"
   },
   {
    "duration": 7,
    "start_time": "2021-07-07T14:39:52.406Z"
   },
   {
    "duration": 11,
    "start_time": "2021-07-07T14:39:58.576Z"
   },
   {
    "duration": 9,
    "start_time": "2021-07-07T14:40:26.301Z"
   },
   {
    "duration": 10,
    "start_time": "2021-07-07T14:40:31.704Z"
   },
   {
    "duration": 11,
    "start_time": "2021-07-07T14:40:36.249Z"
   },
   {
    "duration": 10,
    "start_time": "2021-07-07T14:40:39.783Z"
   },
   {
    "duration": 9,
    "start_time": "2021-07-07T14:40:48.558Z"
   },
   {
    "duration": 10,
    "start_time": "2021-07-07T14:40:57.143Z"
   },
   {
    "duration": 9,
    "start_time": "2021-07-07T14:41:06.074Z"
   },
   {
    "duration": 4324,
    "start_time": "2021-07-07T14:41:22.004Z"
   },
   {
    "duration": 11,
    "start_time": "2021-07-07T14:41:33.392Z"
   },
   {
    "duration": 9,
    "start_time": "2021-07-07T14:41:39.288Z"
   },
   {
    "duration": 569,
    "start_time": "2021-07-07T14:42:14.387Z"
   },
   {
    "duration": 197,
    "start_time": "2021-07-07T14:42:14.959Z"
   },
   {
    "duration": 84,
    "start_time": "2021-07-07T14:42:16.052Z"
   },
   {
    "duration": 4,
    "start_time": "2021-07-07T14:42:16.900Z"
   },
   {
    "duration": 27,
    "start_time": "2021-07-07T14:42:19.898Z"
   },
   {
    "duration": 12,
    "start_time": "2021-07-07T14:42:21.577Z"
   },
   {
    "duration": 9,
    "start_time": "2021-07-07T14:42:21.813Z"
   },
   {
    "duration": 9,
    "start_time": "2021-07-07T14:42:22.569Z"
   },
   {
    "duration": 29,
    "start_time": "2021-07-07T14:42:25.837Z"
   },
   {
    "duration": 20,
    "start_time": "2021-07-07T14:42:27.003Z"
   },
   {
    "duration": 21,
    "start_time": "2021-07-07T14:42:28.767Z"
   },
   {
    "duration": 7,
    "start_time": "2021-07-07T14:42:29.838Z"
   },
   {
    "duration": 4,
    "start_time": "2021-07-07T14:43:25.493Z"
   },
   {
    "duration": 7,
    "start_time": "2021-07-07T14:43:26.573Z"
   },
   {
    "duration": 10,
    "start_time": "2021-07-07T14:43:31.639Z"
   },
   {
    "duration": 9,
    "start_time": "2021-07-07T14:43:32.046Z"
   },
   {
    "duration": 10,
    "start_time": "2021-07-07T14:43:33.301Z"
   },
   {
    "duration": 12,
    "start_time": "2021-07-07T14:43:33.658Z"
   },
   {
    "duration": 8,
    "start_time": "2021-07-07T14:43:34.552Z"
   },
   {
    "duration": 9,
    "start_time": "2021-07-07T14:43:35.058Z"
   },
   {
    "duration": 12,
    "start_time": "2021-07-07T14:43:35.914Z"
   },
   {
    "duration": 17,
    "start_time": "2021-07-07T14:45:34.368Z"
   },
   {
    "duration": 512,
    "start_time": "2021-07-07T14:51:58.236Z"
   },
   {
    "duration": 223,
    "start_time": "2021-07-07T14:51:58.750Z"
   },
   {
    "duration": 93,
    "start_time": "2021-07-07T14:51:58.977Z"
   },
   {
    "duration": 4,
    "start_time": "2021-07-07T14:51:59.071Z"
   },
   {
    "duration": 37,
    "start_time": "2021-07-07T14:51:59.077Z"
   },
   {
    "duration": 18,
    "start_time": "2021-07-07T14:51:59.116Z"
   },
   {
    "duration": 10,
    "start_time": "2021-07-07T14:51:59.137Z"
   },
   {
    "duration": 8,
    "start_time": "2021-07-07T14:51:59.149Z"
   },
   {
    "duration": 54,
    "start_time": "2021-07-07T14:51:59.158Z"
   },
   {
    "duration": 18,
    "start_time": "2021-07-07T14:51:59.213Z"
   },
   {
    "duration": 22,
    "start_time": "2021-07-07T14:51:59.232Z"
   },
   {
    "duration": 36,
    "start_time": "2021-07-07T14:51:59.255Z"
   },
   {
    "duration": 7,
    "start_time": "2021-07-07T14:51:59.293Z"
   },
   {
    "duration": 10,
    "start_time": "2021-07-07T14:51:59.302Z"
   },
   {
    "duration": 9,
    "start_time": "2021-07-07T14:51:59.313Z"
   },
   {
    "duration": 11,
    "start_time": "2021-07-07T14:51:59.324Z"
   },
   {
    "duration": 8,
    "start_time": "2021-07-07T14:51:59.337Z"
   },
   {
    "duration": 46,
    "start_time": "2021-07-07T14:51:59.347Z"
   },
   {
    "duration": 22,
    "start_time": "2021-07-07T14:51:59.395Z"
   },
   {
    "duration": 24,
    "start_time": "2021-07-07T14:57:32.911Z"
   },
   {
    "duration": 7,
    "start_time": "2021-07-07T14:58:22.070Z"
   },
   {
    "duration": 4,
    "start_time": "2021-07-07T14:59:11.239Z"
   },
   {
    "duration": 25,
    "start_time": "2021-07-07T15:07:22.208Z"
   },
   {
    "duration": 16,
    "start_time": "2021-07-07T15:08:25.560Z"
   },
   {
    "duration": 15,
    "start_time": "2021-07-07T15:08:40.647Z"
   },
   {
    "duration": 14,
    "start_time": "2021-07-07T15:08:46.669Z"
   },
   {
    "duration": 533,
    "start_time": "2021-07-07T15:18:07.440Z"
   },
   {
    "duration": 173,
    "start_time": "2021-07-07T15:18:07.974Z"
   },
   {
    "duration": 84,
    "start_time": "2021-07-07T15:18:08.149Z"
   },
   {
    "duration": 3,
    "start_time": "2021-07-07T15:18:08.235Z"
   },
   {
    "duration": 30,
    "start_time": "2021-07-07T15:18:08.240Z"
   },
   {
    "duration": 22,
    "start_time": "2021-07-07T15:18:08.272Z"
   },
   {
    "duration": 11,
    "start_time": "2021-07-07T15:18:08.295Z"
   },
   {
    "duration": 11,
    "start_time": "2021-07-07T15:18:08.309Z"
   },
   {
    "duration": 40,
    "start_time": "2021-07-07T15:18:08.322Z"
   },
   {
    "duration": 42,
    "start_time": "2021-07-07T15:18:08.364Z"
   },
   {
    "duration": 22,
    "start_time": "2021-07-07T15:18:08.408Z"
   },
   {
    "duration": 5,
    "start_time": "2021-07-07T15:18:08.432Z"
   },
   {
    "duration": 13,
    "start_time": "2021-07-07T15:18:08.439Z"
   },
   {
    "duration": 9,
    "start_time": "2021-07-07T15:18:08.454Z"
   },
   {
    "duration": 32,
    "start_time": "2021-07-07T15:18:08.465Z"
   },
   {
    "duration": 10,
    "start_time": "2021-07-07T15:18:08.501Z"
   },
   {
    "duration": 7,
    "start_time": "2021-07-07T15:18:08.513Z"
   },
   {
    "duration": 11,
    "start_time": "2021-07-07T15:18:08.521Z"
   },
   {
    "duration": 17,
    "start_time": "2021-07-07T15:18:08.534Z"
   },
   {
    "duration": 44,
    "start_time": "2021-07-07T15:18:08.553Z"
   },
   {
    "duration": 22,
    "start_time": "2021-07-07T15:18:08.599Z"
   },
   {
    "duration": 61,
    "start_time": "2021-07-07T15:18:08.622Z"
   },
   {
    "duration": 7,
    "start_time": "2021-07-07T15:18:39.457Z"
   },
   {
    "duration": 5,
    "start_time": "2021-07-07T16:05:17.020Z"
   },
   {
    "duration": 5,
    "start_time": "2021-07-07T16:51:28.794Z"
   },
   {
    "duration": 546,
    "start_time": "2021-07-07T16:52:26.306Z"
   },
   {
    "duration": 203,
    "start_time": "2021-07-07T16:52:27.523Z"
   },
   {
    "duration": 85,
    "start_time": "2021-07-07T16:52:27.736Z"
   },
   {
    "duration": 4,
    "start_time": "2021-07-07T16:52:27.899Z"
   },
   {
    "duration": 25,
    "start_time": "2021-07-07T16:52:28.674Z"
   },
   {
    "duration": 8,
    "start_time": "2021-07-07T16:52:32.956Z"
   },
   {
    "duration": 18,
    "start_time": "2021-07-07T16:52:35.616Z"
   },
   {
    "duration": 6,
    "start_time": "2021-07-07T16:52:36.913Z"
   },
   {
    "duration": 11,
    "start_time": "2021-07-07T16:52:40.258Z"
   },
   {
    "duration": 10,
    "start_time": "2021-07-07T16:52:46.251Z"
   },
   {
    "duration": 8,
    "start_time": "2021-07-07T16:52:47.182Z"
   },
   {
    "duration": 27,
    "start_time": "2021-07-07T16:53:20.391Z"
   },
   {
    "duration": 20,
    "start_time": "2021-07-07T16:53:22.022Z"
   },
   {
    "duration": 23,
    "start_time": "2021-07-07T16:53:23.690Z"
   },
   {
    "duration": 8,
    "start_time": "2021-07-07T16:53:24.261Z"
   },
   {
    "duration": 4,
    "start_time": "2021-07-07T16:53:38.733Z"
   },
   {
    "duration": 7,
    "start_time": "2021-07-07T16:53:40.445Z"
   },
   {
    "duration": 11,
    "start_time": "2021-07-07T16:53:41.348Z"
   },
   {
    "duration": 13,
    "start_time": "2021-07-07T16:53:45.250Z"
   },
   {
    "duration": 12,
    "start_time": "2021-07-07T16:53:45.467Z"
   },
   {
    "duration": 4,
    "start_time": "2021-07-07T16:55:32.704Z"
   },
   {
    "duration": 12,
    "start_time": "2021-07-07T16:55:49.012Z"
   },
   {
    "duration": 18,
    "start_time": "2021-07-07T16:55:49.547Z"
   },
   {
    "duration": 611,
    "start_time": "2021-07-07T16:58:35.156Z"
   },
   {
    "duration": 200,
    "start_time": "2021-07-07T16:58:35.770Z"
   },
   {
    "duration": 86,
    "start_time": "2021-07-07T16:58:35.972Z"
   },
   {
    "duration": 3,
    "start_time": "2021-07-07T16:58:36.060Z"
   },
   {
    "duration": 27,
    "start_time": "2021-07-07T16:58:36.065Z"
   },
   {
    "duration": 8,
    "start_time": "2021-07-07T16:58:36.094Z"
   },
   {
    "duration": 17,
    "start_time": "2021-07-07T16:58:36.103Z"
   },
   {
    "duration": 5,
    "start_time": "2021-07-07T16:58:36.123Z"
   },
   {
    "duration": 11,
    "start_time": "2021-07-07T16:58:36.130Z"
   },
   {
    "duration": 7,
    "start_time": "2021-07-07T16:58:36.143Z"
   },
   {
    "duration": 37,
    "start_time": "2021-07-07T16:58:36.152Z"
   },
   {
    "duration": 27,
    "start_time": "2021-07-07T16:58:36.191Z"
   },
   {
    "duration": 19,
    "start_time": "2021-07-07T16:58:36.219Z"
   },
   {
    "duration": 49,
    "start_time": "2021-07-07T16:58:36.240Z"
   },
   {
    "duration": 6,
    "start_time": "2021-07-07T16:58:36.291Z"
   },
   {
    "duration": 3,
    "start_time": "2021-07-07T16:58:36.299Z"
   },
   {
    "duration": 13,
    "start_time": "2021-07-07T16:58:36.304Z"
   },
   {
    "duration": 10,
    "start_time": "2021-07-07T16:58:36.319Z"
   },
   {
    "duration": 10,
    "start_time": "2021-07-07T16:58:36.331Z"
   },
   {
    "duration": 44,
    "start_time": "2021-07-07T16:58:36.343Z"
   },
   {
    "duration": 4,
    "start_time": "2021-07-07T16:58:36.388Z"
   },
   {
    "duration": 13,
    "start_time": "2021-07-07T16:58:36.394Z"
   },
   {
    "duration": 16,
    "start_time": "2021-07-07T16:58:36.410Z"
   },
   {
    "duration": 8,
    "start_time": "2021-07-07T17:02:31.629Z"
   },
   {
    "duration": 8,
    "start_time": "2021-07-07T17:02:34.308Z"
   },
   {
    "duration": 6,
    "start_time": "2021-07-07T17:05:13.483Z"
   },
   {
    "duration": 17,
    "start_time": "2021-07-07T17:05:20.606Z"
   },
   {
    "duration": 7,
    "start_time": "2021-07-07T17:05:34.638Z"
   },
   {
    "duration": 3,
    "start_time": "2021-07-07T17:06:31.883Z"
   },
   {
    "duration": 570,
    "start_time": "2021-07-07T17:06:37.165Z"
   },
   {
    "duration": 174,
    "start_time": "2021-07-07T17:06:37.737Z"
   },
   {
    "duration": 47,
    "start_time": "2021-07-07T17:06:37.913Z"
   },
   {
    "duration": 3,
    "start_time": "2021-07-07T17:06:37.962Z"
   },
   {
    "duration": 27,
    "start_time": "2021-07-07T17:06:37.967Z"
   },
   {
    "duration": 7,
    "start_time": "2021-07-07T17:06:37.996Z"
   },
   {
    "duration": 16,
    "start_time": "2021-07-07T17:06:38.005Z"
   },
   {
    "duration": 6,
    "start_time": "2021-07-07T17:06:38.024Z"
   },
   {
    "duration": 12,
    "start_time": "2021-07-07T17:06:38.031Z"
   },
   {
    "duration": 41,
    "start_time": "2021-07-07T17:06:38.045Z"
   },
   {
    "duration": 8,
    "start_time": "2021-07-07T17:06:38.088Z"
   },
   {
    "duration": 26,
    "start_time": "2021-07-07T17:06:38.098Z"
   },
   {
    "duration": 17,
    "start_time": "2021-07-07T17:06:38.126Z"
   },
   {
    "duration": 43,
    "start_time": "2021-07-07T17:06:38.144Z"
   },
   {
    "duration": 6,
    "start_time": "2021-07-07T17:06:38.188Z"
   },
   {
    "duration": 5,
    "start_time": "2021-07-07T17:06:38.195Z"
   },
   {
    "duration": 9,
    "start_time": "2021-07-07T17:06:38.201Z"
   },
   {
    "duration": 12,
    "start_time": "2021-07-07T17:06:38.212Z"
   },
   {
    "duration": 11,
    "start_time": "2021-07-07T17:06:38.226Z"
   },
   {
    "duration": 47,
    "start_time": "2021-07-07T17:06:38.239Z"
   },
   {
    "duration": 4,
    "start_time": "2021-07-07T17:06:38.288Z"
   },
   {
    "duration": 13,
    "start_time": "2021-07-07T17:06:38.293Z"
   },
   {
    "duration": 5,
    "start_time": "2021-07-07T17:06:38.309Z"
   },
   {
    "duration": 18,
    "start_time": "2021-07-07T17:06:38.325Z"
   },
   {
    "duration": 20,
    "start_time": "2021-07-07T17:07:02.805Z"
   },
   {
    "duration": 19,
    "start_time": "2021-07-07T17:07:08.527Z"
   },
   {
    "duration": 19,
    "start_time": "2021-07-07T17:07:12.758Z"
   },
   {
    "duration": 22,
    "start_time": "2021-07-07T17:07:17.497Z"
   },
   {
    "duration": 19,
    "start_time": "2021-07-07T17:07:19.645Z"
   },
   {
    "duration": 10,
    "start_time": "2021-07-07T17:07:34.239Z"
   },
   {
    "duration": 17,
    "start_time": "2021-07-07T17:07:54.144Z"
   },
   {
    "duration": 14,
    "start_time": "2021-07-07T17:08:14.357Z"
   },
   {
    "duration": 616,
    "start_time": "2021-07-07T17:08:45.254Z"
   },
   {
    "duration": 178,
    "start_time": "2021-07-07T17:08:45.872Z"
   },
   {
    "duration": 60,
    "start_time": "2021-07-07T17:08:46.054Z"
   },
   {
    "duration": 3,
    "start_time": "2021-07-07T17:08:46.116Z"
   },
   {
    "duration": 26,
    "start_time": "2021-07-07T17:08:46.121Z"
   },
   {
    "duration": 7,
    "start_time": "2021-07-07T17:08:46.149Z"
   },
   {
    "duration": 17,
    "start_time": "2021-07-07T17:08:46.158Z"
   },
   {
    "duration": 14,
    "start_time": "2021-07-07T17:08:46.176Z"
   },
   {
    "duration": 17,
    "start_time": "2021-07-07T17:08:46.193Z"
   },
   {
    "duration": 9,
    "start_time": "2021-07-07T17:08:46.211Z"
   },
   {
    "duration": 21,
    "start_time": "2021-07-07T17:08:46.221Z"
   },
   {
    "duration": 49,
    "start_time": "2021-07-07T17:08:46.244Z"
   },
   {
    "duration": 24,
    "start_time": "2021-07-07T17:08:46.295Z"
   },
   {
    "duration": 22,
    "start_time": "2021-07-07T17:08:46.321Z"
   },
   {
    "duration": 6,
    "start_time": "2021-07-07T17:08:46.345Z"
   },
   {
    "duration": 5,
    "start_time": "2021-07-07T17:08:46.353Z"
   },
   {
    "duration": 13,
    "start_time": "2021-07-07T17:08:46.386Z"
   },
   {
    "duration": 12,
    "start_time": "2021-07-07T17:08:46.402Z"
   },
   {
    "duration": 10,
    "start_time": "2021-07-07T17:08:46.415Z"
   },
   {
    "duration": 7,
    "start_time": "2021-07-07T17:08:46.427Z"
   },
   {
    "duration": 8,
    "start_time": "2021-07-07T17:08:46.435Z"
   },
   {
    "duration": 68,
    "start_time": "2021-07-07T17:08:46.446Z"
   },
   {
    "duration": 13,
    "start_time": "2021-07-07T17:08:46.516Z"
   },
   {
    "duration": 78,
    "start_time": "2021-07-07T17:08:46.530Z"
   },
   {
    "duration": 40,
    "start_time": "2021-07-07T17:09:08.185Z"
   },
   {
    "duration": 16,
    "start_time": "2021-07-07T17:09:19.324Z"
   },
   {
    "duration": 21,
    "start_time": "2021-07-07T17:09:23.290Z"
   },
   {
    "duration": 13,
    "start_time": "2021-07-07T17:09:54.812Z"
   },
   {
    "duration": 13,
    "start_time": "2021-07-07T17:10:02.039Z"
   },
   {
    "duration": 10,
    "start_time": "2021-07-07T17:10:29.632Z"
   },
   {
    "duration": 13,
    "start_time": "2021-07-07T17:10:52.372Z"
   },
   {
    "duration": 13,
    "start_time": "2021-07-07T17:11:17.270Z"
   },
   {
    "duration": 13,
    "start_time": "2021-07-07T17:14:59.284Z"
   },
   {
    "duration": 547,
    "start_time": "2021-07-07T17:18:52.403Z"
   },
   {
    "duration": 163,
    "start_time": "2021-07-07T17:18:52.952Z"
   },
   {
    "duration": 44,
    "start_time": "2021-07-07T17:18:53.117Z"
   },
   {
    "duration": 3,
    "start_time": "2021-07-07T17:18:53.162Z"
   },
   {
    "duration": 26,
    "start_time": "2021-07-07T17:18:53.167Z"
   },
   {
    "duration": 6,
    "start_time": "2021-07-07T17:18:53.195Z"
   },
   {
    "duration": 15,
    "start_time": "2021-07-07T17:18:53.203Z"
   },
   {
    "duration": 5,
    "start_time": "2021-07-07T17:18:53.220Z"
   },
   {
    "duration": 11,
    "start_time": "2021-07-07T17:18:53.228Z"
   },
   {
    "duration": 9,
    "start_time": "2021-07-07T17:18:53.241Z"
   },
   {
    "duration": 41,
    "start_time": "2021-07-07T17:18:53.252Z"
   },
   {
    "duration": 33,
    "start_time": "2021-07-07T17:18:53.295Z"
   },
   {
    "duration": 19,
    "start_time": "2021-07-07T17:18:53.330Z"
   },
   {
    "duration": 49,
    "start_time": "2021-07-07T17:18:53.350Z"
   },
   {
    "duration": 5,
    "start_time": "2021-07-07T17:18:53.401Z"
   },
   {
    "duration": 5,
    "start_time": "2021-07-07T17:18:53.408Z"
   },
   {
    "duration": 11,
    "start_time": "2021-07-07T17:18:53.414Z"
   },
   {
    "duration": 9,
    "start_time": "2021-07-07T17:18:53.427Z"
   },
   {
    "duration": 10,
    "start_time": "2021-07-07T17:18:53.437Z"
   },
   {
    "duration": 39,
    "start_time": "2021-07-07T17:18:53.448Z"
   },
   {
    "duration": 26,
    "start_time": "2021-07-07T17:18:55.799Z"
   },
   {
    "duration": 598,
    "start_time": "2021-07-07T17:20:17.862Z"
   },
   {
    "duration": 161,
    "start_time": "2021-07-07T17:20:18.462Z"
   },
   {
    "duration": 45,
    "start_time": "2021-07-07T17:20:18.626Z"
   },
   {
    "duration": 4,
    "start_time": "2021-07-07T17:20:18.673Z"
   },
   {
    "duration": 38,
    "start_time": "2021-07-07T17:20:26.877Z"
   },
   {
    "duration": 7,
    "start_time": "2021-07-07T17:20:37.405Z"
   },
   {
    "duration": 19,
    "start_time": "2021-07-07T17:20:51.534Z"
   },
   {
    "duration": 5,
    "start_time": "2021-07-07T17:20:57.228Z"
   },
   {
    "duration": 7,
    "start_time": "2021-07-07T17:21:08.235Z"
   },
   {
    "duration": 19,
    "start_time": "2021-07-07T17:21:42.158Z"
   },
   {
    "duration": 14,
    "start_time": "2021-07-07T17:21:50.225Z"
   },
   {
    "duration": 22,
    "start_time": "2021-07-07T17:22:54.104Z"
   },
   {
    "duration": 5,
    "start_time": "2021-07-07T17:22:56.371Z"
   },
   {
    "duration": 14,
    "start_time": "2021-07-07T17:22:58.316Z"
   },
   {
    "duration": 5,
    "start_time": "2021-07-07T17:22:58.493Z"
   },
   {
    "duration": 35,
    "start_time": "2021-07-07T17:22:59.666Z"
   },
   {
    "duration": 6,
    "start_time": "2021-07-07T17:23:02.410Z"
   },
   {
    "duration": 611,
    "start_time": "2021-07-07T17:24:59.664Z"
   },
   {
    "duration": 178,
    "start_time": "2021-07-07T17:25:01.945Z"
   },
   {
    "duration": 47,
    "start_time": "2021-07-07T17:25:02.125Z"
   },
   {
    "duration": 2,
    "start_time": "2021-07-07T17:25:07.903Z"
   },
   {
    "duration": 254,
    "start_time": "2021-07-07T17:25:08.232Z"
   },
   {
    "duration": 182,
    "start_time": "2021-07-07T17:25:08.671Z"
   },
   {
    "duration": 6,
    "start_time": "2021-07-07T17:25:13.104Z"
   },
   {
    "duration": 36,
    "start_time": "2021-07-07T17:25:13.662Z"
   },
   {
    "duration": 7,
    "start_time": "2021-07-07T17:25:14.528Z"
   },
   {
    "duration": 24,
    "start_time": "2021-07-07T17:25:27.982Z"
   },
   {
    "duration": 3,
    "start_time": "2021-07-07T17:25:48.982Z"
   },
   {
    "duration": 165,
    "start_time": "2021-07-07T17:25:48.987Z"
   },
   {
    "duration": 50,
    "start_time": "2021-07-07T17:25:49.154Z"
   },
   {
    "duration": 4,
    "start_time": "2021-07-07T17:25:49.206Z"
   },
   {
    "duration": 26,
    "start_time": "2021-07-07T17:25:49.212Z"
   },
   {
    "duration": 7,
    "start_time": "2021-07-07T17:25:49.240Z"
   },
   {
    "duration": 16,
    "start_time": "2021-07-07T17:25:49.249Z"
   },
   {
    "duration": 22,
    "start_time": "2021-07-07T17:25:49.266Z"
   },
   {
    "duration": 16,
    "start_time": "2021-07-07T17:25:49.291Z"
   },
   {
    "duration": 9,
    "start_time": "2021-07-07T17:25:49.309Z"
   },
   {
    "duration": 7,
    "start_time": "2021-07-07T17:25:49.319Z"
   },
   {
    "duration": 28,
    "start_time": "2021-07-07T17:25:49.328Z"
   },
   {
    "duration": 44,
    "start_time": "2021-07-07T17:25:49.357Z"
   },
   {
    "duration": 22,
    "start_time": "2021-07-07T17:25:49.403Z"
   },
   {
    "duration": 7,
    "start_time": "2021-07-07T17:25:49.427Z"
   },
   {
    "duration": 3,
    "start_time": "2021-07-07T17:25:49.436Z"
   },
   {
    "duration": 44,
    "start_time": "2021-07-07T17:25:49.441Z"
   },
   {
    "duration": 12,
    "start_time": "2021-07-07T17:25:49.488Z"
   },
   {
    "duration": 13,
    "start_time": "2021-07-07T17:25:49.502Z"
   },
   {
    "duration": 10,
    "start_time": "2021-07-07T17:25:49.516Z"
   },
   {
    "duration": 62,
    "start_time": "2021-07-07T17:25:49.527Z"
   },
   {
    "duration": 26,
    "start_time": "2021-07-07T17:26:51.809Z"
   },
   {
    "duration": 26,
    "start_time": "2021-07-07T17:26:55.759Z"
   },
   {
    "duration": 26,
    "start_time": "2021-07-07T17:27:04.501Z"
   },
   {
    "duration": 25,
    "start_time": "2021-07-07T17:28:24.859Z"
   },
   {
    "duration": 21,
    "start_time": "2021-07-07T17:28:55.250Z"
   },
   {
    "duration": 21,
    "start_time": "2021-07-07T17:28:58.885Z"
   },
   {
    "duration": 7,
    "start_time": "2021-07-07T17:45:40.972Z"
   },
   {
    "duration": 13,
    "start_time": "2021-07-07T17:45:42.529Z"
   },
   {
    "duration": 27,
    "start_time": "2021-07-07T17:45:51.026Z"
   },
   {
    "duration": 518,
    "start_time": "2021-07-07T17:46:15.532Z"
   },
   {
    "duration": 235,
    "start_time": "2021-07-07T17:46:16.053Z"
   },
   {
    "duration": 80,
    "start_time": "2021-07-07T17:46:16.292Z"
   },
   {
    "duration": 5,
    "start_time": "2021-07-07T17:46:16.373Z"
   },
   {
    "duration": 26,
    "start_time": "2021-07-07T17:46:16.380Z"
   },
   {
    "duration": 7,
    "start_time": "2021-07-07T17:46:16.408Z"
   },
   {
    "duration": 16,
    "start_time": "2021-07-07T17:46:16.418Z"
   },
   {
    "duration": 5,
    "start_time": "2021-07-07T17:46:16.436Z"
   },
   {
    "duration": 13,
    "start_time": "2021-07-07T17:46:16.442Z"
   },
   {
    "duration": 35,
    "start_time": "2021-07-07T17:46:16.456Z"
   },
   {
    "duration": 8,
    "start_time": "2021-07-07T17:46:16.493Z"
   },
   {
    "duration": 28,
    "start_time": "2021-07-07T17:46:16.502Z"
   },
   {
    "duration": 17,
    "start_time": "2021-07-07T17:46:16.532Z"
   },
   {
    "duration": 44,
    "start_time": "2021-07-07T17:46:16.551Z"
   },
   {
    "duration": 6,
    "start_time": "2021-07-07T17:46:16.597Z"
   },
   {
    "duration": 4,
    "start_time": "2021-07-07T17:46:16.605Z"
   },
   {
    "duration": 9,
    "start_time": "2021-07-07T17:46:16.610Z"
   },
   {
    "duration": 9,
    "start_time": "2021-07-07T17:46:16.621Z"
   },
   {
    "duration": 10,
    "start_time": "2021-07-07T17:46:16.632Z"
   },
   {
    "duration": 43,
    "start_time": "2021-07-07T17:46:16.644Z"
   },
   {
    "duration": 26,
    "start_time": "2021-07-07T17:46:16.689Z"
   },
   {
    "duration": 19,
    "start_time": "2021-07-07T17:46:16.718Z"
   },
   {
    "duration": 8,
    "start_time": "2021-07-07T17:46:16.738Z"
   },
   {
    "duration": 43,
    "start_time": "2021-07-07T17:46:16.747Z"
   },
   {
    "duration": 19,
    "start_time": "2021-07-07T17:46:16.791Z"
   },
   {
    "duration": 9,
    "start_time": "2021-07-07T17:46:16.812Z"
   },
   {
    "duration": 60,
    "start_time": "2021-07-07T17:46:16.822Z"
   },
   {
    "duration": -8,
    "start_time": "2021-07-07T17:46:16.892Z"
   },
   {
    "duration": 12,
    "start_time": "2021-07-07T17:48:47.707Z"
   },
   {
    "duration": 553,
    "start_time": "2021-07-07T18:10:09.350Z"
   },
   {
    "duration": 230,
    "start_time": "2021-07-07T18:10:09.905Z"
   },
   {
    "duration": 97,
    "start_time": "2021-07-07T18:10:10.137Z"
   },
   {
    "duration": 5,
    "start_time": "2021-07-07T18:10:10.236Z"
   },
   {
    "duration": 29,
    "start_time": "2021-07-07T18:10:10.242Z"
   },
   {
    "duration": 7,
    "start_time": "2021-07-07T18:10:10.272Z"
   },
   {
    "duration": 15,
    "start_time": "2021-07-07T18:10:10.281Z"
   },
   {
    "duration": 4,
    "start_time": "2021-07-07T18:10:10.299Z"
   },
   {
    "duration": 14,
    "start_time": "2021-07-07T18:10:10.305Z"
   },
   {
    "duration": 8,
    "start_time": "2021-07-07T18:10:10.321Z"
   },
   {
    "duration": 8,
    "start_time": "2021-07-07T18:10:10.331Z"
   },
   {
    "duration": 56,
    "start_time": "2021-07-07T18:10:10.341Z"
   },
   {
    "duration": 19,
    "start_time": "2021-07-07T18:10:10.399Z"
   },
   {
    "duration": 23,
    "start_time": "2021-07-07T18:10:10.419Z"
   },
   {
    "duration": 6,
    "start_time": "2021-07-07T18:10:10.444Z"
   },
   {
    "duration": 9,
    "start_time": "2021-07-07T18:10:10.451Z"
   },
   {
    "duration": 30,
    "start_time": "2021-07-07T18:10:10.462Z"
   },
   {
    "duration": 9,
    "start_time": "2021-07-07T18:10:10.494Z"
   },
   {
    "duration": 14,
    "start_time": "2021-07-07T18:10:10.505Z"
   },
   {
    "duration": 7,
    "start_time": "2021-07-07T18:10:10.521Z"
   },
   {
    "duration": 26,
    "start_time": "2021-07-07T18:10:10.530Z"
   },
   {
    "duration": 44,
    "start_time": "2021-07-07T18:10:10.558Z"
   },
   {
    "duration": 7,
    "start_time": "2021-07-07T18:10:10.605Z"
   },
   {
    "duration": 11,
    "start_time": "2021-07-07T18:10:10.614Z"
   },
   {
    "duration": 19,
    "start_time": "2021-07-07T18:10:10.626Z"
   },
   {
    "duration": 44,
    "start_time": "2021-07-07T18:10:10.646Z"
   },
   {
    "duration": 516,
    "start_time": "2021-07-07T18:14:00.826Z"
   },
   {
    "duration": 230,
    "start_time": "2021-07-07T18:14:01.344Z"
   },
   {
    "duration": 105,
    "start_time": "2021-07-07T18:14:01.576Z"
   },
   {
    "duration": 5,
    "start_time": "2021-07-07T18:14:01.683Z"
   },
   {
    "duration": 46,
    "start_time": "2021-07-07T18:14:01.690Z"
   },
   {
    "duration": 7,
    "start_time": "2021-07-07T18:14:01.738Z"
   },
   {
    "duration": 20,
    "start_time": "2021-07-07T18:14:01.747Z"
   },
   {
    "duration": 16,
    "start_time": "2021-07-07T18:14:01.769Z"
   },
   {
    "duration": 14,
    "start_time": "2021-07-07T18:14:01.787Z"
   },
   {
    "duration": 15,
    "start_time": "2021-07-07T18:14:01.803Z"
   },
   {
    "duration": 12,
    "start_time": "2021-07-07T18:14:01.820Z"
   },
   {
    "duration": 35,
    "start_time": "2021-07-07T18:14:01.833Z"
   },
   {
    "duration": 31,
    "start_time": "2021-07-07T18:14:01.869Z"
   },
   {
    "duration": 37,
    "start_time": "2021-07-07T18:14:01.902Z"
   },
   {
    "duration": 8,
    "start_time": "2021-07-07T18:14:01.942Z"
   },
   {
    "duration": 16,
    "start_time": "2021-07-07T18:14:01.952Z"
   },
   {
    "duration": 13,
    "start_time": "2021-07-07T18:14:01.970Z"
   },
   {
    "duration": 32,
    "start_time": "2021-07-07T18:14:01.985Z"
   },
   {
    "duration": 11,
    "start_time": "2021-07-07T18:14:02.019Z"
   },
   {
    "duration": 22,
    "start_time": "2021-07-07T18:14:02.031Z"
   },
   {
    "duration": 27,
    "start_time": "2021-07-07T18:14:02.055Z"
   },
   {
    "duration": 18,
    "start_time": "2021-07-07T18:14:02.084Z"
   },
   {
    "duration": 18,
    "start_time": "2021-07-07T18:14:02.106Z"
   },
   {
    "duration": 11,
    "start_time": "2021-07-07T18:14:02.126Z"
   },
   {
    "duration": 21,
    "start_time": "2021-07-07T18:14:02.138Z"
   },
   {
    "duration": 32,
    "start_time": "2021-07-07T18:14:02.161Z"
   },
   {
    "duration": 28,
    "start_time": "2021-07-07T18:14:44.295Z"
   },
   {
    "duration": 6,
    "start_time": "2021-07-07T18:15:05.834Z"
   },
   {
    "duration": 511,
    "start_time": "2021-07-07T18:15:41.541Z"
   },
   {
    "duration": 183,
    "start_time": "2021-07-07T18:15:42.054Z"
   },
   {
    "duration": 50,
    "start_time": "2021-07-07T18:15:42.239Z"
   },
   {
    "duration": 5,
    "start_time": "2021-07-07T18:15:42.291Z"
   },
   {
    "duration": 48,
    "start_time": "2021-07-07T18:15:42.297Z"
   },
   {
    "duration": 8,
    "start_time": "2021-07-07T18:15:42.346Z"
   },
   {
    "duration": 17,
    "start_time": "2021-07-07T18:15:42.356Z"
   },
   {
    "duration": 15,
    "start_time": "2021-07-07T18:15:42.375Z"
   },
   {
    "duration": 12,
    "start_time": "2021-07-07T18:15:42.392Z"
   },
   {
    "duration": 7,
    "start_time": "2021-07-07T18:15:42.406Z"
   },
   {
    "duration": 7,
    "start_time": "2021-07-07T18:15:42.415Z"
   },
   {
    "duration": 29,
    "start_time": "2021-07-07T18:15:42.423Z"
   },
   {
    "duration": 43,
    "start_time": "2021-07-07T18:15:42.453Z"
   },
   {
    "duration": 18,
    "start_time": "2021-07-07T18:15:42.497Z"
   },
   {
    "duration": 6,
    "start_time": "2021-07-07T18:15:42.516Z"
   },
   {
    "duration": 3,
    "start_time": "2021-07-07T18:15:42.523Z"
   },
   {
    "duration": 18,
    "start_time": "2021-07-07T18:15:42.528Z"
   },
   {
    "duration": 10,
    "start_time": "2021-07-07T18:15:42.547Z"
   },
   {
    "duration": 36,
    "start_time": "2021-07-07T18:15:42.559Z"
   },
   {
    "duration": 8,
    "start_time": "2021-07-07T18:15:42.597Z"
   },
   {
    "duration": 28,
    "start_time": "2021-07-07T18:15:42.606Z"
   },
   {
    "duration": 52,
    "start_time": "2021-07-07T18:15:42.635Z"
   },
   {
    "duration": 7,
    "start_time": "2021-07-07T18:15:42.690Z"
   },
   {
    "duration": 10,
    "start_time": "2021-07-07T18:15:42.699Z"
   },
   {
    "duration": 19,
    "start_time": "2021-07-07T18:15:42.711Z"
   },
   {
    "duration": 9,
    "start_time": "2021-07-07T18:15:42.732Z"
   },
   {
    "duration": 5,
    "start_time": "2021-07-07T18:15:42.743Z"
   },
   {
    "duration": 1450,
    "start_time": "2021-07-07T18:15:51.984Z"
   },
   {
    "duration": 161,
    "start_time": "2021-07-07T18:15:53.435Z"
   },
   {
    "duration": 124,
    "start_time": "2021-07-07T18:15:53.598Z"
   },
   {
    "duration": 5,
    "start_time": "2021-07-07T18:15:53.724Z"
   },
   {
    "duration": 34,
    "start_time": "2021-07-07T18:15:53.730Z"
   },
   {
    "duration": 7,
    "start_time": "2021-07-07T18:15:53.765Z"
   },
   {
    "duration": 15,
    "start_time": "2021-07-07T18:15:53.773Z"
   },
   {
    "duration": 5,
    "start_time": "2021-07-07T18:15:53.791Z"
   },
   {
    "duration": 19,
    "start_time": "2021-07-07T18:15:53.798Z"
   },
   {
    "duration": 9,
    "start_time": "2021-07-07T18:15:53.818Z"
   },
   {
    "duration": 19,
    "start_time": "2021-07-07T18:15:53.828Z"
   },
   {
    "duration": 27,
    "start_time": "2021-07-07T18:15:53.848Z"
   },
   {
    "duration": 16,
    "start_time": "2021-07-07T18:15:53.884Z"
   },
   {
    "duration": 29,
    "start_time": "2021-07-07T18:15:53.901Z"
   },
   {
    "duration": 5,
    "start_time": "2021-07-07T18:15:53.932Z"
   },
   {
    "duration": 15,
    "start_time": "2021-07-07T18:15:53.939Z"
   },
   {
    "duration": 13,
    "start_time": "2021-07-07T18:15:53.956Z"
   },
   {
    "duration": 20,
    "start_time": "2021-07-07T18:15:53.971Z"
   },
   {
    "duration": 14,
    "start_time": "2021-07-07T18:15:53.992Z"
   },
   {
    "duration": 9,
    "start_time": "2021-07-07T18:15:54.009Z"
   },
   {
    "duration": 28,
    "start_time": "2021-07-07T18:15:54.020Z"
   },
   {
    "duration": 50,
    "start_time": "2021-07-07T18:15:54.051Z"
   },
   {
    "duration": 8,
    "start_time": "2021-07-07T18:15:54.105Z"
   },
   {
    "duration": 11,
    "start_time": "2021-07-07T18:15:54.115Z"
   },
   {
    "duration": 20,
    "start_time": "2021-07-07T18:15:54.128Z"
   },
   {
    "duration": 13,
    "start_time": "2021-07-07T18:15:54.184Z"
   },
   {
    "duration": 7,
    "start_time": "2021-07-07T18:15:54.199Z"
   },
   {
    "duration": 7,
    "start_time": "2021-07-07T18:17:08.042Z"
   },
   {
    "duration": 8,
    "start_time": "2021-07-07T18:17:21.008Z"
   },
   {
    "duration": 7,
    "start_time": "2021-07-07T18:17:29.003Z"
   },
   {
    "duration": 8,
    "start_time": "2021-07-07T18:17:32.492Z"
   },
   {
    "duration": 9,
    "start_time": "2021-07-07T18:17:41.758Z"
   },
   {
    "duration": 255,
    "start_time": "2021-07-07T18:20:20.897Z"
   },
   {
    "duration": 173,
    "start_time": "2021-07-07T18:20:26.636Z"
   },
   {
    "duration": 7,
    "start_time": "2021-07-07T18:21:47.164Z"
   },
   {
    "duration": 254,
    "start_time": "2021-07-07T18:23:08.703Z"
   },
   {
    "duration": 21,
    "start_time": "2021-07-07T18:23:22.506Z"
   },
   {
    "duration": 315,
    "start_time": "2021-07-07T18:25:54.801Z"
   },
   {
    "duration": 34,
    "start_time": "2021-07-07T18:26:51.817Z"
   },
   {
    "duration": 327,
    "start_time": "2021-07-07T18:26:56.147Z"
   },
   {
    "duration": 342,
    "start_time": "2021-07-07T18:27:15.887Z"
   },
   {
    "duration": 302,
    "start_time": "2021-07-07T18:28:18.569Z"
   },
   {
    "duration": 226,
    "start_time": "2021-07-07T18:29:20.879Z"
   },
   {
    "duration": 207,
    "start_time": "2021-07-07T18:29:58.114Z"
   },
   {
    "duration": 140,
    "start_time": "2021-07-07T18:32:04.372Z"
   },
   {
    "duration": 158,
    "start_time": "2021-07-07T18:32:32.508Z"
   },
   {
    "duration": 145,
    "start_time": "2021-07-07T18:32:41.365Z"
   },
   {
    "duration": 132,
    "start_time": "2021-07-07T18:32:45.199Z"
   },
   {
    "duration": 11,
    "start_time": "2021-07-07T18:35:24.679Z"
   },
   {
    "duration": 268,
    "start_time": "2021-07-07T18:36:16.145Z"
   },
   {
    "duration": 227,
    "start_time": "2021-07-07T18:37:04.918Z"
   },
   {
    "duration": 3,
    "start_time": "2021-07-07T18:37:33.012Z"
   },
   {
    "duration": 671,
    "start_time": "2021-07-07T18:37:38.295Z"
   },
   {
    "duration": 54,
    "start_time": "2021-07-07T18:37:53.406Z"
   },
   {
    "duration": 631,
    "start_time": "2021-07-07T18:37:56.463Z"
   },
   {
    "duration": 19,
    "start_time": "2021-07-07T18:39:40.535Z"
   },
   {
    "duration": 20,
    "start_time": "2021-07-07T18:40:12.236Z"
   },
   {
    "duration": 633,
    "start_time": "2021-07-07T18:42:00.398Z"
   },
   {
    "duration": 218,
    "start_time": "2021-07-07T18:42:01.033Z"
   },
   {
    "duration": 49,
    "start_time": "2021-07-07T18:42:01.253Z"
   },
   {
    "duration": 5,
    "start_time": "2021-07-07T18:42:01.303Z"
   },
   {
    "duration": 27,
    "start_time": "2021-07-07T18:42:01.310Z"
   },
   {
    "duration": 8,
    "start_time": "2021-07-07T18:42:01.339Z"
   },
   {
    "duration": 20,
    "start_time": "2021-07-07T18:42:01.348Z"
   },
   {
    "duration": 6,
    "start_time": "2021-07-07T18:42:01.386Z"
   },
   {
    "duration": 16,
    "start_time": "2021-07-07T18:42:01.394Z"
   },
   {
    "duration": 9,
    "start_time": "2021-07-07T18:42:01.411Z"
   },
   {
    "duration": 11,
    "start_time": "2021-07-07T18:42:01.421Z"
   },
   {
    "duration": 31,
    "start_time": "2021-07-07T18:42:01.434Z"
   },
   {
    "duration": 18,
    "start_time": "2021-07-07T18:42:01.485Z"
   },
   {
    "duration": 23,
    "start_time": "2021-07-07T18:42:01.505Z"
   },
   {
    "duration": 6,
    "start_time": "2021-07-07T18:42:01.530Z"
   },
   {
    "duration": 10,
    "start_time": "2021-07-07T18:42:01.538Z"
   },
   {
    "duration": 13,
    "start_time": "2021-07-07T18:42:01.550Z"
   },
   {
    "duration": 24,
    "start_time": "2021-07-07T18:42:01.564Z"
   },
   {
    "duration": 20,
    "start_time": "2021-07-07T18:42:01.590Z"
   },
   {
    "duration": 8,
    "start_time": "2021-07-07T18:42:01.611Z"
   },
   {
    "duration": 31,
    "start_time": "2021-07-07T18:42:01.620Z"
   },
   {
    "duration": 39,
    "start_time": "2021-07-07T18:42:01.653Z"
   },
   {
    "duration": 8,
    "start_time": "2021-07-07T18:42:01.696Z"
   },
   {
    "duration": 13,
    "start_time": "2021-07-07T18:42:01.705Z"
   },
   {
    "duration": 20,
    "start_time": "2021-07-07T18:42:01.720Z"
   },
   {
    "duration": 12,
    "start_time": "2021-07-07T18:42:01.741Z"
   },
   {
    "duration": 35,
    "start_time": "2021-07-07T18:42:01.755Z"
   },
   {
    "duration": 14,
    "start_time": "2021-07-07T18:42:01.792Z"
   },
   {
    "duration": 188,
    "start_time": "2021-07-07T18:42:01.808Z"
   },
   {
    "duration": 19,
    "start_time": "2021-07-07T18:42:01.998Z"
   },
   {
    "duration": 175,
    "start_time": "2021-07-07T18:42:02.019Z"
   },
   {
    "duration": 134,
    "start_time": "2021-07-07T18:42:02.196Z"
   },
   {
    "duration": 10,
    "start_time": "2021-07-07T18:42:02.331Z"
   },
   {
    "duration": 19,
    "start_time": "2021-07-07T18:42:02.343Z"
   },
   {
    "duration": 628,
    "start_time": "2021-07-07T18:46:30.701Z"
   },
   {
    "duration": 183,
    "start_time": "2021-07-07T18:46:31.331Z"
   },
   {
    "duration": 48,
    "start_time": "2021-07-07T18:46:31.516Z"
   },
   {
    "duration": 5,
    "start_time": "2021-07-07T18:46:31.566Z"
   },
   {
    "duration": 28,
    "start_time": "2021-07-07T18:46:31.572Z"
   },
   {
    "duration": 8,
    "start_time": "2021-07-07T18:46:31.602Z"
   },
   {
    "duration": 19,
    "start_time": "2021-07-07T18:46:31.611Z"
   },
   {
    "duration": 6,
    "start_time": "2021-07-07T18:46:31.633Z"
   },
   {
    "duration": 17,
    "start_time": "2021-07-07T18:46:31.642Z"
   },
   {
    "duration": 10,
    "start_time": "2021-07-07T18:46:31.684Z"
   },
   {
    "duration": 9,
    "start_time": "2021-07-07T18:46:31.695Z"
   },
   {
    "duration": 28,
    "start_time": "2021-07-07T18:46:31.705Z"
   },
   {
    "duration": 18,
    "start_time": "2021-07-07T18:46:31.735Z"
   },
   {
    "duration": 48,
    "start_time": "2021-07-07T18:46:31.755Z"
   },
   {
    "duration": 6,
    "start_time": "2021-07-07T18:46:31.804Z"
   },
   {
    "duration": 4,
    "start_time": "2021-07-07T18:46:31.812Z"
   },
   {
    "duration": 9,
    "start_time": "2021-07-07T18:46:31.817Z"
   },
   {
    "duration": 10,
    "start_time": "2021-07-07T18:46:31.827Z"
   },
   {
    "duration": 12,
    "start_time": "2021-07-07T18:46:31.838Z"
   },
   {
    "duration": 39,
    "start_time": "2021-07-07T18:46:31.851Z"
   },
   {
    "duration": 24,
    "start_time": "2021-07-07T18:46:31.892Z"
   },
   {
    "duration": 15,
    "start_time": "2021-07-07T18:46:31.918Z"
   },
   {
    "duration": 7,
    "start_time": "2021-07-07T18:46:31.936Z"
   },
   {
    "duration": 8,
    "start_time": "2021-07-07T18:46:31.944Z"
   },
   {
    "duration": 19,
    "start_time": "2021-07-07T18:46:31.984Z"
   },
   {
    "duration": 10,
    "start_time": "2021-07-07T18:46:32.004Z"
   },
   {
    "duration": 5,
    "start_time": "2021-07-07T18:46:32.016Z"
   },
   {
    "duration": 9,
    "start_time": "2021-07-07T18:46:32.023Z"
   },
   {
    "duration": 199,
    "start_time": "2021-07-07T18:46:32.033Z"
   },
   {
    "duration": 19,
    "start_time": "2021-07-07T18:46:32.234Z"
   },
   {
    "duration": 159,
    "start_time": "2021-07-07T18:46:32.255Z"
   },
   {
    "duration": 134,
    "start_time": "2021-07-07T18:46:32.416Z"
   },
   {
    "duration": 10,
    "start_time": "2021-07-07T18:46:32.552Z"
   },
   {
    "duration": 34,
    "start_time": "2021-07-07T18:46:32.563Z"
   },
   {
    "duration": 1039,
    "start_time": "2021-07-08T08:41:09.419Z"
   },
   {
    "duration": 333,
    "start_time": "2021-07-08T08:41:10.459Z"
   },
   {
    "duration": 173,
    "start_time": "2021-07-08T08:41:10.794Z"
   },
   {
    "duration": 5,
    "start_time": "2021-07-08T08:41:10.968Z"
   },
   {
    "duration": 25,
    "start_time": "2021-07-08T08:41:10.975Z"
   },
   {
    "duration": 9,
    "start_time": "2021-07-08T08:41:11.002Z"
   },
   {
    "duration": 18,
    "start_time": "2021-07-08T08:41:11.013Z"
   },
   {
    "duration": 6,
    "start_time": "2021-07-08T08:41:11.033Z"
   },
   {
    "duration": 44,
    "start_time": "2021-07-08T08:41:11.042Z"
   },
   {
    "duration": 10,
    "start_time": "2021-07-08T08:41:11.088Z"
   },
   {
    "duration": 9,
    "start_time": "2021-07-08T08:41:11.100Z"
   },
   {
    "duration": 27,
    "start_time": "2021-07-08T08:41:11.111Z"
   },
   {
    "duration": 46,
    "start_time": "2021-07-08T08:41:11.140Z"
   },
   {
    "duration": 17,
    "start_time": "2021-07-08T08:41:11.187Z"
   },
   {
    "duration": 6,
    "start_time": "2021-07-08T08:41:11.206Z"
   },
   {
    "duration": 5,
    "start_time": "2021-07-08T08:41:11.213Z"
   },
   {
    "duration": 10,
    "start_time": "2021-07-08T08:41:11.219Z"
   },
   {
    "duration": 9,
    "start_time": "2021-07-08T08:41:11.230Z"
   },
   {
    "duration": 45,
    "start_time": "2021-07-08T08:41:11.241Z"
   },
   {
    "duration": 7,
    "start_time": "2021-07-08T08:41:11.287Z"
   },
   {
    "duration": 24,
    "start_time": "2021-07-08T08:41:11.296Z"
   },
   {
    "duration": 16,
    "start_time": "2021-07-08T08:41:11.322Z"
   },
   {
    "duration": 7,
    "start_time": "2021-07-08T08:41:11.341Z"
   },
   {
    "duration": 41,
    "start_time": "2021-07-08T08:41:11.349Z"
   },
   {
    "duration": 17,
    "start_time": "2021-07-08T08:41:11.391Z"
   },
   {
    "duration": 9,
    "start_time": "2021-07-08T08:41:11.410Z"
   },
   {
    "duration": 5,
    "start_time": "2021-07-08T08:41:11.421Z"
   },
   {
    "duration": 6,
    "start_time": "2021-07-08T08:41:11.428Z"
   },
   {
    "duration": 198,
    "start_time": "2021-07-08T08:41:11.435Z"
   },
   {
    "duration": 18,
    "start_time": "2021-07-08T08:41:11.635Z"
   },
   {
    "duration": 155,
    "start_time": "2021-07-08T08:41:11.655Z"
   },
   {
    "duration": 138,
    "start_time": "2021-07-08T08:41:11.811Z"
   },
   {
    "duration": 10,
    "start_time": "2021-07-08T08:41:11.950Z"
   },
   {
    "duration": 29,
    "start_time": "2021-07-08T08:41:11.961Z"
   },
   {
    "duration": 171,
    "start_time": "2021-07-08T08:47:44.522Z"
   },
   {
    "duration": 124,
    "start_time": "2021-07-08T08:47:46.872Z"
   },
   {
    "duration": 191,
    "start_time": "2021-07-08T08:47:58.148Z"
   },
   {
    "duration": 191,
    "start_time": "2021-07-08T08:48:07.412Z"
   },
   {
    "duration": 261,
    "start_time": "2021-07-08T08:48:10.385Z"
   },
   {
    "duration": 255,
    "start_time": "2021-07-08T08:48:14.494Z"
   },
   {
    "duration": 219,
    "start_time": "2021-07-08T08:48:22.752Z"
   },
   {
    "duration": 173,
    "start_time": "2021-07-08T08:49:06.395Z"
   },
   {
    "duration": 180,
    "start_time": "2021-07-08T08:49:21.011Z"
   },
   {
    "duration": 6,
    "start_time": "2021-07-08T08:50:31.697Z"
   },
   {
    "duration": 10,
    "start_time": "2021-07-08T08:50:47.394Z"
   },
   {
    "duration": 11,
    "start_time": "2021-07-08T08:53:49.332Z"
   },
   {
    "duration": 171,
    "start_time": "2021-07-08T08:54:28.408Z"
   },
   {
    "duration": 636,
    "start_time": "2021-07-08T09:02:48.385Z"
   },
   {
    "duration": 227,
    "start_time": "2021-07-08T09:02:49.023Z"
   },
   {
    "duration": 104,
    "start_time": "2021-07-08T09:02:49.252Z"
   },
   {
    "duration": 5,
    "start_time": "2021-07-08T09:02:49.358Z"
   },
   {
    "duration": 27,
    "start_time": "2021-07-08T09:02:49.365Z"
   },
   {
    "duration": 8,
    "start_time": "2021-07-08T09:02:49.394Z"
   },
   {
    "duration": 18,
    "start_time": "2021-07-08T09:02:49.404Z"
   },
   {
    "duration": 6,
    "start_time": "2021-07-08T09:02:49.424Z"
   },
   {
    "duration": 11,
    "start_time": "2021-07-08T09:02:49.433Z"
   },
   {
    "duration": 13,
    "start_time": "2021-07-08T09:02:49.485Z"
   },
   {
    "duration": 9,
    "start_time": "2021-07-08T09:02:49.500Z"
   },
   {
    "duration": 38,
    "start_time": "2021-07-08T09:02:49.511Z"
   },
   {
    "duration": 42,
    "start_time": "2021-07-08T09:02:49.551Z"
   },
   {
    "duration": 21,
    "start_time": "2021-07-08T09:02:49.594Z"
   },
   {
    "duration": 6,
    "start_time": "2021-07-08T09:02:49.616Z"
   },
   {
    "duration": 3,
    "start_time": "2021-07-08T09:02:49.623Z"
   },
   {
    "duration": 9,
    "start_time": "2021-07-08T09:02:49.628Z"
   },
   {
    "duration": 52,
    "start_time": "2021-07-08T09:02:49.638Z"
   },
   {
    "duration": 11,
    "start_time": "2021-07-08T09:02:49.692Z"
   },
   {
    "duration": 8,
    "start_time": "2021-07-08T09:02:49.704Z"
   },
   {
    "duration": 27,
    "start_time": "2021-07-08T09:02:49.713Z"
   },
   {
    "duration": 59,
    "start_time": "2021-07-08T09:02:49.741Z"
   },
   {
    "duration": 8,
    "start_time": "2021-07-08T09:02:49.803Z"
   },
   {
    "duration": 14,
    "start_time": "2021-07-08T09:02:49.813Z"
   },
   {
    "duration": 20,
    "start_time": "2021-07-08T09:02:49.829Z"
   },
   {
    "duration": 44,
    "start_time": "2021-07-08T09:02:49.851Z"
   },
   {
    "duration": 14,
    "start_time": "2021-07-08T09:02:49.896Z"
   },
   {
    "duration": 221,
    "start_time": "2021-07-08T09:02:49.912Z"
   },
   {
    "duration": 6,
    "start_time": "2021-07-08T09:02:50.134Z"
   },
   {
    "duration": 206,
    "start_time": "2021-07-08T09:02:50.142Z"
   },
   {
    "duration": 19,
    "start_time": "2021-07-08T09:02:50.350Z"
   },
   {
    "duration": 21,
    "start_time": "2021-07-08T09:02:50.370Z"
   },
   {
    "duration": 20,
    "start_time": "2021-07-08T09:02:50.393Z"
   },
   {
    "duration": 5,
    "start_time": "2021-07-08T09:02:50.414Z"
   },
   {
    "duration": 5,
    "start_time": "2021-07-08T09:03:34.173Z"
   },
   {
    "duration": 6,
    "start_time": "2021-07-08T09:04:49.062Z"
   },
   {
    "duration": 9,
    "start_time": "2021-07-08T09:04:50.118Z"
   },
   {
    "duration": 14,
    "start_time": "2021-07-08T09:04:58.512Z"
   },
   {
    "duration": 9,
    "start_time": "2021-07-08T09:05:10.988Z"
   },
   {
    "duration": 11,
    "start_time": "2021-07-08T09:05:11.743Z"
   },
   {
    "duration": 7,
    "start_time": "2021-07-08T09:05:25.677Z"
   },
   {
    "duration": 13,
    "start_time": "2021-07-08T09:05:47.189Z"
   },
   {
    "duration": 13,
    "start_time": "2021-07-08T09:05:54.755Z"
   },
   {
    "duration": 4,
    "start_time": "2021-07-08T09:06:29.189Z"
   },
   {
    "duration": 244,
    "start_time": "2021-07-08T09:06:29.195Z"
   },
   {
    "duration": 91,
    "start_time": "2021-07-08T09:06:29.441Z"
   },
   {
    "duration": 4,
    "start_time": "2021-07-08T09:06:29.534Z"
   },
   {
    "duration": 28,
    "start_time": "2021-07-08T09:06:29.540Z"
   },
   {
    "duration": 6,
    "start_time": "2021-07-08T09:06:29.570Z"
   },
   {
    "duration": 18,
    "start_time": "2021-07-08T09:06:29.578Z"
   },
   {
    "duration": 5,
    "start_time": "2021-07-08T09:06:29.597Z"
   },
   {
    "duration": 13,
    "start_time": "2021-07-08T09:06:29.605Z"
   },
   {
    "duration": 8,
    "start_time": "2021-07-08T09:06:29.620Z"
   },
   {
    "duration": 7,
    "start_time": "2021-07-08T09:06:29.630Z"
   },
   {
    "duration": 63,
    "start_time": "2021-07-08T09:06:29.639Z"
   },
   {
    "duration": 17,
    "start_time": "2021-07-08T09:06:29.704Z"
   },
   {
    "duration": 20,
    "start_time": "2021-07-08T09:06:29.723Z"
   },
   {
    "duration": 6,
    "start_time": "2021-07-08T09:06:29.745Z"
   },
   {
    "duration": 3,
    "start_time": "2021-07-08T09:06:29.752Z"
   },
   {
    "duration": 7,
    "start_time": "2021-07-08T09:06:29.785Z"
   },
   {
    "duration": 11,
    "start_time": "2021-07-08T09:06:29.794Z"
   },
   {
    "duration": 15,
    "start_time": "2021-07-08T09:06:29.807Z"
   },
   {
    "duration": 8,
    "start_time": "2021-07-08T09:06:29.823Z"
   },
   {
    "duration": 70,
    "start_time": "2021-07-08T09:06:29.832Z"
   },
   {
    "duration": 17,
    "start_time": "2021-07-08T09:06:29.903Z"
   },
   {
    "duration": 9,
    "start_time": "2021-07-08T09:06:29.921Z"
   },
   {
    "duration": 9,
    "start_time": "2021-07-08T09:06:29.932Z"
   },
   {
    "duration": 57,
    "start_time": "2021-07-08T09:06:29.942Z"
   },
   {
    "duration": 11,
    "start_time": "2021-07-08T09:06:30.001Z"
   },
   {
    "duration": 19,
    "start_time": "2021-07-08T09:06:30.016Z"
   },
   {
    "duration": 217,
    "start_time": "2021-07-08T09:06:30.037Z"
   },
   {
    "duration": 6,
    "start_time": "2021-07-08T09:06:30.255Z"
   },
   {
    "duration": 205,
    "start_time": "2021-07-08T09:06:30.263Z"
   },
   {
    "duration": 27,
    "start_time": "2021-07-08T09:06:30.470Z"
   },
   {
    "duration": 11,
    "start_time": "2021-07-08T09:06:30.500Z"
   },
   {
    "duration": 31,
    "start_time": "2021-07-08T09:06:30.513Z"
   },
   {
    "duration": 18,
    "start_time": "2021-07-08T09:06:30.546Z"
   },
   {
    "duration": 11,
    "start_time": "2021-07-08T09:06:30.566Z"
   },
   {
    "duration": 19,
    "start_time": "2021-07-08T09:06:30.579Z"
   },
   {
    "duration": 20,
    "start_time": "2021-07-08T09:06:49.466Z"
   },
   {
    "duration": 9,
    "start_time": "2021-07-08T09:06:51.994Z"
   },
   {
    "duration": 20,
    "start_time": "2021-07-08T09:06:52.273Z"
   },
   {
    "duration": 246,
    "start_time": "2021-07-08T09:10:21.272Z"
   },
   {
    "duration": 84,
    "start_time": "2021-07-08T09:10:21.436Z"
   },
   {
    "duration": 7,
    "start_time": "2021-07-08T09:10:37.608Z"
   },
   {
    "duration": 189,
    "start_time": "2021-07-08T09:10:38.573Z"
   },
   {
    "duration": 185,
    "start_time": "2021-07-08T09:10:53.181Z"
   },
   {
    "duration": 11,
    "start_time": "2021-07-08T09:10:59.549Z"
   },
   {
    "duration": 42,
    "start_time": "2021-07-08T09:10:59.709Z"
   },
   {
    "duration": 12,
    "start_time": "2021-07-08T09:11:02.857Z"
   },
   {
    "duration": 28,
    "start_time": "2021-07-08T09:11:10.062Z"
   },
   {
    "duration": 249,
    "start_time": "2021-07-08T09:11:37.388Z"
   },
   {
    "duration": 232,
    "start_time": "2021-07-08T09:11:49.485Z"
   },
   {
    "duration": 453,
    "start_time": "2021-07-08T09:12:01.546Z"
   },
   {
    "duration": 440,
    "start_time": "2021-07-08T09:12:12.347Z"
   },
   {
    "duration": 213,
    "start_time": "2021-07-08T09:13:32.196Z"
   },
   {
    "duration": 172,
    "start_time": "2021-07-08T09:14:07.400Z"
   },
   {
    "duration": 185,
    "start_time": "2021-07-08T09:14:14.905Z"
   },
   {
    "duration": 209,
    "start_time": "2021-07-08T09:14:40.109Z"
   },
   {
    "duration": 201,
    "start_time": "2021-07-08T09:14:54.506Z"
   },
   {
    "duration": 622,
    "start_time": "2021-07-08T09:18:14.497Z"
   },
   {
    "duration": 220,
    "start_time": "2021-07-08T09:18:15.121Z"
   },
   {
    "duration": 79,
    "start_time": "2021-07-08T09:18:15.343Z"
   },
   {
    "duration": 4,
    "start_time": "2021-07-08T09:18:15.425Z"
   },
   {
    "duration": 24,
    "start_time": "2021-07-08T09:18:15.431Z"
   },
   {
    "duration": 8,
    "start_time": "2021-07-08T09:18:15.457Z"
   },
   {
    "duration": 16,
    "start_time": "2021-07-08T09:18:15.466Z"
   },
   {
    "duration": 5,
    "start_time": "2021-07-08T09:18:15.484Z"
   },
   {
    "duration": 10,
    "start_time": "2021-07-08T09:18:15.493Z"
   },
   {
    "duration": 8,
    "start_time": "2021-07-08T09:18:15.504Z"
   },
   {
    "duration": 7,
    "start_time": "2021-07-08T09:18:15.513Z"
   },
   {
    "duration": 26,
    "start_time": "2021-07-08T09:18:15.522Z"
   },
   {
    "duration": 49,
    "start_time": "2021-07-08T09:18:15.550Z"
   },
   {
    "duration": 21,
    "start_time": "2021-07-08T09:18:15.601Z"
   },
   {
    "duration": 8,
    "start_time": "2021-07-08T09:18:15.624Z"
   },
   {
    "duration": 3,
    "start_time": "2021-07-08T09:18:15.634Z"
   },
   {
    "duration": 8,
    "start_time": "2021-07-08T09:18:15.639Z"
   },
   {
    "duration": 45,
    "start_time": "2021-07-08T09:18:15.649Z"
   },
   {
    "duration": 13,
    "start_time": "2021-07-08T09:18:15.696Z"
   },
   {
    "duration": 10,
    "start_time": "2021-07-08T09:18:15.711Z"
   },
   {
    "duration": 64,
    "start_time": "2021-07-08T09:18:15.722Z"
   },
   {
    "duration": 19,
    "start_time": "2021-07-08T09:18:15.788Z"
   },
   {
    "duration": 9,
    "start_time": "2021-07-08T09:18:15.809Z"
   },
   {
    "duration": 9,
    "start_time": "2021-07-08T09:18:15.820Z"
   },
   {
    "duration": 18,
    "start_time": "2021-07-08T09:18:15.831Z"
   },
   {
    "duration": 43,
    "start_time": "2021-07-08T09:18:15.851Z"
   },
   {
    "duration": 12,
    "start_time": "2021-07-08T09:18:15.897Z"
   },
   {
    "duration": 219,
    "start_time": "2021-07-08T09:18:15.911Z"
   },
   {
    "duration": 8,
    "start_time": "2021-07-08T09:18:16.132Z"
   },
   {
    "duration": 199,
    "start_time": "2021-07-08T09:18:16.141Z"
   },
   {
    "duration": 18,
    "start_time": "2021-07-08T09:18:16.341Z"
   },
   {
    "duration": 24,
    "start_time": "2021-07-08T09:18:16.361Z"
   },
   {
    "duration": 24,
    "start_time": "2021-07-08T09:18:16.387Z"
   },
   {
    "duration": 211,
    "start_time": "2021-07-08T09:18:16.413Z"
   },
   {
    "duration": 18,
    "start_time": "2021-07-08T09:18:16.626Z"
   },
   {
    "duration": 596,
    "start_time": "2021-07-08T10:06:33.623Z"
   },
   {
    "duration": 181,
    "start_time": "2021-07-08T10:06:34.221Z"
   },
   {
    "duration": 176,
    "start_time": "2021-07-08T10:06:34.635Z"
   },
   {
    "duration": 239,
    "start_time": "2021-07-08T10:06:55.572Z"
   },
   {
    "duration": 6,
    "start_time": "2021-07-08T10:06:57.687Z"
   },
   {
    "duration": 4,
    "start_time": "2021-07-08T10:07:03.956Z"
   },
   {
    "duration": 4,
    "start_time": "2021-07-08T10:07:10.376Z"
   },
   {
    "duration": 4,
    "start_time": "2021-07-08T10:17:19.889Z"
   },
   {
    "duration": 3,
    "start_time": "2021-07-08T10:19:19.407Z"
   },
   {
    "duration": 197,
    "start_time": "2021-07-08T10:19:19.412Z"
   },
   {
    "duration": 127,
    "start_time": "2021-07-08T10:19:19.611Z"
   },
   {
    "duration": 4,
    "start_time": "2021-07-08T10:19:19.740Z"
   },
   {
    "duration": 27,
    "start_time": "2021-07-08T10:19:19.746Z"
   },
   {
    "duration": 7,
    "start_time": "2021-07-08T10:19:19.775Z"
   },
   {
    "duration": 30,
    "start_time": "2021-07-08T10:19:19.784Z"
   },
   {
    "duration": 7,
    "start_time": "2021-07-08T10:19:19.817Z"
   },
   {
    "duration": 26,
    "start_time": "2021-07-08T10:19:19.826Z"
   },
   {
    "duration": 18,
    "start_time": "2021-07-08T10:19:19.854Z"
   },
   {
    "duration": 14,
    "start_time": "2021-07-08T10:19:19.874Z"
   },
   {
    "duration": 48,
    "start_time": "2021-07-08T10:19:19.890Z"
   },
   {
    "duration": 17,
    "start_time": "2021-07-08T10:19:19.940Z"
   },
   {
    "duration": 38,
    "start_time": "2021-07-08T10:19:19.959Z"
   },
   {
    "duration": 8,
    "start_time": "2021-07-08T10:19:19.999Z"
   },
   {
    "duration": 15,
    "start_time": "2021-07-08T10:19:20.009Z"
   },
   {
    "duration": 22,
    "start_time": "2021-07-08T10:19:20.026Z"
   },
   {
    "duration": 10,
    "start_time": "2021-07-08T10:19:20.050Z"
   },
   {
    "duration": 10,
    "start_time": "2021-07-08T10:19:20.062Z"
   },
   {
    "duration": 20,
    "start_time": "2021-07-08T10:19:20.073Z"
   },
   {
    "duration": 29,
    "start_time": "2021-07-08T10:19:20.095Z"
   },
   {
    "duration": 17,
    "start_time": "2021-07-08T10:19:20.126Z"
   },
   {
    "duration": 40,
    "start_time": "2021-07-08T10:19:20.146Z"
   },
   {
    "duration": 15,
    "start_time": "2021-07-08T10:19:20.189Z"
   },
   {
    "duration": 19,
    "start_time": "2021-07-08T10:19:20.206Z"
   },
   {
    "duration": 10,
    "start_time": "2021-07-08T10:19:20.226Z"
   },
   {
    "duration": 11,
    "start_time": "2021-07-08T10:19:20.238Z"
   },
   {
    "duration": 297,
    "start_time": "2021-07-08T10:19:20.250Z"
   },
   {
    "duration": 6,
    "start_time": "2021-07-08T10:19:20.549Z"
   },
   {
    "duration": 191,
    "start_time": "2021-07-08T10:19:20.557Z"
   },
   {
    "duration": 19,
    "start_time": "2021-07-08T10:19:20.750Z"
   },
   {
    "duration": 20,
    "start_time": "2021-07-08T10:19:20.771Z"
   },
   {
    "duration": 15,
    "start_time": "2021-07-08T10:19:20.793Z"
   },
   {
    "duration": 222,
    "start_time": "2021-07-08T10:19:20.809Z"
   },
   {
    "duration": 20,
    "start_time": "2021-07-08T10:19:21.033Z"
   },
   {
    "duration": 27,
    "start_time": "2021-07-08T10:45:04.055Z"
   },
   {
    "duration": 8,
    "start_time": "2021-07-08T10:45:08.478Z"
   },
   {
    "duration": 8,
    "start_time": "2021-07-08T10:45:31.982Z"
   },
   {
    "duration": 10,
    "start_time": "2021-07-08T10:46:01.221Z"
   },
   {
    "duration": 17,
    "start_time": "2021-07-08T10:46:40.011Z"
   },
   {
    "duration": 193,
    "start_time": "2021-07-08T10:48:19.471Z"
   },
   {
    "duration": 225,
    "start_time": "2021-07-08T10:49:26.480Z"
   },
   {
    "duration": 204,
    "start_time": "2021-07-08T10:49:59.992Z"
   },
   {
    "duration": 435,
    "start_time": "2021-07-08T10:50:06.779Z"
   },
   {
    "duration": 199,
    "start_time": "2021-07-08T10:50:14.891Z"
   },
   {
    "duration": 204,
    "start_time": "2021-07-08T10:50:18.501Z"
   },
   {
    "duration": 244,
    "start_time": "2021-07-08T10:50:23.359Z"
   },
   {
    "duration": 192,
    "start_time": "2021-07-08T10:50:29.135Z"
   },
   {
    "duration": 218,
    "start_time": "2021-07-08T10:50:33.092Z"
   },
   {
    "duration": 207,
    "start_time": "2021-07-08T10:52:45.381Z"
   },
   {
    "duration": 5,
    "start_time": "2021-07-08T10:53:34.641Z"
   },
   {
    "duration": 196,
    "start_time": "2021-07-08T10:53:41.478Z"
   },
   {
    "duration": 43,
    "start_time": "2021-07-08T10:53:50.335Z"
   },
   {
    "duration": 32,
    "start_time": "2021-07-08T10:53:55.294Z"
   },
   {
    "duration": 55,
    "start_time": "2021-07-08T10:54:09.675Z"
   },
   {
    "duration": 16,
    "start_time": "2021-07-08T10:54:12.260Z"
   },
   {
    "duration": 15,
    "start_time": "2021-07-08T10:54:49.150Z"
   },
   {
    "duration": 20,
    "start_time": "2021-07-08T10:56:07.596Z"
   },
   {
    "duration": 16,
    "start_time": "2021-07-08T10:58:26.276Z"
   },
   {
    "duration": 22,
    "start_time": "2021-07-08T10:59:00.486Z"
   },
   {
    "duration": 18,
    "start_time": "2021-07-08T11:02:09.653Z"
   },
   {
    "duration": 10,
    "start_time": "2021-07-08T11:03:44.331Z"
   },
   {
    "duration": 10,
    "start_time": "2021-07-08T11:03:54.055Z"
   },
   {
    "duration": 12,
    "start_time": "2021-07-08T11:04:41.967Z"
   },
   {
    "duration": 24,
    "start_time": "2021-07-08T11:07:30.732Z"
   },
   {
    "duration": 6,
    "start_time": "2021-07-08T11:07:37.364Z"
   },
   {
    "duration": 16,
    "start_time": "2021-07-08T11:08:01.819Z"
   },
   {
    "duration": 17,
    "start_time": "2021-07-08T11:09:47.488Z"
   },
   {
    "duration": 246,
    "start_time": "2021-07-08T11:10:00.830Z"
   },
   {
    "duration": 18,
    "start_time": "2021-07-08T11:13:55.195Z"
   },
   {
    "duration": 204,
    "start_time": "2021-07-08T11:14:04.951Z"
   },
   {
    "duration": 19,
    "start_time": "2021-07-08T11:15:10.613Z"
   },
   {
    "duration": 680,
    "start_time": "2021-07-08T11:16:25.793Z"
   },
   {
    "duration": 451,
    "start_time": "2021-07-08T11:16:40.313Z"
   },
   {
    "duration": 469,
    "start_time": "2021-07-08T11:17:21.286Z"
   },
   {
    "duration": 20,
    "start_time": "2021-07-08T11:19:12.554Z"
   },
   {
    "duration": 35,
    "start_time": "2021-07-08T11:20:05.484Z"
   },
   {
    "duration": 53,
    "start_time": "2021-07-08T11:21:40.050Z"
   },
   {
    "duration": 13,
    "start_time": "2021-07-08T11:22:26.059Z"
   },
   {
    "duration": 19,
    "start_time": "2021-07-08T11:22:47.419Z"
   },
   {
    "duration": 25,
    "start_time": "2021-07-08T11:23:19.958Z"
   },
   {
    "duration": 29,
    "start_time": "2021-07-08T11:23:25.415Z"
   },
   {
    "duration": 10,
    "start_time": "2021-07-08T11:24:45.138Z"
   },
   {
    "duration": 19,
    "start_time": "2021-07-08T11:24:54.498Z"
   },
   {
    "duration": 12,
    "start_time": "2021-07-08T11:25:32.225Z"
   },
   {
    "duration": 19,
    "start_time": "2021-07-08T11:25:37.092Z"
   },
   {
    "duration": 17,
    "start_time": "2021-07-08T11:25:58.116Z"
   },
   {
    "duration": 15,
    "start_time": "2021-07-08T11:26:02.258Z"
   },
   {
    "duration": 8,
    "start_time": "2021-07-08T11:26:59.682Z"
   },
   {
    "duration": 184,
    "start_time": "2021-07-08T11:27:21.894Z"
   },
   {
    "duration": 8,
    "start_time": "2021-07-08T11:27:23.824Z"
   },
   {
    "duration": 202,
    "start_time": "2021-07-08T11:27:23.962Z"
   },
   {
    "duration": 360,
    "start_time": "2021-07-08T11:28:33.215Z"
   },
   {
    "duration": 231,
    "start_time": "2021-07-08T11:32:05.542Z"
   },
   {
    "duration": 607,
    "start_time": "2021-07-08T11:36:27.854Z"
   },
   {
    "duration": 241,
    "start_time": "2021-07-08T11:36:28.463Z"
   },
   {
    "duration": 67,
    "start_time": "2021-07-08T11:36:28.709Z"
   },
   {
    "duration": 5,
    "start_time": "2021-07-08T11:36:28.778Z"
   },
   {
    "duration": 32,
    "start_time": "2021-07-08T11:36:28.784Z"
   },
   {
    "duration": 11,
    "start_time": "2021-07-08T11:36:28.819Z"
   },
   {
    "duration": 20,
    "start_time": "2021-07-08T11:36:28.834Z"
   },
   {
    "duration": 36,
    "start_time": "2021-07-08T11:36:28.857Z"
   },
   {
    "duration": 16,
    "start_time": "2021-07-08T11:36:28.895Z"
   },
   {
    "duration": 14,
    "start_time": "2021-07-08T11:36:28.913Z"
   },
   {
    "duration": 9,
    "start_time": "2021-07-08T11:36:28.930Z"
   },
   {
    "duration": 55,
    "start_time": "2021-07-08T11:36:28.941Z"
   },
   {
    "duration": 27,
    "start_time": "2021-07-08T11:36:28.999Z"
   },
   {
    "duration": 30,
    "start_time": "2021-07-08T11:36:29.028Z"
   },
   {
    "duration": 31,
    "start_time": "2021-07-08T11:36:29.060Z"
   },
   {
    "duration": 3,
    "start_time": "2021-07-08T11:36:29.093Z"
   },
   {
    "duration": 12,
    "start_time": "2021-07-08T11:36:29.099Z"
   },
   {
    "duration": 11,
    "start_time": "2021-07-08T11:36:29.112Z"
   },
   {
    "duration": 12,
    "start_time": "2021-07-08T11:36:29.125Z"
   },
   {
    "duration": 9,
    "start_time": "2021-07-08T11:36:29.139Z"
   },
   {
    "duration": 31,
    "start_time": "2021-07-08T11:36:29.191Z"
   },
   {
    "duration": 17,
    "start_time": "2021-07-08T11:36:29.226Z"
   },
   {
    "duration": 7,
    "start_time": "2021-07-08T11:36:29.245Z"
   },
   {
    "duration": 10,
    "start_time": "2021-07-08T11:36:29.254Z"
   },
   {
    "duration": 30,
    "start_time": "2021-07-08T11:36:29.292Z"
   },
   {
    "duration": 11,
    "start_time": "2021-07-08T11:36:29.324Z"
   },
   {
    "duration": 11,
    "start_time": "2021-07-08T11:36:29.337Z"
   },
   {
    "duration": 230,
    "start_time": "2021-07-08T11:36:29.349Z"
   },
   {
    "duration": 13,
    "start_time": "2021-07-08T11:36:29.588Z"
   },
   {
    "duration": 205,
    "start_time": "2021-07-08T11:36:29.603Z"
   },
   {
    "duration": 20,
    "start_time": "2021-07-08T11:36:29.810Z"
   },
   {
    "duration": 9,
    "start_time": "2021-07-08T11:36:29.832Z"
   },
   {
    "duration": 16,
    "start_time": "2021-07-08T11:36:29.843Z"
   },
   {
    "duration": 283,
    "start_time": "2021-07-08T11:36:29.861Z"
   },
   {
    "duration": 50,
    "start_time": "2021-07-08T11:36:30.146Z"
   },
   {
    "duration": 14,
    "start_time": "2021-07-08T11:36:30.198Z"
   },
   {
    "duration": 11,
    "start_time": "2021-07-08T11:36:30.214Z"
   },
   {
    "duration": 245,
    "start_time": "2021-07-08T11:36:30.227Z"
   },
   {
    "duration": 439,
    "start_time": "2021-07-08T11:36:30.474Z"
   },
   {
    "duration": 210,
    "start_time": "2021-07-08T11:36:30.915Z"
   },
   {
    "duration": 15,
    "start_time": "2021-07-08T11:36:31.127Z"
   },
   {
    "duration": 17,
    "start_time": "2021-07-08T11:38:20.451Z"
   },
   {
    "duration": 642,
    "start_time": "2021-07-08T11:46:17.881Z"
   },
   {
    "duration": 210,
    "start_time": "2021-07-08T11:46:18.525Z"
   },
   {
    "duration": 104,
    "start_time": "2021-07-08T11:46:18.741Z"
   },
   {
    "duration": 8,
    "start_time": "2021-07-08T11:46:18.847Z"
   },
   {
    "duration": 25,
    "start_time": "2021-07-08T11:46:18.857Z"
   },
   {
    "duration": 14,
    "start_time": "2021-07-08T11:46:18.884Z"
   },
   {
    "duration": 22,
    "start_time": "2021-07-08T11:46:18.900Z"
   },
   {
    "duration": 5,
    "start_time": "2021-07-08T11:46:18.924Z"
   },
   {
    "duration": 13,
    "start_time": "2021-07-08T11:46:18.931Z"
   },
   {
    "duration": 45,
    "start_time": "2021-07-08T11:46:18.946Z"
   },
   {
    "duration": 12,
    "start_time": "2021-07-08T11:46:18.993Z"
   },
   {
    "duration": 38,
    "start_time": "2021-07-08T11:46:19.006Z"
   },
   {
    "duration": 50,
    "start_time": "2021-07-08T11:46:19.046Z"
   },
   {
    "duration": 29,
    "start_time": "2021-07-08T11:46:19.099Z"
   },
   {
    "duration": 7,
    "start_time": "2021-07-08T11:46:19.130Z"
   },
   {
    "duration": 3,
    "start_time": "2021-07-08T11:46:19.139Z"
   },
   {
    "duration": 11,
    "start_time": "2021-07-08T11:46:19.144Z"
   },
   {
    "duration": 40,
    "start_time": "2021-07-08T11:46:19.157Z"
   },
   {
    "duration": 15,
    "start_time": "2021-07-08T11:46:19.199Z"
   },
   {
    "duration": 10,
    "start_time": "2021-07-08T11:46:19.217Z"
   },
   {
    "duration": 68,
    "start_time": "2021-07-08T11:46:19.230Z"
   },
   {
    "duration": 17,
    "start_time": "2021-07-08T11:46:19.301Z"
   },
   {
    "duration": 7,
    "start_time": "2021-07-08T11:46:19.321Z"
   },
   {
    "duration": 11,
    "start_time": "2021-07-08T11:46:19.330Z"
   },
   {
    "duration": 59,
    "start_time": "2021-07-08T11:46:19.343Z"
   },
   {
    "duration": 17,
    "start_time": "2021-07-08T11:46:19.405Z"
   },
   {
    "duration": 16,
    "start_time": "2021-07-08T11:46:19.424Z"
   },
   {
    "duration": 252,
    "start_time": "2021-07-08T11:46:19.443Z"
   },
   {
    "duration": 9,
    "start_time": "2021-07-08T11:46:19.697Z"
   },
   {
    "duration": 224,
    "start_time": "2021-07-08T11:46:19.708Z"
   },
   {
    "duration": 21,
    "start_time": "2021-07-08T11:46:19.934Z"
   },
   {
    "duration": 9,
    "start_time": "2021-07-08T11:46:19.956Z"
   },
   {
    "duration": 32,
    "start_time": "2021-07-08T11:46:19.967Z"
   },
   {
    "duration": 288,
    "start_time": "2021-07-08T11:46:20.004Z"
   },
   {
    "duration": 23,
    "start_time": "2021-07-08T11:46:20.300Z"
   },
   {
    "duration": 11,
    "start_time": "2021-07-08T11:46:20.325Z"
   },
   {
    "duration": 11,
    "start_time": "2021-07-08T11:46:20.339Z"
   },
   {
    "duration": 259,
    "start_time": "2021-07-08T11:46:20.352Z"
   },
   {
    "duration": 438,
    "start_time": "2021-07-08T11:46:20.613Z"
   },
   {
    "duration": 207,
    "start_time": "2021-07-08T11:46:21.054Z"
   },
   {
    "duration": 27,
    "start_time": "2021-07-08T11:46:21.262Z"
   },
   {
    "duration": 19,
    "start_time": "2021-07-08T11:46:21.291Z"
   },
   {
    "duration": 820,
    "start_time": "2021-07-08T11:49:01.655Z"
   },
   {
    "duration": 372,
    "start_time": "2021-07-08T11:49:02.478Z"
   },
   {
    "duration": 98,
    "start_time": "2021-07-08T11:49:02.853Z"
   },
   {
    "duration": 6,
    "start_time": "2021-07-08T11:49:02.953Z"
   },
   {
    "duration": 39,
    "start_time": "2021-07-08T11:49:02.960Z"
   },
   {
    "duration": 9,
    "start_time": "2021-07-08T11:49:03.003Z"
   },
   {
    "duration": 23,
    "start_time": "2021-07-08T11:49:03.014Z"
   },
   {
    "duration": 6,
    "start_time": "2021-07-08T11:49:03.041Z"
   },
   {
    "duration": 20,
    "start_time": "2021-07-08T11:49:03.049Z"
   },
   {
    "duration": 18,
    "start_time": "2021-07-08T11:49:03.084Z"
   },
   {
    "duration": 14,
    "start_time": "2021-07-08T11:49:03.104Z"
   },
   {
    "duration": 39,
    "start_time": "2021-07-08T11:49:03.119Z"
   },
   {
    "duration": 38,
    "start_time": "2021-07-08T11:49:03.160Z"
   },
   {
    "duration": 26,
    "start_time": "2021-07-08T11:49:03.200Z"
   },
   {
    "duration": 7,
    "start_time": "2021-07-08T11:49:03.227Z"
   },
   {
    "duration": 4,
    "start_time": "2021-07-08T11:49:03.236Z"
   },
   {
    "duration": 15,
    "start_time": "2021-07-08T11:49:03.243Z"
   },
   {
    "duration": 21,
    "start_time": "2021-07-08T11:49:03.285Z"
   },
   {
    "duration": 17,
    "start_time": "2021-07-08T11:49:03.309Z"
   },
   {
    "duration": 10,
    "start_time": "2021-07-08T11:49:03.328Z"
   },
   {
    "duration": 65,
    "start_time": "2021-07-08T11:49:03.340Z"
   },
   {
    "duration": 18,
    "start_time": "2021-07-08T11:49:03.407Z"
   },
   {
    "duration": 8,
    "start_time": "2021-07-08T11:49:03.428Z"
   },
   {
    "duration": 15,
    "start_time": "2021-07-08T11:49:03.438Z"
   },
   {
    "duration": 40,
    "start_time": "2021-07-08T11:49:03.455Z"
   },
   {
    "duration": 12,
    "start_time": "2021-07-08T11:49:03.497Z"
   },
   {
    "duration": 29,
    "start_time": "2021-07-08T11:49:03.511Z"
   },
   {
    "duration": 285,
    "start_time": "2021-07-08T11:49:03.542Z"
   },
   {
    "duration": 8,
    "start_time": "2021-07-08T11:49:03.829Z"
   },
   {
    "duration": 227,
    "start_time": "2021-07-08T11:49:03.838Z"
   },
   {
    "duration": 40,
    "start_time": "2021-07-08T11:49:04.066Z"
   },
   {
    "duration": 10,
    "start_time": "2021-07-08T11:49:04.108Z"
   },
   {
    "duration": 26,
    "start_time": "2021-07-08T11:49:04.121Z"
   },
   {
    "duration": 290,
    "start_time": "2021-07-08T11:49:04.149Z"
   },
   {
    "duration": 26,
    "start_time": "2021-07-08T11:49:04.441Z"
   },
   {
    "duration": 31,
    "start_time": "2021-07-08T11:49:04.470Z"
   },
   {
    "duration": 14,
    "start_time": "2021-07-08T11:49:04.503Z"
   },
   {
    "duration": 259,
    "start_time": "2021-07-08T11:49:04.521Z"
   },
   {
    "duration": 480,
    "start_time": "2021-07-08T11:49:04.782Z"
   },
   {
    "duration": 225,
    "start_time": "2021-07-08T11:49:05.264Z"
   },
   {
    "duration": 22,
    "start_time": "2021-07-08T11:49:05.491Z"
   },
   {
    "duration": 24,
    "start_time": "2021-07-08T11:49:05.515Z"
   },
   {
    "duration": 634,
    "start_time": "2021-07-08T11:52:24.960Z"
   },
   {
    "duration": 199,
    "start_time": "2021-07-08T11:52:25.599Z"
   },
   {
    "duration": 106,
    "start_time": "2021-07-08T11:52:25.803Z"
   },
   {
    "duration": 7,
    "start_time": "2021-07-08T11:52:25.911Z"
   },
   {
    "duration": 29,
    "start_time": "2021-07-08T11:52:25.920Z"
   },
   {
    "duration": 7,
    "start_time": "2021-07-08T11:52:25.951Z"
   },
   {
    "duration": 26,
    "start_time": "2021-07-08T11:52:25.961Z"
   },
   {
    "duration": 11,
    "start_time": "2021-07-08T11:52:25.990Z"
   },
   {
    "duration": 29,
    "start_time": "2021-07-08T11:52:26.005Z"
   },
   {
    "duration": 9,
    "start_time": "2021-07-08T11:52:26.036Z"
   },
   {
    "duration": 8,
    "start_time": "2021-07-08T11:52:26.047Z"
   },
   {
    "duration": 63,
    "start_time": "2021-07-08T11:52:26.057Z"
   },
   {
    "duration": 17,
    "start_time": "2021-07-08T11:52:26.122Z"
   },
   {
    "duration": 43,
    "start_time": "2021-07-08T11:52:26.142Z"
   },
   {
    "duration": 17,
    "start_time": "2021-07-08T11:52:26.187Z"
   },
   {
    "duration": 5,
    "start_time": "2021-07-08T11:52:26.206Z"
   },
   {
    "duration": 12,
    "start_time": "2021-07-08T11:52:26.212Z"
   },
   {
    "duration": 11,
    "start_time": "2021-07-08T11:52:26.226Z"
   },
   {
    "duration": 12,
    "start_time": "2021-07-08T11:52:26.238Z"
   },
   {
    "duration": 38,
    "start_time": "2021-07-08T11:52:26.252Z"
   },
   {
    "duration": 40,
    "start_time": "2021-07-08T11:52:26.292Z"
   },
   {
    "duration": 17,
    "start_time": "2021-07-08T11:52:26.336Z"
   },
   {
    "duration": 39,
    "start_time": "2021-07-08T11:52:26.355Z"
   },
   {
    "duration": 11,
    "start_time": "2021-07-08T11:52:26.395Z"
   },
   {
    "duration": 23,
    "start_time": "2021-07-08T11:52:26.408Z"
   },
   {
    "duration": 12,
    "start_time": "2021-07-08T11:52:26.432Z"
   },
   {
    "duration": 41,
    "start_time": "2021-07-08T11:52:26.446Z"
   },
   {
    "duration": 215,
    "start_time": "2021-07-08T11:52:26.493Z"
   },
   {
    "duration": 8,
    "start_time": "2021-07-08T11:52:26.710Z"
   },
   {
    "duration": 228,
    "start_time": "2021-07-08T11:52:26.720Z"
   },
   {
    "duration": 18,
    "start_time": "2021-07-08T11:52:26.950Z"
   },
   {
    "duration": 35,
    "start_time": "2021-07-08T11:52:26.969Z"
   },
   {
    "duration": 23,
    "start_time": "2021-07-08T11:52:27.006Z"
   },
   {
    "duration": 258,
    "start_time": "2021-07-08T11:52:27.030Z"
   },
   {
    "duration": 24,
    "start_time": "2021-07-08T11:52:27.290Z"
   },
   {
    "duration": 12,
    "start_time": "2021-07-08T11:52:27.316Z"
   },
   {
    "duration": 10,
    "start_time": "2021-07-08T11:52:27.329Z"
   },
   {
    "duration": 298,
    "start_time": "2021-07-08T11:52:27.341Z"
   },
   {
    "duration": 436,
    "start_time": "2021-07-08T11:52:27.641Z"
   },
   {
    "duration": 216,
    "start_time": "2021-07-08T11:52:28.079Z"
   },
   {
    "duration": 20,
    "start_time": "2021-07-08T11:52:28.297Z"
   },
   {
    "duration": 17,
    "start_time": "2021-07-08T11:52:28.319Z"
   },
   {
    "duration": 131,
    "start_time": "2021-08-15T10:57:42.147Z"
   },
   {
    "duration": 130,
    "start_time": "2021-08-15T10:59:21.303Z"
   },
   {
    "duration": 1250,
    "start_time": "2021-08-15T10:59:37.053Z"
   },
   {
    "duration": 995,
    "start_time": "2021-08-15T11:01:11.346Z"
   },
   {
    "duration": 424,
    "start_time": "2021-08-15T11:01:35.372Z"
   },
   {
    "duration": 135,
    "start_time": "2021-08-15T11:02:30.050Z"
   },
   {
    "duration": 102,
    "start_time": "2021-08-15T11:14:57.682Z"
   },
   {
    "duration": 351,
    "start_time": "2021-08-15T11:15:08.035Z"
   },
   {
    "duration": 12,
    "start_time": "2021-08-15T11:39:48.894Z"
   },
   {
    "duration": 22,
    "start_time": "2021-08-15T11:40:45.249Z"
   },
   {
    "duration": 17,
    "start_time": "2021-08-15T11:41:28.238Z"
   },
   {
    "duration": 15,
    "start_time": "2021-08-15T11:42:02.544Z"
   },
   {
    "duration": 15,
    "start_time": "2021-08-15T11:43:20.100Z"
   },
   {
    "duration": 394,
    "start_time": "2021-08-15T11:48:52.357Z"
   },
   {
    "duration": 385,
    "start_time": "2021-08-15T11:49:22.762Z"
   },
   {
    "duration": 15,
    "start_time": "2021-08-15T11:51:01.893Z"
   },
   {
    "duration": 17,
    "start_time": "2021-08-15T11:51:13.054Z"
   },
   {
    "duration": 7,
    "start_time": "2021-08-15T11:51:35.341Z"
   },
   {
    "duration": 435,
    "start_time": "2021-08-15T11:54:36.773Z"
   },
   {
    "duration": 1413,
    "start_time": "2021-08-15T11:54:47.664Z"
   },
   {
    "duration": 7,
    "start_time": "2021-08-15T11:55:48.055Z"
   },
   {
    "duration": 517,
    "start_time": "2021-08-15T11:57:49.731Z"
   },
   {
    "duration": 340,
    "start_time": "2021-08-15T11:58:01.313Z"
   },
   {
    "duration": 15,
    "start_time": "2021-08-15T11:58:33.447Z"
   },
   {
    "duration": 32,
    "start_time": "2021-08-15T12:02:59.905Z"
   },
   {
    "duration": 12,
    "start_time": "2021-08-15T12:03:33.175Z"
   },
   {
    "duration": 1415,
    "start_time": "2021-08-15T12:04:13.547Z"
   },
   {
    "duration": 347,
    "start_time": "2021-08-15T12:04:25.821Z"
   },
   {
    "duration": 22,
    "start_time": "2021-08-15T12:05:45.891Z"
   },
   {
    "duration": 8,
    "start_time": "2021-08-15T12:07:33.896Z"
   },
   {
    "duration": 1369,
    "start_time": "2021-08-15T12:07:51.511Z"
   },
   {
    "duration": 1441,
    "start_time": "2021-08-15T12:08:14.851Z"
   },
   {
    "duration": 1381,
    "start_time": "2021-08-15T12:08:35.548Z"
   },
   {
    "duration": 24,
    "start_time": "2021-08-15T12:08:57.846Z"
   },
   {
    "duration": 404,
    "start_time": "2021-08-15T12:09:40.545Z"
   },
   {
    "duration": 356,
    "start_time": "2021-08-15T12:12:09.061Z"
   },
   {
    "duration": 18,
    "start_time": "2021-08-15T12:13:03.291Z"
   },
   {
    "duration": 6,
    "start_time": "2021-08-15T12:14:07.868Z"
   },
   {
    "duration": 47,
    "start_time": "2021-08-15T12:18:39.122Z"
   },
   {
    "duration": 20,
    "start_time": "2021-08-15T12:19:02.228Z"
   },
   {
    "duration": 17,
    "start_time": "2021-08-15T12:19:13.034Z"
   },
   {
    "duration": 45,
    "start_time": "2021-08-15T12:19:26.873Z"
   },
   {
    "duration": 37,
    "start_time": "2021-08-15T12:19:48.055Z"
   },
   {
    "duration": 633,
    "start_time": "2021-08-15T12:20:16.716Z"
   },
   {
    "duration": 1334,
    "start_time": "2021-08-15T12:20:38.653Z"
   },
   {
    "duration": 315,
    "start_time": "2021-08-15T12:20:52.201Z"
   },
   {
    "duration": 19,
    "start_time": "2021-08-15T12:21:31.828Z"
   },
   {
    "duration": 15,
    "start_time": "2021-08-15T12:22:12.612Z"
   },
   {
    "duration": 5,
    "start_time": "2021-08-15T12:22:54.669Z"
   },
   {
    "duration": 24,
    "start_time": "2021-08-15T13:01:34.551Z"
   },
   {
    "duration": 603,
    "start_time": "2021-08-15T13:14:40.390Z"
   },
   {
    "duration": 594,
    "start_time": "2021-08-15T13:15:04.785Z"
   },
   {
    "duration": 611,
    "start_time": "2021-08-15T13:16:21.037Z"
   },
   {
    "duration": 139,
    "start_time": "2021-08-15T13:18:42.002Z"
   },
   {
    "duration": 34,
    "start_time": "2021-08-15T13:18:52.318Z"
   },
   {
    "duration": 728,
    "start_time": "2021-08-15T13:19:14.547Z"
   },
   {
    "duration": 36,
    "start_time": "2021-08-15T13:19:40.041Z"
   },
   {
    "duration": 36,
    "start_time": "2021-08-15T13:21:24.503Z"
   },
   {
    "duration": 43,
    "start_time": "2021-08-15T13:22:36.297Z"
   },
   {
    "duration": 44,
    "start_time": "2021-08-15T13:23:09.125Z"
   },
   {
    "duration": 14,
    "start_time": "2021-08-15T13:25:10.341Z"
   },
   {
    "duration": 615,
    "start_time": "2021-08-15T13:27:31.739Z"
   },
   {
    "duration": 28,
    "start_time": "2021-08-15T13:28:03.129Z"
   },
   {
    "duration": 354,
    "start_time": "2021-08-15T13:31:39.321Z"
   },
   {
    "duration": 9,
    "start_time": "2021-08-15T13:31:51.976Z"
   },
   {
    "duration": 15,
    "start_time": "2021-08-15T13:33:12.495Z"
   },
   {
    "duration": 10,
    "start_time": "2021-08-15T13:34:18.350Z"
   },
   {
    "duration": 11,
    "start_time": "2021-08-15T13:35:09.905Z"
   },
   {
    "duration": 18,
    "start_time": "2021-08-15T13:35:33.152Z"
   },
   {
    "duration": 12,
    "start_time": "2021-08-15T13:37:03.523Z"
   },
   {
    "duration": 9,
    "start_time": "2021-08-15T13:37:07.417Z"
   },
   {
    "duration": 10,
    "start_time": "2021-08-15T13:38:43.995Z"
   },
   {
    "duration": 10,
    "start_time": "2021-08-15T13:38:53.412Z"
   },
   {
    "duration": 356,
    "start_time": "2021-08-15T13:39:55.200Z"
   },
   {
    "duration": 9,
    "start_time": "2021-08-15T13:40:05.079Z"
   },
   {
    "duration": 11,
    "start_time": "2021-08-15T14:04:27.052Z"
   },
   {
    "duration": 7,
    "start_time": "2021-08-15T14:05:01.839Z"
   },
   {
    "duration": 11,
    "start_time": "2021-08-15T14:05:17.029Z"
   },
   {
    "duration": 13,
    "start_time": "2021-08-15T14:05:41.840Z"
   },
   {
    "duration": 19,
    "start_time": "2021-08-15T14:06:40.172Z"
   },
   {
    "duration": 14,
    "start_time": "2021-08-15T14:06:54.467Z"
   },
   {
    "duration": 9,
    "start_time": "2021-08-15T14:07:17.295Z"
   },
   {
    "duration": 6,
    "start_time": "2021-08-15T14:07:32.867Z"
   },
   {
    "duration": 8,
    "start_time": "2021-08-15T14:07:45.130Z"
   },
   {
    "duration": 17,
    "start_time": "2021-08-15T14:08:07.298Z"
   },
   {
    "duration": 14,
    "start_time": "2021-08-15T14:08:29.067Z"
   },
   {
    "duration": 19,
    "start_time": "2021-08-15T14:08:41.141Z"
   },
   {
    "duration": 15,
    "start_time": "2021-08-15T14:09:06.556Z"
   },
   {
    "duration": 22,
    "start_time": "2021-08-15T14:09:30.284Z"
   },
   {
    "duration": 19,
    "start_time": "2021-08-15T14:09:47.517Z"
   },
   {
    "duration": 933,
    "start_time": "2021-08-15T14:13:28.986Z"
   },
   {
    "duration": 15,
    "start_time": "2021-08-15T14:14:41.472Z"
   },
   {
    "duration": 21,
    "start_time": "2021-08-15T14:16:14.178Z"
   },
   {
    "duration": 22,
    "start_time": "2021-08-15T14:17:16.735Z"
   },
   {
    "duration": 35,
    "start_time": "2021-08-15T14:18:46.752Z"
   },
   {
    "duration": 20,
    "start_time": "2021-08-15T14:18:50.639Z"
   },
   {
    "duration": 467,
    "start_time": "2021-08-15T14:21:25.871Z"
   },
   {
    "duration": 34,
    "start_time": "2021-08-15T14:21:39.659Z"
   },
   {
    "duration": 34,
    "start_time": "2021-08-15T14:21:54.792Z"
   },
   {
    "duration": 16,
    "start_time": "2021-08-15T14:22:20.861Z"
   },
   {
    "duration": 33,
    "start_time": "2021-08-15T14:22:30.544Z"
   },
   {
    "duration": 308,
    "start_time": "2021-08-15T14:22:49.430Z"
   },
   {
    "duration": 9,
    "start_time": "2021-08-15T14:24:23.148Z"
   },
   {
    "duration": 34,
    "start_time": "2021-08-15T14:25:41.664Z"
   },
   {
    "duration": 29,
    "start_time": "2021-08-15T14:26:26.502Z"
   },
   {
    "duration": 11,
    "start_time": "2021-08-15T14:27:07.296Z"
   },
   {
    "duration": 11,
    "start_time": "2021-08-15T14:27:20.213Z"
   },
   {
    "duration": 11,
    "start_time": "2021-08-15T14:28:37.719Z"
   },
   {
    "duration": 11,
    "start_time": "2021-08-15T14:28:41.494Z"
   },
   {
    "duration": 28,
    "start_time": "2021-08-15T14:32:15.423Z"
   },
   {
    "duration": 10,
    "start_time": "2021-08-15T14:46:00.010Z"
   },
   {
    "duration": 11,
    "start_time": "2021-08-15T14:46:10.468Z"
   },
   {
    "duration": 6,
    "start_time": "2021-08-15T14:46:29.296Z"
   },
   {
    "duration": 8,
    "start_time": "2021-08-15T14:46:46.873Z"
   },
   {
    "duration": 24,
    "start_time": "2021-08-15T14:58:18.974Z"
   },
   {
    "duration": 25,
    "start_time": "2021-08-15T15:00:16.535Z"
   },
   {
    "duration": 15,
    "start_time": "2021-08-15T15:01:10.986Z"
   },
   {
    "duration": 8,
    "start_time": "2021-08-15T15:01:28.531Z"
   },
   {
    "duration": 9,
    "start_time": "2021-08-15T15:01:37.905Z"
   },
   {
    "duration": 9,
    "start_time": "2021-08-15T15:02:09.802Z"
   },
   {
    "duration": 9,
    "start_time": "2021-08-15T15:03:08.917Z"
   },
   {
    "duration": 8,
    "start_time": "2021-08-15T15:24:35.711Z"
   },
   {
    "duration": 16,
    "start_time": "2021-08-15T15:25:53.886Z"
   },
   {
    "duration": 366,
    "start_time": "2021-08-15T15:26:06.663Z"
   },
   {
    "duration": 361,
    "start_time": "2021-08-15T15:26:14.668Z"
   },
   {
    "duration": 15,
    "start_time": "2021-08-15T15:26:20.207Z"
   },
   {
    "duration": 376,
    "start_time": "2021-08-15T15:32:03.860Z"
   },
   {
    "duration": 326,
    "start_time": "2021-08-15T15:32:16.074Z"
   },
   {
    "duration": 147,
    "start_time": "2021-08-15T15:32:16.402Z"
   },
   {
    "duration": 16,
    "start_time": "2021-08-15T15:32:16.553Z"
   },
   {
    "duration": 28,
    "start_time": "2021-08-15T15:32:16.571Z"
   },
   {
    "duration": 24,
    "start_time": "2021-08-15T15:32:16.601Z"
   },
   {
    "duration": 29,
    "start_time": "2021-08-15T15:32:16.627Z"
   },
   {
    "duration": 41,
    "start_time": "2021-08-15T15:32:16.659Z"
   },
   {
    "duration": 12,
    "start_time": "2021-08-15T15:32:16.704Z"
   },
   {
    "duration": 44,
    "start_time": "2021-08-15T15:32:16.719Z"
   },
   {
    "duration": 15,
    "start_time": "2021-08-15T15:32:16.765Z"
   },
   {
    "duration": 15,
    "start_time": "2021-08-15T15:32:16.782Z"
   },
   {
    "duration": 25,
    "start_time": "2021-08-15T15:32:16.799Z"
   },
   {
    "duration": 42,
    "start_time": "2021-08-15T15:32:16.826Z"
   },
   {
    "duration": 4,
    "start_time": "2021-08-15T15:32:16.870Z"
   },
   {
    "duration": 24,
    "start_time": "2021-08-15T15:32:16.877Z"
   },
   {
    "duration": 66,
    "start_time": "2021-08-15T15:32:16.903Z"
   },
   {
    "duration": 22,
    "start_time": "2021-08-15T15:32:16.972Z"
   },
   {
    "duration": 35,
    "start_time": "2021-08-15T15:32:16.996Z"
   },
   {
    "duration": 27,
    "start_time": "2021-08-15T15:32:17.033Z"
   },
   {
    "duration": 15,
    "start_time": "2021-08-15T15:32:17.063Z"
   },
   {
    "duration": 15,
    "start_time": "2021-08-15T15:32:17.081Z"
   },
   {
    "duration": 28,
    "start_time": "2021-08-15T15:32:17.099Z"
   },
   {
    "duration": 29,
    "start_time": "2021-08-15T15:32:17.159Z"
   },
   {
    "duration": 28,
    "start_time": "2021-08-15T15:32:17.192Z"
   },
   {
    "duration": 35,
    "start_time": "2021-08-15T15:32:17.222Z"
   },
   {
    "duration": 20,
    "start_time": "2021-08-15T15:32:17.259Z"
   },
   {
    "duration": 31,
    "start_time": "2021-08-15T15:32:17.281Z"
   },
   {
    "duration": 50,
    "start_time": "2021-08-15T15:32:17.315Z"
   },
   {
    "duration": 12,
    "start_time": "2021-08-15T15:32:17.367Z"
   },
   {
    "duration": 23,
    "start_time": "2021-08-15T15:32:17.382Z"
   },
   {
    "duration": 60,
    "start_time": "2021-08-15T15:32:17.408Z"
   },
   {
    "duration": 12,
    "start_time": "2021-08-15T15:32:17.471Z"
   },
   {
    "duration": 20,
    "start_time": "2021-08-15T15:32:17.486Z"
   },
   {
    "duration": 2442,
    "start_time": "2021-08-15T15:32:17.509Z"
   },
   {
    "duration": -24,
    "start_time": "2021-08-15T15:32:19.977Z"
   },
   {
    "duration": -26,
    "start_time": "2021-08-15T15:32:19.981Z"
   },
   {
    "duration": -28,
    "start_time": "2021-08-15T15:32:19.984Z"
   },
   {
    "duration": -30,
    "start_time": "2021-08-15T15:32:19.987Z"
   },
   {
    "duration": -31,
    "start_time": "2021-08-15T15:32:19.989Z"
   },
   {
    "duration": -32,
    "start_time": "2021-08-15T15:32:19.992Z"
   },
   {
    "duration": -33,
    "start_time": "2021-08-15T15:32:19.994Z"
   },
   {
    "duration": -39,
    "start_time": "2021-08-15T15:32:20.001Z"
   },
   {
    "duration": 5,
    "start_time": "2021-08-15T15:32:47.492Z"
   },
   {
    "duration": 13,
    "start_time": "2021-08-15T15:32:49.659Z"
   },
   {
    "duration": 48,
    "start_time": "2021-08-15T15:33:00.222Z"
   },
   {
    "duration": 23,
    "start_time": "2021-08-15T17:21:41.994Z"
   },
   {
    "duration": 22,
    "start_time": "2021-08-15T17:21:47.362Z"
   },
   {
    "duration": 8,
    "start_time": "2021-08-15T17:22:45.998Z"
   },
   {
    "duration": 9,
    "start_time": "2021-08-15T17:23:02.336Z"
   },
   {
    "duration": 7,
    "start_time": "2021-08-15T17:31:33.574Z"
   },
   {
    "duration": 376,
    "start_time": "2021-08-15T17:32:23.212Z"
   },
   {
    "duration": 379,
    "start_time": "2021-08-15T17:32:34.881Z"
   },
   {
    "duration": 10,
    "start_time": "2021-08-15T17:32:54.552Z"
   },
   {
    "duration": 11,
    "start_time": "2021-08-15T17:33:29.311Z"
   },
   {
    "duration": 10,
    "start_time": "2021-08-15T17:34:50.357Z"
   },
   {
    "duration": 361,
    "start_time": "2021-08-15T17:36:23.866Z"
   },
   {
    "duration": 367,
    "start_time": "2021-08-15T17:36:39.678Z"
   },
   {
    "duration": 128,
    "start_time": "2021-08-15T17:36:40.048Z"
   },
   {
    "duration": 16,
    "start_time": "2021-08-15T17:36:40.179Z"
   },
   {
    "duration": 23,
    "start_time": "2021-08-15T17:36:40.198Z"
   },
   {
    "duration": 40,
    "start_time": "2021-08-15T17:36:40.224Z"
   },
   {
    "duration": 9,
    "start_time": "2021-08-15T17:36:40.266Z"
   },
   {
    "duration": 37,
    "start_time": "2021-08-15T17:36:40.277Z"
   },
   {
    "duration": 45,
    "start_time": "2021-08-15T17:36:40.318Z"
   },
   {
    "duration": 16,
    "start_time": "2021-08-15T17:36:40.366Z"
   },
   {
    "duration": 18,
    "start_time": "2021-08-15T17:36:40.384Z"
   },
   {
    "duration": 17,
    "start_time": "2021-08-15T17:36:40.404Z"
   },
   {
    "duration": 51,
    "start_time": "2021-08-15T17:36:40.424Z"
   },
   {
    "duration": 22,
    "start_time": "2021-08-15T17:36:40.478Z"
   },
   {
    "duration": 6,
    "start_time": "2021-08-15T17:36:40.503Z"
   },
   {
    "duration": 52,
    "start_time": "2021-08-15T17:36:40.512Z"
   },
   {
    "duration": 45,
    "start_time": "2021-08-15T17:36:40.567Z"
   },
   {
    "duration": 43,
    "start_time": "2021-08-15T17:36:40.614Z"
   },
   {
    "duration": 33,
    "start_time": "2021-08-15T17:36:40.659Z"
   },
   {
    "duration": 9,
    "start_time": "2021-08-15T17:36:40.694Z"
   },
   {
    "duration": 56,
    "start_time": "2021-08-15T17:36:40.706Z"
   },
   {
    "duration": 8,
    "start_time": "2021-08-15T17:36:40.764Z"
   },
   {
    "duration": 24,
    "start_time": "2021-08-15T17:36:40.775Z"
   },
   {
    "duration": 60,
    "start_time": "2021-08-15T17:36:40.807Z"
   },
   {
    "duration": 20,
    "start_time": "2021-08-15T17:36:40.871Z"
   },
   {
    "duration": 15,
    "start_time": "2021-08-15T17:36:40.893Z"
   },
   {
    "duration": 56,
    "start_time": "2021-08-15T17:36:40.910Z"
   },
   {
    "duration": 22,
    "start_time": "2021-08-15T17:36:40.969Z"
   },
   {
    "duration": 25,
    "start_time": "2021-08-15T17:36:40.993Z"
   },
   {
    "duration": 8,
    "start_time": "2021-08-15T17:36:41.020Z"
   },
   {
    "duration": 39,
    "start_time": "2021-08-15T17:36:41.031Z"
   },
   {
    "duration": 24,
    "start_time": "2021-08-15T17:36:41.073Z"
   },
   {
    "duration": 11,
    "start_time": "2021-08-15T17:36:41.100Z"
   },
   {
    "duration": 58,
    "start_time": "2021-08-15T17:36:41.113Z"
   },
   {
    "duration": 2784,
    "start_time": "2021-08-15T17:36:41.174Z"
   },
   {
    "duration": -23,
    "start_time": "2021-08-15T17:36:43.984Z"
   },
   {
    "duration": -32,
    "start_time": "2021-08-15T17:36:43.995Z"
   },
   {
    "duration": -36,
    "start_time": "2021-08-15T17:36:44.001Z"
   },
   {
    "duration": -42,
    "start_time": "2021-08-15T17:36:44.009Z"
   },
   {
    "duration": -46,
    "start_time": "2021-08-15T17:36:44.015Z"
   },
   {
    "duration": -48,
    "start_time": "2021-08-15T17:36:44.019Z"
   },
   {
    "duration": -52,
    "start_time": "2021-08-15T17:36:44.025Z"
   },
   {
    "duration": -55,
    "start_time": "2021-08-15T17:36:44.030Z"
   },
   {
    "duration": -59,
    "start_time": "2021-08-15T17:36:44.036Z"
   },
   {
    "duration": -62,
    "start_time": "2021-08-15T17:36:44.041Z"
   },
   {
    "duration": -74,
    "start_time": "2021-08-15T17:36:44.056Z"
   },
   {
    "duration": -77,
    "start_time": "2021-08-15T17:36:44.061Z"
   },
   {
    "duration": 22,
    "start_time": "2021-08-15T17:36:52.832Z"
   },
   {
    "duration": 8,
    "start_time": "2021-08-15T17:36:54.802Z"
   },
   {
    "duration": 11,
    "start_time": "2021-08-15T17:36:57.305Z"
   },
   {
    "duration": 1252,
    "start_time": "2021-08-15T17:36:59.173Z"
   },
   {
    "duration": 354,
    "start_time": "2021-08-15T17:37:08.007Z"
   },
   {
    "duration": 377,
    "start_time": "2021-08-15T17:37:21.298Z"
   },
   {
    "duration": 80,
    "start_time": "2021-08-15T17:37:21.677Z"
   },
   {
    "duration": 15,
    "start_time": "2021-08-15T17:37:21.760Z"
   },
   {
    "duration": 43,
    "start_time": "2021-08-15T17:37:21.778Z"
   },
   {
    "duration": 32,
    "start_time": "2021-08-15T17:37:21.823Z"
   },
   {
    "duration": 12,
    "start_time": "2021-08-15T17:37:21.857Z"
   },
   {
    "duration": 76,
    "start_time": "2021-08-15T17:37:21.871Z"
   },
   {
    "duration": 12,
    "start_time": "2021-08-15T17:37:21.951Z"
   },
   {
    "duration": 47,
    "start_time": "2021-08-15T17:37:21.965Z"
   },
   {
    "duration": 26,
    "start_time": "2021-08-15T17:37:22.015Z"
   },
   {
    "duration": 38,
    "start_time": "2021-08-15T17:37:22.043Z"
   },
   {
    "duration": 31,
    "start_time": "2021-08-15T17:37:22.084Z"
   },
   {
    "duration": 30,
    "start_time": "2021-08-15T17:37:22.118Z"
   },
   {
    "duration": 5,
    "start_time": "2021-08-15T17:37:22.151Z"
   },
   {
    "duration": 36,
    "start_time": "2021-08-15T17:37:22.158Z"
   },
   {
    "duration": 59,
    "start_time": "2021-08-15T17:37:22.197Z"
   },
   {
    "duration": 24,
    "start_time": "2021-08-15T17:37:22.259Z"
   },
   {
    "duration": 30,
    "start_time": "2021-08-15T17:37:22.285Z"
   },
   {
    "duration": 38,
    "start_time": "2021-08-15T17:37:22.318Z"
   },
   {
    "duration": 13,
    "start_time": "2021-08-15T17:37:22.359Z"
   },
   {
    "duration": 9,
    "start_time": "2021-08-15T17:37:22.374Z"
   },
   {
    "duration": 25,
    "start_time": "2021-08-15T17:37:22.385Z"
   },
   {
    "duration": 49,
    "start_time": "2021-08-15T17:37:22.415Z"
   },
   {
    "duration": 25,
    "start_time": "2021-08-15T17:37:22.467Z"
   },
   {
    "duration": 15,
    "start_time": "2021-08-15T17:37:22.495Z"
   },
   {
    "duration": 44,
    "start_time": "2021-08-15T17:37:22.513Z"
   },
   {
    "duration": 15,
    "start_time": "2021-08-15T17:37:22.560Z"
   },
   {
    "duration": 26,
    "start_time": "2021-08-15T17:37:22.578Z"
   },
   {
    "duration": 17,
    "start_time": "2021-08-15T17:37:22.607Z"
   },
   {
    "duration": 44,
    "start_time": "2021-08-15T17:37:22.626Z"
   },
   {
    "duration": 27,
    "start_time": "2021-08-15T17:37:22.673Z"
   },
   {
    "duration": 13,
    "start_time": "2021-08-15T17:37:22.702Z"
   },
   {
    "duration": 44,
    "start_time": "2021-08-15T17:37:22.717Z"
   },
   {
    "duration": 3252,
    "start_time": "2021-08-15T17:37:22.763Z"
   },
   {
    "duration": -10236,
    "start_time": "2021-08-15T17:37:36.253Z"
   },
   {
    "duration": -10239,
    "start_time": "2021-08-15T17:37:36.258Z"
   },
   {
    "duration": -10241,
    "start_time": "2021-08-15T17:37:36.262Z"
   },
   {
    "duration": -10244,
    "start_time": "2021-08-15T17:37:36.266Z"
   },
   {
    "duration": -10247,
    "start_time": "2021-08-15T17:37:36.270Z"
   },
   {
    "duration": -10250,
    "start_time": "2021-08-15T17:37:36.274Z"
   },
   {
    "duration": -10252,
    "start_time": "2021-08-15T17:37:36.277Z"
   },
   {
    "duration": -10254,
    "start_time": "2021-08-15T17:37:36.281Z"
   },
   {
    "duration": -10257,
    "start_time": "2021-08-15T17:37:36.285Z"
   },
   {
    "duration": -10259,
    "start_time": "2021-08-15T17:37:36.288Z"
   },
   {
    "duration": -10262,
    "start_time": "2021-08-15T17:37:36.292Z"
   },
   {
    "duration": -10265,
    "start_time": "2021-08-15T17:37:36.296Z"
   },
   {
    "duration": 343,
    "start_time": "2021-08-15T17:37:52.914Z"
   },
   {
    "duration": 72,
    "start_time": "2021-08-15T17:38:05.928Z"
   },
   {
    "duration": 13,
    "start_time": "2021-08-15T17:38:07.854Z"
   },
   {
    "duration": 10,
    "start_time": "2021-08-15T17:38:17.216Z"
   },
   {
    "duration": 13,
    "start_time": "2021-08-15T17:38:18.772Z"
   },
   {
    "duration": 21,
    "start_time": "2021-08-15T17:38:21.860Z"
   },
   {
    "duration": 15,
    "start_time": "2021-08-15T17:38:28.594Z"
   },
   {
    "duration": 2545,
    "start_time": "2021-08-15T17:38:31.593Z"
   },
   {
    "duration": 2464,
    "start_time": "2021-08-15T17:38:39.554Z"
   },
   {
    "duration": 17,
    "start_time": "2021-08-15T17:38:49.894Z"
   },
   {
    "duration": 15,
    "start_time": "2021-08-15T17:38:54.958Z"
   },
   {
    "duration": 12,
    "start_time": "2021-08-15T17:38:57.945Z"
   },
   {
    "duration": 274,
    "start_time": "2021-08-15T17:39:02.072Z"
   },
   {
    "duration": 380,
    "start_time": "2021-08-15T17:39:29.855Z"
   },
   {
    "duration": 9,
    "start_time": "2021-08-15T17:39:36.143Z"
   },
   {
    "duration": 376,
    "start_time": "2021-08-15T17:39:39.825Z"
   },
   {
    "duration": 10,
    "start_time": "2021-08-15T17:39:55.638Z"
   },
   {
    "duration": 11,
    "start_time": "2021-08-15T17:39:58.455Z"
   },
   {
    "duration": 382,
    "start_time": "2021-08-15T17:40:00.242Z"
   },
   {
    "duration": 2593,
    "start_time": "2021-08-15T17:40:44.742Z"
   },
   {
    "duration": 14,
    "start_time": "2021-08-15T17:41:13.254Z"
   },
   {
    "duration": 8,
    "start_time": "2021-08-15T17:41:20.745Z"
   },
   {
    "duration": 385,
    "start_time": "2021-08-15T17:41:27.531Z"
   },
   {
    "duration": 8,
    "start_time": "2021-08-15T17:41:56.453Z"
   },
   {
    "duration": 32,
    "start_time": "2021-08-15T17:42:37.675Z"
   },
   {
    "duration": 31,
    "start_time": "2021-08-15T17:42:57.395Z"
   },
   {
    "duration": 8,
    "start_time": "2021-08-15T17:43:43.587Z"
   },
   {
    "duration": 41,
    "start_time": "2021-08-15T17:46:52.309Z"
   },
   {
    "duration": 11,
    "start_time": "2021-08-15T17:48:36.669Z"
   },
   {
    "duration": 297,
    "start_time": "2021-08-15T17:49:18.482Z"
   },
   {
    "duration": 643,
    "start_time": "2021-08-15T17:49:48.576Z"
   },
   {
    "duration": 317,
    "start_time": "2021-08-15T17:50:06.726Z"
   },
   {
    "duration": 358,
    "start_time": "2021-08-15T17:50:32.811Z"
   },
   {
    "duration": 381,
    "start_time": "2021-08-15T17:50:43.242Z"
   },
   {
    "duration": 122,
    "start_time": "2021-08-15T18:07:01.534Z"
   },
   {
    "duration": 967,
    "start_time": "2021-08-15T18:07:57.093Z"
   },
   {
    "duration": 35,
    "start_time": "2021-08-15T18:10:45.224Z"
   },
   {
    "duration": 10440,
    "start_time": "2021-08-15T18:11:21.118Z"
   },
   {
    "duration": 20,
    "start_time": "2021-08-15T18:11:49.241Z"
   },
   {
    "duration": 257,
    "start_time": "2021-08-15T18:11:53.142Z"
   },
   {
    "duration": 8,
    "start_time": "2021-08-15T18:11:59.754Z"
   },
   {
    "duration": 9232,
    "start_time": "2021-08-15T18:12:06.167Z"
   },
   {
    "duration": 57,
    "start_time": "2021-08-15T18:12:25.701Z"
   },
   {
    "duration": 667,
    "start_time": "2021-08-15T18:14:01.507Z"
   },
   {
    "duration": 22,
    "start_time": "2021-08-15T18:15:22.391Z"
   },
   {
    "duration": 28,
    "start_time": "2021-08-15T18:15:59.437Z"
   },
   {
    "duration": 1020,
    "start_time": "2021-08-15T18:16:16.945Z"
   },
   {
    "duration": 648,
    "start_time": "2021-08-15T18:16:46.233Z"
   },
   {
    "duration": 620,
    "start_time": "2021-08-15T18:51:05.348Z"
   },
   {
    "duration": 679,
    "start_time": "2021-08-15T18:51:33.680Z"
   },
   {
    "duration": 643,
    "start_time": "2021-08-15T18:51:54.347Z"
   },
   {
    "duration": 621,
    "start_time": "2021-08-15T18:52:08.758Z"
   },
   {
    "duration": 897,
    "start_time": "2021-08-15T18:52:49.759Z"
   },
   {
    "duration": 18,
    "start_time": "2021-08-15T18:53:06.371Z"
   },
   {
    "duration": 855,
    "start_time": "2021-08-15T18:53:31.946Z"
   },
   {
    "duration": 19,
    "start_time": "2021-08-15T18:56:56.385Z"
   },
   {
    "duration": 14,
    "start_time": "2021-08-15T18:57:06.916Z"
   },
   {
    "duration": 752,
    "start_time": "2021-08-15T18:58:31.433Z"
   },
   {
    "duration": 554,
    "start_time": "2021-08-15T19:00:23.334Z"
   },
   {
    "duration": 143,
    "start_time": "2021-08-15T19:00:37.309Z"
   },
   {
    "duration": 122,
    "start_time": "2021-08-15T19:00:49.709Z"
   },
   {
    "duration": 759,
    "start_time": "2021-08-15T19:00:58.037Z"
   },
   {
    "duration": 719,
    "start_time": "2021-08-15T19:03:51.252Z"
   },
   {
    "duration": 71,
    "start_time": "2021-08-15T19:04:02.116Z"
   },
   {
    "duration": 39,
    "start_time": "2021-08-15T19:09:49.219Z"
   },
   {
    "duration": 363,
    "start_time": "2021-08-15T19:10:30.882Z"
   },
   {
    "duration": 32,
    "start_time": "2021-08-15T19:11:07.750Z"
   },
   {
    "duration": 21,
    "start_time": "2021-08-15T19:11:20.797Z"
   },
   {
    "duration": 126,
    "start_time": "2021-08-15T19:12:20.542Z"
   },
   {
    "duration": 392,
    "start_time": "2021-08-15T19:12:29.436Z"
   },
   {
    "duration": 15,
    "start_time": "2021-08-15T19:12:47.176Z"
   },
   {
    "duration": 14,
    "start_time": "2021-08-15T19:13:15.046Z"
   },
   {
    "duration": 39,
    "start_time": "2021-08-15T19:13:25.925Z"
   },
   {
    "duration": 57,
    "start_time": "2021-08-15T19:15:29.308Z"
   },
   {
    "duration": 374,
    "start_time": "2021-08-15T19:22:50.858Z"
   },
   {
    "duration": 355,
    "start_time": "2021-08-15T19:23:17.556Z"
   },
   {
    "duration": 58,
    "start_time": "2021-08-15T19:27:35.022Z"
   },
   {
    "duration": 586,
    "start_time": "2021-08-15T19:28:50.381Z"
   },
   {
    "duration": 34,
    "start_time": "2021-08-15T19:30:11.846Z"
   },
   {
    "duration": 649,
    "start_time": "2021-08-15T19:30:20.307Z"
   },
   {
    "duration": 8720,
    "start_time": "2021-08-15T19:31:44.313Z"
   },
   {
    "duration": 9906,
    "start_time": "2021-08-15T19:32:13.775Z"
   },
   {
    "duration": 368,
    "start_time": "2021-08-15T19:33:55.651Z"
   },
   {
    "duration": 412,
    "start_time": "2021-08-15T19:34:07.045Z"
   },
   {
    "duration": 54,
    "start_time": "2021-08-15T19:34:18.913Z"
   },
   {
    "duration": 373,
    "start_time": "2021-08-21T06:14:16.517Z"
   },
   {
    "duration": 1936,
    "start_time": "2021-08-21T06:14:24.037Z"
   },
   {
    "duration": -52,
    "start_time": "2021-08-21T06:14:26.030Z"
   },
   {
    "duration": -69,
    "start_time": "2021-08-21T06:14:26.048Z"
   },
   {
    "duration": -72,
    "start_time": "2021-08-21T06:14:26.052Z"
   },
   {
    "duration": -85,
    "start_time": "2021-08-21T06:14:26.067Z"
   },
   {
    "duration": -94,
    "start_time": "2021-08-21T06:14:26.077Z"
   },
   {
    "duration": -106,
    "start_time": "2021-08-21T06:14:26.090Z"
   },
   {
    "duration": -109,
    "start_time": "2021-08-21T06:14:26.094Z"
   },
   {
    "duration": -120,
    "start_time": "2021-08-21T06:14:26.107Z"
   },
   {
    "duration": -123,
    "start_time": "2021-08-21T06:14:26.111Z"
   },
   {
    "duration": -129,
    "start_time": "2021-08-21T06:14:26.118Z"
   },
   {
    "duration": -148,
    "start_time": "2021-08-21T06:14:26.139Z"
   },
   {
    "duration": -165,
    "start_time": "2021-08-21T06:14:26.157Z"
   },
   {
    "duration": -166,
    "start_time": "2021-08-21T06:14:26.159Z"
   },
   {
    "duration": -195,
    "start_time": "2021-08-21T06:14:26.189Z"
   },
   {
    "duration": -221,
    "start_time": "2021-08-21T06:14:26.216Z"
   },
   {
    "duration": -223,
    "start_time": "2021-08-21T06:14:26.220Z"
   },
   {
    "duration": -226,
    "start_time": "2021-08-21T06:14:26.224Z"
   },
   {
    "duration": -228,
    "start_time": "2021-08-21T06:14:26.227Z"
   },
   {
    "duration": -230,
    "start_time": "2021-08-21T06:14:26.230Z"
   },
   {
    "duration": -233,
    "start_time": "2021-08-21T06:14:26.234Z"
   },
   {
    "duration": -234,
    "start_time": "2021-08-21T06:14:26.237Z"
   },
   {
    "duration": -237,
    "start_time": "2021-08-21T06:14:26.241Z"
   },
   {
    "duration": -239,
    "start_time": "2021-08-21T06:14:26.244Z"
   },
   {
    "duration": -241,
    "start_time": "2021-08-21T06:14:26.247Z"
   },
   {
    "duration": -243,
    "start_time": "2021-08-21T06:14:26.251Z"
   },
   {
    "duration": -289,
    "start_time": "2021-08-21T06:14:26.298Z"
   },
   {
    "duration": -291,
    "start_time": "2021-08-21T06:14:26.301Z"
   },
   {
    "duration": -293,
    "start_time": "2021-08-21T06:14:26.304Z"
   },
   {
    "duration": -299,
    "start_time": "2021-08-21T06:14:26.311Z"
   },
   {
    "duration": -300,
    "start_time": "2021-08-21T06:14:26.314Z"
   },
   {
    "duration": -301,
    "start_time": "2021-08-21T06:14:26.316Z"
   },
   {
    "duration": -303,
    "start_time": "2021-08-21T06:14:26.319Z"
   },
   {
    "duration": -303,
    "start_time": "2021-08-21T06:14:26.321Z"
   },
   {
    "duration": -309,
    "start_time": "2021-08-21T06:14:26.328Z"
   },
   {
    "duration": -310,
    "start_time": "2021-08-21T06:14:26.330Z"
   },
   {
    "duration": -251,
    "start_time": "2021-08-21T06:14:26.333Z"
   },
   {
    "duration": -251,
    "start_time": "2021-08-21T06:14:26.335Z"
   },
   {
    "duration": -251,
    "start_time": "2021-08-21T06:14:26.337Z"
   },
   {
    "duration": -269,
    "start_time": "2021-08-21T06:14:26.356Z"
   },
   {
    "duration": -270,
    "start_time": "2021-08-21T06:14:26.358Z"
   },
   {
    "duration": -271,
    "start_time": "2021-08-21T06:14:26.360Z"
   },
   {
    "duration": -273,
    "start_time": "2021-08-21T06:14:26.363Z"
   },
   {
    "duration": -273,
    "start_time": "2021-08-21T06:14:26.365Z"
   },
   {
    "duration": -274,
    "start_time": "2021-08-21T06:14:26.367Z"
   },
   {
    "duration": -274,
    "start_time": "2021-08-21T06:14:26.369Z"
   },
   {
    "duration": -276,
    "start_time": "2021-08-21T06:14:26.372Z"
   },
   {
    "duration": -283,
    "start_time": "2021-08-21T06:14:26.380Z"
   },
   {
    "duration": -300,
    "start_time": "2021-08-21T06:14:26.399Z"
   },
   {
    "duration": -302,
    "start_time": "2021-08-21T06:14:26.402Z"
   },
   {
    "duration": -304,
    "start_time": "2021-08-21T06:14:26.405Z"
   },
   {
    "duration": -305,
    "start_time": "2021-08-21T06:14:26.407Z"
   },
   {
    "duration": -305,
    "start_time": "2021-08-21T06:14:26.409Z"
   },
   {
    "duration": -306,
    "start_time": "2021-08-21T06:14:26.411Z"
   },
   {
    "duration": 255,
    "start_time": "2021-08-21T06:14:53.250Z"
   },
   {
    "duration": 470,
    "start_time": "2021-08-21T06:15:03.368Z"
   },
   {
    "duration": -67,
    "start_time": "2021-08-21T06:15:03.909Z"
   },
   {
    "duration": -71,
    "start_time": "2021-08-21T06:15:03.916Z"
   },
   {
    "duration": -76,
    "start_time": "2021-08-21T06:15:03.923Z"
   },
   {
    "duration": -79,
    "start_time": "2021-08-21T06:15:03.928Z"
   },
   {
    "duration": -90,
    "start_time": "2021-08-21T06:15:03.941Z"
   },
   {
    "duration": -92,
    "start_time": "2021-08-21T06:15:03.945Z"
   },
   {
    "duration": -95,
    "start_time": "2021-08-21T06:15:03.950Z"
   },
   {
    "duration": -102,
    "start_time": "2021-08-21T06:15:03.959Z"
   },
   {
    "duration": -105,
    "start_time": "2021-08-21T06:15:03.963Z"
   },
   {
    "duration": -107,
    "start_time": "2021-08-21T06:15:03.966Z"
   },
   {
    "duration": -122,
    "start_time": "2021-08-21T06:15:03.982Z"
   },
   {
    "duration": -123,
    "start_time": "2021-08-21T06:15:03.985Z"
   },
   {
    "duration": -124,
    "start_time": "2021-08-21T06:15:03.987Z"
   },
   {
    "duration": -126,
    "start_time": "2021-08-21T06:15:03.990Z"
   },
   {
    "duration": -126,
    "start_time": "2021-08-21T06:15:03.992Z"
   },
   {
    "duration": -129,
    "start_time": "2021-08-21T06:15:03.996Z"
   },
   {
    "duration": -131,
    "start_time": "2021-08-21T06:15:03.999Z"
   },
   {
    "duration": -137,
    "start_time": "2021-08-21T06:15:04.007Z"
   },
   {
    "duration": -139,
    "start_time": "2021-08-21T06:15:04.010Z"
   },
   {
    "duration": -152,
    "start_time": "2021-08-21T06:15:04.024Z"
   },
   {
    "duration": -153,
    "start_time": "2021-08-21T06:15:04.027Z"
   },
   {
    "duration": -155,
    "start_time": "2021-08-21T06:15:04.030Z"
   },
   {
    "duration": -156,
    "start_time": "2021-08-21T06:15:04.032Z"
   },
   {
    "duration": -157,
    "start_time": "2021-08-21T06:15:04.035Z"
   },
   {
    "duration": -154,
    "start_time": "2021-08-21T06:15:04.037Z"
   },
   {
    "duration": -172,
    "start_time": "2021-08-21T06:15:04.056Z"
   },
   {
    "duration": -174,
    "start_time": "2021-08-21T06:15:04.059Z"
   },
   {
    "duration": -176,
    "start_time": "2021-08-21T06:15:04.062Z"
   },
   {
    "duration": -181,
    "start_time": "2021-08-21T06:15:04.069Z"
   },
   {
    "duration": -183,
    "start_time": "2021-08-21T06:15:04.072Z"
   },
   {
    "duration": -204,
    "start_time": "2021-08-21T06:15:04.094Z"
   },
   {
    "duration": -206,
    "start_time": "2021-08-21T06:15:04.097Z"
   },
   {
    "duration": -207,
    "start_time": "2021-08-21T06:15:04.099Z"
   },
   {
    "duration": -209,
    "start_time": "2021-08-21T06:15:04.102Z"
   },
   {
    "duration": -222,
    "start_time": "2021-08-21T06:15:04.117Z"
   },
   {
    "duration": -223,
    "start_time": "2021-08-21T06:15:04.119Z"
   },
   {
    "duration": -225,
    "start_time": "2021-08-21T06:15:04.122Z"
   },
   {
    "duration": -253,
    "start_time": "2021-08-21T06:15:04.151Z"
   },
   {
    "duration": -255,
    "start_time": "2021-08-21T06:15:04.154Z"
   },
   {
    "duration": -256,
    "start_time": "2021-08-21T06:15:04.157Z"
   },
   {
    "duration": -257,
    "start_time": "2021-08-21T06:15:04.159Z"
   },
   {
    "duration": -260,
    "start_time": "2021-08-21T06:15:04.163Z"
   },
   {
    "duration": -260,
    "start_time": "2021-08-21T06:15:04.165Z"
   },
   {
    "duration": -266,
    "start_time": "2021-08-21T06:15:04.172Z"
   },
   {
    "duration": -268,
    "start_time": "2021-08-21T06:15:04.175Z"
   },
   {
    "duration": -270,
    "start_time": "2021-08-21T06:15:04.178Z"
   },
   {
    "duration": -274,
    "start_time": "2021-08-21T06:15:04.184Z"
   },
   {
    "duration": -275,
    "start_time": "2021-08-21T06:15:04.186Z"
   },
   {
    "duration": -277,
    "start_time": "2021-08-21T06:15:04.189Z"
   },
   {
    "duration": -278,
    "start_time": "2021-08-21T06:15:04.191Z"
   },
   {
    "duration": -279,
    "start_time": "2021-08-21T06:15:04.194Z"
   },
   {
    "duration": -281,
    "start_time": "2021-08-21T06:15:04.197Z"
   },
   {
    "duration": 394,
    "start_time": "2021-08-21T06:15:12.711Z"
   },
   {
    "duration": 454,
    "start_time": "2021-08-21T06:15:19.703Z"
   },
   {
    "duration": 433,
    "start_time": "2021-08-21T06:15:42.020Z"
   },
   {
    "duration": 385,
    "start_time": "2021-08-21T06:15:48.346Z"
   },
   {
    "duration": 257,
    "start_time": "2021-08-21T06:16:23.480Z"
   },
   {
    "duration": 46,
    "start_time": "2021-08-21T06:16:27.048Z"
   },
   {
    "duration": 16,
    "start_time": "2021-08-21T06:16:31.999Z"
   },
   {
    "duration": 25,
    "start_time": "2021-08-21T06:16:34.930Z"
   },
   {
    "duration": 18,
    "start_time": "2021-08-21T06:16:37.916Z"
   },
   {
    "duration": 8,
    "start_time": "2021-08-21T06:16:41.078Z"
   },
   {
    "duration": 34,
    "start_time": "2021-08-21T06:16:43.445Z"
   },
   {
    "duration": 11,
    "start_time": "2021-08-21T06:16:49.182Z"
   },
   {
    "duration": 14,
    "start_time": "2021-08-21T06:16:51.825Z"
   },
   {
    "duration": 16,
    "start_time": "2021-08-21T06:16:53.840Z"
   },
   {
    "duration": 16,
    "start_time": "2021-08-21T06:16:56.869Z"
   },
   {
    "duration": 14,
    "start_time": "2021-08-21T06:16:59.522Z"
   },
   {
    "duration": 17,
    "start_time": "2021-08-21T06:17:04.132Z"
   },
   {
    "duration": 5,
    "start_time": "2021-08-21T06:17:07.475Z"
   },
   {
    "duration": 14,
    "start_time": "2021-08-21T06:17:10.400Z"
   },
   {
    "duration": 44,
    "start_time": "2021-08-21T06:17:15.055Z"
   },
   {
    "duration": 22,
    "start_time": "2021-08-21T06:17:18.005Z"
   },
   {
    "duration": 27,
    "start_time": "2021-08-21T06:17:22.139Z"
   },
   {
    "duration": 9,
    "start_time": "2021-08-21T06:17:24.338Z"
   },
   {
    "duration": 13,
    "start_time": "2021-08-21T06:17:26.676Z"
   },
   {
    "duration": 7,
    "start_time": "2021-08-21T06:17:28.923Z"
   },
   {
    "duration": 16,
    "start_time": "2021-08-21T06:17:31.297Z"
   },
   {
    "duration": 20,
    "start_time": "2021-08-21T06:17:33.764Z"
   },
   {
    "duration": 19,
    "start_time": "2021-08-21T06:17:36.682Z"
   },
   {
    "duration": 15,
    "start_time": "2021-08-21T06:17:41.900Z"
   },
   {
    "duration": 19,
    "start_time": "2021-08-21T06:17:43.983Z"
   },
   {
    "duration": 14,
    "start_time": "2021-08-21T06:17:46.040Z"
   },
   {
    "duration": 19,
    "start_time": "2021-08-21T06:17:50.113Z"
   },
   {
    "duration": 10,
    "start_time": "2021-08-21T06:17:57.348Z"
   },
   {
    "duration": 17,
    "start_time": "2021-08-21T06:17:59.543Z"
   },
   {
    "duration": 29,
    "start_time": "2021-08-21T06:18:02.698Z"
   },
   {
    "duration": 9,
    "start_time": "2021-08-21T06:18:05.691Z"
   },
   {
    "duration": 15,
    "start_time": "2021-08-21T06:18:08.192Z"
   },
   {
    "duration": 14,
    "start_time": "2021-08-21T06:18:11.211Z"
   },
   {
    "duration": 9,
    "start_time": "2021-08-21T06:18:13.914Z"
   },
   {
    "duration": 12,
    "start_time": "2021-08-21T06:18:18.435Z"
   },
   {
    "duration": 28,
    "start_time": "2021-08-21T06:18:43.796Z"
   },
   {
    "duration": 15,
    "start_time": "2021-08-21T06:18:46.656Z"
   },
   {
    "duration": 12,
    "start_time": "2021-08-21T06:18:48.511Z"
   },
   {
    "duration": 13,
    "start_time": "2021-08-21T06:18:52.146Z"
   },
   {
    "duration": 11,
    "start_time": "2021-08-21T06:18:55.552Z"
   },
   {
    "duration": 15,
    "start_time": "2021-08-21T06:19:33.268Z"
   },
   {
    "duration": 23,
    "start_time": "2021-08-21T06:19:40.294Z"
   },
   {
    "duration": 9,
    "start_time": "2021-08-21T06:19:44.031Z"
   },
   {
    "duration": 32,
    "start_time": "2021-08-21T06:19:47.358Z"
   },
   {
    "duration": 293,
    "start_time": "2021-08-21T06:19:51.195Z"
   },
   {
    "duration": 301,
    "start_time": "2021-08-21T06:19:54.773Z"
   },
   {
    "duration": 14,
    "start_time": "2021-08-21T06:19:58.110Z"
   },
   {
    "duration": 316,
    "start_time": "2021-08-21T06:20:01.984Z"
   },
   {
    "duration": 24,
    "start_time": "2021-08-21T06:20:11.306Z"
   },
   {
    "duration": 31,
    "start_time": "2021-08-21T06:20:14.655Z"
   },
   {
    "duration": 32,
    "start_time": "2021-08-21T06:20:19.141Z"
   },
   {
    "duration": 6537,
    "start_time": "2021-08-21T06:20:28.290Z"
   },
   {
    "duration": 31,
    "start_time": "2021-08-21T06:22:40.053Z"
   },
   {
    "duration": 26,
    "start_time": "2021-08-21T06:25:07.938Z"
   },
   {
    "duration": 26,
    "start_time": "2021-08-21T06:25:25.051Z"
   },
   {
    "duration": 25,
    "start_time": "2021-08-21T06:25:46.411Z"
   },
   {
    "duration": 27,
    "start_time": "2021-08-21T06:25:55.916Z"
   },
   {
    "duration": 287,
    "start_time": "2021-08-21T06:26:13.595Z"
   },
   {
    "duration": 25,
    "start_time": "2021-08-21T06:26:30.504Z"
   },
   {
    "duration": 8,
    "start_time": "2021-08-21T06:26:39.631Z"
   },
   {
    "duration": 458,
    "start_time": "2021-08-21T06:27:20.200Z"
   },
   {
    "duration": 32,
    "start_time": "2021-08-21T06:27:51.615Z"
   },
   {
    "duration": 26,
    "start_time": "2021-08-21T06:27:59.779Z"
   },
   {
    "duration": 8456,
    "start_time": "2021-08-21T06:28:05.162Z"
   },
   {
    "duration": 23,
    "start_time": "2021-08-21T06:30:58.840Z"
   },
   {
    "duration": 422,
    "start_time": "2021-08-21T06:35:11.396Z"
   },
   {
    "duration": 307,
    "start_time": "2021-08-21T06:35:25.136Z"
   },
   {
    "duration": 366,
    "start_time": "2021-08-21T06:36:38.487Z"
   },
   {
    "duration": 8622,
    "start_time": "2021-08-21T06:39:54.904Z"
   },
   {
    "duration": 8039,
    "start_time": "2021-08-21T06:40:38.448Z"
   },
   {
    "duration": 6176,
    "start_time": "2021-08-21T06:43:13.860Z"
   },
   {
    "duration": 6329,
    "start_time": "2021-08-21T06:43:32.276Z"
   },
   {
    "duration": 6775,
    "start_time": "2021-08-21T07:05:57.135Z"
   },
   {
    "duration": 22,
    "start_time": "2021-08-21T07:07:33.657Z"
   },
   {
    "duration": 7370,
    "start_time": "2021-08-21T07:07:54.623Z"
   },
   {
    "duration": 270,
    "start_time": "2021-08-21T07:09:43.816Z"
   },
   {
    "duration": 258,
    "start_time": "2021-08-21T07:10:03.092Z"
   },
   {
    "duration": 281,
    "start_time": "2021-08-21T07:10:34.562Z"
   },
   {
    "duration": 340,
    "start_time": "2021-08-21T07:10:59.174Z"
   },
   {
    "duration": 292,
    "start_time": "2021-08-21T07:11:06.279Z"
   },
   {
    "duration": 291,
    "start_time": "2021-08-21T07:11:15.184Z"
   },
   {
    "duration": 11,
    "start_time": "2021-08-21T07:12:03.512Z"
   },
   {
    "duration": 322,
    "start_time": "2021-08-21T07:12:29.170Z"
   },
   {
    "duration": 7313,
    "start_time": "2021-08-21T07:13:44.952Z"
   },
   {
    "duration": 6606,
    "start_time": "2021-08-21T07:15:00.039Z"
   },
   {
    "duration": 10,
    "start_time": "2021-08-21T07:15:10.713Z"
   },
   {
    "duration": 104,
    "start_time": "2021-08-21T08:13:41.337Z"
   },
   {
    "duration": 703,
    "start_time": "2021-08-21T08:14:25.227Z"
   },
   {
    "duration": 371,
    "start_time": "2021-08-21T08:17:35.758Z"
   },
   {
    "duration": 324,
    "start_time": "2021-08-21T08:18:50.181Z"
   },
   {
    "duration": 45,
    "start_time": "2021-08-21T08:18:50.508Z"
   },
   {
    "duration": 14,
    "start_time": "2021-08-21T08:18:50.556Z"
   },
   {
    "duration": 28,
    "start_time": "2021-08-21T08:18:50.573Z"
   },
   {
    "duration": 23,
    "start_time": "2021-08-21T08:18:50.604Z"
   },
   {
    "duration": 13,
    "start_time": "2021-08-21T08:18:50.629Z"
   },
   {
    "duration": 62,
    "start_time": "2021-08-21T08:18:50.645Z"
   },
   {
    "duration": 13,
    "start_time": "2021-08-21T08:18:50.710Z"
   },
   {
    "duration": 28,
    "start_time": "2021-08-21T08:18:50.726Z"
   },
   {
    "duration": 34,
    "start_time": "2021-08-21T08:18:50.756Z"
   },
   {
    "duration": 18,
    "start_time": "2021-08-21T08:18:50.792Z"
   },
   {
    "duration": 15,
    "start_time": "2021-08-21T08:18:50.812Z"
   },
   {
    "duration": 25,
    "start_time": "2021-08-21T08:18:50.829Z"
   },
   {
    "duration": 6,
    "start_time": "2021-08-21T08:18:50.883Z"
   },
   {
    "duration": 30,
    "start_time": "2021-08-21T08:18:50.891Z"
   },
   {
    "duration": 44,
    "start_time": "2021-08-21T08:18:50.923Z"
   },
   {
    "duration": 23,
    "start_time": "2021-08-21T08:18:50.983Z"
   },
   {
    "duration": 30,
    "start_time": "2021-08-21T08:18:51.008Z"
   },
   {
    "duration": 9,
    "start_time": "2021-08-21T08:18:51.040Z"
   },
   {
    "duration": 42,
    "start_time": "2021-08-21T08:18:51.051Z"
   },
   {
    "duration": 10,
    "start_time": "2021-08-21T08:18:51.095Z"
   },
   {
    "duration": 15,
    "start_time": "2021-08-21T08:18:51.107Z"
   },
   {
    "duration": 55,
    "start_time": "2021-08-21T08:18:51.128Z"
   },
   {
    "duration": 18,
    "start_time": "2021-08-21T08:18:51.187Z"
   },
   {
    "duration": 16,
    "start_time": "2021-08-21T08:18:51.207Z"
   },
   {
    "duration": 19,
    "start_time": "2021-08-21T08:18:51.225Z"
   },
   {
    "duration": 48,
    "start_time": "2021-08-21T08:18:51.246Z"
   },
   {
    "duration": 19,
    "start_time": "2021-08-21T08:18:51.297Z"
   },
   {
    "duration": 13,
    "start_time": "2021-08-21T08:18:51.318Z"
   },
   {
    "duration": 49,
    "start_time": "2021-08-21T08:18:51.333Z"
   },
   {
    "duration": 22,
    "start_time": "2021-08-21T08:18:51.385Z"
   },
   {
    "duration": 9,
    "start_time": "2021-08-21T08:18:51.409Z"
   },
   {
    "duration": 14,
    "start_time": "2021-08-21T08:18:51.420Z"
   },
   {
    "duration": 53,
    "start_time": "2021-08-21T08:18:51.436Z"
   },
   {
    "duration": 8,
    "start_time": "2021-08-21T08:18:51.491Z"
   },
   {
    "duration": 15,
    "start_time": "2021-08-21T08:18:51.501Z"
   },
   {
    "duration": 30,
    "start_time": "2021-08-21T08:18:51.518Z"
   },
   {
    "duration": 41,
    "start_time": "2021-08-21T08:18:51.550Z"
   },
   {
    "duration": 9,
    "start_time": "2021-08-21T08:18:51.593Z"
   },
   {
    "duration": 10,
    "start_time": "2021-08-21T08:18:51.604Z"
   },
   {
    "duration": 8,
    "start_time": "2021-08-21T08:18:51.617Z"
   },
   {
    "duration": 56,
    "start_time": "2021-08-21T08:18:51.628Z"
   },
   {
    "duration": 27,
    "start_time": "2021-08-21T08:18:51.687Z"
   },
   {
    "duration": 11,
    "start_time": "2021-08-21T08:18:51.717Z"
   },
   {
    "duration": 58,
    "start_time": "2021-08-21T08:18:51.731Z"
   },
   {
    "duration": 325,
    "start_time": "2021-08-21T08:18:51.792Z"
   },
   {
    "duration": 439,
    "start_time": "2021-08-21T08:18:52.119Z"
   },
   {
    "duration": 23,
    "start_time": "2021-08-21T08:18:52.561Z"
   },
   {
    "duration": 314,
    "start_time": "2021-08-21T08:18:52.586Z"
   },
   {
    "duration": 23,
    "start_time": "2021-08-21T08:18:52.903Z"
   },
   {
    "duration": 37,
    "start_time": "2021-08-21T08:18:52.928Z"
   },
   {
    "duration": 29,
    "start_time": "2021-08-21T08:18:52.983Z"
   },
   {
    "duration": 14,
    "start_time": "2021-08-21T08:18:53.014Z"
   },
   {
    "duration": 427,
    "start_time": "2021-08-21T08:18:53.031Z"
   },
   {
    "duration": 309,
    "start_time": "2021-08-21T08:18:53.461Z"
   },
   {
    "duration": 276,
    "start_time": "2021-08-21T08:18:53.772Z"
   },
   {
    "duration": -942,
    "start_time": "2021-08-21T08:18:54.992Z"
   },
   {
    "duration": -947,
    "start_time": "2021-08-21T08:18:54.998Z"
   },
   {
    "duration": -953,
    "start_time": "2021-08-21T08:18:55.005Z"
   },
   {
    "duration": -967,
    "start_time": "2021-08-21T08:18:55.021Z"
   },
   {
    "duration": -972,
    "start_time": "2021-08-21T08:18:55.027Z"
   },
   {
    "duration": 30,
    "start_time": "2021-08-21T08:19:10.748Z"
   },
   {
    "duration": 301,
    "start_time": "2021-08-21T08:19:16.711Z"
   },
   {
    "duration": 299,
    "start_time": "2021-08-21T08:19:20.802Z"
   },
   {
    "duration": 341,
    "start_time": "2021-08-21T08:19:42.293Z"
   },
   {
    "duration": 959,
    "start_time": "2021-08-21T08:20:17.359Z"
   },
   {
    "duration": 16,
    "start_time": "2021-08-21T08:20:39.140Z"
   },
   {
    "duration": 256,
    "start_time": "2021-08-21T08:21:10.961Z"
   },
   {
    "duration": 294,
    "start_time": "2021-08-21T08:21:25.756Z"
   },
   {
    "duration": 205,
    "start_time": "2021-08-21T08:21:37.487Z"
   },
   {
    "duration": 54,
    "start_time": "2021-08-21T08:21:37.695Z"
   },
   {
    "duration": 15,
    "start_time": "2021-08-21T08:21:37.752Z"
   },
   {
    "duration": 21,
    "start_time": "2021-08-21T08:21:37.784Z"
   },
   {
    "duration": 25,
    "start_time": "2021-08-21T08:21:37.807Z"
   },
   {
    "duration": 9,
    "start_time": "2021-08-21T08:21:37.834Z"
   },
   {
    "duration": 64,
    "start_time": "2021-08-21T08:21:37.845Z"
   },
   {
    "duration": 11,
    "start_time": "2021-08-21T08:21:37.913Z"
   },
   {
    "duration": 23,
    "start_time": "2021-08-21T08:21:37.927Z"
   },
   {
    "duration": 42,
    "start_time": "2021-08-21T08:21:37.952Z"
   },
   {
    "duration": 28,
    "start_time": "2021-08-21T08:21:37.996Z"
   },
   {
    "duration": 20,
    "start_time": "2021-08-21T08:21:38.026Z"
   },
   {
    "duration": 27,
    "start_time": "2021-08-21T08:21:38.049Z"
   },
   {
    "duration": 7,
    "start_time": "2021-08-21T08:21:38.083Z"
   },
   {
    "duration": 28,
    "start_time": "2021-08-21T08:21:38.092Z"
   },
   {
    "duration": 61,
    "start_time": "2021-08-21T08:21:38.123Z"
   },
   {
    "duration": 25,
    "start_time": "2021-08-21T08:21:38.187Z"
   },
   {
    "duration": 41,
    "start_time": "2021-08-21T08:21:38.215Z"
   },
   {
    "duration": 26,
    "start_time": "2021-08-21T08:21:38.258Z"
   },
   {
    "duration": 13,
    "start_time": "2021-08-21T08:21:38.287Z"
   },
   {
    "duration": 18,
    "start_time": "2021-08-21T08:21:38.303Z"
   },
   {
    "duration": 21,
    "start_time": "2021-08-21T08:21:38.323Z"
   },
   {
    "duration": 48,
    "start_time": "2021-08-21T08:21:38.350Z"
   },
   {
    "duration": 26,
    "start_time": "2021-08-21T08:21:38.402Z"
   },
   {
    "duration": 14,
    "start_time": "2021-08-21T08:21:38.431Z"
   },
   {
    "duration": 46,
    "start_time": "2021-08-21T08:21:38.447Z"
   },
   {
    "duration": 17,
    "start_time": "2021-08-21T08:21:38.496Z"
   },
   {
    "duration": 28,
    "start_time": "2021-08-21T08:21:38.516Z"
   },
   {
    "duration": 13,
    "start_time": "2021-08-21T08:21:38.547Z"
   },
   {
    "duration": 32,
    "start_time": "2021-08-21T08:21:38.562Z"
   },
   {
    "duration": 25,
    "start_time": "2021-08-21T08:21:38.596Z"
   },
   {
    "duration": 15,
    "start_time": "2021-08-21T08:21:38.624Z"
   },
   {
    "duration": 23,
    "start_time": "2021-08-21T08:21:38.641Z"
   },
   {
    "duration": 25,
    "start_time": "2021-08-21T08:21:38.666Z"
   },
   {
    "duration": 8,
    "start_time": "2021-08-21T08:21:38.693Z"
   },
   {
    "duration": 16,
    "start_time": "2021-08-21T08:21:38.703Z"
   },
   {
    "duration": 31,
    "start_time": "2021-08-21T08:21:38.721Z"
   },
   {
    "duration": 34,
    "start_time": "2021-08-21T08:21:38.754Z"
   },
   {
    "duration": 23,
    "start_time": "2021-08-21T08:21:38.791Z"
   },
   {
    "duration": 13,
    "start_time": "2021-08-21T08:21:38.817Z"
   },
   {
    "duration": 15,
    "start_time": "2021-08-21T08:21:38.833Z"
   },
   {
    "duration": 20,
    "start_time": "2021-08-21T08:21:38.850Z"
   },
   {
    "duration": 37,
    "start_time": "2021-08-21T08:21:38.873Z"
   },
   {
    "duration": 13,
    "start_time": "2021-08-21T08:21:38.912Z"
   },
   {
    "duration": 49,
    "start_time": "2021-08-21T08:21:38.928Z"
   },
   {
    "duration": 307,
    "start_time": "2021-08-21T08:21:38.982Z"
   },
   {
    "duration": 339,
    "start_time": "2021-08-21T08:21:39.292Z"
   },
   {
    "duration": 15,
    "start_time": "2021-08-21T08:21:39.634Z"
   },
   {
    "duration": 338,
    "start_time": "2021-08-21T08:21:39.652Z"
   },
   {
    "duration": 27,
    "start_time": "2021-08-21T08:21:39.993Z"
   },
   {
    "duration": 61,
    "start_time": "2021-08-21T08:21:40.023Z"
   },
   {
    "duration": 32,
    "start_time": "2021-08-21T08:21:40.087Z"
   },
   {
    "duration": 12,
    "start_time": "2021-08-21T08:21:40.122Z"
   },
   {
    "duration": 440,
    "start_time": "2021-08-21T08:21:40.137Z"
   },
   {
    "duration": 302,
    "start_time": "2021-08-21T08:21:40.583Z"
   },
   {
    "duration": 853,
    "start_time": "2021-08-21T08:21:40.887Z"
   },
   {
    "duration": -964,
    "start_time": "2021-08-21T08:21:42.706Z"
   },
   {
    "duration": -967,
    "start_time": "2021-08-21T08:21:42.711Z"
   },
   {
    "duration": -974,
    "start_time": "2021-08-21T08:21:42.720Z"
   },
   {
    "duration": -979,
    "start_time": "2021-08-21T08:21:42.726Z"
   },
   {
    "duration": -983,
    "start_time": "2021-08-21T08:21:42.732Z"
   },
   {
    "duration": 8,
    "start_time": "2021-08-21T08:22:11.053Z"
   },
   {
    "duration": 33,
    "start_time": "2021-08-21T08:22:14.302Z"
   },
   {
    "duration": 401,
    "start_time": "2021-08-21T08:22:17.626Z"
   },
   {
    "duration": 318,
    "start_time": "2021-08-21T08:22:21.707Z"
   },
   {
    "duration": 15,
    "start_time": "2021-08-21T08:22:25.449Z"
   },
   {
    "duration": 421,
    "start_time": "2021-08-21T08:22:28.944Z"
   },
   {
    "duration": 25,
    "start_time": "2021-08-21T08:22:32.295Z"
   },
   {
    "duration": 33,
    "start_time": "2021-08-21T08:22:35.055Z"
   },
   {
    "duration": 31,
    "start_time": "2021-08-21T08:22:38.979Z"
   },
   {
    "duration": 11,
    "start_time": "2021-08-21T08:22:43.294Z"
   },
   {
    "duration": 11,
    "start_time": "2021-08-21T08:23:00.181Z"
   },
   {
    "duration": 287,
    "start_time": "2021-08-21T08:23:23.023Z"
   },
   {
    "duration": 244,
    "start_time": "2021-08-21T08:23:41.642Z"
   },
   {
    "duration": 6567,
    "start_time": "2021-08-21T08:26:39.089Z"
   },
   {
    "duration": -1168,
    "start_time": "2021-08-21T08:26:46.829Z"
   },
   {
    "duration": 6069,
    "start_time": "2021-08-21T08:26:50.092Z"
   },
   {
    "duration": 6789,
    "start_time": "2021-08-21T08:31:12.091Z"
   },
   {
    "duration": 8,
    "start_time": "2021-08-21T08:36:30.722Z"
   },
   {
    "duration": 6847,
    "start_time": "2021-08-21T08:37:09.843Z"
   },
   {
    "duration": 11,
    "start_time": "2021-08-21T08:45:05.429Z"
   },
   {
    "duration": 11,
    "start_time": "2021-08-21T08:45:17.713Z"
   },
   {
    "duration": 6799,
    "start_time": "2021-08-21T08:46:20.137Z"
   },
   {
    "duration": 502,
    "start_time": "2021-08-21T08:48:11.446Z"
   },
   {
    "duration": 286,
    "start_time": "2021-08-21T08:49:00.585Z"
   },
   {
    "duration": 266,
    "start_time": "2021-08-21T08:49:26.023Z"
   },
   {
    "duration": 535,
    "start_time": "2021-08-21T08:50:27.458Z"
   },
   {
    "duration": 909,
    "start_time": "2021-08-21T08:54:23.042Z"
   },
   {
    "duration": 349,
    "start_time": "2021-08-21T08:55:43.426Z"
   },
   {
    "duration": 1002,
    "start_time": "2021-08-21T08:56:30.990Z"
   },
   {
    "duration": 329,
    "start_time": "2021-08-21T08:57:02.842Z"
   },
   {
    "duration": 324,
    "start_time": "2021-08-21T08:57:15.452Z"
   },
   {
    "duration": 3915,
    "start_time": "2021-08-21T08:57:28.218Z"
   },
   {
    "duration": 31,
    "start_time": "2021-08-21T08:58:08.582Z"
   },
   {
    "duration": 90,
    "start_time": "2021-08-21T08:58:20.605Z"
   },
   {
    "duration": 285,
    "start_time": "2021-08-21T08:58:29.765Z"
   },
   {
    "duration": 248,
    "start_time": "2021-08-21T08:59:08.502Z"
   },
   {
    "duration": 269,
    "start_time": "2021-08-21T08:59:21.524Z"
   },
   {
    "duration": 233,
    "start_time": "2021-08-21T08:59:50.788Z"
   },
   {
    "duration": 12,
    "start_time": "2021-08-21T09:00:50.541Z"
   },
   {
    "duration": 22,
    "start_time": "2021-08-21T09:08:46.284Z"
   },
   {
    "duration": 323,
    "start_time": "2021-08-21T09:09:09.180Z"
   },
   {
    "duration": 6612,
    "start_time": "2021-08-21T09:18:08.546Z"
   },
   {
    "duration": 7348,
    "start_time": "2021-08-21T09:18:30.142Z"
   },
   {
    "duration": 23,
    "start_time": "2021-08-21T09:19:54.586Z"
   },
   {
    "duration": 298,
    "start_time": "2021-08-21T09:20:28.847Z"
   },
   {
    "duration": 243,
    "start_time": "2021-08-21T09:20:34.077Z"
   },
   {
    "duration": 275,
    "start_time": "2021-08-21T09:20:58.016Z"
   },
   {
    "duration": 273,
    "start_time": "2021-08-21T09:23:22.502Z"
   },
   {
    "duration": 95,
    "start_time": "2021-08-21T09:23:26.602Z"
   },
   {
    "duration": 87,
    "start_time": "2021-08-21T09:23:29.803Z"
   },
   {
    "duration": 297,
    "start_time": "2021-08-21T09:23:39.550Z"
   },
   {
    "duration": 6435,
    "start_time": "2021-08-21T09:24:36.450Z"
   },
   {
    "duration": 325,
    "start_time": "2021-08-21T09:26:03.187Z"
   },
   {
    "duration": 344,
    "start_time": "2021-08-21T09:26:17.736Z"
   },
   {
    "duration": 293,
    "start_time": "2021-08-21T09:26:33.662Z"
   },
   {
    "duration": 319,
    "start_time": "2021-08-21T09:26:51.539Z"
   },
   {
    "duration": 328,
    "start_time": "2021-08-21T09:27:28.498Z"
   },
   {
    "duration": 346,
    "start_time": "2021-08-21T09:29:08.302Z"
   },
   {
    "duration": 307,
    "start_time": "2021-08-21T09:31:20.923Z"
   },
   {
    "duration": 319,
    "start_time": "2021-08-21T09:31:28.135Z"
   },
   {
    "duration": 327,
    "start_time": "2021-08-21T09:31:33.893Z"
   },
   {
    "duration": 331,
    "start_time": "2021-08-21T09:32:06.790Z"
   },
   {
    "duration": 332,
    "start_time": "2021-08-21T09:32:26.267Z"
   },
   {
    "duration": 318,
    "start_time": "2021-08-21T09:32:42.147Z"
   },
   {
    "duration": 316,
    "start_time": "2021-08-21T09:32:56.028Z"
   },
   {
    "duration": 292,
    "start_time": "2021-08-21T09:34:12.190Z"
   },
   {
    "duration": 276,
    "start_time": "2021-08-21T09:34:29.755Z"
   },
   {
    "duration": 323,
    "start_time": "2021-08-21T09:35:30.405Z"
   },
   {
    "duration": 303,
    "start_time": "2021-08-21T09:35:51.445Z"
   },
   {
    "duration": 30,
    "start_time": "2021-08-21T09:37:30.097Z"
   },
   {
    "duration": 25,
    "start_time": "2021-08-21T09:38:06.694Z"
   },
   {
    "duration": 22,
    "start_time": "2021-08-21T09:38:11.860Z"
   },
   {
    "duration": 308,
    "start_time": "2021-08-21T09:39:04.470Z"
   },
   {
    "duration": 28,
    "start_time": "2021-08-21T09:40:13.228Z"
   },
   {
    "duration": 300,
    "start_time": "2021-08-21T09:40:53.996Z"
   },
   {
    "duration": 26,
    "start_time": "2021-08-21T09:41:05.308Z"
   },
   {
    "duration": 6677,
    "start_time": "2021-08-21T09:41:18.120Z"
   },
   {
    "duration": 6353,
    "start_time": "2021-08-21T09:42:13.022Z"
   },
   {
    "duration": 407,
    "start_time": "2021-08-21T09:42:47.112Z"
   },
   {
    "duration": 400,
    "start_time": "2021-08-21T09:43:02.806Z"
   },
   {
    "duration": 264,
    "start_time": "2021-08-21T09:43:14.632Z"
   },
   {
    "duration": 269,
    "start_time": "2021-08-21T09:43:33.030Z"
   },
   {
    "duration": 278,
    "start_time": "2021-08-21T09:43:46.176Z"
   },
   {
    "duration": 306,
    "start_time": "2021-08-21T09:44:21.810Z"
   },
   {
    "duration": 476,
    "start_time": "2021-08-21T09:45:17.710Z"
   },
   {
    "duration": 25,
    "start_time": "2021-08-21T09:46:26.408Z"
   },
   {
    "duration": 292,
    "start_time": "2021-08-21T09:46:52.013Z"
   },
   {
    "duration": 296,
    "start_time": "2021-08-21T09:46:58.950Z"
   },
   {
    "duration": 22,
    "start_time": "2021-08-21T09:47:51.830Z"
   },
   {
    "duration": 296,
    "start_time": "2021-08-21T09:48:54.380Z"
   },
   {
    "duration": 313,
    "start_time": "2021-08-21T09:49:09.930Z"
   },
   {
    "duration": 296,
    "start_time": "2021-08-21T09:49:17.798Z"
   },
   {
    "duration": 291,
    "start_time": "2021-08-21T09:49:26.511Z"
   },
   {
    "duration": 290,
    "start_time": "2021-08-21T09:49:33.582Z"
   },
   {
    "duration": 348,
    "start_time": "2021-08-21T09:49:57.630Z"
   },
   {
    "duration": 25,
    "start_time": "2021-08-21T09:50:03.053Z"
   },
   {
    "duration": 305,
    "start_time": "2021-08-21T09:54:09.926Z"
   },
   {
    "duration": 295,
    "start_time": "2021-08-21T09:54:36.978Z"
   },
   {
    "duration": 264,
    "start_time": "2021-08-21T09:56:26.619Z"
   },
   {
    "duration": 1052,
    "start_time": "2021-08-21T09:57:18.613Z"
   },
   {
    "duration": 1020,
    "start_time": "2021-08-21T09:58:34.131Z"
   },
   {
    "duration": 1096,
    "start_time": "2021-08-21T09:58:48.991Z"
   },
   {
    "duration": 1339,
    "start_time": "2021-08-21T09:59:30.721Z"
   },
   {
    "duration": 331,
    "start_time": "2021-08-21T10:00:53.657Z"
   },
   {
    "duration": 93,
    "start_time": "2021-08-21T10:05:26.991Z"
   },
   {
    "duration": 6389,
    "start_time": "2021-08-21T10:05:32.278Z"
   },
   {
    "duration": 396,
    "start_time": "2021-08-21T10:05:55.029Z"
   },
   {
    "duration": 367,
    "start_time": "2021-08-21T10:06:40.678Z"
   },
   {
    "duration": 503,
    "start_time": "2021-08-21T10:07:24.061Z"
   },
   {
    "duration": 349,
    "start_time": "2021-08-21T10:08:07.423Z"
   },
   {
    "duration": 36,
    "start_time": "2021-08-21T10:08:24.832Z"
   },
   {
    "duration": 395,
    "start_time": "2021-08-21T10:08:30.201Z"
   },
   {
    "duration": 245,
    "start_time": "2021-08-21T10:09:33.801Z"
   },
   {
    "duration": 192,
    "start_time": "2021-08-21T10:09:52.925Z"
   },
   {
    "duration": 367,
    "start_time": "2021-08-21T10:09:57.983Z"
   },
   {
    "duration": 348,
    "start_time": "2021-08-21T10:11:18.883Z"
   },
   {
    "duration": 304,
    "start_time": "2021-08-21T10:11:58.795Z"
   },
   {
    "duration": 17,
    "start_time": "2021-08-21T10:12:34.064Z"
   },
   {
    "duration": 28,
    "start_time": "2021-08-21T10:12:49.681Z"
   },
   {
    "duration": 6554,
    "start_time": "2021-08-21T10:13:11.988Z"
   },
   {
    "duration": 82,
    "start_time": "2021-08-21T10:14:03.424Z"
   },
   {
    "duration": 82,
    "start_time": "2021-08-21T10:15:05.845Z"
   },
   {
    "duration": 320,
    "start_time": "2021-08-21T10:15:33.190Z"
   },
   {
    "duration": 372,
    "start_time": "2021-08-21T10:15:41.775Z"
   },
   {
    "duration": 100,
    "start_time": "2021-08-21T10:16:00.887Z"
   },
   {
    "duration": 293,
    "start_time": "2021-08-21T10:16:40.929Z"
   },
   {
    "duration": 279,
    "start_time": "2021-08-21T10:17:01.387Z"
   },
   {
    "duration": 265,
    "start_time": "2021-08-21T10:17:14.001Z"
   },
   {
    "duration": 79,
    "start_time": "2021-08-21T10:17:39.452Z"
   },
   {
    "duration": 92,
    "start_time": "2021-08-21T10:19:02.367Z"
   },
   {
    "duration": 94,
    "start_time": "2021-08-21T10:19:38.661Z"
   },
   {
    "duration": 94,
    "start_time": "2021-08-21T10:20:39.032Z"
   },
   {
    "duration": 301,
    "start_time": "2021-08-21T10:20:49.543Z"
   },
   {
    "duration": 313,
    "start_time": "2021-08-21T10:20:56.571Z"
   },
   {
    "duration": 110,
    "start_time": "2021-08-21T10:21:04.072Z"
   },
   {
    "duration": 120,
    "start_time": "2021-08-21T10:22:36.982Z"
   },
   {
    "duration": 7007,
    "start_time": "2021-08-21T10:23:43.996Z"
   },
   {
    "duration": 6465,
    "start_time": "2021-08-21T10:24:42.219Z"
   },
   {
    "duration": 255,
    "start_time": "2021-08-21T10:25:28.293Z"
   },
   {
    "duration": 7021,
    "start_time": "2021-08-21T10:25:42.592Z"
   },
   {
    "duration": 96,
    "start_time": "2021-08-21T10:26:15.152Z"
   },
   {
    "duration": 86,
    "start_time": "2021-08-21T10:26:37.811Z"
   },
   {
    "duration": 86,
    "start_time": "2021-08-21T10:27:15.360Z"
   },
   {
    "duration": 101,
    "start_time": "2021-08-21T10:27:23.788Z"
   },
   {
    "duration": 87,
    "start_time": "2021-08-21T10:27:35.731Z"
   },
   {
    "duration": 336,
    "start_time": "2021-08-21T10:28:24.575Z"
   },
   {
    "duration": 86,
    "start_time": "2021-08-21T10:28:45.432Z"
   },
   {
    "duration": 95,
    "start_time": "2021-08-21T10:29:10.454Z"
   },
   {
    "duration": 83,
    "start_time": "2021-08-21T10:29:18.558Z"
   },
   {
    "duration": 94,
    "start_time": "2021-08-21T10:29:30.016Z"
   },
   {
    "duration": 85,
    "start_time": "2021-08-21T10:30:39.841Z"
   },
   {
    "duration": 83,
    "start_time": "2021-08-21T10:30:54.536Z"
   },
   {
    "duration": 86,
    "start_time": "2021-08-21T10:31:42.177Z"
   },
   {
    "duration": 411,
    "start_time": "2021-08-21T10:36:19.343Z"
   },
   {
    "duration": 279,
    "start_time": "2021-08-21T10:37:37.779Z"
   },
   {
    "duration": 1623,
    "start_time": "2021-08-21T10:37:49.539Z"
   },
   {
    "duration": 299,
    "start_time": "2021-08-21T10:39:26.531Z"
   },
   {
    "duration": 1647,
    "start_time": "2021-08-21T10:40:09.701Z"
   },
   {
    "duration": 1667,
    "start_time": "2021-08-21T10:41:18.812Z"
   },
   {
    "duration": 1588,
    "start_time": "2021-08-21T10:41:42.426Z"
   },
   {
    "duration": 1505,
    "start_time": "2021-08-21T10:42:58.520Z"
   },
   {
    "duration": 1879,
    "start_time": "2021-08-21T10:43:30.675Z"
   },
   {
    "duration": 1627,
    "start_time": "2021-08-21T10:44:01.385Z"
   },
   {
    "duration": 6975,
    "start_time": "2021-08-21T10:45:01.686Z"
   },
   {
    "duration": 88,
    "start_time": "2021-08-21T10:46:12.050Z"
   },
   {
    "duration": 10,
    "start_time": "2021-08-21T10:48:43.435Z"
   },
   {
    "duration": 11,
    "start_time": "2021-08-21T10:49:03.467Z"
   },
   {
    "duration": 295,
    "start_time": "2021-08-21T10:50:59.374Z"
   },
   {
    "duration": 258,
    "start_time": "2021-08-21T10:53:05.149Z"
   },
   {
    "duration": 9,
    "start_time": "2021-08-21T10:53:47.832Z"
   },
   {
    "duration": 9,
    "start_time": "2021-08-21T10:54:13.567Z"
   },
   {
    "duration": 11,
    "start_time": "2021-08-21T10:54:40.270Z"
   },
   {
    "duration": 316,
    "start_time": "2021-08-21T10:54:57.875Z"
   },
   {
    "duration": 452,
    "start_time": "2021-08-21T10:55:53.970Z"
   },
   {
    "duration": 295,
    "start_time": "2021-08-21T10:56:36.164Z"
   },
   {
    "duration": 134,
    "start_time": "2021-08-21T10:56:54.458Z"
   },
   {
    "duration": 265,
    "start_time": "2021-08-21T10:57:03.268Z"
   },
   {
    "duration": 321,
    "start_time": "2021-08-21T10:57:54.524Z"
   },
   {
    "duration": 321,
    "start_time": "2021-08-21T10:58:53.980Z"
   },
   {
    "duration": 44,
    "start_time": "2021-08-21T11:03:31.933Z"
   },
   {
    "duration": 267,
    "start_time": "2021-08-21T11:07:11.723Z"
   },
   {
    "duration": 24,
    "start_time": "2021-08-21T11:07:26.859Z"
   },
   {
    "duration": 28,
    "start_time": "2021-08-21T11:08:50.796Z"
   },
   {
    "duration": 31,
    "start_time": "2021-08-21T11:12:20.527Z"
   },
   {
    "duration": 29,
    "start_time": "2021-08-21T11:12:30.042Z"
   },
   {
    "duration": 1711,
    "start_time": "2021-08-21T11:15:25.643Z"
   },
   {
    "duration": 112,
    "start_time": "2021-08-21T11:17:58.689Z"
   },
   {
    "duration": 1272,
    "start_time": "2021-08-21T11:18:07.971Z"
   },
   {
    "duration": 972,
    "start_time": "2021-08-21T11:18:50.668Z"
   },
   {
    "duration": 28,
    "start_time": "2021-08-21T11:19:25.259Z"
   },
   {
    "duration": 33,
    "start_time": "2021-08-21T11:19:50.889Z"
   },
   {
    "duration": 1073,
    "start_time": "2021-08-21T11:27:33.259Z"
   },
   {
    "duration": 9,
    "start_time": "2021-08-21T11:28:43.742Z"
   },
   {
    "duration": 270,
    "start_time": "2021-08-21T11:30:15.997Z"
   },
   {
    "duration": 17,
    "start_time": "2021-08-21T11:31:05.485Z"
   },
   {
    "duration": 22,
    "start_time": "2021-08-21T11:31:46.294Z"
   },
   {
    "duration": 317,
    "start_time": "2021-08-21T11:32:04.225Z"
   },
   {
    "duration": 12,
    "start_time": "2021-08-21T11:42:33.873Z"
   },
   {
    "duration": 10,
    "start_time": "2021-08-21T11:44:15.408Z"
   },
   {
    "duration": 19,
    "start_time": "2021-08-21T11:44:54.568Z"
   },
   {
    "duration": 10,
    "start_time": "2021-08-21T11:46:53.557Z"
   },
   {
    "duration": 10,
    "start_time": "2021-08-21T11:46:55.847Z"
   },
   {
    "duration": 10,
    "start_time": "2021-08-21T11:46:58.380Z"
   },
   {
    "duration": 11,
    "start_time": "2021-08-21T11:47:00.979Z"
   },
   {
    "duration": 10,
    "start_time": "2021-08-21T11:47:03.182Z"
   },
   {
    "duration": 6,
    "start_time": "2021-08-21T11:48:53.501Z"
   },
   {
    "duration": 241,
    "start_time": "2021-08-21T11:50:07.955Z"
   },
   {
    "duration": 9,
    "start_time": "2021-08-21T11:50:23.260Z"
   },
   {
    "duration": 22,
    "start_time": "2021-08-21T11:50:48.763Z"
   },
   {
    "duration": 22,
    "start_time": "2021-08-21T11:53:44.342Z"
   },
   {
    "duration": 23,
    "start_time": "2021-08-21T11:54:32.366Z"
   },
   {
    "duration": 24,
    "start_time": "2021-08-21T11:55:08.909Z"
   },
   {
    "duration": 26,
    "start_time": "2021-08-21T11:55:36.567Z"
   },
   {
    "duration": 611,
    "start_time": "2021-08-21T11:57:37.451Z"
   },
   {
    "duration": 287,
    "start_time": "2021-08-21T11:58:57.778Z"
   },
   {
    "duration": 281,
    "start_time": "2021-08-21T12:00:00.764Z"
   },
   {
    "duration": 26,
    "start_time": "2021-08-21T12:00:14.660Z"
   },
   {
    "duration": 23,
    "start_time": "2021-08-21T12:02:45.439Z"
   },
   {
    "duration": 18,
    "start_time": "2021-08-21T12:03:57.451Z"
   },
   {
    "duration": 45,
    "start_time": "2021-08-21T12:04:35.698Z"
   },
   {
    "duration": 17,
    "start_time": "2021-08-21T12:05:41.813Z"
   },
   {
    "duration": 9,
    "start_time": "2021-08-21T12:08:29.641Z"
   },
   {
    "duration": 9,
    "start_time": "2021-08-21T12:08:43.287Z"
   },
   {
    "duration": 22,
    "start_time": "2021-08-21T12:09:15.959Z"
   },
   {
    "duration": 307,
    "start_time": "2021-08-21T12:24:40.190Z"
   },
   {
    "duration": 12,
    "start_time": "2021-08-21T12:24:58.244Z"
   },
   {
    "duration": 46,
    "start_time": "2021-08-21T12:25:01.333Z"
   },
   {
    "duration": 11,
    "start_time": "2021-08-21T12:25:32.247Z"
   },
   {
    "duration": 11,
    "start_time": "2021-08-21T12:27:42.040Z"
   },
   {
    "duration": 3366,
    "start_time": "2021-08-21T13:45:36.059Z"
   },
   {
    "duration": 253,
    "start_time": "2021-08-21T13:45:45.910Z"
   },
   {
    "duration": 67,
    "start_time": "2021-08-21T13:45:46.166Z"
   },
   {
    "duration": 14,
    "start_time": "2021-08-21T13:45:46.236Z"
   },
   {
    "duration": 44,
    "start_time": "2021-08-21T13:45:46.253Z"
   },
   {
    "duration": 28,
    "start_time": "2021-08-21T13:45:46.299Z"
   },
   {
    "duration": 10,
    "start_time": "2021-08-21T13:45:46.329Z"
   },
   {
    "duration": 50,
    "start_time": "2021-08-21T13:45:46.342Z"
   },
   {
    "duration": 12,
    "start_time": "2021-08-21T13:45:46.396Z"
   },
   {
    "duration": 28,
    "start_time": "2021-08-21T13:45:46.411Z"
   },
   {
    "duration": 22,
    "start_time": "2021-08-21T13:45:46.441Z"
   },
   {
    "duration": 14,
    "start_time": "2021-08-21T13:45:46.483Z"
   },
   {
    "duration": 22,
    "start_time": "2021-08-21T13:45:46.499Z"
   },
   {
    "duration": 18,
    "start_time": "2021-08-21T13:45:46.523Z"
   },
   {
    "duration": 4,
    "start_time": "2021-08-21T13:45:46.544Z"
   },
   {
    "duration": 47,
    "start_time": "2021-08-21T13:45:46.550Z"
   },
   {
    "duration": 52,
    "start_time": "2021-08-21T13:45:46.600Z"
   },
   {
    "duration": 22,
    "start_time": "2021-08-21T13:45:46.685Z"
   },
   {
    "duration": 32,
    "start_time": "2021-08-21T13:45:46.709Z"
   },
   {
    "duration": 7,
    "start_time": "2021-08-21T13:45:46.744Z"
   },
   {
    "duration": 40,
    "start_time": "2021-08-21T13:45:46.753Z"
   },
   {
    "duration": 7,
    "start_time": "2021-08-21T13:45:46.795Z"
   },
   {
    "duration": 21,
    "start_time": "2021-08-21T13:45:46.804Z"
   },
   {
    "duration": 24,
    "start_time": "2021-08-21T13:45:46.832Z"
   },
   {
    "duration": 41,
    "start_time": "2021-08-21T13:45:46.860Z"
   },
   {
    "duration": 15,
    "start_time": "2021-08-21T13:45:46.903Z"
   },
   {
    "duration": 19,
    "start_time": "2021-08-21T13:45:46.920Z"
   },
   {
    "duration": 53,
    "start_time": "2021-08-21T13:45:46.941Z"
   },
   {
    "duration": 20,
    "start_time": "2021-08-21T13:45:46.996Z"
   },
   {
    "duration": 8,
    "start_time": "2021-08-21T13:45:47.018Z"
   },
   {
    "duration": 27,
    "start_time": "2021-08-21T13:45:47.028Z"
   },
   {
    "duration": 24,
    "start_time": "2021-08-21T13:45:47.081Z"
   },
   {
    "duration": 12,
    "start_time": "2021-08-21T13:45:47.108Z"
   },
   {
    "duration": 28,
    "start_time": "2021-08-21T13:45:47.123Z"
   },
   {
    "duration": 33,
    "start_time": "2021-08-21T13:45:47.153Z"
   },
   {
    "duration": 12,
    "start_time": "2021-08-21T13:45:47.188Z"
   },
   {
    "duration": 23,
    "start_time": "2021-08-21T13:45:47.202Z"
   },
   {
    "duration": 35,
    "start_time": "2021-08-21T13:45:47.227Z"
   },
   {
    "duration": 25,
    "start_time": "2021-08-21T13:45:47.264Z"
   },
   {
    "duration": 17,
    "start_time": "2021-08-21T13:45:47.292Z"
   },
   {
    "duration": 19,
    "start_time": "2021-08-21T13:45:47.311Z"
   },
   {
    "duration": 19,
    "start_time": "2021-08-21T13:45:47.332Z"
   },
   {
    "duration": 25,
    "start_time": "2021-08-21T13:45:47.353Z"
   },
   {
    "duration": 30,
    "start_time": "2021-08-21T13:45:47.383Z"
   },
   {
    "duration": 24,
    "start_time": "2021-08-21T13:45:47.415Z"
   },
   {
    "duration": 39,
    "start_time": "2021-08-21T13:45:47.442Z"
   },
   {
    "duration": 321,
    "start_time": "2021-08-21T13:45:47.483Z"
   },
   {
    "duration": 326,
    "start_time": "2021-08-21T13:45:47.807Z"
   },
   {
    "duration": 13,
    "start_time": "2021-08-21T13:45:48.136Z"
   },
   {
    "duration": 334,
    "start_time": "2021-08-21T13:45:48.151Z"
   },
   {
    "duration": 22,
    "start_time": "2021-08-21T13:45:48.487Z"
   },
   {
    "duration": 278,
    "start_time": "2021-08-21T13:45:48.512Z"
   },
   {
    "duration": -714,
    "start_time": "2021-08-21T13:45:49.507Z"
   },
   {
    "duration": -720,
    "start_time": "2021-08-21T13:45:49.515Z"
   },
   {
    "duration": -725,
    "start_time": "2021-08-21T13:45:49.521Z"
   },
   {
    "duration": -732,
    "start_time": "2021-08-21T13:45:49.529Z"
   },
   {
    "duration": -738,
    "start_time": "2021-08-21T13:45:49.536Z"
   },
   {
    "duration": -744,
    "start_time": "2021-08-21T13:45:49.544Z"
   },
   {
    "duration": -750,
    "start_time": "2021-08-21T13:45:49.551Z"
   },
   {
    "duration": -756,
    "start_time": "2021-08-21T13:45:49.558Z"
   },
   {
    "duration": -762,
    "start_time": "2021-08-21T13:45:49.565Z"
   },
   {
    "duration": -767,
    "start_time": "2021-08-21T13:45:49.572Z"
   },
   {
    "duration": -772,
    "start_time": "2021-08-21T13:45:49.579Z"
   },
   {
    "duration": -790,
    "start_time": "2021-08-21T13:45:49.598Z"
   },
   {
    "duration": -794,
    "start_time": "2021-08-21T13:45:49.604Z"
   },
   {
    "duration": -801,
    "start_time": "2021-08-21T13:45:49.612Z"
   },
   {
    "duration": -806,
    "start_time": "2021-08-21T13:45:49.618Z"
   },
   {
    "duration": -811,
    "start_time": "2021-08-21T13:45:49.625Z"
   },
   {
    "duration": -817,
    "start_time": "2021-08-21T13:45:49.632Z"
   },
   {
    "duration": -822,
    "start_time": "2021-08-21T13:45:49.639Z"
   },
   {
    "duration": -830,
    "start_time": "2021-08-21T13:45:49.648Z"
   },
   {
    "duration": -834,
    "start_time": "2021-08-21T13:45:49.653Z"
   },
   {
    "duration": -837,
    "start_time": "2021-08-21T13:45:49.657Z"
   },
   {
    "duration": -841,
    "start_time": "2021-08-21T13:45:49.663Z"
   },
   {
    "duration": -845,
    "start_time": "2021-08-21T13:45:49.668Z"
   },
   {
    "duration": -849,
    "start_time": "2021-08-21T13:45:49.673Z"
   },
   {
    "duration": -852,
    "start_time": "2021-08-21T13:45:49.678Z"
   },
   {
    "duration": -856,
    "start_time": "2021-08-21T13:45:49.683Z"
   },
   {
    "duration": -859,
    "start_time": "2021-08-21T13:45:49.687Z"
   },
   {
    "duration": -862,
    "start_time": "2021-08-21T13:45:49.692Z"
   },
   {
    "duration": 249,
    "start_time": "2021-08-21T13:47:24.614Z"
   },
   {
    "duration": 29,
    "start_time": "2021-08-21T13:47:38.930Z"
   },
   {
    "duration": 29,
    "start_time": "2021-08-21T13:47:45.236Z"
   },
   {
    "duration": 12,
    "start_time": "2021-08-21T13:47:49.800Z"
   },
   {
    "duration": 11,
    "start_time": "2021-08-21T13:47:56.723Z"
   },
   {
    "duration": 309,
    "start_time": "2021-08-21T13:50:30.964Z"
   },
   {
    "duration": 280,
    "start_time": "2021-08-21T13:50:44.894Z"
   },
   {
    "duration": 51,
    "start_time": "2021-08-21T13:50:57.121Z"
   },
   {
    "duration": 11,
    "start_time": "2021-08-21T13:51:38.220Z"
   },
   {
    "duration": 11,
    "start_time": "2021-08-21T13:51:40.548Z"
   },
   {
    "duration": 327,
    "start_time": "2021-08-21T13:53:01.116Z"
   },
   {
    "duration": 258,
    "start_time": "2021-08-21T13:53:15.031Z"
   },
   {
    "duration": 291,
    "start_time": "2021-08-21T13:53:31.606Z"
   },
   {
    "duration": 33,
    "start_time": "2021-08-21T13:53:44.890Z"
   },
   {
    "duration": 23,
    "start_time": "2021-08-21T13:55:28.057Z"
   },
   {
    "duration": 21,
    "start_time": "2021-08-21T13:57:57.177Z"
   },
   {
    "duration": 265,
    "start_time": "2021-08-21T14:07:35.838Z"
   },
   {
    "duration": 108,
    "start_time": "2021-08-21T14:07:52.648Z"
   },
   {
    "duration": 249,
    "start_time": "2021-08-21T14:08:12.849Z"
   },
   {
    "duration": 1169,
    "start_time": "2021-08-21T14:13:57.818Z"
   },
   {
    "duration": 39,
    "start_time": "2021-08-21T14:16:52.729Z"
   },
   {
    "duration": 35,
    "start_time": "2021-08-21T14:17:10.750Z"
   },
   {
    "duration": 1240,
    "start_time": "2021-08-21T14:17:53.290Z"
   },
   {
    "duration": 38,
    "start_time": "2021-08-21T14:18:02.286Z"
   },
   {
    "duration": 37,
    "start_time": "2021-08-21T14:18:25.362Z"
   },
   {
    "duration": 12,
    "start_time": "2021-08-21T14:20:29.127Z"
   },
   {
    "duration": 268,
    "start_time": "2021-08-21T14:20:44.529Z"
   },
   {
    "duration": 686,
    "start_time": "2021-08-21T14:22:17.535Z"
   },
   {
    "duration": 464,
    "start_time": "2021-08-21T14:22:36.914Z"
   },
   {
    "duration": 492,
    "start_time": "2021-08-21T14:22:58.768Z"
   },
   {
    "duration": 478,
    "start_time": "2021-08-21T14:23:17.280Z"
   },
   {
    "duration": 736,
    "start_time": "2021-08-21T14:25:35.561Z"
   },
   {
    "duration": 565,
    "start_time": "2021-08-21T14:25:42.772Z"
   },
   {
    "duration": 476,
    "start_time": "2021-08-21T14:25:57.184Z"
   },
   {
    "duration": 456,
    "start_time": "2021-08-21T14:28:44.420Z"
   },
   {
    "duration": 695,
    "start_time": "2021-08-21T14:29:05.812Z"
   },
   {
    "duration": 1310,
    "start_time": "2021-08-21T14:30:11.474Z"
   },
   {
    "duration": 1398,
    "start_time": "2021-08-21T14:30:58.508Z"
   },
   {
    "duration": 2150,
    "start_time": "2021-08-21T14:31:31.432Z"
   },
   {
    "duration": 1372,
    "start_time": "2021-08-21T14:32:39.175Z"
   },
   {
    "duration": 1359,
    "start_time": "2021-08-21T14:33:54.528Z"
   },
   {
    "duration": 1769,
    "start_time": "2021-08-21T14:35:56.979Z"
   },
   {
    "duration": 277,
    "start_time": "2021-08-21T14:38:10.162Z"
   },
   {
    "duration": 266,
    "start_time": "2021-08-21T14:38:45.132Z"
   },
   {
    "duration": 288,
    "start_time": "2021-08-21T14:40:28.725Z"
   },
   {
    "duration": 269,
    "start_time": "2021-08-21T14:41:09.124Z"
   },
   {
    "duration": 301,
    "start_time": "2021-08-21T14:42:02.126Z"
   },
   {
    "duration": 87,
    "start_time": "2021-08-21T14:43:06.934Z"
   },
   {
    "duration": 533,
    "start_time": "2021-08-21T14:43:28.814Z"
   },
   {
    "duration": 311,
    "start_time": "2021-08-21T14:46:26.875Z"
   },
   {
    "duration": 31,
    "start_time": "2021-08-21T14:47:37.719Z"
   },
   {
    "duration": 31,
    "start_time": "2021-08-21T14:50:16.409Z"
   },
   {
    "duration": 30,
    "start_time": "2021-08-21T14:50:54.637Z"
   },
   {
    "duration": 19,
    "start_time": "2021-08-21T14:52:32.925Z"
   },
   {
    "duration": 19,
    "start_time": "2021-08-21T14:53:09.893Z"
   },
   {
    "duration": 10,
    "start_time": "2021-08-21T14:59:37.709Z"
   },
   {
    "duration": 19,
    "start_time": "2021-08-21T14:59:49.471Z"
   },
   {
    "duration": 20,
    "start_time": "2021-08-21T15:02:23.055Z"
   },
   {
    "duration": 19,
    "start_time": "2021-08-21T15:02:49.756Z"
   },
   {
    "duration": 19,
    "start_time": "2021-08-21T15:03:00.653Z"
   },
   {
    "duration": 27,
    "start_time": "2021-08-21T15:03:44.918Z"
   },
   {
    "duration": 18,
    "start_time": "2021-08-21T15:04:20.053Z"
   },
   {
    "duration": 322,
    "start_time": "2021-08-21T15:06:02.406Z"
   },
   {
    "duration": 1546,
    "start_time": "2021-08-21T15:06:12.075Z"
   },
   {
    "duration": 21,
    "start_time": "2021-08-21T15:08:10.678Z"
   },
   {
    "duration": 12969,
    "start_time": "2021-08-21T15:08:36.123Z"
   },
   {
    "duration": 1346,
    "start_time": "2021-08-21T15:08:56.155Z"
   },
   {
    "duration": 1294,
    "start_time": "2021-08-21T15:10:40.666Z"
   },
   {
    "duration": 1731,
    "start_time": "2021-08-21T15:12:12.617Z"
   },
   {
    "duration": 1041,
    "start_time": "2021-08-21T15:12:26.245Z"
   },
   {
    "duration": 311,
    "start_time": "2021-08-21T15:12:49.308Z"
   },
   {
    "duration": 1604,
    "start_time": "2021-08-21T15:13:10.043Z"
   },
   {
    "duration": 36,
    "start_time": "2021-08-21T15:27:21.002Z"
   },
   {
    "duration": 21,
    "start_time": "2021-08-21T15:33:13.497Z"
   },
   {
    "duration": 392,
    "start_time": "2021-08-21T15:34:33.279Z"
   },
   {
    "duration": 49,
    "start_time": "2021-08-21T15:34:33.674Z"
   },
   {
    "duration": 13,
    "start_time": "2021-08-21T15:34:33.726Z"
   },
   {
    "duration": 40,
    "start_time": "2021-08-21T15:34:33.742Z"
   },
   {
    "duration": 19,
    "start_time": "2021-08-21T15:34:33.784Z"
   },
   {
    "duration": 8,
    "start_time": "2021-08-21T15:34:33.805Z"
   },
   {
    "duration": 68,
    "start_time": "2021-08-21T15:34:33.815Z"
   },
   {
    "duration": 12,
    "start_time": "2021-08-21T15:34:33.886Z"
   },
   {
    "duration": 15,
    "start_time": "2021-08-21T15:34:33.901Z"
   },
   {
    "duration": 16,
    "start_time": "2021-08-21T15:34:33.918Z"
   },
   {
    "duration": 60,
    "start_time": "2021-08-21T15:34:33.937Z"
   },
   {
    "duration": 19,
    "start_time": "2021-08-21T15:34:34.000Z"
   },
   {
    "duration": 18,
    "start_time": "2021-08-21T15:34:34.021Z"
   },
   {
    "duration": 41,
    "start_time": "2021-08-21T15:34:34.041Z"
   },
   {
    "duration": 13,
    "start_time": "2021-08-21T15:34:34.085Z"
   },
   {
    "duration": 44,
    "start_time": "2021-08-21T15:34:34.101Z"
   },
   {
    "duration": 22,
    "start_time": "2021-08-21T15:34:34.183Z"
   },
   {
    "duration": 29,
    "start_time": "2021-08-21T15:34:34.207Z"
   },
   {
    "duration": 8,
    "start_time": "2021-08-21T15:34:34.239Z"
   },
   {
    "duration": 43,
    "start_time": "2021-08-21T15:34:34.249Z"
   },
   {
    "duration": 6,
    "start_time": "2021-08-21T15:34:34.295Z"
   },
   {
    "duration": 16,
    "start_time": "2021-08-21T15:34:34.303Z"
   },
   {
    "duration": 56,
    "start_time": "2021-08-21T15:34:34.326Z"
   },
   {
    "duration": 19,
    "start_time": "2021-08-21T15:34:34.386Z"
   },
   {
    "duration": 14,
    "start_time": "2021-08-21T15:34:34.407Z"
   },
   {
    "duration": 18,
    "start_time": "2021-08-21T15:34:34.423Z"
   },
   {
    "duration": 51,
    "start_time": "2021-08-21T15:34:34.443Z"
   },
   {
    "duration": 19,
    "start_time": "2021-08-21T15:34:34.496Z"
   },
   {
    "duration": 8,
    "start_time": "2021-08-21T15:34:34.517Z"
   },
   {
    "duration": 20,
    "start_time": "2021-08-21T15:34:34.527Z"
   },
   {
    "duration": 25,
    "start_time": "2021-08-21T15:34:34.581Z"
   },
   {
    "duration": 12,
    "start_time": "2021-08-21T15:34:34.609Z"
   },
   {
    "duration": 24,
    "start_time": "2021-08-21T15:34:34.624Z"
   },
   {
    "duration": 42,
    "start_time": "2021-08-21T15:34:34.650Z"
   },
   {
    "duration": 14,
    "start_time": "2021-08-21T15:34:34.694Z"
   },
   {
    "duration": 17,
    "start_time": "2021-08-21T15:34:34.710Z"
   },
   {
    "duration": 31,
    "start_time": "2021-08-21T15:34:34.729Z"
   },
   {
    "duration": 12,
    "start_time": "2021-08-21T15:34:34.783Z"
   },
   {
    "duration": 11,
    "start_time": "2021-08-21T15:34:34.798Z"
   },
   {
    "duration": 11,
    "start_time": "2021-08-21T15:34:34.811Z"
   },
   {
    "duration": 22,
    "start_time": "2021-08-21T15:34:34.824Z"
   },
   {
    "duration": 46,
    "start_time": "2021-08-21T15:34:34.849Z"
   },
   {
    "duration": 20,
    "start_time": "2021-08-21T15:34:34.898Z"
   },
   {
    "duration": 65,
    "start_time": "2021-08-21T15:34:34.921Z"
   },
   {
    "duration": 174,
    "start_time": "2021-08-21T15:34:34.988Z"
   },
   {
    "duration": -2366,
    "start_time": "2021-08-21T15:34:37.532Z"
   },
   {
    "duration": -2370,
    "start_time": "2021-08-21T15:34:37.538Z"
   },
   {
    "duration": -2374,
    "start_time": "2021-08-21T15:34:37.543Z"
   },
   {
    "duration": -2377,
    "start_time": "2021-08-21T15:34:37.548Z"
   },
   {
    "duration": -2379,
    "start_time": "2021-08-21T15:34:37.552Z"
   },
   {
    "duration": -2383,
    "start_time": "2021-08-21T15:34:37.557Z"
   },
   {
    "duration": -2386,
    "start_time": "2021-08-21T15:34:37.562Z"
   },
   {
    "duration": -2390,
    "start_time": "2021-08-21T15:34:37.567Z"
   },
   {
    "duration": -2393,
    "start_time": "2021-08-21T15:34:37.571Z"
   },
   {
    "duration": -2396,
    "start_time": "2021-08-21T15:34:37.576Z"
   },
   {
    "duration": -2400,
    "start_time": "2021-08-21T15:34:37.581Z"
   },
   {
    "duration": -2403,
    "start_time": "2021-08-21T15:34:37.586Z"
   },
   {
    "duration": -2440,
    "start_time": "2021-08-21T15:34:37.625Z"
   },
   {
    "duration": -2445,
    "start_time": "2021-08-21T15:34:37.631Z"
   },
   {
    "duration": -2448,
    "start_time": "2021-08-21T15:34:37.635Z"
   },
   {
    "duration": -2454,
    "start_time": "2021-08-21T15:34:37.643Z"
   },
   {
    "duration": -2459,
    "start_time": "2021-08-21T15:34:37.649Z"
   },
   {
    "duration": -2465,
    "start_time": "2021-08-21T15:34:37.657Z"
   },
   {
    "duration": -2472,
    "start_time": "2021-08-21T15:34:37.665Z"
   },
   {
    "duration": -2477,
    "start_time": "2021-08-21T15:34:37.671Z"
   },
   {
    "duration": -2479,
    "start_time": "2021-08-21T15:34:37.675Z"
   },
   {
    "duration": -2483,
    "start_time": "2021-08-21T15:34:37.680Z"
   },
   {
    "duration": -2487,
    "start_time": "2021-08-21T15:34:37.685Z"
   },
   {
    "duration": -2491,
    "start_time": "2021-08-21T15:34:37.690Z"
   },
   {
    "duration": -2513,
    "start_time": "2021-08-21T15:34:37.714Z"
   },
   {
    "duration": -2517,
    "start_time": "2021-08-21T15:34:37.719Z"
   },
   {
    "duration": -2564,
    "start_time": "2021-08-21T15:34:37.767Z"
   },
   {
    "duration": -2567,
    "start_time": "2021-08-21T15:34:37.772Z"
   },
   {
    "duration": -2571,
    "start_time": "2021-08-21T15:34:37.778Z"
   },
   {
    "duration": -2574,
    "start_time": "2021-08-21T15:34:37.784Z"
   },
   {
    "duration": -2580,
    "start_time": "2021-08-21T15:34:37.792Z"
   },
   {
    "duration": -2587,
    "start_time": "2021-08-21T15:34:37.801Z"
   },
   {
    "duration": -2591,
    "start_time": "2021-08-21T15:34:37.807Z"
   },
   {
    "duration": -2594,
    "start_time": "2021-08-21T15:34:37.812Z"
   },
   {
    "duration": -2596,
    "start_time": "2021-08-21T15:34:37.816Z"
   },
   {
    "duration": -2600,
    "start_time": "2021-08-21T15:34:37.822Z"
   },
   {
    "duration": -2543,
    "start_time": "2021-08-21T15:34:37.827Z"
   },
   {
    "duration": -2546,
    "start_time": "2021-08-21T15:34:37.832Z"
   },
   {
    "duration": -2549,
    "start_time": "2021-08-21T15:34:37.837Z"
   },
   {
    "duration": -2552,
    "start_time": "2021-08-21T15:34:37.842Z"
   },
   {
    "duration": -2554,
    "start_time": "2021-08-21T15:34:37.846Z"
   },
   {
    "duration": -2557,
    "start_time": "2021-08-21T15:34:37.851Z"
   },
   {
    "duration": 14,
    "start_time": "2021-08-21T15:34:49.641Z"
   },
   {
    "duration": 18,
    "start_time": "2021-08-21T15:35:11.159Z"
   },
   {
    "duration": 26,
    "start_time": "2021-08-21T15:37:48.953Z"
   },
   {
    "duration": 6,
    "start_time": "2021-08-21T15:41:52.172Z"
   },
   {
    "duration": 23,
    "start_time": "2021-08-21T15:43:30.094Z"
   },
   {
    "duration": 6,
    "start_time": "2021-08-21T15:45:44.053Z"
   },
   {
    "duration": 253,
    "start_time": "2021-08-21T15:46:05.020Z"
   },
   {
    "duration": 9,
    "start_time": "2021-08-21T15:46:16.646Z"
   },
   {
    "duration": 9,
    "start_time": "2021-08-21T15:46:41.730Z"
   },
   {
    "duration": 11,
    "start_time": "2021-08-21T15:49:36.794Z"
   },
   {
    "duration": 6,
    "start_time": "2021-08-21T15:50:01.567Z"
   },
   {
    "duration": 11,
    "start_time": "2021-08-21T15:50:54.309Z"
   },
   {
    "duration": 109,
    "start_time": "2021-08-21T15:51:38.787Z"
   },
   {
    "duration": 12,
    "start_time": "2021-08-21T15:51:55.437Z"
   },
   {
    "duration": 12,
    "start_time": "2021-08-21T15:52:28.532Z"
   },
   {
    "duration": 10,
    "start_time": "2021-08-21T15:52:55.848Z"
   },
   {
    "duration": 8,
    "start_time": "2021-08-21T15:54:49.012Z"
   },
   {
    "duration": 9,
    "start_time": "2021-08-21T15:56:35.657Z"
   },
   {
    "duration": 9,
    "start_time": "2021-08-21T15:57:39.265Z"
   },
   {
    "duration": 10,
    "start_time": "2021-08-21T15:58:11.291Z"
   },
   {
    "duration": 10,
    "start_time": "2021-08-21T15:58:32.928Z"
   },
   {
    "duration": 101,
    "start_time": "2021-08-21T15:59:37.106Z"
   },
   {
    "duration": 8,
    "start_time": "2021-08-21T15:59:46.240Z"
   },
   {
    "duration": 7,
    "start_time": "2021-08-21T15:59:59.244Z"
   },
   {
    "duration": 291,
    "start_time": "2021-08-21T16:00:07.538Z"
   },
   {
    "duration": 265,
    "start_time": "2021-08-21T16:00:14.337Z"
   },
   {
    "duration": 8,
    "start_time": "2021-08-21T16:00:27.553Z"
   },
   {
    "duration": 109,
    "start_time": "2021-08-21T16:02:06.704Z"
   },
   {
    "duration": 123,
    "start_time": "2021-08-21T16:02:24.738Z"
   },
   {
    "duration": 6269,
    "start_time": "2021-08-21T16:02:32.152Z"
   },
   {
    "duration": 7690,
    "start_time": "2021-08-21T16:02:41.754Z"
   },
   {
    "duration": 252,
    "start_time": "2021-08-21T16:03:19.821Z"
   },
   {
    "duration": 17,
    "start_time": "2021-08-21T16:04:22.968Z"
   },
   {
    "duration": 11,
    "start_time": "2021-08-21T16:10:28.922Z"
   },
   {
    "duration": 11,
    "start_time": "2021-08-21T16:10:43.101Z"
   },
   {
    "duration": 12,
    "start_time": "2021-08-21T16:11:33.570Z"
   },
   {
    "duration": 9,
    "start_time": "2021-08-21T16:12:01.153Z"
   },
   {
    "duration": 10,
    "start_time": "2021-08-21T16:12:23.265Z"
   },
   {
    "duration": 11,
    "start_time": "2021-08-21T16:13:35.748Z"
   },
   {
    "duration": 10,
    "start_time": "2021-08-21T16:13:56.057Z"
   },
   {
    "duration": 10,
    "start_time": "2021-08-21T16:22:53.338Z"
   },
   {
    "duration": 12,
    "start_time": "2021-08-21T16:23:55.869Z"
   },
   {
    "duration": 75,
    "start_time": "2021-08-21T16:24:54.453Z"
   },
   {
    "duration": 10,
    "start_time": "2021-08-21T16:25:26.051Z"
   },
   {
    "duration": 10,
    "start_time": "2021-08-21T16:26:19.635Z"
   },
   {
    "duration": 19,
    "start_time": "2021-08-21T16:30:00.650Z"
   },
   {
    "duration": 295,
    "start_time": "2021-08-21T16:30:15.584Z"
   },
   {
    "duration": 18,
    "start_time": "2021-08-21T16:30:28.686Z"
   },
   {
    "duration": 19,
    "start_time": "2021-08-21T16:31:46.515Z"
   },
   {
    "duration": 14,
    "start_time": "2021-08-21T16:31:59.889Z"
   },
   {
    "duration": 15,
    "start_time": "2021-08-21T16:32:05.168Z"
   },
   {
    "duration": 13,
    "start_time": "2021-08-21T16:33:22.188Z"
   },
   {
    "duration": 281,
    "start_time": "2021-08-21T16:34:59.266Z"
   },
   {
    "duration": 84,
    "start_time": "2021-08-21T16:38:06.971Z"
   },
   {
    "duration": 13,
    "start_time": "2021-08-21T16:38:30.729Z"
   },
   {
    "duration": 12,
    "start_time": "2021-08-21T16:38:43.353Z"
   },
   {
    "duration": 14,
    "start_time": "2021-08-21T16:38:50.604Z"
   },
   {
    "duration": 251,
    "start_time": "2021-08-21T16:39:07.582Z"
   },
   {
    "duration": 14,
    "start_time": "2021-08-21T16:39:21.043Z"
   },
   {
    "duration": 14,
    "start_time": "2021-08-21T16:39:26.292Z"
   },
   {
    "duration": 14,
    "start_time": "2021-08-21T16:39:59.212Z"
   },
   {
    "duration": 13,
    "start_time": "2021-08-21T16:40:14.196Z"
   },
   {
    "duration": 13,
    "start_time": "2021-08-21T16:41:04.759Z"
   },
   {
    "duration": 13,
    "start_time": "2021-08-21T16:41:18.465Z"
   },
   {
    "duration": 14,
    "start_time": "2021-08-21T16:41:24.376Z"
   },
   {
    "duration": 13,
    "start_time": "2021-08-21T16:41:33.975Z"
   },
   {
    "duration": 14,
    "start_time": "2021-08-21T16:41:45.006Z"
   },
   {
    "duration": 80,
    "start_time": "2021-08-21T16:44:02.935Z"
   },
   {
    "duration": 9,
    "start_time": "2021-08-21T16:44:10.459Z"
   },
   {
    "duration": 10,
    "start_time": "2021-08-21T16:47:14.789Z"
   },
   {
    "duration": 10,
    "start_time": "2021-08-21T16:49:24.675Z"
   },
   {
    "duration": 10,
    "start_time": "2021-08-21T16:50:04.728Z"
   },
   {
    "duration": 10,
    "start_time": "2021-08-21T16:50:51.137Z"
   },
   {
    "duration": 10,
    "start_time": "2021-08-21T16:52:24.872Z"
   },
   {
    "duration": 8,
    "start_time": "2021-08-21T16:52:42.806Z"
   },
   {
    "duration": 14,
    "start_time": "2021-08-21T16:56:31.805Z"
   },
   {
    "duration": 14,
    "start_time": "2021-08-21T16:58:16.745Z"
   },
   {
    "duration": 23,
    "start_time": "2021-08-21T16:58:46.134Z"
   },
   {
    "duration": 5,
    "start_time": "2021-08-21T17:01:21.061Z"
   },
   {
    "duration": 6,
    "start_time": "2021-08-21T17:01:37.037Z"
   },
   {
    "duration": 11,
    "start_time": "2021-08-21T17:02:40.605Z"
   },
   {
    "duration": 289,
    "start_time": "2021-08-21T17:05:10.307Z"
   },
   {
    "duration": 9,
    "start_time": "2021-08-21T17:05:19.170Z"
   },
   {
    "duration": 10,
    "start_time": "2021-08-21T17:05:28.884Z"
   },
   {
    "duration": 9,
    "start_time": "2021-08-21T17:06:45.738Z"
   },
   {
    "duration": 12,
    "start_time": "2021-08-21T17:09:41.224Z"
   },
   {
    "duration": 312,
    "start_time": "2021-08-21T17:14:14.580Z"
   },
   {
    "duration": 336,
    "start_time": "2021-08-21T17:14:41.298Z"
   },
   {
    "duration": 85,
    "start_time": "2021-08-21T17:14:41.637Z"
   },
   {
    "duration": 14,
    "start_time": "2021-08-21T17:14:41.726Z"
   },
   {
    "duration": 20,
    "start_time": "2021-08-21T17:14:41.743Z"
   },
   {
    "duration": 20,
    "start_time": "2021-08-21T17:14:41.765Z"
   },
   {
    "duration": 7,
    "start_time": "2021-08-21T17:14:41.787Z"
   },
   {
    "duration": 35,
    "start_time": "2021-08-21T17:14:41.797Z"
   },
   {
    "duration": 12,
    "start_time": "2021-08-21T17:14:41.835Z"
   },
   {
    "duration": 42,
    "start_time": "2021-08-21T17:14:41.851Z"
   },
   {
    "duration": 15,
    "start_time": "2021-08-21T17:14:41.897Z"
   },
   {
    "duration": 15,
    "start_time": "2021-08-21T17:14:41.914Z"
   },
   {
    "duration": 58,
    "start_time": "2021-08-21T17:14:41.932Z"
   },
   {
    "duration": 18,
    "start_time": "2021-08-21T17:14:41.993Z"
   },
   {
    "duration": 7,
    "start_time": "2021-08-21T17:14:42.014Z"
   },
   {
    "duration": 13,
    "start_time": "2021-08-21T17:14:42.024Z"
   },
   {
    "duration": 84,
    "start_time": "2021-08-21T17:14:42.040Z"
   },
   {
    "duration": 22,
    "start_time": "2021-08-21T17:14:42.127Z"
   },
   {
    "duration": 27,
    "start_time": "2021-08-21T17:14:42.183Z"
   },
   {
    "duration": 10,
    "start_time": "2021-08-21T17:14:42.212Z"
   },
   {
    "duration": 12,
    "start_time": "2021-08-21T17:14:42.225Z"
   },
   {
    "duration": 45,
    "start_time": "2021-08-21T17:14:42.239Z"
   },
   {
    "duration": 16,
    "start_time": "2021-08-21T17:14:42.287Z"
   },
   {
    "duration": 25,
    "start_time": "2021-08-21T17:14:42.305Z"
   },
   {
    "duration": 50,
    "start_time": "2021-08-21T17:14:42.333Z"
   },
   {
    "duration": 18,
    "start_time": "2021-08-21T17:14:42.386Z"
   },
   {
    "duration": 23,
    "start_time": "2021-08-21T17:14:42.407Z"
   },
   {
    "duration": 53,
    "start_time": "2021-08-21T17:14:42.437Z"
   },
   {
    "duration": 21,
    "start_time": "2021-08-21T17:14:42.495Z"
   },
   {
    "duration": 9,
    "start_time": "2021-08-21T17:14:42.519Z"
   },
   {
    "duration": 59,
    "start_time": "2021-08-21T17:14:42.531Z"
   },
   {
    "duration": 26,
    "start_time": "2021-08-21T17:14:42.593Z"
   },
   {
    "duration": 12,
    "start_time": "2021-08-21T17:14:42.622Z"
   },
   {
    "duration": 52,
    "start_time": "2021-08-21T17:14:42.637Z"
   },
   {
    "duration": 18,
    "start_time": "2021-08-21T17:14:42.692Z"
   },
   {
    "duration": 10,
    "start_time": "2021-08-21T17:14:42.712Z"
   },
   {
    "duration": 13,
    "start_time": "2021-08-21T17:14:42.724Z"
   },
   {
    "duration": 28,
    "start_time": "2021-08-21T17:14:42.783Z"
   },
   {
    "duration": 19,
    "start_time": "2021-08-21T17:14:42.814Z"
   },
   {
    "duration": 17,
    "start_time": "2021-08-21T17:14:42.835Z"
   },
   {
    "duration": 37,
    "start_time": "2021-08-21T17:14:42.855Z"
   },
   {
    "duration": 9,
    "start_time": "2021-08-21T17:14:42.894Z"
   },
   {
    "duration": 16,
    "start_time": "2021-08-21T17:14:42.906Z"
   },
   {
    "duration": 58,
    "start_time": "2021-08-21T17:14:42.924Z"
   },
   {
    "duration": 39,
    "start_time": "2021-08-21T17:14:42.984Z"
   },
   {
    "duration": 130,
    "start_time": "2021-08-21T17:14:43.025Z"
   },
   {
    "duration": -790,
    "start_time": "2021-08-21T17:14:43.948Z"
   },
   {
    "duration": -793,
    "start_time": "2021-08-21T17:14:43.952Z"
   },
   {
    "duration": -795,
    "start_time": "2021-08-21T17:14:43.956Z"
   },
   {
    "duration": -798,
    "start_time": "2021-08-21T17:14:43.960Z"
   },
   {
    "duration": -801,
    "start_time": "2021-08-21T17:14:43.964Z"
   },
   {
    "duration": -805,
    "start_time": "2021-08-21T17:14:43.969Z"
   },
   {
    "duration": -809,
    "start_time": "2021-08-21T17:14:43.974Z"
   },
   {
    "duration": -812,
    "start_time": "2021-08-21T17:14:43.979Z"
   },
   {
    "duration": -816,
    "start_time": "2021-08-21T17:14:43.984Z"
   },
   {
    "duration": -817,
    "start_time": "2021-08-21T17:14:43.987Z"
   },
   {
    "duration": -821,
    "start_time": "2021-08-21T17:14:43.992Z"
   },
   {
    "duration": -822,
    "start_time": "2021-08-21T17:14:43.995Z"
   },
   {
    "duration": -825,
    "start_time": "2021-08-21T17:14:43.999Z"
   },
   {
    "duration": -827,
    "start_time": "2021-08-21T17:14:44.002Z"
   },
   {
    "duration": -830,
    "start_time": "2021-08-21T17:14:44.007Z"
   },
   {
    "duration": -836,
    "start_time": "2021-08-21T17:14:44.014Z"
   },
   {
    "duration": -839,
    "start_time": "2021-08-21T17:14:44.018Z"
   },
   {
    "duration": -841,
    "start_time": "2021-08-21T17:14:44.021Z"
   },
   {
    "duration": -843,
    "start_time": "2021-08-21T17:14:44.025Z"
   },
   {
    "duration": -845,
    "start_time": "2021-08-21T17:14:44.028Z"
   },
   {
    "duration": -848,
    "start_time": "2021-08-21T17:14:44.032Z"
   },
   {
    "duration": -850,
    "start_time": "2021-08-21T17:14:44.035Z"
   },
   {
    "duration": -853,
    "start_time": "2021-08-21T17:14:44.040Z"
   },
   {
    "duration": -874,
    "start_time": "2021-08-21T17:14:44.062Z"
   },
   {
    "duration": -891,
    "start_time": "2021-08-21T17:14:44.080Z"
   },
   {
    "duration": -895,
    "start_time": "2021-08-21T17:14:44.085Z"
   },
   {
    "duration": -923,
    "start_time": "2021-08-21T17:14:44.115Z"
   },
   {
    "duration": -925,
    "start_time": "2021-08-21T17:14:44.118Z"
   },
   {
    "duration": -928,
    "start_time": "2021-08-21T17:14:44.122Z"
   },
   {
    "duration": -930,
    "start_time": "2021-08-21T17:14:44.125Z"
   },
   {
    "duration": -1019,
    "start_time": "2021-08-21T17:14:44.216Z"
   },
   {
    "duration": -1021,
    "start_time": "2021-08-21T17:14:44.219Z"
   },
   {
    "duration": -1024,
    "start_time": "2021-08-21T17:14:44.223Z"
   },
   {
    "duration": -1027,
    "start_time": "2021-08-21T17:14:44.227Z"
   },
   {
    "duration": -1029,
    "start_time": "2021-08-21T17:14:44.230Z"
   },
   {
    "duration": -1032,
    "start_time": "2021-08-21T17:14:44.235Z"
   },
   {
    "duration": -1035,
    "start_time": "2021-08-21T17:14:44.239Z"
   },
   {
    "duration": -1037,
    "start_time": "2021-08-21T17:14:44.242Z"
   },
   {
    "duration": -1039,
    "start_time": "2021-08-21T17:14:44.245Z"
   },
   {
    "duration": -1048,
    "start_time": "2021-08-21T17:14:44.256Z"
   },
   {
    "duration": -1051,
    "start_time": "2021-08-21T17:14:44.260Z"
   },
   {
    "duration": -1053,
    "start_time": "2021-08-21T17:14:44.263Z"
   },
   {
    "duration": -1056,
    "start_time": "2021-08-21T17:14:44.267Z"
   },
   {
    "duration": -1064,
    "start_time": "2021-08-21T17:14:44.277Z"
   },
   {
    "duration": -1067,
    "start_time": "2021-08-21T17:14:44.281Z"
   },
   {
    "duration": 23,
    "start_time": "2021-08-21T17:15:01.029Z"
   },
   {
    "duration": 8,
    "start_time": "2021-08-21T17:15:03.952Z"
   },
   {
    "duration": 35,
    "start_time": "2021-08-21T17:15:07.038Z"
   },
   {
    "duration": 290,
    "start_time": "2021-08-21T17:15:10.930Z"
   },
   {
    "duration": 302,
    "start_time": "2021-08-21T17:15:15.016Z"
   },
   {
    "duration": 13,
    "start_time": "2021-08-21T17:15:18.750Z"
   },
   {
    "duration": 306,
    "start_time": "2021-08-21T17:15:21.835Z"
   },
   {
    "duration": 22,
    "start_time": "2021-08-21T17:15:24.618Z"
   },
   {
    "duration": 272,
    "start_time": "2021-08-21T17:15:27.758Z"
   },
   {
    "duration": 31,
    "start_time": "2021-08-21T17:15:40.720Z"
   },
   {
    "duration": 29,
    "start_time": "2021-08-21T17:15:44.152Z"
   },
   {
    "duration": 12,
    "start_time": "2021-08-21T17:15:47.227Z"
   },
   {
    "duration": 10,
    "start_time": "2021-08-21T17:15:50.089Z"
   },
   {
    "duration": 39,
    "start_time": "2021-08-21T17:15:54.805Z"
   },
   {
    "duration": 15,
    "start_time": "2021-08-21T17:16:00.002Z"
   },
   {
    "duration": 247,
    "start_time": "2021-08-21T17:16:03.012Z"
   },
   {
    "duration": 86,
    "start_time": "2021-08-21T17:16:11.011Z"
   },
   {
    "duration": 29,
    "start_time": "2021-08-21T17:16:14.984Z"
   },
   {
    "duration": 32,
    "start_time": "2021-08-21T17:16:17.557Z"
   },
   {
    "duration": 1439,
    "start_time": "2021-08-21T17:16:20.234Z"
   },
   {
    "duration": 263,
    "start_time": "2021-08-21T17:16:26.265Z"
   },
   {
    "duration": 26,
    "start_time": "2021-08-21T17:16:43.437Z"
   },
   {
    "duration": 17,
    "start_time": "2021-08-21T17:16:46.356Z"
   },
   {
    "duration": 11,
    "start_time": "2021-08-21T17:16:48.928Z"
   },
   {
    "duration": 6736,
    "start_time": "2021-08-21T17:16:51.695Z"
   },
   {
    "duration": -715,
    "start_time": "2021-08-21T17:16:59.149Z"
   },
   {
    "duration": 17,
    "start_time": "2021-08-21T17:17:20.048Z"
   },
   {
    "duration": 8,
    "start_time": "2021-08-21T17:17:27.105Z"
   },
   {
    "duration": 17,
    "start_time": "2021-08-21T17:17:29.508Z"
   },
   {
    "duration": 24,
    "start_time": "2021-08-21T17:17:32.192Z"
   },
   {
    "duration": 36,
    "start_time": "2021-08-21T17:17:34.886Z"
   },
   {
    "duration": 9,
    "start_time": "2021-08-21T17:17:43.200Z"
   },
   {
    "duration": 14,
    "start_time": "2021-08-21T17:17:56.266Z"
   },
   {
    "duration": 9,
    "start_time": "2021-08-21T17:17:59.536Z"
   },
   {
    "duration": 6369,
    "start_time": "2021-08-21T17:18:20.425Z"
   },
   {
    "duration": -689,
    "start_time": "2021-08-21T17:18:27.486Z"
   },
   {
    "duration": 6154,
    "start_time": "2021-08-21T17:19:06.811Z"
   },
   {
    "duration": 14,
    "start_time": "2021-08-21T17:19:31.797Z"
   },
   {
    "duration": 9,
    "start_time": "2021-08-21T17:19:42.226Z"
   },
   {
    "duration": 6380,
    "start_time": "2021-08-21T17:19:50.147Z"
   },
   {
    "duration": 14,
    "start_time": "2021-08-21T17:22:05.157Z"
   },
   {
    "duration": 6620,
    "start_time": "2021-08-21T17:22:08.989Z"
   },
   {
    "duration": 9,
    "start_time": "2021-08-21T17:23:02.552Z"
   },
   {
    "duration": 9,
    "start_time": "2021-08-21T17:23:17.508Z"
   },
   {
    "duration": 6292,
    "start_time": "2021-08-21T17:23:21.218Z"
   },
   {
    "duration": 301,
    "start_time": "2021-08-21T17:24:27.955Z"
   },
   {
    "duration": 712,
    "start_time": "2021-08-21T17:26:59.887Z"
   },
   {
    "duration": 265,
    "start_time": "2021-08-21T17:31:05.982Z"
   },
   {
    "duration": 252,
    "start_time": "2021-08-21T17:31:47.551Z"
   },
   {
    "duration": 1089,
    "start_time": "2021-08-21T17:32:43.526Z"
   },
   {
    "duration": 282,
    "start_time": "2021-08-21T17:33:10.411Z"
   },
   {
    "duration": 5,
    "start_time": "2021-08-21T17:38:08.607Z"
   },
   {
    "duration": 11,
    "start_time": "2021-08-21T17:38:28.986Z"
   },
   {
    "duration": 236,
    "start_time": "2021-08-21T17:38:48.108Z"
   },
   {
    "duration": 278,
    "start_time": "2021-08-21T17:39:00.642Z"
   },
   {
    "duration": 13,
    "start_time": "2021-08-21T17:40:18.838Z"
   },
   {
    "duration": 285,
    "start_time": "2021-08-21T17:40:40.751Z"
   },
   {
    "duration": 14,
    "start_time": "2021-08-21T17:42:04.330Z"
   },
   {
    "duration": 13,
    "start_time": "2021-08-21T17:43:32.856Z"
   },
   {
    "duration": 15,
    "start_time": "2021-08-21T17:43:41.596Z"
   },
   {
    "duration": 256,
    "start_time": "2021-08-21T17:43:46.828Z"
   },
   {
    "duration": 306,
    "start_time": "2021-08-21T17:44:24.279Z"
   },
   {
    "duration": 14,
    "start_time": "2021-08-21T17:46:36.629Z"
   },
   {
    "duration": 363,
    "start_time": "2021-08-21T17:46:49.501Z"
   },
   {
    "duration": 8,
    "start_time": "2021-08-21T17:47:36.684Z"
   },
   {
    "duration": 226,
    "start_time": "2021-08-21T17:48:10.923Z"
   },
   {
    "duration": 7,
    "start_time": "2021-08-21T17:48:25.285Z"
   },
   {
    "duration": 7,
    "start_time": "2021-08-21T17:49:06.924Z"
   },
   {
    "duration": 14,
    "start_time": "2021-08-21T17:49:29.655Z"
   },
   {
    "duration": 295,
    "start_time": "2021-08-21T17:49:44.097Z"
   },
   {
    "duration": 52,
    "start_time": "2021-08-21T17:49:44.395Z"
   },
   {
    "duration": 14,
    "start_time": "2021-08-21T17:49:44.450Z"
   },
   {
    "duration": 26,
    "start_time": "2021-08-21T17:49:44.467Z"
   },
   {
    "duration": 25,
    "start_time": "2021-08-21T17:49:44.495Z"
   },
   {
    "duration": 8,
    "start_time": "2021-08-21T17:49:44.522Z"
   },
   {
    "duration": 60,
    "start_time": "2021-08-21T17:49:44.533Z"
   },
   {
    "duration": 12,
    "start_time": "2021-08-21T17:49:44.597Z"
   },
   {
    "duration": 14,
    "start_time": "2021-08-21T17:49:44.613Z"
   },
   {
    "duration": 21,
    "start_time": "2021-08-21T17:49:44.630Z"
   },
   {
    "duration": 15,
    "start_time": "2021-08-21T17:49:44.682Z"
   },
   {
    "duration": 18,
    "start_time": "2021-08-21T17:49:44.699Z"
   },
   {
    "duration": 20,
    "start_time": "2021-08-21T17:49:44.719Z"
   },
   {
    "duration": 6,
    "start_time": "2021-08-21T17:49:44.742Z"
   },
   {
    "duration": 45,
    "start_time": "2021-08-21T17:49:44.750Z"
   },
   {
    "duration": 10,
    "start_time": "2021-08-21T17:49:44.798Z"
   },
   {
    "duration": 5,
    "start_time": "2021-08-21T17:49:44.810Z"
   },
   {
    "duration": 12,
    "start_time": "2021-08-21T17:49:44.818Z"
   },
   {
    "duration": 82,
    "start_time": "2021-08-21T17:49:44.832Z"
   },
   {
    "duration": 20,
    "start_time": "2021-08-21T17:49:44.917Z"
   },
   {
    "duration": 59,
    "start_time": "2021-08-21T17:49:44.939Z"
   },
   {
    "duration": 8,
    "start_time": "2021-08-21T17:49:45.000Z"
   },
   {
    "duration": 13,
    "start_time": "2021-08-21T17:49:45.016Z"
   },
   {
    "duration": 7,
    "start_time": "2021-08-21T17:49:45.033Z"
   },
   {
    "duration": 53,
    "start_time": "2021-08-21T17:49:45.043Z"
   },
   {
    "duration": 20,
    "start_time": "2021-08-21T17:49:45.098Z"
   },
   {
    "duration": 22,
    "start_time": "2021-08-21T17:49:45.120Z"
   },
   {
    "duration": 43,
    "start_time": "2021-08-21T17:49:45.144Z"
   },
   {
    "duration": 18,
    "start_time": "2021-08-21T17:49:45.190Z"
   },
   {
    "duration": 17,
    "start_time": "2021-08-21T17:49:45.210Z"
   },
   {
    "duration": 55,
    "start_time": "2021-08-21T17:49:45.229Z"
   },
   {
    "duration": 9,
    "start_time": "2021-08-21T17:49:45.286Z"
   },
   {
    "duration": 19,
    "start_time": "2021-08-21T17:49:45.298Z"
   },
   {
    "duration": 21,
    "start_time": "2021-08-21T17:49:45.319Z"
   },
   {
    "duration": 42,
    "start_time": "2021-08-21T17:49:45.342Z"
   },
   {
    "duration": 14,
    "start_time": "2021-08-21T17:49:45.386Z"
   },
   {
    "duration": 14,
    "start_time": "2021-08-21T17:49:45.402Z"
   },
   {
    "duration": 8,
    "start_time": "2021-08-21T17:49:45.418Z"
   },
   {
    "duration": 55,
    "start_time": "2021-08-21T17:49:45.428Z"
   },
   {
    "duration": 27,
    "start_time": "2021-08-21T17:49:45.486Z"
   },
   {
    "duration": 11,
    "start_time": "2021-08-21T17:49:45.515Z"
   },
   {
    "duration": 9,
    "start_time": "2021-08-21T17:49:45.529Z"
   },
   {
    "duration": 43,
    "start_time": "2021-08-21T17:49:45.541Z"
   },
   {
    "duration": 9,
    "start_time": "2021-08-21T17:49:45.586Z"
   },
   {
    "duration": 15,
    "start_time": "2021-08-21T17:49:45.598Z"
   },
   {
    "duration": 26,
    "start_time": "2021-08-21T17:49:45.615Z"
   },
   {
    "duration": 74,
    "start_time": "2021-08-21T17:49:45.644Z"
   },
   {
    "duration": 14,
    "start_time": "2021-08-21T17:49:45.721Z"
   },
   {
    "duration": 45,
    "start_time": "2021-08-21T17:49:45.737Z"
   },
   {
    "duration": 8,
    "start_time": "2021-08-21T17:49:45.785Z"
   },
   {
    "duration": 33,
    "start_time": "2021-08-21T17:49:45.796Z"
   },
   {
    "duration": 335,
    "start_time": "2021-08-21T17:49:45.832Z"
   },
   {
    "duration": 305,
    "start_time": "2021-08-21T17:49:46.170Z"
   },
   {
    "duration": 16,
    "start_time": "2021-08-21T17:49:46.477Z"
   },
   {
    "duration": 356,
    "start_time": "2021-08-21T17:49:46.495Z"
   },
   {
    "duration": 31,
    "start_time": "2021-08-21T17:49:46.854Z"
   },
   {
    "duration": 286,
    "start_time": "2021-08-21T17:49:46.888Z"
   },
   {
    "duration": -690,
    "start_time": "2021-08-21T17:49:47.869Z"
   },
   {
    "duration": -692,
    "start_time": "2021-08-21T17:49:47.873Z"
   },
   {
    "duration": -693,
    "start_time": "2021-08-21T17:49:47.876Z"
   },
   {
    "duration": -702,
    "start_time": "2021-08-21T17:49:47.887Z"
   },
   {
    "duration": -703,
    "start_time": "2021-08-21T17:49:47.891Z"
   },
   {
    "duration": -704,
    "start_time": "2021-08-21T17:49:47.894Z"
   },
   {
    "duration": -707,
    "start_time": "2021-08-21T17:49:47.899Z"
   },
   {
    "duration": -709,
    "start_time": "2021-08-21T17:49:47.903Z"
   },
   {
    "duration": -712,
    "start_time": "2021-08-21T17:49:47.908Z"
   },
   {
    "duration": -715,
    "start_time": "2021-08-21T17:49:47.914Z"
   },
   {
    "duration": -717,
    "start_time": "2021-08-21T17:49:47.918Z"
   },
   {
    "duration": -726,
    "start_time": "2021-08-21T17:49:47.929Z"
   },
   {
    "duration": -726,
    "start_time": "2021-08-21T17:49:47.932Z"
   },
   {
    "duration": -734,
    "start_time": "2021-08-21T17:49:47.942Z"
   },
   {
    "duration": -736,
    "start_time": "2021-08-21T17:49:47.946Z"
   },
   {
    "duration": -754,
    "start_time": "2021-08-21T17:49:47.966Z"
   },
   {
    "duration": -767,
    "start_time": "2021-08-21T17:49:47.981Z"
   },
   {
    "duration": -815,
    "start_time": "2021-08-21T17:49:48.031Z"
   },
   {
    "duration": -815,
    "start_time": "2021-08-21T17:49:48.034Z"
   },
   {
    "duration": -817,
    "start_time": "2021-08-21T17:49:48.038Z"
   },
   {
    "duration": -836,
    "start_time": "2021-08-21T17:49:48.058Z"
   },
   {
    "duration": -840,
    "start_time": "2021-08-21T17:49:48.063Z"
   },
   {
    "duration": -904,
    "start_time": "2021-08-21T17:49:48.129Z"
   },
   {
    "duration": -863,
    "start_time": "2021-08-21T17:49:48.146Z"
   },
   {
    "duration": -864,
    "start_time": "2021-08-21T17:49:48.149Z"
   },
   {
    "duration": -866,
    "start_time": "2021-08-21T17:49:48.153Z"
   },
   {
    "duration": -874,
    "start_time": "2021-08-21T17:49:48.163Z"
   },
   {
    "duration": -875,
    "start_time": "2021-08-21T17:49:48.167Z"
   },
   {
    "duration": -877,
    "start_time": "2021-08-21T17:49:48.171Z"
   },
   {
    "duration": -879,
    "start_time": "2021-08-21T17:49:48.175Z"
   },
   {
    "duration": -881,
    "start_time": "2021-08-21T17:49:48.179Z"
   },
   {
    "duration": -884,
    "start_time": "2021-08-21T17:49:48.184Z"
   },
   {
    "duration": -885,
    "start_time": "2021-08-21T17:49:48.187Z"
   },
   {
    "duration": -889,
    "start_time": "2021-08-21T17:49:48.193Z"
   },
   {
    "duration": -893,
    "start_time": "2021-08-21T17:49:48.199Z"
   },
   {
    "duration": 13,
    "start_time": "2021-08-21T17:50:21.529Z"
   },
   {
    "duration": 7,
    "start_time": "2021-08-21T17:50:27.000Z"
   },
   {
    "duration": 188,
    "start_time": "2021-08-21T17:53:22.529Z"
   },
   {
    "duration": 176,
    "start_time": "2021-08-21T17:53:29.291Z"
   },
   {
    "duration": 20,
    "start_time": "2021-08-21T17:53:41.198Z"
   },
   {
    "duration": 19,
    "start_time": "2021-08-21T17:53:43.265Z"
   },
   {
    "duration": 7,
    "start_time": "2021-08-21T17:55:51.348Z"
   },
   {
    "duration": 15,
    "start_time": "2021-08-21T17:55:56.290Z"
   },
   {
    "duration": 14,
    "start_time": "2021-08-21T17:57:07.458Z"
   },
   {
    "duration": 9,
    "start_time": "2021-08-21T17:57:11.677Z"
   },
   {
    "duration": 14,
    "start_time": "2021-08-21T17:57:23.698Z"
   },
   {
    "duration": 8,
    "start_time": "2021-08-21T17:57:23.800Z"
   },
   {
    "duration": 18,
    "start_time": "2021-08-21T17:57:39.970Z"
   },
   {
    "duration": 8,
    "start_time": "2021-08-21T17:57:48.573Z"
   },
   {
    "duration": 18,
    "start_time": "2021-08-21T17:58:03.997Z"
   },
   {
    "duration": 8,
    "start_time": "2021-08-21T17:58:11.079Z"
   },
   {
    "duration": 19,
    "start_time": "2021-08-21T17:59:26.773Z"
   },
   {
    "duration": 258,
    "start_time": "2021-08-21T18:02:18.247Z"
   },
   {
    "duration": 279,
    "start_time": "2021-08-21T18:03:02.003Z"
   },
   {
    "duration": 261,
    "start_time": "2021-08-21T18:03:24.474Z"
   },
   {
    "duration": 241,
    "start_time": "2021-08-21T18:05:09.476Z"
   },
   {
    "duration": 53,
    "start_time": "2021-08-21T18:05:09.720Z"
   },
   {
    "duration": 14,
    "start_time": "2021-08-21T18:05:09.776Z"
   },
   {
    "duration": 21,
    "start_time": "2021-08-21T18:05:09.793Z"
   },
   {
    "duration": 18,
    "start_time": "2021-08-21T18:05:09.816Z"
   },
   {
    "duration": 7,
    "start_time": "2021-08-21T18:05:09.836Z"
   },
   {
    "duration": 68,
    "start_time": "2021-08-21T18:05:09.845Z"
   },
   {
    "duration": 13,
    "start_time": "2021-08-21T18:05:09.916Z"
   },
   {
    "duration": 16,
    "start_time": "2021-08-21T18:05:09.933Z"
   },
   {
    "duration": 24,
    "start_time": "2021-08-21T18:05:09.984Z"
   },
   {
    "duration": 21,
    "start_time": "2021-08-21T18:05:10.010Z"
   },
   {
    "duration": 19,
    "start_time": "2021-08-21T18:05:10.033Z"
   },
   {
    "duration": 16,
    "start_time": "2021-08-21T18:05:10.082Z"
   },
   {
    "duration": 5,
    "start_time": "2021-08-21T18:05:10.101Z"
   },
   {
    "duration": 19,
    "start_time": "2021-08-21T18:05:10.109Z"
   },
   {
    "duration": 6,
    "start_time": "2021-08-21T18:05:10.130Z"
   },
   {
    "duration": 6,
    "start_time": "2021-08-21T18:05:10.182Z"
   },
   {
    "duration": 16,
    "start_time": "2021-08-21T18:05:10.190Z"
   },
   {
    "duration": 89,
    "start_time": "2021-08-21T18:05:10.209Z"
   },
   {
    "duration": 21,
    "start_time": "2021-08-21T18:05:10.300Z"
   },
   {
    "duration": 60,
    "start_time": "2021-08-21T18:05:10.324Z"
   },
   {
    "duration": 8,
    "start_time": "2021-08-21T18:05:10.386Z"
   },
   {
    "duration": 14,
    "start_time": "2021-08-21T18:05:10.398Z"
   },
   {
    "duration": 8,
    "start_time": "2021-08-21T18:05:10.416Z"
   },
   {
    "duration": 62,
    "start_time": "2021-08-21T18:05:10.426Z"
   },
   {
    "duration": 21,
    "start_time": "2021-08-21T18:05:10.490Z"
   },
   {
    "duration": 20,
    "start_time": "2021-08-21T18:05:10.519Z"
   },
   {
    "duration": 51,
    "start_time": "2021-08-21T18:05:10.545Z"
   },
   {
    "duration": 20,
    "start_time": "2021-08-21T18:05:10.599Z"
   },
   {
    "duration": 17,
    "start_time": "2021-08-21T18:05:10.621Z"
   },
   {
    "duration": 56,
    "start_time": "2021-08-21T18:05:10.641Z"
   },
   {
    "duration": 9,
    "start_time": "2021-08-21T18:05:10.700Z"
   },
   {
    "duration": 19,
    "start_time": "2021-08-21T18:05:10.711Z"
   },
   {
    "duration": 52,
    "start_time": "2021-08-21T18:05:10.732Z"
   },
   {
    "duration": 9,
    "start_time": "2021-08-21T18:05:10.787Z"
   },
   {
    "duration": 15,
    "start_time": "2021-08-21T18:05:10.799Z"
   },
   {
    "duration": 15,
    "start_time": "2021-08-21T18:05:10.816Z"
   },
   {
    "duration": 51,
    "start_time": "2021-08-21T18:05:10.833Z"
   },
   {
    "duration": 14,
    "start_time": "2021-08-21T18:05:10.886Z"
   },
   {
    "duration": 27,
    "start_time": "2021-08-21T18:05:10.903Z"
   },
   {
    "duration": 50,
    "start_time": "2021-08-21T18:05:10.934Z"
   },
   {
    "duration": 11,
    "start_time": "2021-08-21T18:05:10.987Z"
   },
   {
    "duration": 11,
    "start_time": "2021-08-21T18:05:11.001Z"
   },
   {
    "duration": 9,
    "start_time": "2021-08-21T18:05:11.014Z"
   },
   {
    "duration": 57,
    "start_time": "2021-08-21T18:05:11.026Z"
   },
   {
    "duration": 22,
    "start_time": "2021-08-21T18:05:11.085Z"
   },
   {
    "duration": 41,
    "start_time": "2021-08-21T18:05:11.110Z"
   },
   {
    "duration": 37,
    "start_time": "2021-08-21T18:05:11.154Z"
   },
   {
    "duration": 26,
    "start_time": "2021-08-21T18:05:11.195Z"
   },
   {
    "duration": 9,
    "start_time": "2021-08-21T18:05:11.225Z"
   },
   {
    "duration": 80,
    "start_time": "2021-08-21T18:05:11.237Z"
   },
   {
    "duration": 322,
    "start_time": "2021-08-21T18:05:11.320Z"
   },
   {
    "duration": 329,
    "start_time": "2021-08-21T18:05:11.645Z"
   },
   {
    "duration": 17,
    "start_time": "2021-08-21T18:05:11.977Z"
   },
   {
    "duration": 339,
    "start_time": "2021-08-21T18:05:11.996Z"
   },
   {
    "duration": 23,
    "start_time": "2021-08-21T18:05:12.338Z"
   },
   {
    "duration": 269,
    "start_time": "2021-08-21T18:05:12.383Z"
   },
   {
    "duration": -653,
    "start_time": "2021-08-21T18:05:13.308Z"
   },
   {
    "duration": -656,
    "start_time": "2021-08-21T18:05:13.313Z"
   },
   {
    "duration": -659,
    "start_time": "2021-08-21T18:05:13.317Z"
   },
   {
    "duration": -661,
    "start_time": "2021-08-21T18:05:13.321Z"
   },
   {
    "duration": -665,
    "start_time": "2021-08-21T18:05:13.326Z"
   },
   {
    "duration": -668,
    "start_time": "2021-08-21T18:05:13.331Z"
   },
   {
    "duration": -672,
    "start_time": "2021-08-21T18:05:13.336Z"
   },
   {
    "duration": -674,
    "start_time": "2021-08-21T18:05:13.339Z"
   },
   {
    "duration": -676,
    "start_time": "2021-08-21T18:05:13.343Z"
   },
   {
    "duration": -686,
    "start_time": "2021-08-21T18:05:13.354Z"
   },
   {
    "duration": -688,
    "start_time": "2021-08-21T18:05:13.358Z"
   },
   {
    "duration": -691,
    "start_time": "2021-08-21T18:05:13.362Z"
   },
   {
    "duration": -694,
    "start_time": "2021-08-21T18:05:13.366Z"
   },
   {
    "duration": -696,
    "start_time": "2021-08-21T18:05:13.370Z"
   },
   {
    "duration": -699,
    "start_time": "2021-08-21T18:05:13.374Z"
   },
   {
    "duration": -704,
    "start_time": "2021-08-21T18:05:13.380Z"
   },
   {
    "duration": -706,
    "start_time": "2021-08-21T18:05:13.384Z"
   },
   {
    "duration": -708,
    "start_time": "2021-08-21T18:05:13.387Z"
   },
   {
    "duration": -711,
    "start_time": "2021-08-21T18:05:13.391Z"
   },
   {
    "duration": -712,
    "start_time": "2021-08-21T18:05:13.394Z"
   },
   {
    "duration": -715,
    "start_time": "2021-08-21T18:05:13.398Z"
   },
   {
    "duration": -716,
    "start_time": "2021-08-21T18:05:13.401Z"
   },
   {
    "duration": -719,
    "start_time": "2021-08-21T18:05:13.405Z"
   },
   {
    "duration": -722,
    "start_time": "2021-08-21T18:05:13.409Z"
   },
   {
    "duration": -723,
    "start_time": "2021-08-21T18:05:13.412Z"
   },
   {
    "duration": -726,
    "start_time": "2021-08-21T18:05:13.416Z"
   },
   {
    "duration": -729,
    "start_time": "2021-08-21T18:05:13.421Z"
   },
   {
    "duration": -732,
    "start_time": "2021-08-21T18:05:13.425Z"
   },
   {
    "duration": -735,
    "start_time": "2021-08-21T18:05:13.429Z"
   },
   {
    "duration": -736,
    "start_time": "2021-08-21T18:05:13.432Z"
   },
   {
    "duration": -739,
    "start_time": "2021-08-21T18:05:13.436Z"
   },
   {
    "duration": -742,
    "start_time": "2021-08-21T18:05:13.440Z"
   },
   {
    "duration": -743,
    "start_time": "2021-08-21T18:05:13.443Z"
   },
   {
    "duration": -746,
    "start_time": "2021-08-21T18:05:13.447Z"
   },
   {
    "duration": -749,
    "start_time": "2021-08-21T18:05:13.451Z"
   },
   {
    "duration": 237,
    "start_time": "2021-08-21T18:06:04.775Z"
   },
   {
    "duration": 6834,
    "start_time": "2021-08-21T18:06:34.805Z"
   },
   {
    "duration": 23,
    "start_time": "2021-08-21T18:06:58.254Z"
   },
   {
    "duration": 8,
    "start_time": "2021-08-21T18:07:00.671Z"
   },
   {
    "duration": 33,
    "start_time": "2021-08-21T18:07:02.867Z"
   },
   {
    "duration": 295,
    "start_time": "2021-08-21T18:07:06.209Z"
   },
   {
    "duration": 306,
    "start_time": "2021-08-21T18:07:09.065Z"
   },
   {
    "duration": 13,
    "start_time": "2021-08-21T18:07:11.996Z"
   },
   {
    "duration": 328,
    "start_time": "2021-08-21T18:07:14.773Z"
   },
   {
    "duration": 25,
    "start_time": "2021-08-21T18:07:17.648Z"
   },
   {
    "duration": 277,
    "start_time": "2021-08-21T18:07:20.833Z"
   },
   {
    "duration": 30,
    "start_time": "2021-08-21T18:07:39.661Z"
   },
   {
    "duration": 247,
    "start_time": "2021-08-21T18:07:47.938Z"
   },
   {
    "duration": 5,
    "start_time": "2021-08-21T18:07:54.021Z"
   },
   {
    "duration": 18,
    "start_time": "2021-08-21T18:07:57.583Z"
   },
   {
    "duration": 85,
    "start_time": "2021-08-21T18:08:02.071Z"
   },
   {
    "duration": 27,
    "start_time": "2021-08-21T18:08:06.502Z"
   },
   {
    "duration": 31,
    "start_time": "2021-08-21T18:08:09.073Z"
   },
   {
    "duration": 1310,
    "start_time": "2021-08-21T18:08:13.041Z"
   },
   {
    "duration": 262,
    "start_time": "2021-08-21T18:08:18.932Z"
   },
   {
    "duration": 57,
    "start_time": "2021-08-21T18:08:23.546Z"
   },
   {
    "duration": 33,
    "start_time": "2021-08-21T18:08:57.685Z"
   },
   {
    "duration": 42,
    "start_time": "2021-08-21T18:09:31.535Z"
   },
   {
    "duration": 40,
    "start_time": "2021-08-21T18:46:41.347Z"
   },
   {
    "duration": 300,
    "start_time": "2021-08-21T18:46:59.015Z"
   },
   {
    "duration": 184,
    "start_time": "2021-08-21T18:46:59.319Z"
   },
   {
    "duration": 16,
    "start_time": "2021-08-21T18:46:59.508Z"
   },
   {
    "duration": 30,
    "start_time": "2021-08-21T18:46:59.527Z"
   },
   {
    "duration": 34,
    "start_time": "2021-08-21T18:46:59.560Z"
   },
   {
    "duration": 9,
    "start_time": "2021-08-21T18:46:59.597Z"
   },
   {
    "duration": 40,
    "start_time": "2021-08-21T18:46:59.609Z"
   },
   {
    "duration": 15,
    "start_time": "2021-08-21T18:46:59.686Z"
   },
   {
    "duration": 31,
    "start_time": "2021-08-21T18:46:59.705Z"
   },
   {
    "duration": 19,
    "start_time": "2021-08-21T18:46:59.738Z"
   },
   {
    "duration": 34,
    "start_time": "2021-08-21T18:46:59.760Z"
   },
   {
    "duration": 15,
    "start_time": "2021-08-21T18:46:59.797Z"
   },
   {
    "duration": 19,
    "start_time": "2021-08-21T18:46:59.814Z"
   },
   {
    "duration": 47,
    "start_time": "2021-08-21T18:46:59.835Z"
   },
   {
    "duration": 18,
    "start_time": "2021-08-21T18:46:59.884Z"
   },
   {
    "duration": 7,
    "start_time": "2021-08-21T18:46:59.904Z"
   },
   {
    "duration": 31,
    "start_time": "2021-08-21T18:46:59.913Z"
   },
   {
    "duration": 37,
    "start_time": "2021-08-21T18:46:59.947Z"
   },
   {
    "duration": 14,
    "start_time": "2021-08-21T18:46:59.986Z"
   },
   {
    "duration": 48,
    "start_time": "2021-08-21T18:47:00.003Z"
   },
   {
    "duration": 21,
    "start_time": "2021-08-21T18:47:00.082Z"
   },
   {
    "duration": 37,
    "start_time": "2021-08-21T18:47:00.106Z"
   },
   {
    "duration": 34,
    "start_time": "2021-08-21T18:47:00.150Z"
   },
   {
    "duration": 13,
    "start_time": "2021-08-21T18:47:00.187Z"
   },
   {
    "duration": 9,
    "start_time": "2021-08-21T18:47:00.202Z"
   },
   {
    "duration": 19,
    "start_time": "2021-08-21T18:47:00.214Z"
   },
   {
    "duration": 53,
    "start_time": "2021-08-21T18:47:00.235Z"
   },
   {
    "duration": 20,
    "start_time": "2021-08-21T18:47:00.290Z"
   },
   {
    "duration": 17,
    "start_time": "2021-08-21T18:47:00.312Z"
   },
   {
    "duration": 51,
    "start_time": "2021-08-21T18:47:00.332Z"
   },
   {
    "duration": 15,
    "start_time": "2021-08-21T18:47:00.386Z"
   },
   {
    "duration": 33,
    "start_time": "2021-08-21T18:47:00.403Z"
   },
   {
    "duration": 13,
    "start_time": "2021-08-21T18:47:00.438Z"
   },
   {
    "duration": 38,
    "start_time": "2021-08-21T18:47:00.453Z"
   },
   {
    "duration": 21,
    "start_time": "2021-08-21T18:47:00.493Z"
   },
   {
    "duration": 13,
    "start_time": "2021-08-21T18:47:00.516Z"
   },
   {
    "duration": 21,
    "start_time": "2021-08-21T18:47:00.531Z"
   },
   {
    "duration": 58,
    "start_time": "2021-08-21T18:47:00.554Z"
   },
   {
    "duration": 10,
    "start_time": "2021-08-21T18:47:00.614Z"
   },
   {
    "duration": 21,
    "start_time": "2021-08-21T18:47:00.626Z"
   },
   {
    "duration": 34,
    "start_time": "2021-08-21T18:47:00.650Z"
   },
   {
    "duration": 12,
    "start_time": "2021-08-21T18:47:00.686Z"
   },
   {
    "duration": 10,
    "start_time": "2021-08-21T18:47:00.700Z"
   },
   {
    "duration": 11,
    "start_time": "2021-08-21T18:47:00.713Z"
   },
   {
    "duration": 13,
    "start_time": "2021-08-21T18:47:00.726Z"
   },
   {
    "duration": 52,
    "start_time": "2021-08-21T18:47:00.742Z"
   },
   {
    "duration": 21,
    "start_time": "2021-08-21T18:47:00.796Z"
   },
   {
    "duration": 63,
    "start_time": "2021-08-21T18:47:00.819Z"
   },
   {
    "duration": 10,
    "start_time": "2021-08-21T18:47:00.884Z"
   },
   {
    "duration": 48,
    "start_time": "2021-08-21T18:47:00.896Z"
   },
   {
    "duration": 13,
    "start_time": "2021-08-21T18:47:00.946Z"
   },
   {
    "duration": 48,
    "start_time": "2021-08-21T18:47:00.962Z"
   },
   {
    "duration": 331,
    "start_time": "2021-08-21T18:47:01.012Z"
   },
   {
    "duration": 344,
    "start_time": "2021-08-21T18:47:01.345Z"
   },
   {
    "duration": 13,
    "start_time": "2021-08-21T18:47:01.691Z"
   },
   {
    "duration": 363,
    "start_time": "2021-08-21T18:47:01.706Z"
   },
   {
    "duration": 22,
    "start_time": "2021-08-21T18:47:02.083Z"
   },
   {
    "duration": 275,
    "start_time": "2021-08-21T18:47:02.108Z"
   },
   {
    "duration": -1507,
    "start_time": "2021-08-21T18:47:03.894Z"
   },
   {
    "duration": -1512,
    "start_time": "2021-08-21T18:47:03.900Z"
   },
   {
    "duration": -1516,
    "start_time": "2021-08-21T18:47:03.906Z"
   },
   {
    "duration": -1520,
    "start_time": "2021-08-21T18:47:03.911Z"
   },
   {
    "duration": -1525,
    "start_time": "2021-08-21T18:47:03.917Z"
   },
   {
    "duration": -1529,
    "start_time": "2021-08-21T18:47:03.922Z"
   },
   {
    "duration": -1534,
    "start_time": "2021-08-21T18:47:03.929Z"
   },
   {
    "duration": -1538,
    "start_time": "2021-08-21T18:47:03.934Z"
   },
   {
    "duration": -1542,
    "start_time": "2021-08-21T18:47:03.940Z"
   },
   {
    "duration": -1546,
    "start_time": "2021-08-21T18:47:03.945Z"
   },
   {
    "duration": -1580,
    "start_time": "2021-08-21T18:47:03.980Z"
   },
   {
    "duration": -1584,
    "start_time": "2021-08-21T18:47:03.985Z"
   },
   {
    "duration": -1588,
    "start_time": "2021-08-21T18:47:03.991Z"
   },
   {
    "duration": -1592,
    "start_time": "2021-08-21T18:47:03.996Z"
   },
   {
    "duration": -1597,
    "start_time": "2021-08-21T18:47:04.002Z"
   },
   {
    "duration": -1600,
    "start_time": "2021-08-21T18:47:04.007Z"
   },
   {
    "duration": -1605,
    "start_time": "2021-08-21T18:47:04.013Z"
   },
   {
    "duration": -1608,
    "start_time": "2021-08-21T18:47:04.018Z"
   },
   {
    "duration": -1613,
    "start_time": "2021-08-21T18:47:04.024Z"
   },
   {
    "duration": -1617,
    "start_time": "2021-08-21T18:47:04.029Z"
   },
   {
    "duration": -1621,
    "start_time": "2021-08-21T18:47:04.035Z"
   },
   {
    "duration": -1625,
    "start_time": "2021-08-21T18:47:04.040Z"
   },
   {
    "duration": -1629,
    "start_time": "2021-08-21T18:47:04.045Z"
   },
   {
    "duration": -1633,
    "start_time": "2021-08-21T18:47:04.051Z"
   },
   {
    "duration": -1638,
    "start_time": "2021-08-21T18:47:04.057Z"
   },
   {
    "duration": -1641,
    "start_time": "2021-08-21T18:47:04.061Z"
   },
   {
    "duration": -1646,
    "start_time": "2021-08-21T18:47:04.068Z"
   },
   {
    "duration": -1650,
    "start_time": "2021-08-21T18:47:04.073Z"
   },
   {
    "duration": -1665,
    "start_time": "2021-08-21T18:47:04.089Z"
   },
   {
    "duration": -1611,
    "start_time": "2021-08-21T18:47:04.094Z"
   },
   {
    "duration": -1616,
    "start_time": "2021-08-21T18:47:04.100Z"
   },
   {
    "duration": -1619,
    "start_time": "2021-08-21T18:47:04.105Z"
   },
   {
    "duration": -1624,
    "start_time": "2021-08-21T18:47:04.111Z"
   },
   {
    "duration": -1628,
    "start_time": "2021-08-21T18:47:04.116Z"
   },
   {
    "duration": -1633,
    "start_time": "2021-08-21T18:47:04.122Z"
   },
   {
    "duration": -1637,
    "start_time": "2021-08-21T18:47:04.127Z"
   },
   {
    "duration": 42,
    "start_time": "2021-08-21T18:47:51.263Z"
   },
   {
    "duration": 8,
    "start_time": "2021-08-21T18:48:00.988Z"
   },
   {
    "duration": 16,
    "start_time": "2021-08-21T18:48:04.603Z"
   },
   {
    "duration": 24,
    "start_time": "2021-08-21T18:48:07.643Z"
   },
   {
    "duration": 36,
    "start_time": "2021-08-21T18:48:10.416Z"
   },
   {
    "duration": 23,
    "start_time": "2021-08-21T18:48:14.145Z"
   },
   {
    "duration": 8,
    "start_time": "2021-08-21T18:48:17.438Z"
   },
   {
    "duration": 34,
    "start_time": "2021-08-21T18:48:24.032Z"
   },
   {
    "duration": 15,
    "start_time": "2021-08-21T18:48:37.570Z"
   },
   {
    "duration": 10,
    "start_time": "2021-08-21T18:48:40.406Z"
   },
   {
    "duration": 49,
    "start_time": "2021-08-21T18:48:45.775Z"
   },
   {
    "duration": 281,
    "start_time": "2021-08-21T18:50:23.755Z"
   },
   {
    "duration": 16,
    "start_time": "2021-08-21T18:50:49.816Z"
   },
   {
    "duration": 6,
    "start_time": "2021-08-21T18:50:54.096Z"
   },
   {
    "duration": 17,
    "start_time": "2021-08-21T18:50:57.397Z"
   },
   {
    "duration": 7,
    "start_time": "2021-08-21T18:51:00.501Z"
   },
   {
    "duration": 48,
    "start_time": "2021-08-21T18:51:04.005Z"
   },
   {
    "duration": 10,
    "start_time": "2021-08-21T18:51:20.976Z"
   },
   {
    "duration": 408,
    "start_time": "2021-08-21T18:51:24.240Z"
   },
   {
    "duration": 6,
    "start_time": "2021-08-21T18:51:48.991Z"
   },
   {
    "duration": 16,
    "start_time": "2021-08-21T18:52:02.910Z"
   },
   {
    "duration": 7,
    "start_time": "2021-08-21T18:52:06.144Z"
   },
   {
    "duration": 14,
    "start_time": "2021-08-21T18:52:15.304Z"
   },
   {
    "duration": 305,
    "start_time": "2021-08-21T18:52:28.672Z"
   },
   {
    "duration": 346,
    "start_time": "2021-08-21T18:52:54.584Z"
   },
   {
    "duration": 228,
    "start_time": "2021-08-21T18:53:09.683Z"
   },
   {
    "duration": 32,
    "start_time": "2021-08-21T18:53:15.763Z"
   },
   {
    "duration": 30,
    "start_time": "2021-08-21T18:53:23.791Z"
   },
   {
    "duration": 14,
    "start_time": "2021-08-21T18:53:29.466Z"
   },
   {
    "duration": 9,
    "start_time": "2021-08-21T18:53:32.023Z"
   },
   {
    "duration": 257,
    "start_time": "2021-08-21T18:53:42.848Z"
   },
   {
    "duration": 11,
    "start_time": "2021-08-21T18:53:53.259Z"
   },
   {
    "duration": 195,
    "start_time": "2021-08-21T18:54:22.908Z"
   },
   {
    "duration": 64,
    "start_time": "2021-08-21T18:54:23.106Z"
   },
   {
    "duration": 14,
    "start_time": "2021-08-21T18:54:23.182Z"
   },
   {
    "duration": 20,
    "start_time": "2021-08-21T18:54:23.199Z"
   },
   {
    "duration": 19,
    "start_time": "2021-08-21T18:54:23.221Z"
   },
   {
    "duration": 8,
    "start_time": "2021-08-21T18:54:23.282Z"
   },
   {
    "duration": 37,
    "start_time": "2021-08-21T18:54:23.293Z"
   },
   {
    "duration": 12,
    "start_time": "2021-08-21T18:54:23.334Z"
   },
   {
    "duration": 16,
    "start_time": "2021-08-21T18:54:23.384Z"
   },
   {
    "duration": 20,
    "start_time": "2021-08-21T18:54:23.403Z"
   },
   {
    "duration": 15,
    "start_time": "2021-08-21T18:54:23.426Z"
   },
   {
    "duration": 52,
    "start_time": "2021-08-21T18:54:23.443Z"
   },
   {
    "duration": 18,
    "start_time": "2021-08-21T18:54:23.497Z"
   },
   {
    "duration": 7,
    "start_time": "2021-08-21T18:54:23.517Z"
   },
   {
    "duration": 56,
    "start_time": "2021-08-21T18:54:23.527Z"
   },
   {
    "duration": 7,
    "start_time": "2021-08-21T18:54:23.586Z"
   },
   {
    "duration": 30,
    "start_time": "2021-08-21T18:54:23.596Z"
   },
   {
    "duration": 6,
    "start_time": "2021-08-21T18:54:23.629Z"
   },
   {
    "duration": 48,
    "start_time": "2021-08-21T18:54:23.637Z"
   },
   {
    "duration": 43,
    "start_time": "2021-08-21T18:54:23.687Z"
   },
   {
    "duration": 51,
    "start_time": "2021-08-21T18:54:23.733Z"
   },
   {
    "duration": 26,
    "start_time": "2021-08-21T18:54:23.787Z"
   },
   {
    "duration": 9,
    "start_time": "2021-08-21T18:54:23.819Z"
   },
   {
    "duration": 13,
    "start_time": "2021-08-21T18:54:23.832Z"
   },
   {
    "duration": 7,
    "start_time": "2021-08-21T18:54:23.884Z"
   },
   {
    "duration": 17,
    "start_time": "2021-08-21T18:54:23.893Z"
   },
   {
    "duration": 23,
    "start_time": "2021-08-21T18:54:23.913Z"
   },
   {
    "duration": 60,
    "start_time": "2021-08-21T18:54:23.939Z"
   },
   {
    "duration": 19,
    "start_time": "2021-08-21T18:54:24.003Z"
   },
   {
    "duration": 20,
    "start_time": "2021-08-21T18:54:24.025Z"
   },
   {
    "duration": 16,
    "start_time": "2021-08-21T18:54:24.083Z"
   },
   {
    "duration": 20,
    "start_time": "2021-08-21T18:54:24.102Z"
   },
   {
    "duration": 10,
    "start_time": "2021-08-21T18:54:24.124Z"
   },
   {
    "duration": 60,
    "start_time": "2021-08-21T18:54:24.136Z"
   },
   {
    "duration": 24,
    "start_time": "2021-08-21T18:54:24.198Z"
   },
   {
    "duration": 10,
    "start_time": "2021-08-21T18:54:24.224Z"
   },
   {
    "duration": 47,
    "start_time": "2021-08-21T18:54:24.237Z"
   },
   {
    "duration": 24,
    "start_time": "2021-08-21T18:54:24.287Z"
   },
   {
    "duration": 9,
    "start_time": "2021-08-21T18:54:24.313Z"
   },
   {
    "duration": 13,
    "start_time": "2021-08-21T18:54:24.325Z"
   },
   {
    "duration": 58,
    "start_time": "2021-08-21T18:54:24.340Z"
   },
   {
    "duration": 11,
    "start_time": "2021-08-21T18:54:24.401Z"
   },
   {
    "duration": 12,
    "start_time": "2021-08-21T18:54:24.415Z"
   },
   {
    "duration": 10,
    "start_time": "2021-08-21T18:54:24.430Z"
   },
   {
    "duration": 9,
    "start_time": "2021-08-21T18:54:24.482Z"
   },
   {
    "duration": 20,
    "start_time": "2021-08-21T18:54:24.494Z"
   },
   {
    "duration": 19,
    "start_time": "2021-08-21T18:54:24.516Z"
   },
   {
    "duration": 84,
    "start_time": "2021-08-21T18:54:24.538Z"
   },
   {
    "duration": 9,
    "start_time": "2021-08-21T18:54:24.624Z"
   },
   {
    "duration": 49,
    "start_time": "2021-08-21T18:54:24.635Z"
   },
   {
    "duration": 7,
    "start_time": "2021-08-21T18:54:24.687Z"
   },
   {
    "duration": 40,
    "start_time": "2021-08-21T18:54:24.697Z"
   },
   {
    "duration": 623,
    "start_time": "2021-08-21T18:54:24.740Z"
   },
   {
    "duration": 350,
    "start_time": "2021-08-21T18:54:25.366Z"
   },
   {
    "duration": 13,
    "start_time": "2021-08-21T18:54:25.719Z"
   },
   {
    "duration": 352,
    "start_time": "2021-08-21T18:54:25.735Z"
   },
   {
    "duration": 24,
    "start_time": "2021-08-21T18:54:26.090Z"
   },
   {
    "duration": 289,
    "start_time": "2021-08-21T18:54:26.116Z"
   },
   {
    "duration": -1196,
    "start_time": "2021-08-21T18:54:27.605Z"
   },
   {
    "duration": -1227,
    "start_time": "2021-08-21T18:54:27.637Z"
   },
   {
    "duration": -1231,
    "start_time": "2021-08-21T18:54:27.642Z"
   },
   {
    "duration": -1235,
    "start_time": "2021-08-21T18:54:27.648Z"
   },
   {
    "duration": -1239,
    "start_time": "2021-08-21T18:54:27.653Z"
   },
   {
    "duration": -1246,
    "start_time": "2021-08-21T18:54:27.661Z"
   },
   {
    "duration": -1252,
    "start_time": "2021-08-21T18:54:27.668Z"
   },
   {
    "duration": -1258,
    "start_time": "2021-08-21T18:54:27.676Z"
   },
   {
    "duration": -1264,
    "start_time": "2021-08-21T18:54:27.683Z"
   },
   {
    "duration": -1271,
    "start_time": "2021-08-21T18:54:27.691Z"
   },
   {
    "duration": -1277,
    "start_time": "2021-08-21T18:54:27.698Z"
   },
   {
    "duration": -1282,
    "start_time": "2021-08-21T18:54:27.705Z"
   },
   {
    "duration": -1286,
    "start_time": "2021-08-21T18:54:27.710Z"
   },
   {
    "duration": -1291,
    "start_time": "2021-08-21T18:54:27.716Z"
   },
   {
    "duration": -1293,
    "start_time": "2021-08-21T18:54:27.720Z"
   },
   {
    "duration": -1298,
    "start_time": "2021-08-21T18:54:27.726Z"
   },
   {
    "duration": -1301,
    "start_time": "2021-08-21T18:54:27.731Z"
   },
   {
    "duration": -1316,
    "start_time": "2021-08-21T18:54:27.747Z"
   },
   {
    "duration": -1320,
    "start_time": "2021-08-21T18:54:27.752Z"
   },
   {
    "duration": -1325,
    "start_time": "2021-08-21T18:54:27.758Z"
   },
   {
    "duration": -1329,
    "start_time": "2021-08-21T18:54:27.763Z"
   },
   {
    "duration": -1332,
    "start_time": "2021-08-21T18:54:27.768Z"
   },
   {
    "duration": -1336,
    "start_time": "2021-08-21T18:54:27.773Z"
   },
   {
    "duration": -1340,
    "start_time": "2021-08-21T18:54:27.778Z"
   },
   {
    "duration": -1342,
    "start_time": "2021-08-21T18:54:27.782Z"
   },
   {
    "duration": -1347,
    "start_time": "2021-08-21T18:54:27.788Z"
   },
   {
    "duration": -1350,
    "start_time": "2021-08-21T18:54:27.792Z"
   },
   {
    "duration": -1354,
    "start_time": "2021-08-21T18:54:27.797Z"
   },
   {
    "duration": -1358,
    "start_time": "2021-08-21T18:54:27.802Z"
   },
   {
    "duration": -1363,
    "start_time": "2021-08-21T18:54:27.809Z"
   },
   {
    "duration": -1367,
    "start_time": "2021-08-21T18:54:27.814Z"
   },
   {
    "duration": -1371,
    "start_time": "2021-08-21T18:54:27.819Z"
   },
   {
    "duration": -1376,
    "start_time": "2021-08-21T18:54:27.824Z"
   },
   {
    "duration": -1348,
    "start_time": "2021-08-21T18:54:27.830Z"
   },
   {
    "duration": -1351,
    "start_time": "2021-08-21T18:54:27.834Z"
   },
   {
    "duration": -1355,
    "start_time": "2021-08-21T18:54:27.840Z"
   },
   {
    "duration": 181,
    "start_time": "2021-08-21T18:59:05.484Z"
   },
   {
    "duration": 56,
    "start_time": "2021-08-21T18:59:09.128Z"
   },
   {
    "duration": 16,
    "start_time": "2021-08-21T18:59:11.432Z"
   },
   {
    "duration": 14,
    "start_time": "2021-08-21T18:59:16.244Z"
   },
   {
    "duration": 20,
    "start_time": "2021-08-21T18:59:19.075Z"
   },
   {
    "duration": 20,
    "start_time": "2021-08-21T18:59:23.094Z"
   },
   {
    "duration": 9,
    "start_time": "2021-08-21T18:59:25.713Z"
   },
   {
    "duration": 15,
    "start_time": "2021-08-21T18:59:36.033Z"
   },
   {
    "duration": 6,
    "start_time": "2021-08-21T18:59:38.774Z"
   },
   {
    "duration": 17,
    "start_time": "2021-08-21T18:59:41.243Z"
   },
   {
    "duration": 7,
    "start_time": "2021-08-21T18:59:44.341Z"
   },
   {
    "duration": 43,
    "start_time": "2021-08-21T18:59:46.934Z"
   },
   {
    "duration": 6,
    "start_time": "2021-08-21T18:59:50.004Z"
   },
   {
    "duration": 14,
    "start_time": "2021-08-21T18:59:53.053Z"
   },
   {
    "duration": 4138,
    "start_time": "2021-08-21T18:59:55.805Z"
   },
   {
    "duration": -901,
    "start_time": "2021-08-21T19:00:00.846Z"
   },
   {
    "duration": 28,
    "start_time": "2021-08-21T19:00:01.335Z"
   },
   {
    "duration": 8,
    "start_time": "2021-08-21T19:00:03.252Z"
   },
   {
    "duration": 13,
    "start_time": "2021-08-21T19:00:05.126Z"
   },
   {
    "duration": 8,
    "start_time": "2021-08-21T19:00:07.711Z"
   },
   {
    "duration": 16,
    "start_time": "2021-08-21T19:00:09.850Z"
   },
   {
    "duration": 24,
    "start_time": "2021-08-21T19:00:12.468Z"
   },
   {
    "duration": 15,
    "start_time": "2021-08-21T19:00:17.527Z"
   },
   {
    "duration": 19,
    "start_time": "2021-08-21T19:01:47.835Z"
   },
   {
    "duration": 18,
    "start_time": "2021-08-21T19:01:50.608Z"
   },
   {
    "duration": 19,
    "start_time": "2021-08-21T19:01:53.082Z"
   },
   {
    "duration": 9,
    "start_time": "2021-08-21T19:01:56.189Z"
   },
   {
    "duration": 22,
    "start_time": "2021-08-21T19:02:01.308Z"
   },
   {
    "duration": 10,
    "start_time": "2021-08-21T19:02:05.408Z"
   },
   {
    "duration": 15,
    "start_time": "2021-08-21T19:02:08.530Z"
   },
   {
    "duration": 11,
    "start_time": "2021-08-21T19:02:11.369Z"
   },
   {
    "duration": 9,
    "start_time": "2021-08-21T19:02:14.083Z"
   },
   {
    "duration": 12,
    "start_time": "2021-08-21T19:02:17.411Z"
   },
   {
    "duration": 27,
    "start_time": "2021-08-21T19:02:21.623Z"
   },
   {
    "duration": 10,
    "start_time": "2021-08-21T19:02:27.380Z"
   },
   {
    "duration": 11,
    "start_time": "2021-08-21T19:02:30.272Z"
   },
   {
    "duration": 12,
    "start_time": "2021-08-21T19:02:33.118Z"
   },
   {
    "duration": 8,
    "start_time": "2021-08-21T19:02:36.250Z"
   },
   {
    "duration": 17,
    "start_time": "2021-08-21T19:02:39.095Z"
   },
   {
    "duration": 25,
    "start_time": "2021-08-21T19:02:42.374Z"
   },
   {
    "duration": 38,
    "start_time": "2021-08-21T19:02:46.633Z"
   },
   {
    "duration": 9,
    "start_time": "2021-08-21T19:02:49.693Z"
   },
   {
    "duration": 24,
    "start_time": "2021-08-21T19:02:53.222Z"
   },
   {
    "duration": 8,
    "start_time": "2021-08-21T19:02:56.967Z"
   },
   {
    "duration": 35,
    "start_time": "2021-08-21T19:03:00.679Z"
   },
   {
    "duration": 309,
    "start_time": "2021-08-21T19:03:03.759Z"
   },
   {
    "duration": 307,
    "start_time": "2021-08-21T19:03:06.851Z"
   },
   {
    "duration": 13,
    "start_time": "2021-08-21T19:03:09.913Z"
   },
   {
    "duration": 314,
    "start_time": "2021-08-21T19:03:13.017Z"
   },
   {
    "duration": 23,
    "start_time": "2021-08-21T19:03:15.950Z"
   },
   {
    "duration": 241,
    "start_time": "2021-08-21T19:03:19.338Z"
   },
   {
    "duration": 31,
    "start_time": "2021-08-21T19:03:25.943Z"
   },
   {
    "duration": 34,
    "start_time": "2021-08-21T19:03:29.307Z"
   },
   {
    "duration": 12,
    "start_time": "2021-08-21T19:03:33.114Z"
   },
   {
    "duration": 6,
    "start_time": "2021-08-21T19:03:38.903Z"
   },
   {
    "duration": 23,
    "start_time": "2021-08-21T19:03:43.106Z"
   },
   {
    "duration": 9,
    "start_time": "2021-08-21T19:03:47.376Z"
   },
   {
    "duration": 22,
    "start_time": "2021-08-21T19:03:50.771Z"
   },
   {
    "duration": 19,
    "start_time": "2021-08-21T19:03:54.671Z"
   },
   {
    "duration": 89,
    "start_time": "2021-08-21T19:03:58.217Z"
   },
   {
    "duration": 38,
    "start_time": "2021-08-21T19:04:01.688Z"
   },
   {
    "duration": 32,
    "start_time": "2021-08-21T19:04:04.366Z"
   },
   {
    "duration": 1329,
    "start_time": "2021-08-21T19:04:07.164Z"
   },
   {
    "duration": 278,
    "start_time": "2021-08-21T19:04:13.255Z"
   },
   {
    "duration": 48,
    "start_time": "2021-08-21T19:04:27.499Z"
   },
   {
    "duration": 24,
    "start_time": "2021-08-21T19:05:00.164Z"
   },
   {
    "duration": 14,
    "start_time": "2021-08-21T19:05:03.581Z"
   },
   {
    "duration": 10,
    "start_time": "2021-08-21T19:05:06.776Z"
   },
   {
    "duration": 11,
    "start_time": "2021-08-21T19:05:12.762Z"
   },
   {
    "duration": 53,
    "start_time": "2021-08-21T19:05:15.206Z"
   },
   {
    "duration": 6930,
    "start_time": "2021-08-21T19:05:19.545Z"
   },
   {
    "duration": 286,
    "start_time": "2021-08-21T19:05:45.574Z"
   },
   {
    "duration": 274,
    "start_time": "2021-08-21T19:06:03.788Z"
   },
   {
    "duration": 288,
    "start_time": "2021-08-21T19:06:15.688Z"
   },
   {
    "duration": 259,
    "start_time": "2021-08-21T19:06:38.261Z"
   },
   {
    "duration": 268,
    "start_time": "2021-08-21T19:07:11.949Z"
   },
   {
    "duration": 281,
    "start_time": "2021-08-21T19:07:42.201Z"
   },
   {
    "duration": 255,
    "start_time": "2021-08-21T19:08:16.788Z"
   },
   {
    "duration": 259,
    "start_time": "2021-08-21T19:08:38.435Z"
   },
   {
    "duration": 246,
    "start_time": "2021-08-21T19:09:07.117Z"
   },
   {
    "duration": 7,
    "start_time": "2021-08-21T19:09:36.266Z"
   },
   {
    "duration": 49,
    "start_time": "2021-08-21T19:10:04.416Z"
   },
   {
    "duration": 1505,
    "start_time": "2021-08-21T19:10:09.732Z"
   },
   {
    "duration": 254,
    "start_time": "2021-08-21T19:10:50.738Z"
   },
   {
    "duration": 3,
    "start_time": "2021-08-21T19:11:59.884Z"
   },
   {
    "duration": 39,
    "start_time": "2021-08-21T19:12:12.970Z"
   },
   {
    "duration": 263,
    "start_time": "2021-08-21T19:12:16.692Z"
   },
   {
    "duration": 40,
    "start_time": "2021-08-21T19:13:23.219Z"
   },
   {
    "duration": 260,
    "start_time": "2021-08-21T19:13:30.763Z"
   },
   {
    "duration": 5,
    "start_time": "2021-08-21T19:15:08.788Z"
   },
   {
    "duration": 257,
    "start_time": "2021-08-21T19:15:58.538Z"
   },
   {
    "duration": 38,
    "start_time": "2021-08-21T19:16:04.093Z"
   },
   {
    "duration": 251,
    "start_time": "2021-08-21T19:16:07.096Z"
   },
   {
    "duration": 254,
    "start_time": "2021-08-21T19:16:24.143Z"
   },
   {
    "duration": 41,
    "start_time": "2021-08-21T19:16:36.194Z"
   },
   {
    "duration": 259,
    "start_time": "2021-08-21T19:16:39.728Z"
   },
   {
    "duration": 6,
    "start_time": "2021-08-21T19:16:57.656Z"
   },
   {
    "duration": 37,
    "start_time": "2021-08-21T19:17:13.137Z"
   },
   {
    "duration": 262,
    "start_time": "2021-08-21T19:17:17.005Z"
   },
   {
    "duration": 40,
    "start_time": "2021-08-21T19:17:35.022Z"
   },
   {
    "duration": 255,
    "start_time": "2021-08-21T19:17:38.473Z"
   },
   {
    "duration": 39,
    "start_time": "2021-08-21T19:18:09.591Z"
   },
   {
    "duration": 275,
    "start_time": "2021-08-21T19:18:14.521Z"
   },
   {
    "duration": 39,
    "start_time": "2021-08-21T19:18:21.448Z"
   },
   {
    "duration": 245,
    "start_time": "2021-08-21T19:18:26.229Z"
   },
   {
    "duration": 4,
    "start_time": "2021-08-21T19:18:42.305Z"
   },
   {
    "duration": 487,
    "start_time": "2021-08-21T19:18:48.097Z"
   },
   {
    "duration": 43,
    "start_time": "2021-08-21T19:18:48.587Z"
   },
   {
    "duration": 14,
    "start_time": "2021-08-21T19:18:48.632Z"
   },
   {
    "duration": 35,
    "start_time": "2021-08-21T19:18:48.649Z"
   },
   {
    "duration": 25,
    "start_time": "2021-08-21T19:18:48.686Z"
   },
   {
    "duration": 7,
    "start_time": "2021-08-21T19:18:48.714Z"
   },
   {
    "duration": 41,
    "start_time": "2021-08-21T19:18:48.724Z"
   },
   {
    "duration": 12,
    "start_time": "2021-08-21T19:18:48.783Z"
   },
   {
    "duration": 20,
    "start_time": "2021-08-21T19:18:48.799Z"
   },
   {
    "duration": 15,
    "start_time": "2021-08-21T19:18:48.822Z"
   },
   {
    "duration": 43,
    "start_time": "2021-08-21T19:18:48.839Z"
   },
   {
    "duration": 14,
    "start_time": "2021-08-21T19:18:48.884Z"
   },
   {
    "duration": 15,
    "start_time": "2021-08-21T19:18:48.901Z"
   },
   {
    "duration": 6,
    "start_time": "2021-08-21T19:18:48.918Z"
   },
   {
    "duration": 57,
    "start_time": "2021-08-21T19:18:48.926Z"
   },
   {
    "duration": 5,
    "start_time": "2021-08-21T19:18:48.985Z"
   },
   {
    "duration": 36,
    "start_time": "2021-08-21T19:18:48.993Z"
   },
   {
    "duration": 4,
    "start_time": "2021-08-21T19:18:49.031Z"
   },
   {
    "duration": 10,
    "start_time": "2021-08-21T19:18:49.037Z"
   },
   {
    "duration": 38,
    "start_time": "2021-08-21T19:18:49.049Z"
   },
   {
    "duration": 42,
    "start_time": "2021-08-21T19:18:49.089Z"
   },
   {
    "duration": 20,
    "start_time": "2021-08-21T19:18:49.133Z"
   },
   {
    "duration": 25,
    "start_time": "2021-08-21T19:18:49.183Z"
   },
   {
    "duration": 7,
    "start_time": "2021-08-21T19:18:49.210Z"
   },
   {
    "duration": 12,
    "start_time": "2021-08-21T19:18:49.219Z"
   },
   {
    "duration": 7,
    "start_time": "2021-08-21T19:18:49.233Z"
   },
   {
    "duration": 17,
    "start_time": "2021-08-21T19:18:49.286Z"
   },
   {
    "duration": 19,
    "start_time": "2021-08-21T19:18:49.307Z"
   },
   {
    "duration": 19,
    "start_time": "2021-08-21T19:18:49.328Z"
   },
   {
    "duration": 46,
    "start_time": "2021-08-21T19:18:49.350Z"
   },
   {
    "duration": 18,
    "start_time": "2021-08-21T19:18:49.398Z"
   },
   {
    "duration": 15,
    "start_time": "2021-08-21T19:18:49.419Z"
   },
   {
    "duration": 57,
    "start_time": "2021-08-21T19:18:49.436Z"
   },
   {
    "duration": 9,
    "start_time": "2021-08-21T19:18:49.496Z"
   },
   {
    "duration": 20,
    "start_time": "2021-08-21T19:18:49.507Z"
   },
   {
    "duration": 54,
    "start_time": "2021-08-21T19:18:49.529Z"
   },
   {
    "duration": 10,
    "start_time": "2021-08-21T19:18:49.585Z"
   },
   {
    "duration": 16,
    "start_time": "2021-08-21T19:18:49.597Z"
   },
   {
    "duration": 15,
    "start_time": "2021-08-21T19:18:49.615Z"
   },
   {
    "duration": 8,
    "start_time": "2021-08-21T19:18:49.632Z"
   },
   {
    "duration": 12,
    "start_time": "2021-08-21T19:18:49.683Z"
   },
   {
    "duration": 27,
    "start_time": "2021-08-21T19:18:49.698Z"
   },
   {
    "duration": 15,
    "start_time": "2021-08-21T19:18:49.727Z"
   },
   {
    "duration": 40,
    "start_time": "2021-08-21T19:18:49.744Z"
   },
   {
    "duration": 11,
    "start_time": "2021-08-21T19:18:49.786Z"
   },
   {
    "duration": 8,
    "start_time": "2021-08-21T19:18:49.799Z"
   },
   {
    "duration": 15,
    "start_time": "2021-08-21T19:18:49.809Z"
   },
   {
    "duration": 60,
    "start_time": "2021-08-21T19:18:49.826Z"
   },
   {
    "duration": 38,
    "start_time": "2021-08-21T19:18:49.888Z"
   },
   {
    "duration": 8,
    "start_time": "2021-08-21T19:18:49.928Z"
   },
   {
    "duration": 56,
    "start_time": "2021-08-21T19:18:49.938Z"
   },
   {
    "duration": 10,
    "start_time": "2021-08-21T19:18:49.996Z"
   },
   {
    "duration": 39,
    "start_time": "2021-08-21T19:18:50.008Z"
   },
   {
    "duration": 328,
    "start_time": "2021-08-21T19:18:50.049Z"
   },
   {
    "duration": 639,
    "start_time": "2021-08-21T19:18:50.379Z"
   },
   {
    "duration": 14,
    "start_time": "2021-08-21T19:18:51.022Z"
   },
   {
    "duration": 340,
    "start_time": "2021-08-21T19:18:51.039Z"
   },
   {
    "duration": 24,
    "start_time": "2021-08-21T19:18:51.382Z"
   },
   {
    "duration": 301,
    "start_time": "2021-08-21T19:18:51.410Z"
   },
   {
    "duration": -1534,
    "start_time": "2021-08-21T19:18:53.248Z"
   },
   {
    "duration": -1538,
    "start_time": "2021-08-21T19:18:53.254Z"
   },
   {
    "duration": -1542,
    "start_time": "2021-08-21T19:18:53.259Z"
   },
   {
    "duration": -1546,
    "start_time": "2021-08-21T19:18:53.264Z"
   },
   {
    "duration": -1550,
    "start_time": "2021-08-21T19:18:53.270Z"
   },
   {
    "duration": -1553,
    "start_time": "2021-08-21T19:18:53.274Z"
   },
   {
    "duration": -1558,
    "start_time": "2021-08-21T19:18:53.280Z"
   },
   {
    "duration": -1561,
    "start_time": "2021-08-21T19:18:53.285Z"
   },
   {
    "duration": -1565,
    "start_time": "2021-08-21T19:18:53.290Z"
   },
   {
    "duration": -1569,
    "start_time": "2021-08-21T19:18:53.295Z"
   },
   {
    "duration": -1573,
    "start_time": "2021-08-21T19:18:53.300Z"
   },
   {
    "duration": -1575,
    "start_time": "2021-08-21T19:18:53.304Z"
   },
   {
    "duration": -1580,
    "start_time": "2021-08-21T19:18:53.310Z"
   },
   {
    "duration": -1583,
    "start_time": "2021-08-21T19:18:53.314Z"
   },
   {
    "duration": -1587,
    "start_time": "2021-08-21T19:18:53.320Z"
   },
   {
    "duration": -1591,
    "start_time": "2021-08-21T19:18:53.325Z"
   },
   {
    "duration": -1595,
    "start_time": "2021-08-21T19:18:53.330Z"
   },
   {
    "duration": -1640,
    "start_time": "2021-08-21T19:18:53.376Z"
   },
   {
    "duration": -1647,
    "start_time": "2021-08-21T19:18:53.385Z"
   },
   {
    "duration": -1651,
    "start_time": "2021-08-21T19:18:53.390Z"
   },
   {
    "duration": -1655,
    "start_time": "2021-08-21T19:18:53.396Z"
   },
   {
    "duration": -1660,
    "start_time": "2021-08-21T19:18:53.402Z"
   },
   {
    "duration": -1664,
    "start_time": "2021-08-21T19:18:53.407Z"
   },
   {
    "duration": -1667,
    "start_time": "2021-08-21T19:18:53.412Z"
   },
   {
    "duration": -1672,
    "start_time": "2021-08-21T19:18:53.418Z"
   },
   {
    "duration": -1675,
    "start_time": "2021-08-21T19:18:53.422Z"
   },
   {
    "duration": -1678,
    "start_time": "2021-08-21T19:18:53.427Z"
   },
   {
    "duration": -1682,
    "start_time": "2021-08-21T19:18:53.432Z"
   },
   {
    "duration": -1686,
    "start_time": "2021-08-21T19:18:53.438Z"
   },
   {
    "duration": -1659,
    "start_time": "2021-08-21T19:18:53.443Z"
   },
   {
    "duration": -1662,
    "start_time": "2021-08-21T19:18:53.448Z"
   },
   {
    "duration": -1666,
    "start_time": "2021-08-21T19:18:53.453Z"
   },
   {
    "duration": -1669,
    "start_time": "2021-08-21T19:18:53.458Z"
   },
   {
    "duration": -1673,
    "start_time": "2021-08-21T19:18:53.463Z"
   },
   {
    "duration": -1677,
    "start_time": "2021-08-21T19:18:53.469Z"
   },
   {
    "duration": -1692,
    "start_time": "2021-08-21T19:18:53.485Z"
   },
   {
    "duration": -1696,
    "start_time": "2021-08-21T19:18:53.491Z"
   },
   {
    "duration": 53,
    "start_time": "2021-08-21T19:20:54.497Z"
   },
   {
    "duration": 33,
    "start_time": "2021-08-21T19:21:03.650Z"
   },
   {
    "duration": 253,
    "start_time": "2021-08-21T19:21:07.383Z"
   },
   {
    "duration": 9836,
    "start_time": "2021-08-21T19:22:50.377Z"
   },
   {
    "duration": 274,
    "start_time": "2021-08-21T19:24:56.839Z"
   },
   {
    "duration": 761,
    "start_time": "2021-08-21T19:25:54.522Z"
   },
   {
    "duration": 10,
    "start_time": "2021-08-21T19:26:34.090Z"
   },
   {
    "duration": 9,
    "start_time": "2021-08-21T19:27:19.042Z"
   },
   {
    "duration": 1177,
    "start_time": "2021-08-21T19:40:02.436Z"
   },
   {
    "duration": 17,
    "start_time": "2021-08-21T19:40:34.377Z"
   },
   {
    "duration": 18,
    "start_time": "2021-08-21T19:41:36.117Z"
   },
   {
    "duration": 643,
    "start_time": "2021-08-21T19:42:17.133Z"
   },
   {
    "duration": 10,
    "start_time": "2021-08-21T19:43:16.872Z"
   },
   {
    "duration": 676,
    "start_time": "2021-08-21T19:44:02.990Z"
   },
   {
    "duration": 11,
    "start_time": "2021-08-21T19:44:23.079Z"
   },
   {
    "duration": 13,
    "start_time": "2021-08-21T19:45:56.026Z"
   },
   {
    "duration": 8,
    "start_time": "2021-08-21T19:46:27.903Z"
   },
   {
    "duration": 290,
    "start_time": "2021-08-21T19:46:41.028Z"
   },
   {
    "duration": 286,
    "start_time": "2021-08-21T19:48:21.046Z"
   },
   {
    "duration": 9,
    "start_time": "2021-08-21T19:50:26.874Z"
   },
   {
    "duration": 294,
    "start_time": "2021-08-21T19:50:54.766Z"
   },
   {
    "duration": 247,
    "start_time": "2021-08-21T19:55:52.341Z"
   },
   {
    "duration": 11,
    "start_time": "2021-08-21T19:59:48.460Z"
   },
   {
    "duration": 10,
    "start_time": "2021-08-21T20:00:52.305Z"
   },
   {
    "duration": 1209,
    "start_time": "2021-08-21T20:01:37.292Z"
   },
   {
    "duration": 1155,
    "start_time": "2021-08-21T20:01:55.307Z"
   },
   {
    "duration": 30,
    "start_time": "2021-08-21T20:03:15.819Z"
   },
   {
    "duration": 261,
    "start_time": "2021-08-21T20:03:19.334Z"
   },
   {
    "duration": 30,
    "start_time": "2021-08-21T20:03:27.910Z"
   },
   {
    "duration": 279,
    "start_time": "2021-08-21T20:03:33.465Z"
   },
   {
    "duration": 319,
    "start_time": "2021-08-21T20:03:56.732Z"
   },
   {
    "duration": 91,
    "start_time": "2021-08-21T20:11:39.883Z"
   },
   {
    "duration": 3360,
    "start_time": "2021-08-21T20:12:02.959Z"
   },
   {
    "duration": 4486,
    "start_time": "2021-08-21T20:12:56.335Z"
   },
   {
    "duration": 307,
    "start_time": "2021-08-21T20:13:49.529Z"
   },
   {
    "duration": 305,
    "start_time": "2021-08-21T20:14:05.150Z"
   },
   {
    "duration": 81,
    "start_time": "2021-08-21T20:14:52.164Z"
   },
   {
    "duration": 86,
    "start_time": "2021-08-21T20:15:11.906Z"
   },
   {
    "duration": 242,
    "start_time": "2021-08-21T20:15:42.212Z"
   },
   {
    "duration": 885,
    "start_time": "2021-08-21T20:15:58.990Z"
   },
   {
    "duration": 892,
    "start_time": "2021-08-21T20:16:18.951Z"
   },
   {
    "duration": 1470,
    "start_time": "2021-08-21T20:18:49.384Z"
   },
   {
    "duration": 795,
    "start_time": "2021-08-21T20:20:18.576Z"
   },
   {
    "duration": 815,
    "start_time": "2021-08-21T20:20:49.399Z"
   },
   {
    "duration": 1177,
    "start_time": "2021-08-21T20:22:15.565Z"
   },
   {
    "duration": 1306,
    "start_time": "2021-08-21T20:22:29.825Z"
   },
   {
    "duration": 20,
    "start_time": "2021-08-21T20:23:22.322Z"
   },
   {
    "duration": 31,
    "start_time": "2021-08-21T20:24:50.802Z"
   },
   {
    "duration": 862,
    "start_time": "2021-08-21T20:25:07.243Z"
   },
   {
    "duration": 954,
    "start_time": "2021-08-21T20:25:50.922Z"
   },
   {
    "duration": 928,
    "start_time": "2021-08-21T20:26:06.654Z"
   },
   {
    "duration": 872,
    "start_time": "2021-08-21T20:26:24.583Z"
   },
   {
    "duration": 920,
    "start_time": "2021-08-21T20:26:37.720Z"
   },
   {
    "duration": 886,
    "start_time": "2021-08-21T20:27:19.264Z"
   },
   {
    "duration": 946,
    "start_time": "2021-08-21T20:27:41.774Z"
   },
   {
    "duration": 10,
    "start_time": "2021-08-21T20:28:37.103Z"
   },
   {
    "duration": 1724,
    "start_time": "2021-08-22T05:52:06.975Z"
   },
   {
    "duration": 8,
    "start_time": "2021-08-22T05:55:32.937Z"
   },
   {
    "duration": 19,
    "start_time": "2021-08-22T05:55:52.015Z"
   },
   {
    "duration": 89,
    "start_time": "2021-08-22T06:13:17.434Z"
   },
   {
    "duration": 87,
    "start_time": "2021-08-22T06:13:41.986Z"
   },
   {
    "duration": 86,
    "start_time": "2021-08-22T06:14:49.893Z"
   },
   {
    "duration": 203,
    "start_time": "2021-08-22T06:14:58.727Z"
   },
   {
    "duration": 112,
    "start_time": "2021-08-22T06:14:58.933Z"
   },
   {
    "duration": -2155,
    "start_time": "2021-08-22T06:15:01.205Z"
   },
   {
    "duration": -2161,
    "start_time": "2021-08-22T06:15:01.212Z"
   },
   {
    "duration": -2168,
    "start_time": "2021-08-22T06:15:01.221Z"
   },
   {
    "duration": -2173,
    "start_time": "2021-08-22T06:15:01.227Z"
   },
   {
    "duration": -2178,
    "start_time": "2021-08-22T06:15:01.233Z"
   },
   {
    "duration": -2182,
    "start_time": "2021-08-22T06:15:01.238Z"
   },
   {
    "duration": -2185,
    "start_time": "2021-08-22T06:15:01.243Z"
   },
   {
    "duration": -2189,
    "start_time": "2021-08-22T06:15:01.248Z"
   },
   {
    "duration": -2193,
    "start_time": "2021-08-22T06:15:01.253Z"
   },
   {
    "duration": -2196,
    "start_time": "2021-08-22T06:15:01.257Z"
   },
   {
    "duration": -2199,
    "start_time": "2021-08-22T06:15:01.262Z"
   },
   {
    "duration": -2206,
    "start_time": "2021-08-22T06:15:01.271Z"
   },
   {
    "duration": -2210,
    "start_time": "2021-08-22T06:15:01.276Z"
   },
   {
    "duration": -2246,
    "start_time": "2021-08-22T06:15:01.314Z"
   },
   {
    "duration": -2251,
    "start_time": "2021-08-22T06:15:01.320Z"
   },
   {
    "duration": -2254,
    "start_time": "2021-08-22T06:15:01.324Z"
   },
   {
    "duration": -2258,
    "start_time": "2021-08-22T06:15:01.329Z"
   },
   {
    "duration": -2262,
    "start_time": "2021-08-22T06:15:01.335Z"
   },
   {
    "duration": -2266,
    "start_time": "2021-08-22T06:15:01.340Z"
   },
   {
    "duration": -2269,
    "start_time": "2021-08-22T06:15:01.344Z"
   },
   {
    "duration": -2273,
    "start_time": "2021-08-22T06:15:01.349Z"
   },
   {
    "duration": -2277,
    "start_time": "2021-08-22T06:15:01.355Z"
   },
   {
    "duration": -2281,
    "start_time": "2021-08-22T06:15:01.360Z"
   },
   {
    "duration": -2284,
    "start_time": "2021-08-22T06:15:01.364Z"
   },
   {
    "duration": -2288,
    "start_time": "2021-08-22T06:15:01.369Z"
   },
   {
    "duration": -2290,
    "start_time": "2021-08-22T06:15:01.373Z"
   },
   {
    "duration": -2294,
    "start_time": "2021-08-22T06:15:01.378Z"
   },
   {
    "duration": -2297,
    "start_time": "2021-08-22T06:15:01.382Z"
   },
   {
    "duration": -2300,
    "start_time": "2021-08-22T06:15:01.387Z"
   },
   {
    "duration": -2303,
    "start_time": "2021-08-22T06:15:01.391Z"
   },
   {
    "duration": -2306,
    "start_time": "2021-08-22T06:15:01.395Z"
   },
   {
    "duration": -2311,
    "start_time": "2021-08-22T06:15:01.401Z"
   },
   {
    "duration": -2313,
    "start_time": "2021-08-22T06:15:01.405Z"
   },
   {
    "duration": -2318,
    "start_time": "2021-08-22T06:15:01.411Z"
   },
   {
    "duration": -2332,
    "start_time": "2021-08-22T06:15:01.426Z"
   },
   {
    "duration": -2337,
    "start_time": "2021-08-22T06:15:01.432Z"
   },
   {
    "duration": -2342,
    "start_time": "2021-08-22T06:15:01.438Z"
   },
   {
    "duration": -2346,
    "start_time": "2021-08-22T06:15:01.444Z"
   },
   {
    "duration": -2295,
    "start_time": "2021-08-22T06:15:01.450Z"
   },
   {
    "duration": -2299,
    "start_time": "2021-08-22T06:15:01.455Z"
   },
   {
    "duration": -2302,
    "start_time": "2021-08-22T06:15:01.460Z"
   },
   {
    "duration": -2307,
    "start_time": "2021-08-22T06:15:01.466Z"
   },
   {
    "duration": -2313,
    "start_time": "2021-08-22T06:15:01.473Z"
   },
   {
    "duration": -2315,
    "start_time": "2021-08-22T06:15:01.477Z"
   },
   {
    "duration": -2319,
    "start_time": "2021-08-22T06:15:01.482Z"
   },
   {
    "duration": -2323,
    "start_time": "2021-08-22T06:15:01.487Z"
   },
   {
    "duration": -2325,
    "start_time": "2021-08-22T06:15:01.491Z"
   },
   {
    "duration": -2329,
    "start_time": "2021-08-22T06:15:01.496Z"
   },
   {
    "duration": -2333,
    "start_time": "2021-08-22T06:15:01.501Z"
   },
   {
    "duration": -2332,
    "start_time": "2021-08-22T06:15:01.508Z"
   },
   {
    "duration": 503,
    "start_time": "2021-08-22T06:14:59.178Z"
   },
   {
    "duration": -3432,
    "start_time": "2021-08-22T06:15:03.117Z"
   },
   {
    "duration": -3439,
    "start_time": "2021-08-22T06:15:03.126Z"
   },
   {
    "duration": -3519,
    "start_time": "2021-08-22T06:15:03.208Z"
   },
   {
    "duration": -3522,
    "start_time": "2021-08-22T06:15:03.213Z"
   },
   {
    "duration": -3529,
    "start_time": "2021-08-22T06:15:03.222Z"
   },
   {
    "duration": -3533,
    "start_time": "2021-08-22T06:15:03.229Z"
   },
   {
    "duration": -3540,
    "start_time": "2021-08-22T06:15:03.238Z"
   },
   {
    "duration": -3545,
    "start_time": "2021-08-22T06:15:03.245Z"
   },
   {
    "duration": -3552,
    "start_time": "2021-08-22T06:15:03.254Z"
   },
   {
    "duration": -3556,
    "start_time": "2021-08-22T06:15:03.261Z"
   },
   {
    "duration": -3562,
    "start_time": "2021-08-22T06:15:03.269Z"
   },
   {
    "duration": -3567,
    "start_time": "2021-08-22T06:15:03.276Z"
   },
   {
    "duration": -3573,
    "start_time": "2021-08-22T06:15:03.284Z"
   },
   {
    "duration": -3577,
    "start_time": "2021-08-22T06:15:03.291Z"
   },
   {
    "duration": -3582,
    "start_time": "2021-08-22T06:15:03.298Z"
   },
   {
    "duration": -3587,
    "start_time": "2021-08-22T06:15:03.305Z"
   },
   {
    "duration": -3601,
    "start_time": "2021-08-22T06:15:03.321Z"
   },
   {
    "duration": -3575,
    "start_time": "2021-08-22T06:15:03.328Z"
   },
   {
    "duration": -3580,
    "start_time": "2021-08-22T06:15:03.336Z"
   },
   {
    "duration": -3585,
    "start_time": "2021-08-22T06:15:03.343Z"
   },
   {
    "duration": -3591,
    "start_time": "2021-08-22T06:15:03.352Z"
   },
   {
    "duration": -3602,
    "start_time": "2021-08-22T06:15:03.365Z"
   },
   {
    "duration": -3606,
    "start_time": "2021-08-22T06:15:03.371Z"
   },
   {
    "duration": -3609,
    "start_time": "2021-08-22T06:15:03.376Z"
   },
   {
    "duration": -3612,
    "start_time": "2021-08-22T06:15:03.382Z"
   },
   {
    "duration": -3615,
    "start_time": "2021-08-22T06:15:03.387Z"
   },
   {
    "duration": -3619,
    "start_time": "2021-08-22T06:15:03.393Z"
   },
   {
    "duration": -3624,
    "start_time": "2021-08-22T06:15:03.400Z"
   },
   {
    "duration": -3631,
    "start_time": "2021-08-22T06:15:03.410Z"
   },
   {
    "duration": -3637,
    "start_time": "2021-08-22T06:15:03.418Z"
   },
   {
    "duration": -3651,
    "start_time": "2021-08-22T06:15:03.434Z"
   },
   {
    "duration": -3653,
    "start_time": "2021-08-22T06:15:03.438Z"
   },
   {
    "duration": -3659,
    "start_time": "2021-08-22T06:15:03.447Z"
   },
   {
    "duration": -3664,
    "start_time": "2021-08-22T06:15:03.454Z"
   },
   {
    "duration": -3667,
    "start_time": "2021-08-22T06:15:03.459Z"
   },
   {
    "duration": -3611,
    "start_time": "2021-08-22T06:15:03.464Z"
   },
   {
    "duration": -3614,
    "start_time": "2021-08-22T06:15:03.470Z"
   },
   {
    "duration": -3618,
    "start_time": "2021-08-22T06:15:03.476Z"
   },
   {
    "duration": -3622,
    "start_time": "2021-08-22T06:15:03.482Z"
   },
   {
    "duration": -3625,
    "start_time": "2021-08-22T06:15:03.487Z"
   },
   {
    "duration": -3627,
    "start_time": "2021-08-22T06:15:03.492Z"
   },
   {
    "duration": -3630,
    "start_time": "2021-08-22T06:15:03.497Z"
   },
   {
    "duration": -3635,
    "start_time": "2021-08-22T06:15:03.504Z"
   },
   {
    "duration": -3637,
    "start_time": "2021-08-22T06:15:03.508Z"
   },
   {
    "duration": 276,
    "start_time": "2021-08-22T06:16:02.788Z"
   },
   {
    "duration": 270,
    "start_time": "2021-08-22T06:16:12.438Z"
   },
   {
    "duration": 278,
    "start_time": "2021-08-22T06:16:18.881Z"
   },
   {
    "duration": 116,
    "start_time": "2021-08-22T06:17:01.901Z"
   },
   {
    "duration": 11,
    "start_time": "2021-08-22T06:17:06.975Z"
   },
   {
    "duration": 12,
    "start_time": "2021-08-22T06:19:06.992Z"
   },
   {
    "duration": 13,
    "start_time": "2021-08-22T06:19:28.012Z"
   },
   {
    "duration": 466,
    "start_time": "2021-08-22T06:41:45.535Z"
   },
   {
    "duration": 281,
    "start_time": "2021-08-22T06:41:52.516Z"
   },
   {
    "duration": 59,
    "start_time": "2021-08-22T06:41:56.881Z"
   },
   {
    "duration": 282,
    "start_time": "2021-08-22T06:42:06.471Z"
   },
   {
    "duration": 186,
    "start_time": "2021-08-22T06:42:13.398Z"
   },
   {
    "duration": 59,
    "start_time": "2021-08-22T06:42:16.429Z"
   },
   {
    "duration": 14,
    "start_time": "2021-08-22T06:42:19.718Z"
   },
   {
    "duration": 15,
    "start_time": "2021-08-22T06:42:22.742Z"
   },
   {
    "duration": 6685,
    "start_time": "2021-08-22T06:42:25.529Z"
   },
   {
    "duration": 23,
    "start_time": "2021-08-22T06:42:53.822Z"
   },
   {
    "duration": 18,
    "start_time": "2021-08-22T06:43:16.330Z"
   },
   {
    "duration": 10,
    "start_time": "2021-08-22T06:43:20.186Z"
   },
   {
    "duration": 38,
    "start_time": "2021-08-22T06:43:28.327Z"
   },
   {
    "duration": 39,
    "start_time": "2021-08-22T06:43:39.124Z"
   },
   {
    "duration": 17,
    "start_time": "2021-08-22T06:43:47.521Z"
   },
   {
    "duration": 7,
    "start_time": "2021-08-22T06:43:51.853Z"
   },
   {
    "duration": 17,
    "start_time": "2021-08-22T06:43:57.862Z"
   },
   {
    "duration": 7,
    "start_time": "2021-08-22T06:44:07.902Z"
   },
   {
    "duration": 640,
    "start_time": "2021-08-22T06:44:17.957Z"
   },
   {
    "duration": 5,
    "start_time": "2021-08-22T06:44:26.874Z"
   },
   {
    "duration": 6562,
    "start_time": "2021-08-22T06:44:31.258Z"
   },
   {
    "duration": -1988,
    "start_time": "2021-08-22T06:44:39.810Z"
   },
   {
    "duration": 5,
    "start_time": "2021-08-22T06:44:43.740Z"
   },
   {
    "duration": 16,
    "start_time": "2021-08-22T06:45:29.496Z"
   },
   {
    "duration": 54,
    "start_time": "2021-08-22T06:45:46.513Z"
   },
   {
    "duration": 25,
    "start_time": "2021-08-22T06:50:38.004Z"
   },
   {
    "duration": 14,
    "start_time": "2021-08-22T06:52:15.935Z"
   },
   {
    "duration": 21,
    "start_time": "2021-08-22T06:55:39.989Z"
   },
   {
    "duration": 6597,
    "start_time": "2021-08-22T06:57:34.078Z"
   },
   {
    "duration": 6872,
    "start_time": "2021-08-22T07:00:51.988Z"
   },
   {
    "duration": 24,
    "start_time": "2021-08-22T07:30:29.725Z"
   },
   {
    "duration": 441,
    "start_time": "2021-08-22T07:36:28.963Z"
   },
   {
    "duration": 4920,
    "start_time": "2021-08-22T07:36:37.762Z"
   },
   {
    "duration": 4352,
    "start_time": "2021-08-22T07:36:44.512Z"
   },
   {
    "duration": 4569,
    "start_time": "2021-08-22T07:37:48.812Z"
   },
   {
    "duration": 22,
    "start_time": "2021-08-22T07:46:33.808Z"
   },
   {
    "duration": 30,
    "start_time": "2021-08-22T07:49:21.617Z"
   },
   {
    "duration": 8,
    "start_time": "2021-08-22T07:49:24.926Z"
   },
   {
    "duration": 98,
    "start_time": "2021-08-22T09:26:55.686Z"
   },
   {
    "duration": 17,
    "start_time": "2021-08-22T09:30:50.866Z"
   },
   {
    "duration": 16,
    "start_time": "2021-08-22T09:32:14.601Z"
   },
   {
    "duration": 10,
    "start_time": "2021-08-22T09:32:47.080Z"
   },
   {
    "duration": 11,
    "start_time": "2021-08-22T09:35:06.073Z"
   },
   {
    "duration": 89,
    "start_time": "2021-08-22T09:37:23.245Z"
   },
   {
    "duration": 9,
    "start_time": "2021-08-22T09:37:49.737Z"
   },
   {
    "duration": 14,
    "start_time": "2021-08-22T09:39:17.079Z"
   },
   {
    "duration": 9,
    "start_time": "2021-08-22T09:39:52.704Z"
   },
   {
    "duration": 12,
    "start_time": "2021-08-22T09:40:14.977Z"
   },
   {
    "duration": 18,
    "start_time": "2021-08-22T09:40:25.422Z"
   },
   {
    "duration": 20,
    "start_time": "2021-08-22T09:40:28.792Z"
   },
   {
    "duration": 20,
    "start_time": "2021-08-22T09:40:31.828Z"
   },
   {
    "duration": 22,
    "start_time": "2021-08-22T09:46:34.019Z"
   },
   {
    "duration": 33,
    "start_time": "2021-08-22T09:46:36.761Z"
   },
   {
    "duration": 31,
    "start_time": "2021-08-22T09:46:41.496Z"
   },
   {
    "duration": 21,
    "start_time": "2021-08-22T09:46:44.350Z"
   },
   {
    "duration": 22,
    "start_time": "2021-08-22T09:46:48.116Z"
   },
   {
    "duration": 27,
    "start_time": "2021-08-22T09:47:27.197Z"
   },
   {
    "duration": 16,
    "start_time": "2021-08-22T09:47:34.456Z"
   },
   {
    "duration": 13,
    "start_time": "2021-08-22T09:47:39.648Z"
   },
   {
    "duration": 11,
    "start_time": "2021-08-22T09:47:43.214Z"
   },
   {
    "duration": 106,
    "start_time": "2021-08-22T09:49:22.539Z"
   },
   {
    "duration": 17,
    "start_time": "2021-08-22T09:50:58.152Z"
   },
   {
    "duration": 6505,
    "start_time": "2021-08-22T09:52:25.578Z"
   },
   {
    "duration": 14,
    "start_time": "2021-08-22T09:52:42.416Z"
   },
   {
    "duration": 10,
    "start_time": "2021-08-22T09:52:50.070Z"
   },
   {
    "duration": 277,
    "start_time": "2021-08-22T09:53:43.159Z"
   },
   {
    "duration": 19,
    "start_time": "2021-08-22T09:53:49.712Z"
   },
   {
    "duration": 10,
    "start_time": "2021-08-22T09:54:42.424Z"
   },
   {
    "duration": 6,
    "start_time": "2021-08-22T09:57:10.407Z"
   },
   {
    "duration": 29,
    "start_time": "2021-08-22T09:59:25.150Z"
   },
   {
    "duration": 26,
    "start_time": "2021-08-22T10:00:25.372Z"
   },
   {
    "duration": 17,
    "start_time": "2021-08-22T10:07:39.287Z"
   },
   {
    "duration": 38,
    "start_time": "2021-08-22T10:10:20.899Z"
   },
   {
    "duration": 62,
    "start_time": "2021-08-22T10:10:24.014Z"
   },
   {
    "duration": 60,
    "start_time": "2021-08-22T10:10:35.040Z"
   },
   {
    "duration": 37,
    "start_time": "2021-08-22T10:11:14.875Z"
   },
   {
    "duration": 8,
    "start_time": "2021-08-22T10:34:56.351Z"
   },
   {
    "duration": 100,
    "start_time": "2021-08-22T10:35:02.276Z"
   },
   {
    "duration": 9,
    "start_time": "2021-08-22T10:36:29.882Z"
   },
   {
    "duration": 8,
    "start_time": "2021-08-22T10:37:58.209Z"
   },
   {
    "duration": 12,
    "start_time": "2021-08-22T10:41:37.662Z"
   },
   {
    "duration": 355,
    "start_time": "2021-08-22T10:42:53.113Z"
   },
   {
    "duration": 10,
    "start_time": "2021-08-22T10:43:08.505Z"
   },
   {
    "duration": 282,
    "start_time": "2021-08-22T10:43:16.055Z"
   },
   {
    "duration": 9,
    "start_time": "2021-08-22T10:43:25.778Z"
   },
   {
    "duration": 50,
    "start_time": "2021-08-22T10:43:29.288Z"
   },
   {
    "duration": 10,
    "start_time": "2021-08-22T10:43:32.698Z"
   },
   {
    "duration": 13,
    "start_time": "2021-08-22T10:43:40.282Z"
   },
   {
    "duration": 330,
    "start_time": "2021-08-22T10:43:44.041Z"
   },
   {
    "duration": 334,
    "start_time": "2021-08-22T10:43:54.680Z"
   },
   {
    "duration": 19,
    "start_time": "2021-08-22T10:44:11.182Z"
   },
   {
    "duration": 331,
    "start_time": "2021-08-22T10:44:18.748Z"
   },
   {
    "duration": 408,
    "start_time": "2021-08-22T10:45:53.672Z"
   },
   {
    "duration": 291,
    "start_time": "2021-08-22T10:46:09.949Z"
   },
   {
    "duration": 25,
    "start_time": "2021-08-22T10:46:22.691Z"
   },
   {
    "duration": 17,
    "start_time": "2021-08-22T10:46:32.097Z"
   },
   {
    "duration": 290,
    "start_time": "2021-08-22T10:46:44.962Z"
   },
   {
    "duration": 309,
    "start_time": "2021-08-22T10:47:03.701Z"
   },
   {
    "duration": 429,
    "start_time": "2021-08-22T10:47:54.526Z"
   },
   {
    "duration": 491,
    "start_time": "2021-08-22T10:53:45.739Z"
   },
   {
    "duration": 490,
    "start_time": "2021-08-22T10:58:40.797Z"
   },
   {
    "duration": 488,
    "start_time": "2021-08-22T10:58:54.030Z"
   },
   {
    "duration": 328,
    "start_time": "2021-08-22T10:59:15.479Z"
   },
   {
    "duration": 16,
    "start_time": "2021-08-22T11:01:01.845Z"
   },
   {
    "duration": 20,
    "start_time": "2021-08-22T11:01:19.671Z"
   },
   {
    "duration": 15,
    "start_time": "2021-08-22T11:01:52.264Z"
   },
   {
    "duration": 280,
    "start_time": "2021-08-22T11:03:42.640Z"
   },
   {
    "duration": 34,
    "start_time": "2021-08-22T11:04:41.951Z"
   },
   {
    "duration": 49,
    "start_time": "2021-08-22T11:05:14.422Z"
   },
   {
    "duration": 32,
    "start_time": "2021-08-22T11:06:03.526Z"
   },
   {
    "duration": 27,
    "start_time": "2021-08-22T11:06:10.383Z"
   },
   {
    "duration": 26,
    "start_time": "2021-08-22T11:06:41.687Z"
   },
   {
    "duration": 276,
    "start_time": "2021-08-22T11:06:49.597Z"
   },
   {
    "duration": 263,
    "start_time": "2021-08-22T11:06:56.498Z"
   },
   {
    "duration": 19,
    "start_time": "2021-08-22T11:07:51.120Z"
   },
   {
    "duration": 143,
    "start_time": "2021-08-22T11:07:57.456Z"
   },
   {
    "duration": 29,
    "start_time": "2021-08-22T11:08:03.904Z"
   },
   {
    "duration": 31,
    "start_time": "2021-08-22T11:08:09.688Z"
   },
   {
    "duration": 4,
    "start_time": "2021-08-22T11:08:31.766Z"
   },
   {
    "duration": 95,
    "start_time": "2021-08-22T11:08:34.749Z"
   },
   {
    "duration": 94,
    "start_time": "2021-08-22T11:15:27.980Z"
   },
   {
    "duration": 90,
    "start_time": "2021-08-22T11:15:51.199Z"
   },
   {
    "duration": 97,
    "start_time": "2021-08-22T11:16:00.086Z"
   },
   {
    "duration": 97,
    "start_time": "2021-08-22T11:21:05.497Z"
   },
   {
    "duration": 31,
    "start_time": "2021-08-22T11:24:22.504Z"
   },
   {
    "duration": 2132,
    "start_time": "2021-08-22T11:31:39.747Z"
   },
   {
    "duration": 23,
    "start_time": "2021-08-22T11:51:41.706Z"
   },
   {
    "duration": 18,
    "start_time": "2021-08-22T11:51:47.858Z"
   },
   {
    "duration": 15,
    "start_time": "2021-08-22T11:52:36.433Z"
   },
   {
    "duration": 10,
    "start_time": "2021-08-22T11:52:45.228Z"
   },
   {
    "duration": 12,
    "start_time": "2021-08-22T11:52:50.921Z"
   },
   {
    "duration": 13,
    "start_time": "2021-08-22T11:53:49.061Z"
   },
   {
    "duration": 42,
    "start_time": "2021-08-22T11:53:59.408Z"
   },
   {
    "duration": 18,
    "start_time": "2021-08-22T11:54:07.273Z"
   },
   {
    "duration": 1008,
    "start_time": "2021-08-22T11:54:14.100Z"
   },
   {
    "duration": 11,
    "start_time": "2021-08-22T11:54:18.925Z"
   },
   {
    "duration": 698,
    "start_time": "2021-08-22T11:54:22.636Z"
   },
   {
    "duration": 306,
    "start_time": "2021-08-22T11:54:35.275Z"
   },
   {
    "duration": 270,
    "start_time": "2021-08-22T11:54:41.212Z"
   },
   {
    "duration": 286,
    "start_time": "2021-08-22T11:54:56.504Z"
   },
   {
    "duration": 1974,
    "start_time": "2021-08-23T18:20:28.493Z"
   },
   {
    "duration": 119,
    "start_time": "2021-08-23T18:20:30.470Z"
   },
   {
    "duration": 14,
    "start_time": "2021-08-23T18:20:30.592Z"
   },
   {
    "duration": 17,
    "start_time": "2021-08-23T18:20:30.609Z"
   },
   {
    "duration": 22,
    "start_time": "2021-08-23T18:20:30.628Z"
   },
   {
    "duration": 53,
    "start_time": "2021-08-23T18:20:30.652Z"
   },
   {
    "duration": 7,
    "start_time": "2021-08-23T18:20:30.708Z"
   },
   {
    "duration": 44,
    "start_time": "2021-08-23T18:20:30.719Z"
   },
   {
    "duration": 42,
    "start_time": "2021-08-23T18:20:30.766Z"
   },
   {
    "duration": 6,
    "start_time": "2021-08-23T18:20:30.810Z"
   },
   {
    "duration": 20,
    "start_time": "2021-08-23T18:20:30.819Z"
   },
   {
    "duration": 13,
    "start_time": "2021-08-23T18:20:30.842Z"
   },
   {
    "duration": 933,
    "start_time": "2021-08-23T18:20:30.858Z"
   },
   {
    "duration": 5,
    "start_time": "2021-08-23T18:20:31.802Z"
   },
   {
    "duration": 14,
    "start_time": "2021-08-23T18:20:31.810Z"
   },
   {
    "duration": 35,
    "start_time": "2021-08-23T18:20:31.826Z"
   },
   {
    "duration": 13526,
    "start_time": "2021-08-23T18:20:31.863Z"
   },
   {
    "duration": -4860,
    "start_time": "2021-08-23T18:20:50.255Z"
   },
   {
    "duration": -4864,
    "start_time": "2021-08-23T18:20:50.260Z"
   },
   {
    "duration": -4868,
    "start_time": "2021-08-23T18:20:50.266Z"
   },
   {
    "duration": -4873,
    "start_time": "2021-08-23T18:20:50.272Z"
   },
   {
    "duration": -4878,
    "start_time": "2021-08-23T18:20:50.278Z"
   },
   {
    "duration": -4882,
    "start_time": "2021-08-23T18:20:50.284Z"
   },
   {
    "duration": -4889,
    "start_time": "2021-08-23T18:20:50.292Z"
   },
   {
    "duration": -4893,
    "start_time": "2021-08-23T18:20:50.298Z"
   },
   {
    "duration": -4897,
    "start_time": "2021-08-23T18:20:50.303Z"
   },
   {
    "duration": -4903,
    "start_time": "2021-08-23T18:20:50.311Z"
   },
   {
    "duration": -4906,
    "start_time": "2021-08-23T18:20:50.315Z"
   },
   {
    "duration": -4921,
    "start_time": "2021-08-23T18:20:50.331Z"
   },
   {
    "duration": -4924,
    "start_time": "2021-08-23T18:20:50.336Z"
   },
   {
    "duration": -4932,
    "start_time": "2021-08-23T18:20:50.345Z"
   },
   {
    "duration": -4938,
    "start_time": "2021-08-23T18:20:50.352Z"
   },
   {
    "duration": -4942,
    "start_time": "2021-08-23T18:20:50.358Z"
   },
   {
    "duration": -4946,
    "start_time": "2021-08-23T18:20:50.363Z"
   },
   {
    "duration": -4951,
    "start_time": "2021-08-23T18:20:50.369Z"
   },
   {
    "duration": -4954,
    "start_time": "2021-08-23T18:20:50.374Z"
   },
   {
    "duration": -4960,
    "start_time": "2021-08-23T18:20:50.381Z"
   },
   {
    "duration": -4963,
    "start_time": "2021-08-23T18:20:50.386Z"
   },
   {
    "duration": -4968,
    "start_time": "2021-08-23T18:20:50.392Z"
   },
   {
    "duration": -4972,
    "start_time": "2021-08-23T18:20:50.397Z"
   },
   {
    "duration": -4976,
    "start_time": "2021-08-23T18:20:50.403Z"
   },
   {
    "duration": -4980,
    "start_time": "2021-08-23T18:20:50.408Z"
   },
   {
    "duration": -4986,
    "start_time": "2021-08-23T18:20:50.415Z"
   },
   {
    "duration": -4991,
    "start_time": "2021-08-23T18:20:50.421Z"
   },
   {
    "duration": -4994,
    "start_time": "2021-08-23T18:20:50.426Z"
   },
   {
    "duration": -5008,
    "start_time": "2021-08-23T18:20:50.441Z"
   },
   {
    "duration": -5013,
    "start_time": "2021-08-23T18:20:50.447Z"
   },
   {
    "duration": -5016,
    "start_time": "2021-08-23T18:20:50.451Z"
   },
   {
    "duration": -5020,
    "start_time": "2021-08-23T18:20:50.457Z"
   },
   {
    "duration": -5023,
    "start_time": "2021-08-23T18:20:50.461Z"
   },
   {
    "duration": -4967,
    "start_time": "2021-08-23T18:20:50.467Z"
   },
   {
    "duration": -4971,
    "start_time": "2021-08-23T18:20:50.473Z"
   },
   {
    "duration": -4974,
    "start_time": "2021-08-23T18:20:50.479Z"
   },
   {
    "duration": -4971,
    "start_time": "2021-08-23T18:20:50.483Z"
   },
   {
    "duration": -4975,
    "start_time": "2021-08-23T18:20:50.489Z"
   },
   {
    "duration": -5094,
    "start_time": "2021-08-23T18:20:50.610Z"
   },
   {
    "duration": -5098,
    "start_time": "2021-08-23T18:20:50.615Z"
   },
   {
    "duration": -5102,
    "start_time": "2021-08-23T18:20:50.621Z"
   },
   {
    "duration": -5132,
    "start_time": "2021-08-23T18:20:50.652Z"
   },
   {
    "duration": -5134,
    "start_time": "2021-08-23T18:20:50.656Z"
   },
   {
    "duration": -5166,
    "start_time": "2021-08-23T18:20:50.689Z"
   },
   {
    "duration": -5187,
    "start_time": "2021-08-23T18:20:50.712Z"
   },
   {
    "duration": -5191,
    "start_time": "2021-08-23T18:20:50.717Z"
   },
   {
    "duration": -5194,
    "start_time": "2021-08-23T18:20:50.722Z"
   },
   {
    "duration": -5214,
    "start_time": "2021-08-23T18:20:50.743Z"
   },
   {
    "duration": -5217,
    "start_time": "2021-08-23T18:20:50.748Z"
   },
   {
    "duration": -5234,
    "start_time": "2021-08-23T18:20:50.766Z"
   },
   {
    "duration": -5245,
    "start_time": "2021-08-23T18:20:50.779Z"
   },
   {
    "duration": -5249,
    "start_time": "2021-08-23T18:20:50.784Z"
   },
   {
    "duration": -5252,
    "start_time": "2021-08-23T18:20:50.789Z"
   },
   {
    "duration": -5195,
    "start_time": "2021-08-23T18:20:50.794Z"
   },
   {
    "duration": -5198,
    "start_time": "2021-08-23T18:20:50.799Z"
   },
   {
    "duration": -5224,
    "start_time": "2021-08-23T18:20:50.827Z"
   },
   {
    "duration": -5228,
    "start_time": "2021-08-23T18:20:50.832Z"
   },
   {
    "duration": -5243,
    "start_time": "2021-08-23T18:20:50.849Z"
   },
   {
    "duration": -5246,
    "start_time": "2021-08-23T18:20:50.853Z"
   },
   {
    "duration": -5317,
    "start_time": "2021-08-23T18:20:50.926Z"
   },
   {
    "duration": -5333,
    "start_time": "2021-08-23T18:20:50.944Z"
   },
   {
    "duration": -5339,
    "start_time": "2021-08-23T18:20:50.951Z"
   },
   {
    "duration": -5342,
    "start_time": "2021-08-23T18:20:50.956Z"
   },
   {
    "duration": -5351,
    "start_time": "2021-08-23T18:20:50.966Z"
   },
   {
    "duration": -5354,
    "start_time": "2021-08-23T18:20:50.971Z"
   },
   {
    "duration": -5367,
    "start_time": "2021-08-23T18:20:50.985Z"
   },
   {
    "duration": -5370,
    "start_time": "2021-08-23T18:20:50.990Z"
   },
   {
    "duration": -5384,
    "start_time": "2021-08-23T18:20:51.006Z"
   },
   {
    "duration": -5387,
    "start_time": "2021-08-23T18:20:51.010Z"
   },
   {
    "duration": -5399,
    "start_time": "2021-08-23T18:20:51.024Z"
   },
   {
    "duration": -5415,
    "start_time": "2021-08-23T18:20:51.041Z"
   },
   {
    "duration": 357,
    "start_time": "2021-08-23T18:22:56.767Z"
   },
   {
    "duration": 86,
    "start_time": "2021-08-23T18:22:59.960Z"
   },
   {
    "duration": 14,
    "start_time": "2021-08-23T18:23:02.810Z"
   },
   {
    "duration": 14,
    "start_time": "2021-08-23T18:23:05.841Z"
   },
   {
    "duration": 20,
    "start_time": "2021-08-23T18:23:09.576Z"
   },
   {
    "duration": 19,
    "start_time": "2021-08-23T18:23:12.512Z"
   },
   {
    "duration": 8,
    "start_time": "2021-08-23T18:23:15.948Z"
   },
   {
    "duration": 35,
    "start_time": "2021-08-23T18:23:18.869Z"
   },
   {
    "duration": 17,
    "start_time": "2021-08-23T18:23:23.439Z"
   },
   {
    "duration": 8,
    "start_time": "2021-08-23T18:23:27.283Z"
   },
   {
    "duration": 20,
    "start_time": "2021-08-23T18:23:29.939Z"
   },
   {
    "duration": 15,
    "start_time": "2021-08-23T18:23:34.327Z"
   },
   {
    "duration": 4,
    "start_time": "2021-08-23T18:23:44.463Z"
   },
   {
    "duration": 5,
    "start_time": "2021-08-23T18:24:05.218Z"
   },
   {
    "duration": 13,
    "start_time": "2021-08-23T18:24:07.411Z"
   },
   {
    "duration": 6880,
    "start_time": "2021-08-23T18:24:11.339Z"
   },
   {
    "duration": 9,
    "start_time": "2021-08-23T18:26:16.153Z"
   },
   {
    "duration": 29,
    "start_time": "2021-08-23T18:26:49.290Z"
   },
   {
    "duration": 7,
    "start_time": "2021-08-23T18:26:52.633Z"
   },
   {
    "duration": 14,
    "start_time": "2021-08-23T18:26:55.506Z"
   },
   {
    "duration": 9,
    "start_time": "2021-08-23T18:26:58.427Z"
   },
   {
    "duration": 13,
    "start_time": "2021-08-23T18:27:00.601Z"
   },
   {
    "duration": 16,
    "start_time": "2021-08-23T18:27:03.034Z"
   },
   {
    "duration": 21,
    "start_time": "2021-08-23T18:27:05.690Z"
   },
   {
    "duration": 20,
    "start_time": "2021-08-23T18:27:07.737Z"
   },
   {
    "duration": 15,
    "start_time": "2021-08-23T18:27:12.598Z"
   },
   {
    "duration": 20,
    "start_time": "2021-08-23T18:27:14.593Z"
   },
   {
    "duration": 19,
    "start_time": "2021-08-23T18:27:16.809Z"
   },
   {
    "duration": 18,
    "start_time": "2021-08-23T18:27:19.033Z"
   },
   {
    "duration": 22,
    "start_time": "2021-08-23T18:27:23.832Z"
   },
   {
    "duration": 26,
    "start_time": "2021-08-23T18:27:30.898Z"
   },
   {
    "duration": 12,
    "start_time": "2021-08-23T18:27:43.358Z"
   },
   {
    "duration": 8,
    "start_time": "2021-08-23T18:27:48.228Z"
   },
   {
    "duration": 24,
    "start_time": "2021-08-23T18:27:51.897Z"
   },
   {
    "duration": 25,
    "start_time": "2021-08-23T18:27:55.512Z"
   },
   {
    "duration": 11,
    "start_time": "2021-08-23T18:27:58.770Z"
   },
   {
    "duration": 10,
    "start_time": "2021-08-23T18:28:01.445Z"
   },
   {
    "duration": 11,
    "start_time": "2021-08-23T18:28:03.860Z"
   },
   {
    "duration": 9,
    "start_time": "2021-08-23T18:28:06.873Z"
   },
   {
    "duration": 38,
    "start_time": "2021-08-23T18:28:09.545Z"
   },
   {
    "duration": 15,
    "start_time": "2021-08-23T18:28:12.617Z"
   },
   {
    "duration": 12,
    "start_time": "2021-08-23T18:28:15.312Z"
   },
   {
    "duration": 23,
    "start_time": "2021-08-23T18:28:17.771Z"
   },
   {
    "duration": 12,
    "start_time": "2021-08-23T18:28:30.321Z"
   },
   {
    "duration": 14,
    "start_time": "2021-08-23T18:28:34.284Z"
   },
   {
    "duration": 326,
    "start_time": "2021-08-23T18:28:37.420Z"
   },
   {
    "duration": 311,
    "start_time": "2021-08-23T18:28:41.846Z"
   },
   {
    "duration": 15,
    "start_time": "2021-08-23T18:28:48.642Z"
   },
   {
    "duration": 29,
    "start_time": "2021-08-23T18:28:55.887Z"
   },
   {
    "duration": 28,
    "start_time": "2021-08-23T18:28:59.152Z"
   },
   {
    "duration": 11,
    "start_time": "2021-08-23T18:29:02.172Z"
   },
   {
    "duration": 10,
    "start_time": "2021-08-23T18:29:04.824Z"
   },
   {
    "duration": 22,
    "start_time": "2021-08-23T18:29:09.114Z"
   },
   {
    "duration": 11,
    "start_time": "2021-08-23T18:29:12.190Z"
   },
   {
    "duration": 23,
    "start_time": "2021-08-23T18:29:30.868Z"
   },
   {
    "duration": 12,
    "start_time": "2021-08-23T18:29:36.431Z"
   },
   {
    "duration": 631,
    "start_time": "2021-08-23T18:29:41.889Z"
   },
   {
    "duration": 85,
    "start_time": "2021-08-23T18:29:50.105Z"
   },
   {
    "duration": 393,
    "start_time": "2021-08-23T18:29:56.063Z"
   },
   {
    "duration": 24,
    "start_time": "2021-08-23T18:30:07.765Z"
   },
   {
    "duration": 17,
    "start_time": "2021-08-23T18:30:11.554Z"
   },
   {
    "duration": 10,
    "start_time": "2021-08-23T18:30:14.551Z"
   },
   {
    "duration": 16,
    "start_time": "2021-08-23T18:32:42.935Z"
   },
   {
    "duration": 559,
    "start_time": "2021-08-23T18:37:31.203Z"
   },
   {
    "duration": 25,
    "start_time": "2021-08-23T18:37:42.075Z"
   },
   {
    "duration": 10,
    "start_time": "2021-08-23T18:38:01.210Z"
   },
   {
    "duration": 10,
    "start_time": "2021-08-23T18:38:21.978Z"
   },
   {
    "duration": 362,
    "start_time": "2021-08-23T18:40:55.417Z"
   },
   {
    "duration": 301,
    "start_time": "2021-08-23T18:41:19.470Z"
   },
   {
    "duration": 400,
    "start_time": "2021-08-23T18:43:28.043Z"
   },
   {
    "duration": 299,
    "start_time": "2021-08-23T18:46:50.176Z"
   },
   {
    "duration": 87,
    "start_time": "2021-08-23T18:59:45.920Z"
   },
   {
    "duration": 420,
    "start_time": "2021-08-23T19:00:04.541Z"
   },
   {
    "duration": 387,
    "start_time": "2021-08-23T19:00:21.459Z"
   },
   {
    "duration": 13,
    "start_time": "2021-08-23T19:01:01.798Z"
   },
   {
    "duration": 35,
    "start_time": "2021-08-23T19:01:09.322Z"
   },
   {
    "duration": 729,
    "start_time": "2021-08-23T19:05:24.691Z"
   },
   {
    "duration": 733,
    "start_time": "2021-08-23T19:05:55.104Z"
   },
   {
    "duration": 626,
    "start_time": "2021-08-23T19:06:38.414Z"
   },
   {
    "duration": 6207,
    "start_time": "2021-08-23T19:07:38.129Z"
   },
   {
    "duration": 41,
    "start_time": "2021-08-23T19:08:31.532Z"
   },
   {
    "duration": 6316,
    "start_time": "2021-08-23T19:12:43.682Z"
   },
   {
    "duration": 39,
    "start_time": "2021-08-23T19:13:03.059Z"
   },
   {
    "duration": 755,
    "start_time": "2021-08-23T19:13:20.616Z"
   },
   {
    "duration": 22,
    "start_time": "2021-08-23T19:17:12.169Z"
   },
   {
    "duration": 19,
    "start_time": "2021-08-23T19:18:00.577Z"
   },
   {
    "duration": 666,
    "start_time": "2021-08-23T19:21:33.917Z"
   },
   {
    "duration": 5,
    "start_time": "2021-08-23T19:21:43.608Z"
   },
   {
    "duration": 9,
    "start_time": "2021-08-23T19:22:01.075Z"
   },
   {
    "duration": 12,
    "start_time": "2021-08-23T19:22:30.763Z"
   },
   {
    "duration": 9,
    "start_time": "2021-08-23T19:27:26.287Z"
   },
   {
    "duration": 385,
    "start_time": "2021-08-23T19:28:03.177Z"
   },
   {
    "duration": 121,
    "start_time": "2021-08-23T19:28:09.045Z"
   },
   {
    "duration": 493,
    "start_time": "2021-08-23T19:28:17.541Z"
   },
   {
    "duration": 412,
    "start_time": "2021-08-23T19:28:24.436Z"
   },
   {
    "duration": 516,
    "start_time": "2021-08-23T19:30:49.604Z"
   },
   {
    "duration": 14,
    "start_time": "2021-08-23T19:31:36.236Z"
   },
   {
    "duration": 8,
    "start_time": "2021-08-23T19:31:52.134Z"
   },
   {
    "duration": 10,
    "start_time": "2021-08-23T19:32:32.050Z"
   },
   {
    "duration": 10,
    "start_time": "2021-08-23T19:32:39.343Z"
   },
   {
    "duration": 618,
    "start_time": "2021-08-23T19:34:58.955Z"
   },
   {
    "duration": 59,
    "start_time": "2021-08-23T19:41:54.159Z"
   },
   {
    "duration": 405,
    "start_time": "2021-08-23T19:46:06.264Z"
   },
   {
    "duration": 674,
    "start_time": "2021-08-23T19:46:15.528Z"
   },
   {
    "duration": 21,
    "start_time": "2021-08-23T19:47:59.228Z"
   },
   {
    "duration": 22,
    "start_time": "2021-08-23T19:48:23.396Z"
   },
   {
    "duration": 23,
    "start_time": "2021-08-23T19:48:36.443Z"
   },
   {
    "duration": 19,
    "start_time": "2021-08-23T19:48:59.888Z"
   },
   {
    "duration": 22,
    "start_time": "2021-08-23T19:49:11.631Z"
   },
   {
    "duration": 21,
    "start_time": "2021-08-23T19:49:34.058Z"
   },
   {
    "duration": 35,
    "start_time": "2021-08-23T19:49:42.169Z"
   },
   {
    "duration": 29,
    "start_time": "2021-08-23T19:50:06.347Z"
   },
   {
    "duration": 34,
    "start_time": "2021-08-23T19:50:55.110Z"
   },
   {
    "duration": 32,
    "start_time": "2021-08-23T19:51:30.388Z"
   },
   {
    "duration": 29,
    "start_time": "2021-08-23T19:52:55.222Z"
   },
   {
    "duration": 32,
    "start_time": "2021-08-23T19:53:18.598Z"
   },
   {
    "duration": 32,
    "start_time": "2021-08-23T19:57:10.618Z"
   },
   {
    "duration": 32,
    "start_time": "2021-08-23T20:02:31.541Z"
   },
   {
    "duration": 117,
    "start_time": "2021-08-23T20:02:53.926Z"
   },
   {
    "duration": 34,
    "start_time": "2021-08-23T20:02:57.605Z"
   },
   {
    "duration": 127,
    "start_time": "2021-08-23T20:25:03.943Z"
   },
   {
    "duration": 33,
    "start_time": "2021-08-23T20:25:37.450Z"
   },
   {
    "duration": 34,
    "start_time": "2021-08-23T20:25:51.427Z"
   },
   {
    "duration": 32,
    "start_time": "2021-08-23T20:26:13.433Z"
   },
   {
    "duration": 30,
    "start_time": "2021-08-23T20:26:45.839Z"
   },
   {
    "duration": 82,
    "start_time": "2021-08-23T20:27:36.673Z"
   },
   {
    "duration": 52,
    "start_time": "2021-08-23T20:28:20.156Z"
   },
   {
    "duration": 812,
    "start_time": "2021-08-23T20:32:37.691Z"
   },
   {
    "duration": 471,
    "start_time": "2021-08-23T20:51:30.318Z"
   },
   {
    "duration": 386,
    "start_time": "2021-08-23T20:51:56.490Z"
   },
   {
    "duration": 35,
    "start_time": "2021-08-23T20:52:17.164Z"
   },
   {
    "duration": 34,
    "start_time": "2021-08-23T20:54:18.334Z"
   },
   {
    "duration": 47,
    "start_time": "2021-08-23T20:55:28.593Z"
   },
   {
    "duration": 47,
    "start_time": "2021-08-23T20:55:50.105Z"
   },
   {
    "duration": 44,
    "start_time": "2021-08-23T20:57:03.191Z"
   },
   {
    "duration": 7,
    "start_time": "2021-08-23T21:01:30.674Z"
   },
   {
    "duration": 9,
    "start_time": "2021-08-23T21:02:04.752Z"
   },
   {
    "duration": 1892,
    "start_time": "2021-08-23T21:02:39.905Z"
   },
   {
    "duration": 10,
    "start_time": "2021-08-23T21:03:07.976Z"
   },
   {
    "duration": 2416,
    "start_time": "2021-08-24T17:33:55.548Z"
   },
   {
    "duration": 164,
    "start_time": "2021-08-24T17:33:57.967Z"
   },
   {
    "duration": 15,
    "start_time": "2021-08-24T17:33:58.134Z"
   },
   {
    "duration": 16,
    "start_time": "2021-08-24T17:33:58.152Z"
   },
   {
    "duration": 34,
    "start_time": "2021-08-24T17:33:58.171Z"
   },
   {
    "duration": 22,
    "start_time": "2021-08-24T17:33:58.208Z"
   },
   {
    "duration": 8,
    "start_time": "2021-08-24T17:33:58.233Z"
   },
   {
    "duration": 70,
    "start_time": "2021-08-24T17:33:58.246Z"
   },
   {
    "duration": 18,
    "start_time": "2021-08-24T17:33:58.321Z"
   },
   {
    "duration": 9,
    "start_time": "2021-08-24T17:33:58.342Z"
   },
   {
    "duration": 58,
    "start_time": "2021-08-24T17:33:58.353Z"
   },
   {
    "duration": 17,
    "start_time": "2021-08-24T17:33:58.414Z"
   },
   {
    "duration": 4,
    "start_time": "2021-08-24T17:33:58.433Z"
   },
   {
    "duration": 12,
    "start_time": "2021-08-24T17:33:58.440Z"
   },
   {
    "duration": 47,
    "start_time": "2021-08-24T17:33:58.455Z"
   },
   {
    "duration": 21,
    "start_time": "2021-08-24T17:33:58.505Z"
   },
   {
    "duration": 9,
    "start_time": "2021-08-24T17:33:58.529Z"
   },
   {
    "duration": 62,
    "start_time": "2021-08-24T17:33:58.540Z"
   },
   {
    "duration": 2032,
    "start_time": "2021-08-24T17:33:58.605Z"
   },
   {
    "duration": -6789,
    "start_time": "2021-08-24T17:34:07.433Z"
   },
   {
    "duration": -6791,
    "start_time": "2021-08-24T17:34:07.436Z"
   },
   {
    "duration": -6795,
    "start_time": "2021-08-24T17:34:07.441Z"
   },
   {
    "duration": -6799,
    "start_time": "2021-08-24T17:34:07.447Z"
   },
   {
    "duration": -6802,
    "start_time": "2021-08-24T17:34:07.451Z"
   },
   {
    "duration": -6805,
    "start_time": "2021-08-24T17:34:07.455Z"
   },
   {
    "duration": -6814,
    "start_time": "2021-08-24T17:34:07.466Z"
   },
   {
    "duration": -6817,
    "start_time": "2021-08-24T17:34:07.470Z"
   },
   {
    "duration": -6820,
    "start_time": "2021-08-24T17:34:07.474Z"
   },
   {
    "duration": -6823,
    "start_time": "2021-08-24T17:34:07.478Z"
   },
   {
    "duration": -6824,
    "start_time": "2021-08-24T17:34:07.481Z"
   },
   {
    "duration": -6827,
    "start_time": "2021-08-24T17:34:07.485Z"
   },
   {
    "duration": -6829,
    "start_time": "2021-08-24T17:34:07.489Z"
   },
   {
    "duration": -6831,
    "start_time": "2021-08-24T17:34:07.492Z"
   },
   {
    "duration": -6833,
    "start_time": "2021-08-24T17:34:07.496Z"
   },
   {
    "duration": -6841,
    "start_time": "2021-08-24T17:34:07.505Z"
   },
   {
    "duration": -6845,
    "start_time": "2021-08-24T17:34:07.510Z"
   },
   {
    "duration": -6846,
    "start_time": "2021-08-24T17:34:07.513Z"
   },
   {
    "duration": -6849,
    "start_time": "2021-08-24T17:34:07.517Z"
   },
   {
    "duration": -6851,
    "start_time": "2021-08-24T17:34:07.521Z"
   },
   {
    "duration": -6853,
    "start_time": "2021-08-24T17:34:07.524Z"
   },
   {
    "duration": -6856,
    "start_time": "2021-08-24T17:34:07.528Z"
   },
   {
    "duration": -6939,
    "start_time": "2021-08-24T17:34:07.613Z"
   },
   {
    "duration": -7234,
    "start_time": "2021-08-24T17:34:07.909Z"
   },
   {
    "duration": -7309,
    "start_time": "2021-08-24T17:34:07.986Z"
   },
   {
    "duration": -7311,
    "start_time": "2021-08-24T17:34:07.989Z"
   },
   {
    "duration": -7293,
    "start_time": "2021-08-24T17:34:07.993Z"
   },
   {
    "duration": -7294,
    "start_time": "2021-08-24T17:34:07.996Z"
   },
   {
    "duration": -7297,
    "start_time": "2021-08-24T17:34:08.000Z"
   },
   {
    "duration": -7298,
    "start_time": "2021-08-24T17:34:08.003Z"
   },
   {
    "duration": -7301,
    "start_time": "2021-08-24T17:34:08.007Z"
   },
   {
    "duration": -7302,
    "start_time": "2021-08-24T17:34:08.010Z"
   },
   {
    "duration": -7305,
    "start_time": "2021-08-24T17:34:08.014Z"
   },
   {
    "duration": -7306,
    "start_time": "2021-08-24T17:34:08.017Z"
   },
   {
    "duration": -7310,
    "start_time": "2021-08-24T17:34:08.022Z"
   },
   {
    "duration": -7311,
    "start_time": "2021-08-24T17:34:08.025Z"
   },
   {
    "duration": -7421,
    "start_time": "2021-08-24T17:34:08.136Z"
   },
   {
    "duration": -7424,
    "start_time": "2021-08-24T17:34:08.141Z"
   },
   {
    "duration": -7427,
    "start_time": "2021-08-24T17:34:08.145Z"
   },
   {
    "duration": -7428,
    "start_time": "2021-08-24T17:34:08.148Z"
   },
   {
    "duration": -7430,
    "start_time": "2021-08-24T17:34:08.151Z"
   },
   {
    "duration": -7432,
    "start_time": "2021-08-24T17:34:08.154Z"
   },
   {
    "duration": -7434,
    "start_time": "2021-08-24T17:34:08.158Z"
   },
   {
    "duration": -7436,
    "start_time": "2021-08-24T17:34:08.162Z"
   },
   {
    "duration": -7438,
    "start_time": "2021-08-24T17:34:08.165Z"
   },
   {
    "duration": -7445,
    "start_time": "2021-08-24T17:34:08.174Z"
   },
   {
    "duration": -7448,
    "start_time": "2021-08-24T17:34:08.178Z"
   },
   {
    "duration": -7450,
    "start_time": "2021-08-24T17:34:08.182Z"
   },
   {
    "duration": -7452,
    "start_time": "2021-08-24T17:34:08.185Z"
   },
   {
    "duration": -7454,
    "start_time": "2021-08-24T17:34:08.189Z"
   },
   {
    "duration": -7456,
    "start_time": "2021-08-24T17:34:08.192Z"
   },
   {
    "duration": -7459,
    "start_time": "2021-08-24T17:34:08.196Z"
   },
   {
    "duration": -7460,
    "start_time": "2021-08-24T17:34:08.199Z"
   },
   {
    "duration": -7402,
    "start_time": "2021-08-24T17:34:08.203Z"
   },
   {
    "duration": -7404,
    "start_time": "2021-08-24T17:34:08.207Z"
   },
   {
    "duration": -7406,
    "start_time": "2021-08-24T17:34:08.210Z"
   },
   {
    "duration": -7409,
    "start_time": "2021-08-24T17:34:08.214Z"
   },
   {
    "duration": -7410,
    "start_time": "2021-08-24T17:34:08.217Z"
   },
   {
    "duration": -7413,
    "start_time": "2021-08-24T17:34:08.221Z"
   },
   {
    "duration": -7415,
    "start_time": "2021-08-24T17:34:08.224Z"
   },
   {
    "duration": -7417,
    "start_time": "2021-08-24T17:34:08.228Z"
   },
   {
    "duration": -7419,
    "start_time": "2021-08-24T17:34:08.231Z"
   },
   {
    "duration": -7422,
    "start_time": "2021-08-24T17:34:08.235Z"
   },
   {
    "duration": -7424,
    "start_time": "2021-08-24T17:34:08.238Z"
   },
   {
    "duration": -7427,
    "start_time": "2021-08-24T17:34:08.242Z"
   },
   {
    "duration": -7429,
    "start_time": "2021-08-24T17:34:08.246Z"
   },
   {
    "duration": -7432,
    "start_time": "2021-08-24T17:34:08.250Z"
   },
   {
    "duration": -7434,
    "start_time": "2021-08-24T17:34:08.253Z"
   },
   {
    "duration": -7435,
    "start_time": "2021-08-24T17:34:08.256Z"
   },
   {
    "duration": -7438,
    "start_time": "2021-08-24T17:34:08.260Z"
   },
   {
    "duration": -7439,
    "start_time": "2021-08-24T17:34:08.263Z"
   },
   {
    "duration": -7442,
    "start_time": "2021-08-24T17:34:08.267Z"
   },
   {
    "duration": -7444,
    "start_time": "2021-08-24T17:34:08.270Z"
   },
   {
    "duration": 278,
    "start_time": "2021-08-24T17:34:12.670Z"
   },
   {
    "duration": 79,
    "start_time": "2021-08-24T17:34:17.193Z"
   },
   {
    "duration": 14,
    "start_time": "2021-08-24T17:34:20.933Z"
   },
   {
    "duration": 17,
    "start_time": "2021-08-24T17:34:23.742Z"
   },
   {
    "duration": 22,
    "start_time": "2021-08-24T17:34:26.840Z"
   },
   {
    "duration": 22,
    "start_time": "2021-08-24T17:34:31.379Z"
   },
   {
    "duration": 9,
    "start_time": "2021-08-24T17:34:34.382Z"
   },
   {
    "duration": 35,
    "start_time": "2021-08-24T17:34:37.807Z"
   },
   {
    "duration": 19,
    "start_time": "2021-08-24T17:35:28.520Z"
   },
   {
    "duration": 6,
    "start_time": "2021-08-24T17:35:32.467Z"
   },
   {
    "duration": 20,
    "start_time": "2021-08-24T17:35:42.960Z"
   },
   {
    "duration": 22,
    "start_time": "2021-08-24T17:35:51.736Z"
   },
   {
    "duration": 3,
    "start_time": "2021-08-24T17:35:55.083Z"
   },
   {
    "duration": 6,
    "start_time": "2021-08-24T17:35:59.837Z"
   },
   {
    "duration": 16,
    "start_time": "2021-08-24T17:36:02.147Z"
   },
   {
    "duration": 20,
    "start_time": "2021-08-24T17:36:05.547Z"
   },
   {
    "duration": 8,
    "start_time": "2021-08-24T17:36:10.863Z"
   },
   {
    "duration": 28,
    "start_time": "2021-08-24T17:36:19.564Z"
   },
   {
    "duration": 1783,
    "start_time": "2021-08-24T17:36:48.094Z"
   },
   {
    "duration": 15,
    "start_time": "2021-08-24T17:38:03.158Z"
   },
   {
    "duration": 20,
    "start_time": "2021-08-24T17:38:07.052Z"
   },
   {
    "duration": 20,
    "start_time": "2021-08-24T17:38:09.722Z"
   },
   {
    "duration": 9,
    "start_time": "2021-08-24T17:38:27.172Z"
   },
   {
    "duration": 35,
    "start_time": "2021-08-24T17:38:30.781Z"
   },
   {
    "duration": 18,
    "start_time": "2021-08-24T17:38:34.436Z"
   },
   {
    "duration": 9,
    "start_time": "2021-08-24T17:38:41.307Z"
   },
   {
    "duration": 23,
    "start_time": "2021-08-24T17:38:45.223Z"
   },
   {
    "duration": 17,
    "start_time": "2021-08-24T17:38:48.719Z"
   },
   {
    "duration": 4,
    "start_time": "2021-08-24T17:38:52.517Z"
   },
   {
    "duration": 5,
    "start_time": "2021-08-24T17:39:00.315Z"
   },
   {
    "duration": 13,
    "start_time": "2021-08-24T17:39:03.164Z"
   },
   {
    "duration": 20,
    "start_time": "2021-08-24T17:39:08.884Z"
   },
   {
    "duration": 8,
    "start_time": "2021-08-24T17:39:15.608Z"
   },
   {
    "duration": 25,
    "start_time": "2021-08-24T17:39:20.232Z"
   },
   {
    "duration": 2048,
    "start_time": "2021-08-24T17:39:24.555Z"
   },
   {
    "duration": 6,
    "start_time": "2021-08-24T17:39:45.697Z"
   },
   {
    "duration": 19,
    "start_time": "2021-08-24T17:39:48.340Z"
   },
   {
    "duration": 9,
    "start_time": "2021-08-24T17:39:52.793Z"
   },
   {
    "duration": 12,
    "start_time": "2021-08-24T17:39:56.934Z"
   },
   {
    "duration": 16,
    "start_time": "2021-08-24T17:39:59.563Z"
   },
   {
    "duration": 20,
    "start_time": "2021-08-24T17:40:02.371Z"
   },
   {
    "duration": 20,
    "start_time": "2021-08-24T17:40:05.322Z"
   },
   {
    "duration": 15,
    "start_time": "2021-08-24T17:40:09.291Z"
   },
   {
    "duration": 20,
    "start_time": "2021-08-24T17:40:11.137Z"
   },
   {
    "duration": 20,
    "start_time": "2021-08-24T17:40:13.184Z"
   },
   {
    "duration": 19,
    "start_time": "2021-08-24T17:40:15.574Z"
   },
   {
    "duration": 22,
    "start_time": "2021-08-24T17:40:19.371Z"
   },
   {
    "duration": 24,
    "start_time": "2021-08-24T17:40:28.095Z"
   },
   {
    "duration": 15,
    "start_time": "2021-08-24T17:43:18.178Z"
   },
   {
    "duration": 10,
    "start_time": "2021-08-24T17:43:24.004Z"
   },
   {
    "duration": 39,
    "start_time": "2021-08-24T17:43:29.861Z"
   },
   {
    "duration": 15,
    "start_time": "2021-08-24T17:43:33.382Z"
   },
   {
    "duration": 11,
    "start_time": "2021-08-24T17:43:37.258Z"
   },
   {
    "duration": 21,
    "start_time": "2021-08-24T17:43:55.113Z"
   },
   {
    "duration": 306,
    "start_time": "2021-08-24T17:45:01.002Z"
   },
   {
    "duration": 12,
    "start_time": "2021-08-24T17:45:10.180Z"
   },
   {
    "duration": 14,
    "start_time": "2021-08-24T17:45:15.547Z"
   },
   {
    "duration": 322,
    "start_time": "2021-08-24T17:45:20.537Z"
   },
   {
    "duration": 309,
    "start_time": "2021-08-24T17:45:23.949Z"
   },
   {
    "duration": 15,
    "start_time": "2021-08-24T17:45:28.181Z"
   },
   {
    "duration": 33,
    "start_time": "2021-08-24T17:45:38.116Z"
   },
   {
    "duration": 29,
    "start_time": "2021-08-24T17:45:45.273Z"
   },
   {
    "duration": 11,
    "start_time": "2021-08-24T17:45:58.757Z"
   },
   {
    "duration": 23,
    "start_time": "2021-08-24T17:46:24.151Z"
   },
   {
    "duration": 386,
    "start_time": "2021-08-24T17:46:39.171Z"
   },
   {
    "duration": 660,
    "start_time": "2021-08-24T17:46:50.954Z"
   },
   {
    "duration": 5,
    "start_time": "2021-08-24T17:47:09.442Z"
   },
   {
    "duration": 26,
    "start_time": "2021-08-24T17:47:16.646Z"
   },
   {
    "duration": 10,
    "start_time": "2021-08-24T17:47:24.008Z"
   },
   {
    "duration": 24,
    "start_time": "2021-08-24T17:47:30.282Z"
   },
   {
    "duration": 88,
    "start_time": "2021-08-24T17:47:42.489Z"
   },
   {
    "duration": 32,
    "start_time": "2021-08-24T17:47:46.715Z"
   },
   {
    "duration": 833,
    "start_time": "2021-08-24T17:48:01.749Z"
   },
   {
    "duration": 51,
    "start_time": "2021-08-24T17:48:16.112Z"
   },
   {
    "duration": 909,
    "start_time": "2021-08-24T17:48:23.623Z"
   },
   {
    "duration": 354,
    "start_time": "2021-08-24T17:48:33.882Z"
   },
   {
    "duration": 25,
    "start_time": "2021-08-24T17:50:40.305Z"
   },
   {
    "duration": 24,
    "start_time": "2021-08-24T17:51:36.513Z"
   },
   {
    "duration": 27,
    "start_time": "2021-08-24T17:52:19.917Z"
   },
   {
    "duration": 24,
    "start_time": "2021-08-24T17:54:31.007Z"
   },
   {
    "duration": 601,
    "start_time": "2021-08-24T17:55:20.265Z"
   },
   {
    "duration": 24,
    "start_time": "2021-08-24T17:55:31.648Z"
   },
   {
    "duration": 22,
    "start_time": "2021-08-24T17:59:32.001Z"
   },
   {
    "duration": 91,
    "start_time": "2021-08-24T18:03:29.254Z"
   },
   {
    "duration": 24,
    "start_time": "2021-08-24T18:07:21.739Z"
   },
   {
    "duration": 17,
    "start_time": "2021-08-24T18:07:25.021Z"
   },
   {
    "duration": 11,
    "start_time": "2021-08-24T18:07:29.223Z"
   },
   {
    "duration": 11,
    "start_time": "2021-08-24T18:07:31.876Z"
   },
   {
    "duration": 50,
    "start_time": "2021-08-24T18:07:34.914Z"
   },
   {
    "duration": 68,
    "start_time": "2021-08-24T18:09:08.983Z"
   },
   {
    "duration": 23,
    "start_time": "2021-08-24T18:15:26.890Z"
   },
   {
    "duration": 40,
    "start_time": "2021-08-24T18:16:38.865Z"
   },
   {
    "duration": 74,
    "start_time": "2021-08-24T18:18:46.626Z"
   },
   {
    "duration": 51,
    "start_time": "2021-08-24T18:22:39.687Z"
   },
   {
    "duration": 52,
    "start_time": "2021-08-24T18:26:43.861Z"
   },
   {
    "duration": 103,
    "start_time": "2021-08-24T18:26:52.312Z"
   },
   {
    "duration": 9,
    "start_time": "2021-08-24T18:28:16.161Z"
   },
   {
    "duration": 60,
    "start_time": "2021-08-24T18:34:06.398Z"
   },
   {
    "duration": 53,
    "start_time": "2021-08-24T18:35:41.590Z"
   },
   {
    "duration": 49,
    "start_time": "2021-08-24T18:37:38.956Z"
   },
   {
    "duration": 12,
    "start_time": "2021-08-24T18:38:54.006Z"
   },
   {
    "duration": 71,
    "start_time": "2021-08-24T18:39:50.149Z"
   },
   {
    "duration": 51,
    "start_time": "2021-08-24T18:46:58.701Z"
   },
   {
    "duration": 49,
    "start_time": "2021-08-24T18:47:14.467Z"
   },
   {
    "duration": 46,
    "start_time": "2021-08-24T18:50:23.729Z"
   },
   {
    "duration": 51,
    "start_time": "2021-08-24T18:51:46.024Z"
   },
   {
    "duration": 12,
    "start_time": "2021-08-24T18:54:20.762Z"
   },
   {
    "duration": 12,
    "start_time": "2021-08-24T18:57:34.467Z"
   },
   {
    "duration": 13,
    "start_time": "2021-08-24T18:57:46.107Z"
   },
   {
    "duration": 13,
    "start_time": "2021-08-24T19:01:18.623Z"
   },
   {
    "duration": 124,
    "start_time": "2021-08-25T10:58:59.896Z"
   },
   {
    "duration": 427,
    "start_time": "2021-08-25T11:35:34.765Z"
   },
   {
    "duration": 2494,
    "start_time": "2021-08-25T11:35:44.593Z"
   },
   {
    "duration": 3134,
    "start_time": "2021-08-25T11:35:47.090Z"
   },
   {
    "duration": 16,
    "start_time": "2021-08-25T11:35:50.227Z"
   },
   {
    "duration": 18,
    "start_time": "2021-08-25T11:35:50.247Z"
   },
   {
    "duration": 49,
    "start_time": "2021-08-25T11:35:50.268Z"
   },
   {
    "duration": 67,
    "start_time": "2021-08-25T11:35:50.320Z"
   },
   {
    "duration": 35,
    "start_time": "2021-08-25T11:35:50.390Z"
   },
   {
    "duration": 58,
    "start_time": "2021-08-25T11:35:50.431Z"
   },
   {
    "duration": 21,
    "start_time": "2021-08-25T11:35:50.493Z"
   },
   {
    "duration": 28,
    "start_time": "2021-08-25T11:35:50.517Z"
   },
   {
    "duration": 27,
    "start_time": "2021-08-25T11:35:50.547Z"
   },
   {
    "duration": 32,
    "start_time": "2021-08-25T11:35:50.576Z"
   },
   {
    "duration": 9,
    "start_time": "2021-08-25T11:35:50.611Z"
   },
   {
    "duration": 19,
    "start_time": "2021-08-25T11:35:50.623Z"
   },
   {
    "duration": 38,
    "start_time": "2021-08-25T11:35:50.644Z"
   },
   {
    "duration": 34,
    "start_time": "2021-08-25T11:35:50.684Z"
   },
   {
    "duration": 8,
    "start_time": "2021-08-25T11:35:50.721Z"
   },
   {
    "duration": 50,
    "start_time": "2021-08-25T11:35:50.731Z"
   },
   {
    "duration": 21,
    "start_time": "2021-08-25T11:35:50.784Z"
   },
   {
    "duration": 21,
    "start_time": "2021-08-25T11:35:50.808Z"
   },
   {
    "duration": 23,
    "start_time": "2021-08-25T11:35:50.832Z"
   },
   {
    "duration": 19,
    "start_time": "2021-08-25T11:35:50.858Z"
   },
   {
    "duration": 21,
    "start_time": "2021-08-25T11:35:50.884Z"
   },
   {
    "duration": 23,
    "start_time": "2021-08-25T11:35:50.908Z"
   },
   {
    "duration": 52,
    "start_time": "2021-08-25T11:35:50.933Z"
   },
   {
    "duration": 18,
    "start_time": "2021-08-25T11:35:50.987Z"
   },
   {
    "duration": 29,
    "start_time": "2021-08-25T11:35:51.007Z"
   },
   {
    "duration": 53,
    "start_time": "2021-08-25T11:35:51.039Z"
   },
   {
    "duration": 21,
    "start_time": "2021-08-25T11:35:51.095Z"
   },
   {
    "duration": 56,
    "start_time": "2021-08-25T11:35:51.118Z"
   },
   {
    "duration": 13,
    "start_time": "2021-08-25T11:35:51.177Z"
   },
   {
    "duration": 10,
    "start_time": "2021-08-25T11:35:51.192Z"
   },
   {
    "duration": 71,
    "start_time": "2021-08-25T11:35:51.205Z"
   },
   {
    "duration": 25,
    "start_time": "2021-08-25T11:35:51.278Z"
   },
   {
    "duration": 336,
    "start_time": "2021-08-25T11:35:51.305Z"
   },
   {
    "duration": 26,
    "start_time": "2021-08-25T11:35:51.643Z"
   },
   {
    "duration": 14,
    "start_time": "2021-08-25T11:35:51.672Z"
   },
   {
    "duration": 365,
    "start_time": "2021-08-25T11:35:51.689Z"
   },
   {
    "duration": 384,
    "start_time": "2021-08-25T11:35:52.056Z"
   },
   {
    "duration": 26,
    "start_time": "2021-08-25T11:35:52.443Z"
   },
   {
    "duration": 42,
    "start_time": "2021-08-25T11:35:52.472Z"
   },
   {
    "duration": 58,
    "start_time": "2021-08-25T11:35:52.517Z"
   },
   {
    "duration": 7,
    "start_time": "2021-08-25T11:35:52.578Z"
   },
   {
    "duration": 16,
    "start_time": "2021-08-25T11:35:52.587Z"
   },
   {
    "duration": 131,
    "start_time": "2021-08-25T11:35:52.606Z"
   },
   {
    "duration": 1188,
    "start_time": "2021-08-25T11:35:52.740Z"
   },
   {
    "duration": 50,
    "start_time": "2021-08-25T11:35:53.930Z"
   },
   {
    "duration": 40,
    "start_time": "2021-08-25T11:35:53.982Z"
   },
   {
    "duration": 12,
    "start_time": "2021-08-25T11:35:54.024Z"
   },
   {
    "duration": 29,
    "start_time": "2021-08-25T11:35:54.039Z"
   },
   {
    "duration": 61,
    "start_time": "2021-08-25T11:35:54.071Z"
   },
   {
    "duration": 73,
    "start_time": "2021-08-25T11:35:54.134Z"
   },
   {
    "duration": 308,
    "start_time": "2021-08-25T11:36:10.625Z"
   },
   {
    "duration": 14,
    "start_time": "2021-08-25T12:27:52.705Z"
   },
   {
    "duration": 13,
    "start_time": "2021-08-25T12:27:56.627Z"
   },
   {
    "duration": 228,
    "start_time": "2021-08-25T17:56:54.965Z"
   },
   {
    "duration": 1368,
    "start_time": "2021-08-25T17:57:01.998Z"
   },
   {
    "duration": 116,
    "start_time": "2021-08-25T17:57:03.368Z"
   },
   {
    "duration": 11,
    "start_time": "2021-08-25T17:57:03.486Z"
   },
   {
    "duration": 10,
    "start_time": "2021-08-25T17:57:03.499Z"
   },
   {
    "duration": 14,
    "start_time": "2021-08-25T17:57:03.511Z"
   },
   {
    "duration": 21,
    "start_time": "2021-08-25T17:57:03.527Z"
   },
   {
    "duration": 8,
    "start_time": "2021-08-25T17:57:03.550Z"
   },
   {
    "duration": 22,
    "start_time": "2021-08-25T17:57:03.586Z"
   },
   {
    "duration": 12,
    "start_time": "2021-08-25T17:57:03.610Z"
   },
   {
    "duration": 4,
    "start_time": "2021-08-25T17:57:03.625Z"
   },
   {
    "duration": 25,
    "start_time": "2021-08-25T17:57:03.631Z"
   },
   {
    "duration": 30,
    "start_time": "2021-08-25T17:57:03.658Z"
   },
   {
    "duration": 2,
    "start_time": "2021-08-25T17:57:03.689Z"
   },
   {
    "duration": 7,
    "start_time": "2021-08-25T17:57:03.693Z"
   },
   {
    "duration": 13,
    "start_time": "2021-08-25T17:57:03.701Z"
   },
   {
    "duration": 18,
    "start_time": "2021-08-25T17:57:03.715Z"
   },
   {
    "duration": 6,
    "start_time": "2021-08-25T17:57:03.734Z"
   },
   {
    "duration": 47,
    "start_time": "2021-08-25T17:57:03.742Z"
   },
   {
    "duration": 14,
    "start_time": "2021-08-25T17:57:03.790Z"
   },
   {
    "duration": 12,
    "start_time": "2021-08-25T17:57:03.806Z"
   },
   {
    "duration": 12,
    "start_time": "2021-08-25T17:57:03.819Z"
   },
   {
    "duration": 12,
    "start_time": "2021-08-25T17:57:03.833Z"
   },
   {
    "duration": 10,
    "start_time": "2021-08-25T17:57:03.848Z"
   },
   {
    "duration": 35,
    "start_time": "2021-08-25T17:57:03.859Z"
   },
   {
    "duration": 14,
    "start_time": "2021-08-25T17:57:03.895Z"
   },
   {
    "duration": 11,
    "start_time": "2021-08-25T17:57:03.911Z"
   },
   {
    "duration": 16,
    "start_time": "2021-08-25T17:57:03.923Z"
   },
   {
    "duration": 14,
    "start_time": "2021-08-25T17:57:03.940Z"
   },
   {
    "duration": 42,
    "start_time": "2021-08-25T17:57:03.955Z"
   },
   {
    "duration": 15,
    "start_time": "2021-08-25T17:57:03.999Z"
   },
   {
    "duration": 9,
    "start_time": "2021-08-25T17:57:04.016Z"
   },
   {
    "duration": 6,
    "start_time": "2021-08-25T17:57:04.027Z"
   },
   {
    "duration": 57,
    "start_time": "2021-08-25T17:57:04.035Z"
   },
   {
    "duration": 7,
    "start_time": "2021-08-25T17:57:04.094Z"
   },
   {
    "duration": 215,
    "start_time": "2021-08-25T17:57:04.103Z"
   },
   {
    "duration": 9,
    "start_time": "2021-08-25T17:57:04.319Z"
   },
   {
    "duration": 12,
    "start_time": "2021-08-25T17:57:04.330Z"
   },
   {
    "duration": 233,
    "start_time": "2021-08-25T17:57:04.343Z"
   },
   {
    "duration": 215,
    "start_time": "2021-08-25T17:57:04.578Z"
   },
   {
    "duration": 10,
    "start_time": "2021-08-25T17:57:04.795Z"
   },
   {
    "duration": 19,
    "start_time": "2021-08-25T17:57:04.807Z"
   },
   {
    "duration": 18,
    "start_time": "2021-08-25T17:57:04.828Z"
   },
   {
    "duration": 3,
    "start_time": "2021-08-25T17:57:04.848Z"
   },
   {
    "duration": 37,
    "start_time": "2021-08-25T17:57:04.853Z"
   },
   {
    "duration": 61,
    "start_time": "2021-08-25T17:57:04.892Z"
   },
   {
    "duration": 331,
    "start_time": "2021-08-25T17:57:04.955Z"
   },
   {
    "duration": 21,
    "start_time": "2021-08-25T17:57:05.289Z"
   },
   {
    "duration": 11,
    "start_time": "2021-08-25T17:57:05.312Z"
   },
   {
    "duration": 8,
    "start_time": "2021-08-25T17:57:05.324Z"
   },
   {
    "duration": 9,
    "start_time": "2021-08-25T17:57:05.334Z"
   },
   {
    "duration": 67,
    "start_time": "2021-08-25T17:57:05.344Z"
   },
   {
    "duration": 34,
    "start_time": "2021-08-25T17:57:05.413Z"
   },
   {
    "duration": 8,
    "start_time": "2021-08-25T17:57:53.733Z"
   },
   {
    "duration": 7,
    "start_time": "2021-08-25T17:58:03.928Z"
   },
   {
    "duration": 7,
    "start_time": "2021-08-25T17:59:10.636Z"
   },
   {
    "duration": 8,
    "start_time": "2021-08-25T18:02:39.858Z"
   },
   {
    "duration": 8,
    "start_time": "2021-08-25T18:05:41.974Z"
   },
   {
    "duration": 8,
    "start_time": "2021-08-25T18:07:13.031Z"
   },
   {
    "duration": 263,
    "start_time": "2021-08-25T18:09:18.281Z"
   },
   {
    "duration": 6,
    "start_time": "2021-08-25T18:16:14.786Z"
   },
   {
    "duration": 5,
    "start_time": "2021-08-25T18:16:33.727Z"
   },
   {
    "duration": 5,
    "start_time": "2021-08-25T18:16:52.152Z"
   },
   {
    "duration": 25,
    "start_time": "2021-08-25T18:17:24.781Z"
   },
   {
    "duration": 5,
    "start_time": "2021-08-25T18:17:46.328Z"
   },
   {
    "duration": 184,
    "start_time": "2021-08-25T18:20:10.620Z"
   },
   {
    "duration": 5,
    "start_time": "2021-08-25T18:20:21.339Z"
   },
   {
    "duration": 509,
    "start_time": "2021-08-25T18:28:55.713Z"
   },
   {
    "duration": 139,
    "start_time": "2021-08-25T18:29:15.878Z"
   },
   {
    "duration": 7,
    "start_time": "2021-08-25T18:30:19.260Z"
   },
   {
    "duration": 75,
    "start_time": "2021-08-25T18:30:24.163Z"
   },
   {
    "duration": 6,
    "start_time": "2021-08-25T18:30:45.164Z"
   },
   {
    "duration": 24,
    "start_time": "2021-08-25T18:30:54.497Z"
   },
   {
    "duration": 152,
    "start_time": "2021-08-25T18:34:20.329Z"
   },
   {
    "duration": 151,
    "start_time": "2021-08-25T18:35:06.629Z"
   },
   {
    "duration": 153,
    "start_time": "2021-08-25T18:35:15.500Z"
   },
   {
    "duration": 9,
    "start_time": "2021-08-25T18:41:31.434Z"
   },
   {
    "duration": 151,
    "start_time": "2021-08-25T18:43:32.107Z"
   },
   {
    "duration": 181,
    "start_time": "2021-08-25T18:44:03.141Z"
   },
   {
    "duration": 8,
    "start_time": "2021-08-25T18:44:07.636Z"
   },
   {
    "duration": 148,
    "start_time": "2021-08-25T18:44:19.218Z"
   },
   {
    "duration": 4,
    "start_time": "2021-08-25T18:45:11.167Z"
   },
   {
    "duration": 4,
    "start_time": "2021-08-25T18:46:38.114Z"
   },
   {
    "duration": 197,
    "start_time": "2021-08-25T18:49:42.836Z"
   },
   {
    "duration": 271,
    "start_time": "2021-08-25T18:54:47.850Z"
   },
   {
    "duration": 400,
    "start_time": "2021-08-25T18:56:04.605Z"
   },
   {
    "duration": 204,
    "start_time": "2021-08-25T18:57:47.241Z"
   },
   {
    "duration": 205,
    "start_time": "2021-08-25T19:19:52.244Z"
   },
   {
    "duration": 202,
    "start_time": "2021-08-25T19:20:51.024Z"
   },
   {
    "duration": 209,
    "start_time": "2021-08-25T19:21:14.664Z"
   },
   {
    "duration": 206,
    "start_time": "2021-08-25T19:26:21.607Z"
   },
   {
    "duration": 57,
    "start_time": "2021-08-25T19:27:56.737Z"
   },
   {
    "duration": 240,
    "start_time": "2021-08-25T19:28:09.980Z"
   },
   {
    "duration": 63,
    "start_time": "2021-08-25T19:29:17.873Z"
   },
   {
    "duration": 225,
    "start_time": "2021-08-25T19:29:31.428Z"
   },
   {
    "duration": 206,
    "start_time": "2021-08-25T19:29:53.050Z"
   },
   {
    "duration": 57,
    "start_time": "2021-08-25T19:30:20.168Z"
   },
   {
    "duration": 64,
    "start_time": "2021-08-25T19:31:10.774Z"
   },
   {
    "duration": 203,
    "start_time": "2021-08-25T19:31:17.491Z"
   },
   {
    "duration": 707,
    "start_time": "2021-08-25T19:31:31.445Z"
   },
   {
    "duration": 601,
    "start_time": "2021-08-25T19:31:44.316Z"
   },
   {
    "duration": 20,
    "start_time": "2021-08-25T19:31:55.955Z"
   },
   {
    "duration": 196,
    "start_time": "2021-08-25T19:32:50.346Z"
   },
   {
    "duration": 1034,
    "start_time": "2021-08-25T19:33:18.553Z"
   },
   {
    "duration": 2068,
    "start_time": "2021-08-25T19:37:28.550Z"
   },
   {
    "duration": 1731,
    "start_time": "2021-08-25T19:37:40.939Z"
   },
   {
    "duration": 990,
    "start_time": "2021-08-25T19:41:54.766Z"
   },
   {
    "duration": 208,
    "start_time": "2021-08-25T19:43:11.203Z"
   },
   {
    "duration": 227,
    "start_time": "2021-08-25T19:43:29.943Z"
   },
   {
    "duration": 204,
    "start_time": "2021-08-25T19:43:53.842Z"
   },
   {
    "duration": 1484,
    "start_time": "2021-08-25T19:44:14.362Z"
   },
   {
    "duration": 832,
    "start_time": "2021-08-25T19:44:59.126Z"
   },
   {
    "duration": 824,
    "start_time": "2021-08-25T19:46:24.166Z"
   },
   {
    "duration": 714,
    "start_time": "2021-08-25T19:50:54.622Z"
   },
   {
    "duration": 179,
    "start_time": "2021-08-25T19:51:11.862Z"
   },
   {
    "duration": 1036,
    "start_time": "2021-08-25T19:52:03.861Z"
   },
   {
    "duration": 1047,
    "start_time": "2021-08-25T19:52:15.389Z"
   },
   {
    "duration": 1813,
    "start_time": "2021-08-25T19:52:33.060Z"
   },
   {
    "duration": 810,
    "start_time": "2021-08-25T19:53:28.565Z"
   },
   {
    "duration": 1936,
    "start_time": "2021-08-25T19:57:44.509Z"
   },
   {
    "duration": 1715,
    "start_time": "2021-08-25T19:58:02.537Z"
   },
   {
    "duration": 1732,
    "start_time": "2021-08-25T19:58:21.473Z"
   },
   {
    "duration": 228,
    "start_time": "2021-08-26T15:30:24.038Z"
   },
   {
    "duration": 1367,
    "start_time": "2021-08-26T15:30:28.911Z"
   },
   {
    "duration": 116,
    "start_time": "2021-08-26T15:30:30.280Z"
   },
   {
    "duration": 10,
    "start_time": "2021-08-26T15:30:30.398Z"
   },
   {
    "duration": 16,
    "start_time": "2021-08-26T15:30:30.409Z"
   },
   {
    "duration": 16,
    "start_time": "2021-08-26T15:30:30.427Z"
   },
   {
    "duration": 23,
    "start_time": "2021-08-26T15:30:30.445Z"
   },
   {
    "duration": 6,
    "start_time": "2021-08-26T15:30:30.484Z"
   },
   {
    "duration": 34,
    "start_time": "2021-08-26T15:30:30.494Z"
   },
   {
    "duration": 14,
    "start_time": "2021-08-26T15:30:30.530Z"
   },
   {
    "duration": 28,
    "start_time": "2021-08-26T15:30:30.546Z"
   },
   {
    "duration": 27,
    "start_time": "2021-08-26T15:30:30.575Z"
   },
   {
    "duration": 2636,
    "start_time": "2021-08-26T15:30:30.604Z"
   },
   {
    "duration": -618,
    "start_time": "2021-08-26T15:30:33.862Z"
   },
   {
    "duration": -620,
    "start_time": "2021-08-26T15:30:33.865Z"
   },
   {
    "duration": -620,
    "start_time": "2021-08-26T15:30:33.867Z"
   },
   {
    "duration": -621,
    "start_time": "2021-08-26T15:30:33.869Z"
   },
   {
    "duration": -622,
    "start_time": "2021-08-26T15:30:33.871Z"
   },
   {
    "duration": -622,
    "start_time": "2021-08-26T15:30:33.873Z"
   },
   {
    "duration": -624,
    "start_time": "2021-08-26T15:30:33.876Z"
   },
   {
    "duration": -625,
    "start_time": "2021-08-26T15:30:33.878Z"
   },
   {
    "duration": -626,
    "start_time": "2021-08-26T15:30:33.880Z"
   },
   {
    "duration": -626,
    "start_time": "2021-08-26T15:30:33.882Z"
   },
   {
    "duration": -635,
    "start_time": "2021-08-26T15:30:33.892Z"
   },
   {
    "duration": -636,
    "start_time": "2021-08-26T15:30:33.894Z"
   },
   {
    "duration": -637,
    "start_time": "2021-08-26T15:30:33.896Z"
   },
   {
    "duration": -638,
    "start_time": "2021-08-26T15:30:33.898Z"
   },
   {
    "duration": -639,
    "start_time": "2021-08-26T15:30:33.900Z"
   },
   {
    "duration": -640,
    "start_time": "2021-08-26T15:30:33.902Z"
   },
   {
    "duration": -642,
    "start_time": "2021-08-26T15:30:33.904Z"
   },
   {
    "duration": -644,
    "start_time": "2021-08-26T15:30:33.907Z"
   },
   {
    "duration": -646,
    "start_time": "2021-08-26T15:30:33.909Z"
   },
   {
    "duration": -647,
    "start_time": "2021-08-26T15:30:33.911Z"
   },
   {
    "duration": -648,
    "start_time": "2021-08-26T15:30:33.913Z"
   },
   {
    "duration": -649,
    "start_time": "2021-08-26T15:30:33.915Z"
   },
   {
    "duration": -650,
    "start_time": "2021-08-26T15:30:33.917Z"
   },
   {
    "duration": -651,
    "start_time": "2021-08-26T15:30:33.919Z"
   },
   {
    "duration": -652,
    "start_time": "2021-08-26T15:30:33.921Z"
   },
   {
    "duration": -653,
    "start_time": "2021-08-26T15:30:33.923Z"
   },
   {
    "duration": -653,
    "start_time": "2021-08-26T15:30:33.924Z"
   },
   {
    "duration": -656,
    "start_time": "2021-08-26T15:30:33.928Z"
   },
   {
    "duration": -656,
    "start_time": "2021-08-26T15:30:33.930Z"
   },
   {
    "duration": -657,
    "start_time": "2021-08-26T15:30:33.932Z"
   },
   {
    "duration": -658,
    "start_time": "2021-08-26T15:30:33.935Z"
   },
   {
    "duration": -660,
    "start_time": "2021-08-26T15:30:33.938Z"
   },
   {
    "duration": -662,
    "start_time": "2021-08-26T15:30:33.941Z"
   },
   {
    "duration": -663,
    "start_time": "2021-08-26T15:30:33.943Z"
   },
   {
    "duration": -662,
    "start_time": "2021-08-26T15:30:33.946Z"
   },
   {
    "duration": -663,
    "start_time": "2021-08-26T15:30:33.948Z"
   },
   {
    "duration": -664,
    "start_time": "2021-08-26T15:30:33.950Z"
   },
   {
    "duration": -665,
    "start_time": "2021-08-26T15:30:33.952Z"
   },
   {
    "duration": -666,
    "start_time": "2021-08-26T15:30:33.954Z"
   },
   {
    "duration": -666,
    "start_time": "2021-08-26T15:30:33.956Z"
   },
   {
    "duration": -666,
    "start_time": "2021-08-26T15:30:33.957Z"
   },
   {
    "duration": -667,
    "start_time": "2021-08-26T15:30:33.959Z"
   },
   {
    "duration": -668,
    "start_time": "2021-08-26T15:30:33.961Z"
   },
   {
    "duration": -669,
    "start_time": "2021-08-26T15:30:33.963Z"
   },
   {
    "duration": 1845,
    "start_time": "2021-08-26T15:31:21.220Z"
   },
   {
    "duration": 11,
    "start_time": "2021-08-26T15:31:26.890Z"
   },
   {
    "duration": 10,
    "start_time": "2021-08-26T15:33:41.700Z"
   },
   {
    "duration": 3,
    "start_time": "2021-08-26T15:33:48.713Z"
   },
   {
    "duration": 4,
    "start_time": "2021-08-26T15:33:50.082Z"
   },
   {
    "duration": 8,
    "start_time": "2021-08-26T15:33:50.881Z"
   },
   {
    "duration": 13,
    "start_time": "2021-08-26T15:33:52.105Z"
   },
   {
    "duration": 20,
    "start_time": "2021-08-26T15:34:01.058Z"
   },
   {
    "duration": 13,
    "start_time": "2021-08-26T15:34:03.433Z"
   },
   {
    "duration": 8,
    "start_time": "2021-08-26T15:34:07.228Z"
   },
   {
    "duration": 141,
    "start_time": "2021-08-26T15:34:07.896Z"
   },
   {
    "duration": 4,
    "start_time": "2021-08-26T15:34:08.542Z"
   },
   {
    "duration": 6,
    "start_time": "2021-08-26T15:48:59.544Z"
   },
   {
    "duration": 10,
    "start_time": "2021-08-26T15:48:59.762Z"
   },
   {
    "duration": 7,
    "start_time": "2021-08-26T15:49:00.328Z"
   },
   {
    "duration": 10,
    "start_time": "2021-08-26T15:49:05.327Z"
   },
   {
    "duration": 16,
    "start_time": "2021-08-26T15:49:06.235Z"
   },
   {
    "duration": 18,
    "start_time": "2021-08-26T15:49:06.984Z"
   },
   {
    "duration": 10,
    "start_time": "2021-08-26T15:49:07.386Z"
   },
   {
    "duration": 14,
    "start_time": "2021-08-26T15:49:07.922Z"
   },
   {
    "duration": 20,
    "start_time": "2021-08-26T15:49:08.386Z"
   },
   {
    "duration": 18,
    "start_time": "2021-08-26T15:49:09.049Z"
   },
   {
    "duration": 19,
    "start_time": "2021-08-26T15:49:09.561Z"
   },
   {
    "duration": 12,
    "start_time": "2021-08-26T15:49:22.549Z"
   },
   {
    "duration": 8,
    "start_time": "2021-08-26T15:49:23.573Z"
   },
   {
    "duration": 36,
    "start_time": "2021-08-26T15:49:23.953Z"
   },
   {
    "duration": 9,
    "start_time": "2021-08-26T15:49:25.053Z"
   },
   {
    "duration": 5,
    "start_time": "2021-08-26T15:49:27.140Z"
   },
   {
    "duration": 207,
    "start_time": "2021-08-26T15:51:34.903Z"
   },
   {
    "duration": 7,
    "start_time": "2021-08-26T15:51:35.932Z"
   },
   {
    "duration": 9,
    "start_time": "2021-08-26T15:51:42.011Z"
   },
   {
    "duration": 212,
    "start_time": "2021-08-26T15:51:42.193Z"
   },
   {
    "duration": 211,
    "start_time": "2021-08-26T15:51:42.407Z"
   },
   {
    "duration": 11,
    "start_time": "2021-08-26T15:51:42.757Z"
   },
   {
    "duration": 56,
    "start_time": "2021-08-26T16:05:33.761Z"
   },
   {
    "duration": 18,
    "start_time": "2021-08-26T16:06:43.761Z"
   },
   {
    "duration": 21,
    "start_time": "2021-08-26T16:06:45.407Z"
   },
   {
    "duration": 3,
    "start_time": "2021-08-26T16:06:45.662Z"
   },
   {
    "duration": 7,
    "start_time": "2021-08-26T16:06:45.856Z"
   },
   {
    "duration": 52,
    "start_time": "2021-08-26T16:06:46.073Z"
   },
   {
    "duration": 19,
    "start_time": "2021-08-26T16:06:46.971Z"
   },
   {
    "duration": 1694,
    "start_time": "2021-08-26T16:06:47.424Z"
   },
   {
    "duration": 9,
    "start_time": "2021-08-26T16:06:49.120Z"
   },
   {
    "duration": 7,
    "start_time": "2021-08-26T16:06:49.367Z"
   },
   {
    "duration": 9,
    "start_time": "2021-08-26T16:06:49.583Z"
   },
   {
    "duration": 429,
    "start_time": "2021-08-26T16:06:49.792Z"
   },
   {
    "duration": 35,
    "start_time": "2021-08-26T16:06:50.224Z"
   },
   {
    "duration": 268,
    "start_time": "2021-08-26T17:34:06.475Z"
   },
   {
    "duration": 1283,
    "start_time": "2021-08-26T17:34:11.975Z"
   },
   {
    "duration": 75,
    "start_time": "2021-08-26T17:34:13.259Z"
   },
   {
    "duration": 9,
    "start_time": "2021-08-26T17:34:13.336Z"
   },
   {
    "duration": 9,
    "start_time": "2021-08-26T17:34:13.347Z"
   },
   {
    "duration": 13,
    "start_time": "2021-08-26T17:34:13.357Z"
   },
   {
    "duration": 13,
    "start_time": "2021-08-26T17:34:13.371Z"
   },
   {
    "duration": 6,
    "start_time": "2021-08-26T17:34:13.386Z"
   },
   {
    "duration": 19,
    "start_time": "2021-08-26T17:34:13.395Z"
   },
   {
    "duration": 11,
    "start_time": "2021-08-26T17:34:13.416Z"
   },
   {
    "duration": 5,
    "start_time": "2021-08-26T17:34:13.429Z"
   },
   {
    "duration": 16,
    "start_time": "2021-08-26T17:34:13.435Z"
   },
   {
    "duration": 16,
    "start_time": "2021-08-26T17:34:13.452Z"
   },
   {
    "duration": 22,
    "start_time": "2021-08-26T17:34:13.470Z"
   },
   {
    "duration": 7,
    "start_time": "2021-08-26T17:34:13.493Z"
   },
   {
    "duration": 16,
    "start_time": "2021-08-26T17:34:13.502Z"
   },
   {
    "duration": 13,
    "start_time": "2021-08-26T17:34:13.519Z"
   },
   {
    "duration": 21,
    "start_time": "2021-08-26T17:34:13.533Z"
   },
   {
    "duration": 13,
    "start_time": "2021-08-26T17:34:13.556Z"
   },
   {
    "duration": 28,
    "start_time": "2021-08-26T17:34:13.570Z"
   },
   {
    "duration": 162,
    "start_time": "2021-08-26T17:34:13.599Z"
   },
   {
    "duration": 4,
    "start_time": "2021-08-26T17:34:13.762Z"
   },
   {
    "duration": 15,
    "start_time": "2021-08-26T17:34:13.768Z"
   },
   {
    "duration": 9,
    "start_time": "2021-08-26T17:34:13.791Z"
   },
   {
    "duration": 7,
    "start_time": "2021-08-26T17:34:13.802Z"
   },
   {
    "duration": 8,
    "start_time": "2021-08-26T17:34:13.811Z"
   },
   {
    "duration": 12,
    "start_time": "2021-08-26T17:34:13.821Z"
   },
   {
    "duration": 14,
    "start_time": "2021-08-26T17:34:13.834Z"
   },
   {
    "duration": 49,
    "start_time": "2021-08-26T17:34:13.850Z"
   },
   {
    "duration": 15,
    "start_time": "2021-08-26T17:34:13.900Z"
   },
   {
    "duration": 14,
    "start_time": "2021-08-26T17:34:13.916Z"
   },
   {
    "duration": 12,
    "start_time": "2021-08-26T17:34:13.931Z"
   },
   {
    "duration": 17,
    "start_time": "2021-08-26T17:34:13.945Z"
   },
   {
    "duration": 33,
    "start_time": "2021-08-26T17:34:13.964Z"
   },
   {
    "duration": 301,
    "start_time": "2021-08-26T17:34:13.999Z"
   },
   {
    "duration": -3481,
    "start_time": "2021-08-26T17:34:17.783Z"
   },
   {
    "duration": -3485,
    "start_time": "2021-08-26T17:34:17.788Z"
   },
   {
    "duration": -3490,
    "start_time": "2021-08-26T17:34:17.794Z"
   },
   {
    "duration": -3494,
    "start_time": "2021-08-26T17:34:17.799Z"
   },
   {
    "duration": -3498,
    "start_time": "2021-08-26T17:34:17.804Z"
   },
   {
    "duration": -3502,
    "start_time": "2021-08-26T17:34:17.809Z"
   },
   {
    "duration": -3506,
    "start_time": "2021-08-26T17:34:17.814Z"
   },
   {
    "duration": -3510,
    "start_time": "2021-08-26T17:34:17.819Z"
   },
   {
    "duration": -3515,
    "start_time": "2021-08-26T17:34:17.825Z"
   },
   {
    "duration": -3518,
    "start_time": "2021-08-26T17:34:17.829Z"
   },
   {
    "duration": -3523,
    "start_time": "2021-08-26T17:34:17.835Z"
   },
   {
    "duration": -3527,
    "start_time": "2021-08-26T17:34:17.840Z"
   },
   {
    "duration": -3532,
    "start_time": "2021-08-26T17:34:17.846Z"
   },
   {
    "duration": -3536,
    "start_time": "2021-08-26T17:34:17.851Z"
   },
   {
    "duration": -3540,
    "start_time": "2021-08-26T17:34:17.856Z"
   },
   {
    "duration": -3544,
    "start_time": "2021-08-26T17:34:17.861Z"
   },
   {
    "duration": -3548,
    "start_time": "2021-08-26T17:34:17.866Z"
   },
   {
    "duration": -3556,
    "start_time": "2021-08-26T17:34:17.875Z"
   },
   {
    "duration": -3603,
    "start_time": "2021-08-26T17:34:17.922Z"
   },
   {
    "duration": -3607,
    "start_time": "2021-08-26T17:34:17.927Z"
   },
   {
    "duration": -3612,
    "start_time": "2021-08-26T17:34:17.933Z"
   },
   {
    "duration": 246,
    "start_time": "2021-08-26T17:39:57.462Z"
   },
   {
    "duration": 252,
    "start_time": "2021-08-26T17:43:23.176Z"
   },
   {
    "duration": 247,
    "start_time": "2021-08-26T17:43:30.229Z"
   },
   {
    "duration": 63,
    "start_time": "2021-08-26T17:43:30.478Z"
   },
   {
    "duration": 9,
    "start_time": "2021-08-26T17:43:30.543Z"
   },
   {
    "duration": 32,
    "start_time": "2021-08-26T17:43:30.554Z"
   },
   {
    "duration": 17,
    "start_time": "2021-08-26T17:43:30.587Z"
   },
   {
    "duration": 41,
    "start_time": "2021-08-26T17:43:30.605Z"
   },
   {
    "duration": 25,
    "start_time": "2021-08-26T17:43:30.647Z"
   },
   {
    "duration": 33,
    "start_time": "2021-08-26T17:43:30.675Z"
   },
   {
    "duration": 14,
    "start_time": "2021-08-26T17:43:30.709Z"
   },
   {
    "duration": 7,
    "start_time": "2021-08-26T17:43:30.724Z"
   },
   {
    "duration": 35,
    "start_time": "2021-08-26T17:43:30.732Z"
   },
   {
    "duration": 20,
    "start_time": "2021-08-26T17:43:30.769Z"
   },
   {
    "duration": 30,
    "start_time": "2021-08-26T17:43:30.790Z"
   },
   {
    "duration": 25,
    "start_time": "2021-08-26T17:43:30.822Z"
   },
   {
    "duration": 33,
    "start_time": "2021-08-26T17:43:30.848Z"
   },
   {
    "duration": 20,
    "start_time": "2021-08-26T17:43:30.882Z"
   },
   {
    "duration": 36,
    "start_time": "2021-08-26T17:43:30.903Z"
   },
   {
    "duration": 13,
    "start_time": "2021-08-26T17:43:30.941Z"
   },
   {
    "duration": 12,
    "start_time": "2021-08-26T17:43:30.956Z"
   },
   {
    "duration": 143,
    "start_time": "2021-08-26T17:43:30.970Z"
   },
   {
    "duration": 4,
    "start_time": "2021-08-26T17:43:31.115Z"
   },
   {
    "duration": 13,
    "start_time": "2021-08-26T17:43:31.120Z"
   },
   {
    "duration": 13,
    "start_time": "2021-08-26T17:43:31.137Z"
   },
   {
    "duration": 6,
    "start_time": "2021-08-26T17:43:31.152Z"
   },
   {
    "duration": 32,
    "start_time": "2021-08-26T17:43:31.160Z"
   },
   {
    "duration": 13,
    "start_time": "2021-08-26T17:43:31.194Z"
   },
   {
    "duration": 24,
    "start_time": "2021-08-26T17:43:31.209Z"
   },
   {
    "duration": 25,
    "start_time": "2021-08-26T17:43:31.234Z"
   },
   {
    "duration": 19,
    "start_time": "2021-08-26T17:43:31.260Z"
   },
   {
    "duration": 29,
    "start_time": "2021-08-26T17:43:31.281Z"
   },
   {
    "duration": 27,
    "start_time": "2021-08-26T17:43:31.312Z"
   },
   {
    "duration": 35,
    "start_time": "2021-08-26T17:43:31.340Z"
   },
   {
    "duration": 29,
    "start_time": "2021-08-26T17:43:31.377Z"
   },
   {
    "duration": 265,
    "start_time": "2021-08-26T17:43:31.408Z"
   },
   {
    "duration": -3671,
    "start_time": "2021-08-26T17:43:35.346Z"
   },
   {
    "duration": -3676,
    "start_time": "2021-08-26T17:43:35.352Z"
   },
   {
    "duration": -3680,
    "start_time": "2021-08-26T17:43:35.357Z"
   },
   {
    "duration": -3685,
    "start_time": "2021-08-26T17:43:35.362Z"
   },
   {
    "duration": -3689,
    "start_time": "2021-08-26T17:43:35.367Z"
   },
   {
    "duration": -3693,
    "start_time": "2021-08-26T17:43:35.372Z"
   },
   {
    "duration": -3698,
    "start_time": "2021-08-26T17:43:35.378Z"
   },
   {
    "duration": -3701,
    "start_time": "2021-08-26T17:43:35.382Z"
   },
   {
    "duration": -3741,
    "start_time": "2021-08-26T17:43:35.423Z"
   },
   {
    "duration": -3745,
    "start_time": "2021-08-26T17:43:35.428Z"
   },
   {
    "duration": -3750,
    "start_time": "2021-08-26T17:43:35.434Z"
   },
   {
    "duration": -3755,
    "start_time": "2021-08-26T17:43:35.439Z"
   },
   {
    "duration": -3759,
    "start_time": "2021-08-26T17:43:35.444Z"
   },
   {
    "duration": -3763,
    "start_time": "2021-08-26T17:43:35.449Z"
   },
   {
    "duration": -3768,
    "start_time": "2021-08-26T17:43:35.455Z"
   },
   {
    "duration": -3772,
    "start_time": "2021-08-26T17:43:35.460Z"
   },
   {
    "duration": -3776,
    "start_time": "2021-08-26T17:43:35.465Z"
   },
   {
    "duration": -3780,
    "start_time": "2021-08-26T17:43:35.470Z"
   },
   {
    "duration": -3785,
    "start_time": "2021-08-26T17:43:35.475Z"
   },
   {
    "duration": -3789,
    "start_time": "2021-08-26T17:43:35.480Z"
   },
   {
    "duration": -3793,
    "start_time": "2021-08-26T17:43:35.485Z"
   },
   {
    "duration": 8,
    "start_time": "2021-08-26T17:44:13.690Z"
   },
   {
    "duration": 4,
    "start_time": "2021-08-26T17:44:17.713Z"
   },
   {
    "duration": 5,
    "start_time": "2021-08-26T17:44:21.862Z"
   },
   {
    "duration": 11,
    "start_time": "2021-08-26T17:44:24.388Z"
   },
   {
    "duration": 7,
    "start_time": "2021-08-26T17:44:28.489Z"
   },
   {
    "duration": 11,
    "start_time": "2021-08-26T17:44:30.846Z"
   },
   {
    "duration": 12,
    "start_time": "2021-08-26T17:44:33.931Z"
   },
   {
    "duration": 18,
    "start_time": "2021-08-26T17:44:36.577Z"
   },
   {
    "duration": 11,
    "start_time": "2021-08-26T17:44:39.858Z"
   },
   {
    "duration": 14,
    "start_time": "2021-08-26T17:44:42.301Z"
   },
   {
    "duration": 14,
    "start_time": "2021-08-26T17:44:46.230Z"
   },
   {
    "duration": 14,
    "start_time": "2021-08-26T17:44:51.131Z"
   },
   {
    "duration": 10,
    "start_time": "2021-08-26T17:44:55.726Z"
   },
   {
    "duration": 248,
    "start_time": "2021-08-26T17:45:01.530Z"
   },
   {
    "duration": 10,
    "start_time": "2021-08-26T17:47:15.748Z"
   },
   {
    "duration": 7,
    "start_time": "2021-08-26T17:47:27.762Z"
   },
   {
    "duration": 7,
    "start_time": "2021-08-26T17:47:50.113Z"
   },
   {
    "duration": 23,
    "start_time": "2021-08-26T17:48:20.177Z"
   },
   {
    "duration": 7,
    "start_time": "2021-08-26T17:48:23.359Z"
   },
   {
    "duration": 5,
    "start_time": "2021-08-26T17:48:35.967Z"
   },
   {
    "duration": 182,
    "start_time": "2021-08-26T17:48:40.778Z"
   },
   {
    "duration": 8,
    "start_time": "2021-08-26T17:48:49.404Z"
   },
   {
    "duration": 9,
    "start_time": "2021-08-26T17:48:54.159Z"
   },
   {
    "duration": 174,
    "start_time": "2021-08-26T17:48:58.016Z"
   },
   {
    "duration": 179,
    "start_time": "2021-08-26T17:49:01.321Z"
   },
   {
    "duration": 10,
    "start_time": "2021-08-26T17:49:08.166Z"
   },
   {
    "duration": 20,
    "start_time": "2021-08-26T17:49:12.975Z"
   },
   {
    "duration": 22,
    "start_time": "2021-08-26T17:49:18.795Z"
   },
   {
    "duration": 7,
    "start_time": "2021-08-26T17:49:22.795Z"
   },
   {
    "duration": 255,
    "start_time": "2021-08-26T17:49:28.754Z"
   },
   {
    "duration": 235,
    "start_time": "2021-08-26T17:50:12.844Z"
   },
   {
    "duration": 50,
    "start_time": "2021-08-26T17:50:21.513Z"
   },
   {
    "duration": 20,
    "start_time": "2021-08-26T17:50:28.614Z"
   },
   {
    "duration": 1504,
    "start_time": "2021-08-26T17:50:32.901Z"
   },
   {
    "duration": 407,
    "start_time": "2021-08-26T17:53:28.041Z"
   },
   {
    "duration": 256,
    "start_time": "2021-08-26T17:55:19.014Z"
   },
   {
    "duration": 265,
    "start_time": "2021-08-26T17:55:51.524Z"
   },
   {
    "duration": 236,
    "start_time": "2021-08-26T17:56:30.365Z"
   },
   {
    "duration": 167,
    "start_time": "2021-08-26T17:57:18.210Z"
   },
   {
    "duration": 8,
    "start_time": "2021-08-26T17:57:23.009Z"
   },
   {
    "duration": 9,
    "start_time": "2021-08-26T17:57:30.827Z"
   },
   {
    "duration": 176,
    "start_time": "2021-08-26T17:57:34.224Z"
   },
   {
    "duration": 255,
    "start_time": "2021-08-26T17:57:37.286Z"
   },
   {
    "duration": 10,
    "start_time": "2021-08-26T17:57:41.323Z"
   },
   {
    "duration": 18,
    "start_time": "2021-08-26T17:57:46.005Z"
   },
   {
    "duration": 22,
    "start_time": "2021-08-26T17:57:52.436Z"
   },
   {
    "duration": 4,
    "start_time": "2021-08-26T17:57:55.333Z"
   },
   {
    "duration": 6,
    "start_time": "2021-08-26T17:57:57.947Z"
   },
   {
    "duration": 52,
    "start_time": "2021-08-26T17:58:01.781Z"
   },
   {
    "duration": 19,
    "start_time": "2021-08-26T17:58:06.552Z"
   },
   {
    "duration": 1472,
    "start_time": "2021-08-26T17:58:09.878Z"
   },
   {
    "duration": 260,
    "start_time": "2021-08-26T17:58:16.519Z"
   },
   {
    "duration": 49,
    "start_time": "2021-08-26T17:58:30.220Z"
   },
   {
    "duration": 11,
    "start_time": "2021-08-26T17:58:33.034Z"
   },
   {
    "duration": 11,
    "start_time": "2021-08-26T17:58:35.399Z"
   },
   {
    "duration": 13,
    "start_time": "2021-08-26T17:58:38.697Z"
   },
   {
    "duration": 14,
    "start_time": "2021-08-26T17:58:42.348Z"
   },
   {
    "duration": 6,
    "start_time": "2021-08-26T17:58:45.555Z"
   },
   {
    "duration": 24,
    "start_time": "2021-08-26T17:58:49.037Z"
   },
   {
    "duration": 284,
    "start_time": "2021-08-26T17:59:03.559Z"
   },
   {
    "duration": 143,
    "start_time": "2021-08-26T17:59:10.215Z"
   },
   {
    "duration": 42,
    "start_time": "2021-08-26T17:59:10.360Z"
   },
   {
    "duration": 10,
    "start_time": "2021-08-26T17:59:10.404Z"
   },
   {
    "duration": 11,
    "start_time": "2021-08-26T17:59:10.415Z"
   },
   {
    "duration": 15,
    "start_time": "2021-08-26T17:59:10.428Z"
   },
   {
    "duration": 50,
    "start_time": "2021-08-26T17:59:10.445Z"
   },
   {
    "duration": 7,
    "start_time": "2021-08-26T17:59:10.498Z"
   },
   {
    "duration": 24,
    "start_time": "2021-08-26T17:59:10.508Z"
   },
   {
    "duration": 12,
    "start_time": "2021-08-26T17:59:10.535Z"
   },
   {
    "duration": 44,
    "start_time": "2021-08-26T17:59:10.549Z"
   },
   {
    "duration": 15,
    "start_time": "2021-08-26T17:59:10.595Z"
   },
   {
    "duration": 12,
    "start_time": "2021-08-26T17:59:10.612Z"
   },
   {
    "duration": 4,
    "start_time": "2021-08-26T17:59:10.626Z"
   },
   {
    "duration": 7,
    "start_time": "2021-08-26T17:59:10.631Z"
   },
   {
    "duration": 10,
    "start_time": "2021-08-26T17:59:10.639Z"
   },
   {
    "duration": 55,
    "start_time": "2021-08-26T17:59:10.651Z"
   },
   {
    "duration": 20,
    "start_time": "2021-08-26T17:59:10.708Z"
   },
   {
    "duration": 16,
    "start_time": "2021-08-26T17:59:10.730Z"
   },
   {
    "duration": 9,
    "start_time": "2021-08-26T17:59:10.747Z"
   },
   {
    "duration": 178,
    "start_time": "2021-08-26T17:59:10.757Z"
   },
   {
    "duration": 3,
    "start_time": "2021-08-26T17:59:10.937Z"
   },
   {
    "duration": 6,
    "start_time": "2021-08-26T17:59:10.942Z"
   },
   {
    "duration": 10,
    "start_time": "2021-08-26T17:59:10.952Z"
   },
   {
    "duration": 5,
    "start_time": "2021-08-26T17:59:10.964Z"
   },
   {
    "duration": 27,
    "start_time": "2021-08-26T17:59:10.971Z"
   },
   {
    "duration": 11,
    "start_time": "2021-08-26T17:59:11.000Z"
   },
   {
    "duration": 14,
    "start_time": "2021-08-26T17:59:11.012Z"
   },
   {
    "duration": 10,
    "start_time": "2021-08-26T17:59:11.027Z"
   },
   {
    "duration": 15,
    "start_time": "2021-08-26T17:59:11.039Z"
   },
   {
    "duration": 45,
    "start_time": "2021-08-26T17:59:11.056Z"
   },
   {
    "duration": 12,
    "start_time": "2021-08-26T17:59:11.103Z"
   },
   {
    "duration": 14,
    "start_time": "2021-08-26T17:59:11.117Z"
   },
   {
    "duration": 9,
    "start_time": "2021-08-26T17:59:11.133Z"
   },
   {
    "duration": 6,
    "start_time": "2021-08-26T17:59:11.144Z"
   },
   {
    "duration": 61,
    "start_time": "2021-08-26T17:59:11.151Z"
   },
   {
    "duration": 7,
    "start_time": "2021-08-26T17:59:11.213Z"
   },
   {
    "duration": 7,
    "start_time": "2021-08-26T17:59:11.222Z"
   },
   {
    "duration": 214,
    "start_time": "2021-08-26T17:59:11.230Z"
   },
   {
    "duration": 7,
    "start_time": "2021-08-26T17:59:11.445Z"
   },
   {
    "duration": 10,
    "start_time": "2021-08-26T17:59:11.453Z"
   },
   {
    "duration": 297,
    "start_time": "2021-08-26T17:59:11.465Z"
   },
   {
    "duration": 189,
    "start_time": "2021-08-26T17:59:11.764Z"
   },
   {
    "duration": 10,
    "start_time": "2021-08-26T17:59:11.954Z"
   },
   {
    "duration": 32,
    "start_time": "2021-08-26T17:59:11.965Z"
   },
   {
    "duration": 22,
    "start_time": "2021-08-26T17:59:11.999Z"
   },
   {
    "duration": 4,
    "start_time": "2021-08-26T17:59:12.022Z"
   },
   {
    "duration": 7,
    "start_time": "2021-08-26T17:59:12.027Z"
   },
   {
    "duration": 79,
    "start_time": "2021-08-26T17:59:12.035Z"
   },
   {
    "duration": 17,
    "start_time": "2021-08-26T17:59:12.116Z"
   },
   {
    "duration": 1539,
    "start_time": "2021-08-26T17:59:12.135Z"
   },
   {
    "duration": 970,
    "start_time": "2021-08-26T17:59:13.676Z"
   },
   {
    "duration": -3179,
    "start_time": "2021-08-26T17:59:17.827Z"
   },
   {
    "duration": -3187,
    "start_time": "2021-08-26T17:59:17.836Z"
   },
   {
    "duration": -3195,
    "start_time": "2021-08-26T17:59:17.844Z"
   },
   {
    "duration": -3201,
    "start_time": "2021-08-26T17:59:17.851Z"
   },
   {
    "duration": -3208,
    "start_time": "2021-08-26T17:59:17.859Z"
   },
   {
    "duration": 282,
    "start_time": "2021-08-26T17:59:56.475Z"
   },
   {
    "duration": 241,
    "start_time": "2021-08-26T18:06:08.978Z"
   },
   {
    "duration": 47,
    "start_time": "2021-08-26T18:06:12.153Z"
   },
   {
    "duration": 50,
    "start_time": "2021-08-26T18:06:27.361Z"
   },
   {
    "duration": 10,
    "start_time": "2021-08-26T18:06:31.265Z"
   },
   {
    "duration": 11,
    "start_time": "2021-08-26T18:06:33.330Z"
   },
   {
    "duration": 13,
    "start_time": "2021-08-26T18:06:36.164Z"
   },
   {
    "duration": 14,
    "start_time": "2021-08-26T18:06:39.616Z"
   },
   {
    "duration": 5,
    "start_time": "2021-08-26T18:06:44.247Z"
   },
   {
    "duration": 21,
    "start_time": "2021-08-26T18:06:46.896Z"
   },
   {
    "duration": 12,
    "start_time": "2021-08-26T18:06:51.648Z"
   },
   {
    "duration": 5,
    "start_time": "2021-08-26T18:06:55.305Z"
   },
   {
    "duration": 15,
    "start_time": "2021-08-26T18:06:57.707Z"
   },
   {
    "duration": 14,
    "start_time": "2021-08-26T18:07:02.638Z"
   },
   {
    "duration": 3,
    "start_time": "2021-08-26T18:07:08.099Z"
   },
   {
    "duration": 4,
    "start_time": "2021-08-26T18:07:11.403Z"
   },
   {
    "duration": 11,
    "start_time": "2021-08-26T18:07:13.684Z"
   },
   {
    "duration": 13,
    "start_time": "2021-08-26T18:07:19.039Z"
   },
   {
    "duration": 20,
    "start_time": "2021-08-26T18:07:25.031Z"
   },
   {
    "duration": 13,
    "start_time": "2021-08-26T18:07:28.199Z"
   },
   {
    "duration": 9,
    "start_time": "2021-08-26T18:07:34.049Z"
   },
   {
    "duration": 5,
    "start_time": "2021-08-26T18:07:37.983Z"
   },
   {
    "duration": 5,
    "start_time": "2021-08-26T18:07:42.017Z"
   },
   {
    "duration": 8,
    "start_time": "2021-08-26T18:07:44.221Z"
   },
   {
    "duration": 7,
    "start_time": "2021-08-26T18:07:48.915Z"
   },
   {
    "duration": 10,
    "start_time": "2021-08-26T18:07:52.672Z"
   },
   {
    "duration": 13,
    "start_time": "2021-08-26T18:07:55.390Z"
   },
   {
    "duration": 15,
    "start_time": "2021-08-26T18:07:58.982Z"
   },
   {
    "duration": 11,
    "start_time": "2021-08-26T18:08:01.621Z"
   },
   {
    "duration": 13,
    "start_time": "2021-08-26T18:08:03.954Z"
   },
   {
    "duration": 13,
    "start_time": "2021-08-26T18:08:06.706Z"
   },
   {
    "duration": 11,
    "start_time": "2021-08-26T18:08:09.162Z"
   },
   {
    "duration": 14,
    "start_time": "2021-08-26T18:08:13.297Z"
   },
   {
    "duration": 9,
    "start_time": "2021-08-26T18:08:19.880Z"
   },
   {
    "duration": 6,
    "start_time": "2021-08-26T18:08:25.655Z"
   },
   {
    "duration": 22,
    "start_time": "2021-08-26T18:08:29.822Z"
   },
   {
    "duration": 6,
    "start_time": "2021-08-26T18:08:34.182Z"
   },
   {
    "duration": 5,
    "start_time": "2021-08-26T18:08:37.191Z"
   },
   {
    "duration": 169,
    "start_time": "2021-08-26T18:08:40.829Z"
   },
   {
    "duration": 8,
    "start_time": "2021-08-26T18:08:45.811Z"
   },
   {
    "duration": 14,
    "start_time": "2021-08-26T18:08:49.793Z"
   },
   {
    "duration": 450,
    "start_time": "2021-08-26T18:08:53.474Z"
   },
   {
    "duration": 173,
    "start_time": "2021-08-26T18:08:57.049Z"
   },
   {
    "duration": 10,
    "start_time": "2021-08-26T18:09:01.612Z"
   },
   {
    "duration": 21,
    "start_time": "2021-08-26T18:09:06.011Z"
   },
   {
    "duration": 19,
    "start_time": "2021-08-26T18:09:10.957Z"
   },
   {
    "duration": 3,
    "start_time": "2021-08-26T18:09:15.685Z"
   },
   {
    "duration": 6,
    "start_time": "2021-08-26T18:09:18.275Z"
   },
   {
    "duration": 58,
    "start_time": "2021-08-26T18:09:21.845Z"
   },
   {
    "duration": 26,
    "start_time": "2021-08-26T18:09:26.344Z"
   },
   {
    "duration": 1422,
    "start_time": "2021-08-26T18:09:31.234Z"
   },
   {
    "duration": 76,
    "start_time": "2021-08-26T18:10:28.826Z"
   },
   {
    "duration": 267,
    "start_time": "2021-08-26T18:10:41.417Z"
   },
   {
    "duration": 396,
    "start_time": "2021-08-26T18:10:55.201Z"
   },
   {
    "duration": 83,
    "start_time": "2021-08-26T18:16:23.799Z"
   },
   {
    "duration": 252,
    "start_time": "2021-08-26T18:16:50.648Z"
   },
   {
    "duration": 279,
    "start_time": "2021-08-26T18:17:24.203Z"
   },
   {
    "duration": 236,
    "start_time": "2021-08-26T18:18:43.455Z"
   },
   {
    "duration": 233,
    "start_time": "2021-08-26T18:19:50.965Z"
   },
   {
    "duration": 507,
    "start_time": "2021-08-26T18:20:22.962Z"
   },
   {
    "duration": 431,
    "start_time": "2021-08-26T18:21:12.414Z"
   },
   {
    "duration": 264,
    "start_time": "2021-08-26T18:22:19.462Z"
   },
   {
    "duration": 262,
    "start_time": "2021-08-26T18:23:32.312Z"
   },
   {
    "duration": 1404,
    "start_time": "2021-08-26T18:24:01.398Z"
   },
   {
    "duration": 532,
    "start_time": "2021-08-26T18:24:08.683Z"
   },
   {
    "duration": 499,
    "start_time": "2021-08-26T18:25:17.534Z"
   },
   {
    "duration": 370,
    "start_time": "2021-08-26T18:26:02.958Z"
   },
   {
    "duration": 522,
    "start_time": "2021-08-26T18:26:32.450Z"
   },
   {
    "duration": 266,
    "start_time": "2021-08-26T18:28:14.414Z"
   },
   {
    "duration": 87,
    "start_time": "2021-08-26T18:30:32.450Z"
   },
   {
    "duration": 117,
    "start_time": "2021-08-26T18:30:48.037Z"
   },
   {
    "duration": 334,
    "start_time": "2021-08-26T18:30:55.029Z"
   },
   {
    "duration": 619,
    "start_time": "2021-08-26T18:33:07.023Z"
   },
   {
    "duration": 512,
    "start_time": "2021-08-26T18:33:40.005Z"
   },
   {
    "duration": 978,
    "start_time": "2021-08-26T18:33:55.562Z"
   },
   {
    "duration": 1628,
    "start_time": "2021-08-26T18:34:33.864Z"
   },
   {
    "duration": 52,
    "start_time": "2021-08-26T18:36:19.829Z"
   },
   {
    "duration": 498,
    "start_time": "2021-08-26T18:36:30.093Z"
   },
   {
    "duration": 760,
    "start_time": "2021-08-26T18:36:58.903Z"
   },
   {
    "duration": 6572,
    "start_time": "2021-08-26T18:37:35.567Z"
   },
   {
    "duration": 410,
    "start_time": "2021-08-26T18:37:51.244Z"
   },
   {
    "duration": 407,
    "start_time": "2021-08-26T18:38:26.898Z"
   },
   {
    "duration": 670,
    "start_time": "2021-08-26T18:43:40.959Z"
   },
   {
    "duration": -3223,
    "start_time": "2021-08-26T18:44:15.965Z"
   },
   {
    "duration": 6178,
    "start_time": "2021-08-26T18:44:21.541Z"
   },
   {
    "duration": 6213,
    "start_time": "2021-08-26T18:45:27.186Z"
   },
   {
    "duration": 6057,
    "start_time": "2021-08-26T18:45:33.982Z"
   },
   {
    "duration": 85,
    "start_time": "2021-08-26T18:48:27.270Z"
   },
   {
    "duration": 6003,
    "start_time": "2021-08-26T18:49:29.587Z"
   },
   {
    "duration": 5774,
    "start_time": "2021-08-26T18:55:17.060Z"
   },
   {
    "duration": 183,
    "start_time": "2021-08-26T19:08:07.588Z"
   },
   {
    "duration": 5712,
    "start_time": "2021-08-26T19:11:43.422Z"
   },
   {
    "duration": 6139,
    "start_time": "2021-08-26T19:13:05.545Z"
   },
   {
    "duration": 173,
    "start_time": "2021-08-26T19:14:07.772Z"
   },
   {
    "duration": 186,
    "start_time": "2021-08-26T19:15:43.386Z"
   },
   {
    "duration": 174,
    "start_time": "2021-08-26T19:18:38.491Z"
   },
   {
    "duration": 7369,
    "start_time": "2021-08-26T19:23:38.382Z"
   },
   {
    "duration": 312,
    "start_time": "2021-08-26T19:24:14.936Z"
   },
   {
    "duration": 184,
    "start_time": "2021-08-26T19:24:34.538Z"
   },
   {
    "duration": 343,
    "start_time": "2021-08-26T19:36:09.049Z"
   },
   {
    "duration": 442,
    "start_time": "2021-08-26T19:42:21.098Z"
   },
   {
    "duration": 384,
    "start_time": "2021-08-26T19:49:07.934Z"
   },
   {
    "duration": 236,
    "start_time": "2021-08-26T19:49:57.039Z"
   },
   {
    "duration": 401,
    "start_time": "2021-08-26T19:50:10.269Z"
   },
   {
    "duration": 232,
    "start_time": "2021-08-26T19:50:34.991Z"
   },
   {
    "duration": 222,
    "start_time": "2021-08-26T19:51:34.719Z"
   },
   {
    "duration": 232,
    "start_time": "2021-08-26T19:53:38.691Z"
   },
   {
    "duration": 249,
    "start_time": "2021-08-26T19:54:17.011Z"
   },
   {
    "duration": 302,
    "start_time": "2021-08-27T11:21:07.293Z"
   },
   {
    "duration": -807,
    "start_time": "2021-08-27T11:21:08.404Z"
   },
   {
    "duration": 558,
    "start_time": "2021-08-27T11:21:07.625Z"
   },
   {
    "duration": -773,
    "start_time": "2021-08-27T11:21:08.958Z"
   },
   {
    "duration": -781,
    "start_time": "2021-08-27T11:21:08.967Z"
   },
   {
    "duration": 1378,
    "start_time": "2021-08-27T11:21:14.718Z"
   },
   {
    "duration": 55,
    "start_time": "2021-08-27T11:21:16.098Z"
   },
   {
    "duration": 12,
    "start_time": "2021-08-27T11:21:16.155Z"
   },
   {
    "duration": 18,
    "start_time": "2021-08-27T11:21:16.169Z"
   },
   {
    "duration": 20,
    "start_time": "2021-08-27T11:21:16.189Z"
   },
   {
    "duration": 18,
    "start_time": "2021-08-27T11:21:16.210Z"
   },
   {
    "duration": 6,
    "start_time": "2021-08-27T11:21:16.230Z"
   },
   {
    "duration": 29,
    "start_time": "2021-08-27T11:21:16.239Z"
   },
   {
    "duration": 32,
    "start_time": "2021-08-27T11:21:16.270Z"
   },
   {
    "duration": 6,
    "start_time": "2021-08-27T11:21:16.304Z"
   },
   {
    "duration": 17,
    "start_time": "2021-08-27T11:21:16.312Z"
   },
   {
    "duration": 24,
    "start_time": "2021-08-27T11:21:16.331Z"
   },
   {
    "duration": 3,
    "start_time": "2021-08-27T11:21:16.357Z"
   },
   {
    "duration": 32,
    "start_time": "2021-08-27T11:21:16.361Z"
   },
   {
    "duration": 17,
    "start_time": "2021-08-27T11:21:16.395Z"
   },
   {
    "duration": 14,
    "start_time": "2021-08-27T11:21:16.414Z"
   },
   {
    "duration": 24,
    "start_time": "2021-08-27T11:21:16.430Z"
   },
   {
    "duration": 14,
    "start_time": "2021-08-27T11:21:16.456Z"
   },
   {
    "duration": 9,
    "start_time": "2021-08-27T11:21:16.492Z"
   },
   {
    "duration": 167,
    "start_time": "2021-08-27T11:21:16.502Z"
   },
   {
    "duration": 5,
    "start_time": "2021-08-27T11:21:16.671Z"
   },
   {
    "duration": 19,
    "start_time": "2021-08-27T11:21:16.677Z"
   },
   {
    "duration": 24,
    "start_time": "2021-08-27T11:21:16.701Z"
   },
   {
    "duration": 9,
    "start_time": "2021-08-27T11:21:16.727Z"
   },
   {
    "duration": 11,
    "start_time": "2021-08-27T11:21:16.738Z"
   },
   {
    "duration": 18,
    "start_time": "2021-08-27T11:21:16.751Z"
   },
   {
    "duration": 36,
    "start_time": "2021-08-27T11:21:16.770Z"
   },
   {
    "duration": 17,
    "start_time": "2021-08-27T11:21:16.807Z"
   },
   {
    "duration": 20,
    "start_time": "2021-08-27T11:21:16.826Z"
   },
   {
    "duration": 15,
    "start_time": "2021-08-27T11:21:16.847Z"
   },
   {
    "duration": 34,
    "start_time": "2021-08-27T11:21:16.864Z"
   },
   {
    "duration": 16,
    "start_time": "2021-08-27T11:21:16.900Z"
   },
   {
    "duration": 10,
    "start_time": "2021-08-27T11:21:16.918Z"
   },
   {
    "duration": 9,
    "start_time": "2021-08-27T11:21:16.929Z"
   },
   {
    "duration": 64,
    "start_time": "2021-08-27T11:21:16.940Z"
   },
   {
    "duration": 8,
    "start_time": "2021-08-27T11:21:17.005Z"
   },
   {
    "duration": 6,
    "start_time": "2021-08-27T11:21:17.015Z"
   },
   {
    "duration": 235,
    "start_time": "2021-08-27T11:21:17.023Z"
   },
   {
    "duration": 8,
    "start_time": "2021-08-27T11:21:17.259Z"
   },
   {
    "duration": 28,
    "start_time": "2021-08-27T11:21:17.269Z"
   },
   {
    "duration": 212,
    "start_time": "2021-08-27T11:21:17.299Z"
   },
   {
    "duration": 206,
    "start_time": "2021-08-27T11:21:17.513Z"
   },
   {
    "duration": 11,
    "start_time": "2021-08-27T11:21:17.721Z"
   },
   {
    "duration": 23,
    "start_time": "2021-08-27T11:21:17.734Z"
   },
   {
    "duration": 41,
    "start_time": "2021-08-27T11:21:17.759Z"
   },
   {
    "duration": 3,
    "start_time": "2021-08-27T11:21:17.802Z"
   },
   {
    "duration": 17,
    "start_time": "2021-08-27T11:21:17.807Z"
   },
   {
    "duration": 78,
    "start_time": "2021-08-27T11:21:17.826Z"
   },
   {
    "duration": 21,
    "start_time": "2021-08-27T11:21:17.906Z"
   },
   {
    "duration": 292,
    "start_time": "2021-08-27T11:21:17.929Z"
   },
   {
    "duration": 11,
    "start_time": "2021-08-27T11:21:18.224Z"
   },
   {
    "duration": 7,
    "start_time": "2021-08-27T11:21:18.237Z"
   },
   {
    "duration": 20,
    "start_time": "2021-08-27T11:21:18.246Z"
   },
   {
    "duration": 735,
    "start_time": "2021-08-27T11:21:18.268Z"
   },
   {
    "duration": 39,
    "start_time": "2021-08-27T11:21:19.005Z"
   }
  ],
  "colab": {
   "name": "DA+. Сборный проект 1. Шаблон (1).ipynb",
   "provenance": []
  },
  "kernelspec": {
   "display_name": "Python 3",
   "language": "python",
   "name": "python3"
  },
  "language_info": {
   "codemirror_mode": {
    "name": "ipython",
    "version": 3
   },
   "file_extension": ".py",
   "mimetype": "text/x-python",
   "name": "python",
   "nbconvert_exporter": "python",
   "pygments_lexer": "ipython3",
   "version": "3.8.8"
  },
  "toc": {
   "base_numbering": 1,
   "nav_menu": {},
   "number_sections": true,
   "sideBar": true,
   "skip_h1_title": true,
   "title_cell": "Table of Contents",
   "title_sidebar": "Contents",
   "toc_cell": false,
   "toc_position": {
    "height": "calc(100% - 180px)",
    "left": "10px",
    "top": "150px",
    "width": "241.375px"
   },
   "toc_section_display": true,
   "toc_window_display": true
  }
 },
 "nbformat": 4,
 "nbformat_minor": 1
}
