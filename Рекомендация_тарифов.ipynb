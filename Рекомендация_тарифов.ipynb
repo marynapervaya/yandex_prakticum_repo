{
 "cells": [
  {
   "cell_type": "markdown",
   "metadata": {},
   "source": [
    "# Рекомендация тарифов"
   ]
  },
  {
   "cell_type": "markdown",
   "metadata": {},
   "source": [
    "В вашем распоряжении данные о поведении клиентов, которые уже перешли на эти тарифы (из проекта курса «Статистический анализ данных»). Нужно построить модель для задачи классификации, которая выберет подходящий тариф. Предобработка данных не понадобится — вы её уже сделали.\n",
    "\n",
    "Постройте модель с максимально большим значением *accuracy*. Чтобы сдать проект успешно, нужно довести долю правильных ответов по крайней мере до 0.75. Проверьте *accuracy* на тестовой выборке самостоятельно.  \n",
    "\n",
    "Цель исследования:построить модель для задачи классификации, которая выберет подходящий тариф\n",
    "\n",
    "Ход исследования:\n",
    "Данные представлены в файле /datasets/users_behavior.csv. О качестве данных известно, что обзор данных не понадобится, так как предобработка уже была сделана. \n",
    "\n",
    "Таким образом, исследование пройдет в 5 шагов:\n",
    "1. Разбить данные на выборки\n",
    "2. Исследовать модели\n",
    "3. Проверить модель на тестовой выборке\n",
    "4. Проверить модель на адекватность\n",
    "5. Общий вывод\n"
   ]
  },
  {
   "cell_type": "markdown",
   "metadata": {},
   "source": [
    "## Откройте и изучите файл"
   ]
  },
  {
   "cell_type": "code",
   "execution_count": 32,
   "metadata": {},
   "outputs": [],
   "source": [
    "import pandas as pd# импортируем библиотеку, стандартно используется имя pd\n",
    "\n",
    "import matplotlib.pyplot as plt# импортируем библиотеку, стандартно используется имя plt\n",
    "\n",
    "import seaborn as sns# импортируем библиотеку, стандартно используется имя sns\n",
    "\n",
    "import numpy as np# импортируем библиотеку, стандартно используется имя np\n",
    "\n",
    "from sklearn.tree import DecisionTreeClassifier#импортируем алгоритм  DecisionTreeClassifier\n",
    "\n",
    "from sklearn.ensemble import RandomForestClassifier#импортируем алгоритм RandomForestClassifier\n",
    "\n",
    "from sklearn.linear_model import LogisticRegression#импортируем алгоритм LogisticRegression\n",
    "\n",
    "from sklearn.model_selection import train_test_split# импортируйте функцию train_test_split из библиотеки sklearn\n",
    "\n",
    "from sklearn.metrics import accuracy_score#импортируем метрическую функцию accuracy_score\n",
    "\n",
    "from sklearn.dummy import DummyClassifier\n",
    "\n",
    "from sklearn.model_selection import RandomizedSearchCV"
   ]
  },
  {
   "cell_type": "code",
   "execution_count": 33,
   "metadata": {
    "scrolled": true
   },
   "outputs": [
    {
     "data": {
      "text/html": [
       "<div>\n",
       "<style scoped>\n",
       "    .dataframe tbody tr th:only-of-type {\n",
       "        vertical-align: middle;\n",
       "    }\n",
       "\n",
       "    .dataframe tbody tr th {\n",
       "        vertical-align: top;\n",
       "    }\n",
       "\n",
       "    .dataframe thead th {\n",
       "        text-align: right;\n",
       "    }\n",
       "</style>\n",
       "<table border=\"1\" class=\"dataframe\">\n",
       "  <thead>\n",
       "    <tr style=\"text-align: right;\">\n",
       "      <th></th>\n",
       "      <th>calls</th>\n",
       "      <th>minutes</th>\n",
       "      <th>messages</th>\n",
       "      <th>mb_used</th>\n",
       "      <th>is_ultra</th>\n",
       "    </tr>\n",
       "  </thead>\n",
       "  <tbody>\n",
       "    <tr>\n",
       "      <td>3212</td>\n",
       "      <td>64.0</td>\n",
       "      <td>462.32</td>\n",
       "      <td>90.0</td>\n",
       "      <td>31239.78</td>\n",
       "      <td>0</td>\n",
       "    </tr>\n",
       "    <tr>\n",
       "      <td>3213</td>\n",
       "      <td>80.0</td>\n",
       "      <td>566.09</td>\n",
       "      <td>6.0</td>\n",
       "      <td>29480.52</td>\n",
       "      <td>1</td>\n",
       "    </tr>\n",
       "  </tbody>\n",
       "</table>\n",
       "</div>"
      ],
      "text/plain": [
       "      calls  minutes  messages   mb_used  is_ultra\n",
       "3212   64.0   462.32      90.0  31239.78         0\n",
       "3213   80.0   566.09       6.0  29480.52         1"
      ]
     },
     "metadata": {},
     "output_type": "display_data"
    },
    {
     "data": {
      "text/plain": [
       "(3214, 5)"
      ]
     },
     "execution_count": 33,
     "metadata": {},
     "output_type": "execute_result"
    }
   ],
   "source": [
    "df = pd.read_csv('https://code.s3.yandex.net/datasets/users_behavior.csv')# Чтение данных из файла\n",
    "display(df.tail(2))#выводим последние строки на экран\n",
    "df.shape"
   ]
  },
  {
   "cell_type": "markdown",
   "metadata": {},
   "source": [
    "***Вывод***  \n",
    "Итак, в представленных данных 5 столбцов.   \n",
    "Данные содержат информацию о количестве звонков и сообщений, минутах разговоров, а также о количестве мегабайт использованного трафика пользователей каждого тарифа.  \n",
    "Предварительно можно утверждать, что данных достаточно для построения модели для задачи классификации, которая выберет подходящий тариф.  \n",
    "Поскольку в описании проекта написано: \"Предобработка данных не понадобится — вы её уже сделали\", было принято решение не исследовать данные."
   ]
  },
  {
   "cell_type": "markdown",
   "metadata": {},
   "source": [
    "## Разбейте данные на выборки"
   ]
  },
  {
   "cell_type": "markdown",
   "metadata": {},
   "source": [
    "Разобьем данные на 3 выборки : тренировочную, валидационную и тестовую, в соотношении 3:1:1. Для этого выделим сначала тренировочную выборку, с размером train_size = 0.6. Оствшуюся выборку разобьем на 2 равных части: валидационную и тестовую."
   ]
  },
  {
   "cell_type": "code",
   "execution_count": 34,
   "metadata": {
    "scrolled": true
   },
   "outputs": [
    {
     "name": "stdout",
     "output_type": "stream",
     "text": [
      "(1286, 4)\n",
      "(1286,)\n",
      "(964, 4)\n",
      "(964,)\n",
      "(964, 4)\n",
      "(964,)\n"
     ]
    }
   ],
   "source": [
    "df_common, df_train = train_test_split(df, train_size = 0.6, random_state=12345)# < разделим данные на обучающую>\n",
    "df_test, df_valid = train_test_split(df_common, test_size = 0.5, random_state=12345)# < разделим данные на тестовую и валидационную выборки >\n",
    "# < создадим переменные для признаков и целевого признака >\n",
    "features_train = df_train.drop(['is_ultra'], axis=1)\n",
    "target_train = df_train['is_ultra']\n",
    "features_valid = df_valid.drop(['is_ultra'], axis=1)# <  >\n",
    "target_valid = df_valid['is_ultra']# < >\n",
    "features_test = df_valid.drop(['is_ultra'], axis=1)# <  >\n",
    "target_test = df_valid['is_ultra']# < >\n",
    "print(features_train.shape)\n",
    "print(target_train.shape)\n",
    "print(features_valid.shape)\n",
    "print(target_valid.shape)\n",
    "print(features_test.shape)\n",
    "print(target_test.shape)"
   ]
  },
  {
   "cell_type": "markdown",
   "metadata": {},
   "source": [
    "## Исследуйте модели"
   ]
  },
  {
   "cell_type": "code",
   "execution_count": 35,
   "metadata": {},
   "outputs": [
    {
     "name": "stdout",
     "output_type": "stream",
     "text": [
      "Accuracy лучшей модели: 0.8018672199170125 Максимальная глубина: 4\n"
     ]
    }
   ],
   "source": [
    "table_decision_tree = pd.DataFrame({'model_name':[],'accuracy':[], 'type':[]})\n",
    "best_result_dtc = 0\n",
    "best_depth_dtc = 0\n",
    "for depth_dtc in range(1, 6):\n",
    "    model_dtc = DecisionTreeClassifier(random_state=12345, max_depth= depth_dtc) \n",
    "    # обучим модель с заданной глубиной дерева\n",
    "    model_dtc.fit(features_train, target_train) # обучите модель\n",
    "    predictions_valid_dtc = model_dtc.predict(features_valid) # получим предсказания модели\n",
    "    result_dtc = accuracy_score(target_valid, predictions_valid_dtc) # посчитаем качество модели\n",
    "    dictionary={'model_name':'decision_tree', 'accuracy':result_dtc, 'type':depth_dtc}\n",
    "    table_decision_tree = table_decision_tree.append(dictionary, ignore_index=True)\n",
    "    if result_dtc > best_result_dtc:\n",
    "        best_model_dtc = model_dtc\n",
    "        best_result_dtc = result_dtc\n",
    "        best_depth_dtc = depth_dtc\n",
    "print(\"Accuracy лучшей модели:\", best_result_dtc, \"Максимальная глубина:\",  best_depth_dtc)"
   ]
  },
  {
   "cell_type": "code",
   "execution_count": 45,
   "metadata": {},
   "outputs": [
    {
     "name": "stdout",
     "output_type": "stream",
     "text": [
      "Fitting 4 folds for each of 80 candidates, totalling 320 fits\n",
      "[CV] n_estimators=30, min_samples_split=5, min_samples_leaf=8, max_features=None, max_depth=8, criterion=gini \n",
      "[CV]  n_estimators=30, min_samples_split=5, min_samples_leaf=8, max_features=None, max_depth=8, criterion=gini, score=0.798, total=   0.1s\n",
      "[CV] n_estimators=30, min_samples_split=5, min_samples_leaf=8, max_features=None, max_depth=8, criterion=gini \n",
      "[CV]  n_estimators=30, min_samples_split=5, min_samples_leaf=8, max_features=None, max_depth=8, criterion=gini, score=0.807, total=   0.1s\n",
      "[CV] n_estimators=30, min_samples_split=5, min_samples_leaf=8, max_features=None, max_depth=8, criterion=gini \n"
     ]
    },
    {
     "name": "stderr",
     "output_type": "stream",
     "text": [
      "[Parallel(n_jobs=-1)]: Using backend SequentialBackend with 1 concurrent workers.\n",
      "[Parallel(n_jobs=-1)]: Done   1 out of   1 | elapsed:    0.1s remaining:    0.0s\n",
      "[Parallel(n_jobs=-1)]: Done   2 out of   2 | elapsed:    0.1s remaining:    0.0s\n"
     ]
    },
    {
     "name": "stdout",
     "output_type": "stream",
     "text": [
      "[CV]  n_estimators=30, min_samples_split=5, min_samples_leaf=8, max_features=None, max_depth=8, criterion=gini, score=0.757, total=   0.1s\n",
      "[CV] n_estimators=30, min_samples_split=5, min_samples_leaf=8, max_features=None, max_depth=8, criterion=gini \n",
      "[CV]  n_estimators=30, min_samples_split=5, min_samples_leaf=8, max_features=None, max_depth=8, criterion=gini, score=0.769, total=   0.1s\n",
      "[CV] n_estimators=30, min_samples_split=7, min_samples_leaf=8, max_features=auto, max_depth=1, criterion=gini \n",
      "[CV]  n_estimators=30, min_samples_split=7, min_samples_leaf=8, max_features=auto, max_depth=1, criterion=gini, score=0.752, total=   0.0s\n",
      "[CV] n_estimators=30, min_samples_split=7, min_samples_leaf=8, max_features=auto, max_depth=1, criterion=gini \n",
      "[CV]  n_estimators=30, min_samples_split=7, min_samples_leaf=8, max_features=auto, max_depth=1, criterion=gini, score=0.773, total=   0.0s\n",
      "[CV] n_estimators=30, min_samples_split=7, min_samples_leaf=8, max_features=auto, max_depth=1, criterion=gini \n",
      "[CV]  n_estimators=30, min_samples_split=7, min_samples_leaf=8, max_features=auto, max_depth=1, criterion=gini, score=0.751, total=   0.0s\n",
      "[CV] n_estimators=30, min_samples_split=7, min_samples_leaf=8, max_features=auto, max_depth=1, criterion=gini \n"
     ]
    },
    {
     "name": "stderr",
     "output_type": "stream",
     "text": [
      "[Parallel(n_jobs=-1)]: Done   3 out of   3 | elapsed:    0.2s remaining:    0.0s\n",
      "[Parallel(n_jobs=-1)]: Done   4 out of   4 | elapsed:    0.3s remaining:    0.0s\n"
     ]
    },
    {
     "name": "stdout",
     "output_type": "stream",
     "text": [
      "[CV]  n_estimators=30, min_samples_split=7, min_samples_leaf=8, max_features=auto, max_depth=1, criterion=gini, score=0.776, total=   0.0s\n",
      "[CV] n_estimators=50, min_samples_split=14, min_samples_leaf=8, max_features=log2, max_depth=7, criterion=entropy \n",
      "[CV]  n_estimators=50, min_samples_split=14, min_samples_leaf=8, max_features=log2, max_depth=7, criterion=entropy, score=0.786, total=   0.1s\n",
      "[CV] n_estimators=50, min_samples_split=14, min_samples_leaf=8, max_features=log2, max_depth=7, criterion=entropy \n",
      "[CV]  n_estimators=50, min_samples_split=14, min_samples_leaf=8, max_features=log2, max_depth=7, criterion=entropy, score=0.811, total=   0.1s\n",
      "[CV] n_estimators=50, min_samples_split=14, min_samples_leaf=8, max_features=log2, max_depth=7, criterion=entropy \n",
      "[CV]  n_estimators=50, min_samples_split=14, min_samples_leaf=8, max_features=log2, max_depth=7, criterion=entropy, score=0.769, total=   0.1s\n",
      "[CV] n_estimators=50, min_samples_split=14, min_samples_leaf=8, max_features=log2, max_depth=7, criterion=entropy \n",
      "[CV]  n_estimators=50, min_samples_split=14, min_samples_leaf=8, max_features=log2, max_depth=7, criterion=entropy, score=0.782, total=   0.1s\n",
      "[CV] n_estimators=40, min_samples_split=14, min_samples_leaf=6, max_features=sqrt, max_depth=5, criterion=gini \n",
      "[CV]  n_estimators=40, min_samples_split=14, min_samples_leaf=6, max_features=sqrt, max_depth=5, criterion=gini, score=0.792, total=   0.1s\n",
      "[CV] n_estimators=40, min_samples_split=14, min_samples_leaf=6, max_features=sqrt, max_depth=5, criterion=gini \n",
      "[CV]  n_estimators=40, min_samples_split=14, min_samples_leaf=6, max_features=sqrt, max_depth=5, criterion=gini, score=0.807, total=   0.1s\n",
      "[CV] n_estimators=40, min_samples_split=14, min_samples_leaf=6, max_features=sqrt, max_depth=5, criterion=gini \n",
      "[CV]  n_estimators=40, min_samples_split=14, min_samples_leaf=6, max_features=sqrt, max_depth=5, criterion=gini, score=0.779, total=   0.1s\n",
      "[CV] n_estimators=40, min_samples_split=14, min_samples_leaf=6, max_features=sqrt, max_depth=5, criterion=gini \n",
      "[CV]  n_estimators=40, min_samples_split=14, min_samples_leaf=6, max_features=sqrt, max_depth=5, criterion=gini, score=0.776, total=   0.1s\n",
      "[CV] n_estimators=30, min_samples_split=7, min_samples_leaf=6, max_features=auto, max_depth=4, criterion=entropy \n",
      "[CV]  n_estimators=30, min_samples_split=7, min_samples_leaf=6, max_features=auto, max_depth=4, criterion=entropy, score=0.786, total=   0.1s\n",
      "[CV] n_estimators=30, min_samples_split=7, min_samples_leaf=6, max_features=auto, max_depth=4, criterion=entropy \n",
      "[CV]  n_estimators=30, min_samples_split=7, min_samples_leaf=6, max_features=auto, max_depth=4, criterion=entropy, score=0.811, total=   0.1s\n",
      "[CV] n_estimators=30, min_samples_split=7, min_samples_leaf=6, max_features=auto, max_depth=4, criterion=entropy \n",
      "[CV]  n_estimators=30, min_samples_split=7, min_samples_leaf=6, max_features=auto, max_depth=4, criterion=entropy, score=0.779, total=   0.1s\n",
      "[CV] n_estimators=30, min_samples_split=7, min_samples_leaf=6, max_features=auto, max_depth=4, criterion=entropy \n",
      "[CV]  n_estimators=30, min_samples_split=7, min_samples_leaf=6, max_features=auto, max_depth=4, criterion=entropy, score=0.779, total=   0.0s\n",
      "[CV] n_estimators=30, min_samples_split=10, min_samples_leaf=6, max_features=auto, max_depth=7, criterion=gini \n",
      "[CV]  n_estimators=30, min_samples_split=10, min_samples_leaf=6, max_features=auto, max_depth=7, criterion=gini, score=0.792, total=   0.1s\n",
      "[CV] n_estimators=30, min_samples_split=10, min_samples_leaf=6, max_features=auto, max_depth=7, criterion=gini \n",
      "[CV]  n_estimators=30, min_samples_split=10, min_samples_leaf=6, max_features=auto, max_depth=7, criterion=gini, score=0.811, total=   0.0s\n",
      "[CV] n_estimators=30, min_samples_split=10, min_samples_leaf=6, max_features=auto, max_depth=7, criterion=gini \n",
      "[CV]  n_estimators=30, min_samples_split=10, min_samples_leaf=6, max_features=auto, max_depth=7, criterion=gini, score=0.766, total=   0.1s\n",
      "[CV] n_estimators=30, min_samples_split=10, min_samples_leaf=6, max_features=auto, max_depth=7, criterion=gini \n",
      "[CV]  n_estimators=30, min_samples_split=10, min_samples_leaf=6, max_features=auto, max_depth=7, criterion=gini, score=0.773, total=   0.1s\n",
      "[CV] n_estimators=20, min_samples_split=10, min_samples_leaf=6, max_features=auto, max_depth=1, criterion=gini \n",
      "[CV]  n_estimators=20, min_samples_split=10, min_samples_leaf=6, max_features=auto, max_depth=1, criterion=gini, score=0.752, total=   0.0s\n",
      "[CV] n_estimators=20, min_samples_split=10, min_samples_leaf=6, max_features=auto, max_depth=1, criterion=gini \n",
      "[CV]  n_estimators=20, min_samples_split=10, min_samples_leaf=6, max_features=auto, max_depth=1, criterion=gini, score=0.776, total=   0.0s\n",
      "[CV] n_estimators=20, min_samples_split=10, min_samples_leaf=6, max_features=auto, max_depth=1, criterion=gini \n",
      "[CV]  n_estimators=20, min_samples_split=10, min_samples_leaf=6, max_features=auto, max_depth=1, criterion=gini, score=0.748, total=   0.0s\n",
      "[CV] n_estimators=20, min_samples_split=10, min_samples_leaf=6, max_features=auto, max_depth=1, criterion=gini \n",
      "[CV]  n_estimators=20, min_samples_split=10, min_samples_leaf=6, max_features=auto, max_depth=1, criterion=gini, score=0.735, total=   0.0s\n",
      "[CV] n_estimators=30, min_samples_split=7, min_samples_leaf=8, max_features=sqrt, max_depth=9, criterion=gini \n",
      "[CV]  n_estimators=30, min_samples_split=7, min_samples_leaf=8, max_features=sqrt, max_depth=9, criterion=gini, score=0.795, total=   0.1s\n",
      "[CV] n_estimators=30, min_samples_split=7, min_samples_leaf=8, max_features=sqrt, max_depth=9, criterion=gini \n",
      "[CV]  n_estimators=30, min_samples_split=7, min_samples_leaf=8, max_features=sqrt, max_depth=9, criterion=gini, score=0.820, total=   0.1s\n",
      "[CV] n_estimators=30, min_samples_split=7, min_samples_leaf=8, max_features=sqrt, max_depth=9, criterion=gini \n",
      "[CV]  n_estimators=30, min_samples_split=7, min_samples_leaf=8, max_features=sqrt, max_depth=9, criterion=gini, score=0.766, total=   0.1s\n",
      "[CV] n_estimators=30, min_samples_split=7, min_samples_leaf=8, max_features=sqrt, max_depth=9, criterion=gini \n",
      "[CV]  n_estimators=30, min_samples_split=7, min_samples_leaf=8, max_features=sqrt, max_depth=9, criterion=gini, score=0.779, total=   0.1s\n",
      "[CV] n_estimators=20, min_samples_split=5, min_samples_leaf=8, max_features=None, max_depth=None, criterion=gini \n",
      "[CV]  n_estimators=20, min_samples_split=5, min_samples_leaf=8, max_features=None, max_depth=None, criterion=gini, score=0.795, total=   0.1s\n",
      "[CV] n_estimators=20, min_samples_split=5, min_samples_leaf=8, max_features=None, max_depth=None, criterion=gini \n",
      "[CV]  n_estimators=20, min_samples_split=5, min_samples_leaf=8, max_features=None, max_depth=None, criterion=gini, score=0.789, total=   0.1s\n",
      "[CV] n_estimators=20, min_samples_split=5, min_samples_leaf=8, max_features=None, max_depth=None, criterion=gini \n",
      "[CV]  n_estimators=20, min_samples_split=5, min_samples_leaf=8, max_features=None, max_depth=None, criterion=gini, score=0.779, total=   0.1s\n",
      "[CV] n_estimators=20, min_samples_split=5, min_samples_leaf=8, max_features=None, max_depth=None, criterion=gini \n",
      "[CV]  n_estimators=20, min_samples_split=5, min_samples_leaf=8, max_features=None, max_depth=None, criterion=gini, score=0.763, total=   0.1s\n",
      "[CV] n_estimators=20, min_samples_split=5, min_samples_leaf=6, max_features=auto, max_depth=None, criterion=entropy \n",
      "[CV]  n_estimators=20, min_samples_split=5, min_samples_leaf=6, max_features=auto, max_depth=None, criterion=entropy, score=0.789, total=   0.0s\n",
      "[CV] n_estimators=20, min_samples_split=5, min_samples_leaf=6, max_features=auto, max_depth=None, criterion=entropy \n",
      "[CV]  n_estimators=20, min_samples_split=5, min_samples_leaf=6, max_features=auto, max_depth=None, criterion=entropy, score=0.807, total=   0.0s\n",
      "[CV] n_estimators=20, min_samples_split=5, min_samples_leaf=6, max_features=auto, max_depth=None, criterion=entropy \n",
      "[CV]  n_estimators=20, min_samples_split=5, min_samples_leaf=6, max_features=auto, max_depth=None, criterion=entropy, score=0.776, total=   0.0s\n",
      "[CV] n_estimators=20, min_samples_split=5, min_samples_leaf=6, max_features=auto, max_depth=None, criterion=entropy \n",
      "[CV]  n_estimators=20, min_samples_split=5, min_samples_leaf=6, max_features=auto, max_depth=None, criterion=entropy, score=0.779, total=   0.0s\n",
      "[CV] n_estimators=50, min_samples_split=5, min_samples_leaf=12, max_features=log2, max_depth=3, criterion=entropy \n",
      "[CV]  n_estimators=50, min_samples_split=5, min_samples_leaf=12, max_features=log2, max_depth=3, criterion=entropy, score=0.773, total=   0.1s\n",
      "[CV] n_estimators=50, min_samples_split=5, min_samples_leaf=12, max_features=log2, max_depth=3, criterion=entropy \n",
      "[CV]  n_estimators=50, min_samples_split=5, min_samples_leaf=12, max_features=log2, max_depth=3, criterion=entropy, score=0.814, total=   0.1s\n",
      "[CV] n_estimators=50, min_samples_split=5, min_samples_leaf=12, max_features=log2, max_depth=3, criterion=entropy \n",
      "[CV]  n_estimators=50, min_samples_split=5, min_samples_leaf=12, max_features=log2, max_depth=3, criterion=entropy, score=0.782, total=   0.1s\n",
      "[CV] n_estimators=50, min_samples_split=5, min_samples_leaf=12, max_features=log2, max_depth=3, criterion=entropy \n",
      "[CV]  n_estimators=50, min_samples_split=5, min_samples_leaf=12, max_features=log2, max_depth=3, criterion=entropy, score=0.769, total=   0.1s\n",
      "[CV] n_estimators=50, min_samples_split=7, min_samples_leaf=4, max_features=auto, max_depth=10, criterion=gini \n",
      "[CV]  n_estimators=50, min_samples_split=7, min_samples_leaf=4, max_features=auto, max_depth=10, criterion=gini, score=0.798, total=   0.1s\n",
      "[CV] n_estimators=50, min_samples_split=7, min_samples_leaf=4, max_features=auto, max_depth=10, criterion=gini \n",
      "[CV]  n_estimators=50, min_samples_split=7, min_samples_leaf=4, max_features=auto, max_depth=10, criterion=gini, score=0.801, total=   0.1s\n",
      "[CV] n_estimators=50, min_samples_split=7, min_samples_leaf=4, max_features=auto, max_depth=10, criterion=gini \n",
      "[CV]  n_estimators=50, min_samples_split=7, min_samples_leaf=4, max_features=auto, max_depth=10, criterion=gini, score=0.776, total=   0.1s\n",
      "[CV] n_estimators=50, min_samples_split=7, min_samples_leaf=4, max_features=auto, max_depth=10, criterion=gini \n",
      "[CV]  n_estimators=50, min_samples_split=7, min_samples_leaf=4, max_features=auto, max_depth=10, criterion=gini, score=0.791, total=   0.1s\n",
      "[CV] n_estimators=40, min_samples_split=14, min_samples_leaf=12, max_features=sqrt, max_depth=6, criterion=entropy \n",
      "[CV]  n_estimators=40, min_samples_split=14, min_samples_leaf=12, max_features=sqrt, max_depth=6, criterion=entropy, score=0.792, total=   0.1s\n",
      "[CV] n_estimators=40, min_samples_split=14, min_samples_leaf=12, max_features=sqrt, max_depth=6, criterion=entropy \n",
      "[CV]  n_estimators=40, min_samples_split=14, min_samples_leaf=12, max_features=sqrt, max_depth=6, criterion=entropy, score=0.811, total=   0.1s\n",
      "[CV] n_estimators=40, min_samples_split=14, min_samples_leaf=12, max_features=sqrt, max_depth=6, criterion=entropy \n",
      "[CV]  n_estimators=40, min_samples_split=14, min_samples_leaf=12, max_features=sqrt, max_depth=6, criterion=entropy, score=0.788, total=   0.1s\n",
      "[CV] n_estimators=40, min_samples_split=14, min_samples_leaf=12, max_features=sqrt, max_depth=6, criterion=entropy \n",
      "[CV]  n_estimators=40, min_samples_split=14, min_samples_leaf=12, max_features=sqrt, max_depth=6, criterion=entropy, score=0.769, total=   0.1s\n",
      "[CV] n_estimators=40, min_samples_split=14, min_samples_leaf=8, max_features=sqrt, max_depth=10, criterion=entropy \n",
      "[CV]  n_estimators=40, min_samples_split=14, min_samples_leaf=8, max_features=sqrt, max_depth=10, criterion=entropy, score=0.776, total=   0.1s\n",
      "[CV] n_estimators=40, min_samples_split=14, min_samples_leaf=8, max_features=sqrt, max_depth=10, criterion=entropy \n",
      "[CV]  n_estimators=40, min_samples_split=14, min_samples_leaf=8, max_features=sqrt, max_depth=10, criterion=entropy, score=0.811, total=   0.1s\n",
      "[CV] n_estimators=40, min_samples_split=14, min_samples_leaf=8, max_features=sqrt, max_depth=10, criterion=entropy \n",
      "[CV]  n_estimators=40, min_samples_split=14, min_samples_leaf=8, max_features=sqrt, max_depth=10, criterion=entropy, score=0.763, total=   0.1s\n",
      "[CV] n_estimators=40, min_samples_split=14, min_samples_leaf=8, max_features=sqrt, max_depth=10, criterion=entropy \n",
      "[CV]  n_estimators=40, min_samples_split=14, min_samples_leaf=8, max_features=sqrt, max_depth=10, criterion=entropy, score=0.782, total=   0.1s\n",
      "[CV] n_estimators=40, min_samples_split=14, min_samples_leaf=6, max_features=auto, max_depth=8, criterion=entropy \n",
      "[CV]  n_estimators=40, min_samples_split=14, min_samples_leaf=6, max_features=auto, max_depth=8, criterion=entropy, score=0.798, total=   0.1s\n",
      "[CV] n_estimators=40, min_samples_split=14, min_samples_leaf=6, max_features=auto, max_depth=8, criterion=entropy \n",
      "[CV]  n_estimators=40, min_samples_split=14, min_samples_leaf=6, max_features=auto, max_depth=8, criterion=entropy, score=0.811, total=   0.1s\n",
      "[CV] n_estimators=40, min_samples_split=14, min_samples_leaf=6, max_features=auto, max_depth=8, criterion=entropy \n",
      "[CV]  n_estimators=40, min_samples_split=14, min_samples_leaf=6, max_features=auto, max_depth=8, criterion=entropy, score=0.763, total=   0.1s\n",
      "[CV] n_estimators=40, min_samples_split=14, min_samples_leaf=6, max_features=auto, max_depth=8, criterion=entropy \n",
      "[CV]  n_estimators=40, min_samples_split=14, min_samples_leaf=6, max_features=auto, max_depth=8, criterion=entropy, score=0.773, total=   0.1s\n",
      "[CV] n_estimators=20, min_samples_split=5, min_samples_leaf=4, max_features=auto, max_depth=9, criterion=entropy \n",
      "[CV]  n_estimators=20, min_samples_split=5, min_samples_leaf=4, max_features=auto, max_depth=9, criterion=entropy, score=0.786, total=   0.0s\n",
      "[CV] n_estimators=20, min_samples_split=5, min_samples_leaf=4, max_features=auto, max_depth=9, criterion=entropy \n",
      "[CV]  n_estimators=20, min_samples_split=5, min_samples_leaf=4, max_features=auto, max_depth=9, criterion=entropy, score=0.811, total=   0.0s\n",
      "[CV] n_estimators=20, min_samples_split=5, min_samples_leaf=4, max_features=auto, max_depth=9, criterion=entropy \n",
      "[CV]  n_estimators=20, min_samples_split=5, min_samples_leaf=4, max_features=auto, max_depth=9, criterion=entropy, score=0.763, total=   0.0s\n",
      "[CV] n_estimators=20, min_samples_split=5, min_samples_leaf=4, max_features=auto, max_depth=9, criterion=entropy \n",
      "[CV]  n_estimators=20, min_samples_split=5, min_samples_leaf=4, max_features=auto, max_depth=9, criterion=entropy, score=0.785, total=   0.0s\n",
      "[CV] n_estimators=30, min_samples_split=10, min_samples_leaf=8, max_features=auto, max_depth=6, criterion=entropy \n",
      "[CV]  n_estimators=30, min_samples_split=10, min_samples_leaf=8, max_features=auto, max_depth=6, criterion=entropy, score=0.786, total=   0.1s\n",
      "[CV] n_estimators=30, min_samples_split=10, min_samples_leaf=8, max_features=auto, max_depth=6, criterion=entropy \n",
      "[CV]  n_estimators=30, min_samples_split=10, min_samples_leaf=8, max_features=auto, max_depth=6, criterion=entropy, score=0.814, total=   0.1s\n",
      "[CV] n_estimators=30, min_samples_split=10, min_samples_leaf=8, max_features=auto, max_depth=6, criterion=entropy \n",
      "[CV]  n_estimators=30, min_samples_split=10, min_samples_leaf=8, max_features=auto, max_depth=6, criterion=entropy, score=0.760, total=   0.1s\n",
      "[CV] n_estimators=30, min_samples_split=10, min_samples_leaf=8, max_features=auto, max_depth=6, criterion=entropy \n",
      "[CV]  n_estimators=30, min_samples_split=10, min_samples_leaf=8, max_features=auto, max_depth=6, criterion=entropy, score=0.776, total=   0.1s\n",
      "[CV] n_estimators=40, min_samples_split=7, min_samples_leaf=6, max_features=sqrt, max_depth=10, criterion=entropy \n",
      "[CV]  n_estimators=40, min_samples_split=7, min_samples_leaf=6, max_features=sqrt, max_depth=10, criterion=entropy, score=0.792, total=   0.1s\n",
      "[CV] n_estimators=40, min_samples_split=7, min_samples_leaf=6, max_features=sqrt, max_depth=10, criterion=entropy \n",
      "[CV]  n_estimators=40, min_samples_split=7, min_samples_leaf=6, max_features=sqrt, max_depth=10, criterion=entropy, score=0.807, total=   0.1s\n",
      "[CV] n_estimators=40, min_samples_split=7, min_samples_leaf=6, max_features=sqrt, max_depth=10, criterion=entropy \n",
      "[CV]  n_estimators=40, min_samples_split=7, min_samples_leaf=6, max_features=sqrt, max_depth=10, criterion=entropy, score=0.763, total=   0.1s\n",
      "[CV] n_estimators=40, min_samples_split=7, min_samples_leaf=6, max_features=sqrt, max_depth=10, criterion=entropy \n",
      "[CV]  n_estimators=40, min_samples_split=7, min_samples_leaf=6, max_features=sqrt, max_depth=10, criterion=entropy, score=0.785, total=   0.1s\n",
      "[CV] n_estimators=20, min_samples_split=7, min_samples_leaf=12, max_features=log2, max_depth=None, criterion=gini \n",
      "[CV]  n_estimators=20, min_samples_split=7, min_samples_leaf=12, max_features=log2, max_depth=None, criterion=gini, score=0.786, total=   0.0s\n",
      "[CV] n_estimators=20, min_samples_split=7, min_samples_leaf=12, max_features=log2, max_depth=None, criterion=gini \n",
      "[CV]  n_estimators=20, min_samples_split=7, min_samples_leaf=12, max_features=log2, max_depth=None, criterion=gini, score=0.798, total=   0.0s\n",
      "[CV] n_estimators=20, min_samples_split=7, min_samples_leaf=12, max_features=log2, max_depth=None, criterion=gini \n",
      "[CV]  n_estimators=20, min_samples_split=7, min_samples_leaf=12, max_features=log2, max_depth=None, criterion=gini, score=0.766, total=   0.0s\n",
      "[CV] n_estimators=20, min_samples_split=7, min_samples_leaf=12, max_features=log2, max_depth=None, criterion=gini \n",
      "[CV]  n_estimators=20, min_samples_split=7, min_samples_leaf=12, max_features=log2, max_depth=None, criterion=gini, score=0.769, total=   0.0s\n",
      "[CV] n_estimators=10, min_samples_split=5, min_samples_leaf=12, max_features=None, max_depth=1, criterion=gini \n",
      "[CV]  n_estimators=10, min_samples_split=5, min_samples_leaf=12, max_features=None, max_depth=1, criterion=gini, score=0.745, total=   0.0s\n",
      "[CV] n_estimators=10, min_samples_split=5, min_samples_leaf=12, max_features=None, max_depth=1, criterion=gini \n",
      "[CV]  n_estimators=10, min_samples_split=5, min_samples_leaf=12, max_features=None, max_depth=1, criterion=gini, score=0.770, total=   0.0s\n",
      "[CV] n_estimators=10, min_samples_split=5, min_samples_leaf=12, max_features=None, max_depth=1, criterion=gini \n",
      "[CV]  n_estimators=10, min_samples_split=5, min_samples_leaf=12, max_features=None, max_depth=1, criterion=gini, score=0.741, total=   0.0s\n",
      "[CV] n_estimators=10, min_samples_split=5, min_samples_leaf=12, max_features=None, max_depth=1, criterion=gini \n",
      "[CV]  n_estimators=10, min_samples_split=5, min_samples_leaf=12, max_features=None, max_depth=1, criterion=gini, score=0.741, total=   0.0s\n",
      "[CV] n_estimators=40, min_samples_split=14, min_samples_leaf=4, max_features=auto, max_depth=8, criterion=gini \n",
      "[CV]  n_estimators=40, min_samples_split=14, min_samples_leaf=4, max_features=auto, max_depth=8, criterion=gini, score=0.798, total=   0.1s\n",
      "[CV] n_estimators=40, min_samples_split=14, min_samples_leaf=4, max_features=auto, max_depth=8, criterion=gini \n",
      "[CV]  n_estimators=40, min_samples_split=14, min_samples_leaf=4, max_features=auto, max_depth=8, criterion=gini, score=0.801, total=   0.1s\n",
      "[CV] n_estimators=40, min_samples_split=14, min_samples_leaf=4, max_features=auto, max_depth=8, criterion=gini \n",
      "[CV]  n_estimators=40, min_samples_split=14, min_samples_leaf=4, max_features=auto, max_depth=8, criterion=gini, score=0.782, total=   0.1s\n",
      "[CV] n_estimators=40, min_samples_split=14, min_samples_leaf=4, max_features=auto, max_depth=8, criterion=gini \n",
      "[CV]  n_estimators=40, min_samples_split=14, min_samples_leaf=4, max_features=auto, max_depth=8, criterion=gini, score=0.785, total=   0.1s\n",
      "[CV] n_estimators=10, min_samples_split=14, min_samples_leaf=8, max_features=None, max_depth=1, criterion=entropy \n",
      "[CV]  n_estimators=10, min_samples_split=14, min_samples_leaf=8, max_features=None, max_depth=1, criterion=entropy, score=0.745, total=   0.0s\n",
      "[CV] n_estimators=10, min_samples_split=14, min_samples_leaf=8, max_features=None, max_depth=1, criterion=entropy \n",
      "[CV]  n_estimators=10, min_samples_split=14, min_samples_leaf=8, max_features=None, max_depth=1, criterion=entropy, score=0.776, total=   0.0s\n",
      "[CV] n_estimators=10, min_samples_split=14, min_samples_leaf=8, max_features=None, max_depth=1, criterion=entropy \n",
      "[CV]  n_estimators=10, min_samples_split=14, min_samples_leaf=8, max_features=None, max_depth=1, criterion=entropy, score=0.741, total=   0.0s\n",
      "[CV] n_estimators=10, min_samples_split=14, min_samples_leaf=8, max_features=None, max_depth=1, criterion=entropy \n",
      "[CV]  n_estimators=10, min_samples_split=14, min_samples_leaf=8, max_features=None, max_depth=1, criterion=entropy, score=0.735, total=   0.0s\n",
      "[CV] n_estimators=20, min_samples_split=14, min_samples_leaf=8, max_features=None, max_depth=10, criterion=entropy \n",
      "[CV]  n_estimators=20, min_samples_split=14, min_samples_leaf=8, max_features=None, max_depth=10, criterion=entropy, score=0.798, total=   0.1s\n",
      "[CV] n_estimators=20, min_samples_split=14, min_samples_leaf=8, max_features=None, max_depth=10, criterion=entropy \n",
      "[CV]  n_estimators=20, min_samples_split=14, min_samples_leaf=8, max_features=None, max_depth=10, criterion=entropy, score=0.798, total=   0.1s\n",
      "[CV] n_estimators=20, min_samples_split=14, min_samples_leaf=8, max_features=None, max_depth=10, criterion=entropy \n",
      "[CV]  n_estimators=20, min_samples_split=14, min_samples_leaf=8, max_features=None, max_depth=10, criterion=entropy, score=0.773, total=   0.1s\n",
      "[CV] n_estimators=20, min_samples_split=14, min_samples_leaf=8, max_features=None, max_depth=10, criterion=entropy \n",
      "[CV]  n_estimators=20, min_samples_split=14, min_samples_leaf=8, max_features=None, max_depth=10, criterion=entropy, score=0.782, total=   0.1s\n",
      "[CV] n_estimators=30, min_samples_split=14, min_samples_leaf=6, max_features=auto, max_depth=5, criterion=entropy \n",
      "[CV]  n_estimators=30, min_samples_split=14, min_samples_leaf=6, max_features=auto, max_depth=5, criterion=entropy, score=0.786, total=   0.1s\n",
      "[CV] n_estimators=30, min_samples_split=14, min_samples_leaf=6, max_features=auto, max_depth=5, criterion=entropy \n",
      "[CV]  n_estimators=30, min_samples_split=14, min_samples_leaf=6, max_features=auto, max_depth=5, criterion=entropy, score=0.817, total=   0.0s\n",
      "[CV] n_estimators=30, min_samples_split=14, min_samples_leaf=6, max_features=auto, max_depth=5, criterion=entropy \n",
      "[CV]  n_estimators=30, min_samples_split=14, min_samples_leaf=6, max_features=auto, max_depth=5, criterion=entropy, score=0.782, total=   0.1s\n",
      "[CV] n_estimators=30, min_samples_split=14, min_samples_leaf=6, max_features=auto, max_depth=5, criterion=entropy \n",
      "[CV]  n_estimators=30, min_samples_split=14, min_samples_leaf=6, max_features=auto, max_depth=5, criterion=entropy, score=0.773, total=   0.1s\n",
      "[CV] n_estimators=50, min_samples_split=7, min_samples_leaf=8, max_features=auto, max_depth=7, criterion=entropy \n",
      "[CV]  n_estimators=50, min_samples_split=7, min_samples_leaf=8, max_features=auto, max_depth=7, criterion=entropy, score=0.798, total=   0.1s\n",
      "[CV] n_estimators=50, min_samples_split=7, min_samples_leaf=8, max_features=auto, max_depth=7, criterion=entropy \n",
      "[CV]  n_estimators=50, min_samples_split=7, min_samples_leaf=8, max_features=auto, max_depth=7, criterion=entropy, score=0.814, total=   0.1s\n",
      "[CV] n_estimators=50, min_samples_split=7, min_samples_leaf=8, max_features=auto, max_depth=7, criterion=entropy \n",
      "[CV]  n_estimators=50, min_samples_split=7, min_samples_leaf=8, max_features=auto, max_depth=7, criterion=entropy, score=0.773, total=   0.1s\n",
      "[CV] n_estimators=50, min_samples_split=7, min_samples_leaf=8, max_features=auto, max_depth=7, criterion=entropy \n",
      "[CV]  n_estimators=50, min_samples_split=7, min_samples_leaf=8, max_features=auto, max_depth=7, criterion=entropy, score=0.782, total=   0.1s\n",
      "[CV] n_estimators=10, min_samples_split=10, min_samples_leaf=12, max_features=sqrt, max_depth=None, criterion=gini \n",
      "[CV]  n_estimators=10, min_samples_split=10, min_samples_leaf=12, max_features=sqrt, max_depth=None, criterion=gini, score=0.786, total=   0.0s\n",
      "[CV] n_estimators=10, min_samples_split=10, min_samples_leaf=12, max_features=sqrt, max_depth=None, criterion=gini \n",
      "[CV]  n_estimators=10, min_samples_split=10, min_samples_leaf=12, max_features=sqrt, max_depth=None, criterion=gini, score=0.807, total=   0.0s\n",
      "[CV] n_estimators=10, min_samples_split=10, min_samples_leaf=12, max_features=sqrt, max_depth=None, criterion=gini \n",
      "[CV]  n_estimators=10, min_samples_split=10, min_samples_leaf=12, max_features=sqrt, max_depth=None, criterion=gini, score=0.751, total=   0.0s\n",
      "[CV] n_estimators=10, min_samples_split=10, min_samples_leaf=12, max_features=sqrt, max_depth=None, criterion=gini \n",
      "[CV]  n_estimators=10, min_samples_split=10, min_samples_leaf=12, max_features=sqrt, max_depth=None, criterion=gini, score=0.773, total=   0.0s\n",
      "[CV] n_estimators=10, min_samples_split=5, min_samples_leaf=4, max_features=sqrt, max_depth=2, criterion=entropy \n",
      "[CV]  n_estimators=10, min_samples_split=5, min_samples_leaf=4, max_features=sqrt, max_depth=2, criterion=entropy, score=0.776, total=   0.0s\n",
      "[CV] n_estimators=10, min_samples_split=5, min_samples_leaf=4, max_features=sqrt, max_depth=2, criterion=entropy \n",
      "[CV]  n_estimators=10, min_samples_split=5, min_samples_leaf=4, max_features=sqrt, max_depth=2, criterion=entropy, score=0.811, total=   0.0s\n",
      "[CV] n_estimators=10, min_samples_split=5, min_samples_leaf=4, max_features=sqrt, max_depth=2, criterion=entropy \n",
      "[CV]  n_estimators=10, min_samples_split=5, min_samples_leaf=4, max_features=sqrt, max_depth=2, criterion=entropy, score=0.757, total=   0.0s\n",
      "[CV] n_estimators=10, min_samples_split=5, min_samples_leaf=4, max_features=sqrt, max_depth=2, criterion=entropy \n",
      "[CV]  n_estimators=10, min_samples_split=5, min_samples_leaf=4, max_features=sqrt, max_depth=2, criterion=entropy, score=0.748, total=   0.0s\n",
      "[CV] n_estimators=10, min_samples_split=10, min_samples_leaf=4, max_features=auto, max_depth=2, criterion=gini \n",
      "[CV]  n_estimators=10, min_samples_split=10, min_samples_leaf=4, max_features=auto, max_depth=2, criterion=gini, score=0.776, total=   0.0s\n",
      "[CV] n_estimators=10, min_samples_split=10, min_samples_leaf=4, max_features=auto, max_depth=2, criterion=gini \n",
      "[CV]  n_estimators=10, min_samples_split=10, min_samples_leaf=4, max_features=auto, max_depth=2, criterion=gini, score=0.817, total=   0.0s\n",
      "[CV] n_estimators=10, min_samples_split=10, min_samples_leaf=4, max_features=auto, max_depth=2, criterion=gini \n",
      "[CV]  n_estimators=10, min_samples_split=10, min_samples_leaf=4, max_features=auto, max_depth=2, criterion=gini, score=0.779, total=   0.0s\n",
      "[CV] n_estimators=10, min_samples_split=10, min_samples_leaf=4, max_features=auto, max_depth=2, criterion=gini \n",
      "[CV]  n_estimators=10, min_samples_split=10, min_samples_leaf=4, max_features=auto, max_depth=2, criterion=gini, score=0.766, total=   0.0s\n",
      "[CV] n_estimators=30, min_samples_split=14, min_samples_leaf=4, max_features=auto, max_depth=1, criterion=gini \n",
      "[CV]  n_estimators=30, min_samples_split=14, min_samples_leaf=4, max_features=auto, max_depth=1, criterion=gini, score=0.745, total=   0.0s\n",
      "[CV] n_estimators=30, min_samples_split=14, min_samples_leaf=4, max_features=auto, max_depth=1, criterion=gini \n",
      "[CV]  n_estimators=30, min_samples_split=14, min_samples_leaf=4, max_features=auto, max_depth=1, criterion=gini, score=0.780, total=   0.0s\n",
      "[CV] n_estimators=30, min_samples_split=14, min_samples_leaf=4, max_features=auto, max_depth=1, criterion=gini \n",
      "[CV]  n_estimators=30, min_samples_split=14, min_samples_leaf=4, max_features=auto, max_depth=1, criterion=gini, score=0.751, total=   0.0s\n",
      "[CV] n_estimators=30, min_samples_split=14, min_samples_leaf=4, max_features=auto, max_depth=1, criterion=gini \n",
      "[CV]  n_estimators=30, min_samples_split=14, min_samples_leaf=4, max_features=auto, max_depth=1, criterion=gini, score=0.735, total=   0.0s\n",
      "[CV] n_estimators=50, min_samples_split=14, min_samples_leaf=6, max_features=auto, max_depth=1, criterion=gini \n",
      "[CV]  n_estimators=50, min_samples_split=14, min_samples_leaf=6, max_features=auto, max_depth=1, criterion=gini, score=0.745, total=   0.1s\n",
      "[CV] n_estimators=50, min_samples_split=14, min_samples_leaf=6, max_features=auto, max_depth=1, criterion=gini \n",
      "[CV]  n_estimators=50, min_samples_split=14, min_samples_leaf=6, max_features=auto, max_depth=1, criterion=gini, score=0.780, total=   0.1s\n",
      "[CV] n_estimators=50, min_samples_split=14, min_samples_leaf=6, max_features=auto, max_depth=1, criterion=gini \n",
      "[CV]  n_estimators=50, min_samples_split=14, min_samples_leaf=6, max_features=auto, max_depth=1, criterion=gini, score=0.751, total=   0.1s\n",
      "[CV] n_estimators=50, min_samples_split=14, min_samples_leaf=6, max_features=auto, max_depth=1, criterion=gini \n",
      "[CV]  n_estimators=50, min_samples_split=14, min_samples_leaf=6, max_features=auto, max_depth=1, criterion=gini, score=0.732, total=   0.1s\n",
      "[CV] n_estimators=30, min_samples_split=14, min_samples_leaf=8, max_features=None, max_depth=5, criterion=entropy \n",
      "[CV]  n_estimators=30, min_samples_split=14, min_samples_leaf=8, max_features=None, max_depth=5, criterion=entropy, score=0.795, total=   0.1s\n",
      "[CV] n_estimators=30, min_samples_split=14, min_samples_leaf=8, max_features=None, max_depth=5, criterion=entropy \n",
      "[CV]  n_estimators=30, min_samples_split=14, min_samples_leaf=8, max_features=None, max_depth=5, criterion=entropy, score=0.811, total=   0.1s\n",
      "[CV] n_estimators=30, min_samples_split=14, min_samples_leaf=8, max_features=None, max_depth=5, criterion=entropy \n",
      "[CV]  n_estimators=30, min_samples_split=14, min_samples_leaf=8, max_features=None, max_depth=5, criterion=entropy, score=0.769, total=   0.1s\n",
      "[CV] n_estimators=30, min_samples_split=14, min_samples_leaf=8, max_features=None, max_depth=5, criterion=entropy \n",
      "[CV]  n_estimators=30, min_samples_split=14, min_samples_leaf=8, max_features=None, max_depth=5, criterion=entropy, score=0.766, total=   0.1s\n",
      "[CV] n_estimators=10, min_samples_split=10, min_samples_leaf=12, max_features=log2, max_depth=1, criterion=gini \n",
      "[CV]  n_estimators=10, min_samples_split=10, min_samples_leaf=12, max_features=log2, max_depth=1, criterion=gini, score=0.748, total=   0.0s\n",
      "[CV] n_estimators=10, min_samples_split=10, min_samples_leaf=12, max_features=log2, max_depth=1, criterion=gini \n",
      "[CV]  n_estimators=10, min_samples_split=10, min_samples_leaf=12, max_features=log2, max_depth=1, criterion=gini, score=0.764, total=   0.0s\n",
      "[CV] n_estimators=10, min_samples_split=10, min_samples_leaf=12, max_features=log2, max_depth=1, criterion=gini \n",
      "[CV]  n_estimators=10, min_samples_split=10, min_samples_leaf=12, max_features=log2, max_depth=1, criterion=gini, score=0.748, total=   0.0s\n",
      "[CV] n_estimators=10, min_samples_split=10, min_samples_leaf=12, max_features=log2, max_depth=1, criterion=gini \n",
      "[CV]  n_estimators=10, min_samples_split=10, min_samples_leaf=12, max_features=log2, max_depth=1, criterion=gini, score=0.741, total=   0.0s\n",
      "[CV] n_estimators=50, min_samples_split=5, min_samples_leaf=8, max_features=log2, max_depth=7, criterion=gini \n",
      "[CV]  n_estimators=50, min_samples_split=5, min_samples_leaf=8, max_features=log2, max_depth=7, criterion=gini, score=0.792, total=   0.1s\n",
      "[CV] n_estimators=50, min_samples_split=5, min_samples_leaf=8, max_features=log2, max_depth=7, criterion=gini \n",
      "[CV]  n_estimators=50, min_samples_split=5, min_samples_leaf=8, max_features=log2, max_depth=7, criterion=gini, score=0.811, total=   0.1s\n",
      "[CV] n_estimators=50, min_samples_split=5, min_samples_leaf=8, max_features=log2, max_depth=7, criterion=gini \n",
      "[CV]  n_estimators=50, min_samples_split=5, min_samples_leaf=8, max_features=log2, max_depth=7, criterion=gini, score=0.773, total=   0.1s\n",
      "[CV] n_estimators=50, min_samples_split=5, min_samples_leaf=8, max_features=log2, max_depth=7, criterion=gini \n",
      "[CV]  n_estimators=50, min_samples_split=5, min_samples_leaf=8, max_features=log2, max_depth=7, criterion=gini, score=0.779, total=   0.1s\n",
      "[CV] n_estimators=30, min_samples_split=7, min_samples_leaf=4, max_features=auto, max_depth=4, criterion=gini \n",
      "[CV]  n_estimators=30, min_samples_split=7, min_samples_leaf=4, max_features=auto, max_depth=4, criterion=gini, score=0.792, total=   0.0s\n",
      "[CV] n_estimators=30, min_samples_split=7, min_samples_leaf=4, max_features=auto, max_depth=4, criterion=gini \n",
      "[CV]  n_estimators=30, min_samples_split=7, min_samples_leaf=4, max_features=auto, max_depth=4, criterion=gini, score=0.811, total=   0.0s\n",
      "[CV] n_estimators=30, min_samples_split=7, min_samples_leaf=4, max_features=auto, max_depth=4, criterion=gini \n",
      "[CV]  n_estimators=30, min_samples_split=7, min_samples_leaf=4, max_features=auto, max_depth=4, criterion=gini, score=0.779, total=   0.0s\n",
      "[CV] n_estimators=30, min_samples_split=7, min_samples_leaf=4, max_features=auto, max_depth=4, criterion=gini \n",
      "[CV]  n_estimators=30, min_samples_split=7, min_samples_leaf=4, max_features=auto, max_depth=4, criterion=gini, score=0.773, total=   0.0s\n",
      "[CV] n_estimators=30, min_samples_split=7, min_samples_leaf=4, max_features=None, max_depth=10, criterion=entropy \n",
      "[CV]  n_estimators=30, min_samples_split=7, min_samples_leaf=4, max_features=None, max_depth=10, criterion=entropy, score=0.795, total=   0.1s\n",
      "[CV] n_estimators=30, min_samples_split=7, min_samples_leaf=4, max_features=None, max_depth=10, criterion=entropy \n",
      "[CV]  n_estimators=30, min_samples_split=7, min_samples_leaf=4, max_features=None, max_depth=10, criterion=entropy, score=0.801, total=   0.1s\n",
      "[CV] n_estimators=30, min_samples_split=7, min_samples_leaf=4, max_features=None, max_depth=10, criterion=entropy \n",
      "[CV]  n_estimators=30, min_samples_split=7, min_samples_leaf=4, max_features=None, max_depth=10, criterion=entropy, score=0.776, total=   0.2s\n",
      "[CV] n_estimators=30, min_samples_split=7, min_samples_leaf=4, max_features=None, max_depth=10, criterion=entropy \n",
      "[CV]  n_estimators=30, min_samples_split=7, min_samples_leaf=4, max_features=None, max_depth=10, criterion=entropy, score=0.791, total=   0.1s\n",
      "[CV] n_estimators=10, min_samples_split=14, min_samples_leaf=8, max_features=sqrt, max_depth=5, criterion=entropy \n",
      "[CV]  n_estimators=10, min_samples_split=14, min_samples_leaf=8, max_features=sqrt, max_depth=5, criterion=entropy, score=0.789, total=   0.0s\n",
      "[CV] n_estimators=10, min_samples_split=14, min_samples_leaf=8, max_features=sqrt, max_depth=5, criterion=entropy \n",
      "[CV]  n_estimators=10, min_samples_split=14, min_samples_leaf=8, max_features=sqrt, max_depth=5, criterion=entropy, score=0.807, total=   0.0s\n",
      "[CV] n_estimators=10, min_samples_split=14, min_samples_leaf=8, max_features=sqrt, max_depth=5, criterion=entropy \n",
      "[CV]  n_estimators=10, min_samples_split=14, min_samples_leaf=8, max_features=sqrt, max_depth=5, criterion=entropy, score=0.757, total=   0.0s\n",
      "[CV] n_estimators=10, min_samples_split=14, min_samples_leaf=8, max_features=sqrt, max_depth=5, criterion=entropy \n",
      "[CV]  n_estimators=10, min_samples_split=14, min_samples_leaf=8, max_features=sqrt, max_depth=5, criterion=entropy, score=0.766, total=   0.0s\n",
      "[CV] n_estimators=20, min_samples_split=10, min_samples_leaf=4, max_features=sqrt, max_depth=2, criterion=entropy \n",
      "[CV]  n_estimators=20, min_samples_split=10, min_samples_leaf=4, max_features=sqrt, max_depth=2, criterion=entropy, score=0.773, total=   0.0s\n",
      "[CV] n_estimators=20, min_samples_split=10, min_samples_leaf=4, max_features=sqrt, max_depth=2, criterion=entropy \n",
      "[CV]  n_estimators=20, min_samples_split=10, min_samples_leaf=4, max_features=sqrt, max_depth=2, criterion=entropy, score=0.817, total=   0.0s\n",
      "[CV] n_estimators=20, min_samples_split=10, min_samples_leaf=4, max_features=sqrt, max_depth=2, criterion=entropy \n",
      "[CV]  n_estimators=20, min_samples_split=10, min_samples_leaf=4, max_features=sqrt, max_depth=2, criterion=entropy, score=0.782, total=   0.0s\n",
      "[CV] n_estimators=20, min_samples_split=10, min_samples_leaf=4, max_features=sqrt, max_depth=2, criterion=entropy \n",
      "[CV]  n_estimators=20, min_samples_split=10, min_samples_leaf=4, max_features=sqrt, max_depth=2, criterion=entropy, score=0.766, total=   0.0s\n",
      "[CV] n_estimators=40, min_samples_split=14, min_samples_leaf=6, max_features=auto, max_depth=7, criterion=entropy \n",
      "[CV]  n_estimators=40, min_samples_split=14, min_samples_leaf=6, max_features=auto, max_depth=7, criterion=entropy, score=0.789, total=   0.1s\n",
      "[CV] n_estimators=40, min_samples_split=14, min_samples_leaf=6, max_features=auto, max_depth=7, criterion=entropy \n",
      "[CV]  n_estimators=40, min_samples_split=14, min_samples_leaf=6, max_features=auto, max_depth=7, criterion=entropy, score=0.811, total=   0.1s\n",
      "[CV] n_estimators=40, min_samples_split=14, min_samples_leaf=6, max_features=auto, max_depth=7, criterion=entropy \n",
      "[CV]  n_estimators=40, min_samples_split=14, min_samples_leaf=6, max_features=auto, max_depth=7, criterion=entropy, score=0.754, total=   0.1s\n",
      "[CV] n_estimators=40, min_samples_split=14, min_samples_leaf=6, max_features=auto, max_depth=7, criterion=entropy \n",
      "[CV]  n_estimators=40, min_samples_split=14, min_samples_leaf=6, max_features=auto, max_depth=7, criterion=entropy, score=0.779, total=   0.1s\n",
      "[CV] n_estimators=10, min_samples_split=5, min_samples_leaf=12, max_features=log2, max_depth=9, criterion=gini \n",
      "[CV]  n_estimators=10, min_samples_split=5, min_samples_leaf=12, max_features=log2, max_depth=9, criterion=gini, score=0.776, total=   0.0s\n",
      "[CV] n_estimators=10, min_samples_split=5, min_samples_leaf=12, max_features=log2, max_depth=9, criterion=gini \n",
      "[CV]  n_estimators=10, min_samples_split=5, min_samples_leaf=12, max_features=log2, max_depth=9, criterion=gini, score=0.829, total=   0.0s\n",
      "[CV] n_estimators=10, min_samples_split=5, min_samples_leaf=12, max_features=log2, max_depth=9, criterion=gini \n",
      "[CV]  n_estimators=10, min_samples_split=5, min_samples_leaf=12, max_features=log2, max_depth=9, criterion=gini, score=0.754, total=   0.0s\n",
      "[CV] n_estimators=10, min_samples_split=5, min_samples_leaf=12, max_features=log2, max_depth=9, criterion=gini \n",
      "[CV]  n_estimators=10, min_samples_split=5, min_samples_leaf=12, max_features=log2, max_depth=9, criterion=gini, score=0.745, total=   0.0s\n",
      "[CV] n_estimators=20, min_samples_split=14, min_samples_leaf=6, max_features=sqrt, max_depth=5, criterion=gini \n",
      "[CV]  n_estimators=20, min_samples_split=14, min_samples_leaf=6, max_features=sqrt, max_depth=5, criterion=gini, score=0.789, total=   0.0s\n",
      "[CV] n_estimators=20, min_samples_split=14, min_samples_leaf=6, max_features=sqrt, max_depth=5, criterion=gini \n",
      "[CV]  n_estimators=20, min_samples_split=14, min_samples_leaf=6, max_features=sqrt, max_depth=5, criterion=gini, score=0.814, total=   0.0s\n",
      "[CV] n_estimators=20, min_samples_split=14, min_samples_leaf=6, max_features=sqrt, max_depth=5, criterion=gini \n",
      "[CV]  n_estimators=20, min_samples_split=14, min_samples_leaf=6, max_features=sqrt, max_depth=5, criterion=gini, score=0.773, total=   0.0s\n",
      "[CV] n_estimators=20, min_samples_split=14, min_samples_leaf=6, max_features=sqrt, max_depth=5, criterion=gini \n",
      "[CV]  n_estimators=20, min_samples_split=14, min_samples_leaf=6, max_features=sqrt, max_depth=5, criterion=gini, score=0.773, total=   0.0s\n",
      "[CV] n_estimators=40, min_samples_split=10, min_samples_leaf=8, max_features=sqrt, max_depth=2, criterion=gini \n",
      "[CV]  n_estimators=40, min_samples_split=10, min_samples_leaf=8, max_features=sqrt, max_depth=2, criterion=gini, score=0.776, total=   0.0s\n",
      "[CV] n_estimators=40, min_samples_split=10, min_samples_leaf=8, max_features=sqrt, max_depth=2, criterion=gini \n",
      "[CV]  n_estimators=40, min_samples_split=10, min_samples_leaf=8, max_features=sqrt, max_depth=2, criterion=gini, score=0.807, total=   0.1s\n",
      "[CV] n_estimators=40, min_samples_split=10, min_samples_leaf=8, max_features=sqrt, max_depth=2, criterion=gini \n",
      "[CV]  n_estimators=40, min_samples_split=10, min_samples_leaf=8, max_features=sqrt, max_depth=2, criterion=gini, score=0.782, total=   0.1s\n",
      "[CV] n_estimators=40, min_samples_split=10, min_samples_leaf=8, max_features=sqrt, max_depth=2, criterion=gini \n",
      "[CV]  n_estimators=40, min_samples_split=10, min_samples_leaf=8, max_features=sqrt, max_depth=2, criterion=gini, score=0.773, total=   0.1s\n",
      "[CV] n_estimators=50, min_samples_split=14, min_samples_leaf=6, max_features=sqrt, max_depth=3, criterion=gini \n",
      "[CV]  n_estimators=50, min_samples_split=14, min_samples_leaf=6, max_features=sqrt, max_depth=3, criterion=gini, score=0.789, total=   0.1s\n",
      "[CV] n_estimators=50, min_samples_split=14, min_samples_leaf=6, max_features=sqrt, max_depth=3, criterion=gini \n",
      "[CV]  n_estimators=50, min_samples_split=14, min_samples_leaf=6, max_features=sqrt, max_depth=3, criterion=gini, score=0.820, total=   0.1s\n",
      "[CV] n_estimators=50, min_samples_split=14, min_samples_leaf=6, max_features=sqrt, max_depth=3, criterion=gini \n",
      "[CV]  n_estimators=50, min_samples_split=14, min_samples_leaf=6, max_features=sqrt, max_depth=3, criterion=gini, score=0.782, total=   0.1s\n",
      "[CV] n_estimators=50, min_samples_split=14, min_samples_leaf=6, max_features=sqrt, max_depth=3, criterion=gini \n",
      "[CV]  n_estimators=50, min_samples_split=14, min_samples_leaf=6, max_features=sqrt, max_depth=3, criterion=gini, score=0.769, total=   0.1s\n",
      "[CV] n_estimators=30, min_samples_split=10, min_samples_leaf=12, max_features=auto, max_depth=7, criterion=gini \n",
      "[CV]  n_estimators=30, min_samples_split=10, min_samples_leaf=12, max_features=auto, max_depth=7, criterion=gini, score=0.776, total=   0.0s\n",
      "[CV] n_estimators=30, min_samples_split=10, min_samples_leaf=12, max_features=auto, max_depth=7, criterion=gini \n",
      "[CV]  n_estimators=30, min_samples_split=10, min_samples_leaf=12, max_features=auto, max_depth=7, criterion=gini, score=0.807, total=   0.1s\n",
      "[CV] n_estimators=30, min_samples_split=10, min_samples_leaf=12, max_features=auto, max_depth=7, criterion=gini \n",
      "[CV]  n_estimators=30, min_samples_split=10, min_samples_leaf=12, max_features=auto, max_depth=7, criterion=gini, score=0.766, total=   0.0s\n",
      "[CV] n_estimators=30, min_samples_split=10, min_samples_leaf=12, max_features=auto, max_depth=7, criterion=gini \n",
      "[CV]  n_estimators=30, min_samples_split=10, min_samples_leaf=12, max_features=auto, max_depth=7, criterion=gini, score=0.769, total=   0.0s\n",
      "[CV] n_estimators=50, min_samples_split=10, min_samples_leaf=4, max_features=log2, max_depth=6, criterion=entropy \n",
      "[CV]  n_estimators=50, min_samples_split=10, min_samples_leaf=4, max_features=log2, max_depth=6, criterion=entropy, score=0.789, total=   0.1s\n",
      "[CV] n_estimators=50, min_samples_split=10, min_samples_leaf=4, max_features=log2, max_depth=6, criterion=entropy \n",
      "[CV]  n_estimators=50, min_samples_split=10, min_samples_leaf=4, max_features=log2, max_depth=6, criterion=entropy, score=0.814, total=   0.1s\n",
      "[CV] n_estimators=50, min_samples_split=10, min_samples_leaf=4, max_features=log2, max_depth=6, criterion=entropy \n",
      "[CV]  n_estimators=50, min_samples_split=10, min_samples_leaf=4, max_features=log2, max_depth=6, criterion=entropy, score=0.779, total=   0.1s\n",
      "[CV] n_estimators=50, min_samples_split=10, min_samples_leaf=4, max_features=log2, max_depth=6, criterion=entropy \n",
      "[CV]  n_estimators=50, min_samples_split=10, min_samples_leaf=4, max_features=log2, max_depth=6, criterion=entropy, score=0.779, total=   0.1s\n",
      "[CV] n_estimators=40, min_samples_split=10, min_samples_leaf=12, max_features=None, max_depth=1, criterion=entropy \n",
      "[CV]  n_estimators=40, min_samples_split=10, min_samples_leaf=12, max_features=None, max_depth=1, criterion=entropy, score=0.752, total=   0.1s\n",
      "[CV] n_estimators=40, min_samples_split=10, min_samples_leaf=12, max_features=None, max_depth=1, criterion=entropy \n",
      "[CV]  n_estimators=40, min_samples_split=10, min_samples_leaf=12, max_features=None, max_depth=1, criterion=entropy, score=0.780, total=   0.1s\n",
      "[CV] n_estimators=40, min_samples_split=10, min_samples_leaf=12, max_features=None, max_depth=1, criterion=entropy \n",
      "[CV]  n_estimators=40, min_samples_split=10, min_samples_leaf=12, max_features=None, max_depth=1, criterion=entropy, score=0.751, total=   0.1s\n",
      "[CV] n_estimators=40, min_samples_split=10, min_samples_leaf=12, max_features=None, max_depth=1, criterion=entropy \n",
      "[CV]  n_estimators=40, min_samples_split=10, min_samples_leaf=12, max_features=None, max_depth=1, criterion=entropy, score=0.769, total=   0.1s\n",
      "[CV] n_estimators=20, min_samples_split=14, min_samples_leaf=6, max_features=sqrt, max_depth=6, criterion=gini \n",
      "[CV]  n_estimators=20, min_samples_split=14, min_samples_leaf=6, max_features=sqrt, max_depth=6, criterion=gini, score=0.792, total=   0.0s\n",
      "[CV] n_estimators=20, min_samples_split=14, min_samples_leaf=6, max_features=sqrt, max_depth=6, criterion=gini \n",
      "[CV]  n_estimators=20, min_samples_split=14, min_samples_leaf=6, max_features=sqrt, max_depth=6, criterion=gini, score=0.807, total=   0.0s\n",
      "[CV] n_estimators=20, min_samples_split=14, min_samples_leaf=6, max_features=sqrt, max_depth=6, criterion=gini \n",
      "[CV]  n_estimators=20, min_samples_split=14, min_samples_leaf=6, max_features=sqrt, max_depth=6, criterion=gini, score=0.769, total=   0.0s\n",
      "[CV] n_estimators=20, min_samples_split=14, min_samples_leaf=6, max_features=sqrt, max_depth=6, criterion=gini \n",
      "[CV]  n_estimators=20, min_samples_split=14, min_samples_leaf=6, max_features=sqrt, max_depth=6, criterion=gini, score=0.779, total=   0.0s\n",
      "[CV] n_estimators=10, min_samples_split=5, min_samples_leaf=4, max_features=auto, max_depth=2, criterion=gini \n",
      "[CV]  n_estimators=10, min_samples_split=5, min_samples_leaf=4, max_features=auto, max_depth=2, criterion=gini, score=0.770, total=   0.0s\n",
      "[CV] n_estimators=10, min_samples_split=5, min_samples_leaf=4, max_features=auto, max_depth=2, criterion=gini \n",
      "[CV]  n_estimators=10, min_samples_split=5, min_samples_leaf=4, max_features=auto, max_depth=2, criterion=gini, score=0.807, total=   0.0s\n",
      "[CV] n_estimators=10, min_samples_split=5, min_samples_leaf=4, max_features=auto, max_depth=2, criterion=gini \n",
      "[CV]  n_estimators=10, min_samples_split=5, min_samples_leaf=4, max_features=auto, max_depth=2, criterion=gini, score=0.782, total=   0.0s\n",
      "[CV] n_estimators=10, min_samples_split=5, min_samples_leaf=4, max_features=auto, max_depth=2, criterion=gini \n",
      "[CV]  n_estimators=10, min_samples_split=5, min_samples_leaf=4, max_features=auto, max_depth=2, criterion=gini, score=0.763, total=   0.0s\n",
      "[CV] n_estimators=50, min_samples_split=5, min_samples_leaf=12, max_features=auto, max_depth=2, criterion=gini \n",
      "[CV]  n_estimators=50, min_samples_split=5, min_samples_leaf=12, max_features=auto, max_depth=2, criterion=gini, score=0.770, total=   0.1s\n",
      "[CV] n_estimators=50, min_samples_split=5, min_samples_leaf=12, max_features=auto, max_depth=2, criterion=gini \n",
      "[CV]  n_estimators=50, min_samples_split=5, min_samples_leaf=12, max_features=auto, max_depth=2, criterion=gini, score=0.814, total=   0.1s\n",
      "[CV] n_estimators=50, min_samples_split=5, min_samples_leaf=12, max_features=auto, max_depth=2, criterion=gini \n",
      "[CV]  n_estimators=50, min_samples_split=5, min_samples_leaf=12, max_features=auto, max_depth=2, criterion=gini, score=0.785, total=   0.1s\n",
      "[CV] n_estimators=50, min_samples_split=5, min_samples_leaf=12, max_features=auto, max_depth=2, criterion=gini \n",
      "[CV]  n_estimators=50, min_samples_split=5, min_samples_leaf=12, max_features=auto, max_depth=2, criterion=gini, score=0.769, total=   0.1s\n",
      "[CV] n_estimators=20, min_samples_split=14, min_samples_leaf=4, max_features=auto, max_depth=3, criterion=entropy \n",
      "[CV]  n_estimators=20, min_samples_split=14, min_samples_leaf=4, max_features=auto, max_depth=3, criterion=entropy, score=0.776, total=   0.0s\n",
      "[CV] n_estimators=20, min_samples_split=14, min_samples_leaf=4, max_features=auto, max_depth=3, criterion=entropy \n",
      "[CV]  n_estimators=20, min_samples_split=14, min_samples_leaf=4, max_features=auto, max_depth=3, criterion=entropy, score=0.817, total=   0.0s\n",
      "[CV] n_estimators=20, min_samples_split=14, min_samples_leaf=4, max_features=auto, max_depth=3, criterion=entropy \n",
      "[CV]  n_estimators=20, min_samples_split=14, min_samples_leaf=4, max_features=auto, max_depth=3, criterion=entropy, score=0.798, total=   0.0s\n",
      "[CV] n_estimators=20, min_samples_split=14, min_samples_leaf=4, max_features=auto, max_depth=3, criterion=entropy \n",
      "[CV]  n_estimators=20, min_samples_split=14, min_samples_leaf=4, max_features=auto, max_depth=3, criterion=entropy, score=0.769, total=   0.0s\n",
      "[CV] n_estimators=10, min_samples_split=5, min_samples_leaf=6, max_features=None, max_depth=3, criterion=gini \n",
      "[CV]  n_estimators=10, min_samples_split=5, min_samples_leaf=6, max_features=None, max_depth=3, criterion=gini, score=0.776, total=   0.0s\n",
      "[CV] n_estimators=10, min_samples_split=5, min_samples_leaf=6, max_features=None, max_depth=3, criterion=gini \n",
      "[CV]  n_estimators=10, min_samples_split=5, min_samples_leaf=6, max_features=None, max_depth=3, criterion=gini, score=0.820, total=   0.0s\n",
      "[CV] n_estimators=10, min_samples_split=5, min_samples_leaf=6, max_features=None, max_depth=3, criterion=gini \n",
      "[CV]  n_estimators=10, min_samples_split=5, min_samples_leaf=6, max_features=None, max_depth=3, criterion=gini, score=0.751, total=   0.0s\n",
      "[CV] n_estimators=10, min_samples_split=5, min_samples_leaf=6, max_features=None, max_depth=3, criterion=gini \n",
      "[CV]  n_estimators=10, min_samples_split=5, min_samples_leaf=6, max_features=None, max_depth=3, criterion=gini, score=0.766, total=   0.0s\n",
      "[CV] n_estimators=40, min_samples_split=10, min_samples_leaf=4, max_features=sqrt, max_depth=7, criterion=entropy \n",
      "[CV]  n_estimators=40, min_samples_split=10, min_samples_leaf=4, max_features=sqrt, max_depth=7, criterion=entropy, score=0.792, total=   0.1s\n",
      "[CV] n_estimators=40, min_samples_split=10, min_samples_leaf=4, max_features=sqrt, max_depth=7, criterion=entropy \n",
      "[CV]  n_estimators=40, min_samples_split=10, min_samples_leaf=4, max_features=sqrt, max_depth=7, criterion=entropy, score=0.811, total=   0.1s\n",
      "[CV] n_estimators=40, min_samples_split=10, min_samples_leaf=4, max_features=sqrt, max_depth=7, criterion=entropy \n",
      "[CV]  n_estimators=40, min_samples_split=10, min_samples_leaf=4, max_features=sqrt, max_depth=7, criterion=entropy, score=0.773, total=   0.1s\n",
      "[CV] n_estimators=40, min_samples_split=10, min_samples_leaf=4, max_features=sqrt, max_depth=7, criterion=entropy \n",
      "[CV]  n_estimators=40, min_samples_split=10, min_samples_leaf=4, max_features=sqrt, max_depth=7, criterion=entropy, score=0.766, total=   0.1s\n",
      "[CV] n_estimators=50, min_samples_split=7, min_samples_leaf=6, max_features=auto, max_depth=4, criterion=entropy \n",
      "[CV]  n_estimators=50, min_samples_split=7, min_samples_leaf=6, max_features=auto, max_depth=4, criterion=entropy, score=0.792, total=   0.1s\n",
      "[CV] n_estimators=50, min_samples_split=7, min_samples_leaf=6, max_features=auto, max_depth=4, criterion=entropy \n",
      "[CV]  n_estimators=50, min_samples_split=7, min_samples_leaf=6, max_features=auto, max_depth=4, criterion=entropy, score=0.814, total=   0.1s\n",
      "[CV] n_estimators=50, min_samples_split=7, min_samples_leaf=6, max_features=auto, max_depth=4, criterion=entropy \n",
      "[CV]  n_estimators=50, min_samples_split=7, min_samples_leaf=6, max_features=auto, max_depth=4, criterion=entropy, score=0.773, total=   0.1s\n",
      "[CV] n_estimators=50, min_samples_split=7, min_samples_leaf=6, max_features=auto, max_depth=4, criterion=entropy \n",
      "[CV]  n_estimators=50, min_samples_split=7, min_samples_leaf=6, max_features=auto, max_depth=4, criterion=entropy, score=0.776, total=   0.1s\n",
      "[CV] n_estimators=30, min_samples_split=10, min_samples_leaf=6, max_features=auto, max_depth=5, criterion=gini \n",
      "[CV]  n_estimators=30, min_samples_split=10, min_samples_leaf=6, max_features=auto, max_depth=5, criterion=gini, score=0.795, total=   0.0s\n",
      "[CV] n_estimators=30, min_samples_split=10, min_samples_leaf=6, max_features=auto, max_depth=5, criterion=gini \n",
      "[CV]  n_estimators=30, min_samples_split=10, min_samples_leaf=6, max_features=auto, max_depth=5, criterion=gini, score=0.811, total=   0.0s\n",
      "[CV] n_estimators=30, min_samples_split=10, min_samples_leaf=6, max_features=auto, max_depth=5, criterion=gini \n",
      "[CV]  n_estimators=30, min_samples_split=10, min_samples_leaf=6, max_features=auto, max_depth=5, criterion=gini, score=0.785, total=   0.0s\n",
      "[CV] n_estimators=30, min_samples_split=10, min_samples_leaf=6, max_features=auto, max_depth=5, criterion=gini \n",
      "[CV]  n_estimators=30, min_samples_split=10, min_samples_leaf=6, max_features=auto, max_depth=5, criterion=gini, score=0.779, total=   0.0s\n",
      "[CV] n_estimators=20, min_samples_split=5, min_samples_leaf=8, max_features=log2, max_depth=5, criterion=entropy \n",
      "[CV]  n_estimators=20, min_samples_split=5, min_samples_leaf=8, max_features=log2, max_depth=5, criterion=entropy, score=0.792, total=   0.0s\n",
      "[CV] n_estimators=20, min_samples_split=5, min_samples_leaf=8, max_features=log2, max_depth=5, criterion=entropy \n",
      "[CV]  n_estimators=20, min_samples_split=5, min_samples_leaf=8, max_features=log2, max_depth=5, criterion=entropy, score=0.814, total=   0.0s\n",
      "[CV] n_estimators=20, min_samples_split=5, min_samples_leaf=8, max_features=log2, max_depth=5, criterion=entropy \n",
      "[CV]  n_estimators=20, min_samples_split=5, min_samples_leaf=8, max_features=log2, max_depth=5, criterion=entropy, score=0.763, total=   0.0s\n",
      "[CV] n_estimators=20, min_samples_split=5, min_samples_leaf=8, max_features=log2, max_depth=5, criterion=entropy \n",
      "[CV]  n_estimators=20, min_samples_split=5, min_samples_leaf=8, max_features=log2, max_depth=5, criterion=entropy, score=0.776, total=   0.0s\n",
      "[CV] n_estimators=30, min_samples_split=14, min_samples_leaf=8, max_features=sqrt, max_depth=2, criterion=entropy \n",
      "[CV]  n_estimators=30, min_samples_split=14, min_samples_leaf=8, max_features=sqrt, max_depth=2, criterion=entropy, score=0.770, total=   0.0s\n",
      "[CV] n_estimators=30, min_samples_split=14, min_samples_leaf=8, max_features=sqrt, max_depth=2, criterion=entropy \n",
      "[CV]  n_estimators=30, min_samples_split=14, min_samples_leaf=8, max_features=sqrt, max_depth=2, criterion=entropy, score=0.817, total=   0.0s\n",
      "[CV] n_estimators=30, min_samples_split=14, min_samples_leaf=8, max_features=sqrt, max_depth=2, criterion=entropy \n",
      "[CV]  n_estimators=30, min_samples_split=14, min_samples_leaf=8, max_features=sqrt, max_depth=2, criterion=entropy, score=0.785, total=   0.0s\n",
      "[CV] n_estimators=30, min_samples_split=14, min_samples_leaf=8, max_features=sqrt, max_depth=2, criterion=entropy \n",
      "[CV]  n_estimators=30, min_samples_split=14, min_samples_leaf=8, max_features=sqrt, max_depth=2, criterion=entropy, score=0.754, total=   0.0s\n",
      "[CV] n_estimators=50, min_samples_split=5, min_samples_leaf=12, max_features=None, max_depth=6, criterion=entropy \n",
      "[CV]  n_estimators=50, min_samples_split=5, min_samples_leaf=12, max_features=None, max_depth=6, criterion=entropy, score=0.783, total=   0.1s\n",
      "[CV] n_estimators=50, min_samples_split=5, min_samples_leaf=12, max_features=None, max_depth=6, criterion=entropy \n",
      "[CV]  n_estimators=50, min_samples_split=5, min_samples_leaf=12, max_features=None, max_depth=6, criterion=entropy, score=0.801, total=   0.1s\n",
      "[CV] n_estimators=50, min_samples_split=5, min_samples_leaf=12, max_features=None, max_depth=6, criterion=entropy \n",
      "[CV]  n_estimators=50, min_samples_split=5, min_samples_leaf=12, max_features=None, max_depth=6, criterion=entropy, score=0.754, total=   0.1s\n",
      "[CV] n_estimators=50, min_samples_split=5, min_samples_leaf=12, max_features=None, max_depth=6, criterion=entropy \n",
      "[CV]  n_estimators=50, min_samples_split=5, min_samples_leaf=12, max_features=None, max_depth=6, criterion=entropy, score=0.760, total=   0.1s\n",
      "[CV] n_estimators=40, min_samples_split=7, min_samples_leaf=6, max_features=None, max_depth=7, criterion=entropy \n",
      "[CV]  n_estimators=40, min_samples_split=7, min_samples_leaf=6, max_features=None, max_depth=7, criterion=entropy, score=0.795, total=   0.1s\n",
      "[CV] n_estimators=40, min_samples_split=7, min_samples_leaf=6, max_features=None, max_depth=7, criterion=entropy \n",
      "[CV]  n_estimators=40, min_samples_split=7, min_samples_leaf=6, max_features=None, max_depth=7, criterion=entropy, score=0.807, total=   0.1s\n",
      "[CV] n_estimators=40, min_samples_split=7, min_samples_leaf=6, max_features=None, max_depth=7, criterion=entropy \n",
      "[CV]  n_estimators=40, min_samples_split=7, min_samples_leaf=6, max_features=None, max_depth=7, criterion=entropy, score=0.766, total=   0.1s\n",
      "[CV] n_estimators=40, min_samples_split=7, min_samples_leaf=6, max_features=None, max_depth=7, criterion=entropy \n",
      "[CV]  n_estimators=40, min_samples_split=7, min_samples_leaf=6, max_features=None, max_depth=7, criterion=entropy, score=0.785, total=   0.1s\n",
      "[CV] n_estimators=20, min_samples_split=5, min_samples_leaf=12, max_features=None, max_depth=2, criterion=gini \n",
      "[CV]  n_estimators=20, min_samples_split=5, min_samples_leaf=12, max_features=None, max_depth=2, criterion=gini, score=0.776, total=   0.0s\n",
      "[CV] n_estimators=20, min_samples_split=5, min_samples_leaf=12, max_features=None, max_depth=2, criterion=gini \n",
      "[CV]  n_estimators=20, min_samples_split=5, min_samples_leaf=12, max_features=None, max_depth=2, criterion=gini, score=0.814, total=   0.0s\n",
      "[CV] n_estimators=20, min_samples_split=5, min_samples_leaf=12, max_features=None, max_depth=2, criterion=gini \n",
      "[CV]  n_estimators=20, min_samples_split=5, min_samples_leaf=12, max_features=None, max_depth=2, criterion=gini, score=0.779, total=   0.0s\n",
      "[CV] n_estimators=20, min_samples_split=5, min_samples_leaf=12, max_features=None, max_depth=2, criterion=gini \n",
      "[CV]  n_estimators=20, min_samples_split=5, min_samples_leaf=12, max_features=None, max_depth=2, criterion=gini, score=0.766, total=   0.0s\n",
      "[CV] n_estimators=30, min_samples_split=10, min_samples_leaf=6, max_features=log2, max_depth=3, criterion=entropy \n",
      "[CV]  n_estimators=30, min_samples_split=10, min_samples_leaf=6, max_features=log2, max_depth=3, criterion=entropy, score=0.780, total=   0.0s\n",
      "[CV] n_estimators=30, min_samples_split=10, min_samples_leaf=6, max_features=log2, max_depth=3, criterion=entropy \n",
      "[CV]  n_estimators=30, min_samples_split=10, min_samples_leaf=6, max_features=log2, max_depth=3, criterion=entropy, score=0.807, total=   0.0s\n",
      "[CV] n_estimators=30, min_samples_split=10, min_samples_leaf=6, max_features=log2, max_depth=3, criterion=entropy \n",
      "[CV]  n_estimators=30, min_samples_split=10, min_samples_leaf=6, max_features=log2, max_depth=3, criterion=entropy, score=0.773, total=   0.0s\n",
      "[CV] n_estimators=30, min_samples_split=10, min_samples_leaf=6, max_features=log2, max_depth=3, criterion=entropy \n",
      "[CV]  n_estimators=30, min_samples_split=10, min_samples_leaf=6, max_features=log2, max_depth=3, criterion=entropy, score=0.769, total=   0.0s\n",
      "[CV] n_estimators=30, min_samples_split=10, min_samples_leaf=12, max_features=sqrt, max_depth=5, criterion=gini \n",
      "[CV]  n_estimators=30, min_samples_split=10, min_samples_leaf=12, max_features=sqrt, max_depth=5, criterion=gini, score=0.789, total=   0.0s\n",
      "[CV] n_estimators=30, min_samples_split=10, min_samples_leaf=12, max_features=sqrt, max_depth=5, criterion=gini \n",
      "[CV]  n_estimators=30, min_samples_split=10, min_samples_leaf=12, max_features=sqrt, max_depth=5, criterion=gini, score=0.811, total=   0.0s\n",
      "[CV] n_estimators=30, min_samples_split=10, min_samples_leaf=12, max_features=sqrt, max_depth=5, criterion=gini \n",
      "[CV]  n_estimators=30, min_samples_split=10, min_samples_leaf=12, max_features=sqrt, max_depth=5, criterion=gini, score=0.766, total=   0.0s\n",
      "[CV] n_estimators=30, min_samples_split=10, min_samples_leaf=12, max_features=sqrt, max_depth=5, criterion=gini \n",
      "[CV]  n_estimators=30, min_samples_split=10, min_samples_leaf=12, max_features=sqrt, max_depth=5, criterion=gini, score=0.754, total=   0.0s\n",
      "[CV] n_estimators=50, min_samples_split=10, min_samples_leaf=4, max_features=auto, max_depth=6, criterion=entropy \n",
      "[CV]  n_estimators=50, min_samples_split=10, min_samples_leaf=4, max_features=auto, max_depth=6, criterion=entropy, score=0.786, total=   0.1s\n",
      "[CV] n_estimators=50, min_samples_split=10, min_samples_leaf=4, max_features=auto, max_depth=6, criterion=entropy \n",
      "[CV]  n_estimators=50, min_samples_split=10, min_samples_leaf=4, max_features=auto, max_depth=6, criterion=entropy, score=0.814, total=   0.1s\n",
      "[CV] n_estimators=50, min_samples_split=10, min_samples_leaf=4, max_features=auto, max_depth=6, criterion=entropy \n",
      "[CV]  n_estimators=50, min_samples_split=10, min_samples_leaf=4, max_features=auto, max_depth=6, criterion=entropy, score=0.782, total=   0.1s\n",
      "[CV] n_estimators=50, min_samples_split=10, min_samples_leaf=4, max_features=auto, max_depth=6, criterion=entropy \n",
      "[CV]  n_estimators=50, min_samples_split=10, min_samples_leaf=4, max_features=auto, max_depth=6, criterion=entropy, score=0.779, total=   0.1s\n",
      "[CV] n_estimators=40, min_samples_split=7, min_samples_leaf=4, max_features=auto, max_depth=2, criterion=entropy \n",
      "[CV]  n_estimators=40, min_samples_split=7, min_samples_leaf=4, max_features=auto, max_depth=2, criterion=entropy, score=0.776, total=   0.1s\n",
      "[CV] n_estimators=40, min_samples_split=7, min_samples_leaf=4, max_features=auto, max_depth=2, criterion=entropy \n",
      "[CV]  n_estimators=40, min_samples_split=7, min_samples_leaf=4, max_features=auto, max_depth=2, criterion=entropy, score=0.814, total=   0.1s\n",
      "[CV] n_estimators=40, min_samples_split=7, min_samples_leaf=4, max_features=auto, max_depth=2, criterion=entropy \n",
      "[CV]  n_estimators=40, min_samples_split=7, min_samples_leaf=4, max_features=auto, max_depth=2, criterion=entropy, score=0.782, total=   0.1s\n",
      "[CV] n_estimators=40, min_samples_split=7, min_samples_leaf=4, max_features=auto, max_depth=2, criterion=entropy \n",
      "[CV]  n_estimators=40, min_samples_split=7, min_samples_leaf=4, max_features=auto, max_depth=2, criterion=entropy, score=0.766, total=   0.1s\n",
      "[CV] n_estimators=10, min_samples_split=5, min_samples_leaf=8, max_features=log2, max_depth=5, criterion=gini \n",
      "[CV]  n_estimators=10, min_samples_split=5, min_samples_leaf=8, max_features=log2, max_depth=5, criterion=gini, score=0.792, total=   0.0s\n",
      "[CV] n_estimators=10, min_samples_split=5, min_samples_leaf=8, max_features=log2, max_depth=5, criterion=gini \n",
      "[CV]  n_estimators=10, min_samples_split=5, min_samples_leaf=8, max_features=log2, max_depth=5, criterion=gini, score=0.817, total=   0.0s\n",
      "[CV] n_estimators=10, min_samples_split=5, min_samples_leaf=8, max_features=log2, max_depth=5, criterion=gini \n",
      "[CV]  n_estimators=10, min_samples_split=5, min_samples_leaf=8, max_features=log2, max_depth=5, criterion=gini, score=0.773, total=   0.0s\n",
      "[CV] n_estimators=10, min_samples_split=5, min_samples_leaf=8, max_features=log2, max_depth=5, criterion=gini \n",
      "[CV]  n_estimators=10, min_samples_split=5, min_samples_leaf=8, max_features=log2, max_depth=5, criterion=gini, score=0.760, total=   0.0s\n",
      "[CV] n_estimators=10, min_samples_split=7, min_samples_leaf=4, max_features=auto, max_depth=1, criterion=gini \n",
      "[CV]  n_estimators=10, min_samples_split=7, min_samples_leaf=4, max_features=auto, max_depth=1, criterion=gini, score=0.748, total=   0.0s\n",
      "[CV] n_estimators=10, min_samples_split=7, min_samples_leaf=4, max_features=auto, max_depth=1, criterion=gini \n",
      "[CV]  n_estimators=10, min_samples_split=7, min_samples_leaf=4, max_features=auto, max_depth=1, criterion=gini, score=0.789, total=   0.0s\n",
      "[CV] n_estimators=10, min_samples_split=7, min_samples_leaf=4, max_features=auto, max_depth=1, criterion=gini \n",
      "[CV]  n_estimators=10, min_samples_split=7, min_samples_leaf=4, max_features=auto, max_depth=1, criterion=gini, score=0.779, total=   0.0s\n",
      "[CV] n_estimators=10, min_samples_split=7, min_samples_leaf=4, max_features=auto, max_depth=1, criterion=gini \n",
      "[CV]  n_estimators=10, min_samples_split=7, min_samples_leaf=4, max_features=auto, max_depth=1, criterion=gini, score=0.738, total=   0.0s\n",
      "[CV] n_estimators=40, min_samples_split=5, min_samples_leaf=4, max_features=sqrt, max_depth=4, criterion=gini \n",
      "[CV]  n_estimators=40, min_samples_split=5, min_samples_leaf=4, max_features=sqrt, max_depth=4, criterion=gini, score=0.792, total=   0.1s\n",
      "[CV] n_estimators=40, min_samples_split=5, min_samples_leaf=4, max_features=sqrt, max_depth=4, criterion=gini \n",
      "[CV]  n_estimators=40, min_samples_split=5, min_samples_leaf=4, max_features=sqrt, max_depth=4, criterion=gini, score=0.817, total=   0.1s\n",
      "[CV] n_estimators=40, min_samples_split=5, min_samples_leaf=4, max_features=sqrt, max_depth=4, criterion=gini \n",
      "[CV]  n_estimators=40, min_samples_split=5, min_samples_leaf=4, max_features=sqrt, max_depth=4, criterion=gini, score=0.785, total=   0.1s\n",
      "[CV] n_estimators=40, min_samples_split=5, min_samples_leaf=4, max_features=sqrt, max_depth=4, criterion=gini \n",
      "[CV]  n_estimators=40, min_samples_split=5, min_samples_leaf=4, max_features=sqrt, max_depth=4, criterion=gini, score=0.769, total=   0.1s\n",
      "[CV] n_estimators=30, min_samples_split=5, min_samples_leaf=12, max_features=sqrt, max_depth=3, criterion=gini \n",
      "[CV]  n_estimators=30, min_samples_split=5, min_samples_leaf=12, max_features=sqrt, max_depth=3, criterion=gini, score=0.780, total=   0.0s\n",
      "[CV] n_estimators=30, min_samples_split=5, min_samples_leaf=12, max_features=sqrt, max_depth=3, criterion=gini \n",
      "[CV]  n_estimators=30, min_samples_split=5, min_samples_leaf=12, max_features=sqrt, max_depth=3, criterion=gini, score=0.804, total=   0.0s\n",
      "[CV] n_estimators=30, min_samples_split=5, min_samples_leaf=12, max_features=sqrt, max_depth=3, criterion=gini \n",
      "[CV]  n_estimators=30, min_samples_split=5, min_samples_leaf=12, max_features=sqrt, max_depth=3, criterion=gini, score=0.779, total=   0.0s\n",
      "[CV] n_estimators=30, min_samples_split=5, min_samples_leaf=12, max_features=sqrt, max_depth=3, criterion=gini \n",
      "[CV]  n_estimators=30, min_samples_split=5, min_samples_leaf=12, max_features=sqrt, max_depth=3, criterion=gini, score=0.757, total=   0.0s\n",
      "[CV] n_estimators=10, min_samples_split=10, min_samples_leaf=8, max_features=None, max_depth=8, criterion=gini \n",
      "[CV]  n_estimators=10, min_samples_split=10, min_samples_leaf=8, max_features=None, max_depth=8, criterion=gini, score=0.783, total=   0.0s\n",
      "[CV] n_estimators=10, min_samples_split=10, min_samples_leaf=8, max_features=None, max_depth=8, criterion=gini \n",
      "[CV]  n_estimators=10, min_samples_split=10, min_samples_leaf=8, max_features=None, max_depth=8, criterion=gini, score=0.807, total=   0.0s\n",
      "[CV] n_estimators=10, min_samples_split=10, min_samples_leaf=8, max_features=None, max_depth=8, criterion=gini \n",
      "[CV]  n_estimators=10, min_samples_split=10, min_samples_leaf=8, max_features=None, max_depth=8, criterion=gini, score=0.785, total=   0.0s\n",
      "[CV] n_estimators=10, min_samples_split=10, min_samples_leaf=8, max_features=None, max_depth=8, criterion=gini \n",
      "[CV]  n_estimators=10, min_samples_split=10, min_samples_leaf=8, max_features=None, max_depth=8, criterion=gini, score=0.794, total=   0.0s\n",
      "[CV] n_estimators=50, min_samples_split=10, min_samples_leaf=8, max_features=None, max_depth=8, criterion=gini \n",
      "[CV]  n_estimators=50, min_samples_split=10, min_samples_leaf=8, max_features=None, max_depth=8, criterion=gini, score=0.795, total=   0.1s\n",
      "[CV] n_estimators=50, min_samples_split=10, min_samples_leaf=8, max_features=None, max_depth=8, criterion=gini \n",
      "[CV]  n_estimators=50, min_samples_split=10, min_samples_leaf=8, max_features=None, max_depth=8, criterion=gini, score=0.814, total=   0.1s\n",
      "[CV] n_estimators=50, min_samples_split=10, min_samples_leaf=8, max_features=None, max_depth=8, criterion=gini \n",
      "[CV]  n_estimators=50, min_samples_split=10, min_samples_leaf=8, max_features=None, max_depth=8, criterion=gini, score=0.766, total=   0.1s\n",
      "[CV] n_estimators=50, min_samples_split=10, min_samples_leaf=8, max_features=None, max_depth=8, criterion=gini \n",
      "[CV]  n_estimators=50, min_samples_split=10, min_samples_leaf=8, max_features=None, max_depth=8, criterion=gini, score=0.794, total=   0.1s\n",
      "[CV] n_estimators=20, min_samples_split=7, min_samples_leaf=6, max_features=log2, max_depth=6, criterion=gini \n",
      "[CV]  n_estimators=20, min_samples_split=7, min_samples_leaf=6, max_features=log2, max_depth=6, criterion=gini, score=0.795, total=   0.0s\n",
      "[CV] n_estimators=20, min_samples_split=7, min_samples_leaf=6, max_features=log2, max_depth=6, criterion=gini \n",
      "[CV]  n_estimators=20, min_samples_split=7, min_samples_leaf=6, max_features=log2, max_depth=6, criterion=gini, score=0.817, total=   0.0s\n",
      "[CV] n_estimators=20, min_samples_split=7, min_samples_leaf=6, max_features=log2, max_depth=6, criterion=gini \n",
      "[CV]  n_estimators=20, min_samples_split=7, min_samples_leaf=6, max_features=log2, max_depth=6, criterion=gini, score=0.794, total=   0.0s\n",
      "[CV] n_estimators=20, min_samples_split=7, min_samples_leaf=6, max_features=log2, max_depth=6, criterion=gini \n",
      "[CV]  n_estimators=20, min_samples_split=7, min_samples_leaf=6, max_features=log2, max_depth=6, criterion=gini, score=0.776, total=   0.0s\n",
      "[CV] n_estimators=40, min_samples_split=5, min_samples_leaf=12, max_features=auto, max_depth=3, criterion=gini \n",
      "[CV]  n_estimators=40, min_samples_split=5, min_samples_leaf=12, max_features=auto, max_depth=3, criterion=gini, score=0.773, total=   0.1s\n",
      "[CV] n_estimators=40, min_samples_split=5, min_samples_leaf=12, max_features=auto, max_depth=3, criterion=gini \n",
      "[CV]  n_estimators=40, min_samples_split=5, min_samples_leaf=12, max_features=auto, max_depth=3, criterion=gini, score=0.817, total=   0.1s\n",
      "[CV] n_estimators=40, min_samples_split=5, min_samples_leaf=12, max_features=auto, max_depth=3, criterion=gini \n",
      "[CV]  n_estimators=40, min_samples_split=5, min_samples_leaf=12, max_features=auto, max_depth=3, criterion=gini, score=0.779, total=   0.1s\n",
      "[CV] n_estimators=40, min_samples_split=5, min_samples_leaf=12, max_features=auto, max_depth=3, criterion=gini \n",
      "[CV]  n_estimators=40, min_samples_split=5, min_samples_leaf=12, max_features=auto, max_depth=3, criterion=gini, score=0.763, total=   0.1s\n",
      "[CV] n_estimators=50, min_samples_split=7, min_samples_leaf=8, max_features=log2, max_depth=7, criterion=gini \n",
      "[CV]  n_estimators=50, min_samples_split=7, min_samples_leaf=8, max_features=log2, max_depth=7, criterion=gini, score=0.792, total=   0.1s\n",
      "[CV] n_estimators=50, min_samples_split=7, min_samples_leaf=8, max_features=log2, max_depth=7, criterion=gini \n",
      "[CV]  n_estimators=50, min_samples_split=7, min_samples_leaf=8, max_features=log2, max_depth=7, criterion=gini, score=0.811, total=   0.1s\n",
      "[CV] n_estimators=50, min_samples_split=7, min_samples_leaf=8, max_features=log2, max_depth=7, criterion=gini \n",
      "[CV]  n_estimators=50, min_samples_split=7, min_samples_leaf=8, max_features=log2, max_depth=7, criterion=gini, score=0.779, total=   0.1s\n",
      "[CV] n_estimators=50, min_samples_split=7, min_samples_leaf=8, max_features=log2, max_depth=7, criterion=gini \n",
      "[CV]  n_estimators=50, min_samples_split=7, min_samples_leaf=8, max_features=log2, max_depth=7, criterion=gini, score=0.776, total=   0.1s\n",
      "[CV] n_estimators=50, min_samples_split=10, min_samples_leaf=12, max_features=log2, max_depth=10, criterion=gini \n",
      "[CV]  n_estimators=50, min_samples_split=10, min_samples_leaf=12, max_features=log2, max_depth=10, criterion=gini, score=0.783, total=   0.1s\n",
      "[CV] n_estimators=50, min_samples_split=10, min_samples_leaf=12, max_features=log2, max_depth=10, criterion=gini \n",
      "[CV]  n_estimators=50, min_samples_split=10, min_samples_leaf=12, max_features=log2, max_depth=10, criterion=gini, score=0.820, total=   0.1s\n",
      "[CV] n_estimators=50, min_samples_split=10, min_samples_leaf=12, max_features=log2, max_depth=10, criterion=gini \n",
      "[CV]  n_estimators=50, min_samples_split=10, min_samples_leaf=12, max_features=log2, max_depth=10, criterion=gini, score=0.763, total=   0.1s\n",
      "[CV] n_estimators=50, min_samples_split=10, min_samples_leaf=12, max_features=log2, max_depth=10, criterion=gini \n",
      "[CV]  n_estimators=50, min_samples_split=10, min_samples_leaf=12, max_features=log2, max_depth=10, criterion=gini, score=0.754, total=   0.1s\n",
      "[CV] n_estimators=30, min_samples_split=5, min_samples_leaf=6, max_features=None, max_depth=1, criterion=gini \n",
      "[CV]  n_estimators=30, min_samples_split=5, min_samples_leaf=6, max_features=None, max_depth=1, criterion=gini, score=0.748, total=   0.0s\n",
      "[CV] n_estimators=30, min_samples_split=5, min_samples_leaf=6, max_features=None, max_depth=1, criterion=gini \n",
      "[CV]  n_estimators=30, min_samples_split=5, min_samples_leaf=6, max_features=None, max_depth=1, criterion=gini, score=0.761, total=   0.0s\n",
      "[CV] n_estimators=30, min_samples_split=5, min_samples_leaf=6, max_features=None, max_depth=1, criterion=gini \n",
      "[CV]  n_estimators=30, min_samples_split=5, min_samples_leaf=6, max_features=None, max_depth=1, criterion=gini, score=0.748, total=   0.0s\n",
      "[CV] n_estimators=30, min_samples_split=5, min_samples_leaf=6, max_features=None, max_depth=1, criterion=gini \n",
      "[CV]  n_estimators=30, min_samples_split=5, min_samples_leaf=6, max_features=None, max_depth=1, criterion=gini, score=0.769, total=   0.0s\n",
      "[CV] n_estimators=40, min_samples_split=5, min_samples_leaf=8, max_features=log2, max_depth=9, criterion=entropy \n",
      "[CV]  n_estimators=40, min_samples_split=5, min_samples_leaf=8, max_features=log2, max_depth=9, criterion=entropy, score=0.786, total=   0.1s\n",
      "[CV] n_estimators=40, min_samples_split=5, min_samples_leaf=8, max_features=log2, max_depth=9, criterion=entropy \n",
      "[CV]  n_estimators=40, min_samples_split=5, min_samples_leaf=8, max_features=log2, max_depth=9, criterion=entropy, score=0.807, total=   0.1s\n",
      "[CV] n_estimators=40, min_samples_split=5, min_samples_leaf=8, max_features=log2, max_depth=9, criterion=entropy \n",
      "[CV]  n_estimators=40, min_samples_split=5, min_samples_leaf=8, max_features=log2, max_depth=9, criterion=entropy, score=0.788, total=   0.1s\n",
      "[CV] n_estimators=40, min_samples_split=5, min_samples_leaf=8, max_features=log2, max_depth=9, criterion=entropy \n",
      "[CV]  n_estimators=40, min_samples_split=5, min_samples_leaf=8, max_features=log2, max_depth=9, criterion=entropy, score=0.776, total=   0.1s\n",
      "[CV] n_estimators=40, min_samples_split=5, min_samples_leaf=12, max_features=auto, max_depth=4, criterion=entropy \n",
      "[CV]  n_estimators=40, min_samples_split=5, min_samples_leaf=12, max_features=auto, max_depth=4, criterion=entropy, score=0.780, total=   0.1s\n",
      "[CV] n_estimators=40, min_samples_split=5, min_samples_leaf=12, max_features=auto, max_depth=4, criterion=entropy \n",
      "[CV]  n_estimators=40, min_samples_split=5, min_samples_leaf=12, max_features=auto, max_depth=4, criterion=entropy, score=0.811, total=   0.1s\n",
      "[CV] n_estimators=40, min_samples_split=5, min_samples_leaf=12, max_features=auto, max_depth=4, criterion=entropy \n",
      "[CV]  n_estimators=40, min_samples_split=5, min_samples_leaf=12, max_features=auto, max_depth=4, criterion=entropy, score=0.779, total=   0.1s\n",
      "[CV] n_estimators=40, min_samples_split=5, min_samples_leaf=12, max_features=auto, max_depth=4, criterion=entropy \n",
      "[CV]  n_estimators=40, min_samples_split=5, min_samples_leaf=12, max_features=auto, max_depth=4, criterion=entropy, score=0.773, total=   0.1s\n",
      "[CV] n_estimators=40, min_samples_split=14, min_samples_leaf=12, max_features=log2, max_depth=1, criterion=gini \n",
      "[CV]  n_estimators=40, min_samples_split=14, min_samples_leaf=12, max_features=log2, max_depth=1, criterion=gini, score=0.742, total=   0.1s\n",
      "[CV] n_estimators=40, min_samples_split=14, min_samples_leaf=12, max_features=log2, max_depth=1, criterion=gini \n",
      "[CV]  n_estimators=40, min_samples_split=14, min_samples_leaf=12, max_features=log2, max_depth=1, criterion=gini, score=0.776, total=   0.0s\n",
      "[CV] n_estimators=40, min_samples_split=14, min_samples_leaf=12, max_features=log2, max_depth=1, criterion=gini \n",
      "[CV]  n_estimators=40, min_samples_split=14, min_samples_leaf=12, max_features=log2, max_depth=1, criterion=gini, score=0.745, total=   0.0s\n",
      "[CV] n_estimators=40, min_samples_split=14, min_samples_leaf=12, max_features=log2, max_depth=1, criterion=gini \n",
      "[CV]  n_estimators=40, min_samples_split=14, min_samples_leaf=12, max_features=log2, max_depth=1, criterion=gini, score=0.735, total=   0.0s\n",
      "[CV] n_estimators=50, min_samples_split=5, min_samples_leaf=8, max_features=log2, max_depth=3, criterion=gini \n",
      "[CV]  n_estimators=50, min_samples_split=5, min_samples_leaf=8, max_features=log2, max_depth=3, criterion=gini, score=0.780, total=   0.1s\n",
      "[CV] n_estimators=50, min_samples_split=5, min_samples_leaf=8, max_features=log2, max_depth=3, criterion=gini \n",
      "[CV]  n_estimators=50, min_samples_split=5, min_samples_leaf=8, max_features=log2, max_depth=3, criterion=gini, score=0.811, total=   0.1s\n",
      "[CV] n_estimators=50, min_samples_split=5, min_samples_leaf=8, max_features=log2, max_depth=3, criterion=gini \n",
      "[CV]  n_estimators=50, min_samples_split=5, min_samples_leaf=8, max_features=log2, max_depth=3, criterion=gini, score=0.779, total=   0.1s\n",
      "[CV] n_estimators=50, min_samples_split=5, min_samples_leaf=8, max_features=log2, max_depth=3, criterion=gini \n",
      "[CV]  n_estimators=50, min_samples_split=5, min_samples_leaf=8, max_features=log2, max_depth=3, criterion=gini, score=0.760, total=   0.1s\n",
      "[CV] n_estimators=20, min_samples_split=5, min_samples_leaf=12, max_features=log2, max_depth=9, criterion=entropy \n",
      "[CV]  n_estimators=20, min_samples_split=5, min_samples_leaf=12, max_features=log2, max_depth=9, criterion=entropy, score=0.789, total=   0.0s\n",
      "[CV] n_estimators=20, min_samples_split=5, min_samples_leaf=12, max_features=log2, max_depth=9, criterion=entropy \n",
      "[CV]  n_estimators=20, min_samples_split=5, min_samples_leaf=12, max_features=log2, max_depth=9, criterion=entropy, score=0.804, total=   0.0s\n",
      "[CV] n_estimators=20, min_samples_split=5, min_samples_leaf=12, max_features=log2, max_depth=9, criterion=entropy \n",
      "[CV]  n_estimators=20, min_samples_split=5, min_samples_leaf=12, max_features=log2, max_depth=9, criterion=entropy, score=0.769, total=   0.0s\n",
      "[CV] n_estimators=20, min_samples_split=5, min_samples_leaf=12, max_features=log2, max_depth=9, criterion=entropy \n",
      "[CV]  n_estimators=20, min_samples_split=5, min_samples_leaf=12, max_features=log2, max_depth=9, criterion=entropy, score=0.760, total=   0.0s\n",
      "[CV] n_estimators=50, min_samples_split=5, min_samples_leaf=8, max_features=None, max_depth=8, criterion=entropy \n",
      "[CV]  n_estimators=50, min_samples_split=5, min_samples_leaf=8, max_features=None, max_depth=8, criterion=entropy, score=0.789, total=   0.1s\n",
      "[CV] n_estimators=50, min_samples_split=5, min_samples_leaf=8, max_features=None, max_depth=8, criterion=entropy \n",
      "[CV]  n_estimators=50, min_samples_split=5, min_samples_leaf=8, max_features=None, max_depth=8, criterion=entropy, score=0.811, total=   0.1s\n",
      "[CV] n_estimators=50, min_samples_split=5, min_samples_leaf=8, max_features=None, max_depth=8, criterion=entropy \n",
      "[CV]  n_estimators=50, min_samples_split=5, min_samples_leaf=8, max_features=None, max_depth=8, criterion=entropy, score=0.766, total=   0.1s\n",
      "[CV] n_estimators=50, min_samples_split=5, min_samples_leaf=8, max_features=None, max_depth=8, criterion=entropy \n",
      "[CV]  n_estimators=50, min_samples_split=5, min_samples_leaf=8, max_features=None, max_depth=8, criterion=entropy, score=0.788, total=   0.1s\n",
      "[CV] n_estimators=20, min_samples_split=5, min_samples_leaf=4, max_features=auto, max_depth=5, criterion=entropy \n",
      "[CV]  n_estimators=20, min_samples_split=5, min_samples_leaf=4, max_features=auto, max_depth=5, criterion=entropy, score=0.798, total=   0.0s\n",
      "[CV] n_estimators=20, min_samples_split=5, min_samples_leaf=4, max_features=auto, max_depth=5, criterion=entropy \n",
      "[CV]  n_estimators=20, min_samples_split=5, min_samples_leaf=4, max_features=auto, max_depth=5, criterion=entropy, score=0.814, total=   0.0s\n",
      "[CV] n_estimators=20, min_samples_split=5, min_samples_leaf=4, max_features=auto, max_depth=5, criterion=entropy \n",
      "[CV]  n_estimators=20, min_samples_split=5, min_samples_leaf=4, max_features=auto, max_depth=5, criterion=entropy, score=0.788, total=   0.0s\n",
      "[CV] n_estimators=20, min_samples_split=5, min_samples_leaf=4, max_features=auto, max_depth=5, criterion=entropy \n",
      "[CV]  n_estimators=20, min_samples_split=5, min_samples_leaf=4, max_features=auto, max_depth=5, criterion=entropy, score=0.779, total=   0.0s\n",
      "Accuracy наилучшей модели на валидационной выборке: 0.7977178423236515 Количество деревьев: 20 Максимальная глубина: 6\n"
     ]
    },
    {
     "name": "stderr",
     "output_type": "stream",
     "text": [
      "[Parallel(n_jobs=-1)]: Done 320 out of 320 | elapsed:   17.7s finished\n"
     ]
    }
   ],
   "source": [
    "random_search = {'criterion': ['entropy', 'gini'],\n",
    "               'max_depth': list(range(1, 11)) + [None],\n",
    "               'max_features': ['auto', 'sqrt','log2', None],\n",
    "               'min_samples_leaf': [4, 6, 8, 12],\n",
    "               'min_samples_split': [5, 7, 10, 14],\n",
    "               'n_estimators': list(range(10, 51, 10))}\n",
    "\n",
    "clf = RandomForestClassifier()\n",
    "\n",
    "# best_model_rfc = None\n",
    "# best_result_rfc = 0\n",
    "# best_est_rfc = 0\n",
    "# best_depth_rfc = 0\n",
    "# for est_rfc in range(10, 51, 10):\n",
    "#     for depth_rfc in range (1, 11):\n",
    "        #model_rfc = RandomForestClassifier(random_state=12345, n_estimators=est_rfc, max_depth=depth_rfc) # инициализируем модель RandomForestClassifier с параметром random_state=12345, n_estimators=est_rfc и max_depth=depth_rfc\n",
    "model_rfc = RandomizedSearchCV(estimator = clf, param_distributions = random_search, n_iter = 80, \n",
    "                               cv = 4, verbose= 5, random_state= 12345, n_jobs = -1)   \n",
    "model_rfc.fit(features_train, target_train)\n",
    "predictions_valid_rfc = model_rfc.predict(features_valid)# обучим модель на тренировочной выборке\n",
    "result_rfc = model_rfc.score(features_valid, target_valid) # посчитаем качество модели на валидационной выборке\n",
    "# if result_rfc > best_result_rfc:\n",
    "# print(model_rfc.best_params_)\n",
    "best_model_rfc = model_rfc# сохраним наилучшую модель\n",
    "best_result_rfc = result_rfc#  сохраним наилучшее значение метрики accuracy на валидационных данных\n",
    "best_est_rfc = model_rfc.best_params_['n_estimators']# сохраним наилучшую количество деревьев\n",
    "best_depth_rfc = model_rfc.best_params_['max_depth']# сохраним наилучшую максимальную глубину\n",
    "\n",
    "table_random_forest = pd.DataFrame({'model_name':['random_forest'],'accuracy':[best_result_rfc], 'type':['best']})\n",
    "print(\"Accuracy наилучшей модели на валидационной выборке:\", best_result_rfc, \"Количество деревьев:\", best_est_rfc, \"Максимальная глубина:\",  best_depth_rfc)\n",
    "\n",
    "\n"
   ]
  },
  {
   "cell_type": "code",
   "execution_count": 37,
   "metadata": {},
   "outputs": [
    {
     "name": "stdout",
     "output_type": "stream",
     "text": [
      "Accuracy модели логистической регрессии на валидационной выборке: 0.696058091286307\n"
     ]
    },
    {
     "name": "stderr",
     "output_type": "stream",
     "text": [
      "/opt/conda/lib/python3.7/site-packages/sklearn/linear_model/logistic.py:432: FutureWarning: Default solver will be changed to 'lbfgs' in 0.22. Specify a solver to silence this warning.\n",
      "  FutureWarning)\n"
     ]
    }
   ],
   "source": [
    "model_log_r = LogisticRegression(random_state=12345)# инициализируем модель логистической регрессии с параметром random_state=12345\n",
    "model_log_r.fit(features_train, target_train) # обучим модель на тренировочной выборке\n",
    "predictions_log_r = model_log_r.predict(features_valid)\n",
    "result_log_r = model_log_r.score(features_valid, target_valid) # получим метрику качества модели на валидационной выборке\n",
    "table_log_reg = pd.DataFrame({'model_name':['logistic_regression'],'accuracy':[result_log_r], 'type':['single']})\n",
    "print(\"Accuracy модели логистической регрессии на валидационной выборке:\", result_log_r)"
   ]
  },
  {
   "cell_type": "markdown",
   "metadata": {},
   "source": [
    "**Вывод**  \n",
    "Таким образом, по результатам исследования установлено, что наибольшее по данным на валидационной выборке у модели DecisionTreeClassifier и составляет 0.8018672199170125"
   ]
  },
  {
   "cell_type": "markdown",
   "metadata": {},
   "source": [
    "## Проверьте модель на тестовой выборке"
   ]
  },
  {
   "cell_type": "code",
   "execution_count": 38,
   "metadata": {},
   "outputs": [
    {
     "name": "stdout",
     "output_type": "stream",
     "text": [
      "Тестовая выборка: 0.7904564315352697\n"
     ]
    }
   ],
   "source": [
    "test_predictions = model_rfc.predict(features_test) # получим предсказания модели на тестовой выборке\n",
    "test_accuracy_score = accuracy_score(target_test, test_predictions)# расчитаем accuracy на тестовой выборке\n",
    "\n",
    "print(f\"Тестовая выборка: {test_accuracy_score}\") "
   ]
  },
  {
   "cell_type": "markdown",
   "metadata": {},
   "source": [
    "**Вывод**  \n",
    "На тестовой выборке модель RandomForestClassifier \n",
    "показала accuracy = 0.80248833592535."
   ]
  },
  {
   "cell_type": "markdown",
   "metadata": {},
   "source": [
    "## (бонус) Проверьте модели на адекватность"
   ]
  },
  {
   "cell_type": "code",
   "execution_count": 39,
   "metadata": {},
   "outputs": [
    {
     "name": "stdout",
     "output_type": "stream",
     "text": [
      "Accuracy классификатора DummyClassifier: 0.6929460580912863\n"
     ]
    }
   ],
   "source": [
    "model_dc = DummyClassifier(strategy='most_frequent')# инициализируем DummyClassifier\n",
    "model_dc.fit(features_train, target_train) # обучим DummyClassifier на тренировочной выборке\n",
    "predictions_dc = model_dc.predict(features_valid)\n",
    "result_dc = model_dc.score(features_valid, target_valid) # получим метрику качества модели на валидационной выборке\n",
    "table_dummy = pd.DataFrame({'model_name':['dummy_classifier'],'accuracy':[result_dc], 'type':['most_frequent']})\n",
    "print(\"Accuracy классификатора DummyClassifier:\", result_dc)"
   ]
  },
  {
   "cell_type": "code",
   "execution_count": 40,
   "metadata": {},
   "outputs": [
    {
     "data": {
      "text/html": [
       "<div>\n",
       "<style scoped>\n",
       "    .dataframe tbody tr th:only-of-type {\n",
       "        vertical-align: middle;\n",
       "    }\n",
       "\n",
       "    .dataframe tbody tr th {\n",
       "        vertical-align: top;\n",
       "    }\n",
       "\n",
       "    .dataframe thead th {\n",
       "        text-align: right;\n",
       "    }\n",
       "</style>\n",
       "<table border=\"1\" class=\"dataframe\">\n",
       "  <thead>\n",
       "    <tr style=\"text-align: right;\">\n",
       "      <th></th>\n",
       "      <th>model_name</th>\n",
       "      <th>accuracy</th>\n",
       "      <th>type</th>\n",
       "    </tr>\n",
       "  </thead>\n",
       "  <tbody>\n",
       "    <tr>\n",
       "      <td>7</td>\n",
       "      <td>dummy_classifier</td>\n",
       "      <td>0.692946</td>\n",
       "      <td>most_frequent</td>\n",
       "    </tr>\n",
       "    <tr>\n",
       "      <td>6</td>\n",
       "      <td>logistic_regression</td>\n",
       "      <td>0.696058</td>\n",
       "      <td>single</td>\n",
       "    </tr>\n",
       "    <tr>\n",
       "      <td>0</td>\n",
       "      <td>decision_tree</td>\n",
       "      <td>0.738589</td>\n",
       "      <td>1</td>\n",
       "    </tr>\n",
       "    <tr>\n",
       "      <td>1</td>\n",
       "      <td>decision_tree</td>\n",
       "      <td>0.775934</td>\n",
       "      <td>2</td>\n",
       "    </tr>\n",
       "    <tr>\n",
       "      <td>2</td>\n",
       "      <td>decision_tree</td>\n",
       "      <td>0.775934</td>\n",
       "      <td>3</td>\n",
       "    </tr>\n",
       "    <tr>\n",
       "      <td>4</td>\n",
       "      <td>decision_tree</td>\n",
       "      <td>0.788382</td>\n",
       "      <td>5</td>\n",
       "    </tr>\n",
       "    <tr>\n",
       "      <td>5</td>\n",
       "      <td>random_forest</td>\n",
       "      <td>0.790456</td>\n",
       "      <td>best</td>\n",
       "    </tr>\n",
       "    <tr>\n",
       "      <td>3</td>\n",
       "      <td>decision_tree</td>\n",
       "      <td>0.801867</td>\n",
       "      <td>4</td>\n",
       "    </tr>\n",
       "  </tbody>\n",
       "</table>\n",
       "</div>"
      ],
      "text/plain": [
       "            model_name  accuracy           type\n",
       "7     dummy_classifier  0.692946  most_frequent\n",
       "6  logistic_regression  0.696058         single\n",
       "0        decision_tree  0.738589              1\n",
       "1        decision_tree  0.775934              2\n",
       "2        decision_tree  0.775934              3\n",
       "4        decision_tree  0.788382              5\n",
       "5        random_forest  0.790456           best\n",
       "3        decision_tree  0.801867              4"
      ]
     },
     "execution_count": 40,
     "metadata": {},
     "output_type": "execute_result"
    }
   ],
   "source": [
    "table_sum = pd.concat([table_decision_tree, table_random_forest, table_log_reg, table_dummy])\n",
    "table_sum = table_sum.reset_index()[['model_name', 'accuracy', 'type']]\n",
    "table_sum.sort_values(by='accuracy')"
   ]
  },
  {
   "cell_type": "markdown",
   "metadata": {},
   "source": [
    "***Общий вывод***  \n",
    "В ходе проведения исследования было проведено изучение результатов работы 3 моделей классификации:\n",
    "- DesicionTreeClassifier,\n",
    "- RandomForestClassifier,\n",
    "- LogisticRegression. \n",
    "По результатам проведенного исследования установлено, что наибольшую долю правильных ответов можно получить используя модель DesicionTreeClassifier с глубиной дерева = 4.\n",
    "\n",
    "В ходе проверки моделей на адекватность, также установлено, что все модели показывают результаты лучше, чем классификатор DummyClassifier. При этом, модель LogisticRegression на валидационной выборке показывает наихудшие результаты."
   ]
  }
 ],
 "metadata": {
  "ExecuteTimeLog": [
   {
    "duration": 1406,
    "start_time": "2021-09-29T17:52:39.576Z"
   },
   {
    "duration": 91,
    "start_time": "2021-09-29T17:54:02.871Z"
   },
   {
    "duration": 557,
    "start_time": "2021-09-29T18:07:57.358Z"
   },
   {
    "duration": 59,
    "start_time": "2021-09-29T18:08:24.483Z"
   },
   {
    "duration": 111,
    "start_time": "2021-09-29T18:08:29.038Z"
   },
   {
    "duration": 5,
    "start_time": "2021-09-29T18:08:32.870Z"
   },
   {
    "duration": 10,
    "start_time": "2021-09-29T18:12:06.411Z"
   },
   {
    "duration": 18,
    "start_time": "2021-09-29T18:13:23.769Z"
   },
   {
    "duration": 11,
    "start_time": "2021-09-29T18:15:28.329Z"
   },
   {
    "duration": 84,
    "start_time": "2021-09-29T18:15:29.550Z"
   },
   {
    "duration": 4,
    "start_time": "2021-09-29T18:15:34.331Z"
   },
   {
    "duration": 79,
    "start_time": "2021-09-29T18:15:36.862Z"
   },
   {
    "duration": 13,
    "start_time": "2021-09-29T18:15:43.459Z"
   },
   {
    "duration": 478,
    "start_time": "2021-09-29T18:15:59.442Z"
   },
   {
    "duration": 85,
    "start_time": "2021-09-29T18:16:09.057Z"
   },
   {
    "duration": 367,
    "start_time": "2021-09-29T18:19:49.861Z"
   },
   {
    "duration": 4,
    "start_time": "2021-09-29T18:20:24.603Z"
   },
   {
    "duration": 88,
    "start_time": "2021-09-29T18:20:27.163Z"
   },
   {
    "duration": 13,
    "start_time": "2021-09-29T18:20:29.799Z"
   },
   {
    "duration": 30,
    "start_time": "2021-09-29T18:20:32.693Z"
   },
   {
    "duration": 362,
    "start_time": "2021-09-29T18:22:24.405Z"
   },
   {
    "duration": 527,
    "start_time": "2021-09-29T18:22:36.872Z"
   },
   {
    "duration": 321,
    "start_time": "2021-09-29T18:24:09.863Z"
   },
   {
    "duration": 30,
    "start_time": "2021-09-29T18:24:14.555Z"
   },
   {
    "duration": 392,
    "start_time": "2021-09-29T18:24:32.923Z"
   },
   {
    "duration": 28,
    "start_time": "2021-09-29T18:25:07.874Z"
   },
   {
    "duration": 13,
    "start_time": "2021-09-29T18:25:27.878Z"
   },
   {
    "duration": 1829,
    "start_time": "2021-09-30T18:33:43.510Z"
   },
   {
    "duration": 159,
    "start_time": "2021-09-30T18:33:45.343Z"
   },
   {
    "duration": 18,
    "start_time": "2021-09-30T18:33:45.507Z"
   },
   {
    "duration": 444,
    "start_time": "2021-09-30T18:33:45.528Z"
   },
   {
    "duration": -1225,
    "start_time": "2021-09-30T18:33:47.199Z"
   },
   {
    "duration": -1230,
    "start_time": "2021-09-30T18:33:47.206Z"
   },
   {
    "duration": 42,
    "start_time": "2021-09-30T18:34:10.678Z"
   },
   {
    "duration": 5,
    "start_time": "2021-09-30T18:34:15.399Z"
   },
   {
    "duration": 84,
    "start_time": "2021-09-30T18:34:15.407Z"
   },
   {
    "duration": 21,
    "start_time": "2021-09-30T18:34:15.495Z"
   },
   {
    "duration": 61,
    "start_time": "2021-09-30T18:34:15.519Z"
   },
   {
    "duration": 465,
    "start_time": "2021-09-30T18:34:15.583Z"
   },
   {
    "duration": 30,
    "start_time": "2021-09-30T18:34:16.051Z"
   },
   {
    "duration": 308,
    "start_time": "2021-10-02T08:04:17.204Z"
   },
   {
    "duration": 1269,
    "start_time": "2021-10-02T08:04:25.524Z"
   },
   {
    "duration": 135,
    "start_time": "2021-10-02T08:04:26.795Z"
   },
   {
    "duration": 11,
    "start_time": "2021-10-02T08:04:26.932Z"
   },
   {
    "duration": 44,
    "start_time": "2021-10-02T08:04:26.945Z"
   },
   {
    "duration": 321,
    "start_time": "2021-10-02T08:04:26.991Z"
   },
   {
    "duration": 13,
    "start_time": "2021-10-02T08:04:27.314Z"
   },
   {
    "duration": 12,
    "start_time": "2021-10-02T08:07:24.583Z"
   },
   {
    "duration": 12,
    "start_time": "2021-10-02T08:08:13.679Z"
   },
   {
    "duration": 13,
    "start_time": "2021-10-02T08:08:24.510Z"
   },
   {
    "duration": 12,
    "start_time": "2021-10-02T08:08:47.359Z"
   },
   {
    "duration": 24,
    "start_time": "2021-10-02T08:09:47.599Z"
   },
   {
    "duration": 251,
    "start_time": "2021-10-02T08:09:51.970Z"
   },
   {
    "duration": 24,
    "start_time": "2021-10-02T08:10:00.505Z"
   },
   {
    "duration": 246,
    "start_time": "2021-10-02T08:10:06.614Z"
   },
   {
    "duration": 10,
    "start_time": "2021-10-02T08:10:12.361Z"
   },
   {
    "duration": 349,
    "start_time": "2021-10-02T08:16:37.316Z"
   },
   {
    "duration": 2414,
    "start_time": "2021-10-02T08:18:50.723Z"
   },
   {
    "duration": 5584,
    "start_time": "2021-10-02T08:19:09.164Z"
   },
   {
    "duration": 3253,
    "start_time": "2021-10-02T08:32:56.060Z"
   },
   {
    "duration": 23,
    "start_time": "2021-10-02T08:47:50.302Z"
   },
   {
    "duration": 22,
    "start_time": "2021-10-02T08:47:56.244Z"
   },
   {
    "duration": 3299,
    "start_time": "2021-10-02T08:48:39.471Z"
   },
   {
    "duration": 22,
    "start_time": "2021-10-02T08:50:09.444Z"
   },
   {
    "duration": 3473,
    "start_time": "2021-10-02T08:51:15.742Z"
   },
   {
    "duration": 15,
    "start_time": "2021-10-02T08:51:53.060Z"
   },
   {
    "duration": 4,
    "start_time": "2021-10-02T08:52:07.832Z"
   },
   {
    "duration": 68,
    "start_time": "2021-10-02T08:52:07.837Z"
   },
   {
    "duration": 9,
    "start_time": "2021-10-02T08:52:07.907Z"
   },
   {
    "duration": 40,
    "start_time": "2021-10-02T08:52:07.918Z"
   },
   {
    "duration": 3657,
    "start_time": "2021-10-02T08:52:07.959Z"
   },
   {
    "duration": 15,
    "start_time": "2021-10-02T08:52:11.617Z"
   },
   {
    "duration": 21,
    "start_time": "2021-10-02T08:52:46.374Z"
   },
   {
    "duration": 402,
    "start_time": "2021-10-02T08:53:22.581Z"
   },
   {
    "duration": 313,
    "start_time": "2021-10-02T08:53:54.495Z"
   },
   {
    "duration": 895,
    "start_time": "2021-10-02T08:54:46.323Z"
   },
   {
    "duration": 22,
    "start_time": "2021-10-02T08:58:52.730Z"
   },
   {
    "duration": 272,
    "start_time": "2021-10-02T09:00:44.407Z"
   },
   {
    "duration": 271,
    "start_time": "2021-10-02T09:01:04.096Z"
   },
   {
    "duration": 277,
    "start_time": "2021-10-02T09:07:46.420Z"
   },
   {
    "duration": 4,
    "start_time": "2021-10-02T09:07:56.410Z"
   },
   {
    "duration": 154,
    "start_time": "2021-10-02T09:07:56.418Z"
   },
   {
    "duration": 10,
    "start_time": "2021-10-02T09:07:56.574Z"
   },
   {
    "duration": 39,
    "start_time": "2021-10-02T09:07:56.585Z"
   },
   {
    "duration": 301,
    "start_time": "2021-10-02T09:07:56.626Z"
   },
   {
    "duration": -4703,
    "start_time": "2021-10-02T09:08:01.632Z"
   },
   {
    "duration": 290,
    "start_time": "2021-10-02T09:08:08.842Z"
   },
   {
    "duration": 1076,
    "start_time": "2021-10-02T09:10:45.110Z"
   },
   {
    "duration": 280,
    "start_time": "2021-10-02T09:11:08.846Z"
   },
   {
    "duration": 276,
    "start_time": "2021-10-02T09:12:12.089Z"
   },
   {
    "duration": 24,
    "start_time": "2021-10-02T09:12:58.006Z"
   },
   {
    "duration": 24,
    "start_time": "2021-10-02T09:13:25.147Z"
   },
   {
    "duration": 305,
    "start_time": "2021-10-02T09:14:40.532Z"
   },
   {
    "duration": 339,
    "start_time": "2021-10-02T09:15:17.856Z"
   },
   {
    "duration": 676,
    "start_time": "2021-10-02T09:21:25.966Z"
   },
   {
    "duration": 287,
    "start_time": "2021-10-02T09:23:15.372Z"
   },
   {
    "duration": 308,
    "start_time": "2021-10-02T09:23:26.301Z"
   },
   {
    "duration": 299,
    "start_time": "2021-10-02T09:25:01.209Z"
   },
   {
    "duration": 13,
    "start_time": "2021-10-02T09:26:32.674Z"
   },
   {
    "duration": 14,
    "start_time": "2021-10-02T09:26:50.004Z"
   },
   {
    "duration": 24,
    "start_time": "2021-10-02T09:26:56.881Z"
   },
   {
    "duration": 277,
    "start_time": "2021-10-02T09:27:06.198Z"
   },
   {
    "duration": 3392,
    "start_time": "2021-10-02T09:31:06.677Z"
   },
   {
    "duration": 16,
    "start_time": "2021-10-02T09:31:34.245Z"
   },
   {
    "duration": 10,
    "start_time": "2021-10-02T09:32:01.978Z"
   },
   {
    "duration": 22,
    "start_time": "2021-10-02T09:32:05.491Z"
   },
   {
    "duration": 3247,
    "start_time": "2021-10-02T09:32:09.002Z"
   },
   {
    "duration": 16,
    "start_time": "2021-10-02T09:32:16.779Z"
   },
   {
    "duration": 3,
    "start_time": "2021-10-02T09:32:22.306Z"
   },
   {
    "duration": 63,
    "start_time": "2021-10-02T09:32:22.311Z"
   },
   {
    "duration": 11,
    "start_time": "2021-10-02T09:32:22.376Z"
   },
   {
    "duration": 23,
    "start_time": "2021-10-02T09:32:22.389Z"
   },
   {
    "duration": 3307,
    "start_time": "2021-10-02T09:32:22.413Z"
   },
   {
    "duration": 29,
    "start_time": "2021-10-02T09:32:25.722Z"
   },
   {
    "duration": 10,
    "start_time": "2021-10-02T09:32:53.545Z"
   },
   {
    "duration": 4,
    "start_time": "2021-10-02T09:33:02.435Z"
   },
   {
    "duration": 70,
    "start_time": "2021-10-02T09:33:02.445Z"
   },
   {
    "duration": 9,
    "start_time": "2021-10-02T09:33:02.517Z"
   },
   {
    "duration": 24,
    "start_time": "2021-10-02T09:33:02.528Z"
   },
   {
    "duration": 3246,
    "start_time": "2021-10-02T09:33:02.553Z"
   },
   {
    "duration": 15,
    "start_time": "2021-10-02T09:33:05.800Z"
   },
   {
    "duration": 4,
    "start_time": "2021-10-02T09:33:59.542Z"
   },
   {
    "duration": 68,
    "start_time": "2021-10-02T09:33:59.547Z"
   },
   {
    "duration": 10,
    "start_time": "2021-10-02T09:33:59.617Z"
   },
   {
    "duration": 22,
    "start_time": "2021-10-02T09:33:59.628Z"
   },
   {
    "duration": 3259,
    "start_time": "2021-10-02T09:33:59.651Z"
   },
   {
    "duration": 15,
    "start_time": "2021-10-02T09:34:02.911Z"
   },
   {
    "duration": 264,
    "start_time": "2021-10-02T10:10:00.497Z"
   },
   {
    "duration": 246,
    "start_time": "2021-10-02T10:10:26.470Z"
   },
   {
    "duration": 266,
    "start_time": "2021-10-02T10:10:35.257Z"
   },
   {
    "duration": 3,
    "start_time": "2021-10-02T10:10:41.835Z"
   },
   {
    "duration": 117,
    "start_time": "2021-10-02T10:10:41.852Z"
   },
   {
    "duration": 10,
    "start_time": "2021-10-02T10:10:41.971Z"
   },
   {
    "duration": 23,
    "start_time": "2021-10-02T10:10:41.983Z"
   },
   {
    "duration": 3347,
    "start_time": "2021-10-02T10:10:42.954Z"
   },
   {
    "duration": 16,
    "start_time": "2021-10-02T10:10:46.303Z"
   },
   {
    "duration": 255,
    "start_time": "2021-10-02T10:10:46.321Z"
   },
   {
    "duration": 6,
    "start_time": "2021-10-02T10:11:54.527Z"
   },
   {
    "duration": 69,
    "start_time": "2021-10-02T10:11:54.534Z"
   },
   {
    "duration": 14,
    "start_time": "2021-10-02T10:11:54.606Z"
   },
   {
    "duration": 28,
    "start_time": "2021-10-02T10:11:54.622Z"
   },
   {
    "duration": 3502,
    "start_time": "2021-10-02T10:11:54.692Z"
   },
   {
    "duration": 14,
    "start_time": "2021-10-02T10:11:58.196Z"
   },
   {
    "duration": 300,
    "start_time": "2021-10-02T10:11:58.212Z"
   },
   {
    "duration": 266,
    "start_time": "2021-10-02T10:12:23.700Z"
   },
   {
    "duration": 4268,
    "start_time": "2021-10-02T10:12:50.796Z"
   },
   {
    "duration": 296,
    "start_time": "2021-10-02T10:14:44.791Z"
   },
   {
    "duration": 285,
    "start_time": "2021-10-02T10:15:09.663Z"
   },
   {
    "duration": 16,
    "start_time": "2021-10-02T10:15:21.816Z"
   },
   {
    "duration": 13,
    "start_time": "2021-10-02T10:49:05.390Z"
   },
   {
    "duration": 12,
    "start_time": "2021-10-02T10:49:16.172Z"
   },
   {
    "duration": 3,
    "start_time": "2021-10-02T10:55:53.937Z"
   },
   {
    "duration": 75,
    "start_time": "2021-10-02T10:55:53.942Z"
   },
   {
    "duration": 10,
    "start_time": "2021-10-02T10:55:54.019Z"
   },
   {
    "duration": 31,
    "start_time": "2021-10-02T10:55:54.030Z"
   },
   {
    "duration": 3234,
    "start_time": "2021-10-02T10:55:54.063Z"
   },
   {
    "duration": 15,
    "start_time": "2021-10-02T10:55:57.299Z"
   },
   {
    "duration": 28,
    "start_time": "2021-10-02T10:55:57.316Z"
   },
   {
    "duration": 439,
    "start_time": "2021-10-03T10:00:32.879Z"
   },
   {
    "duration": 1681,
    "start_time": "2021-10-03T10:00:39.672Z"
   },
   {
    "duration": 174,
    "start_time": "2021-10-03T10:00:41.355Z"
   },
   {
    "duration": 19,
    "start_time": "2021-10-03T10:00:41.534Z"
   },
   {
    "duration": 52,
    "start_time": "2021-10-03T10:00:41.556Z"
   },
   {
    "duration": 5000,
    "start_time": "2021-10-03T10:00:41.611Z"
   },
   {
    "duration": 405,
    "start_time": "2021-10-03T10:00:46.614Z"
   },
   {
    "duration": -2299,
    "start_time": "2021-10-03T10:00:49.322Z"
   },
   {
    "duration": 329,
    "start_time": "2021-10-03T10:04:09.480Z"
   },
   {
    "duration": 27,
    "start_time": "2021-10-03T10:04:24.080Z"
   },
   {
    "duration": 18,
    "start_time": "2021-10-03T10:12:23.799Z"
   },
   {
    "duration": 6,
    "start_time": "2021-10-03T10:16:13.684Z"
   },
   {
    "duration": 51,
    "start_time": "2021-10-03T10:16:13.693Z"
   },
   {
    "duration": 17,
    "start_time": "2021-10-03T10:16:13.747Z"
   },
   {
    "duration": 32,
    "start_time": "2021-10-03T10:16:13.783Z"
   },
   {
    "duration": 4558,
    "start_time": "2021-10-03T10:16:13.817Z"
   },
   {
    "duration": 22,
    "start_time": "2021-10-03T10:16:18.377Z"
   },
   {
    "duration": 23,
    "start_time": "2021-10-03T10:16:18.402Z"
   },
   {
    "duration": 1075,
    "start_time": "2021-10-03T18:42:52.553Z"
   },
   {
    "duration": 114,
    "start_time": "2021-10-03T18:42:53.629Z"
   },
   {
    "duration": 12,
    "start_time": "2021-10-03T18:42:53.745Z"
   },
   {
    "duration": 20,
    "start_time": "2021-10-03T18:42:53.758Z"
   },
   {
    "duration": 2836,
    "start_time": "2021-10-03T18:42:53.780Z"
   },
   {
    "duration": 10,
    "start_time": "2021-10-03T18:42:56.618Z"
   },
   {
    "duration": 14,
    "start_time": "2021-10-03T18:42:56.630Z"
   },
   {
    "duration": 4,
    "start_time": "2021-10-03T19:49:36.681Z"
   },
   {
    "duration": 267,
    "start_time": "2021-10-03T19:54:35.556Z"
   },
   {
    "duration": 6,
    "start_time": "2021-10-03T19:59:48.357Z"
   },
   {
    "duration": 5,
    "start_time": "2021-10-03T20:00:59.962Z"
   },
   {
    "duration": 6,
    "start_time": "2021-10-03T20:01:06.342Z"
   },
   {
    "duration": 5,
    "start_time": "2021-10-03T20:01:22.097Z"
   },
   {
    "duration": 5,
    "start_time": "2021-10-03T20:01:58.221Z"
   },
   {
    "duration": 5,
    "start_time": "2021-10-03T20:02:02.244Z"
   },
   {
    "duration": 6,
    "start_time": "2021-10-03T20:02:04.445Z"
   },
   {
    "duration": 6,
    "start_time": "2021-10-03T20:02:06.356Z"
   },
   {
    "duration": 5,
    "start_time": "2021-10-03T20:02:13.457Z"
   },
   {
    "duration": 6,
    "start_time": "2021-10-03T20:02:16.958Z"
   },
   {
    "duration": 5,
    "start_time": "2021-10-03T20:02:28.699Z"
   },
   {
    "duration": 5,
    "start_time": "2021-10-03T20:06:02.339Z"
   },
   {
    "duration": 3,
    "start_time": "2021-10-03T20:08:14.091Z"
   },
   {
    "duration": 175,
    "start_time": "2021-10-03T20:28:38.770Z"
   },
   {
    "duration": 194,
    "start_time": "2021-10-03T20:28:45.698Z"
   },
   {
    "duration": 198,
    "start_time": "2021-10-03T20:28:59.282Z"
   },
   {
    "duration": 31,
    "start_time": "2021-10-03T20:29:48.030Z"
   },
   {
    "duration": 2917,
    "start_time": "2021-10-03T20:29:59.267Z"
   },
   {
    "duration": 12,
    "start_time": "2021-10-03T20:30:06.733Z"
   },
   {
    "duration": 6,
    "start_time": "2021-10-03T20:30:21.588Z"
   },
   {
    "duration": 170,
    "start_time": "2021-10-03T20:30:26.027Z"
   },
   {
    "duration": 14,
    "start_time": "2021-10-03T20:30:46.706Z"
   },
   {
    "duration": 11,
    "start_time": "2021-10-03T20:32:02.132Z"
   },
   {
    "duration": 272,
    "start_time": "2021-10-03T20:32:12.459Z"
   },
   {
    "duration": 4723,
    "start_time": "2021-10-03T20:32:48.616Z"
   },
   {
    "duration": 13,
    "start_time": "2021-10-03T20:33:00.368Z"
   },
   {
    "duration": 12,
    "start_time": "2021-10-03T20:33:24.980Z"
   },
   {
    "duration": 228,
    "start_time": "2021-10-04T18:48:38.095Z"
   },
   {
    "duration": 1139,
    "start_time": "2021-10-04T18:48:42.195Z"
   },
   {
    "duration": 64,
    "start_time": "2021-10-04T18:48:43.335Z"
   },
   {
    "duration": 11,
    "start_time": "2021-10-04T18:48:43.401Z"
   },
   {
    "duration": 239,
    "start_time": "2021-10-04T18:48:43.413Z"
   },
   {
    "duration": -4557,
    "start_time": "2021-10-04T18:48:48.211Z"
   },
   {
    "duration": -4569,
    "start_time": "2021-10-04T18:48:48.224Z"
   },
   {
    "duration": -4570,
    "start_time": "2021-10-04T18:48:48.226Z"
   },
   {
    "duration": -4582,
    "start_time": "2021-10-04T18:48:48.239Z"
   },
   {
    "duration": -4583,
    "start_time": "2021-10-04T18:48:48.241Z"
   },
   {
    "duration": 31,
    "start_time": "2021-10-04T18:49:36.936Z"
   },
   {
    "duration": 3,
    "start_time": "2021-10-04T18:49:44.961Z"
   },
   {
    "duration": 59,
    "start_time": "2021-10-04T18:49:44.966Z"
   },
   {
    "duration": 11,
    "start_time": "2021-10-04T18:49:45.027Z"
   },
   {
    "duration": 30,
    "start_time": "2021-10-04T18:49:45.040Z"
   },
   {
    "duration": 3111,
    "start_time": "2021-10-04T18:49:45.071Z"
   },
   {
    "duration": 19,
    "start_time": "2021-10-04T18:49:48.183Z"
   },
   {
    "duration": 11,
    "start_time": "2021-10-04T18:49:48.204Z"
   },
   {
    "duration": 5,
    "start_time": "2021-10-04T18:49:48.217Z"
   },
   {
    "duration": 12,
    "start_time": "2021-10-04T18:49:48.224Z"
   },
   {
    "duration": 1125,
    "start_time": "2021-10-05T16:56:17.979Z"
   },
   {
    "duration": 249,
    "start_time": "2021-10-05T16:59:11.405Z"
   },
   {
    "duration": 3,
    "start_time": "2021-10-05T16:59:19.112Z"
   },
   {
    "duration": 148,
    "start_time": "2021-10-05T16:59:19.118Z"
   },
   {
    "duration": 15,
    "start_time": "2021-10-05T16:59:19.268Z"
   },
   {
    "duration": 32,
    "start_time": "2021-10-05T16:59:19.285Z"
   },
   {
    "duration": 3035,
    "start_time": "2021-10-05T16:59:19.318Z"
   },
   {
    "duration": 12,
    "start_time": "2021-10-05T16:59:22.354Z"
   },
   {
    "duration": 12,
    "start_time": "2021-10-05T16:59:22.367Z"
   },
   {
    "duration": 6,
    "start_time": "2021-10-05T16:59:22.380Z"
   },
   {
    "duration": 20,
    "start_time": "2021-10-05T16:59:22.387Z"
   },
   {
    "duration": -2164,
    "start_time": "2021-10-05T17:08:17.596Z"
   },
   {
    "duration": 41475,
    "start_time": "2021-10-05T17:08:20.443Z"
   },
   {
    "duration": 4,
    "start_time": "2021-10-05T17:09:35.978Z"
   },
   {
    "duration": 65,
    "start_time": "2021-10-05T17:09:43.207Z"
   },
   {
    "duration": 11,
    "start_time": "2021-10-05T17:09:47.311Z"
   },
   {
    "duration": 32,
    "start_time": "2021-10-05T17:09:52.269Z"
   },
   {
    "duration": 33,
    "start_time": "2021-10-05T17:10:02.901Z"
   },
   {
    "duration": 94484,
    "start_time": "2021-10-05T17:10:04.871Z"
   },
   {
    "duration": 16669,
    "start_time": "2021-10-05T17:11:50.446Z"
   },
   {
    "duration": 159,
    "start_time": "2021-10-05T17:14:43.321Z"
   },
   {
    "duration": 16037,
    "start_time": "2021-10-05T17:14:51.713Z"
   },
   {
    "duration": 7411,
    "start_time": "2021-10-05T17:15:24.553Z"
   },
   {
    "duration": 148,
    "start_time": "2021-10-05T17:15:36.595Z"
   },
   {
    "duration": 7282,
    "start_time": "2021-10-05T17:17:23.580Z"
   },
   {
    "duration": 12001,
    "start_time": "2021-10-05T17:17:38.623Z"
   },
   {
    "duration": 148,
    "start_time": "2021-10-05T17:18:06.964Z"
   },
   {
    "duration": 16548,
    "start_time": "2021-10-05T17:18:33.959Z"
   },
   {
    "duration": 17830,
    "start_time": "2021-10-05T17:19:00.599Z"
   },
   {
    "duration": 4,
    "start_time": "2021-10-05T17:23:19.604Z"
   },
   {
    "duration": 64,
    "start_time": "2021-10-05T17:23:19.610Z"
   },
   {
    "duration": 11,
    "start_time": "2021-10-05T17:23:19.675Z"
   },
   {
    "duration": 30,
    "start_time": "2021-10-05T17:23:19.688Z"
   },
   {
    "duration": 18201,
    "start_time": "2021-10-05T17:23:19.720Z"
   },
   {
    "duration": 12,
    "start_time": "2021-10-05T17:23:37.923Z"
   },
   {
    "duration": 10,
    "start_time": "2021-10-05T17:23:37.937Z"
   },
   {
    "duration": 5,
    "start_time": "2021-10-05T17:23:37.949Z"
   },
   {
    "duration": 45,
    "start_time": "2021-10-05T17:23:37.956Z"
   },
   {
    "duration": 54,
    "start_time": "2021-10-05T17:29:58.405Z"
   },
   {
    "duration": 56,
    "start_time": "2021-10-05T17:30:24.205Z"
   },
   {
    "duration": 17809,
    "start_time": "2021-10-05T17:30:29.141Z"
   },
   {
    "duration": 17819,
    "start_time": "2021-10-05T17:33:08.368Z"
   },
   {
    "duration": 17730,
    "start_time": "2021-10-05T17:34:16.373Z"
   }
  ],
  "kernelspec": {
   "display_name": "Python 3",
   "language": "python",
   "name": "python3"
  },
  "language_info": {
   "codemirror_mode": {
    "name": "ipython",
    "version": 3
   },
   "file_extension": ".py",
   "mimetype": "text/x-python",
   "name": "python",
   "nbconvert_exporter": "python",
   "pygments_lexer": "ipython3",
   "version": "3.8.8"
  },
  "toc": {
   "base_numbering": 1,
   "nav_menu": {},
   "number_sections": true,
   "sideBar": true,
   "skip_h1_title": true,
   "title_cell": "Table of Contents",
   "title_sidebar": "Contents",
   "toc_cell": false,
   "toc_position": {
    "height": "calc(100% - 180px)",
    "left": "10px",
    "top": "150px",
    "width": "254.53px"
   },
   "toc_section_display": true,
   "toc_window_display": true
  }
 },
 "nbformat": 4,
 "nbformat_minor": 2
}
