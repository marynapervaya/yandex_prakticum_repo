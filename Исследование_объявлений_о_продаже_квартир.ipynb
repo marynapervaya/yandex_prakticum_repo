{
 "cells": [
  {
   "cell_type": "markdown",
   "metadata": {
    "toc": true
   },
   "source": [
    "<h1>Содержание<span class=\"tocSkip\"></span></h1>\n",
    "<div class=\"toc\"><ul class=\"toc-item\"><li><span><a href=\"#Изучение-данных-из-файла\" data-toc-modified-id=\"Изучение-данных-из-файла-1\"><span class=\"toc-item-num\">1&nbsp;&nbsp;</span>Изучение данных из файла</a></span><ul class=\"toc-item\"><li><span><a href=\"#Вывод\" data-toc-modified-id=\"Вывод-1.1\"><span class=\"toc-item-num\">1.1&nbsp;&nbsp;</span>Вывод</a></span></li></ul></li><li><span><a href=\"#Предобработка-данных\" data-toc-modified-id=\"Предобработка-данных-2\"><span class=\"toc-item-num\">2&nbsp;&nbsp;</span>Предобработка данных</a></span></li><li><span><a href=\"#Расчёты-и-добавление-результатов-в-таблицу\" data-toc-modified-id=\"Расчёты-и-добавление-результатов-в-таблицу-3\"><span class=\"toc-item-num\">3&nbsp;&nbsp;</span>Расчёты и добавление результатов в таблицу</a></span></li><li><span><a href=\"#Исследовательский-анализ-данных\" data-toc-modified-id=\"Исследовательский-анализ-данных-4\"><span class=\"toc-item-num\">4&nbsp;&nbsp;</span>Исследовательский анализ данных</a></span></li><li><span><a href=\"#Общий-вывод\" data-toc-modified-id=\"Общий-вывод-5\"><span class=\"toc-item-num\">5&nbsp;&nbsp;</span>Общий вывод</a></span></li><li><span><a href=\"#Чек-лист-готовности-проекта\" data-toc-modified-id=\"Чек-лист-готовности-проекта-6\"><span class=\"toc-item-num\">6&nbsp;&nbsp;</span>Чек-лист готовности проекта</a></span></li></ul></div>"
   ]
  },
  {
   "cell_type": "markdown",
   "metadata": {},
   "source": [
    "# Исследование объявлений о продаже квартир\n",
    "\n",
    "В вашем распоряжении данные сервиса Яндекс.Недвижимость — архив объявлений о продаже квартир в Санкт-Петербурге и соседних населённых пунктах за несколько лет. Нужно научиться определять рыночную стоимость объектов недвижимости. Ваша задача — установить параметры. Это позволит построить автоматизированную систему: она отследит аномалии и мошенническую деятельность. \n",
    "\n",
    "По каждой квартире на продажу доступны два вида данных. Первые вписаны пользователем, вторые получены автоматически на основе картографических данных. Например, расстояние до центра, аэропорта, ближайшего парка и водоёма. \n",
    "\n",
    "Цель исследования - провести исследовательский анализ данных:\n",
    "1)Сколько обычно занимает продажа. Когда можно считать, что продажи прошли очень быстро, а когда необычно долго?\n",
    "2)Какие факторы больше всего влияют на стоимость квартиры? \n",
    "3)Посчитать среднюю цену квадратного метра в 10 населённых пунктах. \n",
    "4)выяснить, какая область входит в центр. \n",
    "\n",
    "Ход исследования.\n",
    "Данные о представлены в файле /datasets/real_estate_data.csv. О качестве данных ничего неизвестно, поэтому перед проведением исследовательского анализа данных понадобится обхор данных. Данные будут оценены на ошибки и будет оценено их влияние на исследование. Затем, на этапе предобработки данных будет проведен поиск возможности исправления самых критичных ошибок данных.\n",
    "\n",
    "Таким образом, исследование пройдет в 5 этапов:\n",
    "1. Изучение данных файла.\n",
    "2. Предобработка данных.\n",
    "3. Расчеты и добавление результатаов в таблицу.\n",
    "4. Исследовательский анализ данных.\n",
    "5. Общий вывод."
   ]
  },
  {
   "cell_type": "markdown",
   "metadata": {},
   "source": [
    "## Изучение данных из файла"
   ]
  },
  {
   "cell_type": "code",
   "execution_count": 1,
   "metadata": {},
   "outputs": [
    {
     "data": {
      "text/html": [
       "<div>\n",
       "<style scoped>\n",
       "    .dataframe tbody tr th:only-of-type {\n",
       "        vertical-align: middle;\n",
       "    }\n",
       "\n",
       "    .dataframe tbody tr th {\n",
       "        vertical-align: top;\n",
       "    }\n",
       "\n",
       "    .dataframe thead th {\n",
       "        text-align: right;\n",
       "    }\n",
       "</style>\n",
       "<table border=\"1\" class=\"dataframe\">\n",
       "  <thead>\n",
       "    <tr style=\"text-align: right;\">\n",
       "      <th></th>\n",
       "      <th>total_images\\tlast_price\\ttotal_area\\tfirst_day_exposition\\trooms\\tceiling_height\\tfloors_total\\tliving_area\\tfloor\\tis_apartment\\tstudio\\topen_plan\\tkitchen_area\\tbalcony\\tlocality_name\\tairports_nearest\\tcityCenters_nearest\\tparks_around3000\\tparks_nearest\\tponds_around3000\\tponds_nearest\\tdays_exposition</th>\n",
       "    </tr>\n",
       "  </thead>\n",
       "  <tbody>\n",
       "    <tr>\n",
       "      <td>0</td>\n",
       "      <td>20\\t13000000.0\\t108.0\\t2019-03-07T00:00:00\\t3\\...</td>\n",
       "    </tr>\n",
       "    <tr>\n",
       "      <td>1</td>\n",
       "      <td>7\\t3350000.0\\t40.4\\t2018-12-04T00:00:00\\t1\\t\\t...</td>\n",
       "    </tr>\n",
       "    <tr>\n",
       "      <td>2</td>\n",
       "      <td>10\\t5196000.0\\t56.0\\t2015-08-20T00:00:00\\t2\\t\\...</td>\n",
       "    </tr>\n",
       "    <tr>\n",
       "      <td>3</td>\n",
       "      <td>0\\t64900000.0\\t159.0\\t2015-07-24T00:00:00\\t3\\t...</td>\n",
       "    </tr>\n",
       "    <tr>\n",
       "      <td>4</td>\n",
       "      <td>2\\t10000000.0\\t100.0\\t2018-06-19T00:00:00\\t2\\t...</td>\n",
       "    </tr>\n",
       "    <tr>\n",
       "      <td>5</td>\n",
       "      <td>10\\t2890000.0\\t30.4\\t2018-09-10T00:00:00\\t1\\t\\...</td>\n",
       "    </tr>\n",
       "    <tr>\n",
       "      <td>6</td>\n",
       "      <td>6\\t3700000.0\\t37.3\\t2017-11-02T00:00:00\\t1\\t\\t...</td>\n",
       "    </tr>\n",
       "    <tr>\n",
       "      <td>7</td>\n",
       "      <td>5\\t7915000.0\\t71.6\\t2019-04-18T00:00:00\\t2\\t\\t...</td>\n",
       "    </tr>\n",
       "    <tr>\n",
       "      <td>8</td>\n",
       "      <td>20\\t2900000.0\\t33.16\\t2018-05-23T00:00:00\\t1\\t...</td>\n",
       "    </tr>\n",
       "    <tr>\n",
       "      <td>9</td>\n",
       "      <td>18\\t5400000.0\\t61.0\\t2017-02-26T00:00:00\\t3\\t2...</td>\n",
       "    </tr>\n",
       "  </tbody>\n",
       "</table>\n",
       "</div>"
      ],
      "text/plain": [
       "  total_images\\tlast_price\\ttotal_area\\tfirst_day_exposition\\trooms\\tceiling_height\\tfloors_total\\tliving_area\\tfloor\\tis_apartment\\tstudio\\topen_plan\\tkitchen_area\\tbalcony\\tlocality_name\\tairports_nearest\\tcityCenters_nearest\\tparks_around3000\\tparks_nearest\\tponds_around3000\\tponds_nearest\\tdays_exposition\n",
       "0  20\\t13000000.0\\t108.0\\t2019-03-07T00:00:00\\t3\\...                                                                                                                                                                                                                                                                  \n",
       "1  7\\t3350000.0\\t40.4\\t2018-12-04T00:00:00\\t1\\t\\t...                                                                                                                                                                                                                                                                  \n",
       "2  10\\t5196000.0\\t56.0\\t2015-08-20T00:00:00\\t2\\t\\...                                                                                                                                                                                                                                                                  \n",
       "3  0\\t64900000.0\\t159.0\\t2015-07-24T00:00:00\\t3\\t...                                                                                                                                                                                                                                                                  \n",
       "4  2\\t10000000.0\\t100.0\\t2018-06-19T00:00:00\\t2\\t...                                                                                                                                                                                                                                                                  \n",
       "5  10\\t2890000.0\\t30.4\\t2018-09-10T00:00:00\\t1\\t\\...                                                                                                                                                                                                                                                                  \n",
       "6  6\\t3700000.0\\t37.3\\t2017-11-02T00:00:00\\t1\\t\\t...                                                                                                                                                                                                                                                                  \n",
       "7  5\\t7915000.0\\t71.6\\t2019-04-18T00:00:00\\t2\\t\\t...                                                                                                                                                                                                                                                                  \n",
       "8  20\\t2900000.0\\t33.16\\t2018-05-23T00:00:00\\t1\\t...                                                                                                                                                                                                                                                                  \n",
       "9  18\\t5400000.0\\t61.0\\t2017-02-26T00:00:00\\t3\\t2...                                                                                                                                                                                                                                                                  "
      ]
     },
     "execution_count": 1,
     "metadata": {},
     "output_type": "execute_result"
    }
   ],
   "source": [
    "import pandas as pd #загрузка библиотеки\n",
    "df = pd.read_csv('https://code.s3.yandex.net/datasets/real_estate_data.csv')#загрузка файла\n",
    "df.head(10)#выводим первые строки таблицы"
   ]
  },
  {
   "cell_type": "markdown",
   "metadata": {},
   "source": [
    "Данные склеились в одну строку вместо того, чтобы разбиться по колонкам. Это произошло из-за разделителей в формате csv. Используем разделитель столбцов '\\t'"
   ]
  },
  {
   "cell_type": "code",
   "execution_count": 2,
   "metadata": {
    "scrolled": true
   },
   "outputs": [
    {
     "data": {
      "text/html": [
       "<div>\n",
       "<style scoped>\n",
       "    .dataframe tbody tr th:only-of-type {\n",
       "        vertical-align: middle;\n",
       "    }\n",
       "\n",
       "    .dataframe tbody tr th {\n",
       "        vertical-align: top;\n",
       "    }\n",
       "\n",
       "    .dataframe thead th {\n",
       "        text-align: right;\n",
       "    }\n",
       "</style>\n",
       "<table border=\"1\" class=\"dataframe\">\n",
       "  <thead>\n",
       "    <tr style=\"text-align: right;\">\n",
       "      <th></th>\n",
       "      <th>total_images</th>\n",
       "      <th>last_price</th>\n",
       "      <th>total_area</th>\n",
       "      <th>first_day_exposition</th>\n",
       "      <th>rooms</th>\n",
       "      <th>ceiling_height</th>\n",
       "      <th>floors_total</th>\n",
       "      <th>living_area</th>\n",
       "      <th>floor</th>\n",
       "      <th>is_apartment</th>\n",
       "      <th>...</th>\n",
       "      <th>kitchen_area</th>\n",
       "      <th>balcony</th>\n",
       "      <th>locality_name</th>\n",
       "      <th>airports_nearest</th>\n",
       "      <th>cityCenters_nearest</th>\n",
       "      <th>parks_around3000</th>\n",
       "      <th>parks_nearest</th>\n",
       "      <th>ponds_around3000</th>\n",
       "      <th>ponds_nearest</th>\n",
       "      <th>days_exposition</th>\n",
       "    </tr>\n",
       "  </thead>\n",
       "  <tbody>\n",
       "    <tr>\n",
       "      <td>0</td>\n",
       "      <td>20</td>\n",
       "      <td>13000000.0</td>\n",
       "      <td>108.00</td>\n",
       "      <td>2019-03-07T00:00:00</td>\n",
       "      <td>3</td>\n",
       "      <td>2.70</td>\n",
       "      <td>16.0</td>\n",
       "      <td>51.00</td>\n",
       "      <td>8</td>\n",
       "      <td>NaN</td>\n",
       "      <td>...</td>\n",
       "      <td>25.00</td>\n",
       "      <td>NaN</td>\n",
       "      <td>Санкт-Петербург</td>\n",
       "      <td>18863.0</td>\n",
       "      <td>16028.0</td>\n",
       "      <td>1.0</td>\n",
       "      <td>482.0</td>\n",
       "      <td>2.0</td>\n",
       "      <td>755.0</td>\n",
       "      <td>NaN</td>\n",
       "    </tr>\n",
       "    <tr>\n",
       "      <td>1</td>\n",
       "      <td>7</td>\n",
       "      <td>3350000.0</td>\n",
       "      <td>40.40</td>\n",
       "      <td>2018-12-04T00:00:00</td>\n",
       "      <td>1</td>\n",
       "      <td>NaN</td>\n",
       "      <td>11.0</td>\n",
       "      <td>18.60</td>\n",
       "      <td>1</td>\n",
       "      <td>NaN</td>\n",
       "      <td>...</td>\n",
       "      <td>11.00</td>\n",
       "      <td>2.0</td>\n",
       "      <td>посёлок Шушары</td>\n",
       "      <td>12817.0</td>\n",
       "      <td>18603.0</td>\n",
       "      <td>0.0</td>\n",
       "      <td>NaN</td>\n",
       "      <td>0.0</td>\n",
       "      <td>NaN</td>\n",
       "      <td>81.0</td>\n",
       "    </tr>\n",
       "    <tr>\n",
       "      <td>2</td>\n",
       "      <td>10</td>\n",
       "      <td>5196000.0</td>\n",
       "      <td>56.00</td>\n",
       "      <td>2015-08-20T00:00:00</td>\n",
       "      <td>2</td>\n",
       "      <td>NaN</td>\n",
       "      <td>5.0</td>\n",
       "      <td>34.30</td>\n",
       "      <td>4</td>\n",
       "      <td>NaN</td>\n",
       "      <td>...</td>\n",
       "      <td>8.30</td>\n",
       "      <td>0.0</td>\n",
       "      <td>Санкт-Петербург</td>\n",
       "      <td>21741.0</td>\n",
       "      <td>13933.0</td>\n",
       "      <td>1.0</td>\n",
       "      <td>90.0</td>\n",
       "      <td>2.0</td>\n",
       "      <td>574.0</td>\n",
       "      <td>558.0</td>\n",
       "    </tr>\n",
       "    <tr>\n",
       "      <td>3</td>\n",
       "      <td>0</td>\n",
       "      <td>64900000.0</td>\n",
       "      <td>159.00</td>\n",
       "      <td>2015-07-24T00:00:00</td>\n",
       "      <td>3</td>\n",
       "      <td>NaN</td>\n",
       "      <td>14.0</td>\n",
       "      <td>NaN</td>\n",
       "      <td>9</td>\n",
       "      <td>NaN</td>\n",
       "      <td>...</td>\n",
       "      <td>NaN</td>\n",
       "      <td>0.0</td>\n",
       "      <td>Санкт-Петербург</td>\n",
       "      <td>28098.0</td>\n",
       "      <td>6800.0</td>\n",
       "      <td>2.0</td>\n",
       "      <td>84.0</td>\n",
       "      <td>3.0</td>\n",
       "      <td>234.0</td>\n",
       "      <td>424.0</td>\n",
       "    </tr>\n",
       "    <tr>\n",
       "      <td>4</td>\n",
       "      <td>2</td>\n",
       "      <td>10000000.0</td>\n",
       "      <td>100.00</td>\n",
       "      <td>2018-06-19T00:00:00</td>\n",
       "      <td>2</td>\n",
       "      <td>3.03</td>\n",
       "      <td>14.0</td>\n",
       "      <td>32.00</td>\n",
       "      <td>13</td>\n",
       "      <td>NaN</td>\n",
       "      <td>...</td>\n",
       "      <td>41.00</td>\n",
       "      <td>NaN</td>\n",
       "      <td>Санкт-Петербург</td>\n",
       "      <td>31856.0</td>\n",
       "      <td>8098.0</td>\n",
       "      <td>2.0</td>\n",
       "      <td>112.0</td>\n",
       "      <td>1.0</td>\n",
       "      <td>48.0</td>\n",
       "      <td>121.0</td>\n",
       "    </tr>\n",
       "    <tr>\n",
       "      <td>5</td>\n",
       "      <td>10</td>\n",
       "      <td>2890000.0</td>\n",
       "      <td>30.40</td>\n",
       "      <td>2018-09-10T00:00:00</td>\n",
       "      <td>1</td>\n",
       "      <td>NaN</td>\n",
       "      <td>12.0</td>\n",
       "      <td>14.40</td>\n",
       "      <td>5</td>\n",
       "      <td>NaN</td>\n",
       "      <td>...</td>\n",
       "      <td>9.10</td>\n",
       "      <td>NaN</td>\n",
       "      <td>городской посёлок Янино-1</td>\n",
       "      <td>NaN</td>\n",
       "      <td>NaN</td>\n",
       "      <td>NaN</td>\n",
       "      <td>NaN</td>\n",
       "      <td>NaN</td>\n",
       "      <td>NaN</td>\n",
       "      <td>55.0</td>\n",
       "    </tr>\n",
       "    <tr>\n",
       "      <td>6</td>\n",
       "      <td>6</td>\n",
       "      <td>3700000.0</td>\n",
       "      <td>37.30</td>\n",
       "      <td>2017-11-02T00:00:00</td>\n",
       "      <td>1</td>\n",
       "      <td>NaN</td>\n",
       "      <td>26.0</td>\n",
       "      <td>10.60</td>\n",
       "      <td>6</td>\n",
       "      <td>NaN</td>\n",
       "      <td>...</td>\n",
       "      <td>14.40</td>\n",
       "      <td>1.0</td>\n",
       "      <td>посёлок Парголово</td>\n",
       "      <td>52996.0</td>\n",
       "      <td>19143.0</td>\n",
       "      <td>0.0</td>\n",
       "      <td>NaN</td>\n",
       "      <td>0.0</td>\n",
       "      <td>NaN</td>\n",
       "      <td>155.0</td>\n",
       "    </tr>\n",
       "    <tr>\n",
       "      <td>7</td>\n",
       "      <td>5</td>\n",
       "      <td>7915000.0</td>\n",
       "      <td>71.60</td>\n",
       "      <td>2019-04-18T00:00:00</td>\n",
       "      <td>2</td>\n",
       "      <td>NaN</td>\n",
       "      <td>24.0</td>\n",
       "      <td>NaN</td>\n",
       "      <td>22</td>\n",
       "      <td>NaN</td>\n",
       "      <td>...</td>\n",
       "      <td>18.90</td>\n",
       "      <td>2.0</td>\n",
       "      <td>Санкт-Петербург</td>\n",
       "      <td>23982.0</td>\n",
       "      <td>11634.0</td>\n",
       "      <td>0.0</td>\n",
       "      <td>NaN</td>\n",
       "      <td>0.0</td>\n",
       "      <td>NaN</td>\n",
       "      <td>NaN</td>\n",
       "    </tr>\n",
       "    <tr>\n",
       "      <td>8</td>\n",
       "      <td>20</td>\n",
       "      <td>2900000.0</td>\n",
       "      <td>33.16</td>\n",
       "      <td>2018-05-23T00:00:00</td>\n",
       "      <td>1</td>\n",
       "      <td>NaN</td>\n",
       "      <td>27.0</td>\n",
       "      <td>15.43</td>\n",
       "      <td>26</td>\n",
       "      <td>NaN</td>\n",
       "      <td>...</td>\n",
       "      <td>8.81</td>\n",
       "      <td>NaN</td>\n",
       "      <td>посёлок Мурино</td>\n",
       "      <td>NaN</td>\n",
       "      <td>NaN</td>\n",
       "      <td>NaN</td>\n",
       "      <td>NaN</td>\n",
       "      <td>NaN</td>\n",
       "      <td>NaN</td>\n",
       "      <td>189.0</td>\n",
       "    </tr>\n",
       "    <tr>\n",
       "      <td>9</td>\n",
       "      <td>18</td>\n",
       "      <td>5400000.0</td>\n",
       "      <td>61.00</td>\n",
       "      <td>2017-02-26T00:00:00</td>\n",
       "      <td>3</td>\n",
       "      <td>2.50</td>\n",
       "      <td>9.0</td>\n",
       "      <td>43.60</td>\n",
       "      <td>7</td>\n",
       "      <td>NaN</td>\n",
       "      <td>...</td>\n",
       "      <td>6.50</td>\n",
       "      <td>2.0</td>\n",
       "      <td>Санкт-Петербург</td>\n",
       "      <td>50898.0</td>\n",
       "      <td>15008.0</td>\n",
       "      <td>0.0</td>\n",
       "      <td>NaN</td>\n",
       "      <td>0.0</td>\n",
       "      <td>NaN</td>\n",
       "      <td>289.0</td>\n",
       "    </tr>\n",
       "  </tbody>\n",
       "</table>\n",
       "<p>10 rows × 22 columns</p>\n",
       "</div>"
      ],
      "text/plain": [
       "   total_images  last_price  total_area first_day_exposition  rooms  \\\n",
       "0            20  13000000.0      108.00  2019-03-07T00:00:00      3   \n",
       "1             7   3350000.0       40.40  2018-12-04T00:00:00      1   \n",
       "2            10   5196000.0       56.00  2015-08-20T00:00:00      2   \n",
       "3             0  64900000.0      159.00  2015-07-24T00:00:00      3   \n",
       "4             2  10000000.0      100.00  2018-06-19T00:00:00      2   \n",
       "5            10   2890000.0       30.40  2018-09-10T00:00:00      1   \n",
       "6             6   3700000.0       37.30  2017-11-02T00:00:00      1   \n",
       "7             5   7915000.0       71.60  2019-04-18T00:00:00      2   \n",
       "8            20   2900000.0       33.16  2018-05-23T00:00:00      1   \n",
       "9            18   5400000.0       61.00  2017-02-26T00:00:00      3   \n",
       "\n",
       "   ceiling_height  floors_total  living_area  floor is_apartment  ...  \\\n",
       "0            2.70          16.0        51.00      8          NaN  ...   \n",
       "1             NaN          11.0        18.60      1          NaN  ...   \n",
       "2             NaN           5.0        34.30      4          NaN  ...   \n",
       "3             NaN          14.0          NaN      9          NaN  ...   \n",
       "4            3.03          14.0        32.00     13          NaN  ...   \n",
       "5             NaN          12.0        14.40      5          NaN  ...   \n",
       "6             NaN          26.0        10.60      6          NaN  ...   \n",
       "7             NaN          24.0          NaN     22          NaN  ...   \n",
       "8             NaN          27.0        15.43     26          NaN  ...   \n",
       "9            2.50           9.0        43.60      7          NaN  ...   \n",
       "\n",
       "   kitchen_area  balcony              locality_name  airports_nearest  \\\n",
       "0         25.00      NaN            Санкт-Петербург           18863.0   \n",
       "1         11.00      2.0             посёлок Шушары           12817.0   \n",
       "2          8.30      0.0            Санкт-Петербург           21741.0   \n",
       "3           NaN      0.0            Санкт-Петербург           28098.0   \n",
       "4         41.00      NaN            Санкт-Петербург           31856.0   \n",
       "5          9.10      NaN  городской посёлок Янино-1               NaN   \n",
       "6         14.40      1.0          посёлок Парголово           52996.0   \n",
       "7         18.90      2.0            Санкт-Петербург           23982.0   \n",
       "8          8.81      NaN             посёлок Мурино               NaN   \n",
       "9          6.50      2.0            Санкт-Петербург           50898.0   \n",
       "\n",
       "  cityCenters_nearest  parks_around3000  parks_nearest  ponds_around3000  \\\n",
       "0             16028.0               1.0          482.0               2.0   \n",
       "1             18603.0               0.0            NaN               0.0   \n",
       "2             13933.0               1.0           90.0               2.0   \n",
       "3              6800.0               2.0           84.0               3.0   \n",
       "4              8098.0               2.0          112.0               1.0   \n",
       "5                 NaN               NaN            NaN               NaN   \n",
       "6             19143.0               0.0            NaN               0.0   \n",
       "7             11634.0               0.0            NaN               0.0   \n",
       "8                 NaN               NaN            NaN               NaN   \n",
       "9             15008.0               0.0            NaN               0.0   \n",
       "\n",
       "   ponds_nearest  days_exposition  \n",
       "0          755.0              NaN  \n",
       "1            NaN             81.0  \n",
       "2          574.0            558.0  \n",
       "3          234.0            424.0  \n",
       "4           48.0            121.0  \n",
       "5            NaN             55.0  \n",
       "6            NaN            155.0  \n",
       "7            NaN              NaN  \n",
       "8            NaN            189.0  \n",
       "9            NaN            289.0  \n",
       "\n",
       "[10 rows x 22 columns]"
      ]
     },
     "execution_count": 2,
     "metadata": {},
     "output_type": "execute_result"
    }
   ],
   "source": [
    "df = pd.read_csv('https://code.s3.yandex.net/datasets/real_estate_data.csv', sep ='\\t')#загрузка файла с использованием разделителя столбцов\n",
    "df.head(10)#выводим первые строки таблицы"
   ]
  },
  {
   "cell_type": "code",
   "execution_count": 3,
   "metadata": {},
   "outputs": [
    {
     "data": {
      "text/html": [
       "<div>\n",
       "<style scoped>\n",
       "    .dataframe tbody tr th:only-of-type {\n",
       "        vertical-align: middle;\n",
       "    }\n",
       "\n",
       "    .dataframe tbody tr th {\n",
       "        vertical-align: top;\n",
       "    }\n",
       "\n",
       "    .dataframe thead th {\n",
       "        text-align: right;\n",
       "    }\n",
       "</style>\n",
       "<table border=\"1\" class=\"dataframe\">\n",
       "  <thead>\n",
       "    <tr style=\"text-align: right;\">\n",
       "      <th></th>\n",
       "      <th>total_images</th>\n",
       "      <th>last_price</th>\n",
       "      <th>total_area</th>\n",
       "      <th>first_day_exposition</th>\n",
       "      <th>rooms</th>\n",
       "      <th>ceiling_height</th>\n",
       "      <th>floors_total</th>\n",
       "      <th>living_area</th>\n",
       "      <th>floor</th>\n",
       "      <th>is_apartment</th>\n",
       "      <th>...</th>\n",
       "      <th>kitchen_area</th>\n",
       "      <th>balcony</th>\n",
       "      <th>locality_name</th>\n",
       "      <th>airports_nearest</th>\n",
       "      <th>cityCenters_nearest</th>\n",
       "      <th>parks_around3000</th>\n",
       "      <th>parks_nearest</th>\n",
       "      <th>ponds_around3000</th>\n",
       "      <th>ponds_nearest</th>\n",
       "      <th>days_exposition</th>\n",
       "    </tr>\n",
       "  </thead>\n",
       "  <tbody>\n",
       "    <tr>\n",
       "      <td>count</td>\n",
       "      <td>23699.000000</td>\n",
       "      <td>2.369900e+04</td>\n",
       "      <td>23699.000000</td>\n",
       "      <td>23699</td>\n",
       "      <td>23699.000000</td>\n",
       "      <td>14504.000000</td>\n",
       "      <td>23613.000000</td>\n",
       "      <td>21796.000000</td>\n",
       "      <td>23699.000000</td>\n",
       "      <td>2775</td>\n",
       "      <td>...</td>\n",
       "      <td>21421.000000</td>\n",
       "      <td>12180.000000</td>\n",
       "      <td>23650</td>\n",
       "      <td>18157.000000</td>\n",
       "      <td>18180.000000</td>\n",
       "      <td>18181.000000</td>\n",
       "      <td>8079.000000</td>\n",
       "      <td>18181.000000</td>\n",
       "      <td>9110.000000</td>\n",
       "      <td>20518.000000</td>\n",
       "    </tr>\n",
       "    <tr>\n",
       "      <td>unique</td>\n",
       "      <td>NaN</td>\n",
       "      <td>NaN</td>\n",
       "      <td>NaN</td>\n",
       "      <td>1491</td>\n",
       "      <td>NaN</td>\n",
       "      <td>NaN</td>\n",
       "      <td>NaN</td>\n",
       "      <td>NaN</td>\n",
       "      <td>NaN</td>\n",
       "      <td>2</td>\n",
       "      <td>...</td>\n",
       "      <td>NaN</td>\n",
       "      <td>NaN</td>\n",
       "      <td>364</td>\n",
       "      <td>NaN</td>\n",
       "      <td>NaN</td>\n",
       "      <td>NaN</td>\n",
       "      <td>NaN</td>\n",
       "      <td>NaN</td>\n",
       "      <td>NaN</td>\n",
       "      <td>NaN</td>\n",
       "    </tr>\n",
       "    <tr>\n",
       "      <td>top</td>\n",
       "      <td>NaN</td>\n",
       "      <td>NaN</td>\n",
       "      <td>NaN</td>\n",
       "      <td>2018-02-01T00:00:00</td>\n",
       "      <td>NaN</td>\n",
       "      <td>NaN</td>\n",
       "      <td>NaN</td>\n",
       "      <td>NaN</td>\n",
       "      <td>NaN</td>\n",
       "      <td>False</td>\n",
       "      <td>...</td>\n",
       "      <td>NaN</td>\n",
       "      <td>NaN</td>\n",
       "      <td>Санкт-Петербург</td>\n",
       "      <td>NaN</td>\n",
       "      <td>NaN</td>\n",
       "      <td>NaN</td>\n",
       "      <td>NaN</td>\n",
       "      <td>NaN</td>\n",
       "      <td>NaN</td>\n",
       "      <td>NaN</td>\n",
       "    </tr>\n",
       "    <tr>\n",
       "      <td>freq</td>\n",
       "      <td>NaN</td>\n",
       "      <td>NaN</td>\n",
       "      <td>NaN</td>\n",
       "      <td>368</td>\n",
       "      <td>NaN</td>\n",
       "      <td>NaN</td>\n",
       "      <td>NaN</td>\n",
       "      <td>NaN</td>\n",
       "      <td>NaN</td>\n",
       "      <td>2725</td>\n",
       "      <td>...</td>\n",
       "      <td>NaN</td>\n",
       "      <td>NaN</td>\n",
       "      <td>15721</td>\n",
       "      <td>NaN</td>\n",
       "      <td>NaN</td>\n",
       "      <td>NaN</td>\n",
       "      <td>NaN</td>\n",
       "      <td>NaN</td>\n",
       "      <td>NaN</td>\n",
       "      <td>NaN</td>\n",
       "    </tr>\n",
       "    <tr>\n",
       "      <td>mean</td>\n",
       "      <td>9.858475</td>\n",
       "      <td>6.541549e+06</td>\n",
       "      <td>60.348651</td>\n",
       "      <td>NaN</td>\n",
       "      <td>2.070636</td>\n",
       "      <td>2.771499</td>\n",
       "      <td>10.673824</td>\n",
       "      <td>34.457852</td>\n",
       "      <td>5.892358</td>\n",
       "      <td>NaN</td>\n",
       "      <td>...</td>\n",
       "      <td>10.569807</td>\n",
       "      <td>1.150082</td>\n",
       "      <td>NaN</td>\n",
       "      <td>28793.672193</td>\n",
       "      <td>14191.277833</td>\n",
       "      <td>0.611408</td>\n",
       "      <td>490.804555</td>\n",
       "      <td>0.770255</td>\n",
       "      <td>517.980900</td>\n",
       "      <td>180.888634</td>\n",
       "    </tr>\n",
       "    <tr>\n",
       "      <td>std</td>\n",
       "      <td>5.682529</td>\n",
       "      <td>1.088701e+07</td>\n",
       "      <td>35.654083</td>\n",
       "      <td>NaN</td>\n",
       "      <td>1.078405</td>\n",
       "      <td>1.261056</td>\n",
       "      <td>6.597173</td>\n",
       "      <td>22.030445</td>\n",
       "      <td>4.885249</td>\n",
       "      <td>NaN</td>\n",
       "      <td>...</td>\n",
       "      <td>5.905438</td>\n",
       "      <td>1.071300</td>\n",
       "      <td>NaN</td>\n",
       "      <td>12630.880622</td>\n",
       "      <td>8608.386210</td>\n",
       "      <td>0.802074</td>\n",
       "      <td>342.317995</td>\n",
       "      <td>0.938346</td>\n",
       "      <td>277.720643</td>\n",
       "      <td>219.727988</td>\n",
       "    </tr>\n",
       "    <tr>\n",
       "      <td>min</td>\n",
       "      <td>0.000000</td>\n",
       "      <td>1.219000e+04</td>\n",
       "      <td>12.000000</td>\n",
       "      <td>NaN</td>\n",
       "      <td>0.000000</td>\n",
       "      <td>1.000000</td>\n",
       "      <td>1.000000</td>\n",
       "      <td>2.000000</td>\n",
       "      <td>1.000000</td>\n",
       "      <td>NaN</td>\n",
       "      <td>...</td>\n",
       "      <td>1.300000</td>\n",
       "      <td>0.000000</td>\n",
       "      <td>NaN</td>\n",
       "      <td>0.000000</td>\n",
       "      <td>181.000000</td>\n",
       "      <td>0.000000</td>\n",
       "      <td>1.000000</td>\n",
       "      <td>0.000000</td>\n",
       "      <td>13.000000</td>\n",
       "      <td>1.000000</td>\n",
       "    </tr>\n",
       "    <tr>\n",
       "      <td>25%</td>\n",
       "      <td>6.000000</td>\n",
       "      <td>3.400000e+06</td>\n",
       "      <td>40.000000</td>\n",
       "      <td>NaN</td>\n",
       "      <td>1.000000</td>\n",
       "      <td>2.520000</td>\n",
       "      <td>5.000000</td>\n",
       "      <td>18.600000</td>\n",
       "      <td>2.000000</td>\n",
       "      <td>NaN</td>\n",
       "      <td>...</td>\n",
       "      <td>7.000000</td>\n",
       "      <td>0.000000</td>\n",
       "      <td>NaN</td>\n",
       "      <td>18585.000000</td>\n",
       "      <td>9238.000000</td>\n",
       "      <td>0.000000</td>\n",
       "      <td>288.000000</td>\n",
       "      <td>0.000000</td>\n",
       "      <td>294.000000</td>\n",
       "      <td>45.000000</td>\n",
       "    </tr>\n",
       "    <tr>\n",
       "      <td>50%</td>\n",
       "      <td>9.000000</td>\n",
       "      <td>4.650000e+06</td>\n",
       "      <td>52.000000</td>\n",
       "      <td>NaN</td>\n",
       "      <td>2.000000</td>\n",
       "      <td>2.650000</td>\n",
       "      <td>9.000000</td>\n",
       "      <td>30.000000</td>\n",
       "      <td>4.000000</td>\n",
       "      <td>NaN</td>\n",
       "      <td>...</td>\n",
       "      <td>9.100000</td>\n",
       "      <td>1.000000</td>\n",
       "      <td>NaN</td>\n",
       "      <td>26726.000000</td>\n",
       "      <td>13098.500000</td>\n",
       "      <td>0.000000</td>\n",
       "      <td>455.000000</td>\n",
       "      <td>1.000000</td>\n",
       "      <td>502.000000</td>\n",
       "      <td>95.000000</td>\n",
       "    </tr>\n",
       "    <tr>\n",
       "      <td>75%</td>\n",
       "      <td>14.000000</td>\n",
       "      <td>6.800000e+06</td>\n",
       "      <td>69.900000</td>\n",
       "      <td>NaN</td>\n",
       "      <td>3.000000</td>\n",
       "      <td>2.800000</td>\n",
       "      <td>16.000000</td>\n",
       "      <td>42.300000</td>\n",
       "      <td>8.000000</td>\n",
       "      <td>NaN</td>\n",
       "      <td>...</td>\n",
       "      <td>12.000000</td>\n",
       "      <td>2.000000</td>\n",
       "      <td>NaN</td>\n",
       "      <td>37273.000000</td>\n",
       "      <td>16293.000000</td>\n",
       "      <td>1.000000</td>\n",
       "      <td>612.000000</td>\n",
       "      <td>1.000000</td>\n",
       "      <td>729.000000</td>\n",
       "      <td>232.000000</td>\n",
       "    </tr>\n",
       "    <tr>\n",
       "      <td>max</td>\n",
       "      <td>50.000000</td>\n",
       "      <td>7.630000e+08</td>\n",
       "      <td>900.000000</td>\n",
       "      <td>NaN</td>\n",
       "      <td>19.000000</td>\n",
       "      <td>100.000000</td>\n",
       "      <td>60.000000</td>\n",
       "      <td>409.700000</td>\n",
       "      <td>33.000000</td>\n",
       "      <td>NaN</td>\n",
       "      <td>...</td>\n",
       "      <td>112.000000</td>\n",
       "      <td>5.000000</td>\n",
       "      <td>NaN</td>\n",
       "      <td>84869.000000</td>\n",
       "      <td>65968.000000</td>\n",
       "      <td>3.000000</td>\n",
       "      <td>3190.000000</td>\n",
       "      <td>3.000000</td>\n",
       "      <td>1344.000000</td>\n",
       "      <td>1580.000000</td>\n",
       "    </tr>\n",
       "  </tbody>\n",
       "</table>\n",
       "<p>11 rows × 22 columns</p>\n",
       "</div>"
      ],
      "text/plain": [
       "        total_images    last_price    total_area first_day_exposition  \\\n",
       "count   23699.000000  2.369900e+04  23699.000000                23699   \n",
       "unique           NaN           NaN           NaN                 1491   \n",
       "top              NaN           NaN           NaN  2018-02-01T00:00:00   \n",
       "freq             NaN           NaN           NaN                  368   \n",
       "mean        9.858475  6.541549e+06     60.348651                  NaN   \n",
       "std         5.682529  1.088701e+07     35.654083                  NaN   \n",
       "min         0.000000  1.219000e+04     12.000000                  NaN   \n",
       "25%         6.000000  3.400000e+06     40.000000                  NaN   \n",
       "50%         9.000000  4.650000e+06     52.000000                  NaN   \n",
       "75%        14.000000  6.800000e+06     69.900000                  NaN   \n",
       "max        50.000000  7.630000e+08    900.000000                  NaN   \n",
       "\n",
       "               rooms  ceiling_height  floors_total   living_area  \\\n",
       "count   23699.000000    14504.000000  23613.000000  21796.000000   \n",
       "unique           NaN             NaN           NaN           NaN   \n",
       "top              NaN             NaN           NaN           NaN   \n",
       "freq             NaN             NaN           NaN           NaN   \n",
       "mean        2.070636        2.771499     10.673824     34.457852   \n",
       "std         1.078405        1.261056      6.597173     22.030445   \n",
       "min         0.000000        1.000000      1.000000      2.000000   \n",
       "25%         1.000000        2.520000      5.000000     18.600000   \n",
       "50%         2.000000        2.650000      9.000000     30.000000   \n",
       "75%         3.000000        2.800000     16.000000     42.300000   \n",
       "max        19.000000      100.000000     60.000000    409.700000   \n",
       "\n",
       "               floor is_apartment  ...  kitchen_area       balcony  \\\n",
       "count   23699.000000         2775  ...  21421.000000  12180.000000   \n",
       "unique           NaN            2  ...           NaN           NaN   \n",
       "top              NaN        False  ...           NaN           NaN   \n",
       "freq             NaN         2725  ...           NaN           NaN   \n",
       "mean        5.892358          NaN  ...     10.569807      1.150082   \n",
       "std         4.885249          NaN  ...      5.905438      1.071300   \n",
       "min         1.000000          NaN  ...      1.300000      0.000000   \n",
       "25%         2.000000          NaN  ...      7.000000      0.000000   \n",
       "50%         4.000000          NaN  ...      9.100000      1.000000   \n",
       "75%         8.000000          NaN  ...     12.000000      2.000000   \n",
       "max        33.000000          NaN  ...    112.000000      5.000000   \n",
       "\n",
       "          locality_name  airports_nearest cityCenters_nearest  \\\n",
       "count             23650      18157.000000        18180.000000   \n",
       "unique              364               NaN                 NaN   \n",
       "top     Санкт-Петербург               NaN                 NaN   \n",
       "freq              15721               NaN                 NaN   \n",
       "mean                NaN      28793.672193        14191.277833   \n",
       "std                 NaN      12630.880622         8608.386210   \n",
       "min                 NaN          0.000000          181.000000   \n",
       "25%                 NaN      18585.000000         9238.000000   \n",
       "50%                 NaN      26726.000000        13098.500000   \n",
       "75%                 NaN      37273.000000        16293.000000   \n",
       "max                 NaN      84869.000000        65968.000000   \n",
       "\n",
       "        parks_around3000  parks_nearest  ponds_around3000  ponds_nearest  \\\n",
       "count       18181.000000    8079.000000      18181.000000    9110.000000   \n",
       "unique               NaN            NaN               NaN            NaN   \n",
       "top                  NaN            NaN               NaN            NaN   \n",
       "freq                 NaN            NaN               NaN            NaN   \n",
       "mean            0.611408     490.804555          0.770255     517.980900   \n",
       "std             0.802074     342.317995          0.938346     277.720643   \n",
       "min             0.000000       1.000000          0.000000      13.000000   \n",
       "25%             0.000000     288.000000          0.000000     294.000000   \n",
       "50%             0.000000     455.000000          1.000000     502.000000   \n",
       "75%             1.000000     612.000000          1.000000     729.000000   \n",
       "max             3.000000    3190.000000          3.000000    1344.000000   \n",
       "\n",
       "        days_exposition  \n",
       "count      20518.000000  \n",
       "unique              NaN  \n",
       "top                 NaN  \n",
       "freq                NaN  \n",
       "mean         180.888634  \n",
       "std          219.727988  \n",
       "min            1.000000  \n",
       "25%           45.000000  \n",
       "50%           95.000000  \n",
       "75%          232.000000  \n",
       "max         1580.000000  \n",
       "\n",
       "[11 rows x 22 columns]"
      ]
     },
     "execution_count": 3,
     "metadata": {},
     "output_type": "execute_result"
    }
   ],
   "source": [
    "df.describe(include='all')#выводим для просмотра основных статистических данных"
   ]
  },
  {
   "cell_type": "code",
   "execution_count": 4,
   "metadata": {},
   "outputs": [
    {
     "name": "stdout",
     "output_type": "stream",
     "text": [
      "<class 'pandas.core.frame.DataFrame'>\n",
      "RangeIndex: 23699 entries, 0 to 23698\n",
      "Data columns (total 22 columns):\n",
      "total_images            23699 non-null int64\n",
      "last_price              23699 non-null float64\n",
      "total_area              23699 non-null float64\n",
      "first_day_exposition    23699 non-null object\n",
      "rooms                   23699 non-null int64\n",
      "ceiling_height          14504 non-null float64\n",
      "floors_total            23613 non-null float64\n",
      "living_area             21796 non-null float64\n",
      "floor                   23699 non-null int64\n",
      "is_apartment            2775 non-null object\n",
      "studio                  23699 non-null bool\n",
      "open_plan               23699 non-null bool\n",
      "kitchen_area            21421 non-null float64\n",
      "balcony                 12180 non-null float64\n",
      "locality_name           23650 non-null object\n",
      "airports_nearest        18157 non-null float64\n",
      "cityCenters_nearest     18180 non-null float64\n",
      "parks_around3000        18181 non-null float64\n",
      "parks_nearest           8079 non-null float64\n",
      "ponds_around3000        18181 non-null float64\n",
      "ponds_nearest           9110 non-null float64\n",
      "days_exposition         20518 non-null float64\n",
      "dtypes: bool(2), float64(14), int64(3), object(3)\n",
      "memory usage: 3.7+ MB\n"
     ]
    }
   ],
   "source": [
    "df.info()#выводим сводную информацию о таблице"
   ]
  },
  {
   "cell_type": "markdown",
   "metadata": {},
   "source": [
    "Итак, в таблице 22 столбца. \n",
    "Типы данных в толбцах: int64, float64, object, bool.\n",
    "\n",
    "Согласно документации к данным:\n",
    "airports_nearest — расстояние до ближайшего аэропорта в метрах (м)\n",
    "balcony — число балконов\n",
    "ceiling_height — высота потолков (м)\n",
    "cityCenters_nearest — расстояние до центра города (м)\n",
    "days_exposition — сколько дней было размещено объявление (от публикации до снятия)\n",
    "first_day_exposition — дата публикации\n",
    "floor — этаж\n",
    "floors_total — всего этажей в доме\n",
    "is_apartment — апартаменты (булев тип)\n",
    "kitchen_area — площадь кухни в квадратных метрах (м²)\n",
    "last_price — цена на момент снятия с публикации\n",
    "living_area — жилая площадь в квадратных метрах(м²)\n",
    "locality_name — название населённого пункта\n",
    "open_plan — свободная планировка (булев тип)\n",
    "parks_around3000 — число парков в радиусе 3 км\n",
    "parks_nearest — расстояние до ближайшего парка (м)\n",
    "ponds_around3000 — число водоёмов в радиусе 3 км\n",
    "ponds_nearest — расстояние до ближайшего водоёма (м)\n",
    "rooms — число комнат\n",
    "studio — квартира-студия (булев тип)\n",
    "total_area — площадь квартиры в квадратных метрах (м²)\n",
    "total_images — число фотографий квартиры в объявлении\n",
    "\n",
    "В названиях колонок нарушения стиля не видны.\n",
    "Количество значений в столбцах различается. Значит, в данных есть пропущенные значения."
   ]
  },
  {
   "cell_type": "markdown",
   "metadata": {},
   "source": [
    "### Вывод"
   ]
  },
  {
   "cell_type": "markdown",
   "metadata": {},
   "source": [
    "Данные склеились в одну строку вместо того, чтобы разбиться по колонкам. Это произошло из-за разделителей в формате csv. Использовав разделитель столбцов '\\t', устранили проблему.\n",
    "После преобразования таблицы установлено следующее.\n",
    "В каждой строке таблицы данные объявлений о продаже квартир в Санкт-Петербурге и соседних населённых пунктах за разные года.\n",
    "Часть колонок описывает квартиру: метраж, балкон и т.д., другая часть описывает инфраструктуру и расположение. Также приведены сведения о самом объявлении.\n",
    "Предварительно можно утверждать, что данных достаточно для проведения исследования. Но, в данных встречаются проблемы:\n",
    "1. Есть пропущенные значения.\n",
    "2. Данные отнесены к другим типам данных.\n",
    "\n",
    "После предобработки данных исследование станет более точным.\n",
    "Чтобы двигаться дальше необходимо устранить проблемы в данных."
   ]
  },
  {
   "cell_type": "markdown",
   "metadata": {},
   "source": [
    "## Предобработка данных"
   ]
  },
  {
   "cell_type": "code",
   "execution_count": 5,
   "metadata": {},
   "outputs": [
    {
     "data": {
      "text/plain": [
       "total_images                0\n",
       "last_price                  0\n",
       "total_area                  0\n",
       "first_day_exposition        0\n",
       "rooms                       0\n",
       "ceiling_height           9195\n",
       "floors_total               86\n",
       "living_area              1903\n",
       "floor                       0\n",
       "is_apartment            20924\n",
       "studio                      0\n",
       "open_plan                   0\n",
       "kitchen_area             2278\n",
       "balcony                 11519\n",
       "locality_name              49\n",
       "airports_nearest         5542\n",
       "cityCenters_nearest      5519\n",
       "parks_around3000         5518\n",
       "parks_nearest           15620\n",
       "ponds_around3000         5518\n",
       "ponds_nearest           14589\n",
       "days_exposition          3181\n",
       "dtype: int64"
      ]
     },
     "execution_count": 5,
     "metadata": {},
     "output_type": "execute_result"
    }
   ],
   "source": [
    "df.isna().sum()#определим пропущенные значения в таблице"
   ]
  },
  {
   "cell_type": "code",
   "execution_count": 6,
   "metadata": {},
   "outputs": [
    {
     "data": {
      "text/plain": [
       "total_images             0.000000\n",
       "last_price               0.000000\n",
       "total_area               0.000000\n",
       "first_day_exposition     0.000000\n",
       "rooms                    0.000000\n",
       "ceiling_height          38.799105\n",
       "floors_total             0.362885\n",
       "living_area              8.029875\n",
       "floor                    0.000000\n",
       "is_apartment            88.290645\n",
       "studio                   0.000000\n",
       "open_plan                0.000000\n",
       "kitchen_area             9.612220\n",
       "balcony                 48.605426\n",
       "locality_name            0.206760\n",
       "airports_nearest        23.384953\n",
       "cityCenters_nearest     23.287902\n",
       "parks_around3000        23.283683\n",
       "parks_nearest           65.909954\n",
       "ponds_around3000        23.283683\n",
       "ponds_nearest           61.559559\n",
       "days_exposition         13.422507\n",
       "dtype: float64"
      ]
     },
     "execution_count": 6,
     "metadata": {},
     "output_type": "execute_result"
    }
   ],
   "source": [
    "df.isna().sum()*100/len(df)"
   ]
  },
  {
   "cell_type": "code",
   "execution_count": 7,
   "metadata": {},
   "outputs": [
    {
     "data": {
      "text/plain": [
       "total_images            0.000000\n",
       "last_price              0.000000\n",
       "total_area              0.000000\n",
       "first_day_exposition    0.000000\n",
       "rooms                   0.000000\n",
       "ceiling_height          0.387991\n",
       "floors_total            0.003629\n",
       "living_area             0.080299\n",
       "floor                   0.000000\n",
       "is_apartment            0.882906\n",
       "studio                  0.000000\n",
       "open_plan               0.000000\n",
       "kitchen_area            0.096122\n",
       "balcony                 0.486054\n",
       "locality_name           0.002068\n",
       "airports_nearest        0.233850\n",
       "cityCenters_nearest     0.232879\n",
       "parks_around3000        0.232837\n",
       "parks_nearest           0.659100\n",
       "ponds_around3000        0.232837\n",
       "ponds_nearest           0.615596\n",
       "days_exposition         0.134225\n",
       "dtype: float64"
      ]
     },
     "execution_count": 7,
     "metadata": {},
     "output_type": "execute_result"
    }
   ],
   "source": [
    "df.isna().mean()"
   ]
  },
  {
   "cell_type": "code",
   "execution_count": 8,
   "metadata": {},
   "outputs": [
    {
     "data": {
      "text/html": [
       "<style  type=\"text/css\" >\n",
       "    #T_02a51dfc_fdf3_11eb_be64_02420a39be12row0_col0 {\n",
       "            background-color:  #3b4cc0;\n",
       "            color:  #f1f1f1;\n",
       "        }    #T_02a51dfc_fdf3_11eb_be64_02420a39be12row1_col0 {\n",
       "            background-color:  #3b4cc0;\n",
       "            color:  #f1f1f1;\n",
       "        }    #T_02a51dfc_fdf3_11eb_be64_02420a39be12row2_col0 {\n",
       "            background-color:  #3b4cc0;\n",
       "            color:  #f1f1f1;\n",
       "        }    #T_02a51dfc_fdf3_11eb_be64_02420a39be12row3_col0 {\n",
       "            background-color:  #3b4cc0;\n",
       "            color:  #f1f1f1;\n",
       "        }    #T_02a51dfc_fdf3_11eb_be64_02420a39be12row4_col0 {\n",
       "            background-color:  #3b4cc0;\n",
       "            color:  #f1f1f1;\n",
       "        }    #T_02a51dfc_fdf3_11eb_be64_02420a39be12row5_col0 {\n",
       "            background-color:  #ccd9ed;\n",
       "            color:  #000000;\n",
       "        }    #T_02a51dfc_fdf3_11eb_be64_02420a39be12row6_col0 {\n",
       "            background-color:  #3c4ec2;\n",
       "            color:  #f1f1f1;\n",
       "        }    #T_02a51dfc_fdf3_11eb_be64_02420a39be12row7_col0 {\n",
       "            background-color:  #5673e0;\n",
       "            color:  #000000;\n",
       "        }    #T_02a51dfc_fdf3_11eb_be64_02420a39be12row8_col0 {\n",
       "            background-color:  #3b4cc0;\n",
       "            color:  #f1f1f1;\n",
       "        }    #T_02a51dfc_fdf3_11eb_be64_02420a39be12row9_col0 {\n",
       "            background-color:  #b40426;\n",
       "            color:  #f1f1f1;\n",
       "        }    #T_02a51dfc_fdf3_11eb_be64_02420a39be12row10_col0 {\n",
       "            background-color:  #3b4cc0;\n",
       "            color:  #f1f1f1;\n",
       "        }    #T_02a51dfc_fdf3_11eb_be64_02420a39be12row11_col0 {\n",
       "            background-color:  #3b4cc0;\n",
       "            color:  #f1f1f1;\n",
       "        }    #T_02a51dfc_fdf3_11eb_be64_02420a39be12row12_col0 {\n",
       "            background-color:  #5b7ae5;\n",
       "            color:  #000000;\n",
       "        }    #T_02a51dfc_fdf3_11eb_be64_02420a39be12row13_col0 {\n",
       "            background-color:  #e9d5cb;\n",
       "            color:  #000000;\n",
       "        }    #T_02a51dfc_fdf3_11eb_be64_02420a39be12row14_col0 {\n",
       "            background-color:  #3b4cc0;\n",
       "            color:  #f1f1f1;\n",
       "        }    #T_02a51dfc_fdf3_11eb_be64_02420a39be12row15_col0 {\n",
       "            background-color:  #92b4fe;\n",
       "            color:  #000000;\n",
       "        }    #T_02a51dfc_fdf3_11eb_be64_02420a39be12row16_col0 {\n",
       "            background-color:  #92b4fe;\n",
       "            color:  #000000;\n",
       "        }    #T_02a51dfc_fdf3_11eb_be64_02420a39be12row17_col0 {\n",
       "            background-color:  #92b4fe;\n",
       "            color:  #000000;\n",
       "        }    #T_02a51dfc_fdf3_11eb_be64_02420a39be12row18_col0 {\n",
       "            background-color:  #f49a7b;\n",
       "            color:  #000000;\n",
       "        }    #T_02a51dfc_fdf3_11eb_be64_02420a39be12row19_col0 {\n",
       "            background-color:  #92b4fe;\n",
       "            color:  #000000;\n",
       "        }    #T_02a51dfc_fdf3_11eb_be64_02420a39be12row20_col0 {\n",
       "            background-color:  #f7ad90;\n",
       "            color:  #000000;\n",
       "        }    #T_02a51dfc_fdf3_11eb_be64_02420a39be12row21_col0 {\n",
       "            background-color:  #6a8bef;\n",
       "            color:  #000000;\n",
       "        }</style><table id=\"T_02a51dfc_fdf3_11eb_be64_02420a39be12\" ><thead>    <tr>        <th class=\"blank level0\" ></th>        <th class=\"col_heading level0 col0\" >0</th>    </tr></thead><tbody>\n",
       "                <tr>\n",
       "                        <th id=\"T_02a51dfc_fdf3_11eb_be64_02420a39be12level0_row0\" class=\"row_heading level0 row0\" >total_images</th>\n",
       "                        <td id=\"T_02a51dfc_fdf3_11eb_be64_02420a39be12row0_col0\" class=\"data row0 col0\" >0</td>\n",
       "            </tr>\n",
       "            <tr>\n",
       "                        <th id=\"T_02a51dfc_fdf3_11eb_be64_02420a39be12level0_row1\" class=\"row_heading level0 row1\" >last_price</th>\n",
       "                        <td id=\"T_02a51dfc_fdf3_11eb_be64_02420a39be12row1_col0\" class=\"data row1 col0\" >0</td>\n",
       "            </tr>\n",
       "            <tr>\n",
       "                        <th id=\"T_02a51dfc_fdf3_11eb_be64_02420a39be12level0_row2\" class=\"row_heading level0 row2\" >total_area</th>\n",
       "                        <td id=\"T_02a51dfc_fdf3_11eb_be64_02420a39be12row2_col0\" class=\"data row2 col0\" >0</td>\n",
       "            </tr>\n",
       "            <tr>\n",
       "                        <th id=\"T_02a51dfc_fdf3_11eb_be64_02420a39be12level0_row3\" class=\"row_heading level0 row3\" >first_day_exposition</th>\n",
       "                        <td id=\"T_02a51dfc_fdf3_11eb_be64_02420a39be12row3_col0\" class=\"data row3 col0\" >0</td>\n",
       "            </tr>\n",
       "            <tr>\n",
       "                        <th id=\"T_02a51dfc_fdf3_11eb_be64_02420a39be12level0_row4\" class=\"row_heading level0 row4\" >rooms</th>\n",
       "                        <td id=\"T_02a51dfc_fdf3_11eb_be64_02420a39be12row4_col0\" class=\"data row4 col0\" >0</td>\n",
       "            </tr>\n",
       "            <tr>\n",
       "                        <th id=\"T_02a51dfc_fdf3_11eb_be64_02420a39be12level0_row5\" class=\"row_heading level0 row5\" >ceiling_height</th>\n",
       "                        <td id=\"T_02a51dfc_fdf3_11eb_be64_02420a39be12row5_col0\" class=\"data row5 col0\" >38.8</td>\n",
       "            </tr>\n",
       "            <tr>\n",
       "                        <th id=\"T_02a51dfc_fdf3_11eb_be64_02420a39be12level0_row6\" class=\"row_heading level0 row6\" >floors_total</th>\n",
       "                        <td id=\"T_02a51dfc_fdf3_11eb_be64_02420a39be12row6_col0\" class=\"data row6 col0\" >0.36</td>\n",
       "            </tr>\n",
       "            <tr>\n",
       "                        <th id=\"T_02a51dfc_fdf3_11eb_be64_02420a39be12level0_row7\" class=\"row_heading level0 row7\" >living_area</th>\n",
       "                        <td id=\"T_02a51dfc_fdf3_11eb_be64_02420a39be12row7_col0\" class=\"data row7 col0\" >8.03</td>\n",
       "            </tr>\n",
       "            <tr>\n",
       "                        <th id=\"T_02a51dfc_fdf3_11eb_be64_02420a39be12level0_row8\" class=\"row_heading level0 row8\" >floor</th>\n",
       "                        <td id=\"T_02a51dfc_fdf3_11eb_be64_02420a39be12row8_col0\" class=\"data row8 col0\" >0</td>\n",
       "            </tr>\n",
       "            <tr>\n",
       "                        <th id=\"T_02a51dfc_fdf3_11eb_be64_02420a39be12level0_row9\" class=\"row_heading level0 row9\" >is_apartment</th>\n",
       "                        <td id=\"T_02a51dfc_fdf3_11eb_be64_02420a39be12row9_col0\" class=\"data row9 col0\" >88.29</td>\n",
       "            </tr>\n",
       "            <tr>\n",
       "                        <th id=\"T_02a51dfc_fdf3_11eb_be64_02420a39be12level0_row10\" class=\"row_heading level0 row10\" >studio</th>\n",
       "                        <td id=\"T_02a51dfc_fdf3_11eb_be64_02420a39be12row10_col0\" class=\"data row10 col0\" >0</td>\n",
       "            </tr>\n",
       "            <tr>\n",
       "                        <th id=\"T_02a51dfc_fdf3_11eb_be64_02420a39be12level0_row11\" class=\"row_heading level0 row11\" >open_plan</th>\n",
       "                        <td id=\"T_02a51dfc_fdf3_11eb_be64_02420a39be12row11_col0\" class=\"data row11 col0\" >0</td>\n",
       "            </tr>\n",
       "            <tr>\n",
       "                        <th id=\"T_02a51dfc_fdf3_11eb_be64_02420a39be12level0_row12\" class=\"row_heading level0 row12\" >kitchen_area</th>\n",
       "                        <td id=\"T_02a51dfc_fdf3_11eb_be64_02420a39be12row12_col0\" class=\"data row12 col0\" >9.61</td>\n",
       "            </tr>\n",
       "            <tr>\n",
       "                        <th id=\"T_02a51dfc_fdf3_11eb_be64_02420a39be12level0_row13\" class=\"row_heading level0 row13\" >balcony</th>\n",
       "                        <td id=\"T_02a51dfc_fdf3_11eb_be64_02420a39be12row13_col0\" class=\"data row13 col0\" >48.61</td>\n",
       "            </tr>\n",
       "            <tr>\n",
       "                        <th id=\"T_02a51dfc_fdf3_11eb_be64_02420a39be12level0_row14\" class=\"row_heading level0 row14\" >locality_name</th>\n",
       "                        <td id=\"T_02a51dfc_fdf3_11eb_be64_02420a39be12row14_col0\" class=\"data row14 col0\" >0.21</td>\n",
       "            </tr>\n",
       "            <tr>\n",
       "                        <th id=\"T_02a51dfc_fdf3_11eb_be64_02420a39be12level0_row15\" class=\"row_heading level0 row15\" >airports_nearest</th>\n",
       "                        <td id=\"T_02a51dfc_fdf3_11eb_be64_02420a39be12row15_col0\" class=\"data row15 col0\" >23.38</td>\n",
       "            </tr>\n",
       "            <tr>\n",
       "                        <th id=\"T_02a51dfc_fdf3_11eb_be64_02420a39be12level0_row16\" class=\"row_heading level0 row16\" >cityCenters_nearest</th>\n",
       "                        <td id=\"T_02a51dfc_fdf3_11eb_be64_02420a39be12row16_col0\" class=\"data row16 col0\" >23.29</td>\n",
       "            </tr>\n",
       "            <tr>\n",
       "                        <th id=\"T_02a51dfc_fdf3_11eb_be64_02420a39be12level0_row17\" class=\"row_heading level0 row17\" >parks_around3000</th>\n",
       "                        <td id=\"T_02a51dfc_fdf3_11eb_be64_02420a39be12row17_col0\" class=\"data row17 col0\" >23.28</td>\n",
       "            </tr>\n",
       "            <tr>\n",
       "                        <th id=\"T_02a51dfc_fdf3_11eb_be64_02420a39be12level0_row18\" class=\"row_heading level0 row18\" >parks_nearest</th>\n",
       "                        <td id=\"T_02a51dfc_fdf3_11eb_be64_02420a39be12row18_col0\" class=\"data row18 col0\" >65.91</td>\n",
       "            </tr>\n",
       "            <tr>\n",
       "                        <th id=\"T_02a51dfc_fdf3_11eb_be64_02420a39be12level0_row19\" class=\"row_heading level0 row19\" >ponds_around3000</th>\n",
       "                        <td id=\"T_02a51dfc_fdf3_11eb_be64_02420a39be12row19_col0\" class=\"data row19 col0\" >23.28</td>\n",
       "            </tr>\n",
       "            <tr>\n",
       "                        <th id=\"T_02a51dfc_fdf3_11eb_be64_02420a39be12level0_row20\" class=\"row_heading level0 row20\" >ponds_nearest</th>\n",
       "                        <td id=\"T_02a51dfc_fdf3_11eb_be64_02420a39be12row20_col0\" class=\"data row20 col0\" >61.56</td>\n",
       "            </tr>\n",
       "            <tr>\n",
       "                        <th id=\"T_02a51dfc_fdf3_11eb_be64_02420a39be12level0_row21\" class=\"row_heading level0 row21\" >days_exposition</th>\n",
       "                        <td id=\"T_02a51dfc_fdf3_11eb_be64_02420a39be12row21_col0\" class=\"data row21 col0\" >13.42</td>\n",
       "            </tr>\n",
       "    </tbody></table>"
      ],
      "text/plain": [
       "<pandas.io.formats.style.Styler at 0x7f2c545b37d0>"
      ]
     },
     "execution_count": 8,
     "metadata": {},
     "output_type": "execute_result"
    }
   ],
   "source": [
    "pd.DataFrame(round((df.isna().mean()*100),2)).style.background_gradient('coolwarm')"
   ]
  },
  {
   "cell_type": "code",
   "execution_count": 9,
   "metadata": {},
   "outputs": [
    {
     "data": {
      "text/html": [
       "<div>\n",
       "<style scoped>\n",
       "    .dataframe tbody tr th:only-of-type {\n",
       "        vertical-align: middle;\n",
       "    }\n",
       "\n",
       "    .dataframe tbody tr th {\n",
       "        vertical-align: top;\n",
       "    }\n",
       "\n",
       "    .dataframe thead th {\n",
       "        text-align: right;\n",
       "    }\n",
       "</style>\n",
       "<table border=\"1\" class=\"dataframe\">\n",
       "  <thead>\n",
       "    <tr style=\"text-align: right;\">\n",
       "      <th></th>\n",
       "      <th>missing_values</th>\n",
       "      <th>% of total</th>\n",
       "    </tr>\n",
       "  </thead>\n",
       "  <tbody>\n",
       "    <tr>\n",
       "      <td>is_apartment</td>\n",
       "      <td>20924</td>\n",
       "      <td>0.88</td>\n",
       "    </tr>\n",
       "    <tr>\n",
       "      <td>parks_nearest</td>\n",
       "      <td>15620</td>\n",
       "      <td>0.66</td>\n",
       "    </tr>\n",
       "    <tr>\n",
       "      <td>ponds_nearest</td>\n",
       "      <td>14589</td>\n",
       "      <td>0.62</td>\n",
       "    </tr>\n",
       "    <tr>\n",
       "      <td>balcony</td>\n",
       "      <td>11519</td>\n",
       "      <td>0.49</td>\n",
       "    </tr>\n",
       "    <tr>\n",
       "      <td>ceiling_height</td>\n",
       "      <td>9195</td>\n",
       "      <td>0.39</td>\n",
       "    </tr>\n",
       "    <tr>\n",
       "      <td>airports_nearest</td>\n",
       "      <td>5542</td>\n",
       "      <td>0.23</td>\n",
       "    </tr>\n",
       "    <tr>\n",
       "      <td>cityCenters_nearest</td>\n",
       "      <td>5519</td>\n",
       "      <td>0.23</td>\n",
       "    </tr>\n",
       "    <tr>\n",
       "      <td>ponds_around3000</td>\n",
       "      <td>5518</td>\n",
       "      <td>0.23</td>\n",
       "    </tr>\n",
       "    <tr>\n",
       "      <td>parks_around3000</td>\n",
       "      <td>5518</td>\n",
       "      <td>0.23</td>\n",
       "    </tr>\n",
       "    <tr>\n",
       "      <td>days_exposition</td>\n",
       "      <td>3181</td>\n",
       "      <td>0.13</td>\n",
       "    </tr>\n",
       "    <tr>\n",
       "      <td>kitchen_area</td>\n",
       "      <td>2278</td>\n",
       "      <td>0.10</td>\n",
       "    </tr>\n",
       "    <tr>\n",
       "      <td>living_area</td>\n",
       "      <td>1903</td>\n",
       "      <td>0.08</td>\n",
       "    </tr>\n",
       "    <tr>\n",
       "      <td>floors_total</td>\n",
       "      <td>86</td>\n",
       "      <td>0.00</td>\n",
       "    </tr>\n",
       "    <tr>\n",
       "      <td>locality_name</td>\n",
       "      <td>49</td>\n",
       "      <td>0.00</td>\n",
       "    </tr>\n",
       "    <tr>\n",
       "      <td>total_images</td>\n",
       "      <td>0</td>\n",
       "      <td>0.00</td>\n",
       "    </tr>\n",
       "    <tr>\n",
       "      <td>last_price</td>\n",
       "      <td>0</td>\n",
       "      <td>0.00</td>\n",
       "    </tr>\n",
       "    <tr>\n",
       "      <td>studio</td>\n",
       "      <td>0</td>\n",
       "      <td>0.00</td>\n",
       "    </tr>\n",
       "    <tr>\n",
       "      <td>floor</td>\n",
       "      <td>0</td>\n",
       "      <td>0.00</td>\n",
       "    </tr>\n",
       "    <tr>\n",
       "      <td>rooms</td>\n",
       "      <td>0</td>\n",
       "      <td>0.00</td>\n",
       "    </tr>\n",
       "    <tr>\n",
       "      <td>first_day_exposition</td>\n",
       "      <td>0</td>\n",
       "      <td>0.00</td>\n",
       "    </tr>\n",
       "    <tr>\n",
       "      <td>total_area</td>\n",
       "      <td>0</td>\n",
       "      <td>0.00</td>\n",
       "    </tr>\n",
       "    <tr>\n",
       "      <td>open_plan</td>\n",
       "      <td>0</td>\n",
       "      <td>0.00</td>\n",
       "    </tr>\n",
       "  </tbody>\n",
       "</table>\n",
       "</div>"
      ],
      "text/plain": [
       "                      missing_values  % of total\n",
       "is_apartment                   20924        0.88\n",
       "parks_nearest                  15620        0.66\n",
       "ponds_nearest                  14589        0.62\n",
       "balcony                        11519        0.49\n",
       "ceiling_height                  9195        0.39\n",
       "airports_nearest                5542        0.23\n",
       "cityCenters_nearest             5519        0.23\n",
       "ponds_around3000                5518        0.23\n",
       "parks_around3000                5518        0.23\n",
       "days_exposition                 3181        0.13\n",
       "kitchen_area                    2278        0.10\n",
       "living_area                     1903        0.08\n",
       "floors_total                      86        0.00\n",
       "locality_name                     49        0.00\n",
       "total_images                       0        0.00\n",
       "last_price                         0        0.00\n",
       "studio                             0        0.00\n",
       "floor                              0        0.00\n",
       "rooms                              0        0.00\n",
       "first_day_exposition               0        0.00\n",
       "total_area                         0        0.00\n",
       "open_plan                          0        0.00"
      ]
     },
     "execution_count": 9,
     "metadata": {},
     "output_type": "execute_result"
    }
   ],
   "source": [
    "report = df.isna().sum().to_frame()\n",
    "report = report.rename(columns = {0: 'missing_values'})\n",
    "report['% of total'] = (report['missing_values'] / df.shape[0]).round(2)\n",
    "report.sort_values(by = 'missing_values', ascending = False)"
   ]
  },
  {
   "cell_type": "markdown",
   "metadata": {},
   "source": [
    "1)Как видно из данных, приведенных в таблице выше, для некоторых пропущенных значений можно предположить \n",
    "логичную замену:\n",
    "- is_apartment определяет, является ли эта квартира апартаментами или нет и представляет собой булево значение. \n",
    "В случае, если человек не указал, что квартира является апартаментами, то, скорее всего это жилая недвижимость.\n",
    "- balcony показывает наличие балкона в квартире. В случае, если человек не указал число балконов, то \n",
    "их скорее всего нет.\n",
    "- floors_total определяет сколько всего этажей в домe. В случае, если человек не указал количество этажей в доме, то самим определить этажность дома не представляется возможным.\n",
    "- days_exposition определяет, сколько дней было размещено объявление (от публикации до снятия). В случае, если в указанном столбце отсутствует количество, скорее всего квартира еще не снята с продажи. \n",
    "Исходя из вышеизложенного, такие пропуски правильно заменить на 0. \n",
    "\n",
    "2)Для других типов данных нет подходящего значения на замену, а именно: \n",
    "- ceiling_height определяет высоту потолков. Указанную информацию невозможно рассчитать из других данных.\n",
    "- locality_name определяет название населённого пункта. Невозможно определить населенный пункт по описанию квартиры. \n",
    "\n",
    "В этом случае правильно оставить эти значения пустыми. \n",
    "\n",
    "3)Заполним следующие пропуски, поскольку приведенные данные получены автоматически на основе картографических данных (например, расстояние до центра, аэропорта, ближайшего парка и водоёма), то заполним данные медианными значениями в зависимости от населенного пункта.\n",
    "\n",
    "- airports_nearest         \n",
    "- cityCenters_nearest  \n",
    "- parks_around3000 \n",
    "- parks_nearest \n",
    "- ponds_around3000 \n",
    "- ponds_nearest \n",
    "\n",
    "Заполним пропуски в столбце kitchen_area, который определяет площадь кухни. Для заполнения пропусков выберем медианное значение размера кухни, в зависимости от количества комнат в квартире.\n",
    "\n",
    "\n",
    "Заполним пропуски на 0."
   ]
  },
  {
   "cell_type": "code",
   "execution_count": 10,
   "metadata": {},
   "outputs": [
    {
     "data": {
      "text/html": [
       "<div>\n",
       "<style scoped>\n",
       "    .dataframe tbody tr th:only-of-type {\n",
       "        vertical-align: middle;\n",
       "    }\n",
       "\n",
       "    .dataframe tbody tr th {\n",
       "        vertical-align: top;\n",
       "    }\n",
       "\n",
       "    .dataframe thead th {\n",
       "        text-align: right;\n",
       "    }\n",
       "</style>\n",
       "<table border=\"1\" class=\"dataframe\">\n",
       "  <thead>\n",
       "    <tr style=\"text-align: right;\">\n",
       "      <th></th>\n",
       "      <th>total_images</th>\n",
       "      <th>last_price</th>\n",
       "      <th>total_area</th>\n",
       "      <th>first_day_exposition</th>\n",
       "      <th>rooms</th>\n",
       "      <th>ceiling_height</th>\n",
       "      <th>floors_total</th>\n",
       "      <th>living_area</th>\n",
       "      <th>floor</th>\n",
       "      <th>is_apartment</th>\n",
       "      <th>...</th>\n",
       "      <th>kitchen_area</th>\n",
       "      <th>balcony</th>\n",
       "      <th>locality_name</th>\n",
       "      <th>airports_nearest</th>\n",
       "      <th>cityCenters_nearest</th>\n",
       "      <th>parks_around3000</th>\n",
       "      <th>parks_nearest</th>\n",
       "      <th>ponds_around3000</th>\n",
       "      <th>ponds_nearest</th>\n",
       "      <th>days_exposition</th>\n",
       "    </tr>\n",
       "  </thead>\n",
       "  <tbody>\n",
       "    <tr>\n",
       "      <td>0</td>\n",
       "      <td>20</td>\n",
       "      <td>13000000.0</td>\n",
       "      <td>108.0</td>\n",
       "      <td>2019-03-07T00:00:00</td>\n",
       "      <td>3</td>\n",
       "      <td>2.70</td>\n",
       "      <td>16.0</td>\n",
       "      <td>51.0</td>\n",
       "      <td>8</td>\n",
       "      <td>0</td>\n",
       "      <td>...</td>\n",
       "      <td>25.0</td>\n",
       "      <td>0.0</td>\n",
       "      <td>Санкт-Петербург</td>\n",
       "      <td>18863.0</td>\n",
       "      <td>16028.0</td>\n",
       "      <td>1.0</td>\n",
       "      <td>482.0</td>\n",
       "      <td>2.0</td>\n",
       "      <td>755.0</td>\n",
       "      <td>0.0</td>\n",
       "    </tr>\n",
       "    <tr>\n",
       "      <td>1</td>\n",
       "      <td>7</td>\n",
       "      <td>3350000.0</td>\n",
       "      <td>40.4</td>\n",
       "      <td>2018-12-04T00:00:00</td>\n",
       "      <td>1</td>\n",
       "      <td>NaN</td>\n",
       "      <td>11.0</td>\n",
       "      <td>18.6</td>\n",
       "      <td>1</td>\n",
       "      <td>0</td>\n",
       "      <td>...</td>\n",
       "      <td>11.0</td>\n",
       "      <td>2.0</td>\n",
       "      <td>посёлок Шушары</td>\n",
       "      <td>12817.0</td>\n",
       "      <td>18603.0</td>\n",
       "      <td>0.0</td>\n",
       "      <td>NaN</td>\n",
       "      <td>0.0</td>\n",
       "      <td>NaN</td>\n",
       "      <td>81.0</td>\n",
       "    </tr>\n",
       "    <tr>\n",
       "      <td>2</td>\n",
       "      <td>10</td>\n",
       "      <td>5196000.0</td>\n",
       "      <td>56.0</td>\n",
       "      <td>2015-08-20T00:00:00</td>\n",
       "      <td>2</td>\n",
       "      <td>NaN</td>\n",
       "      <td>5.0</td>\n",
       "      <td>34.3</td>\n",
       "      <td>4</td>\n",
       "      <td>0</td>\n",
       "      <td>...</td>\n",
       "      <td>8.3</td>\n",
       "      <td>0.0</td>\n",
       "      <td>Санкт-Петербург</td>\n",
       "      <td>21741.0</td>\n",
       "      <td>13933.0</td>\n",
       "      <td>1.0</td>\n",
       "      <td>90.0</td>\n",
       "      <td>2.0</td>\n",
       "      <td>574.0</td>\n",
       "      <td>558.0</td>\n",
       "    </tr>\n",
       "    <tr>\n",
       "      <td>3</td>\n",
       "      <td>0</td>\n",
       "      <td>64900000.0</td>\n",
       "      <td>159.0</td>\n",
       "      <td>2015-07-24T00:00:00</td>\n",
       "      <td>3</td>\n",
       "      <td>NaN</td>\n",
       "      <td>14.0</td>\n",
       "      <td>NaN</td>\n",
       "      <td>9</td>\n",
       "      <td>0</td>\n",
       "      <td>...</td>\n",
       "      <td>NaN</td>\n",
       "      <td>0.0</td>\n",
       "      <td>Санкт-Петербург</td>\n",
       "      <td>28098.0</td>\n",
       "      <td>6800.0</td>\n",
       "      <td>2.0</td>\n",
       "      <td>84.0</td>\n",
       "      <td>3.0</td>\n",
       "      <td>234.0</td>\n",
       "      <td>424.0</td>\n",
       "    </tr>\n",
       "    <tr>\n",
       "      <td>4</td>\n",
       "      <td>2</td>\n",
       "      <td>10000000.0</td>\n",
       "      <td>100.0</td>\n",
       "      <td>2018-06-19T00:00:00</td>\n",
       "      <td>2</td>\n",
       "      <td>3.03</td>\n",
       "      <td>14.0</td>\n",
       "      <td>32.0</td>\n",
       "      <td>13</td>\n",
       "      <td>0</td>\n",
       "      <td>...</td>\n",
       "      <td>41.0</td>\n",
       "      <td>0.0</td>\n",
       "      <td>Санкт-Петербург</td>\n",
       "      <td>31856.0</td>\n",
       "      <td>8098.0</td>\n",
       "      <td>2.0</td>\n",
       "      <td>112.0</td>\n",
       "      <td>1.0</td>\n",
       "      <td>48.0</td>\n",
       "      <td>121.0</td>\n",
       "    </tr>\n",
       "  </tbody>\n",
       "</table>\n",
       "<p>5 rows × 22 columns</p>\n",
       "</div>"
      ],
      "text/plain": [
       "   total_images  last_price  total_area first_day_exposition  rooms  \\\n",
       "0            20  13000000.0       108.0  2019-03-07T00:00:00      3   \n",
       "1             7   3350000.0        40.4  2018-12-04T00:00:00      1   \n",
       "2            10   5196000.0        56.0  2015-08-20T00:00:00      2   \n",
       "3             0  64900000.0       159.0  2015-07-24T00:00:00      3   \n",
       "4             2  10000000.0       100.0  2018-06-19T00:00:00      2   \n",
       "\n",
       "   ceiling_height  floors_total  living_area  floor is_apartment  ...  \\\n",
       "0            2.70          16.0         51.0      8            0  ...   \n",
       "1             NaN          11.0         18.6      1            0  ...   \n",
       "2             NaN           5.0         34.3      4            0  ...   \n",
       "3             NaN          14.0          NaN      9            0  ...   \n",
       "4            3.03          14.0         32.0     13            0  ...   \n",
       "\n",
       "   kitchen_area  balcony    locality_name  airports_nearest  \\\n",
       "0          25.0      0.0  Санкт-Петербург           18863.0   \n",
       "1          11.0      2.0   посёлок Шушары           12817.0   \n",
       "2           8.3      0.0  Санкт-Петербург           21741.0   \n",
       "3           NaN      0.0  Санкт-Петербург           28098.0   \n",
       "4          41.0      0.0  Санкт-Петербург           31856.0   \n",
       "\n",
       "  cityCenters_nearest  parks_around3000  parks_nearest  ponds_around3000  \\\n",
       "0             16028.0               1.0          482.0               2.0   \n",
       "1             18603.0               0.0            NaN               0.0   \n",
       "2             13933.0               1.0           90.0               2.0   \n",
       "3              6800.0               2.0           84.0               3.0   \n",
       "4              8098.0               2.0          112.0               1.0   \n",
       "\n",
       "   ponds_nearest  days_exposition  \n",
       "0          755.0              0.0  \n",
       "1            NaN             81.0  \n",
       "2          574.0            558.0  \n",
       "3          234.0            424.0  \n",
       "4           48.0            121.0  \n",
       "\n",
       "[5 rows x 22 columns]"
      ]
     },
     "execution_count": 10,
     "metadata": {},
     "output_type": "execute_result"
    }
   ],
   "source": [
    "for col in ['is_apartment', 'balcony', 'floors_total', 'days_exposition']:#цикл для замены пропущенных значений на 0\n",
    "    df[col].fillna(0, inplace=True)\n",
    "df.head()#выведем на экран первые 5 строк, чтобы убедиться в полученном результате"
   ]
  },
  {
   "cell_type": "markdown",
   "metadata": {},
   "source": [
    "Проведем замену пропущенных значений на медианные значения методом transform()."
   ]
  },
  {
   "cell_type": "code",
   "execution_count": 11,
   "metadata": {},
   "outputs": [
    {
     "data": {
      "text/plain": [
       "1.30      1\n",
       "2.00      7\n",
       "2.30      1\n",
       "2.40      1\n",
       "2.89      1\n",
       "         ..\n",
       "93.20     1\n",
       "100.00    1\n",
       "100.70    1\n",
       "107.00    1\n",
       "112.00    1\n",
       "Name: kitchen_area, Length: 971, dtype: int64"
      ]
     },
     "execution_count": 11,
     "metadata": {},
     "output_type": "execute_result"
    }
   ],
   "source": [
    "df_transformed = df.groupby('rooms')['kitchen_area'].transform('median')#проведем замену значений на медианные значения, сгруппированные по столбцу rooms\n",
    "df['kitchen_area'] = df['kitchen_area'].fillna(df_transformed)\n",
    "df['kitchen_area'].value_counts().sort_index()#выведем на экран полчившиеся уникальные отсортированные значения"
   ]
  },
  {
   "cell_type": "code",
   "execution_count": 12,
   "metadata": {},
   "outputs": [
    {
     "data": {
      "text/plain": [
       "0.0        1\n",
       "6450.0     2\n",
       "6914.0     1\n",
       "6949.0     1\n",
       "6989.0     6\n",
       "          ..\n",
       "83758.0    1\n",
       "84006.0    1\n",
       "84665.0    1\n",
       "84853.0    1\n",
       "84869.0    1\n",
       "Name: airports_nearest, Length: 8279, dtype: int64"
      ]
     },
     "execution_count": 12,
     "metadata": {},
     "output_type": "execute_result"
    }
   ],
   "source": [
    "df_transformed = df.groupby('locality_name')['airports_nearest'].transform('median')#проведем замену значений на медианные значения, сгруппированные по столбцу locality_name\n",
    "df['airports_nearest'] = df['airports_nearest'].fillna(df_transformed)\n",
    "df['airports_nearest'].value_counts().sort_index()#выведем на экран полчившиеся уникальные отсортированные значения"
   ]
  },
  {
   "cell_type": "code",
   "execution_count": 13,
   "metadata": {},
   "outputs": [
    {
     "data": {
      "text/plain": [
       "0.0    10229\n",
       "1.0     5681\n",
       "2.0     1748\n",
       "3.0      647\n",
       "Name: parks_around3000, dtype: int64"
      ]
     },
     "execution_count": 13,
     "metadata": {},
     "output_type": "execute_result"
    }
   ],
   "source": [
    "df_transformed = df.groupby('locality_name')['parks_around3000'].transform('median')#проведем замену значений на медианные значения, сгруппированные по столбцу locality_name\n",
    "df['parks_around3000'] = df['parks_around3000'].fillna(df_transformed)\n",
    "df['parks_around3000'].value_counts().sort_index()#выведем на экран полчившиеся уникальные отсортированные значения"
   ]
  },
  {
   "cell_type": "code",
   "execution_count": 14,
   "metadata": {},
   "outputs": [
    {
     "data": {
      "text/plain": [
       "181.0      1\n",
       "208.0      1\n",
       "215.0      1\n",
       "287.0      1\n",
       "291.0      1\n",
       "          ..\n",
       "64857.0    1\n",
       "65105.0    1\n",
       "65764.0    1\n",
       "65952.0    1\n",
       "65968.0    1\n",
       "Name: cityCenters_nearest, Length: 7646, dtype: int64"
      ]
     },
     "execution_count": 14,
     "metadata": {},
     "output_type": "execute_result"
    }
   ],
   "source": [
    "df_transformed = df.groupby('locality_name')['cityCenters_nearest'].transform('median')#проведем замену значений на медианные значения, сгруппированные по столбцу locality_name\n",
    "df['cityCenters_nearest'] = df['cityCenters_nearest'].fillna(df_transformed)\n",
    "df['cityCenters_nearest'].value_counts().sort_index()#выведем на экран полчившиеся уникальные отсортированные значения"
   ]
  },
  {
   "cell_type": "code",
   "execution_count": 15,
   "metadata": {},
   "outputs": [
    {
     "data": {
      "text/plain": [
       "1.0       1\n",
       "3.0       1\n",
       "4.0       1\n",
       "7.0       1\n",
       "9.0       2\n",
       "         ..\n",
       "2905.0    1\n",
       "2984.0    1\n",
       "3013.0    1\n",
       "3064.0    1\n",
       "3190.0    2\n",
       "Name: parks_nearest, Length: 998, dtype: int64"
      ]
     },
     "execution_count": 15,
     "metadata": {},
     "output_type": "execute_result"
    }
   ],
   "source": [
    "df_transformed = df.groupby('locality_name')['parks_nearest'].transform('median')#проведем замену значений на медианные значения, сгруппированные по столбцу locality_name\n",
    "df['parks_nearest'] = df['parks_nearest'].fillna(df_transformed)\n",
    "df['parks_nearest'].value_counts().sort_index()#выведем на экран полчившиеся уникальные отсортированные значения"
   ]
  },
  {
   "cell_type": "code",
   "execution_count": 16,
   "metadata": {},
   "outputs": [
    {
     "data": {
      "text/plain": [
       "0.0    9099\n",
       "1.0    5780\n",
       "2.0    1925\n",
       "3.0    1501\n",
       "Name: ponds_around3000, dtype: int64"
      ]
     },
     "execution_count": 16,
     "metadata": {},
     "output_type": "execute_result"
    }
   ],
   "source": [
    "df_transformed = df.groupby('locality_name')['ponds_around3000'].transform('median')#проведем замену значений на медианные значения, сгруппированные по столбцу locality_name\n",
    "df['ponds_around3000'] = df['ponds_around3000'].fillna(df_transformed)\n",
    "df['ponds_around3000'].value_counts().sort_index()#выведем на экран полчившиеся уникальные отсортированные значения"
   ]
  },
  {
   "cell_type": "code",
   "execution_count": 17,
   "metadata": {},
   "outputs": [
    {
     "data": {
      "text/plain": [
       "13.0      2\n",
       "16.0      8\n",
       "19.0      4\n",
       "20.0      5\n",
       "22.0      7\n",
       "         ..\n",
       "1299.0    1\n",
       "1313.0    1\n",
       "1337.0    1\n",
       "1341.0    2\n",
       "1344.0    1\n",
       "Name: ponds_nearest, Length: 1098, dtype: int64"
      ]
     },
     "execution_count": 17,
     "metadata": {},
     "output_type": "execute_result"
    }
   ],
   "source": [
    "df_transformed = df.groupby('locality_name')['ponds_nearest'].transform('median')#проведем замену значений на медианные значения, сгруппированные по столбцу locality_name\n",
    "df['ponds_nearest'] = df['ponds_nearest'].fillna(df_transformed)\n",
    "df['ponds_nearest'].value_counts().sort_index()#выведем на экран полчившиеся уникальные отсортированные значения"
   ]
  },
  {
   "cell_type": "markdown",
   "metadata": {},
   "source": [
    "\n",
    "Используя метод duplicated() установим существуют ли в таблице одинаковые строки с идентичной информацией."
   ]
  },
  {
   "cell_type": "code",
   "execution_count": 18,
   "metadata": {},
   "outputs": [
    {
     "data": {
      "text/plain": [
       "0"
      ]
     },
     "execution_count": 18,
     "metadata": {},
     "output_type": "execute_result"
    }
   ],
   "source": [
    "df.duplicated().sum()"
   ]
  },
  {
   "cell_type": "markdown",
   "metadata": {},
   "source": [
    "Строки с идентичной информацией в таблице отсутствуют."
   ]
  },
  {
   "cell_type": "markdown",
   "metadata": {},
   "source": [
    "Переведем данные столбца floors_total из  значения float64 в int64."
   ]
  },
  {
   "cell_type": "code",
   "execution_count": 19,
   "metadata": {},
   "outputs": [
    {
     "data": {
      "text/plain": [
       "0       86\n",
       "1       25\n",
       "2      383\n",
       "3      668\n",
       "4     1200\n",
       "5     5788\n",
       "6      914\n",
       "7      592\n",
       "8      390\n",
       "9     3761\n",
       "10    1174\n",
       "11     203\n",
       "12    1362\n",
       "13     229\n",
       "14     553\n",
       "15     365\n",
       "16    1376\n",
       "17     833\n",
       "18     505\n",
       "19     339\n",
       "20     271\n",
       "21     158\n",
       "22     286\n",
       "23     352\n",
       "24     469\n",
       "25    1075\n",
       "26     124\n",
       "27     164\n",
       "28      21\n",
       "29       1\n",
       "33       1\n",
       "34       1\n",
       "35      24\n",
       "36       3\n",
       "37       1\n",
       "52       1\n",
       "60       1\n",
       "Name: floors_total, dtype: int64"
      ]
     },
     "execution_count": 19,
     "metadata": {},
     "output_type": "execute_result"
    }
   ],
   "source": [
    "df[\"floors_total\"] = df[\"floors_total\"].astype('int')#Перевод значений столбца в другой тип данных, а именно: int для целых чисел\n",
    "df[\"floors_total\"].value_counts().sort_index()#выведем уникальные отсортированные значения столбца floors_total"
   ]
  },
  {
   "cell_type": "markdown",
   "metadata": {},
   "source": [
    "***Вывод***\n",
    "\n",
    "для некоторых пропущенных значений можно предположить логичную замену. Например, если человек не указал число балконов — скорее всего, их нет. Такие пропуски правильно заменить на 0. Для других типов данных нет подходящего значения на замену. В этом случае правильно оставить эти значения пустыми. Отсутствие значения — тоже важный сигнал, который не нужно прятать;\n",
    "заполните пропуски, где это уместно. Опишите, почему вы решили заполнить пропуски именно в этих столбцах и как выбрали значения;\n",
    "укажите причины, которые могли привести к пропускам в данных.\n",
    "приведите данные к нужным типам:\n",
    "поясните, в каких столбцах нужно изменить тип данных и почему.\n"
   ]
  },
  {
   "cell_type": "markdown",
   "metadata": {},
   "source": [
    "## Расчёты и добавление результатов в таблицу"
   ]
  },
  {
   "cell_type": "markdown",
   "metadata": {},
   "source": [
    "Переведем данные в стоблце first_day_exposition в тип datetime. Для доступа к отдельным компонентам даты (день недели, год и месяц) используем атрибут `.dt` столбца first_day_exposition."
   ]
  },
  {
   "cell_type": "code",
   "execution_count": 20,
   "metadata": {},
   "outputs": [
    {
     "data": {
      "text/plain": [
       "0        3\n",
       "1        1\n",
       "2        3\n",
       "3        4\n",
       "4        1\n",
       "        ..\n",
       "23694    1\n",
       "23695    0\n",
       "23696    6\n",
       "23697    1\n",
       "23698    4\n",
       "Name: weekday, Length: 23699, dtype: int64"
      ]
     },
     "metadata": {},
     "output_type": "display_data"
    }
   ],
   "source": [
    "df['first_day_exposition'] = pd.to_datetime(df['first_day_exposition'], format='%Y-%m-%dT%H:%M:%S')# Перевод из строки в дату и время. \n",
    "df['weekday'] = df['first_day_exposition'].dt.weekday# Получим день недели\n",
    "display(df['weekday'])"
   ]
  },
  {
   "cell_type": "code",
   "execution_count": 21,
   "metadata": {},
   "outputs": [
    {
     "data": {
      "text/plain": [
       "0        2019\n",
       "1        2018\n",
       "2        2015\n",
       "3        2015\n",
       "4        2018\n",
       "         ... \n",
       "23694    2017\n",
       "23695    2018\n",
       "23696    2018\n",
       "23697    2017\n",
       "23698    2017\n",
       "Name: year, Length: 23699, dtype: int64"
      ]
     },
     "metadata": {},
     "output_type": "display_data"
    }
   ],
   "source": [
    "df['first_day_exposition'] = pd.to_datetime(df['first_day_exposition'], format='%Y-%m-%dT%H:%M:%S')# Перевод из строки в дату и время. \n",
    "df['year'] = df['first_day_exposition'].dt.year# Получим год\n",
    "display(df['year'])"
   ]
  },
  {
   "cell_type": "code",
   "execution_count": 22,
   "metadata": {},
   "outputs": [
    {
     "data": {
      "text/plain": [
       "0         3\n",
       "1        12\n",
       "2         8\n",
       "3         7\n",
       "4         6\n",
       "         ..\n",
       "23694     3\n",
       "23695     1\n",
       "23696     2\n",
       "23697     3\n",
       "23698     7\n",
       "Name: month, Length: 23699, dtype: int64"
      ]
     },
     "metadata": {},
     "output_type": "display_data"
    }
   ],
   "source": [
    "df['first_day_exposition'] = pd.to_datetime(df['first_day_exposition'], format='%Y-%m-%dT%H:%M:%S')# Перевод из строки в дату и время. \n",
    "df['month'] = df['first_day_exposition'].dt.month# Получим месяц\n",
    "display(df['month'])"
   ]
  },
  {
   "cell_type": "markdown",
   "metadata": {},
   "source": [
    "Сделаем группировку этажей квартиры на первый, последний, другой. Для группировки используем метод where(), как способ выборочного переименования."
   ]
  },
  {
   "cell_type": "code",
   "execution_count": 23,
   "metadata": {},
   "outputs": [
    {
     "data": {
      "text/html": [
       "<div>\n",
       "<style scoped>\n",
       "    .dataframe tbody tr th:only-of-type {\n",
       "        vertical-align: middle;\n",
       "    }\n",
       "\n",
       "    .dataframe tbody tr th {\n",
       "        vertical-align: top;\n",
       "    }\n",
       "\n",
       "    .dataframe thead th {\n",
       "        text-align: right;\n",
       "    }\n",
       "</style>\n",
       "<table border=\"1\" class=\"dataframe\">\n",
       "  <thead>\n",
       "    <tr style=\"text-align: right;\">\n",
       "      <th></th>\n",
       "      <th>total_images</th>\n",
       "      <th>last_price</th>\n",
       "      <th>total_area</th>\n",
       "      <th>first_day_exposition</th>\n",
       "      <th>rooms</th>\n",
       "      <th>ceiling_height</th>\n",
       "      <th>floors_total</th>\n",
       "      <th>living_area</th>\n",
       "      <th>floor</th>\n",
       "      <th>is_apartment</th>\n",
       "      <th>...</th>\n",
       "      <th>cityCenters_nearest</th>\n",
       "      <th>parks_around3000</th>\n",
       "      <th>parks_nearest</th>\n",
       "      <th>ponds_around3000</th>\n",
       "      <th>ponds_nearest</th>\n",
       "      <th>days_exposition</th>\n",
       "      <th>weekday</th>\n",
       "      <th>year</th>\n",
       "      <th>month</th>\n",
       "      <th>df_floor</th>\n",
       "    </tr>\n",
       "  </thead>\n",
       "  <tbody>\n",
       "    <tr>\n",
       "      <td>23684</td>\n",
       "      <td>20</td>\n",
       "      <td>21400000.0</td>\n",
       "      <td>145.00</td>\n",
       "      <td>2018-11-02</td>\n",
       "      <td>4</td>\n",
       "      <td>3.00</td>\n",
       "      <td>26</td>\n",
       "      <td>71.4</td>\n",
       "      <td>17</td>\n",
       "      <td>0</td>\n",
       "      <td>...</td>\n",
       "      <td>11459.0</td>\n",
       "      <td>0.0</td>\n",
       "      <td>460.0</td>\n",
       "      <td>0.0</td>\n",
       "      <td>503.0</td>\n",
       "      <td>0.0</td>\n",
       "      <td>4</td>\n",
       "      <td>2018</td>\n",
       "      <td>11</td>\n",
       "      <td>Другой</td>\n",
       "    </tr>\n",
       "    <tr>\n",
       "      <td>23685</td>\n",
       "      <td>15</td>\n",
       "      <td>2490000.0</td>\n",
       "      <td>31.00</td>\n",
       "      <td>2019-01-24</td>\n",
       "      <td>1</td>\n",
       "      <td>2.50</td>\n",
       "      <td>5</td>\n",
       "      <td>17.3</td>\n",
       "      <td>5</td>\n",
       "      <td>0</td>\n",
       "      <td>...</td>\n",
       "      <td>51818.0</td>\n",
       "      <td>0.0</td>\n",
       "      <td>407.0</td>\n",
       "      <td>0.0</td>\n",
       "      <td>553.0</td>\n",
       "      <td>0.0</td>\n",
       "      <td>3</td>\n",
       "      <td>2019</td>\n",
       "      <td>1</td>\n",
       "      <td>Последний</td>\n",
       "    </tr>\n",
       "    <tr>\n",
       "      <td>23686</td>\n",
       "      <td>8</td>\n",
       "      <td>3300000.0</td>\n",
       "      <td>31.00</td>\n",
       "      <td>2017-04-29</td>\n",
       "      <td>1</td>\n",
       "      <td>2.55</td>\n",
       "      <td>9</td>\n",
       "      <td>18.0</td>\n",
       "      <td>6</td>\n",
       "      <td>0</td>\n",
       "      <td>...</td>\n",
       "      <td>11602.0</td>\n",
       "      <td>1.0</td>\n",
       "      <td>140.0</td>\n",
       "      <td>1.0</td>\n",
       "      <td>317.0</td>\n",
       "      <td>193.0</td>\n",
       "      <td>5</td>\n",
       "      <td>2017</td>\n",
       "      <td>4</td>\n",
       "      <td>Другой</td>\n",
       "    </tr>\n",
       "    <tr>\n",
       "      <td>23687</td>\n",
       "      <td>6</td>\n",
       "      <td>3200000.0</td>\n",
       "      <td>39.00</td>\n",
       "      <td>2017-12-16</td>\n",
       "      <td>1</td>\n",
       "      <td>NaN</td>\n",
       "      <td>9</td>\n",
       "      <td>20.0</td>\n",
       "      <td>6</td>\n",
       "      <td>0</td>\n",
       "      <td>...</td>\n",
       "      <td>16704.0</td>\n",
       "      <td>0.0</td>\n",
       "      <td>460.0</td>\n",
       "      <td>0.0</td>\n",
       "      <td>503.0</td>\n",
       "      <td>38.0</td>\n",
       "      <td>5</td>\n",
       "      <td>2017</td>\n",
       "      <td>12</td>\n",
       "      <td>Другой</td>\n",
       "    </tr>\n",
       "    <tr>\n",
       "      <td>23688</td>\n",
       "      <td>19</td>\n",
       "      <td>9200000.0</td>\n",
       "      <td>101.00</td>\n",
       "      <td>2019-04-01</td>\n",
       "      <td>3</td>\n",
       "      <td>3.05</td>\n",
       "      <td>15</td>\n",
       "      <td>63.0</td>\n",
       "      <td>12</td>\n",
       "      <td>0</td>\n",
       "      <td>...</td>\n",
       "      <td>14428.0</td>\n",
       "      <td>0.0</td>\n",
       "      <td>460.0</td>\n",
       "      <td>0.0</td>\n",
       "      <td>503.0</td>\n",
       "      <td>23.0</td>\n",
       "      <td>0</td>\n",
       "      <td>2019</td>\n",
       "      <td>4</td>\n",
       "      <td>Другой</td>\n",
       "    </tr>\n",
       "    <tr>\n",
       "      <td>23689</td>\n",
       "      <td>13</td>\n",
       "      <td>3550000.0</td>\n",
       "      <td>35.30</td>\n",
       "      <td>2018-02-28</td>\n",
       "      <td>1</td>\n",
       "      <td>2.86</td>\n",
       "      <td>15</td>\n",
       "      <td>16.3</td>\n",
       "      <td>4</td>\n",
       "      <td>0</td>\n",
       "      <td>...</td>\n",
       "      <td>16081.0</td>\n",
       "      <td>1.0</td>\n",
       "      <td>353.0</td>\n",
       "      <td>2.0</td>\n",
       "      <td>652.0</td>\n",
       "      <td>29.0</td>\n",
       "      <td>2</td>\n",
       "      <td>2018</td>\n",
       "      <td>2</td>\n",
       "      <td>Другой</td>\n",
       "    </tr>\n",
       "    <tr>\n",
       "      <td>23690</td>\n",
       "      <td>3</td>\n",
       "      <td>5500000.0</td>\n",
       "      <td>52.00</td>\n",
       "      <td>2018-07-19</td>\n",
       "      <td>2</td>\n",
       "      <td>NaN</td>\n",
       "      <td>5</td>\n",
       "      <td>31.0</td>\n",
       "      <td>2</td>\n",
       "      <td>0</td>\n",
       "      <td>...</td>\n",
       "      <td>6263.0</td>\n",
       "      <td>1.0</td>\n",
       "      <td>300.0</td>\n",
       "      <td>0.0</td>\n",
       "      <td>503.0</td>\n",
       "      <td>15.0</td>\n",
       "      <td>3</td>\n",
       "      <td>2018</td>\n",
       "      <td>7</td>\n",
       "      <td>Другой</td>\n",
       "    </tr>\n",
       "    <tr>\n",
       "      <td>23691</td>\n",
       "      <td>11</td>\n",
       "      <td>9470000.0</td>\n",
       "      <td>72.90</td>\n",
       "      <td>2016-10-13</td>\n",
       "      <td>2</td>\n",
       "      <td>2.75</td>\n",
       "      <td>25</td>\n",
       "      <td>40.3</td>\n",
       "      <td>7</td>\n",
       "      <td>0</td>\n",
       "      <td>...</td>\n",
       "      <td>4489.0</td>\n",
       "      <td>0.0</td>\n",
       "      <td>460.0</td>\n",
       "      <td>1.0</td>\n",
       "      <td>806.0</td>\n",
       "      <td>519.0</td>\n",
       "      <td>3</td>\n",
       "      <td>2016</td>\n",
       "      <td>10</td>\n",
       "      <td>Другой</td>\n",
       "    </tr>\n",
       "    <tr>\n",
       "      <td>23692</td>\n",
       "      <td>2</td>\n",
       "      <td>1350000.0</td>\n",
       "      <td>30.00</td>\n",
       "      <td>2017-07-07</td>\n",
       "      <td>1</td>\n",
       "      <td>NaN</td>\n",
       "      <td>5</td>\n",
       "      <td>17.5</td>\n",
       "      <td>4</td>\n",
       "      <td>0</td>\n",
       "      <td>...</td>\n",
       "      <td>NaN</td>\n",
       "      <td>NaN</td>\n",
       "      <td>NaN</td>\n",
       "      <td>NaN</td>\n",
       "      <td>NaN</td>\n",
       "      <td>413.0</td>\n",
       "      <td>4</td>\n",
       "      <td>2017</td>\n",
       "      <td>7</td>\n",
       "      <td>Другой</td>\n",
       "    </tr>\n",
       "    <tr>\n",
       "      <td>23693</td>\n",
       "      <td>9</td>\n",
       "      <td>4600000.0</td>\n",
       "      <td>62.40</td>\n",
       "      <td>2016-08-05</td>\n",
       "      <td>3</td>\n",
       "      <td>2.60</td>\n",
       "      <td>9</td>\n",
       "      <td>40.0</td>\n",
       "      <td>8</td>\n",
       "      <td>0</td>\n",
       "      <td>...</td>\n",
       "      <td>34104.0</td>\n",
       "      <td>1.0</td>\n",
       "      <td>352.0</td>\n",
       "      <td>1.0</td>\n",
       "      <td>675.0</td>\n",
       "      <td>239.0</td>\n",
       "      <td>4</td>\n",
       "      <td>2016</td>\n",
       "      <td>8</td>\n",
       "      <td>Другой</td>\n",
       "    </tr>\n",
       "    <tr>\n",
       "      <td>23694</td>\n",
       "      <td>9</td>\n",
       "      <td>9700000.0</td>\n",
       "      <td>133.81</td>\n",
       "      <td>2017-03-21</td>\n",
       "      <td>3</td>\n",
       "      <td>3.70</td>\n",
       "      <td>5</td>\n",
       "      <td>73.3</td>\n",
       "      <td>3</td>\n",
       "      <td>0</td>\n",
       "      <td>...</td>\n",
       "      <td>4232.0</td>\n",
       "      <td>1.0</td>\n",
       "      <td>796.0</td>\n",
       "      <td>3.0</td>\n",
       "      <td>381.0</td>\n",
       "      <td>0.0</td>\n",
       "      <td>1</td>\n",
       "      <td>2017</td>\n",
       "      <td>3</td>\n",
       "      <td>Другой</td>\n",
       "    </tr>\n",
       "    <tr>\n",
       "      <td>23695</td>\n",
       "      <td>14</td>\n",
       "      <td>3100000.0</td>\n",
       "      <td>59.00</td>\n",
       "      <td>2018-01-15</td>\n",
       "      <td>3</td>\n",
       "      <td>NaN</td>\n",
       "      <td>5</td>\n",
       "      <td>38.0</td>\n",
       "      <td>4</td>\n",
       "      <td>0</td>\n",
       "      <td>...</td>\n",
       "      <td>NaN</td>\n",
       "      <td>NaN</td>\n",
       "      <td>NaN</td>\n",
       "      <td>NaN</td>\n",
       "      <td>NaN</td>\n",
       "      <td>45.0</td>\n",
       "      <td>0</td>\n",
       "      <td>2018</td>\n",
       "      <td>1</td>\n",
       "      <td>Другой</td>\n",
       "    </tr>\n",
       "    <tr>\n",
       "      <td>23696</td>\n",
       "      <td>18</td>\n",
       "      <td>2500000.0</td>\n",
       "      <td>56.70</td>\n",
       "      <td>2018-02-11</td>\n",
       "      <td>2</td>\n",
       "      <td>NaN</td>\n",
       "      <td>3</td>\n",
       "      <td>29.7</td>\n",
       "      <td>1</td>\n",
       "      <td>0</td>\n",
       "      <td>...</td>\n",
       "      <td>NaN</td>\n",
       "      <td>NaN</td>\n",
       "      <td>NaN</td>\n",
       "      <td>NaN</td>\n",
       "      <td>NaN</td>\n",
       "      <td>0.0</td>\n",
       "      <td>6</td>\n",
       "      <td>2018</td>\n",
       "      <td>2</td>\n",
       "      <td>Первый</td>\n",
       "    </tr>\n",
       "    <tr>\n",
       "      <td>23697</td>\n",
       "      <td>13</td>\n",
       "      <td>11475000.0</td>\n",
       "      <td>76.75</td>\n",
       "      <td>2017-03-28</td>\n",
       "      <td>2</td>\n",
       "      <td>3.00</td>\n",
       "      <td>17</td>\n",
       "      <td>NaN</td>\n",
       "      <td>12</td>\n",
       "      <td>0</td>\n",
       "      <td>...</td>\n",
       "      <td>10364.0</td>\n",
       "      <td>2.0</td>\n",
       "      <td>173.0</td>\n",
       "      <td>3.0</td>\n",
       "      <td>196.0</td>\n",
       "      <td>602.0</td>\n",
       "      <td>1</td>\n",
       "      <td>2017</td>\n",
       "      <td>3</td>\n",
       "      <td>Другой</td>\n",
       "    </tr>\n",
       "    <tr>\n",
       "      <td>23698</td>\n",
       "      <td>4</td>\n",
       "      <td>1350000.0</td>\n",
       "      <td>32.30</td>\n",
       "      <td>2017-07-21</td>\n",
       "      <td>1</td>\n",
       "      <td>2.50</td>\n",
       "      <td>5</td>\n",
       "      <td>12.3</td>\n",
       "      <td>1</td>\n",
       "      <td>0</td>\n",
       "      <td>...</td>\n",
       "      <td>NaN</td>\n",
       "      <td>NaN</td>\n",
       "      <td>NaN</td>\n",
       "      <td>NaN</td>\n",
       "      <td>NaN</td>\n",
       "      <td>0.0</td>\n",
       "      <td>4</td>\n",
       "      <td>2017</td>\n",
       "      <td>7</td>\n",
       "      <td>Первый</td>\n",
       "    </tr>\n",
       "  </tbody>\n",
       "</table>\n",
       "<p>15 rows × 26 columns</p>\n",
       "</div>"
      ],
      "text/plain": [
       "       total_images  last_price  total_area first_day_exposition  rooms  \\\n",
       "23684            20  21400000.0      145.00           2018-11-02      4   \n",
       "23685            15   2490000.0       31.00           2019-01-24      1   \n",
       "23686             8   3300000.0       31.00           2017-04-29      1   \n",
       "23687             6   3200000.0       39.00           2017-12-16      1   \n",
       "23688            19   9200000.0      101.00           2019-04-01      3   \n",
       "23689            13   3550000.0       35.30           2018-02-28      1   \n",
       "23690             3   5500000.0       52.00           2018-07-19      2   \n",
       "23691            11   9470000.0       72.90           2016-10-13      2   \n",
       "23692             2   1350000.0       30.00           2017-07-07      1   \n",
       "23693             9   4600000.0       62.40           2016-08-05      3   \n",
       "23694             9   9700000.0      133.81           2017-03-21      3   \n",
       "23695            14   3100000.0       59.00           2018-01-15      3   \n",
       "23696            18   2500000.0       56.70           2018-02-11      2   \n",
       "23697            13  11475000.0       76.75           2017-03-28      2   \n",
       "23698             4   1350000.0       32.30           2017-07-21      1   \n",
       "\n",
       "       ceiling_height  floors_total  living_area  floor is_apartment  ...  \\\n",
       "23684            3.00            26         71.4     17            0  ...   \n",
       "23685            2.50             5         17.3      5            0  ...   \n",
       "23686            2.55             9         18.0      6            0  ...   \n",
       "23687             NaN             9         20.0      6            0  ...   \n",
       "23688            3.05            15         63.0     12            0  ...   \n",
       "23689            2.86            15         16.3      4            0  ...   \n",
       "23690             NaN             5         31.0      2            0  ...   \n",
       "23691            2.75            25         40.3      7            0  ...   \n",
       "23692             NaN             5         17.5      4            0  ...   \n",
       "23693            2.60             9         40.0      8            0  ...   \n",
       "23694            3.70             5         73.3      3            0  ...   \n",
       "23695             NaN             5         38.0      4            0  ...   \n",
       "23696             NaN             3         29.7      1            0  ...   \n",
       "23697            3.00            17          NaN     12            0  ...   \n",
       "23698            2.50             5         12.3      1            0  ...   \n",
       "\n",
       "       cityCenters_nearest  parks_around3000  parks_nearest  ponds_around3000  \\\n",
       "23684              11459.0               0.0          460.0               0.0   \n",
       "23685              51818.0               0.0          407.0               0.0   \n",
       "23686              11602.0               1.0          140.0               1.0   \n",
       "23687              16704.0               0.0          460.0               0.0   \n",
       "23688              14428.0               0.0          460.0               0.0   \n",
       "23689              16081.0               1.0          353.0               2.0   \n",
       "23690               6263.0               1.0          300.0               0.0   \n",
       "23691               4489.0               0.0          460.0               1.0   \n",
       "23692                  NaN               NaN            NaN               NaN   \n",
       "23693              34104.0               1.0          352.0               1.0   \n",
       "23694               4232.0               1.0          796.0               3.0   \n",
       "23695                  NaN               NaN            NaN               NaN   \n",
       "23696                  NaN               NaN            NaN               NaN   \n",
       "23697              10364.0               2.0          173.0               3.0   \n",
       "23698                  NaN               NaN            NaN               NaN   \n",
       "\n",
       "      ponds_nearest  days_exposition  weekday  year  month   df_floor  \n",
       "23684         503.0              0.0        4  2018     11     Другой  \n",
       "23685         553.0              0.0        3  2019      1  Последний  \n",
       "23686         317.0            193.0        5  2017      4     Другой  \n",
       "23687         503.0             38.0        5  2017     12     Другой  \n",
       "23688         503.0             23.0        0  2019      4     Другой  \n",
       "23689         652.0             29.0        2  2018      2     Другой  \n",
       "23690         503.0             15.0        3  2018      7     Другой  \n",
       "23691         806.0            519.0        3  2016     10     Другой  \n",
       "23692           NaN            413.0        4  2017      7     Другой  \n",
       "23693         675.0            239.0        4  2016      8     Другой  \n",
       "23694         381.0              0.0        1  2017      3     Другой  \n",
       "23695           NaN             45.0        0  2018      1     Другой  \n",
       "23696           NaN              0.0        6  2018      2     Первый  \n",
       "23697         196.0            602.0        1  2017      3     Другой  \n",
       "23698           NaN              0.0        4  2017      7     Первый  \n",
       "\n",
       "[15 rows x 26 columns]"
      ]
     },
     "metadata": {},
     "output_type": "display_data"
    },
    {
     "data": {
      "text/plain": [
       "Другой       17446\n",
       "Последний     3361\n",
       "Первый        2892\n",
       "Name: df_floor, dtype: int64"
      ]
     },
     "execution_count": 23,
     "metadata": {},
     "output_type": "execute_result"
    }
   ],
   "source": [
    "df['df_floor'] = df['floor'].where((df['floor'] == df['floors_total']) | (df['floor'] == 1), \"Другой\")# Если не выполняется условие - первый параметр, то значение заменяется на второй параметр\n",
    "df['df_floor'] = df['df_floor'].where(df['floor'] != df['floors_total'], 'Последний')\n",
    "df['df_floor'] = df['df_floor'].replace(1, 'Первый')\n",
    "display(df.tail(15))#выведем на экран\n",
    "df['df_floor'].value_counts()"
   ]
  },
  {
   "cell_type": "markdown",
   "metadata": {},
   "source": [
    "Рассчитаем соотношение жилой и общей площади квартиры."
   ]
  },
  {
   "cell_type": "code",
   "execution_count": 24,
   "metadata": {},
   "outputs": [
    {
     "data": {
      "text/plain": [
       "0    0.472222\n",
       "1    0.460396\n",
       "2    0.612500\n",
       "3         NaN\n",
       "4    0.320000\n",
       "Name: non_res_area, dtype: float64"
      ]
     },
     "execution_count": 24,
     "metadata": {},
     "output_type": "execute_result"
    }
   ],
   "source": [
    "df['non_res_area'] = df['living_area']/df['total_area']#добавим новый столбец в таблицу с соотношением  жилой и общей площади квартиры\n",
    "df['non_res_area'].head()#выведем получившийся результат на экран (первые 5 строк)   "
   ]
  },
  {
   "cell_type": "markdown",
   "metadata": {},
   "source": [
    "Рассчитаем отношение площади кухни к общей площади."
   ]
  },
  {
   "cell_type": "code",
   "execution_count": 25,
   "metadata": {},
   "outputs": [
    {
     "data": {
      "text/plain": [
       "0    0.231481\n",
       "1    0.272277\n",
       "2    0.148214\n",
       "3    0.059748\n",
       "4    0.410000\n",
       "Name: ratio_kit_area, dtype: float64"
      ]
     },
     "execution_count": 25,
     "metadata": {},
     "output_type": "execute_result"
    }
   ],
   "source": [
    "df['ratio_kit_area'] = df['kitchen_area']/df['total_area']#добавим новый столбец в таблицу с соотношением  полщади кухни и общей площади квартиры\n",
    "df['ratio_kit_area'].head()#выведем получившийся результат на экран (первые 5 строк) "
   ]
  },
  {
   "cell_type": "markdown",
   "metadata": {},
   "source": [
    "Рассчитаем цену квадратного метра стоимости квартиры."
   ]
  },
  {
   "cell_type": "code",
   "execution_count": 26,
   "metadata": {},
   "outputs": [
    {
     "data": {
      "text/plain": [
       "0    120370.370370\n",
       "1     82920.792079\n",
       "2     92785.714286\n",
       "3    408176.100629\n",
       "4    100000.000000\n",
       "Name: square_metres, dtype: float64"
      ]
     },
     "execution_count": 26,
     "metadata": {},
     "output_type": "execute_result"
    }
   ],
   "source": [
    "df['square_metres'] = df['last_price']/df['total_area']#добавим новый столбец в таблицу со стоимостью квадратного метра квартиры\n",
    "df['square_metres'].head()#выведем получившийся результат на экран (первые 5 строк)"
   ]
  },
  {
   "cell_type": "markdown",
   "metadata": {},
   "source": [
    "**Вывод**\n",
    "цену квадратного метра;\n",
    "день недели, месяц и год публикации объявления;\n",
    "этаж квартиры; варианты — первый, последний, другой;\n",
    "соотношение жилой и общей площади, а также отношение площади кухни к общей."
   ]
  },
  {
   "cell_type": "markdown",
   "metadata": {},
   "source": [
    "## Исследовательский анализ данных"
   ]
  },
  {
   "cell_type": "markdown",
   "metadata": {},
   "source": [
    "Изучим параметры квартиры: площадь, цену, число комнат, высоту потолков. Построим гистограммы для каждого параметра."
   ]
  },
  {
   "cell_type": "code",
   "execution_count": 27,
   "metadata": {},
   "outputs": [
    {
     "data": {
      "image/png": "[encoded data removed]",
      "text/plain": [
       "<Figure size 432x288 with 1 Axes>"
      ]
     },
     "metadata": {
      "needs_background": "light"
     },
     "output_type": "display_data"
    }
   ],
   "source": [
    "import matplotlib.pyplot as plt # импортируем библиотеку, стандартно используется имя plt\n",
    "df['rooms'].hist(range=(0,10))# Отобразим гистограмму с отображаемыми минимальным и максимальным значением min_value = 0 и max_value = 10 \n",
    "plt.title('Гистограмма числа комнат')\n",
    "plt.xlabel('Количество комнат, шт.')\n",
    "plt.ylabel('Частота')\n",
    "plt.show() # даём команду отобразить гистограмму\n"
   ]
  },
  {
   "cell_type": "markdown",
   "metadata": {},
   "source": [
    "Гистограмма количества комнат в квартире говорит, что в выборке больше всего 2-3 х комантных квартир.\n",
    "Для определения выбросов установим межквартильный размах."
   ]
  },
  {
   "cell_type": "code",
   "execution_count": 28,
   "metadata": {
    "scrolled": true
   },
   "outputs": [
    {
     "data": {
      "text/plain": [
       "count    23699.000000\n",
       "mean         2.070636\n",
       "std          1.078405\n",
       "min          0.000000\n",
       "25%          1.000000\n",
       "50%          2.000000\n",
       "75%          3.000000\n",
       "max         19.000000\n",
       "Name: rooms, dtype: float64"
      ]
     },
     "execution_count": 28,
     "metadata": {},
     "output_type": "execute_result"
    }
   ],
   "source": [
    "df['rooms'].describe(include='all')#выводим для просмотра основных статистических данных"
   ]
  },
  {
   "cell_type": "markdown",
   "metadata": {},
   "source": [
    "Исходя из данных, приведенных выше, Межквартильный диапазон (IQR) = Q3-Q1 = 3-1=2\n",
    "В этом случае определим выбросы, который будут лежать не в диапазоне 1,5 межквартильного размаха:\n",
    "которые ниже будет = 0 (или нижний ус),\n",
    "и который выше Q3 + 1,5x IQR = 3+1,5*2 =6 (или верхний ус).\n",
    "Таким образом, аномальными для выборки будут квартиры с количеством комнат больше 6."
   ]
  },
  {
   "cell_type": "code",
   "execution_count": 29,
   "metadata": {},
   "outputs": [],
   "source": [
    "df['too_many_rooms'] = df['rooms'] > 6"
   ]
  },
  {
   "cell_type": "code",
   "execution_count": 30,
   "metadata": {},
   "outputs": [
    {
     "data": {
      "text/plain": [
       "count    14504.000000\n",
       "mean         2.771499\n",
       "std          1.261056\n",
       "min          1.000000\n",
       "25%          2.520000\n",
       "50%          2.650000\n",
       "75%          2.800000\n",
       "max        100.000000\n",
       "Name: ceiling_height, dtype: float64"
      ]
     },
     "execution_count": 30,
     "metadata": {},
     "output_type": "execute_result"
    }
   ],
   "source": [
    "df['ceiling_height'].describe()#выводим для просмотра основных статистических данных"
   ]
  },
  {
   "cell_type": "code",
   "execution_count": 31,
   "metadata": {},
   "outputs": [
    {
     "data": {
      "image/png": "[encoded data removed]",
      "text/plain": [
       "<Figure size 432x288 with 1 Axes>"
      ]
     },
     "metadata": {
      "needs_background": "light"
     },
     "output_type": "display_data"
    }
   ],
   "source": [
    "import matplotlib.pyplot as plt # импортируем библиотеку, стандартно используется имя plt\n",
    "df['ceiling_height'].hist(range=(2,6))# Отобразим гистограмму с отображаемыми минимальным и максимальным значением min_value = 0 и max_value = 10 \n",
    "plt.title('Гистограмма высоты потолков')\n",
    "plt.xlabel('Высота потолков, м.')\n",
    "plt.ylabel('Частота')\n",
    "plt.show() # даём команду отобразить гистограмму"
   ]
  },
  {
   "cell_type": "markdown",
   "metadata": {},
   "source": [
    "Гистограмма высоты потолков говорит, что в выборке большинство кварит имеют высоту потолков 2.5 метра."
   ]
  },
  {
   "cell_type": "code",
   "execution_count": 32,
   "metadata": {},
   "outputs": [
    {
     "data": {
      "text/plain": [
       "count    14504.000000\n",
       "mean         2.771499\n",
       "std          1.261056\n",
       "min          1.000000\n",
       "25%          2.520000\n",
       "50%          2.650000\n",
       "75%          2.800000\n",
       "max        100.000000\n",
       "Name: ceiling_height, dtype: float64"
      ]
     },
     "execution_count": 32,
     "metadata": {},
     "output_type": "execute_result"
    }
   ],
   "source": [
    "df['ceiling_height'].describe(include='all')#выводим для просмотра основных статистических данных"
   ]
  },
  {
   "cell_type": "markdown",
   "metadata": {},
   "source": [
    "Исходя из данных, приведенных выше, Межквартильный диапазон (IQR) = Q3-Q1 = 2.80-2.52=0.28\n",
    "В этом случае определим выбросы, который будут лежать не в диапазоне 1,5 межквартильного размаха:\n",
    "которые ниже будет = 1 (или нижний ус), при этом, квартиры с такими потолками являются аномальными.\n",
    "и который выше Q3 + 1,5x IQR = 2,82+1,5*0,28 = 3,24 (или верхний ус).\n",
    "Таким образом, аномальными для выборки будут квартиры с высотой потолков больше от 2.52 до 3.24 м."
   ]
  },
  {
   "cell_type": "code",
   "execution_count": 33,
   "metadata": {},
   "outputs": [],
   "source": [
    "df['too_much_ceiling_height'] = df['ceiling_height'] > 3.24"
   ]
  },
  {
   "cell_type": "code",
   "execution_count": 34,
   "metadata": {
    "scrolled": true
   },
   "outputs": [
    {
     "data": {
      "image/png": "[encoded data removed]",
      "text/plain": [
       "<Figure size 432x288 with 1 Axes>"
      ]
     },
     "metadata": {
      "needs_background": "light"
     },
     "output_type": "display_data"
    }
   ],
   "source": [
    "df['total_area'].hist(bins=20, range=(0,350))# Отобразим гистограмму с числом корзин 20_bins и отображаемыми минимальным и максимальным значением min_value = 0 и max_value = 350 \n",
    "plt.title('Гистограмма общей площади квартиры')\n",
    "plt.xlabel('Общая площадь квартиры, кв.м.')\n",
    "plt.ylabel('Частота')\n",
    "plt.show()# даём команду отобразить гистограмму"
   ]
  },
  {
   "cell_type": "markdown",
   "metadata": {},
   "source": [
    "Гистограмма общей площади квартиры говорит, что в выборке большинство квартир имеют площадь 50 метров."
   ]
  },
  {
   "cell_type": "code",
   "execution_count": 35,
   "metadata": {},
   "outputs": [
    {
     "data": {
      "text/plain": [
       "count    23699.000000\n",
       "mean        60.348651\n",
       "std         35.654083\n",
       "min         12.000000\n",
       "25%         40.000000\n",
       "50%         52.000000\n",
       "75%         69.900000\n",
       "max        900.000000\n",
       "Name: total_area, dtype: float64"
      ]
     },
     "execution_count": 35,
     "metadata": {},
     "output_type": "execute_result"
    }
   ],
   "source": [
    "df['total_area'].describe()#выводим для просмотра основных статистических данных"
   ]
  },
  {
   "cell_type": "markdown",
   "metadata": {},
   "source": [
    "Исходя из данных, приведенных выше, Межквартильный диапазон (IQR) = Q3-Q1 = 69.90-40 = 29.9\n",
    "В этом случае определим выбросы, который будут лежать не в диапазоне 1,5 межквартильного размаха:\n",
    "которые ниже будет Q1= 40-1.5*29.9= -4.85(или нижний ус), при этом, квартиры с такими количеством метров являются аномальными.\n",
    "и который выше Q3 + 1,5x IQR = 69.9+1,5*29.9 = 114.75 (или верхний ус).\n",
    "Таким образом, аномальными для данной выборки будут квартиры с количеством метров больше 114.75м."
   ]
  },
  {
   "cell_type": "code",
   "execution_count": 36,
   "metadata": {},
   "outputs": [],
   "source": [
    "df['too_much_total_area'] = df['total_area'] > 114.75"
   ]
  },
  {
   "cell_type": "code",
   "execution_count": 37,
   "metadata": {},
   "outputs": [
    {
     "data": {
      "image/png": "[encoded data removed]",
      "text/plain": [
       "<Figure size 432x288 with 1 Axes>"
      ]
     },
     "metadata": {
      "needs_background": "light"
     },
     "output_type": "display_data"
    }
   ],
   "source": [
    "df.boxplot('total_area')\n",
    "plt.title('Диаграмма размаха')\n",
    "plt.xlabel('Общая площадь квартир')\n",
    "plt.show()# Отображение диаграммы ящик с усами"
   ]
  },
  {
   "cell_type": "markdown",
   "metadata": {},
   "source": [
    "При этом, график boxplot говорит, что аномальных квартир в диапазоне до 500 м. достаточно много. Такие квартиры (или дома) существуют, пожтому удалять из выборки данные будет некорректно."
   ]
  },
  {
   "cell_type": "code",
   "execution_count": 38,
   "metadata": {},
   "outputs": [
    {
     "data": {
      "image/png": "[encoded data removed]",
      "text/plain": [
       "<Figure size 432x288 with 1 Axes>"
      ]
     },
     "metadata": {
      "needs_background": "light"
     },
     "output_type": "display_data"
    }
   ],
   "source": [
    "df['square_metres'].hist(bins=100, range=(100, 250000))# Отобразим гистограмму с числом корзин 100_bins и отображаемыми минимальным и максимальным значением min_value = 100 и max_value = 20000000\n",
    "plt.title('Гистограмма стоимость квартиры за квадратный метр')\n",
    "plt.xlabel('Стоимость квартиры за кв.м./руб.')\n",
    "plt.ylabel('Частота')\n",
    "plt.show()# даём команду отобразить гистограмму"
   ]
  },
  {
   "cell_type": "code",
   "execution_count": 39,
   "metadata": {},
   "outputs": [
    {
     "data": {
      "text/plain": [
       "count    2.369900e+04\n",
       "mean     9.942166e+04\n",
       "std      5.030680e+04\n",
       "min      1.118349e+02\n",
       "25%      7.658547e+04\n",
       "50%      9.500000e+04\n",
       "75%      1.142563e+05\n",
       "max      1.907500e+06\n",
       "Name: square_metres, dtype: float64"
      ]
     },
     "execution_count": 39,
     "metadata": {},
     "output_type": "execute_result"
    }
   ],
   "source": [
    "df['square_metres'].describe()#выводим для просмотра основных статистических данных"
   ]
  },
  {
   "cell_type": "markdown",
   "metadata": {},
   "source": [
    "Исходя из данных, приведенных выше, Межквартильный диапазон (IQR) = Q3-Q1 = 114.26-76.59 = 37.67\n",
    "В этом случае определим выбросы, который будут лежать не в диапазоне 1,5 межквартильного размаха:\n",
    "которые ниже будет Q1= 76.59-1.5*37.67= 20.09(или нижний ус), \n",
    "и который выше Q3 + 1,5x IQR = 114.26+1,5*37.67 = 170.77 (или верхний ус).\n",
    "Таким образом, аномальными для данной выборки будут квартиры с ценой в диапазоне от 20.09 до 170.77 тыс.рублей за квадратный метр."
   ]
  },
  {
   "cell_type": "code",
   "execution_count": 40,
   "metadata": {},
   "outputs": [
    {
     "data": {
      "text/plain": [
       "23694    False\n",
       "23695    False\n",
       "23696    False\n",
       "23697    False\n",
       "23698    False\n",
       "Name: too_cheap, dtype: bool"
      ]
     },
     "metadata": {},
     "output_type": "display_data"
    }
   ],
   "source": [
    "df['too_expensive'] = df['square_metres'] > 170770\n",
    "df['too_cheap'] = df['square_metres'] < 20090\n",
    "display(df['too_cheap'].tail())"
   ]
  },
  {
   "cell_type": "code",
   "execution_count": null,
   "metadata": {},
   "outputs": [
    {
     "data": {
      "text/plain": [
       "21250"
      ]
     },
     "metadata": {},
     "output_type": "display_data"
    }
   ],
   "source": [
    "import seaborn as sn\n",
    "import matplotlib.pyplot as plt\n",
    "\n",
    "good_df = df[\n",
    "    (df['too_expensive']==False) &\n",
    "    (df['too_cheap']==False) &\n",
    "    (df['too_much_total_area']==False) &\n",
    "    (df['too_much_ceiling_height']==False) &\n",
    "    (df['too_many_rooms']==False)]#.reset_index(drop=True)\n",
    "display(len(good_df))\n",
    "for column in ['rooms', 'total_area', 'ceiling_height', 'square_metres']:\n",
    "    sn.catplot(x=column, y='last_price', kind= 'box', data=good_df, palette='husl')"
   ]
  },
  {
   "cell_type": "code",
   "execution_count": null,
   "metadata": {},
   "outputs": [],
   "source": [
    "df.boxplot('square_metres')\n",
    "plt.title('Диаграмма размаха')\n",
    "plt.xlabel('Стоимость квадратного метра квартиры, кв.м./руб.')\n",
    "plt.show()# Отображение диаграммы ящик с усами"
   ]
  },
  {
   "cell_type": "markdown",
   "metadata": {},
   "source": [
    "Гистограмма стоимости квадратного метра кваритры говорит о том, что большинство квартир в выборке имеют стоимость 100 тыс. рублей за квадратный метр.\n",
    "   \n",
    "    \n",
    "***ВЫВОД***\n",
    "\n",
    "Таким образом, для всей выборки аномальными будут являться следующие квартиры:\n",
    "1) с количеством комнат больше 6.\n",
    "\n",
    "2) с ценой в диапазоне от 20.09 до 170.77 рублей за квадратный метр.\n",
    "\n",
    "3) с количеством метров больше 114.75м.\n",
    "\n",
    "4) с высотой потолков больше от 2.52 до 3.24 м."
   ]
  },
  {
   "cell_type": "markdown",
   "metadata": {},
   "source": [
    "Изучим время продажи квартиры. Построим гистограмму."
   ]
  },
  {
   "cell_type": "code",
   "execution_count": null,
   "metadata": {},
   "outputs": [],
   "source": [
    "df['days_exposition'].hist(bins=10)# Отобразим гистограмму с числом корзин 3_bins\n",
    "plt.title('Гистограмма времени продажи квартиры')\n",
    "plt.xlabel('Время продажи квартиры, дн.')\n",
    "plt.ylabel('Частота')\n",
    "plt.show()# даём команду отобразить гистограмму"
   ]
  },
  {
   "cell_type": "markdown",
   "metadata": {},
   "source": [
    "Гистограмма дней размещения объявления говорит, что большинство квартир в выборке было продано в период до 500 дней.\n",
    "\n",
    "Посчитаем среднее и медиану. Для этого используем метод describe()"
   ]
  },
  {
   "cell_type": "code",
   "execution_count": null,
   "metadata": {},
   "outputs": [],
   "source": [
    "df['days_exposition'].describe()#выводим для просмотра основных статистических данных"
   ]
  },
  {
   "cell_type": "markdown",
   "metadata": {},
   "source": [
    "Исходя из данных, изложенных в таблице выше, среднее количество дней родажи составляет 157 дней, а медианное значение составляет - 74 дня.\n",
    "С помощью диаграммы размаха отобразим все квартили для заданных данных.  "
   ]
  },
  {
   "cell_type": "markdown",
   "metadata": {},
   "source": [
    "В размах «усов» попадают нормальные значения, а за пределами находятся выбросы, изображённые точками. Нижний ус упирается в 0, минимальное значение.\n",
    "Таким образом, большая часть значений лежит в диапазоне до 430, что выглядит правдоподобно. На гистограмме видно, что продажи продолжительностью 500 дней уже редки, больше 1000 совсем мало, так как срок слишком большой.\n",
    "\n",
    "Но при этом первый квартиль лежит на уровне менее 22 дней, а это слишком мало.\n",
    "\n",
    "Уберем редкие и выбивающиеся значения. "
   ]
  },
  {
   "cell_type": "code",
   "execution_count": null,
   "metadata": {},
   "outputs": [],
   "source": [
    "df.query('22<days_exposition<500')"
   ]
  },
  {
   "cell_type": "markdown",
   "metadata": {},
   "source": [
    "Изучим, какие факторы больше всего влияют на стоимость квартиры, такие как:\n",
    "\n",
    "1) зависит ли цена от площади.\n",
    "\n",
    "2) зависит ли цена от числа комнат.\n",
    "\n",
    "3) зависит ли цена от удалённости от центра."
   ]
  },
  {
   "cell_type": "code",
   "execution_count": null,
   "metadata": {},
   "outputs": [],
   "source": [
    "display(df[\"cityCenters_nearest\"].corr(df['square_metres']))# Вычисление коэффициента корреляции Пирсона"
   ]
  },
  {
   "cell_type": "markdown",
   "metadata": {},
   "source": [
    "Как видно из данных, коэффициент корреляции ближе к 0. Значит, при изменении расстояния от центра, стоимость квадратного метра может не изменяться."
   ]
  },
  {
   "cell_type": "code",
   "execution_count": null,
   "metadata": {},
   "outputs": [],
   "source": [
    "display(df[\"total_area\"].corr(df['last_price']))# Вычисление коэффициента корреляции Пирсона"
   ]
  },
  {
   "cell_type": "markdown",
   "metadata": {},
   "source": [
    "Как видно из данных, коэффициент Пирсона положительный. Корреляция в 0,65 говорит о том, что связь есть. Значит, при изменении общей площади квартиры, увеличивается стоимость квартиры. "
   ]
  },
  {
   "cell_type": "code",
   "execution_count": null,
   "metadata": {},
   "outputs": [],
   "source": [
    "df[\"rooms\"].corr(df['last_price'])# Вычисление коэффициента корреляции Пирсона"
   ]
  },
  {
   "cell_type": "markdown",
   "metadata": {},
   "source": [
    "Как видно из данных, коэффициент корреляции ближе к 0. Значит, при изменении увеличении количества комнат, стоимость квартиры может не изменяться."
   ]
  },
  {
   "cell_type": "code",
   "execution_count": null,
   "metadata": {},
   "outputs": [],
   "source": [
    "import pandas as pd\n",
    "import seaborn as sn\n",
    "import matplotlib.pyplot as plt\n",
    "df_corr = pd.DataFrame(df,columns=['rooms', 'last_price', 'total_area', 'cityCenters_nearest', 'square_metres'])\n",
    "corrMatrix = df_corr.corr()\n",
    "sn.heatmap(corrMatrix, annot=True)\n",
    "plt.show()"
   ]
  },
  {
   "cell_type": "markdown",
   "metadata": {},
   "source": [
    "Изучим зависимость цены от того, на каком этаже расположена квартира: первом, последнем или другом. "
   ]
  },
  {
   "cell_type": "code",
   "execution_count": null,
   "metadata": {
    "scrolled": true
   },
   "outputs": [],
   "source": [
    "df.groupby(\"df_floor\")['square_metres'].mean()# проведем группировку постолбцу  df_floor и подсчетом среднего значения по столбцу square_metres"
   ]
  },
  {
   "cell_type": "markdown",
   "metadata": {},
   "source": [
    "Как видно из данных, привдененных выше, самая дешевая стоимость квадратного метра у квартир, расположенных на 1 этаже, и самая дорогая стоимость квадратного метра у квартир, расположенных  не на 1 и не на последнем этажах.\n",
    "\n",
    "Также изучим зависимость от даты размещения: дня недели, месяца и года."
   ]
  },
  {
   "cell_type": "code",
   "execution_count": null,
   "metadata": {},
   "outputs": [],
   "source": [
    "display(df[\"year\"].corr(df['last_price']))# Вычисление коэффициента корреляции Пирсона"
   ]
  },
  {
   "cell_type": "markdown",
   "metadata": {},
   "source": [
    "Как видно из данных, коэффициент корреляции ближе к 0. Значит, при изменении года размещения объявления, стоимость  квартиры может не изменяться."
   ]
  },
  {
   "cell_type": "code",
   "execution_count": null,
   "metadata": {},
   "outputs": [],
   "source": [
    "df['year'].describe(include='all')#выводим для просмотра основных статистических данных"
   ]
  },
  {
   "cell_type": "code",
   "execution_count": null,
   "metadata": {},
   "outputs": [],
   "source": [
    "df.boxplot('year')\n",
    "plt.title('Диаграмма размаха')\n",
    "plt.ylabel('Год публикации')\n",
    "plt.show()# Отображение диаграммы ящик с усами"
   ]
  },
  {
   "cell_type": "code",
   "execution_count": null,
   "metadata": {},
   "outputs": [],
   "source": [
    "display(df[\"month\"].corr(df['last_price']))# Вычисление коэффициента корреляции Пирсона"
   ]
  },
  {
   "cell_type": "markdown",
   "metadata": {},
   "source": [
    "Как видно из данных, коэффициент корреляции ближе к 0. Значит, при изменении месяца размещения объявления, стоимость  квартиры может не изменяться."
   ]
  },
  {
   "cell_type": "code",
   "execution_count": null,
   "metadata": {},
   "outputs": [],
   "source": [
    "df['month'].describe(include='all')#выводим для просмотра основных статистических данных"
   ]
  },
  {
   "cell_type": "code",
   "execution_count": null,
   "metadata": {},
   "outputs": [],
   "source": [
    "df.boxplot('month')\n",
    "plt.title('Диаграмма размаха')\n",
    "plt.ylabel('Месяц публикации')\n",
    "plt.show()# Отображение диаграммы ящик с усами"
   ]
  },
  {
   "cell_type": "code",
   "execution_count": null,
   "metadata": {},
   "outputs": [],
   "source": [
    "display(df[\"weekday\"].corr(df['last_price']))# Вычисление коэффициента корреляции Пирсона"
   ]
  },
  {
   "cell_type": "markdown",
   "metadata": {},
   "source": [
    "Как видно из данных, коэффициент корреляции ближе к 0. Значит, при изменении дня размещения объявления, стоимость  квартиры может не изменяться."
   ]
  },
  {
   "cell_type": "code",
   "execution_count": null,
   "metadata": {},
   "outputs": [],
   "source": [
    "df['weekday'].describe(include='all')#выводим для просмотра основных статистических данных"
   ]
  },
  {
   "cell_type": "code",
   "execution_count": null,
   "metadata": {},
   "outputs": [],
   "source": [
    "df.boxplot('weekday')\n",
    "plt.title('Диаграмма размаха')\n",
    "plt.ylabel('День публикации')\n",
    "plt.show()# Отображение диаграммы ящик с усами"
   ]
  },
  {
   "cell_type": "code",
   "execution_count": null,
   "metadata": {},
   "outputs": [],
   "source": [
    "import pandas as pd\n",
    "import seaborn as sn\n",
    "import matplotlib.pyplot as plt\n",
    "df = pd.DataFrame(df,columns=['weekday','last_price','month', 'year'])\n",
    "corrMatrix = df.corr()\n",
    "sn.heatmap(corrMatrix, annot=True)\n",
    "plt.show()"
   ]
  },
  {
   "cell_type": "markdown",
   "metadata": {},
   "source": [
    " Выберем 10 населённых пунктов с наибольшим числом объявлений."
   ]
  },
  {
   "cell_type": "code",
   "execution_count": null,
   "metadata": {
    "scrolled": true
   },
   "outputs": [],
   "source": [
    "top_locality_name = df.groupby('locality_name')['last_price'].count().sort_values(ascending=False).head(10)#проведем группировку по количеству значений, по убыванию данных по столбцу locality_name\n",
    "display(top_locality_name)"
   ]
  },
  {
   "cell_type": "markdown",
   "metadata": {},
   "source": [
    "Посчитаем среднюю цену квадратного метра в этих населённых пунктах. Выделим среди них населённые пункты с самой высокой и низкой стоимостью жилья. "
   ]
  },
  {
   "cell_type": "code",
   "execution_count": null,
   "metadata": {},
   "outputs": [],
   "source": [
    "df_top = df.groupby('locality_name')[['total_area', 'last_price']].sum()#проведем группировку по столбцу locality_name и проведем подсчёт суммы в группе\n",
    "df_top = df_top.query('index in @top_locality_name.index')# оставим в таблице сведения только по 10 населенным пунктам из top_locality_name\n",
    "df_top['square_metres'] = df_top['last_price'] / df_top['total_area']#добавим новый столбец в таблицу со стоимостью квадратного метра квартиры для сгруппированных данных\n",
    "df_top = df_top[['square_metres']]#оставим в таблице только столбец square_metres\n",
    "display(df_top)#выведем на экран среднюю цену в 10 населенных пунктах\n",
    "display(df_top[(df_top['square_metres'] == df_top['square_metres'].max()) | (df_top['square_metres'] == df_top['square_metres'].min())])#выведем max(), min()"
   ]
  },
  {
   "cell_type": "markdown",
   "metadata": {},
   "source": [
    " Изучим предложения квартир: для каждой квартиры есть информация о расстоянии до центра. Выделим квартиры в Санкт-Петербурге ('locality_name'). Выясним, какая область входит в центр. "
   ]
  },
  {
   "cell_type": "code",
   "execution_count": null,
   "metadata": {},
   "outputs": [],
   "source": [
    "df_city_locality = df[df['locality_name'] == 'Санкт-Петербург']#проведем логическую индексацию и выведем все строки, удовлетворяющие условию\n",
    "display(df_city_locality.head(15))#выведем на экран"
   ]
  },
  {
   "cell_type": "markdown",
   "metadata": {},
   "source": [
    "Создадим столбец km с расстоянием до центра в километрах: округлим до целых значений, используя //. Посчитаем среднюю цену для каждого километра."
   ]
  },
  {
   "cell_type": "code",
   "execution_count": null,
   "metadata": {},
   "outputs": [],
   "source": [
    "df_city = df.query('locality_name in @df_city_locality.locality_name')#выберем только значения из df_city_locality\n",
    "df_city['km'] = df_city['cityCenters_nearest'] // 1000#переведем метры в километры\n",
    "df_city['price_km'] = df_city['km'] / df_city['last_price']# посчитаем цену за км \n",
    "display(df_city['price_km'])# выведем на экран"
   ]
  },
  {
   "cell_type": "markdown",
   "metadata": {},
   "source": [
    "Построим график, который показывает, как цена зависит от удалённости от центра. Определим границу, где график сильно меняется — это и будет центральная зона."
   ]
  },
  {
   "cell_type": "code",
   "execution_count": null,
   "metadata": {},
   "outputs": [],
   "source": [
    "df_city.groupby('km').mean().sort_index().reset_index().plot(x='km', y='last_price', grid = True)#построим график \n",
    "plt.title('График удаленности от центра')\n",
    "plt.xlabel('km')\n",
    "plt.ylabel('last_price')\n",
    "plt.show()"
   ]
  },
  {
   "cell_type": "markdown",
   "metadata": {},
   "source": [
    "Выделим сегмент квартир в центре. Как видно на графике, на расстоянии до 10 км цена сильно падает. с 10 км до 25 км цена уменьшается не так резко, а дальше колеблется. Таким образом, примем за центр расстояние до 10 км.\n",
    "Проведем анализ этой территории и изучим следующие параметры: площадь, цена, число комнат, высота потолков."
   ]
  },
  {
   "cell_type": "code",
   "execution_count": null,
   "metadata": {
    "scrolled": true
   },
   "outputs": [],
   "source": [
    "df_city['is_center'] = df_city['km']<=10 # добавим столбец, в котором определим, что расстояние до центра не более 10 км.\n",
    "df_city_center = df_city[df_city['is_center']]#проведем срез таблицы для всех значений is_center\n",
    "df_city_center = df_city_center[['total_area', 'square_metres', 'rooms', 'ceiling_height']]#определим столбцы, необходимые для анализа\n",
    "pd.plotting.scatter_matrix(df_city_center)#построим график scatter_matrix\n",
    "plt.show()"
   ]
  },
  {
   "cell_type": "code",
   "execution_count": null,
   "metadata": {},
   "outputs": [],
   "source": [
    "(len(df[df['cityCenters_nearest'] <= 10000])/(len(df)))"
   ]
  },
  {
   "cell_type": "markdown",
   "metadata": {},
   "source": [
    "Изучим ячейки подробнее.\n",
    "1) В верхней левой ячейке связь количества метров в квартире с количеством метров в квартире. Видно, что большинство квартир в выборке больше 500 метров (около 800-900 метров).\n",
    "2) В ячейке ниже связь стоимости за квадратный метр и площади квартиры. Видно, что стоимость за квадратный метр квартиры до 500 м в среднем стоит 500 тысяч, но есть выбросы, которые говорят о том, что стоимость отдельных квартир достигает 1 млн руб. и даже больше.\n",
    "3) Площадь квартиры и количество комнат: Количество комнат увеличивается  до 250 м., от 250 до 400 м количество комнат снижается.\n",
    "4) Высота потолков и площадь квартиры. Высота потолков не зависит от площади квартиры.\n",
    "5) Гистограмма количества комнат говорит, что 2-3х комнатных квартир в выборке больше.\n",
    "6) Гистограмма стоимости за квадратный метр говорит, что в выборке больше количество квартир с ценой за квадраный метр больше 1 млн рублей.\n",
    "\n",
    "\n",
    "Также выделим факторы, которые влияют на стоимость квартиры (число комнат, этаж, удалённость от центра, дата размещения объявления). "
   ]
  },
  {
   "cell_type": "code",
   "execution_count": null,
   "metadata": {},
   "outputs": [],
   "source": [
    "import pandas as pd\n",
    "import seaborn as sn\n",
    "import matplotlib.pyplot as plt\n",
    "df_corr = pd.DataFrame(df_city_center,columns=['total_area', 'square_metres', 'rooms', 'ceiling_height'])\n",
    "corrMatrix = df_corr.corr()\n",
    "sn.heatmap(corrMatrix, annot=True)\n",
    "plt.show()"
   ]
  },
  {
   "cell_type": "code",
   "execution_count": null,
   "metadata": {},
   "outputs": [],
   "source": [
    "df_city_center.describe()#выводим для просмотра основных статистических данных"
   ]
  },
  {
   "cell_type": "markdown",
   "metadata": {},
   "source": [
    "\n",
    "1)total_area\n",
    "Исходя из данных, приведенных выше, Межквартильный диапазон (IQR) = Q3-Q1 = 95-46.2= 48.8\n",
    "В этом случае определим выбросы, который будут лежать не в диапазоне 1,5 межквартильного размаха: \n",
    "которые ниже будет Q1 - 1,5x IQR = 46.2-1.5*48.8=-27 (или нижний ус),\n",
    "и который выше Q3 + 1,5x IQR = 95+1.5*48.8 = 168,2 (или верхний ус). \n",
    "Таким образом, аномальными для выборки будут квартиры с площадью больше 168.2 метров.\n",
    "\n",
    "2) square_metres\n",
    "Исходя из данных, приведенных выше, Межквартильный диапазон (IQR) = Q3-Q1 = 143.3-96.9=46.4\n",
    "В этом случае определим выбросы, который будут лежать не в диапазоне 1,5 межквартильного размаха: \n",
    "которые ниже будет Q1 - 1,5x IQR = 96.9 - 1.5*46.4 = 27.3 (или нижний ус),\n",
    "и который выше Q3 + 1,5x IQR = 143.3+1.5*46.4 = 212.9 (или верхний ус). \n",
    "Таким образом, аномальными для выборки будут квартиры с ценой за квадратный метр дороже 212.9 тыс. рублей.\n",
    "3) rooms\n",
    "Исходя из данных, приведенных выше, Межквартильный диапазон (IQR) = Q3-Q1 = 3-2= 1\n",
    "В этом случае определим выбросы, который будут лежать не в диапазоне 1,5 межквартильного размаха: \n",
    "которые ниже будет Q1 - 1,5x IQR = 0 (или нижний ус),\n",
    "и который выше Q3 + 1,5x IQR = 3+1.5*1 = 4.5 или округленно 5 (или верхний ус). \n",
    "Таким образом, аномальными для выборки будут квартиры с количеством комнат больше 5.\n",
    "\n",
    "4) ceiling_height\n",
    "Исходя из данных, приведенных выше, Межквартильный диапазон (IQR) = Q3-Q1 = 3.15-2.7=0.45\n",
    "В этом случае определим выбросы, который будут лежать не в диапазоне 1,5 межквартильного размаха: \n",
    "которые ниже будет Q1 - 1,5x IQR = 2.7-1.5*0.45=2.025 (или нижний ус),\n",
    "и который выше Q3 + 1,5x IQR = 3.15+1.5*0.45 =3.825 (или верхний ус). \n",
    "Таким образом, аномальными для выборки будут квартиры с потолками выше 3.8 метров."
   ]
  },
  {
   "cell_type": "code",
   "execution_count": null,
   "metadata": {},
   "outputs": [],
   "source": [
    "df_city_center.boxplot('total_area')\n",
    "plt.title('Диаграмма размаха')\n",
    "plt.ylabel('Общая площадь, кв.м.')\n",
    "plt.show()# Отображение диаграммы ящик с усами"
   ]
  },
  {
   "cell_type": "code",
   "execution_count": null,
   "metadata": {
    "scrolled": true
   },
   "outputs": [],
   "source": [
    "df_city_center.boxplot('square_metres')\n",
    "plt.title('Диаграмма размаха')\n",
    "plt.ylabel('Стоимость за кв.м.')\n",
    "plt.show()# Отображение диаграммы ящик с усами"
   ]
  },
  {
   "cell_type": "code",
   "execution_count": null,
   "metadata": {},
   "outputs": [],
   "source": [
    "df_city_center.hist('square_metres', range=(0,300000))\n",
    "plt.title('Диаграмма размаха')\n",
    "plt.xlabel('Стоимость за кв.м.')\n",
    "plt.ylabel('Частота')\n",
    "plt.show()# Отображение диаграммы ящик с усами"
   ]
  },
  {
   "cell_type": "code",
   "execution_count": null,
   "metadata": {},
   "outputs": [],
   "source": [
    "df_city_center.boxplot('ceiling_height')\n",
    "plt.title('Диаграмма размаха')\n",
    "plt.ylabel('Высота потолков')\n",
    "plt.show()# Отображение диаграммы ящик с усами"
   ]
  },
  {
   "cell_type": "code",
   "execution_count": null,
   "metadata": {},
   "outputs": [],
   "source": [
    "df_city['is_center'] = df_city['km']<=10 # добавим столбец, в котором определим, что расстояние до центра не более 10 км.\n",
    "df_city_center_factor = df_city[df_city['is_center']]#проведем срез таблицы для всех значений is_center\n",
    "df_city_center_factor = df_city_center_factor[['km', 'rooms', 'floors_total', 'year']]#определим столбцы, необходимые для анализа\n",
    "pd.plotting.scatter_matrix(df_city_center_factor)#построим график scatter_matrix\n",
    "plt.show()\n"
   ]
  },
  {
   "cell_type": "markdown",
   "metadata": {},
   "source": [
    "Изучим ячейки подробнее.\n",
    "1) В верхней левой ячейке связь км с км. Это гистограмма, распределенная по км. Видно, что в выбоке больше квартир, расположенных на расстоянии 10 км от центра.\n",
    "2) В ячейке ниже связь количества комнат и расстояния от центра. Видно, что в среднем количество комнат не сильно меняется, при этом меньше комнат на 7-8 км от центра, а больше всего на 5-6 км. от центра.\n",
    "3) Этажность дома и расстояние от центра: чем дальше от центра, тем выше этажность домов.\n",
    "4) Год публикации и  расстояние от центра равномерно. \n",
    "5) Гистограмма количества комнат говорит, что в выборке больше 2-3х комнатных квартир.\n",
    "6) Гистограмма этажности домов говорит, что в выборке больше малоэтажных домов.\n",
    "7) Гистограмма года публикации объявления говорит, что наибольшее количество объявлений в выборке за 2017 год. \n"
   ]
  },
  {
   "cell_type": "code",
   "execution_count": null,
   "metadata": {},
   "outputs": [],
   "source": [
    "display(df_city_center_factor)"
   ]
  },
  {
   "cell_type": "code",
   "execution_count": null,
   "metadata": {},
   "outputs": [],
   "source": [
    "import numpy as np\n",
    "rs = np.random.RandomState(0)\n",
    "df_city_center_factor = pd.DataFrame(rs.rand(4,4))\n",
    "corr = df_city_center_factor.corr()\n",
    "corr.style.background_gradient('coolwarm')\n",
    "#pd.DataFrame(round((df.isna().mean()*100),2)).style.background_gradient('coolwarm')"
   ]
  },
  {
   "cell_type": "markdown",
   "metadata": {},
   "source": [
    "**Вывод**\n",
    "\n",
    "1) При изучении параметров: площади, цены, числа комнат, высоты потолков построили гистограммы для каждого параметра, согласно которым:\n",
    "Гистограмма количиства комнат в квартире говорит, что в выборке больше всего 2-3х комантных квартир.\n",
    "\n",
    "Гистограмма высоты потолков говорит, что в выборке большинство кварит имеют высоту потолков 2.5 метра.\n",
    "\n",
    "Гистограмма общей площади квартиры говорит, что в выборке большинство квартир имеют площадь 50 метров.\n",
    "\n",
    "Гистограмма стоимости за квадратный метр кваритры говорит о том, что большинство квартир в выборке имеют стоимость 100 тыс. рублей за квадратный метр. \n",
    "\n",
    "2) При изучении времени продажи квартиры построили гистограмму. Посчитали среднее и медиану. Установили, сколько обычно занимает продажа и когда можно считать, что продажи прошли очень быстро, а когда необычно долго, а именно:\n",
    "Гистограмма дней размещения объявления говорит, что большинство квартир в выборке было продано в период до 500 дней.\n",
    "Исходя из данных, изложенных в таблице выше, среднее количество дней продажи составляет 157 дней, а медианное значение составляет - 74 дня. С помощью диаграммы размаха установили, что за пределами \"усов\" находятся выбросы, изображённые точками. Нижний ус упирается в 0, минимальное значение. Таким образом, большая часть значений лежит в диапазоне до 430, что выглядит правдоподобно. На гистограмме видно, что продажи продолжительностью 500 дней уже редки, больше 1000 совсем мало, так как срок слишком большой. Но при этом первый квартиль лежит на уровне менее 22 дней, а это слишком мало.\n",
    "Уберили редкие и выбивающиеся значения (до 22 дней и после 500 дней).\n",
    "\n",
    "2) Изучили факторы, которые больше всего влияют на стоимость квартиры, в том числе зависит ли цена от площади, числа комнат, удалённости от центра. \n",
    "\n",
    "При изменении расстояния от центра, стоимость квадратного метра может не изменяться.\n",
    "При изменении общей площади квартиры, увеличивается стоимость квартиры.\n",
    "При увеличении количества комнат, стоимость квартиры может не изменяться.\n",
    "\n",
    "3) Изучили зависимость цены от того, на каком этаже расположена квартира: первом, последнем или другом. \n",
    "Самая дешевая стоимость квадратного метра у квартир, расположенных на первом этаже, и самая дорогая стоимость квадратного метра у квартир, расположенных не на первом и не на последнем этажах. \n",
    "\n",
    "4) Также изучили зависимость от даты размещения: дня недели, месяца и года.\n",
    "Как видно из данных, коэффициент корреляции ближе к 0. Значит, при изменении года размещения объявления, стоимость квартиры может не изменяться.\n",
    "Как видно из данных, коэффициент Пирсона положительный. Корреляция в 0,65 говорит о том, что связь есть. Значит, при изменении общей площади квартиры, увеличивается стоимость квартиры.\n",
    "Как видно из данных, коэффициент корреляции ближе к 0. Значит, при изменении месяца размещения объявления, стоимость квартиры может не изменяться.\n",
    "Как видно из данных, коэффициент корреляции ближе к 0. Значит, при изменении дня размещения объявления, стоимость квартиры может не изменяться.\n",
    "\n",
    "\n",
    "3) Выбрали 10 населённых пунктов с наибольшим количеством объявлений. Посчитали среднюю цену квадратного метра в этих населённых пунктах. Выделили среди них населённые пункты с самой высокой и низкой стоимостью жилья. \n",
    "Установили, что самая низкая цена в Выборге и составляет 57898.142109 рублей за метр квадратный.\n",
    "Самая высокая цена в Санкт-Петербурге и составляет 124514.621378 рублей за метр квадратный.\n",
    "\n",
    "\n",
    "4) Изучили предложения квартир.Выделили квартиры в Санкт-Петербурге ('locality_name'). Выяснили, какая область входит в центр. Создали столбец с расстоянием до центра в километрах: округлили до целых значений. После этого посчитали среднюю цену для каждого километра. Построили график, который показывает, как цена зависит от удалённости от центра. Определли границу, где график сильно меняется — и установили центральную зону.\n",
    "Согласно графику, на расстоянии до 10 км от центральной зоны цена сильно падает. с 10 км до 25 км цена уменьшается не так резко, а после 25 км сильно колеблется. Таким образом, приняли за центральную зону расстояние до 10 км. \n",
    "\n",
    "\n",
    "5) Провеи анализ этой территории и изучили следующие параметры: площадь, цена, число комнат, высота потолков.\n",
    "Установили следующее.\n",
    "1) Гистограмма количества метров в квартире. Видно, что большинство квартир в выборке больше 500 метров (около 800-900 метров). 2)Связь стоимости за квадратный метр и площади квартиры. Видно, что стоимость за квадратный метр квартиры до 500 м в среднем стоит 500 тысяч, но есть выбросы, которые говорят о том, что стоимость отдельных квартир достигает 1 млн руб. и даже больше. 3) Площадь квартиры и количество комнат: Количество комнат увеличивается в квартирах с увеличением площади квартиры до 250 м., а в квартирах. с площадью от 250 м до 400 м количество комнат снижается. 4) Высота потолков и площадь квартиры. Высота потолков не зависит от площади квартиры. 5) Гистограмма количества комнат говорит, что 2-3х комнатных квартир в выборке больше. 6) Гистограмма стоимости за квадратный метр говорит, что в выборке больше количество квартир с ценой за квадраный метр больше 1 млн рублей.\n",
    "\n",
    "6) Также выделили факторы, которые влияют на стоимость квартиры (число комнат, этаж, удалённость от центра, дата размещения объявления).\n",
    "Установили следующее.\n",
    "1) Связь км с км. Это гистограмма, распределенная по км. Видно, что в выбоке больше квартир, расположенных на расстоянии 10 км от центра. 2) Связь количества комнат и расстояния от центра. Видно, что в среднем количество комнат не сильно меняется, при этом меньше комнат на 7-8 км от центра, а больше всего на 5-6 км от центра. 3) Этажность дома и расстояние от центра: чем дальше от центра, тем выше этажность домов. 4) Год публикации и расстояние от центра равномерно. 5) Гистограмма количества комнат говорит, что в выборке больше 2-3х комнатных квартир. 6) Гистограмма этажности домов говорит, что в выборке больше малоэтажных домов. 7) Гистограмма года публикации объявления говорит, что наибольшее количество объявлений в выборке за 2017 год."
   ]
  },
  {
   "cell_type": "markdown",
   "metadata": {},
   "source": [
    "## Общий вывод"
   ]
  },
  {
   "cell_type": "markdown",
   "metadata": {},
   "source": [
    "Сравнивая общие выводы по всей выборке и выводы по центральной зоне Санкт-Петербурга можно отметить, что и там, и там больше 2-3х комнатных картир.\n",
    "При этом, отличается метраж квартир: во всей выборке большинство квартир имеют метраж равный 50 кв. метров, при этом в центре площадь квартир может составлять 500 кв. метров.\n",
    "Стоимость за квадратный метр квартир также отличается и составляет 100 тыс. рублей за квадратный метр во всей выборке и 500 тыс. рублей за 1 кв. м. в центральной зоне Санкт-Петербурга.\n",
    "\n",
    "При этом, определить реальную рыночную цену поможет также отслеживание аномальных отклонений, приведенных ниже.\n",
    "\n",
    "Для всей выборки аномальными будут являться следующие квартиры:\n",
    "\n",
    "1) с количеством комнат больше 6.\n",
    "\n",
    "2) с ценой дороже 170.77 тыс. рублей за квадратный метр.\n",
    "\n",
    "3) с площадью больше 114.75м.\n",
    "\n",
    "4) с высотой потолков до 2.52, а также выше 3.24 м.\n",
    "\n",
    "Вместе с тем, \n",
    "При изменении общей площади квартиры, увеличивается стоимость квартиры.\n",
    "\n",
    "Согласно данным квартир, которые находятся в центре, отклонениями могут являться:\n",
    "\n",
    "1) с площадью больше 168.2 метров.\n",
    "\n",
    "2) с ценой за квадратный метр дороже 212.9 тыс. рублей.\n",
    "\n",
    "3) с количеством комнат больше 5.\n",
    "\n",
    "4) с потолками выше 3.8 метров.\n",
    "\n",
    "И при изменении общей площади квартиры будет увеличиваться количество комнат в квартире.\n",
    "\n",
    "Вместе с тем, квартиры, которые находятся в центре города могут являться нестандартными и каждую квартиру стоит анализировать по отдельности.\n",
    "\n",
    "\n"
   ]
  }
 ],
 "metadata": {
  "ExecuteTimeLog": [
   {
    "duration": 113,
    "start_time": "2021-07-31T18:58:33.153Z"
   },
   {
    "duration": 118,
    "start_time": "2021-07-31T18:59:57.961Z"
   },
   {
    "duration": 946,
    "start_time": "2021-07-31T19:01:13.287Z"
   },
   {
    "duration": 269,
    "start_time": "2021-07-31T19:10:43.502Z"
   },
   {
    "duration": 316,
    "start_time": "2021-07-31T19:11:44.752Z"
   },
   {
    "duration": 100,
    "start_time": "2021-07-31T20:20:26.557Z"
   },
   {
    "duration": 19,
    "start_time": "2021-07-31T20:21:59.389Z"
   },
   {
    "duration": 1073,
    "start_time": "2021-08-01T07:01:16.241Z"
   },
   {
    "duration": 240,
    "start_time": "2021-08-01T07:01:17.317Z"
   },
   {
    "duration": 112,
    "start_time": "2021-08-01T07:01:17.560Z"
   },
   {
    "duration": 22,
    "start_time": "2021-08-01T07:01:17.675Z"
   },
   {
    "duration": 11,
    "start_time": "2021-08-01T07:01:17.700Z"
   },
   {
    "duration": 492,
    "start_time": "2021-08-01T10:14:54.658Z"
   },
   {
    "duration": 24,
    "start_time": "2021-08-01T10:15:06.053Z"
   },
   {
    "duration": 24,
    "start_time": "2021-08-01T10:15:19.670Z"
   },
   {
    "duration": 22,
    "start_time": "2021-08-01T10:15:42.828Z"
   },
   {
    "duration": 24,
    "start_time": "2021-08-01T10:15:49.637Z"
   },
   {
    "duration": 457,
    "start_time": "2021-08-01T10:18:54.370Z"
   },
   {
    "duration": 23,
    "start_time": "2021-08-01T10:19:01.055Z"
   },
   {
    "duration": 11,
    "start_time": "2021-08-01T10:34:21.155Z"
   },
   {
    "duration": 9,
    "start_time": "2021-08-01T10:35:18.465Z"
   },
   {
    "duration": 9,
    "start_time": "2021-08-01T10:36:09.834Z"
   },
   {
    "duration": 13,
    "start_time": "2021-08-01T10:36:19.460Z"
   },
   {
    "duration": 360,
    "start_time": "2021-08-01T10:36:28.804Z"
   },
   {
    "duration": 322,
    "start_time": "2021-08-01T10:36:29.168Z"
   },
   {
    "duration": 114,
    "start_time": "2021-08-01T10:36:29.493Z"
   },
   {
    "duration": 15,
    "start_time": "2021-08-01T10:36:29.610Z"
   },
   {
    "duration": 11,
    "start_time": "2021-08-01T10:36:29.628Z"
   },
   {
    "duration": 3,
    "start_time": "2021-08-01T10:36:29.642Z"
   },
   {
    "duration": 44,
    "start_time": "2021-08-01T10:36:29.647Z"
   },
   {
    "duration": 11,
    "start_time": "2021-08-01T10:39:58.831Z"
   },
   {
    "duration": 9,
    "start_time": "2021-08-01T10:40:05.235Z"
   },
   {
    "duration": 12,
    "start_time": "2021-08-01T10:40:19.007Z"
   },
   {
    "duration": 11,
    "start_time": "2021-08-01T10:40:22.614Z"
   },
   {
    "duration": 10,
    "start_time": "2021-08-01T10:41:03.762Z"
   },
   {
    "duration": 10,
    "start_time": "2021-08-01T10:41:11.822Z"
   },
   {
    "duration": 583,
    "start_time": "2021-08-01T10:41:45.837Z"
   },
   {
    "duration": 11,
    "start_time": "2021-08-01T10:42:17.988Z"
   },
   {
    "duration": 143,
    "start_time": "2021-08-01T10:58:08.200Z"
   },
   {
    "duration": 6,
    "start_time": "2021-08-01T10:58:17.197Z"
   },
   {
    "duration": 13,
    "start_time": "2021-08-01T10:59:02.306Z"
   },
   {
    "duration": 7,
    "start_time": "2021-08-01T10:59:16.134Z"
   },
   {
    "duration": 7,
    "start_time": "2021-08-01T10:59:19.188Z"
   },
   {
    "duration": 11,
    "start_time": "2021-08-01T10:59:29.103Z"
   },
   {
    "duration": 10,
    "start_time": "2021-08-01T10:59:42.884Z"
   },
   {
    "duration": 6,
    "start_time": "2021-08-01T10:59:46.754Z"
   },
   {
    "duration": 401,
    "start_time": "2021-08-01T11:02:06.003Z"
   },
   {
    "duration": 11,
    "start_time": "2021-08-01T11:03:50.446Z"
   },
   {
    "duration": 401,
    "start_time": "2021-08-01T11:04:07.197Z"
   },
   {
    "duration": 6,
    "start_time": "2021-08-01T11:04:13.464Z"
   },
   {
    "duration": 11,
    "start_time": "2021-08-01T11:04:15.936Z"
   },
   {
    "duration": 6,
    "start_time": "2021-08-01T11:04:33.694Z"
   },
   {
    "duration": 393,
    "start_time": "2021-08-01T11:04:40.578Z"
   },
   {
    "duration": 9,
    "start_time": "2021-08-01T11:05:03.461Z"
   },
   {
    "duration": 6,
    "start_time": "2021-08-01T11:05:09.158Z"
   },
   {
    "duration": 6,
    "start_time": "2021-08-01T11:05:13.230Z"
   },
   {
    "duration": 401,
    "start_time": "2021-08-01T11:05:20.248Z"
   },
   {
    "duration": 416,
    "start_time": "2021-08-01T11:05:20.653Z"
   },
   {
    "duration": 115,
    "start_time": "2021-08-01T11:05:21.072Z"
   },
   {
    "duration": 15,
    "start_time": "2021-08-01T11:05:21.190Z"
   },
   {
    "duration": 17,
    "start_time": "2021-08-01T11:05:21.207Z"
   },
   {
    "duration": 9,
    "start_time": "2021-08-01T11:05:21.226Z"
   },
   {
    "duration": 7,
    "start_time": "2021-08-01T11:05:21.237Z"
   },
   {
    "duration": 6,
    "start_time": "2021-08-01T11:05:21.285Z"
   },
   {
    "duration": 6,
    "start_time": "2021-08-01T11:05:21.293Z"
   },
   {
    "duration": 21,
    "start_time": "2021-08-01T11:05:21.301Z"
   },
   {
    "duration": 6,
    "start_time": "2021-08-01T11:05:21.325Z"
   },
   {
    "duration": 5,
    "start_time": "2021-08-01T11:05:31.651Z"
   },
   {
    "duration": 4,
    "start_time": "2021-08-01T11:05:34.745Z"
   },
   {
    "duration": 6,
    "start_time": "2021-08-01T11:05:38.165Z"
   },
   {
    "duration": 10,
    "start_time": "2021-08-01T11:05:43.482Z"
   },
   {
    "duration": 26,
    "start_time": "2021-08-01T11:08:45.020Z"
   },
   {
    "duration": 62,
    "start_time": "2021-08-01T11:08:53.787Z"
   },
   {
    "duration": 7,
    "start_time": "2021-08-01T11:24:22.311Z"
   },
   {
    "duration": 11,
    "start_time": "2021-08-01T11:24:34.898Z"
   },
   {
    "duration": 7,
    "start_time": "2021-08-01T11:24:37.559Z"
   },
   {
    "duration": 6,
    "start_time": "2021-08-01T11:24:47.560Z"
   },
   {
    "duration": 9,
    "start_time": "2021-08-01T11:24:58.663Z"
   },
   {
    "duration": 43,
    "start_time": "2021-08-01T11:25:21.278Z"
   },
   {
    "duration": 6,
    "start_time": "2021-08-01T11:32:23.204Z"
   },
   {
    "duration": 6,
    "start_time": "2021-08-01T11:33:03.551Z"
   },
   {
    "duration": 8,
    "start_time": "2021-08-01T11:33:05.656Z"
   },
   {
    "duration": 8,
    "start_time": "2021-08-01T11:33:07.691Z"
   },
   {
    "duration": 7,
    "start_time": "2021-08-01T11:33:10.085Z"
   },
   {
    "duration": 10,
    "start_time": "2021-08-01T11:33:12.360Z"
   },
   {
    "duration": 7,
    "start_time": "2021-08-01T11:33:17.827Z"
   },
   {
    "duration": 43,
    "start_time": "2021-08-01T11:33:21.431Z"
   },
   {
    "duration": 18,
    "start_time": "2021-08-01T11:58:35.733Z"
   },
   {
    "duration": 17,
    "start_time": "2021-08-01T12:04:13.003Z"
   },
   {
    "duration": 10,
    "start_time": "2021-08-01T12:05:04.454Z"
   },
   {
    "duration": 13,
    "start_time": "2021-08-01T12:06:01.746Z"
   },
   {
    "duration": 9,
    "start_time": "2021-08-01T12:07:14.226Z"
   },
   {
    "duration": 16,
    "start_time": "2021-08-01T12:08:37.110Z"
   },
   {
    "duration": 10,
    "start_time": "2021-08-01T12:08:47.334Z"
   },
   {
    "duration": 11,
    "start_time": "2021-08-01T12:11:07.358Z"
   },
   {
    "duration": 22,
    "start_time": "2021-08-01T12:15:58.885Z"
   },
   {
    "duration": 416,
    "start_time": "2021-08-01T12:16:24.545Z"
   },
   {
    "duration": 24,
    "start_time": "2021-08-01T12:16:32.938Z"
   },
   {
    "duration": 22,
    "start_time": "2021-08-01T12:16:45.927Z"
   },
   {
    "duration": 130,
    "start_time": "2021-08-01T12:17:27.540Z"
   },
   {
    "duration": 416,
    "start_time": "2021-08-01T12:17:33.050Z"
   },
   {
    "duration": 393,
    "start_time": "2021-08-01T12:17:44.276Z"
   },
   {
    "duration": 23,
    "start_time": "2021-08-01T12:19:00.195Z"
   },
   {
    "duration": 37,
    "start_time": "2021-08-01T12:21:02.175Z"
   },
   {
    "duration": 7,
    "start_time": "2021-08-01T12:28:27.019Z"
   },
   {
    "duration": 9,
    "start_time": "2021-08-01T12:28:29.611Z"
   },
   {
    "duration": 8,
    "start_time": "2021-08-01T12:28:31.662Z"
   },
   {
    "duration": 8,
    "start_time": "2021-08-01T12:28:33.926Z"
   },
   {
    "duration": 9,
    "start_time": "2021-08-01T12:28:36.106Z"
   },
   {
    "duration": 6,
    "start_time": "2021-08-01T12:28:39.603Z"
   },
   {
    "duration": 42,
    "start_time": "2021-08-01T12:29:01.437Z"
   },
   {
    "duration": 14,
    "start_time": "2021-08-01T12:30:24.431Z"
   },
   {
    "duration": 10,
    "start_time": "2021-08-01T12:31:16.296Z"
   },
   {
    "duration": 4,
    "start_time": "2021-08-01T12:31:18.251Z"
   },
   {
    "duration": 8,
    "start_time": "2021-08-01T12:31:20.334Z"
   },
   {
    "duration": 10,
    "start_time": "2021-08-01T12:31:22.648Z"
   },
   {
    "duration": 11,
    "start_time": "2021-08-01T12:33:09.053Z"
   },
   {
    "duration": 11,
    "start_time": "2021-08-01T12:33:21.288Z"
   },
   {
    "duration": 11,
    "start_time": "2021-08-01T12:33:31.507Z"
   },
   {
    "duration": 12,
    "start_time": "2021-08-01T12:34:59.273Z"
   },
   {
    "duration": 12,
    "start_time": "2021-08-01T12:35:10.865Z"
   },
   {
    "duration": 13,
    "start_time": "2021-08-01T12:35:22.320Z"
   },
   {
    "duration": 11,
    "start_time": "2021-08-01T12:46:35.930Z"
   },
   {
    "duration": 11,
    "start_time": "2021-08-01T12:47:01.869Z"
   },
   {
    "duration": 6,
    "start_time": "2021-08-01T12:48:05.287Z"
   },
   {
    "duration": 9,
    "start_time": "2021-08-01T12:48:07.734Z"
   },
   {
    "duration": 7,
    "start_time": "2021-08-01T12:48:12.504Z"
   },
   {
    "duration": 17,
    "start_time": "2021-08-01T12:48:15.869Z"
   },
   {
    "duration": 8,
    "start_time": "2021-08-01T12:48:19.595Z"
   },
   {
    "duration": 16,
    "start_time": "2021-08-01T12:48:24.608Z"
   },
   {
    "duration": 871,
    "start_time": "2021-08-01T12:48:29.743Z"
   },
   {
    "duration": 307,
    "start_time": "2021-08-01T12:53:57.416Z"
   },
   {
    "duration": 332,
    "start_time": "2021-08-01T12:53:57.726Z"
   },
   {
    "duration": 125,
    "start_time": "2021-08-01T12:53:58.062Z"
   },
   {
    "duration": 18,
    "start_time": "2021-08-01T12:53:58.191Z"
   },
   {
    "duration": 15,
    "start_time": "2021-08-01T12:53:58.213Z"
   },
   {
    "duration": 7,
    "start_time": "2021-08-01T12:53:58.231Z"
   },
   {
    "duration": 54,
    "start_time": "2021-08-01T12:53:58.241Z"
   },
   {
    "duration": 8,
    "start_time": "2021-08-01T12:53:58.298Z"
   },
   {
    "duration": 12,
    "start_time": "2021-08-01T12:53:58.309Z"
   },
   {
    "duration": 15,
    "start_time": "2021-08-01T12:53:58.323Z"
   },
   {
    "duration": 6,
    "start_time": "2021-08-01T12:53:58.340Z"
   },
   {
    "duration": 77,
    "start_time": "2021-08-01T12:53:58.349Z"
   },
   {
    "duration": 9,
    "start_time": "2021-08-01T12:53:58.428Z"
   },
   {
    "duration": 48,
    "start_time": "2021-08-01T12:53:58.440Z"
   },
   {
    "duration": 12,
    "start_time": "2021-08-01T12:53:58.490Z"
   },
   {
    "duration": 376,
    "start_time": "2021-08-01T14:31:12.009Z"
   },
   {
    "duration": 37,
    "start_time": "2021-08-01T14:31:41.769Z"
   },
   {
    "duration": 20,
    "start_time": "2021-08-01T14:45:44.381Z"
   },
   {
    "duration": 51,
    "start_time": "2021-08-01T14:47:51.764Z"
   },
   {
    "duration": 55,
    "start_time": "2021-08-01T14:48:29.036Z"
   },
   {
    "duration": 83,
    "start_time": "2021-08-01T14:49:04.434Z"
   },
   {
    "duration": 49,
    "start_time": "2021-08-01T14:49:26.720Z"
   },
   {
    "duration": 131,
    "start_time": "2021-08-01T17:01:26.072Z"
   },
   {
    "duration": 135,
    "start_time": "2021-08-01T17:01:41.739Z"
   },
   {
    "duration": 189,
    "start_time": "2021-08-01T17:01:47.142Z"
   },
   {
    "duration": 125,
    "start_time": "2021-08-01T17:08:49.793Z"
   },
   {
    "duration": 129,
    "start_time": "2021-08-01T17:09:05.838Z"
   },
   {
    "duration": 391,
    "start_time": "2021-08-01T17:10:24.660Z"
   },
   {
    "duration": 401,
    "start_time": "2021-08-01T17:10:35.993Z"
   },
   {
    "duration": 301,
    "start_time": "2021-08-01T17:10:36.398Z"
   },
   {
    "duration": 120,
    "start_time": "2021-08-01T17:10:36.702Z"
   },
   {
    "duration": 15,
    "start_time": "2021-08-01T17:10:36.826Z"
   },
   {
    "duration": 12,
    "start_time": "2021-08-01T17:10:36.843Z"
   },
   {
    "duration": 72,
    "start_time": "2021-08-01T17:10:36.858Z"
   },
   {
    "duration": 17,
    "start_time": "2021-08-01T17:10:36.932Z"
   },
   {
    "duration": 45,
    "start_time": "2021-08-01T17:10:36.952Z"
   },
   {
    "duration": 21,
    "start_time": "2021-08-01T17:10:37.001Z"
   },
   {
    "duration": 18,
    "start_time": "2021-08-01T17:10:37.025Z"
   },
   {
    "duration": 52,
    "start_time": "2021-08-01T17:10:37.045Z"
   },
   {
    "duration": 17,
    "start_time": "2021-08-01T17:10:37.099Z"
   },
   {
    "duration": 19,
    "start_time": "2021-08-01T17:10:37.118Z"
   },
   {
    "duration": 79,
    "start_time": "2021-08-01T17:10:37.139Z"
   },
   {
    "duration": 1339,
    "start_time": "2021-08-01T17:10:37.220Z"
   },
   {
    "duration": 135,
    "start_time": "2021-08-01T17:15:40.292Z"
   },
   {
    "duration": 2733,
    "start_time": "2021-08-01T17:16:24.577Z"
   },
   {
    "duration": 4533,
    "start_time": "2021-08-01T17:17:11.885Z"
   },
   {
    "duration": 32,
    "start_time": "2021-08-01T17:17:33.618Z"
   },
   {
    "duration": 20,
    "start_time": "2021-08-01T17:21:26.727Z"
   },
   {
    "duration": 19,
    "start_time": "2021-08-01T17:22:09.659Z"
   },
   {
    "duration": 323,
    "start_time": "2021-08-02T19:45:31.561Z"
   },
   {
    "duration": 954,
    "start_time": "2021-08-02T19:45:39.537Z"
   },
   {
    "duration": 213,
    "start_time": "2021-08-02T19:45:40.494Z"
   },
   {
    "duration": 119,
    "start_time": "2021-08-02T19:45:40.711Z"
   },
   {
    "duration": 29,
    "start_time": "2021-08-02T19:45:40.833Z"
   },
   {
    "duration": 13,
    "start_time": "2021-08-02T19:45:40.865Z"
   },
   {
    "duration": 49,
    "start_time": "2021-08-02T19:45:40.881Z"
   },
   {
    "duration": 41,
    "start_time": "2021-08-02T19:45:40.933Z"
   },
   {
    "duration": 20,
    "start_time": "2021-08-02T19:45:40.978Z"
   },
   {
    "duration": 18,
    "start_time": "2021-08-02T19:45:41.001Z"
   },
   {
    "duration": 52,
    "start_time": "2021-08-02T19:45:41.021Z"
   },
   {
    "duration": 19,
    "start_time": "2021-08-02T19:45:41.076Z"
   },
   {
    "duration": 18,
    "start_time": "2021-08-02T19:45:41.098Z"
   },
   {
    "duration": 51,
    "start_time": "2021-08-02T19:45:41.119Z"
   },
   {
    "duration": 39,
    "start_time": "2021-08-02T19:45:41.173Z"
   },
   {
    "duration": 49,
    "start_time": "2021-08-02T19:45:41.215Z"
   },
   {
    "duration": 16,
    "start_time": "2021-08-02T19:45:41.267Z"
   },
   {
    "duration": 13,
    "start_time": "2021-08-02T19:45:41.285Z"
   },
   {
    "duration": 13,
    "start_time": "2021-08-02T19:45:41.300Z"
   },
   {
    "duration": 10,
    "start_time": "2021-08-02T19:46:37.109Z"
   },
   {
    "duration": 9,
    "start_time": "2021-08-02T19:50:33.404Z"
   },
   {
    "duration": 9,
    "start_time": "2021-08-02T19:53:29.336Z"
   },
   {
    "duration": 8,
    "start_time": "2021-08-02T20:00:35.673Z"
   },
   {
    "duration": 980,
    "start_time": "2021-08-04T17:00:44.474Z"
   },
   {
    "duration": 173,
    "start_time": "2021-08-04T17:00:51.466Z"
   },
   {
    "duration": 179,
    "start_time": "2021-08-04T17:00:51.641Z"
   },
   {
    "duration": 80,
    "start_time": "2021-08-04T17:00:51.822Z"
   },
   {
    "duration": 10,
    "start_time": "2021-08-04T17:00:51.903Z"
   },
   {
    "duration": 8,
    "start_time": "2021-08-04T17:00:51.914Z"
   },
   {
    "duration": 30,
    "start_time": "2021-08-04T17:00:51.923Z"
   },
   {
    "duration": 38,
    "start_time": "2021-08-04T17:00:51.954Z"
   },
   {
    "duration": 12,
    "start_time": "2021-08-04T17:00:51.994Z"
   },
   {
    "duration": 11,
    "start_time": "2021-08-04T17:00:52.008Z"
   },
   {
    "duration": 11,
    "start_time": "2021-08-04T17:00:52.020Z"
   },
   {
    "duration": 10,
    "start_time": "2021-08-04T17:00:52.033Z"
   },
   {
    "duration": 13,
    "start_time": "2021-08-04T17:00:52.085Z"
   },
   {
    "duration": 13,
    "start_time": "2021-08-04T17:00:52.099Z"
   },
   {
    "duration": 25,
    "start_time": "2021-08-04T17:00:52.113Z"
   },
   {
    "duration": 45,
    "start_time": "2021-08-04T17:00:52.140Z"
   },
   {
    "duration": 9,
    "start_time": "2021-08-04T17:00:52.186Z"
   },
   {
    "duration": 8,
    "start_time": "2021-08-04T17:00:52.197Z"
   },
   {
    "duration": 6,
    "start_time": "2021-08-04T17:00:52.207Z"
   },
   {
    "duration": 6,
    "start_time": "2021-08-04T17:00:52.214Z"
   },
   {
    "duration": 5,
    "start_time": "2021-08-04T17:00:52.221Z"
   },
   {
    "duration": 179,
    "start_time": "2021-08-04T17:00:52.227Z"
   },
   {
    "duration": 194,
    "start_time": "2021-08-04T17:00:58.438Z"
   },
   {
    "duration": 153,
    "start_time": "2021-08-04T17:01:16.941Z"
   },
   {
    "duration": 260,
    "start_time": "2021-08-04T17:01:20.369Z"
   },
   {
    "duration": 207,
    "start_time": "2021-08-04T17:01:25.366Z"
   },
   {
    "duration": 240,
    "start_time": "2021-08-04T17:01:43.537Z"
   },
   {
    "duration": 189,
    "start_time": "2021-08-04T17:01:54.179Z"
   },
   {
    "duration": 160,
    "start_time": "2021-08-04T17:02:03.818Z"
   },
   {
    "duration": 232,
    "start_time": "2021-08-04T17:02:12.374Z"
   },
   {
    "duration": 428,
    "start_time": "2021-08-04T17:02:22.452Z"
   },
   {
    "duration": 206,
    "start_time": "2021-08-04T17:02:28.184Z"
   },
   {
    "duration": 189,
    "start_time": "2021-08-04T17:02:35.953Z"
   },
   {
    "duration": 192,
    "start_time": "2021-08-04T17:03:05.086Z"
   },
   {
    "duration": 195,
    "start_time": "2021-08-04T17:04:26.536Z"
   },
   {
    "duration": 199,
    "start_time": "2021-08-04T17:04:48.824Z"
   },
   {
    "duration": 244,
    "start_time": "2021-08-04T17:05:15.466Z"
   },
   {
    "duration": 181,
    "start_time": "2021-08-04T17:14:42.293Z"
   },
   {
    "duration": 185,
    "start_time": "2021-08-04T17:14:48.532Z"
   },
   {
    "duration": 238,
    "start_time": "2021-08-04T17:15:00.859Z"
   },
   {
    "duration": 198,
    "start_time": "2021-08-04T17:15:06.142Z"
   },
   {
    "duration": 165,
    "start_time": "2021-08-04T17:15:14.823Z"
   },
   {
    "duration": 174,
    "start_time": "2021-08-04T17:15:36.766Z"
   },
   {
    "duration": 162,
    "start_time": "2021-08-04T17:15:42.195Z"
   },
   {
    "duration": 161,
    "start_time": "2021-08-04T17:15:50.663Z"
   },
   {
    "duration": 215,
    "start_time": "2021-08-04T17:16:00.282Z"
   },
   {
    "duration": 194,
    "start_time": "2021-08-04T17:16:06.899Z"
   },
   {
    "duration": 209,
    "start_time": "2021-08-04T17:16:16.275Z"
   },
   {
    "duration": 303,
    "start_time": "2021-08-04T17:16:24.378Z"
   },
   {
    "duration": 238,
    "start_time": "2021-08-04T17:16:30.746Z"
   },
   {
    "duration": 407,
    "start_time": "2021-08-04T17:16:40.769Z"
   },
   {
    "duration": 226,
    "start_time": "2021-08-04T17:16:47.518Z"
   },
   {
    "duration": 230,
    "start_time": "2021-08-04T17:16:53.124Z"
   },
   {
    "duration": 234,
    "start_time": "2021-08-04T17:17:00.601Z"
   },
   {
    "duration": 184,
    "start_time": "2021-08-04T17:17:09.441Z"
   },
   {
    "duration": 181,
    "start_time": "2021-08-04T17:17:16.348Z"
   },
   {
    "duration": 248,
    "start_time": "2021-08-04T17:17:25.771Z"
   },
   {
    "duration": 220,
    "start_time": "2021-08-04T17:17:31.387Z"
   },
   {
    "duration": 246,
    "start_time": "2021-08-04T17:17:36.700Z"
   },
   {
    "duration": 184,
    "start_time": "2021-08-04T17:17:44.253Z"
   },
   {
    "duration": 194,
    "start_time": "2021-08-04T17:17:51.301Z"
   },
   {
    "duration": 293,
    "start_time": "2021-08-04T17:17:57.125Z"
   },
   {
    "duration": 704,
    "start_time": "2021-08-04T17:18:09.560Z"
   },
   {
    "duration": 660,
    "start_time": "2021-08-04T17:18:19.963Z"
   },
   {
    "duration": 340,
    "start_time": "2021-08-04T17:18:26.847Z"
   },
   {
    "duration": 284,
    "start_time": "2021-08-04T17:21:10.082Z"
   },
   {
    "duration": 197,
    "start_time": "2021-08-04T17:21:33.250Z"
   },
   {
    "duration": 258,
    "start_time": "2021-08-04T17:22:13.329Z"
   },
   {
    "duration": 231,
    "start_time": "2021-08-04T17:22:42.894Z"
   },
   {
    "duration": 253,
    "start_time": "2021-08-04T17:22:52.063Z"
   },
   {
    "duration": 182,
    "start_time": "2021-08-04T17:23:26.506Z"
   },
   {
    "duration": 463,
    "start_time": "2021-08-04T17:24:14.666Z"
   },
   {
    "duration": 351,
    "start_time": "2021-08-04T17:24:24.950Z"
   },
   {
    "duration": 330,
    "start_time": "2021-08-04T17:24:38.888Z"
   },
   {
    "duration": 408,
    "start_time": "2021-08-04T17:25:50.353Z"
   },
   {
    "duration": 334,
    "start_time": "2021-08-04T17:26:03.748Z"
   },
   {
    "duration": 370,
    "start_time": "2021-08-04T17:26:14.756Z"
   },
   {
    "duration": 352,
    "start_time": "2021-08-04T17:26:28.577Z"
   },
   {
    "duration": 6,
    "start_time": "2021-08-04T18:59:34.112Z"
   },
   {
    "duration": 4,
    "start_time": "2021-08-04T18:59:52.153Z"
   },
   {
    "duration": 10,
    "start_time": "2021-08-04T19:00:38.888Z"
   },
   {
    "duration": 173,
    "start_time": "2021-08-04T19:02:54.541Z"
   },
   {
    "duration": 4,
    "start_time": "2021-08-04T19:03:09.958Z"
   },
   {
    "duration": 5,
    "start_time": "2021-08-04T19:03:31.355Z"
   },
   {
    "duration": 5,
    "start_time": "2021-08-04T19:06:57.595Z"
   },
   {
    "duration": 5,
    "start_time": "2021-08-04T19:07:20.402Z"
   },
   {
    "duration": 7,
    "start_time": "2021-08-04T19:07:38.701Z"
   },
   {
    "duration": 3,
    "start_time": "2021-08-04T19:08:27.918Z"
   },
   {
    "duration": 346,
    "start_time": "2021-08-07T10:58:01.539Z"
   },
   {
    "duration": 1019,
    "start_time": "2021-08-07T10:58:08.054Z"
   },
   {
    "duration": 272,
    "start_time": "2021-08-07T10:58:09.075Z"
   },
   {
    "duration": 102,
    "start_time": "2021-08-07T10:58:09.350Z"
   },
   {
    "duration": 31,
    "start_time": "2021-08-07T10:58:09.455Z"
   },
   {
    "duration": 15,
    "start_time": "2021-08-07T10:58:09.489Z"
   },
   {
    "duration": 47,
    "start_time": "2021-08-07T10:58:09.506Z"
   },
   {
    "duration": 17,
    "start_time": "2021-08-07T10:58:09.591Z"
   },
   {
    "duration": 20,
    "start_time": "2021-08-07T10:58:09.614Z"
   },
   {
    "duration": 16,
    "start_time": "2021-08-07T10:58:09.637Z"
   },
   {
    "duration": 51,
    "start_time": "2021-08-07T10:58:09.655Z"
   },
   {
    "duration": 16,
    "start_time": "2021-08-07T10:58:09.708Z"
   },
   {
    "duration": 15,
    "start_time": "2021-08-07T10:58:09.726Z"
   },
   {
    "duration": 53,
    "start_time": "2021-08-07T10:58:09.743Z"
   },
   {
    "duration": 34,
    "start_time": "2021-08-07T10:58:09.798Z"
   },
   {
    "duration": 19,
    "start_time": "2021-08-07T10:58:09.834Z"
   },
   {
    "duration": 46,
    "start_time": "2021-08-07T10:58:09.855Z"
   },
   {
    "duration": 13,
    "start_time": "2021-08-07T10:58:09.904Z"
   },
   {
    "duration": 13,
    "start_time": "2021-08-07T10:58:09.919Z"
   },
   {
    "duration": 9,
    "start_time": "2021-08-07T10:58:09.935Z"
   },
   {
    "duration": 49,
    "start_time": "2021-08-07T10:58:09.947Z"
   },
   {
    "duration": 417,
    "start_time": "2021-08-07T10:58:09.999Z"
   },
   {
    "duration": 441,
    "start_time": "2021-08-07T10:58:10.418Z"
   },
   {
    "duration": 366,
    "start_time": "2021-08-07T10:58:10.863Z"
   },
   {
    "duration": 574,
    "start_time": "2021-08-07T10:58:11.232Z"
   },
   {
    "duration": 336,
    "start_time": "2021-08-07T10:58:11.809Z"
   },
   {
    "duration": 5,
    "start_time": "2021-08-07T10:58:12.148Z"
   },
   {
    "duration": 345,
    "start_time": "2021-08-07T11:00:48.349Z"
   },
   {
    "duration": 353,
    "start_time": "2021-08-07T11:00:57.111Z"
   },
   {
    "duration": 284,
    "start_time": "2021-08-07T11:04:33.439Z"
   },
   {
    "duration": 308,
    "start_time": "2021-08-07T11:08:27.161Z"
   },
   {
    "duration": 330,
    "start_time": "2021-08-07T11:08:40.913Z"
   },
   {
    "duration": 308,
    "start_time": "2021-08-07T11:09:01.577Z"
   },
   {
    "duration": 368,
    "start_time": "2021-08-07T11:09:25.691Z"
   },
   {
    "duration": 6,
    "start_time": "2021-08-07T11:15:45.967Z"
   },
   {
    "duration": 11,
    "start_time": "2021-08-07T11:16:29.808Z"
   },
   {
    "duration": 6,
    "start_time": "2021-08-07T11:17:10.343Z"
   },
   {
    "duration": 314,
    "start_time": "2021-08-07T11:55:27.086Z"
   },
   {
    "duration": 565,
    "start_time": "2021-08-07T11:55:48.142Z"
   },
   {
    "duration": 258,
    "start_time": "2021-08-07T11:56:02.421Z"
   },
   {
    "duration": 504,
    "start_time": "2021-08-07T11:56:58.033Z"
   },
   {
    "duration": 233,
    "start_time": "2021-08-07T12:00:03.877Z"
   },
   {
    "duration": 208,
    "start_time": "2021-08-07T12:00:27.246Z"
   },
   {
    "duration": 256,
    "start_time": "2021-08-07T12:00:46.866Z"
   },
   {
    "duration": 205,
    "start_time": "2021-08-07T12:00:59.434Z"
   },
   {
    "duration": 209,
    "start_time": "2021-08-07T12:01:06.047Z"
   },
   {
    "duration": 217,
    "start_time": "2021-08-07T12:01:13.307Z"
   },
   {
    "duration": 232,
    "start_time": "2021-08-07T12:01:30.358Z"
   },
   {
    "duration": 272,
    "start_time": "2021-08-07T12:01:55.522Z"
   },
   {
    "duration": 222,
    "start_time": "2021-08-07T12:02:03.901Z"
   },
   {
    "duration": 207,
    "start_time": "2021-08-07T12:02:18.926Z"
   },
   {
    "duration": 252,
    "start_time": "2021-08-07T12:02:32.092Z"
   },
   {
    "duration": 267,
    "start_time": "2021-08-07T12:02:45.684Z"
   },
   {
    "duration": 274,
    "start_time": "2021-08-07T12:49:10.399Z"
   },
   {
    "duration": 78,
    "start_time": "2021-08-07T12:56:48.306Z"
   },
   {
    "duration": 253,
    "start_time": "2021-08-07T12:57:40.322Z"
   },
   {
    "duration": 223,
    "start_time": "2021-08-07T12:57:40.578Z"
   },
   {
    "duration": 120,
    "start_time": "2021-08-07T12:57:40.805Z"
   },
   {
    "duration": 17,
    "start_time": "2021-08-07T12:57:40.929Z"
   },
   {
    "duration": 11,
    "start_time": "2021-08-07T12:57:40.949Z"
   },
   {
    "duration": 52,
    "start_time": "2021-08-07T12:57:40.987Z"
   },
   {
    "duration": 14,
    "start_time": "2021-08-07T12:57:41.041Z"
   },
   {
    "duration": 24,
    "start_time": "2021-08-07T12:57:41.083Z"
   },
   {
    "duration": 17,
    "start_time": "2021-08-07T12:57:41.111Z"
   },
   {
    "duration": 19,
    "start_time": "2021-08-07T12:57:41.131Z"
   },
   {
    "duration": 19,
    "start_time": "2021-08-07T12:57:41.191Z"
   },
   {
    "duration": 17,
    "start_time": "2021-08-07T12:57:41.213Z"
   },
   {
    "duration": 18,
    "start_time": "2021-08-07T12:57:41.233Z"
   },
   {
    "duration": 42,
    "start_time": "2021-08-07T12:57:41.282Z"
   },
   {
    "duration": 19,
    "start_time": "2021-08-07T12:57:41.327Z"
   },
   {
    "duration": 43,
    "start_time": "2021-08-07T12:57:41.348Z"
   },
   {
    "duration": 13,
    "start_time": "2021-08-07T12:57:41.393Z"
   },
   {
    "duration": 18,
    "start_time": "2021-08-07T12:57:41.409Z"
   },
   {
    "duration": 11,
    "start_time": "2021-08-07T12:57:41.429Z"
   },
   {
    "duration": 10,
    "start_time": "2021-08-07T12:57:41.442Z"
   },
   {
    "duration": 336,
    "start_time": "2021-08-07T12:57:41.454Z"
   },
   {
    "duration": 438,
    "start_time": "2021-08-07T12:57:41.793Z"
   },
   {
    "duration": 317,
    "start_time": "2021-08-07T12:57:42.235Z"
   },
   {
    "duration": 575,
    "start_time": "2021-08-07T12:57:42.555Z"
   },
   {
    "duration": 374,
    "start_time": "2021-08-07T12:57:43.133Z"
   },
   {
    "duration": 99,
    "start_time": "2021-08-07T12:57:43.510Z"
   },
   {
    "duration": -3129,
    "start_time": "2021-08-07T12:57:46.740Z"
   },
   {
    "duration": -3133,
    "start_time": "2021-08-07T12:57:46.746Z"
   },
   {
    "duration": -3138,
    "start_time": "2021-08-07T12:57:46.752Z"
   },
   {
    "duration": -3141,
    "start_time": "2021-08-07T12:57:46.757Z"
   },
   {
    "duration": 11,
    "start_time": "2021-08-07T12:58:07.109Z"
   },
   {
    "duration": 239,
    "start_time": "2021-08-07T12:58:12.408Z"
   },
   {
    "duration": 126,
    "start_time": "2021-08-07T12:58:18.984Z"
   },
   {
    "duration": 27,
    "start_time": "2021-08-07T12:58:36.131Z"
   },
   {
    "duration": 24,
    "start_time": "2021-08-07T12:59:34.553Z"
   },
   {
    "duration": 19,
    "start_time": "2021-08-07T12:59:51.255Z"
   },
   {
    "duration": 24,
    "start_time": "2021-08-07T13:00:06.176Z"
   },
   {
    "duration": 22,
    "start_time": "2021-08-07T13:00:42.324Z"
   },
   {
    "duration": 30,
    "start_time": "2021-08-07T13:01:25.367Z"
   },
   {
    "duration": 33,
    "start_time": "2021-08-07T13:04:42.167Z"
   },
   {
    "duration": 20,
    "start_time": "2021-08-07T13:05:09.746Z"
   },
   {
    "duration": 21,
    "start_time": "2021-08-07T13:07:11.628Z"
   },
   {
    "duration": 25,
    "start_time": "2021-08-07T13:07:16.567Z"
   },
   {
    "duration": 24,
    "start_time": "2021-08-07T13:07:20.272Z"
   },
   {
    "duration": 40,
    "start_time": "2021-08-07T13:09:46.297Z"
   },
   {
    "duration": 332,
    "start_time": "2021-08-07T13:17:45.790Z"
   },
   {
    "duration": 23,
    "start_time": "2021-08-07T13:18:18.725Z"
   },
   {
    "duration": 22,
    "start_time": "2021-08-07T13:18:32.362Z"
   },
   {
    "duration": 27,
    "start_time": "2021-08-07T13:18:38.777Z"
   },
   {
    "duration": 51,
    "start_time": "2021-08-07T13:19:07.662Z"
   },
   {
    "duration": 23,
    "start_time": "2021-08-07T13:19:44.891Z"
   },
   {
    "duration": 22,
    "start_time": "2021-08-07T13:20:25.795Z"
   },
   {
    "duration": 102,
    "start_time": "2021-08-07T13:23:19.894Z"
   },
   {
    "duration": 105,
    "start_time": "2021-08-07T13:23:56.204Z"
   },
   {
    "duration": 21,
    "start_time": "2021-08-07T13:24:05.843Z"
   },
   {
    "duration": 30,
    "start_time": "2021-08-07T13:24:14.080Z"
   },
   {
    "duration": 323,
    "start_time": "2021-08-07T13:29:22.919Z"
   },
   {
    "duration": 22,
    "start_time": "2021-08-07T13:29:39.150Z"
   },
   {
    "duration": 15,
    "start_time": "2021-08-07T13:30:26.108Z"
   },
   {
    "duration": 4,
    "start_time": "2021-08-07T13:34:10.085Z"
   },
   {
    "duration": 4,
    "start_time": "2021-08-07T13:34:23.367Z"
   },
   {
    "duration": 76,
    "start_time": "2021-08-07T13:34:30.934Z"
   },
   {
    "duration": 51,
    "start_time": "2021-08-07T13:36:34.853Z"
   },
   {
    "duration": 17,
    "start_time": "2021-08-07T13:37:18.879Z"
   },
   {
    "duration": 14,
    "start_time": "2021-08-07T13:37:44.484Z"
   },
   {
    "duration": 12,
    "start_time": "2021-08-07T13:38:00.140Z"
   },
   {
    "duration": 12,
    "start_time": "2021-08-07T13:38:15.436Z"
   },
   {
    "duration": 16,
    "start_time": "2021-08-07T13:38:26.534Z"
   },
   {
    "duration": 9,
    "start_time": "2021-08-07T13:39:07.115Z"
   },
   {
    "duration": 236,
    "start_time": "2021-08-07T14:28:07.113Z"
   },
   {
    "duration": 181,
    "start_time": "2021-08-07T14:28:07.352Z"
   },
   {
    "duration": 127,
    "start_time": "2021-08-07T14:28:07.536Z"
   },
   {
    "duration": 24,
    "start_time": "2021-08-07T14:28:07.665Z"
   },
   {
    "duration": 15,
    "start_time": "2021-08-07T14:28:07.692Z"
   },
   {
    "duration": 87,
    "start_time": "2021-08-07T14:28:07.710Z"
   },
   {
    "duration": 16,
    "start_time": "2021-08-07T14:28:07.800Z"
   },
   {
    "duration": 19,
    "start_time": "2021-08-07T14:28:07.820Z"
   },
   {
    "duration": 52,
    "start_time": "2021-08-07T14:28:07.842Z"
   },
   {
    "duration": 20,
    "start_time": "2021-08-07T14:28:07.897Z"
   },
   {
    "duration": 17,
    "start_time": "2021-08-07T14:28:07.920Z"
   },
   {
    "duration": 56,
    "start_time": "2021-08-07T14:28:07.940Z"
   },
   {
    "duration": 18,
    "start_time": "2021-08-07T14:28:07.999Z"
   },
   {
    "duration": 35,
    "start_time": "2021-08-07T14:28:08.019Z"
   },
   {
    "duration": 50,
    "start_time": "2021-08-07T14:28:08.056Z"
   },
   {
    "duration": 14,
    "start_time": "2021-08-07T14:28:08.108Z"
   },
   {
    "duration": 12,
    "start_time": "2021-08-07T14:28:08.125Z"
   },
   {
    "duration": 9,
    "start_time": "2021-08-07T14:28:08.139Z"
   },
   {
    "duration": 11,
    "start_time": "2021-08-07T14:28:08.187Z"
   },
   {
    "duration": 11,
    "start_time": "2021-08-07T14:28:08.201Z"
   },
   {
    "duration": 315,
    "start_time": "2021-08-07T14:28:08.214Z"
   },
   {
    "duration": 442,
    "start_time": "2021-08-07T14:28:08.532Z"
   },
   {
    "duration": 318,
    "start_time": "2021-08-07T14:28:08.979Z"
   },
   {
    "duration": 673,
    "start_time": "2021-08-07T14:28:09.301Z"
   },
   {
    "duration": 277,
    "start_time": "2021-08-07T14:28:09.977Z"
   },
   {
    "duration": 11,
    "start_time": "2021-08-07T14:28:10.257Z"
   },
   {
    "duration": 253,
    "start_time": "2021-08-07T14:28:10.270Z"
   },
   {
    "duration": 23,
    "start_time": "2021-08-07T14:28:10.526Z"
   },
   {
    "duration": 51,
    "start_time": "2021-08-07T14:28:10.551Z"
   },
   {
    "duration": 20,
    "start_time": "2021-08-07T14:28:10.604Z"
   },
   {
    "duration": 18,
    "start_time": "2021-08-07T14:28:10.626Z"
   },
   {
    "duration": 51,
    "start_time": "2021-08-07T14:28:10.646Z"
   },
   {
    "duration": 21,
    "start_time": "2021-08-07T14:28:10.700Z"
   },
   {
    "duration": 13,
    "start_time": "2021-08-07T14:28:10.723Z"
   },
   {
    "duration": 293,
    "start_time": "2021-08-07T14:28:10.740Z"
   },
   {
    "duration": -10055,
    "start_time": "2021-08-07T14:28:21.090Z"
   },
   {
    "duration": -10058,
    "start_time": "2021-08-07T14:28:21.094Z"
   },
   {
    "duration": 347,
    "start_time": "2021-08-07T14:28:41.332Z"
   },
   {
    "duration": 346,
    "start_time": "2021-08-07T14:30:11.290Z"
   },
   {
    "duration": 17,
    "start_time": "2021-08-07T14:33:52.069Z"
   },
   {
    "duration": 395,
    "start_time": "2021-08-07T14:34:25.060Z"
   },
   {
    "duration": 359,
    "start_time": "2021-08-07T14:34:36.100Z"
   },
   {
    "duration": 25,
    "start_time": "2021-08-07T14:35:00.884Z"
   },
   {
    "duration": 20,
    "start_time": "2021-08-07T14:35:26.198Z"
   },
   {
    "duration": 20,
    "start_time": "2021-08-07T14:35:41.534Z"
   },
   {
    "duration": 19,
    "start_time": "2021-08-07T14:35:57.232Z"
   },
   {
    "duration": 22,
    "start_time": "2021-08-07T14:36:19.620Z"
   },
   {
    "duration": 358,
    "start_time": "2021-08-07T14:38:11.160Z"
   },
   {
    "duration": 341,
    "start_time": "2021-08-07T14:38:20.784Z"
   },
   {
    "duration": 350,
    "start_time": "2021-08-07T14:38:40.494Z"
   },
   {
    "duration": 7,
    "start_time": "2021-08-07T14:45:41.016Z"
   },
   {
    "duration": 11,
    "start_time": "2021-08-07T14:46:06.580Z"
   },
   {
    "duration": 7,
    "start_time": "2021-08-07T14:46:40.807Z"
   },
   {
    "duration": 10,
    "start_time": "2021-08-07T14:47:51.219Z"
   },
   {
    "duration": 14,
    "start_time": "2021-08-07T14:48:27.285Z"
   },
   {
    "duration": 280,
    "start_time": "2021-08-07T14:56:33.629Z"
   },
   {
    "duration": 323,
    "start_time": "2021-08-07T14:57:11.144Z"
   },
   {
    "duration": 2198,
    "start_time": "2021-08-07T14:57:54.171Z"
   },
   {
    "duration": 306,
    "start_time": "2021-08-07T15:10:18.471Z"
   },
   {
    "duration": 319,
    "start_time": "2021-08-07T15:11:14.108Z"
   },
   {
    "duration": 20,
    "start_time": "2021-08-07T15:11:15.597Z"
   },
   {
    "duration": -20244,
    "start_time": "2021-08-07T15:14:20.137Z"
   },
   {
    "duration": -56067,
    "start_time": "2021-08-07T15:21:07.175Z"
   },
   {
    "duration": 344,
    "start_time": "2021-08-07T15:21:18.576Z"
   },
   {
    "duration": 346,
    "start_time": "2021-08-07T15:28:50.752Z"
   },
   {
    "duration": 708,
    "start_time": "2021-08-07T15:29:07.244Z"
   },
   {
    "duration": 314,
    "start_time": "2021-08-07T15:37:18.230Z"
   },
   {
    "duration": 335,
    "start_time": "2021-08-07T15:37:23.807Z"
   },
   {
    "duration": 484,
    "start_time": "2021-08-07T15:37:35.079Z"
   },
   {
    "duration": 338,
    "start_time": "2021-08-07T15:41:06.128Z"
   },
   {
    "duration": 374,
    "start_time": "2021-08-07T15:41:45.842Z"
   },
   {
    "duration": 21,
    "start_time": "2021-08-07T15:52:26.827Z"
   },
   {
    "duration": 398,
    "start_time": "2021-08-07T15:53:21.946Z"
   },
   {
    "duration": 296,
    "start_time": "2021-08-07T15:53:47.082Z"
   },
   {
    "duration": 28,
    "start_time": "2021-08-07T15:53:54.281Z"
   },
   {
    "duration": 20,
    "start_time": "2021-08-07T15:54:08.315Z"
   },
   {
    "duration": 321,
    "start_time": "2021-08-07T15:54:30.082Z"
   },
   {
    "duration": 29,
    "start_time": "2021-08-07T15:54:45.780Z"
   },
   {
    "duration": 12,
    "start_time": "2021-08-07T15:55:01.629Z"
   },
   {
    "duration": 20,
    "start_time": "2021-08-07T15:55:03.556Z"
   },
   {
    "duration": 24,
    "start_time": "2021-08-07T15:59:14.302Z"
   },
   {
    "duration": 330,
    "start_time": "2021-08-07T15:59:38.528Z"
   },
   {
    "duration": 35,
    "start_time": "2021-08-07T16:00:12.073Z"
   },
   {
    "duration": 319,
    "start_time": "2021-08-07T16:00:32.101Z"
   },
   {
    "duration": 26,
    "start_time": "2021-08-07T16:00:44.290Z"
   },
   {
    "duration": 843,
    "start_time": "2021-08-07T16:01:23.874Z"
   },
   {
    "duration": 114,
    "start_time": "2021-08-07T16:01:56.527Z"
   },
   {
    "duration": 36,
    "start_time": "2021-08-07T16:02:38.032Z"
   },
   {
    "duration": 25,
    "start_time": "2021-08-07T16:02:51.395Z"
   },
   {
    "duration": 33,
    "start_time": "2021-08-07T16:03:09.580Z"
   },
   {
    "duration": 460,
    "start_time": "2021-08-07T16:04:02.580Z"
   },
   {
    "duration": 37,
    "start_time": "2021-08-07T16:04:32.464Z"
   },
   {
    "duration": 20,
    "start_time": "2021-08-07T16:13:48.726Z"
   },
   {
    "duration": 31,
    "start_time": "2021-08-07T16:18:14.112Z"
   },
   {
    "duration": 34,
    "start_time": "2021-08-07T16:22:49.991Z"
   },
   {
    "duration": 39,
    "start_time": "2021-08-07T16:23:43.873Z"
   },
   {
    "duration": 31,
    "start_time": "2021-08-07T16:25:07.726Z"
   },
   {
    "duration": 37,
    "start_time": "2021-08-07T16:26:07.563Z"
   },
   {
    "duration": 32,
    "start_time": "2021-08-07T16:26:32.290Z"
   },
   {
    "duration": 34,
    "start_time": "2021-08-07T16:28:52.820Z"
   },
   {
    "duration": 38,
    "start_time": "2021-08-07T16:31:54.066Z"
   },
   {
    "duration": 11,
    "start_time": "2021-08-07T16:32:24.619Z"
   },
   {
    "duration": 29,
    "start_time": "2021-08-07T16:32:28.541Z"
   },
   {
    "duration": 33,
    "start_time": "2021-08-07T16:35:33.012Z"
   },
   {
    "duration": 8,
    "start_time": "2021-08-07T16:49:20.771Z"
   },
   {
    "duration": 933,
    "start_time": "2021-08-07T16:49:50.070Z"
   },
   {
    "duration": 400,
    "start_time": "2021-08-07T17:04:44.432Z"
   },
   {
    "duration": 248,
    "start_time": "2021-08-07T17:04:52.470Z"
   },
   {
    "duration": 233,
    "start_time": "2021-08-07T17:04:52.721Z"
   },
   {
    "duration": 120,
    "start_time": "2021-08-07T17:04:52.958Z"
   },
   {
    "duration": 17,
    "start_time": "2021-08-07T17:04:53.087Z"
   },
   {
    "duration": 13,
    "start_time": "2021-08-07T17:04:53.106Z"
   },
   {
    "duration": 84,
    "start_time": "2021-08-07T17:04:53.121Z"
   },
   {
    "duration": 17,
    "start_time": "2021-08-07T17:04:53.208Z"
   },
   {
    "duration": 19,
    "start_time": "2021-08-07T17:04:53.231Z"
   },
   {
    "duration": 18,
    "start_time": "2021-08-07T17:04:53.286Z"
   },
   {
    "duration": 17,
    "start_time": "2021-08-07T17:04:53.306Z"
   },
   {
    "duration": 15,
    "start_time": "2021-08-07T17:04:53.325Z"
   },
   {
    "duration": 55,
    "start_time": "2021-08-07T17:04:53.342Z"
   },
   {
    "duration": 17,
    "start_time": "2021-08-07T17:04:53.399Z"
   },
   {
    "duration": 34,
    "start_time": "2021-08-07T17:04:53.418Z"
   },
   {
    "duration": 262,
    "start_time": "2021-08-07T17:04:53.455Z"
   },
   {
    "duration": -1574,
    "start_time": "2021-08-07T17:04:55.294Z"
   },
   {
    "duration": -1578,
    "start_time": "2021-08-07T17:04:55.299Z"
   },
   {
    "duration": -1581,
    "start_time": "2021-08-07T17:04:55.304Z"
   },
   {
    "duration": -1584,
    "start_time": "2021-08-07T17:04:55.308Z"
   },
   {
    "duration": -1585,
    "start_time": "2021-08-07T17:04:55.311Z"
   },
   {
    "duration": -1590,
    "start_time": "2021-08-07T17:04:55.317Z"
   },
   {
    "duration": -1594,
    "start_time": "2021-08-07T17:04:55.322Z"
   },
   {
    "duration": -1596,
    "start_time": "2021-08-07T17:04:55.326Z"
   },
   {
    "duration": -1599,
    "start_time": "2021-08-07T17:04:55.330Z"
   },
   {
    "duration": -1605,
    "start_time": "2021-08-07T17:04:55.337Z"
   },
   {
    "duration": -1606,
    "start_time": "2021-08-07T17:04:55.340Z"
   },
   {
    "duration": -1609,
    "start_time": "2021-08-07T17:04:55.344Z"
   },
   {
    "duration": -1613,
    "start_time": "2021-08-07T17:04:55.349Z"
   },
   {
    "duration": -1619,
    "start_time": "2021-08-07T17:04:55.357Z"
   },
   {
    "duration": -1621,
    "start_time": "2021-08-07T17:04:55.360Z"
   },
   {
    "duration": -1624,
    "start_time": "2021-08-07T17:04:55.364Z"
   },
   {
    "duration": -1628,
    "start_time": "2021-08-07T17:04:55.370Z"
   },
   {
    "duration": -1631,
    "start_time": "2021-08-07T17:04:55.374Z"
   },
   {
    "duration": -1632,
    "start_time": "2021-08-07T17:04:55.377Z"
   },
   {
    "duration": -1655,
    "start_time": "2021-08-07T17:04:55.401Z"
   },
   {
    "duration": -1659,
    "start_time": "2021-08-07T17:04:55.406Z"
   },
   {
    "duration": -1661,
    "start_time": "2021-08-07T17:04:55.410Z"
   },
   {
    "duration": -1663,
    "start_time": "2021-08-07T17:04:55.413Z"
   },
   {
    "duration": -1668,
    "start_time": "2021-08-07T17:04:55.420Z"
   },
   {
    "duration": -1671,
    "start_time": "2021-08-07T17:04:55.424Z"
   },
   {
    "duration": 262,
    "start_time": "2021-08-07T17:05:35.348Z"
   },
   {
    "duration": 10,
    "start_time": "2021-08-07T17:05:51.842Z"
   },
   {
    "duration": 9,
    "start_time": "2021-08-07T17:06:24.944Z"
   },
   {
    "duration": 29,
    "start_time": "2021-08-07T17:08:10.769Z"
   },
   {
    "duration": 25,
    "start_time": "2021-08-07T17:08:25.088Z"
   },
   {
    "duration": 27,
    "start_time": "2021-08-07T17:08:37.467Z"
   },
   {
    "duration": 7563,
    "start_time": "2021-08-07T17:08:46.693Z"
   },
   {
    "duration": 29,
    "start_time": "2021-08-07T17:09:03.471Z"
   },
   {
    "duration": 26,
    "start_time": "2021-08-07T17:09:22.065Z"
   },
   {
    "duration": 6,
    "start_time": "2021-08-07T17:09:43.177Z"
   },
   {
    "duration": 7,
    "start_time": "2021-08-07T17:10:05.542Z"
   },
   {
    "duration": 340,
    "start_time": "2021-08-07T17:10:41.033Z"
   },
   {
    "duration": 301,
    "start_time": "2021-08-07T17:11:03.123Z"
   },
   {
    "duration": 317,
    "start_time": "2021-08-07T17:11:14.480Z"
   },
   {
    "duration": 9,
    "start_time": "2021-08-07T17:11:27.623Z"
   },
   {
    "duration": 9,
    "start_time": "2021-08-07T17:11:46.237Z"
   },
   {
    "duration": 8,
    "start_time": "2021-08-07T17:11:59.424Z"
   },
   {
    "duration": 9,
    "start_time": "2021-08-07T17:12:19.156Z"
   },
   {
    "duration": 10,
    "start_time": "2021-08-07T17:13:36.022Z"
   },
   {
    "duration": 10,
    "start_time": "2021-08-07T17:14:05.346Z"
   },
   {
    "duration": 10,
    "start_time": "2021-08-07T17:14:11.262Z"
   },
   {
    "duration": 16,
    "start_time": "2021-08-07T17:14:14.878Z"
   },
   {
    "duration": 440,
    "start_time": "2021-08-07T17:14:25.218Z"
   },
   {
    "duration": 10,
    "start_time": "2021-08-07T17:14:32.970Z"
   },
   {
    "duration": 10,
    "start_time": "2021-08-07T17:14:50.267Z"
   },
   {
    "duration": 255,
    "start_time": "2021-08-07T17:36:10.712Z"
   },
   {
    "duration": 315,
    "start_time": "2021-08-07T17:36:24.226Z"
   },
   {
    "duration": 64,
    "start_time": "2021-08-07T17:38:03.817Z"
   },
   {
    "duration": 71,
    "start_time": "2021-08-07T17:38:33.001Z"
   },
   {
    "duration": 64,
    "start_time": "2021-08-07T17:39:17.033Z"
   },
   {
    "duration": 78,
    "start_time": "2021-08-07T17:39:36.245Z"
   },
   {
    "duration": 67,
    "start_time": "2021-08-07T17:39:49.998Z"
   },
   {
    "duration": 55,
    "start_time": "2021-08-07T17:40:23.402Z"
   },
   {
    "duration": 8,
    "start_time": "2021-08-07T17:41:13.531Z"
   },
   {
    "duration": 409,
    "start_time": "2021-08-07T17:45:58.547Z"
   },
   {
    "duration": 274,
    "start_time": "2021-08-07T17:46:53.606Z"
   },
   {
    "duration": 268,
    "start_time": "2021-08-07T17:47:09.495Z"
   },
   {
    "duration": 8,
    "start_time": "2021-08-07T17:47:50.869Z"
   },
   {
    "duration": 13,
    "start_time": "2021-08-07T17:47:53.881Z"
   },
   {
    "duration": 68,
    "start_time": "2021-08-07T17:48:22.945Z"
   },
   {
    "duration": 11,
    "start_time": "2021-08-07T17:51:22.500Z"
   },
   {
    "duration": 69,
    "start_time": "2021-08-07T17:51:42.349Z"
   },
   {
    "duration": 10,
    "start_time": "2021-08-07T17:52:44.929Z"
   },
   {
    "duration": 14,
    "start_time": "2021-08-07T17:53:11.490Z"
   },
   {
    "duration": 110,
    "start_time": "2021-08-07T17:54:01.566Z"
   },
   {
    "duration": 67,
    "start_time": "2021-08-07T17:54:13.476Z"
   },
   {
    "duration": 12,
    "start_time": "2021-08-07T17:54:22.233Z"
   },
   {
    "duration": 16,
    "start_time": "2021-08-07T17:54:41.677Z"
   },
   {
    "duration": 73,
    "start_time": "2021-08-07T17:55:18.064Z"
   },
   {
    "duration": 14,
    "start_time": "2021-08-07T17:55:21.029Z"
   },
   {
    "duration": 65,
    "start_time": "2021-08-07T17:56:15.906Z"
   },
   {
    "duration": 13,
    "start_time": "2021-08-07T17:56:21.198Z"
   },
   {
    "duration": 16,
    "start_time": "2021-08-07T17:56:43.812Z"
   },
   {
    "duration": 28,
    "start_time": "2021-08-07T17:57:31.318Z"
   },
   {
    "duration": 69,
    "start_time": "2021-08-07T17:57:51.829Z"
   },
   {
    "duration": 12,
    "start_time": "2021-08-07T17:57:55.717Z"
   },
   {
    "duration": 11,
    "start_time": "2021-08-07T17:58:19.431Z"
   },
   {
    "duration": 69,
    "start_time": "2021-08-07T17:58:33.730Z"
   },
   {
    "duration": 16,
    "start_time": "2021-08-07T17:58:37.002Z"
   },
   {
    "duration": 16,
    "start_time": "2021-08-07T17:58:41.164Z"
   },
   {
    "duration": 15,
    "start_time": "2021-08-07T17:59:03.264Z"
   },
   {
    "duration": 8,
    "start_time": "2021-08-07T18:00:04.274Z"
   },
   {
    "duration": 6,
    "start_time": "2021-08-07T18:00:06.693Z"
   },
   {
    "duration": 7,
    "start_time": "2021-08-07T18:00:08.494Z"
   },
   {
    "duration": 926,
    "start_time": "2021-08-07T18:00:10.906Z"
   },
   {
    "duration": 903,
    "start_time": "2021-08-07T18:00:48.528Z"
   },
   {
    "duration": 911,
    "start_time": "2021-08-07T18:02:21.042Z"
   },
   {
    "duration": 84,
    "start_time": "2021-08-07T18:04:08.664Z"
   },
   {
    "duration": 81,
    "start_time": "2021-08-07T18:04:14.271Z"
   },
   {
    "duration": 22,
    "start_time": "2021-08-07T18:04:18.478Z"
   },
   {
    "duration": 44,
    "start_time": "2021-08-07T18:10:39.085Z"
   },
   {
    "duration": 143,
    "start_time": "2021-08-07T18:14:08.268Z"
   },
   {
    "duration": 87,
    "start_time": "2021-08-07T18:14:16.641Z"
   },
   {
    "duration": 7,
    "start_time": "2021-08-07T18:14:32.142Z"
   },
   {
    "duration": 10,
    "start_time": "2021-08-07T18:15:08.037Z"
   },
   {
    "duration": 10,
    "start_time": "2021-08-07T18:15:27.814Z"
   },
   {
    "duration": 10,
    "start_time": "2021-08-07T18:15:32.439Z"
   },
   {
    "duration": 8,
    "start_time": "2021-08-07T18:15:39.295Z"
   },
   {
    "duration": 9,
    "start_time": "2021-08-07T18:17:47.406Z"
   },
   {
    "duration": 10,
    "start_time": "2021-08-07T18:24:44.826Z"
   },
   {
    "duration": 12,
    "start_time": "2021-08-07T18:24:47.582Z"
   },
   {
    "duration": 12,
    "start_time": "2021-08-07T18:26:04.999Z"
   },
   {
    "duration": 10,
    "start_time": "2021-08-07T18:26:48.268Z"
   },
   {
    "duration": 19,
    "start_time": "2021-08-07T18:29:20.633Z"
   },
   {
    "duration": 303,
    "start_time": "2021-08-07T18:30:12.322Z"
   },
   {
    "duration": 48,
    "start_time": "2021-08-07T18:30:27.957Z"
   },
   {
    "duration": 47,
    "start_time": "2021-08-07T18:30:46.072Z"
   },
   {
    "duration": 41,
    "start_time": "2021-08-07T18:33:39.498Z"
   },
   {
    "duration": 1048,
    "start_time": "2021-08-08T10:38:34.073Z"
   },
   {
    "duration": 264,
    "start_time": "2021-08-08T10:38:35.124Z"
   },
   {
    "duration": 164,
    "start_time": "2021-08-08T10:38:35.392Z"
   },
   {
    "duration": 22,
    "start_time": "2021-08-08T10:38:35.560Z"
   },
   {
    "duration": 17,
    "start_time": "2021-08-08T10:38:35.585Z"
   },
   {
    "duration": 103,
    "start_time": "2021-08-08T10:38:35.605Z"
   },
   {
    "duration": 23,
    "start_time": "2021-08-08T10:38:35.711Z"
   },
   {
    "duration": 42,
    "start_time": "2021-08-08T10:38:35.739Z"
   },
   {
    "duration": 22,
    "start_time": "2021-08-08T10:38:35.785Z"
   },
   {
    "duration": 59,
    "start_time": "2021-08-08T10:38:35.810Z"
   },
   {
    "duration": 24,
    "start_time": "2021-08-08T10:38:35.872Z"
   },
   {
    "duration": 22,
    "start_time": "2021-08-08T10:38:35.899Z"
   },
   {
    "duration": 53,
    "start_time": "2021-08-08T10:38:35.924Z"
   },
   {
    "duration": 50,
    "start_time": "2021-08-08T10:38:35.980Z"
   },
   {
    "duration": 35,
    "start_time": "2021-08-08T10:38:36.033Z"
   },
   {
    "duration": 29,
    "start_time": "2021-08-08T10:38:36.071Z"
   },
   {
    "duration": 19,
    "start_time": "2021-08-08T10:38:36.103Z"
   },
   {
    "duration": 49,
    "start_time": "2021-08-08T10:38:36.125Z"
   },
   {
    "duration": 2008,
    "start_time": "2021-08-08T10:38:36.177Z"
   },
   {
    "duration": -15932,
    "start_time": "2021-08-08T10:38:54.122Z"
   },
   {
    "duration": -15935,
    "start_time": "2021-08-08T10:38:54.127Z"
   },
   {
    "duration": -15936,
    "start_time": "2021-08-08T10:38:54.130Z"
   },
   {
    "duration": -15938,
    "start_time": "2021-08-08T10:38:54.134Z"
   },
   {
    "duration": -15949,
    "start_time": "2021-08-08T10:38:54.147Z"
   },
   {
    "duration": -15958,
    "start_time": "2021-08-08T10:38:54.158Z"
   },
   {
    "duration": -15960,
    "start_time": "2021-08-08T10:38:54.162Z"
   },
   {
    "duration": -15961,
    "start_time": "2021-08-08T10:38:54.165Z"
   },
   {
    "duration": -15964,
    "start_time": "2021-08-08T10:38:54.170Z"
   },
   {
    "duration": -15968,
    "start_time": "2021-08-08T10:38:54.176Z"
   },
   {
    "duration": -15971,
    "start_time": "2021-08-08T10:38:54.180Z"
   },
   {
    "duration": -15972,
    "start_time": "2021-08-08T10:38:54.183Z"
   },
   {
    "duration": -15975,
    "start_time": "2021-08-08T10:38:54.188Z"
   },
   {
    "duration": -15976,
    "start_time": "2021-08-08T10:38:54.191Z"
   },
   {
    "duration": -15978,
    "start_time": "2021-08-08T10:38:54.195Z"
   },
   {
    "duration": -15980,
    "start_time": "2021-08-08T10:38:54.199Z"
   },
   {
    "duration": -15981,
    "start_time": "2021-08-08T10:38:54.202Z"
   },
   {
    "duration": -15983,
    "start_time": "2021-08-08T10:38:54.206Z"
   },
   {
    "duration": -16001,
    "start_time": "2021-08-08T10:38:54.226Z"
   },
   {
    "duration": -15968,
    "start_time": "2021-08-08T10:38:54.230Z"
   },
   {
    "duration": -15969,
    "start_time": "2021-08-08T10:38:54.233Z"
   },
   {
    "duration": -15971,
    "start_time": "2021-08-08T10:38:54.237Z"
   },
   {
    "duration": -15973,
    "start_time": "2021-08-08T10:38:54.242Z"
   },
   {
    "duration": -15975,
    "start_time": "2021-08-08T10:38:54.245Z"
   },
   {
    "duration": 306,
    "start_time": "2021-08-08T10:40:04.263Z"
   },
   {
    "duration": 57,
    "start_time": "2021-08-08T10:40:10.937Z"
   },
   {
    "duration": 196,
    "start_time": "2021-08-08T10:40:14.556Z"
   },
   {
    "duration": 193,
    "start_time": "2021-08-08T10:40:41.263Z"
   },
   {
    "duration": 204,
    "start_time": "2021-08-08T10:41:15.310Z"
   },
   {
    "duration": 252,
    "start_time": "2021-08-08T10:42:32.391Z"
   },
   {
    "duration": 294,
    "start_time": "2021-08-08T10:46:08.525Z"
   },
   {
    "duration": 45,
    "start_time": "2021-08-08T10:46:31.977Z"
   },
   {
    "duration": 57,
    "start_time": "2021-08-08T10:48:06.452Z"
   },
   {
    "duration": 6901,
    "start_time": "2021-08-08T10:50:27.482Z"
   },
   {
    "duration": 6397,
    "start_time": "2021-08-08T10:50:52.624Z"
   },
   {
    "duration": 6285,
    "start_time": "2021-08-08T10:51:47.772Z"
   },
   {
    "duration": 8036,
    "start_time": "2021-08-08T10:52:17.054Z"
   },
   {
    "duration": 8559,
    "start_time": "2021-08-08T10:52:26.444Z"
   },
   {
    "duration": 6379,
    "start_time": "2021-08-08T10:53:11.040Z"
   },
   {
    "duration": 22,
    "start_time": "2021-08-08T10:54:12.805Z"
   },
   {
    "duration": 28,
    "start_time": "2021-08-08T10:54:57.102Z"
   },
   {
    "duration": 21,
    "start_time": "2021-08-08T10:55:39.716Z"
   },
   {
    "duration": 21,
    "start_time": "2021-08-08T10:56:28.250Z"
   },
   {
    "duration": 20,
    "start_time": "2021-08-08T10:56:34.300Z"
   },
   {
    "duration": 21,
    "start_time": "2021-08-08T10:58:26.667Z"
   },
   {
    "duration": 250,
    "start_time": "2021-08-08T11:00:07.389Z"
   },
   {
    "duration": 267,
    "start_time": "2021-08-08T11:00:36.470Z"
   },
   {
    "duration": 284,
    "start_time": "2021-08-08T11:01:25.658Z"
   },
   {
    "duration": 253,
    "start_time": "2021-08-08T11:08:19.822Z"
   },
   {
    "duration": 48,
    "start_time": "2021-08-08T11:09:32.663Z"
   },
   {
    "duration": 103,
    "start_time": "2021-08-08T11:10:55.188Z"
   },
   {
    "duration": 381,
    "start_time": "2021-08-08T11:13:31.774Z"
   },
   {
    "duration": 52,
    "start_time": "2021-08-08T11:59:12.487Z"
   },
   {
    "duration": 303,
    "start_time": "2021-08-08T12:00:47.965Z"
   },
   {
    "duration": 545,
    "start_time": "2021-08-08T12:05:22.046Z"
   },
   {
    "duration": 554,
    "start_time": "2021-08-08T12:05:52.515Z"
   },
   {
    "duration": 290,
    "start_time": "2021-08-08T12:06:22.003Z"
   },
   {
    "duration": 251,
    "start_time": "2021-08-08T12:09:05.054Z"
   },
   {
    "duration": 325,
    "start_time": "2021-08-08T12:10:34.740Z"
   },
   {
    "duration": 291,
    "start_time": "2021-08-08T12:10:53.396Z"
   },
   {
    "duration": 239,
    "start_time": "2021-08-08T12:11:49.006Z"
   },
   {
    "duration": 306,
    "start_time": "2021-08-08T12:12:50.603Z"
   },
   {
    "duration": 383,
    "start_time": "2021-08-08T12:13:02.023Z"
   },
   {
    "duration": 266,
    "start_time": "2021-08-08T12:14:23.574Z"
   },
   {
    "duration": 19,
    "start_time": "2021-08-08T12:14:40.944Z"
   },
   {
    "duration": 19,
    "start_time": "2021-08-08T12:15:49.970Z"
   },
   {
    "duration": 345,
    "start_time": "2021-08-08T12:19:49.614Z"
   },
   {
    "duration": 326,
    "start_time": "2021-08-08T12:20:30.917Z"
   },
   {
    "duration": 897,
    "start_time": "2021-08-08T12:21:21.058Z"
   },
   {
    "duration": 6042,
    "start_time": "2021-08-08T12:24:00.516Z"
   },
   {
    "duration": 6333,
    "start_time": "2021-08-08T12:24:07.677Z"
   },
   {
    "duration": 247,
    "start_time": "2021-08-08T12:24:50.331Z"
   },
   {
    "duration": 279,
    "start_time": "2021-08-08T12:24:50.580Z"
   },
   {
    "duration": 119,
    "start_time": "2021-08-08T12:24:50.862Z"
   },
   {
    "duration": 15,
    "start_time": "2021-08-08T12:24:50.983Z"
   },
   {
    "duration": 13,
    "start_time": "2021-08-08T12:24:51.001Z"
   },
   {
    "duration": 81,
    "start_time": "2021-08-08T12:24:51.017Z"
   },
   {
    "duration": 15,
    "start_time": "2021-08-08T12:24:51.100Z"
   },
   {
    "duration": 47,
    "start_time": "2021-08-08T12:24:51.119Z"
   },
   {
    "duration": 15,
    "start_time": "2021-08-08T12:24:51.169Z"
   },
   {
    "duration": 20,
    "start_time": "2021-08-08T12:24:51.186Z"
   },
   {
    "duration": 55,
    "start_time": "2021-08-08T12:24:51.208Z"
   },
   {
    "duration": 18,
    "start_time": "2021-08-08T12:24:51.267Z"
   },
   {
    "duration": 17,
    "start_time": "2021-08-08T12:24:51.288Z"
   },
   {
    "duration": 73,
    "start_time": "2021-08-08T12:24:51.308Z"
   },
   {
    "duration": 11,
    "start_time": "2021-08-08T12:24:51.384Z"
   },
   {
    "duration": 20,
    "start_time": "2021-08-08T12:24:51.397Z"
   },
   {
    "duration": 50,
    "start_time": "2021-08-08T12:24:51.420Z"
   },
   {
    "duration": 14,
    "start_time": "2021-08-08T12:24:51.473Z"
   },
   {
    "duration": 1161,
    "start_time": "2021-08-08T12:24:51.489Z"
   },
   {
    "duration": -1391,
    "start_time": "2021-08-08T12:24:54.045Z"
   },
   {
    "duration": -1396,
    "start_time": "2021-08-08T12:24:54.051Z"
   },
   {
    "duration": -1398,
    "start_time": "2021-08-08T12:24:54.055Z"
   },
   {
    "duration": -1401,
    "start_time": "2021-08-08T12:24:54.059Z"
   },
   {
    "duration": -1403,
    "start_time": "2021-08-08T12:24:54.063Z"
   },
   {
    "duration": -1408,
    "start_time": "2021-08-08T12:24:54.069Z"
   },
   {
    "duration": -1412,
    "start_time": "2021-08-08T12:24:54.075Z"
   },
   {
    "duration": -1415,
    "start_time": "2021-08-08T12:24:54.080Z"
   },
   {
    "duration": -1419,
    "start_time": "2021-08-08T12:24:54.085Z"
   },
   {
    "duration": -1423,
    "start_time": "2021-08-08T12:24:54.090Z"
   },
   {
    "duration": -1431,
    "start_time": "2021-08-08T12:24:54.100Z"
   },
   {
    "duration": -1436,
    "start_time": "2021-08-08T12:24:54.106Z"
   },
   {
    "duration": -1451,
    "start_time": "2021-08-08T12:24:54.123Z"
   },
   {
    "duration": -1454,
    "start_time": "2021-08-08T12:24:54.127Z"
   },
   {
    "duration": -1458,
    "start_time": "2021-08-08T12:24:54.132Z"
   },
   {
    "duration": -1460,
    "start_time": "2021-08-08T12:24:54.136Z"
   },
   {
    "duration": -1462,
    "start_time": "2021-08-08T12:24:54.139Z"
   },
   {
    "duration": -1465,
    "start_time": "2021-08-08T12:24:54.143Z"
   },
   {
    "duration": -1468,
    "start_time": "2021-08-08T12:24:54.147Z"
   },
   {
    "duration": -1470,
    "start_time": "2021-08-08T12:24:54.150Z"
   },
   {
    "duration": -1472,
    "start_time": "2021-08-08T12:24:54.154Z"
   },
   {
    "duration": -1474,
    "start_time": "2021-08-08T12:24:54.157Z"
   },
   {
    "duration": -1477,
    "start_time": "2021-08-08T12:24:54.161Z"
   },
   {
    "duration": -1480,
    "start_time": "2021-08-08T12:24:54.166Z"
   },
   {
    "duration": -1482,
    "start_time": "2021-08-08T12:24:54.169Z"
   },
   {
    "duration": 47,
    "start_time": "2021-08-08T12:25:15.697Z"
   },
   {
    "duration": 6506,
    "start_time": "2021-08-08T12:25:44.823Z"
   },
   {
    "duration": 8,
    "start_time": "2021-08-08T12:26:23.281Z"
   },
   {
    "duration": 9,
    "start_time": "2021-08-08T12:26:30.235Z"
   },
   {
    "duration": 9,
    "start_time": "2021-08-08T12:26:35.093Z"
   },
   {
    "duration": 16,
    "start_time": "2021-08-08T12:26:38.529Z"
   },
   {
    "duration": 16,
    "start_time": "2021-08-08T12:26:45.921Z"
   },
   {
    "duration": 21,
    "start_time": "2021-08-08T12:27:02.262Z"
   },
   {
    "duration": 658,
    "start_time": "2021-08-08T12:27:13.681Z"
   },
   {
    "duration": 857,
    "start_time": "2021-08-08T12:29:07.578Z"
   },
   {
    "duration": 764,
    "start_time": "2021-08-08T12:31:06.521Z"
   },
   {
    "duration": 328,
    "start_time": "2021-08-08T12:31:31.145Z"
   },
   {
    "duration": 395,
    "start_time": "2021-08-08T12:32:11.423Z"
   },
   {
    "duration": 698,
    "start_time": "2021-08-08T12:32:33.299Z"
   },
   {
    "duration": 317,
    "start_time": "2021-08-08T12:33:24.811Z"
   },
   {
    "duration": 270,
    "start_time": "2021-08-08T12:34:02.151Z"
   },
   {
    "duration": 579,
    "start_time": "2021-08-08T12:34:08.799Z"
   },
   {
    "duration": 566,
    "start_time": "2021-08-08T12:34:29.650Z"
   },
   {
    "duration": 585,
    "start_time": "2021-08-08T12:36:25.327Z"
   },
   {
    "duration": 294,
    "start_time": "2021-08-08T12:36:39.646Z"
   },
   {
    "duration": 292,
    "start_time": "2021-08-08T12:36:54.624Z"
   },
   {
    "duration": 300,
    "start_time": "2021-08-08T12:37:16.233Z"
   },
   {
    "duration": 6,
    "start_time": "2021-08-08T12:40:36.435Z"
   },
   {
    "duration": 34,
    "start_time": "2021-08-08T12:44:38.472Z"
   },
   {
    "duration": 59,
    "start_time": "2021-08-08T12:44:44.792Z"
   },
   {
    "duration": 10529,
    "start_time": "2021-08-08T12:47:28.937Z"
   },
   {
    "duration": 10688,
    "start_time": "2021-08-08T12:48:51.514Z"
   },
   {
    "duration": 74,
    "start_time": "2021-08-08T12:52:15.163Z"
   },
   {
    "duration": 565,
    "start_time": "2021-08-08T12:57:42.331Z"
   },
   {
    "duration": 288,
    "start_time": "2021-08-08T12:58:09.720Z"
   },
   {
    "duration": 116,
    "start_time": "2021-08-08T12:58:17.856Z"
   },
   {
    "duration": 67,
    "start_time": "2021-08-08T12:58:32.880Z"
   },
   {
    "duration": 70,
    "start_time": "2021-08-08T12:58:50.715Z"
   },
   {
    "duration": 66,
    "start_time": "2021-08-08T12:59:16.855Z"
   },
   {
    "duration": 66,
    "start_time": "2021-08-08T12:59:50.757Z"
   },
   {
    "duration": 185,
    "start_time": "2021-08-08T13:00:05.948Z"
   },
   {
    "duration": 272,
    "start_time": "2021-08-08T13:00:06.136Z"
   },
   {
    "duration": 116,
    "start_time": "2021-08-08T13:00:06.411Z"
   },
   {
    "duration": 16,
    "start_time": "2021-08-08T13:00:06.529Z"
   },
   {
    "duration": 25,
    "start_time": "2021-08-08T13:00:06.547Z"
   },
   {
    "duration": 51,
    "start_time": "2021-08-08T13:00:06.574Z"
   },
   {
    "duration": 44,
    "start_time": "2021-08-08T13:00:06.627Z"
   },
   {
    "duration": 20,
    "start_time": "2021-08-08T13:00:06.675Z"
   },
   {
    "duration": 15,
    "start_time": "2021-08-08T13:00:06.698Z"
   },
   {
    "duration": 55,
    "start_time": "2021-08-08T13:00:06.716Z"
   },
   {
    "duration": 19,
    "start_time": "2021-08-08T13:00:06.774Z"
   },
   {
    "duration": 25,
    "start_time": "2021-08-08T13:00:06.796Z"
   },
   {
    "duration": 50,
    "start_time": "2021-08-08T13:00:06.824Z"
   },
   {
    "duration": 50,
    "start_time": "2021-08-08T13:00:06.877Z"
   },
   {
    "duration": 39,
    "start_time": "2021-08-08T13:00:06.930Z"
   },
   {
    "duration": 28,
    "start_time": "2021-08-08T13:00:06.972Z"
   },
   {
    "duration": 25,
    "start_time": "2021-08-08T13:00:07.003Z"
   },
   {
    "duration": 40,
    "start_time": "2021-08-08T13:00:07.031Z"
   },
   {
    "duration": 114,
    "start_time": "2021-08-08T13:00:07.074Z"
   },
   {
    "duration": 22,
    "start_time": "2021-08-08T13:00:07.191Z"
   },
   {
    "duration": 24,
    "start_time": "2021-08-08T13:00:07.217Z"
   },
   {
    "duration": 30,
    "start_time": "2021-08-08T13:00:07.244Z"
   },
   {
    "duration": 20,
    "start_time": "2021-08-08T13:00:07.281Z"
   },
   {
    "duration": 460,
    "start_time": "2021-08-08T13:00:07.305Z"
   },
   {
    "duration": 666,
    "start_time": "2021-08-08T13:00:07.769Z"
   },
   {
    "duration": 473,
    "start_time": "2021-08-08T13:00:08.438Z"
   },
   {
    "duration": 875,
    "start_time": "2021-08-08T13:00:08.914Z"
   },
   {
    "duration": 420,
    "start_time": "2021-08-08T13:00:09.792Z"
   },
   {
    "duration": 15,
    "start_time": "2021-08-08T13:00:10.215Z"
   },
   {
    "duration": 385,
    "start_time": "2021-08-08T13:00:10.233Z"
   },
   {
    "duration": 8,
    "start_time": "2021-08-08T13:00:10.621Z"
   },
   {
    "duration": 31,
    "start_time": "2021-08-08T13:00:10.633Z"
   },
   {
    "duration": 53,
    "start_time": "2021-08-08T13:00:10.667Z"
   },
   {
    "duration": 1276,
    "start_time": "2021-08-08T13:00:10.724Z"
   },
   {
    "duration": 933,
    "start_time": "2021-08-08T13:00:12.003Z"
   },
   {
    "duration": -3440,
    "start_time": "2021-08-08T13:00:16.378Z"
   },
   {
    "duration": -3442,
    "start_time": "2021-08-08T13:00:16.382Z"
   },
   {
    "duration": -3447,
    "start_time": "2021-08-08T13:00:16.388Z"
   },
   {
    "duration": -3456,
    "start_time": "2021-08-08T13:00:16.399Z"
   },
   {
    "duration": -3460,
    "start_time": "2021-08-08T13:00:16.405Z"
   },
   {
    "duration": -3471,
    "start_time": "2021-08-08T13:00:16.417Z"
   },
   {
    "duration": -3482,
    "start_time": "2021-08-08T13:00:16.430Z"
   },
   {
    "duration": -3486,
    "start_time": "2021-08-08T13:00:16.435Z"
   },
   {
    "duration": -3497,
    "start_time": "2021-08-08T13:00:16.448Z"
   },
   {
    "duration": -3502,
    "start_time": "2021-08-08T13:00:16.454Z"
   },
   {
    "duration": 63,
    "start_time": "2021-08-08T13:01:29.387Z"
   },
   {
    "duration": 117,
    "start_time": "2021-08-08T13:02:44.206Z"
   },
   {
    "duration": 60,
    "start_time": "2021-08-08T13:03:05.942Z"
   },
   {
    "duration": 6,
    "start_time": "2021-08-08T13:05:28.775Z"
   },
   {
    "duration": 9,
    "start_time": "2021-08-08T13:07:23.177Z"
   },
   {
    "duration": 827,
    "start_time": "2021-08-08T13:08:26.239Z"
   },
   {
    "duration": 960,
    "start_time": "2021-08-08T13:09:06.087Z"
   },
   {
    "duration": 49,
    "start_time": "2021-08-08T13:38:43.347Z"
   },
   {
    "duration": 294,
    "start_time": "2021-08-08T13:40:16.393Z"
   },
   {
    "duration": 8,
    "start_time": "2021-08-08T13:43:00.497Z"
   },
   {
    "duration": 7,
    "start_time": "2021-08-08T13:43:12.670Z"
   },
   {
    "duration": 8,
    "start_time": "2021-08-08T13:43:32.664Z"
   },
   {
    "duration": 20,
    "start_time": "2021-08-08T13:44:43.931Z"
   },
   {
    "duration": 20,
    "start_time": "2021-08-08T13:44:47.981Z"
   },
   {
    "duration": 7,
    "start_time": "2021-08-08T13:45:27.331Z"
   },
   {
    "duration": 8,
    "start_time": "2021-08-08T13:46:18.494Z"
   },
   {
    "duration": 8,
    "start_time": "2021-08-08T13:46:21.334Z"
   },
   {
    "duration": 15,
    "start_time": "2021-08-08T13:46:41.827Z"
   },
   {
    "duration": 31,
    "start_time": "2021-08-08T13:50:09.489Z"
   },
   {
    "duration": 15,
    "start_time": "2021-08-08T13:54:04.285Z"
   },
   {
    "duration": 47,
    "start_time": "2021-08-08T13:54:46.359Z"
   },
   {
    "duration": 301,
    "start_time": "2021-08-08T13:58:20.676Z"
   },
   {
    "duration": 6129,
    "start_time": "2021-08-08T14:11:49.680Z"
   },
   {
    "duration": 448,
    "start_time": "2021-08-08T14:12:35.676Z"
   },
   {
    "duration": 3155,
    "start_time": "2021-08-08T14:15:56.755Z"
   },
   {
    "duration": 67,
    "start_time": "2021-08-08T14:27:43.503Z"
   },
   {
    "duration": 101,
    "start_time": "2021-08-08T14:28:32.042Z"
   },
   {
    "duration": 243,
    "start_time": "2021-08-08T14:28:40.597Z"
   },
   {
    "duration": 189,
    "start_time": "2021-08-08T14:28:40.842Z"
   },
   {
    "duration": 129,
    "start_time": "2021-08-08T14:28:41.034Z"
   },
   {
    "duration": 16,
    "start_time": "2021-08-08T14:28:41.166Z"
   },
   {
    "duration": 15,
    "start_time": "2021-08-08T14:28:41.184Z"
   },
   {
    "duration": 97,
    "start_time": "2021-08-08T14:28:41.203Z"
   },
   {
    "duration": 15,
    "start_time": "2021-08-08T14:28:41.302Z"
   },
   {
    "duration": 52,
    "start_time": "2021-08-08T14:28:41.321Z"
   },
   {
    "duration": 17,
    "start_time": "2021-08-08T14:28:41.376Z"
   },
   {
    "duration": 19,
    "start_time": "2021-08-08T14:28:41.395Z"
   },
   {
    "duration": 58,
    "start_time": "2021-08-08T14:28:41.417Z"
   },
   {
    "duration": 16,
    "start_time": "2021-08-08T14:28:41.478Z"
   },
   {
    "duration": 17,
    "start_time": "2021-08-08T14:28:41.497Z"
   },
   {
    "duration": 70,
    "start_time": "2021-08-08T14:28:41.517Z"
   },
   {
    "duration": 11,
    "start_time": "2021-08-08T14:28:41.590Z"
   },
   {
    "duration": 21,
    "start_time": "2021-08-08T14:28:41.603Z"
   },
   {
    "duration": 47,
    "start_time": "2021-08-08T14:28:41.627Z"
   },
   {
    "duration": 13,
    "start_time": "2021-08-08T14:28:41.677Z"
   },
   {
    "duration": 78,
    "start_time": "2021-08-08T14:28:41.692Z"
   },
   {
    "duration": 9,
    "start_time": "2021-08-08T14:28:41.773Z"
   },
   {
    "duration": 10,
    "start_time": "2021-08-08T14:28:41.785Z"
   },
   {
    "duration": 27,
    "start_time": "2021-08-08T14:28:41.797Z"
   },
   {
    "duration": 332,
    "start_time": "2021-08-08T14:28:41.830Z"
   },
   {
    "duration": 465,
    "start_time": "2021-08-08T14:28:42.165Z"
   },
   {
    "duration": 338,
    "start_time": "2021-08-08T14:28:42.632Z"
   },
   {
    "duration": 574,
    "start_time": "2021-08-08T14:28:42.973Z"
   },
   {
    "duration": 408,
    "start_time": "2021-08-08T14:28:43.549Z"
   },
   {
    "duration": 10,
    "start_time": "2021-08-08T14:28:43.962Z"
   },
   {
    "duration": 270,
    "start_time": "2021-08-08T14:28:43.976Z"
   },
   {
    "duration": 13,
    "start_time": "2021-08-08T14:28:44.248Z"
   },
   {
    "duration": 8,
    "start_time": "2021-08-08T14:28:44.264Z"
   },
   {
    "duration": 10,
    "start_time": "2021-08-08T14:28:44.274Z"
   },
   {
    "duration": 806,
    "start_time": "2021-08-08T14:28:44.286Z"
   },
   {
    "duration": 10,
    "start_time": "2021-08-08T14:28:45.094Z"
   },
   {
    "duration": 10,
    "start_time": "2021-08-08T14:28:45.106Z"
   },
   {
    "duration": 7,
    "start_time": "2021-08-08T14:28:45.119Z"
   },
   {
    "duration": 40,
    "start_time": "2021-08-08T14:28:45.128Z"
   },
   {
    "duration": 11,
    "start_time": "2021-08-08T14:28:45.171Z"
   },
   {
    "duration": 30,
    "start_time": "2021-08-08T14:28:45.185Z"
   },
   {
    "duration": 86,
    "start_time": "2021-08-08T14:28:45.218Z"
   },
   {
    "duration": 21,
    "start_time": "2021-08-08T14:28:45.307Z"
   },
   {
    "duration": 368,
    "start_time": "2021-08-08T14:28:45.331Z"
   },
   {
    "duration": 3055,
    "start_time": "2021-08-08T14:28:45.701Z"
   },
   {
    "duration": 86,
    "start_time": "2021-08-08T14:28:48.763Z"
   },
   {
    "duration": -1439,
    "start_time": "2021-08-08T14:28:50.290Z"
   },
   {
    "duration": 87,
    "start_time": "2021-08-08T14:28:57.319Z"
   },
   {
    "duration": 159,
    "start_time": "2021-08-08T14:29:11.822Z"
   },
   {
    "duration": 69,
    "start_time": "2021-08-08T14:29:17.580Z"
   },
   {
    "duration": 273,
    "start_time": "2021-08-08T14:29:31.729Z"
   },
   {
    "duration": 289,
    "start_time": "2021-08-08T14:30:20.504Z"
   },
   {
    "duration": 3192,
    "start_time": "2021-08-08T14:30:30.006Z"
   },
   {
    "duration": 243,
    "start_time": "2021-08-08T14:30:38.372Z"
   },
   {
    "duration": 3045,
    "start_time": "2021-08-08T14:31:32.732Z"
   },
   {
    "duration": 3512,
    "start_time": "2021-08-08T14:43:32.719Z"
   },
   {
    "duration": 6072,
    "start_time": "2021-08-08T15:08:21.232Z"
   },
   {
    "duration": 318,
    "start_time": "2021-08-08T15:08:50.388Z"
   },
   {
    "duration": 2549,
    "start_time": "2021-08-08T15:09:28.682Z"
   },
   {
    "duration": 3461,
    "start_time": "2021-08-08T15:09:57.224Z"
   },
   {
    "duration": 4796,
    "start_time": "2021-08-08T15:15:09.309Z"
   },
   {
    "duration": 6508,
    "start_time": "2021-08-08T15:54:11.179Z"
   },
   {
    "duration": 6917,
    "start_time": "2021-08-08T15:55:27.214Z"
   },
   {
    "duration": 6261,
    "start_time": "2021-08-08T15:56:17.475Z"
   },
   {
    "duration": 189,
    "start_time": "2021-08-08T15:56:35.812Z"
   },
   {
    "duration": 224,
    "start_time": "2021-08-08T15:56:36.003Z"
   },
   {
    "duration": 117,
    "start_time": "2021-08-08T15:56:36.230Z"
   },
   {
    "duration": 28,
    "start_time": "2021-08-08T15:56:36.350Z"
   },
   {
    "duration": 17,
    "start_time": "2021-08-08T15:56:36.381Z"
   },
   {
    "duration": 113,
    "start_time": "2021-08-08T15:56:36.401Z"
   },
   {
    "duration": 16,
    "start_time": "2021-08-08T15:56:36.516Z"
   },
   {
    "duration": 44,
    "start_time": "2021-08-08T15:56:36.536Z"
   },
   {
    "duration": 16,
    "start_time": "2021-08-08T15:56:36.583Z"
   },
   {
    "duration": 24,
    "start_time": "2021-08-08T15:56:36.601Z"
   },
   {
    "duration": 51,
    "start_time": "2021-08-08T15:56:36.627Z"
   },
   {
    "duration": 17,
    "start_time": "2021-08-08T15:56:36.680Z"
   },
   {
    "duration": 19,
    "start_time": "2021-08-08T15:56:36.699Z"
   },
   {
    "duration": 77,
    "start_time": "2021-08-08T15:56:36.720Z"
   },
   {
    "duration": 11,
    "start_time": "2021-08-08T15:56:36.799Z"
   },
   {
    "duration": 52,
    "start_time": "2021-08-08T15:56:36.813Z"
   },
   {
    "duration": 13,
    "start_time": "2021-08-08T15:56:36.868Z"
   },
   {
    "duration": 24,
    "start_time": "2021-08-08T15:56:36.884Z"
   },
   {
    "duration": 70,
    "start_time": "2021-08-08T15:56:36.910Z"
   },
   {
    "duration": 8,
    "start_time": "2021-08-08T15:56:36.983Z"
   },
   {
    "duration": 8,
    "start_time": "2021-08-08T15:56:36.995Z"
   },
   {
    "duration": 9,
    "start_time": "2021-08-08T15:56:37.005Z"
   },
   {
    "duration": 314,
    "start_time": "2021-08-08T15:56:37.065Z"
   },
   {
    "duration": 443,
    "start_time": "2021-08-08T15:56:37.381Z"
   },
   {
    "duration": 352,
    "start_time": "2021-08-08T15:56:37.827Z"
   },
   {
    "duration": 742,
    "start_time": "2021-08-08T15:56:38.182Z"
   },
   {
    "duration": 287,
    "start_time": "2021-08-08T15:56:38.927Z"
   },
   {
    "duration": 11,
    "start_time": "2021-08-08T15:56:39.217Z"
   },
   {
    "duration": 288,
    "start_time": "2021-08-08T15:56:39.230Z"
   },
   {
    "duration": 7,
    "start_time": "2021-08-08T15:56:39.521Z"
   },
   {
    "duration": 31,
    "start_time": "2021-08-08T15:56:39.531Z"
   },
   {
    "duration": 7,
    "start_time": "2021-08-08T15:56:39.564Z"
   },
   {
    "duration": 933,
    "start_time": "2021-08-08T15:56:39.574Z"
   },
   {
    "duration": 9,
    "start_time": "2021-08-08T15:56:40.510Z"
   },
   {
    "duration": 11,
    "start_time": "2021-08-08T15:56:40.521Z"
   },
   {
    "duration": 7,
    "start_time": "2021-08-08T15:56:40.562Z"
   },
   {
    "duration": 12,
    "start_time": "2021-08-08T15:56:40.571Z"
   },
   {
    "duration": 14,
    "start_time": "2021-08-08T15:56:40.585Z"
   },
   {
    "duration": 69,
    "start_time": "2021-08-08T15:56:40.601Z"
   },
   {
    "duration": 49,
    "start_time": "2021-08-08T15:56:40.673Z"
   },
   {
    "duration": 45,
    "start_time": "2021-08-08T15:56:40.724Z"
   },
   {
    "duration": 338,
    "start_time": "2021-08-08T15:56:40.771Z"
   },
   {
    "duration": 4060,
    "start_time": "2021-08-08T15:56:41.112Z"
   },
   {
    "duration": 4278,
    "start_time": "2021-08-08T15:56:45.174Z"
   },
   {
    "duration": 7,
    "start_time": "2021-08-08T15:57:29.708Z"
   },
   {
    "duration": 8,
    "start_time": "2021-08-08T15:59:44.530Z"
   },
   {
    "duration": 9,
    "start_time": "2021-08-08T16:04:46.924Z"
   },
   {
    "duration": 99,
    "start_time": "2021-08-09T18:19:44.975Z"
   },
   {
    "duration": 296,
    "start_time": "2021-08-09T19:10:43.437Z"
   },
   {
    "duration": 829,
    "start_time": "2021-08-09T19:10:51.297Z"
   },
   {
    "duration": 313,
    "start_time": "2021-08-09T19:10:52.128Z"
   },
   {
    "duration": 66,
    "start_time": "2021-08-09T19:10:52.444Z"
   },
   {
    "duration": 29,
    "start_time": "2021-08-09T19:10:52.512Z"
   },
   {
    "duration": 8,
    "start_time": "2021-08-09T19:10:52.542Z"
   },
   {
    "duration": 28,
    "start_time": "2021-08-09T19:10:52.552Z"
   },
   {
    "duration": 10,
    "start_time": "2021-08-09T19:10:52.581Z"
   },
   {
    "duration": 13,
    "start_time": "2021-08-09T19:10:52.593Z"
   },
   {
    "duration": 40,
    "start_time": "2021-08-09T19:10:52.608Z"
   },
   {
    "duration": 12,
    "start_time": "2021-08-09T19:10:52.650Z"
   },
   {
    "duration": 11,
    "start_time": "2021-08-09T19:10:52.664Z"
   },
   {
    "duration": 13,
    "start_time": "2021-08-09T19:10:52.676Z"
   },
   {
    "duration": 11,
    "start_time": "2021-08-09T19:10:52.691Z"
   },
   {
    "duration": 58,
    "start_time": "2021-08-09T19:10:52.703Z"
   },
   {
    "duration": 7,
    "start_time": "2021-08-09T19:10:52.764Z"
   },
   {
    "duration": 13,
    "start_time": "2021-08-09T19:10:52.773Z"
   },
   {
    "duration": 9,
    "start_time": "2021-08-09T19:10:52.788Z"
   },
   {
    "duration": 9,
    "start_time": "2021-08-09T19:10:52.799Z"
   },
   {
    "duration": 62,
    "start_time": "2021-08-09T19:10:52.809Z"
   },
   {
    "duration": 6,
    "start_time": "2021-08-09T19:10:52.872Z"
   },
   {
    "duration": 8,
    "start_time": "2021-08-09T19:10:52.879Z"
   },
   {
    "duration": 8,
    "start_time": "2021-08-09T19:10:52.889Z"
   },
   {
    "duration": 252,
    "start_time": "2021-08-09T19:10:52.901Z"
   },
   {
    "duration": 241,
    "start_time": "2021-08-09T19:10:53.155Z"
   },
   {
    "duration": 191,
    "start_time": "2021-08-09T19:10:53.398Z"
   },
   {
    "duration": 362,
    "start_time": "2021-08-09T19:10:53.591Z"
   },
   {
    "duration": 168,
    "start_time": "2021-08-09T19:10:53.954Z"
   },
   {
    "duration": 8,
    "start_time": "2021-08-09T19:10:54.123Z"
   },
   {
    "duration": 157,
    "start_time": "2021-08-09T19:10:54.141Z"
   },
   {
    "duration": 5,
    "start_time": "2021-08-09T19:10:54.299Z"
   },
   {
    "duration": 15,
    "start_time": "2021-08-09T19:10:54.305Z"
   },
   {
    "duration": 11,
    "start_time": "2021-08-09T19:10:54.321Z"
   },
   {
    "duration": 14,
    "start_time": "2021-08-09T19:10:54.333Z"
   },
   {
    "duration": 22,
    "start_time": "2021-08-09T19:10:54.348Z"
   },
   {
    "duration": 10,
    "start_time": "2021-08-09T19:10:54.372Z"
   },
   {
    "duration": 13,
    "start_time": "2021-08-09T19:10:54.384Z"
   },
   {
    "duration": 20,
    "start_time": "2021-08-09T19:10:54.399Z"
   },
   {
    "duration": 20,
    "start_time": "2021-08-09T19:10:54.420Z"
   },
   {
    "duration": 32,
    "start_time": "2021-08-09T19:10:54.442Z"
   },
   {
    "duration": 15,
    "start_time": "2021-08-09T19:10:54.476Z"
   },
   {
    "duration": 201,
    "start_time": "2021-08-09T19:10:54.493Z"
   },
   {
    "duration": 1954,
    "start_time": "2021-08-09T19:10:54.696Z"
   },
   {
    "duration": 2523,
    "start_time": "2021-08-09T19:10:56.651Z"
   },
   {
    "duration": 311,
    "start_time": "2021-08-09T19:11:24.630Z"
   },
   {
    "duration": 307,
    "start_time": "2021-08-09T19:11:30.705Z"
   },
   {
    "duration": 292,
    "start_time": "2021-08-09T19:12:07.996Z"
   },
   {
    "duration": 42,
    "start_time": "2021-08-09T19:29:49.649Z"
   },
   {
    "duration": 2529,
    "start_time": "2021-08-09T19:38:50.541Z"
   },
   {
    "duration": 776,
    "start_time": "2021-08-10T07:15:58.404Z"
   },
   {
    "duration": 266,
    "start_time": "2021-08-10T07:15:59.181Z"
   },
   {
    "duration": 61,
    "start_time": "2021-08-10T07:15:59.449Z"
   },
   {
    "duration": 10,
    "start_time": "2021-08-10T07:15:59.512Z"
   },
   {
    "duration": 13,
    "start_time": "2021-08-10T07:15:59.541Z"
   },
   {
    "duration": 44,
    "start_time": "2021-08-10T07:15:59.556Z"
   },
   {
    "duration": 16,
    "start_time": "2021-08-10T07:15:59.603Z"
   },
   {
    "duration": 32,
    "start_time": "2021-08-10T07:15:59.622Z"
   },
   {
    "duration": 20,
    "start_time": "2021-08-10T07:15:59.656Z"
   },
   {
    "duration": 26,
    "start_time": "2021-08-10T07:15:59.678Z"
   },
   {
    "duration": 22,
    "start_time": "2021-08-10T07:15:59.706Z"
   },
   {
    "duration": 30,
    "start_time": "2021-08-10T07:15:59.730Z"
   },
   {
    "duration": 26,
    "start_time": "2021-08-10T07:15:59.762Z"
   },
   {
    "duration": 53,
    "start_time": "2021-08-10T07:15:59.790Z"
   },
   {
    "duration": 14,
    "start_time": "2021-08-10T07:15:59.845Z"
   },
   {
    "duration": 28,
    "start_time": "2021-08-10T07:15:59.862Z"
   },
   {
    "duration": 9,
    "start_time": "2021-08-10T07:15:59.894Z"
   },
   {
    "duration": 15,
    "start_time": "2021-08-10T07:15:59.905Z"
   },
   {
    "duration": 33,
    "start_time": "2021-08-10T07:15:59.922Z"
   },
   {
    "duration": 7,
    "start_time": "2021-08-10T07:15:59.957Z"
   },
   {
    "duration": 7,
    "start_time": "2021-08-10T07:15:59.966Z"
   },
   {
    "duration": 7,
    "start_time": "2021-08-10T07:15:59.975Z"
   },
   {
    "duration": 255,
    "start_time": "2021-08-10T07:15:59.986Z"
   },
   {
    "duration": 244,
    "start_time": "2021-08-10T07:16:00.243Z"
   },
   {
    "duration": 192,
    "start_time": "2021-08-10T07:16:00.489Z"
   },
   {
    "duration": 333,
    "start_time": "2021-08-10T07:16:00.682Z"
   },
   {
    "duration": 155,
    "start_time": "2021-08-10T07:16:01.016Z"
   },
   {
    "duration": 8,
    "start_time": "2021-08-10T07:16:01.173Z"
   },
   {
    "duration": 148,
    "start_time": "2021-08-10T07:16:01.182Z"
   },
   {
    "duration": 47,
    "start_time": "2021-08-10T07:16:01.331Z"
   },
   {
    "duration": 5,
    "start_time": "2021-08-10T07:16:01.380Z"
   },
   {
    "duration": 17,
    "start_time": "2021-08-10T07:16:01.386Z"
   },
   {
    "duration": 7,
    "start_time": "2021-08-10T07:16:01.405Z"
   },
   {
    "duration": 22,
    "start_time": "2021-08-10T07:16:01.413Z"
   },
   {
    "duration": 15,
    "start_time": "2021-08-10T07:16:01.437Z"
   },
   {
    "duration": 14,
    "start_time": "2021-08-10T07:16:01.453Z"
   },
   {
    "duration": 12,
    "start_time": "2021-08-10T07:16:01.468Z"
   },
   {
    "duration": 10,
    "start_time": "2021-08-10T07:16:01.481Z"
   },
   {
    "duration": 20,
    "start_time": "2021-08-10T07:16:01.492Z"
   },
   {
    "duration": 34,
    "start_time": "2021-08-10T07:16:01.513Z"
   },
   {
    "duration": 15,
    "start_time": "2021-08-10T07:16:01.549Z"
   },
   {
    "duration": 204,
    "start_time": "2021-08-10T07:16:01.565Z"
   },
   {
    "duration": 1790,
    "start_time": "2021-08-10T07:16:01.771Z"
   },
   {
    "duration": 2118,
    "start_time": "2021-08-10T07:16:03.563Z"
   },
   {
    "duration": 8,
    "start_time": "2021-08-10T07:56:42.391Z"
   },
   {
    "duration": 322,
    "start_time": "2021-08-13T16:52:36.461Z"
   },
   {
    "duration": 1005,
    "start_time": "2021-08-13T16:52:43.192Z"
   },
   {
    "duration": 357,
    "start_time": "2021-08-13T16:52:44.200Z"
   },
   {
    "duration": 164,
    "start_time": "2021-08-13T16:52:44.564Z"
   },
   {
    "duration": 325,
    "start_time": "2021-08-13T16:52:44.731Z"
   },
   {
    "duration": -9796,
    "start_time": "2021-08-13T16:52:54.858Z"
   },
   {
    "duration": -9804,
    "start_time": "2021-08-13T16:52:54.870Z"
   },
   {
    "duration": -9807,
    "start_time": "2021-08-13T16:52:54.875Z"
   },
   {
    "duration": -9810,
    "start_time": "2021-08-13T16:52:54.881Z"
   },
   {
    "duration": -9817,
    "start_time": "2021-08-13T16:52:54.890Z"
   },
   {
    "duration": -9823,
    "start_time": "2021-08-13T16:52:54.898Z"
   },
   {
    "duration": -9828,
    "start_time": "2021-08-13T16:52:54.905Z"
   },
   {
    "duration": -9833,
    "start_time": "2021-08-13T16:52:54.913Z"
   },
   {
    "duration": -9839,
    "start_time": "2021-08-13T16:52:54.921Z"
   },
   {
    "duration": -9845,
    "start_time": "2021-08-13T16:52:54.929Z"
   },
   {
    "duration": -9851,
    "start_time": "2021-08-13T16:52:54.937Z"
   },
   {
    "duration": -9857,
    "start_time": "2021-08-13T16:52:54.945Z"
   },
   {
    "duration": -9863,
    "start_time": "2021-08-13T16:52:54.954Z"
   },
   {
    "duration": -9868,
    "start_time": "2021-08-13T16:52:54.961Z"
   },
   {
    "duration": -9872,
    "start_time": "2021-08-13T16:52:54.967Z"
   },
   {
    "duration": -9892,
    "start_time": "2021-08-13T16:52:54.989Z"
   },
   {
    "duration": -9898,
    "start_time": "2021-08-13T16:52:54.998Z"
   },
   {
    "duration": -9903,
    "start_time": "2021-08-13T16:52:55.005Z"
   },
   {
    "duration": -9907,
    "start_time": "2021-08-13T16:52:55.011Z"
   },
   {
    "duration": -9854,
    "start_time": "2021-08-13T16:52:55.016Z"
   },
   {
    "duration": -9856,
    "start_time": "2021-08-13T16:52:55.020Z"
   },
   {
    "duration": -9860,
    "start_time": "2021-08-13T16:52:55.027Z"
   },
   {
    "duration": -9862,
    "start_time": "2021-08-13T16:52:55.031Z"
   },
   {
    "duration": -9866,
    "start_time": "2021-08-13T16:52:55.037Z"
   },
   {
    "duration": -9869,
    "start_time": "2021-08-13T16:52:55.042Z"
   },
   {
    "duration": -9872,
    "start_time": "2021-08-13T16:52:55.047Z"
   },
   {
    "duration": -9875,
    "start_time": "2021-08-13T16:52:55.052Z"
   },
   {
    "duration": -9876,
    "start_time": "2021-08-13T16:52:55.056Z"
   },
   {
    "duration": -9879,
    "start_time": "2021-08-13T16:52:55.061Z"
   },
   {
    "duration": -9881,
    "start_time": "2021-08-13T16:52:55.065Z"
   },
   {
    "duration": -9885,
    "start_time": "2021-08-13T16:52:55.071Z"
   },
   {
    "duration": -9886,
    "start_time": "2021-08-13T16:52:55.075Z"
   },
   {
    "duration": -9890,
    "start_time": "2021-08-13T16:52:55.081Z"
   },
   {
    "duration": -9899,
    "start_time": "2021-08-13T16:52:55.092Z"
   },
   {
    "duration": -9902,
    "start_time": "2021-08-13T16:52:55.097Z"
   },
   {
    "duration": -9906,
    "start_time": "2021-08-13T16:52:55.104Z"
   },
   {
    "duration": -9910,
    "start_time": "2021-08-13T16:52:55.110Z"
   },
   {
    "duration": -9913,
    "start_time": "2021-08-13T16:52:55.115Z"
   },
   {
    "duration": -9859,
    "start_time": "2021-08-13T16:52:55.121Z"
   },
   {
    "duration": -9863,
    "start_time": "2021-08-13T16:52:55.127Z"
   },
   {
    "duration": -9865,
    "start_time": "2021-08-13T16:52:55.132Z"
   },
   {
    "duration": 300,
    "start_time": "2021-08-13T16:53:08.412Z"
   },
   {
    "duration": 106,
    "start_time": "2021-08-13T16:53:56.807Z"
   },
   {
    "duration": 106,
    "start_time": "2021-08-13T16:54:07.770Z"
   },
   {
    "duration": 297,
    "start_time": "2021-08-13T16:56:12.777Z"
   },
   {
    "duration": 246,
    "start_time": "2021-08-13T16:56:36.122Z"
   },
   {
    "duration": 324,
    "start_time": "2021-08-13T16:57:53.187Z"
   },
   {
    "duration": 137,
    "start_time": "2021-08-13T16:58:03.255Z"
   },
   {
    "duration": 250,
    "start_time": "2021-08-13T17:02:17.649Z"
   },
   {
    "duration": 12,
    "start_time": "2021-08-13T17:02:24.801Z"
   },
   {
    "duration": 13,
    "start_time": "2021-08-13T17:02:34.723Z"
   },
   {
    "duration": 765,
    "start_time": "2021-08-13T17:02:42.231Z"
   },
   {
    "duration": 319,
    "start_time": "2021-08-13T17:02:54.787Z"
   },
   {
    "duration": 23,
    "start_time": "2021-08-13T17:03:06.079Z"
   },
   {
    "duration": 6735,
    "start_time": "2021-08-13T17:31:56.866Z"
   },
   {
    "duration": 13,
    "start_time": "2021-08-13T17:32:13.876Z"
   },
   {
    "duration": 305,
    "start_time": "2021-08-13T17:32:32.807Z"
   },
   {
    "duration": 311,
    "start_time": "2021-08-13T17:32:47.871Z"
   },
   {
    "duration": 9,
    "start_time": "2021-08-13T17:32:56.790Z"
   },
   {
    "duration": 12,
    "start_time": "2021-08-13T17:34:40.111Z"
   },
   {
    "duration": 11,
    "start_time": "2021-08-13T17:34:49.669Z"
   },
   {
    "duration": 12,
    "start_time": "2021-08-13T17:35:10.940Z"
   },
   {
    "duration": 12,
    "start_time": "2021-08-13T17:35:28.396Z"
   },
   {
    "duration": 29,
    "start_time": "2021-08-13T17:38:24.253Z"
   },
   {
    "duration": 80,
    "start_time": "2021-08-13T17:46:44.179Z"
   },
   {
    "duration": 254,
    "start_time": "2021-08-13T17:46:51.099Z"
   },
   {
    "duration": 251,
    "start_time": "2021-08-13T17:46:59.446Z"
   },
   {
    "duration": 299,
    "start_time": "2021-08-13T17:52:05.537Z"
   },
   {
    "duration": 124,
    "start_time": "2021-08-13T18:07:10.684Z"
   },
   {
    "duration": 82,
    "start_time": "2021-08-13T18:12:16.950Z"
   },
   {
    "duration": 61,
    "start_time": "2021-08-13T18:12:35.875Z"
   },
   {
    "duration": 64,
    "start_time": "2021-08-13T18:13:24.479Z"
   },
   {
    "duration": 61,
    "start_time": "2021-08-13T18:13:40.983Z"
   },
   {
    "duration": 299,
    "start_time": "2021-08-13T18:14:00.839Z"
   },
   {
    "duration": 313,
    "start_time": "2021-08-13T18:14:53.333Z"
   },
   {
    "duration": 191,
    "start_time": "2021-08-13T18:29:04.191Z"
   },
   {
    "duration": 256,
    "start_time": "2021-08-13T18:29:04.384Z"
   },
   {
    "duration": 175,
    "start_time": "2021-08-13T18:29:04.643Z"
   },
   {
    "duration": 42,
    "start_time": "2021-08-13T18:29:04.820Z"
   },
   {
    "duration": 11,
    "start_time": "2021-08-13T18:29:04.865Z"
   },
   {
    "duration": 13,
    "start_time": "2021-08-13T18:29:04.879Z"
   },
   {
    "duration": 12,
    "start_time": "2021-08-13T18:29:04.895Z"
   },
   {
    "duration": 78,
    "start_time": "2021-08-13T18:29:04.910Z"
   },
   {
    "duration": 23,
    "start_time": "2021-08-13T18:29:04.990Z"
   },
   {
    "duration": 76,
    "start_time": "2021-08-13T18:29:05.015Z"
   },
   {
    "duration": 16,
    "start_time": "2021-08-13T18:29:05.094Z"
   },
   {
    "duration": 51,
    "start_time": "2021-08-13T18:29:05.113Z"
   },
   {
    "duration": 16,
    "start_time": "2021-08-13T18:29:05.167Z"
   },
   {
    "duration": 21,
    "start_time": "2021-08-13T18:29:05.185Z"
   },
   {
    "duration": 62,
    "start_time": "2021-08-13T18:29:05.209Z"
   },
   {
    "duration": 25,
    "start_time": "2021-08-13T18:29:05.274Z"
   },
   {
    "duration": 23,
    "start_time": "2021-08-13T18:29:05.302Z"
   },
   {
    "duration": 76,
    "start_time": "2021-08-13T18:29:05.327Z"
   },
   {
    "duration": 11,
    "start_time": "2021-08-13T18:29:05.408Z"
   },
   {
    "duration": 44,
    "start_time": "2021-08-13T18:29:05.423Z"
   },
   {
    "duration": 13,
    "start_time": "2021-08-13T18:29:05.470Z"
   },
   {
    "duration": 13,
    "start_time": "2021-08-13T18:29:05.485Z"
   },
   {
    "duration": 78,
    "start_time": "2021-08-13T18:29:05.500Z"
   },
   {
    "duration": 8,
    "start_time": "2021-08-13T18:29:05.581Z"
   },
   {
    "duration": 15,
    "start_time": "2021-08-13T18:29:05.591Z"
   },
   {
    "duration": 10,
    "start_time": "2021-08-13T18:29:05.609Z"
   },
   {
    "duration": 321,
    "start_time": "2021-08-13T18:29:05.622Z"
   },
   {
    "duration": 431,
    "start_time": "2021-08-13T18:29:05.947Z"
   },
   {
    "duration": 326,
    "start_time": "2021-08-13T18:29:06.381Z"
   },
   {
    "duration": 549,
    "start_time": "2021-08-13T18:29:06.710Z"
   },
   {
    "duration": 280,
    "start_time": "2021-08-13T18:29:07.262Z"
   },
   {
    "duration": 20,
    "start_time": "2021-08-13T18:29:07.544Z"
   },
   {
    "duration": 266,
    "start_time": "2021-08-13T18:29:07.566Z"
   },
   {
    "duration": 80,
    "start_time": "2021-08-13T18:29:07.834Z"
   },
   {
    "duration": 6,
    "start_time": "2021-08-13T18:29:07.917Z"
   },
   {
    "duration": 24,
    "start_time": "2021-08-13T18:29:07.925Z"
   },
   {
    "duration": 15,
    "start_time": "2021-08-13T18:29:07.951Z"
   },
   {
    "duration": 12,
    "start_time": "2021-08-13T18:29:07.968Z"
   },
   {
    "duration": 7,
    "start_time": "2021-08-13T18:29:07.982Z"
   },
   {
    "duration": 7,
    "start_time": "2021-08-13T18:29:07.991Z"
   },
   {
    "duration": 7,
    "start_time": "2021-08-13T18:29:08.001Z"
   },
   {
    "duration": 58,
    "start_time": "2021-08-13T18:29:08.011Z"
   },
   {
    "duration": 32,
    "start_time": "2021-08-13T18:29:08.071Z"
   },
   {
    "duration": 75,
    "start_time": "2021-08-13T18:29:08.105Z"
   },
   {
    "duration": 21,
    "start_time": "2021-08-13T18:29:08.183Z"
   },
   {
    "duration": 324,
    "start_time": "2021-08-13T18:29:08.206Z"
   },
   {
    "duration": 3301,
    "start_time": "2021-08-13T18:29:08.532Z"
   },
   {
    "duration": 3510,
    "start_time": "2021-08-13T18:29:11.835Z"
   },
   {
    "duration": 292,
    "start_time": "2021-08-13T18:29:15.348Z"
   },
   {
    "duration": 3686,
    "start_time": "2021-08-13T18:29:46.631Z"
   },
   {
    "duration": 3540,
    "start_time": "2021-08-13T18:30:00.079Z"
   },
   {
    "duration": 318,
    "start_time": "2021-08-13T18:32:56.396Z"
   },
   {
    "duration": 307,
    "start_time": "2021-08-13T18:33:25.984Z"
   },
   {
    "duration": 420,
    "start_time": "2021-08-13T18:35:37.263Z"
   },
   {
    "duration": 3482,
    "start_time": "2021-08-13T18:44:37.196Z"
   },
   {
    "duration": 4381,
    "start_time": "2021-08-13T18:44:52.830Z"
   },
   {
    "duration": 3568,
    "start_time": "2021-08-13T18:46:08.420Z"
   },
   {
    "duration": 3247,
    "start_time": "2021-08-13T18:46:21.490Z"
   },
   {
    "duration": 3266,
    "start_time": "2021-08-13T18:46:46.932Z"
   },
   {
    "duration": 43,
    "start_time": "2021-08-13T19:00:52.243Z"
   },
   {
    "duration": 44,
    "start_time": "2021-08-13T19:01:10.005Z"
   },
   {
    "duration": 108,
    "start_time": "2021-08-13T19:03:20.872Z"
   },
   {
    "duration": 640,
    "start_time": "2021-08-14T07:08:21.225Z"
   },
   {
    "duration": 775,
    "start_time": "2021-08-14T07:12:16.504Z"
   },
   {
    "duration": 243,
    "start_time": "2021-08-14T07:12:17.282Z"
   },
   {
    "duration": 141,
    "start_time": "2021-08-14T07:12:17.528Z"
   },
   {
    "duration": 14,
    "start_time": "2021-08-14T07:12:17.672Z"
   },
   {
    "duration": 13,
    "start_time": "2021-08-14T07:12:17.701Z"
   },
   {
    "duration": 19,
    "start_time": "2021-08-14T07:12:17.717Z"
   },
   {
    "duration": 14,
    "start_time": "2021-08-14T07:12:17.739Z"
   },
   {
    "duration": 760,
    "start_time": "2021-08-14T07:12:17.758Z"
   },
   {
    "duration": 22,
    "start_time": "2021-08-14T07:12:18.521Z"
   },
   {
    "duration": 64,
    "start_time": "2021-08-14T07:12:18.545Z"
   },
   {
    "duration": 16,
    "start_time": "2021-08-14T07:12:18.611Z"
   },
   {
    "duration": 32,
    "start_time": "2021-08-14T07:12:18.629Z"
   },
   {
    "duration": 17,
    "start_time": "2021-08-14T07:12:18.663Z"
   },
   {
    "duration": 31,
    "start_time": "2021-08-14T07:12:18.683Z"
   },
   {
    "duration": 21,
    "start_time": "2021-08-14T07:12:18.717Z"
   },
   {
    "duration": 21,
    "start_time": "2021-08-14T07:12:18.741Z"
   },
   {
    "duration": 40,
    "start_time": "2021-08-14T07:12:18.764Z"
   },
   {
    "duration": 40,
    "start_time": "2021-08-14T07:12:18.807Z"
   },
   {
    "duration": 10,
    "start_time": "2021-08-14T07:12:18.850Z"
   },
   {
    "duration": 53,
    "start_time": "2021-08-14T07:12:18.863Z"
   },
   {
    "duration": 12,
    "start_time": "2021-08-14T07:12:18.919Z"
   },
   {
    "duration": 14,
    "start_time": "2021-08-14T07:12:18.934Z"
   },
   {
    "duration": 78,
    "start_time": "2021-08-14T07:12:18.953Z"
   },
   {
    "duration": 9,
    "start_time": "2021-08-14T07:12:19.034Z"
   },
   {
    "duration": 8,
    "start_time": "2021-08-14T07:12:19.046Z"
   },
   {
    "duration": 8,
    "start_time": "2021-08-14T07:12:19.057Z"
   },
   {
    "duration": 322,
    "start_time": "2021-08-14T07:12:19.068Z"
   },
   {
    "duration": 598,
    "start_time": "2021-08-14T07:12:19.392Z"
   },
   {
    "duration": 330,
    "start_time": "2021-08-14T07:12:19.992Z"
   },
   {
    "duration": 543,
    "start_time": "2021-08-14T07:12:20.325Z"
   },
   {
    "duration": 269,
    "start_time": "2021-08-14T07:12:20.870Z"
   },
   {
    "duration": 11,
    "start_time": "2021-08-14T07:12:21.141Z"
   },
   {
    "duration": 282,
    "start_time": "2021-08-14T07:12:21.155Z"
   },
   {
    "duration": 82,
    "start_time": "2021-08-14T07:12:21.440Z"
   },
   {
    "duration": 8,
    "start_time": "2021-08-14T07:12:21.526Z"
   },
   {
    "duration": 10,
    "start_time": "2021-08-14T07:12:21.537Z"
   },
   {
    "duration": 9,
    "start_time": "2021-08-14T07:12:21.550Z"
   },
   {
    "duration": 44,
    "start_time": "2021-08-14T07:12:21.562Z"
   },
   {
    "duration": 17,
    "start_time": "2021-08-14T07:12:21.609Z"
   },
   {
    "duration": 13,
    "start_time": "2021-08-14T07:12:21.629Z"
   },
   {
    "duration": 19,
    "start_time": "2021-08-14T07:12:21.645Z"
   },
   {
    "duration": 36,
    "start_time": "2021-08-14T07:12:21.666Z"
   },
   {
    "duration": 30,
    "start_time": "2021-08-14T07:12:21.705Z"
   },
   {
    "duration": 73,
    "start_time": "2021-08-14T07:12:21.738Z"
   },
   {
    "duration": 23,
    "start_time": "2021-08-14T07:12:21.814Z"
   },
   {
    "duration": 334,
    "start_time": "2021-08-14T07:12:21.839Z"
   },
   {
    "duration": 3397,
    "start_time": "2021-08-14T07:12:22.175Z"
   },
   {
    "duration": 8,
    "start_time": "2021-08-14T07:12:25.576Z"
   },
   {
    "duration": 3362,
    "start_time": "2021-08-14T07:12:25.586Z"
   },
   {
    "duration": 434,
    "start_time": "2021-08-14T07:12:28.950Z"
   },
   {
    "duration": -10421,
    "start_time": "2021-08-14T07:12:39.808Z"
   },
   {
    "duration": 67,
    "start_time": "2021-08-14T07:13:02.995Z"
   },
   {
    "duration": 29,
    "start_time": "2021-08-14T07:13:57.792Z"
   },
   {
    "duration": 10,
    "start_time": "2021-08-14T07:15:17.627Z"
   },
   {
    "duration": 11,
    "start_time": "2021-08-14T07:15:42.775Z"
   },
   {
    "duration": 11,
    "start_time": "2021-08-14T07:15:59.250Z"
   },
   {
    "duration": 11,
    "start_time": "2021-08-14T07:20:47.512Z"
   },
   {
    "duration": 12,
    "start_time": "2021-08-14T07:21:26.407Z"
   },
   {
    "duration": 12,
    "start_time": "2021-08-14T07:22:03.984Z"
   },
   {
    "duration": 217,
    "start_time": "2021-08-14T07:22:56.040Z"
   },
   {
    "duration": 13,
    "start_time": "2021-08-14T07:23:51.435Z"
   },
   {
    "duration": 207,
    "start_time": "2021-08-14T07:24:27.962Z"
   },
   {
    "duration": 309,
    "start_time": "2021-08-14T07:25:26.734Z"
   },
   {
    "duration": 12,
    "start_time": "2021-08-14T07:47:31.922Z"
   },
   {
    "duration": 224,
    "start_time": "2021-08-14T07:48:16.644Z"
   },
   {
    "duration": 314,
    "start_time": "2021-08-14T08:02:18.128Z"
   },
   {
    "duration": 563,
    "start_time": "2021-08-14T08:02:37.976Z"
   },
   {
    "duration": 307,
    "start_time": "2021-08-14T08:02:51.348Z"
   },
   {
    "duration": 272,
    "start_time": "2021-08-14T08:45:50.061Z"
   },
   {
    "duration": 12,
    "start_time": "2021-08-14T08:46:29.870Z"
   },
   {
    "duration": 14,
    "start_time": "2021-08-14T08:46:48.112Z"
   },
   {
    "duration": 1400,
    "start_time": "2021-08-14T08:52:19.287Z"
   },
   {
    "duration": 296,
    "start_time": "2021-08-14T09:46:15.504Z"
   },
   {
    "duration": 298,
    "start_time": "2021-08-14T09:46:47.708Z"
   },
   {
    "duration": 584,
    "start_time": "2021-08-14T09:56:38.824Z"
   },
   {
    "duration": 897,
    "start_time": "2021-08-14T09:57:37.776Z"
   },
   {
    "duration": 289,
    "start_time": "2021-08-14T09:59:35.028Z"
   },
   {
    "duration": 309,
    "start_time": "2021-08-14T10:00:04.407Z"
   },
   {
    "duration": 298,
    "start_time": "2021-08-14T10:00:18.347Z"
   },
   {
    "duration": 408,
    "start_time": "2021-08-14T10:00:28.582Z"
   },
   {
    "duration": 552,
    "start_time": "2021-08-14T10:00:41.874Z"
   },
   {
    "duration": 231,
    "start_time": "2021-08-14T10:01:01.246Z"
   },
   {
    "duration": 374,
    "start_time": "2021-08-14T10:01:20.984Z"
   },
   {
    "duration": 327,
    "start_time": "2021-08-14T10:01:39.567Z"
   },
   {
    "duration": 325,
    "start_time": "2021-08-14T10:02:38.398Z"
   },
   {
    "duration": 289,
    "start_time": "2021-08-14T10:02:49.229Z"
   },
   {
    "duration": 302,
    "start_time": "2021-08-14T10:03:25.322Z"
   },
   {
    "duration": 303,
    "start_time": "2021-08-14T10:03:34.630Z"
   },
   {
    "duration": 320,
    "start_time": "2021-08-14T10:03:45.083Z"
   },
   {
    "duration": 280,
    "start_time": "2021-08-14T10:05:49.435Z"
   },
   {
    "duration": 244,
    "start_time": "2021-08-14T10:06:52.429Z"
   },
   {
    "duration": 358,
    "start_time": "2021-08-14T10:12:42.088Z"
   },
   {
    "duration": 561,
    "start_time": "2021-08-14T10:13:57.092Z"
   },
   {
    "duration": 170,
    "start_time": "2021-08-14T10:14:46.178Z"
   },
   {
    "duration": 110,
    "start_time": "2021-08-14T10:14:59.426Z"
   },
   {
    "duration": 7,
    "start_time": "2021-08-14T10:15:39.818Z"
   },
   {
    "duration": 6,
    "start_time": "2021-08-14T10:15:43.531Z"
   },
   {
    "duration": 1064,
    "start_time": "2021-08-14T10:33:46.027Z"
   },
   {
    "duration": 415,
    "start_time": "2021-08-14T10:35:25.172Z"
   },
   {
    "duration": 404,
    "start_time": "2021-08-14T10:36:22.978Z"
   },
   {
    "duration": 451,
    "start_time": "2021-08-14T10:37:14.661Z"
   },
   {
    "duration": 405,
    "start_time": "2021-08-14T10:37:30.716Z"
   },
   {
    "duration": 373,
    "start_time": "2021-08-14T10:38:13.285Z"
   },
   {
    "duration": 277,
    "start_time": "2021-08-14T10:38:32.118Z"
   },
   {
    "duration": 395,
    "start_time": "2021-08-14T10:38:32.398Z"
   },
   {
    "duration": 146,
    "start_time": "2021-08-14T10:38:32.796Z"
   },
   {
    "duration": 15,
    "start_time": "2021-08-14T10:38:32.944Z"
   },
   {
    "duration": 11,
    "start_time": "2021-08-14T10:38:32.962Z"
   },
   {
    "duration": 13,
    "start_time": "2021-08-14T10:38:33.001Z"
   },
   {
    "duration": 12,
    "start_time": "2021-08-14T10:38:33.016Z"
   },
   {
    "duration": 30,
    "start_time": "2021-08-14T10:38:33.031Z"
   },
   {
    "duration": 54,
    "start_time": "2021-08-14T10:38:33.064Z"
   },
   {
    "duration": 47,
    "start_time": "2021-08-14T10:38:33.120Z"
   },
   {
    "duration": 43,
    "start_time": "2021-08-14T10:38:33.170Z"
   },
   {
    "duration": 18,
    "start_time": "2021-08-14T10:38:33.216Z"
   },
   {
    "duration": 16,
    "start_time": "2021-08-14T10:38:33.236Z"
   },
   {
    "duration": 56,
    "start_time": "2021-08-14T10:38:33.254Z"
   },
   {
    "duration": 18,
    "start_time": "2021-08-14T10:38:33.312Z"
   },
   {
    "duration": 18,
    "start_time": "2021-08-14T10:38:33.333Z"
   },
   {
    "duration": 48,
    "start_time": "2021-08-14T10:38:33.354Z"
   },
   {
    "duration": 39,
    "start_time": "2021-08-14T10:38:33.404Z"
   },
   {
    "duration": 10,
    "start_time": "2021-08-14T10:38:33.446Z"
   },
   {
    "duration": 47,
    "start_time": "2021-08-14T10:38:33.459Z"
   },
   {
    "duration": 13,
    "start_time": "2021-08-14T10:38:33.508Z"
   },
   {
    "duration": 14,
    "start_time": "2021-08-14T10:38:33.523Z"
   },
   {
    "duration": 79,
    "start_time": "2021-08-14T10:38:33.542Z"
   },
   {
    "duration": 8,
    "start_time": "2021-08-14T10:38:33.624Z"
   },
   {
    "duration": 18,
    "start_time": "2021-08-14T10:38:33.634Z"
   },
   {
    "duration": 16,
    "start_time": "2021-08-14T10:38:33.655Z"
   },
   {
    "duration": 367,
    "start_time": "2021-08-14T10:38:33.673Z"
   },
   {
    "duration": 11,
    "start_time": "2021-08-14T10:38:34.044Z"
   },
   {
    "duration": 20,
    "start_time": "2021-08-14T10:38:34.058Z"
   },
   {
    "duration": 413,
    "start_time": "2021-08-14T10:38:34.080Z"
   },
   {
    "duration": 13,
    "start_time": "2021-08-14T10:38:34.496Z"
   },
   {
    "duration": 343,
    "start_time": "2021-08-14T10:38:34.511Z"
   },
   {
    "duration": 12,
    "start_time": "2021-08-14T10:38:34.856Z"
   },
   {
    "duration": 239,
    "start_time": "2021-08-14T10:38:34.870Z"
   },
   {
    "duration": 542,
    "start_time": "2021-08-14T10:38:35.112Z"
   },
   {
    "duration": 12,
    "start_time": "2021-08-14T10:38:35.657Z"
   },
   {
    "duration": 268,
    "start_time": "2021-08-14T10:38:35.673Z"
   },
   {
    "duration": 339,
    "start_time": "2021-08-14T10:38:35.945Z"
   },
   {
    "duration": 21,
    "start_time": "2021-08-14T10:38:36.286Z"
   },
   {
    "duration": 110,
    "start_time": "2021-08-14T10:38:36.310Z"
   },
   {
    "duration": 9,
    "start_time": "2021-08-14T10:38:36.423Z"
   },
   {
    "duration": 9,
    "start_time": "2021-08-14T10:38:36.435Z"
   },
   {
    "duration": 19,
    "start_time": "2021-08-14T10:38:36.446Z"
   },
   {
    "duration": 499,
    "start_time": "2021-08-14T10:38:36.467Z"
   },
   {
    "duration": 10,
    "start_time": "2021-08-14T10:38:36.969Z"
   },
   {
    "duration": 21,
    "start_time": "2021-08-14T10:38:36.981Z"
   },
   {
    "duration": 6,
    "start_time": "2021-08-14T10:38:37.005Z"
   },
   {
    "duration": 7,
    "start_time": "2021-08-14T10:38:37.013Z"
   },
   {
    "duration": 455,
    "start_time": "2021-08-14T10:38:37.022Z"
   },
   {
    "duration": 383,
    "start_time": "2021-08-14T10:38:37.479Z"
   },
   {
    "duration": -10309,
    "start_time": "2021-08-14T10:38:48.174Z"
   },
   {
    "duration": -10319,
    "start_time": "2021-08-14T10:38:48.185Z"
   },
   {
    "duration": -10324,
    "start_time": "2021-08-14T10:38:48.192Z"
   },
   {
    "duration": -10330,
    "start_time": "2021-08-14T10:38:48.199Z"
   },
   {
    "duration": -10335,
    "start_time": "2021-08-14T10:38:48.206Z"
   },
   {
    "duration": -10339,
    "start_time": "2021-08-14T10:38:48.212Z"
   },
   {
    "duration": -10343,
    "start_time": "2021-08-14T10:38:48.218Z"
   },
   {
    "duration": -10349,
    "start_time": "2021-08-14T10:38:48.225Z"
   },
   {
    "duration": -10353,
    "start_time": "2021-08-14T10:38:48.231Z"
   },
   {
    "duration": -10358,
    "start_time": "2021-08-14T10:38:48.238Z"
   },
   {
    "duration": 216,
    "start_time": "2021-08-14T10:39:08.184Z"
   },
   {
    "duration": 281,
    "start_time": "2021-08-14T10:39:08.403Z"
   },
   {
    "duration": 146,
    "start_time": "2021-08-14T10:39:08.687Z"
   },
   {
    "duration": 13,
    "start_time": "2021-08-14T10:39:08.836Z"
   },
   {
    "duration": 11,
    "start_time": "2021-08-14T10:39:08.852Z"
   },
   {
    "duration": 41,
    "start_time": "2021-08-14T10:39:08.866Z"
   },
   {
    "duration": 11,
    "start_time": "2021-08-14T10:39:08.910Z"
   },
   {
    "duration": 30,
    "start_time": "2021-08-14T10:39:08.925Z"
   },
   {
    "duration": 58,
    "start_time": "2021-08-14T10:39:08.957Z"
   },
   {
    "duration": 48,
    "start_time": "2021-08-14T10:39:09.018Z"
   },
   {
    "duration": 40,
    "start_time": "2021-08-14T10:39:09.068Z"
   },
   {
    "duration": 19,
    "start_time": "2021-08-14T10:39:09.110Z"
   },
   {
    "duration": 15,
    "start_time": "2021-08-14T10:39:09.131Z"
   },
   {
    "duration": 52,
    "start_time": "2021-08-14T10:39:09.148Z"
   },
   {
    "duration": 17,
    "start_time": "2021-08-14T10:39:09.203Z"
   },
   {
    "duration": 15,
    "start_time": "2021-08-14T10:39:09.223Z"
   },
   {
    "duration": 16,
    "start_time": "2021-08-14T10:39:09.241Z"
   },
   {
    "duration": 72,
    "start_time": "2021-08-14T10:39:09.259Z"
   },
   {
    "duration": 9,
    "start_time": "2021-08-14T10:39:09.334Z"
   },
   {
    "duration": 18,
    "start_time": "2021-08-14T10:39:09.346Z"
   },
   {
    "duration": 43,
    "start_time": "2021-08-14T10:39:09.367Z"
   },
   {
    "duration": 14,
    "start_time": "2021-08-14T10:39:09.412Z"
   },
   {
    "duration": 73,
    "start_time": "2021-08-14T10:39:09.432Z"
   },
   {
    "duration": 9,
    "start_time": "2021-08-14T10:39:09.510Z"
   },
   {
    "duration": 8,
    "start_time": "2021-08-14T10:39:09.522Z"
   },
   {
    "duration": 9,
    "start_time": "2021-08-14T10:39:09.533Z"
   },
   {
    "duration": 349,
    "start_time": "2021-08-14T10:39:09.545Z"
   },
   {
    "duration": 12,
    "start_time": "2021-08-14T10:39:09.897Z"
   },
   {
    "duration": 14,
    "start_time": "2021-08-14T10:39:09.912Z"
   },
   {
    "duration": 354,
    "start_time": "2021-08-14T10:39:09.929Z"
   },
   {
    "duration": 25,
    "start_time": "2021-08-14T10:39:10.286Z"
   },
   {
    "duration": 446,
    "start_time": "2021-08-14T10:39:10.314Z"
   },
   {
    "duration": 12,
    "start_time": "2021-08-14T10:39:10.764Z"
   },
   {
    "duration": 238,
    "start_time": "2021-08-14T10:39:10.779Z"
   },
   {
    "duration": 572,
    "start_time": "2021-08-14T10:39:11.019Z"
   },
   {
    "duration": 13,
    "start_time": "2021-08-14T10:39:11.601Z"
   },
   {
    "duration": 256,
    "start_time": "2021-08-14T10:39:11.617Z"
   },
   {
    "duration": 356,
    "start_time": "2021-08-14T10:39:11.876Z"
   },
   {
    "duration": 11,
    "start_time": "2021-08-14T10:39:12.235Z"
   },
   {
    "duration": 89,
    "start_time": "2021-08-14T10:39:12.248Z"
   },
   {
    "duration": 8,
    "start_time": "2021-08-14T10:39:12.339Z"
   },
   {
    "duration": 6,
    "start_time": "2021-08-14T10:39:12.349Z"
   },
   {
    "duration": 16,
    "start_time": "2021-08-14T10:39:12.357Z"
   },
   {
    "duration": 489,
    "start_time": "2021-08-14T10:39:12.375Z"
   },
   {
    "duration": 10,
    "start_time": "2021-08-14T10:39:12.867Z"
   },
   {
    "duration": 24,
    "start_time": "2021-08-14T10:39:12.880Z"
   },
   {
    "duration": 7,
    "start_time": "2021-08-14T10:39:12.907Z"
   },
   {
    "duration": 6,
    "start_time": "2021-08-14T10:39:12.916Z"
   },
   {
    "duration": 447,
    "start_time": "2021-08-14T10:39:12.924Z"
   },
   {
    "duration": 390,
    "start_time": "2021-08-14T10:39:13.373Z"
   },
   {
    "duration": -10272,
    "start_time": "2021-08-14T10:39:24.037Z"
   },
   {
    "duration": -10285,
    "start_time": "2021-08-14T10:39:24.051Z"
   },
   {
    "duration": -10292,
    "start_time": "2021-08-14T10:39:24.060Z"
   },
   {
    "duration": -10297,
    "start_time": "2021-08-14T10:39:24.066Z"
   },
   {
    "duration": -10303,
    "start_time": "2021-08-14T10:39:24.073Z"
   },
   {
    "duration": -10307,
    "start_time": "2021-08-14T10:39:24.079Z"
   },
   {
    "duration": -10313,
    "start_time": "2021-08-14T10:39:24.086Z"
   },
   {
    "duration": -10318,
    "start_time": "2021-08-14T10:39:24.092Z"
   },
   {
    "duration": -10324,
    "start_time": "2021-08-14T10:39:24.099Z"
   },
   {
    "duration": -10328,
    "start_time": "2021-08-14T10:39:24.105Z"
   },
   {
    "duration": 401,
    "start_time": "2021-08-14T10:40:16.882Z"
   },
   {
    "duration": 387,
    "start_time": "2021-08-14T10:41:49.796Z"
   },
   {
    "duration": 226,
    "start_time": "2021-08-14T10:41:54.259Z"
   },
   {
    "duration": 282,
    "start_time": "2021-08-14T10:41:54.488Z"
   },
   {
    "duration": 136,
    "start_time": "2021-08-14T10:41:54.773Z"
   },
   {
    "duration": 13,
    "start_time": "2021-08-14T10:41:54.912Z"
   },
   {
    "duration": 11,
    "start_time": "2021-08-14T10:41:54.927Z"
   },
   {
    "duration": 12,
    "start_time": "2021-08-14T10:41:54.941Z"
   },
   {
    "duration": 53,
    "start_time": "2021-08-14T10:41:54.956Z"
   },
   {
    "duration": 32,
    "start_time": "2021-08-14T10:41:55.013Z"
   },
   {
    "duration": 21,
    "start_time": "2021-08-14T10:41:55.048Z"
   },
   {
    "duration": 71,
    "start_time": "2021-08-14T10:41:55.072Z"
   },
   {
    "duration": 15,
    "start_time": "2021-08-14T10:41:55.146Z"
   },
   {
    "duration": 51,
    "start_time": "2021-08-14T10:41:55.164Z"
   },
   {
    "duration": 15,
    "start_time": "2021-08-14T10:41:55.217Z"
   },
   {
    "duration": 18,
    "start_time": "2021-08-14T10:41:55.235Z"
   },
   {
    "duration": 47,
    "start_time": "2021-08-14T10:41:55.255Z"
   },
   {
    "duration": 16,
    "start_time": "2021-08-14T10:41:55.304Z"
   },
   {
    "duration": 16,
    "start_time": "2021-08-14T10:41:55.322Z"
   },
   {
    "duration": 74,
    "start_time": "2021-08-14T10:41:55.340Z"
   },
   {
    "duration": 10,
    "start_time": "2021-08-14T10:41:55.417Z"
   },
   {
    "duration": 18,
    "start_time": "2021-08-14T10:41:55.430Z"
   },
   {
    "duration": 16,
    "start_time": "2021-08-14T10:41:55.451Z"
   },
   {
    "duration": 38,
    "start_time": "2021-08-14T10:41:55.470Z"
   },
   {
    "duration": 47,
    "start_time": "2021-08-14T10:41:55.515Z"
   },
   {
    "duration": 7,
    "start_time": "2021-08-14T10:41:55.566Z"
   },
   {
    "duration": 8,
    "start_time": "2021-08-14T10:41:55.601Z"
   },
   {
    "duration": 18,
    "start_time": "2021-08-14T10:41:55.611Z"
   },
   {
    "duration": 332,
    "start_time": "2021-08-14T10:41:55.631Z"
   },
   {
    "duration": 11,
    "start_time": "2021-08-14T10:41:55.966Z"
   },
   {
    "duration": 30,
    "start_time": "2021-08-14T10:41:55.980Z"
   },
   {
    "duration": 514,
    "start_time": "2021-08-14T10:41:56.012Z"
   },
   {
    "duration": 12,
    "start_time": "2021-08-14T10:41:56.528Z"
   },
   {
    "duration": 358,
    "start_time": "2021-08-14T10:41:56.543Z"
   },
   {
    "duration": 11,
    "start_time": "2021-08-14T10:41:56.903Z"
   },
   {
    "duration": 266,
    "start_time": "2021-08-14T10:41:56.917Z"
   },
   {
    "duration": 568,
    "start_time": "2021-08-14T10:41:57.186Z"
   },
   {
    "duration": 13,
    "start_time": "2021-08-14T10:41:57.756Z"
   },
   {
    "duration": 286,
    "start_time": "2021-08-14T10:41:57.772Z"
   },
   {
    "duration": 342,
    "start_time": "2021-08-14T10:41:58.061Z"
   },
   {
    "duration": 13,
    "start_time": "2021-08-14T10:41:58.407Z"
   },
   {
    "duration": 88,
    "start_time": "2021-08-14T10:41:58.423Z"
   },
   {
    "duration": 9,
    "start_time": "2021-08-14T10:41:58.514Z"
   },
   {
    "duration": 8,
    "start_time": "2021-08-14T10:41:58.526Z"
   },
   {
    "duration": 7,
    "start_time": "2021-08-14T10:41:58.536Z"
   },
   {
    "duration": 531,
    "start_time": "2021-08-14T10:41:58.546Z"
   },
   {
    "duration": 21,
    "start_time": "2021-08-14T10:41:59.080Z"
   },
   {
    "duration": 9,
    "start_time": "2021-08-14T10:41:59.104Z"
   },
   {
    "duration": 6,
    "start_time": "2021-08-14T10:41:59.115Z"
   },
   {
    "duration": 6,
    "start_time": "2021-08-14T10:41:59.123Z"
   },
   {
    "duration": 463,
    "start_time": "2021-08-14T10:41:59.131Z"
   },
   {
    "duration": 340,
    "start_time": "2021-08-14T10:41:59.600Z"
   },
   {
    "duration": -10271,
    "start_time": "2021-08-14T10:42:10.214Z"
   },
   {
    "duration": -10275,
    "start_time": "2021-08-14T10:42:10.220Z"
   },
   {
    "duration": -10281,
    "start_time": "2021-08-14T10:42:10.227Z"
   },
   {
    "duration": -10286,
    "start_time": "2021-08-14T10:42:10.233Z"
   },
   {
    "duration": -10292,
    "start_time": "2021-08-14T10:42:10.241Z"
   },
   {
    "duration": -10296,
    "start_time": "2021-08-14T10:42:10.247Z"
   },
   {
    "duration": -10302,
    "start_time": "2021-08-14T10:42:10.254Z"
   },
   {
    "duration": -10306,
    "start_time": "2021-08-14T10:42:10.260Z"
   },
   {
    "duration": -10311,
    "start_time": "2021-08-14T10:42:10.266Z"
   },
   {
    "duration": -10315,
    "start_time": "2021-08-14T10:42:10.272Z"
   },
   {
    "duration": 373,
    "start_time": "2021-08-14T11:19:22.072Z"
   },
   {
    "duration": 7,
    "start_time": "2021-08-14T11:19:37.402Z"
   },
   {
    "duration": 224,
    "start_time": "2021-08-14T11:19:44.923Z"
   },
   {
    "duration": 414,
    "start_time": "2021-08-14T11:19:45.150Z"
   },
   {
    "duration": 155,
    "start_time": "2021-08-14T11:19:45.567Z"
   },
   {
    "duration": 17,
    "start_time": "2021-08-14T11:19:45.726Z"
   },
   {
    "duration": 17,
    "start_time": "2021-08-14T11:19:45.746Z"
   },
   {
    "duration": 13,
    "start_time": "2021-08-14T11:19:45.802Z"
   },
   {
    "duration": 14,
    "start_time": "2021-08-14T11:19:45.818Z"
   },
   {
    "duration": 80,
    "start_time": "2021-08-14T11:19:45.835Z"
   },
   {
    "duration": 33,
    "start_time": "2021-08-14T11:19:45.919Z"
   },
   {
    "duration": 81,
    "start_time": "2021-08-14T11:19:45.956Z"
   },
   {
    "duration": 18,
    "start_time": "2021-08-14T11:19:46.040Z"
   },
   {
    "duration": 54,
    "start_time": "2021-08-14T11:19:46.060Z"
   },
   {
    "duration": 22,
    "start_time": "2021-08-14T11:19:46.117Z"
   },
   {
    "duration": 26,
    "start_time": "2021-08-14T11:19:46.142Z"
   },
   {
    "duration": 25,
    "start_time": "2021-08-14T11:19:46.199Z"
   },
   {
    "duration": 22,
    "start_time": "2021-08-14T11:19:46.228Z"
   },
   {
    "duration": 53,
    "start_time": "2021-08-14T11:19:46.254Z"
   },
   {
    "duration": 42,
    "start_time": "2021-08-14T11:19:46.310Z"
   },
   {
    "duration": 48,
    "start_time": "2021-08-14T11:19:46.355Z"
   },
   {
    "duration": 21,
    "start_time": "2021-08-14T11:19:46.406Z"
   },
   {
    "duration": 18,
    "start_time": "2021-08-14T11:19:46.430Z"
   },
   {
    "duration": 12,
    "start_time": "2021-08-14T11:19:46.451Z"
   },
   {
    "duration": 47,
    "start_time": "2021-08-14T11:19:46.503Z"
   },
   {
    "duration": 9,
    "start_time": "2021-08-14T11:19:46.553Z"
   },
   {
    "duration": 40,
    "start_time": "2021-08-14T11:19:46.565Z"
   },
   {
    "duration": 22,
    "start_time": "2021-08-14T11:19:46.607Z"
   },
   {
    "duration": 319,
    "start_time": "2021-08-14T11:19:46.632Z"
   },
   {
    "duration": 12,
    "start_time": "2021-08-14T11:19:46.954Z"
   },
   {
    "duration": 33,
    "start_time": "2021-08-14T11:19:46.969Z"
   },
   {
    "duration": 326,
    "start_time": "2021-08-14T11:19:47.004Z"
   },
   {
    "duration": 13,
    "start_time": "2021-08-14T11:19:47.332Z"
   },
   {
    "duration": 465,
    "start_time": "2021-08-14T11:19:47.348Z"
   },
   {
    "duration": 13,
    "start_time": "2021-08-14T11:19:47.815Z"
   },
   {
    "duration": 248,
    "start_time": "2021-08-14T11:19:47.830Z"
   },
   {
    "duration": 571,
    "start_time": "2021-08-14T11:19:48.080Z"
   },
   {
    "duration": 15,
    "start_time": "2021-08-14T11:19:48.654Z"
   },
   {
    "duration": 396,
    "start_time": "2021-08-14T11:19:48.672Z"
   },
   {
    "duration": 515,
    "start_time": "2021-08-14T11:19:49.071Z"
   },
   {
    "duration": 23,
    "start_time": "2021-08-14T11:19:49.589Z"
   },
   {
    "duration": 64,
    "start_time": "2021-08-14T11:19:49.615Z"
   },
   {
    "duration": 24,
    "start_time": "2021-08-14T11:19:49.681Z"
   },
   {
    "duration": 15,
    "start_time": "2021-08-14T11:19:49.708Z"
   },
   {
    "duration": 14,
    "start_time": "2021-08-14T11:19:49.725Z"
   },
   {
    "duration": 515,
    "start_time": "2021-08-14T11:19:49.742Z"
   },
   {
    "duration": 9,
    "start_time": "2021-08-14T11:19:50.260Z"
   },
   {
    "duration": 311,
    "start_time": "2021-08-14T11:19:50.272Z"
   },
   {
    "duration": 16,
    "start_time": "2021-08-14T11:19:50.586Z"
   },
   {
    "duration": 12,
    "start_time": "2021-08-14T11:19:50.604Z"
   },
   {
    "duration": 16,
    "start_time": "2021-08-14T11:19:50.618Z"
   },
   {
    "duration": 119,
    "start_time": "2021-08-14T11:19:50.636Z"
   },
   {
    "duration": -10303,
    "start_time": "2021-08-14T11:20:01.060Z"
   },
   {
    "duration": -10428,
    "start_time": "2021-08-14T11:20:01.187Z"
   },
   {
    "duration": -10448,
    "start_time": "2021-08-14T11:20:01.208Z"
   },
   {
    "duration": -10466,
    "start_time": "2021-08-14T11:20:01.228Z"
   },
   {
    "duration": -10475,
    "start_time": "2021-08-14T11:20:01.238Z"
   },
   {
    "duration": -10483,
    "start_time": "2021-08-14T11:20:01.247Z"
   },
   {
    "duration": -10491,
    "start_time": "2021-08-14T11:20:01.257Z"
   },
   {
    "duration": -10498,
    "start_time": "2021-08-14T11:20:01.265Z"
   },
   {
    "duration": -10506,
    "start_time": "2021-08-14T11:20:01.275Z"
   },
   {
    "duration": -10511,
    "start_time": "2021-08-14T11:20:01.281Z"
   },
   {
    "duration": -10520,
    "start_time": "2021-08-14T11:20:01.292Z"
   },
   {
    "duration": -10528,
    "start_time": "2021-08-14T11:20:01.301Z"
   },
   {
    "duration": 52,
    "start_time": "2021-08-14T11:20:57.748Z"
   },
   {
    "duration": 53,
    "start_time": "2021-08-14T11:21:52.822Z"
   },
   {
    "duration": 23,
    "start_time": "2021-08-14T11:22:42.954Z"
   },
   {
    "duration": 217,
    "start_time": "2021-08-14T11:23:02.193Z"
   },
   {
    "duration": 397,
    "start_time": "2021-08-14T11:23:02.413Z"
   },
   {
    "duration": 144,
    "start_time": "2021-08-14T11:23:02.813Z"
   },
   {
    "duration": 14,
    "start_time": "2021-08-14T11:23:02.959Z"
   },
   {
    "duration": 27,
    "start_time": "2021-08-14T11:23:02.975Z"
   },
   {
    "duration": 13,
    "start_time": "2021-08-14T11:23:03.004Z"
   },
   {
    "duration": 12,
    "start_time": "2021-08-14T11:23:03.020Z"
   },
   {
    "duration": 74,
    "start_time": "2021-08-14T11:23:03.036Z"
   },
   {
    "duration": 21,
    "start_time": "2021-08-14T11:23:03.113Z"
   },
   {
    "duration": 74,
    "start_time": "2021-08-14T11:23:03.137Z"
   },
   {
    "duration": 18,
    "start_time": "2021-08-14T11:23:03.214Z"
   },
   {
    "duration": 25,
    "start_time": "2021-08-14T11:23:03.234Z"
   },
   {
    "duration": 45,
    "start_time": "2021-08-14T11:23:03.261Z"
   },
   {
    "duration": 19,
    "start_time": "2021-08-14T11:23:03.308Z"
   },
   {
    "duration": 19,
    "start_time": "2021-08-14T11:23:03.330Z"
   },
   {
    "duration": 55,
    "start_time": "2021-08-14T11:23:03.352Z"
   },
   {
    "duration": 20,
    "start_time": "2021-08-14T11:23:03.410Z"
   },
   {
    "duration": 67,
    "start_time": "2021-08-14T11:23:03.433Z"
   },
   {
    "duration": 12,
    "start_time": "2021-08-14T11:23:03.503Z"
   },
   {
    "duration": 19,
    "start_time": "2021-08-14T11:23:03.518Z"
   },
   {
    "duration": 14,
    "start_time": "2021-08-14T11:23:03.539Z"
   },
   {
    "duration": 51,
    "start_time": "2021-08-14T11:23:03.555Z"
   },
   {
    "duration": 23,
    "start_time": "2021-08-14T11:23:03.612Z"
   },
   {
    "duration": 11,
    "start_time": "2021-08-14T11:23:03.638Z"
   },
   {
    "duration": 16,
    "start_time": "2021-08-14T11:23:03.652Z"
   },
   {
    "duration": 35,
    "start_time": "2021-08-14T11:23:03.670Z"
   },
   {
    "duration": 328,
    "start_time": "2021-08-14T11:23:03.708Z"
   },
   {
    "duration": 10,
    "start_time": "2021-08-14T11:23:04.039Z"
   },
   {
    "duration": 11,
    "start_time": "2021-08-14T11:23:04.051Z"
   },
   {
    "duration": 354,
    "start_time": "2021-08-14T11:23:04.065Z"
   },
   {
    "duration": 12,
    "start_time": "2021-08-14T11:23:04.422Z"
   },
   {
    "duration": 357,
    "start_time": "2021-08-14T11:23:04.436Z"
   },
   {
    "duration": 15,
    "start_time": "2021-08-14T11:23:04.796Z"
   },
   {
    "duration": 344,
    "start_time": "2021-08-14T11:23:04.813Z"
   },
   {
    "duration": 582,
    "start_time": "2021-08-14T11:23:05.160Z"
   },
   {
    "duration": 12,
    "start_time": "2021-08-14T11:23:05.744Z"
   },
   {
    "duration": 278,
    "start_time": "2021-08-14T11:23:05.758Z"
   },
   {
    "duration": 348,
    "start_time": "2021-08-14T11:23:06.038Z"
   },
   {
    "duration": 22,
    "start_time": "2021-08-14T11:23:06.389Z"
   },
   {
    "duration": 88,
    "start_time": "2021-08-14T11:23:06.414Z"
   },
   {
    "duration": 8,
    "start_time": "2021-08-14T11:23:06.505Z"
   },
   {
    "duration": 9,
    "start_time": "2021-08-14T11:23:06.515Z"
   },
   {
    "duration": 6,
    "start_time": "2021-08-14T11:23:06.526Z"
   },
   {
    "duration": 548,
    "start_time": "2021-08-14T11:23:06.535Z"
   },
   {
    "duration": 18,
    "start_time": "2021-08-14T11:23:07.086Z"
   },
   {
    "duration": 299,
    "start_time": "2021-08-14T11:23:07.106Z"
   },
   {
    "duration": 6,
    "start_time": "2021-08-14T11:23:07.408Z"
   },
   {
    "duration": 6,
    "start_time": "2021-08-14T11:23:07.417Z"
   },
   {
    "duration": 6,
    "start_time": "2021-08-14T11:23:07.425Z"
   },
   {
    "duration": 122,
    "start_time": "2021-08-14T11:23:07.433Z"
   },
   {
    "duration": -10477,
    "start_time": "2021-08-14T11:23:18.034Z"
   },
   {
    "duration": -10487,
    "start_time": "2021-08-14T11:23:18.045Z"
   },
   {
    "duration": -10495,
    "start_time": "2021-08-14T11:23:18.055Z"
   },
   {
    "duration": -10504,
    "start_time": "2021-08-14T11:23:18.065Z"
   },
   {
    "duration": -10512,
    "start_time": "2021-08-14T11:23:18.075Z"
   },
   {
    "duration": -10520,
    "start_time": "2021-08-14T11:23:18.084Z"
   },
   {
    "duration": -10529,
    "start_time": "2021-08-14T11:23:18.094Z"
   },
   {
    "duration": -10536,
    "start_time": "2021-08-14T11:23:18.102Z"
   },
   {
    "duration": -10546,
    "start_time": "2021-08-14T11:23:18.113Z"
   },
   {
    "duration": -10550,
    "start_time": "2021-08-14T11:23:18.119Z"
   },
   {
    "duration": -10555,
    "start_time": "2021-08-14T11:23:18.125Z"
   },
   {
    "duration": -10570,
    "start_time": "2021-08-14T11:23:18.141Z"
   },
   {
    "duration": 110,
    "start_time": "2021-08-14T11:23:46.524Z"
   },
   {
    "duration": 223,
    "start_time": "2021-08-14T11:24:05.779Z"
   },
   {
    "duration": 296,
    "start_time": "2021-08-14T11:24:09.308Z"
   },
   {
    "duration": 211,
    "start_time": "2021-08-14T11:24:34.472Z"
   },
   {
    "duration": 1773,
    "start_time": "2021-08-14T11:25:07.232Z"
   },
   {
    "duration": 114,
    "start_time": "2021-08-14T11:25:21.748Z"
   },
   {
    "duration": 51,
    "start_time": "2021-08-14T11:25:34.926Z"
   },
   {
    "duration": 57,
    "start_time": "2021-08-14T11:25:59.272Z"
   },
   {
    "duration": 61,
    "start_time": "2021-08-14T11:26:59.471Z"
   },
   {
    "duration": 60,
    "start_time": "2021-08-14T11:27:10.941Z"
   },
   {
    "duration": 373,
    "start_time": "2021-08-14T11:27:49.499Z"
   },
   {
    "duration": 8,
    "start_time": "2021-08-14T11:28:15.379Z"
   },
   {
    "duration": 8,
    "start_time": "2021-08-14T11:28:28.511Z"
   },
   {
    "duration": 353,
    "start_time": "2021-08-14T11:28:43.583Z"
   },
   {
    "duration": 123,
    "start_time": "2021-08-14T11:28:49.110Z"
   },
   {
    "duration": 339,
    "start_time": "2021-08-14T11:29:11.932Z"
   },
   {
    "duration": 347,
    "start_time": "2021-08-14T11:30:37.127Z"
   },
   {
    "duration": 343,
    "start_time": "2021-08-14T11:34:15.527Z"
   },
   {
    "duration": -10440,
    "start_time": "2021-08-14T11:35:40.694Z"
   },
   {
    "duration": 1231,
    "start_time": "2021-08-14T11:41:01.457Z"
   },
   {
    "duration": 283,
    "start_time": "2021-08-14T11:41:02.691Z"
   },
   {
    "duration": 147,
    "start_time": "2021-08-14T11:41:02.977Z"
   },
   {
    "duration": 450,
    "start_time": "2021-08-14T11:41:03.127Z"
   },
   {
    "duration": 12,
    "start_time": "2021-08-14T11:41:03.579Z"
   },
   {
    "duration": 21,
    "start_time": "2021-08-14T11:41:03.594Z"
   },
   {
    "duration": 21,
    "start_time": "2021-08-14T11:41:03.618Z"
   },
   {
    "duration": 32,
    "start_time": "2021-08-14T11:41:03.646Z"
   },
   {
    "duration": 29,
    "start_time": "2021-08-14T11:41:03.702Z"
   },
   {
    "duration": 76,
    "start_time": "2021-08-14T11:41:03.734Z"
   },
   {
    "duration": 20,
    "start_time": "2021-08-14T11:41:03.813Z"
   },
   {
    "duration": 24,
    "start_time": "2021-08-14T11:41:03.836Z"
   },
   {
    "duration": 53,
    "start_time": "2021-08-14T11:41:03.862Z"
   },
   {
    "duration": 19,
    "start_time": "2021-08-14T11:41:03.918Z"
   },
   {
    "duration": 18,
    "start_time": "2021-08-14T11:41:03.940Z"
   },
   {
    "duration": 51,
    "start_time": "2021-08-14T11:41:03.960Z"
   },
   {
    "duration": 23,
    "start_time": "2021-08-14T11:41:04.013Z"
   },
   {
    "duration": 69,
    "start_time": "2021-08-14T11:41:04.039Z"
   },
   {
    "duration": 14,
    "start_time": "2021-08-14T11:41:04.111Z"
   },
   {
    "duration": 26,
    "start_time": "2021-08-14T11:41:04.128Z"
   },
   {
    "duration": 46,
    "start_time": "2021-08-14T11:41:04.157Z"
   },
   {
    "duration": 15,
    "start_time": "2021-08-14T11:41:04.206Z"
   },
   {
    "duration": 108,
    "start_time": "2021-08-14T11:41:04.227Z"
   },
   {
    "duration": 10,
    "start_time": "2021-08-14T11:41:04.338Z"
   },
   {
    "duration": 9,
    "start_time": "2021-08-14T11:41:04.351Z"
   },
   {
    "duration": 45,
    "start_time": "2021-08-14T11:41:04.363Z"
   },
   {
    "duration": 329,
    "start_time": "2021-08-14T11:41:04.410Z"
   },
   {
    "duration": 14,
    "start_time": "2021-08-14T11:41:04.742Z"
   },
   {
    "duration": 44,
    "start_time": "2021-08-14T11:41:04.758Z"
   },
   {
    "duration": 329,
    "start_time": "2021-08-14T11:41:04.805Z"
   },
   {
    "duration": 12,
    "start_time": "2021-08-14T11:41:05.136Z"
   },
   {
    "duration": 360,
    "start_time": "2021-08-14T11:41:05.151Z"
   },
   {
    "duration": 11,
    "start_time": "2021-08-14T11:41:05.513Z"
   },
   {
    "duration": 345,
    "start_time": "2021-08-14T11:41:05.526Z"
   },
   {
    "duration": 593,
    "start_time": "2021-08-14T11:41:05.875Z"
   },
   {
    "duration": 29,
    "start_time": "2021-08-14T11:41:06.471Z"
   },
   {
    "duration": 277,
    "start_time": "2021-08-14T11:41:06.503Z"
   },
   {
    "duration": 353,
    "start_time": "2021-08-14T11:41:06.783Z"
   },
   {
    "duration": 11,
    "start_time": "2021-08-14T11:41:07.139Z"
   },
   {
    "duration": 91,
    "start_time": "2021-08-14T11:41:07.153Z"
   },
   {
    "duration": 7,
    "start_time": "2021-08-14T11:41:07.247Z"
   },
   {
    "duration": 7,
    "start_time": "2021-08-14T11:41:07.256Z"
   },
   {
    "duration": 36,
    "start_time": "2021-08-14T11:41:07.266Z"
   },
   {
    "duration": 472,
    "start_time": "2021-08-14T11:41:07.305Z"
   },
   {
    "duration": 22,
    "start_time": "2021-08-14T11:41:07.780Z"
   },
   {
    "duration": -10268,
    "start_time": "2021-08-14T11:55:22.210Z"
   },
   {
    "duration": -10275,
    "start_time": "2021-08-14T11:55:22.218Z"
   },
   {
    "duration": -10227,
    "start_time": "2021-08-14T11:55:22.230Z"
   },
   {
    "duration": -10237,
    "start_time": "2021-08-14T11:55:22.241Z"
   },
   {
    "duration": -10240,
    "start_time": "2021-08-14T11:55:22.245Z"
   },
   {
    "duration": -10243,
    "start_time": "2021-08-14T11:55:22.250Z"
   },
   {
    "duration": -10249,
    "start_time": "2021-08-14T11:55:22.259Z"
   },
   {
    "duration": -10251,
    "start_time": "2021-08-14T11:55:22.263Z"
   },
   {
    "duration": -10260,
    "start_time": "2021-08-14T11:55:22.273Z"
   },
   {
    "duration": -10260,
    "start_time": "2021-08-14T11:55:22.277Z"
   },
   {
    "duration": -10263,
    "start_time": "2021-08-14T11:55:22.282Z"
   },
   {
    "duration": -10266,
    "start_time": "2021-08-14T11:55:22.286Z"
   },
   {
    "duration": -10266,
    "start_time": "2021-08-14T11:55:22.290Z"
   },
   {
    "duration": -10270,
    "start_time": "2021-08-14T11:55:22.295Z"
   },
   {
    "duration": -10273,
    "start_time": "2021-08-14T11:55:22.299Z"
   },
   {
    "duration": -10275,
    "start_time": "2021-08-14T11:55:22.303Z"
   },
   {
    "duration": -10278,
    "start_time": "2021-08-14T11:55:22.307Z"
   },
   {
    "duration": -10289,
    "start_time": "2021-08-14T11:55:22.320Z"
   },
   {
    "duration": -10292,
    "start_time": "2021-08-14T11:55:22.324Z"
   },
   {
    "duration": -10296,
    "start_time": "2021-08-14T11:55:22.329Z"
   },
   {
    "duration": -10330,
    "start_time": "2021-08-14T11:55:22.365Z"
   },
   {
    "duration": -10358,
    "start_time": "2021-08-14T11:55:22.395Z"
   },
   {
    "duration": -10362,
    "start_time": "2021-08-14T11:55:22.400Z"
   },
   {
    "duration": -10366,
    "start_time": "2021-08-14T11:55:22.405Z"
   },
   {
    "duration": -10368,
    "start_time": "2021-08-14T11:55:22.408Z"
   },
   {
    "duration": -10369,
    "start_time": "2021-08-14T11:55:22.413Z"
   },
   {
    "duration": -10373,
    "start_time": "2021-08-14T11:55:22.418Z"
   },
   {
    "duration": -10322,
    "start_time": "2021-08-14T11:55:22.430Z"
   },
   {
    "duration": -10470,
    "start_time": "2021-08-14T11:55:22.582Z"
   },
   {
    "duration": -10472,
    "start_time": "2021-08-14T11:55:22.587Z"
   },
   {
    "duration": -10474,
    "start_time": "2021-08-14T11:55:22.591Z"
   },
   {
    "duration": -10477,
    "start_time": "2021-08-14T11:55:22.595Z"
   },
   {
    "duration": -10480,
    "start_time": "2021-08-14T11:55:22.599Z"
   },
   {
    "duration": -10591,
    "start_time": "2021-08-14T11:55:22.712Z"
   },
   {
    "duration": -10678,
    "start_time": "2021-08-14T11:55:22.800Z"
   },
   {
    "duration": -10682,
    "start_time": "2021-08-14T11:55:22.805Z"
   },
   {
    "duration": -10683,
    "start_time": "2021-08-14T11:55:22.808Z"
   },
   {
    "duration": -10686,
    "start_time": "2021-08-14T11:55:22.813Z"
   },
   {
    "duration": -10687,
    "start_time": "2021-08-14T11:55:22.816Z"
   },
   {
    "duration": -10690,
    "start_time": "2021-08-14T11:55:22.821Z"
   },
   {
    "duration": -10692,
    "start_time": "2021-08-14T11:55:22.825Z"
   },
   {
    "duration": -10722,
    "start_time": "2021-08-14T11:55:22.857Z"
   },
   {
    "duration": -10745,
    "start_time": "2021-08-14T11:55:22.882Z"
   },
   {
    "duration": -10746,
    "start_time": "2021-08-14T11:55:22.886Z"
   },
   {
    "duration": -10748,
    "start_time": "2021-08-14T11:55:22.890Z"
   },
   {
    "duration": -10750,
    "start_time": "2021-08-14T11:55:22.894Z"
   },
   {
    "duration": -10784,
    "start_time": "2021-08-14T11:55:22.930Z"
   },
   {
    "duration": -10844,
    "start_time": "2021-08-14T11:55:22.992Z"
   },
   {
    "duration": -10788,
    "start_time": "2021-08-14T11:55:22.996Z"
   },
   {
    "duration": -10791,
    "start_time": "2021-08-14T11:55:23.000Z"
   },
   {
    "duration": -10793,
    "start_time": "2021-08-14T11:55:23.004Z"
   },
   {
    "duration": -10796,
    "start_time": "2021-08-14T11:55:23.008Z"
   },
   {
    "duration": -10798,
    "start_time": "2021-08-14T11:55:23.012Z"
   },
   {
    "duration": -10797,
    "start_time": "2021-08-14T11:55:23.016Z"
   },
   {
    "duration": -10799,
    "start_time": "2021-08-14T11:55:23.020Z"
   },
   {
    "duration": -10801,
    "start_time": "2021-08-14T11:55:23.024Z"
   },
   {
    "duration": -10804,
    "start_time": "2021-08-14T11:55:23.028Z"
   },
   {
    "duration": -10807,
    "start_time": "2021-08-14T11:55:23.033Z"
   },
   {
    "duration": -10810,
    "start_time": "2021-08-14T11:55:23.037Z"
   },
   {
    "duration": -10813,
    "start_time": "2021-08-14T11:55:23.041Z"
   },
   {
    "duration": 8438,
    "start_time": "2021-08-14T12:09:08.324Z"
   },
   {
    "duration": 214,
    "start_time": "2021-08-14T12:09:45.966Z"
   },
   {
    "duration": 266,
    "start_time": "2021-08-14T12:09:46.183Z"
   },
   {
    "duration": 144,
    "start_time": "2021-08-14T12:09:46.452Z"
   },
   {
    "duration": 14,
    "start_time": "2021-08-14T12:09:46.600Z"
   },
   {
    "duration": 11,
    "start_time": "2021-08-14T12:09:46.617Z"
   },
   {
    "duration": 14,
    "start_time": "2021-08-14T12:09:46.630Z"
   },
   {
    "duration": 12,
    "start_time": "2021-08-14T12:09:46.646Z"
   },
   {
    "duration": 33,
    "start_time": "2021-08-14T12:09:46.703Z"
   },
   {
    "duration": 21,
    "start_time": "2021-08-14T12:09:46.739Z"
   },
   {
    "duration": 75,
    "start_time": "2021-08-14T12:09:46.763Z"
   },
   {
    "duration": 19,
    "start_time": "2021-08-14T12:09:46.840Z"
   },
   {
    "duration": 48,
    "start_time": "2021-08-14T12:09:46.861Z"
   },
   {
    "duration": 16,
    "start_time": "2021-08-14T12:09:46.912Z"
   },
   {
    "duration": 31,
    "start_time": "2021-08-14T12:09:46.930Z"
   },
   {
    "duration": 18,
    "start_time": "2021-08-14T12:09:46.963Z"
   },
   {
    "duration": 16,
    "start_time": "2021-08-14T12:09:47.001Z"
   },
   {
    "duration": 16,
    "start_time": "2021-08-14T12:09:47.020Z"
   },
   {
    "duration": 67,
    "start_time": "2021-08-14T12:09:47.038Z"
   },
   {
    "duration": 10,
    "start_time": "2021-08-14T12:09:47.107Z"
   },
   {
    "duration": 31,
    "start_time": "2021-08-14T12:09:47.119Z"
   },
   {
    "duration": 14,
    "start_time": "2021-08-14T12:09:47.152Z"
   },
   {
    "duration": 42,
    "start_time": "2021-08-14T12:09:47.168Z"
   },
   {
    "duration": 65,
    "start_time": "2021-08-14T12:09:47.216Z"
   },
   {
    "duration": 18,
    "start_time": "2021-08-14T12:09:47.284Z"
   },
   {
    "duration": 12,
    "start_time": "2021-08-14T12:09:47.304Z"
   },
   {
    "duration": 8,
    "start_time": "2021-08-14T12:09:47.319Z"
   },
   {
    "duration": 328,
    "start_time": "2021-08-14T12:09:47.329Z"
   },
   {
    "duration": 11,
    "start_time": "2021-08-14T12:09:47.660Z"
   },
   {
    "duration": 29,
    "start_time": "2021-08-14T12:09:47.673Z"
   },
   {
    "duration": 15,
    "start_time": "2021-08-14T12:09:47.704Z"
   },
   {
    "duration": 330,
    "start_time": "2021-08-14T12:09:47.721Z"
   },
   {
    "duration": 12,
    "start_time": "2021-08-14T12:09:48.053Z"
   },
   {
    "duration": 5,
    "start_time": "2021-08-14T12:09:48.068Z"
   },
   {
    "duration": 367,
    "start_time": "2021-08-14T12:09:48.075Z"
   },
   {
    "duration": 13,
    "start_time": "2021-08-14T12:09:48.444Z"
   },
   {
    "duration": 5,
    "start_time": "2021-08-14T12:09:48.460Z"
   },
   {
    "duration": 246,
    "start_time": "2021-08-14T12:09:48.467Z"
   },
   {
    "duration": 33852,
    "start_time": "2021-08-14T12:09:48.716Z"
   },
   {
    "duration": 34,
    "start_time": "2021-08-14T12:10:22.572Z"
   },
   {
    "duration": 347,
    "start_time": "2021-08-14T12:10:22.610Z"
   },
   {
    "duration": -10216,
    "start_time": "2021-08-14T12:10:33.176Z"
   },
   {
    "duration": -10222,
    "start_time": "2021-08-14T12:10:33.184Z"
   },
   {
    "duration": -10225,
    "start_time": "2021-08-14T12:10:33.190Z"
   },
   {
    "duration": -10236,
    "start_time": "2021-08-14T12:10:33.203Z"
   },
   {
    "duration": -10248,
    "start_time": "2021-08-14T12:10:33.217Z"
   },
   {
    "duration": -10252,
    "start_time": "2021-08-14T12:10:33.223Z"
   },
   {
    "duration": -10261,
    "start_time": "2021-08-14T12:10:33.234Z"
   },
   {
    "duration": -10264,
    "start_time": "2021-08-14T12:10:33.239Z"
   },
   {
    "duration": -10272,
    "start_time": "2021-08-14T12:10:33.250Z"
   },
   {
    "duration": -10274,
    "start_time": "2021-08-14T12:10:33.254Z"
   },
   {
    "duration": -10283,
    "start_time": "2021-08-14T12:10:33.265Z"
   },
   {
    "duration": -10285,
    "start_time": "2021-08-14T12:10:33.269Z"
   },
   {
    "duration": -10288,
    "start_time": "2021-08-14T12:10:33.274Z"
   },
   {
    "duration": -10297,
    "start_time": "2021-08-14T12:10:33.286Z"
   },
   {
    "duration": -10306,
    "start_time": "2021-08-14T12:10:33.297Z"
   },
   {
    "duration": -10308,
    "start_time": "2021-08-14T12:10:33.301Z"
   },
   {
    "duration": -10307,
    "start_time": "2021-08-14T12:10:33.306Z"
   },
   {
    "duration": -10314,
    "start_time": "2021-08-14T12:10:33.315Z"
   },
   {
    "duration": -10316,
    "start_time": "2021-08-14T12:10:33.320Z"
   },
   {
    "duration": -10326,
    "start_time": "2021-08-14T12:10:33.331Z"
   },
   {
    "duration": -10329,
    "start_time": "2021-08-14T12:10:33.336Z"
   },
   {
    "duration": -10332,
    "start_time": "2021-08-14T12:10:33.340Z"
   },
   {
    "duration": -10340,
    "start_time": "2021-08-14T12:10:33.350Z"
   },
   {
    "duration": -10344,
    "start_time": "2021-08-14T12:10:33.355Z"
   },
   {
    "duration": -10352,
    "start_time": "2021-08-14T12:10:33.365Z"
   },
   {
    "duration": 9500,
    "start_time": "2021-08-14T12:10:39.825Z"
   },
   {
    "duration": -10242,
    "start_time": "2021-08-14T12:10:59.570Z"
   },
   {
    "duration": 6,
    "start_time": "2021-08-14T12:11:18.355Z"
   },
   {
    "duration": 6,
    "start_time": "2021-08-14T12:13:43.933Z"
   },
   {
    "duration": 9269,
    "start_time": "2021-08-14T12:19:20.882Z"
   },
   {
    "duration": 9796,
    "start_time": "2021-08-14T12:20:50.548Z"
   },
   {
    "duration": 10,
    "start_time": "2021-08-14T12:21:35.368Z"
   },
   {
    "duration": 405,
    "start_time": "2021-08-14T12:23:51.401Z"
   },
   {
    "duration": 389,
    "start_time": "2021-08-14T12:24:08.681Z"
   },
   {
    "duration": 1616,
    "start_time": "2021-08-14T12:24:36.312Z"
   },
   {
    "duration": 1543,
    "start_time": "2021-08-14T12:25:06.029Z"
   },
   {
    "duration": 352,
    "start_time": "2021-08-14T12:25:28.327Z"
   },
   {
    "duration": 1693,
    "start_time": "2021-08-14T12:25:39.349Z"
   },
   {
    "duration": 1784,
    "start_time": "2021-08-14T12:26:05.040Z"
   },
   {
    "duration": 376,
    "start_time": "2021-08-14T12:26:28.928Z"
   },
   {
    "duration": 223,
    "start_time": "2021-08-14T12:29:22.277Z"
   },
   {
    "duration": 375,
    "start_time": "2021-08-14T12:29:22.502Z"
   },
   {
    "duration": 144,
    "start_time": "2021-08-14T12:29:22.880Z"
   },
   {
    "duration": 15,
    "start_time": "2021-08-14T12:29:23.027Z"
   },
   {
    "duration": 15,
    "start_time": "2021-08-14T12:29:23.044Z"
   },
   {
    "duration": 42,
    "start_time": "2021-08-14T12:29:23.061Z"
   },
   {
    "duration": 14,
    "start_time": "2021-08-14T12:29:23.106Z"
   },
   {
    "duration": 30,
    "start_time": "2021-08-14T12:29:23.124Z"
   },
   {
    "duration": 62,
    "start_time": "2021-08-14T12:29:23.157Z"
   },
   {
    "duration": 49,
    "start_time": "2021-08-14T12:29:23.221Z"
   },
   {
    "duration": 40,
    "start_time": "2021-08-14T12:29:23.272Z"
   },
   {
    "duration": 20,
    "start_time": "2021-08-14T12:29:23.315Z"
   },
   {
    "duration": 16,
    "start_time": "2021-08-14T12:29:23.337Z"
   },
   {
    "duration": 55,
    "start_time": "2021-08-14T12:29:23.355Z"
   },
   {
    "duration": 17,
    "start_time": "2021-08-14T12:29:23.413Z"
   },
   {
    "duration": 17,
    "start_time": "2021-08-14T12:29:23.432Z"
   },
   {
    "duration": 51,
    "start_time": "2021-08-14T12:29:23.451Z"
   },
   {
    "duration": 40,
    "start_time": "2021-08-14T12:29:23.505Z"
   },
   {
    "duration": 13,
    "start_time": "2021-08-14T12:29:23.548Z"
   },
   {
    "duration": 56,
    "start_time": "2021-08-14T12:29:23.564Z"
   },
   {
    "duration": 13,
    "start_time": "2021-08-14T12:29:23.623Z"
   },
   {
    "duration": 12,
    "start_time": "2021-08-14T12:29:23.638Z"
   },
   {
    "duration": 94,
    "start_time": "2021-08-14T12:29:23.656Z"
   },
   {
    "duration": 8,
    "start_time": "2021-08-14T12:29:23.753Z"
   },
   {
    "duration": 38,
    "start_time": "2021-08-14T12:29:23.764Z"
   },
   {
    "duration": 9,
    "start_time": "2021-08-14T12:29:23.804Z"
   },
   {
    "duration": 319,
    "start_time": "2021-08-14T12:29:23.815Z"
   },
   {
    "duration": 12,
    "start_time": "2021-08-14T12:29:24.137Z"
   },
   {
    "duration": 5,
    "start_time": "2021-08-14T12:29:24.151Z"
   },
   {
    "duration": 41,
    "start_time": "2021-08-14T12:29:24.159Z"
   },
   {
    "duration": 322,
    "start_time": "2021-08-14T12:29:24.202Z"
   },
   {
    "duration": 12,
    "start_time": "2021-08-14T12:29:24.527Z"
   },
   {
    "duration": 4,
    "start_time": "2021-08-14T12:29:24.541Z"
   },
   {
    "duration": 348,
    "start_time": "2021-08-14T12:29:24.548Z"
   },
   {
    "duration": 11,
    "start_time": "2021-08-14T12:29:24.901Z"
   },
   {
    "duration": 4,
    "start_time": "2021-08-14T12:29:24.915Z"
   },
   {
    "duration": 242,
    "start_time": "2021-08-14T12:29:24.922Z"
   },
   {
    "duration": 546,
    "start_time": "2021-08-14T12:29:25.167Z"
   },
   {
    "duration": 12,
    "start_time": "2021-08-14T12:29:25.715Z"
   },
   {
    "duration": 9,
    "start_time": "2021-08-14T12:29:25.730Z"
   },
   {
    "duration": 1643,
    "start_time": "2021-08-14T12:29:25.742Z"
   },
   {
    "duration": 262,
    "start_time": "2021-08-14T12:29:27.388Z"
   },
   {
    "duration": 435,
    "start_time": "2021-08-14T12:29:27.653Z"
   },
   {
    "duration": 21,
    "start_time": "2021-08-14T12:29:28.091Z"
   },
   {
    "duration": 62,
    "start_time": "2021-08-14T12:29:28.114Z"
   },
   {
    "duration": 28,
    "start_time": "2021-08-14T12:29:28.178Z"
   },
   {
    "duration": 7,
    "start_time": "2021-08-14T12:29:28.209Z"
   },
   {
    "duration": 8,
    "start_time": "2021-08-14T12:29:28.218Z"
   },
   {
    "duration": 519,
    "start_time": "2021-08-14T12:29:28.229Z"
   },
   {
    "duration": 12,
    "start_time": "2021-08-14T12:29:28.752Z"
   },
   {
    "duration": 323,
    "start_time": "2021-08-14T12:42:34.696Z"
   },
   {
    "duration": 294,
    "start_time": "2021-08-14T12:42:35.021Z"
   },
   {
    "duration": 149,
    "start_time": "2021-08-14T12:42:35.318Z"
   },
   {
    "duration": 13,
    "start_time": "2021-08-14T12:42:35.470Z"
   },
   {
    "duration": 25,
    "start_time": "2021-08-14T12:42:35.485Z"
   },
   {
    "duration": 13,
    "start_time": "2021-08-14T12:42:35.512Z"
   },
   {
    "duration": 11,
    "start_time": "2021-08-14T12:42:35.528Z"
   },
   {
    "duration": 70,
    "start_time": "2021-08-14T12:42:35.543Z"
   },
   {
    "duration": 21,
    "start_time": "2021-08-14T12:42:35.616Z"
   },
   {
    "duration": 67,
    "start_time": "2021-08-14T12:42:35.640Z"
   },
   {
    "duration": 15,
    "start_time": "2021-08-14T12:42:35.709Z"
   },
   {
    "duration": 19,
    "start_time": "2021-08-14T12:42:35.727Z"
   },
   {
    "duration": 15,
    "start_time": "2021-08-14T12:42:35.749Z"
   },
   {
    "duration": 19,
    "start_time": "2021-08-14T12:42:35.800Z"
   },
   {
    "duration": 16,
    "start_time": "2021-08-14T12:42:35.822Z"
   },
   {
    "duration": 15,
    "start_time": "2021-08-14T12:42:35.841Z"
   },
   {
    "duration": 49,
    "start_time": "2021-08-14T12:42:35.858Z"
   },
   {
    "duration": 36,
    "start_time": "2021-08-14T12:42:35.909Z"
   },
   {
    "duration": 10,
    "start_time": "2021-08-14T12:42:35.948Z"
   },
   {
    "duration": 52,
    "start_time": "2021-08-14T12:42:35.961Z"
   },
   {
    "duration": 14,
    "start_time": "2021-08-14T12:42:36.015Z"
   },
   {
    "duration": 13,
    "start_time": "2021-08-14T12:42:36.031Z"
   },
   {
    "duration": 95,
    "start_time": "2021-08-14T12:42:36.050Z"
   },
   {
    "duration": 8,
    "start_time": "2021-08-14T12:42:36.149Z"
   },
   {
    "duration": 12,
    "start_time": "2021-08-14T12:42:36.159Z"
   },
   {
    "duration": 27,
    "start_time": "2021-08-14T12:42:36.178Z"
   },
   {
    "duration": 325,
    "start_time": "2021-08-14T12:42:36.207Z"
   },
   {
    "duration": 12,
    "start_time": "2021-08-14T12:42:36.534Z"
   },
   {
    "duration": 4,
    "start_time": "2021-08-14T12:42:36.549Z"
   },
   {
    "duration": 14,
    "start_time": "2021-08-14T12:42:36.556Z"
   },
   {
    "duration": 339,
    "start_time": "2021-08-14T12:42:36.572Z"
   },
   {
    "duration": 12,
    "start_time": "2021-08-14T12:42:36.914Z"
   },
   {
    "duration": 5,
    "start_time": "2021-08-14T12:42:36.929Z"
   },
   {
    "duration": 356,
    "start_time": "2021-08-14T12:42:36.936Z"
   },
   {
    "duration": 18,
    "start_time": "2021-08-14T12:42:37.294Z"
   },
   {
    "duration": 7,
    "start_time": "2021-08-14T12:42:37.314Z"
   },
   {
    "duration": 250,
    "start_time": "2021-08-14T12:42:37.324Z"
   },
   {
    "duration": 33263,
    "start_time": "2021-08-14T12:42:37.576Z"
   },
   {
    "duration": 12,
    "start_time": "2021-08-14T12:43:10.842Z"
   },
   {
    "duration": 21,
    "start_time": "2021-08-14T12:43:10.857Z"
   },
   {
    "duration": 1641,
    "start_time": "2021-08-14T12:43:10.881Z"
   },
   {
    "duration": 258,
    "start_time": "2021-08-14T12:43:12.524Z"
   },
   {
    "duration": 333,
    "start_time": "2021-08-14T12:43:12.784Z"
   },
   {
    "duration": 11,
    "start_time": "2021-08-14T12:43:13.119Z"
   },
   {
    "duration": 79,
    "start_time": "2021-08-14T12:43:13.132Z"
   },
   {
    "duration": 6,
    "start_time": "2021-08-14T12:43:13.213Z"
   },
   {
    "duration": 29,
    "start_time": "2021-08-14T12:43:13.222Z"
   },
   {
    "duration": 33,
    "start_time": "2021-08-14T12:43:13.253Z"
   },
   {
    "duration": 470,
    "start_time": "2021-08-14T12:43:13.288Z"
   },
   {
    "duration": 10,
    "start_time": "2021-08-14T12:43:13.760Z"
   },
   {
    "duration": 421,
    "start_time": "2021-08-14T12:55:46.163Z"
   },
   {
    "duration": 268,
    "start_time": "2021-08-14T12:55:46.587Z"
   },
   {
    "duration": 142,
    "start_time": "2021-08-14T12:55:46.858Z"
   },
   {
    "duration": 15,
    "start_time": "2021-08-14T12:55:47.002Z"
   },
   {
    "duration": 12,
    "start_time": "2021-08-14T12:55:47.021Z"
   },
   {
    "duration": 12,
    "start_time": "2021-08-14T12:55:47.035Z"
   },
   {
    "duration": 52,
    "start_time": "2021-08-14T12:55:47.050Z"
   },
   {
    "duration": 33,
    "start_time": "2021-08-14T12:55:47.106Z"
   },
   {
    "duration": 22,
    "start_time": "2021-08-14T12:55:47.142Z"
   },
   {
    "duration": 73,
    "start_time": "2021-08-14T12:55:47.167Z"
   },
   {
    "duration": 16,
    "start_time": "2021-08-14T12:55:47.243Z"
   },
   {
    "duration": 47,
    "start_time": "2021-08-14T12:55:47.261Z"
   },
   {
    "duration": 15,
    "start_time": "2021-08-14T12:55:47.311Z"
   },
   {
    "duration": 17,
    "start_time": "2021-08-14T12:55:47.329Z"
   },
   {
    "duration": 17,
    "start_time": "2021-08-14T12:55:47.348Z"
   },
   {
    "duration": 17,
    "start_time": "2021-08-14T12:55:47.401Z"
   },
   {
    "duration": 17,
    "start_time": "2021-08-14T12:55:47.421Z"
   },
   {
    "duration": 67,
    "start_time": "2021-08-14T12:55:47.440Z"
   },
   {
    "duration": 11,
    "start_time": "2021-08-14T12:55:47.509Z"
   },
   {
    "duration": 19,
    "start_time": "2021-08-14T12:55:47.522Z"
   },
   {
    "duration": 14,
    "start_time": "2021-08-14T12:55:47.543Z"
   },
   {
    "duration": 49,
    "start_time": "2021-08-14T12:55:47.559Z"
   },
   {
    "duration": 64,
    "start_time": "2021-08-14T12:55:47.615Z"
   },
   {
    "duration": 8,
    "start_time": "2021-08-14T12:55:47.702Z"
   },
   {
    "duration": 9,
    "start_time": "2021-08-14T12:55:47.713Z"
   },
   {
    "duration": 8,
    "start_time": "2021-08-14T12:55:47.725Z"
   },
   {
    "duration": 338,
    "start_time": "2021-08-14T12:55:47.735Z"
   },
   {
    "duration": 12,
    "start_time": "2021-08-14T12:55:48.075Z"
   },
   {
    "duration": 5,
    "start_time": "2021-08-14T12:55:48.101Z"
   },
   {
    "duration": 16,
    "start_time": "2021-08-14T12:55:48.109Z"
   },
   {
    "duration": 337,
    "start_time": "2021-08-14T12:55:48.127Z"
   },
   {
    "duration": 13,
    "start_time": "2021-08-14T12:55:48.466Z"
   },
   {
    "duration": 22,
    "start_time": "2021-08-14T12:55:48.481Z"
   },
   {
    "duration": 344,
    "start_time": "2021-08-14T12:55:48.505Z"
   },
   {
    "duration": 11,
    "start_time": "2021-08-14T12:55:48.852Z"
   },
   {
    "duration": 14,
    "start_time": "2021-08-14T12:55:48.865Z"
   },
   {
    "duration": 239,
    "start_time": "2021-08-14T12:55:48.882Z"
   },
   {
    "duration": 33410,
    "start_time": "2021-08-14T12:55:49.124Z"
   },
   {
    "duration": 15,
    "start_time": "2021-08-14T12:56:22.537Z"
   },
   {
    "duration": 10,
    "start_time": "2021-08-14T12:56:22.554Z"
   },
   {
    "duration": 1726,
    "start_time": "2021-08-14T12:56:22.567Z"
   },
   {
    "duration": 260,
    "start_time": "2021-08-14T12:56:24.296Z"
   },
   {
    "duration": 342,
    "start_time": "2021-08-14T12:56:24.558Z"
   },
   {
    "duration": 13,
    "start_time": "2021-08-14T12:56:24.902Z"
   },
   {
    "duration": 62,
    "start_time": "2021-08-14T12:56:24.917Z"
   },
   {
    "duration": 23,
    "start_time": "2021-08-14T12:56:24.982Z"
   },
   {
    "duration": 18,
    "start_time": "2021-08-14T12:56:25.007Z"
   },
   {
    "duration": 6,
    "start_time": "2021-08-14T12:56:25.028Z"
   },
   {
    "duration": 509,
    "start_time": "2021-08-14T12:56:25.037Z"
   },
   {
    "duration": 9,
    "start_time": "2021-08-14T12:56:25.549Z"
   },
   {
    "duration": -794,
    "start_time": "2021-08-14T13:09:16.654Z"
   },
   {
    "duration": -797,
    "start_time": "2021-08-14T13:09:16.661Z"
   },
   {
    "duration": -805,
    "start_time": "2021-08-14T13:09:16.672Z"
   },
   {
    "duration": -775,
    "start_time": "2021-08-14T13:09:16.678Z"
   },
   {
    "duration": -776,
    "start_time": "2021-08-14T13:09:16.682Z"
   },
   {
    "duration": -778,
    "start_time": "2021-08-14T13:09:16.687Z"
   },
   {
    "duration": -779,
    "start_time": "2021-08-14T13:09:16.692Z"
   },
   {
    "duration": -786,
    "start_time": "2021-08-14T13:09:16.703Z"
   },
   {
    "duration": -788,
    "start_time": "2021-08-14T13:09:16.708Z"
   },
   {
    "duration": -789,
    "start_time": "2021-08-14T13:09:16.713Z"
   },
   {
    "duration": -791,
    "start_time": "2021-08-14T13:09:16.718Z"
   },
   {
    "duration": -818,
    "start_time": "2021-08-14T13:09:16.749Z"
   },
   {
    "duration": -824,
    "start_time": "2021-08-14T13:09:16.758Z"
   },
   {
    "duration": -869,
    "start_time": "2021-08-14T13:09:16.806Z"
   },
   {
    "duration": -870,
    "start_time": "2021-08-14T13:09:16.810Z"
   },
   {
    "duration": -813,
    "start_time": "2021-08-14T13:09:16.815Z"
   },
   {
    "duration": -1112,
    "start_time": "2021-08-14T13:09:17.116Z"
   },
   {
    "duration": -1113,
    "start_time": "2021-08-14T13:09:17.121Z"
   },
   {
    "duration": -1114,
    "start_time": "2021-08-14T13:09:17.125Z"
   },
   {
    "duration": -1116,
    "start_time": "2021-08-14T13:09:17.130Z"
   },
   {
    "duration": -1117,
    "start_time": "2021-08-14T13:09:17.134Z"
   },
   {
    "duration": -1119,
    "start_time": "2021-08-14T13:09:17.139Z"
   },
   {
    "duration": -1120,
    "start_time": "2021-08-14T13:09:17.143Z"
   },
   {
    "duration": -1122,
    "start_time": "2021-08-14T13:09:17.148Z"
   },
   {
    "duration": -1368,
    "start_time": "2021-08-14T13:09:17.396Z"
   },
   {
    "duration": -1370,
    "start_time": "2021-08-14T13:09:17.401Z"
   },
   {
    "duration": -1371,
    "start_time": "2021-08-14T13:09:17.405Z"
   },
   {
    "duration": -1374,
    "start_time": "2021-08-14T13:09:17.410Z"
   },
   {
    "duration": -1382,
    "start_time": "2021-08-14T13:09:17.420Z"
   },
   {
    "duration": -1385,
    "start_time": "2021-08-14T13:09:17.426Z"
   },
   {
    "duration": -1330,
    "start_time": "2021-08-14T13:09:17.430Z"
   },
   {
    "duration": -1332,
    "start_time": "2021-08-14T13:09:17.435Z"
   },
   {
    "duration": -1332,
    "start_time": "2021-08-14T13:09:17.439Z"
   },
   {
    "duration": -1335,
    "start_time": "2021-08-14T13:09:17.445Z"
   },
   {
    "duration": -1336,
    "start_time": "2021-08-14T13:09:17.449Z"
   },
   {
    "duration": -1338,
    "start_time": "2021-08-14T13:09:17.454Z"
   },
   {
    "duration": -1340,
    "start_time": "2021-08-14T13:09:17.458Z"
   },
   {
    "duration": -1342,
    "start_time": "2021-08-14T13:09:17.463Z"
   },
   {
    "duration": -1343,
    "start_time": "2021-08-14T13:09:17.467Z"
   },
   {
    "duration": -1345,
    "start_time": "2021-08-14T13:09:17.472Z"
   },
   {
    "duration": -1346,
    "start_time": "2021-08-14T13:09:17.476Z"
   },
   {
    "duration": -1347,
    "start_time": "2021-08-14T13:09:17.481Z"
   },
   {
    "duration": -1286,
    "start_time": "2021-08-14T13:09:17.485Z"
   },
   {
    "duration": -1285,
    "start_time": "2021-08-14T13:09:17.489Z"
   },
   {
    "duration": -1285,
    "start_time": "2021-08-14T13:09:17.493Z"
   },
   {
    "duration": -1287,
    "start_time": "2021-08-14T13:09:17.498Z"
   },
   {
    "duration": -1287,
    "start_time": "2021-08-14T13:09:17.502Z"
   },
   {
    "duration": -1287,
    "start_time": "2021-08-14T13:09:17.506Z"
   },
   {
    "duration": -1288,
    "start_time": "2021-08-14T13:09:17.510Z"
   },
   {
    "duration": -1289,
    "start_time": "2021-08-14T13:09:17.514Z"
   },
   {
    "duration": -1290,
    "start_time": "2021-08-14T13:09:17.518Z"
   },
   {
    "duration": -1300,
    "start_time": "2021-08-14T13:09:17.532Z"
   },
   {
    "duration": -1301,
    "start_time": "2021-08-14T13:09:17.536Z"
   },
   {
    "duration": -1302,
    "start_time": "2021-08-14T13:09:17.540Z"
   },
   {
    "duration": -1305,
    "start_time": "2021-08-14T13:09:17.546Z"
   },
   {
    "duration": -1307,
    "start_time": "2021-08-14T13:09:17.551Z"
   },
   {
    "duration": -1309,
    "start_time": "2021-08-14T13:09:17.556Z"
   },
   {
    "duration": -1257,
    "start_time": "2021-08-14T13:09:17.560Z"
   },
   {
    "duration": -1258,
    "start_time": "2021-08-14T13:09:17.565Z"
   },
   {
    "duration": -1258,
    "start_time": "2021-08-14T13:09:17.569Z"
   },
   {
    "duration": -1259,
    "start_time": "2021-08-14T13:09:17.573Z"
   },
   {
    "duration": -1261,
    "start_time": "2021-08-14T13:09:17.579Z"
   },
   {
    "duration": -1258,
    "start_time": "2021-08-14T13:09:17.583Z"
   },
   {
    "duration": -1261,
    "start_time": "2021-08-14T13:09:17.588Z"
   },
   {
    "duration": -1264,
    "start_time": "2021-08-14T13:09:17.593Z"
   },
   {
    "duration": 3512,
    "start_time": "2021-08-14T13:09:26.280Z"
   },
   {
    "duration": 29,
    "start_time": "2021-08-14T13:09:37.572Z"
   },
   {
    "duration": -751,
    "start_time": "2021-08-14T13:13:39.264Z"
   },
   {
    "duration": -764,
    "start_time": "2021-08-14T13:13:39.279Z"
   },
   {
    "duration": 615,
    "start_time": "2021-08-14T13:14:30.161Z"
   },
   {
    "duration": 312,
    "start_time": "2021-08-14T13:15:20.716Z"
   },
   {
    "duration": 3610,
    "start_time": "2021-08-14T13:15:33.001Z"
   },
   {
    "duration": 8913,
    "start_time": "2021-08-14T13:16:54.968Z"
   },
   {
    "duration": 3235,
    "start_time": "2021-08-14T13:17:17.060Z"
   },
   {
    "duration": 293,
    "start_time": "2021-08-14T13:18:26.570Z"
   },
   {
    "duration": 573,
    "start_time": "2021-08-14T13:19:24.791Z"
   },
   {
    "duration": 847,
    "start_time": "2021-08-14T13:20:49.894Z"
   },
   {
    "duration": 614,
    "start_time": "2021-08-14T13:22:51.073Z"
   },
   {
    "duration": 8648,
    "start_time": "2021-08-14T13:24:23.150Z"
   },
   {
    "duration": -840,
    "start_time": "2021-08-14T13:24:32.643Z"
   },
   {
    "duration": -848,
    "start_time": "2021-08-14T13:24:32.652Z"
   },
   {
    "duration": -853,
    "start_time": "2021-08-14T13:24:32.658Z"
   },
   {
    "duration": -861,
    "start_time": "2021-08-14T13:24:32.667Z"
   },
   {
    "duration": -868,
    "start_time": "2021-08-14T13:24:32.676Z"
   },
   {
    "duration": -875,
    "start_time": "2021-08-14T13:24:32.684Z"
   },
   {
    "duration": -882,
    "start_time": "2021-08-14T13:24:32.692Z"
   },
   {
    "duration": -889,
    "start_time": "2021-08-14T13:24:32.700Z"
   },
   {
    "duration": -893,
    "start_time": "2021-08-14T13:24:32.706Z"
   },
   {
    "duration": -900,
    "start_time": "2021-08-14T13:24:32.714Z"
   },
   {
    "duration": -904,
    "start_time": "2021-08-14T13:24:32.720Z"
   },
   {
    "duration": -920,
    "start_time": "2021-08-14T13:24:32.737Z"
   },
   {
    "duration": -926,
    "start_time": "2021-08-14T13:24:32.744Z"
   },
   {
    "duration": -932,
    "start_time": "2021-08-14T13:24:32.752Z"
   },
   {
    "duration": -938,
    "start_time": "2021-08-14T13:24:32.759Z"
   },
   {
    "duration": -945,
    "start_time": "2021-08-14T13:24:32.767Z"
   },
   {
    "duration": -950,
    "start_time": "2021-08-14T13:24:32.774Z"
   },
   {
    "duration": -958,
    "start_time": "2021-08-14T13:24:32.783Z"
   },
   {
    "duration": -963,
    "start_time": "2021-08-14T13:24:32.789Z"
   },
   {
    "duration": -968,
    "start_time": "2021-08-14T13:24:32.796Z"
   },
   {
    "duration": -974,
    "start_time": "2021-08-14T13:24:32.803Z"
   },
   {
    "duration": -979,
    "start_time": "2021-08-14T13:24:32.809Z"
   },
   {
    "duration": -984,
    "start_time": "2021-08-14T13:24:32.816Z"
   },
   {
    "duration": -990,
    "start_time": "2021-08-14T13:24:32.823Z"
   },
   {
    "duration": -994,
    "start_time": "2021-08-14T13:24:32.829Z"
   },
   {
    "duration": -1009,
    "start_time": "2021-08-14T13:24:32.845Z"
   },
   {
    "duration": -1015,
    "start_time": "2021-08-14T13:24:32.852Z"
   },
   {
    "duration": -1020,
    "start_time": "2021-08-14T13:24:32.859Z"
   },
   {
    "duration": -1026,
    "start_time": "2021-08-14T13:24:32.866Z"
   },
   {
    "duration": -1032,
    "start_time": "2021-08-14T13:24:32.873Z"
   },
   {
    "duration": -976,
    "start_time": "2021-08-14T13:24:32.879Z"
   },
   {
    "duration": -981,
    "start_time": "2021-08-14T13:24:32.886Z"
   },
   {
    "duration": -987,
    "start_time": "2021-08-14T13:24:32.893Z"
   },
   {
    "duration": -992,
    "start_time": "2021-08-14T13:24:32.900Z"
   },
   {
    "duration": -997,
    "start_time": "2021-08-14T13:24:32.906Z"
   },
   {
    "duration": -1002,
    "start_time": "2021-08-14T13:24:32.913Z"
   },
   {
    "duration": -1007,
    "start_time": "2021-08-14T13:24:32.919Z"
   },
   {
    "duration": -1012,
    "start_time": "2021-08-14T13:24:32.926Z"
   },
   {
    "duration": -1017,
    "start_time": "2021-08-14T13:24:32.932Z"
   },
   {
    "duration": -1023,
    "start_time": "2021-08-14T13:24:32.939Z"
   },
   {
    "duration": 365,
    "start_time": "2021-08-14T13:24:59.927Z"
   },
   {
    "duration": 254,
    "start_time": "2021-08-14T13:25:00.294Z"
   },
   {
    "duration": 149,
    "start_time": "2021-08-14T13:25:00.551Z"
   },
   {
    "duration": 14,
    "start_time": "2021-08-14T13:25:00.703Z"
   },
   {
    "duration": 12,
    "start_time": "2021-08-14T13:25:00.720Z"
   },
   {
    "duration": 14,
    "start_time": "2021-08-14T13:25:00.734Z"
   },
   {
    "duration": 53,
    "start_time": "2021-08-14T13:25:00.750Z"
   },
   {
    "duration": 33,
    "start_time": "2021-08-14T13:25:00.807Z"
   },
   {
    "duration": 22,
    "start_time": "2021-08-14T13:25:00.843Z"
   },
   {
    "duration": 79,
    "start_time": "2021-08-14T13:25:00.868Z"
   },
   {
    "duration": 15,
    "start_time": "2021-08-14T13:25:00.950Z"
   },
   {
    "duration": 47,
    "start_time": "2021-08-14T13:25:00.967Z"
   },
   {
    "duration": 16,
    "start_time": "2021-08-14T13:25:01.016Z"
   },
   {
    "duration": 20,
    "start_time": "2021-08-14T13:25:01.035Z"
   },
   {
    "duration": 50,
    "start_time": "2021-08-14T13:25:01.057Z"
   },
   {
    "duration": 17,
    "start_time": "2021-08-14T13:25:01.109Z"
   },
   {
    "duration": 22,
    "start_time": "2021-08-14T13:25:01.129Z"
   },
   {
    "duration": 56,
    "start_time": "2021-08-14T13:25:01.154Z"
   },
   {
    "duration": 14,
    "start_time": "2021-08-14T13:25:01.213Z"
   },
   {
    "duration": 25,
    "start_time": "2021-08-14T13:25:01.230Z"
   },
   {
    "duration": 48,
    "start_time": "2021-08-14T13:25:01.257Z"
   },
   {
    "duration": 27,
    "start_time": "2021-08-14T13:25:01.308Z"
   },
   {
    "duration": 78,
    "start_time": "2021-08-14T13:25:01.342Z"
   },
   {
    "duration": 8,
    "start_time": "2021-08-14T13:25:01.424Z"
   },
   {
    "duration": 38,
    "start_time": "2021-08-14T13:25:01.435Z"
   },
   {
    "duration": 53,
    "start_time": "2021-08-14T13:25:01.476Z"
   },
   {
    "duration": 312,
    "start_time": "2021-08-14T13:25:01.532Z"
   },
   {
    "duration": 12,
    "start_time": "2021-08-14T13:25:01.847Z"
   },
   {
    "duration": 45,
    "start_time": "2021-08-14T13:25:01.861Z"
   },
   {
    "duration": 43,
    "start_time": "2021-08-14T13:25:01.909Z"
   },
   {
    "duration": 330,
    "start_time": "2021-08-14T13:25:01.954Z"
   },
   {
    "duration": 23,
    "start_time": "2021-08-14T13:25:02.286Z"
   },
   {
    "duration": 12,
    "start_time": "2021-08-14T13:25:02.312Z"
   },
   {
    "duration": 359,
    "start_time": "2021-08-14T13:25:02.327Z"
   },
   {
    "duration": 18,
    "start_time": "2021-08-14T13:25:02.689Z"
   },
   {
    "duration": 11,
    "start_time": "2021-08-14T13:25:02.710Z"
   },
   {
    "duration": 226,
    "start_time": "2021-08-14T13:25:02.723Z"
   },
   {
    "duration": 659,
    "start_time": "2021-08-14T13:25:02.952Z"
   },
   {
    "duration": 12,
    "start_time": "2021-08-14T13:25:03.613Z"
   },
   {
    "duration": 14,
    "start_time": "2021-08-14T13:25:03.627Z"
   },
   {
    "duration": 1737,
    "start_time": "2021-08-14T13:25:03.643Z"
   },
   {
    "duration": 260,
    "start_time": "2021-08-14T13:25:05.383Z"
   },
   {
    "duration": 339,
    "start_time": "2021-08-14T13:25:05.646Z"
   },
   {
    "duration": 22,
    "start_time": "2021-08-14T13:25:05.988Z"
   },
   {
    "duration": 62,
    "start_time": "2021-08-14T13:25:06.012Z"
   },
   {
    "duration": 29,
    "start_time": "2021-08-14T13:25:06.076Z"
   },
   {
    "duration": 17,
    "start_time": "2021-08-14T13:25:06.107Z"
   },
   {
    "duration": 10,
    "start_time": "2021-08-14T13:25:06.126Z"
   },
   {
    "duration": 513,
    "start_time": "2021-08-14T13:25:06.139Z"
   },
   {
    "duration": -897,
    "start_time": "2021-08-14T13:25:07.552Z"
   },
   {
    "duration": -906,
    "start_time": "2021-08-14T13:25:07.563Z"
   },
   {
    "duration": -919,
    "start_time": "2021-08-14T13:25:07.578Z"
   },
   {
    "duration": -928,
    "start_time": "2021-08-14T13:25:07.588Z"
   },
   {
    "duration": -937,
    "start_time": "2021-08-14T13:25:07.599Z"
   },
   {
    "duration": -943,
    "start_time": "2021-08-14T13:25:07.606Z"
   },
   {
    "duration": -948,
    "start_time": "2021-08-14T13:25:07.613Z"
   },
   {
    "duration": -953,
    "start_time": "2021-08-14T13:25:07.619Z"
   },
   {
    "duration": -958,
    "start_time": "2021-08-14T13:25:07.626Z"
   },
   {
    "duration": -963,
    "start_time": "2021-08-14T13:25:07.632Z"
   },
   {
    "duration": -969,
    "start_time": "2021-08-14T13:25:07.639Z"
   },
   {
    "duration": -973,
    "start_time": "2021-08-14T13:25:07.645Z"
   },
   {
    "duration": -990,
    "start_time": "2021-08-14T13:25:07.664Z"
   },
   {
    "duration": -995,
    "start_time": "2021-08-14T13:25:07.670Z"
   },
   {
    "duration": -1000,
    "start_time": "2021-08-14T13:25:07.677Z"
   },
   {
    "duration": -1006,
    "start_time": "2021-08-14T13:25:07.684Z"
   },
   {
    "duration": -1011,
    "start_time": "2021-08-14T13:25:07.691Z"
   },
   {
    "duration": -1016,
    "start_time": "2021-08-14T13:25:07.697Z"
   },
   {
    "duration": 1628,
    "start_time": "2021-08-14T13:25:41.059Z"
   },
   {
    "duration": 134,
    "start_time": "2021-08-14T13:28:34.080Z"
   },
   {
    "duration": 481,
    "start_time": "2021-08-14T13:28:51.377Z"
   },
   {
    "duration": 752646,
    "start_time": "2021-08-14T13:28:56.622Z"
   },
   {
    "duration": 467,
    "start_time": "2021-08-14T13:41:29.272Z"
   },
   {
    "duration": 2364,
    "start_time": "2021-08-14T13:41:29.742Z"
   },
   {
    "duration": 8556,
    "start_time": "2021-08-14T14:12:20.469Z"
   },
   {
    "duration": 8888,
    "start_time": "2021-08-14T14:12:36.539Z"
   },
   {
    "duration": 10025,
    "start_time": "2021-08-14T14:13:12.904Z"
   },
   {
    "duration": 265,
    "start_time": "2021-08-14T14:13:36.869Z"
   },
   {
    "duration": 653,
    "start_time": "2021-08-14T14:13:37.136Z"
   },
   {
    "duration": 146,
    "start_time": "2021-08-14T14:13:37.793Z"
   },
   {
    "duration": 14,
    "start_time": "2021-08-14T14:13:37.942Z"
   },
   {
    "duration": 44,
    "start_time": "2021-08-14T14:13:37.960Z"
   },
   {
    "duration": 17,
    "start_time": "2021-08-14T14:13:38.007Z"
   },
   {
    "duration": 22,
    "start_time": "2021-08-14T14:13:38.026Z"
   },
   {
    "duration": 55,
    "start_time": "2021-08-14T14:13:38.052Z"
   },
   {
    "duration": 21,
    "start_time": "2021-08-14T14:13:38.111Z"
   },
   {
    "duration": 76,
    "start_time": "2021-08-14T14:13:38.135Z"
   },
   {
    "duration": 22,
    "start_time": "2021-08-14T14:13:38.214Z"
   },
   {
    "duration": 28,
    "start_time": "2021-08-14T14:13:38.239Z"
   },
   {
    "duration": 48,
    "start_time": "2021-08-14T14:13:38.270Z"
   },
   {
    "duration": 19,
    "start_time": "2021-08-14T14:13:38.321Z"
   },
   {
    "duration": 21,
    "start_time": "2021-08-14T14:13:38.343Z"
   },
   {
    "duration": 18,
    "start_time": "2021-08-14T14:13:38.400Z"
   },
   {
    "duration": 23,
    "start_time": "2021-08-14T14:13:38.420Z"
   },
   {
    "duration": 66,
    "start_time": "2021-08-14T14:13:38.445Z"
   },
   {
    "duration": 15,
    "start_time": "2021-08-14T14:13:38.514Z"
   },
   {
    "duration": 30,
    "start_time": "2021-08-14T14:13:38.533Z"
   },
   {
    "duration": 50,
    "start_time": "2021-08-14T14:13:38.566Z"
   },
   {
    "duration": 19,
    "start_time": "2021-08-14T14:13:38.619Z"
   },
   {
    "duration": 113,
    "start_time": "2021-08-14T14:13:38.648Z"
   },
   {
    "duration": 13,
    "start_time": "2021-08-14T14:13:38.766Z"
   },
   {
    "duration": 43,
    "start_time": "2021-08-14T14:13:38.781Z"
   },
   {
    "duration": 21,
    "start_time": "2021-08-14T14:13:38.826Z"
   },
   {
    "duration": 329,
    "start_time": "2021-08-14T14:13:38.849Z"
   },
   {
    "duration": 21,
    "start_time": "2021-08-14T14:13:39.180Z"
   },
   {
    "duration": 5,
    "start_time": "2021-08-14T14:13:39.204Z"
   },
   {
    "duration": 19,
    "start_time": "2021-08-14T14:13:39.211Z"
   },
   {
    "duration": 361,
    "start_time": "2021-08-14T14:13:39.233Z"
   },
   {
    "duration": 20,
    "start_time": "2021-08-14T14:13:39.601Z"
   },
   {
    "duration": 8,
    "start_time": "2021-08-14T14:13:39.624Z"
   },
   {
    "duration": 396,
    "start_time": "2021-08-14T14:13:39.635Z"
   },
   {
    "duration": 13,
    "start_time": "2021-08-14T14:13:40.034Z"
   },
   {
    "duration": 18,
    "start_time": "2021-08-14T14:13:40.049Z"
   },
   {
    "duration": 252,
    "start_time": "2021-08-14T14:13:40.070Z"
   },
   {
    "duration": 596,
    "start_time": "2021-08-14T14:13:40.325Z"
   },
   {
    "duration": 14,
    "start_time": "2021-08-14T14:13:40.923Z"
   },
   {
    "duration": 10,
    "start_time": "2021-08-14T14:13:40.939Z"
   },
   {
    "duration": 680,
    "start_time": "2021-08-14T14:13:40.952Z"
   },
   {
    "duration": -799,
    "start_time": "2021-08-14T14:13:42.434Z"
   },
   {
    "duration": -806,
    "start_time": "2021-08-14T14:13:42.443Z"
   },
   {
    "duration": -815,
    "start_time": "2021-08-14T14:13:42.454Z"
   },
   {
    "duration": -824,
    "start_time": "2021-08-14T14:13:42.464Z"
   },
   {
    "duration": -832,
    "start_time": "2021-08-14T14:13:42.474Z"
   },
   {
    "duration": -840,
    "start_time": "2021-08-14T14:13:42.484Z"
   },
   {
    "duration": -850,
    "start_time": "2021-08-14T14:13:42.495Z"
   },
   {
    "duration": -857,
    "start_time": "2021-08-14T14:13:42.504Z"
   },
   {
    "duration": -867,
    "start_time": "2021-08-14T14:13:42.516Z"
   },
   {
    "duration": -875,
    "start_time": "2021-08-14T14:13:42.525Z"
   },
   {
    "duration": -895,
    "start_time": "2021-08-14T14:13:42.547Z"
   },
   {
    "duration": -900,
    "start_time": "2021-08-14T14:13:42.553Z"
   },
   {
    "duration": -909,
    "start_time": "2021-08-14T14:13:42.564Z"
   },
   {
    "duration": -916,
    "start_time": "2021-08-14T14:13:42.573Z"
   },
   {
    "duration": -925,
    "start_time": "2021-08-14T14:13:42.583Z"
   },
   {
    "duration": -933,
    "start_time": "2021-08-14T14:13:42.593Z"
   },
   {
    "duration": -942,
    "start_time": "2021-08-14T14:13:42.603Z"
   },
   {
    "duration": -947,
    "start_time": "2021-08-14T14:13:42.610Z"
   },
   {
    "duration": -953,
    "start_time": "2021-08-14T14:13:42.617Z"
   },
   {
    "duration": -957,
    "start_time": "2021-08-14T14:13:42.623Z"
   },
   {
    "duration": -964,
    "start_time": "2021-08-14T14:13:42.631Z"
   },
   {
    "duration": -968,
    "start_time": "2021-08-14T14:13:42.637Z"
   },
   {
    "duration": -983,
    "start_time": "2021-08-14T14:13:42.653Z"
   },
   {
    "duration": -992,
    "start_time": "2021-08-14T14:13:42.664Z"
   },
   {
    "duration": -973,
    "start_time": "2021-08-14T14:13:42.673Z"
   },
   {
    "duration": 60,
    "start_time": "2021-08-14T14:14:42.516Z"
   },
   {
    "duration": 35517,
    "start_time": "2021-08-14T14:15:04.153Z"
   },
   {
    "duration": 420,
    "start_time": "2021-08-14T14:15:45.337Z"
   },
   {
    "duration": 1070,
    "start_time": "2021-08-14T14:16:03.503Z"
   },
   {
    "duration": 1090,
    "start_time": "2021-08-14T14:16:16.032Z"
   },
   {
    "duration": 1106,
    "start_time": "2021-08-14T14:16:25.956Z"
   },
   {
    "duration": 13,
    "start_time": "2021-08-14T14:19:58.477Z"
   },
   {
    "duration": 226,
    "start_time": "2021-08-14T14:21:06.933Z"
   },
   {
    "duration": 360,
    "start_time": "2021-08-14T14:23:50.225Z"
   },
   {
    "duration": 225,
    "start_time": "2021-08-14T14:25:27.930Z"
   },
   {
    "duration": 218,
    "start_time": "2021-08-14T14:26:14.369Z"
   },
   {
    "duration": 12,
    "start_time": "2021-08-14T14:26:16.680Z"
   },
   {
    "duration": 11,
    "start_time": "2021-08-14T14:26:20.376Z"
   },
   {
    "duration": 30,
    "start_time": "2021-08-14T14:28:51.548Z"
   },
   {
    "duration": 56,
    "start_time": "2021-08-14T14:28:57.231Z"
   },
   {
    "duration": 21,
    "start_time": "2021-08-14T14:29:00.533Z"
   },
   {
    "duration": 301,
    "start_time": "2021-08-14T14:29:08.778Z"
   },
   {
    "duration": 2977,
    "start_time": "2021-08-14T14:29:15.717Z"
   },
   {
    "duration": 393,
    "start_time": "2021-08-14T14:29:22.873Z"
   },
   {
    "duration": 7,
    "start_time": "2021-08-14T14:29:55.014Z"
   },
   {
    "duration": 468,
    "start_time": "2021-08-14T14:30:47.013Z"
   },
   {
    "duration": 384,
    "start_time": "2021-08-14T14:32:49.822Z"
   },
   {
    "duration": 207,
    "start_time": "2021-08-14T14:35:40.132Z"
   },
   {
    "duration": 205,
    "start_time": "2021-08-14T14:36:06.462Z"
   },
   {
    "duration": 231,
    "start_time": "2021-08-14T14:36:45.652Z"
   },
   {
    "duration": 234,
    "start_time": "2021-08-14T14:37:07.498Z"
   },
   {
    "duration": 224,
    "start_time": "2021-08-14T14:38:01.539Z"
   },
   {
    "duration": 219,
    "start_time": "2021-08-14T14:38:34.071Z"
   },
   {
    "duration": 322,
    "start_time": "2021-08-14T14:39:36.170Z"
   },
   {
    "duration": 3211,
    "start_time": "2021-08-14T14:40:03.550Z"
   },
   {
    "duration": 416,
    "start_time": "2021-08-14T14:40:12.398Z"
   },
   {
    "duration": 207,
    "start_time": "2021-08-14T14:40:16.844Z"
   },
   {
    "duration": 241,
    "start_time": "2021-08-14T14:40:21.462Z"
   },
   {
    "duration": 302,
    "start_time": "2021-08-14T14:40:25.361Z"
   },
   {
    "duration": 319,
    "start_time": "2021-08-14T14:41:04.412Z"
   },
   {
    "duration": 323,
    "start_time": "2021-08-14T14:41:32.291Z"
   },
   {
    "duration": 306,
    "start_time": "2021-08-14T14:41:59.397Z"
   },
   {
    "duration": 426,
    "start_time": "2021-08-14T14:42:18.800Z"
   },
   {
    "duration": 325,
    "start_time": "2021-08-14T14:44:24.332Z"
   },
   {
    "duration": 44,
    "start_time": "2021-08-14T14:45:21.382Z"
   },
   {
    "duration": 514,
    "start_time": "2021-08-14T17:56:15.070Z"
   },
   {
    "duration": 1322,
    "start_time": "2021-08-14T18:03:55.677Z"
   },
   {
    "duration": 200,
    "start_time": "2021-08-14T18:04:34.519Z"
   },
   {
    "duration": 228,
    "start_time": "2021-08-14T18:04:40.156Z"
   },
   {
    "duration": 173,
    "start_time": "2021-08-14T18:04:40.386Z"
   },
   {
    "duration": 100,
    "start_time": "2021-08-14T18:04:40.561Z"
   },
   {
    "duration": 23,
    "start_time": "2021-08-14T18:04:40.664Z"
   },
   {
    "duration": 11,
    "start_time": "2021-08-14T18:04:40.688Z"
   },
   {
    "duration": 12,
    "start_time": "2021-08-14T18:04:40.701Z"
   },
   {
    "duration": 10,
    "start_time": "2021-08-14T18:04:40.715Z"
   },
   {
    "duration": 317,
    "start_time": "2021-08-14T18:04:40.728Z"
   },
   {
    "duration": 19,
    "start_time": "2021-08-14T18:04:41.047Z"
   },
   {
    "duration": 44,
    "start_time": "2021-08-14T18:04:41.068Z"
   },
   {
    "duration": 11,
    "start_time": "2021-08-14T18:04:41.113Z"
   },
   {
    "duration": 12,
    "start_time": "2021-08-14T18:04:41.125Z"
   },
   {
    "duration": 11,
    "start_time": "2021-08-14T18:04:41.138Z"
   },
   {
    "duration": 46,
    "start_time": "2021-08-14T18:04:41.150Z"
   },
   {
    "duration": 13,
    "start_time": "2021-08-14T18:04:41.197Z"
   },
   {
    "duration": 11,
    "start_time": "2021-08-14T18:04:41.211Z"
   },
   {
    "duration": 11,
    "start_time": "2021-08-14T18:04:41.224Z"
   },
   {
    "duration": 58,
    "start_time": "2021-08-14T18:04:41.236Z"
   },
   {
    "duration": 8,
    "start_time": "2021-08-14T18:04:41.296Z"
   },
   {
    "duration": 14,
    "start_time": "2021-08-14T18:04:41.305Z"
   },
   {
    "duration": 8,
    "start_time": "2021-08-14T18:04:41.321Z"
   },
   {
    "duration": 9,
    "start_time": "2021-08-14T18:04:41.330Z"
   },
   {
    "duration": 67,
    "start_time": "2021-08-14T18:04:41.342Z"
   },
   {
    "duration": 6,
    "start_time": "2021-08-14T18:04:41.411Z"
   },
   {
    "duration": 7,
    "start_time": "2021-08-14T18:04:41.418Z"
   },
   {
    "duration": 7,
    "start_time": "2021-08-14T18:04:41.426Z"
   },
   {
    "duration": 229,
    "start_time": "2021-08-14T18:04:41.434Z"
   },
   {
    "duration": 8,
    "start_time": "2021-08-14T18:04:41.664Z"
   },
   {
    "duration": 14,
    "start_time": "2021-08-14T18:04:41.674Z"
   },
   {
    "duration": 10,
    "start_time": "2021-08-14T18:04:41.690Z"
   },
   {
    "duration": 220,
    "start_time": "2021-08-14T18:04:41.702Z"
   },
   {
    "duration": 9,
    "start_time": "2021-08-14T18:04:41.924Z"
   },
   {
    "duration": 4,
    "start_time": "2021-08-14T18:04:41.934Z"
   },
   {
    "duration": 224,
    "start_time": "2021-08-14T18:04:41.939Z"
   },
   {
    "duration": 8,
    "start_time": "2021-08-14T18:04:42.165Z"
   },
   {
    "duration": 4,
    "start_time": "2021-08-14T18:04:42.185Z"
   },
   {
    "duration": 230,
    "start_time": "2021-08-14T18:04:42.191Z"
   },
   {
    "duration": 359,
    "start_time": "2021-08-14T18:04:42.423Z"
   },
   {
    "duration": 9,
    "start_time": "2021-08-14T18:04:42.783Z"
   },
   {
    "duration": 7,
    "start_time": "2021-08-14T18:04:42.793Z"
   },
   {
    "duration": 214,
    "start_time": "2021-08-14T18:04:42.801Z"
   },
   {
    "duration": -1483,
    "start_time": "2021-08-14T18:04:44.500Z"
   },
   {
    "duration": -1489,
    "start_time": "2021-08-14T18:04:44.507Z"
   },
   {
    "duration": -1494,
    "start_time": "2021-08-14T18:04:44.513Z"
   },
   {
    "duration": -1501,
    "start_time": "2021-08-14T18:04:44.521Z"
   },
   {
    "duration": -1507,
    "start_time": "2021-08-14T18:04:44.527Z"
   },
   {
    "duration": -1512,
    "start_time": "2021-08-14T18:04:44.533Z"
   },
   {
    "duration": -1517,
    "start_time": "2021-08-14T18:04:44.539Z"
   },
   {
    "duration": -1523,
    "start_time": "2021-08-14T18:04:44.546Z"
   },
   {
    "duration": -1529,
    "start_time": "2021-08-14T18:04:44.553Z"
   },
   {
    "duration": -1560,
    "start_time": "2021-08-14T18:04:44.585Z"
   },
   {
    "duration": -1565,
    "start_time": "2021-08-14T18:04:44.591Z"
   },
   {
    "duration": -1573,
    "start_time": "2021-08-14T18:04:44.600Z"
   },
   {
    "duration": -1578,
    "start_time": "2021-08-14T18:04:44.606Z"
   },
   {
    "duration": -1587,
    "start_time": "2021-08-14T18:04:44.616Z"
   },
   {
    "duration": -1597,
    "start_time": "2021-08-14T18:04:44.626Z"
   },
   {
    "duration": -1606,
    "start_time": "2021-08-14T18:04:44.636Z"
   },
   {
    "duration": -1611,
    "start_time": "2021-08-14T18:04:44.642Z"
   },
   {
    "duration": -1617,
    "start_time": "2021-08-14T18:04:44.649Z"
   },
   {
    "duration": -1623,
    "start_time": "2021-08-14T18:04:44.657Z"
   },
   {
    "duration": -1629,
    "start_time": "2021-08-14T18:04:44.664Z"
   },
   {
    "duration": -1635,
    "start_time": "2021-08-14T18:04:44.670Z"
   },
   {
    "duration": -1640,
    "start_time": "2021-08-14T18:04:44.676Z"
   },
   {
    "duration": -1654,
    "start_time": "2021-08-14T18:04:44.691Z"
   },
   {
    "duration": -1660,
    "start_time": "2021-08-14T18:04:44.698Z"
   },
   {
    "duration": -1665,
    "start_time": "2021-08-14T18:04:44.704Z"
   },
   {
    "duration": -1672,
    "start_time": "2021-08-14T18:04:44.712Z"
   },
   {
    "duration": -1676,
    "start_time": "2021-08-14T18:04:44.717Z"
   },
   {
    "duration": -1682,
    "start_time": "2021-08-14T18:04:44.724Z"
   },
   {
    "duration": -1687,
    "start_time": "2021-08-14T18:04:44.730Z"
   },
   {
    "duration": -1693,
    "start_time": "2021-08-14T18:04:44.737Z"
   },
   {
    "duration": -1698,
    "start_time": "2021-08-14T18:04:44.743Z"
   },
   {
    "duration": -1704,
    "start_time": "2021-08-14T18:04:44.750Z"
   },
   {
    "duration": -1709,
    "start_time": "2021-08-14T18:04:44.756Z"
   },
   {
    "duration": 18,
    "start_time": "2021-08-14T18:08:59.104Z"
   },
   {
    "duration": 180,
    "start_time": "2021-08-14T18:10:57.254Z"
   },
   {
    "duration": 175,
    "start_time": "2021-08-14T18:11:03.441Z"
   },
   {
    "duration": 226,
    "start_time": "2021-08-14T18:11:12.775Z"
   },
   {
    "duration": 8,
    "start_time": "2021-08-14T18:11:13.003Z"
   },
   {
    "duration": 14,
    "start_time": "2021-08-14T18:11:13.013Z"
   },
   {
    "duration": 25,
    "start_time": "2021-08-14T18:11:13.029Z"
   },
   {
    "duration": 214,
    "start_time": "2021-08-14T18:11:13.055Z"
   },
   {
    "duration": 17,
    "start_time": "2021-08-14T18:11:13.271Z"
   },
   {
    "duration": 3,
    "start_time": "2021-08-14T18:11:13.289Z"
   },
   {
    "duration": 222,
    "start_time": "2021-08-14T18:11:13.295Z"
   },
   {
    "duration": 9,
    "start_time": "2021-08-14T18:11:13.519Z"
   },
   {
    "duration": 3,
    "start_time": "2021-08-14T18:11:13.530Z"
   },
   {
    "duration": 158,
    "start_time": "2021-08-14T18:11:13.534Z"
   },
   {
    "duration": 345,
    "start_time": "2021-08-14T18:11:13.694Z"
   },
   {
    "duration": 10,
    "start_time": "2021-08-14T18:11:14.040Z"
   },
   {
    "duration": 5,
    "start_time": "2021-08-14T18:11:14.052Z"
   },
   {
    "duration": 182,
    "start_time": "2021-08-14T18:11:14.058Z"
   },
   {
    "duration": -1455,
    "start_time": "2021-08-14T18:11:15.697Z"
   },
   {
    "duration": -1461,
    "start_time": "2021-08-14T18:11:15.704Z"
   },
   {
    "duration": -1468,
    "start_time": "2021-08-14T18:11:15.712Z"
   },
   {
    "duration": -1474,
    "start_time": "2021-08-14T18:11:15.719Z"
   },
   {
    "duration": -1481,
    "start_time": "2021-08-14T18:11:15.727Z"
   },
   {
    "duration": -1488,
    "start_time": "2021-08-14T18:11:15.735Z"
   },
   {
    "duration": -1517,
    "start_time": "2021-08-14T18:11:15.765Z"
   },
   {
    "duration": -1529,
    "start_time": "2021-08-14T18:11:15.777Z"
   },
   {
    "duration": -1541,
    "start_time": "2021-08-14T18:11:15.790Z"
   },
   {
    "duration": -1551,
    "start_time": "2021-08-14T18:11:15.801Z"
   },
   {
    "duration": -1563,
    "start_time": "2021-08-14T18:11:15.814Z"
   },
   {
    "duration": -1569,
    "start_time": "2021-08-14T18:11:15.821Z"
   },
   {
    "duration": -1576,
    "start_time": "2021-08-14T18:11:15.829Z"
   },
   {
    "duration": -1596,
    "start_time": "2021-08-14T18:11:15.850Z"
   },
   {
    "duration": -1607,
    "start_time": "2021-08-14T18:11:15.862Z"
   },
   {
    "duration": -1625,
    "start_time": "2021-08-14T18:11:15.881Z"
   },
   {
    "duration": -1634,
    "start_time": "2021-08-14T18:11:15.891Z"
   },
   {
    "duration": -1642,
    "start_time": "2021-08-14T18:11:15.900Z"
   },
   {
    "duration": -1648,
    "start_time": "2021-08-14T18:11:15.907Z"
   },
   {
    "duration": -1653,
    "start_time": "2021-08-14T18:11:15.913Z"
   },
   {
    "duration": -1658,
    "start_time": "2021-08-14T18:11:15.919Z"
   },
   {
    "duration": -1663,
    "start_time": "2021-08-14T18:11:15.925Z"
   },
   {
    "duration": -1669,
    "start_time": "2021-08-14T18:11:15.932Z"
   },
   {
    "duration": -1674,
    "start_time": "2021-08-14T18:11:15.938Z"
   },
   {
    "duration": -1681,
    "start_time": "2021-08-14T18:11:15.946Z"
   },
   {
    "duration": -1686,
    "start_time": "2021-08-14T18:11:15.951Z"
   },
   {
    "duration": -1692,
    "start_time": "2021-08-14T18:11:15.958Z"
   },
   {
    "duration": -1696,
    "start_time": "2021-08-14T18:11:15.964Z"
   },
   {
    "duration": -1702,
    "start_time": "2021-08-14T18:11:15.971Z"
   },
   {
    "duration": -1707,
    "start_time": "2021-08-14T18:11:15.977Z"
   },
   {
    "duration": -1724,
    "start_time": "2021-08-14T18:11:15.995Z"
   },
   {
    "duration": -1729,
    "start_time": "2021-08-14T18:11:16.001Z"
   },
   {
    "duration": -1735,
    "start_time": "2021-08-14T18:11:16.008Z"
   },
   {
    "duration": -1741,
    "start_time": "2021-08-14T18:11:16.014Z"
   },
   {
    "duration": 185,
    "start_time": "2021-08-14T18:11:28.883Z"
   },
   {
    "duration": 217,
    "start_time": "2021-08-14T18:11:46.148Z"
   },
   {
    "duration": 10,
    "start_time": "2021-08-14T18:11:49.128Z"
   },
   {
    "duration": 41,
    "start_time": "2021-08-14T18:11:51.902Z"
   },
   {
    "duration": 6,
    "start_time": "2021-08-14T18:11:56.644Z"
   },
   {
    "duration": 6,
    "start_time": "2021-08-14T18:11:59.461Z"
   },
   {
    "duration": 6,
    "start_time": "2021-08-14T18:12:01.548Z"
   },
   {
    "duration": 439,
    "start_time": "2021-08-14T18:12:05.448Z"
   },
   {
    "duration": 8,
    "start_time": "2021-08-14T18:12:12.453Z"
   },
   {
    "duration": 5,
    "start_time": "2021-08-14T18:12:15.258Z"
   },
   {
    "duration": 8,
    "start_time": "2021-08-14T18:12:17.692Z"
   },
   {
    "duration": 225,
    "start_time": "2021-08-14T18:12:20.946Z"
   },
   {
    "duration": 5,
    "start_time": "2021-08-14T18:12:23.805Z"
   },
   {
    "duration": 9,
    "start_time": "2021-08-14T18:12:26.165Z"
   },
   {
    "duration": 132,
    "start_time": "2021-08-14T18:12:28.231Z"
   },
   {
    "duration": 5,
    "start_time": "2021-08-14T18:12:31.675Z"
   },
   {
    "duration": 9,
    "start_time": "2021-08-14T18:12:34.618Z"
   },
   {
    "duration": 143,
    "start_time": "2021-08-14T18:12:37.203Z"
   },
   {
    "duration": 303,
    "start_time": "2021-08-14T18:12:40.639Z"
   },
   {
    "duration": 547,
    "start_time": "2021-08-14T18:12:53.278Z"
   },
   {
    "duration": 151,
    "start_time": "2021-08-14T18:13:05.361Z"
   },
   {
    "duration": 288,
    "start_time": "2021-08-14T18:13:08.240Z"
   },
   {
    "duration": 91,
    "start_time": "2021-08-14T18:13:13.582Z"
   },
   {
    "duration": 8,
    "start_time": "2021-08-14T18:13:43.613Z"
   },
   {
    "duration": 21,
    "start_time": "2021-08-14T18:13:47.759Z"
   },
   {
    "duration": 32,
    "start_time": "2021-08-14T18:13:51.520Z"
   },
   {
    "duration": 14,
    "start_time": "2021-08-14T18:13:55.763Z"
   },
   {
    "duration": 201,
    "start_time": "2021-08-14T18:14:00.628Z"
   },
   {
    "duration": 213,
    "start_time": "2021-08-14T18:14:04.873Z"
   },
   {
    "duration": 7,
    "start_time": "2021-08-14T18:14:21.136Z"
   },
   {
    "duration": 197,
    "start_time": "2021-08-14T18:14:32.164Z"
   },
   {
    "duration": 187,
    "start_time": "2021-08-14T18:15:49.224Z"
   },
   {
    "duration": 23,
    "start_time": "2021-08-14T18:16:30.617Z"
   },
   {
    "duration": 199,
    "start_time": "2021-08-14T18:16:49.630Z"
   },
   {
    "duration": 15,
    "start_time": "2021-08-14T18:17:08.634Z"
   },
   {
    "duration": 203,
    "start_time": "2021-08-14T18:17:12.729Z"
   },
   {
    "duration": 1979,
    "start_time": "2021-08-14T18:17:16.768Z"
   },
   {
    "duration": 416,
    "start_time": "2021-08-14T18:17:23.073Z"
   },
   {
    "duration": 22,
    "start_time": "2021-08-14T18:17:44.018Z"
   },
   {
    "duration": 190,
    "start_time": "2021-08-14T18:18:33.598Z"
   },
   {
    "duration": 136,
    "start_time": "2021-08-14T18:18:42.250Z"
   },
   {
    "duration": 151,
    "start_time": "2021-08-14T18:18:44.642Z"
   },
   {
    "duration": 189,
    "start_time": "2021-08-14T18:18:48.069Z"
   },
   {
    "duration": 143,
    "start_time": "2021-08-14T18:18:51.550Z"
   },
   {
    "duration": 191,
    "start_time": "2021-08-14T18:18:56.410Z"
   },
   {
    "duration": 4,
    "start_time": "2021-08-14T18:37:38.295Z"
   },
   {
    "duration": 4,
    "start_time": "2021-08-14T18:37:56.205Z"
   },
   {
    "duration": 3,
    "start_time": "2021-08-14T18:38:30.471Z"
   },
   {
    "duration": 4355,
    "start_time": "2021-08-14T18:39:32.582Z"
   },
   {
    "duration": 7,
    "start_time": "2021-08-14T18:40:32.006Z"
   },
   {
    "duration": 4355,
    "start_time": "2021-08-14T18:57:27.416Z"
   },
   {
    "duration": 4614,
    "start_time": "2021-08-14T19:04:06.720Z"
   },
   {
    "duration": 4259,
    "start_time": "2021-08-14T19:04:37.768Z"
   },
   {
    "duration": 4287,
    "start_time": "2021-08-14T19:05:49.402Z"
   },
   {
    "duration": 6,
    "start_time": "2021-08-14T19:06:08.712Z"
   },
   {
    "duration": 4819,
    "start_time": "2021-08-14T19:06:18.564Z"
   },
   {
    "duration": 5,
    "start_time": "2021-08-14T19:06:38.369Z"
   },
   {
    "duration": 4,
    "start_time": "2021-08-14T19:06:49.142Z"
   },
   {
    "duration": 4,
    "start_time": "2021-08-14T19:06:56.092Z"
   },
   {
    "duration": 1140,
    "start_time": "2021-08-14T19:07:04.119Z"
   },
   {
    "duration": 1208,
    "start_time": "2021-08-14T19:07:40.596Z"
   },
   {
    "duration": 1332,
    "start_time": "2021-08-14T19:08:56.960Z"
   },
   {
    "duration": 60,
    "start_time": "2021-08-14T19:10:40.512Z"
   },
   {
    "duration": 1227,
    "start_time": "2021-08-14T19:10:47.286Z"
   },
   {
    "duration": 1243,
    "start_time": "2021-08-14T19:11:25.660Z"
   },
   {
    "duration": 1232,
    "start_time": "2021-08-14T19:13:11.981Z"
   },
   {
    "duration": 1347,
    "start_time": "2021-08-14T19:13:21.669Z"
   },
   {
    "duration": 7,
    "start_time": "2021-08-14T19:15:29.555Z"
   },
   {
    "duration": 7,
    "start_time": "2021-08-14T19:15:47.037Z"
   },
   {
    "duration": 7,
    "start_time": "2021-08-14T19:16:04.576Z"
   },
   {
    "duration": 7,
    "start_time": "2021-08-14T19:16:15.188Z"
   },
   {
    "duration": 831,
    "start_time": "2021-08-15T07:24:22.863Z"
   },
   {
    "duration": 190,
    "start_time": "2021-08-15T07:24:23.695Z"
   },
   {
    "duration": 95,
    "start_time": "2021-08-15T07:24:23.887Z"
   },
   {
    "duration": 9,
    "start_time": "2021-08-15T07:24:23.984Z"
   },
   {
    "duration": 8,
    "start_time": "2021-08-15T07:24:23.994Z"
   },
   {
    "duration": 9,
    "start_time": "2021-08-15T07:24:24.004Z"
   },
   {
    "duration": 35,
    "start_time": "2021-08-15T07:24:24.014Z"
   },
   {
    "duration": 1441,
    "start_time": "2021-08-15T07:24:24.053Z"
   },
   {
    "duration": 16,
    "start_time": "2021-08-15T07:24:25.496Z"
   },
   {
    "duration": 52,
    "start_time": "2021-08-15T07:24:25.514Z"
   },
   {
    "duration": 12,
    "start_time": "2021-08-15T07:24:25.568Z"
   },
   {
    "duration": 13,
    "start_time": "2021-08-15T07:24:25.582Z"
   },
   {
    "duration": 11,
    "start_time": "2021-08-15T07:24:25.597Z"
   },
   {
    "duration": 50,
    "start_time": "2021-08-15T07:24:25.610Z"
   },
   {
    "duration": 18,
    "start_time": "2021-08-15T07:24:25.662Z"
   },
   {
    "duration": 11,
    "start_time": "2021-08-15T07:24:25.682Z"
   },
   {
    "duration": 12,
    "start_time": "2021-08-15T07:24:25.695Z"
   },
   {
    "duration": 57,
    "start_time": "2021-08-15T07:24:25.708Z"
   },
   {
    "duration": 7,
    "start_time": "2021-08-15T07:24:25.767Z"
   },
   {
    "duration": 13,
    "start_time": "2021-08-15T07:24:25.776Z"
   },
   {
    "duration": 9,
    "start_time": "2021-08-15T07:24:25.791Z"
   },
   {
    "duration": 39,
    "start_time": "2021-08-15T07:24:25.801Z"
   },
   {
    "duration": 40,
    "start_time": "2021-08-15T07:24:25.847Z"
   },
   {
    "duration": 5,
    "start_time": "2021-08-15T07:24:25.890Z"
   },
   {
    "duration": 8,
    "start_time": "2021-08-15T07:24:25.897Z"
   },
   {
    "duration": 11,
    "start_time": "2021-08-15T07:24:25.906Z"
   },
   {
    "duration": 229,
    "start_time": "2021-08-15T07:24:25.919Z"
   },
   {
    "duration": 13,
    "start_time": "2021-08-15T07:24:26.150Z"
   },
   {
    "duration": 4,
    "start_time": "2021-08-15T07:24:26.165Z"
   },
   {
    "duration": 12,
    "start_time": "2021-08-15T07:24:26.171Z"
   },
   {
    "duration": 265,
    "start_time": "2021-08-15T07:24:26.185Z"
   },
   {
    "duration": 10,
    "start_time": "2021-08-15T07:24:26.453Z"
   },
   {
    "duration": 3,
    "start_time": "2021-08-15T07:24:26.465Z"
   },
   {
    "duration": 223,
    "start_time": "2021-08-15T07:24:26.470Z"
   },
   {
    "duration": 8,
    "start_time": "2021-08-15T07:24:26.695Z"
   },
   {
    "duration": 3,
    "start_time": "2021-08-15T07:24:26.705Z"
   },
   {
    "duration": 158,
    "start_time": "2021-08-15T07:24:26.710Z"
   },
   {
    "duration": 327,
    "start_time": "2021-08-15T07:24:26.869Z"
   },
   {
    "duration": 7,
    "start_time": "2021-08-15T07:24:27.198Z"
   },
   {
    "duration": 10,
    "start_time": "2021-08-15T07:24:27.207Z"
   },
   {
    "duration": 1492,
    "start_time": "2021-08-15T07:31:38.316Z"
   },
   {
    "duration": 776,
    "start_time": "2021-08-15T07:31:45.727Z"
   },
   {
    "duration": 183,
    "start_time": "2021-08-15T07:31:46.505Z"
   },
   {
    "duration": 96,
    "start_time": "2021-08-15T07:31:46.690Z"
   },
   {
    "duration": 9,
    "start_time": "2021-08-15T07:31:46.787Z"
   },
   {
    "duration": 8,
    "start_time": "2021-08-15T07:31:46.798Z"
   },
   {
    "duration": 9,
    "start_time": "2021-08-15T07:31:46.808Z"
   },
   {
    "duration": 33,
    "start_time": "2021-08-15T07:31:46.819Z"
   },
   {
    "duration": 1442,
    "start_time": "2021-08-15T07:31:46.856Z"
   },
   {
    "duration": 17,
    "start_time": "2021-08-15T07:31:48.301Z"
   },
   {
    "duration": 48,
    "start_time": "2021-08-15T07:31:48.320Z"
   },
   {
    "duration": 13,
    "start_time": "2021-08-15T07:31:48.370Z"
   },
   {
    "duration": 15,
    "start_time": "2021-08-15T07:31:48.385Z"
   },
   {
    "duration": 48,
    "start_time": "2021-08-15T07:31:48.402Z"
   },
   {
    "duration": 15,
    "start_time": "2021-08-15T07:31:48.453Z"
   },
   {
    "duration": 12,
    "start_time": "2021-08-15T07:31:48.470Z"
   },
   {
    "duration": 10,
    "start_time": "2021-08-15T07:31:48.484Z"
   },
   {
    "duration": 12,
    "start_time": "2021-08-15T07:31:48.496Z"
   },
   {
    "duration": 64,
    "start_time": "2021-08-15T07:31:48.510Z"
   },
   {
    "duration": 7,
    "start_time": "2021-08-15T07:31:48.576Z"
   },
   {
    "duration": 17,
    "start_time": "2021-08-15T07:31:48.584Z"
   },
   {
    "duration": 9,
    "start_time": "2021-08-15T07:31:48.603Z"
   },
   {
    "duration": 39,
    "start_time": "2021-08-15T07:31:48.614Z"
   },
   {
    "duration": 39,
    "start_time": "2021-08-15T07:31:48.660Z"
   },
   {
    "duration": 6,
    "start_time": "2021-08-15T07:31:48.701Z"
   },
   {
    "duration": 11,
    "start_time": "2021-08-15T07:31:48.708Z"
   },
   {
    "duration": 26,
    "start_time": "2021-08-15T07:31:48.720Z"
   },
   {
    "duration": 209,
    "start_time": "2021-08-15T07:31:48.749Z"
   },
   {
    "duration": 9,
    "start_time": "2021-08-15T07:31:48.960Z"
   },
   {
    "duration": 3,
    "start_time": "2021-08-15T07:31:48.972Z"
   },
   {
    "duration": 17,
    "start_time": "2021-08-15T07:31:48.977Z"
   },
   {
    "duration": 263,
    "start_time": "2021-08-15T07:31:48.996Z"
   },
   {
    "duration": 10,
    "start_time": "2021-08-15T07:31:49.261Z"
   },
   {
    "duration": 6,
    "start_time": "2021-08-15T07:31:49.272Z"
   },
   {
    "duration": 209,
    "start_time": "2021-08-15T07:31:49.280Z"
   },
   {
    "duration": 9,
    "start_time": "2021-08-15T07:31:49.491Z"
   },
   {
    "duration": 8,
    "start_time": "2021-08-15T07:31:49.501Z"
   },
   {
    "duration": 148,
    "start_time": "2021-08-15T07:31:49.511Z"
   },
   {
    "duration": 334,
    "start_time": "2021-08-15T07:31:49.661Z"
   },
   {
    "duration": 8,
    "start_time": "2021-08-15T07:31:49.996Z"
   },
   {
    "duration": 6,
    "start_time": "2021-08-15T07:31:50.005Z"
   },
   {
    "duration": 1096,
    "start_time": "2021-08-15T18:02:49.803Z"
   },
   {
    "duration": 437,
    "start_time": "2021-08-15T18:02:50.901Z"
   },
   {
    "duration": 143,
    "start_time": "2021-08-15T18:02:51.341Z"
   },
   {
    "duration": 13,
    "start_time": "2021-08-15T18:02:51.487Z"
   },
   {
    "duration": 15,
    "start_time": "2021-08-15T18:02:51.503Z"
   },
   {
    "duration": 54,
    "start_time": "2021-08-15T18:02:51.521Z"
   },
   {
    "duration": 17,
    "start_time": "2021-08-15T18:02:51.578Z"
   },
   {
    "duration": 1230,
    "start_time": "2021-08-15T18:02:51.600Z"
   },
   {
    "duration": 41,
    "start_time": "2021-08-15T18:02:52.833Z"
   },
   {
    "duration": 52,
    "start_time": "2021-08-15T18:02:52.877Z"
   },
   {
    "duration": 42,
    "start_time": "2021-08-15T18:02:52.931Z"
   },
   {
    "duration": 23,
    "start_time": "2021-08-15T18:02:52.976Z"
   },
   {
    "duration": 18,
    "start_time": "2021-08-15T18:02:53.001Z"
   },
   {
    "duration": 52,
    "start_time": "2021-08-15T18:02:53.022Z"
   },
   {
    "duration": 18,
    "start_time": "2021-08-15T18:02:53.077Z"
   },
   {
    "duration": 17,
    "start_time": "2021-08-15T18:02:53.098Z"
   },
   {
    "duration": 56,
    "start_time": "2021-08-15T18:02:53.118Z"
   },
   {
    "duration": 42,
    "start_time": "2021-08-15T18:02:53.176Z"
   },
   {
    "duration": 36,
    "start_time": "2021-08-15T18:02:53.221Z"
   },
   {
    "duration": 21,
    "start_time": "2021-08-15T18:02:53.260Z"
   },
   {
    "duration": 14,
    "start_time": "2021-08-15T18:02:53.284Z"
   },
   {
    "duration": 57,
    "start_time": "2021-08-15T18:02:53.301Z"
   },
   {
    "duration": 57,
    "start_time": "2021-08-15T18:02:53.364Z"
   },
   {
    "duration": 35,
    "start_time": "2021-08-15T18:02:53.426Z"
   },
   {
    "duration": 11,
    "start_time": "2021-08-15T18:02:53.463Z"
   },
   {
    "duration": 10,
    "start_time": "2021-08-15T18:02:53.476Z"
   },
   {
    "duration": 355,
    "start_time": "2021-08-15T18:02:53.489Z"
   },
   {
    "duration": 17,
    "start_time": "2021-08-15T18:02:53.846Z"
   },
   {
    "duration": 5,
    "start_time": "2021-08-15T18:02:53.866Z"
   },
   {
    "duration": 19,
    "start_time": "2021-08-15T18:02:53.873Z"
   },
   {
    "duration": 382,
    "start_time": "2021-08-15T18:02:53.895Z"
   },
   {
    "duration": 12,
    "start_time": "2021-08-15T18:02:54.279Z"
   },
   {
    "duration": 5,
    "start_time": "2021-08-15T18:02:54.293Z"
   },
   {
    "duration": 396,
    "start_time": "2021-08-15T18:02:54.301Z"
   },
   {
    "duration": 15,
    "start_time": "2021-08-15T18:02:54.701Z"
   },
   {
    "duration": 7,
    "start_time": "2021-08-15T18:02:54.718Z"
   },
   {
    "duration": 273,
    "start_time": "2021-08-15T18:02:54.727Z"
   },
   {
    "duration": 570,
    "start_time": "2021-08-15T18:02:55.003Z"
   },
   {
    "duration": 13,
    "start_time": "2021-08-15T18:02:55.576Z"
   },
   {
    "duration": 18,
    "start_time": "2021-08-15T18:02:55.591Z"
   }
  ],
  "kernelspec": {
   "display_name": "Python 3",
   "language": "python",
   "name": "python3"
  },
  "language_info": {
   "codemirror_mode": {
    "name": "ipython",
    "version": 3
   },
   "file_extension": ".py",
   "mimetype": "text/x-python",
   "name": "python",
   "nbconvert_exporter": "python",
   "pygments_lexer": "ipython3",
   "version": "3.8.8"
  },
  "toc": {
   "base_numbering": 1,
   "nav_menu": {
    "height": "32px",
    "width": "160px"
   },
   "number_sections": true,
   "sideBar": true,
   "skip_h1_title": true,
   "title_cell": "Содержание",
   "title_sidebar": "Contents",
   "toc_cell": true,
   "toc_position": {
    "height": "calc(100% - 180px)",
    "left": "10px",
    "top": "150px",
    "width": "165px"
   },
   "toc_section_display": true,
   "toc_window_display": true
  }
 },
 "nbformat": 4,
 "nbformat_minor": 2
}
