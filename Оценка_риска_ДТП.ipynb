{
 "cells": [
  {
   "cell_type": "code",
   "execution_count": 3,
   "id": "m2JdyvtP3Aa4",
   "metadata": {
    "colab": {
     "base_uri": "https://localhost:8080/",
     "height": 35
    },
    "id": "m2JdyvtP3Aa4",
    "outputId": "f9a861ec-c8ce-4cf2-cf4f-3eceee4e5d23"
   },
   "outputs": [
    {
     "data": {
      "text/plain": [
       "'0.24.1'"
      ]
     },
     "execution_count": 3,
     "metadata": {},
     "output_type": "execute_result"
    }
   ],
   "source": [
    "import sklearn as sk\n",
    "sk.__version__"
   ]
  },
  {
   "cell_type": "markdown",
   "id": "90cb2c17",
   "metadata": {
    "ExecuteTime": {
     "end_time": "2022-05-05T04:58:05.692448Z",
     "start_time": "2022-05-05T04:58:05.688565Z"
    },
    "id": "90cb2c17"
   },
   "source": [
    "## Подключитесь к базе. Загрузите таблицы sql"
   ]
  },
  {
   "cell_type": "code",
   "execution_count": 4,
   "id": "e2b82bc4",
   "metadata": {
    "id": "e2b82bc4"
   },
   "outputs": [],
   "source": [
    "import pandas as pd\n",
    "import matplotlib.pyplot as plt\n",
    "import seaborn as sns\n",
    "import numpy as np\n",
    "from sqlalchemy import create_engine \n",
    "\n",
    "from sklearn.compose import ColumnTransformer\n",
    "from sklearn.preprocessing import OneHotEncoder\n",
    "from sklearn.preprocessing import StandardScaler\n",
    "from sklearn.impute import SimpleImputer\n",
    "from sklearn.model_selection import GridSearchCV\n",
    "from sklearn.pipeline import Pipeline, make_pipeline\n",
    "from sklearn.tree import DecisionTreeClassifier\n",
    "from sklearn.ensemble import RandomForestClassifier\n",
    "from sklearn.linear_model import LogisticRegression\n",
    "\n",
    "from lightgbm import LGBMClassifier\n",
    "#from catboost import CatBoostClassifier\n",
    "from sklearn.decomposition import TruncatedSVD\n",
    "from sklearn.model_selection import train_test_split\n",
    "from tqdm.notebook import tqdm\n",
    "from sklearn.base import BaseEstimator\n",
    "import random\n",
    "import torch.nn as nn\n",
    "from torch.nn import ReLU\n",
    "from math import ceil\n",
    "import torch.utils.data\n",
    "from torch.utils.data import TensorDataset, DataLoader\n",
    "from sklearn.metrics import mean_squared_error, confusion_matrix\n",
    "from sklearn.metrics import roc_auc_score, accuracy_score, precision_score, recall_score, f1_score\n",
    "from sklearn.model_selection import ParameterSampler\n",
    "from sklearn.compose import ColumnTransformer\n",
    "from sklearn.model_selection import train_test_split\n",
    "\n",
    "import warnings\n",
    "warnings.simplefilter(action='ignore', category=FutureWarning)"
   ]
  },
  {
   "cell_type": "code",
   "execution_count": 5,
   "id": "f365cb65",
   "metadata": {
    "id": "f365cb65"
   },
   "outputs": [],
   "source": [
    "\n",
    "db_config = {\n",
    "'user': 'praktikum_student', # имя пользователя,\n",
    "'pwd': 'Sdf4$2;d-d30pp', # пароль,\n",
    "'host': 'rc1b-wcoijxj3yxfsf3fs.mdb.yandexcloud.net',\n",
    "'port': 6432, # порт подключения,\n",
    "'db': 'data-science-vehicle-db' # название базы данных,\n",
    "} \n",
    " \n",
    "\n",
    "connection_string = 'postgresql://{}:{}@{}:{}/{}'.format(\n",
    "    db_config['user'],\n",
    "    db_config['pwd'],\n",
    "    db_config['host'],\n",
    "    db_config['port'],\n",
    "    db_config['db'],\n",
    ")"
   ]
  },
  {
   "cell_type": "code",
   "execution_count": 6,
   "id": "ac7c5c64",
   "metadata": {
    "id": "ac7c5c64"
   },
   "outputs": [],
   "source": [
    "engine = create_engine(connection_string) "
   ]
  },
  {
   "cell_type": "raw",
   "id": "74a332b6",
   "metadata": {
    "id": "74a332b6"
   },
   "source": [
    "query = '''\n",
    "SELECT table_name FROM information_schema.tables \n",
    "'''\n",
    "tables = pd.read_sql_query(query, con=engine) "
   ]
  },
  {
   "cell_type": "code",
   "execution_count": null,
   "id": "7f74b857",
   "metadata": {
    "id": "7f74b857"
   },
   "outputs": [],
   "source": []
  },
  {
   "cell_type": "markdown",
   "id": "89bbf7fe",
   "metadata": {
    "id": "89bbf7fe"
   },
   "source": [
    "## Проведите первичное исследование таблиц"
   ]
  },
  {
   "cell_type": "code",
   "execution_count": 7,
   "id": "103bc8ff",
   "metadata": {
    "colab": {
     "base_uri": "https://localhost:8080/",
     "height": 363
    },
    "id": "103bc8ff",
    "outputId": "3a2acd21-b9d1-4647-c4c3-2dd776d00d70",
    "scrolled": false
   },
   "outputs": [
    {
     "data": {
      "text/html": [
       "<div>\n",
       "<style scoped>\n",
       "    .dataframe tbody tr th:only-of-type {\n",
       "        vertical-align: middle;\n",
       "    }\n",
       "\n",
       "    .dataframe tbody tr th {\n",
       "        vertical-align: top;\n",
       "    }\n",
       "\n",
       "    .dataframe thead th {\n",
       "        text-align: right;\n",
       "    }\n",
       "</style>\n",
       "<table border=\"1\" class=\"dataframe\">\n",
       "  <thead>\n",
       "    <tr style=\"text-align: right;\">\n",
       "      <th></th>\n",
       "      <th>id</th>\n",
       "      <th>case_id</th>\n",
       "      <th>party_number</th>\n",
       "      <th>vehicle_type</th>\n",
       "      <th>vehicle_transmission</th>\n",
       "      <th>vehicle_age</th>\n",
       "    </tr>\n",
       "  </thead>\n",
       "  <tbody>\n",
       "    <tr>\n",
       "      <th>0</th>\n",
       "      <td>1175713</td>\n",
       "      <td>5305032</td>\n",
       "      <td>2</td>\n",
       "      <td>sedan</td>\n",
       "      <td>manual</td>\n",
       "      <td>3</td>\n",
       "    </tr>\n",
       "    <tr>\n",
       "      <th>1</th>\n",
       "      <td>1</td>\n",
       "      <td>3858022</td>\n",
       "      <td>1</td>\n",
       "      <td>sedan</td>\n",
       "      <td>auto</td>\n",
       "      <td>3</td>\n",
       "    </tr>\n",
       "    <tr>\n",
       "      <th>2</th>\n",
       "      <td>1175712</td>\n",
       "      <td>5305030</td>\n",
       "      <td>1</td>\n",
       "      <td>sedan</td>\n",
       "      <td>auto</td>\n",
       "      <td>3</td>\n",
       "    </tr>\n",
       "    <tr>\n",
       "      <th>3</th>\n",
       "      <td>1175717</td>\n",
       "      <td>5305033</td>\n",
       "      <td>3</td>\n",
       "      <td>sedan</td>\n",
       "      <td>auto</td>\n",
       "      <td>5</td>\n",
       "    </tr>\n",
       "    <tr>\n",
       "      <th>4</th>\n",
       "      <td>1175722</td>\n",
       "      <td>5305034</td>\n",
       "      <td>2</td>\n",
       "      <td>sedan</td>\n",
       "      <td>auto</td>\n",
       "      <td>5</td>\n",
       "    </tr>\n",
       "    <tr>\n",
       "      <th>5</th>\n",
       "      <td>1175737</td>\n",
       "      <td>5305046</td>\n",
       "      <td>2</td>\n",
       "      <td>sedan</td>\n",
       "      <td>auto</td>\n",
       "      <td>5</td>\n",
       "    </tr>\n",
       "    <tr>\n",
       "      <th>6</th>\n",
       "      <td>1175750</td>\n",
       "      <td>5305053</td>\n",
       "      <td>3</td>\n",
       "      <td>sedan</td>\n",
       "      <td>auto</td>\n",
       "      <td>9</td>\n",
       "    </tr>\n",
       "    <tr>\n",
       "      <th>7</th>\n",
       "      <td>1175715</td>\n",
       "      <td>5305033</td>\n",
       "      <td>1</td>\n",
       "      <td>sedan</td>\n",
       "      <td>manual</td>\n",
       "      <td>10</td>\n",
       "    </tr>\n",
       "    <tr>\n",
       "      <th>8</th>\n",
       "      <td>1175716</td>\n",
       "      <td>5305033</td>\n",
       "      <td>2</td>\n",
       "      <td>sedan</td>\n",
       "      <td>manual</td>\n",
       "      <td>4</td>\n",
       "    </tr>\n",
       "    <tr>\n",
       "      <th>9</th>\n",
       "      <td>1175758</td>\n",
       "      <td>5305060</td>\n",
       "      <td>2</td>\n",
       "      <td>sedan</td>\n",
       "      <td>auto</td>\n",
       "      <td>11</td>\n",
       "    </tr>\n",
       "  </tbody>\n",
       "</table>\n",
       "</div>"
      ],
      "text/plain": [
       "        id  case_id  party_number vehicle_type vehicle_transmission  \\\n",
       "0  1175713  5305032             2        sedan               manual   \n",
       "1        1  3858022             1        sedan                 auto   \n",
       "2  1175712  5305030             1        sedan                 auto   \n",
       "3  1175717  5305033             3        sedan                 auto   \n",
       "4  1175722  5305034             2        sedan                 auto   \n",
       "5  1175737  5305046             2        sedan                 auto   \n",
       "6  1175750  5305053             3        sedan                 auto   \n",
       "7  1175715  5305033             1        sedan               manual   \n",
       "8  1175716  5305033             2        sedan               manual   \n",
       "9  1175758  5305060             2        sedan                 auto   \n",
       "\n",
       "   vehicle_age  \n",
       "0            3  \n",
       "1            3  \n",
       "2            3  \n",
       "3            5  \n",
       "4            5  \n",
       "5            5  \n",
       "6            9  \n",
       "7           10  \n",
       "8            4  \n",
       "9           11  "
      ]
     },
     "execution_count": 7,
     "metadata": {},
     "output_type": "execute_result"
    }
   ],
   "source": [
    "#напишем запрос\n",
    "query = '''\n",
    "SELECT *\n",
    "FROM vehicles\n",
    "LIMIT 10;\n",
    "'''\n",
    "\n",
    "vehicles = pd.read_sql_query(query, con=engine) \n",
    "vehicles"
   ]
  },
  {
   "cell_type": "code",
   "execution_count": 8,
   "id": "98c6f19e",
   "metadata": {
    "colab": {
     "base_uri": "https://localhost:8080/"
    },
    "id": "98c6f19e",
    "outputId": "f23ecf0e-3f1d-42a2-ee4b-efed60bac28b"
   },
   "outputs": [
    {
     "data": {
      "text/plain": [
       "array([ 3,  4,  5,  9, 10, 11])"
      ]
     },
     "execution_count": 8,
     "metadata": {},
     "output_type": "execute_result"
    }
   ],
   "source": [
    "vehicles['vehicle_age'].sort_values().unique()#выведем уникальные значения столбца vehicle_age таблицы vehicles"
   ]
  },
  {
   "cell_type": "code",
   "execution_count": 9,
   "id": "f1078bbb",
   "metadata": {
    "colab": {
     "base_uri": "https://localhost:8080/"
    },
    "id": "f1078bbb",
    "outputId": "e8d79561-1b08-4010-df97-66d2a27b3b86"
   },
   "outputs": [
    {
     "name": "stdout",
     "output_type": "stream",
     "text": [
      "<class 'pandas.core.frame.DataFrame'>\n",
      "RangeIndex: 10 entries, 0 to 9\n",
      "Data columns (total 6 columns):\n",
      " #   Column                Non-Null Count  Dtype \n",
      "---  ------                --------------  ----- \n",
      " 0   id                    10 non-null     int64 \n",
      " 1   case_id               10 non-null     object\n",
      " 2   party_number          10 non-null     int64 \n",
      " 3   vehicle_type          10 non-null     object\n",
      " 4   vehicle_transmission  10 non-null     object\n",
      " 5   vehicle_age           10 non-null     int64 \n",
      "dtypes: int64(3), object(3)\n",
      "memory usage: 608.0+ bytes\n"
     ]
    }
   ],
   "source": [
    "vehicles.info() #выведем общую информацию о таблице vehicles"
   ]
  },
  {
   "cell_type": "markdown",
   "id": "0b6e3887",
   "metadata": {
    "id": "0b6e3887"
   },
   "source": [
    "vehicles — информация о пострадавших машинах\n",
    "Имеет неуникальные case_id и неуникальные party_number, которые сопоставляются с таблицей collisions и таблицей parties. Уникальный идентификатор, это case_id and party_number."
   ]
  },
  {
   "cell_type": "code",
   "execution_count": 10,
   "id": "c432bd8b",
   "metadata": {
    "colab": {
     "base_uri": "https://localhost:8080/",
     "height": 374
    },
    "id": "c432bd8b",
    "outputId": "93ea091f-08e7-4f63-9fbc-40ceb7531353",
    "scrolled": true
   },
   "outputs": [
    {
     "data": {
      "text/html": [
       "<div>\n",
       "<style scoped>\n",
       "    .dataframe tbody tr th:only-of-type {\n",
       "        vertical-align: middle;\n",
       "    }\n",
       "\n",
       "    .dataframe tbody tr th {\n",
       "        vertical-align: top;\n",
       "    }\n",
       "\n",
       "    .dataframe thead th {\n",
       "        text-align: right;\n",
       "    }\n",
       "</style>\n",
       "<table border=\"1\" class=\"dataframe\">\n",
       "  <thead>\n",
       "    <tr style=\"text-align: right;\">\n",
       "      <th></th>\n",
       "      <th>case_id</th>\n",
       "      <th>county_city_location</th>\n",
       "      <th>county_location</th>\n",
       "      <th>distance</th>\n",
       "      <th>direction</th>\n",
       "      <th>intersection</th>\n",
       "      <th>weather_1</th>\n",
       "      <th>location_type</th>\n",
       "      <th>collision_damage</th>\n",
       "      <th>party_count</th>\n",
       "      <th>primary_collision_factor</th>\n",
       "      <th>pcf_violation_category</th>\n",
       "      <th>type_of_collision</th>\n",
       "      <th>motor_vehicle_involved_with</th>\n",
       "      <th>road_surface</th>\n",
       "      <th>road_condition_1</th>\n",
       "      <th>lighting</th>\n",
       "      <th>control_device</th>\n",
       "      <th>collision_date</th>\n",
       "      <th>collision_time</th>\n",
       "    </tr>\n",
       "  </thead>\n",
       "  <tbody>\n",
       "    <tr>\n",
       "      <th>0</th>\n",
       "      <td>4083072</td>\n",
       "      <td>1942</td>\n",
       "      <td>los angeles</td>\n",
       "      <td>528.0</td>\n",
       "      <td>north</td>\n",
       "      <td>0</td>\n",
       "      <td>cloudy</td>\n",
       "      <td>highway</td>\n",
       "      <td>small damage</td>\n",
       "      <td>2</td>\n",
       "      <td>vehicle code violation</td>\n",
       "      <td>unsafe lane change</td>\n",
       "      <td>sideswipe</td>\n",
       "      <td>other motor vehicle</td>\n",
       "      <td>wet</td>\n",
       "      <td>normal</td>\n",
       "      <td>daylight</td>\n",
       "      <td>none</td>\n",
       "      <td>2009-01-22</td>\n",
       "      <td>07:25:00</td>\n",
       "    </tr>\n",
       "    <tr>\n",
       "      <th>1</th>\n",
       "      <td>4083075</td>\n",
       "      <td>4313</td>\n",
       "      <td>santa clara</td>\n",
       "      <td>0.0</td>\n",
       "      <td>None</td>\n",
       "      <td>1</td>\n",
       "      <td>clear</td>\n",
       "      <td>None</td>\n",
       "      <td>small damage</td>\n",
       "      <td>1</td>\n",
       "      <td>vehicle code violation</td>\n",
       "      <td>improper passing</td>\n",
       "      <td>hit object</td>\n",
       "      <td>fixed object</td>\n",
       "      <td>dry</td>\n",
       "      <td>normal</td>\n",
       "      <td>dark with street lights</td>\n",
       "      <td>functioning</td>\n",
       "      <td>2009-01-03</td>\n",
       "      <td>02:26:00</td>\n",
       "    </tr>\n",
       "    <tr>\n",
       "      <th>2</th>\n",
       "      <td>4083073</td>\n",
       "      <td>0109</td>\n",
       "      <td>alameda</td>\n",
       "      <td>0.0</td>\n",
       "      <td>None</td>\n",
       "      <td>1</td>\n",
       "      <td>clear</td>\n",
       "      <td>None</td>\n",
       "      <td>scratch</td>\n",
       "      <td>2</td>\n",
       "      <td>vehicle code violation</td>\n",
       "      <td>improper turning</td>\n",
       "      <td>broadside</td>\n",
       "      <td>other motor vehicle</td>\n",
       "      <td>dry</td>\n",
       "      <td>normal</td>\n",
       "      <td>dark with street lights</td>\n",
       "      <td>functioning</td>\n",
       "      <td>2009-01-11</td>\n",
       "      <td>03:32:00</td>\n",
       "    </tr>\n",
       "    <tr>\n",
       "      <th>3</th>\n",
       "      <td>4083077</td>\n",
       "      <td>0109</td>\n",
       "      <td>alameda</td>\n",
       "      <td>0.0</td>\n",
       "      <td>None</td>\n",
       "      <td>1</td>\n",
       "      <td>clear</td>\n",
       "      <td>None</td>\n",
       "      <td>scratch</td>\n",
       "      <td>2</td>\n",
       "      <td>vehicle code violation</td>\n",
       "      <td>automobile right of way</td>\n",
       "      <td>broadside</td>\n",
       "      <td>other motor vehicle</td>\n",
       "      <td>dry</td>\n",
       "      <td>normal</td>\n",
       "      <td>daylight</td>\n",
       "      <td>functioning</td>\n",
       "      <td>2009-01-11</td>\n",
       "      <td>10:35:00</td>\n",
       "    </tr>\n",
       "    <tr>\n",
       "      <th>4</th>\n",
       "      <td>4083087</td>\n",
       "      <td>4313</td>\n",
       "      <td>santa clara</td>\n",
       "      <td>0.0</td>\n",
       "      <td>None</td>\n",
       "      <td>1</td>\n",
       "      <td>clear</td>\n",
       "      <td>None</td>\n",
       "      <td>scratch</td>\n",
       "      <td>2</td>\n",
       "      <td>vehicle code violation</td>\n",
       "      <td>speeding</td>\n",
       "      <td>rear end</td>\n",
       "      <td>other motor vehicle</td>\n",
       "      <td>dry</td>\n",
       "      <td>None</td>\n",
       "      <td>dark with street lights</td>\n",
       "      <td>functioning</td>\n",
       "      <td>2009-01-02</td>\n",
       "      <td>22:43:00</td>\n",
       "    </tr>\n",
       "  </tbody>\n",
       "</table>\n",
       "</div>"
      ],
      "text/plain": [
       "   case_id county_city_location county_location  distance direction  \\\n",
       "0  4083072                 1942     los angeles     528.0     north   \n",
       "1  4083075                 4313     santa clara       0.0      None   \n",
       "2  4083073                 0109         alameda       0.0      None   \n",
       "3  4083077                 0109         alameda       0.0      None   \n",
       "4  4083087                 4313     santa clara       0.0      None   \n",
       "\n",
       "   intersection weather_1 location_type collision_damage  party_count  \\\n",
       "0             0    cloudy       highway     small damage            2   \n",
       "1             1     clear          None     small damage            1   \n",
       "2             1     clear          None          scratch            2   \n",
       "3             1     clear          None          scratch            2   \n",
       "4             1     clear          None          scratch            2   \n",
       "\n",
       "  primary_collision_factor   pcf_violation_category type_of_collision  \\\n",
       "0   vehicle code violation       unsafe lane change         sideswipe   \n",
       "1   vehicle code violation         improper passing        hit object   \n",
       "2   vehicle code violation         improper turning         broadside   \n",
       "3   vehicle code violation  automobile right of way         broadside   \n",
       "4   vehicle code violation                 speeding          rear end   \n",
       "\n",
       "  motor_vehicle_involved_with road_surface road_condition_1  \\\n",
       "0         other motor vehicle          wet           normal   \n",
       "1                fixed object          dry           normal   \n",
       "2         other motor vehicle          dry           normal   \n",
       "3         other motor vehicle          dry           normal   \n",
       "4         other motor vehicle          dry             None   \n",
       "\n",
       "                  lighting control_device collision_date collision_time  \n",
       "0                 daylight           none     2009-01-22       07:25:00  \n",
       "1  dark with street lights    functioning     2009-01-03       02:26:00  \n",
       "2  dark with street lights    functioning     2009-01-11       03:32:00  \n",
       "3                 daylight    functioning     2009-01-11       10:35:00  \n",
       "4  dark with street lights    functioning     2009-01-02       22:43:00  "
      ]
     },
     "execution_count": 10,
     "metadata": {},
     "output_type": "execute_result"
    }
   ],
   "source": [
    "#напишем запрос\n",
    "query = '''\n",
    "SELECT *\n",
    "FROM collisions\n",
    "LIMIT 10;\n",
    "'''\n",
    "\n",
    "collisions = pd.read_sql_query(query, con=engine) \n",
    "collisions.head()"
   ]
  },
  {
   "cell_type": "markdown",
   "id": "45e4dde8",
   "metadata": {
    "id": "45e4dde8"
   },
   "source": [
    "Таблица collisions — общая информация о ДТП\n",
    "Имеет уникальный case_id. Эта таблица описывает общую информацию о ДТП. Например, где оно произошло и когда."
   ]
  },
  {
   "cell_type": "code",
   "execution_count": 11,
   "id": "1b55df99",
   "metadata": {
    "colab": {
     "base_uri": "https://localhost:8080/"
    },
    "id": "1b55df99",
    "outputId": "d9f95996-7b8b-4f45-8c83-507683c87e2e"
   },
   "outputs": [
    {
     "name": "stdout",
     "output_type": "stream",
     "text": [
      "<class 'pandas.core.frame.DataFrame'>\n",
      "RangeIndex: 10 entries, 0 to 9\n",
      "Data columns (total 20 columns):\n",
      " #   Column                       Non-Null Count  Dtype  \n",
      "---  ------                       --------------  -----  \n",
      " 0   case_id                      10 non-null     object \n",
      " 1   county_city_location         10 non-null     object \n",
      " 2   county_location              10 non-null     object \n",
      " 3   distance                     10 non-null     float64\n",
      " 4   direction                    4 non-null      object \n",
      " 5   intersection                 10 non-null     int64  \n",
      " 6   weather_1                    10 non-null     object \n",
      " 7   location_type                5 non-null      object \n",
      " 8   collision_damage             10 non-null     object \n",
      " 9   party_count                  10 non-null     int64  \n",
      " 10  primary_collision_factor     10 non-null     object \n",
      " 11  pcf_violation_category       9 non-null      object \n",
      " 12  type_of_collision            10 non-null     object \n",
      " 13  motor_vehicle_involved_with  10 non-null     object \n",
      " 14  road_surface                 10 non-null     object \n",
      " 15  road_condition_1             9 non-null      object \n",
      " 16  lighting                     10 non-null     object \n",
      " 17  control_device               10 non-null     object \n",
      " 18  collision_date               10 non-null     object \n",
      " 19  collision_time               10 non-null     object \n",
      "dtypes: float64(1), int64(2), object(17)\n",
      "memory usage: 1.7+ KB\n"
     ]
    }
   ],
   "source": [
    "collisions.info()#выведем общую информацию о таблице collisions"
   ]
  },
  {
   "cell_type": "code",
   "execution_count": 12,
   "id": "6e6c1d4e",
   "metadata": {
    "colab": {
     "base_uri": "https://localhost:8080/"
    },
    "id": "6e6c1d4e",
    "outputId": "fd86dd13-5dbd-41ba-8db1-fb1429b11992"
   },
   "outputs": [
    {
     "data": {
      "text/plain": [
       "array(['automobile right of way', 'improper passing', 'improper turning',\n",
       "       'speeding', 'unsafe lane change', None], dtype=object)"
      ]
     },
     "execution_count": 12,
     "metadata": {},
     "output_type": "execute_result"
    }
   ],
   "source": [
    "collisions['pcf_violation_category'].sort_values().unique()#выведем уникальные значения столбца pcf_violation_category таблицы collisions"
   ]
  },
  {
   "cell_type": "code",
   "execution_count": 13,
   "id": "31a03bcc",
   "metadata": {
    "colab": {
     "base_uri": "https://localhost:8080/",
     "height": 363
    },
    "id": "31a03bcc",
    "outputId": "7ed9d64d-2d7b-4020-b05f-73c7e256b045",
    "scrolled": false
   },
   "outputs": [
    {
     "data": {
      "text/html": [
       "<div>\n",
       "<style scoped>\n",
       "    .dataframe tbody tr th:only-of-type {\n",
       "        vertical-align: middle;\n",
       "    }\n",
       "\n",
       "    .dataframe tbody tr th {\n",
       "        vertical-align: top;\n",
       "    }\n",
       "\n",
       "    .dataframe thead th {\n",
       "        text-align: right;\n",
       "    }\n",
       "</style>\n",
       "<table border=\"1\" class=\"dataframe\">\n",
       "  <thead>\n",
       "    <tr style=\"text-align: right;\">\n",
       "      <th></th>\n",
       "      <th>id</th>\n",
       "      <th>case_id</th>\n",
       "      <th>party_number</th>\n",
       "      <th>party_type</th>\n",
       "      <th>at_fault</th>\n",
       "      <th>insurance_premium</th>\n",
       "      <th>party_sobriety</th>\n",
       "      <th>party_drug_physical</th>\n",
       "      <th>cellphone_in_use</th>\n",
       "    </tr>\n",
       "  </thead>\n",
       "  <tbody>\n",
       "    <tr>\n",
       "      <th>0</th>\n",
       "      <td>22</td>\n",
       "      <td>3899454</td>\n",
       "      <td>1</td>\n",
       "      <td>road signs</td>\n",
       "      <td>1</td>\n",
       "      <td>29.0</td>\n",
       "      <td>had not been drinking</td>\n",
       "      <td>None</td>\n",
       "      <td>0.0</td>\n",
       "    </tr>\n",
       "    <tr>\n",
       "      <th>1</th>\n",
       "      <td>23</td>\n",
       "      <td>3899454</td>\n",
       "      <td>2</td>\n",
       "      <td>road signs</td>\n",
       "      <td>0</td>\n",
       "      <td>7.0</td>\n",
       "      <td>had not been drinking</td>\n",
       "      <td>None</td>\n",
       "      <td>0.0</td>\n",
       "    </tr>\n",
       "    <tr>\n",
       "      <th>2</th>\n",
       "      <td>29</td>\n",
       "      <td>3899462</td>\n",
       "      <td>2</td>\n",
       "      <td>car</td>\n",
       "      <td>0</td>\n",
       "      <td>21.0</td>\n",
       "      <td>had not been drinking</td>\n",
       "      <td>None</td>\n",
       "      <td>0.0</td>\n",
       "    </tr>\n",
       "    <tr>\n",
       "      <th>3</th>\n",
       "      <td>31</td>\n",
       "      <td>3899465</td>\n",
       "      <td>2</td>\n",
       "      <td>road signs</td>\n",
       "      <td>0</td>\n",
       "      <td>24.0</td>\n",
       "      <td>had not been drinking</td>\n",
       "      <td>None</td>\n",
       "      <td>0.0</td>\n",
       "    </tr>\n",
       "    <tr>\n",
       "      <th>4</th>\n",
       "      <td>41</td>\n",
       "      <td>3899478</td>\n",
       "      <td>2</td>\n",
       "      <td>road bumper</td>\n",
       "      <td>0</td>\n",
       "      <td>NaN</td>\n",
       "      <td>not applicable</td>\n",
       "      <td>not applicable</td>\n",
       "      <td>0.0</td>\n",
       "    </tr>\n",
       "    <tr>\n",
       "      <th>5</th>\n",
       "      <td>43</td>\n",
       "      <td>3899481</td>\n",
       "      <td>2</td>\n",
       "      <td>road bumper</td>\n",
       "      <td>0</td>\n",
       "      <td>NaN</td>\n",
       "      <td>not applicable</td>\n",
       "      <td>not applicable</td>\n",
       "      <td>0.0</td>\n",
       "    </tr>\n",
       "    <tr>\n",
       "      <th>6</th>\n",
       "      <td>72</td>\n",
       "      <td>3899505</td>\n",
       "      <td>2</td>\n",
       "      <td>road bumper</td>\n",
       "      <td>0</td>\n",
       "      <td>NaN</td>\n",
       "      <td>not applicable</td>\n",
       "      <td>not applicable</td>\n",
       "      <td>0.0</td>\n",
       "    </tr>\n",
       "    <tr>\n",
       "      <th>7</th>\n",
       "      <td>73</td>\n",
       "      <td>3899505</td>\n",
       "      <td>3</td>\n",
       "      <td>road bumper</td>\n",
       "      <td>0</td>\n",
       "      <td>NaN</td>\n",
       "      <td>not applicable</td>\n",
       "      <td>not applicable</td>\n",
       "      <td>0.0</td>\n",
       "    </tr>\n",
       "    <tr>\n",
       "      <th>8</th>\n",
       "      <td>76</td>\n",
       "      <td>3899509</td>\n",
       "      <td>1</td>\n",
       "      <td>road bumper</td>\n",
       "      <td>0</td>\n",
       "      <td>NaN</td>\n",
       "      <td>had not been drinking</td>\n",
       "      <td>None</td>\n",
       "      <td>0.0</td>\n",
       "    </tr>\n",
       "    <tr>\n",
       "      <th>9</th>\n",
       "      <td>93</td>\n",
       "      <td>3981292</td>\n",
       "      <td>2</td>\n",
       "      <td>road bumper</td>\n",
       "      <td>0</td>\n",
       "      <td>NaN</td>\n",
       "      <td>had not been drinking</td>\n",
       "      <td>None</td>\n",
       "      <td>NaN</td>\n",
       "    </tr>\n",
       "  </tbody>\n",
       "</table>\n",
       "</div>"
      ],
      "text/plain": [
       "   id  case_id  party_number   party_type  at_fault  insurance_premium  \\\n",
       "0  22  3899454             1   road signs         1               29.0   \n",
       "1  23  3899454             2   road signs         0                7.0   \n",
       "2  29  3899462             2          car         0               21.0   \n",
       "3  31  3899465             2   road signs         0               24.0   \n",
       "4  41  3899478             2  road bumper         0                NaN   \n",
       "5  43  3899481             2  road bumper         0                NaN   \n",
       "6  72  3899505             2  road bumper         0                NaN   \n",
       "7  73  3899505             3  road bumper         0                NaN   \n",
       "8  76  3899509             1  road bumper         0                NaN   \n",
       "9  93  3981292             2  road bumper         0                NaN   \n",
       "\n",
       "          party_sobriety party_drug_physical  cellphone_in_use  \n",
       "0  had not been drinking                None               0.0  \n",
       "1  had not been drinking                None               0.0  \n",
       "2  had not been drinking                None               0.0  \n",
       "3  had not been drinking                None               0.0  \n",
       "4         not applicable      not applicable               0.0  \n",
       "5         not applicable      not applicable               0.0  \n",
       "6         not applicable      not applicable               0.0  \n",
       "7         not applicable      not applicable               0.0  \n",
       "8  had not been drinking                None               0.0  \n",
       "9  had not been drinking                None               NaN  "
      ]
     },
     "execution_count": 13,
     "metadata": {},
     "output_type": "execute_result"
    }
   ],
   "source": [
    "#напишем запрос\n",
    "query = '''\n",
    "SELECT *\n",
    "FROM parties\n",
    "LIMIT 10;\n",
    "'''\n",
    "\n",
    "parties = pd.read_sql_query(query, con=engine) \n",
    "parties"
   ]
  },
  {
   "cell_type": "code",
   "execution_count": 14,
   "id": "161db17d",
   "metadata": {
    "colab": {
     "base_uri": "https://localhost:8080/"
    },
    "id": "161db17d",
    "outputId": "3fe87012-3f09-4d9e-851f-dfed1f8c17c7"
   },
   "outputs": [
    {
     "name": "stdout",
     "output_type": "stream",
     "text": [
      "<class 'pandas.core.frame.DataFrame'>\n",
      "RangeIndex: 10 entries, 0 to 9\n",
      "Data columns (total 9 columns):\n",
      " #   Column               Non-Null Count  Dtype  \n",
      "---  ------               --------------  -----  \n",
      " 0   id                   10 non-null     int64  \n",
      " 1   case_id              10 non-null     object \n",
      " 2   party_number         10 non-null     int64  \n",
      " 3   party_type           10 non-null     object \n",
      " 4   at_fault             10 non-null     int64  \n",
      " 5   insurance_premium    4 non-null      float64\n",
      " 6   party_sobriety       10 non-null     object \n",
      " 7   party_drug_physical  4 non-null      object \n",
      " 8   cellphone_in_use     9 non-null      float64\n",
      "dtypes: float64(2), int64(3), object(4)\n",
      "memory usage: 848.0+ bytes\n"
     ]
    }
   ],
   "source": [
    "parties.info()#выведем общую информацию о таблице parties"
   ]
  },
  {
   "cell_type": "markdown",
   "id": "3c7a4508",
   "metadata": {
    "id": "3c7a4508"
   },
   "source": [
    "parties — информация об участниках ДТП\n",
    "Имеет неуникальный case_id, который сопоставляется с соответствующим ДТП в таблице collisions. Каждая строка здесь описывает одну из сторон, участвующих в ДТП. Если столкнулись две машины, в этой таблице должно быть две строки с совпадением case_id. Уникальный идентификатор, это case_id and party_number."
   ]
  },
  {
   "cell_type": "code",
   "execution_count": 15,
   "id": "7c601999",
   "metadata": {
    "colab": {
     "base_uri": "https://localhost:8080/",
     "height": 363
    },
    "id": "7c601999",
    "outputId": "123a7856-59b2-4d2d-a3fa-cda0d077b812"
   },
   "outputs": [
    {
     "data": {
      "text/html": [
       "<div>\n",
       "<style scoped>\n",
       "    .dataframe tbody tr th:only-of-type {\n",
       "        vertical-align: middle;\n",
       "    }\n",
       "\n",
       "    .dataframe tbody tr th {\n",
       "        vertical-align: top;\n",
       "    }\n",
       "\n",
       "    .dataframe thead th {\n",
       "        text-align: right;\n",
       "    }\n",
       "</style>\n",
       "<table border=\"1\" class=\"dataframe\">\n",
       "  <thead>\n",
       "    <tr style=\"text-align: right;\">\n",
       "      <th></th>\n",
       "      <th>case_id</th>\n",
       "      <th>db_year</th>\n",
       "    </tr>\n",
       "  </thead>\n",
       "  <tbody>\n",
       "    <tr>\n",
       "      <th>0</th>\n",
       "      <td>0081715</td>\n",
       "      <td>2021</td>\n",
       "    </tr>\n",
       "    <tr>\n",
       "      <th>1</th>\n",
       "      <td>0726202</td>\n",
       "      <td>2021</td>\n",
       "    </tr>\n",
       "    <tr>\n",
       "      <th>2</th>\n",
       "      <td>3858022</td>\n",
       "      <td>2021</td>\n",
       "    </tr>\n",
       "    <tr>\n",
       "      <th>3</th>\n",
       "      <td>3899441</td>\n",
       "      <td>2021</td>\n",
       "    </tr>\n",
       "    <tr>\n",
       "      <th>4</th>\n",
       "      <td>3899442</td>\n",
       "      <td>2021</td>\n",
       "    </tr>\n",
       "    <tr>\n",
       "      <th>5</th>\n",
       "      <td>3899445</td>\n",
       "      <td>2021</td>\n",
       "    </tr>\n",
       "    <tr>\n",
       "      <th>6</th>\n",
       "      <td>3899446</td>\n",
       "      <td>2021</td>\n",
       "    </tr>\n",
       "    <tr>\n",
       "      <th>7</th>\n",
       "      <td>3899449</td>\n",
       "      <td>2021</td>\n",
       "    </tr>\n",
       "    <tr>\n",
       "      <th>8</th>\n",
       "      <td>3899450</td>\n",
       "      <td>2021</td>\n",
       "    </tr>\n",
       "    <tr>\n",
       "      <th>9</th>\n",
       "      <td>3899453</td>\n",
       "      <td>2021</td>\n",
       "    </tr>\n",
       "  </tbody>\n",
       "</table>\n",
       "</div>"
      ],
      "text/plain": [
       "   case_id db_year\n",
       "0  0081715    2021\n",
       "1  0726202    2021\n",
       "2  3858022    2021\n",
       "3  3899441    2021\n",
       "4  3899442    2021\n",
       "5  3899445    2021\n",
       "6  3899446    2021\n",
       "7  3899449    2021\n",
       "8  3899450    2021\n",
       "9  3899453    2021"
      ]
     },
     "execution_count": 15,
     "metadata": {},
     "output_type": "execute_result"
    }
   ],
   "source": [
    "#напишем запрос\n",
    "query = '''\n",
    "SELECT *\n",
    "FROM case_ids\n",
    "LIMIT 10;\n",
    "'''\n",
    "\n",
    "case_ids = pd.read_sql_query(query, con=engine) \n",
    "case_ids"
   ]
  },
  {
   "cell_type": "code",
   "execution_count": 16,
   "id": "f69f2931",
   "metadata": {
    "colab": {
     "base_uri": "https://localhost:8080/"
    },
    "id": "f69f2931",
    "outputId": "55421427-3f73-4e97-acd1-3309d18873ac"
   },
   "outputs": [
    {
     "name": "stdout",
     "output_type": "stream",
     "text": [
      "<class 'pandas.core.frame.DataFrame'>\n",
      "RangeIndex: 10 entries, 0 to 9\n",
      "Data columns (total 2 columns):\n",
      " #   Column   Non-Null Count  Dtype \n",
      "---  ------   --------------  ----- \n",
      " 0   case_id  10 non-null     object\n",
      " 1   db_year  10 non-null     object\n",
      "dtypes: object(2)\n",
      "memory usage: 288.0+ bytes\n"
     ]
    }
   ],
   "source": [
    "case_ids.info()#выведем общую информацию о таблице case_ids"
   ]
  },
  {
   "cell_type": "markdown",
   "id": "4bd81d89",
   "metadata": {
    "id": "4bd81d89"
   },
   "source": [
    "***Вывод***  \n",
    "\n",
    "Проанализировали все ли таблицы, установлили, что все таблицы имеют достаточный набор данных, количество которых соответствует условию задачи.\n",
    "Имеются ключи для связи таблиц."
   ]
  },
  {
   "cell_type": "markdown",
   "id": "6ae0e57c",
   "metadata": {
    "id": "6ae0e57c"
   },
   "source": [
    "##  Проведите статистический анализ факторов ДТП"
   ]
  },
  {
   "cell_type": "markdown",
   "id": "846b5e2c",
   "metadata": {
    "id": "846b5e2c"
   },
   "source": [
    "Выясним, в какие месяцы происходит наибольшее количество аварий. Проанализируем весь период наблюдений (таблица collisions).\n",
    "Создадим sql-запрос и\n",
    "Построим график.\n",
    "\n",
    "\n"
   ]
  },
  {
   "cell_type": "code",
   "execution_count": 17,
   "id": "e78432d6",
   "metadata": {
    "id": "e78432d6"
   },
   "outputs": [],
   "source": [
    "# напишем запрос\n",
    "query_1 = '''\n",
    "SELECT DISTINCT EXTRACT(month FROM collision_date) AS month_date,\n",
    "                COUNT(case_id) AS count_cases\n",
    "FROM collisions\n",
    "GROUP BY EXTRACT(month FROM collision_date)\n",
    "ORDER BY count_cases DESC\n",
    "'''\n",
    "\n"
   ]
  },
  {
   "cell_type": "code",
   "execution_count": 18,
   "id": "3c370ee7",
   "metadata": {
    "id": "3c370ee7"
   },
   "outputs": [],
   "source": [
    "# выполним запрос\n",
    "sample_1 = pd.read_sql_query(query_1, con=engine)\n",
    "#построим график \n"
   ]
  },
  {
   "cell_type": "code",
   "execution_count": 19,
   "id": "f04835ce",
   "metadata": {
    "colab": {
     "base_uri": "https://localhost:8080/",
     "height": 298
    },
    "id": "f04835ce",
    "outputId": "47245621-55c0-4bea-a205-88200970b7ee"
   },
   "outputs": [
    {
     "data": {
      "text/plain": [
       "<AxesSubplot:xlabel='month_date', ylabel='count_cases'>"
      ]
     },
     "execution_count": 19,
     "metadata": {},
     "output_type": "execute_result"
    },
    {
     "data": {
      "image/png": "[encoded data removed]",
      "text/plain": [
       "<Figure size 432x288 with 1 Axes>"
      ]
     },
     "metadata": {
      "needs_background": "light"
     },
     "output_type": "display_data"
    }
   ],
   "source": [
    "x = sample_1['month_date']#.value_counts().index\n",
    "y = sample_1['count_cases']#.value_counts().values\n",
    "sns.barplot(x, y)\n"
   ]
  },
  {
   "cell_type": "markdown",
   "id": "CpKYbZ5A8SOp",
   "metadata": {
    "id": "CpKYbZ5A8SOp"
   },
   "source": [
    "Наибольшее количество аварий происходит с 1-го по 4-й месяц."
   ]
  },
  {
   "cell_type": "markdown",
   "id": "b7b59475",
   "metadata": {
    "id": "b7b59475"
   },
   "source": [
    "Проведем анализ серьёзности повреждений транспортного средства, исходя из состояния дороги в момент ДТП (связать collisions и parties);\n",
    "Найдём самые частые причины ДТП (таблица parties).\n",
    "2.1. Создадим шесть задач для коллег.\n",
    "2.2. Пропишем порядок решения для двух задач из списка. Обязательное условие — решение этих задач должно включать связь не менее 2-х таблиц. "
   ]
  },
  {
   "cell_type": "markdown",
   "id": "0f438673",
   "metadata": {
    "id": "0f438673"
   },
   "source": [
    "1) Проведем анализ серьёзности повреждений транспортного средства, исходя из состояния дороги в момент ДТП (свяжем collisions и parties)"
   ]
  },
  {
   "cell_type": "code",
   "execution_count": 20,
   "id": "07289463",
   "metadata": {
    "id": "07289463"
   },
   "outputs": [],
   "source": [
    "# напишем запрос\n",
    "query_2 = '''\n",
    "SELECT road_surface as road_surface, COUNT(collision_damage) AS count\n",
    "FROM collisions\n",
    "GROUP BY road_surface\n",
    "\n",
    "'''\n"
   ]
  },
  {
   "cell_type": "code",
   "execution_count": 21,
   "id": "8d655e95",
   "metadata": {
    "colab": {
     "base_uri": "https://localhost:8080/",
     "height": 413
    },
    "id": "8d655e95",
    "outputId": "c3828fa6-b08d-4044-89cf-ad3c44784e34"
   },
   "outputs": [
    {
     "name": "stdout",
     "output_type": "stream",
     "text": [
      "  road_surface    count\n",
      "0          dry  1242026\n",
      "1     slippery     1384\n",
      "2        snowy     7261\n",
      "3          wet   136236\n",
      "4         None    13093\n"
     ]
    },
    {
     "data": {
      "text/plain": [
       "<AxesSubplot:xlabel='road_surface', ylabel='count'>"
      ]
     },
     "execution_count": 21,
     "metadata": {},
     "output_type": "execute_result"
    },
    {
     "data": {
      "image/png": "[encoded data removed]",
      "text/plain": [
       "<Figure size 432x288 with 1 Axes>"
      ]
     },
     "metadata": {
      "needs_background": "light"
     },
     "output_type": "display_data"
    }
   ],
   "source": [
    "#выведем запрос\n",
    "sample_2 = pd.read_sql_query(query_2, con=engine) \n",
    "print(sample_2)\n",
    "sns_plot = sns.countplot(sample_2['count'])\n",
    "fig = sns_plot.get_figure()\n",
    "\n",
    "x = sample_2['road_surface']#.value_counts().index\n",
    "y = sample_2['count']#.value_counts().values\n",
    "sns.barplot(x, y)"
   ]
  },
  {
   "cell_type": "markdown",
   "id": "0WxbiEHQh9go",
   "metadata": {
    "id": "0WxbiEHQh9go"
   },
   "source": [
    "Как видно из данных, большинство аварий происходит не из-за погодных условий."
   ]
  },
  {
   "cell_type": "markdown",
   "id": "a6701e95",
   "metadata": {
    "id": "a6701e95"
   },
   "source": [
    "2) Найдем самые частые причины ДТП (таблица parties)."
   ]
  },
  {
   "cell_type": "code",
   "execution_count": 22,
   "id": "e6dfbe7d",
   "metadata": {
    "id": "e6dfbe7d"
   },
   "outputs": [],
   "source": [
    "# напишем запрос\n",
    "query_3 = '''\n",
    "SELECT party_type AS type, COUNT(case_id) AS count\n",
    "FROM parties\n",
    "GROUP BY party_type\n",
    "ORDER BY count DESC\n",
    "'''\n"
   ]
  },
  {
   "cell_type": "code",
   "execution_count": 23,
   "id": "ddef5a17",
   "metadata": {
    "colab": {
     "base_uri": "https://localhost:8080/",
     "height": 429
    },
    "id": "ddef5a17",
    "outputId": "9317e631-066c-459c-a6cc-b91e952ac24d"
   },
   "outputs": [
    {
     "name": "stdout",
     "output_type": "stream",
     "text": [
      "          type    count\n",
      "0          car  2469314\n",
      "1  road bumper   173488\n",
      "2     building    48649\n",
      "3   road signs    48456\n",
      "4        other     8879\n",
      "5         None     3622\n"
     ]
    },
    {
     "data": {
      "text/plain": [
       "<AxesSubplot:xlabel='type', ylabel='count'>"
      ]
     },
     "execution_count": 23,
     "metadata": {},
     "output_type": "execute_result"
    },
    {
     "data": {
      "image/png": "[encoded data removed]",
      "text/plain": [
       "<Figure size 432x288 with 1 Axes>"
      ]
     },
     "metadata": {
      "needs_background": "light"
     },
     "output_type": "display_data"
    }
   ],
   "source": [
    "sample_3 = pd.read_sql_query(query_3, con=engine) \n",
    "print(sample_3)\n",
    "sns_plot = sns.barplot(data = sample_3['count'])\n",
    "fig = sns_plot.get_figure()\n",
    "\n",
    "x = sample_3['type']#.value_counts().index\n",
    "y = sample_3['count']#.value_counts().values\n",
    "sns.barplot(x, y)\n"
   ]
  },
  {
   "cell_type": "markdown",
   "id": "OGqG3YJT-MJW",
   "metadata": {
    "id": "OGqG3YJT-MJW"
   },
   "source": [
    "Самые частые причины ДТП это столкновение с другими машинами."
   ]
  },
  {
   "cell_type": "markdown",
   "id": "6c0583e7",
   "metadata": {
    "id": "6c0583e7"
   },
   "source": [
    "3) В какой части города было наибольшее количество пострадавших  \n",
    "4) Какие повреждения были нанесены пьяными водителями  \n",
    "5) В какую погоду водители признаны виновными  \n",
    "6) В какую погоду нанесен наибольший страховой ущерб"
   ]
  },
  {
   "cell_type": "markdown",
   "id": "x6K67uDEiUPa",
   "metadata": {
    "id": "x6K67uDEiUPa"
   },
   "source": [
    "#Вывод:\n",
    "Проведя анализ мы установли, что самые частые причины ДТП - это столкновение с другими автомобилями, погода мало влияет на количесвто ДТП происходит в зимнее время, а также на раннюю весну (с января по апрель)."
   ]
  },
  {
   "cell_type": "markdown",
   "id": "ba7e743e",
   "metadata": {
    "id": "ba7e743e"
   },
   "source": [
    "## Создайте модель для оценки водительского риска"
   ]
  },
  {
   "cell_type": "markdown",
   "id": "f717fcd3",
   "metadata": {
    "id": "f717fcd3"
   },
   "source": [
    "Подготовим набор данных на основе первичного предположения заказчика:  \n",
    "Выберем тип виновника — только машина (car). **  \n",
    "Возьмем случаи, когда ДТП привело к любым значимым повреждениям автомобиля любого из участников — все, кроме типа SCRATCH (царапина).  \n",
    "Для моделирования возьмем данные только за 2012 год.  \n",
    "Подготовим исходную таблицу с помощью sql-запроса.  \n",
    "Проведем первичный отбор факторов, необходимых для модели.  \n",
    "Изучим описание факторов. Отобрем те, которые могут влиять на вероятность ДТП. "
   ]
  },
  {
   "cell_type": "code",
   "execution_count": 24,
   "id": "4aa0f7f4",
   "metadata": {
    "id": "4aa0f7f4"
   },
   "outputs": [],
   "source": [
    "# напишем запрос\n",
    "query_model = '''\n",
    "SELECT *\n",
    "FROM parties p\n",
    "JOIN case_ids ci ON p.case_id = ci.case_id\n",
    "JOIN collisions c ON ci.case_id = c.case_id\n",
    "JOIN vehicles v ON ci.case_id = v.case_id\n",
    "WHERE p.party_type = 'car'\n",
    "AND c.collision_damage != 'SCRATCH'\n",
    "AND collision_date BETWEEN '2012-01-01' AND '2012-12-31'\n",
    "\n",
    "'''\n"
   ]
  },
  {
   "cell_type": "code",
   "execution_count": 25,
   "id": "4cacfced",
   "metadata": {
    "colab": {
     "base_uri": "https://localhost:8080/",
     "height": 438
    },
    "id": "4cacfced",
    "outputId": "35cfa99c-a7a5-4e96-df4c-57c3a63a2887"
   },
   "outputs": [
    {
     "data": {
      "text/html": [
       "<div>\n",
       "<style scoped>\n",
       "    .dataframe tbody tr th:only-of-type {\n",
       "        vertical-align: middle;\n",
       "    }\n",
       "\n",
       "    .dataframe tbody tr th {\n",
       "        vertical-align: top;\n",
       "    }\n",
       "\n",
       "    .dataframe thead th {\n",
       "        text-align: right;\n",
       "    }\n",
       "</style>\n",
       "<table border=\"1\" class=\"dataframe\">\n",
       "  <thead>\n",
       "    <tr style=\"text-align: right;\">\n",
       "      <th></th>\n",
       "      <th>id</th>\n",
       "      <th>case_id</th>\n",
       "      <th>party_number</th>\n",
       "      <th>party_type</th>\n",
       "      <th>at_fault</th>\n",
       "      <th>insurance_premium</th>\n",
       "      <th>party_sobriety</th>\n",
       "      <th>party_drug_physical</th>\n",
       "      <th>cellphone_in_use</th>\n",
       "      <th>case_id</th>\n",
       "      <th>...</th>\n",
       "      <th>lighting</th>\n",
       "      <th>control_device</th>\n",
       "      <th>collision_date</th>\n",
       "      <th>collision_time</th>\n",
       "      <th>id</th>\n",
       "      <th>case_id</th>\n",
       "      <th>party_number</th>\n",
       "      <th>vehicle_type</th>\n",
       "      <th>vehicle_transmission</th>\n",
       "      <th>vehicle_age</th>\n",
       "    </tr>\n",
       "  </thead>\n",
       "  <tbody>\n",
       "    <tr>\n",
       "      <th>0</th>\n",
       "      <td>2407176</td>\n",
       "      <td>5455261</td>\n",
       "      <td>2</td>\n",
       "      <td>car</td>\n",
       "      <td>0</td>\n",
       "      <td>51.0</td>\n",
       "      <td>had not been drinking</td>\n",
       "      <td>None</td>\n",
       "      <td>0.0</td>\n",
       "      <td>5455261</td>\n",
       "      <td>...</td>\n",
       "      <td>daylight</td>\n",
       "      <td>functioning</td>\n",
       "      <td>2012-01-04</td>\n",
       "      <td>11:14:00</td>\n",
       "      <td>1326885</td>\n",
       "      <td>5455261</td>\n",
       "      <td>2</td>\n",
       "      <td>coupe</td>\n",
       "      <td>manual</td>\n",
       "      <td>8.0</td>\n",
       "    </tr>\n",
       "    <tr>\n",
       "      <th>1</th>\n",
       "      <td>2395289</td>\n",
       "      <td>5448788</td>\n",
       "      <td>1</td>\n",
       "      <td>car</td>\n",
       "      <td>0</td>\n",
       "      <td>25.0</td>\n",
       "      <td>had not been drinking</td>\n",
       "      <td>None</td>\n",
       "      <td>0.0</td>\n",
       "      <td>5448788</td>\n",
       "      <td>...</td>\n",
       "      <td>daylight</td>\n",
       "      <td>functioning</td>\n",
       "      <td>2012-01-15</td>\n",
       "      <td>16:15:00</td>\n",
       "      <td>1320256</td>\n",
       "      <td>5448788</td>\n",
       "      <td>1</td>\n",
       "      <td>sedan</td>\n",
       "      <td>manual</td>\n",
       "      <td>4.0</td>\n",
       "    </tr>\n",
       "    <tr>\n",
       "      <th>2</th>\n",
       "      <td>2395402</td>\n",
       "      <td>5448851</td>\n",
       "      <td>1</td>\n",
       "      <td>car</td>\n",
       "      <td>0</td>\n",
       "      <td>56.0</td>\n",
       "      <td>had not been drinking</td>\n",
       "      <td>None</td>\n",
       "      <td>0.0</td>\n",
       "      <td>5448851</td>\n",
       "      <td>...</td>\n",
       "      <td>daylight</td>\n",
       "      <td>functioning</td>\n",
       "      <td>2012-01-11</td>\n",
       "      <td>11:10:00</td>\n",
       "      <td>1320304</td>\n",
       "      <td>5448851</td>\n",
       "      <td>2</td>\n",
       "      <td>coupe</td>\n",
       "      <td>manual</td>\n",
       "      <td>2.0</td>\n",
       "    </tr>\n",
       "    <tr>\n",
       "      <th>3</th>\n",
       "      <td>2395402</td>\n",
       "      <td>5448851</td>\n",
       "      <td>1</td>\n",
       "      <td>car</td>\n",
       "      <td>0</td>\n",
       "      <td>56.0</td>\n",
       "      <td>had not been drinking</td>\n",
       "      <td>None</td>\n",
       "      <td>0.0</td>\n",
       "      <td>5448851</td>\n",
       "      <td>...</td>\n",
       "      <td>daylight</td>\n",
       "      <td>functioning</td>\n",
       "      <td>2012-01-11</td>\n",
       "      <td>11:10:00</td>\n",
       "      <td>1320303</td>\n",
       "      <td>5448851</td>\n",
       "      <td>1</td>\n",
       "      <td>coupe</td>\n",
       "      <td>manual</td>\n",
       "      <td>9.0</td>\n",
       "    </tr>\n",
       "    <tr>\n",
       "      <th>4</th>\n",
       "      <td>2405045</td>\n",
       "      <td>5454073</td>\n",
       "      <td>1</td>\n",
       "      <td>car</td>\n",
       "      <td>1</td>\n",
       "      <td>NaN</td>\n",
       "      <td>impairment unknown</td>\n",
       "      <td>G</td>\n",
       "      <td>0.0</td>\n",
       "      <td>5454073</td>\n",
       "      <td>...</td>\n",
       "      <td>daylight</td>\n",
       "      <td>none</td>\n",
       "      <td>2012-01-20</td>\n",
       "      <td>15:05:00</td>\n",
       "      <td>1325793</td>\n",
       "      <td>5454073</td>\n",
       "      <td>2</td>\n",
       "      <td>coupe</td>\n",
       "      <td>manual</td>\n",
       "      <td>3.0</td>\n",
       "    </tr>\n",
       "  </tbody>\n",
       "</table>\n",
       "<p>5 rows × 37 columns</p>\n",
       "</div>"
      ],
      "text/plain": [
       "        id  case_id  party_number party_type  at_fault  insurance_premium  \\\n",
       "0  2407176  5455261             2        car         0               51.0   \n",
       "1  2395289  5448788             1        car         0               25.0   \n",
       "2  2395402  5448851             1        car         0               56.0   \n",
       "3  2395402  5448851             1        car         0               56.0   \n",
       "4  2405045  5454073             1        car         1                NaN   \n",
       "\n",
       "          party_sobriety party_drug_physical  cellphone_in_use  case_id  ...  \\\n",
       "0  had not been drinking                None               0.0  5455261  ...   \n",
       "1  had not been drinking                None               0.0  5448788  ...   \n",
       "2  had not been drinking                None               0.0  5448851  ...   \n",
       "3  had not been drinking                None               0.0  5448851  ...   \n",
       "4     impairment unknown                   G               0.0  5454073  ...   \n",
       "\n",
       "   lighting control_device collision_date collision_time       id  case_id  \\\n",
       "0  daylight    functioning     2012-01-04       11:14:00  1326885  5455261   \n",
       "1  daylight    functioning     2012-01-15       16:15:00  1320256  5448788   \n",
       "2  daylight    functioning     2012-01-11       11:10:00  1320304  5448851   \n",
       "3  daylight    functioning     2012-01-11       11:10:00  1320303  5448851   \n",
       "4  daylight           none     2012-01-20       15:05:00  1325793  5454073   \n",
       "\n",
       "   party_number vehicle_type vehicle_transmission vehicle_age  \n",
       "0             2        coupe               manual         8.0  \n",
       "1             1        sedan               manual         4.0  \n",
       "2             2        coupe               manual         2.0  \n",
       "3             1        coupe               manual         9.0  \n",
       "4             2        coupe               manual         3.0  \n",
       "\n",
       "[5 rows x 37 columns]"
      ]
     },
     "execution_count": 25,
     "metadata": {},
     "output_type": "execute_result"
    }
   ],
   "source": [
    "#выведем запрос\n",
    "df = pd.read_sql_query(query_model, con=engine) \n",
    "df.head()\n"
   ]
  },
  {
   "cell_type": "code",
   "execution_count": 26,
   "id": "b0b6bd11",
   "metadata": {
    "colab": {
     "base_uri": "https://localhost:8080/",
     "height": 206
    },
    "id": "b0b6bd11",
    "outputId": "c77e0301-930e-4d95-ab6a-283e567c38d2"
   },
   "outputs": [
    {
     "data": {
      "text/html": [
       "<div>\n",
       "<style scoped>\n",
       "    .dataframe tbody tr th:only-of-type {\n",
       "        vertical-align: middle;\n",
       "    }\n",
       "\n",
       "    .dataframe tbody tr th {\n",
       "        vertical-align: top;\n",
       "    }\n",
       "\n",
       "    .dataframe thead th {\n",
       "        text-align: right;\n",
       "    }\n",
       "</style>\n",
       "<table border=\"1\" class=\"dataframe\">\n",
       "  <thead>\n",
       "    <tr style=\"text-align: right;\">\n",
       "      <th></th>\n",
       "      <th>primary_collision_factor</th>\n",
       "      <th>pcf_violation_category</th>\n",
       "      <th>type_of_collision</th>\n",
       "    </tr>\n",
       "  </thead>\n",
       "  <tbody>\n",
       "    <tr>\n",
       "      <th>0</th>\n",
       "      <td>None</td>\n",
       "      <td>None</td>\n",
       "      <td>rear end</td>\n",
       "    </tr>\n",
       "    <tr>\n",
       "      <th>1</th>\n",
       "      <td>unknown</td>\n",
       "      <td>unknown</td>\n",
       "      <td>sideswipe</td>\n",
       "    </tr>\n",
       "    <tr>\n",
       "      <th>2</th>\n",
       "      <td>vehicle code violation</td>\n",
       "      <td>automobile right of way</td>\n",
       "      <td>broadside</td>\n",
       "    </tr>\n",
       "    <tr>\n",
       "      <th>3</th>\n",
       "      <td>vehicle code violation</td>\n",
       "      <td>automobile right of way</td>\n",
       "      <td>broadside</td>\n",
       "    </tr>\n",
       "    <tr>\n",
       "      <th>4</th>\n",
       "      <td>vehicle code violation</td>\n",
       "      <td>speeding</td>\n",
       "      <td>rear end</td>\n",
       "    </tr>\n",
       "  </tbody>\n",
       "</table>\n",
       "</div>"
      ],
      "text/plain": [
       "  primary_collision_factor   pcf_violation_category type_of_collision\n",
       "0                     None                     None          rear end\n",
       "1                  unknown                  unknown         sideswipe\n",
       "2   vehicle code violation  automobile right of way         broadside\n",
       "3   vehicle code violation  automobile right of way         broadside\n",
       "4   vehicle code violation                 speeding          rear end"
      ]
     },
     "execution_count": 26,
     "metadata": {},
     "output_type": "execute_result"
    }
   ],
   "source": [
    "df[[ 'primary_collision_factor', #основной фактор аварии\n",
    "          'pcf_violation_category', #категория нарушения\n",
    "          'type_of_collision']].head()"
   ]
  },
  {
   "cell_type": "code",
   "execution_count": 27,
   "id": "f4391771",
   "metadata": {
    "id": "f4391771"
   },
   "outputs": [],
   "source": [
    "#удалим ненужные столбцы\n",
    "not_in_columns=[\n",
    " 'db_year', #поскольку только 2021 год   \n",
    "  'county_location', #  поскольку есть похожий столбец  'county_city_location'\n",
    "   'collision_date',#поскольку дата\n",
    "    'id', 'case_id',\n",
    "    'party_number', # Число участников происшествия, поскольку никак не влияет\n",
    "    'insurance_premium', # размер страхового ущерба(понять насколько серьезные повреждения можно получить)(вторичный фактор и не влияет на то будет ли авария)\n",
    "     'collision_damage', #повреждения (понять насколько серьезное ДТП)(вторичный фактор и не влияет на то будет ли авария)\n",
    "          'party_count', #количество участников(понять, насколько серьезное ДТП и , возможно, пострадали еще и пассажиры)(вторичный фактор и не влияет на то будет ли авария)\n",
    "           'type_of_collision',  #тип аварии(вторичный фактор и не влияет на то будет ли авария)\n",
    "          'motor_vehicle_involved_with',  #дополнительные участники (вторичный фактор и не влияет на то будет ли авария)\n",
    "]"
   ]
  },
  {
   "cell_type": "code",
   "execution_count": 28,
   "id": "867d6b18",
   "metadata": {
    "id": "867d6b18"
   },
   "outputs": [],
   "source": [
    "columns =['party_type',     # Тип участника происшествия. Таблица parties\n",
    "          'party_sobriety', # Уровень трезвости виновника (точно может влиять) Таблица parties\n",
    "          \n",
    "          'at_fault', # виновность\n",
    "          \n",
    "          'party_drug_physical', # физическое состояние водителя(точно может влиять)\n",
    "          'cellphone_in_use',  #наличие возможности разговаривать по громкой связи(влияет, не отвлекает от езды) \n",
    "          'county_city_location',  #номер географических районов, где произошло ДТП (влияетб может есть районы с боьшим количеством ДТП)\n",
    "          'distance',  #расстояние от главной дороги(влияет на качество дороги, район, других участников ДТП и т.д)\n",
    "          'direction', #направление(может солнце в глаза)\n",
    "          'intersection', #является ли перекрестком(неправильное построение перекрестка)\n",
    "          'weather_1',  #погода влияет\n",
    "          'location_type',  #тип дороги (влияет на тип ДТП)\n",
    "          'primary_collision_factor', #основной фактор аварии\n",
    "          'pcf_violation_category', #категория нарушения\n",
    "          'road_surface', #состояние дороги (погодные условия)\n",
    "          'road_condition_1', #дорожное состояние(ямы и т.д.)\n",
    "          'lighting',  #освещенность(влияет)\n",
    "          'control_device',  #устройство управления (с автопилотом авария или без нее)      \n",
    "          'collision_time',  #время влияет на освещенность, или на усталость\n",
    "          'vehicle_type', #тип автомобиля\n",
    "          'vehicle_transmission', #КПП\n",
    "          'vehicle_age'# возраст машины влияет на ее техническое состояние\n",
    "         ]"
   ]
  },
  {
   "cell_type": "code",
   "execution_count": 29,
   "id": "5d37323c",
   "metadata": {
    "id": "5d37323c"
   },
   "outputs": [],
   "source": [
    "target = df['at_fault']\n",
    "features = df[columns]\n",
    "# df.drop({'at_fault', 'db_year', #поскольку только 2021 год   \n",
    "#   'db_year', #поскольку только 2021 год   \n",
    "#   'county_location', #  поскольку есть похожий столбец  'county_city_location'\n",
    "#    'collision_date',#поскольку дата\n",
    "#     'id', 'case_id',\n",
    "#     'party_number', # Число участников происшествия, поскольку никак не влияет\n",
    "#     'insurance_premium', # размер страхового ущерба(понять насколько серьезные повреждения можно получить)(вторичный фактор и не влияет на то будет ли авария)\n",
    "#      'collision_damage', #повреждения (понять насколько серьезное ДТП)(вторичный фактор и не влияет на то будет ли авария)\n",
    "#           'party_count', #количество участников(понять, насколько серьезное ДТП и , возможно, пострадали еще и пассажиры)(вторичный фактор и не влияет на то будет ли авария)\n",
    "#            'type_of_collision',  #тип аварии(вторичный фактор и не влияет на то будет ли авария)\n",
    "#           'motor_vehicle_involved_with'  #дополнительные участники (вторичный фактор и не влияет на то будет ли авария)}, axis=1)\n",
    "# })\n"
   ]
  },
  {
   "cell_type": "code",
   "execution_count": 30,
   "id": "9feb5932",
   "metadata": {
    "colab": {
     "base_uri": "https://localhost:8080/",
     "height": 438
    },
    "id": "9feb5932",
    "outputId": "05dbf22b-f25d-4f9e-facb-437a3e6b7c1c",
    "scrolled": true
   },
   "outputs": [
    {
     "data": {
      "text/html": [
       "<div>\n",
       "<style scoped>\n",
       "    .dataframe tbody tr th:only-of-type {\n",
       "        vertical-align: middle;\n",
       "    }\n",
       "\n",
       "    .dataframe tbody tr th {\n",
       "        vertical-align: top;\n",
       "    }\n",
       "\n",
       "    .dataframe thead th {\n",
       "        text-align: right;\n",
       "    }\n",
       "</style>\n",
       "<table border=\"1\" class=\"dataframe\">\n",
       "  <thead>\n",
       "    <tr style=\"text-align: right;\">\n",
       "      <th></th>\n",
       "      <th>party_type</th>\n",
       "      <th>party_sobriety</th>\n",
       "      <th>at_fault</th>\n",
       "      <th>party_drug_physical</th>\n",
       "      <th>cellphone_in_use</th>\n",
       "      <th>county_city_location</th>\n",
       "      <th>distance</th>\n",
       "      <th>direction</th>\n",
       "      <th>intersection</th>\n",
       "      <th>weather_1</th>\n",
       "      <th>...</th>\n",
       "      <th>primary_collision_factor</th>\n",
       "      <th>pcf_violation_category</th>\n",
       "      <th>road_surface</th>\n",
       "      <th>road_condition_1</th>\n",
       "      <th>lighting</th>\n",
       "      <th>control_device</th>\n",
       "      <th>collision_time</th>\n",
       "      <th>vehicle_type</th>\n",
       "      <th>vehicle_transmission</th>\n",
       "      <th>vehicle_age</th>\n",
       "    </tr>\n",
       "  </thead>\n",
       "  <tbody>\n",
       "    <tr>\n",
       "      <th>0</th>\n",
       "      <td>car</td>\n",
       "      <td>had not been drinking</td>\n",
       "      <td>0</td>\n",
       "      <td>None</td>\n",
       "      <td>0.0</td>\n",
       "      <td>3001</td>\n",
       "      <td>98.0</td>\n",
       "      <td>east</td>\n",
       "      <td>0.0</td>\n",
       "      <td>clear</td>\n",
       "      <td>...</td>\n",
       "      <td>None</td>\n",
       "      <td>None</td>\n",
       "      <td>dry</td>\n",
       "      <td>normal</td>\n",
       "      <td>daylight</td>\n",
       "      <td>functioning</td>\n",
       "      <td>11:14:00</td>\n",
       "      <td>coupe</td>\n",
       "      <td>manual</td>\n",
       "      <td>8.0</td>\n",
       "    </tr>\n",
       "    <tr>\n",
       "      <th>1</th>\n",
       "      <td>car</td>\n",
       "      <td>had not been drinking</td>\n",
       "      <td>0</td>\n",
       "      <td>None</td>\n",
       "      <td>0.0</td>\n",
       "      <td>0900</td>\n",
       "      <td>200.0</td>\n",
       "      <td>north</td>\n",
       "      <td>0.0</td>\n",
       "      <td>clear</td>\n",
       "      <td>...</td>\n",
       "      <td>unknown</td>\n",
       "      <td>unknown</td>\n",
       "      <td>dry</td>\n",
       "      <td>normal</td>\n",
       "      <td>daylight</td>\n",
       "      <td>functioning</td>\n",
       "      <td>16:15:00</td>\n",
       "      <td>sedan</td>\n",
       "      <td>manual</td>\n",
       "      <td>4.0</td>\n",
       "    </tr>\n",
       "    <tr>\n",
       "      <th>2</th>\n",
       "      <td>car</td>\n",
       "      <td>had not been drinking</td>\n",
       "      <td>0</td>\n",
       "      <td>None</td>\n",
       "      <td>0.0</td>\n",
       "      <td>0800</td>\n",
       "      <td>0.0</td>\n",
       "      <td>None</td>\n",
       "      <td>1.0</td>\n",
       "      <td>clear</td>\n",
       "      <td>...</td>\n",
       "      <td>vehicle code violation</td>\n",
       "      <td>automobile right of way</td>\n",
       "      <td>dry</td>\n",
       "      <td>normal</td>\n",
       "      <td>daylight</td>\n",
       "      <td>functioning</td>\n",
       "      <td>11:10:00</td>\n",
       "      <td>coupe</td>\n",
       "      <td>manual</td>\n",
       "      <td>2.0</td>\n",
       "    </tr>\n",
       "    <tr>\n",
       "      <th>3</th>\n",
       "      <td>car</td>\n",
       "      <td>had not been drinking</td>\n",
       "      <td>0</td>\n",
       "      <td>None</td>\n",
       "      <td>0.0</td>\n",
       "      <td>0800</td>\n",
       "      <td>0.0</td>\n",
       "      <td>None</td>\n",
       "      <td>1.0</td>\n",
       "      <td>clear</td>\n",
       "      <td>...</td>\n",
       "      <td>vehicle code violation</td>\n",
       "      <td>automobile right of way</td>\n",
       "      <td>dry</td>\n",
       "      <td>normal</td>\n",
       "      <td>daylight</td>\n",
       "      <td>functioning</td>\n",
       "      <td>11:10:00</td>\n",
       "      <td>coupe</td>\n",
       "      <td>manual</td>\n",
       "      <td>9.0</td>\n",
       "    </tr>\n",
       "    <tr>\n",
       "      <th>4</th>\n",
       "      <td>car</td>\n",
       "      <td>impairment unknown</td>\n",
       "      <td>1</td>\n",
       "      <td>G</td>\n",
       "      <td>0.0</td>\n",
       "      <td>3313</td>\n",
       "      <td>2000.0</td>\n",
       "      <td>east</td>\n",
       "      <td>0.0</td>\n",
       "      <td>clear</td>\n",
       "      <td>...</td>\n",
       "      <td>vehicle code violation</td>\n",
       "      <td>speeding</td>\n",
       "      <td>dry</td>\n",
       "      <td>normal</td>\n",
       "      <td>daylight</td>\n",
       "      <td>none</td>\n",
       "      <td>15:05:00</td>\n",
       "      <td>coupe</td>\n",
       "      <td>manual</td>\n",
       "      <td>3.0</td>\n",
       "    </tr>\n",
       "  </tbody>\n",
       "</table>\n",
       "<p>5 rows × 21 columns</p>\n",
       "</div>"
      ],
      "text/plain": [
       "  party_type         party_sobriety  at_fault party_drug_physical  \\\n",
       "0        car  had not been drinking         0                None   \n",
       "1        car  had not been drinking         0                None   \n",
       "2        car  had not been drinking         0                None   \n",
       "3        car  had not been drinking         0                None   \n",
       "4        car     impairment unknown         1                   G   \n",
       "\n",
       "   cellphone_in_use county_city_location  distance direction  intersection  \\\n",
       "0               0.0                 3001      98.0      east           0.0   \n",
       "1               0.0                 0900     200.0     north           0.0   \n",
       "2               0.0                 0800       0.0      None           1.0   \n",
       "3               0.0                 0800       0.0      None           1.0   \n",
       "4               0.0                 3313    2000.0      east           0.0   \n",
       "\n",
       "  weather_1  ... primary_collision_factor   pcf_violation_category  \\\n",
       "0     clear  ...                     None                     None   \n",
       "1     clear  ...                  unknown                  unknown   \n",
       "2     clear  ...   vehicle code violation  automobile right of way   \n",
       "3     clear  ...   vehicle code violation  automobile right of way   \n",
       "4     clear  ...   vehicle code violation                 speeding   \n",
       "\n",
       "  road_surface road_condition_1  lighting control_device collision_time  \\\n",
       "0          dry           normal  daylight    functioning       11:14:00   \n",
       "1          dry           normal  daylight    functioning       16:15:00   \n",
       "2          dry           normal  daylight    functioning       11:10:00   \n",
       "3          dry           normal  daylight    functioning       11:10:00   \n",
       "4          dry           normal  daylight           none       15:05:00   \n",
       "\n",
       "  vehicle_type vehicle_transmission vehicle_age  \n",
       "0        coupe               manual         8.0  \n",
       "1        sedan               manual         4.0  \n",
       "2        coupe               manual         2.0  \n",
       "3        coupe               manual         9.0  \n",
       "4        coupe               manual         3.0  \n",
       "\n",
       "[5 rows x 21 columns]"
      ]
     },
     "execution_count": 30,
     "metadata": {},
     "output_type": "execute_result"
    }
   ],
   "source": [
    "df[['party_type',     # Тип участника происшествия. Таблица parties\n",
    "          'party_sobriety', # Уровень трезвости виновника (точно может влиять) Таблица parties\n",
    "          \n",
    "          'at_fault', # виновность\n",
    "          \n",
    "          'party_drug_physical', # физическое состояние водителя(точно может влиять)\n",
    "          'cellphone_in_use',  #наличие возможности разговаривать по громкой связи(влияет, не отвлекает от езды) \n",
    "          'county_city_location',  #номер географических районов, где произошло ДТП (влияетб может есть районы с боьшим количеством ДТП)\n",
    "          'distance',  #расстояние от главной дороги(влияет на качество дороги, район, других участников ДТП и т.д)\n",
    "          'direction', #направление(может солнце в глаза)\n",
    "          'intersection', #является ли перекрестком(неправильное построение перекрестка)\n",
    "          'weather_1',  #погода влияет\n",
    "          'location_type',  #тип дороги (влияет на тип ДТП)\n",
    "          'primary_collision_factor', #основной фактор аварии\n",
    "          'pcf_violation_category', #категория нарушения\n",
    "          'road_surface', #состояние дороги (погодные условия)\n",
    "          'road_condition_1', #дорожное состояние(ямы и т.д.)\n",
    "          'lighting',  #освещенность(влияет)\n",
    "          'control_device',  #устройство управления (с автопилотом авария или без нее)      \n",
    "          'collision_time',  #время влияет на освещенность, или на усталость\n",
    "          'vehicle_type', #тип автомобиля\n",
    "          'vehicle_transmission', #КПП\n",
    "          'vehicle_age'# возраст машины влияет на ее техническое состояние\n",
    "         ]].head()"
   ]
  },
  {
   "cell_type": "code",
   "execution_count": 31,
   "id": "eQoKci_vr-W_",
   "metadata": {
    "colab": {
     "base_uri": "https://localhost:8080/"
    },
    "id": "eQoKci_vr-W_",
    "outputId": "71529453-b2b1-4442-9130-d2662bee3bbf"
   },
   "outputs": [
    {
     "data": {
      "text/plain": [
       "array(['had been drinking, impairment unknown',\n",
       "       'had been drinking, not under influence',\n",
       "       'had been drinking, under influence', 'had not been drinking',\n",
       "       'impairment unknown', 'not applicable', None], dtype=object)"
      ]
     },
     "execution_count": 31,
     "metadata": {},
     "output_type": "execute_result"
    }
   ],
   "source": [
    "df['party_sobriety'].sort_values().unique()"
   ]
  },
  {
   "cell_type": "code",
   "execution_count": 32,
   "id": "RAEMWauOqYbw",
   "metadata": {
    "colab": {
     "base_uri": "https://localhost:8080/",
     "height": 243
    },
    "id": "RAEMWauOqYbw",
    "outputId": "0c6cd1f3-48a4-43b0-8fb6-163ae9cb170f"
   },
   "outputs": [
    {
     "data": {
      "text/plain": [
       "<AxesSubplot:xlabel='party_sobriety', ylabel='count'>"
      ]
     },
     "execution_count": 32,
     "metadata": {},
     "output_type": "execute_result"
    },
    {
     "data": {
      "image/png": "[encoded data removed]",
      "text/plain": [
       "<Figure size 1368x216 with 1 Axes>"
      ]
     },
     "metadata": {
      "needs_background": "light"
     },
     "output_type": "display_data"
    }
   ],
   "source": [
    "plt.figure(figsize=(19,3))\n",
    "sns.countplot(x = 'party_sobriety', data = df)"
   ]
  },
  {
   "cell_type": "code",
   "execution_count": 33,
   "id": "SjM7UMlcxHWx",
   "metadata": {
    "colab": {
     "base_uri": "https://localhost:8080/",
     "height": 382
    },
    "id": "SjM7UMlcxHWx",
    "outputId": "7e806864-aaf1-4334-e3f5-f65a34c97c93"
   },
   "outputs": [
    {
     "data": {
      "text/plain": [
       "count         6.000000\n",
       "mean      37073.000000\n",
       "std       79870.543013\n",
       "min         859.000000\n",
       "25%        1456.250000\n",
       "50%        5031.500000\n",
       "75%        9770.000000\n",
       "max      199902.000000\n",
       "Name: at_fault, dtype: float64"
      ]
     },
     "metadata": {},
     "output_type": "display_data"
    },
    {
     "data": {
      "text/plain": [
       "0                      had not been drinking\n",
       "1                      had not been drinking\n",
       "2                      had not been drinking\n",
       "3                      had not been drinking\n",
       "4                         impairment unknown\n",
       "                         ...                \n",
       "225773    had been drinking, under influence\n",
       "225774    had been drinking, under influence\n",
       "225775                 had not been drinking\n",
       "225776                 had not been drinking\n",
       "225777                                 Other\n",
       "Name: party_sobriety, Length: 225778, dtype: object"
      ]
     },
     "metadata": {},
     "output_type": "display_data"
    }
   ],
   "source": [
    "#Поскольку наибольшее влияние оказывает фактор had_been_drinking, оставим его, а остальные факторы добавим в категорию other\n",
    "counts = df.groupby('party_sobriety')['at_fault'].count()\n",
    "display(counts.describe())\n",
    "country_count = df.groupby('party_sobriety')['at_fault'].transform(\"count\")\n",
    "df['party_sobriety'] = df['party_sobriety'].where(country_count > 5000, \"Other\")\n",
    "display(df['party_sobriety'])"
   ]
  },
  {
   "cell_type": "code",
   "execution_count": 34,
   "id": "18ece6ea",
   "metadata": {
    "colab": {
     "base_uri": "https://localhost:8080/"
    },
    "id": "18ece6ea",
    "outputId": "29cfde81-269c-4a48-8c3d-aa153c79411c"
   },
   "outputs": [
    {
     "data": {
      "text/plain": [
       "array(['G', 'impairment - physical', 'not applicable', 'sleepy/fatigued',\n",
       "       'under drug influence', None], dtype=object)"
      ]
     },
     "execution_count": 34,
     "metadata": {},
     "output_type": "execute_result"
    }
   ],
   "source": [
    "df['party_drug_physical'].sort_values().unique()"
   ]
  },
  {
   "cell_type": "code",
   "execution_count": 35,
   "id": "wLgDKojgxJGT",
   "metadata": {
    "colab": {
     "base_uri": "https://localhost:8080/",
     "height": 243
    },
    "id": "wLgDKojgxJGT",
    "outputId": "0be03da2-ceec-4fb4-b13a-f7bd822addcd"
   },
   "outputs": [
    {
     "data": {
      "text/plain": [
       "<AxesSubplot:xlabel='party_drug_physical', ylabel='count'>"
      ]
     },
     "execution_count": 35,
     "metadata": {},
     "output_type": "execute_result"
    },
    {
     "data": {
      "image/png": "[encoded data removed]",
      "text/plain": [
       "<Figure size 1368x216 with 1 Axes>"
      ]
     },
     "metadata": {
      "needs_background": "light"
     },
     "output_type": "display_data"
    }
   ],
   "source": [
    "plt.figure(figsize=(19,3))\n",
    "sns.countplot(x = 'party_drug_physical', data = df)"
   ]
  },
  {
   "cell_type": "code",
   "execution_count": 36,
   "id": "e627cbab",
   "metadata": {
    "colab": {
     "base_uri": "https://localhost:8080/",
     "height": 382
    },
    "id": "e627cbab",
    "outputId": "edee4886-f4ba-4e52-d1e0-369c482a6a31"
   },
   "outputs": [
    {
     "data": {
      "text/plain": [
       "count        5.000000\n",
       "mean      2900.800000\n",
       "std       4091.951637\n",
       "min        316.000000\n",
       "25%        913.000000\n",
       "50%       1453.000000\n",
       "75%       1661.000000\n",
       "max      10161.000000\n",
       "Name: at_fault, dtype: float64"
      ]
     },
     "metadata": {},
     "output_type": "display_data"
    },
    {
     "data": {
      "text/plain": [
       "0                  Other\n",
       "1                  Other\n",
       "2                  Other\n",
       "3                  Other\n",
       "4                      G\n",
       "               ...      \n",
       "225773             Other\n",
       "225774             Other\n",
       "225775             Other\n",
       "225776             Other\n",
       "225777    not applicable\n",
       "Name: party_drug_physical, Length: 225778, dtype: object"
      ]
     },
     "metadata": {},
     "output_type": "display_data"
    }
   ],
   "source": [
    "#Поскольку наибольшее влияние оказывает фактор G, оставим его, а остальные факторы добавим в категорию other\n",
    "counts = df.groupby('party_drug_physical')['at_fault'].count()\n",
    "display(counts.describe())\n",
    "country_count = df.groupby('party_drug_physical')['at_fault'].transform(\"count\")\n",
    "df['party_drug_physical'] = df['party_drug_physical'].where(country_count > 930, \"Other\")\n",
    "display(df['party_drug_physical'])"
   ]
  },
  {
   "cell_type": "code",
   "execution_count": 37,
   "id": "cf6046f8",
   "metadata": {
    "colab": {
     "base_uri": "https://localhost:8080/"
    },
    "id": "cf6046f8",
    "outputId": "2b877252-8828-4d5a-a72b-b19b8149c945"
   },
   "outputs": [
    {
     "data": {
      "text/plain": [
       "array([  0.,   2.,   4.,   5.,   6.,   7.,   8.,   9.,  10.,  11.,  12.,\n",
       "        13.,  14.,  15.,  16.,  17.,  18.,  19.,  20.,  21.,  22.,  23.,\n",
       "        24.,  25.,  26.,  27.,  28.,  29.,  30.,  31.,  32.,  33.,  34.,\n",
       "        35.,  36.,  37.,  38.,  39.,  40.,  41.,  42.,  43.,  44.,  45.,\n",
       "        46.,  47.,  48.,  49.,  50.,  51.,  52.,  53.,  54.,  55.,  56.,\n",
       "        57.,  58.,  59.,  60.,  61.,  62.,  63.,  64.,  65.,  66.,  67.,\n",
       "        68.,  69.,  70.,  71.,  72.,  73.,  74.,  75.,  76.,  77.,  78.,\n",
       "        79.,  80.,  81.,  82.,  83.,  84.,  85.,  86.,  87.,  88.,  89.,\n",
       "        90.,  91.,  92.,  93.,  94.,  95.,  96.,  97.,  98.,  99., 100.,\n",
       "       101., 102., 103., 104., 105.,  nan])"
      ]
     },
     "execution_count": 37,
     "metadata": {},
     "output_type": "execute_result"
    }
   ],
   "source": [
    "df['insurance_premium'].sort_values().unique()"
   ]
  },
  {
   "cell_type": "code",
   "execution_count": 38,
   "id": "a255b812",
   "metadata": {
    "colab": {
     "base_uri": "https://localhost:8080/"
    },
    "id": "a255b812",
    "outputId": "89681d03-ffe9-40b8-de5b-11e70d0d88a1"
   },
   "outputs": [
    {
     "data": {
      "text/plain": [
       "array([ 0.,  1., nan])"
      ]
     },
     "execution_count": 38,
     "metadata": {},
     "output_type": "execute_result"
    }
   ],
   "source": [
    "df['cellphone_in_use'].sort_values().unique()"
   ]
  },
  {
   "cell_type": "code",
   "execution_count": 39,
   "id": "a937ad30",
   "metadata": {
    "colab": {
     "base_uri": "https://localhost:8080/"
    },
    "id": "a937ad30",
    "outputId": "d65aafb8-320a-46b4-aa33-2b2c210f5cdb"
   },
   "outputs": [
    {
     "data": {
      "text/plain": [
       "array(['0100', '0101', '0102', '0103', '0104', '0105', '0106', '0107',\n",
       "       '0108', '0109', '0110', '0111', '0112', '0113', '0198', '0200',\n",
       "       '0300', '0301', '0302', '0303', '0304', '0305', '0400', '0401',\n",
       "       '0402', '0403', '0404', '0405', '0500', '0501', '0600', '0601',\n",
       "       '0602', '0700', '0701', '0702', '0703', '0704', '0705', '0706',\n",
       "       '0707', '0708', '0709', '0710', '0711', '0712', '0714', '0715',\n",
       "       '0716', '0734', '0790', '0791', '0792', '0800', '0801', '0900',\n",
       "       '0901', '0902', '1000', '1001', '1002', '1004', '1005', '1007',\n",
       "       '1008', '1011', '1012', '1013', '1015', '1100', '1101', '1102',\n",
       "       '1200', '1201', '1203', '1205', '1300', '1301', '1302', '1304',\n",
       "       '1305', '1306', '1400', '1401', '1500', '1501', '1502', '1503',\n",
       "       '1504', '1505', '1506', '1507', '1508', '1509', '1510', '1511',\n",
       "       '1515', '1600', '1601', '1602', '1603', '1690', '1700', '1701',\n",
       "       '1702', '1800', '1801', '1900', '1901', '1902', '1903', '1905',\n",
       "       '1906', '1907', '1908', '1909', '1910', '1912', '1913', '1914',\n",
       "       '1915', '1916', '1917', '1918', '1919', '1920', '1921', '1922',\n",
       "       '1923', '1924', '1925', '1926', '1927', '1928', '1929', '1930',\n",
       "       '1931', '1932', '1933', '1934', '1935', '1936', '1937', '1938',\n",
       "       '1939', '1941', '1942', '1943', '1944', '1945', '1946', '1947',\n",
       "       '1948', '1949', '1950', '1951', '1952', '1953', '1954', '1955',\n",
       "       '1956', '1958', '1959', '1960', '1961', '1962', '1963', '1964',\n",
       "       '1965', '1967', '1968', '1969', '1970', '1971', '1972', '1973',\n",
       "       '1974', '1975', '1976', '1977', '1979', '1980', '1985', '1989',\n",
       "       '1990', '1991', '1992', '1993', '1994', '1995', '1999', '2000',\n",
       "       '2001', '2002', '2100', '2101', '2102', '2103', '2104', '2105',\n",
       "       '2106', '2108', '2109', '2110', '2111', '2200', '2300', '2301',\n",
       "       '2303', '2304', '2400', '2401', '2403', '2404', '2405', '2406',\n",
       "       '2500', '2600', '2601', '2700', '2701', '2703', '2704', '2705',\n",
       "       '2706', '2707', '2708', '2709', '2710', '2711', '2712', '2800',\n",
       "       '2801', '2802', '2803', '2804', '2805', '2900', '2901', '2902',\n",
       "       '2908', '3000', '3001', '3002', '3003', '3004', '3005', '3006',\n",
       "       '3007', '3008', '3009', '3010', '3011', '3012', '3013', '3014',\n",
       "       '3015', '3016', '3017', '3018', '3019', '3020', '3021', '3022',\n",
       "       '3023', '3024', '3025', '3026', '3028', '3029', '3040', '3045',\n",
       "       '3048', '3049', '3050', '3051', '3100', '3101', '3103', '3104',\n",
       "       '3105', '3106', '3200', '3201', '3300', '3301', '3302', '3303',\n",
       "       '3305', '3306', '3307', '3308', '3309', '3310', '3311', '3312',\n",
       "       '3313', '3314', '3315', '3316', '3317', '3318', '3325', '3335',\n",
       "       '3336', '3337', '3341', '3342', '3343', '3344', '3345', '3392',\n",
       "       '3394', '3400', '3401', '3402', '3404', '3450', '3490', '3496',\n",
       "       '3500', '3501', '3600', '3601', '3602', '3603', '3604', '3605',\n",
       "       '3606', '3607', '3608', '3609', '3610', '3611', '3612', '3613',\n",
       "       '3615', '3616', '3617', '3618', '3619', '3621', '3630', '3631',\n",
       "       '3640', '3680', '3690', '3700', '3701', '3702', '3703', '3704',\n",
       "       '3705', '3706', '3707', '3708', '3709', '3710', '3711', '3712',\n",
       "       '3713', '3720', '3780', '3781', '3782', '3783', '3801', '3900',\n",
       "       '3901', '3902', '3903', '3904', '3905', '3906', '3920', '4000',\n",
       "       '4001', '4002', '4003', '4004', '4005', '4006', '4008', '4100',\n",
       "       '4101', '4102', '4103', '4104', '4105', '4106', '4107', '4108',\n",
       "       '4109', '4110', '4111', '4112', '4113', '4114', '4115', '4116',\n",
       "       '4117', '4118', '4119', '4120', '4127', '4200', '4201', '4202',\n",
       "       '4203', '4204', '4205', '4206', '4212', '4214', '4300', '4302',\n",
       "       '4303', '4304', '4305', '4306', '4307', '4308', '4310', '4311',\n",
       "       '4312', '4313', '4314', '4315', '4316', '4400', '4401', '4402',\n",
       "       '4403', '4404', '4500', '4501', '4502', '4580', '4600', '4700',\n",
       "       '4701', '4706', '4708', '4709', '4800', '4801', '4802', '4803',\n",
       "       '4804', '4805', '4806', '4807', '4900', '4901', '4902', '4903',\n",
       "       '4904', '4905', '4906', '4907', '4908', '4980', '5000', '5001',\n",
       "       '5002', '5003', '5004', '5005', '5006', '5007', '5008', '5009',\n",
       "       '5100', '5101', '5102', '5200', '5201', '5202', '5300', '5400',\n",
       "       '5403', '5404', '5405', '5406', '5407', '5408', '5500', '5501',\n",
       "       '5600', '5601', '5602', '5603', '5604', '5605', '5606', '5607',\n",
       "       '5608', '5609', '5690', '5700', '5701', '5702', '5703', '5704',\n",
       "       '5800', '5801', '5802'], dtype=object)"
      ]
     },
     "execution_count": 39,
     "metadata": {},
     "output_type": "execute_result"
    }
   ],
   "source": [
    "df['county_city_location'].sort_values().unique()"
   ]
  },
  {
   "cell_type": "markdown",
   "id": "12b9355f",
   "metadata": {
    "id": "12b9355f"
   },
   "source": [
    "\n"
   ]
  },
  {
   "cell_type": "code",
   "execution_count": 40,
   "id": "2ef8473f",
   "metadata": {
    "colab": {
     "base_uri": "https://localhost:8080/"
    },
    "id": "2ef8473f",
    "outputId": "fef88530-e1f9-4d2f-f7eb-29b8dc451020"
   },
   "outputs": [
    {
     "data": {
      "text/plain": [
       "array([0.00000e+00, 1.00000e+00, 1.10000e+00, ..., 1.51008e+05,\n",
       "       1.71600e+05, 1.58400e+06])"
      ]
     },
     "execution_count": 40,
     "metadata": {},
     "output_type": "execute_result"
    }
   ],
   "source": [
    "df['distance'].sort_values().unique()"
   ]
  },
  {
   "cell_type": "code",
   "execution_count": 41,
   "id": "c2f255e8",
   "metadata": {
    "colab": {
     "base_uri": "https://localhost:8080/"
    },
    "id": "c2f255e8",
    "outputId": "518cdc2e-3e02-4418-c3a8-9e92e397c289"
   },
   "outputs": [
    {
     "data": {
      "text/plain": [
       "array(['east', 'north', 'south', 'west', None], dtype=object)"
      ]
     },
     "execution_count": 41,
     "metadata": {},
     "output_type": "execute_result"
    }
   ],
   "source": [
    "df['direction'].sort_values().unique()"
   ]
  },
  {
   "cell_type": "code",
   "execution_count": 42,
   "id": "fhrr7ZXExpck",
   "metadata": {
    "colab": {
     "base_uri": "https://localhost:8080/",
     "height": 242
    },
    "id": "fhrr7ZXExpck",
    "outputId": "c21f99ed-4185-45e3-f797-0b6c73bee1e4"
   },
   "outputs": [
    {
     "data": {
      "text/plain": [
       "<AxesSubplot:xlabel='direction', ylabel='count'>"
      ]
     },
     "execution_count": 42,
     "metadata": {},
     "output_type": "execute_result"
    },
    {
     "data": {
      "image/png": "[encoded data removed]",
      "text/plain": [
       "<Figure size 1368x216 with 1 Axes>"
      ]
     },
     "metadata": {
      "needs_background": "light"
     },
     "output_type": "display_data"
    }
   ],
   "source": [
    "plt.figure(figsize=(19,3))\n",
    "sns.countplot(x = 'direction', data = df)"
   ]
  },
  {
   "cell_type": "code",
   "execution_count": 43,
   "id": "403d62ed",
   "metadata": {
    "colab": {
     "base_uri": "https://localhost:8080/"
    },
    "id": "403d62ed",
    "outputId": "21c416f2-92b7-4cb0-e665-a9890b7fdbe9"
   },
   "outputs": [
    {
     "data": {
      "text/plain": [
       "array([ 0.,  1., nan])"
      ]
     },
     "execution_count": 43,
     "metadata": {},
     "output_type": "execute_result"
    }
   ],
   "source": [
    "df['intersection'].sort_values().unique()"
   ]
  },
  {
   "cell_type": "code",
   "execution_count": 44,
   "id": "365f5281",
   "metadata": {
    "colab": {
     "base_uri": "https://localhost:8080/"
    },
    "id": "365f5281",
    "outputId": "f40d35b3-d5c2-4342-aa2a-f650a0dd7e65"
   },
   "outputs": [
    {
     "data": {
      "text/plain": [
       "array(['clear', 'cloudy', 'fog', 'other', 'raining', 'snowing', 'wind',\n",
       "       None], dtype=object)"
      ]
     },
     "execution_count": 44,
     "metadata": {},
     "output_type": "execute_result"
    }
   ],
   "source": [
    "df['weather_1'].sort_values().unique()"
   ]
  },
  {
   "cell_type": "markdown",
   "id": "Ynr2-PLryRMy",
   "metadata": {
    "id": "Ynr2-PLryRMy"
   },
   "source": [
    "Как видно из данных, insurance_premium', 'cellphone_in_use', 'county_city_location', 'distance', 'direction', 'intersection' и 'weather_1' не содержат некорректных и аномальных данных."
   ]
  },
  {
   "cell_type": "code",
   "execution_count": 45,
   "id": "8cf47354",
   "metadata": {
    "colab": {
     "base_uri": "https://localhost:8080/"
    },
    "id": "8cf47354",
    "outputId": "96642260-e8c7-4b7a-c1f2-e8845e4385b6"
   },
   "outputs": [
    {
     "data": {
      "text/plain": [
       "array(['highway', 'intersection', 'ramp', None], dtype=object)"
      ]
     },
     "execution_count": 45,
     "metadata": {},
     "output_type": "execute_result"
    }
   ],
   "source": [
    "df['location_type'].sort_values().unique()"
   ]
  },
  {
   "cell_type": "code",
   "execution_count": 46,
   "id": "DRcAGc4Rx5Rk",
   "metadata": {
    "colab": {
     "base_uri": "https://localhost:8080/",
     "height": 243
    },
    "id": "DRcAGc4Rx5Rk",
    "outputId": "a19ddbc9-d6c0-4509-dbc0-5ff53e19fce5"
   },
   "outputs": [
    {
     "data": {
      "text/plain": [
       "<AxesSubplot:xlabel='location_type', ylabel='count'>"
      ]
     },
     "execution_count": 46,
     "metadata": {},
     "output_type": "execute_result"
    },
    {
     "data": {
      "image/png": "[encoded data removed]",
      "text/plain": [
       "<Figure size 1368x216 with 1 Axes>"
      ]
     },
     "metadata": {
      "needs_background": "light"
     },
     "output_type": "display_data"
    }
   ],
   "source": [
    "plt.figure(figsize=(19,3))\n",
    "sns.countplot(x = 'location_type', data = df)"
   ]
  },
  {
   "cell_type": "code",
   "execution_count": 47,
   "id": "oaMVfHrnzTQq",
   "metadata": {
    "colab": {
     "base_uri": "https://localhost:8080/",
     "height": 382
    },
    "id": "oaMVfHrnzTQq",
    "outputId": "7fe467e6-2574-4907-e0e8-95f7d809e4cb"
   },
   "outputs": [
    {
     "data": {
      "text/plain": [
       "count        3.000000\n",
       "mean     31997.666667\n",
       "std      41380.128593\n",
       "min       5008.000000\n",
       "25%       8177.000000\n",
       "50%      11346.000000\n",
       "75%      45492.500000\n",
       "max      79639.000000\n",
       "Name: at_fault, dtype: float64"
      ]
     },
     "metadata": {},
     "output_type": "display_data"
    },
    {
     "data": {
      "text/plain": [
       "0           Other\n",
       "1           Other\n",
       "2            ramp\n",
       "3            ramp\n",
       "4         highway\n",
       "           ...   \n",
       "225773      Other\n",
       "225774      Other\n",
       "225775      Other\n",
       "225776      Other\n",
       "225777      Other\n",
       "Name: location_type, Length: 225778, dtype: object"
      ]
     },
     "metadata": {},
     "output_type": "display_data"
    }
   ],
   "source": [
    "#Поскольку наибольшее влияние оказывает фактор highway, оставим его, а остальные факторы добавим в категорию other\n",
    "counts = df.groupby('location_type')['at_fault'].count()\n",
    "display(counts.describe())\n",
    "country_count = df.groupby('location_type')['at_fault'].transform(\"count\")\n",
    "df['location_type'] = df['location_type'].where(country_count > 930, \"Other\")\n",
    "display(df['location_type'])"
   ]
  },
  {
   "cell_type": "code",
   "execution_count": 48,
   "id": "de59d504",
   "metadata": {
    "colab": {
     "base_uri": "https://localhost:8080/"
    },
    "id": "de59d504",
    "outputId": "fc7a9857-95f8-4f8c-bbe1-aa0fc19ab28f"
   },
   "outputs": [
    {
     "data": {
      "text/plain": [
       "array(['fatal', 'middle damage', 'scratch', 'severe damage',\n",
       "       'small damage'], dtype=object)"
      ]
     },
     "execution_count": 48,
     "metadata": {},
     "output_type": "execute_result"
    }
   ],
   "source": [
    "df['collision_damage'].sort_values().unique()"
   ]
  },
  {
   "cell_type": "code",
   "execution_count": 49,
   "id": "el-JGipzx_sT",
   "metadata": {
    "colab": {
     "base_uri": "https://localhost:8080/",
     "height": 243
    },
    "id": "el-JGipzx_sT",
    "outputId": "3eaa7238-f06c-4ddb-ce8c-431b0304db4a"
   },
   "outputs": [
    {
     "data": {
      "text/plain": [
       "<AxesSubplot:xlabel='collision_damage', ylabel='count'>"
      ]
     },
     "execution_count": 49,
     "metadata": {},
     "output_type": "execute_result"
    },
    {
     "data": {
      "image/png": "[encoded data removed]",
      "text/plain": [
       "<Figure size 1368x216 with 1 Axes>"
      ]
     },
     "metadata": {
      "needs_background": "light"
     },
     "output_type": "display_data"
    }
   ],
   "source": [
    "plt.figure(figsize=(19,3))\n",
    "sns.countplot(x = 'collision_damage', data = df)"
   ]
  },
  {
   "cell_type": "code",
   "execution_count": null,
   "id": "WYVjNF-LydZ2",
   "metadata": {
    "id": "WYVjNF-LydZ2"
   },
   "outputs": [],
   "source": []
  },
  {
   "cell_type": "code",
   "execution_count": 50,
   "id": "c5e6c3d0",
   "metadata": {
    "colab": {
     "base_uri": "https://localhost:8080/"
    },
    "id": "c5e6c3d0",
    "outputId": "c8f456e9-4bd7-423d-915f-a7a5eb4becee"
   },
   "outputs": [
    {
     "data": {
      "text/plain": [
       "array(['fell asleep', 'other improper driving', 'other than driver',\n",
       "       'unknown', 'vehicle code violation', None], dtype=object)"
      ]
     },
     "execution_count": 50,
     "metadata": {},
     "output_type": "execute_result"
    }
   ],
   "source": [
    "df['primary_collision_factor'].sort_values().unique()"
   ]
  },
  {
   "cell_type": "code",
   "execution_count": 51,
   "id": "9OodyzXPyG5-",
   "metadata": {
    "colab": {
     "base_uri": "https://localhost:8080/",
     "height": 243
    },
    "id": "9OodyzXPyG5-",
    "outputId": "5a02869f-7dc0-497a-b49e-933b5330a416"
   },
   "outputs": [
    {
     "data": {
      "text/plain": [
       "<AxesSubplot:xlabel='primary_collision_factor', ylabel='count'>"
      ]
     },
     "execution_count": 51,
     "metadata": {},
     "output_type": "execute_result"
    },
    {
     "data": {
      "image/png": "[encoded data removed]",
      "text/plain": [
       "<Figure size 1368x216 with 1 Axes>"
      ]
     },
     "metadata": {
      "needs_background": "light"
     },
     "output_type": "display_data"
    }
   ],
   "source": [
    "plt.figure(figsize=(19,3))\n",
    "sns.countplot(x = 'primary_collision_factor', data = df)"
   ]
  },
  {
   "cell_type": "code",
   "execution_count": 52,
   "id": "TdbEixZi6yG9",
   "metadata": {
    "colab": {
     "base_uri": "https://localhost:8080/",
     "height": 382
    },
    "id": "TdbEixZi6yG9",
    "outputId": "3835a87e-2c09-49ef-8024-2883330241bd"
   },
   "outputs": [
    {
     "data": {
      "text/plain": [
       "count         5.000000\n",
       "mean      45027.600000\n",
       "std       96954.469238\n",
       "min           3.000000\n",
       "25%         765.000000\n",
       "50%        2486.000000\n",
       "75%        3436.000000\n",
       "max      218448.000000\n",
       "Name: at_fault, dtype: float64"
      ]
     },
     "metadata": {},
     "output_type": "display_data"
    },
    {
     "data": {
      "text/plain": [
       "0                          Other\n",
       "1                          Other\n",
       "2         vehicle code violation\n",
       "3         vehicle code violation\n",
       "4         vehicle code violation\n",
       "                   ...          \n",
       "225773    vehicle code violation\n",
       "225774    vehicle code violation\n",
       "225775    vehicle code violation\n",
       "225776    vehicle code violation\n",
       "225777    vehicle code violation\n",
       "Name: primary_collision_factor, Length: 225778, dtype: object"
      ]
     },
     "metadata": {},
     "output_type": "display_data"
    }
   ],
   "source": [
    "counts = df.groupby('primary_collision_factor')['at_fault'].count()\n",
    "display(counts.describe())\n",
    "country_count = df.groupby('primary_collision_factor')['at_fault'].transform(\"count\")\n",
    "df['primary_collision_factor'] = df['primary_collision_factor'].where(country_count > 150000, \"Other\")\n",
    "display(df['primary_collision_factor'])"
   ]
  },
  {
   "cell_type": "code",
   "execution_count": 53,
   "id": "UnQEz_1c002P",
   "metadata": {
    "colab": {
     "base_uri": "https://localhost:8080/"
    },
    "id": "UnQEz_1c002P",
    "outputId": "9ff78e02-4b07-414f-8bf0-19bec8169efa"
   },
   "outputs": [
    {
     "data": {
      "text/plain": [
       "23"
      ]
     },
     "execution_count": 53,
     "metadata": {},
     "output_type": "execute_result"
    }
   ],
   "source": [
    "len(df['pcf_violation_category'].sort_values().unique())"
   ]
  },
  {
   "cell_type": "code",
   "execution_count": 54,
   "id": "1bd71788",
   "metadata": {
    "colab": {
     "base_uri": "https://localhost:8080/",
     "height": 243
    },
    "id": "1bd71788",
    "outputId": "0a8609ab-f63c-4193-a52a-942799094ca0"
   },
   "outputs": [
    {
     "data": {
      "text/plain": [
       "<AxesSubplot:xlabel='pcf_violation_category', ylabel='count'>"
      ]
     },
     "execution_count": 54,
     "metadata": {},
     "output_type": "execute_result"
    },
    {
     "data": {
      "image/png": "[encoded data removed]",
      "text/plain": [
       "<Figure size 1368x216 with 1 Axes>"
      ]
     },
     "metadata": {
      "needs_background": "light"
     },
     "output_type": "display_data"
    }
   ],
   "source": [
    "plt.figure(figsize=(19,3))\n",
    "sns.countplot(x = 'pcf_violation_category', data = df)"
   ]
  },
  {
   "cell_type": "code",
   "execution_count": 55,
   "id": "sHkue-1Ny2t0",
   "metadata": {
    "colab": {
     "base_uri": "https://localhost:8080/"
    },
    "id": "sHkue-1Ny2t0",
    "outputId": "19e36bef-efc9-4b23-c833-93a241581330"
   },
   "outputs": [
    {
     "data": {
      "text/plain": [
       "count       222370\n",
       "unique          22\n",
       "top       speeding\n",
       "freq         89998\n",
       "Name: pcf_violation_category, dtype: object"
      ]
     },
     "execution_count": 55,
     "metadata": {},
     "output_type": "execute_result"
    }
   ],
   "source": [
    "df['pcf_violation_category'].describe()"
   ]
  },
  {
   "cell_type": "code",
   "execution_count": 56,
   "id": "VeOpw4fk4jbt",
   "metadata": {
    "colab": {
     "base_uri": "https://localhost:8080/",
     "height": 382
    },
    "id": "VeOpw4fk4jbt",
    "outputId": "c6b9c005-e169-4120-e2ff-7d40913c4689"
   },
   "outputs": [
    {
     "data": {
      "text/plain": [
       "count       22.000000\n",
       "mean     10107.727273\n",
       "std      19804.381514\n",
       "min          3.000000\n",
       "25%        342.000000\n",
       "50%       2363.000000\n",
       "75%      12550.750000\n",
       "max      89998.000000\n",
       "Name: at_fault, dtype: float64"
      ]
     },
     "metadata": {},
     "output_type": "display_data"
    },
    {
     "data": {
      "text/plain": [
       "0                           Other\n",
       "1                         unknown\n",
       "2         automobile right of way\n",
       "3         automobile right of way\n",
       "4                        speeding\n",
       "                   ...           \n",
       "225773                        dui\n",
       "225774                        dui\n",
       "225775                      Other\n",
       "225776                      Other\n",
       "225777                      Other\n",
       "Name: pcf_violation_category, Length: 225778, dtype: object"
      ]
     },
     "metadata": {},
     "output_type": "display_data"
    }
   ],
   "source": [
    "#Поскольку факторов очень много , оставим тольк те, которые с наибольшими значениями, а остальные факторы добавим в категорию other\n",
    "counts = df.groupby('pcf_violation_category')['at_fault'].count()\n",
    "display(counts.describe())\n",
    "country_count = df.groupby('pcf_violation_category')['at_fault'].transform(\"count\")\n",
    "df['pcf_violation_category'] = df['pcf_violation_category'].where(country_count > 2400, \"Other\")\n",
    "display(df['pcf_violation_category'])\n"
   ]
  },
  {
   "cell_type": "code",
   "execution_count": 57,
   "id": "QBITK-1S5aLa",
   "metadata": {
    "colab": {
     "base_uri": "https://localhost:8080/"
    },
    "id": "QBITK-1S5aLa",
    "outputId": "a7721a8a-9213-4358-aaa1-434eb63bf94b"
   },
   "outputs": [
    {
     "data": {
      "text/plain": [
       "12"
      ]
     },
     "execution_count": 57,
     "metadata": {},
     "output_type": "execute_result"
    }
   ],
   "source": [
    "len(df['pcf_violation_category'].sort_values().unique())"
   ]
  },
  {
   "cell_type": "code",
   "execution_count": 58,
   "id": "be029aab",
   "metadata": {
    "colab": {
     "base_uri": "https://localhost:8080/"
    },
    "id": "be029aab",
    "outputId": "22825cc2-c250-47c0-f084-0b22f767af66"
   },
   "outputs": [
    {
     "data": {
      "text/plain": [
       "array(['broadside', 'head-on', 'hit object', 'other', 'overturned',\n",
       "       'rear end', 'sideswipe', None], dtype=object)"
      ]
     },
     "execution_count": 58,
     "metadata": {},
     "output_type": "execute_result"
    }
   ],
   "source": [
    "df['type_of_collision'].sort_values().unique()"
   ]
  },
  {
   "cell_type": "code",
   "execution_count": 59,
   "id": "7218bd8d",
   "metadata": {
    "colab": {
     "base_uri": "https://localhost:8080/"
    },
    "id": "7218bd8d",
    "outputId": "e55f9d0e-d759-424c-8779-274298f4ea5d"
   },
   "outputs": [
    {
     "data": {
      "text/plain": [
       "array(['animal', 'bicycle', 'fixed object',\n",
       "       'motor vehicle on other roadway', 'non-collision',\n",
       "       'other motor vehicle', 'other object', 'parked motor vehicle',\n",
       "       'train', None], dtype=object)"
      ]
     },
     "execution_count": 59,
     "metadata": {},
     "output_type": "execute_result"
    }
   ],
   "source": [
    "df['motor_vehicle_involved_with'].sort_values().unique()"
   ]
  },
  {
   "cell_type": "code",
   "execution_count": 60,
   "id": "0d548746",
   "metadata": {
    "colab": {
     "base_uri": "https://localhost:8080/"
    },
    "id": "0d548746",
    "outputId": "00cbb0bb-fc29-4c0d-f95e-d90fdbc16020"
   },
   "outputs": [
    {
     "data": {
      "text/plain": [
       "array(['construction', 'flooded', 'holes', 'loose material', 'normal',\n",
       "       'obstruction', 'other', 'reduced width', None], dtype=object)"
      ]
     },
     "execution_count": 60,
     "metadata": {},
     "output_type": "execute_result"
    }
   ],
   "source": [
    "df['road_condition_1'].sort_values().unique()"
   ]
  },
  {
   "cell_type": "code",
   "execution_count": 61,
   "id": "1162b9eb",
   "metadata": {
    "colab": {
     "base_uri": "https://localhost:8080/"
    },
    "id": "1162b9eb",
    "outputId": "beed8acd-303e-420c-df5f-60cb61cc1375"
   },
   "outputs": [
    {
     "data": {
      "text/plain": [
       "array(['dark with no street lights', 'dark with street lights',\n",
       "       'dark with street lights not functioning', 'daylight',\n",
       "       'dusk or dawn', None], dtype=object)"
      ]
     },
     "execution_count": 61,
     "metadata": {},
     "output_type": "execute_result"
    }
   ],
   "source": [
    "df['lighting'].sort_values().unique()"
   ]
  },
  {
   "cell_type": "code",
   "execution_count": 62,
   "id": "6acedde3",
   "metadata": {
    "colab": {
     "base_uri": "https://localhost:8080/"
    },
    "id": "6acedde3",
    "outputId": "1f22cc3f-1568-4d4c-e6a2-a3a8403c5432"
   },
   "outputs": [
    {
     "data": {
      "text/plain": [
       "array(['functioning', 'none', 'not functioning', 'obscured', None],\n",
       "      dtype=object)"
      ]
     },
     "execution_count": 62,
     "metadata": {},
     "output_type": "execute_result"
    }
   ],
   "source": [
    "df['control_device'].sort_values().unique()"
   ]
  },
  {
   "cell_type": "code",
   "execution_count": 63,
   "id": "5b613de7",
   "metadata": {
    "colab": {
     "base_uri": "https://localhost:8080/"
    },
    "id": "5b613de7",
    "outputId": "713a9d65-370a-459f-cce2-4e8c520513d8"
   },
   "outputs": [
    {
     "data": {
      "text/plain": [
       "array(['coupe', 'hatchback', 'minivan', 'other', 'sedan'], dtype=object)"
      ]
     },
     "execution_count": 63,
     "metadata": {},
     "output_type": "execute_result"
    }
   ],
   "source": [
    "df['vehicle_type'].sort_values().unique()"
   ]
  },
  {
   "cell_type": "code",
   "execution_count": 64,
   "id": "5ac372e3",
   "metadata": {
    "colab": {
     "base_uri": "https://localhost:8080/"
    },
    "id": "5ac372e3",
    "outputId": "12b39eb5-7d70-4d5e-bc8e-670457687f58"
   },
   "outputs": [
    {
     "data": {
      "text/plain": [
       "array(['auto', 'manual', None], dtype=object)"
      ]
     },
     "execution_count": 64,
     "metadata": {},
     "output_type": "execute_result"
    }
   ],
   "source": [
    "df['vehicle_transmission'].sort_values().unique()"
   ]
  },
  {
   "cell_type": "markdown",
   "id": "eRJhEbtP1Oof",
   "metadata": {
    "id": "eRJhEbtP1Oof"
   },
   "source": [
    "В столбцах type_of_collision, vehicle_transmission, vehicle_type, control_device, lighting, road_condition_1, motor_vehicle_involved_with аномальных и некорректных значений не выявлено."
   ]
  },
  {
   "cell_type": "code",
   "execution_count": 65,
   "id": "e785c6d1",
   "metadata": {
    "colab": {
     "base_uri": "https://localhost:8080/"
    },
    "id": "e785c6d1",
    "outputId": "7329e5de-07c2-4b47-f4e5-5826340044f6"
   },
   "outputs": [
    {
     "data": {
      "text/plain": [
       "array([  0.,   1.,   2.,   3.,   4.,   5.,   6.,   7.,   8.,   9.,  10.,\n",
       "        11.,  12.,  13.,  14.,  15.,  16.,  17.,  19., 161.,  nan])"
      ]
     },
     "execution_count": 65,
     "metadata": {},
     "output_type": "execute_result"
    }
   ],
   "source": [
    "df['vehicle_age'].sort_values().unique()"
   ]
  },
  {
   "cell_type": "code",
   "execution_count": 66,
   "id": "CoLI2B4NcaAy",
   "metadata": {
    "colab": {
     "base_uri": "https://localhost:8080/",
     "height": 515
    },
    "id": "CoLI2B4NcaAy",
    "outputId": "e03c34c1-4cdb-49cd-c335-eb0d0b2e93f0"
   },
   "outputs": [
    {
     "data": {
      "text/plain": [
       "<AxesSubplot:xlabel='vehicle_age', ylabel='count'>"
      ]
     },
     "execution_count": 66,
     "metadata": {},
     "output_type": "execute_result"
    },
    {
     "data": {
      "image/png": "[encoded data removed]",
      "text/plain": [
       "<Figure size 1080x576 with 1 Axes>"
      ]
     },
     "metadata": {
      "needs_background": "light"
     },
     "output_type": "display_data"
    }
   ],
   "source": [
    "\n",
    "plt.figure(figsize=(15,8))\n",
    "sns.countplot(x = 'vehicle_age', data = df)"
   ]
  },
  {
   "cell_type": "raw",
   "id": "532f0a7e",
   "metadata": {
    "id": "532f0a7e"
   },
   "source": [
    "display(df.isna().mean())"
   ]
  },
  {
   "cell_type": "markdown",
   "id": "EMYrMpc32kVM",
   "metadata": {
    "id": "EMYrMpc32kVM"
   },
   "source": [
    "\n",
    "***Вывод:***  \n",
    "Провели первичную предобработку данных."
   ]
  },
  {
   "cell_type": "code",
   "execution_count": 67,
   "id": "79611d53",
   "metadata": {
    "id": "79611d53"
   },
   "outputs": [],
   "source": [
    "X_train, X_test, y_train, y_test = train_test_split(features, target, test_size=0.3, random_state=0)"
   ]
  },
  {
   "cell_type": "code",
   "execution_count": 68,
   "id": "8f7394dd",
   "metadata": {
    "id": "8f7394dd"
   },
   "outputs": [],
   "source": [
    "#определим категориальные и числовые столбцы\n",
    "cat_features = ['party_type', 'party_sobriety', 'party_drug_physical', 'direction', \n",
    "                'weather_1', 'location_type', 'primary_collision_factor', \n",
    "                'pcf_violation_category', 'lighting', 'control_device',\n",
    "                'vehicle_type', 'road_surface',  'vehicle_transmission',\n",
    "               'road_condition_1', 'county_city_location']\n",
    "num_features = ['cellphone_in_use', 'distance', \n",
    "       'intersection', \n",
    "       'vehicle_age']\n"
   ]
  },
  {
   "cell_type": "code",
   "execution_count": 69,
   "id": "8-99P35q5xeq",
   "metadata": {
    "colab": {
     "base_uri": "https://localhost:8080/",
     "height": 206
    },
    "id": "8-99P35q5xeq",
    "outputId": "139e19e7-b490-4f7d-ad73-6bf0408844c3"
   },
   "outputs": [
    {
     "data": {
      "text/html": [
       "<div>\n",
       "<style scoped>\n",
       "    .dataframe tbody tr th:only-of-type {\n",
       "        vertical-align: middle;\n",
       "    }\n",
       "\n",
       "    .dataframe tbody tr th {\n",
       "        vertical-align: top;\n",
       "    }\n",
       "\n",
       "    .dataframe thead th {\n",
       "        text-align: right;\n",
       "    }\n",
       "</style>\n",
       "<table border=\"1\" class=\"dataframe\">\n",
       "  <thead>\n",
       "    <tr style=\"text-align: right;\">\n",
       "      <th></th>\n",
       "      <th>cellphone_in_use</th>\n",
       "      <th>distance</th>\n",
       "      <th>intersection</th>\n",
       "      <th>vehicle_age</th>\n",
       "    </tr>\n",
       "  </thead>\n",
       "  <tbody>\n",
       "    <tr>\n",
       "      <th>84794</th>\n",
       "      <td>NaN</td>\n",
       "      <td>20.0</td>\n",
       "      <td>0.0</td>\n",
       "      <td>8.0</td>\n",
       "    </tr>\n",
       "    <tr>\n",
       "      <th>66502</th>\n",
       "      <td>0.0</td>\n",
       "      <td>503.0</td>\n",
       "      <td>0.0</td>\n",
       "      <td>5.0</td>\n",
       "    </tr>\n",
       "    <tr>\n",
       "      <th>34029</th>\n",
       "      <td>0.0</td>\n",
       "      <td>248.0</td>\n",
       "      <td>0.0</td>\n",
       "      <td>4.0</td>\n",
       "    </tr>\n",
       "    <tr>\n",
       "      <th>67353</th>\n",
       "      <td>0.0</td>\n",
       "      <td>20.0</td>\n",
       "      <td>0.0</td>\n",
       "      <td>7.0</td>\n",
       "    </tr>\n",
       "    <tr>\n",
       "      <th>8388</th>\n",
       "      <td>NaN</td>\n",
       "      <td>15.0</td>\n",
       "      <td>0.0</td>\n",
       "      <td>5.0</td>\n",
       "    </tr>\n",
       "  </tbody>\n",
       "</table>\n",
       "</div>"
      ],
      "text/plain": [
       "       cellphone_in_use  distance  intersection  vehicle_age\n",
       "84794               NaN      20.0           0.0          8.0\n",
       "66502               0.0     503.0           0.0          5.0\n",
       "34029               0.0     248.0           0.0          4.0\n",
       "67353               0.0      20.0           0.0          7.0\n",
       "8388                NaN      15.0           0.0          5.0"
      ]
     },
     "execution_count": 69,
     "metadata": {},
     "output_type": "execute_result"
    }
   ],
   "source": [
    "X_train[num_features].head()"
   ]
  },
  {
   "cell_type": "code",
   "execution_count": 70,
   "id": "fWl_f01P3zYs",
   "metadata": {
    "id": "fWl_f01P3zYs"
   },
   "outputs": [
    {
     "name": "stderr",
     "output_type": "stream",
     "text": [
      "/tmp/ipykernel_31/1334030493.py:3: SettingWithCopyWarning: \n",
      "A value is trying to be set on a copy of a slice from a DataFrame.\n",
      "Try using .loc[row_indexer,col_indexer] = value instead\n",
      "\n",
      "See the caveats in the documentation: https://pandas.pydata.org/pandas-docs/stable/user_guide/indexing.html#returning-a-view-versus-a-copy\n",
      "  X_train[num_features] = imputer.transform(X_train[num_features])\n",
      "/opt/conda/lib/python3.9/site-packages/pandas/core/indexing.py:1738: SettingWithCopyWarning: \n",
      "A value is trying to be set on a copy of a slice from a DataFrame.\n",
      "Try using .loc[row_indexer,col_indexer] = value instead\n",
      "\n",
      "See the caveats in the documentation: https://pandas.pydata.org/pandas-docs/stable/user_guide/indexing.html#returning-a-view-versus-a-copy\n",
      "  self._setitem_single_column(loc, value[:, i].tolist(), pi)\n",
      "/tmp/ipykernel_31/1334030493.py:4: SettingWithCopyWarning: \n",
      "A value is trying to be set on a copy of a slice from a DataFrame.\n",
      "Try using .loc[row_indexer,col_indexer] = value instead\n",
      "\n",
      "See the caveats in the documentation: https://pandas.pydata.org/pandas-docs/stable/user_guide/indexing.html#returning-a-view-versus-a-copy\n",
      "  X_test[num_features] = imputer.transform(X_test[num_features])\n",
      "/opt/conda/lib/python3.9/site-packages/pandas/core/indexing.py:1738: SettingWithCopyWarning: \n",
      "A value is trying to be set on a copy of a slice from a DataFrame.\n",
      "Try using .loc[row_indexer,col_indexer] = value instead\n",
      "\n",
      "See the caveats in the documentation: https://pandas.pydata.org/pandas-docs/stable/user_guide/indexing.html#returning-a-view-versus-a-copy\n",
      "  self._setitem_single_column(loc, value[:, i].tolist(), pi)\n"
     ]
    }
   ],
   "source": [
    "imputer = SimpleImputer(strategy='mean')\n",
    "imputer.fit(X_train[num_features])\n",
    "X_train[num_features] = imputer.transform(X_train[num_features])\n",
    "X_test[num_features] = imputer.transform(X_test[num_features])\n"
   ]
  },
  {
   "cell_type": "code",
   "execution_count": 71,
   "id": "gObdzWIU5BlJ",
   "metadata": {
    "id": "gObdzWIU5BlJ"
   },
   "outputs": [
    {
     "name": "stderr",
     "output_type": "stream",
     "text": [
      "/tmp/ipykernel_31/4227118737.py:3: SettingWithCopyWarning: \n",
      "A value is trying to be set on a copy of a slice from a DataFrame.\n",
      "Try using .loc[row_indexer,col_indexer] = value instead\n",
      "\n",
      "See the caveats in the documentation: https://pandas.pydata.org/pandas-docs/stable/user_guide/indexing.html#returning-a-view-versus-a-copy\n",
      "  X_train[cat_features] = imputer.transform(X_train[cat_features])\n",
      "/opt/conda/lib/python3.9/site-packages/pandas/core/indexing.py:1738: SettingWithCopyWarning: \n",
      "A value is trying to be set on a copy of a slice from a DataFrame.\n",
      "Try using .loc[row_indexer,col_indexer] = value instead\n",
      "\n",
      "See the caveats in the documentation: https://pandas.pydata.org/pandas-docs/stable/user_guide/indexing.html#returning-a-view-versus-a-copy\n",
      "  self._setitem_single_column(loc, value[:, i].tolist(), pi)\n",
      "/tmp/ipykernel_31/4227118737.py:4: SettingWithCopyWarning: \n",
      "A value is trying to be set on a copy of a slice from a DataFrame.\n",
      "Try using .loc[row_indexer,col_indexer] = value instead\n",
      "\n",
      "See the caveats in the documentation: https://pandas.pydata.org/pandas-docs/stable/user_guide/indexing.html#returning-a-view-versus-a-copy\n",
      "  X_test[cat_features] = imputer.transform(X_test[cat_features])\n",
      "/opt/conda/lib/python3.9/site-packages/pandas/core/indexing.py:1738: SettingWithCopyWarning: \n",
      "A value is trying to be set on a copy of a slice from a DataFrame.\n",
      "Try using .loc[row_indexer,col_indexer] = value instead\n",
      "\n",
      "See the caveats in the documentation: https://pandas.pydata.org/pandas-docs/stable/user_guide/indexing.html#returning-a-view-versus-a-copy\n",
      "  self._setitem_single_column(loc, value[:, i].tolist(), pi)\n"
     ]
    }
   ],
   "source": [
    "imputer = SimpleImputer(strategy='constant')\n",
    "imputer.fit(X_train[cat_features])\n",
    "X_train[cat_features] = imputer.transform(X_train[cat_features])\n",
    "X_test[cat_features] = imputer.transform(X_test[cat_features])"
   ]
  },
  {
   "cell_type": "code",
   "execution_count": 72,
   "id": "88a2491c",
   "metadata": {
    "id": "88a2491c"
   },
   "outputs": [],
   "source": [
    "num_transformer_linear = make_pipeline(StandardScaler())\n",
    "cat_transformer_linear = make_pipeline(OneHotEncoder(sparse=False, handle_unknown='ignore'))\n",
    "\n",
    "\n",
    "preprocessor = ColumnTransformer(\n",
    "    transformers=[\n",
    "        (\"num\", num_transformer_linear, num_features),\n",
    "        (\"cat\", cat_transformer_linear, cat_features)\n",
    "    ]\n",
    ")\n"
   ]
  },
  {
   "cell_type": "code",
   "execution_count": 73,
   "id": "EgL9zvhxrN5v",
   "metadata": {
    "colab": {
     "base_uri": "https://localhost:8080/",
     "height": 35
    },
    "id": "EgL9zvhxrN5v",
    "outputId": "4eca8be5-caa8-4631-e489-b8d04c24445d"
   },
   "outputs": [
    {
     "data": {
      "text/plain": [
       "'0.24.1'"
      ]
     },
     "execution_count": 73,
     "metadata": {},
     "output_type": "execute_result"
    }
   ],
   "source": [
    "import sklearn as sk\n",
    "sk.__version__"
   ]
  },
  {
   "cell_type": "code",
   "execution_count": 74,
   "id": "TpTCEtqFc6Tk",
   "metadata": {
    "id": "TpTCEtqFc6Tk"
   },
   "outputs": [],
   "source": [
    "def best_classifier(names, classifiers, parameters, X, y, X_hold_out, y_hold_out):\n",
    "    \"\"\"\n",
    "    \"\"\"\n",
    "    \n",
    "    result = []\n",
    "    model_fitted = []\n",
    "    predictions = []\n",
    "    best_params = []\n",
    "\n",
    "#Начинаем перебирать параметры через гридсечр    \n",
    "    for name, classifier, hyperparam in zip(names, classifiers, parameters):\n",
    "    \n",
    "        clf = Pipeline(steps=[('preprocessor', preprocessor),('classifier', classifier)])\n",
    "        print(f\"Fitting model {name}\")\n",
    "        model = GridSearchCV(estimator=clf, param_grid = hyperparam, cv=5, scoring='roc_auc', n_jobs = -1, verbose = 0).fit(X, y)\n",
    "    \n",
    "        auc_roc_valid = model.best_score_\n",
    " \n",
    "        model_fitted.append(model)\n",
    "        \n",
    "#вычисяем предсказания и метрики\n",
    "        predicted_test = model.best_estimator_.predict(X_hold_out)\n",
    "        probabilities_test = model.best_estimator_.predict_proba(X_hold_out)\n",
    "        probabilities_one_test = probabilities_test[:, 1]\n",
    "        auc_roc = roc_auc_score(y_test, probabilities_one_test)\n",
    "        accuracy = accuracy_score(y_hold_out, predicted_test)\n",
    "        \n",
    "        precision = precision_score(y_hold_out, predicted_test)\n",
    "        recall = recall_score(y_hold_out, predicted_test)\n",
    "        f1 = f1_score(y_hold_out, predicted_test)\n",
    "        \n",
    "#Сохраняем метрики и параметры лучших моделей в result    \n",
    "        result.append([accuracy, auc_roc_valid, auc_roc, precision, recall, f1, name, model.best_params_])\n",
    "        best_params.append(model.best_params_)\n",
    "#Сохраняем предсказания в predictions\n",
    "        predictions.append(predicted_test)\n",
    "    result = pd.DataFrame(result, columns = ['accuracy', 'auc_roc_valid', 'auc_roc', 'precision', 'recall', 'f1', 'name', 'model.best_params_']) \n",
    "    \n",
    "    try:\n",
    "        display(result.sort_values(by = 'auc_roc', ascending = False))\n",
    "    except:\n",
    "        import traceback\n",
    "        traceback.print_exc()\n",
    "    return result, model_fitted, predictions, best_params"
   ]
  },
  {
   "cell_type": "code",
   "execution_count": 75,
   "id": "3b8a8a95",
   "metadata": {
    "colab": {
     "base_uri": "https://localhost:8080/",
     "height": 236
    },
    "id": "3b8a8a95",
    "outputId": "0805d0fd-0eed-438c-ae4f-43b6b314f3e0"
   },
   "outputs": [
    {
     "name": "stdout",
     "output_type": "stream",
     "text": [
      "Fitting model RandomForestClassifier\n"
     ]
    },
    {
     "name": "stderr",
     "output_type": "stream",
     "text": [
      "/opt/conda/lib/python3.9/site-packages/sklearn/metrics/_classification.py:1245: UndefinedMetricWarning: Precision is ill-defined and being set to 0.0 due to no predicted samples. Use `zero_division` parameter to control this behavior.\n",
      "  _warn_prf(average, modifier, msg_start, len(result))\n"
     ]
    },
    {
     "name": "stdout",
     "output_type": "stream",
     "text": [
      "Fitting model LGBMClassifier\n"
     ]
    },
    {
     "name": "stderr",
     "output_type": "stream",
     "text": [
      "/opt/conda/lib/python3.9/site-packages/sklearn/metrics/_classification.py:1245: UndefinedMetricWarning: Precision is ill-defined and being set to 0.0 due to no predicted samples. Use `zero_division` parameter to control this behavior.\n",
      "  _warn_prf(average, modifier, msg_start, len(result))\n"
     ]
    },
    {
     "data": {
      "text/html": [
       "<div>\n",
       "<style scoped>\n",
       "    .dataframe tbody tr th:only-of-type {\n",
       "        vertical-align: middle;\n",
       "    }\n",
       "\n",
       "    .dataframe tbody tr th {\n",
       "        vertical-align: top;\n",
       "    }\n",
       "\n",
       "    .dataframe thead th {\n",
       "        text-align: right;\n",
       "    }\n",
       "</style>\n",
       "<table border=\"1\" class=\"dataframe\">\n",
       "  <thead>\n",
       "    <tr style=\"text-align: right;\">\n",
       "      <th></th>\n",
       "      <th>accuracy</th>\n",
       "      <th>auc_roc_valid</th>\n",
       "      <th>auc_roc</th>\n",
       "      <th>precision</th>\n",
       "      <th>recall</th>\n",
       "      <th>f1</th>\n",
       "      <th>name</th>\n",
       "      <th>model.best_params_</th>\n",
       "    </tr>\n",
       "  </thead>\n",
       "  <tbody>\n",
       "    <tr>\n",
       "      <th>1</th>\n",
       "      <td>0.54562</td>\n",
       "      <td>0.688356</td>\n",
       "      <td>0.683717</td>\n",
       "      <td>0.0</td>\n",
       "      <td>0.0</td>\n",
       "      <td>0.0</td>\n",
       "      <td>LGBMClassifier</td>\n",
       "      <td>{'classifier__learning_rate': 7e-05, 'classifi...</td>\n",
       "    </tr>\n",
       "    <tr>\n",
       "      <th>0</th>\n",
       "      <td>0.54562</td>\n",
       "      <td>0.525433</td>\n",
       "      <td>0.509661</td>\n",
       "      <td>0.0</td>\n",
       "      <td>0.0</td>\n",
       "      <td>0.0</td>\n",
       "      <td>RandomForestClassifier</td>\n",
       "      <td>{'classifier__max_depth': 1, 'classifier__n_es...</td>\n",
       "    </tr>\n",
       "  </tbody>\n",
       "</table>\n",
       "</div>"
      ],
      "text/plain": [
       "   accuracy  auc_roc_valid   auc_roc  precision  recall   f1  \\\n",
       "1   0.54562       0.688356  0.683717        0.0     0.0  0.0   \n",
       "0   0.54562       0.525433  0.509661        0.0     0.0  0.0   \n",
       "\n",
       "                     name                                 model.best_params_  \n",
       "1          LGBMClassifier  {'classifier__learning_rate': 7e-05, 'classifi...  \n",
       "0  RandomForestClassifier  {'classifier__max_depth': 1, 'classifier__n_es...  "
      ]
     },
     "metadata": {},
     "output_type": "display_data"
    }
   ],
   "source": [
    "current_names = ['RandomForestClassifier', 'LGBMClassifier']\n",
    "current_classifiers = [RandomForestClassifier(random_state=1), LGBMClassifier(random_state=1)]\n",
    "current_params = [[{'classifier__n_estimators': range(1, 2, 10), 'classifier__max_depth': range(1, 2, 10)}],\n",
    "                  [{'classifier__learning_rate':(0.00007,0.00005),\n",
    "                    'classifier__n_estimators': range(1, 2, 10)}]]\n",
    "\n",
    "result = best_classifier(current_names, current_classifiers, current_params, X_train, y_train, X_test, y_test)\n",
    "result_rfc, model_fitted_rfc, predictions_rfc, best_params_rfc = result"
   ]
  },
  {
   "cell_type": "markdown",
   "id": "RtxG0YOY3KJl",
   "metadata": {
    "id": "RtxG0YOY3KJl"
   },
   "source": [
    "Для проекта выбрала метрику accuracy, потому что accuracy это доля объектов, для которых мы правильно предсказали класс. Это метрика, которая характеризует качество модели, агрегированное по всем классам. Мы всю сложную структуру ошибок свели к одному числу, т.к. на вещественных числах отношение порядка есть. "
   ]
  },
  {
   "cell_type": "code",
   "execution_count": null,
   "id": "VguQJwp7t4t3",
   "metadata": {
    "colab": {
     "base_uri": "https://localhost:8080/",
     "height": 112
    },
    "id": "VguQJwp7t4t3",
    "outputId": "fc6788cf-4446-4947-f890-d7feaa9eac38"
   },
   "outputs": [],
   "source": [
    "result_rfc['score'] = result_rfc['accuracy']\n",
    "result_rfc['param'] = result_rfc['name']\n",
    "result_rfc"
   ]
  },
  {
   "cell_type": "code",
   "execution_count": null,
   "id": "Dofzv35hlzLV",
   "metadata": {
    "colab": {
     "base_uri": "https://localhost:8080/",
     "height": 112
    },
    "id": "Dofzv35hlzLV",
    "outputId": "676f296a-b65c-4504-c513-a4ee0387c64e"
   },
   "outputs": [],
   "source": [
    "res_best = result_rfc[[ 'param', \"score\"]]\n",
    "res_best"
   ]
  },
  {
   "cell_type": "code",
   "execution_count": null,
   "id": "77eb4db3",
   "metadata": {
    "id": "77eb4db3"
   },
   "outputs": [],
   "source": [
    "X_train_prep = preprocessor.fit_transform(X_train)\n",
    "X_test_prep = preprocessor.transform(X_test)"
   ]
  },
  {
   "cell_type": "code",
   "execution_count": null,
   "id": "1c274948",
   "metadata": {
    "id": "1c274948"
   },
   "outputs": [],
   "source": [
    "#преобразуем выборки в массив numpy\n",
    "# X_train_prep = X_train_prep.toarray()\n",
    "# X_test_prep = X_test_prep.toarray()\n",
    "y_train_prep = np.array(y_train.values)\n",
    "y_test_prep = np.array(y_test.values)\n"
   ]
  },
  {
   "cell_type": "code",
   "execution_count": null,
   "id": "38c5318b",
   "metadata": {
    "id": "38c5318b"
   },
   "outputs": [],
   "source": [
    "#определеим количество входных нейров\n",
    "features_count = X_train_prep.shape[1]\n",
    "# преобразуем выборки в тензор из массива numpy\n",
    "X_train_prep = torch.from_numpy(X_train_prep).float()\n",
    "X_test_prep = torch.from_numpy(X_test_prep).float()\n",
    "y_test_prep = torch.from_numpy(y_test_prep).float()\n",
    "y_train_prep = torch.from_numpy(y_train_prep).float()\n"
   ]
  },
  {
   "cell_type": "code",
   "execution_count": null,
   "id": "5a39ec88",
   "metadata": {
    "id": "5a39ec88"
   },
   "outputs": [],
   "source": [
    "# определим параметры для подбора \n",
    "rs = np.random.RandomState(0)\n",
    "grid = {\n",
    "    \"n_neurons_in\":[features_count],\n",
    "    'n_neurons_out':[1],\n",
    "    'n_hidden_1':[150, 200],\n",
    "    'n_hidden_2':[15, 20],\n",
    "    'activation_1':[nn.ReLU(), nn.LeakyReLU()],\n",
    "    'activation_2':[nn.ReLU(), nn.LeakyReLU()],\n",
    "    'activation_out': [nn.Sigmoid()],\n",
    "    'regularization':['batch_norm', 'dropout'],\n",
    "    'batch_size':[150, 140],\n",
    "    'learning_rate':[0.0005,  0.0000007]\n",
    "     \n",
    "}\n",
    "\n",
    "parameter_list = list(ParameterSampler(grid, n_iter=3, random_state=rs))\n",
    "\n"
   ]
  },
  {
   "cell_type": "code",
   "execution_count": null,
   "id": "29caf87c",
   "metadata": {
    "id": "29caf87c"
   },
   "outputs": [],
   "source": [
    "num_epochs = 2\n",
    "results = {}\n",
    "best_score_overall = 1e+100000\n"
   ]
  },
  {
   "cell_type": "code",
   "execution_count": null,
   "id": "9342e5d7",
   "metadata": {
    "id": "9342e5d7"
   },
   "outputs": [],
   "source": [
    "#напишим метод, который будет инициализировать слой\n",
    "def init_weights(layer):\n",
    "    if type(layer) == nn.Linear:\n",
    "        nn.init.normal_(layer.weight, mean=0, std=np.sqrt(2/layer.in_features))\n",
    "        nn.init.normal_(layer.bias, mean=0, std=0)\n",
    "        "
   ]
  },
  {
   "cell_type": "code",
   "execution_count": null,
   "id": "64430eba",
   "metadata": {
    "id": "64430eba"
   },
   "outputs": [],
   "source": [
    "for i, param in enumerate(parameter_list):\n",
    "    best_param = 1e+100000\n",
    "    \n",
    "    net_layers =[]\n",
    "    net_layers.append(nn.Linear(param['n_neurons_in'], param['n_hidden_1']))\n",
    "    if param['regularization'] =='dropout':\n",
    "        net_layers.append(nn.Dropout(p=0.5))\n",
    "    elif param['regularization'] =='batch_norm':\n",
    "        net_layers.append(nn.BatchNorm1d(param['n_hidden_1']))\n",
    "    if param['activation_1'] is not ReLU():\n",
    "        net_layers.append(param['activation_1'])\n",
    "    net_layers.append(nn.Linear(param['n_hidden_1'], param['n_hidden_2']))\n",
    "        \n",
    "\n",
    "    if param['regularization'] =='dropout':\n",
    "        net_layers.append(nn.Dropout(p=0.5))\n",
    "    elif param['regularization'] =='batch_norm':\n",
    "        net_layers.append(nn.BatchNorm1d(param['n_hidden_2']))\n",
    "    if param['activation_2'] is not ReLU():\n",
    "        net_layers.append(param['activation_2'])\n",
    "       \n",
    "    net_layers.append(nn.Linear(param['n_hidden_2'], param['n_neurons_out']))\n",
    "    if param['activation_out'] is not ReLU():\n",
    "        net_layers.append(param['activation_out'])\n",
    "        \n",
    "    net = nn.Sequential(*net_layers) # такая запись позволяет передавать элементы списка как параметры для инициализации\n",
    "    net.apply(init_weights) #применим метод ко всем слоям сети\n",
    "    optimizer = torch.optim.Adam(net.parameters(),lr=0.2)\n",
    "    loss = nn.BCELoss()\n",
    "    train_data = TensorDataset(X_train_prep, y_train_prep)\n",
    "    train_loader = DataLoader(dataset = train_data, batch_size=param['batch_size'], shuffle=True)\n",
    "    for _ in range(num_epochs):\n",
    "        for i_batch, batch in enumerate(train_loader):\n",
    "            X_batch, y_batch = batch\n",
    "            preds_batch = net.forward(X_batch)\n",
    "            loss_value = loss(preds_batch.reshape(-1,), y_batch)\n",
    "            optimizer.zero_grad() \n",
    "            loss_value.backward()            \n",
    "            optimizer.step()\n",
    "        \n",
    "            if i_batch % 20 ==0 or i_batch ==i_batch-1:\n",
    "                net.eval()\n",
    "                test_preds = net.forward(X_test_prep)\n",
    "                accuracy = (test_preds.argmax(dim=1) == y_test_prep).float().mean().data\n",
    "               \n",
    "            \n",
    "\n",
    "                is_best_overall = accuracy < best_score_overall\n",
    "                best_score_overall = min(accuracy, best_score_overall)\n",
    "                \n",
    "                is_best_param = accuracy < best_param\n",
    "                best_param = min(accuracy, best_param)\n",
    "                \n",
    "                if is_best_overall:\n",
    "                    torch.save(net, 'best_model.pth')\n",
    "                \n",
    "\n",
    "                if is_best_param:\n",
    "                    results[i] = (param, best_param)\n",
    "                "
   ]
  },
  {
   "cell_type": "code",
   "execution_count": null,
   "id": "eb214fc2",
   "metadata": {
    "colab": {
     "base_uri": "https://localhost:8080/",
     "height": 143
    },
    "id": "eb214fc2",
    "outputId": "a329d8a2-8d71-484c-88ec-121885f24a05"
   },
   "outputs": [],
   "source": [
    "#выведем результат\n",
    "results_df = pd.DataFrame.from_dict(results, orient='index')\n",
    "params = results_df[0].apply(pd.Series).drop(columns={'n_neurons_out', 'n_neurons_in'}, axis=1)\n",
    "params['mean_test_score'] = results_df[1]\n",
    "results_df = params.sort_values(by='mean_test_score')\n",
    "results_df.head()"
   ]
  },
  {
   "cell_type": "code",
   "execution_count": null,
   "id": "74d6c5ac",
   "metadata": {
    "id": "74d6c5ac"
   },
   "outputs": [],
   "source": [
    "#добавим столбце с названием модели\n",
    "results_df['param'] =  ['neuron' for i in range(len(results_df['mean_test_score']))]\n",
    "results_df['score']=results_df['mean_test_score']"
   ]
  },
  {
   "cell_type": "code",
   "execution_count": null,
   "id": "20762ce2",
   "metadata": {
    "colab": {
     "base_uri": "https://localhost:8080/",
     "height": 81
    },
    "id": "20762ce2",
    "outputId": "eb9749b5-fe83-4f94-8e07-daa3909beab1"
   },
   "outputs": [],
   "source": [
    "#оставим только определенные столбцы и только самое лучшее значение\n",
    "results_df_best = results_df[['param', 'score']]\n",
    "results_df_best = results_df_best.head(1)\n",
    "results_df_best"
   ]
  },
  {
   "cell_type": "code",
   "execution_count": null,
   "id": "f76dd07c",
   "metadata": {
    "colab": {
     "base_uri": "https://localhost:8080/",
     "height": 143
    },
    "id": "f76dd07c",
    "outputId": "fc668bff-d800-426f-c1e7-f1a4e4957cdd"
   },
   "outputs": [],
   "source": [
    "#Выведем таблицу со значениями разных моделей\n",
    "models = pd.concat([res_best, results_df_best]).reset_index()\n",
    "del models['index']\n",
    "models"
   ]
  },
  {
   "cell_type": "markdown",
   "id": "55483f84",
   "metadata": {
    "id": "55483f84"
   },
   "source": [
    "Таким образом, лучшая модель - RandomForestClassifier"
   ]
  },
  {
   "cell_type": "markdown",
   "id": "82dfbb9f",
   "metadata": {
    "id": "82dfbb9f"
   },
   "source": [
    "## Проведите анализ важности факторов ДТП"
   ]
  },
  {
   "cell_type": "code",
   "execution_count": null,
   "id": "b55df20f",
   "metadata": {
    "colab": {
     "base_uri": "https://localhost:8080/"
    },
    "id": "b55df20f",
    "outputId": "362855bc-1563-4f86-e648-35229379e16d"
   },
   "outputs": [],
   "source": [
    "# print(y_test.shape)\n",
    "confusion_matrix(y_test, predictions_rfc[0])"
   ]
  },
  {
   "cell_type": "markdown",
   "id": "06e20806",
   "metadata": {
    "id": "06e20806"
   },
   "source": [
    "Как видно из данных, в 30532 случаях модель RandomForestClassifier выдает истинно позитивное предсказание (True Positive), в 22 183 случаях модель выдает ошибочно положительное предсказание (False Positive)."
   ]
  },
  {
   "cell_type": "markdown",
   "id": "9wytn4tQQWBH",
   "metadata": {
    "id": "9wytn4tQQWBH"
   },
   "source": [
    "Проведем анализ важности фаткоров feature_importances_"
   ]
  },
  {
   "cell_type": "code",
   "execution_count": null,
   "id": "DYQ-jpj0PQGp",
   "metadata": {
    "id": "DYQ-jpj0PQGp"
   },
   "outputs": [],
   "source": [
    "# feature_names = preprocessor.fit(X_train).get_feature_names_out()"
   ]
  },
  {
   "cell_type": "code",
   "execution_count": null,
   "id": "odMt13j8PQ8i",
   "metadata": {
    "colab": {
     "base_uri": "https://localhost:8080/"
    },
    "id": "odMt13j8PQ8i",
    "outputId": "88da95c2-339e-4619-8ada-53add0d0c2c5"
   },
   "outputs": [],
   "source": [
    "# print(model_fitted_rfc[1].best_estimator_[1])"
   ]
  },
  {
   "cell_type": "code",
   "execution_count": null,
   "id": "uoiUmbvHPoaM",
   "metadata": {
    "id": "uoiUmbvHPoaM"
   },
   "outputs": [],
   "source": [
    "# feature_importances_lgbm = model_fitted_rfc[1].best_estimator_[1].feature_importances_\n",
    "# feature_importances_rf = model_fitted_rfc[1].best_estimator_[1].feature_importances_"
   ]
  },
  {
   "cell_type": "markdown",
   "id": "sYOl50vhQz0f",
   "metadata": {
    "id": "sYOl50vhQz0f"
   },
   "source": [
    "Выведем наиболее важные факторы для модели LGBMClassifier"
   ]
  },
  {
   "cell_type": "code",
   "execution_count": 4,
   "id": "ee0f2ee0",
   "metadata": {},
   "outputs": [
    {
     "data": {
      "image/png": "[encoded data removed]",
      "text/plain": [
       "<IPython.core.display.Image object>"
      ]
     },
     "execution_count": 4,
     "metadata": {},
     "output_type": "execute_result"
    }
   ],
   "source": [
    "from IPython.display import Image\n",
    "Image(filename='2022-07-09_10-57-31.png')"
   ]
  },
  {
   "cell_type": "code",
   "execution_count": null,
   "id": "8HhBh1ivPozf",
   "metadata": {
    "colab": {
     "base_uri": "https://localhost:8080/"
    },
    "id": "8HhBh1ivPozf",
    "outputId": "89ed9681-bba7-4339-c3b0-f19965655db6"
   },
   "outputs": [],
   "source": [
    "# pd.Series(feature_importances_lgbm, index=feature_names).sort_values(ascending=False)"
   ]
  },
  {
   "cell_type": "markdown",
   "id": "dcomjAV6Qp5i",
   "metadata": {
    "id": "dcomjAV6Qp5i"
   },
   "source": [
    "Как видно из данных, приведенных выше, наиболее важным фактором для модели LGBMClassifier являлись cat__party_drug_physical_None(трезвый водитель), cat__pcf_violation_category_dui(по вине пешехода), lation(нарушения пешехода)."
   ]
  },
  {
   "cell_type": "markdown",
   "id": "IzuZYhqARPCK",
   "metadata": {
    "id": "IzuZYhqARPCK"
   },
   "source": [
    "Выведем наиболее важные признаки для модели RandomForestClassifier"
   ]
  },
  {
   "cell_type": "code",
   "execution_count": 5,
   "id": "c5d8a55c",
   "metadata": {},
   "outputs": [
    {
     "data": {
      "image/png": "[encoded data removed]",
      "text/plain": [
       "<IPython.core.display.Image object>"
      ]
     },
     "execution_count": 5,
     "metadata": {},
     "output_type": "execute_result"
    }
   ],
   "source": [
    "from IPython.display import Image\n",
    "Image(filename='2022-07-09_10-58-04.png')"
   ]
  },
  {
   "cell_type": "code",
   "execution_count": null,
   "id": "cQXYG2sePpF0",
   "metadata": {
    "colab": {
     "base_uri": "https://localhost:8080/"
    },
    "id": "cQXYG2sePpF0",
    "outputId": "a8bf4819-98b1-4529-ee31-9ef3ae20781b"
   },
   "outputs": [],
   "source": [
    "# pd.Series(feature_importances_rf, index=feature_names).sort_values(ascending=False)"
   ]
  },
  {
   "cell_type": "raw",
   "id": "1fbeddf6",
   "metadata": {
    "id": "mCkpkZunRRCy"
   },
   "source": [
    "Как видно из данных, приведенных выше, наиболее важным фактором для модели RandomForestClassifier также являлись cat__party_drug_physical_None(трезвый водитель), cat__pcf_violation_category_dui(по вине пешехода), lation(нарушения пешехода)."
   ]
  },
  {
   "cell_type": "code",
   "execution_count": null,
   "id": "e01214e2",
   "metadata": {},
   "outputs": [],
   "source": []
  },
  {
   "cell_type": "code",
   "execution_count": null,
   "id": "3d54c2e2",
   "metadata": {
    "id": "3d54c2e2"
   },
   "outputs": [],
   "source": [
    "# def cf_matrix(true, prediction):\n",
    "\n",
    "#     cf_matrix = confusion_matrix(y_test, predictions_rfc[1])\n",
    "\n",
    "#     group_names = ['True Neg', 'False Pos', 'False Neg', 'True Pos']\n",
    "\n",
    "#     group_counts = ['{0:0.0f}'.format(value) for value in\n",
    "#                     cf_matrix.flatten()]\n",
    "\n",
    "#     group_percentages = ['{0:.2%}'.format(value) for value in\n",
    "#                          cf_matrix.flatten()/np.sum(cf_matrix)]\n",
    "\n",
    "#     labels = [f\"{v1}\\n{v2}\\n{v3}\" for v1, v2, v3 in\n",
    "#               zip(group_names, group_counts, group_percentages)]\n",
    "\n",
    "#     labels = np.asarray(labels).reshape(2, 2)\n",
    "#     sns.heatmap(cf_matrix, fmt='', cmap='Blues', ax=ax,\n",
    "#                 annot=labels, annot_kws={'size': 16})\n",
    "\n",
    "#     set_title('Матрица ошибок')"
   ]
  },
  {
   "cell_type": "code",
   "execution_count": null,
   "id": "848debcc",
   "metadata": {
    "id": "848debcc"
   },
   "outputs": [],
   "source": [
    "# X_ohe = pd.get_dummies(X_test)\n",
    "# X_ohe.columns\n",
    "\n",
    "\n",
    "# scaler = StandardScaler()\n",
    "# scaler.fit(X_ohe)\n",
    "\n",
    "# X_test = pd.DataFrame(data=scaler.transform(X_ohe), columns=X_ohe.columns)\n",
    "# X_test\n",
    "# # pd.options.mode.chained_assignment = None"
   ]
  },
  {
   "cell_type": "code",
   "execution_count": null,
   "id": "92f33491",
   "metadata": {
    "id": "92f33491"
   },
   "outputs": [],
   "source": [
    "# import seaborn as sns\n",
    "# def chart_feature_imp(model):\n",
    "#     feature_imp = pd.Series(model.feature_importances_, index=X_test)#.sort_values(by = ascending=False))\n",
    "\n",
    "#     plt.gcf().set_size_inches(10, 6)\n",
    "#     plt.rcParams.update({'font.size': 14})\n",
    "    \n",
    "#     ax = sns.barplot(x=feature_imp, y=feature_imp.index, orient='h')\n",
    "#     _ = ax.set(xlabel='Оценка важности признаков', ylabel='Признаки')\n",
    "#     _ = ax.set_title('Визуализация важности признаков')\n",
    "\n",
    "# chart_feature_imp(model_fitted_rfc[1].best_estimator_[1])"
   ]
  },
  {
   "cell_type": "markdown",
   "id": "d46f9ccc",
   "metadata": {
    "id": "ebfd4970"
   },
   "source": [
    "## Выводы\n",
    "Таким образом, по результатам анализа данных, установлено, что лучшей моделью на accuracy показала себя RandomForestClassifier. При этом, в 30532 случаях модель RandomForestClassifier выдает истинно позитивное предсказание (True Positive), в 22 183 случаях модель выдает ошибочно положительное предсказание (False Positive).\n",
    "\n",
    "\n",
    "При этом, наиболее важным фактором для модели RandomForestClassifier являлись факторы cat__party_drug_physical_None(трезвый водитель), cat__pcf_violation_category_dui(по вине пешехода), lation(нарушения пешехода). Из чего можно сделать вывод, что большинство аварий происходит по вине пешеходов. В данной связи можно было бы оборудовать автомобиль системой распознования пешехода (нейросеть, распознающая пешеходов и расстояния до него и автоматически тормозящая, без ведома водителя)."
   ]
  }
 ],
 "metadata": {
  "ExecuteTimeLog": [
   {
    "duration": 3,
    "start_time": "2022-06-18T09:20:58.313Z"
   },
   {
    "duration": 74,
    "start_time": "2022-06-18T09:20:58.996Z"
   },
   {
    "duration": 1800,
    "start_time": "2022-06-18T09:21:28.839Z"
   },
   {
    "duration": 10,
    "start_time": "2022-06-18T09:21:30.648Z"
   },
   {
    "duration": 121,
    "start_time": "2022-06-18T09:21:30.660Z"
   },
   {
    "duration": 295,
    "start_time": "2022-06-18T09:22:20.164Z"
   },
   {
    "duration": 4,
    "start_time": "2022-06-18T09:27:16.520Z"
   },
   {
    "duration": 3,
    "start_time": "2022-06-18T09:27:17.144Z"
   },
   {
    "duration": 3,
    "start_time": "2022-06-18T09:27:17.841Z"
   },
   {
    "duration": 253,
    "start_time": "2022-06-18T09:27:41.630Z"
   },
   {
    "duration": 44,
    "start_time": "2022-06-18T09:32:14.547Z"
   },
   {
    "duration": 13,
    "start_time": "2022-06-18T09:32:49.896Z"
   },
   {
    "duration": 59,
    "start_time": "2022-06-18T09:40:23.394Z"
   },
   {
    "duration": 51,
    "start_time": "2022-06-18T09:41:23.409Z"
   },
   {
    "duration": 56,
    "start_time": "2022-06-18T09:41:33.150Z"
   },
   {
    "duration": 51,
    "start_time": "2022-06-18T09:42:05.801Z"
   },
   {
    "duration": 42,
    "start_time": "2022-06-18T09:42:56.172Z"
   },
   {
    "duration": 5,
    "start_time": "2022-06-18T09:57:40.604Z"
   },
   {
    "duration": 4,
    "start_time": "2022-06-18T09:57:49.510Z"
   },
   {
    "duration": 6,
    "start_time": "2022-06-18T09:57:57.757Z"
   },
   {
    "duration": 5,
    "start_time": "2022-06-18T09:58:05.718Z"
   },
   {
    "duration": 54,
    "start_time": "2022-06-18T09:58:21.215Z"
   },
   {
    "duration": 5,
    "start_time": "2022-06-18T09:58:44.046Z"
   },
   {
    "duration": 6,
    "start_time": "2022-06-18T09:58:54.924Z"
   },
   {
    "duration": 5,
    "start_time": "2022-06-18T09:59:04.899Z"
   },
   {
    "duration": 5,
    "start_time": "2022-06-18T09:59:21.461Z"
   },
   {
    "duration": 5,
    "start_time": "2022-06-18T09:59:33.275Z"
   },
   {
    "duration": 6,
    "start_time": "2022-06-18T09:59:45.409Z"
   },
   {
    "duration": 5,
    "start_time": "2022-06-18T09:59:59.904Z"
   },
   {
    "duration": 5,
    "start_time": "2022-06-18T10:00:24.844Z"
   },
   {
    "duration": 5,
    "start_time": "2022-06-18T10:00:36.538Z"
   },
   {
    "duration": 7,
    "start_time": "2022-06-18T10:00:50.401Z"
   },
   {
    "duration": 16,
    "start_time": "2022-06-18T10:01:27.644Z"
   },
   {
    "duration": 12,
    "start_time": "2022-06-18T10:01:46.810Z"
   },
   {
    "duration": 12,
    "start_time": "2022-06-18T10:02:22.997Z"
   },
   {
    "duration": 10,
    "start_time": "2022-06-18T10:02:43.945Z"
   },
   {
    "duration": 16,
    "start_time": "2022-06-18T12:53:43.931Z"
   },
   {
    "duration": 47,
    "start_time": "2022-06-18T12:54:09.178Z"
   },
   {
    "duration": 1424,
    "start_time": "2022-06-18T12:54:15.033Z"
   },
   {
    "duration": 4,
    "start_time": "2022-06-18T12:54:16.460Z"
   },
   {
    "duration": 238,
    "start_time": "2022-06-18T12:54:16.466Z"
   },
   {
    "duration": 265,
    "start_time": "2022-06-18T12:54:16.706Z"
   },
   {
    "duration": 5,
    "start_time": "2022-06-18T12:54:16.974Z"
   },
   {
    "duration": 24,
    "start_time": "2022-06-18T12:54:16.981Z"
   },
   {
    "duration": 73,
    "start_time": "2022-06-18T12:54:17.006Z"
   },
   {
    "duration": 10,
    "start_time": "2022-06-18T12:54:17.081Z"
   },
   {
    "duration": 25,
    "start_time": "2022-06-18T12:54:17.092Z"
   },
   {
    "duration": 66,
    "start_time": "2022-06-18T12:54:17.118Z"
   },
   {
    "duration": 9,
    "start_time": "2022-06-18T12:54:17.186Z"
   },
   {
    "duration": 61,
    "start_time": "2022-06-18T12:54:17.197Z"
   },
   {
    "duration": 10,
    "start_time": "2022-06-18T12:54:17.259Z"
   },
   {
    "duration": 17,
    "start_time": "2022-06-18T12:54:17.271Z"
   },
   {
    "duration": 186,
    "start_time": "2022-06-18T12:54:17.290Z"
   },
   {
    "duration": 3,
    "start_time": "2022-06-18T12:54:53.291Z"
   },
   {
    "duration": 323,
    "start_time": "2022-06-18T12:54:55.202Z"
   },
   {
    "duration": 312,
    "start_time": "2022-06-18T12:55:05.882Z"
   },
   {
    "duration": 476,
    "start_time": "2022-06-18T12:55:43.077Z"
   },
   {
    "duration": 307,
    "start_time": "2022-06-18T12:56:16.496Z"
   },
   {
    "duration": 3,
    "start_time": "2022-06-18T12:56:42.996Z"
   },
   {
    "duration": 308,
    "start_time": "2022-06-18T12:56:43.850Z"
   },
   {
    "duration": 3,
    "start_time": "2022-06-18T12:56:53.651Z"
   },
   {
    "duration": 346,
    "start_time": "2022-06-18T12:56:55.019Z"
   },
   {
    "duration": 421,
    "start_time": "2022-06-18T12:57:41.844Z"
   },
   {
    "duration": 823,
    "start_time": "2022-06-18T13:00:25.655Z"
   },
   {
    "duration": 652,
    "start_time": "2022-06-18T13:00:52.782Z"
   },
   {
    "duration": 553,
    "start_time": "2022-06-18T13:01:12.706Z"
   },
   {
    "duration": 497,
    "start_time": "2022-06-18T13:01:24.468Z"
   },
   {
    "duration": 458,
    "start_time": "2022-06-18T13:02:39.286Z"
   },
   {
    "duration": 16,
    "start_time": "2022-06-18T13:05:27.720Z"
   },
   {
    "duration": 8,
    "start_time": "2022-06-18T13:05:51.394Z"
   },
   {
    "duration": 401,
    "start_time": "2022-06-18T13:10:58.187Z"
   },
   {
    "duration": 647,
    "start_time": "2022-06-18T13:11:20.423Z"
   },
   {
    "duration": 422,
    "start_time": "2022-06-18T13:11:38.099Z"
   },
   {
    "duration": 11,
    "start_time": "2022-06-18T14:33:16.964Z"
   },
   {
    "duration": 3,
    "start_time": "2022-06-18T14:33:20.743Z"
   },
   {
    "duration": 3802,
    "start_time": "2022-06-18T14:33:21.366Z"
   },
   {
    "duration": 3,
    "start_time": "2022-06-18T14:36:52.451Z"
   },
   {
    "duration": 102,
    "start_time": "2022-06-18T14:36:53.374Z"
   },
   {
    "duration": 2,
    "start_time": "2022-06-18T14:37:33.517Z"
   },
   {
    "duration": 5653,
    "start_time": "2022-06-18T14:37:34.314Z"
   },
   {
    "duration": 3,
    "start_time": "2022-06-18T14:38:08.243Z"
   },
   {
    "duration": 158,
    "start_time": "2022-06-18T14:38:09.463Z"
   },
   {
    "duration": 3,
    "start_time": "2022-06-18T14:38:55.666Z"
   },
   {
    "duration": 233,
    "start_time": "2022-06-18T14:38:56.290Z"
   },
   {
    "duration": 13,
    "start_time": "2022-06-18T14:39:38.628Z"
   },
   {
    "duration": 238,
    "start_time": "2022-06-18T14:39:39.599Z"
   },
   {
    "duration": 6,
    "start_time": "2022-06-18T14:39:47.235Z"
   },
   {
    "duration": 232,
    "start_time": "2022-06-18T14:39:47.732Z"
   },
   {
    "duration": 378,
    "start_time": "2022-06-18T14:40:06.754Z"
   },
   {
    "duration": 423,
    "start_time": "2022-06-18T14:40:24.859Z"
   },
   {
    "duration": 387,
    "start_time": "2022-06-18T14:40:30.746Z"
   },
   {
    "duration": 3,
    "start_time": "2022-06-18T14:41:09.561Z"
   },
   {
    "duration": 3486,
    "start_time": "2022-06-18T14:41:10.147Z"
   },
   {
    "duration": 19,
    "start_time": "2022-06-18T14:57:38.738Z"
   },
   {
    "duration": 4,
    "start_time": "2022-06-18T14:57:45.393Z"
   },
   {
    "duration": 4,
    "start_time": "2022-06-18T15:18:29.141Z"
   },
   {
    "duration": 78,
    "start_time": "2022-06-18T15:18:29.781Z"
   },
   {
    "duration": 2,
    "start_time": "2022-06-18T15:18:55.568Z"
   },
   {
    "duration": 70,
    "start_time": "2022-06-18T15:18:56.475Z"
   },
   {
    "duration": 4,
    "start_time": "2022-06-18T15:19:02.919Z"
   },
   {
    "duration": 81,
    "start_time": "2022-06-18T15:19:03.442Z"
   },
   {
    "duration": 3,
    "start_time": "2022-06-18T15:19:31.117Z"
   },
   {
    "duration": 10907,
    "start_time": "2022-06-18T15:19:31.788Z"
   },
   {
    "duration": 3,
    "start_time": "2022-06-18T15:20:08.693Z"
   },
   {
    "duration": 9196,
    "start_time": "2022-06-18T15:20:09.323Z"
   },
   {
    "duration": 3,
    "start_time": "2022-06-18T15:29:03.051Z"
   },
   {
    "duration": 80,
    "start_time": "2022-06-18T15:29:03.698Z"
   },
   {
    "duration": 3,
    "start_time": "2022-06-18T15:29:23.778Z"
   },
   {
    "duration": 3,
    "start_time": "2022-06-18T15:29:48.800Z"
   },
   {
    "duration": 3,
    "start_time": "2022-06-18T15:30:36.043Z"
   },
   {
    "duration": 18,
    "start_time": "2022-06-18T15:30:36.047Z"
   },
   {
    "duration": 10,
    "start_time": "2022-06-18T15:30:36.067Z"
   },
   {
    "duration": 209,
    "start_time": "2022-06-18T15:30:36.079Z"
   },
   {
    "duration": 6,
    "start_time": "2022-06-18T15:30:36.290Z"
   },
   {
    "duration": 19,
    "start_time": "2022-06-18T15:30:36.298Z"
   },
   {
    "duration": 67,
    "start_time": "2022-06-18T15:30:36.319Z"
   },
   {
    "duration": 14,
    "start_time": "2022-06-18T15:30:36.388Z"
   },
   {
    "duration": 13,
    "start_time": "2022-06-18T15:30:36.405Z"
   },
   {
    "duration": 58,
    "start_time": "2022-06-18T15:30:36.420Z"
   },
   {
    "duration": 11,
    "start_time": "2022-06-18T15:30:36.479Z"
   },
   {
    "duration": 43,
    "start_time": "2022-06-18T15:30:36.492Z"
   },
   {
    "duration": 9,
    "start_time": "2022-06-18T15:30:36.536Z"
   },
   {
    "duration": 6,
    "start_time": "2022-06-18T15:30:36.546Z"
   },
   {
    "duration": 430,
    "start_time": "2022-06-18T15:30:36.553Z"
   },
   {
    "duration": 7,
    "start_time": "2022-06-18T15:30:36.984Z"
   },
   {
    "duration": 7,
    "start_time": "2022-06-18T15:30:36.993Z"
   },
   {
    "duration": 3732,
    "start_time": "2022-06-18T15:30:37.002Z"
   },
   {
    "duration": 3,
    "start_time": "2022-06-18T15:30:40.736Z"
   },
   {
    "duration": 370,
    "start_time": "2022-06-18T15:30:40.741Z"
   },
   {
    "duration": 2,
    "start_time": "2022-06-18T15:30:41.113Z"
   },
   {
    "duration": 1180,
    "start_time": "2022-06-18T15:31:46.525Z"
   },
   {
    "duration": 3,
    "start_time": "2022-06-18T15:31:47.707Z"
   },
   {
    "duration": 167,
    "start_time": "2022-06-18T15:31:47.712Z"
   },
   {
    "duration": 233,
    "start_time": "2022-06-18T15:31:47.881Z"
   },
   {
    "duration": 5,
    "start_time": "2022-06-18T15:31:48.115Z"
   },
   {
    "duration": 12,
    "start_time": "2022-06-18T15:31:48.121Z"
   },
   {
    "duration": 48,
    "start_time": "2022-06-18T15:31:48.135Z"
   },
   {
    "duration": 10,
    "start_time": "2022-06-18T15:31:48.184Z"
   },
   {
    "duration": 6,
    "start_time": "2022-06-18T15:31:48.195Z"
   },
   {
    "duration": 43,
    "start_time": "2022-06-18T15:31:48.204Z"
   },
   {
    "duration": 10,
    "start_time": "2022-06-18T15:31:48.248Z"
   },
   {
    "duration": 39,
    "start_time": "2022-06-18T15:31:48.259Z"
   },
   {
    "duration": 8,
    "start_time": "2022-06-18T15:31:48.300Z"
   },
   {
    "duration": 5,
    "start_time": "2022-06-18T15:31:48.309Z"
   },
   {
    "duration": 455,
    "start_time": "2022-06-18T15:31:48.316Z"
   },
   {
    "duration": 8,
    "start_time": "2022-06-18T15:31:48.773Z"
   },
   {
    "duration": 5,
    "start_time": "2022-06-18T15:31:48.783Z"
   },
   {
    "duration": 4333,
    "start_time": "2022-06-18T15:31:48.791Z"
   },
   {
    "duration": 3,
    "start_time": "2022-06-18T15:31:53.126Z"
   },
   {
    "duration": 395,
    "start_time": "2022-06-18T15:31:53.130Z"
   },
   {
    "duration": 3,
    "start_time": "2022-06-18T15:31:53.527Z"
   },
   {
    "duration": 26130,
    "start_time": "2022-06-18T15:31:53.531Z"
   },
   {
    "duration": 3,
    "start_time": "2022-06-18T15:32:19.663Z"
   },
   {
    "duration": 3,
    "start_time": "2022-06-18T15:32:55.435Z"
   },
   {
    "duration": 3,
    "start_time": "2022-06-18T15:32:55.445Z"
   },
   {
    "duration": 7,
    "start_time": "2022-06-18T15:32:55.450Z"
   },
   {
    "duration": 184,
    "start_time": "2022-06-18T15:32:55.458Z"
   },
   {
    "duration": 5,
    "start_time": "2022-06-18T15:32:55.644Z"
   },
   {
    "duration": 13,
    "start_time": "2022-06-18T15:32:55.650Z"
   },
   {
    "duration": 49,
    "start_time": "2022-06-18T15:32:55.664Z"
   },
   {
    "duration": 10,
    "start_time": "2022-06-18T15:32:55.714Z"
   },
   {
    "duration": 7,
    "start_time": "2022-06-18T15:32:55.725Z"
   },
   {
    "duration": 44,
    "start_time": "2022-06-18T15:32:55.735Z"
   },
   {
    "duration": 10,
    "start_time": "2022-06-18T15:32:55.781Z"
   },
   {
    "duration": 43,
    "start_time": "2022-06-18T15:32:55.792Z"
   },
   {
    "duration": 11,
    "start_time": "2022-06-18T15:32:55.837Z"
   },
   {
    "duration": 6,
    "start_time": "2022-06-18T15:32:55.850Z"
   },
   {
    "duration": 475,
    "start_time": "2022-06-18T15:32:55.858Z"
   },
   {
    "duration": 8,
    "start_time": "2022-06-18T15:32:56.335Z"
   },
   {
    "duration": 21,
    "start_time": "2022-06-18T15:32:56.345Z"
   },
   {
    "duration": 3786,
    "start_time": "2022-06-18T15:32:56.369Z"
   },
   {
    "duration": 3,
    "start_time": "2022-06-18T15:33:00.157Z"
   },
   {
    "duration": 393,
    "start_time": "2022-06-18T15:33:00.161Z"
   },
   {
    "duration": 3,
    "start_time": "2022-06-18T15:33:00.555Z"
   },
   {
    "duration": 26441,
    "start_time": "2022-06-18T15:33:00.559Z"
   },
   {
    "duration": 2,
    "start_time": "2022-06-18T15:33:27.002Z"
   },
   {
    "duration": 3,
    "start_time": "2022-06-18T15:35:19.434Z"
   },
   {
    "duration": 24553,
    "start_time": "2022-06-18T15:35:20.258Z"
   },
   {
    "duration": 8,
    "start_time": "2022-06-18T15:36:06.405Z"
   },
   {
    "duration": 16,
    "start_time": "2022-06-18T16:04:48.571Z"
   },
   {
    "duration": 81,
    "start_time": "2022-06-18T16:04:59.701Z"
   },
   {
    "duration": 21390,
    "start_time": "2022-06-18T16:06:19.445Z"
   },
   {
    "duration": 18,
    "start_time": "2022-06-18T16:15:22.939Z"
   },
   {
    "duration": 385,
    "start_time": "2022-06-18T16:16:00.108Z"
   },
   {
    "duration": 38,
    "start_time": "2022-06-18T16:16:56.983Z"
   },
   {
    "duration": 13666,
    "start_time": "2022-06-18T16:36:42.697Z"
   },
   {
    "duration": 2,
    "start_time": "2022-06-18T16:37:42.596Z"
   },
   {
    "duration": 32,
    "start_time": "2022-06-18T16:47:02.559Z"
   },
   {
    "duration": 25,
    "start_time": "2022-06-18T17:08:59.279Z"
   },
   {
    "duration": 194,
    "start_time": "2022-06-18T17:16:26.110Z"
   },
   {
    "duration": 50,
    "start_time": "2022-06-19T09:51:07.081Z"
   },
   {
    "duration": 1746,
    "start_time": "2022-06-19T09:51:11.476Z"
   },
   {
    "duration": 6,
    "start_time": "2022-06-19T09:51:13.224Z"
   },
   {
    "duration": 54,
    "start_time": "2022-06-19T09:51:13.232Z"
   },
   {
    "duration": 243,
    "start_time": "2022-06-19T09:51:13.288Z"
   },
   {
    "duration": 5,
    "start_time": "2022-06-19T09:51:13.533Z"
   },
   {
    "duration": 11,
    "start_time": "2022-06-19T09:51:13.539Z"
   },
   {
    "duration": 71,
    "start_time": "2022-06-19T09:51:13.552Z"
   },
   {
    "duration": 9,
    "start_time": "2022-06-19T09:51:13.625Z"
   },
   {
    "duration": 8,
    "start_time": "2022-06-19T09:51:13.636Z"
   },
   {
    "duration": 60,
    "start_time": "2022-06-19T09:51:13.648Z"
   },
   {
    "duration": 11,
    "start_time": "2022-06-19T09:51:13.710Z"
   },
   {
    "duration": 51,
    "start_time": "2022-06-19T09:51:13.722Z"
   },
   {
    "duration": 13,
    "start_time": "2022-06-19T09:51:13.777Z"
   },
   {
    "duration": 8,
    "start_time": "2022-06-19T09:51:13.792Z"
   },
   {
    "duration": 515,
    "start_time": "2022-06-19T09:51:13.802Z"
   },
   {
    "duration": 7,
    "start_time": "2022-06-19T09:51:14.318Z"
   },
   {
    "duration": 5,
    "start_time": "2022-06-19T09:51:14.326Z"
   },
   {
    "duration": 4029,
    "start_time": "2022-06-19T09:51:14.332Z"
   },
   {
    "duration": 4,
    "start_time": "2022-06-19T09:51:18.371Z"
   },
   {
    "duration": 502,
    "start_time": "2022-06-19T09:51:18.376Z"
   },
   {
    "duration": 3,
    "start_time": "2022-06-19T09:51:18.882Z"
   },
   {
    "duration": 4,
    "start_time": "2022-06-19T09:51:43.915Z"
   },
   {
    "duration": 59,
    "start_time": "2022-06-19T09:51:43.921Z"
   },
   {
    "duration": 3,
    "start_time": "2022-06-19T09:51:43.981Z"
   },
   {
    "duration": 9,
    "start_time": "2022-06-19T09:51:43.985Z"
   },
   {
    "duration": 8,
    "start_time": "2022-06-19T09:51:43.995Z"
   },
   {
    "duration": 6,
    "start_time": "2022-06-19T09:51:44.006Z"
   },
   {
    "duration": 160,
    "start_time": "2022-06-19T09:51:44.013Z"
   },
   {
    "duration": 76,
    "start_time": "2022-06-19T09:51:44.174Z"
   },
   {
    "duration": 0,
    "start_time": "2022-06-19T09:51:44.251Z"
   },
   {
    "duration": 58,
    "start_time": "2022-06-19T09:56:04.776Z"
   },
   {
    "duration": 64,
    "start_time": "2022-06-19T09:56:19.715Z"
   },
   {
    "duration": 5,
    "start_time": "2022-06-19T09:56:56.257Z"
   },
   {
    "duration": 30,
    "start_time": "2022-06-19T09:56:56.876Z"
   },
   {
    "duration": 9,
    "start_time": "2022-06-19T09:57:52.497Z"
   },
   {
    "duration": 4,
    "start_time": "2022-06-19T09:58:13.114Z"
   },
   {
    "duration": 13,
    "start_time": "2022-06-19T09:58:19.948Z"
   },
   {
    "duration": 5,
    "start_time": "2022-06-19T09:58:43.049Z"
   },
   {
    "duration": 4,
    "start_time": "2022-06-19T10:01:25.544Z"
   },
   {
    "duration": 31,
    "start_time": "2022-06-19T10:01:25.550Z"
   },
   {
    "duration": 11,
    "start_time": "2022-06-19T10:01:25.583Z"
   },
   {
    "duration": 245,
    "start_time": "2022-06-19T10:01:25.596Z"
   },
   {
    "duration": 4,
    "start_time": "2022-06-19T10:01:25.843Z"
   },
   {
    "duration": 17,
    "start_time": "2022-06-19T10:01:25.849Z"
   },
   {
    "duration": 68,
    "start_time": "2022-06-19T10:01:25.867Z"
   },
   {
    "duration": 11,
    "start_time": "2022-06-19T10:01:25.937Z"
   },
   {
    "duration": 5,
    "start_time": "2022-06-19T10:01:25.950Z"
   },
   {
    "duration": 62,
    "start_time": "2022-06-19T10:01:25.956Z"
   },
   {
    "duration": 11,
    "start_time": "2022-06-19T10:01:26.019Z"
   },
   {
    "duration": 58,
    "start_time": "2022-06-19T10:01:26.031Z"
   },
   {
    "duration": 13,
    "start_time": "2022-06-19T10:01:26.091Z"
   },
   {
    "duration": 7,
    "start_time": "2022-06-19T10:01:26.106Z"
   },
   {
    "duration": 541,
    "start_time": "2022-06-19T10:01:26.115Z"
   },
   {
    "duration": 21,
    "start_time": "2022-06-19T10:01:26.658Z"
   },
   {
    "duration": 4,
    "start_time": "2022-06-19T10:01:26.681Z"
   },
   {
    "duration": 4219,
    "start_time": "2022-06-19T10:01:26.687Z"
   },
   {
    "duration": 3,
    "start_time": "2022-06-19T10:01:30.908Z"
   },
   {
    "duration": 476,
    "start_time": "2022-06-19T10:01:30.912Z"
   },
   {
    "duration": 3,
    "start_time": "2022-06-19T10:01:31.390Z"
   },
   {
    "duration": 25334,
    "start_time": "2022-06-19T10:01:31.395Z"
   },
   {
    "duration": 5,
    "start_time": "2022-06-19T10:01:56.731Z"
   },
   {
    "duration": 53,
    "start_time": "2022-06-19T10:01:56.739Z"
   },
   {
    "duration": 6,
    "start_time": "2022-06-19T10:01:56.794Z"
   },
   {
    "duration": 10,
    "start_time": "2022-06-19T10:01:56.802Z"
   },
   {
    "duration": 9,
    "start_time": "2022-06-19T10:01:56.814Z"
   },
   {
    "duration": 5,
    "start_time": "2022-06-19T10:01:56.825Z"
   },
   {
    "duration": 51,
    "start_time": "2022-06-19T10:01:56.832Z"
   },
   {
    "duration": 3,
    "start_time": "2022-06-19T10:01:56.885Z"
   },
   {
    "duration": 17,
    "start_time": "2022-06-19T10:01:56.890Z"
   },
   {
    "duration": 15,
    "start_time": "2022-06-19T10:01:56.909Z"
   },
   {
    "duration": 0,
    "start_time": "2022-06-19T10:01:56.925Z"
   },
   {
    "duration": 0,
    "start_time": "2022-06-19T10:01:56.927Z"
   },
   {
    "duration": 0,
    "start_time": "2022-06-19T10:01:56.928Z"
   },
   {
    "duration": 0,
    "start_time": "2022-06-19T10:01:56.929Z"
   },
   {
    "duration": 107,
    "start_time": "2022-06-19T10:02:43.622Z"
   },
   {
    "duration": 5,
    "start_time": "2022-06-19T10:02:43.731Z"
   },
   {
    "duration": 9,
    "start_time": "2022-06-19T10:02:43.738Z"
   },
   {
    "duration": 284,
    "start_time": "2022-06-19T10:02:43.749Z"
   },
   {
    "duration": 5,
    "start_time": "2022-06-19T10:02:44.034Z"
   },
   {
    "duration": 17,
    "start_time": "2022-06-19T10:02:44.041Z"
   },
   {
    "duration": 86,
    "start_time": "2022-06-19T10:02:44.060Z"
   },
   {
    "duration": 17,
    "start_time": "2022-06-19T10:02:44.149Z"
   },
   {
    "duration": 27,
    "start_time": "2022-06-19T10:02:44.169Z"
   },
   {
    "duration": 54,
    "start_time": "2022-06-19T10:02:44.200Z"
   },
   {
    "duration": 25,
    "start_time": "2022-06-19T10:02:44.255Z"
   },
   {
    "duration": 68,
    "start_time": "2022-06-19T10:02:44.282Z"
   },
   {
    "duration": 16,
    "start_time": "2022-06-19T10:02:44.351Z"
   },
   {
    "duration": 23,
    "start_time": "2022-06-19T10:02:44.372Z"
   },
   {
    "duration": 506,
    "start_time": "2022-06-19T10:02:44.397Z"
   },
   {
    "duration": 7,
    "start_time": "2022-06-19T10:02:44.906Z"
   },
   {
    "duration": 9,
    "start_time": "2022-06-19T10:02:44.915Z"
   },
   {
    "duration": 4039,
    "start_time": "2022-06-19T10:02:44.925Z"
   },
   {
    "duration": 6,
    "start_time": "2022-06-19T10:02:48.965Z"
   },
   {
    "duration": 479,
    "start_time": "2022-06-19T10:02:48.984Z"
   },
   {
    "duration": 7,
    "start_time": "2022-06-19T10:02:49.468Z"
   },
   {
    "duration": 26798,
    "start_time": "2022-06-19T10:02:49.476Z"
   },
   {
    "duration": 6,
    "start_time": "2022-06-19T10:03:16.276Z"
   },
   {
    "duration": 67,
    "start_time": "2022-06-19T10:03:16.287Z"
   },
   {
    "duration": 7,
    "start_time": "2022-06-19T10:03:16.356Z"
   },
   {
    "duration": 37,
    "start_time": "2022-06-19T10:03:16.365Z"
   },
   {
    "duration": 7,
    "start_time": "2022-06-19T10:03:16.404Z"
   },
   {
    "duration": 5,
    "start_time": "2022-06-19T10:03:16.415Z"
   },
   {
    "duration": 60,
    "start_time": "2022-06-19T10:03:16.422Z"
   },
   {
    "duration": 4,
    "start_time": "2022-06-19T10:03:16.486Z"
   },
   {
    "duration": 8,
    "start_time": "2022-06-19T10:03:16.493Z"
   },
   {
    "duration": 21,
    "start_time": "2022-06-19T10:03:16.504Z"
   },
   {
    "duration": 0,
    "start_time": "2022-06-19T10:03:16.526Z"
   },
   {
    "duration": 0,
    "start_time": "2022-06-19T10:03:16.528Z"
   },
   {
    "duration": 0,
    "start_time": "2022-06-19T10:03:16.529Z"
   },
   {
    "duration": 0,
    "start_time": "2022-06-19T10:03:16.530Z"
   },
   {
    "duration": 8,
    "start_time": "2022-06-19T10:03:46.757Z"
   },
   {
    "duration": 31,
    "start_time": "2022-06-19T10:03:46.767Z"
   },
   {
    "duration": 11,
    "start_time": "2022-06-19T10:03:46.800Z"
   },
   {
    "duration": 332,
    "start_time": "2022-06-19T10:03:46.812Z"
   },
   {
    "duration": 5,
    "start_time": "2022-06-19T10:03:47.147Z"
   },
   {
    "duration": 43,
    "start_time": "2022-06-19T10:03:47.154Z"
   },
   {
    "duration": 129,
    "start_time": "2022-06-19T10:03:47.200Z"
   },
   {
    "duration": 13,
    "start_time": "2022-06-19T10:03:47.331Z"
   },
   {
    "duration": 50,
    "start_time": "2022-06-19T10:03:47.346Z"
   },
   {
    "duration": 105,
    "start_time": "2022-06-19T10:03:47.398Z"
   },
   {
    "duration": 15,
    "start_time": "2022-06-19T10:03:47.505Z"
   },
   {
    "duration": 68,
    "start_time": "2022-06-19T10:03:47.523Z"
   },
   {
    "duration": 11,
    "start_time": "2022-06-19T10:03:47.593Z"
   },
   {
    "duration": 18,
    "start_time": "2022-06-19T10:03:47.608Z"
   },
   {
    "duration": 676,
    "start_time": "2022-06-19T10:03:47.629Z"
   },
   {
    "duration": 7,
    "start_time": "2022-06-19T10:03:48.307Z"
   },
   {
    "duration": 24,
    "start_time": "2022-06-19T10:03:48.316Z"
   },
   {
    "duration": 5246,
    "start_time": "2022-06-19T10:03:48.342Z"
   },
   {
    "duration": 2,
    "start_time": "2022-06-19T10:03:53.591Z"
   },
   {
    "duration": 552,
    "start_time": "2022-06-19T10:03:53.595Z"
   },
   {
    "duration": 3,
    "start_time": "2022-06-19T10:03:54.149Z"
   },
   {
    "duration": 28167,
    "start_time": "2022-06-19T10:03:54.154Z"
   },
   {
    "duration": 4,
    "start_time": "2022-06-19T10:04:22.323Z"
   },
   {
    "duration": 58,
    "start_time": "2022-06-19T10:04:22.329Z"
   },
   {
    "duration": 4,
    "start_time": "2022-06-19T10:04:22.389Z"
   },
   {
    "duration": 13,
    "start_time": "2022-06-19T10:04:22.395Z"
   },
   {
    "duration": 9,
    "start_time": "2022-06-19T10:04:22.410Z"
   },
   {
    "duration": 6,
    "start_time": "2022-06-19T10:04:22.421Z"
   },
   {
    "duration": 56,
    "start_time": "2022-06-19T10:04:22.429Z"
   },
   {
    "duration": 8,
    "start_time": "2022-06-19T10:04:22.487Z"
   },
   {
    "duration": 5,
    "start_time": "2022-06-19T10:04:22.498Z"
   },
   {
    "duration": 10,
    "start_time": "2022-06-19T10:04:22.505Z"
   },
   {
    "duration": 14,
    "start_time": "2022-06-19T10:04:22.517Z"
   },
   {
    "duration": 0,
    "start_time": "2022-06-19T10:04:22.533Z"
   },
   {
    "duration": 0,
    "start_time": "2022-06-19T10:04:22.535Z"
   },
   {
    "duration": 0,
    "start_time": "2022-06-19T10:04:22.536Z"
   },
   {
    "duration": 11,
    "start_time": "2022-06-19T10:04:47.558Z"
   },
   {
    "duration": 1535,
    "start_time": "2022-06-19T10:17:40.015Z"
   },
   {
    "duration": 185,
    "start_time": "2022-06-19T10:18:29.752Z"
   },
   {
    "duration": 4,
    "start_time": "2022-06-19T10:18:45.252Z"
   },
   {
    "duration": 3,
    "start_time": "2022-06-19T10:18:48.597Z"
   },
   {
    "duration": 2,
    "start_time": "2022-06-19T10:18:49.243Z"
   },
   {
    "duration": 3,
    "start_time": "2022-06-19T10:18:49.815Z"
   },
   {
    "duration": 6,
    "start_time": "2022-06-19T10:18:51.399Z"
   },
   {
    "duration": 3,
    "start_time": "2022-06-19T10:18:58.250Z"
   },
   {
    "duration": 4,
    "start_time": "2022-06-19T10:19:00.459Z"
   },
   {
    "duration": 1836,
    "start_time": "2022-06-19T12:14:27.456Z"
   },
   {
    "duration": 106,
    "start_time": "2022-06-19T12:17:45.412Z"
   },
   {
    "duration": 177,
    "start_time": "2022-06-19T12:18:47.155Z"
   },
   {
    "duration": 11,
    "start_time": "2022-06-19T12:19:37.236Z"
   },
   {
    "duration": 38,
    "start_time": "2022-06-19T12:19:37.252Z"
   },
   {
    "duration": 292,
    "start_time": "2022-06-19T12:19:37.293Z"
   },
   {
    "duration": 306,
    "start_time": "2022-06-19T12:19:37.590Z"
   },
   {
    "duration": 6,
    "start_time": "2022-06-19T12:19:37.898Z"
   },
   {
    "duration": 32,
    "start_time": "2022-06-19T12:19:37.906Z"
   },
   {
    "duration": 126,
    "start_time": "2022-06-19T12:19:37.940Z"
   },
   {
    "duration": 19,
    "start_time": "2022-06-19T12:19:38.072Z"
   },
   {
    "duration": 11,
    "start_time": "2022-06-19T12:19:38.094Z"
   },
   {
    "duration": 85,
    "start_time": "2022-06-19T12:19:38.108Z"
   },
   {
    "duration": 13,
    "start_time": "2022-06-19T12:19:38.195Z"
   },
   {
    "duration": 72,
    "start_time": "2022-06-19T12:19:38.210Z"
   },
   {
    "duration": 10,
    "start_time": "2022-06-19T12:19:38.284Z"
   },
   {
    "duration": 20,
    "start_time": "2022-06-19T12:19:38.296Z"
   },
   {
    "duration": 554,
    "start_time": "2022-06-19T12:19:38.321Z"
   },
   {
    "duration": 12,
    "start_time": "2022-06-19T12:19:38.877Z"
   },
   {
    "duration": 3,
    "start_time": "2022-06-19T12:19:38.891Z"
   },
   {
    "duration": 5045,
    "start_time": "2022-06-19T12:19:38.896Z"
   },
   {
    "duration": 2,
    "start_time": "2022-06-19T12:19:43.943Z"
   },
   {
    "duration": 537,
    "start_time": "2022-06-19T12:19:43.949Z"
   },
   {
    "duration": 4,
    "start_time": "2022-06-19T12:19:44.488Z"
   },
   {
    "duration": 26695,
    "start_time": "2022-06-19T12:19:44.495Z"
   },
   {
    "duration": 5,
    "start_time": "2022-06-19T12:20:11.193Z"
   },
   {
    "duration": 50,
    "start_time": "2022-06-19T12:20:11.200Z"
   },
   {
    "duration": 28,
    "start_time": "2022-06-19T12:20:11.253Z"
   },
   {
    "duration": 7,
    "start_time": "2022-06-19T12:20:11.283Z"
   },
   {
    "duration": 195,
    "start_time": "2022-06-19T12:20:11.291Z"
   },
   {
    "duration": 18,
    "start_time": "2022-06-19T12:20:11.491Z"
   },
   {
    "duration": 0,
    "start_time": "2022-06-19T12:20:11.510Z"
   },
   {
    "duration": 0,
    "start_time": "2022-06-19T12:20:11.512Z"
   },
   {
    "duration": 0,
    "start_time": "2022-06-19T12:20:11.522Z"
   },
   {
    "duration": 0,
    "start_time": "2022-06-19T12:20:11.525Z"
   },
   {
    "duration": 0,
    "start_time": "2022-06-19T12:20:11.526Z"
   },
   {
    "duration": 0,
    "start_time": "2022-06-19T12:20:11.527Z"
   },
   {
    "duration": 0,
    "start_time": "2022-06-19T12:20:11.528Z"
   },
   {
    "duration": 0,
    "start_time": "2022-06-19T12:20:11.529Z"
   },
   {
    "duration": 0,
    "start_time": "2022-06-19T12:20:11.531Z"
   },
   {
    "duration": 28,
    "start_time": "2022-06-19T12:20:45.072Z"
   },
   {
    "duration": 209,
    "start_time": "2022-06-19T12:21:04.795Z"
   },
   {
    "duration": 308,
    "start_time": "2022-06-19T12:21:13.029Z"
   },
   {
    "duration": 304,
    "start_time": "2022-06-19T12:21:19.100Z"
   },
   {
    "duration": 666,
    "start_time": "2022-06-19T12:21:19.724Z"
   },
   {
    "duration": 25,
    "start_time": "2022-06-19T12:21:24.688Z"
   },
   {
    "duration": 87,
    "start_time": "2022-06-19T12:21:24.720Z"
   },
   {
    "duration": 28,
    "start_time": "2022-06-19T12:21:24.810Z"
   },
   {
    "duration": 423,
    "start_time": "2022-06-19T12:21:24.840Z"
   },
   {
    "duration": 14,
    "start_time": "2022-06-19T12:21:25.271Z"
   },
   {
    "duration": 23,
    "start_time": "2022-06-19T12:21:25.287Z"
   },
   {
    "duration": 69,
    "start_time": "2022-06-19T12:21:25.312Z"
   },
   {
    "duration": 14,
    "start_time": "2022-06-19T12:21:25.383Z"
   },
   {
    "duration": 21,
    "start_time": "2022-06-19T12:21:25.399Z"
   },
   {
    "duration": 138,
    "start_time": "2022-06-19T12:21:25.422Z"
   },
   {
    "duration": 16,
    "start_time": "2022-06-19T12:21:25.567Z"
   },
   {
    "duration": 98,
    "start_time": "2022-06-19T12:21:25.585Z"
   },
   {
    "duration": 20,
    "start_time": "2022-06-19T12:21:25.687Z"
   },
   {
    "duration": 26,
    "start_time": "2022-06-19T12:21:25.714Z"
   },
   {
    "duration": 559,
    "start_time": "2022-06-19T12:21:25.749Z"
   },
   {
    "duration": 13,
    "start_time": "2022-06-19T12:21:26.313Z"
   },
   {
    "duration": 50,
    "start_time": "2022-06-19T12:21:26.332Z"
   },
   {
    "duration": 5191,
    "start_time": "2022-06-19T12:21:26.390Z"
   },
   {
    "duration": 20,
    "start_time": "2022-06-19T12:21:31.585Z"
   },
   {
    "duration": 529,
    "start_time": "2022-06-19T12:21:31.619Z"
   },
   {
    "duration": 5,
    "start_time": "2022-06-19T12:21:32.154Z"
   },
   {
    "duration": 25552,
    "start_time": "2022-06-19T12:21:32.164Z"
   },
   {
    "duration": 4,
    "start_time": "2022-06-19T12:21:57.719Z"
   },
   {
    "duration": 180,
    "start_time": "2022-06-19T12:21:57.725Z"
   },
   {
    "duration": 156,
    "start_time": "2022-06-19T12:21:57.915Z"
   },
   {
    "duration": 43,
    "start_time": "2022-06-19T12:21:58.074Z"
   },
   {
    "duration": 405,
    "start_time": "2022-06-19T12:21:58.121Z"
   },
   {
    "duration": 821,
    "start_time": "2022-06-19T12:21:58.530Z"
   },
   {
    "duration": 12,
    "start_time": "2022-06-19T12:21:59.359Z"
   },
   {
    "duration": 10,
    "start_time": "2022-06-19T12:21:59.386Z"
   },
   {
    "duration": 13,
    "start_time": "2022-06-19T12:21:59.398Z"
   },
   {
    "duration": 13,
    "start_time": "2022-06-19T12:21:59.413Z"
   },
   {
    "duration": 40,
    "start_time": "2022-06-19T12:21:59.428Z"
   },
   {
    "duration": 14,
    "start_time": "2022-06-19T12:21:59.470Z"
   },
   {
    "duration": 16,
    "start_time": "2022-06-19T12:21:59.486Z"
   },
   {
    "duration": 43,
    "start_time": "2022-06-19T12:21:59.505Z"
   },
   {
    "duration": 23,
    "start_time": "2022-06-19T12:21:59.552Z"
   },
   {
    "duration": 65,
    "start_time": "2022-06-19T12:22:41.330Z"
   },
   {
    "duration": 58,
    "start_time": "2022-06-19T12:22:41.398Z"
   },
   {
    "duration": 50,
    "start_time": "2022-06-19T12:22:41.463Z"
   },
   {
    "duration": 464,
    "start_time": "2022-06-19T12:22:41.518Z"
   },
   {
    "duration": 8,
    "start_time": "2022-06-19T12:22:41.986Z"
   },
   {
    "duration": 93,
    "start_time": "2022-06-19T12:22:41.996Z"
   },
   {
    "duration": 165,
    "start_time": "2022-06-19T12:22:42.091Z"
   },
   {
    "duration": 23,
    "start_time": "2022-06-19T12:22:42.258Z"
   },
   {
    "duration": 46,
    "start_time": "2022-06-19T12:22:42.286Z"
   },
   {
    "duration": 127,
    "start_time": "2022-06-19T12:22:42.334Z"
   },
   {
    "duration": 17,
    "start_time": "2022-06-19T12:22:42.470Z"
   },
   {
    "duration": 161,
    "start_time": "2022-06-19T12:22:42.489Z"
   },
   {
    "duration": 30,
    "start_time": "2022-06-19T12:22:42.658Z"
   },
   {
    "duration": 115,
    "start_time": "2022-06-19T12:22:42.696Z"
   },
   {
    "duration": 761,
    "start_time": "2022-06-19T12:22:42.813Z"
   },
   {
    "duration": 13,
    "start_time": "2022-06-19T12:22:43.583Z"
   },
   {
    "duration": 93,
    "start_time": "2022-06-19T12:22:43.598Z"
   },
   {
    "duration": 5936,
    "start_time": "2022-06-19T12:22:43.694Z"
   },
   {
    "duration": 6,
    "start_time": "2022-06-19T12:22:49.632Z"
   },
   {
    "duration": 745,
    "start_time": "2022-06-19T12:22:49.639Z"
   },
   {
    "duration": 5,
    "start_time": "2022-06-19T12:22:50.390Z"
   },
   {
    "duration": 34720,
    "start_time": "2022-06-19T12:22:50.404Z"
   },
   {
    "duration": 9,
    "start_time": "2022-06-19T12:23:25.133Z"
   },
   {
    "duration": 72,
    "start_time": "2022-06-19T12:23:25.144Z"
   },
   {
    "duration": 5,
    "start_time": "2022-06-19T12:23:25.218Z"
   },
   {
    "duration": 61,
    "start_time": "2022-06-19T12:23:25.227Z"
   },
   {
    "duration": 404,
    "start_time": "2022-06-19T12:23:25.291Z"
   },
   {
    "duration": 947,
    "start_time": "2022-06-19T12:23:25.705Z"
   },
   {
    "duration": 3,
    "start_time": "2022-06-19T12:23:26.654Z"
   },
   {
    "duration": 47,
    "start_time": "2022-06-19T12:23:26.659Z"
   },
   {
    "duration": 25,
    "start_time": "2022-06-19T12:23:26.708Z"
   },
   {
    "duration": 36,
    "start_time": "2022-06-19T12:23:26.737Z"
   },
   {
    "duration": 24,
    "start_time": "2022-06-19T12:23:26.776Z"
   },
   {
    "duration": 17,
    "start_time": "2022-06-19T12:23:26.803Z"
   },
   {
    "duration": 42,
    "start_time": "2022-06-19T12:23:26.826Z"
   },
   {
    "duration": 10,
    "start_time": "2022-06-19T12:23:26.871Z"
   },
   {
    "duration": 391659,
    "start_time": "2022-06-19T12:23:26.884Z"
   },
   {
    "duration": 0,
    "start_time": "2022-06-19T12:29:58.547Z"
   },
   {
    "duration": 479,
    "start_time": "2022-06-19T12:39:07.865Z"
   },
   {
    "duration": 69,
    "start_time": "2022-06-19T12:39:36.720Z"
   },
   {
    "duration": 13,
    "start_time": "2022-06-19T12:40:30.709Z"
   },
   {
    "duration": 53,
    "start_time": "2022-06-19T12:40:30.724Z"
   },
   {
    "duration": 47,
    "start_time": "2022-06-19T12:40:30.779Z"
   },
   {
    "duration": 638,
    "start_time": "2022-06-19T12:40:30.829Z"
   },
   {
    "duration": 11,
    "start_time": "2022-06-19T12:40:31.470Z"
   },
   {
    "duration": 29,
    "start_time": "2022-06-19T12:40:31.484Z"
   },
   {
    "duration": 127,
    "start_time": "2022-06-19T12:40:31.515Z"
   },
   {
    "duration": 21,
    "start_time": "2022-06-19T12:40:31.650Z"
   },
   {
    "duration": 15,
    "start_time": "2022-06-19T12:40:31.674Z"
   },
   {
    "duration": 111,
    "start_time": "2022-06-19T12:40:31.694Z"
   },
   {
    "duration": 20,
    "start_time": "2022-06-19T12:40:31.810Z"
   },
   {
    "duration": 131,
    "start_time": "2022-06-19T12:40:31.832Z"
   },
   {
    "duration": 18,
    "start_time": "2022-06-19T12:40:31.968Z"
   },
   {
    "duration": 30,
    "start_time": "2022-06-19T12:40:31.989Z"
   },
   {
    "duration": 597,
    "start_time": "2022-06-19T12:40:32.022Z"
   },
   {
    "duration": 11,
    "start_time": "2022-06-19T12:40:32.620Z"
   },
   {
    "duration": 11,
    "start_time": "2022-06-19T12:40:32.634Z"
   },
   {
    "duration": 6194,
    "start_time": "2022-06-19T12:40:32.647Z"
   },
   {
    "duration": 9,
    "start_time": "2022-06-19T12:40:38.843Z"
   },
   {
    "duration": 480,
    "start_time": "2022-06-19T12:40:38.855Z"
   },
   {
    "duration": 5,
    "start_time": "2022-06-19T12:40:39.339Z"
   },
   {
    "duration": 26846,
    "start_time": "2022-06-19T12:40:39.346Z"
   },
   {
    "duration": 7,
    "start_time": "2022-06-19T12:41:06.194Z"
   },
   {
    "duration": 77,
    "start_time": "2022-06-19T12:41:06.203Z"
   },
   {
    "duration": 5,
    "start_time": "2022-06-19T12:41:06.283Z"
   },
   {
    "duration": 19,
    "start_time": "2022-06-19T12:41:06.290Z"
   },
   {
    "duration": 100,
    "start_time": "2022-06-19T12:41:06.313Z"
   },
   {
    "duration": 450,
    "start_time": "2022-06-19T12:41:06.417Z"
   },
   {
    "duration": 914,
    "start_time": "2022-06-19T12:41:06.869Z"
   },
   {
    "duration": 6,
    "start_time": "2022-06-19T12:41:07.785Z"
   },
   {
    "duration": 10,
    "start_time": "2022-06-19T12:41:07.794Z"
   },
   {
    "duration": 15,
    "start_time": "2022-06-19T12:41:07.806Z"
   },
   {
    "duration": 36,
    "start_time": "2022-06-19T12:41:07.837Z"
   },
   {
    "duration": 13,
    "start_time": "2022-06-19T12:41:07.874Z"
   },
   {
    "duration": 16,
    "start_time": "2022-06-19T12:41:07.890Z"
   },
   {
    "duration": 64,
    "start_time": "2022-06-19T12:41:07.909Z"
   },
   {
    "duration": 42,
    "start_time": "2022-06-19T12:41:07.975Z"
   },
   {
    "duration": 2424,
    "start_time": "2022-06-19T12:42:48.690Z"
   },
   {
    "duration": 5,
    "start_time": "2022-06-19T12:42:51.117Z"
   },
   {
    "duration": 653,
    "start_time": "2022-06-19T12:42:51.124Z"
   },
   {
    "duration": 357,
    "start_time": "2022-06-19T12:42:51.779Z"
   },
   {
    "duration": 6,
    "start_time": "2022-06-19T12:42:52.138Z"
   },
   {
    "duration": 33,
    "start_time": "2022-06-19T12:42:52.145Z"
   },
   {
    "duration": 87,
    "start_time": "2022-06-19T12:42:52.179Z"
   },
   {
    "duration": 15,
    "start_time": "2022-06-19T12:42:52.268Z"
   },
   {
    "duration": 32,
    "start_time": "2022-06-19T12:42:52.285Z"
   },
   {
    "duration": 121,
    "start_time": "2022-06-19T12:42:52.319Z"
   },
   {
    "duration": 22,
    "start_time": "2022-06-19T12:42:52.442Z"
   },
   {
    "duration": 89,
    "start_time": "2022-06-19T12:42:52.467Z"
   },
   {
    "duration": 13,
    "start_time": "2022-06-19T12:42:52.559Z"
   },
   {
    "duration": 63,
    "start_time": "2022-06-19T12:42:52.576Z"
   },
   {
    "duration": 582,
    "start_time": "2022-06-19T12:42:52.648Z"
   },
   {
    "duration": 16,
    "start_time": "2022-06-19T12:42:53.232Z"
   },
   {
    "duration": 44,
    "start_time": "2022-06-19T12:42:53.263Z"
   },
   {
    "duration": 4891,
    "start_time": "2022-06-19T12:42:53.309Z"
   },
   {
    "duration": 4,
    "start_time": "2022-06-19T12:42:58.203Z"
   },
   {
    "duration": 435,
    "start_time": "2022-06-19T12:42:58.209Z"
   },
   {
    "duration": 7,
    "start_time": "2022-06-19T12:42:58.649Z"
   },
   {
    "duration": 26093,
    "start_time": "2022-06-19T12:42:58.660Z"
   },
   {
    "duration": 10,
    "start_time": "2022-06-19T12:43:24.756Z"
   },
   {
    "duration": 71,
    "start_time": "2022-06-19T12:43:24.768Z"
   },
   {
    "duration": 5,
    "start_time": "2022-06-19T12:43:24.843Z"
   },
   {
    "duration": 35,
    "start_time": "2022-06-19T12:43:24.851Z"
   },
   {
    "duration": 67,
    "start_time": "2022-06-19T12:43:24.889Z"
   },
   {
    "duration": 217,
    "start_time": "2022-06-19T12:43:24.958Z"
   },
   {
    "duration": 670,
    "start_time": "2022-06-19T12:43:25.182Z"
   },
   {
    "duration": 2,
    "start_time": "2022-06-19T12:43:25.856Z"
   },
   {
    "duration": 5,
    "start_time": "2022-06-19T12:43:25.860Z"
   },
   {
    "duration": 3,
    "start_time": "2022-06-19T12:43:25.867Z"
   },
   {
    "duration": 33,
    "start_time": "2022-06-19T12:43:25.872Z"
   },
   {
    "duration": 10,
    "start_time": "2022-06-19T12:43:25.908Z"
   },
   {
    "duration": 37,
    "start_time": "2022-06-19T12:43:25.920Z"
   },
   {
    "duration": 43,
    "start_time": "2022-06-19T12:43:25.962Z"
   },
   {
    "duration": 59,
    "start_time": "2022-06-19T12:43:26.007Z"
   },
   {
    "duration": 387813,
    "start_time": "2022-06-19T12:43:26.068Z"
   },
   {
    "duration": 6,
    "start_time": "2022-06-19T12:52:25.240Z"
   },
   {
    "duration": 4,
    "start_time": "2022-06-19T12:52:25.257Z"
   },
   {
    "duration": 8,
    "start_time": "2022-06-19T12:52:25.264Z"
   },
   {
    "duration": 252,
    "start_time": "2022-06-19T12:52:25.274Z"
   },
   {
    "duration": 8,
    "start_time": "2022-06-19T12:52:25.530Z"
   },
   {
    "duration": 26,
    "start_time": "2022-06-19T12:52:25.540Z"
   },
   {
    "duration": 70,
    "start_time": "2022-06-19T12:52:25.569Z"
   },
   {
    "duration": 12,
    "start_time": "2022-06-19T12:52:25.641Z"
   },
   {
    "duration": 9,
    "start_time": "2022-06-19T12:52:25.656Z"
   },
   {
    "duration": 48,
    "start_time": "2022-06-19T12:52:25.666Z"
   },
   {
    "duration": 13,
    "start_time": "2022-06-19T12:52:25.716Z"
   },
   {
    "duration": 61,
    "start_time": "2022-06-19T12:52:25.731Z"
   },
   {
    "duration": 10,
    "start_time": "2022-06-19T12:52:25.796Z"
   },
   {
    "duration": 4,
    "start_time": "2022-06-19T12:52:25.808Z"
   },
   {
    "duration": 523,
    "start_time": "2022-06-19T12:52:25.814Z"
   },
   {
    "duration": 7,
    "start_time": "2022-06-19T12:52:26.339Z"
   },
   {
    "duration": 4,
    "start_time": "2022-06-19T12:52:26.349Z"
   },
   {
    "duration": 4217,
    "start_time": "2022-06-19T12:52:26.355Z"
   },
   {
    "duration": 4,
    "start_time": "2022-06-19T12:52:30.574Z"
   },
   {
    "duration": 410,
    "start_time": "2022-06-19T12:52:30.580Z"
   },
   {
    "duration": 3,
    "start_time": "2022-06-19T12:52:30.992Z"
   },
   {
    "duration": 24069,
    "start_time": "2022-06-19T12:52:30.996Z"
   },
   {
    "duration": 5,
    "start_time": "2022-06-19T12:52:55.067Z"
   },
   {
    "duration": 38,
    "start_time": "2022-06-19T12:52:55.074Z"
   },
   {
    "duration": 12,
    "start_time": "2022-06-19T12:52:55.114Z"
   },
   {
    "duration": 25,
    "start_time": "2022-06-19T12:52:55.127Z"
   },
   {
    "duration": 74,
    "start_time": "2022-06-19T12:52:55.154Z"
   },
   {
    "duration": 334,
    "start_time": "2022-06-19T12:52:55.230Z"
   },
   {
    "duration": 583,
    "start_time": "2022-06-19T12:52:55.566Z"
   },
   {
    "duration": 3,
    "start_time": "2022-06-19T12:52:56.151Z"
   },
   {
    "duration": 13,
    "start_time": "2022-06-19T12:52:56.158Z"
   },
   {
    "duration": 22,
    "start_time": "2022-06-19T12:52:56.173Z"
   },
   {
    "duration": 12,
    "start_time": "2022-06-19T12:52:56.197Z"
   },
   {
    "duration": 17,
    "start_time": "2022-06-19T12:52:56.211Z"
   },
   {
    "duration": 26,
    "start_time": "2022-06-19T12:52:56.229Z"
   },
   {
    "duration": 18,
    "start_time": "2022-06-19T12:52:56.257Z"
   },
   {
    "duration": 16,
    "start_time": "2022-06-19T12:52:56.277Z"
   },
   {
    "duration": 3681,
    "start_time": "2022-06-19T12:53:18.592Z"
   },
   {
    "duration": 5,
    "start_time": "2022-06-19T12:53:22.275Z"
   },
   {
    "duration": 384,
    "start_time": "2022-06-19T12:53:22.282Z"
   },
   {
    "duration": 433,
    "start_time": "2022-06-19T12:53:22.669Z"
   },
   {
    "duration": 6,
    "start_time": "2022-06-19T12:53:23.105Z"
   },
   {
    "duration": 73,
    "start_time": "2022-06-19T12:53:23.113Z"
   },
   {
    "duration": 100,
    "start_time": "2022-06-19T12:53:23.189Z"
   },
   {
    "duration": 18,
    "start_time": "2022-06-19T12:53:23.291Z"
   },
   {
    "duration": 8,
    "start_time": "2022-06-19T12:53:23.311Z"
   },
   {
    "duration": 80,
    "start_time": "2022-06-19T12:53:23.321Z"
   },
   {
    "duration": 34,
    "start_time": "2022-06-19T12:53:23.403Z"
   },
   {
    "duration": 62,
    "start_time": "2022-06-19T12:53:23.441Z"
   },
   {
    "duration": 12,
    "start_time": "2022-06-19T12:53:23.505Z"
   },
   {
    "duration": 14,
    "start_time": "2022-06-19T12:53:23.521Z"
   },
   {
    "duration": 580,
    "start_time": "2022-06-19T12:53:23.539Z"
   },
   {
    "duration": 25,
    "start_time": "2022-06-19T12:53:24.121Z"
   },
   {
    "duration": 11,
    "start_time": "2022-06-19T12:53:24.152Z"
   },
   {
    "duration": 4608,
    "start_time": "2022-06-19T12:53:24.166Z"
   },
   {
    "duration": 3,
    "start_time": "2022-06-19T12:53:28.776Z"
   },
   {
    "duration": 469,
    "start_time": "2022-06-19T12:53:28.781Z"
   },
   {
    "duration": 3,
    "start_time": "2022-06-19T12:53:29.252Z"
   },
   {
    "duration": 26648,
    "start_time": "2022-06-19T12:53:29.256Z"
   },
   {
    "duration": 12,
    "start_time": "2022-06-19T12:53:55.906Z"
   },
   {
    "duration": 108,
    "start_time": "2022-06-19T12:53:55.921Z"
   },
   {
    "duration": 2,
    "start_time": "2022-06-19T12:53:56.031Z"
   },
   {
    "duration": 5,
    "start_time": "2022-06-19T12:53:56.042Z"
   },
   {
    "duration": 156,
    "start_time": "2022-06-19T12:53:56.055Z"
   },
   {
    "duration": 176,
    "start_time": "2022-06-19T12:53:56.213Z"
   },
   {
    "duration": 563,
    "start_time": "2022-06-19T12:53:56.391Z"
   },
   {
    "duration": 3,
    "start_time": "2022-06-19T12:53:56.959Z"
   },
   {
    "duration": 5,
    "start_time": "2022-06-19T12:53:56.964Z"
   },
   {
    "duration": 25,
    "start_time": "2022-06-19T12:53:56.971Z"
   },
   {
    "duration": 6,
    "start_time": "2022-06-19T12:53:56.998Z"
   },
   {
    "duration": 7,
    "start_time": "2022-06-19T12:53:57.006Z"
   },
   {
    "duration": 57,
    "start_time": "2022-06-19T12:53:57.015Z"
   },
   {
    "duration": 9,
    "start_time": "2022-06-19T12:53:57.075Z"
   },
   {
    "duration": 9,
    "start_time": "2022-06-19T12:53:57.086Z"
   },
   {
    "duration": 2445,
    "start_time": "2022-06-19T12:55:04.623Z"
   },
   {
    "duration": 4,
    "start_time": "2022-06-19T12:55:07.071Z"
   },
   {
    "duration": 369,
    "start_time": "2022-06-19T12:55:07.077Z"
   },
   {
    "duration": 276,
    "start_time": "2022-06-19T12:55:07.448Z"
   },
   {
    "duration": 10,
    "start_time": "2022-06-19T12:55:07.728Z"
   },
   {
    "duration": 21,
    "start_time": "2022-06-19T12:55:07.740Z"
   },
   {
    "duration": 70,
    "start_time": "2022-06-19T12:55:07.765Z"
   },
   {
    "duration": 19,
    "start_time": "2022-06-19T12:55:07.838Z"
   },
   {
    "duration": 14,
    "start_time": "2022-06-19T12:55:07.859Z"
   },
   {
    "duration": 65,
    "start_time": "2022-06-19T12:55:07.876Z"
   },
   {
    "duration": 12,
    "start_time": "2022-06-19T12:55:07.944Z"
   },
   {
    "duration": 56,
    "start_time": "2022-06-19T12:55:07.957Z"
   },
   {
    "duration": 13,
    "start_time": "2022-06-19T12:55:08.015Z"
   },
   {
    "duration": 9,
    "start_time": "2022-06-19T12:55:08.034Z"
   },
   {
    "duration": 522,
    "start_time": "2022-06-19T12:55:08.045Z"
   },
   {
    "duration": 8,
    "start_time": "2022-06-19T12:55:08.569Z"
   },
   {
    "duration": 7,
    "start_time": "2022-06-19T12:55:08.579Z"
   },
   {
    "duration": 4281,
    "start_time": "2022-06-19T12:55:08.588Z"
   },
   {
    "duration": 6,
    "start_time": "2022-06-19T12:55:12.872Z"
   },
   {
    "duration": 403,
    "start_time": "2022-06-19T12:55:12.882Z"
   },
   {
    "duration": 6,
    "start_time": "2022-06-19T12:55:13.288Z"
   },
   {
    "duration": 25156,
    "start_time": "2022-06-19T12:55:13.297Z"
   },
   {
    "duration": 5,
    "start_time": "2022-06-19T12:55:38.455Z"
   },
   {
    "duration": 34,
    "start_time": "2022-06-19T12:55:38.462Z"
   },
   {
    "duration": 3,
    "start_time": "2022-06-19T12:55:38.498Z"
   },
   {
    "duration": 9,
    "start_time": "2022-06-19T12:55:38.525Z"
   },
   {
    "duration": 68,
    "start_time": "2022-06-19T12:55:38.541Z"
   },
   {
    "duration": 168,
    "start_time": "2022-06-19T12:55:38.611Z"
   },
   {
    "duration": 500,
    "start_time": "2022-06-19T12:55:38.781Z"
   },
   {
    "duration": 3,
    "start_time": "2022-06-19T12:55:39.284Z"
   },
   {
    "duration": 25,
    "start_time": "2022-06-19T12:55:39.288Z"
   },
   {
    "duration": 32,
    "start_time": "2022-06-19T12:55:39.315Z"
   },
   {
    "duration": 9,
    "start_time": "2022-06-19T12:55:39.354Z"
   },
   {
    "duration": 6,
    "start_time": "2022-06-19T12:55:39.365Z"
   },
   {
    "duration": 15,
    "start_time": "2022-06-19T12:55:39.372Z"
   },
   {
    "duration": 11,
    "start_time": "2022-06-19T12:55:39.389Z"
   },
   {
    "duration": 7,
    "start_time": "2022-06-19T12:55:39.402Z"
   },
   {
    "duration": 3911,
    "start_time": "2022-06-19T12:56:10.268Z"
   },
   {
    "duration": 5,
    "start_time": "2022-06-19T12:56:14.182Z"
   },
   {
    "duration": 380,
    "start_time": "2022-06-19T12:56:14.189Z"
   },
   {
    "duration": 364,
    "start_time": "2022-06-19T12:56:14.571Z"
   },
   {
    "duration": 15,
    "start_time": "2022-06-19T12:56:14.943Z"
   },
   {
    "duration": 21,
    "start_time": "2022-06-19T12:56:14.960Z"
   },
   {
    "duration": 80,
    "start_time": "2022-06-19T12:56:14.982Z"
   },
   {
    "duration": 14,
    "start_time": "2022-06-19T12:56:15.064Z"
   },
   {
    "duration": 16,
    "start_time": "2022-06-19T12:56:15.081Z"
   },
   {
    "duration": 65,
    "start_time": "2022-06-19T12:56:15.099Z"
   },
   {
    "duration": 15,
    "start_time": "2022-06-19T12:56:15.166Z"
   },
   {
    "duration": 57,
    "start_time": "2022-06-19T12:56:15.182Z"
   },
   {
    "duration": 11,
    "start_time": "2022-06-19T12:56:15.241Z"
   },
   {
    "duration": 6,
    "start_time": "2022-06-19T12:56:15.258Z"
   },
   {
    "duration": 547,
    "start_time": "2022-06-19T12:56:15.266Z"
   },
   {
    "duration": 11,
    "start_time": "2022-06-19T12:56:15.816Z"
   },
   {
    "duration": 35,
    "start_time": "2022-06-19T12:56:15.828Z"
   },
   {
    "duration": 4357,
    "start_time": "2022-06-19T12:56:15.865Z"
   },
   {
    "duration": 6,
    "start_time": "2022-06-19T12:56:20.225Z"
   },
   {
    "duration": 544,
    "start_time": "2022-06-19T12:56:20.238Z"
   },
   {
    "duration": 4,
    "start_time": "2022-06-19T12:56:20.786Z"
   },
   {
    "duration": 29051,
    "start_time": "2022-06-19T12:56:20.792Z"
   },
   {
    "duration": 9,
    "start_time": "2022-06-19T12:56:49.845Z"
   },
   {
    "duration": 67,
    "start_time": "2022-06-19T12:56:49.856Z"
   },
   {
    "duration": 25,
    "start_time": "2022-06-19T12:56:49.925Z"
   },
   {
    "duration": 24,
    "start_time": "2022-06-19T12:56:49.953Z"
   },
   {
    "duration": 76,
    "start_time": "2022-06-19T12:56:49.981Z"
   },
   {
    "duration": 253,
    "start_time": "2022-06-19T12:56:50.060Z"
   },
   {
    "duration": 1170,
    "start_time": "2022-06-19T12:56:50.324Z"
   },
   {
    "duration": 3,
    "start_time": "2022-06-19T12:56:51.496Z"
   },
   {
    "duration": 7,
    "start_time": "2022-06-19T12:56:51.501Z"
   },
   {
    "duration": 19,
    "start_time": "2022-06-19T12:56:51.510Z"
   },
   {
    "duration": 39,
    "start_time": "2022-06-19T12:56:51.533Z"
   },
   {
    "duration": 7,
    "start_time": "2022-06-19T12:56:51.578Z"
   },
   {
    "duration": 7,
    "start_time": "2022-06-19T12:56:51.587Z"
   },
   {
    "duration": 11,
    "start_time": "2022-06-19T12:56:51.597Z"
   },
   {
    "duration": 11,
    "start_time": "2022-06-19T12:56:51.610Z"
   },
   {
    "duration": 1884,
    "start_time": "2022-06-19T13:03:23.359Z"
   },
   {
    "duration": 4,
    "start_time": "2022-06-19T13:03:25.246Z"
   },
   {
    "duration": 149,
    "start_time": "2022-06-19T13:03:25.251Z"
   },
   {
    "duration": 271,
    "start_time": "2022-06-19T13:03:25.402Z"
   },
   {
    "duration": 5,
    "start_time": "2022-06-19T13:03:25.675Z"
   },
   {
    "duration": 19,
    "start_time": "2022-06-19T13:03:25.683Z"
   },
   {
    "duration": 74,
    "start_time": "2022-06-19T13:03:25.704Z"
   },
   {
    "duration": 13,
    "start_time": "2022-06-19T13:03:25.780Z"
   },
   {
    "duration": 27,
    "start_time": "2022-06-19T13:03:25.795Z"
   },
   {
    "duration": 81,
    "start_time": "2022-06-19T13:03:25.825Z"
   },
   {
    "duration": 11,
    "start_time": "2022-06-19T13:03:25.908Z"
   },
   {
    "duration": 74,
    "start_time": "2022-06-19T13:03:25.921Z"
   },
   {
    "duration": 16,
    "start_time": "2022-06-19T13:03:25.997Z"
   },
   {
    "duration": 33,
    "start_time": "2022-06-19T13:03:26.019Z"
   },
   {
    "duration": 465,
    "start_time": "2022-06-19T13:03:26.054Z"
   },
   {
    "duration": 15,
    "start_time": "2022-06-19T13:03:26.521Z"
   },
   {
    "duration": 21,
    "start_time": "2022-06-19T13:03:26.537Z"
   },
   {
    "duration": 4385,
    "start_time": "2022-06-19T13:03:26.561Z"
   },
   {
    "duration": 3,
    "start_time": "2022-06-19T13:03:30.950Z"
   },
   {
    "duration": 431,
    "start_time": "2022-06-19T13:03:30.955Z"
   },
   {
    "duration": 4,
    "start_time": "2022-06-19T13:03:31.388Z"
   },
   {
    "duration": 3223,
    "start_time": "2022-06-19T13:04:20.469Z"
   },
   {
    "duration": 4,
    "start_time": "2022-06-19T13:04:23.694Z"
   },
   {
    "duration": 203,
    "start_time": "2022-06-19T13:04:23.700Z"
   },
   {
    "duration": 249,
    "start_time": "2022-06-19T13:04:23.904Z"
   },
   {
    "duration": 7,
    "start_time": "2022-06-19T13:04:24.155Z"
   },
   {
    "duration": 20,
    "start_time": "2022-06-19T13:04:24.164Z"
   },
   {
    "duration": 68,
    "start_time": "2022-06-19T13:04:24.187Z"
   },
   {
    "duration": 22,
    "start_time": "2022-06-19T13:04:24.257Z"
   },
   {
    "duration": 7,
    "start_time": "2022-06-19T13:04:24.282Z"
   },
   {
    "duration": 61,
    "start_time": "2022-06-19T13:04:24.291Z"
   },
   {
    "duration": 13,
    "start_time": "2022-06-19T13:04:24.353Z"
   },
   {
    "duration": 51,
    "start_time": "2022-06-19T13:04:24.368Z"
   },
   {
    "duration": 19,
    "start_time": "2022-06-19T13:04:24.421Z"
   },
   {
    "duration": 12,
    "start_time": "2022-06-19T13:04:24.446Z"
   },
   {
    "duration": 511,
    "start_time": "2022-06-19T13:04:24.461Z"
   },
   {
    "duration": 9,
    "start_time": "2022-06-19T13:04:24.974Z"
   },
   {
    "duration": 7,
    "start_time": "2022-06-19T13:04:24.985Z"
   },
   {
    "duration": 4219,
    "start_time": "2022-06-19T13:04:24.994Z"
   },
   {
    "duration": 4,
    "start_time": "2022-06-19T13:04:29.214Z"
   },
   {
    "duration": 448,
    "start_time": "2022-06-19T13:04:29.220Z"
   },
   {
    "duration": 3,
    "start_time": "2022-06-19T13:04:29.670Z"
   },
   {
    "duration": 4543,
    "start_time": "2022-07-01T19:41:36.618Z"
   },
   {
    "duration": 8,
    "start_time": "2022-07-01T19:41:41.164Z"
   },
   {
    "duration": 16984,
    "start_time": "2022-07-01T19:41:43.130Z"
   },
   {
    "duration": 67,
    "start_time": "2022-07-01T19:42:58.288Z"
   },
   {
    "duration": 5,
    "start_time": "2022-07-01T19:43:09.588Z"
   },
   {
    "duration": 30,
    "start_time": "2022-07-01T19:43:12.049Z"
   },
   {
    "duration": 24,
    "start_time": "2022-07-01T19:43:21.585Z"
   },
   {
    "duration": 11,
    "start_time": "2022-07-01T19:43:23.004Z"
   },
   {
    "duration": 5,
    "start_time": "2022-07-01T19:43:23.929Z"
   },
   {
    "duration": 45,
    "start_time": "2022-07-01T19:43:26.351Z"
   },
   {
    "duration": 12,
    "start_time": "2022-07-01T19:43:27.092Z"
   },
   {
    "duration": 12,
    "start_time": "2022-07-01T19:43:29.019Z"
   },
   {
    "duration": 11,
    "start_time": "2022-07-01T19:43:30.781Z"
   },
   {
    "duration": 3,
    "start_time": "2022-07-01T19:45:51.481Z"
   },
   {
    "duration": 556,
    "start_time": "2022-07-01T19:45:52.683Z"
   },
   {
    "duration": 7,
    "start_time": "2022-07-01T19:46:02.425Z"
   },
   {
    "duration": 3,
    "start_time": "2022-07-01T19:49:32.982Z"
   },
   {
    "duration": 3,
    "start_time": "2022-07-01T19:54:00.415Z"
   },
   {
    "duration": 453,
    "start_time": "2022-07-01T19:54:01.380Z"
   },
   {
    "duration": 3,
    "start_time": "2022-07-01T19:56:56.729Z"
   },
   {
    "duration": 26868,
    "start_time": "2022-07-01T19:57:08.259Z"
   },
   {
    "duration": 54,
    "start_time": "2022-07-01T19:57:35.129Z"
   },
   {
    "duration": 3,
    "start_time": "2022-07-01T19:58:09.885Z"
   },
   {
    "duration": 5,
    "start_time": "2022-07-01T19:58:10.502Z"
   },
   {
    "duration": 178,
    "start_time": "2022-07-01T19:58:11.080Z"
   },
   {
    "duration": 616,
    "start_time": "2022-07-01T19:58:11.801Z"
   },
   {
    "duration": 6,
    "start_time": "2022-07-01T19:58:12.491Z"
   },
   {
    "duration": 10,
    "start_time": "2022-07-01T19:58:13.867Z"
   },
   {
    "duration": 3,
    "start_time": "2022-07-01T19:58:15.510Z"
   },
   {
    "duration": 4,
    "start_time": "2022-07-01T19:58:16.891Z"
   },
   {
    "duration": 827,
    "start_time": "2022-07-01T20:00:33.389Z"
   },
   {
    "duration": 826,
    "start_time": "2022-07-01T20:02:00.775Z"
   },
   {
    "duration": 4,
    "start_time": "2022-07-01T20:05:46.579Z"
   },
   {
    "duration": 160,
    "start_time": "2022-07-01T20:05:48.075Z"
   },
   {
    "duration": 4,
    "start_time": "2022-07-01T20:05:52.175Z"
   },
   {
    "duration": 3,
    "start_time": "2022-07-01T20:05:52.993Z"
   },
   {
    "duration": 3,
    "start_time": "2022-07-01T20:05:53.580Z"
   },
   {
    "duration": 2690,
    "start_time": "2022-07-02T09:41:34.918Z"
   },
   {
    "duration": 6,
    "start_time": "2022-07-02T09:41:37.611Z"
   },
   {
    "duration": 6261,
    "start_time": "2022-07-02T09:41:37.626Z"
   },
   {
    "duration": 374,
    "start_time": "2022-07-02T09:41:43.891Z"
   },
   {
    "duration": 14,
    "start_time": "2022-07-02T09:41:44.271Z"
   },
   {
    "duration": 30,
    "start_time": "2022-07-02T09:41:44.292Z"
   },
   {
    "duration": 76,
    "start_time": "2022-07-02T09:41:44.324Z"
   },
   {
    "duration": 12,
    "start_time": "2022-07-02T09:41:44.403Z"
   },
   {
    "duration": 7,
    "start_time": "2022-07-02T09:41:44.417Z"
   },
   {
    "duration": 56,
    "start_time": "2022-07-02T09:41:44.426Z"
   },
   {
    "duration": 19,
    "start_time": "2022-07-02T09:41:44.484Z"
   },
   {
    "duration": 43,
    "start_time": "2022-07-02T09:41:44.505Z"
   },
   {
    "duration": 10,
    "start_time": "2022-07-02T09:41:44.550Z"
   },
   {
    "duration": 4,
    "start_time": "2022-07-02T09:41:50.675Z"
   },
   {
    "duration": 324,
    "start_time": "2022-07-02T09:41:53.459Z"
   },
   {
    "duration": 4,
    "start_time": "2022-07-02T09:42:49.346Z"
   },
   {
    "duration": 127,
    "start_time": "2022-07-02T09:42:50.883Z"
   },
   {
    "duration": 3,
    "start_time": "2022-07-02T09:42:56.531Z"
   },
   {
    "duration": 155,
    "start_time": "2022-07-02T09:42:58.371Z"
   },
   {
    "duration": 3,
    "start_time": "2022-07-02T09:44:00.569Z"
   },
   {
    "duration": 134,
    "start_time": "2022-07-02T09:44:01.567Z"
   },
   {
    "duration": 3,
    "start_time": "2022-07-02T09:44:41.719Z"
   },
   {
    "duration": 106,
    "start_time": "2022-07-02T09:44:42.425Z"
   },
   {
    "duration": 3,
    "start_time": "2022-07-02T09:45:06.792Z"
   },
   {
    "duration": 115,
    "start_time": "2022-07-02T09:45:07.384Z"
   },
   {
    "duration": 4,
    "start_time": "2022-07-02T09:45:16.622Z"
   },
   {
    "duration": 451,
    "start_time": "2022-07-02T09:45:17.322Z"
   },
   {
    "duration": 15,
    "start_time": "2022-07-02T09:45:25.185Z"
   },
   {
    "duration": 437,
    "start_time": "2022-07-02T09:47:25.374Z"
   },
   {
    "duration": 4,
    "start_time": "2022-07-02T09:47:57.185Z"
   },
   {
    "duration": 4654,
    "start_time": "2022-07-02T09:47:58.174Z"
   },
   {
    "duration": 4,
    "start_time": "2022-07-02T09:49:07.484Z"
   },
   {
    "duration": 522,
    "start_time": "2022-07-02T09:49:08.118Z"
   },
   {
    "duration": 7,
    "start_time": "2022-07-02T09:52:36.642Z"
   },
   {
    "duration": 10,
    "start_time": "2022-07-02T09:52:36.651Z"
   },
   {
    "duration": 12,
    "start_time": "2022-07-02T09:52:36.663Z"
   },
   {
    "duration": 221,
    "start_time": "2022-07-02T09:52:36.682Z"
   },
   {
    "duration": 6,
    "start_time": "2022-07-02T09:52:36.906Z"
   },
   {
    "duration": 22,
    "start_time": "2022-07-02T09:52:36.914Z"
   },
   {
    "duration": 68,
    "start_time": "2022-07-02T09:52:36.938Z"
   },
   {
    "duration": 15,
    "start_time": "2022-07-02T09:52:37.008Z"
   },
   {
    "duration": 8,
    "start_time": "2022-07-02T09:52:37.025Z"
   },
   {
    "duration": 51,
    "start_time": "2022-07-02T09:52:37.035Z"
   },
   {
    "duration": 13,
    "start_time": "2022-07-02T09:52:37.088Z"
   },
   {
    "duration": 42,
    "start_time": "2022-07-02T09:52:37.103Z"
   },
   {
    "duration": 13,
    "start_time": "2022-07-02T09:52:37.148Z"
   },
   {
    "duration": 6,
    "start_time": "2022-07-02T09:52:37.163Z"
   },
   {
    "duration": 433,
    "start_time": "2022-07-02T09:52:37.171Z"
   },
   {
    "duration": 12,
    "start_time": "2022-07-02T09:52:37.606Z"
   },
   {
    "duration": 37,
    "start_time": "2022-07-02T09:52:37.621Z"
   },
   {
    "duration": 4338,
    "start_time": "2022-07-02T09:52:37.660Z"
   },
   {
    "duration": 4,
    "start_time": "2022-07-02T09:52:42.000Z"
   },
   {
    "duration": 442,
    "start_time": "2022-07-02T09:52:42.006Z"
   },
   {
    "duration": 3,
    "start_time": "2022-07-02T09:52:42.450Z"
   },
   {
    "duration": 25589,
    "start_time": "2022-07-02T09:52:42.455Z"
   },
   {
    "duration": 38,
    "start_time": "2022-07-02T09:53:08.046Z"
   },
   {
    "duration": 3,
    "start_time": "2022-07-02T09:53:08.086Z"
   },
   {
    "duration": 9,
    "start_time": "2022-07-02T09:53:08.091Z"
   },
   {
    "duration": 169,
    "start_time": "2022-07-02T09:53:08.102Z"
   },
   {
    "duration": 811,
    "start_time": "2022-07-02T09:53:08.273Z"
   },
   {
    "duration": 15,
    "start_time": "2022-07-02T09:53:35.980Z"
   },
   {
    "duration": 5,
    "start_time": "2022-07-02T09:53:41.267Z"
   },
   {
    "duration": 287,
    "start_time": "2022-07-02T09:53:43.043Z"
   },
   {
    "duration": 14,
    "start_time": "2022-07-02T09:53:46.671Z"
   },
   {
    "duration": 939,
    "start_time": "2022-07-02T09:54:12.997Z"
   },
   {
    "duration": 24,
    "start_time": "2022-07-02T09:54:55.793Z"
   },
   {
    "duration": 23,
    "start_time": "2022-07-02T09:55:04.986Z"
   },
   {
    "duration": 560,
    "start_time": "2022-07-02T09:55:11.448Z"
   },
   {
    "duration": 10,
    "start_time": "2022-07-02T10:01:28.906Z"
   },
   {
    "duration": 20,
    "start_time": "2022-07-02T10:01:28.919Z"
   },
   {
    "duration": 16,
    "start_time": "2022-07-02T10:01:28.945Z"
   },
   {
    "duration": 260,
    "start_time": "2022-07-02T10:01:28.968Z"
   },
   {
    "duration": 6,
    "start_time": "2022-07-02T10:01:29.231Z"
   },
   {
    "duration": 19,
    "start_time": "2022-07-02T10:01:29.240Z"
   },
   {
    "duration": 73,
    "start_time": "2022-07-02T10:01:29.262Z"
   },
   {
    "duration": 18,
    "start_time": "2022-07-02T10:01:29.338Z"
   },
   {
    "duration": 26,
    "start_time": "2022-07-02T10:01:29.359Z"
   },
   {
    "duration": 52,
    "start_time": "2022-07-02T10:01:29.388Z"
   },
   {
    "duration": 15,
    "start_time": "2022-07-02T10:01:29.442Z"
   },
   {
    "duration": 42,
    "start_time": "2022-07-02T10:01:29.460Z"
   },
   {
    "duration": 12,
    "start_time": "2022-07-02T10:01:29.505Z"
   },
   {
    "duration": 7,
    "start_time": "2022-07-02T10:01:29.520Z"
   },
   {
    "duration": 418,
    "start_time": "2022-07-02T10:01:29.529Z"
   },
   {
    "duration": 8,
    "start_time": "2022-07-02T10:01:29.949Z"
   },
   {
    "duration": 3,
    "start_time": "2022-07-02T10:01:29.968Z"
   },
   {
    "duration": 3942,
    "start_time": "2022-07-02T10:01:29.973Z"
   },
   {
    "duration": 3,
    "start_time": "2022-07-02T10:01:33.917Z"
   },
   {
    "duration": 452,
    "start_time": "2022-07-02T10:01:33.922Z"
   },
   {
    "duration": 4,
    "start_time": "2022-07-02T10:01:34.376Z"
   },
   {
    "duration": 25024,
    "start_time": "2022-07-02T10:01:34.382Z"
   },
   {
    "duration": 45,
    "start_time": "2022-07-02T10:01:59.408Z"
   },
   {
    "duration": 4,
    "start_time": "2022-07-02T10:01:59.469Z"
   },
   {
    "duration": 8,
    "start_time": "2022-07-02T10:01:59.476Z"
   },
   {
    "duration": 322,
    "start_time": "2022-07-02T10:01:59.487Z"
   },
   {
    "duration": 1086,
    "start_time": "2022-07-02T10:01:59.812Z"
   },
   {
    "duration": 567,
    "start_time": "2022-07-02T10:02:00.900Z"
   },
   {
    "duration": 458,
    "start_time": "2022-07-02T10:02:01.469Z"
   },
   {
    "duration": 60,
    "start_time": "2022-07-02T10:02:01.930Z"
   },
   {
    "duration": 32,
    "start_time": "2022-07-02T10:02:01.994Z"
   },
   {
    "duration": 42,
    "start_time": "2022-07-02T10:02:02.028Z"
   },
   {
    "duration": 713,
    "start_time": "2022-07-02T10:02:02.072Z"
   },
   {
    "duration": 30,
    "start_time": "2022-07-02T10:02:02.788Z"
   },
   {
    "duration": 99,
    "start_time": "2022-07-02T10:02:02.820Z"
   },
   {
    "duration": 0,
    "start_time": "2022-07-02T10:02:02.922Z"
   },
   {
    "duration": 0,
    "start_time": "2022-07-02T10:02:02.926Z"
   },
   {
    "duration": 0,
    "start_time": "2022-07-02T10:02:02.927Z"
   },
   {
    "duration": 0,
    "start_time": "2022-07-02T10:02:02.927Z"
   },
   {
    "duration": 0,
    "start_time": "2022-07-02T10:02:02.928Z"
   },
   {
    "duration": 0,
    "start_time": "2022-07-02T10:02:02.929Z"
   },
   {
    "duration": 0,
    "start_time": "2022-07-02T10:02:02.932Z"
   },
   {
    "duration": 0,
    "start_time": "2022-07-02T10:02:02.933Z"
   },
   {
    "duration": 0,
    "start_time": "2022-07-02T10:02:02.935Z"
   },
   {
    "duration": 0,
    "start_time": "2022-07-02T10:02:02.936Z"
   },
   {
    "duration": 0,
    "start_time": "2022-07-02T10:02:02.938Z"
   },
   {
    "duration": 0,
    "start_time": "2022-07-02T10:02:02.941Z"
   },
   {
    "duration": 0,
    "start_time": "2022-07-02T10:02:02.943Z"
   },
   {
    "duration": 0,
    "start_time": "2022-07-02T10:02:02.945Z"
   },
   {
    "duration": 540,
    "start_time": "2022-07-02T10:05:36.280Z"
   },
   {
    "duration": 17,
    "start_time": "2022-07-02T10:05:38.772Z"
   },
   {
    "duration": 2593,
    "start_time": "2022-07-08T05:31:48.853Z"
   },
   {
    "duration": 3,
    "start_time": "2022-07-08T05:31:51.448Z"
   },
   {
    "duration": 11305,
    "start_time": "2022-07-08T05:31:53.973Z"
   },
   {
    "duration": 258,
    "start_time": "2022-07-08T05:32:10.058Z"
   },
   {
    "duration": 5,
    "start_time": "2022-07-08T05:32:10.777Z"
   },
   {
    "duration": 25,
    "start_time": "2022-07-08T05:32:11.214Z"
   },
   {
    "duration": 55,
    "start_time": "2022-07-08T05:32:11.563Z"
   },
   {
    "duration": 11,
    "start_time": "2022-07-08T05:32:11.892Z"
   },
   {
    "duration": 8,
    "start_time": "2022-07-08T05:32:12.077Z"
   },
   {
    "duration": 46,
    "start_time": "2022-07-08T05:32:12.553Z"
   },
   {
    "duration": 19,
    "start_time": "2022-07-08T05:32:12.920Z"
   },
   {
    "duration": 40,
    "start_time": "2022-07-08T05:32:13.463Z"
   },
   {
    "duration": 12,
    "start_time": "2022-07-08T05:32:13.697Z"
   },
   {
    "duration": 4,
    "start_time": "2022-07-08T05:32:16.089Z"
   },
   {
    "duration": 485,
    "start_time": "2022-07-08T05:32:16.999Z"
   },
   {
    "duration": 7,
    "start_time": "2022-07-08T05:32:27.700Z"
   },
   {
    "duration": 205,
    "start_time": "2022-07-08T05:33:55.825Z"
   },
   {
    "duration": 37,
    "start_time": "2022-07-08T05:34:09.854Z"
   },
   {
    "duration": 136,
    "start_time": "2022-07-08T05:34:40.854Z"
   },
   {
    "duration": 20,
    "start_time": "2022-07-08T05:36:07.356Z"
   },
   {
    "duration": 196,
    "start_time": "2022-07-08T05:36:16.550Z"
   },
   {
    "duration": 278,
    "start_time": "2022-07-08T05:36:36.796Z"
   },
   {
    "duration": 182,
    "start_time": "2022-07-08T05:37:42.445Z"
   },
   {
    "duration": 198,
    "start_time": "2022-07-08T05:37:54.271Z"
   },
   {
    "duration": 273,
    "start_time": "2022-07-08T05:38:10.217Z"
   },
   {
    "duration": 243,
    "start_time": "2022-07-08T05:38:32.973Z"
   },
   {
    "duration": 226,
    "start_time": "2022-07-08T05:38:39.364Z"
   },
   {
    "duration": 5,
    "start_time": "2022-07-08T15:55:07.334Z"
   },
   {
    "duration": 11,
    "start_time": "2022-07-08T15:55:07.341Z"
   },
   {
    "duration": 9,
    "start_time": "2022-07-08T15:55:07.354Z"
   },
   {
    "duration": 2373,
    "start_time": "2022-07-08T15:55:07.366Z"
   },
   {
    "duration": 4,
    "start_time": "2022-07-08T15:55:09.741Z"
   },
   {
    "duration": 6377,
    "start_time": "2022-07-08T15:55:09.747Z"
   },
   {
    "duration": 195,
    "start_time": "2022-07-08T15:55:16.126Z"
   },
   {
    "duration": 5,
    "start_time": "2022-07-08T15:55:16.323Z"
   },
   {
    "duration": 19,
    "start_time": "2022-07-08T15:55:16.329Z"
   },
   {
    "duration": 50,
    "start_time": "2022-07-08T15:55:16.349Z"
   },
   {
    "duration": 11,
    "start_time": "2022-07-08T15:55:16.400Z"
   },
   {
    "duration": 8,
    "start_time": "2022-07-08T15:55:16.412Z"
   },
   {
    "duration": 49,
    "start_time": "2022-07-08T15:55:16.422Z"
   },
   {
    "duration": 10,
    "start_time": "2022-07-08T15:55:16.473Z"
   },
   {
    "duration": 38,
    "start_time": "2022-07-08T15:55:16.486Z"
   },
   {
    "duration": 10,
    "start_time": "2022-07-08T15:55:16.526Z"
   },
   {
    "duration": 7,
    "start_time": "2022-07-08T15:55:16.537Z"
   },
   {
    "duration": 139,
    "start_time": "2022-07-08T15:55:16.545Z"
   },
   {
    "duration": 0,
    "start_time": "2022-07-08T15:55:16.688Z"
   },
   {
    "duration": 0,
    "start_time": "2022-07-08T15:55:16.689Z"
   },
   {
    "duration": 0,
    "start_time": "2022-07-08T15:55:16.690Z"
   },
   {
    "duration": 0,
    "start_time": "2022-07-08T15:55:16.691Z"
   },
   {
    "duration": 1,
    "start_time": "2022-07-08T15:55:16.692Z"
   },
   {
    "duration": 0,
    "start_time": "2022-07-08T15:55:16.700Z"
   },
   {
    "duration": 0,
    "start_time": "2022-07-08T15:55:16.702Z"
   },
   {
    "duration": 0,
    "start_time": "2022-07-08T15:55:16.703Z"
   },
   {
    "duration": 0,
    "start_time": "2022-07-08T15:55:16.705Z"
   },
   {
    "duration": 0,
    "start_time": "2022-07-08T15:55:16.706Z"
   },
   {
    "duration": 0,
    "start_time": "2022-07-08T15:55:16.707Z"
   },
   {
    "duration": 0,
    "start_time": "2022-07-08T15:55:16.708Z"
   },
   {
    "duration": 0,
    "start_time": "2022-07-08T15:55:16.710Z"
   },
   {
    "duration": 0,
    "start_time": "2022-07-08T15:55:16.711Z"
   },
   {
    "duration": 0,
    "start_time": "2022-07-08T15:55:16.712Z"
   },
   {
    "duration": 0,
    "start_time": "2022-07-08T15:55:16.713Z"
   },
   {
    "duration": 0,
    "start_time": "2022-07-08T15:55:16.714Z"
   },
   {
    "duration": 0,
    "start_time": "2022-07-08T15:55:16.716Z"
   },
   {
    "duration": 0,
    "start_time": "2022-07-08T15:55:16.717Z"
   },
   {
    "duration": 0,
    "start_time": "2022-07-08T15:55:16.718Z"
   },
   {
    "duration": 0,
    "start_time": "2022-07-08T15:55:16.719Z"
   },
   {
    "duration": 0,
    "start_time": "2022-07-08T15:55:16.720Z"
   },
   {
    "duration": 0,
    "start_time": "2022-07-08T15:55:16.721Z"
   },
   {
    "duration": 0,
    "start_time": "2022-07-08T15:55:16.723Z"
   },
   {
    "duration": 0,
    "start_time": "2022-07-08T15:55:16.724Z"
   },
   {
    "duration": 0,
    "start_time": "2022-07-08T15:55:16.725Z"
   },
   {
    "duration": 0,
    "start_time": "2022-07-08T15:55:16.726Z"
   },
   {
    "duration": 0,
    "start_time": "2022-07-08T15:55:16.727Z"
   },
   {
    "duration": 0,
    "start_time": "2022-07-08T15:55:16.728Z"
   },
   {
    "duration": 0,
    "start_time": "2022-07-08T15:55:16.729Z"
   },
   {
    "duration": 0,
    "start_time": "2022-07-08T15:55:16.731Z"
   },
   {
    "duration": 0,
    "start_time": "2022-07-08T15:55:16.732Z"
   },
   {
    "duration": 0,
    "start_time": "2022-07-08T15:55:16.734Z"
   },
   {
    "duration": 0,
    "start_time": "2022-07-08T15:55:16.735Z"
   },
   {
    "duration": 0,
    "start_time": "2022-07-08T15:55:16.736Z"
   },
   {
    "duration": 0,
    "start_time": "2022-07-08T15:55:16.737Z"
   },
   {
    "duration": 0,
    "start_time": "2022-07-08T15:55:16.739Z"
   },
   {
    "duration": 0,
    "start_time": "2022-07-08T15:55:16.801Z"
   },
   {
    "duration": 0,
    "start_time": "2022-07-08T15:55:16.802Z"
   },
   {
    "duration": 0,
    "start_time": "2022-07-08T15:55:16.803Z"
   },
   {
    "duration": 0,
    "start_time": "2022-07-08T15:55:16.805Z"
   },
   {
    "duration": 0,
    "start_time": "2022-07-08T15:55:16.806Z"
   },
   {
    "duration": 0,
    "start_time": "2022-07-08T15:55:16.807Z"
   },
   {
    "duration": 0,
    "start_time": "2022-07-08T15:55:16.809Z"
   },
   {
    "duration": 0,
    "start_time": "2022-07-08T15:55:16.810Z"
   },
   {
    "duration": 0,
    "start_time": "2022-07-08T15:55:16.811Z"
   },
   {
    "duration": 0,
    "start_time": "2022-07-08T15:55:16.812Z"
   },
   {
    "duration": 0,
    "start_time": "2022-07-08T15:55:16.814Z"
   },
   {
    "duration": 0,
    "start_time": "2022-07-08T15:55:16.815Z"
   },
   {
    "duration": 0,
    "start_time": "2022-07-08T15:55:16.817Z"
   },
   {
    "duration": 0,
    "start_time": "2022-07-08T15:55:16.817Z"
   },
   {
    "duration": 0,
    "start_time": "2022-07-08T15:55:16.818Z"
   },
   {
    "duration": 0,
    "start_time": "2022-07-08T15:55:16.820Z"
   },
   {
    "duration": 0,
    "start_time": "2022-07-08T15:55:16.821Z"
   },
   {
    "duration": 0,
    "start_time": "2022-07-08T15:55:16.822Z"
   },
   {
    "duration": 0,
    "start_time": "2022-07-08T15:55:16.823Z"
   },
   {
    "duration": 0,
    "start_time": "2022-07-08T15:55:16.824Z"
   },
   {
    "duration": 0,
    "start_time": "2022-07-08T15:55:16.825Z"
   },
   {
    "duration": 0,
    "start_time": "2022-07-08T15:55:16.826Z"
   },
   {
    "duration": 0,
    "start_time": "2022-07-08T15:55:16.827Z"
   },
   {
    "duration": 0,
    "start_time": "2022-07-08T15:55:16.828Z"
   },
   {
    "duration": 0,
    "start_time": "2022-07-08T15:55:16.830Z"
   },
   {
    "duration": 0,
    "start_time": "2022-07-08T15:55:16.831Z"
   },
   {
    "duration": 0,
    "start_time": "2022-07-08T15:55:16.833Z"
   },
   {
    "duration": 0,
    "start_time": "2022-07-08T15:55:16.834Z"
   },
   {
    "duration": 0,
    "start_time": "2022-07-08T15:55:16.835Z"
   },
   {
    "duration": 0,
    "start_time": "2022-07-08T15:55:16.901Z"
   },
   {
    "duration": 0,
    "start_time": "2022-07-08T15:55:16.903Z"
   },
   {
    "duration": 0,
    "start_time": "2022-07-08T15:55:16.904Z"
   },
   {
    "duration": 0,
    "start_time": "2022-07-08T15:55:16.905Z"
   },
   {
    "duration": 0,
    "start_time": "2022-07-08T15:55:16.906Z"
   },
   {
    "duration": 0,
    "start_time": "2022-07-08T15:55:16.908Z"
   },
   {
    "duration": 0,
    "start_time": "2022-07-08T15:55:16.909Z"
   },
   {
    "duration": 0,
    "start_time": "2022-07-08T15:55:16.911Z"
   },
   {
    "duration": 0,
    "start_time": "2022-07-08T15:55:16.912Z"
   },
   {
    "duration": 0,
    "start_time": "2022-07-08T15:55:16.914Z"
   },
   {
    "duration": 0,
    "start_time": "2022-07-08T15:55:16.915Z"
   },
   {
    "duration": 0,
    "start_time": "2022-07-08T15:55:16.916Z"
   },
   {
    "duration": 403,
    "start_time": "2022-07-08T16:01:05.056Z"
   },
   {
    "duration": 196,
    "start_time": "2022-07-08T16:01:05.461Z"
   },
   {
    "duration": 2,
    "start_time": "2022-07-08T16:01:05.659Z"
   },
   {
    "duration": 303,
    "start_time": "2022-07-08T16:01:05.664Z"
   },
   {
    "duration": 2,
    "start_time": "2022-07-08T16:01:05.969Z"
   },
   {
    "duration": 476,
    "start_time": "2022-07-08T16:01:05.973Z"
   },
   {
    "duration": 3,
    "start_time": "2022-07-08T16:01:06.450Z"
   },
   {
    "duration": 25154,
    "start_time": "2022-07-08T16:01:06.455Z"
   },
   {
    "duration": 29,
    "start_time": "2022-07-08T16:01:31.611Z"
   },
   {
    "duration": 2,
    "start_time": "2022-07-08T16:01:31.644Z"
   },
   {
    "duration": 15,
    "start_time": "2022-07-08T16:01:31.648Z"
   },
   {
    "duration": 129,
    "start_time": "2022-07-08T16:01:31.664Z"
   },
   {
    "duration": 155,
    "start_time": "2022-07-08T16:01:31.795Z"
   },
   {
    "duration": 365,
    "start_time": "2022-07-08T16:01:31.951Z"
   },
   {
    "duration": 473,
    "start_time": "2022-07-08T16:01:32.317Z"
   },
   {
    "duration": 169,
    "start_time": "2022-07-08T16:01:32.801Z"
   },
   {
    "duration": 45,
    "start_time": "2022-07-08T16:01:32.972Z"
   },
   {
    "duration": 208,
    "start_time": "2022-07-08T16:01:33.019Z"
   },
   {
    "duration": 51,
    "start_time": "2022-07-08T16:01:33.229Z"
   },
   {
    "duration": 37,
    "start_time": "2022-07-08T16:01:33.282Z"
   },
   {
    "duration": 16,
    "start_time": "2022-07-08T16:01:33.321Z"
   },
   {
    "duration": 515,
    "start_time": "2022-07-08T16:01:33.339Z"
   },
   {
    "duration": 26,
    "start_time": "2022-07-08T16:01:33.857Z"
   },
   {
    "duration": 398,
    "start_time": "2022-07-08T16:01:33.885Z"
   },
   {
    "duration": 517,
    "start_time": "2022-07-08T16:01:34.285Z"
   },
   {
    "duration": 19,
    "start_time": "2022-07-08T16:01:34.803Z"
   },
   {
    "duration": 559,
    "start_time": "2022-07-08T16:01:34.824Z"
   },
   {
    "duration": 215,
    "start_time": "2022-07-08T16:01:35.386Z"
   },
   {
    "duration": 368,
    "start_time": "2022-07-08T16:01:35.603Z"
   },
   {
    "duration": 171,
    "start_time": "2022-07-08T16:01:35.973Z"
   },
   {
    "duration": 522,
    "start_time": "2022-07-08T16:01:36.148Z"
   },
   {
    "duration": 597,
    "start_time": "2022-07-08T16:01:36.671Z"
   },
   {
    "duration": 380,
    "start_time": "2022-07-08T16:01:37.270Z"
   },
   {
    "duration": 465,
    "start_time": "2022-07-08T16:01:37.652Z"
   },
   {
    "duration": 168,
    "start_time": "2022-07-08T16:01:38.118Z"
   },
   {
    "duration": 492,
    "start_time": "2022-07-08T16:01:38.287Z"
   },
   {
    "duration": 683,
    "start_time": "2022-07-08T16:01:38.781Z"
   },
   {
    "duration": 120,
    "start_time": "2022-07-08T16:01:39.466Z"
   },
   {
    "duration": 220,
    "start_time": "2022-07-08T16:01:39.587Z"
   },
   {
    "duration": 439,
    "start_time": "2022-07-08T16:01:39.809Z"
   },
   {
    "duration": 522,
    "start_time": "2022-07-08T16:01:40.250Z"
   },
   {
    "duration": 410,
    "start_time": "2022-07-08T16:01:40.773Z"
   },
   {
    "duration": 467,
    "start_time": "2022-07-08T16:01:41.185Z"
   },
   {
    "duration": 480,
    "start_time": "2022-07-08T16:01:41.653Z"
   },
   {
    "duration": 485,
    "start_time": "2022-07-08T16:01:42.135Z"
   },
   {
    "duration": 454,
    "start_time": "2022-07-08T16:01:42.621Z"
   },
   {
    "duration": 490,
    "start_time": "2022-07-08T16:01:43.076Z"
   },
   {
    "duration": 22,
    "start_time": "2022-07-08T16:01:43.567Z"
   },
   {
    "duration": 261,
    "start_time": "2022-07-08T16:01:43.590Z"
   },
   {
    "duration": 413,
    "start_time": "2022-07-08T16:01:43.853Z"
   },
   {
    "duration": 3,
    "start_time": "2022-07-08T16:01:44.268Z"
   },
   {
    "duration": 28,
    "start_time": "2022-07-08T16:01:44.273Z"
   },
   {
    "duration": 215,
    "start_time": "2022-07-08T16:01:44.303Z"
   },
   {
    "duration": 3835,
    "start_time": "2022-07-08T16:01:44.519Z"
   },
   {
    "duration": 4,
    "start_time": "2022-07-08T16:01:48.356Z"
   },
   {
    "duration": 16,
    "start_time": "2022-07-08T16:01:48.362Z"
   },
   {
    "duration": 21,
    "start_time": "2022-07-08T16:01:48.380Z"
   },
   {
    "duration": 222527,
    "start_time": "2022-07-08T16:01:48.403Z"
   },
   {
    "duration": 3990,
    "start_time": "2022-07-08T16:05:30.932Z"
   },
   {
    "duration": 0,
    "start_time": "2022-07-08T16:05:34.924Z"
   },
   {
    "duration": 0,
    "start_time": "2022-07-08T16:05:34.925Z"
   },
   {
    "duration": 0,
    "start_time": "2022-07-08T16:05:34.926Z"
   },
   {
    "duration": 0,
    "start_time": "2022-07-08T16:05:34.928Z"
   },
   {
    "duration": 0,
    "start_time": "2022-07-08T16:05:34.929Z"
   },
   {
    "duration": 0,
    "start_time": "2022-07-08T16:05:34.930Z"
   },
   {
    "duration": 0,
    "start_time": "2022-07-08T16:05:34.930Z"
   },
   {
    "duration": 0,
    "start_time": "2022-07-08T16:05:34.932Z"
   },
   {
    "duration": 0,
    "start_time": "2022-07-08T16:05:34.933Z"
   },
   {
    "duration": 1,
    "start_time": "2022-07-08T16:05:34.934Z"
   },
   {
    "duration": 0,
    "start_time": "2022-07-08T16:05:34.936Z"
   },
   {
    "duration": 0,
    "start_time": "2022-07-08T16:05:34.937Z"
   },
   {
    "duration": 0,
    "start_time": "2022-07-08T16:05:34.938Z"
   },
   {
    "duration": 0,
    "start_time": "2022-07-08T16:05:34.939Z"
   },
   {
    "duration": 0,
    "start_time": "2022-07-08T16:05:34.940Z"
   },
   {
    "duration": 0,
    "start_time": "2022-07-08T16:05:34.941Z"
   },
   {
    "duration": 0,
    "start_time": "2022-07-08T16:05:34.942Z"
   },
   {
    "duration": 0,
    "start_time": "2022-07-08T16:05:34.943Z"
   },
   {
    "duration": 0,
    "start_time": "2022-07-08T16:05:34.944Z"
   },
   {
    "duration": 20,
    "start_time": "2022-07-08T16:09:12.062Z"
   },
   {
    "duration": 10,
    "start_time": "2022-07-08T16:09:12.085Z"
   },
   {
    "duration": 5583,
    "start_time": "2022-07-08T16:09:12.097Z"
   },
   {
    "duration": 13,
    "start_time": "2022-07-08T16:09:17.683Z"
   },
   {
    "duration": 0,
    "start_time": "2022-07-08T16:09:17.698Z"
   },
   {
    "duration": 0,
    "start_time": "2022-07-08T16:09:17.700Z"
   },
   {
    "duration": 0,
    "start_time": "2022-07-08T16:09:17.701Z"
   },
   {
    "duration": 0,
    "start_time": "2022-07-08T16:09:17.702Z"
   },
   {
    "duration": 0,
    "start_time": "2022-07-08T16:09:17.703Z"
   },
   {
    "duration": 0,
    "start_time": "2022-07-08T16:09:17.705Z"
   },
   {
    "duration": 0,
    "start_time": "2022-07-08T16:09:17.705Z"
   },
   {
    "duration": 0,
    "start_time": "2022-07-08T16:09:17.706Z"
   },
   {
    "duration": 0,
    "start_time": "2022-07-08T16:09:17.707Z"
   },
   {
    "duration": 0,
    "start_time": "2022-07-08T16:09:17.708Z"
   },
   {
    "duration": 0,
    "start_time": "2022-07-08T16:09:17.709Z"
   },
   {
    "duration": 4,
    "start_time": "2022-07-08T16:09:40.186Z"
   },
   {
    "duration": 757,
    "start_time": "2022-07-08T16:09:40.192Z"
   },
   {
    "duration": 6,
    "start_time": "2022-07-08T16:09:40.951Z"
   },
   {
    "duration": 9,
    "start_time": "2022-07-08T16:09:40.959Z"
   },
   {
    "duration": 32,
    "start_time": "2022-07-08T16:09:40.970Z"
   },
   {
    "duration": 635315,
    "start_time": "2022-07-08T16:09:41.004Z"
   },
   {
    "duration": 83,
    "start_time": "2022-07-08T16:20:16.321Z"
   },
   {
    "duration": 5,
    "start_time": "2022-07-08T16:20:16.405Z"
   },
   {
    "duration": 15,
    "start_time": "2022-07-08T16:20:16.412Z"
   },
   {
    "duration": 11,
    "start_time": "2022-07-08T16:20:16.428Z"
   },
   {
    "duration": 10,
    "start_time": "2022-07-08T16:20:16.441Z"
   },
   {
    "duration": 6,
    "start_time": "2022-07-08T16:21:24.422Z"
   },
   {
    "duration": 10,
    "start_time": "2022-07-08T16:21:43.747Z"
   },
   {
    "duration": 3,
    "start_time": "2022-07-08T16:23:54.957Z"
   },
   {
    "duration": 3,
    "start_time": "2022-07-08T16:23:55.704Z"
   },
   {
    "duration": 0,
    "start_time": "2022-07-08T16:50:32.533Z"
   },
   {
    "duration": 0,
    "start_time": "2022-07-08T16:50:32.534Z"
   },
   {
    "duration": 0,
    "start_time": "2022-07-08T16:50:32.535Z"
   },
   {
    "duration": 0,
    "start_time": "2022-07-08T16:50:32.537Z"
   },
   {
    "duration": 0,
    "start_time": "2022-07-08T16:50:32.538Z"
   },
   {
    "duration": 3,
    "start_time": "2022-07-08T16:50:42.115Z"
   },
   {
    "duration": 3,
    "start_time": "2022-07-08T16:50:43.206Z"
   },
   {
    "duration": 674227,
    "start_time": "2022-07-08T16:50:44.610Z"
   },
   {
    "duration": 0,
    "start_time": "2022-07-08T17:01:58.839Z"
   },
   {
    "duration": 0,
    "start_time": "2022-07-08T17:01:58.840Z"
   },
   {
    "duration": 0,
    "start_time": "2022-07-08T17:01:58.841Z"
   },
   {
    "duration": 0,
    "start_time": "2022-07-08T17:01:58.842Z"
   },
   {
    "duration": 3,
    "start_time": "2022-07-08T17:02:04.642Z"
   },
   {
    "duration": 5,
    "start_time": "2022-07-08T17:02:05.303Z"
   },
   {
    "duration": 381869,
    "start_time": "2022-07-08T17:02:06.446Z"
   },
   {
    "duration": 1,
    "start_time": "2022-07-08T17:08:28.316Z"
   },
   {
    "duration": 0,
    "start_time": "2022-07-08T17:08:28.318Z"
   },
   {
    "duration": 0,
    "start_time": "2022-07-08T17:08:28.319Z"
   },
   {
    "duration": 0,
    "start_time": "2022-07-08T17:08:28.320Z"
   },
   {
    "duration": 0,
    "start_time": "2022-07-08T17:08:28.321Z"
   },
   {
    "duration": 3,
    "start_time": "2022-07-08T17:08:43.910Z"
   },
   {
    "duration": 3,
    "start_time": "2022-07-08T17:08:44.485Z"
   },
   {
    "duration": 51726,
    "start_time": "2022-07-08T17:08:45.493Z"
   },
   {
    "duration": 0,
    "start_time": "2022-07-08T17:09:37.221Z"
   },
   {
    "duration": 3,
    "start_time": "2022-07-08T17:09:44.255Z"
   },
   {
    "duration": 4,
    "start_time": "2022-07-08T17:09:44.955Z"
   },
   {
    "duration": 255447,
    "start_time": "2022-07-08T17:09:45.856Z"
   },
   {
    "duration": 21,
    "start_time": "2022-07-08T17:14:01.305Z"
   },
   {
    "duration": 25,
    "start_time": "2022-07-08T17:14:01.328Z"
   },
   {
    "duration": 32,
    "start_time": "2022-07-08T17:14:01.356Z"
   },
   {
    "duration": 22,
    "start_time": "2022-07-08T17:14:01.390Z"
   },
   {
    "duration": 52,
    "start_time": "2022-07-08T17:14:01.414Z"
   },
   {
    "duration": 2,
    "start_time": "2022-07-08T17:14:30.833Z"
   },
   {
    "duration": 3,
    "start_time": "2022-07-08T17:14:41.966Z"
   },
   {
    "duration": 11,
    "start_time": "2022-07-08T17:16:03.292Z"
   },
   {
    "duration": 11,
    "start_time": "2022-07-08T17:16:09.245Z"
   },
   {
    "duration": 4,
    "start_time": "2022-07-08T17:16:35.892Z"
   },
   {
    "duration": 13,
    "start_time": "2022-07-08T17:16:53.667Z"
   },
   {
    "duration": 3,
    "start_time": "2022-07-08T17:18:24.676Z"
   },
   {
    "duration": 10,
    "start_time": "2022-07-08T17:18:39.780Z"
   },
   {
    "duration": 4,
    "start_time": "2022-07-08T17:18:51.173Z"
   },
   {
    "duration": 3,
    "start_time": "2022-07-08T17:19:00.892Z"
   },
   {
    "duration": 3,
    "start_time": "2022-07-08T17:19:10.287Z"
   },
   {
    "duration": 5,
    "start_time": "2022-07-08T17:20:51.852Z"
   },
   {
    "duration": 480,
    "start_time": "2022-07-08T17:21:36.449Z"
   },
   {
    "duration": 12,
    "start_time": "2022-07-08T17:21:56.131Z"
   },
   {
    "duration": 13,
    "start_time": "2022-07-08T17:22:02.892Z"
   },
   {
    "duration": 3,
    "start_time": "2022-07-08T17:22:11.596Z"
   },
   {
    "duration": 10,
    "start_time": "2022-07-08T17:22:13.759Z"
   },
   {
    "duration": 3,
    "start_time": "2022-07-08T17:24:24.717Z"
   },
   {
    "duration": 14,
    "start_time": "2022-07-08T17:24:31.222Z"
   },
   {
    "duration": 156,
    "start_time": "2022-07-08T17:24:37.037Z"
   },
   {
    "duration": 149,
    "start_time": "2022-07-08T17:24:46.129Z"
   },
   {
    "duration": 147,
    "start_time": "2022-07-08T17:24:56.834Z"
   },
   {
    "duration": 150,
    "start_time": "2022-07-08T17:35:56.989Z"
   },
   {
    "duration": 153,
    "start_time": "2022-07-08T17:36:12.024Z"
   },
   {
    "duration": 4,
    "start_time": "2022-07-08T17:38:04.129Z"
   },
   {
    "duration": 11,
    "start_time": "2022-07-08T17:38:07.610Z"
   },
   {
    "duration": 16,
    "start_time": "2022-07-08T17:41:00.252Z"
   },
   {
    "duration": 5,
    "start_time": "2022-07-08T17:41:39.364Z"
   },
   {
    "duration": 8,
    "start_time": "2022-07-08T17:43:18.817Z"
   },
   {
    "duration": 13,
    "start_time": "2022-07-08T17:43:21.050Z"
   },
   {
    "duration": 2,
    "start_time": "2022-07-08T17:43:22.505Z"
   },
   {
    "duration": 3,
    "start_time": "2022-07-08T17:43:23.439Z"
   },
   {
    "duration": 10,
    "start_time": "2022-07-08T17:43:24.568Z"
   },
   {
    "duration": 2,
    "start_time": "2022-07-08T17:43:51.086Z"
   },
   {
    "duration": 12,
    "start_time": "2022-07-08T17:43:51.091Z"
   },
   {
    "duration": 6,
    "start_time": "2022-07-08T17:43:51.106Z"
   },
   {
    "duration": 9,
    "start_time": "2022-07-08T17:43:51.114Z"
   },
   {
    "duration": 9,
    "start_time": "2022-07-08T17:43:51.124Z"
   },
   {
    "duration": 5,
    "start_time": "2022-07-08T17:43:51.135Z"
   },
   {
    "duration": 194,
    "start_time": "2022-07-08T17:43:51.176Z"
   },
   {
    "duration": 5,
    "start_time": "2022-07-08T17:43:51.372Z"
   },
   {
    "duration": 22,
    "start_time": "2022-07-08T17:43:51.378Z"
   },
   {
    "duration": 53,
    "start_time": "2022-07-08T17:43:51.403Z"
   },
   {
    "duration": 12,
    "start_time": "2022-07-08T17:43:51.458Z"
   },
   {
    "duration": 11,
    "start_time": "2022-07-08T17:43:51.472Z"
   },
   {
    "duration": 47,
    "start_time": "2022-07-08T17:43:51.485Z"
   },
   {
    "duration": 12,
    "start_time": "2022-07-08T17:43:51.534Z"
   },
   {
    "duration": 45,
    "start_time": "2022-07-08T17:43:51.548Z"
   },
   {
    "duration": 10,
    "start_time": "2022-07-08T17:43:51.597Z"
   },
   {
    "duration": 11,
    "start_time": "2022-07-08T17:43:51.609Z"
   },
   {
    "duration": 408,
    "start_time": "2022-07-08T17:43:51.622Z"
   },
   {
    "duration": 186,
    "start_time": "2022-07-08T17:43:52.032Z"
   },
   {
    "duration": 2,
    "start_time": "2022-07-08T17:43:52.220Z"
   },
   {
    "duration": 304,
    "start_time": "2022-07-08T17:43:52.225Z"
   },
   {
    "duration": 2,
    "start_time": "2022-07-08T17:43:52.530Z"
   },
   {
    "duration": 400,
    "start_time": "2022-07-08T17:43:52.534Z"
   },
   {
    "duration": 2,
    "start_time": "2022-07-08T17:43:52.936Z"
   },
   {
    "duration": 23504,
    "start_time": "2022-07-08T17:43:52.940Z"
   },
   {
    "duration": 31,
    "start_time": "2022-07-08T17:44:16.446Z"
   },
   {
    "duration": 3,
    "start_time": "2022-07-08T17:44:16.479Z"
   },
   {
    "duration": 18,
    "start_time": "2022-07-08T17:44:16.483Z"
   },
   {
    "duration": 223,
    "start_time": "2022-07-08T17:44:16.502Z"
   },
   {
    "duration": 162,
    "start_time": "2022-07-08T17:44:16.727Z"
   },
   {
    "duration": 342,
    "start_time": "2022-07-08T17:44:16.891Z"
   },
   {
    "duration": 451,
    "start_time": "2022-07-08T17:44:17.234Z"
   },
   {
    "duration": 170,
    "start_time": "2022-07-08T17:44:17.687Z"
   },
   {
    "duration": 43,
    "start_time": "2022-07-08T17:44:17.861Z"
   },
   {
    "duration": 207,
    "start_time": "2022-07-08T17:44:17.905Z"
   },
   {
    "duration": 49,
    "start_time": "2022-07-08T17:44:18.114Z"
   },
   {
    "duration": 46,
    "start_time": "2022-07-08T17:44:18.165Z"
   },
   {
    "duration": 14,
    "start_time": "2022-07-08T17:44:18.213Z"
   },
   {
    "duration": 531,
    "start_time": "2022-07-08T17:44:18.229Z"
   },
   {
    "duration": 23,
    "start_time": "2022-07-08T17:44:18.762Z"
   },
   {
    "duration": 399,
    "start_time": "2022-07-08T17:44:18.787Z"
   },
   {
    "duration": 540,
    "start_time": "2022-07-08T17:44:19.188Z"
   },
   {
    "duration": 16,
    "start_time": "2022-07-08T17:44:19.729Z"
   },
   {
    "duration": 523,
    "start_time": "2022-07-08T17:44:19.746Z"
   },
   {
    "duration": 221,
    "start_time": "2022-07-08T17:44:20.271Z"
   },
   {
    "duration": 385,
    "start_time": "2022-07-08T17:44:20.494Z"
   },
   {
    "duration": 151,
    "start_time": "2022-07-08T17:44:20.881Z"
   },
   {
    "duration": 515,
    "start_time": "2022-07-08T17:44:21.033Z"
   },
   {
    "duration": 656,
    "start_time": "2022-07-08T17:44:21.549Z"
   },
   {
    "duration": 355,
    "start_time": "2022-07-08T17:44:22.207Z"
   },
   {
    "duration": 470,
    "start_time": "2022-07-08T17:44:22.564Z"
   },
   {
    "duration": 172,
    "start_time": "2022-07-08T17:44:23.036Z"
   },
   {
    "duration": 562,
    "start_time": "2022-07-08T17:44:23.209Z"
   },
   {
    "duration": 797,
    "start_time": "2022-07-08T17:44:23.773Z"
   },
   {
    "duration": 133,
    "start_time": "2022-07-08T17:44:24.571Z"
   },
   {
    "duration": 262,
    "start_time": "2022-07-08T17:44:24.706Z"
   },
   {
    "duration": 537,
    "start_time": "2022-07-08T17:44:24.970Z"
   },
   {
    "duration": 590,
    "start_time": "2022-07-08T17:44:25.509Z"
   },
   {
    "duration": 402,
    "start_time": "2022-07-08T17:44:26.101Z"
   },
   {
    "duration": 500,
    "start_time": "2022-07-08T17:44:26.504Z"
   },
   {
    "duration": 538,
    "start_time": "2022-07-08T17:44:27.007Z"
   },
   {
    "duration": 539,
    "start_time": "2022-07-08T17:44:27.547Z"
   },
   {
    "duration": 531,
    "start_time": "2022-07-08T17:44:28.088Z"
   },
   {
    "duration": 575,
    "start_time": "2022-07-08T17:44:28.620Z"
   },
   {
    "duration": 22,
    "start_time": "2022-07-08T17:44:29.196Z"
   },
   {
    "duration": 251,
    "start_time": "2022-07-08T17:44:29.220Z"
   },
   {
    "duration": 439,
    "start_time": "2022-07-08T17:44:29.472Z"
   },
   {
    "duration": 4,
    "start_time": "2022-07-08T17:44:29.913Z"
   },
   {
    "duration": 24,
    "start_time": "2022-07-08T17:44:29.918Z"
   },
   {
    "duration": 242,
    "start_time": "2022-07-08T17:44:29.944Z"
   },
   {
    "duration": 4147,
    "start_time": "2022-07-08T17:44:30.187Z"
   },
   {
    "duration": 4,
    "start_time": "2022-07-08T17:44:34.336Z"
   },
   {
    "duration": 8,
    "start_time": "2022-07-08T17:44:34.341Z"
   },
   {
    "duration": 9,
    "start_time": "2022-07-08T17:44:34.350Z"
   },
   {
    "duration": 4,
    "start_time": "2022-07-08T17:48:20.010Z"
   },
   {
    "duration": 10,
    "start_time": "2022-07-08T17:48:20.016Z"
   },
   {
    "duration": 6,
    "start_time": "2022-07-08T17:48:20.028Z"
   },
   {
    "duration": 2000,
    "start_time": "2022-07-08T17:48:20.036Z"
   },
   {
    "duration": 3,
    "start_time": "2022-07-08T17:48:22.038Z"
   },
   {
    "duration": 5657,
    "start_time": "2022-07-08T17:48:22.043Z"
   },
   {
    "duration": 217,
    "start_time": "2022-07-08T17:48:27.701Z"
   },
   {
    "duration": 4,
    "start_time": "2022-07-08T17:48:27.920Z"
   },
   {
    "duration": 12,
    "start_time": "2022-07-08T17:48:27.926Z"
   },
   {
    "duration": 50,
    "start_time": "2022-07-08T17:48:27.940Z"
   },
   {
    "duration": 10,
    "start_time": "2022-07-08T17:48:27.992Z"
   },
   {
    "duration": 8,
    "start_time": "2022-07-08T17:48:28.003Z"
   },
   {
    "duration": 45,
    "start_time": "2022-07-08T17:48:28.012Z"
   },
   {
    "duration": 10,
    "start_time": "2022-07-08T17:48:28.059Z"
   },
   {
    "duration": 40,
    "start_time": "2022-07-08T17:48:28.071Z"
   },
   {
    "duration": 9,
    "start_time": "2022-07-08T17:48:28.113Z"
   },
   {
    "duration": 8,
    "start_time": "2022-07-08T17:48:28.124Z"
   },
   {
    "duration": 501,
    "start_time": "2022-07-08T17:48:28.133Z"
   },
   {
    "duration": 0,
    "start_time": "2022-07-08T17:48:28.638Z"
   },
   {
    "duration": 0,
    "start_time": "2022-07-08T17:48:28.639Z"
   },
   {
    "duration": 0,
    "start_time": "2022-07-08T17:48:28.641Z"
   },
   {
    "duration": 0,
    "start_time": "2022-07-08T17:48:28.642Z"
   },
   {
    "duration": 0,
    "start_time": "2022-07-08T17:48:28.643Z"
   },
   {
    "duration": 0,
    "start_time": "2022-07-08T17:48:28.645Z"
   },
   {
    "duration": 0,
    "start_time": "2022-07-08T17:48:28.646Z"
   },
   {
    "duration": 0,
    "start_time": "2022-07-08T17:48:28.647Z"
   },
   {
    "duration": 0,
    "start_time": "2022-07-08T17:48:28.648Z"
   },
   {
    "duration": 0,
    "start_time": "2022-07-08T17:48:28.649Z"
   },
   {
    "duration": 0,
    "start_time": "2022-07-08T17:48:28.650Z"
   },
   {
    "duration": 0,
    "start_time": "2022-07-08T17:48:28.651Z"
   },
   {
    "duration": 0,
    "start_time": "2022-07-08T17:48:28.652Z"
   },
   {
    "duration": 0,
    "start_time": "2022-07-08T17:48:28.653Z"
   },
   {
    "duration": 0,
    "start_time": "2022-07-08T17:48:28.653Z"
   },
   {
    "duration": 0,
    "start_time": "2022-07-08T17:48:28.654Z"
   },
   {
    "duration": 0,
    "start_time": "2022-07-08T17:48:28.655Z"
   },
   {
    "duration": 0,
    "start_time": "2022-07-08T17:48:28.656Z"
   },
   {
    "duration": 0,
    "start_time": "2022-07-08T17:48:28.657Z"
   },
   {
    "duration": 0,
    "start_time": "2022-07-08T17:48:28.658Z"
   },
   {
    "duration": 0,
    "start_time": "2022-07-08T17:48:28.659Z"
   },
   {
    "duration": 0,
    "start_time": "2022-07-08T17:48:28.659Z"
   },
   {
    "duration": 0,
    "start_time": "2022-07-08T17:48:28.660Z"
   },
   {
    "duration": 0,
    "start_time": "2022-07-08T17:48:28.661Z"
   },
   {
    "duration": 0,
    "start_time": "2022-07-08T17:48:28.662Z"
   },
   {
    "duration": 0,
    "start_time": "2022-07-08T17:48:28.663Z"
   },
   {
    "duration": 0,
    "start_time": "2022-07-08T17:48:28.664Z"
   },
   {
    "duration": 0,
    "start_time": "2022-07-08T17:48:28.665Z"
   },
   {
    "duration": 0,
    "start_time": "2022-07-08T17:48:28.666Z"
   },
   {
    "duration": 0,
    "start_time": "2022-07-08T17:48:28.667Z"
   },
   {
    "duration": 0,
    "start_time": "2022-07-08T17:48:28.668Z"
   },
   {
    "duration": 0,
    "start_time": "2022-07-08T17:48:28.669Z"
   },
   {
    "duration": 0,
    "start_time": "2022-07-08T17:48:28.701Z"
   },
   {
    "duration": 0,
    "start_time": "2022-07-08T17:48:28.702Z"
   },
   {
    "duration": 0,
    "start_time": "2022-07-08T17:48:28.703Z"
   },
   {
    "duration": 0,
    "start_time": "2022-07-08T17:48:28.704Z"
   },
   {
    "duration": 0,
    "start_time": "2022-07-08T17:48:28.705Z"
   },
   {
    "duration": 0,
    "start_time": "2022-07-08T17:48:28.706Z"
   },
   {
    "duration": 0,
    "start_time": "2022-07-08T17:48:28.707Z"
   },
   {
    "duration": 0,
    "start_time": "2022-07-08T17:48:28.708Z"
   },
   {
    "duration": 0,
    "start_time": "2022-07-08T17:48:28.709Z"
   },
   {
    "duration": 0,
    "start_time": "2022-07-08T17:48:28.710Z"
   },
   {
    "duration": 0,
    "start_time": "2022-07-08T17:48:28.711Z"
   },
   {
    "duration": 0,
    "start_time": "2022-07-08T17:48:28.712Z"
   },
   {
    "duration": 0,
    "start_time": "2022-07-08T17:48:28.713Z"
   },
   {
    "duration": 0,
    "start_time": "2022-07-08T17:48:28.714Z"
   },
   {
    "duration": 0,
    "start_time": "2022-07-08T17:48:28.715Z"
   },
   {
    "duration": 0,
    "start_time": "2022-07-08T17:48:28.716Z"
   },
   {
    "duration": 0,
    "start_time": "2022-07-08T17:48:28.717Z"
   },
   {
    "duration": 0,
    "start_time": "2022-07-08T17:48:28.718Z"
   },
   {
    "duration": 0,
    "start_time": "2022-07-08T17:48:28.719Z"
   },
   {
    "duration": 0,
    "start_time": "2022-07-08T17:48:28.721Z"
   },
   {
    "duration": 0,
    "start_time": "2022-07-08T17:48:28.722Z"
   },
   {
    "duration": 0,
    "start_time": "2022-07-08T17:48:28.723Z"
   },
   {
    "duration": 0,
    "start_time": "2022-07-08T17:48:28.724Z"
   },
   {
    "duration": 0,
    "start_time": "2022-07-08T17:48:28.725Z"
   },
   {
    "duration": 0,
    "start_time": "2022-07-08T17:48:28.726Z"
   },
   {
    "duration": 0,
    "start_time": "2022-07-08T17:48:28.727Z"
   },
   {
    "duration": 0,
    "start_time": "2022-07-08T17:48:28.728Z"
   },
   {
    "duration": 0,
    "start_time": "2022-07-08T17:48:28.729Z"
   },
   {
    "duration": 0,
    "start_time": "2022-07-08T17:48:28.731Z"
   },
   {
    "duration": 0,
    "start_time": "2022-07-08T17:48:28.732Z"
   },
   {
    "duration": 0,
    "start_time": "2022-07-08T17:48:28.733Z"
   },
   {
    "duration": 0,
    "start_time": "2022-07-08T17:48:28.734Z"
   },
   {
    "duration": 0,
    "start_time": "2022-07-08T17:48:28.735Z"
   },
   {
    "duration": 0,
    "start_time": "2022-07-08T17:48:28.736Z"
   },
   {
    "duration": 0,
    "start_time": "2022-07-08T17:48:28.736Z"
   },
   {
    "duration": 0,
    "start_time": "2022-07-08T17:48:28.737Z"
   },
   {
    "duration": 0,
    "start_time": "2022-07-08T17:48:28.738Z"
   },
   {
    "duration": 0,
    "start_time": "2022-07-08T17:48:28.801Z"
   },
   {
    "duration": 0,
    "start_time": "2022-07-08T17:48:28.802Z"
   },
   {
    "duration": 0,
    "start_time": "2022-07-08T17:48:28.803Z"
   },
   {
    "duration": 0,
    "start_time": "2022-07-08T17:48:28.804Z"
   },
   {
    "duration": 0,
    "start_time": "2022-07-08T17:48:28.805Z"
   },
   {
    "duration": 0,
    "start_time": "2022-07-08T17:48:28.806Z"
   },
   {
    "duration": 0,
    "start_time": "2022-07-08T17:48:28.808Z"
   },
   {
    "duration": 0,
    "start_time": "2022-07-08T17:48:28.808Z"
   },
   {
    "duration": 0,
    "start_time": "2022-07-08T17:48:28.811Z"
   },
   {
    "duration": 0,
    "start_time": "2022-07-08T17:48:28.812Z"
   },
   {
    "duration": 0,
    "start_time": "2022-07-08T17:48:28.812Z"
   },
   {
    "duration": 0,
    "start_time": "2022-07-08T17:48:28.813Z"
   },
   {
    "duration": 3,
    "start_time": "2022-07-08T17:48:46.507Z"
   },
   {
    "duration": 6,
    "start_time": "2022-07-08T17:48:46.511Z"
   },
   {
    "duration": 4,
    "start_time": "2022-07-08T17:48:46.518Z"
   },
   {
    "duration": 2008,
    "start_time": "2022-07-08T17:48:46.524Z"
   },
   {
    "duration": 4,
    "start_time": "2022-07-08T17:48:48.534Z"
   },
   {
    "duration": 5470,
    "start_time": "2022-07-08T17:48:48.539Z"
   },
   {
    "duration": 205,
    "start_time": "2022-07-08T17:48:54.011Z"
   },
   {
    "duration": 5,
    "start_time": "2022-07-08T17:48:54.217Z"
   },
   {
    "duration": 13,
    "start_time": "2022-07-08T17:48:54.223Z"
   },
   {
    "duration": 53,
    "start_time": "2022-07-08T17:48:54.237Z"
   },
   {
    "duration": 10,
    "start_time": "2022-07-08T17:48:54.291Z"
   },
   {
    "duration": 8,
    "start_time": "2022-07-08T17:48:54.302Z"
   },
   {
    "duration": 46,
    "start_time": "2022-07-08T17:48:54.313Z"
   },
   {
    "duration": 11,
    "start_time": "2022-07-08T17:48:54.361Z"
   },
   {
    "duration": 43,
    "start_time": "2022-07-08T17:48:54.373Z"
   },
   {
    "duration": 10,
    "start_time": "2022-07-08T17:48:54.418Z"
   },
   {
    "duration": 30,
    "start_time": "2022-07-08T17:48:54.430Z"
   },
   {
    "duration": 396,
    "start_time": "2022-07-08T17:48:54.462Z"
   },
   {
    "duration": 180,
    "start_time": "2022-07-08T17:48:54.859Z"
   },
   {
    "duration": 3,
    "start_time": "2022-07-08T17:48:55.041Z"
   },
   {
    "duration": 335,
    "start_time": "2022-07-08T17:48:55.046Z"
   },
   {
    "duration": 3,
    "start_time": "2022-07-08T17:48:55.382Z"
   },
   {
    "duration": 394,
    "start_time": "2022-07-08T17:48:55.386Z"
   },
   {
    "duration": 2,
    "start_time": "2022-07-08T17:48:55.782Z"
   },
   {
    "duration": 22560,
    "start_time": "2022-07-08T17:48:55.786Z"
   },
   {
    "duration": 36,
    "start_time": "2022-07-08T17:49:18.347Z"
   },
   {
    "duration": 16,
    "start_time": "2022-07-08T17:49:18.385Z"
   },
   {
    "duration": 9,
    "start_time": "2022-07-08T17:49:18.403Z"
   },
   {
    "duration": 166,
    "start_time": "2022-07-08T17:49:18.414Z"
   },
   {
    "duration": 199,
    "start_time": "2022-07-08T17:49:18.582Z"
   },
   {
    "duration": 365,
    "start_time": "2022-07-08T17:49:18.785Z"
   },
   {
    "duration": 485,
    "start_time": "2022-07-08T17:49:19.152Z"
   },
   {
    "duration": 193,
    "start_time": "2022-07-08T17:49:19.639Z"
   },
   {
    "duration": 34,
    "start_time": "2022-07-08T17:49:19.834Z"
   },
   {
    "duration": 222,
    "start_time": "2022-07-08T17:49:19.870Z"
   },
   {
    "duration": 59,
    "start_time": "2022-07-08T17:49:20.094Z"
   },
   {
    "duration": 50,
    "start_time": "2022-07-08T17:49:20.155Z"
   },
   {
    "duration": 20,
    "start_time": "2022-07-08T17:49:20.207Z"
   },
   {
    "duration": 575,
    "start_time": "2022-07-08T17:49:20.228Z"
   },
   {
    "duration": 29,
    "start_time": "2022-07-08T17:49:20.805Z"
   },
   {
    "duration": 460,
    "start_time": "2022-07-08T17:49:20.836Z"
   },
   {
    "duration": 610,
    "start_time": "2022-07-08T17:49:21.297Z"
   },
   {
    "duration": 24,
    "start_time": "2022-07-08T17:49:21.909Z"
   },
   {
    "duration": 581,
    "start_time": "2022-07-08T17:49:21.935Z"
   },
   {
    "duration": 270,
    "start_time": "2022-07-08T17:49:22.518Z"
   },
   {
    "duration": 435,
    "start_time": "2022-07-08T17:49:22.789Z"
   },
   {
    "duration": 186,
    "start_time": "2022-07-08T17:49:23.226Z"
   },
   {
    "duration": 552,
    "start_time": "2022-07-08T17:49:23.414Z"
   },
   {
    "duration": 683,
    "start_time": "2022-07-08T17:49:23.968Z"
   },
   {
    "duration": 339,
    "start_time": "2022-07-08T17:49:24.652Z"
   },
   {
    "duration": 509,
    "start_time": "2022-07-08T17:49:24.993Z"
   },
   {
    "duration": 188,
    "start_time": "2022-07-08T17:49:25.503Z"
   },
   {
    "duration": 568,
    "start_time": "2022-07-08T17:49:25.693Z"
   },
   {
    "duration": 766,
    "start_time": "2022-07-08T17:49:26.263Z"
   },
   {
    "duration": 135,
    "start_time": "2022-07-08T17:49:27.031Z"
   },
   {
    "duration": 264,
    "start_time": "2022-07-08T17:49:27.168Z"
   },
   {
    "duration": 517,
    "start_time": "2022-07-08T17:49:27.434Z"
   },
   {
    "duration": 615,
    "start_time": "2022-07-08T17:49:27.953Z"
   },
   {
    "duration": 450,
    "start_time": "2022-07-08T17:49:28.570Z"
   },
   {
    "duration": 529,
    "start_time": "2022-07-08T17:49:29.022Z"
   },
   {
    "duration": 548,
    "start_time": "2022-07-08T17:49:29.553Z"
   },
   {
    "duration": 590,
    "start_time": "2022-07-08T17:49:30.103Z"
   },
   {
    "duration": 561,
    "start_time": "2022-07-08T17:49:30.696Z"
   },
   {
    "duration": 606,
    "start_time": "2022-07-08T17:49:31.259Z"
   },
   {
    "duration": 22,
    "start_time": "2022-07-08T17:49:31.866Z"
   },
   {
    "duration": 288,
    "start_time": "2022-07-08T17:49:31.900Z"
   },
   {
    "duration": 479,
    "start_time": "2022-07-08T17:49:32.190Z"
   },
   {
    "duration": 3,
    "start_time": "2022-07-08T17:49:32.671Z"
   },
   {
    "duration": 42,
    "start_time": "2022-07-08T17:49:32.676Z"
   },
   {
    "duration": 224,
    "start_time": "2022-07-08T17:49:32.720Z"
   },
   {
    "duration": 4365,
    "start_time": "2022-07-08T17:49:32.945Z"
   },
   {
    "duration": 4,
    "start_time": "2022-07-08T17:49:37.312Z"
   },
   {
    "duration": 13,
    "start_time": "2022-07-08T17:49:37.317Z"
   },
   {
    "duration": 11,
    "start_time": "2022-07-08T17:49:37.332Z"
   },
   {
    "duration": 128474,
    "start_time": "2022-07-08T17:49:37.345Z"
   },
   {
    "duration": 4,
    "start_time": "2022-07-08T17:51:45.820Z"
   },
   {
    "duration": 7,
    "start_time": "2022-07-08T17:51:45.825Z"
   },
   {
    "duration": 6,
    "start_time": "2022-07-08T17:51:45.834Z"
   },
   {
    "duration": 12,
    "start_time": "2022-07-08T17:51:45.841Z"
   },
   {
    "duration": 9,
    "start_time": "2022-07-08T17:51:45.855Z"
   },
   {
    "duration": 8,
    "start_time": "2022-07-08T17:51:45.865Z"
   },
   {
    "duration": 15,
    "start_time": "2022-07-08T17:51:45.875Z"
   },
   {
    "duration": 22,
    "start_time": "2022-07-08T17:51:45.892Z"
   },
   {
    "duration": 5943,
    "start_time": "2022-07-08T17:51:45.916Z"
   },
   {
    "duration": 2,
    "start_time": "2022-07-08T17:51:51.865Z"
   },
   {
    "duration": 14,
    "start_time": "2022-07-08T17:51:51.869Z"
   },
   {
    "duration": 538,
    "start_time": "2022-07-08T17:51:51.884Z"
   },
   {
    "duration": 5,
    "start_time": "2022-07-08T17:51:52.424Z"
   },
   {
    "duration": 72,
    "start_time": "2022-07-08T17:51:52.431Z"
   },
   {
    "duration": 24,
    "start_time": "2022-07-08T17:51:52.504Z"
   },
   {
    "duration": 593,
    "start_time": "2022-07-08T17:51:52.530Z"
   },
   {
    "duration": 0,
    "start_time": "2022-07-08T17:51:53.125Z"
   },
   {
    "duration": 0,
    "start_time": "2022-07-08T17:51:53.126Z"
   },
   {
    "duration": 0,
    "start_time": "2022-07-08T17:51:53.127Z"
   },
   {
    "duration": 0,
    "start_time": "2022-07-08T17:51:53.129Z"
   },
   {
    "duration": 0,
    "start_time": "2022-07-08T17:51:53.129Z"
   },
   {
    "duration": 0,
    "start_time": "2022-07-08T17:51:53.131Z"
   },
   {
    "duration": 0,
    "start_time": "2022-07-08T17:51:53.132Z"
   },
   {
    "duration": 0,
    "start_time": "2022-07-08T17:51:53.133Z"
   },
   {
    "duration": 252705,
    "start_time": "2022-07-08T17:52:50.796Z"
   },
   {
    "duration": 19,
    "start_time": "2022-07-08T17:57:03.503Z"
   },
   {
    "duration": 6,
    "start_time": "2022-07-08T17:57:45.486Z"
   },
   {
    "duration": 10,
    "start_time": "2022-07-08T17:57:47.521Z"
   },
   {
    "duration": 11,
    "start_time": "2022-07-08T17:57:48.678Z"
   },
   {
    "duration": 39,
    "start_time": "2022-07-08T17:58:22.964Z"
   },
   {
    "duration": 40,
    "start_time": "2022-07-08T17:58:29.849Z"
   },
   {
    "duration": 39,
    "start_time": "2022-07-08T17:58:34.738Z"
   },
   {
    "duration": 5,
    "start_time": "2022-07-08T18:00:07.251Z"
   },
   {
    "duration": 5,
    "start_time": "2022-07-08T18:00:22.781Z"
   },
   {
    "duration": 407,
    "start_time": "2022-07-08T18:00:24.177Z"
   },
   {
    "duration": 18,
    "start_time": "2022-07-08T18:00:28.552Z"
   },
   {
    "duration": 5,
    "start_time": "2022-07-08T18:05:44.406Z"
   },
   {
    "duration": 14,
    "start_time": "2022-07-08T18:06:25.284Z"
   },
   {
    "duration": 6,
    "start_time": "2022-07-08T18:07:45.162Z"
   },
   {
    "duration": 19,
    "start_time": "2022-07-08T18:07:54.257Z"
   },
   {
    "duration": 26,
    "start_time": "2022-07-08T18:09:48.149Z"
   },
   {
    "duration": 25,
    "start_time": "2022-07-08T18:09:50.449Z"
   },
   {
    "duration": 9,
    "start_time": "2022-07-08T18:10:40.849Z"
   },
   {
    "duration": 71,
    "start_time": "2022-07-08T18:11:35.954Z"
   },
   {
    "duration": 5,
    "start_time": "2022-07-08T18:11:41.131Z"
   },
   {
    "duration": 17,
    "start_time": "2022-07-08T18:12:06.358Z"
   },
   {
    "duration": 16,
    "start_time": "2022-07-08T18:12:26.711Z"
   },
   {
    "duration": 7,
    "start_time": "2022-07-08T18:12:28.904Z"
   },
   {
    "duration": 4,
    "start_time": "2022-07-08T18:14:06.065Z"
   },
   {
    "duration": 5,
    "start_time": "2022-07-08T18:14:38.013Z"
   },
   {
    "duration": 34,
    "start_time": "2022-07-08T18:14:57.426Z"
   },
   {
    "duration": 12,
    "start_time": "2022-07-08T18:15:39.976Z"
   },
   {
    "duration": 12,
    "start_time": "2022-07-08T18:15:50.227Z"
   },
   {
    "duration": 12,
    "start_time": "2022-07-08T18:16:10.486Z"
   },
   {
    "duration": 5,
    "start_time": "2022-07-08T18:16:16.869Z"
   },
   {
    "duration": 5,
    "start_time": "2022-07-08T18:16:35.571Z"
   },
   {
    "duration": 5,
    "start_time": "2022-07-08T18:16:42.009Z"
   },
   {
    "duration": 16,
    "start_time": "2022-07-08T18:17:04.442Z"
   },
   {
    "duration": 25,
    "start_time": "2022-07-08T18:17:51.498Z"
   },
   {
    "duration": 17,
    "start_time": "2022-07-08T18:17:56.792Z"
   },
   {
    "duration": 6,
    "start_time": "2022-07-08T18:18:23.556Z"
   },
   {
    "duration": 5,
    "start_time": "2022-07-08T18:19:03.806Z"
   },
   {
    "duration": 19,
    "start_time": "2022-07-08T18:19:12.345Z"
   },
   {
    "duration": 29,
    "start_time": "2022-07-08T18:23:31.250Z"
   },
   {
    "duration": 16,
    "start_time": "2022-07-08T18:24:39.555Z"
   },
   {
    "duration": 15,
    "start_time": "2022-07-08T18:24:54.897Z"
   },
   {
    "duration": 3978,
    "start_time": "2022-07-08T18:26:40.777Z"
   },
   {
    "duration": 4,
    "start_time": "2022-07-08T18:26:59.414Z"
   },
   {
    "duration": 3,
    "start_time": "2022-07-08T18:27:09.102Z"
   },
   {
    "duration": 3,
    "start_time": "2022-07-08T18:27:20.911Z"
   },
   {
    "duration": 12,
    "start_time": "2022-07-08T18:27:27.501Z"
   },
   {
    "duration": 10,
    "start_time": "2022-07-08T18:27:42.371Z"
   },
   {
    "duration": 4054,
    "start_time": "2022-07-08T18:27:53.950Z"
   },
   {
    "duration": 4141,
    "start_time": "2022-07-08T18:28:34.890Z"
   },
   {
    "duration": 25,
    "start_time": "2022-07-08T18:31:51.774Z"
   },
   {
    "duration": 947,
    "start_time": "2022-07-08T18:32:55.755Z"
   },
   {
    "duration": 8761,
    "start_time": "2022-07-08T18:32:57.334Z"
   },
   {
    "duration": 5,
    "start_time": "2022-07-08T18:33:09.685Z"
   },
   {
    "duration": 3,
    "start_time": "2022-07-08T18:33:25.334Z"
   },
   {
    "duration": 2,
    "start_time": "2022-07-08T18:33:25.368Z"
   },
   {
    "duration": 14,
    "start_time": "2022-07-08T18:33:25.372Z"
   },
   {
    "duration": 21,
    "start_time": "2022-07-08T18:33:25.388Z"
   },
   {
    "duration": 27,
    "start_time": "2022-07-08T18:33:25.411Z"
   },
   {
    "duration": 42,
    "start_time": "2022-07-08T18:33:25.440Z"
   },
   {
    "duration": 200,
    "start_time": "2022-07-08T18:33:25.484Z"
   },
   {
    "duration": 6,
    "start_time": "2022-07-08T18:33:25.686Z"
   },
   {
    "duration": 27,
    "start_time": "2022-07-08T18:33:25.694Z"
   },
   {
    "duration": 67,
    "start_time": "2022-07-08T18:33:25.723Z"
   },
   {
    "duration": 11,
    "start_time": "2022-07-08T18:33:25.792Z"
   },
   {
    "duration": 11,
    "start_time": "2022-07-08T18:33:25.805Z"
   },
   {
    "duration": 54,
    "start_time": "2022-07-08T18:33:25.818Z"
   },
   {
    "duration": 10,
    "start_time": "2022-07-08T18:33:25.873Z"
   },
   {
    "duration": 52,
    "start_time": "2022-07-08T18:33:25.885Z"
   },
   {
    "duration": 10,
    "start_time": "2022-07-08T18:33:25.938Z"
   },
   {
    "duration": 15,
    "start_time": "2022-07-08T18:33:25.950Z"
   },
   {
    "duration": 386,
    "start_time": "2022-07-08T18:33:25.966Z"
   },
   {
    "duration": 174,
    "start_time": "2022-07-08T18:33:26.354Z"
   },
   {
    "duration": 2,
    "start_time": "2022-07-08T18:33:26.530Z"
   },
   {
    "duration": 311,
    "start_time": "2022-07-08T18:33:26.534Z"
   },
   {
    "duration": 3,
    "start_time": "2022-07-08T18:33:26.847Z"
   },
   {
    "duration": 379,
    "start_time": "2022-07-08T18:33:26.851Z"
   },
   {
    "duration": 3,
    "start_time": "2022-07-08T18:33:27.231Z"
   },
   {
    "duration": 18704,
    "start_time": "2022-07-08T18:33:27.236Z"
   },
   {
    "duration": 30,
    "start_time": "2022-07-08T18:33:45.942Z"
   },
   {
    "duration": 2,
    "start_time": "2022-07-08T18:33:45.973Z"
   },
   {
    "duration": 22,
    "start_time": "2022-07-08T18:33:45.979Z"
   },
   {
    "duration": 301,
    "start_time": "2022-07-08T18:33:46.002Z"
   },
   {
    "duration": 168,
    "start_time": "2022-07-08T18:33:46.305Z"
   },
   {
    "duration": 334,
    "start_time": "2022-07-08T18:33:46.475Z"
   },
   {
    "duration": 433,
    "start_time": "2022-07-08T18:33:46.810Z"
   },
   {
    "duration": 176,
    "start_time": "2022-07-08T18:33:47.245Z"
   },
   {
    "duration": 34,
    "start_time": "2022-07-08T18:33:47.423Z"
   },
   {
    "duration": 219,
    "start_time": "2022-07-08T18:33:47.458Z"
   },
   {
    "duration": 55,
    "start_time": "2022-07-08T18:33:47.678Z"
   },
   {
    "duration": 24,
    "start_time": "2022-07-08T18:33:47.735Z"
   },
   {
    "duration": 15,
    "start_time": "2022-07-08T18:33:47.760Z"
   },
   {
    "duration": 551,
    "start_time": "2022-07-08T18:33:47.776Z"
   },
   {
    "duration": 24,
    "start_time": "2022-07-08T18:33:48.328Z"
   },
   {
    "duration": 439,
    "start_time": "2022-07-08T18:33:48.353Z"
   },
   {
    "duration": 552,
    "start_time": "2022-07-08T18:33:48.794Z"
   },
   {
    "duration": 18,
    "start_time": "2022-07-08T18:33:49.349Z"
   },
   {
    "duration": 532,
    "start_time": "2022-07-08T18:33:49.369Z"
   },
   {
    "duration": 233,
    "start_time": "2022-07-08T18:33:49.903Z"
   },
   {
    "duration": 374,
    "start_time": "2022-07-08T18:33:50.138Z"
   },
   {
    "duration": 173,
    "start_time": "2022-07-08T18:33:50.515Z"
   },
   {
    "duration": 528,
    "start_time": "2022-07-08T18:33:50.691Z"
   },
   {
    "duration": 683,
    "start_time": "2022-07-08T18:33:51.221Z"
   },
   {
    "duration": 331,
    "start_time": "2022-07-08T18:33:51.906Z"
   },
   {
    "duration": 424,
    "start_time": "2022-07-08T18:33:52.239Z"
   },
   {
    "duration": 171,
    "start_time": "2022-07-08T18:33:52.665Z"
   },
   {
    "duration": 481,
    "start_time": "2022-07-08T18:33:52.837Z"
   },
   {
    "duration": 698,
    "start_time": "2022-07-08T18:33:53.320Z"
   },
   {
    "duration": 121,
    "start_time": "2022-07-08T18:33:54.019Z"
   },
   {
    "duration": 225,
    "start_time": "2022-07-08T18:33:54.141Z"
   },
   {
    "duration": 436,
    "start_time": "2022-07-08T18:33:54.367Z"
   },
   {
    "duration": 535,
    "start_time": "2022-07-08T18:33:54.805Z"
   },
   {
    "duration": 418,
    "start_time": "2022-07-08T18:33:55.342Z"
   },
   {
    "duration": 463,
    "start_time": "2022-07-08T18:33:55.761Z"
   },
   {
    "duration": 470,
    "start_time": "2022-07-08T18:33:56.225Z"
   },
   {
    "duration": 474,
    "start_time": "2022-07-08T18:33:56.697Z"
   },
   {
    "duration": 466,
    "start_time": "2022-07-08T18:33:57.173Z"
   },
   {
    "duration": 517,
    "start_time": "2022-07-08T18:33:57.640Z"
   },
   {
    "duration": 21,
    "start_time": "2022-07-08T18:33:58.158Z"
   },
   {
    "duration": 253,
    "start_time": "2022-07-08T18:33:58.181Z"
   },
   {
    "duration": 540,
    "start_time": "2022-07-08T18:33:58.435Z"
   },
   {
    "duration": 3,
    "start_time": "2022-07-08T18:33:58.977Z"
   },
   {
    "duration": 23,
    "start_time": "2022-07-08T18:33:58.981Z"
   },
   {
    "duration": 224,
    "start_time": "2022-07-08T18:33:59.006Z"
   },
   {
    "duration": 3876,
    "start_time": "2022-07-08T18:33:59.232Z"
   },
   {
    "duration": 3,
    "start_time": "2022-07-08T18:34:03.110Z"
   },
   {
    "duration": 14,
    "start_time": "2022-07-08T18:34:03.119Z"
   },
   {
    "duration": 11,
    "start_time": "2022-07-08T18:34:03.135Z"
   },
   {
    "duration": 108257,
    "start_time": "2022-07-08T18:34:03.148Z"
   },
   {
    "duration": 5,
    "start_time": "2022-07-08T18:35:51.407Z"
   },
   {
    "duration": 4034,
    "start_time": "2022-07-08T18:35:51.414Z"
   },
   {
    "duration": 0,
    "start_time": "2022-07-08T18:35:55.450Z"
   },
   {
    "duration": 0,
    "start_time": "2022-07-08T18:35:55.452Z"
   },
   {
    "duration": 0,
    "start_time": "2022-07-08T18:35:55.453Z"
   },
   {
    "duration": 0,
    "start_time": "2022-07-08T18:35:55.454Z"
   },
   {
    "duration": 0,
    "start_time": "2022-07-08T18:35:55.456Z"
   },
   {
    "duration": 0,
    "start_time": "2022-07-08T18:35:55.457Z"
   },
   {
    "duration": 0,
    "start_time": "2022-07-08T18:35:55.459Z"
   },
   {
    "duration": 0,
    "start_time": "2022-07-08T18:35:55.460Z"
   },
   {
    "duration": 0,
    "start_time": "2022-07-08T18:35:55.462Z"
   },
   {
    "duration": 0,
    "start_time": "2022-07-08T18:35:55.463Z"
   },
   {
    "duration": 0,
    "start_time": "2022-07-08T18:35:55.464Z"
   },
   {
    "duration": 0,
    "start_time": "2022-07-08T18:35:55.464Z"
   },
   {
    "duration": 0,
    "start_time": "2022-07-08T18:35:55.466Z"
   },
   {
    "duration": 0,
    "start_time": "2022-07-08T18:35:55.468Z"
   },
   {
    "duration": 0,
    "start_time": "2022-07-08T18:35:55.469Z"
   },
   {
    "duration": 0,
    "start_time": "2022-07-08T18:35:55.470Z"
   },
   {
    "duration": 0,
    "start_time": "2022-07-08T18:35:55.472Z"
   },
   {
    "duration": 0,
    "start_time": "2022-07-08T18:35:55.501Z"
   },
   {
    "duration": 0,
    "start_time": "2022-07-08T18:35:55.503Z"
   },
   {
    "duration": 0,
    "start_time": "2022-07-08T18:35:55.505Z"
   },
   {
    "duration": 0,
    "start_time": "2022-07-08T18:35:55.506Z"
   },
   {
    "duration": 0,
    "start_time": "2022-07-08T18:35:55.508Z"
   },
   {
    "duration": 3984,
    "start_time": "2022-07-08T18:36:30.109Z"
   },
   {
    "duration": 3883,
    "start_time": "2022-07-08T18:37:19.227Z"
   },
   {
    "duration": 0,
    "start_time": "2022-07-08T18:37:23.112Z"
   },
   {
    "duration": 0,
    "start_time": "2022-07-08T18:37:23.113Z"
   },
   {
    "duration": 18,
    "start_time": "2022-07-08T18:37:35.768Z"
   },
   {
    "duration": 4,
    "start_time": "2022-07-08T18:38:33.148Z"
   },
   {
    "duration": 16,
    "start_time": "2022-07-08T18:38:40.255Z"
   },
   {
    "duration": 17,
    "start_time": "2022-07-08T18:45:03.360Z"
   },
   {
    "duration": 17,
    "start_time": "2022-07-08T18:45:14.604Z"
   },
   {
    "duration": 3958,
    "start_time": "2022-07-08T18:46:20.106Z"
   },
   {
    "duration": 3,
    "start_time": "2022-07-08T18:46:27.346Z"
   },
   {
    "duration": 2,
    "start_time": "2022-07-08T18:46:29.618Z"
   },
   {
    "duration": 16,
    "start_time": "2022-07-08T18:46:33.266Z"
   },
   {
    "duration": 16,
    "start_time": "2022-07-08T18:47:43.750Z"
   },
   {
    "duration": 18,
    "start_time": "2022-07-08T18:47:55.156Z"
   },
   {
    "duration": 23,
    "start_time": "2022-07-08T18:47:59.834Z"
   },
   {
    "duration": 683,
    "start_time": "2022-07-08T18:54:46.614Z"
   },
   {
    "duration": 719,
    "start_time": "2022-07-08T18:55:15.101Z"
   },
   {
    "duration": 666,
    "start_time": "2022-07-08T18:55:24.412Z"
   },
   {
    "duration": 1825,
    "start_time": "2022-07-08T18:56:40.520Z"
   },
   {
    "duration": 17,
    "start_time": "2022-07-08T18:56:52.704Z"
   },
   {
    "duration": 1287,
    "start_time": "2022-07-08T18:57:33.948Z"
   },
   {
    "duration": 17,
    "start_time": "2022-07-08T18:58:25.707Z"
   },
   {
    "duration": 16,
    "start_time": "2022-07-08T18:58:39.260Z"
   },
   {
    "duration": 24,
    "start_time": "2022-07-08T18:59:05.293Z"
   },
   {
    "duration": 4,
    "start_time": "2022-07-09T07:41:29.763Z"
   },
   {
    "duration": 7,
    "start_time": "2022-07-09T07:41:29.769Z"
   },
   {
    "duration": 908,
    "start_time": "2022-07-09T07:41:29.777Z"
   },
   {
    "duration": 1418,
    "start_time": "2022-07-09T07:41:30.687Z"
   },
   {
    "duration": 5,
    "start_time": "2022-07-09T07:41:32.107Z"
   },
   {
    "duration": 7079,
    "start_time": "2022-07-09T07:41:32.116Z"
   },
   {
    "duration": 255,
    "start_time": "2022-07-09T07:41:39.196Z"
   },
   {
    "duration": 6,
    "start_time": "2022-07-09T07:41:39.453Z"
   },
   {
    "duration": 16,
    "start_time": "2022-07-09T07:41:39.461Z"
   },
   {
    "duration": 87,
    "start_time": "2022-07-09T07:41:39.479Z"
   },
   {
    "duration": 12,
    "start_time": "2022-07-09T07:41:39.568Z"
   },
   {
    "duration": 7,
    "start_time": "2022-07-09T07:41:39.581Z"
   },
   {
    "duration": 64,
    "start_time": "2022-07-09T07:41:39.589Z"
   },
   {
    "duration": 11,
    "start_time": "2022-07-09T07:41:39.655Z"
   },
   {
    "duration": 54,
    "start_time": "2022-07-09T07:41:39.667Z"
   },
   {
    "duration": 9,
    "start_time": "2022-07-09T07:41:39.723Z"
   },
   {
    "duration": 7,
    "start_time": "2022-07-09T07:41:39.734Z"
   },
   {
    "duration": 283,
    "start_time": "2022-07-09T07:41:39.742Z"
   },
   {
    "duration": 193,
    "start_time": "2022-07-09T07:41:40.027Z"
   },
   {
    "duration": 3,
    "start_time": "2022-07-09T07:41:40.222Z"
   },
   {
    "duration": 351,
    "start_time": "2022-07-09T07:41:40.227Z"
   },
   {
    "duration": 3,
    "start_time": "2022-07-09T07:41:40.579Z"
   },
   {
    "duration": 428,
    "start_time": "2022-07-09T07:41:40.583Z"
   },
   {
    "duration": 4,
    "start_time": "2022-07-09T07:41:41.015Z"
   },
   {
    "duration": 23739,
    "start_time": "2022-07-09T07:41:41.022Z"
   },
   {
    "duration": 40,
    "start_time": "2022-07-09T07:42:04.763Z"
   },
   {
    "duration": 4,
    "start_time": "2022-07-09T07:42:04.805Z"
   },
   {
    "duration": 19,
    "start_time": "2022-07-09T07:42:04.822Z"
   },
   {
    "duration": 112,
    "start_time": "2022-07-09T07:42:04.843Z"
   },
   {
    "duration": 119,
    "start_time": "2022-07-09T07:42:04.957Z"
   },
   {
    "duration": 425,
    "start_time": "2022-07-09T07:42:05.077Z"
   },
   {
    "duration": 477,
    "start_time": "2022-07-09T07:42:05.508Z"
   },
   {
    "duration": 200,
    "start_time": "2022-07-09T07:42:05.986Z"
   },
   {
    "duration": 42,
    "start_time": "2022-07-09T07:42:06.188Z"
   },
   {
    "duration": 231,
    "start_time": "2022-07-09T07:42:06.232Z"
   },
   {
    "duration": 76,
    "start_time": "2022-07-09T07:42:06.465Z"
   },
   {
    "duration": 24,
    "start_time": "2022-07-09T07:42:06.543Z"
   },
   {
    "duration": 14,
    "start_time": "2022-07-09T07:42:06.569Z"
   },
   {
    "duration": 494,
    "start_time": "2022-07-09T07:42:06.603Z"
   },
   {
    "duration": 35,
    "start_time": "2022-07-09T07:42:07.098Z"
   },
   {
    "duration": 379,
    "start_time": "2022-07-09T07:42:07.135Z"
   },
   {
    "duration": 464,
    "start_time": "2022-07-09T07:42:07.519Z"
   },
   {
    "duration": 37,
    "start_time": "2022-07-09T07:42:07.985Z"
   },
   {
    "duration": 519,
    "start_time": "2022-07-09T07:42:08.024Z"
   },
   {
    "duration": 232,
    "start_time": "2022-07-09T07:42:08.544Z"
   },
   {
    "duration": 440,
    "start_time": "2022-07-09T07:42:08.778Z"
   },
   {
    "duration": 164,
    "start_time": "2022-07-09T07:42:09.220Z"
   },
   {
    "duration": 508,
    "start_time": "2022-07-09T07:42:09.386Z"
   },
   {
    "duration": 666,
    "start_time": "2022-07-09T07:42:09.895Z"
   },
   {
    "duration": 374,
    "start_time": "2022-07-09T07:42:10.563Z"
   },
   {
    "duration": 504,
    "start_time": "2022-07-09T07:42:10.939Z"
   },
   {
    "duration": 203,
    "start_time": "2022-07-09T07:42:11.445Z"
   },
   {
    "duration": 490,
    "start_time": "2022-07-09T07:42:11.650Z"
   },
   {
    "duration": 727,
    "start_time": "2022-07-09T07:42:12.141Z"
   },
   {
    "duration": 116,
    "start_time": "2022-07-09T07:42:12.870Z"
   },
   {
    "duration": 227,
    "start_time": "2022-07-09T07:42:12.987Z"
   },
   {
    "duration": 463,
    "start_time": "2022-07-09T07:42:13.216Z"
   },
   {
    "duration": 535,
    "start_time": "2022-07-09T07:42:13.680Z"
   },
   {
    "duration": 411,
    "start_time": "2022-07-09T07:42:14.221Z"
   },
   {
    "duration": 455,
    "start_time": "2022-07-09T07:42:14.634Z"
   },
   {
    "duration": 556,
    "start_time": "2022-07-09T07:42:15.091Z"
   },
   {
    "duration": 514,
    "start_time": "2022-07-09T07:42:15.648Z"
   },
   {
    "duration": 463,
    "start_time": "2022-07-09T07:42:16.164Z"
   },
   {
    "duration": 498,
    "start_time": "2022-07-09T07:42:16.630Z"
   },
   {
    "duration": 21,
    "start_time": "2022-07-09T07:42:17.130Z"
   },
   {
    "duration": 297,
    "start_time": "2022-07-09T07:42:17.153Z"
   },
   {
    "duration": 342,
    "start_time": "2022-07-09T07:42:17.453Z"
   },
   {
    "duration": 4,
    "start_time": "2022-07-09T07:42:17.796Z"
   },
   {
    "duration": 35,
    "start_time": "2022-07-09T07:42:17.801Z"
   },
   {
    "duration": 144,
    "start_time": "2022-07-09T07:42:17.838Z"
   },
   {
    "duration": 3095,
    "start_time": "2022-07-09T07:42:17.984Z"
   },
   {
    "duration": 3,
    "start_time": "2022-07-09T07:42:21.081Z"
   },
   {
    "duration": 10,
    "start_time": "2022-07-09T07:42:21.086Z"
   },
   {
    "duration": 24,
    "start_time": "2022-07-09T07:42:21.100Z"
   },
   {
    "duration": 173632,
    "start_time": "2022-07-09T07:42:21.128Z"
   },
   {
    "duration": 3362,
    "start_time": "2022-07-09T07:45:14.762Z"
   },
   {
    "duration": 0,
    "start_time": "2022-07-09T07:45:18.126Z"
   },
   {
    "duration": 0,
    "start_time": "2022-07-09T07:45:18.128Z"
   },
   {
    "duration": 0,
    "start_time": "2022-07-09T07:45:18.129Z"
   },
   {
    "duration": 0,
    "start_time": "2022-07-09T07:45:18.130Z"
   },
   {
    "duration": 0,
    "start_time": "2022-07-09T07:45:18.131Z"
   },
   {
    "duration": 0,
    "start_time": "2022-07-09T07:45:18.132Z"
   },
   {
    "duration": 0,
    "start_time": "2022-07-09T07:45:18.133Z"
   },
   {
    "duration": 0,
    "start_time": "2022-07-09T07:45:18.134Z"
   },
   {
    "duration": 0,
    "start_time": "2022-07-09T07:45:18.135Z"
   },
   {
    "duration": 0,
    "start_time": "2022-07-09T07:45:18.136Z"
   },
   {
    "duration": 0,
    "start_time": "2022-07-09T07:45:18.137Z"
   },
   {
    "duration": 0,
    "start_time": "2022-07-09T07:45:18.139Z"
   },
   {
    "duration": 0,
    "start_time": "2022-07-09T07:45:18.140Z"
   },
   {
    "duration": 0,
    "start_time": "2022-07-09T07:45:18.141Z"
   },
   {
    "duration": 0,
    "start_time": "2022-07-09T07:45:18.142Z"
   },
   {
    "duration": 0,
    "start_time": "2022-07-09T07:45:18.143Z"
   },
   {
    "duration": 0,
    "start_time": "2022-07-09T07:45:18.145Z"
   },
   {
    "duration": 0,
    "start_time": "2022-07-09T07:45:18.146Z"
   },
   {
    "duration": 0,
    "start_time": "2022-07-09T07:45:18.147Z"
   },
   {
    "duration": 0,
    "start_time": "2022-07-09T07:45:18.148Z"
   },
   {
    "duration": 0,
    "start_time": "2022-07-09T07:45:18.149Z"
   },
   {
    "duration": 0,
    "start_time": "2022-07-09T07:45:18.150Z"
   },
   {
    "duration": 0,
    "start_time": "2022-07-09T07:45:18.151Z"
   },
   {
    "duration": 0,
    "start_time": "2022-07-09T07:45:18.152Z"
   },
   {
    "duration": 0,
    "start_time": "2022-07-09T07:45:18.153Z"
   },
   {
    "duration": 0,
    "start_time": "2022-07-09T07:45:18.154Z"
   },
   {
    "duration": 0,
    "start_time": "2022-07-09T07:45:18.155Z"
   },
   {
    "duration": 6,
    "start_time": "2022-07-09T08:00:57.597Z"
   },
   {
    "duration": 73,
    "start_time": "2022-07-09T10:49:39.846Z"
   },
   {
    "duration": 72,
    "start_time": "2022-07-09T10:53:20.643Z"
   },
   {
    "duration": 79,
    "start_time": "2022-07-09T10:55:03.557Z"
   },
   {
    "duration": 45,
    "start_time": "2022-07-09T10:55:08.876Z"
   }
  ],
  "colab": {
   "collapsed_sections": [
    "90cb2c17"
   ],
   "name": "e7386508-a2e2-4e5c-abdb-cd0f2f26b4b8 (1).ipynb",
   "provenance": []
  },
  "kernelspec": {
   "display_name": "Python 3",
   "language": "python",
   "name": "python3"
  },
  "language_info": {
   "codemirror_mode": {
    "name": "ipython",
    "version": 3
   },
   "file_extension": ".py",
   "mimetype": "text/x-python",
   "name": "python",
   "nbconvert_exporter": "python",
   "pygments_lexer": "ipython3",
   "version": "3.8.8"
  },
  "toc": {
   "base_numbering": 1,
   "nav_menu": {},
   "number_sections": false,
   "sideBar": true,
   "skip_h1_title": false,
   "title_cell": "Table of Contents",
   "title_sidebar": "Contents",
   "toc_cell": false,
   "toc_position": {},
   "toc_section_display": true,
   "toc_window_display": true
  },
  "varInspector": {
   "cols": {
    "lenName": 16,
    "lenType": 16,
    "lenVar": 40
   },
   "kernels_config": {
    "python": {
     "delete_cmd_postfix": "",
     "delete_cmd_prefix": "del ",
     "library": "var_list.py",
     "varRefreshCmd": "print(var_dic_list())"
    },
    "r": {
     "delete_cmd_postfix": ") ",
     "delete_cmd_prefix": "rm(",
     "library": "var_list.r",
     "varRefreshCmd": "cat(var_dic_list()) "
    }
   },
   "types_to_exclude": [
    "module",
    "function",
    "builtin_function_or_method",
    "instance",
    "_Feature"
   ],
   "window_display": false
  },
  "vscode": {
   "interpreter": {
    "hash": "d488093d919f573c925b0a84f2a24fea75905f9dd1b6664dfb65159487c96672"
   }
  }
 },
 "nbformat": 4,
 "nbformat_minor": 5
}
