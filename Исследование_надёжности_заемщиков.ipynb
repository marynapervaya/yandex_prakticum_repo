{
 "cells": [
  {
   "cell_type": "markdown",
   "metadata": {},
   "source": [
    "# Исследование надёжности заёмщиков\n",
    "\n",
    "Заказчик — кредитный отдел банка. Нужно разобраться, влияет ли семейное положение и количество детей клиента на факт погашения кредита в срок. Входные данные от банка — статистика о платёжеспособности клиентов.\n",
    "\n",
    "Результаты исследования будут учтены при построении модели **кредитного скоринга** — специальной системы, которая оценивает способность потенциального заёмщика вернуть кредит банку."
   ]
  },
  {
   "cell_type": "markdown",
   "metadata": {},
   "source": [
    "Цель исследования - проверить четыре гипотезы:\n",
    "1. Есть ли зависимость между наличием детей и возвратом кредита в срок?\n",
    "2. Есть ли зависимость между семейным положением и возвратом кредита в срок?\n",
    "3. Есть ли зависимость между уровнем дохода и возвратом кредита в срок?\n",
    "4. Как разные цели влияют на его возврат в срок?\n",
    "\n",
    "Ход исследования\n",
    "\n",
    "Данные о поведении заемщиков представлены в файле https://code.s3.yandex.net/datasets/data.csv. О качестве данных ничего неизвестно, поэтому перед проверкой гипотез понадобится обзор данных.\n",
    "Данные будут проверены на ошибки и будет оценено их влияние на исследование. Затем, на этапе предобработки будет проведен поиск возможности исправления самых критичных ошибок данных.\n",
    "\n",
    "Таким образом, иследование пройдет в три этапа:\n",
    "\n",
    "1. Обзор данных.\n",
    "2. Предобработка данных.\n",
    "3. Проверка гипотез.\n",
    "4. Общий вывод.\n"
   ]
  },
  {
   "cell_type": "markdown",
   "metadata": {},
   "source": [
    "## Шаг 1. Откройте файл с данными и изучите общую информацию"
   ]
  },
  {
   "cell_type": "code",
   "execution_count": 1,
   "metadata": {
    "scrolled": false
   },
   "outputs": [
    {
     "data": {
      "text/html": [
       "<div>\n",
       "<style scoped>\n",
       "    .dataframe tbody tr th:only-of-type {\n",
       "        vertical-align: middle;\n",
       "    }\n",
       "\n",
       "    .dataframe tbody tr th {\n",
       "        vertical-align: top;\n",
       "    }\n",
       "\n",
       "    .dataframe thead th {\n",
       "        text-align: right;\n",
       "    }\n",
       "</style>\n",
       "<table border=\"1\" class=\"dataframe\">\n",
       "  <thead>\n",
       "    <tr style=\"text-align: right;\">\n",
       "      <th></th>\n",
       "      <th>children</th>\n",
       "      <th>days_employed</th>\n",
       "      <th>dob_years</th>\n",
       "      <th>education</th>\n",
       "      <th>education_id</th>\n",
       "      <th>family_status</th>\n",
       "      <th>family_status_id</th>\n",
       "      <th>gender</th>\n",
       "      <th>income_type</th>\n",
       "      <th>debt</th>\n",
       "      <th>total_income</th>\n",
       "      <th>purpose</th>\n",
       "    </tr>\n",
       "  </thead>\n",
       "  <tbody>\n",
       "    <tr>\n",
       "      <td>0</td>\n",
       "      <td>1</td>\n",
       "      <td>-8437.673028</td>\n",
       "      <td>42</td>\n",
       "      <td>высшее</td>\n",
       "      <td>0</td>\n",
       "      <td>женат / замужем</td>\n",
       "      <td>0</td>\n",
       "      <td>F</td>\n",
       "      <td>сотрудник</td>\n",
       "      <td>0</td>\n",
       "      <td>253875.639453</td>\n",
       "      <td>покупка жилья</td>\n",
       "    </tr>\n",
       "    <tr>\n",
       "      <td>1</td>\n",
       "      <td>1</td>\n",
       "      <td>-4024.803754</td>\n",
       "      <td>36</td>\n",
       "      <td>среднее</td>\n",
       "      <td>1</td>\n",
       "      <td>женат / замужем</td>\n",
       "      <td>0</td>\n",
       "      <td>F</td>\n",
       "      <td>сотрудник</td>\n",
       "      <td>0</td>\n",
       "      <td>112080.014102</td>\n",
       "      <td>приобретение автомобиля</td>\n",
       "    </tr>\n",
       "    <tr>\n",
       "      <td>2</td>\n",
       "      <td>0</td>\n",
       "      <td>-5623.422610</td>\n",
       "      <td>33</td>\n",
       "      <td>Среднее</td>\n",
       "      <td>1</td>\n",
       "      <td>женат / замужем</td>\n",
       "      <td>0</td>\n",
       "      <td>M</td>\n",
       "      <td>сотрудник</td>\n",
       "      <td>0</td>\n",
       "      <td>145885.952297</td>\n",
       "      <td>покупка жилья</td>\n",
       "    </tr>\n",
       "    <tr>\n",
       "      <td>3</td>\n",
       "      <td>3</td>\n",
       "      <td>-4124.747207</td>\n",
       "      <td>32</td>\n",
       "      <td>среднее</td>\n",
       "      <td>1</td>\n",
       "      <td>женат / замужем</td>\n",
       "      <td>0</td>\n",
       "      <td>M</td>\n",
       "      <td>сотрудник</td>\n",
       "      <td>0</td>\n",
       "      <td>267628.550329</td>\n",
       "      <td>дополнительное образование</td>\n",
       "    </tr>\n",
       "    <tr>\n",
       "      <td>4</td>\n",
       "      <td>0</td>\n",
       "      <td>340266.072047</td>\n",
       "      <td>53</td>\n",
       "      <td>среднее</td>\n",
       "      <td>1</td>\n",
       "      <td>гражданский брак</td>\n",
       "      <td>1</td>\n",
       "      <td>F</td>\n",
       "      <td>пенсионер</td>\n",
       "      <td>0</td>\n",
       "      <td>158616.077870</td>\n",
       "      <td>сыграть свадьбу</td>\n",
       "    </tr>\n",
       "    <tr>\n",
       "      <td>5</td>\n",
       "      <td>0</td>\n",
       "      <td>-926.185831</td>\n",
       "      <td>27</td>\n",
       "      <td>высшее</td>\n",
       "      <td>0</td>\n",
       "      <td>гражданский брак</td>\n",
       "      <td>1</td>\n",
       "      <td>M</td>\n",
       "      <td>компаньон</td>\n",
       "      <td>0</td>\n",
       "      <td>255763.565419</td>\n",
       "      <td>покупка жилья</td>\n",
       "    </tr>\n",
       "    <tr>\n",
       "      <td>6</td>\n",
       "      <td>0</td>\n",
       "      <td>-2879.202052</td>\n",
       "      <td>43</td>\n",
       "      <td>высшее</td>\n",
       "      <td>0</td>\n",
       "      <td>женат / замужем</td>\n",
       "      <td>0</td>\n",
       "      <td>F</td>\n",
       "      <td>компаньон</td>\n",
       "      <td>0</td>\n",
       "      <td>240525.971920</td>\n",
       "      <td>операции с жильем</td>\n",
       "    </tr>\n",
       "    <tr>\n",
       "      <td>7</td>\n",
       "      <td>0</td>\n",
       "      <td>-152.779569</td>\n",
       "      <td>50</td>\n",
       "      <td>СРЕДНЕЕ</td>\n",
       "      <td>1</td>\n",
       "      <td>женат / замужем</td>\n",
       "      <td>0</td>\n",
       "      <td>M</td>\n",
       "      <td>сотрудник</td>\n",
       "      <td>0</td>\n",
       "      <td>135823.934197</td>\n",
       "      <td>образование</td>\n",
       "    </tr>\n",
       "    <tr>\n",
       "      <td>8</td>\n",
       "      <td>2</td>\n",
       "      <td>-6929.865299</td>\n",
       "      <td>35</td>\n",
       "      <td>ВЫСШЕЕ</td>\n",
       "      <td>0</td>\n",
       "      <td>гражданский брак</td>\n",
       "      <td>1</td>\n",
       "      <td>F</td>\n",
       "      <td>сотрудник</td>\n",
       "      <td>0</td>\n",
       "      <td>95856.832424</td>\n",
       "      <td>на проведение свадьбы</td>\n",
       "    </tr>\n",
       "    <tr>\n",
       "      <td>9</td>\n",
       "      <td>0</td>\n",
       "      <td>-2188.756445</td>\n",
       "      <td>41</td>\n",
       "      <td>среднее</td>\n",
       "      <td>1</td>\n",
       "      <td>женат / замужем</td>\n",
       "      <td>0</td>\n",
       "      <td>M</td>\n",
       "      <td>сотрудник</td>\n",
       "      <td>0</td>\n",
       "      <td>144425.938277</td>\n",
       "      <td>покупка жилья для семьи</td>\n",
       "    </tr>\n",
       "  </tbody>\n",
       "</table>\n",
       "</div>"
      ],
      "text/plain": [
       "   children  days_employed  dob_years education  education_id  \\\n",
       "0         1   -8437.673028         42    высшее             0   \n",
       "1         1   -4024.803754         36   среднее             1   \n",
       "2         0   -5623.422610         33   Среднее             1   \n",
       "3         3   -4124.747207         32   среднее             1   \n",
       "4         0  340266.072047         53   среднее             1   \n",
       "5         0    -926.185831         27    высшее             0   \n",
       "6         0   -2879.202052         43    высшее             0   \n",
       "7         0    -152.779569         50   СРЕДНЕЕ             1   \n",
       "8         2   -6929.865299         35    ВЫСШЕЕ             0   \n",
       "9         0   -2188.756445         41   среднее             1   \n",
       "\n",
       "      family_status  family_status_id gender income_type  debt   total_income  \\\n",
       "0   женат / замужем                 0      F   сотрудник     0  253875.639453   \n",
       "1   женат / замужем                 0      F   сотрудник     0  112080.014102   \n",
       "2   женат / замужем                 0      M   сотрудник     0  145885.952297   \n",
       "3   женат / замужем                 0      M   сотрудник     0  267628.550329   \n",
       "4  гражданский брак                 1      F   пенсионер     0  158616.077870   \n",
       "5  гражданский брак                 1      M   компаньон     0  255763.565419   \n",
       "6   женат / замужем                 0      F   компаньон     0  240525.971920   \n",
       "7   женат / замужем                 0      M   сотрудник     0  135823.934197   \n",
       "8  гражданский брак                 1      F   сотрудник     0   95856.832424   \n",
       "9   женат / замужем                 0      M   сотрудник     0  144425.938277   \n",
       "\n",
       "                      purpose  \n",
       "0               покупка жилья  \n",
       "1     приобретение автомобиля  \n",
       "2               покупка жилья  \n",
       "3  дополнительное образование  \n",
       "4             сыграть свадьбу  \n",
       "5               покупка жилья  \n",
       "6           операции с жильем  \n",
       "7                 образование  \n",
       "8       на проведение свадьбы  \n",
       "9     покупка жилья для семьи  "
      ]
     },
     "execution_count": 1,
     "metadata": {},
     "output_type": "execute_result"
    }
   ],
   "source": [
    "import pandas as pd #загрузка библиотеки\n",
    "df = pd.read_csv('https://code.s3.yandex.net/datasets/data.csv')#загрузка файла\n",
    "df.head(10)# выводим первые строки таблицы"
   ]
  },
  {
   "cell_type": "code",
   "execution_count": 2,
   "metadata": {
    "scrolled": true
   },
   "outputs": [
    {
     "name": "stdout",
     "output_type": "stream",
     "text": [
      "<class 'pandas.core.frame.DataFrame'>\n",
      "RangeIndex: 21525 entries, 0 to 21524\n",
      "Data columns (total 12 columns):\n",
      "children            21525 non-null int64\n",
      "days_employed       19351 non-null float64\n",
      "dob_years           21525 non-null int64\n",
      "education           21525 non-null object\n",
      "education_id        21525 non-null int64\n",
      "family_status       21525 non-null object\n",
      "family_status_id    21525 non-null int64\n",
      "gender              21525 non-null object\n",
      "income_type         21525 non-null object\n",
      "debt                21525 non-null int64\n",
      "total_income        19351 non-null float64\n",
      "purpose             21525 non-null object\n",
      "dtypes: float64(2), int64(5), object(5)\n",
      "memory usage: 2.0+ MB\n"
     ]
    }
   ],
   "source": [
    "df.info()# выводим сводную информации о таблице"
   ]
  },
  {
   "cell_type": "code",
   "execution_count": 3,
   "metadata": {},
   "outputs": [
    {
     "data": {
      "text/html": [
       "<div>\n",
       "<style scoped>\n",
       "    .dataframe tbody tr th:only-of-type {\n",
       "        vertical-align: middle;\n",
       "    }\n",
       "\n",
       "    .dataframe tbody tr th {\n",
       "        vertical-align: top;\n",
       "    }\n",
       "\n",
       "    .dataframe thead th {\n",
       "        text-align: right;\n",
       "    }\n",
       "</style>\n",
       "<table border=\"1\" class=\"dataframe\">\n",
       "  <thead>\n",
       "    <tr style=\"text-align: right;\">\n",
       "      <th></th>\n",
       "      <th>children</th>\n",
       "      <th>days_employed</th>\n",
       "      <th>dob_years</th>\n",
       "      <th>education_id</th>\n",
       "      <th>family_status_id</th>\n",
       "      <th>debt</th>\n",
       "      <th>total_income</th>\n",
       "    </tr>\n",
       "  </thead>\n",
       "  <tbody>\n",
       "    <tr>\n",
       "      <td>count</td>\n",
       "      <td>21525.000000</td>\n",
       "      <td>19351.000000</td>\n",
       "      <td>21525.000000</td>\n",
       "      <td>21525.000000</td>\n",
       "      <td>21525.000000</td>\n",
       "      <td>21525.000000</td>\n",
       "      <td>1.935100e+04</td>\n",
       "    </tr>\n",
       "    <tr>\n",
       "      <td>mean</td>\n",
       "      <td>0.538908</td>\n",
       "      <td>63046.497661</td>\n",
       "      <td>43.293380</td>\n",
       "      <td>0.817236</td>\n",
       "      <td>0.972544</td>\n",
       "      <td>0.080883</td>\n",
       "      <td>1.674223e+05</td>\n",
       "    </tr>\n",
       "    <tr>\n",
       "      <td>std</td>\n",
       "      <td>1.381587</td>\n",
       "      <td>140827.311974</td>\n",
       "      <td>12.574584</td>\n",
       "      <td>0.548138</td>\n",
       "      <td>1.420324</td>\n",
       "      <td>0.272661</td>\n",
       "      <td>1.029716e+05</td>\n",
       "    </tr>\n",
       "    <tr>\n",
       "      <td>min</td>\n",
       "      <td>-1.000000</td>\n",
       "      <td>-18388.949901</td>\n",
       "      <td>0.000000</td>\n",
       "      <td>0.000000</td>\n",
       "      <td>0.000000</td>\n",
       "      <td>0.000000</td>\n",
       "      <td>2.066726e+04</td>\n",
       "    </tr>\n",
       "    <tr>\n",
       "      <td>25%</td>\n",
       "      <td>0.000000</td>\n",
       "      <td>-2747.423625</td>\n",
       "      <td>33.000000</td>\n",
       "      <td>1.000000</td>\n",
       "      <td>0.000000</td>\n",
       "      <td>0.000000</td>\n",
       "      <td>1.030532e+05</td>\n",
       "    </tr>\n",
       "    <tr>\n",
       "      <td>50%</td>\n",
       "      <td>0.000000</td>\n",
       "      <td>-1203.369529</td>\n",
       "      <td>42.000000</td>\n",
       "      <td>1.000000</td>\n",
       "      <td>0.000000</td>\n",
       "      <td>0.000000</td>\n",
       "      <td>1.450179e+05</td>\n",
       "    </tr>\n",
       "    <tr>\n",
       "      <td>75%</td>\n",
       "      <td>1.000000</td>\n",
       "      <td>-291.095954</td>\n",
       "      <td>53.000000</td>\n",
       "      <td>1.000000</td>\n",
       "      <td>1.000000</td>\n",
       "      <td>0.000000</td>\n",
       "      <td>2.034351e+05</td>\n",
       "    </tr>\n",
       "    <tr>\n",
       "      <td>max</td>\n",
       "      <td>20.000000</td>\n",
       "      <td>401755.400475</td>\n",
       "      <td>75.000000</td>\n",
       "      <td>4.000000</td>\n",
       "      <td>4.000000</td>\n",
       "      <td>1.000000</td>\n",
       "      <td>2.265604e+06</td>\n",
       "    </tr>\n",
       "  </tbody>\n",
       "</table>\n",
       "</div>"
      ],
      "text/plain": [
       "           children  days_employed     dob_years  education_id  \\\n",
       "count  21525.000000   19351.000000  21525.000000  21525.000000   \n",
       "mean       0.538908   63046.497661     43.293380      0.817236   \n",
       "std        1.381587  140827.311974     12.574584      0.548138   \n",
       "min       -1.000000  -18388.949901      0.000000      0.000000   \n",
       "25%        0.000000   -2747.423625     33.000000      1.000000   \n",
       "50%        0.000000   -1203.369529     42.000000      1.000000   \n",
       "75%        1.000000    -291.095954     53.000000      1.000000   \n",
       "max       20.000000  401755.400475     75.000000      4.000000   \n",
       "\n",
       "       family_status_id          debt  total_income  \n",
       "count      21525.000000  21525.000000  1.935100e+04  \n",
       "mean           0.972544      0.080883  1.674223e+05  \n",
       "std            1.420324      0.272661  1.029716e+05  \n",
       "min            0.000000      0.000000  2.066726e+04  \n",
       "25%            0.000000      0.000000  1.030532e+05  \n",
       "50%            0.000000      0.000000  1.450179e+05  \n",
       "75%            1.000000      0.000000  2.034351e+05  \n",
       "max            4.000000      1.000000  2.265604e+06  "
      ]
     },
     "execution_count": 3,
     "metadata": {},
     "output_type": "execute_result"
    }
   ],
   "source": [
    "df.describe()# выводим сводную информации о таблице"
   ]
  },
  {
   "cell_type": "markdown",
   "metadata": {},
   "source": [
    "Итак, в таблице двенадцать стобцов. Типы данных в столбцах: object, int64, float64.\n",
    "\n",
    "Согласно документации к данным:\n",
    "\n",
    "children — количество детей в семье\n",
    "days_employed — общий трудовой стаж в днях\n",
    "dob_years — возраст клиента в годах\n",
    "education — уровень образования клиента\n",
    "education_id — идентификатор уровня образования\n",
    "family_status — семейное положение\n",
    "family_status_id — идентификатор семейного положения\n",
    "gender — пол клиента\n",
    "income_type — тип занятости\n",
    "debt — имел ли задолженность по возврату кредитов\n",
    "total_income — ежемесячный доход\n",
    "purpose — цель получения кредита\n",
    "\n",
    "В названиях колонок нарушения стиля не видны.\n",
    "\n",
    "Количество значений в столбцах различатся. Значит, в данных есть пропущенные значения."
   ]
  },
  {
   "cell_type": "markdown",
   "metadata": {},
   "source": [
    "**Вывод**"
   ]
  },
  {
   "cell_type": "markdown",
   "metadata": {},
   "source": [
    "В каждой строке таблицы - данные статистики о платежеспособности клиентов банка. Часть колонок описывает клиентов с точки зрения возраста, семейного положения и количества детей. Остальные данные рассказывают о доходе клиентов с точки зрения статуса в компании, стаже работы и образовании.\n",
    "\n",
    "Предварительно можно утверждать, что данных достаточно для проверки гипотез. Но, в данных встречаются следующие проблемы:\n",
    "1. Пропуски в столбцах total_income days_employed.\n",
    "2. Дубликаты, которые отличаются регистром нескольких букв.\n",
    "3. В столбце total_income cодержатся сведения с большим количеством знаков после запятой, что осложняет проверку гипотез для всего датасета.\n",
    "4. В столбце total_income содержится огромное количество уникальных значений, для чего необходимо будт провести категоризацию данных.\n",
    "5. В столбце purpose встречаются неявные дубликаты. \n",
    "\n",
    "После предобработки данных исследование станет более точным.\n",
    "\n",
    "Чтобы двигаться дальше, нужно устранить проблемы в данных."
   ]
  },
  {
   "cell_type": "markdown",
   "metadata": {},
   "source": [
    "## Шаг 2. Предобработка данных"
   ]
  },
  {
   "cell_type": "markdown",
   "metadata": {},
   "source": [
    "### Обработка пропусков"
   ]
  },
  {
   "cell_type": "code",
   "execution_count": 4,
   "metadata": {},
   "outputs": [
    {
     "data": {
      "text/plain": [
       "children               0\n",
       "days_employed       2174\n",
       "dob_years              0\n",
       "education              0\n",
       "education_id           0\n",
       "family_status          0\n",
       "family_status_id       0\n",
       "gender                 0\n",
       "income_type            0\n",
       "debt                   0\n",
       "total_income        2174\n",
       "purpose                0\n",
       "dtype: int64"
      ]
     },
     "execution_count": 4,
     "metadata": {},
     "output_type": "execute_result"
    }
   ],
   "source": [
    "df.isna().sum()# определим пропущенные значения в таблице"
   ]
  },
  {
   "cell_type": "markdown",
   "metadata": {},
   "source": [
    "Полученные при обработке данных пропуски составляют одинаковое количество пропусков в размере 2 174 пропуска в двух столбцах, а именно в столбце days_employed и в столбце total_income. Указанную закономерность можно интерпретировать как то, что указанные данные отсутствют не по причине ошибочных действий и не относятся к категории 'полностью случайные'. \n",
    "На первый взгляд, полученные пропуски в столбце days_employed не влияют на исследование, которое заключается в том, чтобы оценить влияет ли семейное положение и количество детей заемщика на факт погашения кредита в срок. "
   ]
  },
  {
   "cell_type": "markdown",
   "metadata": {},
   "source": [
    "В столбце total_income отражена сумма дохода клиента, которую в дальнейшем будем использовать при проверке гипотезы о зависимости между уровнем дохода и возвратом кредита в срок. \n",
    "Проведем анализ столбца days_employed, с целью выявить закономерности в ошибочных данных и исправить их. Для этого найдем max(), min() этого солбца и посмотрим на другие показатели заемщиков с этими значениями."
   ]
  },
  {
   "cell_type": "code",
   "execution_count": 5,
   "metadata": {},
   "outputs": [
    {
     "data": {
      "text/plain": [
       "401755.40047533"
      ]
     },
     "execution_count": 5,
     "metadata": {},
     "output_type": "execute_result"
    }
   ],
   "source": [
    "df_max = df['days_employed'].max()# определяем максимум\n",
    "df_max"
   ]
  },
  {
   "cell_type": "markdown",
   "metadata": {},
   "source": [
    "Анализ максимального значения столбца показал, что 401755.40047533 = 1100,69973 лет. \n",
    "При этом, показатели в днях содержат значения после запятой."
   ]
  },
  {
   "cell_type": "code",
   "execution_count": 6,
   "metadata": {},
   "outputs": [
    {
     "data": {
      "text/html": [
       "<div>\n",
       "<style scoped>\n",
       "    .dataframe tbody tr th:only-of-type {\n",
       "        vertical-align: middle;\n",
       "    }\n",
       "\n",
       "    .dataframe tbody tr th {\n",
       "        vertical-align: top;\n",
       "    }\n",
       "\n",
       "    .dataframe thead th {\n",
       "        text-align: right;\n",
       "    }\n",
       "</style>\n",
       "<table border=\"1\" class=\"dataframe\">\n",
       "  <thead>\n",
       "    <tr style=\"text-align: right;\">\n",
       "      <th></th>\n",
       "      <th>children</th>\n",
       "      <th>days_employed</th>\n",
       "      <th>dob_years</th>\n",
       "      <th>education</th>\n",
       "      <th>education_id</th>\n",
       "      <th>family_status</th>\n",
       "      <th>family_status_id</th>\n",
       "      <th>gender</th>\n",
       "      <th>income_type</th>\n",
       "      <th>debt</th>\n",
       "      <th>total_income</th>\n",
       "      <th>purpose</th>\n",
       "    </tr>\n",
       "  </thead>\n",
       "  <tbody>\n",
       "    <tr>\n",
       "      <td>6954</td>\n",
       "      <td>0</td>\n",
       "      <td>401755.400475</td>\n",
       "      <td>56</td>\n",
       "      <td>среднее</td>\n",
       "      <td>1</td>\n",
       "      <td>вдовец / вдова</td>\n",
       "      <td>2</td>\n",
       "      <td>F</td>\n",
       "      <td>пенсионер</td>\n",
       "      <td>0</td>\n",
       "      <td>176278.441171</td>\n",
       "      <td>ремонт жилью</td>\n",
       "    </tr>\n",
       "  </tbody>\n",
       "</table>\n",
       "</div>"
      ],
      "text/plain": [
       "      children  days_employed  dob_years education  education_id  \\\n",
       "6954         0  401755.400475         56   среднее             1   \n",
       "\n",
       "       family_status  family_status_id gender income_type  debt  \\\n",
       "6954  вдовец / вдова                 2      F   пенсионер     0   \n",
       "\n",
       "       total_income       purpose  \n",
       "6954  176278.441171  ремонт жилью  "
      ]
     },
     "execution_count": 6,
     "metadata": {},
     "output_type": "execute_result"
    }
   ],
   "source": [
    "df[df['days_employed'] == df_max]# используем логическую индексацию для  получения элементов по определенному условию "
   ]
  },
  {
   "cell_type": "markdown",
   "metadata": {},
   "source": [
    "Проведем анализ заемщика 6954  и установим, что для мужчины возраста 56 лет максимальный стаж работы может составлять 38 лет.\n",
    "8760 = 365*24\n",
    "45 = 401755.40047533/8760\n",
    "Проведя расчеты, можно установить, что стаж работы указанного заемщика составляет 45 лет(то есть заемщик начал работать официально с 11 лет). Указанное не может соответствовать истине.\n",
    "Таким образом, определить ошибку в данномм показателе не представляется возможным.\n",
    "\n",
    "Рассмотрим ситуацию с отрицательными значениями. Сделаем предположение, что отрицательное значение случайное и ошибочное."
   ]
  },
  {
   "cell_type": "code",
   "execution_count": 7,
   "metadata": {},
   "outputs": [
    {
     "data": {
      "text/plain": [
       "-18388.949900568383"
      ]
     },
     "execution_count": 7,
     "metadata": {},
     "output_type": "execute_result"
    }
   ],
   "source": [
    "df_min = df['days_employed'].min()#определяем минимум\n",
    "df_min"
   ]
  },
  {
   "cell_type": "code",
   "execution_count": 8,
   "metadata": {
    "scrolled": true
   },
   "outputs": [
    {
     "data": {
      "text/html": [
       "<div>\n",
       "<style scoped>\n",
       "    .dataframe tbody tr th:only-of-type {\n",
       "        vertical-align: middle;\n",
       "    }\n",
       "\n",
       "    .dataframe tbody tr th {\n",
       "        vertical-align: top;\n",
       "    }\n",
       "\n",
       "    .dataframe thead th {\n",
       "        text-align: right;\n",
       "    }\n",
       "</style>\n",
       "<table border=\"1\" class=\"dataframe\">\n",
       "  <thead>\n",
       "    <tr style=\"text-align: right;\">\n",
       "      <th></th>\n",
       "      <th>children</th>\n",
       "      <th>days_employed</th>\n",
       "      <th>dob_years</th>\n",
       "      <th>education</th>\n",
       "      <th>education_id</th>\n",
       "      <th>family_status</th>\n",
       "      <th>family_status_id</th>\n",
       "      <th>gender</th>\n",
       "      <th>income_type</th>\n",
       "      <th>debt</th>\n",
       "      <th>total_income</th>\n",
       "      <th>purpose</th>\n",
       "    </tr>\n",
       "  </thead>\n",
       "  <tbody>\n",
       "    <tr>\n",
       "      <td>16335</td>\n",
       "      <td>1</td>\n",
       "      <td>-18388.949901</td>\n",
       "      <td>61</td>\n",
       "      <td>среднее</td>\n",
       "      <td>1</td>\n",
       "      <td>женат / замужем</td>\n",
       "      <td>0</td>\n",
       "      <td>F</td>\n",
       "      <td>сотрудник</td>\n",
       "      <td>0</td>\n",
       "      <td>186178.934089</td>\n",
       "      <td>операции с недвижимостью</td>\n",
       "    </tr>\n",
       "  </tbody>\n",
       "</table>\n",
       "</div>"
      ],
      "text/plain": [
       "       children  days_employed  dob_years education  education_id  \\\n",
       "16335         1  -18388.949901         61   среднее             1   \n",
       "\n",
       "         family_status  family_status_id gender income_type  debt  \\\n",
       "16335  женат / замужем                 0      F   сотрудник     0   \n",
       "\n",
       "        total_income                   purpose  \n",
       "16335  186178.934089  операции с недвижимостью  "
      ]
     },
     "execution_count": 8,
     "metadata": {},
     "output_type": "execute_result"
    }
   ],
   "source": [
    "df[df['days_employed'] == df_min]# используем логическую индексацию для  получения элементов по определенному условию "
   ]
  },
  {
   "cell_type": "code",
   "execution_count": 9,
   "metadata": {},
   "outputs": [
    {
     "name": "stdout",
     "output_type": "stream",
     "text": [
      "2.0991951941288107\n"
     ]
    }
   ],
   "source": [
    "print(18388.949900568383/8760)# посчитаем возможный стаж работы в годах, сделав предоложение, что отрицательное значение ошибочно"
   ]
  },
  {
   "cell_type": "markdown",
   "metadata": {},
   "source": [
    "Проведем анализ заемщика 16335  и установим, что для мужчины возраста 61 лет максимальный стаж работы может составлять 43 года.\n",
    "Стаж работы указанного клиента составит:\n",
    "50.38068465909146 = 18388.949900568383/365\n",
    "\n",
    "Если сделать предположение, что данные занесены в часах, то стаж работы указанного клиента составит:\n",
    "8760 = 365*24\n",
    "2.0991951941288107 = 18388.949900568383/8760\n",
    "\n",
    "Указанное не может соответствовать истине.\n",
    "\n",
    "Таким образом, определить ошибку в данном показателе также не представляется возможным.\n",
    "В данной связи принято решение не использовать в расчетах данные из столбца days_employed.\n",
    "\n",
    "С целью проверки наличия некорректных значений в столбце children, посчитаем для него уникальные значения.\n"
   ]
  },
  {
   "cell_type": "code",
   "execution_count": 10,
   "metadata": {},
   "outputs": [
    {
     "data": {
      "text/plain": [
       " 0     14149\n",
       " 1      4818\n",
       " 2      2055\n",
       " 3       330\n",
       " 20       76\n",
       "-1        47\n",
       " 4        41\n",
       " 5         9\n",
       "Name: children, dtype: int64"
      ]
     },
     "execution_count": 10,
     "metadata": {},
     "output_type": "execute_result"
    }
   ],
   "source": [
    "df['children'].value_counts()#посчитаем количество уникальных значений"
   ]
  },
  {
   "cell_type": "markdown",
   "metadata": {},
   "source": [
    "В столбце children найдены значения, отличающиеся от обычных: -1 ребенок, 20 детей.\n",
    "Поскольку, согласно представленным данным 76  семей имеют 20 детей, при этом количество семей, имеющих 20 детей, по данным из сети Интернет в России очень редкое явление, то примем их за случайные ошибки в данных.\n",
    "\n",
    "Методом replace() произведем замену показателей на 1 и 2 соответственно. "
   ]
  },
  {
   "cell_type": "code",
   "execution_count": 11,
   "metadata": {},
   "outputs": [
    {
     "data": {
      "text/plain": [
       "0    14149\n",
       "1     4865\n",
       "2     2131\n",
       "3      330\n",
       "4       41\n",
       "5        9\n",
       "Name: children, dtype: int64"
      ]
     },
     "execution_count": 11,
     "metadata": {},
     "output_type": "execute_result"
    }
   ],
   "source": [
    "df['children'] = df['children'].replace(-1, 1)# заменим значения в столбце\n",
    "df['children'] = df['children'].replace(20, 2)\n",
    "df['children'].value_counts()#посчитаем уникальные значения после замены данных"
   ]
  },
  {
   "cell_type": "markdown",
   "metadata": {},
   "source": [
    "Поскольку при проводимом исследовании будут использованы данные из столбца total_income, проведем группировку медианных значений столбца total_income по типу занимаемой должности."
   ]
  },
  {
   "cell_type": "code",
   "execution_count": 12,
   "metadata": {},
   "outputs": [
    {
     "data": {
      "text/plain": [
       "income_type\n",
       "безработный        131339.751676\n",
       "в декрете           53829.130729\n",
       "госслужащий        150447.935283\n",
       "компаньон          172357.950966\n",
       "пенсионер          118514.486412\n",
       "предприниматель    499163.144947\n",
       "сотрудник          142594.396847\n",
       "студент             98201.625314\n",
       "Name: total_income, dtype: float64"
      ]
     },
     "execution_count": 12,
     "metadata": {},
     "output_type": "execute_result"
    }
   ],
   "source": [
    "df.groupby('income_type')['total_income'].median()#посчитем медианные значения"
   ]
  },
  {
   "cell_type": "markdown",
   "metadata": {},
   "source": [
    "Заполним пропущенные значения в столбце total_income медианным значением."
   ]
  },
  {
   "cell_type": "code",
   "execution_count": 13,
   "metadata": {},
   "outputs": [
    {
     "data": {
      "text/plain": [
       "children               0\n",
       "days_employed       2174\n",
       "dob_years              0\n",
       "education              0\n",
       "education_id           0\n",
       "family_status          0\n",
       "family_status_id       0\n",
       "gender                 0\n",
       "income_type            0\n",
       "debt                   0\n",
       "total_income           0\n",
       "purpose                0\n",
       "dtype: int64"
      ]
     },
     "execution_count": 13,
     "metadata": {},
     "output_type": "execute_result"
    }
   ],
   "source": [
    "df_transformed = df.groupby('income_type')['total_income'].transform('median')# заполним медианным значением пропцщенные значения в столбце по заданным условиям и выведем пропущенные занчения\n",
    "df['total_income'] = df['total_income'].fillna(df_transformed)\n",
    "df.isna().sum()"
   ]
  },
  {
   "cell_type": "markdown",
   "metadata": {},
   "source": [
    "Выведем уникальные значения столбца dob_years."
   ]
  },
  {
   "cell_type": "code",
   "execution_count": 14,
   "metadata": {},
   "outputs": [
    {
     "data": {
      "text/plain": [
       "35    617\n",
       "40    609\n",
       "41    607\n",
       "34    603\n",
       "38    598\n",
       "42    597\n",
       "33    581\n",
       "39    573\n",
       "31    560\n",
       "36    555\n",
       "44    547\n",
       "29    545\n",
       "30    540\n",
       "48    538\n",
       "37    537\n",
       "50    514\n",
       "43    513\n",
       "32    510\n",
       "49    508\n",
       "28    503\n",
       "45    497\n",
       "27    493\n",
       "56    487\n",
       "52    484\n",
       "47    480\n",
       "54    479\n",
       "46    475\n",
       "58    461\n",
       "57    460\n",
       "53    459\n",
       "51    448\n",
       "59    444\n",
       "55    443\n",
       "26    408\n",
       "60    377\n",
       "25    357\n",
       "61    355\n",
       "62    352\n",
       "63    269\n",
       "64    265\n",
       "24    264\n",
       "23    254\n",
       "65    194\n",
       "66    183\n",
       "22    183\n",
       "67    167\n",
       "21    111\n",
       "0     101\n",
       "68     99\n",
       "69     85\n",
       "70     65\n",
       "71     58\n",
       "20     51\n",
       "72     33\n",
       "19     14\n",
       "73      8\n",
       "74      6\n",
       "75      1\n",
       "Name: dob_years, dtype: int64"
      ]
     },
     "execution_count": 14,
     "metadata": {},
     "output_type": "execute_result"
    }
   ],
   "source": [
    "df['dob_years'].value_counts()#посчистаем уникальные значения"
   ]
  },
  {
   "cell_type": "markdown",
   "metadata": {},
   "source": [
    "В столбце 'dob_years' выявлены нулевые значения. Выведем 5 строк со значением 0 и проведем анализ указанных строк."
   ]
  },
  {
   "cell_type": "code",
   "execution_count": 15,
   "metadata": {},
   "outputs": [
    {
     "data": {
      "text/html": [
       "<div>\n",
       "<style scoped>\n",
       "    .dataframe tbody tr th:only-of-type {\n",
       "        vertical-align: middle;\n",
       "    }\n",
       "\n",
       "    .dataframe tbody tr th {\n",
       "        vertical-align: top;\n",
       "    }\n",
       "\n",
       "    .dataframe thead th {\n",
       "        text-align: right;\n",
       "    }\n",
       "</style>\n",
       "<table border=\"1\" class=\"dataframe\">\n",
       "  <thead>\n",
       "    <tr style=\"text-align: right;\">\n",
       "      <th></th>\n",
       "      <th>children</th>\n",
       "      <th>days_employed</th>\n",
       "      <th>dob_years</th>\n",
       "      <th>education</th>\n",
       "      <th>education_id</th>\n",
       "      <th>family_status</th>\n",
       "      <th>family_status_id</th>\n",
       "      <th>gender</th>\n",
       "      <th>income_type</th>\n",
       "      <th>debt</th>\n",
       "      <th>total_income</th>\n",
       "      <th>purpose</th>\n",
       "    </tr>\n",
       "  </thead>\n",
       "  <tbody>\n",
       "    <tr>\n",
       "      <td>99</td>\n",
       "      <td>0</td>\n",
       "      <td>346541.618895</td>\n",
       "      <td>0</td>\n",
       "      <td>Среднее</td>\n",
       "      <td>1</td>\n",
       "      <td>женат / замужем</td>\n",
       "      <td>0</td>\n",
       "      <td>F</td>\n",
       "      <td>пенсионер</td>\n",
       "      <td>0</td>\n",
       "      <td>71291.522491</td>\n",
       "      <td>автомобиль</td>\n",
       "    </tr>\n",
       "    <tr>\n",
       "      <td>149</td>\n",
       "      <td>0</td>\n",
       "      <td>-2664.273168</td>\n",
       "      <td>0</td>\n",
       "      <td>среднее</td>\n",
       "      <td>1</td>\n",
       "      <td>в разводе</td>\n",
       "      <td>3</td>\n",
       "      <td>F</td>\n",
       "      <td>сотрудник</td>\n",
       "      <td>0</td>\n",
       "      <td>70176.435951</td>\n",
       "      <td>операции с жильем</td>\n",
       "    </tr>\n",
       "    <tr>\n",
       "      <td>270</td>\n",
       "      <td>3</td>\n",
       "      <td>-1872.663186</td>\n",
       "      <td>0</td>\n",
       "      <td>среднее</td>\n",
       "      <td>1</td>\n",
       "      <td>женат / замужем</td>\n",
       "      <td>0</td>\n",
       "      <td>F</td>\n",
       "      <td>сотрудник</td>\n",
       "      <td>0</td>\n",
       "      <td>102166.458894</td>\n",
       "      <td>ремонт жилью</td>\n",
       "    </tr>\n",
       "    <tr>\n",
       "      <td>578</td>\n",
       "      <td>0</td>\n",
       "      <td>397856.565013</td>\n",
       "      <td>0</td>\n",
       "      <td>среднее</td>\n",
       "      <td>1</td>\n",
       "      <td>женат / замужем</td>\n",
       "      <td>0</td>\n",
       "      <td>F</td>\n",
       "      <td>пенсионер</td>\n",
       "      <td>0</td>\n",
       "      <td>97620.687042</td>\n",
       "      <td>строительство собственной недвижимости</td>\n",
       "    </tr>\n",
       "    <tr>\n",
       "      <td>1040</td>\n",
       "      <td>0</td>\n",
       "      <td>-1158.029561</td>\n",
       "      <td>0</td>\n",
       "      <td>высшее</td>\n",
       "      <td>0</td>\n",
       "      <td>в разводе</td>\n",
       "      <td>3</td>\n",
       "      <td>F</td>\n",
       "      <td>компаньон</td>\n",
       "      <td>0</td>\n",
       "      <td>303994.134987</td>\n",
       "      <td>свой автомобиль</td>\n",
       "    </tr>\n",
       "  </tbody>\n",
       "</table>\n",
       "</div>"
      ],
      "text/plain": [
       "      children  days_employed  dob_years education  education_id  \\\n",
       "99           0  346541.618895          0   Среднее             1   \n",
       "149          0   -2664.273168          0   среднее             1   \n",
       "270          3   -1872.663186          0   среднее             1   \n",
       "578          0  397856.565013          0   среднее             1   \n",
       "1040         0   -1158.029561          0    высшее             0   \n",
       "\n",
       "        family_status  family_status_id gender income_type  debt  \\\n",
       "99    женат / замужем                 0      F   пенсионер     0   \n",
       "149         в разводе                 3      F   сотрудник     0   \n",
       "270   женат / замужем                 0      F   сотрудник     0   \n",
       "578   женат / замужем                 0      F   пенсионер     0   \n",
       "1040        в разводе                 3      F   компаньон     0   \n",
       "\n",
       "       total_income                                 purpose  \n",
       "99     71291.522491                              автомобиль  \n",
       "149    70176.435951                       операции с жильем  \n",
       "270   102166.458894                            ремонт жилью  \n",
       "578    97620.687042  строительство собственной недвижимости  \n",
       "1040  303994.134987                         свой автомобиль  "
      ]
     },
     "execution_count": 15,
     "metadata": {},
     "output_type": "execute_result"
    }
   ],
   "source": [
    "df[df['dob_years'] == 0].head()#используя логическую индексацию выведем 5 строк, соответствующих условию 0 в столбце dob_years"
   ]
  },
  {
   "cell_type": "markdown",
   "metadata": {},
   "source": [
    "Никакого логического объяснения указанным ошибочным данным нет. \n",
    "\n",
    "Проведем замену данных значения 0 на медианные значения в столбце dob_years.\n",
    "В данной связи используя метод replace() проведем замену значения 0 на значение None. И используя метод transform() проведем замену None на медианные значения. "
   ]
  },
  {
   "cell_type": "code",
   "execution_count": 16,
   "metadata": {},
   "outputs": [
    {
     "data": {
      "text/plain": [
       "35    618\n",
       "41    611\n",
       "40    610\n",
       "34    604\n",
       "38    603\n",
       "42    602\n",
       "33    584\n",
       "39    574\n",
       "31    562\n",
       "36    559\n",
       "44    549\n",
       "29    547\n",
       "30    544\n",
       "37    542\n",
       "48    540\n",
       "50    519\n",
       "43    515\n",
       "32    513\n",
       "49    511\n",
       "28    505\n",
       "45    497\n",
       "27    494\n",
       "56    490\n",
       "52    485\n",
       "47    482\n",
       "54    482\n",
       "46    478\n",
       "53    463\n",
       "57    463\n",
       "58    462\n",
       "51    451\n",
       "59    448\n",
       "55    445\n",
       "26    411\n",
       "60    379\n",
       "25    357\n",
       "61    355\n",
       "62    352\n",
       "63    269\n",
       "64    265\n",
       "24    264\n",
       "23    255\n",
       "65    196\n",
       "66    183\n",
       "22    183\n",
       "67    170\n",
       "21    112\n",
       "68    100\n",
       "69     85\n",
       "70     65\n",
       "71     58\n",
       "20     51\n",
       "72     33\n",
       "19     14\n",
       "73      9\n",
       "74      6\n",
       "75      1\n",
       "Name: dob_years, dtype: int64"
      ]
     },
     "execution_count": 16,
     "metadata": {},
     "output_type": "execute_result"
    }
   ],
   "source": [
    "df['dob_years'] = df['dob_years'].replace(0, None)# проведем замену значения 0 на медианные значения в столбце dob_years и выведем уникальные значения после преобразования\n",
    "df_transformed = df.groupby('income_type')['dob_years'].transform('median')\n",
    "df['dob_years'] = df['dob_years'].fillna(df_transformed)\n",
    "df['dob_years'].value_counts()"
   ]
  },
  {
   "cell_type": "markdown",
   "metadata": {},
   "source": [
    "С целью проверки наличия некорректных значений в столбце gender, посчитаем для него уникальные значения."
   ]
  },
  {
   "cell_type": "code",
   "execution_count": 17,
   "metadata": {},
   "outputs": [
    {
     "data": {
      "text/plain": [
       "F      14236\n",
       "M       7288\n",
       "XNA        1\n",
       "Name: gender, dtype: int64"
      ]
     },
     "execution_count": 17,
     "metadata": {},
     "output_type": "execute_result"
    }
   ],
   "source": [
    "df['gender'].value_counts()#выведем уникальные значения"
   ]
  },
  {
   "cell_type": "markdown",
   "metadata": {},
   "source": [
    "В столбце 'gender' выявлено 1 значение пола XNA. Выведем 5 строк со значением 0 и проведем анализ указанных строк."
   ]
  },
  {
   "cell_type": "code",
   "execution_count": 18,
   "metadata": {},
   "outputs": [
    {
     "data": {
      "text/html": [
       "<div>\n",
       "<style scoped>\n",
       "    .dataframe tbody tr th:only-of-type {\n",
       "        vertical-align: middle;\n",
       "    }\n",
       "\n",
       "    .dataframe tbody tr th {\n",
       "        vertical-align: top;\n",
       "    }\n",
       "\n",
       "    .dataframe thead th {\n",
       "        text-align: right;\n",
       "    }\n",
       "</style>\n",
       "<table border=\"1\" class=\"dataframe\">\n",
       "  <thead>\n",
       "    <tr style=\"text-align: right;\">\n",
       "      <th></th>\n",
       "      <th>children</th>\n",
       "      <th>days_employed</th>\n",
       "      <th>dob_years</th>\n",
       "      <th>education</th>\n",
       "      <th>education_id</th>\n",
       "      <th>family_status</th>\n",
       "      <th>family_status_id</th>\n",
       "      <th>gender</th>\n",
       "      <th>income_type</th>\n",
       "      <th>debt</th>\n",
       "      <th>total_income</th>\n",
       "      <th>purpose</th>\n",
       "    </tr>\n",
       "  </thead>\n",
       "  <tbody>\n",
       "    <tr>\n",
       "      <td>10701</td>\n",
       "      <td>0</td>\n",
       "      <td>-2358.600502</td>\n",
       "      <td>24</td>\n",
       "      <td>неоконченное высшее</td>\n",
       "      <td>2</td>\n",
       "      <td>гражданский брак</td>\n",
       "      <td>1</td>\n",
       "      <td>XNA</td>\n",
       "      <td>компаньон</td>\n",
       "      <td>0</td>\n",
       "      <td>203905.157261</td>\n",
       "      <td>покупка недвижимости</td>\n",
       "    </tr>\n",
       "  </tbody>\n",
       "</table>\n",
       "</div>"
      ],
      "text/plain": [
       "       children  days_employed  dob_years            education  education_id  \\\n",
       "10701         0   -2358.600502         24  неоконченное высшее             2   \n",
       "\n",
       "          family_status  family_status_id gender income_type  debt  \\\n",
       "10701  гражданский брак                 1    XNA   компаньон     0   \n",
       "\n",
       "        total_income               purpose  \n",
       "10701  203905.157261  покупка недвижимости  "
      ]
     },
     "execution_count": 18,
     "metadata": {},
     "output_type": "execute_result"
    }
   ],
   "source": [
    "df[df['gender'] == 'XNA']#используя логическую индексацию посмотрим на строку, удовлетворяющую определенным условиям"
   ]
  },
  {
   "cell_type": "markdown",
   "metadata": {},
   "source": [
    "Никакого логического объяснения указанным ошибочным данным нет. В данной связи проведем замену значения XNA на значение М."
   ]
  },
  {
   "cell_type": "code",
   "execution_count": 19,
   "metadata": {},
   "outputs": [
    {
     "data": {
      "text/plain": [
       "F    14236\n",
       "M     7289\n",
       "Name: gender, dtype: int64"
      ]
     },
     "execution_count": 19,
     "metadata": {},
     "output_type": "execute_result"
    }
   ],
   "source": [
    "df['gender'] = df['gender'].replace('XNA', 'M')# проведем замену значения XNA на значение М\n",
    "df['gender'].value_counts()"
   ]
  },
  {
   "cell_type": "markdown",
   "metadata": {},
   "source": [
    "**Вывод**"
   ]
  },
  {
   "cell_type": "markdown",
   "metadata": {},
   "source": [
    "В ходе обработки пропусков:\n",
    "1. в столбце total_income заменили пропуски на медианные значения.\n",
    "2. в столбце dob_years заменили возрат = 0 на медианные значения возраста\n",
    "3. в столбце gender заменили неизместное значение XNA на значение M\n",
    "4. в столбце children заменили значения -1 и 20.\n",
    "\n",
    "Также провели анализ возможности замены значений столбца days_employed, обратили внимание на неадекватность стажа и отрицательные значения. При использовании указанных значения данные были бы сильно искажены, в связи с чем было принято решение не использовать указанные данные в расчетах.\n"
   ]
  },
  {
   "cell_type": "markdown",
   "metadata": {},
   "source": [
    "### Замена типа данных"
   ]
  },
  {
   "cell_type": "code",
   "execution_count": 20,
   "metadata": {},
   "outputs": [
    {
     "name": "stdout",
     "output_type": "stream",
     "text": [
      "<class 'pandas.core.frame.DataFrame'>\n",
      "RangeIndex: 21525 entries, 0 to 21524\n",
      "Data columns (total 12 columns):\n",
      "children            21525 non-null int64\n",
      "days_employed       19351 non-null float64\n",
      "dob_years           21525 non-null int64\n",
      "education           21525 non-null object\n",
      "education_id        21525 non-null int64\n",
      "family_status       21525 non-null object\n",
      "family_status_id    21525 non-null int64\n",
      "gender              21525 non-null object\n",
      "income_type         21525 non-null object\n",
      "debt                21525 non-null int64\n",
      "total_income        21525 non-null float64\n",
      "purpose             21525 non-null object\n",
      "dtypes: float64(2), int64(5), object(5)\n",
      "memory usage: 2.0+ MB\n"
     ]
    }
   ],
   "source": [
    "df.info()# сводная информация о таблице"
   ]
  },
  {
   "cell_type": "markdown",
   "metadata": {},
   "source": [
    "Установлено, что столбцы days_employed и total_income распознаны как строки - тип object. Это значит, что в столбцах есть нечисловые значения, или пропуски, а они помешают нашим расчетам. Учитывая то, что столбец total_income необходим для проверки одной из гипотез, с целью укрупнения данных, вещественный тип данных был заменен на целочисленный с применением метода astype()."
   ]
  },
  {
   "cell_type": "code",
   "execution_count": 21,
   "metadata": {},
   "outputs": [
    {
     "name": "stdout",
     "output_type": "stream",
     "text": [
      "<class 'pandas.core.frame.DataFrame'>\n",
      "RangeIndex: 21525 entries, 0 to 21524\n",
      "Data columns (total 12 columns):\n",
      "children            21525 non-null int64\n",
      "days_employed       19351 non-null float64\n",
      "dob_years           21525 non-null int64\n",
      "education           21525 non-null object\n",
      "education_id        21525 non-null int64\n",
      "family_status       21525 non-null object\n",
      "family_status_id    21525 non-null int64\n",
      "gender              21525 non-null object\n",
      "income_type         21525 non-null object\n",
      "debt                21525 non-null int64\n",
      "total_income        21525 non-null int64\n",
      "purpose             21525 non-null object\n",
      "dtypes: float64(1), int64(6), object(5)\n",
      "memory usage: 2.0+ MB\n"
     ]
    }
   ],
   "source": [
    "df['total_income'] = df['total_income'].astype('int')# Перевод  вещественный тип данных в целочисленный тип данных\n",
    "df.info()"
   ]
  },
  {
   "cell_type": "markdown",
   "metadata": {},
   "source": [
    "**Вывод**\n"
   ]
  },
  {
   "cell_type": "markdown",
   "metadata": {},
   "source": [
    "Замена типа данных обнаружила следующую проблему:\n",
    "\n",
    "1.Столбцы days_employed и total_income распознаны как строки - тип object. \n",
    "\n",
    "Чтобы упростить работу с таблицей вещественный тип данных был заменен на целочисленный с применением метода astype()."
   ]
  },
  {
   "cell_type": "markdown",
   "metadata": {},
   "source": [
    "### Обработка дубликатов"
   ]
  },
  {
   "cell_type": "markdown",
   "metadata": {},
   "source": [
    "Возможными причинами появления дубликатов в данных можно считать повторные представления данных, либо неправильное соединение данных из разных источников, а также ошибки пользователя при занесении информации.\n",
    "\n",
    "Используя метод duplicated(), в сочетании с методом sum(), установим, существуют ли в таблице одинаковые строки с идентичной информацией. "
   ]
  },
  {
   "cell_type": "code",
   "execution_count": 22,
   "metadata": {},
   "outputs": [
    {
     "data": {
      "text/plain": [
       "55"
      ]
     },
     "execution_count": 22,
     "metadata": {},
     "output_type": "execute_result"
    }
   ],
   "source": [
    "df.duplicated().sum()# выведем количество дубликатов"
   ]
  },
  {
   "cell_type": "markdown",
   "metadata": {},
   "source": [
    "Большое количество повторов раздувает размер таблицы, а значит, увеличивает время обработки данных. В данной связи, используя метод df.drop_duplicates().reset_index(drop = True), удалим дубликаты."
   ]
  },
  {
   "cell_type": "code",
   "execution_count": 23,
   "metadata": {},
   "outputs": [
    {
     "data": {
      "text/plain": [
       "0"
      ]
     },
     "execution_count": 23,
     "metadata": {},
     "output_type": "execute_result"
    }
   ],
   "source": [
    "df = df.drop_duplicates().reset_index(drop=True)#удалим дубликаты\n",
    "df.duplicated().sum()"
   ]
  },
  {
   "cell_type": "markdown",
   "metadata": {},
   "source": [
    "Кроме того, в столбце education установлены одинаковые по смыслу категории, которые отличаются регистром нескольких букв."
   ]
  },
  {
   "cell_type": "code",
   "execution_count": 24,
   "metadata": {},
   "outputs": [
    {
     "data": {
      "text/plain": [
       "среднее                13704\n",
       "высшее                  4710\n",
       "СРЕДНЕЕ                  772\n",
       "Среднее                  711\n",
       "неоконченное высшее      668\n",
       "ВЫСШЕЕ                   273\n",
       "Высшее                   268\n",
       "начальное                250\n",
       "Неоконченное высшее       47\n",
       "НЕОКОНЧЕННОЕ ВЫСШЕЕ       29\n",
       "НАЧАЛЬНОЕ                 17\n",
       "Начальное                 15\n",
       "ученая степень             4\n",
       "УЧЕНАЯ СТЕПЕНЬ             1\n",
       "Ученая степень             1\n",
       "Name: education, dtype: int64"
      ]
     },
     "execution_count": 24,
     "metadata": {},
     "output_type": "execute_result"
    }
   ],
   "source": [
    "df['education'].value_counts()#выведем уникальные значения"
   ]
  },
  {
   "cell_type": "markdown",
   "metadata": {},
   "source": [
    "Чтобы учесть такие дубликаты, все символы в строке приведем к нижнему регистру вызовом в Pandas метода str.lower():"
   ]
  },
  {
   "cell_type": "code",
   "execution_count": 25,
   "metadata": {},
   "outputs": [
    {
     "data": {
      "text/plain": [
       "среднее                15187\n",
       "высшее                  5251\n",
       "неоконченное высшее      744\n",
       "начальное                282\n",
       "ученая степень             6\n",
       "Name: education, dtype: int64"
      ]
     },
     "execution_count": 25,
     "metadata": {},
     "output_type": "execute_result"
    }
   ],
   "source": [
    "df['education'] = df['education'].str.lower()# Приведем строки к нижнему регистру\n",
    "df['education'].value_counts()"
   ]
  },
  {
   "cell_type": "markdown",
   "metadata": {},
   "source": [
    "**Вывод**"
   ]
  },
  {
   "cell_type": "markdown",
   "metadata": {},
   "source": [
    "Обработка дубликатов показала следующие две проблемы:\n",
    "\n",
    "1. Полные дубликаты\n",
    "2. Вид дубликатов отличается регистром нескольких букв.\n",
    "\n",
    "Возможными причинами появления дубликатов в данных можно считать повторные представления данных, либо неправильное соединение данных из разных источников, а также ошибки пользователя при занесении информации.\n",
    "\n",
    "В ходе обработки дубликатов, используя метод df.drop_duplicates().reset_index(drop = True), удалили полные дубликаты, а также все символы в строке привели к нижнему регистру вызовом в Pandas метода str.lower().\n",
    "\n",
    "Без дубликатов исследование станет более точным."
   ]
  },
  {
   "cell_type": "markdown",
   "metadata": {},
   "source": [
    "### Лемматизация"
   ]
  },
  {
   "cell_type": "markdown",
   "metadata": {},
   "source": [
    "Выведем на экран список уникальных целей кредита в алфавитном порядке. "
   ]
  },
  {
   "cell_type": "code",
   "execution_count": 26,
   "metadata": {},
   "outputs": [
    {
     "data": {
      "text/plain": [
       "array(['автомобили', 'автомобиль', 'высшее образование',\n",
       "       'дополнительное образование', 'жилье',\n",
       "       'заняться высшим образованием', 'заняться образованием',\n",
       "       'на покупку автомобиля', 'на покупку подержанного автомобиля',\n",
       "       'на покупку своего автомобиля', 'на проведение свадьбы',\n",
       "       'недвижимость', 'образование', 'операции с жильем',\n",
       "       'операции с коммерческой недвижимостью',\n",
       "       'операции с недвижимостью', 'операции со своей недвижимостью',\n",
       "       'покупка жилой недвижимости', 'покупка жилья',\n",
       "       'покупка жилья для сдачи', 'покупка жилья для семьи',\n",
       "       'покупка коммерческой недвижимости', 'покупка недвижимости',\n",
       "       'покупка своего жилья', 'получение высшего образования',\n",
       "       'получение дополнительного образования', 'получение образования',\n",
       "       'приобретение автомобиля', 'профильное образование',\n",
       "       'ремонт жилью', 'свадьба', 'свой автомобиль',\n",
       "       'сделка с автомобилем', 'сделка с подержанным автомобилем',\n",
       "       'строительство жилой недвижимости', 'строительство недвижимости',\n",
       "       'строительство собственной недвижимости', 'сыграть свадьбу'],\n",
       "      dtype=object)"
      ]
     },
     "execution_count": 26,
     "metadata": {},
     "output_type": "execute_result"
    }
   ],
   "source": [
    "df['purpose'].sort_values().unique()# выведем все уникальные значения в столбце"
   ]
  },
  {
   "cell_type": "markdown",
   "metadata": {},
   "source": [
    "Выведем список лемматизированных слов(сведенных к лемме), с использованием метода join()."
   ]
  },
  {
   "cell_type": "code",
   "execution_count": 27,
   "metadata": {},
   "outputs": [
    {
     "data": {
      "text/plain": [
       "'автомобили_автомобиль_высшее образование_дополнительное образование_жилье_заняться высшим образованием_заняться образованием_на покупку автомобиля_на покупку подержанного автомобиля_на покупку своего автомобиля_на проведение свадьбы_недвижимость_образование_операции с жильем_операции с коммерческой недвижимостью_операции с недвижимостью_операции со своей недвижимостью_покупка жилой недвижимости_покупка жилья_покупка жилья для сдачи_покупка жилья для семьи_покупка коммерческой недвижимости_покупка недвижимости_покупка своего жилья_получение высшего образования_получение дополнительного образования_получение образования_приобретение автомобиля_профильное образование_ремонт жилью_свадьба_свой автомобиль_сделка с автомобилем_сделка с подержанным автомобилем_строительство жилой недвижимости_строительство недвижимости_строительство собственной недвижимости_сыграть свадьбу'"
      ]
     },
     "metadata": {},
     "output_type": "display_data"
    }
   ],
   "source": [
    "from pymystem3 import Mystem # Получение стеммера/лемматизатора для слов на русском \n",
    "from collections import Counter # библиотека для подсчета различных значений в списке\n",
    "purpose = '_'.join (df['purpose'].sort_values().unique())# объединим список строк с помощью определенного указателя отсортированных уникальных значений по возрастанию\n",
    "display(purpose)"
   ]
  },
  {
   "cell_type": "markdown",
   "metadata": {},
   "source": [
    "Посчитаем число лемматизированных слов в тексте."
   ]
  },
  {
   "cell_type": "code",
   "execution_count": 28,
   "metadata": {},
   "outputs": [
    {
     "data": {
      "text/plain": [
       "Counter({'автомобиль': 9,\n",
       "         '_': 37,\n",
       "         'высокий': 3,\n",
       "         ' ': 59,\n",
       "         'образование': 9,\n",
       "         'дополнительный': 2,\n",
       "         'жилье': 7,\n",
       "         'заниматься': 2,\n",
       "         'на': 4,\n",
       "         'покупка': 10,\n",
       "         'подержать': 2,\n",
       "         'свой': 4,\n",
       "         'проведение': 1,\n",
       "         'свадьба': 3,\n",
       "         'недвижимость': 10,\n",
       "         'операция': 4,\n",
       "         'с': 5,\n",
       "         'коммерческий': 2,\n",
       "         'со': 1,\n",
       "         'жилой': 2,\n",
       "         'для': 2,\n",
       "         'сдача': 1,\n",
       "         'семья': 1,\n",
       "         'получение': 3,\n",
       "         'приобретение': 1,\n",
       "         'профильный': 1,\n",
       "         'ремонт': 1,\n",
       "         'сделка': 2,\n",
       "         'строительство': 3,\n",
       "         'собственный': 1,\n",
       "         'сыграть': 1,\n",
       "         '\\n': 1})"
      ]
     },
     "execution_count": 28,
     "metadata": {},
     "output_type": "execute_result"
    }
   ],
   "source": [
    "\n",
    "m = Mystem()\n",
    "purpose_lemmas = m.lemmatize(purpose)# Лемматизация строки с русским текстом\n",
    "Counter(purpose_lemmas)# Поcчитаем различные значения в списке"
   ]
  },
  {
   "cell_type": "markdown",
   "metadata": {},
   "source": [
    "Основными категориями являются: автомобиль, образование, свадьба, а также жилье (недвижимость). С использованием стемминга разделим указанные лемматизированные слова по категориям."
   ]
  },
  {
   "cell_type": "code",
   "execution_count": 29,
   "metadata": {},
   "outputs": [
    {
     "data": {
      "text/plain": [
       "['на проведение свадьбы', 'свадьба', 'сыграть свадьбу']"
      ]
     },
     "execution_count": 29,
     "metadata": {},
     "output_type": "execute_result"
    }
   ],
   "source": [
    "from nltk.stem import SnowballStemmer# Получение стеммера для русского языка\n",
    "list_wed = []\n",
    "russian_stemmer = SnowballStemmer('russian')\n",
    "for query_wed in df['purpose'].sort_values().unique():\n",
    "    for word in query_wed.split():\n",
    "        stemmed_word = russian_stemmer.stem(word)# Получение стема от слова на русском\n",
    "        if stemmed_word =='свадьб':\n",
    "            list_wed.append(query_wed)\n",
    "list_wed"
   ]
  },
  {
   "cell_type": "code",
   "execution_count": 30,
   "metadata": {},
   "outputs": [
    {
     "data": {
      "text/plain": [
       "['автомобили',\n",
       " 'автомобиль',\n",
       " 'на покупку автомобиля',\n",
       " 'на покупку подержанного автомобиля',\n",
       " 'на покупку своего автомобиля',\n",
       " 'приобретение автомобиля',\n",
       " 'свой автомобиль',\n",
       " 'сделка с автомобилем',\n",
       " 'сделка с подержанным автомобилем']"
      ]
     },
     "execution_count": 30,
     "metadata": {},
     "output_type": "execute_result"
    }
   ],
   "source": [
    "list_auto = []\n",
    "for query_auto in df['purpose'].sort_values().unique():\n",
    "    for word in query_auto.split():\n",
    "        stemmed_word = russian_stemmer.stem(word)\n",
    "        if stemmed_word =='автомоб' or stemmed_word =='автомобил':\n",
    "            list_auto.append(query_auto)\n",
    "list_auto"
   ]
  },
  {
   "cell_type": "code",
   "execution_count": 31,
   "metadata": {},
   "outputs": [
    {
     "data": {
      "text/plain": [
       "['высшее образование',\n",
       " 'дополнительное образование',\n",
       " 'заняться высшим образованием',\n",
       " 'заняться образованием',\n",
       " 'образование',\n",
       " 'получение высшего образования',\n",
       " 'получение дополнительного образования',\n",
       " 'получение образования',\n",
       " 'профильное образование']"
      ]
     },
     "execution_count": 31,
     "metadata": {},
     "output_type": "execute_result"
    }
   ],
   "source": [
    "list_edu = []\n",
    "for query_edu in df['purpose'].sort_values().unique():\n",
    "    for word in query_edu.split():\n",
    "        stemmed_word = russian_stemmer.stem(word)\n",
    "        if stemmed_word =='образован':\n",
    "            list_edu.append(query_edu)\n",
    "list_edu"
   ]
  },
  {
   "cell_type": "code",
   "execution_count": 32,
   "metadata": {},
   "outputs": [
    {
     "data": {
      "text/plain": [
       "['жилье',\n",
       " 'недвижимость',\n",
       " 'операции с жильем',\n",
       " 'операции с коммерческой недвижимостью',\n",
       " 'операции с недвижимостью',\n",
       " 'операции со своей недвижимостью',\n",
       " 'покупка жилой недвижимости',\n",
       " 'покупка жилой недвижимости',\n",
       " 'покупка жилья',\n",
       " 'покупка жилья для сдачи',\n",
       " 'покупка жилья для семьи',\n",
       " 'покупка коммерческой недвижимости',\n",
       " 'покупка недвижимости',\n",
       " 'покупка своего жилья',\n",
       " 'ремонт жилью',\n",
       " 'строительство жилой недвижимости',\n",
       " 'строительство жилой недвижимости',\n",
       " 'строительство недвижимости',\n",
       " 'строительство собственной недвижимости']"
      ]
     },
     "execution_count": 32,
     "metadata": {},
     "output_type": "execute_result"
    }
   ],
   "source": [
    "list_prop = []\n",
    "for query_prop in df['purpose'].sort_values().unique():\n",
    "    for word in query_prop.split():\n",
    "        stemmed_word = russian_stemmer.stem(word)\n",
    "        if stemmed_word =='недвижим' or stemmed_word == 'жил':\n",
    "            list_prop.append(query_prop)\n",
    "        \n",
    "list_prop"
   ]
  },
  {
   "cell_type": "markdown",
   "metadata": {},
   "source": [
    "Методом replace() устраняем  неявные дубликаты."
   ]
  },
  {
   "cell_type": "code",
   "execution_count": 33,
   "metadata": {},
   "outputs": [
    {
     "data": {
      "text/html": [
       "<div>\n",
       "<style scoped>\n",
       "    .dataframe tbody tr th:only-of-type {\n",
       "        vertical-align: middle;\n",
       "    }\n",
       "\n",
       "    .dataframe tbody tr th {\n",
       "        vertical-align: top;\n",
       "    }\n",
       "\n",
       "    .dataframe thead th {\n",
       "        text-align: right;\n",
       "    }\n",
       "</style>\n",
       "<table border=\"1\" class=\"dataframe\">\n",
       "  <thead>\n",
       "    <tr style=\"text-align: right;\">\n",
       "      <th></th>\n",
       "      <th>children</th>\n",
       "      <th>days_employed</th>\n",
       "      <th>dob_years</th>\n",
       "      <th>education</th>\n",
       "      <th>education_id</th>\n",
       "      <th>family_status</th>\n",
       "      <th>family_status_id</th>\n",
       "      <th>gender</th>\n",
       "      <th>income_type</th>\n",
       "      <th>debt</th>\n",
       "      <th>total_income</th>\n",
       "    </tr>\n",
       "    <tr>\n",
       "      <th>purpose</th>\n",
       "      <th></th>\n",
       "      <th></th>\n",
       "      <th></th>\n",
       "      <th></th>\n",
       "      <th></th>\n",
       "      <th></th>\n",
       "      <th></th>\n",
       "      <th></th>\n",
       "      <th></th>\n",
       "      <th></th>\n",
       "      <th></th>\n",
       "    </tr>\n",
       "  </thead>\n",
       "  <tbody>\n",
       "    <tr>\n",
       "      <td>на проведение свадьбы</td>\n",
       "      <td>2335</td>\n",
       "      <td>2099</td>\n",
       "      <td>2335</td>\n",
       "      <td>2335</td>\n",
       "      <td>2335</td>\n",
       "      <td>2335</td>\n",
       "      <td>2335</td>\n",
       "      <td>2335</td>\n",
       "      <td>2335</td>\n",
       "      <td>2335</td>\n",
       "      <td>2335</td>\n",
       "    </tr>\n",
       "    <tr>\n",
       "      <td>операции с недвижимостью</td>\n",
       "      <td>10813</td>\n",
       "      <td>9758</td>\n",
       "      <td>10813</td>\n",
       "      <td>10813</td>\n",
       "      <td>10813</td>\n",
       "      <td>10813</td>\n",
       "      <td>10813</td>\n",
       "      <td>10813</td>\n",
       "      <td>10813</td>\n",
       "      <td>10813</td>\n",
       "      <td>10813</td>\n",
       "    </tr>\n",
       "    <tr>\n",
       "      <td>покупка автомобиля</td>\n",
       "      <td>4308</td>\n",
       "      <td>3897</td>\n",
       "      <td>4308</td>\n",
       "      <td>4308</td>\n",
       "      <td>4308</td>\n",
       "      <td>4308</td>\n",
       "      <td>4308</td>\n",
       "      <td>4308</td>\n",
       "      <td>4308</td>\n",
       "      <td>4308</td>\n",
       "      <td>4308</td>\n",
       "    </tr>\n",
       "    <tr>\n",
       "      <td>получение образования</td>\n",
       "      <td>4014</td>\n",
       "      <td>3597</td>\n",
       "      <td>4014</td>\n",
       "      <td>4014</td>\n",
       "      <td>4014</td>\n",
       "      <td>4014</td>\n",
       "      <td>4014</td>\n",
       "      <td>4014</td>\n",
       "      <td>4014</td>\n",
       "      <td>4014</td>\n",
       "      <td>4014</td>\n",
       "    </tr>\n",
       "  </tbody>\n",
       "</table>\n",
       "</div>"
      ],
      "text/plain": [
       "                          children  days_employed  dob_years  education  \\\n",
       "purpose                                                                   \n",
       "на проведение свадьбы         2335           2099       2335       2335   \n",
       "операции с недвижимостью     10813           9758      10813      10813   \n",
       "покупка автомобиля            4308           3897       4308       4308   \n",
       "получение образования         4014           3597       4014       4014   \n",
       "\n",
       "                          education_id  family_status  family_status_id  \\\n",
       "purpose                                                                   \n",
       "на проведение свадьбы             2335           2335              2335   \n",
       "операции с недвижимостью         10813          10813             10813   \n",
       "покупка автомобиля                4308           4308              4308   \n",
       "получение образования             4014           4014              4014   \n",
       "\n",
       "                          gender  income_type   debt  total_income  \n",
       "purpose                                                             \n",
       "на проведение свадьбы       2335         2335   2335          2335  \n",
       "операции с недвижимостью   10813        10813  10813         10813  \n",
       "покупка автомобиля          4308         4308   4308          4308  \n",
       "получение образования       4014         4014   4014          4014  "
      ]
     },
     "execution_count": 33,
     "metadata": {},
     "output_type": "execute_result"
    }
   ],
   "source": [
    "df['purpose'] = df['purpose'].replace(list_prop, 'операции с недвижимостью')\n",
    "df['purpose'] = df['purpose'].replace(list_wed, 'на проведение свадьбы')\n",
    "df['purpose'] = df['purpose'].replace(list_edu, 'получение образования')\n",
    "df['purpose'] = df['purpose'].replace(list_auto, 'покупка автомобиля')\n",
    "df.groupby('purpose').count()"
   ]
  },
  {
   "cell_type": "markdown",
   "metadata": {},
   "source": [
    "**Вывод**"
   ]
  },
  {
   "cell_type": "markdown",
   "metadata": {},
   "source": [
    "Лемматизация данных показала, что основными категориями являются: автомобиль, образование, свадьба, а также жилье (недвижимость). С использованием стемминга разделили указанные лемматизированные слова по категориям. Методом replace() устраняем неявные дубликаты. В итоге получили 4 категории целей кредита, которые в дальнейшем удобно использовать для проверки гипотезы о влиянии разных целей на возврат кредита в срок."
   ]
  },
  {
   "cell_type": "markdown",
   "metadata": {},
   "source": [
    "### Категоризация данных"
   ]
  },
  {
   "cell_type": "markdown",
   "metadata": {},
   "source": [
    "Поскольку в столбце dob_years содержится очень большое количество разрозненных данных, необходимо провести категоризацию\n",
    "данных для целей провекри гипотез. "
   ]
  },
  {
   "cell_type": "code",
   "execution_count": 34,
   "metadata": {},
   "outputs": [
    {
     "data": {
      "text/plain": [
       "array([19, 20, 21, 22, 23, 24, 25, 26, 27, 28, 29, 30, 31, 32, 33, 34, 35,\n",
       "       36, 37, 38, 39, 40, 41, 42, 43, 44, 45, 46, 47, 48, 49, 50, 51, 52,\n",
       "       53, 54, 55, 56, 57, 58, 59, 60, 61, 62, 63, 64, 65, 66, 67, 68, 69,\n",
       "       70, 71, 72, 73, 74, 75])"
      ]
     },
     "execution_count": 34,
     "metadata": {},
     "output_type": "execute_result"
    }
   ],
   "source": [
    "df['dob_years'].sort_values().unique()# выведем все уникальные значения в столбце"
   ]
  },
  {
   "cell_type": "code",
   "execution_count": 35,
   "metadata": {},
   "outputs": [
    {
     "data": {
      "text/html": [
       "<div>\n",
       "<style scoped>\n",
       "    .dataframe tbody tr th:only-of-type {\n",
       "        vertical-align: middle;\n",
       "    }\n",
       "\n",
       "    .dataframe tbody tr th {\n",
       "        vertical-align: top;\n",
       "    }\n",
       "\n",
       "    .dataframe thead tr th {\n",
       "        text-align: left;\n",
       "    }\n",
       "\n",
       "    .dataframe thead tr:last-of-type th {\n",
       "        text-align: right;\n",
       "    }\n",
       "</style>\n",
       "<table border=\"1\" class=\"dataframe\">\n",
       "  <thead>\n",
       "    <tr>\n",
       "      <th></th>\n",
       "      <th colspan=\"3\" halign=\"left\">dob_years</th>\n",
       "    </tr>\n",
       "    <tr>\n",
       "      <th></th>\n",
       "      <th>min</th>\n",
       "      <th>max</th>\n",
       "      <th>median</th>\n",
       "    </tr>\n",
       "    <tr>\n",
       "      <th>income_type</th>\n",
       "      <th></th>\n",
       "      <th></th>\n",
       "      <th></th>\n",
       "    </tr>\n",
       "  </thead>\n",
       "  <tbody>\n",
       "    <tr>\n",
       "      <td>безработный</td>\n",
       "      <td>31</td>\n",
       "      <td>45</td>\n",
       "      <td>38.0</td>\n",
       "    </tr>\n",
       "    <tr>\n",
       "      <td>в декрете</td>\n",
       "      <td>39</td>\n",
       "      <td>39</td>\n",
       "      <td>39.0</td>\n",
       "    </tr>\n",
       "    <tr>\n",
       "      <td>госслужащий</td>\n",
       "      <td>19</td>\n",
       "      <td>75</td>\n",
       "      <td>40.0</td>\n",
       "    </tr>\n",
       "    <tr>\n",
       "      <td>компаньон</td>\n",
       "      <td>19</td>\n",
       "      <td>74</td>\n",
       "      <td>39.0</td>\n",
       "    </tr>\n",
       "    <tr>\n",
       "      <td>пенсионер</td>\n",
       "      <td>21</td>\n",
       "      <td>74</td>\n",
       "      <td>60.0</td>\n",
       "    </tr>\n",
       "    <tr>\n",
       "      <td>предприниматель</td>\n",
       "      <td>27</td>\n",
       "      <td>58</td>\n",
       "      <td>42.5</td>\n",
       "    </tr>\n",
       "    <tr>\n",
       "      <td>сотрудник</td>\n",
       "      <td>19</td>\n",
       "      <td>74</td>\n",
       "      <td>39.0</td>\n",
       "    </tr>\n",
       "    <tr>\n",
       "      <td>студент</td>\n",
       "      <td>22</td>\n",
       "      <td>22</td>\n",
       "      <td>22.0</td>\n",
       "    </tr>\n",
       "  </tbody>\n",
       "</table>\n",
       "</div>"
      ],
      "text/plain": [
       "                dob_years           \n",
       "                      min max median\n",
       "income_type                         \n",
       "безработный            31  45   38.0\n",
       "в декрете              39  39   39.0\n",
       "госслужащий            19  75   40.0\n",
       "компаньон              19  74   39.0\n",
       "пенсионер              21  74   60.0\n",
       "предприниматель        27  58   42.5\n",
       "сотрудник              19  74   39.0\n",
       "студент                22  22   22.0"
      ]
     },
     "execution_count": 35,
     "metadata": {},
     "output_type": "execute_result"
    }
   ],
   "source": [
    "df.groupby('income_type').agg({'dob_years':  ['min', 'max', 'median']})# Применим несколько операций к столбцу при группировке"
   ]
  },
  {
   "cell_type": "code",
   "execution_count": 36,
   "metadata": {},
   "outputs": [
    {
     "data": {
      "text/plain": [
       "33.0"
      ]
     },
     "metadata": {},
     "output_type": "display_data"
    },
    {
     "data": {
      "text/plain": [
       "43.0"
      ]
     },
     "metadata": {},
     "output_type": "display_data"
    },
    {
     "data": {
      "text/plain": [
       "53.0"
      ]
     },
     "metadata": {},
     "output_type": "display_data"
    }
   ],
   "source": [
    "display(df['dob_years'].quantile(0.25))\n",
    "display(df['dob_years'].quantile(0.5))\n",
    "display(df['dob_years'].quantile(0.75))"
   ]
  },
  {
   "cell_type": "code",
   "execution_count": 37,
   "metadata": {},
   "outputs": [
    {
     "data": {
      "text/html": [
       "<div>\n",
       "<style scoped>\n",
       "    .dataframe tbody tr th:only-of-type {\n",
       "        vertical-align: middle;\n",
       "    }\n",
       "\n",
       "    .dataframe tbody tr th {\n",
       "        vertical-align: top;\n",
       "    }\n",
       "\n",
       "    .dataframe thead th {\n",
       "        text-align: right;\n",
       "    }\n",
       "</style>\n",
       "<table border=\"1\" class=\"dataframe\">\n",
       "  <thead>\n",
       "    <tr style=\"text-align: right;\">\n",
       "      <th></th>\n",
       "      <th>children</th>\n",
       "      <th>days_employed</th>\n",
       "      <th>dob_years</th>\n",
       "      <th>education</th>\n",
       "      <th>education_id</th>\n",
       "      <th>family_status</th>\n",
       "      <th>family_status_id</th>\n",
       "      <th>gender</th>\n",
       "      <th>income_type</th>\n",
       "      <th>debt</th>\n",
       "      <th>total_income</th>\n",
       "      <th>purpose</th>\n",
       "      <th>dob_years_kvant</th>\n",
       "    </tr>\n",
       "  </thead>\n",
       "  <tbody>\n",
       "    <tr>\n",
       "      <td>0</td>\n",
       "      <td>1</td>\n",
       "      <td>-8437.673028</td>\n",
       "      <td>42</td>\n",
       "      <td>высшее</td>\n",
       "      <td>0</td>\n",
       "      <td>женат / замужем</td>\n",
       "      <td>0</td>\n",
       "      <td>F</td>\n",
       "      <td>сотрудник</td>\n",
       "      <td>0</td>\n",
       "      <td>253875</td>\n",
       "      <td>операции с недвижимостью</td>\n",
       "      <td>до 42</td>\n",
       "    </tr>\n",
       "    <tr>\n",
       "      <td>1</td>\n",
       "      <td>1</td>\n",
       "      <td>-4024.803754</td>\n",
       "      <td>36</td>\n",
       "      <td>среднее</td>\n",
       "      <td>1</td>\n",
       "      <td>женат / замужем</td>\n",
       "      <td>0</td>\n",
       "      <td>F</td>\n",
       "      <td>сотрудник</td>\n",
       "      <td>0</td>\n",
       "      <td>112080</td>\n",
       "      <td>покупка автомобиля</td>\n",
       "      <td>до 42</td>\n",
       "    </tr>\n",
       "    <tr>\n",
       "      <td>2</td>\n",
       "      <td>0</td>\n",
       "      <td>-5623.422610</td>\n",
       "      <td>33</td>\n",
       "      <td>среднее</td>\n",
       "      <td>1</td>\n",
       "      <td>женат / замужем</td>\n",
       "      <td>0</td>\n",
       "      <td>M</td>\n",
       "      <td>сотрудник</td>\n",
       "      <td>0</td>\n",
       "      <td>145885</td>\n",
       "      <td>операции с недвижимостью</td>\n",
       "      <td>до 42</td>\n",
       "    </tr>\n",
       "    <tr>\n",
       "      <td>3</td>\n",
       "      <td>3</td>\n",
       "      <td>-4124.747207</td>\n",
       "      <td>32</td>\n",
       "      <td>среднее</td>\n",
       "      <td>1</td>\n",
       "      <td>женат / замужем</td>\n",
       "      <td>0</td>\n",
       "      <td>M</td>\n",
       "      <td>сотрудник</td>\n",
       "      <td>0</td>\n",
       "      <td>267628</td>\n",
       "      <td>получение образования</td>\n",
       "      <td>до 33</td>\n",
       "    </tr>\n",
       "    <tr>\n",
       "      <td>4</td>\n",
       "      <td>0</td>\n",
       "      <td>340266.072047</td>\n",
       "      <td>53</td>\n",
       "      <td>среднее</td>\n",
       "      <td>1</td>\n",
       "      <td>гражданский брак</td>\n",
       "      <td>1</td>\n",
       "      <td>F</td>\n",
       "      <td>пенсионер</td>\n",
       "      <td>0</td>\n",
       "      <td>158616</td>\n",
       "      <td>на проведение свадьбы</td>\n",
       "      <td>до 53</td>\n",
       "    </tr>\n",
       "  </tbody>\n",
       "</table>\n",
       "</div>"
      ],
      "text/plain": [
       "   children  days_employed  dob_years education  education_id  \\\n",
       "0         1   -8437.673028         42    высшее             0   \n",
       "1         1   -4024.803754         36   среднее             1   \n",
       "2         0   -5623.422610         33   среднее             1   \n",
       "3         3   -4124.747207         32   среднее             1   \n",
       "4         0  340266.072047         53   среднее             1   \n",
       "\n",
       "      family_status  family_status_id gender income_type  debt  total_income  \\\n",
       "0   женат / замужем                 0      F   сотрудник     0        253875   \n",
       "1   женат / замужем                 0      F   сотрудник     0        112080   \n",
       "2   женат / замужем                 0      M   сотрудник     0        145885   \n",
       "3   женат / замужем                 0      M   сотрудник     0        267628   \n",
       "4  гражданский брак                 1      F   пенсионер     0        158616   \n",
       "\n",
       "                    purpose dob_years_kvant  \n",
       "0  операции с недвижимостью           до 42  \n",
       "1        покупка автомобиля           до 42  \n",
       "2  операции с недвижимостью           до 42  \n",
       "3     получение образования           до 33  \n",
       "4     на проведение свадьбы           до 53  "
      ]
     },
     "execution_count": 37,
     "metadata": {},
     "output_type": "execute_result"
    }
   ],
   "source": [
    "def age_group(age):#с помощью функции проведем разделение на группы\n",
    "    if age < 33:\n",
    "        return 'до 33'\n",
    "    if age <= 42:\n",
    "        return 'до 42'\n",
    "    if age <= 53:\n",
    "        return 'до 53'\n",
    "    return 'остальные'\n",
    "df['dob_years_kvant'] = df['dob_years'].apply(age_group)#добавим новый столбец к таблице\n",
    "\n",
    "df.head()"
   ]
  },
  {
   "cell_type": "markdown",
   "metadata": {},
   "source": [
    "В данной связи проведем разделение возраста заемщиков, основываясь на данных из столбца dob_years \n",
    "(а именно: 'min', 'max','median').\n",
    "\n",
    "до 22  (возраст студента)\n",
    "\n",
    "до 43 (медианное значение)\n",
    "\n",
    "до 60 (медианное значение пенсионера)\n",
    "\n",
    "остальные."
   ]
  },
  {
   "cell_type": "code",
   "execution_count": 38,
   "metadata": {},
   "outputs": [
    {
     "data": {
      "text/html": [
       "<div>\n",
       "<style scoped>\n",
       "    .dataframe tbody tr th:only-of-type {\n",
       "        vertical-align: middle;\n",
       "    }\n",
       "\n",
       "    .dataframe tbody tr th {\n",
       "        vertical-align: top;\n",
       "    }\n",
       "\n",
       "    .dataframe thead th {\n",
       "        text-align: right;\n",
       "    }\n",
       "</style>\n",
       "<table border=\"1\" class=\"dataframe\">\n",
       "  <thead>\n",
       "    <tr style=\"text-align: right;\">\n",
       "      <th></th>\n",
       "      <th>children</th>\n",
       "      <th>days_employed</th>\n",
       "      <th>dob_years</th>\n",
       "      <th>education</th>\n",
       "      <th>education_id</th>\n",
       "      <th>family_status</th>\n",
       "      <th>family_status_id</th>\n",
       "      <th>gender</th>\n",
       "      <th>income_type</th>\n",
       "      <th>debt</th>\n",
       "      <th>total_income</th>\n",
       "      <th>purpose</th>\n",
       "      <th>dob_years_kvant</th>\n",
       "      <th>dob_years_group</th>\n",
       "    </tr>\n",
       "  </thead>\n",
       "  <tbody>\n",
       "    <tr>\n",
       "      <td>0</td>\n",
       "      <td>1</td>\n",
       "      <td>-8437.673028</td>\n",
       "      <td>42</td>\n",
       "      <td>высшее</td>\n",
       "      <td>0</td>\n",
       "      <td>женат / замужем</td>\n",
       "      <td>0</td>\n",
       "      <td>F</td>\n",
       "      <td>сотрудник</td>\n",
       "      <td>0</td>\n",
       "      <td>253875</td>\n",
       "      <td>операции с недвижимостью</td>\n",
       "      <td>до 42</td>\n",
       "      <td>до 55</td>\n",
       "    </tr>\n",
       "    <tr>\n",
       "      <td>1</td>\n",
       "      <td>1</td>\n",
       "      <td>-4024.803754</td>\n",
       "      <td>36</td>\n",
       "      <td>среднее</td>\n",
       "      <td>1</td>\n",
       "      <td>женат / замужем</td>\n",
       "      <td>0</td>\n",
       "      <td>F</td>\n",
       "      <td>сотрудник</td>\n",
       "      <td>0</td>\n",
       "      <td>112080</td>\n",
       "      <td>покупка автомобиля</td>\n",
       "      <td>до 42</td>\n",
       "      <td>до 55</td>\n",
       "    </tr>\n",
       "    <tr>\n",
       "      <td>2</td>\n",
       "      <td>0</td>\n",
       "      <td>-5623.422610</td>\n",
       "      <td>33</td>\n",
       "      <td>среднее</td>\n",
       "      <td>1</td>\n",
       "      <td>женат / замужем</td>\n",
       "      <td>0</td>\n",
       "      <td>M</td>\n",
       "      <td>сотрудник</td>\n",
       "      <td>0</td>\n",
       "      <td>145885</td>\n",
       "      <td>операции с недвижимостью</td>\n",
       "      <td>до 42</td>\n",
       "      <td>до 55</td>\n",
       "    </tr>\n",
       "    <tr>\n",
       "      <td>3</td>\n",
       "      <td>3</td>\n",
       "      <td>-4124.747207</td>\n",
       "      <td>32</td>\n",
       "      <td>среднее</td>\n",
       "      <td>1</td>\n",
       "      <td>женат / замужем</td>\n",
       "      <td>0</td>\n",
       "      <td>M</td>\n",
       "      <td>сотрудник</td>\n",
       "      <td>0</td>\n",
       "      <td>267628</td>\n",
       "      <td>получение образования</td>\n",
       "      <td>до 33</td>\n",
       "      <td>до 55</td>\n",
       "    </tr>\n",
       "    <tr>\n",
       "      <td>4</td>\n",
       "      <td>0</td>\n",
       "      <td>340266.072047</td>\n",
       "      <td>53</td>\n",
       "      <td>среднее</td>\n",
       "      <td>1</td>\n",
       "      <td>гражданский брак</td>\n",
       "      <td>1</td>\n",
       "      <td>F</td>\n",
       "      <td>пенсионер</td>\n",
       "      <td>0</td>\n",
       "      <td>158616</td>\n",
       "      <td>на проведение свадьбы</td>\n",
       "      <td>до 53</td>\n",
       "      <td>до 55</td>\n",
       "    </tr>\n",
       "  </tbody>\n",
       "</table>\n",
       "</div>"
      ],
      "text/plain": [
       "   children  days_employed  dob_years education  education_id  \\\n",
       "0         1   -8437.673028         42    высшее             0   \n",
       "1         1   -4024.803754         36   среднее             1   \n",
       "2         0   -5623.422610         33   среднее             1   \n",
       "3         3   -4124.747207         32   среднее             1   \n",
       "4         0  340266.072047         53   среднее             1   \n",
       "\n",
       "      family_status  family_status_id gender income_type  debt  total_income  \\\n",
       "0   женат / замужем                 0      F   сотрудник     0        253875   \n",
       "1   женат / замужем                 0      F   сотрудник     0        112080   \n",
       "2   женат / замужем                 0      M   сотрудник     0        145885   \n",
       "3   женат / замужем                 0      M   сотрудник     0        267628   \n",
       "4  гражданский брак                 1      F   пенсионер     0        158616   \n",
       "\n",
       "                    purpose dob_years_kvant dob_years_group  \n",
       "0  операции с недвижимостью           до 42           до 55  \n",
       "1        покупка автомобиля           до 42           до 55  \n",
       "2  операции с недвижимостью           до 42           до 55  \n",
       "3     получение образования           до 33           до 55  \n",
       "4     на проведение свадьбы           до 53           до 55  "
      ]
     },
     "execution_count": 38,
     "metadata": {},
     "output_type": "execute_result"
    }
   ],
   "source": [
    "\n",
    "def age_group(age):#с помощью функции проведем разделение на группы\n",
    "    if age < 22:\n",
    "        return 'до 22'\n",
    "    if age <= 30:\n",
    "        return 'до 30'\n",
    "    if age <= 55:\n",
    "        return 'до 55'\n",
    "    return 'остальные'\n",
    "df['dob_years_group'] = df['dob_years'].apply(age_group)#добавим новый столбец к таблице\n",
    "\n",
    "df.head()"
   ]
  },
  {
   "cell_type": "code",
   "execution_count": 39,
   "metadata": {},
   "outputs": [
    {
     "data": {
      "text/plain": [
       "dob_years_group\n",
       "до 22          24377944\n",
       "до 30         574399685\n",
       "до 55        2306315211\n",
       "остальные     643821654\n",
       "Name: total_income, dtype: int64"
      ]
     },
     "execution_count": 39,
     "metadata": {},
     "output_type": "execute_result"
    }
   ],
   "source": [
    "df.groupby('dob_years_group')['total_income'].sum()#выведем сумму значений для столбца dob_years_group"
   ]
  },
  {
   "cell_type": "code",
   "execution_count": 40,
   "metadata": {},
   "outputs": [
    {
     "data": {
      "text/plain": [
       "dob_years_kvant\n",
       "до 33         779905178\n",
       "до 42        1040819775\n",
       "до 53         941770569\n",
       "остальные     786418972\n",
       "Name: total_income, dtype: int64"
      ]
     },
     "execution_count": 40,
     "metadata": {},
     "output_type": "execute_result"
    }
   ],
   "source": [
    "df.groupby('dob_years_kvant')['total_income'].sum()#выведем сумму значений для столбца dob_years_kvant"
   ]
  },
  {
   "cell_type": "markdown",
   "metadata": {},
   "source": [
    "Поскольку в столбце total_income содержится очень большое количество разрозненных данных, необходимо провести категоризацию данных для целей провекри гипотезы о нличии/отсутствии зависимости между уровнем дохода и возвратом кредита в срок. "
   ]
  },
  {
   "cell_type": "code",
   "execution_count": 41,
   "metadata": {},
   "outputs": [
    {
     "data": {
      "text/plain": [
       "array([  20667,   21205,   21367, ..., 1726276, 2200852, 2265604])"
      ]
     },
     "execution_count": 41,
     "metadata": {},
     "output_type": "execute_result"
    }
   ],
   "source": [
    "df['total_income'].sort_values().unique()#выведем отсортированные уникальные значения"
   ]
  },
  {
   "cell_type": "code",
   "execution_count": 42,
   "metadata": {},
   "outputs": [
    {
     "data": {
      "text/html": [
       "<div>\n",
       "<style scoped>\n",
       "    .dataframe tbody tr th:only-of-type {\n",
       "        vertical-align: middle;\n",
       "    }\n",
       "\n",
       "    .dataframe tbody tr th {\n",
       "        vertical-align: top;\n",
       "    }\n",
       "\n",
       "    .dataframe thead tr th {\n",
       "        text-align: left;\n",
       "    }\n",
       "\n",
       "    .dataframe thead tr:last-of-type th {\n",
       "        text-align: right;\n",
       "    }\n",
       "</style>\n",
       "<table border=\"1\" class=\"dataframe\">\n",
       "  <thead>\n",
       "    <tr>\n",
       "      <th></th>\n",
       "      <th colspan=\"3\" halign=\"left\">total_income</th>\n",
       "    </tr>\n",
       "    <tr>\n",
       "      <th></th>\n",
       "      <th>min</th>\n",
       "      <th>max</th>\n",
       "      <th>median</th>\n",
       "    </tr>\n",
       "    <tr>\n",
       "      <th>income_type</th>\n",
       "      <th></th>\n",
       "      <th></th>\n",
       "      <th></th>\n",
       "    </tr>\n",
       "  </thead>\n",
       "  <tbody>\n",
       "    <tr>\n",
       "      <td>безработный</td>\n",
       "      <td>59956</td>\n",
       "      <td>202722</td>\n",
       "      <td>131339</td>\n",
       "    </tr>\n",
       "    <tr>\n",
       "      <td>в декрете</td>\n",
       "      <td>53829</td>\n",
       "      <td>53829</td>\n",
       "      <td>53829</td>\n",
       "    </tr>\n",
       "    <tr>\n",
       "      <td>госслужащий</td>\n",
       "      <td>29200</td>\n",
       "      <td>910451</td>\n",
       "      <td>150447</td>\n",
       "    </tr>\n",
       "    <tr>\n",
       "      <td>компаньон</td>\n",
       "      <td>28702</td>\n",
       "      <td>2265604</td>\n",
       "      <td>172357</td>\n",
       "    </tr>\n",
       "    <tr>\n",
       "      <td>пенсионер</td>\n",
       "      <td>20667</td>\n",
       "      <td>735103</td>\n",
       "      <td>118514</td>\n",
       "    </tr>\n",
       "    <tr>\n",
       "      <td>предприниматель</td>\n",
       "      <td>499163</td>\n",
       "      <td>499163</td>\n",
       "      <td>499163</td>\n",
       "    </tr>\n",
       "    <tr>\n",
       "      <td>сотрудник</td>\n",
       "      <td>21367</td>\n",
       "      <td>1726276</td>\n",
       "      <td>142594</td>\n",
       "    </tr>\n",
       "    <tr>\n",
       "      <td>студент</td>\n",
       "      <td>98201</td>\n",
       "      <td>98201</td>\n",
       "      <td>98201</td>\n",
       "    </tr>\n",
       "  </tbody>\n",
       "</table>\n",
       "</div>"
      ],
      "text/plain": [
       "                total_income                 \n",
       "                         min      max  median\n",
       "income_type                                  \n",
       "безработный            59956   202722  131339\n",
       "в декрете              53829    53829   53829\n",
       "госслужащий            29200   910451  150447\n",
       "компаньон              28702  2265604  172357\n",
       "пенсионер              20667   735103  118514\n",
       "предприниматель       499163   499163  499163\n",
       "сотрудник              21367  1726276  142594\n",
       "студент                98201    98201   98201"
      ]
     },
     "execution_count": 42,
     "metadata": {},
     "output_type": "execute_result"
    }
   ],
   "source": [
    "df.groupby('income_type').agg({'total_income': ['min', 'max', 'median']})"
   ]
  },
  {
   "cell_type": "code",
   "execution_count": 43,
   "metadata": {},
   "outputs": [
    {
     "data": {
      "text/plain": [
       "107652"
      ]
     },
     "metadata": {},
     "output_type": "display_data"
    },
    {
     "data": {
      "text/plain": [
       "142594"
      ]
     },
     "metadata": {},
     "output_type": "display_data"
    },
    {
     "data": {
      "text/plain": [
       "195775"
      ]
     },
     "metadata": {},
     "output_type": "display_data"
    }
   ],
   "source": [
    "display(df['total_income'].quantile(0.25).astype('int'))\n",
    "display(df['total_income'].quantile(0.5).astype('int'))\n",
    "display(df['total_income'].quantile(0.75).astype('int'))"
   ]
  },
  {
   "cell_type": "markdown",
   "metadata": {},
   "source": [
    "В данной связи проведем разделение дохода на 3 категории, основываясь на данных из столбца purpose (а именно: 'min', 'max','median'), поскольку сумма кредита зависит от его цели и от уровня дохода:\n",
    "- до 22 тыс. (минимальная сумма дохода в зависимости от цели кредита)\n",
    "- до 150 тыс. (медианное значение в зависимости от цели кредита)\n",
    "- свыше 1 млн (сумма, свыше которой доход будет отнесен к категории максимальный)."
   ]
  },
  {
   "cell_type": "code",
   "execution_count": 44,
   "metadata": {},
   "outputs": [
    {
     "data": {
      "text/html": [
       "<div>\n",
       "<style scoped>\n",
       "    .dataframe tbody tr th:only-of-type {\n",
       "        vertical-align: middle;\n",
       "    }\n",
       "\n",
       "    .dataframe tbody tr th {\n",
       "        vertical-align: top;\n",
       "    }\n",
       "\n",
       "    .dataframe thead th {\n",
       "        text-align: right;\n",
       "    }\n",
       "</style>\n",
       "<table border=\"1\" class=\"dataframe\">\n",
       "  <thead>\n",
       "    <tr style=\"text-align: right;\">\n",
       "      <th></th>\n",
       "      <th>total_income</th>\n",
       "    </tr>\n",
       "    <tr>\n",
       "      <th>total_income_group</th>\n",
       "      <th></th>\n",
       "    </tr>\n",
       "  </thead>\n",
       "  <tbody>\n",
       "    <tr>\n",
       "      <td>до 150 тыс.</td>\n",
       "      <td>11632</td>\n",
       "    </tr>\n",
       "    <tr>\n",
       "      <td>до 22 тыс.</td>\n",
       "      <td>5</td>\n",
       "    </tr>\n",
       "    <tr>\n",
       "      <td>свыше 1 млн</td>\n",
       "      <td>9833</td>\n",
       "    </tr>\n",
       "  </tbody>\n",
       "</table>\n",
       "</div>"
      ],
      "text/plain": [
       "                    total_income\n",
       "total_income_group              \n",
       "до 150 тыс.                11632\n",
       "до 22 тыс.                     5\n",
       "свыше 1 млн                 9833"
      ]
     },
     "execution_count": 44,
     "metadata": {},
     "output_type": "execute_result"
    }
   ],
   "source": [
    "def total_income_group(total_income):\n",
    "    if total_income < 22000:\n",
    "        return 'до 22 тыс.'\n",
    "    if total_income <= 150000:\n",
    "        return 'до 150 тыс.'\n",
    "    return 'свыше 1 млн'\n",
    "df['total_income_group'] = df['total_income'].apply(total_income_group)\n",
    "\n",
    "df.groupby('total_income_group')[['total_income']].count()\n"
   ]
  },
  {
   "cell_type": "code",
   "execution_count": 45,
   "metadata": {},
   "outputs": [
    {
     "data": {
      "text/html": [
       "<div>\n",
       "<style scoped>\n",
       "    .dataframe tbody tr th:only-of-type {\n",
       "        vertical-align: middle;\n",
       "    }\n",
       "\n",
       "    .dataframe tbody tr th {\n",
       "        vertical-align: top;\n",
       "    }\n",
       "\n",
       "    .dataframe thead th {\n",
       "        text-align: right;\n",
       "    }\n",
       "</style>\n",
       "<table border=\"1\" class=\"dataframe\">\n",
       "  <thead>\n",
       "    <tr style=\"text-align: right;\">\n",
       "      <th></th>\n",
       "      <th>total_income</th>\n",
       "    </tr>\n",
       "    <tr>\n",
       "      <th>total_income_kvant</th>\n",
       "      <th></th>\n",
       "    </tr>\n",
       "  </thead>\n",
       "  <tbody>\n",
       "    <tr>\n",
       "      <td>до 108 тыс.</td>\n",
       "      <td>5368</td>\n",
       "    </tr>\n",
       "    <tr>\n",
       "      <td>до 143 тыс.</td>\n",
       "      <td>5489</td>\n",
       "    </tr>\n",
       "    <tr>\n",
       "      <td>до 196 тыс.</td>\n",
       "      <td>5245</td>\n",
       "    </tr>\n",
       "    <tr>\n",
       "      <td>свыше 196</td>\n",
       "      <td>5368</td>\n",
       "    </tr>\n",
       "  </tbody>\n",
       "</table>\n",
       "</div>"
      ],
      "text/plain": [
       "                    total_income\n",
       "total_income_kvant              \n",
       "до 108 тыс.                 5368\n",
       "до 143 тыс.                 5489\n",
       "до 196 тыс.                 5245\n",
       "свыше 196                   5368"
      ]
     },
     "execution_count": 45,
     "metadata": {},
     "output_type": "execute_result"
    }
   ],
   "source": [
    "def total_income_kvant(total_income):\n",
    "    if total_income < 107652:\n",
    "        return 'до 108 тыс.'\n",
    "    if total_income <= 142594:     \n",
    "        return 'до 143 тыс.'\n",
    "    if total_income <= 195775:\n",
    "        return 'до 196 тыс.'\n",
    "    return 'свыше 196'\n",
    "df['total_income_kvant'] = df['total_income'].apply(total_income_kvant)\n",
    "df.groupby('total_income_kvant')[['total_income']].count()"
   ]
  },
  {
   "cell_type": "markdown",
   "metadata": {},
   "source": [
    "**Вывод**\n"
   ]
  },
  {
   "cell_type": "markdown",
   "metadata": {},
   "source": [
    "В ходе предобработки данных проведена категоризация данных:\n",
    "\n",
    "1. в целях проверки гипотез проведено разделение возраста заемщиков, основываясь на данных из столбца dob_years \n",
    "проведена категоризация данных столбца dob_years на 4 категории, с целью укрупнения данных:\n",
    "\n",
    "- до 22  (возраст студента)\n",
    "- до 43 (медианное значение)\n",
    "- до 60 (медианное значение пенсионера)\n",
    "- остальные.\n",
    "\n",
    "2. в целях провекри гипотезы о нличии/отсутствии зависимости между уровнем дохода и возвратом кредита в срок проведена категоризация данных столбца total_income на 3 категории, с целью укрупнения данных:\n",
    "- до 22 тыс. \n",
    "- до 150 тыс.\n",
    "- свыше 1 млн\n"
   ]
  },
  {
   "cell_type": "markdown",
   "metadata": {},
   "source": [
    "## Шаг 3. Ответьте на вопросы"
   ]
  },
  {
   "cell_type": "markdown",
   "metadata": {},
   "source": [
    "- Есть ли зависимость между наличием детей и возвратом кредита в срок?"
   ]
  },
  {
   "cell_type": "markdown",
   "metadata": {},
   "source": [
    "При проверке первой гипотезы проверим, есть ли зависимость между наличием детей и возвратом кредита в срок. \n",
    "Для этого сначала выделим каждый из расчетов по отдельности, а потом объеденим указанные расчеты:\n",
    "1. Сколько всего заемщиков с определенным количеством детей.\n",
    "2. Сколько всего заемщиков вышли на просрочку.\n",
    "\n",
    "\n",
    "Оценим количество заемщиков для семей без детей, а также для семей с разным количеством детей."
   ]
  },
  {
   "cell_type": "code",
   "execution_count": 46,
   "metadata": {},
   "outputs": [
    {
     "data": {
      "text/html": [
       "<div>\n",
       "<style scoped>\n",
       "    .dataframe tbody tr th:only-of-type {\n",
       "        vertical-align: middle;\n",
       "    }\n",
       "\n",
       "    .dataframe tbody tr th {\n",
       "        vertical-align: top;\n",
       "    }\n",
       "\n",
       "    .dataframe thead th {\n",
       "        text-align: right;\n",
       "    }\n",
       "</style>\n",
       "<table border=\"1\" class=\"dataframe\">\n",
       "  <thead>\n",
       "    <tr style=\"text-align: right;\">\n",
       "      <th></th>\n",
       "      <th>debt</th>\n",
       "    </tr>\n",
       "    <tr>\n",
       "      <th>children</th>\n",
       "      <th></th>\n",
       "    </tr>\n",
       "  </thead>\n",
       "  <tbody>\n",
       "    <tr>\n",
       "      <td>0</td>\n",
       "      <td>14106</td>\n",
       "    </tr>\n",
       "    <tr>\n",
       "      <td>1</td>\n",
       "      <td>4856</td>\n",
       "    </tr>\n",
       "    <tr>\n",
       "      <td>2</td>\n",
       "      <td>2128</td>\n",
       "    </tr>\n",
       "    <tr>\n",
       "      <td>3</td>\n",
       "      <td>330</td>\n",
       "    </tr>\n",
       "    <tr>\n",
       "      <td>4</td>\n",
       "      <td>41</td>\n",
       "    </tr>\n",
       "    <tr>\n",
       "      <td>5</td>\n",
       "      <td>9</td>\n",
       "    </tr>\n",
       "  </tbody>\n",
       "</table>\n",
       "</div>"
      ],
      "text/plain": [
       "           debt\n",
       "children       \n",
       "0         14106\n",
       "1          4856\n",
       "2          2128\n",
       "3           330\n",
       "4            41\n",
       "5             9"
      ]
     },
     "metadata": {},
     "output_type": "display_data"
    },
    {
     "data": {
      "text/plain": [
       "65.70097810898929"
      ]
     },
     "metadata": {},
     "output_type": "display_data"
    }
   ],
   "source": [
    "max_percent = df.groupby('children')[['debt']].count()#посчитаем и выведем количество значений для столбца children\n",
    "display(max_percent)\n",
    "display(max_percent['debt'][0] / max_percent['debt'].sum() * 100)#выведем процент по формуле для значения в нулевой ячейке столбца debt в таблице max_percent"
   ]
  },
  {
   "cell_type": "markdown",
   "metadata": {},
   "source": [
    "Из представленных данных следует, что большинство заемщиков не имеют детей (65,7%). А также указанная группировка показывает, что количество заемщиков с большим количеством детей меньше, чем количество заемщиков без детей.\n",
    "\n",
    "Теперь сгруппируем данные по заемщикам, которые вышли на просрочку."
   ]
  },
  {
   "cell_type": "code",
   "execution_count": 47,
   "metadata": {},
   "outputs": [
    {
     "data": {
      "text/html": [
       "<div>\n",
       "<style scoped>\n",
       "    .dataframe tbody tr th:only-of-type {\n",
       "        vertical-align: middle;\n",
       "    }\n",
       "\n",
       "    .dataframe tbody tr th {\n",
       "        vertical-align: top;\n",
       "    }\n",
       "\n",
       "    .dataframe thead th {\n",
       "        text-align: right;\n",
       "    }\n",
       "</style>\n",
       "<table border=\"1\" class=\"dataframe\">\n",
       "  <thead>\n",
       "    <tr style=\"text-align: right;\">\n",
       "      <th></th>\n",
       "      <th>children</th>\n",
       "    </tr>\n",
       "    <tr>\n",
       "      <th>debt</th>\n",
       "      <th></th>\n",
       "    </tr>\n",
       "  </thead>\n",
       "  <tbody>\n",
       "    <tr>\n",
       "      <td>0</td>\n",
       "      <td>19729</td>\n",
       "    </tr>\n",
       "    <tr>\n",
       "      <td>1</td>\n",
       "      <td>1741</td>\n",
       "    </tr>\n",
       "  </tbody>\n",
       "</table>\n",
       "</div>"
      ],
      "text/plain": [
       "      children\n",
       "debt          \n",
       "0        19729\n",
       "1         1741"
      ]
     },
     "metadata": {},
     "output_type": "display_data"
    },
    {
     "data": {
      "text/plain": [
       "8.108989287377737"
      ]
     },
     "metadata": {},
     "output_type": "display_data"
    }
   ],
   "source": [
    "max_percent= df.groupby('debt')[['children']].count()#посчитаем и выведем количество значений для столбца debt\n",
    "display(max_percent)\n",
    "display(max_percent['children'][1] / max_percent['children'].sum() * 100)#выведем процент по формуле для значения в первой ячейке столбца children в таблице max_percent"
   ]
  },
  {
   "cell_type": "markdown",
   "metadata": {},
   "source": [
    "Указанные сгруппированные данные показывают, что из всего количества заемщиков, процент вышедших на просрочку составляет 8.1%.\n",
    "\n",
    "Теперь сформируем сводную таблицу, которая посчитает зависимость между наличием детей и возвратом кредита в срок."
   ]
  },
  {
   "cell_type": "code",
   "execution_count": 48,
   "metadata": {},
   "outputs": [
    {
     "data": {
      "text/html": [
       "<div>\n",
       "<style scoped>\n",
       "    .dataframe tbody tr th:only-of-type {\n",
       "        vertical-align: middle;\n",
       "    }\n",
       "\n",
       "    .dataframe tbody tr th {\n",
       "        vertical-align: top;\n",
       "    }\n",
       "\n",
       "    .dataframe thead th {\n",
       "        text-align: right;\n",
       "    }\n",
       "</style>\n",
       "<table border=\"1\" class=\"dataframe\">\n",
       "  <thead>\n",
       "    <tr style=\"text-align: right;\">\n",
       "      <th>debt</th>\n",
       "      <th>percent</th>\n",
       "    </tr>\n",
       "    <tr>\n",
       "      <th>children</th>\n",
       "      <th></th>\n",
       "    </tr>\n",
       "  </thead>\n",
       "  <tbody>\n",
       "    <tr>\n",
       "      <td>0</td>\n",
       "      <td>7.535800</td>\n",
       "    </tr>\n",
       "    <tr>\n",
       "      <td>1</td>\n",
       "      <td>9.163921</td>\n",
       "    </tr>\n",
       "    <tr>\n",
       "      <td>2</td>\n",
       "      <td>9.492481</td>\n",
       "    </tr>\n",
       "    <tr>\n",
       "      <td>3</td>\n",
       "      <td>8.181818</td>\n",
       "    </tr>\n",
       "    <tr>\n",
       "      <td>4</td>\n",
       "      <td>9.756098</td>\n",
       "    </tr>\n",
       "    <tr>\n",
       "      <td>5</td>\n",
       "      <td>0.000000</td>\n",
       "    </tr>\n",
       "  </tbody>\n",
       "</table>\n",
       "</div>"
      ],
      "text/plain": [
       "debt       percent\n",
       "children          \n",
       "0         7.535800\n",
       "1         9.163921\n",
       "2         9.492481\n",
       "3         8.181818\n",
       "4         9.756098\n",
       "5         0.000000"
      ]
     },
     "metadata": {},
     "output_type": "display_data"
    }
   ],
   "source": [
    "def per_cent_n(debtors, lenders):#с помощью функции посчитаем процент заемщиков с просроченной задолженностью от общего количества заемщиков\n",
    "    per_cent = debtors/(debtors + lenders)*100\n",
    "    return per_cent\n",
    "\n",
    "def make_dependence(dependence):#c помощью функции посчитаем процент заемщиков с просроченной заделженностью по сводной таблице\n",
    "    df_pivot_debt = df.pivot_table(index=df[dependence], columns= 'debt', values='education_id', aggfunc='count')\n",
    "    df_pivot_debt[1] = df_pivot_debt[1].fillna(0)\n",
    "    df_pivot_debt['percent'] = [per_cent_n(df_pivot_debt[1][i], df_pivot_debt[0][i]) for i in range(len(df_pivot_debt))]\n",
    "    df_pivot_debt = df_pivot_debt[['percent']]\n",
    "    display(df_pivot_debt)\n",
    "\n",
    "make_dependence('children')\n"
   ]
  },
  {
   "cell_type": "markdown",
   "metadata": {},
   "source": [
    "Из полученных данных видно, что максимальный процент просрочки у заемщиков, имеющих 4 детей, а минимальный процент просрочки у заемщиков с 5 детьми.\n",
    "При этом заемщики с 3 детьми чаще возвращают кредит в срок, чем заемщики с 1 ребенком.\n",
    "\n",
    "Попробуем установить влияет ли семейное положение должников, а также их образование, пол, или возраст на зависимость между количеством детей.\n",
    "\n",
    "При помощи функции создадим сводные таблицы pivot_table() с двумя уровнями.\n",
    "\n",
    "Рассмотрим как влияет наличие детей на возврат кредита в срок у должников с разным уровнем образования."
   ]
  },
  {
   "cell_type": "code",
   "execution_count": 49,
   "metadata": {},
   "outputs": [
    {
     "data": {
      "text/html": [
       "<div>\n",
       "<style scoped>\n",
       "    .dataframe tbody tr th:only-of-type {\n",
       "        vertical-align: middle;\n",
       "    }\n",
       "\n",
       "    .dataframe tbody tr th {\n",
       "        vertical-align: top;\n",
       "    }\n",
       "\n",
       "    .dataframe thead tr th {\n",
       "        text-align: left;\n",
       "    }\n",
       "\n",
       "    .dataframe thead tr:last-of-type th {\n",
       "        text-align: right;\n",
       "    }\n",
       "</style>\n",
       "<table border=\"1\" class=\"dataframe\">\n",
       "  <thead>\n",
       "    <tr>\n",
       "      <th>debt</th>\n",
       "      <th colspan=\"5\" halign=\"left\">percent</th>\n",
       "    </tr>\n",
       "    <tr>\n",
       "      <th>education</th>\n",
       "      <th>высшее</th>\n",
       "      <th>начальное</th>\n",
       "      <th>неоконченное высшее</th>\n",
       "      <th>среднее</th>\n",
       "      <th>ученая степень</th>\n",
       "    </tr>\n",
       "    <tr>\n",
       "      <th>children</th>\n",
       "      <th></th>\n",
       "      <th></th>\n",
       "      <th></th>\n",
       "      <th></th>\n",
       "      <th></th>\n",
       "    </tr>\n",
       "  </thead>\n",
       "  <tbody>\n",
       "    <tr>\n",
       "      <td>0</td>\n",
       "      <td>5.306748</td>\n",
       "      <td>7.936508</td>\n",
       "      <td>7.613169</td>\n",
       "      <td>8.242353</td>\n",
       "      <td>0.0</td>\n",
       "    </tr>\n",
       "    <tr>\n",
       "      <td>1</td>\n",
       "      <td>5.413534</td>\n",
       "      <td>16.666667</td>\n",
       "      <td>11.363636</td>\n",
       "      <td>10.428702</td>\n",
       "      <td>0.0</td>\n",
       "    </tr>\n",
       "    <tr>\n",
       "      <td>2</td>\n",
       "      <td>5.096661</td>\n",
       "      <td>24.000000</td>\n",
       "      <td>12.162162</td>\n",
       "      <td>10.821918</td>\n",
       "      <td>NaN</td>\n",
       "    </tr>\n",
       "    <tr>\n",
       "      <td>3</td>\n",
       "      <td>4.819277</td>\n",
       "      <td>0.000000</td>\n",
       "      <td>25.000000</td>\n",
       "      <td>9.090909</td>\n",
       "      <td>0.0</td>\n",
       "    </tr>\n",
       "    <tr>\n",
       "      <td>4</td>\n",
       "      <td>0.000000</td>\n",
       "      <td>NaN</td>\n",
       "      <td>NaN</td>\n",
       "      <td>12.500000</td>\n",
       "      <td>NaN</td>\n",
       "    </tr>\n",
       "    <tr>\n",
       "      <td>5</td>\n",
       "      <td>NaN</td>\n",
       "      <td>0.000000</td>\n",
       "      <td>NaN</td>\n",
       "      <td>0.000000</td>\n",
       "      <td>NaN</td>\n",
       "    </tr>\n",
       "  </tbody>\n",
       "</table>\n",
       "</div>"
      ],
      "text/plain": [
       "debt        percent                                                         \n",
       "education    высшее  начальное неоконченное высшее    среднее ученая степень\n",
       "children                                                                    \n",
       "0          5.306748   7.936508            7.613169   8.242353            0.0\n",
       "1          5.413534  16.666667           11.363636  10.428702            0.0\n",
       "2          5.096661  24.000000           12.162162  10.821918            NaN\n",
       "3          4.819277   0.000000           25.000000   9.090909            0.0\n",
       "4          0.000000        NaN                 NaN  12.500000            NaN\n",
       "5               NaN   0.000000                 NaN   0.000000            NaN"
      ]
     },
     "execution_count": 49,
     "metadata": {},
     "output_type": "execute_result"
    }
   ],
   "source": [
    "\n",
    "def make_double_dependence(dep1, dep2):# c помощью функции создадим сводные таблицы pivot_table() с двумя уровнями.\n",
    "    df_pivot = df.pivot_table(index=df[[dep1, dep2]], columns = 'debt', values='education_id', aggfunc='count')\n",
    "    df_pivot = df_pivot.reset_index()\n",
    "    df_pivot = df_pivot.fillna(0)\n",
    "    df_pivot['percent'] = [per_cent_n(df_pivot[1][i], df_pivot[0][i]) for i in range(len(df_pivot))]\n",
    "    df_pivot = df_pivot[[dep1, dep2, 'percent']]\n",
    "    df_filtered = df_pivot.pivot_table(index = df[[dep1]], columns = dep2)\n",
    "    return df_filtered\n",
    "    \n",
    "make_double_dependence('children', 'education')\n",
    "\n"
   ]
  },
  {
   "cell_type": "markdown",
   "metadata": {},
   "source": [
    "Как видно из таблицы выше, просрочка отсутствет у должников с ученой степенью. При этом, у должников с высшим образованием процент\n",
    "просроченной задолженности также ниже (от 0% до 5.4%) процента просроченнной задолженности всех заемщиков (8.1%).\n",
    "Кроме того, у должников с неоконченным высшим образованием  процент просроченной задолженности возрастает с увеличением количества детей.\n",
    "\n",
    "Рассмотрим как влияет наличие детей на возврат кредита в срок у должников разного пола."
   ]
  },
  {
   "cell_type": "code",
   "execution_count": 50,
   "metadata": {},
   "outputs": [
    {
     "data": {
      "text/html": [
       "<div>\n",
       "<style scoped>\n",
       "    .dataframe tbody tr th:only-of-type {\n",
       "        vertical-align: middle;\n",
       "    }\n",
       "\n",
       "    .dataframe tbody tr th {\n",
       "        vertical-align: top;\n",
       "    }\n",
       "\n",
       "    .dataframe thead tr th {\n",
       "        text-align: left;\n",
       "    }\n",
       "\n",
       "    .dataframe thead tr:last-of-type th {\n",
       "        text-align: right;\n",
       "    }\n",
       "</style>\n",
       "<table border=\"1\" class=\"dataframe\">\n",
       "  <thead>\n",
       "    <tr>\n",
       "      <th>debt</th>\n",
       "      <th colspan=\"2\" halign=\"left\">percent</th>\n",
       "    </tr>\n",
       "    <tr>\n",
       "      <th>gender</th>\n",
       "      <th>F</th>\n",
       "      <th>M</th>\n",
       "    </tr>\n",
       "    <tr>\n",
       "      <th>children</th>\n",
       "      <th></th>\n",
       "      <th></th>\n",
       "    </tr>\n",
       "  </thead>\n",
       "  <tbody>\n",
       "    <tr>\n",
       "      <td>0</td>\n",
       "      <td>6.210007</td>\n",
       "      <td>10.299585</td>\n",
       "    </tr>\n",
       "    <tr>\n",
       "      <td>1</td>\n",
       "      <td>7.882089</td>\n",
       "      <td>11.469741</td>\n",
       "    </tr>\n",
       "    <tr>\n",
       "      <td>2</td>\n",
       "      <td>10.590944</td>\n",
       "      <td>7.757576</td>\n",
       "    </tr>\n",
       "    <tr>\n",
       "      <td>3</td>\n",
       "      <td>8.673469</td>\n",
       "      <td>7.462687</td>\n",
       "    </tr>\n",
       "    <tr>\n",
       "      <td>4</td>\n",
       "      <td>3.571429</td>\n",
       "      <td>23.076923</td>\n",
       "    </tr>\n",
       "    <tr>\n",
       "      <td>5</td>\n",
       "      <td>0.000000</td>\n",
       "      <td>0.000000</td>\n",
       "    </tr>\n",
       "  </tbody>\n",
       "</table>\n",
       "</div>"
      ],
      "text/plain": [
       "debt        percent           \n",
       "gender            F          M\n",
       "children                      \n",
       "0          6.210007  10.299585\n",
       "1          7.882089  11.469741\n",
       "2         10.590944   7.757576\n",
       "3          8.673469   7.462687\n",
       "4          3.571429  23.076923\n",
       "5          0.000000   0.000000"
      ]
     },
     "execution_count": 50,
     "metadata": {},
     "output_type": "execute_result"
    }
   ],
   "source": [
    "make_double_dependence('children', 'gender')\n"
   ]
  },
  {
   "cell_type": "markdown",
   "metadata": {},
   "source": [
    "Как видно из данных, представленных в таблице выше, самое большое количество просроченной задолженности у заемщиков мужского пола, имеющих 4 детей (23.076923%), при этом просроченной задолженности ни у заемщиков мужского пола, ни у заемщиков женского пола, имеющих 5 детей, нет.\n",
    "\n",
    "Рассмотрим как влияет наличие детей на возврат кредита в срок у должников с разным семейным статусом."
   ]
  },
  {
   "cell_type": "code",
   "execution_count": 51,
   "metadata": {},
   "outputs": [
    {
     "data": {
      "text/html": [
       "<div>\n",
       "<style scoped>\n",
       "    .dataframe tbody tr th:only-of-type {\n",
       "        vertical-align: middle;\n",
       "    }\n",
       "\n",
       "    .dataframe tbody tr th {\n",
       "        vertical-align: top;\n",
       "    }\n",
       "\n",
       "    .dataframe thead tr th {\n",
       "        text-align: left;\n",
       "    }\n",
       "\n",
       "    .dataframe thead tr:last-of-type th {\n",
       "        text-align: right;\n",
       "    }\n",
       "</style>\n",
       "<table border=\"1\" class=\"dataframe\">\n",
       "  <thead>\n",
       "    <tr>\n",
       "      <th>debt</th>\n",
       "      <th colspan=\"5\" halign=\"left\">percent</th>\n",
       "    </tr>\n",
       "    <tr>\n",
       "      <th>family_status</th>\n",
       "      <th>Не женат / не замужем</th>\n",
       "      <th>в разводе</th>\n",
       "      <th>вдовец / вдова</th>\n",
       "      <th>гражданский брак</th>\n",
       "      <th>женат / замужем</th>\n",
       "    </tr>\n",
       "    <tr>\n",
       "      <th>children</th>\n",
       "      <th></th>\n",
       "      <th></th>\n",
       "      <th></th>\n",
       "      <th></th>\n",
       "      <th></th>\n",
       "    </tr>\n",
       "  </thead>\n",
       "  <tbody>\n",
       "    <tr>\n",
       "      <td>0</td>\n",
       "      <td>9.283820</td>\n",
       "      <td>7.015306</td>\n",
       "      <td>6.257379</td>\n",
       "      <td>8.354615</td>\n",
       "      <td>6.905782</td>\n",
       "    </tr>\n",
       "    <tr>\n",
       "      <td>1</td>\n",
       "      <td>11.453744</td>\n",
       "      <td>6.645570</td>\n",
       "      <td>8.641975</td>\n",
       "      <td>11.788212</td>\n",
       "      <td>8.222370</td>\n",
       "    </tr>\n",
       "    <tr>\n",
       "      <td>2</td>\n",
       "      <td>11.904762</td>\n",
       "      <td>9.638554</td>\n",
       "      <td>12.500000</td>\n",
       "      <td>9.295775</td>\n",
       "      <td>9.355247</td>\n",
       "    </tr>\n",
       "    <tr>\n",
       "      <td>3</td>\n",
       "      <td>12.500000</td>\n",
       "      <td>9.090909</td>\n",
       "      <td>0.000000</td>\n",
       "      <td>14.285714</td>\n",
       "      <td>6.827309</td>\n",
       "    </tr>\n",
       "    <tr>\n",
       "      <td>4</td>\n",
       "      <td>50.000000</td>\n",
       "      <td>0.000000</td>\n",
       "      <td>0.000000</td>\n",
       "      <td>0.000000</td>\n",
       "      <td>10.344828</td>\n",
       "    </tr>\n",
       "    <tr>\n",
       "      <td>5</td>\n",
       "      <td>NaN</td>\n",
       "      <td>NaN</td>\n",
       "      <td>NaN</td>\n",
       "      <td>0.000000</td>\n",
       "      <td>0.000000</td>\n",
       "    </tr>\n",
       "  </tbody>\n",
       "</table>\n",
       "</div>"
      ],
      "text/plain": [
       "debt                        percent                                            \\\n",
       "family_status Не женат / не замужем в разводе вдовец / вдова гражданский брак   \n",
       "children                                                                        \n",
       "0                          9.283820  7.015306       6.257379         8.354615   \n",
       "1                         11.453744  6.645570       8.641975        11.788212   \n",
       "2                         11.904762  9.638554      12.500000         9.295775   \n",
       "3                         12.500000  9.090909       0.000000        14.285714   \n",
       "4                         50.000000  0.000000       0.000000         0.000000   \n",
       "5                               NaN       NaN            NaN         0.000000   \n",
       "\n",
       "debt                           \n",
       "family_status женат / замужем  \n",
       "children                       \n",
       "0                    6.905782  \n",
       "1                    8.222370  \n",
       "2                    9.355247  \n",
       "3                    6.827309  \n",
       "4                   10.344828  \n",
       "5                    0.000000  "
      ]
     },
     "execution_count": 51,
     "metadata": {},
     "output_type": "execute_result"
    }
   ],
   "source": [
    "make_double_dependence('children', 'family_status')#выведем функцию со сводными таблицами с двумя уровнями.\n"
   ]
  },
  {
   "cell_type": "markdown",
   "metadata": {},
   "source": [
    "Как видно из данных, приведенных в таблице выше, самое большое количество просроченной задолженности у заемщиков со статусом \n",
    "'Не женат / не замужем', и имеющих 4 детей (50%), при этом просроченной задолженности ни у заемщиков мужского пола, ни у заемщиков женского пола, имеющих 5 детей, нет.\n",
    "\n",
    "Рассмотрим влияние наличия детей на возврат кредита в срок у должников разного возраста."
   ]
  },
  {
   "cell_type": "code",
   "execution_count": 52,
   "metadata": {},
   "outputs": [
    {
     "data": {
      "text/html": [
       "<div>\n",
       "<style scoped>\n",
       "    .dataframe tbody tr th:only-of-type {\n",
       "        vertical-align: middle;\n",
       "    }\n",
       "\n",
       "    .dataframe tbody tr th {\n",
       "        vertical-align: top;\n",
       "    }\n",
       "\n",
       "    .dataframe thead tr th {\n",
       "        text-align: left;\n",
       "    }\n",
       "\n",
       "    .dataframe thead tr:last-of-type th {\n",
       "        text-align: right;\n",
       "    }\n",
       "</style>\n",
       "<table border=\"1\" class=\"dataframe\">\n",
       "  <thead>\n",
       "    <tr>\n",
       "      <th>debt</th>\n",
       "      <th colspan=\"4\" halign=\"left\">percent</th>\n",
       "    </tr>\n",
       "    <tr>\n",
       "      <th>dob_years_group</th>\n",
       "      <th>до 22</th>\n",
       "      <th>до 30</th>\n",
       "      <th>до 55</th>\n",
       "      <th>остальные</th>\n",
       "    </tr>\n",
       "    <tr>\n",
       "      <th>children</th>\n",
       "      <th></th>\n",
       "      <th></th>\n",
       "      <th></th>\n",
       "      <th></th>\n",
       "    </tr>\n",
       "  </thead>\n",
       "  <tbody>\n",
       "    <tr>\n",
       "      <td>0</td>\n",
       "      <td>11.564626</td>\n",
       "      <td>10.845771</td>\n",
       "      <td>7.658340</td>\n",
       "      <td>5.493413</td>\n",
       "    </tr>\n",
       "    <tr>\n",
       "      <td>1</td>\n",
       "      <td>7.407407</td>\n",
       "      <td>10.886320</td>\n",
       "      <td>8.965912</td>\n",
       "      <td>5.666667</td>\n",
       "    </tr>\n",
       "    <tr>\n",
       "      <td>2</td>\n",
       "      <td>0.000000</td>\n",
       "      <td>11.283186</td>\n",
       "      <td>9.046455</td>\n",
       "      <td>8.108108</td>\n",
       "    </tr>\n",
       "    <tr>\n",
       "      <td>3</td>\n",
       "      <td>NaN</td>\n",
       "      <td>6.000000</td>\n",
       "      <td>8.695652</td>\n",
       "      <td>0.000000</td>\n",
       "    </tr>\n",
       "    <tr>\n",
       "      <td>4</td>\n",
       "      <td>NaN</td>\n",
       "      <td>16.666667</td>\n",
       "      <td>8.571429</td>\n",
       "      <td>NaN</td>\n",
       "    </tr>\n",
       "    <tr>\n",
       "      <td>5</td>\n",
       "      <td>NaN</td>\n",
       "      <td>NaN</td>\n",
       "      <td>0.000000</td>\n",
       "      <td>0.000000</td>\n",
       "    </tr>\n",
       "  </tbody>\n",
       "</table>\n",
       "</div>"
      ],
      "text/plain": [
       "debt               percent                               \n",
       "dob_years_group      до 22      до 30     до 55 остальные\n",
       "children                                                 \n",
       "0                11.564626  10.845771  7.658340  5.493413\n",
       "1                 7.407407  10.886320  8.965912  5.666667\n",
       "2                 0.000000  11.283186  9.046455  8.108108\n",
       "3                      NaN   6.000000  8.695652  0.000000\n",
       "4                      NaN  16.666667  8.571429       NaN\n",
       "5                      NaN        NaN  0.000000  0.000000"
      ]
     },
     "execution_count": 52,
     "metadata": {},
     "output_type": "execute_result"
    }
   ],
   "source": [
    "make_double_dependence('children', 'dob_years_group')"
   ]
  },
  {
   "cell_type": "markdown",
   "metadata": {},
   "source": [
    "Как видно из данных, приведенных в таблице выше, начиная с 30 лет у заемщиков, по сформированным возрастным группам,  снижается процент просроченной задолженности, вне зависимости от количества детей."
   ]
  },
  {
   "cell_type": "markdown",
   "metadata": {},
   "source": [
    "**Вывод**"
   ]
  },
  {
   "cell_type": "markdown",
   "metadata": {},
   "source": [
    "В ходе анализа представленных в таблице данных, о наличии зависимости между наличием детей и возвратом кредита в срок, установлено следующее. Всего заемщиков - 21 470 человек. Из них заемщиков, вышедших на просрочку - 1 741 человек. Процент просроченной задолженности по всей выборке составляет 8,1%.\n",
    "\n",
    "По результатам проведенного анализа установлено, что наибольший процент просроченной задолженности у заемщиков с 4 детьми и составляет 9,75 %, при этом задолженность отсвутствует у заемщиков с 5-ю детьми.\n",
    "\n",
    "Кроме того, в ходе проведенного анализа установлено, что:\n",
    "\n",
    "1. просрочка отсутствет у должников с ученой степенью (вне зависимости от количества детей), а также процент просроченной задолженности у должников с высшим образованием ниже, чем процент просроченной задолженности всех заемщиков;\n",
    "\n",
    "2. у должников с неоконченным высшим образованием процент просроченной задолженности возрастает с увеличением количества детей;\n",
    "\n",
    "3. начиная с 30 лет у заемщиков, по сформированным возрастным группам, снижается процент просроченной задолженности, вне зависимости от количества детей;\n",
    "\n",
    "4. самое большое количество просроченной задолженности у заемщиков мужского пола, имеющих 4 детей (23.076923%);\n",
    "\n",
    "5. самое большое количество просроченной задолженности у заемщиков со статусом 'Не женат / не замужем', и имеющих 4 детей (50%).\n",
    "\n",
    "Таким образом, гипотеза о зависимости между наличием детей и возвратом кредита в срок не подтверждается.\n",
    "Если зависимость и существует, то на основной массе должников указанного датасета она не заметна.\n"
   ]
  },
  {
   "cell_type": "markdown",
   "metadata": {},
   "source": [
    "- Есть ли зависимость между семейным положением и возвратом кредита в срок?"
   ]
  },
  {
   "cell_type": "markdown",
   "metadata": {},
   "source": [
    "При рассмотрении второй гипотезы проверим, есть ли зависимость между семейным положением и возвратом кредита в срок. \n",
    "Для этого сначала рассчитаем сколько всего заемщиков с определенным видом семейного положения.\n",
    "\n",
    "Оценим количество заемщиков для заемщиков с разным семейным положением."
   ]
  },
  {
   "cell_type": "code",
   "execution_count": 53,
   "metadata": {},
   "outputs": [
    {
     "data": {
      "text/html": [
       "<div>\n",
       "<style scoped>\n",
       "    .dataframe tbody tr th:only-of-type {\n",
       "        vertical-align: middle;\n",
       "    }\n",
       "\n",
       "    .dataframe tbody tr th {\n",
       "        vertical-align: top;\n",
       "    }\n",
       "\n",
       "    .dataframe thead th {\n",
       "        text-align: right;\n",
       "    }\n",
       "</style>\n",
       "<table border=\"1\" class=\"dataframe\">\n",
       "  <thead>\n",
       "    <tr style=\"text-align: right;\">\n",
       "      <th></th>\n",
       "      <th>debt</th>\n",
       "    </tr>\n",
       "    <tr>\n",
       "      <th>family_status</th>\n",
       "      <th></th>\n",
       "    </tr>\n",
       "  </thead>\n",
       "  <tbody>\n",
       "    <tr>\n",
       "      <td>Не женат / не замужем</td>\n",
       "      <td>2810</td>\n",
       "    </tr>\n",
       "    <tr>\n",
       "      <td>в разводе</td>\n",
       "      <td>1195</td>\n",
       "    </tr>\n",
       "    <tr>\n",
       "      <td>вдовец / вдова</td>\n",
       "      <td>959</td>\n",
       "    </tr>\n",
       "    <tr>\n",
       "      <td>гражданский брак</td>\n",
       "      <td>4163</td>\n",
       "    </tr>\n",
       "    <tr>\n",
       "      <td>женат / замужем</td>\n",
       "      <td>12343</td>\n",
       "    </tr>\n",
       "  </tbody>\n",
       "</table>\n",
       "</div>"
      ],
      "text/plain": [
       "                        debt\n",
       "family_status               \n",
       "Не женат / не замужем   2810\n",
       "в разводе               1195\n",
       "вдовец / вдова           959\n",
       "гражданский брак        4163\n",
       "женат / замужем        12343"
      ]
     },
     "metadata": {},
     "output_type": "display_data"
    },
    {
     "data": {
      "text/plain": [
       "57.48952026082906"
      ]
     },
     "metadata": {},
     "output_type": "display_data"
    }
   ],
   "source": [
    "max_percent = df.groupby('family_status')[['debt']].count()\n",
    "display(max_percent)\n",
    "display(max_percent['debt'][4] / max_percent['debt'].sum() * 100)"
   ]
  },
  {
   "cell_type": "markdown",
   "metadata": {},
   "source": [
    "Из представленных данных следует, что  максимальное количество заемщиков с семейным положением \"женат / замужем\", которое составляет 57,5% от всех заемщиков. \n",
    "Cгруппированные данные по заемщикам, которые вышли на просрочку не изменятся и также составят 8.1%, как и в первой гипотезе.\n",
    "\n",
    "Теперь сформируем сводную таблицу, которая посчитает зависимость между семейным положением и возвратом кредита в срок."
   ]
  },
  {
   "cell_type": "code",
   "execution_count": 54,
   "metadata": {},
   "outputs": [
    {
     "data": {
      "text/html": [
       "<div>\n",
       "<style scoped>\n",
       "    .dataframe tbody tr th:only-of-type {\n",
       "        vertical-align: middle;\n",
       "    }\n",
       "\n",
       "    .dataframe tbody tr th {\n",
       "        vertical-align: top;\n",
       "    }\n",
       "\n",
       "    .dataframe thead th {\n",
       "        text-align: right;\n",
       "    }\n",
       "</style>\n",
       "<table border=\"1\" class=\"dataframe\">\n",
       "  <thead>\n",
       "    <tr style=\"text-align: right;\">\n",
       "      <th>debt</th>\n",
       "      <th>percent</th>\n",
       "    </tr>\n",
       "    <tr>\n",
       "      <th>family_status</th>\n",
       "      <th></th>\n",
       "    </tr>\n",
       "  </thead>\n",
       "  <tbody>\n",
       "    <tr>\n",
       "      <td>Не женат / не замужем</td>\n",
       "      <td>9.750890</td>\n",
       "    </tr>\n",
       "    <tr>\n",
       "      <td>в разводе</td>\n",
       "      <td>7.112971</td>\n",
       "    </tr>\n",
       "    <tr>\n",
       "      <td>вдовец / вдова</td>\n",
       "      <td>6.569343</td>\n",
       "    </tr>\n",
       "    <tr>\n",
       "      <td>гражданский брак</td>\n",
       "      <td>9.320202</td>\n",
       "    </tr>\n",
       "    <tr>\n",
       "      <td>женат / замужем</td>\n",
       "      <td>7.542737</td>\n",
       "    </tr>\n",
       "  </tbody>\n",
       "</table>\n",
       "</div>"
      ],
      "text/plain": [
       "debt                    percent\n",
       "family_status                  \n",
       "Не женат / не замужем  9.750890\n",
       "в разводе              7.112971\n",
       "вдовец / вдова         6.569343\n",
       "гражданский брак       9.320202\n",
       "женат / замужем        7.542737"
      ]
     },
     "metadata": {},
     "output_type": "display_data"
    }
   ],
   "source": [
    "make_dependence('family_status')"
   ]
  },
  {
   "cell_type": "markdown",
   "metadata": {},
   "source": [
    "Как видно из данных, приведенных в таблице выше, максимальный процент просроченной задолженности у \n",
    "заемщиков с семейным положением \"Не женат / не замужем\" (9.8%), минимальный процент просроченной задолженности \n",
    "у заемщиков с семейным положением \"вдовец / вдова\"/ (6.5%)."
   ]
  },
  {
   "cell_type": "markdown",
   "metadata": {},
   "source": [
    "Рассмотрим как влияет семейное положение на возврат кредита в срок у должников с разным уровнем образования."
   ]
  },
  {
   "cell_type": "code",
   "execution_count": 55,
   "metadata": {},
   "outputs": [
    {
     "data": {
      "text/html": [
       "<div>\n",
       "<style scoped>\n",
       "    .dataframe tbody tr th:only-of-type {\n",
       "        vertical-align: middle;\n",
       "    }\n",
       "\n",
       "    .dataframe tbody tr th {\n",
       "        vertical-align: top;\n",
       "    }\n",
       "\n",
       "    .dataframe thead tr th {\n",
       "        text-align: left;\n",
       "    }\n",
       "\n",
       "    .dataframe thead tr:last-of-type th {\n",
       "        text-align: right;\n",
       "    }\n",
       "</style>\n",
       "<table border=\"1\" class=\"dataframe\">\n",
       "  <thead>\n",
       "    <tr>\n",
       "      <th>debt</th>\n",
       "      <th colspan=\"5\" halign=\"left\">percent</th>\n",
       "    </tr>\n",
       "    <tr>\n",
       "      <th>education</th>\n",
       "      <th>высшее</th>\n",
       "      <th>начальное</th>\n",
       "      <th>неоконченное высшее</th>\n",
       "      <th>среднее</th>\n",
       "      <th>ученая степень</th>\n",
       "    </tr>\n",
       "    <tr>\n",
       "      <th>family_status</th>\n",
       "      <th></th>\n",
       "      <th></th>\n",
       "      <th></th>\n",
       "      <th></th>\n",
       "      <th></th>\n",
       "    </tr>\n",
       "  </thead>\n",
       "  <tbody>\n",
       "    <tr>\n",
       "      <td>Не женат / не замужем</td>\n",
       "      <td>5.714286</td>\n",
       "      <td>8.823529</td>\n",
       "      <td>9.326425</td>\n",
       "      <td>11.648846</td>\n",
       "      <td>0.0</td>\n",
       "    </tr>\n",
       "    <tr>\n",
       "      <td>в разводе</td>\n",
       "      <td>4.746835</td>\n",
       "      <td>10.000000</td>\n",
       "      <td>12.903226</td>\n",
       "      <td>7.738815</td>\n",
       "      <td>0.0</td>\n",
       "    </tr>\n",
       "    <tr>\n",
       "      <td>вдовец / вдова</td>\n",
       "      <td>5.147059</td>\n",
       "      <td>0.000000</td>\n",
       "      <td>15.384615</td>\n",
       "      <td>6.931964</td>\n",
       "      <td>NaN</td>\n",
       "    </tr>\n",
       "    <tr>\n",
       "      <td>гражданский брак</td>\n",
       "      <td>5.765199</td>\n",
       "      <td>19.642857</td>\n",
       "      <td>8.433735</td>\n",
       "      <td>10.311349</td>\n",
       "      <td>NaN</td>\n",
       "    </tr>\n",
       "    <tr>\n",
       "      <td>женат / замужем</td>\n",
       "      <td>5.098684</td>\n",
       "      <td>10.638298</td>\n",
       "      <td>8.797654</td>\n",
       "      <td>8.290802</td>\n",
       "      <td>0.0</td>\n",
       "    </tr>\n",
       "  </tbody>\n",
       "</table>\n",
       "</div>"
      ],
      "text/plain": [
       "debt                    percent                                            \\\n",
       "education                высшее  начальное неоконченное высшее    среднее   \n",
       "family_status                                                               \n",
       "Не женат / не замужем  5.714286   8.823529            9.326425  11.648846   \n",
       "в разводе              4.746835  10.000000           12.903226   7.738815   \n",
       "вдовец / вдова         5.147059   0.000000           15.384615   6.931964   \n",
       "гражданский брак       5.765199  19.642857            8.433735  10.311349   \n",
       "женат / замужем        5.098684  10.638298            8.797654   8.290802   \n",
       "\n",
       "debt                                  \n",
       "education             ученая степень  \n",
       "family_status                         \n",
       "Не женат / не замужем            0.0  \n",
       "в разводе                        0.0  \n",
       "вдовец / вдова                   NaN  \n",
       "гражданский брак                 NaN  \n",
       "женат / замужем                  0.0  "
      ]
     },
     "execution_count": 55,
     "metadata": {},
     "output_type": "execute_result"
    }
   ],
   "source": [
    "make_double_dependence('family_status', 'education')"
   ]
  },
  {
   "cell_type": "markdown",
   "metadata": {},
   "source": [
    "Как видно из таблицы выше, просрочка отсутствет у должников с ученой степенью. \n",
    "При этом, у должников с высшим образованием процент просроченной задолженности также ниже (от 0% до 5.7%) процента просроченнной задолженности всех заемщиков (8.1%). Кроме того, у должников с неоконченным высшим образованием процент просроченной задолженности возрастает с увеличением количества детей.\n",
    "\n",
    "Рассмотрим как влияет наличие детей на возврат кредита в срок у должников разного пола."
   ]
  },
  {
   "cell_type": "code",
   "execution_count": 56,
   "metadata": {},
   "outputs": [
    {
     "data": {
      "text/html": [
       "<div>\n",
       "<style scoped>\n",
       "    .dataframe tbody tr th:only-of-type {\n",
       "        vertical-align: middle;\n",
       "    }\n",
       "\n",
       "    .dataframe tbody tr th {\n",
       "        vertical-align: top;\n",
       "    }\n",
       "\n",
       "    .dataframe thead tr th {\n",
       "        text-align: left;\n",
       "    }\n",
       "\n",
       "    .dataframe thead tr:last-of-type th {\n",
       "        text-align: right;\n",
       "    }\n",
       "</style>\n",
       "<table border=\"1\" class=\"dataframe\">\n",
       "  <thead>\n",
       "    <tr>\n",
       "      <th>debt</th>\n",
       "      <th colspan=\"2\" halign=\"left\">percent</th>\n",
       "    </tr>\n",
       "    <tr>\n",
       "      <th>gender</th>\n",
       "      <th>F</th>\n",
       "      <th>M</th>\n",
       "    </tr>\n",
       "    <tr>\n",
       "      <th>family_status</th>\n",
       "      <th></th>\n",
       "      <th></th>\n",
       "    </tr>\n",
       "  </thead>\n",
       "  <tbody>\n",
       "    <tr>\n",
       "      <td>Не женат / не замужем</td>\n",
       "      <td>6.824754</td>\n",
       "      <td>14.431082</td>\n",
       "    </tr>\n",
       "    <tr>\n",
       "      <td>в разводе</td>\n",
       "      <td>6.517094</td>\n",
       "      <td>9.266409</td>\n",
       "    </tr>\n",
       "    <tr>\n",
       "      <td>вдовец / вдова</td>\n",
       "      <td>5.752212</td>\n",
       "      <td>20.000000</td>\n",
       "    </tr>\n",
       "    <tr>\n",
       "      <td>гражданский брак</td>\n",
       "      <td>8.158263</td>\n",
       "      <td>11.859220</td>\n",
       "    </tr>\n",
       "    <tr>\n",
       "      <td>женат / замужем</td>\n",
       "      <td>6.827258</td>\n",
       "      <td>8.755459</td>\n",
       "    </tr>\n",
       "  </tbody>\n",
       "</table>\n",
       "</div>"
      ],
      "text/plain": [
       "debt                    percent           \n",
       "gender                        F          M\n",
       "family_status                             \n",
       "Не женат / не замужем  6.824754  14.431082\n",
       "в разводе              6.517094   9.266409\n",
       "вдовец / вдова         5.752212  20.000000\n",
       "гражданский брак       8.158263  11.859220\n",
       "женат / замужем        6.827258   8.755459"
      ]
     },
     "execution_count": 56,
     "metadata": {},
     "output_type": "execute_result"
    }
   ],
   "source": [
    "make_double_dependence('family_status', 'gender')"
   ]
  },
  {
   "cell_type": "markdown",
   "metadata": {},
   "source": [
    "Как видно из данных, приведенных в таблице выше, у заемщиков женского пола, вне зависимости от семейного статуса процент просроченной задолженности ниже, чем у заемщиков мужского пола.\n",
    "У заемщиков мужского пола, наибольший процент просроченной задолженности приходится на семейный статус \"вдовец / вдова\", а у заемщиков жеского пола на семейный статус \"гражданский брак\". Наименьший процент просроченной задолженности приходится на заемщиков мужского пола с семейным статусом \"женат / замужем\", а у заемщиков женского пола на семейный статус \"вдовец / вдова\".\n",
    "\n",
    "Рассмотрим влияние семейного статуса на возврат кредита в срок у должников разного возраста."
   ]
  },
  {
   "cell_type": "code",
   "execution_count": 57,
   "metadata": {},
   "outputs": [
    {
     "data": {
      "text/html": [
       "<div>\n",
       "<style scoped>\n",
       "    .dataframe tbody tr th:only-of-type {\n",
       "        vertical-align: middle;\n",
       "    }\n",
       "\n",
       "    .dataframe tbody tr th {\n",
       "        vertical-align: top;\n",
       "    }\n",
       "\n",
       "    .dataframe thead tr th {\n",
       "        text-align: left;\n",
       "    }\n",
       "\n",
       "    .dataframe thead tr:last-of-type th {\n",
       "        text-align: right;\n",
       "    }\n",
       "</style>\n",
       "<table border=\"1\" class=\"dataframe\">\n",
       "  <thead>\n",
       "    <tr>\n",
       "      <th>debt</th>\n",
       "      <th colspan=\"4\" halign=\"left\">percent</th>\n",
       "    </tr>\n",
       "    <tr>\n",
       "      <th>dob_years_group</th>\n",
       "      <th>до 22</th>\n",
       "      <th>до 30</th>\n",
       "      <th>до 55</th>\n",
       "      <th>остальные</th>\n",
       "    </tr>\n",
       "    <tr>\n",
       "      <th>family_status</th>\n",
       "      <th></th>\n",
       "      <th></th>\n",
       "      <th></th>\n",
       "      <th></th>\n",
       "    </tr>\n",
       "  </thead>\n",
       "  <tbody>\n",
       "    <tr>\n",
       "      <td>Не женат / не замужем</td>\n",
       "      <td>12.359551</td>\n",
       "      <td>11.099138</td>\n",
       "      <td>10.310022</td>\n",
       "      <td>4.187192</td>\n",
       "    </tr>\n",
       "    <tr>\n",
       "      <td>в разводе</td>\n",
       "      <td>0.000000</td>\n",
       "      <td>14.782609</td>\n",
       "      <td>6.364749</td>\n",
       "      <td>6.130268</td>\n",
       "    </tr>\n",
       "    <tr>\n",
       "      <td>вдовец / вдова</td>\n",
       "      <td>NaN</td>\n",
       "      <td>14.285714</td>\n",
       "      <td>6.590258</td>\n",
       "      <td>6.467662</td>\n",
       "    </tr>\n",
       "    <tr>\n",
       "      <td>гражданский брак</td>\n",
       "      <td>4.545455</td>\n",
       "      <td>11.155914</td>\n",
       "      <td>9.808343</td>\n",
       "      <td>5.882353</td>\n",
       "    </tr>\n",
       "    <tr>\n",
       "      <td>женат / замужем</td>\n",
       "      <td>14.285714</td>\n",
       "      <td>10.329171</td>\n",
       "      <td>7.550870</td>\n",
       "      <td>5.333893</td>\n",
       "    </tr>\n",
       "  </tbody>\n",
       "</table>\n",
       "</div>"
      ],
      "text/plain": [
       "debt                     percent                                \n",
       "dob_years_group            до 22      до 30      до 55 остальные\n",
       "family_status                                                   \n",
       "Не женат / не замужем  12.359551  11.099138  10.310022  4.187192\n",
       "в разводе               0.000000  14.782609   6.364749  6.130268\n",
       "вдовец / вдова               NaN  14.285714   6.590258  6.467662\n",
       "гражданский брак        4.545455  11.155914   9.808343  5.882353\n",
       "женат / замужем        14.285714  10.329171   7.550870  5.333893"
      ]
     },
     "execution_count": 57,
     "metadata": {},
     "output_type": "execute_result"
    }
   ],
   "source": [
    "make_double_dependence('family_status', 'dob_years_group')"
   ]
  },
  {
   "cell_type": "markdown",
   "metadata": {},
   "source": [
    "Как видно из данных, приведенных в таблице выше, наибольший процент просроченной задолженности приходится на заемщиков с семейным статусом \"вдовец / вдова\" в возрасте до 21 года, при этом, наименьший просроченной задолженности приходится на заемщиков с семейным статусом \"Не женат / не замужем\" в возрасте от 55 лет."
   ]
  },
  {
   "cell_type": "markdown",
   "metadata": {},
   "source": [
    "**Вывод**"
   ]
  },
  {
   "cell_type": "markdown",
   "metadata": {},
   "source": [
    "В ходе анализа наличия зависимости между наличием детей и возвратом кредита в срок, установлено следующее.\n",
    "\n",
    "Максимальное количество заемщиков в представленном датасете  - это заемщики с семейным положением \"женат / замужем\", их количество составляет 57,5%. \n",
    "\n",
    "При этом, максимальный процент просроченной задолженности у заемщиков с семейным положением \"Не женат / не замужем\" (9.8%), минимальный процент просроченной задолженности у заемщиков с семейным положением \"вдовец / вдова\"/ (6.5%).\n",
    "\n",
    "Cгруппированные данные по заемщикам, которые вышли на просрочку не изменятся и также составят 8.1%, как и в первой гипотезе.\n",
    "\n",
    "\n",
    "Кроме того, в ходе проведенного анализа установлено, что:\n",
    "1. просрочка отсутствет у должников с ученой степенью. При этом, у должников с высшим образованием процент просроченной задолженности также ниже (от 0% до 5.7%) процента просроченнной задолженности всех заемщиков (8.1%). Кроме того, у должников с неоконченным высшим образованием процент просроченной задолженности возрастает с увеличением количества детей.\n",
    "\n",
    "\n",
    "2. наибольший процент просроченной задолженности приходится на заемщиков с семейным статусом \"вдовец / вдова\" в возрасте до 21 года, при этом, наименьший процент просроченной задолженности приходится на заемщиков с семейным статусом \"Не женат / не замужем\" в возрасте от 55 лет.\n",
    "\n",
    "3. у заемщиков женского пола, вне зависимости от семейного статуса, процент просроченной задолженности ниже, чем у заемщиков мужского пола.\n",
    "\n",
    "4. У заемщиков мужского пола, наибольший процент просроченной задолженности приходится на семейный статус \"вдовец / вдова\", а у заемщиков жеского пола на семейный статус \"гражданский брак\". \n",
    "\n",
    "5. Наименьший процент просроченной задолженности приходится на заемщиков мужского пола с семейным статусом \"женат / замужем\", а у заемщиков женского пола на семейный статус \"вдовец / вдова\".\n",
    "\n",
    "6. просрочка отсутствет у должников с ученой степенью. При этом, у должников с высшим образованием процент просроченной задолженности также ниже (от 0% до 5.7%) процента просроченнной задолженности всех заемщиков (8.1%). \n",
    "\n",
    "7. у должников с неоконченным высшим образованием процент просроченной задолженности возрастает с увеличением количества детей.\n",
    "\n",
    "По результатам проведенного анализа установлено, что гипотеза о зависимости между семейным положением и возвратом кредита в срок не подтверждается. Если зависимость и существует, то на основной массе должников указанного датасета она не заметна."
   ]
  },
  {
   "cell_type": "markdown",
   "metadata": {},
   "source": [
    "- Есть ли зависимость между уровнем дохода и возвратом кредита в срок?"
   ]
  },
  {
   "cell_type": "markdown",
   "metadata": {},
   "source": [
    "При рассмотрении третьей гипотезы проверим, есть ли зависимость между уровнем дохода и возвратом кредита в срок. \n",
    "Для этого сначала оценим количество заемщиков для заемщиков с разным уровнем дохода."
   ]
  },
  {
   "cell_type": "code",
   "execution_count": 58,
   "metadata": {},
   "outputs": [
    {
     "data": {
      "text/html": [
       "<div>\n",
       "<style scoped>\n",
       "    .dataframe tbody tr th:only-of-type {\n",
       "        vertical-align: middle;\n",
       "    }\n",
       "\n",
       "    .dataframe tbody tr th {\n",
       "        vertical-align: top;\n",
       "    }\n",
       "\n",
       "    .dataframe thead th {\n",
       "        text-align: right;\n",
       "    }\n",
       "</style>\n",
       "<table border=\"1\" class=\"dataframe\">\n",
       "  <thead>\n",
       "    <tr style=\"text-align: right;\">\n",
       "      <th></th>\n",
       "      <th>debt</th>\n",
       "    </tr>\n",
       "    <tr>\n",
       "      <th>total_income_group</th>\n",
       "      <th></th>\n",
       "    </tr>\n",
       "  </thead>\n",
       "  <tbody>\n",
       "    <tr>\n",
       "      <td>до 150 тыс.</td>\n",
       "      <td>11632</td>\n",
       "    </tr>\n",
       "    <tr>\n",
       "      <td>до 22 тыс.</td>\n",
       "      <td>5</td>\n",
       "    </tr>\n",
       "    <tr>\n",
       "      <td>свыше 1 млн</td>\n",
       "      <td>9833</td>\n",
       "    </tr>\n",
       "  </tbody>\n",
       "</table>\n",
       "</div>"
      ],
      "text/plain": [
       "                     debt\n",
       "total_income_group       \n",
       "до 150 тыс.         11632\n",
       "до 22 тыс.              5\n",
       "свыше 1 млн          9833"
      ]
     },
     "metadata": {},
     "output_type": "display_data"
    },
    {
     "data": {
      "text/plain": [
       "0.02328830926874709"
      ]
     },
     "metadata": {},
     "output_type": "display_data"
    }
   ],
   "source": [
    "min_percent = df.groupby('total_income_group')[['debt']].count()\n",
    "display(min_percent)\n",
    "display(min_percent['debt'][1] / max_percent['debt'].sum() * 100)"
   ]
  },
  {
   "cell_type": "markdown",
   "metadata": {},
   "source": [
    "Из представленных данных следует, что  заемщики с минимимальным уровнем дохода (до 50 тыс.) составляют 0,02% от всех заемщиков. \n",
    "Cгруппированные данные по заемщикам, которые вышли на просрочку не изменятся и также составят 8.1%, как и в первой гипотезе.\n",
    "\n",
    "Теперь сформируем сводную таблицу, которая посчитает зависимость между уровнем дохода и возвратом кредита в срок."
   ]
  },
  {
   "cell_type": "code",
   "execution_count": 59,
   "metadata": {},
   "outputs": [
    {
     "data": {
      "text/html": [
       "<div>\n",
       "<style scoped>\n",
       "    .dataframe tbody tr th:only-of-type {\n",
       "        vertical-align: middle;\n",
       "    }\n",
       "\n",
       "    .dataframe tbody tr th {\n",
       "        vertical-align: top;\n",
       "    }\n",
       "\n",
       "    .dataframe thead th {\n",
       "        text-align: right;\n",
       "    }\n",
       "</style>\n",
       "<table border=\"1\" class=\"dataframe\">\n",
       "  <thead>\n",
       "    <tr style=\"text-align: right;\">\n",
       "      <th>debt</th>\n",
       "      <th>percent</th>\n",
       "    </tr>\n",
       "    <tr>\n",
       "      <th>total_income_group</th>\n",
       "      <th></th>\n",
       "    </tr>\n",
       "  </thead>\n",
       "  <tbody>\n",
       "    <tr>\n",
       "      <td>до 150 тыс.</td>\n",
       "      <td>8.399243</td>\n",
       "    </tr>\n",
       "    <tr>\n",
       "      <td>до 22 тыс.</td>\n",
       "      <td>20.000000</td>\n",
       "    </tr>\n",
       "    <tr>\n",
       "      <td>свыше 1 млн</td>\n",
       "      <td>7.759585</td>\n",
       "    </tr>\n",
       "  </tbody>\n",
       "</table>\n",
       "</div>"
      ],
      "text/plain": [
       "debt                  percent\n",
       "total_income_group           \n",
       "до 150 тыс.          8.399243\n",
       "до 22 тыс.          20.000000\n",
       "свыше 1 млн          7.759585"
      ]
     },
     "metadata": {},
     "output_type": "display_data"
    }
   ],
   "source": [
    "make_dependence('total_income_group')"
   ]
  },
  {
   "cell_type": "markdown",
   "metadata": {},
   "source": [
    "Как видно из данных, приведенных в таблице выше, самый большой процент просроченной задолженности у заемщиков с самым маленьким доходом (до 50 тыс.). При этом с увеличением суммы дохода, по сформированным в процессе исследования группам, у заемщиков уменьшается процент просроченной задолженности."
   ]
  },
  {
   "cell_type": "code",
   "execution_count": 60,
   "metadata": {},
   "outputs": [
    {
     "data": {
      "text/html": [
       "<div>\n",
       "<style scoped>\n",
       "    .dataframe tbody tr th:only-of-type {\n",
       "        vertical-align: middle;\n",
       "    }\n",
       "\n",
       "    .dataframe tbody tr th {\n",
       "        vertical-align: top;\n",
       "    }\n",
       "\n",
       "    .dataframe thead th {\n",
       "        text-align: right;\n",
       "    }\n",
       "</style>\n",
       "<table border=\"1\" class=\"dataframe\">\n",
       "  <thead>\n",
       "    <tr style=\"text-align: right;\">\n",
       "      <th>debt</th>\n",
       "      <th>percent</th>\n",
       "    </tr>\n",
       "    <tr>\n",
       "      <th>total_income_kvant</th>\n",
       "      <th></th>\n",
       "    </tr>\n",
       "  </thead>\n",
       "  <tbody>\n",
       "    <tr>\n",
       "      <td>до 108 тыс.</td>\n",
       "      <td>7.954545</td>\n",
       "    </tr>\n",
       "    <tr>\n",
       "      <td>до 143 тыс.</td>\n",
       "      <td>8.799417</td>\n",
       "    </tr>\n",
       "    <tr>\n",
       "      <td>до 196 тыс.</td>\n",
       "      <td>8.541468</td>\n",
       "    </tr>\n",
       "    <tr>\n",
       "      <td>свыше 196</td>\n",
       "      <td>7.134873</td>\n",
       "    </tr>\n",
       "  </tbody>\n",
       "</table>\n",
       "</div>"
      ],
      "text/plain": [
       "debt                 percent\n",
       "total_income_kvant          \n",
       "до 108 тыс.         7.954545\n",
       "до 143 тыс.         8.799417\n",
       "до 196 тыс.         8.541468\n",
       "свыше 196           7.134873"
      ]
     },
     "metadata": {},
     "output_type": "display_data"
    }
   ],
   "source": [
    "make_dependence('total_income_kvant')"
   ]
  },
  {
   "cell_type": "markdown",
   "metadata": {},
   "source": [
    "Рассмотрим как влияет уровень дохода на возврат кредита в срок у должников с разным уровнем образования."
   ]
  },
  {
   "cell_type": "code",
   "execution_count": 61,
   "metadata": {},
   "outputs": [
    {
     "data": {
      "text/html": [
       "<div>\n",
       "<style scoped>\n",
       "    .dataframe tbody tr th:only-of-type {\n",
       "        vertical-align: middle;\n",
       "    }\n",
       "\n",
       "    .dataframe tbody tr th {\n",
       "        vertical-align: top;\n",
       "    }\n",
       "\n",
       "    .dataframe thead tr th {\n",
       "        text-align: left;\n",
       "    }\n",
       "\n",
       "    .dataframe thead tr:last-of-type th {\n",
       "        text-align: right;\n",
       "    }\n",
       "</style>\n",
       "<table border=\"1\" class=\"dataframe\">\n",
       "  <thead>\n",
       "    <tr>\n",
       "      <th>debt</th>\n",
       "      <th colspan=\"5\" halign=\"left\">percent</th>\n",
       "    </tr>\n",
       "    <tr>\n",
       "      <th>education</th>\n",
       "      <th>высшее</th>\n",
       "      <th>начальное</th>\n",
       "      <th>неоконченное высшее</th>\n",
       "      <th>среднее</th>\n",
       "      <th>ученая степень</th>\n",
       "    </tr>\n",
       "    <tr>\n",
       "      <th>total_income_group</th>\n",
       "      <th></th>\n",
       "      <th></th>\n",
       "      <th></th>\n",
       "      <th></th>\n",
       "      <th></th>\n",
       "    </tr>\n",
       "  </thead>\n",
       "  <tbody>\n",
       "    <tr>\n",
       "      <td>до 150 тыс.</td>\n",
       "      <td>5.476773</td>\n",
       "      <td>10.714286</td>\n",
       "      <td>8.215297</td>\n",
       "      <td>9.020476</td>\n",
       "      <td>0.0</td>\n",
       "    </tr>\n",
       "    <tr>\n",
       "      <td>до 22 тыс.</td>\n",
       "      <td>NaN</td>\n",
       "      <td>NaN</td>\n",
       "      <td>NaN</td>\n",
       "      <td>20.000000</td>\n",
       "      <td>NaN</td>\n",
       "    </tr>\n",
       "    <tr>\n",
       "      <td>свыше 1 млн</td>\n",
       "      <td>5.177792</td>\n",
       "      <td>11.627907</td>\n",
       "      <td>9.974425</td>\n",
       "      <td>8.914918</td>\n",
       "      <td>0.0</td>\n",
       "    </tr>\n",
       "  </tbody>\n",
       "</table>\n",
       "</div>"
      ],
      "text/plain": [
       "debt                 percent                                            \\\n",
       "education             высшее  начальное неоконченное высшее    среднее   \n",
       "total_income_group                                                       \n",
       "до 150 тыс.         5.476773  10.714286            8.215297   9.020476   \n",
       "до 22 тыс.               NaN        NaN                 NaN  20.000000   \n",
       "свыше 1 млн         5.177792  11.627907            9.974425   8.914918   \n",
       "\n",
       "debt                               \n",
       "education          ученая степень  \n",
       "total_income_group                 \n",
       "до 150 тыс.                   0.0  \n",
       "до 22 тыс.                    NaN  \n",
       "свыше 1 млн                   0.0  "
      ]
     },
     "execution_count": 61,
     "metadata": {},
     "output_type": "execute_result"
    }
   ],
   "source": [
    "make_double_dependence('total_income_group', 'education')"
   ]
  },
  {
   "cell_type": "markdown",
   "metadata": {},
   "source": [
    "Как видно из таблицы выше, максимальный процент просроченной задолженности у заемщиков\n",
    "с уровнем дохода до 50 тыс. и составляет 20%.\n",
    "\n",
    "Рассмотрим как влияет уровень дохода на возврат кредита в срок у должников разного пола."
   ]
  },
  {
   "cell_type": "code",
   "execution_count": 62,
   "metadata": {},
   "outputs": [
    {
     "data": {
      "text/html": [
       "<div>\n",
       "<style scoped>\n",
       "    .dataframe tbody tr th:only-of-type {\n",
       "        vertical-align: middle;\n",
       "    }\n",
       "\n",
       "    .dataframe tbody tr th {\n",
       "        vertical-align: top;\n",
       "    }\n",
       "\n",
       "    .dataframe thead tr th {\n",
       "        text-align: left;\n",
       "    }\n",
       "\n",
       "    .dataframe thead tr:last-of-type th {\n",
       "        text-align: right;\n",
       "    }\n",
       "</style>\n",
       "<table border=\"1\" class=\"dataframe\">\n",
       "  <thead>\n",
       "    <tr>\n",
       "      <th>debt</th>\n",
       "      <th colspan=\"2\" halign=\"left\">percent</th>\n",
       "    </tr>\n",
       "    <tr>\n",
       "      <th>gender</th>\n",
       "      <th>F</th>\n",
       "      <th>M</th>\n",
       "    </tr>\n",
       "    <tr>\n",
       "      <th>total_income_group</th>\n",
       "      <th></th>\n",
       "      <th></th>\n",
       "    </tr>\n",
       "  </thead>\n",
       "  <tbody>\n",
       "    <tr>\n",
       "      <td>до 150 тыс.</td>\n",
       "      <td>7.332787</td>\n",
       "      <td>11.340872</td>\n",
       "    </tr>\n",
       "    <tr>\n",
       "      <td>до 22 тыс.</td>\n",
       "      <td>50.000000</td>\n",
       "      <td>0.000000</td>\n",
       "    </tr>\n",
       "    <tr>\n",
       "      <td>свыше 1 млн</td>\n",
       "      <td>6.496725</td>\n",
       "      <td>9.464627</td>\n",
       "    </tr>\n",
       "  </tbody>\n",
       "</table>\n",
       "</div>"
      ],
      "text/plain": [
       "debt                  percent           \n",
       "gender                      F          M\n",
       "total_income_group                      \n",
       "до 150 тыс.          7.332787  11.340872\n",
       "до 22 тыс.          50.000000   0.000000\n",
       "свыше 1 млн          6.496725   9.464627"
      ]
     },
     "execution_count": 62,
     "metadata": {},
     "output_type": "execute_result"
    }
   ],
   "source": [
    "make_double_dependence('total_income_group', 'gender')"
   ]
  },
  {
   "cell_type": "markdown",
   "metadata": {},
   "source": [
    "Как видно из данных, приведенных в таблице выше, у заемщиков, доход которых больше,\n",
    "вне зависимости от пола, процент просроченной задолженности меньше."
   ]
  },
  {
   "cell_type": "markdown",
   "metadata": {},
   "source": [
    "**Вывод**"
   ]
  },
  {
   "cell_type": "markdown",
   "metadata": {},
   "source": [
    "Из представленных данных следует, что заемщики с минимимальным уровнем дохода (до 50 тыс.) составляют 0,02% от всех заемщиков. \n",
    "\n",
    "Самый большой процент просроченной задолженности (20%) у заемщиков с самым маленьким доходом (до 50 тыс.). При этом чем больше сумма дохода у заемщика, по сформированным в процессе исследования группам, тем меньше процент просроченной задолженности.\n",
    "\n",
    "По результатам проведенного анализа установлена зависимость между уровнем дохода заемщика, по сформированным в процессе исследования группам, и возвратом кредита в срок.\n",
    "\n",
    "Кроме того, в ходе исследования данных установлено, что у заемщиков, доход которых больше, вне зависимости от пола, процент просроченной задолженности меньше.\n",
    "\n",
    "Таким образом, более детальный анализ данных также подтверждает зависимость между уровнем дохода и возвратом кредита в срок.\n",
    "\n",
    "Гипотеза о зависимости между уровнем дохода и возвратом кредита в срок подтверждается."
   ]
  },
  {
   "cell_type": "markdown",
   "metadata": {},
   "source": [
    "- Как разные цели кредита влияют на его возврат в срок?"
   ]
  },
  {
   "cell_type": "markdown",
   "metadata": {},
   "source": [
    "При рассмотрении четвертой гипотезы проверим, как разные цели кредита влияют на его возврат в срок. \n",
    "Для этого сначала проведем расчет, сколько всего заемщиков с разными целями кредита.\n",
    "\n",
    "Оценим количество заемщиков для заемщиков с разными целями кредита."
   ]
  },
  {
   "cell_type": "code",
   "execution_count": 63,
   "metadata": {},
   "outputs": [
    {
     "data": {
      "text/html": [
       "<div>\n",
       "<style scoped>\n",
       "    .dataframe tbody tr th:only-of-type {\n",
       "        vertical-align: middle;\n",
       "    }\n",
       "\n",
       "    .dataframe tbody tr th {\n",
       "        vertical-align: top;\n",
       "    }\n",
       "\n",
       "    .dataframe thead th {\n",
       "        text-align: right;\n",
       "    }\n",
       "</style>\n",
       "<table border=\"1\" class=\"dataframe\">\n",
       "  <thead>\n",
       "    <tr style=\"text-align: right;\">\n",
       "      <th></th>\n",
       "      <th>debt</th>\n",
       "    </tr>\n",
       "    <tr>\n",
       "      <th>purpose</th>\n",
       "      <th></th>\n",
       "    </tr>\n",
       "  </thead>\n",
       "  <tbody>\n",
       "    <tr>\n",
       "      <td>на проведение свадьбы</td>\n",
       "      <td>2335</td>\n",
       "    </tr>\n",
       "    <tr>\n",
       "      <td>операции с недвижимостью</td>\n",
       "      <td>10813</td>\n",
       "    </tr>\n",
       "    <tr>\n",
       "      <td>покупка автомобиля</td>\n",
       "      <td>4308</td>\n",
       "    </tr>\n",
       "    <tr>\n",
       "      <td>получение образования</td>\n",
       "      <td>4014</td>\n",
       "    </tr>\n",
       "  </tbody>\n",
       "</table>\n",
       "</div>"
      ],
      "text/plain": [
       "                           debt\n",
       "purpose                        \n",
       "на проведение свадьбы      2335\n",
       "операции с недвижимостью  10813\n",
       "покупка автомобиля         4308\n",
       "получение образования      4014"
      ]
     },
     "metadata": {},
     "output_type": "display_data"
    },
    {
     "data": {
      "text/plain": [
       "50.36329762459245"
      ]
     },
     "metadata": {},
     "output_type": "display_data"
    }
   ],
   "source": [
    "min_percent = df.groupby('purpose')[['debt']].count()\n",
    "display(min_percent)\n",
    "display(min_percent['debt'][1] / max_percent['debt'].sum() * 100)"
   ]
  },
  {
   "cell_type": "markdown",
   "metadata": {},
   "source": [
    "Из представленных данных следует, что  целью 50,4% заемщиков являлись операци с недвижимостью. \n",
    "Cгруппированные данные по заемщикам, которые вышли на просрочку не изменятся и также составят 8.1%, как и в первой гипотезе.\n",
    "\n",
    "Теперь сформируем сводную таблицу, которая посчитает зависимость между целью кредита и возвратом кредита в срок."
   ]
  },
  {
   "cell_type": "code",
   "execution_count": 64,
   "metadata": {},
   "outputs": [
    {
     "data": {
      "text/html": [
       "<div>\n",
       "<style scoped>\n",
       "    .dataframe tbody tr th:only-of-type {\n",
       "        vertical-align: middle;\n",
       "    }\n",
       "\n",
       "    .dataframe tbody tr th {\n",
       "        vertical-align: top;\n",
       "    }\n",
       "\n",
       "    .dataframe thead th {\n",
       "        text-align: right;\n",
       "    }\n",
       "</style>\n",
       "<table border=\"1\" class=\"dataframe\">\n",
       "  <thead>\n",
       "    <tr style=\"text-align: right;\">\n",
       "      <th>debt</th>\n",
       "      <th>percent</th>\n",
       "    </tr>\n",
       "    <tr>\n",
       "      <th>purpose</th>\n",
       "      <th></th>\n",
       "    </tr>\n",
       "  </thead>\n",
       "  <tbody>\n",
       "    <tr>\n",
       "      <td>на проведение свадьбы</td>\n",
       "      <td>7.965739</td>\n",
       "    </tr>\n",
       "    <tr>\n",
       "      <td>операции с недвижимостью</td>\n",
       "      <td>7.232036</td>\n",
       "    </tr>\n",
       "    <tr>\n",
       "      <td>покупка автомобиля</td>\n",
       "      <td>9.354689</td>\n",
       "    </tr>\n",
       "    <tr>\n",
       "      <td>получение образования</td>\n",
       "      <td>9.217738</td>\n",
       "    </tr>\n",
       "  </tbody>\n",
       "</table>\n",
       "</div>"
      ],
      "text/plain": [
       "debt                       percent\n",
       "purpose                           \n",
       "на проведение свадьбы     7.965739\n",
       "операции с недвижимостью  7.232036\n",
       "покупка автомобиля        9.354689\n",
       "получение образования     9.217738"
      ]
     },
     "metadata": {},
     "output_type": "display_data"
    }
   ],
   "source": [
    "make_dependence('purpose')"
   ]
  },
  {
   "cell_type": "markdown",
   "metadata": {},
   "source": [
    "Как видно из данных, приведенных в таблице выше, наибольший процент просроченной задолженности приходится на покупку  автомобиля и составляет 9.4%. \n",
    "Наименьший процент просроченной задолженности приходится на операции с недвижимостью.\n",
    "\n",
    "\n"
   ]
  },
  {
   "cell_type": "markdown",
   "metadata": {},
   "source": [
    "Рассмотрим как влияет цель кредита на возврат кредита в срок у должников с разным уровнем образования."
   ]
  },
  {
   "cell_type": "code",
   "execution_count": 65,
   "metadata": {},
   "outputs": [
    {
     "data": {
      "text/html": [
       "<div>\n",
       "<style scoped>\n",
       "    .dataframe tbody tr th:only-of-type {\n",
       "        vertical-align: middle;\n",
       "    }\n",
       "\n",
       "    .dataframe tbody tr th {\n",
       "        vertical-align: top;\n",
       "    }\n",
       "\n",
       "    .dataframe thead tr th {\n",
       "        text-align: left;\n",
       "    }\n",
       "\n",
       "    .dataframe thead tr:last-of-type th {\n",
       "        text-align: right;\n",
       "    }\n",
       "</style>\n",
       "<table border=\"1\" class=\"dataframe\">\n",
       "  <thead>\n",
       "    <tr>\n",
       "      <th>debt</th>\n",
       "      <th colspan=\"5\" halign=\"left\">percent</th>\n",
       "    </tr>\n",
       "    <tr>\n",
       "      <th>education</th>\n",
       "      <th>высшее</th>\n",
       "      <th>начальное</th>\n",
       "      <th>неоконченное высшее</th>\n",
       "      <th>среднее</th>\n",
       "      <th>ученая степень</th>\n",
       "    </tr>\n",
       "    <tr>\n",
       "      <th>purpose</th>\n",
       "      <th></th>\n",
       "      <th></th>\n",
       "      <th></th>\n",
       "      <th></th>\n",
       "      <th></th>\n",
       "    </tr>\n",
       "  </thead>\n",
       "  <tbody>\n",
       "    <tr>\n",
       "      <td>на проведение свадьбы</td>\n",
       "      <td>4.492512</td>\n",
       "      <td>14.285714</td>\n",
       "      <td>7.500000</td>\n",
       "      <td>9.163592</td>\n",
       "      <td>NaN</td>\n",
       "    </tr>\n",
       "    <tr>\n",
       "      <td>операции с недвижимостью</td>\n",
       "      <td>4.813433</td>\n",
       "      <td>11.111111</td>\n",
       "      <td>8.947368</td>\n",
       "      <td>7.930037</td>\n",
       "      <td>0.0</td>\n",
       "    </tr>\n",
       "    <tr>\n",
       "      <td>покупка автомобиля</td>\n",
       "      <td>6.467181</td>\n",
       "      <td>10.909091</td>\n",
       "      <td>10.457516</td>\n",
       "      <td>10.248042</td>\n",
       "      <td>NaN</td>\n",
       "    </tr>\n",
       "    <tr>\n",
       "      <td>получение образования</td>\n",
       "      <td>5.888651</td>\n",
       "      <td>9.090909</td>\n",
       "      <td>9.160305</td>\n",
       "      <td>10.300726</td>\n",
       "      <td>0.0</td>\n",
       "    </tr>\n",
       "  </tbody>\n",
       "</table>\n",
       "</div>"
      ],
      "text/plain": [
       "debt                       percent                                            \\\n",
       "education                   высшее  начальное неоконченное высшее    среднее   \n",
       "purpose                                                                        \n",
       "на проведение свадьбы     4.492512  14.285714            7.500000   9.163592   \n",
       "операции с недвижимостью  4.813433  11.111111            8.947368   7.930037   \n",
       "покупка автомобиля        6.467181  10.909091           10.457516  10.248042   \n",
       "получение образования     5.888651   9.090909            9.160305  10.300726   \n",
       "\n",
       "debt                                     \n",
       "education                ученая степень  \n",
       "purpose                                  \n",
       "на проведение свадьбы               NaN  \n",
       "операции с недвижимостью            0.0  \n",
       "покупка автомобиля                  NaN  \n",
       "получение образования               0.0  "
      ]
     },
     "execution_count": 65,
     "metadata": {},
     "output_type": "execute_result"
    }
   ],
   "source": [
    "make_double_dependence('purpose', 'education')"
   ]
  },
  {
   "cell_type": "markdown",
   "metadata": {},
   "source": [
    "Как видно из данных, приведенных в таблице выше, у заемщиков с разным уровнем образования, \n",
    "наибольший процент просроченной задолженности по кредитам, целью которых является покупка автомобиля.\n",
    "\n",
    "Рассмотрим как влияет цель кредита на возврат кредита в срок у должников с разным типом дохода."
   ]
  },
  {
   "cell_type": "code",
   "execution_count": 66,
   "metadata": {},
   "outputs": [
    {
     "data": {
      "text/html": [
       "<div>\n",
       "<style scoped>\n",
       "    .dataframe tbody tr th:only-of-type {\n",
       "        vertical-align: middle;\n",
       "    }\n",
       "\n",
       "    .dataframe tbody tr th {\n",
       "        vertical-align: top;\n",
       "    }\n",
       "\n",
       "    .dataframe thead tr th {\n",
       "        text-align: left;\n",
       "    }\n",
       "\n",
       "    .dataframe thead tr:last-of-type th {\n",
       "        text-align: right;\n",
       "    }\n",
       "</style>\n",
       "<table border=\"1\" class=\"dataframe\">\n",
       "  <thead>\n",
       "    <tr>\n",
       "      <th>debt</th>\n",
       "      <th colspan=\"8\" halign=\"left\">percent</th>\n",
       "    </tr>\n",
       "    <tr>\n",
       "      <th>income_type</th>\n",
       "      <th>безработный</th>\n",
       "      <th>в декрете</th>\n",
       "      <th>госслужащий</th>\n",
       "      <th>компаньон</th>\n",
       "      <th>пенсионер</th>\n",
       "      <th>предприниматель</th>\n",
       "      <th>сотрудник</th>\n",
       "      <th>студент</th>\n",
       "    </tr>\n",
       "    <tr>\n",
       "      <th>purpose</th>\n",
       "      <th></th>\n",
       "      <th></th>\n",
       "      <th></th>\n",
       "      <th></th>\n",
       "      <th></th>\n",
       "      <th></th>\n",
       "      <th></th>\n",
       "      <th></th>\n",
       "    </tr>\n",
       "  </thead>\n",
       "  <tbody>\n",
       "    <tr>\n",
       "      <td>на проведение свадьбы</td>\n",
       "      <td>NaN</td>\n",
       "      <td>NaN</td>\n",
       "      <td>4.402516</td>\n",
       "      <td>9.867173</td>\n",
       "      <td>5.841121</td>\n",
       "      <td>0.0</td>\n",
       "      <td>8.360656</td>\n",
       "      <td>NaN</td>\n",
       "    </tr>\n",
       "    <tr>\n",
       "      <td>операции с недвижимостью</td>\n",
       "      <td>50.0</td>\n",
       "      <td>NaN</td>\n",
       "      <td>4.774536</td>\n",
       "      <td>6.556733</td>\n",
       "      <td>4.865151</td>\n",
       "      <td>0.0</td>\n",
       "      <td>8.652306</td>\n",
       "      <td>0.0</td>\n",
       "    </tr>\n",
       "    <tr>\n",
       "      <td>покупка автомобиля</td>\n",
       "      <td>NaN</td>\n",
       "      <td>100.0</td>\n",
       "      <td>7.692308</td>\n",
       "      <td>8.079848</td>\n",
       "      <td>6.407035</td>\n",
       "      <td>NaN</td>\n",
       "      <td>11.228716</td>\n",
       "      <td>NaN</td>\n",
       "    </tr>\n",
       "    <tr>\n",
       "      <td>получение образования</td>\n",
       "      <td>NaN</td>\n",
       "      <td>NaN</td>\n",
       "      <td>8.139535</td>\n",
       "      <td>7.547170</td>\n",
       "      <td>6.648199</td>\n",
       "      <td>NaN</td>\n",
       "      <td>11.009615</td>\n",
       "      <td>NaN</td>\n",
       "    </tr>\n",
       "  </tbody>\n",
       "</table>\n",
       "</div>"
      ],
      "text/plain": [
       "debt                         percent                                  \\\n",
       "income_type              безработный в декрете госслужащий компаньон   \n",
       "purpose                                                                \n",
       "на проведение свадьбы            NaN       NaN    4.402516  9.867173   \n",
       "операции с недвижимостью        50.0       NaN    4.774536  6.556733   \n",
       "покупка автомобиля               NaN     100.0    7.692308  8.079848   \n",
       "получение образования            NaN       NaN    8.139535  7.547170   \n",
       "\n",
       "debt                                                                   \n",
       "income_type              пенсионер предприниматель  сотрудник студент  \n",
       "purpose                                                                \n",
       "на проведение свадьбы     5.841121             0.0   8.360656     NaN  \n",
       "операции с недвижимостью  4.865151             0.0   8.652306     0.0  \n",
       "покупка автомобиля        6.407035             NaN  11.228716     NaN  \n",
       "получение образования     6.648199             NaN  11.009615     NaN  "
      ]
     },
     "execution_count": 66,
     "metadata": {},
     "output_type": "execute_result"
    }
   ],
   "source": [
    "make_double_dependence('purpose', 'income_type')"
   ]
  },
  {
   "cell_type": "markdown",
   "metadata": {},
   "source": [
    "Как видно из данных, приведенных в таблице выше, наибольший процент просроченной задолженности \n",
    "приходится на покупку автомобиля  безработными и составляет 100%.\n",
    "\n",
    "Рассмотрим как влияет цель кредита на возврат кредита в срок у должников разного пола."
   ]
  },
  {
   "cell_type": "code",
   "execution_count": 67,
   "metadata": {},
   "outputs": [
    {
     "data": {
      "text/html": [
       "<div>\n",
       "<style scoped>\n",
       "    .dataframe tbody tr th:only-of-type {\n",
       "        vertical-align: middle;\n",
       "    }\n",
       "\n",
       "    .dataframe tbody tr th {\n",
       "        vertical-align: top;\n",
       "    }\n",
       "\n",
       "    .dataframe thead tr th {\n",
       "        text-align: left;\n",
       "    }\n",
       "\n",
       "    .dataframe thead tr:last-of-type th {\n",
       "        text-align: right;\n",
       "    }\n",
       "</style>\n",
       "<table border=\"1\" class=\"dataframe\">\n",
       "  <thead>\n",
       "    <tr>\n",
       "      <th>debt</th>\n",
       "      <th colspan=\"2\" halign=\"left\">percent</th>\n",
       "    </tr>\n",
       "    <tr>\n",
       "      <th>gender</th>\n",
       "      <th>F</th>\n",
       "      <th>M</th>\n",
       "    </tr>\n",
       "    <tr>\n",
       "      <th>purpose</th>\n",
       "      <th></th>\n",
       "      <th></th>\n",
       "    </tr>\n",
       "  </thead>\n",
       "  <tbody>\n",
       "    <tr>\n",
       "      <td>на проведение свадьбы</td>\n",
       "      <td>6.870229</td>\n",
       "      <td>10.222805</td>\n",
       "    </tr>\n",
       "    <tr>\n",
       "      <td>операции с недвижимостью</td>\n",
       "      <td>6.265876</td>\n",
       "      <td>9.068956</td>\n",
       "    </tr>\n",
       "    <tr>\n",
       "      <td>покупка автомобиля</td>\n",
       "      <td>8.211041</td>\n",
       "      <td>11.618257</td>\n",
       "    </tr>\n",
       "    <tr>\n",
       "      <td>получение образования</td>\n",
       "      <td>7.758621</td>\n",
       "      <td>12.109955</td>\n",
       "    </tr>\n",
       "  </tbody>\n",
       "</table>\n",
       "</div>"
      ],
      "text/plain": [
       "debt                       percent           \n",
       "gender                           F          M\n",
       "purpose                                      \n",
       "на проведение свадьбы     6.870229  10.222805\n",
       "операции с недвижимостью  6.265876   9.068956\n",
       "покупка автомобиля        8.211041  11.618257\n",
       "получение образования     7.758621  12.109955"
      ]
     },
     "execution_count": 67,
     "metadata": {},
     "output_type": "execute_result"
    }
   ],
   "source": [
    "make_double_dependence('purpose', 'gender')"
   ]
  },
  {
   "cell_type": "markdown",
   "metadata": {},
   "source": [
    "Как видно из данных, приведенных в таблице выше, наименьший процент просроченной задолженности \n",
    "приходится на операции с недвижимостью как у мужчин, так и у женщин."
   ]
  },
  {
   "cell_type": "markdown",
   "metadata": {},
   "source": [
    "**Вывод**"
   ]
  },
  {
   "cell_type": "markdown",
   "metadata": {},
   "source": [
    "Из представленных данных следует, что целью 50,4% заемщиков являлись операци с недвижимостью. \n",
    "Наибольший процент просроченной задолженности приходится на покупку автомобиля и составляет 9.4%. Наименьший процент просроченной задолженности приходится на операции с недвижимостью.\n",
    "\n",
    "По результатам более детального анализа также установлено:\n",
    "\n",
    "1. наибольший процент просроченной задолженности приходится на покупку автомобиля  безработными и составляет 100%.\n",
    "\n",
    "2. наименьший процент просроченной задолженности приходится на операции с недвижимостью как у мужчин, так и у женщин.\n",
    "\n",
    "3. у заемщиков с разным уровнем образования, наибольший процент просроченной задолженности приходится на кредиты, целью которых является покупка автомобиля.\n",
    "\n",
    "\n",
    "По результатам проведенного анализа установлена зависимость между целью кредита и возвратом кредита в срок. \n",
    "Так, наибольшлий процент просроченной задолженности приходится на кредиты, целью которых является покупка автомобиля, а наименьший процент просроченной задолженности приходится на кредиты, целью которых являются операции с недвижимостью.\n"
   ]
  },
  {
   "cell_type": "markdown",
   "metadata": {},
   "source": [
    "## Шаг 4. Общий вывод"
   ]
  },
  {
   "cell_type": "markdown",
   "metadata": {},
   "source": [
    "\n",
    "Исходя из вышеизложенного, в ходе проведения исследования надежности заемщиков установлено, что уровень дохода заемщика, а также цель кредита влияют на вероятность своевременного исполнения обязательств по кредиту.\n",
    "Чем больше у заемщика доход, тем меньше процент просроченной задолженности. \n",
    "Кроме того, заемщики, целью кредита которых являются операции с недвижимостью, чаще исполняют обязательства в срок, чем заемщики, целью кредита которых является покупка автомобиля. "
   ]
  },
  {
   "cell_type": "code",
   "execution_count": null,
   "metadata": {},
   "outputs": [],
   "source": []
  }
 ],
 "metadata": {
  "ExecuteTimeLog": [
   {
    "duration": 3276,
    "start_time": "2021-07-04T15:04:47.730Z"
   },
   {
    "duration": 161,
    "start_time": "2021-07-04T15:08:16.615Z"
   },
   {
    "duration": 1403,
    "start_time": "2021-07-04T15:08:30.343Z"
   },
   {
    "duration": 217,
    "start_time": "2021-07-04T15:08:42.190Z"
   },
   {
    "duration": 16,
    "start_time": "2021-07-04T15:14:13.997Z"
   },
   {
    "duration": 13,
    "start_time": "2021-07-04T15:51:21.239Z"
   },
   {
    "duration": 306,
    "start_time": "2021-07-04T17:11:45.379Z"
   },
   {
    "duration": 7,
    "start_time": "2021-07-04T17:12:03.372Z"
   },
   {
    "duration": 11,
    "start_time": "2021-07-04T17:12:36.833Z"
   },
   {
    "duration": 8,
    "start_time": "2021-07-04T17:12:53.292Z"
   },
   {
    "duration": 10,
    "start_time": "2021-07-04T17:13:09.571Z"
   },
   {
    "duration": 7,
    "start_time": "2021-07-04T17:13:27.605Z"
   },
   {
    "duration": 10,
    "start_time": "2021-07-04T17:13:48.890Z"
   },
   {
    "duration": 8,
    "start_time": "2021-07-04T17:14:08.241Z"
   },
   {
    "duration": 9,
    "start_time": "2021-07-04T17:14:23.766Z"
   },
   {
    "duration": 10,
    "start_time": "2021-07-04T17:14:39.549Z"
   },
   {
    "duration": 7,
    "start_time": "2021-07-04T17:14:52.804Z"
   },
   {
    "duration": 11,
    "start_time": "2021-07-04T17:15:01.971Z"
   },
   {
    "duration": 11,
    "start_time": "2021-07-04T17:15:13.086Z"
   },
   {
    "duration": 10,
    "start_time": "2021-07-04T17:15:59.616Z"
   },
   {
    "duration": 14,
    "start_time": "2021-07-04T17:19:56.813Z"
   },
   {
    "duration": 8,
    "start_time": "2021-07-04T17:23:49.321Z"
   },
   {
    "duration": 10,
    "start_time": "2021-07-04T17:25:23.898Z"
   },
   {
    "duration": 11,
    "start_time": "2021-07-04T17:27:36.008Z"
   },
   {
    "duration": 10,
    "start_time": "2021-07-04T17:29:31.373Z"
   },
   {
    "duration": 8,
    "start_time": "2021-07-04T17:30:13.261Z"
   },
   {
    "duration": 9,
    "start_time": "2021-07-04T17:30:29.754Z"
   },
   {
    "duration": 10,
    "start_time": "2021-07-04T17:31:35.173Z"
   },
   {
    "duration": 9,
    "start_time": "2021-07-04T17:32:28.544Z"
   },
   {
    "duration": 11,
    "start_time": "2021-07-04T17:32:44.810Z"
   },
   {
    "duration": 11,
    "start_time": "2021-07-04T17:33:14.185Z"
   },
   {
    "duration": 6,
    "start_time": "2021-07-04T17:39:01.711Z"
   },
   {
    "duration": 6,
    "start_time": "2021-07-04T17:39:40.794Z"
   },
   {
    "duration": 6,
    "start_time": "2021-07-04T17:39:55.936Z"
   },
   {
    "duration": 6,
    "start_time": "2021-07-04T17:41:45.389Z"
   },
   {
    "duration": 56,
    "start_time": "2021-07-05T19:09:23.607Z"
   },
   {
    "duration": 229,
    "start_time": "2021-07-05T19:09:32.068Z"
   },
   {
    "duration": 198,
    "start_time": "2021-07-05T19:10:23.192Z"
   },
   {
    "duration": 202,
    "start_time": "2021-07-05T19:12:20.374Z"
   },
   {
    "duration": 178,
    "start_time": "2021-07-05T19:14:17.444Z"
   },
   {
    "duration": 178,
    "start_time": "2021-07-05T19:14:31.641Z"
   },
   {
    "duration": 725,
    "start_time": "2021-07-05T19:14:40.300Z"
   },
   {
    "duration": 14,
    "start_time": "2021-07-05T19:14:44.556Z"
   },
   {
    "duration": 9,
    "start_time": "2021-07-05T19:14:48.235Z"
   },
   {
    "duration": 8,
    "start_time": "2021-07-05T19:14:52.128Z"
   },
   {
    "duration": 14,
    "start_time": "2021-07-05T19:15:23.718Z"
   },
   {
    "duration": 60,
    "start_time": "2021-07-05T19:29:51.987Z"
   },
   {
    "duration": 6,
    "start_time": "2021-07-05T19:30:29.094Z"
   },
   {
    "duration": 7,
    "start_time": "2021-07-05T19:30:45.013Z"
   },
   {
    "duration": 11,
    "start_time": "2021-07-05T19:31:05.748Z"
   },
   {
    "duration": 252,
    "start_time": "2021-07-05T19:31:12.707Z"
   },
   {
    "duration": 11,
    "start_time": "2021-07-05T19:31:16.739Z"
   },
   {
    "duration": 10,
    "start_time": "2021-07-05T19:31:21.622Z"
   },
   {
    "duration": 8,
    "start_time": "2021-07-05T19:31:25.322Z"
   },
   {
    "duration": 9,
    "start_time": "2021-07-05T19:31:28.473Z"
   },
   {
    "duration": 55,
    "start_time": "2021-07-05T19:32:05.430Z"
   },
   {
    "duration": 156,
    "start_time": "2021-07-05T19:32:13.507Z"
   },
   {
    "duration": 11,
    "start_time": "2021-07-05T19:32:16.949Z"
   },
   {
    "duration": 10,
    "start_time": "2021-07-05T19:32:20.561Z"
   },
   {
    "duration": 54,
    "start_time": "2021-07-05T19:32:24.870Z"
   },
   {
    "duration": 7,
    "start_time": "2021-07-05T19:32:40.406Z"
   },
   {
    "duration": 11,
    "start_time": "2021-07-05T19:32:47.583Z"
   },
   {
    "duration": 18,
    "start_time": "2021-07-05T20:04:53.937Z"
   },
   {
    "duration": 7,
    "start_time": "2021-07-05T20:05:14.109Z"
   },
   {
    "duration": 198,
    "start_time": "2021-07-05T20:10:21.379Z"
   },
   {
    "duration": 6,
    "start_time": "2021-07-05T20:11:14.556Z"
   },
   {
    "duration": 195,
    "start_time": "2021-07-05T20:11:20.965Z"
   },
   {
    "duration": 11,
    "start_time": "2021-07-05T20:11:24.894Z"
   },
   {
    "duration": 9,
    "start_time": "2021-07-05T20:11:32.848Z"
   },
   {
    "duration": 8,
    "start_time": "2021-07-05T20:11:50.938Z"
   },
   {
    "duration": 17,
    "start_time": "2021-07-05T20:11:53.402Z"
   },
   {
    "duration": 16,
    "start_time": "2021-07-05T20:12:00.017Z"
   },
   {
    "duration": 276,
    "start_time": "2021-07-06T17:43:26.333Z"
   },
   {
    "duration": 791,
    "start_time": "2021-07-06T17:43:36.703Z"
   },
   {
    "duration": 12,
    "start_time": "2021-07-06T17:43:41.353Z"
   },
   {
    "duration": 11,
    "start_time": "2021-07-06T17:43:46.203Z"
   },
   {
    "duration": 10,
    "start_time": "2021-07-06T17:43:50.905Z"
   },
   {
    "duration": 25,
    "start_time": "2021-07-06T17:43:53.269Z"
   },
   {
    "duration": 501,
    "start_time": "2021-07-06T17:43:56.301Z"
   },
   {
    "duration": 15,
    "start_time": "2021-07-06T17:45:13.684Z"
   },
   {
    "duration": 736,
    "start_time": "2021-07-06T17:46:08.214Z"
   },
   {
    "duration": 14,
    "start_time": "2021-07-06T17:46:16.067Z"
   },
   {
    "duration": 58,
    "start_time": "2021-07-06T17:47:14.071Z"
   },
   {
    "duration": 41,
    "start_time": "2021-07-06T17:47:45.673Z"
   },
   {
    "duration": 66,
    "start_time": "2021-07-06T17:53:13.087Z"
   },
   {
    "duration": 60,
    "start_time": "2021-07-06T17:53:23.909Z"
   },
   {
    "duration": 23,
    "start_time": "2021-07-06T17:53:47.794Z"
   },
   {
    "duration": 77,
    "start_time": "2021-07-06T17:54:58.007Z"
   },
   {
    "duration": 24,
    "start_time": "2021-07-06T17:55:23.993Z"
   },
   {
    "duration": 8,
    "start_time": "2021-07-06T17:57:53.508Z"
   },
   {
    "duration": 10,
    "start_time": "2021-07-06T17:59:21.697Z"
   },
   {
    "duration": 18,
    "start_time": "2021-07-06T17:59:39.584Z"
   },
   {
    "duration": 23,
    "start_time": "2021-07-06T18:01:04.119Z"
   },
   {
    "duration": 11,
    "start_time": "2021-07-06T18:02:09.540Z"
   },
   {
    "duration": 10,
    "start_time": "2021-07-06T18:02:53.560Z"
   },
   {
    "duration": 26,
    "start_time": "2021-07-06T18:03:11.503Z"
   },
   {
    "duration": 19,
    "start_time": "2021-07-06T18:13:09.605Z"
   },
   {
    "duration": 16,
    "start_time": "2021-07-06T19:52:01.058Z"
   },
   {
    "duration": 16,
    "start_time": "2021-07-06T19:52:18.446Z"
   },
   {
    "duration": 195,
    "start_time": "2021-07-06T19:52:37.305Z"
   },
   {
    "duration": 23,
    "start_time": "2021-07-06T19:53:06.377Z"
   },
   {
    "duration": 5,
    "start_time": "2021-07-06T19:59:50.132Z"
   },
   {
    "duration": 5,
    "start_time": "2021-07-06T20:00:14.158Z"
   },
   {
    "duration": 5,
    "start_time": "2021-07-06T20:00:31.105Z"
   },
   {
    "duration": 6,
    "start_time": "2021-07-06T20:00:40.353Z"
   },
   {
    "duration": 445,
    "start_time": "2021-07-07T10:00:06.341Z"
   },
   {
    "duration": 1061,
    "start_time": "2021-07-07T10:00:13.129Z"
   },
   {
    "duration": 17,
    "start_time": "2021-07-07T10:00:17.650Z"
   },
   {
    "duration": 12,
    "start_time": "2021-07-07T10:00:21.789Z"
   },
   {
    "duration": 12,
    "start_time": "2021-07-07T10:00:25.141Z"
   },
   {
    "duration": 21,
    "start_time": "2021-07-07T10:00:27.258Z"
   },
   {
    "duration": 17,
    "start_time": "2021-07-07T10:00:30.413Z"
   },
   {
    "duration": 16,
    "start_time": "2021-07-07T10:01:40.732Z"
   },
   {
    "duration": 301,
    "start_time": "2021-07-07T10:38:01.995Z"
   },
   {
    "duration": 1824,
    "start_time": "2021-07-07T10:38:45.946Z"
   },
   {
    "duration": 8,
    "start_time": "2021-07-07T10:39:08.823Z"
   },
   {
    "duration": 312,
    "start_time": "2021-07-07T10:39:15.630Z"
   },
   {
    "duration": 15,
    "start_time": "2021-07-07T10:39:18.925Z"
   },
   {
    "duration": 13,
    "start_time": "2021-07-07T10:39:25.403Z"
   },
   {
    "duration": 18,
    "start_time": "2021-07-07T10:39:29.533Z"
   },
   {
    "duration": 16,
    "start_time": "2021-07-07T10:39:32.357Z"
   },
   {
    "duration": 16,
    "start_time": "2021-07-07T10:39:35.665Z"
   },
   {
    "duration": 17,
    "start_time": "2021-07-07T10:39:42.980Z"
   },
   {
    "duration": 31,
    "start_time": "2021-07-07T10:39:58.953Z"
   },
   {
    "duration": 9,
    "start_time": "2021-07-07T10:40:13.532Z"
   },
   {
    "duration": 21,
    "start_time": "2021-07-07T10:40:24.727Z"
   },
   {
    "duration": 10,
    "start_time": "2021-07-07T10:40:29.508Z"
   },
   {
    "duration": 20,
    "start_time": "2021-07-07T10:40:59.703Z"
   },
   {
    "duration": 22,
    "start_time": "2021-07-07T10:41:30.641Z"
   },
   {
    "duration": 10,
    "start_time": "2021-07-07T10:48:23.454Z"
   },
   {
    "duration": 3404,
    "start_time": "2021-07-07T10:49:30.588Z"
   },
   {
    "duration": 320,
    "start_time": "2021-07-07T11:08:49.166Z"
   },
   {
    "duration": 325,
    "start_time": "2021-07-07T11:09:03.114Z"
   },
   {
    "duration": 32,
    "start_time": "2021-07-07T11:09:45.336Z"
   },
   {
    "duration": 13,
    "start_time": "2021-07-07T11:09:58.724Z"
   },
   {
    "duration": 62,
    "start_time": "2021-07-07T11:17:00.948Z"
   },
   {
    "duration": 56,
    "start_time": "2021-07-07T11:17:17.903Z"
   },
   {
    "duration": 49,
    "start_time": "2021-07-07T11:19:04.038Z"
   },
   {
    "duration": 304,
    "start_time": "2021-07-07T11:25:08.749Z"
   },
   {
    "duration": 14,
    "start_time": "2021-07-07T11:26:41.331Z"
   },
   {
    "duration": 12,
    "start_time": "2021-07-07T11:26:48.737Z"
   },
   {
    "duration": 52,
    "start_time": "2021-07-07T11:26:51.528Z"
   },
   {
    "duration": 9,
    "start_time": "2021-07-07T11:36:41.924Z"
   },
   {
    "duration": 22,
    "start_time": "2021-07-07T11:45:59.583Z"
   },
   {
    "duration": 21,
    "start_time": "2021-07-07T11:46:14.368Z"
   },
   {
    "duration": 6529,
    "start_time": "2021-07-07T11:54:33.493Z"
   },
   {
    "duration": 8,
    "start_time": "2021-07-07T11:54:45.496Z"
   },
   {
    "duration": 7409,
    "start_time": "2021-07-07T11:55:01.172Z"
   },
   {
    "duration": 10,
    "start_time": "2021-07-07T11:55:10.288Z"
   },
   {
    "duration": 9,
    "start_time": "2021-07-07T11:59:42.281Z"
   },
   {
    "duration": 259,
    "start_time": "2021-07-07T12:03:55.981Z"
   },
   {
    "duration": 268,
    "start_time": "2021-07-07T12:06:37.347Z"
   },
   {
    "duration": 313,
    "start_time": "2021-07-07T12:09:53.634Z"
   },
   {
    "duration": 256,
    "start_time": "2021-07-07T12:10:05.086Z"
   },
   {
    "duration": 304,
    "start_time": "2021-07-07T12:14:30.724Z"
   },
   {
    "duration": 188,
    "start_time": "2021-07-07T12:23:15.166Z"
   },
   {
    "duration": 38,
    "start_time": "2021-07-07T12:26:24.478Z"
   },
   {
    "duration": 29,
    "start_time": "2021-07-07T12:27:02.615Z"
   },
   {
    "duration": 370,
    "start_time": "2021-07-07T12:27:17.555Z"
   },
   {
    "duration": 265,
    "start_time": "2021-07-07T12:34:18.625Z"
   },
   {
    "duration": 87,
    "start_time": "2021-07-07T12:38:18.764Z"
   },
   {
    "duration": 1255,
    "start_time": "2021-07-07T12:38:36.736Z"
   },
   {
    "duration": 26803,
    "start_time": "2021-07-07T12:38:56.379Z"
   },
   {
    "duration": 29363,
    "start_time": "2021-07-07T12:39:55.347Z"
   },
   {
    "duration": 27,
    "start_time": "2021-07-07T12:48:45.185Z"
   },
   {
    "duration": 33,
    "start_time": "2021-07-07T12:49:55.299Z"
   },
   {
    "duration": 57,
    "start_time": "2021-07-07T12:50:06.954Z"
   },
   {
    "duration": 27,
    "start_time": "2021-07-07T12:52:05.170Z"
   },
   {
    "duration": 47,
    "start_time": "2021-07-07T12:55:03.886Z"
   },
   {
    "duration": 418,
    "start_time": "2021-07-07T13:01:41.301Z"
   },
   {
    "duration": 51,
    "start_time": "2021-07-07T13:07:59.929Z"
   },
   {
    "duration": 304,
    "start_time": "2021-07-07T13:14:55.277Z"
   },
   {
    "duration": 89,
    "start_time": "2021-07-07T13:15:02.702Z"
   },
   {
    "duration": 193,
    "start_time": "2021-07-07T13:16:11.294Z"
   },
   {
    "duration": 313,
    "start_time": "2021-07-07T13:20:24.860Z"
   },
   {
    "duration": 86,
    "start_time": "2021-07-07T13:24:52.106Z"
   },
   {
    "duration": 47,
    "start_time": "2021-07-07T13:25:01.825Z"
   },
   {
    "duration": 32,
    "start_time": "2021-07-07T13:30:14.751Z"
   },
   {
    "duration": 30,
    "start_time": "2021-07-07T13:30:28.829Z"
   },
   {
    "duration": 30,
    "start_time": "2021-07-07T13:30:48.329Z"
   },
   {
    "duration": 30,
    "start_time": "2021-07-07T13:31:12.911Z"
   },
   {
    "duration": 30,
    "start_time": "2021-07-07T13:31:35.174Z"
   },
   {
    "duration": 33,
    "start_time": "2021-07-07T13:31:53.940Z"
   },
   {
    "duration": 246,
    "start_time": "2021-07-07T13:32:56.382Z"
   },
   {
    "duration": 15,
    "start_time": "2021-07-07T13:33:00.420Z"
   },
   {
    "duration": 13,
    "start_time": "2021-07-07T13:33:04.740Z"
   },
   {
    "duration": 10,
    "start_time": "2021-07-07T13:33:10.511Z"
   },
   {
    "duration": 19,
    "start_time": "2021-07-07T13:33:12.041Z"
   },
   {
    "duration": 18,
    "start_time": "2021-07-07T13:33:14.404Z"
   },
   {
    "duration": 30,
    "start_time": "2021-07-07T13:33:20.682Z"
   },
   {
    "duration": 9,
    "start_time": "2021-07-07T13:33:24.821Z"
   },
   {
    "duration": 8,
    "start_time": "2021-07-07T13:33:26.351Z"
   },
   {
    "duration": 26,
    "start_time": "2021-07-07T13:33:29.603Z"
   },
   {
    "duration": 10,
    "start_time": "2021-07-07T13:33:33.337Z"
   },
   {
    "duration": 10,
    "start_time": "2021-07-07T13:33:36.802Z"
   },
   {
    "duration": 10,
    "start_time": "2021-07-07T13:33:39.941Z"
   },
   {
    "duration": 88,
    "start_time": "2021-07-07T13:33:43.103Z"
   },
   {
    "duration": 15,
    "start_time": "2021-07-07T13:33:56.974Z"
   },
   {
    "duration": 22,
    "start_time": "2021-07-07T13:34:00.383Z"
   },
   {
    "duration": 12,
    "start_time": "2021-07-07T13:34:03.983Z"
   },
   {
    "duration": 9,
    "start_time": "2021-07-07T13:34:09.069Z"
   },
   {
    "duration": 20,
    "start_time": "2021-07-07T13:34:11.577Z"
   },
   {
    "duration": 37,
    "start_time": "2021-07-07T13:34:14.699Z"
   },
   {
    "duration": 73,
    "start_time": "2021-07-07T13:34:17.089Z"
   },
   {
    "duration": 26,
    "start_time": "2021-07-07T13:34:19.676Z"
   },
   {
    "duration": 52,
    "start_time": "2021-07-07T13:34:23.459Z"
   },
   {
    "duration": 34,
    "start_time": "2021-07-07T13:34:26.506Z"
   },
   {
    "duration": 32,
    "start_time": "2021-07-07T13:34:38.550Z"
   },
   {
    "duration": 45,
    "start_time": "2021-07-07T13:34:47.251Z"
   },
   {
    "duration": 33,
    "start_time": "2021-07-07T13:34:54.091Z"
   },
   {
    "duration": 43,
    "start_time": "2021-07-07T13:35:00.728Z"
   },
   {
    "duration": 33,
    "start_time": "2021-07-07T13:35:26.299Z"
   },
   {
    "duration": 32,
    "start_time": "2021-07-07T13:35:40.521Z"
   },
   {
    "duration": 46,
    "start_time": "2021-07-07T13:35:45.177Z"
   },
   {
    "duration": 29,
    "start_time": "2021-07-07T13:35:53.907Z"
   },
   {
    "duration": 45,
    "start_time": "2021-07-07T13:36:24.351Z"
   },
   {
    "duration": 32,
    "start_time": "2021-07-07T13:39:10.402Z"
   },
   {
    "duration": 4,
    "start_time": "2021-07-07T13:39:23.126Z"
   },
   {
    "duration": 31,
    "start_time": "2021-07-07T13:39:25.770Z"
   },
   {
    "duration": 38,
    "start_time": "2021-07-07T13:40:12.256Z"
   },
   {
    "duration": 36,
    "start_time": "2021-07-07T13:40:17.902Z"
   },
   {
    "duration": 30,
    "start_time": "2021-07-07T13:40:24.280Z"
   },
   {
    "duration": 54,
    "start_time": "2021-07-07T14:24:31.568Z"
   },
   {
    "duration": 54,
    "start_time": "2021-07-07T14:24:52.448Z"
   },
   {
    "duration": 45,
    "start_time": "2021-07-07T14:25:21.614Z"
   },
   {
    "duration": 456,
    "start_time": "2021-07-07T14:27:09.319Z"
   },
   {
    "duration": 29,
    "start_time": "2021-07-07T14:28:11.209Z"
   },
   {
    "duration": 1056,
    "start_time": "2021-07-07T14:28:27.548Z"
   },
   {
    "duration": 58,
    "start_time": "2021-07-07T14:29:27.143Z"
   },
   {
    "duration": 1026,
    "start_time": "2021-07-07T14:29:30.796Z"
   },
   {
    "duration": 33,
    "start_time": "2021-07-07T14:30:37.084Z"
   },
   {
    "duration": 53,
    "start_time": "2021-07-07T14:30:47.517Z"
   },
   {
    "duration": 44,
    "start_time": "2021-07-07T14:31:37.381Z"
   },
   {
    "duration": 999,
    "start_time": "2021-07-07T14:32:24.389Z"
   },
   {
    "duration": 943,
    "start_time": "2021-07-07T14:32:46.489Z"
   },
   {
    "duration": 986,
    "start_time": "2021-07-07T14:32:53.614Z"
   },
   {
    "duration": 318,
    "start_time": "2021-07-07T14:33:54.747Z"
   },
   {
    "duration": 110,
    "start_time": "2021-07-07T14:34:33.285Z"
   },
   {
    "duration": 271,
    "start_time": "2021-07-07T14:35:41.334Z"
   },
   {
    "duration": 925,
    "start_time": "2021-07-07T14:55:08.949Z"
   },
   {
    "duration": 957,
    "start_time": "2021-07-07T14:55:28.852Z"
   },
   {
    "duration": 450,
    "start_time": "2021-07-07T15:26:19.065Z"
   },
   {
    "duration": 8,
    "start_time": "2021-07-07T15:29:19.564Z"
   },
   {
    "duration": 6,
    "start_time": "2021-07-07T15:30:01.093Z"
   },
   {
    "duration": 34,
    "start_time": "2021-07-07T15:31:20.698Z"
   },
   {
    "duration": 44,
    "start_time": "2021-07-07T15:31:29.958Z"
   },
   {
    "duration": 48,
    "start_time": "2021-07-07T15:36:29.037Z"
   },
   {
    "duration": 88,
    "start_time": "2021-07-07T15:38:40.540Z"
   },
   {
    "duration": 30,
    "start_time": "2021-07-07T15:40:27.781Z"
   },
   {
    "duration": 41,
    "start_time": "2021-07-07T15:41:14.186Z"
   },
   {
    "duration": 21,
    "start_time": "2021-07-07T15:41:37.441Z"
   },
   {
    "duration": 38,
    "start_time": "2021-07-07T15:41:40.658Z"
   },
   {
    "duration": 70,
    "start_time": "2021-07-07T15:41:42.896Z"
   },
   {
    "duration": 25,
    "start_time": "2021-07-07T15:41:45.204Z"
   },
   {
    "duration": 28,
    "start_time": "2021-07-07T15:41:59.774Z"
   },
   {
    "duration": 119,
    "start_time": "2021-07-07T15:42:13.730Z"
   },
   {
    "duration": 221,
    "start_time": "2021-07-07T15:42:19.145Z"
   },
   {
    "duration": 15,
    "start_time": "2021-07-07T15:42:25.208Z"
   },
   {
    "duration": 13,
    "start_time": "2021-07-07T15:42:28.775Z"
   },
   {
    "duration": 11,
    "start_time": "2021-07-07T15:42:32.330Z"
   },
   {
    "duration": 17,
    "start_time": "2021-07-07T15:42:34.208Z"
   },
   {
    "duration": 17,
    "start_time": "2021-07-07T15:42:36.930Z"
   },
   {
    "duration": 39,
    "start_time": "2021-07-07T15:42:41.522Z"
   },
   {
    "duration": 9,
    "start_time": "2021-07-07T15:42:45.481Z"
   },
   {
    "duration": 8,
    "start_time": "2021-07-07T15:42:47.439Z"
   },
   {
    "duration": 26,
    "start_time": "2021-07-07T15:42:51.703Z"
   },
   {
    "duration": 9,
    "start_time": "2021-07-07T15:42:53.772Z"
   },
   {
    "duration": 11,
    "start_time": "2021-07-07T15:43:08.915Z"
   },
   {
    "duration": 11,
    "start_time": "2021-07-07T15:43:12.042Z"
   },
   {
    "duration": 17,
    "start_time": "2021-07-07T15:43:17.286Z"
   },
   {
    "duration": 23,
    "start_time": "2021-07-07T15:43:22.057Z"
   },
   {
    "duration": 12,
    "start_time": "2021-07-07T15:43:25.070Z"
   },
   {
    "duration": 228,
    "start_time": "2021-07-07T15:43:28.131Z"
   },
   {
    "duration": 10,
    "start_time": "2021-07-07T15:44:04.929Z"
   },
   {
    "duration": 7953,
    "start_time": "2021-07-07T15:44:08.609Z"
   },
   {
    "duration": 17,
    "start_time": "2021-07-07T15:44:19.138Z"
   },
   {
    "duration": 32,
    "start_time": "2021-07-07T15:44:22.920Z"
   },
   {
    "duration": 66,
    "start_time": "2021-07-07T15:44:25.293Z"
   },
   {
    "duration": 25,
    "start_time": "2021-07-07T15:44:27.992Z"
   },
   {
    "duration": 37,
    "start_time": "2021-07-07T15:44:33.932Z"
   },
   {
    "duration": 43,
    "start_time": "2021-07-07T15:44:37.060Z"
   },
   {
    "duration": 43,
    "start_time": "2021-07-07T15:44:39.940Z"
   },
   {
    "duration": 42,
    "start_time": "2021-07-07T15:44:44.069Z"
   },
   {
    "duration": 920,
    "start_time": "2021-07-07T15:44:47.118Z"
   },
   {
    "duration": 41,
    "start_time": "2021-07-07T15:44:50.414Z"
   },
   {
    "duration": 36,
    "start_time": "2021-07-07T15:45:43.536Z"
   },
   {
    "duration": 35,
    "start_time": "2021-07-07T15:46:14.116Z"
   },
   {
    "duration": 68,
    "start_time": "2021-07-07T15:46:15.824Z"
   },
   {
    "duration": 11,
    "start_time": "2021-07-07T15:46:18.783Z"
   },
   {
    "duration": 19,
    "start_time": "2021-07-07T15:46:22.395Z"
   },
   {
    "duration": 16,
    "start_time": "2021-07-07T15:46:35.074Z"
   },
   {
    "duration": 26,
    "start_time": "2021-07-07T15:46:39.539Z"
   },
   {
    "duration": 16,
    "start_time": "2021-07-07T15:46:55.379Z"
   },
   {
    "duration": 269,
    "start_time": "2021-07-07T15:49:04.407Z"
   },
   {
    "duration": 16,
    "start_time": "2021-07-07T15:49:15.927Z"
   },
   {
    "duration": 16,
    "start_time": "2021-07-07T15:49:24.500Z"
   },
   {
    "duration": 11,
    "start_time": "2021-07-07T15:49:46.685Z"
   },
   {
    "duration": 29,
    "start_time": "2021-07-07T15:50:49.356Z"
   },
   {
    "duration": 115,
    "start_time": "2021-07-07T15:51:40.581Z"
   },
   {
    "duration": 73,
    "start_time": "2021-07-07T15:53:08.277Z"
   },
   {
    "duration": 53,
    "start_time": "2021-07-07T15:53:59.904Z"
   },
   {
    "duration": 52,
    "start_time": "2021-07-07T15:54:57.234Z"
   },
   {
    "duration": 52,
    "start_time": "2021-07-07T15:55:36.024Z"
   },
   {
    "duration": 51,
    "start_time": "2021-07-07T15:56:02.765Z"
   },
   {
    "duration": 47,
    "start_time": "2021-07-07T15:56:46.078Z"
   },
   {
    "duration": 46,
    "start_time": "2021-07-07T15:57:01.323Z"
   },
   {
    "duration": 281,
    "start_time": "2021-07-07T15:57:24.846Z"
   },
   {
    "duration": 48,
    "start_time": "2021-07-07T15:57:55.356Z"
   },
   {
    "duration": 28,
    "start_time": "2021-07-07T15:58:22.964Z"
   },
   {
    "duration": 30,
    "start_time": "2021-07-07T15:58:52.619Z"
   },
   {
    "duration": 28,
    "start_time": "2021-07-07T16:02:05.752Z"
   },
   {
    "duration": 27,
    "start_time": "2021-07-07T16:02:09.642Z"
   },
   {
    "duration": 30,
    "start_time": "2021-07-07T16:02:41.525Z"
   },
   {
    "duration": 35,
    "start_time": "2021-07-07T16:06:01.170Z"
   },
   {
    "duration": 42,
    "start_time": "2021-07-07T16:06:42.752Z"
   },
   {
    "duration": 45,
    "start_time": "2021-07-07T16:07:05.194Z"
   },
   {
    "duration": 29,
    "start_time": "2021-07-07T16:07:25.554Z"
   },
   {
    "duration": 254,
    "start_time": "2021-07-07T16:10:29.158Z"
   },
   {
    "duration": 15,
    "start_time": "2021-07-07T16:10:33.027Z"
   },
   {
    "duration": 14,
    "start_time": "2021-07-07T16:10:37.606Z"
   },
   {
    "duration": 12,
    "start_time": "2021-07-07T16:10:41.556Z"
   },
   {
    "duration": 17,
    "start_time": "2021-07-07T16:10:45.054Z"
   },
   {
    "duration": 14,
    "start_time": "2021-07-07T16:10:52.198Z"
   },
   {
    "duration": 15,
    "start_time": "2021-07-07T16:11:01.749Z"
   },
   {
    "duration": 184,
    "start_time": "2021-07-07T16:11:05.620Z"
   },
   {
    "duration": 17,
    "start_time": "2021-07-07T16:11:09.883Z"
   },
   {
    "duration": 14,
    "start_time": "2021-07-07T16:11:13.865Z"
   },
   {
    "duration": 11,
    "start_time": "2021-07-07T16:11:17.769Z"
   },
   {
    "duration": 17,
    "start_time": "2021-07-07T16:11:21.920Z"
   },
   {
    "duration": 17,
    "start_time": "2021-07-07T16:11:26.016Z"
   },
   {
    "duration": 30,
    "start_time": "2021-07-07T16:11:29.021Z"
   },
   {
    "duration": 8,
    "start_time": "2021-07-07T16:11:41.642Z"
   },
   {
    "duration": 25,
    "start_time": "2021-07-07T16:11:48.876Z"
   },
   {
    "duration": 11,
    "start_time": "2021-07-07T16:11:56.830Z"
   },
   {
    "duration": 11,
    "start_time": "2021-07-07T16:12:04.682Z"
   },
   {
    "duration": 10,
    "start_time": "2021-07-07T16:12:13.176Z"
   },
   {
    "duration": 210,
    "start_time": "2021-07-07T16:12:27.318Z"
   },
   {
    "duration": 31,
    "start_time": "2021-07-07T16:12:36.171Z"
   },
   {
    "duration": 80,
    "start_time": "2021-07-07T16:12:39.232Z"
   },
   {
    "duration": 15,
    "start_time": "2021-07-07T16:12:41.631Z"
   },
   {
    "duration": 18,
    "start_time": "2021-07-07T16:12:45.531Z"
   },
   {
    "duration": 24,
    "start_time": "2021-07-07T16:13:03.070Z"
   },
   {
    "duration": 39,
    "start_time": "2021-07-07T16:13:08.583Z"
   },
   {
    "duration": 44,
    "start_time": "2021-07-07T16:13:11.991Z"
   },
   {
    "duration": 46,
    "start_time": "2021-07-07T16:13:14.782Z"
   },
   {
    "duration": 47,
    "start_time": "2021-07-07T16:13:18.168Z"
   },
   {
    "duration": 47,
    "start_time": "2021-07-07T16:13:21.846Z"
   },
   {
    "duration": 947,
    "start_time": "2021-07-07T16:13:24.558Z"
   },
   {
    "duration": 72,
    "start_time": "2021-07-07T16:13:30.049Z"
   },
   {
    "duration": 46,
    "start_time": "2021-07-07T16:13:44.505Z"
   },
   {
    "duration": 44,
    "start_time": "2021-07-07T16:13:48.375Z"
   },
   {
    "duration": 373,
    "start_time": "2021-07-07T16:13:51.670Z"
   },
   {
    "duration": 31,
    "start_time": "2021-07-07T16:14:08.456Z"
   },
   {
    "duration": 257,
    "start_time": "2021-07-07T17:22:50.559Z"
   },
   {
    "duration": 21,
    "start_time": "2021-07-07T17:25:44.392Z"
   },
   {
    "duration": 23,
    "start_time": "2021-07-07T17:25:49.767Z"
   },
   {
    "duration": 253,
    "start_time": "2021-07-07T17:25:59.277Z"
   },
   {
    "duration": 20,
    "start_time": "2021-07-07T17:26:04.671Z"
   },
   {
    "duration": 14,
    "start_time": "2021-07-07T17:26:10.450Z"
   },
   {
    "duration": 12,
    "start_time": "2021-07-07T17:26:15.539Z"
   },
   {
    "duration": 18,
    "start_time": "2021-07-07T17:26:18.942Z"
   },
   {
    "duration": 19,
    "start_time": "2021-07-07T17:26:23.376Z"
   },
   {
    "duration": 44,
    "start_time": "2021-07-07T17:26:28.498Z"
   },
   {
    "duration": 14,
    "start_time": "2021-07-07T17:26:32.557Z"
   },
   {
    "duration": 11,
    "start_time": "2021-07-07T17:26:36.143Z"
   },
   {
    "duration": 35,
    "start_time": "2021-07-07T17:26:39.018Z"
   },
   {
    "duration": 14,
    "start_time": "2021-07-07T17:26:42.406Z"
   },
   {
    "duration": 16,
    "start_time": "2021-07-07T17:26:46.321Z"
   },
   {
    "duration": 13,
    "start_time": "2021-07-07T17:26:48.410Z"
   },
   {
    "duration": 17,
    "start_time": "2021-07-07T17:26:53.777Z"
   },
   {
    "duration": 23,
    "start_time": "2021-07-07T17:26:59.743Z"
   },
   {
    "duration": 13,
    "start_time": "2021-07-07T17:27:15.105Z"
   },
   {
    "duration": 221,
    "start_time": "2021-07-07T17:27:20.490Z"
   },
   {
    "duration": 32,
    "start_time": "2021-07-07T17:27:27.036Z"
   },
   {
    "duration": 70,
    "start_time": "2021-07-07T17:27:30.764Z"
   },
   {
    "duration": 11,
    "start_time": "2021-07-07T17:27:33.916Z"
   },
   {
    "duration": 18,
    "start_time": "2021-07-07T17:27:42.383Z"
   },
   {
    "duration": 34,
    "start_time": "2021-07-07T17:27:48.293Z"
   },
   {
    "duration": 37,
    "start_time": "2021-07-07T17:27:53.717Z"
   },
   {
    "duration": 43,
    "start_time": "2021-07-07T17:27:56.566Z"
   },
   {
    "duration": 46,
    "start_time": "2021-07-07T17:27:59.497Z"
   },
   {
    "duration": 3,
    "start_time": "2021-07-07T17:28:02.957Z"
   },
   {
    "duration": 45,
    "start_time": "2021-07-07T17:28:07.554Z"
   },
   {
    "duration": 1301,
    "start_time": "2021-07-07T17:28:11.690Z"
   },
   {
    "duration": 47,
    "start_time": "2021-07-07T17:28:16.996Z"
   },
   {
    "duration": 26,
    "start_time": "2021-07-07T17:29:01.911Z"
   },
   {
    "duration": 17,
    "start_time": "2021-07-07T17:29:10.740Z"
   },
   {
    "duration": 19,
    "start_time": "2021-07-07T17:29:21.106Z"
   },
   {
    "duration": 23,
    "start_time": "2021-07-07T17:29:32.284Z"
   },
   {
    "duration": 26,
    "start_time": "2021-07-07T17:29:40.535Z"
   },
   {
    "duration": 25,
    "start_time": "2021-07-07T17:29:46.310Z"
   },
   {
    "duration": 24,
    "start_time": "2021-07-07T17:30:01.749Z"
   },
   {
    "duration": 25,
    "start_time": "2021-07-07T17:30:07.064Z"
   },
   {
    "duration": 26,
    "start_time": "2021-07-07T17:30:11.745Z"
   },
   {
    "duration": 26,
    "start_time": "2021-07-07T17:30:17.766Z"
   },
   {
    "duration": 25,
    "start_time": "2021-07-07T17:30:22.072Z"
   },
   {
    "duration": 28,
    "start_time": "2021-07-07T17:30:28.085Z"
   },
   {
    "duration": 27,
    "start_time": "2021-07-07T17:30:32.576Z"
   },
   {
    "duration": 945,
    "start_time": "2021-07-07T17:31:16.699Z"
   },
   {
    "duration": 35,
    "start_time": "2021-07-07T17:31:35.027Z"
   },
   {
    "duration": 5,
    "start_time": "2021-07-07T17:56:51.174Z"
   },
   {
    "duration": 4,
    "start_time": "2021-07-07T17:57:09.075Z"
   },
   {
    "duration": 5,
    "start_time": "2021-07-07T17:58:16.270Z"
   },
   {
    "duration": 144,
    "start_time": "2021-07-07T18:00:54.996Z"
   },
   {
    "duration": 8290,
    "start_time": "2021-07-07T18:01:58.151Z"
   },
   {
    "duration": 6341,
    "start_time": "2021-07-07T18:02:12.164Z"
   },
   {
    "duration": 30,
    "start_time": "2021-07-07T18:03:22.852Z"
   },
   {
    "duration": 469,
    "start_time": "2021-07-07T18:05:15.411Z"
   },
   {
    "duration": 3561,
    "start_time": "2021-07-07T18:05:34.741Z"
   },
   {
    "duration": 137,
    "start_time": "2021-07-07T19:22:30.265Z"
   },
   {
    "duration": 245,
    "start_time": "2021-07-07T19:23:00.642Z"
   },
   {
    "duration": 58,
    "start_time": "2021-07-07T19:24:20.355Z"
   },
   {
    "duration": 286,
    "start_time": "2021-07-07T19:25:13.648Z"
   },
   {
    "duration": 75,
    "start_time": "2021-07-07T19:25:22.089Z"
   },
   {
    "duration": 37,
    "start_time": "2021-07-07T19:33:41.089Z"
   },
   {
    "duration": 15,
    "start_time": "2021-07-07T19:36:11.528Z"
   },
   {
    "duration": 10,
    "start_time": "2021-07-07T19:37:37.122Z"
   },
   {
    "duration": 9,
    "start_time": "2021-07-07T19:37:43.765Z"
   },
   {
    "duration": 24,
    "start_time": "2021-07-07T19:37:50.497Z"
   },
   {
    "duration": 17,
    "start_time": "2021-07-07T19:46:45.958Z"
   },
   {
    "duration": 16,
    "start_time": "2021-07-07T19:47:03.091Z"
   },
   {
    "duration": 15,
    "start_time": "2021-07-07T19:47:38.681Z"
   },
   {
    "duration": 293,
    "start_time": "2021-07-07T19:48:19.774Z"
   },
   {
    "duration": 414,
    "start_time": "2021-07-07T19:50:34.404Z"
   },
   {
    "duration": 273,
    "start_time": "2021-07-07T19:50:58.071Z"
   },
   {
    "duration": 6852,
    "start_time": "2021-07-07T19:54:10.169Z"
   },
   {
    "duration": 22,
    "start_time": "2021-07-07T19:54:36.418Z"
   },
   {
    "duration": 376,
    "start_time": "2021-07-07T19:58:18.204Z"
   },
   {
    "duration": 26,
    "start_time": "2021-07-07T19:58:59.080Z"
   },
   {
    "duration": 1986,
    "start_time": "2021-07-08T16:15:05.988Z"
   },
   {
    "duration": 208,
    "start_time": "2021-07-08T16:15:16.291Z"
   },
   {
    "duration": 17,
    "start_time": "2021-07-08T16:15:19.164Z"
   },
   {
    "duration": 16,
    "start_time": "2021-07-08T16:15:22.673Z"
   },
   {
    "duration": 12,
    "start_time": "2021-07-08T16:15:27.015Z"
   },
   {
    "duration": 20,
    "start_time": "2021-07-08T16:15:30.560Z"
   },
   {
    "duration": 16,
    "start_time": "2021-07-08T16:15:33.203Z"
   },
   {
    "duration": 29,
    "start_time": "2021-07-08T16:15:35.634Z"
   },
   {
    "duration": 9,
    "start_time": "2021-07-08T16:15:39.098Z"
   },
   {
    "duration": 9,
    "start_time": "2021-07-08T16:15:41.203Z"
   },
   {
    "duration": 26,
    "start_time": "2021-07-08T16:15:44.824Z"
   },
   {
    "duration": 9,
    "start_time": "2021-07-08T16:15:47.290Z"
   },
   {
    "duration": 117,
    "start_time": "2021-07-08T16:15:51.326Z"
   },
   {
    "duration": 10,
    "start_time": "2021-07-08T16:16:10.946Z"
   },
   {
    "duration": 10,
    "start_time": "2021-07-08T16:16:13.996Z"
   },
   {
    "duration": 17,
    "start_time": "2021-07-08T16:16:17.631Z"
   },
   {
    "duration": 20,
    "start_time": "2021-07-08T16:16:20.420Z"
   },
   {
    "duration": 12,
    "start_time": "2021-07-08T16:16:23.052Z"
   },
   {
    "duration": 220,
    "start_time": "2021-07-08T16:16:25.864Z"
   },
   {
    "duration": 34,
    "start_time": "2021-07-08T16:16:29.271Z"
   },
   {
    "duration": 68,
    "start_time": "2021-07-08T16:16:31.265Z"
   },
   {
    "duration": 10,
    "start_time": "2021-07-08T16:16:34.641Z"
   },
   {
    "duration": 19,
    "start_time": "2021-07-08T16:16:44.102Z"
   },
   {
    "duration": 26,
    "start_time": "2021-07-08T16:16:47.443Z"
   },
   {
    "duration": 314,
    "start_time": "2021-07-08T16:16:52.213Z"
   },
   {
    "duration": 45,
    "start_time": "2021-07-08T16:16:55.262Z"
   },
   {
    "duration": 45,
    "start_time": "2021-07-08T16:16:57.849Z"
   },
   {
    "duration": 44,
    "start_time": "2021-07-08T16:17:00.741Z"
   },
   {
    "duration": 51,
    "start_time": "2021-07-08T16:17:03.508Z"
   },
   {
    "duration": 1274,
    "start_time": "2021-07-08T16:17:06.084Z"
   },
   {
    "duration": 944,
    "start_time": "2021-07-08T16:17:09.235Z"
   },
   {
    "duration": 33,
    "start_time": "2021-07-08T16:17:14.940Z"
   },
   {
    "duration": 27,
    "start_time": "2021-07-08T16:17:19.923Z"
   },
   {
    "duration": 20,
    "start_time": "2021-07-08T16:17:22.599Z"
   },
   {
    "duration": 31,
    "start_time": "2021-07-08T16:17:26.290Z"
   },
   {
    "duration": 422,
    "start_time": "2021-07-08T16:17:29.187Z"
   },
   {
    "duration": 323,
    "start_time": "2021-07-08T16:19:11.468Z"
   },
   {
    "duration": 571,
    "start_time": "2021-07-08T16:19:49.761Z"
   },
   {
    "duration": 547,
    "start_time": "2021-07-08T16:25:56.314Z"
   },
   {
    "duration": 29,
    "start_time": "2021-07-08T16:26:32.102Z"
   },
   {
    "duration": 404,
    "start_time": "2021-07-08T16:26:44.689Z"
   },
   {
    "duration": 35,
    "start_time": "2021-07-08T16:27:30.941Z"
   },
   {
    "duration": 359,
    "start_time": "2021-07-08T16:27:46.002Z"
   },
   {
    "duration": 28,
    "start_time": "2021-07-08T16:28:14.239Z"
   },
   {
    "duration": 333,
    "start_time": "2021-07-08T16:28:39.317Z"
   },
   {
    "duration": 357,
    "start_time": "2021-07-08T16:29:15.856Z"
   },
   {
    "duration": 369,
    "start_time": "2021-07-08T16:30:22.470Z"
   },
   {
    "duration": 40,
    "start_time": "2021-07-08T16:30:52.946Z"
   },
   {
    "duration": 35,
    "start_time": "2021-07-08T16:32:22.902Z"
   },
   {
    "duration": 382,
    "start_time": "2021-07-08T16:33:07.643Z"
   },
   {
    "duration": 20,
    "start_time": "2021-07-08T16:36:48.821Z"
   },
   {
    "duration": 19,
    "start_time": "2021-07-08T16:38:06.639Z"
   },
   {
    "duration": 15,
    "start_time": "2021-07-08T16:38:37.756Z"
   },
   {
    "duration": 14,
    "start_time": "2021-07-08T16:38:44.799Z"
   },
   {
    "duration": 15,
    "start_time": "2021-07-08T16:38:55.339Z"
   },
   {
    "duration": 14,
    "start_time": "2021-07-08T16:39:28.347Z"
   },
   {
    "duration": 14,
    "start_time": "2021-07-08T16:39:34.040Z"
   },
   {
    "duration": 14,
    "start_time": "2021-07-08T16:39:42.631Z"
   },
   {
    "duration": 58,
    "start_time": "2021-07-08T16:40:56.234Z"
   },
   {
    "duration": 70,
    "start_time": "2021-07-08T16:41:26.653Z"
   },
   {
    "duration": 71,
    "start_time": "2021-07-08T16:41:33.528Z"
   },
   {
    "duration": 856,
    "start_time": "2021-07-08T16:42:17.482Z"
   },
   {
    "duration": 942,
    "start_time": "2021-07-08T16:42:47.970Z"
   },
   {
    "duration": 980,
    "start_time": "2021-07-08T16:43:12.146Z"
   },
   {
    "duration": 840,
    "start_time": "2021-07-08T16:43:31.136Z"
   },
   {
    "duration": 812,
    "start_time": "2021-07-08T16:43:47.100Z"
   },
   {
    "duration": 28,
    "start_time": "2021-07-08T16:44:36.500Z"
   },
   {
    "duration": 419,
    "start_time": "2021-07-08T16:44:41.280Z"
   },
   {
    "duration": 28,
    "start_time": "2021-07-08T16:47:07.622Z"
   },
   {
    "duration": 29,
    "start_time": "2021-07-08T16:47:10.964Z"
   },
   {
    "duration": 367,
    "start_time": "2021-07-08T16:47:24.633Z"
   },
   {
    "duration": 356,
    "start_time": "2021-07-08T16:48:16.552Z"
   },
   {
    "duration": 405,
    "start_time": "2021-07-08T16:48:43.563Z"
   },
   {
    "duration": 1176,
    "start_time": "2021-07-08T16:49:11.260Z"
   },
   {
    "duration": 1027,
    "start_time": "2021-07-08T16:49:56.217Z"
   },
   {
    "duration": 411,
    "start_time": "2021-07-08T16:50:10.368Z"
   },
   {
    "duration": 29,
    "start_time": "2021-07-08T16:50:20.965Z"
   },
   {
    "duration": 352,
    "start_time": "2021-07-08T17:05:52.290Z"
   },
   {
    "duration": 7049,
    "start_time": "2021-07-08T17:06:43.838Z"
   },
   {
    "duration": 364,
    "start_time": "2021-07-08T17:07:08.082Z"
   },
   {
    "duration": 192,
    "start_time": "2021-07-08T17:07:16.104Z"
   },
   {
    "duration": 1906,
    "start_time": "2021-07-08T17:07:20.087Z"
   },
   {
    "duration": 33,
    "start_time": "2021-07-08T17:07:49.365Z"
   },
   {
    "duration": 760,
    "start_time": "2021-07-10T10:18:37.373Z"
   },
   {
    "duration": 11,
    "start_time": "2021-07-10T10:18:42.460Z"
   },
   {
    "duration": 11,
    "start_time": "2021-07-10T10:18:48.245Z"
   },
   {
    "duration": 11,
    "start_time": "2021-07-10T10:23:20.797Z"
   },
   {
    "duration": 8,
    "start_time": "2021-07-10T10:31:08.962Z"
   },
   {
    "duration": 20,
    "start_time": "2021-07-10T10:31:31.971Z"
   },
   {
    "duration": 20,
    "start_time": "2021-07-10T10:33:33.444Z"
   },
   {
    "duration": 17,
    "start_time": "2021-07-10T10:36:40.697Z"
   },
   {
    "duration": 456,
    "start_time": "2021-07-12T13:30:50.437Z"
   },
   {
    "duration": 336,
    "start_time": "2021-07-12T13:31:25.981Z"
   },
   {
    "duration": 1240,
    "start_time": "2021-07-12T13:31:38.187Z"
   },
   {
    "duration": 23,
    "start_time": "2021-07-12T13:31:42.944Z"
   },
   {
    "duration": 18,
    "start_time": "2021-07-12T13:31:49.579Z"
   },
   {
    "duration": 16,
    "start_time": "2021-07-12T13:31:53.506Z"
   },
   {
    "duration": 19,
    "start_time": "2021-07-12T13:31:56.107Z"
   },
   {
    "duration": 16,
    "start_time": "2021-07-12T13:31:58.818Z"
   },
   {
    "duration": 28,
    "start_time": "2021-07-12T13:32:05.209Z"
   },
   {
    "duration": 8,
    "start_time": "2021-07-12T13:32:09.295Z"
   },
   {
    "duration": 9,
    "start_time": "2021-07-12T13:32:11.449Z"
   },
   {
    "duration": 26,
    "start_time": "2021-07-12T13:32:14.476Z"
   },
   {
    "duration": 34,
    "start_time": "2021-07-12T13:32:18.689Z"
   },
   {
    "duration": 26,
    "start_time": "2021-07-12T13:32:22.092Z"
   },
   {
    "duration": 8,
    "start_time": "2021-07-12T13:32:25.576Z"
   },
   {
    "duration": 9,
    "start_time": "2021-07-12T13:32:29.464Z"
   },
   {
    "duration": 10,
    "start_time": "2021-07-12T13:32:32.401Z"
   },
   {
    "duration": 16,
    "start_time": "2021-07-12T13:32:38.510Z"
   },
   {
    "duration": 1303,
    "start_time": "2021-07-12T13:32:41.378Z"
   },
   {
    "duration": 1383,
    "start_time": "2021-07-12T13:33:07.183Z"
   },
   {
    "duration": 360,
    "start_time": "2021-07-12T13:35:56.855Z"
   },
   {
    "duration": 17,
    "start_time": "2021-07-12T13:36:44.100Z"
   },
   {
    "duration": 298,
    "start_time": "2021-07-12T13:41:38.514Z"
   },
   {
    "duration": 1219,
    "start_time": "2021-07-12T13:42:44.001Z"
   },
   {
    "duration": 12,
    "start_time": "2021-07-12T13:55:04.946Z"
   },
   {
    "duration": 5,
    "start_time": "2021-07-12T13:55:41.559Z"
   },
   {
    "duration": 309,
    "start_time": "2021-07-12T14:01:45.201Z"
   },
   {
    "duration": 356,
    "start_time": "2021-07-12T14:01:53.211Z"
   },
   {
    "duration": 353,
    "start_time": "2021-07-12T14:02:13.606Z"
   },
   {
    "duration": 350,
    "start_time": "2021-07-12T14:04:20.827Z"
   },
   {
    "duration": 367,
    "start_time": "2021-07-12T14:10:09.632Z"
   },
   {
    "duration": 384,
    "start_time": "2021-07-12T14:10:19.393Z"
   },
   {
    "duration": 31,
    "start_time": "2021-07-12T14:10:39.979Z"
   },
   {
    "duration": 26,
    "start_time": "2021-07-12T14:10:42.980Z"
   },
   {
    "duration": 10,
    "start_time": "2021-07-12T14:16:23.281Z"
   },
   {
    "duration": 10,
    "start_time": "2021-07-12T14:16:50.143Z"
   },
   {
    "duration": 10,
    "start_time": "2021-07-12T14:17:03.765Z"
   },
   {
    "duration": 55,
    "start_time": "2021-07-12T14:22:32.550Z"
   },
   {
    "duration": 17,
    "start_time": "2021-07-12T14:32:24.524Z"
   },
   {
    "duration": 83,
    "start_time": "2021-07-12T14:33:08.375Z"
   },
   {
    "duration": 64,
    "start_time": "2021-07-12T14:33:34.171Z"
   },
   {
    "duration": 48,
    "start_time": "2021-07-12T14:33:46.106Z"
   },
   {
    "duration": 97,
    "start_time": "2021-07-12T14:33:51.285Z"
   },
   {
    "duration": 15,
    "start_time": "2021-07-12T14:33:53.725Z"
   },
   {
    "duration": 19,
    "start_time": "2021-07-12T14:33:57.305Z"
   },
   {
    "duration": 42,
    "start_time": "2021-07-12T14:34:00.475Z"
   },
   {
    "duration": 15,
    "start_time": "2021-07-12T14:35:10.133Z"
   },
   {
    "duration": 48,
    "start_time": "2021-07-12T14:35:13.259Z"
   },
   {
    "duration": 47,
    "start_time": "2021-07-12T14:35:38.092Z"
   },
   {
    "duration": 333,
    "start_time": "2021-07-12T14:35:48.426Z"
   },
   {
    "duration": 218,
    "start_time": "2021-07-12T14:38:11.032Z"
   },
   {
    "duration": 115,
    "start_time": "2021-07-12T14:38:30.866Z"
   },
   {
    "duration": 46,
    "start_time": "2021-07-12T14:38:49.944Z"
   },
   {
    "duration": 17,
    "start_time": "2021-07-12T14:39:11.486Z"
   },
   {
    "duration": 44,
    "start_time": "2021-07-12T14:40:14.157Z"
   },
   {
    "duration": 111,
    "start_time": "2021-07-12T17:55:02.337Z"
   },
   {
    "duration": 24,
    "start_time": "2021-07-12T17:55:13.358Z"
   },
   {
    "duration": 346,
    "start_time": "2021-07-13T09:28:54.441Z"
   },
   {
    "duration": 1073,
    "start_time": "2021-07-13T09:29:05.117Z"
   },
   {
    "duration": 15,
    "start_time": "2021-07-13T09:29:11.301Z"
   },
   {
    "duration": 13,
    "start_time": "2021-07-13T09:29:16.190Z"
   },
   {
    "duration": 13,
    "start_time": "2021-07-13T09:29:19.762Z"
   },
   {
    "duration": 14,
    "start_time": "2021-07-13T09:29:24.388Z"
   },
   {
    "duration": 16,
    "start_time": "2021-07-13T09:29:29.476Z"
   },
   {
    "duration": 14,
    "start_time": "2021-07-13T09:29:41.447Z"
   },
   {
    "duration": 12,
    "start_time": "2021-07-13T09:29:46.251Z"
   },
   {
    "duration": 9,
    "start_time": "2021-07-13T09:30:06.413Z"
   },
   {
    "duration": 303,
    "start_time": "2021-07-13T09:41:34.024Z"
   },
   {
    "duration": 306,
    "start_time": "2021-07-13T09:42:26.554Z"
   },
   {
    "duration": 16,
    "start_time": "2021-07-13T09:42:30.491Z"
   },
   {
    "duration": 13,
    "start_time": "2021-07-13T09:42:34.890Z"
   },
   {
    "duration": 12,
    "start_time": "2021-07-13T09:42:39.379Z"
   },
   {
    "duration": 15,
    "start_time": "2021-07-13T09:42:41.630Z"
   },
   {
    "duration": 16,
    "start_time": "2021-07-13T09:42:44.915Z"
   },
   {
    "duration": 29,
    "start_time": "2021-07-13T09:42:48.257Z"
   },
   {
    "duration": 9,
    "start_time": "2021-07-13T09:42:53.062Z"
   },
   {
    "duration": 7,
    "start_time": "2021-07-13T09:42:57.176Z"
   },
   {
    "duration": 10,
    "start_time": "2021-07-13T09:43:03.735Z"
   },
   {
    "duration": 7,
    "start_time": "2021-07-13T09:44:35.859Z"
   },
   {
    "duration": 295,
    "start_time": "2021-07-13T09:44:42.245Z"
   },
   {
    "duration": 288,
    "start_time": "2021-07-13T09:53:00.650Z"
   },
   {
    "duration": 14,
    "start_time": "2021-07-13T09:57:00.759Z"
   },
   {
    "duration": 9,
    "start_time": "2021-07-13T09:57:30.909Z"
   },
   {
    "duration": 283,
    "start_time": "2021-07-13T09:57:36.973Z"
   },
   {
    "duration": 6,
    "start_time": "2021-07-13T09:58:08.926Z"
   },
   {
    "duration": 27,
    "start_time": "2021-07-13T09:59:16.890Z"
   },
   {
    "duration": 311,
    "start_time": "2021-07-13T09:59:55.470Z"
   },
   {
    "duration": 22,
    "start_time": "2021-07-13T10:02:38.718Z"
   },
   {
    "duration": 24,
    "start_time": "2021-07-13T10:05:05.185Z"
   },
   {
    "duration": 19,
    "start_time": "2021-07-13T10:05:15.799Z"
   },
   {
    "duration": 10,
    "start_time": "2021-07-13T10:05:36.047Z"
   },
   {
    "duration": 23,
    "start_time": "2021-07-13T10:05:54.476Z"
   },
   {
    "duration": 315,
    "start_time": "2021-07-13T10:06:04.891Z"
   },
   {
    "duration": 14,
    "start_time": "2021-07-13T10:06:09.727Z"
   },
   {
    "duration": 12,
    "start_time": "2021-07-13T10:06:16.079Z"
   },
   {
    "duration": 10,
    "start_time": "2021-07-13T10:06:20.563Z"
   },
   {
    "duration": 6,
    "start_time": "2021-07-13T10:07:29.025Z"
   },
   {
    "duration": 5,
    "start_time": "2021-07-13T10:07:53.529Z"
   },
   {
    "duration": 10,
    "start_time": "2021-07-13T10:48:11.153Z"
   },
   {
    "duration": 10,
    "start_time": "2021-07-13T10:49:05.981Z"
   },
   {
    "duration": 8,
    "start_time": "2021-07-13T11:01:15.608Z"
   },
   {
    "duration": 10,
    "start_time": "2021-07-13T11:01:23.958Z"
   },
   {
    "duration": 11,
    "start_time": "2021-07-13T11:01:40.531Z"
   },
   {
    "duration": 10,
    "start_time": "2021-07-13T11:01:56.771Z"
   },
   {
    "duration": 303,
    "start_time": "2021-07-13T11:04:24.771Z"
   },
   {
    "duration": 372,
    "start_time": "2021-07-13T11:07:03.905Z"
   },
   {
    "duration": 312,
    "start_time": "2021-07-13T11:07:10.082Z"
   },
   {
    "duration": 12,
    "start_time": "2021-07-13T11:18:15.075Z"
   },
   {
    "duration": 20,
    "start_time": "2021-07-13T11:18:30.051Z"
   },
   {
    "duration": 16,
    "start_time": "2021-07-13T11:18:39.161Z"
   },
   {
    "duration": 16,
    "start_time": "2021-07-13T11:19:30.028Z"
   },
   {
    "duration": 12,
    "start_time": "2021-07-13T11:20:19.642Z"
   },
   {
    "duration": 12,
    "start_time": "2021-07-13T11:20:41.584Z"
   },
   {
    "duration": 35,
    "start_time": "2021-07-13T11:22:58.397Z"
   },
   {
    "duration": 17,
    "start_time": "2021-07-13T11:25:59.947Z"
   },
   {
    "duration": 17,
    "start_time": "2021-07-13T11:33:51.074Z"
   },
   {
    "duration": 4,
    "start_time": "2021-07-13T11:56:33.978Z"
   },
   {
    "duration": 4,
    "start_time": "2021-07-13T11:57:01.344Z"
   },
   {
    "duration": 269,
    "start_time": "2021-07-13T12:07:50.449Z"
   },
   {
    "duration": 26,
    "start_time": "2021-07-13T12:08:04.365Z"
   },
   {
    "duration": 92,
    "start_time": "2021-07-13T13:12:30.714Z"
   },
   {
    "duration": 87,
    "start_time": "2021-07-13T13:12:33.755Z"
   },
   {
    "duration": 114,
    "start_time": "2021-07-13T13:12:54.156Z"
   },
   {
    "duration": 19,
    "start_time": "2021-07-13T13:13:38.653Z"
   },
   {
    "duration": 19,
    "start_time": "2021-07-13T13:14:30.501Z"
   },
   {
    "duration": 20,
    "start_time": "2021-07-13T13:15:26.530Z"
   },
   {
    "duration": 20,
    "start_time": "2021-07-13T13:19:20.179Z"
   },
   {
    "duration": 8,
    "start_time": "2021-07-13T13:19:28.607Z"
   },
   {
    "duration": 19,
    "start_time": "2021-07-13T13:19:31.567Z"
   },
   {
    "duration": 10,
    "start_time": "2021-07-13T13:19:53.701Z"
   },
   {
    "duration": 8,
    "start_time": "2021-07-13T13:19:57.655Z"
   },
   {
    "duration": 10,
    "start_time": "2021-07-13T13:20:03.125Z"
   },
   {
    "duration": 9,
    "start_time": "2021-07-13T13:21:00.850Z"
   },
   {
    "duration": 343,
    "start_time": "2021-07-13T13:21:53.452Z"
   },
   {
    "duration": 14,
    "start_time": "2021-07-13T13:21:58.336Z"
   },
   {
    "duration": 13,
    "start_time": "2021-07-13T13:22:02.394Z"
   },
   {
    "duration": 10,
    "start_time": "2021-07-13T13:22:05.692Z"
   },
   {
    "duration": 10,
    "start_time": "2021-07-13T13:22:08.617Z"
   },
   {
    "duration": 12,
    "start_time": "2021-07-13T13:22:14.228Z"
   },
   {
    "duration": 14,
    "start_time": "2021-07-13T13:22:16.357Z"
   },
   {
    "duration": 14,
    "start_time": "2021-07-13T13:22:20.931Z"
   },
   {
    "duration": 3,
    "start_time": "2021-07-13T13:22:29.163Z"
   },
   {
    "duration": 10,
    "start_time": "2021-07-13T13:22:31.754Z"
   },
   {
    "duration": 92,
    "start_time": "2021-07-13T13:22:34.439Z"
   },
   {
    "duration": 7,
    "start_time": "2021-07-13T13:22:51.625Z"
   },
   {
    "duration": 19,
    "start_time": "2021-07-13T13:23:00.220Z"
   },
   {
    "duration": 6,
    "start_time": "2021-07-13T13:23:04.261Z"
   },
   {
    "duration": 18,
    "start_time": "2021-07-13T13:23:07.283Z"
   },
   {
    "duration": 5,
    "start_time": "2021-07-13T13:23:09.236Z"
   },
   {
    "duration": 10,
    "start_time": "2021-07-13T13:23:12.672Z"
   },
   {
    "duration": 11,
    "start_time": "2021-07-13T13:23:15.053Z"
   },
   {
    "duration": 14,
    "start_time": "2021-07-13T13:23:38.792Z"
   },
   {
    "duration": 15,
    "start_time": "2021-07-13T13:24:50.071Z"
   },
   {
    "duration": 16,
    "start_time": "2021-07-13T13:25:32.455Z"
   },
   {
    "duration": 9,
    "start_time": "2021-07-13T13:25:57.024Z"
   },
   {
    "duration": 102,
    "start_time": "2021-07-13T13:29:04.278Z"
   },
   {
    "duration": 88,
    "start_time": "2021-07-13T13:29:46.133Z"
   },
   {
    "duration": 9,
    "start_time": "2021-07-13T13:40:15.514Z"
   },
   {
    "duration": 8,
    "start_time": "2021-07-13T13:40:51.203Z"
   },
   {
    "duration": 8,
    "start_time": "2021-07-13T13:40:58.777Z"
   },
   {
    "duration": 8,
    "start_time": "2021-07-13T13:43:07.648Z"
   },
   {
    "duration": 14,
    "start_time": "2021-07-13T13:43:24.647Z"
   },
   {
    "duration": 15,
    "start_time": "2021-07-13T13:43:36.016Z"
   },
   {
    "duration": 8,
    "start_time": "2021-07-13T13:44:01.109Z"
   },
   {
    "duration": 14,
    "start_time": "2021-07-13T13:44:03.229Z"
   },
   {
    "duration": 16,
    "start_time": "2021-07-13T13:44:21.667Z"
   },
   {
    "duration": 23,
    "start_time": "2021-07-13T13:45:05.411Z"
   },
   {
    "duration": 22,
    "start_time": "2021-07-13T13:45:22.706Z"
   },
   {
    "duration": 13,
    "start_time": "2021-07-13T13:45:42.385Z"
   },
   {
    "duration": 16,
    "start_time": "2021-07-13T13:45:56.334Z"
   },
   {
    "duration": 16,
    "start_time": "2021-07-13T13:46:14.428Z"
   },
   {
    "duration": 329,
    "start_time": "2021-07-13T13:49:03.207Z"
   },
   {
    "duration": 16,
    "start_time": "2021-07-13T13:49:18.967Z"
   },
   {
    "duration": 23,
    "start_time": "2021-07-13T13:49:30.870Z"
   },
   {
    "duration": 23,
    "start_time": "2021-07-13T13:49:47.218Z"
   },
   {
    "duration": 37,
    "start_time": "2021-07-13T13:50:27.923Z"
   },
   {
    "duration": 395,
    "start_time": "2021-07-13T17:00:59.625Z"
   },
   {
    "duration": 5,
    "start_time": "2021-07-13T17:04:04.745Z"
   },
   {
    "duration": 34,
    "start_time": "2021-07-13T17:04:17.609Z"
   },
   {
    "duration": 23,
    "start_time": "2021-07-13T17:05:03.311Z"
   },
   {
    "duration": 26,
    "start_time": "2021-07-13T17:05:30.064Z"
   },
   {
    "duration": 10,
    "start_time": "2021-07-13T17:06:22.410Z"
   },
   {
    "duration": 16,
    "start_time": "2021-07-13T17:07:22.339Z"
   },
   {
    "duration": 16,
    "start_time": "2021-07-13T17:08:13.223Z"
   },
   {
    "duration": 24,
    "start_time": "2021-07-13T17:08:38.075Z"
   },
   {
    "duration": 33,
    "start_time": "2021-07-13T17:08:58.337Z"
   },
   {
    "duration": 37,
    "start_time": "2021-07-13T17:11:20.379Z"
   },
   {
    "duration": 34,
    "start_time": "2021-07-13T17:12:21.689Z"
   },
   {
    "duration": 11,
    "start_time": "2021-07-13T17:53:36.456Z"
   },
   {
    "duration": 11,
    "start_time": "2021-07-13T17:53:39.654Z"
   },
   {
    "duration": 24,
    "start_time": "2021-07-13T17:54:06.272Z"
   },
   {
    "duration": 25,
    "start_time": "2021-07-13T18:29:53.258Z"
   },
   {
    "duration": 33,
    "start_time": "2021-07-13T18:30:33.652Z"
   },
   {
    "duration": 8,
    "start_time": "2021-07-13T18:48:03.060Z"
   },
   {
    "duration": 10,
    "start_time": "2021-07-13T18:56:19.608Z"
   },
   {
    "duration": 272,
    "start_time": "2021-07-13T19:14:27.274Z"
   },
   {
    "duration": 441,
    "start_time": "2021-07-13T19:14:43.894Z"
   },
   {
    "duration": 448,
    "start_time": "2021-07-13T19:16:44.214Z"
   },
   {
    "duration": 480,
    "start_time": "2021-07-13T19:32:25.036Z"
   },
   {
    "duration": 13,
    "start_time": "2021-07-13T19:38:35.452Z"
   },
   {
    "duration": 13,
    "start_time": "2021-07-13T19:38:53.968Z"
   },
   {
    "duration": 581,
    "start_time": "2021-07-13T19:39:30.346Z"
   },
   {
    "duration": 426,
    "start_time": "2021-07-13T19:43:04.891Z"
   },
   {
    "duration": 269,
    "start_time": "2021-07-13T19:48:09.217Z"
   },
   {
    "duration": 260,
    "start_time": "2021-07-13T19:48:26.710Z"
   },
   {
    "duration": 14,
    "start_time": "2021-07-13T19:55:34.601Z"
   },
   {
    "duration": 534,
    "start_time": "2021-07-13T19:56:33.226Z"
   },
   {
    "duration": 14,
    "start_time": "2021-07-13T19:56:57.000Z"
   },
   {
    "duration": 14,
    "start_time": "2021-07-13T19:57:05.576Z"
   },
   {
    "duration": 572,
    "start_time": "2021-07-13T19:57:40.200Z"
   },
   {
    "duration": 619,
    "start_time": "2021-07-13T20:02:10.948Z"
   },
   {
    "duration": 59,
    "start_time": "2021-07-13T20:03:02.322Z"
   },
   {
    "duration": 638,
    "start_time": "2021-07-14T13:42:38.155Z"
   },
   {
    "duration": 978,
    "start_time": "2021-07-14T13:42:56.932Z"
   },
   {
    "duration": 13,
    "start_time": "2021-07-14T13:43:16.609Z"
   },
   {
    "duration": 59,
    "start_time": "2021-07-14T13:43:21.006Z"
   },
   {
    "duration": 22,
    "start_time": "2021-07-14T13:46:35.390Z"
   },
   {
    "duration": 351,
    "start_time": "2021-07-14T13:46:38.995Z"
   },
   {
    "duration": 736,
    "start_time": "2021-07-14T14:34:00.081Z"
   },
   {
    "duration": 60,
    "start_time": "2021-07-14T14:34:10.152Z"
   },
   {
    "duration": 4,
    "start_time": "2021-07-14T14:35:13.033Z"
   },
   {
    "duration": 4,
    "start_time": "2021-07-14T14:35:49.944Z"
   },
   {
    "duration": 7,
    "start_time": "2021-07-14T14:37:49.342Z"
   },
   {
    "duration": 7,
    "start_time": "2021-07-14T14:38:00.883Z"
   },
   {
    "duration": 492,
    "start_time": "2021-07-14T14:43:29.982Z"
   },
   {
    "duration": 8562,
    "start_time": "2021-07-14T14:46:33.688Z"
   },
   {
    "duration": 15,
    "start_time": "2021-07-14T14:47:21.201Z"
   },
   {
    "duration": 9,
    "start_time": "2021-07-14T14:49:33.071Z"
   },
   {
    "duration": 54,
    "start_time": "2021-07-14T14:50:04.702Z"
   },
   {
    "duration": 124,
    "start_time": "2021-07-14T14:52:02.291Z"
   },
   {
    "duration": 8,
    "start_time": "2021-07-14T14:52:16.976Z"
   },
   {
    "duration": 13,
    "start_time": "2021-07-14T14:55:14.600Z"
   },
   {
    "duration": 21,
    "start_time": "2021-07-14T14:55:31.625Z"
   },
   {
    "duration": 49,
    "start_time": "2021-07-14T14:55:33.755Z"
   },
   {
    "duration": 3324,
    "start_time": "2021-07-14T17:19:45.987Z"
   },
   {
    "duration": 25,
    "start_time": "2021-07-14T17:20:44.880Z"
   },
   {
    "duration": 19,
    "start_time": "2021-07-14T17:21:23.280Z"
   },
   {
    "duration": 26,
    "start_time": "2021-07-14T17:22:15.852Z"
   },
   {
    "duration": 334,
    "start_time": "2021-07-14T17:25:39.299Z"
   },
   {
    "duration": 383,
    "start_time": "2021-07-14T17:26:02.233Z"
   },
   {
    "duration": 359,
    "start_time": "2021-07-14T17:26:11.192Z"
   },
   {
    "duration": 17,
    "start_time": "2021-07-14T17:26:28.640Z"
   },
   {
    "duration": 12,
    "start_time": "2021-07-14T17:26:41.601Z"
   },
   {
    "duration": 11,
    "start_time": "2021-07-14T17:27:00.667Z"
   },
   {
    "duration": 25,
    "start_time": "2021-07-14T17:27:58.044Z"
   },
   {
    "duration": 47,
    "start_time": "2021-07-14T17:27:59.934Z"
   },
   {
    "duration": 11,
    "start_time": "2021-07-14T17:28:01.678Z"
   },
   {
    "duration": 19,
    "start_time": "2021-07-14T17:28:04.704Z"
   },
   {
    "duration": 42,
    "start_time": "2021-07-14T17:28:08.564Z"
   },
   {
    "duration": 10,
    "start_time": "2021-07-14T17:28:32.548Z"
   },
   {
    "duration": 16,
    "start_time": "2021-07-14T17:29:14.601Z"
   },
   {
    "duration": 10,
    "start_time": "2021-07-14T17:29:20.176Z"
   },
   {
    "duration": 31,
    "start_time": "2021-07-14T17:29:37.968Z"
   },
   {
    "duration": 26,
    "start_time": "2021-07-14T17:29:45.302Z"
   },
   {
    "duration": 10,
    "start_time": "2021-07-14T17:30:53.434Z"
   },
   {
    "duration": 11,
    "start_time": "2021-07-14T17:31:09.610Z"
   },
   {
    "duration": 11,
    "start_time": "2021-07-14T17:34:52.538Z"
   },
   {
    "duration": 17,
    "start_time": "2021-07-14T17:36:08.391Z"
   },
   {
    "duration": 26,
    "start_time": "2021-07-14T17:37:39.886Z"
   },
   {
    "duration": 5,
    "start_time": "2021-07-14T17:45:36.848Z"
   },
   {
    "duration": 87,
    "start_time": "2021-07-14T17:45:37.148Z"
   },
   {
    "duration": 82,
    "start_time": "2021-07-14T17:45:37.160Z"
   },
   {
    "duration": 81,
    "start_time": "2021-07-14T17:45:37.163Z"
   },
   {
    "duration": 205,
    "start_time": "2021-07-14T17:55:59.781Z"
   },
   {
    "duration": 15,
    "start_time": "2021-07-14T17:56:03.925Z"
   },
   {
    "duration": 16,
    "start_time": "2021-07-14T17:56:08.943Z"
   },
   {
    "duration": 12,
    "start_time": "2021-07-14T17:56:11.801Z"
   },
   {
    "duration": 10,
    "start_time": "2021-07-14T17:56:13.725Z"
   },
   {
    "duration": 42,
    "start_time": "2021-07-14T17:56:19.395Z"
   },
   {
    "duration": 16,
    "start_time": "2021-07-14T17:56:22.376Z"
   },
   {
    "duration": 15,
    "start_time": "2021-07-14T17:56:25.661Z"
   },
   {
    "duration": 7,
    "start_time": "2021-07-14T17:56:29.419Z"
   },
   {
    "duration": 18,
    "start_time": "2021-07-14T17:56:32.298Z"
   },
   {
    "duration": 7,
    "start_time": "2021-07-14T17:56:35.887Z"
   },
   {
    "duration": 29,
    "start_time": "2021-07-14T17:56:38.678Z"
   },
   {
    "duration": 21,
    "start_time": "2021-07-14T17:56:41.265Z"
   },
   {
    "duration": 5,
    "start_time": "2021-07-14T17:56:43.143Z"
   },
   {
    "duration": 8,
    "start_time": "2021-07-14T17:56:45.608Z"
   },
   {
    "duration": 11,
    "start_time": "2021-07-14T17:56:48.543Z"
   },
   {
    "duration": 11,
    "start_time": "2021-07-14T17:56:51.480Z"
   },
   {
    "duration": 11,
    "start_time": "2021-07-14T17:56:54.306Z"
   },
   {
    "duration": 10,
    "start_time": "2021-07-14T17:57:02.775Z"
   },
   {
    "duration": 28,
    "start_time": "2021-07-14T17:57:06.387Z"
   },
   {
    "duration": 169187,
    "start_time": "2021-07-14T17:57:11.055Z"
   },
   {
    "duration": 4,
    "start_time": "2021-07-14T18:00:00.244Z"
   },
   {
    "duration": 5,
    "start_time": "2021-07-14T18:00:43.407Z"
   },
   {
    "duration": 6,
    "start_time": "2021-07-14T18:01:00.062Z"
   },
   {
    "duration": 31,
    "start_time": "2021-07-14T18:01:40.528Z"
   },
   {
    "duration": 414,
    "start_time": "2021-07-14T18:09:42.621Z"
   },
   {
    "duration": 19,
    "start_time": "2021-07-14T18:10:00.196Z"
   },
   {
    "duration": 15,
    "start_time": "2021-07-14T18:12:43.531Z"
   },
   {
    "duration": 5,
    "start_time": "2021-07-14T18:12:53.409Z"
   },
   {
    "duration": 6,
    "start_time": "2021-07-14T18:15:25.104Z"
   },
   {
    "duration": 13,
    "start_time": "2021-07-14T18:16:45.626Z"
   },
   {
    "duration": 6,
    "start_time": "2021-07-14T18:16:50.566Z"
   },
   {
    "duration": 20,
    "start_time": "2021-07-14T18:19:02.140Z"
   },
   {
    "duration": 10,
    "start_time": "2021-07-14T18:24:40.737Z"
   },
   {
    "duration": 365,
    "start_time": "2021-07-14T18:24:45.065Z"
   },
   {
    "duration": 18,
    "start_time": "2021-07-14T18:26:04.344Z"
   },
   {
    "duration": 15,
    "start_time": "2021-07-14T18:26:35.162Z"
   },
   {
    "duration": 10,
    "start_time": "2021-07-14T18:26:49.324Z"
   },
   {
    "duration": 336,
    "start_time": "2021-07-14T18:28:07.007Z"
   },
   {
    "duration": 15,
    "start_time": "2021-07-14T18:28:23.800Z"
   },
   {
    "duration": 477,
    "start_time": "2021-07-14T18:29:24.349Z"
   },
   {
    "duration": 1332,
    "start_time": "2021-07-14T18:29:44.235Z"
   },
   {
    "duration": 1389,
    "start_time": "2021-07-14T18:51:59.304Z"
   },
   {
    "duration": 10,
    "start_time": "2021-07-15T06:23:05.192Z"
   },
   {
    "duration": 536,
    "start_time": "2021-07-15T06:33:49.720Z"
   },
   {
    "duration": 930,
    "start_time": "2021-07-15T06:34:30.104Z"
   },
   {
    "duration": 383,
    "start_time": "2021-07-15T06:37:22.155Z"
   },
   {
    "duration": 616,
    "start_time": "2021-07-15T06:38:52.962Z"
   },
   {
    "duration": 110,
    "start_time": "2021-07-15T06:41:16.322Z"
   },
   {
    "duration": 180,
    "start_time": "2021-07-15T06:42:29.648Z"
   },
   {
    "duration": 7,
    "start_time": "2021-07-15T06:42:44.702Z"
   },
   {
    "duration": 89,
    "start_time": "2021-07-15T06:44:29.542Z"
   },
   {
    "duration": 7,
    "start_time": "2021-07-15T06:44:41.951Z"
   },
   {
    "duration": 274,
    "start_time": "2021-07-15T07:06:39.368Z"
   },
   {
    "duration": 8,
    "start_time": "2021-07-15T07:07:21.964Z"
   },
   {
    "duration": 292,
    "start_time": "2021-07-15T07:08:08.989Z"
   },
   {
    "duration": 7,
    "start_time": "2021-07-15T07:10:18.456Z"
   },
   {
    "duration": 18,
    "start_time": "2021-07-15T07:11:43.350Z"
   },
   {
    "duration": 17,
    "start_time": "2021-07-15T07:12:14.961Z"
   },
   {
    "duration": 6,
    "start_time": "2021-07-15T07:12:42.209Z"
   },
   {
    "duration": 7,
    "start_time": "2021-07-15T07:13:35.658Z"
   },
   {
    "duration": 7,
    "start_time": "2021-07-15T07:13:46.222Z"
   },
   {
    "duration": 107,
    "start_time": "2021-07-15T07:25:33.090Z"
   },
   {
    "duration": 85,
    "start_time": "2021-07-15T07:25:45.402Z"
   },
   {
    "duration": 495,
    "start_time": "2021-07-15T07:25:58.254Z"
   },
   {
    "duration": 260,
    "start_time": "2021-07-15T07:28:57.839Z"
   },
   {
    "duration": 264,
    "start_time": "2021-07-15T07:29:25.773Z"
   },
   {
    "duration": 265,
    "start_time": "2021-07-15T07:29:51.379Z"
   },
   {
    "duration": 277,
    "start_time": "2021-07-15T07:30:46.559Z"
   },
   {
    "duration": 446,
    "start_time": "2021-07-15T07:33:22.778Z"
   },
   {
    "duration": 9,
    "start_time": "2021-07-15T07:33:56.619Z"
   },
   {
    "duration": 257,
    "start_time": "2021-07-15T07:47:09.687Z"
   },
   {
    "duration": 737,
    "start_time": "2021-07-15T07:47:27.480Z"
   },
   {
    "duration": 290,
    "start_time": "2021-07-15T08:40:06.071Z"
   },
   {
    "duration": 8,
    "start_time": "2021-07-15T08:40:20.602Z"
   },
   {
    "duration": 34,
    "start_time": "2021-07-15T08:40:23.392Z"
   },
   {
    "duration": 294,
    "start_time": "2021-07-15T08:41:09.619Z"
   },
   {
    "duration": 110,
    "start_time": "2021-07-15T08:42:42.275Z"
   },
   {
    "duration": 4,
    "start_time": "2021-07-15T08:43:16.340Z"
   },
   {
    "duration": 289,
    "start_time": "2021-07-15T08:44:20.903Z"
   },
   {
    "duration": 32,
    "start_time": "2021-07-15T08:44:43.765Z"
   },
   {
    "duration": 11,
    "start_time": "2021-07-15T08:46:13.045Z"
   },
   {
    "duration": 35,
    "start_time": "2021-07-15T08:46:15.261Z"
   },
   {
    "duration": 40,
    "start_time": "2021-07-15T08:46:29.323Z"
   },
   {
    "duration": 287,
    "start_time": "2021-07-15T09:10:15.646Z"
   },
   {
    "duration": 13,
    "start_time": "2021-07-15T09:10:35.205Z"
   },
   {
    "duration": 14,
    "start_time": "2021-07-15T09:11:23.796Z"
   },
   {
    "duration": 289,
    "start_time": "2021-07-15T09:15:04.714Z"
   },
   {
    "duration": 985,
    "start_time": "2021-07-15T09:17:19.727Z"
   },
   {
    "duration": 280,
    "start_time": "2021-07-15T09:24:33.917Z"
   },
   {
    "duration": 304,
    "start_time": "2021-07-15T09:24:47.446Z"
   },
   {
    "duration": 301,
    "start_time": "2021-07-15T09:25:31.873Z"
   },
   {
    "duration": 271,
    "start_time": "2021-07-15T09:26:40.971Z"
   },
   {
    "duration": 281,
    "start_time": "2021-07-15T09:29:27.257Z"
   },
   {
    "duration": 91,
    "start_time": "2021-07-15T09:31:37.966Z"
   },
   {
    "duration": 305,
    "start_time": "2021-07-15T09:31:48.414Z"
   },
   {
    "duration": 322,
    "start_time": "2021-07-15T09:50:22.700Z"
   },
   {
    "duration": 822,
    "start_time": "2021-07-15T09:51:01.450Z"
   },
   {
    "duration": 303,
    "start_time": "2021-07-15T09:51:32.449Z"
   },
   {
    "duration": 760,
    "start_time": "2021-07-15T09:52:10.127Z"
   },
   {
    "duration": 311,
    "start_time": "2021-07-15T09:53:21.781Z"
   },
   {
    "duration": 778,
    "start_time": "2021-07-15T09:53:48.576Z"
   },
   {
    "duration": 321,
    "start_time": "2021-07-15T09:59:17.605Z"
   },
   {
    "duration": 904,
    "start_time": "2021-07-15T09:59:55.345Z"
   },
   {
    "duration": 313,
    "start_time": "2021-07-15T10:05:58.332Z"
   },
   {
    "duration": 268,
    "start_time": "2021-07-15T10:06:20.657Z"
   },
   {
    "duration": 707,
    "start_time": "2021-07-15T10:06:30.191Z"
   },
   {
    "duration": 3,
    "start_time": "2021-07-15T10:06:54.675Z"
   },
   {
    "duration": 10,
    "start_time": "2021-07-15T10:07:03.075Z"
   },
   {
    "duration": 282,
    "start_time": "2021-07-15T10:07:23.895Z"
   },
   {
    "duration": 276,
    "start_time": "2021-07-15T10:08:09.891Z"
   },
   {
    "duration": 19,
    "start_time": "2021-07-15T10:08:52.850Z"
   },
   {
    "duration": 17,
    "start_time": "2021-07-15T10:10:59.307Z"
   },
   {
    "duration": 105,
    "start_time": "2021-07-15T10:11:34.721Z"
   },
   {
    "duration": 271,
    "start_time": "2021-07-15T10:11:42.591Z"
   },
   {
    "duration": 261,
    "start_time": "2021-07-15T10:13:04.920Z"
   },
   {
    "duration": 269,
    "start_time": "2021-07-15T10:13:19.715Z"
   },
   {
    "duration": 121,
    "start_time": "2021-07-15T10:17:09.427Z"
   },
   {
    "duration": 2394,
    "start_time": "2021-07-15T10:17:20.720Z"
   },
   {
    "duration": 2453,
    "start_time": "2021-07-15T10:19:18.281Z"
   },
   {
    "duration": 2385,
    "start_time": "2021-07-15T10:20:13.937Z"
   },
   {
    "duration": 110,
    "start_time": "2021-07-15T10:22:08.537Z"
   },
   {
    "duration": 327,
    "start_time": "2021-07-15T10:22:16.147Z"
   },
   {
    "duration": 2447,
    "start_time": "2021-07-15T10:22:51.406Z"
   },
   {
    "duration": 16,
    "start_time": "2021-07-15T10:23:39.319Z"
   },
   {
    "duration": 342,
    "start_time": "2021-07-15T10:23:54.276Z"
   },
   {
    "duration": 2323,
    "start_time": "2021-07-15T10:24:34.596Z"
   },
   {
    "duration": 2557,
    "start_time": "2021-07-15T10:27:06.948Z"
   },
   {
    "duration": 91,
    "start_time": "2021-07-15T10:30:57.569Z"
   },
   {
    "duration": 15,
    "start_time": "2021-07-15T10:32:33.891Z"
   },
   {
    "duration": 15,
    "start_time": "2021-07-15T10:33:24.982Z"
   },
   {
    "duration": 274,
    "start_time": "2021-07-15T10:33:51.189Z"
   },
   {
    "duration": 274,
    "start_time": "2021-07-15T10:34:04.453Z"
   },
   {
    "duration": -2043,
    "start_time": "2021-07-15T10:34:51.799Z"
   },
   {
    "duration": 2342,
    "start_time": "2021-07-15T10:35:09.478Z"
   },
   {
    "duration": 288,
    "start_time": "2021-07-15T10:41:26.662Z"
   },
   {
    "duration": 496,
    "start_time": "2021-07-15T10:41:48.728Z"
   },
   {
    "duration": 2976,
    "start_time": "2021-07-15T10:41:54.074Z"
   },
   {
    "duration": 27,
    "start_time": "2021-07-15T10:42:19.049Z"
   },
   {
    "duration": 279,
    "start_time": "2021-07-15T10:42:30.606Z"
   },
   {
    "duration": 277,
    "start_time": "2021-07-15T10:42:39.462Z"
   },
   {
    "duration": 2711,
    "start_time": "2021-07-15T10:42:44.802Z"
   },
   {
    "duration": 304,
    "start_time": "2021-07-15T10:43:53.141Z"
   },
   {
    "duration": 2883,
    "start_time": "2021-07-15T10:43:58.133Z"
   },
   {
    "duration": 277,
    "start_time": "2021-07-15T10:44:24.590Z"
   },
   {
    "duration": 2756,
    "start_time": "2021-07-15T10:44:28.185Z"
   },
   {
    "duration": 24,
    "start_time": "2021-07-15T10:44:49.135Z"
   },
   {
    "duration": 417,
    "start_time": "2021-07-15T10:45:20.640Z"
   },
   {
    "duration": 294,
    "start_time": "2021-07-15T10:45:33.820Z"
   },
   {
    "duration": 22,
    "start_time": "2021-07-15T10:45:50.144Z"
   },
   {
    "duration": 303,
    "start_time": "2021-07-15T10:47:31.558Z"
   },
   {
    "duration": 132,
    "start_time": "2021-07-15T10:47:57.178Z"
   },
   {
    "duration": 102,
    "start_time": "2021-07-15T10:48:18.045Z"
   },
   {
    "duration": 262,
    "start_time": "2021-07-15T10:48:35.920Z"
   },
   {
    "duration": 281,
    "start_time": "2021-07-15T10:48:43.805Z"
   },
   {
    "duration": 3,
    "start_time": "2021-07-15T10:48:56.302Z"
   },
   {
    "duration": 91,
    "start_time": "2021-07-15T10:49:00.588Z"
   },
   {
    "duration": 89,
    "start_time": "2021-07-15T10:49:13.198Z"
   },
   {
    "duration": 430,
    "start_time": "2021-07-15T10:49:27.339Z"
   },
   {
    "duration": 17,
    "start_time": "2021-07-15T10:49:50.326Z"
   },
   {
    "duration": 732,
    "start_time": "2021-07-15T10:50:26.198Z"
   },
   {
    "duration": 2870,
    "start_time": "2021-07-15T10:52:03.219Z"
   },
   {
    "duration": 2943,
    "start_time": "2021-07-15T10:52:19.933Z"
   },
   {
    "duration": 270,
    "start_time": "2021-07-15T10:56:06.989Z"
   },
   {
    "duration": 833,
    "start_time": "2021-07-15T10:56:31.430Z"
   },
   {
    "duration": 270,
    "start_time": "2021-07-15T10:56:40.775Z"
   },
   {
    "duration": 340,
    "start_time": "2021-07-15T10:57:25.582Z"
   },
   {
    "duration": 720,
    "start_time": "2021-07-15T10:58:14.060Z"
   },
   {
    "duration": 652,
    "start_time": "2021-07-15T10:58:24.648Z"
   },
   {
    "duration": 281,
    "start_time": "2021-07-15T10:59:50.476Z"
   },
   {
    "duration": 320,
    "start_time": "2021-07-15T11:29:15.274Z"
   },
   {
    "duration": 286,
    "start_time": "2021-07-15T11:29:23.880Z"
   },
   {
    "duration": 287,
    "start_time": "2021-07-15T11:29:36.696Z"
   },
   {
    "duration": 20,
    "start_time": "2021-07-15T11:29:53.164Z"
   },
   {
    "duration": 82,
    "start_time": "2021-07-15T11:29:55.941Z"
   },
   {
    "duration": 12,
    "start_time": "2021-07-15T11:30:35.351Z"
   },
   {
    "duration": 293,
    "start_time": "2021-07-15T11:31:40.109Z"
   },
   {
    "duration": 276,
    "start_time": "2021-07-15T11:31:53.524Z"
   },
   {
    "duration": 14,
    "start_time": "2021-07-15T11:32:52.217Z"
   },
   {
    "duration": 5,
    "start_time": "2021-07-15T11:35:49.424Z"
   },
   {
    "duration": 2693,
    "start_time": "2021-07-15T11:36:11.573Z"
   },
   {
    "duration": 2799,
    "start_time": "2021-07-15T11:36:21.510Z"
   },
   {
    "duration": 2808,
    "start_time": "2021-07-15T11:37:04.638Z"
   },
   {
    "duration": 8,
    "start_time": "2021-07-15T11:59:16.908Z"
   },
   {
    "duration": 6,
    "start_time": "2021-07-15T13:06:00.429Z"
   },
   {
    "duration": 5,
    "start_time": "2021-07-15T13:06:09.800Z"
   },
   {
    "duration": 11,
    "start_time": "2021-07-15T13:06:33.143Z"
   },
   {
    "duration": 6,
    "start_time": "2021-07-15T13:06:59.638Z"
   },
   {
    "duration": 17,
    "start_time": "2021-07-15T13:07:47.452Z"
   },
   {
    "duration": 23,
    "start_time": "2021-07-15T13:21:41.987Z"
   },
   {
    "duration": 284,
    "start_time": "2021-07-15T13:22:34.597Z"
   },
   {
    "duration": 15,
    "start_time": "2021-07-15T13:22:48.562Z"
   },
   {
    "duration": 14,
    "start_time": "2021-07-15T13:23:11.050Z"
   },
   {
    "duration": 15,
    "start_time": "2021-07-15T13:23:20.860Z"
   },
   {
    "duration": 32,
    "start_time": "2021-07-15T13:23:34.124Z"
   },
   {
    "duration": 28,
    "start_time": "2021-07-15T13:24:19.518Z"
   },
   {
    "duration": 15,
    "start_time": "2021-07-15T13:25:04.156Z"
   },
   {
    "duration": 16,
    "start_time": "2021-07-15T13:25:20.381Z"
   },
   {
    "duration": 17,
    "start_time": "2021-07-15T13:25:39.798Z"
   },
   {
    "duration": 10,
    "start_time": "2021-07-15T13:27:23.379Z"
   },
   {
    "duration": 42,
    "start_time": "2021-07-15T13:27:25.729Z"
   },
   {
    "duration": 10,
    "start_time": "2021-07-15T13:28:31.261Z"
   },
   {
    "duration": 665,
    "start_time": "2021-07-15T13:30:09.011Z"
   },
   {
    "duration": 486,
    "start_time": "2021-07-15T13:36:04.785Z"
   },
   {
    "duration": 11,
    "start_time": "2021-07-15T13:37:23.322Z"
   },
   {
    "duration": 546,
    "start_time": "2021-07-15T13:37:33.762Z"
   },
   {
    "duration": 9,
    "start_time": "2021-07-15T13:37:44.416Z"
   },
   {
    "duration": 7,
    "start_time": "2021-07-15T13:37:50.097Z"
   },
   {
    "duration": 55,
    "start_time": "2021-07-15T13:38:20.721Z"
   },
   {
    "duration": 44,
    "start_time": "2021-07-15T13:38:44.993Z"
   },
   {
    "duration": 17,
    "start_time": "2021-07-15T13:40:09.776Z"
   },
   {
    "duration": 48,
    "start_time": "2021-07-15T13:41:06.534Z"
   },
   {
    "duration": 42,
    "start_time": "2021-07-15T13:45:01.272Z"
   },
   {
    "duration": 14,
    "start_time": "2021-07-15T13:45:21.563Z"
   },
   {
    "duration": 18,
    "start_time": "2021-07-15T13:45:35.659Z"
   },
   {
    "duration": 14,
    "start_time": "2021-07-15T13:46:12.044Z"
   },
   {
    "duration": 10,
    "start_time": "2021-07-15T13:46:15.022Z"
   },
   {
    "duration": 47,
    "start_time": "2021-07-15T13:46:18.072Z"
   },
   {
    "duration": 22,
    "start_time": "2021-07-15T13:46:52.666Z"
   },
   {
    "duration": 380,
    "start_time": "2021-07-15T13:47:59.491Z"
   },
   {
    "duration": 17,
    "start_time": "2021-07-15T13:48:27.728Z"
   },
   {
    "duration": 271,
    "start_time": "2021-07-15T14:02:12.536Z"
   },
   {
    "duration": 299,
    "start_time": "2021-07-15T14:03:40.316Z"
   },
   {
    "duration": 309,
    "start_time": "2021-07-15T14:04:11.430Z"
   },
   {
    "duration": 6156,
    "start_time": "2021-07-15T14:05:01.716Z"
   },
   {
    "duration": 272,
    "start_time": "2021-07-15T14:06:07.460Z"
   },
   {
    "duration": 320,
    "start_time": "2021-07-15T14:09:00.478Z"
   },
   {
    "duration": 348,
    "start_time": "2021-07-15T14:11:23.001Z"
   },
   {
    "duration": 18,
    "start_time": "2021-07-15T14:11:56.922Z"
   },
   {
    "duration": 475,
    "start_time": "2021-07-15T14:12:25.009Z"
   },
   {
    "duration": 119,
    "start_time": "2021-07-15T14:13:24.107Z"
   },
   {
    "duration": 15,
    "start_time": "2021-07-15T14:15:35.517Z"
   },
   {
    "duration": 17,
    "start_time": "2021-07-15T14:16:01.891Z"
   },
   {
    "duration": 2,
    "start_time": "2021-07-15T14:16:01.990Z"
   },
   {
    "duration": 7429,
    "start_time": "2021-07-15T14:18:36.552Z"
   },
   {
    "duration": 26,
    "start_time": "2021-07-15T14:18:58.838Z"
   },
   {
    "duration": 15,
    "start_time": "2021-07-15T14:23:01.971Z"
   },
   {
    "duration": 16,
    "start_time": "2021-07-15T14:23:14.786Z"
   },
   {
    "duration": 14,
    "start_time": "2021-07-15T14:23:27.374Z"
   },
   {
    "duration": 18,
    "start_time": "2021-07-15T14:57:35.168Z"
   },
   {
    "duration": 686,
    "start_time": "2021-07-15T14:58:06.323Z"
   },
   {
    "duration": 227,
    "start_time": "2021-07-15T15:01:15.342Z"
   },
   {
    "duration": 31,
    "start_time": "2021-07-15T15:03:20.609Z"
   },
   {
    "duration": 32,
    "start_time": "2021-07-15T15:03:52.897Z"
   },
   {
    "duration": 32,
    "start_time": "2021-07-15T15:04:56.978Z"
   },
   {
    "duration": 32,
    "start_time": "2021-07-15T15:05:26.079Z"
   },
   {
    "duration": 38,
    "start_time": "2021-07-15T15:06:27.315Z"
   },
   {
    "duration": 24,
    "start_time": "2021-07-15T15:06:53.414Z"
   },
   {
    "duration": 18,
    "start_time": "2021-07-15T15:07:35.198Z"
   },
   {
    "duration": 21,
    "start_time": "2021-07-15T15:07:38.735Z"
   },
   {
    "duration": 22,
    "start_time": "2021-07-15T15:07:46.836Z"
   },
   {
    "duration": 17,
    "start_time": "2021-07-15T15:07:58.476Z"
   },
   {
    "duration": 17,
    "start_time": "2021-07-15T15:08:10.200Z"
   },
   {
    "duration": 16,
    "start_time": "2021-07-15T15:08:15.570Z"
   },
   {
    "duration": 17,
    "start_time": "2021-07-15T15:08:18.910Z"
   },
   {
    "duration": 17,
    "start_time": "2021-07-15T15:08:22.567Z"
   },
   {
    "duration": 18,
    "start_time": "2021-07-15T15:08:27.688Z"
   },
   {
    "duration": 38,
    "start_time": "2021-07-15T15:08:50.519Z"
   },
   {
    "duration": 22,
    "start_time": "2021-07-15T15:08:55.111Z"
   },
   {
    "duration": 37,
    "start_time": "2021-07-15T15:09:26.113Z"
   },
   {
    "duration": 21,
    "start_time": "2021-07-15T15:09:32.691Z"
   },
   {
    "duration": 18,
    "start_time": "2021-07-15T16:01:58.650Z"
   },
   {
    "duration": 376,
    "start_time": "2021-07-15T16:02:13.317Z"
   },
   {
    "duration": 13,
    "start_time": "2021-07-15T16:02:17.229Z"
   },
   {
    "duration": 9,
    "start_time": "2021-07-15T16:02:22.381Z"
   },
   {
    "duration": 6,
    "start_time": "2021-07-15T16:02:27.388Z"
   },
   {
    "duration": 7,
    "start_time": "2021-07-15T16:02:30.091Z"
   },
   {
    "duration": 7,
    "start_time": "2021-07-15T16:02:32.755Z"
   },
   {
    "duration": 23,
    "start_time": "2021-07-15T16:02:38.685Z"
   },
   {
    "duration": 9,
    "start_time": "2021-07-15T16:02:41.666Z"
   },
   {
    "duration": 10,
    "start_time": "2021-07-15T16:02:45.784Z"
   },
   {
    "duration": 4,
    "start_time": "2021-07-15T16:02:49.165Z"
   },
   {
    "duration": 15,
    "start_time": "2021-07-15T16:02:51.839Z"
   },
   {
    "duration": 5,
    "start_time": "2021-07-15T16:02:54.970Z"
   },
   {
    "duration": 14,
    "start_time": "2021-07-15T16:02:57.190Z"
   },
   {
    "duration": 11,
    "start_time": "2021-07-15T16:03:01.025Z"
   },
   {
    "duration": 3,
    "start_time": "2021-07-15T16:03:03.431Z"
   },
   {
    "duration": 5,
    "start_time": "2021-07-15T16:03:07.013Z"
   },
   {
    "duration": 10,
    "start_time": "2021-07-15T16:03:10.357Z"
   },
   {
    "duration": 7,
    "start_time": "2021-07-15T16:03:13.323Z"
   },
   {
    "duration": 4,
    "start_time": "2021-07-15T16:03:15.716Z"
   },
   {
    "duration": 4,
    "start_time": "2021-07-15T16:03:17.677Z"
   },
   {
    "duration": 5,
    "start_time": "2021-07-15T16:03:19.707Z"
   },
   {
    "duration": 6,
    "start_time": "2021-07-15T16:03:22.873Z"
   },
   {
    "duration": 16,
    "start_time": "2021-07-15T16:03:26.518Z"
   },
   {
    "duration": 11,
    "start_time": "2021-07-15T16:03:30.295Z"
   },
   {
    "duration": 7,
    "start_time": "2021-07-15T16:03:35.210Z"
   },
   {
    "duration": 15,
    "start_time": "2021-07-15T16:03:37.768Z"
   },
   {
    "duration": 9,
    "start_time": "2021-07-15T16:03:39.774Z"
   },
   {
    "duration": 16,
    "start_time": "2021-07-15T16:03:43.317Z"
   },
   {
    "duration": 11,
    "start_time": "2021-07-15T16:03:46.610Z"
   },
   {
    "duration": 15,
    "start_time": "2021-07-15T16:03:51.721Z"
   },
   {
    "duration": 32,
    "start_time": "2021-07-15T16:03:53.734Z"
   },
   {
    "duration": 8,
    "start_time": "2021-07-15T16:03:56.894Z"
   },
   {
    "duration": 14,
    "start_time": "2021-07-15T16:04:00.409Z"
   },
   {
    "duration": 7,
    "start_time": "2021-07-15T16:04:03.231Z"
   },
   {
    "duration": 19,
    "start_time": "2021-07-15T16:04:06.607Z"
   },
   {
    "duration": 18,
    "start_time": "2021-07-15T16:04:09.444Z"
   },
   {
    "duration": 21,
    "start_time": "2021-07-15T16:04:16.948Z"
   },
   {
    "duration": 25,
    "start_time": "2021-07-15T16:04:23.064Z"
   },
   {
    "duration": 28,
    "start_time": "2021-07-15T16:04:26.491Z"
   },
   {
    "duration": 34,
    "start_time": "2021-07-15T16:05:17.152Z"
   },
   {
    "duration": 36,
    "start_time": "2021-07-15T16:06:08.322Z"
   },
   {
    "duration": 30,
    "start_time": "2021-07-15T16:06:19.305Z"
   },
   {
    "duration": 30,
    "start_time": "2021-07-15T16:07:10.392Z"
   },
   {
    "duration": 34,
    "start_time": "2021-07-15T16:07:53.624Z"
   },
   {
    "duration": 26,
    "start_time": "2021-07-15T16:07:58.764Z"
   },
   {
    "duration": 25,
    "start_time": "2021-07-15T16:08:24.037Z"
   },
   {
    "duration": 35,
    "start_time": "2021-07-15T16:08:33.392Z"
   },
   {
    "duration": 26,
    "start_time": "2021-07-15T16:08:43.215Z"
   },
   {
    "duration": 40,
    "start_time": "2021-07-15T16:08:48.222Z"
   },
   {
    "duration": 41,
    "start_time": "2021-07-15T16:10:46.060Z"
   },
   {
    "duration": 29,
    "start_time": "2021-07-15T16:11:30.616Z"
   },
   {
    "duration": 29,
    "start_time": "2021-07-15T16:11:39.005Z"
   },
   {
    "duration": 28,
    "start_time": "2021-07-15T16:15:32.100Z"
   },
   {
    "duration": 24,
    "start_time": "2021-07-15T16:15:37.357Z"
   },
   {
    "duration": 17,
    "start_time": "2021-07-15T16:15:44.088Z"
   },
   {
    "duration": 27,
    "start_time": "2021-07-15T16:15:49.674Z"
   },
   {
    "duration": 28,
    "start_time": "2021-07-15T16:15:53.192Z"
   },
   {
    "duration": 681,
    "start_time": "2021-07-15T16:16:41.948Z"
   },
   {
    "duration": 19,
    "start_time": "2021-07-15T16:16:46.959Z"
   },
   {
    "duration": 18,
    "start_time": "2021-07-15T16:16:50.182Z"
   },
   {
    "duration": 24,
    "start_time": "2021-07-15T16:16:52.668Z"
   },
   {
    "duration": 18,
    "start_time": "2021-07-15T16:16:56.962Z"
   },
   {
    "duration": 34,
    "start_time": "2021-07-15T16:17:00.404Z"
   },
   {
    "duration": 16,
    "start_time": "2021-07-15T16:17:24.265Z"
   },
   {
    "duration": 412,
    "start_time": "2021-07-16T06:50:27.892Z"
   },
   {
    "duration": 1093,
    "start_time": "2021-07-16T06:50:46.547Z"
   },
   {
    "duration": 12,
    "start_time": "2021-07-16T06:51:21.668Z"
   },
   {
    "duration": 20,
    "start_time": "2021-07-16T06:51:35.456Z"
   },
   {
    "duration": 18,
    "start_time": "2021-07-16T06:52:14.834Z"
   },
   {
    "duration": 10,
    "start_time": "2021-07-16T06:52:44.861Z"
   },
   {
    "duration": 20,
    "start_time": "2021-07-16T06:53:35.206Z"
   },
   {
    "duration": 14,
    "start_time": "2021-07-16T06:59:34.989Z"
   },
   {
    "duration": 201,
    "start_time": "2021-07-16T07:00:54.871Z"
   },
   {
    "duration": 16,
    "start_time": "2021-07-16T07:00:58.313Z"
   },
   {
    "duration": 14,
    "start_time": "2021-07-16T07:01:03.316Z"
   },
   {
    "duration": 11,
    "start_time": "2021-07-16T07:01:06.813Z"
   },
   {
    "duration": 12,
    "start_time": "2021-07-16T07:01:10.120Z"
   },
   {
    "duration": 11,
    "start_time": "2021-07-16T07:01:17.809Z"
   },
   {
    "duration": 39,
    "start_time": "2021-07-16T07:01:22.204Z"
   },
   {
    "duration": 16,
    "start_time": "2021-07-16T07:01:25.373Z"
   },
   {
    "duration": 15,
    "start_time": "2021-07-16T07:01:28.316Z"
   },
   {
    "duration": 6,
    "start_time": "2021-07-16T07:01:32.614Z"
   },
   {
    "duration": 17,
    "start_time": "2021-07-16T07:01:35.738Z"
   },
   {
    "duration": 6,
    "start_time": "2021-07-16T07:01:39.744Z"
   },
   {
    "duration": 20,
    "start_time": "2021-07-16T07:01:42.561Z"
   },
   {
    "duration": 17,
    "start_time": "2021-07-16T07:01:45.454Z"
   },
   {
    "duration": 5,
    "start_time": "2021-07-16T07:01:48.450Z"
   },
   {
    "duration": 12,
    "start_time": "2021-07-16T07:01:51.090Z"
   },
   {
    "duration": 11,
    "start_time": "2021-07-16T07:01:55.053Z"
   },
   {
    "duration": 11,
    "start_time": "2021-07-16T07:01:58.007Z"
   },
   {
    "duration": 18,
    "start_time": "2021-07-16T07:02:01.235Z"
   },
   {
    "duration": 5,
    "start_time": "2021-07-16T07:02:05.355Z"
   },
   {
    "duration": 7,
    "start_time": "2021-07-16T07:02:07.595Z"
   },
   {
    "duration": 7,
    "start_time": "2021-07-16T07:02:09.625Z"
   },
   {
    "duration": 9,
    "start_time": "2021-07-16T07:02:12.923Z"
   },
   {
    "duration": 28,
    "start_time": "2021-07-16T07:02:17.446Z"
   },
   {
    "duration": 21,
    "start_time": "2021-07-16T07:02:22.289Z"
   },
   {
    "duration": 10,
    "start_time": "2021-07-16T07:02:29.242Z"
   },
   {
    "duration": 21,
    "start_time": "2021-07-16T07:02:33.290Z"
   },
   {
    "duration": 18,
    "start_time": "2021-07-16T07:02:36.683Z"
   },
   {
    "duration": 15,
    "start_time": "2021-07-16T07:02:40.148Z"
   },
   {
    "duration": 16,
    "start_time": "2021-07-16T07:02:44.930Z"
   },
   {
    "duration": 21,
    "start_time": "2021-07-16T07:02:53.034Z"
   },
   {
    "duration": 42,
    "start_time": "2021-07-16T07:02:55.338Z"
   },
   {
    "duration": 10,
    "start_time": "2021-07-16T07:02:58.600Z"
   },
   {
    "duration": 18,
    "start_time": "2021-07-16T07:03:02.266Z"
   },
   {
    "duration": 9,
    "start_time": "2021-07-16T07:03:04.547Z"
   },
   {
    "duration": 39,
    "start_time": "2021-07-16T07:03:08.978Z"
   },
   {
    "duration": 29,
    "start_time": "2021-07-16T07:03:12.061Z"
   },
   {
    "duration": 29,
    "start_time": "2021-07-16T07:03:17.111Z"
   },
   {
    "duration": 824,
    "start_time": "2021-07-16T07:03:22.731Z"
   },
   {
    "duration": 47,
    "start_time": "2021-07-16T07:03:26.804Z"
   },
   {
    "duration": 60,
    "start_time": "2021-07-16T07:03:30.052Z"
   },
   {
    "duration": 48,
    "start_time": "2021-07-16T07:03:34.186Z"
   },
   {
    "duration": 70,
    "start_time": "2021-07-16T07:03:37.312Z"
   },
   {
    "duration": 47,
    "start_time": "2021-07-16T07:03:42.220Z"
   },
   {
    "duration": 65,
    "start_time": "2021-07-16T07:04:01.566Z"
   },
   {
    "duration": 49,
    "start_time": "2021-07-16T07:04:16.112Z"
   },
   {
    "duration": 30,
    "start_time": "2021-07-16T07:04:27.172Z"
   },
   {
    "duration": 13,
    "start_time": "2021-07-16T07:04:31.914Z"
   },
   {
    "duration": 21,
    "start_time": "2021-07-16T07:04:34.418Z"
   },
   {
    "duration": 31,
    "start_time": "2021-07-16T07:04:45.606Z"
   },
   {
    "duration": 10,
    "start_time": "2021-07-16T07:04:52.772Z"
   },
   {
    "duration": 15,
    "start_time": "2021-07-16T07:04:54.860Z"
   },
   {
    "duration": 15,
    "start_time": "2021-07-16T07:04:58.516Z"
   },
   {
    "duration": 63,
    "start_time": "2021-07-16T07:05:01.418Z"
   },
   {
    "duration": 464,
    "start_time": "2021-07-16T07:05:06.316Z"
   },
   {
    "duration": 61,
    "start_time": "2021-07-16T07:05:35.060Z"
   },
   {
    "duration": 21,
    "start_time": "2021-07-16T07:05:39.141Z"
   },
   {
    "duration": 34,
    "start_time": "2021-07-16T07:05:47.087Z"
   },
   {
    "duration": 680,
    "start_time": "2021-07-16T07:05:50.447Z"
   },
   {
    "duration": 961,
    "start_time": "2021-07-16T07:05:55.774Z"
   },
   {
    "duration": 1116,
    "start_time": "2021-07-16T07:06:00.007Z"
   },
   {
    "duration": 28,
    "start_time": "2021-07-16T07:06:04.260Z"
   },
   {
    "duration": 52,
    "start_time": "2021-07-16T07:06:08.678Z"
   },
   {
    "duration": 13,
    "start_time": "2021-07-16T07:06:12.061Z"
   },
   {
    "duration": 49,
    "start_time": "2021-07-16T07:06:14.904Z"
   },
   {
    "duration": 6,
    "start_time": "2021-07-16T07:06:23.178Z"
   },
   {
    "duration": 377,
    "start_time": "2021-07-16T07:06:26.346Z"
   },
   {
    "duration": 77,
    "start_time": "2021-07-16T07:06:31.675Z"
   },
   {
    "duration": 10,
    "start_time": "2021-07-16T07:06:35.471Z"
   },
   {
    "duration": 14,
    "start_time": "2021-07-16T07:06:37.543Z"
   },
   {
    "duration": 74,
    "start_time": "2021-07-16T07:06:42.811Z"
   },
   {
    "duration": 6,
    "start_time": "2021-07-16T07:06:46.757Z"
   },
   {
    "duration": 1824,
    "start_time": "2021-07-16T07:06:48.809Z"
   },
   {
    "duration": 26,
    "start_time": "2021-07-16T07:06:55.408Z"
   },
   {
    "duration": 8433,
    "start_time": "2021-07-16T07:15:51.514Z"
   },
   {
    "duration": 9131,
    "start_time": "2021-07-16T07:18:41.656Z"
   },
   {
    "duration": 55,
    "start_time": "2021-07-16T07:19:31.304Z"
   },
   {
    "duration": 61,
    "start_time": "2021-07-16T07:19:48.488Z"
   },
   {
    "duration": 1304,
    "start_time": "2021-07-16T07:20:12.950Z"
   },
   {
    "duration": 1328,
    "start_time": "2021-07-16T07:23:41.597Z"
   },
   {
    "duration": 1737,
    "start_time": "2021-07-16T07:24:14.496Z"
   },
   {
    "duration": 1038,
    "start_time": "2021-07-16T07:29:18.226Z"
   },
   {
    "duration": 372,
    "start_time": "2021-07-16T07:33:41.051Z"
   },
   {
    "duration": 9056,
    "start_time": "2021-07-16T07:34:54.080Z"
   },
   {
    "duration": 9966,
    "start_time": "2021-07-16T07:38:57.874Z"
   },
   {
    "duration": 139,
    "start_time": "2021-07-16T07:40:22.922Z"
   },
   {
    "duration": 28,
    "start_time": "2021-07-16T07:40:47.872Z"
   },
   {
    "duration": 70,
    "start_time": "2021-07-16T07:41:15.134Z"
   },
   {
    "duration": 26,
    "start_time": "2021-07-16T07:41:18.334Z"
   },
   {
    "duration": 29,
    "start_time": "2021-07-16T07:41:36.946Z"
   },
   {
    "duration": 31,
    "start_time": "2021-07-16T07:41:48.227Z"
   },
   {
    "duration": 25,
    "start_time": "2021-07-16T07:42:01.832Z"
   },
   {
    "duration": 412,
    "start_time": "2021-07-16T08:52:34.205Z"
   },
   {
    "duration": 298,
    "start_time": "2021-07-16T08:52:41.128Z"
   },
   {
    "duration": 451,
    "start_time": "2021-07-16T08:53:24.498Z"
   },
   {
    "duration": 391,
    "start_time": "2021-07-16T08:53:41.213Z"
   },
   {
    "duration": 346,
    "start_time": "2021-07-16T08:54:02.479Z"
   },
   {
    "duration": 361,
    "start_time": "2021-07-16T08:54:53.971Z"
   },
   {
    "duration": 317,
    "start_time": "2021-07-16T08:55:01.237Z"
   },
   {
    "duration": 348,
    "start_time": "2021-07-16T08:55:30.544Z"
   },
   {
    "duration": 22,
    "start_time": "2021-07-16T08:55:45.614Z"
   },
   {
    "duration": 943,
    "start_time": "2021-07-16T08:56:46.719Z"
   },
   {
    "duration": 1535,
    "start_time": "2021-07-16T08:57:43.832Z"
   },
   {
    "duration": 323,
    "start_time": "2021-07-16T08:58:20.810Z"
   },
   {
    "duration": 310,
    "start_time": "2021-07-16T08:58:36.673Z"
   },
   {
    "duration": 13,
    "start_time": "2021-07-16T09:11:17.018Z"
   },
   {
    "duration": 61,
    "start_time": "2021-07-16T09:11:19.863Z"
   },
   {
    "duration": 62,
    "start_time": "2021-07-16T09:11:25.047Z"
   },
   {
    "duration": 22,
    "start_time": "2021-07-16T09:11:35.435Z"
   },
   {
    "duration": 21,
    "start_time": "2021-07-16T09:12:20.950Z"
   },
   {
    "duration": 15,
    "start_time": "2021-07-16T09:13:21.686Z"
   },
   {
    "duration": 172,
    "start_time": "2021-07-16T09:13:36.978Z"
   },
   {
    "duration": 6,
    "start_time": "2021-07-16T09:20:41.930Z"
   },
   {
    "duration": 689,
    "start_time": "2021-07-16T09:42:29.898Z"
   },
   {
    "duration": -252,
    "start_time": "2021-07-16T09:46:32.820Z"
   },
   {
    "duration": 5,
    "start_time": "2021-07-16T09:46:47.362Z"
   },
   {
    "duration": 8,
    "start_time": "2021-07-16T09:47:14.292Z"
   },
   {
    "duration": 11,
    "start_time": "2021-07-16T09:47:51.686Z"
   },
   {
    "duration": 13,
    "start_time": "2021-07-16T11:35:56.558Z"
   },
   {
    "duration": 13,
    "start_time": "2021-07-16T11:36:36.469Z"
   },
   {
    "duration": 207,
    "start_time": "2021-07-16T11:46:39.323Z"
   },
   {
    "duration": 11,
    "start_time": "2021-07-16T11:47:57.903Z"
   },
   {
    "duration": 992,
    "start_time": "2021-07-17T17:44:58.977Z"
   },
   {
    "duration": 22,
    "start_time": "2021-07-17T17:45:06.124Z"
   },
   {
    "duration": 17,
    "start_time": "2021-07-17T17:45:11.503Z"
   },
   {
    "duration": 10,
    "start_time": "2021-07-17T17:45:15.033Z"
   },
   {
    "duration": 13,
    "start_time": "2021-07-17T17:45:17.510Z"
   },
   {
    "duration": 14,
    "start_time": "2021-07-17T17:45:20.180Z"
   },
   {
    "duration": 18,
    "start_time": "2021-07-17T17:45:26.289Z"
   },
   {
    "duration": 23,
    "start_time": "2021-07-17T17:45:28.815Z"
   },
   {
    "duration": 8,
    "start_time": "2021-07-17T17:45:33.702Z"
   },
   {
    "duration": 24,
    "start_time": "2021-07-17T17:45:36.892Z"
   },
   {
    "duration": 7,
    "start_time": "2021-07-17T17:45:40.967Z"
   },
   {
    "duration": 29,
    "start_time": "2021-07-17T17:45:44.503Z"
   },
   {
    "duration": 18,
    "start_time": "2021-07-17T17:45:47.323Z"
   },
   {
    "duration": 5,
    "start_time": "2021-07-17T17:45:49.559Z"
   },
   {
    "duration": 7,
    "start_time": "2021-07-17T17:45:53.518Z"
   },
   {
    "duration": 105,
    "start_time": "2021-07-17T17:45:56.198Z"
   },
   {
    "duration": 12,
    "start_time": "2021-07-17T17:46:07.572Z"
   },
   {
    "duration": 11,
    "start_time": "2021-07-17T17:46:10.168Z"
   },
   {
    "duration": 29,
    "start_time": "2021-07-17T17:46:13.148Z"
   },
   {
    "duration": 6,
    "start_time": "2021-07-17T17:46:15.717Z"
   },
   {
    "duration": 6,
    "start_time": "2021-07-17T17:46:17.592Z"
   },
   {
    "duration": 7,
    "start_time": "2021-07-17T17:46:19.239Z"
   },
   {
    "duration": 8,
    "start_time": "2021-07-17T17:46:21.558Z"
   },
   {
    "duration": 29,
    "start_time": "2021-07-17T17:46:26.309Z"
   },
   {
    "duration": 18,
    "start_time": "2021-07-17T17:46:30.079Z"
   },
   {
    "duration": 9,
    "start_time": "2021-07-17T17:46:34.036Z"
   },
   {
    "duration": 125,
    "start_time": "2021-07-17T17:46:37.125Z"
   },
   {
    "duration": 18,
    "start_time": "2021-07-17T17:46:39.979Z"
   },
   {
    "duration": 11,
    "start_time": "2021-07-17T17:46:42.631Z"
   },
   {
    "duration": 15,
    "start_time": "2021-07-17T17:46:46.171Z"
   },
   {
    "duration": 15,
    "start_time": "2021-07-17T17:46:49.218Z"
   },
   {
    "duration": 22,
    "start_time": "2021-07-17T17:46:54.538Z"
   },
   {
    "duration": 43,
    "start_time": "2021-07-17T17:46:57.040Z"
   },
   {
    "duration": 10,
    "start_time": "2021-07-17T17:46:58.804Z"
   },
   {
    "duration": 17,
    "start_time": "2021-07-17T17:47:02.018Z"
   },
   {
    "duration": 10,
    "start_time": "2021-07-17T17:47:03.683Z"
   },
   {
    "duration": 30,
    "start_time": "2021-07-17T17:47:05.673Z"
   },
   {
    "duration": 24,
    "start_time": "2021-07-17T17:47:08.765Z"
   },
   {
    "duration": 29,
    "start_time": "2021-07-17T17:47:15.803Z"
   },
   {
    "duration": 816,
    "start_time": "2021-07-17T17:47:21.832Z"
   },
   {
    "duration": 44,
    "start_time": "2021-07-17T17:47:24.458Z"
   },
   {
    "duration": 44,
    "start_time": "2021-07-17T17:47:26.547Z"
   },
   {
    "duration": 52,
    "start_time": "2021-07-17T17:47:29.303Z"
   },
   {
    "duration": 49,
    "start_time": "2021-07-17T17:47:48.652Z"
   },
   {
    "duration": 28,
    "start_time": "2021-07-17T17:54:30.939Z"
   },
   {
    "duration": 15,
    "start_time": "2021-07-17T18:00:33.863Z"
   },
   {
    "duration": 496,
    "start_time": "2021-07-17T18:01:55.427Z"
   },
   {
    "duration": 15,
    "start_time": "2021-07-17T18:02:03.578Z"
   },
   {
    "duration": 52,
    "start_time": "2021-07-17T18:10:38.796Z"
   },
   {
    "duration": 51,
    "start_time": "2021-07-17T18:13:23.975Z"
   },
   {
    "duration": 392,
    "start_time": "2021-07-17T19:06:22.539Z"
   },
   {
    "duration": 10,
    "start_time": "2021-07-17T19:22:16.001Z"
   },
   {
    "duration": 111,
    "start_time": "2021-07-17T19:23:33.883Z"
   },
   {
    "duration": 120,
    "start_time": "2021-07-17T19:24:12.867Z"
   },
   {
    "duration": 331,
    "start_time": "2021-07-17T19:25:05.566Z"
   },
   {
    "duration": 341,
    "start_time": "2021-07-17T19:26:26.009Z"
   },
   {
    "duration": 12,
    "start_time": "2021-07-17T19:26:30.598Z"
   },
   {
    "duration": 11,
    "start_time": "2021-07-17T19:26:39.276Z"
   },
   {
    "duration": 51,
    "start_time": "2021-07-17T19:27:11.628Z"
   },
   {
    "duration": 52,
    "start_time": "2021-07-17T19:28:37.599Z"
   },
   {
    "duration": 59,
    "start_time": "2021-07-17T19:29:16.265Z"
   },
   {
    "duration": 54,
    "start_time": "2021-07-17T19:29:44.326Z"
   },
   {
    "duration": 319,
    "start_time": "2021-07-17T19:37:52.120Z"
   },
   {
    "duration": 11,
    "start_time": "2021-07-17T19:51:50.550Z"
   },
   {
    "duration": 51,
    "start_time": "2021-07-17T19:53:00.520Z"
   },
   {
    "duration": 29,
    "start_time": "2021-07-17T19:54:26.966Z"
   },
   {
    "duration": 427,
    "start_time": "2021-07-17T19:54:34.298Z"
   },
   {
    "duration": 345,
    "start_time": "2021-07-17T20:10:43.522Z"
   },
   {
    "duration": 261,
    "start_time": "2021-07-17T20:10:58.012Z"
   },
   {
    "duration": 15,
    "start_time": "2021-07-17T20:11:02.556Z"
   },
   {
    "duration": 13,
    "start_time": "2021-07-17T20:11:07.421Z"
   },
   {
    "duration": 1063,
    "start_time": "2021-07-18T06:08:18.389Z"
   },
   {
    "duration": 16,
    "start_time": "2021-07-18T06:08:47.251Z"
   },
   {
    "duration": 12,
    "start_time": "2021-07-18T06:08:51.287Z"
   },
   {
    "duration": 11,
    "start_time": "2021-07-18T06:08:54.358Z"
   },
   {
    "duration": 10,
    "start_time": "2021-07-18T06:08:56.869Z"
   },
   {
    "duration": 11,
    "start_time": "2021-07-18T06:09:00.056Z"
   },
   {
    "duration": 13,
    "start_time": "2021-07-18T06:09:04.658Z"
   },
   {
    "duration": 13,
    "start_time": "2021-07-18T06:09:07.032Z"
   },
   {
    "duration": 19,
    "start_time": "2021-07-18T06:09:43.973Z"
   },
   {
    "duration": 8,
    "start_time": "2021-07-18T06:09:46.885Z"
   },
   {
    "duration": 23,
    "start_time": "2021-07-18T06:09:50.093Z"
   },
   {
    "duration": 19,
    "start_time": "2021-07-18T06:09:53.904Z"
   },
   {
    "duration": 5,
    "start_time": "2021-07-18T06:09:56.760Z"
   },
   {
    "duration": 9,
    "start_time": "2021-07-18T06:10:00.381Z"
   },
   {
    "duration": 11,
    "start_time": "2021-07-18T06:10:06.739Z"
   },
   {
    "duration": 11,
    "start_time": "2021-07-18T06:10:12.469Z"
   },
   {
    "duration": 20,
    "start_time": "2021-07-18T06:10:19.055Z"
   },
   {
    "duration": 7,
    "start_time": "2021-07-18T06:10:21.941Z"
   },
   {
    "duration": 7,
    "start_time": "2021-07-18T06:10:24.375Z"
   },
   {
    "duration": 8,
    "start_time": "2021-07-18T06:10:27.017Z"
   },
   {
    "duration": 8,
    "start_time": "2021-07-18T06:10:29.508Z"
   },
   {
    "duration": 29,
    "start_time": "2021-07-18T06:10:35.459Z"
   },
   {
    "duration": 11,
    "start_time": "2021-07-18T06:10:41.595Z"
   },
   {
    "duration": 119,
    "start_time": "2021-07-18T06:10:44.061Z"
   },
   {
    "duration": 19,
    "start_time": "2021-07-18T06:10:48.595Z"
   },
   {
    "duration": 13,
    "start_time": "2021-07-18T06:10:51.570Z"
   },
   {
    "duration": 16,
    "start_time": "2021-07-18T06:11:45.403Z"
   },
   {
    "duration": 20,
    "start_time": "2021-07-18T06:11:54.793Z"
   },
   {
    "duration": 20,
    "start_time": "2021-07-18T06:12:44.497Z"
   },
   {
    "duration": 24,
    "start_time": "2021-07-18T06:12:50.561Z"
   },
   {
    "duration": 43,
    "start_time": "2021-07-18T06:12:58.643Z"
   },
   {
    "duration": 10,
    "start_time": "2021-07-18T06:13:02.390Z"
   },
   {
    "duration": 19,
    "start_time": "2021-07-18T06:13:06.540Z"
   },
   {
    "duration": 10,
    "start_time": "2021-07-18T06:13:11.735Z"
   },
   {
    "duration": 30,
    "start_time": "2021-07-18T06:13:30.501Z"
   },
   {
    "duration": 27,
    "start_time": "2021-07-18T06:13:34.157Z"
   },
   {
    "duration": 30,
    "start_time": "2021-07-18T06:13:40.124Z"
   },
   {
    "duration": 910,
    "start_time": "2021-07-18T06:13:48.187Z"
   },
   {
    "duration": 824,
    "start_time": "2021-07-18T06:13:53.827Z"
   },
   {
    "duration": 46,
    "start_time": "2021-07-18T06:13:59.282Z"
   },
   {
    "duration": 45,
    "start_time": "2021-07-18T06:14:02.046Z"
   },
   {
    "duration": 47,
    "start_time": "2021-07-18T06:14:04.813Z"
   },
   {
    "duration": 46,
    "start_time": "2021-07-18T06:14:07.261Z"
   },
   {
    "duration": 54,
    "start_time": "2021-07-18T06:14:13.853Z"
   },
   {
    "duration": 21,
    "start_time": "2021-07-18T06:15:54.288Z"
   },
   {
    "duration": 22,
    "start_time": "2021-07-18T06:15:58.542Z"
   },
   {
    "duration": 30,
    "start_time": "2021-07-18T06:16:10.720Z"
   },
   {
    "duration": 23,
    "start_time": "2021-07-18T06:16:14.483Z"
   },
   {
    "duration": 24,
    "start_time": "2021-07-18T06:16:17.676Z"
   },
   {
    "duration": 31,
    "start_time": "2021-07-18T06:22:19.001Z"
   },
   {
    "duration": 975,
    "start_time": "2021-07-18T06:25:39.586Z"
   },
   {
    "duration": 55,
    "start_time": "2021-07-18T06:43:26.804Z"
   },
   {
    "duration": 494,
    "start_time": "2021-07-18T06:50:41.788Z"
   },
   {
    "duration": 98,
    "start_time": "2021-07-18T06:50:59.869Z"
   },
   {
    "duration": 351,
    "start_time": "2021-07-18T06:51:06.529Z"
   },
   {
    "duration": 317,
    "start_time": "2021-07-18T06:52:16.972Z"
   },
   {
    "duration": 11,
    "start_time": "2021-07-18T06:52:27.273Z"
   },
   {
    "duration": 10,
    "start_time": "2021-07-18T06:53:04.651Z"
   },
   {
    "duration": 7702,
    "start_time": "2021-07-18T06:59:02.245Z"
   },
   {
    "duration": 731,
    "start_time": "2021-07-18T07:00:08.732Z"
   },
   {
    "duration": 309,
    "start_time": "2021-07-18T07:00:23.263Z"
   },
   {
    "duration": 7662,
    "start_time": "2021-07-18T07:00:56.569Z"
   },
   {
    "duration": 29,
    "start_time": "2021-07-18T07:01:23.130Z"
   },
   {
    "duration": 27,
    "start_time": "2021-07-18T07:02:24.121Z"
   },
   {
    "duration": 310,
    "start_time": "2021-07-18T07:06:00.985Z"
   },
   {
    "duration": 309,
    "start_time": "2021-07-18T07:06:09.857Z"
   },
   {
    "duration": 29,
    "start_time": "2021-07-18T07:12:33.840Z"
   },
   {
    "duration": 22,
    "start_time": "2021-07-18T07:15:20.493Z"
   },
   {
    "duration": 355,
    "start_time": "2021-07-18T09:19:17.101Z"
   },
   {
    "duration": 2062,
    "start_time": "2021-07-18T09:20:19.809Z"
   },
   {
    "duration": 284,
    "start_time": "2021-07-18T09:20:40.455Z"
   },
   {
    "duration": 276,
    "start_time": "2021-07-18T09:20:50.747Z"
   },
   {
    "duration": 282,
    "start_time": "2021-07-18T09:20:59.165Z"
   },
   {
    "duration": 4,
    "start_time": "2021-07-18T09:30:04.766Z"
   },
   {
    "duration": 725,
    "start_time": "2021-07-18T09:30:08.321Z"
   },
   {
    "duration": 323,
    "start_time": "2021-07-18T09:30:21.064Z"
   },
   {
    "duration": 17,
    "start_time": "2021-07-18T09:30:25.660Z"
   },
   {
    "duration": 14,
    "start_time": "2021-07-18T09:30:30.069Z"
   },
   {
    "duration": 11,
    "start_time": "2021-07-18T09:30:33.309Z"
   },
   {
    "duration": 10,
    "start_time": "2021-07-18T09:30:35.820Z"
   },
   {
    "duration": 11,
    "start_time": "2021-07-18T09:30:39.284Z"
   },
   {
    "duration": 41,
    "start_time": "2021-07-18T09:30:46.337Z"
   },
   {
    "duration": 14,
    "start_time": "2021-07-18T09:30:49.790Z"
   },
   {
    "duration": 14,
    "start_time": "2021-07-18T09:30:52.878Z"
   },
   {
    "duration": 6,
    "start_time": "2021-07-18T09:30:58.162Z"
   },
   {
    "duration": 18,
    "start_time": "2021-07-18T09:31:00.600Z"
   },
   {
    "duration": 7,
    "start_time": "2021-07-18T09:31:03.285Z"
   },
   {
    "duration": 22,
    "start_time": "2021-07-18T09:31:05.934Z"
   },
   {
    "duration": 20,
    "start_time": "2021-07-18T09:31:09.075Z"
   },
   {
    "duration": 5,
    "start_time": "2021-07-18T09:31:11.781Z"
   },
   {
    "duration": 8,
    "start_time": "2021-07-18T09:31:16.805Z"
   },
   {
    "duration": 8,
    "start_time": "2021-07-18T09:31:22.880Z"
   },
   {
    "duration": 12,
    "start_time": "2021-07-18T09:31:26.480Z"
   },
   {
    "duration": 11,
    "start_time": "2021-07-18T09:31:29.307Z"
   },
   {
    "duration": 18,
    "start_time": "2021-07-18T09:31:32.779Z"
   },
   {
    "duration": 7,
    "start_time": "2021-07-18T09:31:35.146Z"
   },
   {
    "duration": 6,
    "start_time": "2021-07-18T09:31:37.129Z"
   },
   {
    "duration": 7,
    "start_time": "2021-07-18T09:31:39.000Z"
   },
   {
    "duration": 8,
    "start_time": "2021-07-18T09:31:41.034Z"
   },
   {
    "duration": 28,
    "start_time": "2021-07-18T09:31:44.684Z"
   },
   {
    "duration": 17,
    "start_time": "2021-07-18T09:31:47.872Z"
   },
   {
    "duration": 9,
    "start_time": "2021-07-18T09:31:52.695Z"
   },
   {
    "duration": 17,
    "start_time": "2021-07-18T09:31:56.489Z"
   },
   {
    "duration": 11,
    "start_time": "2021-07-18T09:31:58.942Z"
   },
   {
    "duration": 16,
    "start_time": "2021-07-18T09:32:02.775Z"
   },
   {
    "duration": 18,
    "start_time": "2021-07-18T09:32:06.230Z"
   },
   {
    "duration": 24,
    "start_time": "2021-07-18T09:32:10.000Z"
   },
   {
    "duration": 43,
    "start_time": "2021-07-18T09:32:11.838Z"
   },
   {
    "duration": 11,
    "start_time": "2021-07-18T09:32:14.560Z"
   },
   {
    "duration": 23,
    "start_time": "2021-07-18T09:32:17.579Z"
   },
   {
    "duration": 33,
    "start_time": "2021-07-18T09:32:19.810Z"
   },
   {
    "duration": 25,
    "start_time": "2021-07-18T09:32:26.382Z"
   },
   {
    "duration": 99,
    "start_time": "2021-07-18T09:32:26.653Z"
   },
   {
    "duration": 36,
    "start_time": "2021-07-18T09:32:50.685Z"
   },
   {
    "duration": 889,
    "start_time": "2021-07-18T09:32:55.454Z"
   },
   {
    "duration": 291,
    "start_time": "2021-07-18T09:33:02.895Z"
   },
   {
    "duration": 45,
    "start_time": "2021-07-18T09:33:05.685Z"
   },
   {
    "duration": 48,
    "start_time": "2021-07-18T09:33:08.177Z"
   },
   {
    "duration": 51,
    "start_time": "2021-07-18T09:33:10.836Z"
   },
   {
    "duration": 45,
    "start_time": "2021-07-18T09:33:13.434Z"
   },
   {
    "duration": 58,
    "start_time": "2021-07-18T09:33:18.799Z"
   },
   {
    "duration": 29,
    "start_time": "2021-07-18T09:33:24.727Z"
   },
   {
    "duration": 14,
    "start_time": "2021-07-18T09:33:27.922Z"
   },
   {
    "duration": 23,
    "start_time": "2021-07-18T09:33:36.048Z"
   },
   {
    "duration": 10,
    "start_time": "2021-07-18T09:33:41.069Z"
   },
   {
    "duration": 26,
    "start_time": "2021-07-18T09:33:46.760Z"
   },
   {
    "duration": 12,
    "start_time": "2021-07-18T09:33:54.130Z"
   },
   {
    "duration": 12,
    "start_time": "2021-07-18T09:33:56.798Z"
   },
   {
    "duration": 12,
    "start_time": "2021-07-18T09:34:02.343Z"
   },
   {
    "duration": 65,
    "start_time": "2021-07-18T09:34:04.774Z"
   },
   {
    "duration": 61,
    "start_time": "2021-07-18T09:34:08.227Z"
   },
   {
    "duration": 21,
    "start_time": "2021-07-18T09:34:12.009Z"
   },
   {
    "duration": 14,
    "start_time": "2021-07-18T09:34:16.555Z"
   },
   {
    "duration": 51,
    "start_time": "2021-07-18T09:34:20.830Z"
   },
   {
    "duration": 10,
    "start_time": "2021-07-18T09:34:24.260Z"
   },
   {
    "duration": 11,
    "start_time": "2021-07-18T09:34:26.801Z"
   },
   {
    "duration": 53,
    "start_time": "2021-07-18T09:34:29.657Z"
   },
   {
    "duration": 23,
    "start_time": "2021-07-18T09:34:33.160Z"
   },
   {
    "duration": 331,
    "start_time": "2021-07-18T09:34:36.841Z"
   },
   {
    "duration": 72,
    "start_time": "2021-07-18T09:34:47.941Z"
   },
   {
    "duration": 4,
    "start_time": "2021-07-18T09:34:51.051Z"
   },
   {
    "duration": 272,
    "start_time": "2021-07-18T09:35:14.906Z"
   },
   {
    "duration": 31,
    "start_time": "2021-07-18T09:35:31.061Z"
   },
   {
    "duration": 24,
    "start_time": "2021-07-18T09:35:53.591Z"
   },
   {
    "duration": 24,
    "start_time": "2021-07-18T09:35:57.818Z"
   },
   {
    "duration": 984,
    "start_time": "2021-07-18T09:36:00.612Z"
   },
   {
    "duration": 37,
    "start_time": "2021-07-18T09:36:05.062Z"
   },
   {
    "duration": 47,
    "start_time": "2021-07-18T09:36:07.424Z"
   },
   {
    "duration": 45,
    "start_time": "2021-07-18T09:36:10.056Z"
   },
   {
    "duration": 50,
    "start_time": "2021-07-18T09:36:12.997Z"
   },
   {
    "duration": 45,
    "start_time": "2021-07-18T09:36:15.706Z"
   },
   {
    "duration": 53,
    "start_time": "2021-07-18T09:36:21.489Z"
   },
   {
    "duration": 27,
    "start_time": "2021-07-18T09:36:33.858Z"
   },
   {
    "duration": 20,
    "start_time": "2021-07-18T09:36:39.014Z"
   },
   {
    "duration": 409,
    "start_time": "2021-07-18T09:36:45.370Z"
   },
   {
    "duration": 5,
    "start_time": "2021-07-18T09:37:33.314Z"
   },
   {
    "duration": 6924,
    "start_time": "2021-07-18T09:37:38.416Z"
   },
   {
    "duration": 7261,
    "start_time": "2021-07-18T09:37:55.393Z"
   },
   {
    "duration": 6772,
    "start_time": "2021-07-18T09:40:01.957Z"
   },
   {
    "duration": 299,
    "start_time": "2021-07-18T09:42:10.009Z"
   },
   {
    "duration": 7069,
    "start_time": "2021-07-18T09:42:24.538Z"
   },
   {
    "duration": 22,
    "start_time": "2021-07-18T09:43:20.600Z"
   },
   {
    "duration": 22,
    "start_time": "2021-07-18T09:43:38.730Z"
   },
   {
    "duration": 27,
    "start_time": "2021-07-18T09:46:31.084Z"
   },
   {
    "duration": 21,
    "start_time": "2021-07-18T09:46:36.049Z"
   },
   {
    "duration": 27,
    "start_time": "2021-07-18T09:47:17.581Z"
   },
   {
    "duration": 16,
    "start_time": "2021-07-18T09:47:30.278Z"
   },
   {
    "duration": 12,
    "start_time": "2021-07-18T09:47:42.052Z"
   },
   {
    "duration": 26,
    "start_time": "2021-07-18T09:49:32.362Z"
   },
   {
    "duration": 23,
    "start_time": "2021-07-18T09:53:42.050Z"
   },
   {
    "duration": 26,
    "start_time": "2021-07-18T09:53:50.704Z"
   },
   {
    "duration": 4,
    "start_time": "2021-07-18T09:53:53.361Z"
   },
   {
    "duration": 3,
    "start_time": "2021-07-18T09:53:56.445Z"
   },
   {
    "duration": 25,
    "start_time": "2021-07-18T09:53:59.252Z"
   },
   {
    "duration": 26,
    "start_time": "2021-07-18T09:54:20.990Z"
   },
   {
    "duration": 3,
    "start_time": "2021-07-18T09:55:19.265Z"
   },
   {
    "duration": 6,
    "start_time": "2021-07-18T09:55:21.462Z"
   },
   {
    "duration": 3,
    "start_time": "2021-07-18T09:55:24.464Z"
   },
   {
    "duration": 6,
    "start_time": "2021-07-18T09:55:40.959Z"
   },
   {
    "duration": 25,
    "start_time": "2021-07-18T09:56:14.874Z"
   },
   {
    "duration": 1108,
    "start_time": "2021-07-18T09:58:05.539Z"
   },
   {
    "duration": 21,
    "start_time": "2021-07-18T09:59:05.083Z"
   },
   {
    "duration": 20,
    "start_time": "2021-07-18T09:59:46.405Z"
   },
   {
    "duration": 26,
    "start_time": "2021-07-18T10:01:01.126Z"
   },
   {
    "duration": 368,
    "start_time": "2021-07-18T10:11:19.426Z"
   },
   {
    "duration": 16,
    "start_time": "2021-07-18T10:11:37.072Z"
   },
   {
    "duration": 14,
    "start_time": "2021-07-18T10:21:35.613Z"
   },
   {
    "duration": 10,
    "start_time": "2021-07-18T10:21:54.609Z"
   },
   {
    "duration": 11,
    "start_time": "2021-07-18T10:21:56.984Z"
   },
   {
    "duration": 10,
    "start_time": "2021-07-18T10:22:00.158Z"
   },
   {
    "duration": 38,
    "start_time": "2021-07-18T10:22:02.355Z"
   },
   {
    "duration": 13,
    "start_time": "2021-07-18T10:22:10.620Z"
   },
   {
    "duration": 14,
    "start_time": "2021-07-18T10:22:33.930Z"
   },
   {
    "duration": 6,
    "start_time": "2021-07-18T10:22:37.444Z"
   },
   {
    "duration": 17,
    "start_time": "2021-07-18T10:22:39.932Z"
   },
   {
    "duration": 6,
    "start_time": "2021-07-18T10:22:42.693Z"
   },
   {
    "duration": 23,
    "start_time": "2021-07-18T10:22:45.025Z"
   },
   {
    "duration": 24,
    "start_time": "2021-07-18T10:22:48.992Z"
   },
   {
    "duration": 4,
    "start_time": "2021-07-18T10:22:51.422Z"
   },
   {
    "duration": 10,
    "start_time": "2021-07-18T10:22:53.960Z"
   },
   {
    "duration": 13,
    "start_time": "2021-07-18T10:22:57.034Z"
   },
   {
    "duration": 11,
    "start_time": "2021-07-18T10:22:59.841Z"
   },
   {
    "duration": 19,
    "start_time": "2021-07-18T10:23:03.265Z"
   },
   {
    "duration": 6,
    "start_time": "2021-07-18T10:23:05.744Z"
   },
   {
    "duration": 6,
    "start_time": "2021-07-18T10:23:08.348Z"
   },
   {
    "duration": 9,
    "start_time": "2021-07-18T10:23:11.197Z"
   },
   {
    "duration": 10,
    "start_time": "2021-07-18T10:23:14.733Z"
   },
   {
    "duration": 28,
    "start_time": "2021-07-18T10:23:18.553Z"
   },
   {
    "duration": 12,
    "start_time": "2021-07-18T10:23:23.107Z"
   },
   {
    "duration": 19,
    "start_time": "2021-07-18T10:23:25.878Z"
   },
   {
    "duration": 14,
    "start_time": "2021-07-18T10:23:28.855Z"
   },
   {
    "duration": 16,
    "start_time": "2021-07-18T10:23:31.741Z"
   },
   {
    "duration": 17,
    "start_time": "2021-07-18T10:23:34.852Z"
   },
   {
    "duration": 22,
    "start_time": "2021-07-18T10:23:39.415Z"
   },
   {
    "duration": 49,
    "start_time": "2021-07-18T10:23:50.702Z"
   },
   {
    "duration": 10,
    "start_time": "2021-07-18T10:23:54.216Z"
   },
   {
    "duration": 24,
    "start_time": "2021-07-18T10:24:02.542Z"
   },
   {
    "duration": 20,
    "start_time": "2021-07-18T10:24:06.244Z"
   },
   {
    "duration": 38,
    "start_time": "2021-07-18T10:24:09.288Z"
   },
   {
    "duration": 26,
    "start_time": "2021-07-18T10:24:13.511Z"
   },
   {
    "duration": 24,
    "start_time": "2021-07-18T10:24:18.835Z"
   },
   {
    "duration": 990,
    "start_time": "2021-07-18T10:24:22.355Z"
   },
   {
    "duration": 56,
    "start_time": "2021-07-18T10:24:27.273Z"
   },
   {
    "duration": 52,
    "start_time": "2021-07-18T10:24:30.087Z"
   },
   {
    "duration": 51,
    "start_time": "2021-07-18T10:24:32.368Z"
   },
   {
    "duration": 54,
    "start_time": "2021-07-18T10:24:34.590Z"
   },
   {
    "duration": 44,
    "start_time": "2021-07-18T10:24:36.746Z"
   },
   {
    "duration": 54,
    "start_time": "2021-07-18T10:24:41.834Z"
   },
   {
    "duration": 30,
    "start_time": "2021-07-18T10:24:45.861Z"
   },
   {
    "duration": 15,
    "start_time": "2021-07-18T10:24:49.017Z"
   },
   {
    "duration": 22,
    "start_time": "2021-07-18T10:24:51.465Z"
   },
   {
    "duration": 12,
    "start_time": "2021-07-18T10:24:55.618Z"
   },
   {
    "duration": 28,
    "start_time": "2021-07-18T10:24:58.169Z"
   },
   {
    "duration": 20,
    "start_time": "2021-07-18T10:25:10.049Z"
   },
   {
    "duration": 13,
    "start_time": "2021-07-18T10:25:18.792Z"
   },
   {
    "duration": 12,
    "start_time": "2021-07-18T10:25:21.655Z"
   },
   {
    "duration": 12,
    "start_time": "2021-07-18T10:25:31.445Z"
   },
   {
    "duration": 14,
    "start_time": "2021-07-18T10:25:34.615Z"
   },
   {
    "duration": 66,
    "start_time": "2021-07-18T10:25:37.598Z"
   },
   {
    "duration": 65,
    "start_time": "2021-07-18T10:25:41.897Z"
   },
   {
    "duration": 27,
    "start_time": "2021-07-18T10:25:44.988Z"
   },
   {
    "duration": 14,
    "start_time": "2021-07-18T10:25:48.762Z"
   },
   {
    "duration": 27,
    "start_time": "2021-07-18T10:25:52.917Z"
   },
   {
    "duration": 31,
    "start_time": "2021-07-18T10:26:03.480Z"
   },
   {
    "duration": 313,
    "start_time": "2021-07-18T19:37:20.014Z"
   },
   {
    "duration": 812,
    "start_time": "2021-07-18T19:37:30.897Z"
   },
   {
    "duration": 11,
    "start_time": "2021-07-18T19:37:36.522Z"
   },
   {
    "duration": 9,
    "start_time": "2021-07-18T19:37:41.717Z"
   },
   {
    "duration": 12,
    "start_time": "2021-07-18T19:58:22.505Z"
   },
   {
    "duration": 7,
    "start_time": "2021-07-18T20:00:14.112Z"
   },
   {
    "duration": 13,
    "start_time": "2021-07-18T20:00:18.932Z"
   },
   {
    "duration": 5,
    "start_time": "2021-07-18T20:00:25.477Z"
   },
   {
    "duration": 5,
    "start_time": "2021-07-18T20:00:29.458Z"
   },
   {
    "duration": 5,
    "start_time": "2021-07-18T20:00:31.505Z"
   },
   {
    "duration": 6,
    "start_time": "2021-07-18T20:00:34.511Z"
   },
   {
    "duration": 483,
    "start_time": "2021-07-19T15:46:25.201Z"
   },
   {
    "duration": 1269,
    "start_time": "2021-07-19T15:46:34.355Z"
   },
   {
    "duration": 16,
    "start_time": "2021-07-19T15:46:40.164Z"
   },
   {
    "duration": 14,
    "start_time": "2021-07-19T15:46:44.934Z"
   },
   {
    "duration": 14,
    "start_time": "2021-07-19T15:46:48.644Z"
   },
   {
    "duration": 12,
    "start_time": "2021-07-19T15:46:50.844Z"
   },
   {
    "duration": 11,
    "start_time": "2021-07-19T15:46:53.051Z"
   },
   {
    "duration": 40,
    "start_time": "2021-07-19T15:46:58.881Z"
   },
   {
    "duration": 15,
    "start_time": "2021-07-19T15:47:02.094Z"
   },
   {
    "duration": 15,
    "start_time": "2021-07-19T15:47:04.612Z"
   },
   {
    "duration": 6,
    "start_time": "2021-07-19T15:47:07.767Z"
   },
   {
    "duration": 18,
    "start_time": "2021-07-19T15:47:11.613Z"
   },
   {
    "duration": 6,
    "start_time": "2021-07-19T15:47:13.770Z"
   },
   {
    "duration": 22,
    "start_time": "2021-07-19T15:47:16.695Z"
   },
   {
    "duration": 24,
    "start_time": "2021-07-19T15:47:29.517Z"
   },
   {
    "duration": 31,
    "start_time": "2021-07-19T15:47:32.450Z"
   },
   {
    "duration": 25,
    "start_time": "2021-07-19T15:47:39.205Z"
   },
   {
    "duration": 36,
    "start_time": "2021-07-19T15:47:42.445Z"
   },
   {
    "duration": 896,
    "start_time": "2021-07-19T15:47:47.670Z"
   },
   {
    "duration": 32,
    "start_time": "2021-07-19T15:52:56.266Z"
   },
   {
    "duration": 14,
    "start_time": "2021-07-19T15:53:00.544Z"
   },
   {
    "duration": 22,
    "start_time": "2021-07-19T15:53:03.145Z"
   },
   {
    "duration": 39,
    "start_time": "2021-07-19T15:53:05.817Z"
   },
   {
    "duration": 37,
    "start_time": "2021-07-19T15:53:13.660Z"
   },
   {
    "duration": 12,
    "start_time": "2021-07-19T15:53:19.144Z"
   },
   {
    "duration": 32,
    "start_time": "2021-07-19T15:53:22.372Z"
   },
   {
    "duration": 12,
    "start_time": "2021-07-19T15:53:27.170Z"
   },
   {
    "duration": 11,
    "start_time": "2021-07-19T15:53:48.584Z"
   },
   {
    "duration": 14,
    "start_time": "2021-07-19T15:53:51.108Z"
   },
   {
    "duration": 16,
    "start_time": "2021-07-19T15:53:54.307Z"
   },
   {
    "duration": 87,
    "start_time": "2021-07-19T15:53:56.832Z"
   },
   {
    "duration": 85,
    "start_time": "2021-07-19T15:54:00.413Z"
   },
   {
    "duration": 22,
    "start_time": "2021-07-19T15:54:03.912Z"
   },
   {
    "duration": 16,
    "start_time": "2021-07-19T15:54:07.424Z"
   },
   {
    "duration": 23,
    "start_time": "2021-07-19T15:54:10.752Z"
   },
   {
    "duration": 18,
    "start_time": "2021-07-19T15:54:29.546Z"
   },
   {
    "duration": 369,
    "start_time": "2021-07-19T15:54:33.850Z"
   },
   {
    "duration": 28,
    "start_time": "2021-07-19T15:54:55.850Z"
   },
   {
    "duration": 57,
    "start_time": "2021-07-19T15:54:58.368Z"
   },
   {
    "duration": 56,
    "start_time": "2021-07-19T15:55:51.501Z"
   },
   {
    "duration": 10,
    "start_time": "2021-07-19T15:55:54.358Z"
   },
   {
    "duration": 23,
    "start_time": "2021-07-19T15:56:41.691Z"
   },
   {
    "duration": 876,
    "start_time": "2021-07-19T19:54:03.555Z"
   },
   {
    "duration": 10,
    "start_time": "2021-07-19T19:54:08.229Z"
   },
   {
    "duration": 9,
    "start_time": "2021-07-19T19:54:13.326Z"
   },
   {
    "duration": 7,
    "start_time": "2021-07-19T19:54:17.863Z"
   },
   {
    "duration": 7,
    "start_time": "2021-07-19T19:54:20.513Z"
   },
   {
    "duration": 7,
    "start_time": "2021-07-19T19:54:23.333Z"
   },
   {
    "duration": 23,
    "start_time": "2021-07-19T19:54:29.973Z"
   },
   {
    "duration": 10,
    "start_time": "2021-07-19T19:54:33.081Z"
   },
   {
    "duration": 10,
    "start_time": "2021-07-19T19:54:35.567Z"
   },
   {
    "duration": 4,
    "start_time": "2021-07-19T19:54:39.536Z"
   },
   {
    "duration": 11,
    "start_time": "2021-07-19T19:54:43.208Z"
   },
   {
    "duration": 5,
    "start_time": "2021-07-19T19:54:46.867Z"
   },
   {
    "duration": 13,
    "start_time": "2021-07-19T19:54:50.267Z"
   },
   {
    "duration": 3,
    "start_time": "2021-07-19T19:54:55.109Z"
   },
   {
    "duration": 6,
    "start_time": "2021-07-19T19:54:57.892Z"
   },
   {
    "duration": 7,
    "start_time": "2021-07-19T19:55:00.720Z"
   },
   {
    "duration": 7,
    "start_time": "2021-07-19T19:55:03.710Z"
   },
   {
    "duration": 13,
    "start_time": "2021-07-19T19:55:06.572Z"
   },
   {
    "duration": 5,
    "start_time": "2021-07-19T19:55:09.231Z"
   },
   {
    "duration": 4,
    "start_time": "2021-07-19T19:55:10.716Z"
   },
   {
    "duration": 6,
    "start_time": "2021-07-19T19:55:12.560Z"
   },
   {
    "duration": 5,
    "start_time": "2021-07-19T19:55:15.169Z"
   },
   {
    "duration": 16,
    "start_time": "2021-07-19T19:55:19.097Z"
   },
   {
    "duration": 11,
    "start_time": "2021-07-19T19:55:22.893Z"
   },
   {
    "duration": 7,
    "start_time": "2021-07-19T19:55:26.652Z"
   },
   {
    "duration": 9,
    "start_time": "2021-07-19T19:55:31.288Z"
   },
   {
    "duration": 9,
    "start_time": "2021-07-19T19:55:48.268Z"
   },
   {
    "duration": 12,
    "start_time": "2021-07-19T19:55:52.122Z"
   },
   {
    "duration": 16,
    "start_time": "2021-07-19T19:55:56.533Z"
   },
   {
    "duration": 27,
    "start_time": "2021-07-19T19:55:59.636Z"
   },
   {
    "duration": 7,
    "start_time": "2021-07-19T19:56:02.860Z"
   },
   {
    "duration": 16,
    "start_time": "2021-07-19T19:56:06.418Z"
   },
   {
    "duration": 12,
    "start_time": "2021-07-19T19:56:11.608Z"
   },
   {
    "duration": 19,
    "start_time": "2021-07-19T19:56:14.491Z"
   },
   {
    "duration": 18,
    "start_time": "2021-07-19T19:56:20.942Z"
   },
   {
    "duration": 21,
    "start_time": "2021-07-19T19:56:26.841Z"
   },
   {
    "duration": 665,
    "start_time": "2021-07-19T19:56:30.146Z"
   },
   {
    "duration": 597,
    "start_time": "2021-07-19T19:56:34.712Z"
   },
   {
    "duration": 27,
    "start_time": "2021-07-19T19:56:38.101Z"
   },
   {
    "duration": 29,
    "start_time": "2021-07-19T19:56:40.894Z"
   },
   {
    "duration": 27,
    "start_time": "2021-07-19T19:56:43.629Z"
   },
   {
    "duration": 28,
    "start_time": "2021-07-19T19:56:46.163Z"
   },
   {
    "duration": 34,
    "start_time": "2021-07-19T19:56:52.577Z"
   },
   {
    "duration": 18,
    "start_time": "2021-07-19T19:57:02.449Z"
   },
   {
    "duration": 8,
    "start_time": "2021-07-19T19:57:05.724Z"
   },
   {
    "duration": 14,
    "start_time": "2021-07-19T19:57:08.444Z"
   },
   {
    "duration": 13,
    "start_time": "2021-07-19T19:57:12.048Z"
   },
   {
    "duration": 23,
    "start_time": "2021-07-19T19:57:19.181Z"
   },
   {
    "duration": 8,
    "start_time": "2021-07-19T19:57:24.053Z"
   },
   {
    "duration": 20,
    "start_time": "2021-07-19T19:57:28.420Z"
   },
   {
    "duration": 22,
    "start_time": "2021-07-19T19:57:33.586Z"
   },
   {
    "duration": 13,
    "start_time": "2021-07-19T19:57:36.918Z"
   },
   {
    "duration": 9,
    "start_time": "2021-07-19T19:57:41.219Z"
   },
   {
    "duration": 8,
    "start_time": "2021-07-19T19:57:44.678Z"
   },
   {
    "duration": 8,
    "start_time": "2021-07-19T19:57:48.092Z"
   },
   {
    "duration": 38,
    "start_time": "2021-07-19T19:57:51.348Z"
   },
   {
    "duration": 37,
    "start_time": "2021-07-19T19:57:54.110Z"
   },
   {
    "duration": 16,
    "start_time": "2021-07-19T19:58:04.648Z"
   },
   {
    "duration": 8,
    "start_time": "2021-07-19T19:58:09.029Z"
   },
   {
    "duration": 8,
    "start_time": "2021-07-19T19:58:19.697Z"
   },
   {
    "duration": 9,
    "start_time": "2021-07-19T19:58:41.933Z"
   },
   {
    "duration": 13,
    "start_time": "2021-07-19T19:58:47.739Z"
   },
   {
    "duration": 88,
    "start_time": "2021-07-19T20:03:58.520Z"
   },
   {
    "duration": 124,
    "start_time": "2021-07-19T20:05:24.689Z"
   },
   {
    "duration": 95,
    "start_time": "2021-07-19T20:06:03.384Z"
   },
   {
    "duration": 93,
    "start_time": "2021-07-19T20:06:56.793Z"
   },
   {
    "duration": 88,
    "start_time": "2021-07-19T20:07:27.669Z"
   },
   {
    "duration": 87,
    "start_time": "2021-07-19T20:08:06.897Z"
   },
   {
    "duration": 366,
    "start_time": "2021-07-19T20:08:54.962Z"
   },
   {
    "duration": 283,
    "start_time": "2021-07-19T20:09:24.621Z"
   },
   {
    "duration": 89,
    "start_time": "2021-07-19T20:10:01.795Z"
   },
   {
    "duration": 10,
    "start_time": "2021-07-19T20:11:20.313Z"
   },
   {
    "duration": 10,
    "start_time": "2021-07-19T20:11:56.403Z"
   },
   {
    "duration": 259,
    "start_time": "2021-07-19T20:12:13.890Z"
   },
   {
    "duration": 6628,
    "start_time": "2021-07-19T20:12:44.590Z"
   },
   {
    "duration": 19,
    "start_time": "2021-07-19T20:13:12.613Z"
   },
   {
    "duration": 24,
    "start_time": "2021-07-19T20:14:05.107Z"
   },
   {
    "duration": 296,
    "start_time": "2021-07-19T20:17:53.693Z"
   },
   {
    "duration": 17,
    "start_time": "2021-07-19T20:19:39.502Z"
   },
   {
    "duration": 272,
    "start_time": "2021-07-19T20:25:24.643Z"
   },
   {
    "duration": 275,
    "start_time": "2021-07-19T20:26:35.137Z"
   },
   {
    "duration": 10,
    "start_time": "2021-07-19T20:34:25.052Z"
   },
   {
    "duration": 351,
    "start_time": "2021-07-19T20:35:05.552Z"
   },
   {
    "duration": 10,
    "start_time": "2021-07-19T20:35:14.532Z"
   },
   {
    "duration": 262,
    "start_time": "2021-07-19T20:41:40.084Z"
   },
   {
    "duration": 258,
    "start_time": "2021-07-19T20:41:52.776Z"
   },
   {
    "duration": 1118,
    "start_time": "2021-07-20T06:39:02.370Z"
   },
   {
    "duration": 14,
    "start_time": "2021-07-20T06:39:08.439Z"
   },
   {
    "duration": 27,
    "start_time": "2021-07-20T06:41:08.929Z"
   },
   {
    "duration": 13,
    "start_time": "2021-07-20T06:41:26.386Z"
   },
   {
    "duration": 10,
    "start_time": "2021-07-20T06:41:29.029Z"
   },
   {
    "duration": 10,
    "start_time": "2021-07-20T06:41:31.298Z"
   },
   {
    "duration": 11,
    "start_time": "2021-07-20T06:41:33.926Z"
   },
   {
    "duration": 9,
    "start_time": "2021-07-20T06:41:46.314Z"
   },
   {
    "duration": 11,
    "start_time": "2021-07-20T06:41:49.458Z"
   },
   {
    "duration": 14,
    "start_time": "2021-07-20T06:41:56.528Z"
   },
   {
    "duration": 40,
    "start_time": "2021-07-20T06:42:08.829Z"
   },
   {
    "duration": 6859,
    "start_time": "2021-07-20T06:44:06.362Z"
   },
   {
    "duration": 272,
    "start_time": "2021-07-20T06:44:30.735Z"
   },
   {
    "duration": 35,
    "start_time": "2021-07-20T06:44:48.339Z"
   },
   {
    "duration": 13,
    "start_time": "2021-07-20T06:44:51.857Z"
   },
   {
    "duration": 21,
    "start_time": "2021-07-20T06:44:54.537Z"
   },
   {
    "duration": 10,
    "start_time": "2021-07-20T06:45:00.727Z"
   },
   {
    "duration": 32,
    "start_time": "2021-07-20T06:45:05.747Z"
   },
   {
    "duration": 20,
    "start_time": "2021-07-20T06:45:09.516Z"
   },
   {
    "duration": 33,
    "start_time": "2021-07-20T06:45:16.452Z"
   },
   {
    "duration": 266,
    "start_time": "2021-07-20T06:54:54.054Z"
   },
   {
    "duration": 34,
    "start_time": "2021-07-20T06:55:34.605Z"
   },
   {
    "duration": 273,
    "start_time": "2021-07-20T06:56:07.361Z"
   },
   {
    "duration": 33,
    "start_time": "2021-07-20T06:57:00.898Z"
   },
   {
    "duration": 5412,
    "start_time": "2021-07-20T06:58:00.725Z"
   },
   {
    "duration": 4717,
    "start_time": "2021-07-20T06:59:05.122Z"
   },
   {
    "duration": 4803,
    "start_time": "2021-07-20T06:59:37.491Z"
   },
   {
    "duration": 4743,
    "start_time": "2021-07-20T06:59:48.374Z"
   },
   {
    "duration": 258,
    "start_time": "2021-07-20T07:00:43.482Z"
   },
   {
    "duration": 275,
    "start_time": "2021-07-20T07:12:36.951Z"
   },
   {
    "duration": 325,
    "start_time": "2021-07-20T07:13:14.459Z"
   },
   {
    "duration": 257,
    "start_time": "2021-07-20T07:15:16.407Z"
   },
   {
    "duration": 291,
    "start_time": "2021-07-20T07:16:06.793Z"
   },
   {
    "duration": 292,
    "start_time": "2021-07-20T07:18:59.211Z"
   },
   {
    "duration": 566,
    "start_time": "2021-07-20T07:20:35.214Z"
   },
   {
    "duration": 278,
    "start_time": "2021-07-20T07:24:31.653Z"
   },
   {
    "duration": 10,
    "start_time": "2021-07-20T07:25:01.801Z"
   },
   {
    "duration": 652,
    "start_time": "2021-07-20T07:26:34.335Z"
   },
   {
    "duration": 277,
    "start_time": "2021-07-20T07:29:46.786Z"
   },
   {
    "duration": 277,
    "start_time": "2021-07-20T07:33:30.749Z"
   },
   {
    "duration": 313,
    "start_time": "2021-07-20T07:34:03.895Z"
   },
   {
    "duration": 259,
    "start_time": "2021-07-20T07:34:18.336Z"
   },
   {
    "duration": 314,
    "start_time": "2021-07-20T07:34:50.789Z"
   },
   {
    "duration": 270,
    "start_time": "2021-07-20T07:37:31.692Z"
   },
   {
    "duration": 47,
    "start_time": "2021-07-20T07:39:52.028Z"
   },
   {
    "duration": 10,
    "start_time": "2021-07-20T07:40:00.921Z"
   },
   {
    "duration": 22,
    "start_time": "2021-07-20T07:40:07.350Z"
   },
   {
    "duration": 10,
    "start_time": "2021-07-20T07:40:16.779Z"
   },
   {
    "duration": 23,
    "start_time": "2021-07-20T07:40:21.683Z"
   },
   {
    "duration": 24,
    "start_time": "2021-07-20T07:42:16.516Z"
   },
   {
    "duration": 20,
    "start_time": "2021-07-20T07:42:22.102Z"
   },
   {
    "duration": 19,
    "start_time": "2021-07-20T07:51:58.252Z"
   },
   {
    "duration": 28,
    "start_time": "2021-07-20T07:53:32.061Z"
   },
   {
    "duration": 22,
    "start_time": "2021-07-20T08:04:43.105Z"
   },
   {
    "duration": 25,
    "start_time": "2021-07-20T08:20:44.205Z"
   },
   {
    "duration": 23,
    "start_time": "2021-07-20T08:20:56.855Z"
   },
   {
    "duration": 30,
    "start_time": "2021-07-20T08:21:00.374Z"
   },
   {
    "duration": 896,
    "start_time": "2021-07-20T08:21:02.953Z"
   },
   {
    "duration": 881,
    "start_time": "2021-07-20T08:21:05.965Z"
   },
   {
    "duration": 878,
    "start_time": "2021-07-20T08:21:10.503Z"
   },
   {
    "duration": 780,
    "start_time": "2021-07-20T08:21:14.525Z"
   },
   {
    "duration": 45,
    "start_time": "2021-07-20T08:21:17.105Z"
   },
   {
    "duration": 42,
    "start_time": "2021-07-20T08:21:19.885Z"
   },
   {
    "duration": 42,
    "start_time": "2021-07-20T08:21:22.266Z"
   },
   {
    "duration": 43,
    "start_time": "2021-07-20T08:21:24.585Z"
   },
   {
    "duration": 57,
    "start_time": "2021-07-20T08:21:31.732Z"
   },
   {
    "duration": 25,
    "start_time": "2021-07-20T08:22:12.325Z"
   },
   {
    "duration": 22,
    "start_time": "2021-07-20T08:30:32.051Z"
   },
   {
    "duration": 23,
    "start_time": "2021-07-20T08:30:38.681Z"
   },
   {
    "duration": 10,
    "start_time": "2021-07-20T09:21:29.367Z"
   },
   {
    "duration": 13,
    "start_time": "2021-07-20T09:24:09.845Z"
   },
   {
    "duration": 11,
    "start_time": "2021-07-20T09:24:24.996Z"
   },
   {
    "duration": 5,
    "start_time": "2021-07-20T09:28:14.113Z"
   },
   {
    "duration": 6,
    "start_time": "2021-07-20T09:29:55.733Z"
   },
   {
    "duration": 5,
    "start_time": "2021-07-20T09:32:11.987Z"
   },
   {
    "duration": 27,
    "start_time": "2021-07-20T09:36:17.357Z"
   },
   {
    "duration": 305,
    "start_time": "2021-07-20T14:09:47.724Z"
   },
   {
    "duration": 259,
    "start_time": "2021-07-20T14:10:17.270Z"
   },
   {
    "duration": 829,
    "start_time": "2021-07-20T14:10:43.825Z"
   },
   {
    "duration": 344,
    "start_time": "2021-07-20T14:10:55.709Z"
   },
   {
    "duration": 290,
    "start_time": "2021-07-20T14:11:09.321Z"
   },
   {
    "duration": 347,
    "start_time": "2021-07-20T14:11:34.858Z"
   },
   {
    "duration": 499,
    "start_time": "2021-07-20T14:12:55.521Z"
   },
   {
    "duration": 33,
    "start_time": "2021-07-20T14:13:47.614Z"
   },
   {
    "duration": 268,
    "start_time": "2021-07-20T14:14:13.220Z"
   },
   {
    "duration": 24,
    "start_time": "2021-07-20T14:16:45.401Z"
   },
   {
    "duration": 229,
    "start_time": "2021-07-20T14:18:11.117Z"
   },
   {
    "duration": 577,
    "start_time": "2021-07-20T14:18:24.248Z"
   },
   {
    "duration": 220,
    "start_time": "2021-07-20T14:18:27.279Z"
   },
   {
    "duration": 148,
    "start_time": "2021-07-20T14:18:29.022Z"
   },
   {
    "duration": 159,
    "start_time": "2021-07-20T14:20:03.350Z"
   },
   {
    "duration": 10,
    "start_time": "2021-07-20T14:20:03.510Z"
   },
   {
    "duration": 8,
    "start_time": "2021-07-20T14:20:03.522Z"
   },
   {
    "duration": 11,
    "start_time": "2021-07-20T14:20:03.531Z"
   },
   {
    "duration": 6,
    "start_time": "2021-07-20T14:20:03.543Z"
   },
   {
    "duration": 14,
    "start_time": "2021-07-20T14:20:03.551Z"
   },
   {
    "duration": 23,
    "start_time": "2021-07-20T14:20:03.566Z"
   },
   {
    "duration": 9,
    "start_time": "2021-07-20T14:20:03.591Z"
   },
   {
    "duration": 42,
    "start_time": "2021-07-20T14:20:03.603Z"
   },
   {
    "duration": 4,
    "start_time": "2021-07-20T14:20:03.648Z"
   },
   {
    "duration": 11,
    "start_time": "2021-07-20T14:20:03.654Z"
   },
   {
    "duration": 99,
    "start_time": "2021-07-20T14:20:03.666Z"
   },
   {
    "duration": -1123,
    "start_time": "2021-07-20T14:20:04.891Z"
   },
   {
    "duration": -1128,
    "start_time": "2021-07-20T14:20:04.897Z"
   },
   {
    "duration": -1136,
    "start_time": "2021-07-20T14:20:04.905Z"
   },
   {
    "duration": -1142,
    "start_time": "2021-07-20T14:20:04.912Z"
   },
   {
    "duration": -1149,
    "start_time": "2021-07-20T14:20:04.920Z"
   },
   {
    "duration": -1154,
    "start_time": "2021-07-20T14:20:04.926Z"
   },
   {
    "duration": -1160,
    "start_time": "2021-07-20T14:20:04.933Z"
   },
   {
    "duration": -1166,
    "start_time": "2021-07-20T14:20:04.939Z"
   },
   {
    "duration": -1172,
    "start_time": "2021-07-20T14:20:04.946Z"
   },
   {
    "duration": -1177,
    "start_time": "2021-07-20T14:20:04.952Z"
   },
   {
    "duration": -1185,
    "start_time": "2021-07-20T14:20:04.960Z"
   },
   {
    "duration": -1192,
    "start_time": "2021-07-20T14:20:04.969Z"
   },
   {
    "duration": -1199,
    "start_time": "2021-07-20T14:20:04.977Z"
   },
   {
    "duration": -1248,
    "start_time": "2021-07-20T14:20:05.026Z"
   },
   {
    "duration": -1259,
    "start_time": "2021-07-20T14:20:05.038Z"
   },
   {
    "duration": -1266,
    "start_time": "2021-07-20T14:20:05.046Z"
   },
   {
    "duration": -1275,
    "start_time": "2021-07-20T14:20:05.056Z"
   },
   {
    "duration": -1284,
    "start_time": "2021-07-20T14:20:05.065Z"
   },
   {
    "duration": -1291,
    "start_time": "2021-07-20T14:20:05.073Z"
   },
   {
    "duration": -1299,
    "start_time": "2021-07-20T14:20:05.082Z"
   },
   {
    "duration": -1307,
    "start_time": "2021-07-20T14:20:05.091Z"
   },
   {
    "duration": -1313,
    "start_time": "2021-07-20T14:20:05.098Z"
   },
   {
    "duration": -1321,
    "start_time": "2021-07-20T14:20:05.107Z"
   },
   {
    "duration": -1328,
    "start_time": "2021-07-20T14:20:05.115Z"
   },
   {
    "duration": -1335,
    "start_time": "2021-07-20T14:20:05.123Z"
   },
   {
    "duration": -1364,
    "start_time": "2021-07-20T14:20:05.153Z"
   },
   {
    "duration": -1371,
    "start_time": "2021-07-20T14:20:05.161Z"
   },
   {
    "duration": -1376,
    "start_time": "2021-07-20T14:20:05.166Z"
   },
   {
    "duration": -1381,
    "start_time": "2021-07-20T14:20:05.172Z"
   },
   {
    "duration": -1386,
    "start_time": "2021-07-20T14:20:05.178Z"
   },
   {
    "duration": -1394,
    "start_time": "2021-07-20T14:20:05.187Z"
   },
   {
    "duration": -1401,
    "start_time": "2021-07-20T14:20:05.195Z"
   },
   {
    "duration": -1408,
    "start_time": "2021-07-20T14:20:05.204Z"
   },
   {
    "duration": -1416,
    "start_time": "2021-07-20T14:20:05.212Z"
   },
   {
    "duration": -1422,
    "start_time": "2021-07-20T14:20:05.219Z"
   },
   {
    "duration": -1426,
    "start_time": "2021-07-20T14:20:05.224Z"
   },
   {
    "duration": -1430,
    "start_time": "2021-07-20T14:20:05.229Z"
   },
   {
    "duration": -1435,
    "start_time": "2021-07-20T14:20:05.235Z"
   },
   {
    "duration": -1440,
    "start_time": "2021-07-20T14:20:05.241Z"
   },
   {
    "duration": -1444,
    "start_time": "2021-07-20T14:20:05.246Z"
   },
   {
    "duration": -1448,
    "start_time": "2021-07-20T14:20:05.251Z"
   },
   {
    "duration": -1492,
    "start_time": "2021-07-20T14:20:05.296Z"
   },
   {
    "duration": -1462,
    "start_time": "2021-07-20T14:20:05.303Z"
   },
   {
    "duration": -1467,
    "start_time": "2021-07-20T14:20:05.308Z"
   },
   {
    "duration": -1473,
    "start_time": "2021-07-20T14:20:05.316Z"
   },
   {
    "duration": -1478,
    "start_time": "2021-07-20T14:20:05.321Z"
   },
   {
    "duration": -1481,
    "start_time": "2021-07-20T14:20:05.326Z"
   },
   {
    "duration": -1484,
    "start_time": "2021-07-20T14:20:05.331Z"
   },
   {
    "duration": 374,
    "start_time": "2021-07-20T14:20:03.849Z"
   },
   {
    "duration": -1390,
    "start_time": "2021-07-20T14:20:05.615Z"
   },
   {
    "duration": -1398,
    "start_time": "2021-07-20T14:20:05.624Z"
   },
   {
    "duration": -1409,
    "start_time": "2021-07-20T14:20:05.636Z"
   },
   {
    "duration": -1416,
    "start_time": "2021-07-20T14:20:05.644Z"
   },
   {
    "duration": -1426,
    "start_time": "2021-07-20T14:20:05.655Z"
   },
   {
    "duration": -1434,
    "start_time": "2021-07-20T14:20:05.664Z"
   },
   {
    "duration": -1511,
    "start_time": "2021-07-20T14:20:05.742Z"
   },
   {
    "duration": -1518,
    "start_time": "2021-07-20T14:20:05.750Z"
   },
   {
    "duration": -1527,
    "start_time": "2021-07-20T14:20:05.760Z"
   },
   {
    "duration": 8,
    "start_time": "2021-07-20T14:20:44.872Z"
   },
   {
    "duration": 9,
    "start_time": "2021-07-20T14:20:50.612Z"
   },
   {
    "duration": 16,
    "start_time": "2021-07-20T14:20:54.512Z"
   },
   {
    "duration": 273,
    "start_time": "2021-07-20T14:20:57.504Z"
   },
   {
    "duration": 131,
    "start_time": "2021-07-20T14:22:45.053Z"
   },
   {
    "duration": 10,
    "start_time": "2021-07-20T14:22:45.185Z"
   },
   {
    "duration": 16,
    "start_time": "2021-07-20T14:22:45.197Z"
   },
   {
    "duration": 14,
    "start_time": "2021-07-20T14:22:45.214Z"
   },
   {
    "duration": 15,
    "start_time": "2021-07-20T14:22:45.229Z"
   },
   {
    "duration": 9,
    "start_time": "2021-07-20T14:22:45.246Z"
   },
   {
    "duration": 24,
    "start_time": "2021-07-20T14:22:45.256Z"
   },
   {
    "duration": 8,
    "start_time": "2021-07-20T14:22:45.282Z"
   },
   {
    "duration": 11,
    "start_time": "2021-07-20T14:22:45.292Z"
   },
   {
    "duration": 8,
    "start_time": "2021-07-20T14:22:45.305Z"
   },
   {
    "duration": 32,
    "start_time": "2021-07-20T14:22:45.314Z"
   },
   {
    "duration": 180,
    "start_time": "2021-07-20T14:22:45.347Z"
   },
   {
    "duration": -1148,
    "start_time": "2021-07-20T14:22:46.676Z"
   },
   {
    "duration": -1153,
    "start_time": "2021-07-20T14:22:46.682Z"
   },
   {
    "duration": -1160,
    "start_time": "2021-07-20T14:22:46.690Z"
   },
   {
    "duration": -1169,
    "start_time": "2021-07-20T14:22:46.700Z"
   },
   {
    "duration": -1176,
    "start_time": "2021-07-20T14:22:46.708Z"
   },
   {
    "duration": -1185,
    "start_time": "2021-07-20T14:22:46.718Z"
   },
   {
    "duration": -1223,
    "start_time": "2021-07-20T14:22:46.757Z"
   },
   {
    "duration": -1231,
    "start_time": "2021-07-20T14:22:46.766Z"
   },
   {
    "duration": -1235,
    "start_time": "2021-07-20T14:22:46.771Z"
   },
   {
    "duration": -1240,
    "start_time": "2021-07-20T14:22:46.777Z"
   },
   {
    "duration": -1246,
    "start_time": "2021-07-20T14:22:46.784Z"
   },
   {
    "duration": -1252,
    "start_time": "2021-07-20T14:22:46.791Z"
   },
   {
    "duration": -1259,
    "start_time": "2021-07-20T14:22:46.799Z"
   },
   {
    "duration": -1431,
    "start_time": "2021-07-20T14:22:46.972Z"
   },
   {
    "duration": -1435,
    "start_time": "2021-07-20T14:22:46.977Z"
   },
   {
    "duration": -1443,
    "start_time": "2021-07-20T14:22:46.986Z"
   },
   {
    "duration": -1458,
    "start_time": "2021-07-20T14:22:47.002Z"
   },
   {
    "duration": -1467,
    "start_time": "2021-07-20T14:22:47.012Z"
   },
   {
    "duration": -1480,
    "start_time": "2021-07-20T14:22:47.026Z"
   },
   {
    "duration": -1489,
    "start_time": "2021-07-20T14:22:47.035Z"
   },
   {
    "duration": -1496,
    "start_time": "2021-07-20T14:22:47.043Z"
   },
   {
    "duration": -1504,
    "start_time": "2021-07-20T14:22:47.052Z"
   },
   {
    "duration": 15,
    "start_time": "2021-07-20T14:22:45.707Z"
   },
   {
    "duration": 18,
    "start_time": "2021-07-20T14:22:45.724Z"
   },
   {
    "duration": 15,
    "start_time": "2021-07-20T14:22:45.744Z"
   },
   {
    "duration": 31,
    "start_time": "2021-07-20T14:22:45.761Z"
   },
   {
    "duration": 637,
    "start_time": "2021-07-20T14:22:45.794Z"
   },
   {
    "duration": 651,
    "start_time": "2021-07-20T14:22:46.433Z"
   },
   {
    "duration": 27,
    "start_time": "2021-07-20T14:22:47.086Z"
   },
   {
    "duration": 45,
    "start_time": "2021-07-20T14:22:47.114Z"
   },
   {
    "duration": 28,
    "start_time": "2021-07-20T14:22:47.162Z"
   },
   {
    "duration": 66,
    "start_time": "2021-07-20T14:22:47.192Z"
   },
   {
    "duration": 33,
    "start_time": "2021-07-20T14:22:47.260Z"
   },
   {
    "duration": 16,
    "start_time": "2021-07-20T14:22:47.295Z"
   },
   {
    "duration": 9,
    "start_time": "2021-07-20T14:22:47.341Z"
   },
   {
    "duration": 14,
    "start_time": "2021-07-20T14:22:47.351Z"
   },
   {
    "duration": 20,
    "start_time": "2021-07-20T14:22:47.366Z"
   },
   {
    "duration": 7,
    "start_time": "2021-07-20T14:22:47.388Z"
   },
   {
    "duration": 46,
    "start_time": "2021-07-20T14:22:47.396Z"
   },
   {
    "duration": 21,
    "start_time": "2021-07-20T14:22:47.443Z"
   },
   {
    "duration": 16,
    "start_time": "2021-07-20T14:22:47.466Z"
   },
   {
    "duration": 10,
    "start_time": "2021-07-20T14:22:47.484Z"
   },
   {
    "duration": 3,
    "start_time": "2021-07-20T14:22:47.496Z"
   },
   {
    "duration": 43,
    "start_time": "2021-07-20T14:22:47.501Z"
   },
   {
    "duration": 4,
    "start_time": "2021-07-20T14:22:47.545Z"
   },
   {
    "duration": 281,
    "start_time": "2021-07-20T14:22:47.551Z"
   },
   {
    "duration": 17,
    "start_time": "2021-07-20T14:23:02.141Z"
   },
   {
    "duration": 148,
    "start_time": "2021-07-20T14:23:40.268Z"
   },
   {
    "duration": 9,
    "start_time": "2021-07-20T14:23:40.417Z"
   },
   {
    "duration": 9,
    "start_time": "2021-07-20T14:23:40.428Z"
   },
   {
    "duration": 6,
    "start_time": "2021-07-20T14:23:40.439Z"
   },
   {
    "duration": 6,
    "start_time": "2021-07-20T14:23:40.446Z"
   },
   {
    "duration": 6,
    "start_time": "2021-07-20T14:23:40.454Z"
   },
   {
    "duration": 22,
    "start_time": "2021-07-20T14:23:40.462Z"
   },
   {
    "duration": 10,
    "start_time": "2021-07-20T14:23:40.486Z"
   },
   {
    "duration": 44,
    "start_time": "2021-07-20T14:23:40.498Z"
   },
   {
    "duration": 4,
    "start_time": "2021-07-20T14:23:40.544Z"
   },
   {
    "duration": 12,
    "start_time": "2021-07-20T14:23:40.549Z"
   },
   {
    "duration": 91,
    "start_time": "2021-07-20T14:23:40.563Z"
   },
   {
    "duration": -1138,
    "start_time": "2021-07-20T14:23:41.795Z"
   },
   {
    "duration": -1144,
    "start_time": "2021-07-20T14:23:41.802Z"
   },
   {
    "duration": -1153,
    "start_time": "2021-07-20T14:23:41.812Z"
   },
   {
    "duration": -1175,
    "start_time": "2021-07-20T14:23:41.835Z"
   },
   {
    "duration": -1184,
    "start_time": "2021-07-20T14:23:41.845Z"
   },
   {
    "duration": -1192,
    "start_time": "2021-07-20T14:23:41.854Z"
   },
   {
    "duration": -1200,
    "start_time": "2021-07-20T14:23:41.863Z"
   },
   {
    "duration": -1207,
    "start_time": "2021-07-20T14:23:41.871Z"
   },
   {
    "duration": -1214,
    "start_time": "2021-07-20T14:23:41.878Z"
   },
   {
    "duration": -1218,
    "start_time": "2021-07-20T14:23:41.883Z"
   },
   {
    "duration": -1224,
    "start_time": "2021-07-20T14:23:41.890Z"
   },
   {
    "duration": -1229,
    "start_time": "2021-07-20T14:23:41.896Z"
   },
   {
    "duration": -1234,
    "start_time": "2021-07-20T14:23:41.902Z"
   },
   {
    "duration": -1239,
    "start_time": "2021-07-20T14:23:41.908Z"
   },
   {
    "duration": -1244,
    "start_time": "2021-07-20T14:23:41.914Z"
   },
   {
    "duration": -1248,
    "start_time": "2021-07-20T14:23:41.919Z"
   },
   {
    "duration": -1255,
    "start_time": "2021-07-20T14:23:41.927Z"
   },
   {
    "duration": -1269,
    "start_time": "2021-07-20T14:23:41.942Z"
   },
   {
    "duration": -1275,
    "start_time": "2021-07-20T14:23:41.949Z"
   },
   {
    "duration": -1397,
    "start_time": "2021-07-20T14:23:42.072Z"
   },
   {
    "duration": -1403,
    "start_time": "2021-07-20T14:23:42.079Z"
   },
   {
    "duration": -1409,
    "start_time": "2021-07-20T14:23:42.086Z"
   },
   {
    "duration": -1415,
    "start_time": "2021-07-20T14:23:42.093Z"
   },
   {
    "duration": -1422,
    "start_time": "2021-07-20T14:23:42.101Z"
   },
   {
    "duration": -1428,
    "start_time": "2021-07-20T14:23:42.108Z"
   },
   {
    "duration": -1436,
    "start_time": "2021-07-20T14:23:42.117Z"
   },
   {
    "duration": -1445,
    "start_time": "2021-07-20T14:23:42.127Z"
   },
   {
    "duration": -1613,
    "start_time": "2021-07-20T14:23:42.296Z"
   },
   {
    "duration": -1618,
    "start_time": "2021-07-20T14:23:42.302Z"
   },
   {
    "duration": -1623,
    "start_time": "2021-07-20T14:23:42.308Z"
   },
   {
    "duration": -1629,
    "start_time": "2021-07-20T14:23:42.314Z"
   },
   {
    "duration": -1633,
    "start_time": "2021-07-20T14:23:42.320Z"
   },
   {
    "duration": -1639,
    "start_time": "2021-07-20T14:23:42.326Z"
   },
   {
    "duration": -1644,
    "start_time": "2021-07-20T14:23:42.332Z"
   },
   {
    "duration": -1650,
    "start_time": "2021-07-20T14:23:42.339Z"
   },
   {
    "duration": -1654,
    "start_time": "2021-07-20T14:23:42.344Z"
   },
   {
    "duration": -1659,
    "start_time": "2021-07-20T14:23:42.350Z"
   },
   {
    "duration": -1664,
    "start_time": "2021-07-20T14:23:42.356Z"
   },
   {
    "duration": -1669,
    "start_time": "2021-07-20T14:23:42.362Z"
   },
   {
    "duration": -1674,
    "start_time": "2021-07-20T14:23:42.368Z"
   },
   {
    "duration": -1634,
    "start_time": "2021-07-20T14:23:42.374Z"
   },
   {
    "duration": -1639,
    "start_time": "2021-07-20T14:23:42.380Z"
   },
   {
    "duration": -1643,
    "start_time": "2021-07-20T14:23:42.385Z"
   },
   {
    "duration": -1652,
    "start_time": "2021-07-20T14:23:42.395Z"
   },
   {
    "duration": -1673,
    "start_time": "2021-07-20T14:23:42.417Z"
   },
   {
    "duration": -1681,
    "start_time": "2021-07-20T14:23:42.426Z"
   },
   {
    "duration": -1690,
    "start_time": "2021-07-20T14:23:42.436Z"
   },
   {
    "duration": -1696,
    "start_time": "2021-07-20T14:23:42.443Z"
   },
   {
    "duration": -1700,
    "start_time": "2021-07-20T14:23:42.448Z"
   },
   {
    "duration": -1705,
    "start_time": "2021-07-20T14:23:42.454Z"
   },
   {
    "duration": -1711,
    "start_time": "2021-07-20T14:23:42.460Z"
   },
   {
    "duration": -1714,
    "start_time": "2021-07-20T14:23:42.465Z"
   },
   {
    "duration": -1720,
    "start_time": "2021-07-20T14:23:42.472Z"
   },
   {
    "duration": -1725,
    "start_time": "2021-07-20T14:23:42.478Z"
   },
   {
    "duration": -1730,
    "start_time": "2021-07-20T14:23:42.484Z"
   },
   {
    "duration": -1734,
    "start_time": "2021-07-20T14:23:42.489Z"
   },
   {
    "duration": -1740,
    "start_time": "2021-07-20T14:23:42.496Z"
   },
   {
    "duration": -1744,
    "start_time": "2021-07-20T14:23:42.501Z"
   },
   {
    "duration": -1751,
    "start_time": "2021-07-20T14:23:42.509Z"
   },
   {
    "duration": -1764,
    "start_time": "2021-07-20T14:23:42.523Z"
   },
   {
    "duration": -1769,
    "start_time": "2021-07-20T14:23:42.529Z"
   },
   {
    "duration": -1774,
    "start_time": "2021-07-20T14:23:42.535Z"
   },
   {
    "duration": -1782,
    "start_time": "2021-07-20T14:23:42.544Z"
   },
   {
    "duration": -1792,
    "start_time": "2021-07-20T14:23:42.554Z"
   },
   {
    "duration": -1799,
    "start_time": "2021-07-20T14:23:42.563Z"
   },
   {
    "duration": -1808,
    "start_time": "2021-07-20T14:23:42.572Z"
   },
   {
    "duration": -1815,
    "start_time": "2021-07-20T14:23:42.580Z"
   },
   {
    "duration": -1822,
    "start_time": "2021-07-20T14:23:42.588Z"
   },
   {
    "duration": -1828,
    "start_time": "2021-07-20T14:23:42.595Z"
   },
   {
    "duration": -1832,
    "start_time": "2021-07-20T14:23:42.600Z"
   },
   {
    "duration": -1837,
    "start_time": "2021-07-20T14:23:42.606Z"
   },
   {
    "duration": 16,
    "start_time": "2021-07-20T14:25:02.992Z"
   },
   {
    "duration": 320,
    "start_time": "2021-07-20T14:25:06.327Z"
   },
   {
    "duration": 17,
    "start_time": "2021-07-20T14:26:54.701Z"
   },
   {
    "duration": 9,
    "start_time": "2021-07-20T14:26:58.957Z"
   },
   {
    "duration": 14,
    "start_time": "2021-07-20T14:27:01.154Z"
   },
   {
    "duration": 22,
    "start_time": "2021-07-20T14:27:02.765Z"
   },
   {
    "duration": 7,
    "start_time": "2021-07-20T14:27:04.514Z"
   },
   {
    "duration": 16,
    "start_time": "2021-07-20T14:27:05.754Z"
   },
   {
    "duration": 17,
    "start_time": "2021-07-20T14:27:11.120Z"
   },
   {
    "duration": 22,
    "start_time": "2021-07-20T14:27:17.158Z"
   },
   {
    "duration": 5229,
    "start_time": "2021-07-20T14:27:24.101Z"
   },
   {
    "duration": 2081,
    "start_time": "2021-07-20T14:30:30.173Z"
   },
   {
    "duration": 5541,
    "start_time": "2021-07-20T14:31:40.843Z"
   },
   {
    "duration": 107,
    "start_time": "2021-07-20T14:32:29.209Z"
   },
   {
    "duration": 92,
    "start_time": "2021-07-20T14:32:32.561Z"
   },
   {
    "duration": 5554,
    "start_time": "2021-07-20T14:32:38.348Z"
   },
   {
    "duration": 5657,
    "start_time": "2021-07-20T14:32:58.579Z"
   },
   {
    "duration": 309,
    "start_time": "2021-07-20T14:33:24.720Z"
   },
   {
    "duration": 282,
    "start_time": "2021-07-20T14:44:44.047Z"
   },
   {
    "duration": -715,
    "start_time": "2021-07-20T14:46:19.254Z"
   },
   {
    "duration": 5659,
    "start_time": "2021-07-20T14:46:28.270Z"
   },
   {
    "duration": 13,
    "start_time": "2021-07-20T14:47:35.148Z"
   },
   {
    "duration": 269,
    "start_time": "2021-07-20T14:49:22.954Z"
   },
   {
    "duration": 297,
    "start_time": "2021-07-20T14:52:53.124Z"
   },
   {
    "duration": 321,
    "start_time": "2021-07-20T14:54:38.479Z"
   },
   {
    "duration": 94,
    "start_time": "2021-07-20T14:54:53.359Z"
   },
   {
    "duration": 451,
    "start_time": "2021-07-20T14:54:58.290Z"
   },
   {
    "duration": 7534,
    "start_time": "2021-07-20T15:07:37.483Z"
   },
   {
    "duration": 25,
    "start_time": "2021-07-20T15:08:02.198Z"
   },
   {
    "duration": 24,
    "start_time": "2021-07-20T15:09:09.634Z"
   },
   {
    "duration": 8302,
    "start_time": "2021-07-20T15:10:32.432Z"
   },
   {
    "duration": 25,
    "start_time": "2021-07-20T15:10:55.522Z"
   },
   {
    "duration": 26,
    "start_time": "2021-07-20T15:11:59.026Z"
   },
   {
    "duration": 1075,
    "start_time": "2021-07-20T17:04:06.227Z"
   },
   {
    "duration": 18,
    "start_time": "2021-07-20T17:04:10.956Z"
   },
   {
    "duration": 14,
    "start_time": "2021-07-20T17:04:16.539Z"
   },
   {
    "duration": 12,
    "start_time": "2021-07-20T17:04:19.720Z"
   },
   {
    "duration": 12,
    "start_time": "2021-07-20T17:04:22.435Z"
   },
   {
    "duration": 11,
    "start_time": "2021-07-20T17:04:25.174Z"
   },
   {
    "duration": 11,
    "start_time": "2021-07-20T17:04:29.365Z"
   },
   {
    "duration": 38,
    "start_time": "2021-07-20T17:04:33.480Z"
   },
   {
    "duration": 14,
    "start_time": "2021-07-20T17:04:36.155Z"
   },
   {
    "duration": 14,
    "start_time": "2021-07-20T17:04:38.727Z"
   },
   {
    "duration": 6,
    "start_time": "2021-07-20T17:04:42.119Z"
   },
   {
    "duration": 17,
    "start_time": "2021-07-20T17:04:44.494Z"
   },
   {
    "duration": 6,
    "start_time": "2021-07-20T17:04:48.357Z"
   },
   {
    "duration": 23,
    "start_time": "2021-07-20T17:04:51.358Z"
   },
   {
    "duration": 18,
    "start_time": "2021-07-20T17:04:55.479Z"
   },
   {
    "duration": 4,
    "start_time": "2021-07-20T17:04:57.564Z"
   },
   {
    "duration": 4,
    "start_time": "2021-07-20T17:05:20.806Z"
   },
   {
    "duration": 9,
    "start_time": "2021-07-20T17:05:23.292Z"
   },
   {
    "duration": 10,
    "start_time": "2021-07-20T17:05:27.590Z"
   },
   {
    "duration": 10,
    "start_time": "2021-07-20T17:05:30.674Z"
   },
   {
    "duration": 20,
    "start_time": "2021-07-20T17:05:35.485Z"
   },
   {
    "duration": 7,
    "start_time": "2021-07-20T17:05:38.071Z"
   },
   {
    "duration": 6,
    "start_time": "2021-07-20T17:05:40.401Z"
   },
   {
    "duration": 6,
    "start_time": "2021-07-20T17:05:42.835Z"
   },
   {
    "duration": 9,
    "start_time": "2021-07-20T17:05:45.985Z"
   },
   {
    "duration": 29,
    "start_time": "2021-07-20T17:05:49.790Z"
   },
   {
    "duration": 17,
    "start_time": "2021-07-20T17:05:54.094Z"
   },
   {
    "duration": 13,
    "start_time": "2021-07-20T17:05:58.141Z"
   },
   {
    "duration": 21,
    "start_time": "2021-07-20T17:06:00.968Z"
   },
   {
    "duration": 12,
    "start_time": "2021-07-20T17:06:03.758Z"
   },
   {
    "duration": 15,
    "start_time": "2021-07-20T17:06:12.348Z"
   },
   {
    "duration": 17,
    "start_time": "2021-07-20T17:06:17.539Z"
   },
   {
    "duration": 24,
    "start_time": "2021-07-20T17:06:21.481Z"
   },
   {
    "duration": 46,
    "start_time": "2021-07-20T17:06:23.933Z"
   },
   {
    "duration": 9,
    "start_time": "2021-07-20T17:06:26.615Z"
   },
   {
    "duration": 24,
    "start_time": "2021-07-20T17:06:30.061Z"
   },
   {
    "duration": 25,
    "start_time": "2021-07-20T17:06:34.160Z"
   },
   {
    "duration": 32,
    "start_time": "2021-07-20T17:06:38.778Z"
   },
   {
    "duration": 936,
    "start_time": "2021-07-20T17:06:42.112Z"
   },
   {
    "duration": 814,
    "start_time": "2021-07-20T17:06:49.246Z"
   },
   {
    "duration": 44,
    "start_time": "2021-07-20T17:06:52.510Z"
   },
   {
    "duration": 45,
    "start_time": "2021-07-20T17:06:55.222Z"
   },
   {
    "duration": 44,
    "start_time": "2021-07-20T17:06:58.564Z"
   },
   {
    "duration": 50,
    "start_time": "2021-07-20T17:07:01.090Z"
   },
   {
    "duration": 56,
    "start_time": "2021-07-20T17:07:05.882Z"
   },
   {
    "duration": 32,
    "start_time": "2021-07-20T17:07:09.863Z"
   },
   {
    "duration": 13,
    "start_time": "2021-07-20T17:07:13.122Z"
   },
   {
    "duration": 21,
    "start_time": "2021-07-20T17:07:16.050Z"
   },
   {
    "duration": 37,
    "start_time": "2021-07-20T17:07:19.370Z"
   },
   {
    "duration": 10,
    "start_time": "2021-07-20T17:07:22.035Z"
   },
   {
    "duration": 53,
    "start_time": "2021-07-20T17:07:42.214Z"
   },
   {
    "duration": 29,
    "start_time": "2021-07-20T17:07:52.101Z"
   },
   {
    "duration": 11,
    "start_time": "2021-07-20T17:07:56.186Z"
   },
   {
    "duration": 20,
    "start_time": "2021-07-20T17:07:59.273Z"
   },
   {
    "duration": 47,
    "start_time": "2021-07-20T17:08:01.782Z"
   },
   {
    "duration": 9,
    "start_time": "2021-07-20T17:08:04.856Z"
   },
   {
    "duration": 21,
    "start_time": "2021-07-20T17:08:08.205Z"
   },
   {
    "duration": 25,
    "start_time": "2021-07-20T17:08:14.191Z"
   },
   {
    "duration": 20,
    "start_time": "2021-07-20T17:08:19.783Z"
   },
   {
    "duration": 12,
    "start_time": "2021-07-20T17:08:27.036Z"
   },
   {
    "duration": 6,
    "start_time": "2021-07-20T17:08:29.775Z"
   },
   {
    "duration": 11,
    "start_time": "2021-07-20T17:08:32.324Z"
   },
   {
    "duration": 5,
    "start_time": "2021-07-20T17:09:21.909Z"
   },
   {
    "duration": 11,
    "start_time": "2021-07-20T17:09:29.401Z"
   },
   {
    "duration": 5,
    "start_time": "2021-07-20T17:09:39.243Z"
   },
   {
    "duration": 28,
    "start_time": "2021-07-20T17:10:04.308Z"
   },
   {
    "duration": 16,
    "start_time": "2021-07-20T17:10:11.810Z"
   },
   {
    "duration": 15,
    "start_time": "2021-07-20T17:10:52.016Z"
   },
   {
    "duration": 34,
    "start_time": "2021-07-20T17:13:33.475Z"
   },
   {
    "duration": 45,
    "start_time": "2021-07-20T17:13:36.834Z"
   },
   {
    "duration": 26,
    "start_time": "2021-07-20T17:14:01.415Z"
   },
   {
    "duration": 16,
    "start_time": "2021-07-20T17:14:06.587Z"
   },
   {
    "duration": 32,
    "start_time": "2021-07-20T17:14:12.532Z"
   },
   {
    "duration": 40,
    "start_time": "2021-07-20T17:14:15.530Z"
   },
   {
    "duration": 45,
    "start_time": "2021-07-20T17:15:29.816Z"
   },
   {
    "duration": 26,
    "start_time": "2021-07-20T17:16:04.357Z"
   },
   {
    "duration": 39,
    "start_time": "2021-07-20T17:16:20.406Z"
   },
   {
    "duration": 25,
    "start_time": "2021-07-20T17:16:37.621Z"
   },
   {
    "duration": 24,
    "start_time": "2021-07-20T17:16:44.921Z"
   },
   {
    "duration": 39,
    "start_time": "2021-07-20T17:16:56.261Z"
   },
   {
    "duration": 32,
    "start_time": "2021-07-20T17:17:30.373Z"
   },
   {
    "duration": 36,
    "start_time": "2021-07-20T17:17:45.155Z"
   },
   {
    "duration": 43,
    "start_time": "2021-07-20T17:18:21.025Z"
   },
   {
    "duration": 45,
    "start_time": "2021-07-20T17:19:06.567Z"
   },
   {
    "duration": 33,
    "start_time": "2021-07-20T17:22:04.347Z"
   },
   {
    "duration": 542,
    "start_time": "2021-07-20T17:23:00.272Z"
   },
   {
    "duration": 44,
    "start_time": "2021-07-20T17:23:22.545Z"
   },
   {
    "duration": 432,
    "start_time": "2021-07-20T17:29:55.451Z"
   },
   {
    "duration": 49,
    "start_time": "2021-07-20T17:30:06.073Z"
   },
   {
    "duration": 6,
    "start_time": "2021-07-20T17:38:12.601Z"
   },
   {
    "duration": 461,
    "start_time": "2021-07-20T17:38:30.914Z"
   },
   {
    "duration": 371,
    "start_time": "2021-07-20T17:38:36.832Z"
   },
   {
    "duration": 14,
    "start_time": "2021-07-20T17:38:50.576Z"
   },
   {
    "duration": 113,
    "start_time": "2021-07-20T17:41:07.080Z"
   },
   {
    "duration": 130,
    "start_time": "2021-07-20T17:41:33.547Z"
   },
   {
    "duration": 339,
    "start_time": "2021-07-20T17:42:58.216Z"
   },
   {
    "duration": 412,
    "start_time": "2021-07-20T17:43:06.249Z"
   },
   {
    "duration": 404,
    "start_time": "2021-07-20T17:43:19.216Z"
   },
   {
    "duration": -1096,
    "start_time": "2021-07-20T17:44:30.139Z"
   },
   {
    "duration": 18614,
    "start_time": "2021-07-20T17:44:33.824Z"
   },
   {
    "duration": 12167,
    "start_time": "2021-07-20T17:45:02.729Z"
   },
   {
    "duration": 16,
    "start_time": "2021-07-20T17:45:26.433Z"
   },
   {
    "duration": 15,
    "start_time": "2021-07-20T17:45:32.627Z"
   },
   {
    "duration": 484,
    "start_time": "2021-07-20T17:50:07.535Z"
   },
   {
    "duration": 51,
    "start_time": "2021-07-20T17:50:28.296Z"
   },
   {
    "duration": 37,
    "start_time": "2021-07-20T17:51:15.640Z"
   },
   {
    "duration": 49,
    "start_time": "2021-07-20T17:51:22.908Z"
   },
   {
    "duration": 25,
    "start_time": "2021-07-20T17:55:51.404Z"
   },
   {
    "duration": 1536,
    "start_time": "2021-07-20T17:57:06.114Z"
   },
   {
    "duration": 48,
    "start_time": "2021-07-20T17:58:07.399Z"
   },
   {
    "duration": 51,
    "start_time": "2021-07-20T17:58:46.887Z"
   },
   {
    "duration": 35,
    "start_time": "2021-07-20T17:59:05.874Z"
   },
   {
    "duration": 52,
    "start_time": "2021-07-20T17:59:09.568Z"
   },
   {
    "duration": 37,
    "start_time": "2021-07-20T17:59:20.309Z"
   },
   {
    "duration": 47,
    "start_time": "2021-07-20T17:59:39.834Z"
   },
   {
    "duration": 26,
    "start_time": "2021-07-20T18:00:17.176Z"
   },
   {
    "duration": 37,
    "start_time": "2021-07-20T18:00:33.596Z"
   },
   {
    "duration": 21,
    "start_time": "2021-07-20T18:00:35.967Z"
   },
   {
    "duration": 9,
    "start_time": "2021-07-20T18:08:27.972Z"
   },
   {
    "duration": 840,
    "start_time": "2021-07-20T18:10:09.270Z"
   },
   {
    "duration": 13,
    "start_time": "2021-07-20T18:11:34.672Z"
   },
   {
    "duration": 8,
    "start_time": "2021-07-20T18:12:42.384Z"
   },
   {
    "duration": 151,
    "start_time": "2021-07-20T18:15:01.617Z"
   },
   {
    "duration": 417,
    "start_time": "2021-07-20T18:15:07.081Z"
   },
   {
    "duration": 52,
    "start_time": "2021-07-20T18:15:14.342Z"
   },
   {
    "duration": 46,
    "start_time": "2021-07-20T18:15:52.906Z"
   },
   {
    "duration": 35,
    "start_time": "2021-07-20T18:16:54.250Z"
   },
   {
    "duration": 36,
    "start_time": "2021-07-20T18:18:31.000Z"
   },
   {
    "duration": 46,
    "start_time": "2021-07-20T18:19:04.428Z"
   },
   {
    "duration": 10806,
    "start_time": "2021-07-20T18:19:23.730Z"
   },
   {
    "duration": 35,
    "start_time": "2021-07-20T18:19:41.146Z"
   },
   {
    "duration": 21,
    "start_time": "2021-07-20T18:19:46.004Z"
   },
   {
    "duration": 46,
    "start_time": "2021-07-20T18:19:51.031Z"
   },
   {
    "duration": 33,
    "start_time": "2021-07-20T18:27:10.881Z"
   },
   {
    "duration": 34,
    "start_time": "2021-07-20T18:28:15.121Z"
   },
   {
    "duration": 34,
    "start_time": "2021-07-20T18:28:22.007Z"
   },
   {
    "duration": 21,
    "start_time": "2021-07-20T18:28:26.861Z"
   },
   {
    "duration": 35,
    "start_time": "2021-07-20T18:28:36.124Z"
   },
   {
    "duration": 20,
    "start_time": "2021-07-20T18:28:45.467Z"
   },
   {
    "duration": 32,
    "start_time": "2021-07-20T18:29:07.540Z"
   },
   {
    "duration": 427,
    "start_time": "2021-07-20T18:32:59.460Z"
   },
   {
    "duration": 417,
    "start_time": "2021-07-20T18:33:22.204Z"
   },
   {
    "duration": 35,
    "start_time": "2021-07-20T18:33:33.994Z"
   },
   {
    "duration": 19,
    "start_time": "2021-07-20T18:33:40.740Z"
   },
   {
    "duration": 31,
    "start_time": "2021-07-20T18:33:44.908Z"
   },
   {
    "duration": 7,
    "start_time": "2021-07-20T18:39:19.579Z"
   },
   {
    "duration": 12,
    "start_time": "2021-07-20T18:39:59.348Z"
   },
   {
    "duration": 9,
    "start_time": "2021-07-20T18:42:10.487Z"
   },
   {
    "duration": 19,
    "start_time": "2021-07-20T18:42:34.665Z"
   },
   {
    "duration": 13,
    "start_time": "2021-07-20T18:42:41.098Z"
   },
   {
    "duration": 6,
    "start_time": "2021-07-20T18:42:55.183Z"
   },
   {
    "duration": 13,
    "start_time": "2021-07-20T18:43:04.594Z"
   },
   {
    "duration": 379,
    "start_time": "2021-07-20T18:44:55.242Z"
   },
   {
    "duration": 674,
    "start_time": "2021-07-20T18:45:06.613Z"
   },
   {
    "duration": 592,
    "start_time": "2021-07-20T18:45:19.501Z"
   },
   {
    "duration": 5764,
    "start_time": "2021-07-20T18:45:24.641Z"
   },
   {
    "duration": 12,
    "start_time": "2021-07-20T18:46:38.575Z"
   },
   {
    "duration": 218,
    "start_time": "2021-07-20T18:47:16.845Z"
   },
   {
    "duration": 235,
    "start_time": "2021-07-20T18:47:58.204Z"
   },
   {
    "duration": 131,
    "start_time": "2021-07-20T18:48:18.461Z"
   },
   {
    "duration": 262,
    "start_time": "2021-07-20T18:48:38.291Z"
   },
   {
    "duration": 23,
    "start_time": "2021-07-20T18:50:03.513Z"
   },
   {
    "duration": 34,
    "start_time": "2021-07-20T18:50:15.120Z"
   },
   {
    "duration": 26,
    "start_time": "2021-07-20T18:50:22.681Z"
   },
   {
    "duration": 25,
    "start_time": "2021-07-20T18:50:26.697Z"
   },
   {
    "duration": 13,
    "start_time": "2021-07-20T18:50:42.631Z"
   },
   {
    "duration": 34,
    "start_time": "2021-07-20T18:50:47.804Z"
   },
   {
    "duration": 22,
    "start_time": "2021-07-20T18:50:54.462Z"
   },
   {
    "duration": 185,
    "start_time": "2021-07-20T18:52:01.682Z"
   },
   {
    "duration": 16,
    "start_time": "2021-07-20T18:52:06.701Z"
   },
   {
    "duration": 14,
    "start_time": "2021-07-20T18:52:12.324Z"
   },
   {
    "duration": 10,
    "start_time": "2021-07-20T18:52:15.713Z"
   },
   {
    "duration": 10,
    "start_time": "2021-07-20T18:52:17.691Z"
   },
   {
    "duration": 10,
    "start_time": "2021-07-20T18:52:21.363Z"
   },
   {
    "duration": 40,
    "start_time": "2021-07-20T18:52:25.102Z"
   },
   {
    "duration": 14,
    "start_time": "2021-07-20T18:52:28.084Z"
   },
   {
    "duration": 14,
    "start_time": "2021-07-20T18:52:30.945Z"
   },
   {
    "duration": 6,
    "start_time": "2021-07-20T18:52:34.178Z"
   },
   {
    "duration": 17,
    "start_time": "2021-07-20T18:52:36.838Z"
   },
   {
    "duration": 5,
    "start_time": "2021-07-20T18:52:43.286Z"
   },
   {
    "duration": 22,
    "start_time": "2021-07-20T18:52:45.547Z"
   },
   {
    "duration": 19,
    "start_time": "2021-07-20T18:52:50.395Z"
   },
   {
    "duration": 5,
    "start_time": "2021-07-20T18:52:53.681Z"
   },
   {
    "duration": 8,
    "start_time": "2021-07-20T18:52:57.884Z"
   },
   {
    "duration": 11,
    "start_time": "2021-07-20T18:53:01.517Z"
   },
   {
    "duration": 10,
    "start_time": "2021-07-20T18:53:04.982Z"
   },
   {
    "duration": 21,
    "start_time": "2021-07-20T18:53:08.448Z"
   },
   {
    "duration": 6,
    "start_time": "2021-07-20T18:53:12.394Z"
   },
   {
    "duration": 6,
    "start_time": "2021-07-20T18:53:14.299Z"
   },
   {
    "duration": 7,
    "start_time": "2021-07-20T18:53:16.521Z"
   },
   {
    "duration": 8,
    "start_time": "2021-07-20T18:53:18.842Z"
   },
   {
    "duration": 27,
    "start_time": "2021-07-20T18:53:22.436Z"
   },
   {
    "duration": 19,
    "start_time": "2021-07-20T18:53:24.960Z"
   },
   {
    "duration": 11,
    "start_time": "2021-07-20T18:53:30.157Z"
   },
   {
    "duration": 20,
    "start_time": "2021-07-20T18:53:33.556Z"
   },
   {
    "duration": 12,
    "start_time": "2021-07-20T18:53:36.721Z"
   },
   {
    "duration": 15,
    "start_time": "2021-07-20T18:53:43.080Z"
   },
   {
    "duration": 18,
    "start_time": "2021-07-20T18:53:46.646Z"
   },
   {
    "duration": 23,
    "start_time": "2021-07-20T18:53:51.637Z"
   },
   {
    "duration": 46,
    "start_time": "2021-07-20T18:53:54.161Z"
   },
   {
    "duration": 10,
    "start_time": "2021-07-20T18:53:57.015Z"
   },
   {
    "duration": 10,
    "start_time": "2021-07-20T18:54:15.852Z"
   },
   {
    "duration": 23,
    "start_time": "2021-07-20T18:54:19.261Z"
   },
   {
    "duration": 34,
    "start_time": "2021-07-20T18:54:22.217Z"
   },
   {
    "duration": 25,
    "start_time": "2021-07-20T18:54:26.741Z"
   },
   {
    "duration": 30,
    "start_time": "2021-07-20T18:55:20.353Z"
   },
   {
    "duration": 25,
    "start_time": "2021-07-20T18:55:28.270Z"
   },
   {
    "duration": 939,
    "start_time": "2021-07-20T18:55:31.787Z"
   },
   {
    "duration": 40,
    "start_time": "2021-07-20T18:55:40.198Z"
   },
   {
    "duration": 44,
    "start_time": "2021-07-20T18:55:43.682Z"
   },
   {
    "duration": 45,
    "start_time": "2021-07-20T18:55:46.830Z"
   },
   {
    "duration": 53,
    "start_time": "2021-07-20T18:55:49.675Z"
   },
   {
    "duration": 48,
    "start_time": "2021-07-20T18:55:53.131Z"
   },
   {
    "duration": 59,
    "start_time": "2021-07-20T18:56:00.684Z"
   },
   {
    "duration": 32,
    "start_time": "2021-07-20T18:56:05.063Z"
   },
   {
    "duration": 13,
    "start_time": "2021-07-20T18:56:08.666Z"
   },
   {
    "duration": 21,
    "start_time": "2021-07-20T18:56:11.050Z"
   },
   {
    "duration": 36,
    "start_time": "2021-07-20T18:56:14.022Z"
   },
   {
    "duration": 11,
    "start_time": "2021-07-20T18:56:17.780Z"
   },
   {
    "duration": 21,
    "start_time": "2021-07-20T18:56:20.207Z"
   },
   {
    "duration": 23,
    "start_time": "2021-07-20T18:56:31.540Z"
   },
   {
    "duration": 29,
    "start_time": "2021-07-20T18:56:36.162Z"
   },
   {
    "duration": 14,
    "start_time": "2021-07-20T18:56:42.894Z"
   },
   {
    "duration": 14,
    "start_time": "2021-07-20T18:57:04.289Z"
   },
   {
    "duration": 11,
    "start_time": "2021-07-20T18:57:07.596Z"
   },
   {
    "duration": 5,
    "start_time": "2021-07-20T18:57:11.145Z"
   },
   {
    "duration": 29,
    "start_time": "2021-07-20T18:57:13.960Z"
   },
   {
    "duration": 14,
    "start_time": "2021-07-20T18:57:16.261Z"
   },
   {
    "duration": -1290,
    "start_time": "2021-07-20T18:58:35.706Z"
   },
   {
    "duration": -1308,
    "start_time": "2021-07-20T18:58:35.726Z"
   },
   {
    "duration": 50,
    "start_time": "2021-07-20T18:58:47.105Z"
   },
   {
    "duration": 49833,
    "start_time": "2021-07-20T18:58:51.909Z"
   },
   {
    "duration": 46,
    "start_time": "2021-07-20T19:00:21.043Z"
   },
   {
    "duration": 19,
    "start_time": "2021-07-20T19:00:25.083Z"
   },
   {
    "duration": 36,
    "start_time": "2021-07-20T19:00:29.188Z"
   },
   {
    "duration": 29,
    "start_time": "2021-07-20T19:01:58.075Z"
   },
   {
    "duration": 1905,
    "start_time": "2021-07-20T19:04:19.295Z"
   },
   {
    "duration": 1218,
    "start_time": "2021-07-20T19:04:48.730Z"
   },
   {
    "duration": 15,
    "start_time": "2021-07-20T19:05:54.649Z"
   },
   {
    "duration": 30,
    "start_time": "2021-07-20T19:06:48.401Z"
   },
   {
    "duration": 1518,
    "start_time": "2021-07-20T19:07:19.549Z"
   },
   {
    "duration": 29,
    "start_time": "2021-07-20T19:11:13.259Z"
   },
   {
    "duration": 1763,
    "start_time": "2021-07-20T19:11:16.260Z"
   },
   {
    "duration": 17,
    "start_time": "2021-07-20T19:11:52.234Z"
   },
   {
    "duration": 28,
    "start_time": "2021-07-20T19:11:57.687Z"
   },
   {
    "duration": 17,
    "start_time": "2021-07-20T19:11:59.618Z"
   },
   {
    "duration": 28,
    "start_time": "2021-07-20T19:12:07.199Z"
   },
   {
    "duration": 16,
    "start_time": "2021-07-20T19:12:08.808Z"
   },
   {
    "duration": 382,
    "start_time": "2021-07-20T19:32:03.763Z"
   },
   {
    "duration": 167,
    "start_time": "2021-07-20T19:32:38.084Z"
   },
   {
    "duration": 22515,
    "start_time": "2021-07-20T19:32:46.955Z"
   },
   {
    "duration": 30,
    "start_time": "2021-07-20T19:33:32.119Z"
   },
   {
    "duration": 1211,
    "start_time": "2021-07-20T19:34:28.805Z"
   },
   {
    "duration": 32,
    "start_time": "2021-07-20T19:34:44.604Z"
   },
   {
    "duration": 438,
    "start_time": "2021-07-20T19:35:13.505Z"
   },
   {
    "duration": 29,
    "start_time": "2021-07-20T19:35:49.019Z"
   },
   {
    "duration": 25,
    "start_time": "2021-07-20T19:36:00.069Z"
   },
   {
    "duration": 29,
    "start_time": "2021-07-20T19:36:05.101Z"
   },
   {
    "duration": 29,
    "start_time": "2021-07-20T19:36:55.368Z"
   },
   {
    "duration": 1284,
    "start_time": "2021-07-20T19:37:13.552Z"
   },
   {
    "duration": 43615,
    "start_time": "2021-07-20T19:37:27.595Z"
   },
   {
    "duration": 35,
    "start_time": "2021-07-20T19:38:41.895Z"
   },
   {
    "duration": 33,
    "start_time": "2021-07-20T19:38:59.069Z"
   },
   {
    "duration": 32,
    "start_time": "2021-07-20T19:39:05.823Z"
   },
   {
    "duration": 1463,
    "start_time": "2021-07-20T19:39:20.735Z"
   },
   {
    "duration": 2496,
    "start_time": "2021-07-20T19:39:24.448Z"
   },
   {
    "duration": 33,
    "start_time": "2021-07-20T19:39:28.347Z"
   },
   {
    "duration": 30,
    "start_time": "2021-07-20T19:39:43.341Z"
   },
   {
    "duration": 29,
    "start_time": "2021-07-20T19:40:26.553Z"
   },
   {
    "duration": 36,
    "start_time": "2021-07-20T19:40:39.752Z"
   },
   {
    "duration": 32,
    "start_time": "2021-07-20T19:40:53.365Z"
   },
   {
    "duration": 33,
    "start_time": "2021-07-20T19:41:19.641Z"
   },
   {
    "duration": 1667,
    "start_time": "2021-07-20T19:41:33.702Z"
   },
   {
    "duration": 730,
    "start_time": "2021-07-20T19:41:51.195Z"
   },
   {
    "duration": 33,
    "start_time": "2021-07-20T19:43:12.630Z"
   },
   {
    "duration": 35,
    "start_time": "2021-07-20T19:43:46.957Z"
   },
   {
    "duration": 32,
    "start_time": "2021-07-20T19:44:00.031Z"
   },
   {
    "duration": 33,
    "start_time": "2021-07-20T19:44:17.077Z"
   },
   {
    "duration": 34,
    "start_time": "2021-07-20T19:44:25.680Z"
   },
   {
    "duration": 33,
    "start_time": "2021-07-20T19:44:30.234Z"
   },
   {
    "duration": 35,
    "start_time": "2021-07-20T19:44:52.508Z"
   },
   {
    "duration": 35,
    "start_time": "2021-07-20T19:45:18.032Z"
   },
   {
    "duration": 31,
    "start_time": "2021-07-20T19:45:29.422Z"
   },
   {
    "duration": 30,
    "start_time": "2021-07-20T19:45:41.551Z"
   },
   {
    "duration": 30,
    "start_time": "2021-07-20T19:46:21.160Z"
   },
   {
    "duration": 30,
    "start_time": "2021-07-20T19:46:40.651Z"
   },
   {
    "duration": 31,
    "start_time": "2021-07-20T19:46:54.510Z"
   },
   {
    "duration": 2213,
    "start_time": "2021-07-20T19:47:33.378Z"
   },
   {
    "duration": 1291,
    "start_time": "2021-07-20T19:47:40.959Z"
   },
   {
    "duration": 32,
    "start_time": "2021-07-20T19:47:59.262Z"
   },
   {
    "duration": 32,
    "start_time": "2021-07-20T19:48:53.309Z"
   },
   {
    "duration": 57,
    "start_time": "2021-07-20T19:49:08.016Z"
   },
   {
    "duration": 120,
    "start_time": "2021-07-20T19:49:28.771Z"
   },
   {
    "duration": 114,
    "start_time": "2021-07-20T19:50:11.455Z"
   },
   {
    "duration": 2956,
    "start_time": "2021-07-20T19:50:53.415Z"
   },
   {
    "duration": 119,
    "start_time": "2021-07-20T19:51:14.067Z"
   },
   {
    "duration": 150,
    "start_time": "2021-07-20T19:51:38.887Z"
   },
   {
    "duration": 104,
    "start_time": "2021-07-20T19:51:52.228Z"
   },
   {
    "duration": 115,
    "start_time": "2021-07-20T19:58:07.552Z"
   },
   {
    "duration": 119,
    "start_time": "2021-07-20T19:58:25.670Z"
   },
   {
    "duration": 103,
    "start_time": "2021-07-20T19:58:57.089Z"
   },
   {
    "duration": 4,
    "start_time": "2021-07-20T20:07:26.532Z"
   },
   {
    "duration": 1726,
    "start_time": "2021-07-20T20:07:52.848Z"
   },
   {
    "duration": 40,
    "start_time": "2021-07-20T20:09:02.345Z"
   },
   {
    "duration": 41,
    "start_time": "2021-07-20T20:09:51.088Z"
   },
   {
    "duration": 40,
    "start_time": "2021-07-20T20:10:15.333Z"
   },
   {
    "duration": 40,
    "start_time": "2021-07-20T20:10:27.064Z"
   },
   {
    "duration": 39,
    "start_time": "2021-07-20T20:13:57.815Z"
   },
   {
    "duration": 38,
    "start_time": "2021-07-20T20:14:18.916Z"
   },
   {
    "duration": 42,
    "start_time": "2021-07-20T20:15:07.978Z"
   },
   {
    "duration": 38,
    "start_time": "2021-07-20T20:15:41.419Z"
   },
   {
    "duration": 44,
    "start_time": "2021-07-20T20:15:54.080Z"
   },
   {
    "duration": 2511,
    "start_time": "2021-07-20T20:17:20.797Z"
   },
   {
    "duration": 58,
    "start_time": "2021-07-20T20:17:23.953Z"
   },
   {
    "duration": 58,
    "start_time": "2021-07-20T20:17:50.616Z"
   },
   {
    "duration": 59,
    "start_time": "2021-07-20T20:18:00.265Z"
   },
   {
    "duration": 58,
    "start_time": "2021-07-20T20:18:13.969Z"
   },
   {
    "duration": 70,
    "start_time": "2021-07-20T20:18:24.120Z"
   },
   {
    "duration": 61,
    "start_time": "2021-07-20T20:18:36.153Z"
   },
   {
    "duration": 74,
    "start_time": "2021-07-20T20:19:06.012Z"
   },
   {
    "duration": 72,
    "start_time": "2021-07-20T20:19:31.738Z"
   },
   {
    "duration": 74,
    "start_time": "2021-07-20T20:19:49.562Z"
   },
   {
    "duration": 808,
    "start_time": "2021-07-20T20:19:55.898Z"
   },
   {
    "duration": 74,
    "start_time": "2021-07-20T20:19:58.326Z"
   },
   {
    "duration": 71,
    "start_time": "2021-07-20T20:20:04.674Z"
   },
   {
    "duration": 58,
    "start_time": "2021-07-20T20:21:18.574Z"
   },
   {
    "duration": 117,
    "start_time": "2021-07-20T20:21:34.570Z"
   },
   {
    "duration": 159,
    "start_time": "2021-07-20T20:21:54.374Z"
   },
   {
    "duration": 153,
    "start_time": "2021-07-20T20:25:54.138Z"
   },
   {
    "duration": 152,
    "start_time": "2021-07-20T20:26:30.594Z"
   },
   {
    "duration": 157,
    "start_time": "2021-07-20T20:26:43.687Z"
   },
   {
    "duration": 153,
    "start_time": "2021-07-20T20:26:59.443Z"
   },
   {
    "duration": 177,
    "start_time": "2021-07-20T20:27:37.671Z"
   },
   {
    "duration": 198,
    "start_time": "2021-07-20T20:28:52.487Z"
   },
   {
    "duration": 158,
    "start_time": "2021-07-20T20:31:17.675Z"
   },
   {
    "duration": 121,
    "start_time": "2021-07-20T20:33:18.730Z"
   },
   {
    "duration": 142,
    "start_time": "2021-07-20T20:33:51.958Z"
   },
   {
    "duration": 200,
    "start_time": "2021-07-20T20:35:19.101Z"
   },
   {
    "duration": 163,
    "start_time": "2021-07-20T20:38:30.233Z"
   },
   {
    "duration": 158,
    "start_time": "2021-07-20T20:42:02.345Z"
   },
   {
    "duration": 161,
    "start_time": "2021-07-20T20:42:53.068Z"
   },
   {
    "duration": 173,
    "start_time": "2021-07-20T20:45:34.767Z"
   },
   {
    "duration": 1159,
    "start_time": "2021-07-21T18:06:48.709Z"
   },
   {
    "duration": 17,
    "start_time": "2021-07-21T18:06:55.398Z"
   },
   {
    "duration": 14,
    "start_time": "2021-07-21T18:07:00.399Z"
   },
   {
    "duration": 10,
    "start_time": "2021-07-21T18:07:05.847Z"
   },
   {
    "duration": 10,
    "start_time": "2021-07-21T18:07:09.026Z"
   },
   {
    "duration": 12,
    "start_time": "2021-07-21T18:07:11.460Z"
   },
   {
    "duration": 38,
    "start_time": "2021-07-21T18:07:16.007Z"
   },
   {
    "duration": 13,
    "start_time": "2021-07-21T18:07:19.519Z"
   },
   {
    "duration": 14,
    "start_time": "2021-07-21T18:07:22.950Z"
   },
   {
    "duration": 6,
    "start_time": "2021-07-21T18:07:26.205Z"
   },
   {
    "duration": 17,
    "start_time": "2021-07-21T18:07:28.531Z"
   },
   {
    "duration": 6,
    "start_time": "2021-07-21T18:07:54.087Z"
   },
   {
    "duration": 21,
    "start_time": "2021-07-21T18:07:57.306Z"
   },
   {
    "duration": 18,
    "start_time": "2021-07-21T18:08:00.258Z"
   },
   {
    "duration": 4,
    "start_time": "2021-07-21T18:08:03.473Z"
   },
   {
    "duration": 8,
    "start_time": "2021-07-21T18:08:06.018Z"
   },
   {
    "duration": 12,
    "start_time": "2021-07-21T18:08:08.831Z"
   },
   {
    "duration": 11,
    "start_time": "2021-07-21T18:08:11.686Z"
   },
   {
    "duration": 18,
    "start_time": "2021-07-21T18:08:17.510Z"
   },
   {
    "duration": 7,
    "start_time": "2021-07-21T18:08:20.624Z"
   },
   {
    "duration": 7,
    "start_time": "2021-07-21T18:08:22.814Z"
   },
   {
    "duration": 9,
    "start_time": "2021-07-21T18:08:25.359Z"
   },
   {
    "duration": 394,
    "start_time": "2021-07-21T18:10:10.057Z"
   },
   {
    "duration": 286,
    "start_time": "2021-07-21T18:10:18.859Z"
   },
   {
    "duration": 16,
    "start_time": "2021-07-21T18:11:21.588Z"
   },
   {
    "duration": 11,
    "start_time": "2021-07-21T18:11:38.452Z"
   },
   {
    "duration": 17,
    "start_time": "2021-07-21T18:12:11.414Z"
   },
   {
    "duration": 18,
    "start_time": "2021-07-21T18:12:34.277Z"
   },
   {
    "duration": 17,
    "start_time": "2021-07-21T18:12:48.959Z"
   },
   {
    "duration": 18,
    "start_time": "2021-07-21T18:13:23.771Z"
   },
   {
    "duration": 20,
    "start_time": "2021-07-21T18:14:02.724Z"
   },
   {
    "duration": 9,
    "start_time": "2021-07-21T18:15:39.433Z"
   },
   {
    "duration": 26,
    "start_time": "2021-07-21T18:15:44.024Z"
   },
   {
    "duration": 18,
    "start_time": "2021-07-21T18:15:49.779Z"
   },
   {
    "duration": 10,
    "start_time": "2021-07-21T18:15:53.775Z"
   },
   {
    "duration": 19,
    "start_time": "2021-07-21T18:15:57.382Z"
   },
   {
    "duration": 60,
    "start_time": "2021-07-21T18:16:00.759Z"
   },
   {
    "duration": 16,
    "start_time": "2021-07-21T18:16:05.724Z"
   },
   {
    "duration": 25,
    "start_time": "2021-07-21T18:16:10.087Z"
   },
   {
    "duration": 22,
    "start_time": "2021-07-21T18:16:27.642Z"
   },
   {
    "duration": 43,
    "start_time": "2021-07-21T18:16:31.887Z"
   },
   {
    "duration": 9,
    "start_time": "2021-07-21T18:16:35.384Z"
   },
   {
    "duration": 36,
    "start_time": "2021-07-21T18:16:39.820Z"
   },
   {
    "duration": 51,
    "start_time": "2021-07-21T18:16:43.250Z"
   },
   {
    "duration": 23,
    "start_time": "2021-07-21T18:18:23.089Z"
   },
   {
    "duration": 28,
    "start_time": "2021-07-21T18:18:28.515Z"
   },
   {
    "duration": 854,
    "start_time": "2021-07-21T18:18:31.987Z"
   },
   {
    "duration": 758,
    "start_time": "2021-07-21T18:18:37.340Z"
   },
   {
    "duration": 49,
    "start_time": "2021-07-21T18:18:40.868Z"
   },
   {
    "duration": 44,
    "start_time": "2021-07-21T18:18:44.209Z"
   },
   {
    "duration": 46,
    "start_time": "2021-07-21T18:18:47.124Z"
   },
   {
    "duration": 42,
    "start_time": "2021-07-21T18:18:50.421Z"
   },
   {
    "duration": 54,
    "start_time": "2021-07-21T18:18:55.561Z"
   },
   {
    "duration": 27,
    "start_time": "2021-07-21T18:19:40.222Z"
   },
   {
    "duration": 14,
    "start_time": "2021-07-21T18:19:46.131Z"
   },
   {
    "duration": 21,
    "start_time": "2021-07-21T18:19:49.118Z"
   },
   {
    "duration": 35,
    "start_time": "2021-07-21T18:19:51.929Z"
   },
   {
    "duration": 10,
    "start_time": "2021-07-21T18:19:55.869Z"
   },
   {
    "duration": 20,
    "start_time": "2021-07-21T18:19:58.823Z"
   },
   {
    "duration": 26,
    "start_time": "2021-07-21T18:20:05.181Z"
   },
   {
    "duration": 21,
    "start_time": "2021-07-21T18:20:16.729Z"
   },
   {
    "duration": 20,
    "start_time": "2021-07-21T18:20:25.137Z"
   },
   {
    "duration": 14,
    "start_time": "2021-07-21T18:23:46.661Z"
   },
   {
    "duration": 11,
    "start_time": "2021-07-21T18:23:57.847Z"
   },
   {
    "duration": 14,
    "start_time": "2021-07-21T18:24:43.798Z"
   },
   {
    "duration": 14,
    "start_time": "2021-07-21T18:30:23.242Z"
   },
   {
    "duration": 6589,
    "start_time": "2021-07-21T18:31:54.066Z"
   },
   {
    "duration": 15,
    "start_time": "2021-07-21T18:32:48.355Z"
   },
   {
    "duration": 14,
    "start_time": "2021-07-21T18:33:24.534Z"
   },
   {
    "duration": 645,
    "start_time": "2021-07-21T18:34:34.335Z"
   },
   {
    "duration": 666,
    "start_time": "2021-07-21T18:35:38.903Z"
   },
   {
    "duration": 646,
    "start_time": "2021-07-21T18:35:54.540Z"
   },
   {
    "duration": 97,
    "start_time": "2021-07-21T18:37:24.496Z"
   },
   {
    "duration": 30,
    "start_time": "2021-07-21T18:37:38.486Z"
   },
   {
    "duration": 610,
    "start_time": "2021-07-21T18:46:26.959Z"
   },
   {
    "duration": 178,
    "start_time": "2021-07-21T18:46:41.518Z"
   },
   {
    "duration": 153,
    "start_time": "2021-07-21T18:59:37.944Z"
   },
   {
    "duration": 55,
    "start_time": "2021-07-21T18:59:42.582Z"
   },
   {
    "duration": 55,
    "start_time": "2021-07-21T18:59:54.177Z"
   },
   {
    "duration": 47,
    "start_time": "2021-07-21T19:35:29.499Z"
   },
   {
    "duration": 51,
    "start_time": "2021-07-21T19:39:34.421Z"
   },
   {
    "duration": 50,
    "start_time": "2021-07-21T19:39:42.426Z"
   },
   {
    "duration": 51,
    "start_time": "2021-07-21T19:44:08.092Z"
   },
   {
    "duration": 13,
    "start_time": "2021-07-21T19:49:52.292Z"
   },
   {
    "duration": 63,
    "start_time": "2021-07-21T19:49:57.519Z"
   },
   {
    "duration": 15,
    "start_time": "2021-07-21T20:21:17.980Z"
   },
   {
    "duration": 16,
    "start_time": "2021-07-21T20:23:33.611Z"
   },
   {
    "duration": 16,
    "start_time": "2021-07-21T20:27:39.670Z"
   },
   {
    "duration": 27,
    "start_time": "2021-07-21T20:31:02.810Z"
   },
   {
    "duration": 6995,
    "start_time": "2021-07-21T20:37:32.004Z"
   },
   {
    "duration": 16,
    "start_time": "2021-07-21T20:38:47.457Z"
   },
   {
    "duration": 29,
    "start_time": "2021-07-21T20:42:03.275Z"
   },
   {
    "duration": 16,
    "start_time": "2021-07-21T20:49:12.283Z"
   },
   {
    "duration": 233,
    "start_time": "2021-07-22T05:52:00.187Z"
   },
   {
    "duration": 858,
    "start_time": "2021-07-22T05:52:11.371Z"
   },
   {
    "duration": 11,
    "start_time": "2021-07-22T05:52:16.725Z"
   },
   {
    "duration": 300,
    "start_time": "2021-07-22T05:52:21.218Z"
   },
   {
    "duration": 10,
    "start_time": "2021-07-22T05:52:21.520Z"
   },
   {
    "duration": 8,
    "start_time": "2021-07-22T05:52:21.532Z"
   },
   {
    "duration": 7,
    "start_time": "2021-07-22T05:52:21.542Z"
   },
   {
    "duration": 35,
    "start_time": "2021-07-22T05:52:21.550Z"
   },
   {
    "duration": 6,
    "start_time": "2021-07-22T05:52:21.587Z"
   },
   {
    "duration": 21,
    "start_time": "2021-07-22T05:52:21.595Z"
   },
   {
    "duration": 9,
    "start_time": "2021-07-22T05:52:21.617Z"
   },
   {
    "duration": 9,
    "start_time": "2021-07-22T05:52:21.628Z"
   },
   {
    "duration": 3,
    "start_time": "2021-07-22T05:52:21.639Z"
   },
   {
    "duration": 42,
    "start_time": "2021-07-22T05:52:21.644Z"
   },
   {
    "duration": 59,
    "start_time": "2021-07-22T05:52:21.688Z"
   },
   {
    "duration": -203,
    "start_time": "2021-07-22T05:52:21.953Z"
   },
   {
    "duration": -231,
    "start_time": "2021-07-22T05:52:21.982Z"
   },
   {
    "duration": -254,
    "start_time": "2021-07-22T05:52:22.006Z"
   },
   {
    "duration": -259,
    "start_time": "2021-07-22T05:52:22.012Z"
   },
   {
    "duration": -264,
    "start_time": "2021-07-22T05:52:22.018Z"
   },
   {
    "duration": -268,
    "start_time": "2021-07-22T05:52:22.023Z"
   },
   {
    "duration": -272,
    "start_time": "2021-07-22T05:52:22.028Z"
   },
   {
    "duration": -275,
    "start_time": "2021-07-22T05:52:22.032Z"
   },
   {
    "duration": -280,
    "start_time": "2021-07-22T05:52:22.038Z"
   },
   {
    "duration": -283,
    "start_time": "2021-07-22T05:52:22.042Z"
   },
   {
    "duration": -289,
    "start_time": "2021-07-22T05:52:22.048Z"
   },
   {
    "duration": -292,
    "start_time": "2021-07-22T05:52:22.052Z"
   },
   {
    "duration": -297,
    "start_time": "2021-07-22T05:52:22.058Z"
   },
   {
    "duration": -300,
    "start_time": "2021-07-22T05:52:22.062Z"
   },
   {
    "duration": -436,
    "start_time": "2021-07-22T05:52:22.199Z"
   },
   {
    "duration": -440,
    "start_time": "2021-07-22T05:52:22.204Z"
   },
   {
    "duration": -445,
    "start_time": "2021-07-22T05:52:22.210Z"
   },
   {
    "duration": -448,
    "start_time": "2021-07-22T05:52:22.214Z"
   },
   {
    "duration": -454,
    "start_time": "2021-07-22T05:52:22.221Z"
   },
   {
    "duration": -464,
    "start_time": "2021-07-22T05:52:22.232Z"
   },
   {
    "duration": -471,
    "start_time": "2021-07-22T05:52:22.239Z"
   },
   {
    "duration": -474,
    "start_time": "2021-07-22T05:52:22.243Z"
   },
   {
    "duration": -477,
    "start_time": "2021-07-22T05:52:22.248Z"
   },
   {
    "duration": -481,
    "start_time": "2021-07-22T05:52:22.253Z"
   },
   {
    "duration": -486,
    "start_time": "2021-07-22T05:52:22.258Z"
   },
   {
    "duration": -490,
    "start_time": "2021-07-22T05:52:22.263Z"
   },
   {
    "duration": -494,
    "start_time": "2021-07-22T05:52:22.268Z"
   },
   {
    "duration": -497,
    "start_time": "2021-07-22T05:52:22.272Z"
   },
   {
    "duration": -501,
    "start_time": "2021-07-22T05:52:22.277Z"
   },
   {
    "duration": -505,
    "start_time": "2021-07-22T05:52:22.282Z"
   },
   {
    "duration": -510,
    "start_time": "2021-07-22T05:52:22.287Z"
   },
   {
    "duration": -514,
    "start_time": "2021-07-22T05:52:22.292Z"
   },
   {
    "duration": -513,
    "start_time": "2021-07-22T05:52:22.297Z"
   },
   {
    "duration": -517,
    "start_time": "2021-07-22T05:52:22.302Z"
   },
   {
    "duration": -522,
    "start_time": "2021-07-22T05:52:22.307Z"
   },
   {
    "duration": -526,
    "start_time": "2021-07-22T05:52:22.312Z"
   },
   {
    "duration": -530,
    "start_time": "2021-07-22T05:52:22.317Z"
   },
   {
    "duration": -534,
    "start_time": "2021-07-22T05:52:22.322Z"
   },
   {
    "duration": -538,
    "start_time": "2021-07-22T05:52:22.327Z"
   },
   {
    "duration": -549,
    "start_time": "2021-07-22T05:52:22.339Z"
   },
   {
    "duration": -554,
    "start_time": "2021-07-22T05:52:22.345Z"
   },
   {
    "duration": -557,
    "start_time": "2021-07-22T05:52:22.349Z"
   },
   {
    "duration": -561,
    "start_time": "2021-07-22T05:52:22.354Z"
   },
   {
    "duration": -565,
    "start_time": "2021-07-22T05:52:22.359Z"
   },
   {
    "duration": -569,
    "start_time": "2021-07-22T05:52:22.364Z"
   },
   {
    "duration": -574,
    "start_time": "2021-07-22T05:52:22.369Z"
   },
   {
    "duration": -578,
    "start_time": "2021-07-22T05:52:22.374Z"
   },
   {
    "duration": -582,
    "start_time": "2021-07-22T05:52:22.379Z"
   },
   {
    "duration": -586,
    "start_time": "2021-07-22T05:52:22.384Z"
   },
   {
    "duration": -590,
    "start_time": "2021-07-22T05:52:22.389Z"
   },
   {
    "duration": -595,
    "start_time": "2021-07-22T05:52:22.395Z"
   },
   {
    "duration": -599,
    "start_time": "2021-07-22T05:52:22.400Z"
   },
   {
    "duration": 205,
    "start_time": "2021-07-22T05:52:40.907Z"
   },
   {
    "duration": 145,
    "start_time": "2021-07-22T05:52:47.857Z"
   },
   {
    "duration": 11,
    "start_time": "2021-07-22T05:52:52.146Z"
   },
   {
    "duration": 9,
    "start_time": "2021-07-22T05:52:56.047Z"
   },
   {
    "duration": 7,
    "start_time": "2021-07-22T05:52:58.886Z"
   },
   {
    "duration": 8,
    "start_time": "2021-07-22T05:53:01.046Z"
   },
   {
    "duration": 7,
    "start_time": "2021-07-22T05:53:03.326Z"
   },
   {
    "duration": 26,
    "start_time": "2021-07-22T05:53:05.847Z"
   },
   {
    "duration": 9,
    "start_time": "2021-07-22T05:53:08.709Z"
   },
   {
    "duration": 11,
    "start_time": "2021-07-22T05:53:11.509Z"
   },
   {
    "duration": 5,
    "start_time": "2021-07-22T05:53:14.980Z"
   },
   {
    "duration": 11,
    "start_time": "2021-07-22T05:53:17.298Z"
   },
   {
    "duration": 4,
    "start_time": "2021-07-22T05:53:26.454Z"
   },
   {
    "duration": 13,
    "start_time": "2021-07-22T05:53:28.258Z"
   },
   {
    "duration": 11,
    "start_time": "2021-07-22T05:53:31.791Z"
   },
   {
    "duration": 3,
    "start_time": "2021-07-22T05:53:33.909Z"
   },
   {
    "duration": 6,
    "start_time": "2021-07-22T05:53:36.228Z"
   },
   {
    "duration": 8,
    "start_time": "2021-07-22T05:53:40.508Z"
   },
   {
    "duration": 8,
    "start_time": "2021-07-22T05:53:43.380Z"
   },
   {
    "duration": 13,
    "start_time": "2021-07-22T05:53:45.853Z"
   },
   {
    "duration": 6,
    "start_time": "2021-07-22T05:53:49.686Z"
   },
   {
    "duration": 18,
    "start_time": "2021-07-22T05:53:53.565Z"
   },
   {
    "duration": 11,
    "start_time": "2021-07-22T05:53:57.326Z"
   },
   {
    "duration": 8,
    "start_time": "2021-07-22T05:54:01.467Z"
   },
   {
    "duration": 11,
    "start_time": "2021-07-22T05:54:03.472Z"
   },
   {
    "duration": 9,
    "start_time": "2021-07-22T05:54:05.897Z"
   },
   {
    "duration": 10,
    "start_time": "2021-07-22T05:54:09.732Z"
   },
   {
    "duration": 12,
    "start_time": "2021-07-22T05:54:12.667Z"
   },
   {
    "duration": 15,
    "start_time": "2021-07-22T05:55:23.777Z"
   },
   {
    "duration": 27,
    "start_time": "2021-07-22T05:55:26.017Z"
   },
   {
    "duration": 8,
    "start_time": "2021-07-22T05:55:28.092Z"
   },
   {
    "duration": 17,
    "start_time": "2021-07-22T05:55:30.771Z"
   },
   {
    "duration": 18,
    "start_time": "2021-07-22T05:55:35.057Z"
   },
   {
    "duration": 18,
    "start_time": "2021-07-22T05:55:48.811Z"
   },
   {
    "duration": 19,
    "start_time": "2021-07-22T05:55:51.851Z"
   },
   {
    "duration": 656,
    "start_time": "2021-07-22T05:55:54.325Z"
   },
   {
    "duration": 604,
    "start_time": "2021-07-22T05:55:58.772Z"
   },
   {
    "duration": 26,
    "start_time": "2021-07-22T05:56:01.973Z"
   },
   {
    "duration": 28,
    "start_time": "2021-07-22T05:56:04.411Z"
   },
   {
    "duration": 28,
    "start_time": "2021-07-22T05:56:07.227Z"
   },
   {
    "duration": 27,
    "start_time": "2021-07-22T05:56:10.068Z"
   },
   {
    "duration": 37,
    "start_time": "2021-07-22T05:56:16.450Z"
   },
   {
    "duration": 19,
    "start_time": "2021-07-22T05:56:22.292Z"
   },
   {
    "duration": 9,
    "start_time": "2021-07-22T05:56:25.548Z"
   },
   {
    "duration": 14,
    "start_time": "2021-07-22T05:56:30.052Z"
   },
   {
    "duration": 22,
    "start_time": "2021-07-22T05:56:32.829Z"
   },
   {
    "duration": 8,
    "start_time": "2021-07-22T05:56:36.306Z"
   },
   {
    "duration": 14,
    "start_time": "2021-07-22T05:56:38.456Z"
   },
   {
    "duration": 18,
    "start_time": "2021-07-22T05:56:41.742Z"
   },
   {
    "duration": 14,
    "start_time": "2021-07-22T05:56:45.062Z"
   },
   {
    "duration": 12,
    "start_time": "2021-07-22T05:56:51.940Z"
   },
   {
    "duration": 11,
    "start_time": "2021-07-22T05:56:54.669Z"
   },
   {
    "duration": 21,
    "start_time": "2021-07-22T05:57:10.220Z"
   },
   {
    "duration": 37,
    "start_time": "2021-07-22T05:57:13.418Z"
   },
   {
    "duration": 30,
    "start_time": "2021-07-22T05:57:18.018Z"
   },
   {
    "duration": 33,
    "start_time": "2021-07-22T05:57:20.827Z"
   },
   {
    "duration": 33,
    "start_time": "2021-07-22T05:57:23.787Z"
   },
   {
    "duration": 10,
    "start_time": "2021-07-22T05:57:32.849Z"
   },
   {
    "duration": 11,
    "start_time": "2021-07-22T05:57:52.308Z"
   },
   {
    "duration": 19,
    "start_time": "2021-07-22T05:57:57.268Z"
   },
   {
    "duration": 11,
    "start_time": "2021-07-22T05:58:04.367Z"
   },
   {
    "duration": 20,
    "start_time": "2021-07-22T05:58:09.412Z"
   },
   {
    "duration": 11,
    "start_time": "2021-07-22T05:58:13.332Z"
   },
   {
    "duration": 11,
    "start_time": "2021-07-22T05:58:25.748Z"
   },
   {
    "duration": 65,
    "start_time": "2021-07-22T06:00:27.616Z"
   },
   {
    "duration": 19,
    "start_time": "2021-07-22T06:01:41.780Z"
   },
   {
    "duration": 36,
    "start_time": "2021-07-22T06:08:21.468Z"
   },
   {
    "duration": 45,
    "start_time": "2021-07-22T06:08:38.219Z"
   },
   {
    "duration": 35,
    "start_time": "2021-07-22T06:08:54.620Z"
   },
   {
    "duration": 32,
    "start_time": "2021-07-22T06:17:32.532Z"
   },
   {
    "duration": 60,
    "start_time": "2021-07-22T16:24:58.370Z"
   },
   {
    "duration": 263,
    "start_time": "2021-07-22T16:25:45.822Z"
   },
   {
    "duration": 1007,
    "start_time": "2021-07-22T16:25:56.331Z"
   },
   {
    "duration": 12,
    "start_time": "2021-07-22T16:26:01.596Z"
   },
   {
    "duration": 9,
    "start_time": "2021-07-22T16:26:05.520Z"
   },
   {
    "duration": 7,
    "start_time": "2021-07-22T16:26:08.541Z"
   },
   {
    "duration": 7,
    "start_time": "2021-07-22T16:26:10.587Z"
   },
   {
    "duration": 7,
    "start_time": "2021-07-22T16:26:12.787Z"
   },
   {
    "duration": 25,
    "start_time": "2021-07-22T16:26:17.511Z"
   },
   {
    "duration": 10,
    "start_time": "2021-07-22T16:26:20.622Z"
   },
   {
    "duration": 10,
    "start_time": "2021-07-22T16:26:23.287Z"
   },
   {
    "duration": 5,
    "start_time": "2021-07-22T16:26:26.978Z"
   },
   {
    "duration": 11,
    "start_time": "2021-07-22T16:26:30.402Z"
   },
   {
    "duration": 4,
    "start_time": "2021-07-22T16:26:41.190Z"
   },
   {
    "duration": 15,
    "start_time": "2021-07-22T16:26:43.679Z"
   },
   {
    "duration": 11,
    "start_time": "2021-07-22T16:26:49.121Z"
   },
   {
    "duration": 4,
    "start_time": "2021-07-22T16:26:51.683Z"
   },
   {
    "duration": 5,
    "start_time": "2021-07-22T16:26:54.649Z"
   },
   {
    "duration": 8,
    "start_time": "2021-07-22T16:26:58.644Z"
   },
   {
    "duration": 7,
    "start_time": "2021-07-22T16:27:01.013Z"
   },
   {
    "duration": 14,
    "start_time": "2021-07-22T16:27:03.420Z"
   },
   {
    "duration": 6,
    "start_time": "2021-07-22T16:27:05.747Z"
   },
   {
    "duration": 18,
    "start_time": "2021-07-22T16:27:09.040Z"
   },
   {
    "duration": 13,
    "start_time": "2021-07-22T16:27:18.588Z"
   },
   {
    "duration": 13,
    "start_time": "2021-07-22T16:27:20.613Z"
   },
   {
    "duration": 8,
    "start_time": "2021-07-22T16:27:24.212Z"
   },
   {
    "duration": 12,
    "start_time": "2021-07-22T16:27:26.282Z"
   },
   {
    "duration": 9,
    "start_time": "2021-07-22T16:27:30.044Z"
   },
   {
    "duration": 12,
    "start_time": "2021-07-22T16:27:33.224Z"
   },
   {
    "duration": 13,
    "start_time": "2021-07-22T16:27:36.268Z"
   },
   {
    "duration": 16,
    "start_time": "2021-07-22T16:27:39.548Z"
   },
   {
    "duration": 29,
    "start_time": "2021-07-22T16:27:42.038Z"
   },
   {
    "duration": 7,
    "start_time": "2021-07-22T16:27:45.387Z"
   },
   {
    "duration": 17,
    "start_time": "2021-07-22T16:27:48.098Z"
   },
   {
    "duration": 18,
    "start_time": "2021-07-22T16:27:51.341Z"
   },
   {
    "duration": 19,
    "start_time": "2021-07-22T16:27:53.918Z"
   },
   {
    "duration": 653,
    "start_time": "2021-07-22T16:27:56.118Z"
   },
   {
    "duration": 645,
    "start_time": "2021-07-22T16:27:59.424Z"
   },
   {
    "duration": 29,
    "start_time": "2021-07-22T16:28:02.222Z"
   },
   {
    "duration": 30,
    "start_time": "2021-07-22T16:28:04.827Z"
   },
   {
    "duration": 28,
    "start_time": "2021-07-22T16:28:07.168Z"
   },
   {
    "duration": 28,
    "start_time": "2021-07-22T16:28:09.555Z"
   },
   {
    "duration": 36,
    "start_time": "2021-07-22T16:28:15.407Z"
   },
   {
    "duration": 19,
    "start_time": "2021-07-22T16:28:19.758Z"
   },
   {
    "duration": 10,
    "start_time": "2021-07-22T16:28:22.556Z"
   },
   {
    "duration": 14,
    "start_time": "2021-07-22T16:28:25.129Z"
   },
   {
    "duration": 23,
    "start_time": "2021-07-22T16:28:27.797Z"
   },
   {
    "duration": 8,
    "start_time": "2021-07-22T16:28:30.577Z"
   },
   {
    "duration": 14,
    "start_time": "2021-07-22T16:28:33.184Z"
   },
   {
    "duration": 17,
    "start_time": "2021-07-22T16:28:36.762Z"
   },
   {
    "duration": 12,
    "start_time": "2021-07-22T16:28:47.034Z"
   },
   {
    "duration": 18,
    "start_time": "2021-07-22T16:29:09.818Z"
   },
   {
    "duration": 9,
    "start_time": "2021-07-22T16:29:16.676Z"
   },
   {
    "duration": 165,
    "start_time": "2021-07-22T16:29:25.272Z"
   },
   {
    "duration": 15,
    "start_time": "2021-07-22T16:29:37.804Z"
   },
   {
    "duration": 6,
    "start_time": "2021-07-22T16:30:07.472Z"
   },
   {
    "duration": 8,
    "start_time": "2021-07-22T16:30:11.433Z"
   },
   {
    "duration": 11,
    "start_time": "2021-07-22T16:30:16.386Z"
   },
   {
    "duration": 10,
    "start_time": "2021-07-22T16:30:22.622Z"
   },
   {
    "duration": 22,
    "start_time": "2021-07-22T16:30:26.913Z"
   },
   {
    "duration": 45,
    "start_time": "2021-07-22T16:30:30.576Z"
   },
   {
    "duration": 8,
    "start_time": "2021-07-22T16:30:49.537Z"
   },
   {
    "duration": 18,
    "start_time": "2021-07-22T16:30:52.430Z"
   },
   {
    "duration": 43,
    "start_time": "2021-07-22T16:31:01.457Z"
   },
   {
    "duration": 32,
    "start_time": "2021-07-22T16:31:05.136Z"
   },
   {
    "duration": 9,
    "start_time": "2021-07-22T16:31:24.400Z"
   },
   {
    "duration": 32,
    "start_time": "2021-07-22T16:31:35.029Z"
   },
   {
    "duration": 35,
    "start_time": "2021-07-22T16:31:38.591Z"
   },
   {
    "duration": 430,
    "start_time": "2021-07-22T16:31:44.392Z"
   },
   {
    "duration": 17,
    "start_time": "2021-07-22T16:31:53.553Z"
   },
   {
    "duration": 10,
    "start_time": "2021-07-22T16:31:56.224Z"
   },
   {
    "duration": 44,
    "start_time": "2021-07-22T16:32:15.054Z"
   },
   {
    "duration": 11,
    "start_time": "2021-07-22T16:32:20.746Z"
   },
   {
    "duration": 20,
    "start_time": "2021-07-22T16:32:23.559Z"
   },
   {
    "duration": 37,
    "start_time": "2021-07-22T16:32:27.032Z"
   },
   {
    "duration": 57,
    "start_time": "2021-07-22T16:32:31.218Z"
   },
   {
    "duration": 32,
    "start_time": "2021-07-22T16:32:43.493Z"
   },
   {
    "duration": 36,
    "start_time": "2021-07-22T16:42:00.613Z"
   },
   {
    "duration": 373,
    "start_time": "2021-07-22T18:02:09.532Z"
   },
   {
    "duration": 373,
    "start_time": "2021-07-22T18:02:26.376Z"
   },
   {
    "duration": 10,
    "start_time": "2021-07-22T18:02:34.863Z"
   },
   {
    "duration": 24,
    "start_time": "2021-07-22T18:02:38.315Z"
   },
   {
    "duration": 36,
    "start_time": "2021-07-22T18:02:42.112Z"
   },
   {
    "duration": 30,
    "start_time": "2021-07-22T18:02:47.220Z"
   },
   {
    "duration": 35,
    "start_time": "2021-07-22T18:02:49.990Z"
   },
   {
    "duration": 35,
    "start_time": "2021-07-22T18:02:53.201Z"
   },
   {
    "duration": 12,
    "start_time": "2021-07-22T18:02:57.823Z"
   },
   {
    "duration": 18,
    "start_time": "2021-07-22T18:03:01.120Z"
   },
   {
    "duration": 36,
    "start_time": "2021-07-22T18:03:03.735Z"
   },
   {
    "duration": 34,
    "start_time": "2021-07-22T18:03:06.700Z"
   },
   {
    "duration": 36,
    "start_time": "2021-07-22T18:03:10.207Z"
   },
   {
    "duration": 196,
    "start_time": "2021-07-22T18:03:16.013Z"
   },
   {
    "duration": 17,
    "start_time": "2021-07-22T18:03:30.831Z"
   },
   {
    "duration": 8,
    "start_time": "2021-07-22T18:03:33.487Z"
   },
   {
    "duration": 16,
    "start_time": "2021-07-22T18:03:36.404Z"
   },
   {
    "duration": 23,
    "start_time": "2021-07-22T18:03:38.833Z"
   },
   {
    "duration": 8,
    "start_time": "2021-07-22T18:03:43.748Z"
   },
   {
    "duration": 18,
    "start_time": "2021-07-22T18:03:46.730Z"
   },
   {
    "duration": 231,
    "start_time": "2021-07-22T18:04:04.373Z"
   },
   {
    "duration": 11,
    "start_time": "2021-07-22T18:04:07.337Z"
   },
   {
    "duration": 9,
    "start_time": "2021-07-22T18:04:12.170Z"
   },
   {
    "duration": 7,
    "start_time": "2021-07-22T18:04:15.304Z"
   },
   {
    "duration": 8,
    "start_time": "2021-07-22T18:04:17.514Z"
   },
   {
    "duration": 7,
    "start_time": "2021-07-22T18:04:22.011Z"
   },
   {
    "duration": 24,
    "start_time": "2021-07-22T18:04:24.994Z"
   },
   {
    "duration": 10,
    "start_time": "2021-07-22T18:04:27.578Z"
   },
   {
    "duration": 11,
    "start_time": "2021-07-22T18:04:32.380Z"
   },
   {
    "duration": 5,
    "start_time": "2021-07-22T18:04:35.743Z"
   },
   {
    "duration": 16,
    "start_time": "2021-07-22T18:04:37.794Z"
   },
   {
    "duration": 4,
    "start_time": "2021-07-22T18:04:40.214Z"
   },
   {
    "duration": 14,
    "start_time": "2021-07-22T18:04:43.771Z"
   },
   {
    "duration": 11,
    "start_time": "2021-07-22T18:04:48.915Z"
   },
   {
    "duration": 4,
    "start_time": "2021-07-22T18:04:52.446Z"
   },
   {
    "duration": 6,
    "start_time": "2021-07-22T18:04:54.552Z"
   },
   {
    "duration": 7,
    "start_time": "2021-07-22T18:04:58.004Z"
   },
   {
    "duration": 7,
    "start_time": "2021-07-22T18:05:00.417Z"
   },
   {
    "duration": 15,
    "start_time": "2021-07-22T18:05:03.758Z"
   },
   {
    "duration": 6,
    "start_time": "2021-07-22T18:05:06.545Z"
   },
   {
    "duration": 14,
    "start_time": "2021-07-22T18:05:09.976Z"
   },
   {
    "duration": 12,
    "start_time": "2021-07-22T18:05:12.417Z"
   },
   {
    "duration": 7,
    "start_time": "2021-07-22T18:05:16.547Z"
   },
   {
    "duration": 12,
    "start_time": "2021-07-22T18:05:19.061Z"
   },
   {
    "duration": 9,
    "start_time": "2021-07-22T18:05:21.537Z"
   },
   {
    "duration": 11,
    "start_time": "2021-07-22T18:05:25.094Z"
   },
   {
    "duration": 14,
    "start_time": "2021-07-22T18:05:27.697Z"
   },
   {
    "duration": 15,
    "start_time": "2021-07-22T18:05:31.714Z"
   },
   {
    "duration": 29,
    "start_time": "2021-07-22T18:05:37.237Z"
   },
   {
    "duration": 7,
    "start_time": "2021-07-22T18:05:39.284Z"
   },
   {
    "duration": 19,
    "start_time": "2021-07-22T18:05:42.199Z"
   },
   {
    "duration": 18,
    "start_time": "2021-07-22T18:05:46.182Z"
   },
   {
    "duration": 17,
    "start_time": "2021-07-22T18:05:48.994Z"
   },
   {
    "duration": 683,
    "start_time": "2021-07-22T18:05:51.668Z"
   },
   {
    "duration": 26,
    "start_time": "2021-07-22T18:05:55.792Z"
   },
   {
    "duration": 28,
    "start_time": "2021-07-22T18:05:57.979Z"
   },
   {
    "duration": 28,
    "start_time": "2021-07-22T18:06:00.815Z"
   },
   {
    "duration": 28,
    "start_time": "2021-07-22T18:06:02.842Z"
   },
   {
    "duration": 30,
    "start_time": "2021-07-22T18:06:05.390Z"
   },
   {
    "duration": 38,
    "start_time": "2021-07-22T18:06:10.566Z"
   },
   {
    "duration": 19,
    "start_time": "2021-07-22T18:06:14.290Z"
   },
   {
    "duration": 10,
    "start_time": "2021-07-22T18:06:17.197Z"
   },
   {
    "duration": 15,
    "start_time": "2021-07-22T18:06:20.030Z"
   },
   {
    "duration": 24,
    "start_time": "2021-07-22T18:06:24.148Z"
   },
   {
    "duration": 7,
    "start_time": "2021-07-22T18:06:28.865Z"
   },
   {
    "duration": 14,
    "start_time": "2021-07-22T18:06:32.365Z"
   },
   {
    "duration": 20,
    "start_time": "2021-07-22T18:06:36.084Z"
   },
   {
    "duration": 12,
    "start_time": "2021-07-22T18:06:38.572Z"
   },
   {
    "duration": 10,
    "start_time": "2021-07-22T18:06:43.499Z"
   },
   {
    "duration": 10,
    "start_time": "2021-07-22T18:06:48.376Z"
   },
   {
    "duration": 25,
    "start_time": "2021-07-22T18:06:51.142Z"
   },
   {
    "duration": 39,
    "start_time": "2021-07-22T18:06:54.060Z"
   },
   {
    "duration": 30,
    "start_time": "2021-07-22T18:06:57.216Z"
   },
   {
    "duration": 35,
    "start_time": "2021-07-22T18:07:00.294Z"
   },
   {
    "duration": 33,
    "start_time": "2021-07-22T18:07:03.204Z"
   },
   {
    "duration": 10,
    "start_time": "2021-07-22T18:07:07.627Z"
   },
   {
    "duration": 20,
    "start_time": "2021-07-22T18:07:10.953Z"
   },
   {
    "duration": 35,
    "start_time": "2021-07-22T18:07:13.303Z"
   },
   {
    "duration": 33,
    "start_time": "2021-07-22T18:07:16.198Z"
   },
   {
    "duration": 33,
    "start_time": "2021-07-22T18:07:18.900Z"
   },
   {
    "duration": 20,
    "start_time": "2021-07-22T18:07:54.469Z"
   },
   {
    "duration": 13,
    "start_time": "2021-07-22T18:07:57.950Z"
   },
   {
    "duration": 10,
    "start_time": "2021-07-22T18:08:16.120Z"
   },
   {
    "duration": 20,
    "start_time": "2021-07-22T18:08:20.934Z"
   },
   {
    "duration": 35,
    "start_time": "2021-07-22T18:08:34.352Z"
   },
   {
    "duration": 31,
    "start_time": "2021-07-22T18:08:40.328Z"
   },
   {
    "duration": 36,
    "start_time": "2021-07-22T18:08:44.851Z"
   },
   {
    "duration": 31,
    "start_time": "2021-07-22T18:08:48.773Z"
   },
   {
    "duration": 35,
    "start_time": "2021-07-22T18:24:58.143Z"
   },
   {
    "duration": 34,
    "start_time": "2021-07-22T18:25:29.185Z"
   },
   {
    "duration": 37,
    "start_time": "2021-07-22T18:35:11.353Z"
   },
   {
    "duration": 32,
    "start_time": "2021-07-22T18:36:32.674Z"
   },
   {
    "duration": 78,
    "start_time": "2021-07-22T19:05:58.691Z"
   },
   {
    "duration": 77,
    "start_time": "2021-07-22T19:06:10.763Z"
   },
   {
    "duration": 7,
    "start_time": "2021-07-22T19:43:54.187Z"
   },
   {
    "duration": 18,
    "start_time": "2021-07-22T19:44:13.260Z"
   },
   {
    "duration": 15,
    "start_time": "2021-07-22T19:45:46.391Z"
   },
   {
    "duration": 526,
    "start_time": "2021-07-22T19:47:20.102Z"
   },
   {
    "duration": 184,
    "start_time": "2021-07-22T19:47:41.699Z"
   },
   {
    "duration": 586,
    "start_time": "2021-07-22T19:53:50.929Z"
   },
   {
    "duration": 4050,
    "start_time": "2021-07-22T19:54:18.061Z"
   },
   {
    "duration": 13,
    "start_time": "2021-07-22T19:54:37.737Z"
   },
   {
    "duration": 213,
    "start_time": "2021-07-22T19:54:52.086Z"
   },
   {
    "duration": 13,
    "start_time": "2021-07-22T19:54:55.838Z"
   },
   {
    "duration": 10,
    "start_time": "2021-07-22T19:54:59.998Z"
   },
   {
    "duration": 20,
    "start_time": "2021-07-22T19:55:05.120Z"
   },
   {
    "duration": 5,
    "start_time": "2021-07-22T19:55:34.584Z"
   },
   {
    "duration": 12,
    "start_time": "2021-07-22T19:55:39.329Z"
   },
   {
    "duration": 5,
    "start_time": "2021-07-22T19:55:42.079Z"
   },
   {
    "duration": 11,
    "start_time": "2021-07-22T19:55:54.410Z"
   },
   {
    "duration": 3,
    "start_time": "2021-07-22T19:55:57.357Z"
   },
   {
    "duration": 8,
    "start_time": "2021-07-22T20:07:24.203Z"
   },
   {
    "duration": 8,
    "start_time": "2021-07-22T20:07:32.531Z"
   },
   {
    "duration": 14,
    "start_time": "2021-07-22T20:14:53.971Z"
   },
   {
    "duration": 10,
    "start_time": "2021-07-22T20:17:02.224Z"
   },
   {
    "duration": 13,
    "start_time": "2021-07-22T20:18:18.424Z"
   },
   {
    "duration": 12,
    "start_time": "2021-07-22T20:20:52.504Z"
   },
   {
    "duration": 14,
    "start_time": "2021-07-22T20:34:52.734Z"
   },
   {
    "duration": 8,
    "start_time": "2021-07-22T20:54:56.696Z"
   },
   {
    "duration": 6,
    "start_time": "2021-07-22T20:55:13.138Z"
   },
   {
    "duration": 183,
    "start_time": "2021-07-22T21:00:29.120Z"
   },
   {
    "duration": 14,
    "start_time": "2021-07-22T21:00:37.856Z"
   },
   {
    "duration": 13,
    "start_time": "2021-07-22T21:02:11.380Z"
   },
   {
    "duration": 18,
    "start_time": "2021-07-22T21:07:25.334Z"
   },
   {
    "duration": 9,
    "start_time": "2021-07-22T21:07:29.388Z"
   },
   {
    "duration": 15,
    "start_time": "2021-07-22T21:07:34.589Z"
   },
   {
    "duration": 6,
    "start_time": "2021-07-22T21:19:00.608Z"
   },
   {
    "duration": 61,
    "start_time": "2021-07-22T21:20:14.644Z"
   },
   {
    "duration": 10,
    "start_time": "2021-07-22T21:32:21.581Z"
   },
   {
    "duration": 35,
    "start_time": "2021-07-22T21:46:19.374Z"
   },
   {
    "duration": 62,
    "start_time": "2021-07-23T15:53:14.385Z"
   },
   {
    "duration": 217,
    "start_time": "2021-07-23T15:59:17.726Z"
   },
   {
    "duration": 186,
    "start_time": "2021-07-23T16:02:23.490Z"
   },
   {
    "duration": 739,
    "start_time": "2021-07-23T16:30:10.810Z"
   },
   {
    "duration": 12,
    "start_time": "2021-07-23T16:30:15.062Z"
   },
   {
    "duration": 10,
    "start_time": "2021-07-23T16:30:21.141Z"
   },
   {
    "duration": 4,
    "start_time": "2021-07-23T16:30:25.053Z"
   },
   {
    "duration": 12,
    "start_time": "2021-07-23T16:30:28.757Z"
   },
   {
    "duration": 5,
    "start_time": "2021-07-23T16:30:32.311Z"
   },
   {
    "duration": 11,
    "start_time": "2021-07-23T16:30:35.869Z"
   },
   {
    "duration": 4,
    "start_time": "2021-07-23T16:30:40.117Z"
   },
   {
    "duration": 6,
    "start_time": "2021-07-23T16:30:43.874Z"
   },
   {
    "duration": 9,
    "start_time": "2021-07-23T16:30:47.128Z"
   },
   {
    "duration": 8,
    "start_time": "2021-07-23T16:30:50.738Z"
   },
   {
    "duration": 13,
    "start_time": "2021-07-23T16:30:54.809Z"
   },
   {
    "duration": 7,
    "start_time": "2021-07-23T16:30:58.365Z"
   },
   {
    "duration": 14,
    "start_time": "2021-07-23T16:31:09.041Z"
   },
   {
    "duration": 12,
    "start_time": "2021-07-23T16:31:12.205Z"
   },
   {
    "duration": 8,
    "start_time": "2021-07-23T16:31:16.437Z"
   },
   {
    "duration": 12,
    "start_time": "2021-07-23T16:31:20.437Z"
   },
   {
    "duration": 9,
    "start_time": "2021-07-23T16:31:28.585Z"
   },
   {
    "duration": 12,
    "start_time": "2021-07-23T16:31:31.976Z"
   },
   {
    "duration": 13,
    "start_time": "2021-07-23T16:31:35.313Z"
   },
   {
    "duration": 17,
    "start_time": "2021-07-23T16:31:39.508Z"
   },
   {
    "duration": 28,
    "start_time": "2021-07-23T16:31:43.356Z"
   },
   {
    "duration": 8,
    "start_time": "2021-07-23T16:31:46.745Z"
   },
   {
    "duration": 18,
    "start_time": "2021-07-23T16:31:50.030Z"
   },
   {
    "duration": 19,
    "start_time": "2021-07-23T16:31:55.119Z"
   },
   {
    "duration": 19,
    "start_time": "2021-07-23T16:31:58.119Z"
   },
   {
    "duration": 644,
    "start_time": "2021-07-23T16:32:01.752Z"
   },
   {
    "duration": 632,
    "start_time": "2021-07-23T16:32:06.132Z"
   },
   {
    "duration": 28,
    "start_time": "2021-07-23T16:32:09.084Z"
   },
   {
    "duration": 30,
    "start_time": "2021-07-23T16:32:11.610Z"
   },
   {
    "duration": 29,
    "start_time": "2021-07-23T16:32:14.051Z"
   },
   {
    "duration": 28,
    "start_time": "2021-07-23T16:32:16.404Z"
   },
   {
    "duration": 37,
    "start_time": "2021-07-23T16:32:21.324Z"
   },
   {
    "duration": 7,
    "start_time": "2021-07-23T16:32:25.652Z"
   },
   {
    "duration": 15,
    "start_time": "2021-07-23T16:32:28.006Z"
   },
   {
    "duration": 17,
    "start_time": "2021-07-23T16:32:32.657Z"
   },
   {
    "duration": 18,
    "start_time": "2021-07-23T16:32:45.383Z"
   },
   {
    "duration": 10,
    "start_time": "2021-07-23T16:32:49.271Z"
   },
   {
    "duration": 7,
    "start_time": "2021-07-23T16:32:52.484Z"
   },
   {
    "duration": 14,
    "start_time": "2021-07-23T16:32:55.416Z"
   },
   {
    "duration": 19,
    "start_time": "2021-07-23T16:32:58.335Z"
   },
   {
    "duration": 10,
    "start_time": "2021-07-23T16:33:08.520Z"
   },
   {
    "duration": 10,
    "start_time": "2021-07-23T16:33:14.691Z"
   },
   {
    "duration": 22,
    "start_time": "2021-07-23T16:33:19.367Z"
   },
   {
    "duration": 39,
    "start_time": "2021-07-23T16:33:23.169Z"
   },
   {
    "duration": 32,
    "start_time": "2021-07-23T16:33:27.929Z"
   },
   {
    "duration": 33,
    "start_time": "2021-07-23T16:33:31.746Z"
   },
   {
    "duration": 32,
    "start_time": "2021-07-23T16:33:34.740Z"
   },
   {
    "duration": 11,
    "start_time": "2021-07-23T16:33:38.806Z"
   },
   {
    "duration": 20,
    "start_time": "2021-07-23T16:33:41.436Z"
   },
   {
    "duration": 35,
    "start_time": "2021-07-23T16:33:44.243Z"
   },
   {
    "duration": 32,
    "start_time": "2021-07-23T16:33:46.823Z"
   },
   {
    "duration": 36,
    "start_time": "2021-07-23T16:33:49.436Z"
   },
   {
    "duration": 10,
    "start_time": "2021-07-23T16:33:53.503Z"
   },
   {
    "duration": 20,
    "start_time": "2021-07-23T16:33:56.273Z"
   },
   {
    "duration": 37,
    "start_time": "2021-07-23T16:33:58.615Z"
   },
   {
    "duration": 33,
    "start_time": "2021-07-23T16:34:00.683Z"
   },
   {
    "duration": 11,
    "start_time": "2021-07-23T16:34:04.046Z"
   },
   {
    "duration": 22,
    "start_time": "2021-07-23T16:34:07.526Z"
   },
   {
    "duration": 35,
    "start_time": "2021-07-23T16:34:09.956Z"
   },
   {
    "duration": 41,
    "start_time": "2021-07-23T16:34:12.791Z"
   },
   {
    "duration": 35,
    "start_time": "2021-07-23T16:34:15.160Z"
   },
   {
    "duration": 1003,
    "start_time": "2021-07-24T06:48:39.313Z"
   },
   {
    "duration": 14,
    "start_time": "2021-07-24T06:48:40.319Z"
   },
   {
    "duration": 29,
    "start_time": "2021-07-24T06:48:40.336Z"
   },
   {
    "duration": 6,
    "start_time": "2021-07-24T06:48:40.367Z"
   },
   {
    "duration": 20,
    "start_time": "2021-07-24T06:48:40.375Z"
   },
   {
    "duration": 10,
    "start_time": "2021-07-24T06:48:40.398Z"
   },
   {
    "duration": 58,
    "start_time": "2021-07-24T06:48:40.410Z"
   },
   {
    "duration": 5,
    "start_time": "2021-07-24T06:48:40.472Z"
   },
   {
    "duration": 10,
    "start_time": "2021-07-24T06:48:40.480Z"
   },
   {
    "duration": 10,
    "start_time": "2021-07-24T06:48:40.493Z"
   },
   {
    "duration": 10,
    "start_time": "2021-07-24T06:48:40.506Z"
   },
   {
    "duration": 61,
    "start_time": "2021-07-24T06:48:40.519Z"
   },
   {
    "duration": 8,
    "start_time": "2021-07-24T06:48:40.582Z"
   },
   {
    "duration": 19,
    "start_time": "2021-07-24T06:48:40.593Z"
   },
   {
    "duration": 61,
    "start_time": "2021-07-24T06:48:40.615Z"
   },
   {
    "duration": 10,
    "start_time": "2021-07-24T06:48:40.678Z"
   },
   {
    "duration": 27,
    "start_time": "2021-07-24T06:48:40.690Z"
   },
   {
    "duration": 18,
    "start_time": "2021-07-24T06:48:40.720Z"
   },
   {
    "duration": 34,
    "start_time": "2021-07-24T06:48:40.740Z"
   },
   {
    "duration": 16,
    "start_time": "2021-07-24T06:48:40.777Z"
   },
   {
    "duration": 23,
    "start_time": "2021-07-24T06:48:40.796Z"
   },
   {
    "duration": 82,
    "start_time": "2021-07-24T06:48:40.821Z"
   },
   {
    "duration": 9,
    "start_time": "2021-07-24T06:48:40.909Z"
   },
   {
    "duration": 51,
    "start_time": "2021-07-24T06:48:40.921Z"
   },
   {
    "duration": 32,
    "start_time": "2021-07-24T06:48:40.974Z"
   },
   {
    "duration": 29,
    "start_time": "2021-07-24T06:48:41.009Z"
   },
   {
    "duration": 941,
    "start_time": "2021-07-24T06:48:41.062Z"
   },
   {
    "duration": 846,
    "start_time": "2021-07-24T06:48:42.005Z"
   },
   {
    "duration": 48,
    "start_time": "2021-07-24T06:48:42.853Z"
   },
   {
    "duration": 80,
    "start_time": "2021-07-24T06:48:42.904Z"
   },
   {
    "duration": 85,
    "start_time": "2021-07-24T06:48:42.986Z"
   },
   {
    "duration": 89,
    "start_time": "2021-07-24T06:48:43.074Z"
   },
   {
    "duration": 58,
    "start_time": "2021-07-24T06:48:43.166Z"
   },
   {
    "duration": 42,
    "start_time": "2021-07-24T06:48:43.227Z"
   },
   {
    "duration": 30,
    "start_time": "2021-07-24T06:48:43.271Z"
   },
   {
    "duration": 40,
    "start_time": "2021-07-24T06:48:43.303Z"
   },
   {
    "duration": 26,
    "start_time": "2021-07-24T06:48:43.346Z"
   },
   {
    "duration": 10,
    "start_time": "2021-07-24T06:48:43.375Z"
   },
   {
    "duration": 30,
    "start_time": "2021-07-24T06:48:43.388Z"
   },
   {
    "duration": 57,
    "start_time": "2021-07-24T06:48:43.421Z"
   },
   {
    "duration": 13,
    "start_time": "2021-07-24T06:48:43.481Z"
   },
   {
    "duration": 25,
    "start_time": "2021-07-24T06:48:43.496Z"
   },
   {
    "duration": 111,
    "start_time": "2021-07-24T06:48:43.523Z"
   },
   {
    "duration": -1149,
    "start_time": "2021-07-24T06:48:44.786Z"
   },
   {
    "duration": -1153,
    "start_time": "2021-07-24T06:48:44.791Z"
   },
   {
    "duration": -1155,
    "start_time": "2021-07-24T06:48:44.795Z"
   },
   {
    "duration": -1158,
    "start_time": "2021-07-24T06:48:44.799Z"
   },
   {
    "duration": -1161,
    "start_time": "2021-07-24T06:48:44.803Z"
   },
   {
    "duration": -1163,
    "start_time": "2021-07-24T06:48:44.807Z"
   },
   {
    "duration": -1165,
    "start_time": "2021-07-24T06:48:44.810Z"
   },
   {
    "duration": -1167,
    "start_time": "2021-07-24T06:48:44.814Z"
   },
   {
    "duration": -1185,
    "start_time": "2021-07-24T06:48:44.833Z"
   },
   {
    "duration": -1189,
    "start_time": "2021-07-24T06:48:44.838Z"
   },
   {
    "duration": -1192,
    "start_time": "2021-07-24T06:48:44.843Z"
   },
   {
    "duration": -1196,
    "start_time": "2021-07-24T06:48:44.848Z"
   },
   {
    "duration": -1198,
    "start_time": "2021-07-24T06:48:44.851Z"
   },
   {
    "duration": -1202,
    "start_time": "2021-07-24T06:48:44.857Z"
   },
   {
    "duration": -1205,
    "start_time": "2021-07-24T06:48:44.861Z"
   },
   {
    "duration": -1209,
    "start_time": "2021-07-24T06:48:44.866Z"
   },
   {
    "duration": -1210,
    "start_time": "2021-07-24T06:48:44.869Z"
   },
   {
    "duration": -1213,
    "start_time": "2021-07-24T06:48:44.873Z"
   },
   {
    "duration": -1215,
    "start_time": "2021-07-24T06:48:44.877Z"
   },
   {
    "duration": 31,
    "start_time": "2021-07-24T06:48:59.524Z"
   },
   {
    "duration": 62,
    "start_time": "2021-07-24T06:48:59.558Z"
   },
   {
    "duration": 82,
    "start_time": "2021-07-24T06:48:59.624Z"
   },
   {
    "duration": 79,
    "start_time": "2021-07-24T06:48:59.709Z"
   },
   {
    "duration": 71,
    "start_time": "2021-07-24T06:48:59.791Z"
   },
   {
    "duration": 19,
    "start_time": "2021-07-24T06:48:59.864Z"
   },
   {
    "duration": 32,
    "start_time": "2021-07-24T06:48:59.886Z"
   },
   {
    "duration": 93,
    "start_time": "2021-07-24T06:48:59.921Z"
   },
   {
    "duration": 68,
    "start_time": "2021-07-24T06:49:00.018Z"
   },
   {
    "duration": 52,
    "start_time": "2021-07-24T06:49:00.089Z"
   },
   {
    "duration": 31,
    "start_time": "2021-07-24T06:49:00.144Z"
   },
   {
    "duration": 29,
    "start_time": "2021-07-24T06:49:00.177Z"
   },
   {
    "duration": 91,
    "start_time": "2021-07-24T06:49:00.208Z"
   },
   {
    "duration": 74,
    "start_time": "2021-07-24T06:49:00.301Z"
   },
   {
    "duration": 16,
    "start_time": "2021-07-24T06:49:00.377Z"
   },
   {
    "duration": 32,
    "start_time": "2021-07-24T06:49:00.395Z"
   },
   {
    "duration": 57,
    "start_time": "2021-07-24T06:49:00.462Z"
   },
   {
    "duration": 85,
    "start_time": "2021-07-24T06:49:00.521Z"
   },
   {
    "duration": 66,
    "start_time": "2021-07-24T06:49:00.609Z"
   },
   {
    "duration": 22,
    "start_time": "2021-07-24T07:07:37.800Z"
   },
   {
    "duration": 8,
    "start_time": "2021-07-24T07:13:32.358Z"
   },
   {
    "duration": 226,
    "start_time": "2021-07-24T07:13:46.835Z"
   },
   {
    "duration": 15,
    "start_time": "2021-07-24T07:13:47.064Z"
   },
   {
    "duration": 14,
    "start_time": "2021-07-24T07:13:47.081Z"
   },
   {
    "duration": 7,
    "start_time": "2021-07-24T07:13:47.098Z"
   },
   {
    "duration": 56,
    "start_time": "2021-07-24T07:13:47.107Z"
   },
   {
    "duration": 6,
    "start_time": "2021-07-24T07:13:47.166Z"
   },
   {
    "duration": 21,
    "start_time": "2021-07-24T07:13:47.174Z"
   },
   {
    "duration": 10,
    "start_time": "2021-07-24T07:13:47.199Z"
   },
   {
    "duration": 11,
    "start_time": "2021-07-24T07:13:47.212Z"
   },
   {
    "duration": 44,
    "start_time": "2021-07-24T07:13:47.225Z"
   },
   {
    "duration": 11,
    "start_time": "2021-07-24T07:13:47.271Z"
   },
   {
    "duration": 20,
    "start_time": "2021-07-24T07:13:47.284Z"
   },
   {
    "duration": 9,
    "start_time": "2021-07-24T07:13:47.307Z"
   },
   {
    "duration": 61,
    "start_time": "2021-07-24T07:13:47.318Z"
   },
   {
    "duration": 19,
    "start_time": "2021-07-24T07:13:47.381Z"
   },
   {
    "duration": 9,
    "start_time": "2021-07-24T07:13:47.402Z"
   },
   {
    "duration": 56,
    "start_time": "2021-07-24T07:13:47.414Z"
   },
   {
    "duration": 21,
    "start_time": "2021-07-24T07:13:47.472Z"
   },
   {
    "duration": 14,
    "start_time": "2021-07-24T07:13:47.495Z"
   },
   {
    "duration": 16,
    "start_time": "2021-07-24T07:13:47.512Z"
   },
   {
    "duration": 52,
    "start_time": "2021-07-24T07:13:47.531Z"
   },
   {
    "duration": 44,
    "start_time": "2021-07-24T07:13:47.585Z"
   },
   {
    "duration": 10,
    "start_time": "2021-07-24T07:13:47.663Z"
   },
   {
    "duration": 23,
    "start_time": "2021-07-24T07:13:47.677Z"
   },
   {
    "duration": 27,
    "start_time": "2021-07-24T07:13:47.703Z"
   },
   {
    "duration": 54,
    "start_time": "2021-07-24T07:13:47.732Z"
   },
   {
    "duration": 960,
    "start_time": "2021-07-24T07:13:47.789Z"
   },
   {
    "duration": 43,
    "start_time": "2021-07-24T07:13:48.751Z"
   },
   {
    "duration": 74,
    "start_time": "2021-07-24T07:13:48.796Z"
   },
   {
    "duration": 43,
    "start_time": "2021-07-24T07:13:48.873Z"
   },
   {
    "duration": 80,
    "start_time": "2021-07-24T07:13:48.918Z"
   },
   {
    "duration": 81,
    "start_time": "2021-07-24T07:13:49.000Z"
   },
   {
    "duration": 89,
    "start_time": "2021-07-24T07:13:49.083Z"
   },
   {
    "duration": 8,
    "start_time": "2021-07-24T07:13:49.174Z"
   },
   {
    "duration": 20,
    "start_time": "2021-07-24T07:13:49.185Z"
   },
   {
    "duration": 54,
    "start_time": "2021-07-24T07:13:49.208Z"
   },
   {
    "duration": 13,
    "start_time": "2021-07-24T07:13:49.264Z"
   },
   {
    "duration": 10,
    "start_time": "2021-07-24T07:13:49.279Z"
   },
   {
    "duration": 21,
    "start_time": "2021-07-24T07:13:49.291Z"
   },
   {
    "duration": 71,
    "start_time": "2021-07-24T07:13:49.315Z"
   },
   {
    "duration": 14,
    "start_time": "2021-07-24T07:13:49.388Z"
   },
   {
    "duration": 15,
    "start_time": "2021-07-24T07:13:49.405Z"
   },
   {
    "duration": 44,
    "start_time": "2021-07-24T07:13:49.423Z"
   },
   {
    "duration": 32,
    "start_time": "2021-07-24T07:13:49.471Z"
   },
   {
    "duration": 92,
    "start_time": "2021-07-24T07:13:49.506Z"
   },
   {
    "duration": 63,
    "start_time": "2021-07-24T07:13:49.600Z"
   },
   {
    "duration": 55,
    "start_time": "2021-07-24T07:13:49.666Z"
   },
   {
    "duration": 72,
    "start_time": "2021-07-24T07:13:49.723Z"
   },
   {
    "duration": 15,
    "start_time": "2021-07-24T07:13:49.797Z"
   },
   {
    "duration": 59,
    "start_time": "2021-07-24T07:13:49.814Z"
   },
   {
    "duration": 56,
    "start_time": "2021-07-24T07:13:49.875Z"
   },
   {
    "duration": 72,
    "start_time": "2021-07-24T07:13:49.933Z"
   },
   {
    "duration": 73,
    "start_time": "2021-07-24T07:13:50.007Z"
   },
   {
    "duration": 15,
    "start_time": "2021-07-24T07:13:50.082Z"
   },
   {
    "duration": 64,
    "start_time": "2021-07-24T07:13:50.099Z"
   },
   {
    "duration": 57,
    "start_time": "2021-07-24T07:13:50.166Z"
   },
   {
    "duration": 74,
    "start_time": "2021-07-24T07:13:50.225Z"
   },
   {
    "duration": 15,
    "start_time": "2021-07-24T07:13:50.301Z"
   },
   {
    "duration": 57,
    "start_time": "2021-07-24T07:13:50.319Z"
   },
   {
    "duration": 58,
    "start_time": "2021-07-24T07:13:50.378Z"
   },
   {
    "duration": 81,
    "start_time": "2021-07-24T07:13:50.439Z"
   },
   {
    "duration": 77,
    "start_time": "2021-07-24T07:13:50.524Z"
   },
   {
    "duration": 8096,
    "start_time": "2021-07-24T07:14:31.541Z"
   },
   {
    "duration": 227,
    "start_time": "2021-07-24T07:14:49.929Z"
   },
   {
    "duration": 15,
    "start_time": "2021-07-24T07:14:50.158Z"
   },
   {
    "duration": 12,
    "start_time": "2021-07-24T07:14:50.176Z"
   },
   {
    "duration": 6,
    "start_time": "2021-07-24T07:14:50.191Z"
   },
   {
    "duration": 20,
    "start_time": "2021-07-24T07:14:50.199Z"
   },
   {
    "duration": 42,
    "start_time": "2021-07-24T07:14:50.221Z"
   },
   {
    "duration": 18,
    "start_time": "2021-07-24T07:14:50.265Z"
   },
   {
    "duration": 6,
    "start_time": "2021-07-24T07:14:50.287Z"
   },
   {
    "duration": 15,
    "start_time": "2021-07-24T07:14:50.296Z"
   },
   {
    "duration": 52,
    "start_time": "2021-07-24T07:14:50.314Z"
   },
   {
    "duration": 10,
    "start_time": "2021-07-24T07:14:50.369Z"
   },
   {
    "duration": 26,
    "start_time": "2021-07-24T07:14:50.381Z"
   },
   {
    "duration": 9,
    "start_time": "2021-07-24T07:14:50.410Z"
   },
   {
    "duration": 55,
    "start_time": "2021-07-24T07:14:50.422Z"
   },
   {
    "duration": 26,
    "start_time": "2021-07-24T07:14:50.479Z"
   },
   {
    "duration": 10,
    "start_time": "2021-07-24T07:14:50.507Z"
   },
   {
    "duration": 48,
    "start_time": "2021-07-24T07:14:50.520Z"
   },
   {
    "duration": 15,
    "start_time": "2021-07-24T07:14:50.571Z"
   },
   {
    "duration": 15,
    "start_time": "2021-07-24T07:14:50.589Z"
   },
   {
    "duration": 56,
    "start_time": "2021-07-24T07:14:50.607Z"
   },
   {
    "duration": 24,
    "start_time": "2021-07-24T07:14:50.666Z"
   },
   {
    "duration": 73,
    "start_time": "2021-07-24T07:14:50.693Z"
   },
   {
    "duration": 10,
    "start_time": "2021-07-24T07:14:50.771Z"
   },
   {
    "duration": 31,
    "start_time": "2021-07-24T07:14:50.783Z"
   },
   {
    "duration": 54,
    "start_time": "2021-07-24T07:14:50.816Z"
   },
   {
    "duration": 25,
    "start_time": "2021-07-24T07:14:50.872Z"
   },
   {
    "duration": 985,
    "start_time": "2021-07-24T07:14:50.900Z"
   },
   {
    "duration": 37,
    "start_time": "2021-07-24T07:14:51.888Z"
   },
   {
    "duration": 71,
    "start_time": "2021-07-24T07:14:51.928Z"
   },
   {
    "duration": 76,
    "start_time": "2021-07-24T07:14:52.001Z"
   },
   {
    "duration": 92,
    "start_time": "2021-07-24T07:14:52.079Z"
   },
   {
    "duration": 46,
    "start_time": "2021-07-24T07:14:52.173Z"
   },
   {
    "duration": 59,
    "start_time": "2021-07-24T07:14:52.263Z"
   },
   {
    "duration": 8,
    "start_time": "2021-07-24T07:14:52.325Z"
   },
   {
    "duration": 47,
    "start_time": "2021-07-24T07:14:52.335Z"
   },
   {
    "duration": 28,
    "start_time": "2021-07-24T07:14:52.385Z"
   },
   {
    "duration": 46,
    "start_time": "2021-07-24T07:14:52.416Z"
   },
   {
    "duration": 10,
    "start_time": "2021-07-24T07:14:52.464Z"
   },
   {
    "duration": 20,
    "start_time": "2021-07-24T07:14:52.476Z"
   },
   {
    "duration": 26,
    "start_time": "2021-07-24T07:14:52.499Z"
   },
   {
    "duration": 46,
    "start_time": "2021-07-24T07:14:52.527Z"
   },
   {
    "duration": 13,
    "start_time": "2021-07-24T07:14:52.576Z"
   },
   {
    "duration": 6,
    "start_time": "2021-07-24T07:15:15.148Z"
   },
   {
    "duration": 634,
    "start_time": "2021-07-24T11:55:03.228Z"
   },
   {
    "duration": 1306,
    "start_time": "2021-07-24T11:55:12.334Z"
   },
   {
    "duration": 527,
    "start_time": "2021-07-24T11:55:19.418Z"
   },
   {
    "duration": 260,
    "start_time": "2021-07-24T11:55:32.804Z"
   },
   {
    "duration": 598,
    "start_time": "2021-07-24T11:55:57.139Z"
   },
   {
    "duration": 10,
    "start_time": "2021-07-24T11:57:00.003Z"
   },
   {
    "duration": 14,
    "start_time": "2021-07-24T11:58:03.110Z"
   },
   {
    "duration": 253,
    "start_time": "2021-07-24T11:59:23.429Z"
   },
   {
    "duration": 4,
    "start_time": "2021-07-24T11:59:28.522Z"
   },
   {
    "duration": 18,
    "start_time": "2021-07-24T11:59:33.835Z"
   },
   {
    "duration": 290,
    "start_time": "2021-07-24T12:04:27.512Z"
   },
   {
    "duration": 26,
    "start_time": "2021-07-24T12:04:37.810Z"
   },
   {
    "duration": 35,
    "start_time": "2021-07-24T12:04:41.438Z"
   },
   {
    "duration": 952,
    "start_time": "2021-07-24T12:04:44.868Z"
   },
   {
    "duration": 817,
    "start_time": "2021-07-24T12:04:49.716Z"
   },
   {
    "duration": 48,
    "start_time": "2021-07-24T12:04:52.956Z"
   },
   {
    "duration": 49,
    "start_time": "2021-07-24T12:04:56.334Z"
   },
   {
    "duration": 46,
    "start_time": "2021-07-24T12:04:59.621Z"
   },
   {
    "duration": 35,
    "start_time": "2021-07-24T12:05:13.185Z"
   },
   {
    "duration": 12,
    "start_time": "2021-07-24T12:05:39.459Z"
   },
   {
    "duration": 84,
    "start_time": "2021-07-24T12:08:12.334Z"
   },
   {
    "duration": 37,
    "start_time": "2021-07-24T12:08:20.665Z"
   },
   {
    "duration": 39,
    "start_time": "2021-07-24T12:08:36.143Z"
   },
   {
    "duration": 1063,
    "start_time": "2021-07-24T12:09:20.626Z"
   },
   {
    "duration": 37,
    "start_time": "2021-07-24T12:09:34.338Z"
   },
   {
    "duration": 948,
    "start_time": "2021-07-24T12:09:37.312Z"
   },
   {
    "duration": 790,
    "start_time": "2021-07-24T12:09:41.447Z"
   },
   {
    "duration": 34,
    "start_time": "2021-07-24T12:09:51.503Z"
   },
   {
    "duration": 15,
    "start_time": "2021-07-24T12:10:25.405Z"
   },
   {
    "duration": 49,
    "start_time": "2021-07-24T12:42:12.152Z"
   },
   {
    "duration": 404,
    "start_time": "2021-07-24T12:48:28.883Z"
   },
   {
    "duration": 7,
    "start_time": "2021-07-24T12:48:42.211Z"
   },
   {
    "duration": 5,
    "start_time": "2021-07-24T12:48:48.030Z"
   },
   {
    "duration": 17,
    "start_time": "2021-07-24T12:48:51.910Z"
   },
   {
    "duration": 31,
    "start_time": "2021-07-24T12:55:42.304Z"
   },
   {
    "duration": 31,
    "start_time": "2021-07-24T12:56:11.750Z"
   },
   {
    "duration": 978,
    "start_time": "2021-07-24T12:56:15.114Z"
   },
   {
    "duration": 34,
    "start_time": "2021-07-24T12:56:19.889Z"
   },
   {
    "duration": 29,
    "start_time": "2021-07-24T12:56:50.978Z"
   },
   {
    "duration": 35,
    "start_time": "2021-07-24T12:57:22.555Z"
   },
   {
    "duration": 40,
    "start_time": "2021-07-24T12:57:38.426Z"
   },
   {
    "duration": 30,
    "start_time": "2021-07-24T12:57:58.617Z"
   },
   {
    "duration": 36,
    "start_time": "2021-07-24T12:58:26.344Z"
   },
   {
    "duration": 32,
    "start_time": "2021-07-24T12:59:43.157Z"
   },
   {
    "duration": 28,
    "start_time": "2021-07-24T12:59:55.920Z"
   },
   {
    "duration": 29,
    "start_time": "2021-07-24T13:01:17.917Z"
   },
   {
    "duration": 36,
    "start_time": "2021-07-24T13:01:36.246Z"
   },
   {
    "duration": 29,
    "start_time": "2021-07-24T13:02:15.286Z"
   },
   {
    "duration": 211,
    "start_time": "2021-07-24T13:02:41.894Z"
   },
   {
    "duration": 16,
    "start_time": "2021-07-24T13:02:45.460Z"
   },
   {
    "duration": 50,
    "start_time": "2021-07-24T13:02:49.020Z"
   },
   {
    "duration": 13,
    "start_time": "2021-07-24T13:02:53.716Z"
   },
   {
    "duration": 5,
    "start_time": "2021-07-24T13:02:57.421Z"
   },
   {
    "duration": 5,
    "start_time": "2021-07-24T13:03:01.061Z"
   },
   {
    "duration": 4,
    "start_time": "2021-07-24T13:03:09.030Z"
   },
   {
    "duration": 6,
    "start_time": "2021-07-24T13:03:20.003Z"
   },
   {
    "duration": 18,
    "start_time": "2021-07-24T13:03:24.028Z"
   },
   {
    "duration": 4,
    "start_time": "2021-07-24T13:03:27.997Z"
   },
   {
    "duration": 6,
    "start_time": "2021-07-24T13:03:34.793Z"
   },
   {
    "duration": 19,
    "start_time": "2021-07-24T13:03:38.156Z"
   },
   {
    "duration": 4,
    "start_time": "2021-07-24T13:03:48.199Z"
   },
   {
    "duration": 8,
    "start_time": "2021-07-24T13:03:54.511Z"
   },
   {
    "duration": 14,
    "start_time": "2021-07-24T13:03:57.378Z"
   },
   {
    "duration": 10,
    "start_time": "2021-07-24T13:04:01.729Z"
   },
   {
    "duration": 20,
    "start_time": "2021-07-24T13:04:04.511Z"
   },
   {
    "duration": 8,
    "start_time": "2021-07-24T13:04:07.536Z"
   },
   {
    "duration": 29,
    "start_time": "2021-07-24T13:04:15.395Z"
   },
   {
    "duration": 20,
    "start_time": "2021-07-24T13:04:19.201Z"
   },
   {
    "duration": 10,
    "start_time": "2021-07-24T13:04:23.922Z"
   },
   {
    "duration": 20,
    "start_time": "2021-07-24T13:04:27.513Z"
   },
   {
    "duration": 14,
    "start_time": "2021-07-24T13:04:31.451Z"
   },
   {
    "duration": 15,
    "start_time": "2021-07-24T13:04:34.511Z"
   },
   {
    "duration": 16,
    "start_time": "2021-07-24T13:04:37.784Z"
   },
   {
    "duration": 23,
    "start_time": "2021-07-24T13:04:44.270Z"
   },
   {
    "duration": 46,
    "start_time": "2021-07-24T13:04:46.855Z"
   },
   {
    "duration": 10,
    "start_time": "2021-07-24T13:04:49.540Z"
   },
   {
    "duration": 29,
    "start_time": "2021-07-24T13:04:52.600Z"
   },
   {
    "duration": 28,
    "start_time": "2021-07-24T13:04:56.757Z"
   },
   {
    "duration": 26,
    "start_time": "2021-07-24T13:05:00.083Z"
   },
   {
    "duration": 1008,
    "start_time": "2021-07-24T13:05:03.082Z"
   },
   {
    "duration": 35,
    "start_time": "2021-07-24T13:05:07.668Z"
   },
   {
    "duration": 39,
    "start_time": "2021-07-24T13:05:11.127Z"
   },
   {
    "duration": 36,
    "start_time": "2021-07-24T13:05:14.521Z"
   },
   {
    "duration": 35,
    "start_time": "2021-07-24T13:05:18.499Z"
   },
   {
    "duration": 28,
    "start_time": "2021-07-24T13:09:42.384Z"
   },
   {
    "duration": 57,
    "start_time": "2021-07-24T13:09:59.008Z"
   },
   {
    "duration": 24,
    "start_time": "2021-07-24T13:10:48.316Z"
   },
   {
    "duration": 260,
    "start_time": "2021-07-24T13:10:57.982Z"
   },
   {
    "duration": 26,
    "start_time": "2021-07-24T13:11:03.271Z"
   },
   {
    "duration": 31,
    "start_time": "2021-07-24T13:11:07.153Z"
   },
   {
    "duration": 995,
    "start_time": "2021-07-24T13:11:10.377Z"
   },
   {
    "duration": 43,
    "start_time": "2021-07-24T13:11:15.240Z"
   },
   {
    "duration": 33,
    "start_time": "2021-07-24T13:11:18.883Z"
   },
   {
    "duration": 38,
    "start_time": "2021-07-24T13:11:31.336Z"
   },
   {
    "duration": 33,
    "start_time": "2021-07-24T13:12:02.086Z"
   },
   {
    "duration": 39,
    "start_time": "2021-07-24T13:12:07.651Z"
   },
   {
    "duration": 37,
    "start_time": "2021-07-24T13:12:10.769Z"
   },
   {
    "duration": 53,
    "start_time": "2021-07-24T13:12:14.156Z"
   },
   {
    "duration": 29,
    "start_time": "2021-07-24T13:14:49.019Z"
   },
   {
    "duration": 270,
    "start_time": "2021-07-24T13:15:49.639Z"
   },
   {
    "duration": 11,
    "start_time": "2021-07-24T13:17:09.317Z"
   },
   {
    "duration": 8,
    "start_time": "2021-07-24T13:18:53.381Z"
   },
   {
    "duration": 15,
    "start_time": "2021-07-24T13:19:40.864Z"
   },
   {
    "duration": 36,
    "start_time": "2021-07-24T13:26:56.599Z"
   },
   {
    "duration": 24,
    "start_time": "2021-07-24T13:27:38.143Z"
   },
   {
    "duration": 16,
    "start_time": "2021-07-24T13:29:06.464Z"
   },
   {
    "duration": 266,
    "start_time": "2021-07-24T13:29:09.830Z"
   },
   {
    "duration": 237,
    "start_time": "2021-07-24T13:29:23.250Z"
   },
   {
    "duration": 15,
    "start_time": "2021-07-24T13:29:26.780Z"
   },
   {
    "duration": 61,
    "start_time": "2021-07-24T13:29:30.210Z"
   },
   {
    "duration": 13,
    "start_time": "2021-07-24T13:29:38.468Z"
   },
   {
    "duration": 6,
    "start_time": "2021-07-24T13:29:44.712Z"
   },
   {
    "duration": 17,
    "start_time": "2021-07-24T13:29:47.905Z"
   },
   {
    "duration": 6,
    "start_time": "2021-07-24T13:29:56.203Z"
   },
   {
    "duration": 17,
    "start_time": "2021-07-24T13:29:59.160Z"
   },
   {
    "duration": 4,
    "start_time": "2021-07-24T13:30:03.393Z"
   },
   {
    "duration": 10,
    "start_time": "2021-07-24T13:30:07.077Z"
   },
   {
    "duration": 13,
    "start_time": "2021-07-24T13:30:12.421Z"
   },
   {
    "duration": 12,
    "start_time": "2021-07-24T13:30:17.132Z"
   },
   {
    "duration": 20,
    "start_time": "2021-07-24T13:30:20.573Z"
   },
   {
    "duration": 10,
    "start_time": "2021-07-24T13:30:23.940Z"
   },
   {
    "duration": 20,
    "start_time": "2021-07-24T13:30:28.412Z"
   },
   {
    "duration": 18,
    "start_time": "2021-07-24T13:30:32.029Z"
   },
   {
    "duration": 10,
    "start_time": "2021-07-24T13:30:36.617Z"
   },
   {
    "duration": 18,
    "start_time": "2021-07-24T13:30:39.724Z"
   },
   {
    "duration": 13,
    "start_time": "2021-07-24T13:30:42.203Z"
   },
   {
    "duration": 16,
    "start_time": "2021-07-24T13:30:45.832Z"
   },
   {
    "duration": 17,
    "start_time": "2021-07-24T13:30:48.913Z"
   },
   {
    "duration": 27,
    "start_time": "2021-07-24T13:31:05.648Z"
   },
   {
    "duration": 43,
    "start_time": "2021-07-24T13:31:08.380Z"
   },
   {
    "duration": 10,
    "start_time": "2021-07-24T13:31:10.797Z"
   },
   {
    "duration": 23,
    "start_time": "2021-07-24T13:31:13.808Z"
   },
   {
    "duration": 25,
    "start_time": "2021-07-24T13:31:19.404Z"
   },
   {
    "duration": 31,
    "start_time": "2021-07-24T13:31:23.139Z"
   },
   {
    "duration": 997,
    "start_time": "2021-07-24T13:31:26.188Z"
   },
   {
    "duration": 37,
    "start_time": "2021-07-24T13:31:31.182Z"
   },
   {
    "duration": 36,
    "start_time": "2021-07-24T13:31:33.968Z"
   },
   {
    "duration": 34,
    "start_time": "2021-07-24T13:31:37.012Z"
   },
   {
    "duration": 35,
    "start_time": "2021-07-24T13:31:41.285Z"
   },
   {
    "duration": 54,
    "start_time": "2021-07-24T13:31:45.186Z"
   },
   {
    "duration": 10,
    "start_time": "2021-07-24T13:31:50.113Z"
   },
   {
    "duration": 23,
    "start_time": "2021-07-24T13:31:53.026Z"
   },
   {
    "duration": 15,
    "start_time": "2021-07-24T13:31:56.617Z"
   },
   {
    "duration": 28,
    "start_time": "2021-07-24T13:31:59.283Z"
   },
   {
    "duration": 29,
    "start_time": "2021-07-24T13:32:03.175Z"
   },
   {
    "duration": 14,
    "start_time": "2021-07-24T13:38:20.259Z"
   },
   {
    "duration": 11,
    "start_time": "2021-07-24T13:38:50.639Z"
   },
   {
    "duration": 24,
    "start_time": "2021-07-24T13:38:54.958Z"
   },
   {
    "duration": 15,
    "start_time": "2021-07-24T13:38:58.332Z"
   },
   {
    "duration": 276,
    "start_time": "2021-07-24T13:40:53.704Z"
   },
   {
    "duration": 268,
    "start_time": "2021-07-24T13:41:03.586Z"
   },
   {
    "duration": 22,
    "start_time": "2021-07-24T13:41:33.179Z"
   },
   {
    "duration": 266,
    "start_time": "2021-07-24T13:44:03.887Z"
   },
   {
    "duration": 329,
    "start_time": "2021-07-24T13:44:35.530Z"
   },
   {
    "duration": 27,
    "start_time": "2021-07-24T13:44:44.619Z"
   },
   {
    "duration": 276,
    "start_time": "2021-07-24T13:45:02.756Z"
   },
   {
    "duration": 255,
    "start_time": "2021-07-24T13:45:34.086Z"
   },
   {
    "duration": 30,
    "start_time": "2021-07-24T13:47:17.108Z"
   },
   {
    "duration": 303,
    "start_time": "2021-07-24T13:49:01.327Z"
   },
   {
    "duration": 639,
    "start_time": "2021-07-24T13:49:22.782Z"
   },
   {
    "duration": 16,
    "start_time": "2021-07-24T13:49:32.579Z"
   },
   {
    "duration": 18,
    "start_time": "2021-07-24T13:49:36.330Z"
   },
   {
    "duration": 33,
    "start_time": "2021-07-24T13:49:39.596Z"
   },
   {
    "duration": 57,
    "start_time": "2021-07-24T13:49:45.191Z"
   },
   {
    "duration": 54,
    "start_time": "2021-07-24T13:49:49.967Z"
   },
   {
    "duration": 58,
    "start_time": "2021-07-24T13:49:53.449Z"
   },
   {
    "duration": 54,
    "start_time": "2021-07-24T13:50:33.168Z"
   },
   {
    "duration": 29,
    "start_time": "2021-07-24T13:53:20.079Z"
   },
   {
    "duration": 61,
    "start_time": "2021-07-24T13:54:15.428Z"
   },
   {
    "duration": 32,
    "start_time": "2021-07-24T13:58:15.138Z"
   },
   {
    "duration": 33,
    "start_time": "2021-07-24T13:58:53.434Z"
   },
   {
    "duration": 11,
    "start_time": "2021-07-24T13:59:02.237Z"
   },
   {
    "duration": 12,
    "start_time": "2021-07-24T13:59:09.362Z"
   },
   {
    "duration": 22,
    "start_time": "2021-07-24T13:59:42.181Z"
   },
   {
    "duration": 28,
    "start_time": "2021-07-24T14:00:17.557Z"
   },
   {
    "duration": 25,
    "start_time": "2021-07-24T14:00:45.138Z"
   },
   {
    "duration": 29,
    "start_time": "2021-07-24T14:01:13.419Z"
   },
   {
    "duration": 63,
    "start_time": "2021-07-24T14:08:38.313Z"
   },
   {
    "duration": 60,
    "start_time": "2021-07-24T14:09:15.128Z"
   },
   {
    "duration": 256,
    "start_time": "2021-07-24T14:17:31.723Z"
   },
   {
    "duration": 18,
    "start_time": "2021-07-24T14:17:31.981Z"
   },
   {
    "duration": 83,
    "start_time": "2021-07-24T14:17:32.003Z"
   },
   {
    "duration": 13,
    "start_time": "2021-07-24T14:17:32.088Z"
   },
   {
    "duration": 16,
    "start_time": "2021-07-24T14:17:32.103Z"
   },
   {
    "duration": 43,
    "start_time": "2021-07-24T14:17:32.122Z"
   },
   {
    "duration": 7,
    "start_time": "2021-07-24T14:17:32.168Z"
   },
   {
    "duration": 28,
    "start_time": "2021-07-24T14:17:32.181Z"
   },
   {
    "duration": 43,
    "start_time": "2021-07-24T14:17:32.213Z"
   },
   {
    "duration": 27,
    "start_time": "2021-07-24T14:17:32.264Z"
   },
   {
    "duration": 27,
    "start_time": "2021-07-24T14:17:32.293Z"
   },
   {
    "duration": 25,
    "start_time": "2021-07-24T14:17:32.322Z"
   },
   {
    "duration": 35,
    "start_time": "2021-07-24T14:17:32.350Z"
   },
   {
    "duration": 18,
    "start_time": "2021-07-24T14:17:32.387Z"
   },
   {
    "duration": 29,
    "start_time": "2021-07-24T14:17:32.408Z"
   },
   {
    "duration": 39,
    "start_time": "2021-07-24T14:17:32.440Z"
   },
   {
    "duration": 11,
    "start_time": "2021-07-24T14:17:32.482Z"
   },
   {
    "duration": 32,
    "start_time": "2021-07-24T14:17:32.496Z"
   },
   {
    "duration": 19,
    "start_time": "2021-07-24T14:17:32.531Z"
   },
   {
    "duration": 31,
    "start_time": "2021-07-24T14:17:32.553Z"
   },
   {
    "duration": 35,
    "start_time": "2021-07-24T14:17:32.587Z"
   },
   {
    "duration": 42,
    "start_time": "2021-07-24T14:17:32.626Z"
   },
   {
    "duration": 43,
    "start_time": "2021-07-24T14:17:32.674Z"
   },
   {
    "duration": 10,
    "start_time": "2021-07-24T14:17:32.723Z"
   },
   {
    "duration": 32,
    "start_time": "2021-07-24T14:17:32.754Z"
   },
   {
    "duration": 34,
    "start_time": "2021-07-24T14:17:32.789Z"
   },
   {
    "duration": 55,
    "start_time": "2021-07-24T14:17:32.826Z"
   },
   {
    "duration": 986,
    "start_time": "2021-07-24T14:17:32.884Z"
   },
   {
    "duration": 35,
    "start_time": "2021-07-24T14:17:33.873Z"
   },
   {
    "duration": 60,
    "start_time": "2021-07-24T14:17:33.911Z"
   },
   {
    "duration": 36,
    "start_time": "2021-07-24T14:17:33.973Z"
   },
   {
    "duration": 61,
    "start_time": "2021-07-24T14:17:34.011Z"
   },
   {
    "duration": 54,
    "start_time": "2021-07-24T14:17:34.074Z"
   },
   {
    "duration": 28,
    "start_time": "2021-07-24T14:17:34.131Z"
   },
   {
    "duration": 24,
    "start_time": "2021-07-24T14:17:34.161Z"
   },
   {
    "duration": 14,
    "start_time": "2021-07-24T14:17:34.187Z"
   },
   {
    "duration": 74,
    "start_time": "2021-07-24T14:17:34.203Z"
   },
   {
    "duration": 30,
    "start_time": "2021-07-24T14:17:34.279Z"
   },
   {
    "duration": 16,
    "start_time": "2021-07-24T14:17:34.312Z"
   },
   {
    "duration": 16,
    "start_time": "2021-07-24T14:17:34.354Z"
   },
   {
    "duration": 17,
    "start_time": "2021-07-24T14:17:34.373Z"
   },
   {
    "duration": 28,
    "start_time": "2021-07-24T14:17:34.393Z"
   },
   {
    "duration": 52,
    "start_time": "2021-07-24T14:17:34.424Z"
   },
   {
    "duration": 29,
    "start_time": "2021-07-24T14:17:34.478Z"
   },
   {
    "duration": 66,
    "start_time": "2021-07-24T14:17:34.509Z"
   },
   {
    "duration": 14,
    "start_time": "2021-07-24T14:17:34.577Z"
   },
   {
    "duration": 15,
    "start_time": "2021-07-24T14:17:34.594Z"
   },
   {
    "duration": 68,
    "start_time": "2021-07-24T14:17:34.611Z"
   },
   {
    "duration": 89,
    "start_time": "2021-07-24T14:17:34.682Z"
   },
   {
    "duration": 47,
    "start_time": "2021-07-24T14:17:34.774Z"
   },
   {
    "duration": 72,
    "start_time": "2021-07-24T14:17:34.824Z"
   },
   {
    "duration": 60,
    "start_time": "2021-07-24T14:17:34.898Z"
   },
   {
    "duration": 18,
    "start_time": "2021-07-24T14:17:34.963Z"
   },
   {
    "duration": 31,
    "start_time": "2021-07-24T14:17:34.984Z"
   },
   {
    "duration": 92,
    "start_time": "2021-07-24T14:17:35.018Z"
   },
   {
    "duration": 74,
    "start_time": "2021-07-24T14:17:35.113Z"
   },
   {
    "duration": 52,
    "start_time": "2021-07-24T14:17:35.189Z"
   },
   {
    "duration": 29,
    "start_time": "2021-07-24T14:17:35.244Z"
   },
   {
    "duration": 42,
    "start_time": "2021-07-24T14:17:35.276Z"
   },
   {
    "duration": 37,
    "start_time": "2021-07-24T14:17:35.320Z"
   },
   {
    "duration": 57,
    "start_time": "2021-07-24T14:17:35.359Z"
   },
   {
    "duration": 82,
    "start_time": "2021-07-24T14:17:35.418Z"
   },
   {
    "duration": 17,
    "start_time": "2021-07-24T14:17:35.503Z"
   },
   {
    "duration": 59,
    "start_time": "2021-07-24T14:17:35.523Z"
   },
   {
    "duration": 60,
    "start_time": "2021-07-24T14:17:35.585Z"
   },
   {
    "duration": 61,
    "start_time": "2021-07-24T14:17:35.655Z"
   },
   {
    "duration": 85,
    "start_time": "2021-07-24T14:17:35.719Z"
   },
   {
    "duration": 58,
    "start_time": "2021-07-24T14:26:48.585Z"
   },
   {
    "duration": 928,
    "start_time": "2021-07-24T15:47:08.906Z"
   },
   {
    "duration": 15,
    "start_time": "2021-07-24T15:47:09.837Z"
   },
   {
    "duration": 64,
    "start_time": "2021-07-24T15:47:09.855Z"
   },
   {
    "duration": 12,
    "start_time": "2021-07-24T15:47:09.922Z"
   },
   {
    "duration": 8,
    "start_time": "2021-07-24T15:47:09.937Z"
   },
   {
    "duration": 47,
    "start_time": "2021-07-24T15:47:09.948Z"
   },
   {
    "duration": 9,
    "start_time": "2021-07-24T15:47:09.998Z"
   },
   {
    "duration": 24,
    "start_time": "2021-07-24T15:47:10.009Z"
   },
   {
    "duration": 8,
    "start_time": "2021-07-24T15:47:10.037Z"
   },
   {
    "duration": 34,
    "start_time": "2021-07-24T15:47:10.048Z"
   },
   {
    "duration": 11,
    "start_time": "2021-07-24T15:47:10.084Z"
   },
   {
    "duration": 10,
    "start_time": "2021-07-24T15:47:10.098Z"
   },
   {
    "duration": 19,
    "start_time": "2021-07-24T15:47:10.110Z"
   },
   {
    "duration": 8,
    "start_time": "2021-07-24T15:47:10.131Z"
   },
   {
    "duration": 63,
    "start_time": "2021-07-24T15:47:10.141Z"
   },
   {
    "duration": 25,
    "start_time": "2021-07-24T15:47:10.207Z"
   },
   {
    "duration": 10,
    "start_time": "2021-07-24T15:47:10.235Z"
   },
   {
    "duration": 52,
    "start_time": "2021-07-24T15:47:10.248Z"
   },
   {
    "duration": 14,
    "start_time": "2021-07-24T15:47:10.302Z"
   },
   {
    "duration": 20,
    "start_time": "2021-07-24T15:47:10.318Z"
   },
   {
    "duration": 43,
    "start_time": "2021-07-24T15:47:10.341Z"
   },
   {
    "duration": 23,
    "start_time": "2021-07-24T15:47:10.386Z"
   },
   {
    "duration": 42,
    "start_time": "2021-07-24T15:47:10.411Z"
   },
   {
    "duration": 33,
    "start_time": "2021-07-24T15:47:10.455Z"
   },
   {
    "duration": 31,
    "start_time": "2021-07-24T15:47:10.491Z"
   },
   {
    "duration": 24,
    "start_time": "2021-07-24T15:47:10.525Z"
   },
   {
    "duration": 47,
    "start_time": "2021-07-24T15:47:10.556Z"
   },
   {
    "duration": 921,
    "start_time": "2021-07-24T15:47:10.607Z"
   },
   {
    "duration": 821,
    "start_time": "2021-07-24T15:47:11.531Z"
   },
   {
    "duration": 45,
    "start_time": "2021-07-24T15:47:12.355Z"
   },
   {
    "duration": 37,
    "start_time": "2021-07-24T15:47:12.403Z"
   },
   {
    "duration": 65,
    "start_time": "2021-07-24T15:47:12.443Z"
   },
   {
    "duration": 74,
    "start_time": "2021-07-24T15:47:12.511Z"
   },
   {
    "duration": 8,
    "start_time": "2021-07-24T15:47:12.588Z"
   },
   {
    "duration": 21,
    "start_time": "2021-07-24T15:47:12.599Z"
   },
   {
    "duration": 14,
    "start_time": "2021-07-24T15:47:12.623Z"
   },
   {
    "duration": 69,
    "start_time": "2021-07-24T15:47:12.639Z"
   },
   {
    "duration": 28,
    "start_time": "2021-07-24T15:47:12.710Z"
   },
   {
    "duration": 45,
    "start_time": "2021-07-24T15:47:12.741Z"
   },
   {
    "duration": 10,
    "start_time": "2021-07-24T15:47:12.789Z"
   },
   {
    "duration": 10,
    "start_time": "2021-07-24T15:47:12.801Z"
   },
   {
    "duration": 19,
    "start_time": "2021-07-24T15:47:12.813Z"
   },
   {
    "duration": 54,
    "start_time": "2021-07-24T15:47:12.834Z"
   },
   {
    "duration": 26,
    "start_time": "2021-07-24T15:47:12.890Z"
   },
   {
    "duration": 27,
    "start_time": "2021-07-24T15:47:12.918Z"
   },
   {
    "duration": 43,
    "start_time": "2021-07-24T15:47:12.947Z"
   },
   {
    "duration": 15,
    "start_time": "2021-07-24T15:47:12.992Z"
   },
   {
    "duration": 31,
    "start_time": "2021-07-24T15:47:13.010Z"
   },
   {
    "duration": 87,
    "start_time": "2021-07-24T15:47:13.044Z"
   },
   {
    "duration": 68,
    "start_time": "2021-07-24T15:47:13.134Z"
   },
   {
    "duration": 56,
    "start_time": "2021-07-24T15:47:13.205Z"
   },
   {
    "duration": 54,
    "start_time": "2021-07-24T15:47:13.282Z"
   },
   {
    "duration": 45,
    "start_time": "2021-07-24T15:47:13.339Z"
   },
   {
    "duration": 31,
    "start_time": "2021-07-24T15:47:13.388Z"
   },
   {
    "duration": 93,
    "start_time": "2021-07-24T15:47:13.421Z"
   },
   {
    "duration": 66,
    "start_time": "2021-07-24T15:47:13.516Z"
   },
   {
    "duration": 53,
    "start_time": "2021-07-24T15:47:13.585Z"
   },
   {
    "duration": 14,
    "start_time": "2021-07-24T15:47:13.641Z"
   },
   {
    "duration": 29,
    "start_time": "2021-07-24T15:47:13.682Z"
   },
   {
    "duration": 28,
    "start_time": "2021-07-24T15:47:13.713Z"
   },
   {
    "duration": 79,
    "start_time": "2021-07-24T15:47:13.743Z"
   },
   {
    "duration": 66,
    "start_time": "2021-07-24T15:47:13.825Z"
   },
   {
    "duration": 15,
    "start_time": "2021-07-24T15:47:13.894Z"
   },
   {
    "duration": 29,
    "start_time": "2021-07-24T15:47:13.911Z"
   },
   {
    "duration": 83,
    "start_time": "2021-07-24T15:47:13.942Z"
   },
   {
    "duration": 70,
    "start_time": "2021-07-24T15:47:14.027Z"
   },
   {
    "duration": 50,
    "start_time": "2021-07-24T15:47:14.099Z"
   }
  ],
  "kernelspec": {
   "display_name": "Python 3",
   "language": "python",
   "name": "python3"
  },
  "language_info": {
   "codemirror_mode": {
    "name": "ipython",
    "version": 3
   },
   "file_extension": ".py",
   "mimetype": "text/x-python",
   "name": "python",
   "nbconvert_exporter": "python",
   "pygments_lexer": "ipython3",
   "version": "3.8.8"
  },
  "toc": {
   "base_numbering": 1,
   "nav_menu": {},
   "number_sections": true,
   "sideBar": true,
   "skip_h1_title": true,
   "title_cell": "Table of Contents",
   "title_sidebar": "Contents",
   "toc_cell": false,
   "toc_position": {
    "height": "calc(100% - 180px)",
    "left": "10px",
    "top": "150px",
    "width": "230.6px"
   },
   "toc_section_display": true,
   "toc_window_display": true
  }
 },
 "nbformat": 4,
 "nbformat_minor": 2
}
