{
 "cells": [
  {
   "cell_type": "markdown",
   "metadata": {},
   "source": [
    "# Выбор локации для скважины"
   ]
  },
  {
   "cell_type": "markdown",
   "metadata": {},
   "source": [
    "Допустим, вы работаете в добывающей компании «ГлавРосГосНефть». Нужно решить, где бурить новую скважину.\n",
    "\n",
    "Вам предоставлены пробы нефти в трёх регионах: в каждом 10 000 месторождений, где измерили качество нефти и объём её запасов. Постройте модель машинного обучения, которая поможет определить регион, где добыча принесёт наибольшую прибыль. Проанализируйте возможную прибыль и риски техникой *Bootstrap.*\n",
    "\n",
    "Шаги для выбора локации:\n",
    "\n",
    "- В избранном регионе ищут месторождения, для каждого определяют значения признаков;\n",
    "- Строят модель и оценивают объём запасов;\n",
    "- Выбирают месторождения с самым высокими оценками значений. Количество месторождений зависит от бюджета компании и стоимости разработки одной скважины;\n",
    "- Прибыль равна суммарной прибыли отобранных месторождений."
   ]
  },
  {
   "cell_type": "markdown",
   "metadata": {},
   "source": [
    "Цель исследования - провести исследовательский анализ данных: \n",
    "- В избранном регионе найти месторождения, для каждого определить значения признаков;  \n",
    "- Построить модель и оценить объём запасов;  \n",
    "- Выбрать месторождения с самыми высокими оценками значений (при этом количество месторождений будет зависить от бюджета компании и стоимости разработки одной скважины);  \n",
    "- Посчитать прибыль (которая будет равна суммарной прибыли отобранных месторождений). \n",
    "\n",
    "Ход исследования. Данные о представлены в 3-х файлах /datasets/geo_data_0.csv, /datasets/geo_data_1.csv, /datasets/geo_data_2.csv, которые содрежат данные геологоразведки трёх регионов, а именно:  \n",
    "id — уникальный идентификатор скважины;  \n",
    "f0, f1, f2 — три признака точек (неважно, что они означают, но сами признаки значимы);  \n",
    "product — объём запасов в скважине (тыс. баррелей).\n",
    "\n",
    "О качестве данных ничего неизвестно, поэтому перед проведением исследовательского анализа данных понадобится обхор данных. Данные будут оценены на ошибки и будет оценено их влияние на исследование. Затем, на этапе предобработки данных будет проведен поиск возможности исправления самых критичных ошибок данных.\n",
    "\n",
    "Исследование пройдет в 4 этапа:\n",
    "\n",
    "1) Загрузка и подготовка данных.  \n",
    "2) Обучение и проверка модели.  \n",
    "3) Подготовка к расчету прибыли.  \n",
    "4) Расчет прибыли и рисков.  \n"
   ]
  },
  {
   "cell_type": "markdown",
   "metadata": {},
   "source": [
    "## Загрузка и подготовка данных"
   ]
  },
  {
   "cell_type": "code",
   "execution_count": 3,
   "metadata": {},
   "outputs": [],
   "source": [
    "#загрузкa библиотек\n",
    "import pandas as pd \n",
    "import numpy as np\n",
    "from scipy import stats as st\n",
    "from sklearn.model_selection import train_test_split\n",
    "from sklearn.linear_model import LinearRegression\n",
    "from sklearn.metrics import mean_squared_error, r2_score, mean_absolute_error"
   ]
  },
  {
   "cell_type": "code",
   "execution_count": 4,
   "metadata": {},
   "outputs": [
    {
     "data": {
      "text/html": [
       "<div>\n",
       "<style scoped>\n",
       "    .dataframe tbody tr th:only-of-type {\n",
       "        vertical-align: middle;\n",
       "    }\n",
       "\n",
       "    .dataframe tbody tr th {\n",
       "        vertical-align: top;\n",
       "    }\n",
       "\n",
       "    .dataframe thead th {\n",
       "        text-align: right;\n",
       "    }\n",
       "</style>\n",
       "<table border=\"1\" class=\"dataframe\">\n",
       "  <thead>\n",
       "    <tr style=\"text-align: right;\">\n",
       "      <th></th>\n",
       "      <th>id</th>\n",
       "      <th>f0</th>\n",
       "      <th>f1</th>\n",
       "      <th>f2</th>\n",
       "      <th>product</th>\n",
       "    </tr>\n",
       "  </thead>\n",
       "  <tbody>\n",
       "    <tr>\n",
       "      <td>0</td>\n",
       "      <td>txEyH</td>\n",
       "      <td>0.705745</td>\n",
       "      <td>-0.497823</td>\n",
       "      <td>1.221170</td>\n",
       "      <td>105.280062</td>\n",
       "    </tr>\n",
       "    <tr>\n",
       "      <td>1</td>\n",
       "      <td>2acmU</td>\n",
       "      <td>1.334711</td>\n",
       "      <td>-0.340164</td>\n",
       "      <td>4.365080</td>\n",
       "      <td>73.037750</td>\n",
       "    </tr>\n",
       "    <tr>\n",
       "      <td>2</td>\n",
       "      <td>409Wp</td>\n",
       "      <td>1.022732</td>\n",
       "      <td>0.151990</td>\n",
       "      <td>1.419926</td>\n",
       "      <td>85.265647</td>\n",
       "    </tr>\n",
       "    <tr>\n",
       "      <td>3</td>\n",
       "      <td>iJLyR</td>\n",
       "      <td>-0.032172</td>\n",
       "      <td>0.139033</td>\n",
       "      <td>2.978566</td>\n",
       "      <td>168.620776</td>\n",
       "    </tr>\n",
       "    <tr>\n",
       "      <td>4</td>\n",
       "      <td>Xdl7t</td>\n",
       "      <td>1.988431</td>\n",
       "      <td>0.155413</td>\n",
       "      <td>4.751769</td>\n",
       "      <td>154.036647</td>\n",
       "    </tr>\n",
       "  </tbody>\n",
       "</table>\n",
       "</div>"
      ],
      "text/plain": [
       "      id        f0        f1        f2     product\n",
       "0  txEyH  0.705745 -0.497823  1.221170  105.280062\n",
       "1  2acmU  1.334711 -0.340164  4.365080   73.037750\n",
       "2  409Wp  1.022732  0.151990  1.419926   85.265647\n",
       "3  iJLyR -0.032172  0.139033  2.978566  168.620776\n",
       "4  Xdl7t  1.988431  0.155413  4.751769  154.036647"
      ]
     },
     "execution_count": 4,
     "metadata": {},
     "output_type": "execute_result"
    }
   ],
   "source": [
    "df_0 = pd.read_csv('https://code.s3.yandex.net/datasets/geo_data_0.csv')#загрузка файла\n",
    "df_0.head()#выводим первые строки таблицы"
   ]
  },
  {
   "cell_type": "code",
   "execution_count": 5,
   "metadata": {},
   "outputs": [
    {
     "name": "stdout",
     "output_type": "stream",
     "text": [
      "<class 'pandas.core.frame.DataFrame'>\n",
      "RangeIndex: 100000 entries, 0 to 99999\n",
      "Data columns (total 5 columns):\n",
      "id         100000 non-null object\n",
      "f0         100000 non-null float64\n",
      "f1         100000 non-null float64\n",
      "f2         100000 non-null float64\n",
      "product    100000 non-null float64\n",
      "dtypes: float64(4), object(1)\n",
      "memory usage: 3.8+ MB\n"
     ]
    }
   ],
   "source": [
    "df_0.info()"
   ]
  },
  {
   "cell_type": "code",
   "execution_count": 6,
   "metadata": {},
   "outputs": [
    {
     "data": {
      "text/html": [
       "<div>\n",
       "<style scoped>\n",
       "    .dataframe tbody tr th:only-of-type {\n",
       "        vertical-align: middle;\n",
       "    }\n",
       "\n",
       "    .dataframe tbody tr th {\n",
       "        vertical-align: top;\n",
       "    }\n",
       "\n",
       "    .dataframe thead th {\n",
       "        text-align: right;\n",
       "    }\n",
       "</style>\n",
       "<table border=\"1\" class=\"dataframe\">\n",
       "  <thead>\n",
       "    <tr style=\"text-align: right;\">\n",
       "      <th></th>\n",
       "      <th>f0</th>\n",
       "      <th>f1</th>\n",
       "      <th>f2</th>\n",
       "      <th>product</th>\n",
       "    </tr>\n",
       "  </thead>\n",
       "  <tbody>\n",
       "    <tr>\n",
       "      <td>count</td>\n",
       "      <td>100000.000000</td>\n",
       "      <td>100000.000000</td>\n",
       "      <td>100000.000000</td>\n",
       "      <td>100000.000000</td>\n",
       "    </tr>\n",
       "    <tr>\n",
       "      <td>mean</td>\n",
       "      <td>0.500419</td>\n",
       "      <td>0.250143</td>\n",
       "      <td>2.502647</td>\n",
       "      <td>92.500000</td>\n",
       "    </tr>\n",
       "    <tr>\n",
       "      <td>std</td>\n",
       "      <td>0.871832</td>\n",
       "      <td>0.504433</td>\n",
       "      <td>3.248248</td>\n",
       "      <td>44.288691</td>\n",
       "    </tr>\n",
       "    <tr>\n",
       "      <td>min</td>\n",
       "      <td>-1.408605</td>\n",
       "      <td>-0.848218</td>\n",
       "      <td>-12.088328</td>\n",
       "      <td>0.000000</td>\n",
       "    </tr>\n",
       "    <tr>\n",
       "      <td>25%</td>\n",
       "      <td>-0.072580</td>\n",
       "      <td>-0.200881</td>\n",
       "      <td>0.287748</td>\n",
       "      <td>56.497507</td>\n",
       "    </tr>\n",
       "    <tr>\n",
       "      <td>50%</td>\n",
       "      <td>0.502360</td>\n",
       "      <td>0.250252</td>\n",
       "      <td>2.515969</td>\n",
       "      <td>91.849972</td>\n",
       "    </tr>\n",
       "    <tr>\n",
       "      <td>75%</td>\n",
       "      <td>1.073581</td>\n",
       "      <td>0.700646</td>\n",
       "      <td>4.715088</td>\n",
       "      <td>128.564089</td>\n",
       "    </tr>\n",
       "    <tr>\n",
       "      <td>max</td>\n",
       "      <td>2.362331</td>\n",
       "      <td>1.343769</td>\n",
       "      <td>16.003790</td>\n",
       "      <td>185.364347</td>\n",
       "    </tr>\n",
       "  </tbody>\n",
       "</table>\n",
       "</div>"
      ],
      "text/plain": [
       "                  f0             f1             f2        product\n",
       "count  100000.000000  100000.000000  100000.000000  100000.000000\n",
       "mean        0.500419       0.250143       2.502647      92.500000\n",
       "std         0.871832       0.504433       3.248248      44.288691\n",
       "min        -1.408605      -0.848218     -12.088328       0.000000\n",
       "25%        -0.072580      -0.200881       0.287748      56.497507\n",
       "50%         0.502360       0.250252       2.515969      91.849972\n",
       "75%         1.073581       0.700646       4.715088     128.564089\n",
       "max         2.362331       1.343769      16.003790     185.364347"
      ]
     },
     "execution_count": 6,
     "metadata": {},
     "output_type": "execute_result"
    }
   ],
   "source": [
    "df_0.describe()"
   ]
  },
  {
   "cell_type": "code",
   "execution_count": 7,
   "metadata": {},
   "outputs": [
    {
     "data": {
      "text/plain": [
       "0"
      ]
     },
     "execution_count": 7,
     "metadata": {},
     "output_type": "execute_result"
    }
   ],
   "source": [
    "df_0.duplicated().sum()"
   ]
  },
  {
   "cell_type": "code",
   "execution_count": 8,
   "metadata": {},
   "outputs": [
    {
     "data": {
      "text/html": [
       "<div>\n",
       "<style scoped>\n",
       "    .dataframe tbody tr th:only-of-type {\n",
       "        vertical-align: middle;\n",
       "    }\n",
       "\n",
       "    .dataframe tbody tr th {\n",
       "        vertical-align: top;\n",
       "    }\n",
       "\n",
       "    .dataframe thead th {\n",
       "        text-align: right;\n",
       "    }\n",
       "</style>\n",
       "<table border=\"1\" class=\"dataframe\">\n",
       "  <thead>\n",
       "    <tr style=\"text-align: right;\">\n",
       "      <th></th>\n",
       "      <th>id</th>\n",
       "      <th>f0</th>\n",
       "      <th>f1</th>\n",
       "      <th>f2</th>\n",
       "      <th>product</th>\n",
       "    </tr>\n",
       "  </thead>\n",
       "  <tbody>\n",
       "    <tr>\n",
       "      <td>3</td>\n",
       "      <td>KcrkZ</td>\n",
       "      <td>-13.081196</td>\n",
       "      <td>-11.506057</td>\n",
       "      <td>4.999415</td>\n",
       "      <td>137.945408</td>\n",
       "    </tr>\n",
       "    <tr>\n",
       "      <td>9</td>\n",
       "      <td>jG6Gi</td>\n",
       "      <td>1.069227</td>\n",
       "      <td>-11.025667</td>\n",
       "      <td>4.997844</td>\n",
       "      <td>137.945408</td>\n",
       "    </tr>\n",
       "    <tr>\n",
       "      <td>2</td>\n",
       "      <td>vyE1P</td>\n",
       "      <td>6.263187</td>\n",
       "      <td>-5.948386</td>\n",
       "      <td>5.001160</td>\n",
       "      <td>134.766305</td>\n",
       "    </tr>\n",
       "    <tr>\n",
       "      <td>4</td>\n",
       "      <td>AHL4O</td>\n",
       "      <td>12.702195</td>\n",
       "      <td>-8.147433</td>\n",
       "      <td>5.004363</td>\n",
       "      <td>134.766305</td>\n",
       "    </tr>\n",
       "    <tr>\n",
       "      <td>8</td>\n",
       "      <td>YiRkx</td>\n",
       "      <td>13.355129</td>\n",
       "      <td>-0.332068</td>\n",
       "      <td>4.998647</td>\n",
       "      <td>134.766305</td>\n",
       "    </tr>\n",
       "    <tr>\n",
       "      <td>6</td>\n",
       "      <td>h5Ujo</td>\n",
       "      <td>-11.142655</td>\n",
       "      <td>-10.133399</td>\n",
       "      <td>4.002382</td>\n",
       "      <td>110.992147</td>\n",
       "    </tr>\n",
       "    <tr>\n",
       "      <td>5</td>\n",
       "      <td>HHckp</td>\n",
       "      <td>-3.327590</td>\n",
       "      <td>-2.205276</td>\n",
       "      <td>3.003647</td>\n",
       "      <td>84.038886</td>\n",
       "    </tr>\n",
       "    <tr>\n",
       "      <td>7</td>\n",
       "      <td>muH9x</td>\n",
       "      <td>4.234715</td>\n",
       "      <td>-0.001354</td>\n",
       "      <td>2.004588</td>\n",
       "      <td>53.906522</td>\n",
       "    </tr>\n",
       "    <tr>\n",
       "      <td>1</td>\n",
       "      <td>62mP7</td>\n",
       "      <td>14.272088</td>\n",
       "      <td>-3.475083</td>\n",
       "      <td>0.999183</td>\n",
       "      <td>26.953261</td>\n",
       "    </tr>\n",
       "    <tr>\n",
       "      <td>0</td>\n",
       "      <td>kBEdx</td>\n",
       "      <td>-15.001348</td>\n",
       "      <td>-8.276000</td>\n",
       "      <td>-0.005876</td>\n",
       "      <td>3.179103</td>\n",
       "    </tr>\n",
       "  </tbody>\n",
       "</table>\n",
       "</div>"
      ],
      "text/plain": [
       "      id         f0         f1        f2     product\n",
       "3  KcrkZ -13.081196 -11.506057  4.999415  137.945408\n",
       "9  jG6Gi   1.069227 -11.025667  4.997844  137.945408\n",
       "2  vyE1P   6.263187  -5.948386  5.001160  134.766305\n",
       "4  AHL4O  12.702195  -8.147433  5.004363  134.766305\n",
       "8  YiRkx  13.355129  -0.332068  4.998647  134.766305\n",
       "6  h5Ujo -11.142655 -10.133399  4.002382  110.992147\n",
       "5  HHckp  -3.327590  -2.205276  3.003647   84.038886\n",
       "7  muH9x   4.234715  -0.001354  2.004588   53.906522\n",
       "1  62mP7  14.272088  -3.475083  0.999183   26.953261\n",
       "0  kBEdx -15.001348  -8.276000 -0.005876    3.179103"
      ]
     },
     "execution_count": 8,
     "metadata": {},
     "output_type": "execute_result"
    }
   ],
   "source": [
    "df_1 = pd.read_csv('https://code.s3.yandex.net/datasets/geo_data_1.csv')#загрузка файла\n",
    "df_1.head(10).sort_values(by = 'product', ascending=False)#выводим первые строки таблицы"
   ]
  },
  {
   "cell_type": "code",
   "execution_count": 9,
   "metadata": {},
   "outputs": [
    {
     "name": "stdout",
     "output_type": "stream",
     "text": [
      "<class 'pandas.core.frame.DataFrame'>\n",
      "RangeIndex: 100000 entries, 0 to 99999\n",
      "Data columns (total 5 columns):\n",
      "id         100000 non-null object\n",
      "f0         100000 non-null float64\n",
      "f1         100000 non-null float64\n",
      "f2         100000 non-null float64\n",
      "product    100000 non-null float64\n",
      "dtypes: float64(4), object(1)\n",
      "memory usage: 3.8+ MB\n"
     ]
    }
   ],
   "source": [
    "df_1.info()"
   ]
  },
  {
   "cell_type": "code",
   "execution_count": 10,
   "metadata": {},
   "outputs": [
    {
     "data": {
      "text/html": [
       "<div>\n",
       "<style scoped>\n",
       "    .dataframe tbody tr th:only-of-type {\n",
       "        vertical-align: middle;\n",
       "    }\n",
       "\n",
       "    .dataframe tbody tr th {\n",
       "        vertical-align: top;\n",
       "    }\n",
       "\n",
       "    .dataframe thead th {\n",
       "        text-align: right;\n",
       "    }\n",
       "</style>\n",
       "<table border=\"1\" class=\"dataframe\">\n",
       "  <thead>\n",
       "    <tr style=\"text-align: right;\">\n",
       "      <th></th>\n",
       "      <th>f0</th>\n",
       "      <th>f1</th>\n",
       "      <th>f2</th>\n",
       "      <th>product</th>\n",
       "    </tr>\n",
       "  </thead>\n",
       "  <tbody>\n",
       "    <tr>\n",
       "      <td>count</td>\n",
       "      <td>100000.000000</td>\n",
       "      <td>100000.000000</td>\n",
       "      <td>100000.000000</td>\n",
       "      <td>100000.000000</td>\n",
       "    </tr>\n",
       "    <tr>\n",
       "      <td>mean</td>\n",
       "      <td>1.141296</td>\n",
       "      <td>-4.796579</td>\n",
       "      <td>2.494541</td>\n",
       "      <td>68.825000</td>\n",
       "    </tr>\n",
       "    <tr>\n",
       "      <td>std</td>\n",
       "      <td>8.965932</td>\n",
       "      <td>5.119872</td>\n",
       "      <td>1.703572</td>\n",
       "      <td>45.944423</td>\n",
       "    </tr>\n",
       "    <tr>\n",
       "      <td>min</td>\n",
       "      <td>-31.609576</td>\n",
       "      <td>-26.358598</td>\n",
       "      <td>-0.018144</td>\n",
       "      <td>0.000000</td>\n",
       "    </tr>\n",
       "    <tr>\n",
       "      <td>25%</td>\n",
       "      <td>-6.298551</td>\n",
       "      <td>-8.267985</td>\n",
       "      <td>1.000021</td>\n",
       "      <td>26.953261</td>\n",
       "    </tr>\n",
       "    <tr>\n",
       "      <td>50%</td>\n",
       "      <td>1.153055</td>\n",
       "      <td>-4.813172</td>\n",
       "      <td>2.011479</td>\n",
       "      <td>57.085625</td>\n",
       "    </tr>\n",
       "    <tr>\n",
       "      <td>75%</td>\n",
       "      <td>8.621015</td>\n",
       "      <td>-1.332816</td>\n",
       "      <td>3.999904</td>\n",
       "      <td>107.813044</td>\n",
       "    </tr>\n",
       "    <tr>\n",
       "      <td>max</td>\n",
       "      <td>29.421755</td>\n",
       "      <td>18.734063</td>\n",
       "      <td>5.019721</td>\n",
       "      <td>137.945408</td>\n",
       "    </tr>\n",
       "  </tbody>\n",
       "</table>\n",
       "</div>"
      ],
      "text/plain": [
       "                  f0             f1             f2        product\n",
       "count  100000.000000  100000.000000  100000.000000  100000.000000\n",
       "mean        1.141296      -4.796579       2.494541      68.825000\n",
       "std         8.965932       5.119872       1.703572      45.944423\n",
       "min       -31.609576     -26.358598      -0.018144       0.000000\n",
       "25%        -6.298551      -8.267985       1.000021      26.953261\n",
       "50%         1.153055      -4.813172       2.011479      57.085625\n",
       "75%         8.621015      -1.332816       3.999904     107.813044\n",
       "max        29.421755      18.734063       5.019721     137.945408"
      ]
     },
     "execution_count": 10,
     "metadata": {},
     "output_type": "execute_result"
    }
   ],
   "source": [
    "df_1.describe()"
   ]
  },
  {
   "cell_type": "code",
   "execution_count": 11,
   "metadata": {},
   "outputs": [
    {
     "data": {
      "text/plain": [
       "0"
      ]
     },
     "execution_count": 11,
     "metadata": {},
     "output_type": "execute_result"
    }
   ],
   "source": [
    "df_1.duplicated().sum()"
   ]
  },
  {
   "cell_type": "code",
   "execution_count": 12,
   "metadata": {},
   "outputs": [
    {
     "data": {
      "text/html": [
       "<div>\n",
       "<style scoped>\n",
       "    .dataframe tbody tr th:only-of-type {\n",
       "        vertical-align: middle;\n",
       "    }\n",
       "\n",
       "    .dataframe tbody tr th {\n",
       "        vertical-align: top;\n",
       "    }\n",
       "\n",
       "    .dataframe thead th {\n",
       "        text-align: right;\n",
       "    }\n",
       "</style>\n",
       "<table border=\"1\" class=\"dataframe\">\n",
       "  <thead>\n",
       "    <tr style=\"text-align: right;\">\n",
       "      <th></th>\n",
       "      <th>id</th>\n",
       "      <th>f0</th>\n",
       "      <th>f1</th>\n",
       "      <th>f2</th>\n",
       "      <th>product</th>\n",
       "    </tr>\n",
       "  </thead>\n",
       "  <tbody>\n",
       "    <tr>\n",
       "      <td>0</td>\n",
       "      <td>fwXo0</td>\n",
       "      <td>-1.146987</td>\n",
       "      <td>0.963328</td>\n",
       "      <td>-0.828965</td>\n",
       "      <td>27.758673</td>\n",
       "    </tr>\n",
       "    <tr>\n",
       "      <td>1</td>\n",
       "      <td>WJtFt</td>\n",
       "      <td>0.262778</td>\n",
       "      <td>0.269839</td>\n",
       "      <td>-2.530187</td>\n",
       "      <td>56.069697</td>\n",
       "    </tr>\n",
       "    <tr>\n",
       "      <td>2</td>\n",
       "      <td>ovLUW</td>\n",
       "      <td>0.194587</td>\n",
       "      <td>0.289035</td>\n",
       "      <td>-5.586433</td>\n",
       "      <td>62.871910</td>\n",
       "    </tr>\n",
       "    <tr>\n",
       "      <td>3</td>\n",
       "      <td>q6cA6</td>\n",
       "      <td>2.236060</td>\n",
       "      <td>-0.553760</td>\n",
       "      <td>0.930038</td>\n",
       "      <td>114.572842</td>\n",
       "    </tr>\n",
       "    <tr>\n",
       "      <td>4</td>\n",
       "      <td>WPMUX</td>\n",
       "      <td>-0.515993</td>\n",
       "      <td>1.716266</td>\n",
       "      <td>5.899011</td>\n",
       "      <td>149.600746</td>\n",
       "    </tr>\n",
       "  </tbody>\n",
       "</table>\n",
       "</div>"
      ],
      "text/plain": [
       "      id        f0        f1        f2     product\n",
       "0  fwXo0 -1.146987  0.963328 -0.828965   27.758673\n",
       "1  WJtFt  0.262778  0.269839 -2.530187   56.069697\n",
       "2  ovLUW  0.194587  0.289035 -5.586433   62.871910\n",
       "3  q6cA6  2.236060 -0.553760  0.930038  114.572842\n",
       "4  WPMUX -0.515993  1.716266  5.899011  149.600746"
      ]
     },
     "execution_count": 12,
     "metadata": {},
     "output_type": "execute_result"
    }
   ],
   "source": [
    "df_2 = pd.read_csv('https://code.s3.yandex.net/datasets/geo_data_2.csv')#загрузка файла\n",
    "df_2.head()#выводим первые строки таблицы"
   ]
  },
  {
   "cell_type": "code",
   "execution_count": 13,
   "metadata": {},
   "outputs": [
    {
     "name": "stdout",
     "output_type": "stream",
     "text": [
      "<class 'pandas.core.frame.DataFrame'>\n",
      "RangeIndex: 100000 entries, 0 to 99999\n",
      "Data columns (total 5 columns):\n",
      "id         100000 non-null object\n",
      "f0         100000 non-null float64\n",
      "f1         100000 non-null float64\n",
      "f2         100000 non-null float64\n",
      "product    100000 non-null float64\n",
      "dtypes: float64(4), object(1)\n",
      "memory usage: 3.8+ MB\n"
     ]
    }
   ],
   "source": [
    "df_2.info()"
   ]
  },
  {
   "cell_type": "code",
   "execution_count": 14,
   "metadata": {},
   "outputs": [
    {
     "data": {
      "text/html": [
       "<div>\n",
       "<style scoped>\n",
       "    .dataframe tbody tr th:only-of-type {\n",
       "        vertical-align: middle;\n",
       "    }\n",
       "\n",
       "    .dataframe tbody tr th {\n",
       "        vertical-align: top;\n",
       "    }\n",
       "\n",
       "    .dataframe thead th {\n",
       "        text-align: right;\n",
       "    }\n",
       "</style>\n",
       "<table border=\"1\" class=\"dataframe\">\n",
       "  <thead>\n",
       "    <tr style=\"text-align: right;\">\n",
       "      <th></th>\n",
       "      <th>f0</th>\n",
       "      <th>f1</th>\n",
       "      <th>f2</th>\n",
       "      <th>product</th>\n",
       "    </tr>\n",
       "  </thead>\n",
       "  <tbody>\n",
       "    <tr>\n",
       "      <td>count</td>\n",
       "      <td>100000.000000</td>\n",
       "      <td>100000.000000</td>\n",
       "      <td>100000.000000</td>\n",
       "      <td>100000.000000</td>\n",
       "    </tr>\n",
       "    <tr>\n",
       "      <td>mean</td>\n",
       "      <td>0.002023</td>\n",
       "      <td>-0.002081</td>\n",
       "      <td>2.495128</td>\n",
       "      <td>95.000000</td>\n",
       "    </tr>\n",
       "    <tr>\n",
       "      <td>std</td>\n",
       "      <td>1.732045</td>\n",
       "      <td>1.730417</td>\n",
       "      <td>3.473445</td>\n",
       "      <td>44.749921</td>\n",
       "    </tr>\n",
       "    <tr>\n",
       "      <td>min</td>\n",
       "      <td>-8.760004</td>\n",
       "      <td>-7.084020</td>\n",
       "      <td>-11.970335</td>\n",
       "      <td>0.000000</td>\n",
       "    </tr>\n",
       "    <tr>\n",
       "      <td>25%</td>\n",
       "      <td>-1.162288</td>\n",
       "      <td>-1.174820</td>\n",
       "      <td>0.130359</td>\n",
       "      <td>59.450441</td>\n",
       "    </tr>\n",
       "    <tr>\n",
       "      <td>50%</td>\n",
       "      <td>0.009424</td>\n",
       "      <td>-0.009482</td>\n",
       "      <td>2.484236</td>\n",
       "      <td>94.925613</td>\n",
       "    </tr>\n",
       "    <tr>\n",
       "      <td>75%</td>\n",
       "      <td>1.158535</td>\n",
       "      <td>1.163678</td>\n",
       "      <td>4.858794</td>\n",
       "      <td>130.595027</td>\n",
       "    </tr>\n",
       "    <tr>\n",
       "      <td>max</td>\n",
       "      <td>7.238262</td>\n",
       "      <td>7.844801</td>\n",
       "      <td>16.739402</td>\n",
       "      <td>190.029838</td>\n",
       "    </tr>\n",
       "  </tbody>\n",
       "</table>\n",
       "</div>"
      ],
      "text/plain": [
       "                  f0             f1             f2        product\n",
       "count  100000.000000  100000.000000  100000.000000  100000.000000\n",
       "mean        0.002023      -0.002081       2.495128      95.000000\n",
       "std         1.732045       1.730417       3.473445      44.749921\n",
       "min        -8.760004      -7.084020     -11.970335       0.000000\n",
       "25%        -1.162288      -1.174820       0.130359      59.450441\n",
       "50%         0.009424      -0.009482       2.484236      94.925613\n",
       "75%         1.158535       1.163678       4.858794     130.595027\n",
       "max         7.238262       7.844801      16.739402     190.029838"
      ]
     },
     "execution_count": 14,
     "metadata": {},
     "output_type": "execute_result"
    }
   ],
   "source": [
    "df_2.describe()"
   ]
  },
  {
   "cell_type": "code",
   "execution_count": 15,
   "metadata": {
    "scrolled": true
   },
   "outputs": [
    {
     "data": {
      "text/plain": [
       "0"
      ]
     },
     "execution_count": 15,
     "metadata": {},
     "output_type": "execute_result"
    }
   ],
   "source": [
    "df_2.duplicated().sum()"
   ]
  },
  {
   "cell_type": "markdown",
   "metadata": {},
   "source": [
    "***Вывод***  \n",
    "По результатам анализа данных установлено отсутствие пропущенных данных и дубликатов данных. "
   ]
  },
  {
   "cell_type": "markdown",
   "metadata": {},
   "source": [
    "## Обучение и проверка модели\n"
   ]
  },
  {
   "cell_type": "markdown",
   "metadata": {},
   "source": [
    "Обучим и проверим модель для каждого региона.\n"
   ]
  },
  {
   "cell_type": "code",
   "execution_count": 16,
   "metadata": {},
   "outputs": [],
   "source": [
    "def check_models(df, name):\n",
    "    features = df.drop(['product', 'id'], axis=1)\n",
    "    target = df['product']\n",
    "\n",
    "    # отделим 25% данных для валидационной выборки\n",
    "    features_train, features_valid, target_train, target_valid = train_test_split(\n",
    "    features, target, test_size=0.25, random_state=12345)\n",
    "    \n",
    "    # инициализируем модель LinearRegression\n",
    "    model = LinearRegression()\n",
    "    # обучим модель на тренировочной выборке\n",
    "    model.fit(features_train, target_train) \n",
    "    # получим предсказания модели на валидационной выборке\n",
    "    predictions_valid = model.predict(features_valid)\n",
    "    # посчитаем значение метрики RMSE на валидационной выборке\n",
    "    rmse = (mean_squared_error(target_valid, predictions_valid)**0.5)\n",
    "    average_amount = predictions_valid.mean()\n",
    "    #Построим таблицу с основными показателями\n",
    "    table_lr = pd.DataFrame({'Region_name':[name],\n",
    "                          'RMSE модели линейной регрессии на валидационной выборке:':[rmse],\n",
    "                          'Средний запас предсказанного сырья:':[average_amount]})\n",
    "    predictions_valid = pd.Series(predictions_valid)\n",
    "    \n",
    "    return (predictions_valid, target_valid.reset_index()['product'], table_lr)"
   ]
  },
  {
   "cell_type": "code",
   "execution_count": 17,
   "metadata": {
    "scrolled": true
   },
   "outputs": [
    {
     "data": {
      "text/html": [
       "<div>\n",
       "<style scoped>\n",
       "    .dataframe tbody tr th:only-of-type {\n",
       "        vertical-align: middle;\n",
       "    }\n",
       "\n",
       "    .dataframe tbody tr th {\n",
       "        vertical-align: top;\n",
       "    }\n",
       "\n",
       "    .dataframe thead th {\n",
       "        text-align: right;\n",
       "    }\n",
       "</style>\n",
       "<table border=\"1\" class=\"dataframe\">\n",
       "  <thead>\n",
       "    <tr style=\"text-align: right;\">\n",
       "      <th></th>\n",
       "      <th>Region_name</th>\n",
       "      <th>RMSE модели линейной регрессии на валидационной выборке:</th>\n",
       "      <th>Средний запас предсказанного сырья:</th>\n",
       "    </tr>\n",
       "  </thead>\n",
       "  <tbody>\n",
       "    <tr>\n",
       "      <td>0</td>\n",
       "      <td>Region_0</td>\n",
       "      <td>37.579422</td>\n",
       "      <td>92.592568</td>\n",
       "    </tr>\n",
       "    <tr>\n",
       "      <td>0</td>\n",
       "      <td>Region_1</td>\n",
       "      <td>0.893099</td>\n",
       "      <td>68.728547</td>\n",
       "    </tr>\n",
       "    <tr>\n",
       "      <td>0</td>\n",
       "      <td>Region_2</td>\n",
       "      <td>40.029709</td>\n",
       "      <td>94.965046</td>\n",
       "    </tr>\n",
       "  </tbody>\n",
       "</table>\n",
       "</div>"
      ],
      "text/plain": [
       "  Region_name  RMSE модели линейной регрессии на валидационной выборке:  \\\n",
       "0    Region_0                                          37.579422          \n",
       "0    Region_1                                           0.893099          \n",
       "0    Region_2                                          40.029709          \n",
       "\n",
       "   Средний запас предсказанного сырья:  \n",
       "0                            92.592568  \n",
       "0                            68.728547  \n",
       "0                            94.965046  "
      ]
     },
     "metadata": {},
     "output_type": "display_data"
    }
   ],
   "source": [
    "#Сохраним предсказания, целевой признак и таблицу с метриками\n",
    "preds_0, target_0, table_df_0 = check_models(df_0, 'Region_0')\n",
    "preds_1, target_1, table_df_1 = check_models(df_1, 'Region_1')\n",
    "preds_2, target_2, table_df_2 = check_models(df_2, 'Region_2')\n",
    "#Выведем общую таблицу с метриками по каждому региону\n",
    "table = pd.concat([table_df_0, table_df_1, table_df_2])\n",
    "display(table)"
   ]
  },
  {
   "cell_type": "markdown",
   "metadata": {},
   "source": [
    "***Вывод***  \n",
    "\n",
    "Исходя из данных, приведенных в таблице выше, наименьшую ошибку\n",
    "модель показала по региону Region_1."
   ]
  },
  {
   "cell_type": "markdown",
   "metadata": {},
   "source": [
    "## Подготовка к расчёту прибыли"
   ]
  },
  {
   "cell_type": "markdown",
   "metadata": {},
   "source": [
    "При разведке региона исследуют 500 точек, из которых с помощью машинного обучения выбирают 200 лучших для разработки.\n",
    "Бюджет на разработку скважин в регионе — 10 млрд рублей.\n",
    "При нынешних ценах один баррель сырья приносит 450 рублей дохода. Доход с каждой единицы продукта составляет 450 тыс. рублей, поскольку объём указан в тысячах баррелей."
   ]
  },
  {
   "cell_type": "markdown",
   "metadata": {},
   "source": [
    "Все ключевые значения для расчётов сохраним в отдельных переменных."
   ]
  },
  {
   "cell_type": "code",
   "execution_count": 18,
   "metadata": {},
   "outputs": [
    {
     "name": "stdout",
     "output_type": "stream",
     "text": [
      "Планируемые затраты на одну скважину: 50000000 рублей\n"
     ]
    }
   ],
   "source": [
    "revenue_per_barrel = 450*10**3#Доход с каждой единицы продукта составляет 450 тыс. рублей, поскольку объём указан в тысячах баррелей\n",
    "quantity = 200#200 лучших точек для разработки\n",
    "costs_per_region= 10**10#Бюджет на разработку скважин в регионе — 10 млрд рублей\n",
    "best_wells = 200\n",
    "costs_per_well = costs_per_region/best_wells#Планируемые затраты на одну скважину\n",
    "print (\"Планируемые затраты на одну скважину: {0:.0f} рублей\". format (costs_per_well))"
   ]
  },
  {
   "cell_type": "markdown",
   "metadata": {},
   "source": [
    "Рассчитаем достаточный объём сырья для безубыточной разработки новой скважины. Точка безубыточности означает равенство выручки от реализации фактическим затратам компании. Таким образом, точка безубыточности на одну скважину рассчитывается как:  \n",
    "Планируемые затраты на одну скважину = Доход с каждой единицы (1 тыс. баррелей) продукта* Количество продукта (в тыс. баррелей)."
   ]
  },
  {
   "cell_type": "code",
   "execution_count": 19,
   "metadata": {},
   "outputs": [
    {
     "name": "stdout",
     "output_type": "stream",
     "text": [
      "Минимальное количество нефти для безубыточной разработки новой скважины: 111 тыс. баррелей\n",
      "Минимальное количество нефти для безубыточной разработки 200 скважин в регионе: 22 млн баррелей\n"
     ]
    }
   ],
   "source": [
    "product = costs_per_well/revenue_per_barrel#Рассчитаем минимальное количество нефти для безубыточной разработки новой скважины\n",
    "product_per_region = costs_per_region/revenue_per_barrel/1000\n",
    "print('Минимальное количество нефти для безубыточной разработки новой скважины: {0:.0f} тыс. баррелей'. format (product))\n",
    "print('Минимальное количество нефти для безубыточной разработки 200 скважин в регионе: {0:.0f} млн баррелей'. format (product_per_region))\n"
   ]
  },
  {
   "cell_type": "markdown",
   "metadata": {},
   "source": [
    "Сравним полученный объём сырья со средним запасом в каждом регионе."
   ]
  },
  {
   "cell_type": "code",
   "execution_count": 20,
   "metadata": {
    "scrolled": true
   },
   "outputs": [
    {
     "data": {
      "text/html": [
       "<div>\n",
       "<style scoped>\n",
       "    .dataframe tbody tr th:only-of-type {\n",
       "        vertical-align: middle;\n",
       "    }\n",
       "\n",
       "    .dataframe tbody tr th {\n",
       "        vertical-align: top;\n",
       "    }\n",
       "\n",
       "    .dataframe thead th {\n",
       "        text-align: right;\n",
       "    }\n",
       "</style>\n",
       "<table border=\"1\" class=\"dataframe\">\n",
       "  <thead>\n",
       "    <tr style=\"text-align: right;\">\n",
       "      <th></th>\n",
       "      <th>Region_name</th>\n",
       "      <th>Средний запас предсказанного сырья:</th>\n",
       "      <th>breakeven_point</th>\n",
       "    </tr>\n",
       "  </thead>\n",
       "  <tbody>\n",
       "    <tr>\n",
       "      <td>0</td>\n",
       "      <td>Region_0</td>\n",
       "      <td>92.592568</td>\n",
       "      <td>-18.518543</td>\n",
       "    </tr>\n",
       "    <tr>\n",
       "      <td>0</td>\n",
       "      <td>Region_1</td>\n",
       "      <td>68.728547</td>\n",
       "      <td>-42.382564</td>\n",
       "    </tr>\n",
       "    <tr>\n",
       "      <td>0</td>\n",
       "      <td>Region_2</td>\n",
       "      <td>94.965046</td>\n",
       "      <td>-16.146065</td>\n",
       "    </tr>\n",
       "  </tbody>\n",
       "</table>\n",
       "</div>"
      ],
      "text/plain": [
       "  Region_name  Средний запас предсказанного сырья:  breakeven_point\n",
       "0    Region_0                            92.592568       -18.518543\n",
       "0    Region_1                            68.728547       -42.382564\n",
       "0    Region_2                            94.965046       -16.146065"
      ]
     },
     "execution_count": 20,
     "metadata": {},
     "output_type": "execute_result"
    }
   ],
   "source": [
    "table = table[['Region_name', 'Средний запас предсказанного сырья:']]\n",
    "table['breakeven_point'] = table['Средний запас предсказанного сырья:'] - product\n",
    "table"
   ]
  },
  {
   "cell_type": "markdown",
   "metadata": {},
   "source": [
    "Как видно из данных, приведенных в таблице выше, средний запас предсказанного сырья\n",
    "в каждом из трех регионов ниже точки безубыточности новой скважины."
   ]
  },
  {
   "cell_type": "markdown",
   "metadata": {},
   "source": [
    "***Вывод***  \n",
    "В ходе проведения исследования установлено, для безубыточной разработки скважины минимальное количество нефти в новой скважине должно составлять 111 тыс. баррелей, а для региона - 22 млн баррелей.\n",
    "При этом средний запас предсказанного сырья в скважинах ниже точки безубыточности во всех регионах.\n"
   ]
  },
  {
   "cell_type": "markdown",
   "metadata": {},
   "source": [
    "## Расчёт прибыли и рисков "
   ]
  },
  {
   "cell_type": "markdown",
   "metadata": {},
   "source": [
    "Напишем функцию для расчёта прибыли по выбранным скважинам и предсказаниям модели.\n"
   ]
  },
  {
   "cell_type": "code",
   "execution_count": 21,
   "metadata": {},
   "outputs": [],
   "source": [
    "#Напишем функцию для расчета прибыли по выбранным скважинам\n",
    "def profit(target, probabilities, count):\n",
    "    probs_sorted = probabilities.sort_values(ascending=False)\n",
    "    selected = target[probs_sorted.index][:count]\n",
    "    revenue_per_region = selected.sum() * revenue_per_barrel\n",
    "    return revenue_per_region-costs_per_region"
   ]
  },
  {
   "cell_type": "code",
   "execution_count": 22,
   "metadata": {},
   "outputs": [
    {
     "data": {
      "text/html": [
       "<div>\n",
       "<style scoped>\n",
       "    .dataframe tbody tr th:only-of-type {\n",
       "        vertical-align: middle;\n",
       "    }\n",
       "\n",
       "    .dataframe tbody tr th {\n",
       "        vertical-align: top;\n",
       "    }\n",
       "\n",
       "    .dataframe thead th {\n",
       "        text-align: right;\n",
       "    }\n",
       "</style>\n",
       "<table border=\"1\" class=\"dataframe\">\n",
       "  <thead>\n",
       "    <tr style=\"text-align: right;\">\n",
       "      <th></th>\n",
       "      <th>Прибыль</th>\n",
       "      <th>2.5%-квантиль</th>\n",
       "      <th>97,5%-квантиль</th>\n",
       "      <th>Название</th>\n",
       "      <th>Процент риска</th>\n",
       "      <th>Средняя</th>\n",
       "    </tr>\n",
       "  </thead>\n",
       "  <tbody>\n",
       "    <tr>\n",
       "      <td>0</td>\n",
       "      <td>4.259385e+08</td>\n",
       "      <td>-1.020901e+08</td>\n",
       "      <td>9.479764e+08</td>\n",
       "      <td>first</td>\n",
       "      <td>6.0</td>\n",
       "      <td>425938526</td>\n",
       "    </tr>\n",
       "    <tr>\n",
       "      <td>0</td>\n",
       "      <td>5.152228e+08</td>\n",
       "      <td>6.887323e+07</td>\n",
       "      <td>9.315476e+08</td>\n",
       "      <td>second</td>\n",
       "      <td>1.0</td>\n",
       "      <td>515222773</td>\n",
       "    </tr>\n",
       "    <tr>\n",
       "      <td>0</td>\n",
       "      <td>4.350084e+08</td>\n",
       "      <td>-1.288805e+08</td>\n",
       "      <td>9.697070e+08</td>\n",
       "      <td>third</td>\n",
       "      <td>6.4</td>\n",
       "      <td>435008362</td>\n",
       "    </tr>\n",
       "  </tbody>\n",
       "</table>\n",
       "</div>"
      ],
      "text/plain": [
       "        Прибыль  2.5%-квантиль  97,5%-квантиль Название  Процент риска  \\\n",
       "0  4.259385e+08  -1.020901e+08    9.479764e+08    first            6.0   \n",
       "0  5.152228e+08   6.887323e+07    9.315476e+08   second            1.0   \n",
       "0  4.350084e+08  -1.288805e+08    9.697070e+08    third            6.4   \n",
       "\n",
       "     Средняя  \n",
       "0  425938526  \n",
       "0  515222773  \n",
       "0  435008362  "
      ]
     },
     "metadata": {},
     "output_type": "display_data"
    }
   ],
   "source": [
    "# Напишем функцию для расчета средней прибыли, 95%-й доверительный интервал\n",
    "def revenue(target, probabilities, name):\n",
    "    state = np.random.RandomState(12345)\n",
    "    values = []\n",
    "    #Применим технику Bootstrap с 1000 выборок для того, чтобы найти распределение прибыли\n",
    "    for i in range(1000):\n",
    "        target_subsample = target.sample(500,\n",
    "                                         replace=True,\n",
    "                                         random_state=state)\n",
    "        probs_subsample = probabilities[target_subsample.index]\n",
    "        values.append(profit(target_subsample, probs_subsample, 200))\n",
    "        \n",
    "    values = pd.Series(values)\n",
    "    lower = values.quantile(0.025)# \n",
    "    upper = values.quantile(0.975)\n",
    "    risk = st.percentileofscore(values, 0)\n",
    "    mean_values = int(sum(values)/len(values))\n",
    "   \n",
    "    table = pd.DataFrame({\n",
    "                          'Прибыль' \n",
    "                          :[values.mean()],\n",
    "                          '2.5%-квантиль' \n",
    "                          :[lower],\n",
    "                          '97,5%-квантиль'\n",
    "                          :[upper],\n",
    "                          'Название'\n",
    "                          :[name],\n",
    "                          'Процент риска'\n",
    "                          :[risk],\n",
    "                          'Средняя'\n",
    "                          :[mean_values]\n",
    "        \n",
    "                          })\n",
    "    return table\n",
    "   \n",
    "table_0 = revenue(target_0, preds_0, 'first')\n",
    "table_1 = revenue(target_1, preds_1, 'second')\n",
    "table_2 = revenue(target_2, preds_2, 'third')\n",
    "table = pd.concat([table_0, table_1, table_2])\n",
    "display(table)"
   ]
  },
  {
   "cell_type": "markdown",
   "metadata": {},
   "source": [
    "***Вывод***\n",
    "\n",
    "Как видно из данных по региону second наименьший риск и составляет 1.0% при этом по этому региону наибольшая средняя. "
   ]
  },
  {
   "cell_type": "markdown",
   "metadata": {},
   "source": [
    "\n"
   ]
  },
  {
   "cell_type": "markdown",
   "metadata": {},
   "source": [
    "\n"
   ]
  }
 ],
 "metadata": {
  "ExecuteTimeLog": [
   {
    "duration": 777,
    "start_time": "2021-11-11T06:22:29.060Z"
   },
   {
    "duration": 2519,
    "start_time": "2021-11-11T06:22:29.840Z"
   },
   {
    "duration": -7221,
    "start_time": "2021-11-11T06:22:39.582Z"
   },
   {
    "duration": -7222,
    "start_time": "2021-11-11T06:22:39.585Z"
   },
   {
    "duration": 4,
    "start_time": "2021-11-11T06:22:52.472Z"
   },
   {
    "duration": 346,
    "start_time": "2021-11-11T06:22:52.487Z"
   },
   {
    "duration": 336,
    "start_time": "2021-11-11T06:22:52.836Z"
   },
   {
    "duration": 330,
    "start_time": "2021-11-11T06:23:07.632Z"
   },
   {
    "duration": 3,
    "start_time": "2021-11-11T06:34:09.748Z"
   },
   {
    "duration": 594,
    "start_time": "2021-11-11T06:34:09.754Z"
   },
   {
    "duration": 560,
    "start_time": "2021-11-11T06:34:10.350Z"
   },
   {
    "duration": 2062,
    "start_time": "2021-11-11T06:34:10.913Z"
   },
   {
    "duration": 98,
    "start_time": "2021-11-11T06:41:13.347Z"
   },
   {
    "duration": 73,
    "start_time": "2021-11-11T06:41:26.472Z"
   },
   {
    "duration": 325,
    "start_time": "2021-11-11T06:46:51.542Z"
   },
   {
    "duration": 18975,
    "start_time": "2021-11-11T06:46:57.762Z"
   },
   {
    "duration": 18999,
    "start_time": "2021-11-11T06:47:46.902Z"
   },
   {
    "duration": 20,
    "start_time": "2021-11-11T06:48:53.682Z"
   },
   {
    "duration": 15,
    "start_time": "2021-11-11T06:49:16.242Z"
   },
   {
    "duration": 601,
    "start_time": "2021-11-11T06:51:07.538Z"
   },
   {
    "duration": 15,
    "start_time": "2021-11-11T06:51:33.102Z"
   },
   {
    "duration": 16,
    "start_time": "2021-11-11T06:51:53.237Z"
   },
   {
    "duration": 214,
    "start_time": "2021-11-11T14:30:36.901Z"
   },
   {
    "duration": 993,
    "start_time": "2021-11-11T14:30:41.001Z"
   },
   {
    "duration": 356,
    "start_time": "2021-11-11T14:30:41.996Z"
   },
   {
    "duration": 13,
    "start_time": "2021-11-11T14:30:42.354Z"
   },
   {
    "duration": 563,
    "start_time": "2021-11-11T14:30:42.369Z"
   },
   {
    "duration": 9,
    "start_time": "2021-11-11T14:30:42.934Z"
   },
   {
    "duration": 1174,
    "start_time": "2021-11-11T18:39:14.075Z"
   },
   {
    "duration": 417,
    "start_time": "2021-11-11T18:39:15.251Z"
   },
   {
    "duration": 11,
    "start_time": "2021-11-11T18:39:15.670Z"
   },
   {
    "duration": 50,
    "start_time": "2021-11-11T18:39:15.683Z"
   },
   {
    "duration": 39,
    "start_time": "2021-11-11T18:39:15.735Z"
   },
   {
    "duration": 1978,
    "start_time": "2021-11-11T18:39:15.776Z"
   },
   {
    "duration": 11,
    "start_time": "2021-11-11T18:39:17.755Z"
   },
   {
    "duration": 44,
    "start_time": "2021-11-11T18:39:17.767Z"
   },
   {
    "duration": 35,
    "start_time": "2021-11-11T18:39:17.814Z"
   },
   {
    "duration": 390,
    "start_time": "2021-11-11T18:39:17.851Z"
   },
   {
    "duration": 11,
    "start_time": "2021-11-11T18:39:18.243Z"
   },
   {
    "duration": 59,
    "start_time": "2021-11-11T18:39:18.255Z"
   },
   {
    "duration": 39,
    "start_time": "2021-11-11T18:39:18.315Z"
   },
   {
    "duration": 127,
    "start_time": "2021-11-11T18:39:18.356Z"
   },
   {
    "duration": -8837,
    "start_time": "2021-11-11T18:39:27.323Z"
   },
   {
    "duration": -8840,
    "start_time": "2021-11-11T18:39:27.327Z"
   },
   {
    "duration": -8843,
    "start_time": "2021-11-11T18:39:27.332Z"
   },
   {
    "duration": 437,
    "start_time": "2021-11-11T18:39:31.886Z"
   },
   {
    "duration": 3,
    "start_time": "2021-11-11T18:39:36.958Z"
   },
   {
    "duration": 318,
    "start_time": "2021-11-11T18:39:36.973Z"
   },
   {
    "duration": 10,
    "start_time": "2021-11-11T18:39:37.293Z"
   },
   {
    "duration": 45,
    "start_time": "2021-11-11T18:39:37.307Z"
   },
   {
    "duration": 36,
    "start_time": "2021-11-11T18:39:37.354Z"
   },
   {
    "duration": 398,
    "start_time": "2021-11-11T18:39:37.391Z"
   },
   {
    "duration": 11,
    "start_time": "2021-11-11T18:39:37.791Z"
   },
   {
    "duration": 35,
    "start_time": "2021-11-11T18:39:37.807Z"
   },
   {
    "duration": 37,
    "start_time": "2021-11-11T18:39:37.844Z"
   },
   {
    "duration": 2147,
    "start_time": "2021-11-11T18:39:37.883Z"
   },
   {
    "duration": 11,
    "start_time": "2021-11-11T18:39:40.032Z"
   },
   {
    "duration": 36,
    "start_time": "2021-11-11T18:39:40.045Z"
   },
   {
    "duration": 56,
    "start_time": "2021-11-11T18:39:40.083Z"
   },
   {
    "duration": 1276,
    "start_time": "2021-11-11T18:39:40.141Z"
   },
   {
    "duration": -8817,
    "start_time": "2021-11-11T18:39:50.236Z"
   },
   {
    "duration": -8836,
    "start_time": "2021-11-11T18:39:50.256Z"
   },
   {
    "duration": -8837,
    "start_time": "2021-11-11T18:39:50.258Z"
   },
   {
    "duration": 126,
    "start_time": "2021-11-11T18:44:21.787Z"
   },
   {
    "duration": 122,
    "start_time": "2021-11-11T18:44:41.447Z"
   },
   {
    "duration": 5,
    "start_time": "2021-11-11T18:44:48.421Z"
   },
   {
    "duration": 129,
    "start_time": "2021-11-11T18:59:43.884Z"
   },
   {
    "duration": 4,
    "start_time": "2021-11-11T19:00:19.879Z"
   },
   {
    "duration": 3,
    "start_time": "2021-11-11T19:01:00.943Z"
   },
   {
    "duration": 1303,
    "start_time": "2021-11-12T06:09:02.333Z"
   },
   {
    "duration": 622,
    "start_time": "2021-11-12T06:09:03.638Z"
   },
   {
    "duration": 14,
    "start_time": "2021-11-12T06:09:04.263Z"
   },
   {
    "duration": 66,
    "start_time": "2021-11-12T06:09:04.279Z"
   },
   {
    "duration": 65,
    "start_time": "2021-11-12T06:09:04.347Z"
   },
   {
    "duration": 359,
    "start_time": "2021-11-12T06:09:04.429Z"
   },
   {
    "duration": 14,
    "start_time": "2021-11-12T06:09:04.790Z"
   },
   {
    "duration": 61,
    "start_time": "2021-11-12T06:09:04.807Z"
   },
   {
    "duration": 78,
    "start_time": "2021-11-12T06:09:04.871Z"
   },
   {
    "duration": 366,
    "start_time": "2021-11-12T06:09:04.952Z"
   },
   {
    "duration": 17,
    "start_time": "2021-11-12T06:09:05.320Z"
   },
   {
    "duration": 56,
    "start_time": "2021-11-12T06:09:05.339Z"
   },
   {
    "duration": 78,
    "start_time": "2021-11-12T06:09:05.397Z"
   },
   {
    "duration": 6,
    "start_time": "2021-11-12T06:09:05.477Z"
   },
   {
    "duration": 10,
    "start_time": "2021-11-12T06:09:05.485Z"
   },
   {
    "duration": 414,
    "start_time": "2021-11-12T06:09:05.497Z"
   },
   {
    "duration": 96,
    "start_time": "2021-11-12T06:36:46.341Z"
   },
   {
    "duration": 5,
    "start_time": "2021-11-12T06:36:52.720Z"
   },
   {
    "duration": 267,
    "start_time": "2021-11-12T06:37:09.190Z"
   },
   {
    "duration": 282,
    "start_time": "2021-11-12T06:37:15.613Z"
   },
   {
    "duration": 5,
    "start_time": "2021-11-12T06:37:24.258Z"
   },
   {
    "duration": 272,
    "start_time": "2021-11-12T06:37:46.697Z"
   },
   {
    "duration": 6,
    "start_time": "2021-11-12T06:37:51.890Z"
   },
   {
    "duration": 6,
    "start_time": "2021-11-12T06:38:05.008Z"
   },
   {
    "duration": 7,
    "start_time": "2021-11-12T06:38:12.453Z"
   },
   {
    "duration": 284,
    "start_time": "2021-11-12T06:38:18.313Z"
   },
   {
    "duration": 7,
    "start_time": "2021-11-12T06:38:31.095Z"
   },
   {
    "duration": 5,
    "start_time": "2021-11-12T06:38:40.238Z"
   },
   {
    "duration": 6,
    "start_time": "2021-11-12T06:38:51.268Z"
   },
   {
    "duration": 4,
    "start_time": "2021-11-12T06:39:11.299Z"
   },
   {
    "duration": 5,
    "start_time": "2021-11-12T06:41:06.919Z"
   },
   {
    "duration": 93,
    "start_time": "2021-11-12T06:57:40.007Z"
   },
   {
    "duration": 6,
    "start_time": "2021-11-12T06:57:54.182Z"
   },
   {
    "duration": 5,
    "start_time": "2021-11-12T06:58:15.512Z"
   },
   {
    "duration": 5,
    "start_time": "2021-11-12T06:58:24.672Z"
   },
   {
    "duration": 4,
    "start_time": "2021-11-12T06:59:20.422Z"
   },
   {
    "duration": 6,
    "start_time": "2021-11-12T06:59:56.372Z"
   },
   {
    "duration": 4,
    "start_time": "2021-11-12T07:00:28.378Z"
   },
   {
    "duration": 4,
    "start_time": "2021-11-12T07:00:45.122Z"
   },
   {
    "duration": 5,
    "start_time": "2021-11-12T07:00:53.242Z"
   },
   {
    "duration": 5,
    "start_time": "2021-11-12T07:04:25.947Z"
   },
   {
    "duration": 6,
    "start_time": "2021-11-12T07:04:48.427Z"
   },
   {
    "duration": 5,
    "start_time": "2021-11-12T07:07:10.693Z"
   },
   {
    "duration": 6,
    "start_time": "2021-11-12T07:08:01.124Z"
   },
   {
    "duration": 4,
    "start_time": "2021-11-12T10:06:24.440Z"
   },
   {
    "duration": 423,
    "start_time": "2021-11-12T10:06:37.262Z"
   },
   {
    "duration": 4,
    "start_time": "2021-11-12T10:19:07.422Z"
   },
   {
    "duration": 5,
    "start_time": "2021-11-12T10:27:50.441Z"
   },
   {
    "duration": 5,
    "start_time": "2021-11-12T10:28:11.520Z"
   },
   {
    "duration": 5,
    "start_time": "2021-11-12T10:28:31.735Z"
   },
   {
    "duration": 363,
    "start_time": "2021-11-12T10:28:41.004Z"
   },
   {
    "duration": 704,
    "start_time": "2021-11-12T10:30:31.123Z"
   },
   {
    "duration": 1116,
    "start_time": "2021-11-12T10:30:39.419Z"
   },
   {
    "duration": 415,
    "start_time": "2021-11-12T10:30:40.537Z"
   },
   {
    "duration": 12,
    "start_time": "2021-11-12T10:30:40.954Z"
   },
   {
    "duration": 55,
    "start_time": "2021-11-12T10:30:40.969Z"
   },
   {
    "duration": 43,
    "start_time": "2021-11-12T10:30:41.026Z"
   },
   {
    "duration": 1411,
    "start_time": "2021-11-12T10:30:41.071Z"
   },
   {
    "duration": 12,
    "start_time": "2021-11-12T10:30:42.484Z"
   },
   {
    "duration": 48,
    "start_time": "2021-11-12T10:30:42.508Z"
   },
   {
    "duration": 35,
    "start_time": "2021-11-12T10:30:42.557Z"
   },
   {
    "duration": 463,
    "start_time": "2021-11-12T10:30:42.594Z"
   },
   {
    "duration": 10,
    "start_time": "2021-11-12T10:30:43.059Z"
   },
   {
    "duration": 51,
    "start_time": "2021-11-12T10:30:43.070Z"
   },
   {
    "duration": 37,
    "start_time": "2021-11-12T10:30:43.123Z"
   },
   {
    "duration": 6,
    "start_time": "2021-11-12T10:30:43.161Z"
   },
   {
    "duration": 64,
    "start_time": "2021-11-12T10:30:43.169Z"
   },
   {
    "duration": 1285,
    "start_time": "2021-11-12T10:30:43.308Z"
   },
   {
    "duration": 666,
    "start_time": "2021-11-12T10:30:43.929Z"
   },
   {
    "duration": 494,
    "start_time": "2021-11-12T10:30:44.102Z"
   },
   {
    "duration": 5,
    "start_time": "2021-11-12T10:31:13.891Z"
   },
   {
    "duration": 83,
    "start_time": "2021-11-12T10:31:16.627Z"
   },
   {
    "duration": 93,
    "start_time": "2021-11-12T10:31:41.914Z"
   },
   {
    "duration": 6,
    "start_time": "2021-11-12T12:02:55.523Z"
   },
   {
    "duration": 313,
    "start_time": "2021-11-12T12:03:01.217Z"
   },
   {
    "duration": 1092,
    "start_time": "2021-11-12T12:03:05.675Z"
   },
   {
    "duration": 386,
    "start_time": "2021-11-12T12:03:06.769Z"
   },
   {
    "duration": 10,
    "start_time": "2021-11-12T12:03:07.157Z"
   },
   {
    "duration": 36,
    "start_time": "2021-11-12T12:03:07.169Z"
   },
   {
    "duration": 61,
    "start_time": "2021-11-12T12:03:07.207Z"
   },
   {
    "duration": 366,
    "start_time": "2021-11-12T12:03:07.270Z"
   },
   {
    "duration": 15,
    "start_time": "2021-11-12T12:03:07.637Z"
   },
   {
    "duration": 33,
    "start_time": "2021-11-12T12:03:07.654Z"
   },
   {
    "duration": 34,
    "start_time": "2021-11-12T12:03:07.689Z"
   },
   {
    "duration": 421,
    "start_time": "2021-11-12T12:03:07.724Z"
   },
   {
    "duration": 9,
    "start_time": "2021-11-12T12:03:08.147Z"
   },
   {
    "duration": 36,
    "start_time": "2021-11-12T12:03:08.158Z"
   },
   {
    "duration": 54,
    "start_time": "2021-11-12T12:03:08.196Z"
   },
   {
    "duration": 6,
    "start_time": "2021-11-12T12:03:08.252Z"
   },
   {
    "duration": 188,
    "start_time": "2021-11-12T12:03:08.260Z"
   },
   {
    "duration": 810,
    "start_time": "2021-11-12T12:03:08.450Z"
   },
   {
    "duration": 491,
    "start_time": "2021-11-12T12:03:08.771Z"
   },
   {
    "duration": 489,
    "start_time": "2021-11-12T12:03:08.774Z"
   },
   {
    "duration": 3,
    "start_time": "2021-11-12T12:19:00.286Z"
   },
   {
    "duration": 3,
    "start_time": "2021-11-12T12:21:52.876Z"
   },
   {
    "duration": 3,
    "start_time": "2021-11-12T12:39:30.040Z"
   },
   {
    "duration": 3,
    "start_time": "2021-11-12T12:42:03.969Z"
   },
   {
    "duration": 288,
    "start_time": "2021-11-12T12:46:02.936Z"
   },
   {
    "duration": 4,
    "start_time": "2021-11-12T12:46:07.799Z"
   },
   {
    "duration": 348,
    "start_time": "2021-11-12T12:46:07.807Z"
   },
   {
    "duration": 10,
    "start_time": "2021-11-12T12:46:08.157Z"
   },
   {
    "duration": 40,
    "start_time": "2021-11-12T12:46:08.169Z"
   },
   {
    "duration": 54,
    "start_time": "2021-11-12T12:46:08.211Z"
   },
   {
    "duration": 341,
    "start_time": "2021-11-12T12:46:08.267Z"
   },
   {
    "duration": 10,
    "start_time": "2021-11-12T12:46:08.610Z"
   },
   {
    "duration": 40,
    "start_time": "2021-11-12T12:46:08.621Z"
   },
   {
    "duration": 35,
    "start_time": "2021-11-12T12:46:08.662Z"
   },
   {
    "duration": 573,
    "start_time": "2021-11-12T12:46:08.700Z"
   },
   {
    "duration": 9,
    "start_time": "2021-11-12T12:46:09.275Z"
   },
   {
    "duration": 38,
    "start_time": "2021-11-12T12:46:09.286Z"
   },
   {
    "duration": 54,
    "start_time": "2021-11-12T12:46:09.325Z"
   },
   {
    "duration": 5,
    "start_time": "2021-11-12T12:46:09.381Z"
   },
   {
    "duration": 165,
    "start_time": "2021-11-12T12:46:09.388Z"
   },
   {
    "duration": 300,
    "start_time": "2021-11-12T12:46:09.644Z"
   },
   {
    "duration": -133,
    "start_time": "2021-11-12T12:46:10.079Z"
   },
   {
    "duration": -139,
    "start_time": "2021-11-12T12:46:10.086Z"
   },
   {
    "duration": -142,
    "start_time": "2021-11-12T12:46:10.090Z"
   },
   {
    "duration": -146,
    "start_time": "2021-11-12T12:46:10.096Z"
   },
   {
    "duration": 4,
    "start_time": "2021-11-12T12:52:48.976Z"
   },
   {
    "duration": 4,
    "start_time": "2021-11-12T12:52:49.314Z"
   },
   {
    "duration": 6,
    "start_time": "2021-11-12T12:52:49.320Z"
   },
   {
    "duration": 283,
    "start_time": "2021-11-12T12:52:49.328Z"
   },
   {
    "duration": -256,
    "start_time": "2021-11-12T12:52:49.869Z"
   },
   {
    "duration": 287,
    "start_time": "2021-11-12T12:54:01.989Z"
   },
   {
    "duration": 6,
    "start_time": "2021-11-12T12:56:55.009Z"
   },
   {
    "duration": 117,
    "start_time": "2021-11-12T12:56:58.929Z"
   },
   {
    "duration": 5,
    "start_time": "2021-11-12T12:57:33.125Z"
   },
   {
    "duration": 49,
    "start_time": "2021-11-12T12:57:35.500Z"
   },
   {
    "duration": 5,
    "start_time": "2021-11-12T12:57:51.710Z"
   },
   {
    "duration": 57,
    "start_time": "2021-11-12T12:57:55.288Z"
   },
   {
    "duration": 5,
    "start_time": "2021-11-12T12:58:04.149Z"
   },
   {
    "duration": 30,
    "start_time": "2021-11-12T12:58:07.066Z"
   },
   {
    "duration": 118,
    "start_time": "2021-11-12T12:59:13.728Z"
   },
   {
    "duration": 207,
    "start_time": "2021-11-13T09:39:43.435Z"
   },
   {
    "duration": 4,
    "start_time": "2021-11-13T09:39:50.937Z"
   },
   {
    "duration": 227,
    "start_time": "2021-11-13T09:39:52.922Z"
   },
   {
    "duration": 952,
    "start_time": "2021-11-13T09:40:04.046Z"
   },
   {
    "duration": 384,
    "start_time": "2021-11-13T09:40:05.000Z"
   },
   {
    "duration": 10,
    "start_time": "2021-11-13T09:40:05.386Z"
   },
   {
    "duration": 36,
    "start_time": "2021-11-13T09:40:05.397Z"
   },
   {
    "duration": 35,
    "start_time": "2021-11-13T09:40:05.435Z"
   },
   {
    "duration": 628,
    "start_time": "2021-11-13T09:40:05.492Z"
   },
   {
    "duration": 9,
    "start_time": "2021-11-13T09:40:06.121Z"
   },
   {
    "duration": 31,
    "start_time": "2021-11-13T09:40:06.132Z"
   },
   {
    "duration": 50,
    "start_time": "2021-11-13T09:40:06.165Z"
   },
   {
    "duration": 1358,
    "start_time": "2021-11-13T09:40:06.217Z"
   },
   {
    "duration": 21,
    "start_time": "2021-11-13T09:40:07.577Z"
   },
   {
    "duration": 40,
    "start_time": "2021-11-13T09:40:07.600Z"
   },
   {
    "duration": 38,
    "start_time": "2021-11-13T09:40:07.642Z"
   },
   {
    "duration": 11,
    "start_time": "2021-11-13T09:40:07.681Z"
   },
   {
    "duration": 2255,
    "start_time": "2021-11-13T09:40:07.693Z"
   },
   {
    "duration": 394,
    "start_time": "2021-11-13T09:40:32.698Z"
   },
   {
    "duration": 176,
    "start_time": "2021-11-13T09:48:40.221Z"
   },
   {
    "duration": 173,
    "start_time": "2021-11-13T09:58:02.918Z"
   },
   {
    "duration": 285,
    "start_time": "2021-11-13T09:58:23.049Z"
   },
   {
    "duration": 4,
    "start_time": "2021-11-13T09:59:44.395Z"
   },
   {
    "duration": 452,
    "start_time": "2021-11-13T09:59:47.440Z"
   },
   {
    "duration": 285,
    "start_time": "2021-11-13T09:59:57.296Z"
   },
   {
    "duration": 307,
    "start_time": "2021-11-13T10:04:33.251Z"
   },
   {
    "duration": 4,
    "start_time": "2021-11-13T10:05:34.437Z"
   },
   {
    "duration": 487,
    "start_time": "2021-11-13T10:05:37.706Z"
   },
   {
    "duration": 304,
    "start_time": "2021-11-13T10:05:43.764Z"
   },
   {
    "duration": 4,
    "start_time": "2021-11-13T10:05:51.614Z"
   },
   {
    "duration": 476,
    "start_time": "2021-11-13T10:05:53.337Z"
   },
   {
    "duration": 5,
    "start_time": "2021-11-13T10:09:26.260Z"
   },
   {
    "duration": 383,
    "start_time": "2021-11-13T10:09:27.616Z"
   },
   {
    "duration": 477,
    "start_time": "2021-11-13T10:09:37.199Z"
   },
   {
    "duration": 4,
    "start_time": "2021-11-13T10:10:11.700Z"
   },
   {
    "duration": 428,
    "start_time": "2021-11-13T10:10:13.064Z"
   },
   {
    "duration": 453,
    "start_time": "2021-11-13T10:10:19.953Z"
   },
   {
    "duration": 4,
    "start_time": "2021-11-13T10:10:48.690Z"
   },
   {
    "duration": 3259,
    "start_time": "2021-11-13T10:10:58.340Z"
   },
   {
    "duration": 8949,
    "start_time": "2021-11-13T10:11:21.326Z"
   },
   {
    "duration": 3352,
    "start_time": "2021-11-13T10:17:22.989Z"
   },
   {
    "duration": 8938,
    "start_time": "2021-11-13T10:17:46.450Z"
   },
   {
    "duration": 4,
    "start_time": "2021-11-13T10:21:09.581Z"
   },
   {
    "duration": 8848,
    "start_time": "2021-11-13T10:21:11.597Z"
   },
   {
    "duration": 347,
    "start_time": "2021-11-13T13:29:07.577Z"
   },
   {
    "duration": 981,
    "start_time": "2021-11-13T13:29:21.402Z"
   },
   {
    "duration": 800,
    "start_time": "2021-11-13T13:29:22.385Z"
   },
   {
    "duration": 9,
    "start_time": "2021-11-13T13:29:23.187Z"
   },
   {
    "duration": 34,
    "start_time": "2021-11-13T13:29:23.198Z"
   },
   {
    "duration": 58,
    "start_time": "2021-11-13T13:29:23.234Z"
   },
   {
    "duration": 379,
    "start_time": "2021-11-13T13:29:23.294Z"
   },
   {
    "duration": 10,
    "start_time": "2021-11-13T13:29:23.675Z"
   },
   {
    "duration": 33,
    "start_time": "2021-11-13T13:29:23.686Z"
   },
   {
    "duration": 57,
    "start_time": "2021-11-13T13:29:23.722Z"
   },
   {
    "duration": 405,
    "start_time": "2021-11-13T13:29:23.781Z"
   },
   {
    "duration": 9,
    "start_time": "2021-11-13T13:29:24.188Z"
   },
   {
    "duration": 33,
    "start_time": "2021-11-13T13:29:24.199Z"
   },
   {
    "duration": 55,
    "start_time": "2021-11-13T13:29:24.234Z"
   },
   {
    "duration": 4,
    "start_time": "2021-11-13T13:29:24.291Z"
   },
   {
    "duration": 470,
    "start_time": "2021-11-13T13:29:24.296Z"
   },
   {
    "duration": 308,
    "start_time": "2021-11-13T13:29:24.768Z"
   },
   {
    "duration": -1334,
    "start_time": "2021-11-13T13:29:26.412Z"
   },
   {
    "duration": -1341,
    "start_time": "2021-11-13T13:29:26.421Z"
   },
   {
    "duration": -1351,
    "start_time": "2021-11-13T13:29:26.432Z"
   },
   {
    "duration": -1360,
    "start_time": "2021-11-13T13:29:26.443Z"
   },
   {
    "duration": -1377,
    "start_time": "2021-11-13T13:29:26.461Z"
   },
   {
    "duration": 263,
    "start_time": "2021-11-13T13:29:34.349Z"
   },
   {
    "duration": 264,
    "start_time": "2021-11-13T13:30:19.504Z"
   },
   {
    "duration": 7188,
    "start_time": "2021-11-13T13:31:06.516Z"
   },
   {
    "duration": 4,
    "start_time": "2021-11-13T13:31:28.048Z"
   },
   {
    "duration": 8,
    "start_time": "2021-11-13T13:31:40.432Z"
   },
   {
    "duration": 251,
    "start_time": "2021-11-13T13:33:38.127Z"
   },
   {
    "duration": 4,
    "start_time": "2021-11-13T13:33:44.439Z"
   },
   {
    "duration": 4,
    "start_time": "2021-11-13T13:33:47.108Z"
   },
   {
    "duration": 11,
    "start_time": "2021-11-13T13:34:19.138Z"
   },
   {
    "duration": 10,
    "start_time": "2021-11-13T13:34:25.941Z"
   },
   {
    "duration": 474,
    "start_time": "2021-11-13T14:06:47.290Z"
   },
   {
    "duration": 4,
    "start_time": "2021-11-13T14:17:43.095Z"
   },
   {
    "duration": 89,
    "start_time": "2021-11-13T14:17:47.146Z"
   },
   {
    "duration": 9410,
    "start_time": "2021-11-13T14:18:04.235Z"
   },
   {
    "duration": 3,
    "start_time": "2021-11-13T14:38:24.362Z"
   },
   {
    "duration": 3495,
    "start_time": "2021-11-13T14:40:05.302Z"
   },
   {
    "duration": 4,
    "start_time": "2021-11-13T14:41:25.023Z"
   },
   {
    "duration": 9471,
    "start_time": "2021-11-13T14:42:36.729Z"
   },
   {
    "duration": 4012,
    "start_time": "2021-11-13T14:58:27.827Z"
   },
   {
    "duration": 9413,
    "start_time": "2021-11-13T14:59:06.051Z"
   },
   {
    "duration": 3,
    "start_time": "2021-11-13T15:02:10.572Z"
   },
   {
    "duration": 9321,
    "start_time": "2021-11-13T15:02:13.790Z"
   },
   {
    "duration": 9143,
    "start_time": "2021-11-13T15:40:22.862Z"
   },
   {
    "duration": 3,
    "start_time": "2021-11-13T15:54:45.091Z"
   },
   {
    "duration": 9209,
    "start_time": "2021-11-13T15:54:47.136Z"
   },
   {
    "duration": 815,
    "start_time": "2021-11-13T16:10:07.930Z"
   },
   {
    "duration": 326,
    "start_time": "2021-11-13T16:10:32.524Z"
   },
   {
    "duration": 3,
    "start_time": "2021-11-13T16:12:31.934Z"
   },
   {
    "duration": 5268,
    "start_time": "2021-11-13T16:12:35.206Z"
   },
   {
    "duration": 3,
    "start_time": "2021-11-13T16:20:58.510Z"
   },
   {
    "duration": 249,
    "start_time": "2021-11-13T16:20:58.537Z"
   },
   {
    "duration": 9,
    "start_time": "2021-11-13T16:20:58.788Z"
   },
   {
    "duration": 33,
    "start_time": "2021-11-13T16:20:58.799Z"
   },
   {
    "duration": 53,
    "start_time": "2021-11-13T16:20:58.834Z"
   },
   {
    "duration": 342,
    "start_time": "2021-11-13T16:20:58.889Z"
   },
   {
    "duration": 10,
    "start_time": "2021-11-13T16:20:59.233Z"
   },
   {
    "duration": 42,
    "start_time": "2021-11-13T16:20:59.244Z"
   },
   {
    "duration": 39,
    "start_time": "2021-11-13T16:20:59.287Z"
   },
   {
    "duration": 350,
    "start_time": "2021-11-13T16:20:59.328Z"
   },
   {
    "duration": 10,
    "start_time": "2021-11-13T16:20:59.680Z"
   },
   {
    "duration": 36,
    "start_time": "2021-11-13T16:20:59.692Z"
   },
   {
    "duration": 61,
    "start_time": "2021-11-13T16:20:59.729Z"
   },
   {
    "duration": 4,
    "start_time": "2021-11-13T16:20:59.792Z"
   },
   {
    "duration": 867,
    "start_time": "2021-11-13T16:20:59.797Z"
   },
   {
    "duration": -9219,
    "start_time": "2021-11-13T16:21:09.885Z"
   },
   {
    "duration": -9232,
    "start_time": "2021-11-13T16:21:09.900Z"
   },
   {
    "duration": -9235,
    "start_time": "2021-11-13T16:21:09.905Z"
   },
   {
    "duration": -9240,
    "start_time": "2021-11-13T16:21:09.911Z"
   },
   {
    "duration": -9293,
    "start_time": "2021-11-13T16:21:09.965Z"
   },
   {
    "duration": 8,
    "start_time": "2021-11-13T19:13:39.516Z"
   },
   {
    "duration": 358,
    "start_time": "2021-11-13T19:13:46.324Z"
   },
   {
    "duration": 1361,
    "start_time": "2021-11-13T19:13:56.227Z"
   },
   {
    "duration": 462,
    "start_time": "2021-11-13T19:13:57.591Z"
   },
   {
    "duration": 15,
    "start_time": "2021-11-13T19:13:58.057Z"
   },
   {
    "duration": 76,
    "start_time": "2021-11-13T19:13:58.074Z"
   },
   {
    "duration": 67,
    "start_time": "2021-11-13T19:13:58.152Z"
   },
   {
    "duration": 384,
    "start_time": "2021-11-13T19:13:58.230Z"
   },
   {
    "duration": 25,
    "start_time": "2021-11-13T19:13:58.617Z"
   },
   {
    "duration": 49,
    "start_time": "2021-11-13T19:13:58.646Z"
   },
   {
    "duration": 95,
    "start_time": "2021-11-13T19:13:58.698Z"
   },
   {
    "duration": 490,
    "start_time": "2021-11-13T19:13:58.796Z"
   },
   {
    "duration": 14,
    "start_time": "2021-11-13T19:13:59.289Z"
   },
   {
    "duration": 77,
    "start_time": "2021-11-13T19:13:59.305Z"
   },
   {
    "duration": 84,
    "start_time": "2021-11-13T19:13:59.384Z"
   },
   {
    "duration": 7,
    "start_time": "2021-11-13T19:13:59.470Z"
   },
   {
    "duration": 906,
    "start_time": "2021-11-13T19:13:59.479Z"
   },
   {
    "duration": -2049,
    "start_time": "2021-11-13T19:14:02.438Z"
   },
   {
    "duration": -2053,
    "start_time": "2021-11-13T19:14:02.443Z"
   },
   {
    "duration": -2055,
    "start_time": "2021-11-13T19:14:02.447Z"
   },
   {
    "duration": -2058,
    "start_time": "2021-11-13T19:14:02.452Z"
   },
   {
    "duration": -2066,
    "start_time": "2021-11-13T19:14:02.462Z"
   },
   {
    "duration": 7,
    "start_time": "2021-11-14T18:46:40.472Z"
   },
   {
    "duration": 1547,
    "start_time": "2021-11-14T18:46:47.129Z"
   },
   {
    "duration": 504,
    "start_time": "2021-11-14T18:46:48.678Z"
   },
   {
    "duration": 17,
    "start_time": "2021-11-14T18:46:49.186Z"
   },
   {
    "duration": 65,
    "start_time": "2021-11-14T18:46:49.205Z"
   },
   {
    "duration": 85,
    "start_time": "2021-11-14T18:46:49.272Z"
   },
   {
    "duration": 416,
    "start_time": "2021-11-14T18:46:49.360Z"
   },
   {
    "duration": 13,
    "start_time": "2021-11-14T18:46:49.779Z"
   },
   {
    "duration": 67,
    "start_time": "2021-11-14T18:46:49.796Z"
   },
   {
    "duration": 79,
    "start_time": "2021-11-14T18:46:49.865Z"
   },
   {
    "duration": 397,
    "start_time": "2021-11-14T18:46:49.946Z"
   },
   {
    "duration": 14,
    "start_time": "2021-11-14T18:46:50.345Z"
   },
   {
    "duration": 77,
    "start_time": "2021-11-14T18:46:50.361Z"
   },
   {
    "duration": 81,
    "start_time": "2021-11-14T18:46:50.441Z"
   },
   {
    "duration": 6,
    "start_time": "2021-11-14T18:46:50.525Z"
   },
   {
    "duration": 589,
    "start_time": "2021-11-14T18:46:50.535Z"
   },
   {
    "duration": 5,
    "start_time": "2021-11-14T18:46:51.126Z"
   },
   {
    "duration": 9,
    "start_time": "2021-11-14T18:46:51.133Z"
   },
   {
    "duration": 23,
    "start_time": "2021-11-14T18:46:51.145Z"
   },
   {
    "duration": 4,
    "start_time": "2021-11-14T18:46:51.171Z"
   },
   {
    "duration": 9467,
    "start_time": "2021-11-14T18:46:51.177Z"
   },
   {
    "duration": 4,
    "start_time": "2021-11-14T18:49:59.380Z"
   },
   {
    "duration": 8838,
    "start_time": "2021-11-14T18:50:03.088Z"
   },
   {
    "duration": 4,
    "start_time": "2021-11-14T18:50:54.357Z"
   },
   {
    "duration": 8477,
    "start_time": "2021-11-14T18:50:57.418Z"
   },
   {
    "duration": 8342,
    "start_time": "2021-11-14T18:51:35.687Z"
   },
   {
    "duration": 4,
    "start_time": "2021-11-14T18:53:48.566Z"
   },
   {
    "duration": 5,
    "start_time": "2021-11-14T18:53:50.298Z"
   },
   {
    "duration": 17139,
    "start_time": "2021-11-14T18:57:08.117Z"
   },
   {
    "duration": 16462,
    "start_time": "2021-11-14T19:09:32.256Z"
   },
   {
    "duration": 6,
    "start_time": "2021-11-14T19:11:23.851Z"
   },
   {
    "duration": 6,
    "start_time": "2021-11-14T19:12:48.151Z"
   },
   {
    "duration": 5,
    "start_time": "2021-11-14T19:16:20.748Z"
   },
   {
    "duration": 17232,
    "start_time": "2021-11-14T19:16:23.604Z"
   },
   {
    "duration": 5,
    "start_time": "2021-11-14T19:17:03.654Z"
   },
   {
    "duration": 16168,
    "start_time": "2021-11-14T19:17:13.084Z"
   },
   {
    "duration": 5,
    "start_time": "2021-11-14T19:18:29.975Z"
   },
   {
    "duration": 18210,
    "start_time": "2021-11-14T19:18:44.114Z"
   },
   {
    "duration": 4,
    "start_time": "2021-11-14T19:20:24.399Z"
   },
   {
    "duration": 14173,
    "start_time": "2021-11-14T19:20:28.501Z"
   },
   {
    "duration": 4,
    "start_time": "2021-11-14T19:24:51.748Z"
   },
   {
    "duration": 15575,
    "start_time": "2021-11-14T19:24:55.350Z"
   },
   {
    "duration": 7,
    "start_time": "2021-11-14T19:30:36.247Z"
   },
   {
    "duration": 623,
    "start_time": "2021-11-14T19:30:40.103Z"
   },
   {
    "duration": 636,
    "start_time": "2021-11-14T19:31:04.441Z"
   },
   {
    "duration": 7,
    "start_time": "2021-11-14T19:31:46.308Z"
   },
   {
    "duration": 470,
    "start_time": "2021-11-14T19:31:48.255Z"
   },
   {
    "duration": 529,
    "start_time": "2021-11-14T19:32:49.575Z"
   },
   {
    "duration": 6,
    "start_time": "2021-11-14T19:33:26.306Z"
   },
   {
    "duration": 611,
    "start_time": "2021-11-14T19:33:30.212Z"
   },
   {
    "duration": 14334,
    "start_time": "2021-11-14T19:33:37.658Z"
   },
   {
    "duration": 1374,
    "start_time": "2021-11-14T19:44:27.736Z"
   },
   {
    "duration": 554,
    "start_time": "2021-11-14T19:44:29.113Z"
   },
   {
    "duration": 15,
    "start_time": "2021-11-14T19:44:38.766Z"
   },
   {
    "duration": 54,
    "start_time": "2021-11-14T19:44:40.526Z"
   },
   {
    "duration": 430,
    "start_time": "2021-11-14T19:44:51.547Z"
   },
   {
    "duration": 5,
    "start_time": "2021-11-14T19:44:57.357Z"
   },
   {
    "duration": 406,
    "start_time": "2021-11-14T19:44:58.043Z"
   },
   {
    "duration": 16,
    "start_time": "2021-11-14T19:45:05.934Z"
   },
   {
    "duration": 47,
    "start_time": "2021-11-14T19:45:05.953Z"
   },
   {
    "duration": 69,
    "start_time": "2021-11-14T19:45:08.141Z"
   },
   {
    "duration": 395,
    "start_time": "2021-11-14T19:45:11.175Z"
   },
   {
    "duration": 15,
    "start_time": "2021-11-14T19:45:16.101Z"
   },
   {
    "duration": 52,
    "start_time": "2021-11-14T19:45:17.407Z"
   },
   {
    "duration": 68,
    "start_time": "2021-11-14T19:45:18.527Z"
   },
   {
    "duration": 503,
    "start_time": "2021-11-14T19:45:19.255Z"
   },
   {
    "duration": 14,
    "start_time": "2021-11-14T19:45:19.760Z"
   },
   {
    "duration": 57,
    "start_time": "2021-11-14T19:45:21.033Z"
   },
   {
    "duration": 83,
    "start_time": "2021-11-14T19:45:21.889Z"
   },
   {
    "duration": 9,
    "start_time": "2021-11-14T19:45:36.884Z"
   },
   {
    "duration": 656,
    "start_time": "2021-11-14T19:45:44.111Z"
   },
   {
    "duration": 7,
    "start_time": "2021-11-14T19:46:17.413Z"
   },
   {
    "duration": 417,
    "start_time": "2021-11-14T19:46:19.841Z"
   },
   {
    "duration": 8,
    "start_time": "2021-11-14T19:48:02.543Z"
   },
   {
    "duration": 517,
    "start_time": "2021-11-14T19:48:12.208Z"
   },
   {
    "duration": 502,
    "start_time": "2021-11-14T19:51:34.673Z"
   },
   {
    "duration": 598,
    "start_time": "2021-11-14T19:51:59.323Z"
   },
   {
    "duration": 4,
    "start_time": "2021-11-14T19:53:57.012Z"
   },
   {
    "duration": 789,
    "start_time": "2021-11-14T19:53:58.240Z"
   },
   {
    "duration": 4,
    "start_time": "2021-11-14T19:54:22.187Z"
   },
   {
    "duration": 849,
    "start_time": "2021-11-14T19:55:00.885Z"
   },
   {
    "duration": 5,
    "start_time": "2021-11-14T19:55:16.225Z"
   },
   {
    "duration": 5,
    "start_time": "2021-11-14T19:55:19.721Z"
   },
   {
    "duration": 71,
    "start_time": "2021-11-14T19:55:25.159Z"
   },
   {
    "duration": 5,
    "start_time": "2021-11-14T19:58:07.364Z"
   },
   {
    "duration": 73,
    "start_time": "2021-11-14T19:58:09.681Z"
   },
   {
    "duration": 5,
    "start_time": "2021-11-14T19:59:09.902Z"
   },
   {
    "duration": 85,
    "start_time": "2021-11-14T19:59:11.777Z"
   },
   {
    "duration": 4,
    "start_time": "2021-11-14T19:59:55.000Z"
   },
   {
    "duration": 79,
    "start_time": "2021-11-14T20:00:00.808Z"
   },
   {
    "duration": 5,
    "start_time": "2021-11-14T20:01:22.925Z"
   },
   {
    "duration": 71,
    "start_time": "2021-11-14T20:01:25.504Z"
   },
   {
    "duration": 6,
    "start_time": "2021-11-14T20:02:55.316Z"
   },
   {
    "duration": 527,
    "start_time": "2021-11-14T20:02:56.998Z"
   },
   {
    "duration": 527,
    "start_time": "2021-11-14T20:03:06.583Z"
   },
   {
    "duration": 525,
    "start_time": "2021-11-14T20:04:45.988Z"
   },
   {
    "duration": 5,
    "start_time": "2021-11-14T20:05:16.956Z"
   },
   {
    "duration": 527,
    "start_time": "2021-11-14T20:05:18.669Z"
   },
   {
    "duration": 7,
    "start_time": "2021-11-14T20:05:43.817Z"
   },
   {
    "duration": 448,
    "start_time": "2021-11-14T20:05:45.882Z"
   },
   {
    "duration": 5,
    "start_time": "2021-11-14T20:05:51.594Z"
   },
   {
    "duration": 94,
    "start_time": "2021-11-14T20:05:53.295Z"
   },
   {
    "duration": 169,
    "start_time": "2021-11-14T20:06:08.621Z"
   },
   {
    "duration": 5,
    "start_time": "2021-11-14T20:06:13.612Z"
   },
   {
    "duration": 1155,
    "start_time": "2021-11-14T20:06:15.563Z"
   },
   {
    "duration": 5,
    "start_time": "2021-11-14T20:06:32.545Z"
   },
   {
    "duration": 126,
    "start_time": "2021-11-14T20:06:35.419Z"
   },
   {
    "duration": 4,
    "start_time": "2021-11-14T20:07:18.905Z"
   },
   {
    "duration": 96,
    "start_time": "2021-11-14T20:07:20.538Z"
   },
   {
    "duration": 5,
    "start_time": "2021-11-14T20:07:36.059Z"
   },
   {
    "duration": 89,
    "start_time": "2021-11-14T20:07:38.295Z"
   },
   {
    "duration": 142,
    "start_time": "2021-11-14T20:09:13.995Z"
   },
   {
    "duration": 129,
    "start_time": "2021-11-14T20:10:28.441Z"
   },
   {
    "duration": 103,
    "start_time": "2021-11-14T20:10:37.069Z"
   },
   {
    "duration": 87,
    "start_time": "2021-11-14T20:10:45.264Z"
   },
   {
    "duration": 89,
    "start_time": "2021-11-14T20:11:28.203Z"
   },
   {
    "duration": 5,
    "start_time": "2021-11-14T20:11:34.998Z"
   },
   {
    "duration": 63,
    "start_time": "2021-11-14T20:11:36.627Z"
   },
   {
    "duration": 69,
    "start_time": "2021-11-14T20:12:04.570Z"
   },
   {
    "duration": 539,
    "start_time": "2021-11-14T20:13:18.200Z"
   },
   {
    "duration": 66,
    "start_time": "2021-11-14T20:13:26.280Z"
   },
   {
    "duration": 653,
    "start_time": "2021-11-14T20:14:08.750Z"
   },
   {
    "duration": 64,
    "start_time": "2021-11-14T20:14:16.417Z"
   },
   {
    "duration": 74,
    "start_time": "2021-11-14T20:14:49.385Z"
   },
   {
    "duration": 6,
    "start_time": "2021-11-14T20:16:24.495Z"
   },
   {
    "duration": 675,
    "start_time": "2021-11-14T20:16:26.133Z"
   },
   {
    "duration": 7,
    "start_time": "2021-11-14T20:16:52.919Z"
   },
   {
    "duration": 7,
    "start_time": "2021-11-14T20:16:55.572Z"
   },
   {
    "duration": 642,
    "start_time": "2021-11-14T20:16:57.483Z"
   },
   {
    "duration": 587,
    "start_time": "2021-11-14T20:17:19.537Z"
   },
   {
    "duration": 588,
    "start_time": "2021-11-14T20:17:30.737Z"
   },
   {
    "duration": 7,
    "start_time": "2021-11-14T20:17:39.412Z"
   },
   {
    "duration": 587,
    "start_time": "2021-11-14T20:17:41.036Z"
   },
   {
    "duration": 345,
    "start_time": "2021-11-14T20:18:03.666Z"
   },
   {
    "duration": 511,
    "start_time": "2021-11-14T20:18:05.714Z"
   },
   {
    "duration": 7,
    "start_time": "2021-11-14T20:18:18.165Z"
   },
   {
    "duration": 532,
    "start_time": "2021-11-14T20:18:20.599Z"
   },
   {
    "duration": 829,
    "start_time": "2021-11-14T20:19:21.514Z"
   },
   {
    "duration": 547,
    "start_time": "2021-11-14T20:20:34.080Z"
   },
   {
    "duration": 619,
    "start_time": "2021-11-14T20:20:46.504Z"
   },
   {
    "duration": 852,
    "start_time": "2021-11-14T20:21:53.180Z"
   },
   {
    "duration": 1075,
    "start_time": "2021-11-14T20:22:38.713Z"
   },
   {
    "duration": 813,
    "start_time": "2021-11-14T20:22:53.195Z"
   },
   {
    "duration": 7,
    "start_time": "2021-11-14T20:23:20.545Z"
   },
   {
    "duration": 495,
    "start_time": "2021-11-14T20:23:24.030Z"
   },
   {
    "duration": 63,
    "start_time": "2021-11-14T20:23:29.266Z"
   },
   {
    "duration": 54,
    "start_time": "2021-11-14T20:23:43.823Z"
   },
   {
    "duration": 15552,
    "start_time": "2021-11-14T20:24:03.148Z"
   },
   {
    "duration": 328,
    "start_time": "2021-11-15T09:52:27.870Z"
   },
   {
    "duration": 1084,
    "start_time": "2021-11-15T10:10:33.109Z"
   },
   {
    "duration": 1186,
    "start_time": "2021-11-15T10:17:46.578Z"
   },
   {
    "duration": 433,
    "start_time": "2021-11-15T10:17:47.766Z"
   },
   {
    "duration": 15,
    "start_time": "2021-11-15T10:17:48.201Z"
   },
   {
    "duration": 56,
    "start_time": "2021-11-15T10:17:48.219Z"
   },
   {
    "duration": 50,
    "start_time": "2021-11-15T10:17:48.277Z"
   },
   {
    "duration": 422,
    "start_time": "2021-11-15T10:17:48.329Z"
   },
   {
    "duration": 14,
    "start_time": "2021-11-15T10:17:48.753Z"
   },
   {
    "duration": 42,
    "start_time": "2021-11-15T10:17:48.769Z"
   },
   {
    "duration": 67,
    "start_time": "2021-11-15T10:17:48.814Z"
   },
   {
    "duration": 440,
    "start_time": "2021-11-15T10:17:48.883Z"
   },
   {
    "duration": 10,
    "start_time": "2021-11-15T10:17:49.324Z"
   },
   {
    "duration": 41,
    "start_time": "2021-11-15T10:17:49.336Z"
   },
   {
    "duration": 35,
    "start_time": "2021-11-15T10:17:49.379Z"
   },
   {
    "duration": 6,
    "start_time": "2021-11-15T10:17:49.416Z"
   },
   {
    "duration": 602,
    "start_time": "2021-11-15T10:17:49.444Z"
   },
   {
    "duration": 4,
    "start_time": "2021-11-15T10:17:50.047Z"
   },
   {
    "duration": 10,
    "start_time": "2021-11-15T10:17:50.052Z"
   },
   {
    "duration": 17,
    "start_time": "2021-11-15T10:17:50.064Z"
   },
   {
    "duration": 3,
    "start_time": "2021-11-15T10:17:50.083Z"
   },
   {
    "duration": 9744,
    "start_time": "2021-11-15T10:17:50.087Z"
   }
  ],
  "kernelspec": {
   "display_name": "Python 3",
   "language": "python",
   "name": "python3"
  },
  "language_info": {
   "codemirror_mode": {
    "name": "ipython",
    "version": 3
   },
   "file_extension": ".py",
   "mimetype": "text/x-python",
   "name": "python",
   "nbconvert_exporter": "python",
   "pygments_lexer": "ipython3",
   "version": "3.8.8"
  },
  "toc": {
   "base_numbering": 1,
   "nav_menu": {},
   "number_sections": true,
   "sideBar": true,
   "skip_h1_title": true,
   "title_cell": "Table of Contents",
   "title_sidebar": "Contents",
   "toc_cell": false,
   "toc_position": {
    "height": "calc(100% - 180px)",
    "left": "10px",
    "top": "150px",
    "width": "182.53px"
   },
   "toc_section_display": true,
   "toc_window_display": false
  }
 },
 "nbformat": 4,
 "nbformat_minor": 2
}
