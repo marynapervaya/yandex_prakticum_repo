{
 "cells": [
  {
   "cell_type": "markdown",
   "metadata": {
    "toc": true
   },
   "source": [
    "<h1>Table of Contents<span class=\"tocSkip\"></span></h1>\n",
    "<div class=\"toc\"><ul class=\"toc-item\"><li><span><a href=\"#Определение-перспективного-тарифа-для-телеком-компании\" data-toc-modified-id=\"Определение-перспективного-тарифа-для-телеком-компании-1\"><span class=\"toc-item-num\">1&nbsp;&nbsp;</span>Определение перспективного тарифа для телеком компании</a></span><ul class=\"toc-item\"><li><span><a href=\"#Шаг-1.-Откроем-файлы-с-данными-и-объедините-их-в-один-датафрейм.\" data-toc-modified-id=\"Шаг-1.-Откроем-файлы-с-данными-и-объедините-их-в-один-датафрейм.-1.1\"><span class=\"toc-item-num\">1.1&nbsp;&nbsp;</span>Шаг 1. Откроем файлы с данными и объедините их в один датафрейм.</a></span></li><li><span><a href=\"#Шаг-2.-Предобработка-данных\" data-toc-modified-id=\"Шаг-2.-Предобработка-данных-1.2\"><span class=\"toc-item-num\">1.2&nbsp;&nbsp;</span>Шаг 2. Предобработка данных</a></span><ul class=\"toc-item\"><li><span><a href=\"#Шаг-2.1.-Проверим-типы-данных\" data-toc-modified-id=\"Шаг-2.1.-Проверим-типы-данных-1.2.1\"><span class=\"toc-item-num\">1.2.1&nbsp;&nbsp;</span>Шаг 2.1. Проверим типы данных</a></span></li><li><span><a href=\"#Шаг-2.2.-Изучим-пропуски-в-датафрейме\" data-toc-modified-id=\"Шаг-2.2.-Изучим-пропуски-в-датафрейме-1.2.2\"><span class=\"toc-item-num\">1.2.2&nbsp;&nbsp;</span>Шаг 2.2. Изучим пропуски в датафрейме</a></span></li><li><span><a href=\"#Шаг-2.3.-Изучим-дубликаты\" data-toc-modified-id=\"Шаг-2.3.-Изучим-дубликаты-1.2.3\"><span class=\"toc-item-num\">1.2.3&nbsp;&nbsp;</span>Шаг 2.3. Изучим дубликаты</a></span></li><li><span><a href=\"#Шаг-2.4.-Исправим-ошибки-в-данных\" data-toc-modified-id=\"Шаг-2.4.-Исправим-ошибки-в-данных-1.2.4\"><span class=\"toc-item-num\">1.2.4&nbsp;&nbsp;</span>Шаг 2.4. Исправим ошибки в данных</a></span></li></ul></li><li><span><a href=\"#Шаг-3.-Проведем-исследовательский-анализ-данных\" data-toc-modified-id=\"Шаг-3.-Проведем-исследовательский-анализ-данных-1.3\"><span class=\"toc-item-num\">1.3&nbsp;&nbsp;</span>Шаг 3. Проведем исследовательский анализ данных</a></span></li><li><span><a href=\"#Шаг-4.-Проведем-анализ-данных\" data-toc-modified-id=\"Шаг-4.-Проведем-анализ-данных-1.4\"><span class=\"toc-item-num\">1.4&nbsp;&nbsp;</span>Шаг 4. Проведем анализ данных</a></span></li><li><span><a href=\"#Шаг-5.-Проверим-гипотезы\" data-toc-modified-id=\"Шаг-5.-Проверим-гипотезы-1.5\"><span class=\"toc-item-num\">1.5&nbsp;&nbsp;</span>Шаг 5. Проверим гипотезы</a></span></li><li><span><a href=\"#Шаг-6.-Общий-вывод\" data-toc-modified-id=\"Шаг-6.-Общий-вывод-1.6\"><span class=\"toc-item-num\">1.6&nbsp;&nbsp;</span>Шаг 6. Общий вывод</a></span></li></ul></li></ul></div>"
   ]
  },
  {
   "cell_type": "markdown",
   "metadata": {},
   "source": [
    "## Определение перспективного тарифа для телеком компании\n"
   ]
  },
  {
   "cell_type": "markdown",
   "metadata": {},
   "source": [
    "Описание проекта\n",
    "\n",
    "«Мегалайн» — федеральный оператор сотовой связи. Клиентам предлагают два тарифных плана: «Смарт» и «Ультра». Чтобы скорректировать рекламный бюджет, коммерческий департамент хочет понять, какой тариф приносит больше денег.\n",
    "В данной связи проведем предварительный анализ тарифов на небольшой выборке клиентов. Проведем анализ поведения клиентов и сделаем вывод — какой тариф лучше.\n",
    "\n",
    "Цель исследования:\n",
    "\n",
    "1)Описать поведение клиентов оператора, исходя из выборки. Сколько минут разговора, сколько сообщений и какой объём интернет-трафика требуется пользователям каждого тарифа в месяц. Посчитать среднее количество, дисперсию и стандартное отклонение. Построить гистограммы. Описать распределения.\n",
    "\n",
    "2)проверить гипотезы:средняя выручка пользователей тарифов «Ультра» и «Смарт» различаются;\n",
    "средняя выручка пользователи из Москвы отличается от выручки пользователей из других регионов.\n",
    "\n",
    "Ход исследования: \n",
    "Данные представлены в пяти файлах /datasets/calls.csv, /datasets/internet.csv, /datasets/messages.csv, /datasets/tariffs.csv, /datasets/users.csv. О качестве данных ничего неизвестно, поэтому перед проверкой гипотез понадобится обзор данных. Данные будут проверены на ошибки и будет оценено их влияние на исследование. Затем на этапе предобработки будет проведен поиск возможности исправления самых критичных ошибок данных.\n",
    "\n",
    "Таким образом, исследование пройдет в 5 шагов:\n",
    "\n",
    "Обзор данных;\n",
    "Предобработка данных;\n",
    "Описание поведения клиентов оператора;\n",
    "Проверка гипотез о различиях в выручке: пользователей разных тарифов и пользователей из Москвы и других регионов;\n",
    "Общий вывод.\n"
   ]
  },
  {
   "cell_type": "markdown",
   "metadata": {},
   "source": [
    "### Шаг 1. Откроем файлы с данными и объедините их в один датафрейм. "
   ]
  },
  {
   "cell_type": "code",
   "execution_count": 196,
   "metadata": {},
   "outputs": [],
   "source": [
    "import pandas as pd# импортируем библиотеку, стандартно используется имя pd\n",
    "\n",
    "import matplotlib.pyplot as plt# импортируем библиотеку, стандартно используется имя plt\n",
    "\n",
    "import seaborn as sns# импортируем библиотеку, стандартно используется имя sns\n",
    "\n",
    "import numpy as np# импортируем библиотеку, стандартно используется имя np\n",
    "\n",
    "import math\n",
    "\n"
   ]
  },
  {
   "cell_type": "code",
   "execution_count": 197,
   "metadata": {},
   "outputs": [
    {
     "data": {
      "text/html": [
       "<div>\n",
       "<style scoped>\n",
       "    .dataframe tbody tr th:only-of-type {\n",
       "        vertical-align: middle;\n",
       "    }\n",
       "\n",
       "    .dataframe tbody tr th {\n",
       "        vertical-align: top;\n",
       "    }\n",
       "\n",
       "    .dataframe thead th {\n",
       "        text-align: right;\n",
       "    }\n",
       "</style>\n",
       "<table border=\"1\" class=\"dataframe\">\n",
       "  <thead>\n",
       "    <tr style=\"text-align: right;\">\n",
       "      <th></th>\n",
       "      <th>id</th>\n",
       "      <th>call_date</th>\n",
       "      <th>duration</th>\n",
       "      <th>user_id</th>\n",
       "    </tr>\n",
       "  </thead>\n",
       "  <tbody>\n",
       "    <tr>\n",
       "      <td>202605</td>\n",
       "      <td>1499_218</td>\n",
       "      <td>2018-10-06</td>\n",
       "      <td>4.27</td>\n",
       "      <td>1499</td>\n",
       "    </tr>\n",
       "    <tr>\n",
       "      <td>202606</td>\n",
       "      <td>1499_219</td>\n",
       "      <td>2018-12-14</td>\n",
       "      <td>19.62</td>\n",
       "      <td>1499</td>\n",
       "    </tr>\n",
       "  </tbody>\n",
       "</table>\n",
       "</div>"
      ],
      "text/plain": [
       "              id   call_date  duration  user_id\n",
       "202605  1499_218  2018-10-06      4.27     1499\n",
       "202606  1499_219  2018-12-14     19.62     1499"
      ]
     },
     "metadata": {},
     "output_type": "display_data"
    }
   ],
   "source": [
    "data_calls = pd.read_csv('https://code.s3.yandex.net/datasets/calls.csv')# Чтение данных из файла\n",
    "display(data_calls.tail(2))#выводим последние строки на экран"
   ]
  },
  {
   "cell_type": "code",
   "execution_count": 198,
   "metadata": {},
   "outputs": [
    {
     "data": {
      "text/html": [
       "<div>\n",
       "<style scoped>\n",
       "    .dataframe tbody tr th:only-of-type {\n",
       "        vertical-align: middle;\n",
       "    }\n",
       "\n",
       "    .dataframe tbody tr th {\n",
       "        vertical-align: top;\n",
       "    }\n",
       "\n",
       "    .dataframe thead th {\n",
       "        text-align: right;\n",
       "    }\n",
       "</style>\n",
       "<table border=\"1\" class=\"dataframe\">\n",
       "  <thead>\n",
       "    <tr style=\"text-align: right;\">\n",
       "      <th></th>\n",
       "      <th>Unnamed: 0</th>\n",
       "      <th>id</th>\n",
       "      <th>mb_used</th>\n",
       "      <th>session_date</th>\n",
       "      <th>user_id</th>\n",
       "    </tr>\n",
       "  </thead>\n",
       "  <tbody>\n",
       "    <tr>\n",
       "      <td>149394</td>\n",
       "      <td>149394</td>\n",
       "      <td>1499_155</td>\n",
       "      <td>1,246.32</td>\n",
       "      <td>2018-11-26</td>\n",
       "      <td>1499</td>\n",
       "    </tr>\n",
       "    <tr>\n",
       "      <td>149395</td>\n",
       "      <td>149395</td>\n",
       "      <td>1499_156</td>\n",
       "      <td>544.37</td>\n",
       "      <td>2018-10-26</td>\n",
       "      <td>1499</td>\n",
       "    </tr>\n",
       "  </tbody>\n",
       "</table>\n",
       "</div>"
      ],
      "text/plain": [
       "        Unnamed: 0        id  mb_used session_date  user_id\n",
       "149394      149394  1499_155 1,246.32   2018-11-26     1499\n",
       "149395      149395  1499_156   544.37   2018-10-26     1499"
      ]
     },
     "metadata": {},
     "output_type": "display_data"
    }
   ],
   "source": [
    "data_internet = pd.read_csv('https://code.s3.yandex.net/datasets/internet.csv')# Чтение данных из файла\n",
    "display(data_internet.tail(2))#выводим последние строки на экран"
   ]
  },
  {
   "cell_type": "code",
   "execution_count": 199,
   "metadata": {},
   "outputs": [
    {
     "data": {
      "text/html": [
       "<div>\n",
       "<style scoped>\n",
       "    .dataframe tbody tr th:only-of-type {\n",
       "        vertical-align: middle;\n",
       "    }\n",
       "\n",
       "    .dataframe tbody tr th {\n",
       "        vertical-align: top;\n",
       "    }\n",
       "\n",
       "    .dataframe thead th {\n",
       "        text-align: right;\n",
       "    }\n",
       "</style>\n",
       "<table border=\"1\" class=\"dataframe\">\n",
       "  <thead>\n",
       "    <tr style=\"text-align: right;\">\n",
       "      <th></th>\n",
       "      <th>id</th>\n",
       "      <th>message_date</th>\n",
       "      <th>user_id</th>\n",
       "    </tr>\n",
       "  </thead>\n",
       "  <tbody>\n",
       "    <tr>\n",
       "      <td>123034</td>\n",
       "      <td>1499_182</td>\n",
       "      <td>2018-11-15</td>\n",
       "      <td>1499</td>\n",
       "    </tr>\n",
       "    <tr>\n",
       "      <td>123035</td>\n",
       "      <td>1499_183</td>\n",
       "      <td>2018-11-16</td>\n",
       "      <td>1499</td>\n",
       "    </tr>\n",
       "  </tbody>\n",
       "</table>\n",
       "</div>"
      ],
      "text/plain": [
       "              id message_date  user_id\n",
       "123034  1499_182   2018-11-15     1499\n",
       "123035  1499_183   2018-11-16     1499"
      ]
     },
     "metadata": {},
     "output_type": "display_data"
    }
   ],
   "source": [
    "data_messages = pd.read_csv('https://code.s3.yandex.net/datasets/messages.csv')# Чтение данных из файла\n",
    "display(data_messages.tail(2))#выводим последние строки на экран"
   ]
  },
  {
   "cell_type": "code",
   "execution_count": 200,
   "metadata": {
    "scrolled": true
   },
   "outputs": [
    {
     "data": {
      "text/html": [
       "<div>\n",
       "<style scoped>\n",
       "    .dataframe tbody tr th:only-of-type {\n",
       "        vertical-align: middle;\n",
       "    }\n",
       "\n",
       "    .dataframe tbody tr th {\n",
       "        vertical-align: top;\n",
       "    }\n",
       "\n",
       "    .dataframe thead th {\n",
       "        text-align: right;\n",
       "    }\n",
       "</style>\n",
       "<table border=\"1\" class=\"dataframe\">\n",
       "  <thead>\n",
       "    <tr style=\"text-align: right;\">\n",
       "      <th></th>\n",
       "      <th>messages_included</th>\n",
       "      <th>mb_per_month_included</th>\n",
       "      <th>minutes_included</th>\n",
       "      <th>rub_monthly_fee</th>\n",
       "      <th>rub_per_gb</th>\n",
       "      <th>rub_per_message</th>\n",
       "      <th>rub_per_minute</th>\n",
       "      <th>tariff_name</th>\n",
       "    </tr>\n",
       "  </thead>\n",
       "  <tbody>\n",
       "    <tr>\n",
       "      <td>0</td>\n",
       "      <td>50</td>\n",
       "      <td>15360</td>\n",
       "      <td>500</td>\n",
       "      <td>550</td>\n",
       "      <td>200</td>\n",
       "      <td>3</td>\n",
       "      <td>3</td>\n",
       "      <td>smart</td>\n",
       "    </tr>\n",
       "    <tr>\n",
       "      <td>1</td>\n",
       "      <td>1000</td>\n",
       "      <td>30720</td>\n",
       "      <td>3000</td>\n",
       "      <td>1950</td>\n",
       "      <td>150</td>\n",
       "      <td>1</td>\n",
       "      <td>1</td>\n",
       "      <td>ultra</td>\n",
       "    </tr>\n",
       "  </tbody>\n",
       "</table>\n",
       "</div>"
      ],
      "text/plain": [
       "   messages_included  mb_per_month_included  minutes_included  \\\n",
       "0                 50                  15360               500   \n",
       "1               1000                  30720              3000   \n",
       "\n",
       "   rub_monthly_fee  rub_per_gb  rub_per_message  rub_per_minute tariff_name  \n",
       "0              550         200                3               3       smart  \n",
       "1             1950         150                1               1       ultra  "
      ]
     },
     "metadata": {},
     "output_type": "display_data"
    }
   ],
   "source": [
    "data_tariffs = pd.read_csv('https://code.s3.yandex.net/datasets/tariffs.csv')# Чтение данных из файла\n",
    "display(data_tariffs.tail(20))#выводим последние строки на экран"
   ]
  },
  {
   "cell_type": "code",
   "execution_count": 201,
   "metadata": {},
   "outputs": [
    {
     "data": {
      "text/html": [
       "<div>\n",
       "<style scoped>\n",
       "    .dataframe tbody tr th:only-of-type {\n",
       "        vertical-align: middle;\n",
       "    }\n",
       "\n",
       "    .dataframe tbody tr th {\n",
       "        vertical-align: top;\n",
       "    }\n",
       "\n",
       "    .dataframe thead th {\n",
       "        text-align: right;\n",
       "    }\n",
       "</style>\n",
       "<table border=\"1\" class=\"dataframe\">\n",
       "  <thead>\n",
       "    <tr style=\"text-align: right;\">\n",
       "      <th></th>\n",
       "      <th>messages_included</th>\n",
       "      <th>mb_per_month_included</th>\n",
       "      <th>minutes_included</th>\n",
       "      <th>rub_monthly_fee</th>\n",
       "      <th>rub_per_gb</th>\n",
       "      <th>rub_per_message</th>\n",
       "      <th>rub_per_minute</th>\n",
       "      <th>tariff</th>\n",
       "    </tr>\n",
       "  </thead>\n",
       "  <tbody>\n",
       "    <tr>\n",
       "      <td>0</td>\n",
       "      <td>50</td>\n",
       "      <td>15360</td>\n",
       "      <td>500</td>\n",
       "      <td>550</td>\n",
       "      <td>200</td>\n",
       "      <td>3</td>\n",
       "      <td>3</td>\n",
       "      <td>smart</td>\n",
       "    </tr>\n",
       "    <tr>\n",
       "      <td>1</td>\n",
       "      <td>1000</td>\n",
       "      <td>30720</td>\n",
       "      <td>3000</td>\n",
       "      <td>1950</td>\n",
       "      <td>150</td>\n",
       "      <td>1</td>\n",
       "      <td>1</td>\n",
       "      <td>ultra</td>\n",
       "    </tr>\n",
       "  </tbody>\n",
       "</table>\n",
       "</div>"
      ],
      "text/plain": [
       "   messages_included  mb_per_month_included  minutes_included  \\\n",
       "0                 50                  15360               500   \n",
       "1               1000                  30720              3000   \n",
       "\n",
       "   rub_monthly_fee  rub_per_gb  rub_per_message  rub_per_minute tariff  \n",
       "0              550         200                3               3  smart  \n",
       "1             1950         150                1               1  ultra  "
      ]
     },
     "execution_count": 201,
     "metadata": {},
     "output_type": "execute_result"
    }
   ],
   "source": [
    "#Переименуем столбец tariff_name в tariff для возможности в дальнейшем объединить таблицы\n",
    "data_tariffs = data_tariffs.rename(columns={'tariff_name': 'tariff'})\n",
    "data_tariffs.tail(2)"
   ]
  },
  {
   "cell_type": "code",
   "execution_count": 202,
   "metadata": {},
   "outputs": [
    {
     "data": {
      "text/html": [
       "<div>\n",
       "<style scoped>\n",
       "    .dataframe tbody tr th:only-of-type {\n",
       "        vertical-align: middle;\n",
       "    }\n",
       "\n",
       "    .dataframe tbody tr th {\n",
       "        vertical-align: top;\n",
       "    }\n",
       "\n",
       "    .dataframe thead th {\n",
       "        text-align: right;\n",
       "    }\n",
       "</style>\n",
       "<table border=\"1\" class=\"dataframe\">\n",
       "  <thead>\n",
       "    <tr style=\"text-align: right;\">\n",
       "      <th></th>\n",
       "      <th>user_id</th>\n",
       "      <th>age</th>\n",
       "      <th>churn_date</th>\n",
       "      <th>city</th>\n",
       "      <th>first_name</th>\n",
       "      <th>last_name</th>\n",
       "      <th>reg_date</th>\n",
       "      <th>tariff</th>\n",
       "    </tr>\n",
       "  </thead>\n",
       "  <tbody>\n",
       "    <tr>\n",
       "      <td>498</td>\n",
       "      <td>1498</td>\n",
       "      <td>68</td>\n",
       "      <td>2018-10-25</td>\n",
       "      <td>Владикавказ</td>\n",
       "      <td>Всеволод</td>\n",
       "      <td>Акимчин</td>\n",
       "      <td>2018-07-19</td>\n",
       "      <td>smart</td>\n",
       "    </tr>\n",
       "    <tr>\n",
       "      <td>499</td>\n",
       "      <td>1499</td>\n",
       "      <td>35</td>\n",
       "      <td>NaN</td>\n",
       "      <td>Пермь</td>\n",
       "      <td>Гектор</td>\n",
       "      <td>Корнилов</td>\n",
       "      <td>2018-09-27</td>\n",
       "      <td>smart</td>\n",
       "    </tr>\n",
       "  </tbody>\n",
       "</table>\n",
       "</div>"
      ],
      "text/plain": [
       "     user_id  age  churn_date         city first_name last_name    reg_date  \\\n",
       "498     1498   68  2018-10-25  Владикавказ   Всеволод   Акимчин  2018-07-19   \n",
       "499     1499   35         NaN        Пермь     Гектор  Корнилов  2018-09-27   \n",
       "\n",
       "    tariff  \n",
       "498  smart  \n",
       "499  smart  "
      ]
     },
     "metadata": {},
     "output_type": "display_data"
    }
   ],
   "source": [
    "data_users = pd.read_csv('https://code.s3.yandex.net/datasets/users.csv')# Чтение данных из файла\n",
    "display(data_users.tail(2))#выводим последние строки на экран"
   ]
  },
  {
   "cell_type": "code",
   "execution_count": 203,
   "metadata": {},
   "outputs": [
    {
     "name": "stdout",
     "output_type": "stream",
     "text": [
      "<class 'pandas.core.frame.DataFrame'>\n",
      "RangeIndex: 500 entries, 0 to 499\n",
      "Data columns (total 8 columns):\n",
      "user_id       500 non-null int64\n",
      "age           500 non-null int64\n",
      "churn_date    38 non-null object\n",
      "city          500 non-null object\n",
      "first_name    500 non-null object\n",
      "last_name     500 non-null object\n",
      "reg_date      500 non-null object\n",
      "tariff        500 non-null object\n",
      "dtypes: int64(2), object(6)\n",
      "memory usage: 31.4+ KB\n",
      "None\n",
      "\n",
      "<class 'pandas.core.frame.DataFrame'>\n",
      "RangeIndex: 149396 entries, 0 to 149395\n",
      "Data columns (total 5 columns):\n",
      "Unnamed: 0      149396 non-null int64\n",
      "id              149396 non-null object\n",
      "mb_used         149396 non-null float64\n",
      "session_date    149396 non-null object\n",
      "user_id         149396 non-null int64\n",
      "dtypes: float64(1), int64(2), object(2)\n",
      "memory usage: 5.7+ MB\n",
      "None\n",
      "\n",
      "<class 'pandas.core.frame.DataFrame'>\n",
      "RangeIndex: 202607 entries, 0 to 202606\n",
      "Data columns (total 4 columns):\n",
      "id           202607 non-null object\n",
      "call_date    202607 non-null object\n",
      "duration     202607 non-null float64\n",
      "user_id      202607 non-null int64\n",
      "dtypes: float64(1), int64(1), object(2)\n",
      "memory usage: 6.2+ MB\n",
      "None\n",
      "\n",
      "<class 'pandas.core.frame.DataFrame'>\n",
      "RangeIndex: 2 entries, 0 to 1\n",
      "Data columns (total 8 columns):\n",
      "messages_included        2 non-null int64\n",
      "mb_per_month_included    2 non-null int64\n",
      "minutes_included         2 non-null int64\n",
      "rub_monthly_fee          2 non-null int64\n",
      "rub_per_gb               2 non-null int64\n",
      "rub_per_message          2 non-null int64\n",
      "rub_per_minute           2 non-null int64\n",
      "tariff                   2 non-null object\n",
      "dtypes: int64(7), object(1)\n",
      "memory usage: 256.0+ bytes\n",
      "None\n",
      "\n",
      "<class 'pandas.core.frame.DataFrame'>\n",
      "RangeIndex: 123036 entries, 0 to 123035\n",
      "Data columns (total 3 columns):\n",
      "id              123036 non-null object\n",
      "message_date    123036 non-null object\n",
      "user_id         123036 non-null int64\n",
      "dtypes: int64(1), object(2)\n",
      "memory usage: 2.8+ MB\n",
      "None\n",
      "\n"
     ]
    }
   ],
   "source": [
    "for data in [data_users, data_internet, data_calls, data_tariffs, data_messages]:\n",
    "    print(data.info(), end='\\n\\n')"
   ]
  },
  {
   "cell_type": "code",
   "execution_count": 204,
   "metadata": {},
   "outputs": [
    {
     "data": {
      "text/html": [
       "<div>\n",
       "<style scoped>\n",
       "    .dataframe tbody tr th:only-of-type {\n",
       "        vertical-align: middle;\n",
       "    }\n",
       "\n",
       "    .dataframe tbody tr th {\n",
       "        vertical-align: top;\n",
       "    }\n",
       "\n",
       "    .dataframe thead th {\n",
       "        text-align: right;\n",
       "    }\n",
       "</style>\n",
       "<table border=\"1\" class=\"dataframe\">\n",
       "  <thead>\n",
       "    <tr style=\"text-align: right;\">\n",
       "      <th></th>\n",
       "      <th>Unnamed: 0</th>\n",
       "      <th>id</th>\n",
       "      <th>mb_used</th>\n",
       "      <th>session_date</th>\n",
       "      <th>user_id</th>\n",
       "      <th>call_date</th>\n",
       "      <th>duration</th>\n",
       "    </tr>\n",
       "  </thead>\n",
       "  <tbody>\n",
       "    <tr>\n",
       "      <td>220140</td>\n",
       "      <td>nan</td>\n",
       "      <td>1499_218</td>\n",
       "      <td>nan</td>\n",
       "      <td>NaN</td>\n",
       "      <td>1499</td>\n",
       "      <td>2018-10-06</td>\n",
       "      <td>4.27</td>\n",
       "    </tr>\n",
       "    <tr>\n",
       "      <td>220141</td>\n",
       "      <td>nan</td>\n",
       "      <td>1499_219</td>\n",
       "      <td>nan</td>\n",
       "      <td>NaN</td>\n",
       "      <td>1499</td>\n",
       "      <td>2018-12-14</td>\n",
       "      <td>19.62</td>\n",
       "    </tr>\n",
       "  </tbody>\n",
       "</table>\n",
       "</div>"
      ],
      "text/plain": [
       "        Unnamed: 0        id  mb_used session_date  user_id   call_date  \\\n",
       "220140         nan  1499_218      nan          NaN     1499  2018-10-06   \n",
       "220141         nan  1499_219      nan          NaN     1499  2018-12-14   \n",
       "\n",
       "        duration  \n",
       "220140      4.27  \n",
       "220141     19.62  "
      ]
     },
     "metadata": {},
     "output_type": "display_data"
    }
   ],
   "source": [
    "#Проведем объединение таблиц методом merge(),\n",
    "#используя метод объединения outer, чтобы туда вошли все строки из двух таблиц\n",
    "df_merge = pd.merge(data_internet, data_calls, how = 'outer')\n",
    "display(df_merge.tail(2))"
   ]
  },
  {
   "cell_type": "code",
   "execution_count": 205,
   "metadata": {},
   "outputs": [
    {
     "data": {
      "text/html": [
       "<div>\n",
       "<style scoped>\n",
       "    .dataframe tbody tr th:only-of-type {\n",
       "        vertical-align: middle;\n",
       "    }\n",
       "\n",
       "    .dataframe tbody tr th {\n",
       "        vertical-align: top;\n",
       "    }\n",
       "\n",
       "    .dataframe thead th {\n",
       "        text-align: right;\n",
       "    }\n",
       "</style>\n",
       "<table border=\"1\" class=\"dataframe\">\n",
       "  <thead>\n",
       "    <tr style=\"text-align: right;\">\n",
       "      <th></th>\n",
       "      <th>Unnamed: 0</th>\n",
       "      <th>id</th>\n",
       "      <th>mb_used</th>\n",
       "      <th>session_date</th>\n",
       "      <th>user_id</th>\n",
       "      <th>call_date</th>\n",
       "      <th>duration</th>\n",
       "      <th>message_date</th>\n",
       "    </tr>\n",
       "  </thead>\n",
       "  <tbody>\n",
       "    <tr>\n",
       "      <td>237277</td>\n",
       "      <td>nan</td>\n",
       "      <td>1488_182</td>\n",
       "      <td>nan</td>\n",
       "      <td>NaN</td>\n",
       "      <td>1488</td>\n",
       "      <td>NaN</td>\n",
       "      <td>nan</td>\n",
       "      <td>2018-12-26</td>\n",
       "    </tr>\n",
       "    <tr>\n",
       "      <td>237278</td>\n",
       "      <td>nan</td>\n",
       "      <td>1488_183</td>\n",
       "      <td>nan</td>\n",
       "      <td>NaN</td>\n",
       "      <td>1488</td>\n",
       "      <td>NaN</td>\n",
       "      <td>nan</td>\n",
       "      <td>2018-11-12</td>\n",
       "    </tr>\n",
       "  </tbody>\n",
       "</table>\n",
       "</div>"
      ],
      "text/plain": [
       "        Unnamed: 0        id  mb_used session_date  user_id call_date  \\\n",
       "237277         nan  1488_182      nan          NaN     1488       NaN   \n",
       "237278         nan  1488_183      nan          NaN     1488       NaN   \n",
       "\n",
       "        duration message_date  \n",
       "237277       nan   2018-12-26  \n",
       "237278       nan   2018-11-12  "
      ]
     },
     "metadata": {},
     "output_type": "display_data"
    }
   ],
   "source": [
    "#Проведем объединение таблиц методом merge(),\n",
    "#используя метод объединения outer, чтобы туда вошли все строки из двух таблиц\n",
    "df_merge_mess = pd.merge(df_merge, data_messages, how = 'outer')\n",
    "display(df_merge_mess.tail(2))"
   ]
  },
  {
   "cell_type": "code",
   "execution_count": 206,
   "metadata": {},
   "outputs": [
    {
     "data": {
      "text/html": [
       "<div>\n",
       "<style scoped>\n",
       "    .dataframe tbody tr th:only-of-type {\n",
       "        vertical-align: middle;\n",
       "    }\n",
       "\n",
       "    .dataframe tbody tr th {\n",
       "        vertical-align: top;\n",
       "    }\n",
       "\n",
       "    .dataframe thead th {\n",
       "        text-align: right;\n",
       "    }\n",
       "</style>\n",
       "<table border=\"1\" class=\"dataframe\">\n",
       "  <thead>\n",
       "    <tr style=\"text-align: right;\">\n",
       "      <th></th>\n",
       "      <th>Unnamed: 0</th>\n",
       "      <th>id</th>\n",
       "      <th>mb_used</th>\n",
       "      <th>session_date</th>\n",
       "      <th>user_id</th>\n",
       "      <th>call_date</th>\n",
       "      <th>duration</th>\n",
       "      <th>message_date</th>\n",
       "      <th>age</th>\n",
       "      <th>churn_date</th>\n",
       "      <th>city</th>\n",
       "      <th>first_name</th>\n",
       "      <th>last_name</th>\n",
       "      <th>reg_date</th>\n",
       "      <th>tariff</th>\n",
       "    </tr>\n",
       "  </thead>\n",
       "  <tbody>\n",
       "    <tr>\n",
       "      <td>237279</td>\n",
       "      <td>nan</td>\n",
       "      <td>NaN</td>\n",
       "      <td>nan</td>\n",
       "      <td>NaN</td>\n",
       "      <td>1128</td>\n",
       "      <td>NaN</td>\n",
       "      <td>nan</td>\n",
       "      <td>NaN</td>\n",
       "      <td>51</td>\n",
       "      <td>2018-12-23</td>\n",
       "      <td>Волжский</td>\n",
       "      <td>Ксения</td>\n",
       "      <td>Агаева</td>\n",
       "      <td>2018-12-15</td>\n",
       "      <td>ultra</td>\n",
       "    </tr>\n",
       "    <tr>\n",
       "      <td>237280</td>\n",
       "      <td>nan</td>\n",
       "      <td>NaN</td>\n",
       "      <td>nan</td>\n",
       "      <td>NaN</td>\n",
       "      <td>1371</td>\n",
       "      <td>NaN</td>\n",
       "      <td>nan</td>\n",
       "      <td>NaN</td>\n",
       "      <td>50</td>\n",
       "      <td>2018-12-30</td>\n",
       "      <td>Омск</td>\n",
       "      <td>Ириней</td>\n",
       "      <td>Трофимов</td>\n",
       "      <td>2018-12-25</td>\n",
       "      <td>smart</td>\n",
       "    </tr>\n",
       "  </tbody>\n",
       "</table>\n",
       "</div>"
      ],
      "text/plain": [
       "        Unnamed: 0   id  mb_used session_date  user_id call_date  duration  \\\n",
       "237279         nan  NaN      nan          NaN     1128       NaN       nan   \n",
       "237280         nan  NaN      nan          NaN     1371       NaN       nan   \n",
       "\n",
       "       message_date  age  churn_date      city first_name last_name  \\\n",
       "237279          NaN   51  2018-12-23  Волжский     Ксения    Агаева   \n",
       "237280          NaN   50  2018-12-30      Омск     Ириней  Трофимов   \n",
       "\n",
       "          reg_date tariff  \n",
       "237279  2018-12-15  ultra  \n",
       "237280  2018-12-25  smart  "
      ]
     },
     "metadata": {},
     "output_type": "display_data"
    }
   ],
   "source": [
    "#Проведем объединение таблиц методом merge(),\n",
    "#используя метод объединения outer, чтобы туда вошли все строки из двух таблиц\n",
    "df_users_merge = pd.merge(df_merge_mess, data_users, how = 'outer')\n",
    "display(df_users_merge.tail(2))"
   ]
  },
  {
   "cell_type": "code",
   "execution_count": 207,
   "metadata": {},
   "outputs": [
    {
     "data": {
      "text/html": [
       "<div>\n",
       "<style scoped>\n",
       "    .dataframe tbody tr th:only-of-type {\n",
       "        vertical-align: middle;\n",
       "    }\n",
       "\n",
       "    .dataframe tbody tr th {\n",
       "        vertical-align: top;\n",
       "    }\n",
       "\n",
       "    .dataframe thead th {\n",
       "        text-align: right;\n",
       "    }\n",
       "</style>\n",
       "<table border=\"1\" class=\"dataframe\">\n",
       "  <thead>\n",
       "    <tr style=\"text-align: right;\">\n",
       "      <th></th>\n",
       "      <th>Unnamed: 0</th>\n",
       "      <th>id</th>\n",
       "      <th>mb_used</th>\n",
       "      <th>session_date</th>\n",
       "      <th>user_id</th>\n",
       "      <th>call_date</th>\n",
       "      <th>duration</th>\n",
       "      <th>message_date</th>\n",
       "      <th>age</th>\n",
       "      <th>churn_date</th>\n",
       "      <th>...</th>\n",
       "      <th>last_name</th>\n",
       "      <th>reg_date</th>\n",
       "      <th>tariff</th>\n",
       "      <th>messages_included</th>\n",
       "      <th>mb_per_month_included</th>\n",
       "      <th>minutes_included</th>\n",
       "      <th>rub_monthly_fee</th>\n",
       "      <th>rub_per_gb</th>\n",
       "      <th>rub_per_message</th>\n",
       "      <th>rub_per_minute</th>\n",
       "    </tr>\n",
       "  </thead>\n",
       "  <tbody>\n",
       "    <tr>\n",
       "      <td>237279</td>\n",
       "      <td>nan</td>\n",
       "      <td>NaN</td>\n",
       "      <td>nan</td>\n",
       "      <td>NaN</td>\n",
       "      <td>1128</td>\n",
       "      <td>NaN</td>\n",
       "      <td>nan</td>\n",
       "      <td>NaN</td>\n",
       "      <td>51</td>\n",
       "      <td>2018-12-23</td>\n",
       "      <td>...</td>\n",
       "      <td>Агаева</td>\n",
       "      <td>2018-12-15</td>\n",
       "      <td>ultra</td>\n",
       "      <td>1000</td>\n",
       "      <td>30720</td>\n",
       "      <td>3000</td>\n",
       "      <td>1950</td>\n",
       "      <td>150</td>\n",
       "      <td>1</td>\n",
       "      <td>1</td>\n",
       "    </tr>\n",
       "    <tr>\n",
       "      <td>237280</td>\n",
       "      <td>nan</td>\n",
       "      <td>NaN</td>\n",
       "      <td>nan</td>\n",
       "      <td>NaN</td>\n",
       "      <td>1371</td>\n",
       "      <td>NaN</td>\n",
       "      <td>nan</td>\n",
       "      <td>NaN</td>\n",
       "      <td>50</td>\n",
       "      <td>2018-12-30</td>\n",
       "      <td>...</td>\n",
       "      <td>Трофимов</td>\n",
       "      <td>2018-12-25</td>\n",
       "      <td>smart</td>\n",
       "      <td>50</td>\n",
       "      <td>15360</td>\n",
       "      <td>500</td>\n",
       "      <td>550</td>\n",
       "      <td>200</td>\n",
       "      <td>3</td>\n",
       "      <td>3</td>\n",
       "    </tr>\n",
       "  </tbody>\n",
       "</table>\n",
       "<p>2 rows × 22 columns</p>\n",
       "</div>"
      ],
      "text/plain": [
       "        Unnamed: 0   id  mb_used session_date  user_id call_date  duration  \\\n",
       "237279         nan  NaN      nan          NaN     1128       NaN       nan   \n",
       "237280         nan  NaN      nan          NaN     1371       NaN       nan   \n",
       "\n",
       "       message_date  age  churn_date  ... last_name    reg_date tariff  \\\n",
       "237279          NaN   51  2018-12-23  ...    Агаева  2018-12-15  ultra   \n",
       "237280          NaN   50  2018-12-30  ...  Трофимов  2018-12-25  smart   \n",
       "\n",
       "       messages_included mb_per_month_included  minutes_included  \\\n",
       "237279              1000                 30720              3000   \n",
       "237280                50                 15360               500   \n",
       "\n",
       "        rub_monthly_fee  rub_per_gb  rub_per_message  rub_per_minute  \n",
       "237279             1950         150                1               1  \n",
       "237280              550         200                3               3  \n",
       "\n",
       "[2 rows x 22 columns]"
      ]
     },
     "metadata": {},
     "output_type": "display_data"
    }
   ],
   "source": [
    "#Проведем объединение таблиц методом merge(),\n",
    "#используя метод объединения left, чтобы в результате слияния обязательно\n",
    "#войдут все строки из левого DataFrame\n",
    "df = pd.merge(df_users_merge, data_tariffs, on = 'tariff', how = 'left')\n",
    "display(df.tail(2))"
   ]
  },
  {
   "cell_type": "markdown",
   "metadata": {},
   "source": [
    "***Вывод***\n",
    "\n",
    "Итак, данные были представлены в пяти таблицах(users (информация о пользователях), calls (информация о звонках), messages (информация о сообщениях), internet (информация об интернет-сессиях), tariffs (информация о тарифах)).\n",
    "Переименовали название колонки tariff_name в tariff в таблице tariffs перед объединением таблиц методом rename().\n",
    "Методом merge() объединили все таблицы по очереди, используя метод объединения outer. \n",
    "Описание данных получившейся таблицы.\n",
    "\n",
    "user_id — уникальный идентификатор пользователя;\n",
    "first_name — имя пользователя;\n",
    "last_name — фамилия пользователя;\n",
    "age — возраст пользователя (годы);\n",
    "reg_date — дата подключения тарифа (день, месяц, год);\n",
    "churn_date — дата прекращения пользования тарифом (если значение пропущено, то тариф ещё действовал на момент выгрузки данных);\n",
    "city — город проживания пользователя;\n",
    "tarif — название тарифного плана; id — уникальный номер звонка; call_date — дата звонка\n",
    "duration — длительность звонка в минутах; id — уникальный номер сообщения; message_date — дата сообщения; id — уникальный номер сессии; mb_used — объём потраченного за сессию интернет-трафика (в мегабайтах); session_date — дата интернет-сессии; rub_monthly_fee — ежемесячная абонентская плата в рублях;\n",
    "minutes_included — количество минут разговора в месяц, включённых в абонентскую плату;\n",
    "messages_included — количество сообщений в месяц, включённых в абонентскую плату;\n",
    "mb_per_month_included — объём интернет-трафика, включённого в абонентскую плату (в мегабайтах);\n",
    "rub_per_minute — стоимость минуты разговора сверх тарифного пакета (например, если в тарифе 100 минут разговора в месяц, то со 101 минуты будет взиматься плата);\n",
    "rub_per_message — стоимость отправки сообщения сверх тарифного пакета;\n",
    "rub_per_gb — стоимость дополнительного гигабайта интернет-трафика сверх тарифного пакета (1 гигабайт = 1024 мегабайта).\n",
    "\n",
    "Данные содержат информацию  о 500 пользователях телеком-компании: кто они, откуда, каким тарифом пользуются, сколько звонков и сообщений каждый отправил за 2018 год.\n",
    "\n",
    "Предварительном можно утверждать в данных достаточно для проверки гипотез. Но вданных встречаются следующие проблемы.\n",
    "1. Столбцы с датой и временем отражены в другом формате. \n",
    "2. Изучим пропущенные значения.\n",
    "3. Изучим дубликаты.\n",
    "4. Проверим на ошибки в данных.\n",
    "\n",
    "\n",
    "После предобработки данных исследование станет более точным.\n",
    "Чтобы двигаться дальше надо устранить проблемы в данных."
   ]
  },
  {
   "cell_type": "markdown",
   "metadata": {},
   "source": [
    "### Шаг 2. Предобработка данных"
   ]
  },
  {
   "cell_type": "code",
   "execution_count": 208,
   "metadata": {},
   "outputs": [],
   "source": [
    "pd.options.display.float_format = '{:,.2f}'.format#для всех данных установим формат"
   ]
  },
  {
   "cell_type": "markdown",
   "metadata": {},
   "source": [
    "#### Шаг 2.1. Проверим типы данных"
   ]
  },
  {
   "cell_type": "markdown",
   "metadata": {},
   "source": [
    "Переведем из строки в дату и время значения столбцов call_date, session_date, message_date, churn_date, reg_date."
   ]
  },
  {
   "cell_type": "code",
   "execution_count": 209,
   "metadata": {},
   "outputs": [],
   "source": [
    "# Перевод из строки в дату и время. \n",
    "df['call_date'] = pd.to_datetime(df['call_date'], format='%Y.%m.%d')\n",
    "df['session_date'] = pd.to_datetime(df['session_date'], format='%Y.%m.%d') \n",
    "df['message_date'] = pd.to_datetime(df['message_date'], format='%Y.%m.%d') \n",
    "df['churn_date'] = pd.to_datetime(df['churn_date'], format='%Y.%m.%d') \n",
    "df['reg_date'] = pd.to_datetime(df['reg_date'], format='%Y.%m.%d') "
   ]
  },
  {
   "cell_type": "code",
   "execution_count": 210,
   "metadata": {},
   "outputs": [
    {
     "data": {
      "text/plain": [
       "0   7.00\n",
       "1   8.00\n",
       "Name: call_date, dtype: float64"
      ]
     },
     "execution_count": 210,
     "metadata": {},
     "output_type": "execute_result"
    }
   ],
   "source": [
    "df['call_date'] = pd.DatetimeIndex(df['call_date']).month# Получение месяца из столбца с датой и временем\n",
    "df['call_date'].head(2)"
   ]
  },
  {
   "cell_type": "code",
   "execution_count": 211,
   "metadata": {},
   "outputs": [
    {
     "data": {
      "text/plain": [
       "0   11.00\n",
       "1    9.00\n",
       "Name: session_date, dtype: float64"
      ]
     },
     "execution_count": 211,
     "metadata": {},
     "output_type": "execute_result"
    }
   ],
   "source": [
    "df['session_date'] = pd.DatetimeIndex(df['session_date']).month# Получение месяца из столбца с датой и временем\n",
    "df['session_date'].head(2)"
   ]
  },
  {
   "cell_type": "code",
   "execution_count": 212,
   "metadata": {},
   "outputs": [
    {
     "data": {
      "text/plain": [
       "0    6.00\n",
       "1   10.00\n",
       "Name: message_date, dtype: float64"
      ]
     },
     "execution_count": 212,
     "metadata": {},
     "output_type": "execute_result"
    }
   ],
   "source": [
    "df['message_date'] = pd.DatetimeIndex(df['message_date']).month# Получение месяца из столбца с датой и временем\n",
    "df['message_date'].head(2)"
   ]
  },
  {
   "cell_type": "code",
   "execution_count": 213,
   "metadata": {},
   "outputs": [
    {
     "data": {
      "text/plain": [
       "202607"
      ]
     },
     "execution_count": 213,
     "metadata": {},
     "output_type": "execute_result"
    }
   ],
   "source": [
    "df['duration'].count()"
   ]
  },
  {
   "cell_type": "code",
   "execution_count": 214,
   "metadata": {},
   "outputs": [
    {
     "data": {
      "text/html": [
       "<div>\n",
       "<style scoped>\n",
       "    .dataframe tbody tr th:only-of-type {\n",
       "        vertical-align: middle;\n",
       "    }\n",
       "\n",
       "    .dataframe tbody tr th {\n",
       "        vertical-align: top;\n",
       "    }\n",
       "\n",
       "    .dataframe thead th {\n",
       "        text-align: right;\n",
       "    }\n",
       "</style>\n",
       "<table border=\"1\" class=\"dataframe\">\n",
       "  <thead>\n",
       "    <tr style=\"text-align: right;\">\n",
       "      <th></th>\n",
       "      <th>Unnamed: 0</th>\n",
       "      <th>id</th>\n",
       "      <th>mb_used</th>\n",
       "      <th>session_date</th>\n",
       "      <th>user_id</th>\n",
       "      <th>call_date</th>\n",
       "      <th>duration</th>\n",
       "      <th>message_date</th>\n",
       "      <th>age</th>\n",
       "      <th>churn_date</th>\n",
       "      <th>...</th>\n",
       "      <th>reg_date</th>\n",
       "      <th>tariff</th>\n",
       "      <th>messages_included</th>\n",
       "      <th>mb_per_month_included</th>\n",
       "      <th>minutes_included</th>\n",
       "      <th>rub_monthly_fee</th>\n",
       "      <th>rub_per_gb</th>\n",
       "      <th>rub_per_message</th>\n",
       "      <th>rub_per_minute</th>\n",
       "      <th>duration_ceil</th>\n",
       "    </tr>\n",
       "  </thead>\n",
       "  <tbody>\n",
       "    <tr>\n",
       "      <td>0</td>\n",
       "      <td>0.00</td>\n",
       "      <td>1000_0</td>\n",
       "      <td>112.95</td>\n",
       "      <td>11.00</td>\n",
       "      <td>1000</td>\n",
       "      <td>7.00</td>\n",
       "      <td>0.00</td>\n",
       "      <td>6.00</td>\n",
       "      <td>52</td>\n",
       "      <td>NaT</td>\n",
       "      <td>...</td>\n",
       "      <td>2018-05-25</td>\n",
       "      <td>ultra</td>\n",
       "      <td>1000</td>\n",
       "      <td>30720</td>\n",
       "      <td>3000</td>\n",
       "      <td>1950</td>\n",
       "      <td>150</td>\n",
       "      <td>1</td>\n",
       "      <td>1</td>\n",
       "      <td>0.00</td>\n",
       "    </tr>\n",
       "    <tr>\n",
       "      <td>1</td>\n",
       "      <td>1.00</td>\n",
       "      <td>1000_1</td>\n",
       "      <td>1,052.81</td>\n",
       "      <td>9.00</td>\n",
       "      <td>1000</td>\n",
       "      <td>8.00</td>\n",
       "      <td>0.00</td>\n",
       "      <td>10.00</td>\n",
       "      <td>52</td>\n",
       "      <td>NaT</td>\n",
       "      <td>...</td>\n",
       "      <td>2018-05-25</td>\n",
       "      <td>ultra</td>\n",
       "      <td>1000</td>\n",
       "      <td>30720</td>\n",
       "      <td>3000</td>\n",
       "      <td>1950</td>\n",
       "      <td>150</td>\n",
       "      <td>1</td>\n",
       "      <td>1</td>\n",
       "      <td>0.00</td>\n",
       "    </tr>\n",
       "    <tr>\n",
       "      <td>2</td>\n",
       "      <td>2.00</td>\n",
       "      <td>1000_2</td>\n",
       "      <td>1,197.26</td>\n",
       "      <td>6.00</td>\n",
       "      <td>1000</td>\n",
       "      <td>6.00</td>\n",
       "      <td>2.85</td>\n",
       "      <td>8.00</td>\n",
       "      <td>52</td>\n",
       "      <td>NaT</td>\n",
       "      <td>...</td>\n",
       "      <td>2018-05-25</td>\n",
       "      <td>ultra</td>\n",
       "      <td>1000</td>\n",
       "      <td>30720</td>\n",
       "      <td>3000</td>\n",
       "      <td>1950</td>\n",
       "      <td>150</td>\n",
       "      <td>1</td>\n",
       "      <td>1</td>\n",
       "      <td>3.00</td>\n",
       "    </tr>\n",
       "    <tr>\n",
       "      <td>3</td>\n",
       "      <td>3.00</td>\n",
       "      <td>1000_3</td>\n",
       "      <td>550.27</td>\n",
       "      <td>8.00</td>\n",
       "      <td>1000</td>\n",
       "      <td>9.00</td>\n",
       "      <td>13.80</td>\n",
       "      <td>6.00</td>\n",
       "      <td>52</td>\n",
       "      <td>NaT</td>\n",
       "      <td>...</td>\n",
       "      <td>2018-05-25</td>\n",
       "      <td>ultra</td>\n",
       "      <td>1000</td>\n",
       "      <td>30720</td>\n",
       "      <td>3000</td>\n",
       "      <td>1950</td>\n",
       "      <td>150</td>\n",
       "      <td>1</td>\n",
       "      <td>1</td>\n",
       "      <td>14.00</td>\n",
       "    </tr>\n",
       "    <tr>\n",
       "      <td>4</td>\n",
       "      <td>4.00</td>\n",
       "      <td>1000_4</td>\n",
       "      <td>302.56</td>\n",
       "      <td>9.00</td>\n",
       "      <td>1000</td>\n",
       "      <td>12.00</td>\n",
       "      <td>5.18</td>\n",
       "      <td>12.00</td>\n",
       "      <td>52</td>\n",
       "      <td>NaT</td>\n",
       "      <td>...</td>\n",
       "      <td>2018-05-25</td>\n",
       "      <td>ultra</td>\n",
       "      <td>1000</td>\n",
       "      <td>30720</td>\n",
       "      <td>3000</td>\n",
       "      <td>1950</td>\n",
       "      <td>150</td>\n",
       "      <td>1</td>\n",
       "      <td>1</td>\n",
       "      <td>6.00</td>\n",
       "    </tr>\n",
       "  </tbody>\n",
       "</table>\n",
       "<p>5 rows × 23 columns</p>\n",
       "</div>"
      ],
      "text/plain": [
       "   Unnamed: 0      id  mb_used  session_date  user_id  call_date  duration  \\\n",
       "0        0.00  1000_0   112.95         11.00     1000       7.00      0.00   \n",
       "1        1.00  1000_1 1,052.81          9.00     1000       8.00      0.00   \n",
       "2        2.00  1000_2 1,197.26          6.00     1000       6.00      2.85   \n",
       "3        3.00  1000_3   550.27          8.00     1000       9.00     13.80   \n",
       "4        4.00  1000_4   302.56          9.00     1000      12.00      5.18   \n",
       "\n",
       "   message_date  age churn_date  ...   reg_date tariff messages_included  \\\n",
       "0          6.00   52        NaT  ... 2018-05-25  ultra              1000   \n",
       "1         10.00   52        NaT  ... 2018-05-25  ultra              1000   \n",
       "2          8.00   52        NaT  ... 2018-05-25  ultra              1000   \n",
       "3          6.00   52        NaT  ... 2018-05-25  ultra              1000   \n",
       "4         12.00   52        NaT  ... 2018-05-25  ultra              1000   \n",
       "\n",
       "  mb_per_month_included minutes_included  rub_monthly_fee  rub_per_gb  \\\n",
       "0                 30720             3000             1950         150   \n",
       "1                 30720             3000             1950         150   \n",
       "2                 30720             3000             1950         150   \n",
       "3                 30720             3000             1950         150   \n",
       "4                 30720             3000             1950         150   \n",
       "\n",
       "   rub_per_message  rub_per_minute  duration_ceil  \n",
       "0                1               1           0.00  \n",
       "1                1               1           0.00  \n",
       "2                1               1           3.00  \n",
       "3                1               1          14.00  \n",
       "4                1               1           6.00  \n",
       "\n",
       "[5 rows x 23 columns]"
      ]
     },
     "execution_count": 214,
     "metadata": {},
     "output_type": "execute_result"
    }
   ],
   "source": [
    "#округлим в большую строну столбцы duration и mb_used в соответствии с условиями тарифа\n",
    "df['duration_ceil'] = df['duration'].apply(np.ceil)\n",
    "\n",
    "df.head(5)"
   ]
  },
  {
   "cell_type": "markdown",
   "metadata": {},
   "source": [
    "***Вывод***\n",
    "\n",
    "Перевели из строки в дату и время значения столбцов call_date, session_date, message_date, churn_date, reg_date."
   ]
  },
  {
   "cell_type": "markdown",
   "metadata": {},
   "source": [
    "#### Шаг 2.2. Изучим пропуски в датафрейме"
   ]
  },
  {
   "cell_type": "code",
   "execution_count": 215,
   "metadata": {},
   "outputs": [
    {
     "data": {
      "text/plain": [
       "Unnamed: 0                87885\n",
       "id                            2\n",
       "mb_used                   87885\n",
       "session_date              87885\n",
       "user_id                       0\n",
       "call_date                 34674\n",
       "duration                  34674\n",
       "message_date             114245\n",
       "age                           0\n",
       "churn_date               226094\n",
       "city                          0\n",
       "first_name                    0\n",
       "last_name                     0\n",
       "reg_date                      0\n",
       "tariff                        0\n",
       "messages_included             0\n",
       "mb_per_month_included         0\n",
       "minutes_included              0\n",
       "rub_monthly_fee               0\n",
       "rub_per_gb                    0\n",
       "rub_per_message               0\n",
       "rub_per_minute                0\n",
       "duration_ceil             34674\n",
       "dtype: int64"
      ]
     },
     "execution_count": 215,
     "metadata": {},
     "output_type": "execute_result"
    }
   ],
   "source": [
    "df.isna().sum()#определим пропущенные значения"
   ]
  },
  {
   "cell_type": "code",
   "execution_count": 216,
   "metadata": {
    "scrolled": true
   },
   "outputs": [
    {
     "name": "stdout",
     "output_type": "stream",
     "text": [
      "В churn_date пропущено 95.29% значений\n",
      "В message_date пропущено 48.15% значений\n",
      "В duration пропущено 14.61% значений\n",
      "В call_date пропущено 14.61% значений\n",
      "В session_date пропущено 37.04% значений\n",
      "В mb_used пропущено 37.04% значений\n"
     ]
    }
   ],
   "source": [
    "#создадим функцию, получющую на вход название признака, и возвращающую число пропущенных значений\n",
    "def print_nan_ratio(column):\n",
    "    print('В {0} пропущено {1} значений'.format(column, \"{:.2%}\".format((len(df) - df[column].count())/len(df))))\n",
    "print_nan_ratio('churn_date')\n",
    "print_nan_ratio('message_date')\n",
    "print_nan_ratio('duration')\n",
    "print_nan_ratio('call_date')\n",
    "print_nan_ratio('session_date')\n",
    "print_nan_ratio('mb_used')\n"
   ]
  },
  {
   "cell_type": "markdown",
   "metadata": {},
   "source": [
    "***Вывод***\n",
    "\n",
    "В связи с тем, что пропущенные значения связаны с тем, что значения в столбцах отнесены к одному из видов действия (телефонный звонок, сообщение, интернет-трафик), заменять пропущенные значения не будем."
   ]
  },
  {
   "cell_type": "markdown",
   "metadata": {},
   "source": [
    "#### Шаг 2.3. Изучим дубликаты\n"
   ]
  },
  {
   "cell_type": "code",
   "execution_count": 217,
   "metadata": {},
   "outputs": [
    {
     "data": {
      "text/plain": [
       "0"
      ]
     },
     "execution_count": 217,
     "metadata": {},
     "output_type": "execute_result"
    }
   ],
   "source": [
    "df.duplicated().sum()# установим количество полных дубликатов"
   ]
  },
  {
   "cell_type": "code",
   "execution_count": 218,
   "metadata": {},
   "outputs": [
    {
     "data": {
      "text/html": [
       "<div>\n",
       "<style scoped>\n",
       "    .dataframe tbody tr th:only-of-type {\n",
       "        vertical-align: middle;\n",
       "    }\n",
       "\n",
       "    .dataframe tbody tr th {\n",
       "        vertical-align: top;\n",
       "    }\n",
       "\n",
       "    .dataframe thead th {\n",
       "        text-align: right;\n",
       "    }\n",
       "</style>\n",
       "<table border=\"1\" class=\"dataframe\">\n",
       "  <thead>\n",
       "    <tr style=\"text-align: right;\">\n",
       "      <th></th>\n",
       "      <th>Unnamed: 0</th>\n",
       "      <th>id</th>\n",
       "      <th>mb_used</th>\n",
       "      <th>session_date</th>\n",
       "      <th>user_id</th>\n",
       "      <th>call_date</th>\n",
       "      <th>duration</th>\n",
       "      <th>message_date</th>\n",
       "      <th>age</th>\n",
       "      <th>churn_date</th>\n",
       "      <th>...</th>\n",
       "      <th>reg_date</th>\n",
       "      <th>tariff</th>\n",
       "      <th>messages_included</th>\n",
       "      <th>mb_per_month_included</th>\n",
       "      <th>minutes_included</th>\n",
       "      <th>rub_monthly_fee</th>\n",
       "      <th>rub_per_gb</th>\n",
       "      <th>rub_per_message</th>\n",
       "      <th>rub_per_minute</th>\n",
       "      <th>duration_ceil</th>\n",
       "    </tr>\n",
       "  </thead>\n",
       "  <tbody>\n",
       "    <tr>\n",
       "      <td>237280</td>\n",
       "      <td>nan</td>\n",
       "      <td>NaN</td>\n",
       "      <td>nan</td>\n",
       "      <td>nan</td>\n",
       "      <td>1371</td>\n",
       "      <td>nan</td>\n",
       "      <td>nan</td>\n",
       "      <td>nan</td>\n",
       "      <td>50</td>\n",
       "      <td>2018-12-30</td>\n",
       "      <td>...</td>\n",
       "      <td>2018-12-25</td>\n",
       "      <td>smart</td>\n",
       "      <td>50</td>\n",
       "      <td>15360</td>\n",
       "      <td>500</td>\n",
       "      <td>550</td>\n",
       "      <td>200</td>\n",
       "      <td>3</td>\n",
       "      <td>3</td>\n",
       "      <td>nan</td>\n",
       "    </tr>\n",
       "  </tbody>\n",
       "</table>\n",
       "<p>1 rows × 23 columns</p>\n",
       "</div>"
      ],
      "text/plain": [
       "        Unnamed: 0   id  mb_used  session_date  user_id  call_date  duration  \\\n",
       "237280         nan  NaN      nan           nan     1371        nan       nan   \n",
       "\n",
       "        message_date  age churn_date  ...   reg_date tariff messages_included  \\\n",
       "237280           nan   50 2018-12-30  ... 2018-12-25  smart                50   \n",
       "\n",
       "       mb_per_month_included minutes_included  rub_monthly_fee  rub_per_gb  \\\n",
       "237280                 15360              500              550         200   \n",
       "\n",
       "        rub_per_message  rub_per_minute  duration_ceil  \n",
       "237280                3               3            nan  \n",
       "\n",
       "[1 rows x 23 columns]"
      ]
     },
     "execution_count": 218,
     "metadata": {},
     "output_type": "execute_result"
    }
   ],
   "source": [
    "df[df['id'].duplicated()]#установим количество дубликатов"
   ]
  },
  {
   "cell_type": "code",
   "execution_count": 219,
   "metadata": {
    "scrolled": false
   },
   "outputs": [],
   "source": [
    "df = df.query('id == id')#поскольку, найденный дубликаты - это Nan, а он не равен сам себе, удалим дубликат методом query"
   ]
  },
  {
   "cell_type": "markdown",
   "metadata": {},
   "source": [
    "***Вывод***\n",
    "\n",
    "Удалили выявленные дубликаты."
   ]
  },
  {
   "cell_type": "markdown",
   "metadata": {},
   "source": [
    "#### Шаг 2.4. Исправим ошибки в данных"
   ]
  },
  {
   "cell_type": "code",
   "execution_count": 220,
   "metadata": {},
   "outputs": [
    {
     "data": {
      "text/plain": [
       "array([                          'NaT', '2018-10-05T00:00:00.000000000',\n",
       "       '2018-12-18T00:00:00.000000000', '2018-11-21T00:00:00.000000000',\n",
       "       '2018-10-03T00:00:00.000000000', '2018-10-14T00:00:00.000000000',\n",
       "       '2018-12-09T00:00:00.000000000', '2018-12-11T00:00:00.000000000',\n",
       "       '2018-12-26T00:00:00.000000000', '2018-08-31T00:00:00.000000000',\n",
       "       '2018-12-03T00:00:00.000000000', '2018-11-07T00:00:00.000000000',\n",
       "       '2018-12-16T00:00:00.000000000', '2018-12-20T00:00:00.000000000',\n",
       "       '2018-11-30T00:00:00.000000000', '2018-12-21T00:00:00.000000000',\n",
       "       '2018-08-17T00:00:00.000000000', '2018-09-02T00:00:00.000000000',\n",
       "       '2018-10-04T00:00:00.000000000', '2018-11-13T00:00:00.000000000',\n",
       "       '2018-11-22T00:00:00.000000000', '2018-10-28T00:00:00.000000000',\n",
       "       '2018-11-26T00:00:00.000000000', '2018-11-27T00:00:00.000000000',\n",
       "       '2018-11-16T00:00:00.000000000', '2018-10-27T00:00:00.000000000',\n",
       "       '2018-09-27T00:00:00.000000000', '2018-12-25T00:00:00.000000000',\n",
       "       '2018-12-14T00:00:00.000000000', '2018-12-24T00:00:00.000000000',\n",
       "       '2018-09-26T00:00:00.000000000', '2018-10-25T00:00:00.000000000'],\n",
       "      dtype='datetime64[ns]')"
      ]
     },
     "execution_count": 220,
     "metadata": {},
     "output_type": "execute_result"
    }
   ],
   "source": [
    "df['churn_date'].unique()\n",
    "#выведем Метод unique() для просмотра всех уникальных значений в столбце"
   ]
  },
  {
   "cell_type": "code",
   "execution_count": 221,
   "metadata": {},
   "outputs": [
    {
     "data": {
      "text/plain": [
       "array(['2018-01-01T00:00:00.000000000', '2018-01-02T00:00:00.000000000',\n",
       "       '2018-01-04T00:00:00.000000000', '2018-01-05T00:00:00.000000000',\n",
       "       '2018-01-06T00:00:00.000000000', '2018-01-08T00:00:00.000000000',\n",
       "       '2018-01-09T00:00:00.000000000', '2018-01-12T00:00:00.000000000',\n",
       "       '2018-01-13T00:00:00.000000000', '2018-01-15T00:00:00.000000000',\n",
       "       '2018-01-16T00:00:00.000000000', '2018-01-17T00:00:00.000000000',\n",
       "       '2018-01-18T00:00:00.000000000', '2018-01-19T00:00:00.000000000',\n",
       "       '2018-01-20T00:00:00.000000000', '2018-01-21T00:00:00.000000000',\n",
       "       '2018-01-23T00:00:00.000000000', '2018-01-24T00:00:00.000000000',\n",
       "       '2018-01-25T00:00:00.000000000', '2018-01-26T00:00:00.000000000',\n",
       "       '2018-01-27T00:00:00.000000000', '2018-01-29T00:00:00.000000000',\n",
       "       '2018-01-30T00:00:00.000000000', '2018-02-02T00:00:00.000000000',\n",
       "       '2018-02-03T00:00:00.000000000', '2018-02-04T00:00:00.000000000',\n",
       "       '2018-02-05T00:00:00.000000000', '2018-02-06T00:00:00.000000000',\n",
       "       '2018-02-08T00:00:00.000000000', '2018-02-11T00:00:00.000000000',\n",
       "       '2018-02-13T00:00:00.000000000', '2018-02-14T00:00:00.000000000',\n",
       "       '2018-02-17T00:00:00.000000000', '2018-02-19T00:00:00.000000000',\n",
       "       '2018-02-20T00:00:00.000000000', '2018-02-21T00:00:00.000000000',\n",
       "       '2018-02-22T00:00:00.000000000', '2018-02-23T00:00:00.000000000',\n",
       "       '2018-02-24T00:00:00.000000000', '2018-02-25T00:00:00.000000000',\n",
       "       '2018-02-26T00:00:00.000000000', '2018-02-27T00:00:00.000000000',\n",
       "       '2018-02-28T00:00:00.000000000', '2018-03-04T00:00:00.000000000',\n",
       "       '2018-03-06T00:00:00.000000000', '2018-03-08T00:00:00.000000000',\n",
       "       '2018-03-09T00:00:00.000000000', '2018-03-10T00:00:00.000000000',\n",
       "       '2018-03-12T00:00:00.000000000', '2018-03-13T00:00:00.000000000',\n",
       "       '2018-03-14T00:00:00.000000000', '2018-03-15T00:00:00.000000000',\n",
       "       '2018-03-16T00:00:00.000000000', '2018-03-17T00:00:00.000000000',\n",
       "       '2018-03-18T00:00:00.000000000', '2018-03-19T00:00:00.000000000',\n",
       "       '2018-03-20T00:00:00.000000000', '2018-03-22T00:00:00.000000000',\n",
       "       '2018-03-24T00:00:00.000000000', '2018-03-25T00:00:00.000000000',\n",
       "       '2018-03-26T00:00:00.000000000', '2018-03-28T00:00:00.000000000',\n",
       "       '2018-04-01T00:00:00.000000000', '2018-04-03T00:00:00.000000000',\n",
       "       '2018-04-04T00:00:00.000000000', '2018-04-06T00:00:00.000000000',\n",
       "       '2018-04-08T00:00:00.000000000', '2018-04-09T00:00:00.000000000',\n",
       "       '2018-04-10T00:00:00.000000000', '2018-04-11T00:00:00.000000000',\n",
       "       '2018-04-12T00:00:00.000000000', '2018-04-13T00:00:00.000000000',\n",
       "       '2018-04-14T00:00:00.000000000', '2018-04-17T00:00:00.000000000',\n",
       "       '2018-04-18T00:00:00.000000000', '2018-04-19T00:00:00.000000000',\n",
       "       '2018-04-22T00:00:00.000000000', '2018-04-23T00:00:00.000000000',\n",
       "       '2018-04-24T00:00:00.000000000', '2018-04-25T00:00:00.000000000',\n",
       "       '2018-04-26T00:00:00.000000000', '2018-04-27T00:00:00.000000000',\n",
       "       '2018-04-28T00:00:00.000000000', '2018-04-29T00:00:00.000000000',\n",
       "       '2018-04-30T00:00:00.000000000', '2018-05-02T00:00:00.000000000',\n",
       "       '2018-05-03T00:00:00.000000000', '2018-05-04T00:00:00.000000000',\n",
       "       '2018-05-05T00:00:00.000000000', '2018-05-06T00:00:00.000000000',\n",
       "       '2018-05-07T00:00:00.000000000', '2018-05-08T00:00:00.000000000',\n",
       "       '2018-05-09T00:00:00.000000000', '2018-05-11T00:00:00.000000000',\n",
       "       '2018-05-12T00:00:00.000000000', '2018-05-14T00:00:00.000000000',\n",
       "       '2018-05-15T00:00:00.000000000', '2018-05-16T00:00:00.000000000',\n",
       "       '2018-05-19T00:00:00.000000000', '2018-05-20T00:00:00.000000000',\n",
       "       '2018-05-21T00:00:00.000000000', '2018-05-22T00:00:00.000000000',\n",
       "       '2018-05-23T00:00:00.000000000', '2018-05-25T00:00:00.000000000',\n",
       "       '2018-05-27T00:00:00.000000000', '2018-05-28T00:00:00.000000000',\n",
       "       '2018-05-29T00:00:00.000000000', '2018-05-31T00:00:00.000000000',\n",
       "       '2018-06-01T00:00:00.000000000', '2018-06-02T00:00:00.000000000',\n",
       "       '2018-06-03T00:00:00.000000000', '2018-06-04T00:00:00.000000000',\n",
       "       '2018-06-05T00:00:00.000000000', '2018-06-08T00:00:00.000000000',\n",
       "       '2018-06-09T00:00:00.000000000', '2018-06-12T00:00:00.000000000',\n",
       "       '2018-06-14T00:00:00.000000000', '2018-06-16T00:00:00.000000000',\n",
       "       '2018-06-17T00:00:00.000000000', '2018-06-18T00:00:00.000000000',\n",
       "       '2018-06-19T00:00:00.000000000', '2018-06-20T00:00:00.000000000',\n",
       "       '2018-06-21T00:00:00.000000000', '2018-06-22T00:00:00.000000000',\n",
       "       '2018-06-23T00:00:00.000000000', '2018-06-24T00:00:00.000000000',\n",
       "       '2018-06-25T00:00:00.000000000', '2018-06-26T00:00:00.000000000',\n",
       "       '2018-06-29T00:00:00.000000000', '2018-06-30T00:00:00.000000000',\n",
       "       '2018-07-01T00:00:00.000000000', '2018-07-02T00:00:00.000000000',\n",
       "       '2018-07-03T00:00:00.000000000', '2018-07-05T00:00:00.000000000',\n",
       "       '2018-07-06T00:00:00.000000000', '2018-07-08T00:00:00.000000000',\n",
       "       '2018-07-09T00:00:00.000000000', '2018-07-12T00:00:00.000000000',\n",
       "       '2018-07-13T00:00:00.000000000', '2018-07-14T00:00:00.000000000',\n",
       "       '2018-07-15T00:00:00.000000000', '2018-07-16T00:00:00.000000000',\n",
       "       '2018-07-17T00:00:00.000000000', '2018-07-18T00:00:00.000000000',\n",
       "       '2018-07-19T00:00:00.000000000', '2018-07-20T00:00:00.000000000',\n",
       "       '2018-07-21T00:00:00.000000000', '2018-07-25T00:00:00.000000000',\n",
       "       '2018-07-26T00:00:00.000000000', '2018-07-27T00:00:00.000000000',\n",
       "       '2018-07-28T00:00:00.000000000', '2018-07-29T00:00:00.000000000',\n",
       "       '2018-07-30T00:00:00.000000000', '2018-08-02T00:00:00.000000000',\n",
       "       '2018-08-03T00:00:00.000000000', '2018-08-04T00:00:00.000000000',\n",
       "       '2018-08-05T00:00:00.000000000', '2018-08-06T00:00:00.000000000',\n",
       "       '2018-08-07T00:00:00.000000000', '2018-08-09T00:00:00.000000000',\n",
       "       '2018-08-12T00:00:00.000000000', '2018-08-13T00:00:00.000000000',\n",
       "       '2018-08-14T00:00:00.000000000', '2018-08-15T00:00:00.000000000',\n",
       "       '2018-08-17T00:00:00.000000000', '2018-08-18T00:00:00.000000000',\n",
       "       '2018-08-19T00:00:00.000000000', '2018-08-20T00:00:00.000000000',\n",
       "       '2018-08-22T00:00:00.000000000', '2018-08-24T00:00:00.000000000',\n",
       "       '2018-08-25T00:00:00.000000000', '2018-08-26T00:00:00.000000000',\n",
       "       '2018-08-27T00:00:00.000000000', '2018-08-28T00:00:00.000000000',\n",
       "       '2018-08-29T00:00:00.000000000', '2018-08-30T00:00:00.000000000',\n",
       "       '2018-08-31T00:00:00.000000000', '2018-09-01T00:00:00.000000000',\n",
       "       '2018-09-02T00:00:00.000000000', '2018-09-03T00:00:00.000000000',\n",
       "       '2018-09-04T00:00:00.000000000', '2018-09-05T00:00:00.000000000',\n",
       "       '2018-09-07T00:00:00.000000000', '2018-09-09T00:00:00.000000000',\n",
       "       '2018-09-10T00:00:00.000000000', '2018-09-13T00:00:00.000000000',\n",
       "       '2018-09-14T00:00:00.000000000', '2018-09-15T00:00:00.000000000',\n",
       "       '2018-09-16T00:00:00.000000000', '2018-09-17T00:00:00.000000000',\n",
       "       '2018-09-19T00:00:00.000000000', '2018-09-20T00:00:00.000000000',\n",
       "       '2018-09-23T00:00:00.000000000', '2018-09-24T00:00:00.000000000',\n",
       "       '2018-09-26T00:00:00.000000000', '2018-09-27T00:00:00.000000000',\n",
       "       '2018-09-28T00:00:00.000000000', '2018-09-29T00:00:00.000000000',\n",
       "       '2018-09-30T00:00:00.000000000', '2018-10-02T00:00:00.000000000',\n",
       "       '2018-10-03T00:00:00.000000000', '2018-10-04T00:00:00.000000000',\n",
       "       '2018-10-05T00:00:00.000000000', '2018-10-06T00:00:00.000000000',\n",
       "       '2018-10-07T00:00:00.000000000', '2018-10-08T00:00:00.000000000',\n",
       "       '2018-10-09T00:00:00.000000000', '2018-10-10T00:00:00.000000000',\n",
       "       '2018-10-11T00:00:00.000000000', '2018-10-12T00:00:00.000000000',\n",
       "       '2018-10-13T00:00:00.000000000', '2018-10-14T00:00:00.000000000',\n",
       "       '2018-10-16T00:00:00.000000000', '2018-10-18T00:00:00.000000000',\n",
       "       '2018-10-19T00:00:00.000000000', '2018-10-21T00:00:00.000000000',\n",
       "       '2018-10-22T00:00:00.000000000', '2018-10-23T00:00:00.000000000',\n",
       "       '2018-10-24T00:00:00.000000000', '2018-10-25T00:00:00.000000000',\n",
       "       '2018-10-29T00:00:00.000000000', '2018-10-30T00:00:00.000000000',\n",
       "       '2018-10-31T00:00:00.000000000', '2018-11-01T00:00:00.000000000',\n",
       "       '2018-11-02T00:00:00.000000000', '2018-11-03T00:00:00.000000000',\n",
       "       '2018-11-04T00:00:00.000000000', '2018-11-05T00:00:00.000000000',\n",
       "       '2018-11-06T00:00:00.000000000', '2018-11-07T00:00:00.000000000',\n",
       "       '2018-11-09T00:00:00.000000000', '2018-11-11T00:00:00.000000000',\n",
       "       '2018-11-12T00:00:00.000000000', '2018-11-13T00:00:00.000000000',\n",
       "       '2018-11-14T00:00:00.000000000', '2018-11-16T00:00:00.000000000',\n",
       "       '2018-11-18T00:00:00.000000000', '2018-11-19T00:00:00.000000000',\n",
       "       '2018-11-21T00:00:00.000000000', '2018-11-22T00:00:00.000000000',\n",
       "       '2018-11-23T00:00:00.000000000', '2018-11-24T00:00:00.000000000',\n",
       "       '2018-11-25T00:00:00.000000000', '2018-11-27T00:00:00.000000000',\n",
       "       '2018-11-28T00:00:00.000000000', '2018-11-29T00:00:00.000000000',\n",
       "       '2018-11-30T00:00:00.000000000', '2018-12-01T00:00:00.000000000',\n",
       "       '2018-12-02T00:00:00.000000000', '2018-12-03T00:00:00.000000000',\n",
       "       '2018-12-04T00:00:00.000000000', '2018-12-06T00:00:00.000000000',\n",
       "       '2018-12-07T00:00:00.000000000', '2018-12-08T00:00:00.000000000',\n",
       "       '2018-12-10T00:00:00.000000000', '2018-12-12T00:00:00.000000000',\n",
       "       '2018-12-13T00:00:00.000000000', '2018-12-14T00:00:00.000000000',\n",
       "       '2018-12-15T00:00:00.000000000', '2018-12-17T00:00:00.000000000',\n",
       "       '2018-12-18T00:00:00.000000000', '2018-12-19T00:00:00.000000000',\n",
       "       '2018-12-20T00:00:00.000000000', '2018-12-21T00:00:00.000000000',\n",
       "       '2018-12-22T00:00:00.000000000', '2018-12-23T00:00:00.000000000',\n",
       "       '2018-12-29T00:00:00.000000000', '2018-12-30T00:00:00.000000000',\n",
       "       '2018-12-31T00:00:00.000000000'], dtype='datetime64[ns]')"
      ]
     },
     "execution_count": 221,
     "metadata": {},
     "output_type": "execute_result"
    }
   ],
   "source": [
    "df['reg_date'].sort_values().unique()\n",
    "#выведем Метод unique() для просмотра всех уникальных значений в столбце"
   ]
  },
  {
   "cell_type": "code",
   "execution_count": 222,
   "metadata": {},
   "outputs": [
    {
     "data": {
      "text/plain": [
       "0.00      19598\n",
       "197.56        9\n",
       "447.30        9\n",
       "335.91        9\n",
       "466.85        8\n",
       "          ...  \n",
       "152.25        1\n",
       "657.36        1\n",
       "71.00         1\n",
       "83.82         1\n",
       "120.67        1\n",
       "Name: mb_used, Length: 70003, dtype: int64"
      ]
     },
     "execution_count": 222,
     "metadata": {},
     "output_type": "execute_result"
    }
   ],
   "source": [
    "df['mb_used'].sort_values().value_counts()"
   ]
  },
  {
   "cell_type": "markdown",
   "metadata": {},
   "source": [
    "***Вывод***\n",
    "\n",
    "Ошибок в данных не установлено."
   ]
  },
  {
   "cell_type": "markdown",
   "metadata": {},
   "source": [
    "Дополнительно. \n",
    "Поскольку в ходе анализа данных установлены пропущенные звонки,  \n",
    "удалять их не будем, так как в ходе анализа мы исследуем среднее количество звонков.  \n",
    "При этом в ходе анализа мы не проводим анализ средней продолжительности звонков,  \n",
    "поэтому не будем исключать указанные звонки. Что касается нулевого значения интернета, также не будем их исключать, по аналогичной системе.\n"
   ]
  },
  {
   "cell_type": "markdown",
   "metadata": {},
   "source": [
    "### Шаг 3. Проведем исследовательский анализ данных"
   ]
  },
  {
   "cell_type": "markdown",
   "metadata": {},
   "source": [
    "Посчитаем для каждого пользователя количество сделанных звонков и израсходованных минут разговора по месяцам."
   ]
  },
  {
   "cell_type": "code",
   "execution_count": 223,
   "metadata": {
    "scrolled": true
   },
   "outputs": [
    {
     "data": {
      "text/html": [
       "<div>\n",
       "<style scoped>\n",
       "    .dataframe tbody tr th:only-of-type {\n",
       "        vertical-align: middle;\n",
       "    }\n",
       "\n",
       "    .dataframe tbody tr th {\n",
       "        vertical-align: top;\n",
       "    }\n",
       "\n",
       "    .dataframe thead th {\n",
       "        text-align: right;\n",
       "    }\n",
       "</style>\n",
       "<table border=\"1\" class=\"dataframe\">\n",
       "  <thead>\n",
       "    <tr style=\"text-align: right;\">\n",
       "      <th></th>\n",
       "      <th>minutes_included</th>\n",
       "      <th>call_date</th>\n",
       "      <th>user_id</th>\n",
       "      <th>rub_per_minute</th>\n",
       "      <th>rub_monthly_fee</th>\n",
       "      <th>tariff</th>\n",
       "      <th>duration_ceil</th>\n",
       "      <th>minutes_x</th>\n",
       "    </tr>\n",
       "  </thead>\n",
       "  <tbody>\n",
       "    <tr>\n",
       "      <td>0</td>\n",
       "      <td>500</td>\n",
       "      <td>1.00</td>\n",
       "      <td>1005</td>\n",
       "      <td>3</td>\n",
       "      <td>550</td>\n",
       "      <td>smart</td>\n",
       "      <td>95.00</td>\n",
       "      <td>405.00</td>\n",
       "    </tr>\n",
       "    <tr>\n",
       "      <td>1</td>\n",
       "      <td>500</td>\n",
       "      <td>1.00</td>\n",
       "      <td>1032</td>\n",
       "      <td>3</td>\n",
       "      <td>550</td>\n",
       "      <td>smart</td>\n",
       "      <td>380.00</td>\n",
       "      <td>120.00</td>\n",
       "    </tr>\n",
       "    <tr>\n",
       "      <td>2</td>\n",
       "      <td>500</td>\n",
       "      <td>1.00</td>\n",
       "      <td>1045</td>\n",
       "      <td>3</td>\n",
       "      <td>550</td>\n",
       "      <td>smart</td>\n",
       "      <td>9.00</td>\n",
       "      <td>491.00</td>\n",
       "    </tr>\n",
       "    <tr>\n",
       "      <td>3</td>\n",
       "      <td>500</td>\n",
       "      <td>1.00</td>\n",
       "      <td>1055</td>\n",
       "      <td>3</td>\n",
       "      <td>550</td>\n",
       "      <td>smart</td>\n",
       "      <td>551.00</td>\n",
       "      <td>-51.00</td>\n",
       "    </tr>\n",
       "    <tr>\n",
       "      <td>4</td>\n",
       "      <td>500</td>\n",
       "      <td>1.00</td>\n",
       "      <td>1071</td>\n",
       "      <td>3</td>\n",
       "      <td>550</td>\n",
       "      <td>smart</td>\n",
       "      <td>194.00</td>\n",
       "      <td>306.00</td>\n",
       "    </tr>\n",
       "    <tr>\n",
       "      <td>...</td>\n",
       "      <td>...</td>\n",
       "      <td>...</td>\n",
       "      <td>...</td>\n",
       "      <td>...</td>\n",
       "      <td>...</td>\n",
       "      <td>...</td>\n",
       "      <td>...</td>\n",
       "      <td>...</td>\n",
       "    </tr>\n",
       "    <tr>\n",
       "      <td>3169</td>\n",
       "      <td>3000</td>\n",
       "      <td>12.00</td>\n",
       "      <td>1476</td>\n",
       "      <td>1</td>\n",
       "      <td>1950</td>\n",
       "      <td>ultra</td>\n",
       "      <td>588.00</td>\n",
       "      <td>2,412.00</td>\n",
       "    </tr>\n",
       "    <tr>\n",
       "      <td>3170</td>\n",
       "      <td>3000</td>\n",
       "      <td>12.00</td>\n",
       "      <td>1485</td>\n",
       "      <td>1</td>\n",
       "      <td>1950</td>\n",
       "      <td>ultra</td>\n",
       "      <td>584.00</td>\n",
       "      <td>2,416.00</td>\n",
       "    </tr>\n",
       "    <tr>\n",
       "      <td>3171</td>\n",
       "      <td>3000</td>\n",
       "      <td>12.00</td>\n",
       "      <td>1491</td>\n",
       "      <td>1</td>\n",
       "      <td>1950</td>\n",
       "      <td>ultra</td>\n",
       "      <td>674.00</td>\n",
       "      <td>2,326.00</td>\n",
       "    </tr>\n",
       "    <tr>\n",
       "      <td>3172</td>\n",
       "      <td>3000</td>\n",
       "      <td>12.00</td>\n",
       "      <td>1493</td>\n",
       "      <td>1</td>\n",
       "      <td>1950</td>\n",
       "      <td>ultra</td>\n",
       "      <td>571.00</td>\n",
       "      <td>2,429.00</td>\n",
       "    </tr>\n",
       "    <tr>\n",
       "      <td>3173</td>\n",
       "      <td>3000</td>\n",
       "      <td>12.00</td>\n",
       "      <td>1495</td>\n",
       "      <td>1</td>\n",
       "      <td>1950</td>\n",
       "      <td>ultra</td>\n",
       "      <td>1,031.00</td>\n",
       "      <td>1,969.00</td>\n",
       "    </tr>\n",
       "  </tbody>\n",
       "</table>\n",
       "<p>3174 rows × 8 columns</p>\n",
       "</div>"
      ],
      "text/plain": [
       "      minutes_included  call_date  user_id  rub_per_minute  rub_monthly_fee  \\\n",
       "0                  500       1.00     1005               3              550   \n",
       "1                  500       1.00     1032               3              550   \n",
       "2                  500       1.00     1045               3              550   \n",
       "3                  500       1.00     1055               3              550   \n",
       "4                  500       1.00     1071               3              550   \n",
       "...                ...        ...      ...             ...              ...   \n",
       "3169              3000      12.00     1476               1             1950   \n",
       "3170              3000      12.00     1485               1             1950   \n",
       "3171              3000      12.00     1491               1             1950   \n",
       "3172              3000      12.00     1493               1             1950   \n",
       "3173              3000      12.00     1495               1             1950   \n",
       "\n",
       "     tariff  duration_ceil  minutes_x  \n",
       "0     smart          95.00     405.00  \n",
       "1     smart         380.00     120.00  \n",
       "2     smart           9.00     491.00  \n",
       "3     smart         551.00     -51.00  \n",
       "4     smart         194.00     306.00  \n",
       "...     ...            ...        ...  \n",
       "3169  ultra         588.00   2,412.00  \n",
       "3170  ultra         584.00   2,416.00  \n",
       "3171  ultra         674.00   2,326.00  \n",
       "3172  ultra         571.00   2,429.00  \n",
       "3173  ultra       1,031.00   1,969.00  \n",
       "\n",
       "[3174 rows x 8 columns]"
      ]
     },
     "execution_count": 223,
     "metadata": {},
     "output_type": "execute_result"
    }
   ],
   "source": [
    "df_callls = df.pivot_table(index=['minutes_included', 'call_date', 'user_id', 'rub_per_minute', 'rub_monthly_fee', 'tariff'], \n",
    "    values= 'duration_ceil', aggfunc='sum').reset_index()\n",
    "df_callls['minutes_x'] = df_callls['minutes_included']-df_callls['duration_ceil']\n",
    "df_callls"
   ]
  },
  {
   "cell_type": "code",
   "execution_count": 224,
   "metadata": {},
   "outputs": [
    {
     "data": {
      "text/html": [
       "<div>\n",
       "<style scoped>\n",
       "    .dataframe tbody tr th:only-of-type {\n",
       "        vertical-align: middle;\n",
       "    }\n",
       "\n",
       "    .dataframe tbody tr th {\n",
       "        vertical-align: top;\n",
       "    }\n",
       "\n",
       "    .dataframe thead th {\n",
       "        text-align: right;\n",
       "    }\n",
       "</style>\n",
       "<table border=\"1\" class=\"dataframe\">\n",
       "  <thead>\n",
       "    <tr style=\"text-align: right;\">\n",
       "      <th></th>\n",
       "      <th>user_id</th>\n",
       "      <th>month</th>\n",
       "      <th>duration</th>\n",
       "      <th>id</th>\n",
       "    </tr>\n",
       "  </thead>\n",
       "  <tbody>\n",
       "    <tr>\n",
       "      <td>0</td>\n",
       "      <td>1000</td>\n",
       "      <td>5</td>\n",
       "      <td>159.00</td>\n",
       "      <td>22</td>\n",
       "    </tr>\n",
       "    <tr>\n",
       "      <td>1</td>\n",
       "      <td>1000</td>\n",
       "      <td>6</td>\n",
       "      <td>172.00</td>\n",
       "      <td>43</td>\n",
       "    </tr>\n",
       "    <tr>\n",
       "      <td>2</td>\n",
       "      <td>1000</td>\n",
       "      <td>7</td>\n",
       "      <td>340.00</td>\n",
       "      <td>47</td>\n",
       "    </tr>\n",
       "    <tr>\n",
       "      <td>3</td>\n",
       "      <td>1000</td>\n",
       "      <td>8</td>\n",
       "      <td>408.00</td>\n",
       "      <td>52</td>\n",
       "    </tr>\n",
       "    <tr>\n",
       "      <td>4</td>\n",
       "      <td>1000</td>\n",
       "      <td>9</td>\n",
       "      <td>466.00</td>\n",
       "      <td>58</td>\n",
       "    </tr>\n",
       "    <tr>\n",
       "      <td>...</td>\n",
       "      <td>...</td>\n",
       "      <td>...</td>\n",
       "      <td>...</td>\n",
       "      <td>...</td>\n",
       "    </tr>\n",
       "    <tr>\n",
       "      <td>3169</td>\n",
       "      <td>1498</td>\n",
       "      <td>10</td>\n",
       "      <td>247.00</td>\n",
       "      <td>41</td>\n",
       "    </tr>\n",
       "    <tr>\n",
       "      <td>3170</td>\n",
       "      <td>1499</td>\n",
       "      <td>9</td>\n",
       "      <td>70.00</td>\n",
       "      <td>9</td>\n",
       "    </tr>\n",
       "    <tr>\n",
       "      <td>3171</td>\n",
       "      <td>1499</td>\n",
       "      <td>10</td>\n",
       "      <td>449.00</td>\n",
       "      <td>68</td>\n",
       "    </tr>\n",
       "    <tr>\n",
       "      <td>3172</td>\n",
       "      <td>1499</td>\n",
       "      <td>11</td>\n",
       "      <td>612.00</td>\n",
       "      <td>74</td>\n",
       "    </tr>\n",
       "    <tr>\n",
       "      <td>3173</td>\n",
       "      <td>1499</td>\n",
       "      <td>12</td>\n",
       "      <td>492.00</td>\n",
       "      <td>69</td>\n",
       "    </tr>\n",
       "  </tbody>\n",
       "</table>\n",
       "<p>3174 rows × 4 columns</p>\n",
       "</div>"
      ],
      "text/plain": [
       "      user_id  month  duration  id\n",
       "0        1000      5    159.00  22\n",
       "1        1000      6    172.00  43\n",
       "2        1000      7    340.00  47\n",
       "3        1000      8    408.00  52\n",
       "4        1000      9    466.00  58\n",
       "...       ...    ...       ...  ..\n",
       "3169     1498     10    247.00  41\n",
       "3170     1499      9     70.00   9\n",
       "3171     1499     10    449.00  68\n",
       "3172     1499     11    612.00  74\n",
       "3173     1499     12    492.00  69\n",
       "\n",
       "[3174 rows x 4 columns]"
      ]
     },
     "execution_count": 224,
     "metadata": {},
     "output_type": "execute_result"
    }
   ],
   "source": [
    "df_calls = pd.read_csv('https://code.s3.yandex.net/datasets/calls.csv')\n",
    "df_calls['duration'] = np.ceil(df_calls['duration'])\n",
    "df_calls['call_date'] = pd.to_datetime(df_calls['call_date'])\n",
    "df_calls['month'] = df_calls.call_date.dt.month\n",
    "\n",
    "calls_group = df_calls.groupby(['user_id', 'month'], as_index=False).agg({'duration': 'sum', 'id': 'count'})\n",
    "calls_group"
   ]
  },
  {
   "cell_type": "markdown",
   "metadata": {},
   "source": [
    "Посчитаем выручку, собранную с пользователей за переплату по минутам телефонных разговоров. "
   ]
  },
  {
   "cell_type": "code",
   "execution_count": 225,
   "metadata": {},
   "outputs": [
    {
     "name": "stderr",
     "output_type": "stream",
     "text": [
      "/opt/conda/lib/python3.7/site-packages/ipykernel_launcher.py:2: SettingWithCopyWarning:\n",
      "\n",
      "\n",
      "A value is trying to be set on a copy of a slice from a DataFrame.\n",
      "Try using .loc[row_indexer,col_indexer] = value instead\n",
      "\n",
      "See the caveats in the documentation: http://pandas.pydata.org/pandas-docs/stable/user_guide/indexing.html#returning-a-view-versus-a-copy\n",
      "\n"
     ]
    },
    {
     "data": {
      "text/plain": [
       "278217.0"
      ]
     },
     "execution_count": 225,
     "metadata": {},
     "output_type": "execute_result"
    }
   ],
   "source": [
    "df_callls_value = df_callls.query('minutes_x < 0')\n",
    "df_callls_value['value'] = df_callls_value['minutes_x']*(-1)*df_callls_value['rub_per_minute']\n",
    "df_callls_value['value'].sum()"
   ]
  },
  {
   "cell_type": "code",
   "execution_count": 226,
   "metadata": {},
   "outputs": [
    {
     "data": {
      "text/html": [
       "<div>\n",
       "<style scoped>\n",
       "    .dataframe tbody tr th:only-of-type {\n",
       "        vertical-align: middle;\n",
       "    }\n",
       "\n",
       "    .dataframe tbody tr th {\n",
       "        vertical-align: top;\n",
       "    }\n",
       "\n",
       "    .dataframe thead th {\n",
       "        text-align: right;\n",
       "    }\n",
       "</style>\n",
       "<table border=\"1\" class=\"dataframe\">\n",
       "  <thead>\n",
       "    <tr style=\"text-align: right;\">\n",
       "      <th></th>\n",
       "      <th>user_id</th>\n",
       "      <th>month</th>\n",
       "      <th>duration</th>\n",
       "      <th>id</th>\n",
       "      <th>tariff</th>\n",
       "      <th>minutes_included</th>\n",
       "      <th>rub_per_minute</th>\n",
       "      <th>min_over_lim</th>\n",
       "      <th>rub_over_lim</th>\n",
       "    </tr>\n",
       "  </thead>\n",
       "  <tbody>\n",
       "    <tr>\n",
       "      <td>0</td>\n",
       "      <td>1000</td>\n",
       "      <td>5</td>\n",
       "      <td>159.00</td>\n",
       "      <td>22</td>\n",
       "      <td>ultra</td>\n",
       "      <td>3000</td>\n",
       "      <td>1</td>\n",
       "      <td>0.00</td>\n",
       "      <td>0.00</td>\n",
       "    </tr>\n",
       "    <tr>\n",
       "      <td>1</td>\n",
       "      <td>1000</td>\n",
       "      <td>6</td>\n",
       "      <td>172.00</td>\n",
       "      <td>43</td>\n",
       "      <td>ultra</td>\n",
       "      <td>3000</td>\n",
       "      <td>1</td>\n",
       "      <td>0.00</td>\n",
       "      <td>0.00</td>\n",
       "    </tr>\n",
       "    <tr>\n",
       "      <td>2</td>\n",
       "      <td>1000</td>\n",
       "      <td>7</td>\n",
       "      <td>340.00</td>\n",
       "      <td>47</td>\n",
       "      <td>ultra</td>\n",
       "      <td>3000</td>\n",
       "      <td>1</td>\n",
       "      <td>0.00</td>\n",
       "      <td>0.00</td>\n",
       "    </tr>\n",
       "    <tr>\n",
       "      <td>3</td>\n",
       "      <td>1000</td>\n",
       "      <td>8</td>\n",
       "      <td>408.00</td>\n",
       "      <td>52</td>\n",
       "      <td>ultra</td>\n",
       "      <td>3000</td>\n",
       "      <td>1</td>\n",
       "      <td>0.00</td>\n",
       "      <td>0.00</td>\n",
       "    </tr>\n",
       "    <tr>\n",
       "      <td>4</td>\n",
       "      <td>1000</td>\n",
       "      <td>9</td>\n",
       "      <td>466.00</td>\n",
       "      <td>58</td>\n",
       "      <td>ultra</td>\n",
       "      <td>3000</td>\n",
       "      <td>1</td>\n",
       "      <td>0.00</td>\n",
       "      <td>0.00</td>\n",
       "    </tr>\n",
       "    <tr>\n",
       "      <td>...</td>\n",
       "      <td>...</td>\n",
       "      <td>...</td>\n",
       "      <td>...</td>\n",
       "      <td>...</td>\n",
       "      <td>...</td>\n",
       "      <td>...</td>\n",
       "      <td>...</td>\n",
       "      <td>...</td>\n",
       "      <td>...</td>\n",
       "    </tr>\n",
       "    <tr>\n",
       "      <td>3169</td>\n",
       "      <td>1498</td>\n",
       "      <td>10</td>\n",
       "      <td>247.00</td>\n",
       "      <td>41</td>\n",
       "      <td>smart</td>\n",
       "      <td>500</td>\n",
       "      <td>3</td>\n",
       "      <td>0.00</td>\n",
       "      <td>0.00</td>\n",
       "    </tr>\n",
       "    <tr>\n",
       "      <td>3170</td>\n",
       "      <td>1499</td>\n",
       "      <td>9</td>\n",
       "      <td>70.00</td>\n",
       "      <td>9</td>\n",
       "      <td>smart</td>\n",
       "      <td>500</td>\n",
       "      <td>3</td>\n",
       "      <td>0.00</td>\n",
       "      <td>0.00</td>\n",
       "    </tr>\n",
       "    <tr>\n",
       "      <td>3171</td>\n",
       "      <td>1499</td>\n",
       "      <td>10</td>\n",
       "      <td>449.00</td>\n",
       "      <td>68</td>\n",
       "      <td>smart</td>\n",
       "      <td>500</td>\n",
       "      <td>3</td>\n",
       "      <td>0.00</td>\n",
       "      <td>0.00</td>\n",
       "    </tr>\n",
       "    <tr>\n",
       "      <td>3172</td>\n",
       "      <td>1499</td>\n",
       "      <td>11</td>\n",
       "      <td>612.00</td>\n",
       "      <td>74</td>\n",
       "      <td>smart</td>\n",
       "      <td>500</td>\n",
       "      <td>3</td>\n",
       "      <td>112.00</td>\n",
       "      <td>336.00</td>\n",
       "    </tr>\n",
       "    <tr>\n",
       "      <td>3173</td>\n",
       "      <td>1499</td>\n",
       "      <td>12</td>\n",
       "      <td>492.00</td>\n",
       "      <td>69</td>\n",
       "      <td>smart</td>\n",
       "      <td>500</td>\n",
       "      <td>3</td>\n",
       "      <td>0.00</td>\n",
       "      <td>0.00</td>\n",
       "    </tr>\n",
       "  </tbody>\n",
       "</table>\n",
       "<p>3174 rows × 9 columns</p>\n",
       "</div>"
      ],
      "text/plain": [
       "      user_id  month  duration  id tariff  minutes_included  rub_per_minute  \\\n",
       "0        1000      5    159.00  22  ultra              3000               1   \n",
       "1        1000      6    172.00  43  ultra              3000               1   \n",
       "2        1000      7    340.00  47  ultra              3000               1   \n",
       "3        1000      8    408.00  52  ultra              3000               1   \n",
       "4        1000      9    466.00  58  ultra              3000               1   \n",
       "...       ...    ...       ...  ..    ...               ...             ...   \n",
       "3169     1498     10    247.00  41  smart               500               3   \n",
       "3170     1499      9     70.00   9  smart               500               3   \n",
       "3171     1499     10    449.00  68  smart               500               3   \n",
       "3172     1499     11    612.00  74  smart               500               3   \n",
       "3173     1499     12    492.00  69  smart               500               3   \n",
       "\n",
       "      min_over_lim  rub_over_lim  \n",
       "0             0.00          0.00  \n",
       "1             0.00          0.00  \n",
       "2             0.00          0.00  \n",
       "3             0.00          0.00  \n",
       "4             0.00          0.00  \n",
       "...            ...           ...  \n",
       "3169          0.00          0.00  \n",
       "3170          0.00          0.00  \n",
       "3171          0.00          0.00  \n",
       "3172        112.00        336.00  \n",
       "3173          0.00          0.00  \n",
       "\n",
       "[3174 rows x 9 columns]"
      ]
     },
     "execution_count": 226,
     "metadata": {},
     "output_type": "execute_result"
    }
   ],
   "source": [
    "calls_group = calls_group.merge(data_users[['user_id', 'tariff']], how='left', on='user_id')\n",
    "calls_group = calls_group.merge(data_tariffs[['tariff', 'minutes_included', 'rub_per_minute']], how='left', on='tariff')\n",
    "calls_group['min_over_lim'] = [max(x-y, 0) for x,y in zip(calls_group['duration'], calls_group['minutes_included'])]\n",
    "calls_group['rub_over_lim'] = calls_group['min_over_lim'] * calls_group['rub_per_minute']\n",
    "calls_group"
   ]
  },
  {
   "cell_type": "markdown",
   "metadata": {},
   "source": [
    "Сумма выручки за переплату за телефонные разговоры составила 278217 рублей."
   ]
  },
  {
   "cell_type": "markdown",
   "metadata": {},
   "source": [
    "Посчитаем для каждого пользователя количество отправленных сообщений по месяцам."
   ]
  },
  {
   "cell_type": "code",
   "execution_count": 227,
   "metadata": {},
   "outputs": [
    {
     "data": {
      "text/html": [
       "<div>\n",
       "<style scoped>\n",
       "    .dataframe tbody tr th:only-of-type {\n",
       "        vertical-align: middle;\n",
       "    }\n",
       "\n",
       "    .dataframe tbody tr th {\n",
       "        vertical-align: top;\n",
       "    }\n",
       "\n",
       "    .dataframe thead th {\n",
       "        text-align: right;\n",
       "    }\n",
       "</style>\n",
       "<table border=\"1\" class=\"dataframe\">\n",
       "  <thead>\n",
       "    <tr style=\"text-align: right;\">\n",
       "      <th></th>\n",
       "      <th></th>\n",
       "      <th>id</th>\n",
       "    </tr>\n",
       "    <tr>\n",
       "      <th>message_date</th>\n",
       "      <th>user_id</th>\n",
       "      <th></th>\n",
       "    </tr>\n",
       "  </thead>\n",
       "  <tbody>\n",
       "    <tr>\n",
       "      <td rowspan=\"5\" valign=\"top\">1.00</td>\n",
       "      <td>1005</td>\n",
       "      <td>7</td>\n",
       "    </tr>\n",
       "    <tr>\n",
       "      <td>1032</td>\n",
       "      <td>38</td>\n",
       "    </tr>\n",
       "    <tr>\n",
       "      <td>1045</td>\n",
       "      <td>5</td>\n",
       "    </tr>\n",
       "    <tr>\n",
       "      <td>1055</td>\n",
       "      <td>30</td>\n",
       "    </tr>\n",
       "    <tr>\n",
       "      <td>1071</td>\n",
       "      <td>16</td>\n",
       "    </tr>\n",
       "    <tr>\n",
       "      <td>...</td>\n",
       "      <td>...</td>\n",
       "      <td>...</td>\n",
       "    </tr>\n",
       "    <tr>\n",
       "      <td rowspan=\"5\" valign=\"top\">12.00</td>\n",
       "      <td>1493</td>\n",
       "      <td>78</td>\n",
       "    </tr>\n",
       "    <tr>\n",
       "      <td>1495</td>\n",
       "      <td>84</td>\n",
       "    </tr>\n",
       "    <tr>\n",
       "      <td>1496</td>\n",
       "      <td>51</td>\n",
       "    </tr>\n",
       "    <tr>\n",
       "      <td>1497</td>\n",
       "      <td>17</td>\n",
       "    </tr>\n",
       "    <tr>\n",
       "      <td>1499</td>\n",
       "      <td>66</td>\n",
       "    </tr>\n",
       "  </tbody>\n",
       "</table>\n",
       "<p>2717 rows × 1 columns</p>\n",
       "</div>"
      ],
      "text/plain": [
       "                      id\n",
       "message_date user_id    \n",
       "1.00         1005      7\n",
       "             1032     38\n",
       "             1045      5\n",
       "             1055     30\n",
       "             1071     16\n",
       "...                   ..\n",
       "12.00        1493     78\n",
       "             1495     84\n",
       "             1496     51\n",
       "             1497     17\n",
       "             1499     66\n",
       "\n",
       "[2717 rows x 1 columns]"
      ]
     },
     "execution_count": 227,
     "metadata": {},
     "output_type": "execute_result"
    }
   ],
   "source": [
    "df.pivot_table(index=['message_date','user_id'], values='id', aggfunc='count')"
   ]
  },
  {
   "cell_type": "markdown",
   "metadata": {},
   "source": [
    "Посчитаем для каждого пользователя объем израсходованного интернет-трафика по месяцам"
   ]
  },
  {
   "cell_type": "code",
   "execution_count": 228,
   "metadata": {},
   "outputs": [
    {
     "data": {
      "text/html": [
       "<div>\n",
       "<style scoped>\n",
       "    .dataframe tbody tr th:only-of-type {\n",
       "        vertical-align: middle;\n",
       "    }\n",
       "\n",
       "    .dataframe tbody tr th {\n",
       "        vertical-align: top;\n",
       "    }\n",
       "\n",
       "    .dataframe thead th {\n",
       "        text-align: right;\n",
       "    }\n",
       "</style>\n",
       "<table border=\"1\" class=\"dataframe\">\n",
       "  <thead>\n",
       "    <tr style=\"text-align: right;\">\n",
       "      <th></th>\n",
       "      <th>mb_per_month_included</th>\n",
       "      <th>session_date</th>\n",
       "      <th>user_id</th>\n",
       "      <th>rub_per_gb</th>\n",
       "      <th>tariff</th>\n",
       "      <th>mb_used</th>\n",
       "      <th>gig</th>\n",
       "    </tr>\n",
       "  </thead>\n",
       "  <tbody>\n",
       "    <tr>\n",
       "      <td>0</td>\n",
       "      <td>15360</td>\n",
       "      <td>1.00</td>\n",
       "      <td>1005</td>\n",
       "      <td>200</td>\n",
       "      <td>smart</td>\n",
       "      <td>2,727.97</td>\n",
       "      <td>12,632.03</td>\n",
       "    </tr>\n",
       "    <tr>\n",
       "      <td>1</td>\n",
       "      <td>15360</td>\n",
       "      <td>1.00</td>\n",
       "      <td>1032</td>\n",
       "      <td>200</td>\n",
       "      <td>smart</td>\n",
       "      <td>24,127.69</td>\n",
       "      <td>-8,767.69</td>\n",
       "    </tr>\n",
       "    <tr>\n",
       "      <td>2</td>\n",
       "      <td>15360</td>\n",
       "      <td>1.00</td>\n",
       "      <td>1045</td>\n",
       "      <td>200</td>\n",
       "      <td>smart</td>\n",
       "      <td>2,346.71</td>\n",
       "      <td>13,013.29</td>\n",
       "    </tr>\n",
       "    <tr>\n",
       "      <td>3</td>\n",
       "      <td>15360</td>\n",
       "      <td>1.00</td>\n",
       "      <td>1055</td>\n",
       "      <td>200</td>\n",
       "      <td>smart</td>\n",
       "      <td>17,090.88</td>\n",
       "      <td>-1,730.88</td>\n",
       "    </tr>\n",
       "    <tr>\n",
       "      <td>4</td>\n",
       "      <td>15360</td>\n",
       "      <td>1.00</td>\n",
       "      <td>1071</td>\n",
       "      <td>200</td>\n",
       "      <td>smart</td>\n",
       "      <td>15,604.34</td>\n",
       "      <td>-244.34</td>\n",
       "    </tr>\n",
       "    <tr>\n",
       "      <td>...</td>\n",
       "      <td>...</td>\n",
       "      <td>...</td>\n",
       "      <td>...</td>\n",
       "      <td>...</td>\n",
       "      <td>...</td>\n",
       "      <td>...</td>\n",
       "      <td>...</td>\n",
       "    </tr>\n",
       "    <tr>\n",
       "      <td>3198</td>\n",
       "      <td>30720</td>\n",
       "      <td>12.00</td>\n",
       "      <td>1476</td>\n",
       "      <td>150</td>\n",
       "      <td>ultra</td>\n",
       "      <td>14,121.34</td>\n",
       "      <td>16,598.66</td>\n",
       "    </tr>\n",
       "    <tr>\n",
       "      <td>3199</td>\n",
       "      <td>30720</td>\n",
       "      <td>12.00</td>\n",
       "      <td>1485</td>\n",
       "      <td>150</td>\n",
       "      <td>ultra</td>\n",
       "      <td>23,422.76</td>\n",
       "      <td>7,297.24</td>\n",
       "    </tr>\n",
       "    <tr>\n",
       "      <td>3200</td>\n",
       "      <td>30720</td>\n",
       "      <td>12.00</td>\n",
       "      <td>1491</td>\n",
       "      <td>150</td>\n",
       "      <td>ultra</td>\n",
       "      <td>22,061.69</td>\n",
       "      <td>8,658.31</td>\n",
       "    </tr>\n",
       "    <tr>\n",
       "      <td>3201</td>\n",
       "      <td>30720</td>\n",
       "      <td>12.00</td>\n",
       "      <td>1493</td>\n",
       "      <td>150</td>\n",
       "      <td>ultra</td>\n",
       "      <td>42,735.18</td>\n",
       "      <td>-12,015.18</td>\n",
       "    </tr>\n",
       "    <tr>\n",
       "      <td>3202</td>\n",
       "      <td>30720</td>\n",
       "      <td>12.00</td>\n",
       "      <td>1495</td>\n",
       "      <td>150</td>\n",
       "      <td>ultra</td>\n",
       "      <td>23,426.76</td>\n",
       "      <td>7,293.24</td>\n",
       "    </tr>\n",
       "  </tbody>\n",
       "</table>\n",
       "<p>3203 rows × 7 columns</p>\n",
       "</div>"
      ],
      "text/plain": [
       "      mb_per_month_included  session_date  user_id  rub_per_gb tariff  \\\n",
       "0                     15360          1.00     1005         200  smart   \n",
       "1                     15360          1.00     1032         200  smart   \n",
       "2                     15360          1.00     1045         200  smart   \n",
       "3                     15360          1.00     1055         200  smart   \n",
       "4                     15360          1.00     1071         200  smart   \n",
       "...                     ...           ...      ...         ...    ...   \n",
       "3198                  30720         12.00     1476         150  ultra   \n",
       "3199                  30720         12.00     1485         150  ultra   \n",
       "3200                  30720         12.00     1491         150  ultra   \n",
       "3201                  30720         12.00     1493         150  ultra   \n",
       "3202                  30720         12.00     1495         150  ultra   \n",
       "\n",
       "       mb_used        gig  \n",
       "0     2,727.97  12,632.03  \n",
       "1    24,127.69  -8,767.69  \n",
       "2     2,346.71  13,013.29  \n",
       "3    17,090.88  -1,730.88  \n",
       "4    15,604.34    -244.34  \n",
       "...        ...        ...  \n",
       "3198 14,121.34  16,598.66  \n",
       "3199 23,422.76   7,297.24  \n",
       "3200 22,061.69   8,658.31  \n",
       "3201 42,735.18 -12,015.18  \n",
       "3202 23,426.76   7,293.24  \n",
       "\n",
       "[3203 rows x 7 columns]"
      ]
     },
     "execution_count": 228,
     "metadata": {},
     "output_type": "execute_result"
    }
   ],
   "source": [
    "df_internet = df.pivot_table(index=['mb_per_month_included', 'session_date', 'user_id', 'rub_per_gb', 'tariff'], \n",
    "    values='mb_used', aggfunc='sum').reset_index()\n",
    "df_internet['gig'] = df_internet['mb_per_month_included']-df_internet['mb_used']\n",
    "df_internet"
   ]
  },
  {
   "cell_type": "markdown",
   "metadata": {},
   "source": [
    "Посчитаем выручку, собранную с пользователей за переплату за интернет-трафик. "
   ]
  },
  {
   "cell_type": "code",
   "execution_count": 229,
   "metadata": {},
   "outputs": [
    {
     "name": "stderr",
     "output_type": "stream",
     "text": [
      "/opt/conda/lib/python3.7/site-packages/ipykernel_launcher.py:2: SettingWithCopyWarning:\n",
      "\n",
      "\n",
      "A value is trying to be set on a copy of a slice from a DataFrame.\n",
      "Try using .loc[row_indexer,col_indexer] = value instead\n",
      "\n",
      "See the caveats in the documentation: http://pandas.pydata.org/pandas-docs/stable/user_guide/indexing.html#returning-a-view-versus-a-copy\n",
      "\n",
      "/opt/conda/lib/python3.7/site-packages/ipykernel_launcher.py:3: SettingWithCopyWarning:\n",
      "\n",
      "\n",
      "A value is trying to be set on a copy of a slice from a DataFrame.\n",
      "Try using .loc[row_indexer,col_indexer] = value instead\n",
      "\n",
      "See the caveats in the documentation: http://pandas.pydata.org/pandas-docs/stable/user_guide/indexing.html#returning-a-view-versus-a-copy\n",
      "\n"
     ]
    },
    {
     "data": {
      "text/plain": [
       "1450750.0"
      ]
     },
     "execution_count": 229,
     "metadata": {},
     "output_type": "execute_result"
    }
   ],
   "source": [
    "df_smart = df_internet.query('gig < 0')\n",
    "df_smart['gig'] = (df_smart['gig']*(-1/1024)).apply(np.ceil)\n",
    "df_smart['value'] = df_smart['gig']*df_smart['rub_per_gb']\n",
    "df_smart['value'].sum()"
   ]
  },
  {
   "cell_type": "markdown",
   "metadata": {},
   "source": [
    "Посчитаем помесячную выручку с каждого пользователя (вычтем бесплатный лимит из суммарного количества звонков, сообщений и интернет-трафика; остаток умножим на значение из тарифного плана; прибавим абонентскую плату, соответствующую тарифному плану)."
   ]
  },
  {
   "cell_type": "code",
   "execution_count": 230,
   "metadata": {},
   "outputs": [
    {
     "data": {
      "text/html": [
       "<div>\n",
       "<style scoped>\n",
       "    .dataframe tbody tr th:only-of-type {\n",
       "        vertical-align: middle;\n",
       "    }\n",
       "\n",
       "    .dataframe tbody tr th {\n",
       "        vertical-align: top;\n",
       "    }\n",
       "\n",
       "    .dataframe thead th {\n",
       "        text-align: right;\n",
       "    }\n",
       "</style>\n",
       "<table border=\"1\" class=\"dataframe\">\n",
       "  <thead>\n",
       "    <tr style=\"text-align: right;\">\n",
       "      <th></th>\n",
       "      <th>user_id</th>\n",
       "      <th>session_date</th>\n",
       "      <th>duration</th>\n",
       "    </tr>\n",
       "  </thead>\n",
       "  <tbody>\n",
       "    <tr>\n",
       "      <td>0</td>\n",
       "      <td>1000</td>\n",
       "      <td>5.00</td>\n",
       "      <td>159.00</td>\n",
       "    </tr>\n",
       "    <tr>\n",
       "      <td>1</td>\n",
       "      <td>1000</td>\n",
       "      <td>6.00</td>\n",
       "      <td>172.00</td>\n",
       "    </tr>\n",
       "    <tr>\n",
       "      <td>2</td>\n",
       "      <td>1000</td>\n",
       "      <td>7.00</td>\n",
       "      <td>340.00</td>\n",
       "    </tr>\n",
       "    <tr>\n",
       "      <td>3</td>\n",
       "      <td>1000</td>\n",
       "      <td>8.00</td>\n",
       "      <td>408.00</td>\n",
       "    </tr>\n",
       "    <tr>\n",
       "      <td>4</td>\n",
       "      <td>1000</td>\n",
       "      <td>9.00</td>\n",
       "      <td>466.00</td>\n",
       "    </tr>\n",
       "    <tr>\n",
       "      <td>...</td>\n",
       "      <td>...</td>\n",
       "      <td>...</td>\n",
       "      <td>...</td>\n",
       "    </tr>\n",
       "    <tr>\n",
       "      <td>3169</td>\n",
       "      <td>1498</td>\n",
       "      <td>10.00</td>\n",
       "      <td>247.00</td>\n",
       "    </tr>\n",
       "    <tr>\n",
       "      <td>3170</td>\n",
       "      <td>1499</td>\n",
       "      <td>9.00</td>\n",
       "      <td>70.00</td>\n",
       "    </tr>\n",
       "    <tr>\n",
       "      <td>3171</td>\n",
       "      <td>1499</td>\n",
       "      <td>10.00</td>\n",
       "      <td>449.00</td>\n",
       "    </tr>\n",
       "    <tr>\n",
       "      <td>3172</td>\n",
       "      <td>1499</td>\n",
       "      <td>11.00</td>\n",
       "      <td>612.00</td>\n",
       "    </tr>\n",
       "    <tr>\n",
       "      <td>3173</td>\n",
       "      <td>1499</td>\n",
       "      <td>12.00</td>\n",
       "      <td>492.00</td>\n",
       "    </tr>\n",
       "  </tbody>\n",
       "</table>\n",
       "<p>3174 rows × 3 columns</p>\n",
       "</div>"
      ],
      "text/plain": [
       "      user_id  session_date  duration\n",
       "0        1000          5.00    159.00\n",
       "1        1000          6.00    172.00\n",
       "2        1000          7.00    340.00\n",
       "3        1000          8.00    408.00\n",
       "4        1000          9.00    466.00\n",
       "...       ...           ...       ...\n",
       "3169     1498         10.00    247.00\n",
       "3170     1499          9.00     70.00\n",
       "3171     1499         10.00    449.00\n",
       "3172     1499         11.00    612.00\n",
       "3173     1499         12.00    492.00\n",
       "\n",
       "[3174 rows x 3 columns]"
      ]
     },
     "execution_count": 230,
     "metadata": {},
     "output_type": "execute_result"
    }
   ],
   "source": [
    "#создадим таблицу по каждому пользователю с указанием месяца и количества совершенных телефонных звонков\n",
    "df_calls_per_user = df_callls\n",
    "df_calls_per_user = df_calls_per_user.pivot_table(index=['user_id', 'call_date'], values='duration_ceil', aggfunc='sum').reset_index()\n",
    "df_calls_per_user['session_date'] = df_calls_per_user['call_date']#для дальнейшего объединения таблиц переименуем столбец\n",
    "df_calls_per_user['duration'] = df_calls_per_user['duration_ceil']#переименуем столбец для дальнейшего более удобного использования\n",
    "df_calls_per_user = df_calls_per_user[['user_id', 'session_date', 'duration']]\n",
    "df_calls_per_user"
   ]
  },
  {
   "cell_type": "code",
   "execution_count": 231,
   "metadata": {},
   "outputs": [
    {
     "data": {
      "text/html": [
       "<div>\n",
       "<style scoped>\n",
       "    .dataframe tbody tr th:only-of-type {\n",
       "        vertical-align: middle;\n",
       "    }\n",
       "\n",
       "    .dataframe tbody tr th {\n",
       "        vertical-align: top;\n",
       "    }\n",
       "\n",
       "    .dataframe thead th {\n",
       "        text-align: right;\n",
       "    }\n",
       "</style>\n",
       "<table border=\"1\" class=\"dataframe\">\n",
       "  <thead>\n",
       "    <tr style=\"text-align: right;\">\n",
       "      <th></th>\n",
       "      <th>user_id</th>\n",
       "      <th>session_date</th>\n",
       "      <th>duration</th>\n",
       "      <th>mb_per_month_included</th>\n",
       "      <th>rub_per_gb</th>\n",
       "      <th>tariff</th>\n",
       "      <th>mb_used</th>\n",
       "      <th>gig</th>\n",
       "    </tr>\n",
       "  </thead>\n",
       "  <tbody>\n",
       "    <tr>\n",
       "      <td>0</td>\n",
       "      <td>1000</td>\n",
       "      <td>5.00</td>\n",
       "      <td>159.00</td>\n",
       "      <td>30,720.00</td>\n",
       "      <td>150.00</td>\n",
       "      <td>ultra</td>\n",
       "      <td>2,253.49</td>\n",
       "      <td>28,466.51</td>\n",
       "    </tr>\n",
       "    <tr>\n",
       "      <td>1</td>\n",
       "      <td>1000</td>\n",
       "      <td>6.00</td>\n",
       "      <td>172.00</td>\n",
       "      <td>30,720.00</td>\n",
       "      <td>150.00</td>\n",
       "      <td>ultra</td>\n",
       "      <td>23,233.77</td>\n",
       "      <td>7,486.23</td>\n",
       "    </tr>\n",
       "    <tr>\n",
       "      <td>2</td>\n",
       "      <td>1000</td>\n",
       "      <td>7.00</td>\n",
       "      <td>340.00</td>\n",
       "      <td>30,720.00</td>\n",
       "      <td>150.00</td>\n",
       "      <td>ultra</td>\n",
       "      <td>14,003.64</td>\n",
       "      <td>16,716.36</td>\n",
       "    </tr>\n",
       "    <tr>\n",
       "      <td>3</td>\n",
       "      <td>1000</td>\n",
       "      <td>8.00</td>\n",
       "      <td>408.00</td>\n",
       "      <td>30,720.00</td>\n",
       "      <td>150.00</td>\n",
       "      <td>ultra</td>\n",
       "      <td>14,055.93</td>\n",
       "      <td>16,664.07</td>\n",
       "    </tr>\n",
       "    <tr>\n",
       "      <td>4</td>\n",
       "      <td>1000</td>\n",
       "      <td>9.00</td>\n",
       "      <td>466.00</td>\n",
       "      <td>30,720.00</td>\n",
       "      <td>150.00</td>\n",
       "      <td>ultra</td>\n",
       "      <td>14,568.91</td>\n",
       "      <td>16,151.09</td>\n",
       "    </tr>\n",
       "  </tbody>\n",
       "</table>\n",
       "</div>"
      ],
      "text/plain": [
       "   user_id  session_date  duration  mb_per_month_included  rub_per_gb tariff  \\\n",
       "0     1000          5.00    159.00              30,720.00      150.00  ultra   \n",
       "1     1000          6.00    172.00              30,720.00      150.00  ultra   \n",
       "2     1000          7.00    340.00              30,720.00      150.00  ultra   \n",
       "3     1000          8.00    408.00              30,720.00      150.00  ultra   \n",
       "4     1000          9.00    466.00              30,720.00      150.00  ultra   \n",
       "\n",
       "    mb_used       gig  \n",
       "0  2,253.49 28,466.51  \n",
       "1 23,233.77  7,486.23  \n",
       "2 14,003.64 16,716.36  \n",
       "3 14,055.93 16,664.07  \n",
       "4 14,568.91 16,151.09  "
      ]
     },
     "execution_count": 231,
     "metadata": {},
     "output_type": "execute_result"
    }
   ],
   "source": [
    "df_calls_per_user = df_calls_per_user.merge(df_internet, on=['user_id', 'session_date'], how='outer')\n",
    "df_calls_per_user.head()#объединим таблицы df_calls_per_user и df_internet чтобы посчитатть помесячную выручку"
   ]
  },
  {
   "cell_type": "code",
   "execution_count": 232,
   "metadata": {},
   "outputs": [
    {
     "data": {
      "text/html": [
       "<div>\n",
       "<style scoped>\n",
       "    .dataframe tbody tr th:only-of-type {\n",
       "        vertical-align: middle;\n",
       "    }\n",
       "\n",
       "    .dataframe tbody tr th {\n",
       "        vertical-align: top;\n",
       "    }\n",
       "\n",
       "    .dataframe thead th {\n",
       "        text-align: right;\n",
       "    }\n",
       "</style>\n",
       "<table border=\"1\" class=\"dataframe\">\n",
       "  <thead>\n",
       "    <tr style=\"text-align: right;\">\n",
       "      <th></th>\n",
       "      <th>id</th>\n",
       "      <th>message_date</th>\n",
       "      <th>user_id</th>\n",
       "      <th>session_date</th>\n",
       "    </tr>\n",
       "  </thead>\n",
       "  <tbody>\n",
       "    <tr>\n",
       "      <td>0</td>\n",
       "      <td>1000_0</td>\n",
       "      <td>2018-06-27</td>\n",
       "      <td>1000</td>\n",
       "      <td>6</td>\n",
       "    </tr>\n",
       "    <tr>\n",
       "      <td>1</td>\n",
       "      <td>1000_1</td>\n",
       "      <td>2018-10-08</td>\n",
       "      <td>1000</td>\n",
       "      <td>10</td>\n",
       "    </tr>\n",
       "    <tr>\n",
       "      <td>2</td>\n",
       "      <td>1000_2</td>\n",
       "      <td>2018-08-04</td>\n",
       "      <td>1000</td>\n",
       "      <td>8</td>\n",
       "    </tr>\n",
       "    <tr>\n",
       "      <td>3</td>\n",
       "      <td>1000_3</td>\n",
       "      <td>2018-06-16</td>\n",
       "      <td>1000</td>\n",
       "      <td>6</td>\n",
       "    </tr>\n",
       "    <tr>\n",
       "      <td>4</td>\n",
       "      <td>1000_4</td>\n",
       "      <td>2018-12-05</td>\n",
       "      <td>1000</td>\n",
       "      <td>12</td>\n",
       "    </tr>\n",
       "  </tbody>\n",
       "</table>\n",
       "</div>"
      ],
      "text/plain": [
       "       id message_date  user_id  session_date\n",
       "0  1000_0   2018-06-27     1000             6\n",
       "1  1000_1   2018-10-08     1000            10\n",
       "2  1000_2   2018-08-04     1000             8\n",
       "3  1000_3   2018-06-16     1000             6\n",
       "4  1000_4   2018-12-05     1000            12"
      ]
     },
     "execution_count": 232,
     "metadata": {},
     "output_type": "execute_result"
    }
   ],
   "source": [
    "#создадим столбец session_date, содержащий сведения о месяце отправления сообщения \n",
    "data_messages['session_date'] = pd.DatetimeIndex(data_messages['message_date']).month\n",
    "data_messages.head()"
   ]
  },
  {
   "cell_type": "code",
   "execution_count": 233,
   "metadata": {},
   "outputs": [
    {
     "data": {
      "text/html": [
       "<div>\n",
       "<style scoped>\n",
       "    .dataframe tbody tr th:only-of-type {\n",
       "        vertical-align: middle;\n",
       "    }\n",
       "\n",
       "    .dataframe tbody tr th {\n",
       "        vertical-align: top;\n",
       "    }\n",
       "\n",
       "    .dataframe thead th {\n",
       "        text-align: right;\n",
       "    }\n",
       "</style>\n",
       "<table border=\"1\" class=\"dataframe\">\n",
       "  <thead>\n",
       "    <tr style=\"text-align: right;\">\n",
       "      <th></th>\n",
       "      <th>user_id</th>\n",
       "      <th>month</th>\n",
       "      <th>duration_sum</th>\n",
       "      <th>calls_cnt</th>\n",
       "      <th>mb_used</th>\n",
       "      <th>gb_used</th>\n",
       "      <th>messages_cnt</th>\n",
       "      <th>tariff</th>\n",
       "      <th>city</th>\n",
       "    </tr>\n",
       "  </thead>\n",
       "  <tbody>\n",
       "    <tr>\n",
       "      <td>0</td>\n",
       "      <td>1000</td>\n",
       "      <td>5</td>\n",
       "      <td>159.00</td>\n",
       "      <td>22.00</td>\n",
       "      <td>2,253.49</td>\n",
       "      <td>3.00</td>\n",
       "      <td>22.00</td>\n",
       "      <td>ultra</td>\n",
       "      <td>Краснодар</td>\n",
       "    </tr>\n",
       "    <tr>\n",
       "      <td>1</td>\n",
       "      <td>1000</td>\n",
       "      <td>6</td>\n",
       "      <td>172.00</td>\n",
       "      <td>43.00</td>\n",
       "      <td>23,233.77</td>\n",
       "      <td>23.00</td>\n",
       "      <td>60.00</td>\n",
       "      <td>ultra</td>\n",
       "      <td>Краснодар</td>\n",
       "    </tr>\n",
       "    <tr>\n",
       "      <td>2</td>\n",
       "      <td>1000</td>\n",
       "      <td>7</td>\n",
       "      <td>340.00</td>\n",
       "      <td>47.00</td>\n",
       "      <td>14,003.64</td>\n",
       "      <td>14.00</td>\n",
       "      <td>75.00</td>\n",
       "      <td>ultra</td>\n",
       "      <td>Краснодар</td>\n",
       "    </tr>\n",
       "    <tr>\n",
       "      <td>3</td>\n",
       "      <td>1000</td>\n",
       "      <td>8</td>\n",
       "      <td>408.00</td>\n",
       "      <td>52.00</td>\n",
       "      <td>14,055.93</td>\n",
       "      <td>14.00</td>\n",
       "      <td>81.00</td>\n",
       "      <td>ultra</td>\n",
       "      <td>Краснодар</td>\n",
       "    </tr>\n",
       "    <tr>\n",
       "      <td>4</td>\n",
       "      <td>1000</td>\n",
       "      <td>9</td>\n",
       "      <td>466.00</td>\n",
       "      <td>58.00</td>\n",
       "      <td>14,568.91</td>\n",
       "      <td>15.00</td>\n",
       "      <td>57.00</td>\n",
       "      <td>ultra</td>\n",
       "      <td>Краснодар</td>\n",
       "    </tr>\n",
       "    <tr>\n",
       "      <td>...</td>\n",
       "      <td>...</td>\n",
       "      <td>...</td>\n",
       "      <td>...</td>\n",
       "      <td>...</td>\n",
       "      <td>...</td>\n",
       "      <td>...</td>\n",
       "      <td>...</td>\n",
       "      <td>...</td>\n",
       "      <td>...</td>\n",
       "    </tr>\n",
       "    <tr>\n",
       "      <td>3209</td>\n",
       "      <td>1489</td>\n",
       "      <td>8</td>\n",
       "      <td>0.00</td>\n",
       "      <td>0.00</td>\n",
       "      <td>11,050.56</td>\n",
       "      <td>11.00</td>\n",
       "      <td>17.00</td>\n",
       "      <td>smart</td>\n",
       "      <td>Санкт-Петербург</td>\n",
       "    </tr>\n",
       "    <tr>\n",
       "      <td>3210</td>\n",
       "      <td>1489</td>\n",
       "      <td>9</td>\n",
       "      <td>0.00</td>\n",
       "      <td>0.00</td>\n",
       "      <td>17,206.30</td>\n",
       "      <td>17.00</td>\n",
       "      <td>32.00</td>\n",
       "      <td>smart</td>\n",
       "      <td>Санкт-Петербург</td>\n",
       "    </tr>\n",
       "    <tr>\n",
       "      <td>3211</td>\n",
       "      <td>1489</td>\n",
       "      <td>10</td>\n",
       "      <td>0.00</td>\n",
       "      <td>0.00</td>\n",
       "      <td>19,559.44</td>\n",
       "      <td>20.00</td>\n",
       "      <td>21.00</td>\n",
       "      <td>smart</td>\n",
       "      <td>Санкт-Петербург</td>\n",
       "    </tr>\n",
       "    <tr>\n",
       "      <td>3212</td>\n",
       "      <td>1489</td>\n",
       "      <td>11</td>\n",
       "      <td>0.00</td>\n",
       "      <td>0.00</td>\n",
       "      <td>17,491.56</td>\n",
       "      <td>18.00</td>\n",
       "      <td>20.00</td>\n",
       "      <td>smart</td>\n",
       "      <td>Санкт-Петербург</td>\n",
       "    </tr>\n",
       "    <tr>\n",
       "      <td>3213</td>\n",
       "      <td>1489</td>\n",
       "      <td>12</td>\n",
       "      <td>0.00</td>\n",
       "      <td>0.00</td>\n",
       "      <td>17,322.51</td>\n",
       "      <td>17.00</td>\n",
       "      <td>35.00</td>\n",
       "      <td>smart</td>\n",
       "      <td>Санкт-Петербург</td>\n",
       "    </tr>\n",
       "  </tbody>\n",
       "</table>\n",
       "<p>3214 rows × 9 columns</p>\n",
       "</div>"
      ],
      "text/plain": [
       "      user_id  month  duration_sum  calls_cnt   mb_used  gb_used  \\\n",
       "0        1000      5        159.00      22.00  2,253.49     3.00   \n",
       "1        1000      6        172.00      43.00 23,233.77    23.00   \n",
       "2        1000      7        340.00      47.00 14,003.64    14.00   \n",
       "3        1000      8        408.00      52.00 14,055.93    14.00   \n",
       "4        1000      9        466.00      58.00 14,568.91    15.00   \n",
       "...       ...    ...           ...        ...       ...      ...   \n",
       "3209     1489      8          0.00       0.00 11,050.56    11.00   \n",
       "3210     1489      9          0.00       0.00 17,206.30    17.00   \n",
       "3211     1489     10          0.00       0.00 19,559.44    20.00   \n",
       "3212     1489     11          0.00       0.00 17,491.56    18.00   \n",
       "3213     1489     12          0.00       0.00 17,322.51    17.00   \n",
       "\n",
       "      messages_cnt tariff             city  \n",
       "0            22.00  ultra        Краснодар  \n",
       "1            60.00  ultra        Краснодар  \n",
       "2            75.00  ultra        Краснодар  \n",
       "3            81.00  ultra        Краснодар  \n",
       "4            57.00  ultra        Краснодар  \n",
       "...            ...    ...              ...  \n",
       "3209         17.00  smart  Санкт-Петербург  \n",
       "3210         32.00  smart  Санкт-Петербург  \n",
       "3211         21.00  smart  Санкт-Петербург  \n",
       "3212         20.00  smart  Санкт-Петербург  \n",
       "3213         35.00  smart  Санкт-Петербург  \n",
       "\n",
       "[3214 rows x 9 columns]"
      ]
     },
     "execution_count": 233,
     "metadata": {},
     "output_type": "execute_result"
    }
   ],
   "source": [
    "df_calls = pd.read_csv('https://code.s3.yandex.net/datasets/calls.csv')\n",
    "df_internet = pd.read_csv('https://code.s3.yandex.net/datasets/internet.csv')\n",
    "df_messages = pd.read_csv('https://code.s3.yandex.net/datasets/messages.csv')\n",
    "df_tariffs = pd.read_csv('https://code.s3.yandex.net/datasets/tariffs.csv', index_col = 'tariff_name')\n",
    "df_users = pd.read_csv('https://code.s3.yandex.net/datasets/users.csv')\n",
    "df_internet = df_internet.drop(columns='Unnamed: 0')\n",
    "df_calls['duration'] = np.ceil(df_calls['duration'])\n",
    "\n",
    "df_messages['message_date'] = pd.to_datetime(df_messages['message_date'])\n",
    "df_internet['session_date'] = pd.to_datetime(df_internet['session_date'])\n",
    "df_calls['call_date'] = pd.to_datetime(df_calls['call_date'])\n",
    "\n",
    "df_messages['month'] = df_messages['message_date'].dt.month\n",
    "df_internet['month'] = df_internet['session_date'].dt.month\n",
    "df_calls['month'] = df_calls.call_date.dt.month\n",
    "\n",
    "calls_group = df_calls.groupby(['user_id', 'month'], as_index=False).agg({'duration': 'sum', 'id': 'count'})\n",
    "internet_group = df_internet.groupby(['user_id', 'month'], as_index=False).agg({'mb_used': 'sum'})\n",
    "messages_group = df_messages.groupby(['user_id', 'month'], as_index=False).agg({'id': 'count'})\n",
    "\n",
    "internet_group['gb_used'] = np.ceil(internet_group['mb_used'] / 1024)\n",
    "\n",
    "calls_group = calls_group.rename(columns={'duration': 'duration_sum', 'id': 'calls_cnt'})\n",
    "messages_group = messages_group.rename(columns={'id': 'messages_cnt'})\n",
    "\n",
    "df_tariff_plan = df_users[['user_id', 'tariff', 'city']]\n",
    "\n",
    "df_final = calls_group.merge(internet_group, on=['user_id', 'month'], how='outer')\n",
    "df_final = df_final.merge(messages_group, on=['user_id', 'month'], how='outer')\n",
    "df_final = df_final.merge(df_tariff_plan, on='user_id', how='inner')\n",
    "\n",
    "df_final = df_final.fillna(0)\n",
    "df_final"
   ]
  },
  {
   "cell_type": "code",
   "execution_count": 234,
   "metadata": {},
   "outputs": [
    {
     "data": {
      "text/html": [
       "<div>\n",
       "<style scoped>\n",
       "    .dataframe tbody tr th:only-of-type {\n",
       "        vertical-align: middle;\n",
       "    }\n",
       "\n",
       "    .dataframe tbody tr th {\n",
       "        vertical-align: top;\n",
       "    }\n",
       "\n",
       "    .dataframe thead th {\n",
       "        text-align: right;\n",
       "    }\n",
       "</style>\n",
       "<table border=\"1\" class=\"dataframe\">\n",
       "  <thead>\n",
       "    <tr style=\"text-align: right;\">\n",
       "      <th></th>\n",
       "      <th>user_id</th>\n",
       "      <th>month</th>\n",
       "      <th>duration_sum</th>\n",
       "      <th>calls_cnt</th>\n",
       "      <th>mb_used</th>\n",
       "      <th>gb_used</th>\n",
       "      <th>messages_cnt</th>\n",
       "      <th>tariff</th>\n",
       "      <th>city</th>\n",
       "      <th>df_city</th>\n",
       "      <th>messages_included</th>\n",
       "      <th>mb_per_month_included</th>\n",
       "      <th>minutes_included</th>\n",
       "      <th>rub_monthly_fee</th>\n",
       "      <th>rub_per_gb</th>\n",
       "      <th>rub_per_message</th>\n",
       "      <th>rub_per_minute</th>\n",
       "    </tr>\n",
       "  </thead>\n",
       "  <tbody>\n",
       "    <tr>\n",
       "      <td>0</td>\n",
       "      <td>1000</td>\n",
       "      <td>5</td>\n",
       "      <td>159.00</td>\n",
       "      <td>22.00</td>\n",
       "      <td>2,253.49</td>\n",
       "      <td>3.00</td>\n",
       "      <td>22.00</td>\n",
       "      <td>ultra</td>\n",
       "      <td>Краснодар</td>\n",
       "      <td>Другой регион</td>\n",
       "      <td>1000</td>\n",
       "      <td>30720</td>\n",
       "      <td>3000</td>\n",
       "      <td>1950</td>\n",
       "      <td>150</td>\n",
       "      <td>1</td>\n",
       "      <td>1</td>\n",
       "    </tr>\n",
       "    <tr>\n",
       "      <td>1</td>\n",
       "      <td>1000</td>\n",
       "      <td>6</td>\n",
       "      <td>172.00</td>\n",
       "      <td>43.00</td>\n",
       "      <td>23,233.77</td>\n",
       "      <td>23.00</td>\n",
       "      <td>60.00</td>\n",
       "      <td>ultra</td>\n",
       "      <td>Краснодар</td>\n",
       "      <td>Другой регион</td>\n",
       "      <td>1000</td>\n",
       "      <td>30720</td>\n",
       "      <td>3000</td>\n",
       "      <td>1950</td>\n",
       "      <td>150</td>\n",
       "      <td>1</td>\n",
       "      <td>1</td>\n",
       "    </tr>\n",
       "    <tr>\n",
       "      <td>2</td>\n",
       "      <td>1000</td>\n",
       "      <td>7</td>\n",
       "      <td>340.00</td>\n",
       "      <td>47.00</td>\n",
       "      <td>14,003.64</td>\n",
       "      <td>14.00</td>\n",
       "      <td>75.00</td>\n",
       "      <td>ultra</td>\n",
       "      <td>Краснодар</td>\n",
       "      <td>Другой регион</td>\n",
       "      <td>1000</td>\n",
       "      <td>30720</td>\n",
       "      <td>3000</td>\n",
       "      <td>1950</td>\n",
       "      <td>150</td>\n",
       "      <td>1</td>\n",
       "      <td>1</td>\n",
       "    </tr>\n",
       "    <tr>\n",
       "      <td>3</td>\n",
       "      <td>1000</td>\n",
       "      <td>8</td>\n",
       "      <td>408.00</td>\n",
       "      <td>52.00</td>\n",
       "      <td>14,055.93</td>\n",
       "      <td>14.00</td>\n",
       "      <td>81.00</td>\n",
       "      <td>ultra</td>\n",
       "      <td>Краснодар</td>\n",
       "      <td>Другой регион</td>\n",
       "      <td>1000</td>\n",
       "      <td>30720</td>\n",
       "      <td>3000</td>\n",
       "      <td>1950</td>\n",
       "      <td>150</td>\n",
       "      <td>1</td>\n",
       "      <td>1</td>\n",
       "    </tr>\n",
       "    <tr>\n",
       "      <td>4</td>\n",
       "      <td>1000</td>\n",
       "      <td>9</td>\n",
       "      <td>466.00</td>\n",
       "      <td>58.00</td>\n",
       "      <td>14,568.91</td>\n",
       "      <td>15.00</td>\n",
       "      <td>57.00</td>\n",
       "      <td>ultra</td>\n",
       "      <td>Краснодар</td>\n",
       "      <td>Другой регион</td>\n",
       "      <td>1000</td>\n",
       "      <td>30720</td>\n",
       "      <td>3000</td>\n",
       "      <td>1950</td>\n",
       "      <td>150</td>\n",
       "      <td>1</td>\n",
       "      <td>1</td>\n",
       "    </tr>\n",
       "  </tbody>\n",
       "</table>\n",
       "</div>"
      ],
      "text/plain": [
       "   user_id  month  duration_sum  calls_cnt   mb_used  gb_used  messages_cnt  \\\n",
       "0     1000      5        159.00      22.00  2,253.49     3.00         22.00   \n",
       "1     1000      6        172.00      43.00 23,233.77    23.00         60.00   \n",
       "2     1000      7        340.00      47.00 14,003.64    14.00         75.00   \n",
       "3     1000      8        408.00      52.00 14,055.93    14.00         81.00   \n",
       "4     1000      9        466.00      58.00 14,568.91    15.00         57.00   \n",
       "\n",
       "  tariff       city        df_city  messages_included  mb_per_month_included  \\\n",
       "0  ultra  Краснодар  Другой регион               1000                  30720   \n",
       "1  ultra  Краснодар  Другой регион               1000                  30720   \n",
       "2  ultra  Краснодар  Другой регион               1000                  30720   \n",
       "3  ultra  Краснодар  Другой регион               1000                  30720   \n",
       "4  ultra  Краснодар  Другой регион               1000                  30720   \n",
       "\n",
       "   minutes_included  rub_monthly_fee  rub_per_gb  rub_per_message  \\\n",
       "0              3000             1950         150                1   \n",
       "1              3000             1950         150                1   \n",
       "2              3000             1950         150                1   \n",
       "3              3000             1950         150                1   \n",
       "4              3000             1950         150                1   \n",
       "\n",
       "   rub_per_minute  \n",
       "0               1  \n",
       "1               1  \n",
       "2               1  \n",
       "3               1  \n",
       "4               1  "
      ]
     },
     "metadata": {},
     "output_type": "display_data"
    }
   ],
   "source": [
    "# Сгруппируем города в 2 категории: Москва и Другой регион. Используем метод Where() : Если не выполняется условие - первый параметр, то значение заменяется на второй параметр\n",
    "df_final['df_city'] = df_final['city'].where(df_final['city'] == 'Москва', 'Другой регион')\n",
    "df_final\n",
    "df_final = df_final.merge(data_tariffs, on='tariff', how='left')\n",
    "display(df_final.head())"
   ]
  },
  {
   "cell_type": "code",
   "execution_count": 235,
   "metadata": {},
   "outputs": [
    {
     "data": {
      "text/html": [
       "<div>\n",
       "<style scoped>\n",
       "    .dataframe tbody tr th:only-of-type {\n",
       "        vertical-align: middle;\n",
       "    }\n",
       "\n",
       "    .dataframe tbody tr th {\n",
       "        vertical-align: top;\n",
       "    }\n",
       "\n",
       "    .dataframe thead th {\n",
       "        text-align: right;\n",
       "    }\n",
       "</style>\n",
       "<table border=\"1\" class=\"dataframe\">\n",
       "  <thead>\n",
       "    <tr style=\"text-align: right;\">\n",
       "      <th></th>\n",
       "      <th>user_id</th>\n",
       "      <th>month</th>\n",
       "      <th>duration_sum</th>\n",
       "      <th>calls_cnt</th>\n",
       "      <th>mb_used</th>\n",
       "      <th>gb_used</th>\n",
       "      <th>messages_cnt</th>\n",
       "      <th>tariff</th>\n",
       "      <th>city</th>\n",
       "      <th>df_city</th>\n",
       "      <th>...</th>\n",
       "      <th>mb_per_month_included</th>\n",
       "      <th>minutes_included</th>\n",
       "      <th>rub_monthly_fee</th>\n",
       "      <th>rub_per_gb</th>\n",
       "      <th>rub_per_message</th>\n",
       "      <th>rub_per_minute</th>\n",
       "      <th>giga_x</th>\n",
       "      <th>mess_x</th>\n",
       "      <th>call_x</th>\n",
       "      <th>paid</th>\n",
       "    </tr>\n",
       "  </thead>\n",
       "  <tbody>\n",
       "    <tr>\n",
       "      <td>3108</td>\n",
       "      <td>1486</td>\n",
       "      <td>12</td>\n",
       "      <td>1,007.00</td>\n",
       "      <td>133.00</td>\n",
       "      <td>38,552.45</td>\n",
       "      <td>38.00</td>\n",
       "      <td>83.00</td>\n",
       "      <td>smart</td>\n",
       "      <td>Нижний Новгород</td>\n",
       "      <td>Другой регион</td>\n",
       "      <td>...</td>\n",
       "      <td>15360</td>\n",
       "      <td>500</td>\n",
       "      <td>550</td>\n",
       "      <td>200</td>\n",
       "      <td>3</td>\n",
       "      <td>3</td>\n",
       "      <td>23.00</td>\n",
       "      <td>33.00</td>\n",
       "      <td>507.00</td>\n",
       "      <td>6,770.00</td>\n",
       "    </tr>\n",
       "    <tr>\n",
       "      <td>260</td>\n",
       "      <td>1042</td>\n",
       "      <td>12</td>\n",
       "      <td>728.00</td>\n",
       "      <td>121.00</td>\n",
       "      <td>37,165.69</td>\n",
       "      <td>37.00</td>\n",
       "      <td>75.00</td>\n",
       "      <td>smart</td>\n",
       "      <td>Хабаровск</td>\n",
       "      <td>Другой регион</td>\n",
       "      <td>...</td>\n",
       "      <td>15360</td>\n",
       "      <td>500</td>\n",
       "      <td>550</td>\n",
       "      <td>200</td>\n",
       "      <td>3</td>\n",
       "      <td>3</td>\n",
       "      <td>22.00</td>\n",
       "      <td>25.00</td>\n",
       "      <td>228.00</td>\n",
       "      <td>5,709.00</td>\n",
       "    </tr>\n",
       "    <tr>\n",
       "      <td>3107</td>\n",
       "      <td>1486</td>\n",
       "      <td>11</td>\n",
       "      <td>764.00</td>\n",
       "      <td>108.00</td>\n",
       "      <td>36,266.11</td>\n",
       "      <td>36.00</td>\n",
       "      <td>96.00</td>\n",
       "      <td>smart</td>\n",
       "      <td>Нижний Новгород</td>\n",
       "      <td>Другой регион</td>\n",
       "      <td>...</td>\n",
       "      <td>15360</td>\n",
       "      <td>500</td>\n",
       "      <td>550</td>\n",
       "      <td>200</td>\n",
       "      <td>3</td>\n",
       "      <td>3</td>\n",
       "      <td>21.00</td>\n",
       "      <td>46.00</td>\n",
       "      <td>264.00</td>\n",
       "      <td>5,680.00</td>\n",
       "    </tr>\n",
       "    <tr>\n",
       "      <td>1622</td>\n",
       "      <td>1261</td>\n",
       "      <td>12</td>\n",
       "      <td>1,074.00</td>\n",
       "      <td>141.00</td>\n",
       "      <td>32,650.91</td>\n",
       "      <td>32.00</td>\n",
       "      <td>22.00</td>\n",
       "      <td>smart</td>\n",
       "      <td>Казань</td>\n",
       "      <td>Другой регион</td>\n",
       "      <td>...</td>\n",
       "      <td>15360</td>\n",
       "      <td>500</td>\n",
       "      <td>550</td>\n",
       "      <td>200</td>\n",
       "      <td>3</td>\n",
       "      <td>3</td>\n",
       "      <td>17.00</td>\n",
       "      <td>0.00</td>\n",
       "      <td>574.00</td>\n",
       "      <td>5,672.00</td>\n",
       "    </tr>\n",
       "    <tr>\n",
       "      <td>1793</td>\n",
       "      <td>1286</td>\n",
       "      <td>12</td>\n",
       "      <td>739.00</td>\n",
       "      <td>95.00</td>\n",
       "      <td>35,108.07</td>\n",
       "      <td>35.00</td>\n",
       "      <td>68.00</td>\n",
       "      <td>smart</td>\n",
       "      <td>Москва</td>\n",
       "      <td>Москва</td>\n",
       "      <td>...</td>\n",
       "      <td>15360</td>\n",
       "      <td>500</td>\n",
       "      <td>550</td>\n",
       "      <td>200</td>\n",
       "      <td>3</td>\n",
       "      <td>3</td>\n",
       "      <td>20.00</td>\n",
       "      <td>18.00</td>\n",
       "      <td>239.00</td>\n",
       "      <td>5,321.00</td>\n",
       "    </tr>\n",
       "  </tbody>\n",
       "</table>\n",
       "<p>5 rows × 21 columns</p>\n",
       "</div>"
      ],
      "text/plain": [
       "      user_id  month  duration_sum  calls_cnt   mb_used  gb_used  \\\n",
       "3108     1486     12      1,007.00     133.00 38,552.45    38.00   \n",
       "260      1042     12        728.00     121.00 37,165.69    37.00   \n",
       "3107     1486     11        764.00     108.00 36,266.11    36.00   \n",
       "1622     1261     12      1,074.00     141.00 32,650.91    32.00   \n",
       "1793     1286     12        739.00      95.00 35,108.07    35.00   \n",
       "\n",
       "      messages_cnt tariff             city        df_city  ...  \\\n",
       "3108         83.00  smart  Нижний Новгород  Другой регион  ...   \n",
       "260          75.00  smart        Хабаровск  Другой регион  ...   \n",
       "3107         96.00  smart  Нижний Новгород  Другой регион  ...   \n",
       "1622         22.00  smart           Казань  Другой регион  ...   \n",
       "1793         68.00  smart           Москва         Москва  ...   \n",
       "\n",
       "      mb_per_month_included  minutes_included  rub_monthly_fee  rub_per_gb  \\\n",
       "3108                  15360               500              550         200   \n",
       "260                   15360               500              550         200   \n",
       "3107                  15360               500              550         200   \n",
       "1622                  15360               500              550         200   \n",
       "1793                  15360               500              550         200   \n",
       "\n",
       "      rub_per_message  rub_per_minute  giga_x  mess_x  call_x     paid  \n",
       "3108                3               3   23.00   33.00  507.00 6,770.00  \n",
       "260                 3               3   22.00   25.00  228.00 5,709.00  \n",
       "3107                3               3   21.00   46.00  264.00 5,680.00  \n",
       "1622                3               3   17.00    0.00  574.00 5,672.00  \n",
       "1793                3               3   20.00   18.00  239.00 5,321.00  \n",
       "\n",
       "[5 rows x 21 columns]"
      ]
     },
     "execution_count": 235,
     "metadata": {},
     "output_type": "execute_result"
    }
   ],
   "source": [
    "# создадим функцию для того, чтобы посчитать значения для переплаты \n",
    "def my_max(a):\n",
    "    if a > 0:\n",
    "        return a\n",
    "    else:\n",
    "        return 0\n",
    "df_final['giga_x'] = (df_final['gb_used'] - (df_final['mb_per_month_included'])/1024).apply(my_max).apply(np.ceil)#посчитаем интернет-трафик, выходящий за тариф\n",
    "df_final['mess_x'] = (df_final['messages_cnt'] - df_final['messages_included']).apply(my_max)#посчатем количество сообщений, выходящих за тариф\n",
    "df_final['call_x'] = (df_final['duration_sum'] - df_final['minutes_included']).apply(my_max)# посчаетм количество минут, выъодящих за тариф\n",
    "#посчитаем помесячную выручку с каждого пользователя\n",
    "df_final['paid'] = df_final['rub_monthly_fee'] + df_final['giga_x'] * df_final['rub_per_gb'] + df_final['call_x'] * df_final['rub_per_minute'] + df_final['mess_x'] * df_final['rub_per_message']\n",
    "df_final.sort_values(by='paid', ascending=False).head()#выведем таблицу на экран\n"
   ]
  },
  {
   "cell_type": "code",
   "execution_count": 236,
   "metadata": {},
   "outputs": [
    {
     "data": {
      "text/html": [
       "<div>\n",
       "<style scoped>\n",
       "    .dataframe tbody tr th:only-of-type {\n",
       "        vertical-align: middle;\n",
       "    }\n",
       "\n",
       "    .dataframe tbody tr th {\n",
       "        vertical-align: top;\n",
       "    }\n",
       "\n",
       "    .dataframe thead tr th {\n",
       "        text-align: left;\n",
       "    }\n",
       "</style>\n",
       "<table border=\"1\" class=\"dataframe\">\n",
       "  <thead>\n",
       "    <tr>\n",
       "      <th></th>\n",
       "      <th>tariff</th>\n",
       "      <th>count_</th>\n",
       "      <th>sum_</th>\n",
       "      <th>mean_</th>\n",
       "      <th>median_</th>\n",
       "      <th>fee</th>\n",
       "      <th>overpayment, %</th>\n",
       "    </tr>\n",
       "    <tr>\n",
       "      <th></th>\n",
       "      <th></th>\n",
       "      <th></th>\n",
       "      <th></th>\n",
       "      <th></th>\n",
       "      <th></th>\n",
       "      <th></th>\n",
       "      <th></th>\n",
       "    </tr>\n",
       "  </thead>\n",
       "  <tbody>\n",
       "    <tr>\n",
       "      <td>0</td>\n",
       "      <td>smart</td>\n",
       "      <td>2229</td>\n",
       "      <td>2,875,351.00</td>\n",
       "      <td>1,289.97</td>\n",
       "      <td>1,023.00</td>\n",
       "      <td>550</td>\n",
       "      <td>134.54</td>\n",
       "    </tr>\n",
       "    <tr>\n",
       "      <td>1</td>\n",
       "      <td>ultra</td>\n",
       "      <td>985</td>\n",
       "      <td>2,039,100.00</td>\n",
       "      <td>2,070.15</td>\n",
       "      <td>1,950.00</td>\n",
       "      <td>1950</td>\n",
       "      <td>6.16</td>\n",
       "    </tr>\n",
       "  </tbody>\n",
       "</table>\n",
       "</div>"
      ],
      "text/plain": [
       "  tariff count_         sum_    mean_  median_   fee overpayment, %\n",
       "                                                                   \n",
       "0  smart   2229 2,875,351.00 1,289.97 1,023.00   550         134.54\n",
       "1  ultra    985 2,039,100.00 2,070.15 1,950.00  1950           6.16"
      ]
     },
     "execution_count": 236,
     "metadata": {},
     "output_type": "execute_result"
    }
   ],
   "source": [
    "#создадим таблицу со сведениями (в разбивке по тарифам) об общей выручке, средней и медианной ежемесячной выручке, количестве оплат по каждому тарифу(в течение года)\n",
    "df_final_paid = df_final.pivot_table(index=['tariff'], values='paid', aggfunc=['count', 'sum', 'mean', 'median'])\n",
    "df_final_paid['count_'] = df_final_paid['count']['paid']\n",
    "df_final_paid['sum_'] = df_final_paid['sum']['paid']\n",
    "df_final_paid['mean_'] = df_final_paid['mean']['paid']\n",
    "df_final_paid['median_'] = df_final_paid['median']['paid']\n",
    "df_final_paid = df_final_paid[['count_', 'sum_', 'mean_', 'median_']]\n",
    "df_final_paid = df_final_paid.reset_index()\n",
    "#создадим функцию для заполнения ежемесячной суммы оплаты по каждому тарифу\n",
    "def tarif(f):\n",
    "    if f == 'ultra':\n",
    "        return 1950\n",
    "    else:\n",
    "        return 550\n",
    "#добавим в таблицу % среднемесячную переплату по каждому тарифу \n",
    "df_final_paid['fee'] = df_final_paid['tariff'].apply(tarif)\n",
    "df_final_paid['overpayment, %'] = (df_final_paid['mean_']-df_final_paid['fee'])/df_final_paid['fee']*100\n",
    "df_final_paid"
   ]
  },
  {
   "cell_type": "code",
   "execution_count": 238,
   "metadata": {},
   "outputs": [
    {
     "data": {
      "image/png": "[encoded data removed]",
      "text/plain": [
       "<Figure size 432x288 with 1 Axes>"
      ]
     },
     "metadata": {
      "needs_background": "light"
     },
     "output_type": "display_data"
    }
   ],
   "source": [
    "for tariff in ['ultra', 'smart']:\n",
    "    sns.distplot(df_final.query('tariff==@tariff')['paid'], kde=False)\n",
    "legend = plt.legend(['ultra', 'smart'])\n",
    "plt.title('Гистограмма оплаты')#название графика\n",
    "plt.xlabel('Сумма оплаты')#название оси абсцисс\n",
    "plt.ylabel('Количество произведенных оплат')#название оси ординат\n",
    "plt.show()#выведем график"
   ]
  },
  {
   "cell_type": "markdown",
   "metadata": {},
   "source": [
    "Как видно из представленного графика, мода тарифа ультра ярко выражена и находится на границе ежемесячной стоимости по тарифу ультра. "
   ]
  },
  {
   "cell_type": "markdown",
   "metadata": {},
   "source": [
    "***Вывод***\n",
    "\n",
    "Общая выручка больше по тарифу smart, несмотря на то, что тариф дешевле, так как указанный тариф популярнее. При этом среднее значение ежемесячной выручки по тарифу smart составляет 1294.97 руб., что составляет 135.45% от стоимости тарифа, при этом это на 33.6% дешевле, чем оплата по тарифу ultra.\n"
   ]
  },
  {
   "cell_type": "markdown",
   "metadata": {},
   "source": [
    "### Шаг 4. Проведем анализ данных"
   ]
  },
  {
   "cell_type": "markdown",
   "metadata": {},
   "source": [
    "Опишим поведение клиентов оператора, исходя из выборки. Сколько минут разговора, сколько сообщений и какой объём интернет-трафика требуется пользователям каждого тарифа в месяц. Посчитаем среднее количество, дисперсию и стандартное отклонение. Построим гистограммы. Опишим распределения."
   ]
  },
  {
   "cell_type": "markdown",
   "metadata": {},
   "source": [
    "Посчитаем сколько минут разговора, сколько сообщений и какой объём интернет-трафика требуется пользователям каждого тарифа в месяц."
   ]
  },
  {
   "cell_type": "code",
   "execution_count": 239,
   "metadata": {},
   "outputs": [
    {
     "data": {
      "text/html": [
       "<div>\n",
       "<style scoped>\n",
       "    .dataframe tbody tr th:only-of-type {\n",
       "        vertical-align: middle;\n",
       "    }\n",
       "\n",
       "    .dataframe tbody tr th {\n",
       "        vertical-align: top;\n",
       "    }\n",
       "\n",
       "    .dataframe thead th {\n",
       "        text-align: right;\n",
       "    }\n",
       "</style>\n",
       "<table border=\"1\" class=\"dataframe\">\n",
       "  <thead>\n",
       "    <tr style=\"text-align: right;\">\n",
       "      <th></th>\n",
       "      <th>user_id</th>\n",
       "      <th>month</th>\n",
       "      <th>duration_sum</th>\n",
       "      <th>calls_cnt</th>\n",
       "      <th>mb_used</th>\n",
       "      <th>gb_used</th>\n",
       "      <th>messages_cnt</th>\n",
       "      <th>tariff</th>\n",
       "      <th>city</th>\n",
       "      <th>df_city</th>\n",
       "      <th>...</th>\n",
       "      <th>mb_per_month_included</th>\n",
       "      <th>minutes_included</th>\n",
       "      <th>rub_monthly_fee</th>\n",
       "      <th>rub_per_gb</th>\n",
       "      <th>rub_per_message</th>\n",
       "      <th>rub_per_minute</th>\n",
       "      <th>giga_x</th>\n",
       "      <th>mess_x</th>\n",
       "      <th>call_x</th>\n",
       "      <th>paid</th>\n",
       "    </tr>\n",
       "  </thead>\n",
       "  <tbody>\n",
       "    <tr>\n",
       "      <td>0</td>\n",
       "      <td>1000</td>\n",
       "      <td>5</td>\n",
       "      <td>159.00</td>\n",
       "      <td>22.00</td>\n",
       "      <td>2,253.49</td>\n",
       "      <td>3.00</td>\n",
       "      <td>22.00</td>\n",
       "      <td>ultra</td>\n",
       "      <td>Краснодар</td>\n",
       "      <td>Другой регион</td>\n",
       "      <td>...</td>\n",
       "      <td>30720</td>\n",
       "      <td>3000</td>\n",
       "      <td>1950</td>\n",
       "      <td>150</td>\n",
       "      <td>1</td>\n",
       "      <td>1</td>\n",
       "      <td>0.00</td>\n",
       "      <td>0.00</td>\n",
       "      <td>0.00</td>\n",
       "      <td>1,950.00</td>\n",
       "    </tr>\n",
       "    <tr>\n",
       "      <td>1</td>\n",
       "      <td>1000</td>\n",
       "      <td>6</td>\n",
       "      <td>172.00</td>\n",
       "      <td>43.00</td>\n",
       "      <td>23,233.77</td>\n",
       "      <td>23.00</td>\n",
       "      <td>60.00</td>\n",
       "      <td>ultra</td>\n",
       "      <td>Краснодар</td>\n",
       "      <td>Другой регион</td>\n",
       "      <td>...</td>\n",
       "      <td>30720</td>\n",
       "      <td>3000</td>\n",
       "      <td>1950</td>\n",
       "      <td>150</td>\n",
       "      <td>1</td>\n",
       "      <td>1</td>\n",
       "      <td>0.00</td>\n",
       "      <td>0.00</td>\n",
       "      <td>0.00</td>\n",
       "      <td>1,950.00</td>\n",
       "    </tr>\n",
       "    <tr>\n",
       "      <td>2</td>\n",
       "      <td>1000</td>\n",
       "      <td>7</td>\n",
       "      <td>340.00</td>\n",
       "      <td>47.00</td>\n",
       "      <td>14,003.64</td>\n",
       "      <td>14.00</td>\n",
       "      <td>75.00</td>\n",
       "      <td>ultra</td>\n",
       "      <td>Краснодар</td>\n",
       "      <td>Другой регион</td>\n",
       "      <td>...</td>\n",
       "      <td>30720</td>\n",
       "      <td>3000</td>\n",
       "      <td>1950</td>\n",
       "      <td>150</td>\n",
       "      <td>1</td>\n",
       "      <td>1</td>\n",
       "      <td>0.00</td>\n",
       "      <td>0.00</td>\n",
       "      <td>0.00</td>\n",
       "      <td>1,950.00</td>\n",
       "    </tr>\n",
       "    <tr>\n",
       "      <td>3</td>\n",
       "      <td>1000</td>\n",
       "      <td>8</td>\n",
       "      <td>408.00</td>\n",
       "      <td>52.00</td>\n",
       "      <td>14,055.93</td>\n",
       "      <td>14.00</td>\n",
       "      <td>81.00</td>\n",
       "      <td>ultra</td>\n",
       "      <td>Краснодар</td>\n",
       "      <td>Другой регион</td>\n",
       "      <td>...</td>\n",
       "      <td>30720</td>\n",
       "      <td>3000</td>\n",
       "      <td>1950</td>\n",
       "      <td>150</td>\n",
       "      <td>1</td>\n",
       "      <td>1</td>\n",
       "      <td>0.00</td>\n",
       "      <td>0.00</td>\n",
       "      <td>0.00</td>\n",
       "      <td>1,950.00</td>\n",
       "    </tr>\n",
       "    <tr>\n",
       "      <td>4</td>\n",
       "      <td>1000</td>\n",
       "      <td>9</td>\n",
       "      <td>466.00</td>\n",
       "      <td>58.00</td>\n",
       "      <td>14,568.91</td>\n",
       "      <td>15.00</td>\n",
       "      <td>57.00</td>\n",
       "      <td>ultra</td>\n",
       "      <td>Краснодар</td>\n",
       "      <td>Другой регион</td>\n",
       "      <td>...</td>\n",
       "      <td>30720</td>\n",
       "      <td>3000</td>\n",
       "      <td>1950</td>\n",
       "      <td>150</td>\n",
       "      <td>1</td>\n",
       "      <td>1</td>\n",
       "      <td>0.00</td>\n",
       "      <td>0.00</td>\n",
       "      <td>0.00</td>\n",
       "      <td>1,950.00</td>\n",
       "    </tr>\n",
       "  </tbody>\n",
       "</table>\n",
       "<p>5 rows × 21 columns</p>\n",
       "</div>"
      ],
      "text/plain": [
       "   user_id  month  duration_sum  calls_cnt   mb_used  gb_used  messages_cnt  \\\n",
       "0     1000      5        159.00      22.00  2,253.49     3.00         22.00   \n",
       "1     1000      6        172.00      43.00 23,233.77    23.00         60.00   \n",
       "2     1000      7        340.00      47.00 14,003.64    14.00         75.00   \n",
       "3     1000      8        408.00      52.00 14,055.93    14.00         81.00   \n",
       "4     1000      9        466.00      58.00 14,568.91    15.00         57.00   \n",
       "\n",
       "  tariff       city        df_city  ...  mb_per_month_included  \\\n",
       "0  ultra  Краснодар  Другой регион  ...                  30720   \n",
       "1  ultra  Краснодар  Другой регион  ...                  30720   \n",
       "2  ultra  Краснодар  Другой регион  ...                  30720   \n",
       "3  ultra  Краснодар  Другой регион  ...                  30720   \n",
       "4  ultra  Краснодар  Другой регион  ...                  30720   \n",
       "\n",
       "   minutes_included  rub_monthly_fee  rub_per_gb  rub_per_message  \\\n",
       "0              3000             1950         150                1   \n",
       "1              3000             1950         150                1   \n",
       "2              3000             1950         150                1   \n",
       "3              3000             1950         150                1   \n",
       "4              3000             1950         150                1   \n",
       "\n",
       "   rub_per_minute  giga_x  mess_x  call_x     paid  \n",
       "0               1    0.00    0.00    0.00 1,950.00  \n",
       "1               1    0.00    0.00    0.00 1,950.00  \n",
       "2               1    0.00    0.00    0.00 1,950.00  \n",
       "3               1    0.00    0.00    0.00 1,950.00  \n",
       "4               1    0.00    0.00    0.00 1,950.00  \n",
       "\n",
       "[5 rows x 21 columns]"
      ]
     },
     "execution_count": 239,
     "metadata": {},
     "output_type": "execute_result"
    }
   ],
   "source": [
    "for user_id in data_users['user_id']:\n",
    "    df_final.loc[user_id, 'tariff'] = data_users.loc[user_id-1000, 'tariff']\n",
    "df_final.head()"
   ]
  },
  {
   "cell_type": "markdown",
   "metadata": {},
   "source": [
    "Посчитаем среднее количество, дисперсию и стандартное отклонение."
   ]
  },
  {
   "cell_type": "code",
   "execution_count": 240,
   "metadata": {},
   "outputs": [
    {
     "data": {
      "text/html": [
       "<div>\n",
       "<style scoped>\n",
       "    .dataframe tbody tr th:only-of-type {\n",
       "        vertical-align: middle;\n",
       "    }\n",
       "\n",
       "    .dataframe tbody tr th {\n",
       "        vertical-align: top;\n",
       "    }\n",
       "\n",
       "    .dataframe thead tr th {\n",
       "        text-align: left;\n",
       "    }\n",
       "\n",
       "    .dataframe thead tr:last-of-type th {\n",
       "        text-align: right;\n",
       "    }\n",
       "</style>\n",
       "<table border=\"1\" class=\"dataframe\">\n",
       "  <thead>\n",
       "    <tr>\n",
       "      <th></th>\n",
       "      <th colspan=\"3\" halign=\"left\">duration_sum</th>\n",
       "      <th colspan=\"3\" halign=\"left\">gb_used</th>\n",
       "      <th colspan=\"3\" halign=\"left\">messages_cnt</th>\n",
       "    </tr>\n",
       "    <tr>\n",
       "      <th></th>\n",
       "      <th>median</th>\n",
       "      <th>std</th>\n",
       "      <th>var</th>\n",
       "      <th>median</th>\n",
       "      <th>std</th>\n",
       "      <th>var</th>\n",
       "      <th>median</th>\n",
       "      <th>std</th>\n",
       "      <th>var</th>\n",
       "    </tr>\n",
       "    <tr>\n",
       "      <th>tariff</th>\n",
       "      <th></th>\n",
       "      <th></th>\n",
       "      <th></th>\n",
       "      <th></th>\n",
       "      <th></th>\n",
       "      <th></th>\n",
       "      <th></th>\n",
       "      <th></th>\n",
       "      <th></th>\n",
       "    </tr>\n",
       "  </thead>\n",
       "  <tbody>\n",
       "    <tr>\n",
       "      <td>smart</td>\n",
       "      <td>425.00</td>\n",
       "      <td>201.13</td>\n",
       "      <td>40,451.64</td>\n",
       "      <td>17.00</td>\n",
       "      <td>6.16</td>\n",
       "      <td>37.90</td>\n",
       "      <td>29.00</td>\n",
       "      <td>29.85</td>\n",
       "      <td>891.11</td>\n",
       "    </tr>\n",
       "    <tr>\n",
       "      <td>ultra</td>\n",
       "      <td>502.00</td>\n",
       "      <td>303.61</td>\n",
       "      <td>92,180.13</td>\n",
       "      <td>19.00</td>\n",
       "      <td>9.37</td>\n",
       "      <td>87.71</td>\n",
       "      <td>35.00</td>\n",
       "      <td>45.76</td>\n",
       "      <td>2,093.67</td>\n",
       "    </tr>\n",
       "  </tbody>\n",
       "</table>\n",
       "</div>"
      ],
      "text/plain": [
       "       duration_sum                  gb_used            messages_cnt        \\\n",
       "             median    std       var  median  std   var       median   std   \n",
       "tariff                                                                       \n",
       "smart        425.00 201.13 40,451.64   17.00 6.16 37.90        29.00 29.85   \n",
       "ultra        502.00 303.61 92,180.13   19.00 9.37 87.71        35.00 45.76   \n",
       "\n",
       "                 \n",
       "            var  \n",
       "tariff           \n",
       "smart    891.11  \n",
       "ultra  2,093.67  "
      ]
     },
     "execution_count": 240,
     "metadata": {},
     "output_type": "execute_result"
    }
   ],
   "source": [
    "df_final.dropna(subset=['duration_sum'], inplace=True)\n",
    "stat_array = df_final.pivot_table(index='tariff', values=['duration_sum', 'messages_cnt', 'gb_used'], \n",
    "        aggfunc={'duration_sum': [np.median, np.var, np.std], 'messages_cnt': [np.median, np.var, np.std],\n",
    "                'gb_used': [np.median, np.var, np.std]})\n",
    "stat_array"
   ]
  },
  {
   "cell_type": "code",
   "execution_count": 241,
   "metadata": {},
   "outputs": [
    {
     "data": {
      "image/png": "[encoded data removed]",
      "text/plain": [
       "<Figure size 360x360 with 1 Axes>"
      ]
     },
     "metadata": {
      "needs_background": "light"
     },
     "output_type": "display_data"
    },
    {
     "data": {
      "image/png": "[encoded data removed]",
      "text/plain": [
       "<Figure size 360x360 with 1 Axes>"
      ]
     },
     "metadata": {
      "needs_background": "light"
     },
     "output_type": "display_data"
    },
    {
     "data": {
      "image/png": "[encoded data removed]",
      "text/plain": [
       "<Figure size 360x360 with 1 Axes>"
      ]
     },
     "metadata": {
      "needs_background": "light"
     },
     "output_type": "display_data"
    }
   ],
   "source": [
    "for column in ['duration_sum', 'messages_cnt', 'gb_used']:\n",
    "    sns.catplot(y='tariff', x=column, kind='box', data=df_final)\n"
   ]
  },
  {
   "cell_type": "code",
   "execution_count": 242,
   "metadata": {},
   "outputs": [
    {
     "data": {
      "image/png": "[encoded data removed]",
      "text/plain": [
       "<Figure size 432x288 with 1 Axes>"
      ]
     },
     "metadata": {
      "needs_background": "light"
     },
     "output_type": "display_data"
    }
   ],
   "source": [
    "for tariff in ['ultra', 'smart']:\n",
    "    sns.distplot(df_final.query('tariff==@tariff')['duration_sum'], kde=False, label=tariff)\n",
    "legend = plt.legend(['ultra', 'smart'])\n",
    "plt.title('Гистограмма количества использованных минут')#название графика\n",
    "plt.xlabel('Количество минут')#название оси абсцисс\n",
    "plt.ylabel('Количество пользователей')#название оси ординат\n",
    "plt.show()#выведем график"
   ]
  },
  {
   "cell_type": "code",
   "execution_count": 243,
   "metadata": {},
   "outputs": [
    {
     "data": {
      "application/vnd.plotly.v1+json": {
       "config": {
        "plotlyServerURL": "https://plot.ly"
       },
       "data": [
        {
         "alignmentgroup": "True",
         "bingroup": "x",
         "hoverlabel": {
          "namelength": 0
         },
         "hovertemplate": "tariff=ultra<br>duration_sum=%{x}<br>count=%{y}",
         "legendgroup": "tariff=ultra",
         "marker": {
          "color": "#636efa",
          "opacity": 0.5
         },
         "name": "tariff=ultra",
         "offsetgroup": "tariff=ultra",
         "orientation": "v",
         "showlegend": true,
         "type": "histogram",
         "x": [
          159,
          172,
          340,
          408,
          466,
          350,
          338,
          333,
          380,
          961,
          855,
          824,
          802,
          35,
          171,
          135,
          137,
          117,
          145,
          117,
          130,
          369,
          567,
          28,
          94,
          636,
          507,
          679,
          760,
          929,
          520,
          503,
          685,
          839,
          300,
          386,
          453,
          360,
          519,
          95,
          90,
          989,
          948,
          1197,
          1000,
          1115,
          1024,
          993,
          962,
          79,
          1146,
          949,
          954,
          1021,
          1189,
          156,
          433,
          398,
          600,
          576,
          541,
          542,
          271,
          834,
          641,
          813,
          688,
          403,
          528,
          525,
          520,
          653,
          506,
          671,
          586,
          666,
          822,
          94,
          209,
          320,
          225,
          50,
          1,
          640,
          783,
          722,
          581,
          858,
          677,
          820,
          781,
          726,
          905,
          960,
          643,
          837,
          371,
          1233,
          581,
          716,
          815,
          852,
          864,
          820,
          985,
          896,
          231,
          445,
          1075,
          960,
          1101,
          1061,
          1109,
          1273,
          476,
          951,
          811,
          654,
          904,
          151,
          687,
          701,
          618,
          700,
          678,
          519,
          533,
          649,
          504,
          501,
          95,
          195,
          244,
          120,
          254,
          172,
          100,
          5,
          626,
          387,
          465,
          415,
          417,
          466,
          477,
          523,
          544,
          470,
          510,
          596,
          48,
          107,
          684,
          784,
          617,
          717,
          868,
          839,
          752,
          416,
          306,
          350,
          301,
          369,
          368,
          311,
          389,
          365,
          134,
          656,
          500,
          429,
          645,
          774,
          498,
          445,
          675,
          675,
          683,
          668,
          724,
          624,
          440,
          579,
          640,
          157,
          331,
          297,
          248,
          343,
          382,
          368,
          451,
          338,
          420,
          262,
          55,
          162,
          279,
          273,
          311,
          345,
          317,
          304,
          266,
          371,
          310,
          264,
          481,
          458,
          209,
          1225,
          1127,
          1106,
          272,
          531,
          556,
          689,
          457,
          589,
          352,
          584,
          534,
          503,
          508,
          614,
          65,
          746,
          479,
          767,
          615,
          633,
          724,
          474,
          813,
          329,
          870,
          747,
          936,
          717,
          787,
          810,
          709,
          835,
          372,
          430,
          368,
          438,
          645,
          375,
          670,
          692,
          691,
          172,
          389,
          281,
          345,
          291,
          294,
          239,
          288,
          243,
          421,
          415,
          119,
          188,
          734,
          342,
          336,
          197,
          231,
          309,
          332,
          262,
          264,
          278,
          884,
          1053,
          1199,
          72,
          400,
          703,
          572,
          640,
          1000,
          841,
          811,
          645,
          666,
          604,
          612,
          712,
          219,
          258,
          366,
          291,
          325,
          436,
          341,
          256,
          532,
          561,
          328,
          31,
          93,
          109,
          351,
          215,
          579,
          617,
          999,
          844,
          811,
          613,
          443,
          78,
          35,
          34,
          46,
          51,
          717,
          615,
          612,
          416,
          518,
          420,
          416,
          1139,
          1213,
          539,
          351,
          476,
          469,
          511,
          890,
          560,
          1045,
          723,
          886,
          26,
          378,
          287,
          557,
          367,
          327,
          406,
          125,
          312,
          106,
          390,
          92,
          559,
          298,
          604,
          602,
          621,
          152,
          360,
          281,
          443,
          695,
          401,
          492,
          335,
          352,
          313,
          455,
          405,
          356,
          72,
          556,
          466,
          519,
          418,
          495,
          353,
          146,
          524,
          518,
          467,
          453,
          249,
          256,
          114,
          348,
          221,
          1261,
          1261,
          651,
          442,
          705,
          663,
          521,
          148,
          602,
          620,
          619,
          410,
          1022,
          280,
          356,
          234,
          620,
          663,
          671,
          842,
          481,
          557,
          590,
          55,
          167,
          112,
          648,
          0,
          402,
          523,
          308,
          383,
          431,
          479,
          365,
          395,
          334,
          393,
          518,
          401,
          356,
          453,
          496,
          502,
          286,
          211,
          272,
          147,
          241,
          466,
          525,
          504,
          497,
          727,
          562,
          715,
          175,
          89,
          256,
          237,
          320,
          198,
          263,
          251,
          11,
          35,
          0,
          0,
          0,
          16,
          6,
          9,
          462,
          830,
          142,
          752,
          814,
          897,
          130,
          231,
          376,
          285,
          352,
          328,
          315,
          382,
          389,
          341,
          540,
          155,
          20,
          294,
          305,
          187,
          343,
          220,
          230,
          253,
          253,
          223,
          315,
          272,
          260,
          371,
          443,
          361,
          164,
          483,
          248,
          418,
          231,
          243,
          185,
          278,
          326,
          232,
          368,
          502,
          508,
          696,
          599,
          439,
          549,
          581,
          1186,
          1053,
          1257,
          1188,
          58,
          208,
          282,
          212,
          299,
          206,
          240,
          267,
          325,
          234,
          226,
          60,
          234,
          204,
          353,
          237,
          295,
          308,
          376,
          309,
          267,
          261,
          103,
          701,
          725,
          731,
          658,
          623,
          101,
          540,
          610,
          443,
          563,
          580,
          435,
          508,
          450,
          524,
          563,
          106,
          501,
          529,
          483,
          523,
          528,
          451,
          469,
          570,
          483,
          248,
          589,
          598,
          730,
          672,
          567,
          662,
          538,
          524,
          786,
          305,
          653,
          575,
          495,
          380,
          548,
          606,
          514,
          865,
          485,
          665,
          760,
          652,
          631,
          723,
          634,
          604,
          516,
          275,
          536,
          542,
          537,
          409,
          459,
          430,
          497,
          553,
          50,
          627,
          759,
          697,
          83,
          602,
          756,
          782,
          671,
          563,
          810,
          756,
          439,
          1143,
          1321,
          1199,
          1236,
          1212,
          1233,
          297,
          488,
          344,
          909,
          762,
          825,
          732,
          767,
          901,
          851,
          848,
          823,
          868,
          1018,
          982,
          723,
          745,
          869,
          1129,
          1208,
          526,
          515,
          661,
          882,
          35,
          303,
          456,
          478,
          396,
          412,
          780,
          805,
          827,
          796,
          743,
          816,
          881,
          706,
          308,
          935,
          741,
          850,
          916,
          866,
          750,
          1030,
          897,
          415,
          802,
          924,
          791,
          833,
          771,
          752,
          817,
          596,
          825,
          169,
          203,
          245,
          311,
          841,
          629,
          616,
          779,
          988,
          894,
          813,
          874,
          732,
          922,
          87,
          1040,
          925,
          1010,
          1028,
          318,
          558,
          266,
          74,
          207,
          177,
          188,
          286,
          852,
          919,
          1059,
          830,
          961,
          1045,
          902,
          1087,
          885,
          1020,
          980,
          858,
          179,
          1609,
          1096,
          1097,
          1290,
          1311,
          1273,
          1297,
          1401,
          1161,
          1259,
          537,
          841,
          964,
          1089,
          1012,
          519,
          824,
          806,
          629,
          744,
          688,
          597,
          735,
          382,
          762,
          866,
          619,
          679,
          752,
          673,
          654,
          562,
          643,
          567,
          762,
          98,
          691,
          625,
          681,
          608,
          750,
          539,
          799,
          694,
          751,
          270,
          277,
          310,
          348,
          343,
          356,
          383,
          326,
          374,
          368,
          273,
          333,
          607,
          719,
          702,
          965,
          845,
          837,
          669,
          681,
          13,
          467,
          436,
          364,
          415,
          452,
          496,
          377,
          418,
          432,
          453,
          485,
          473,
          443,
          452,
          521,
          372,
          492,
          512,
          555,
          232,
          282,
          355,
          403,
          733,
          689,
          657,
          565,
          671,
          751,
          744,
          742,
          596,
          15,
          50,
          113,
          125,
          65,
          77,
          109,
          143,
          332,
          340,
          244,
          551,
          798,
          845,
          567,
          816,
          641,
          757,
          43,
          612,
          593,
          764,
          751,
          627,
          617,
          540,
          822,
          808,
          1084,
          861,
          363,
          1,
          12,
          53,
          43,
          29,
          16,
          95,
          91,
          284,
          234,
          322,
          416,
          274,
          330,
          310,
          235,
          314,
          370,
          420,
          533,
          393,
          406,
          439,
          479,
          448,
          52,
          270,
          114,
          185,
          209,
          157,
          169,
          200,
          83,
          109,
          60,
          142,
          150,
          194,
          236,
          305,
          237,
          861,
          765,
          875,
          881,
          929,
          767,
          848,
          813,
          808,
          953,
          973,
          796,
          134,
          311,
          595,
          477,
          592,
          420,
          442,
          444,
          626,
          569,
          317,
          833,
          761,
          695,
          781,
          816,
          771,
          856,
          855,
          629,
          847,
          246,
          821,
          248,
          715,
          16,
          402,
          453,
          492,
          610,
          542,
          512,
          482,
          647,
          473,
          659,
          320,
          1673,
          793,
          779,
          763,
          908,
          795,
          635,
          76,
          755,
          627,
          862,
          650,
          765,
          866,
          569,
          557,
          603,
          815,
          683,
          1345,
          459,
          491,
          492,
          456,
          622,
          540,
          556,
          588,
          0,
          584,
          143,
          530,
          424,
          606,
          611,
          531,
          583,
          518,
          674,
          173,
          571,
          92,
          813,
          1030,
          954,
          1031,
          0,
          0,
          0,
          0,
          0,
          0,
          0,
          0,
          0,
          0,
          0,
          0,
          0,
          0,
          0,
          0,
          0,
          0,
          0,
          0,
          0,
          0,
          0,
          0,
          0,
          0,
          0,
          0,
          0,
          0,
          0,
          0,
          0
         ],
         "xaxis": "x",
         "yaxis": "y"
        },
        {
         "alignmentgroup": "True",
         "hoverlabel": {
          "namelength": 0
         },
         "hovertemplate": "tariff=ultra<br>duration_sum=%{x}",
         "legendgroup": "tariff=ultra",
         "marker": {
          "color": "#636efa"
         },
         "name": "tariff=ultra",
         "notched": true,
         "offsetgroup": "tariff=ultra",
         "showlegend": false,
         "type": "box",
         "x": [
          159,
          172,
          340,
          408,
          466,
          350,
          338,
          333,
          380,
          961,
          855,
          824,
          802,
          35,
          171,
          135,
          137,
          117,
          145,
          117,
          130,
          369,
          567,
          28,
          94,
          636,
          507,
          679,
          760,
          929,
          520,
          503,
          685,
          839,
          300,
          386,
          453,
          360,
          519,
          95,
          90,
          989,
          948,
          1197,
          1000,
          1115,
          1024,
          993,
          962,
          79,
          1146,
          949,
          954,
          1021,
          1189,
          156,
          433,
          398,
          600,
          576,
          541,
          542,
          271,
          834,
          641,
          813,
          688,
          403,
          528,
          525,
          520,
          653,
          506,
          671,
          586,
          666,
          822,
          94,
          209,
          320,
          225,
          50,
          1,
          640,
          783,
          722,
          581,
          858,
          677,
          820,
          781,
          726,
          905,
          960,
          643,
          837,
          371,
          1233,
          581,
          716,
          815,
          852,
          864,
          820,
          985,
          896,
          231,
          445,
          1075,
          960,
          1101,
          1061,
          1109,
          1273,
          476,
          951,
          811,
          654,
          904,
          151,
          687,
          701,
          618,
          700,
          678,
          519,
          533,
          649,
          504,
          501,
          95,
          195,
          244,
          120,
          254,
          172,
          100,
          5,
          626,
          387,
          465,
          415,
          417,
          466,
          477,
          523,
          544,
          470,
          510,
          596,
          48,
          107,
          684,
          784,
          617,
          717,
          868,
          839,
          752,
          416,
          306,
          350,
          301,
          369,
          368,
          311,
          389,
          365,
          134,
          656,
          500,
          429,
          645,
          774,
          498,
          445,
          675,
          675,
          683,
          668,
          724,
          624,
          440,
          579,
          640,
          157,
          331,
          297,
          248,
          343,
          382,
          368,
          451,
          338,
          420,
          262,
          55,
          162,
          279,
          273,
          311,
          345,
          317,
          304,
          266,
          371,
          310,
          264,
          481,
          458,
          209,
          1225,
          1127,
          1106,
          272,
          531,
          556,
          689,
          457,
          589,
          352,
          584,
          534,
          503,
          508,
          614,
          65,
          746,
          479,
          767,
          615,
          633,
          724,
          474,
          813,
          329,
          870,
          747,
          936,
          717,
          787,
          810,
          709,
          835,
          372,
          430,
          368,
          438,
          645,
          375,
          670,
          692,
          691,
          172,
          389,
          281,
          345,
          291,
          294,
          239,
          288,
          243,
          421,
          415,
          119,
          188,
          734,
          342,
          336,
          197,
          231,
          309,
          332,
          262,
          264,
          278,
          884,
          1053,
          1199,
          72,
          400,
          703,
          572,
          640,
          1000,
          841,
          811,
          645,
          666,
          604,
          612,
          712,
          219,
          258,
          366,
          291,
          325,
          436,
          341,
          256,
          532,
          561,
          328,
          31,
          93,
          109,
          351,
          215,
          579,
          617,
          999,
          844,
          811,
          613,
          443,
          78,
          35,
          34,
          46,
          51,
          717,
          615,
          612,
          416,
          518,
          420,
          416,
          1139,
          1213,
          539,
          351,
          476,
          469,
          511,
          890,
          560,
          1045,
          723,
          886,
          26,
          378,
          287,
          557,
          367,
          327,
          406,
          125,
          312,
          106,
          390,
          92,
          559,
          298,
          604,
          602,
          621,
          152,
          360,
          281,
          443,
          695,
          401,
          492,
          335,
          352,
          313,
          455,
          405,
          356,
          72,
          556,
          466,
          519,
          418,
          495,
          353,
          146,
          524,
          518,
          467,
          453,
          249,
          256,
          114,
          348,
          221,
          1261,
          1261,
          651,
          442,
          705,
          663,
          521,
          148,
          602,
          620,
          619,
          410,
          1022,
          280,
          356,
          234,
          620,
          663,
          671,
          842,
          481,
          557,
          590,
          55,
          167,
          112,
          648,
          0,
          402,
          523,
          308,
          383,
          431,
          479,
          365,
          395,
          334,
          393,
          518,
          401,
          356,
          453,
          496,
          502,
          286,
          211,
          272,
          147,
          241,
          466,
          525,
          504,
          497,
          727,
          562,
          715,
          175,
          89,
          256,
          237,
          320,
          198,
          263,
          251,
          11,
          35,
          0,
          0,
          0,
          16,
          6,
          9,
          462,
          830,
          142,
          752,
          814,
          897,
          130,
          231,
          376,
          285,
          352,
          328,
          315,
          382,
          389,
          341,
          540,
          155,
          20,
          294,
          305,
          187,
          343,
          220,
          230,
          253,
          253,
          223,
          315,
          272,
          260,
          371,
          443,
          361,
          164,
          483,
          248,
          418,
          231,
          243,
          185,
          278,
          326,
          232,
          368,
          502,
          508,
          696,
          599,
          439,
          549,
          581,
          1186,
          1053,
          1257,
          1188,
          58,
          208,
          282,
          212,
          299,
          206,
          240,
          267,
          325,
          234,
          226,
          60,
          234,
          204,
          353,
          237,
          295,
          308,
          376,
          309,
          267,
          261,
          103,
          701,
          725,
          731,
          658,
          623,
          101,
          540,
          610,
          443,
          563,
          580,
          435,
          508,
          450,
          524,
          563,
          106,
          501,
          529,
          483,
          523,
          528,
          451,
          469,
          570,
          483,
          248,
          589,
          598,
          730,
          672,
          567,
          662,
          538,
          524,
          786,
          305,
          653,
          575,
          495,
          380,
          548,
          606,
          514,
          865,
          485,
          665,
          760,
          652,
          631,
          723,
          634,
          604,
          516,
          275,
          536,
          542,
          537,
          409,
          459,
          430,
          497,
          553,
          50,
          627,
          759,
          697,
          83,
          602,
          756,
          782,
          671,
          563,
          810,
          756,
          439,
          1143,
          1321,
          1199,
          1236,
          1212,
          1233,
          297,
          488,
          344,
          909,
          762,
          825,
          732,
          767,
          901,
          851,
          848,
          823,
          868,
          1018,
          982,
          723,
          745,
          869,
          1129,
          1208,
          526,
          515,
          661,
          882,
          35,
          303,
          456,
          478,
          396,
          412,
          780,
          805,
          827,
          796,
          743,
          816,
          881,
          706,
          308,
          935,
          741,
          850,
          916,
          866,
          750,
          1030,
          897,
          415,
          802,
          924,
          791,
          833,
          771,
          752,
          817,
          596,
          825,
          169,
          203,
          245,
          311,
          841,
          629,
          616,
          779,
          988,
          894,
          813,
          874,
          732,
          922,
          87,
          1040,
          925,
          1010,
          1028,
          318,
          558,
          266,
          74,
          207,
          177,
          188,
          286,
          852,
          919,
          1059,
          830,
          961,
          1045,
          902,
          1087,
          885,
          1020,
          980,
          858,
          179,
          1609,
          1096,
          1097,
          1290,
          1311,
          1273,
          1297,
          1401,
          1161,
          1259,
          537,
          841,
          964,
          1089,
          1012,
          519,
          824,
          806,
          629,
          744,
          688,
          597,
          735,
          382,
          762,
          866,
          619,
          679,
          752,
          673,
          654,
          562,
          643,
          567,
          762,
          98,
          691,
          625,
          681,
          608,
          750,
          539,
          799,
          694,
          751,
          270,
          277,
          310,
          348,
          343,
          356,
          383,
          326,
          374,
          368,
          273,
          333,
          607,
          719,
          702,
          965,
          845,
          837,
          669,
          681,
          13,
          467,
          436,
          364,
          415,
          452,
          496,
          377,
          418,
          432,
          453,
          485,
          473,
          443,
          452,
          521,
          372,
          492,
          512,
          555,
          232,
          282,
          355,
          403,
          733,
          689,
          657,
          565,
          671,
          751,
          744,
          742,
          596,
          15,
          50,
          113,
          125,
          65,
          77,
          109,
          143,
          332,
          340,
          244,
          551,
          798,
          845,
          567,
          816,
          641,
          757,
          43,
          612,
          593,
          764,
          751,
          627,
          617,
          540,
          822,
          808,
          1084,
          861,
          363,
          1,
          12,
          53,
          43,
          29,
          16,
          95,
          91,
          284,
          234,
          322,
          416,
          274,
          330,
          310,
          235,
          314,
          370,
          420,
          533,
          393,
          406,
          439,
          479,
          448,
          52,
          270,
          114,
          185,
          209,
          157,
          169,
          200,
          83,
          109,
          60,
          142,
          150,
          194,
          236,
          305,
          237,
          861,
          765,
          875,
          881,
          929,
          767,
          848,
          813,
          808,
          953,
          973,
          796,
          134,
          311,
          595,
          477,
          592,
          420,
          442,
          444,
          626,
          569,
          317,
          833,
          761,
          695,
          781,
          816,
          771,
          856,
          855,
          629,
          847,
          246,
          821,
          248,
          715,
          16,
          402,
          453,
          492,
          610,
          542,
          512,
          482,
          647,
          473,
          659,
          320,
          1673,
          793,
          779,
          763,
          908,
          795,
          635,
          76,
          755,
          627,
          862,
          650,
          765,
          866,
          569,
          557,
          603,
          815,
          683,
          1345,
          459,
          491,
          492,
          456,
          622,
          540,
          556,
          588,
          0,
          584,
          143,
          530,
          424,
          606,
          611,
          531,
          583,
          518,
          674,
          173,
          571,
          92,
          813,
          1030,
          954,
          1031,
          0,
          0,
          0,
          0,
          0,
          0,
          0,
          0,
          0,
          0,
          0,
          0,
          0,
          0,
          0,
          0,
          0,
          0,
          0,
          0,
          0,
          0,
          0,
          0,
          0,
          0,
          0,
          0,
          0,
          0,
          0,
          0,
          0
         ],
         "xaxis": "x2",
         "yaxis": "y2"
        },
        {
         "alignmentgroup": "True",
         "bingroup": "x",
         "hoverlabel": {
          "namelength": 0
         },
         "hovertemplate": "tariff=smart<br>duration_sum=%{x}<br>count=%{y}",
         "legendgroup": "tariff=smart",
         "marker": {
          "color": "#EF553B",
          "opacity": 0.5
         },
         "name": "tariff=smart",
         "offsetgroup": "tariff=smart",
         "orientation": "v",
         "showlegend": true,
         "type": "histogram",
         "x": [
          430,
          414,
          117,
          214,
          289,
          206,
          212,
          243,
          236,
          95,
          456,
          606,
          712,
          595,
          612,
          569,
          619,
          479,
          723,
          547,
          592,
          42,
          286,
          356,
          370,
          478,
          316,
          275,
          360,
          267,
          372,
          379,
          198,
          480,
          545,
          577,
          458,
          655,
          465,
          580,
          421,
          339,
          109,
          324,
          170,
          289,
          183,
          249,
          133,
          213,
          290,
          229,
          142,
          142,
          245,
          290,
          336,
          212,
          371,
          437,
          327,
          502,
          515,
          472,
          630,
          501,
          361,
          13,
          345,
          316,
          219,
          223,
          157,
          230,
          451,
          206,
          356,
          102,
          180,
          300,
          241,
          250,
          332,
          237,
          175,
          11,
          401,
          430,
          556,
          394,
          486,
          577,
          454,
          499,
          111,
          341,
          461,
          389,
          366,
          329,
          463,
          444,
          239,
          674,
          340,
          267,
          156,
          512,
          557,
          323,
          464,
          552,
          548,
          577,
          444,
          514,
          653,
          563,
          503,
          535,
          469,
          531,
          379,
          623,
          441,
          477,
          474,
          388,
          373,
          348,
          516,
          422,
          609,
          679,
          891,
          109,
          313,
          328,
          426,
          439,
          345,
          413,
          393,
          665,
          562,
          380,
          371,
          487,
          521,
          512,
          402,
          415,
          446,
          507,
          385,
          410,
          482,
          311,
          345,
          411,
          375,
          425,
          231,
          170,
          730,
          549,
          350,
          398,
          608,
          427,
          493,
          494,
          420,
          250,
          303,
          467,
          285,
          554,
          430,
          530,
          424,
          669,
          304,
          341,
          408,
          342,
          272,
          344,
          207,
          357,
          348,
          254,
          287,
          437,
          379,
          12,
          861,
          133,
          728,
          252,
          297,
          295,
          512,
          403,
          537,
          246,
          308,
          254,
          385,
          390,
          338,
          369,
          364,
          9,
          189,
          229,
          219,
          290,
          229,
          185,
          222,
          299,
          285,
          273,
          256,
          228,
          504,
          443,
          545,
          555,
          109,
          762,
          822,
          59,
          517,
          348,
          398,
          311,
          123,
          98,
          706,
          816,
          906,
          682,
          859,
          237,
          564,
          737,
          527,
          627,
          605,
          672,
          708,
          654,
          595,
          551,
          440,
          558,
          391,
          449,
          518,
          445,
          380,
          465,
          347,
          314,
          597,
          193,
          462,
          382,
          425,
          300,
          338,
          140,
          557,
          720,
          701,
          330,
          671,
          705,
          627,
          721,
          724,
          566,
          586,
          726,
          309,
          639,
          563,
          588,
          768,
          481,
          405,
          290,
          166,
          363,
          437,
          326,
          313,
          402,
          479,
          277,
          479,
          337,
          480,
          501,
          561,
          415,
          450,
          573,
          507,
          539,
          522,
          134,
          184,
          715,
          587,
          673,
          539,
          685,
          448,
          387,
          480,
          633,
          383,
          386,
          554,
          491,
          477,
          390,
          312,
          622,
          564,
          575,
          433,
          516,
          349,
          187,
          514,
          252,
          380,
          280,
          194,
          401,
          283,
          321,
          365,
          313,
          281,
          229,
          137,
          338,
          554,
          342,
          281,
          617,
          439,
          601,
          517,
          494,
          385,
          461,
          334,
          533,
          580,
          466,
          532,
          297,
          447,
          490,
          475,
          529,
          528,
          524,
          598,
          541,
          567,
          205,
          686,
          784,
          162,
          607,
          592,
          653,
          603,
          345,
          560,
          578,
          303,
          108,
          267,
          122,
          480,
          542,
          414,
          505,
          548,
          549,
          610,
          455,
          95,
          436,
          467,
          529,
          566,
          509,
          561,
          510,
          510,
          477,
          328,
          349,
          309,
          326,
          427,
          277,
          385,
          364,
          344,
          212,
          421,
          411,
          258,
          470,
          439,
          295,
          59,
          600,
          856,
          825,
          789,
          843,
          930,
          540,
          101,
          493,
          431,
          456,
          595,
          540,
          588,
          529,
          637,
          461,
          553,
          530,
          578,
          198,
          544,
          535,
          538,
          575,
          530,
          617,
          723,
          278,
          538,
          423,
          568,
          540,
          362,
          606,
          448,
          26,
          310,
          461,
          270,
          63,
          274,
          352,
          164,
          224,
          330,
          231,
          324,
          99,
          426,
          485,
          480,
          382,
          522,
          504,
          391,
          669,
          423,
          471,
          366,
          363,
          520,
          348,
          423,
          365,
          402,
          390,
          347,
          532,
          466,
          549,
          431,
          544,
          110,
          543,
          530,
          785,
          501,
          628,
          692,
          654,
          638,
          561,
          673,
          710,
          80,
          418,
          406,
          381,
          397,
          449,
          70,
          628,
          652,
          495,
          437,
          622,
          168,
          326,
          370,
          286,
          306,
          272,
          366,
          288,
          420,
          282,
          547,
          752,
          582,
          681,
          839,
          747,
          766,
          581,
          567,
          626,
          65,
          171,
          254,
          277,
          272,
          280,
          214,
          243,
          194,
          290,
          584,
          509,
          420,
          365,
          513,
          448,
          531,
          234,
          585,
          546,
          476,
          561,
          704,
          673,
          591,
          548,
          764,
          332,
          219,
          393,
          317,
          189,
          209,
          208,
          308,
          173,
          272,
          249,
          402,
          234,
          452,
          389,
          521,
          648,
          449,
          499,
          583,
          394,
          577,
          580,
          263,
          671,
          567,
          544,
          609,
          224,
          690,
          648,
          332,
          458,
          461,
          419,
          385,
          518,
          543,
          527,
          333,
          549,
          596,
          468,
          90,
          439,
          442,
          378,
          346,
          564,
          382,
          654,
          535,
          346,
          427,
          359,
          147,
          471,
          705,
          483,
          859,
          701,
          562,
          526,
          527,
          360,
          572,
          571,
          211,
          81,
          475,
          468,
          503,
          515,
          354,
          465,
          457,
          478,
          437,
          32,
          541,
          468,
          398,
          349,
          516,
          416,
          523,
          388,
          348,
          508,
          397,
          520,
          523,
          454,
          497,
          367,
          524,
          126,
          532,
          471,
          438,
          424,
          634,
          499,
          496,
          247,
          243,
          382,
          373,
          266,
          340,
          68,
          159,
          242,
          173,
          243,
          261,
          281,
          156,
          329,
          624,
          648,
          197,
          169,
          193,
          279,
          185,
          275,
          280,
          337,
          258,
          401,
          288,
          360,
          289,
          371,
          265,
          503,
          318,
          554,
          350,
          90,
          322,
          352,
          448,
          419,
          491,
          450,
          540,
          416,
          408,
          464,
          371,
          262,
          411,
          377,
          399,
          546,
          339,
          322,
          468,
          291,
          363,
          85,
          307,
          411,
          405,
          365,
          296,
          417,
          390,
          307,
          39,
          112,
          254,
          395,
          423,
          391,
          281,
          353,
          319,
          138,
          232,
          108,
          342,
          425,
          357,
          407,
          34,
          727,
          588,
          841,
          277,
          1083,
          953,
          1232,
          912,
          1112,
          1120,
          1158,
          1334,
          384,
          457,
          453,
          415,
          281,
          158,
          694,
          646,
          679,
          747,
          656,
          715,
          489,
          282,
          541,
          401,
          408,
          460,
          356,
          537,
          414,
          307,
          755,
          484,
          599,
          118,
          501,
          530,
          785,
          519,
          603,
          131,
          279,
          369,
          359,
          360,
          187,
          400,
          192,
          399,
          353,
          432,
          321,
          288,
          395,
          485,
          126,
          454,
          415,
          409,
          479,
          570,
          415,
          404,
          422,
          611,
          223,
          532,
          440,
          579,
          495,
          552,
          477,
          373,
          631,
          54,
          108,
          76,
          86,
          96,
          112,
          62,
          98,
          134,
          223,
          253,
          326,
          536,
          421,
          369,
          564,
          323,
          319,
          265,
          278,
          797,
          832,
          929,
          726,
          585,
          546,
          412,
          501,
          573,
          606,
          589,
          668,
          569,
          659,
          332,
          560,
          401,
          353,
          39,
          46,
          19,
          7,
          39,
          50,
          22,
          51,
          550,
          454,
          568,
          613,
          642,
          629,
          751,
          555,
          696,
          445,
          18,
          395,
          452,
          523,
          41,
          1055,
          388,
          490,
          551,
          486,
          439,
          542,
          459,
          433,
          403,
          342,
          433,
          164,
          1410,
          1272,
          1213,
          1069,
          1210,
          220,
          497,
          495,
          537,
          489,
          493,
          98,
          419,
          434,
          675,
          50,
          454,
          567,
          581,
          627,
          756,
          708,
          579,
          850,
          75,
          363,
          277,
          553,
          386,
          522,
          619,
          446,
          503,
          552,
          706,
          305,
          550,
          268,
          325,
          486,
          357,
          324,
          239,
          416,
          214,
          219,
          246,
          530,
          392,
          580,
          510,
          533,
          569,
          575,
          495,
          594,
          566,
          396,
          291,
          409,
          252,
          276,
          322,
          336,
          72,
          680,
          522,
          315,
          448,
          406,
          330,
          299,
          263,
          615,
          432,
          217,
          353,
          329,
          567,
          348,
          1435,
          455,
          559,
          600,
          463,
          607,
          268,
          387,
          617,
          471,
          378,
          343,
          452,
          508,
          457,
          463,
          447,
          236,
          766,
          138,
          208,
          272,
          28,
          1322,
          1027,
          143,
          559,
          476,
          505,
          590,
          600,
          425,
          41,
          569,
          665,
          677,
          753,
          612,
          436,
          153,
          256,
          131,
          175,
          122,
          158,
          471,
          731,
          615,
          546,
          681,
          634,
          698,
          548,
          599,
          208,
          611,
          513,
          487,
          428,
          576,
          411,
          482,
          82,
          672,
          447,
          317,
          233,
          193,
          496,
          661,
          681,
          605,
          491,
          663,
          415,
          55,
          57,
          127,
          19,
          36,
          68,
          73,
          98,
          16,
          310,
          477,
          490,
          463,
          380,
          471,
          372,
          395,
          401,
          473,
          457,
          194,
          134,
          137,
          178,
          263,
          222,
          343,
          249,
          192,
          159,
          470,
          375,
          574,
          515,
          338,
          376,
          589,
          272,
          70,
          414,
          314,
          350,
          179,
          401,
          644,
          489,
          487,
          361,
          393,
          541,
          105,
          875,
          740,
          667,
          726,
          727,
          636,
          808,
          127,
          226,
          234,
          210,
          231,
          306,
          386,
          497,
          487,
          402,
          387,
          544,
          517,
          446,
          206,
          457,
          476,
          433,
          440,
          437,
          600,
          443,
          449,
          407,
          427,
          532,
          68,
          662,
          499,
          622,
          219,
          260,
          739,
          716,
          873,
          518,
          872,
          9,
          738,
          1074,
          174,
          313,
          419,
          329,
          454,
          381,
          362,
          309,
          433,
          472,
          21,
          677,
          606,
          653,
          732,
          711,
          772,
          476,
          755,
          95,
          341,
          464,
          357,
          451,
          464,
          416,
          349,
          444,
          136,
          305,
          339,
          450,
          376,
          558,
          535,
          539,
          612,
          787,
          636,
          13,
          316,
          353,
          460,
          251,
          294,
          269,
          396,
          145,
          365,
          389,
          268,
          272,
          245,
          493,
          432,
          415,
          709,
          439,
          728,
          479,
          418,
          120,
          348,
          380,
          523,
          451,
          361,
          470,
          347,
          364,
          663,
          267,
          413,
          516,
          606,
          567,
          354,
          779,
          532,
          619,
          603,
          479,
          349,
          747,
          822,
          725,
          637,
          656,
          748,
          672,
          836,
          903,
          747,
          701,
          154,
          150,
          264,
          154,
          261,
          462,
          631,
          434,
          659,
          474,
          485,
          533,
          407,
          472,
          79,
          234,
          327,
          312,
          387,
          274,
          440,
          315,
          380,
          365,
          380,
          47,
          739,
          94,
          508,
          475,
          576,
          312,
          505,
          630,
          576,
          423,
          452,
          437,
          643,
          500,
          520,
          441,
          452,
          468,
          544,
          550,
          630,
          451,
          544,
          487,
          526,
          584,
          556,
          704,
          148,
          182,
          174,
          77,
          156,
          240,
          297,
          253,
          340,
          226,
          336,
          316,
          267,
          252,
          404,
          108,
          494,
          560,
          514,
          469,
          634,
          85,
          353,
          714,
          401,
          520,
          395,
          457,
          494,
          443,
          332,
          418,
          436,
          65,
          595,
          525,
          575,
          76,
          194,
          210,
          306,
          241,
          171,
          173,
          182,
          257,
          197,
          252,
          190,
          131,
          704,
          645,
          20,
          484,
          558,
          658,
          737,
          726,
          578,
          553,
          663,
          705,
          250,
          261,
          144,
          204,
          213,
          159,
          175,
          337,
          225,
          243,
          197,
          207,
          354,
          270,
          316,
          241,
          300,
          24,
          533,
          582,
          613,
          488,
          474,
          280,
          853,
          964,
          406,
          440,
          588,
          370,
          586,
          433,
          519,
          533,
          435,
          483,
          350,
          458,
          513,
          565,
          352,
          489,
          60,
          771,
          456,
          659,
          472,
          678,
          641,
          709,
          305,
          729,
          1005,
          706,
          868,
          293,
          329,
          260,
          429,
          258,
          427,
          351,
          345,
          372,
          456,
          509,
          408,
          411,
          450,
          340,
          342,
          583,
          589,
          645,
          481,
          499,
          545,
          539,
          538,
          136,
          757,
          719,
          782,
          715,
          838,
          535,
          754,
          32,
          273,
          277,
          395,
          298,
          291,
          370,
          292,
          214,
          503,
          459,
          357,
          510,
          462,
          303,
          421,
          405,
          455,
          475,
          600,
          36,
          603,
          497,
          422,
          396,
          507,
          541,
          500,
          116,
          386,
          121,
          161,
          215,
          197,
          170,
          154,
          111,
          150,
          97,
          241,
          188,
          94,
          153,
          176,
          282,
          151,
          180,
          186,
          186,
          151,
          301,
          417,
          672,
          539,
          617,
          25,
          425,
          495,
          604,
          437,
          535,
          394,
          479,
          408,
          352,
          539,
          464,
          153,
          327,
          619,
          346,
          330,
          281,
          284,
          296,
          170,
          267,
          398,
          905,
          116,
          374,
          385,
          374,
          483,
          342,
          329,
          348,
          148,
          304,
          263,
          300,
          275,
          119,
          349,
          556,
          345,
          335,
          342,
          489,
          330,
          321,
          129,
          621,
          531,
          614,
          660,
          480,
          573,
          561,
          500,
          607,
          610,
          110,
          681,
          521,
          671,
          741,
          726,
          522,
          507,
          505,
          532,
          315,
          43,
          618,
          782,
          166,
          223,
          143,
          155,
          254,
          254,
          229,
          403,
          227,
          90,
          159,
          208,
          174,
          219,
          123,
          158,
          108,
          114,
          560,
          473,
          291,
          478,
          448,
          380,
          466,
          547,
          437,
          462,
          515,
          0,
          2,
          22,
          0,
          13,
          11,
          7,
          23,
          23,
          20,
          15,
          0,
          558,
          550,
          478,
          495,
          564,
          391,
          617,
          463,
          462,
          2,
          396,
          373,
          453,
          454,
          490,
          291,
          583,
          230,
          548,
          421,
          572,
          529,
          486,
          517,
          447,
          457,
          453,
          437,
          563,
          101,
          262,
          285,
          85,
          737,
          608,
          618,
          682,
          707,
          667,
          673,
          682,
          238,
          352,
          432,
          396,
          492,
          360,
          107,
          481,
          421,
          506,
          516,
          189,
          389,
          257,
          329,
          263,
          292,
          2,
          224,
          198,
          183,
          230,
          185,
          171,
          680,
          487,
          574,
          518,
          560,
          554,
          566,
          636,
          604,
          651,
          238,
          559,
          463,
          439,
          497,
          428,
          455,
          461,
          440,
          390,
          511,
          480,
          492,
          584,
          668,
          657,
          446,
          541,
          544,
          665,
          503,
          589,
          637,
          627,
          310,
          200,
          453,
          617,
          511,
          606,
          153,
          354,
          473,
          315,
          438,
          463,
          390,
          470,
          343,
          402,
          349,
          351,
          105,
          209,
          196,
          142,
          162,
          142,
          275,
          226,
          133,
          290,
          149,
          242,
          397,
          239,
          291,
          95,
          597,
          525,
          549,
          750,
          624,
          614,
          541,
          515,
          753,
          734,
          635,
          643,
          846,
          733,
          655,
          750,
          667,
          51,
          252,
          449,
          555,
          402,
          386,
          588,
          587,
          601,
          584,
          793,
          63,
          169,
          193,
          136,
          187,
          201,
          338,
          371,
          308,
          302,
          361,
          318,
          397,
          177,
          346,
          441,
          333,
          369,
          368,
          161,
          412,
          413,
          206,
          649,
          584,
          465,
          456,
          538,
          83,
          210,
          199,
          231,
          74,
          285,
          379,
          282,
          242,
          359,
          389,
          279,
          414,
          253,
          335,
          252,
          412,
          277,
          61,
          198,
          175,
          224,
          131,
          228,
          203,
          227,
          198,
          174,
          271,
          219,
          49,
          722,
          653,
          820,
          667,
          728,
          525,
          766,
          733,
          585,
          646,
          570,
          510,
          464,
          637,
          418,
          700,
          515,
          537,
          577,
          561,
          482,
          542,
          608,
          66,
          414,
          428,
          399,
          382,
          70,
          240,
          357,
          188,
          161,
          204,
          379,
          332,
          138,
          261,
          273,
          241,
          89,
          266,
          163,
          318,
          299,
          196,
          214,
          358,
          278,
          265,
          359,
          727,
          750,
          650,
          619,
          452,
          527,
          627,
          406,
          554,
          508,
          503,
          520,
          712,
          660,
          503,
          516,
          560,
          204,
          215,
          309,
          401,
          298,
          234,
          358,
          403,
          318,
          318,
          463,
          330,
          174,
          297,
          199,
          335,
          290,
          307,
          353,
          10,
          329,
          586,
          487,
          452,
          488,
          409,
          80,
          182,
          407,
          965,
          761,
          611,
          575,
          631,
          508,
          50,
          421,
          289,
          642,
          424,
          436,
          652,
          644,
          750,
          254,
          457,
          526,
          471,
          241,
          547,
          655,
          532,
          648,
          576,
          321,
          495,
          427,
          118,
          843,
          779,
          729,
          1144,
          409,
          491,
          381,
          519,
          520,
          450,
          543,
          432,
          444,
          514,
          152,
          756,
          889,
          889,
          930,
          335,
          441,
          490,
          371,
          472,
          494,
          516,
          515,
          506,
          494,
          427,
          662,
          488,
          534,
          756,
          466,
          613,
          537,
          611,
          711,
          954,
          671,
          94,
          933,
          878,
          237,
          529,
          694,
          616,
          402,
          585,
          490,
          542,
          631,
          597,
          555,
          247,
          449,
          609,
          660,
          554,
          636,
          492,
          736,
          592,
          137,
          287,
          233,
          138,
          211,
          280,
          406,
          177,
          195,
          276,
          216,
          255,
          508,
          492,
          294,
          461,
          581,
          590,
          486,
          606,
          669,
          456,
          552,
          468,
          605,
          625,
          172,
          234,
          238,
          230,
          291,
          211,
          208,
          286,
          255,
          243,
          204,
          130,
          121,
          601,
          602,
          695,
          797,
          751,
          708,
          531,
          630,
          174,
          305,
          187,
          290,
          249,
          291,
          666,
          396,
          799,
          640,
          465,
          576,
          222,
          425,
          550,
          494,
          388,
          471,
          547,
          305,
          36,
          382,
          361,
          460,
          272,
          269,
          223,
          312,
          279,
          297,
          356,
          24,
          444,
          294,
          360,
          246,
          245,
          331,
          238,
          303,
          265,
          275,
          366,
          470,
          731,
          686,
          784,
          645,
          865,
          613,
          691,
          345,
          529,
          369,
          334,
          292,
          38,
          764,
          1007,
          87,
          180,
          98,
          227,
          155,
          403,
          444,
          270,
          339,
          330,
          250,
          346,
          322,
          312,
          282,
          290,
          84,
          517,
          603,
          694,
          619,
          510,
          781,
          262,
          501,
          354,
          411,
          418,
          48,
          594,
          557,
          521,
          484,
          555,
          582,
          527,
          486,
          450,
          662,
          518,
          490,
          371,
          545,
          175,
          400,
          471,
          247,
          70,
          449,
          612,
          492,
          0,
          0,
          0,
          0,
          0
         ],
         "xaxis": "x",
         "yaxis": "y"
        },
        {
         "alignmentgroup": "True",
         "hoverlabel": {
          "namelength": 0
         },
         "hovertemplate": "tariff=smart<br>duration_sum=%{x}",
         "legendgroup": "tariff=smart",
         "marker": {
          "color": "#EF553B"
         },
         "name": "tariff=smart",
         "notched": true,
         "offsetgroup": "tariff=smart",
         "showlegend": false,
         "type": "box",
         "x": [
          430,
          414,
          117,
          214,
          289,
          206,
          212,
          243,
          236,
          95,
          456,
          606,
          712,
          595,
          612,
          569,
          619,
          479,
          723,
          547,
          592,
          42,
          286,
          356,
          370,
          478,
          316,
          275,
          360,
          267,
          372,
          379,
          198,
          480,
          545,
          577,
          458,
          655,
          465,
          580,
          421,
          339,
          109,
          324,
          170,
          289,
          183,
          249,
          133,
          213,
          290,
          229,
          142,
          142,
          245,
          290,
          336,
          212,
          371,
          437,
          327,
          502,
          515,
          472,
          630,
          501,
          361,
          13,
          345,
          316,
          219,
          223,
          157,
          230,
          451,
          206,
          356,
          102,
          180,
          300,
          241,
          250,
          332,
          237,
          175,
          11,
          401,
          430,
          556,
          394,
          486,
          577,
          454,
          499,
          111,
          341,
          461,
          389,
          366,
          329,
          463,
          444,
          239,
          674,
          340,
          267,
          156,
          512,
          557,
          323,
          464,
          552,
          548,
          577,
          444,
          514,
          653,
          563,
          503,
          535,
          469,
          531,
          379,
          623,
          441,
          477,
          474,
          388,
          373,
          348,
          516,
          422,
          609,
          679,
          891,
          109,
          313,
          328,
          426,
          439,
          345,
          413,
          393,
          665,
          562,
          380,
          371,
          487,
          521,
          512,
          402,
          415,
          446,
          507,
          385,
          410,
          482,
          311,
          345,
          411,
          375,
          425,
          231,
          170,
          730,
          549,
          350,
          398,
          608,
          427,
          493,
          494,
          420,
          250,
          303,
          467,
          285,
          554,
          430,
          530,
          424,
          669,
          304,
          341,
          408,
          342,
          272,
          344,
          207,
          357,
          348,
          254,
          287,
          437,
          379,
          12,
          861,
          133,
          728,
          252,
          297,
          295,
          512,
          403,
          537,
          246,
          308,
          254,
          385,
          390,
          338,
          369,
          364,
          9,
          189,
          229,
          219,
          290,
          229,
          185,
          222,
          299,
          285,
          273,
          256,
          228,
          504,
          443,
          545,
          555,
          109,
          762,
          822,
          59,
          517,
          348,
          398,
          311,
          123,
          98,
          706,
          816,
          906,
          682,
          859,
          237,
          564,
          737,
          527,
          627,
          605,
          672,
          708,
          654,
          595,
          551,
          440,
          558,
          391,
          449,
          518,
          445,
          380,
          465,
          347,
          314,
          597,
          193,
          462,
          382,
          425,
          300,
          338,
          140,
          557,
          720,
          701,
          330,
          671,
          705,
          627,
          721,
          724,
          566,
          586,
          726,
          309,
          639,
          563,
          588,
          768,
          481,
          405,
          290,
          166,
          363,
          437,
          326,
          313,
          402,
          479,
          277,
          479,
          337,
          480,
          501,
          561,
          415,
          450,
          573,
          507,
          539,
          522,
          134,
          184,
          715,
          587,
          673,
          539,
          685,
          448,
          387,
          480,
          633,
          383,
          386,
          554,
          491,
          477,
          390,
          312,
          622,
          564,
          575,
          433,
          516,
          349,
          187,
          514,
          252,
          380,
          280,
          194,
          401,
          283,
          321,
          365,
          313,
          281,
          229,
          137,
          338,
          554,
          342,
          281,
          617,
          439,
          601,
          517,
          494,
          385,
          461,
          334,
          533,
          580,
          466,
          532,
          297,
          447,
          490,
          475,
          529,
          528,
          524,
          598,
          541,
          567,
          205,
          686,
          784,
          162,
          607,
          592,
          653,
          603,
          345,
          560,
          578,
          303,
          108,
          267,
          122,
          480,
          542,
          414,
          505,
          548,
          549,
          610,
          455,
          95,
          436,
          467,
          529,
          566,
          509,
          561,
          510,
          510,
          477,
          328,
          349,
          309,
          326,
          427,
          277,
          385,
          364,
          344,
          212,
          421,
          411,
          258,
          470,
          439,
          295,
          59,
          600,
          856,
          825,
          789,
          843,
          930,
          540,
          101,
          493,
          431,
          456,
          595,
          540,
          588,
          529,
          637,
          461,
          553,
          530,
          578,
          198,
          544,
          535,
          538,
          575,
          530,
          617,
          723,
          278,
          538,
          423,
          568,
          540,
          362,
          606,
          448,
          26,
          310,
          461,
          270,
          63,
          274,
          352,
          164,
          224,
          330,
          231,
          324,
          99,
          426,
          485,
          480,
          382,
          522,
          504,
          391,
          669,
          423,
          471,
          366,
          363,
          520,
          348,
          423,
          365,
          402,
          390,
          347,
          532,
          466,
          549,
          431,
          544,
          110,
          543,
          530,
          785,
          501,
          628,
          692,
          654,
          638,
          561,
          673,
          710,
          80,
          418,
          406,
          381,
          397,
          449,
          70,
          628,
          652,
          495,
          437,
          622,
          168,
          326,
          370,
          286,
          306,
          272,
          366,
          288,
          420,
          282,
          547,
          752,
          582,
          681,
          839,
          747,
          766,
          581,
          567,
          626,
          65,
          171,
          254,
          277,
          272,
          280,
          214,
          243,
          194,
          290,
          584,
          509,
          420,
          365,
          513,
          448,
          531,
          234,
          585,
          546,
          476,
          561,
          704,
          673,
          591,
          548,
          764,
          332,
          219,
          393,
          317,
          189,
          209,
          208,
          308,
          173,
          272,
          249,
          402,
          234,
          452,
          389,
          521,
          648,
          449,
          499,
          583,
          394,
          577,
          580,
          263,
          671,
          567,
          544,
          609,
          224,
          690,
          648,
          332,
          458,
          461,
          419,
          385,
          518,
          543,
          527,
          333,
          549,
          596,
          468,
          90,
          439,
          442,
          378,
          346,
          564,
          382,
          654,
          535,
          346,
          427,
          359,
          147,
          471,
          705,
          483,
          859,
          701,
          562,
          526,
          527,
          360,
          572,
          571,
          211,
          81,
          475,
          468,
          503,
          515,
          354,
          465,
          457,
          478,
          437,
          32,
          541,
          468,
          398,
          349,
          516,
          416,
          523,
          388,
          348,
          508,
          397,
          520,
          523,
          454,
          497,
          367,
          524,
          126,
          532,
          471,
          438,
          424,
          634,
          499,
          496,
          247,
          243,
          382,
          373,
          266,
          340,
          68,
          159,
          242,
          173,
          243,
          261,
          281,
          156,
          329,
          624,
          648,
          197,
          169,
          193,
          279,
          185,
          275,
          280,
          337,
          258,
          401,
          288,
          360,
          289,
          371,
          265,
          503,
          318,
          554,
          350,
          90,
          322,
          352,
          448,
          419,
          491,
          450,
          540,
          416,
          408,
          464,
          371,
          262,
          411,
          377,
          399,
          546,
          339,
          322,
          468,
          291,
          363,
          85,
          307,
          411,
          405,
          365,
          296,
          417,
          390,
          307,
          39,
          112,
          254,
          395,
          423,
          391,
          281,
          353,
          319,
          138,
          232,
          108,
          342,
          425,
          357,
          407,
          34,
          727,
          588,
          841,
          277,
          1083,
          953,
          1232,
          912,
          1112,
          1120,
          1158,
          1334,
          384,
          457,
          453,
          415,
          281,
          158,
          694,
          646,
          679,
          747,
          656,
          715,
          489,
          282,
          541,
          401,
          408,
          460,
          356,
          537,
          414,
          307,
          755,
          484,
          599,
          118,
          501,
          530,
          785,
          519,
          603,
          131,
          279,
          369,
          359,
          360,
          187,
          400,
          192,
          399,
          353,
          432,
          321,
          288,
          395,
          485,
          126,
          454,
          415,
          409,
          479,
          570,
          415,
          404,
          422,
          611,
          223,
          532,
          440,
          579,
          495,
          552,
          477,
          373,
          631,
          54,
          108,
          76,
          86,
          96,
          112,
          62,
          98,
          134,
          223,
          253,
          326,
          536,
          421,
          369,
          564,
          323,
          319,
          265,
          278,
          797,
          832,
          929,
          726,
          585,
          546,
          412,
          501,
          573,
          606,
          589,
          668,
          569,
          659,
          332,
          560,
          401,
          353,
          39,
          46,
          19,
          7,
          39,
          50,
          22,
          51,
          550,
          454,
          568,
          613,
          642,
          629,
          751,
          555,
          696,
          445,
          18,
          395,
          452,
          523,
          41,
          1055,
          388,
          490,
          551,
          486,
          439,
          542,
          459,
          433,
          403,
          342,
          433,
          164,
          1410,
          1272,
          1213,
          1069,
          1210,
          220,
          497,
          495,
          537,
          489,
          493,
          98,
          419,
          434,
          675,
          50,
          454,
          567,
          581,
          627,
          756,
          708,
          579,
          850,
          75,
          363,
          277,
          553,
          386,
          522,
          619,
          446,
          503,
          552,
          706,
          305,
          550,
          268,
          325,
          486,
          357,
          324,
          239,
          416,
          214,
          219,
          246,
          530,
          392,
          580,
          510,
          533,
          569,
          575,
          495,
          594,
          566,
          396,
          291,
          409,
          252,
          276,
          322,
          336,
          72,
          680,
          522,
          315,
          448,
          406,
          330,
          299,
          263,
          615,
          432,
          217,
          353,
          329,
          567,
          348,
          1435,
          455,
          559,
          600,
          463,
          607,
          268,
          387,
          617,
          471,
          378,
          343,
          452,
          508,
          457,
          463,
          447,
          236,
          766,
          138,
          208,
          272,
          28,
          1322,
          1027,
          143,
          559,
          476,
          505,
          590,
          600,
          425,
          41,
          569,
          665,
          677,
          753,
          612,
          436,
          153,
          256,
          131,
          175,
          122,
          158,
          471,
          731,
          615,
          546,
          681,
          634,
          698,
          548,
          599,
          208,
          611,
          513,
          487,
          428,
          576,
          411,
          482,
          82,
          672,
          447,
          317,
          233,
          193,
          496,
          661,
          681,
          605,
          491,
          663,
          415,
          55,
          57,
          127,
          19,
          36,
          68,
          73,
          98,
          16,
          310,
          477,
          490,
          463,
          380,
          471,
          372,
          395,
          401,
          473,
          457,
          194,
          134,
          137,
          178,
          263,
          222,
          343,
          249,
          192,
          159,
          470,
          375,
          574,
          515,
          338,
          376,
          589,
          272,
          70,
          414,
          314,
          350,
          179,
          401,
          644,
          489,
          487,
          361,
          393,
          541,
          105,
          875,
          740,
          667,
          726,
          727,
          636,
          808,
          127,
          226,
          234,
          210,
          231,
          306,
          386,
          497,
          487,
          402,
          387,
          544,
          517,
          446,
          206,
          457,
          476,
          433,
          440,
          437,
          600,
          443,
          449,
          407,
          427,
          532,
          68,
          662,
          499,
          622,
          219,
          260,
          739,
          716,
          873,
          518,
          872,
          9,
          738,
          1074,
          174,
          313,
          419,
          329,
          454,
          381,
          362,
          309,
          433,
          472,
          21,
          677,
          606,
          653,
          732,
          711,
          772,
          476,
          755,
          95,
          341,
          464,
          357,
          451,
          464,
          416,
          349,
          444,
          136,
          305,
          339,
          450,
          376,
          558,
          535,
          539,
          612,
          787,
          636,
          13,
          316,
          353,
          460,
          251,
          294,
          269,
          396,
          145,
          365,
          389,
          268,
          272,
          245,
          493,
          432,
          415,
          709,
          439,
          728,
          479,
          418,
          120,
          348,
          380,
          523,
          451,
          361,
          470,
          347,
          364,
          663,
          267,
          413,
          516,
          606,
          567,
          354,
          779,
          532,
          619,
          603,
          479,
          349,
          747,
          822,
          725,
          637,
          656,
          748,
          672,
          836,
          903,
          747,
          701,
          154,
          150,
          264,
          154,
          261,
          462,
          631,
          434,
          659,
          474,
          485,
          533,
          407,
          472,
          79,
          234,
          327,
          312,
          387,
          274,
          440,
          315,
          380,
          365,
          380,
          47,
          739,
          94,
          508,
          475,
          576,
          312,
          505,
          630,
          576,
          423,
          452,
          437,
          643,
          500,
          520,
          441,
          452,
          468,
          544,
          550,
          630,
          451,
          544,
          487,
          526,
          584,
          556,
          704,
          148,
          182,
          174,
          77,
          156,
          240,
          297,
          253,
          340,
          226,
          336,
          316,
          267,
          252,
          404,
          108,
          494,
          560,
          514,
          469,
          634,
          85,
          353,
          714,
          401,
          520,
          395,
          457,
          494,
          443,
          332,
          418,
          436,
          65,
          595,
          525,
          575,
          76,
          194,
          210,
          306,
          241,
          171,
          173,
          182,
          257,
          197,
          252,
          190,
          131,
          704,
          645,
          20,
          484,
          558,
          658,
          737,
          726,
          578,
          553,
          663,
          705,
          250,
          261,
          144,
          204,
          213,
          159,
          175,
          337,
          225,
          243,
          197,
          207,
          354,
          270,
          316,
          241,
          300,
          24,
          533,
          582,
          613,
          488,
          474,
          280,
          853,
          964,
          406,
          440,
          588,
          370,
          586,
          433,
          519,
          533,
          435,
          483,
          350,
          458,
          513,
          565,
          352,
          489,
          60,
          771,
          456,
          659,
          472,
          678,
          641,
          709,
          305,
          729,
          1005,
          706,
          868,
          293,
          329,
          260,
          429,
          258,
          427,
          351,
          345,
          372,
          456,
          509,
          408,
          411,
          450,
          340,
          342,
          583,
          589,
          645,
          481,
          499,
          545,
          539,
          538,
          136,
          757,
          719,
          782,
          715,
          838,
          535,
          754,
          32,
          273,
          277,
          395,
          298,
          291,
          370,
          292,
          214,
          503,
          459,
          357,
          510,
          462,
          303,
          421,
          405,
          455,
          475,
          600,
          36,
          603,
          497,
          422,
          396,
          507,
          541,
          500,
          116,
          386,
          121,
          161,
          215,
          197,
          170,
          154,
          111,
          150,
          97,
          241,
          188,
          94,
          153,
          176,
          282,
          151,
          180,
          186,
          186,
          151,
          301,
          417,
          672,
          539,
          617,
          25,
          425,
          495,
          604,
          437,
          535,
          394,
          479,
          408,
          352,
          539,
          464,
          153,
          327,
          619,
          346,
          330,
          281,
          284,
          296,
          170,
          267,
          398,
          905,
          116,
          374,
          385,
          374,
          483,
          342,
          329,
          348,
          148,
          304,
          263,
          300,
          275,
          119,
          349,
          556,
          345,
          335,
          342,
          489,
          330,
          321,
          129,
          621,
          531,
          614,
          660,
          480,
          573,
          561,
          500,
          607,
          610,
          110,
          681,
          521,
          671,
          741,
          726,
          522,
          507,
          505,
          532,
          315,
          43,
          618,
          782,
          166,
          223,
          143,
          155,
          254,
          254,
          229,
          403,
          227,
          90,
          159,
          208,
          174,
          219,
          123,
          158,
          108,
          114,
          560,
          473,
          291,
          478,
          448,
          380,
          466,
          547,
          437,
          462,
          515,
          0,
          2,
          22,
          0,
          13,
          11,
          7,
          23,
          23,
          20,
          15,
          0,
          558,
          550,
          478,
          495,
          564,
          391,
          617,
          463,
          462,
          2,
          396,
          373,
          453,
          454,
          490,
          291,
          583,
          230,
          548,
          421,
          572,
          529,
          486,
          517,
          447,
          457,
          453,
          437,
          563,
          101,
          262,
          285,
          85,
          737,
          608,
          618,
          682,
          707,
          667,
          673,
          682,
          238,
          352,
          432,
          396,
          492,
          360,
          107,
          481,
          421,
          506,
          516,
          189,
          389,
          257,
          329,
          263,
          292,
          2,
          224,
          198,
          183,
          230,
          185,
          171,
          680,
          487,
          574,
          518,
          560,
          554,
          566,
          636,
          604,
          651,
          238,
          559,
          463,
          439,
          497,
          428,
          455,
          461,
          440,
          390,
          511,
          480,
          492,
          584,
          668,
          657,
          446,
          541,
          544,
          665,
          503,
          589,
          637,
          627,
          310,
          200,
          453,
          617,
          511,
          606,
          153,
          354,
          473,
          315,
          438,
          463,
          390,
          470,
          343,
          402,
          349,
          351,
          105,
          209,
          196,
          142,
          162,
          142,
          275,
          226,
          133,
          290,
          149,
          242,
          397,
          239,
          291,
          95,
          597,
          525,
          549,
          750,
          624,
          614,
          541,
          515,
          753,
          734,
          635,
          643,
          846,
          733,
          655,
          750,
          667,
          51,
          252,
          449,
          555,
          402,
          386,
          588,
          587,
          601,
          584,
          793,
          63,
          169,
          193,
          136,
          187,
          201,
          338,
          371,
          308,
          302,
          361,
          318,
          397,
          177,
          346,
          441,
          333,
          369,
          368,
          161,
          412,
          413,
          206,
          649,
          584,
          465,
          456,
          538,
          83,
          210,
          199,
          231,
          74,
          285,
          379,
          282,
          242,
          359,
          389,
          279,
          414,
          253,
          335,
          252,
          412,
          277,
          61,
          198,
          175,
          224,
          131,
          228,
          203,
          227,
          198,
          174,
          271,
          219,
          49,
          722,
          653,
          820,
          667,
          728,
          525,
          766,
          733,
          585,
          646,
          570,
          510,
          464,
          637,
          418,
          700,
          515,
          537,
          577,
          561,
          482,
          542,
          608,
          66,
          414,
          428,
          399,
          382,
          70,
          240,
          357,
          188,
          161,
          204,
          379,
          332,
          138,
          261,
          273,
          241,
          89,
          266,
          163,
          318,
          299,
          196,
          214,
          358,
          278,
          265,
          359,
          727,
          750,
          650,
          619,
          452,
          527,
          627,
          406,
          554,
          508,
          503,
          520,
          712,
          660,
          503,
          516,
          560,
          204,
          215,
          309,
          401,
          298,
          234,
          358,
          403,
          318,
          318,
          463,
          330,
          174,
          297,
          199,
          335,
          290,
          307,
          353,
          10,
          329,
          586,
          487,
          452,
          488,
          409,
          80,
          182,
          407,
          965,
          761,
          611,
          575,
          631,
          508,
          50,
          421,
          289,
          642,
          424,
          436,
          652,
          644,
          750,
          254,
          457,
          526,
          471,
          241,
          547,
          655,
          532,
          648,
          576,
          321,
          495,
          427,
          118,
          843,
          779,
          729,
          1144,
          409,
          491,
          381,
          519,
          520,
          450,
          543,
          432,
          444,
          514,
          152,
          756,
          889,
          889,
          930,
          335,
          441,
          490,
          371,
          472,
          494,
          516,
          515,
          506,
          494,
          427,
          662,
          488,
          534,
          756,
          466,
          613,
          537,
          611,
          711,
          954,
          671,
          94,
          933,
          878,
          237,
          529,
          694,
          616,
          402,
          585,
          490,
          542,
          631,
          597,
          555,
          247,
          449,
          609,
          660,
          554,
          636,
          492,
          736,
          592,
          137,
          287,
          233,
          138,
          211,
          280,
          406,
          177,
          195,
          276,
          216,
          255,
          508,
          492,
          294,
          461,
          581,
          590,
          486,
          606,
          669,
          456,
          552,
          468,
          605,
          625,
          172,
          234,
          238,
          230,
          291,
          211,
          208,
          286,
          255,
          243,
          204,
          130,
          121,
          601,
          602,
          695,
          797,
          751,
          708,
          531,
          630,
          174,
          305,
          187,
          290,
          249,
          291,
          666,
          396,
          799,
          640,
          465,
          576,
          222,
          425,
          550,
          494,
          388,
          471,
          547,
          305,
          36,
          382,
          361,
          460,
          272,
          269,
          223,
          312,
          279,
          297,
          356,
          24,
          444,
          294,
          360,
          246,
          245,
          331,
          238,
          303,
          265,
          275,
          366,
          470,
          731,
          686,
          784,
          645,
          865,
          613,
          691,
          345,
          529,
          369,
          334,
          292,
          38,
          764,
          1007,
          87,
          180,
          98,
          227,
          155,
          403,
          444,
          270,
          339,
          330,
          250,
          346,
          322,
          312,
          282,
          290,
          84,
          517,
          603,
          694,
          619,
          510,
          781,
          262,
          501,
          354,
          411,
          418,
          48,
          594,
          557,
          521,
          484,
          555,
          582,
          527,
          486,
          450,
          662,
          518,
          490,
          371,
          545,
          175,
          400,
          471,
          247,
          70,
          449,
          612,
          492,
          0,
          0,
          0,
          0,
          0
         ],
         "xaxis": "x2",
         "yaxis": "y2"
        }
       ],
       "layout": {
        "barmode": "relative",
        "height": 600,
        "legend": {
         "tracegroupgap": 0
        },
        "template": {
         "data": {
          "bar": [
           {
            "error_x": {
             "color": "#2a3f5f"
            },
            "error_y": {
             "color": "#2a3f5f"
            },
            "marker": {
             "line": {
              "color": "#E5ECF6",
              "width": 0.5
             }
            },
            "type": "bar"
           }
          ],
          "barpolar": [
           {
            "marker": {
             "line": {
              "color": "#E5ECF6",
              "width": 0.5
             }
            },
            "type": "barpolar"
           }
          ],
          "carpet": [
           {
            "aaxis": {
             "endlinecolor": "#2a3f5f",
             "gridcolor": "white",
             "linecolor": "white",
             "minorgridcolor": "white",
             "startlinecolor": "#2a3f5f"
            },
            "baxis": {
             "endlinecolor": "#2a3f5f",
             "gridcolor": "white",
             "linecolor": "white",
             "minorgridcolor": "white",
             "startlinecolor": "#2a3f5f"
            },
            "type": "carpet"
           }
          ],
          "choropleth": [
           {
            "colorbar": {
             "outlinewidth": 0,
             "ticks": ""
            },
            "type": "choropleth"
           }
          ],
          "contour": [
           {
            "colorbar": {
             "outlinewidth": 0,
             "ticks": ""
            },
            "colorscale": [
             [
              0,
              "#0d0887"
             ],
             [
              0.1111111111111111,
              "#46039f"
             ],
             [
              0.2222222222222222,
              "#7201a8"
             ],
             [
              0.3333333333333333,
              "#9c179e"
             ],
             [
              0.4444444444444444,
              "#bd3786"
             ],
             [
              0.5555555555555556,
              "#d8576b"
             ],
             [
              0.6666666666666666,
              "#ed7953"
             ],
             [
              0.7777777777777778,
              "#fb9f3a"
             ],
             [
              0.8888888888888888,
              "#fdca26"
             ],
             [
              1,
              "#f0f921"
             ]
            ],
            "type": "contour"
           }
          ],
          "contourcarpet": [
           {
            "colorbar": {
             "outlinewidth": 0,
             "ticks": ""
            },
            "type": "contourcarpet"
           }
          ],
          "heatmap": [
           {
            "colorbar": {
             "outlinewidth": 0,
             "ticks": ""
            },
            "colorscale": [
             [
              0,
              "#0d0887"
             ],
             [
              0.1111111111111111,
              "#46039f"
             ],
             [
              0.2222222222222222,
              "#7201a8"
             ],
             [
              0.3333333333333333,
              "#9c179e"
             ],
             [
              0.4444444444444444,
              "#bd3786"
             ],
             [
              0.5555555555555556,
              "#d8576b"
             ],
             [
              0.6666666666666666,
              "#ed7953"
             ],
             [
              0.7777777777777778,
              "#fb9f3a"
             ],
             [
              0.8888888888888888,
              "#fdca26"
             ],
             [
              1,
              "#f0f921"
             ]
            ],
            "type": "heatmap"
           }
          ],
          "heatmapgl": [
           {
            "colorbar": {
             "outlinewidth": 0,
             "ticks": ""
            },
            "colorscale": [
             [
              0,
              "#0d0887"
             ],
             [
              0.1111111111111111,
              "#46039f"
             ],
             [
              0.2222222222222222,
              "#7201a8"
             ],
             [
              0.3333333333333333,
              "#9c179e"
             ],
             [
              0.4444444444444444,
              "#bd3786"
             ],
             [
              0.5555555555555556,
              "#d8576b"
             ],
             [
              0.6666666666666666,
              "#ed7953"
             ],
             [
              0.7777777777777778,
              "#fb9f3a"
             ],
             [
              0.8888888888888888,
              "#fdca26"
             ],
             [
              1,
              "#f0f921"
             ]
            ],
            "type": "heatmapgl"
           }
          ],
          "histogram": [
           {
            "marker": {
             "colorbar": {
              "outlinewidth": 0,
              "ticks": ""
             }
            },
            "type": "histogram"
           }
          ],
          "histogram2d": [
           {
            "colorbar": {
             "outlinewidth": 0,
             "ticks": ""
            },
            "colorscale": [
             [
              0,
              "#0d0887"
             ],
             [
              0.1111111111111111,
              "#46039f"
             ],
             [
              0.2222222222222222,
              "#7201a8"
             ],
             [
              0.3333333333333333,
              "#9c179e"
             ],
             [
              0.4444444444444444,
              "#bd3786"
             ],
             [
              0.5555555555555556,
              "#d8576b"
             ],
             [
              0.6666666666666666,
              "#ed7953"
             ],
             [
              0.7777777777777778,
              "#fb9f3a"
             ],
             [
              0.8888888888888888,
              "#fdca26"
             ],
             [
              1,
              "#f0f921"
             ]
            ],
            "type": "histogram2d"
           }
          ],
          "histogram2dcontour": [
           {
            "colorbar": {
             "outlinewidth": 0,
             "ticks": ""
            },
            "colorscale": [
             [
              0,
              "#0d0887"
             ],
             [
              0.1111111111111111,
              "#46039f"
             ],
             [
              0.2222222222222222,
              "#7201a8"
             ],
             [
              0.3333333333333333,
              "#9c179e"
             ],
             [
              0.4444444444444444,
              "#bd3786"
             ],
             [
              0.5555555555555556,
              "#d8576b"
             ],
             [
              0.6666666666666666,
              "#ed7953"
             ],
             [
              0.7777777777777778,
              "#fb9f3a"
             ],
             [
              0.8888888888888888,
              "#fdca26"
             ],
             [
              1,
              "#f0f921"
             ]
            ],
            "type": "histogram2dcontour"
           }
          ],
          "mesh3d": [
           {
            "colorbar": {
             "outlinewidth": 0,
             "ticks": ""
            },
            "type": "mesh3d"
           }
          ],
          "parcoords": [
           {
            "line": {
             "colorbar": {
              "outlinewidth": 0,
              "ticks": ""
             }
            },
            "type": "parcoords"
           }
          ],
          "scatter": [
           {
            "marker": {
             "colorbar": {
              "outlinewidth": 0,
              "ticks": ""
             }
            },
            "type": "scatter"
           }
          ],
          "scatter3d": [
           {
            "line": {
             "colorbar": {
              "outlinewidth": 0,
              "ticks": ""
             }
            },
            "marker": {
             "colorbar": {
              "outlinewidth": 0,
              "ticks": ""
             }
            },
            "type": "scatter3d"
           }
          ],
          "scattercarpet": [
           {
            "marker": {
             "colorbar": {
              "outlinewidth": 0,
              "ticks": ""
             }
            },
            "type": "scattercarpet"
           }
          ],
          "scattergeo": [
           {
            "marker": {
             "colorbar": {
              "outlinewidth": 0,
              "ticks": ""
             }
            },
            "type": "scattergeo"
           }
          ],
          "scattergl": [
           {
            "marker": {
             "colorbar": {
              "outlinewidth": 0,
              "ticks": ""
             }
            },
            "type": "scattergl"
           }
          ],
          "scattermapbox": [
           {
            "marker": {
             "colorbar": {
              "outlinewidth": 0,
              "ticks": ""
             }
            },
            "type": "scattermapbox"
           }
          ],
          "scatterpolar": [
           {
            "marker": {
             "colorbar": {
              "outlinewidth": 0,
              "ticks": ""
             }
            },
            "type": "scatterpolar"
           }
          ],
          "scatterpolargl": [
           {
            "marker": {
             "colorbar": {
              "outlinewidth": 0,
              "ticks": ""
             }
            },
            "type": "scatterpolargl"
           }
          ],
          "scatterternary": [
           {
            "marker": {
             "colorbar": {
              "outlinewidth": 0,
              "ticks": ""
             }
            },
            "type": "scatterternary"
           }
          ],
          "surface": [
           {
            "colorbar": {
             "outlinewidth": 0,
             "ticks": ""
            },
            "colorscale": [
             [
              0,
              "#0d0887"
             ],
             [
              0.1111111111111111,
              "#46039f"
             ],
             [
              0.2222222222222222,
              "#7201a8"
             ],
             [
              0.3333333333333333,
              "#9c179e"
             ],
             [
              0.4444444444444444,
              "#bd3786"
             ],
             [
              0.5555555555555556,
              "#d8576b"
             ],
             [
              0.6666666666666666,
              "#ed7953"
             ],
             [
              0.7777777777777778,
              "#fb9f3a"
             ],
             [
              0.8888888888888888,
              "#fdca26"
             ],
             [
              1,
              "#f0f921"
             ]
            ],
            "type": "surface"
           }
          ],
          "table": [
           {
            "cells": {
             "fill": {
              "color": "#EBF0F8"
             },
             "line": {
              "color": "white"
             }
            },
            "header": {
             "fill": {
              "color": "#C8D4E3"
             },
             "line": {
              "color": "white"
             }
            },
            "type": "table"
           }
          ]
         },
         "layout": {
          "annotationdefaults": {
           "arrowcolor": "#2a3f5f",
           "arrowhead": 0,
           "arrowwidth": 1
          },
          "colorscale": {
           "diverging": [
            [
             0,
             "#8e0152"
            ],
            [
             0.1,
             "#c51b7d"
            ],
            [
             0.2,
             "#de77ae"
            ],
            [
             0.3,
             "#f1b6da"
            ],
            [
             0.4,
             "#fde0ef"
            ],
            [
             0.5,
             "#f7f7f7"
            ],
            [
             0.6,
             "#e6f5d0"
            ],
            [
             0.7,
             "#b8e186"
            ],
            [
             0.8,
             "#7fbc41"
            ],
            [
             0.9,
             "#4d9221"
            ],
            [
             1,
             "#276419"
            ]
           ],
           "sequential": [
            [
             0,
             "#0d0887"
            ],
            [
             0.1111111111111111,
             "#46039f"
            ],
            [
             0.2222222222222222,
             "#7201a8"
            ],
            [
             0.3333333333333333,
             "#9c179e"
            ],
            [
             0.4444444444444444,
             "#bd3786"
            ],
            [
             0.5555555555555556,
             "#d8576b"
            ],
            [
             0.6666666666666666,
             "#ed7953"
            ],
            [
             0.7777777777777778,
             "#fb9f3a"
            ],
            [
             0.8888888888888888,
             "#fdca26"
            ],
            [
             1,
             "#f0f921"
            ]
           ],
           "sequentialminus": [
            [
             0,
             "#0d0887"
            ],
            [
             0.1111111111111111,
             "#46039f"
            ],
            [
             0.2222222222222222,
             "#7201a8"
            ],
            [
             0.3333333333333333,
             "#9c179e"
            ],
            [
             0.4444444444444444,
             "#bd3786"
            ],
            [
             0.5555555555555556,
             "#d8576b"
            ],
            [
             0.6666666666666666,
             "#ed7953"
            ],
            [
             0.7777777777777778,
             "#fb9f3a"
            ],
            [
             0.8888888888888888,
             "#fdca26"
            ],
            [
             1,
             "#f0f921"
            ]
           ]
          },
          "colorway": [
           "#636efa",
           "#EF553B",
           "#00cc96",
           "#ab63fa",
           "#FFA15A",
           "#19d3f3",
           "#FF6692",
           "#B6E880",
           "#FF97FF",
           "#FECB52"
          ],
          "font": {
           "color": "#2a3f5f"
          },
          "geo": {
           "bgcolor": "white",
           "lakecolor": "white",
           "landcolor": "#E5ECF6",
           "showlakes": true,
           "showland": true,
           "subunitcolor": "white"
          },
          "hoverlabel": {
           "align": "left"
          },
          "hovermode": "closest",
          "mapbox": {
           "style": "light"
          },
          "paper_bgcolor": "white",
          "plot_bgcolor": "#E5ECF6",
          "polar": {
           "angularaxis": {
            "gridcolor": "white",
            "linecolor": "white",
            "ticks": ""
           },
           "bgcolor": "#E5ECF6",
           "radialaxis": {
            "gridcolor": "white",
            "linecolor": "white",
            "ticks": ""
           }
          },
          "scene": {
           "xaxis": {
            "backgroundcolor": "#E5ECF6",
            "gridcolor": "white",
            "gridwidth": 2,
            "linecolor": "white",
            "showbackground": true,
            "ticks": "",
            "zerolinecolor": "white"
           },
           "yaxis": {
            "backgroundcolor": "#E5ECF6",
            "gridcolor": "white",
            "gridwidth": 2,
            "linecolor": "white",
            "showbackground": true,
            "ticks": "",
            "zerolinecolor": "white"
           },
           "zaxis": {
            "backgroundcolor": "#E5ECF6",
            "gridcolor": "white",
            "gridwidth": 2,
            "linecolor": "white",
            "showbackground": true,
            "ticks": "",
            "zerolinecolor": "white"
           }
          },
          "shapedefaults": {
           "line": {
            "color": "#2a3f5f"
           }
          },
          "ternary": {
           "aaxis": {
            "gridcolor": "white",
            "linecolor": "white",
            "ticks": ""
           },
           "baxis": {
            "gridcolor": "white",
            "linecolor": "white",
            "ticks": ""
           },
           "bgcolor": "#E5ECF6",
           "caxis": {
            "gridcolor": "white",
            "linecolor": "white",
            "ticks": ""
           }
          },
          "title": {
           "x": 0.05
          },
          "xaxis": {
           "automargin": true,
           "gridcolor": "white",
           "linecolor": "white",
           "ticks": "",
           "zerolinecolor": "white",
           "zerolinewidth": 2
          },
          "yaxis": {
           "automargin": true,
           "gridcolor": "white",
           "linecolor": "white",
           "ticks": "",
           "zerolinecolor": "white",
           "zerolinewidth": 2
          }
         }
        },
        "title": {
         "text": "Распределение значений столбца duration с разделением по тарифам"
        },
        "xaxis": {
         "anchor": "y",
         "domain": [
          0,
          0.98
         ],
         "title": {
          "text": "duration_sum"
         }
        },
        "xaxis2": {
         "anchor": "y2",
         "domain": [
          0,
          0.98
         ],
         "matches": "x",
         "showgrid": true,
         "showticklabels": false
        },
        "yaxis": {
         "anchor": "x",
         "domain": [
          0,
          0.7326
         ],
         "title": {
          "text": "count"
         }
        },
        "yaxis2": {
         "anchor": "x2",
         "domain": [
          0.7426,
          1
         ],
         "matches": "y2",
         "showgrid": false,
         "showticklabels": false
        }
       }
      },
      "text/html": [
       "<div>\n",
       "        \n",
       "        \n",
       "            <div id=\"c9930997-c68d-4806-95db-ee6ad2174f72\" class=\"plotly-graph-div\" style=\"height:600px; width:100%;\"></div>\n",
       "            <script type=\"text/javascript\">\n",
       "                require([\"plotly\"], function(Plotly) {\n",
       "                    window.PLOTLYENV=window.PLOTLYENV || {};\n",
       "                    \n",
       "                if (document.getElementById(\"c9930997-c68d-4806-95db-ee6ad2174f72\")) {\n",
       "                    Plotly.newPlot(\n",
       "                        'c9930997-c68d-4806-95db-ee6ad2174f72',\n",
       "                        [{\"alignmentgroup\": \"True\", \"bingroup\": \"x\", \"hoverlabel\": {\"namelength\": 0}, \"hovertemplate\": \"tariff=ultra<br>duration_sum=%{x}<br>count=%{y}\", \"legendgroup\": \"tariff=ultra\", \"marker\": {\"color\": \"#636efa\", \"opacity\": 0.5}, \"name\": \"tariff=ultra\", \"offsetgroup\": \"tariff=ultra\", \"orientation\": \"v\", \"showlegend\": true, \"type\": \"histogram\", \"x\": [159.0, 172.0, 340.0, 408.0, 466.0, 350.0, 338.0, 333.0, 380.0, 961.0, 855.0, 824.0, 802.0, 35.0, 171.0, 135.0, 137.0, 117.0, 145.0, 117.0, 130.0, 369.0, 567.0, 28.0, 94.0, 636.0, 507.0, 679.0, 760.0, 929.0, 520.0, 503.0, 685.0, 839.0, 300.0, 386.0, 453.0, 360.0, 519.0, 95.0, 90.0, 989.0, 948.0, 1197.0, 1000.0, 1115.0, 1024.0, 993.0, 962.0, 79.0, 1146.0, 949.0, 954.0, 1021.0, 1189.0, 156.0, 433.0, 398.0, 600.0, 576.0, 541.0, 542.0, 271.0, 834.0, 641.0, 813.0, 688.0, 403.0, 528.0, 525.0, 520.0, 653.0, 506.0, 671.0, 586.0, 666.0, 822.0, 94.0, 209.0, 320.0, 225.0, 50.0, 1.0, 640.0, 783.0, 722.0, 581.0, 858.0, 677.0, 820.0, 781.0, 726.0, 905.0, 960.0, 643.0, 837.0, 371.0, 1233.0, 581.0, 716.0, 815.0, 852.0, 864.0, 820.0, 985.0, 896.0, 231.0, 445.0, 1075.0, 960.0, 1101.0, 1061.0, 1109.0, 1273.0, 476.0, 951.0, 811.0, 654.0, 904.0, 151.0, 687.0, 701.0, 618.0, 700.0, 678.0, 519.0, 533.0, 649.0, 504.0, 501.0, 95.0, 195.0, 244.0, 120.0, 254.0, 172.0, 100.0, 5.0, 626.0, 387.0, 465.0, 415.0, 417.0, 466.0, 477.0, 523.0, 544.0, 470.0, 510.0, 596.0, 48.0, 107.0, 684.0, 784.0, 617.0, 717.0, 868.0, 839.0, 752.0, 416.0, 306.0, 350.0, 301.0, 369.0, 368.0, 311.0, 389.0, 365.0, 134.0, 656.0, 500.0, 429.0, 645.0, 774.0, 498.0, 445.0, 675.0, 675.0, 683.0, 668.0, 724.0, 624.0, 440.0, 579.0, 640.0, 157.0, 331.0, 297.0, 248.0, 343.0, 382.0, 368.0, 451.0, 338.0, 420.0, 262.0, 55.0, 162.0, 279.0, 273.0, 311.0, 345.0, 317.0, 304.0, 266.0, 371.0, 310.0, 264.0, 481.0, 458.0, 209.0, 1225.0, 1127.0, 1106.0, 272.0, 531.0, 556.0, 689.0, 457.0, 589.0, 352.0, 584.0, 534.0, 503.0, 508.0, 614.0, 65.0, 746.0, 479.0, 767.0, 615.0, 633.0, 724.0, 474.0, 813.0, 329.0, 870.0, 747.0, 936.0, 717.0, 787.0, 810.0, 709.0, 835.0, 372.0, 430.0, 368.0, 438.0, 645.0, 375.0, 670.0, 692.0, 691.0, 172.0, 389.0, 281.0, 345.0, 291.0, 294.0, 239.0, 288.0, 243.0, 421.0, 415.0, 119.0, 188.0, 734.0, 342.0, 336.0, 197.0, 231.0, 309.0, 332.0, 262.0, 264.0, 278.0, 884.0, 1053.0, 1199.0, 72.0, 400.0, 703.0, 572.0, 640.0, 1000.0, 841.0, 811.0, 645.0, 666.0, 604.0, 612.0, 712.0, 219.0, 258.0, 366.0, 291.0, 325.0, 436.0, 341.0, 256.0, 532.0, 561.0, 328.0, 31.0, 93.0, 109.0, 351.0, 215.0, 579.0, 617.0, 999.0, 844.0, 811.0, 613.0, 443.0, 78.0, 35.0, 34.0, 46.0, 51.0, 717.0, 615.0, 612.0, 416.0, 518.0, 420.0, 416.0, 1139.0, 1213.0, 539.0, 351.0, 476.0, 469.0, 511.0, 890.0, 560.0, 1045.0, 723.0, 886.0, 26.0, 378.0, 287.0, 557.0, 367.0, 327.0, 406.0, 125.0, 312.0, 106.0, 390.0, 92.0, 559.0, 298.0, 604.0, 602.0, 621.0, 152.0, 360.0, 281.0, 443.0, 695.0, 401.0, 492.0, 335.0, 352.0, 313.0, 455.0, 405.0, 356.0, 72.0, 556.0, 466.0, 519.0, 418.0, 495.0, 353.0, 146.0, 524.0, 518.0, 467.0, 453.0, 249.0, 256.0, 114.0, 348.0, 221.0, 1261.0, 1261.0, 651.0, 442.0, 705.0, 663.0, 521.0, 148.0, 602.0, 620.0, 619.0, 410.0, 1022.0, 280.0, 356.0, 234.0, 620.0, 663.0, 671.0, 842.0, 481.0, 557.0, 590.0, 55.0, 167.0, 112.0, 648.0, 0.0, 402.0, 523.0, 308.0, 383.0, 431.0, 479.0, 365.0, 395.0, 334.0, 393.0, 518.0, 401.0, 356.0, 453.0, 496.0, 502.0, 286.0, 211.0, 272.0, 147.0, 241.0, 466.0, 525.0, 504.0, 497.0, 727.0, 562.0, 715.0, 175.0, 89.0, 256.0, 237.0, 320.0, 198.0, 263.0, 251.0, 11.0, 35.0, 0.0, 0.0, 0.0, 16.0, 6.0, 9.0, 462.0, 830.0, 142.0, 752.0, 814.0, 897.0, 130.0, 231.0, 376.0, 285.0, 352.0, 328.0, 315.0, 382.0, 389.0, 341.0, 540.0, 155.0, 20.0, 294.0, 305.0, 187.0, 343.0, 220.0, 230.0, 253.0, 253.0, 223.0, 315.0, 272.0, 260.0, 371.0, 443.0, 361.0, 164.0, 483.0, 248.0, 418.0, 231.0, 243.0, 185.0, 278.0, 326.0, 232.0, 368.0, 502.0, 508.0, 696.0, 599.0, 439.0, 549.0, 581.0, 1186.0, 1053.0, 1257.0, 1188.0, 58.0, 208.0, 282.0, 212.0, 299.0, 206.0, 240.0, 267.0, 325.0, 234.0, 226.0, 60.0, 234.0, 204.0, 353.0, 237.0, 295.0, 308.0, 376.0, 309.0, 267.0, 261.0, 103.0, 701.0, 725.0, 731.0, 658.0, 623.0, 101.0, 540.0, 610.0, 443.0, 563.0, 580.0, 435.0, 508.0, 450.0, 524.0, 563.0, 106.0, 501.0, 529.0, 483.0, 523.0, 528.0, 451.0, 469.0, 570.0, 483.0, 248.0, 589.0, 598.0, 730.0, 672.0, 567.0, 662.0, 538.0, 524.0, 786.0, 305.0, 653.0, 575.0, 495.0, 380.0, 548.0, 606.0, 514.0, 865.0, 485.0, 665.0, 760.0, 652.0, 631.0, 723.0, 634.0, 604.0, 516.0, 275.0, 536.0, 542.0, 537.0, 409.0, 459.0, 430.0, 497.0, 553.0, 50.0, 627.0, 759.0, 697.0, 83.0, 602.0, 756.0, 782.0, 671.0, 563.0, 810.0, 756.0, 439.0, 1143.0, 1321.0, 1199.0, 1236.0, 1212.0, 1233.0, 297.0, 488.0, 344.0, 909.0, 762.0, 825.0, 732.0, 767.0, 901.0, 851.0, 848.0, 823.0, 868.0, 1018.0, 982.0, 723.0, 745.0, 869.0, 1129.0, 1208.0, 526.0, 515.0, 661.0, 882.0, 35.0, 303.0, 456.0, 478.0, 396.0, 412.0, 780.0, 805.0, 827.0, 796.0, 743.0, 816.0, 881.0, 706.0, 308.0, 935.0, 741.0, 850.0, 916.0, 866.0, 750.0, 1030.0, 897.0, 415.0, 802.0, 924.0, 791.0, 833.0, 771.0, 752.0, 817.0, 596.0, 825.0, 169.0, 203.0, 245.0, 311.0, 841.0, 629.0, 616.0, 779.0, 988.0, 894.0, 813.0, 874.0, 732.0, 922.0, 87.0, 1040.0, 925.0, 1010.0, 1028.0, 318.0, 558.0, 266.0, 74.0, 207.0, 177.0, 188.0, 286.0, 852.0, 919.0, 1059.0, 830.0, 961.0, 1045.0, 902.0, 1087.0, 885.0, 1020.0, 980.0, 858.0, 179.0, 1609.0, 1096.0, 1097.0, 1290.0, 1311.0, 1273.0, 1297.0, 1401.0, 1161.0, 1259.0, 537.0, 841.0, 964.0, 1089.0, 1012.0, 519.0, 824.0, 806.0, 629.0, 744.0, 688.0, 597.0, 735.0, 382.0, 762.0, 866.0, 619.0, 679.0, 752.0, 673.0, 654.0, 562.0, 643.0, 567.0, 762.0, 98.0, 691.0, 625.0, 681.0, 608.0, 750.0, 539.0, 799.0, 694.0, 751.0, 270.0, 277.0, 310.0, 348.0, 343.0, 356.0, 383.0, 326.0, 374.0, 368.0, 273.0, 333.0, 607.0, 719.0, 702.0, 965.0, 845.0, 837.0, 669.0, 681.0, 13.0, 467.0, 436.0, 364.0, 415.0, 452.0, 496.0, 377.0, 418.0, 432.0, 453.0, 485.0, 473.0, 443.0, 452.0, 521.0, 372.0, 492.0, 512.0, 555.0, 232.0, 282.0, 355.0, 403.0, 733.0, 689.0, 657.0, 565.0, 671.0, 751.0, 744.0, 742.0, 596.0, 15.0, 50.0, 113.0, 125.0, 65.0, 77.0, 109.0, 143.0, 332.0, 340.0, 244.0, 551.0, 798.0, 845.0, 567.0, 816.0, 641.0, 757.0, 43.0, 612.0, 593.0, 764.0, 751.0, 627.0, 617.0, 540.0, 822.0, 808.0, 1084.0, 861.0, 363.0, 1.0, 12.0, 53.0, 43.0, 29.0, 16.0, 95.0, 91.0, 284.0, 234.0, 322.0, 416.0, 274.0, 330.0, 310.0, 235.0, 314.0, 370.0, 420.0, 533.0, 393.0, 406.0, 439.0, 479.0, 448.0, 52.0, 270.0, 114.0, 185.0, 209.0, 157.0, 169.0, 200.0, 83.0, 109.0, 60.0, 142.0, 150.0, 194.0, 236.0, 305.0, 237.0, 861.0, 765.0, 875.0, 881.0, 929.0, 767.0, 848.0, 813.0, 808.0, 953.0, 973.0, 796.0, 134.0, 311.0, 595.0, 477.0, 592.0, 420.0, 442.0, 444.0, 626.0, 569.0, 317.0, 833.0, 761.0, 695.0, 781.0, 816.0, 771.0, 856.0, 855.0, 629.0, 847.0, 246.0, 821.0, 248.0, 715.0, 16.0, 402.0, 453.0, 492.0, 610.0, 542.0, 512.0, 482.0, 647.0, 473.0, 659.0, 320.0, 1673.0, 793.0, 779.0, 763.0, 908.0, 795.0, 635.0, 76.0, 755.0, 627.0, 862.0, 650.0, 765.0, 866.0, 569.0, 557.0, 603.0, 815.0, 683.0, 1345.0, 459.0, 491.0, 492.0, 456.0, 622.0, 540.0, 556.0, 588.0, 0.0, 584.0, 143.0, 530.0, 424.0, 606.0, 611.0, 531.0, 583.0, 518.0, 674.0, 173.0, 571.0, 92.0, 813.0, 1030.0, 954.0, 1031.0, 0.0, 0.0, 0.0, 0.0, 0.0, 0.0, 0.0, 0.0, 0.0, 0.0, 0.0, 0.0, 0.0, 0.0, 0.0, 0.0, 0.0, 0.0, 0.0, 0.0, 0.0, 0.0, 0.0, 0.0, 0.0, 0.0, 0.0, 0.0, 0.0, 0.0, 0.0, 0.0, 0.0], \"xaxis\": \"x\", \"yaxis\": \"y\"}, {\"alignmentgroup\": \"True\", \"hoverlabel\": {\"namelength\": 0}, \"hovertemplate\": \"tariff=ultra<br>duration_sum=%{x}\", \"legendgroup\": \"tariff=ultra\", \"marker\": {\"color\": \"#636efa\"}, \"name\": \"tariff=ultra\", \"notched\": true, \"offsetgroup\": \"tariff=ultra\", \"showlegend\": false, \"type\": \"box\", \"x\": [159.0, 172.0, 340.0, 408.0, 466.0, 350.0, 338.0, 333.0, 380.0, 961.0, 855.0, 824.0, 802.0, 35.0, 171.0, 135.0, 137.0, 117.0, 145.0, 117.0, 130.0, 369.0, 567.0, 28.0, 94.0, 636.0, 507.0, 679.0, 760.0, 929.0, 520.0, 503.0, 685.0, 839.0, 300.0, 386.0, 453.0, 360.0, 519.0, 95.0, 90.0, 989.0, 948.0, 1197.0, 1000.0, 1115.0, 1024.0, 993.0, 962.0, 79.0, 1146.0, 949.0, 954.0, 1021.0, 1189.0, 156.0, 433.0, 398.0, 600.0, 576.0, 541.0, 542.0, 271.0, 834.0, 641.0, 813.0, 688.0, 403.0, 528.0, 525.0, 520.0, 653.0, 506.0, 671.0, 586.0, 666.0, 822.0, 94.0, 209.0, 320.0, 225.0, 50.0, 1.0, 640.0, 783.0, 722.0, 581.0, 858.0, 677.0, 820.0, 781.0, 726.0, 905.0, 960.0, 643.0, 837.0, 371.0, 1233.0, 581.0, 716.0, 815.0, 852.0, 864.0, 820.0, 985.0, 896.0, 231.0, 445.0, 1075.0, 960.0, 1101.0, 1061.0, 1109.0, 1273.0, 476.0, 951.0, 811.0, 654.0, 904.0, 151.0, 687.0, 701.0, 618.0, 700.0, 678.0, 519.0, 533.0, 649.0, 504.0, 501.0, 95.0, 195.0, 244.0, 120.0, 254.0, 172.0, 100.0, 5.0, 626.0, 387.0, 465.0, 415.0, 417.0, 466.0, 477.0, 523.0, 544.0, 470.0, 510.0, 596.0, 48.0, 107.0, 684.0, 784.0, 617.0, 717.0, 868.0, 839.0, 752.0, 416.0, 306.0, 350.0, 301.0, 369.0, 368.0, 311.0, 389.0, 365.0, 134.0, 656.0, 500.0, 429.0, 645.0, 774.0, 498.0, 445.0, 675.0, 675.0, 683.0, 668.0, 724.0, 624.0, 440.0, 579.0, 640.0, 157.0, 331.0, 297.0, 248.0, 343.0, 382.0, 368.0, 451.0, 338.0, 420.0, 262.0, 55.0, 162.0, 279.0, 273.0, 311.0, 345.0, 317.0, 304.0, 266.0, 371.0, 310.0, 264.0, 481.0, 458.0, 209.0, 1225.0, 1127.0, 1106.0, 272.0, 531.0, 556.0, 689.0, 457.0, 589.0, 352.0, 584.0, 534.0, 503.0, 508.0, 614.0, 65.0, 746.0, 479.0, 767.0, 615.0, 633.0, 724.0, 474.0, 813.0, 329.0, 870.0, 747.0, 936.0, 717.0, 787.0, 810.0, 709.0, 835.0, 372.0, 430.0, 368.0, 438.0, 645.0, 375.0, 670.0, 692.0, 691.0, 172.0, 389.0, 281.0, 345.0, 291.0, 294.0, 239.0, 288.0, 243.0, 421.0, 415.0, 119.0, 188.0, 734.0, 342.0, 336.0, 197.0, 231.0, 309.0, 332.0, 262.0, 264.0, 278.0, 884.0, 1053.0, 1199.0, 72.0, 400.0, 703.0, 572.0, 640.0, 1000.0, 841.0, 811.0, 645.0, 666.0, 604.0, 612.0, 712.0, 219.0, 258.0, 366.0, 291.0, 325.0, 436.0, 341.0, 256.0, 532.0, 561.0, 328.0, 31.0, 93.0, 109.0, 351.0, 215.0, 579.0, 617.0, 999.0, 844.0, 811.0, 613.0, 443.0, 78.0, 35.0, 34.0, 46.0, 51.0, 717.0, 615.0, 612.0, 416.0, 518.0, 420.0, 416.0, 1139.0, 1213.0, 539.0, 351.0, 476.0, 469.0, 511.0, 890.0, 560.0, 1045.0, 723.0, 886.0, 26.0, 378.0, 287.0, 557.0, 367.0, 327.0, 406.0, 125.0, 312.0, 106.0, 390.0, 92.0, 559.0, 298.0, 604.0, 602.0, 621.0, 152.0, 360.0, 281.0, 443.0, 695.0, 401.0, 492.0, 335.0, 352.0, 313.0, 455.0, 405.0, 356.0, 72.0, 556.0, 466.0, 519.0, 418.0, 495.0, 353.0, 146.0, 524.0, 518.0, 467.0, 453.0, 249.0, 256.0, 114.0, 348.0, 221.0, 1261.0, 1261.0, 651.0, 442.0, 705.0, 663.0, 521.0, 148.0, 602.0, 620.0, 619.0, 410.0, 1022.0, 280.0, 356.0, 234.0, 620.0, 663.0, 671.0, 842.0, 481.0, 557.0, 590.0, 55.0, 167.0, 112.0, 648.0, 0.0, 402.0, 523.0, 308.0, 383.0, 431.0, 479.0, 365.0, 395.0, 334.0, 393.0, 518.0, 401.0, 356.0, 453.0, 496.0, 502.0, 286.0, 211.0, 272.0, 147.0, 241.0, 466.0, 525.0, 504.0, 497.0, 727.0, 562.0, 715.0, 175.0, 89.0, 256.0, 237.0, 320.0, 198.0, 263.0, 251.0, 11.0, 35.0, 0.0, 0.0, 0.0, 16.0, 6.0, 9.0, 462.0, 830.0, 142.0, 752.0, 814.0, 897.0, 130.0, 231.0, 376.0, 285.0, 352.0, 328.0, 315.0, 382.0, 389.0, 341.0, 540.0, 155.0, 20.0, 294.0, 305.0, 187.0, 343.0, 220.0, 230.0, 253.0, 253.0, 223.0, 315.0, 272.0, 260.0, 371.0, 443.0, 361.0, 164.0, 483.0, 248.0, 418.0, 231.0, 243.0, 185.0, 278.0, 326.0, 232.0, 368.0, 502.0, 508.0, 696.0, 599.0, 439.0, 549.0, 581.0, 1186.0, 1053.0, 1257.0, 1188.0, 58.0, 208.0, 282.0, 212.0, 299.0, 206.0, 240.0, 267.0, 325.0, 234.0, 226.0, 60.0, 234.0, 204.0, 353.0, 237.0, 295.0, 308.0, 376.0, 309.0, 267.0, 261.0, 103.0, 701.0, 725.0, 731.0, 658.0, 623.0, 101.0, 540.0, 610.0, 443.0, 563.0, 580.0, 435.0, 508.0, 450.0, 524.0, 563.0, 106.0, 501.0, 529.0, 483.0, 523.0, 528.0, 451.0, 469.0, 570.0, 483.0, 248.0, 589.0, 598.0, 730.0, 672.0, 567.0, 662.0, 538.0, 524.0, 786.0, 305.0, 653.0, 575.0, 495.0, 380.0, 548.0, 606.0, 514.0, 865.0, 485.0, 665.0, 760.0, 652.0, 631.0, 723.0, 634.0, 604.0, 516.0, 275.0, 536.0, 542.0, 537.0, 409.0, 459.0, 430.0, 497.0, 553.0, 50.0, 627.0, 759.0, 697.0, 83.0, 602.0, 756.0, 782.0, 671.0, 563.0, 810.0, 756.0, 439.0, 1143.0, 1321.0, 1199.0, 1236.0, 1212.0, 1233.0, 297.0, 488.0, 344.0, 909.0, 762.0, 825.0, 732.0, 767.0, 901.0, 851.0, 848.0, 823.0, 868.0, 1018.0, 982.0, 723.0, 745.0, 869.0, 1129.0, 1208.0, 526.0, 515.0, 661.0, 882.0, 35.0, 303.0, 456.0, 478.0, 396.0, 412.0, 780.0, 805.0, 827.0, 796.0, 743.0, 816.0, 881.0, 706.0, 308.0, 935.0, 741.0, 850.0, 916.0, 866.0, 750.0, 1030.0, 897.0, 415.0, 802.0, 924.0, 791.0, 833.0, 771.0, 752.0, 817.0, 596.0, 825.0, 169.0, 203.0, 245.0, 311.0, 841.0, 629.0, 616.0, 779.0, 988.0, 894.0, 813.0, 874.0, 732.0, 922.0, 87.0, 1040.0, 925.0, 1010.0, 1028.0, 318.0, 558.0, 266.0, 74.0, 207.0, 177.0, 188.0, 286.0, 852.0, 919.0, 1059.0, 830.0, 961.0, 1045.0, 902.0, 1087.0, 885.0, 1020.0, 980.0, 858.0, 179.0, 1609.0, 1096.0, 1097.0, 1290.0, 1311.0, 1273.0, 1297.0, 1401.0, 1161.0, 1259.0, 537.0, 841.0, 964.0, 1089.0, 1012.0, 519.0, 824.0, 806.0, 629.0, 744.0, 688.0, 597.0, 735.0, 382.0, 762.0, 866.0, 619.0, 679.0, 752.0, 673.0, 654.0, 562.0, 643.0, 567.0, 762.0, 98.0, 691.0, 625.0, 681.0, 608.0, 750.0, 539.0, 799.0, 694.0, 751.0, 270.0, 277.0, 310.0, 348.0, 343.0, 356.0, 383.0, 326.0, 374.0, 368.0, 273.0, 333.0, 607.0, 719.0, 702.0, 965.0, 845.0, 837.0, 669.0, 681.0, 13.0, 467.0, 436.0, 364.0, 415.0, 452.0, 496.0, 377.0, 418.0, 432.0, 453.0, 485.0, 473.0, 443.0, 452.0, 521.0, 372.0, 492.0, 512.0, 555.0, 232.0, 282.0, 355.0, 403.0, 733.0, 689.0, 657.0, 565.0, 671.0, 751.0, 744.0, 742.0, 596.0, 15.0, 50.0, 113.0, 125.0, 65.0, 77.0, 109.0, 143.0, 332.0, 340.0, 244.0, 551.0, 798.0, 845.0, 567.0, 816.0, 641.0, 757.0, 43.0, 612.0, 593.0, 764.0, 751.0, 627.0, 617.0, 540.0, 822.0, 808.0, 1084.0, 861.0, 363.0, 1.0, 12.0, 53.0, 43.0, 29.0, 16.0, 95.0, 91.0, 284.0, 234.0, 322.0, 416.0, 274.0, 330.0, 310.0, 235.0, 314.0, 370.0, 420.0, 533.0, 393.0, 406.0, 439.0, 479.0, 448.0, 52.0, 270.0, 114.0, 185.0, 209.0, 157.0, 169.0, 200.0, 83.0, 109.0, 60.0, 142.0, 150.0, 194.0, 236.0, 305.0, 237.0, 861.0, 765.0, 875.0, 881.0, 929.0, 767.0, 848.0, 813.0, 808.0, 953.0, 973.0, 796.0, 134.0, 311.0, 595.0, 477.0, 592.0, 420.0, 442.0, 444.0, 626.0, 569.0, 317.0, 833.0, 761.0, 695.0, 781.0, 816.0, 771.0, 856.0, 855.0, 629.0, 847.0, 246.0, 821.0, 248.0, 715.0, 16.0, 402.0, 453.0, 492.0, 610.0, 542.0, 512.0, 482.0, 647.0, 473.0, 659.0, 320.0, 1673.0, 793.0, 779.0, 763.0, 908.0, 795.0, 635.0, 76.0, 755.0, 627.0, 862.0, 650.0, 765.0, 866.0, 569.0, 557.0, 603.0, 815.0, 683.0, 1345.0, 459.0, 491.0, 492.0, 456.0, 622.0, 540.0, 556.0, 588.0, 0.0, 584.0, 143.0, 530.0, 424.0, 606.0, 611.0, 531.0, 583.0, 518.0, 674.0, 173.0, 571.0, 92.0, 813.0, 1030.0, 954.0, 1031.0, 0.0, 0.0, 0.0, 0.0, 0.0, 0.0, 0.0, 0.0, 0.0, 0.0, 0.0, 0.0, 0.0, 0.0, 0.0, 0.0, 0.0, 0.0, 0.0, 0.0, 0.0, 0.0, 0.0, 0.0, 0.0, 0.0, 0.0, 0.0, 0.0, 0.0, 0.0, 0.0, 0.0], \"xaxis\": \"x2\", \"yaxis\": \"y2\"}, {\"alignmentgroup\": \"True\", \"bingroup\": \"x\", \"hoverlabel\": {\"namelength\": 0}, \"hovertemplate\": \"tariff=smart<br>duration_sum=%{x}<br>count=%{y}\", \"legendgroup\": \"tariff=smart\", \"marker\": {\"color\": \"#EF553B\", \"opacity\": 0.5}, \"name\": \"tariff=smart\", \"offsetgroup\": \"tariff=smart\", \"orientation\": \"v\", \"showlegend\": true, \"type\": \"histogram\", \"x\": [430.0, 414.0, 117.0, 214.0, 289.0, 206.0, 212.0, 243.0, 236.0, 95.0, 456.0, 606.0, 712.0, 595.0, 612.0, 569.0, 619.0, 479.0, 723.0, 547.0, 592.0, 42.0, 286.0, 356.0, 370.0, 478.0, 316.0, 275.0, 360.0, 267.0, 372.0, 379.0, 198.0, 480.0, 545.0, 577.0, 458.0, 655.0, 465.0, 580.0, 421.0, 339.0, 109.0, 324.0, 170.0, 289.0, 183.0, 249.0, 133.0, 213.0, 290.0, 229.0, 142.0, 142.0, 245.0, 290.0, 336.0, 212.0, 371.0, 437.0, 327.0, 502.0, 515.0, 472.0, 630.0, 501.0, 361.0, 13.0, 345.0, 316.0, 219.0, 223.0, 157.0, 230.0, 451.0, 206.0, 356.0, 102.0, 180.0, 300.0, 241.0, 250.0, 332.0, 237.0, 175.0, 11.0, 401.0, 430.0, 556.0, 394.0, 486.0, 577.0, 454.0, 499.0, 111.0, 341.0, 461.0, 389.0, 366.0, 329.0, 463.0, 444.0, 239.0, 674.0, 340.0, 267.0, 156.0, 512.0, 557.0, 323.0, 464.0, 552.0, 548.0, 577.0, 444.0, 514.0, 653.0, 563.0, 503.0, 535.0, 469.0, 531.0, 379.0, 623.0, 441.0, 477.0, 474.0, 388.0, 373.0, 348.0, 516.0, 422.0, 609.0, 679.0, 891.0, 109.0, 313.0, 328.0, 426.0, 439.0, 345.0, 413.0, 393.0, 665.0, 562.0, 380.0, 371.0, 487.0, 521.0, 512.0, 402.0, 415.0, 446.0, 507.0, 385.0, 410.0, 482.0, 311.0, 345.0, 411.0, 375.0, 425.0, 231.0, 170.0, 730.0, 549.0, 350.0, 398.0, 608.0, 427.0, 493.0, 494.0, 420.0, 250.0, 303.0, 467.0, 285.0, 554.0, 430.0, 530.0, 424.0, 669.0, 304.0, 341.0, 408.0, 342.0, 272.0, 344.0, 207.0, 357.0, 348.0, 254.0, 287.0, 437.0, 379.0, 12.0, 861.0, 133.0, 728.0, 252.0, 297.0, 295.0, 512.0, 403.0, 537.0, 246.0, 308.0, 254.0, 385.0, 390.0, 338.0, 369.0, 364.0, 9.0, 189.0, 229.0, 219.0, 290.0, 229.0, 185.0, 222.0, 299.0, 285.0, 273.0, 256.0, 228.0, 504.0, 443.0, 545.0, 555.0, 109.0, 762.0, 822.0, 59.0, 517.0, 348.0, 398.0, 311.0, 123.0, 98.0, 706.0, 816.0, 906.0, 682.0, 859.0, 237.0, 564.0, 737.0, 527.0, 627.0, 605.0, 672.0, 708.0, 654.0, 595.0, 551.0, 440.0, 558.0, 391.0, 449.0, 518.0, 445.0, 380.0, 465.0, 347.0, 314.0, 597.0, 193.0, 462.0, 382.0, 425.0, 300.0, 338.0, 140.0, 557.0, 720.0, 701.0, 330.0, 671.0, 705.0, 627.0, 721.0, 724.0, 566.0, 586.0, 726.0, 309.0, 639.0, 563.0, 588.0, 768.0, 481.0, 405.0, 290.0, 166.0, 363.0, 437.0, 326.0, 313.0, 402.0, 479.0, 277.0, 479.0, 337.0, 480.0, 501.0, 561.0, 415.0, 450.0, 573.0, 507.0, 539.0, 522.0, 134.0, 184.0, 715.0, 587.0, 673.0, 539.0, 685.0, 448.0, 387.0, 480.0, 633.0, 383.0, 386.0, 554.0, 491.0, 477.0, 390.0, 312.0, 622.0, 564.0, 575.0, 433.0, 516.0, 349.0, 187.0, 514.0, 252.0, 380.0, 280.0, 194.0, 401.0, 283.0, 321.0, 365.0, 313.0, 281.0, 229.0, 137.0, 338.0, 554.0, 342.0, 281.0, 617.0, 439.0, 601.0, 517.0, 494.0, 385.0, 461.0, 334.0, 533.0, 580.0, 466.0, 532.0, 297.0, 447.0, 490.0, 475.0, 529.0, 528.0, 524.0, 598.0, 541.0, 567.0, 205.0, 686.0, 784.0, 162.0, 607.0, 592.0, 653.0, 603.0, 345.0, 560.0, 578.0, 303.0, 108.0, 267.0, 122.0, 480.0, 542.0, 414.0, 505.0, 548.0, 549.0, 610.0, 455.0, 95.0, 436.0, 467.0, 529.0, 566.0, 509.0, 561.0, 510.0, 510.0, 477.0, 328.0, 349.0, 309.0, 326.0, 427.0, 277.0, 385.0, 364.0, 344.0, 212.0, 421.0, 411.0, 258.0, 470.0, 439.0, 295.0, 59.0, 600.0, 856.0, 825.0, 789.0, 843.0, 930.0, 540.0, 101.0, 493.0, 431.0, 456.0, 595.0, 540.0, 588.0, 529.0, 637.0, 461.0, 553.0, 530.0, 578.0, 198.0, 544.0, 535.0, 538.0, 575.0, 530.0, 617.0, 723.0, 278.0, 538.0, 423.0, 568.0, 540.0, 362.0, 606.0, 448.0, 26.0, 310.0, 461.0, 270.0, 63.0, 274.0, 352.0, 164.0, 224.0, 330.0, 231.0, 324.0, 99.0, 426.0, 485.0, 480.0, 382.0, 522.0, 504.0, 391.0, 669.0, 423.0, 471.0, 366.0, 363.0, 520.0, 348.0, 423.0, 365.0, 402.0, 390.0, 347.0, 532.0, 466.0, 549.0, 431.0, 544.0, 110.0, 543.0, 530.0, 785.0, 501.0, 628.0, 692.0, 654.0, 638.0, 561.0, 673.0, 710.0, 80.0, 418.0, 406.0, 381.0, 397.0, 449.0, 70.0, 628.0, 652.0, 495.0, 437.0, 622.0, 168.0, 326.0, 370.0, 286.0, 306.0, 272.0, 366.0, 288.0, 420.0, 282.0, 547.0, 752.0, 582.0, 681.0, 839.0, 747.0, 766.0, 581.0, 567.0, 626.0, 65.0, 171.0, 254.0, 277.0, 272.0, 280.0, 214.0, 243.0, 194.0, 290.0, 584.0, 509.0, 420.0, 365.0, 513.0, 448.0, 531.0, 234.0, 585.0, 546.0, 476.0, 561.0, 704.0, 673.0, 591.0, 548.0, 764.0, 332.0, 219.0, 393.0, 317.0, 189.0, 209.0, 208.0, 308.0, 173.0, 272.0, 249.0, 402.0, 234.0, 452.0, 389.0, 521.0, 648.0, 449.0, 499.0, 583.0, 394.0, 577.0, 580.0, 263.0, 671.0, 567.0, 544.0, 609.0, 224.0, 690.0, 648.0, 332.0, 458.0, 461.0, 419.0, 385.0, 518.0, 543.0, 527.0, 333.0, 549.0, 596.0, 468.0, 90.0, 439.0, 442.0, 378.0, 346.0, 564.0, 382.0, 654.0, 535.0, 346.0, 427.0, 359.0, 147.0, 471.0, 705.0, 483.0, 859.0, 701.0, 562.0, 526.0, 527.0, 360.0, 572.0, 571.0, 211.0, 81.0, 475.0, 468.0, 503.0, 515.0, 354.0, 465.0, 457.0, 478.0, 437.0, 32.0, 541.0, 468.0, 398.0, 349.0, 516.0, 416.0, 523.0, 388.0, 348.0, 508.0, 397.0, 520.0, 523.0, 454.0, 497.0, 367.0, 524.0, 126.0, 532.0, 471.0, 438.0, 424.0, 634.0, 499.0, 496.0, 247.0, 243.0, 382.0, 373.0, 266.0, 340.0, 68.0, 159.0, 242.0, 173.0, 243.0, 261.0, 281.0, 156.0, 329.0, 624.0, 648.0, 197.0, 169.0, 193.0, 279.0, 185.0, 275.0, 280.0, 337.0, 258.0, 401.0, 288.0, 360.0, 289.0, 371.0, 265.0, 503.0, 318.0, 554.0, 350.0, 90.0, 322.0, 352.0, 448.0, 419.0, 491.0, 450.0, 540.0, 416.0, 408.0, 464.0, 371.0, 262.0, 411.0, 377.0, 399.0, 546.0, 339.0, 322.0, 468.0, 291.0, 363.0, 85.0, 307.0, 411.0, 405.0, 365.0, 296.0, 417.0, 390.0, 307.0, 39.0, 112.0, 254.0, 395.0, 423.0, 391.0, 281.0, 353.0, 319.0, 138.0, 232.0, 108.0, 342.0, 425.0, 357.0, 407.0, 34.0, 727.0, 588.0, 841.0, 277.0, 1083.0, 953.0, 1232.0, 912.0, 1112.0, 1120.0, 1158.0, 1334.0, 384.0, 457.0, 453.0, 415.0, 281.0, 158.0, 694.0, 646.0, 679.0, 747.0, 656.0, 715.0, 489.0, 282.0, 541.0, 401.0, 408.0, 460.0, 356.0, 537.0, 414.0, 307.0, 755.0, 484.0, 599.0, 118.0, 501.0, 530.0, 785.0, 519.0, 603.0, 131.0, 279.0, 369.0, 359.0, 360.0, 187.0, 400.0, 192.0, 399.0, 353.0, 432.0, 321.0, 288.0, 395.0, 485.0, 126.0, 454.0, 415.0, 409.0, 479.0, 570.0, 415.0, 404.0, 422.0, 611.0, 223.0, 532.0, 440.0, 579.0, 495.0, 552.0, 477.0, 373.0, 631.0, 54.0, 108.0, 76.0, 86.0, 96.0, 112.0, 62.0, 98.0, 134.0, 223.0, 253.0, 326.0, 536.0, 421.0, 369.0, 564.0, 323.0, 319.0, 265.0, 278.0, 797.0, 832.0, 929.0, 726.0, 585.0, 546.0, 412.0, 501.0, 573.0, 606.0, 589.0, 668.0, 569.0, 659.0, 332.0, 560.0, 401.0, 353.0, 39.0, 46.0, 19.0, 7.0, 39.0, 50.0, 22.0, 51.0, 550.0, 454.0, 568.0, 613.0, 642.0, 629.0, 751.0, 555.0, 696.0, 445.0, 18.0, 395.0, 452.0, 523.0, 41.0, 1055.0, 388.0, 490.0, 551.0, 486.0, 439.0, 542.0, 459.0, 433.0, 403.0, 342.0, 433.0, 164.0, 1410.0, 1272.0, 1213.0, 1069.0, 1210.0, 220.0, 497.0, 495.0, 537.0, 489.0, 493.0, 98.0, 419.0, 434.0, 675.0, 50.0, 454.0, 567.0, 581.0, 627.0, 756.0, 708.0, 579.0, 850.0, 75.0, 363.0, 277.0, 553.0, 386.0, 522.0, 619.0, 446.0, 503.0, 552.0, 706.0, 305.0, 550.0, 268.0, 325.0, 486.0, 357.0, 324.0, 239.0, 416.0, 214.0, 219.0, 246.0, 530.0, 392.0, 580.0, 510.0, 533.0, 569.0, 575.0, 495.0, 594.0, 566.0, 396.0, 291.0, 409.0, 252.0, 276.0, 322.0, 336.0, 72.0, 680.0, 522.0, 315.0, 448.0, 406.0, 330.0, 299.0, 263.0, 615.0, 432.0, 217.0, 353.0, 329.0, 567.0, 348.0, 1435.0, 455.0, 559.0, 600.0, 463.0, 607.0, 268.0, 387.0, 617.0, 471.0, 378.0, 343.0, 452.0, 508.0, 457.0, 463.0, 447.0, 236.0, 766.0, 138.0, 208.0, 272.0, 28.0, 1322.0, 1027.0, 143.0, 559.0, 476.0, 505.0, 590.0, 600.0, 425.0, 41.0, 569.0, 665.0, 677.0, 753.0, 612.0, 436.0, 153.0, 256.0, 131.0, 175.0, 122.0, 158.0, 471.0, 731.0, 615.0, 546.0, 681.0, 634.0, 698.0, 548.0, 599.0, 208.0, 611.0, 513.0, 487.0, 428.0, 576.0, 411.0, 482.0, 82.0, 672.0, 447.0, 317.0, 233.0, 193.0, 496.0, 661.0, 681.0, 605.0, 491.0, 663.0, 415.0, 55.0, 57.0, 127.0, 19.0, 36.0, 68.0, 73.0, 98.0, 16.0, 310.0, 477.0, 490.0, 463.0, 380.0, 471.0, 372.0, 395.0, 401.0, 473.0, 457.0, 194.0, 134.0, 137.0, 178.0, 263.0, 222.0, 343.0, 249.0, 192.0, 159.0, 470.0, 375.0, 574.0, 515.0, 338.0, 376.0, 589.0, 272.0, 70.0, 414.0, 314.0, 350.0, 179.0, 401.0, 644.0, 489.0, 487.0, 361.0, 393.0, 541.0, 105.0, 875.0, 740.0, 667.0, 726.0, 727.0, 636.0, 808.0, 127.0, 226.0, 234.0, 210.0, 231.0, 306.0, 386.0, 497.0, 487.0, 402.0, 387.0, 544.0, 517.0, 446.0, 206.0, 457.0, 476.0, 433.0, 440.0, 437.0, 600.0, 443.0, 449.0, 407.0, 427.0, 532.0, 68.0, 662.0, 499.0, 622.0, 219.0, 260.0, 739.0, 716.0, 873.0, 518.0, 872.0, 9.0, 738.0, 1074.0, 174.0, 313.0, 419.0, 329.0, 454.0, 381.0, 362.0, 309.0, 433.0, 472.0, 21.0, 677.0, 606.0, 653.0, 732.0, 711.0, 772.0, 476.0, 755.0, 95.0, 341.0, 464.0, 357.0, 451.0, 464.0, 416.0, 349.0, 444.0, 136.0, 305.0, 339.0, 450.0, 376.0, 558.0, 535.0, 539.0, 612.0, 787.0, 636.0, 13.0, 316.0, 353.0, 460.0, 251.0, 294.0, 269.0, 396.0, 145.0, 365.0, 389.0, 268.0, 272.0, 245.0, 493.0, 432.0, 415.0, 709.0, 439.0, 728.0, 479.0, 418.0, 120.0, 348.0, 380.0, 523.0, 451.0, 361.0, 470.0, 347.0, 364.0, 663.0, 267.0, 413.0, 516.0, 606.0, 567.0, 354.0, 779.0, 532.0, 619.0, 603.0, 479.0, 349.0, 747.0, 822.0, 725.0, 637.0, 656.0, 748.0, 672.0, 836.0, 903.0, 747.0, 701.0, 154.0, 150.0, 264.0, 154.0, 261.0, 462.0, 631.0, 434.0, 659.0, 474.0, 485.0, 533.0, 407.0, 472.0, 79.0, 234.0, 327.0, 312.0, 387.0, 274.0, 440.0, 315.0, 380.0, 365.0, 380.0, 47.0, 739.0, 94.0, 508.0, 475.0, 576.0, 312.0, 505.0, 630.0, 576.0, 423.0, 452.0, 437.0, 643.0, 500.0, 520.0, 441.0, 452.0, 468.0, 544.0, 550.0, 630.0, 451.0, 544.0, 487.0, 526.0, 584.0, 556.0, 704.0, 148.0, 182.0, 174.0, 77.0, 156.0, 240.0, 297.0, 253.0, 340.0, 226.0, 336.0, 316.0, 267.0, 252.0, 404.0, 108.0, 494.0, 560.0, 514.0, 469.0, 634.0, 85.0, 353.0, 714.0, 401.0, 520.0, 395.0, 457.0, 494.0, 443.0, 332.0, 418.0, 436.0, 65.0, 595.0, 525.0, 575.0, 76.0, 194.0, 210.0, 306.0, 241.0, 171.0, 173.0, 182.0, 257.0, 197.0, 252.0, 190.0, 131.0, 704.0, 645.0, 20.0, 484.0, 558.0, 658.0, 737.0, 726.0, 578.0, 553.0, 663.0, 705.0, 250.0, 261.0, 144.0, 204.0, 213.0, 159.0, 175.0, 337.0, 225.0, 243.0, 197.0, 207.0, 354.0, 270.0, 316.0, 241.0, 300.0, 24.0, 533.0, 582.0, 613.0, 488.0, 474.0, 280.0, 853.0, 964.0, 406.0, 440.0, 588.0, 370.0, 586.0, 433.0, 519.0, 533.0, 435.0, 483.0, 350.0, 458.0, 513.0, 565.0, 352.0, 489.0, 60.0, 771.0, 456.0, 659.0, 472.0, 678.0, 641.0, 709.0, 305.0, 729.0, 1005.0, 706.0, 868.0, 293.0, 329.0, 260.0, 429.0, 258.0, 427.0, 351.0, 345.0, 372.0, 456.0, 509.0, 408.0, 411.0, 450.0, 340.0, 342.0, 583.0, 589.0, 645.0, 481.0, 499.0, 545.0, 539.0, 538.0, 136.0, 757.0, 719.0, 782.0, 715.0, 838.0, 535.0, 754.0, 32.0, 273.0, 277.0, 395.0, 298.0, 291.0, 370.0, 292.0, 214.0, 503.0, 459.0, 357.0, 510.0, 462.0, 303.0, 421.0, 405.0, 455.0, 475.0, 600.0, 36.0, 603.0, 497.0, 422.0, 396.0, 507.0, 541.0, 500.0, 116.0, 386.0, 121.0, 161.0, 215.0, 197.0, 170.0, 154.0, 111.0, 150.0, 97.0, 241.0, 188.0, 94.0, 153.0, 176.0, 282.0, 151.0, 180.0, 186.0, 186.0, 151.0, 301.0, 417.0, 672.0, 539.0, 617.0, 25.0, 425.0, 495.0, 604.0, 437.0, 535.0, 394.0, 479.0, 408.0, 352.0, 539.0, 464.0, 153.0, 327.0, 619.0, 346.0, 330.0, 281.0, 284.0, 296.0, 170.0, 267.0, 398.0, 905.0, 116.0, 374.0, 385.0, 374.0, 483.0, 342.0, 329.0, 348.0, 148.0, 304.0, 263.0, 300.0, 275.0, 119.0, 349.0, 556.0, 345.0, 335.0, 342.0, 489.0, 330.0, 321.0, 129.0, 621.0, 531.0, 614.0, 660.0, 480.0, 573.0, 561.0, 500.0, 607.0, 610.0, 110.0, 681.0, 521.0, 671.0, 741.0, 726.0, 522.0, 507.0, 505.0, 532.0, 315.0, 43.0, 618.0, 782.0, 166.0, 223.0, 143.0, 155.0, 254.0, 254.0, 229.0, 403.0, 227.0, 90.0, 159.0, 208.0, 174.0, 219.0, 123.0, 158.0, 108.0, 114.0, 560.0, 473.0, 291.0, 478.0, 448.0, 380.0, 466.0, 547.0, 437.0, 462.0, 515.0, 0.0, 2.0, 22.0, 0.0, 13.0, 11.0, 7.0, 23.0, 23.0, 20.0, 15.0, 0.0, 558.0, 550.0, 478.0, 495.0, 564.0, 391.0, 617.0, 463.0, 462.0, 2.0, 396.0, 373.0, 453.0, 454.0, 490.0, 291.0, 583.0, 230.0, 548.0, 421.0, 572.0, 529.0, 486.0, 517.0, 447.0, 457.0, 453.0, 437.0, 563.0, 101.0, 262.0, 285.0, 85.0, 737.0, 608.0, 618.0, 682.0, 707.0, 667.0, 673.0, 682.0, 238.0, 352.0, 432.0, 396.0, 492.0, 360.0, 107.0, 481.0, 421.0, 506.0, 516.0, 189.0, 389.0, 257.0, 329.0, 263.0, 292.0, 2.0, 224.0, 198.0, 183.0, 230.0, 185.0, 171.0, 680.0, 487.0, 574.0, 518.0, 560.0, 554.0, 566.0, 636.0, 604.0, 651.0, 238.0, 559.0, 463.0, 439.0, 497.0, 428.0, 455.0, 461.0, 440.0, 390.0, 511.0, 480.0, 492.0, 584.0, 668.0, 657.0, 446.0, 541.0, 544.0, 665.0, 503.0, 589.0, 637.0, 627.0, 310.0, 200.0, 453.0, 617.0, 511.0, 606.0, 153.0, 354.0, 473.0, 315.0, 438.0, 463.0, 390.0, 470.0, 343.0, 402.0, 349.0, 351.0, 105.0, 209.0, 196.0, 142.0, 162.0, 142.0, 275.0, 226.0, 133.0, 290.0, 149.0, 242.0, 397.0, 239.0, 291.0, 95.0, 597.0, 525.0, 549.0, 750.0, 624.0, 614.0, 541.0, 515.0, 753.0, 734.0, 635.0, 643.0, 846.0, 733.0, 655.0, 750.0, 667.0, 51.0, 252.0, 449.0, 555.0, 402.0, 386.0, 588.0, 587.0, 601.0, 584.0, 793.0, 63.0, 169.0, 193.0, 136.0, 187.0, 201.0, 338.0, 371.0, 308.0, 302.0, 361.0, 318.0, 397.0, 177.0, 346.0, 441.0, 333.0, 369.0, 368.0, 161.0, 412.0, 413.0, 206.0, 649.0, 584.0, 465.0, 456.0, 538.0, 83.0, 210.0, 199.0, 231.0, 74.0, 285.0, 379.0, 282.0, 242.0, 359.0, 389.0, 279.0, 414.0, 253.0, 335.0, 252.0, 412.0, 277.0, 61.0, 198.0, 175.0, 224.0, 131.0, 228.0, 203.0, 227.0, 198.0, 174.0, 271.0, 219.0, 49.0, 722.0, 653.0, 820.0, 667.0, 728.0, 525.0, 766.0, 733.0, 585.0, 646.0, 570.0, 510.0, 464.0, 637.0, 418.0, 700.0, 515.0, 537.0, 577.0, 561.0, 482.0, 542.0, 608.0, 66.0, 414.0, 428.0, 399.0, 382.0, 70.0, 240.0, 357.0, 188.0, 161.0, 204.0, 379.0, 332.0, 138.0, 261.0, 273.0, 241.0, 89.0, 266.0, 163.0, 318.0, 299.0, 196.0, 214.0, 358.0, 278.0, 265.0, 359.0, 727.0, 750.0, 650.0, 619.0, 452.0, 527.0, 627.0, 406.0, 554.0, 508.0, 503.0, 520.0, 712.0, 660.0, 503.0, 516.0, 560.0, 204.0, 215.0, 309.0, 401.0, 298.0, 234.0, 358.0, 403.0, 318.0, 318.0, 463.0, 330.0, 174.0, 297.0, 199.0, 335.0, 290.0, 307.0, 353.0, 10.0, 329.0, 586.0, 487.0, 452.0, 488.0, 409.0, 80.0, 182.0, 407.0, 965.0, 761.0, 611.0, 575.0, 631.0, 508.0, 50.0, 421.0, 289.0, 642.0, 424.0, 436.0, 652.0, 644.0, 750.0, 254.0, 457.0, 526.0, 471.0, 241.0, 547.0, 655.0, 532.0, 648.0, 576.0, 321.0, 495.0, 427.0, 118.0, 843.0, 779.0, 729.0, 1144.0, 409.0, 491.0, 381.0, 519.0, 520.0, 450.0, 543.0, 432.0, 444.0, 514.0, 152.0, 756.0, 889.0, 889.0, 930.0, 335.0, 441.0, 490.0, 371.0, 472.0, 494.0, 516.0, 515.0, 506.0, 494.0, 427.0, 662.0, 488.0, 534.0, 756.0, 466.0, 613.0, 537.0, 611.0, 711.0, 954.0, 671.0, 94.0, 933.0, 878.0, 237.0, 529.0, 694.0, 616.0, 402.0, 585.0, 490.0, 542.0, 631.0, 597.0, 555.0, 247.0, 449.0, 609.0, 660.0, 554.0, 636.0, 492.0, 736.0, 592.0, 137.0, 287.0, 233.0, 138.0, 211.0, 280.0, 406.0, 177.0, 195.0, 276.0, 216.0, 255.0, 508.0, 492.0, 294.0, 461.0, 581.0, 590.0, 486.0, 606.0, 669.0, 456.0, 552.0, 468.0, 605.0, 625.0, 172.0, 234.0, 238.0, 230.0, 291.0, 211.0, 208.0, 286.0, 255.0, 243.0, 204.0, 130.0, 121.0, 601.0, 602.0, 695.0, 797.0, 751.0, 708.0, 531.0, 630.0, 174.0, 305.0, 187.0, 290.0, 249.0, 291.0, 666.0, 396.0, 799.0, 640.0, 465.0, 576.0, 222.0, 425.0, 550.0, 494.0, 388.0, 471.0, 547.0, 305.0, 36.0, 382.0, 361.0, 460.0, 272.0, 269.0, 223.0, 312.0, 279.0, 297.0, 356.0, 24.0, 444.0, 294.0, 360.0, 246.0, 245.0, 331.0, 238.0, 303.0, 265.0, 275.0, 366.0, 470.0, 731.0, 686.0, 784.0, 645.0, 865.0, 613.0, 691.0, 345.0, 529.0, 369.0, 334.0, 292.0, 38.0, 764.0, 1007.0, 87.0, 180.0, 98.0, 227.0, 155.0, 403.0, 444.0, 270.0, 339.0, 330.0, 250.0, 346.0, 322.0, 312.0, 282.0, 290.0, 84.0, 517.0, 603.0, 694.0, 619.0, 510.0, 781.0, 262.0, 501.0, 354.0, 411.0, 418.0, 48.0, 594.0, 557.0, 521.0, 484.0, 555.0, 582.0, 527.0, 486.0, 450.0, 662.0, 518.0, 490.0, 371.0, 545.0, 175.0, 400.0, 471.0, 247.0, 70.0, 449.0, 612.0, 492.0, 0.0, 0.0, 0.0, 0.0, 0.0], \"xaxis\": \"x\", \"yaxis\": \"y\"}, {\"alignmentgroup\": \"True\", \"hoverlabel\": {\"namelength\": 0}, \"hovertemplate\": \"tariff=smart<br>duration_sum=%{x}\", \"legendgroup\": \"tariff=smart\", \"marker\": {\"color\": \"#EF553B\"}, \"name\": \"tariff=smart\", \"notched\": true, \"offsetgroup\": \"tariff=smart\", \"showlegend\": false, \"type\": \"box\", \"x\": [430.0, 414.0, 117.0, 214.0, 289.0, 206.0, 212.0, 243.0, 236.0, 95.0, 456.0, 606.0, 712.0, 595.0, 612.0, 569.0, 619.0, 479.0, 723.0, 547.0, 592.0, 42.0, 286.0, 356.0, 370.0, 478.0, 316.0, 275.0, 360.0, 267.0, 372.0, 379.0, 198.0, 480.0, 545.0, 577.0, 458.0, 655.0, 465.0, 580.0, 421.0, 339.0, 109.0, 324.0, 170.0, 289.0, 183.0, 249.0, 133.0, 213.0, 290.0, 229.0, 142.0, 142.0, 245.0, 290.0, 336.0, 212.0, 371.0, 437.0, 327.0, 502.0, 515.0, 472.0, 630.0, 501.0, 361.0, 13.0, 345.0, 316.0, 219.0, 223.0, 157.0, 230.0, 451.0, 206.0, 356.0, 102.0, 180.0, 300.0, 241.0, 250.0, 332.0, 237.0, 175.0, 11.0, 401.0, 430.0, 556.0, 394.0, 486.0, 577.0, 454.0, 499.0, 111.0, 341.0, 461.0, 389.0, 366.0, 329.0, 463.0, 444.0, 239.0, 674.0, 340.0, 267.0, 156.0, 512.0, 557.0, 323.0, 464.0, 552.0, 548.0, 577.0, 444.0, 514.0, 653.0, 563.0, 503.0, 535.0, 469.0, 531.0, 379.0, 623.0, 441.0, 477.0, 474.0, 388.0, 373.0, 348.0, 516.0, 422.0, 609.0, 679.0, 891.0, 109.0, 313.0, 328.0, 426.0, 439.0, 345.0, 413.0, 393.0, 665.0, 562.0, 380.0, 371.0, 487.0, 521.0, 512.0, 402.0, 415.0, 446.0, 507.0, 385.0, 410.0, 482.0, 311.0, 345.0, 411.0, 375.0, 425.0, 231.0, 170.0, 730.0, 549.0, 350.0, 398.0, 608.0, 427.0, 493.0, 494.0, 420.0, 250.0, 303.0, 467.0, 285.0, 554.0, 430.0, 530.0, 424.0, 669.0, 304.0, 341.0, 408.0, 342.0, 272.0, 344.0, 207.0, 357.0, 348.0, 254.0, 287.0, 437.0, 379.0, 12.0, 861.0, 133.0, 728.0, 252.0, 297.0, 295.0, 512.0, 403.0, 537.0, 246.0, 308.0, 254.0, 385.0, 390.0, 338.0, 369.0, 364.0, 9.0, 189.0, 229.0, 219.0, 290.0, 229.0, 185.0, 222.0, 299.0, 285.0, 273.0, 256.0, 228.0, 504.0, 443.0, 545.0, 555.0, 109.0, 762.0, 822.0, 59.0, 517.0, 348.0, 398.0, 311.0, 123.0, 98.0, 706.0, 816.0, 906.0, 682.0, 859.0, 237.0, 564.0, 737.0, 527.0, 627.0, 605.0, 672.0, 708.0, 654.0, 595.0, 551.0, 440.0, 558.0, 391.0, 449.0, 518.0, 445.0, 380.0, 465.0, 347.0, 314.0, 597.0, 193.0, 462.0, 382.0, 425.0, 300.0, 338.0, 140.0, 557.0, 720.0, 701.0, 330.0, 671.0, 705.0, 627.0, 721.0, 724.0, 566.0, 586.0, 726.0, 309.0, 639.0, 563.0, 588.0, 768.0, 481.0, 405.0, 290.0, 166.0, 363.0, 437.0, 326.0, 313.0, 402.0, 479.0, 277.0, 479.0, 337.0, 480.0, 501.0, 561.0, 415.0, 450.0, 573.0, 507.0, 539.0, 522.0, 134.0, 184.0, 715.0, 587.0, 673.0, 539.0, 685.0, 448.0, 387.0, 480.0, 633.0, 383.0, 386.0, 554.0, 491.0, 477.0, 390.0, 312.0, 622.0, 564.0, 575.0, 433.0, 516.0, 349.0, 187.0, 514.0, 252.0, 380.0, 280.0, 194.0, 401.0, 283.0, 321.0, 365.0, 313.0, 281.0, 229.0, 137.0, 338.0, 554.0, 342.0, 281.0, 617.0, 439.0, 601.0, 517.0, 494.0, 385.0, 461.0, 334.0, 533.0, 580.0, 466.0, 532.0, 297.0, 447.0, 490.0, 475.0, 529.0, 528.0, 524.0, 598.0, 541.0, 567.0, 205.0, 686.0, 784.0, 162.0, 607.0, 592.0, 653.0, 603.0, 345.0, 560.0, 578.0, 303.0, 108.0, 267.0, 122.0, 480.0, 542.0, 414.0, 505.0, 548.0, 549.0, 610.0, 455.0, 95.0, 436.0, 467.0, 529.0, 566.0, 509.0, 561.0, 510.0, 510.0, 477.0, 328.0, 349.0, 309.0, 326.0, 427.0, 277.0, 385.0, 364.0, 344.0, 212.0, 421.0, 411.0, 258.0, 470.0, 439.0, 295.0, 59.0, 600.0, 856.0, 825.0, 789.0, 843.0, 930.0, 540.0, 101.0, 493.0, 431.0, 456.0, 595.0, 540.0, 588.0, 529.0, 637.0, 461.0, 553.0, 530.0, 578.0, 198.0, 544.0, 535.0, 538.0, 575.0, 530.0, 617.0, 723.0, 278.0, 538.0, 423.0, 568.0, 540.0, 362.0, 606.0, 448.0, 26.0, 310.0, 461.0, 270.0, 63.0, 274.0, 352.0, 164.0, 224.0, 330.0, 231.0, 324.0, 99.0, 426.0, 485.0, 480.0, 382.0, 522.0, 504.0, 391.0, 669.0, 423.0, 471.0, 366.0, 363.0, 520.0, 348.0, 423.0, 365.0, 402.0, 390.0, 347.0, 532.0, 466.0, 549.0, 431.0, 544.0, 110.0, 543.0, 530.0, 785.0, 501.0, 628.0, 692.0, 654.0, 638.0, 561.0, 673.0, 710.0, 80.0, 418.0, 406.0, 381.0, 397.0, 449.0, 70.0, 628.0, 652.0, 495.0, 437.0, 622.0, 168.0, 326.0, 370.0, 286.0, 306.0, 272.0, 366.0, 288.0, 420.0, 282.0, 547.0, 752.0, 582.0, 681.0, 839.0, 747.0, 766.0, 581.0, 567.0, 626.0, 65.0, 171.0, 254.0, 277.0, 272.0, 280.0, 214.0, 243.0, 194.0, 290.0, 584.0, 509.0, 420.0, 365.0, 513.0, 448.0, 531.0, 234.0, 585.0, 546.0, 476.0, 561.0, 704.0, 673.0, 591.0, 548.0, 764.0, 332.0, 219.0, 393.0, 317.0, 189.0, 209.0, 208.0, 308.0, 173.0, 272.0, 249.0, 402.0, 234.0, 452.0, 389.0, 521.0, 648.0, 449.0, 499.0, 583.0, 394.0, 577.0, 580.0, 263.0, 671.0, 567.0, 544.0, 609.0, 224.0, 690.0, 648.0, 332.0, 458.0, 461.0, 419.0, 385.0, 518.0, 543.0, 527.0, 333.0, 549.0, 596.0, 468.0, 90.0, 439.0, 442.0, 378.0, 346.0, 564.0, 382.0, 654.0, 535.0, 346.0, 427.0, 359.0, 147.0, 471.0, 705.0, 483.0, 859.0, 701.0, 562.0, 526.0, 527.0, 360.0, 572.0, 571.0, 211.0, 81.0, 475.0, 468.0, 503.0, 515.0, 354.0, 465.0, 457.0, 478.0, 437.0, 32.0, 541.0, 468.0, 398.0, 349.0, 516.0, 416.0, 523.0, 388.0, 348.0, 508.0, 397.0, 520.0, 523.0, 454.0, 497.0, 367.0, 524.0, 126.0, 532.0, 471.0, 438.0, 424.0, 634.0, 499.0, 496.0, 247.0, 243.0, 382.0, 373.0, 266.0, 340.0, 68.0, 159.0, 242.0, 173.0, 243.0, 261.0, 281.0, 156.0, 329.0, 624.0, 648.0, 197.0, 169.0, 193.0, 279.0, 185.0, 275.0, 280.0, 337.0, 258.0, 401.0, 288.0, 360.0, 289.0, 371.0, 265.0, 503.0, 318.0, 554.0, 350.0, 90.0, 322.0, 352.0, 448.0, 419.0, 491.0, 450.0, 540.0, 416.0, 408.0, 464.0, 371.0, 262.0, 411.0, 377.0, 399.0, 546.0, 339.0, 322.0, 468.0, 291.0, 363.0, 85.0, 307.0, 411.0, 405.0, 365.0, 296.0, 417.0, 390.0, 307.0, 39.0, 112.0, 254.0, 395.0, 423.0, 391.0, 281.0, 353.0, 319.0, 138.0, 232.0, 108.0, 342.0, 425.0, 357.0, 407.0, 34.0, 727.0, 588.0, 841.0, 277.0, 1083.0, 953.0, 1232.0, 912.0, 1112.0, 1120.0, 1158.0, 1334.0, 384.0, 457.0, 453.0, 415.0, 281.0, 158.0, 694.0, 646.0, 679.0, 747.0, 656.0, 715.0, 489.0, 282.0, 541.0, 401.0, 408.0, 460.0, 356.0, 537.0, 414.0, 307.0, 755.0, 484.0, 599.0, 118.0, 501.0, 530.0, 785.0, 519.0, 603.0, 131.0, 279.0, 369.0, 359.0, 360.0, 187.0, 400.0, 192.0, 399.0, 353.0, 432.0, 321.0, 288.0, 395.0, 485.0, 126.0, 454.0, 415.0, 409.0, 479.0, 570.0, 415.0, 404.0, 422.0, 611.0, 223.0, 532.0, 440.0, 579.0, 495.0, 552.0, 477.0, 373.0, 631.0, 54.0, 108.0, 76.0, 86.0, 96.0, 112.0, 62.0, 98.0, 134.0, 223.0, 253.0, 326.0, 536.0, 421.0, 369.0, 564.0, 323.0, 319.0, 265.0, 278.0, 797.0, 832.0, 929.0, 726.0, 585.0, 546.0, 412.0, 501.0, 573.0, 606.0, 589.0, 668.0, 569.0, 659.0, 332.0, 560.0, 401.0, 353.0, 39.0, 46.0, 19.0, 7.0, 39.0, 50.0, 22.0, 51.0, 550.0, 454.0, 568.0, 613.0, 642.0, 629.0, 751.0, 555.0, 696.0, 445.0, 18.0, 395.0, 452.0, 523.0, 41.0, 1055.0, 388.0, 490.0, 551.0, 486.0, 439.0, 542.0, 459.0, 433.0, 403.0, 342.0, 433.0, 164.0, 1410.0, 1272.0, 1213.0, 1069.0, 1210.0, 220.0, 497.0, 495.0, 537.0, 489.0, 493.0, 98.0, 419.0, 434.0, 675.0, 50.0, 454.0, 567.0, 581.0, 627.0, 756.0, 708.0, 579.0, 850.0, 75.0, 363.0, 277.0, 553.0, 386.0, 522.0, 619.0, 446.0, 503.0, 552.0, 706.0, 305.0, 550.0, 268.0, 325.0, 486.0, 357.0, 324.0, 239.0, 416.0, 214.0, 219.0, 246.0, 530.0, 392.0, 580.0, 510.0, 533.0, 569.0, 575.0, 495.0, 594.0, 566.0, 396.0, 291.0, 409.0, 252.0, 276.0, 322.0, 336.0, 72.0, 680.0, 522.0, 315.0, 448.0, 406.0, 330.0, 299.0, 263.0, 615.0, 432.0, 217.0, 353.0, 329.0, 567.0, 348.0, 1435.0, 455.0, 559.0, 600.0, 463.0, 607.0, 268.0, 387.0, 617.0, 471.0, 378.0, 343.0, 452.0, 508.0, 457.0, 463.0, 447.0, 236.0, 766.0, 138.0, 208.0, 272.0, 28.0, 1322.0, 1027.0, 143.0, 559.0, 476.0, 505.0, 590.0, 600.0, 425.0, 41.0, 569.0, 665.0, 677.0, 753.0, 612.0, 436.0, 153.0, 256.0, 131.0, 175.0, 122.0, 158.0, 471.0, 731.0, 615.0, 546.0, 681.0, 634.0, 698.0, 548.0, 599.0, 208.0, 611.0, 513.0, 487.0, 428.0, 576.0, 411.0, 482.0, 82.0, 672.0, 447.0, 317.0, 233.0, 193.0, 496.0, 661.0, 681.0, 605.0, 491.0, 663.0, 415.0, 55.0, 57.0, 127.0, 19.0, 36.0, 68.0, 73.0, 98.0, 16.0, 310.0, 477.0, 490.0, 463.0, 380.0, 471.0, 372.0, 395.0, 401.0, 473.0, 457.0, 194.0, 134.0, 137.0, 178.0, 263.0, 222.0, 343.0, 249.0, 192.0, 159.0, 470.0, 375.0, 574.0, 515.0, 338.0, 376.0, 589.0, 272.0, 70.0, 414.0, 314.0, 350.0, 179.0, 401.0, 644.0, 489.0, 487.0, 361.0, 393.0, 541.0, 105.0, 875.0, 740.0, 667.0, 726.0, 727.0, 636.0, 808.0, 127.0, 226.0, 234.0, 210.0, 231.0, 306.0, 386.0, 497.0, 487.0, 402.0, 387.0, 544.0, 517.0, 446.0, 206.0, 457.0, 476.0, 433.0, 440.0, 437.0, 600.0, 443.0, 449.0, 407.0, 427.0, 532.0, 68.0, 662.0, 499.0, 622.0, 219.0, 260.0, 739.0, 716.0, 873.0, 518.0, 872.0, 9.0, 738.0, 1074.0, 174.0, 313.0, 419.0, 329.0, 454.0, 381.0, 362.0, 309.0, 433.0, 472.0, 21.0, 677.0, 606.0, 653.0, 732.0, 711.0, 772.0, 476.0, 755.0, 95.0, 341.0, 464.0, 357.0, 451.0, 464.0, 416.0, 349.0, 444.0, 136.0, 305.0, 339.0, 450.0, 376.0, 558.0, 535.0, 539.0, 612.0, 787.0, 636.0, 13.0, 316.0, 353.0, 460.0, 251.0, 294.0, 269.0, 396.0, 145.0, 365.0, 389.0, 268.0, 272.0, 245.0, 493.0, 432.0, 415.0, 709.0, 439.0, 728.0, 479.0, 418.0, 120.0, 348.0, 380.0, 523.0, 451.0, 361.0, 470.0, 347.0, 364.0, 663.0, 267.0, 413.0, 516.0, 606.0, 567.0, 354.0, 779.0, 532.0, 619.0, 603.0, 479.0, 349.0, 747.0, 822.0, 725.0, 637.0, 656.0, 748.0, 672.0, 836.0, 903.0, 747.0, 701.0, 154.0, 150.0, 264.0, 154.0, 261.0, 462.0, 631.0, 434.0, 659.0, 474.0, 485.0, 533.0, 407.0, 472.0, 79.0, 234.0, 327.0, 312.0, 387.0, 274.0, 440.0, 315.0, 380.0, 365.0, 380.0, 47.0, 739.0, 94.0, 508.0, 475.0, 576.0, 312.0, 505.0, 630.0, 576.0, 423.0, 452.0, 437.0, 643.0, 500.0, 520.0, 441.0, 452.0, 468.0, 544.0, 550.0, 630.0, 451.0, 544.0, 487.0, 526.0, 584.0, 556.0, 704.0, 148.0, 182.0, 174.0, 77.0, 156.0, 240.0, 297.0, 253.0, 340.0, 226.0, 336.0, 316.0, 267.0, 252.0, 404.0, 108.0, 494.0, 560.0, 514.0, 469.0, 634.0, 85.0, 353.0, 714.0, 401.0, 520.0, 395.0, 457.0, 494.0, 443.0, 332.0, 418.0, 436.0, 65.0, 595.0, 525.0, 575.0, 76.0, 194.0, 210.0, 306.0, 241.0, 171.0, 173.0, 182.0, 257.0, 197.0, 252.0, 190.0, 131.0, 704.0, 645.0, 20.0, 484.0, 558.0, 658.0, 737.0, 726.0, 578.0, 553.0, 663.0, 705.0, 250.0, 261.0, 144.0, 204.0, 213.0, 159.0, 175.0, 337.0, 225.0, 243.0, 197.0, 207.0, 354.0, 270.0, 316.0, 241.0, 300.0, 24.0, 533.0, 582.0, 613.0, 488.0, 474.0, 280.0, 853.0, 964.0, 406.0, 440.0, 588.0, 370.0, 586.0, 433.0, 519.0, 533.0, 435.0, 483.0, 350.0, 458.0, 513.0, 565.0, 352.0, 489.0, 60.0, 771.0, 456.0, 659.0, 472.0, 678.0, 641.0, 709.0, 305.0, 729.0, 1005.0, 706.0, 868.0, 293.0, 329.0, 260.0, 429.0, 258.0, 427.0, 351.0, 345.0, 372.0, 456.0, 509.0, 408.0, 411.0, 450.0, 340.0, 342.0, 583.0, 589.0, 645.0, 481.0, 499.0, 545.0, 539.0, 538.0, 136.0, 757.0, 719.0, 782.0, 715.0, 838.0, 535.0, 754.0, 32.0, 273.0, 277.0, 395.0, 298.0, 291.0, 370.0, 292.0, 214.0, 503.0, 459.0, 357.0, 510.0, 462.0, 303.0, 421.0, 405.0, 455.0, 475.0, 600.0, 36.0, 603.0, 497.0, 422.0, 396.0, 507.0, 541.0, 500.0, 116.0, 386.0, 121.0, 161.0, 215.0, 197.0, 170.0, 154.0, 111.0, 150.0, 97.0, 241.0, 188.0, 94.0, 153.0, 176.0, 282.0, 151.0, 180.0, 186.0, 186.0, 151.0, 301.0, 417.0, 672.0, 539.0, 617.0, 25.0, 425.0, 495.0, 604.0, 437.0, 535.0, 394.0, 479.0, 408.0, 352.0, 539.0, 464.0, 153.0, 327.0, 619.0, 346.0, 330.0, 281.0, 284.0, 296.0, 170.0, 267.0, 398.0, 905.0, 116.0, 374.0, 385.0, 374.0, 483.0, 342.0, 329.0, 348.0, 148.0, 304.0, 263.0, 300.0, 275.0, 119.0, 349.0, 556.0, 345.0, 335.0, 342.0, 489.0, 330.0, 321.0, 129.0, 621.0, 531.0, 614.0, 660.0, 480.0, 573.0, 561.0, 500.0, 607.0, 610.0, 110.0, 681.0, 521.0, 671.0, 741.0, 726.0, 522.0, 507.0, 505.0, 532.0, 315.0, 43.0, 618.0, 782.0, 166.0, 223.0, 143.0, 155.0, 254.0, 254.0, 229.0, 403.0, 227.0, 90.0, 159.0, 208.0, 174.0, 219.0, 123.0, 158.0, 108.0, 114.0, 560.0, 473.0, 291.0, 478.0, 448.0, 380.0, 466.0, 547.0, 437.0, 462.0, 515.0, 0.0, 2.0, 22.0, 0.0, 13.0, 11.0, 7.0, 23.0, 23.0, 20.0, 15.0, 0.0, 558.0, 550.0, 478.0, 495.0, 564.0, 391.0, 617.0, 463.0, 462.0, 2.0, 396.0, 373.0, 453.0, 454.0, 490.0, 291.0, 583.0, 230.0, 548.0, 421.0, 572.0, 529.0, 486.0, 517.0, 447.0, 457.0, 453.0, 437.0, 563.0, 101.0, 262.0, 285.0, 85.0, 737.0, 608.0, 618.0, 682.0, 707.0, 667.0, 673.0, 682.0, 238.0, 352.0, 432.0, 396.0, 492.0, 360.0, 107.0, 481.0, 421.0, 506.0, 516.0, 189.0, 389.0, 257.0, 329.0, 263.0, 292.0, 2.0, 224.0, 198.0, 183.0, 230.0, 185.0, 171.0, 680.0, 487.0, 574.0, 518.0, 560.0, 554.0, 566.0, 636.0, 604.0, 651.0, 238.0, 559.0, 463.0, 439.0, 497.0, 428.0, 455.0, 461.0, 440.0, 390.0, 511.0, 480.0, 492.0, 584.0, 668.0, 657.0, 446.0, 541.0, 544.0, 665.0, 503.0, 589.0, 637.0, 627.0, 310.0, 200.0, 453.0, 617.0, 511.0, 606.0, 153.0, 354.0, 473.0, 315.0, 438.0, 463.0, 390.0, 470.0, 343.0, 402.0, 349.0, 351.0, 105.0, 209.0, 196.0, 142.0, 162.0, 142.0, 275.0, 226.0, 133.0, 290.0, 149.0, 242.0, 397.0, 239.0, 291.0, 95.0, 597.0, 525.0, 549.0, 750.0, 624.0, 614.0, 541.0, 515.0, 753.0, 734.0, 635.0, 643.0, 846.0, 733.0, 655.0, 750.0, 667.0, 51.0, 252.0, 449.0, 555.0, 402.0, 386.0, 588.0, 587.0, 601.0, 584.0, 793.0, 63.0, 169.0, 193.0, 136.0, 187.0, 201.0, 338.0, 371.0, 308.0, 302.0, 361.0, 318.0, 397.0, 177.0, 346.0, 441.0, 333.0, 369.0, 368.0, 161.0, 412.0, 413.0, 206.0, 649.0, 584.0, 465.0, 456.0, 538.0, 83.0, 210.0, 199.0, 231.0, 74.0, 285.0, 379.0, 282.0, 242.0, 359.0, 389.0, 279.0, 414.0, 253.0, 335.0, 252.0, 412.0, 277.0, 61.0, 198.0, 175.0, 224.0, 131.0, 228.0, 203.0, 227.0, 198.0, 174.0, 271.0, 219.0, 49.0, 722.0, 653.0, 820.0, 667.0, 728.0, 525.0, 766.0, 733.0, 585.0, 646.0, 570.0, 510.0, 464.0, 637.0, 418.0, 700.0, 515.0, 537.0, 577.0, 561.0, 482.0, 542.0, 608.0, 66.0, 414.0, 428.0, 399.0, 382.0, 70.0, 240.0, 357.0, 188.0, 161.0, 204.0, 379.0, 332.0, 138.0, 261.0, 273.0, 241.0, 89.0, 266.0, 163.0, 318.0, 299.0, 196.0, 214.0, 358.0, 278.0, 265.0, 359.0, 727.0, 750.0, 650.0, 619.0, 452.0, 527.0, 627.0, 406.0, 554.0, 508.0, 503.0, 520.0, 712.0, 660.0, 503.0, 516.0, 560.0, 204.0, 215.0, 309.0, 401.0, 298.0, 234.0, 358.0, 403.0, 318.0, 318.0, 463.0, 330.0, 174.0, 297.0, 199.0, 335.0, 290.0, 307.0, 353.0, 10.0, 329.0, 586.0, 487.0, 452.0, 488.0, 409.0, 80.0, 182.0, 407.0, 965.0, 761.0, 611.0, 575.0, 631.0, 508.0, 50.0, 421.0, 289.0, 642.0, 424.0, 436.0, 652.0, 644.0, 750.0, 254.0, 457.0, 526.0, 471.0, 241.0, 547.0, 655.0, 532.0, 648.0, 576.0, 321.0, 495.0, 427.0, 118.0, 843.0, 779.0, 729.0, 1144.0, 409.0, 491.0, 381.0, 519.0, 520.0, 450.0, 543.0, 432.0, 444.0, 514.0, 152.0, 756.0, 889.0, 889.0, 930.0, 335.0, 441.0, 490.0, 371.0, 472.0, 494.0, 516.0, 515.0, 506.0, 494.0, 427.0, 662.0, 488.0, 534.0, 756.0, 466.0, 613.0, 537.0, 611.0, 711.0, 954.0, 671.0, 94.0, 933.0, 878.0, 237.0, 529.0, 694.0, 616.0, 402.0, 585.0, 490.0, 542.0, 631.0, 597.0, 555.0, 247.0, 449.0, 609.0, 660.0, 554.0, 636.0, 492.0, 736.0, 592.0, 137.0, 287.0, 233.0, 138.0, 211.0, 280.0, 406.0, 177.0, 195.0, 276.0, 216.0, 255.0, 508.0, 492.0, 294.0, 461.0, 581.0, 590.0, 486.0, 606.0, 669.0, 456.0, 552.0, 468.0, 605.0, 625.0, 172.0, 234.0, 238.0, 230.0, 291.0, 211.0, 208.0, 286.0, 255.0, 243.0, 204.0, 130.0, 121.0, 601.0, 602.0, 695.0, 797.0, 751.0, 708.0, 531.0, 630.0, 174.0, 305.0, 187.0, 290.0, 249.0, 291.0, 666.0, 396.0, 799.0, 640.0, 465.0, 576.0, 222.0, 425.0, 550.0, 494.0, 388.0, 471.0, 547.0, 305.0, 36.0, 382.0, 361.0, 460.0, 272.0, 269.0, 223.0, 312.0, 279.0, 297.0, 356.0, 24.0, 444.0, 294.0, 360.0, 246.0, 245.0, 331.0, 238.0, 303.0, 265.0, 275.0, 366.0, 470.0, 731.0, 686.0, 784.0, 645.0, 865.0, 613.0, 691.0, 345.0, 529.0, 369.0, 334.0, 292.0, 38.0, 764.0, 1007.0, 87.0, 180.0, 98.0, 227.0, 155.0, 403.0, 444.0, 270.0, 339.0, 330.0, 250.0, 346.0, 322.0, 312.0, 282.0, 290.0, 84.0, 517.0, 603.0, 694.0, 619.0, 510.0, 781.0, 262.0, 501.0, 354.0, 411.0, 418.0, 48.0, 594.0, 557.0, 521.0, 484.0, 555.0, 582.0, 527.0, 486.0, 450.0, 662.0, 518.0, 490.0, 371.0, 545.0, 175.0, 400.0, 471.0, 247.0, 70.0, 449.0, 612.0, 492.0, 0.0, 0.0, 0.0, 0.0, 0.0], \"xaxis\": \"x2\", \"yaxis\": \"y2\"}],\n",
       "                        {\"barmode\": \"relative\", \"height\": 600, \"legend\": {\"tracegroupgap\": 0}, \"template\": {\"data\": {\"bar\": [{\"error_x\": {\"color\": \"#2a3f5f\"}, \"error_y\": {\"color\": \"#2a3f5f\"}, \"marker\": {\"line\": {\"color\": \"#E5ECF6\", \"width\": 0.5}}, \"type\": \"bar\"}], \"barpolar\": [{\"marker\": {\"line\": {\"color\": \"#E5ECF6\", \"width\": 0.5}}, \"type\": \"barpolar\"}], \"carpet\": [{\"aaxis\": {\"endlinecolor\": \"#2a3f5f\", \"gridcolor\": \"white\", \"linecolor\": \"white\", \"minorgridcolor\": \"white\", \"startlinecolor\": \"#2a3f5f\"}, \"baxis\": {\"endlinecolor\": \"#2a3f5f\", \"gridcolor\": \"white\", \"linecolor\": \"white\", \"minorgridcolor\": \"white\", \"startlinecolor\": \"#2a3f5f\"}, \"type\": \"carpet\"}], \"choropleth\": [{\"colorbar\": {\"outlinewidth\": 0, \"ticks\": \"\"}, \"type\": \"choropleth\"}], \"contour\": [{\"colorbar\": {\"outlinewidth\": 0, \"ticks\": \"\"}, \"colorscale\": [[0.0, \"#0d0887\"], [0.1111111111111111, \"#46039f\"], [0.2222222222222222, \"#7201a8\"], [0.3333333333333333, \"#9c179e\"], [0.4444444444444444, \"#bd3786\"], [0.5555555555555556, \"#d8576b\"], [0.6666666666666666, \"#ed7953\"], [0.7777777777777778, \"#fb9f3a\"], [0.8888888888888888, \"#fdca26\"], [1.0, \"#f0f921\"]], \"type\": \"contour\"}], \"contourcarpet\": [{\"colorbar\": {\"outlinewidth\": 0, \"ticks\": \"\"}, \"type\": \"contourcarpet\"}], \"heatmap\": [{\"colorbar\": {\"outlinewidth\": 0, \"ticks\": \"\"}, \"colorscale\": [[0.0, \"#0d0887\"], [0.1111111111111111, \"#46039f\"], [0.2222222222222222, \"#7201a8\"], [0.3333333333333333, \"#9c179e\"], [0.4444444444444444, \"#bd3786\"], [0.5555555555555556, \"#d8576b\"], [0.6666666666666666, \"#ed7953\"], [0.7777777777777778, \"#fb9f3a\"], [0.8888888888888888, \"#fdca26\"], [1.0, \"#f0f921\"]], \"type\": \"heatmap\"}], \"heatmapgl\": [{\"colorbar\": {\"outlinewidth\": 0, \"ticks\": \"\"}, \"colorscale\": [[0.0, \"#0d0887\"], [0.1111111111111111, \"#46039f\"], [0.2222222222222222, \"#7201a8\"], [0.3333333333333333, \"#9c179e\"], [0.4444444444444444, \"#bd3786\"], [0.5555555555555556, \"#d8576b\"], [0.6666666666666666, \"#ed7953\"], [0.7777777777777778, \"#fb9f3a\"], [0.8888888888888888, \"#fdca26\"], [1.0, \"#f0f921\"]], \"type\": \"heatmapgl\"}], \"histogram\": [{\"marker\": {\"colorbar\": {\"outlinewidth\": 0, \"ticks\": \"\"}}, \"type\": \"histogram\"}], \"histogram2d\": [{\"colorbar\": {\"outlinewidth\": 0, \"ticks\": \"\"}, \"colorscale\": [[0.0, \"#0d0887\"], [0.1111111111111111, \"#46039f\"], [0.2222222222222222, \"#7201a8\"], [0.3333333333333333, \"#9c179e\"], [0.4444444444444444, \"#bd3786\"], [0.5555555555555556, \"#d8576b\"], [0.6666666666666666, \"#ed7953\"], [0.7777777777777778, \"#fb9f3a\"], [0.8888888888888888, \"#fdca26\"], [1.0, \"#f0f921\"]], \"type\": \"histogram2d\"}], \"histogram2dcontour\": [{\"colorbar\": {\"outlinewidth\": 0, \"ticks\": \"\"}, \"colorscale\": [[0.0, \"#0d0887\"], [0.1111111111111111, \"#46039f\"], [0.2222222222222222, \"#7201a8\"], [0.3333333333333333, \"#9c179e\"], [0.4444444444444444, \"#bd3786\"], [0.5555555555555556, \"#d8576b\"], [0.6666666666666666, \"#ed7953\"], [0.7777777777777778, \"#fb9f3a\"], [0.8888888888888888, \"#fdca26\"], [1.0, \"#f0f921\"]], \"type\": \"histogram2dcontour\"}], \"mesh3d\": [{\"colorbar\": {\"outlinewidth\": 0, \"ticks\": \"\"}, \"type\": \"mesh3d\"}], \"parcoords\": [{\"line\": {\"colorbar\": {\"outlinewidth\": 0, \"ticks\": \"\"}}, \"type\": \"parcoords\"}], \"scatter\": [{\"marker\": {\"colorbar\": {\"outlinewidth\": 0, \"ticks\": \"\"}}, \"type\": \"scatter\"}], \"scatter3d\": [{\"line\": {\"colorbar\": {\"outlinewidth\": 0, \"ticks\": \"\"}}, \"marker\": {\"colorbar\": {\"outlinewidth\": 0, \"ticks\": \"\"}}, \"type\": \"scatter3d\"}], \"scattercarpet\": [{\"marker\": {\"colorbar\": {\"outlinewidth\": 0, \"ticks\": \"\"}}, \"type\": \"scattercarpet\"}], \"scattergeo\": [{\"marker\": {\"colorbar\": {\"outlinewidth\": 0, \"ticks\": \"\"}}, \"type\": \"scattergeo\"}], \"scattergl\": [{\"marker\": {\"colorbar\": {\"outlinewidth\": 0, \"ticks\": \"\"}}, \"type\": \"scattergl\"}], \"scattermapbox\": [{\"marker\": {\"colorbar\": {\"outlinewidth\": 0, \"ticks\": \"\"}}, \"type\": \"scattermapbox\"}], \"scatterpolar\": [{\"marker\": {\"colorbar\": {\"outlinewidth\": 0, \"ticks\": \"\"}}, \"type\": \"scatterpolar\"}], \"scatterpolargl\": [{\"marker\": {\"colorbar\": {\"outlinewidth\": 0, \"ticks\": \"\"}}, \"type\": \"scatterpolargl\"}], \"scatterternary\": [{\"marker\": {\"colorbar\": {\"outlinewidth\": 0, \"ticks\": \"\"}}, \"type\": \"scatterternary\"}], \"surface\": [{\"colorbar\": {\"outlinewidth\": 0, \"ticks\": \"\"}, \"colorscale\": [[0.0, \"#0d0887\"], [0.1111111111111111, \"#46039f\"], [0.2222222222222222, \"#7201a8\"], [0.3333333333333333, \"#9c179e\"], [0.4444444444444444, \"#bd3786\"], [0.5555555555555556, \"#d8576b\"], [0.6666666666666666, \"#ed7953\"], [0.7777777777777778, \"#fb9f3a\"], [0.8888888888888888, \"#fdca26\"], [1.0, \"#f0f921\"]], \"type\": \"surface\"}], \"table\": [{\"cells\": {\"fill\": {\"color\": \"#EBF0F8\"}, \"line\": {\"color\": \"white\"}}, \"header\": {\"fill\": {\"color\": \"#C8D4E3\"}, \"line\": {\"color\": \"white\"}}, \"type\": \"table\"}]}, \"layout\": {\"annotationdefaults\": {\"arrowcolor\": \"#2a3f5f\", \"arrowhead\": 0, \"arrowwidth\": 1}, \"colorscale\": {\"diverging\": [[0, \"#8e0152\"], [0.1, \"#c51b7d\"], [0.2, \"#de77ae\"], [0.3, \"#f1b6da\"], [0.4, \"#fde0ef\"], [0.5, \"#f7f7f7\"], [0.6, \"#e6f5d0\"], [0.7, \"#b8e186\"], [0.8, \"#7fbc41\"], [0.9, \"#4d9221\"], [1, \"#276419\"]], \"sequential\": [[0.0, \"#0d0887\"], [0.1111111111111111, \"#46039f\"], [0.2222222222222222, \"#7201a8\"], [0.3333333333333333, \"#9c179e\"], [0.4444444444444444, \"#bd3786\"], [0.5555555555555556, \"#d8576b\"], [0.6666666666666666, \"#ed7953\"], [0.7777777777777778, \"#fb9f3a\"], [0.8888888888888888, \"#fdca26\"], [1.0, \"#f0f921\"]], \"sequentialminus\": [[0.0, \"#0d0887\"], [0.1111111111111111, \"#46039f\"], [0.2222222222222222, \"#7201a8\"], [0.3333333333333333, \"#9c179e\"], [0.4444444444444444, \"#bd3786\"], [0.5555555555555556, \"#d8576b\"], [0.6666666666666666, \"#ed7953\"], [0.7777777777777778, \"#fb9f3a\"], [0.8888888888888888, \"#fdca26\"], [1.0, \"#f0f921\"]]}, \"colorway\": [\"#636efa\", \"#EF553B\", \"#00cc96\", \"#ab63fa\", \"#FFA15A\", \"#19d3f3\", \"#FF6692\", \"#B6E880\", \"#FF97FF\", \"#FECB52\"], \"font\": {\"color\": \"#2a3f5f\"}, \"geo\": {\"bgcolor\": \"white\", \"lakecolor\": \"white\", \"landcolor\": \"#E5ECF6\", \"showlakes\": true, \"showland\": true, \"subunitcolor\": \"white\"}, \"hoverlabel\": {\"align\": \"left\"}, \"hovermode\": \"closest\", \"mapbox\": {\"style\": \"light\"}, \"paper_bgcolor\": \"white\", \"plot_bgcolor\": \"#E5ECF6\", \"polar\": {\"angularaxis\": {\"gridcolor\": \"white\", \"linecolor\": \"white\", \"ticks\": \"\"}, \"bgcolor\": \"#E5ECF6\", \"radialaxis\": {\"gridcolor\": \"white\", \"linecolor\": \"white\", \"ticks\": \"\"}}, \"scene\": {\"xaxis\": {\"backgroundcolor\": \"#E5ECF6\", \"gridcolor\": \"white\", \"gridwidth\": 2, \"linecolor\": \"white\", \"showbackground\": true, \"ticks\": \"\", \"zerolinecolor\": \"white\"}, \"yaxis\": {\"backgroundcolor\": \"#E5ECF6\", \"gridcolor\": \"white\", \"gridwidth\": 2, \"linecolor\": \"white\", \"showbackground\": true, \"ticks\": \"\", \"zerolinecolor\": \"white\"}, \"zaxis\": {\"backgroundcolor\": \"#E5ECF6\", \"gridcolor\": \"white\", \"gridwidth\": 2, \"linecolor\": \"white\", \"showbackground\": true, \"ticks\": \"\", \"zerolinecolor\": \"white\"}}, \"shapedefaults\": {\"line\": {\"color\": \"#2a3f5f\"}}, \"ternary\": {\"aaxis\": {\"gridcolor\": \"white\", \"linecolor\": \"white\", \"ticks\": \"\"}, \"baxis\": {\"gridcolor\": \"white\", \"linecolor\": \"white\", \"ticks\": \"\"}, \"bgcolor\": \"#E5ECF6\", \"caxis\": {\"gridcolor\": \"white\", \"linecolor\": \"white\", \"ticks\": \"\"}}, \"title\": {\"x\": 0.05}, \"xaxis\": {\"automargin\": true, \"gridcolor\": \"white\", \"linecolor\": \"white\", \"ticks\": \"\", \"zerolinecolor\": \"white\", \"zerolinewidth\": 2}, \"yaxis\": {\"automargin\": true, \"gridcolor\": \"white\", \"linecolor\": \"white\", \"ticks\": \"\", \"zerolinecolor\": \"white\", \"zerolinewidth\": 2}}}, \"title\": {\"text\": \"\\u0420\\u0430\\u0441\\u043f\\u0440\\u0435\\u0434\\u0435\\u043b\\u0435\\u043d\\u0438\\u0435 \\u0437\\u043d\\u0430\\u0447\\u0435\\u043d\\u0438\\u0439 \\u0441\\u0442\\u043e\\u043b\\u0431\\u0446\\u0430 duration \\u0441 \\u0440\\u0430\\u0437\\u0434\\u0435\\u043b\\u0435\\u043d\\u0438\\u0435\\u043c \\u043f\\u043e \\u0442\\u0430\\u0440\\u0438\\u0444\\u0430\\u043c\"}, \"xaxis\": {\"anchor\": \"y\", \"domain\": [0.0, 0.98], \"title\": {\"text\": \"duration_sum\"}}, \"xaxis2\": {\"anchor\": \"y2\", \"domain\": [0.0, 0.98], \"matches\": \"x\", \"showgrid\": true, \"showticklabels\": false}, \"yaxis\": {\"anchor\": \"x\", \"domain\": [0.0, 0.7326], \"title\": {\"text\": \"count\"}}, \"yaxis2\": {\"anchor\": \"x2\", \"domain\": [0.7426, 1.0], \"matches\": \"y2\", \"showgrid\": false, \"showticklabels\": false}},\n",
       "                        {\"responsive\": true}\n",
       "                    ).then(function(){\n",
       "                            \n",
       "var gd = document.getElementById('c9930997-c68d-4806-95db-ee6ad2174f72');\n",
       "var x = new MutationObserver(function (mutations, observer) {{\n",
       "        var display = window.getComputedStyle(gd).display;\n",
       "        if (!display || display === 'none') {{\n",
       "            console.log([gd, 'removed!']);\n",
       "            Plotly.purge(gd);\n",
       "            observer.disconnect();\n",
       "        }}\n",
       "}});\n",
       "\n",
       "// Listen for the removal of the full notebook cells\n",
       "var notebookContainer = gd.closest('#notebook-container');\n",
       "if (notebookContainer) {{\n",
       "    x.observe(notebookContainer, {childList: true});\n",
       "}}\n",
       "\n",
       "// Listen for the clearing of the current output cell\n",
       "var outputEl = gd.closest('.output');\n",
       "if (outputEl) {{\n",
       "    x.observe(outputEl, {childList: true});\n",
       "}}\n",
       "\n",
       "                        })\n",
       "                };\n",
       "                });\n",
       "            </script>\n",
       "        </div>"
      ]
     },
     "metadata": {},
     "output_type": "display_data"
    }
   ],
   "source": [
    "import plotly.express as px\n",
    "\n",
    "fig = px.histogram(df_final, \n",
    "                       x = 'duration_sum',\n",
    "                       color = 'tariff', \n",
    "                       marginal = 'box',\n",
    "                       opacity = 0.5, \n",
    "                       title = 'Распределение значений столбца duration с разделением по тарифам')\n",
    "fig.show()"
   ]
  },
  {
   "cell_type": "markdown",
   "metadata": {},
   "source": [
    "Как видно на гистограмме количества использованных минут, а также на диаграмме размаха использованных минут:\n",
    "* пользователи тарифа ультра не выходят за рамки установленных тарифом минут разговора(3000 минут), при этом пользователи тарифа смарт довольно часто выходят за рамки установленных тарифом минут разговора(500 минут);\n",
    "* у пользователей тарифа смарт наиболее выражена мода, чем у пользователей тарифа ультра, при этом, мода тарифа смарт расположена на границе установленных тарифом минут(500 минут), а мода тарифа ультра расположена сильно ниже установленной тарифом границы количества минут разговора(600 минут)."
   ]
  },
  {
   "cell_type": "code",
   "execution_count": 244,
   "metadata": {},
   "outputs": [
    {
     "data": {
      "image/png": "[encoded data removed]",
      "text/plain": [
       "<Figure size 432x288 with 1 Axes>"
      ]
     },
     "metadata": {
      "needs_background": "light"
     },
     "output_type": "display_data"
    }
   ],
   "source": [
    "for tariff in ['ultra', 'smart']:\n",
    "    sns.distplot(df_final.query('tariff==@tariff')['messages_cnt'], kde=False, label=tariff)\n",
    "legend = plt.legend(['ultra', 'smart'])\n",
    "plt.title('Гистограмма пользования сообщениями')#название графика\n",
    "plt.xlabel('Количество сообщений')#название оси абсцисс\n",
    "plt.ylabel('Количество пользователей')#название оси ординат\n",
    "plt.show()#выведем график"
   ]
  },
  {
   "cell_type": "markdown",
   "metadata": {},
   "source": [
    "Как видно на гистограмме пользования сообщениями, а также на диаграмме размаха использованных сообщений:\n",
    "* пользователи тарифа ультра не выходят за рамки установленных тарифом количества сообщений(1000 смс), при этом пользователи тарифа смарт довольно часто выходят за рамки установленных тарифом количества сообщений(50 смс); \n",
    "* у пользователей тарифа смарт наиболее выражена мода, чем у пользователей тарифа ультра, при этом, мода тарифа смарт расположена на уровне (до 10 смс), а мода тарифа ультра расположена сильно ниже установленной тарифом границы количества минут разговора(от 0 до 25 смс)."
   ]
  },
  {
   "cell_type": "code",
   "execution_count": 245,
   "metadata": {},
   "outputs": [
    {
     "data": {
      "image/png": "[encoded data removed]",
      "text/plain": [
       "<Figure size 432x288 with 1 Axes>"
      ]
     },
     "metadata": {
      "needs_background": "light"
     },
     "output_type": "display_data"
    }
   ],
   "source": [
    "for tariff in ['ultra', 'smart']:\n",
    "    sns.distplot(df_final.query('tariff==@tariff')['gb_used'], kde=False, label=tariff)\n",
    "legend = plt.legend(['ultra', 'smart'])\n",
    "plt.title('Гистограмма пользования интернетом ')#название графика\n",
    "plt.xlabel('Количество трафика')#название оси абсцисс\n",
    "plt.ylabel('Количество пользователей')#название оси ординат\n",
    "plt.show()#выведем график"
   ]
  },
  {
   "cell_type": "markdown",
   "metadata": {},
   "source": [
    "Как видно на гистограмме пользования интернетом, а также на диаграмме размаха использованных гигабайтов:\n",
    "* наибольшее количество пользователей тарифа смарт выходят за рамки установленного тарифом трафика интернета, при этом, практически все пользватели тарифа ультра не выбирают трафик в полном объеме;\n",
    "* мода тарифа ультра приходится на 15-20 гб (при этом граница по тарифу смарт составляет 15 гб)"
   ]
  },
  {
   "cell_type": "markdown",
   "metadata": {},
   "source": [
    "***Вывод***\n",
    "\n",
    "Исходя из вышеизложенного, можно сделать вывод, что пользователи тарифа ультра не выбирают полностью ни минуты разговора, ни сообщения, ни гигабайты, установленный тарифом.\n",
    "\n",
    "При этом, пользователи тарифа смарт, в ряде случаев превышают границы установленых тарифом минут, сообщений и гигабайт."
   ]
  },
  {
   "cell_type": "markdown",
   "metadata": {},
   "source": [
    "### Шаг 5. Проверим гипотезы"
   ]
  },
  {
   "cell_type": "markdown",
   "metadata": {},
   "source": [
    "1)средняя выручка пользователей тарифов «Ультра» и «Смарт» различаются.\n",
    "\n"
   ]
  },
  {
   "cell_type": "markdown",
   "metadata": {},
   "source": [
    "* Сформулируем H0(нулевую гипотезу):\n",
    "* - средняя выручка тарифа смарт = средней выручке тарифа ультра(разницы нет и генеральные совокупности равны)\n",
    "* Сформулируем Н1(альтернативную гипотезу):\n",
    "* - средняя выручка тарифа смарт != средней выручке тарифа ультра."
   ]
  },
  {
   "cell_type": "code",
   "execution_count": 246,
   "metadata": {},
   "outputs": [
    {
     "name": "stdout",
     "output_type": "stream",
     "text": [
      "p-значение:  1.870080578859805e-105\n",
      "Отвергаем нулевую гипотезу\n"
     ]
    }
   ],
   "source": [
    "df_smart = df_final.query('tariff==\"smart\"')#Создадим срез данных методом query()\n",
    "df_ultra = df_final.query('tariff==\"ultra\"')#Создадим срез данных методом query()\n",
    "#Проверка гипотезы о равенстве среднего двух выборок из генеральной совокупности\n",
    "from scipy import stats as st\n",
    "results = st.ttest_ind(df_smart['paid'], df_ultra['paid'],  equal_var = True)\n",
    "print('p-значение: ', results.pvalue)\n",
    "alpha = .05\n",
    "if results.pvalue < alpha:\n",
    "    print(\"Отвергаем нулевую гипотезу\")\n",
    "else:\n",
    "    print(\"Не получилось отвергнуть нулевую гипотезу\")"
   ]
  },
  {
   "cell_type": "markdown",
   "metadata": {},
   "source": [
    "Таким образом, гипотеза о том, что средняя выручка пользователей тарифов «Ультра» и «Смарт» различаются подтверждается."
   ]
  },
  {
   "cell_type": "markdown",
   "metadata": {},
   "source": [
    "2)средняя выручка пользователей из Москвы отличается от выручки пользователей из других регионов.\n",
    "\n",
    "Сформулируем нулевую гипотезу, как: средняя выручка пользователей из Москвы = средней выручке пользователей из других регионов, так как изначально одинаковая стоимость тарифов, как для пользователей из Москвы, так и для пользователей из других городов. \n"
   ]
  },
  {
   "cell_type": "markdown",
   "metadata": {},
   "source": [
    "* Сформулируем H0(нулевую гипотезу):\n",
    "** средняя выручка пользователей из Москвы = средней выручке пользователей из других регионов.\n",
    "* Сформулируем Н1(альтернативную гипотезу): \n",
    "** средняя выручка пользователей из Москвы != средней выручке пользователей из других регионов.\n"
   ]
  },
  {
   "cell_type": "code",
   "execution_count": 247,
   "metadata": {},
   "outputs": [
    {
     "name": "stdout",
     "output_type": "stream",
     "text": [
      "p-значение:  0.5440152911670224\n",
      "Не получилось отвергнуть нулевую гипотезу\n"
     ]
    }
   ],
   "source": [
    "df_user_region = df_final.query('df_city==\"Другой регион\"')#Создадим срез данных методом query()\n",
    "df_user_moscow = df_final.query('df_city==\"Москва\"')\n",
    "#Проверка гипотезы о равенстве среднего двух выборок из генеральной совокупности\n",
    "results = st.ttest_ind(df_user_moscow['paid'], df_user_region['paid'], equal_var = True)\n",
    "print('p-значение: ', results.pvalue)\n",
    "alpha = .05\n",
    "if results.pvalue < alpha:\n",
    "    print(\"Отвергаем нулевую гипотезу\")\n",
    "else:\n",
    "    print(\"Не получилось отвергнуть нулевую гипотезу\")\n"
   ]
  },
  {
   "cell_type": "markdown",
   "metadata": {},
   "source": [
    "Таким образом, гипотеза о том, что средняя выручка пользователей из Москвы отличается от выручки пользователей из других регионов не подтверждается."
   ]
  },
  {
   "cell_type": "markdown",
   "metadata": {},
   "source": [
    "***Вывод***\n",
    "* 1. Гипотеза о том, что средняя выручка пользователей из Москвы отличается от выручки пользователей из других регионов не подтверждается.\n",
    "* 2. Гипотеза о том, что средняя выручка пользователей тарифов «Ультра» и «Смарт» различаются подтверждается."
   ]
  },
  {
   "cell_type": "markdown",
   "metadata": {},
   "source": [
    "### Шаг 6. Общий вывод"
   ]
  },
  {
   "cell_type": "markdown",
   "metadata": {},
   "source": [
    "Общая выручка больше по тарифу smart, несмотря на то, что тариф дешевле, так как указанный тариф популярнее. При этом, указанный тариф смарт стоит доработать и развить, так как пользователям явно не хватает определенных тарифом минут, сообщений и трафика.\n",
    "\n",
    "Исходя из вышеизложенного, можно сделать вывод, что пользователи тарифа ультра не выбирают полностью ни минуты разговора, ни сообщения, ни гигабайты, установленный тарифом. При этом, пользователи тарифа смарт, в ряде случаев превышают границы установленых тарифом минут, сообщений и трафика.\n",
    "\n",
    "При этом среднее значение выручки по каждому пользователю по тарифу smart составляет 1294.97 руб., что составляет 135.45% от стоимости тарифа, при этом это на 33.6% дешевле, чем ежемесячная плата по тарифу ultra.\n",
    "\n",
    "\n",
    "При этом:\n",
    "* 1. Гипотеза о том, что средняя выручка пользователей из Москвы отличается от выручки пользователей из других регионов не подтверждается.\n",
    "* 2. Гипотеза о том, что средняя выручка пользователей тарифов «Ультра» и «Смарт» различаются подтверждается."
   ]
  }
 ],
 "metadata": {
  "ExecuteTimeLog": [
   {
    "duration": 1876,
    "start_time": "2021-09-07T09:10:45.387Z"
   },
   {
    "duration": 360,
    "start_time": "2021-09-07T09:11:11.431Z"
   },
   {
    "duration": 4,
    "start_time": "2021-09-07T09:11:15.428Z"
   },
   {
    "duration": 332,
    "start_time": "2021-09-07T09:11:53.662Z"
   },
   {
    "duration": 251,
    "start_time": "2021-09-07T09:12:47.690Z"
   },
   {
    "duration": 140,
    "start_time": "2021-09-07T09:13:37.805Z"
   },
   {
    "duration": 87,
    "start_time": "2021-09-07T09:14:39.385Z"
   },
   {
    "duration": 88,
    "start_time": "2021-09-07T09:15:26.168Z"
   },
   {
    "duration": 48,
    "start_time": "2021-09-07T09:15:54.318Z"
   },
   {
    "duration": 10,
    "start_time": "2021-09-07T09:17:55.025Z"
   },
   {
    "duration": 37,
    "start_time": "2021-09-07T09:23:55.175Z"
   },
   {
    "duration": 333,
    "start_time": "2021-09-07T09:26:19.799Z"
   },
   {
    "duration": 356,
    "start_time": "2021-09-07T09:27:19.434Z"
   },
   {
    "duration": 267,
    "start_time": "2021-09-07T09:27:38.444Z"
   },
   {
    "duration": 263,
    "start_time": "2021-09-07T09:27:47.418Z"
   },
   {
    "duration": 1471,
    "start_time": "2021-09-07T09:27:54.461Z"
   },
   {
    "duration": 335,
    "start_time": "2021-09-07T09:27:58.629Z"
   },
   {
    "duration": 284,
    "start_time": "2021-09-07T09:28:01.583Z"
   },
   {
    "duration": 357,
    "start_time": "2021-09-07T09:28:29.589Z"
   },
   {
    "duration": 1399,
    "start_time": "2021-09-07T09:28:35.880Z"
   },
   {
    "duration": 407,
    "start_time": "2021-09-07T09:28:38.684Z"
   },
   {
    "duration": 302,
    "start_time": "2021-09-07T09:28:41.447Z"
   },
   {
    "duration": 342,
    "start_time": "2021-09-07T09:29:10.943Z"
   },
   {
    "duration": 1489,
    "start_time": "2021-09-07T09:29:17.040Z"
   },
   {
    "duration": 319,
    "start_time": "2021-09-07T09:29:19.921Z"
   },
   {
    "duration": 313,
    "start_time": "2021-09-07T09:29:22.836Z"
   },
   {
    "duration": 402,
    "start_time": "2021-09-07T09:29:26.339Z"
   },
   {
    "duration": 350,
    "start_time": "2021-09-07T09:30:00.104Z"
   },
   {
    "duration": 329,
    "start_time": "2021-09-07T09:33:34.172Z"
   },
   {
    "duration": 1461,
    "start_time": "2021-09-07T09:33:41.011Z"
   },
   {
    "duration": 316,
    "start_time": "2021-09-07T09:33:43.630Z"
   },
   {
    "duration": 294,
    "start_time": "2021-09-07T09:33:46.017Z"
   },
   {
    "duration": 317,
    "start_time": "2021-09-07T09:34:27.332Z"
   },
   {
    "duration": 1484,
    "start_time": "2021-09-07T09:34:31.530Z"
   },
   {
    "duration": 359,
    "start_time": "2021-09-07T09:34:34.417Z"
   },
   {
    "duration": 29,
    "start_time": "2021-09-07T09:34:36.679Z"
   },
   {
    "duration": 390,
    "start_time": "2021-09-07T09:35:02.877Z"
   },
   {
    "duration": 279,
    "start_time": "2021-09-07T09:35:08.640Z"
   },
   {
    "duration": 23,
    "start_time": "2021-09-07T09:35:11.059Z"
   },
   {
    "duration": 370,
    "start_time": "2021-09-07T09:44:51.129Z"
   },
   {
    "duration": 1462,
    "start_time": "2021-09-07T09:44:56.555Z"
   },
   {
    "duration": 385,
    "start_time": "2021-09-07T09:44:58.881Z"
   },
   {
    "duration": 28,
    "start_time": "2021-09-07T09:45:02.048Z"
   },
   {
    "duration": 328,
    "start_time": "2021-09-07T09:45:04.337Z"
   },
   {
    "duration": 22,
    "start_time": "2021-09-07T09:45:07.293Z"
   },
   {
    "duration": 324,
    "start_time": "2021-09-07T09:45:10.079Z"
   },
   {
    "duration": 279,
    "start_time": "2021-09-07T09:45:42.977Z"
   },
   {
    "duration": 134,
    "start_time": "2021-09-07T09:46:07.572Z"
   },
   {
    "duration": 334,
    "start_time": "2021-09-07T09:46:20.985Z"
   },
   {
    "duration": 230,
    "start_time": "2021-09-07T09:46:30.143Z"
   },
   {
    "duration": 5978,
    "start_time": "2021-09-07T09:46:36.940Z"
   },
   {
    "duration": 493,
    "start_time": "2021-09-07T09:46:52.816Z"
   },
   {
    "duration": 301,
    "start_time": "2021-09-07T09:47:12.455Z"
   },
   {
    "duration": 276,
    "start_time": "2021-09-07T09:48:28.598Z"
   },
   {
    "duration": 295,
    "start_time": "2021-09-07T09:48:33.624Z"
   },
   {
    "duration": 307,
    "start_time": "2021-09-07T09:48:36.530Z"
   },
   {
    "duration": 253,
    "start_time": "2021-09-07T09:49:48.231Z"
   },
   {
    "duration": 4,
    "start_time": "2021-09-07T09:49:55.608Z"
   },
   {
    "duration": 340,
    "start_time": "2021-09-07T09:49:55.614Z"
   },
   {
    "duration": 26,
    "start_time": "2021-09-07T09:49:55.957Z"
   },
   {
    "duration": 278,
    "start_time": "2021-09-07T09:49:55.986Z"
   },
   {
    "duration": 22,
    "start_time": "2021-09-07T09:49:56.267Z"
   },
   {
    "duration": 432,
    "start_time": "2021-09-07T09:49:56.292Z"
   },
   {
    "duration": 53,
    "start_time": "2021-09-07T09:49:56.728Z"
   },
   {
    "duration": 8,
    "start_time": "2021-09-07T09:49:56.784Z"
   },
   {
    "duration": 86,
    "start_time": "2021-09-07T09:49:56.795Z"
   },
   {
    "duration": 309,
    "start_time": "2021-09-07T09:49:56.884Z"
   },
   {
    "duration": 318,
    "start_time": "2021-09-07T09:49:57.196Z"
   },
   {
    "duration": 108,
    "start_time": "2021-09-07T09:49:57.517Z"
   },
   {
    "duration": 56,
    "start_time": "2021-09-07T09:51:00.887Z"
   },
   {
    "duration": 301,
    "start_time": "2021-09-07T09:51:05.840Z"
   },
   {
    "duration": 322,
    "start_time": "2021-09-07T09:51:26.334Z"
   },
   {
    "duration": 99,
    "start_time": "2021-09-07T09:52:02.711Z"
   },
   {
    "duration": 321,
    "start_time": "2021-09-07T09:52:10.600Z"
   },
   {
    "duration": 6,
    "start_time": "2021-09-07T09:53:40.750Z"
   },
   {
    "duration": 14,
    "start_time": "2021-09-07T09:54:00.311Z"
   },
   {
    "duration": 323,
    "start_time": "2021-09-07T09:54:51.003Z"
   },
   {
    "duration": 14,
    "start_time": "2021-09-07T09:57:26.028Z"
   },
   {
    "duration": 14,
    "start_time": "2021-09-07T09:57:43.448Z"
   },
   {
    "duration": 59,
    "start_time": "2021-09-07T09:57:57.173Z"
   },
   {
    "duration": 14,
    "start_time": "2021-09-07T09:58:02.870Z"
   },
   {
    "duration": 137,
    "start_time": "2021-09-07T09:58:15.841Z"
   },
   {
    "duration": 134,
    "start_time": "2021-09-07T09:58:45.568Z"
   },
   {
    "duration": 131,
    "start_time": "2021-09-07T09:58:56.245Z"
   },
   {
    "duration": 3,
    "start_time": "2021-09-07T12:01:07.484Z"
   },
   {
    "duration": 220,
    "start_time": "2021-09-07T12:03:25.282Z"
   },
   {
    "duration": 478,
    "start_time": "2021-09-07T12:05:43.412Z"
   },
   {
    "duration": 7340,
    "start_time": "2021-09-07T12:07:29.964Z"
   },
   {
    "duration": 298,
    "start_time": "2021-09-07T12:07:45.141Z"
   },
   {
    "duration": 360,
    "start_time": "2021-09-07T12:08:00.256Z"
   },
   {
    "duration": 189,
    "start_time": "2021-09-07T12:08:55.628Z"
   },
   {
    "duration": 1177,
    "start_time": "2021-09-07T12:09:49.063Z"
   },
   {
    "duration": 88,
    "start_time": "2021-09-07T12:10:06.594Z"
   },
   {
    "duration": 93,
    "start_time": "2021-09-07T12:10:31.591Z"
   },
   {
    "duration": 124,
    "start_time": "2021-09-07T12:12:42.677Z"
   },
   {
    "duration": 172,
    "start_time": "2021-09-07T12:14:31.822Z"
   },
   {
    "duration": 92,
    "start_time": "2021-09-07T12:15:36.856Z"
   },
   {
    "duration": 126,
    "start_time": "2021-09-07T12:15:43.283Z"
   },
   {
    "duration": 44,
    "start_time": "2021-09-07T12:15:53.724Z"
   },
   {
    "duration": 616,
    "start_time": "2021-09-07T12:17:25.982Z"
   },
   {
    "duration": 277,
    "start_time": "2021-09-07T12:17:42.684Z"
   },
   {
    "duration": 338,
    "start_time": "2021-09-07T12:17:58.318Z"
   },
   {
    "duration": 35,
    "start_time": "2021-09-07T12:18:04.508Z"
   },
   {
    "duration": 20,
    "start_time": "2021-09-07T12:18:14.238Z"
   },
   {
    "duration": 8,
    "start_time": "2021-09-07T12:19:55.511Z"
   },
   {
    "duration": 288,
    "start_time": "2021-09-07T12:20:25.172Z"
   },
   {
    "duration": 56,
    "start_time": "2021-09-07T12:25:25.261Z"
   },
   {
    "duration": 184,
    "start_time": "2021-09-07T12:26:16.956Z"
   },
   {
    "duration": 18,
    "start_time": "2021-09-07T13:06:46.418Z"
   },
   {
    "duration": 18,
    "start_time": "2021-09-07T13:08:18.194Z"
   },
   {
    "duration": 306,
    "start_time": "2021-09-07T13:08:44.605Z"
   },
   {
    "duration": 205,
    "start_time": "2021-09-07T13:08:49.131Z"
   },
   {
    "duration": 11,
    "start_time": "2021-09-07T13:10:01.809Z"
   },
   {
    "duration": 21,
    "start_time": "2021-09-07T13:10:20.607Z"
   },
   {
    "duration": 309,
    "start_time": "2021-09-07T13:10:32.251Z"
   },
   {
    "duration": 21,
    "start_time": "2021-09-07T13:11:25.923Z"
   },
   {
    "duration": 19,
    "start_time": "2021-09-07T13:11:37.903Z"
   },
   {
    "duration": 12,
    "start_time": "2021-09-07T13:11:53.999Z"
   },
   {
    "duration": 12,
    "start_time": "2021-09-07T13:12:11.496Z"
   },
   {
    "duration": 12,
    "start_time": "2021-09-07T13:12:19.080Z"
   },
   {
    "duration": 10,
    "start_time": "2021-09-07T13:12:30.592Z"
   },
   {
    "duration": 12,
    "start_time": "2021-09-07T13:12:42.231Z"
   },
   {
    "duration": 11,
    "start_time": "2021-09-07T13:13:00.388Z"
   },
   {
    "duration": 269,
    "start_time": "2021-09-07T13:13:22.628Z"
   },
   {
    "duration": 283,
    "start_time": "2021-09-07T13:14:27.236Z"
   },
   {
    "duration": 285,
    "start_time": "2021-09-07T13:14:51.040Z"
   },
   {
    "duration": 322,
    "start_time": "2021-09-07T13:14:58.172Z"
   },
   {
    "duration": 11,
    "start_time": "2021-09-07T13:15:02.519Z"
   },
   {
    "duration": 19,
    "start_time": "2021-09-07T13:16:03.711Z"
   },
   {
    "duration": 282,
    "start_time": "2021-09-07T13:16:13.700Z"
   },
   {
    "duration": 205,
    "start_time": "2021-09-07T13:16:25.092Z"
   },
   {
    "duration": 197,
    "start_time": "2021-09-07T13:18:19.345Z"
   },
   {
    "duration": 203,
    "start_time": "2021-09-07T13:19:21.584Z"
   },
   {
    "duration": 43,
    "start_time": "2021-09-07T13:22:08.739Z"
   },
   {
    "duration": 27,
    "start_time": "2021-09-07T13:22:27.273Z"
   },
   {
    "duration": 352,
    "start_time": "2021-09-07T13:22:48.750Z"
   },
   {
    "duration": 5,
    "start_time": "2021-09-07T13:23:47.911Z"
   },
   {
    "duration": 46,
    "start_time": "2021-09-07T13:24:15.127Z"
   },
   {
    "duration": 101,
    "start_time": "2021-09-07T13:24:41.162Z"
   },
   {
    "duration": 48,
    "start_time": "2021-09-07T13:24:47.058Z"
   },
   {
    "duration": 4,
    "start_time": "2021-09-07T13:25:16.248Z"
   },
   {
    "duration": 46,
    "start_time": "2021-09-07T13:25:22.766Z"
   },
   {
    "duration": 49,
    "start_time": "2021-09-07T13:26:10.659Z"
   },
   {
    "duration": 427,
    "start_time": "2021-09-07T16:18:53.049Z"
   },
   {
    "duration": 1503,
    "start_time": "2021-09-07T16:18:58.813Z"
   },
   {
    "duration": 402,
    "start_time": "2021-09-07T16:19:00.319Z"
   },
   {
    "duration": 39,
    "start_time": "2021-09-07T16:19:00.724Z"
   },
   {
    "duration": 407,
    "start_time": "2021-09-07T16:19:00.765Z"
   },
   {
    "duration": 22,
    "start_time": "2021-09-07T16:19:01.175Z"
   },
   {
    "duration": 1285,
    "start_time": "2021-09-07T16:19:01.200Z"
   },
   {
    "duration": 102,
    "start_time": "2021-09-07T16:19:02.487Z"
   },
   {
    "duration": 13,
    "start_time": "2021-09-07T16:19:02.592Z"
   },
   {
    "duration": 17,
    "start_time": "2021-09-07T16:19:02.608Z"
   },
   {
    "duration": 87,
    "start_time": "2021-09-07T16:19:02.627Z"
   },
   {
    "duration": 346,
    "start_time": "2021-09-07T16:19:02.716Z"
   },
   {
    "duration": 352,
    "start_time": "2021-09-07T16:19:03.065Z"
   },
   {
    "duration": 125,
    "start_time": "2021-09-07T16:19:03.420Z"
   },
   {
    "duration": 135,
    "start_time": "2021-09-07T16:19:03.547Z"
   },
   {
    "duration": 4,
    "start_time": "2021-09-07T16:19:03.684Z"
   },
   {
    "duration": 233,
    "start_time": "2021-09-07T16:19:03.690Z"
   },
   {
    "duration": 65,
    "start_time": "2021-09-07T16:19:03.926Z"
   },
   {
    "duration": 651,
    "start_time": "2021-09-07T16:19:03.993Z"
   },
   {
    "duration": 92,
    "start_time": "2021-09-07T16:19:04.647Z"
   },
   {
    "duration": 10,
    "start_time": "2021-09-07T16:19:04.757Z"
   },
   {
    "duration": 204,
    "start_time": "2021-09-07T16:19:04.770Z"
   },
   {
    "duration": 44,
    "start_time": "2021-09-07T16:19:04.977Z"
   },
   {
    "duration": 39,
    "start_time": "2021-09-07T16:19:05.025Z"
   },
   {
    "duration": 221,
    "start_time": "2021-09-07T16:19:05.066Z"
   },
   {
    "duration": 48,
    "start_time": "2021-09-07T16:19:05.289Z"
   },
   {
    "duration": 22,
    "start_time": "2021-09-07T16:19:05.355Z"
   },
   {
    "duration": 41,
    "start_time": "2021-09-07T16:21:53.840Z"
   },
   {
    "duration": 317,
    "start_time": "2021-09-07T16:24:08.496Z"
   },
   {
    "duration": 41,
    "start_time": "2021-09-07T16:24:57.220Z"
   },
   {
    "duration": 442,
    "start_time": "2021-09-07T17:31:49.630Z"
   },
   {
    "duration": 4,
    "start_time": "2021-09-07T17:32:16.793Z"
   },
   {
    "duration": 388,
    "start_time": "2021-09-07T17:32:16.800Z"
   },
   {
    "duration": 28,
    "start_time": "2021-09-07T17:32:17.190Z"
   },
   {
    "duration": 407,
    "start_time": "2021-09-07T17:32:17.220Z"
   },
   {
    "duration": 31,
    "start_time": "2021-09-07T17:32:17.629Z"
   },
   {
    "duration": 386,
    "start_time": "2021-09-07T17:32:17.663Z"
   },
   {
    "duration": 1121,
    "start_time": "2021-09-07T17:32:18.056Z"
   },
   {
    "duration": 12,
    "start_time": "2021-09-07T17:32:19.180Z"
   },
   {
    "duration": 16,
    "start_time": "2021-09-07T17:32:19.194Z"
   },
   {
    "duration": 117,
    "start_time": "2021-09-07T17:32:19.212Z"
   },
   {
    "duration": 280,
    "start_time": "2021-09-07T17:32:19.332Z"
   },
   {
    "duration": 315,
    "start_time": "2021-09-07T17:32:19.614Z"
   },
   {
    "duration": 113,
    "start_time": "2021-09-07T17:32:19.931Z"
   },
   {
    "duration": 154,
    "start_time": "2021-09-07T17:32:20.046Z"
   },
   {
    "duration": 4,
    "start_time": "2021-09-07T17:32:20.202Z"
   },
   {
    "duration": 247,
    "start_time": "2021-09-07T17:32:20.208Z"
   },
   {
    "duration": 63,
    "start_time": "2021-09-07T17:32:20.458Z"
   },
   {
    "duration": 350,
    "start_time": "2021-09-07T17:32:20.524Z"
   },
   {
    "duration": -2147,
    "start_time": "2021-09-07T17:32:23.024Z"
   },
   {
    "duration": -2150,
    "start_time": "2021-09-07T17:32:23.029Z"
   },
   {
    "duration": -2152,
    "start_time": "2021-09-07T17:32:23.033Z"
   },
   {
    "duration": -2153,
    "start_time": "2021-09-07T17:32:23.037Z"
   },
   {
    "duration": -2153,
    "start_time": "2021-09-07T17:32:23.039Z"
   },
   {
    "duration": -2155,
    "start_time": "2021-09-07T17:32:23.042Z"
   },
   {
    "duration": -2156,
    "start_time": "2021-09-07T17:32:23.045Z"
   },
   {
    "duration": -2155,
    "start_time": "2021-09-07T17:32:23.047Z"
   },
   {
    "duration": -2158,
    "start_time": "2021-09-07T17:32:23.051Z"
   },
   {
    "duration": -2159,
    "start_time": "2021-09-07T17:32:23.054Z"
   },
   {
    "duration": 354,
    "start_time": "2021-09-07T17:32:42.602Z"
   },
   {
    "duration": 4,
    "start_time": "2021-09-07T17:33:46.631Z"
   },
   {
    "duration": 363,
    "start_time": "2021-09-07T17:33:56.330Z"
   },
   {
    "duration": 1082,
    "start_time": "2021-09-07T17:34:41.079Z"
   },
   {
    "duration": 408,
    "start_time": "2021-09-07T17:36:22.818Z"
   },
   {
    "duration": 73,
    "start_time": "2021-09-07T17:37:46.095Z"
   },
   {
    "duration": 911,
    "start_time": "2021-09-07T17:38:08.935Z"
   },
   {
    "duration": 48,
    "start_time": "2021-09-07T17:38:28.182Z"
   },
   {
    "duration": 8639,
    "start_time": "2021-09-07T17:40:08.862Z"
   },
   {
    "duration": 166,
    "start_time": "2021-09-07T17:41:49.589Z"
   },
   {
    "duration": 343,
    "start_time": "2021-09-07T17:42:55.225Z"
   },
   {
    "duration": 77,
    "start_time": "2021-09-07T17:43:01.867Z"
   },
   {
    "duration": 99,
    "start_time": "2021-09-07T17:43:25.557Z"
   },
   {
    "duration": 31,
    "start_time": "2021-09-07T17:43:48.545Z"
   },
   {
    "duration": 87,
    "start_time": "2021-09-07T17:44:30.183Z"
   },
   {
    "duration": 73,
    "start_time": "2021-09-07T17:44:59.918Z"
   },
   {
    "duration": 32,
    "start_time": "2021-09-07T17:46:00.491Z"
   },
   {
    "duration": 41,
    "start_time": "2021-09-07T17:53:30.213Z"
   },
   {
    "duration": 46,
    "start_time": "2021-09-07T17:56:52.884Z"
   },
   {
    "duration": 40,
    "start_time": "2021-09-07T17:57:26.637Z"
   },
   {
    "duration": 363,
    "start_time": "2021-09-07T18:08:45.264Z"
   },
   {
    "duration": 350,
    "start_time": "2021-09-07T18:08:55.537Z"
   },
   {
    "duration": 378,
    "start_time": "2021-09-07T18:09:07.708Z"
   },
   {
    "duration": 6,
    "start_time": "2021-09-07T18:13:33.805Z"
   },
   {
    "duration": 430,
    "start_time": "2021-09-07T18:13:33.814Z"
   },
   {
    "duration": 32,
    "start_time": "2021-09-07T18:13:34.248Z"
   },
   {
    "duration": 359,
    "start_time": "2021-09-07T18:13:34.283Z"
   },
   {
    "duration": 23,
    "start_time": "2021-09-07T18:13:34.645Z"
   },
   {
    "duration": 392,
    "start_time": "2021-09-07T18:13:34.670Z"
   },
   {
    "duration": 1105,
    "start_time": "2021-09-07T18:13:35.064Z"
   },
   {
    "duration": 12,
    "start_time": "2021-09-07T18:13:36.172Z"
   },
   {
    "duration": 12,
    "start_time": "2021-09-07T18:13:36.186Z"
   },
   {
    "duration": 83,
    "start_time": "2021-09-07T18:13:36.200Z"
   },
   {
    "duration": 406,
    "start_time": "2021-09-07T18:13:36.285Z"
   },
   {
    "duration": 411,
    "start_time": "2021-09-07T18:13:36.694Z"
   },
   {
    "duration": 128,
    "start_time": "2021-09-07T18:13:37.107Z"
   },
   {
    "duration": 128,
    "start_time": "2021-09-07T18:13:37.237Z"
   },
   {
    "duration": 4,
    "start_time": "2021-09-07T18:13:37.367Z"
   },
   {
    "duration": 243,
    "start_time": "2021-09-07T18:13:37.373Z"
   },
   {
    "duration": 70,
    "start_time": "2021-09-07T18:13:37.618Z"
   },
   {
    "duration": 179,
    "start_time": "2021-09-07T18:13:37.693Z"
   },
   {
    "duration": 111,
    "start_time": "2021-09-07T18:13:37.875Z"
   },
   {
    "duration": 97,
    "start_time": "2021-09-07T18:13:37.988Z"
   },
   {
    "duration": 85,
    "start_time": "2021-09-07T18:13:38.088Z"
   },
   {
    "duration": 395,
    "start_time": "2021-09-07T18:13:38.175Z"
   },
   {
    "duration": 89,
    "start_time": "2021-09-07T18:13:38.572Z"
   },
   {
    "duration": 12,
    "start_time": "2021-09-07T18:13:38.663Z"
   },
   {
    "duration": 187,
    "start_time": "2021-09-07T18:13:38.677Z"
   },
   {
    "duration": 39,
    "start_time": "2021-09-07T18:13:38.866Z"
   },
   {
    "duration": 20,
    "start_time": "2021-09-07T18:13:38.907Z"
   },
   {
    "duration": 237,
    "start_time": "2021-09-07T18:13:38.929Z"
   },
   {
    "duration": 47,
    "start_time": "2021-09-07T18:13:39.169Z"
   },
   {
    "duration": 64,
    "start_time": "2021-09-07T18:13:39.219Z"
   },
   {
    "duration": 5,
    "start_time": "2021-09-07T18:13:39.285Z"
   },
   {
    "duration": 34,
    "start_time": "2021-09-07T18:13:39.293Z"
   },
   {
    "duration": 30,
    "start_time": "2021-09-07T18:16:29.114Z"
   },
   {
    "duration": 30,
    "start_time": "2021-09-07T18:16:43.069Z"
   },
   {
    "duration": 32,
    "start_time": "2021-09-07T18:16:53.949Z"
   },
   {
    "duration": 4,
    "start_time": "2021-09-07T18:17:00.548Z"
   },
   {
    "duration": 404,
    "start_time": "2021-09-07T18:17:00.554Z"
   },
   {
    "duration": 28,
    "start_time": "2021-09-07T18:17:00.962Z"
   },
   {
    "duration": 505,
    "start_time": "2021-09-07T18:17:00.994Z"
   },
   {
    "duration": 23,
    "start_time": "2021-09-07T18:17:01.502Z"
   },
   {
    "duration": 294,
    "start_time": "2021-09-07T18:17:01.528Z"
   },
   {
    "duration": 71,
    "start_time": "2021-09-07T18:17:01.825Z"
   },
   {
    "duration": 13,
    "start_time": "2021-09-07T18:17:01.899Z"
   },
   {
    "duration": 37,
    "start_time": "2021-09-07T18:17:01.914Z"
   },
   {
    "duration": 1685,
    "start_time": "2021-09-07T18:17:01.953Z"
   },
   {
    "duration": 298,
    "start_time": "2021-09-07T18:17:03.641Z"
   },
   {
    "duration": 317,
    "start_time": "2021-09-07T18:17:03.941Z"
   },
   {
    "duration": 114,
    "start_time": "2021-09-07T18:17:04.260Z"
   },
   {
    "duration": 123,
    "start_time": "2021-09-07T18:17:04.376Z"
   },
   {
    "duration": 4,
    "start_time": "2021-09-07T18:17:04.501Z"
   },
   {
    "duration": 233,
    "start_time": "2021-09-07T18:17:04.507Z"
   },
   {
    "duration": 63,
    "start_time": "2021-09-07T18:17:04.742Z"
   },
   {
    "duration": 189,
    "start_time": "2021-09-07T18:17:04.808Z"
   },
   {
    "duration": 107,
    "start_time": "2021-09-07T18:17:05.001Z"
   },
   {
    "duration": 96,
    "start_time": "2021-09-07T18:17:05.110Z"
   },
   {
    "duration": 82,
    "start_time": "2021-09-07T18:17:05.209Z"
   },
   {
    "duration": 410,
    "start_time": "2021-09-07T18:17:05.293Z"
   },
   {
    "duration": 86,
    "start_time": "2021-09-07T18:17:05.705Z"
   },
   {
    "duration": 21,
    "start_time": "2021-09-07T18:17:05.793Z"
   },
   {
    "duration": 182,
    "start_time": "2021-09-07T18:17:05.816Z"
   },
   {
    "duration": 57,
    "start_time": "2021-09-07T18:17:06.000Z"
   },
   {
    "duration": 28,
    "start_time": "2021-09-07T18:17:06.060Z"
   },
   {
    "duration": 214,
    "start_time": "2021-09-07T18:17:06.090Z"
   },
   {
    "duration": 59,
    "start_time": "2021-09-07T18:17:06.307Z"
   },
   {
    "duration": 41,
    "start_time": "2021-09-07T18:17:06.368Z"
   },
   {
    "duration": 91,
    "start_time": "2021-09-07T18:17:06.411Z"
   },
   {
    "duration": 37,
    "start_time": "2021-09-07T18:17:06.505Z"
   },
   {
    "duration": 42,
    "start_time": "2021-09-07T18:17:25.038Z"
   },
   {
    "duration": 27,
    "start_time": "2021-09-07T18:18:55.230Z"
   },
   {
    "duration": 60,
    "start_time": "2021-09-07T18:19:16.159Z"
   },
   {
    "duration": 400,
    "start_time": "2021-09-07T18:28:22.338Z"
   },
   {
    "duration": 68,
    "start_time": "2021-09-07T18:29:00.700Z"
   },
   {
    "duration": 345,
    "start_time": "2021-09-07T18:29:58.554Z"
   },
   {
    "duration": 383,
    "start_time": "2021-09-07T18:32:08.085Z"
   },
   {
    "duration": 89,
    "start_time": "2021-09-07T18:32:36.892Z"
   },
   {
    "duration": 73,
    "start_time": "2021-09-07T18:32:59.148Z"
   },
   {
    "duration": 75,
    "start_time": "2021-09-07T18:33:29.834Z"
   },
   {
    "duration": 68,
    "start_time": "2021-09-07T18:34:52.640Z"
   },
   {
    "duration": 86,
    "start_time": "2021-09-07T18:35:22.779Z"
   },
   {
    "duration": 8853,
    "start_time": "2021-09-07T18:39:10.982Z"
   },
   {
    "duration": 74,
    "start_time": "2021-09-07T18:39:51.450Z"
   },
   {
    "duration": 72,
    "start_time": "2021-09-07T18:40:08.396Z"
   },
   {
    "duration": 91,
    "start_time": "2021-09-07T18:40:17.713Z"
   },
   {
    "duration": 113,
    "start_time": "2021-09-07T18:42:21.503Z"
   },
   {
    "duration": 88,
    "start_time": "2021-09-07T18:42:44.134Z"
   },
   {
    "duration": 85,
    "start_time": "2021-09-07T18:45:04.513Z"
   },
   {
    "duration": 74,
    "start_time": "2021-09-07T18:46:46.844Z"
   },
   {
    "duration": 89,
    "start_time": "2021-09-07T18:47:00.926Z"
   },
   {
    "duration": 422,
    "start_time": "2021-09-07T18:48:26.601Z"
   },
   {
    "duration": 86,
    "start_time": "2021-09-07T18:48:41.304Z"
   },
   {
    "duration": 5,
    "start_time": "2021-09-07T18:52:12.440Z"
   },
   {
    "duration": 28,
    "start_time": "2021-09-07T18:52:22.888Z"
   },
   {
    "duration": 36,
    "start_time": "2021-09-07T18:52:39.867Z"
   },
   {
    "duration": 40,
    "start_time": "2021-09-07T18:53:07.615Z"
   },
   {
    "duration": 4,
    "start_time": "2021-09-07T18:53:29.627Z"
   },
   {
    "duration": 589,
    "start_time": "2021-09-07T18:53:29.633Z"
   },
   {
    "duration": 38,
    "start_time": "2021-09-07T18:53:30.225Z"
   },
   {
    "duration": 405,
    "start_time": "2021-09-07T18:53:30.265Z"
   },
   {
    "duration": 22,
    "start_time": "2021-09-07T18:53:30.672Z"
   },
   {
    "duration": 418,
    "start_time": "2021-09-07T18:53:30.697Z"
   },
   {
    "duration": 1098,
    "start_time": "2021-09-07T18:53:31.118Z"
   },
   {
    "duration": 17,
    "start_time": "2021-09-07T18:53:32.222Z"
   },
   {
    "duration": 19,
    "start_time": "2021-09-07T18:53:32.243Z"
   },
   {
    "duration": 136,
    "start_time": "2021-09-07T18:53:32.265Z"
   },
   {
    "duration": 255,
    "start_time": "2021-09-07T18:53:32.403Z"
   },
   {
    "duration": 303,
    "start_time": "2021-09-07T18:53:32.661Z"
   },
   {
    "duration": 117,
    "start_time": "2021-09-07T18:53:32.967Z"
   },
   {
    "duration": 145,
    "start_time": "2021-09-07T18:53:33.087Z"
   },
   {
    "duration": 4,
    "start_time": "2021-09-07T18:53:33.235Z"
   },
   {
    "duration": 225,
    "start_time": "2021-09-07T18:53:33.255Z"
   },
   {
    "duration": 76,
    "start_time": "2021-09-07T18:53:33.483Z"
   },
   {
    "duration": 175,
    "start_time": "2021-09-07T18:53:33.561Z"
   },
   {
    "duration": 110,
    "start_time": "2021-09-07T18:53:33.738Z"
   },
   {
    "duration": 81,
    "start_time": "2021-09-07T18:53:33.856Z"
   },
   {
    "duration": 85,
    "start_time": "2021-09-07T18:53:33.940Z"
   },
   {
    "duration": 53,
    "start_time": "2021-09-07T18:53:34.027Z"
   },
   {
    "duration": 409,
    "start_time": "2021-09-07T18:53:34.086Z"
   },
   {
    "duration": 93,
    "start_time": "2021-09-07T18:53:34.498Z"
   },
   {
    "duration": 25,
    "start_time": "2021-09-07T18:53:34.593Z"
   },
   {
    "duration": 199,
    "start_time": "2021-09-07T18:53:34.621Z"
   },
   {
    "duration": 51,
    "start_time": "2021-09-07T18:53:34.823Z"
   },
   {
    "duration": 24,
    "start_time": "2021-09-07T18:53:34.877Z"
   },
   {
    "duration": 235,
    "start_time": "2021-09-07T18:53:34.904Z"
   },
   {
    "duration": 58,
    "start_time": "2021-09-07T18:53:35.142Z"
   },
   {
    "duration": 26,
    "start_time": "2021-09-07T18:53:35.203Z"
   },
   {
    "duration": 110,
    "start_time": "2021-09-07T18:53:35.232Z"
   },
   {
    "duration": 368,
    "start_time": "2021-09-07T18:54:21.761Z"
   },
   {
    "duration": 4,
    "start_time": "2021-09-07T18:55:59.898Z"
   },
   {
    "duration": 377,
    "start_time": "2021-09-07T18:56:49.399Z"
   },
   {
    "duration": 355,
    "start_time": "2021-09-07T19:01:23.185Z"
   },
   {
    "duration": 38,
    "start_time": "2021-09-07T19:02:33.591Z"
   },
   {
    "duration": 38,
    "start_time": "2021-09-07T19:02:50.552Z"
   },
   {
    "duration": 8,
    "start_time": "2021-09-07T19:06:43.151Z"
   },
   {
    "duration": 36,
    "start_time": "2021-09-07T19:06:57.131Z"
   },
   {
    "duration": 5,
    "start_time": "2021-09-07T19:07:06.616Z"
   },
   {
    "duration": 490,
    "start_time": "2021-09-07T19:07:06.624Z"
   },
   {
    "duration": 43,
    "start_time": "2021-09-07T19:07:07.117Z"
   },
   {
    "duration": 297,
    "start_time": "2021-09-07T19:07:07.163Z"
   },
   {
    "duration": 24,
    "start_time": "2021-09-07T19:07:07.462Z"
   },
   {
    "duration": 407,
    "start_time": "2021-09-07T19:07:07.488Z"
   },
   {
    "duration": 71,
    "start_time": "2021-09-07T19:07:07.899Z"
   },
   {
    "duration": 14,
    "start_time": "2021-09-07T19:07:07.974Z"
   },
   {
    "duration": 13,
    "start_time": "2021-09-07T19:07:07.990Z"
   },
   {
    "duration": 1827,
    "start_time": "2021-09-07T19:07:08.006Z"
   },
   {
    "duration": 288,
    "start_time": "2021-09-07T19:07:09.836Z"
   },
   {
    "duration": 324,
    "start_time": "2021-09-07T19:07:10.126Z"
   },
   {
    "duration": 114,
    "start_time": "2021-09-07T19:07:10.452Z"
   },
   {
    "duration": 129,
    "start_time": "2021-09-07T19:07:10.569Z"
   },
   {
    "duration": 4,
    "start_time": "2021-09-07T19:07:10.700Z"
   },
   {
    "duration": 279,
    "start_time": "2021-09-07T19:07:10.706Z"
   },
   {
    "duration": 78,
    "start_time": "2021-09-07T19:07:10.988Z"
   },
   {
    "duration": 179,
    "start_time": "2021-09-07T19:07:11.068Z"
   },
   {
    "duration": 114,
    "start_time": "2021-09-07T19:07:11.260Z"
   },
   {
    "duration": 95,
    "start_time": "2021-09-07T19:07:11.377Z"
   },
   {
    "duration": 82,
    "start_time": "2021-09-07T19:07:11.475Z"
   },
   {
    "duration": 34,
    "start_time": "2021-09-07T19:07:11.559Z"
   },
   {
    "duration": 425,
    "start_time": "2021-09-07T19:07:11.596Z"
   },
   {
    "duration": 93,
    "start_time": "2021-09-07T19:07:12.023Z"
   },
   {
    "duration": 13,
    "start_time": "2021-09-07T19:07:12.118Z"
   },
   {
    "duration": 202,
    "start_time": "2021-09-07T19:07:12.133Z"
   },
   {
    "duration": 47,
    "start_time": "2021-09-07T19:07:12.337Z"
   },
   {
    "duration": 25,
    "start_time": "2021-09-07T19:07:12.387Z"
   },
   {
    "duration": 221,
    "start_time": "2021-09-07T19:07:12.414Z"
   },
   {
    "duration": 52,
    "start_time": "2021-09-07T19:07:12.638Z"
   },
   {
    "duration": 26,
    "start_time": "2021-09-07T19:07:12.693Z"
   },
   {
    "duration": 118,
    "start_time": "2021-09-07T19:07:12.721Z"
   },
   {
    "duration": 26,
    "start_time": "2021-09-07T19:07:29.181Z"
   },
   {
    "duration": 28,
    "start_time": "2021-09-07T19:07:43.462Z"
   },
   {
    "duration": 4,
    "start_time": "2021-09-07T19:08:13.917Z"
   },
   {
    "duration": 333,
    "start_time": "2021-09-07T19:08:13.924Z"
   },
   {
    "duration": 28,
    "start_time": "2021-09-07T19:08:14.260Z"
   },
   {
    "duration": 324,
    "start_time": "2021-09-07T19:08:14.291Z"
   },
   {
    "duration": 23,
    "start_time": "2021-09-07T19:08:14.617Z"
   },
   {
    "duration": 345,
    "start_time": "2021-09-07T19:08:14.656Z"
   },
   {
    "duration": 1785,
    "start_time": "2021-09-07T19:08:15.003Z"
   },
   {
    "duration": 12,
    "start_time": "2021-09-07T19:08:16.790Z"
   },
   {
    "duration": 17,
    "start_time": "2021-09-07T19:08:16.806Z"
   },
   {
    "duration": 87,
    "start_time": "2021-09-07T19:08:16.826Z"
   },
   {
    "duration": 297,
    "start_time": "2021-09-07T19:08:16.916Z"
   },
   {
    "duration": 343,
    "start_time": "2021-09-07T19:08:17.216Z"
   },
   {
    "duration": 111,
    "start_time": "2021-09-07T19:08:17.562Z"
   },
   {
    "duration": 135,
    "start_time": "2021-09-07T19:08:17.675Z"
   },
   {
    "duration": 3,
    "start_time": "2021-09-07T19:08:17.813Z"
   },
   {
    "duration": 241,
    "start_time": "2021-09-07T19:08:17.819Z"
   },
   {
    "duration": 58,
    "start_time": "2021-09-07T19:08:18.062Z"
   },
   {
    "duration": 197,
    "start_time": "2021-09-07T19:08:18.123Z"
   },
   {
    "duration": 105,
    "start_time": "2021-09-07T19:08:18.322Z"
   },
   {
    "duration": 107,
    "start_time": "2021-09-07T19:08:18.430Z"
   },
   {
    "duration": 80,
    "start_time": "2021-09-07T19:08:18.540Z"
   },
   {
    "duration": 49,
    "start_time": "2021-09-07T19:08:18.622Z"
   },
   {
    "duration": 404,
    "start_time": "2021-09-07T19:08:18.673Z"
   },
   {
    "duration": 82,
    "start_time": "2021-09-07T19:08:19.079Z"
   },
   {
    "duration": 11,
    "start_time": "2021-09-07T19:08:19.163Z"
   },
   {
    "duration": 202,
    "start_time": "2021-09-07T19:08:19.176Z"
   },
   {
    "duration": 41,
    "start_time": "2021-09-07T19:08:19.385Z"
   },
   {
    "duration": 44,
    "start_time": "2021-09-07T19:08:19.430Z"
   },
   {
    "duration": 223,
    "start_time": "2021-09-07T19:08:19.477Z"
   },
   {
    "duration": 65,
    "start_time": "2021-09-07T19:08:19.703Z"
   },
   {
    "duration": 27,
    "start_time": "2021-09-07T19:08:19.771Z"
   },
   {
    "duration": 116,
    "start_time": "2021-09-07T19:08:19.801Z"
   },
   {
    "duration": 91,
    "start_time": "2021-09-07T19:09:00.941Z"
   },
   {
    "duration": 35,
    "start_time": "2021-09-07T19:14:12.018Z"
   },
   {
    "duration": 26,
    "start_time": "2021-09-07T19:15:46.890Z"
   },
   {
    "duration": 5,
    "start_time": "2021-09-07T19:15:59.943Z"
   },
   {
    "duration": 390,
    "start_time": "2021-09-07T19:15:59.950Z"
   },
   {
    "duration": 37,
    "start_time": "2021-09-07T19:16:00.344Z"
   },
   {
    "duration": 301,
    "start_time": "2021-09-07T19:16:00.385Z"
   },
   {
    "duration": 23,
    "start_time": "2021-09-07T19:16:00.688Z"
   },
   {
    "duration": 336,
    "start_time": "2021-09-07T19:16:00.714Z"
   },
   {
    "duration": 1093,
    "start_time": "2021-09-07T19:16:01.056Z"
   },
   {
    "duration": 13,
    "start_time": "2021-09-07T19:16:02.153Z"
   },
   {
    "duration": 41,
    "start_time": "2021-09-07T19:16:02.168Z"
   },
   {
    "duration": 126,
    "start_time": "2021-09-07T19:16:02.212Z"
   },
   {
    "duration": 289,
    "start_time": "2021-09-07T19:16:02.341Z"
   },
   {
    "duration": 331,
    "start_time": "2021-09-07T19:16:02.632Z"
   },
   {
    "duration": 119,
    "start_time": "2021-09-07T19:16:02.966Z"
   },
   {
    "duration": 129,
    "start_time": "2021-09-07T19:16:03.088Z"
   },
   {
    "duration": 4,
    "start_time": "2021-09-07T19:16:03.220Z"
   },
   {
    "duration": 247,
    "start_time": "2021-09-07T19:16:03.228Z"
   },
   {
    "duration": 78,
    "start_time": "2021-09-07T19:16:03.478Z"
   },
   {
    "duration": 179,
    "start_time": "2021-09-07T19:16:03.560Z"
   },
   {
    "duration": 115,
    "start_time": "2021-09-07T19:16:03.742Z"
   },
   {
    "duration": 97,
    "start_time": "2021-09-07T19:16:03.860Z"
   },
   {
    "duration": 76,
    "start_time": "2021-09-07T19:16:03.960Z"
   },
   {
    "duration": 32,
    "start_time": "2021-09-07T19:16:04.055Z"
   },
   {
    "duration": 442,
    "start_time": "2021-09-07T19:16:04.093Z"
   },
   {
    "duration": 92,
    "start_time": "2021-09-07T19:16:04.539Z"
   },
   {
    "duration": 24,
    "start_time": "2021-09-07T19:16:04.634Z"
   },
   {
    "duration": 196,
    "start_time": "2021-09-07T19:16:04.661Z"
   },
   {
    "duration": 39,
    "start_time": "2021-09-07T19:16:04.860Z"
   },
   {
    "duration": 23,
    "start_time": "2021-09-07T19:16:04.901Z"
   },
   {
    "duration": 240,
    "start_time": "2021-09-07T19:16:04.926Z"
   },
   {
    "duration": 46,
    "start_time": "2021-09-07T19:16:05.168Z"
   },
   {
    "duration": 55,
    "start_time": "2021-09-07T19:16:05.217Z"
   },
   {
    "duration": 32,
    "start_time": "2021-09-07T19:16:05.276Z"
   },
   {
    "duration": 28,
    "start_time": "2021-09-07T19:16:09.777Z"
   },
   {
    "duration": 46,
    "start_time": "2021-09-07T19:16:20.632Z"
   },
   {
    "duration": 55,
    "start_time": "2021-09-07T19:16:42.981Z"
   },
   {
    "duration": 15,
    "start_time": "2021-09-07T19:17:58.888Z"
   },
   {
    "duration": 265,
    "start_time": "2021-09-07T19:18:11.728Z"
   },
   {
    "duration": 15,
    "start_time": "2021-09-07T19:21:14.997Z"
   },
   {
    "duration": 420,
    "start_time": "2021-09-07T19:22:49.967Z"
   },
   {
    "duration": 16,
    "start_time": "2021-09-07T19:23:32.457Z"
   },
   {
    "duration": 24,
    "start_time": "2021-09-07T19:23:49.051Z"
   },
   {
    "duration": 354,
    "start_time": "2021-09-07T19:25:44.342Z"
   },
   {
    "duration": 27,
    "start_time": "2021-09-07T19:26:04.302Z"
   },
   {
    "duration": 41,
    "start_time": "2021-09-07T19:26:11.350Z"
   },
   {
    "duration": 54,
    "start_time": "2021-09-07T19:26:28.915Z"
   },
   {
    "duration": 59,
    "start_time": "2021-09-07T19:27:41.080Z"
   },
   {
    "duration": 371,
    "start_time": "2021-09-07T19:29:03.313Z"
   },
   {
    "duration": 30,
    "start_time": "2021-09-07T19:29:22.885Z"
   },
   {
    "duration": 4,
    "start_time": "2021-09-07T19:30:43.715Z"
   },
   {
    "duration": 333,
    "start_time": "2021-09-07T19:30:43.722Z"
   },
   {
    "duration": 26,
    "start_time": "2021-09-07T19:30:44.059Z"
   },
   {
    "duration": 303,
    "start_time": "2021-09-07T19:30:44.087Z"
   },
   {
    "duration": 23,
    "start_time": "2021-09-07T19:30:44.392Z"
   },
   {
    "duration": 323,
    "start_time": "2021-09-07T19:30:44.418Z"
   },
   {
    "duration": 72,
    "start_time": "2021-09-07T19:30:44.744Z"
   },
   {
    "duration": 13,
    "start_time": "2021-09-07T19:30:44.818Z"
   },
   {
    "duration": 11,
    "start_time": "2021-09-07T19:30:44.835Z"
   },
   {
    "duration": 80,
    "start_time": "2021-09-07T19:30:44.849Z"
   },
   {
    "duration": 300,
    "start_time": "2021-09-07T19:30:44.932Z"
   },
   {
    "duration": 310,
    "start_time": "2021-09-07T19:30:45.234Z"
   },
   {
    "duration": 111,
    "start_time": "2021-09-07T19:30:45.546Z"
   },
   {
    "duration": 123,
    "start_time": "2021-09-07T19:30:45.659Z"
   },
   {
    "duration": 4,
    "start_time": "2021-09-07T19:30:45.784Z"
   },
   {
    "duration": 239,
    "start_time": "2021-09-07T19:30:45.791Z"
   },
   {
    "duration": 71,
    "start_time": "2021-09-07T19:30:46.033Z"
   },
   {
    "duration": 183,
    "start_time": "2021-09-07T19:30:46.106Z"
   },
   {
    "duration": 108,
    "start_time": "2021-09-07T19:30:46.291Z"
   },
   {
    "duration": 111,
    "start_time": "2021-09-07T19:30:46.401Z"
   },
   {
    "duration": 79,
    "start_time": "2021-09-07T19:30:46.514Z"
   },
   {
    "duration": 31,
    "start_time": "2021-09-07T19:30:46.595Z"
   },
   {
    "duration": 445,
    "start_time": "2021-09-07T19:30:46.628Z"
   },
   {
    "duration": 97,
    "start_time": "2021-09-07T19:30:47.076Z"
   },
   {
    "duration": 9,
    "start_time": "2021-09-07T19:30:47.176Z"
   },
   {
    "duration": 225,
    "start_time": "2021-09-07T19:30:47.188Z"
   },
   {
    "duration": 53,
    "start_time": "2021-09-07T19:30:47.418Z"
   },
   {
    "duration": 20,
    "start_time": "2021-09-07T19:30:47.474Z"
   },
   {
    "duration": 236,
    "start_time": "2021-09-07T19:30:47.497Z"
   },
   {
    "duration": 55,
    "start_time": "2021-09-07T19:30:47.735Z"
   },
   {
    "duration": 27,
    "start_time": "2021-09-07T19:30:47.792Z"
   },
   {
    "duration": 69,
    "start_time": "2021-09-07T19:30:47.821Z"
   },
   {
    "duration": 64,
    "start_time": "2021-09-07T19:30:47.893Z"
   },
   {
    "duration": 63,
    "start_time": "2021-09-07T19:30:47.959Z"
   },
   {
    "duration": 58,
    "start_time": "2021-09-07T19:34:01.118Z"
   },
   {
    "duration": 24,
    "start_time": "2021-09-07T19:35:58.185Z"
   },
   {
    "duration": 56,
    "start_time": "2021-09-07T19:37:22.414Z"
   },
   {
    "duration": 1589,
    "start_time": "2021-09-08T07:46:05.133Z"
   },
   {
    "duration": 408,
    "start_time": "2021-09-08T07:46:06.724Z"
   },
   {
    "duration": 31,
    "start_time": "2021-09-08T07:46:07.135Z"
   },
   {
    "duration": 404,
    "start_time": "2021-09-08T07:46:07.169Z"
   },
   {
    "duration": 22,
    "start_time": "2021-09-08T07:46:07.576Z"
   },
   {
    "duration": 245,
    "start_time": "2021-09-08T07:46:07.600Z"
   },
   {
    "duration": 87,
    "start_time": "2021-09-08T07:46:07.848Z"
   },
   {
    "duration": 195,
    "start_time": "2021-09-08T07:46:07.939Z"
   },
   {
    "duration": 21,
    "start_time": "2021-09-08T07:46:08.138Z"
   },
   {
    "duration": 97,
    "start_time": "2021-09-08T07:46:08.161Z"
   },
   {
    "duration": 338,
    "start_time": "2021-09-08T07:46:08.261Z"
   },
   {
    "duration": 365,
    "start_time": "2021-09-08T07:46:08.601Z"
   },
   {
    "duration": 134,
    "start_time": "2021-09-08T07:46:08.968Z"
   },
   {
    "duration": 164,
    "start_time": "2021-09-08T07:46:09.105Z"
   },
   {
    "duration": 4,
    "start_time": "2021-09-08T07:46:09.271Z"
   },
   {
    "duration": 256,
    "start_time": "2021-09-08T07:46:09.277Z"
   },
   {
    "duration": 81,
    "start_time": "2021-09-08T07:46:09.536Z"
   },
   {
    "duration": 208,
    "start_time": "2021-09-08T07:46:09.620Z"
   },
   {
    "duration": 125,
    "start_time": "2021-09-08T07:46:09.831Z"
   },
   {
    "duration": 117,
    "start_time": "2021-09-08T07:46:09.959Z"
   },
   {
    "duration": 92,
    "start_time": "2021-09-08T07:46:10.079Z"
   },
   {
    "duration": 44,
    "start_time": "2021-09-08T07:46:10.174Z"
   },
   {
    "duration": 573,
    "start_time": "2021-09-08T07:46:10.226Z"
   },
   {
    "duration": 94,
    "start_time": "2021-09-08T07:46:10.801Z"
   },
   {
    "duration": 40,
    "start_time": "2021-09-08T07:46:10.897Z"
   },
   {
    "duration": 209,
    "start_time": "2021-09-08T07:46:10.940Z"
   },
   {
    "duration": 40,
    "start_time": "2021-09-08T07:46:11.155Z"
   },
   {
    "duration": 28,
    "start_time": "2021-09-08T07:46:11.198Z"
   },
   {
    "duration": 237,
    "start_time": "2021-09-08T07:46:11.228Z"
   },
   {
    "duration": 46,
    "start_time": "2021-09-08T07:46:11.468Z"
   },
   {
    "duration": 55,
    "start_time": "2021-09-08T07:46:11.516Z"
   },
   {
    "duration": 51,
    "start_time": "2021-09-08T07:46:11.573Z"
   },
   {
    "duration": 80,
    "start_time": "2021-09-08T07:46:11.626Z"
   },
   {
    "duration": 71,
    "start_time": "2021-09-08T07:46:11.709Z"
   },
   {
    "duration": 26,
    "start_time": "2021-09-08T07:46:11.782Z"
   },
   {
    "duration": 77,
    "start_time": "2021-09-08T07:46:11.810Z"
   },
   {
    "duration": 50,
    "start_time": "2021-09-08T08:04:45.112Z"
   },
   {
    "duration": 449,
    "start_time": "2021-09-08T08:05:08.625Z"
   },
   {
    "duration": 8,
    "start_time": "2021-09-08T08:08:22.834Z"
   },
   {
    "duration": 20,
    "start_time": "2021-09-08T08:08:43.230Z"
   },
   {
    "duration": 24,
    "start_time": "2021-09-08T08:08:54.759Z"
   },
   {
    "duration": 21,
    "start_time": "2021-09-08T08:09:14.105Z"
   },
   {
    "duration": 21,
    "start_time": "2021-09-08T08:09:49.161Z"
   },
   {
    "duration": 21,
    "start_time": "2021-09-08T08:09:58.182Z"
   },
   {
    "duration": 103,
    "start_time": "2021-09-08T08:11:50.216Z"
   },
   {
    "duration": 61,
    "start_time": "2021-09-08T08:12:48.935Z"
   },
   {
    "duration": 60,
    "start_time": "2021-09-08T08:13:30.075Z"
   },
   {
    "duration": 57,
    "start_time": "2021-09-08T08:13:53.831Z"
   },
   {
    "duration": 340,
    "start_time": "2021-09-08T08:15:18.684Z"
   },
   {
    "duration": 75,
    "start_time": "2021-09-08T08:15:51.326Z"
   },
   {
    "duration": 20,
    "start_time": "2021-09-08T08:16:10.280Z"
   },
   {
    "duration": 56,
    "start_time": "2021-09-08T08:16:32.450Z"
   },
   {
    "duration": 14,
    "start_time": "2021-09-08T08:16:42.176Z"
   },
   {
    "duration": 13,
    "start_time": "2021-09-08T08:17:00.003Z"
   },
   {
    "duration": 61,
    "start_time": "2021-09-08T08:18:33.475Z"
   },
   {
    "duration": 61,
    "start_time": "2021-09-08T08:19:32.340Z"
   },
   {
    "duration": 12,
    "start_time": "2021-09-08T08:20:12.852Z"
   },
   {
    "duration": 388,
    "start_time": "2021-09-08T08:23:20.220Z"
   },
   {
    "duration": 7450,
    "start_time": "2021-09-08T08:24:31.943Z"
   },
   {
    "duration": 13,
    "start_time": "2021-09-08T08:24:50.433Z"
   },
   {
    "duration": 60,
    "start_time": "2021-09-08T08:29:47.746Z"
   },
   {
    "duration": 61,
    "start_time": "2021-09-08T08:30:30.062Z"
   },
   {
    "duration": 336,
    "start_time": "2021-09-08T11:36:19.808Z"
   },
   {
    "duration": 277,
    "start_time": "2021-09-08T11:36:39.592Z"
   },
   {
    "duration": 1519,
    "start_time": "2021-09-08T11:36:44.041Z"
   },
   {
    "duration": 355,
    "start_time": "2021-09-08T11:36:45.563Z"
   },
   {
    "duration": 47,
    "start_time": "2021-09-08T11:36:45.921Z"
   },
   {
    "duration": 441,
    "start_time": "2021-09-08T11:36:45.972Z"
   },
   {
    "duration": 40,
    "start_time": "2021-09-08T11:36:46.416Z"
   },
   {
    "duration": 262,
    "start_time": "2021-09-08T11:36:46.458Z"
   },
   {
    "duration": 74,
    "start_time": "2021-09-08T11:36:46.723Z"
   },
   {
    "duration": 14,
    "start_time": "2021-09-08T11:36:46.799Z"
   },
   {
    "duration": 17,
    "start_time": "2021-09-08T11:36:46.817Z"
   },
   {
    "duration": 152,
    "start_time": "2021-09-08T11:36:46.838Z"
   },
   {
    "duration": 436,
    "start_time": "2021-09-08T11:36:46.993Z"
   },
   {
    "duration": 351,
    "start_time": "2021-09-08T11:36:47.431Z"
   },
   {
    "duration": 126,
    "start_time": "2021-09-08T11:36:47.784Z"
   },
   {
    "duration": 162,
    "start_time": "2021-09-08T11:36:47.913Z"
   },
   {
    "duration": 4,
    "start_time": "2021-09-08T11:36:48.077Z"
   },
   {
    "duration": 249,
    "start_time": "2021-09-08T11:36:48.083Z"
   },
   {
    "duration": 77,
    "start_time": "2021-09-08T11:36:48.334Z"
   },
   {
    "duration": 213,
    "start_time": "2021-09-08T11:36:48.413Z"
   },
   {
    "duration": 115,
    "start_time": "2021-09-08T11:36:48.628Z"
   },
   {
    "duration": 123,
    "start_time": "2021-09-08T11:36:48.754Z"
   },
   {
    "duration": 84,
    "start_time": "2021-09-08T11:36:48.879Z"
   },
   {
    "duration": 33,
    "start_time": "2021-09-08T11:36:48.970Z"
   },
   {
    "duration": 559,
    "start_time": "2021-09-08T11:36:49.006Z"
   },
   {
    "duration": 145,
    "start_time": "2021-09-08T11:36:49.568Z"
   },
   {
    "duration": 16,
    "start_time": "2021-09-08T11:36:49.715Z"
   },
   {
    "duration": 196,
    "start_time": "2021-09-08T11:36:49.733Z"
   },
   {
    "duration": 62,
    "start_time": "2021-09-08T11:36:49.934Z"
   },
   {
    "duration": 20,
    "start_time": "2021-09-08T11:36:49.999Z"
   },
   {
    "duration": 406,
    "start_time": "2021-09-08T11:36:50.022Z"
   },
   {
    "duration": 67,
    "start_time": "2021-09-08T11:36:50.431Z"
   },
   {
    "duration": 37,
    "start_time": "2021-09-08T11:36:50.501Z"
   },
   {
    "duration": 67,
    "start_time": "2021-09-08T11:36:50.555Z"
   },
   {
    "duration": 98,
    "start_time": "2021-09-08T11:36:50.625Z"
   },
   {
    "duration": 36,
    "start_time": "2021-09-08T11:36:50.726Z"
   },
   {
    "duration": 63,
    "start_time": "2021-09-08T11:36:50.765Z"
   },
   {
    "duration": 47,
    "start_time": "2021-09-08T11:36:50.831Z"
   },
   {
    "duration": 79,
    "start_time": "2021-09-08T11:36:50.881Z"
   },
   {
    "duration": 16,
    "start_time": "2021-09-08T11:36:50.963Z"
   },
   {
    "duration": 406,
    "start_time": "2021-09-08T11:36:50.982Z"
   },
   {
    "duration": 86,
    "start_time": "2021-09-08T11:37:37.145Z"
   },
   {
    "duration": 12,
    "start_time": "2021-09-08T11:37:45.208Z"
   },
   {
    "duration": 25,
    "start_time": "2021-09-08T11:39:19.076Z"
   },
   {
    "duration": 24,
    "start_time": "2021-09-08T11:40:08.268Z"
   },
   {
    "duration": 262,
    "start_time": "2021-09-08T11:41:51.680Z"
   },
   {
    "duration": 26,
    "start_time": "2021-09-08T11:42:47.737Z"
   },
   {
    "duration": 32,
    "start_time": "2021-09-08T11:43:03.655Z"
   },
   {
    "duration": 23,
    "start_time": "2021-09-08T11:43:41.350Z"
   },
   {
    "duration": 487,
    "start_time": "2021-09-08T11:52:21.497Z"
   },
   {
    "duration": 22,
    "start_time": "2021-09-08T11:52:32.707Z"
   },
   {
    "duration": 267,
    "start_time": "2021-09-08T11:53:16.787Z"
   },
   {
    "duration": 10,
    "start_time": "2021-09-08T11:54:49.866Z"
   },
   {
    "duration": 358,
    "start_time": "2021-09-08T11:56:08.897Z"
   },
   {
    "duration": 277,
    "start_time": "2021-09-08T11:56:53.687Z"
   },
   {
    "duration": 14,
    "start_time": "2021-09-08T11:59:11.566Z"
   },
   {
    "duration": 17,
    "start_time": "2021-09-08T11:59:26.269Z"
   },
   {
    "duration": 353,
    "start_time": "2021-09-08T11:59:31.596Z"
   },
   {
    "duration": 14,
    "start_time": "2021-09-08T11:59:46.028Z"
   },
   {
    "duration": 22,
    "start_time": "2021-09-08T11:59:53.760Z"
   },
   {
    "duration": 555,
    "start_time": "2021-09-08T12:01:07.557Z"
   },
   {
    "duration": 14,
    "start_time": "2021-09-08T12:02:20.950Z"
   },
   {
    "duration": 311,
    "start_time": "2021-09-08T12:02:54.381Z"
   },
   {
    "duration": 1509,
    "start_time": "2021-09-08T17:12:18.714Z"
   },
   {
    "duration": 369,
    "start_time": "2021-09-08T17:12:20.225Z"
   },
   {
    "duration": 28,
    "start_time": "2021-09-08T17:12:20.596Z"
   },
   {
    "duration": 342,
    "start_time": "2021-09-08T17:12:20.627Z"
   },
   {
    "duration": 22,
    "start_time": "2021-09-08T17:12:20.971Z"
   },
   {
    "duration": 1260,
    "start_time": "2021-09-08T17:12:20.995Z"
   },
   {
    "duration": 89,
    "start_time": "2021-09-08T17:12:22.258Z"
   },
   {
    "duration": 13,
    "start_time": "2021-09-08T17:12:22.351Z"
   },
   {
    "duration": 16,
    "start_time": "2021-09-08T17:12:22.367Z"
   },
   {
    "duration": 132,
    "start_time": "2021-09-08T17:12:22.385Z"
   },
   {
    "duration": 299,
    "start_time": "2021-09-08T17:12:22.519Z"
   },
   {
    "duration": 314,
    "start_time": "2021-09-08T17:12:22.821Z"
   },
   {
    "duration": 125,
    "start_time": "2021-09-08T17:12:23.138Z"
   },
   {
    "duration": 151,
    "start_time": "2021-09-08T17:12:23.266Z"
   },
   {
    "duration": 4,
    "start_time": "2021-09-08T17:12:23.419Z"
   },
   {
    "duration": 239,
    "start_time": "2021-09-08T17:12:23.425Z"
   },
   {
    "duration": 58,
    "start_time": "2021-09-08T17:12:23.666Z"
   },
   {
    "duration": 191,
    "start_time": "2021-09-08T17:12:23.727Z"
   },
   {
    "duration": 105,
    "start_time": "2021-09-08T17:12:23.921Z"
   },
   {
    "duration": 106,
    "start_time": "2021-09-08T17:12:24.029Z"
   },
   {
    "duration": 89,
    "start_time": "2021-09-08T17:12:24.137Z"
   },
   {
    "duration": 42,
    "start_time": "2021-09-08T17:12:24.229Z"
   },
   {
    "duration": 498,
    "start_time": "2021-09-08T17:12:24.276Z"
   },
   {
    "duration": 102,
    "start_time": "2021-09-08T17:12:24.777Z"
   },
   {
    "duration": 18,
    "start_time": "2021-09-08T17:12:24.881Z"
   },
   {
    "duration": 187,
    "start_time": "2021-09-08T17:12:24.902Z"
   },
   {
    "duration": 40,
    "start_time": "2021-09-08T17:12:25.091Z"
   },
   {
    "duration": 35,
    "start_time": "2021-09-08T17:12:25.134Z"
   },
   {
    "duration": 232,
    "start_time": "2021-09-08T17:12:25.171Z"
   },
   {
    "duration": 57,
    "start_time": "2021-09-08T17:12:25.406Z"
   },
   {
    "duration": 26,
    "start_time": "2021-09-08T17:12:25.466Z"
   },
   {
    "duration": 65,
    "start_time": "2021-09-08T17:12:25.495Z"
   },
   {
    "duration": 77,
    "start_time": "2021-09-08T17:12:25.562Z"
   },
   {
    "duration": 21,
    "start_time": "2021-09-08T17:12:25.641Z"
   },
   {
    "duration": 65,
    "start_time": "2021-09-08T17:12:25.664Z"
   },
   {
    "duration": 58,
    "start_time": "2021-09-08T17:12:25.731Z"
   },
   {
    "duration": 110,
    "start_time": "2021-09-08T17:12:25.792Z"
   },
   {
    "duration": 12,
    "start_time": "2021-09-08T17:12:25.905Z"
   },
   {
    "duration": 46,
    "start_time": "2021-09-08T17:12:25.919Z"
   },
   {
    "duration": 15,
    "start_time": "2021-09-08T17:12:25.967Z"
   },
   {
    "duration": 9159,
    "start_time": "2021-09-08T17:12:25.984Z"
   },
   {
    "duration": -2793,
    "start_time": "2021-09-08T17:12:37.938Z"
   },
   {
    "duration": -2797,
    "start_time": "2021-09-08T17:12:37.944Z"
   },
   {
    "duration": 26,
    "start_time": "2021-09-08T17:13:29.108Z"
   },
   {
    "duration": 3,
    "start_time": "2021-09-08T17:14:04.552Z"
   },
   {
    "duration": 26,
    "start_time": "2021-09-08T17:14:11.465Z"
   },
   {
    "duration": 8599,
    "start_time": "2021-09-08T17:14:54.597Z"
   },
   {
    "duration": 4,
    "start_time": "2021-09-08T17:15:13.691Z"
   },
   {
    "duration": 550,
    "start_time": "2021-09-08T17:15:13.698Z"
   },
   {
    "duration": 30,
    "start_time": "2021-09-08T17:15:14.250Z"
   },
   {
    "duration": 331,
    "start_time": "2021-09-08T17:15:14.282Z"
   },
   {
    "duration": 25,
    "start_time": "2021-09-08T17:15:14.615Z"
   },
   {
    "duration": 323,
    "start_time": "2021-09-08T17:15:14.657Z"
   },
   {
    "duration": 1077,
    "start_time": "2021-09-08T17:15:14.983Z"
   },
   {
    "duration": 14,
    "start_time": "2021-09-08T17:15:16.063Z"
   },
   {
    "duration": 12,
    "start_time": "2021-09-08T17:15:16.079Z"
   },
   {
    "duration": 85,
    "start_time": "2021-09-08T17:15:16.094Z"
   },
   {
    "duration": 291,
    "start_time": "2021-09-08T17:15:16.182Z"
   },
   {
    "duration": 303,
    "start_time": "2021-09-08T17:15:16.475Z"
   },
   {
    "duration": 122,
    "start_time": "2021-09-08T17:15:16.780Z"
   },
   {
    "duration": 134,
    "start_time": "2021-09-08T17:15:16.904Z"
   },
   {
    "duration": 4,
    "start_time": "2021-09-08T17:15:17.041Z"
   },
   {
    "duration": 246,
    "start_time": "2021-09-08T17:15:17.047Z"
   },
   {
    "duration": 78,
    "start_time": "2021-09-08T17:15:17.297Z"
   },
   {
    "duration": 240,
    "start_time": "2021-09-08T17:15:17.378Z"
   },
   {
    "duration": 107,
    "start_time": "2021-09-08T17:15:17.624Z"
   },
   {
    "duration": 108,
    "start_time": "2021-09-08T17:15:17.735Z"
   },
   {
    "duration": 80,
    "start_time": "2021-09-08T17:15:17.856Z"
   },
   {
    "duration": 41,
    "start_time": "2021-09-08T17:15:17.938Z"
   },
   {
    "duration": 499,
    "start_time": "2021-09-08T17:15:17.981Z"
   },
   {
    "duration": 98,
    "start_time": "2021-09-08T17:15:18.483Z"
   },
   {
    "duration": 10,
    "start_time": "2021-09-08T17:15:18.584Z"
   },
   {
    "duration": 222,
    "start_time": "2021-09-08T17:15:18.597Z"
   },
   {
    "duration": 53,
    "start_time": "2021-09-08T17:15:18.822Z"
   },
   {
    "duration": 21,
    "start_time": "2021-09-08T17:15:18.879Z"
   },
   {
    "duration": 243,
    "start_time": "2021-09-08T17:15:18.903Z"
   },
   {
    "duration": 52,
    "start_time": "2021-09-08T17:15:19.156Z"
   },
   {
    "duration": 46,
    "start_time": "2021-09-08T17:15:19.211Z"
   },
   {
    "duration": 42,
    "start_time": "2021-09-08T17:15:19.259Z"
   },
   {
    "duration": 95,
    "start_time": "2021-09-08T17:15:19.303Z"
   },
   {
    "duration": 14,
    "start_time": "2021-09-08T17:15:19.401Z"
   },
   {
    "duration": 87,
    "start_time": "2021-09-08T17:15:19.418Z"
   },
   {
    "duration": 26,
    "start_time": "2021-09-08T17:15:19.507Z"
   },
   {
    "duration": 94,
    "start_time": "2021-09-08T17:15:19.535Z"
   },
   {
    "duration": 27,
    "start_time": "2021-09-08T17:15:19.631Z"
   },
   {
    "duration": 26,
    "start_time": "2021-09-08T17:15:19.660Z"
   },
   {
    "duration": 13,
    "start_time": "2021-09-08T17:15:19.688Z"
   },
   {
    "duration": 8429,
    "start_time": "2021-09-08T17:15:19.704Z"
   },
   {
    "duration": -2733,
    "start_time": "2021-09-08T17:15:30.869Z"
   },
   {
    "duration": -2737,
    "start_time": "2021-09-08T17:15:30.874Z"
   },
   {
    "duration": 327,
    "start_time": "2021-09-08T17:15:39.747Z"
   },
   {
    "duration": 13,
    "start_time": "2021-09-08T17:15:45.173Z"
   },
   {
    "duration": 304,
    "start_time": "2021-09-08T17:15:48.527Z"
   },
   {
    "duration": 4,
    "start_time": "2021-09-08T17:18:09.234Z"
   },
   {
    "duration": 363,
    "start_time": "2021-09-08T17:22:13.823Z"
   },
   {
    "duration": 34,
    "start_time": "2021-09-08T17:22:20.502Z"
   },
   {
    "duration": 461,
    "start_time": "2021-09-08T17:23:45.095Z"
   },
   {
    "duration": 42,
    "start_time": "2021-09-08T17:23:50.924Z"
   },
   {
    "duration": 36,
    "start_time": "2021-09-08T17:24:41.210Z"
   },
   {
    "duration": 19,
    "start_time": "2021-09-08T17:24:50.653Z"
   },
   {
    "duration": 19,
    "start_time": "2021-09-08T17:25:10.839Z"
   },
   {
    "duration": 21,
    "start_time": "2021-09-08T17:52:21.682Z"
   },
   {
    "duration": 22,
    "start_time": "2021-09-08T17:53:06.267Z"
   },
   {
    "duration": 22,
    "start_time": "2021-09-08T17:53:41.146Z"
   },
   {
    "duration": 33,
    "start_time": "2021-09-08T17:54:14.796Z"
   },
   {
    "duration": 5,
    "start_time": "2021-09-08T17:54:29.543Z"
   },
   {
    "duration": 451,
    "start_time": "2021-09-08T17:54:29.551Z"
   },
   {
    "duration": 28,
    "start_time": "2021-09-08T17:54:30.005Z"
   },
   {
    "duration": 46,
    "start_time": "2021-09-08T17:54:30.036Z"
   },
   {
    "duration": 335,
    "start_time": "2021-09-08T17:54:30.084Z"
   },
   {
    "duration": 43,
    "start_time": "2021-09-08T17:54:30.421Z"
   },
   {
    "duration": 23,
    "start_time": "2021-09-08T17:54:30.468Z"
   },
   {
    "duration": 532,
    "start_time": "2021-09-08T17:54:30.495Z"
   },
   {
    "duration": 28,
    "start_time": "2021-09-08T17:54:31.029Z"
   },
   {
    "duration": 74,
    "start_time": "2021-09-08T17:54:31.059Z"
   },
   {
    "duration": 13,
    "start_time": "2021-09-08T17:54:31.135Z"
   },
   {
    "duration": 15,
    "start_time": "2021-09-08T17:54:31.150Z"
   },
   {
    "duration": 106,
    "start_time": "2021-09-08T17:54:31.167Z"
   },
   {
    "duration": 291,
    "start_time": "2021-09-08T17:54:31.275Z"
   },
   {
    "duration": 308,
    "start_time": "2021-09-08T17:54:31.568Z"
   },
   {
    "duration": 118,
    "start_time": "2021-09-08T17:54:31.878Z"
   },
   {
    "duration": 133,
    "start_time": "2021-09-08T17:54:31.998Z"
   },
   {
    "duration": 4,
    "start_time": "2021-09-08T17:54:32.133Z"
   },
   {
    "duration": 231,
    "start_time": "2021-09-08T17:54:32.157Z"
   },
   {
    "duration": 79,
    "start_time": "2021-09-08T17:54:32.392Z"
   },
   {
    "duration": 197,
    "start_time": "2021-09-08T17:54:32.474Z"
   },
   {
    "duration": 121,
    "start_time": "2021-09-08T17:54:32.674Z"
   },
   {
    "duration": 94,
    "start_time": "2021-09-08T17:54:32.798Z"
   },
   {
    "duration": 82,
    "start_time": "2021-09-08T17:54:32.895Z"
   },
   {
    "duration": 31,
    "start_time": "2021-09-08T17:54:32.979Z"
   },
   {
    "duration": 459,
    "start_time": "2021-09-08T17:54:33.012Z"
   },
   {
    "duration": 83,
    "start_time": "2021-09-08T17:54:33.473Z"
   },
   {
    "duration": 19,
    "start_time": "2021-09-08T17:54:33.559Z"
   },
   {
    "duration": 183,
    "start_time": "2021-09-08T17:54:33.580Z"
   },
   {
    "duration": 40,
    "start_time": "2021-09-08T17:54:33.765Z"
   },
   {
    "duration": 18,
    "start_time": "2021-09-08T17:54:33.808Z"
   },
   {
    "duration": 241,
    "start_time": "2021-09-08T17:54:33.828Z"
   },
   {
    "duration": 46,
    "start_time": "2021-09-08T17:54:34.072Z"
   },
   {
    "duration": 61,
    "start_time": "2021-09-08T17:54:34.121Z"
   },
   {
    "duration": 26,
    "start_time": "2021-09-08T17:54:34.184Z"
   },
   {
    "duration": 67,
    "start_time": "2021-09-08T17:54:34.213Z"
   },
   {
    "duration": 76,
    "start_time": "2021-09-08T17:54:34.282Z"
   },
   {
    "duration": 12,
    "start_time": "2021-09-08T17:54:34.360Z"
   },
   {
    "duration": 86,
    "start_time": "2021-09-08T17:54:34.375Z"
   },
   {
    "duration": 26,
    "start_time": "2021-09-08T17:54:34.463Z"
   },
   {
    "duration": 99,
    "start_time": "2021-09-08T17:54:34.491Z"
   },
   {
    "duration": 13,
    "start_time": "2021-09-08T17:54:34.592Z"
   },
   {
    "duration": 50,
    "start_time": "2021-09-08T17:54:34.607Z"
   },
   {
    "duration": 17,
    "start_time": "2021-09-08T17:54:34.660Z"
   },
   {
    "duration": 332,
    "start_time": "2021-09-08T17:54:34.680Z"
   },
   {
    "duration": 14,
    "start_time": "2021-09-08T17:54:35.015Z"
   },
   {
    "duration": 330,
    "start_time": "2021-09-08T17:54:35.031Z"
   },
   {
    "duration": 340,
    "start_time": "2021-09-08T17:56:23.251Z"
   },
   {
    "duration": 28,
    "start_time": "2021-09-08T17:56:32.059Z"
   },
   {
    "duration": 26,
    "start_time": "2021-09-08T17:56:44.647Z"
   },
   {
    "duration": 454,
    "start_time": "2021-09-08T17:56:55.921Z"
   },
   {
    "duration": 29,
    "start_time": "2021-09-08T17:57:05.236Z"
   },
   {
    "duration": 23,
    "start_time": "2021-09-08T17:57:28.909Z"
   },
   {
    "duration": 380,
    "start_time": "2021-09-08T17:57:39.554Z"
   },
   {
    "duration": 22,
    "start_time": "2021-09-08T17:57:46.931Z"
   },
   {
    "duration": 68,
    "start_time": "2021-09-08T17:57:56.160Z"
   },
   {
    "duration": 15,
    "start_time": "2021-09-08T17:58:08.665Z"
   },
   {
    "duration": 8,
    "start_time": "2021-09-08T17:58:12.986Z"
   },
   {
    "duration": 86,
    "start_time": "2021-09-08T17:58:22.610Z"
   },
   {
    "duration": 314,
    "start_time": "2021-09-08T17:58:38.033Z"
   },
   {
    "duration": 30,
    "start_time": "2021-09-08T17:59:07.027Z"
   },
   {
    "duration": 29,
    "start_time": "2021-09-08T17:59:32.926Z"
   },
   {
    "duration": 22,
    "start_time": "2021-09-08T17:59:50.976Z"
   },
   {
    "duration": 355,
    "start_time": "2021-09-08T18:00:11.697Z"
   },
   {
    "duration": 254,
    "start_time": "2021-09-08T18:00:52.460Z"
   },
   {
    "duration": 421,
    "start_time": "2021-09-08T18:01:37.317Z"
   },
   {
    "duration": 1492,
    "start_time": "2021-09-08T18:01:51.137Z"
   },
   {
    "duration": 441,
    "start_time": "2021-09-08T18:01:59.543Z"
   },
   {
    "duration": 5,
    "start_time": "2021-09-08T18:02:07.060Z"
   },
   {
    "duration": 603,
    "start_time": "2021-09-08T18:02:07.067Z"
   },
   {
    "duration": 37,
    "start_time": "2021-09-08T18:02:07.674Z"
   },
   {
    "duration": 52,
    "start_time": "2021-09-08T18:02:07.714Z"
   },
   {
    "duration": 333,
    "start_time": "2021-09-08T18:02:07.769Z"
   },
   {
    "duration": 51,
    "start_time": "2021-09-08T18:02:08.105Z"
   },
   {
    "duration": 26,
    "start_time": "2021-09-08T18:02:08.159Z"
   },
   {
    "duration": 1350,
    "start_time": "2021-09-08T18:02:08.187Z"
   },
   {
    "duration": 26,
    "start_time": "2021-09-08T18:02:09.543Z"
   },
   {
    "duration": 131,
    "start_time": "2021-09-08T18:02:09.572Z"
   },
   {
    "duration": 14,
    "start_time": "2021-09-08T18:02:09.705Z"
   },
   {
    "duration": 25,
    "start_time": "2021-09-08T18:02:09.722Z"
   },
   {
    "duration": 100,
    "start_time": "2021-09-08T18:02:09.750Z"
   },
   {
    "duration": 409,
    "start_time": "2021-09-08T18:02:09.852Z"
   },
   {
    "duration": 368,
    "start_time": "2021-09-08T18:02:10.265Z"
   },
   {
    "duration": -2711,
    "start_time": "2021-09-08T18:02:13.349Z"
   },
   {
    "duration": -2714,
    "start_time": "2021-09-08T18:02:13.354Z"
   },
   {
    "duration": -2716,
    "start_time": "2021-09-08T18:02:13.358Z"
   },
   {
    "duration": -2718,
    "start_time": "2021-09-08T18:02:13.363Z"
   },
   {
    "duration": -2719,
    "start_time": "2021-09-08T18:02:13.366Z"
   },
   {
    "duration": -2721,
    "start_time": "2021-09-08T18:02:13.370Z"
   },
   {
    "duration": -2722,
    "start_time": "2021-09-08T18:02:13.373Z"
   },
   {
    "duration": -2724,
    "start_time": "2021-09-08T18:02:13.378Z"
   },
   {
    "duration": -2725,
    "start_time": "2021-09-08T18:02:13.381Z"
   },
   {
    "duration": -2726,
    "start_time": "2021-09-08T18:02:13.384Z"
   },
   {
    "duration": -2727,
    "start_time": "2021-09-08T18:02:13.387Z"
   },
   {
    "duration": -2736,
    "start_time": "2021-09-08T18:02:13.398Z"
   },
   {
    "duration": -2737,
    "start_time": "2021-09-08T18:02:13.401Z"
   },
   {
    "duration": -2738,
    "start_time": "2021-09-08T18:02:13.404Z"
   },
   {
    "duration": -2741,
    "start_time": "2021-09-08T18:02:13.409Z"
   },
   {
    "duration": -2742,
    "start_time": "2021-09-08T18:02:13.413Z"
   },
   {
    "duration": -2743,
    "start_time": "2021-09-08T18:02:13.416Z"
   },
   {
    "duration": -2745,
    "start_time": "2021-09-08T18:02:13.420Z"
   },
   {
    "duration": -2744,
    "start_time": "2021-09-08T18:02:13.423Z"
   },
   {
    "duration": -2746,
    "start_time": "2021-09-08T18:02:13.427Z"
   },
   {
    "duration": -2748,
    "start_time": "2021-09-08T18:02:13.430Z"
   },
   {
    "duration": -2757,
    "start_time": "2021-09-08T18:02:13.441Z"
   },
   {
    "duration": -2769,
    "start_time": "2021-09-08T18:02:13.455Z"
   },
   {
    "duration": -2772,
    "start_time": "2021-09-08T18:02:13.459Z"
   },
   {
    "duration": -2774,
    "start_time": "2021-09-08T18:02:13.463Z"
   },
   {
    "duration": -2789,
    "start_time": "2021-09-08T18:02:13.479Z"
   },
   {
    "duration": -2790,
    "start_time": "2021-09-08T18:02:13.482Z"
   },
   {
    "duration": -2793,
    "start_time": "2021-09-08T18:02:13.486Z"
   },
   {
    "duration": -2795,
    "start_time": "2021-09-08T18:02:13.489Z"
   },
   {
    "duration": -2797,
    "start_time": "2021-09-08T18:02:13.493Z"
   },
   {
    "duration": -2800,
    "start_time": "2021-09-08T18:02:13.497Z"
   },
   {
    "duration": -2802,
    "start_time": "2021-09-08T18:02:13.501Z"
   },
   {
    "duration": 4,
    "start_time": "2021-09-08T18:08:16.322Z"
   },
   {
    "duration": 422,
    "start_time": "2021-09-08T18:08:16.333Z"
   },
   {
    "duration": 27,
    "start_time": "2021-09-08T18:08:16.758Z"
   },
   {
    "duration": 558,
    "start_time": "2021-09-08T18:08:16.788Z"
   },
   {
    "duration": 36,
    "start_time": "2021-09-08T18:08:17.357Z"
   },
   {
    "duration": 263,
    "start_time": "2021-09-08T18:08:17.396Z"
   },
   {
    "duration": 74,
    "start_time": "2021-09-08T18:08:17.661Z"
   },
   {
    "duration": 13,
    "start_time": "2021-09-08T18:08:17.737Z"
   },
   {
    "duration": 12,
    "start_time": "2021-09-08T18:08:17.753Z"
   },
   {
    "duration": 84,
    "start_time": "2021-09-08T18:08:17.769Z"
   },
   {
    "duration": 332,
    "start_time": "2021-09-08T18:08:17.857Z"
   },
   {
    "duration": 1377,
    "start_time": "2021-09-08T18:08:18.191Z"
   },
   {
    "duration": -2753,
    "start_time": "2021-09-08T18:08:22.324Z"
   },
   {
    "duration": -2760,
    "start_time": "2021-09-08T18:08:22.333Z"
   },
   {
    "duration": -2765,
    "start_time": "2021-09-08T18:08:22.339Z"
   },
   {
    "duration": -2777,
    "start_time": "2021-09-08T18:08:22.353Z"
   },
   {
    "duration": -2781,
    "start_time": "2021-09-08T18:08:22.358Z"
   },
   {
    "duration": -2784,
    "start_time": "2021-09-08T18:08:22.362Z"
   },
   {
    "duration": -2786,
    "start_time": "2021-09-08T18:08:22.366Z"
   },
   {
    "duration": -2789,
    "start_time": "2021-09-08T18:08:22.370Z"
   },
   {
    "duration": -2790,
    "start_time": "2021-09-08T18:08:22.373Z"
   },
   {
    "duration": -2792,
    "start_time": "2021-09-08T18:08:22.376Z"
   },
   {
    "duration": -2793,
    "start_time": "2021-09-08T18:08:22.379Z"
   },
   {
    "duration": -2796,
    "start_time": "2021-09-08T18:08:22.383Z"
   },
   {
    "duration": -2796,
    "start_time": "2021-09-08T18:08:22.386Z"
   },
   {
    "duration": -2799,
    "start_time": "2021-09-08T18:08:22.390Z"
   },
   {
    "duration": -2802,
    "start_time": "2021-09-08T18:08:22.394Z"
   },
   {
    "duration": -2804,
    "start_time": "2021-09-08T18:08:22.398Z"
   },
   {
    "duration": -2806,
    "start_time": "2021-09-08T18:08:22.401Z"
   },
   {
    "duration": -2808,
    "start_time": "2021-09-08T18:08:22.405Z"
   },
   {
    "duration": -2810,
    "start_time": "2021-09-08T18:08:22.408Z"
   },
   {
    "duration": -2819,
    "start_time": "2021-09-08T18:08:22.419Z"
   },
   {
    "duration": -2821,
    "start_time": "2021-09-08T18:08:22.422Z"
   },
   {
    "duration": -2824,
    "start_time": "2021-09-08T18:08:22.426Z"
   },
   {
    "duration": -2825,
    "start_time": "2021-09-08T18:08:22.429Z"
   },
   {
    "duration": -2828,
    "start_time": "2021-09-08T18:08:22.433Z"
   },
   {
    "duration": -2829,
    "start_time": "2021-09-08T18:08:22.436Z"
   },
   {
    "duration": -2784,
    "start_time": "2021-09-08T18:08:22.440Z"
   },
   {
    "duration": -2786,
    "start_time": "2021-09-08T18:08:22.443Z"
   },
   {
    "duration": -2788,
    "start_time": "2021-09-08T18:08:22.447Z"
   },
   {
    "duration": -2790,
    "start_time": "2021-09-08T18:08:22.450Z"
   },
   {
    "duration": -2791,
    "start_time": "2021-09-08T18:08:22.453Z"
   },
   {
    "duration": -2794,
    "start_time": "2021-09-08T18:08:22.457Z"
   },
   {
    "duration": -2795,
    "start_time": "2021-09-08T18:08:22.460Z"
   },
   {
    "duration": 4,
    "start_time": "2021-09-08T18:09:14.005Z"
   },
   {
    "duration": 391,
    "start_time": "2021-09-08T18:09:14.016Z"
   },
   {
    "duration": 26,
    "start_time": "2021-09-08T18:09:14.409Z"
   },
   {
    "duration": 382,
    "start_time": "2021-09-08T18:09:14.438Z"
   },
   {
    "duration": 36,
    "start_time": "2021-09-08T18:09:14.823Z"
   },
   {
    "duration": 2026,
    "start_time": "2021-09-08T18:09:14.861Z"
   },
   {
    "duration": 73,
    "start_time": "2021-09-08T18:09:16.889Z"
   },
   {
    "duration": 12,
    "start_time": "2021-09-08T18:09:16.965Z"
   },
   {
    "duration": 14,
    "start_time": "2021-09-08T18:09:16.980Z"
   },
   {
    "duration": 91,
    "start_time": "2021-09-08T18:09:16.998Z"
   },
   {
    "duration": 329,
    "start_time": "2021-09-08T18:09:17.092Z"
   },
   {
    "duration": 358,
    "start_time": "2021-09-08T18:09:17.423Z"
   },
   {
    "duration": -2805,
    "start_time": "2021-09-08T18:09:20.589Z"
   },
   {
    "duration": -2805,
    "start_time": "2021-09-08T18:09:20.591Z"
   },
   {
    "duration": -2809,
    "start_time": "2021-09-08T18:09:20.596Z"
   },
   {
    "duration": -2811,
    "start_time": "2021-09-08T18:09:20.599Z"
   },
   {
    "duration": -2813,
    "start_time": "2021-09-08T18:09:20.602Z"
   },
   {
    "duration": -2814,
    "start_time": "2021-09-08T18:09:20.605Z"
   },
   {
    "duration": -2816,
    "start_time": "2021-09-08T18:09:20.608Z"
   },
   {
    "duration": -2818,
    "start_time": "2021-09-08T18:09:20.611Z"
   },
   {
    "duration": -2821,
    "start_time": "2021-09-08T18:09:20.615Z"
   },
   {
    "duration": -2822,
    "start_time": "2021-09-08T18:09:20.618Z"
   },
   {
    "duration": -2824,
    "start_time": "2021-09-08T18:09:20.621Z"
   },
   {
    "duration": -2826,
    "start_time": "2021-09-08T18:09:20.624Z"
   },
   {
    "duration": -2828,
    "start_time": "2021-09-08T18:09:20.628Z"
   },
   {
    "duration": -2830,
    "start_time": "2021-09-08T18:09:20.631Z"
   },
   {
    "duration": -2832,
    "start_time": "2021-09-08T18:09:20.634Z"
   },
   {
    "duration": -2835,
    "start_time": "2021-09-08T18:09:20.638Z"
   },
   {
    "duration": -2838,
    "start_time": "2021-09-08T18:09:20.642Z"
   },
   {
    "duration": -2839,
    "start_time": "2021-09-08T18:09:20.645Z"
   },
   {
    "duration": -2841,
    "start_time": "2021-09-08T18:09:20.648Z"
   },
   {
    "duration": -2850,
    "start_time": "2021-09-08T18:09:20.658Z"
   },
   {
    "duration": -2852,
    "start_time": "2021-09-08T18:09:20.661Z"
   },
   {
    "duration": -2853,
    "start_time": "2021-09-08T18:09:20.664Z"
   },
   {
    "duration": -2855,
    "start_time": "2021-09-08T18:09:20.667Z"
   },
   {
    "duration": -2857,
    "start_time": "2021-09-08T18:09:20.670Z"
   },
   {
    "duration": -2859,
    "start_time": "2021-09-08T18:09:20.673Z"
   },
   {
    "duration": -2861,
    "start_time": "2021-09-08T18:09:20.676Z"
   },
   {
    "duration": -2863,
    "start_time": "2021-09-08T18:09:20.680Z"
   },
   {
    "duration": -2865,
    "start_time": "2021-09-08T18:09:20.683Z"
   },
   {
    "duration": -2867,
    "start_time": "2021-09-08T18:09:20.686Z"
   },
   {
    "duration": -2869,
    "start_time": "2021-09-08T18:09:20.689Z"
   },
   {
    "duration": -2870,
    "start_time": "2021-09-08T18:09:20.692Z"
   },
   {
    "duration": -2839,
    "start_time": "2021-09-08T18:09:20.695Z"
   },
   {
    "duration": 368,
    "start_time": "2021-09-08T18:09:34.515Z"
   },
   {
    "duration": 309,
    "start_time": "2021-09-08T18:10:09.681Z"
   },
   {
    "duration": 117,
    "start_time": "2021-09-08T18:10:26.520Z"
   },
   {
    "duration": 143,
    "start_time": "2021-09-08T18:10:39.252Z"
   },
   {
    "duration": 4,
    "start_time": "2021-09-08T18:10:53.096Z"
   },
   {
    "duration": 411,
    "start_time": "2021-09-08T18:10:53.103Z"
   },
   {
    "duration": 38,
    "start_time": "2021-09-08T18:10:53.518Z"
   },
   {
    "duration": 307,
    "start_time": "2021-09-08T18:10:53.559Z"
   },
   {
    "duration": 24,
    "start_time": "2021-09-08T18:10:53.869Z"
   },
   {
    "duration": 2036,
    "start_time": "2021-09-08T18:10:53.896Z"
   },
   {
    "duration": 70,
    "start_time": "2021-09-08T18:10:55.936Z"
   },
   {
    "duration": 13,
    "start_time": "2021-09-08T18:10:56.009Z"
   },
   {
    "duration": 11,
    "start_time": "2021-09-08T18:10:56.024Z"
   },
   {
    "duration": 89,
    "start_time": "2021-09-08T18:10:56.037Z"
   },
   {
    "duration": 292,
    "start_time": "2021-09-08T18:10:56.128Z"
   },
   {
    "duration": 307,
    "start_time": "2021-09-08T18:10:56.422Z"
   },
   {
    "duration": 124,
    "start_time": "2021-09-08T18:10:56.732Z"
   },
   {
    "duration": 146,
    "start_time": "2021-09-08T18:10:56.858Z"
   },
   {
    "duration": 4,
    "start_time": "2021-09-08T18:10:57.006Z"
   },
   {
    "duration": 245,
    "start_time": "2021-09-08T18:10:57.012Z"
   },
   {
    "duration": 62,
    "start_time": "2021-09-08T18:10:57.260Z"
   },
   {
    "duration": 216,
    "start_time": "2021-09-08T18:10:57.325Z"
   },
   {
    "duration": 111,
    "start_time": "2021-09-08T18:10:57.546Z"
   },
   {
    "duration": 97,
    "start_time": "2021-09-08T18:10:57.660Z"
   },
   {
    "duration": 77,
    "start_time": "2021-09-08T18:10:57.759Z"
   },
   {
    "duration": 43,
    "start_time": "2021-09-08T18:10:57.838Z"
   },
   {
    "duration": 488,
    "start_time": "2021-09-08T18:10:57.884Z"
   },
   {
    "duration": 86,
    "start_time": "2021-09-08T18:10:58.374Z"
   },
   {
    "duration": 9,
    "start_time": "2021-09-08T18:10:58.462Z"
   },
   {
    "duration": 214,
    "start_time": "2021-09-08T18:10:58.474Z"
   },
   {
    "duration": 40,
    "start_time": "2021-09-08T18:10:58.690Z"
   },
   {
    "duration": 34,
    "start_time": "2021-09-08T18:10:58.733Z"
   },
   {
    "duration": 222,
    "start_time": "2021-09-08T18:10:58.769Z"
   },
   {
    "duration": 48,
    "start_time": "2021-09-08T18:10:58.993Z"
   },
   {
    "duration": 43,
    "start_time": "2021-09-08T18:10:59.056Z"
   },
   {
    "duration": 28,
    "start_time": "2021-09-08T18:10:59.101Z"
   },
   {
    "duration": 41,
    "start_time": "2021-09-08T18:10:59.155Z"
   },
   {
    "duration": 89,
    "start_time": "2021-09-08T18:10:59.199Z"
   },
   {
    "duration": 14,
    "start_time": "2021-09-08T18:10:59.290Z"
   },
   {
    "duration": 85,
    "start_time": "2021-09-08T18:10:59.307Z"
   },
   {
    "duration": 26,
    "start_time": "2021-09-08T18:10:59.394Z"
   },
   {
    "duration": 97,
    "start_time": "2021-09-08T18:10:59.423Z"
   },
   {
    "duration": 12,
    "start_time": "2021-09-08T18:10:59.523Z"
   },
   {
    "duration": 40,
    "start_time": "2021-09-08T18:10:59.537Z"
   },
   {
    "duration": 12,
    "start_time": "2021-09-08T18:10:59.580Z"
   },
   {
    "duration": 343,
    "start_time": "2021-09-08T18:10:59.595Z"
   },
   {
    "duration": 23,
    "start_time": "2021-09-08T18:10:59.941Z"
   },
   {
    "duration": 312,
    "start_time": "2021-09-08T18:10:59.967Z"
   },
   {
    "duration": 13,
    "start_time": "2021-09-08T18:41:02.855Z"
   },
   {
    "duration": 91,
    "start_time": "2021-09-08T18:54:45.896Z"
   },
   {
    "duration": 10,
    "start_time": "2021-09-08T18:58:52.931Z"
   },
   {
    "duration": 348,
    "start_time": "2021-09-08T18:59:18.892Z"
   },
   {
    "duration": 345,
    "start_time": "2021-09-08T18:59:24.827Z"
   },
   {
    "duration": 7,
    "start_time": "2021-09-08T18:59:49.224Z"
   },
   {
    "duration": 360,
    "start_time": "2021-09-08T19:00:58.432Z"
   },
   {
    "duration": 356,
    "start_time": "2021-09-08T19:01:16.377Z"
   },
   {
    "duration": 31,
    "start_time": "2021-09-08T19:01:34.071Z"
   },
   {
    "duration": -2709,
    "start_time": "2021-09-08T19:02:40.315Z"
   },
   {
    "duration": 8700,
    "start_time": "2021-09-08T19:02:40.238Z"
   },
   {
    "duration": 8717,
    "start_time": "2021-09-08T19:03:14.099Z"
   },
   {
    "duration": 8440,
    "start_time": "2021-09-08T19:03:33.287Z"
   },
   {
    "duration": 8832,
    "start_time": "2021-09-08T19:05:16.070Z"
   },
   {
    "duration": 8539,
    "start_time": "2021-09-08T19:07:14.429Z"
   },
   {
    "duration": 44,
    "start_time": "2021-09-08T19:07:49.297Z"
   },
   {
    "duration": 36,
    "start_time": "2021-09-08T19:07:58.319Z"
   },
   {
    "duration": 10,
    "start_time": "2021-09-08T19:09:08.429Z"
   },
   {
    "duration": 19,
    "start_time": "2021-09-08T19:11:37.207Z"
   },
   {
    "duration": 12,
    "start_time": "2021-09-08T19:11:45.220Z"
   },
   {
    "duration": 388,
    "start_time": "2021-09-08T19:14:21.518Z"
   },
   {
    "duration": 355,
    "start_time": "2021-09-08T19:15:36.122Z"
   },
   {
    "duration": 370,
    "start_time": "2021-09-08T19:15:49.407Z"
   },
   {
    "duration": 13,
    "start_time": "2021-09-08T19:16:07.921Z"
   },
   {
    "duration": 36,
    "start_time": "2021-09-08T19:16:15.437Z"
   },
   {
    "duration": 360,
    "start_time": "2021-09-08T19:16:29.094Z"
   },
   {
    "duration": 24,
    "start_time": "2021-09-08T19:18:36.380Z"
   },
   {
    "duration": 375,
    "start_time": "2021-09-08T19:19:21.608Z"
   },
   {
    "duration": 357,
    "start_time": "2021-09-08T19:19:24.584Z"
   },
   {
    "duration": 26,
    "start_time": "2021-09-08T19:19:49.254Z"
   },
   {
    "duration": 11,
    "start_time": "2021-09-08T19:20:01.396Z"
   },
   {
    "duration": 356,
    "start_time": "2021-09-08T19:22:32.676Z"
   },
   {
    "duration": 357,
    "start_time": "2021-09-08T19:23:14.074Z"
   },
   {
    "duration": 48,
    "start_time": "2021-09-08T19:23:18.163Z"
   },
   {
    "duration": 53,
    "start_time": "2021-09-08T19:24:13.973Z"
   },
   {
    "duration": 43,
    "start_time": "2021-09-08T19:25:15.549Z"
   },
   {
    "duration": 37,
    "start_time": "2021-09-08T19:25:51.901Z"
   },
   {
    "duration": 50,
    "start_time": "2021-09-08T19:26:18.213Z"
   },
   {
    "duration": 63,
    "start_time": "2021-09-08T19:29:02.665Z"
   },
   {
    "duration": 42,
    "start_time": "2021-09-08T19:29:38.834Z"
   },
   {
    "duration": 60,
    "start_time": "2021-09-08T19:29:47.491Z"
   },
   {
    "duration": 54,
    "start_time": "2021-09-08T19:29:51.496Z"
   },
   {
    "duration": 353,
    "start_time": "2021-09-08T19:30:52.680Z"
   },
   {
    "duration": 372,
    "start_time": "2021-09-08T19:31:08.571Z"
   },
   {
    "duration": 12,
    "start_time": "2021-09-08T19:31:43.408Z"
   },
   {
    "duration": 27,
    "start_time": "2021-09-08T19:33:50.866Z"
   },
   {
    "duration": 54,
    "start_time": "2021-09-08T19:36:03.633Z"
   },
   {
    "duration": 23,
    "start_time": "2021-09-08T19:36:11.793Z"
   },
   {
    "duration": 334,
    "start_time": "2021-09-08T19:41:52.589Z"
   },
   {
    "duration": 23,
    "start_time": "2021-09-08T19:45:12.127Z"
   },
   {
    "duration": 26,
    "start_time": "2021-09-08T19:45:24.163Z"
   },
   {
    "duration": 31,
    "start_time": "2021-09-08T19:46:03.785Z"
   },
   {
    "duration": 16,
    "start_time": "2021-09-08T19:47:35.390Z"
   },
   {
    "duration": 26,
    "start_time": "2021-09-08T19:47:44.029Z"
   },
   {
    "duration": 30,
    "start_time": "2021-09-08T19:49:16.277Z"
   },
   {
    "duration": 47,
    "start_time": "2021-09-08T19:49:24.467Z"
   },
   {
    "duration": 44,
    "start_time": "2021-09-08T19:49:51.466Z"
   },
   {
    "duration": 39,
    "start_time": "2021-09-08T19:50:33.637Z"
   },
   {
    "duration": 39,
    "start_time": "2021-09-08T19:50:47.931Z"
   },
   {
    "duration": 42,
    "start_time": "2021-09-08T19:52:12.021Z"
   },
   {
    "duration": 29,
    "start_time": "2021-09-08T19:52:21.896Z"
   },
   {
    "duration": 34,
    "start_time": "2021-09-08T19:55:33.609Z"
   },
   {
    "duration": 37,
    "start_time": "2021-09-08T19:55:58.761Z"
   },
   {
    "duration": 412,
    "start_time": "2021-09-09T08:31:37.598Z"
   },
   {
    "duration": 1311,
    "start_time": "2021-09-09T08:31:45.649Z"
   },
   {
    "duration": 434,
    "start_time": "2021-09-09T08:31:46.962Z"
   },
   {
    "duration": 22,
    "start_time": "2021-09-09T08:31:47.399Z"
   },
   {
    "duration": 375,
    "start_time": "2021-09-09T08:31:47.424Z"
   },
   {
    "duration": 19,
    "start_time": "2021-09-09T08:31:47.800Z"
   },
   {
    "duration": 2008,
    "start_time": "2021-09-09T08:31:47.821Z"
   },
   {
    "duration": 99,
    "start_time": "2021-09-09T08:31:49.831Z"
   },
   {
    "duration": 12,
    "start_time": "2021-09-09T08:31:49.932Z"
   },
   {
    "duration": 7,
    "start_time": "2021-09-09T08:31:49.947Z"
   },
   {
    "duration": 124,
    "start_time": "2021-09-09T08:31:49.957Z"
   },
   {
    "duration": 281,
    "start_time": "2021-09-09T08:31:50.083Z"
   },
   {
    "duration": 298,
    "start_time": "2021-09-09T08:31:50.366Z"
   },
   {
    "duration": 126,
    "start_time": "2021-09-09T08:31:50.667Z"
   },
   {
    "duration": 109,
    "start_time": "2021-09-09T08:31:50.795Z"
   },
   {
    "duration": 3,
    "start_time": "2021-09-09T08:31:50.906Z"
   },
   {
    "duration": 214,
    "start_time": "2021-09-09T08:31:50.912Z"
   },
   {
    "duration": 58,
    "start_time": "2021-09-09T08:31:51.128Z"
   },
   {
    "duration": 154,
    "start_time": "2021-09-09T08:31:51.188Z"
   },
   {
    "duration": 92,
    "start_time": "2021-09-09T08:31:51.344Z"
   },
   {
    "duration": 88,
    "start_time": "2021-09-09T08:31:51.437Z"
   },
   {
    "duration": 68,
    "start_time": "2021-09-09T08:31:51.528Z"
   },
   {
    "duration": 27,
    "start_time": "2021-09-09T08:31:51.598Z"
   },
   {
    "duration": 401,
    "start_time": "2021-09-09T08:31:51.628Z"
   },
   {
    "duration": 87,
    "start_time": "2021-09-09T08:31:52.031Z"
   },
   {
    "duration": 14,
    "start_time": "2021-09-09T08:31:52.120Z"
   },
   {
    "duration": 196,
    "start_time": "2021-09-09T08:31:52.136Z"
   },
   {
    "duration": 44,
    "start_time": "2021-09-09T08:31:52.337Z"
   },
   {
    "duration": 22,
    "start_time": "2021-09-09T08:31:52.385Z"
   },
   {
    "duration": 189,
    "start_time": "2021-09-09T08:31:52.409Z"
   },
   {
    "duration": 52,
    "start_time": "2021-09-09T08:31:52.601Z"
   },
   {
    "duration": 55,
    "start_time": "2021-09-09T08:31:52.655Z"
   },
   {
    "duration": 29,
    "start_time": "2021-09-09T08:31:52.713Z"
   },
   {
    "duration": 64,
    "start_time": "2021-09-09T08:31:52.744Z"
   },
   {
    "duration": 94,
    "start_time": "2021-09-09T08:31:52.810Z"
   },
   {
    "duration": 14,
    "start_time": "2021-09-09T08:31:52.907Z"
   },
   {
    "duration": 88,
    "start_time": "2021-09-09T08:31:52.924Z"
   },
   {
    "duration": 28,
    "start_time": "2021-09-09T08:31:53.014Z"
   },
   {
    "duration": 104,
    "start_time": "2021-09-09T08:31:53.045Z"
   },
   {
    "duration": 25,
    "start_time": "2021-09-09T08:31:53.152Z"
   },
   {
    "duration": 29,
    "start_time": "2021-09-09T08:31:53.180Z"
   },
   {
    "duration": 15,
    "start_time": "2021-09-09T08:31:53.211Z"
   },
   {
    "duration": 366,
    "start_time": "2021-09-09T08:31:53.229Z"
   },
   {
    "duration": 15,
    "start_time": "2021-09-09T08:31:53.597Z"
   },
   {
    "duration": 250,
    "start_time": "2021-09-09T08:31:53.614Z"
   },
   {
    "duration": 33,
    "start_time": "2021-09-09T08:31:53.866Z"
   },
   {
    "duration": 20,
    "start_time": "2021-09-09T08:31:53.902Z"
   },
   {
    "duration": 73,
    "start_time": "2021-09-09T08:31:53.924Z"
   },
   {
    "duration": 54,
    "start_time": "2021-09-09T08:31:54.000Z"
   },
   {
    "duration": 34,
    "start_time": "2021-09-09T08:31:54.056Z"
   },
   {
    "duration": 126,
    "start_time": "2021-09-09T08:31:54.093Z"
   },
   {
    "duration": -298,
    "start_time": "2021-09-09T08:31:54.520Z"
   },
   {
    "duration": -302,
    "start_time": "2021-09-09T08:31:54.525Z"
   },
   {
    "duration": 130,
    "start_time": "2021-09-09T08:32:05.467Z"
   },
   {
    "duration": 25,
    "start_time": "2021-09-09T08:32:10.052Z"
   },
   {
    "duration": 6,
    "start_time": "2021-09-09T08:32:14.346Z"
   },
   {
    "duration": 16,
    "start_time": "2021-09-09T08:33:47.546Z"
   },
   {
    "duration": 15,
    "start_time": "2021-09-09T08:34:53.716Z"
   },
   {
    "duration": 15,
    "start_time": "2021-09-09T08:35:20.171Z"
   },
   {
    "duration": 17,
    "start_time": "2021-09-09T08:35:49.403Z"
   },
   {
    "duration": 216,
    "start_time": "2021-09-09T08:36:09.020Z"
   },
   {
    "duration": 19,
    "start_time": "2021-09-09T08:36:17.687Z"
   },
   {
    "duration": 928,
    "start_time": "2021-09-09T11:23:02.915Z"
   },
   {
    "duration": 1975,
    "start_time": "2021-09-09T11:23:08.434Z"
   },
   {
    "duration": 401,
    "start_time": "2021-09-09T11:23:10.412Z"
   },
   {
    "duration": 38,
    "start_time": "2021-09-09T11:23:10.816Z"
   },
   {
    "duration": 390,
    "start_time": "2021-09-09T11:23:10.857Z"
   },
   {
    "duration": 23,
    "start_time": "2021-09-09T11:23:11.249Z"
   },
   {
    "duration": 215,
    "start_time": "2021-09-09T11:23:11.274Z"
   },
   {
    "duration": 55,
    "start_time": "2021-09-09T11:23:11.491Z"
   },
   {
    "duration": 13,
    "start_time": "2021-09-09T11:23:11.551Z"
   },
   {
    "duration": 11,
    "start_time": "2021-09-09T11:23:11.567Z"
   },
   {
    "duration": 72,
    "start_time": "2021-09-09T11:23:11.581Z"
   },
   {
    "duration": 302,
    "start_time": "2021-09-09T11:23:11.656Z"
   },
   {
    "duration": 330,
    "start_time": "2021-09-09T11:23:11.961Z"
   },
   {
    "duration": 123,
    "start_time": "2021-09-09T11:23:12.293Z"
   },
   {
    "duration": 144,
    "start_time": "2021-09-09T11:23:12.418Z"
   },
   {
    "duration": 4,
    "start_time": "2021-09-09T11:23:12.564Z"
   },
   {
    "duration": 238,
    "start_time": "2021-09-09T11:23:12.571Z"
   },
   {
    "duration": 70,
    "start_time": "2021-09-09T11:23:12.811Z"
   },
   {
    "duration": 175,
    "start_time": "2021-09-09T11:23:12.884Z"
   },
   {
    "duration": 108,
    "start_time": "2021-09-09T11:23:13.061Z"
   },
   {
    "duration": 108,
    "start_time": "2021-09-09T11:23:13.171Z"
   },
   {
    "duration": 82,
    "start_time": "2021-09-09T11:23:13.281Z"
   },
   {
    "duration": 32,
    "start_time": "2021-09-09T11:23:13.365Z"
   },
   {
    "duration": 486,
    "start_time": "2021-09-09T11:23:13.402Z"
   },
   {
    "duration": 98,
    "start_time": "2021-09-09T11:23:13.892Z"
   },
   {
    "duration": 14,
    "start_time": "2021-09-09T11:23:13.992Z"
   },
   {
    "duration": 196,
    "start_time": "2021-09-09T11:23:14.008Z"
   },
   {
    "duration": 57,
    "start_time": "2021-09-09T11:23:14.206Z"
   },
   {
    "duration": 20,
    "start_time": "2021-09-09T11:23:14.266Z"
   },
   {
    "duration": 236,
    "start_time": "2021-09-09T11:23:14.289Z"
   },
   {
    "duration": 60,
    "start_time": "2021-09-09T11:23:14.527Z"
   },
   {
    "duration": 41,
    "start_time": "2021-09-09T11:23:14.589Z"
   },
   {
    "duration": 46,
    "start_time": "2021-09-09T11:23:14.632Z"
   },
   {
    "duration": 52,
    "start_time": "2021-09-09T11:23:14.680Z"
   },
   {
    "duration": 82,
    "start_time": "2021-09-09T11:23:14.734Z"
   },
   {
    "duration": 13,
    "start_time": "2021-09-09T11:23:14.819Z"
   },
   {
    "duration": 75,
    "start_time": "2021-09-09T11:23:14.834Z"
   },
   {
    "duration": 44,
    "start_time": "2021-09-09T11:23:14.912Z"
   },
   {
    "duration": 100,
    "start_time": "2021-09-09T11:23:14.958Z"
   },
   {
    "duration": 14,
    "start_time": "2021-09-09T11:23:15.060Z"
   },
   {
    "duration": 27,
    "start_time": "2021-09-09T11:23:15.077Z"
   },
   {
    "duration": 53,
    "start_time": "2021-09-09T11:23:15.107Z"
   },
   {
    "duration": 328,
    "start_time": "2021-09-09T11:23:15.163Z"
   },
   {
    "duration": 16,
    "start_time": "2021-09-09T11:23:15.494Z"
   },
   {
    "duration": 327,
    "start_time": "2021-09-09T11:23:15.513Z"
   },
   {
    "duration": 44,
    "start_time": "2021-09-09T11:23:15.842Z"
   },
   {
    "duration": 22,
    "start_time": "2021-09-09T11:23:15.888Z"
   },
   {
    "duration": 78,
    "start_time": "2021-09-09T11:23:15.913Z"
   },
   {
    "duration": 65,
    "start_time": "2021-09-09T11:23:15.993Z"
   },
   {
    "duration": 24,
    "start_time": "2021-09-09T11:23:16.060Z"
   },
   {
    "duration": 35,
    "start_time": "2021-09-09T11:23:16.086Z"
   },
   {
    "duration": 22,
    "start_time": "2021-09-09T11:23:16.155Z"
   },
   {
    "duration": 20,
    "start_time": "2021-09-09T11:23:16.180Z"
   },
   {
    "duration": 1252,
    "start_time": "2021-09-09T11:23:16.203Z"
   },
   {
    "duration": 6,
    "start_time": "2021-09-09T11:23:55.470Z"
   },
   {
    "duration": 7,
    "start_time": "2021-09-09T11:24:11.102Z"
   },
   {
    "duration": 6,
    "start_time": "2021-09-09T11:25:32.185Z"
   },
   {
    "duration": 8,
    "start_time": "2021-09-09T11:26:10.562Z"
   },
   {
    "duration": 8,
    "start_time": "2021-09-09T11:26:36.396Z"
   },
   {
    "duration": 8,
    "start_time": "2021-09-09T11:28:02.279Z"
   },
   {
    "duration": 18,
    "start_time": "2021-09-09T11:28:45.002Z"
   },
   {
    "duration": 18,
    "start_time": "2021-09-09T11:29:00.923Z"
   },
   {
    "duration": 638,
    "start_time": "2021-09-09T11:44:28.981Z"
   },
   {
    "duration": 90,
    "start_time": "2021-09-09T11:45:34.084Z"
   },
   {
    "duration": 94,
    "start_time": "2021-09-09T11:45:52.310Z"
   },
   {
    "duration": 398,
    "start_time": "2021-09-09T11:49:34.810Z"
   },
   {
    "duration": 403,
    "start_time": "2021-09-09T11:49:44.232Z"
   },
   {
    "duration": 4,
    "start_time": "2021-09-09T11:49:55.975Z"
   },
   {
    "duration": 328,
    "start_time": "2021-09-09T11:49:55.982Z"
   },
   {
    "duration": 40,
    "start_time": "2021-09-09T11:49:56.313Z"
   },
   {
    "duration": 300,
    "start_time": "2021-09-09T11:49:56.356Z"
   },
   {
    "duration": 23,
    "start_time": "2021-09-09T11:49:56.659Z"
   },
   {
    "duration": 271,
    "start_time": "2021-09-09T11:49:56.685Z"
   },
   {
    "duration": 108,
    "start_time": "2021-09-09T11:49:56.958Z"
   },
   {
    "duration": 14,
    "start_time": "2021-09-09T11:49:57.068Z"
   },
   {
    "duration": 10,
    "start_time": "2021-09-09T11:49:57.087Z"
   },
   {
    "duration": 87,
    "start_time": "2021-09-09T11:49:57.100Z"
   },
   {
    "duration": 296,
    "start_time": "2021-09-09T11:49:57.189Z"
   },
   {
    "duration": 330,
    "start_time": "2021-09-09T11:49:57.488Z"
   },
   {
    "duration": 119,
    "start_time": "2021-09-09T11:49:57.821Z"
   },
   {
    "duration": 132,
    "start_time": "2021-09-09T11:49:57.943Z"
   },
   {
    "duration": 4,
    "start_time": "2021-09-09T11:49:58.077Z"
   },
   {
    "duration": 227,
    "start_time": "2021-09-09T11:49:58.083Z"
   },
   {
    "duration": 76,
    "start_time": "2021-09-09T11:49:58.313Z"
   },
   {
    "duration": 182,
    "start_time": "2021-09-09T11:49:58.392Z"
   },
   {
    "duration": 110,
    "start_time": "2021-09-09T11:49:58.577Z"
   },
   {
    "duration": 93,
    "start_time": "2021-09-09T11:49:58.690Z"
   },
   {
    "duration": 82,
    "start_time": "2021-09-09T11:49:58.785Z"
   },
   {
    "duration": 31,
    "start_time": "2021-09-09T11:49:58.870Z"
   },
   {
    "duration": 486,
    "start_time": "2021-09-09T11:49:58.903Z"
   },
   {
    "duration": 95,
    "start_time": "2021-09-09T11:49:59.391Z"
   },
   {
    "duration": 8,
    "start_time": "2021-09-09T11:49:59.488Z"
   },
   {
    "duration": 215,
    "start_time": "2021-09-09T11:49:59.499Z"
   },
   {
    "duration": 75,
    "start_time": "2021-09-09T11:49:59.722Z"
   },
   {
    "duration": 53,
    "start_time": "2021-09-09T11:49:59.801Z"
   },
   {
    "duration": 252,
    "start_time": "2021-09-09T11:49:59.858Z"
   },
   {
    "duration": 63,
    "start_time": "2021-09-09T11:50:00.114Z"
   },
   {
    "duration": 44,
    "start_time": "2021-09-09T11:50:00.179Z"
   },
   {
    "duration": 53,
    "start_time": "2021-09-09T11:50:00.225Z"
   },
   {
    "duration": 53,
    "start_time": "2021-09-09T11:50:00.281Z"
   },
   {
    "duration": 120,
    "start_time": "2021-09-09T11:50:00.336Z"
   },
   {
    "duration": 14,
    "start_time": "2021-09-09T11:50:00.458Z"
   },
   {
    "duration": 93,
    "start_time": "2021-09-09T11:50:00.474Z"
   },
   {
    "duration": 27,
    "start_time": "2021-09-09T11:50:00.569Z"
   },
   {
    "duration": 126,
    "start_time": "2021-09-09T11:50:00.599Z"
   },
   {
    "duration": 29,
    "start_time": "2021-09-09T11:50:00.728Z"
   },
   {
    "duration": 35,
    "start_time": "2021-09-09T11:50:00.759Z"
   },
   {
    "duration": 14,
    "start_time": "2021-09-09T11:50:00.797Z"
   },
   {
    "duration": 346,
    "start_time": "2021-09-09T11:50:00.854Z"
   },
   {
    "duration": 16,
    "start_time": "2021-09-09T11:50:01.202Z"
   },
   {
    "duration": 340,
    "start_time": "2021-09-09T11:50:01.220Z"
   },
   {
    "duration": 38,
    "start_time": "2021-09-09T11:50:01.562Z"
   },
   {
    "duration": 57,
    "start_time": "2021-09-09T11:50:01.603Z"
   },
   {
    "duration": 54,
    "start_time": "2021-09-09T11:50:01.662Z"
   },
   {
    "duration": 76,
    "start_time": "2021-09-09T11:50:01.719Z"
   },
   {
    "duration": 21,
    "start_time": "2021-09-09T11:50:01.797Z"
   },
   {
    "duration": 70,
    "start_time": "2021-09-09T11:50:01.821Z"
   },
   {
    "duration": 53,
    "start_time": "2021-09-09T11:50:01.893Z"
   },
   {
    "duration": 56,
    "start_time": "2021-09-09T11:50:01.949Z"
   },
   {
    "duration": 27,
    "start_time": "2021-09-09T11:50:02.007Z"
   },
   {
    "duration": 585,
    "start_time": "2021-09-09T11:50:02.037Z"
   },
   {
    "duration": 142,
    "start_time": "2021-09-09T11:50:18.849Z"
   },
   {
    "duration": 97,
    "start_time": "2021-09-09T11:50:36.345Z"
   },
   {
    "duration": 14,
    "start_time": "2021-09-09T11:50:40.507Z"
   },
   {
    "duration": 26,
    "start_time": "2021-09-09T11:50:47.395Z"
   },
   {
    "duration": 15,
    "start_time": "2021-09-09T11:50:55.320Z"
   },
   {
    "duration": 316,
    "start_time": "2021-09-09T11:50:59.077Z"
   },
   {
    "duration": 15,
    "start_time": "2021-09-09T11:51:03.374Z"
   },
   {
    "duration": 468,
    "start_time": "2021-09-09T11:51:16.233Z"
   },
   {
    "duration": 399,
    "start_time": "2021-09-09T11:51:33.323Z"
   },
   {
    "duration": 9,
    "start_time": "2021-09-09T11:51:47.342Z"
   },
   {
    "duration": 109,
    "start_time": "2021-09-09T11:52:32.702Z"
   },
   {
    "duration": 39,
    "start_time": "2021-09-09T11:53:05.316Z"
   },
   {
    "duration": 378,
    "start_time": "2021-09-09T11:56:11.783Z"
   },
   {
    "duration": 473,
    "start_time": "2021-09-09T11:56:31.402Z"
   },
   {
    "duration": 1137,
    "start_time": "2021-09-09T11:56:59.672Z"
   },
   {
    "duration": 29,
    "start_time": "2021-09-09T11:57:51.153Z"
   },
   {
    "duration": 31,
    "start_time": "2021-09-09T11:58:01.942Z"
   },
   {
    "duration": 390,
    "start_time": "2021-09-09T11:58:49.667Z"
   },
   {
    "duration": 172,
    "start_time": "2021-09-09T11:58:57.103Z"
   },
   {
    "duration": 198,
    "start_time": "2021-09-09T11:59:08.728Z"
   },
   {
    "duration": 769,
    "start_time": "2021-09-09T12:01:03.320Z"
   },
   {
    "duration": 376,
    "start_time": "2021-09-09T12:01:47.611Z"
   },
   {
    "duration": 6,
    "start_time": "2021-09-09T12:09:37.243Z"
   },
   {
    "duration": 411,
    "start_time": "2021-09-09T12:09:52.601Z"
   },
   {
    "duration": 502,
    "start_time": "2021-09-09T12:10:06.886Z"
   },
   {
    "duration": 377,
    "start_time": "2021-09-09T12:10:19.425Z"
   },
   {
    "duration": 361,
    "start_time": "2021-09-09T12:10:32.051Z"
   },
   {
    "duration": 302,
    "start_time": "2021-09-09T17:54:24.884Z"
   },
   {
    "duration": 1156,
    "start_time": "2021-09-09T17:54:54.038Z"
   },
   {
    "duration": 309,
    "start_time": "2021-09-09T17:54:55.196Z"
   },
   {
    "duration": 21,
    "start_time": "2021-09-09T17:54:55.507Z"
   },
   {
    "duration": 325,
    "start_time": "2021-09-09T17:54:55.529Z"
   },
   {
    "duration": 16,
    "start_time": "2021-09-09T17:54:55.856Z"
   },
   {
    "duration": 1806,
    "start_time": "2021-09-09T17:54:55.874Z"
   },
   {
    "duration": 70,
    "start_time": "2021-09-09T17:54:57.682Z"
   },
   {
    "duration": 9,
    "start_time": "2021-09-09T17:54:57.754Z"
   },
   {
    "duration": 12,
    "start_time": "2021-09-09T17:54:57.765Z"
   },
   {
    "duration": 122,
    "start_time": "2021-09-09T17:54:57.779Z"
   },
   {
    "duration": 234,
    "start_time": "2021-09-09T17:54:57.902Z"
   },
   {
    "duration": 241,
    "start_time": "2021-09-09T17:54:58.138Z"
   },
   {
    "duration": 74,
    "start_time": "2021-09-09T17:54:58.381Z"
   },
   {
    "duration": 105,
    "start_time": "2021-09-09T17:54:58.457Z"
   },
   {
    "duration": 3,
    "start_time": "2021-09-09T17:54:58.563Z"
   },
   {
    "duration": 177,
    "start_time": "2021-09-09T17:54:58.567Z"
   },
   {
    "duration": 48,
    "start_time": "2021-09-09T17:54:58.746Z"
   },
   {
    "duration": 125,
    "start_time": "2021-09-09T17:54:58.796Z"
   },
   {
    "duration": 79,
    "start_time": "2021-09-09T17:54:58.923Z"
   },
   {
    "duration": 82,
    "start_time": "2021-09-09T17:54:59.004Z"
   },
   {
    "duration": 50,
    "start_time": "2021-09-09T17:54:59.088Z"
   },
   {
    "duration": 18,
    "start_time": "2021-09-09T17:54:59.140Z"
   },
   {
    "duration": 340,
    "start_time": "2021-09-09T17:54:59.162Z"
   },
   {
    "duration": 72,
    "start_time": "2021-09-09T17:54:59.504Z"
   },
   {
    "duration": 6,
    "start_time": "2021-09-09T17:54:59.585Z"
   },
   {
    "duration": 148,
    "start_time": "2021-09-09T17:54:59.593Z"
   },
   {
    "duration": 25,
    "start_time": "2021-09-09T17:54:59.743Z"
   },
   {
    "duration": 25,
    "start_time": "2021-09-09T17:54:59.770Z"
   },
   {
    "duration": 155,
    "start_time": "2021-09-09T17:54:59.797Z"
   },
   {
    "duration": 43,
    "start_time": "2021-09-09T17:54:59.954Z"
   },
   {
    "duration": 34,
    "start_time": "2021-09-09T17:54:59.999Z"
   },
   {
    "duration": 17,
    "start_time": "2021-09-09T17:55:00.035Z"
   },
   {
    "duration": 53,
    "start_time": "2021-09-09T17:55:00.054Z"
   },
   {
    "duration": 80,
    "start_time": "2021-09-09T17:55:00.110Z"
   },
   {
    "duration": 10,
    "start_time": "2021-09-09T17:55:00.192Z"
   },
   {
    "duration": 48,
    "start_time": "2021-09-09T17:55:00.204Z"
   },
   {
    "duration": 38,
    "start_time": "2021-09-09T17:55:00.254Z"
   },
   {
    "duration": 71,
    "start_time": "2021-09-09T17:55:00.294Z"
   },
   {
    "duration": 23,
    "start_time": "2021-09-09T17:55:00.366Z"
   },
   {
    "duration": 18,
    "start_time": "2021-09-09T17:55:00.391Z"
   },
   {
    "duration": 15,
    "start_time": "2021-09-09T17:55:00.411Z"
   },
   {
    "duration": 239,
    "start_time": "2021-09-09T17:55:00.428Z"
   },
   {
    "duration": 19,
    "start_time": "2021-09-09T17:55:00.670Z"
   },
   {
    "duration": 236,
    "start_time": "2021-09-09T17:55:00.691Z"
   },
   {
    "duration": 6,
    "start_time": "2021-09-09T17:55:00.929Z"
   },
   {
    "duration": 42,
    "start_time": "2021-09-09T17:55:00.937Z"
   },
   {
    "duration": 16,
    "start_time": "2021-09-09T17:55:00.981Z"
   },
   {
    "duration": 61,
    "start_time": "2021-09-09T17:55:00.999Z"
   },
   {
    "duration": 52,
    "start_time": "2021-09-09T17:55:01.062Z"
   },
   {
    "duration": 17,
    "start_time": "2021-09-09T17:55:01.115Z"
   },
   {
    "duration": 29,
    "start_time": "2021-09-09T17:55:01.134Z"
   },
   {
    "duration": 26,
    "start_time": "2021-09-09T17:55:01.165Z"
   },
   {
    "duration": 27,
    "start_time": "2021-09-09T17:55:01.193Z"
   },
   {
    "duration": 20,
    "start_time": "2021-09-09T17:55:01.222Z"
   },
   {
    "duration": 460,
    "start_time": "2021-09-09T17:55:01.243Z"
   },
   {
    "duration": -799,
    "start_time": "2021-09-09T17:55:02.504Z"
   },
   {
    "duration": 56,
    "start_time": "2021-09-09T17:55:12.823Z"
   },
   {
    "duration": 55,
    "start_time": "2021-09-09T17:55:39.625Z"
   },
   {
    "duration": 36,
    "start_time": "2021-09-09T17:56:45.123Z"
   },
   {
    "duration": 91,
    "start_time": "2021-09-09T17:56:59.585Z"
   },
   {
    "duration": 10,
    "start_time": "2021-09-09T17:57:07.901Z"
   },
   {
    "duration": 67,
    "start_time": "2021-09-09T17:57:25.296Z"
   },
   {
    "duration": 10,
    "start_time": "2021-09-09T17:57:29.980Z"
   },
   {
    "duration": 18,
    "start_time": "2021-09-09T17:57:45.250Z"
   },
   {
    "duration": 7,
    "start_time": "2021-09-09T17:58:15.345Z"
   },
   {
    "duration": 25,
    "start_time": "2021-09-09T17:58:23.200Z"
   },
   {
    "duration": 22,
    "start_time": "2021-09-09T17:58:48.710Z"
   },
   {
    "duration": 23,
    "start_time": "2021-09-09T17:59:16.661Z"
   },
   {
    "duration": 23,
    "start_time": "2021-09-09T17:59:39.515Z"
   },
   {
    "duration": 16,
    "start_time": "2021-09-09T17:59:54.879Z"
   },
   {
    "duration": 20,
    "start_time": "2021-09-09T18:00:38.292Z"
   },
   {
    "duration": 15,
    "start_time": "2021-09-09T18:00:42.234Z"
   },
   {
    "duration": 35,
    "start_time": "2021-09-09T18:00:51.950Z"
   },
   {
    "duration": 38,
    "start_time": "2021-09-09T18:01:01.782Z"
   },
   {
    "duration": 14,
    "start_time": "2021-09-09T18:01:06.845Z"
   },
   {
    "duration": 314,
    "start_time": "2021-09-09T18:01:55.732Z"
   },
   {
    "duration": 6701,
    "start_time": "2021-09-09T18:02:33.165Z"
   },
   {
    "duration": 16,
    "start_time": "2021-09-09T18:02:53.593Z"
   },
   {
    "duration": 4,
    "start_time": "2021-09-09T18:03:00.519Z"
   },
   {
    "duration": 294,
    "start_time": "2021-09-09T18:03:00.525Z"
   },
   {
    "duration": 20,
    "start_time": "2021-09-09T18:03:00.821Z"
   },
   {
    "duration": 1283,
    "start_time": "2021-09-09T18:03:00.843Z"
   },
   {
    "duration": 18,
    "start_time": "2021-09-09T18:03:02.128Z"
   },
   {
    "duration": 289,
    "start_time": "2021-09-09T18:03:02.147Z"
   },
   {
    "duration": 49,
    "start_time": "2021-09-09T18:03:02.438Z"
   },
   {
    "duration": 8,
    "start_time": "2021-09-09T18:03:02.489Z"
   },
   {
    "duration": 11,
    "start_time": "2021-09-09T18:03:02.499Z"
   },
   {
    "duration": 381,
    "start_time": "2021-09-09T18:03:02.512Z"
   },
   {
    "duration": 222,
    "start_time": "2021-09-09T18:03:02.895Z"
   },
   {
    "duration": 238,
    "start_time": "2021-09-09T18:03:03.119Z"
   },
   {
    "duration": 82,
    "start_time": "2021-09-09T18:03:03.360Z"
   },
   {
    "duration": 93,
    "start_time": "2021-09-09T18:03:03.444Z"
   },
   {
    "duration": 3,
    "start_time": "2021-09-09T18:03:03.538Z"
   },
   {
    "duration": 181,
    "start_time": "2021-09-09T18:03:03.543Z"
   },
   {
    "duration": 44,
    "start_time": "2021-09-09T18:03:03.725Z"
   },
   {
    "duration": 137,
    "start_time": "2021-09-09T18:03:03.771Z"
   },
   {
    "duration": 75,
    "start_time": "2021-09-09T18:03:03.912Z"
   },
   {
    "duration": 61,
    "start_time": "2021-09-09T18:03:03.989Z"
   },
   {
    "duration": 60,
    "start_time": "2021-09-09T18:03:04.052Z"
   },
   {
    "duration": 21,
    "start_time": "2021-09-09T18:03:04.114Z"
   },
   {
    "duration": 328,
    "start_time": "2021-09-09T18:03:04.137Z"
   },
   {
    "duration": 80,
    "start_time": "2021-09-09T18:03:04.467Z"
   },
   {
    "duration": 8,
    "start_time": "2021-09-09T18:03:04.548Z"
   },
   {
    "duration": 141,
    "start_time": "2021-09-09T18:03:04.558Z"
   },
   {
    "duration": 24,
    "start_time": "2021-09-09T18:03:04.701Z"
   },
   {
    "duration": 24,
    "start_time": "2021-09-09T18:03:04.726Z"
   },
   {
    "duration": 156,
    "start_time": "2021-09-09T18:03:04.752Z"
   },
   {
    "duration": 36,
    "start_time": "2021-09-09T18:03:04.910Z"
   },
   {
    "duration": 51,
    "start_time": "2021-09-09T18:03:04.947Z"
   },
   {
    "duration": 37,
    "start_time": "2021-09-09T18:03:05.000Z"
   },
   {
    "duration": 70,
    "start_time": "2021-09-09T18:03:05.039Z"
   },
   {
    "duration": 75,
    "start_time": "2021-09-09T18:03:05.111Z"
   },
   {
    "duration": 11,
    "start_time": "2021-09-09T18:03:05.188Z"
   },
   {
    "duration": 46,
    "start_time": "2021-09-09T18:03:05.202Z"
   },
   {
    "duration": 96,
    "start_time": "2021-09-09T18:03:05.250Z"
   },
   {
    "duration": 10,
    "start_time": "2021-09-09T18:03:05.348Z"
   },
   {
    "duration": 37,
    "start_time": "2021-09-09T18:03:05.360Z"
   },
   {
    "duration": 9,
    "start_time": "2021-09-09T18:03:05.399Z"
   },
   {
    "duration": 229,
    "start_time": "2021-09-09T18:03:05.410Z"
   },
   {
    "duration": 10,
    "start_time": "2021-09-09T18:03:05.640Z"
   },
   {
    "duration": 219,
    "start_time": "2021-09-09T18:03:05.651Z"
   },
   {
    "duration": 17,
    "start_time": "2021-09-09T18:03:05.872Z"
   },
   {
    "duration": 23,
    "start_time": "2021-09-09T18:03:05.891Z"
   },
   {
    "duration": 17,
    "start_time": "2021-09-09T18:03:05.916Z"
   },
   {
    "duration": 67,
    "start_time": "2021-09-09T18:03:05.935Z"
   },
   {
    "duration": 39,
    "start_time": "2021-09-09T18:03:06.004Z"
   },
   {
    "duration": 41,
    "start_time": "2021-09-09T18:03:06.045Z"
   },
   {
    "duration": 25,
    "start_time": "2021-09-09T18:03:06.089Z"
   },
   {
    "duration": 14,
    "start_time": "2021-09-09T18:03:06.116Z"
   },
   {
    "duration": 13,
    "start_time": "2021-09-09T18:03:06.132Z"
   },
   {
    "duration": 40,
    "start_time": "2021-09-09T18:03:06.147Z"
   },
   {
    "duration": 1191,
    "start_time": "2021-09-09T18:19:59.076Z"
   },
   {
    "duration": 13,
    "start_time": "2021-09-09T18:22:18.365Z"
   },
   {
    "duration": 13,
    "start_time": "2021-09-09T18:22:32.736Z"
   },
   {
    "duration": 13,
    "start_time": "2021-09-09T18:22:50.977Z"
   },
   {
    "duration": 17,
    "start_time": "2021-09-09T18:23:03.469Z"
   },
   {
    "duration": 27,
    "start_time": "2021-09-09T18:24:02.092Z"
   },
   {
    "duration": 27,
    "start_time": "2021-09-09T18:24:42.234Z"
   },
   {
    "duration": 26,
    "start_time": "2021-09-09T18:25:12.703Z"
   },
   {
    "duration": 27,
    "start_time": "2021-09-09T18:25:24.739Z"
   },
   {
    "duration": 27,
    "start_time": "2021-09-09T18:25:33.441Z"
   },
   {
    "duration": 33,
    "start_time": "2021-09-09T18:27:19.181Z"
   },
   {
    "duration": 30,
    "start_time": "2021-09-09T19:06:10.671Z"
   },
   {
    "duration": 35,
    "start_time": "2021-09-09T19:06:34.498Z"
   },
   {
    "duration": 185,
    "start_time": "2021-09-09T19:07:31.158Z"
   },
   {
    "duration": 278,
    "start_time": "2021-09-09T19:07:51.481Z"
   },
   {
    "duration": 28,
    "start_time": "2021-09-09T19:09:09.664Z"
   },
   {
    "duration": 29,
    "start_time": "2021-09-09T19:09:36.879Z"
   },
   {
    "duration": 6,
    "start_time": "2021-09-09T19:14:57.095Z"
   },
   {
    "duration": 6,
    "start_time": "2021-09-09T19:15:02.819Z"
   },
   {
    "duration": 301,
    "start_time": "2021-09-11T07:01:56.974Z"
   },
   {
    "duration": 1503,
    "start_time": "2021-09-11T07:02:01.737Z"
   },
   {
    "duration": 438,
    "start_time": "2021-09-11T07:02:03.243Z"
   },
   {
    "duration": 27,
    "start_time": "2021-09-11T07:02:03.684Z"
   },
   {
    "duration": 397,
    "start_time": "2021-09-11T07:02:03.714Z"
   },
   {
    "duration": 23,
    "start_time": "2021-09-11T07:02:04.113Z"
   },
   {
    "duration": 1326,
    "start_time": "2021-09-11T07:02:04.138Z"
   },
   {
    "duration": 595,
    "start_time": "2021-09-11T07:02:05.466Z"
   },
   {
    "duration": 12,
    "start_time": "2021-09-11T07:02:06.064Z"
   },
   {
    "duration": 13,
    "start_time": "2021-09-11T07:02:06.080Z"
   },
   {
    "duration": 108,
    "start_time": "2021-09-11T07:02:06.096Z"
   },
   {
    "duration": 566,
    "start_time": "2021-09-11T07:02:06.207Z"
   },
   {
    "duration": 411,
    "start_time": "2021-09-11T07:02:06.776Z"
   },
   {
    "duration": 126,
    "start_time": "2021-09-11T07:02:07.189Z"
   },
   {
    "duration": 149,
    "start_time": "2021-09-11T07:02:07.318Z"
   },
   {
    "duration": 4,
    "start_time": "2021-09-11T07:02:07.469Z"
   },
   {
    "duration": 245,
    "start_time": "2021-09-11T07:02:07.475Z"
   },
   {
    "duration": 73,
    "start_time": "2021-09-11T07:02:07.723Z"
   },
   {
    "duration": 183,
    "start_time": "2021-09-11T07:02:07.798Z"
   },
   {
    "duration": 112,
    "start_time": "2021-09-11T07:02:07.983Z"
   },
   {
    "duration": 111,
    "start_time": "2021-09-11T07:02:08.097Z"
   },
   {
    "duration": 88,
    "start_time": "2021-09-11T07:02:08.211Z"
   },
   {
    "duration": 34,
    "start_time": "2021-09-11T07:02:08.302Z"
   },
   {
    "duration": 551,
    "start_time": "2021-09-11T07:02:08.339Z"
   },
   {
    "duration": 108,
    "start_time": "2021-09-11T07:02:08.892Z"
   },
   {
    "duration": 17,
    "start_time": "2021-09-11T07:02:09.002Z"
   },
   {
    "duration": 219,
    "start_time": "2021-09-11T07:02:09.021Z"
   },
   {
    "duration": 52,
    "start_time": "2021-09-11T07:02:09.246Z"
   },
   {
    "duration": 19,
    "start_time": "2021-09-11T07:02:09.301Z"
   },
   {
    "duration": 341,
    "start_time": "2021-09-11T07:02:09.323Z"
   },
   {
    "duration": 50,
    "start_time": "2021-09-11T07:02:09.668Z"
   },
   {
    "duration": 70,
    "start_time": "2021-09-11T07:02:09.721Z"
   },
   {
    "duration": 75,
    "start_time": "2021-09-11T07:02:09.794Z"
   },
   {
    "duration": 111,
    "start_time": "2021-09-11T07:02:09.873Z"
   },
   {
    "duration": 110,
    "start_time": "2021-09-11T07:02:09.987Z"
   },
   {
    "duration": 13,
    "start_time": "2021-09-11T07:02:10.100Z"
   },
   {
    "duration": 84,
    "start_time": "2021-09-11T07:02:10.115Z"
   },
   {
    "duration": 112,
    "start_time": "2021-09-11T07:02:10.201Z"
   },
   {
    "duration": 15,
    "start_time": "2021-09-11T07:02:10.316Z"
   },
   {
    "duration": 46,
    "start_time": "2021-09-11T07:02:10.333Z"
   },
   {
    "duration": 13,
    "start_time": "2021-09-11T07:02:10.382Z"
   },
   {
    "duration": 364,
    "start_time": "2021-09-11T07:02:10.397Z"
   },
   {
    "duration": 15,
    "start_time": "2021-09-11T07:02:10.767Z"
   },
   {
    "duration": 340,
    "start_time": "2021-09-11T07:02:10.784Z"
   },
   {
    "duration": 9,
    "start_time": "2021-09-11T07:02:11.127Z"
   },
   {
    "duration": 48,
    "start_time": "2021-09-11T07:02:11.138Z"
   },
   {
    "duration": 25,
    "start_time": "2021-09-11T07:02:11.188Z"
   },
   {
    "duration": 73,
    "start_time": "2021-09-11T07:02:11.215Z"
   },
   {
    "duration": 57,
    "start_time": "2021-09-11T07:02:11.290Z"
   },
   {
    "duration": 26,
    "start_time": "2021-09-11T07:02:11.368Z"
   },
   {
    "duration": 72,
    "start_time": "2021-09-11T07:02:11.397Z"
   },
   {
    "duration": 22,
    "start_time": "2021-09-11T07:02:11.472Z"
   },
   {
    "duration": 18,
    "start_time": "2021-09-11T07:02:11.496Z"
   },
   {
    "duration": 8,
    "start_time": "2021-09-11T07:02:11.516Z"
   },
   {
    "duration": 45,
    "start_time": "2021-09-11T07:02:11.567Z"
   },
   {
    "duration": 111,
    "start_time": "2021-09-11T07:06:18.501Z"
   },
   {
    "duration": 110,
    "start_time": "2021-09-11T07:09:40.734Z"
   },
   {
    "duration": 20,
    "start_time": "2021-09-11T07:12:32.929Z"
   },
   {
    "duration": 31,
    "start_time": "2021-09-11T07:13:25.637Z"
   },
   {
    "duration": 4,
    "start_time": "2021-09-11T07:14:19.255Z"
   },
   {
    "duration": 417,
    "start_time": "2021-09-11T07:14:19.262Z"
   },
   {
    "duration": 27,
    "start_time": "2021-09-11T07:14:19.682Z"
   },
   {
    "duration": 286,
    "start_time": "2021-09-11T07:14:19.712Z"
   },
   {
    "duration": 23,
    "start_time": "2021-09-11T07:14:20.001Z"
   },
   {
    "duration": 1296,
    "start_time": "2021-09-11T07:14:20.027Z"
   },
   {
    "duration": 48,
    "start_time": "2021-09-11T07:14:21.327Z"
   },
   {
    "duration": 15,
    "start_time": "2021-09-11T07:14:21.379Z"
   },
   {
    "duration": 14,
    "start_time": "2021-09-11T07:14:21.397Z"
   },
   {
    "duration": 65,
    "start_time": "2021-09-11T07:14:21.413Z"
   },
   {
    "duration": 357,
    "start_time": "2021-09-11T07:14:21.481Z"
   },
   {
    "duration": 314,
    "start_time": "2021-09-11T07:14:21.841Z"
   },
   {
    "duration": 126,
    "start_time": "2021-09-11T07:14:22.158Z"
   },
   {
    "duration": 146,
    "start_time": "2021-09-11T07:14:22.287Z"
   },
   {
    "duration": 5,
    "start_time": "2021-09-11T07:14:22.436Z"
   },
   {
    "duration": 190,
    "start_time": "2021-09-11T07:14:22.445Z"
   },
   {
    "duration": 85,
    "start_time": "2021-09-11T07:14:22.637Z"
   },
   {
    "duration": 79,
    "start_time": "2021-09-11T07:14:22.726Z"
   },
   {
    "duration": 67,
    "start_time": "2021-09-11T07:14:22.811Z"
   },
   {
    "duration": 31,
    "start_time": "2021-09-11T07:14:22.882Z"
   },
   {
    "duration": 178,
    "start_time": "2021-09-11T07:14:22.915Z"
   },
   {
    "duration": 22,
    "start_time": "2021-09-11T07:14:23.096Z"
   },
   {
    "duration": 47,
    "start_time": "2021-09-11T07:14:23.120Z"
   },
   {
    "duration": 480,
    "start_time": "2021-09-11T07:14:23.170Z"
   },
   {
    "duration": 86,
    "start_time": "2021-09-11T07:14:23.652Z"
   },
   {
    "duration": 28,
    "start_time": "2021-09-11T07:14:23.740Z"
   },
   {
    "duration": 184,
    "start_time": "2021-09-11T07:14:23.770Z"
   },
   {
    "duration": 48,
    "start_time": "2021-09-11T07:14:23.956Z"
   },
   {
    "duration": 25,
    "start_time": "2021-09-11T07:14:24.007Z"
   },
   {
    "duration": 241,
    "start_time": "2021-09-11T07:14:24.035Z"
   },
   {
    "duration": 48,
    "start_time": "2021-09-11T07:14:24.278Z"
   },
   {
    "duration": 64,
    "start_time": "2021-09-11T07:14:24.329Z"
   },
   {
    "duration": 50,
    "start_time": "2021-09-11T07:14:24.396Z"
   },
   {
    "duration": 96,
    "start_time": "2021-09-11T07:14:24.448Z"
   },
   {
    "duration": 108,
    "start_time": "2021-09-11T07:14:24.547Z"
   },
   {
    "duration": 13,
    "start_time": "2021-09-11T07:14:24.667Z"
   },
   {
    "duration": 85,
    "start_time": "2021-09-11T07:14:24.683Z"
   },
   {
    "duration": 112,
    "start_time": "2021-09-11T07:14:24.771Z"
   },
   {
    "duration": 15,
    "start_time": "2021-09-11T07:14:24.886Z"
   },
   {
    "duration": 28,
    "start_time": "2021-09-11T07:14:24.903Z"
   },
   {
    "duration": 43,
    "start_time": "2021-09-11T07:14:24.934Z"
   },
   {
    "duration": 352,
    "start_time": "2021-09-11T07:14:24.980Z"
   },
   {
    "duration": 14,
    "start_time": "2021-09-11T07:14:25.335Z"
   },
   {
    "duration": 338,
    "start_time": "2021-09-11T07:14:25.352Z"
   },
   {
    "duration": 10,
    "start_time": "2021-09-11T07:14:25.693Z"
   },
   {
    "duration": 38,
    "start_time": "2021-09-11T07:14:25.706Z"
   },
   {
    "duration": 25,
    "start_time": "2021-09-11T07:14:25.767Z"
   },
   {
    "duration": 75,
    "start_time": "2021-09-11T07:14:25.794Z"
   },
   {
    "duration": 57,
    "start_time": "2021-09-11T07:14:25.871Z"
   },
   {
    "duration": 48,
    "start_time": "2021-09-11T07:14:25.930Z"
   },
   {
    "duration": 37,
    "start_time": "2021-09-11T07:14:25.980Z"
   },
   {
    "duration": 19,
    "start_time": "2021-09-11T07:14:26.020Z"
   },
   {
    "duration": 19,
    "start_time": "2021-09-11T07:14:26.068Z"
   },
   {
    "duration": 31,
    "start_time": "2021-09-11T07:14:26.089Z"
   },
   {
    "duration": 54,
    "start_time": "2021-09-11T07:14:26.127Z"
   },
   {
    "duration": 205,
    "start_time": "2021-09-11T07:19:24.896Z"
   },
   {
    "duration": 312,
    "start_time": "2021-09-11T07:21:16.996Z"
   },
   {
    "duration": 231,
    "start_time": "2021-09-11T07:21:27.162Z"
   },
   {
    "duration": 275,
    "start_time": "2021-09-11T07:21:39.167Z"
   },
   {
    "duration": 21,
    "start_time": "2021-09-11T07:21:49.387Z"
   },
   {
    "duration": 273,
    "start_time": "2021-09-11T07:21:59.404Z"
   },
   {
    "duration": 34,
    "start_time": "2021-09-11T07:22:08.114Z"
   },
   {
    "duration": 33,
    "start_time": "2021-09-11T07:22:14.077Z"
   },
   {
    "duration": 50,
    "start_time": "2021-09-11T07:28:17.817Z"
   },
   {
    "duration": 100,
    "start_time": "2021-09-11T07:40:20.454Z"
   },
   {
    "duration": 1469,
    "start_time": "2021-09-14T07:33:15.341Z"
   },
   {
    "duration": 376,
    "start_time": "2021-09-14T07:33:16.813Z"
   },
   {
    "duration": 27,
    "start_time": "2021-09-14T07:33:17.191Z"
   },
   {
    "duration": 379,
    "start_time": "2021-09-14T07:33:17.221Z"
   },
   {
    "duration": 21,
    "start_time": "2021-09-14T07:33:17.603Z"
   },
   {
    "duration": 302,
    "start_time": "2021-09-14T07:33:17.627Z"
   },
   {
    "duration": 94,
    "start_time": "2021-09-14T07:33:17.932Z"
   },
   {
    "duration": 14,
    "start_time": "2021-09-14T07:33:18.029Z"
   },
   {
    "duration": 11,
    "start_time": "2021-09-14T07:33:18.046Z"
   },
   {
    "duration": 87,
    "start_time": "2021-09-14T07:33:18.059Z"
   },
   {
    "duration": 309,
    "start_time": "2021-09-14T07:33:18.148Z"
   },
   {
    "duration": 350,
    "start_time": "2021-09-14T07:33:18.459Z"
   },
   {
    "duration": 119,
    "start_time": "2021-09-14T07:33:18.811Z"
   },
   {
    "duration": 143,
    "start_time": "2021-09-14T07:33:18.932Z"
   },
   {
    "duration": 4,
    "start_time": "2021-09-14T07:33:19.078Z"
   },
   {
    "duration": 198,
    "start_time": "2021-09-14T07:33:19.084Z"
   },
   {
    "duration": 84,
    "start_time": "2021-09-14T07:33:19.285Z"
   },
   {
    "duration": 90,
    "start_time": "2021-09-14T07:33:19.372Z"
   },
   {
    "duration": 92,
    "start_time": "2021-09-14T07:33:19.465Z"
   },
   {
    "duration": 46,
    "start_time": "2021-09-14T07:33:19.560Z"
   },
   {
    "duration": 202,
    "start_time": "2021-09-14T07:33:19.609Z"
   },
   {
    "duration": 23,
    "start_time": "2021-09-14T07:33:19.813Z"
   },
   {
    "duration": 509,
    "start_time": "2021-09-14T07:33:19.858Z"
   },
   {
    "duration": 106,
    "start_time": "2021-09-14T07:33:20.370Z"
   },
   {
    "duration": 34,
    "start_time": "2021-09-14T07:33:20.478Z"
   },
   {
    "duration": 40,
    "start_time": "2021-09-14T07:33:20.514Z"
   },
   {
    "duration": 50,
    "start_time": "2021-09-14T07:33:20.556Z"
   },
   {
    "duration": 26,
    "start_time": "2021-09-14T07:33:20.608Z"
   },
   {
    "duration": 240,
    "start_time": "2021-09-14T07:33:20.637Z"
   },
   {
    "duration": 48,
    "start_time": "2021-09-14T07:33:20.880Z"
   },
   {
    "duration": 427,
    "start_time": "2021-09-14T07:33:20.956Z"
   },
   {
    "duration": -49,
    "start_time": "2021-09-14T07:33:21.435Z"
   },
   {
    "duration": -53,
    "start_time": "2021-09-14T07:33:21.441Z"
   },
   {
    "duration": -54,
    "start_time": "2021-09-14T07:33:21.445Z"
   },
   {
    "duration": -55,
    "start_time": "2021-09-14T07:33:21.448Z"
   },
   {
    "duration": -57,
    "start_time": "2021-09-14T07:33:21.452Z"
   },
   {
    "duration": -60,
    "start_time": "2021-09-14T07:33:21.457Z"
   },
   {
    "duration": -61,
    "start_time": "2021-09-14T07:33:21.460Z"
   },
   {
    "duration": -62,
    "start_time": "2021-09-14T07:33:21.464Z"
   },
   {
    "duration": -73,
    "start_time": "2021-09-14T07:33:21.477Z"
   },
   {
    "duration": -75,
    "start_time": "2021-09-14T07:33:21.481Z"
   },
   {
    "duration": -81,
    "start_time": "2021-09-14T07:33:21.489Z"
   },
   {
    "duration": -84,
    "start_time": "2021-09-14T07:33:21.494Z"
   },
   {
    "duration": -89,
    "start_time": "2021-09-14T07:33:21.501Z"
   },
   {
    "duration": -93,
    "start_time": "2021-09-14T07:33:21.507Z"
   },
   {
    "duration": -96,
    "start_time": "2021-09-14T07:33:21.512Z"
   },
   {
    "duration": -98,
    "start_time": "2021-09-14T07:33:21.516Z"
   },
   {
    "duration": -104,
    "start_time": "2021-09-14T07:33:21.524Z"
   },
   {
    "duration": -86,
    "start_time": "2021-09-14T07:33:21.540Z"
   },
   {
    "duration": -88,
    "start_time": "2021-09-14T07:33:21.544Z"
   },
   {
    "duration": -90,
    "start_time": "2021-09-14T07:33:21.548Z"
   },
   {
    "duration": -91,
    "start_time": "2021-09-14T07:33:21.551Z"
   },
   {
    "duration": 115,
    "start_time": "2021-09-14T07:34:24.172Z"
   },
   {
    "duration": 80,
    "start_time": "2021-09-14T07:38:36.299Z"
   },
   {
    "duration": 49,
    "start_time": "2021-09-14T07:38:46.939Z"
   },
   {
    "duration": 15,
    "start_time": "2021-09-14T07:38:50.109Z"
   },
   {
    "duration": 114,
    "start_time": "2021-09-14T07:38:54.437Z"
   },
   {
    "duration": 105,
    "start_time": "2021-09-14T07:38:59.294Z"
   },
   {
    "duration": 20,
    "start_time": "2021-09-14T07:38:59.402Z"
   },
   {
    "duration": 54,
    "start_time": "2021-09-14T07:38:59.426Z"
   },
   {
    "duration": 18,
    "start_time": "2021-09-14T07:38:59.484Z"
   },
   {
    "duration": 382,
    "start_time": "2021-09-14T07:38:59.506Z"
   },
   {
    "duration": 18,
    "start_time": "2021-09-14T07:38:59.891Z"
   },
   {
    "duration": 353,
    "start_time": "2021-09-14T07:38:59.911Z"
   },
   {
    "duration": 9,
    "start_time": "2021-09-14T07:39:00.267Z"
   },
   {
    "duration": 61,
    "start_time": "2021-09-14T07:39:00.280Z"
   },
   {
    "duration": 23,
    "start_time": "2021-09-14T07:39:00.356Z"
   },
   {
    "duration": 80,
    "start_time": "2021-09-14T07:39:00.382Z"
   },
   {
    "duration": 55,
    "start_time": "2021-09-14T07:39:00.464Z"
   },
   {
    "duration": 46,
    "start_time": "2021-09-14T07:39:00.521Z"
   },
   {
    "duration": 51,
    "start_time": "2021-09-14T07:39:00.569Z"
   },
   {
    "duration": 147,
    "start_time": "2021-09-14T07:39:00.623Z"
   },
   {
    "duration": 63,
    "start_time": "2021-09-14T07:39:00.773Z"
   },
   {
    "duration": 76,
    "start_time": "2021-09-14T07:39:00.839Z"
   },
   {
    "duration": 138,
    "start_time": "2021-09-14T07:39:00.917Z"
   },
   {
    "duration": 105,
    "start_time": "2021-09-14T07:44:06.531Z"
   },
   {
    "duration": 127,
    "start_time": "2021-09-14T07:45:22.921Z"
   },
   {
    "duration": 269,
    "start_time": "2021-09-14T08:50:33.285Z"
   },
   {
    "duration": 29,
    "start_time": "2021-09-14T09:00:08.634Z"
   },
   {
    "duration": 451,
    "start_time": "2021-09-14T09:01:29.444Z"
   },
   {
    "duration": 246,
    "start_time": "2021-09-14T09:03:49.830Z"
   },
   {
    "duration": 248,
    "start_time": "2021-09-14T09:04:11.887Z"
   },
   {
    "duration": 319,
    "start_time": "2021-09-14T09:04:28.352Z"
   },
   {
    "duration": 263,
    "start_time": "2021-09-14T09:04:55.354Z"
   },
   {
    "duration": 262,
    "start_time": "2021-09-14T09:05:09.378Z"
   },
   {
    "duration": 282,
    "start_time": "2021-09-14T09:07:02.205Z"
   },
   {
    "duration": 27,
    "start_time": "2021-09-14T09:19:23.553Z"
   },
   {
    "duration": 26,
    "start_time": "2021-09-14T09:57:47.088Z"
   },
   {
    "duration": 323,
    "start_time": "2021-09-14T10:01:07.952Z"
   },
   {
    "duration": 85,
    "start_time": "2021-09-14T10:02:13.922Z"
   },
   {
    "duration": 288,
    "start_time": "2021-09-14T10:02:38.464Z"
   },
   {
    "duration": 29,
    "start_time": "2021-09-14T10:07:27.640Z"
   },
   {
    "duration": 6814,
    "start_time": "2021-09-14T10:10:41.628Z"
   },
   {
    "duration": 14,
    "start_time": "2021-09-14T10:11:00.052Z"
   },
   {
    "duration": 305,
    "start_time": "2021-09-14T10:13:12.329Z"
   },
   {
    "duration": 267,
    "start_time": "2021-09-14T10:14:59.498Z"
   },
   {
    "duration": 15,
    "start_time": "2021-09-14T10:15:52.012Z"
   },
   {
    "duration": 319,
    "start_time": "2021-09-14T10:15:58.824Z"
   },
   {
    "duration": 319,
    "start_time": "2021-09-14T10:16:58.787Z"
   },
   {
    "duration": 328,
    "start_time": "2021-09-14T10:17:24.194Z"
   },
   {
    "duration": 327,
    "start_time": "2021-09-14T10:57:08.633Z"
   },
   {
    "duration": 389,
    "start_time": "2021-09-14T10:57:57.815Z"
   },
   {
    "duration": 481,
    "start_time": "2021-09-14T10:58:45.244Z"
   },
   {
    "duration": 570,
    "start_time": "2021-09-14T10:59:54.019Z"
   },
   {
    "duration": 61,
    "start_time": "2021-09-14T13:32:08.118Z"
   },
   {
    "duration": 400,
    "start_time": "2021-09-14T13:35:30.881Z"
   },
   {
    "duration": 335,
    "start_time": "2021-09-14T19:04:32.245Z"
   },
   {
    "duration": 290,
    "start_time": "2021-09-14T19:04:40.629Z"
   },
   {
    "duration": 1587,
    "start_time": "2021-09-14T19:04:44.966Z"
   },
   {
    "duration": 402,
    "start_time": "2021-09-14T19:04:46.555Z"
   },
   {
    "duration": 28,
    "start_time": "2021-09-14T19:04:46.967Z"
   },
   {
    "duration": 384,
    "start_time": "2021-09-14T19:04:46.999Z"
   },
   {
    "duration": 28,
    "start_time": "2021-09-14T19:04:47.386Z"
   },
   {
    "duration": 304,
    "start_time": "2021-09-14T19:04:47.416Z"
   },
   {
    "duration": 107,
    "start_time": "2021-09-14T19:04:47.722Z"
   },
   {
    "duration": 17,
    "start_time": "2021-09-14T19:04:47.833Z"
   },
   {
    "duration": 18,
    "start_time": "2021-09-14T19:04:47.853Z"
   },
   {
    "duration": 90,
    "start_time": "2021-09-14T19:04:47.874Z"
   },
   {
    "duration": 374,
    "start_time": "2021-09-14T19:04:47.966Z"
   },
   {
    "duration": 385,
    "start_time": "2021-09-14T19:04:48.342Z"
   },
   {
    "duration": 131,
    "start_time": "2021-09-14T19:04:48.729Z"
   },
   {
    "duration": 156,
    "start_time": "2021-09-14T19:04:48.863Z"
   },
   {
    "duration": 4,
    "start_time": "2021-09-14T19:04:49.021Z"
   },
   {
    "duration": 206,
    "start_time": "2021-09-14T19:04:49.027Z"
   },
   {
    "duration": 81,
    "start_time": "2021-09-14T19:04:49.236Z"
   },
   {
    "duration": 84,
    "start_time": "2021-09-14T19:04:49.320Z"
   },
   {
    "duration": 73,
    "start_time": "2021-09-14T19:04:49.407Z"
   },
   {
    "duration": 36,
    "start_time": "2021-09-14T19:04:49.482Z"
   },
   {
    "duration": 208,
    "start_time": "2021-09-14T19:04:49.522Z"
   },
   {
    "duration": 35,
    "start_time": "2021-09-14T19:04:49.733Z"
   },
   {
    "duration": 534,
    "start_time": "2021-09-14T19:04:49.773Z"
   },
   {
    "duration": 96,
    "start_time": "2021-09-14T19:04:50.310Z"
   },
   {
    "duration": 15,
    "start_time": "2021-09-14T19:04:50.408Z"
   },
   {
    "duration": 55,
    "start_time": "2021-09-14T19:04:50.425Z"
   },
   {
    "duration": 43,
    "start_time": "2021-09-14T19:04:50.482Z"
   },
   {
    "duration": 40,
    "start_time": "2021-09-14T19:04:50.527Z"
   },
   {
    "duration": 247,
    "start_time": "2021-09-14T19:04:50.570Z"
   },
   {
    "duration": 57,
    "start_time": "2021-09-14T19:04:50.819Z"
   },
   {
    "duration": 114,
    "start_time": "2021-09-14T19:04:50.878Z"
   },
   {
    "duration": 60,
    "start_time": "2021-09-14T19:04:50.995Z"
   },
   {
    "duration": 23,
    "start_time": "2021-09-14T19:04:51.057Z"
   },
   {
    "duration": 132,
    "start_time": "2021-09-14T19:04:51.082Z"
   },
   {
    "duration": 123,
    "start_time": "2021-09-14T19:04:51.217Z"
   },
   {
    "duration": 25,
    "start_time": "2021-09-14T19:04:51.342Z"
   },
   {
    "duration": 33,
    "start_time": "2021-09-14T19:04:51.369Z"
   },
   {
    "duration": 17,
    "start_time": "2021-09-14T19:04:51.405Z"
   },
   {
    "duration": 376,
    "start_time": "2021-09-14T19:04:51.424Z"
   },
   {
    "duration": 14,
    "start_time": "2021-09-14T19:04:51.802Z"
   },
   {
    "duration": 361,
    "start_time": "2021-09-14T19:04:51.818Z"
   },
   {
    "duration": 28,
    "start_time": "2021-09-14T19:04:52.182Z"
   },
   {
    "duration": 15,
    "start_time": "2021-09-14T19:04:52.212Z"
   },
   {
    "duration": 363,
    "start_time": "2021-09-14T19:04:52.229Z"
   },
   {
    "duration": 14,
    "start_time": "2021-09-14T19:04:52.594Z"
   },
   {
    "duration": 346,
    "start_time": "2021-09-14T19:04:52.610Z"
   },
   {
    "duration": 69,
    "start_time": "2021-09-14T19:04:52.959Z"
   },
   {
    "duration": 37,
    "start_time": "2021-09-14T19:04:53.030Z"
   },
   {
    "duration": 310,
    "start_time": "2021-09-14T19:04:53.070Z"
   },
   {
    "duration": -1723,
    "start_time": "2021-09-14T19:04:55.105Z"
   },
   {
    "duration": -1728,
    "start_time": "2021-09-14T19:04:55.112Z"
   },
   {
    "duration": -1735,
    "start_time": "2021-09-14T19:04:55.120Z"
   },
   {
    "duration": -1739,
    "start_time": "2021-09-14T19:04:55.126Z"
   },
   {
    "duration": -1746,
    "start_time": "2021-09-14T19:04:55.134Z"
   },
   {
    "duration": -1752,
    "start_time": "2021-09-14T19:04:55.141Z"
   },
   {
    "duration": -1758,
    "start_time": "2021-09-14T19:04:55.148Z"
   },
   {
    "duration": -1763,
    "start_time": "2021-09-14T19:04:55.154Z"
   },
   {
    "duration": -1781,
    "start_time": "2021-09-14T19:04:55.173Z"
   },
   {
    "duration": -1786,
    "start_time": "2021-09-14T19:04:55.179Z"
   },
   {
    "duration": -1793,
    "start_time": "2021-09-14T19:04:55.187Z"
   },
   {
    "duration": 7191,
    "start_time": "2021-09-14T19:07:18.479Z"
   },
   {
    "duration": 63,
    "start_time": "2021-09-14T19:07:37.902Z"
   },
   {
    "duration": 14,
    "start_time": "2021-09-14T19:07:41.346Z"
   },
   {
    "duration": 7140,
    "start_time": "2021-09-14T19:07:44.652Z"
   },
   {
    "duration": 324,
    "start_time": "2021-09-14T19:09:18.653Z"
   },
   {
    "duration": 8289,
    "start_time": "2021-09-14T19:09:30.397Z"
   },
   {
    "duration": 295,
    "start_time": "2021-09-14T19:10:13.445Z"
   },
   {
    "duration": 1468,
    "start_time": "2021-09-15T10:06:57.803Z"
   },
   {
    "duration": 427,
    "start_time": "2021-09-15T10:06:59.273Z"
   },
   {
    "duration": 26,
    "start_time": "2021-09-15T10:06:59.703Z"
   },
   {
    "duration": 300,
    "start_time": "2021-09-15T10:06:59.732Z"
   },
   {
    "duration": 35,
    "start_time": "2021-09-15T10:07:00.034Z"
   },
   {
    "duration": 1291,
    "start_time": "2021-09-15T10:07:00.072Z"
   },
   {
    "duration": 115,
    "start_time": "2021-09-15T10:07:01.365Z"
   },
   {
    "duration": 13,
    "start_time": "2021-09-15T10:07:01.485Z"
   },
   {
    "duration": 12,
    "start_time": "2021-09-15T10:07:01.501Z"
   },
   {
    "duration": 70,
    "start_time": "2021-09-15T10:07:01.515Z"
   },
   {
    "duration": 330,
    "start_time": "2021-09-15T10:07:01.587Z"
   },
   {
    "duration": 345,
    "start_time": "2021-09-15T10:07:01.920Z"
   },
   {
    "duration": 123,
    "start_time": "2021-09-15T10:07:02.267Z"
   },
   {
    "duration": 144,
    "start_time": "2021-09-15T10:07:02.392Z"
   },
   {
    "duration": 4,
    "start_time": "2021-09-15T10:07:02.538Z"
   },
   {
    "duration": 189,
    "start_time": "2021-09-15T10:07:02.544Z"
   },
   {
    "duration": 81,
    "start_time": "2021-09-15T10:07:02.735Z"
   },
   {
    "duration": 74,
    "start_time": "2021-09-15T10:07:02.818Z"
   },
   {
    "duration": 70,
    "start_time": "2021-09-15T10:07:02.894Z"
   },
   {
    "duration": 31,
    "start_time": "2021-09-15T10:07:02.967Z"
   },
   {
    "duration": 215,
    "start_time": "2021-09-15T10:07:03.000Z"
   },
   {
    "duration": 20,
    "start_time": "2021-09-15T10:07:03.218Z"
   },
   {
    "duration": 506,
    "start_time": "2021-09-15T10:07:03.244Z"
   },
   {
    "duration": 108,
    "start_time": "2021-09-15T10:07:03.753Z"
   },
   {
    "duration": 8,
    "start_time": "2021-09-15T10:07:03.864Z"
   },
   {
    "duration": 32,
    "start_time": "2021-09-15T10:07:03.874Z"
   },
   {
    "duration": 67,
    "start_time": "2021-09-15T10:07:03.908Z"
   },
   {
    "duration": 18,
    "start_time": "2021-09-15T10:07:03.977Z"
   },
   {
    "duration": 232,
    "start_time": "2021-09-15T10:07:03.997Z"
   },
   {
    "duration": 57,
    "start_time": "2021-09-15T10:07:04.232Z"
   },
   {
    "duration": 101,
    "start_time": "2021-09-15T10:07:04.292Z"
   },
   {
    "duration": 48,
    "start_time": "2021-09-15T10:07:04.396Z"
   },
   {
    "duration": 26,
    "start_time": "2021-09-15T10:07:04.446Z"
   },
   {
    "duration": 126,
    "start_time": "2021-09-15T10:07:04.475Z"
   },
   {
    "duration": 109,
    "start_time": "2021-09-15T10:07:04.604Z"
   },
   {
    "duration": 14,
    "start_time": "2021-09-15T10:07:04.715Z"
   },
   {
    "duration": 45,
    "start_time": "2021-09-15T10:07:04.732Z"
   },
   {
    "duration": 14,
    "start_time": "2021-09-15T10:07:04.779Z"
   },
   {
    "duration": 347,
    "start_time": "2021-09-15T10:07:04.796Z"
   },
   {
    "duration": 23,
    "start_time": "2021-09-15T10:07:05.146Z"
   },
   {
    "duration": 315,
    "start_time": "2021-09-15T10:07:05.171Z"
   },
   {
    "duration": 26,
    "start_time": "2021-09-15T10:07:05.489Z"
   },
   {
    "duration": 13,
    "start_time": "2021-09-15T10:07:05.517Z"
   },
   {
    "duration": 323,
    "start_time": "2021-09-15T10:07:05.561Z"
   },
   {
    "duration": 13,
    "start_time": "2021-09-15T10:07:05.887Z"
   },
   {
    "duration": 317,
    "start_time": "2021-09-15T10:07:05.902Z"
   },
   {
    "duration": 74,
    "start_time": "2021-09-15T10:07:06.222Z"
   },
   {
    "duration": 388,
    "start_time": "2021-09-15T10:07:06.298Z"
   },
   {
    "duration": -2525,
    "start_time": "2021-09-15T10:07:09.214Z"
   },
   {
    "duration": -2532,
    "start_time": "2021-09-15T10:07:09.222Z"
   },
   {
    "duration": -2538,
    "start_time": "2021-09-15T10:07:09.229Z"
   },
   {
    "duration": -2543,
    "start_time": "2021-09-15T10:07:09.236Z"
   },
   {
    "duration": -2548,
    "start_time": "2021-09-15T10:07:09.242Z"
   },
   {
    "duration": -2554,
    "start_time": "2021-09-15T10:07:09.249Z"
   },
   {
    "duration": -2558,
    "start_time": "2021-09-15T10:07:09.254Z"
   },
   {
    "duration": -2560,
    "start_time": "2021-09-15T10:07:09.258Z"
   },
   {
    "duration": -2564,
    "start_time": "2021-09-15T10:07:09.263Z"
   },
   {
    "duration": -2567,
    "start_time": "2021-09-15T10:07:09.267Z"
   },
   {
    "duration": -2570,
    "start_time": "2021-09-15T10:07:09.272Z"
   },
   {
    "duration": -2573,
    "start_time": "2021-09-15T10:07:09.276Z"
   },
   {
    "duration": 76,
    "start_time": "2021-09-15T10:08:21.539Z"
   },
   {
    "duration": 77,
    "start_time": "2021-09-15T10:08:37.730Z"
   },
   {
    "duration": 21,
    "start_time": "2021-09-15T10:08:46.734Z"
   },
   {
    "duration": 426,
    "start_time": "2021-09-15T10:08:55.549Z"
   },
   {
    "duration": 19,
    "start_time": "2021-09-15T10:09:38.003Z"
   },
   {
    "duration": 306,
    "start_time": "2021-09-15T10:10:04.738Z"
   },
   {
    "duration": 9,
    "start_time": "2021-09-15T10:47:01.494Z"
   },
   {
    "duration": 30,
    "start_time": "2021-09-15T10:47:04.719Z"
   },
   {
    "duration": 25,
    "start_time": "2021-09-15T10:48:11.770Z"
   },
   {
    "duration": 51,
    "start_time": "2021-09-15T10:48:23.457Z"
   },
   {
    "duration": 137,
    "start_time": "2021-09-15T10:48:28.443Z"
   },
   {
    "duration": 483,
    "start_time": "2021-09-15T12:02:58.256Z"
   },
   {
    "duration": 57,
    "start_time": "2021-09-15T12:03:20.005Z"
   },
   {
    "duration": 27,
    "start_time": "2021-09-15T12:03:23.491Z"
   },
   {
    "duration": 40,
    "start_time": "2021-09-15T12:03:26.511Z"
   },
   {
    "duration": 22,
    "start_time": "2021-09-15T12:03:29.564Z"
   },
   {
    "duration": 21,
    "start_time": "2021-09-15T12:03:32.482Z"
   },
   {
    "duration": 7,
    "start_time": "2021-09-15T12:03:36.879Z"
   },
   {
    "duration": 47,
    "start_time": "2021-09-15T12:04:07.086Z"
   },
   {
    "duration": 29,
    "start_time": "2021-09-15T12:16:36.652Z"
   },
   {
    "duration": 1018,
    "start_time": "2021-09-17T13:15:40.072Z"
   },
   {
    "duration": 1632,
    "start_time": "2021-09-17T13:15:45.859Z"
   },
   {
    "duration": 499,
    "start_time": "2021-09-17T13:15:47.494Z"
   },
   {
    "duration": 36,
    "start_time": "2021-09-17T13:15:47.996Z"
   },
   {
    "duration": 341,
    "start_time": "2021-09-17T13:15:48.035Z"
   },
   {
    "duration": 23,
    "start_time": "2021-09-17T13:15:48.378Z"
   },
   {
    "duration": 610,
    "start_time": "2021-09-17T13:15:48.417Z"
   },
   {
    "duration": 141,
    "start_time": "2021-09-17T13:15:49.029Z"
   },
   {
    "duration": 14,
    "start_time": "2021-09-17T13:15:49.172Z"
   },
   {
    "duration": 11,
    "start_time": "2021-09-17T13:15:49.190Z"
   },
   {
    "duration": 296,
    "start_time": "2021-09-17T13:15:49.204Z"
   },
   {
    "duration": 405,
    "start_time": "2021-09-17T13:15:49.503Z"
   },
   {
    "duration": 369,
    "start_time": "2021-09-17T13:15:49.911Z"
   },
   {
    "duration": 135,
    "start_time": "2021-09-17T13:15:50.283Z"
   },
   {
    "duration": 155,
    "start_time": "2021-09-17T13:15:50.422Z"
   },
   {
    "duration": 4,
    "start_time": "2021-09-17T13:15:50.579Z"
   },
   {
    "duration": 187,
    "start_time": "2021-09-17T13:15:50.585Z"
   },
   {
    "duration": 87,
    "start_time": "2021-09-17T13:15:50.774Z"
   },
   {
    "duration": 77,
    "start_time": "2021-09-17T13:15:50.863Z"
   },
   {
    "duration": 74,
    "start_time": "2021-09-17T13:15:50.944Z"
   },
   {
    "duration": 34,
    "start_time": "2021-09-17T13:15:51.020Z"
   },
   {
    "duration": 219,
    "start_time": "2021-09-17T13:15:51.057Z"
   },
   {
    "duration": 38,
    "start_time": "2021-09-17T13:15:51.278Z"
   },
   {
    "duration": 517,
    "start_time": "2021-09-17T13:15:51.319Z"
   },
   {
    "duration": 103,
    "start_time": "2021-09-17T13:15:51.838Z"
   },
   {
    "duration": 8,
    "start_time": "2021-09-17T13:15:51.943Z"
   },
   {
    "duration": 32,
    "start_time": "2021-09-17T13:15:51.953Z"
   },
   {
    "duration": 42,
    "start_time": "2021-09-17T13:15:52.019Z"
   },
   {
    "duration": 20,
    "start_time": "2021-09-17T13:15:52.065Z"
   },
   {
    "duration": 256,
    "start_time": "2021-09-17T13:15:52.088Z"
   },
   {
    "duration": 47,
    "start_time": "2021-09-17T13:15:52.347Z"
   },
   {
    "duration": 121,
    "start_time": "2021-09-17T13:15:52.397Z"
   },
   {
    "duration": 51,
    "start_time": "2021-09-17T13:15:52.522Z"
   },
   {
    "duration": 42,
    "start_time": "2021-09-17T13:15:52.576Z"
   },
   {
    "duration": 129,
    "start_time": "2021-09-17T13:15:52.621Z"
   },
   {
    "duration": 122,
    "start_time": "2021-09-17T13:15:52.753Z"
   },
   {
    "duration": 17,
    "start_time": "2021-09-17T13:15:52.877Z"
   },
   {
    "duration": 49,
    "start_time": "2021-09-17T13:15:52.896Z"
   },
   {
    "duration": 27,
    "start_time": "2021-09-17T13:15:52.948Z"
   },
   {
    "duration": 46,
    "start_time": "2021-09-17T13:15:52.978Z"
   },
   {
    "duration": 348,
    "start_time": "2021-09-17T13:15:53.027Z"
   },
   {
    "duration": 14,
    "start_time": "2021-09-17T13:15:53.378Z"
   },
   {
    "duration": 330,
    "start_time": "2021-09-17T13:15:53.395Z"
   },
   {
    "duration": 28,
    "start_time": "2021-09-17T13:15:53.727Z"
   },
   {
    "duration": 14,
    "start_time": "2021-09-17T13:15:53.757Z"
   },
   {
    "duration": 347,
    "start_time": "2021-09-17T13:15:53.773Z"
   },
   {
    "duration": 14,
    "start_time": "2021-09-17T13:15:54.122Z"
   },
   {
    "duration": 328,
    "start_time": "2021-09-17T13:15:54.138Z"
   },
   {
    "duration": 92,
    "start_time": "2021-09-17T13:15:54.468Z"
   },
   {
    "duration": 21,
    "start_time": "2021-09-17T13:15:54.563Z"
   },
   {
    "duration": 344,
    "start_time": "2021-09-17T13:15:54.586Z"
   },
   {
    "duration": 19,
    "start_time": "2021-09-17T13:15:54.933Z"
   },
   {
    "duration": 348,
    "start_time": "2021-09-17T13:15:54.955Z"
   },
   {
    "duration": 17,
    "start_time": "2021-09-17T13:15:55.306Z"
   },
   {
    "duration": 36,
    "start_time": "2021-09-17T13:15:55.326Z"
   },
   {
    "duration": 23,
    "start_time": "2021-09-17T13:15:55.365Z"
   },
   {
    "duration": 72,
    "start_time": "2021-09-17T13:15:55.390Z"
   },
   {
    "duration": 151,
    "start_time": "2021-09-17T13:15:55.465Z"
   },
   {
    "duration": 23,
    "start_time": "2021-09-17T13:15:55.618Z"
   },
   {
    "duration": 10446,
    "start_time": "2021-09-17T13:15:55.645Z"
   },
   {
    "duration": -6729,
    "start_time": "2021-09-17T13:16:12.824Z"
   },
   {
    "duration": -6732,
    "start_time": "2021-09-17T13:16:12.829Z"
   },
   {
    "duration": 4,
    "start_time": "2021-09-17T13:17:45.511Z"
   },
   {
    "duration": 358,
    "start_time": "2021-09-17T13:17:45.520Z"
   },
   {
    "duration": 60,
    "start_time": "2021-09-17T13:17:45.881Z"
   },
   {
    "duration": 329,
    "start_time": "2021-09-17T13:17:45.944Z"
   },
   {
    "duration": 23,
    "start_time": "2021-09-17T13:17:46.276Z"
   },
   {
    "duration": 311,
    "start_time": "2021-09-17T13:17:46.302Z"
   },
   {
    "duration": 70,
    "start_time": "2021-09-17T13:17:46.615Z"
   },
   {
    "duration": 14,
    "start_time": "2021-09-17T13:17:46.687Z"
   },
   {
    "duration": 13,
    "start_time": "2021-09-17T13:17:46.705Z"
   },
   {
    "duration": 76,
    "start_time": "2021-09-17T13:17:46.721Z"
   },
   {
    "duration": 297,
    "start_time": "2021-09-17T13:17:46.799Z"
   },
   {
    "duration": 343,
    "start_time": "2021-09-17T13:17:47.098Z"
   },
   {
    "duration": 119,
    "start_time": "2021-09-17T13:17:47.444Z"
   },
   {
    "duration": 155,
    "start_time": "2021-09-17T13:17:47.566Z"
   },
   {
    "duration": 4,
    "start_time": "2021-09-17T13:17:47.724Z"
   },
   {
    "duration": 194,
    "start_time": "2021-09-17T13:17:47.730Z"
   },
   {
    "duration": 90,
    "start_time": "2021-09-17T13:17:47.926Z"
   },
   {
    "duration": 63,
    "start_time": "2021-09-17T13:17:48.018Z"
   },
   {
    "duration": 71,
    "start_time": "2021-09-17T13:17:48.083Z"
   },
   {
    "duration": 32,
    "start_time": "2021-09-17T13:17:48.156Z"
   },
   {
    "duration": 176,
    "start_time": "2021-09-17T13:17:48.190Z"
   },
   {
    "duration": 21,
    "start_time": "2021-09-17T13:17:48.368Z"
   },
   {
    "duration": 489,
    "start_time": "2021-09-17T13:17:48.391Z"
   },
   {
    "duration": 99,
    "start_time": "2021-09-17T13:17:48.885Z"
   },
   {
    "duration": 9,
    "start_time": "2021-09-17T13:17:48.988Z"
   },
   {
    "duration": 34,
    "start_time": "2021-09-17T13:17:49.017Z"
   },
   {
    "duration": 66,
    "start_time": "2021-09-17T13:17:49.053Z"
   },
   {
    "duration": 18,
    "start_time": "2021-09-17T13:17:49.122Z"
   },
   {
    "duration": 229,
    "start_time": "2021-09-17T13:17:49.142Z"
   },
   {
    "duration": 59,
    "start_time": "2021-09-17T13:17:49.374Z"
   },
   {
    "duration": 103,
    "start_time": "2021-09-17T13:17:49.436Z"
   },
   {
    "duration": 51,
    "start_time": "2021-09-17T13:17:49.543Z"
   },
   {
    "duration": 16,
    "start_time": "2021-09-17T13:17:49.618Z"
   },
   {
    "duration": 133,
    "start_time": "2021-09-17T13:17:49.637Z"
   },
   {
    "duration": 118,
    "start_time": "2021-09-17T13:17:49.774Z"
   },
   {
    "duration": 25,
    "start_time": "2021-09-17T13:17:49.896Z"
   },
   {
    "duration": 32,
    "start_time": "2021-09-17T13:17:49.924Z"
   },
   {
    "duration": 57,
    "start_time": "2021-09-17T13:17:49.959Z"
   },
   {
    "duration": 53,
    "start_time": "2021-09-17T13:17:50.019Z"
   },
   {
    "duration": 79,
    "start_time": "2021-09-17T13:17:50.074Z"
   },
   {
    "duration": 23,
    "start_time": "2021-09-17T13:17:50.155Z"
   },
   {
    "duration": 9663,
    "start_time": "2021-09-17T13:17:50.180Z"
   },
   {
    "duration": -6616,
    "start_time": "2021-09-17T13:18:06.461Z"
   },
   {
    "duration": -6624,
    "start_time": "2021-09-17T13:18:06.471Z"
   },
   {
    "duration": -6631,
    "start_time": "2021-09-17T13:18:06.479Z"
   },
   {
    "duration": -6638,
    "start_time": "2021-09-17T13:18:06.488Z"
   },
   {
    "duration": -6646,
    "start_time": "2021-09-17T13:18:06.497Z"
   },
   {
    "duration": -6651,
    "start_time": "2021-09-17T13:18:06.504Z"
   },
   {
    "duration": -6657,
    "start_time": "2021-09-17T13:18:06.511Z"
   },
   {
    "duration": -6664,
    "start_time": "2021-09-17T13:18:06.519Z"
   },
   {
    "duration": -6669,
    "start_time": "2021-09-17T13:18:06.525Z"
   },
   {
    "duration": -6672,
    "start_time": "2021-09-17T13:18:06.530Z"
   },
   {
    "duration": -6677,
    "start_time": "2021-09-17T13:18:06.536Z"
   },
   {
    "duration": -6682,
    "start_time": "2021-09-17T13:18:06.542Z"
   },
   {
    "duration": -6686,
    "start_time": "2021-09-17T13:18:06.548Z"
   },
   {
    "duration": -6691,
    "start_time": "2021-09-17T13:18:06.554Z"
   },
   {
    "duration": -6704,
    "start_time": "2021-09-17T13:18:06.568Z"
   },
   {
    "duration": -6708,
    "start_time": "2021-09-17T13:18:06.573Z"
   },
   {
    "duration": -6712,
    "start_time": "2021-09-17T13:18:06.579Z"
   },
   {
    "duration": -6716,
    "start_time": "2021-09-17T13:18:06.584Z"
   },
   {
    "duration": -6722,
    "start_time": "2021-09-17T13:18:06.591Z"
   },
   {
    "duration": -6725,
    "start_time": "2021-09-17T13:18:06.596Z"
   },
   {
    "duration": -6730,
    "start_time": "2021-09-17T13:18:06.602Z"
   },
   {
    "duration": -6733,
    "start_time": "2021-09-17T13:18:06.607Z"
   },
   {
    "duration": -6738,
    "start_time": "2021-09-17T13:18:06.613Z"
   },
   {
    "duration": -6742,
    "start_time": "2021-09-17T13:18:06.618Z"
   },
   {
    "duration": 107,
    "start_time": "2021-09-17T13:19:32.812Z"
   },
   {
    "duration": 17,
    "start_time": "2021-09-17T13:19:37.028Z"
   },
   {
    "duration": 33,
    "start_time": "2021-09-17T13:19:40.477Z"
   },
   {
    "duration": 25,
    "start_time": "2021-09-17T13:19:43.420Z"
   },
   {
    "duration": 52,
    "start_time": "2021-09-17T13:19:48.317Z"
   },
   {
    "duration": 58,
    "start_time": "2021-09-17T13:19:52.383Z"
   },
   {
    "duration": 24,
    "start_time": "2021-09-17T13:19:55.476Z"
   },
   {
    "duration": 11998,
    "start_time": "2021-09-17T13:19:59.280Z"
   },
   {
    "duration": 117,
    "start_time": "2021-09-17T13:20:59.260Z"
   },
   {
    "duration": 15,
    "start_time": "2021-09-17T13:21:22.990Z"
   },
   {
    "duration": 5,
    "start_time": "2021-09-17T13:21:30.219Z"
   },
   {
    "duration": 361,
    "start_time": "2021-09-17T13:21:30.228Z"
   },
   {
    "duration": 40,
    "start_time": "2021-09-17T13:21:30.592Z"
   },
   {
    "duration": 382,
    "start_time": "2021-09-17T13:21:30.635Z"
   },
   {
    "duration": 24,
    "start_time": "2021-09-17T13:21:31.020Z"
   },
   {
    "duration": 1237,
    "start_time": "2021-09-17T13:21:31.047Z"
   },
   {
    "duration": 67,
    "start_time": "2021-09-17T13:21:32.287Z"
   },
   {
    "duration": 14,
    "start_time": "2021-09-17T13:21:32.356Z"
   },
   {
    "duration": 17,
    "start_time": "2021-09-17T13:21:32.374Z"
   },
   {
    "duration": 88,
    "start_time": "2021-09-17T13:21:32.394Z"
   },
   {
    "duration": 320,
    "start_time": "2021-09-17T13:21:32.485Z"
   },
   {
    "duration": 338,
    "start_time": "2021-09-17T13:21:32.808Z"
   },
   {
    "duration": 118,
    "start_time": "2021-09-17T13:21:33.149Z"
   },
   {
    "duration": 142,
    "start_time": "2021-09-17T13:21:33.269Z"
   },
   {
    "duration": 4,
    "start_time": "2021-09-17T13:21:33.416Z"
   },
   {
    "duration": 181,
    "start_time": "2021-09-17T13:21:33.422Z"
   },
   {
    "duration": 82,
    "start_time": "2021-09-17T13:21:33.606Z"
   },
   {
    "duration": 75,
    "start_time": "2021-09-17T13:21:33.691Z"
   },
   {
    "duration": 72,
    "start_time": "2021-09-17T13:21:33.769Z"
   },
   {
    "duration": 34,
    "start_time": "2021-09-17T13:21:33.844Z"
   },
   {
    "duration": 173,
    "start_time": "2021-09-17T13:21:33.881Z"
   },
   {
    "duration": 23,
    "start_time": "2021-09-17T13:21:34.057Z"
   },
   {
    "duration": 474,
    "start_time": "2021-09-17T13:21:34.082Z"
   },
   {
    "duration": 101,
    "start_time": "2021-09-17T13:21:34.562Z"
   },
   {
    "duration": 12,
    "start_time": "2021-09-17T13:21:34.668Z"
   },
   {
    "duration": 51,
    "start_time": "2021-09-17T13:21:34.683Z"
   },
   {
    "duration": 42,
    "start_time": "2021-09-17T13:21:34.736Z"
   },
   {
    "duration": 45,
    "start_time": "2021-09-17T13:21:34.780Z"
   },
   {
    "duration": 246,
    "start_time": "2021-09-17T13:21:34.828Z"
   },
   {
    "duration": 61,
    "start_time": "2021-09-17T13:21:35.076Z"
   },
   {
    "duration": 99,
    "start_time": "2021-09-17T13:21:35.139Z"
   },
   {
    "duration": 48,
    "start_time": "2021-09-17T13:21:35.241Z"
   },
   {
    "duration": 30,
    "start_time": "2021-09-17T13:21:35.292Z"
   },
   {
    "duration": 118,
    "start_time": "2021-09-17T13:21:35.324Z"
   },
   {
    "duration": 113,
    "start_time": "2021-09-17T13:21:35.445Z"
   },
   {
    "duration": 15,
    "start_time": "2021-09-17T13:21:35.560Z"
   },
   {
    "duration": 52,
    "start_time": "2021-09-17T13:21:35.578Z"
   },
   {
    "duration": 24,
    "start_time": "2021-09-17T13:21:35.633Z"
   },
   {
    "duration": 73,
    "start_time": "2021-09-17T13:21:35.659Z"
   },
   {
    "duration": 56,
    "start_time": "2021-09-17T13:21:35.734Z"
   },
   {
    "duration": 45,
    "start_time": "2021-09-17T13:21:35.793Z"
   },
   {
    "duration": 11364,
    "start_time": "2021-09-17T13:21:35.840Z"
   },
   {
    "duration": -6697,
    "start_time": "2021-09-17T13:21:53.904Z"
   },
   {
    "duration": -6712,
    "start_time": "2021-09-17T13:21:53.920Z"
   },
   {
    "duration": -6719,
    "start_time": "2021-09-17T13:21:53.929Z"
   },
   {
    "duration": -6725,
    "start_time": "2021-09-17T13:21:53.936Z"
   },
   {
    "duration": -6731,
    "start_time": "2021-09-17T13:21:53.943Z"
   },
   {
    "duration": -6736,
    "start_time": "2021-09-17T13:21:53.950Z"
   },
   {
    "duration": -6742,
    "start_time": "2021-09-17T13:21:53.957Z"
   },
   {
    "duration": -6747,
    "start_time": "2021-09-17T13:21:53.963Z"
   },
   {
    "duration": -6753,
    "start_time": "2021-09-17T13:21:53.971Z"
   },
   {
    "duration": -6758,
    "start_time": "2021-09-17T13:21:53.977Z"
   },
   {
    "duration": -6761,
    "start_time": "2021-09-17T13:21:53.982Z"
   },
   {
    "duration": -6765,
    "start_time": "2021-09-17T13:21:53.987Z"
   },
   {
    "duration": -6769,
    "start_time": "2021-09-17T13:21:53.992Z"
   },
   {
    "duration": -6771,
    "start_time": "2021-09-17T13:21:53.996Z"
   },
   {
    "duration": -6775,
    "start_time": "2021-09-17T13:21:54.001Z"
   },
   {
    "duration": -6787,
    "start_time": "2021-09-17T13:21:54.014Z"
   },
   {
    "duration": -6790,
    "start_time": "2021-09-17T13:21:54.019Z"
   },
   {
    "duration": 10517,
    "start_time": "2021-09-17T13:22:25.395Z"
   },
   {
    "duration": 36,
    "start_time": "2021-09-17T13:23:06.321Z"
   },
   {
    "duration": 4,
    "start_time": "2021-09-17T13:25:51.816Z"
   },
   {
    "duration": 352,
    "start_time": "2021-09-17T13:25:51.826Z"
   },
   {
    "duration": 36,
    "start_time": "2021-09-17T13:25:52.180Z"
   },
   {
    "duration": 297,
    "start_time": "2021-09-17T13:25:52.219Z"
   },
   {
    "duration": 25,
    "start_time": "2021-09-17T13:25:52.520Z"
   },
   {
    "duration": 343,
    "start_time": "2021-09-17T13:25:52.548Z"
   },
   {
    "duration": 73,
    "start_time": "2021-09-17T13:25:52.893Z"
   },
   {
    "duration": 14,
    "start_time": "2021-09-17T13:25:52.968Z"
   },
   {
    "duration": 20,
    "start_time": "2021-09-17T13:25:52.984Z"
   },
   {
    "duration": 105,
    "start_time": "2021-09-17T13:25:53.008Z"
   },
   {
    "duration": 318,
    "start_time": "2021-09-17T13:25:53.116Z"
   },
   {
    "duration": 333,
    "start_time": "2021-09-17T13:25:53.436Z"
   },
   {
    "duration": 111,
    "start_time": "2021-09-17T13:25:53.772Z"
   },
   {
    "duration": 139,
    "start_time": "2021-09-17T13:25:53.886Z"
   },
   {
    "duration": 3,
    "start_time": "2021-09-17T13:25:54.028Z"
   },
   {
    "duration": 193,
    "start_time": "2021-09-17T13:25:54.034Z"
   },
   {
    "duration": 88,
    "start_time": "2021-09-17T13:25:54.229Z"
   },
   {
    "duration": 62,
    "start_time": "2021-09-17T13:25:54.320Z"
   },
   {
    "duration": 71,
    "start_time": "2021-09-17T13:25:54.385Z"
   },
   {
    "duration": 31,
    "start_time": "2021-09-17T13:25:54.458Z"
   },
   {
    "duration": 172,
    "start_time": "2021-09-17T13:25:54.492Z"
   },
   {
    "duration": 20,
    "start_time": "2021-09-17T13:25:54.666Z"
   },
   {
    "duration": 490,
    "start_time": "2021-09-17T13:25:54.689Z"
   },
   {
    "duration": 93,
    "start_time": "2021-09-17T13:25:55.182Z"
   },
   {
    "duration": 15,
    "start_time": "2021-09-17T13:25:55.277Z"
   },
   {
    "duration": 56,
    "start_time": "2021-09-17T13:25:55.295Z"
   },
   {
    "duration": 39,
    "start_time": "2021-09-17T13:25:55.354Z"
   },
   {
    "duration": 18,
    "start_time": "2021-09-17T13:25:55.415Z"
   },
   {
    "duration": 221,
    "start_time": "2021-09-17T13:25:55.436Z"
   },
   {
    "duration": 58,
    "start_time": "2021-09-17T13:25:55.659Z"
   },
   {
    "duration": 97,
    "start_time": "2021-09-17T13:25:55.720Z"
   },
   {
    "duration": 46,
    "start_time": "2021-09-17T13:25:55.820Z"
   },
   {
    "duration": 13,
    "start_time": "2021-09-17T13:25:55.869Z"
   },
   {
    "duration": 136,
    "start_time": "2021-09-17T13:25:55.884Z"
   },
   {
    "duration": 116,
    "start_time": "2021-09-17T13:25:56.022Z"
   },
   {
    "duration": 15,
    "start_time": "2021-09-17T13:25:56.140Z"
   },
   {
    "duration": 59,
    "start_time": "2021-09-17T13:25:56.157Z"
   },
   {
    "duration": 24,
    "start_time": "2021-09-17T13:25:56.219Z"
   },
   {
    "duration": 71,
    "start_time": "2021-09-17T13:25:56.246Z"
   },
   {
    "duration": 56,
    "start_time": "2021-09-17T13:25:56.320Z"
   },
   {
    "duration": 50,
    "start_time": "2021-09-17T13:25:56.379Z"
   },
   {
    "duration": 39,
    "start_time": "2021-09-17T13:25:56.432Z"
   },
   {
    "duration": 49,
    "start_time": "2021-09-17T13:25:56.474Z"
   },
   {
    "duration": 15,
    "start_time": "2021-09-17T13:25:56.526Z"
   },
   {
    "duration": 378,
    "start_time": "2021-09-17T13:25:56.543Z"
   },
   {
    "duration": 15,
    "start_time": "2021-09-17T13:25:56.923Z"
   },
   {
    "duration": 329,
    "start_time": "2021-09-17T13:25:56.940Z"
   },
   {
    "duration": 25,
    "start_time": "2021-09-17T13:25:57.271Z"
   },
   {
    "duration": 30,
    "start_time": "2021-09-17T13:25:57.299Z"
   },
   {
    "duration": 324,
    "start_time": "2021-09-17T13:25:57.331Z"
   },
   {
    "duration": 15,
    "start_time": "2021-09-17T13:25:57.657Z"
   },
   {
    "duration": 327,
    "start_time": "2021-09-17T13:25:57.674Z"
   },
   {
    "duration": 91,
    "start_time": "2021-09-17T13:25:58.004Z"
   },
   {
    "duration": 28,
    "start_time": "2021-09-17T13:25:58.097Z"
   },
   {
    "duration": 339,
    "start_time": "2021-09-17T13:25:58.127Z"
   },
   {
    "duration": 21,
    "start_time": "2021-09-17T13:25:58.468Z"
   },
   {
    "duration": 473,
    "start_time": "2021-09-17T13:25:58.492Z"
   },
   {
    "duration": 411,
    "start_time": "2021-09-17T13:25:58.968Z"
   },
   {
    "duration": -6575,
    "start_time": "2021-09-17T13:26:05.957Z"
   },
   {
    "duration": 37,
    "start_time": "2021-09-17T13:37:35.181Z"
   },
   {
    "duration": 11,
    "start_time": "2021-09-17T13:47:33.788Z"
   },
   {
    "duration": 9,
    "start_time": "2021-09-17T13:49:47.020Z"
   },
   {
    "duration": 9,
    "start_time": "2021-09-17T13:50:11.163Z"
   },
   {
    "duration": 1032,
    "start_time": "2021-09-17T13:52:34.111Z"
   },
   {
    "duration": 386,
    "start_time": "2021-09-17T13:52:47.633Z"
   },
   {
    "duration": 32,
    "start_time": "2021-09-17T13:53:07.880Z"
   },
   {
    "duration": 30,
    "start_time": "2021-09-17T13:53:22.645Z"
   },
   {
    "duration": 9482,
    "start_time": "2021-09-17T13:56:48.736Z"
   },
   {
    "duration": 10751,
    "start_time": "2021-09-17T13:58:22.877Z"
   },
   {
    "duration": 1905,
    "start_time": "2021-09-18T08:53:59.253Z"
   },
   {
    "duration": 4,
    "start_time": "2021-09-18T08:54:05.855Z"
   },
   {
    "duration": 373,
    "start_time": "2021-09-18T08:54:05.863Z"
   },
   {
    "duration": 47,
    "start_time": "2021-09-18T08:54:06.239Z"
   },
   {
    "duration": 363,
    "start_time": "2021-09-18T08:54:06.289Z"
   },
   {
    "duration": 26,
    "start_time": "2021-09-18T08:54:06.655Z"
   },
   {
    "duration": 259,
    "start_time": "2021-09-18T08:54:06.684Z"
   },
   {
    "duration": 130,
    "start_time": "2021-09-18T08:54:06.945Z"
   },
   {
    "duration": 13,
    "start_time": "2021-09-18T08:54:07.078Z"
   },
   {
    "duration": 10,
    "start_time": "2021-09-18T08:54:07.095Z"
   },
   {
    "duration": 1158,
    "start_time": "2021-09-18T08:54:07.108Z"
   },
   {
    "duration": 368,
    "start_time": "2021-09-18T08:54:08.268Z"
   },
   {
    "duration": 360,
    "start_time": "2021-09-18T08:54:08.639Z"
   },
   {
    "duration": 133,
    "start_time": "2021-09-18T08:54:09.002Z"
   },
   {
    "duration": 152,
    "start_time": "2021-09-18T08:54:09.138Z"
   },
   {
    "duration": 4,
    "start_time": "2021-09-18T08:54:09.293Z"
   },
   {
    "duration": 218,
    "start_time": "2021-09-18T08:54:09.300Z"
   },
   {
    "duration": 84,
    "start_time": "2021-09-18T08:54:09.521Z"
   },
   {
    "duration": 80,
    "start_time": "2021-09-18T08:54:09.609Z"
   },
   {
    "duration": 77,
    "start_time": "2021-09-18T08:54:09.692Z"
   },
   {
    "duration": 35,
    "start_time": "2021-09-18T08:54:09.772Z"
   },
   {
    "duration": 222,
    "start_time": "2021-09-18T08:54:09.810Z"
   },
   {
    "duration": 35,
    "start_time": "2021-09-18T08:54:10.036Z"
   },
   {
    "duration": 533,
    "start_time": "2021-09-18T08:54:10.074Z"
   },
   {
    "duration": 104,
    "start_time": "2021-09-18T08:54:10.609Z"
   },
   {
    "duration": 8,
    "start_time": "2021-09-18T08:54:10.716Z"
   },
   {
    "duration": 58,
    "start_time": "2021-09-18T08:54:10.727Z"
   },
   {
    "duration": 40,
    "start_time": "2021-09-18T08:54:10.792Z"
   },
   {
    "duration": 42,
    "start_time": "2021-09-18T08:54:10.836Z"
   },
   {
    "duration": 229,
    "start_time": "2021-09-18T08:54:10.880Z"
   },
   {
    "duration": 57,
    "start_time": "2021-09-18T08:54:11.111Z"
   },
   {
    "duration": 105,
    "start_time": "2021-09-18T08:54:11.171Z"
   },
   {
    "duration": 50,
    "start_time": "2021-09-18T08:54:11.278Z"
   },
   {
    "duration": 13,
    "start_time": "2021-09-18T08:54:11.330Z"
   },
   {
    "duration": 118,
    "start_time": "2021-09-18T08:54:11.368Z"
   },
   {
    "duration": 113,
    "start_time": "2021-09-18T08:54:11.488Z"
   },
   {
    "duration": 16,
    "start_time": "2021-09-18T08:54:11.604Z"
   },
   {
    "duration": 54,
    "start_time": "2021-09-18T08:54:11.623Z"
   },
   {
    "duration": 24,
    "start_time": "2021-09-18T08:54:11.680Z"
   },
   {
    "duration": 77,
    "start_time": "2021-09-18T08:54:11.706Z"
   },
   {
    "duration": 55,
    "start_time": "2021-09-18T08:54:11.785Z"
   },
   {
    "duration": 43,
    "start_time": "2021-09-18T08:54:11.843Z"
   },
   {
    "duration": 37,
    "start_time": "2021-09-18T08:54:11.888Z"
   },
   {
    "duration": 6154,
    "start_time": "2021-09-18T08:54:11.927Z"
   },
   {
    "duration": -7891,
    "start_time": "2021-09-18T08:54:25.974Z"
   },
   {
    "duration": -7898,
    "start_time": "2021-09-18T08:54:25.983Z"
   },
   {
    "duration": -7905,
    "start_time": "2021-09-18T08:54:25.991Z"
   },
   {
    "duration": -7910,
    "start_time": "2021-09-18T08:54:25.998Z"
   },
   {
    "duration": -7928,
    "start_time": "2021-09-18T08:54:26.017Z"
   },
   {
    "duration": -7935,
    "start_time": "2021-09-18T08:54:26.026Z"
   },
   {
    "duration": -7952,
    "start_time": "2021-09-18T08:54:26.044Z"
   },
   {
    "duration": -7959,
    "start_time": "2021-09-18T08:54:26.053Z"
   },
   {
    "duration": -7966,
    "start_time": "2021-09-18T08:54:26.061Z"
   },
   {
    "duration": -7972,
    "start_time": "2021-09-18T08:54:26.069Z"
   },
   {
    "duration": -7979,
    "start_time": "2021-09-18T08:54:26.077Z"
   },
   {
    "duration": -7986,
    "start_time": "2021-09-18T08:54:26.085Z"
   },
   {
    "duration": -7992,
    "start_time": "2021-09-18T08:54:26.092Z"
   },
   {
    "duration": -8002,
    "start_time": "2021-09-18T08:54:26.104Z"
   },
   {
    "duration": -8010,
    "start_time": "2021-09-18T08:54:26.113Z"
   },
   {
    "duration": -8025,
    "start_time": "2021-09-18T08:54:26.129Z"
   },
   {
    "duration": -8031,
    "start_time": "2021-09-18T08:54:26.137Z"
   },
   {
    "duration": -8038,
    "start_time": "2021-09-18T08:54:26.145Z"
   },
   {
    "duration": -8045,
    "start_time": "2021-09-18T08:54:26.153Z"
   },
   {
    "duration": -8051,
    "start_time": "2021-09-18T08:54:26.160Z"
   },
   {
    "duration": 6462,
    "start_time": "2021-09-18T08:54:41.629Z"
   },
   {
    "duration": 34,
    "start_time": "2021-09-18T08:55:13.721Z"
   },
   {
    "duration": 7157,
    "start_time": "2021-09-18T08:55:34.540Z"
   },
   {
    "duration": 35,
    "start_time": "2021-09-18T08:55:49.900Z"
   },
   {
    "duration": 6863,
    "start_time": "2021-09-18T08:55:56.968Z"
   },
   {
    "duration": 4,
    "start_time": "2021-09-18T08:56:12.440Z"
   },
   {
    "duration": 365,
    "start_time": "2021-09-18T08:56:12.465Z"
   },
   {
    "duration": 36,
    "start_time": "2021-09-18T08:56:12.832Z"
   },
   {
    "duration": 394,
    "start_time": "2021-09-18T08:56:12.871Z"
   },
   {
    "duration": 26,
    "start_time": "2021-09-18T08:56:13.268Z"
   },
   {
    "duration": 271,
    "start_time": "2021-09-18T08:56:13.297Z"
   },
   {
    "duration": 52,
    "start_time": "2021-09-18T08:56:13.571Z"
   },
   {
    "duration": 13,
    "start_time": "2021-09-18T08:56:13.626Z"
   },
   {
    "duration": 10,
    "start_time": "2021-09-18T08:56:13.642Z"
   },
   {
    "duration": 65,
    "start_time": "2021-09-18T08:56:13.656Z"
   },
   {
    "duration": 329,
    "start_time": "2021-09-18T08:56:13.725Z"
   },
   {
    "duration": 342,
    "start_time": "2021-09-18T08:56:14.056Z"
   },
   {
    "duration": 127,
    "start_time": "2021-09-18T08:56:14.401Z"
   },
   {
    "duration": 149,
    "start_time": "2021-09-18T08:56:14.531Z"
   },
   {
    "duration": 4,
    "start_time": "2021-09-18T08:56:14.682Z"
   },
   {
    "duration": 204,
    "start_time": "2021-09-18T08:56:14.689Z"
   },
   {
    "duration": 93,
    "start_time": "2021-09-18T08:56:14.896Z"
   },
   {
    "duration": 79,
    "start_time": "2021-09-18T08:56:14.991Z"
   },
   {
    "duration": 56,
    "start_time": "2021-09-18T08:56:15.072Z"
   },
   {
    "duration": 56,
    "start_time": "2021-09-18T08:56:15.131Z"
   },
   {
    "duration": 156,
    "start_time": "2021-09-18T08:56:15.190Z"
   },
   {
    "duration": 33,
    "start_time": "2021-09-18T08:56:15.349Z"
   },
   {
    "duration": 604,
    "start_time": "2021-09-18T08:56:15.385Z"
   },
   {
    "duration": 104,
    "start_time": "2021-09-18T08:56:15.991Z"
   },
   {
    "duration": 9,
    "start_time": "2021-09-18T08:56:16.098Z"
   },
   {
    "duration": 60,
    "start_time": "2021-09-18T08:56:16.109Z"
   },
   {
    "duration": 42,
    "start_time": "2021-09-18T08:56:16.171Z"
   },
   {
    "duration": 19,
    "start_time": "2021-09-18T08:56:16.219Z"
   },
   {
    "duration": 246,
    "start_time": "2021-09-18T08:56:16.241Z"
   },
   {
    "duration": 49,
    "start_time": "2021-09-18T08:56:16.491Z"
   },
   {
    "duration": 126,
    "start_time": "2021-09-18T08:56:16.543Z"
   },
   {
    "duration": 96,
    "start_time": "2021-09-18T08:56:16.671Z"
   },
   {
    "duration": 18,
    "start_time": "2021-09-18T08:56:16.770Z"
   },
   {
    "duration": 137,
    "start_time": "2021-09-18T08:56:16.792Z"
   },
   {
    "duration": 116,
    "start_time": "2021-09-18T08:56:16.932Z"
   },
   {
    "duration": 26,
    "start_time": "2021-09-18T08:56:17.051Z"
   },
   {
    "duration": 32,
    "start_time": "2021-09-18T08:56:17.079Z"
   },
   {
    "duration": 54,
    "start_time": "2021-09-18T08:56:17.114Z"
   },
   {
    "duration": 53,
    "start_time": "2021-09-18T08:56:17.171Z"
   },
   {
    "duration": 77,
    "start_time": "2021-09-18T08:56:17.227Z"
   },
   {
    "duration": 24,
    "start_time": "2021-09-18T08:56:17.306Z"
   },
   {
    "duration": 61,
    "start_time": "2021-09-18T08:56:17.333Z"
   },
   {
    "duration": 7205,
    "start_time": "2021-09-18T08:56:17.397Z"
   },
   {
    "duration": -7871,
    "start_time": "2021-09-18T08:56:32.475Z"
   },
   {
    "duration": -7880,
    "start_time": "2021-09-18T08:56:32.486Z"
   },
   {
    "duration": -7885,
    "start_time": "2021-09-18T08:56:32.492Z"
   },
   {
    "duration": -7888,
    "start_time": "2021-09-18T08:56:32.497Z"
   },
   {
    "duration": -7893,
    "start_time": "2021-09-18T08:56:32.503Z"
   },
   {
    "duration": -7897,
    "start_time": "2021-09-18T08:56:32.508Z"
   },
   {
    "duration": -7900,
    "start_time": "2021-09-18T08:56:32.513Z"
   },
   {
    "duration": -7905,
    "start_time": "2021-09-18T08:56:32.519Z"
   },
   {
    "duration": -7912,
    "start_time": "2021-09-18T08:56:32.527Z"
   },
   {
    "duration": -7918,
    "start_time": "2021-09-18T08:56:32.534Z"
   },
   {
    "duration": -7934,
    "start_time": "2021-09-18T08:56:32.552Z"
   },
   {
    "duration": -7937,
    "start_time": "2021-09-18T08:56:32.556Z"
   },
   {
    "duration": -7940,
    "start_time": "2021-09-18T08:56:32.561Z"
   },
   {
    "duration": -7944,
    "start_time": "2021-09-18T08:56:32.566Z"
   },
   {
    "duration": -7947,
    "start_time": "2021-09-18T08:56:32.571Z"
   },
   {
    "duration": -7950,
    "start_time": "2021-09-18T08:56:32.575Z"
   },
   {
    "duration": -7954,
    "start_time": "2021-09-18T08:56:32.580Z"
   },
   {
    "duration": -7957,
    "start_time": "2021-09-18T08:56:32.585Z"
   },
   {
    "duration": -7961,
    "start_time": "2021-09-18T08:56:32.590Z"
   },
   {
    "duration": -7964,
    "start_time": "2021-09-18T08:56:32.594Z"
   },
   {
    "duration": 22,
    "start_time": "2021-09-18T08:57:19.219Z"
   },
   {
    "duration": 29,
    "start_time": "2021-09-18T08:57:32.675Z"
   },
   {
    "duration": 9,
    "start_time": "2021-09-18T09:00:23.551Z"
   },
   {
    "duration": 4,
    "start_time": "2021-09-18T09:00:27.200Z"
   },
   {
    "duration": 265,
    "start_time": "2021-09-18T09:00:27.207Z"
   },
   {
    "duration": 28,
    "start_time": "2021-09-18T09:00:27.475Z"
   },
   {
    "duration": 274,
    "start_time": "2021-09-18T09:00:27.507Z"
   },
   {
    "duration": 27,
    "start_time": "2021-09-18T09:00:27.784Z"
   },
   {
    "duration": 202,
    "start_time": "2021-09-18T09:00:27.813Z"
   },
   {
    "duration": 46,
    "start_time": "2021-09-18T09:00:28.017Z"
   },
   {
    "duration": 14,
    "start_time": "2021-09-18T09:00:28.066Z"
   },
   {
    "duration": 10,
    "start_time": "2021-09-18T09:00:28.084Z"
   },
   {
    "duration": 1068,
    "start_time": "2021-09-18T09:00:28.097Z"
   },
   {
    "duration": 338,
    "start_time": "2021-09-18T09:00:29.168Z"
   },
   {
    "duration": 348,
    "start_time": "2021-09-18T09:00:29.508Z"
   },
   {
    "duration": 122,
    "start_time": "2021-09-18T09:00:29.858Z"
   },
   {
    "duration": 147,
    "start_time": "2021-09-18T09:00:29.983Z"
   },
   {
    "duration": 4,
    "start_time": "2021-09-18T09:00:30.132Z"
   },
   {
    "duration": 220,
    "start_time": "2021-09-18T09:00:30.139Z"
   },
   {
    "duration": 85,
    "start_time": "2021-09-18T09:00:30.361Z"
   },
   {
    "duration": 78,
    "start_time": "2021-09-18T09:00:30.449Z"
   },
   {
    "duration": 80,
    "start_time": "2021-09-18T09:00:30.530Z"
   },
   {
    "duration": 54,
    "start_time": "2021-09-18T09:00:30.613Z"
   },
   {
    "duration": 157,
    "start_time": "2021-09-18T09:00:30.669Z"
   },
   {
    "duration": 22,
    "start_time": "2021-09-18T09:00:30.829Z"
   },
   {
    "duration": 546,
    "start_time": "2021-09-18T09:00:30.868Z"
   },
   {
    "duration": 105,
    "start_time": "2021-09-18T09:00:31.416Z"
   },
   {
    "duration": 18,
    "start_time": "2021-09-18T09:00:31.524Z"
   },
   {
    "duration": 54,
    "start_time": "2021-09-18T09:00:31.544Z"
   },
   {
    "duration": 55,
    "start_time": "2021-09-18T09:00:31.605Z"
   },
   {
    "duration": 20,
    "start_time": "2021-09-18T09:00:31.664Z"
   },
   {
    "duration": 343,
    "start_time": "2021-09-18T09:00:31.687Z"
   },
   {
    "duration": 69,
    "start_time": "2021-09-18T09:00:32.033Z"
   },
   {
    "duration": 137,
    "start_time": "2021-09-18T09:00:32.105Z"
   },
   {
    "duration": 91,
    "start_time": "2021-09-18T09:00:32.245Z"
   },
   {
    "duration": 35,
    "start_time": "2021-09-18T09:00:32.339Z"
   },
   {
    "duration": 124,
    "start_time": "2021-09-18T09:00:32.377Z"
   },
   {
    "duration": 144,
    "start_time": "2021-09-18T09:00:32.504Z"
   },
   {
    "duration": 22,
    "start_time": "2021-09-18T09:00:32.654Z"
   },
   {
    "duration": 33,
    "start_time": "2021-09-18T09:00:32.679Z"
   },
   {
    "duration": 54,
    "start_time": "2021-09-18T09:00:32.714Z"
   },
   {
    "duration": 54,
    "start_time": "2021-09-18T09:00:32.771Z"
   },
   {
    "duration": 90,
    "start_time": "2021-09-18T09:00:32.828Z"
   },
   {
    "duration": 25,
    "start_time": "2021-09-18T09:00:32.920Z"
   },
   {
    "duration": 43,
    "start_time": "2021-09-18T09:00:32.968Z"
   },
   {
    "duration": 59,
    "start_time": "2021-09-18T09:00:33.014Z"
   },
   {
    "duration": 8,
    "start_time": "2021-09-18T09:00:33.076Z"
   },
   {
    "duration": 24,
    "start_time": "2021-09-18T09:00:33.088Z"
   },
   {
    "duration": 64,
    "start_time": "2021-09-18T09:00:33.115Z"
   },
   {
    "duration": 22,
    "start_time": "2021-09-18T09:00:33.182Z"
   },
   {
    "duration": 454,
    "start_time": "2021-09-18T09:00:33.207Z"
   },
   {
    "duration": 530,
    "start_time": "2021-09-18T09:00:33.668Z"
   },
   {
    "duration": 13,
    "start_time": "2021-09-18T09:00:34.200Z"
   },
   {
    "duration": 397,
    "start_time": "2021-09-18T09:00:34.216Z"
   },
   {
    "duration": 29,
    "start_time": "2021-09-18T09:00:34.616Z"
   },
   {
    "duration": 20,
    "start_time": "2021-09-18T09:00:34.669Z"
   },
   {
    "duration": 345,
    "start_time": "2021-09-18T09:00:34.692Z"
   },
   {
    "duration": 14,
    "start_time": "2021-09-18T09:00:35.040Z"
   },
   {
    "duration": 343,
    "start_time": "2021-09-18T09:00:35.068Z"
   },
   {
    "duration": 89,
    "start_time": "2021-09-18T09:00:35.414Z"
   },
   {
    "duration": 20,
    "start_time": "2021-09-18T09:00:35.506Z"
   },
   {
    "duration": 439,
    "start_time": "2021-09-18T09:00:35.528Z"
   },
   {
    "duration": 21,
    "start_time": "2021-09-18T09:00:35.969Z"
   },
   {
    "duration": 331,
    "start_time": "2021-09-18T09:00:35.993Z"
   },
   {
    "duration": 231,
    "start_time": "2021-09-18T09:00:36.327Z"
   },
   {
    "duration": -7822,
    "start_time": "2021-09-18T09:00:44.383Z"
   },
   {
    "duration": 316,
    "start_time": "2021-09-18T09:03:09.342Z"
   },
   {
    "duration": 321,
    "start_time": "2021-09-18T09:03:18.339Z"
   },
   {
    "duration": 296,
    "start_time": "2021-09-18T09:03:38.297Z"
   },
   {
    "duration": 274,
    "start_time": "2021-09-18T09:03:46.695Z"
   },
   {
    "duration": 345,
    "start_time": "2021-09-18T09:03:54.943Z"
   },
   {
    "duration": 474,
    "start_time": "2021-09-18T09:06:16.959Z"
   },
   {
    "duration": 998,
    "start_time": "2021-09-18T09:06:40.913Z"
   },
   {
    "duration": 323,
    "start_time": "2021-09-18T09:07:17.790Z"
   },
   {
    "duration": 354,
    "start_time": "2021-09-18T09:08:43.565Z"
   },
   {
    "duration": 353,
    "start_time": "2021-09-18T09:09:02.839Z"
   },
   {
    "duration": 419,
    "start_time": "2021-09-20T09:18:50.305Z"
   },
   {
    "duration": 1199,
    "start_time": "2021-09-20T09:19:02.455Z"
   },
   {
    "duration": 512,
    "start_time": "2021-09-20T09:19:03.656Z"
   },
   {
    "duration": 21,
    "start_time": "2021-09-20T09:19:04.171Z"
   },
   {
    "duration": 282,
    "start_time": "2021-09-20T09:19:04.194Z"
   },
   {
    "duration": 17,
    "start_time": "2021-09-20T09:19:04.477Z"
   },
   {
    "duration": 244,
    "start_time": "2021-09-20T09:19:04.495Z"
   },
   {
    "duration": 59,
    "start_time": "2021-09-20T09:19:04.741Z"
   },
   {
    "duration": 9,
    "start_time": "2021-09-20T09:19:04.803Z"
   },
   {
    "duration": 6,
    "start_time": "2021-09-20T09:19:04.814Z"
   },
   {
    "duration": 69,
    "start_time": "2021-09-20T09:19:04.822Z"
   },
   {
    "duration": 333,
    "start_time": "2021-09-20T09:19:04.893Z"
   },
   {
    "duration": 258,
    "start_time": "2021-09-20T09:19:05.227Z"
   },
   {
    "duration": 74,
    "start_time": "2021-09-20T09:19:05.487Z"
   },
   {
    "duration": 100,
    "start_time": "2021-09-20T09:19:05.562Z"
   },
   {
    "duration": 14,
    "start_time": "2021-09-20T09:19:05.663Z"
   },
   {
    "duration": 148,
    "start_time": "2021-09-20T09:19:05.679Z"
   },
   {
    "duration": 62,
    "start_time": "2021-09-20T09:19:05.829Z"
   },
   {
    "duration": 45,
    "start_time": "2021-09-20T09:19:05.893Z"
   },
   {
    "duration": 51,
    "start_time": "2021-09-20T09:19:05.940Z"
   },
   {
    "duration": 22,
    "start_time": "2021-09-20T09:19:05.992Z"
   },
   {
    "duration": 147,
    "start_time": "2021-09-20T09:19:06.016Z"
   },
   {
    "duration": 19,
    "start_time": "2021-09-20T09:19:06.165Z"
   },
   {
    "duration": 333,
    "start_time": "2021-09-20T09:19:06.188Z"
   },
   {
    "duration": 75,
    "start_time": "2021-09-20T09:19:06.524Z"
   },
   {
    "duration": 9,
    "start_time": "2021-09-20T09:19:06.601Z"
   },
   {
    "duration": 24,
    "start_time": "2021-09-20T09:19:06.612Z"
   },
   {
    "duration": 47,
    "start_time": "2021-09-20T09:19:06.638Z"
   },
   {
    "duration": 14,
    "start_time": "2021-09-20T09:19:06.686Z"
   },
   {
    "duration": 163,
    "start_time": "2021-09-20T09:19:06.702Z"
   },
   {
    "duration": 35,
    "start_time": "2021-09-20T09:19:06.866Z"
   },
   {
    "duration": 78,
    "start_time": "2021-09-20T09:19:06.903Z"
   },
   {
    "duration": 37,
    "start_time": "2021-09-20T09:19:06.982Z"
   },
   {
    "duration": 11,
    "start_time": "2021-09-20T09:19:07.021Z"
   },
   {
    "duration": 98,
    "start_time": "2021-09-20T09:19:07.033Z"
   },
   {
    "duration": 80,
    "start_time": "2021-09-20T09:19:07.132Z"
   },
   {
    "duration": 13,
    "start_time": "2021-09-20T09:19:07.214Z"
   },
   {
    "duration": 23,
    "start_time": "2021-09-20T09:19:07.229Z"
   },
   {
    "duration": 37,
    "start_time": "2021-09-20T09:19:07.254Z"
   },
   {
    "duration": 41,
    "start_time": "2021-09-20T09:19:07.293Z"
   },
   {
    "duration": 65,
    "start_time": "2021-09-20T09:19:07.335Z"
   },
   {
    "duration": 19,
    "start_time": "2021-09-20T09:19:07.402Z"
   },
   {
    "duration": 30,
    "start_time": "2021-09-20T09:19:07.423Z"
   },
   {
    "duration": 35,
    "start_time": "2021-09-20T09:19:07.455Z"
   },
   {
    "duration": 6,
    "start_time": "2021-09-20T09:19:07.492Z"
   },
   {
    "duration": 8,
    "start_time": "2021-09-20T09:19:07.500Z"
   },
   {
    "duration": 19,
    "start_time": "2021-09-20T09:19:07.510Z"
   },
   {
    "duration": 10,
    "start_time": "2021-09-20T09:19:07.531Z"
   },
   {
    "duration": 301,
    "start_time": "2021-09-20T09:19:07.543Z"
   },
   {
    "duration": 218,
    "start_time": "2021-09-20T09:19:07.846Z"
   },
   {
    "duration": 15,
    "start_time": "2021-09-20T09:19:08.066Z"
   },
   {
    "duration": 211,
    "start_time": "2021-09-20T09:19:08.083Z"
   },
   {
    "duration": 20,
    "start_time": "2021-09-20T09:19:08.295Z"
   },
   {
    "duration": 13,
    "start_time": "2021-09-20T09:19:08.316Z"
   },
   {
    "duration": 219,
    "start_time": "2021-09-20T09:19:08.330Z"
   },
   {
    "duration": 10,
    "start_time": "2021-09-20T09:19:08.551Z"
   },
   {
    "duration": 216,
    "start_time": "2021-09-20T09:19:08.562Z"
   },
   {
    "duration": 55,
    "start_time": "2021-09-20T09:19:08.780Z"
   },
   {
    "duration": 12,
    "start_time": "2021-09-20T09:19:08.836Z"
   },
   {
    "duration": 230,
    "start_time": "2021-09-20T09:19:08.850Z"
   },
   {
    "duration": 16,
    "start_time": "2021-09-20T09:19:09.081Z"
   },
   {
    "duration": 265,
    "start_time": "2021-09-20T09:19:09.098Z"
   },
   {
    "duration": 398,
    "start_time": "2021-09-20T09:19:09.364Z"
   },
   {
    "duration": -2476,
    "start_time": "2021-09-20T09:19:12.240Z"
   },
   {
    "duration": 460,
    "start_time": "2021-09-20T09:20:14.255Z"
   },
   {
    "duration": 70,
    "start_time": "2021-09-20T09:20:21.656Z"
   },
   {
    "duration": 83,
    "start_time": "2021-09-20T09:21:08.495Z"
   },
   {
    "duration": 30,
    "start_time": "2021-09-20T09:21:55.654Z"
   },
   {
    "duration": 198,
    "start_time": "2021-09-20T09:25:47.387Z"
   },
   {
    "duration": 8,
    "start_time": "2021-09-20T09:27:37.061Z"
   },
   {
    "duration": 411,
    "start_time": "2021-09-20T09:28:29.446Z"
   },
   {
    "duration": 25,
    "start_time": "2021-09-20T09:37:17.841Z"
   },
   {
    "duration": 25,
    "start_time": "2021-09-20T09:37:47.838Z"
   },
   {
    "duration": 23,
    "start_time": "2021-09-20T09:38:29.154Z"
   },
   {
    "duration": 27,
    "start_time": "2021-09-20T09:38:37.790Z"
   },
   {
    "duration": 25,
    "start_time": "2021-09-20T09:39:43.311Z"
   },
   {
    "duration": 30,
    "start_time": "2021-09-20T09:40:05.233Z"
   },
   {
    "duration": 650,
    "start_time": "2021-09-20T09:46:32.546Z"
   },
   {
    "duration": 3,
    "start_time": "2021-09-20T09:47:07.346Z"
   },
   {
    "duration": 377,
    "start_time": "2021-09-20T09:47:07.354Z"
   },
   {
    "duration": 22,
    "start_time": "2021-09-20T09:47:07.733Z"
   },
   {
    "duration": 325,
    "start_time": "2021-09-20T09:47:07.758Z"
   },
   {
    "duration": 18,
    "start_time": "2021-09-20T09:47:08.085Z"
   },
   {
    "duration": 1320,
    "start_time": "2021-09-20T09:47:08.105Z"
   },
   {
    "duration": 67,
    "start_time": "2021-09-20T09:47:09.427Z"
   },
   {
    "duration": 10,
    "start_time": "2021-09-20T09:47:09.496Z"
   },
   {
    "duration": 8,
    "start_time": "2021-09-20T09:47:09.508Z"
   },
   {
    "duration": 74,
    "start_time": "2021-09-20T09:47:09.519Z"
   },
   {
    "duration": 224,
    "start_time": "2021-09-20T09:47:09.595Z"
   },
   {
    "duration": 237,
    "start_time": "2021-09-20T09:47:09.821Z"
   },
   {
    "duration": 78,
    "start_time": "2021-09-20T09:47:10.060Z"
   },
   {
    "duration": 95,
    "start_time": "2021-09-20T09:47:10.140Z"
   },
   {
    "duration": 3,
    "start_time": "2021-09-20T09:47:10.236Z"
   },
   {
    "duration": 159,
    "start_time": "2021-09-20T09:47:10.241Z"
   },
   {
    "duration": 56,
    "start_time": "2021-09-20T09:47:10.401Z"
   },
   {
    "duration": 57,
    "start_time": "2021-09-20T09:47:10.458Z"
   },
   {
    "duration": 39,
    "start_time": "2021-09-20T09:47:10.517Z"
   },
   {
    "duration": 38,
    "start_time": "2021-09-20T09:47:10.557Z"
   },
   {
    "duration": 124,
    "start_time": "2021-09-20T09:47:10.597Z"
   },
   {
    "duration": 14,
    "start_time": "2021-09-20T09:47:10.723Z"
   },
   {
    "duration": 325,
    "start_time": "2021-09-20T09:47:10.739Z"
   },
   {
    "duration": 94,
    "start_time": "2021-09-20T09:47:11.066Z"
   },
   {
    "duration": 17,
    "start_time": "2021-09-20T09:47:11.161Z"
   },
   {
    "duration": 50,
    "start_time": "2021-09-20T09:47:11.180Z"
   },
   {
    "duration": 23,
    "start_time": "2021-09-20T09:47:11.232Z"
   },
   {
    "duration": 28,
    "start_time": "2021-09-20T09:47:11.258Z"
   },
   {
    "duration": 156,
    "start_time": "2021-09-20T09:47:11.288Z"
   },
   {
    "duration": 44,
    "start_time": "2021-09-20T09:47:11.446Z"
   },
   {
    "duration": 58,
    "start_time": "2021-09-20T09:47:11.492Z"
   },
   {
    "duration": 51,
    "start_time": "2021-09-20T09:47:11.552Z"
   },
   {
    "duration": 10,
    "start_time": "2021-09-20T09:47:11.605Z"
   },
   {
    "duration": 93,
    "start_time": "2021-09-20T09:47:11.617Z"
   },
   {
    "duration": 77,
    "start_time": "2021-09-20T09:47:11.712Z"
   },
   {
    "duration": 11,
    "start_time": "2021-09-20T09:47:11.791Z"
   },
   {
    "duration": 23,
    "start_time": "2021-09-20T09:47:11.804Z"
   },
   {
    "duration": 15,
    "start_time": "2021-09-20T09:47:11.829Z"
   },
   {
    "duration": 62,
    "start_time": "2021-09-20T09:47:11.846Z"
   },
   {
    "duration": 38,
    "start_time": "2021-09-20T09:47:11.910Z"
   },
   {
    "duration": 33,
    "start_time": "2021-09-20T09:47:11.950Z"
   },
   {
    "duration": 25,
    "start_time": "2021-09-20T09:47:11.985Z"
   },
   {
    "duration": 63,
    "start_time": "2021-09-20T09:47:12.013Z"
   },
   {
    "duration": 8,
    "start_time": "2021-09-20T09:47:12.079Z"
   },
   {
    "duration": 9,
    "start_time": "2021-09-20T09:47:12.089Z"
   },
   {
    "duration": 17,
    "start_time": "2021-09-20T09:47:12.100Z"
   },
   {
    "duration": 10,
    "start_time": "2021-09-20T09:47:12.119Z"
   },
   {
    "duration": 315,
    "start_time": "2021-09-20T09:47:12.130Z"
   },
   {
    "duration": 239,
    "start_time": "2021-09-20T09:47:12.447Z"
   },
   {
    "duration": 12,
    "start_time": "2021-09-20T09:47:12.688Z"
   },
   {
    "duration": 218,
    "start_time": "2021-09-20T09:47:12.702Z"
   },
   {
    "duration": 19,
    "start_time": "2021-09-20T09:47:12.922Z"
   },
   {
    "duration": 32,
    "start_time": "2021-09-20T09:47:12.944Z"
   },
   {
    "duration": 198,
    "start_time": "2021-09-20T09:47:12.978Z"
   },
   {
    "duration": 9,
    "start_time": "2021-09-20T09:47:13.178Z"
   },
   {
    "duration": 213,
    "start_time": "2021-09-20T09:47:13.189Z"
   },
   {
    "duration": 56,
    "start_time": "2021-09-20T09:47:13.403Z"
   },
   {
    "duration": 26,
    "start_time": "2021-09-20T09:47:13.461Z"
   },
   {
    "duration": 208,
    "start_time": "2021-09-20T09:47:13.489Z"
   },
   {
    "duration": 14,
    "start_time": "2021-09-20T09:47:13.700Z"
   },
   {
    "duration": 209,
    "start_time": "2021-09-20T09:47:13.716Z"
   },
   {
    "duration": 355,
    "start_time": "2021-09-20T09:47:13.927Z"
   },
   {
    "duration": -2471,
    "start_time": "2021-09-20T09:47:16.755Z"
   },
   {
    "duration": 39,
    "start_time": "2021-09-20T09:48:08.882Z"
   },
   {
    "duration": 42,
    "start_time": "2021-09-20T09:55:29.165Z"
   },
   {
    "duration": 40,
    "start_time": "2021-09-20T09:55:37.070Z"
   },
   {
    "duration": 40,
    "start_time": "2021-09-20T09:57:04.507Z"
   },
   {
    "duration": 401,
    "start_time": "2021-09-20T11:29:59.040Z"
   },
   {
    "duration": 392,
    "start_time": "2021-09-20T11:31:05.465Z"
   },
   {
    "duration": 45,
    "start_time": "2021-09-20T11:32:13.884Z"
   },
   {
    "duration": 1313,
    "start_time": "2021-09-20T11:35:10.846Z"
   },
   {
    "duration": 38,
    "start_time": "2021-09-20T11:41:24.358Z"
   },
   {
    "duration": 38,
    "start_time": "2021-09-20T11:41:31.779Z"
   },
   {
    "duration": 38,
    "start_time": "2021-09-20T11:41:46.018Z"
   },
   {
    "duration": 39,
    "start_time": "2021-09-20T11:49:57.563Z"
   },
   {
    "duration": 9695,
    "start_time": "2021-09-20T11:53:33.191Z"
   },
   {
    "duration": 10169,
    "start_time": "2021-09-20T11:54:15.641Z"
   },
   {
    "duration": 3,
    "start_time": "2021-09-20T11:54:37.591Z"
   },
   {
    "duration": 348,
    "start_time": "2021-09-20T11:54:37.597Z"
   },
   {
    "duration": 30,
    "start_time": "2021-09-20T11:54:37.947Z"
   },
   {
    "duration": 318,
    "start_time": "2021-09-20T11:54:37.980Z"
   },
   {
    "duration": 18,
    "start_time": "2021-09-20T11:54:38.299Z"
   },
   {
    "duration": 398,
    "start_time": "2021-09-20T11:54:38.319Z"
   },
   {
    "duration": 103,
    "start_time": "2021-09-20T11:54:38.719Z"
   },
   {
    "duration": 10,
    "start_time": "2021-09-20T11:54:38.824Z"
   },
   {
    "duration": 20,
    "start_time": "2021-09-20T11:54:38.836Z"
   },
   {
    "duration": 113,
    "start_time": "2021-09-20T11:54:38.858Z"
   },
   {
    "duration": 226,
    "start_time": "2021-09-20T11:54:38.973Z"
   },
   {
    "duration": 231,
    "start_time": "2021-09-20T11:54:39.201Z"
   },
   {
    "duration": 74,
    "start_time": "2021-09-20T11:54:39.433Z"
   },
   {
    "duration": 88,
    "start_time": "2021-09-20T11:54:39.509Z"
   },
   {
    "duration": 3,
    "start_time": "2021-09-20T11:54:39.599Z"
   },
   {
    "duration": 150,
    "start_time": "2021-09-20T11:54:39.604Z"
   },
   {
    "duration": 59,
    "start_time": "2021-09-20T11:54:39.756Z"
   },
   {
    "duration": 45,
    "start_time": "2021-09-20T11:54:39.816Z"
   },
   {
    "duration": 38,
    "start_time": "2021-09-20T11:54:39.877Z"
   },
   {
    "duration": 20,
    "start_time": "2021-09-20T11:54:39.917Z"
   },
   {
    "duration": 125,
    "start_time": "2021-09-20T11:54:39.939Z"
   },
   {
    "duration": 19,
    "start_time": "2021-09-20T11:54:40.066Z"
   },
   {
    "duration": 325,
    "start_time": "2021-09-20T11:54:40.087Z"
   },
   {
    "duration": 94,
    "start_time": "2021-09-20T11:54:40.414Z"
   },
   {
    "duration": 12,
    "start_time": "2021-09-20T11:54:40.510Z"
   },
   {
    "duration": 63,
    "start_time": "2021-09-20T11:54:40.524Z"
   },
   {
    "duration": 24,
    "start_time": "2021-09-20T11:54:40.592Z"
   },
   {
    "duration": 26,
    "start_time": "2021-09-20T11:54:40.619Z"
   },
   {
    "duration": 162,
    "start_time": "2021-09-20T11:54:40.647Z"
   },
   {
    "duration": 36,
    "start_time": "2021-09-20T11:54:40.810Z"
   },
   {
    "duration": 71,
    "start_time": "2021-09-20T11:54:40.847Z"
   },
   {
    "duration": 38,
    "start_time": "2021-09-20T11:54:40.920Z"
   },
   {
    "duration": 12,
    "start_time": "2021-09-20T11:54:40.977Z"
   },
   {
    "duration": 87,
    "start_time": "2021-09-20T11:54:40.991Z"
   },
   {
    "duration": 74,
    "start_time": "2021-09-20T11:54:41.080Z"
   },
   {
    "duration": 30,
    "start_time": "2021-09-20T11:54:41.156Z"
   },
   {
    "duration": 23,
    "start_time": "2021-09-20T11:54:41.189Z"
   },
   {
    "duration": 18,
    "start_time": "2021-09-20T11:54:41.214Z"
   },
   {
    "duration": 75,
    "start_time": "2021-09-20T11:54:41.234Z"
   },
   {
    "duration": 43,
    "start_time": "2021-09-20T11:54:41.312Z"
   },
   {
    "duration": 35,
    "start_time": "2021-09-20T11:54:41.357Z"
   },
   {
    "duration": 31,
    "start_time": "2021-09-20T11:54:41.394Z"
   },
   {
    "duration": 54,
    "start_time": "2021-09-20T11:54:41.426Z"
   },
   {
    "duration": 6,
    "start_time": "2021-09-20T11:54:41.482Z"
   },
   {
    "duration": 21,
    "start_time": "2021-09-20T11:54:41.489Z"
   },
   {
    "duration": 39,
    "start_time": "2021-09-20T11:54:41.512Z"
   },
   {
    "duration": 15,
    "start_time": "2021-09-20T11:54:41.553Z"
   },
   {
    "duration": 264,
    "start_time": "2021-09-20T11:54:41.570Z"
   },
   {
    "duration": 302,
    "start_time": "2021-09-20T11:54:41.836Z"
   },
   {
    "duration": 12,
    "start_time": "2021-09-20T11:54:42.140Z"
   },
   {
    "duration": 239,
    "start_time": "2021-09-20T11:54:42.154Z"
   },
   {
    "duration": 19,
    "start_time": "2021-09-20T11:54:42.394Z"
   },
   {
    "duration": 10,
    "start_time": "2021-09-20T11:54:42.415Z"
   },
   {
    "duration": 236,
    "start_time": "2021-09-20T11:54:42.427Z"
   },
   {
    "duration": 22,
    "start_time": "2021-09-20T11:54:42.665Z"
   },
   {
    "duration": 230,
    "start_time": "2021-09-20T11:54:42.689Z"
   },
   {
    "duration": 67,
    "start_time": "2021-09-20T11:54:42.921Z"
   },
   {
    "duration": 14,
    "start_time": "2021-09-20T11:54:42.989Z"
   },
   {
    "duration": 222,
    "start_time": "2021-09-20T11:54:43.004Z"
   },
   {
    "duration": 14,
    "start_time": "2021-09-20T11:54:43.227Z"
   },
   {
    "duration": 208,
    "start_time": "2021-09-20T11:54:43.242Z"
   },
   {
    "duration": 11185,
    "start_time": "2021-09-20T11:54:43.452Z"
   },
   {
    "duration": -2500,
    "start_time": "2021-09-20T11:54:57.139Z"
   },
   {
    "duration": 9910,
    "start_time": "2021-09-20T11:57:06.591Z"
   },
   {
    "duration": 9176,
    "start_time": "2021-09-20T11:57:52.997Z"
   },
   {
    "duration": 41,
    "start_time": "2021-09-20T11:58:46.243Z"
   },
   {
    "duration": 860,
    "start_time": "2021-09-20T11:59:32.126Z"
   },
   {
    "duration": 678,
    "start_time": "2021-09-20T11:59:55.522Z"
   },
   {
    "duration": 638,
    "start_time": "2021-09-20T12:01:06.111Z"
   },
   {
    "duration": 665,
    "start_time": "2021-09-20T12:01:26.797Z"
   },
   {
    "duration": 589,
    "start_time": "2021-09-20T12:15:19.961Z"
   },
   {
    "duration": 193,
    "start_time": "2021-09-20T12:15:47.916Z"
   },
   {
    "duration": 23,
    "start_time": "2021-09-20T12:20:50.953Z"
   },
   {
    "duration": 53,
    "start_time": "2021-09-20T12:21:47.788Z"
   },
   {
    "duration": 47,
    "start_time": "2021-09-20T12:24:08.717Z"
   },
   {
    "duration": 3,
    "start_time": "2021-09-20T12:24:14.770Z"
   },
   {
    "duration": 284,
    "start_time": "2021-09-20T12:24:14.775Z"
   },
   {
    "duration": 24,
    "start_time": "2021-09-20T12:24:15.078Z"
   },
   {
    "duration": 347,
    "start_time": "2021-09-20T12:24:15.105Z"
   },
   {
    "duration": 33,
    "start_time": "2021-09-20T12:24:15.454Z"
   },
   {
    "duration": 359,
    "start_time": "2021-09-20T12:24:15.489Z"
   },
   {
    "duration": 61,
    "start_time": "2021-09-20T12:24:15.851Z"
   },
   {
    "duration": 14,
    "start_time": "2021-09-20T12:24:15.915Z"
   },
   {
    "duration": 9,
    "start_time": "2021-09-20T12:24:15.932Z"
   },
   {
    "duration": 71,
    "start_time": "2021-09-20T12:24:15.945Z"
   },
   {
    "duration": 312,
    "start_time": "2021-09-20T12:24:16.018Z"
   },
   {
    "duration": 293,
    "start_time": "2021-09-20T12:24:16.332Z"
   },
   {
    "duration": 77,
    "start_time": "2021-09-20T12:24:16.627Z"
   },
   {
    "duration": 92,
    "start_time": "2021-09-20T12:24:16.706Z"
   },
   {
    "duration": 3,
    "start_time": "2021-09-20T12:24:16.800Z"
   },
   {
    "duration": 161,
    "start_time": "2021-09-20T12:24:16.804Z"
   },
   {
    "duration": 55,
    "start_time": "2021-09-20T12:24:16.967Z"
   },
   {
    "duration": 78,
    "start_time": "2021-09-20T12:24:17.024Z"
   },
   {
    "duration": 76,
    "start_time": "2021-09-20T12:24:17.104Z"
   },
   {
    "duration": 24,
    "start_time": "2021-09-20T12:24:17.182Z"
   },
   {
    "duration": 134,
    "start_time": "2021-09-20T12:24:17.208Z"
   },
   {
    "duration": 58,
    "start_time": "2021-09-20T12:24:17.345Z"
   },
   {
    "duration": 314,
    "start_time": "2021-09-20T12:24:17.405Z"
   },
   {
    "duration": 102,
    "start_time": "2021-09-20T12:24:17.721Z"
   },
   {
    "duration": 64,
    "start_time": "2021-09-20T12:24:17.825Z"
   },
   {
    "duration": 16,
    "start_time": "2021-09-20T12:24:17.890Z"
   },
   {
    "duration": 165,
    "start_time": "2021-09-20T12:24:17.911Z"
   },
   {
    "duration": 36,
    "start_time": "2021-09-20T12:24:18.079Z"
   },
   {
    "duration": 78,
    "start_time": "2021-09-20T12:24:18.117Z"
   },
   {
    "duration": 41,
    "start_time": "2021-09-20T12:24:18.197Z"
   },
   {
    "duration": 11,
    "start_time": "2021-09-20T12:24:18.240Z"
   },
   {
    "duration": 72,
    "start_time": "2021-09-20T12:24:18.276Z"
   },
   {
    "duration": 82,
    "start_time": "2021-09-20T12:24:18.350Z"
   },
   {
    "duration": 12,
    "start_time": "2021-09-20T12:24:18.433Z"
   },
   {
    "duration": 43,
    "start_time": "2021-09-20T12:24:18.447Z"
   },
   {
    "duration": 19,
    "start_time": "2021-09-20T12:24:18.492Z"
   },
   {
    "duration": 65,
    "start_time": "2021-09-20T12:24:18.513Z"
   },
   {
    "duration": 40,
    "start_time": "2021-09-20T12:24:18.580Z"
   },
   {
    "duration": 17,
    "start_time": "2021-09-20T12:24:18.622Z"
   },
   {
    "duration": 53,
    "start_time": "2021-09-20T12:24:18.641Z"
   },
   {
    "duration": 42,
    "start_time": "2021-09-20T12:24:18.696Z"
   },
   {
    "duration": 6,
    "start_time": "2021-09-20T12:24:18.740Z"
   },
   {
    "duration": 36,
    "start_time": "2021-09-20T12:24:18.748Z"
   },
   {
    "duration": 19,
    "start_time": "2021-09-20T12:24:18.786Z"
   },
   {
    "duration": 10,
    "start_time": "2021-09-20T12:24:18.807Z"
   },
   {
    "duration": 261,
    "start_time": "2021-09-20T12:24:18.819Z"
   },
   {
    "duration": 220,
    "start_time": "2021-09-20T12:24:19.081Z"
   },
   {
    "duration": 11,
    "start_time": "2021-09-20T12:24:19.303Z"
   },
   {
    "duration": 225,
    "start_time": "2021-09-20T12:24:19.316Z"
   },
   {
    "duration": 32,
    "start_time": "2021-09-20T12:24:19.543Z"
   },
   {
    "duration": 11,
    "start_time": "2021-09-20T12:24:19.578Z"
   },
   {
    "duration": 426,
    "start_time": "2021-09-20T12:24:19.591Z"
   },
   {
    "duration": 11,
    "start_time": "2021-09-20T12:24:20.019Z"
   },
   {
    "duration": 228,
    "start_time": "2021-09-20T12:24:20.032Z"
   },
   {
    "duration": 67,
    "start_time": "2021-09-20T12:24:20.263Z"
   },
   {
    "duration": 16,
    "start_time": "2021-09-20T12:24:20.333Z"
   },
   {
    "duration": 237,
    "start_time": "2021-09-20T12:24:20.351Z"
   },
   {
    "duration": 14,
    "start_time": "2021-09-20T12:24:20.590Z"
   },
   {
    "duration": 224,
    "start_time": "2021-09-20T12:24:20.606Z"
   },
   {
    "duration": 26,
    "start_time": "2021-09-20T12:24:20.833Z"
   },
   {
    "duration": 36,
    "start_time": "2021-09-20T12:24:20.877Z"
   },
   {
    "duration": 46,
    "start_time": "2021-09-20T12:35:02.896Z"
   },
   {
    "duration": 46,
    "start_time": "2021-09-20T12:35:29.265Z"
   },
   {
    "duration": 42,
    "start_time": "2021-09-20T12:35:41.433Z"
   },
   {
    "duration": 44,
    "start_time": "2021-09-20T12:35:55.733Z"
   },
   {
    "duration": 45,
    "start_time": "2021-09-20T12:36:06.019Z"
   },
   {
    "duration": 47,
    "start_time": "2021-09-20T12:37:25.725Z"
   },
   {
    "duration": 155,
    "start_time": "2021-09-20T12:39:25.172Z"
   },
   {
    "duration": 120,
    "start_time": "2021-09-20T12:39:33.655Z"
   },
   {
    "duration": 619,
    "start_time": "2021-09-20T12:39:39.498Z"
   },
   {
    "duration": 124,
    "start_time": "2021-09-20T12:40:55.174Z"
   },
   {
    "duration": 116,
    "start_time": "2021-09-20T12:41:10.654Z"
   },
   {
    "duration": 133,
    "start_time": "2021-09-20T12:42:36.211Z"
   },
   {
    "duration": 43,
    "start_time": "2021-09-20T12:43:08.987Z"
   },
   {
    "duration": 9627,
    "start_time": "2021-09-20T12:46:08.789Z"
   },
   {
    "duration": 10043,
    "start_time": "2021-09-20T12:46:55.260Z"
   },
   {
    "duration": 9306,
    "start_time": "2021-09-20T12:47:34.510Z"
   },
   {
    "duration": 10069,
    "start_time": "2021-09-20T12:48:20.715Z"
   },
   {
    "duration": 1389,
    "start_time": "2021-09-20T12:54:18.676Z"
   },
   {
    "duration": 965,
    "start_time": "2021-09-20T12:54:40.688Z"
   },
   {
    "duration": 1019,
    "start_time": "2021-09-20T12:55:12.192Z"
   },
   {
    "duration": 23,
    "start_time": "2021-09-20T12:55:29.128Z"
   },
   {
    "duration": 190,
    "start_time": "2021-09-20T12:56:16.809Z"
   },
   {
    "duration": 329,
    "start_time": "2021-09-20T12:58:06.766Z"
   },
   {
    "duration": 23,
    "start_time": "2021-09-20T13:33:59.453Z"
   },
   {
    "duration": 21,
    "start_time": "2021-09-20T13:35:22.184Z"
   },
   {
    "duration": 24,
    "start_time": "2021-09-20T13:35:27.711Z"
   },
   {
    "duration": 40,
    "start_time": "2021-09-20T13:43:18.617Z"
   },
   {
    "duration": 779,
    "start_time": "2021-09-20T13:44:13.533Z"
   },
   {
    "duration": 21,
    "start_time": "2021-09-20T13:44:29.857Z"
   },
   {
    "duration": 22,
    "start_time": "2021-09-20T13:44:42.456Z"
   },
   {
    "duration": 21,
    "start_time": "2021-09-20T13:44:54.365Z"
   },
   {
    "duration": 42,
    "start_time": "2021-09-20T13:54:03.734Z"
   },
   {
    "duration": 46,
    "start_time": "2021-09-20T13:55:58.574Z"
   },
   {
    "duration": 9386,
    "start_time": "2021-09-20T13:56:11.225Z"
   },
   {
    "duration": 45,
    "start_time": "2021-09-20T13:56:24.936Z"
   },
   {
    "duration": 1692,
    "start_time": "2021-09-20T13:56:47.544Z"
   },
   {
    "duration": 46,
    "start_time": "2021-09-20T13:56:55.543Z"
   },
   {
    "duration": 44,
    "start_time": "2021-09-20T13:57:00.785Z"
   },
   {
    "duration": 51,
    "start_time": "2021-09-20T13:58:38.824Z"
   },
   {
    "duration": 49,
    "start_time": "2021-09-20T13:59:34.835Z"
   },
   {
    "duration": 449,
    "start_time": "2021-09-20T14:13:18.941Z"
   },
   {
    "duration": 394,
    "start_time": "2021-09-20T14:14:04.202Z"
   },
   {
    "duration": 449,
    "start_time": "2021-09-20T14:14:11.266Z"
   },
   {
    "duration": 3,
    "start_time": "2021-09-20T14:19:19.172Z"
   },
   {
    "duration": 375,
    "start_time": "2021-09-20T14:19:19.177Z"
   },
   {
    "duration": 30,
    "start_time": "2021-09-20T14:19:19.554Z"
   },
   {
    "duration": 264,
    "start_time": "2021-09-20T14:19:19.586Z"
   },
   {
    "duration": 18,
    "start_time": "2021-09-20T14:19:19.852Z"
   },
   {
    "duration": 193,
    "start_time": "2021-09-20T14:19:19.876Z"
   },
   {
    "duration": 1096,
    "start_time": "2021-09-20T14:19:20.071Z"
   },
   {
    "duration": 9,
    "start_time": "2021-09-20T14:19:21.169Z"
   },
   {
    "duration": 9,
    "start_time": "2021-09-20T14:19:21.182Z"
   },
   {
    "duration": 93,
    "start_time": "2021-09-20T14:19:21.194Z"
   },
   {
    "duration": 230,
    "start_time": "2021-09-20T14:19:21.289Z"
   },
   {
    "duration": 244,
    "start_time": "2021-09-20T14:19:21.521Z"
   },
   {
    "duration": 64,
    "start_time": "2021-09-20T14:19:21.767Z"
   },
   {
    "duration": 108,
    "start_time": "2021-09-20T14:19:21.833Z"
   },
   {
    "duration": 3,
    "start_time": "2021-09-20T14:19:21.943Z"
   },
   {
    "duration": 153,
    "start_time": "2021-09-20T14:19:21.948Z"
   },
   {
    "duration": 55,
    "start_time": "2021-09-20T14:19:22.103Z"
   },
   {
    "duration": 59,
    "start_time": "2021-09-20T14:19:22.160Z"
   },
   {
    "duration": 56,
    "start_time": "2021-09-20T14:19:22.221Z"
   },
   {
    "duration": 23,
    "start_time": "2021-09-20T14:19:22.279Z"
   },
   {
    "duration": 163,
    "start_time": "2021-09-20T14:19:22.304Z"
   },
   {
    "duration": 23,
    "start_time": "2021-09-20T14:19:22.469Z"
   },
   {
    "duration": 327,
    "start_time": "2021-09-20T14:19:22.494Z"
   },
   {
    "duration": 84,
    "start_time": "2021-09-20T14:19:22.823Z"
   },
   {
    "duration": 45,
    "start_time": "2021-09-20T14:19:22.908Z"
   },
   {
    "duration": 30,
    "start_time": "2021-09-20T14:19:22.955Z"
   },
   {
    "duration": 162,
    "start_time": "2021-09-20T14:19:22.990Z"
   },
   {
    "duration": 36,
    "start_time": "2021-09-20T14:19:23.154Z"
   },
   {
    "duration": 63,
    "start_time": "2021-09-20T14:19:23.192Z"
   },
   {
    "duration": 54,
    "start_time": "2021-09-20T14:19:23.258Z"
   },
   {
    "duration": 11,
    "start_time": "2021-09-20T14:19:23.315Z"
   },
   {
    "duration": 98,
    "start_time": "2021-09-20T14:19:23.329Z"
   },
   {
    "duration": 76,
    "start_time": "2021-09-20T14:19:23.429Z"
   },
   {
    "duration": 10,
    "start_time": "2021-09-20T14:19:23.507Z"
   },
   {
    "duration": 25,
    "start_time": "2021-09-20T14:19:23.518Z"
   },
   {
    "duration": 38,
    "start_time": "2021-09-20T14:19:23.545Z"
   },
   {
    "duration": 37,
    "start_time": "2021-09-20T14:19:23.585Z"
   },
   {
    "duration": 56,
    "start_time": "2021-09-20T14:19:23.624Z"
   },
   {
    "duration": 15,
    "start_time": "2021-09-20T14:19:23.682Z"
   },
   {
    "duration": 28,
    "start_time": "2021-09-20T14:19:23.699Z"
   },
   {
    "duration": 80,
    "start_time": "2021-09-20T14:19:23.729Z"
   },
   {
    "duration": 19,
    "start_time": "2021-09-20T14:19:23.812Z"
   },
   {
    "duration": 14,
    "start_time": "2021-09-20T14:19:23.833Z"
   },
   {
    "duration": 221,
    "start_time": "2021-09-20T14:19:23.849Z"
   },
   {
    "duration": 13,
    "start_time": "2021-09-20T14:19:24.072Z"
   },
   {
    "duration": 213,
    "start_time": "2021-09-20T14:19:24.086Z"
   },
   {
    "duration": 18,
    "start_time": "2021-09-20T14:19:24.301Z"
   },
   {
    "duration": 15,
    "start_time": "2021-09-20T14:19:24.321Z"
   },
   {
    "duration": 218,
    "start_time": "2021-09-20T14:19:24.338Z"
   },
   {
    "duration": 19,
    "start_time": "2021-09-20T14:19:24.558Z"
   },
   {
    "duration": 216,
    "start_time": "2021-09-20T14:19:24.578Z"
   },
   {
    "duration": 56,
    "start_time": "2021-09-20T14:19:24.796Z"
   },
   {
    "duration": 30,
    "start_time": "2021-09-20T14:19:24.854Z"
   },
   {
    "duration": 219,
    "start_time": "2021-09-20T14:19:24.886Z"
   },
   {
    "duration": 14,
    "start_time": "2021-09-20T14:19:25.107Z"
   },
   {
    "duration": 219,
    "start_time": "2021-09-20T14:19:25.122Z"
   },
   {
    "duration": 23,
    "start_time": "2021-09-20T14:19:25.343Z"
   },
   {
    "duration": 29,
    "start_time": "2021-09-20T14:19:25.377Z"
   },
   {
    "duration": 3,
    "start_time": "2021-09-20T14:21:53.840Z"
   },
   {
    "duration": 299,
    "start_time": "2021-09-20T14:21:53.845Z"
   },
   {
    "duration": 21,
    "start_time": "2021-09-20T14:21:54.146Z"
   },
   {
    "duration": 269,
    "start_time": "2021-09-20T14:21:54.176Z"
   },
   {
    "duration": 20,
    "start_time": "2021-09-20T14:21:54.447Z"
   },
   {
    "duration": 217,
    "start_time": "2021-09-20T14:21:54.469Z"
   },
   {
    "duration": 56,
    "start_time": "2021-09-20T14:21:54.688Z"
   },
   {
    "duration": 9,
    "start_time": "2021-09-20T14:21:54.746Z"
   },
   {
    "duration": 6,
    "start_time": "2021-09-20T14:21:54.758Z"
   },
   {
    "duration": 69,
    "start_time": "2021-09-20T14:21:54.766Z"
   },
   {
    "duration": 218,
    "start_time": "2021-09-20T14:21:54.837Z"
   },
   {
    "duration": 232,
    "start_time": "2021-09-20T14:21:55.057Z"
   },
   {
    "duration": 67,
    "start_time": "2021-09-20T14:21:55.291Z"
   },
   {
    "duration": 97,
    "start_time": "2021-09-20T14:21:55.359Z"
   },
   {
    "duration": 3,
    "start_time": "2021-09-20T14:21:55.458Z"
   },
   {
    "duration": 159,
    "start_time": "2021-09-20T14:21:55.463Z"
   },
   {
    "duration": 70,
    "start_time": "2021-09-20T14:21:55.624Z"
   },
   {
    "duration": 46,
    "start_time": "2021-09-20T14:21:55.696Z"
   },
   {
    "duration": 57,
    "start_time": "2021-09-20T14:21:55.744Z"
   },
   {
    "duration": 22,
    "start_time": "2021-09-20T14:21:55.803Z"
   },
   {
    "duration": 131,
    "start_time": "2021-09-20T14:21:55.827Z"
   },
   {
    "duration": 22,
    "start_time": "2021-09-20T14:21:55.960Z"
   },
   {
    "duration": 317,
    "start_time": "2021-09-20T14:21:55.984Z"
   },
   {
    "duration": 88,
    "start_time": "2021-09-20T14:21:56.303Z"
   },
   {
    "duration": 46,
    "start_time": "2021-09-20T14:21:56.393Z"
   },
   {
    "duration": 14,
    "start_time": "2021-09-20T14:21:56.440Z"
   },
   {
    "duration": 170,
    "start_time": "2021-09-20T14:21:56.458Z"
   },
   {
    "duration": 35,
    "start_time": "2021-09-20T14:21:56.630Z"
   },
   {
    "duration": 59,
    "start_time": "2021-09-20T14:21:56.677Z"
   },
   {
    "duration": 55,
    "start_time": "2021-09-20T14:21:56.738Z"
   },
   {
    "duration": 12,
    "start_time": "2021-09-20T14:21:56.795Z"
   },
   {
    "duration": 92,
    "start_time": "2021-09-20T14:21:56.809Z"
   },
   {
    "duration": 83,
    "start_time": "2021-09-20T14:21:56.903Z"
   },
   {
    "duration": 11,
    "start_time": "2021-09-20T14:21:56.988Z"
   },
   {
    "duration": 21,
    "start_time": "2021-09-20T14:21:57.001Z"
   },
   {
    "duration": 17,
    "start_time": "2021-09-20T14:21:57.024Z"
   },
   {
    "duration": 63,
    "start_time": "2021-09-20T14:21:57.042Z"
   },
   {
    "duration": 38,
    "start_time": "2021-09-20T14:21:57.106Z"
   },
   {
    "duration": 37,
    "start_time": "2021-09-20T14:21:57.146Z"
   },
   {
    "duration": 34,
    "start_time": "2021-09-20T14:21:57.185Z"
   },
   {
    "duration": 79,
    "start_time": "2021-09-20T14:21:57.221Z"
   },
   {
    "duration": 19,
    "start_time": "2021-09-20T14:21:57.302Z"
   },
   {
    "duration": 11,
    "start_time": "2021-09-20T14:21:57.322Z"
   },
   {
    "duration": 239,
    "start_time": "2021-09-20T14:21:57.335Z"
   },
   {
    "duration": 10,
    "start_time": "2021-09-20T14:21:57.577Z"
   },
   {
    "duration": 210,
    "start_time": "2021-09-20T14:21:57.589Z"
   },
   {
    "duration": 17,
    "start_time": "2021-09-20T14:21:57.801Z"
   },
   {
    "duration": 14,
    "start_time": "2021-09-20T14:21:57.820Z"
   },
   {
    "duration": 295,
    "start_time": "2021-09-20T14:21:57.836Z"
   },
   {
    "duration": 11,
    "start_time": "2021-09-20T14:21:58.133Z"
   },
   {
    "duration": 214,
    "start_time": "2021-09-20T14:21:58.146Z"
   },
   {
    "duration": 61,
    "start_time": "2021-09-20T14:21:58.362Z"
   },
   {
    "duration": 14,
    "start_time": "2021-09-20T14:21:58.425Z"
   },
   {
    "duration": 223,
    "start_time": "2021-09-20T14:21:58.440Z"
   },
   {
    "duration": 19,
    "start_time": "2021-09-20T14:21:58.664Z"
   },
   {
    "duration": 205,
    "start_time": "2021-09-20T14:21:58.684Z"
   },
   {
    "duration": 24,
    "start_time": "2021-09-20T14:21:58.891Z"
   },
   {
    "duration": 23,
    "start_time": "2021-09-20T14:21:58.917Z"
   },
   {
    "duration": 5,
    "start_time": "2021-09-20T14:36:22.762Z"
   },
   {
    "duration": 15,
    "start_time": "2021-09-20T14:36:40.296Z"
   },
   {
    "duration": 7,
    "start_time": "2021-09-20T14:36:56.344Z"
   },
   {
    "duration": 412,
    "start_time": "2021-09-20T14:37:04.763Z"
   },
   {
    "duration": 7,
    "start_time": "2021-09-20T14:37:19.938Z"
   },
   {
    "duration": 65,
    "start_time": "2021-09-20T14:38:34.415Z"
   },
   {
    "duration": 51,
    "start_time": "2021-09-20T14:39:15.419Z"
   },
   {
    "duration": 6,
    "start_time": "2021-09-20T14:39:27.733Z"
   },
   {
    "duration": 6,
    "start_time": "2021-09-20T14:43:20.129Z"
   },
   {
    "duration": 6,
    "start_time": "2021-09-20T14:45:04.491Z"
   },
   {
    "duration": 24,
    "start_time": "2021-09-20T14:45:42.716Z"
   },
   {
    "duration": 7,
    "start_time": "2021-09-20T14:46:17.599Z"
   },
   {
    "duration": 7,
    "start_time": "2021-09-20T14:48:46.918Z"
   },
   {
    "duration": 8,
    "start_time": "2021-09-20T14:49:02.051Z"
   },
   {
    "duration": 10,
    "start_time": "2021-09-20T14:50:20.634Z"
   },
   {
    "duration": 10,
    "start_time": "2021-09-20T14:51:07.150Z"
   },
   {
    "duration": 5,
    "start_time": "2021-09-20T14:52:49.590Z"
   },
   {
    "duration": 10,
    "start_time": "2021-09-20T14:53:04.966Z"
   },
   {
    "duration": 9,
    "start_time": "2021-09-20T14:53:14.036Z"
   },
   {
    "duration": 9,
    "start_time": "2021-09-20T14:53:20.565Z"
   },
   {
    "duration": 8,
    "start_time": "2021-09-20T14:54:14.565Z"
   },
   {
    "duration": 368,
    "start_time": "2021-09-20T14:54:44.443Z"
   },
   {
    "duration": 61,
    "start_time": "2021-09-20T14:56:57.368Z"
   },
   {
    "duration": 442,
    "start_time": "2021-09-21T06:18:10.069Z"
   },
   {
    "duration": 1628,
    "start_time": "2021-09-21T06:18:14.862Z"
   },
   {
    "duration": 471,
    "start_time": "2021-09-21T06:18:16.493Z"
   },
   {
    "duration": 27,
    "start_time": "2021-09-21T06:18:16.967Z"
   },
   {
    "duration": 1492,
    "start_time": "2021-09-21T06:18:16.997Z"
   },
   {
    "duration": 30,
    "start_time": "2021-09-21T06:18:18.491Z"
   },
   {
    "duration": 312,
    "start_time": "2021-09-21T06:18:18.524Z"
   },
   {
    "duration": 115,
    "start_time": "2021-09-21T06:18:18.838Z"
   },
   {
    "duration": 13,
    "start_time": "2021-09-21T06:18:18.957Z"
   },
   {
    "duration": 11,
    "start_time": "2021-09-21T06:18:18.973Z"
   },
   {
    "duration": 1862,
    "start_time": "2021-09-21T06:18:18.986Z"
   },
   {
    "duration": 312,
    "start_time": "2021-09-21T06:18:20.852Z"
   },
   {
    "duration": 456,
    "start_time": "2021-09-21T06:18:21.167Z"
   },
   {
    "duration": 130,
    "start_time": "2021-09-21T06:18:21.625Z"
   },
   {
    "duration": 147,
    "start_time": "2021-09-21T06:18:21.758Z"
   },
   {
    "duration": 9,
    "start_time": "2021-09-21T06:18:21.907Z"
   },
   {
    "duration": 183,
    "start_time": "2021-09-21T06:18:21.918Z"
   },
   {
    "duration": 84,
    "start_time": "2021-09-21T06:18:22.103Z"
   },
   {
    "duration": 70,
    "start_time": "2021-09-21T06:18:22.189Z"
   },
   {
    "duration": 74,
    "start_time": "2021-09-21T06:18:22.262Z"
   },
   {
    "duration": 32,
    "start_time": "2021-09-21T06:18:22.339Z"
   },
   {
    "duration": 205,
    "start_time": "2021-09-21T06:18:22.374Z"
   },
   {
    "duration": 35,
    "start_time": "2021-09-21T06:18:22.581Z"
   },
   {
    "duration": 495,
    "start_time": "2021-09-21T06:18:22.622Z"
   },
   {
    "duration": 114,
    "start_time": "2021-09-21T06:18:23.120Z"
   },
   {
    "duration": 94,
    "start_time": "2021-09-21T06:18:23.237Z"
   },
   {
    "duration": 18,
    "start_time": "2021-09-21T06:18:23.334Z"
   },
   {
    "duration": 220,
    "start_time": "2021-09-21T06:18:23.355Z"
   },
   {
    "duration": 54,
    "start_time": "2021-09-21T06:18:23.577Z"
   },
   {
    "duration": 103,
    "start_time": "2021-09-21T06:18:23.634Z"
   },
   {
    "duration": 12,
    "start_time": "2021-09-21T06:18:23.739Z"
   },
   {
    "duration": 73,
    "start_time": "2021-09-21T06:18:23.753Z"
   },
   {
    "duration": 12,
    "start_time": "2021-09-21T06:18:23.828Z"
   },
   {
    "duration": 133,
    "start_time": "2021-09-21T06:18:23.843Z"
   },
   {
    "duration": 116,
    "start_time": "2021-09-21T06:18:23.978Z"
   },
   {
    "duration": 25,
    "start_time": "2021-09-21T06:18:24.096Z"
   },
   {
    "duration": 30,
    "start_time": "2021-09-21T06:18:24.124Z"
   },
   {
    "duration": 26,
    "start_time": "2021-09-21T06:18:24.156Z"
   },
   {
    "duration": 53,
    "start_time": "2021-09-21T06:18:24.216Z"
   },
   {
    "duration": 75,
    "start_time": "2021-09-21T06:18:24.271Z"
   },
   {
    "duration": 24,
    "start_time": "2021-09-21T06:18:24.348Z"
   },
   {
    "duration": 61,
    "start_time": "2021-09-21T06:18:24.374Z"
   },
   {
    "duration": 96,
    "start_time": "2021-09-21T06:18:24.438Z"
   },
   {
    "duration": 18,
    "start_time": "2021-09-21T06:18:24.537Z"
   },
   {
    "duration": 658,
    "start_time": "2021-09-21T06:18:24.557Z"
   },
   {
    "duration": -4343,
    "start_time": "2021-09-21T06:18:29.560Z"
   },
   {
    "duration": -4347,
    "start_time": "2021-09-21T06:18:29.566Z"
   },
   {
    "duration": -4351,
    "start_time": "2021-09-21T06:18:29.571Z"
   },
   {
    "duration": -4354,
    "start_time": "2021-09-21T06:18:29.576Z"
   },
   {
    "duration": -4358,
    "start_time": "2021-09-21T06:18:29.582Z"
   },
   {
    "duration": -4361,
    "start_time": "2021-09-21T06:18:29.587Z"
   },
   {
    "duration": -4365,
    "start_time": "2021-09-21T06:18:29.592Z"
   },
   {
    "duration": -4368,
    "start_time": "2021-09-21T06:18:29.597Z"
   },
   {
    "duration": -4373,
    "start_time": "2021-09-21T06:18:29.603Z"
   },
   {
    "duration": -4375,
    "start_time": "2021-09-21T06:18:29.607Z"
   },
   {
    "duration": -4379,
    "start_time": "2021-09-21T06:18:29.612Z"
   },
   {
    "duration": -4382,
    "start_time": "2021-09-21T06:18:29.617Z"
   },
   {
    "duration": -4385,
    "start_time": "2021-09-21T06:18:29.622Z"
   },
   {
    "duration": -4390,
    "start_time": "2021-09-21T06:18:29.628Z"
   },
   {
    "duration": -4394,
    "start_time": "2021-09-21T06:18:29.633Z"
   },
   {
    "duration": -4406,
    "start_time": "2021-09-21T06:18:29.647Z"
   },
   {
    "duration": -4409,
    "start_time": "2021-09-21T06:18:29.652Z"
   },
   {
    "duration": 39,
    "start_time": "2021-09-21T06:26:00.353Z"
   },
   {
    "duration": 38,
    "start_time": "2021-09-21T06:26:47.876Z"
   },
   {
    "duration": 4,
    "start_time": "2021-09-21T06:27:05.173Z"
   },
   {
    "duration": 438,
    "start_time": "2021-09-21T06:27:05.180Z"
   },
   {
    "duration": 27,
    "start_time": "2021-09-21T06:27:05.622Z"
   },
   {
    "duration": 402,
    "start_time": "2021-09-21T06:27:05.652Z"
   },
   {
    "duration": 25,
    "start_time": "2021-09-21T06:27:06.057Z"
   },
   {
    "duration": 1289,
    "start_time": "2021-09-21T06:27:06.084Z"
   },
   {
    "duration": 75,
    "start_time": "2021-09-21T06:27:07.376Z"
   },
   {
    "duration": 13,
    "start_time": "2021-09-21T06:27:07.454Z"
   },
   {
    "duration": 29,
    "start_time": "2021-09-21T06:27:07.470Z"
   },
   {
    "duration": 99,
    "start_time": "2021-09-21T06:27:07.501Z"
   },
   {
    "duration": 313,
    "start_time": "2021-09-21T06:27:07.603Z"
   },
   {
    "duration": 368,
    "start_time": "2021-09-21T06:27:07.918Z"
   },
   {
    "duration": 132,
    "start_time": "2021-09-21T06:27:08.288Z"
   },
   {
    "duration": 152,
    "start_time": "2021-09-21T06:27:08.423Z"
   },
   {
    "duration": 3,
    "start_time": "2021-09-21T06:27:08.578Z"
   },
   {
    "duration": 193,
    "start_time": "2021-09-21T06:27:08.584Z"
   },
   {
    "duration": 84,
    "start_time": "2021-09-21T06:27:08.779Z"
   },
   {
    "duration": 76,
    "start_time": "2021-09-21T06:27:08.866Z"
   },
   {
    "duration": 72,
    "start_time": "2021-09-21T06:27:08.947Z"
   },
   {
    "duration": 30,
    "start_time": "2021-09-21T06:27:09.024Z"
   },
   {
    "duration": 177,
    "start_time": "2021-09-21T06:27:09.057Z"
   },
   {
    "duration": 19,
    "start_time": "2021-09-21T06:27:09.236Z"
   },
   {
    "duration": 554,
    "start_time": "2021-09-21T06:27:09.258Z"
   },
   {
    "duration": 122,
    "start_time": "2021-09-21T06:27:09.817Z"
   },
   {
    "duration": 95,
    "start_time": "2021-09-21T06:27:09.941Z"
   },
   {
    "duration": 30,
    "start_time": "2021-09-21T06:27:10.039Z"
   },
   {
    "duration": 223,
    "start_time": "2021-09-21T06:27:10.072Z"
   },
   {
    "duration": 59,
    "start_time": "2021-09-21T06:27:10.297Z"
   },
   {
    "duration": 101,
    "start_time": "2021-09-21T06:27:10.359Z"
   },
   {
    "duration": 13,
    "start_time": "2021-09-21T06:27:10.462Z"
   },
   {
    "duration": 68,
    "start_time": "2021-09-21T06:27:10.478Z"
   },
   {
    "duration": 16,
    "start_time": "2021-09-21T06:27:10.549Z"
   },
   {
    "duration": 126,
    "start_time": "2021-09-21T06:27:10.568Z"
   },
   {
    "duration": 107,
    "start_time": "2021-09-21T06:27:10.697Z"
   },
   {
    "duration": 18,
    "start_time": "2021-09-21T06:27:10.817Z"
   },
   {
    "duration": 34,
    "start_time": "2021-09-21T06:27:10.838Z"
   },
   {
    "duration": 62,
    "start_time": "2021-09-21T06:27:10.875Z"
   },
   {
    "duration": 56,
    "start_time": "2021-09-21T06:27:10.940Z"
   },
   {
    "duration": 58,
    "start_time": "2021-09-21T06:27:11.017Z"
   },
   {
    "duration": 45,
    "start_time": "2021-09-21T06:27:11.077Z"
   },
   {
    "duration": 44,
    "start_time": "2021-09-21T06:27:11.124Z"
   },
   {
    "duration": 113,
    "start_time": "2021-09-21T06:27:11.170Z"
   },
   {
    "duration": 30,
    "start_time": "2021-09-21T06:27:11.286Z"
   },
   {
    "duration": 522,
    "start_time": "2021-09-21T06:27:11.319Z"
   },
   {
    "duration": -4354,
    "start_time": "2021-09-21T06:27:16.198Z"
   },
   {
    "duration": -4361,
    "start_time": "2021-09-21T06:27:16.206Z"
   },
   {
    "duration": -4366,
    "start_time": "2021-09-21T06:27:16.212Z"
   },
   {
    "duration": -4381,
    "start_time": "2021-09-21T06:27:16.229Z"
   },
   {
    "duration": -4390,
    "start_time": "2021-09-21T06:27:16.239Z"
   },
   {
    "duration": -4400,
    "start_time": "2021-09-21T06:27:16.251Z"
   },
   {
    "duration": -4405,
    "start_time": "2021-09-21T06:27:16.257Z"
   },
   {
    "duration": -4408,
    "start_time": "2021-09-21T06:27:16.262Z"
   },
   {
    "duration": -4412,
    "start_time": "2021-09-21T06:27:16.267Z"
   },
   {
    "duration": -4415,
    "start_time": "2021-09-21T06:27:16.272Z"
   },
   {
    "duration": -4419,
    "start_time": "2021-09-21T06:27:16.277Z"
   },
   {
    "duration": -4422,
    "start_time": "2021-09-21T06:27:16.282Z"
   },
   {
    "duration": -4425,
    "start_time": "2021-09-21T06:27:16.287Z"
   },
   {
    "duration": -4429,
    "start_time": "2021-09-21T06:27:16.292Z"
   },
   {
    "duration": -4433,
    "start_time": "2021-09-21T06:27:16.298Z"
   },
   {
    "duration": -4435,
    "start_time": "2021-09-21T06:27:16.302Z"
   },
   {
    "duration": -4437,
    "start_time": "2021-09-21T06:27:16.307Z"
   },
   {
    "duration": 545,
    "start_time": "2021-09-21T06:28:33.495Z"
   },
   {
    "duration": 351,
    "start_time": "2021-09-21T06:30:18.376Z"
   },
   {
    "duration": 68,
    "start_time": "2021-09-21T06:33:23.820Z"
   },
   {
    "duration": 42,
    "start_time": "2021-09-21T06:40:40.336Z"
   },
   {
    "duration": 194,
    "start_time": "2021-09-21T06:43:06.674Z"
   },
   {
    "duration": 1426,
    "start_time": "2021-09-21T06:43:19.734Z"
   },
   {
    "duration": 1337,
    "start_time": "2021-09-21T06:43:33.138Z"
   },
   {
    "duration": 1356,
    "start_time": "2021-09-21T06:43:53.122Z"
   },
   {
    "duration": 1187,
    "start_time": "2021-09-21T06:47:30.435Z"
   },
   {
    "duration": 39,
    "start_time": "2021-09-21T06:56:36.318Z"
   },
   {
    "duration": 4,
    "start_time": "2021-09-21T06:56:49.834Z"
   },
   {
    "duration": 332,
    "start_time": "2021-09-21T06:56:49.840Z"
   },
   {
    "duration": 1398,
    "start_time": "2021-09-21T06:56:50.176Z"
   },
   {
    "duration": 342,
    "start_time": "2021-09-21T06:56:51.577Z"
   },
   {
    "duration": 111,
    "start_time": "2021-09-21T06:56:51.923Z"
   },
   {
    "duration": 12,
    "start_time": "2021-09-21T06:56:52.036Z"
   },
   {
    "duration": 1114,
    "start_time": "2021-09-21T06:56:52.051Z"
   },
   {
    "duration": 70,
    "start_time": "2021-09-21T06:56:53.168Z"
   },
   {
    "duration": 318,
    "start_time": "2021-09-21T06:56:53.243Z"
   },
   {
    "duration": 320,
    "start_time": "2021-09-21T06:56:53.564Z"
   },
   {
    "duration": 123,
    "start_time": "2021-09-21T06:56:53.886Z"
   },
   {
    "duration": 141,
    "start_time": "2021-09-21T06:56:54.011Z"
   },
   {
    "duration": 3,
    "start_time": "2021-09-21T06:56:54.155Z"
   },
   {
    "duration": 196,
    "start_time": "2021-09-21T06:56:54.160Z"
   },
   {
    "duration": 84,
    "start_time": "2021-09-21T06:56:54.358Z"
   },
   {
    "duration": 85,
    "start_time": "2021-09-21T06:56:54.445Z"
   },
   {
    "duration": 55,
    "start_time": "2021-09-21T06:56:54.533Z"
   },
   {
    "duration": 48,
    "start_time": "2021-09-21T06:56:54.590Z"
   },
   {
    "duration": 163,
    "start_time": "2021-09-21T06:56:54.640Z"
   },
   {
    "duration": 24,
    "start_time": "2021-09-21T06:56:54.805Z"
   },
   {
    "duration": 478,
    "start_time": "2021-09-21T06:56:54.831Z"
   },
   {
    "duration": 114,
    "start_time": "2021-09-21T06:56:55.316Z"
   },
   {
    "duration": 84,
    "start_time": "2021-09-21T06:56:55.432Z"
   },
   {
    "duration": 19,
    "start_time": "2021-09-21T06:56:55.518Z"
   },
   {
    "duration": 217,
    "start_time": "2021-09-21T06:56:55.539Z"
   },
   {
    "duration": 60,
    "start_time": "2021-09-21T06:56:55.758Z"
   },
   {
    "duration": 93,
    "start_time": "2021-09-21T06:56:55.827Z"
   },
   {
    "duration": 12,
    "start_time": "2021-09-21T06:56:55.924Z"
   },
   {
    "duration": 52,
    "start_time": "2021-09-21T06:56:55.939Z"
   },
   {
    "duration": 15,
    "start_time": "2021-09-21T06:56:56.017Z"
   },
   {
    "duration": 127,
    "start_time": "2021-09-21T06:56:56.034Z"
   },
   {
    "duration": 114,
    "start_time": "2021-09-21T06:56:56.163Z"
   },
   {
    "duration": 16,
    "start_time": "2021-09-21T06:56:56.279Z"
   },
   {
    "duration": 49,
    "start_time": "2021-09-21T06:56:56.297Z"
   },
   {
    "duration": 24,
    "start_time": "2021-09-21T06:56:56.349Z"
   },
   {
    "duration": 80,
    "start_time": "2021-09-21T06:56:56.375Z"
   },
   {
    "duration": 64,
    "start_time": "2021-09-21T06:56:56.457Z"
   },
   {
    "duration": 23,
    "start_time": "2021-09-21T06:56:56.523Z"
   },
   {
    "duration": 40,
    "start_time": "2021-09-21T06:56:56.549Z"
   },
   {
    "duration": 77,
    "start_time": "2021-09-21T06:56:56.617Z"
   },
   {
    "duration": 35,
    "start_time": "2021-09-21T06:56:56.697Z"
   },
   {
    "duration": 409,
    "start_time": "2021-09-21T06:56:56.734Z"
   },
   {
    "duration": 40,
    "start_time": "2021-09-21T06:56:57.145Z"
   },
   {
    "duration": 1432,
    "start_time": "2021-09-21T06:56:57.187Z"
   },
   {
    "duration": 645,
    "start_time": "2021-09-21T06:56:58.622Z"
   },
   {
    "duration": -4330,
    "start_time": "2021-09-21T06:57:03.601Z"
   },
   {
    "duration": -4337,
    "start_time": "2021-09-21T06:57:03.610Z"
   },
   {
    "duration": -4342,
    "start_time": "2021-09-21T06:57:03.617Z"
   },
   {
    "duration": -4344,
    "start_time": "2021-09-21T06:57:03.622Z"
   },
   {
    "duration": -4347,
    "start_time": "2021-09-21T06:57:03.627Z"
   },
   {
    "duration": -4358,
    "start_time": "2021-09-21T06:57:03.640Z"
   },
   {
    "duration": -4360,
    "start_time": "2021-09-21T06:57:03.645Z"
   },
   {
    "duration": -4334,
    "start_time": "2021-09-21T06:57:03.650Z"
   },
   {
    "duration": -4338,
    "start_time": "2021-09-21T06:57:03.656Z"
   },
   {
    "duration": -4340,
    "start_time": "2021-09-21T06:57:03.661Z"
   },
   {
    "duration": -4344,
    "start_time": "2021-09-21T06:57:03.667Z"
   },
   {
    "duration": -4345,
    "start_time": "2021-09-21T06:57:03.671Z"
   },
   {
    "duration": -4356,
    "start_time": "2021-09-21T06:57:03.684Z"
   },
   {
    "duration": -4360,
    "start_time": "2021-09-21T06:57:03.690Z"
   },
   {
    "duration": -4364,
    "start_time": "2021-09-21T06:57:03.696Z"
   },
   {
    "duration": -4366,
    "start_time": "2021-09-21T06:57:03.701Z"
   },
   {
    "duration": -4369,
    "start_time": "2021-09-21T06:57:03.706Z"
   },
   {
    "duration": 651,
    "start_time": "2021-09-21T06:57:16.565Z"
   },
   {
    "duration": 20,
    "start_time": "2021-09-21T06:58:03.565Z"
   },
   {
    "duration": 382,
    "start_time": "2021-09-21T06:58:08.714Z"
   },
   {
    "duration": 39,
    "start_time": "2021-09-21T06:58:12.883Z"
   },
   {
    "duration": 640,
    "start_time": "2021-09-21T06:58:18.088Z"
   },
   {
    "duration": 646,
    "start_time": "2021-09-21T06:58:57.197Z"
   },
   {
    "duration": 34,
    "start_time": "2021-09-21T06:59:25.706Z"
   },
   {
    "duration": 558,
    "start_time": "2021-09-21T07:00:05.343Z"
   },
   {
    "duration": 20,
    "start_time": "2021-09-21T07:00:12.246Z"
   },
   {
    "duration": 15,
    "start_time": "2021-09-21T07:00:25.536Z"
   },
   {
    "duration": 390,
    "start_time": "2021-09-21T07:00:41.944Z"
   },
   {
    "duration": 32,
    "start_time": "2021-09-21T07:00:47.852Z"
   },
   {
    "duration": 438,
    "start_time": "2021-09-21T07:01:14.251Z"
   },
   {
    "duration": 30,
    "start_time": "2021-09-21T07:01:18.614Z"
   },
   {
    "duration": 18,
    "start_time": "2021-09-21T07:02:05.537Z"
   },
   {
    "duration": 377,
    "start_time": "2021-09-21T07:02:19.222Z"
   },
   {
    "duration": 40,
    "start_time": "2021-09-21T07:02:23.357Z"
   },
   {
    "duration": 650,
    "start_time": "2021-09-21T07:02:27.519Z"
   },
   {
    "duration": 660,
    "start_time": "2021-09-21T07:02:48.242Z"
   },
   {
    "duration": 627,
    "start_time": "2021-09-21T07:03:57.409Z"
   },
   {
    "duration": 533,
    "start_time": "2021-09-21T07:04:54.991Z"
   },
   {
    "duration": 484,
    "start_time": "2021-09-21T07:05:12.246Z"
   },
   {
    "duration": 500,
    "start_time": "2021-09-21T07:05:24.150Z"
   },
   {
    "duration": 150,
    "start_time": "2021-09-21T07:08:01.213Z"
   },
   {
    "duration": 395,
    "start_time": "2021-09-21T07:08:25.496Z"
   },
   {
    "duration": 43,
    "start_time": "2021-09-21T07:08:45.107Z"
   },
   {
    "duration": 41,
    "start_time": "2021-09-21T07:09:05.245Z"
   },
   {
    "duration": 373,
    "start_time": "2021-09-21T07:09:27.690Z"
   },
   {
    "duration": 46,
    "start_time": "2021-09-21T07:09:40.464Z"
   },
   {
    "duration": 40,
    "start_time": "2021-09-21T07:09:49.161Z"
   },
   {
    "duration": 43,
    "start_time": "2021-09-21T07:10:08.936Z"
   },
   {
    "duration": 42,
    "start_time": "2021-09-21T07:10:34.808Z"
   },
   {
    "duration": 371,
    "start_time": "2021-09-21T07:10:39.248Z"
   },
   {
    "duration": 390,
    "start_time": "2021-09-21T07:11:36.194Z"
   },
   {
    "duration": 355,
    "start_time": "2021-09-21T07:11:39.427Z"
   },
   {
    "duration": 413,
    "start_time": "2021-09-21T07:12:38.842Z"
   },
   {
    "duration": 1460,
    "start_time": "2021-09-21T07:17:55.183Z"
   },
   {
    "duration": 519,
    "start_time": "2021-09-21T07:20:51.176Z"
   },
   {
    "duration": 402,
    "start_time": "2021-09-21T07:21:19.944Z"
   },
   {
    "duration": 375,
    "start_time": "2021-09-21T07:22:11.486Z"
   },
   {
    "duration": 394,
    "start_time": "2021-09-21T07:22:48.940Z"
   },
   {
    "duration": 41,
    "start_time": "2021-09-21T07:24:32.062Z"
   },
   {
    "duration": 46,
    "start_time": "2021-09-21T07:24:52.281Z"
   },
   {
    "duration": 1915,
    "start_time": "2021-09-21T07:25:00.464Z"
   },
   {
    "duration": 2110,
    "start_time": "2021-09-21T07:29:52.674Z"
   },
   {
    "duration": 1892,
    "start_time": "2021-09-21T07:30:10.349Z"
   },
   {
    "duration": 738,
    "start_time": "2021-09-21T07:30:47.318Z"
   },
   {
    "duration": 435,
    "start_time": "2021-09-21T07:30:57.157Z"
   },
   {
    "duration": 392,
    "start_time": "2021-09-21T07:40:49.332Z"
   },
   {
    "duration": 392,
    "start_time": "2021-09-21T07:41:05.152Z"
   },
   {
    "duration": 1341,
    "start_time": "2021-09-21T07:45:36.946Z"
   },
   {
    "duration": 401,
    "start_time": "2021-09-21T07:47:16.318Z"
   },
   {
    "duration": 667,
    "start_time": "2021-09-21T07:47:39.149Z"
   },
   {
    "duration": 45244,
    "start_time": "2021-09-21T07:47:59.229Z"
   },
   {
    "duration": 528,
    "start_time": "2021-09-21T07:48:54.124Z"
   },
   {
    "duration": 631,
    "start_time": "2021-09-21T07:49:04.231Z"
   },
   {
    "duration": 439,
    "start_time": "2021-09-21T07:52:05.749Z"
   },
   {
    "duration": 32,
    "start_time": "2021-09-21T07:52:50.635Z"
   },
   {
    "duration": 32,
    "start_time": "2021-09-21T07:52:55.211Z"
   },
   {
    "duration": 420,
    "start_time": "2021-09-21T07:54:32.273Z"
   },
   {
    "duration": 398,
    "start_time": "2021-09-21T07:54:44.040Z"
   },
   {
    "duration": 4,
    "start_time": "2021-09-21T07:54:53.909Z"
   },
   {
    "duration": 358,
    "start_time": "2021-09-21T07:54:53.916Z"
   },
   {
    "duration": 321,
    "start_time": "2021-09-21T07:54:54.277Z"
   },
   {
    "duration": 350,
    "start_time": "2021-09-21T07:54:54.601Z"
   },
   {
    "duration": 1749,
    "start_time": "2021-09-21T07:54:54.954Z"
   },
   {
    "duration": 13,
    "start_time": "2021-09-21T07:54:56.706Z"
   },
   {
    "duration": 117,
    "start_time": "2021-09-21T07:54:56.722Z"
   },
   {
    "duration": 76,
    "start_time": "2021-09-21T07:54:56.843Z"
   },
   {
    "duration": 327,
    "start_time": "2021-09-21T07:54:56.922Z"
   },
   {
    "duration": 324,
    "start_time": "2021-09-21T07:54:57.251Z"
   },
   {
    "duration": 131,
    "start_time": "2021-09-21T07:54:57.577Z"
   },
   {
    "duration": 141,
    "start_time": "2021-09-21T07:54:57.711Z"
   },
   {
    "duration": 3,
    "start_time": "2021-09-21T07:54:57.855Z"
   },
   {
    "duration": 183,
    "start_time": "2021-09-21T07:54:57.860Z"
   },
   {
    "duration": 90,
    "start_time": "2021-09-21T07:54:58.046Z"
   },
   {
    "duration": 77,
    "start_time": "2021-09-21T07:54:58.139Z"
   },
   {
    "duration": 57,
    "start_time": "2021-09-21T07:54:58.218Z"
   },
   {
    "duration": 53,
    "start_time": "2021-09-21T07:54:58.277Z"
   },
   {
    "duration": 160,
    "start_time": "2021-09-21T07:54:58.332Z"
   },
   {
    "duration": 29,
    "start_time": "2021-09-21T07:54:58.495Z"
   },
   {
    "duration": 452,
    "start_time": "2021-09-21T07:54:58.526Z"
   },
   {
    "duration": 116,
    "start_time": "2021-09-21T07:54:58.980Z"
   },
   {
    "duration": 64,
    "start_time": "2021-09-21T07:54:59.119Z"
   },
   {
    "duration": 30,
    "start_time": "2021-09-21T07:54:59.186Z"
   },
   {
    "duration": 220,
    "start_time": "2021-09-21T07:54:59.219Z"
   },
   {
    "duration": 47,
    "start_time": "2021-09-21T07:54:59.441Z"
   },
   {
    "duration": 105,
    "start_time": "2021-09-21T07:54:59.491Z"
   },
   {
    "duration": 26,
    "start_time": "2021-09-21T07:54:59.599Z"
   },
   {
    "duration": 50,
    "start_time": "2021-09-21T07:54:59.627Z"
   },
   {
    "duration": 42,
    "start_time": "2021-09-21T07:54:59.679Z"
   },
   {
    "duration": 115,
    "start_time": "2021-09-21T07:54:59.724Z"
   },
   {
    "duration": 113,
    "start_time": "2021-09-21T07:54:59.841Z"
   },
   {
    "duration": 15,
    "start_time": "2021-09-21T07:54:59.956Z"
   },
   {
    "duration": 53,
    "start_time": "2021-09-21T07:54:59.973Z"
   },
   {
    "duration": 24,
    "start_time": "2021-09-21T07:55:00.029Z"
   },
   {
    "duration": 75,
    "start_time": "2021-09-21T07:55:00.056Z"
   },
   {
    "duration": 56,
    "start_time": "2021-09-21T07:55:00.133Z"
   },
   {
    "duration": 46,
    "start_time": "2021-09-21T07:55:00.191Z"
   },
   {
    "duration": 42,
    "start_time": "2021-09-21T07:55:00.239Z"
   },
   {
    "duration": 106,
    "start_time": "2021-09-21T07:55:00.284Z"
   },
   {
    "duration": 577,
    "start_time": "2021-09-21T07:55:00.392Z"
   },
   {
    "duration": 380,
    "start_time": "2021-09-21T07:55:00.971Z"
   },
   {
    "duration": 64,
    "start_time": "2021-09-21T07:55:01.354Z"
   },
   {
    "duration": 1373,
    "start_time": "2021-09-21T07:55:01.420Z"
   },
   {
    "duration": 691,
    "start_time": "2021-09-21T07:55:02.795Z"
   },
   {
    "duration": -4489,
    "start_time": "2021-09-21T07:55:07.978Z"
   },
   {
    "duration": -4502,
    "start_time": "2021-09-21T07:55:07.992Z"
   },
   {
    "duration": -4507,
    "start_time": "2021-09-21T07:55:07.999Z"
   },
   {
    "duration": -4511,
    "start_time": "2021-09-21T07:55:08.004Z"
   },
   {
    "duration": 34,
    "start_time": "2021-09-21T07:55:19.437Z"
   },
   {
    "duration": 421,
    "start_time": "2021-09-21T07:55:24.206Z"
   },
   {
    "duration": 37,
    "start_time": "2021-09-21T07:55:47.686Z"
   },
   {
    "duration": 9463,
    "start_time": "2021-09-21T07:55:50.589Z"
   },
   {
    "duration": -4562,
    "start_time": "2021-09-21T07:56:04.617Z"
   },
   {
    "duration": -4566,
    "start_time": "2021-09-21T07:56:04.623Z"
   },
   {
    "duration": -4569,
    "start_time": "2021-09-21T07:56:04.627Z"
   },
   {
    "duration": 373,
    "start_time": "2021-09-21T07:56:04.918Z"
   },
   {
    "duration": 45,
    "start_time": "2021-09-21T07:56:09.911Z"
   },
   {
    "duration": 1277,
    "start_time": "2021-09-21T07:56:13.201Z"
   },
   {
    "duration": 52,
    "start_time": "2021-09-21T07:57:25.660Z"
   },
   {
    "duration": 1427,
    "start_time": "2021-09-21T07:57:28.439Z"
   },
   {
    "duration": 415,
    "start_time": "2021-09-21T07:57:31.852Z"
   },
   {
    "duration": 388,
    "start_time": "2021-09-21T07:57:35.949Z"
   },
   {
    "duration": 435,
    "start_time": "2021-09-21T07:57:40.028Z"
   },
   {
    "duration": 45,
    "start_time": "2021-09-21T09:06:33.603Z"
   },
   {
    "duration": 4,
    "start_time": "2021-09-21T09:10:42.720Z"
   },
   {
    "duration": 351,
    "start_time": "2021-09-21T09:10:42.727Z"
   },
   {
    "duration": 1338,
    "start_time": "2021-09-21T09:10:43.082Z"
   },
   {
    "duration": 349,
    "start_time": "2021-09-21T09:10:44.423Z"
   },
   {
    "duration": 124,
    "start_time": "2021-09-21T09:10:44.774Z"
   },
   {
    "duration": 15,
    "start_time": "2021-09-21T09:10:44.901Z"
   },
   {
    "duration": 1722,
    "start_time": "2021-09-21T09:10:44.919Z"
   },
   {
    "duration": 72,
    "start_time": "2021-09-21T09:10:46.645Z"
   },
   {
    "duration": 312,
    "start_time": "2021-09-21T09:10:46.720Z"
   },
   {
    "duration": 334,
    "start_time": "2021-09-21T09:10:47.035Z"
   },
   {
    "duration": 116,
    "start_time": "2021-09-21T09:10:47.371Z"
   },
   {
    "duration": 145,
    "start_time": "2021-09-21T09:10:47.489Z"
   },
   {
    "duration": 4,
    "start_time": "2021-09-21T09:10:47.636Z"
   },
   {
    "duration": 181,
    "start_time": "2021-09-21T09:10:47.642Z"
   },
   {
    "duration": 92,
    "start_time": "2021-09-21T09:10:47.826Z"
   },
   {
    "duration": 58,
    "start_time": "2021-09-21T09:10:47.921Z"
   },
   {
    "duration": 66,
    "start_time": "2021-09-21T09:10:47.982Z"
   },
   {
    "duration": 31,
    "start_time": "2021-09-21T09:10:48.051Z"
   },
   {
    "duration": 179,
    "start_time": "2021-09-21T09:10:48.085Z"
   },
   {
    "duration": 20,
    "start_time": "2021-09-21T09:10:48.266Z"
   },
   {
    "duration": 462,
    "start_time": "2021-09-21T09:10:48.289Z"
   },
   {
    "duration": 116,
    "start_time": "2021-09-21T09:10:48.753Z"
   },
   {
    "duration": 88,
    "start_time": "2021-09-21T09:10:48.875Z"
   },
   {
    "duration": 19,
    "start_time": "2021-09-21T09:10:48.966Z"
   },
   {
    "duration": 223,
    "start_time": "2021-09-21T09:10:48.988Z"
   },
   {
    "duration": 47,
    "start_time": "2021-09-21T09:10:49.213Z"
   },
   {
    "duration": 109,
    "start_time": "2021-09-21T09:10:49.263Z"
   },
   {
    "duration": 14,
    "start_time": "2021-09-21T09:10:49.374Z"
   },
   {
    "duration": 64,
    "start_time": "2021-09-21T09:10:49.390Z"
   },
   {
    "duration": 14,
    "start_time": "2021-09-21T09:10:49.456Z"
   },
   {
    "duration": 135,
    "start_time": "2021-09-21T09:10:49.473Z"
   },
   {
    "duration": 118,
    "start_time": "2021-09-21T09:10:49.610Z"
   },
   {
    "duration": 15,
    "start_time": "2021-09-21T09:10:49.731Z"
   },
   {
    "duration": 32,
    "start_time": "2021-09-21T09:10:49.748Z"
   },
   {
    "duration": 54,
    "start_time": "2021-09-21T09:10:49.782Z"
   },
   {
    "duration": 51,
    "start_time": "2021-09-21T09:10:49.838Z"
   },
   {
    "duration": 76,
    "start_time": "2021-09-21T09:10:49.892Z"
   },
   {
    "duration": 49,
    "start_time": "2021-09-21T09:10:49.970Z"
   },
   {
    "duration": 44,
    "start_time": "2021-09-21T09:10:50.023Z"
   },
   {
    "duration": 104,
    "start_time": "2021-09-21T09:10:50.069Z"
   },
   {
    "duration": 607,
    "start_time": "2021-09-21T09:10:50.175Z"
   },
   {
    "duration": 375,
    "start_time": "2021-09-21T09:10:50.785Z"
   },
   {
    "duration": 57,
    "start_time": "2021-09-21T09:10:51.163Z"
   },
   {
    "duration": 1490,
    "start_time": "2021-09-21T09:10:51.223Z"
   },
   {
    "duration": 418,
    "start_time": "2021-09-21T09:10:52.717Z"
   },
   {
    "duration": 449,
    "start_time": "2021-09-21T09:10:53.139Z"
   },
   {
    "duration": 426,
    "start_time": "2021-09-21T09:10:53.591Z"
   },
   {
    "duration": 31,
    "start_time": "2021-09-21T09:10:54.020Z"
   },
   {
    "duration": 394,
    "start_time": "2021-09-21T09:10:54.053Z"
   },
   {
    "duration": 33,
    "start_time": "2021-09-21T09:12:22.503Z"
   },
   {
    "duration": 4,
    "start_time": "2021-09-21T09:16:23.106Z"
   },
   {
    "duration": 548,
    "start_time": "2021-09-21T09:16:23.121Z"
   },
   {
    "duration": 370,
    "start_time": "2021-09-21T09:16:23.672Z"
   },
   {
    "duration": 1370,
    "start_time": "2021-09-21T09:16:24.046Z"
   },
   {
    "duration": 74,
    "start_time": "2021-09-21T09:16:25.420Z"
   },
   {
    "duration": 13,
    "start_time": "2021-09-21T09:16:25.497Z"
   },
   {
    "duration": 92,
    "start_time": "2021-09-21T09:16:25.512Z"
   },
   {
    "duration": 85,
    "start_time": "2021-09-21T09:16:25.607Z"
   },
   {
    "duration": 323,
    "start_time": "2021-09-21T09:16:25.699Z"
   },
   {
    "duration": 352,
    "start_time": "2021-09-21T09:16:26.025Z"
   },
   {
    "duration": 120,
    "start_time": "2021-09-21T09:16:26.380Z"
   },
   {
    "duration": 142,
    "start_time": "2021-09-21T09:16:26.502Z"
   },
   {
    "duration": 4,
    "start_time": "2021-09-21T09:16:26.646Z"
   },
   {
    "duration": 190,
    "start_time": "2021-09-21T09:16:26.652Z"
   },
   {
    "duration": 87,
    "start_time": "2021-09-21T09:16:26.844Z"
   },
   {
    "duration": 62,
    "start_time": "2021-09-21T09:16:26.935Z"
   },
   {
    "duration": 65,
    "start_time": "2021-09-21T09:16:27.000Z"
   },
   {
    "duration": 54,
    "start_time": "2021-09-21T09:16:27.068Z"
   },
   {
    "duration": 170,
    "start_time": "2021-09-21T09:16:27.125Z"
   },
   {
    "duration": 27,
    "start_time": "2021-09-21T09:16:27.297Z"
   },
   {
    "duration": 481,
    "start_time": "2021-09-21T09:16:27.326Z"
   },
   {
    "duration": 126,
    "start_time": "2021-09-21T09:16:27.809Z"
   },
   {
    "duration": 82,
    "start_time": "2021-09-21T09:16:27.937Z"
   },
   {
    "duration": 19,
    "start_time": "2021-09-21T09:16:28.025Z"
   },
   {
    "duration": 224,
    "start_time": "2021-09-21T09:16:28.047Z"
   },
   {
    "duration": 58,
    "start_time": "2021-09-21T09:16:28.274Z"
   },
   {
    "duration": 109,
    "start_time": "2021-09-21T09:16:28.334Z"
   },
   {
    "duration": 13,
    "start_time": "2021-09-21T09:16:28.446Z"
   },
   {
    "duration": 71,
    "start_time": "2021-09-21T09:16:28.461Z"
   },
   {
    "duration": 14,
    "start_time": "2021-09-21T09:16:28.535Z"
   },
   {
    "duration": 129,
    "start_time": "2021-09-21T09:16:28.551Z"
   },
   {
    "duration": 116,
    "start_time": "2021-09-21T09:16:28.683Z"
   },
   {
    "duration": 27,
    "start_time": "2021-09-21T09:16:28.802Z"
   },
   {
    "duration": 30,
    "start_time": "2021-09-21T09:16:28.831Z"
   },
   {
    "duration": 55,
    "start_time": "2021-09-21T09:16:28.863Z"
   },
   {
    "duration": 55,
    "start_time": "2021-09-21T09:16:28.921Z"
   },
   {
    "duration": 78,
    "start_time": "2021-09-21T09:16:28.978Z"
   },
   {
    "duration": 24,
    "start_time": "2021-09-21T09:16:29.059Z"
   },
   {
    "duration": 64,
    "start_time": "2021-09-21T09:16:29.085Z"
   },
   {
    "duration": 100,
    "start_time": "2021-09-21T09:16:29.151Z"
   },
   {
    "duration": 734,
    "start_time": "2021-09-21T09:16:29.254Z"
   },
   {
    "duration": 464,
    "start_time": "2021-09-21T09:16:29.992Z"
   },
   {
    "duration": 65,
    "start_time": "2021-09-21T09:16:30.458Z"
   },
   {
    "duration": 1359,
    "start_time": "2021-09-21T09:16:30.526Z"
   },
   {
    "duration": 393,
    "start_time": "2021-09-21T09:16:31.887Z"
   },
   {
    "duration": 394,
    "start_time": "2021-09-21T09:16:32.283Z"
   },
   {
    "duration": 426,
    "start_time": "2021-09-21T09:16:32.680Z"
   },
   {
    "duration": 37,
    "start_time": "2021-09-21T09:16:33.108Z"
   },
   {
    "duration": 30,
    "start_time": "2021-09-21T09:16:33.148Z"
   },
   {
    "duration": 33,
    "start_time": "2021-09-21T09:16:56.370Z"
   },
   {
    "duration": 33,
    "start_time": "2021-09-21T09:17:21.404Z"
   },
   {
    "duration": 549,
    "start_time": "2021-09-21T09:18:33.510Z"
   },
   {
    "duration": 541,
    "start_time": "2021-09-21T09:19:04.599Z"
   },
   {
    "duration": 33,
    "start_time": "2021-09-21T09:22:38.934Z"
   },
   {
    "duration": 4,
    "start_time": "2021-09-21T09:22:54.885Z"
   },
   {
    "duration": 1827,
    "start_time": "2021-09-21T09:22:54.893Z"
   },
   {
    "duration": 1893,
    "start_time": "2021-09-21T09:22:56.723Z"
   },
   {
    "duration": 242,
    "start_time": "2021-09-21T09:22:58.619Z"
   },
   {
    "duration": 69,
    "start_time": "2021-09-21T09:22:58.863Z"
   },
   {
    "duration": 13,
    "start_time": "2021-09-21T09:22:58.934Z"
   },
   {
    "duration": 1725,
    "start_time": "2021-09-21T09:22:58.950Z"
   },
   {
    "duration": 79,
    "start_time": "2021-09-21T09:23:00.677Z"
   },
   {
    "duration": 350,
    "start_time": "2021-09-21T09:23:00.760Z"
   },
   {
    "duration": 339,
    "start_time": "2021-09-21T09:23:01.116Z"
   },
   {
    "duration": 117,
    "start_time": "2021-09-21T09:23:01.458Z"
   },
   {
    "duration": 143,
    "start_time": "2021-09-21T09:23:01.578Z"
   },
   {
    "duration": 4,
    "start_time": "2021-09-21T09:23:01.723Z"
   },
   {
    "duration": 194,
    "start_time": "2021-09-21T09:23:01.729Z"
   },
   {
    "duration": 91,
    "start_time": "2021-09-21T09:23:01.925Z"
   },
   {
    "duration": 61,
    "start_time": "2021-09-21T09:23:02.019Z"
   },
   {
    "duration": 74,
    "start_time": "2021-09-21T09:23:02.083Z"
   },
   {
    "duration": 33,
    "start_time": "2021-09-21T09:23:02.160Z"
   },
   {
    "duration": 168,
    "start_time": "2021-09-21T09:23:02.195Z"
   },
   {
    "duration": 20,
    "start_time": "2021-09-21T09:23:02.366Z"
   },
   {
    "duration": 475,
    "start_time": "2021-09-21T09:23:02.389Z"
   },
   {
    "duration": 112,
    "start_time": "2021-09-21T09:23:02.866Z"
   },
   {
    "duration": 87,
    "start_time": "2021-09-21T09:23:02.980Z"
   },
   {
    "duration": 18,
    "start_time": "2021-09-21T09:23:03.073Z"
   },
   {
    "duration": 222,
    "start_time": "2021-09-21T09:23:03.094Z"
   },
   {
    "duration": 47,
    "start_time": "2021-09-21T09:23:03.318Z"
   },
   {
    "duration": 104,
    "start_time": "2021-09-21T09:23:03.367Z"
   },
   {
    "duration": 11,
    "start_time": "2021-09-21T09:23:03.473Z"
   },
   {
    "duration": 75,
    "start_time": "2021-09-21T09:23:03.486Z"
   },
   {
    "duration": 53,
    "start_time": "2021-09-21T09:23:03.564Z"
   },
   {
    "duration": 117,
    "start_time": "2021-09-21T09:23:03.619Z"
   },
   {
    "duration": 115,
    "start_time": "2021-09-21T09:23:03.738Z"
   },
   {
    "duration": 16,
    "start_time": "2021-09-21T09:23:03.856Z"
   },
   {
    "duration": 54,
    "start_time": "2021-09-21T09:23:03.874Z"
   },
   {
    "duration": 23,
    "start_time": "2021-09-21T09:23:03.931Z"
   },
   {
    "duration": 75,
    "start_time": "2021-09-21T09:23:03.956Z"
   },
   {
    "duration": 59,
    "start_time": "2021-09-21T09:23:04.033Z"
   },
   {
    "duration": 45,
    "start_time": "2021-09-21T09:23:04.094Z"
   },
   {
    "duration": 52,
    "start_time": "2021-09-21T09:23:04.141Z"
   },
   {
    "duration": 94,
    "start_time": "2021-09-21T09:23:04.196Z"
   },
   {
    "duration": 556,
    "start_time": "2021-09-21T09:23:04.293Z"
   },
   {
    "duration": 423,
    "start_time": "2021-09-21T09:23:04.851Z"
   },
   {
    "duration": 59,
    "start_time": "2021-09-21T09:23:05.276Z"
   },
   {
    "duration": 1362,
    "start_time": "2021-09-21T09:23:05.338Z"
   },
   {
    "duration": 405,
    "start_time": "2021-09-21T09:23:06.703Z"
   },
   {
    "duration": 379,
    "start_time": "2021-09-21T09:23:07.115Z"
   },
   {
    "duration": 414,
    "start_time": "2021-09-21T09:23:07.496Z"
   },
   {
    "duration": 30,
    "start_time": "2021-09-21T09:23:07.916Z"
   },
   {
    "duration": 53,
    "start_time": "2021-09-21T09:23:07.948Z"
   },
   {
    "duration": 43,
    "start_time": "2021-09-21T09:24:30.133Z"
   },
   {
    "duration": 42,
    "start_time": "2021-09-21T09:25:05.929Z"
   },
   {
    "duration": 45,
    "start_time": "2021-09-21T09:25:30.209Z"
   },
   {
    "duration": 33,
    "start_time": "2021-09-21T09:26:47.640Z"
   },
   {
    "duration": 1010,
    "start_time": "2021-09-21T12:14:42.231Z"
   },
   {
    "duration": 255,
    "start_time": "2021-09-21T12:14:43.243Z"
   },
   {
    "duration": 227,
    "start_time": "2021-09-21T12:14:43.501Z"
   },
   {
    "duration": 2056,
    "start_time": "2021-09-21T12:14:43.730Z"
   },
   {
    "duration": 48,
    "start_time": "2021-09-21T12:14:45.787Z"
   },
   {
    "duration": 8,
    "start_time": "2021-09-21T12:14:45.837Z"
   },
   {
    "duration": 105,
    "start_time": "2021-09-21T12:14:45.846Z"
   },
   {
    "duration": 49,
    "start_time": "2021-09-21T12:14:45.953Z"
   },
   {
    "duration": 201,
    "start_time": "2021-09-21T12:14:46.004Z"
   },
   {
    "duration": 213,
    "start_time": "2021-09-21T12:14:46.206Z"
   },
   {
    "duration": 80,
    "start_time": "2021-09-21T12:14:46.420Z"
   },
   {
    "duration": 87,
    "start_time": "2021-09-21T12:14:46.501Z"
   },
   {
    "duration": 12,
    "start_time": "2021-09-21T12:14:46.589Z"
   },
   {
    "duration": 126,
    "start_time": "2021-09-21T12:14:46.602Z"
   },
   {
    "duration": 52,
    "start_time": "2021-09-21T12:14:46.730Z"
   },
   {
    "duration": 53,
    "start_time": "2021-09-21T12:14:46.784Z"
   },
   {
    "duration": 35,
    "start_time": "2021-09-21T12:14:46.838Z"
   },
   {
    "duration": 33,
    "start_time": "2021-09-21T12:14:46.875Z"
   },
   {
    "duration": 138,
    "start_time": "2021-09-21T12:14:46.909Z"
   },
   {
    "duration": 13,
    "start_time": "2021-09-21T12:14:47.049Z"
   },
   {
    "duration": 286,
    "start_time": "2021-09-21T12:14:47.063Z"
   },
   {
    "duration": 73,
    "start_time": "2021-09-21T12:14:47.351Z"
   },
   {
    "duration": 50,
    "start_time": "2021-09-21T12:14:47.428Z"
   },
   {
    "duration": 25,
    "start_time": "2021-09-21T12:14:47.480Z"
   },
   {
    "duration": 147,
    "start_time": "2021-09-21T12:14:47.506Z"
   },
   {
    "duration": 31,
    "start_time": "2021-09-21T12:14:47.655Z"
   },
   {
    "duration": 66,
    "start_time": "2021-09-21T12:14:47.687Z"
   },
   {
    "duration": 8,
    "start_time": "2021-09-21T12:14:47.754Z"
   },
   {
    "duration": 53,
    "start_time": "2021-09-21T12:14:47.763Z"
   },
   {
    "duration": 8,
    "start_time": "2021-09-21T12:14:47.818Z"
   },
   {
    "duration": 87,
    "start_time": "2021-09-21T12:14:47.828Z"
   },
   {
    "duration": 60,
    "start_time": "2021-09-21T12:14:47.917Z"
   },
   {
    "duration": 22,
    "start_time": "2021-09-21T12:14:47.979Z"
   },
   {
    "duration": 19,
    "start_time": "2021-09-21T12:14:48.002Z"
   },
   {
    "duration": 14,
    "start_time": "2021-09-21T12:14:48.022Z"
   },
   {
    "duration": 36,
    "start_time": "2021-09-21T12:14:48.037Z"
   },
   {
    "duration": 49,
    "start_time": "2021-09-21T12:14:48.075Z"
   },
   {
    "duration": 13,
    "start_time": "2021-09-21T12:14:48.125Z"
   },
   {
    "duration": 32,
    "start_time": "2021-09-21T12:14:48.140Z"
   },
   {
    "duration": 61,
    "start_time": "2021-09-21T12:14:48.174Z"
   },
   {
    "duration": 340,
    "start_time": "2021-09-21T12:14:48.237Z"
   },
   {
    "duration": 197,
    "start_time": "2021-09-21T12:14:48.579Z"
   },
   {
    "duration": 32,
    "start_time": "2021-09-21T12:14:48.777Z"
   },
   {
    "duration": 909,
    "start_time": "2021-09-21T12:14:48.810Z"
   },
   {
    "duration": 243,
    "start_time": "2021-09-21T12:14:49.720Z"
   },
   {
    "duration": 241,
    "start_time": "2021-09-21T12:14:49.964Z"
   },
   {
    "duration": 258,
    "start_time": "2021-09-21T12:14:50.206Z"
   },
   {
    "duration": 19,
    "start_time": "2021-09-21T12:14:50.466Z"
   },
   {
    "duration": 103,
    "start_time": "2021-09-21T12:14:50.487Z"
   },
   {
    "duration": 64,
    "start_time": "2021-09-21T12:28:50.603Z"
   },
   {
    "duration": 59,
    "start_time": "2021-09-21T12:35:06.843Z"
   },
   {
    "duration": 318,
    "start_time": "2021-09-21T12:36:55.571Z"
   },
   {
    "duration": 11,
    "start_time": "2021-09-21T12:41:19.264Z"
   },
   {
    "duration": 15,
    "start_time": "2021-09-21T12:41:52.336Z"
   },
   {
    "duration": 7,
    "start_time": "2021-09-21T12:41:58.713Z"
   },
   {
    "duration": 8,
    "start_time": "2021-09-21T12:42:07.132Z"
   },
   {
    "duration": 8,
    "start_time": "2021-09-21T12:42:31.151Z"
   },
   {
    "duration": 279,
    "start_time": "2021-09-21T12:43:09.658Z"
   },
   {
    "duration": 176,
    "start_time": "2021-09-21T12:43:54.287Z"
   },
   {
    "duration": 18,
    "start_time": "2021-09-21T12:43:59.881Z"
   },
   {
    "duration": 316,
    "start_time": "2021-09-21T12:44:10.721Z"
   },
   {
    "duration": 19,
    "start_time": "2021-09-21T12:44:14.294Z"
   },
   {
    "duration": 18,
    "start_time": "2021-09-21T12:45:49.842Z"
   },
   {
    "duration": 19,
    "start_time": "2021-09-21T12:46:33.487Z"
   },
   {
    "duration": 20,
    "start_time": "2021-09-21T15:33:55.514Z"
   },
   {
    "duration": 4,
    "start_time": "2021-09-21T15:34:26.945Z"
   },
   {
    "duration": 5,
    "start_time": "2021-09-21T15:34:52.785Z"
   },
   {
    "duration": 11,
    "start_time": "2021-09-21T15:44:13.589Z"
   },
   {
    "duration": 6,
    "start_time": "2021-09-21T15:47:23.608Z"
   },
   {
    "duration": 19,
    "start_time": "2021-09-21T15:47:55.205Z"
   },
   {
    "duration": 1060,
    "start_time": "2021-09-21T16:14:12.939Z"
   },
   {
    "duration": 284,
    "start_time": "2021-09-21T16:14:14.002Z"
   },
   {
    "duration": 233,
    "start_time": "2021-09-21T16:14:14.288Z"
   },
   {
    "duration": 226,
    "start_time": "2021-09-21T16:14:14.523Z"
   },
   {
    "duration": 62,
    "start_time": "2021-09-21T16:14:14.751Z"
   },
   {
    "duration": 9,
    "start_time": "2021-09-21T16:14:14.814Z"
   },
   {
    "duration": 117,
    "start_time": "2021-09-21T16:14:14.824Z"
   },
   {
    "duration": 47,
    "start_time": "2021-09-21T16:14:14.944Z"
   },
   {
    "duration": 212,
    "start_time": "2021-09-21T16:14:14.994Z"
   },
   {
    "duration": 220,
    "start_time": "2021-09-21T16:14:15.208Z"
   },
   {
    "duration": 79,
    "start_time": "2021-09-21T16:14:15.429Z"
   },
   {
    "duration": 93,
    "start_time": "2021-09-21T16:14:15.510Z"
   },
   {
    "duration": 3,
    "start_time": "2021-09-21T16:14:15.604Z"
   },
   {
    "duration": 151,
    "start_time": "2021-09-21T16:14:15.608Z"
   },
   {
    "duration": 23,
    "start_time": "2021-09-21T16:14:15.761Z"
   },
   {
    "duration": 27,
    "start_time": "2021-09-21T16:14:15.785Z"
   },
   {
    "duration": 18,
    "start_time": "2021-09-21T16:14:15.814Z"
   },
   {
    "duration": 20,
    "start_time": "2021-09-21T16:14:15.834Z"
   },
   {
    "duration": 146,
    "start_time": "2021-09-21T16:14:15.856Z"
   },
   {
    "duration": 8,
    "start_time": "2021-09-21T16:14:16.004Z"
   },
   {
    "duration": 289,
    "start_time": "2021-09-21T16:14:16.014Z"
   },
   {
    "duration": 76,
    "start_time": "2021-09-21T16:14:16.305Z"
   },
   {
    "duration": 39,
    "start_time": "2021-09-21T16:14:16.399Z"
   },
   {
    "duration": 5,
    "start_time": "2021-09-21T16:14:16.441Z"
   },
   {
    "duration": 19,
    "start_time": "2021-09-21T16:14:16.447Z"
   },
   {
    "duration": 52,
    "start_time": "2021-09-21T16:14:16.467Z"
   },
   {
    "duration": 56,
    "start_time": "2021-09-21T16:14:16.521Z"
   },
   {
    "duration": 345,
    "start_time": "2021-09-21T16:14:16.579Z"
   },
   {
    "duration": 2006,
    "start_time": "2021-09-21T16:14:16.925Z"
   },
   {
    "duration": -4871,
    "start_time": "2021-09-21T16:14:23.806Z"
   },
   {
    "duration": -4879,
    "start_time": "2021-09-21T16:14:23.815Z"
   },
   {
    "duration": -4886,
    "start_time": "2021-09-21T16:14:23.823Z"
   },
   {
    "duration": -4893,
    "start_time": "2021-09-21T16:14:23.831Z"
   },
   {
    "duration": -4900,
    "start_time": "2021-09-21T16:14:23.839Z"
   },
   {
    "duration": -4906,
    "start_time": "2021-09-21T16:14:23.847Z"
   },
   {
    "duration": -4913,
    "start_time": "2021-09-21T16:14:23.855Z"
   },
   {
    "duration": -4920,
    "start_time": "2021-09-21T16:14:23.863Z"
   },
   {
    "duration": -4927,
    "start_time": "2021-09-21T16:14:23.871Z"
   },
   {
    "duration": -4936,
    "start_time": "2021-09-21T16:14:23.881Z"
   },
   {
    "duration": -4955,
    "start_time": "2021-09-21T16:14:23.901Z"
   },
   {
    "duration": -4964,
    "start_time": "2021-09-21T16:14:23.911Z"
   },
   {
    "duration": -4971,
    "start_time": "2021-09-21T16:14:23.919Z"
   },
   {
    "duration": -4978,
    "start_time": "2021-09-21T16:14:23.927Z"
   },
   {
    "duration": -4985,
    "start_time": "2021-09-21T16:14:23.935Z"
   },
   {
    "duration": -4993,
    "start_time": "2021-09-21T16:14:23.944Z"
   },
   {
    "duration": -5000,
    "start_time": "2021-09-21T16:14:23.952Z"
   },
   {
    "duration": -5008,
    "start_time": "2021-09-21T16:14:23.961Z"
   },
   {
    "duration": -5015,
    "start_time": "2021-09-21T16:14:23.969Z"
   },
   {
    "duration": -5023,
    "start_time": "2021-09-21T16:14:23.978Z"
   },
   {
    "duration": -5030,
    "start_time": "2021-09-21T16:14:23.986Z"
   },
   {
    "duration": -5038,
    "start_time": "2021-09-21T16:14:23.995Z"
   },
   {
    "duration": -5055,
    "start_time": "2021-09-21T16:14:24.013Z"
   },
   {
    "duration": 18,
    "start_time": "2021-09-21T16:16:28.395Z"
   },
   {
    "duration": 181,
    "start_time": "2021-09-21T16:25:30.382Z"
   },
   {
    "duration": 2,
    "start_time": "2021-09-21T16:25:34.329Z"
   },
   {
    "duration": 223,
    "start_time": "2021-09-21T16:25:34.339Z"
   },
   {
    "duration": 223,
    "start_time": "2021-09-21T16:25:34.564Z"
   },
   {
    "duration": 183,
    "start_time": "2021-09-21T16:25:34.790Z"
   },
   {
    "duration": 42,
    "start_time": "2021-09-21T16:25:34.975Z"
   },
   {
    "duration": 7,
    "start_time": "2021-09-21T16:25:35.019Z"
   },
   {
    "duration": 1755,
    "start_time": "2021-09-21T16:25:35.028Z"
   },
   {
    "duration": 50,
    "start_time": "2021-09-21T16:25:36.784Z"
   },
   {
    "duration": 200,
    "start_time": "2021-09-21T16:25:36.836Z"
   },
   {
    "duration": 216,
    "start_time": "2021-09-21T16:25:37.038Z"
   },
   {
    "duration": 74,
    "start_time": "2021-09-21T16:25:37.255Z"
   },
   {
    "duration": 85,
    "start_time": "2021-09-21T16:25:37.330Z"
   },
   {
    "duration": 3,
    "start_time": "2021-09-21T16:25:37.416Z"
   },
   {
    "duration": 141,
    "start_time": "2021-09-21T16:25:37.421Z"
   },
   {
    "duration": 23,
    "start_time": "2021-09-21T16:25:37.563Z"
   },
   {
    "duration": 25,
    "start_time": "2021-09-21T16:25:37.588Z"
   },
   {
    "duration": 16,
    "start_time": "2021-09-21T16:25:37.615Z"
   },
   {
    "duration": 20,
    "start_time": "2021-09-21T16:25:37.632Z"
   },
   {
    "duration": 126,
    "start_time": "2021-09-21T16:25:37.654Z"
   },
   {
    "duration": 18,
    "start_time": "2021-09-21T16:25:37.783Z"
   },
   {
    "duration": 244,
    "start_time": "2021-09-21T16:25:37.802Z"
   },
   {
    "duration": 75,
    "start_time": "2021-09-21T16:25:38.048Z"
   },
   {
    "duration": 38,
    "start_time": "2021-09-21T16:25:38.125Z"
   },
   {
    "duration": 6,
    "start_time": "2021-09-21T16:25:38.166Z"
   },
   {
    "duration": 38,
    "start_time": "2021-09-21T16:25:38.174Z"
   },
   {
    "duration": 32,
    "start_time": "2021-09-21T16:25:38.213Z"
   },
   {
    "duration": 76,
    "start_time": "2021-09-21T16:25:38.247Z"
   },
   {
    "duration": 303,
    "start_time": "2021-09-21T16:25:38.325Z"
   },
   {
    "duration": 269,
    "start_time": "2021-09-21T16:25:38.629Z"
   },
   {
    "duration": -4729,
    "start_time": "2021-09-21T16:25:43.629Z"
   },
   {
    "duration": -4743,
    "start_time": "2021-09-21T16:25:43.644Z"
   },
   {
    "duration": -4753,
    "start_time": "2021-09-21T16:25:43.655Z"
   },
   {
    "duration": -4759,
    "start_time": "2021-09-21T16:25:43.662Z"
   },
   {
    "duration": -4763,
    "start_time": "2021-09-21T16:25:43.667Z"
   },
   {
    "duration": -4767,
    "start_time": "2021-09-21T16:25:43.672Z"
   },
   {
    "duration": -4771,
    "start_time": "2021-09-21T16:25:43.677Z"
   },
   {
    "duration": -4776,
    "start_time": "2021-09-21T16:25:43.683Z"
   },
   {
    "duration": -4786,
    "start_time": "2021-09-21T16:25:43.694Z"
   },
   {
    "duration": -4792,
    "start_time": "2021-09-21T16:25:43.701Z"
   },
   {
    "duration": -4796,
    "start_time": "2021-09-21T16:25:43.706Z"
   },
   {
    "duration": -4803,
    "start_time": "2021-09-21T16:25:43.714Z"
   },
   {
    "duration": -4808,
    "start_time": "2021-09-21T16:25:43.719Z"
   },
   {
    "duration": -4813,
    "start_time": "2021-09-21T16:25:43.725Z"
   },
   {
    "duration": -4818,
    "start_time": "2021-09-21T16:25:43.731Z"
   },
   {
    "duration": -4822,
    "start_time": "2021-09-21T16:25:43.736Z"
   },
   {
    "duration": -4826,
    "start_time": "2021-09-21T16:25:43.741Z"
   },
   {
    "duration": -4846,
    "start_time": "2021-09-21T16:25:43.762Z"
   },
   {
    "duration": -4851,
    "start_time": "2021-09-21T16:25:43.768Z"
   },
   {
    "duration": -4858,
    "start_time": "2021-09-21T16:25:43.776Z"
   },
   {
    "duration": -4862,
    "start_time": "2021-09-21T16:25:43.781Z"
   },
   {
    "duration": -4867,
    "start_time": "2021-09-21T16:25:43.787Z"
   },
   {
    "duration": -4870,
    "start_time": "2021-09-21T16:25:43.791Z"
   },
   {
    "duration": 181,
    "start_time": "2021-09-21T16:25:53.016Z"
   },
   {
    "duration": 292,
    "start_time": "2021-09-21T16:25:57.523Z"
   },
   {
    "duration": 199,
    "start_time": "2021-09-21T16:26:02.164Z"
   },
   {
    "duration": 36,
    "start_time": "2021-09-21T16:26:06.682Z"
   },
   {
    "duration": 210,
    "start_time": "2021-09-21T16:26:10.498Z"
   },
   {
    "duration": 44,
    "start_time": "2021-09-21T16:26:37.039Z"
   },
   {
    "duration": 178,
    "start_time": "2021-09-21T16:26:52.765Z"
   },
   {
    "duration": 302,
    "start_time": "2021-09-21T16:27:31.861Z"
   },
   {
    "duration": 188,
    "start_time": "2021-09-21T16:27:35.153Z"
   },
   {
    "duration": 3,
    "start_time": "2021-09-21T16:27:54.051Z"
   },
   {
    "duration": 246,
    "start_time": "2021-09-21T16:27:54.056Z"
   },
   {
    "duration": 285,
    "start_time": "2021-09-21T16:27:54.304Z"
   },
   {
    "duration": 180,
    "start_time": "2021-09-21T16:27:54.591Z"
   },
   {
    "duration": 44,
    "start_time": "2021-09-21T16:27:54.773Z"
   },
   {
    "duration": 8,
    "start_time": "2021-09-21T16:27:54.819Z"
   },
   {
    "duration": 49,
    "start_time": "2021-09-21T16:27:54.829Z"
   },
   {
    "duration": 47,
    "start_time": "2021-09-21T16:27:54.879Z"
   },
   {
    "duration": 211,
    "start_time": "2021-09-21T16:27:54.928Z"
   },
   {
    "duration": 218,
    "start_time": "2021-09-21T16:27:55.141Z"
   },
   {
    "duration": 91,
    "start_time": "2021-09-21T16:27:55.361Z"
   },
   {
    "duration": 133,
    "start_time": "2021-09-21T16:27:55.455Z"
   },
   {
    "duration": 3,
    "start_time": "2021-09-21T16:27:55.589Z"
   },
   {
    "duration": 137,
    "start_time": "2021-09-21T16:27:55.594Z"
   },
   {
    "duration": 24,
    "start_time": "2021-09-21T16:27:55.732Z"
   },
   {
    "duration": 20,
    "start_time": "2021-09-21T16:27:55.757Z"
   },
   {
    "duration": 33,
    "start_time": "2021-09-21T16:27:55.779Z"
   },
   {
    "duration": 20,
    "start_time": "2021-09-21T16:27:55.814Z"
   },
   {
    "duration": 115,
    "start_time": "2021-09-21T16:27:55.835Z"
   },
   {
    "duration": 10,
    "start_time": "2021-09-21T16:27:55.952Z"
   },
   {
    "duration": 272,
    "start_time": "2021-09-21T16:27:55.963Z"
   },
   {
    "duration": 116,
    "start_time": "2021-09-21T16:27:56.237Z"
   },
   {
    "duration": 53,
    "start_time": "2021-09-21T16:27:56.355Z"
   },
   {
    "duration": 6,
    "start_time": "2021-09-21T16:27:56.410Z"
   },
   {
    "duration": 18,
    "start_time": "2021-09-21T16:27:56.417Z"
   },
   {
    "duration": 32,
    "start_time": "2021-09-21T16:27:56.437Z"
   },
   {
    "duration": 77,
    "start_time": "2021-09-21T16:27:56.473Z"
   },
   {
    "duration": 273,
    "start_time": "2021-09-21T16:27:56.552Z"
   },
   {
    "duration": 180,
    "start_time": "2021-09-21T16:27:56.827Z"
   },
   {
    "duration": -4741,
    "start_time": "2021-09-21T16:28:01.749Z"
   },
   {
    "duration": -4756,
    "start_time": "2021-09-21T16:28:01.765Z"
   },
   {
    "duration": -4772,
    "start_time": "2021-09-21T16:28:01.782Z"
   },
   {
    "duration": -4779,
    "start_time": "2021-09-21T16:28:01.790Z"
   },
   {
    "duration": -4801,
    "start_time": "2021-09-21T16:28:01.813Z"
   },
   {
    "duration": -4807,
    "start_time": "2021-09-21T16:28:01.820Z"
   },
   {
    "duration": -4823,
    "start_time": "2021-09-21T16:28:01.836Z"
   },
   {
    "duration": -4829,
    "start_time": "2021-09-21T16:28:01.843Z"
   },
   {
    "duration": -4835,
    "start_time": "2021-09-21T16:28:01.850Z"
   },
   {
    "duration": -4841,
    "start_time": "2021-09-21T16:28:01.857Z"
   },
   {
    "duration": -4964,
    "start_time": "2021-09-21T16:28:01.981Z"
   },
   {
    "duration": -4968,
    "start_time": "2021-09-21T16:28:01.986Z"
   },
   {
    "duration": -4975,
    "start_time": "2021-09-21T16:28:01.993Z"
   },
   {
    "duration": -4983,
    "start_time": "2021-09-21T16:28:02.002Z"
   },
   {
    "duration": -4991,
    "start_time": "2021-09-21T16:28:02.011Z"
   },
   {
    "duration": -5054,
    "start_time": "2021-09-21T16:28:02.076Z"
   },
   {
    "duration": -5065,
    "start_time": "2021-09-21T16:28:02.087Z"
   },
   {
    "duration": -5072,
    "start_time": "2021-09-21T16:28:02.095Z"
   },
   {
    "duration": -5080,
    "start_time": "2021-09-21T16:28:02.104Z"
   },
   {
    "duration": -5086,
    "start_time": "2021-09-21T16:28:02.111Z"
   },
   {
    "duration": -5090,
    "start_time": "2021-09-21T16:28:02.116Z"
   },
   {
    "duration": -5094,
    "start_time": "2021-09-21T16:28:02.121Z"
   },
   {
    "duration": -5099,
    "start_time": "2021-09-21T16:28:02.127Z"
   },
   {
    "duration": 53,
    "start_time": "2021-09-21T16:28:18.660Z"
   },
   {
    "duration": 199,
    "start_time": "2021-09-21T16:28:49.440Z"
   },
   {
    "duration": 72,
    "start_time": "2021-09-21T16:29:13.020Z"
   },
   {
    "duration": 76,
    "start_time": "2021-09-21T16:29:18.180Z"
   },
   {
    "duration": 183,
    "start_time": "2021-09-21T16:29:26.558Z"
   },
   {
    "duration": 10,
    "start_time": "2021-09-21T16:30:05.452Z"
   },
   {
    "duration": 69,
    "start_time": "2021-09-21T16:30:14.162Z"
   },
   {
    "duration": 189,
    "start_time": "2021-09-21T16:30:21.894Z"
   },
   {
    "duration": 21,
    "start_time": "2021-09-21T16:30:50.128Z"
   },
   {
    "duration": 159,
    "start_time": "2021-09-21T16:31:12.116Z"
   },
   {
    "duration": 305,
    "start_time": "2021-09-21T16:31:17.253Z"
   },
   {
    "duration": 680,
    "start_time": "2021-09-21T16:31:20.554Z"
   },
   {
    "duration": 41,
    "start_time": "2021-09-21T16:32:10.050Z"
   },
   {
    "duration": 10,
    "start_time": "2021-09-21T16:32:21.208Z"
   },
   {
    "duration": 48,
    "start_time": "2021-09-21T16:32:25.960Z"
   },
   {
    "duration": 52,
    "start_time": "2021-09-21T16:32:37.645Z"
   },
   {
    "duration": 63,
    "start_time": "2021-09-21T16:32:49.420Z"
   },
   {
    "duration": 75,
    "start_time": "2021-09-21T16:32:55.256Z"
   },
   {
    "duration": 52,
    "start_time": "2021-09-21T16:33:05.129Z"
   },
   {
    "duration": 185,
    "start_time": "2021-09-21T16:33:18.214Z"
   },
   {
    "duration": 3,
    "start_time": "2021-09-21T16:33:33.005Z"
   },
   {
    "duration": 249,
    "start_time": "2021-09-21T16:33:33.016Z"
   },
   {
    "duration": 230,
    "start_time": "2021-09-21T16:33:33.267Z"
   },
   {
    "duration": 236,
    "start_time": "2021-09-21T16:33:33.500Z"
   },
   {
    "duration": 43,
    "start_time": "2021-09-21T16:33:33.737Z"
   },
   {
    "duration": 7,
    "start_time": "2021-09-21T16:33:33.782Z"
   },
   {
    "duration": 1833,
    "start_time": "2021-09-21T16:33:33.791Z"
   },
   {
    "duration": 51,
    "start_time": "2021-09-21T16:33:35.626Z"
   },
   {
    "duration": 212,
    "start_time": "2021-09-21T16:33:35.678Z"
   },
   {
    "duration": 223,
    "start_time": "2021-09-21T16:33:35.892Z"
   },
   {
    "duration": 61,
    "start_time": "2021-09-21T16:33:36.117Z"
   },
   {
    "duration": 82,
    "start_time": "2021-09-21T16:33:36.179Z"
   },
   {
    "duration": 2,
    "start_time": "2021-09-21T16:33:36.263Z"
   },
   {
    "duration": 144,
    "start_time": "2021-09-21T16:33:36.267Z"
   },
   {
    "duration": 23,
    "start_time": "2021-09-21T16:33:36.413Z"
   },
   {
    "duration": 19,
    "start_time": "2021-09-21T16:33:36.438Z"
   },
   {
    "duration": 16,
    "start_time": "2021-09-21T16:33:36.458Z"
   },
   {
    "duration": 38,
    "start_time": "2021-09-21T16:33:36.476Z"
   },
   {
    "duration": 103,
    "start_time": "2021-09-21T16:33:36.516Z"
   },
   {
    "duration": 9,
    "start_time": "2021-09-21T16:33:36.621Z"
   },
   {
    "duration": 273,
    "start_time": "2021-09-21T16:33:36.632Z"
   },
   {
    "duration": 75,
    "start_time": "2021-09-21T16:33:36.907Z"
   },
   {
    "duration": 53,
    "start_time": "2021-09-21T16:33:36.984Z"
   },
   {
    "duration": 5,
    "start_time": "2021-09-21T16:33:37.038Z"
   },
   {
    "duration": 24,
    "start_time": "2021-09-21T16:33:37.045Z"
   },
   {
    "duration": 49,
    "start_time": "2021-09-21T16:33:37.071Z"
   },
   {
    "duration": 61,
    "start_time": "2021-09-21T16:33:37.122Z"
   },
   {
    "duration": 316,
    "start_time": "2021-09-21T16:33:37.203Z"
   },
   {
    "duration": 194,
    "start_time": "2021-09-21T16:33:37.521Z"
   },
   {
    "duration": -4777,
    "start_time": "2021-09-21T16:33:42.493Z"
   },
   {
    "duration": -4838,
    "start_time": "2021-09-21T16:33:42.555Z"
   },
   {
    "duration": -4845,
    "start_time": "2021-09-21T16:33:42.563Z"
   },
   {
    "duration": -4849,
    "start_time": "2021-09-21T16:33:42.568Z"
   },
   {
    "duration": -4854,
    "start_time": "2021-09-21T16:33:42.574Z"
   },
   {
    "duration": -4859,
    "start_time": "2021-09-21T16:33:42.580Z"
   },
   {
    "duration": -4864,
    "start_time": "2021-09-21T16:33:42.586Z"
   },
   {
    "duration": -4869,
    "start_time": "2021-09-21T16:33:42.592Z"
   },
   {
    "duration": -4872,
    "start_time": "2021-09-21T16:33:42.597Z"
   },
   {
    "duration": -4877,
    "start_time": "2021-09-21T16:33:42.603Z"
   },
   {
    "duration": -4892,
    "start_time": "2021-09-21T16:33:42.619Z"
   },
   {
    "duration": -4901,
    "start_time": "2021-09-21T16:33:42.629Z"
   },
   {
    "duration": -4909,
    "start_time": "2021-09-21T16:33:42.639Z"
   },
   {
    "duration": -4920,
    "start_time": "2021-09-21T16:33:42.652Z"
   },
   {
    "duration": -4939,
    "start_time": "2021-09-21T16:33:42.672Z"
   },
   {
    "duration": -4945,
    "start_time": "2021-09-21T16:33:42.680Z"
   },
   {
    "duration": -4958,
    "start_time": "2021-09-21T16:33:42.694Z"
   },
   {
    "duration": -4967,
    "start_time": "2021-09-21T16:33:42.704Z"
   },
   {
    "duration": -4998,
    "start_time": "2021-09-21T16:33:42.736Z"
   },
   {
    "duration": -5004,
    "start_time": "2021-09-21T16:33:42.744Z"
   },
   {
    "duration": -5013,
    "start_time": "2021-09-21T16:33:42.754Z"
   },
   {
    "duration": -5022,
    "start_time": "2021-09-21T16:33:42.764Z"
   },
   {
    "duration": -5032,
    "start_time": "2021-09-21T16:33:42.775Z"
   },
   {
    "duration": 2,
    "start_time": "2021-09-21T16:34:14.650Z"
   },
   {
    "duration": 3,
    "start_time": "2021-09-21T16:34:18.958Z"
   },
   {
    "duration": 241,
    "start_time": "2021-09-21T16:34:18.965Z"
   },
   {
    "duration": 233,
    "start_time": "2021-09-21T16:34:19.209Z"
   },
   {
    "duration": 395,
    "start_time": "2021-09-21T16:34:19.444Z"
   },
   {
    "duration": 41,
    "start_time": "2021-09-21T16:34:19.841Z"
   },
   {
    "duration": 8,
    "start_time": "2021-09-21T16:34:19.883Z"
   },
   {
    "duration": 54,
    "start_time": "2021-09-21T16:34:19.893Z"
   },
   {
    "duration": 51,
    "start_time": "2021-09-21T16:34:19.948Z"
   },
   {
    "duration": 206,
    "start_time": "2021-09-21T16:34:20.002Z"
   },
   {
    "duration": 217,
    "start_time": "2021-09-21T16:34:20.210Z"
   },
   {
    "duration": 62,
    "start_time": "2021-09-21T16:34:20.428Z"
   },
   {
    "duration": 85,
    "start_time": "2021-09-21T16:34:20.492Z"
   },
   {
    "duration": 3,
    "start_time": "2021-09-21T16:34:20.578Z"
   },
   {
    "duration": 132,
    "start_time": "2021-09-21T16:34:20.599Z"
   },
   {
    "duration": 23,
    "start_time": "2021-09-21T16:34:20.732Z"
   },
   {
    "duration": 18,
    "start_time": "2021-09-21T16:34:20.757Z"
   },
   {
    "duration": 28,
    "start_time": "2021-09-21T16:34:20.777Z"
   },
   {
    "duration": 18,
    "start_time": "2021-09-21T16:34:20.806Z"
   },
   {
    "duration": 116,
    "start_time": "2021-09-21T16:34:20.826Z"
   },
   {
    "duration": 9,
    "start_time": "2021-09-21T16:34:20.943Z"
   },
   {
    "duration": 264,
    "start_time": "2021-09-21T16:34:20.953Z"
   },
   {
    "duration": 86,
    "start_time": "2021-09-21T16:34:21.219Z"
   },
   {
    "duration": 40,
    "start_time": "2021-09-21T16:34:21.306Z"
   },
   {
    "duration": 5,
    "start_time": "2021-09-21T16:34:21.349Z"
   },
   {
    "duration": 18,
    "start_time": "2021-09-21T16:34:21.356Z"
   },
   {
    "duration": 56,
    "start_time": "2021-09-21T16:34:21.375Z"
   },
   {
    "duration": 67,
    "start_time": "2021-09-21T16:34:21.432Z"
   },
   {
    "duration": 284,
    "start_time": "2021-09-21T16:34:21.501Z"
   },
   {
    "duration": 2,
    "start_time": "2021-09-21T16:34:21.787Z"
   },
   {
    "duration": 43,
    "start_time": "2021-09-21T16:34:21.790Z"
   },
   {
    "duration": 203,
    "start_time": "2021-09-21T16:34:21.834Z"
   },
   {
    "duration": -5127,
    "start_time": "2021-09-21T16:34:27.166Z"
   },
   {
    "duration": -5159,
    "start_time": "2021-09-21T16:34:27.199Z"
   },
   {
    "duration": -5178,
    "start_time": "2021-09-21T16:34:27.219Z"
   },
   {
    "duration": -5186,
    "start_time": "2021-09-21T16:34:27.228Z"
   },
   {
    "duration": -5194,
    "start_time": "2021-09-21T16:34:27.237Z"
   },
   {
    "duration": -5215,
    "start_time": "2021-09-21T16:34:27.259Z"
   },
   {
    "duration": -5223,
    "start_time": "2021-09-21T16:34:27.268Z"
   },
   {
    "duration": -5232,
    "start_time": "2021-09-21T16:34:27.278Z"
   },
   {
    "duration": -5241,
    "start_time": "2021-09-21T16:34:27.288Z"
   },
   {
    "duration": -5249,
    "start_time": "2021-09-21T16:34:27.297Z"
   },
   {
    "duration": -5268,
    "start_time": "2021-09-21T16:34:27.317Z"
   },
   {
    "duration": -5272,
    "start_time": "2021-09-21T16:34:27.322Z"
   },
   {
    "duration": -5276,
    "start_time": "2021-09-21T16:34:27.327Z"
   },
   {
    "duration": -5292,
    "start_time": "2021-09-21T16:34:27.344Z"
   },
   {
    "duration": -5310,
    "start_time": "2021-09-21T16:34:27.363Z"
   },
   {
    "duration": -5320,
    "start_time": "2021-09-21T16:34:27.374Z"
   },
   {
    "duration": -5327,
    "start_time": "2021-09-21T16:34:27.382Z"
   },
   {
    "duration": -5334,
    "start_time": "2021-09-21T16:34:27.391Z"
   },
   {
    "duration": -5348,
    "start_time": "2021-09-21T16:34:27.406Z"
   },
   {
    "duration": -5356,
    "start_time": "2021-09-21T16:34:27.415Z"
   },
   {
    "duration": -5365,
    "start_time": "2021-09-21T16:34:27.425Z"
   },
   {
    "duration": 3,
    "start_time": "2021-09-21T16:35:27.001Z"
   },
   {
    "duration": 239,
    "start_time": "2021-09-21T16:35:27.006Z"
   },
   {
    "duration": 232,
    "start_time": "2021-09-21T16:35:27.247Z"
   },
   {
    "duration": 154,
    "start_time": "2021-09-21T16:35:27.481Z"
   },
   {
    "duration": 44,
    "start_time": "2021-09-21T16:35:27.637Z"
   },
   {
    "duration": 9,
    "start_time": "2021-09-21T16:35:27.683Z"
   },
   {
    "duration": 55,
    "start_time": "2021-09-21T16:35:27.694Z"
   },
   {
    "duration": 50,
    "start_time": "2021-09-21T16:35:27.751Z"
   },
   {
    "duration": 213,
    "start_time": "2021-09-21T16:35:27.803Z"
   },
   {
    "duration": 210,
    "start_time": "2021-09-21T16:35:28.018Z"
   },
   {
    "duration": 55,
    "start_time": "2021-09-21T16:35:28.230Z"
   },
   {
    "duration": 81,
    "start_time": "2021-09-21T16:35:28.299Z"
   },
   {
    "duration": 4,
    "start_time": "2021-09-21T16:35:28.382Z"
   },
   {
    "duration": 143,
    "start_time": "2021-09-21T16:35:28.399Z"
   },
   {
    "duration": 24,
    "start_time": "2021-09-21T16:35:28.544Z"
   },
   {
    "duration": 31,
    "start_time": "2021-09-21T16:35:28.570Z"
   },
   {
    "duration": 18,
    "start_time": "2021-09-21T16:35:28.603Z"
   },
   {
    "duration": 20,
    "start_time": "2021-09-21T16:35:28.622Z"
   },
   {
    "duration": 126,
    "start_time": "2021-09-21T16:35:28.644Z"
   },
   {
    "duration": 9,
    "start_time": "2021-09-21T16:35:28.772Z"
   },
   {
    "duration": 265,
    "start_time": "2021-09-21T16:35:28.783Z"
   },
   {
    "duration": 77,
    "start_time": "2021-09-21T16:35:29.050Z"
   },
   {
    "duration": 42,
    "start_time": "2021-09-21T16:35:29.129Z"
   },
   {
    "duration": 5,
    "start_time": "2021-09-21T16:35:29.173Z"
   },
   {
    "duration": 21,
    "start_time": "2021-09-21T16:35:29.200Z"
   },
   {
    "duration": 32,
    "start_time": "2021-09-21T16:35:29.223Z"
   },
   {
    "duration": 88,
    "start_time": "2021-09-21T16:35:29.260Z"
   },
   {
    "duration": 325,
    "start_time": "2021-09-21T16:35:29.351Z"
   },
   {
    "duration": 2,
    "start_time": "2021-09-21T16:35:29.677Z"
   },
   {
    "duration": 53,
    "start_time": "2021-09-21T16:35:29.681Z"
   },
   {
    "duration": 194,
    "start_time": "2021-09-21T16:35:29.735Z"
   },
   {
    "duration": -4857,
    "start_time": "2021-09-21T16:35:34.788Z"
   },
   {
    "duration": -4868,
    "start_time": "2021-09-21T16:35:34.800Z"
   },
   {
    "duration": -4876,
    "start_time": "2021-09-21T16:35:34.809Z"
   },
   {
    "duration": -4881,
    "start_time": "2021-09-21T16:35:34.815Z"
   },
   {
    "duration": -4886,
    "start_time": "2021-09-21T16:35:34.821Z"
   },
   {
    "duration": -4892,
    "start_time": "2021-09-21T16:35:34.828Z"
   },
   {
    "duration": -4897,
    "start_time": "2021-09-21T16:35:34.833Z"
   },
   {
    "duration": -4901,
    "start_time": "2021-09-21T16:35:34.838Z"
   },
   {
    "duration": -4906,
    "start_time": "2021-09-21T16:35:34.844Z"
   },
   {
    "duration": -4910,
    "start_time": "2021-09-21T16:35:34.849Z"
   },
   {
    "duration": -4914,
    "start_time": "2021-09-21T16:35:34.854Z"
   },
   {
    "duration": -4919,
    "start_time": "2021-09-21T16:35:34.860Z"
   },
   {
    "duration": -4924,
    "start_time": "2021-09-21T16:35:34.865Z"
   },
   {
    "duration": -4937,
    "start_time": "2021-09-21T16:35:34.879Z"
   },
   {
    "duration": -4942,
    "start_time": "2021-09-21T16:35:34.886Z"
   },
   {
    "duration": -4950,
    "start_time": "2021-09-21T16:35:34.895Z"
   },
   {
    "duration": -4957,
    "start_time": "2021-09-21T16:35:34.903Z"
   },
   {
    "duration": -4962,
    "start_time": "2021-09-21T16:35:34.909Z"
   },
   {
    "duration": -4967,
    "start_time": "2021-09-21T16:35:34.915Z"
   },
   {
    "duration": -4972,
    "start_time": "2021-09-21T16:35:34.921Z"
   },
   {
    "duration": -4977,
    "start_time": "2021-09-21T16:35:34.927Z"
   },
   {
    "duration": 235,
    "start_time": "2021-09-21T16:35:40.315Z"
   },
   {
    "duration": 68,
    "start_time": "2021-09-21T16:36:30.639Z"
   },
   {
    "duration": 168,
    "start_time": "2021-09-21T16:36:34.697Z"
   },
   {
    "duration": 4633,
    "start_time": "2021-09-21T16:36:48.248Z"
   },
   {
    "duration": 68,
    "start_time": "2021-09-21T16:37:04.397Z"
   },
   {
    "duration": 12,
    "start_time": "2021-09-21T16:37:09.052Z"
   },
   {
    "duration": 189,
    "start_time": "2021-09-21T16:37:14.400Z"
   },
   {
    "duration": 52,
    "start_time": "2021-09-21T16:37:46.457Z"
   },
   {
    "duration": 18,
    "start_time": "2021-09-21T16:37:59.258Z"
   },
   {
    "duration": 21,
    "start_time": "2021-09-21T16:38:17.845Z"
   },
   {
    "duration": 15,
    "start_time": "2021-09-21T16:38:22.535Z"
   },
   {
    "duration": 36,
    "start_time": "2021-09-21T16:38:25.324Z"
   },
   {
    "duration": 240,
    "start_time": "2021-09-21T16:38:27.928Z"
   },
   {
    "duration": 214,
    "start_time": "2021-09-21T16:38:46.485Z"
   },
   {
    "duration": 16,
    "start_time": "2021-09-21T16:38:56.970Z"
   },
   {
    "duration": 4559,
    "start_time": "2021-09-21T16:39:02.926Z"
   },
   {
    "duration": 4932,
    "start_time": "2021-09-21T16:39:22.553Z"
   },
   {
    "duration": 5,
    "start_time": "2021-09-21T16:39:33.647Z"
   },
   {
    "duration": 187,
    "start_time": "2021-09-21T16:42:58.209Z"
   },
   {
    "duration": 90,
    "start_time": "2021-09-21T16:43:19.099Z"
   },
   {
    "duration": 8,
    "start_time": "2021-09-21T16:49:51.312Z"
   },
   {
    "duration": 9,
    "start_time": "2021-09-21T16:49:57.464Z"
   },
   {
    "duration": 3,
    "start_time": "2021-09-21T17:01:38.651Z"
   },
   {
    "duration": 267,
    "start_time": "2021-09-21T17:01:38.656Z"
   },
   {
    "duration": 213,
    "start_time": "2021-09-21T17:01:38.925Z"
   },
   {
    "duration": 1260,
    "start_time": "2021-09-21T17:01:39.139Z"
   },
   {
    "duration": 45,
    "start_time": "2021-09-21T17:01:40.401Z"
   },
   {
    "duration": 8,
    "start_time": "2021-09-21T17:01:40.447Z"
   },
   {
    "duration": 53,
    "start_time": "2021-09-21T17:01:40.457Z"
   },
   {
    "duration": 49,
    "start_time": "2021-09-21T17:01:40.511Z"
   },
   {
    "duration": 221,
    "start_time": "2021-09-21T17:01:40.563Z"
   },
   {
    "duration": 214,
    "start_time": "2021-09-21T17:01:40.787Z"
   },
   {
    "duration": 61,
    "start_time": "2021-09-21T17:01:41.002Z"
   },
   {
    "duration": 85,
    "start_time": "2021-09-21T17:01:41.065Z"
   },
   {
    "duration": 3,
    "start_time": "2021-09-21T17:01:41.151Z"
   },
   {
    "duration": 134,
    "start_time": "2021-09-21T17:01:41.155Z"
   },
   {
    "duration": 28,
    "start_time": "2021-09-21T17:01:41.290Z"
   },
   {
    "duration": 18,
    "start_time": "2021-09-21T17:01:41.320Z"
   },
   {
    "duration": 16,
    "start_time": "2021-09-21T17:01:41.340Z"
   },
   {
    "duration": 42,
    "start_time": "2021-09-21T17:01:41.358Z"
   },
   {
    "duration": 85,
    "start_time": "2021-09-21T17:01:41.402Z"
   },
   {
    "duration": 8,
    "start_time": "2021-09-21T17:01:41.500Z"
   },
   {
    "duration": 242,
    "start_time": "2021-09-21T17:01:41.509Z"
   },
   {
    "duration": 79,
    "start_time": "2021-09-21T17:01:41.753Z"
   },
   {
    "duration": 40,
    "start_time": "2021-09-21T17:01:41.834Z"
   },
   {
    "duration": 24,
    "start_time": "2021-09-21T17:01:41.876Z"
   },
   {
    "duration": 18,
    "start_time": "2021-09-21T17:01:41.902Z"
   },
   {
    "duration": 32,
    "start_time": "2021-09-21T17:01:41.921Z"
   },
   {
    "duration": 77,
    "start_time": "2021-09-21T17:01:41.956Z"
   },
   {
    "duration": 2,
    "start_time": "2021-09-21T17:01:42.035Z"
   },
   {
    "duration": 13,
    "start_time": "2021-09-21T17:01:42.039Z"
   },
   {
    "duration": 47,
    "start_time": "2021-09-21T17:01:42.053Z"
   },
   {
    "duration": 10,
    "start_time": "2021-09-21T17:01:42.102Z"
   },
   {
    "duration": 3,
    "start_time": "2021-09-21T17:01:42.113Z"
   },
   {
    "duration": 82,
    "start_time": "2021-09-21T17:01:42.118Z"
   },
   {
    "duration": 66,
    "start_time": "2021-09-21T17:01:42.202Z"
   },
   {
    "duration": 8,
    "start_time": "2021-09-21T17:01:42.270Z"
   },
   {
    "duration": 35,
    "start_time": "2021-09-21T17:01:42.280Z"
   },
   {
    "duration": 15,
    "start_time": "2021-09-21T17:01:42.316Z"
   },
   {
    "duration": 34,
    "start_time": "2021-09-21T17:01:42.332Z"
   },
   {
    "duration": 60,
    "start_time": "2021-09-21T17:01:42.367Z"
   },
   {
    "duration": 13,
    "start_time": "2021-09-21T17:01:42.429Z"
   },
   {
    "duration": 5884,
    "start_time": "2021-09-21T17:01:42.444Z"
   },
   {
    "duration": -4738,
    "start_time": "2021-09-21T17:01:53.068Z"
   },
   {
    "duration": -4750,
    "start_time": "2021-09-21T17:01:53.081Z"
   },
   {
    "duration": -4758,
    "start_time": "2021-09-21T17:01:53.090Z"
   },
   {
    "duration": -4766,
    "start_time": "2021-09-21T17:01:53.099Z"
   },
   {
    "duration": -4776,
    "start_time": "2021-09-21T17:01:53.110Z"
   },
   {
    "duration": -4790,
    "start_time": "2021-09-21T17:01:53.124Z"
   },
   {
    "duration": -4800,
    "start_time": "2021-09-21T17:01:53.136Z"
   },
   {
    "duration": -4810,
    "start_time": "2021-09-21T17:01:53.146Z"
   },
   {
    "duration": -4814,
    "start_time": "2021-09-21T17:01:53.151Z"
   },
   {
    "duration": -4829,
    "start_time": "2021-09-21T17:01:53.167Z"
   },
   {
    "duration": -4835,
    "start_time": "2021-09-21T17:01:53.174Z"
   },
   {
    "duration": 188,
    "start_time": "2021-09-21T17:02:51.690Z"
   },
   {
    "duration": 4,
    "start_time": "2021-09-21T17:02:56.224Z"
   },
   {
    "duration": 4,
    "start_time": "2021-09-21T17:04:22.489Z"
   },
   {
    "duration": 5,
    "start_time": "2021-09-21T17:05:32.602Z"
   },
   {
    "duration": 4210,
    "start_time": "2021-09-21T17:06:09.492Z"
   },
   {
    "duration": 4440,
    "start_time": "2021-09-21T17:06:47.036Z"
   },
   {
    "duration": 4,
    "start_time": "2021-09-21T17:07:09.269Z"
   },
   {
    "duration": 5,
    "start_time": "2021-09-21T17:07:35.329Z"
   },
   {
    "duration": 6,
    "start_time": "2021-09-21T17:07:47.638Z"
   },
   {
    "duration": 6,
    "start_time": "2021-09-21T17:08:50.963Z"
   },
   {
    "duration": 7,
    "start_time": "2021-09-21T17:09:06.964Z"
   },
   {
    "duration": 45,
    "start_time": "2021-09-21T17:10:29.036Z"
   },
   {
    "duration": 6,
    "start_time": "2021-09-21T17:10:29.763Z"
   },
   {
    "duration": 5,
    "start_time": "2021-09-21T17:10:32.391Z"
   },
   {
    "duration": 38,
    "start_time": "2021-09-21T17:11:24.399Z"
   },
   {
    "duration": 7,
    "start_time": "2021-09-21T17:11:27.794Z"
   },
   {
    "duration": 236,
    "start_time": "2021-09-21T17:11:34.751Z"
   },
   {
    "duration": 47,
    "start_time": "2021-09-21T17:11:44.038Z"
   },
   {
    "duration": 7,
    "start_time": "2021-09-21T17:11:48.998Z"
   },
   {
    "duration": 1116,
    "start_time": "2021-09-21T18:33:59.833Z"
   },
   {
    "duration": 266,
    "start_time": "2021-09-21T18:34:00.952Z"
   },
   {
    "duration": 263,
    "start_time": "2021-09-21T18:34:01.221Z"
   },
   {
    "duration": 243,
    "start_time": "2021-09-21T18:34:01.486Z"
   },
   {
    "duration": 42,
    "start_time": "2021-09-21T18:34:01.731Z"
   },
   {
    "duration": 9,
    "start_time": "2021-09-21T18:34:01.775Z"
   },
   {
    "duration": 53,
    "start_time": "2021-09-21T18:34:01.786Z"
   },
   {
    "duration": 50,
    "start_time": "2021-09-21T18:34:01.843Z"
   },
   {
    "duration": 231,
    "start_time": "2021-09-21T18:34:01.895Z"
   },
   {
    "duration": 253,
    "start_time": "2021-09-21T18:34:02.128Z"
   },
   {
    "duration": 86,
    "start_time": "2021-09-21T18:34:02.383Z"
   },
   {
    "duration": 96,
    "start_time": "2021-09-21T18:34:02.471Z"
   },
   {
    "duration": 3,
    "start_time": "2021-09-21T18:34:02.569Z"
   },
   {
    "duration": 153,
    "start_time": "2021-09-21T18:34:02.573Z"
   },
   {
    "duration": 25,
    "start_time": "2021-09-21T18:34:02.728Z"
   },
   {
    "duration": 19,
    "start_time": "2021-09-21T18:34:02.755Z"
   },
   {
    "duration": 36,
    "start_time": "2021-09-21T18:34:02.776Z"
   },
   {
    "duration": 4,
    "start_time": "2021-09-21T18:34:02.813Z"
   },
   {
    "duration": 20,
    "start_time": "2021-09-21T18:34:02.819Z"
   },
   {
    "duration": 133,
    "start_time": "2021-09-21T18:34:02.840Z"
   },
   {
    "duration": 8,
    "start_time": "2021-09-21T18:34:02.975Z"
   },
   {
    "duration": 271,
    "start_time": "2021-09-21T18:34:02.985Z"
   },
   {
    "duration": 97,
    "start_time": "2021-09-21T18:34:03.260Z"
   },
   {
    "duration": 70,
    "start_time": "2021-09-21T18:34:03.360Z"
   },
   {
    "duration": 5,
    "start_time": "2021-09-21T18:34:03.432Z"
   },
   {
    "duration": 18,
    "start_time": "2021-09-21T18:34:03.439Z"
   },
   {
    "duration": 52,
    "start_time": "2021-09-21T18:34:03.459Z"
   },
   {
    "duration": 60,
    "start_time": "2021-09-21T18:34:03.513Z"
   },
   {
    "duration": 2,
    "start_time": "2021-09-21T18:34:03.574Z"
   },
   {
    "duration": 26,
    "start_time": "2021-09-21T18:34:03.578Z"
   },
   {
    "duration": 35,
    "start_time": "2021-09-21T18:34:03.606Z"
   },
   {
    "duration": 8,
    "start_time": "2021-09-21T18:34:03.643Z"
   },
   {
    "duration": 7,
    "start_time": "2021-09-21T18:34:03.653Z"
   },
   {
    "duration": 95,
    "start_time": "2021-09-21T18:34:03.662Z"
   },
   {
    "duration": 76,
    "start_time": "2021-09-21T18:34:03.759Z"
   },
   {
    "duration": 11,
    "start_time": "2021-09-21T18:34:03.837Z"
   },
   {
    "duration": 25,
    "start_time": "2021-09-21T18:34:03.850Z"
   },
   {
    "duration": 29,
    "start_time": "2021-09-21T18:34:03.877Z"
   },
   {
    "duration": 35,
    "start_time": "2021-09-21T18:34:03.908Z"
   },
   {
    "duration": 56,
    "start_time": "2021-09-21T18:34:03.944Z"
   },
   {
    "duration": 15,
    "start_time": "2021-09-21T18:34:04.002Z"
   },
   {
    "duration": 6072,
    "start_time": "2021-09-21T18:34:04.019Z"
   },
   {
    "duration": -5276,
    "start_time": "2021-09-21T18:34:15.369Z"
   },
   {
    "duration": -5284,
    "start_time": "2021-09-21T18:34:15.378Z"
   },
   {
    "duration": -5291,
    "start_time": "2021-09-21T18:34:15.386Z"
   },
   {
    "duration": -5298,
    "start_time": "2021-09-21T18:34:15.394Z"
   },
   {
    "duration": -5305,
    "start_time": "2021-09-21T18:34:15.402Z"
   },
   {
    "duration": -5313,
    "start_time": "2021-09-21T18:34:15.411Z"
   },
   {
    "duration": -5319,
    "start_time": "2021-09-21T18:34:15.419Z"
   },
   {
    "duration": -5327,
    "start_time": "2021-09-21T18:34:15.428Z"
   },
   {
    "duration": -5341,
    "start_time": "2021-09-21T18:34:15.444Z"
   },
   {
    "duration": -5350,
    "start_time": "2021-09-21T18:34:15.454Z"
   },
   {
    "duration": -5356,
    "start_time": "2021-09-21T18:34:15.461Z"
   },
   {
    "duration": 24,
    "start_time": "2021-09-21T18:36:32.141Z"
   },
   {
    "duration": 164,
    "start_time": "2021-09-21T18:36:36.113Z"
   },
   {
    "duration": 3,
    "start_time": "2021-09-21T18:36:41.098Z"
   },
   {
    "duration": 277,
    "start_time": "2021-09-21T18:36:41.102Z"
   },
   {
    "duration": 264,
    "start_time": "2021-09-21T18:36:41.381Z"
   },
   {
    "duration": 165,
    "start_time": "2021-09-21T18:36:41.647Z"
   },
   {
    "duration": 46,
    "start_time": "2021-09-21T18:36:41.813Z"
   },
   {
    "duration": 8,
    "start_time": "2021-09-21T18:36:41.861Z"
   },
   {
    "duration": 51,
    "start_time": "2021-09-21T18:36:41.871Z"
   },
   {
    "duration": 49,
    "start_time": "2021-09-21T18:36:41.923Z"
   },
   {
    "duration": 185,
    "start_time": "2021-09-21T18:36:41.974Z"
   },
   {
    "duration": 214,
    "start_time": "2021-09-21T18:36:42.161Z"
   },
   {
    "duration": 70,
    "start_time": "2021-09-21T18:36:42.376Z"
   },
   {
    "duration": 88,
    "start_time": "2021-09-21T18:36:42.448Z"
   },
   {
    "duration": 2,
    "start_time": "2021-09-21T18:36:42.538Z"
   },
   {
    "duration": 138,
    "start_time": "2021-09-21T18:36:42.542Z"
   },
   {
    "duration": 28,
    "start_time": "2021-09-21T18:36:42.682Z"
   },
   {
    "duration": 20,
    "start_time": "2021-09-21T18:36:42.712Z"
   },
   {
    "duration": 17,
    "start_time": "2021-09-21T18:36:42.733Z"
   },
   {
    "duration": 5,
    "start_time": "2021-09-21T18:36:42.752Z"
   },
   {
    "duration": 46,
    "start_time": "2021-09-21T18:36:42.761Z"
   },
   {
    "duration": 106,
    "start_time": "2021-09-21T18:36:42.809Z"
   },
   {
    "duration": 10,
    "start_time": "2021-09-21T18:36:42.917Z"
   },
   {
    "duration": 252,
    "start_time": "2021-09-21T18:36:42.928Z"
   },
   {
    "duration": 77,
    "start_time": "2021-09-21T18:36:43.182Z"
   },
   {
    "duration": 54,
    "start_time": "2021-09-21T18:36:43.260Z"
   },
   {
    "duration": 6,
    "start_time": "2021-09-21T18:36:43.315Z"
   },
   {
    "duration": 20,
    "start_time": "2021-09-21T18:36:43.322Z"
   },
   {
    "duration": 34,
    "start_time": "2021-09-21T18:36:43.343Z"
   },
   {
    "duration": 55,
    "start_time": "2021-09-21T18:36:43.399Z"
   },
   {
    "duration": 2,
    "start_time": "2021-09-21T18:36:43.456Z"
   },
   {
    "duration": 11,
    "start_time": "2021-09-21T18:36:43.459Z"
   },
   {
    "duration": 55,
    "start_time": "2021-09-21T18:36:43.471Z"
   },
   {
    "duration": 9,
    "start_time": "2021-09-21T18:36:43.527Z"
   },
   {
    "duration": 3,
    "start_time": "2021-09-21T18:36:43.537Z"
   },
   {
    "duration": 84,
    "start_time": "2021-09-21T18:36:43.541Z"
   },
   {
    "duration": 63,
    "start_time": "2021-09-21T18:36:43.627Z"
   },
   {
    "duration": 9,
    "start_time": "2021-09-21T18:36:43.700Z"
   },
   {
    "duration": 19,
    "start_time": "2021-09-21T18:36:43.711Z"
   },
   {
    "duration": 13,
    "start_time": "2021-09-21T18:36:43.732Z"
   },
   {
    "duration": 63,
    "start_time": "2021-09-21T18:36:43.747Z"
   },
   {
    "duration": 36,
    "start_time": "2021-09-21T18:36:43.811Z"
   },
   {
    "duration": 14,
    "start_time": "2021-09-21T18:36:43.848Z"
   },
   {
    "duration": 50,
    "start_time": "2021-09-21T18:36:43.863Z"
   },
   {
    "duration": 180,
    "start_time": "2021-09-21T18:36:43.915Z"
   },
   {
    "duration": -6006,
    "start_time": "2021-09-21T18:36:50.102Z"
   },
   {
    "duration": -6011,
    "start_time": "2021-09-21T18:36:50.108Z"
   },
   {
    "duration": -6015,
    "start_time": "2021-09-21T18:36:50.113Z"
   },
   {
    "duration": -6020,
    "start_time": "2021-09-21T18:36:50.119Z"
   },
   {
    "duration": -6025,
    "start_time": "2021-09-21T18:36:50.125Z"
   },
   {
    "duration": -6030,
    "start_time": "2021-09-21T18:36:50.131Z"
   },
   {
    "duration": -6034,
    "start_time": "2021-09-21T18:36:50.136Z"
   },
   {
    "duration": -6038,
    "start_time": "2021-09-21T18:36:50.142Z"
   },
   {
    "duration": -6042,
    "start_time": "2021-09-21T18:36:50.147Z"
   },
   {
    "duration": -6047,
    "start_time": "2021-09-21T18:36:50.153Z"
   },
   {
    "duration": 5,
    "start_time": "2021-09-21T18:38:04.477Z"
   },
   {
    "duration": 5,
    "start_time": "2021-09-21T18:38:40.997Z"
   },
   {
    "duration": 201,
    "start_time": "2021-09-21T18:39:29.570Z"
   },
   {
    "duration": 6,
    "start_time": "2021-09-21T18:39:31.689Z"
   },
   {
    "duration": 201,
    "start_time": "2021-09-21T18:39:55.230Z"
   },
   {
    "duration": 213,
    "start_time": "2021-09-21T18:40:00.375Z"
   },
   {
    "duration": 46,
    "start_time": "2021-09-21T18:41:06.377Z"
   },
   {
    "duration": 7,
    "start_time": "2021-09-21T18:41:10.007Z"
   },
   {
    "duration": 324,
    "start_time": "2021-09-21T18:41:20.397Z"
   },
   {
    "duration": 8,
    "start_time": "2021-09-21T18:41:25.351Z"
   },
   {
    "duration": 38,
    "start_time": "2021-09-21T18:41:40.509Z"
   },
   {
    "duration": 7,
    "start_time": "2021-09-21T18:41:43.990Z"
   },
   {
    "duration": 209,
    "start_time": "2021-09-21T18:41:51.532Z"
   },
   {
    "duration": 37,
    "start_time": "2021-09-21T18:41:58.614Z"
   },
   {
    "duration": 7,
    "start_time": "2021-09-21T18:42:01.709Z"
   },
   {
    "duration": 3,
    "start_time": "2021-09-21T18:42:07.647Z"
   },
   {
    "duration": 779,
    "start_time": "2021-09-21T18:42:07.653Z"
   },
   {
    "duration": 262,
    "start_time": "2021-09-21T18:42:08.434Z"
   },
   {
    "duration": 303,
    "start_time": "2021-09-21T18:42:08.698Z"
   },
   {
    "duration": 1539,
    "start_time": "2021-09-21T18:42:09.003Z"
   },
   {
    "duration": 11,
    "start_time": "2021-09-21T18:42:10.544Z"
   },
   {
    "duration": 51,
    "start_time": "2021-09-21T18:42:10.557Z"
   },
   {
    "duration": 51,
    "start_time": "2021-09-21T18:42:10.609Z"
   },
   {
    "duration": 226,
    "start_time": "2021-09-21T18:42:10.664Z"
   },
   {
    "duration": 223,
    "start_time": "2021-09-21T18:42:10.892Z"
   },
   {
    "duration": 67,
    "start_time": "2021-09-21T18:42:11.117Z"
   },
   {
    "duration": 93,
    "start_time": "2021-09-21T18:42:11.186Z"
   },
   {
    "duration": 19,
    "start_time": "2021-09-21T18:42:11.281Z"
   },
   {
    "duration": 137,
    "start_time": "2021-09-21T18:42:11.302Z"
   },
   {
    "duration": 24,
    "start_time": "2021-09-21T18:42:11.441Z"
   },
   {
    "duration": 33,
    "start_time": "2021-09-21T18:42:11.466Z"
   },
   {
    "duration": 16,
    "start_time": "2021-09-21T18:42:11.501Z"
   },
   {
    "duration": 4,
    "start_time": "2021-09-21T18:42:11.519Z"
   },
   {
    "duration": 17,
    "start_time": "2021-09-21T18:42:11.524Z"
   },
   {
    "duration": 117,
    "start_time": "2021-09-21T18:42:11.543Z"
   },
   {
    "duration": 8,
    "start_time": "2021-09-21T18:42:11.662Z"
   },
   {
    "duration": 261,
    "start_time": "2021-09-21T18:42:11.672Z"
   },
   {
    "duration": 77,
    "start_time": "2021-09-21T18:42:11.935Z"
   },
   {
    "duration": 40,
    "start_time": "2021-09-21T18:42:12.015Z"
   },
   {
    "duration": 6,
    "start_time": "2021-09-21T18:42:12.057Z"
   },
   {
    "duration": 38,
    "start_time": "2021-09-21T18:42:12.064Z"
   },
   {
    "duration": 31,
    "start_time": "2021-09-21T18:42:12.103Z"
   },
   {
    "duration": 70,
    "start_time": "2021-09-21T18:42:12.136Z"
   },
   {
    "duration": 2,
    "start_time": "2021-09-21T18:42:12.208Z"
   },
   {
    "duration": 10,
    "start_time": "2021-09-21T18:42:12.211Z"
   },
   {
    "duration": 33,
    "start_time": "2021-09-21T18:42:12.223Z"
   },
   {
    "duration": 8,
    "start_time": "2021-09-21T18:42:12.258Z"
   },
   {
    "duration": 2,
    "start_time": "2021-09-21T18:42:12.267Z"
   },
   {
    "duration": 90,
    "start_time": "2021-09-21T18:42:12.271Z"
   },
   {
    "duration": 77,
    "start_time": "2021-09-21T18:42:12.362Z"
   },
   {
    "duration": 10,
    "start_time": "2021-09-21T18:42:12.440Z"
   },
   {
    "duration": 20,
    "start_time": "2021-09-21T18:42:12.451Z"
   },
   {
    "duration": 33,
    "start_time": "2021-09-21T18:42:12.473Z"
   },
   {
    "duration": 34,
    "start_time": "2021-09-21T18:42:12.508Z"
   },
   {
    "duration": 2,
    "start_time": "2021-09-21T18:42:12.543Z"
   },
   {
    "duration": 54,
    "start_time": "2021-09-21T18:42:12.547Z"
   },
   {
    "duration": 6,
    "start_time": "2021-09-21T18:42:12.602Z"
   },
   {
    "duration": 15,
    "start_time": "2021-09-21T18:42:12.609Z"
   },
   {
    "duration": 24,
    "start_time": "2021-09-21T18:42:12.626Z"
   },
   {
    "duration": 170,
    "start_time": "2021-09-21T18:42:12.651Z"
   },
   {
    "duration": -4897,
    "start_time": "2021-09-21T18:42:17.719Z"
   },
   {
    "duration": -4901,
    "start_time": "2021-09-21T18:42:17.725Z"
   },
   {
    "duration": -4906,
    "start_time": "2021-09-21T18:42:17.731Z"
   },
   {
    "duration": -4910,
    "start_time": "2021-09-21T18:42:17.736Z"
   },
   {
    "duration": -4915,
    "start_time": "2021-09-21T18:42:17.742Z"
   },
   {
    "duration": -4919,
    "start_time": "2021-09-21T18:42:17.747Z"
   },
   {
    "duration": -4923,
    "start_time": "2021-09-21T18:42:17.752Z"
   },
   {
    "duration": -4929,
    "start_time": "2021-09-21T18:42:17.759Z"
   },
   {
    "duration": -4934,
    "start_time": "2021-09-21T18:42:17.765Z"
   },
   {
    "duration": -4939,
    "start_time": "2021-09-21T18:42:17.771Z"
   },
   {
    "duration": 6,
    "start_time": "2021-09-21T18:43:11.900Z"
   },
   {
    "duration": 6,
    "start_time": "2021-09-21T18:44:48.363Z"
   },
   {
    "duration": 5,
    "start_time": "2021-09-21T18:45:01.043Z"
   },
   {
    "duration": 5,
    "start_time": "2021-09-21T18:45:55.980Z"
   },
   {
    "duration": 211,
    "start_time": "2021-09-21T18:48:49.861Z"
   },
   {
    "duration": 39,
    "start_time": "2021-09-21T18:49:10.117Z"
   },
   {
    "duration": 5,
    "start_time": "2021-09-21T18:49:13.786Z"
   },
   {
    "duration": 6,
    "start_time": "2021-09-21T18:49:16.454Z"
   },
   {
    "duration": 3,
    "start_time": "2021-09-21T18:49:26.625Z"
   },
   {
    "duration": 269,
    "start_time": "2021-09-21T18:49:26.633Z"
   },
   {
    "duration": 204,
    "start_time": "2021-09-21T18:49:26.903Z"
   },
   {
    "duration": 1189,
    "start_time": "2021-09-21T18:49:27.110Z"
   },
   {
    "duration": 46,
    "start_time": "2021-09-21T18:49:28.301Z"
   },
   {
    "duration": 9,
    "start_time": "2021-09-21T18:49:28.348Z"
   },
   {
    "duration": 51,
    "start_time": "2021-09-21T18:49:28.358Z"
   },
   {
    "duration": 50,
    "start_time": "2021-09-21T18:49:28.411Z"
   },
   {
    "duration": 215,
    "start_time": "2021-09-21T18:49:28.462Z"
   },
   {
    "duration": 228,
    "start_time": "2021-09-21T18:49:28.679Z"
   },
   {
    "duration": 60,
    "start_time": "2021-09-21T18:49:28.909Z"
   },
   {
    "duration": 160,
    "start_time": "2021-09-21T18:49:28.971Z"
   },
   {
    "duration": 3,
    "start_time": "2021-09-21T18:49:29.132Z"
   },
   {
    "duration": 217,
    "start_time": "2021-09-21T18:49:29.136Z"
   },
   {
    "duration": 56,
    "start_time": "2021-09-21T18:49:29.355Z"
   },
   {
    "duration": 19,
    "start_time": "2021-09-21T18:49:29.412Z"
   },
   {
    "duration": 68,
    "start_time": "2021-09-21T18:49:29.433Z"
   },
   {
    "duration": 5,
    "start_time": "2021-09-21T18:49:29.502Z"
   },
   {
    "duration": 21,
    "start_time": "2021-09-21T18:49:29.508Z"
   },
   {
    "duration": 112,
    "start_time": "2021-09-21T18:49:29.531Z"
   },
   {
    "duration": 9,
    "start_time": "2021-09-21T18:49:29.645Z"
   },
   {
    "duration": 256,
    "start_time": "2021-09-21T18:49:29.655Z"
   },
   {
    "duration": 89,
    "start_time": "2021-09-21T18:49:29.912Z"
   },
   {
    "duration": 44,
    "start_time": "2021-09-21T18:49:30.003Z"
   },
   {
    "duration": 5,
    "start_time": "2021-09-21T18:49:30.049Z"
   },
   {
    "duration": 22,
    "start_time": "2021-09-21T18:49:30.055Z"
   },
   {
    "duration": 49,
    "start_time": "2021-09-21T18:49:30.079Z"
   },
   {
    "duration": 68,
    "start_time": "2021-09-21T18:49:30.132Z"
   },
   {
    "duration": 2,
    "start_time": "2021-09-21T18:49:30.202Z"
   },
   {
    "duration": 12,
    "start_time": "2021-09-21T18:49:30.206Z"
   },
   {
    "duration": 42,
    "start_time": "2021-09-21T18:49:30.219Z"
   },
   {
    "duration": 8,
    "start_time": "2021-09-21T18:49:30.263Z"
   },
   {
    "duration": 13,
    "start_time": "2021-09-21T18:49:30.273Z"
   },
   {
    "duration": 74,
    "start_time": "2021-09-21T18:49:30.288Z"
   },
   {
    "duration": 75,
    "start_time": "2021-09-21T18:49:30.364Z"
   },
   {
    "duration": 9,
    "start_time": "2021-09-21T18:49:30.441Z"
   },
   {
    "duration": 25,
    "start_time": "2021-09-21T18:49:30.451Z"
   },
   {
    "duration": 33,
    "start_time": "2021-09-21T18:49:30.478Z"
   },
   {
    "duration": 37,
    "start_time": "2021-09-21T18:49:30.512Z"
   },
   {
    "duration": 2,
    "start_time": "2021-09-21T18:49:30.550Z"
   },
   {
    "duration": 56,
    "start_time": "2021-09-21T18:49:30.554Z"
   },
   {
    "duration": 4,
    "start_time": "2021-09-21T18:49:30.612Z"
   },
   {
    "duration": 8,
    "start_time": "2021-09-21T18:49:30.617Z"
   },
   {
    "duration": 14,
    "start_time": "2021-09-21T18:49:30.626Z"
   },
   {
    "duration": 5066,
    "start_time": "2021-09-21T18:49:30.642Z"
   },
   {
    "duration": -4953,
    "start_time": "2021-09-21T18:49:40.663Z"
   },
   {
    "duration": -4960,
    "start_time": "2021-09-21T18:49:40.671Z"
   },
   {
    "duration": -4967,
    "start_time": "2021-09-21T18:49:40.679Z"
   },
   {
    "duration": -4975,
    "start_time": "2021-09-21T18:49:40.688Z"
   },
   {
    "duration": -5029,
    "start_time": "2021-09-21T18:49:40.743Z"
   },
   {
    "duration": -5045,
    "start_time": "2021-09-21T18:49:40.760Z"
   },
   {
    "duration": -5052,
    "start_time": "2021-09-21T18:49:40.768Z"
   },
   {
    "duration": -5060,
    "start_time": "2021-09-21T18:49:40.776Z"
   },
   {
    "duration": -5066,
    "start_time": "2021-09-21T18:49:40.783Z"
   },
   {
    "duration": -5073,
    "start_time": "2021-09-21T18:49:40.791Z"
   },
   {
    "duration": -5080,
    "start_time": "2021-09-21T18:49:40.799Z"
   },
   {
    "duration": 5,
    "start_time": "2021-09-21T18:50:02.998Z"
   },
   {
    "duration": 6,
    "start_time": "2021-09-21T18:50:05.883Z"
   },
   {
    "duration": 232,
    "start_time": "2021-09-21T18:50:16.724Z"
   },
   {
    "duration": 38,
    "start_time": "2021-09-21T18:50:20.228Z"
   },
   {
    "duration": 5,
    "start_time": "2021-09-21T18:50:21.912Z"
   },
   {
    "duration": 219,
    "start_time": "2021-09-21T18:50:26.224Z"
   },
   {
    "duration": 38,
    "start_time": "2021-09-21T18:50:29.128Z"
   },
   {
    "duration": 203,
    "start_time": "2021-09-21T18:50:36.091Z"
   },
   {
    "duration": 37,
    "start_time": "2021-09-21T18:50:44.001Z"
   },
   {
    "duration": 5,
    "start_time": "2021-09-21T18:50:47.682Z"
   },
   {
    "duration": 7,
    "start_time": "2021-09-21T18:50:48.648Z"
   },
   {
    "duration": 7,
    "start_time": "2021-09-21T18:50:51.963Z"
   },
   {
    "duration": 15,
    "start_time": "2021-09-21T18:50:52.849Z"
   },
   {
    "duration": 4897,
    "start_time": "2021-09-21T18:51:01.290Z"
   },
   {
    "duration": 6,
    "start_time": "2021-09-21T18:51:19.827Z"
   },
   {
    "duration": 6,
    "start_time": "2021-09-21T18:51:34.402Z"
   },
   {
    "duration": 209,
    "start_time": "2021-09-21T18:51:49.683Z"
   },
   {
    "duration": 224,
    "start_time": "2021-09-21T18:51:53.259Z"
   },
   {
    "duration": 204,
    "start_time": "2021-09-21T18:52:04.796Z"
   },
   {
    "duration": 37,
    "start_time": "2021-09-21T18:52:12.473Z"
   },
   {
    "duration": 6,
    "start_time": "2021-09-21T18:52:16.251Z"
   },
   {
    "duration": 7,
    "start_time": "2021-09-21T18:52:19.413Z"
   },
   {
    "duration": 4386,
    "start_time": "2021-09-21T18:52:28.139Z"
   },
   {
    "duration": 6,
    "start_time": "2021-09-21T18:52:42.454Z"
   },
   {
    "duration": 273,
    "start_time": "2021-09-21T18:52:42.637Z"
   },
   {
    "duration": 195,
    "start_time": "2021-09-21T18:52:42.912Z"
   },
   {
    "duration": 1174,
    "start_time": "2021-09-21T18:52:43.109Z"
   },
   {
    "duration": 44,
    "start_time": "2021-09-21T18:52:44.284Z"
   },
   {
    "duration": 7,
    "start_time": "2021-09-21T18:52:44.330Z"
   },
   {
    "duration": 50,
    "start_time": "2021-09-21T18:52:44.339Z"
   },
   {
    "duration": 47,
    "start_time": "2021-09-21T18:52:44.391Z"
   },
   {
    "duration": 206,
    "start_time": "2021-09-21T18:52:44.439Z"
   },
   {
    "duration": 206,
    "start_time": "2021-09-21T18:52:44.647Z"
   },
   {
    "duration": 68,
    "start_time": "2021-09-21T18:52:44.855Z"
   },
   {
    "duration": 81,
    "start_time": "2021-09-21T18:52:44.925Z"
   },
   {
    "duration": 2,
    "start_time": "2021-09-21T18:52:45.007Z"
   },
   {
    "duration": 137,
    "start_time": "2021-09-21T18:52:45.011Z"
   },
   {
    "duration": 24,
    "start_time": "2021-09-21T18:52:45.149Z"
   },
   {
    "duration": 36,
    "start_time": "2021-09-21T18:52:45.174Z"
   },
   {
    "duration": 18,
    "start_time": "2021-09-21T18:52:45.211Z"
   },
   {
    "duration": 4,
    "start_time": "2021-09-21T18:52:45.231Z"
   },
   {
    "duration": 20,
    "start_time": "2021-09-21T18:52:45.236Z"
   },
   {
    "duration": 113,
    "start_time": "2021-09-21T18:52:45.257Z"
   },
   {
    "duration": 8,
    "start_time": "2021-09-21T18:52:45.372Z"
   },
   {
    "duration": 248,
    "start_time": "2021-09-21T18:52:45.382Z"
   },
   {
    "duration": 79,
    "start_time": "2021-09-21T18:52:45.632Z"
   },
   {
    "duration": 40,
    "start_time": "2021-09-21T18:52:45.712Z"
   },
   {
    "duration": 6,
    "start_time": "2021-09-21T18:52:45.753Z"
   },
   {
    "duration": 18,
    "start_time": "2021-09-21T18:52:45.760Z"
   },
   {
    "duration": 34,
    "start_time": "2021-09-21T18:52:45.800Z"
   },
   {
    "duration": 66,
    "start_time": "2021-09-21T18:52:45.838Z"
   },
   {
    "duration": 2,
    "start_time": "2021-09-21T18:52:45.906Z"
   },
   {
    "duration": 11,
    "start_time": "2021-09-21T18:52:45.910Z"
   },
   {
    "duration": 35,
    "start_time": "2021-09-21T18:52:45.922Z"
   },
   {
    "duration": 9,
    "start_time": "2021-09-21T18:52:45.958Z"
   },
   {
    "duration": 31,
    "start_time": "2021-09-21T18:52:45.968Z"
   },
   {
    "duration": 66,
    "start_time": "2021-09-21T18:52:46.001Z"
   },
   {
    "duration": 74,
    "start_time": "2021-09-21T18:52:46.068Z"
   },
   {
    "duration": 10,
    "start_time": "2021-09-21T18:52:46.144Z"
   },
   {
    "duration": 19,
    "start_time": "2021-09-21T18:52:46.155Z"
   },
   {
    "duration": 30,
    "start_time": "2021-09-21T18:52:46.176Z"
   },
   {
    "duration": 36,
    "start_time": "2021-09-21T18:52:46.207Z"
   },
   {
    "duration": 2,
    "start_time": "2021-09-21T18:52:46.244Z"
   },
   {
    "duration": 61,
    "start_time": "2021-09-21T18:52:46.248Z"
   },
   {
    "duration": 5,
    "start_time": "2021-09-21T18:52:46.310Z"
   },
   {
    "duration": 8,
    "start_time": "2021-09-21T18:52:46.316Z"
   },
   {
    "duration": 14,
    "start_time": "2021-09-21T18:52:46.326Z"
   },
   {
    "duration": 27,
    "start_time": "2021-09-21T18:52:46.342Z"
   },
   {
    "duration": 173,
    "start_time": "2021-09-21T18:52:46.370Z"
   },
   {
    "duration": -4911,
    "start_time": "2021-09-21T18:52:51.456Z"
   },
   {
    "duration": -4915,
    "start_time": "2021-09-21T18:52:51.461Z"
   },
   {
    "duration": -4919,
    "start_time": "2021-09-21T18:52:51.466Z"
   },
   {
    "duration": -5010,
    "start_time": "2021-09-21T18:52:51.558Z"
   },
   {
    "duration": -5015,
    "start_time": "2021-09-21T18:52:51.563Z"
   },
   {
    "duration": -5019,
    "start_time": "2021-09-21T18:52:51.568Z"
   },
   {
    "duration": -5024,
    "start_time": "2021-09-21T18:52:51.574Z"
   },
   {
    "duration": -5028,
    "start_time": "2021-09-21T18:52:51.579Z"
   },
   {
    "duration": -5032,
    "start_time": "2021-09-21T18:52:51.584Z"
   },
   {
    "duration": -5036,
    "start_time": "2021-09-21T18:52:51.589Z"
   },
   {
    "duration": 5,
    "start_time": "2021-09-21T19:01:40.715Z"
   },
   {
    "duration": 183,
    "start_time": "2021-09-21T19:05:10.764Z"
   },
   {
    "duration": 228,
    "start_time": "2021-09-21T19:06:49.153Z"
   },
   {
    "duration": 73,
    "start_time": "2021-09-21T19:07:24.196Z"
   },
   {
    "duration": 5,
    "start_time": "2021-09-21T19:07:33.013Z"
   },
   {
    "duration": 7,
    "start_time": "2021-09-21T19:07:35.202Z"
   },
   {
    "duration": 4985,
    "start_time": "2021-09-21T19:08:09.793Z"
   },
   {
    "duration": 3,
    "start_time": "2021-09-21T19:08:28.232Z"
   },
   {
    "duration": 229,
    "start_time": "2021-09-21T19:08:28.239Z"
   },
   {
    "duration": 252,
    "start_time": "2021-09-21T19:08:28.470Z"
   },
   {
    "duration": 237,
    "start_time": "2021-09-21T19:08:28.724Z"
   },
   {
    "duration": 46,
    "start_time": "2021-09-21T19:08:28.962Z"
   },
   {
    "duration": 8,
    "start_time": "2021-09-21T19:08:29.010Z"
   },
   {
    "duration": 1741,
    "start_time": "2021-09-21T19:08:29.020Z"
   },
   {
    "duration": 51,
    "start_time": "2021-09-21T19:08:30.762Z"
   },
   {
    "duration": 213,
    "start_time": "2021-09-21T19:08:30.816Z"
   },
   {
    "duration": 232,
    "start_time": "2021-09-21T19:08:31.031Z"
   },
   {
    "duration": 75,
    "start_time": "2021-09-21T19:08:31.265Z"
   },
   {
    "duration": 83,
    "start_time": "2021-09-21T19:08:31.342Z"
   },
   {
    "duration": 2,
    "start_time": "2021-09-21T19:08:31.427Z"
   },
   {
    "duration": 133,
    "start_time": "2021-09-21T19:08:31.431Z"
   },
   {
    "duration": 24,
    "start_time": "2021-09-21T19:08:31.566Z"
   },
   {
    "duration": 19,
    "start_time": "2021-09-21T19:08:31.600Z"
   },
   {
    "duration": 19,
    "start_time": "2021-09-21T19:08:31.621Z"
   },
   {
    "duration": 16,
    "start_time": "2021-09-21T19:08:31.642Z"
   },
   {
    "duration": 43,
    "start_time": "2021-09-21T19:08:31.659Z"
   },
   {
    "duration": 86,
    "start_time": "2021-09-21T19:08:31.705Z"
   },
   {
    "duration": 13,
    "start_time": "2021-09-21T19:08:31.792Z"
   },
   {
    "duration": 266,
    "start_time": "2021-09-21T19:08:31.807Z"
   },
   {
    "duration": 81,
    "start_time": "2021-09-21T19:08:32.074Z"
   },
   {
    "duration": 48,
    "start_time": "2021-09-21T19:08:32.159Z"
   },
   {
    "duration": 6,
    "start_time": "2021-09-21T19:08:32.209Z"
   },
   {
    "duration": 21,
    "start_time": "2021-09-21T19:08:32.216Z"
   },
   {
    "duration": 33,
    "start_time": "2021-09-21T19:08:32.238Z"
   },
   {
    "duration": 76,
    "start_time": "2021-09-21T19:08:32.273Z"
   },
   {
    "duration": 2,
    "start_time": "2021-09-21T19:08:32.351Z"
   },
   {
    "duration": 11,
    "start_time": "2021-09-21T19:08:32.354Z"
   },
   {
    "duration": 48,
    "start_time": "2021-09-21T19:08:32.367Z"
   },
   {
    "duration": 8,
    "start_time": "2021-09-21T19:08:32.417Z"
   },
   {
    "duration": 10,
    "start_time": "2021-09-21T19:08:32.426Z"
   },
   {
    "duration": 77,
    "start_time": "2021-09-21T19:08:32.437Z"
   },
   {
    "duration": 63,
    "start_time": "2021-09-21T19:08:32.515Z"
   },
   {
    "duration": 22,
    "start_time": "2021-09-21T19:08:32.579Z"
   },
   {
    "duration": 19,
    "start_time": "2021-09-21T19:08:32.603Z"
   },
   {
    "duration": 16,
    "start_time": "2021-09-21T19:08:32.623Z"
   },
   {
    "duration": 35,
    "start_time": "2021-09-21T19:08:32.640Z"
   },
   {
    "duration": 24,
    "start_time": "2021-09-21T19:08:32.676Z"
   },
   {
    "duration": 103,
    "start_time": "2021-09-21T19:08:32.701Z"
   },
   {
    "duration": 14,
    "start_time": "2021-09-21T19:08:32.806Z"
   },
   {
    "duration": 4824,
    "start_time": "2021-09-21T19:08:32.821Z"
   },
   {
    "duration": -4887,
    "start_time": "2021-09-21T19:08:42.534Z"
   },
   {
    "duration": -4893,
    "start_time": "2021-09-21T19:08:42.541Z"
   },
   {
    "duration": -4901,
    "start_time": "2021-09-21T19:08:42.550Z"
   },
   {
    "duration": -4906,
    "start_time": "2021-09-21T19:08:42.556Z"
   },
   {
    "duration": -4915,
    "start_time": "2021-09-21T19:08:42.565Z"
   },
   {
    "duration": -4921,
    "start_time": "2021-09-21T19:08:42.572Z"
   },
   {
    "duration": -5060,
    "start_time": "2021-09-21T19:08:42.712Z"
   },
   {
    "duration": -5075,
    "start_time": "2021-09-21T19:08:42.728Z"
   },
   {
    "duration": -5081,
    "start_time": "2021-09-21T19:08:42.735Z"
   },
   {
    "duration": -5088,
    "start_time": "2021-09-21T19:08:42.743Z"
   },
   {
    "duration": -5096,
    "start_time": "2021-09-21T19:08:42.751Z"
   },
   {
    "duration": 5,
    "start_time": "2021-09-21T19:11:42.267Z"
   },
   {
    "duration": 4,
    "start_time": "2021-09-21T19:11:57.468Z"
   },
   {
    "duration": 1600,
    "start_time": "2021-09-22T04:26:14.586Z"
   },
   {
    "duration": 530,
    "start_time": "2021-09-22T04:26:16.189Z"
   },
   {
    "duration": 2177,
    "start_time": "2021-09-22T04:26:16.722Z"
   },
   {
    "duration": 314,
    "start_time": "2021-09-22T04:26:18.901Z"
   },
   {
    "duration": 120,
    "start_time": "2021-09-22T04:26:19.217Z"
   },
   {
    "duration": 13,
    "start_time": "2021-09-22T04:26:19.339Z"
   },
   {
    "duration": 158,
    "start_time": "2021-09-22T04:26:19.354Z"
   },
   {
    "duration": 107,
    "start_time": "2021-09-22T04:26:19.516Z"
   },
   {
    "duration": 372,
    "start_time": "2021-09-22T04:26:19.627Z"
   },
   {
    "duration": 343,
    "start_time": "2021-09-22T04:26:20.001Z"
   },
   {
    "duration": 131,
    "start_time": "2021-09-22T04:26:20.346Z"
   },
   {
    "duration": 154,
    "start_time": "2021-09-22T04:26:20.480Z"
   },
   {
    "duration": 4,
    "start_time": "2021-09-22T04:26:20.636Z"
   },
   {
    "duration": 229,
    "start_time": "2021-09-22T04:26:20.643Z"
   },
   {
    "duration": 48,
    "start_time": "2021-09-22T04:26:20.875Z"
   },
   {
    "duration": 28,
    "start_time": "2021-09-22T04:26:20.926Z"
   },
   {
    "duration": 26,
    "start_time": "2021-09-22T04:26:20.957Z"
   },
   {
    "duration": 34,
    "start_time": "2021-09-22T04:26:20.985Z"
   },
   {
    "duration": 33,
    "start_time": "2021-09-22T04:26:21.021Z"
   },
   {
    "duration": 181,
    "start_time": "2021-09-22T04:26:21.056Z"
   },
   {
    "duration": 11,
    "start_time": "2021-09-22T04:26:21.239Z"
   },
   {
    "duration": 430,
    "start_time": "2021-09-22T04:26:21.253Z"
   },
   {
    "duration": 127,
    "start_time": "2021-09-22T04:26:21.688Z"
   },
   {
    "duration": 74,
    "start_time": "2021-09-22T04:26:21.818Z"
   },
   {
    "duration": 22,
    "start_time": "2021-09-22T04:26:21.894Z"
   },
   {
    "duration": 24,
    "start_time": "2021-09-22T04:26:21.918Z"
   },
   {
    "duration": 47,
    "start_time": "2021-09-22T04:26:21.944Z"
   },
   {
    "duration": 102,
    "start_time": "2021-09-22T04:26:22.016Z"
   },
   {
    "duration": 3,
    "start_time": "2021-09-22T04:26:22.120Z"
   },
   {
    "duration": 17,
    "start_time": "2021-09-22T04:26:22.125Z"
   },
   {
    "duration": 72,
    "start_time": "2021-09-22T04:26:22.145Z"
   },
   {
    "duration": 12,
    "start_time": "2021-09-22T04:26:22.220Z"
   },
   {
    "duration": 3,
    "start_time": "2021-09-22T04:26:22.235Z"
   },
   {
    "duration": 140,
    "start_time": "2021-09-22T04:26:22.240Z"
   },
   {
    "duration": 116,
    "start_time": "2021-09-22T04:26:22.382Z"
   },
   {
    "duration": 19,
    "start_time": "2021-09-22T04:26:22.500Z"
   },
   {
    "duration": 32,
    "start_time": "2021-09-22T04:26:22.521Z"
   },
   {
    "duration": 23,
    "start_time": "2021-09-22T04:26:22.555Z"
   },
   {
    "duration": 83,
    "start_time": "2021-09-22T04:26:22.581Z"
   },
   {
    "duration": 3,
    "start_time": "2021-09-22T04:26:22.666Z"
   },
   {
    "duration": 160,
    "start_time": "2021-09-22T04:26:22.671Z"
   },
   {
    "duration": 23,
    "start_time": "2021-09-22T04:26:22.834Z"
   },
   {
    "duration": 6,
    "start_time": "2021-09-22T04:26:22.859Z"
   },
   {
    "duration": 10371,
    "start_time": "2021-09-22T04:26:22.867Z"
   },
   {
    "duration": -611,
    "start_time": "2021-09-22T04:26:33.852Z"
   },
   {
    "duration": -616,
    "start_time": "2021-09-22T04:26:33.858Z"
   },
   {
    "duration": -621,
    "start_time": "2021-09-22T04:26:33.865Z"
   },
   {
    "duration": -625,
    "start_time": "2021-09-22T04:26:33.870Z"
   },
   {
    "duration": -633,
    "start_time": "2021-09-22T04:26:33.879Z"
   },
   {
    "duration": -645,
    "start_time": "2021-09-22T04:26:33.892Z"
   },
   {
    "duration": -654,
    "start_time": "2021-09-22T04:26:33.903Z"
   },
   {
    "duration": -658,
    "start_time": "2021-09-22T04:26:33.908Z"
   },
   {
    "duration": -663,
    "start_time": "2021-09-22T04:26:33.914Z"
   },
   {
    "duration": -666,
    "start_time": "2021-09-22T04:26:33.919Z"
   },
   {
    "duration": -671,
    "start_time": "2021-09-22T04:26:33.925Z"
   },
   {
    "duration": 3940,
    "start_time": "2021-09-22T04:38:07.141Z"
   },
   {
    "duration": 428,
    "start_time": "2021-09-22T04:38:57.844Z"
   },
   {
    "duration": 4,
    "start_time": "2021-09-22T04:39:05.376Z"
   },
   {
    "duration": 392,
    "start_time": "2021-09-22T04:39:05.383Z"
   },
   {
    "duration": 359,
    "start_time": "2021-09-22T04:39:05.778Z"
   },
   {
    "duration": 1266,
    "start_time": "2021-09-22T04:39:06.140Z"
   },
   {
    "duration": 65,
    "start_time": "2021-09-22T04:39:07.417Z"
   },
   {
    "duration": 13,
    "start_time": "2021-09-22T04:39:07.484Z"
   },
   {
    "duration": 79,
    "start_time": "2021-09-22T04:39:07.500Z"
   },
   {
    "duration": 73,
    "start_time": "2021-09-22T04:39:07.583Z"
   },
   {
    "duration": 320,
    "start_time": "2021-09-22T04:39:07.660Z"
   },
   {
    "duration": 322,
    "start_time": "2021-09-22T04:39:07.982Z"
   },
   {
    "duration": 126,
    "start_time": "2021-09-22T04:39:08.306Z"
   },
   {
    "duration": 148,
    "start_time": "2021-09-22T04:39:08.435Z"
   },
   {
    "duration": 4,
    "start_time": "2021-09-22T04:39:08.585Z"
   },
   {
    "duration": 206,
    "start_time": "2021-09-22T04:39:08.592Z"
   },
   {
    "duration": 40,
    "start_time": "2021-09-22T04:39:08.800Z"
   },
   {
    "duration": 28,
    "start_time": "2021-09-22T04:39:08.843Z"
   },
   {
    "duration": 53,
    "start_time": "2021-09-22T04:39:08.873Z"
   },
   {
    "duration": 5,
    "start_time": "2021-09-22T04:39:08.929Z"
   },
   {
    "duration": 29,
    "start_time": "2021-09-22T04:39:08.937Z"
   },
   {
    "duration": 153,
    "start_time": "2021-09-22T04:39:08.969Z"
   },
   {
    "duration": 13,
    "start_time": "2021-09-22T04:39:09.125Z"
   },
   {
    "duration": 416,
    "start_time": "2021-09-22T04:39:09.141Z"
   },
   {
    "duration": 185,
    "start_time": "2021-09-22T04:39:09.566Z"
   },
   {
    "duration": 76,
    "start_time": "2021-09-22T04:39:09.756Z"
   },
   {
    "duration": 7,
    "start_time": "2021-09-22T04:39:09.834Z"
   },
   {
    "duration": 24,
    "start_time": "2021-09-22T04:39:09.843Z"
   },
   {
    "duration": 79,
    "start_time": "2021-09-22T04:39:09.869Z"
   },
   {
    "duration": 121,
    "start_time": "2021-09-22T04:39:09.950Z"
   },
   {
    "duration": 3,
    "start_time": "2021-09-22T04:39:10.074Z"
   },
   {
    "duration": 15,
    "start_time": "2021-09-22T04:39:10.080Z"
   },
   {
    "duration": 63,
    "start_time": "2021-09-22T04:39:10.097Z"
   },
   {
    "duration": 13,
    "start_time": "2021-09-22T04:39:10.163Z"
   },
   {
    "duration": 3,
    "start_time": "2021-09-22T04:39:10.178Z"
   },
   {
    "duration": 117,
    "start_time": "2021-09-22T04:39:10.184Z"
   },
   {
    "duration": 114,
    "start_time": "2021-09-22T04:39:10.317Z"
   },
   {
    "duration": 15,
    "start_time": "2021-09-22T04:39:10.434Z"
   },
   {
    "duration": 32,
    "start_time": "2021-09-22T04:39:10.452Z"
   },
   {
    "duration": 24,
    "start_time": "2021-09-22T04:39:10.516Z"
   },
   {
    "duration": 52,
    "start_time": "2021-09-22T04:39:10.543Z"
   },
   {
    "duration": 3,
    "start_time": "2021-09-22T04:39:10.618Z"
   },
   {
    "duration": 155,
    "start_time": "2021-09-22T04:39:10.623Z"
   },
   {
    "duration": 423,
    "start_time": "2021-09-22T04:39:10.781Z"
   },
   {
    "duration": -5108,
    "start_time": "2021-09-22T04:39:16.315Z"
   },
   {
    "duration": -5113,
    "start_time": "2021-09-22T04:39:16.321Z"
   },
   {
    "duration": -5117,
    "start_time": "2021-09-22T04:39:16.327Z"
   },
   {
    "duration": -5141,
    "start_time": "2021-09-22T04:39:16.352Z"
   },
   {
    "duration": -5145,
    "start_time": "2021-09-22T04:39:16.357Z"
   },
   {
    "duration": -5148,
    "start_time": "2021-09-22T04:39:16.362Z"
   },
   {
    "duration": -5154,
    "start_time": "2021-09-22T04:39:16.369Z"
   },
   {
    "duration": -5157,
    "start_time": "2021-09-22T04:39:16.374Z"
   },
   {
    "duration": -5161,
    "start_time": "2021-09-22T04:39:16.379Z"
   },
   {
    "duration": -5165,
    "start_time": "2021-09-22T04:39:16.385Z"
   },
   {
    "duration": -5170,
    "start_time": "2021-09-22T04:39:16.391Z"
   },
   {
    "duration": -5202,
    "start_time": "2021-09-22T04:39:16.424Z"
   },
   {
    "duration": -5207,
    "start_time": "2021-09-22T04:39:16.431Z"
   },
   {
    "duration": -5211,
    "start_time": "2021-09-22T04:39:16.436Z"
   },
   {
    "duration": 415,
    "start_time": "2021-09-22T04:39:40.327Z"
   },
   {
    "duration": 130,
    "start_time": "2021-09-22T04:41:04.068Z"
   },
   {
    "duration": 123,
    "start_time": "2021-09-22T04:41:17.960Z"
   },
   {
    "duration": 134,
    "start_time": "2021-09-22T04:41:50.980Z"
   },
   {
    "duration": 409,
    "start_time": "2021-09-22T16:22:06.213Z"
   },
   {
    "duration": 364,
    "start_time": "2021-09-22T16:28:40.420Z"
   },
   {
    "duration": 1839,
    "start_time": "2021-09-22T16:28:44.907Z"
   },
   {
    "duration": 334,
    "start_time": "2021-09-22T16:28:46.748Z"
   },
   {
    "duration": 373,
    "start_time": "2021-09-22T16:28:47.084Z"
   },
   {
    "duration": 316,
    "start_time": "2021-09-22T16:28:47.459Z"
   },
   {
    "duration": 103,
    "start_time": "2021-09-22T16:28:47.777Z"
   },
   {
    "duration": 9,
    "start_time": "2021-09-22T16:28:47.882Z"
   },
   {
    "duration": 145,
    "start_time": "2021-09-22T16:28:47.892Z"
   },
   {
    "duration": 52,
    "start_time": "2021-09-22T16:28:48.038Z"
   },
   {
    "duration": 227,
    "start_time": "2021-09-22T16:28:48.093Z"
   },
   {
    "duration": 242,
    "start_time": "2021-09-22T16:28:48.322Z"
   },
   {
    "duration": 79,
    "start_time": "2021-09-22T16:28:48.565Z"
   },
   {
    "duration": 101,
    "start_time": "2021-09-22T16:28:48.646Z"
   },
   {
    "duration": 2,
    "start_time": "2021-09-22T16:28:48.749Z"
   },
   {
    "duration": 154,
    "start_time": "2021-09-22T16:28:48.753Z"
   },
   {
    "duration": 26,
    "start_time": "2021-09-22T16:28:48.909Z"
   },
   {
    "duration": 21,
    "start_time": "2021-09-22T16:28:48.936Z"
   },
   {
    "duration": 19,
    "start_time": "2021-09-22T16:28:48.976Z"
   },
   {
    "duration": 5,
    "start_time": "2021-09-22T16:28:48.996Z"
   },
   {
    "duration": 21,
    "start_time": "2021-09-22T16:28:49.002Z"
   },
   {
    "duration": 139,
    "start_time": "2021-09-22T16:28:49.025Z"
   },
   {
    "duration": 14,
    "start_time": "2021-09-22T16:28:49.166Z"
   },
   {
    "duration": 295,
    "start_time": "2021-09-22T16:28:49.181Z"
   },
   {
    "duration": 85,
    "start_time": "2021-09-22T16:28:49.478Z"
   },
   {
    "duration": 59,
    "start_time": "2021-09-22T16:28:49.564Z"
   },
   {
    "duration": 5,
    "start_time": "2021-09-22T16:28:49.624Z"
   },
   {
    "duration": 26,
    "start_time": "2021-09-22T16:28:49.631Z"
   },
   {
    "duration": 48,
    "start_time": "2021-09-22T16:28:49.660Z"
   },
   {
    "duration": 71,
    "start_time": "2021-09-22T16:28:49.710Z"
   },
   {
    "duration": 2,
    "start_time": "2021-09-22T16:28:49.783Z"
   },
   {
    "duration": 10,
    "start_time": "2021-09-22T16:28:49.787Z"
   },
   {
    "duration": 38,
    "start_time": "2021-09-22T16:28:49.799Z"
   },
   {
    "duration": 8,
    "start_time": "2021-09-22T16:28:49.839Z"
   },
   {
    "duration": 28,
    "start_time": "2021-09-22T16:28:49.849Z"
   },
   {
    "duration": 82,
    "start_time": "2021-09-22T16:28:49.879Z"
   },
   {
    "duration": 71,
    "start_time": "2021-09-22T16:28:49.963Z"
   },
   {
    "duration": 11,
    "start_time": "2021-09-22T16:28:50.036Z"
   },
   {
    "duration": 44,
    "start_time": "2021-09-22T16:28:50.048Z"
   },
   {
    "duration": 14,
    "start_time": "2021-09-22T16:28:50.094Z"
   },
   {
    "duration": 37,
    "start_time": "2021-09-22T16:28:50.110Z"
   },
   {
    "duration": 2,
    "start_time": "2021-09-22T16:28:50.149Z"
   },
   {
    "duration": 127,
    "start_time": "2021-09-22T16:28:50.153Z"
   },
   {
    "duration": 10,
    "start_time": "2021-09-22T16:28:50.282Z"
   },
   {
    "duration": 125,
    "start_time": "2021-09-22T16:28:50.294Z"
   },
   {
    "duration": -1746,
    "start_time": "2021-09-22T16:28:52.168Z"
   },
   {
    "duration": -1750,
    "start_time": "2021-09-22T16:28:52.173Z"
   },
   {
    "duration": -1754,
    "start_time": "2021-09-22T16:28:52.179Z"
   },
   {
    "duration": -1760,
    "start_time": "2021-09-22T16:28:52.186Z"
   },
   {
    "duration": -1764,
    "start_time": "2021-09-22T16:28:52.192Z"
   },
   {
    "duration": -1769,
    "start_time": "2021-09-22T16:28:52.198Z"
   },
   {
    "duration": -1773,
    "start_time": "2021-09-22T16:28:52.203Z"
   },
   {
    "duration": -1776,
    "start_time": "2021-09-22T16:28:52.208Z"
   },
   {
    "duration": -1780,
    "start_time": "2021-09-22T16:28:52.213Z"
   },
   {
    "duration": -1798,
    "start_time": "2021-09-22T16:28:52.233Z"
   },
   {
    "duration": -1802,
    "start_time": "2021-09-22T16:28:52.238Z"
   },
   {
    "duration": -1806,
    "start_time": "2021-09-22T16:28:52.244Z"
   },
   {
    "duration": -1810,
    "start_time": "2021-09-22T16:28:52.249Z"
   },
   {
    "duration": -1813,
    "start_time": "2021-09-22T16:28:52.254Z"
   },
   {
    "duration": 138,
    "start_time": "2021-09-22T16:30:27.225Z"
   },
   {
    "duration": 128,
    "start_time": "2021-09-22T16:31:20.648Z"
   },
   {
    "duration": 120,
    "start_time": "2021-09-22T16:31:28.307Z"
   },
   {
    "duration": 10,
    "start_time": "2021-09-22T16:31:39.192Z"
   },
   {
    "duration": 120,
    "start_time": "2021-09-22T16:33:22.497Z"
   },
   {
    "duration": 114,
    "start_time": "2021-09-22T16:33:54.044Z"
   },
   {
    "duration": 111,
    "start_time": "2021-09-22T16:34:20.647Z"
   },
   {
    "duration": 113,
    "start_time": "2021-09-22T16:35:52.422Z"
   },
   {
    "duration": 137,
    "start_time": "2021-09-22T16:36:06.514Z"
   },
   {
    "duration": 128,
    "start_time": "2021-09-22T16:37:56.274Z"
   },
   {
    "duration": 163,
    "start_time": "2021-09-22T16:38:16.285Z"
   },
   {
    "duration": 292,
    "start_time": "2021-09-22T16:38:30.444Z"
   },
   {
    "duration": 10,
    "start_time": "2021-09-22T16:38:47.007Z"
   },
   {
    "duration": 114,
    "start_time": "2021-09-22T16:39:05.839Z"
   },
   {
    "duration": 167,
    "start_time": "2021-09-22T16:39:26.541Z"
   },
   {
    "duration": 111,
    "start_time": "2021-09-22T16:39:34.369Z"
   },
   {
    "duration": 130,
    "start_time": "2021-09-22T16:39:40.810Z"
   },
   {
    "duration": 9,
    "start_time": "2021-09-22T16:39:47.595Z"
   },
   {
    "duration": 117,
    "start_time": "2021-09-22T16:40:02.266Z"
   },
   {
    "duration": 123,
    "start_time": "2021-09-22T16:40:10.007Z"
   },
   {
    "duration": 10,
    "start_time": "2021-09-22T16:41:12.529Z"
   },
   {
    "duration": 107,
    "start_time": "2021-09-22T16:41:44.101Z"
   },
   {
    "duration": 120,
    "start_time": "2021-09-22T16:41:51.212Z"
   },
   {
    "duration": 112,
    "start_time": "2021-09-22T16:42:10.409Z"
   },
   {
    "duration": 128,
    "start_time": "2021-09-22T16:42:31.290Z"
   },
   {
    "duration": 189,
    "start_time": "2021-09-22T16:42:35.552Z"
   },
   {
    "duration": 27,
    "start_time": "2021-09-22T16:42:53.709Z"
   },
   {
    "duration": 11523,
    "start_time": "2021-09-22T16:43:10.501Z"
   },
   {
    "duration": 31,
    "start_time": "2021-09-22T16:45:07.505Z"
   },
   {
    "duration": 21,
    "start_time": "2021-09-22T16:46:19.606Z"
   },
   {
    "duration": 29,
    "start_time": "2021-09-22T16:46:25.887Z"
   },
   {
    "duration": 21,
    "start_time": "2021-09-22T16:46:43.022Z"
   },
   {
    "duration": 30,
    "start_time": "2021-09-22T16:46:46.813Z"
   },
   {
    "duration": 4,
    "start_time": "2021-09-22T16:47:25.436Z"
   },
   {
    "duration": 309,
    "start_time": "2021-09-22T16:47:25.444Z"
   },
   {
    "duration": 310,
    "start_time": "2021-09-22T16:47:25.755Z"
   },
   {
    "duration": 1286,
    "start_time": "2021-09-22T16:47:26.067Z"
   },
   {
    "duration": 62,
    "start_time": "2021-09-22T16:47:27.355Z"
   },
   {
    "duration": 10,
    "start_time": "2021-09-22T16:47:27.419Z"
   },
   {
    "duration": 76,
    "start_time": "2021-09-22T16:47:27.431Z"
   },
   {
    "duration": 50,
    "start_time": "2021-09-22T16:47:27.509Z"
   },
   {
    "duration": 218,
    "start_time": "2021-09-22T16:47:27.561Z"
   },
   {
    "duration": 227,
    "start_time": "2021-09-22T16:47:27.782Z"
   },
   {
    "duration": 78,
    "start_time": "2021-09-22T16:47:28.011Z"
   },
   {
    "duration": 88,
    "start_time": "2021-09-22T16:47:28.091Z"
   },
   {
    "duration": 3,
    "start_time": "2021-09-22T16:47:28.180Z"
   },
   {
    "duration": 143,
    "start_time": "2021-09-22T16:47:28.185Z"
   },
   {
    "duration": 27,
    "start_time": "2021-09-22T16:47:28.330Z"
   },
   {
    "duration": 34,
    "start_time": "2021-09-22T16:47:28.359Z"
   },
   {
    "duration": 19,
    "start_time": "2021-09-22T16:47:28.394Z"
   },
   {
    "duration": 4,
    "start_time": "2021-09-22T16:47:28.414Z"
   },
   {
    "duration": 22,
    "start_time": "2021-09-22T16:47:28.420Z"
   },
   {
    "duration": 123,
    "start_time": "2021-09-22T16:47:28.444Z"
   },
   {
    "duration": 14,
    "start_time": "2021-09-22T16:47:28.569Z"
   },
   {
    "duration": 269,
    "start_time": "2021-09-22T16:47:28.585Z"
   },
   {
    "duration": 93,
    "start_time": "2021-09-22T16:47:28.856Z"
   },
   {
    "duration": 50,
    "start_time": "2021-09-22T16:47:28.951Z"
   },
   {
    "duration": 5,
    "start_time": "2021-09-22T16:47:29.003Z"
   },
   {
    "duration": 19,
    "start_time": "2021-09-22T16:47:29.010Z"
   },
   {
    "duration": 56,
    "start_time": "2021-09-22T16:47:29.031Z"
   },
   {
    "duration": 59,
    "start_time": "2021-09-22T16:47:29.091Z"
   },
   {
    "duration": 2,
    "start_time": "2021-09-22T16:47:29.153Z"
   },
   {
    "duration": 9,
    "start_time": "2021-09-22T16:47:29.177Z"
   },
   {
    "duration": 37,
    "start_time": "2021-09-22T16:47:29.188Z"
   },
   {
    "duration": 8,
    "start_time": "2021-09-22T16:47:29.227Z"
   },
   {
    "duration": 3,
    "start_time": "2021-09-22T16:47:29.236Z"
   },
   {
    "duration": 96,
    "start_time": "2021-09-22T16:47:29.240Z"
   },
   {
    "duration": 76,
    "start_time": "2021-09-22T16:47:29.337Z"
   },
   {
    "duration": 10,
    "start_time": "2021-09-22T16:47:29.415Z"
   },
   {
    "duration": 20,
    "start_time": "2021-09-22T16:47:29.427Z"
   },
   {
    "duration": 36,
    "start_time": "2021-09-22T16:47:29.449Z"
   },
   {
    "duration": 37,
    "start_time": "2021-09-22T16:47:29.486Z"
   },
   {
    "duration": 2,
    "start_time": "2021-09-22T16:47:29.525Z"
   },
   {
    "duration": 111,
    "start_time": "2021-09-22T16:47:29.528Z"
   },
   {
    "duration": 8,
    "start_time": "2021-09-22T16:47:29.641Z"
   },
   {
    "duration": 39,
    "start_time": "2021-09-22T16:47:29.651Z"
   },
   {
    "duration": 32,
    "start_time": "2021-09-22T16:47:29.692Z"
   },
   {
    "duration": 346,
    "start_time": "2021-09-22T16:47:29.726Z"
   },
   {
    "duration": -1704,
    "start_time": "2021-09-22T16:47:31.778Z"
   },
   {
    "duration": -1711,
    "start_time": "2021-09-22T16:47:31.785Z"
   },
   {
    "duration": -1715,
    "start_time": "2021-09-22T16:47:31.791Z"
   },
   {
    "duration": -1722,
    "start_time": "2021-09-22T16:47:31.798Z"
   },
   {
    "duration": -1727,
    "start_time": "2021-09-22T16:47:31.804Z"
   },
   {
    "duration": -1760,
    "start_time": "2021-09-22T16:47:31.838Z"
   },
   {
    "duration": -1770,
    "start_time": "2021-09-22T16:47:31.849Z"
   },
   {
    "duration": -1774,
    "start_time": "2021-09-22T16:47:31.854Z"
   },
   {
    "duration": -1779,
    "start_time": "2021-09-22T16:47:31.860Z"
   },
   {
    "duration": -1784,
    "start_time": "2021-09-22T16:47:31.866Z"
   },
   {
    "duration": -1788,
    "start_time": "2021-09-22T16:47:31.871Z"
   },
   {
    "duration": -1792,
    "start_time": "2021-09-22T16:47:31.876Z"
   },
   {
    "duration": -1797,
    "start_time": "2021-09-22T16:47:31.882Z"
   },
   {
    "duration": 340,
    "start_time": "2021-09-22T16:47:49.282Z"
   },
   {
    "duration": 31,
    "start_time": "2021-09-22T16:48:09.713Z"
   },
   {
    "duration": 362,
    "start_time": "2021-09-22T16:48:27.826Z"
   },
   {
    "duration": 27,
    "start_time": "2021-09-22T16:48:35.868Z"
   },
   {
    "duration": 28,
    "start_time": "2021-09-22T16:48:59.160Z"
   },
   {
    "duration": 29,
    "start_time": "2021-09-22T16:49:06.991Z"
   },
   {
    "duration": 28,
    "start_time": "2021-09-22T16:49:21.526Z"
   },
   {
    "duration": 31,
    "start_time": "2021-09-22T16:49:53.918Z"
   },
   {
    "duration": 41,
    "start_time": "2021-09-22T16:49:56.384Z"
   },
   {
    "duration": 46,
    "start_time": "2021-09-22T16:50:32.936Z"
   },
   {
    "duration": 43,
    "start_time": "2021-09-22T16:50:53.691Z"
   },
   {
    "duration": 48,
    "start_time": "2021-09-22T16:51:02.586Z"
   },
   {
    "duration": 9094,
    "start_time": "2021-09-22T16:52:15.822Z"
   },
   {
    "duration": 8648,
    "start_time": "2021-09-22T16:52:40.856Z"
   },
   {
    "duration": -1842,
    "start_time": "2021-09-22T16:52:51.348Z"
   },
   {
    "duration": 8956,
    "start_time": "2021-09-22T16:52:53.555Z"
   },
   {
    "duration": 3,
    "start_time": "2021-09-22T16:53:14.809Z"
   },
   {
    "duration": 303,
    "start_time": "2021-09-22T16:53:14.814Z"
   },
   {
    "duration": 320,
    "start_time": "2021-09-22T16:53:15.119Z"
   },
   {
    "duration": 293,
    "start_time": "2021-09-22T16:53:15.441Z"
   },
   {
    "duration": 62,
    "start_time": "2021-09-22T16:53:15.736Z"
   },
   {
    "duration": 9,
    "start_time": "2021-09-22T16:53:15.800Z"
   },
   {
    "duration": 74,
    "start_time": "2021-09-22T16:53:15.811Z"
   },
   {
    "duration": 53,
    "start_time": "2021-09-22T16:53:15.887Z"
   },
   {
    "duration": 235,
    "start_time": "2021-09-22T16:53:15.941Z"
   },
   {
    "duration": 249,
    "start_time": "2021-09-22T16:53:16.178Z"
   },
   {
    "duration": 74,
    "start_time": "2021-09-22T16:53:16.428Z"
   },
   {
    "duration": 91,
    "start_time": "2021-09-22T16:53:16.504Z"
   },
   {
    "duration": 3,
    "start_time": "2021-09-22T16:53:16.596Z"
   },
   {
    "duration": 148,
    "start_time": "2021-09-22T16:53:16.601Z"
   },
   {
    "duration": 30,
    "start_time": "2021-09-22T16:53:16.751Z"
   },
   {
    "duration": 21,
    "start_time": "2021-09-22T16:53:16.782Z"
   },
   {
    "duration": 19,
    "start_time": "2021-09-22T16:53:16.804Z"
   },
   {
    "duration": 13,
    "start_time": "2021-09-22T16:53:16.824Z"
   },
   {
    "duration": 42,
    "start_time": "2021-09-22T16:53:16.840Z"
   },
   {
    "duration": 101,
    "start_time": "2021-09-22T16:53:16.884Z"
   },
   {
    "duration": 9,
    "start_time": "2021-09-22T16:53:16.986Z"
   },
   {
    "duration": 271,
    "start_time": "2021-09-22T16:53:16.996Z"
   },
   {
    "duration": 84,
    "start_time": "2021-09-22T16:53:17.269Z"
   },
   {
    "duration": 53,
    "start_time": "2021-09-22T16:53:17.354Z"
   },
   {
    "duration": 6,
    "start_time": "2021-09-22T16:53:17.408Z"
   },
   {
    "duration": 21,
    "start_time": "2021-09-22T16:53:17.416Z"
   },
   {
    "duration": 59,
    "start_time": "2021-09-22T16:53:17.439Z"
   },
   {
    "duration": 56,
    "start_time": "2021-09-22T16:53:17.500Z"
   },
   {
    "duration": 2,
    "start_time": "2021-09-22T16:53:17.558Z"
   },
   {
    "duration": 9,
    "start_time": "2021-09-22T16:53:17.577Z"
   },
   {
    "duration": 37,
    "start_time": "2021-09-22T16:53:17.588Z"
   },
   {
    "duration": 9,
    "start_time": "2021-09-22T16:53:17.626Z"
   },
   {
    "duration": 3,
    "start_time": "2021-09-22T16:53:17.637Z"
   },
   {
    "duration": 96,
    "start_time": "2021-09-22T16:53:17.641Z"
   },
   {
    "duration": 80,
    "start_time": "2021-09-22T16:53:17.739Z"
   },
   {
    "duration": 11,
    "start_time": "2021-09-22T16:53:17.821Z"
   },
   {
    "duration": 24,
    "start_time": "2021-09-22T16:53:17.834Z"
   },
   {
    "duration": 31,
    "start_time": "2021-09-22T16:53:17.860Z"
   },
   {
    "duration": 37,
    "start_time": "2021-09-22T16:53:17.893Z"
   },
   {
    "duration": 3,
    "start_time": "2021-09-22T16:53:17.931Z"
   },
   {
    "duration": 119,
    "start_time": "2021-09-22T16:53:17.935Z"
   },
   {
    "duration": 9,
    "start_time": "2021-09-22T16:53:18.055Z"
   },
   {
    "duration": 9019,
    "start_time": "2021-09-22T16:53:18.066Z"
   },
   {
    "duration": -1763,
    "start_time": "2021-09-22T16:53:28.850Z"
   },
   {
    "duration": -1773,
    "start_time": "2021-09-22T16:53:28.861Z"
   },
   {
    "duration": -1780,
    "start_time": "2021-09-22T16:53:28.869Z"
   },
   {
    "duration": -1786,
    "start_time": "2021-09-22T16:53:28.876Z"
   },
   {
    "duration": -1794,
    "start_time": "2021-09-22T16:53:28.884Z"
   },
   {
    "duration": -1800,
    "start_time": "2021-09-22T16:53:28.891Z"
   },
   {
    "duration": -1805,
    "start_time": "2021-09-22T16:53:28.897Z"
   },
   {
    "duration": -1809,
    "start_time": "2021-09-22T16:53:28.902Z"
   },
   {
    "duration": -1814,
    "start_time": "2021-09-22T16:53:28.908Z"
   },
   {
    "duration": -1818,
    "start_time": "2021-09-22T16:53:28.913Z"
   },
   {
    "duration": -1822,
    "start_time": "2021-09-22T16:53:28.918Z"
   },
   {
    "duration": -1826,
    "start_time": "2021-09-22T16:53:28.924Z"
   },
   {
    "duration": -1830,
    "start_time": "2021-09-22T16:53:28.929Z"
   },
   {
    "duration": -1842,
    "start_time": "2021-09-22T16:53:28.942Z"
   },
   {
    "duration": 358,
    "start_time": "2021-09-22T16:57:49.792Z"
   },
   {
    "duration": 345,
    "start_time": "2021-09-22T16:58:58.768Z"
   },
   {
    "duration": 368,
    "start_time": "2021-09-22T16:59:08.749Z"
   },
   {
    "duration": 7,
    "start_time": "2021-09-22T16:59:54.747Z"
   },
   {
    "duration": 3,
    "start_time": "2021-09-22T17:00:13.667Z"
   },
   {
    "duration": 280,
    "start_time": "2021-09-22T17:00:13.672Z"
   },
   {
    "duration": 283,
    "start_time": "2021-09-22T17:00:13.954Z"
   },
   {
    "duration": 347,
    "start_time": "2021-09-22T17:00:14.239Z"
   },
   {
    "duration": 60,
    "start_time": "2021-09-22T17:00:14.588Z"
   },
   {
    "duration": 10,
    "start_time": "2021-09-22T17:00:14.649Z"
   },
   {
    "duration": 77,
    "start_time": "2021-09-22T17:00:14.661Z"
   },
   {
    "duration": 54,
    "start_time": "2021-09-22T17:00:14.740Z"
   },
   {
    "duration": 234,
    "start_time": "2021-09-22T17:00:14.796Z"
   },
   {
    "duration": 239,
    "start_time": "2021-09-22T17:00:15.032Z"
   },
   {
    "duration": 66,
    "start_time": "2021-09-22T17:00:15.273Z"
   },
   {
    "duration": 99,
    "start_time": "2021-09-22T17:00:15.340Z"
   },
   {
    "duration": 3,
    "start_time": "2021-09-22T17:00:15.440Z"
   },
   {
    "duration": 142,
    "start_time": "2021-09-22T17:00:15.445Z"
   },
   {
    "duration": 25,
    "start_time": "2021-09-22T17:00:15.589Z"
   },
   {
    "duration": 21,
    "start_time": "2021-09-22T17:00:15.616Z"
   },
   {
    "duration": 39,
    "start_time": "2021-09-22T17:00:15.639Z"
   },
   {
    "duration": 4,
    "start_time": "2021-09-22T17:00:15.679Z"
   },
   {
    "duration": 21,
    "start_time": "2021-09-22T17:00:15.687Z"
   },
   {
    "duration": 114,
    "start_time": "2021-09-22T17:00:15.711Z"
   },
   {
    "duration": 8,
    "start_time": "2021-09-22T17:00:15.827Z"
   },
   {
    "duration": 282,
    "start_time": "2021-09-22T17:00:15.837Z"
   },
   {
    "duration": 91,
    "start_time": "2021-09-22T17:00:16.120Z"
   },
   {
    "duration": 54,
    "start_time": "2021-09-22T17:00:16.212Z"
   },
   {
    "duration": 10,
    "start_time": "2021-09-22T17:00:16.268Z"
   },
   {
    "duration": 39,
    "start_time": "2021-09-22T17:00:16.279Z"
   },
   {
    "duration": 45,
    "start_time": "2021-09-22T17:00:16.320Z"
   },
   {
    "duration": 59,
    "start_time": "2021-09-22T17:00:16.367Z"
   },
   {
    "duration": 3,
    "start_time": "2021-09-22T17:00:16.428Z"
   },
   {
    "duration": 13,
    "start_time": "2021-09-22T17:00:16.433Z"
   },
   {
    "duration": 59,
    "start_time": "2021-09-22T17:00:16.448Z"
   },
   {
    "duration": 10,
    "start_time": "2021-09-22T17:00:16.509Z"
   },
   {
    "duration": 3,
    "start_time": "2021-09-22T17:00:16.521Z"
   },
   {
    "duration": 92,
    "start_time": "2021-09-22T17:00:16.526Z"
   },
   {
    "duration": 83,
    "start_time": "2021-09-22T17:00:16.620Z"
   },
   {
    "duration": 12,
    "start_time": "2021-09-22T17:00:16.705Z"
   },
   {
    "duration": 25,
    "start_time": "2021-09-22T17:00:16.719Z"
   },
   {
    "duration": 41,
    "start_time": "2021-09-22T17:00:16.746Z"
   },
   {
    "duration": 37,
    "start_time": "2021-09-22T17:00:16.788Z"
   },
   {
    "duration": 2,
    "start_time": "2021-09-22T17:00:16.827Z"
   },
   {
    "duration": 118,
    "start_time": "2021-09-22T17:00:16.830Z"
   },
   {
    "duration": 9,
    "start_time": "2021-09-22T17:00:16.950Z"
   },
   {
    "duration": 9203,
    "start_time": "2021-09-22T17:00:16.961Z"
   },
   {
    "duration": -1709,
    "start_time": "2021-09-22T17:00:27.875Z"
   },
   {
    "duration": -1717,
    "start_time": "2021-09-22T17:00:27.884Z"
   },
   {
    "duration": -1724,
    "start_time": "2021-09-22T17:00:27.892Z"
   },
   {
    "duration": -1740,
    "start_time": "2021-09-22T17:00:27.909Z"
   },
   {
    "duration": -1747,
    "start_time": "2021-09-22T17:00:27.917Z"
   },
   {
    "duration": -1754,
    "start_time": "2021-09-22T17:00:27.925Z"
   },
   {
    "duration": -1761,
    "start_time": "2021-09-22T17:00:27.933Z"
   },
   {
    "duration": -1768,
    "start_time": "2021-09-22T17:00:27.941Z"
   },
   {
    "duration": -1773,
    "start_time": "2021-09-22T17:00:27.947Z"
   },
   {
    "duration": -1778,
    "start_time": "2021-09-22T17:00:27.953Z"
   },
   {
    "duration": -1782,
    "start_time": "2021-09-22T17:00:27.958Z"
   },
   {
    "duration": -1787,
    "start_time": "2021-09-22T17:00:27.964Z"
   },
   {
    "duration": -1791,
    "start_time": "2021-09-22T17:00:27.969Z"
   },
   {
    "duration": -1796,
    "start_time": "2021-09-22T17:00:27.975Z"
   },
   {
    "duration": 351,
    "start_time": "2021-09-22T17:00:46.642Z"
   },
   {
    "duration": 2,
    "start_time": "2021-09-22T17:00:58.605Z"
   },
   {
    "duration": 340,
    "start_time": "2021-09-22T17:00:58.609Z"
   },
   {
    "duration": 247,
    "start_time": "2021-09-22T17:00:58.951Z"
   },
   {
    "duration": 187,
    "start_time": "2021-09-22T17:00:59.201Z"
   },
   {
    "duration": 59,
    "start_time": "2021-09-22T17:00:59.389Z"
   },
   {
    "duration": 9,
    "start_time": "2021-09-22T17:00:59.449Z"
   },
   {
    "duration": 74,
    "start_time": "2021-09-22T17:00:59.460Z"
   },
   {
    "duration": 51,
    "start_time": "2021-09-22T17:00:59.536Z"
   },
   {
    "duration": 218,
    "start_time": "2021-09-22T17:00:59.589Z"
   },
   {
    "duration": 237,
    "start_time": "2021-09-22T17:00:59.809Z"
   },
   {
    "duration": 75,
    "start_time": "2021-09-22T17:01:00.047Z"
   },
   {
    "duration": 91,
    "start_time": "2021-09-22T17:01:00.123Z"
   },
   {
    "duration": 3,
    "start_time": "2021-09-22T17:01:00.215Z"
   },
   {
    "duration": 146,
    "start_time": "2021-09-22T17:01:00.219Z"
   },
   {
    "duration": 30,
    "start_time": "2021-09-22T17:01:00.367Z"
   },
   {
    "duration": 21,
    "start_time": "2021-09-22T17:01:00.398Z"
   },
   {
    "duration": 18,
    "start_time": "2021-09-22T17:01:00.421Z"
   },
   {
    "duration": 4,
    "start_time": "2021-09-22T17:01:00.441Z"
   },
   {
    "duration": 44,
    "start_time": "2021-09-22T17:01:00.448Z"
   },
   {
    "duration": 101,
    "start_time": "2021-09-22T17:01:00.494Z"
   },
   {
    "duration": 8,
    "start_time": "2021-09-22T17:01:00.597Z"
   },
   {
    "duration": 309,
    "start_time": "2021-09-22T17:01:00.607Z"
   },
   {
    "duration": 97,
    "start_time": "2021-09-22T17:01:00.918Z"
   },
   {
    "duration": 57,
    "start_time": "2021-09-22T17:01:01.017Z"
   },
   {
    "duration": 5,
    "start_time": "2021-09-22T17:01:01.076Z"
   },
   {
    "duration": 34,
    "start_time": "2021-09-22T17:01:01.083Z"
   },
   {
    "duration": 37,
    "start_time": "2021-09-22T17:01:01.118Z"
   },
   {
    "duration": 68,
    "start_time": "2021-09-22T17:01:01.157Z"
   },
   {
    "duration": 2,
    "start_time": "2021-09-22T17:01:01.227Z"
   },
   {
    "duration": 22,
    "start_time": "2021-09-22T17:01:01.231Z"
   },
   {
    "duration": 53,
    "start_time": "2021-09-22T17:01:01.255Z"
   },
   {
    "duration": 11,
    "start_time": "2021-09-22T17:01:01.310Z"
   },
   {
    "duration": 23,
    "start_time": "2021-09-22T17:01:01.323Z"
   },
   {
    "duration": 88,
    "start_time": "2021-09-22T17:01:01.348Z"
   },
   {
    "duration": 77,
    "start_time": "2021-09-22T17:01:01.437Z"
   },
   {
    "duration": 10,
    "start_time": "2021-09-22T17:01:01.515Z"
   },
   {
    "duration": 40,
    "start_time": "2021-09-22T17:01:01.527Z"
   },
   {
    "duration": 26,
    "start_time": "2021-09-22T17:01:01.568Z"
   },
   {
    "duration": 43,
    "start_time": "2021-09-22T17:01:01.596Z"
   },
   {
    "duration": 8,
    "start_time": "2021-09-22T17:01:01.640Z"
   },
   {
    "duration": 119,
    "start_time": "2021-09-22T17:01:01.650Z"
   },
   {
    "duration": 14,
    "start_time": "2021-09-22T17:01:01.772Z"
   },
   {
    "duration": 8697,
    "start_time": "2021-09-22T17:01:01.787Z"
   },
   {
    "duration": -1949,
    "start_time": "2021-09-22T17:01:12.435Z"
   },
   {
    "duration": -1959,
    "start_time": "2021-09-22T17:01:12.446Z"
   },
   {
    "duration": -1966,
    "start_time": "2021-09-22T17:01:12.454Z"
   },
   {
    "duration": -1973,
    "start_time": "2021-09-22T17:01:12.462Z"
   },
   {
    "duration": -1979,
    "start_time": "2021-09-22T17:01:12.469Z"
   },
   {
    "duration": -1984,
    "start_time": "2021-09-22T17:01:12.475Z"
   },
   {
    "duration": -1987,
    "start_time": "2021-09-22T17:01:12.479Z"
   },
   {
    "duration": -1992,
    "start_time": "2021-09-22T17:01:12.485Z"
   },
   {
    "duration": -1997,
    "start_time": "2021-09-22T17:01:12.491Z"
   },
   {
    "duration": -2001,
    "start_time": "2021-09-22T17:01:12.496Z"
   },
   {
    "duration": -2005,
    "start_time": "2021-09-22T17:01:12.501Z"
   },
   {
    "duration": -2018,
    "start_time": "2021-09-22T17:01:12.515Z"
   },
   {
    "duration": -2022,
    "start_time": "2021-09-22T17:01:12.520Z"
   },
   {
    "duration": -2027,
    "start_time": "2021-09-22T17:01:12.526Z"
   },
   {
    "duration": 9608,
    "start_time": "2021-09-22T17:02:05.815Z"
   },
   {
    "duration": 384,
    "start_time": "2021-09-22T17:02:48.101Z"
   },
   {
    "duration": 447,
    "start_time": "2021-09-22T17:02:55.514Z"
   },
   {
    "duration": 3,
    "start_time": "2021-09-22T17:03:02.373Z"
   },
   {
    "duration": 407,
    "start_time": "2021-09-22T17:03:02.379Z"
   },
   {
    "duration": 259,
    "start_time": "2021-09-22T17:03:02.788Z"
   },
   {
    "duration": 1211,
    "start_time": "2021-09-22T17:03:03.049Z"
   },
   {
    "duration": 57,
    "start_time": "2021-09-22T17:03:04.262Z"
   },
   {
    "duration": 10,
    "start_time": "2021-09-22T17:03:04.320Z"
   },
   {
    "duration": 73,
    "start_time": "2021-09-22T17:03:04.332Z"
   },
   {
    "duration": 56,
    "start_time": "2021-09-22T17:03:04.408Z"
   },
   {
    "duration": 242,
    "start_time": "2021-09-22T17:03:04.467Z"
   },
   {
    "duration": 252,
    "start_time": "2021-09-22T17:03:04.712Z"
   },
   {
    "duration": 73,
    "start_time": "2021-09-22T17:03:04.965Z"
   },
   {
    "duration": 94,
    "start_time": "2021-09-22T17:03:05.040Z"
   },
   {
    "duration": 2,
    "start_time": "2021-09-22T17:03:05.136Z"
   },
   {
    "duration": 144,
    "start_time": "2021-09-22T17:03:05.140Z"
   },
   {
    "duration": 25,
    "start_time": "2021-09-22T17:03:05.286Z"
   },
   {
    "duration": 22,
    "start_time": "2021-09-22T17:03:05.314Z"
   },
   {
    "duration": 45,
    "start_time": "2021-09-22T17:03:05.338Z"
   },
   {
    "duration": 5,
    "start_time": "2021-09-22T17:03:05.385Z"
   },
   {
    "duration": 22,
    "start_time": "2021-09-22T17:03:05.392Z"
   },
   {
    "duration": 118,
    "start_time": "2021-09-22T17:03:05.416Z"
   },
   {
    "duration": 10,
    "start_time": "2021-09-22T17:03:05.537Z"
   },
   {
    "duration": 280,
    "start_time": "2021-09-22T17:03:05.549Z"
   },
   {
    "duration": 99,
    "start_time": "2021-09-22T17:03:05.832Z"
   },
   {
    "duration": 62,
    "start_time": "2021-09-22T17:03:05.936Z"
   },
   {
    "duration": 8,
    "start_time": "2021-09-22T17:03:06.001Z"
   },
   {
    "duration": 21,
    "start_time": "2021-09-22T17:03:06.011Z"
   },
   {
    "duration": 56,
    "start_time": "2021-09-22T17:03:06.035Z"
   },
   {
    "duration": 58,
    "start_time": "2021-09-22T17:03:06.093Z"
   },
   {
    "duration": 3,
    "start_time": "2021-09-22T17:03:06.153Z"
   },
   {
    "duration": 10,
    "start_time": "2021-09-22T17:03:06.177Z"
   },
   {
    "duration": 38,
    "start_time": "2021-09-22T17:03:06.189Z"
   },
   {
    "duration": 11,
    "start_time": "2021-09-22T17:03:06.229Z"
   },
   {
    "duration": 35,
    "start_time": "2021-09-22T17:03:06.242Z"
   },
   {
    "duration": 69,
    "start_time": "2021-09-22T17:03:06.280Z"
   },
   {
    "duration": 81,
    "start_time": "2021-09-22T17:03:06.351Z"
   },
   {
    "duration": 12,
    "start_time": "2021-09-22T17:03:06.434Z"
   },
   {
    "duration": 44,
    "start_time": "2021-09-22T17:03:06.448Z"
   },
   {
    "duration": 17,
    "start_time": "2021-09-22T17:03:06.494Z"
   },
   {
    "duration": 39,
    "start_time": "2021-09-22T17:03:06.513Z"
   },
   {
    "duration": 23,
    "start_time": "2021-09-22T17:03:06.554Z"
   },
   {
    "duration": 130,
    "start_time": "2021-09-22T17:03:06.580Z"
   },
   {
    "duration": 17,
    "start_time": "2021-09-22T17:03:06.711Z"
   },
   {
    "duration": 10851,
    "start_time": "2021-09-22T17:03:06.730Z"
   },
   {
    "duration": -2246,
    "start_time": "2021-09-22T17:03:19.829Z"
   },
   {
    "duration": -2251,
    "start_time": "2021-09-22T17:03:19.835Z"
   },
   {
    "duration": -2257,
    "start_time": "2021-09-22T17:03:19.842Z"
   },
   {
    "duration": -2262,
    "start_time": "2021-09-22T17:03:19.847Z"
   },
   {
    "duration": -2266,
    "start_time": "2021-09-22T17:03:19.852Z"
   },
   {
    "duration": -2271,
    "start_time": "2021-09-22T17:03:19.858Z"
   },
   {
    "duration": -2276,
    "start_time": "2021-09-22T17:03:19.864Z"
   },
   {
    "duration": -2281,
    "start_time": "2021-09-22T17:03:19.870Z"
   },
   {
    "duration": -2286,
    "start_time": "2021-09-22T17:03:19.876Z"
   },
   {
    "duration": -2292,
    "start_time": "2021-09-22T17:03:19.883Z"
   },
   {
    "duration": -2298,
    "start_time": "2021-09-22T17:03:19.890Z"
   },
   {
    "duration": -2303,
    "start_time": "2021-09-22T17:03:19.896Z"
   },
   {
    "duration": -2309,
    "start_time": "2021-09-22T17:03:19.903Z"
   },
   {
    "duration": -2317,
    "start_time": "2021-09-22T17:03:19.912Z"
   },
   {
    "duration": 9778,
    "start_time": "2021-09-22T17:03:59.333Z"
   },
   {
    "duration": 11287,
    "start_time": "2021-09-22T17:04:50.123Z"
   },
   {
    "duration": 9322,
    "start_time": "2021-09-22T17:05:04.688Z"
   },
   {
    "duration": 9791,
    "start_time": "2021-09-22T17:07:25.566Z"
   },
   {
    "duration": 9843,
    "start_time": "2021-09-22T17:07:44.013Z"
   },
   {
    "duration": 3,
    "start_time": "2021-09-22T17:08:04.674Z"
   },
   {
    "duration": 282,
    "start_time": "2021-09-22T17:08:04.678Z"
   },
   {
    "duration": 301,
    "start_time": "2021-09-22T17:08:04.963Z"
   },
   {
    "duration": 301,
    "start_time": "2021-09-22T17:08:05.266Z"
   },
   {
    "duration": 62,
    "start_time": "2021-09-22T17:08:05.569Z"
   },
   {
    "duration": 9,
    "start_time": "2021-09-22T17:08:05.633Z"
   },
   {
    "duration": 66,
    "start_time": "2021-09-22T17:08:05.644Z"
   },
   {
    "duration": 56,
    "start_time": "2021-09-22T17:08:05.712Z"
   },
   {
    "duration": 238,
    "start_time": "2021-09-22T17:08:05.770Z"
   },
   {
    "duration": 237,
    "start_time": "2021-09-22T17:08:06.010Z"
   },
   {
    "duration": 71,
    "start_time": "2021-09-22T17:08:06.249Z"
   },
   {
    "duration": 91,
    "start_time": "2021-09-22T17:08:06.322Z"
   },
   {
    "duration": 2,
    "start_time": "2021-09-22T17:08:06.415Z"
   },
   {
    "duration": 146,
    "start_time": "2021-09-22T17:08:06.419Z"
   },
   {
    "duration": 30,
    "start_time": "2021-09-22T17:08:06.567Z"
   },
   {
    "duration": 21,
    "start_time": "2021-09-22T17:08:06.599Z"
   },
   {
    "duration": 19,
    "start_time": "2021-09-22T17:08:06.622Z"
   },
   {
    "duration": 5,
    "start_time": "2021-09-22T17:08:06.642Z"
   },
   {
    "duration": 45,
    "start_time": "2021-09-22T17:08:06.648Z"
   },
   {
    "duration": 105,
    "start_time": "2021-09-22T17:08:06.695Z"
   },
   {
    "duration": 9,
    "start_time": "2021-09-22T17:08:06.801Z"
   },
   {
    "duration": 292,
    "start_time": "2021-09-22T17:08:06.812Z"
   },
   {
    "duration": 93,
    "start_time": "2021-09-22T17:08:07.107Z"
   },
   {
    "duration": 42,
    "start_time": "2021-09-22T17:08:07.203Z"
   },
   {
    "duration": 6,
    "start_time": "2021-09-22T17:08:07.246Z"
   },
   {
    "duration": 42,
    "start_time": "2021-09-22T17:08:07.253Z"
   },
   {
    "duration": 43,
    "start_time": "2021-09-22T17:08:07.298Z"
   },
   {
    "duration": 99,
    "start_time": "2021-09-22T17:08:07.343Z"
   },
   {
    "duration": 2,
    "start_time": "2021-09-22T17:08:07.445Z"
   },
   {
    "duration": 13,
    "start_time": "2021-09-22T17:08:07.449Z"
   },
   {
    "duration": 39,
    "start_time": "2021-09-22T17:08:07.476Z"
   },
   {
    "duration": 10,
    "start_time": "2021-09-22T17:08:07.517Z"
   },
   {
    "duration": 3,
    "start_time": "2021-09-22T17:08:07.529Z"
   },
   {
    "duration": 99,
    "start_time": "2021-09-22T17:08:07.533Z"
   },
   {
    "duration": 76,
    "start_time": "2021-09-22T17:08:07.634Z"
   },
   {
    "duration": 10,
    "start_time": "2021-09-22T17:08:07.712Z"
   },
   {
    "duration": 20,
    "start_time": "2021-09-22T17:08:07.724Z"
   },
   {
    "duration": 41,
    "start_time": "2021-09-22T17:08:07.746Z"
   },
   {
    "duration": 37,
    "start_time": "2021-09-22T17:08:07.788Z"
   },
   {
    "duration": 2,
    "start_time": "2021-09-22T17:08:07.827Z"
   },
   {
    "duration": 120,
    "start_time": "2021-09-22T17:08:07.831Z"
   },
   {
    "duration": 25,
    "start_time": "2021-09-22T17:08:07.953Z"
   },
   {
    "duration": 55,
    "start_time": "2021-09-22T17:08:07.980Z"
   },
   {
    "duration": 358,
    "start_time": "2021-09-22T17:08:08.037Z"
   },
   {
    "duration": -1685,
    "start_time": "2021-09-22T17:08:10.082Z"
   },
   {
    "duration": -1692,
    "start_time": "2021-09-22T17:08:10.090Z"
   },
   {
    "duration": -1699,
    "start_time": "2021-09-22T17:08:10.098Z"
   },
   {
    "duration": -1706,
    "start_time": "2021-09-22T17:08:10.105Z"
   },
   {
    "duration": -1710,
    "start_time": "2021-09-22T17:08:10.110Z"
   },
   {
    "duration": -1721,
    "start_time": "2021-09-22T17:08:10.122Z"
   },
   {
    "duration": -1727,
    "start_time": "2021-09-22T17:08:10.129Z"
   },
   {
    "duration": -1732,
    "start_time": "2021-09-22T17:08:10.135Z"
   },
   {
    "duration": -1737,
    "start_time": "2021-09-22T17:08:10.141Z"
   },
   {
    "duration": -1742,
    "start_time": "2021-09-22T17:08:10.147Z"
   },
   {
    "duration": -1747,
    "start_time": "2021-09-22T17:08:10.153Z"
   },
   {
    "duration": -1752,
    "start_time": "2021-09-22T17:08:10.159Z"
   },
   {
    "duration": -1758,
    "start_time": "2021-09-22T17:08:10.166Z"
   },
   {
    "duration": 353,
    "start_time": "2021-09-22T17:29:15.808Z"
   },
   {
    "duration": 380,
    "start_time": "2021-09-22T17:29:40.023Z"
   },
   {
    "duration": 24,
    "start_time": "2021-09-22T17:30:09.853Z"
   },
   {
    "duration": 13,
    "start_time": "2021-09-22T17:30:44.993Z"
   },
   {
    "duration": 406,
    "start_time": "2021-09-22T17:32:19.052Z"
   },
   {
    "duration": 644,
    "start_time": "2021-09-22T17:39:48.925Z"
   },
   {
    "duration": 9,
    "start_time": "2021-09-22T17:40:28.096Z"
   },
   {
    "duration": 19,
    "start_time": "2021-09-22T17:51:25.457Z"
   },
   {
    "duration": 128,
    "start_time": "2021-09-22T17:52:37.089Z"
   },
   {
    "duration": 404,
    "start_time": "2021-09-22T17:53:00.843Z"
   },
   {
    "duration": 8721,
    "start_time": "2021-09-22T17:53:15.591Z"
   },
   {
    "duration": 10749,
    "start_time": "2021-09-22T17:53:58.016Z"
   },
   {
    "duration": 7,
    "start_time": "2021-09-22T17:55:07.493Z"
   },
   {
    "duration": 3,
    "start_time": "2021-09-22T17:55:15.651Z"
   },
   {
    "duration": 312,
    "start_time": "2021-09-22T17:55:15.656Z"
   },
   {
    "duration": 288,
    "start_time": "2021-09-22T17:55:15.971Z"
   },
   {
    "duration": 335,
    "start_time": "2021-09-22T17:55:16.260Z"
   },
   {
    "duration": 148,
    "start_time": "2021-09-22T17:55:16.597Z"
   },
   {
    "duration": 9,
    "start_time": "2021-09-22T17:55:16.747Z"
   },
   {
    "duration": 127,
    "start_time": "2021-09-22T17:55:16.758Z"
   },
   {
    "duration": 55,
    "start_time": "2021-09-22T17:55:16.886Z"
   },
   {
    "duration": 340,
    "start_time": "2021-09-22T17:55:16.943Z"
   },
   {
    "duration": 238,
    "start_time": "2021-09-22T17:55:17.286Z"
   },
   {
    "duration": 74,
    "start_time": "2021-09-22T17:55:17.526Z"
   },
   {
    "duration": 82,
    "start_time": "2021-09-22T17:55:17.602Z"
   },
   {
    "duration": 3,
    "start_time": "2021-09-22T17:55:17.685Z"
   },
   {
    "duration": 152,
    "start_time": "2021-09-22T17:55:17.689Z"
   },
   {
    "duration": 33,
    "start_time": "2021-09-22T17:55:17.843Z"
   },
   {
    "duration": 21,
    "start_time": "2021-09-22T17:55:17.878Z"
   },
   {
    "duration": 18,
    "start_time": "2021-09-22T17:55:17.901Z"
   },
   {
    "duration": 5,
    "start_time": "2021-09-22T17:55:17.920Z"
   },
   {
    "duration": 32,
    "start_time": "2021-09-22T17:55:17.926Z"
   },
   {
    "duration": 102,
    "start_time": "2021-09-22T17:55:17.976Z"
   },
   {
    "duration": 8,
    "start_time": "2021-09-22T17:55:18.080Z"
   },
   {
    "duration": 287,
    "start_time": "2021-09-22T17:55:18.090Z"
   },
   {
    "duration": 80,
    "start_time": "2021-09-22T17:55:18.379Z"
   },
   {
    "duration": 58,
    "start_time": "2021-09-22T17:55:18.461Z"
   },
   {
    "duration": 5,
    "start_time": "2021-09-22T17:55:18.521Z"
   },
   {
    "duration": 20,
    "start_time": "2021-09-22T17:55:18.528Z"
   },
   {
    "duration": 53,
    "start_time": "2021-09-22T17:55:18.552Z"
   },
   {
    "duration": 71,
    "start_time": "2021-09-22T17:55:18.607Z"
   },
   {
    "duration": 2,
    "start_time": "2021-09-22T17:55:18.679Z"
   },
   {
    "duration": 15,
    "start_time": "2021-09-22T17:55:18.683Z"
   },
   {
    "duration": 38,
    "start_time": "2021-09-22T17:55:18.700Z"
   },
   {
    "duration": 9,
    "start_time": "2021-09-22T17:55:18.739Z"
   },
   {
    "duration": 28,
    "start_time": "2021-09-22T17:55:18.749Z"
   },
   {
    "duration": 78,
    "start_time": "2021-09-22T17:55:18.779Z"
   },
   {
    "duration": 69,
    "start_time": "2021-09-22T17:55:18.859Z"
   },
   {
    "duration": 11,
    "start_time": "2021-09-22T17:55:18.929Z"
   },
   {
    "duration": 39,
    "start_time": "2021-09-22T17:55:18.942Z"
   },
   {
    "duration": 17,
    "start_time": "2021-09-22T17:55:18.983Z"
   },
   {
    "duration": 39,
    "start_time": "2021-09-22T17:55:19.002Z"
   },
   {
    "duration": 2,
    "start_time": "2021-09-22T17:55:19.043Z"
   },
   {
    "duration": 121,
    "start_time": "2021-09-22T17:55:19.047Z"
   },
   {
    "duration": 11,
    "start_time": "2021-09-22T17:55:19.177Z"
   },
   {
    "duration": 56,
    "start_time": "2021-09-22T17:55:19.190Z"
   },
   {
    "duration": 51,
    "start_time": "2021-09-22T17:55:19.247Z"
   },
   {
    "duration": 7,
    "start_time": "2021-09-22T17:55:19.300Z"
   },
   {
    "duration": 404,
    "start_time": "2021-09-22T17:55:19.309Z"
   },
   {
    "duration": -1685,
    "start_time": "2021-09-22T17:55:21.401Z"
   },
   {
    "duration": -1693,
    "start_time": "2021-09-22T17:55:21.410Z"
   },
   {
    "duration": -1701,
    "start_time": "2021-09-22T17:55:21.419Z"
   },
   {
    "duration": -1708,
    "start_time": "2021-09-22T17:55:21.427Z"
   },
   {
    "duration": -1715,
    "start_time": "2021-09-22T17:55:21.435Z"
   },
   {
    "duration": -1719,
    "start_time": "2021-09-22T17:55:21.440Z"
   },
   {
    "duration": -1724,
    "start_time": "2021-09-22T17:55:21.446Z"
   },
   {
    "duration": -1728,
    "start_time": "2021-09-22T17:55:21.451Z"
   },
   {
    "duration": -1733,
    "start_time": "2021-09-22T17:55:21.457Z"
   },
   {
    "duration": -1737,
    "start_time": "2021-09-22T17:55:21.462Z"
   },
   {
    "duration": -1752,
    "start_time": "2021-09-22T17:55:21.477Z"
   },
   {
    "duration": -1756,
    "start_time": "2021-09-22T17:55:21.482Z"
   },
   {
    "duration": -1760,
    "start_time": "2021-09-22T17:55:21.488Z"
   },
   {
    "duration": -1764,
    "start_time": "2021-09-22T17:55:21.493Z"
   },
   {
    "duration": 352,
    "start_time": "2021-09-22T17:56:41.517Z"
   },
   {
    "duration": 430,
    "start_time": "2021-09-22T17:56:58.096Z"
   },
   {
    "duration": 393,
    "start_time": "2021-09-22T17:57:22.871Z"
   },
   {
    "duration": 3,
    "start_time": "2021-09-22T17:58:10.570Z"
   },
   {
    "duration": 313,
    "start_time": "2021-09-22T17:58:10.575Z"
   },
   {
    "duration": 1557,
    "start_time": "2021-09-22T20:20:12.530Z"
   },
   {
    "duration": 341,
    "start_time": "2021-09-22T20:20:14.089Z"
   },
   {
    "duration": 314,
    "start_time": "2021-09-22T20:20:14.433Z"
   },
   {
    "duration": 293,
    "start_time": "2021-09-22T20:20:14.749Z"
   },
   {
    "duration": 54,
    "start_time": "2021-09-22T20:20:15.044Z"
   },
   {
    "duration": 16,
    "start_time": "2021-09-22T20:20:15.101Z"
   },
   {
    "duration": 92,
    "start_time": "2021-09-22T20:20:15.119Z"
   },
   {
    "duration": 69,
    "start_time": "2021-09-22T20:20:15.215Z"
   },
   {
    "duration": 369,
    "start_time": "2021-09-22T20:20:15.288Z"
   },
   {
    "duration": 383,
    "start_time": "2021-09-22T20:20:15.659Z"
   },
   {
    "duration": 130,
    "start_time": "2021-09-22T20:20:16.045Z"
   },
   {
    "duration": 156,
    "start_time": "2021-09-22T20:20:16.177Z"
   },
   {
    "duration": 5,
    "start_time": "2021-09-22T20:20:16.336Z"
   },
   {
    "duration": 243,
    "start_time": "2021-09-22T20:20:16.344Z"
   },
   {
    "duration": 46,
    "start_time": "2021-09-22T20:20:16.590Z"
   },
   {
    "duration": 30,
    "start_time": "2021-09-22T20:20:16.640Z"
   },
   {
    "duration": 54,
    "start_time": "2021-09-22T20:20:16.673Z"
   },
   {
    "duration": 8,
    "start_time": "2021-09-22T20:20:16.730Z"
   },
   {
    "duration": 39,
    "start_time": "2021-09-22T20:20:16.741Z"
   },
   {
    "duration": 189,
    "start_time": "2021-09-22T20:20:16.783Z"
   },
   {
    "duration": 13,
    "start_time": "2021-09-22T20:20:16.975Z"
   },
   {
    "duration": 486,
    "start_time": "2021-09-22T20:20:16.991Z"
   },
   {
    "duration": 167,
    "start_time": "2021-09-22T20:20:17.486Z"
   },
   {
    "duration": 100,
    "start_time": "2021-09-22T20:20:17.658Z"
   },
   {
    "duration": 9,
    "start_time": "2021-09-22T20:20:17.762Z"
   },
   {
    "duration": 51,
    "start_time": "2021-09-22T20:20:17.774Z"
   },
   {
    "duration": 63,
    "start_time": "2021-09-22T20:20:17.828Z"
   },
   {
    "duration": 116,
    "start_time": "2021-09-22T20:20:17.894Z"
   },
   {
    "duration": 3,
    "start_time": "2021-09-22T20:20:18.022Z"
   },
   {
    "duration": 31,
    "start_time": "2021-09-22T20:20:18.028Z"
   },
   {
    "duration": 51,
    "start_time": "2021-09-22T20:20:18.061Z"
   },
   {
    "duration": 13,
    "start_time": "2021-09-22T20:20:18.122Z"
   },
   {
    "duration": 10,
    "start_time": "2021-09-22T20:20:18.137Z"
   },
   {
    "duration": 135,
    "start_time": "2021-09-22T20:20:18.149Z"
   },
   {
    "duration": 112,
    "start_time": "2021-09-22T20:20:18.287Z"
   },
   {
    "duration": 28,
    "start_time": "2021-09-22T20:20:18.401Z"
   },
   {
    "duration": 34,
    "start_time": "2021-09-22T20:20:18.431Z"
   },
   {
    "duration": 25,
    "start_time": "2021-09-22T20:20:18.467Z"
   },
   {
    "duration": 54,
    "start_time": "2021-09-22T20:20:18.523Z"
   },
   {
    "duration": 4,
    "start_time": "2021-09-22T20:20:18.579Z"
   },
   {
    "duration": 166,
    "start_time": "2021-09-22T20:20:18.586Z"
   },
   {
    "duration": 18,
    "start_time": "2021-09-22T20:20:18.755Z"
   },
   {
    "duration": 107,
    "start_time": "2021-09-22T20:20:18.775Z"
   },
   {
    "duration": 49,
    "start_time": "2021-09-22T20:20:18.884Z"
   },
   {
    "duration": 16,
    "start_time": "2021-09-22T20:20:18.936Z"
   },
   {
    "duration": 6739,
    "start_time": "2021-09-22T20:20:18.954Z"
   },
   {
    "duration": -1788,
    "start_time": "2021-09-22T20:20:27.484Z"
   },
   {
    "duration": -1796,
    "start_time": "2021-09-22T20:20:27.493Z"
   },
   {
    "duration": -1800,
    "start_time": "2021-09-22T20:20:27.499Z"
   },
   {
    "duration": -1806,
    "start_time": "2021-09-22T20:20:27.506Z"
   },
   {
    "duration": -1811,
    "start_time": "2021-09-22T20:20:27.512Z"
   },
   {
    "duration": -1815,
    "start_time": "2021-09-22T20:20:27.518Z"
   },
   {
    "duration": -1819,
    "start_time": "2021-09-22T20:20:27.523Z"
   },
   {
    "duration": -1823,
    "start_time": "2021-09-22T20:20:27.529Z"
   },
   {
    "duration": -1827,
    "start_time": "2021-09-22T20:20:27.534Z"
   },
   {
    "duration": -1831,
    "start_time": "2021-09-22T20:20:27.540Z"
   },
   {
    "duration": -1836,
    "start_time": "2021-09-22T20:20:27.546Z"
   },
   {
    "duration": -1841,
    "start_time": "2021-09-22T20:20:27.553Z"
   },
   {
    "duration": -1845,
    "start_time": "2021-09-22T20:20:27.558Z"
   },
   {
    "duration": -1849,
    "start_time": "2021-09-22T20:20:27.564Z"
   },
   {
    "duration": 93,
    "start_time": "2021-09-22T20:27:18.971Z"
   },
   {
    "duration": 296,
    "start_time": "2021-09-22T20:33:04.457Z"
   },
   {
    "duration": 20,
    "start_time": "2021-09-22T20:33:08.659Z"
   },
   {
    "duration": 341,
    "start_time": "2021-09-22T20:33:40.384Z"
   },
   {
    "duration": 293,
    "start_time": "2021-09-22T20:34:40.486Z"
   },
   {
    "duration": 5,
    "start_time": "2021-09-22T20:34:58.745Z"
   },
   {
    "duration": 348,
    "start_time": "2021-09-22T20:34:58.752Z"
   },
   {
    "duration": 382,
    "start_time": "2021-09-22T20:34:59.103Z"
   },
   {
    "duration": 317,
    "start_time": "2021-09-22T20:34:59.488Z"
   },
   {
    "duration": 56,
    "start_time": "2021-09-22T20:34:59.807Z"
   },
   {
    "duration": 14,
    "start_time": "2021-09-22T20:34:59.865Z"
   },
   {
    "duration": 71,
    "start_time": "2021-09-22T20:34:59.883Z"
   },
   {
    "duration": 70,
    "start_time": "2021-09-22T20:34:59.957Z"
   },
   {
    "duration": 371,
    "start_time": "2021-09-22T20:35:00.029Z"
   },
   {
    "duration": 380,
    "start_time": "2021-09-22T20:35:00.403Z"
   },
   {
    "duration": 124,
    "start_time": "2021-09-22T20:35:00.785Z"
   },
   {
    "duration": 151,
    "start_time": "2021-09-22T20:35:00.911Z"
   },
   {
    "duration": 4,
    "start_time": "2021-09-22T20:35:01.064Z"
   },
   {
    "duration": 249,
    "start_time": "2021-09-22T20:35:01.070Z"
   },
   {
    "duration": 35,
    "start_time": "2021-09-22T20:35:01.322Z"
   },
   {
    "duration": 72,
    "start_time": "2021-09-22T20:35:01.359Z"
   },
   {
    "duration": 37,
    "start_time": "2021-09-22T20:35:01.434Z"
   },
   {
    "duration": 11,
    "start_time": "2021-09-22T20:35:01.473Z"
   },
   {
    "duration": 60,
    "start_time": "2021-09-22T20:35:01.489Z"
   },
   {
    "duration": 140,
    "start_time": "2021-09-22T20:35:01.553Z"
   },
   {
    "duration": 26,
    "start_time": "2021-09-22T20:35:01.696Z"
   },
   {
    "duration": 478,
    "start_time": "2021-09-22T20:35:01.725Z"
   },
   {
    "duration": 138,
    "start_time": "2021-09-22T20:35:02.206Z"
   },
   {
    "duration": 76,
    "start_time": "2021-09-22T20:35:02.346Z"
   },
   {
    "duration": 7,
    "start_time": "2021-09-22T20:35:02.425Z"
   },
   {
    "duration": 46,
    "start_time": "2021-09-22T20:35:02.434Z"
   },
   {
    "duration": 57,
    "start_time": "2021-09-22T20:35:02.482Z"
   },
   {
    "duration": 106,
    "start_time": "2021-09-22T20:35:02.542Z"
   },
   {
    "duration": 3,
    "start_time": "2021-09-22T20:35:02.650Z"
   },
   {
    "duration": 31,
    "start_time": "2021-09-22T20:35:02.656Z"
   },
   {
    "duration": 60,
    "start_time": "2021-09-22T20:35:02.690Z"
   },
   {
    "duration": 15,
    "start_time": "2021-09-22T20:35:02.753Z"
   },
   {
    "duration": 12,
    "start_time": "2021-09-22T20:35:02.771Z"
   },
   {
    "duration": 123,
    "start_time": "2021-09-22T20:35:02.786Z"
   },
   {
    "duration": 115,
    "start_time": "2021-09-22T20:35:02.912Z"
   },
   {
    "duration": 15,
    "start_time": "2021-09-22T20:35:03.029Z"
   },
   {
    "duration": 33,
    "start_time": "2021-09-22T20:35:03.047Z"
   },
   {
    "duration": 60,
    "start_time": "2021-09-22T20:35:03.083Z"
   },
   {
    "duration": 80,
    "start_time": "2021-09-22T20:35:03.146Z"
   },
   {
    "duration": 4,
    "start_time": "2021-09-22T20:35:03.229Z"
   },
   {
    "duration": 32,
    "start_time": "2021-09-22T20:35:03.236Z"
   },
   {
    "duration": 27,
    "start_time": "2021-09-22T20:35:03.270Z"
   },
   {
    "duration": 26,
    "start_time": "2021-09-22T20:35:03.299Z"
   },
   {
    "duration": 25,
    "start_time": "2021-09-22T20:35:03.328Z"
   },
   {
    "duration": 11,
    "start_time": "2021-09-22T20:35:03.355Z"
   },
   {
    "duration": 636,
    "start_time": "2021-09-22T20:35:03.368Z"
   },
   {
    "duration": -1646,
    "start_time": "2021-09-22T20:35:05.652Z"
   },
   {
    "duration": -1652,
    "start_time": "2021-09-22T20:35:05.660Z"
   },
   {
    "duration": -1657,
    "start_time": "2021-09-22T20:35:05.666Z"
   },
   {
    "duration": -1662,
    "start_time": "2021-09-22T20:35:05.672Z"
   },
   {
    "duration": -1667,
    "start_time": "2021-09-22T20:35:05.679Z"
   },
   {
    "duration": -1671,
    "start_time": "2021-09-22T20:35:05.684Z"
   },
   {
    "duration": -1678,
    "start_time": "2021-09-22T20:35:05.692Z"
   },
   {
    "duration": -1681,
    "start_time": "2021-09-22T20:35:05.697Z"
   },
   {
    "duration": -1686,
    "start_time": "2021-09-22T20:35:05.703Z"
   },
   {
    "duration": -1691,
    "start_time": "2021-09-22T20:35:05.709Z"
   },
   {
    "duration": -1695,
    "start_time": "2021-09-22T20:35:05.715Z"
   },
   {
    "duration": -1699,
    "start_time": "2021-09-22T20:35:05.720Z"
   },
   {
    "duration": -1715,
    "start_time": "2021-09-22T20:35:05.738Z"
   },
   {
    "duration": 56,
    "start_time": "2021-09-22T20:35:42.291Z"
   },
   {
    "duration": 28,
    "start_time": "2021-09-22T20:35:47.759Z"
   },
   {
    "duration": 42,
    "start_time": "2021-09-22T20:35:52.585Z"
   },
   {
    "duration": 7,
    "start_time": "2021-09-22T20:35:55.567Z"
   },
   {
    "duration": 90,
    "start_time": "2021-09-22T20:36:00.141Z"
   },
   {
    "duration": 6,
    "start_time": "2021-09-22T20:38:36.843Z"
   },
   {
    "duration": 6,
    "start_time": "2021-09-22T20:40:55.392Z"
   },
   {
    "duration": 7967,
    "start_time": "2021-09-22T20:41:42.118Z"
   },
   {
    "duration": 9,
    "start_time": "2021-09-22T20:42:10.492Z"
   },
   {
    "duration": 86,
    "start_time": "2021-09-22T20:43:40.400Z"
   },
   {
    "duration": 459,
    "start_time": "2021-09-22T20:45:02.291Z"
   },
   {
    "duration": 5,
    "start_time": "2021-09-22T20:46:09.330Z"
   },
   {
    "duration": 355,
    "start_time": "2021-09-22T20:46:09.338Z"
   },
   {
    "duration": 269,
    "start_time": "2021-09-22T20:46:09.724Z"
   },
   {
    "duration": 296,
    "start_time": "2021-09-22T20:46:09.996Z"
   },
   {
    "duration": 102,
    "start_time": "2021-09-22T20:46:10.295Z"
   },
   {
    "duration": 13,
    "start_time": "2021-09-22T20:46:10.400Z"
   },
   {
    "duration": 60,
    "start_time": "2021-09-22T20:46:10.416Z"
   },
   {
    "duration": 71,
    "start_time": "2021-09-22T20:46:10.479Z"
   },
   {
    "duration": 330,
    "start_time": "2021-09-22T20:46:10.554Z"
   },
   {
    "duration": 440,
    "start_time": "2021-09-22T20:46:10.887Z"
   },
   {
    "duration": 115,
    "start_time": "2021-09-22T20:46:11.330Z"
   },
   {
    "duration": 140,
    "start_time": "2021-09-22T20:46:11.448Z"
   },
   {
    "duration": 3,
    "start_time": "2021-09-22T20:46:11.591Z"
   },
   {
    "duration": 200,
    "start_time": "2021-09-22T20:46:11.597Z"
   },
   {
    "duration": 43,
    "start_time": "2021-09-22T20:46:11.800Z"
   },
   {
    "duration": 28,
    "start_time": "2021-09-22T20:46:11.845Z"
   },
   {
    "duration": 49,
    "start_time": "2021-09-22T20:46:11.875Z"
   },
   {
    "duration": 6,
    "start_time": "2021-09-22T20:46:11.926Z"
   },
   {
    "duration": 38,
    "start_time": "2021-09-22T20:46:11.934Z"
   },
   {
    "duration": 140,
    "start_time": "2021-09-22T20:46:11.974Z"
   },
   {
    "duration": 11,
    "start_time": "2021-09-22T20:46:12.122Z"
   },
   {
    "duration": 426,
    "start_time": "2021-09-22T20:46:12.136Z"
   },
   {
    "duration": 125,
    "start_time": "2021-09-22T20:46:12.564Z"
   },
   {
    "duration": 97,
    "start_time": "2021-09-22T20:46:12.692Z"
   },
   {
    "duration": 10,
    "start_time": "2021-09-22T20:46:12.792Z"
   },
   {
    "duration": 48,
    "start_time": "2021-09-22T20:46:12.805Z"
   },
   {
    "duration": 78,
    "start_time": "2021-09-22T20:46:12.863Z"
   },
   {
    "duration": 102,
    "start_time": "2021-09-22T20:46:12.945Z"
   },
   {
    "duration": 4,
    "start_time": "2021-09-22T20:46:13.050Z"
   },
   {
    "duration": 23,
    "start_time": "2021-09-22T20:46:13.056Z"
   },
   {
    "duration": 66,
    "start_time": "2021-09-22T20:46:13.082Z"
   },
   {
    "duration": 13,
    "start_time": "2021-09-22T20:46:13.151Z"
   },
   {
    "duration": 23,
    "start_time": "2021-09-22T20:46:13.167Z"
   },
   {
    "duration": 109,
    "start_time": "2021-09-22T20:46:13.192Z"
   },
   {
    "duration": 120,
    "start_time": "2021-09-22T20:46:13.304Z"
   },
   {
    "duration": 16,
    "start_time": "2021-09-22T20:46:13.426Z"
   },
   {
    "duration": 32,
    "start_time": "2021-09-22T20:46:13.444Z"
   },
   {
    "duration": 60,
    "start_time": "2021-09-22T20:46:13.478Z"
   },
   {
    "duration": 52,
    "start_time": "2021-09-22T20:46:13.541Z"
   },
   {
    "duration": 76,
    "start_time": "2021-09-22T20:46:13.595Z"
   },
   {
    "duration": 7,
    "start_time": "2021-09-22T20:46:13.674Z"
   },
   {
    "duration": 9,
    "start_time": "2021-09-22T20:46:13.684Z"
   },
   {
    "duration": 28,
    "start_time": "2021-09-22T20:46:13.695Z"
   },
   {
    "duration": 11,
    "start_time": "2021-09-22T20:46:13.726Z"
   },
   {
    "duration": 16,
    "start_time": "2021-09-22T20:46:13.740Z"
   },
   {
    "duration": 15,
    "start_time": "2021-09-22T20:46:13.759Z"
   },
   {
    "duration": 27,
    "start_time": "2021-09-22T20:46:13.777Z"
   },
   {
    "duration": 5,
    "start_time": "2021-09-22T20:46:13.806Z"
   },
   {
    "duration": 45,
    "start_time": "2021-09-22T20:46:13.814Z"
   },
   {
    "duration": 7,
    "start_time": "2021-09-22T20:46:13.862Z"
   },
   {
    "duration": 107,
    "start_time": "2021-09-22T20:46:13.871Z"
   },
   {
    "duration": 570,
    "start_time": "2021-09-22T20:46:13.981Z"
   },
   {
    "duration": 488,
    "start_time": "2021-09-22T20:46:14.553Z"
   },
   {
    "duration": 274,
    "start_time": "2021-09-22T20:46:15.043Z"
   },
   {
    "duration": -1661,
    "start_time": "2021-09-22T20:46:16.980Z"
   },
   {
    "duration": -1666,
    "start_time": "2021-09-22T20:46:16.987Z"
   },
   {
    "duration": -1671,
    "start_time": "2021-09-22T20:46:16.993Z"
   },
   {
    "duration": -1675,
    "start_time": "2021-09-22T20:46:16.999Z"
   },
   {
    "duration": -1679,
    "start_time": "2021-09-22T20:46:17.005Z"
   },
   {
    "duration": -1683,
    "start_time": "2021-09-22T20:46:17.010Z"
   },
   {
    "duration": 47,
    "start_time": "2021-09-22T20:46:53.313Z"
   },
   {
    "duration": 262,
    "start_time": "2021-09-22T20:47:00.685Z"
   },
   {
    "duration": 1341,
    "start_time": "2021-09-22T20:47:11.336Z"
   },
   {
    "duration": 668,
    "start_time": "2021-09-22T20:47:24.103Z"
   },
   {
    "duration": 262,
    "start_time": "2021-09-22T20:49:57.206Z"
   },
   {
    "duration": 708,
    "start_time": "2021-09-22T20:50:20.391Z"
   },
   {
    "duration": 600,
    "start_time": "2021-09-22T20:51:21.482Z"
   },
   {
    "duration": 565,
    "start_time": "2021-09-22T20:51:34.441Z"
   },
   {
    "duration": 834,
    "start_time": "2021-09-22T20:52:59.229Z"
   },
   {
    "duration": 1485,
    "start_time": "2021-09-22T20:53:08.196Z"
   },
   {
    "duration": 369,
    "start_time": "2021-09-22T20:55:50.721Z"
   },
   {
    "duration": 4,
    "start_time": "2021-09-22T20:56:01.682Z"
   },
   {
    "duration": 433,
    "start_time": "2021-09-22T20:56:01.689Z"
   },
   {
    "duration": 283,
    "start_time": "2021-09-22T20:56:02.125Z"
   },
   {
    "duration": 226,
    "start_time": "2021-09-22T20:56:02.411Z"
   },
   {
    "duration": 54,
    "start_time": "2021-09-22T20:56:02.640Z"
   },
   {
    "duration": 15,
    "start_time": "2021-09-22T20:56:02.698Z"
   },
   {
    "duration": 82,
    "start_time": "2021-09-22T20:56:02.717Z"
   },
   {
    "duration": 71,
    "start_time": "2021-09-22T20:56:02.802Z"
   },
   {
    "duration": 349,
    "start_time": "2021-09-22T20:56:02.875Z"
   },
   {
    "duration": 433,
    "start_time": "2021-09-22T20:56:03.226Z"
   },
   {
    "duration": 115,
    "start_time": "2021-09-22T20:56:03.662Z"
   },
   {
    "duration": 132,
    "start_time": "2021-09-22T20:56:03.780Z"
   },
   {
    "duration": 4,
    "start_time": "2021-09-22T20:56:03.915Z"
   },
   {
    "duration": 199,
    "start_time": "2021-09-22T20:56:03.923Z"
   },
   {
    "duration": 35,
    "start_time": "2021-09-22T20:56:04.125Z"
   },
   {
    "duration": 29,
    "start_time": "2021-09-22T20:56:04.163Z"
   },
   {
    "duration": 33,
    "start_time": "2021-09-22T20:56:04.195Z"
   },
   {
    "duration": 6,
    "start_time": "2021-09-22T20:56:04.231Z"
   },
   {
    "duration": 32,
    "start_time": "2021-09-22T20:56:04.243Z"
   },
   {
    "duration": 135,
    "start_time": "2021-09-22T20:56:04.278Z"
   },
   {
    "duration": 12,
    "start_time": "2021-09-22T20:56:04.416Z"
   },
   {
    "duration": 894,
    "start_time": "2021-09-22T20:56:04.431Z"
   },
   {
    "duration": 116,
    "start_time": "2021-09-22T20:56:05.328Z"
   },
   {
    "duration": 95,
    "start_time": "2021-09-22T20:56:05.446Z"
   },
   {
    "duration": 6,
    "start_time": "2021-09-22T20:56:05.544Z"
   },
   {
    "duration": 83,
    "start_time": "2021-09-22T20:56:05.553Z"
   },
   {
    "duration": 99,
    "start_time": "2021-09-22T20:56:05.638Z"
   },
   {
    "duration": 124,
    "start_time": "2021-09-22T20:56:05.740Z"
   },
   {
    "duration": 3,
    "start_time": "2021-09-22T20:56:05.867Z"
   },
   {
    "duration": 20,
    "start_time": "2021-09-22T20:56:05.872Z"
   },
   {
    "duration": 70,
    "start_time": "2021-09-22T20:56:05.895Z"
   },
   {
    "duration": 12,
    "start_time": "2021-09-22T20:56:05.967Z"
   },
   {
    "duration": 10,
    "start_time": "2021-09-22T20:56:05.982Z"
   },
   {
    "duration": 112,
    "start_time": "2021-09-22T20:56:05.995Z"
   },
   {
    "duration": 127,
    "start_time": "2021-09-22T20:56:06.111Z"
   },
   {
    "duration": 17,
    "start_time": "2021-09-22T20:56:06.242Z"
   },
   {
    "duration": 61,
    "start_time": "2021-09-22T20:56:06.262Z"
   },
   {
    "duration": 27,
    "start_time": "2021-09-22T20:56:06.326Z"
   },
   {
    "duration": 81,
    "start_time": "2021-09-22T20:56:06.356Z"
   },
   {
    "duration": 54,
    "start_time": "2021-09-22T20:56:06.440Z"
   },
   {
    "duration": 27,
    "start_time": "2021-09-22T20:56:06.497Z"
   },
   {
    "duration": 3,
    "start_time": "2021-09-22T20:56:06.526Z"
   },
   {
    "duration": 5,
    "start_time": "2021-09-22T20:56:06.531Z"
   },
   {
    "duration": 8,
    "start_time": "2021-09-22T20:56:06.538Z"
   },
   {
    "duration": 10,
    "start_time": "2021-09-22T20:56:06.548Z"
   },
   {
    "duration": 5,
    "start_time": "2021-09-22T20:56:06.560Z"
   },
   {
    "duration": 57,
    "start_time": "2021-09-22T20:56:06.567Z"
   },
   {
    "duration": 5,
    "start_time": "2021-09-22T20:56:06.626Z"
   },
   {
    "duration": 44,
    "start_time": "2021-09-22T20:56:06.634Z"
   },
   {
    "duration": 7,
    "start_time": "2021-09-22T20:56:06.680Z"
   },
   {
    "duration": 108,
    "start_time": "2021-09-22T20:56:06.690Z"
   },
   {
    "duration": 577,
    "start_time": "2021-09-22T20:56:06.800Z"
   },
   {
    "duration": 605,
    "start_time": "2021-09-22T20:56:07.380Z"
   },
   {
    "duration": 60,
    "start_time": "2021-09-22T20:56:07.988Z"
   },
   {
    "duration": 1412,
    "start_time": "2021-09-22T20:56:08.054Z"
   },
   {
    "duration": 348,
    "start_time": "2021-09-22T20:56:09.470Z"
   },
   {
    "duration": -1648,
    "start_time": "2021-09-22T20:56:11.468Z"
   },
   {
    "duration": -1654,
    "start_time": "2021-09-22T20:56:11.476Z"
   },
   {
    "duration": -1659,
    "start_time": "2021-09-22T20:56:11.482Z"
   },
   {
    "duration": -1662,
    "start_time": "2021-09-22T20:56:11.487Z"
   },
   {
    "duration": 506,
    "start_time": "2021-09-22T20:56:36.502Z"
   },
   {
    "duration": 4,
    "start_time": "2021-09-22T20:56:58.941Z"
   },
   {
    "duration": 358,
    "start_time": "2021-09-22T20:56:58.948Z"
   },
   {
    "duration": 298,
    "start_time": "2021-09-22T20:56:59.309Z"
   },
   {
    "duration": 293,
    "start_time": "2021-09-22T20:56:59.610Z"
   },
   {
    "duration": 55,
    "start_time": "2021-09-22T20:56:59.906Z"
   },
   {
    "duration": 14,
    "start_time": "2021-09-22T20:56:59.963Z"
   },
   {
    "duration": 97,
    "start_time": "2021-09-22T20:56:59.981Z"
   },
   {
    "duration": 71,
    "start_time": "2021-09-22T20:57:00.081Z"
   },
   {
    "duration": 361,
    "start_time": "2021-09-22T20:57:00.155Z"
   },
   {
    "duration": 386,
    "start_time": "2021-09-22T20:57:00.522Z"
   },
   {
    "duration": 122,
    "start_time": "2021-09-22T20:57:00.911Z"
   },
   {
    "duration": 148,
    "start_time": "2021-09-22T20:57:01.036Z"
   },
   {
    "duration": 4,
    "start_time": "2021-09-22T20:57:01.186Z"
   },
   {
    "duration": 249,
    "start_time": "2021-09-22T20:57:01.192Z"
   },
   {
    "duration": 34,
    "start_time": "2021-09-22T20:57:01.444Z"
   },
   {
    "duration": 49,
    "start_time": "2021-09-22T20:57:01.480Z"
   },
   {
    "duration": 47,
    "start_time": "2021-09-22T20:57:01.532Z"
   },
   {
    "duration": 27,
    "start_time": "2021-09-22T20:57:01.582Z"
   },
   {
    "duration": 62,
    "start_time": "2021-09-22T20:57:01.615Z"
   },
   {
    "duration": 135,
    "start_time": "2021-09-22T20:57:01.688Z"
   },
   {
    "duration": 12,
    "start_time": "2021-09-22T20:57:01.826Z"
   },
   {
    "duration": 576,
    "start_time": "2021-09-22T20:57:01.841Z"
   },
   {
    "duration": 124,
    "start_time": "2021-09-22T20:57:02.423Z"
   },
   {
    "duration": 77,
    "start_time": "2021-09-22T20:57:02.549Z"
   },
   {
    "duration": 8,
    "start_time": "2021-09-22T20:57:02.628Z"
   },
   {
    "duration": 43,
    "start_time": "2021-09-22T20:57:02.639Z"
   },
   {
    "duration": 65,
    "start_time": "2021-09-22T20:57:02.685Z"
   },
   {
    "duration": 106,
    "start_time": "2021-09-22T20:57:02.753Z"
   },
   {
    "duration": 4,
    "start_time": "2021-09-22T20:57:02.861Z"
   },
   {
    "duration": 34,
    "start_time": "2021-09-22T20:57:02.867Z"
   },
   {
    "duration": 59,
    "start_time": "2021-09-22T20:57:02.903Z"
   },
   {
    "duration": 15,
    "start_time": "2021-09-22T20:57:02.965Z"
   },
   {
    "duration": 27,
    "start_time": "2021-09-22T20:57:02.984Z"
   },
   {
    "duration": 164,
    "start_time": "2021-09-22T20:57:03.014Z"
   },
   {
    "duration": 122,
    "start_time": "2021-09-22T20:57:03.181Z"
   },
   {
    "duration": 25,
    "start_time": "2021-09-22T20:57:03.306Z"
   },
   {
    "duration": 34,
    "start_time": "2021-09-22T20:57:03.333Z"
   },
   {
    "duration": 54,
    "start_time": "2021-09-22T20:57:03.370Z"
   },
   {
    "duration": 52,
    "start_time": "2021-09-22T20:57:03.426Z"
   },
   {
    "duration": 77,
    "start_time": "2021-09-22T20:57:03.480Z"
   },
   {
    "duration": 8,
    "start_time": "2021-09-22T20:57:03.559Z"
   },
   {
    "duration": 8,
    "start_time": "2021-09-22T20:57:03.570Z"
   },
   {
    "duration": 11,
    "start_time": "2021-09-22T20:57:03.580Z"
   },
   {
    "duration": 28,
    "start_time": "2021-09-22T20:57:03.594Z"
   },
   {
    "duration": 30,
    "start_time": "2021-09-22T20:57:03.625Z"
   },
   {
    "duration": 12,
    "start_time": "2021-09-22T20:57:03.657Z"
   },
   {
    "duration": 30,
    "start_time": "2021-09-22T20:57:03.672Z"
   },
   {
    "duration": 6,
    "start_time": "2021-09-22T20:57:03.704Z"
   },
   {
    "duration": 49,
    "start_time": "2021-09-22T20:57:03.713Z"
   },
   {
    "duration": 9,
    "start_time": "2021-09-22T20:57:03.764Z"
   },
   {
    "duration": 94,
    "start_time": "2021-09-22T20:57:03.776Z"
   },
   {
    "duration": 558,
    "start_time": "2021-09-22T20:57:03.873Z"
   },
   {
    "duration": 585,
    "start_time": "2021-09-22T20:57:04.433Z"
   },
   {
    "duration": 44,
    "start_time": "2021-09-22T20:57:05.022Z"
   },
   {
    "duration": 1345,
    "start_time": "2021-09-22T20:57:05.072Z"
   },
   {
    "duration": 534,
    "start_time": "2021-09-22T20:57:06.420Z"
   },
   {
    "duration": 275,
    "start_time": "2021-09-22T20:57:06.956Z"
   },
   {
    "duration": -1731,
    "start_time": "2021-09-22T20:57:08.965Z"
   },
   {
    "duration": -1738,
    "start_time": "2021-09-22T20:57:08.973Z"
   },
   {
    "duration": -2026,
    "start_time": "2021-09-22T20:57:09.263Z"
   },
   {
    "duration": 437,
    "start_time": "2021-09-22T20:57:39.607Z"
   },
   {
    "duration": 494,
    "start_time": "2021-09-22T20:57:48.453Z"
   },
   {
    "duration": 301,
    "start_time": "2021-09-22T21:00:40.035Z"
   },
   {
    "duration": 5,
    "start_time": "2021-09-22T21:01:01.021Z"
   },
   {
    "duration": 420,
    "start_time": "2021-09-22T21:01:01.029Z"
   },
   {
    "duration": 317,
    "start_time": "2021-09-22T21:01:01.453Z"
   },
   {
    "duration": 207,
    "start_time": "2021-09-22T21:01:01.773Z"
   },
   {
    "duration": 53,
    "start_time": "2021-09-22T21:01:01.983Z"
   },
   {
    "duration": 15,
    "start_time": "2021-09-22T21:01:02.039Z"
   },
   {
    "duration": 111,
    "start_time": "2021-09-22T21:01:02.058Z"
   },
   {
    "duration": 74,
    "start_time": "2021-09-22T21:01:02.172Z"
   },
   {
    "duration": 358,
    "start_time": "2021-09-22T21:01:02.248Z"
   },
   {
    "duration": 384,
    "start_time": "2021-09-22T21:01:02.608Z"
   },
   {
    "duration": 120,
    "start_time": "2021-09-22T21:01:02.994Z"
   },
   {
    "duration": 143,
    "start_time": "2021-09-22T21:01:03.122Z"
   },
   {
    "duration": 3,
    "start_time": "2021-09-22T21:01:03.267Z"
   },
   {
    "duration": 227,
    "start_time": "2021-09-22T21:01:03.273Z"
   },
   {
    "duration": 43,
    "start_time": "2021-09-22T21:01:03.502Z"
   },
   {
    "duration": 28,
    "start_time": "2021-09-22T21:01:03.547Z"
   },
   {
    "duration": 47,
    "start_time": "2021-09-22T21:01:03.578Z"
   },
   {
    "duration": 6,
    "start_time": "2021-09-22T21:01:03.628Z"
   },
   {
    "duration": 53,
    "start_time": "2021-09-22T21:01:03.640Z"
   },
   {
    "duration": 130,
    "start_time": "2021-09-22T21:01:03.697Z"
   },
   {
    "duration": 12,
    "start_time": "2021-09-22T21:01:03.829Z"
   },
   {
    "duration": 453,
    "start_time": "2021-09-22T21:01:03.844Z"
   },
   {
    "duration": 131,
    "start_time": "2021-09-22T21:01:04.300Z"
   },
   {
    "duration": 62,
    "start_time": "2021-09-22T21:01:04.433Z"
   },
   {
    "duration": 27,
    "start_time": "2021-09-22T21:01:04.497Z"
   },
   {
    "duration": 49,
    "start_time": "2021-09-22T21:01:04.527Z"
   },
   {
    "duration": 50,
    "start_time": "2021-09-22T21:01:04.579Z"
   },
   {
    "duration": 101,
    "start_time": "2021-09-22T21:01:04.632Z"
   },
   {
    "duration": 3,
    "start_time": "2021-09-22T21:01:04.735Z"
   },
   {
    "duration": 31,
    "start_time": "2021-09-22T21:01:04.741Z"
   },
   {
    "duration": 65,
    "start_time": "2021-09-22T21:01:04.775Z"
   },
   {
    "duration": 12,
    "start_time": "2021-09-22T21:01:04.843Z"
   },
   {
    "duration": 24,
    "start_time": "2021-09-22T21:01:04.858Z"
   },
   {
    "duration": 128,
    "start_time": "2021-09-22T21:01:04.884Z"
   },
   {
    "duration": 115,
    "start_time": "2021-09-22T21:01:05.014Z"
   },
   {
    "duration": 15,
    "start_time": "2021-09-22T21:01:05.131Z"
   },
   {
    "duration": 64,
    "start_time": "2021-09-22T21:01:05.149Z"
   },
   {
    "duration": 24,
    "start_time": "2021-09-22T21:01:05.215Z"
   },
   {
    "duration": 52,
    "start_time": "2021-09-22T21:01:05.241Z"
   },
   {
    "duration": 77,
    "start_time": "2021-09-22T21:01:05.295Z"
   },
   {
    "duration": 8,
    "start_time": "2021-09-22T21:01:05.374Z"
   },
   {
    "duration": 26,
    "start_time": "2021-09-22T21:01:05.385Z"
   },
   {
    "duration": 43,
    "start_time": "2021-09-22T21:01:05.413Z"
   },
   {
    "duration": 32,
    "start_time": "2021-09-22T21:01:05.459Z"
   },
   {
    "duration": 34,
    "start_time": "2021-09-22T21:01:05.493Z"
   },
   {
    "duration": 21,
    "start_time": "2021-09-22T21:01:05.529Z"
   },
   {
    "duration": 52,
    "start_time": "2021-09-22T21:01:05.552Z"
   },
   {
    "duration": 6,
    "start_time": "2021-09-22T21:01:05.606Z"
   },
   {
    "duration": 60,
    "start_time": "2021-09-22T21:01:05.614Z"
   },
   {
    "duration": 11,
    "start_time": "2021-09-22T21:01:05.676Z"
   },
   {
    "duration": 92,
    "start_time": "2021-09-22T21:01:05.689Z"
   },
   {
    "duration": 566,
    "start_time": "2021-09-22T21:01:05.783Z"
   },
   {
    "duration": 523,
    "start_time": "2021-09-22T21:01:06.352Z"
   },
   {
    "duration": 64,
    "start_time": "2021-09-22T21:01:06.878Z"
   },
   {
    "duration": 1558,
    "start_time": "2021-09-22T21:01:06.948Z"
   },
   {
    "duration": 636,
    "start_time": "2021-09-22T21:01:08.508Z"
   },
   {
    "duration": 624,
    "start_time": "2021-09-22T21:01:09.147Z"
   },
   {
    "duration": 508,
    "start_time": "2021-09-22T21:01:09.774Z"
   },
   {
    "duration": 334,
    "start_time": "2021-09-22T21:01:10.285Z"
   },
   {
    "duration": -2124,
    "start_time": "2021-09-22T21:01:12.747Z"
   },
   {
    "duration": 315,
    "start_time": "2021-09-22T21:04:09.412Z"
   },
   {
    "duration": 1216,
    "start_time": "2021-09-23T04:56:07.934Z"
   },
   {
    "duration": 380,
    "start_time": "2021-09-23T04:56:09.152Z"
   },
   {
    "duration": 298,
    "start_time": "2021-09-23T04:56:09.534Z"
   },
   {
    "duration": 257,
    "start_time": "2021-09-23T04:56:09.834Z"
   },
   {
    "duration": 111,
    "start_time": "2021-09-23T04:56:10.092Z"
   },
   {
    "duration": 9,
    "start_time": "2021-09-23T04:56:10.205Z"
   },
   {
    "duration": 109,
    "start_time": "2021-09-23T04:56:10.217Z"
   },
   {
    "duration": 52,
    "start_time": "2021-09-23T04:56:10.328Z"
   },
   {
    "duration": 249,
    "start_time": "2021-09-23T04:56:10.383Z"
   },
   {
    "duration": 253,
    "start_time": "2021-09-23T04:56:10.633Z"
   },
   {
    "duration": 83,
    "start_time": "2021-09-23T04:56:10.888Z"
   },
   {
    "duration": 96,
    "start_time": "2021-09-23T04:56:10.973Z"
   },
   {
    "duration": 2,
    "start_time": "2021-09-23T04:56:11.071Z"
   },
   {
    "duration": 163,
    "start_time": "2021-09-23T04:56:11.075Z"
   },
   {
    "duration": 26,
    "start_time": "2021-09-23T04:56:11.239Z"
   },
   {
    "duration": 20,
    "start_time": "2021-09-23T04:56:11.266Z"
   },
   {
    "duration": 17,
    "start_time": "2021-09-23T04:56:11.288Z"
   },
   {
    "duration": 3,
    "start_time": "2021-09-23T04:56:11.307Z"
   },
   {
    "duration": 47,
    "start_time": "2021-09-23T04:56:11.312Z"
   },
   {
    "duration": 121,
    "start_time": "2021-09-23T04:56:11.361Z"
   },
   {
    "duration": 8,
    "start_time": "2021-09-23T04:56:11.484Z"
   },
   {
    "duration": 305,
    "start_time": "2021-09-23T04:56:11.494Z"
   },
   {
    "duration": 93,
    "start_time": "2021-09-23T04:56:11.803Z"
   },
   {
    "duration": 61,
    "start_time": "2021-09-23T04:56:11.899Z"
   },
   {
    "duration": 8,
    "start_time": "2021-09-23T04:56:11.961Z"
   },
   {
    "duration": 20,
    "start_time": "2021-09-23T04:56:11.971Z"
   },
   {
    "duration": 61,
    "start_time": "2021-09-23T04:56:11.993Z"
   },
   {
    "duration": 64,
    "start_time": "2021-09-23T04:56:12.057Z"
   },
   {
    "duration": 2,
    "start_time": "2021-09-23T04:56:12.124Z"
   },
   {
    "duration": 26,
    "start_time": "2021-09-23T04:56:12.128Z"
   },
   {
    "duration": 35,
    "start_time": "2021-09-23T04:56:12.156Z"
   },
   {
    "duration": 10,
    "start_time": "2021-09-23T04:56:12.192Z"
   },
   {
    "duration": 3,
    "start_time": "2021-09-23T04:56:12.203Z"
   },
   {
    "duration": 112,
    "start_time": "2021-09-23T04:56:12.207Z"
   },
   {
    "duration": 74,
    "start_time": "2021-09-23T04:56:12.321Z"
   },
   {
    "duration": 10,
    "start_time": "2021-09-23T04:56:12.397Z"
   },
   {
    "duration": 36,
    "start_time": "2021-09-23T04:56:12.409Z"
   },
   {
    "duration": 15,
    "start_time": "2021-09-23T04:56:12.447Z"
   },
   {
    "duration": 35,
    "start_time": "2021-09-23T04:56:12.464Z"
   },
   {
    "duration": 55,
    "start_time": "2021-09-23T04:56:12.501Z"
   },
   {
    "duration": 5,
    "start_time": "2021-09-23T04:56:12.558Z"
   },
   {
    "duration": 3,
    "start_time": "2021-09-23T04:56:12.564Z"
   },
   {
    "duration": 5,
    "start_time": "2021-09-23T04:56:12.568Z"
   },
   {
    "duration": 5,
    "start_time": "2021-09-23T04:56:12.574Z"
   },
   {
    "duration": 7,
    "start_time": "2021-09-23T04:56:12.580Z"
   },
   {
    "duration": 11,
    "start_time": "2021-09-23T04:56:12.588Z"
   },
   {
    "duration": 19,
    "start_time": "2021-09-23T04:56:12.601Z"
   },
   {
    "duration": 23,
    "start_time": "2021-09-23T04:56:12.622Z"
   },
   {
    "duration": 27,
    "start_time": "2021-09-23T04:56:12.647Z"
   },
   {
    "duration": 337,
    "start_time": "2021-09-23T04:56:12.677Z"
   },
   {
    "duration": -730,
    "start_time": "2021-09-23T04:56:13.746Z"
   },
   {
    "duration": -733,
    "start_time": "2021-09-23T04:56:13.750Z"
   },
   {
    "duration": -735,
    "start_time": "2021-09-23T04:56:13.754Z"
   },
   {
    "duration": -739,
    "start_time": "2021-09-23T04:56:13.759Z"
   },
   {
    "duration": -740,
    "start_time": "2021-09-23T04:56:13.762Z"
   },
   {
    "duration": -743,
    "start_time": "2021-09-23T04:56:13.766Z"
   },
   {
    "duration": -745,
    "start_time": "2021-09-23T04:56:13.770Z"
   },
   {
    "duration": -748,
    "start_time": "2021-09-23T04:56:13.774Z"
   },
   {
    "duration": -751,
    "start_time": "2021-09-23T04:56:13.778Z"
   },
   {
    "duration": -753,
    "start_time": "2021-09-23T04:56:13.782Z"
   },
   {
    "duration": 3,
    "start_time": "2021-09-23T04:57:50.678Z"
   },
   {
    "duration": 303,
    "start_time": "2021-09-23T04:57:50.683Z"
   },
   {
    "duration": 223,
    "start_time": "2021-09-23T04:57:50.988Z"
   },
   {
    "duration": 251,
    "start_time": "2021-09-23T04:57:51.213Z"
   },
   {
    "duration": 57,
    "start_time": "2021-09-23T04:57:51.466Z"
   },
   {
    "duration": 10,
    "start_time": "2021-09-23T04:57:51.525Z"
   },
   {
    "duration": 54,
    "start_time": "2021-09-23T04:57:51.539Z"
   },
   {
    "duration": 52,
    "start_time": "2021-09-23T04:57:51.596Z"
   },
   {
    "duration": 239,
    "start_time": "2021-09-23T04:57:51.650Z"
   },
   {
    "duration": 254,
    "start_time": "2021-09-23T04:57:51.891Z"
   },
   {
    "duration": 69,
    "start_time": "2021-09-23T04:57:52.147Z"
   },
   {
    "duration": 99,
    "start_time": "2021-09-23T04:57:52.218Z"
   },
   {
    "duration": 3,
    "start_time": "2021-09-23T04:57:52.318Z"
   },
   {
    "duration": 153,
    "start_time": "2021-09-23T04:57:52.323Z"
   },
   {
    "duration": 25,
    "start_time": "2021-09-23T04:57:52.478Z"
   },
   {
    "duration": 20,
    "start_time": "2021-09-23T04:57:52.505Z"
   },
   {
    "duration": 32,
    "start_time": "2021-09-23T04:57:52.527Z"
   },
   {
    "duration": 4,
    "start_time": "2021-09-23T04:57:52.561Z"
   },
   {
    "duration": 30,
    "start_time": "2021-09-23T04:57:52.569Z"
   },
   {
    "duration": 105,
    "start_time": "2021-09-23T04:57:52.602Z"
   },
   {
    "duration": 8,
    "start_time": "2021-09-23T04:57:52.709Z"
   },
   {
    "duration": 274,
    "start_time": "2021-09-23T04:57:52.719Z"
   },
   {
    "duration": 92,
    "start_time": "2021-09-23T04:57:52.995Z"
   },
   {
    "duration": 41,
    "start_time": "2021-09-23T04:57:53.088Z"
   },
   {
    "duration": 14,
    "start_time": "2021-09-23T04:57:53.131Z"
   },
   {
    "duration": 20,
    "start_time": "2021-09-23T04:57:53.147Z"
   },
   {
    "duration": 36,
    "start_time": "2021-09-23T04:57:53.169Z"
   },
   {
    "duration": 83,
    "start_time": "2021-09-23T04:57:53.206Z"
   },
   {
    "duration": 310,
    "start_time": "2021-09-23T04:57:53.291Z"
   },
   {
    "duration": 264,
    "start_time": "2021-09-23T04:57:53.603Z"
   },
   {
    "duration": -725,
    "start_time": "2021-09-23T04:57:54.594Z"
   },
   {
    "duration": -728,
    "start_time": "2021-09-23T04:57:54.598Z"
   },
   {
    "duration": -732,
    "start_time": "2021-09-23T04:57:54.602Z"
   },
   {
    "duration": -735,
    "start_time": "2021-09-23T04:57:54.606Z"
   },
   {
    "duration": -739,
    "start_time": "2021-09-23T04:57:54.611Z"
   },
   {
    "duration": -742,
    "start_time": "2021-09-23T04:57:54.615Z"
   },
   {
    "duration": -745,
    "start_time": "2021-09-23T04:57:54.619Z"
   },
   {
    "duration": -749,
    "start_time": "2021-09-23T04:57:54.623Z"
   },
   {
    "duration": -752,
    "start_time": "2021-09-23T04:57:54.627Z"
   },
   {
    "duration": -760,
    "start_time": "2021-09-23T04:57:54.636Z"
   },
   {
    "duration": -763,
    "start_time": "2021-09-23T04:57:54.640Z"
   },
   {
    "duration": -768,
    "start_time": "2021-09-23T04:57:54.645Z"
   },
   {
    "duration": -770,
    "start_time": "2021-09-23T04:57:54.648Z"
   },
   {
    "duration": -774,
    "start_time": "2021-09-23T04:57:54.653Z"
   },
   {
    "duration": -778,
    "start_time": "2021-09-23T04:57:54.657Z"
   },
   {
    "duration": -781,
    "start_time": "2021-09-23T04:57:54.661Z"
   },
   {
    "duration": -784,
    "start_time": "2021-09-23T04:57:54.665Z"
   },
   {
    "duration": -788,
    "start_time": "2021-09-23T04:57:54.669Z"
   },
   {
    "duration": -790,
    "start_time": "2021-09-23T04:57:54.672Z"
   },
   {
    "duration": -794,
    "start_time": "2021-09-23T04:57:54.677Z"
   },
   {
    "duration": -797,
    "start_time": "2021-09-23T04:57:54.680Z"
   },
   {
    "duration": -801,
    "start_time": "2021-09-23T04:57:54.685Z"
   },
   {
    "duration": -803,
    "start_time": "2021-09-23T04:57:54.688Z"
   },
   {
    "duration": -806,
    "start_time": "2021-09-23T04:57:54.692Z"
   },
   {
    "duration": -810,
    "start_time": "2021-09-23T04:57:54.696Z"
   },
   {
    "duration": -813,
    "start_time": "2021-09-23T04:57:54.700Z"
   },
   {
    "duration": -817,
    "start_time": "2021-09-23T04:57:54.705Z"
   },
   {
    "duration": -820,
    "start_time": "2021-09-23T04:57:54.709Z"
   },
   {
    "duration": -823,
    "start_time": "2021-09-23T04:57:54.713Z"
   },
   {
    "duration": -827,
    "start_time": "2021-09-23T04:57:54.717Z"
   },
   {
    "duration": 3,
    "start_time": "2021-09-23T04:58:39.419Z"
   },
   {
    "duration": 263,
    "start_time": "2021-09-23T04:58:39.424Z"
   },
   {
    "duration": 227,
    "start_time": "2021-09-23T04:58:39.689Z"
   },
   {
    "duration": 159,
    "start_time": "2021-09-23T04:58:39.918Z"
   },
   {
    "duration": 48,
    "start_time": "2021-09-23T04:58:40.078Z"
   },
   {
    "duration": 9,
    "start_time": "2021-09-23T04:58:40.128Z"
   },
   {
    "duration": 55,
    "start_time": "2021-09-23T04:58:40.139Z"
   },
   {
    "duration": 49,
    "start_time": "2021-09-23T04:58:40.197Z"
   },
   {
    "duration": 215,
    "start_time": "2021-09-23T04:58:40.248Z"
   },
   {
    "duration": 229,
    "start_time": "2021-09-23T04:58:40.465Z"
   },
   {
    "duration": 70,
    "start_time": "2021-09-23T04:58:40.696Z"
   },
   {
    "duration": 86,
    "start_time": "2021-09-23T04:58:40.768Z"
   },
   {
    "duration": 2,
    "start_time": "2021-09-23T04:58:40.856Z"
   },
   {
    "duration": 137,
    "start_time": "2021-09-23T04:58:40.860Z"
   },
   {
    "duration": 24,
    "start_time": "2021-09-23T04:58:40.999Z"
   },
   {
    "duration": 31,
    "start_time": "2021-09-23T04:58:41.025Z"
   },
   {
    "duration": 16,
    "start_time": "2021-09-23T04:58:41.058Z"
   },
   {
    "duration": 4,
    "start_time": "2021-09-23T04:58:41.076Z"
   },
   {
    "duration": 18,
    "start_time": "2021-09-23T04:58:41.084Z"
   },
   {
    "duration": 115,
    "start_time": "2021-09-23T04:58:41.104Z"
   },
   {
    "duration": 9,
    "start_time": "2021-09-23T04:58:41.221Z"
   },
   {
    "duration": 268,
    "start_time": "2021-09-23T04:58:41.231Z"
   },
   {
    "duration": 90,
    "start_time": "2021-09-23T04:58:41.500Z"
   },
   {
    "duration": 52,
    "start_time": "2021-09-23T04:58:41.592Z"
   },
   {
    "duration": 6,
    "start_time": "2021-09-23T04:58:41.646Z"
   },
   {
    "duration": 38,
    "start_time": "2021-09-23T04:58:41.653Z"
   },
   {
    "duration": 33,
    "start_time": "2021-09-23T04:58:41.693Z"
   },
   {
    "duration": 63,
    "start_time": "2021-09-23T04:58:41.728Z"
   },
   {
    "duration": 289,
    "start_time": "2021-09-23T04:58:41.793Z"
   },
   {
    "duration": 255,
    "start_time": "2021-09-23T04:58:42.084Z"
   },
   {
    "duration": -724,
    "start_time": "2021-09-23T04:58:43.065Z"
   },
   {
    "duration": -728,
    "start_time": "2021-09-23T04:58:43.070Z"
   },
   {
    "duration": -730,
    "start_time": "2021-09-23T04:58:43.073Z"
   },
   {
    "duration": -734,
    "start_time": "2021-09-23T04:58:43.078Z"
   },
   {
    "duration": -737,
    "start_time": "2021-09-23T04:58:43.082Z"
   },
   {
    "duration": -746,
    "start_time": "2021-09-23T04:58:43.092Z"
   },
   {
    "duration": -749,
    "start_time": "2021-09-23T04:58:43.096Z"
   },
   {
    "duration": -753,
    "start_time": "2021-09-23T04:58:43.101Z"
   },
   {
    "duration": -756,
    "start_time": "2021-09-23T04:58:43.105Z"
   },
   {
    "duration": -760,
    "start_time": "2021-09-23T04:58:43.110Z"
   },
   {
    "duration": -762,
    "start_time": "2021-09-23T04:58:43.113Z"
   },
   {
    "duration": -766,
    "start_time": "2021-09-23T04:58:43.117Z"
   },
   {
    "duration": -769,
    "start_time": "2021-09-23T04:58:43.121Z"
   },
   {
    "duration": -772,
    "start_time": "2021-09-23T04:58:43.125Z"
   },
   {
    "duration": -775,
    "start_time": "2021-09-23T04:58:43.129Z"
   },
   {
    "duration": -779,
    "start_time": "2021-09-23T04:58:43.134Z"
   },
   {
    "duration": -781,
    "start_time": "2021-09-23T04:58:43.137Z"
   },
   {
    "duration": -784,
    "start_time": "2021-09-23T04:58:43.141Z"
   },
   {
    "duration": -788,
    "start_time": "2021-09-23T04:58:43.145Z"
   },
   {
    "duration": -790,
    "start_time": "2021-09-23T04:58:43.149Z"
   },
   {
    "duration": -793,
    "start_time": "2021-09-23T04:58:43.153Z"
   },
   {
    "duration": -796,
    "start_time": "2021-09-23T04:58:43.157Z"
   },
   {
    "duration": -799,
    "start_time": "2021-09-23T04:58:43.161Z"
   },
   {
    "duration": -802,
    "start_time": "2021-09-23T04:58:43.165Z"
   },
   {
    "duration": -805,
    "start_time": "2021-09-23T04:58:43.169Z"
   },
   {
    "duration": -808,
    "start_time": "2021-09-23T04:58:43.173Z"
   },
   {
    "duration": -810,
    "start_time": "2021-09-23T04:58:43.176Z"
   },
   {
    "duration": -814,
    "start_time": "2021-09-23T04:58:43.181Z"
   },
   {
    "duration": -816,
    "start_time": "2021-09-23T04:58:43.184Z"
   },
   {
    "duration": -821,
    "start_time": "2021-09-23T04:58:43.189Z"
   },
   {
    "duration": 3,
    "start_time": "2021-09-23T04:59:10.251Z"
   },
   {
    "duration": 237,
    "start_time": "2021-09-23T04:59:10.256Z"
   },
   {
    "duration": 198,
    "start_time": "2021-09-23T04:59:10.494Z"
   },
   {
    "duration": 225,
    "start_time": "2021-09-23T04:59:10.693Z"
   },
   {
    "duration": 43,
    "start_time": "2021-09-23T04:59:10.920Z"
   },
   {
    "duration": 9,
    "start_time": "2021-09-23T04:59:10.964Z"
   },
   {
    "duration": 50,
    "start_time": "2021-09-23T04:59:10.975Z"
   },
   {
    "duration": 51,
    "start_time": "2021-09-23T04:59:11.027Z"
   },
   {
    "duration": 225,
    "start_time": "2021-09-23T04:59:11.081Z"
   },
   {
    "duration": 232,
    "start_time": "2021-09-23T04:59:11.309Z"
   },
   {
    "duration": 64,
    "start_time": "2021-09-23T04:59:11.545Z"
   },
   {
    "duration": 100,
    "start_time": "2021-09-23T04:59:11.611Z"
   },
   {
    "duration": 3,
    "start_time": "2021-09-23T04:59:11.713Z"
   },
   {
    "duration": 144,
    "start_time": "2021-09-23T04:59:11.718Z"
   },
   {
    "duration": 25,
    "start_time": "2021-09-23T04:59:11.864Z"
   },
   {
    "duration": 21,
    "start_time": "2021-09-23T04:59:11.891Z"
   },
   {
    "duration": 39,
    "start_time": "2021-09-23T04:59:11.914Z"
   },
   {
    "duration": 6,
    "start_time": "2021-09-23T04:59:11.954Z"
   },
   {
    "duration": 19,
    "start_time": "2021-09-23T04:59:11.961Z"
   },
   {
    "duration": 119,
    "start_time": "2021-09-23T04:59:11.982Z"
   },
   {
    "duration": 9,
    "start_time": "2021-09-23T04:59:12.103Z"
   },
   {
    "duration": 281,
    "start_time": "2021-09-23T04:59:12.114Z"
   },
   {
    "duration": 96,
    "start_time": "2021-09-23T04:59:12.397Z"
   },
   {
    "duration": 58,
    "start_time": "2021-09-23T04:59:12.495Z"
   },
   {
    "duration": 7,
    "start_time": "2021-09-23T04:59:12.555Z"
   },
   {
    "duration": 20,
    "start_time": "2021-09-23T04:59:12.563Z"
   },
   {
    "duration": 58,
    "start_time": "2021-09-23T04:59:12.588Z"
   },
   {
    "duration": 56,
    "start_time": "2021-09-23T04:59:12.649Z"
   },
   {
    "duration": 292,
    "start_time": "2021-09-23T04:59:12.707Z"
   },
   {
    "duration": 47,
    "start_time": "2021-09-23T04:59:13.001Z"
   },
   {
    "duration": 274,
    "start_time": "2021-09-23T04:59:13.050Z"
   },
   {
    "duration": -806,
    "start_time": "2021-09-23T04:59:14.132Z"
   },
   {
    "duration": -809,
    "start_time": "2021-09-23T04:59:14.137Z"
   },
   {
    "duration": -812,
    "start_time": "2021-09-23T04:59:14.141Z"
   },
   {
    "duration": -814,
    "start_time": "2021-09-23T04:59:14.145Z"
   },
   {
    "duration": -816,
    "start_time": "2021-09-23T04:59:14.148Z"
   },
   {
    "duration": -819,
    "start_time": "2021-09-23T04:59:14.153Z"
   },
   {
    "duration": -822,
    "start_time": "2021-09-23T04:59:14.157Z"
   },
   {
    "duration": -825,
    "start_time": "2021-09-23T04:59:14.161Z"
   },
   {
    "duration": -826,
    "start_time": "2021-09-23T04:59:14.164Z"
   },
   {
    "duration": -830,
    "start_time": "2021-09-23T04:59:14.169Z"
   },
   {
    "duration": -832,
    "start_time": "2021-09-23T04:59:14.173Z"
   },
   {
    "duration": -835,
    "start_time": "2021-09-23T04:59:14.177Z"
   },
   {
    "duration": -837,
    "start_time": "2021-09-23T04:59:14.181Z"
   },
   {
    "duration": -840,
    "start_time": "2021-09-23T04:59:14.185Z"
   },
   {
    "duration": -843,
    "start_time": "2021-09-23T04:59:14.189Z"
   },
   {
    "duration": -845,
    "start_time": "2021-09-23T04:59:14.193Z"
   },
   {
    "duration": -848,
    "start_time": "2021-09-23T04:59:14.197Z"
   },
   {
    "duration": -851,
    "start_time": "2021-09-23T04:59:14.201Z"
   },
   {
    "duration": -854,
    "start_time": "2021-09-23T04:59:14.205Z"
   },
   {
    "duration": -857,
    "start_time": "2021-09-23T04:59:14.209Z"
   },
   {
    "duration": -859,
    "start_time": "2021-09-23T04:59:14.212Z"
   },
   {
    "duration": -862,
    "start_time": "2021-09-23T04:59:14.216Z"
   },
   {
    "duration": -866,
    "start_time": "2021-09-23T04:59:14.220Z"
   },
   {
    "duration": -869,
    "start_time": "2021-09-23T04:59:14.224Z"
   },
   {
    "duration": -878,
    "start_time": "2021-09-23T04:59:14.234Z"
   },
   {
    "duration": -882,
    "start_time": "2021-09-23T04:59:14.239Z"
   },
   {
    "duration": -884,
    "start_time": "2021-09-23T04:59:14.242Z"
   },
   {
    "duration": -887,
    "start_time": "2021-09-23T04:59:14.246Z"
   },
   {
    "duration": 77,
    "start_time": "2021-09-23T04:59:44.440Z"
   },
   {
    "duration": 330,
    "start_time": "2021-09-23T04:59:49.876Z"
   },
   {
    "duration": 41,
    "start_time": "2021-09-23T04:59:54.674Z"
   },
   {
    "duration": 297,
    "start_time": "2021-09-23T04:59:57.419Z"
   },
   {
    "duration": 925,
    "start_time": "2021-09-23T05:00:35.020Z"
   },
   {
    "duration": 309,
    "start_time": "2021-09-23T05:00:42.261Z"
   },
   {
    "duration": 264,
    "start_time": "2021-09-23T05:01:38.840Z"
   },
   {
    "duration": 6782,
    "start_time": "2021-09-23T05:01:49.860Z"
   },
   {
    "duration": 55,
    "start_time": "2021-09-23T05:01:57.489Z"
   },
   {
    "duration": 38,
    "start_time": "2021-09-23T05:02:02.584Z"
   },
   {
    "duration": 10,
    "start_time": "2021-09-23T05:02:05.183Z"
   },
   {
    "duration": 44,
    "start_time": "2021-09-23T05:02:23.058Z"
   },
   {
    "duration": 69,
    "start_time": "2021-09-23T05:02:26.036Z"
   },
   {
    "duration": 13,
    "start_time": "2021-09-23T05:02:29.409Z"
   },
   {
    "duration": 281,
    "start_time": "2021-09-23T05:02:33.977Z"
   },
   {
    "duration": 21,
    "start_time": "2021-09-23T05:02:51.794Z"
   },
   {
    "duration": 15,
    "start_time": "2021-09-23T05:02:55.918Z"
   },
   {
    "duration": 34,
    "start_time": "2021-09-23T05:02:58.539Z"
   },
   {
    "duration": 40,
    "start_time": "2021-09-23T05:03:01.077Z"
   },
   {
    "duration": 6,
    "start_time": "2021-09-23T05:03:03.725Z"
   },
   {
    "duration": 16,
    "start_time": "2021-09-23T05:03:08.595Z"
   },
   {
    "duration": 4,
    "start_time": "2021-09-23T05:03:11.014Z"
   },
   {
    "duration": 25,
    "start_time": "2021-09-23T05:03:14.057Z"
   },
   {
    "duration": 5,
    "start_time": "2021-09-23T05:03:17.006Z"
   },
   {
    "duration": 49,
    "start_time": "2021-09-23T05:03:20.879Z"
   },
   {
    "duration": 306,
    "start_time": "2021-09-23T05:03:24.503Z"
   },
   {
    "duration": 243,
    "start_time": "2021-09-23T05:03:29.565Z"
   },
   {
    "duration": 27,
    "start_time": "2021-09-23T05:03:32.590Z"
   },
   {
    "duration": 890,
    "start_time": "2021-09-23T05:03:35.472Z"
   },
   {
    "duration": 289,
    "start_time": "2021-09-23T05:03:39.924Z"
   },
   {
    "duration": 237,
    "start_time": "2021-09-23T05:03:43.589Z"
   },
   {
    "duration": 342,
    "start_time": "2021-09-23T05:03:47.429Z"
   },
   {
    "duration": 1178,
    "start_time": "2021-09-23T18:32:16.492Z"
   },
   {
    "duration": 316,
    "start_time": "2021-09-23T18:32:17.672Z"
   },
   {
    "duration": 327,
    "start_time": "2021-09-23T18:32:17.990Z"
   },
   {
    "duration": 377,
    "start_time": "2021-09-23T18:32:18.319Z"
   },
   {
    "duration": 95,
    "start_time": "2021-09-23T18:32:18.698Z"
   },
   {
    "duration": 8,
    "start_time": "2021-09-23T18:32:18.795Z"
   },
   {
    "duration": 106,
    "start_time": "2021-09-23T18:32:18.805Z"
   },
   {
    "duration": 51,
    "start_time": "2021-09-23T18:32:18.913Z"
   },
   {
    "duration": 211,
    "start_time": "2021-09-23T18:32:18.966Z"
   },
   {
    "duration": 236,
    "start_time": "2021-09-23T18:32:19.179Z"
   },
   {
    "duration": 76,
    "start_time": "2021-09-23T18:32:19.416Z"
   },
   {
    "duration": 98,
    "start_time": "2021-09-23T18:32:19.493Z"
   },
   {
    "duration": 3,
    "start_time": "2021-09-23T18:32:19.592Z"
   },
   {
    "duration": 157,
    "start_time": "2021-09-23T18:32:19.596Z"
   },
   {
    "duration": 30,
    "start_time": "2021-09-23T18:32:19.755Z"
   },
   {
    "duration": 21,
    "start_time": "2021-09-23T18:32:19.786Z"
   },
   {
    "duration": 18,
    "start_time": "2021-09-23T18:32:19.808Z"
   },
   {
    "duration": 4,
    "start_time": "2021-09-23T18:32:19.828Z"
   },
   {
    "duration": 44,
    "start_time": "2021-09-23T18:32:19.834Z"
   },
   {
    "duration": 120,
    "start_time": "2021-09-23T18:32:19.880Z"
   },
   {
    "duration": 8,
    "start_time": "2021-09-23T18:32:20.002Z"
   },
   {
    "duration": 285,
    "start_time": "2021-09-23T18:32:20.012Z"
   },
   {
    "duration": 87,
    "start_time": "2021-09-23T18:32:20.301Z"
   },
   {
    "duration": 48,
    "start_time": "2021-09-23T18:32:20.390Z"
   },
   {
    "duration": 6,
    "start_time": "2021-09-23T18:32:20.439Z"
   },
   {
    "duration": 41,
    "start_time": "2021-09-23T18:32:20.446Z"
   },
   {
    "duration": 35,
    "start_time": "2021-09-23T18:32:20.489Z"
   },
   {
    "duration": 74,
    "start_time": "2021-09-23T18:32:20.526Z"
   },
   {
    "duration": 374,
    "start_time": "2021-09-23T18:32:20.601Z"
   },
   {
    "duration": 36,
    "start_time": "2021-09-23T18:32:20.976Z"
   },
   {
    "duration": 11,
    "start_time": "2021-09-23T18:32:21.014Z"
   },
   {
    "duration": 53,
    "start_time": "2021-09-23T18:32:21.027Z"
   },
   {
    "duration": 63,
    "start_time": "2021-09-23T18:32:21.082Z"
   },
   {
    "duration": 90,
    "start_time": "2021-09-23T18:32:21.147Z"
   },
   {
    "duration": 11,
    "start_time": "2021-09-23T18:32:21.239Z"
   },
   {
    "duration": 37,
    "start_time": "2021-09-23T18:32:21.252Z"
   },
   {
    "duration": 15,
    "start_time": "2021-09-23T18:32:21.291Z"
   },
   {
    "duration": 37,
    "start_time": "2021-09-23T18:32:21.308Z"
   },
   {
    "duration": 61,
    "start_time": "2021-09-23T18:32:21.347Z"
   },
   {
    "duration": 5,
    "start_time": "2021-09-23T18:32:21.410Z"
   },
   {
    "duration": 7,
    "start_time": "2021-09-23T18:32:21.416Z"
   },
   {
    "duration": 7,
    "start_time": "2021-09-23T18:32:21.424Z"
   },
   {
    "duration": 19,
    "start_time": "2021-09-23T18:32:21.433Z"
   },
   {
    "duration": 12,
    "start_time": "2021-09-23T18:32:21.454Z"
   },
   {
    "duration": 7,
    "start_time": "2021-09-23T18:32:21.467Z"
   },
   {
    "duration": 18,
    "start_time": "2021-09-23T18:32:21.475Z"
   },
   {
    "duration": 4,
    "start_time": "2021-09-23T18:32:21.495Z"
   },
   {
    "duration": 25,
    "start_time": "2021-09-23T18:32:21.500Z"
   },
   {
    "duration": 4,
    "start_time": "2021-09-23T18:32:21.527Z"
   },
   {
    "duration": 72,
    "start_time": "2021-09-23T18:32:21.532Z"
   },
   {
    "duration": 331,
    "start_time": "2021-09-23T18:32:21.606Z"
   },
   {
    "duration": 278,
    "start_time": "2021-09-23T18:32:21.939Z"
   },
   {
    "duration": 28,
    "start_time": "2021-09-23T18:32:22.219Z"
   },
   {
    "duration": 941,
    "start_time": "2021-09-23T18:32:22.248Z"
   },
   {
    "duration": 310,
    "start_time": "2021-09-23T18:32:23.191Z"
   },
   {
    "duration": 260,
    "start_time": "2021-09-23T18:32:23.503Z"
   },
   {
    "duration": 291,
    "start_time": "2021-09-23T18:32:23.765Z"
   },
   {
    "duration": 1191,
    "start_time": "2021-09-23T18:43:26.598Z"
   },
   {
    "duration": 343,
    "start_time": "2021-09-23T18:43:27.791Z"
   },
   {
    "duration": 264,
    "start_time": "2021-09-23T18:43:28.137Z"
   },
   {
    "duration": 336,
    "start_time": "2021-09-23T18:43:28.402Z"
   },
   {
    "duration": 58,
    "start_time": "2021-09-23T18:43:28.740Z"
   },
   {
    "duration": 10,
    "start_time": "2021-09-23T18:43:28.800Z"
   },
   {
    "duration": 83,
    "start_time": "2021-09-23T18:43:28.812Z"
   },
   {
    "duration": 53,
    "start_time": "2021-09-23T18:43:28.898Z"
   },
   {
    "duration": 232,
    "start_time": "2021-09-23T18:43:28.954Z"
   },
   {
    "duration": 244,
    "start_time": "2021-09-23T18:43:29.188Z"
   },
   {
    "duration": 85,
    "start_time": "2021-09-23T18:43:29.434Z"
   },
   {
    "duration": 104,
    "start_time": "2021-09-23T18:43:29.521Z"
   },
   {
    "duration": 2,
    "start_time": "2021-09-23T18:43:29.627Z"
   },
   {
    "duration": 160,
    "start_time": "2021-09-23T18:43:29.631Z"
   },
   {
    "duration": 26,
    "start_time": "2021-09-23T18:43:29.792Z"
   },
   {
    "duration": 20,
    "start_time": "2021-09-23T18:43:29.820Z"
   },
   {
    "duration": 43,
    "start_time": "2021-09-23T18:43:29.841Z"
   },
   {
    "duration": 4,
    "start_time": "2021-09-23T18:43:29.885Z"
   },
   {
    "duration": 27,
    "start_time": "2021-09-23T18:43:29.891Z"
   },
   {
    "duration": 131,
    "start_time": "2021-09-23T18:43:29.920Z"
   },
   {
    "duration": 9,
    "start_time": "2021-09-23T18:43:30.053Z"
   },
   {
    "duration": 301,
    "start_time": "2021-09-23T18:43:30.064Z"
   },
   {
    "duration": 83,
    "start_time": "2021-09-23T18:43:30.369Z"
   },
   {
    "duration": 63,
    "start_time": "2021-09-23T18:43:30.455Z"
   },
   {
    "duration": 6,
    "start_time": "2021-09-23T18:43:30.520Z"
   },
   {
    "duration": 39,
    "start_time": "2021-09-23T18:43:30.528Z"
   },
   {
    "duration": 45,
    "start_time": "2021-09-23T18:43:30.569Z"
   },
   {
    "duration": 110,
    "start_time": "2021-09-23T18:43:30.616Z"
   },
   {
    "duration": 485,
    "start_time": "2021-09-23T18:43:30.729Z"
   },
   {
    "duration": 38,
    "start_time": "2021-09-23T18:43:31.215Z"
   },
   {
    "duration": 23,
    "start_time": "2021-09-23T18:43:31.255Z"
   },
   {
    "duration": 45,
    "start_time": "2021-09-23T18:43:31.279Z"
   },
   {
    "duration": 68,
    "start_time": "2021-09-23T18:43:31.326Z"
   },
   {
    "duration": 68,
    "start_time": "2021-09-23T18:43:31.395Z"
   },
   {
    "duration": 14,
    "start_time": "2021-09-23T18:43:31.465Z"
   },
   {
    "duration": 34,
    "start_time": "2021-09-23T18:43:31.481Z"
   },
   {
    "duration": 24,
    "start_time": "2021-09-23T18:43:31.517Z"
   },
   {
    "duration": 48,
    "start_time": "2021-09-23T18:43:31.543Z"
   },
   {
    "duration": 37,
    "start_time": "2021-09-23T18:43:31.593Z"
   },
   {
    "duration": 6,
    "start_time": "2021-09-23T18:43:31.631Z"
   },
   {
    "duration": 549,
    "start_time": "2021-09-23T18:43:31.638Z"
   },
   {
    "duration": 2,
    "start_time": "2021-09-23T18:43:32.188Z"
   },
   {
    "duration": 26,
    "start_time": "2021-09-23T18:43:32.192Z"
   },
   {
    "duration": 14,
    "start_time": "2021-09-23T18:43:32.220Z"
   },
   {
    "duration": 21,
    "start_time": "2021-09-23T18:43:32.236Z"
   },
   {
    "duration": 32,
    "start_time": "2021-09-23T18:43:32.259Z"
   },
   {
    "duration": 7,
    "start_time": "2021-09-23T18:43:32.293Z"
   },
   {
    "duration": 39,
    "start_time": "2021-09-23T18:43:32.302Z"
   },
   {
    "duration": 5,
    "start_time": "2021-09-23T18:43:32.343Z"
   },
   {
    "duration": 69,
    "start_time": "2021-09-23T18:43:32.349Z"
   },
   {
    "duration": 329,
    "start_time": "2021-09-23T18:43:32.420Z"
   },
   {
    "duration": 289,
    "start_time": "2021-09-23T18:43:32.751Z"
   },
   {
    "duration": 45,
    "start_time": "2021-09-23T18:43:33.042Z"
   },
   {
    "duration": 896,
    "start_time": "2021-09-23T18:43:33.089Z"
   },
   {
    "duration": 316,
    "start_time": "2021-09-23T18:43:33.987Z"
   },
   {
    "duration": 261,
    "start_time": "2021-09-23T18:43:34.304Z"
   },
   {
    "duration": 298,
    "start_time": "2021-09-23T18:43:34.567Z"
   },
   {
    "duration": 1107,
    "start_time": "2021-09-23T18:45:53.423Z"
   },
   {
    "duration": 319,
    "start_time": "2021-09-23T18:45:54.532Z"
   },
   {
    "duration": 263,
    "start_time": "2021-09-23T18:45:54.854Z"
   },
   {
    "duration": 1253,
    "start_time": "2021-09-23T18:45:55.119Z"
   },
   {
    "duration": 58,
    "start_time": "2021-09-23T18:45:56.374Z"
   },
   {
    "duration": 10,
    "start_time": "2021-09-23T18:45:56.434Z"
   },
   {
    "duration": 70,
    "start_time": "2021-09-23T18:45:56.446Z"
   },
   {
    "duration": 52,
    "start_time": "2021-09-23T18:45:56.519Z"
   },
   {
    "duration": 213,
    "start_time": "2021-09-23T18:45:56.573Z"
   },
   {
    "duration": 229,
    "start_time": "2021-09-23T18:45:56.788Z"
   },
   {
    "duration": 88,
    "start_time": "2021-09-23T18:45:57.019Z"
   },
   {
    "duration": 113,
    "start_time": "2021-09-23T18:45:57.109Z"
   },
   {
    "duration": 2,
    "start_time": "2021-09-23T18:45:57.224Z"
   },
   {
    "duration": 186,
    "start_time": "2021-09-23T18:45:57.228Z"
   },
   {
    "duration": 26,
    "start_time": "2021-09-23T18:45:57.416Z"
   },
   {
    "duration": 33,
    "start_time": "2021-09-23T18:45:57.443Z"
   },
   {
    "duration": 19,
    "start_time": "2021-09-23T18:45:57.478Z"
   },
   {
    "duration": 5,
    "start_time": "2021-09-23T18:45:57.498Z"
   },
   {
    "duration": 25,
    "start_time": "2021-09-23T18:45:57.504Z"
   },
   {
    "duration": 131,
    "start_time": "2021-09-23T18:45:57.530Z"
   },
   {
    "duration": 14,
    "start_time": "2021-09-23T18:45:57.663Z"
   },
   {
    "duration": 271,
    "start_time": "2021-09-23T18:45:57.679Z"
   },
   {
    "duration": 85,
    "start_time": "2021-09-23T18:45:57.954Z"
   },
   {
    "duration": 55,
    "start_time": "2021-09-23T18:45:58.041Z"
   },
   {
    "duration": 5,
    "start_time": "2021-09-23T18:45:58.098Z"
   },
   {
    "duration": 29,
    "start_time": "2021-09-23T18:45:58.105Z"
   },
   {
    "duration": 47,
    "start_time": "2021-09-23T18:45:58.135Z"
   },
   {
    "duration": 60,
    "start_time": "2021-09-23T18:45:58.184Z"
   },
   {
    "duration": 363,
    "start_time": "2021-09-23T18:45:58.246Z"
   },
   {
    "duration": 35,
    "start_time": "2021-09-23T18:45:58.611Z"
   },
   {
    "duration": 9,
    "start_time": "2021-09-23T18:45:58.648Z"
   },
   {
    "duration": 39,
    "start_time": "2021-09-23T18:45:58.659Z"
   },
   {
    "duration": 83,
    "start_time": "2021-09-23T18:45:58.700Z"
   },
   {
    "duration": 67,
    "start_time": "2021-09-23T18:45:58.785Z"
   },
   {
    "duration": 24,
    "start_time": "2021-09-23T18:45:58.854Z"
   },
   {
    "duration": 22,
    "start_time": "2021-09-23T18:45:58.880Z"
   },
   {
    "duration": 20,
    "start_time": "2021-09-23T18:45:58.904Z"
   },
   {
    "duration": 62,
    "start_time": "2021-09-23T18:45:58.926Z"
   },
   {
    "duration": 35,
    "start_time": "2021-09-23T18:45:58.990Z"
   },
   {
    "duration": 5,
    "start_time": "2021-09-23T18:45:59.027Z"
   },
   {
    "duration": 386,
    "start_time": "2021-09-23T18:45:59.034Z"
   },
   {
    "duration": 2,
    "start_time": "2021-09-23T18:45:59.422Z"
   },
   {
    "duration": 17,
    "start_time": "2021-09-23T18:45:59.426Z"
   },
   {
    "duration": 13,
    "start_time": "2021-09-23T18:45:59.445Z"
   },
   {
    "duration": 12,
    "start_time": "2021-09-23T18:45:59.460Z"
   },
   {
    "duration": 35,
    "start_time": "2021-09-23T18:45:59.474Z"
   },
   {
    "duration": 13,
    "start_time": "2021-09-23T18:45:59.510Z"
   },
   {
    "duration": 28,
    "start_time": "2021-09-23T18:45:59.525Z"
   },
   {
    "duration": 5,
    "start_time": "2021-09-23T18:45:59.555Z"
   },
   {
    "duration": 63,
    "start_time": "2021-09-23T18:45:59.562Z"
   },
   {
    "duration": 326,
    "start_time": "2021-09-23T18:45:59.627Z"
   },
   {
    "duration": 293,
    "start_time": "2021-09-23T18:45:59.955Z"
   },
   {
    "duration": 44,
    "start_time": "2021-09-23T18:46:00.250Z"
   },
   {
    "duration": 926,
    "start_time": "2021-09-23T18:46:00.296Z"
   },
   {
    "duration": 324,
    "start_time": "2021-09-23T18:46:01.225Z"
   },
   {
    "duration": 273,
    "start_time": "2021-09-23T18:46:01.552Z"
   },
   {
    "duration": 307,
    "start_time": "2021-09-23T18:46:01.828Z"
   },
   {
    "duration": 577,
    "start_time": "2021-09-23T18:46:02.138Z"
   },
   {
    "duration": -1329,
    "start_time": "2021-09-23T18:46:04.046Z"
   },
   {
    "duration": -1343,
    "start_time": "2021-09-23T18:46:04.061Z"
   },
   {
    "duration": 2,
    "start_time": "2021-09-23T18:47:49.765Z"
   },
   {
    "duration": 2706,
    "start_time": "2021-09-23T18:47:58.357Z"
   },
   {
    "duration": 21,
    "start_time": "2021-09-23T18:48:44.169Z"
   },
   {
    "duration": 1136,
    "start_time": "2021-09-23T18:54:20.812Z"
   },
   {
    "duration": 312,
    "start_time": "2021-09-23T18:54:21.950Z"
   },
   {
    "duration": 310,
    "start_time": "2021-09-23T18:54:22.264Z"
   },
   {
    "duration": 268,
    "start_time": "2021-09-23T18:54:22.576Z"
   },
   {
    "duration": 65,
    "start_time": "2021-09-23T18:54:22.847Z"
   },
   {
    "duration": 11,
    "start_time": "2021-09-23T18:54:22.915Z"
   },
   {
    "duration": 72,
    "start_time": "2021-09-23T18:54:22.928Z"
   },
   {
    "duration": 51,
    "start_time": "2021-09-23T18:54:23.002Z"
   },
   {
    "duration": 265,
    "start_time": "2021-09-23T18:54:23.055Z"
   },
   {
    "duration": 256,
    "start_time": "2021-09-23T18:54:23.321Z"
   },
   {
    "duration": 76,
    "start_time": "2021-09-23T18:54:23.579Z"
   },
   {
    "duration": 102,
    "start_time": "2021-09-23T18:54:23.657Z"
   },
   {
    "duration": 3,
    "start_time": "2021-09-23T18:54:23.760Z"
   },
   {
    "duration": 170,
    "start_time": "2021-09-23T18:54:23.777Z"
   },
   {
    "duration": 31,
    "start_time": "2021-09-23T18:54:23.948Z"
   },
   {
    "duration": 21,
    "start_time": "2021-09-23T18:54:23.981Z"
   },
   {
    "duration": 18,
    "start_time": "2021-09-23T18:54:24.003Z"
   },
   {
    "duration": 4,
    "start_time": "2021-09-23T18:54:24.023Z"
   },
   {
    "duration": 48,
    "start_time": "2021-09-23T18:54:24.029Z"
   },
   {
    "duration": 121,
    "start_time": "2021-09-23T18:54:24.079Z"
   },
   {
    "duration": 10,
    "start_time": "2021-09-23T18:54:24.202Z"
   },
   {
    "duration": 301,
    "start_time": "2021-09-23T18:54:24.214Z"
   },
   {
    "duration": 87,
    "start_time": "2021-09-23T18:54:24.520Z"
   },
   {
    "duration": 50,
    "start_time": "2021-09-23T18:54:24.609Z"
   },
   {
    "duration": 16,
    "start_time": "2021-09-23T18:54:24.661Z"
   },
   {
    "duration": 20,
    "start_time": "2021-09-23T18:54:24.679Z"
   },
   {
    "duration": 35,
    "start_time": "2021-09-23T18:54:24.701Z"
   },
   {
    "duration": 87,
    "start_time": "2021-09-23T18:54:24.738Z"
   },
   {
    "duration": 423,
    "start_time": "2021-09-23T18:54:24.827Z"
   },
   {
    "duration": 42,
    "start_time": "2021-09-23T18:54:25.252Z"
   },
   {
    "duration": 10,
    "start_time": "2021-09-23T18:54:25.296Z"
   },
   {
    "duration": 27,
    "start_time": "2021-09-23T18:54:25.307Z"
   },
   {
    "duration": 92,
    "start_time": "2021-09-23T18:54:25.336Z"
   },
   {
    "duration": 76,
    "start_time": "2021-09-23T18:54:25.430Z"
   },
   {
    "duration": 11,
    "start_time": "2021-09-23T18:54:25.507Z"
   },
   {
    "duration": 20,
    "start_time": "2021-09-23T18:54:25.519Z"
   },
   {
    "duration": 40,
    "start_time": "2021-09-23T18:54:25.541Z"
   },
   {
    "duration": 36,
    "start_time": "2021-09-23T18:54:25.583Z"
   },
   {
    "duration": 56,
    "start_time": "2021-09-23T18:54:25.621Z"
   },
   {
    "duration": 5,
    "start_time": "2021-09-23T18:54:25.679Z"
   },
   {
    "duration": 14,
    "start_time": "2021-09-23T18:54:25.686Z"
   },
   {
    "duration": 3,
    "start_time": "2021-09-23T18:54:25.702Z"
   },
   {
    "duration": 6,
    "start_time": "2021-09-23T18:54:25.706Z"
   },
   {
    "duration": 4,
    "start_time": "2021-09-23T18:54:25.714Z"
   },
   {
    "duration": 12,
    "start_time": "2021-09-23T18:54:25.719Z"
   },
   {
    "duration": 4,
    "start_time": "2021-09-23T18:54:25.733Z"
   },
   {
    "duration": 16,
    "start_time": "2021-09-23T18:54:25.739Z"
   },
   {
    "duration": 4,
    "start_time": "2021-09-23T18:54:25.777Z"
   },
   {
    "duration": 25,
    "start_time": "2021-09-23T18:54:25.783Z"
   },
   {
    "duration": 5,
    "start_time": "2021-09-23T18:54:25.809Z"
   },
   {
    "duration": 73,
    "start_time": "2021-09-23T18:54:25.816Z"
   },
   {
    "duration": 334,
    "start_time": "2021-09-23T18:54:25.891Z"
   },
   {
    "duration": 290,
    "start_time": "2021-09-23T18:54:26.227Z"
   },
   {
    "duration": 28,
    "start_time": "2021-09-23T18:54:26.519Z"
   },
   {
    "duration": 942,
    "start_time": "2021-09-23T18:54:26.549Z"
   },
   {
    "duration": 309,
    "start_time": "2021-09-23T18:54:27.493Z"
   },
   {
    "duration": 267,
    "start_time": "2021-09-23T18:54:27.804Z"
   },
   {
    "duration": 304,
    "start_time": "2021-09-23T18:54:28.076Z"
   },
   {
    "duration": 348,
    "start_time": "2021-09-23T18:54:28.382Z"
   },
   {
    "duration": -1540,
    "start_time": "2021-09-23T18:54:30.272Z"
   },
   {
    "duration": -1552,
    "start_time": "2021-09-23T18:54:30.285Z"
   },
   {
    "duration": 20,
    "start_time": "2021-09-23T18:58:36.329Z"
   },
   {
    "duration": 4,
    "start_time": "2021-09-23T18:58:48.004Z"
   },
   {
    "duration": 1140,
    "start_time": "2021-09-23T18:59:04.099Z"
   },
   {
    "duration": 325,
    "start_time": "2021-09-23T18:59:05.241Z"
   },
   {
    "duration": 369,
    "start_time": "2021-09-23T18:59:05.568Z"
   },
   {
    "duration": 1938,
    "start_time": "2021-09-23T18:59:05.939Z"
   },
   {
    "duration": 61,
    "start_time": "2021-09-23T18:59:07.878Z"
   },
   {
    "duration": 9,
    "start_time": "2021-09-23T18:59:07.940Z"
   },
   {
    "duration": 144,
    "start_time": "2021-09-23T18:59:07.951Z"
   },
   {
    "duration": 52,
    "start_time": "2021-09-23T18:59:08.097Z"
   },
   {
    "duration": 240,
    "start_time": "2021-09-23T18:59:08.151Z"
   },
   {
    "duration": 246,
    "start_time": "2021-09-23T18:59:08.393Z"
   },
   {
    "duration": 91,
    "start_time": "2021-09-23T18:59:08.641Z"
   },
   {
    "duration": 94,
    "start_time": "2021-09-23T18:59:08.734Z"
   },
   {
    "duration": 3,
    "start_time": "2021-09-23T18:59:08.830Z"
   },
   {
    "duration": 166,
    "start_time": "2021-09-23T18:59:08.835Z"
   },
   {
    "duration": 26,
    "start_time": "2021-09-23T18:59:09.003Z"
   },
   {
    "duration": 25,
    "start_time": "2021-09-23T18:59:09.030Z"
   },
   {
    "duration": 32,
    "start_time": "2021-09-23T18:59:09.057Z"
   },
   {
    "duration": 4,
    "start_time": "2021-09-23T18:59:09.091Z"
   },
   {
    "duration": 61,
    "start_time": "2021-09-23T18:59:09.097Z"
   },
   {
    "duration": 129,
    "start_time": "2021-09-23T18:59:09.160Z"
   },
   {
    "duration": 10,
    "start_time": "2021-09-23T18:59:09.290Z"
   },
   {
    "duration": 304,
    "start_time": "2021-09-23T18:59:09.302Z"
   },
   {
    "duration": 88,
    "start_time": "2021-09-23T18:59:09.609Z"
   },
   {
    "duration": 47,
    "start_time": "2021-09-23T18:59:09.700Z"
   },
   {
    "duration": 6,
    "start_time": "2021-09-23T18:59:09.749Z"
   },
   {
    "duration": 34,
    "start_time": "2021-09-23T18:59:09.757Z"
   },
   {
    "duration": 37,
    "start_time": "2021-09-23T18:59:09.793Z"
   },
   {
    "duration": 78,
    "start_time": "2021-09-23T18:59:09.832Z"
   },
   {
    "duration": 358,
    "start_time": "2021-09-23T18:59:09.912Z"
   },
   {
    "duration": 38,
    "start_time": "2021-09-23T18:59:10.272Z"
   },
   {
    "duration": 10,
    "start_time": "2021-09-23T18:59:10.312Z"
   },
   {
    "duration": 36,
    "start_time": "2021-09-23T18:59:10.324Z"
   },
   {
    "duration": 79,
    "start_time": "2021-09-23T18:59:10.362Z"
   },
   {
    "duration": 88,
    "start_time": "2021-09-23T18:59:10.443Z"
   },
   {
    "duration": 10,
    "start_time": "2021-09-23T18:59:10.533Z"
   },
   {
    "duration": 40,
    "start_time": "2021-09-23T18:59:10.545Z"
   },
   {
    "duration": 17,
    "start_time": "2021-09-23T18:59:10.587Z"
   },
   {
    "duration": 45,
    "start_time": "2021-09-23T18:59:10.606Z"
   },
   {
    "duration": 56,
    "start_time": "2021-09-23T18:59:10.653Z"
   },
   {
    "duration": 7,
    "start_time": "2021-09-23T18:59:10.711Z"
   },
   {
    "duration": 16,
    "start_time": "2021-09-23T18:59:10.720Z"
   },
   {
    "duration": 17,
    "start_time": "2021-09-23T18:59:10.738Z"
   },
   {
    "duration": 18,
    "start_time": "2021-09-23T18:59:10.756Z"
   },
   {
    "duration": 21,
    "start_time": "2021-09-23T18:59:10.775Z"
   },
   {
    "duration": 30,
    "start_time": "2021-09-23T18:59:10.798Z"
   },
   {
    "duration": 22,
    "start_time": "2021-09-23T18:59:10.830Z"
   },
   {
    "duration": 27,
    "start_time": "2021-09-23T18:59:10.854Z"
   },
   {
    "duration": 4,
    "start_time": "2021-09-23T18:59:10.884Z"
   },
   {
    "duration": 21,
    "start_time": "2021-09-23T18:59:10.890Z"
   },
   {
    "duration": 29,
    "start_time": "2021-09-23T18:59:10.913Z"
   },
   {
    "duration": 6,
    "start_time": "2021-09-23T18:59:10.944Z"
   },
   {
    "duration": 67,
    "start_time": "2021-09-23T18:59:10.952Z"
   },
   {
    "duration": 375,
    "start_time": "2021-09-23T18:59:11.022Z"
   },
   {
    "duration": 300,
    "start_time": "2021-09-23T18:59:11.399Z"
   },
   {
    "duration": 29,
    "start_time": "2021-09-23T18:59:11.701Z"
   },
   {
    "duration": 1116,
    "start_time": "2021-09-23T18:59:11.732Z"
   },
   {
    "duration": 325,
    "start_time": "2021-09-23T18:59:12.851Z"
   },
   {
    "duration": 271,
    "start_time": "2021-09-23T18:59:13.178Z"
   },
   {
    "duration": 293,
    "start_time": "2021-09-23T18:59:13.450Z"
   },
   {
    "duration": 451,
    "start_time": "2021-09-23T18:59:13.745Z"
   },
   {
    "duration": -1430,
    "start_time": "2021-09-23T18:59:15.627Z"
   },
   {
    "duration": -1447,
    "start_time": "2021-09-23T18:59:15.645Z"
   },
   {
    "duration": 1194,
    "start_time": "2021-09-23T19:01:00.652Z"
   },
   {
    "duration": 366,
    "start_time": "2021-09-23T19:01:01.847Z"
   },
   {
    "duration": 380,
    "start_time": "2021-09-23T19:01:02.215Z"
   },
   {
    "duration": 379,
    "start_time": "2021-09-23T19:01:02.598Z"
   },
   {
    "duration": 58,
    "start_time": "2021-09-23T19:01:02.979Z"
   },
   {
    "duration": 10,
    "start_time": "2021-09-23T19:01:03.040Z"
   },
   {
    "duration": 1082,
    "start_time": "2021-09-23T19:01:03.052Z"
   },
   {
    "duration": 54,
    "start_time": "2021-09-23T19:01:04.138Z"
   },
   {
    "duration": 253,
    "start_time": "2021-09-23T19:01:04.194Z"
   },
   {
    "duration": 275,
    "start_time": "2021-09-23T19:01:04.449Z"
   },
   {
    "duration": 90,
    "start_time": "2021-09-23T19:01:04.726Z"
   },
   {
    "duration": 102,
    "start_time": "2021-09-23T19:01:04.818Z"
   },
   {
    "duration": 3,
    "start_time": "2021-09-23T19:01:04.922Z"
   },
   {
    "duration": 174,
    "start_time": "2021-09-23T19:01:04.926Z"
   },
   {
    "duration": 28,
    "start_time": "2021-09-23T19:01:05.101Z"
   },
   {
    "duration": 34,
    "start_time": "2021-09-23T19:01:05.131Z"
   },
   {
    "duration": 24,
    "start_time": "2021-09-23T19:01:05.166Z"
   },
   {
    "duration": 6,
    "start_time": "2021-09-23T19:01:05.191Z"
   },
   {
    "duration": 26,
    "start_time": "2021-09-23T19:01:05.198Z"
   },
   {
    "duration": 134,
    "start_time": "2021-09-23T19:01:05.226Z"
   },
   {
    "duration": 20,
    "start_time": "2021-09-23T19:01:05.362Z"
   },
   {
    "duration": 298,
    "start_time": "2021-09-23T19:01:05.383Z"
   },
   {
    "duration": 99,
    "start_time": "2021-09-23T19:01:05.685Z"
   },
   {
    "duration": 69,
    "start_time": "2021-09-23T19:01:05.786Z"
   },
   {
    "duration": 8,
    "start_time": "2021-09-23T19:01:05.857Z"
   },
   {
    "duration": 29,
    "start_time": "2021-09-23T19:01:05.867Z"
   },
   {
    "duration": 44,
    "start_time": "2021-09-23T19:01:05.898Z"
   },
   {
    "duration": 70,
    "start_time": "2021-09-23T19:01:05.944Z"
   },
   {
    "duration": 360,
    "start_time": "2021-09-23T19:01:06.017Z"
   },
   {
    "duration": 36,
    "start_time": "2021-09-23T19:01:06.379Z"
   },
   {
    "duration": 9,
    "start_time": "2021-09-23T19:01:06.417Z"
   },
   {
    "duration": 54,
    "start_time": "2021-09-23T19:01:06.427Z"
   },
   {
    "duration": 68,
    "start_time": "2021-09-23T19:01:06.482Z"
   },
   {
    "duration": 82,
    "start_time": "2021-09-23T19:01:06.552Z"
   },
   {
    "duration": 11,
    "start_time": "2021-09-23T19:01:06.635Z"
   },
   {
    "duration": 42,
    "start_time": "2021-09-23T19:01:06.647Z"
   },
   {
    "duration": 16,
    "start_time": "2021-09-23T19:01:06.691Z"
   },
   {
    "duration": 40,
    "start_time": "2021-09-23T19:01:06.709Z"
   },
   {
    "duration": 65,
    "start_time": "2021-09-23T19:01:06.750Z"
   },
   {
    "duration": 5,
    "start_time": "2021-09-23T19:01:06.817Z"
   },
   {
    "duration": 13,
    "start_time": "2021-09-23T19:01:06.824Z"
   },
   {
    "duration": 20,
    "start_time": "2021-09-23T19:01:06.839Z"
   },
   {
    "duration": 17,
    "start_time": "2021-09-23T19:01:06.861Z"
   },
   {
    "duration": 14,
    "start_time": "2021-09-23T19:01:06.879Z"
   },
   {
    "duration": 23,
    "start_time": "2021-09-23T19:01:06.895Z"
   },
   {
    "duration": 29,
    "start_time": "2021-09-23T19:01:06.921Z"
   },
   {
    "duration": 15,
    "start_time": "2021-09-23T19:01:06.952Z"
   },
   {
    "duration": 30,
    "start_time": "2021-09-23T19:01:06.969Z"
   },
   {
    "duration": 7,
    "start_time": "2021-09-23T19:01:07.001Z"
   },
   {
    "duration": 20,
    "start_time": "2021-09-23T19:01:07.010Z"
   },
   {
    "duration": 36,
    "start_time": "2021-09-23T19:01:07.032Z"
   },
   {
    "duration": 4,
    "start_time": "2021-09-23T19:01:07.070Z"
   },
   {
    "duration": 58,
    "start_time": "2021-09-23T19:01:07.076Z"
   },
   {
    "duration": 340,
    "start_time": "2021-09-23T19:01:07.136Z"
   },
   {
    "duration": 299,
    "start_time": "2021-09-23T19:01:07.478Z"
   },
   {
    "duration": 29,
    "start_time": "2021-09-23T19:01:07.779Z"
   },
   {
    "duration": 885,
    "start_time": "2021-09-23T19:01:07.809Z"
   },
   {
    "duration": 323,
    "start_time": "2021-09-23T19:01:08.696Z"
   },
   {
    "duration": 270,
    "start_time": "2021-09-23T19:01:09.021Z"
   },
   {
    "duration": 300,
    "start_time": "2021-09-23T19:01:09.293Z"
   },
   {
    "duration": 355,
    "start_time": "2021-09-23T19:01:09.595Z"
   },
   {
    "duration": -1361,
    "start_time": "2021-09-23T19:01:11.313Z"
   },
   {
    "duration": -1377,
    "start_time": "2021-09-23T19:01:11.330Z"
   },
   {
    "duration": 1766,
    "start_time": "2021-09-23T19:03:59.727Z"
   },
   {
    "duration": 962,
    "start_time": "2021-09-23T19:06:00.319Z"
   },
   {
    "duration": 1131,
    "start_time": "2021-09-23T19:06:11.400Z"
   },
   {
    "duration": 3,
    "start_time": "2021-09-23T19:06:32.505Z"
   },
   {
    "duration": 1437,
    "start_time": "2021-09-23T19:07:37.417Z"
   },
   {
    "duration": 523,
    "start_time": "2021-09-23T19:07:38.856Z"
   },
   {
    "duration": 389,
    "start_time": "2021-09-23T19:07:39.382Z"
   },
   {
    "duration": 315,
    "start_time": "2021-09-23T19:07:39.773Z"
   },
   {
    "duration": 63,
    "start_time": "2021-09-23T19:07:40.090Z"
   },
   {
    "duration": 10,
    "start_time": "2021-09-23T19:07:40.155Z"
   },
   {
    "duration": 78,
    "start_time": "2021-09-23T19:07:40.166Z"
   },
   {
    "duration": 55,
    "start_time": "2021-09-23T19:07:40.247Z"
   },
   {
    "duration": 250,
    "start_time": "2021-09-23T19:07:40.304Z"
   },
   {
    "duration": 266,
    "start_time": "2021-09-23T19:07:40.555Z"
   },
   {
    "duration": 87,
    "start_time": "2021-09-23T19:07:40.822Z"
   },
   {
    "duration": 101,
    "start_time": "2021-09-23T19:07:40.911Z"
   },
   {
    "duration": 3,
    "start_time": "2021-09-23T19:07:41.014Z"
   },
   {
    "duration": 170,
    "start_time": "2021-09-23T19:07:41.019Z"
   },
   {
    "duration": 27,
    "start_time": "2021-09-23T19:07:41.191Z"
   },
   {
    "duration": 22,
    "start_time": "2021-09-23T19:07:41.219Z"
   },
   {
    "duration": 40,
    "start_time": "2021-09-23T19:07:41.242Z"
   },
   {
    "duration": 5,
    "start_time": "2021-09-23T19:07:41.283Z"
   },
   {
    "duration": 21,
    "start_time": "2021-09-23T19:07:41.290Z"
   },
   {
    "duration": 138,
    "start_time": "2021-09-23T19:07:41.313Z"
   },
   {
    "duration": 9,
    "start_time": "2021-09-23T19:07:41.453Z"
   },
   {
    "duration": 298,
    "start_time": "2021-09-23T19:07:41.464Z"
   },
   {
    "duration": 93,
    "start_time": "2021-09-23T19:07:41.766Z"
   },
   {
    "duration": 61,
    "start_time": "2021-09-23T19:07:41.862Z"
   },
   {
    "duration": 6,
    "start_time": "2021-09-23T19:07:41.925Z"
   },
   {
    "duration": 20,
    "start_time": "2021-09-23T19:07:41.933Z"
   },
   {
    "duration": 51,
    "start_time": "2021-09-23T19:07:41.955Z"
   },
   {
    "duration": 71,
    "start_time": "2021-09-23T19:07:42.007Z"
   },
   {
    "duration": 480,
    "start_time": "2021-09-23T19:07:42.080Z"
   },
   {
    "duration": 66,
    "start_time": "2021-09-23T19:07:42.562Z"
   },
   {
    "duration": 14,
    "start_time": "2021-09-23T19:07:42.630Z"
   },
   {
    "duration": 50,
    "start_time": "2021-09-23T19:07:42.646Z"
   },
   {
    "duration": 89,
    "start_time": "2021-09-23T19:07:42.698Z"
   },
   {
    "duration": 72,
    "start_time": "2021-09-23T19:07:42.789Z"
   },
   {
    "duration": 27,
    "start_time": "2021-09-23T19:07:42.863Z"
   },
   {
    "duration": 24,
    "start_time": "2021-09-23T19:07:42.892Z"
   },
   {
    "duration": 25,
    "start_time": "2021-09-23T19:07:42.918Z"
   },
   {
    "duration": 84,
    "start_time": "2021-09-23T19:07:42.946Z"
   },
   {
    "duration": 56,
    "start_time": "2021-09-23T19:07:43.032Z"
   },
   {
    "duration": 5,
    "start_time": "2021-09-23T19:07:43.090Z"
   },
   {
    "duration": 4,
    "start_time": "2021-09-23T19:07:43.097Z"
   },
   {
    "duration": 7,
    "start_time": "2021-09-23T19:07:43.103Z"
   },
   {
    "duration": 3,
    "start_time": "2021-09-23T19:07:43.111Z"
   },
   {
    "duration": 4,
    "start_time": "2021-09-23T19:07:43.115Z"
   },
   {
    "duration": 6,
    "start_time": "2021-09-23T19:07:43.121Z"
   },
   {
    "duration": 6,
    "start_time": "2021-09-23T19:07:43.129Z"
   },
   {
    "duration": 6,
    "start_time": "2021-09-23T19:07:43.137Z"
   },
   {
    "duration": 46,
    "start_time": "2021-09-23T19:07:43.144Z"
   },
   {
    "duration": 2974,
    "start_time": "2021-09-23T19:07:43.192Z"
   },
   {
    "duration": 9,
    "start_time": "2021-09-23T19:07:46.168Z"
   },
   {
    "duration": 6,
    "start_time": "2021-09-23T19:07:46.180Z"
   },
   {
    "duration": 52,
    "start_time": "2021-09-23T19:07:46.188Z"
   },
   {
    "duration": 7444,
    "start_time": "2021-09-23T19:07:46.243Z"
   },
   {
    "duration": -1303,
    "start_time": "2021-09-23T19:07:54.992Z"
   },
   {
    "duration": -1317,
    "start_time": "2021-09-23T19:07:55.007Z"
   },
   {
    "duration": -1329,
    "start_time": "2021-09-23T19:07:55.020Z"
   },
   {
    "duration": -1337,
    "start_time": "2021-09-23T19:07:55.029Z"
   },
   {
    "duration": -1344,
    "start_time": "2021-09-23T19:07:55.037Z"
   },
   {
    "duration": -1350,
    "start_time": "2021-09-23T19:07:55.044Z"
   },
   {
    "duration": -1357,
    "start_time": "2021-09-23T19:07:55.052Z"
   },
   {
    "duration": -1363,
    "start_time": "2021-09-23T19:07:55.059Z"
   },
   {
    "duration": -1378,
    "start_time": "2021-09-23T19:07:55.075Z"
   },
   {
    "duration": -1386,
    "start_time": "2021-09-23T19:07:55.085Z"
   },
   {
    "duration": -1394,
    "start_time": "2021-09-23T19:07:55.094Z"
   },
   {
    "duration": -1401,
    "start_time": "2021-09-23T19:07:55.102Z"
   },
   {
    "duration": 1217,
    "start_time": "2021-09-23T19:08:22.183Z"
   },
   {
    "duration": 321,
    "start_time": "2021-09-23T19:08:23.402Z"
   },
   {
    "duration": 295,
    "start_time": "2021-09-23T19:08:23.725Z"
   },
   {
    "duration": 1275,
    "start_time": "2021-09-23T19:08:24.022Z"
   },
   {
    "duration": 62,
    "start_time": "2021-09-23T19:08:25.299Z"
   },
   {
    "duration": 10,
    "start_time": "2021-09-23T19:08:25.363Z"
   },
   {
    "duration": 353,
    "start_time": "2021-09-23T19:08:25.375Z"
   },
   {
    "duration": 53,
    "start_time": "2021-09-23T19:08:25.730Z"
   },
   {
    "duration": 251,
    "start_time": "2021-09-23T19:08:25.785Z"
   },
   {
    "duration": 266,
    "start_time": "2021-09-23T19:08:26.038Z"
   },
   {
    "duration": 87,
    "start_time": "2021-09-23T19:08:26.305Z"
   },
   {
    "duration": 98,
    "start_time": "2021-09-23T19:08:26.394Z"
   },
   {
    "duration": 3,
    "start_time": "2021-09-23T19:08:26.493Z"
   },
   {
    "duration": 172,
    "start_time": "2021-09-23T19:08:26.498Z"
   },
   {
    "duration": 27,
    "start_time": "2021-09-23T19:08:26.671Z"
   },
   {
    "duration": 21,
    "start_time": "2021-09-23T19:08:26.700Z"
   },
   {
    "duration": 19,
    "start_time": "2021-09-23T19:08:26.723Z"
   },
   {
    "duration": 35,
    "start_time": "2021-09-23T19:08:26.744Z"
   },
   {
    "duration": 21,
    "start_time": "2021-09-23T19:08:26.781Z"
   },
   {
    "duration": 132,
    "start_time": "2021-09-23T19:08:26.803Z"
   },
   {
    "duration": 9,
    "start_time": "2021-09-23T19:08:26.937Z"
   },
   {
    "duration": 321,
    "start_time": "2021-09-23T19:08:26.948Z"
   },
   {
    "duration": 129,
    "start_time": "2021-09-23T19:08:27.275Z"
   },
   {
    "duration": 78,
    "start_time": "2021-09-23T19:08:27.407Z"
   },
   {
    "duration": 7,
    "start_time": "2021-09-23T19:08:27.487Z"
   },
   {
    "duration": 33,
    "start_time": "2021-09-23T19:08:27.496Z"
   },
   {
    "duration": 61,
    "start_time": "2021-09-23T19:08:27.531Z"
   },
   {
    "duration": 97,
    "start_time": "2021-09-23T19:08:27.594Z"
   },
   {
    "duration": 378,
    "start_time": "2021-09-23T19:08:27.693Z"
   },
   {
    "duration": 65,
    "start_time": "2021-09-23T19:08:28.073Z"
   },
   {
    "duration": 13,
    "start_time": "2021-09-23T19:08:28.140Z"
   },
   {
    "duration": 59,
    "start_time": "2021-09-23T19:08:28.155Z"
   },
   {
    "duration": 108,
    "start_time": "2021-09-23T19:08:28.217Z"
   },
   {
    "duration": 107,
    "start_time": "2021-09-23T19:08:28.328Z"
   },
   {
    "duration": 13,
    "start_time": "2021-09-23T19:08:28.437Z"
   },
   {
    "duration": 40,
    "start_time": "2021-09-23T19:08:28.452Z"
   },
   {
    "duration": 21,
    "start_time": "2021-09-23T19:08:28.494Z"
   },
   {
    "duration": 76,
    "start_time": "2021-09-23T19:08:28.517Z"
   },
   {
    "duration": 53,
    "start_time": "2021-09-23T19:08:28.595Z"
   },
   {
    "duration": 8,
    "start_time": "2021-09-23T19:08:28.650Z"
   },
   {
    "duration": 5,
    "start_time": "2021-09-23T19:08:28.676Z"
   },
   {
    "duration": 18,
    "start_time": "2021-09-23T19:08:28.683Z"
   },
   {
    "duration": 5,
    "start_time": "2021-09-23T19:08:28.703Z"
   },
   {
    "duration": 5,
    "start_time": "2021-09-23T19:08:28.710Z"
   },
   {
    "duration": 5,
    "start_time": "2021-09-23T19:08:28.717Z"
   },
   {
    "duration": 4,
    "start_time": "2021-09-23T19:08:28.725Z"
   },
   {
    "duration": 16,
    "start_time": "2021-09-23T19:08:28.731Z"
   },
   {
    "duration": 41,
    "start_time": "2021-09-23T19:08:28.749Z"
   },
   {
    "duration": 3,
    "start_time": "2021-09-23T19:08:28.792Z"
   },
   {
    "duration": 21,
    "start_time": "2021-09-23T19:08:28.797Z"
   },
   {
    "duration": 13,
    "start_time": "2021-09-23T19:08:28.820Z"
   },
   {
    "duration": 51,
    "start_time": "2021-09-23T19:08:28.835Z"
   },
   {
    "duration": 5,
    "start_time": "2021-09-23T19:08:28.888Z"
   },
   {
    "duration": 99,
    "start_time": "2021-09-23T19:08:28.895Z"
   },
   {
    "duration": 576,
    "start_time": "2021-09-23T19:08:28.996Z"
   },
   {
    "duration": 282,
    "start_time": "2021-09-23T19:08:29.577Z"
   },
   {
    "duration": 40,
    "start_time": "2021-09-23T19:08:29.861Z"
   },
   {
    "duration": 961,
    "start_time": "2021-09-23T19:08:29.903Z"
   },
   {
    "duration": 340,
    "start_time": "2021-09-23T19:08:30.866Z"
   },
   {
    "duration": 10093,
    "start_time": "2021-09-23T19:08:31.208Z"
   },
   {
    "duration": 382,
    "start_time": "2021-09-23T19:08:41.303Z"
   },
   {
    "duration": 299,
    "start_time": "2021-09-23T19:08:41.686Z"
   },
   {
    "duration": 492,
    "start_time": "2021-09-23T19:08:41.986Z"
   },
   {
    "duration": -1906,
    "start_time": "2021-09-23T19:08:44.386Z"
   },
   {
    "duration": -1913,
    "start_time": "2021-09-23T19:08:44.394Z"
   },
   {
    "duration": 1068,
    "start_time": "2021-09-23T19:08:50.723Z"
   },
   {
    "duration": 136,
    "start_time": "2021-09-23T19:09:04.838Z"
   },
   {
    "duration": 22,
    "start_time": "2021-09-23T19:09:23.506Z"
   },
   {
    "duration": 1660,
    "start_time": "2021-09-23T19:30:43.927Z"
   },
   {
    "duration": 456,
    "start_time": "2021-09-23T19:30:45.589Z"
   },
   {
    "duration": 400,
    "start_time": "2021-09-23T19:30:46.048Z"
   },
   {
    "duration": 370,
    "start_time": "2021-09-23T19:30:46.451Z"
   },
   {
    "duration": 108,
    "start_time": "2021-09-23T19:30:46.824Z"
   },
   {
    "duration": 14,
    "start_time": "2021-09-23T19:30:46.934Z"
   },
   {
    "duration": 88,
    "start_time": "2021-09-23T19:30:46.950Z"
   },
   {
    "duration": 74,
    "start_time": "2021-09-23T19:30:47.042Z"
   },
   {
    "duration": 337,
    "start_time": "2021-09-23T19:30:47.119Z"
   },
   {
    "duration": 333,
    "start_time": "2021-09-23T19:30:47.459Z"
   },
   {
    "duration": 127,
    "start_time": "2021-09-23T19:30:47.794Z"
   },
   {
    "duration": 145,
    "start_time": "2021-09-23T19:30:47.924Z"
   },
   {
    "duration": 4,
    "start_time": "2021-09-23T19:30:48.072Z"
   },
   {
    "duration": 229,
    "start_time": "2021-09-23T19:30:48.078Z"
   },
   {
    "duration": 36,
    "start_time": "2021-09-23T19:30:48.310Z"
   },
   {
    "duration": 28,
    "start_time": "2021-09-23T19:30:48.349Z"
   },
   {
    "duration": 56,
    "start_time": "2021-09-23T19:30:48.379Z"
   },
   {
    "duration": 7,
    "start_time": "2021-09-23T19:30:48.437Z"
   },
   {
    "duration": 31,
    "start_time": "2021-09-23T19:30:48.446Z"
   },
   {
    "duration": 191,
    "start_time": "2021-09-23T19:30:48.479Z"
   },
   {
    "duration": 12,
    "start_time": "2021-09-23T19:30:48.673Z"
   },
   {
    "duration": 422,
    "start_time": "2021-09-23T19:30:48.687Z"
   },
   {
    "duration": 113,
    "start_time": "2021-09-23T19:30:49.115Z"
   },
   {
    "duration": 70,
    "start_time": "2021-09-23T19:30:49.231Z"
   },
   {
    "duration": 8,
    "start_time": "2021-09-23T19:30:49.316Z"
   },
   {
    "duration": 25,
    "start_time": "2021-09-23T19:30:49.326Z"
   },
   {
    "duration": 76,
    "start_time": "2021-09-23T19:30:49.353Z"
   },
   {
    "duration": 102,
    "start_time": "2021-09-23T19:30:49.431Z"
   },
   {
    "duration": 530,
    "start_time": "2021-09-23T19:30:49.536Z"
   },
   {
    "duration": 61,
    "start_time": "2021-09-23T19:30:50.069Z"
   },
   {
    "duration": 14,
    "start_time": "2021-09-23T19:30:50.132Z"
   },
   {
    "duration": 41,
    "start_time": "2021-09-23T19:30:50.148Z"
   },
   {
    "duration": 101,
    "start_time": "2021-09-23T19:30:50.216Z"
   },
   {
    "duration": 114,
    "start_time": "2021-09-23T19:30:50.320Z"
   },
   {
    "duration": 15,
    "start_time": "2021-09-23T19:30:50.436Z"
   },
   {
    "duration": 31,
    "start_time": "2021-09-23T19:30:50.453Z"
   },
   {
    "duration": 52,
    "start_time": "2021-09-23T19:30:50.487Z"
   },
   {
    "duration": 52,
    "start_time": "2021-09-23T19:30:50.541Z"
   },
   {
    "duration": 53,
    "start_time": "2021-09-23T19:30:50.616Z"
   },
   {
    "duration": 8,
    "start_time": "2021-09-23T19:30:50.671Z"
   },
   {
    "duration": 16,
    "start_time": "2021-09-23T19:30:50.681Z"
   },
   {
    "duration": 9,
    "start_time": "2021-09-23T19:30:50.717Z"
   },
   {
    "duration": 14,
    "start_time": "2021-09-23T19:30:50.728Z"
   },
   {
    "duration": 16,
    "start_time": "2021-09-23T19:30:50.745Z"
   },
   {
    "duration": 11,
    "start_time": "2021-09-23T19:30:50.764Z"
   },
   {
    "duration": 19,
    "start_time": "2021-09-23T19:30:50.777Z"
   },
   {
    "duration": 13,
    "start_time": "2021-09-23T19:30:50.798Z"
   },
   {
    "duration": 36,
    "start_time": "2021-09-23T19:30:50.814Z"
   },
   {
    "duration": 2752,
    "start_time": "2021-09-23T19:30:50.853Z"
   },
   {
    "duration": 12,
    "start_time": "2021-09-23T19:30:53.608Z"
   },
   {
    "duration": 19,
    "start_time": "2021-09-23T19:30:53.623Z"
   },
   {
    "duration": 45,
    "start_time": "2021-09-23T19:30:53.645Z"
   },
   {
    "duration": 10638,
    "start_time": "2021-09-23T19:30:53.692Z"
   },
   {
    "duration": -1798,
    "start_time": "2021-09-23T19:31:06.131Z"
   },
   {
    "duration": -1809,
    "start_time": "2021-09-23T19:31:06.143Z"
   },
   {
    "duration": -1816,
    "start_time": "2021-09-23T19:31:06.151Z"
   },
   {
    "duration": -1820,
    "start_time": "2021-09-23T19:31:06.157Z"
   },
   {
    "duration": -1827,
    "start_time": "2021-09-23T19:31:06.165Z"
   },
   {
    "duration": -1832,
    "start_time": "2021-09-23T19:31:06.171Z"
   },
   {
    "duration": -1838,
    "start_time": "2021-09-23T19:31:06.179Z"
   },
   {
    "duration": -1844,
    "start_time": "2021-09-23T19:31:06.186Z"
   },
   {
    "duration": -1851,
    "start_time": "2021-09-23T19:31:06.195Z"
   },
   {
    "duration": -1859,
    "start_time": "2021-09-23T19:31:06.204Z"
   },
   {
    "duration": -1876,
    "start_time": "2021-09-23T19:31:06.223Z"
   },
   {
    "duration": 75,
    "start_time": "2021-09-23T19:34:46.228Z"
   },
   {
    "duration": 531,
    "start_time": "2021-09-23T19:34:49.555Z"
   },
   {
    "duration": 442,
    "start_time": "2021-09-23T19:34:54.446Z"
   },
   {
    "duration": 45,
    "start_time": "2021-09-23T19:35:01.604Z"
   },
   {
    "duration": 1308,
    "start_time": "2021-09-23T19:35:05.437Z"
   },
   {
    "duration": 503,
    "start_time": "2021-09-23T19:35:11.439Z"
   },
   {
    "duration": 1803,
    "start_time": "2021-09-23T19:35:15.749Z"
   },
   {
    "duration": 456,
    "start_time": "2021-09-23T19:36:12.997Z"
   },
   {
    "duration": 633,
    "start_time": "2021-09-23T19:36:24.251Z"
   },
   {
    "duration": 1107,
    "start_time": "2021-09-26T06:55:18.335Z"
   },
   {
    "duration": 348,
    "start_time": "2021-09-26T06:55:19.444Z"
   },
   {
    "duration": 311,
    "start_time": "2021-09-26T06:55:19.794Z"
   },
   {
    "duration": 1265,
    "start_time": "2021-09-26T06:55:20.107Z"
   },
   {
    "duration": 78,
    "start_time": "2021-09-26T06:55:21.374Z"
   },
   {
    "duration": 9,
    "start_time": "2021-09-26T06:55:21.453Z"
   },
   {
    "duration": 76,
    "start_time": "2021-09-26T06:55:21.463Z"
   },
   {
    "duration": 50,
    "start_time": "2021-09-26T06:55:21.541Z"
   },
   {
    "duration": 225,
    "start_time": "2021-09-26T06:55:21.593Z"
   },
   {
    "duration": 234,
    "start_time": "2021-09-26T06:55:21.820Z"
   },
   {
    "duration": 84,
    "start_time": "2021-09-26T06:55:22.056Z"
   },
   {
    "duration": 97,
    "start_time": "2021-09-26T06:55:22.141Z"
   },
   {
    "duration": 2,
    "start_time": "2021-09-26T06:55:22.240Z"
   },
   {
    "duration": 159,
    "start_time": "2021-09-26T06:55:22.244Z"
   },
   {
    "duration": 27,
    "start_time": "2021-09-26T06:55:22.405Z"
   },
   {
    "duration": 20,
    "start_time": "2021-09-26T06:55:22.434Z"
   },
   {
    "duration": 18,
    "start_time": "2021-09-26T06:55:22.456Z"
   },
   {
    "duration": 5,
    "start_time": "2021-09-26T06:55:22.499Z"
   },
   {
    "duration": 21,
    "start_time": "2021-09-26T06:55:22.505Z"
   },
   {
    "duration": 144,
    "start_time": "2021-09-26T06:55:22.527Z"
   },
   {
    "duration": 9,
    "start_time": "2021-09-26T06:55:22.672Z"
   },
   {
    "duration": 291,
    "start_time": "2021-09-26T06:55:22.683Z"
   },
   {
    "duration": 87,
    "start_time": "2021-09-26T06:55:22.977Z"
   },
   {
    "duration": 60,
    "start_time": "2021-09-26T06:55:23.066Z"
   },
   {
    "duration": 6,
    "start_time": "2021-09-26T06:55:23.127Z"
   },
   {
    "duration": 20,
    "start_time": "2021-09-26T06:55:23.134Z"
   },
   {
    "duration": 59,
    "start_time": "2021-09-26T06:55:23.155Z"
   },
   {
    "duration": 64,
    "start_time": "2021-09-26T06:55:23.216Z"
   },
   {
    "duration": 336,
    "start_time": "2021-09-26T06:55:23.282Z"
   },
   {
    "duration": 36,
    "start_time": "2021-09-26T06:55:23.620Z"
   },
   {
    "duration": 10,
    "start_time": "2021-09-26T06:55:23.659Z"
   },
   {
    "duration": 52,
    "start_time": "2021-09-26T06:55:23.671Z"
   },
   {
    "duration": 76,
    "start_time": "2021-09-26T06:55:23.724Z"
   },
   {
    "duration": 69,
    "start_time": "2021-09-26T06:55:23.802Z"
   },
   {
    "duration": 28,
    "start_time": "2021-09-26T06:55:23.872Z"
   },
   {
    "duration": 20,
    "start_time": "2021-09-26T06:55:23.901Z"
   },
   {
    "duration": 13,
    "start_time": "2021-09-26T06:55:23.923Z"
   },
   {
    "duration": 40,
    "start_time": "2021-09-26T06:55:23.938Z"
   },
   {
    "duration": 54,
    "start_time": "2021-09-26T06:55:23.980Z"
   },
   {
    "duration": 6,
    "start_time": "2021-09-26T06:55:24.035Z"
   },
   {
    "duration": 7,
    "start_time": "2021-09-26T06:55:24.042Z"
   },
   {
    "duration": 15,
    "start_time": "2021-09-26T06:55:24.050Z"
   },
   {
    "duration": 14,
    "start_time": "2021-09-26T06:55:24.066Z"
   },
   {
    "duration": 18,
    "start_time": "2021-09-26T06:55:24.081Z"
   },
   {
    "duration": 13,
    "start_time": "2021-09-26T06:55:24.101Z"
   },
   {
    "duration": 6,
    "start_time": "2021-09-26T06:55:24.116Z"
   },
   {
    "duration": 4,
    "start_time": "2021-09-26T06:55:24.124Z"
   },
   {
    "duration": 20,
    "start_time": "2021-09-26T06:55:24.130Z"
   },
   {
    "duration": 898,
    "start_time": "2021-09-26T06:55:24.151Z"
   },
   {
    "duration": 3,
    "start_time": "2021-09-26T06:55:25.051Z"
   },
   {
    "duration": 6,
    "start_time": "2021-09-26T06:55:25.056Z"
   },
   {
    "duration": 40,
    "start_time": "2021-09-26T06:55:25.064Z"
   },
   {
    "duration": 7066,
    "start_time": "2021-09-26T06:55:25.105Z"
   },
   {
    "duration": -1697,
    "start_time": "2021-09-26T06:55:33.870Z"
   },
   {
    "duration": -1703,
    "start_time": "2021-09-26T06:55:33.877Z"
   },
   {
    "duration": -1709,
    "start_time": "2021-09-26T06:55:33.884Z"
   },
   {
    "duration": -1715,
    "start_time": "2021-09-26T06:55:33.891Z"
   },
   {
    "duration": -1723,
    "start_time": "2021-09-26T06:55:33.900Z"
   },
   {
    "duration": -1731,
    "start_time": "2021-09-26T06:55:33.909Z"
   },
   {
    "duration": -1738,
    "start_time": "2021-09-26T06:55:33.916Z"
   },
   {
    "duration": -1743,
    "start_time": "2021-09-26T06:55:33.922Z"
   },
   {
    "duration": -1748,
    "start_time": "2021-09-26T06:55:33.928Z"
   },
   {
    "duration": -1753,
    "start_time": "2021-09-26T06:55:33.934Z"
   },
   {
    "duration": -1758,
    "start_time": "2021-09-26T06:55:33.940Z"
   },
   {
    "duration": 3,
    "start_time": "2021-09-26T07:14:28.793Z"
   },
   {
    "duration": 13,
    "start_time": "2021-09-26T07:29:45.281Z"
   },
   {
    "duration": 219,
    "start_time": "2021-09-26T07:29:54.537Z"
   },
   {
    "duration": 941,
    "start_time": "2021-09-26T07:30:14.031Z"
   },
   {
    "duration": 16,
    "start_time": "2021-09-26T07:30:21.004Z"
   },
   {
    "duration": 469,
    "start_time": "2021-09-26T07:31:49.920Z"
   },
   {
    "duration": 2549,
    "start_time": "2021-09-26T07:31:57.335Z"
   },
   {
    "duration": 411,
    "start_time": "2021-09-26T07:32:10.182Z"
   },
   {
    "duration": 23,
    "start_time": "2021-09-26T07:32:22.212Z"
   },
   {
    "duration": 19,
    "start_time": "2021-09-26T07:33:12.983Z"
   },
   {
    "duration": 67,
    "start_time": "2021-09-26T07:34:15.023Z"
   },
   {
    "duration": 920,
    "start_time": "2021-09-26T07:34:19.804Z"
   },
   {
    "duration": 21,
    "start_time": "2021-09-26T07:34:43.071Z"
   },
   {
    "duration": 885,
    "start_time": "2021-09-26T07:35:14.758Z"
   },
   {
    "duration": 183,
    "start_time": "2021-09-26T07:37:08.630Z"
   },
   {
    "duration": 1885,
    "start_time": "2021-09-26T07:37:40.592Z"
   },
   {
    "duration": 184,
    "start_time": "2021-09-26T07:38:10.158Z"
   },
   {
    "duration": 918,
    "start_time": "2021-09-26T07:38:18.902Z"
   },
   {
    "duration": 528,
    "start_time": "2021-09-26T07:38:24.599Z"
   },
   {
    "duration": 19,
    "start_time": "2021-09-26T07:40:00.816Z"
   },
   {
    "duration": 5108,
    "start_time": "2021-09-26T07:41:44.297Z"
   },
   {
    "duration": 905,
    "start_time": "2021-09-26T07:42:04.918Z"
   },
   {
    "duration": 5304,
    "start_time": "2021-09-26T07:42:10.782Z"
   },
   {
    "duration": 4923,
    "start_time": "2021-09-26T07:42:30.508Z"
   },
   {
    "duration": 13,
    "start_time": "2021-09-26T07:42:55.111Z"
   },
   {
    "duration": 16,
    "start_time": "2021-09-26T07:43:19.653Z"
   },
   {
    "duration": 5332,
    "start_time": "2021-09-26T07:43:33.456Z"
   },
   {
    "duration": 20,
    "start_time": "2021-09-26T07:44:05.390Z"
   },
   {
    "duration": -1614,
    "start_time": "2021-09-26T07:44:51.600Z"
   },
   {
    "duration": 34,
    "start_time": "2021-09-26T07:44:55.723Z"
   },
   {
    "duration": 2,
    "start_time": "2021-09-26T07:46:37.742Z"
   },
   {
    "duration": 21,
    "start_time": "2021-09-26T07:48:45.642Z"
   },
   {
    "duration": 206,
    "start_time": "2021-09-26T07:55:05.810Z"
   },
   {
    "duration": 2655,
    "start_time": "2021-09-26T07:55:14.333Z"
   },
   {
    "duration": 198,
    "start_time": "2021-09-26T07:55:21.539Z"
   },
   {
    "duration": 3,
    "start_time": "2021-09-26T07:55:56.948Z"
   },
   {
    "duration": 288,
    "start_time": "2021-09-26T07:55:56.953Z"
   },
   {
    "duration": 223,
    "start_time": "2021-09-26T07:55:57.242Z"
   },
   {
    "duration": 180,
    "start_time": "2021-09-26T07:55:57.467Z"
   },
   {
    "duration": 96,
    "start_time": "2021-09-26T07:55:57.648Z"
   },
   {
    "duration": 9,
    "start_time": "2021-09-26T07:55:57.746Z"
   },
   {
    "duration": 75,
    "start_time": "2021-09-26T07:55:57.757Z"
   },
   {
    "duration": 47,
    "start_time": "2021-09-26T07:55:57.834Z"
   },
   {
    "duration": 195,
    "start_time": "2021-09-26T07:55:57.883Z"
   },
   {
    "duration": 217,
    "start_time": "2021-09-26T07:55:58.080Z"
   },
   {
    "duration": 72,
    "start_time": "2021-09-26T07:55:58.299Z"
   },
   {
    "duration": 101,
    "start_time": "2021-09-26T07:55:58.373Z"
   },
   {
    "duration": 3,
    "start_time": "2021-09-26T07:55:58.476Z"
   },
   {
    "duration": 146,
    "start_time": "2021-09-26T07:55:58.480Z"
   },
   {
    "duration": 25,
    "start_time": "2021-09-26T07:55:58.627Z"
   },
   {
    "duration": 20,
    "start_time": "2021-09-26T07:55:58.653Z"
   },
   {
    "duration": 33,
    "start_time": "2021-09-26T07:55:58.675Z"
   },
   {
    "duration": 5,
    "start_time": "2021-09-26T07:55:58.709Z"
   },
   {
    "duration": 20,
    "start_time": "2021-09-26T07:55:58.717Z"
   },
   {
    "duration": 121,
    "start_time": "2021-09-26T07:55:58.739Z"
   },
   {
    "duration": 9,
    "start_time": "2021-09-26T07:55:58.862Z"
   },
   {
    "duration": 269,
    "start_time": "2021-09-26T07:55:58.872Z"
   },
   {
    "duration": 72,
    "start_time": "2021-09-26T07:55:59.143Z"
   },
   {
    "duration": 41,
    "start_time": "2021-09-26T07:55:59.217Z"
   },
   {
    "duration": 5,
    "start_time": "2021-09-26T07:55:59.260Z"
   },
   {
    "duration": 43,
    "start_time": "2021-09-26T07:55:59.267Z"
   },
   {
    "duration": 34,
    "start_time": "2021-09-26T07:55:59.311Z"
   },
   {
    "duration": 71,
    "start_time": "2021-09-26T07:55:59.346Z"
   },
   {
    "duration": 309,
    "start_time": "2021-09-26T07:55:59.418Z"
   },
   {
    "duration": 34,
    "start_time": "2021-09-26T07:55:59.728Z"
   },
   {
    "duration": 9,
    "start_time": "2021-09-26T07:55:59.764Z"
   },
   {
    "duration": 43,
    "start_time": "2021-09-26T07:55:59.774Z"
   },
   {
    "duration": 82,
    "start_time": "2021-09-26T07:55:59.818Z"
   },
   {
    "duration": 68,
    "start_time": "2021-09-26T07:55:59.902Z"
   },
   {
    "duration": 10,
    "start_time": "2021-09-26T07:55:59.971Z"
   },
   {
    "duration": 35,
    "start_time": "2021-09-26T07:55:59.983Z"
   },
   {
    "duration": 16,
    "start_time": "2021-09-26T07:56:00.020Z"
   },
   {
    "duration": 46,
    "start_time": "2021-09-26T07:56:00.038Z"
   },
   {
    "duration": 50,
    "start_time": "2021-09-26T07:56:00.086Z"
   },
   {
    "duration": 6,
    "start_time": "2021-09-26T07:56:00.138Z"
   },
   {
    "duration": 17,
    "start_time": "2021-09-26T07:56:00.145Z"
   },
   {
    "duration": 21,
    "start_time": "2021-09-26T07:56:00.163Z"
   },
   {
    "duration": 15,
    "start_time": "2021-09-26T07:56:00.186Z"
   },
   {
    "duration": 17,
    "start_time": "2021-09-26T07:56:00.203Z"
   },
   {
    "duration": 8,
    "start_time": "2021-09-26T07:56:00.222Z"
   },
   {
    "duration": 13,
    "start_time": "2021-09-26T07:56:00.231Z"
   },
   {
    "duration": 25,
    "start_time": "2021-09-26T07:56:00.245Z"
   },
   {
    "duration": 48,
    "start_time": "2021-09-26T07:56:00.271Z"
   },
   {
    "duration": 2083,
    "start_time": "2021-09-26T07:56:00.321Z"
   },
   {
    "duration": 16,
    "start_time": "2021-09-26T07:56:02.405Z"
   },
   {
    "duration": 4,
    "start_time": "2021-09-26T07:56:02.423Z"
   },
   {
    "duration": 5,
    "start_time": "2021-09-26T07:56:02.429Z"
   },
   {
    "duration": 8,
    "start_time": "2021-09-26T07:56:02.436Z"
   },
   {
    "duration": 195,
    "start_time": "2021-09-26T07:56:02.445Z"
   },
   {
    "duration": -1596,
    "start_time": "2021-09-26T07:56:04.238Z"
   },
   {
    "duration": -1602,
    "start_time": "2021-09-26T07:56:04.245Z"
   },
   {
    "duration": -1610,
    "start_time": "2021-09-26T07:56:04.254Z"
   },
   {
    "duration": -1617,
    "start_time": "2021-09-26T07:56:04.262Z"
   },
   {
    "duration": -1625,
    "start_time": "2021-09-26T07:56:04.271Z"
   },
   {
    "duration": -1632,
    "start_time": "2021-09-26T07:56:04.279Z"
   },
   {
    "duration": -1640,
    "start_time": "2021-09-26T07:56:04.288Z"
   },
   {
    "duration": -1646,
    "start_time": "2021-09-26T07:56:04.295Z"
   },
   {
    "duration": -1660,
    "start_time": "2021-09-26T07:56:04.310Z"
   },
   {
    "duration": -1694,
    "start_time": "2021-09-26T07:56:04.345Z"
   },
   {
    "duration": 1215,
    "start_time": "2021-09-26T07:57:43.307Z"
   },
   {
    "duration": 20,
    "start_time": "2021-09-26T07:57:54.427Z"
   },
   {
    "duration": 5,
    "start_time": "2021-09-26T07:58:51.968Z"
   },
   {
    "duration": 6088,
    "start_time": "2021-09-26T08:00:01.234Z"
   },
   {
    "duration": 4,
    "start_time": "2021-09-26T08:00:15.382Z"
   },
   {
    "duration": 4676,
    "start_time": "2021-09-26T08:00:51.376Z"
   },
   {
    "duration": 20,
    "start_time": "2021-09-26T08:01:16.154Z"
   },
   {
    "duration": 3,
    "start_time": "2021-09-26T08:01:42.761Z"
   },
   {
    "duration": 241,
    "start_time": "2021-09-26T08:01:42.767Z"
   },
   {
    "duration": 201,
    "start_time": "2021-09-26T08:01:43.010Z"
   },
   {
    "duration": 236,
    "start_time": "2021-09-26T08:01:43.213Z"
   },
   {
    "duration": 42,
    "start_time": "2021-09-26T08:01:43.451Z"
   },
   {
    "duration": 8,
    "start_time": "2021-09-26T08:01:43.495Z"
   },
   {
    "duration": 50,
    "start_time": "2021-09-26T08:01:43.505Z"
   },
   {
    "duration": 50,
    "start_time": "2021-09-26T08:01:43.556Z"
   },
   {
    "duration": 210,
    "start_time": "2021-09-26T08:01:43.608Z"
   },
   {
    "duration": 227,
    "start_time": "2021-09-26T08:01:43.820Z"
   },
   {
    "duration": 72,
    "start_time": "2021-09-26T08:01:44.048Z"
   },
   {
    "duration": 86,
    "start_time": "2021-09-26T08:01:44.122Z"
   },
   {
    "duration": 2,
    "start_time": "2021-09-26T08:01:44.209Z"
   },
   {
    "duration": 133,
    "start_time": "2021-09-26T08:01:44.213Z"
   },
   {
    "duration": 23,
    "start_time": "2021-09-26T08:01:44.348Z"
   },
   {
    "duration": 35,
    "start_time": "2021-09-26T08:01:44.373Z"
   },
   {
    "duration": 17,
    "start_time": "2021-09-26T08:01:44.410Z"
   },
   {
    "duration": 5,
    "start_time": "2021-09-26T08:01:44.428Z"
   },
   {
    "duration": 19,
    "start_time": "2021-09-26T08:01:44.434Z"
   },
   {
    "duration": 128,
    "start_time": "2021-09-26T08:01:44.455Z"
   },
   {
    "duration": 17,
    "start_time": "2021-09-26T08:01:44.585Z"
   },
   {
    "duration": 250,
    "start_time": "2021-09-26T08:01:44.604Z"
   },
   {
    "duration": 88,
    "start_time": "2021-09-26T08:01:44.856Z"
   },
   {
    "duration": 56,
    "start_time": "2021-09-26T08:01:44.948Z"
   },
   {
    "duration": 7,
    "start_time": "2021-09-26T08:01:45.007Z"
   },
   {
    "duration": 23,
    "start_time": "2021-09-26T08:01:45.016Z"
   },
   {
    "duration": 60,
    "start_time": "2021-09-26T08:01:45.041Z"
   },
   {
    "duration": 56,
    "start_time": "2021-09-26T08:01:45.103Z"
   },
   {
    "duration": 281,
    "start_time": "2021-09-26T08:01:45.160Z"
   },
   {
    "duration": 33,
    "start_time": "2021-09-26T08:01:45.442Z"
   },
   {
    "duration": 24,
    "start_time": "2021-09-26T08:01:45.477Z"
   },
   {
    "duration": 25,
    "start_time": "2021-09-26T08:01:45.502Z"
   },
   {
    "duration": 78,
    "start_time": "2021-09-26T08:01:45.529Z"
   },
   {
    "duration": 67,
    "start_time": "2021-09-26T08:01:45.609Z"
   },
   {
    "duration": 23,
    "start_time": "2021-09-26T08:01:45.678Z"
   },
   {
    "duration": 18,
    "start_time": "2021-09-26T08:01:45.702Z"
   },
   {
    "duration": 13,
    "start_time": "2021-09-26T08:01:45.722Z"
   },
   {
    "duration": 33,
    "start_time": "2021-09-26T08:01:45.737Z"
   },
   {
    "duration": 63,
    "start_time": "2021-09-26T08:01:45.772Z"
   },
   {
    "duration": 4,
    "start_time": "2021-09-26T08:01:45.836Z"
   },
   {
    "duration": 9,
    "start_time": "2021-09-26T08:01:45.841Z"
   },
   {
    "duration": 7,
    "start_time": "2021-09-26T08:01:45.851Z"
   },
   {
    "duration": 6,
    "start_time": "2021-09-26T08:01:45.860Z"
   },
   {
    "duration": 7,
    "start_time": "2021-09-26T08:01:45.868Z"
   },
   {
    "duration": 9,
    "start_time": "2021-09-26T08:01:45.876Z"
   },
   {
    "duration": 13,
    "start_time": "2021-09-26T08:01:45.887Z"
   },
   {
    "duration": 522,
    "start_time": "2021-09-26T08:01:45.901Z"
   },
   {
    "duration": -1666,
    "start_time": "2021-09-26T08:01:48.090Z"
   },
   {
    "duration": -1674,
    "start_time": "2021-09-26T08:01:48.099Z"
   },
   {
    "duration": -1679,
    "start_time": "2021-09-26T08:01:48.105Z"
   },
   {
    "duration": -1685,
    "start_time": "2021-09-26T08:01:48.112Z"
   },
   {
    "duration": -1691,
    "start_time": "2021-09-26T08:01:48.119Z"
   },
   {
    "duration": -1698,
    "start_time": "2021-09-26T08:01:48.127Z"
   },
   {
    "duration": -1705,
    "start_time": "2021-09-26T08:01:48.134Z"
   },
   {
    "duration": -1711,
    "start_time": "2021-09-26T08:01:48.141Z"
   },
   {
    "duration": -1715,
    "start_time": "2021-09-26T08:01:48.147Z"
   },
   {
    "duration": -1723,
    "start_time": "2021-09-26T08:01:48.155Z"
   },
   {
    "duration": -1728,
    "start_time": "2021-09-26T08:01:48.161Z"
   },
   {
    "duration": -1735,
    "start_time": "2021-09-26T08:01:48.169Z"
   },
   {
    "duration": -1741,
    "start_time": "2021-09-26T08:01:48.176Z"
   },
   {
    "duration": -1757,
    "start_time": "2021-09-26T08:01:48.193Z"
   },
   {
    "duration": -1763,
    "start_time": "2021-09-26T08:01:48.200Z"
   },
   {
    "duration": -1770,
    "start_time": "2021-09-26T08:01:48.207Z"
   },
   {
    "duration": 14,
    "start_time": "2021-09-26T08:02:17.034Z"
   },
   {
    "duration": 3,
    "start_time": "2021-09-26T08:02:20.402Z"
   },
   {
    "duration": 257,
    "start_time": "2021-09-26T08:02:20.407Z"
   },
   {
    "duration": 227,
    "start_time": "2021-09-26T08:02:20.666Z"
   },
   {
    "duration": 1842,
    "start_time": "2021-09-26T08:02:20.900Z"
   },
   {
    "duration": 42,
    "start_time": "2021-09-26T08:02:22.744Z"
   },
   {
    "duration": 9,
    "start_time": "2021-09-26T08:02:22.788Z"
   },
   {
    "duration": 55,
    "start_time": "2021-09-26T08:02:22.799Z"
   },
   {
    "duration": 52,
    "start_time": "2021-09-26T08:02:22.856Z"
   },
   {
    "duration": 222,
    "start_time": "2021-09-26T08:02:22.910Z"
   },
   {
    "duration": 226,
    "start_time": "2021-09-26T08:02:23.134Z"
   },
   {
    "duration": 69,
    "start_time": "2021-09-26T08:02:23.362Z"
   },
   {
    "duration": 87,
    "start_time": "2021-09-26T08:02:23.433Z"
   },
   {
    "duration": 2,
    "start_time": "2021-09-26T08:02:23.522Z"
   },
   {
    "duration": 170,
    "start_time": "2021-09-26T08:02:23.526Z"
   },
   {
    "duration": 25,
    "start_time": "2021-09-26T08:02:23.698Z"
   },
   {
    "duration": 27,
    "start_time": "2021-09-26T08:02:23.725Z"
   },
   {
    "duration": 17,
    "start_time": "2021-09-26T08:02:23.754Z"
   },
   {
    "duration": 5,
    "start_time": "2021-09-26T08:02:23.773Z"
   },
   {
    "duration": 36,
    "start_time": "2021-09-26T08:02:23.781Z"
   },
   {
    "duration": 116,
    "start_time": "2021-09-26T08:02:23.820Z"
   },
   {
    "duration": 10,
    "start_time": "2021-09-26T08:02:23.938Z"
   },
   {
    "duration": 295,
    "start_time": "2021-09-26T08:02:23.949Z"
   },
   {
    "duration": 77,
    "start_time": "2021-09-26T08:02:24.246Z"
   },
   {
    "duration": 61,
    "start_time": "2021-09-26T08:02:24.325Z"
   },
   {
    "duration": 6,
    "start_time": "2021-09-26T08:02:24.388Z"
   },
   {
    "duration": 60,
    "start_time": "2021-09-26T08:02:24.395Z"
   },
   {
    "duration": 58,
    "start_time": "2021-09-26T08:02:24.456Z"
   },
   {
    "duration": 57,
    "start_time": "2021-09-26T08:02:24.516Z"
   },
   {
    "duration": 317,
    "start_time": "2021-09-26T08:02:24.575Z"
   },
   {
    "duration": 34,
    "start_time": "2021-09-26T08:02:24.893Z"
   },
   {
    "duration": 8,
    "start_time": "2021-09-26T08:02:24.929Z"
   },
   {
    "duration": 32,
    "start_time": "2021-09-26T08:02:24.939Z"
   },
   {
    "duration": 84,
    "start_time": "2021-09-26T08:02:24.972Z"
   },
   {
    "duration": 77,
    "start_time": "2021-09-26T08:02:25.058Z"
   },
   {
    "duration": 10,
    "start_time": "2021-09-26T08:02:25.137Z"
   },
   {
    "duration": 66,
    "start_time": "2021-09-26T08:02:25.148Z"
   },
   {
    "duration": 28,
    "start_time": "2021-09-26T08:02:25.216Z"
   },
   {
    "duration": 52,
    "start_time": "2021-09-26T08:02:25.245Z"
   },
   {
    "duration": 80,
    "start_time": "2021-09-26T08:02:25.299Z"
   },
   {
    "duration": 19,
    "start_time": "2021-09-26T08:02:25.380Z"
   },
   {
    "duration": 31,
    "start_time": "2021-09-26T08:02:25.401Z"
   },
   {
    "duration": 32,
    "start_time": "2021-09-26T08:02:25.434Z"
   },
   {
    "duration": 37,
    "start_time": "2021-09-26T08:02:25.468Z"
   },
   {
    "duration": 17,
    "start_time": "2021-09-26T08:02:25.507Z"
   },
   {
    "duration": 56,
    "start_time": "2021-09-26T08:02:25.526Z"
   },
   {
    "duration": 47,
    "start_time": "2021-09-26T08:02:25.584Z"
   },
   {
    "duration": 26,
    "start_time": "2021-09-26T08:02:25.632Z"
   },
   {
    "duration": 2878,
    "start_time": "2021-09-26T08:02:25.660Z"
   },
   {
    "duration": 13,
    "start_time": "2021-09-26T08:02:28.540Z"
   },
   {
    "duration": 15,
    "start_time": "2021-09-26T08:02:28.555Z"
   },
   {
    "duration": 14,
    "start_time": "2021-09-26T08:02:28.572Z"
   },
   {
    "duration": 31,
    "start_time": "2021-09-26T08:02:28.587Z"
   },
   {
    "duration": 216,
    "start_time": "2021-09-26T08:02:28.620Z"
   },
   {
    "duration": -1718,
    "start_time": "2021-09-26T08:02:30.556Z"
   },
   {
    "duration": -1737,
    "start_time": "2021-09-26T08:02:30.576Z"
   },
   {
    "duration": -1744,
    "start_time": "2021-09-26T08:02:30.584Z"
   },
   {
    "duration": -1754,
    "start_time": "2021-09-26T08:02:30.594Z"
   },
   {
    "duration": -1761,
    "start_time": "2021-09-26T08:02:30.602Z"
   },
   {
    "duration": -1769,
    "start_time": "2021-09-26T08:02:30.611Z"
   },
   {
    "duration": -1774,
    "start_time": "2021-09-26T08:02:30.617Z"
   },
   {
    "duration": -1779,
    "start_time": "2021-09-26T08:02:30.623Z"
   },
   {
    "duration": -1785,
    "start_time": "2021-09-26T08:02:30.629Z"
   },
   {
    "duration": -1791,
    "start_time": "2021-09-26T08:02:30.636Z"
   },
   {
    "duration": 23,
    "start_time": "2021-09-26T08:08:08.696Z"
   },
   {
    "duration": 49,
    "start_time": "2021-09-26T08:14:56.248Z"
   },
   {
    "duration": 3,
    "start_time": "2021-09-26T08:15:37.274Z"
   },
   {
    "duration": 5355,
    "start_time": "2021-09-26T08:15:42.180Z"
   },
   {
    "duration": -2036,
    "start_time": "2021-09-26T08:15:49.573Z"
   },
   {
    "duration": -2057,
    "start_time": "2021-09-26T08:15:49.595Z"
   },
   {
    "duration": -2101,
    "start_time": "2021-09-26T08:15:49.640Z"
   },
   {
    "duration": -2116,
    "start_time": "2021-09-26T08:15:49.656Z"
   },
   {
    "duration": -2134,
    "start_time": "2021-09-26T08:15:49.675Z"
   },
   {
    "duration": -2187,
    "start_time": "2021-09-26T08:15:49.729Z"
   },
   {
    "duration": -2236,
    "start_time": "2021-09-26T08:15:49.779Z"
   },
   {
    "duration": -2296,
    "start_time": "2021-09-26T08:15:49.840Z"
   },
   {
    "duration": -2331,
    "start_time": "2021-09-26T08:15:49.876Z"
   },
   {
    "duration": 346,
    "start_time": "2021-09-26T08:16:21.875Z"
   },
   {
    "duration": 223,
    "start_time": "2021-09-26T08:17:46.307Z"
   },
   {
    "duration": 184,
    "start_time": "2021-09-26T08:18:24.691Z"
   },
   {
    "duration": 188,
    "start_time": "2021-09-26T08:18:36.264Z"
   },
   {
    "duration": 190,
    "start_time": "2021-09-26T08:19:10.881Z"
   },
   {
    "duration": 193,
    "start_time": "2021-09-26T08:19:34.008Z"
   },
   {
    "duration": 28,
    "start_time": "2021-09-26T08:19:50.376Z"
   },
   {
    "duration": 184,
    "start_time": "2021-09-26T08:20:23.285Z"
   },
   {
    "duration": 182,
    "start_time": "2021-09-26T08:20:33.113Z"
   },
   {
    "duration": 992,
    "start_time": "2021-09-26T08:20:47.859Z"
   },
   {
    "duration": 381,
    "start_time": "2021-09-26T08:21:11.293Z"
   },
   {
    "duration": 1110,
    "start_time": "2021-09-26T08:21:24.061Z"
   },
   {
    "duration": 307,
    "start_time": "2021-09-26T08:21:41.495Z"
   },
   {
    "duration": 398,
    "start_time": "2021-09-26T08:22:14.768Z"
   },
   {
    "duration": 4527,
    "start_time": "2021-09-26T08:22:26.102Z"
   },
   {
    "duration": 318,
    "start_time": "2021-09-26T08:22:35.128Z"
   },
   {
    "duration": 182,
    "start_time": "2021-09-26T08:22:57.500Z"
   },
   {
    "duration": 192,
    "start_time": "2021-09-26T08:28:21.009Z"
   },
   {
    "duration": 336,
    "start_time": "2021-09-26T08:30:25.583Z"
   },
   {
    "duration": 11,
    "start_time": "2021-09-26T08:32:49.533Z"
   },
   {
    "duration": 1604,
    "start_time": "2021-09-26T16:09:32.559Z"
   },
   {
    "duration": 395,
    "start_time": "2021-09-26T16:09:34.165Z"
   },
   {
    "duration": 408,
    "start_time": "2021-09-26T16:09:34.564Z"
   },
   {
    "duration": 282,
    "start_time": "2021-09-26T16:09:34.975Z"
   },
   {
    "duration": 90,
    "start_time": "2021-09-26T16:09:35.259Z"
   },
   {
    "duration": 15,
    "start_time": "2021-09-26T16:09:35.353Z"
   },
   {
    "duration": 82,
    "start_time": "2021-09-26T16:09:35.371Z"
   },
   {
    "duration": 74,
    "start_time": "2021-09-26T16:09:35.457Z"
   },
   {
    "duration": 330,
    "start_time": "2021-09-26T16:09:35.535Z"
   },
   {
    "duration": 343,
    "start_time": "2021-09-26T16:09:35.868Z"
   },
   {
    "duration": 130,
    "start_time": "2021-09-26T16:09:36.214Z"
   },
   {
    "duration": 158,
    "start_time": "2021-09-26T16:09:36.346Z"
   },
   {
    "duration": 3,
    "start_time": "2021-09-26T16:09:36.507Z"
   },
   {
    "duration": 237,
    "start_time": "2021-09-26T16:09:36.512Z"
   },
   {
    "duration": 49,
    "start_time": "2021-09-26T16:09:36.752Z"
   },
   {
    "duration": 31,
    "start_time": "2021-09-26T16:09:36.803Z"
   },
   {
    "duration": 48,
    "start_time": "2021-09-26T16:09:36.837Z"
   },
   {
    "duration": 9,
    "start_time": "2021-09-26T16:09:36.888Z"
   },
   {
    "duration": 35,
    "start_time": "2021-09-26T16:09:36.900Z"
   },
   {
    "duration": 193,
    "start_time": "2021-09-26T16:09:36.938Z"
   },
   {
    "duration": 12,
    "start_time": "2021-09-26T16:09:37.134Z"
   },
   {
    "duration": 447,
    "start_time": "2021-09-26T16:09:37.148Z"
   },
   {
    "duration": 119,
    "start_time": "2021-09-26T16:09:37.602Z"
   },
   {
    "duration": 92,
    "start_time": "2021-09-26T16:09:37.725Z"
   },
   {
    "duration": 8,
    "start_time": "2021-09-26T16:09:37.819Z"
   },
   {
    "duration": 30,
    "start_time": "2021-09-26T16:09:37.829Z"
   },
   {
    "duration": 78,
    "start_time": "2021-09-26T16:09:37.861Z"
   },
   {
    "duration": 122,
    "start_time": "2021-09-26T16:09:37.942Z"
   },
   {
    "duration": 444,
    "start_time": "2021-09-26T16:09:38.066Z"
   },
   {
    "duration": 50,
    "start_time": "2021-09-26T16:09:38.513Z"
   },
   {
    "duration": 20,
    "start_time": "2021-09-26T16:09:38.584Z"
   },
   {
    "duration": 46,
    "start_time": "2021-09-26T16:09:38.606Z"
   },
   {
    "duration": 134,
    "start_time": "2021-09-26T16:09:38.654Z"
   },
   {
    "duration": 118,
    "start_time": "2021-09-26T16:09:38.791Z"
   },
   {
    "duration": 15,
    "start_time": "2021-09-26T16:09:38.911Z"
   },
   {
    "duration": 58,
    "start_time": "2021-09-26T16:09:38.928Z"
   },
   {
    "duration": 27,
    "start_time": "2021-09-26T16:09:38.989Z"
   },
   {
    "duration": 83,
    "start_time": "2021-09-26T16:09:39.019Z"
   },
   {
    "duration": 57,
    "start_time": "2021-09-26T16:09:39.104Z"
   },
   {
    "duration": 22,
    "start_time": "2021-09-26T16:09:39.164Z"
   },
   {
    "duration": 12,
    "start_time": "2021-09-26T16:09:39.190Z"
   },
   {
    "duration": 4,
    "start_time": "2021-09-26T16:09:39.205Z"
   },
   {
    "duration": 5,
    "start_time": "2021-09-26T16:09:39.211Z"
   },
   {
    "duration": 5,
    "start_time": "2021-09-26T16:09:39.218Z"
   },
   {
    "duration": 8,
    "start_time": "2021-09-26T16:09:39.225Z"
   },
   {
    "duration": 48,
    "start_time": "2021-09-26T16:09:39.235Z"
   },
   {
    "duration": 30,
    "start_time": "2021-09-26T16:09:39.285Z"
   },
   {
    "duration": 1249,
    "start_time": "2021-09-26T16:09:39.317Z"
   },
   {
    "duration": 30,
    "start_time": "2021-09-26T16:09:40.568Z"
   },
   {
    "duration": 40,
    "start_time": "2021-09-26T16:09:40.601Z"
   },
   {
    "duration": 117,
    "start_time": "2021-09-26T16:09:40.643Z"
   },
   {
    "duration": 3,
    "start_time": "2021-09-26T16:09:40.763Z"
   },
   {
    "duration": 569,
    "start_time": "2021-09-26T16:09:40.783Z"
   },
   {
    "duration": 545,
    "start_time": "2021-09-26T16:09:41.355Z"
   },
   {
    "duration": 46,
    "start_time": "2021-09-26T16:09:41.902Z"
   },
   {
    "duration": 1414,
    "start_time": "2021-09-26T16:09:41.950Z"
   },
   {
    "duration": 560,
    "start_time": "2021-09-26T16:09:43.367Z"
   },
   {
    "duration": 1660,
    "start_time": "2021-09-26T16:09:43.930Z"
   },
   {
    "duration": 720,
    "start_time": "2021-09-26T16:09:45.592Z"
   },
   {
    "duration": 630,
    "start_time": "2021-09-26T16:09:46.314Z"
   },
   {
    "duration": 15,
    "start_time": "2021-09-26T16:09:46.947Z"
   },
   {
    "duration": 588,
    "start_time": "2021-09-26T16:09:46.964Z"
   },
   {
    "duration": 170,
    "start_time": "2021-09-26T16:11:47.299Z"
   },
   {
    "duration": 61,
    "start_time": "2021-09-26T16:11:57.915Z"
   },
   {
    "duration": 16,
    "start_time": "2021-09-26T16:12:14.342Z"
   },
   {
    "duration": 15,
    "start_time": "2021-09-26T16:13:04.201Z"
   },
   {
    "duration": 16,
    "start_time": "2021-09-26T16:14:31.633Z"
   },
   {
    "duration": 4,
    "start_time": "2021-09-26T16:15:13.797Z"
   },
   {
    "duration": 303,
    "start_time": "2021-09-26T16:15:13.810Z"
   },
   {
    "duration": 252,
    "start_time": "2021-09-26T16:15:14.117Z"
   },
   {
    "duration": 167,
    "start_time": "2021-09-26T16:15:14.373Z"
   },
   {
    "duration": 44,
    "start_time": "2021-09-26T16:15:14.544Z"
   },
   {
    "duration": 13,
    "start_time": "2021-09-26T16:15:14.590Z"
   },
   {
    "duration": 51,
    "start_time": "2021-09-26T16:15:14.606Z"
   },
   {
    "duration": 78,
    "start_time": "2021-09-26T16:15:14.660Z"
   },
   {
    "duration": 312,
    "start_time": "2021-09-26T16:15:14.740Z"
   },
   {
    "duration": 334,
    "start_time": "2021-09-26T16:15:15.056Z"
   },
   {
    "duration": 123,
    "start_time": "2021-09-26T16:15:15.394Z"
   },
   {
    "duration": 147,
    "start_time": "2021-09-26T16:15:15.520Z"
   },
   {
    "duration": 12,
    "start_time": "2021-09-26T16:15:15.670Z"
   },
   {
    "duration": 208,
    "start_time": "2021-09-26T16:15:15.684Z"
   },
   {
    "duration": 35,
    "start_time": "2021-09-26T16:15:15.894Z"
   },
   {
    "duration": 27,
    "start_time": "2021-09-26T16:15:15.931Z"
   },
   {
    "duration": 45,
    "start_time": "2021-09-26T16:15:15.961Z"
   },
   {
    "duration": 6,
    "start_time": "2021-09-26T16:15:16.008Z"
   },
   {
    "duration": 34,
    "start_time": "2021-09-26T16:15:16.016Z"
   },
   {
    "duration": 138,
    "start_time": "2021-09-26T16:15:16.082Z"
   },
   {
    "duration": 12,
    "start_time": "2021-09-26T16:15:16.222Z"
   },
   {
    "duration": 392,
    "start_time": "2021-09-26T16:15:16.237Z"
   },
   {
    "duration": 115,
    "start_time": "2021-09-26T16:15:16.632Z"
   },
   {
    "duration": 76,
    "start_time": "2021-09-26T16:15:16.749Z"
   },
   {
    "duration": 8,
    "start_time": "2021-09-26T16:15:16.827Z"
   },
   {
    "duration": 47,
    "start_time": "2021-09-26T16:15:16.837Z"
   },
   {
    "duration": 46,
    "start_time": "2021-09-26T16:15:16.886Z"
   },
   {
    "duration": 103,
    "start_time": "2021-09-26T16:15:16.938Z"
   },
   {
    "duration": 358,
    "start_time": "2021-09-26T16:15:17.044Z"
   },
   {
    "duration": 48,
    "start_time": "2021-09-26T16:15:17.405Z"
   },
   {
    "duration": 37,
    "start_time": "2021-09-26T16:15:17.456Z"
   },
   {
    "duration": 46,
    "start_time": "2021-09-26T16:15:17.496Z"
   },
   {
    "duration": 151,
    "start_time": "2021-09-26T16:15:17.545Z"
   },
   {
    "duration": 119,
    "start_time": "2021-09-26T16:15:17.698Z"
   },
   {
    "duration": 15,
    "start_time": "2021-09-26T16:15:17.819Z"
   },
   {
    "duration": 56,
    "start_time": "2021-09-26T16:15:17.837Z"
   },
   {
    "duration": 23,
    "start_time": "2021-09-26T16:15:17.895Z"
   },
   {
    "duration": 77,
    "start_time": "2021-09-26T16:15:17.921Z"
   },
   {
    "duration": 55,
    "start_time": "2021-09-26T16:15:18.001Z"
   },
   {
    "duration": 5,
    "start_time": "2021-09-26T16:15:18.058Z"
   },
   {
    "duration": 13,
    "start_time": "2021-09-26T16:15:18.083Z"
   },
   {
    "duration": 3,
    "start_time": "2021-09-26T16:15:18.099Z"
   },
   {
    "duration": 8,
    "start_time": "2021-09-26T16:15:18.105Z"
   },
   {
    "duration": 16,
    "start_time": "2021-09-26T16:15:18.116Z"
   },
   {
    "duration": 5,
    "start_time": "2021-09-26T16:15:18.135Z"
   },
   {
    "duration": 5,
    "start_time": "2021-09-26T16:15:18.143Z"
   },
   {
    "duration": 53,
    "start_time": "2021-09-26T16:15:18.151Z"
   },
   {
    "duration": 972,
    "start_time": "2021-09-26T16:15:18.207Z"
   },
   {
    "duration": 25,
    "start_time": "2021-09-26T16:15:19.183Z"
   },
   {
    "duration": 90,
    "start_time": "2021-09-26T16:15:19.210Z"
   },
   {
    "duration": 100,
    "start_time": "2021-09-26T16:15:19.304Z"
   },
   {
    "duration": 5,
    "start_time": "2021-09-26T16:15:19.407Z"
   },
   {
    "duration": 543,
    "start_time": "2021-09-26T16:15:19.415Z"
   },
   {
    "duration": 506,
    "start_time": "2021-09-26T16:15:19.961Z"
   },
   {
    "duration": 52,
    "start_time": "2021-09-26T16:15:20.470Z"
   },
   {
    "duration": 1433,
    "start_time": "2021-09-26T16:15:20.526Z"
   },
   {
    "duration": 528,
    "start_time": "2021-09-26T16:15:21.962Z"
   },
   {
    "duration": 537,
    "start_time": "2021-09-26T16:15:22.492Z"
   },
   {
    "duration": 643,
    "start_time": "2021-09-26T16:15:23.031Z"
   },
   {
    "duration": 547,
    "start_time": "2021-09-26T16:15:23.682Z"
   },
   {
    "duration": 14,
    "start_time": "2021-09-26T16:15:24.232Z"
   },
   {
    "duration": 33,
    "start_time": "2021-09-26T16:15:24.249Z"
   },
   {
    "duration": 64,
    "start_time": "2021-09-26T16:21:14.149Z"
   },
   {
    "duration": 5,
    "start_time": "2021-09-26T16:21:32.147Z"
   },
   {
    "duration": 291,
    "start_time": "2021-09-26T16:21:32.155Z"
   },
   {
    "duration": 267,
    "start_time": "2021-09-26T16:21:32.449Z"
   },
   {
    "duration": 196,
    "start_time": "2021-09-26T16:21:32.720Z"
   },
   {
    "duration": 49,
    "start_time": "2021-09-26T16:21:32.918Z"
   },
   {
    "duration": 15,
    "start_time": "2021-09-26T16:21:32.970Z"
   },
   {
    "duration": 54,
    "start_time": "2021-09-26T16:21:32.990Z"
   },
   {
    "duration": 91,
    "start_time": "2021-09-26T16:21:33.047Z"
   },
   {
    "duration": 343,
    "start_time": "2021-09-26T16:21:33.141Z"
   },
   {
    "duration": 356,
    "start_time": "2021-09-26T16:21:33.488Z"
   },
   {
    "duration": 132,
    "start_time": "2021-09-26T16:21:33.846Z"
   },
   {
    "duration": 152,
    "start_time": "2021-09-26T16:21:33.982Z"
   },
   {
    "duration": 4,
    "start_time": "2021-09-26T16:21:34.138Z"
   },
   {
    "duration": 222,
    "start_time": "2021-09-26T16:21:34.145Z"
   },
   {
    "duration": 45,
    "start_time": "2021-09-26T16:21:34.370Z"
   },
   {
    "duration": 27,
    "start_time": "2021-09-26T16:21:34.418Z"
   },
   {
    "duration": 52,
    "start_time": "2021-09-26T16:21:34.447Z"
   },
   {
    "duration": 6,
    "start_time": "2021-09-26T16:21:34.501Z"
   },
   {
    "duration": 31,
    "start_time": "2021-09-26T16:21:34.512Z"
   },
   {
    "duration": 158,
    "start_time": "2021-09-26T16:21:34.547Z"
   },
   {
    "duration": 12,
    "start_time": "2021-09-26T16:21:34.708Z"
   },
   {
    "duration": 424,
    "start_time": "2021-09-26T16:21:34.722Z"
   },
   {
    "duration": 139,
    "start_time": "2021-09-26T16:21:35.149Z"
   },
   {
    "duration": 63,
    "start_time": "2021-09-26T16:21:35.291Z"
   },
   {
    "duration": 31,
    "start_time": "2021-09-26T16:21:35.357Z"
   },
   {
    "duration": 29,
    "start_time": "2021-09-26T16:21:35.391Z"
   },
   {
    "duration": 79,
    "start_time": "2021-09-26T16:21:35.422Z"
   },
   {
    "duration": 116,
    "start_time": "2021-09-26T16:21:35.504Z"
   },
   {
    "duration": 383,
    "start_time": "2021-09-26T16:21:35.622Z"
   },
   {
    "duration": 14,
    "start_time": "2021-09-26T16:21:36.007Z"
   },
   {
    "duration": 71,
    "start_time": "2021-09-26T16:21:36.024Z"
   },
   {
    "duration": 66,
    "start_time": "2021-09-26T16:21:36.097Z"
   },
   {
    "duration": 292,
    "start_time": "2021-09-26T16:21:36.182Z"
   },
   {
    "duration": -49,
    "start_time": "2021-09-26T16:21:36.525Z"
   },
   {
    "duration": -52,
    "start_time": "2021-09-26T16:21:36.530Z"
   },
   {
    "duration": -55,
    "start_time": "2021-09-26T16:21:36.534Z"
   },
   {
    "duration": -61,
    "start_time": "2021-09-26T16:21:36.541Z"
   },
   {
    "duration": -65,
    "start_time": "2021-09-26T16:21:36.546Z"
   },
   {
    "duration": -67,
    "start_time": "2021-09-26T16:21:36.551Z"
   },
   {
    "duration": -75,
    "start_time": "2021-09-26T16:21:36.561Z"
   },
   {
    "duration": -78,
    "start_time": "2021-09-26T16:21:36.566Z"
   },
   {
    "duration": -80,
    "start_time": "2021-09-26T16:21:36.570Z"
   },
   {
    "duration": -85,
    "start_time": "2021-09-26T16:21:36.577Z"
   },
   {
    "duration": -87,
    "start_time": "2021-09-26T16:21:36.581Z"
   },
   {
    "duration": -90,
    "start_time": "2021-09-26T16:21:36.586Z"
   },
   {
    "duration": -92,
    "start_time": "2021-09-26T16:21:36.590Z"
   },
   {
    "duration": -95,
    "start_time": "2021-09-26T16:21:36.595Z"
   },
   {
    "duration": -97,
    "start_time": "2021-09-26T16:21:36.599Z"
   },
   {
    "duration": -100,
    "start_time": "2021-09-26T16:21:36.603Z"
   },
   {
    "duration": -108,
    "start_time": "2021-09-26T16:21:36.613Z"
   },
   {
    "duration": -112,
    "start_time": "2021-09-26T16:21:36.618Z"
   },
   {
    "duration": -116,
    "start_time": "2021-09-26T16:21:36.624Z"
   },
   {
    "duration": -119,
    "start_time": "2021-09-26T16:21:36.629Z"
   },
   {
    "duration": -121,
    "start_time": "2021-09-26T16:21:36.634Z"
   },
   {
    "duration": -130,
    "start_time": "2021-09-26T16:21:36.645Z"
   },
   {
    "duration": -132,
    "start_time": "2021-09-26T16:21:36.649Z"
   },
   {
    "duration": -141,
    "start_time": "2021-09-26T16:21:36.660Z"
   },
   {
    "duration": -143,
    "start_time": "2021-09-26T16:21:36.664Z"
   },
   {
    "duration": -148,
    "start_time": "2021-09-26T16:21:36.672Z"
   },
   {
    "duration": -96,
    "start_time": "2021-09-26T16:21:36.679Z"
   },
   {
    "duration": -101,
    "start_time": "2021-09-26T16:21:36.686Z"
   },
   {
    "duration": 90,
    "start_time": "2021-09-26T16:22:11.091Z"
   },
   {
    "duration": 27,
    "start_time": "2021-09-26T16:22:15.579Z"
   },
   {
    "duration": 74,
    "start_time": "2021-09-26T16:22:15.609Z"
   },
   {
    "duration": 28,
    "start_time": "2021-09-26T16:22:15.687Z"
   },
   {
    "duration": 81,
    "start_time": "2021-09-26T16:22:15.718Z"
   },
   {
    "duration": 3,
    "start_time": "2021-09-26T16:22:15.802Z"
   },
   {
    "duration": 14,
    "start_time": "2021-09-26T16:22:15.808Z"
   },
   {
    "duration": 7,
    "start_time": "2021-09-26T16:22:15.824Z"
   },
   {
    "duration": 4,
    "start_time": "2021-09-26T16:22:15.835Z"
   },
   {
    "duration": 9,
    "start_time": "2021-09-26T16:22:15.842Z"
   },
   {
    "duration": 34,
    "start_time": "2021-09-26T16:22:15.853Z"
   },
   {
    "duration": 15,
    "start_time": "2021-09-26T16:22:15.889Z"
   },
   {
    "duration": 7,
    "start_time": "2021-09-26T16:22:15.907Z"
   },
   {
    "duration": 8,
    "start_time": "2021-09-26T16:22:15.917Z"
   },
   {
    "duration": 1087,
    "start_time": "2021-09-26T16:22:15.927Z"
   },
   {
    "duration": 25,
    "start_time": "2021-09-26T16:22:17.018Z"
   },
   {
    "duration": 92,
    "start_time": "2021-09-26T16:22:17.046Z"
   },
   {
    "duration": 114,
    "start_time": "2021-09-26T16:22:17.141Z"
   },
   {
    "duration": 4,
    "start_time": "2021-09-26T16:22:17.258Z"
   },
   {
    "duration": 785,
    "start_time": "2021-09-26T16:22:17.265Z"
   },
   {
    "duration": 470,
    "start_time": "2021-09-26T16:22:18.052Z"
   },
   {
    "duration": 60,
    "start_time": "2021-09-26T16:22:18.524Z"
   },
   {
    "duration": 1550,
    "start_time": "2021-09-26T16:22:18.587Z"
   },
   {
    "duration": 603,
    "start_time": "2021-09-26T16:22:20.142Z"
   },
   {
    "duration": 702,
    "start_time": "2021-09-26T16:22:20.748Z"
   },
   {
    "duration": 505,
    "start_time": "2021-09-26T16:22:21.453Z"
   },
   {
    "duration": 567,
    "start_time": "2021-09-26T16:22:21.961Z"
   },
   {
    "duration": 15,
    "start_time": "2021-09-26T16:22:22.530Z"
   },
   {
    "duration": 42,
    "start_time": "2021-09-26T16:22:22.548Z"
   },
   {
    "duration": 1072,
    "start_time": "2021-09-26T16:25:14.453Z"
   },
   {
    "duration": 30,
    "start_time": "2021-09-26T16:25:58.049Z"
   },
   {
    "duration": 44,
    "start_time": "2021-09-26T16:26:05.508Z"
   },
   {
    "duration": 4,
    "start_time": "2021-09-26T16:26:28.587Z"
   },
   {
    "duration": 303,
    "start_time": "2021-09-26T16:26:28.594Z"
   },
   {
    "duration": 238,
    "start_time": "2021-09-26T16:26:28.900Z"
   },
   {
    "duration": 164,
    "start_time": "2021-09-26T16:26:29.140Z"
   },
   {
    "duration": 47,
    "start_time": "2021-09-26T16:26:29.307Z"
   },
   {
    "duration": 13,
    "start_time": "2021-09-26T16:26:29.356Z"
   },
   {
    "duration": 54,
    "start_time": "2021-09-26T16:26:29.373Z"
   },
   {
    "duration": 74,
    "start_time": "2021-09-26T16:26:29.430Z"
   },
   {
    "duration": 310,
    "start_time": "2021-09-26T16:26:29.507Z"
   },
   {
    "duration": 323,
    "start_time": "2021-09-26T16:26:29.820Z"
   },
   {
    "duration": 120,
    "start_time": "2021-09-26T16:26:30.146Z"
   },
   {
    "duration": 126,
    "start_time": "2021-09-26T16:26:30.269Z"
   },
   {
    "duration": 4,
    "start_time": "2021-09-26T16:26:30.398Z"
   },
   {
    "duration": 217,
    "start_time": "2021-09-26T16:26:30.405Z"
   },
   {
    "duration": 36,
    "start_time": "2021-09-26T16:26:30.625Z"
   },
   {
    "duration": 46,
    "start_time": "2021-09-26T16:26:30.664Z"
   },
   {
    "duration": 27,
    "start_time": "2021-09-26T16:26:30.713Z"
   },
   {
    "duration": 7,
    "start_time": "2021-09-26T16:26:30.743Z"
   },
   {
    "duration": 31,
    "start_time": "2021-09-26T16:26:30.784Z"
   },
   {
    "duration": 140,
    "start_time": "2021-09-26T16:26:30.819Z"
   },
   {
    "duration": 25,
    "start_time": "2021-09-26T16:26:30.962Z"
   },
   {
    "duration": 407,
    "start_time": "2021-09-26T16:26:30.990Z"
   },
   {
    "duration": 107,
    "start_time": "2021-09-26T16:26:31.400Z"
   },
   {
    "duration": 74,
    "start_time": "2021-09-26T16:26:31.510Z"
   },
   {
    "duration": 10,
    "start_time": "2021-09-26T16:26:31.586Z"
   },
   {
    "duration": 38,
    "start_time": "2021-09-26T16:26:31.598Z"
   },
   {
    "duration": 84,
    "start_time": "2021-09-26T16:26:31.638Z"
   },
   {
    "duration": 113,
    "start_time": "2021-09-26T16:26:31.725Z"
   },
   {
    "duration": 369,
    "start_time": "2021-09-26T16:26:31.841Z"
   },
   {
    "duration": 16,
    "start_time": "2021-09-26T16:26:32.213Z"
   },
   {
    "duration": 71,
    "start_time": "2021-09-26T16:26:32.232Z"
   },
   {
    "duration": 78,
    "start_time": "2021-09-26T16:26:32.306Z"
   },
   {
    "duration": 82,
    "start_time": "2021-09-26T16:26:32.386Z"
   },
   {
    "duration": 15,
    "start_time": "2021-09-26T16:26:32.482Z"
   },
   {
    "duration": 32,
    "start_time": "2021-09-26T16:26:32.500Z"
   },
   {
    "duration": 59,
    "start_time": "2021-09-26T16:26:32.534Z"
   },
   {
    "duration": 52,
    "start_time": "2021-09-26T16:26:32.596Z"
   },
   {
    "duration": 998,
    "start_time": "2021-09-26T16:26:32.651Z"
   },
   {
    "duration": 44,
    "start_time": "2021-09-26T16:26:33.652Z"
   },
   {
    "duration": 46,
    "start_time": "2021-09-26T16:26:33.699Z"
   },
   {
    "duration": 116,
    "start_time": "2021-09-26T16:26:33.748Z"
   },
   {
    "duration": 16,
    "start_time": "2021-09-26T16:26:33.868Z"
   },
   {
    "duration": 564,
    "start_time": "2021-09-26T16:26:33.887Z"
   },
   {
    "duration": 496,
    "start_time": "2021-09-26T16:26:34.453Z"
   },
   {
    "duration": 59,
    "start_time": "2021-09-26T16:26:34.952Z"
   },
   {
    "duration": 1339,
    "start_time": "2021-09-26T16:26:35.014Z"
   },
   {
    "duration": 552,
    "start_time": "2021-09-26T16:26:36.356Z"
   },
   {
    "duration": 685,
    "start_time": "2021-09-26T16:26:36.910Z"
   },
   {
    "duration": 549,
    "start_time": "2021-09-26T16:26:37.597Z"
   },
   {
    "duration": 678,
    "start_time": "2021-09-26T16:26:38.148Z"
   },
   {
    "duration": 15,
    "start_time": "2021-09-26T16:26:38.829Z"
   },
   {
    "duration": 37,
    "start_time": "2021-09-26T16:26:38.846Z"
   }
  ],
  "kernelspec": {
   "display_name": "Python 3",
   "language": "python",
   "name": "python3"
  },
  "language_info": {
   "codemirror_mode": {
    "name": "ipython",
    "version": 3
   },
   "file_extension": ".py",
   "mimetype": "text/x-python",
   "name": "python",
   "nbconvert_exporter": "python",
   "pygments_lexer": "ipython3",
   "version": "3.8.8"
  },
  "toc": {
   "base_numbering": 1,
   "nav_menu": {},
   "number_sections": true,
   "sideBar": true,
   "skip_h1_title": true,
   "title_cell": "Table of Contents",
   "title_sidebar": "Contents",
   "toc_cell": true,
   "toc_position": {
    "height": "511.2px",
    "left": "36px",
    "top": "111.12px",
    "width": "228.22px"
   },
   "toc_section_display": true,
   "toc_window_display": true
  }
 },
 "nbformat": 4,
 "nbformat_minor": 2
}
