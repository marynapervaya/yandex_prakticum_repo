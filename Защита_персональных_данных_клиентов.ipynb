{
 "cells": [
  {
   "cell_type": "markdown",
   "metadata": {
    "toc": true
   },
   "source": [
    "<h1>Содержание<span class=\"tocSkip\"></span></h1>\n",
    "<div class=\"toc\"><ul class=\"toc-item\"><li><span><a href=\"#Загрузка-данных\" data-toc-modified-id=\"Загрузка-данных-1\"><span class=\"toc-item-num\">1&nbsp;&nbsp;</span>Загрузка данных</a></span></li><li><span><a href=\"#Умножение-матриц\" data-toc-modified-id=\"Умножение-матриц-2\"><span class=\"toc-item-num\">2&nbsp;&nbsp;</span>Умножение матриц</a></span></li><li><span><a href=\"#Алгоритм-преобразования\" data-toc-modified-id=\"Алгоритм-преобразования-3\"><span class=\"toc-item-num\">3&nbsp;&nbsp;</span>Алгоритм преобразования</a></span></li><li><span><a href=\"#Проверка-алгоритма\" data-toc-modified-id=\"Проверка-алгоритма-4\"><span class=\"toc-item-num\">4&nbsp;&nbsp;</span>Проверка алгоритма</a></span></li><li><span><a href=\"#Чек-лист-проверки\" data-toc-modified-id=\"Чек-лист-проверки-5\"><span class=\"toc-item-num\">5&nbsp;&nbsp;</span>Чек-лист проверки</a></span></li></ul></div>"
   ]
  },
  {
   "cell_type": "markdown",
   "metadata": {},
   "source": [
    "# Защита персональных данных клиентов"
   ]
  },
  {
   "cell_type": "markdown",
   "metadata": {},
   "source": [
    "Вам нужно защитить данные клиентов страховой компании «Хоть потоп». Разработайте такой метод преобразования данных, чтобы по ним было сложно восстановить персональную информацию. Обоснуйте корректность его работы.\n",
    "\n",
    "Нужно защитить данные, чтобы при преобразовании качество моделей машинного обучения не ухудшилось. Подбирать наилучшую модель не требуется."
   ]
  },
  {
   "cell_type": "markdown",
   "metadata": {},
   "source": [
    "## Загрузка данных"
   ]
  },
  {
   "cell_type": "code",
   "execution_count": 31,
   "metadata": {},
   "outputs": [],
   "source": [
    "import pandas as pd\n",
    "import numpy as np\n",
    "from sklearn.linear_model import LinearRegression\n",
    "from sklearn.metrics import r2_score"
   ]
  },
  {
   "cell_type": "code",
   "execution_count": 32,
   "metadata": {},
   "outputs": [
    {
     "data": {
      "text/html": [
       "<div>\n",
       "<style scoped>\n",
       "    .dataframe tbody tr th:only-of-type {\n",
       "        vertical-align: middle;\n",
       "    }\n",
       "\n",
       "    .dataframe tbody tr th {\n",
       "        vertical-align: top;\n",
       "    }\n",
       "\n",
       "    .dataframe thead th {\n",
       "        text-align: right;\n",
       "    }\n",
       "</style>\n",
       "<table border=\"1\" class=\"dataframe\">\n",
       "  <thead>\n",
       "    <tr style=\"text-align: right;\">\n",
       "      <th></th>\n",
       "      <th>Пол</th>\n",
       "      <th>Возраст</th>\n",
       "      <th>Зарплата</th>\n",
       "      <th>Члены семьи</th>\n",
       "      <th>Страховые выплаты</th>\n",
       "    </tr>\n",
       "  </thead>\n",
       "  <tbody>\n",
       "    <tr>\n",
       "      <th>0</th>\n",
       "      <td>1</td>\n",
       "      <td>41.0</td>\n",
       "      <td>49600.0</td>\n",
       "      <td>1</td>\n",
       "      <td>0</td>\n",
       "    </tr>\n",
       "    <tr>\n",
       "      <th>1</th>\n",
       "      <td>0</td>\n",
       "      <td>46.0</td>\n",
       "      <td>38000.0</td>\n",
       "      <td>1</td>\n",
       "      <td>1</td>\n",
       "    </tr>\n",
       "    <tr>\n",
       "      <th>2</th>\n",
       "      <td>0</td>\n",
       "      <td>29.0</td>\n",
       "      <td>21000.0</td>\n",
       "      <td>0</td>\n",
       "      <td>0</td>\n",
       "    </tr>\n",
       "    <tr>\n",
       "      <th>3</th>\n",
       "      <td>0</td>\n",
       "      <td>21.0</td>\n",
       "      <td>41700.0</td>\n",
       "      <td>2</td>\n",
       "      <td>0</td>\n",
       "    </tr>\n",
       "    <tr>\n",
       "      <th>4</th>\n",
       "      <td>1</td>\n",
       "      <td>28.0</td>\n",
       "      <td>26100.0</td>\n",
       "      <td>0</td>\n",
       "      <td>0</td>\n",
       "    </tr>\n",
       "    <tr>\n",
       "      <th>...</th>\n",
       "      <td>...</td>\n",
       "      <td>...</td>\n",
       "      <td>...</td>\n",
       "      <td>...</td>\n",
       "      <td>...</td>\n",
       "    </tr>\n",
       "    <tr>\n",
       "      <th>4995</th>\n",
       "      <td>0</td>\n",
       "      <td>28.0</td>\n",
       "      <td>35700.0</td>\n",
       "      <td>2</td>\n",
       "      <td>0</td>\n",
       "    </tr>\n",
       "    <tr>\n",
       "      <th>4996</th>\n",
       "      <td>0</td>\n",
       "      <td>34.0</td>\n",
       "      <td>52400.0</td>\n",
       "      <td>1</td>\n",
       "      <td>0</td>\n",
       "    </tr>\n",
       "    <tr>\n",
       "      <th>4997</th>\n",
       "      <td>0</td>\n",
       "      <td>20.0</td>\n",
       "      <td>33900.0</td>\n",
       "      <td>2</td>\n",
       "      <td>0</td>\n",
       "    </tr>\n",
       "    <tr>\n",
       "      <th>4998</th>\n",
       "      <td>1</td>\n",
       "      <td>22.0</td>\n",
       "      <td>32700.0</td>\n",
       "      <td>3</td>\n",
       "      <td>0</td>\n",
       "    </tr>\n",
       "    <tr>\n",
       "      <th>4999</th>\n",
       "      <td>1</td>\n",
       "      <td>28.0</td>\n",
       "      <td>40600.0</td>\n",
       "      <td>1</td>\n",
       "      <td>0</td>\n",
       "    </tr>\n",
       "  </tbody>\n",
       "</table>\n",
       "<p>5000 rows × 5 columns</p>\n",
       "</div>"
      ],
      "text/plain": [
       "      Пол  Возраст  Зарплата  Члены семьи  Страховые выплаты\n",
       "0       1     41.0   49600.0            1                  0\n",
       "1       0     46.0   38000.0            1                  1\n",
       "2       0     29.0   21000.0            0                  0\n",
       "3       0     21.0   41700.0            2                  0\n",
       "4       1     28.0   26100.0            0                  0\n",
       "...   ...      ...       ...          ...                ...\n",
       "4995    0     28.0   35700.0            2                  0\n",
       "4996    0     34.0   52400.0            1                  0\n",
       "4997    0     20.0   33900.0            2                  0\n",
       "4998    1     22.0   32700.0            3                  0\n",
       "4999    1     28.0   40600.0            1                  0\n",
       "\n",
       "[5000 rows x 5 columns]"
      ]
     },
     "execution_count": 32,
     "metadata": {},
     "output_type": "execute_result"
    }
   ],
   "source": [
    "data = pd.read_csv('https://code.s3.yandex.net/datasets/insurance.csv')\n",
    "data\n"
   ]
  },
  {
   "cell_type": "markdown",
   "metadata": {},
   "source": [
    "Итак, в таблице 5 столбцов.\n",
    "\n",
    "- Пол, \n",
    "- Возраст,\n",
    "- Зарплата,\n",
    "- Члены семьи,\n",
    "- Страховые выплаты."
   ]
  },
  {
   "cell_type": "code",
   "execution_count": 33,
   "metadata": {},
   "outputs": [
    {
     "data": {
      "text/plain": [
       "Пол                  0\n",
       "Возраст              0\n",
       "Зарплата             0\n",
       "Члены семьи          0\n",
       "Страховые выплаты    0\n",
       "dtype: int64"
      ]
     },
     "execution_count": 33,
     "metadata": {},
     "output_type": "execute_result"
    }
   ],
   "source": [
    "data.isna().sum()#Проверим наличие в данных пропущенных значений."
   ]
  },
  {
   "cell_type": "code",
   "execution_count": 34,
   "metadata": {},
   "outputs": [
    {
     "data": {
      "text/plain": [
       "153"
      ]
     },
     "execution_count": 34,
     "metadata": {},
     "output_type": "execute_result"
    }
   ],
   "source": [
    "data.duplicated().sum()#Проверим наличие в данных дубликатов"
   ]
  },
  {
   "cell_type": "code",
   "execution_count": 35,
   "metadata": {},
   "outputs": [
    {
     "data": {
      "text/plain": [
       "0"
      ]
     },
     "execution_count": 35,
     "metadata": {},
     "output_type": "execute_result"
    }
   ],
   "source": [
    "data.drop_duplicates(inplace=True)#Удалим дубликаты\n",
    "data.duplicated().sum()"
   ]
  },
  {
   "cell_type": "code",
   "execution_count": 36,
   "metadata": {},
   "outputs": [
    {
     "name": "stdout",
     "output_type": "stream",
     "text": [
      "<class 'pandas.core.frame.DataFrame'>\n",
      "Int64Index: 4847 entries, 0 to 4999\n",
      "Data columns (total 5 columns):\n",
      " #   Column             Non-Null Count  Dtype  \n",
      "---  ------             --------------  -----  \n",
      " 0   Пол                4847 non-null   int64  \n",
      " 1   Возраст            4847 non-null   float64\n",
      " 2   Зарплата           4847 non-null   float64\n",
      " 3   Члены семьи        4847 non-null   int64  \n",
      " 4   Страховые выплаты  4847 non-null   int64  \n",
      "dtypes: float64(2), int64(3)\n",
      "memory usage: 227.2 KB\n"
     ]
    }
   ],
   "source": [
    "data.info()#вывдем информаци о датасете"
   ]
  },
  {
   "cell_type": "code",
   "execution_count": 37,
   "metadata": {},
   "outputs": [
    {
     "data": {
      "text/plain": [
       "array([1, 0])"
      ]
     },
     "execution_count": 37,
     "metadata": {},
     "output_type": "execute_result"
    }
   ],
   "source": [
    "data['Пол'].unique()#посмотрим на уникальные значения"
   ]
  },
  {
   "cell_type": "code",
   "execution_count": 38,
   "metadata": {},
   "outputs": [
    {
     "data": {
      "text/plain": [
       "array([18., 19., 20., 21., 22., 23., 24., 25., 26., 27., 28., 29., 30.,\n",
       "       31., 32., 33., 34., 35., 36., 37., 38., 39., 40., 41., 42., 43.,\n",
       "       44., 45., 46., 47., 48., 49., 50., 51., 52., 53., 54., 55., 56.,\n",
       "       57., 58., 59., 60., 61., 62., 65.])"
      ]
     },
     "execution_count": 38,
     "metadata": {},
     "output_type": "execute_result"
    }
   ],
   "source": [
    "data['Возраст'].sort_values().unique()#посмотрим на уникальные значения"
   ]
  },
  {
   "cell_type": "code",
   "execution_count": 39,
   "metadata": {},
   "outputs": [
    {
     "data": {
      "text/plain": [
       "array([ 5300.,  6000.,  7400.,  8900.,  9800., 10000., 10600., 10800.,\n",
       "       11000., 11200., 11300., 12200., 12900., 13000., 13200., 13300.,\n",
       "       13400., 13500., 13800., 13900., 14100., 14300., 14400., 14500.,\n",
       "       14600., 14700., 15000., 15100., 15200., 15600., 15700., 15900.,\n",
       "       16000., 16200., 16300., 16400., 16500., 16600., 16700., 17000.,\n",
       "       17100., 17300., 17400., 17500., 17600., 17700., 17800., 17900.,\n",
       "       18100., 18200., 18300., 18400., 18600., 18700., 18800., 18900.,\n",
       "       19000., 19100., 19200., 19300., 19400., 19600., 19700., 19900.,\n",
       "       20000., 20100., 20200., 20300., 20400., 20500., 20600., 20700.,\n",
       "       20800., 20900., 21000., 21100., 21200., 21300., 21400., 21500.,\n",
       "       21600., 21700., 21800., 21900., 22000., 22100., 22200., 22300.,\n",
       "       22500., 22600., 22700., 22800., 22900., 23000., 23100., 23200.,\n",
       "       23300., 23400., 23500., 23600., 23700., 23800., 23900., 24000.,\n",
       "       24100., 24200., 24300., 24400., 24500., 24600., 24700., 24800.,\n",
       "       24900., 25000., 25100., 25200., 25300., 25400., 25500., 25600.,\n",
       "       25700., 25800., 25900., 26000., 26100., 26200., 26300., 26400.,\n",
       "       26500., 26600., 26700., 26800., 26900., 27000., 27100., 27200.,\n",
       "       27300., 27400., 27500., 27600., 27700., 27800., 27900., 28000.,\n",
       "       28100., 28200., 28300., 28400., 28500., 28600., 28700., 28800.,\n",
       "       28900., 29000., 29100., 29200., 29300., 29400., 29500., 29600.,\n",
       "       29700., 29800., 29900., 30000., 30100., 30200., 30300., 30400.,\n",
       "       30500., 30600., 30700., 30800., 30900., 31000., 31100., 31200.,\n",
       "       31300., 31400., 31500., 31600., 31700., 31800., 31900., 32000.,\n",
       "       32100., 32200., 32300., 32400., 32500., 32600., 32700., 32800.,\n",
       "       32900., 33000., 33100., 33200., 33300., 33400., 33500., 33600.,\n",
       "       33700., 33800., 33900., 34000., 34100., 34200., 34300., 34400.,\n",
       "       34500., 34600., 34700., 34800., 34900., 35000., 35100., 35200.,\n",
       "       35300., 35400., 35500., 35600., 35700., 35800., 35900., 36000.,\n",
       "       36100., 36200., 36300., 36400., 36500., 36600., 36700., 36800.,\n",
       "       36900., 37000., 37100., 37200., 37300., 37400., 37500., 37600.,\n",
       "       37700., 37800., 37900., 38000., 38100., 38200., 38300., 38400.,\n",
       "       38500., 38600., 38700., 38800., 38900., 39000., 39100., 39200.,\n",
       "       39300., 39400., 39500., 39600., 39700., 39800., 39900., 40000.,\n",
       "       40100., 40200., 40300., 40400., 40500., 40600., 40700., 40800.,\n",
       "       40900., 41000., 41100., 41200., 41300., 41400., 41500., 41600.,\n",
       "       41700., 41800., 41900., 42000., 42100., 42200., 42300., 42400.,\n",
       "       42500., 42600., 42700., 42800., 42900., 43000., 43100., 43200.,\n",
       "       43300., 43400., 43500., 43600., 43700., 43800., 43900., 44000.,\n",
       "       44100., 44200., 44300., 44400., 44500., 44600., 44700., 44800.,\n",
       "       44900., 45000., 45100., 45200., 45300., 45400., 45500., 45600.,\n",
       "       45700., 45800., 45900., 46000., 46100., 46200., 46300., 46400.,\n",
       "       46500., 46600., 46700., 46800., 46900., 47000., 47100., 47200.,\n",
       "       47300., 47400., 47500., 47600., 47700., 47800., 47900., 48000.,\n",
       "       48100., 48200., 48300., 48400., 48500., 48600., 48700., 48800.,\n",
       "       48900., 49000., 49100., 49200., 49300., 49400., 49500., 49600.,\n",
       "       49700., 49800., 49900., 50000., 50100., 50200., 50300., 50400.,\n",
       "       50500., 50600., 50700., 50800., 50900., 51000., 51100., 51200.,\n",
       "       51300., 51400., 51500., 51600., 51700., 51800., 51900., 52000.,\n",
       "       52100., 52200., 52300., 52400., 52500., 52600., 52700., 52800.,\n",
       "       52900., 53000., 53100., 53200., 53300., 53400., 53500., 53600.,\n",
       "       53700., 53800., 53900., 54000., 54100., 54200., 54300., 54400.,\n",
       "       54500., 54600., 54700., 54800., 54900., 55000., 55100., 55200.,\n",
       "       55300., 55400., 55500., 55600., 55700., 55800., 55900., 56000.,\n",
       "       56100., 56200., 56300., 56400., 56500., 56600., 56700., 56800.,\n",
       "       56900., 57000., 57100., 57200., 57300., 57400., 57500., 57600.,\n",
       "       57700., 57800., 57900., 58000., 58100., 58200., 58300., 58400.,\n",
       "       58500., 58600., 58700., 58800., 58900., 59000., 59100., 59200.,\n",
       "       59300., 59500., 59600., 59700., 59800., 59900., 60000., 60100.,\n",
       "       60200., 60300., 60400., 60500., 60600., 60700., 60900., 61000.,\n",
       "       61200., 61300., 61400., 61500., 61700., 61800., 61900., 62000.,\n",
       "       62100., 62200., 62300., 62400., 62500., 62600., 62700., 62800.,\n",
       "       63100., 63200., 63300., 63400., 63500., 63600., 63700., 63800.,\n",
       "       64000., 64100., 64400., 64800., 64900., 65100., 65200., 65300.,\n",
       "       65900., 66100., 66300., 67100., 67200., 67700., 68000., 68400.,\n",
       "       68500., 68900., 69200., 69400., 70000., 70500., 70600., 71400.,\n",
       "       71600., 74800., 75200., 79000.])"
      ]
     },
     "execution_count": 39,
     "metadata": {},
     "output_type": "execute_result"
    }
   ],
   "source": [
    "data['Зарплата'].sort_values().unique()#посмотрим на уникальные значения"
   ]
  },
  {
   "cell_type": "code",
   "execution_count": 40,
   "metadata": {},
   "outputs": [
    {
     "data": {
      "text/plain": [
       "array([0, 1, 2, 3, 4, 5])"
      ]
     },
     "execution_count": 40,
     "metadata": {},
     "output_type": "execute_result"
    }
   ],
   "source": [
    "data['Страховые выплаты'].sort_values().unique()#посмотрим на уникальные значения"
   ]
  },
  {
   "cell_type": "markdown",
   "metadata": {},
   "source": [
    "Вывод: \n",
    "\n",
    "Итак, в таблице 5 столбцов.\n",
    "\n",
    "- Пол, \n",
    "- Возраст,\n",
    "- Зарплата,\n",
    "- Члены семьи,\n",
    "- Страховые выплаты.\n",
    "\n",
    "В таблице удалены дубликаты."
   ]
  },
  {
   "cell_type": "markdown",
   "metadata": {},
   "source": [
    "## Умножение матриц"
   ]
  },
  {
   "cell_type": "markdown",
   "metadata": {},
   "source": [
    "В этом задании вы можете записывать формулы в *Jupyter Notebook.*\n",
    "\n",
    "Чтобы записать формулу внутри текста, окружите её символами доллара \\\\$; если снаружи —  двойными символами \\\\$\\\\$. Эти формулы записываются на языке вёрстки *LaTeX.* \n",
    "\n",
    "Для примера мы записали формулы линейной регрессии. Можете их скопировать и отредактировать, чтобы решить задачу.\n",
    "\n",
    "Работать в *LaTeX* необязательно."
   ]
  },
  {
   "cell_type": "markdown",
   "metadata": {},
   "source": [
    "Обозначения:\n",
    "\n",
    "- $X$ — матрица признаков (нулевой столбец состоит из единиц)\n",
    "\n",
    "- $y$ — вектор целевого признака\n",
    "\n",
    "- $P$ — обратимая матрица, на которую умножаются признаки\n",
    "\n",
    "- $w$ — вектор весов линейной регрессии (нулевой элемент равен сдвигу)"
   ]
  },
  {
   "cell_type": "markdown",
   "metadata": {},
   "source": [
    "Предсказания:\n",
    "\n",
    "$$\n",
    "a = Xw\n",
    "$$\n",
    "\n",
    "Задача обучения:\n",
    "\n",
    "$$\n",
    "w = \\arg\\min_w MSE(Xw, y)\n",
    "$$\n",
    "\n",
    "Формула обучения:\n",
    "\n",
    "$$\n",
    "w = (X^T X)^{-1} X^T y\n",
    "$$"
   ]
  },
  {
   "cell_type": "markdown",
   "metadata": {},
   "source": [
    "Признаки умножают на обратимую матрицу. Изменится ли качество линейной регрессии?"
   ]
  },
  {
   "cell_type": "markdown",
   "metadata": {},
   "source": [
    "**Ответ:** согласно математическим преобразованиям не изменится.\n",
    "\n",
    "\n",
    "**Обоснование:** "
   ]
  },
  {
   "cell_type": "markdown",
   "metadata": {},
   "source": [
    "Исходя из написанного выше:"
   ]
  },
  {
   "cell_type": "markdown",
   "metadata": {},
   "source": [
    "$$ a = X(X^T X)^{-1} X^T y $$"
   ]
  },
  {
   "cell_type": "markdown",
   "metadata": {},
   "source": [
    "Домножим формулу обучения на обратимую матрицу P и обозначим как w1"
   ]
  },
  {
   "cell_type": "markdown",
   "metadata": {},
   "source": [
    "$$ w1 = ((XP)^T XP)^{-1} (XP)^T y $$"
   ]
  },
  {
   "cell_type": "markdown",
   "metadata": {},
   "source": [
    "домножим формулу предсказания на обратимую матрицу P и обозначим эту формулу как а1"
   ]
  },
  {
   "cell_type": "markdown",
   "metadata": {},
   "source": [
    "$$ a1 = XP * w1 $$"
   ]
  },
  {
   "cell_type": "markdown",
   "metadata": {},
   "source": [
    "тогда"
   ]
  },
  {
   "cell_type": "markdown",
   "metadata": {},
   "source": [
    "$$ a1 = XP ((XP)^T * XP)^{-1} (XP)^T y $$"
   ]
  },
  {
   "cell_type": "markdown",
   "metadata": {},
   "source": [
    "$$\n",
    "((XP)^T * XP)^{-1} = (P^TX^TXP)^{-1} = (P^T(X^TX)P)^{-1} = (X^TXP)^{-1} * (P^T)^{-1} = P^{-1} * (X^TX)^{-1} * (P^T)^{-1}\n",
    "$$\n",
    "$$\n",
    "a1 = XP* P^{-1} * (X^TX)^{-1} * (P^T)^{-1} * P^TX^T * y = X * (X^TX)^{-1} * X^T * y\n",
    "$$"
   ]
  },
  {
   "cell_type": "markdown",
   "metadata": {},
   "source": [
    "В данной формуле $ Р , Р^T $ являются квадратными. Для квадратных матриц умножение матрицы на обратную матрицу равно единичной матрице. "
   ]
  },
  {
   "cell_type": "markdown",
   "metadata": {},
   "source": [
    "Для сокращения применим следующие свойства матриц:"
   ]
  },
  {
   "cell_type": "markdown",
   "metadata": {},
   "source": [
    "$$ (AB)^{-1} = B^{-1} A^{-1} $$\n",
    "\n",
    "$$A A^{-1} = E $$"
   ]
  },
  {
   "cell_type": "markdown",
   "metadata": {},
   "source": [
    "Таким образом, применим указанное к данной формуле и получим:"
   ]
  },
  {
   "cell_type": "markdown",
   "metadata": {},
   "source": [
    "$$ a1 = X(X^T X)^{-1} X^T y $$"
   ]
  },
  {
   "cell_type": "markdown",
   "metadata": {},
   "source": [
    "таким образом:"
   ]
  },
  {
   "cell_type": "markdown",
   "metadata": {},
   "source": [
    "$$ a1 = a $$"
   ]
  },
  {
   "cell_type": "markdown",
   "metadata": {},
   "source": [
    "## Алгоритм преобразования"
   ]
  },
  {
   "cell_type": "markdown",
   "metadata": {},
   "source": [
    "**Алгоритм**"
   ]
  },
  {
   "cell_type": "markdown",
   "metadata": {},
   "source": [
    "Проверим на практике предыдущий шаг.  \n",
    "Создадим обратимую квадратную матрицу: "
   ]
  },
  {
   "cell_type": "code",
   "execution_count": 41,
   "metadata": {},
   "outputs": [],
   "source": [
    "features = data.drop('Страховые выплаты', axis=1)\n",
    "target = data['Страховые выплаты']"
   ]
  },
  {
   "cell_type": "code",
   "execution_count": 42,
   "metadata": {},
   "outputs": [
    {
     "data": {
      "text/plain": [
       "-4.861918170731533"
      ]
     },
     "execution_count": 42,
     "metadata": {},
     "output_type": "execute_result"
    }
   ],
   "source": [
    "det = 0 # создадим цикл для генерирования матрицы и проверки ее обратимости.\n",
    "P = 0\n",
    "while(det == 0):\n",
    "    P = np.random.normal(size=(features.shape[1],features.shape[1]))\n",
    "    det = np.linalg.det(P)\n",
    "det"
   ]
  },
  {
   "cell_type": "markdown",
   "metadata": {},
   "source": [
    "Чтобы обосновать, что качество линейной регрессии не изменится, рассчитаем а и а1 на наших данных."
   ]
  },
  {
   "cell_type": "markdown",
   "metadata": {},
   "source": [
    "**Обоснование**"
   ]
  },
  {
   "cell_type": "code",
   "execution_count": 43,
   "metadata": {},
   "outputs": [],
   "source": [
    "w = np.linalg.inv(np.dot(features.T,features)).dot(features.T).dot(target)"
   ]
  },
  {
   "cell_type": "code",
   "execution_count": 44,
   "metadata": {},
   "outputs": [],
   "source": [
    "a = features.dot(w)"
   ]
  },
  {
   "cell_type": "code",
   "execution_count": 45,
   "metadata": {},
   "outputs": [],
   "source": [
    "w1 = np.linalg.inv(np.dot(features.dot(P).T,features.dot(P))).dot(features.dot(P).T).dot(target)"
   ]
  },
  {
   "cell_type": "code",
   "execution_count": 46,
   "metadata": {},
   "outputs": [],
   "source": [
    "a1 = features.dot(P).dot(w1)"
   ]
  },
  {
   "cell_type": "code",
   "execution_count": 47,
   "metadata": {},
   "outputs": [
    {
     "data": {
      "text/plain": [
       "True"
      ]
     },
     "execution_count": 47,
     "metadata": {},
     "output_type": "execute_result"
    }
   ],
   "source": [
    "np.allclose(a,a1,atol=1e-4)"
   ]
  },
  {
   "cell_type": "markdown",
   "metadata": {},
   "source": [
    "при этом"
   ]
  },
  {
   "cell_type": "code",
   "execution_count": 48,
   "metadata": {},
   "outputs": [
    {
     "data": {
      "text/plain": [
       "True"
      ]
     },
     "execution_count": 48,
     "metadata": {},
     "output_type": "execute_result"
    }
   ],
   "source": [
    "np.allclose(a,a1,atol=1e-5)"
   ]
  },
  {
   "cell_type": "markdown",
   "metadata": {},
   "source": [
    "**Вывод**  \n",
    "таким образом, получили, что a и a1 равны до 4 знака."
   ]
  },
  {
   "cell_type": "markdown",
   "metadata": {},
   "source": [
    "## Проверка алгоритма"
   ]
  },
  {
   "cell_type": "markdown",
   "metadata": {},
   "source": [
    " Создадим модель линейной регрессии до преобразования и посчитаем метрику R2"
   ]
  },
  {
   "cell_type": "code",
   "execution_count": 49,
   "metadata": {},
   "outputs": [
    {
     "name": "stdout",
     "output_type": "stream",
     "text": [
      "Значение R2: 0.4302010044852066\n"
     ]
    }
   ],
   "source": [
    "model = LinearRegression()\n",
    "\n",
    "model.fit(features, target)\n",
    "\n",
    "predictions = model.predict(features)\n",
    "\n",
    "print('Значение R2:', r2_score(target,predictions))"
   ]
  },
  {
   "cell_type": "markdown",
   "metadata": {},
   "source": [
    "Умножим исходные признаки на обратимую матрицу и на основе полученных значений вновь посчитаем метрику R2"
   ]
  },
  {
   "cell_type": "code",
   "execution_count": 50,
   "metadata": {},
   "outputs": [
    {
     "data": {
      "text/html": [
       "<div>\n",
       "<style scoped>\n",
       "    .dataframe tbody tr th:only-of-type {\n",
       "        vertical-align: middle;\n",
       "    }\n",
       "\n",
       "    .dataframe tbody tr th {\n",
       "        vertical-align: top;\n",
       "    }\n",
       "\n",
       "    .dataframe thead th {\n",
       "        text-align: right;\n",
       "    }\n",
       "</style>\n",
       "<table border=\"1\" class=\"dataframe\">\n",
       "  <thead>\n",
       "    <tr style=\"text-align: right;\">\n",
       "      <th></th>\n",
       "      <th>0</th>\n",
       "      <th>1</th>\n",
       "      <th>2</th>\n",
       "      <th>3</th>\n",
       "    </tr>\n",
       "  </thead>\n",
       "  <tbody>\n",
       "    <tr>\n",
       "      <th>0</th>\n",
       "      <td>54903.418757</td>\n",
       "      <td>-9741.563827</td>\n",
       "      <td>19126.396972</td>\n",
       "      <td>-7741.555984</td>\n",
       "    </tr>\n",
       "    <tr>\n",
       "      <th>1</th>\n",
       "      <td>42081.623720</td>\n",
       "      <td>-7463.302412</td>\n",
       "      <td>14614.781464</td>\n",
       "      <td>-5916.514823</td>\n",
       "    </tr>\n",
       "    <tr>\n",
       "      <th>2</th>\n",
       "      <td>23259.928918</td>\n",
       "      <td>-4123.744018</td>\n",
       "      <td>8067.576701</td>\n",
       "      <td>-3266.165025</td>\n",
       "    </tr>\n",
       "    <tr>\n",
       "      <th>3</th>\n",
       "      <td>46141.585942</td>\n",
       "      <td>-8191.001065</td>\n",
       "      <td>16113.723014</td>\n",
       "      <td>-6522.738239</td>\n",
       "    </tr>\n",
       "    <tr>\n",
       "      <th>4</th>\n",
       "      <td>28898.937969</td>\n",
       "      <td>-5125.693688</td>\n",
       "      <td>10048.481360</td>\n",
       "      <td>-4066.828608</td>\n",
       "    </tr>\n",
       "    <tr>\n",
       "      <th>...</th>\n",
       "      <td>...</td>\n",
       "      <td>...</td>\n",
       "      <td>...</td>\n",
       "      <td>...</td>\n",
       "    </tr>\n",
       "    <tr>\n",
       "      <th>4995</th>\n",
       "      <td>39515.582897</td>\n",
       "      <td>-7012.888867</td>\n",
       "      <td>13769.116470</td>\n",
       "      <td>-5573.737672</td>\n",
       "    </tr>\n",
       "    <tr>\n",
       "      <th>4996</th>\n",
       "      <td>57990.214349</td>\n",
       "      <td>-10290.803207</td>\n",
       "      <td>20229.406858</td>\n",
       "      <td>-8189.151371</td>\n",
       "    </tr>\n",
       "    <tr>\n",
       "      <th>4997</th>\n",
       "      <td>37514.771247</td>\n",
       "      <td>-6659.388883</td>\n",
       "      <td>13091.889958</td>\n",
       "      <td>-5299.484293</td>\n",
       "    </tr>\n",
       "    <tr>\n",
       "      <th>4998</th>\n",
       "      <td>36191.444576</td>\n",
       "      <td>-6425.624135</td>\n",
       "      <td>12621.760997</td>\n",
       "      <td>-5107.809532</td>\n",
       "    </tr>\n",
       "    <tr>\n",
       "      <th>4999</th>\n",
       "      <td>44934.141683</td>\n",
       "      <td>-7974.241210</td>\n",
       "      <td>15670.343899</td>\n",
       "      <td>-6342.362022</td>\n",
       "    </tr>\n",
       "  </tbody>\n",
       "</table>\n",
       "<p>4847 rows × 4 columns</p>\n",
       "</div>"
      ],
      "text/plain": [
       "                 0             1             2            3\n",
       "0     54903.418757  -9741.563827  19126.396972 -7741.555984\n",
       "1     42081.623720  -7463.302412  14614.781464 -5916.514823\n",
       "2     23259.928918  -4123.744018   8067.576701 -3266.165025\n",
       "3     46141.585942  -8191.001065  16113.723014 -6522.738239\n",
       "4     28898.937969  -5125.693688  10048.481360 -4066.828608\n",
       "...            ...           ...           ...          ...\n",
       "4995  39515.582897  -7012.888867  13769.116470 -5573.737672\n",
       "4996  57990.214349 -10290.803207  20229.406858 -8189.151371\n",
       "4997  37514.771247  -6659.388883  13091.889958 -5299.484293\n",
       "4998  36191.444576  -6425.624135  12621.760997 -5107.809532\n",
       "4999  44934.141683  -7974.241210  15670.343899 -6342.362022\n",
       "\n",
       "[4847 rows x 4 columns]"
      ]
     },
     "execution_count": 50,
     "metadata": {},
     "output_type": "execute_result"
    }
   ],
   "source": [
    "features_new =features @ P\n",
    "features_new"
   ]
  },
  {
   "cell_type": "code",
   "execution_count": 51,
   "metadata": {},
   "outputs": [
    {
     "name": "stdout",
     "output_type": "stream",
     "text": [
      "Значение R2 по новым признакам: 0.4302010044852037\n"
     ]
    }
   ],
   "source": [
    "model = LinearRegression()\n",
    "\n",
    "model.fit(features_new, target)\n",
    "\n",
    "predictions = model.predict(features_new)\n",
    "\n",
    "print('Значение R2 по новым признакам:', r2_score(target,predictions))"
   ]
  },
  {
   "cell_type": "markdown",
   "metadata": {},
   "source": [
    "**Вывод**  \n",
    "Таким образом, при разработке метода преобразования данных, чтобы по ним было сложно восстановить персональную информацию, установлено следующее:\n",
    "1. В качестве преобразования принято умножение на квадратную обратимую матрицу.  \n",
    "Согласно математическим преобразованиям матрица до преобразования (а) равна преобразованной матрице (а1).   \n",
    "При этом при проверке на практике установлено, что a и a1 равны только до 4 знака.\n",
    "2. Корректность работы проверена метрикой R2  \n",
    "При этом, при преобразовании качество модели незначительно (на 14 знаке после запятой) улучшилось.\n",
    "\n"
   ]
  }
 ],
 "metadata": {
  "ExecuteTimeLog": [
   {
    "duration": 70,
    "start_time": "2022-03-23T18:21:30.301Z"
   },
   {
    "duration": 2293,
    "start_time": "2022-03-23T18:21:50.783Z"
   },
   {
    "duration": 119,
    "start_time": "2022-03-23T18:21:53.620Z"
   },
   {
    "duration": 13,
    "start_time": "2022-03-23T18:24:29.999Z"
   },
   {
    "duration": 9,
    "start_time": "2022-03-23T18:25:17.120Z"
   },
   {
    "duration": 17,
    "start_time": "2022-03-23T18:28:10.908Z"
   },
   {
    "duration": 19,
    "start_time": "2022-03-23T18:28:45.136Z"
   },
   {
    "duration": 7,
    "start_time": "2022-03-23T18:35:18.758Z"
   },
   {
    "duration": 8,
    "start_time": "2022-03-23T18:35:54.439Z"
   },
   {
    "duration": 7,
    "start_time": "2022-03-23T18:36:20.578Z"
   },
   {
    "duration": 124,
    "start_time": "2022-03-23T18:36:38.236Z"
   },
   {
    "duration": 13,
    "start_time": "2022-03-23T18:36:42.769Z"
   },
   {
    "duration": 16,
    "start_time": "2022-03-23T18:36:50.846Z"
   },
   {
    "duration": 9,
    "start_time": "2022-03-23T18:36:55.560Z"
   },
   {
    "duration": 13,
    "start_time": "2022-03-23T18:46:29.561Z"
   },
   {
    "duration": 7,
    "start_time": "2022-03-23T18:46:40.553Z"
   },
   {
    "duration": 1600,
    "start_time": "2022-03-24T18:39:23.282Z"
   },
   {
    "duration": 99,
    "start_time": "2022-03-24T18:39:24.884Z"
   },
   {
    "duration": 91,
    "start_time": "2022-03-24T18:39:24.985Z"
   },
   {
    "duration": 0,
    "start_time": "2022-03-24T18:39:25.078Z"
   },
   {
    "duration": 0,
    "start_time": "2022-03-24T18:39:25.079Z"
   },
   {
    "duration": 0,
    "start_time": "2022-03-24T18:39:25.080Z"
   },
   {
    "duration": 0,
    "start_time": "2022-03-24T18:39:25.081Z"
   },
   {
    "duration": 0,
    "start_time": "2022-03-24T18:39:25.082Z"
   },
   {
    "duration": 0,
    "start_time": "2022-03-24T18:39:25.083Z"
   },
   {
    "duration": 0,
    "start_time": "2022-03-24T18:39:25.084Z"
   },
   {
    "duration": 0,
    "start_time": "2022-03-24T18:39:25.085Z"
   },
   {
    "duration": 0,
    "start_time": "2022-03-24T18:39:25.086Z"
   },
   {
    "duration": 0,
    "start_time": "2022-03-24T18:39:25.087Z"
   },
   {
    "duration": 0,
    "start_time": "2022-03-24T18:39:25.088Z"
   },
   {
    "duration": 0,
    "start_time": "2022-03-24T18:39:25.089Z"
   },
   {
    "duration": 0,
    "start_time": "2022-03-24T18:39:25.089Z"
   },
   {
    "duration": 0,
    "start_time": "2022-03-24T18:39:25.090Z"
   },
   {
    "duration": 5,
    "start_time": "2022-03-24T18:39:38.505Z"
   },
   {
    "duration": 80,
    "start_time": "2022-03-24T18:39:38.512Z"
   },
   {
    "duration": 8,
    "start_time": "2022-03-24T18:39:38.595Z"
   },
   {
    "duration": 9,
    "start_time": "2022-03-24T18:39:38.605Z"
   },
   {
    "duration": 8,
    "start_time": "2022-03-24T18:39:38.617Z"
   },
   {
    "duration": 11,
    "start_time": "2022-03-24T18:39:38.626Z"
   },
   {
    "duration": 5,
    "start_time": "2022-03-24T18:39:38.639Z"
   },
   {
    "duration": 7,
    "start_time": "2022-03-24T18:39:38.646Z"
   },
   {
    "duration": 11,
    "start_time": "2022-03-24T18:39:38.655Z"
   },
   {
    "duration": 6,
    "start_time": "2022-03-24T18:39:38.668Z"
   },
   {
    "duration": 33,
    "start_time": "2022-03-24T18:39:38.677Z"
   },
   {
    "duration": 6,
    "start_time": "2022-03-24T18:39:38.712Z"
   },
   {
    "duration": 12,
    "start_time": "2022-03-24T18:39:38.720Z"
   },
   {
    "duration": 123,
    "start_time": "2022-03-24T18:39:38.733Z"
   },
   {
    "duration": 0,
    "start_time": "2022-03-24T18:39:38.857Z"
   },
   {
    "duration": 0,
    "start_time": "2022-03-24T18:39:38.859Z"
   },
   {
    "duration": 3,
    "start_time": "2022-03-24T18:40:15.318Z"
   },
   {
    "duration": 53,
    "start_time": "2022-03-24T18:40:15.327Z"
   },
   {
    "duration": 5,
    "start_time": "2022-03-24T18:40:15.382Z"
   },
   {
    "duration": 7,
    "start_time": "2022-03-24T18:40:15.389Z"
   },
   {
    "duration": 8,
    "start_time": "2022-03-24T18:40:15.398Z"
   },
   {
    "duration": 10,
    "start_time": "2022-03-24T18:40:15.408Z"
   },
   {
    "duration": 8,
    "start_time": "2022-03-24T18:40:15.420Z"
   },
   {
    "duration": 7,
    "start_time": "2022-03-24T18:40:15.429Z"
   },
   {
    "duration": 9,
    "start_time": "2022-03-24T18:40:15.438Z"
   },
   {
    "duration": 5,
    "start_time": "2022-03-24T18:40:15.448Z"
   },
   {
    "duration": 5,
    "start_time": "2022-03-24T18:40:15.455Z"
   },
   {
    "duration": 4,
    "start_time": "2022-03-24T18:40:15.462Z"
   },
   {
    "duration": 48,
    "start_time": "2022-03-24T18:40:15.468Z"
   },
   {
    "duration": 94,
    "start_time": "2022-03-24T18:40:15.518Z"
   },
   {
    "duration": 125,
    "start_time": "2022-03-24T18:40:15.615Z"
   },
   {
    "duration": 0,
    "start_time": "2022-03-24T18:40:15.742Z"
   },
   {
    "duration": 11,
    "start_time": "2022-03-24T18:40:30.491Z"
   },
   {
    "duration": 101,
    "start_time": "2022-03-24T18:40:30.610Z"
   },
   {
    "duration": 4,
    "start_time": "2022-03-24T18:41:36.119Z"
   },
   {
    "duration": 10,
    "start_time": "2022-03-24T18:41:38.074Z"
   },
   {
    "duration": 74,
    "start_time": "2022-03-24T18:59:01.743Z"
   },
   {
    "duration": 5,
    "start_time": "2022-03-24T19:08:02.618Z"
   },
   {
    "duration": 10,
    "start_time": "2022-03-24T19:10:49.478Z"
   },
   {
    "duration": 5,
    "start_time": "2022-03-24T19:10:56.520Z"
   },
   {
    "duration": 97,
    "start_time": "2022-03-24T19:11:38.738Z"
   },
   {
    "duration": 6,
    "start_time": "2022-03-24T19:13:10.692Z"
   },
   {
    "duration": 6,
    "start_time": "2022-03-24T19:13:13.314Z"
   },
   {
    "duration": 14,
    "start_time": "2022-03-24T19:14:03.593Z"
   },
   {
    "duration": 15,
    "start_time": "2022-03-24T19:14:19.783Z"
   },
   {
    "duration": 62,
    "start_time": "2022-03-24T19:25:36.071Z"
   },
   {
    "duration": 43,
    "start_time": "2022-03-26T06:57:04.192Z"
   },
   {
    "duration": 1261,
    "start_time": "2022-03-26T06:57:37.985Z"
   },
   {
    "duration": 161,
    "start_time": "2022-03-26T06:57:39.248Z"
   },
   {
    "duration": 6,
    "start_time": "2022-03-26T06:57:39.410Z"
   },
   {
    "duration": 10,
    "start_time": "2022-03-26T06:57:39.417Z"
   },
   {
    "duration": 7,
    "start_time": "2022-03-26T06:57:39.429Z"
   },
   {
    "duration": 9,
    "start_time": "2022-03-26T06:57:39.438Z"
   },
   {
    "duration": 5,
    "start_time": "2022-03-26T06:57:39.449Z"
   },
   {
    "duration": 7,
    "start_time": "2022-03-26T06:57:39.455Z"
   },
   {
    "duration": 24,
    "start_time": "2022-03-26T06:57:39.463Z"
   },
   {
    "duration": 4,
    "start_time": "2022-03-26T06:57:39.488Z"
   },
   {
    "duration": 4,
    "start_time": "2022-03-26T06:57:39.494Z"
   },
   {
    "duration": 8,
    "start_time": "2022-03-26T06:57:39.500Z"
   },
   {
    "duration": 74,
    "start_time": "2022-03-26T06:57:39.510Z"
   },
   {
    "duration": 101,
    "start_time": "2022-03-26T06:57:39.588Z"
   },
   {
    "duration": 3,
    "start_time": "2022-03-26T07:01:11.337Z"
   },
   {
    "duration": 5,
    "start_time": "2022-03-26T07:01:35.413Z"
   },
   {
    "duration": 3,
    "start_time": "2022-03-26T07:02:35.004Z"
   },
   {
    "duration": 97,
    "start_time": "2022-03-26T07:02:35.011Z"
   },
   {
    "duration": 6,
    "start_time": "2022-03-26T07:02:35.110Z"
   },
   {
    "duration": 9,
    "start_time": "2022-03-26T07:02:35.118Z"
   },
   {
    "duration": 6,
    "start_time": "2022-03-26T07:02:35.129Z"
   },
   {
    "duration": 11,
    "start_time": "2022-03-26T07:02:35.137Z"
   },
   {
    "duration": 7,
    "start_time": "2022-03-26T07:02:35.149Z"
   },
   {
    "duration": 8,
    "start_time": "2022-03-26T07:02:35.157Z"
   },
   {
    "duration": 21,
    "start_time": "2022-03-26T07:02:35.166Z"
   },
   {
    "duration": 5,
    "start_time": "2022-03-26T07:02:35.188Z"
   },
   {
    "duration": 6,
    "start_time": "2022-03-26T07:02:35.194Z"
   },
   {
    "duration": 6,
    "start_time": "2022-03-26T07:02:35.202Z"
   },
   {
    "duration": 73,
    "start_time": "2022-03-26T07:02:35.210Z"
   },
   {
    "duration": 9,
    "start_time": "2022-03-26T07:02:35.286Z"
   },
   {
    "duration": 92,
    "start_time": "2022-03-26T07:02:35.298Z"
   },
   {
    "duration": 179,
    "start_time": "2022-03-26T07:02:35.391Z"
   },
   {
    "duration": 6,
    "start_time": "2022-03-26T07:02:53.401Z"
   },
   {
    "duration": 12,
    "start_time": "2022-03-26T07:03:00.239Z"
   },
   {
    "duration": 5,
    "start_time": "2022-03-26T07:03:19.505Z"
   },
   {
    "duration": 5,
    "start_time": "2022-03-26T07:05:15.199Z"
   },
   {
    "duration": 4,
    "start_time": "2022-03-26T07:06:06.240Z"
   },
   {
    "duration": 11,
    "start_time": "2022-03-26T07:09:14.446Z"
   },
   {
    "duration": 1202,
    "start_time": "2022-03-26T09:53:49.068Z"
   },
   {
    "duration": 168,
    "start_time": "2022-03-26T09:53:50.272Z"
   },
   {
    "duration": 6,
    "start_time": "2022-03-26T09:53:50.442Z"
   },
   {
    "duration": 7,
    "start_time": "2022-03-26T09:53:50.450Z"
   },
   {
    "duration": 9,
    "start_time": "2022-03-26T09:53:50.459Z"
   },
   {
    "duration": 10,
    "start_time": "2022-03-26T09:53:50.470Z"
   },
   {
    "duration": 4,
    "start_time": "2022-03-26T09:53:50.482Z"
   },
   {
    "duration": 8,
    "start_time": "2022-03-26T09:53:50.488Z"
   },
   {
    "duration": 48,
    "start_time": "2022-03-26T09:53:50.498Z"
   },
   {
    "duration": 6,
    "start_time": "2022-03-26T09:53:50.549Z"
   },
   {
    "duration": 117,
    "start_time": "2022-03-26T09:53:50.557Z"
   },
   {
    "duration": 0,
    "start_time": "2022-03-26T09:53:50.676Z"
   },
   {
    "duration": 0,
    "start_time": "2022-03-26T09:53:50.677Z"
   },
   {
    "duration": 0,
    "start_time": "2022-03-26T09:53:50.678Z"
   },
   {
    "duration": 0,
    "start_time": "2022-03-26T09:53:50.679Z"
   },
   {
    "duration": 0,
    "start_time": "2022-03-26T09:53:50.680Z"
   },
   {
    "duration": 0,
    "start_time": "2022-03-26T09:53:50.682Z"
   },
   {
    "duration": 0,
    "start_time": "2022-03-26T09:53:50.683Z"
   },
   {
    "duration": 0,
    "start_time": "2022-03-26T09:53:50.684Z"
   },
   {
    "duration": 0,
    "start_time": "2022-03-26T09:53:50.685Z"
   },
   {
    "duration": 0,
    "start_time": "2022-03-26T09:53:50.686Z"
   },
   {
    "duration": 0,
    "start_time": "2022-03-26T09:53:50.687Z"
   },
   {
    "duration": 3,
    "start_time": "2022-03-26T09:54:09.890Z"
   },
   {
    "duration": 94,
    "start_time": "2022-03-26T09:54:09.895Z"
   },
   {
    "duration": 6,
    "start_time": "2022-03-26T09:54:09.991Z"
   },
   {
    "duration": 12,
    "start_time": "2022-03-26T09:54:09.998Z"
   },
   {
    "duration": 13,
    "start_time": "2022-03-26T09:54:10.013Z"
   },
   {
    "duration": 16,
    "start_time": "2022-03-26T09:54:10.027Z"
   },
   {
    "duration": 12,
    "start_time": "2022-03-26T09:54:10.045Z"
   },
   {
    "duration": 9,
    "start_time": "2022-03-26T09:54:10.058Z"
   },
   {
    "duration": 13,
    "start_time": "2022-03-26T09:54:10.069Z"
   },
   {
    "duration": 5,
    "start_time": "2022-03-26T09:54:10.084Z"
   },
   {
    "duration": 12,
    "start_time": "2022-03-26T09:54:10.091Z"
   },
   {
    "duration": 0,
    "start_time": "2022-03-26T09:54:10.105Z"
   },
   {
    "duration": 0,
    "start_time": "2022-03-26T09:54:10.106Z"
   },
   {
    "duration": 0,
    "start_time": "2022-03-26T09:54:10.107Z"
   },
   {
    "duration": 0,
    "start_time": "2022-03-26T09:54:10.109Z"
   },
   {
    "duration": 0,
    "start_time": "2022-03-26T09:54:10.132Z"
   },
   {
    "duration": 0,
    "start_time": "2022-03-26T09:54:10.133Z"
   },
   {
    "duration": 0,
    "start_time": "2022-03-26T09:54:10.134Z"
   },
   {
    "duration": 0,
    "start_time": "2022-03-26T09:54:10.135Z"
   },
   {
    "duration": 0,
    "start_time": "2022-03-26T09:54:10.136Z"
   },
   {
    "duration": 0,
    "start_time": "2022-03-26T09:54:10.137Z"
   },
   {
    "duration": 0,
    "start_time": "2022-03-26T09:54:10.138Z"
   },
   {
    "duration": 4,
    "start_time": "2022-03-26T09:54:27.511Z"
   },
   {
    "duration": 3,
    "start_time": "2022-03-26T09:54:31.630Z"
   },
   {
    "duration": 102,
    "start_time": "2022-03-26T09:54:31.635Z"
   },
   {
    "duration": 6,
    "start_time": "2022-03-26T09:54:31.739Z"
   },
   {
    "duration": 14,
    "start_time": "2022-03-26T09:54:31.747Z"
   },
   {
    "duration": 9,
    "start_time": "2022-03-26T09:54:31.763Z"
   },
   {
    "duration": 10,
    "start_time": "2022-03-26T09:54:31.774Z"
   },
   {
    "duration": 7,
    "start_time": "2022-03-26T09:54:31.786Z"
   },
   {
    "duration": 16,
    "start_time": "2022-03-26T09:54:31.794Z"
   },
   {
    "duration": 10,
    "start_time": "2022-03-26T09:54:31.832Z"
   },
   {
    "duration": 11,
    "start_time": "2022-03-26T09:54:31.843Z"
   },
   {
    "duration": 21,
    "start_time": "2022-03-26T09:54:31.856Z"
   },
   {
    "duration": 17,
    "start_time": "2022-03-26T09:54:31.879Z"
   },
   {
    "duration": 34,
    "start_time": "2022-03-26T09:54:31.898Z"
   },
   {
    "duration": 98,
    "start_time": "2022-03-26T09:54:31.934Z"
   },
   {
    "duration": 6,
    "start_time": "2022-03-26T09:54:32.034Z"
   },
   {
    "duration": 94,
    "start_time": "2022-03-26T09:54:32.042Z"
   },
   {
    "duration": 110,
    "start_time": "2022-03-26T09:54:32.139Z"
   },
   {
    "duration": 102,
    "start_time": "2022-03-26T09:54:32.331Z"
   },
   {
    "duration": 5,
    "start_time": "2022-03-26T09:54:32.435Z"
   },
   {
    "duration": 89,
    "start_time": "2022-03-26T09:54:32.442Z"
   },
   {
    "duration": 113,
    "start_time": "2022-03-26T09:54:32.534Z"
   },
   {
    "duration": 10,
    "start_time": "2022-03-26T09:54:32.648Z"
   },
   {
    "duration": 6,
    "start_time": "2022-03-26T09:55:24.223Z"
   },
   {
    "duration": 4,
    "start_time": "2022-03-26T09:55:29.099Z"
   },
   {
    "duration": 4,
    "start_time": "2022-03-26T09:55:43.281Z"
   },
   {
    "duration": 1760,
    "start_time": "2022-03-28T17:46:43.029Z"
   },
   {
    "duration": 139,
    "start_time": "2022-03-28T17:46:44.793Z"
   },
   {
    "duration": 12,
    "start_time": "2022-03-28T17:46:44.934Z"
   },
   {
    "duration": 28,
    "start_time": "2022-03-28T17:46:44.949Z"
   },
   {
    "duration": 54,
    "start_time": "2022-03-28T17:46:44.981Z"
   },
   {
    "duration": 36,
    "start_time": "2022-03-28T17:46:45.038Z"
   },
   {
    "duration": 37,
    "start_time": "2022-03-28T17:46:45.077Z"
   },
   {
    "duration": 37,
    "start_time": "2022-03-28T17:46:45.116Z"
   },
   {
    "duration": 53,
    "start_time": "2022-03-28T17:46:45.156Z"
   },
   {
    "duration": 30,
    "start_time": "2022-03-28T17:46:45.211Z"
   },
   {
    "duration": 31,
    "start_time": "2022-03-28T17:46:45.243Z"
   },
   {
    "duration": 39,
    "start_time": "2022-03-28T17:46:45.276Z"
   },
   {
    "duration": 34,
    "start_time": "2022-03-28T17:46:45.318Z"
   },
   {
    "duration": 36,
    "start_time": "2022-03-28T17:46:45.358Z"
   },
   {
    "duration": 93,
    "start_time": "2022-03-28T17:46:45.402Z"
   },
   {
    "duration": 93,
    "start_time": "2022-03-28T17:46:45.504Z"
   },
   {
    "duration": 194,
    "start_time": "2022-03-28T17:46:45.602Z"
   },
   {
    "duration": 197,
    "start_time": "2022-03-28T17:46:45.803Z"
   },
   {
    "duration": 191,
    "start_time": "2022-03-28T17:46:46.007Z"
   },
   {
    "duration": 13,
    "start_time": "2022-03-28T17:46:46.200Z"
   },
   {
    "duration": 27,
    "start_time": "2022-03-28T17:46:46.216Z"
   },
   {
    "duration": 172,
    "start_time": "2022-03-28T17:46:46.246Z"
   },
   {
    "duration": 25,
    "start_time": "2022-03-28T17:46:46.420Z"
   },
   {
    "duration": 7,
    "start_time": "2022-03-28T17:47:20.297Z"
   },
   {
    "duration": 307,
    "start_time": "2022-03-28T17:51:21.887Z"
   },
   {
    "duration": 1195,
    "start_time": "2022-03-28T17:51:57.992Z"
   },
   {
    "duration": 16,
    "start_time": "2022-03-28T17:52:20.746Z"
   },
   {
    "duration": 22,
    "start_time": "2022-03-28T17:52:59.139Z"
   },
   {
    "duration": 21,
    "start_time": "2022-03-28T17:53:24.030Z"
   },
   {
    "duration": 103,
    "start_time": "2022-03-28T17:54:41.565Z"
   },
   {
    "duration": 12,
    "start_time": "2022-03-28T17:55:03.349Z"
   },
   {
    "duration": 150,
    "start_time": "2022-03-29T17:11:43.874Z"
   },
   {
    "duration": 154,
    "start_time": "2022-03-29T17:13:51.288Z"
   },
   {
    "duration": 48,
    "start_time": "2022-03-29T19:09:08.432Z"
   },
   {
    "duration": 8,
    "start_time": "2022-03-29T19:09:33.590Z"
   },
   {
    "duration": 1137,
    "start_time": "2022-03-29T19:09:52.862Z"
   },
   {
    "duration": 153,
    "start_time": "2022-03-29T19:09:54.001Z"
   },
   {
    "duration": 7,
    "start_time": "2022-03-29T19:09:54.156Z"
   },
   {
    "duration": 10,
    "start_time": "2022-03-29T19:09:54.165Z"
   },
   {
    "duration": 10,
    "start_time": "2022-03-29T19:09:54.176Z"
   },
   {
    "duration": 12,
    "start_time": "2022-03-29T19:09:54.188Z"
   },
   {
    "duration": 6,
    "start_time": "2022-03-29T19:09:54.202Z"
   },
   {
    "duration": 5,
    "start_time": "2022-03-29T19:09:54.239Z"
   },
   {
    "duration": 9,
    "start_time": "2022-03-29T19:09:54.246Z"
   },
   {
    "duration": 8,
    "start_time": "2022-03-29T19:09:54.259Z"
   },
   {
    "duration": 92,
    "start_time": "2022-03-29T19:09:54.269Z"
   },
   {
    "duration": 0,
    "start_time": "2022-03-29T19:09:54.364Z"
   },
   {
    "duration": 0,
    "start_time": "2022-03-29T19:09:54.366Z"
   },
   {
    "duration": 0,
    "start_time": "2022-03-29T19:09:54.368Z"
   },
   {
    "duration": 0,
    "start_time": "2022-03-29T19:09:54.370Z"
   },
   {
    "duration": 0,
    "start_time": "2022-03-29T19:09:54.371Z"
   },
   {
    "duration": 0,
    "start_time": "2022-03-29T19:09:54.373Z"
   },
   {
    "duration": 0,
    "start_time": "2022-03-29T19:09:54.375Z"
   },
   {
    "duration": 0,
    "start_time": "2022-03-29T19:09:54.377Z"
   },
   {
    "duration": 0,
    "start_time": "2022-03-29T19:09:54.378Z"
   },
   {
    "duration": 0,
    "start_time": "2022-03-29T19:09:54.380Z"
   },
   {
    "duration": 4,
    "start_time": "2022-03-29T19:10:38.843Z"
   },
   {
    "duration": 12,
    "start_time": "2022-03-29T19:10:41.056Z"
   },
   {
    "duration": 3,
    "start_time": "2022-03-29T19:10:50.414Z"
   },
   {
    "duration": 62,
    "start_time": "2022-03-29T19:10:50.442Z"
   },
   {
    "duration": 6,
    "start_time": "2022-03-29T19:10:50.506Z"
   },
   {
    "duration": 8,
    "start_time": "2022-03-29T19:10:50.514Z"
   },
   {
    "duration": 11,
    "start_time": "2022-03-29T19:10:50.524Z"
   },
   {
    "duration": 15,
    "start_time": "2022-03-29T19:10:50.537Z"
   },
   {
    "duration": 4,
    "start_time": "2022-03-29T19:10:50.554Z"
   },
   {
    "duration": 9,
    "start_time": "2022-03-29T19:10:50.560Z"
   },
   {
    "duration": 10,
    "start_time": "2022-03-29T19:10:50.570Z"
   },
   {
    "duration": 5,
    "start_time": "2022-03-29T19:10:50.582Z"
   },
   {
    "duration": 7,
    "start_time": "2022-03-29T19:10:50.589Z"
   },
   {
    "duration": 45,
    "start_time": "2022-03-29T19:10:50.598Z"
   },
   {
    "duration": 0,
    "start_time": "2022-03-29T19:10:50.646Z"
   },
   {
    "duration": 0,
    "start_time": "2022-03-29T19:10:50.648Z"
   },
   {
    "duration": 0,
    "start_time": "2022-03-29T19:10:50.649Z"
   },
   {
    "duration": 0,
    "start_time": "2022-03-29T19:10:50.651Z"
   },
   {
    "duration": 0,
    "start_time": "2022-03-29T19:10:50.652Z"
   },
   {
    "duration": 0,
    "start_time": "2022-03-29T19:10:50.653Z"
   },
   {
    "duration": 0,
    "start_time": "2022-03-29T19:10:50.655Z"
   },
   {
    "duration": 0,
    "start_time": "2022-03-29T19:10:50.656Z"
   },
   {
    "duration": 0,
    "start_time": "2022-03-29T19:10:50.657Z"
   },
   {
    "duration": 6,
    "start_time": "2022-03-29T19:11:39.267Z"
   },
   {
    "duration": 68036,
    "start_time": "2022-03-29T19:12:17.437Z"
   },
   {
    "duration": 5,
    "start_time": "2022-03-29T19:13:32.645Z"
   },
   {
    "duration": 4,
    "start_time": "2022-03-29T19:22:10.820Z"
   },
   {
    "duration": 82,
    "start_time": "2022-03-29T19:22:10.826Z"
   },
   {
    "duration": 7,
    "start_time": "2022-03-29T19:22:10.911Z"
   },
   {
    "duration": 10,
    "start_time": "2022-03-29T19:22:10.919Z"
   },
   {
    "duration": 8,
    "start_time": "2022-03-29T19:22:10.931Z"
   },
   {
    "duration": 10,
    "start_time": "2022-03-29T19:22:10.941Z"
   },
   {
    "duration": 8,
    "start_time": "2022-03-29T19:22:10.953Z"
   },
   {
    "duration": 7,
    "start_time": "2022-03-29T19:22:10.963Z"
   },
   {
    "duration": 8,
    "start_time": "2022-03-29T19:22:10.972Z"
   },
   {
    "duration": 4,
    "start_time": "2022-03-29T19:22:10.982Z"
   },
   {
    "duration": 4,
    "start_time": "2022-03-29T19:22:10.988Z"
   },
   {
    "duration": 45,
    "start_time": "2022-03-29T19:22:10.993Z"
   },
   {
    "duration": 10,
    "start_time": "2022-03-29T19:22:11.040Z"
   },
   {
    "duration": 10,
    "start_time": "2022-03-29T19:22:11.052Z"
   },
   {
    "duration": 177,
    "start_time": "2022-03-29T19:22:11.063Z"
   },
   {
    "duration": 13,
    "start_time": "2022-03-29T19:22:11.243Z"
   },
   {
    "duration": 104,
    "start_time": "2022-03-29T19:22:11.339Z"
   },
   {
    "duration": 5,
    "start_time": "2022-03-29T19:22:11.446Z"
   },
   {
    "duration": 10,
    "start_time": "2022-03-29T19:22:11.453Z"
   },
   {
    "duration": 174,
    "start_time": "2022-03-29T19:22:11.465Z"
   },
   {
    "duration": 11,
    "start_time": "2022-03-29T19:22:11.641Z"
   },
   {
    "duration": 118,
    "start_time": "2022-03-30T17:20:34.613Z"
   }
  ],
  "kernelspec": {
   "display_name": "Python 3",
   "language": "python",
   "name": "python3"
  },
  "language_info": {
   "codemirror_mode": {
    "name": "ipython",
    "version": 3
   },
   "file_extension": ".py",
   "mimetype": "text/x-python",
   "name": "python",
   "nbconvert_exporter": "python",
   "pygments_lexer": "ipython3",
   "version": "3.8.8"
  },
  "toc": {
   "base_numbering": 1,
   "nav_menu": {},
   "number_sections": true,
   "sideBar": true,
   "skip_h1_title": true,
   "title_cell": "Содержание",
   "title_sidebar": "Contents",
   "toc_cell": true,
   "toc_position": {},
   "toc_section_display": true,
   "toc_window_display": true
  }
 },
 "nbformat": 4,
 "nbformat_minor": 2
}
