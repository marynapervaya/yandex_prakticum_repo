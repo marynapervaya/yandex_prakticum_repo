{
 "cells": [
  {
   "cell_type": "markdown",
   "id": "corresponding-armstrong",
   "metadata": {
    "ExecuteTime": {
     "end_time": "2022-05-05T04:58:05.692448Z",
     "start_time": "2022-05-05T04:58:05.688565Z"
    }
   },
   "source": [
    "## Загрузка данных"
   ]
  },
  {
   "cell_type": "code",
   "execution_count": 193,
   "id": "4ade807e",
   "metadata": {},
   "outputs": [],
   "source": [
    "#загрузка библиотек\n",
    "import pandas as pd \n",
    "import numpy as np\n",
    "import torch\n",
    "import seaborn as sns                \n",
    "import matplotlib.pyplot as plt\n",
    "import torch.nn as nn\n",
    "from sklearn.model_selection import train_test_split\n",
    "import torch.utils.data\n",
    "from sklearn.preprocessing import StandardScaler, OneHotEncoder\n",
    "import random\n",
    "import torch.nn as nn\n",
    "from torch.nn import ReLU\n",
    "from math import ceil\n",
    "import torch.utils.data\n",
    "from torch.utils.data import TensorDataset, DataLoader\n",
    "from sklearn.metrics import mean_squared_error\n",
    "from sklearn.model_selection import ParameterSampler\n",
    "from sklearn.compose import ColumnTransformer\n",
    "from sklearn.model_selection import train_test_split\n",
    "\n",
    "import warnings\n",
    "warnings.simplefilter(action='ignore', category=FutureWarning)\n",
    "\n",
    "\n",
    "\n",
    "random.seed(42)\n",
    "np.random.seed(42)\n",
    "torch.manual_seed(42)\n",
    "torch.use_deterministic_algorithms(True)\n"
   ]
  },
  {
   "cell_type": "code",
   "execution_count": 194,
   "id": "spectacular-folder",
   "metadata": {},
   "outputs": [
    {
     "data": {
      "text/html": [
       "<div>\n",
       "<style scoped>\n",
       "    .dataframe tbody tr th:only-of-type {\n",
       "        vertical-align: middle;\n",
       "    }\n",
       "\n",
       "    .dataframe tbody tr th {\n",
       "        vertical-align: top;\n",
       "    }\n",
       "\n",
       "    .dataframe thead th {\n",
       "        text-align: right;\n",
       "    }\n",
       "</style>\n",
       "<table border=\"1\" class=\"dataframe\">\n",
       "  <thead>\n",
       "    <tr style=\"text-align: right;\">\n",
       "      <th></th>\n",
       "      <th>Unnamed: 0</th>\n",
       "      <th>Temperature (K)</th>\n",
       "      <th>Luminosity(L/Lo)</th>\n",
       "      <th>Radius(R/Ro)</th>\n",
       "      <th>Absolute magnitude(Mv)</th>\n",
       "      <th>Star type</th>\n",
       "      <th>Star color</th>\n",
       "    </tr>\n",
       "  </thead>\n",
       "  <tbody>\n",
       "    <tr>\n",
       "      <th>0</th>\n",
       "      <td>0</td>\n",
       "      <td>3068</td>\n",
       "      <td>0.002400</td>\n",
       "      <td>0.17000</td>\n",
       "      <td>16.120</td>\n",
       "      <td>0</td>\n",
       "      <td>Red</td>\n",
       "    </tr>\n",
       "    <tr>\n",
       "      <th>1</th>\n",
       "      <td>1</td>\n",
       "      <td>3042</td>\n",
       "      <td>0.000500</td>\n",
       "      <td>0.15420</td>\n",
       "      <td>16.600</td>\n",
       "      <td>0</td>\n",
       "      <td>Red</td>\n",
       "    </tr>\n",
       "    <tr>\n",
       "      <th>2</th>\n",
       "      <td>2</td>\n",
       "      <td>2600</td>\n",
       "      <td>0.000300</td>\n",
       "      <td>0.10200</td>\n",
       "      <td>18.700</td>\n",
       "      <td>0</td>\n",
       "      <td>Red</td>\n",
       "    </tr>\n",
       "    <tr>\n",
       "      <th>3</th>\n",
       "      <td>3</td>\n",
       "      <td>2800</td>\n",
       "      <td>0.000200</td>\n",
       "      <td>0.16000</td>\n",
       "      <td>16.650</td>\n",
       "      <td>0</td>\n",
       "      <td>Red</td>\n",
       "    </tr>\n",
       "    <tr>\n",
       "      <th>4</th>\n",
       "      <td>4</td>\n",
       "      <td>1939</td>\n",
       "      <td>0.000138</td>\n",
       "      <td>0.10300</td>\n",
       "      <td>20.060</td>\n",
       "      <td>0</td>\n",
       "      <td>Red</td>\n",
       "    </tr>\n",
       "    <tr>\n",
       "      <th>5</th>\n",
       "      <td>5</td>\n",
       "      <td>2840</td>\n",
       "      <td>0.000650</td>\n",
       "      <td>0.11000</td>\n",
       "      <td>16.980</td>\n",
       "      <td>0</td>\n",
       "      <td>Red</td>\n",
       "    </tr>\n",
       "    <tr>\n",
       "      <th>6</th>\n",
       "      <td>6</td>\n",
       "      <td>2637</td>\n",
       "      <td>0.000730</td>\n",
       "      <td>0.12700</td>\n",
       "      <td>17.220</td>\n",
       "      <td>0</td>\n",
       "      <td>Red</td>\n",
       "    </tr>\n",
       "    <tr>\n",
       "      <th>7</th>\n",
       "      <td>7</td>\n",
       "      <td>2600</td>\n",
       "      <td>0.000400</td>\n",
       "      <td>0.09600</td>\n",
       "      <td>17.400</td>\n",
       "      <td>0</td>\n",
       "      <td>Red</td>\n",
       "    </tr>\n",
       "    <tr>\n",
       "      <th>8</th>\n",
       "      <td>8</td>\n",
       "      <td>2650</td>\n",
       "      <td>0.000690</td>\n",
       "      <td>0.11000</td>\n",
       "      <td>17.450</td>\n",
       "      <td>0</td>\n",
       "      <td>Red</td>\n",
       "    </tr>\n",
       "    <tr>\n",
       "      <th>9</th>\n",
       "      <td>9</td>\n",
       "      <td>2700</td>\n",
       "      <td>0.000180</td>\n",
       "      <td>0.13000</td>\n",
       "      <td>16.050</td>\n",
       "      <td>0</td>\n",
       "      <td>Red</td>\n",
       "    </tr>\n",
       "    <tr>\n",
       "      <th>10</th>\n",
       "      <td>10</td>\n",
       "      <td>3600</td>\n",
       "      <td>0.002900</td>\n",
       "      <td>0.51000</td>\n",
       "      <td>10.690</td>\n",
       "      <td>1</td>\n",
       "      <td>Red</td>\n",
       "    </tr>\n",
       "    <tr>\n",
       "      <th>11</th>\n",
       "      <td>11</td>\n",
       "      <td>3129</td>\n",
       "      <td>0.012200</td>\n",
       "      <td>0.37610</td>\n",
       "      <td>11.790</td>\n",
       "      <td>1</td>\n",
       "      <td>Red</td>\n",
       "    </tr>\n",
       "    <tr>\n",
       "      <th>12</th>\n",
       "      <td>12</td>\n",
       "      <td>3134</td>\n",
       "      <td>0.000400</td>\n",
       "      <td>0.19600</td>\n",
       "      <td>13.210</td>\n",
       "      <td>1</td>\n",
       "      <td>Red</td>\n",
       "    </tr>\n",
       "    <tr>\n",
       "      <th>13</th>\n",
       "      <td>13</td>\n",
       "      <td>3628</td>\n",
       "      <td>0.005500</td>\n",
       "      <td>0.39300</td>\n",
       "      <td>10.480</td>\n",
       "      <td>1</td>\n",
       "      <td>Red</td>\n",
       "    </tr>\n",
       "    <tr>\n",
       "      <th>14</th>\n",
       "      <td>14</td>\n",
       "      <td>2650</td>\n",
       "      <td>0.000600</td>\n",
       "      <td>0.14000</td>\n",
       "      <td>11.782</td>\n",
       "      <td>1</td>\n",
       "      <td>Red</td>\n",
       "    </tr>\n",
       "    <tr>\n",
       "      <th>15</th>\n",
       "      <td>15</td>\n",
       "      <td>3340</td>\n",
       "      <td>0.003800</td>\n",
       "      <td>0.24000</td>\n",
       "      <td>13.070</td>\n",
       "      <td>1</td>\n",
       "      <td>Red</td>\n",
       "    </tr>\n",
       "    <tr>\n",
       "      <th>16</th>\n",
       "      <td>16</td>\n",
       "      <td>2799</td>\n",
       "      <td>0.001800</td>\n",
       "      <td>0.16000</td>\n",
       "      <td>14.790</td>\n",
       "      <td>1</td>\n",
       "      <td>Red</td>\n",
       "    </tr>\n",
       "    <tr>\n",
       "      <th>17</th>\n",
       "      <td>17</td>\n",
       "      <td>3692</td>\n",
       "      <td>0.003670</td>\n",
       "      <td>0.47000</td>\n",
       "      <td>10.800</td>\n",
       "      <td>1</td>\n",
       "      <td>Red</td>\n",
       "    </tr>\n",
       "    <tr>\n",
       "      <th>18</th>\n",
       "      <td>18</td>\n",
       "      <td>3192</td>\n",
       "      <td>0.003620</td>\n",
       "      <td>0.19670</td>\n",
       "      <td>13.530</td>\n",
       "      <td>1</td>\n",
       "      <td>Red</td>\n",
       "    </tr>\n",
       "    <tr>\n",
       "      <th>19</th>\n",
       "      <td>19</td>\n",
       "      <td>3441</td>\n",
       "      <td>0.039000</td>\n",
       "      <td>0.35100</td>\n",
       "      <td>11.180</td>\n",
       "      <td>1</td>\n",
       "      <td>Red</td>\n",
       "    </tr>\n",
       "    <tr>\n",
       "      <th>20</th>\n",
       "      <td>20</td>\n",
       "      <td>25000</td>\n",
       "      <td>0.056000</td>\n",
       "      <td>0.00840</td>\n",
       "      <td>10.580</td>\n",
       "      <td>2</td>\n",
       "      <td>Blue White</td>\n",
       "    </tr>\n",
       "    <tr>\n",
       "      <th>21</th>\n",
       "      <td>21</td>\n",
       "      <td>7740</td>\n",
       "      <td>0.000490</td>\n",
       "      <td>0.01234</td>\n",
       "      <td>14.020</td>\n",
       "      <td>2</td>\n",
       "      <td>White</td>\n",
       "    </tr>\n",
       "    <tr>\n",
       "      <th>22</th>\n",
       "      <td>22</td>\n",
       "      <td>7220</td>\n",
       "      <td>0.000170</td>\n",
       "      <td>0.01100</td>\n",
       "      <td>14.230</td>\n",
       "      <td>2</td>\n",
       "      <td>White</td>\n",
       "    </tr>\n",
       "    <tr>\n",
       "      <th>23</th>\n",
       "      <td>23</td>\n",
       "      <td>8500</td>\n",
       "      <td>0.000500</td>\n",
       "      <td>0.01000</td>\n",
       "      <td>14.500</td>\n",
       "      <td>2</td>\n",
       "      <td>White</td>\n",
       "    </tr>\n",
       "    <tr>\n",
       "      <th>24</th>\n",
       "      <td>24</td>\n",
       "      <td>16500</td>\n",
       "      <td>0.013000</td>\n",
       "      <td>0.01400</td>\n",
       "      <td>11.890</td>\n",
       "      <td>2</td>\n",
       "      <td>Blue White</td>\n",
       "    </tr>\n",
       "  </tbody>\n",
       "</table>\n",
       "</div>"
      ],
      "text/plain": [
       "    Unnamed: 0  Temperature (K)  Luminosity(L/Lo)  Radius(R/Ro)  \\\n",
       "0            0             3068          0.002400       0.17000   \n",
       "1            1             3042          0.000500       0.15420   \n",
       "2            2             2600          0.000300       0.10200   \n",
       "3            3             2800          0.000200       0.16000   \n",
       "4            4             1939          0.000138       0.10300   \n",
       "5            5             2840          0.000650       0.11000   \n",
       "6            6             2637          0.000730       0.12700   \n",
       "7            7             2600          0.000400       0.09600   \n",
       "8            8             2650          0.000690       0.11000   \n",
       "9            9             2700          0.000180       0.13000   \n",
       "10          10             3600          0.002900       0.51000   \n",
       "11          11             3129          0.012200       0.37610   \n",
       "12          12             3134          0.000400       0.19600   \n",
       "13          13             3628          0.005500       0.39300   \n",
       "14          14             2650          0.000600       0.14000   \n",
       "15          15             3340          0.003800       0.24000   \n",
       "16          16             2799          0.001800       0.16000   \n",
       "17          17             3692          0.003670       0.47000   \n",
       "18          18             3192          0.003620       0.19670   \n",
       "19          19             3441          0.039000       0.35100   \n",
       "20          20            25000          0.056000       0.00840   \n",
       "21          21             7740          0.000490       0.01234   \n",
       "22          22             7220          0.000170       0.01100   \n",
       "23          23             8500          0.000500       0.01000   \n",
       "24          24            16500          0.013000       0.01400   \n",
       "\n",
       "    Absolute magnitude(Mv)  Star type  Star color  \n",
       "0                   16.120          0         Red  \n",
       "1                   16.600          0         Red  \n",
       "2                   18.700          0         Red  \n",
       "3                   16.650          0         Red  \n",
       "4                   20.060          0         Red  \n",
       "5                   16.980          0         Red  \n",
       "6                   17.220          0         Red  \n",
       "7                   17.400          0         Red  \n",
       "8                   17.450          0         Red  \n",
       "9                   16.050          0         Red  \n",
       "10                  10.690          1         Red  \n",
       "11                  11.790          1         Red  \n",
       "12                  13.210          1         Red  \n",
       "13                  10.480          1         Red  \n",
       "14                  11.782          1         Red  \n",
       "15                  13.070          1         Red  \n",
       "16                  14.790          1         Red  \n",
       "17                  10.800          1         Red  \n",
       "18                  13.530          1         Red  \n",
       "19                  11.180          1         Red  \n",
       "20                  10.580          2  Blue White  \n",
       "21                  14.020          2       White  \n",
       "22                  14.230          2       White  \n",
       "23                  14.500          2       White  \n",
       "24                  11.890          2  Blue White  "
      ]
     },
     "execution_count": 194,
     "metadata": {},
     "output_type": "execute_result"
    }
   ],
   "source": [
    "df= pd.read_csv('https://code.s3.yandex.net/datasets/6_class.csv ')#загрузка файла\n",
    "df.head(25)"
   ]
  },
  {
   "cell_type": "markdown",
   "id": "5cac54b2",
   "metadata": {},
   "source": [
    "## Предобработка и анализ данных"
   ]
  },
  {
   "cell_type": "code",
   "execution_count": 195,
   "id": "c5fb0ac8",
   "metadata": {},
   "outputs": [
    {
     "name": "stdout",
     "output_type": "stream",
     "text": [
      "<class 'pandas.core.frame.DataFrame'>\n",
      "RangeIndex: 240 entries, 0 to 239\n",
      "Data columns (total 7 columns):\n",
      " #   Column                  Non-Null Count  Dtype  \n",
      "---  ------                  --------------  -----  \n",
      " 0   Unnamed: 0              240 non-null    int64  \n",
      " 1   Temperature (K)         240 non-null    int64  \n",
      " 2   Luminosity(L/Lo)        240 non-null    float64\n",
      " 3   Radius(R/Ro)            240 non-null    float64\n",
      " 4   Absolute magnitude(Mv)  240 non-null    float64\n",
      " 5   Star type               240 non-null    int64  \n",
      " 6   Star color              240 non-null    object \n",
      "dtypes: float64(3), int64(3), object(1)\n",
      "memory usage: 13.2+ KB\n"
     ]
    }
   ],
   "source": [
    "df.info()# выводим сводную информации о таблице"
   ]
  },
  {
   "cell_type": "markdown",
   "id": "d3dca06f",
   "metadata": {},
   "source": [
    "Как идно из данных, пропущенные значения отсутствуют в таблице df."
   ]
  },
  {
   "cell_type": "code",
   "execution_count": 196,
   "id": "0604d04b",
   "metadata": {},
   "outputs": [
    {
     "data": {
      "text/plain": [
       "Index(['Unnamed: 0', 'Temperature (K)', 'Luminosity(L/Lo)', 'Radius(R/Ro)',\n",
       "       'Absolute magnitude(Mv)', 'Star type', 'Star color'],\n",
       "      dtype='object')"
      ]
     },
     "execution_count": 196,
     "metadata": {},
     "output_type": "execute_result"
    }
   ],
   "source": [
    "df.columns\n"
   ]
  },
  {
   "cell_type": "markdown",
   "id": "da24fae5",
   "metadata": {},
   "source": [
    "Выведем все уникальные значения столбца Star color."
   ]
  },
  {
   "cell_type": "code",
   "execution_count": 197,
   "id": "de0a1bbe",
   "metadata": {},
   "outputs": [
    {
     "data": {
      "text/plain": [
       "array(['Blue', 'Blue ', 'Blue White', 'Blue white', 'Blue white ',\n",
       "       'Blue-White', 'Blue-white', 'Orange', 'Orange-Red',\n",
       "       'Pale yellow orange', 'Red', 'White', 'White-Yellow', 'Whitish',\n",
       "       'Yellowish', 'Yellowish White', 'white', 'yellow-white',\n",
       "       'yellowish'], dtype=object)"
      ]
     },
     "execution_count": 197,
     "metadata": {},
     "output_type": "execute_result"
    }
   ],
   "source": [
    "df['Star color'].sort_values().unique()"
   ]
  },
  {
   "cell_type": "markdown",
   "id": "9f906ca3",
   "metadata": {},
   "source": [
    "Как видно из данных, приведеных в солбце Star color в некоторых названиях присутствуют пробелы, прописные и строчные буквы в одних и тех же названиях, лишние знаки и слова местами изменены. В данной связи преобразуем указанные данные к одинаковым значениям."
   ]
  },
  {
   "cell_type": "markdown",
   "id": "0671ee96",
   "metadata": {},
   "source": [
    "Напишем функцию для удаления лишних пробелов."
   ]
  },
  {
   "cell_type": "code",
   "execution_count": 198,
   "id": "5cf57db6",
   "metadata": {},
   "outputs": [],
   "source": [
    "def clear_spaces(s):\n",
    "    return s.replace(' ', '')\n",
    "\n",
    "def clear_all_spaces(dat, column):\n",
    "    dat[column] = dat[column].apply(clear_spaces)\n",
    "clear_all_spaces(df, 'Star color')"
   ]
  },
  {
   "cell_type": "code",
   "execution_count": 199,
   "id": "f2b9713e",
   "metadata": {},
   "outputs": [],
   "source": [
    "def clear_spaces(s):\n",
    "    return s.replace('-', '')\n",
    "\n",
    "def clear_all_spaces(dat, column):\n",
    "    dat[column] = dat[column].apply(clear_spaces)\n",
    "clear_all_spaces(df, 'Star color')"
   ]
  },
  {
   "cell_type": "code",
   "execution_count": 200,
   "id": "82e62cd5",
   "metadata": {},
   "outputs": [],
   "source": [
    "df['Star color'] = df['Star color'].str.lower()"
   ]
  },
  {
   "cell_type": "code",
   "execution_count": 201,
   "id": "af4ae59e",
   "metadata": {},
   "outputs": [
    {
     "data": {
      "text/plain": [
       "array(['blue', 'bluewhite', 'orange', 'orangered', 'paleyelloworange',\n",
       "       'red', 'white', 'whiteyellow', 'whitish', 'yellowish',\n",
       "       'yellowishwhite', 'yellowwhite'], dtype=object)"
      ]
     },
     "execution_count": 201,
     "metadata": {},
     "output_type": "execute_result"
    }
   ],
   "source": [
    "df['Star color'].sort_values().unique()"
   ]
  },
  {
   "cell_type": "markdown",
   "id": "9bb16d84",
   "metadata": {},
   "source": [
    "**Вывод:**  \n",
    "В представленной таблице 7 колонок:\n",
    "1) 'Luminosity(L/Lo)' - Относительная светимость L/Lo — светимость звезды относительно Солнца.  \n",
    "2) 'Radius(R/Ro)'  - Относительный радиус R/Ro — радиус звезды относительно радиуса Солнца.  \n",
    "3) 'Absolute magnitude(Mv)' - Абсолютная звёздная величина Mv — физическая величина, характеризующая блеск звезды.  \n",
    "4) 'Star color' - Звёздный цвет (white, red, blue, yellow, yellow-orange и др.) — цвет звезды, который определяют на основе спектрального анализа.  \n",
    "5) 'Star color' - Тип звезды.  \n",
    "6) 'Temperature (K)' - Абсолютная температура T(K) — температура на поверхности звезды в Кельвинах.  \n",
    "7) 'Unnamed: 0' - номер звезды.\n",
    "\n",
    "Как видно из данных, в таблице приведены 6 признаков, характеризующих звезду.\n",
    "Целевой признак - 'Temperature (K)'."
   ]
  },
  {
   "cell_type": "markdown",
   "id": "funded-electric",
   "metadata": {},
   "source": [
    "## Построение базовой нейронной сети"
   ]
  },
  {
   "cell_type": "code",
   "execution_count": 202,
   "id": "86bd7e83",
   "metadata": {},
   "outputs": [
    {
     "data": {
      "text/html": [
       "<div>\n",
       "<style scoped>\n",
       "    .dataframe tbody tr th:only-of-type {\n",
       "        vertical-align: middle;\n",
       "    }\n",
       "\n",
       "    .dataframe tbody tr th {\n",
       "        vertical-align: top;\n",
       "    }\n",
       "\n",
       "    .dataframe thead th {\n",
       "        text-align: right;\n",
       "    }\n",
       "</style>\n",
       "<table border=\"1\" class=\"dataframe\">\n",
       "  <thead>\n",
       "    <tr style=\"text-align: right;\">\n",
       "      <th></th>\n",
       "      <th>Unnamed: 0</th>\n",
       "      <th>Luminosity(L/Lo)</th>\n",
       "      <th>Radius(R/Ro)</th>\n",
       "      <th>Absolute magnitude(Mv)</th>\n",
       "      <th>Star type</th>\n",
       "      <th>Star color</th>\n",
       "    </tr>\n",
       "  </thead>\n",
       "  <tbody>\n",
       "    <tr>\n",
       "      <th>0</th>\n",
       "      <td>0</td>\n",
       "      <td>0.002400</td>\n",
       "      <td>0.1700</td>\n",
       "      <td>16.12</td>\n",
       "      <td>0</td>\n",
       "      <td>red</td>\n",
       "    </tr>\n",
       "    <tr>\n",
       "      <th>1</th>\n",
       "      <td>1</td>\n",
       "      <td>0.000500</td>\n",
       "      <td>0.1542</td>\n",
       "      <td>16.60</td>\n",
       "      <td>0</td>\n",
       "      <td>red</td>\n",
       "    </tr>\n",
       "    <tr>\n",
       "      <th>2</th>\n",
       "      <td>2</td>\n",
       "      <td>0.000300</td>\n",
       "      <td>0.1020</td>\n",
       "      <td>18.70</td>\n",
       "      <td>0</td>\n",
       "      <td>red</td>\n",
       "    </tr>\n",
       "    <tr>\n",
       "      <th>3</th>\n",
       "      <td>3</td>\n",
       "      <td>0.000200</td>\n",
       "      <td>0.1600</td>\n",
       "      <td>16.65</td>\n",
       "      <td>0</td>\n",
       "      <td>red</td>\n",
       "    </tr>\n",
       "    <tr>\n",
       "      <th>4</th>\n",
       "      <td>4</td>\n",
       "      <td>0.000138</td>\n",
       "      <td>0.1030</td>\n",
       "      <td>20.06</td>\n",
       "      <td>0</td>\n",
       "      <td>red</td>\n",
       "    </tr>\n",
       "    <tr>\n",
       "      <th>...</th>\n",
       "      <td>...</td>\n",
       "      <td>...</td>\n",
       "      <td>...</td>\n",
       "      <td>...</td>\n",
       "      <td>...</td>\n",
       "      <td>...</td>\n",
       "    </tr>\n",
       "    <tr>\n",
       "      <th>235</th>\n",
       "      <td>235</td>\n",
       "      <td>374830.000000</td>\n",
       "      <td>1356.0000</td>\n",
       "      <td>-9.93</td>\n",
       "      <td>5</td>\n",
       "      <td>blue</td>\n",
       "    </tr>\n",
       "    <tr>\n",
       "      <th>236</th>\n",
       "      <td>236</td>\n",
       "      <td>834042.000000</td>\n",
       "      <td>1194.0000</td>\n",
       "      <td>-10.63</td>\n",
       "      <td>5</td>\n",
       "      <td>blue</td>\n",
       "    </tr>\n",
       "    <tr>\n",
       "      <th>237</th>\n",
       "      <td>237</td>\n",
       "      <td>537493.000000</td>\n",
       "      <td>1423.0000</td>\n",
       "      <td>-10.73</td>\n",
       "      <td>5</td>\n",
       "      <td>white</td>\n",
       "    </tr>\n",
       "    <tr>\n",
       "      <th>238</th>\n",
       "      <td>238</td>\n",
       "      <td>404940.000000</td>\n",
       "      <td>1112.0000</td>\n",
       "      <td>-11.23</td>\n",
       "      <td>5</td>\n",
       "      <td>white</td>\n",
       "    </tr>\n",
       "    <tr>\n",
       "      <th>239</th>\n",
       "      <td>239</td>\n",
       "      <td>294903.000000</td>\n",
       "      <td>1783.0000</td>\n",
       "      <td>-7.80</td>\n",
       "      <td>5</td>\n",
       "      <td>blue</td>\n",
       "    </tr>\n",
       "  </tbody>\n",
       "</table>\n",
       "<p>240 rows × 6 columns</p>\n",
       "</div>"
      ],
      "text/plain": [
       "     Unnamed: 0  Luminosity(L/Lo)  Radius(R/Ro)  Absolute magnitude(Mv)  \\\n",
       "0             0          0.002400        0.1700                   16.12   \n",
       "1             1          0.000500        0.1542                   16.60   \n",
       "2             2          0.000300        0.1020                   18.70   \n",
       "3             3          0.000200        0.1600                   16.65   \n",
       "4             4          0.000138        0.1030                   20.06   \n",
       "..          ...               ...           ...                     ...   \n",
       "235         235     374830.000000     1356.0000                   -9.93   \n",
       "236         236     834042.000000     1194.0000                  -10.63   \n",
       "237         237     537493.000000     1423.0000                  -10.73   \n",
       "238         238     404940.000000     1112.0000                  -11.23   \n",
       "239         239     294903.000000     1783.0000                   -7.80   \n",
       "\n",
       "     Star type Star color  \n",
       "0            0        red  \n",
       "1            0        red  \n",
       "2            0        red  \n",
       "3            0        red  \n",
       "4            0        red  \n",
       "..         ...        ...  \n",
       "235          5       blue  \n",
       "236          5       blue  \n",
       "237          5      white  \n",
       "238          5      white  \n",
       "239          5       blue  \n",
       "\n",
       "[240 rows x 6 columns]"
      ]
     },
     "execution_count": 202,
     "metadata": {},
     "output_type": "execute_result"
    }
   ],
   "source": [
    "#обознаим целевой признак\n",
    "target = df['Temperature (K)']\n",
    "features = df.drop(columns=['Temperature (K)'])\n",
    "features"
   ]
  },
  {
   "cell_type": "code",
   "execution_count": 203,
   "id": "3d21d91b",
   "metadata": {},
   "outputs": [],
   "source": [
    "# разделим выборку на учебную и тестовую\n",
    "X_train_mo, X_test_mo, y_train_m, y_test_m = train_test_split(\n",
    "   features,target,\n",
    "    test_size=0.3,\n",
    "    shuffle=True)\n",
    "\n"
   ]
  },
  {
   "cell_type": "code",
   "execution_count": 204,
   "id": "15545663",
   "metadata": {},
   "outputs": [],
   "source": [
    "# удалим из таблицы столбец 'Unnamed: 0', поскольку он не несет никакую информацию, характеризующую звезду.\n",
    "X_train_m = X_train_mo.drop(columns=['Unnamed: 0'])\n",
    "X_test_m = X_test_mo.drop(columns=['Unnamed: 0'])"
   ]
  },
  {
   "cell_type": "code",
   "execution_count": 205,
   "id": "184f23e7",
   "metadata": {},
   "outputs": [],
   "source": [
    "X_train_mo =X_train_mo.reset_index(drop=True)\n",
    "X_test_mo = X_test_mo.reset_index(drop=True)\n",
    "y_train_m = y_train_m.reset_index(drop=True)\n",
    "y_test_m = y_test_m.reset_index(drop=True)"
   ]
  },
  {
   "cell_type": "code",
   "execution_count": 206,
   "id": "7e291390",
   "metadata": {},
   "outputs": [
    {
     "data": {
      "text/plain": [
       "0       7230\n",
       "1       3511\n",
       "2       3180\n",
       "3       8930\n",
       "4       2840\n",
       "       ...  \n",
       "163    24630\n",
       "164     2650\n",
       "165     4077\n",
       "166    24490\n",
       "167    23000\n",
       "Name: Temperature (K), Length: 168, dtype: int64"
      ]
     },
     "execution_count": 206,
     "metadata": {},
     "output_type": "execute_result"
    }
   ],
   "source": [
    "y_train_m"
   ]
  },
  {
   "cell_type": "code",
   "execution_count": 207,
   "id": "8189faee",
   "metadata": {},
   "outputs": [],
   "source": [
    "# определим категориальные признаки и количественные\n",
    "cat_cols = ['Star color','Star type']\n",
    "num_cols = ['Luminosity(L/Lo)', 'Radius(R/Ro)',\n",
    "       'Absolute magnitude(Mv)' ]"
   ]
  },
  {
   "cell_type": "code",
   "execution_count": 208,
   "id": "d52ab199",
   "metadata": {},
   "outputs": [],
   "source": [
    "# проведем кодирование для категориальных признаков и шкалирование для количественных признаков\n",
    "\n",
    "ohe = OneHotEncoder(handle_unknown = 'ignore')\n",
    "scaler = StandardScaler() \n",
    "preprocessor = ColumnTransformer(\n",
    "transformers=[\n",
    "    ('num', scaler, num_cols),\n",
    "    ('cat', ohe, cat_cols)\n",
    "]\n",
    ")"
   ]
  },
  {
   "cell_type": "code",
   "execution_count": 209,
   "id": "e52997cb",
   "metadata": {},
   "outputs": [],
   "source": [
    "X_train_prep = preprocessor.fit_transform(X_train_m)\n",
    "X_test_prep = preprocessor.transform(X_test_m)"
   ]
  },
  {
   "cell_type": "code",
   "execution_count": 210,
   "id": "0b35803d",
   "metadata": {
    "scrolled": false
   },
   "outputs": [],
   "source": [
    "#преобразуем выборки в массив numpy\n",
    "X_train_prep = X_train_prep.toarray()\n",
    "X_test_prep = X_test_prep.toarray()\n",
    "y_train = np.array(y_train_m.values)\n",
    "y_test = np.array(y_test_m.values)\n"
   ]
  },
  {
   "cell_type": "code",
   "execution_count": 211,
   "id": "59c66b6c",
   "metadata": {},
   "outputs": [],
   "source": [
    "#определеим количество входных нейров\n",
    "features_count = X_train_prep.shape[1]\n",
    "# преобразуем выборки в тензор из массива numpy\n",
    "X_train = torch.from_numpy(X_train_prep).float()\n",
    "X_test = torch.from_numpy(X_test_prep).float()\n",
    "y_test = torch.from_numpy(y_test).float()\n",
    "y_train = torch.from_numpy(y_train).float()\n"
   ]
  },
  {
   "cell_type": "code",
   "execution_count": 212,
   "id": "4ea8b324",
   "metadata": {},
   "outputs": [],
   "source": [
    "#определим количество нейронов в каждом слое\n",
    "n_in_neurons = features_count\n",
    "n_hidden_neurons_1 = 150\n",
    "n_hidden_neurons_2 = 120\n",
    "n_hidden_neurons_3 = 110\n",
    "n_hidden_neurons_4 = 100\n",
    "n_hidden_neurons_5 = 80\n",
    "n_hidden_neurons_6 = 50\n",
    "n_hidden_neurons_7 = 20\n",
    "n_out_neurons = 1 "
   ]
  },
  {
   "cell_type": "code",
   "execution_count": 213,
   "id": "5c288ddf",
   "metadata": {},
   "outputs": [],
   "source": [
    "\n",
    "net = nn.Sequential(\n",
    "    nn.Linear(n_in_neurons, n_hidden_neurons_1),\n",
    "    nn.ReLU(),\n",
    "    nn.Linear(n_hidden_neurons_1, n_hidden_neurons_2),\n",
    "    nn.ReLU(),\n",
    "    nn.Linear(n_hidden_neurons_2, n_hidden_neurons_3), \n",
    "    nn.ReLU(),\n",
    "    nn.Linear(n_hidden_neurons_3, n_hidden_neurons_4), \n",
    "    nn.ReLU(),\n",
    "    nn.Linear(n_hidden_neurons_4, n_hidden_neurons_5), \n",
    "    nn.ReLU(),\n",
    "    nn.Linear(n_hidden_neurons_5, n_hidden_neurons_6), \n",
    "    nn.ReLU(),\n",
    "    nn.Linear(n_hidden_neurons_6, n_hidden_neurons_7), \n",
    "    nn.ReLU(),\n",
    "    nn.Linear(n_hidden_neurons_7, n_out_neurons),\n",
    "    nn.ReLU()\n",
    ")"
   ]
  },
  {
   "cell_type": "code",
   "execution_count": 214,
   "id": "87c52529",
   "metadata": {},
   "outputs": [],
   "source": [
    "#определим оптимизатор\n",
    "optimizer = torch.optim.Adam(net.parameters(), lr=1e-3)\n",
    "#определим функцию потерь\n",
    "loss = nn.MSELoss()\n"
   ]
  },
  {
   "cell_type": "code",
   "execution_count": 215,
   "id": "31509d50",
   "metadata": {},
   "outputs": [
    {
     "data": {
      "text/plain": [
       "tensor([ 7230.,  3511.,  3180.,  8930.,  2840.,  3660.,  8927., 37800.,  7720.,\n",
       "         3295., 13089., 17920., 18290., 30000.,  3134.,  8052., 11790.,  3270.,\n",
       "        23440.,  7723., 11567.,  3750.,  3598.,  3462.,  2890.,  3365., 12675.,\n",
       "        12912.,  2621., 21020.,  8570., 38234., 32460.,  9235.,  3100.,  3068.,\n",
       "         2600.,  3342.,  3575., 33300.,  3780., 11900., 26000.,  5300.,  9675.,\n",
       "        26373., 13023., 12098.,  6757., 13420.,  3432.,  7220.,  6850., 28700.,\n",
       "         3142.,  9700.,  3129., 21904.,  7700., 14732.,  1939.,  3218., 15276.,\n",
       "         3324.,  3570.,  2983.,  3243.,  2856.,  9320.,  2831.,  3345.,  3218.,\n",
       "         2935.,  3008., 25070.,  3826.,  3146.,  8500., 12100.,  3496., 10574.,\n",
       "         5587., 16790.,  3574.,  9030.,  2914.,  3200.,  8924.,  9892.,  2800.,\n",
       "        14245.,  3749.,  2989., 19400.,  3453.,  9383., 33750.,  5752.,  7100.,\n",
       "         5800.,  2600.,  3500.,  3459.,  4526., 17200., 22012., 17140., 19860.,\n",
       "         2650.,  3628.,  3535., 19920.,  3607.,  3692., 19923.,  3304., 21738.,\n",
       "         3542.,  3598., 23678.,  2835.,  3650., 12893.,  3490.,  3324.,  3600.,\n",
       "         3463.,  3523., 30839., 10012.,  9373.,  3752.,  3625., 13720.,  7740.,\n",
       "         3450., 13340., 25390., 32489.,  3484.,  3257.,  2731.,  6380., 20120.,\n",
       "        18734.,  3042.,  3834., 12984.,  3095.,  8945., 17120., 36108.,  4015.,\n",
       "        10980., 14982.,  3550., 34190., 22350.,  3531., 37882., 25000.,  2778.,\n",
       "         3607., 24630.,  2650.,  4077., 24490., 23000.])"
      ]
     },
     "execution_count": 215,
     "metadata": {},
     "output_type": "execute_result"
    }
   ],
   "source": [
    "y_train"
   ]
  },
  {
   "cell_type": "code",
   "execution_count": 216,
   "id": "f5ae0ef7",
   "metadata": {},
   "outputs": [],
   "source": [
    "#определим количество эпох\n",
    "num_epochs = 360\n",
    "\n",
    "#для каждой эпохи проведем:\n",
    "for epoch in range(num_epochs):\n",
    "    optimizer.zero_grad()    #обнуление градиентов\n",
    "    preds = net.forward(X_train).flatten() # прямое распространение на обучающих данных   \n",
    "\n",
    "    loss_value = loss(preds, y_train) # вычисление значения функции потерь\n",
    "    loss_value.backward()# вычисление градиентов\n",
    "    optimizer.step()# один шаг оптимизации весов\n",
    "    "
   ]
  },
  {
   "cell_type": "code",
   "execution_count": 217,
   "id": "39a2fa8d",
   "metadata": {},
   "outputs": [
    {
     "name": "stdout",
     "output_type": "stream",
     "text": [
      "5264\n"
     ]
    }
   ],
   "source": [
    "#Вычислим метрику качества не каждую эпоху, а каждую десятую\n",
    "if epoch % 10 == 0 or epoch == num_epochs - 1:\n",
    "    net.eval()# перевод сети в режим предсказания\n",
    "    test_preds = net.forward(X_test)# прямое распространение на тестовых данных\n",
    "    rmse = round(np.sqrt(mean_squared_error(y_test, test_preds.detach().numpy())))# вычисление rmse\n",
    "    print(rmse)"
   ]
  },
  {
   "cell_type": "markdown",
   "id": "4db0e4a9",
   "metadata": {},
   "source": [
    "Построим график"
   ]
  },
  {
   "cell_type": "code",
   "execution_count": 218,
   "id": "25d8481f",
   "metadata": {},
   "outputs": [],
   "source": [
    "test_preds_m= test_preds.detach().numpy()"
   ]
  },
  {
   "cell_type": "code",
   "execution_count": 219,
   "id": "95c2139f",
   "metadata": {},
   "outputs": [
    {
     "data": {
      "text/plain": [
       "72"
      ]
     },
     "execution_count": 219,
     "metadata": {},
     "output_type": "execute_result"
    }
   ],
   "source": [
    "len(test_preds_m)"
   ]
  },
  {
   "cell_type": "code",
   "execution_count": 220,
   "id": "fc80ec13",
   "metadata": {},
   "outputs": [
    {
     "data": {
      "text/html": [
       "<div>\n",
       "<style scoped>\n",
       "    .dataframe tbody tr th:only-of-type {\n",
       "        vertical-align: middle;\n",
       "    }\n",
       "\n",
       "    .dataframe tbody tr th {\n",
       "        vertical-align: top;\n",
       "    }\n",
       "\n",
       "    .dataframe thead th {\n",
       "        text-align: right;\n",
       "    }\n",
       "</style>\n",
       "<table border=\"1\" class=\"dataframe\">\n",
       "  <thead>\n",
       "    <tr style=\"text-align: right;\">\n",
       "      <th></th>\n",
       "      <th>test_preds</th>\n",
       "    </tr>\n",
       "  </thead>\n",
       "  <tbody>\n",
       "    <tr>\n",
       "      <th>0</th>\n",
       "      <td>12815.329102</td>\n",
       "    </tr>\n",
       "    <tr>\n",
       "      <th>1</th>\n",
       "      <td>2929.599609</td>\n",
       "    </tr>\n",
       "    <tr>\n",
       "      <th>2</th>\n",
       "      <td>4626.380371</td>\n",
       "    </tr>\n",
       "    <tr>\n",
       "      <th>3</th>\n",
       "      <td>16493.734375</td>\n",
       "    </tr>\n",
       "    <tr>\n",
       "      <th>4</th>\n",
       "      <td>21195.236328</td>\n",
       "    </tr>\n",
       "  </tbody>\n",
       "</table>\n",
       "</div>"
      ],
      "text/plain": [
       "     test_preds\n",
       "0  12815.329102\n",
       "1   2929.599609\n",
       "2   4626.380371\n",
       "3  16493.734375\n",
       "4  21195.236328"
      ]
     },
     "execution_count": 220,
     "metadata": {},
     "output_type": "execute_result"
    }
   ],
   "source": [
    "test_preds_m = pd.DataFrame(data=test_preds_m, columns =['test_preds'])\n",
    "test_preds_m.head(5)"
   ]
  },
  {
   "cell_type": "code",
   "execution_count": 221,
   "id": "ce6d3e53",
   "metadata": {},
   "outputs": [
    {
     "data": {
      "text/plain": [
       "72"
      ]
     },
     "execution_count": 221,
     "metadata": {},
     "output_type": "execute_result"
    }
   ],
   "source": [
    "len(test_preds_m)"
   ]
  },
  {
   "cell_type": "code",
   "execution_count": 222,
   "id": "8e89e55a",
   "metadata": {},
   "outputs": [
    {
     "data": {
      "text/plain": [
       "(72, 7)"
      ]
     },
     "execution_count": 222,
     "metadata": {},
     "output_type": "execute_result"
    }
   ],
   "source": [
    "X = pd.merge(X_test_mo, y_test_m, left_index=True, right_index = True)\n",
    "X.shape"
   ]
  },
  {
   "cell_type": "code",
   "execution_count": 223,
   "id": "a796018c",
   "metadata": {},
   "outputs": [],
   "source": [
    "#X = X.merge(pd.DataFrame(data = [test_preds_m.values] * len(X), columns = test_preds_m.index, index=X.index), left_index=True, right_index=True)"
   ]
  },
  {
   "cell_type": "code",
   "execution_count": 224,
   "id": "7dabd6c0",
   "metadata": {},
   "outputs": [
    {
     "data": {
      "text/html": [
       "<div>\n",
       "<style scoped>\n",
       "    .dataframe tbody tr th:only-of-type {\n",
       "        vertical-align: middle;\n",
       "    }\n",
       "\n",
       "    .dataframe tbody tr th {\n",
       "        vertical-align: top;\n",
       "    }\n",
       "\n",
       "    .dataframe thead th {\n",
       "        text-align: right;\n",
       "    }\n",
       "</style>\n",
       "<table border=\"1\" class=\"dataframe\">\n",
       "  <thead>\n",
       "    <tr style=\"text-align: right;\">\n",
       "      <th></th>\n",
       "      <th>Unnamed: 0</th>\n",
       "      <th>Luminosity(L/Lo)</th>\n",
       "      <th>Radius(R/Ro)</th>\n",
       "      <th>Absolute magnitude(Mv)</th>\n",
       "      <th>Star type</th>\n",
       "      <th>Star color</th>\n",
       "      <th>Temperature (K)</th>\n",
       "      <th>test_preds</th>\n",
       "    </tr>\n",
       "  </thead>\n",
       "  <tbody>\n",
       "    <tr>\n",
       "      <th>0</th>\n",
       "      <td>24</td>\n",
       "      <td>0.01300</td>\n",
       "      <td>0.0140</td>\n",
       "      <td>11.89</td>\n",
       "      <td>2</td>\n",
       "      <td>bluewhite</td>\n",
       "      <td>16500</td>\n",
       "      <td>12815.329102</td>\n",
       "    </tr>\n",
       "    <tr>\n",
       "      <th>1</th>\n",
       "      <td>6</td>\n",
       "      <td>0.00073</td>\n",
       "      <td>0.1270</td>\n",
       "      <td>17.22</td>\n",
       "      <td>0</td>\n",
       "      <td>red</td>\n",
       "      <td>2637</td>\n",
       "      <td>2929.599609</td>\n",
       "    </tr>\n",
       "    <tr>\n",
       "      <th>2</th>\n",
       "      <td>93</td>\n",
       "      <td>0.35700</td>\n",
       "      <td>1.1300</td>\n",
       "      <td>4.78</td>\n",
       "      <td>3</td>\n",
       "      <td>yellowish</td>\n",
       "      <td>4980</td>\n",
       "      <td>4626.380371</td>\n",
       "    </tr>\n",
       "    <tr>\n",
       "      <th>3</th>\n",
       "      <td>109</td>\n",
       "      <td>352000.00000</td>\n",
       "      <td>67.0000</td>\n",
       "      <td>-5.79</td>\n",
       "      <td>4</td>\n",
       "      <td>blue</td>\n",
       "      <td>33421</td>\n",
       "      <td>16493.734375</td>\n",
       "    </tr>\n",
       "    <tr>\n",
       "      <th>4</th>\n",
       "      <td>104</td>\n",
       "      <td>112000.00000</td>\n",
       "      <td>12.0000</td>\n",
       "      <td>-5.91</td>\n",
       "      <td>4</td>\n",
       "      <td>blue</td>\n",
       "      <td>11096</td>\n",
       "      <td>21195.236328</td>\n",
       "    </tr>\n",
       "    <tr>\n",
       "      <th>...</th>\n",
       "      <td>...</td>\n",
       "      <td>...</td>\n",
       "      <td>...</td>\n",
       "      <td>...</td>\n",
       "      <td>...</td>\n",
       "      <td>...</td>\n",
       "      <td>...</td>\n",
       "      <td>...</td>\n",
       "    </tr>\n",
       "    <tr>\n",
       "      <th>67</th>\n",
       "      <td>84</td>\n",
       "      <td>0.00067</td>\n",
       "      <td>0.0089</td>\n",
       "      <td>12.17</td>\n",
       "      <td>2</td>\n",
       "      <td>bluewhite</td>\n",
       "      <td>14100</td>\n",
       "      <td>12683.616211</td>\n",
       "    </tr>\n",
       "    <tr>\n",
       "      <th>68</th>\n",
       "      <td>117</td>\n",
       "      <td>74000.00000</td>\n",
       "      <td>876.0000</td>\n",
       "      <td>-10.25</td>\n",
       "      <td>5</td>\n",
       "      <td>red</td>\n",
       "      <td>3625</td>\n",
       "      <td>4461.176758</td>\n",
       "    </tr>\n",
       "    <tr>\n",
       "      <th>69</th>\n",
       "      <td>194</td>\n",
       "      <td>0.00540</td>\n",
       "      <td>0.3190</td>\n",
       "      <td>12.43</td>\n",
       "      <td>1</td>\n",
       "      <td>red</td>\n",
       "      <td>3523</td>\n",
       "      <td>3293.987061</td>\n",
       "    </tr>\n",
       "    <tr>\n",
       "      <th>70</th>\n",
       "      <td>177</td>\n",
       "      <td>170000.00000</td>\n",
       "      <td>1779.0000</td>\n",
       "      <td>-9.90</td>\n",
       "      <td>5</td>\n",
       "      <td>bluewhite</td>\n",
       "      <td>11000</td>\n",
       "      <td>22165.843750</td>\n",
       "    </tr>\n",
       "    <tr>\n",
       "      <th>71</th>\n",
       "      <td>111</td>\n",
       "      <td>126000.00000</td>\n",
       "      <td>1124.0000</td>\n",
       "      <td>-10.81</td>\n",
       "      <td>5</td>\n",
       "      <td>red</td>\n",
       "      <td>3605</td>\n",
       "      <td>4109.192871</td>\n",
       "    </tr>\n",
       "  </tbody>\n",
       "</table>\n",
       "<p>72 rows × 8 columns</p>\n",
       "</div>"
      ],
      "text/plain": [
       "    Unnamed: 0  Luminosity(L/Lo)  Radius(R/Ro)  Absolute magnitude(Mv)  \\\n",
       "0           24           0.01300        0.0140                   11.89   \n",
       "1            6           0.00073        0.1270                   17.22   \n",
       "2           93           0.35700        1.1300                    4.78   \n",
       "3          109      352000.00000       67.0000                   -5.79   \n",
       "4          104      112000.00000       12.0000                   -5.91   \n",
       "..         ...               ...           ...                     ...   \n",
       "67          84           0.00067        0.0089                   12.17   \n",
       "68         117       74000.00000      876.0000                  -10.25   \n",
       "69         194           0.00540        0.3190                   12.43   \n",
       "70         177      170000.00000     1779.0000                   -9.90   \n",
       "71         111      126000.00000     1124.0000                  -10.81   \n",
       "\n",
       "    Star type Star color  Temperature (K)    test_preds  \n",
       "0           2  bluewhite            16500  12815.329102  \n",
       "1           0        red             2637   2929.599609  \n",
       "2           3  yellowish             4980   4626.380371  \n",
       "3           4       blue            33421  16493.734375  \n",
       "4           4       blue            11096  21195.236328  \n",
       "..        ...        ...              ...           ...  \n",
       "67          2  bluewhite            14100  12683.616211  \n",
       "68          5        red             3625   4461.176758  \n",
       "69          1        red             3523   3293.987061  \n",
       "70          5  bluewhite            11000  22165.843750  \n",
       "71          5        red             3605   4109.192871  \n",
       "\n",
       "[72 rows x 8 columns]"
      ]
     },
     "execution_count": 224,
     "metadata": {},
     "output_type": "execute_result"
    }
   ],
   "source": [
    "X['test_preds'] = test_preds_m\n",
    "X"
   ]
  },
  {
   "cell_type": "code",
   "execution_count": 225,
   "id": "87884282",
   "metadata": {},
   "outputs": [],
   "source": [
    "\n",
    "# X = pd.merge(X, test_preds_m, right_index = True, left_index=True)\n",
    "\n",
    "# X.shape"
   ]
  },
  {
   "cell_type": "code",
   "execution_count": 226,
   "id": "4cd941c1",
   "metadata": {},
   "outputs": [
    {
     "data": {
      "text/plain": [
       "(72, 8)"
      ]
     },
     "execution_count": 226,
     "metadata": {},
     "output_type": "execute_result"
    }
   ],
   "source": [
    "X.shape"
   ]
  },
  {
   "cell_type": "code",
   "execution_count": 227,
   "id": "8ea821d1",
   "metadata": {},
   "outputs": [
    {
     "data": {
      "text/plain": [
       "5264"
      ]
     },
     "execution_count": 227,
     "metadata": {},
     "output_type": "execute_result"
    }
   ],
   "source": [
    "round(np.sqrt(mean_squared_error(X['Temperature (K)'], X['test_preds'])))"
   ]
  },
  {
   "cell_type": "code",
   "execution_count": 228,
   "id": "fcc8591f",
   "metadata": {},
   "outputs": [],
   "source": [
    "#определим 13 звезд с наибольшей температурой\n",
    "X_sorted = X.sort_values(by = 'Temperature (K)')\n",
    "X_13 = X_sorted.head(13)"
   ]
  },
  {
   "cell_type": "code",
   "execution_count": 229,
   "id": "701be4c7",
   "metadata": {
    "scrolled": true
   },
   "outputs": [
    {
     "data": {
      "image/png": "[encoded data removed]",
      "text/plain": [
       "<Figure size 720x360 with 1 Axes>"
      ]
     },
     "metadata": {
      "needs_background": "light"
     },
     "output_type": "display_data"
    }
   ],
   "source": [
    "#построим график\n",
    "X_axis = X_13['Unnamed: 0'].index\n",
    "plt.figure(figsize=(10,5))\n",
    "plt.bar(X_axis-0.2, X_13['test_preds'], 3, label = \"Прогнозные данные\")\n",
    "plt.bar(X_axis-0.2, X_13['Temperature (K)'], 1.5, label = \"Фактические данные\")\n",
    "plt.xticks(X_axis, X_13['Unnamed: 0'])\n",
    "plt.xlabel(\"Номер звезды в таблице данных\")\n",
    "plt.ylabel(\"Температура звезды\")\n",
    "plt.legend(loc = 'upper left')\n",
    "plt.title('План-Факт')\n",
    "plt.show()"
   ]
  },
  {
   "cell_type": "markdown",
   "id": "baade171",
   "metadata": {},
   "source": [
    "***Вывод:***  \n",
    "Результат метрики RMSE модели 5 264."
   ]
  },
  {
   "cell_type": "markdown",
   "id": "growing-supply",
   "metadata": {},
   "source": [
    "## Улучшение нейронной сети"
   ]
  },
  {
   "cell_type": "code",
   "execution_count": 230,
   "id": "153d36c3",
   "metadata": {},
   "outputs": [],
   "source": [
    "# определим параметры для подбора \n",
    "rs = np.random.RandomState(0)\n",
    "grid = {\n",
    "    \"n_neurons_in\":[features_count],\n",
    "    'n_neurons_out':[1],\n",
    "    'n_hidden_1':[150, 200, 300],\n",
    "    'n_hidden_2':[15, 20, 30],\n",
    "    'activation_1':[nn.ReLU(), nn.LeakyReLU()],\n",
    "    'activation_2':[nn.ReLU(), nn.LeakyReLU()],\n",
    "    'activation_out': [nn.ReLU(), nn.LeakyReLU()],\n",
    "    'regularization':['batch_norm', 'dropout'],\n",
    "    'batch_size':[150, 140, 135],\n",
    "    'learning_rate':[0.0005, 0.007, 0.05, 0.0000007]\n",
    "     \n",
    "}\n",
    "\n",
    "parameter_list = list(ParameterSampler(grid, n_iter=20, random_state=rs))\n",
    "\n"
   ]
  },
  {
   "cell_type": "code",
   "execution_count": 231,
   "id": "98d95910",
   "metadata": {},
   "outputs": [],
   "source": [
    "num_epochs = 1500\n",
    "results = {}\n",
    "best_score_overall = 1e+100000\n"
   ]
  },
  {
   "cell_type": "code",
   "execution_count": 232,
   "id": "fa3be02f",
   "metadata": {},
   "outputs": [],
   "source": [
    "#напишим метод, который будет инициализировать слой\n",
    "def init_weights(layer):\n",
    "    if type(layer) == nn.Linear:\n",
    "        nn.init.normal_(layer.weight, mean=0, std=np.sqrt(2/layer.in_features))\n",
    "        nn.init.normal_(layer.bias, mean=0, std=0)\n",
    "        "
   ]
  },
  {
   "cell_type": "markdown",
   "id": "1ed03467",
   "metadata": {},
   "source": [
    "Напишем цикл для подбора данных."
   ]
  },
  {
   "cell_type": "code",
   "execution_count": 233,
   "id": "2d504658",
   "metadata": {},
   "outputs": [],
   "source": [
    "for i, param in enumerate(parameter_list):\n",
    "    best_param = 1e+100000\n",
    "    \n",
    "    net_layers =[]\n",
    "    net_layers.append(nn.Linear(param['n_neurons_in'], param['n_hidden_1']))\n",
    "    if param['regularization'] =='dropout':\n",
    "        net_layers.append(nn.Dropout(p=0.5))\n",
    "    elif param['regularization'] =='batch_norm':\n",
    "        net_layers.append(nn.BatchNorm1d(param['n_hidden_1']))\n",
    "    if param['activation_1'] is not ReLU():\n",
    "        net_layers.append(param['activation_1'])\n",
    "    net_layers.append(nn.Linear(param['n_hidden_1'], param['n_hidden_2']))\n",
    "        \n",
    "\n",
    "    if param['regularization'] =='dropout':\n",
    "        net_layers.append(nn.Dropout(p=0.5))\n",
    "    elif param['regularization'] =='batch_norm':\n",
    "        net_layers.append(nn.BatchNorm1d(param['n_hidden_2']))\n",
    "    if param['activation_2'] is not ReLU():\n",
    "        net_layers.append(param['activation_2'])\n",
    "       \n",
    "    net_layers.append(nn.Linear(param['n_hidden_2'], param['n_neurons_out']))\n",
    "    if param['activation_out'] is not ReLU():\n",
    "        net_layers.append(param['activation_out'])\n",
    "        \n",
    "    net = nn.Sequential(*net_layers) # такая запись позволяет передавать элементы списка как параметры для инициализации\n",
    "    net.apply(init_weights) #применим метод ко всем слоям сети\n",
    "    optimizer = torch.optim.Adam(net.parameters(),lr=0.2)\n",
    "    loss = nn.MSELoss()\n",
    "    train_data = TensorDataset(X_train, y_train)\n",
    "    train_loader = DataLoader(dataset = train_data, batch_size=param['batch_size'], shuffle=True)\n",
    "    for _ in range(num_epochs):\n",
    "        for i_batch, batch in enumerate(train_loader):\n",
    "            X_batch, y_batch = batch\n",
    "            preds_batch = net.forward(X_batch)\n",
    "            loss_value = loss(preds_batch.reshape(-1,), y_batch)\n",
    "            optimizer.zero_grad() \n",
    "            loss_value.backward()            \n",
    "            optimizer.step()\n",
    "        \n",
    "            if i_batch % 20 ==0 or i_batch ==i_batch-1:\n",
    "                net.eval()\n",
    "                test_preds = net.forward(X_test)\n",
    "                \n",
    "                rmse_test = round(np.sqrt(mean_squared_error(y_test, test_preds.detach().numpy())))\n",
    "            \n",
    "\n",
    "                is_best_overall = rmse_test < best_score_overall\n",
    "                best_score_overall = min(rmse_test, best_score_overall)\n",
    "                \n",
    "                is_best_param = rmse_test < best_param\n",
    "                best_param = min(rmse_test, best_param)\n",
    "                \n",
    "                if is_best_overall:\n",
    "                    torch.save(net, 'best_model.pth')\n",
    "                \n",
    "\n",
    "                if is_best_param:\n",
    "                    results[i] = (param, best_param)\n",
    "                "
   ]
  },
  {
   "cell_type": "code",
   "execution_count": 234,
   "id": "dcc896f8",
   "metadata": {},
   "outputs": [
    {
     "data": {
      "text/plain": [
       "72"
      ]
     },
     "execution_count": 234,
     "metadata": {},
     "output_type": "execute_result"
    }
   ],
   "source": [
    "len(test_preds)"
   ]
  },
  {
   "cell_type": "code",
   "execution_count": 235,
   "id": "9394d47b",
   "metadata": {},
   "outputs": [
    {
     "data": {
      "text/plain": [
       "5582"
      ]
     },
     "execution_count": 235,
     "metadata": {},
     "output_type": "execute_result"
    }
   ],
   "source": [
    "round(np.sqrt(mean_squared_error(y_test, test_preds.detach().numpy())))"
   ]
  },
  {
   "cell_type": "code",
   "execution_count": 236,
   "id": "dba0aebc",
   "metadata": {
    "scrolled": true
   },
   "outputs": [
    {
     "data": {
      "text/html": [
       "<div>\n",
       "<style scoped>\n",
       "    .dataframe tbody tr th:only-of-type {\n",
       "        vertical-align: middle;\n",
       "    }\n",
       "\n",
       "    .dataframe tbody tr th {\n",
       "        vertical-align: top;\n",
       "    }\n",
       "\n",
       "    .dataframe thead th {\n",
       "        text-align: right;\n",
       "    }\n",
       "</style>\n",
       "<table border=\"1\" class=\"dataframe\">\n",
       "  <thead>\n",
       "    <tr style=\"text-align: right;\">\n",
       "      <th></th>\n",
       "      <th>regularization</th>\n",
       "      <th>n_hidden_2</th>\n",
       "      <th>n_hidden_1</th>\n",
       "      <th>learning_rate</th>\n",
       "      <th>batch_size</th>\n",
       "      <th>activation_out</th>\n",
       "      <th>activation_2</th>\n",
       "      <th>activation_1</th>\n",
       "      <th>score</th>\n",
       "    </tr>\n",
       "  </thead>\n",
       "  <tbody>\n",
       "    <tr>\n",
       "      <th>10</th>\n",
       "      <td>batch_norm</td>\n",
       "      <td>15</td>\n",
       "      <td>200</td>\n",
       "      <td>0.0005</td>\n",
       "      <td>150</td>\n",
       "      <td>ReLU()</td>\n",
       "      <td>ReLU()</td>\n",
       "      <td>ReLU()</td>\n",
       "      <td>4749</td>\n",
       "    </tr>\n",
       "    <tr>\n",
       "      <th>1</th>\n",
       "      <td>batch_norm</td>\n",
       "      <td>30</td>\n",
       "      <td>300</td>\n",
       "      <td>0.0500</td>\n",
       "      <td>140</td>\n",
       "      <td>ReLU()</td>\n",
       "      <td>ReLU()</td>\n",
       "      <td>ReLU()</td>\n",
       "      <td>4781</td>\n",
       "    </tr>\n",
       "    <tr>\n",
       "      <th>17</th>\n",
       "      <td>batch_norm</td>\n",
       "      <td>30</td>\n",
       "      <td>150</td>\n",
       "      <td>0.0005</td>\n",
       "      <td>140</td>\n",
       "      <td>ReLU()</td>\n",
       "      <td>ReLU()</td>\n",
       "      <td>ReLU()</td>\n",
       "      <td>4815</td>\n",
       "    </tr>\n",
       "    <tr>\n",
       "      <th>0</th>\n",
       "      <td>batch_norm</td>\n",
       "      <td>30</td>\n",
       "      <td>150</td>\n",
       "      <td>0.0070</td>\n",
       "      <td>150</td>\n",
       "      <td>ReLU()</td>\n",
       "      <td>LeakyReLU(negative_slope=0.01)</td>\n",
       "      <td>LeakyReLU(negative_slope=0.01)</td>\n",
       "      <td>4863</td>\n",
       "    </tr>\n",
       "    <tr>\n",
       "      <th>15</th>\n",
       "      <td>dropout</td>\n",
       "      <td>15</td>\n",
       "      <td>200</td>\n",
       "      <td>0.0500</td>\n",
       "      <td>150</td>\n",
       "      <td>ReLU()</td>\n",
       "      <td>ReLU()</td>\n",
       "      <td>LeakyReLU(negative_slope=0.01)</td>\n",
       "      <td>4868</td>\n",
       "    </tr>\n",
       "  </tbody>\n",
       "</table>\n",
       "</div>"
      ],
      "text/plain": [
       "   regularization  n_hidden_2  n_hidden_1  learning_rate  batch_size  \\\n",
       "10     batch_norm          15         200         0.0005         150   \n",
       "1      batch_norm          30         300         0.0500         140   \n",
       "17     batch_norm          30         150         0.0005         140   \n",
       "0      batch_norm          30         150         0.0070         150   \n",
       "15        dropout          15         200         0.0500         150   \n",
       "\n",
       "   activation_out                    activation_2  \\\n",
       "10         ReLU()                          ReLU()   \n",
       "1          ReLU()                          ReLU()   \n",
       "17         ReLU()                          ReLU()   \n",
       "0          ReLU()  LeakyReLU(negative_slope=0.01)   \n",
       "15         ReLU()                          ReLU()   \n",
       "\n",
       "                      activation_1  score  \n",
       "10                          ReLU()   4749  \n",
       "1                           ReLU()   4781  \n",
       "17                          ReLU()   4815  \n",
       "0   LeakyReLU(negative_slope=0.01)   4863  \n",
       "15  LeakyReLU(negative_slope=0.01)   4868  "
      ]
     },
     "execution_count": 236,
     "metadata": {},
     "output_type": "execute_result"
    }
   ],
   "source": [
    "#выведем результат\n",
    "results_df = pd.DataFrame.from_dict(results, orient='index')\n",
    "params = results_df[0].apply(pd.Series).drop(columns={'n_neurons_out', 'n_neurons_in'}, axis=1)\n",
    "params['score'] = results_df[1]\n",
    "results_df = params.sort_values(by='score')\n",
    "results_df.head()"
   ]
  },
  {
   "cell_type": "code",
   "execution_count": 237,
   "id": "f282a4db",
   "metadata": {},
   "outputs": [
    {
     "data": {
      "text/html": [
       "<div>\n",
       "<style scoped>\n",
       "    .dataframe tbody tr th:only-of-type {\n",
       "        vertical-align: middle;\n",
       "    }\n",
       "\n",
       "    .dataframe tbody tr th {\n",
       "        vertical-align: top;\n",
       "    }\n",
       "\n",
       "    .dataframe thead th {\n",
       "        text-align: right;\n",
       "    }\n",
       "</style>\n",
       "<table border=\"1\" class=\"dataframe\">\n",
       "  <thead>\n",
       "    <tr style=\"text-align: right;\">\n",
       "      <th></th>\n",
       "      <th>Unnamed: 0</th>\n",
       "      <th>Luminosity(L/Lo)</th>\n",
       "      <th>Radius(R/Ro)</th>\n",
       "      <th>Absolute magnitude(Mv)</th>\n",
       "      <th>Star type</th>\n",
       "      <th>Star color</th>\n",
       "      <th>Temperature (K)</th>\n",
       "    </tr>\n",
       "  </thead>\n",
       "  <tbody>\n",
       "    <tr>\n",
       "      <th>0</th>\n",
       "      <td>24</td>\n",
       "      <td>0.01300</td>\n",
       "      <td>0.014</td>\n",
       "      <td>11.89</td>\n",
       "      <td>2</td>\n",
       "      <td>bluewhite</td>\n",
       "      <td>16500</td>\n",
       "    </tr>\n",
       "    <tr>\n",
       "      <th>1</th>\n",
       "      <td>6</td>\n",
       "      <td>0.00073</td>\n",
       "      <td>0.127</td>\n",
       "      <td>17.22</td>\n",
       "      <td>0</td>\n",
       "      <td>red</td>\n",
       "      <td>2637</td>\n",
       "    </tr>\n",
       "    <tr>\n",
       "      <th>2</th>\n",
       "      <td>93</td>\n",
       "      <td>0.35700</td>\n",
       "      <td>1.130</td>\n",
       "      <td>4.78</td>\n",
       "      <td>3</td>\n",
       "      <td>yellowish</td>\n",
       "      <td>4980</td>\n",
       "    </tr>\n",
       "    <tr>\n",
       "      <th>3</th>\n",
       "      <td>109</td>\n",
       "      <td>352000.00000</td>\n",
       "      <td>67.000</td>\n",
       "      <td>-5.79</td>\n",
       "      <td>4</td>\n",
       "      <td>blue</td>\n",
       "      <td>33421</td>\n",
       "    </tr>\n",
       "    <tr>\n",
       "      <th>4</th>\n",
       "      <td>104</td>\n",
       "      <td>112000.00000</td>\n",
       "      <td>12.000</td>\n",
       "      <td>-5.91</td>\n",
       "      <td>4</td>\n",
       "      <td>blue</td>\n",
       "      <td>11096</td>\n",
       "    </tr>\n",
       "  </tbody>\n",
       "</table>\n",
       "</div>"
      ],
      "text/plain": [
       "   Unnamed: 0  Luminosity(L/Lo)  Radius(R/Ro)  Absolute magnitude(Mv)  \\\n",
       "0          24           0.01300         0.014                   11.89   \n",
       "1           6           0.00073         0.127                   17.22   \n",
       "2          93           0.35700         1.130                    4.78   \n",
       "3         109      352000.00000        67.000                   -5.79   \n",
       "4         104      112000.00000        12.000                   -5.91   \n",
       "\n",
       "   Star type Star color  Temperature (K)  \n",
       "0          2  bluewhite            16500  \n",
       "1          0        red             2637  \n",
       "2          3  yellowish             4980  \n",
       "3          4       blue            33421  \n",
       "4          4       blue            11096  "
      ]
     },
     "execution_count": 237,
     "metadata": {},
     "output_type": "execute_result"
    }
   ],
   "source": [
    "X_best = pd.merge(X_test_mo, y_test_m, left_index=True, right_index = True)\n",
    "X_best.head(5)"
   ]
  },
  {
   "cell_type": "code",
   "execution_count": 238,
   "id": "8c6a205b",
   "metadata": {},
   "outputs": [
    {
     "data": {
      "text/html": [
       "<div>\n",
       "<style scoped>\n",
       "    .dataframe tbody tr th:only-of-type {\n",
       "        vertical-align: middle;\n",
       "    }\n",
       "\n",
       "    .dataframe tbody tr th {\n",
       "        vertical-align: top;\n",
       "    }\n",
       "\n",
       "    .dataframe thead th {\n",
       "        text-align: right;\n",
       "    }\n",
       "</style>\n",
       "<table border=\"1\" class=\"dataframe\">\n",
       "  <thead>\n",
       "    <tr style=\"text-align: right;\">\n",
       "      <th></th>\n",
       "      <th>Unnamed: 0</th>\n",
       "      <th>Luminosity(L/Lo)</th>\n",
       "      <th>Radius(R/Ro)</th>\n",
       "      <th>Absolute magnitude(Mv)</th>\n",
       "      <th>Star type</th>\n",
       "      <th>Star color</th>\n",
       "      <th>Temperature (K)</th>\n",
       "      <th>preds</th>\n",
       "    </tr>\n",
       "  </thead>\n",
       "  <tbody>\n",
       "    <tr>\n",
       "      <th>0</th>\n",
       "      <td>24</td>\n",
       "      <td>0.01300</td>\n",
       "      <td>0.0140</td>\n",
       "      <td>11.89</td>\n",
       "      <td>2</td>\n",
       "      <td>bluewhite</td>\n",
       "      <td>16500</td>\n",
       "      <td>11722.487305</td>\n",
       "    </tr>\n",
       "    <tr>\n",
       "      <th>1</th>\n",
       "      <td>6</td>\n",
       "      <td>0.00073</td>\n",
       "      <td>0.1270</td>\n",
       "      <td>17.22</td>\n",
       "      <td>0</td>\n",
       "      <td>red</td>\n",
       "      <td>2637</td>\n",
       "      <td>3347.328613</td>\n",
       "    </tr>\n",
       "    <tr>\n",
       "      <th>2</th>\n",
       "      <td>93</td>\n",
       "      <td>0.35700</td>\n",
       "      <td>1.1300</td>\n",
       "      <td>4.78</td>\n",
       "      <td>3</td>\n",
       "      <td>yellowish</td>\n",
       "      <td>4980</td>\n",
       "      <td>3173.211426</td>\n",
       "    </tr>\n",
       "    <tr>\n",
       "      <th>3</th>\n",
       "      <td>109</td>\n",
       "      <td>352000.00000</td>\n",
       "      <td>67.0000</td>\n",
       "      <td>-5.79</td>\n",
       "      <td>4</td>\n",
       "      <td>blue</td>\n",
       "      <td>33421</td>\n",
       "      <td>20153.298828</td>\n",
       "    </tr>\n",
       "    <tr>\n",
       "      <th>4</th>\n",
       "      <td>104</td>\n",
       "      <td>112000.00000</td>\n",
       "      <td>12.0000</td>\n",
       "      <td>-5.91</td>\n",
       "      <td>4</td>\n",
       "      <td>blue</td>\n",
       "      <td>11096</td>\n",
       "      <td>18502.046875</td>\n",
       "    </tr>\n",
       "    <tr>\n",
       "      <th>...</th>\n",
       "      <td>...</td>\n",
       "      <td>...</td>\n",
       "      <td>...</td>\n",
       "      <td>...</td>\n",
       "      <td>...</td>\n",
       "      <td>...</td>\n",
       "      <td>...</td>\n",
       "      <td>...</td>\n",
       "    </tr>\n",
       "    <tr>\n",
       "      <th>67</th>\n",
       "      <td>84</td>\n",
       "      <td>0.00067</td>\n",
       "      <td>0.0089</td>\n",
       "      <td>12.17</td>\n",
       "      <td>2</td>\n",
       "      <td>bluewhite</td>\n",
       "      <td>14100</td>\n",
       "      <td>11641.268555</td>\n",
       "    </tr>\n",
       "    <tr>\n",
       "      <th>68</th>\n",
       "      <td>117</td>\n",
       "      <td>74000.00000</td>\n",
       "      <td>876.0000</td>\n",
       "      <td>-10.25</td>\n",
       "      <td>5</td>\n",
       "      <td>red</td>\n",
       "      <td>3625</td>\n",
       "      <td>2816.134766</td>\n",
       "    </tr>\n",
       "    <tr>\n",
       "      <th>69</th>\n",
       "      <td>194</td>\n",
       "      <td>0.00540</td>\n",
       "      <td>0.3190</td>\n",
       "      <td>12.43</td>\n",
       "      <td>1</td>\n",
       "      <td>red</td>\n",
       "      <td>3523</td>\n",
       "      <td>3026.399414</td>\n",
       "    </tr>\n",
       "    <tr>\n",
       "      <th>70</th>\n",
       "      <td>177</td>\n",
       "      <td>170000.00000</td>\n",
       "      <td>1779.0000</td>\n",
       "      <td>-9.90</td>\n",
       "      <td>5</td>\n",
       "      <td>bluewhite</td>\n",
       "      <td>11000</td>\n",
       "      <td>17344.003906</td>\n",
       "    </tr>\n",
       "    <tr>\n",
       "      <th>71</th>\n",
       "      <td>111</td>\n",
       "      <td>126000.00000</td>\n",
       "      <td>1124.0000</td>\n",
       "      <td>-10.81</td>\n",
       "      <td>5</td>\n",
       "      <td>red</td>\n",
       "      <td>3605</td>\n",
       "      <td>3413.133545</td>\n",
       "    </tr>\n",
       "  </tbody>\n",
       "</table>\n",
       "<p>72 rows × 8 columns</p>\n",
       "</div>"
      ],
      "text/plain": [
       "    Unnamed: 0  Luminosity(L/Lo)  Radius(R/Ro)  Absolute magnitude(Mv)  \\\n",
       "0           24           0.01300        0.0140                   11.89   \n",
       "1            6           0.00073        0.1270                   17.22   \n",
       "2           93           0.35700        1.1300                    4.78   \n",
       "3          109      352000.00000       67.0000                   -5.79   \n",
       "4          104      112000.00000       12.0000                   -5.91   \n",
       "..         ...               ...           ...                     ...   \n",
       "67          84           0.00067        0.0089                   12.17   \n",
       "68         117       74000.00000      876.0000                  -10.25   \n",
       "69         194           0.00540        0.3190                   12.43   \n",
       "70         177      170000.00000     1779.0000                   -9.90   \n",
       "71         111      126000.00000     1124.0000                  -10.81   \n",
       "\n",
       "    Star type Star color  Temperature (K)         preds  \n",
       "0           2  bluewhite            16500  11722.487305  \n",
       "1           0        red             2637   3347.328613  \n",
       "2           3  yellowish             4980   3173.211426  \n",
       "3           4       blue            33421  20153.298828  \n",
       "4           4       blue            11096  18502.046875  \n",
       "..        ...        ...              ...           ...  \n",
       "67          2  bluewhite            14100  11641.268555  \n",
       "68          5        red             3625   2816.134766  \n",
       "69          1        red             3523   3026.399414  \n",
       "70          5  bluewhite            11000  17344.003906  \n",
       "71          5        red             3605   3413.133545  \n",
       "\n",
       "[72 rows x 8 columns]"
      ]
     },
     "execution_count": 238,
     "metadata": {},
     "output_type": "execute_result"
    }
   ],
   "source": [
    "model = torch.load('best_model.pth')\n",
    "model.eval()\n",
    "preds = model.forward(X_test)\n",
    "preds= preds.detach().numpy()\n",
    "preds = pd.DataFrame(data=preds, columns =['preds'])\n",
    "\n",
    "X_best['preds'] = preds\n",
    "X_best"
   ]
  },
  {
   "cell_type": "code",
   "execution_count": 239,
   "id": "9f89e6f3",
   "metadata": {},
   "outputs": [],
   "source": [
    "#определим 13 звезд с наибольшей температурой\n",
    "X_best_sorted = X_best.sort_values(by = 'Temperature (K)')\n",
    "X_best_13 = X_best_sorted.head(13)"
   ]
  },
  {
   "cell_type": "code",
   "execution_count": 240,
   "id": "0a5b4a19",
   "metadata": {},
   "outputs": [
    {
     "data": {
      "image/png": "[encoded data removed]",
      "text/plain": [
       "<Figure size 720x360 with 1 Axes>"
      ]
     },
     "metadata": {
      "needs_background": "light"
     },
     "output_type": "display_data"
    }
   ],
   "source": [
    "#построим график\n",
    "X_axis_b = X_best_13['Unnamed: 0'].index\n",
    "plt.figure(figsize=(10,5))\n",
    "plt.bar(X_axis_b-0.2, X_best_13['preds'], 3, label = \"Прогнозные данные\")\n",
    "plt.bar(X_axis_b-0.2, X_best_13['Temperature (K)'], 1.5, label = \"Фактические данные\")\n",
    "plt.xticks(X_axis_b, X_best_13['Unnamed: 0'])\n",
    "plt.xlabel(\"Номер звезды в таблице данных\")\n",
    "plt.ylabel(\"Температура звезды\")\n",
    "plt.legend(loc = 'upper left')\n",
    "plt.title('План-Факт')\n",
    "plt.show()"
   ]
  },
  {
   "cell_type": "markdown",
   "id": "accurate-infrastructure",
   "metadata": {},
   "source": [
    "## Выводы  \n",
    "Как видно из приведенных данных, базовая модель с использованием 7 скрытых слоев показала результат хуже, чем модель, использующая 2 слоя и batch_normalization. "
   ]
  },
  {
   "cell_type": "code",
   "execution_count": null,
   "id": "6d399bb1",
   "metadata": {},
   "outputs": [],
   "source": []
  }
 ],
 "metadata": {
  "ExecuteTimeLog": [
   {
    "duration": 1712,
    "start_time": "2022-06-05T17:00:19.021Z"
   },
   {
    "duration": 71,
    "start_time": "2022-06-05T17:00:23.021Z"
   },
   {
    "duration": 44,
    "start_time": "2022-06-05T17:00:39.639Z"
   },
   {
    "duration": 4,
    "start_time": "2022-06-05T17:01:06.148Z"
   },
   {
    "duration": 5,
    "start_time": "2022-06-05T17:01:27.340Z"
   },
   {
    "duration": 127,
    "start_time": "2022-06-05T17:01:41.981Z"
   },
   {
    "duration": 4,
    "start_time": "2022-06-05T17:01:51.208Z"
   },
   {
    "duration": 10,
    "start_time": "2022-06-05T17:02:24.013Z"
   },
   {
    "duration": 6,
    "start_time": "2022-06-05T17:02:33.786Z"
   },
   {
    "duration": 6,
    "start_time": "2022-06-05T17:03:07.184Z"
   },
   {
    "duration": 6,
    "start_time": "2022-06-05T17:07:24.732Z"
   },
   {
    "duration": 6,
    "start_time": "2022-06-05T17:07:55.171Z"
   },
   {
    "duration": 5,
    "start_time": "2022-06-05T17:08:32.095Z"
   },
   {
    "duration": 4,
    "start_time": "2022-06-05T17:09:16.148Z"
   },
   {
    "duration": 11,
    "start_time": "2022-06-05T17:41:23.664Z"
   },
   {
    "duration": 3,
    "start_time": "2022-06-05T17:45:32.247Z"
   },
   {
    "duration": 5,
    "start_time": "2022-06-05T17:45:49.471Z"
   },
   {
    "duration": 4,
    "start_time": "2022-06-05T17:48:33.225Z"
   },
   {
    "duration": 140,
    "start_time": "2022-06-05T17:48:43.943Z"
   },
   {
    "duration": 84,
    "start_time": "2022-06-05T17:50:10.891Z"
   },
   {
    "duration": 108,
    "start_time": "2022-06-05T17:50:13.805Z"
   },
   {
    "duration": 130,
    "start_time": "2022-06-05T17:50:16.374Z"
   },
   {
    "duration": 101,
    "start_time": "2022-06-05T17:50:19.271Z"
   },
   {
    "duration": 89,
    "start_time": "2022-06-05T17:50:22.390Z"
   },
   {
    "duration": 3,
    "start_time": "2022-06-05T17:52:36.440Z"
   },
   {
    "duration": 8,
    "start_time": "2022-06-05T17:53:08.744Z"
   },
   {
    "duration": 1696,
    "start_time": "2022-06-06T16:56:38.918Z"
   },
   {
    "duration": 194,
    "start_time": "2022-06-06T16:56:40.616Z"
   },
   {
    "duration": 12,
    "start_time": "2022-06-06T16:56:40.811Z"
   },
   {
    "duration": 5,
    "start_time": "2022-06-06T16:56:40.826Z"
   },
   {
    "duration": 14,
    "start_time": "2022-06-06T16:56:40.833Z"
   },
   {
    "duration": 7,
    "start_time": "2022-06-06T16:56:40.849Z"
   },
   {
    "duration": 9,
    "start_time": "2022-06-06T16:56:40.858Z"
   },
   {
    "duration": 5,
    "start_time": "2022-06-06T16:56:40.869Z"
   },
   {
    "duration": 34,
    "start_time": "2022-06-06T16:56:40.876Z"
   },
   {
    "duration": 4,
    "start_time": "2022-06-06T16:56:40.913Z"
   },
   {
    "duration": 6,
    "start_time": "2022-06-06T16:56:40.919Z"
   },
   {
    "duration": 6,
    "start_time": "2022-06-06T16:56:40.926Z"
   },
   {
    "duration": 6,
    "start_time": "2022-06-06T16:56:40.933Z"
   },
   {
    "duration": 3,
    "start_time": "2022-06-06T16:56:46.095Z"
   },
   {
    "duration": 5,
    "start_time": "2022-06-06T16:56:46.925Z"
   },
   {
    "duration": 3,
    "start_time": "2022-06-06T16:59:13.638Z"
   },
   {
    "duration": 4,
    "start_time": "2022-06-06T16:59:14.274Z"
   },
   {
    "duration": 3,
    "start_time": "2022-06-06T16:59:15.444Z"
   },
   {
    "duration": 5,
    "start_time": "2022-06-06T16:59:16.196Z"
   },
   {
    "duration": 4,
    "start_time": "2022-06-06T17:18:47.594Z"
   },
   {
    "duration": 8,
    "start_time": "2022-06-06T17:21:11.402Z"
   },
   {
    "duration": 3,
    "start_time": "2022-06-06T17:21:36.903Z"
   },
   {
    "duration": 160,
    "start_time": "2022-06-06T17:21:41.751Z"
   },
   {
    "duration": 3,
    "start_time": "2022-06-06T17:24:28.009Z"
   },
   {
    "duration": 66,
    "start_time": "2022-06-06T17:24:28.014Z"
   },
   {
    "duration": 10,
    "start_time": "2022-06-06T17:24:28.081Z"
   },
   {
    "duration": 3,
    "start_time": "2022-06-06T17:24:28.092Z"
   },
   {
    "duration": 5,
    "start_time": "2022-06-06T17:24:28.097Z"
   },
   {
    "duration": 5,
    "start_time": "2022-06-06T17:24:28.103Z"
   },
   {
    "duration": 6,
    "start_time": "2022-06-06T17:24:28.109Z"
   },
   {
    "duration": 5,
    "start_time": "2022-06-06T17:24:28.116Z"
   },
   {
    "duration": 5,
    "start_time": "2022-06-06T17:24:28.122Z"
   },
   {
    "duration": 5,
    "start_time": "2022-06-06T17:24:28.129Z"
   },
   {
    "duration": 6,
    "start_time": "2022-06-06T17:24:28.136Z"
   },
   {
    "duration": 6,
    "start_time": "2022-06-06T17:24:28.144Z"
   },
   {
    "duration": 6,
    "start_time": "2022-06-06T17:24:28.151Z"
   },
   {
    "duration": 5,
    "start_time": "2022-06-06T17:24:28.158Z"
   },
   {
    "duration": 12,
    "start_time": "2022-06-06T17:24:28.165Z"
   },
   {
    "duration": 32,
    "start_time": "2022-06-06T17:24:28.178Z"
   },
   {
    "duration": 100,
    "start_time": "2022-06-06T17:24:28.212Z"
   },
   {
    "duration": 104,
    "start_time": "2022-06-06T17:24:28.313Z"
   },
   {
    "duration": 9,
    "start_time": "2022-06-06T17:24:28.419Z"
   },
   {
    "duration": 8,
    "start_time": "2022-06-06T17:24:28.430Z"
   },
   {
    "duration": 133,
    "start_time": "2022-06-06T17:24:28.440Z"
   },
   {
    "duration": 8,
    "start_time": "2022-06-06T17:24:28.574Z"
   },
   {
    "duration": 5,
    "start_time": "2022-06-06T17:24:28.583Z"
   },
   {
    "duration": 130,
    "start_time": "2022-06-06T17:24:28.589Z"
   },
   {
    "duration": 8,
    "start_time": "2022-06-06T17:24:28.720Z"
   },
   {
    "duration": 109,
    "start_time": "2022-06-06T17:24:28.729Z"
   },
   {
    "duration": 7,
    "start_time": "2022-06-06T17:24:28.839Z"
   },
   {
    "duration": 185,
    "start_time": "2022-06-06T17:24:28.848Z"
   },
   {
    "duration": 7,
    "start_time": "2022-06-06T17:24:29.036Z"
   },
   {
    "duration": 4,
    "start_time": "2022-06-06T17:27:43.449Z"
   },
   {
    "duration": 4,
    "start_time": "2022-06-06T17:28:10.302Z"
   },
   {
    "duration": 3,
    "start_time": "2022-06-06T17:28:22.919Z"
   },
   {
    "duration": 65,
    "start_time": "2022-06-06T17:28:22.924Z"
   },
   {
    "duration": 9,
    "start_time": "2022-06-06T17:28:22.991Z"
   },
   {
    "duration": 5,
    "start_time": "2022-06-06T17:28:23.002Z"
   },
   {
    "duration": 6,
    "start_time": "2022-06-06T17:28:23.009Z"
   },
   {
    "duration": 5,
    "start_time": "2022-06-06T17:28:23.017Z"
   },
   {
    "duration": 8,
    "start_time": "2022-06-06T17:28:23.023Z"
   },
   {
    "duration": 5,
    "start_time": "2022-06-06T17:28:23.033Z"
   },
   {
    "duration": 8,
    "start_time": "2022-06-06T17:28:23.039Z"
   },
   {
    "duration": 5,
    "start_time": "2022-06-06T17:28:23.048Z"
   },
   {
    "duration": 6,
    "start_time": "2022-06-06T17:28:23.054Z"
   },
   {
    "duration": 5,
    "start_time": "2022-06-06T17:28:23.062Z"
   },
   {
    "duration": 4,
    "start_time": "2022-06-06T17:28:23.069Z"
   },
   {
    "duration": 35,
    "start_time": "2022-06-06T17:28:23.076Z"
   },
   {
    "duration": 6,
    "start_time": "2022-06-06T17:28:23.113Z"
   },
   {
    "duration": 9,
    "start_time": "2022-06-06T17:28:23.121Z"
   },
   {
    "duration": 104,
    "start_time": "2022-06-06T17:28:23.131Z"
   },
   {
    "duration": 95,
    "start_time": "2022-06-06T17:28:23.237Z"
   },
   {
    "duration": 7,
    "start_time": "2022-06-06T17:28:23.333Z"
   },
   {
    "duration": 7,
    "start_time": "2022-06-06T17:28:23.341Z"
   },
   {
    "duration": 117,
    "start_time": "2022-06-06T17:28:23.350Z"
   },
   {
    "duration": 7,
    "start_time": "2022-06-06T17:28:23.468Z"
   },
   {
    "duration": 5,
    "start_time": "2022-06-06T17:28:23.477Z"
   },
   {
    "duration": 115,
    "start_time": "2022-06-06T17:28:23.483Z"
   },
   {
    "duration": 14,
    "start_time": "2022-06-06T17:28:23.600Z"
   },
   {
    "duration": 12,
    "start_time": "2022-06-06T17:28:23.616Z"
   },
   {
    "duration": 100,
    "start_time": "2022-06-06T17:28:23.629Z"
   },
   {
    "duration": 7,
    "start_time": "2022-06-06T17:28:23.730Z"
   },
   {
    "duration": 7,
    "start_time": "2022-06-06T17:28:23.738Z"
   },
   {
    "duration": 99,
    "start_time": "2022-06-06T17:28:23.746Z"
   },
   {
    "duration": 7,
    "start_time": "2022-06-06T17:28:23.846Z"
   },
   {
    "duration": 4,
    "start_time": "2022-06-06T17:28:27.541Z"
   },
   {
    "duration": 3,
    "start_time": "2022-06-06T17:29:19.164Z"
   },
   {
    "duration": 59,
    "start_time": "2022-06-06T17:29:19.168Z"
   },
   {
    "duration": 10,
    "start_time": "2022-06-06T17:29:19.230Z"
   },
   {
    "duration": 5,
    "start_time": "2022-06-06T17:29:19.242Z"
   },
   {
    "duration": 11,
    "start_time": "2022-06-06T17:29:19.250Z"
   },
   {
    "duration": 8,
    "start_time": "2022-06-06T17:29:19.262Z"
   },
   {
    "duration": 10,
    "start_time": "2022-06-06T17:29:19.272Z"
   },
   {
    "duration": 25,
    "start_time": "2022-06-06T17:29:19.284Z"
   },
   {
    "duration": 6,
    "start_time": "2022-06-06T17:29:19.310Z"
   },
   {
    "duration": 8,
    "start_time": "2022-06-06T17:29:19.317Z"
   },
   {
    "duration": 6,
    "start_time": "2022-06-06T17:29:19.327Z"
   },
   {
    "duration": 7,
    "start_time": "2022-06-06T17:29:19.334Z"
   },
   {
    "duration": 7,
    "start_time": "2022-06-06T17:29:19.342Z"
   },
   {
    "duration": 10,
    "start_time": "2022-06-06T17:29:19.351Z"
   },
   {
    "duration": 11,
    "start_time": "2022-06-06T17:29:19.362Z"
   },
   {
    "duration": 6,
    "start_time": "2022-06-06T17:29:19.374Z"
   },
   {
    "duration": 104,
    "start_time": "2022-06-06T17:29:19.382Z"
   },
   {
    "duration": 98,
    "start_time": "2022-06-06T17:29:19.488Z"
   },
   {
    "duration": 7,
    "start_time": "2022-06-06T17:29:19.587Z"
   },
   {
    "duration": 16,
    "start_time": "2022-06-06T17:29:19.595Z"
   },
   {
    "duration": 111,
    "start_time": "2022-06-06T17:29:19.612Z"
   },
   {
    "duration": 7,
    "start_time": "2022-06-06T17:29:19.724Z"
   },
   {
    "duration": 6,
    "start_time": "2022-06-06T17:29:19.732Z"
   },
   {
    "duration": 121,
    "start_time": "2022-06-06T17:29:19.739Z"
   },
   {
    "duration": 8,
    "start_time": "2022-06-06T17:29:19.862Z"
   },
   {
    "duration": 7,
    "start_time": "2022-06-06T17:29:19.871Z"
   },
   {
    "duration": 105,
    "start_time": "2022-06-06T17:29:19.879Z"
   },
   {
    "duration": 7,
    "start_time": "2022-06-06T17:29:19.986Z"
   },
   {
    "duration": 4,
    "start_time": "2022-06-06T17:29:20.008Z"
   },
   {
    "duration": 100,
    "start_time": "2022-06-06T17:29:20.013Z"
   },
   {
    "duration": 7,
    "start_time": "2022-06-06T17:29:20.114Z"
   },
   {
    "duration": 3,
    "start_time": "2022-06-06T17:32:55.996Z"
   },
   {
    "duration": 3,
    "start_time": "2022-06-06T17:33:00.603Z"
   },
   {
    "duration": 94,
    "start_time": "2022-06-06T17:33:00.608Z"
   },
   {
    "duration": 10,
    "start_time": "2022-06-06T17:33:00.704Z"
   },
   {
    "duration": 15,
    "start_time": "2022-06-06T17:33:00.716Z"
   },
   {
    "duration": 22,
    "start_time": "2022-06-06T17:33:00.733Z"
   },
   {
    "duration": 8,
    "start_time": "2022-06-06T17:33:00.756Z"
   },
   {
    "duration": 33,
    "start_time": "2022-06-06T17:33:00.765Z"
   },
   {
    "duration": 17,
    "start_time": "2022-06-06T17:33:00.800Z"
   },
   {
    "duration": 37,
    "start_time": "2022-06-06T17:33:00.818Z"
   },
   {
    "duration": 26,
    "start_time": "2022-06-06T17:33:00.856Z"
   },
   {
    "duration": 33,
    "start_time": "2022-06-06T17:33:00.884Z"
   },
   {
    "duration": 31,
    "start_time": "2022-06-06T17:33:00.919Z"
   },
   {
    "duration": 27,
    "start_time": "2022-06-06T17:33:00.952Z"
   },
   {
    "duration": 38,
    "start_time": "2022-06-06T17:33:00.981Z"
   },
   {
    "duration": 12,
    "start_time": "2022-06-06T17:33:01.021Z"
   },
   {
    "duration": 12,
    "start_time": "2022-06-06T17:33:01.035Z"
   },
   {
    "duration": 99,
    "start_time": "2022-06-06T17:33:01.049Z"
   },
   {
    "duration": 90,
    "start_time": "2022-06-06T17:33:01.150Z"
   },
   {
    "duration": 7,
    "start_time": "2022-06-06T17:33:01.242Z"
   },
   {
    "duration": 11,
    "start_time": "2022-06-06T17:33:01.251Z"
   },
   {
    "duration": 125,
    "start_time": "2022-06-06T17:33:01.264Z"
   },
   {
    "duration": 8,
    "start_time": "2022-06-06T17:33:01.390Z"
   },
   {
    "duration": 9,
    "start_time": "2022-06-06T17:33:01.409Z"
   },
   {
    "duration": 103,
    "start_time": "2022-06-06T17:33:01.419Z"
   },
   {
    "duration": 7,
    "start_time": "2022-06-06T17:33:01.524Z"
   },
   {
    "duration": 5,
    "start_time": "2022-06-06T17:33:01.532Z"
   },
   {
    "duration": 111,
    "start_time": "2022-06-06T17:33:01.538Z"
   },
   {
    "duration": 7,
    "start_time": "2022-06-06T17:33:01.651Z"
   },
   {
    "duration": 10,
    "start_time": "2022-06-06T17:33:01.659Z"
   },
   {
    "duration": 192,
    "start_time": "2022-06-06T17:33:01.670Z"
   },
   {
    "duration": 8,
    "start_time": "2022-06-06T17:33:01.864Z"
   },
   {
    "duration": 4,
    "start_time": "2022-06-06T17:36:53.957Z"
   },
   {
    "duration": 177,
    "start_time": "2022-06-06T18:03:43.925Z"
   },
   {
    "duration": 0,
    "start_time": "2022-06-06T18:03:44.105Z"
   },
   {
    "duration": 0,
    "start_time": "2022-06-06T18:03:44.106Z"
   },
   {
    "duration": 0,
    "start_time": "2022-06-06T18:03:44.107Z"
   },
   {
    "duration": 0,
    "start_time": "2022-06-06T18:03:44.108Z"
   },
   {
    "duration": 0,
    "start_time": "2022-06-06T18:03:44.109Z"
   },
   {
    "duration": 0,
    "start_time": "2022-06-06T18:03:44.110Z"
   },
   {
    "duration": 0,
    "start_time": "2022-06-06T18:03:44.111Z"
   },
   {
    "duration": 0,
    "start_time": "2022-06-06T18:03:44.112Z"
   },
   {
    "duration": 0,
    "start_time": "2022-06-06T18:03:44.113Z"
   },
   {
    "duration": 0,
    "start_time": "2022-06-06T18:03:44.114Z"
   },
   {
    "duration": 0,
    "start_time": "2022-06-06T18:03:44.115Z"
   },
   {
    "duration": 0,
    "start_time": "2022-06-06T18:03:44.116Z"
   },
   {
    "duration": 0,
    "start_time": "2022-06-06T18:03:44.117Z"
   },
   {
    "duration": 0,
    "start_time": "2022-06-06T18:03:44.118Z"
   },
   {
    "duration": 0,
    "start_time": "2022-06-06T18:03:44.119Z"
   },
   {
    "duration": 0,
    "start_time": "2022-06-06T18:03:44.120Z"
   },
   {
    "duration": 0,
    "start_time": "2022-06-06T18:03:44.121Z"
   },
   {
    "duration": 0,
    "start_time": "2022-06-06T18:03:44.122Z"
   },
   {
    "duration": 0,
    "start_time": "2022-06-06T18:03:44.123Z"
   },
   {
    "duration": 0,
    "start_time": "2022-06-06T18:03:44.124Z"
   },
   {
    "duration": 0,
    "start_time": "2022-06-06T18:03:44.125Z"
   },
   {
    "duration": 0,
    "start_time": "2022-06-06T18:03:44.126Z"
   },
   {
    "duration": 0,
    "start_time": "2022-06-06T18:03:44.127Z"
   },
   {
    "duration": 0,
    "start_time": "2022-06-06T18:03:44.128Z"
   },
   {
    "duration": 0,
    "start_time": "2022-06-06T18:03:44.129Z"
   },
   {
    "duration": 0,
    "start_time": "2022-06-06T18:03:44.130Z"
   },
   {
    "duration": 0,
    "start_time": "2022-06-06T18:03:44.131Z"
   },
   {
    "duration": 0,
    "start_time": "2022-06-06T18:03:44.132Z"
   },
   {
    "duration": 0,
    "start_time": "2022-06-06T18:03:44.133Z"
   },
   {
    "duration": 0,
    "start_time": "2022-06-06T18:03:44.134Z"
   },
   {
    "duration": 0,
    "start_time": "2022-06-06T18:03:44.135Z"
   },
   {
    "duration": 0,
    "start_time": "2022-06-06T18:03:44.136Z"
   },
   {
    "duration": 52,
    "start_time": "2022-06-06T18:14:41.156Z"
   },
   {
    "duration": 0,
    "start_time": "2022-06-06T18:14:41.210Z"
   },
   {
    "duration": 0,
    "start_time": "2022-06-06T18:14:41.211Z"
   },
   {
    "duration": 0,
    "start_time": "2022-06-06T18:14:41.212Z"
   },
   {
    "duration": 0,
    "start_time": "2022-06-06T18:14:41.212Z"
   },
   {
    "duration": 0,
    "start_time": "2022-06-06T18:14:41.213Z"
   },
   {
    "duration": 0,
    "start_time": "2022-06-06T18:14:41.214Z"
   },
   {
    "duration": 0,
    "start_time": "2022-06-06T18:14:41.215Z"
   },
   {
    "duration": 0,
    "start_time": "2022-06-06T18:14:41.216Z"
   },
   {
    "duration": 0,
    "start_time": "2022-06-06T18:14:41.217Z"
   },
   {
    "duration": 0,
    "start_time": "2022-06-06T18:14:41.218Z"
   },
   {
    "duration": 0,
    "start_time": "2022-06-06T18:14:41.219Z"
   },
   {
    "duration": 0,
    "start_time": "2022-06-06T18:14:41.220Z"
   },
   {
    "duration": 0,
    "start_time": "2022-06-06T18:14:41.221Z"
   },
   {
    "duration": 0,
    "start_time": "2022-06-06T18:14:41.221Z"
   },
   {
    "duration": 0,
    "start_time": "2022-06-06T18:14:41.222Z"
   },
   {
    "duration": 0,
    "start_time": "2022-06-06T18:14:41.223Z"
   },
   {
    "duration": 0,
    "start_time": "2022-06-06T18:14:41.224Z"
   },
   {
    "duration": 0,
    "start_time": "2022-06-06T18:14:41.225Z"
   },
   {
    "duration": 0,
    "start_time": "2022-06-06T18:14:41.226Z"
   },
   {
    "duration": 0,
    "start_time": "2022-06-06T18:14:41.226Z"
   },
   {
    "duration": 0,
    "start_time": "2022-06-06T18:14:41.227Z"
   },
   {
    "duration": 0,
    "start_time": "2022-06-06T18:14:41.228Z"
   },
   {
    "duration": 0,
    "start_time": "2022-06-06T18:14:41.229Z"
   },
   {
    "duration": 0,
    "start_time": "2022-06-06T18:14:41.230Z"
   },
   {
    "duration": 0,
    "start_time": "2022-06-06T18:14:41.231Z"
   },
   {
    "duration": 0,
    "start_time": "2022-06-06T18:14:41.232Z"
   },
   {
    "duration": 0,
    "start_time": "2022-06-06T18:14:41.233Z"
   },
   {
    "duration": 0,
    "start_time": "2022-06-06T18:14:41.235Z"
   },
   {
    "duration": 0,
    "start_time": "2022-06-06T18:14:41.235Z"
   },
   {
    "duration": 0,
    "start_time": "2022-06-06T18:14:41.236Z"
   },
   {
    "duration": 0,
    "start_time": "2022-06-06T18:14:41.237Z"
   },
   {
    "duration": 0,
    "start_time": "2022-06-06T18:14:41.238Z"
   },
   {
    "duration": 5,
    "start_time": "2022-06-06T18:14:41.241Z"
   },
   {
    "duration": 63,
    "start_time": "2022-06-06T18:14:41.247Z"
   },
   {
    "duration": 18,
    "start_time": "2022-06-06T18:14:41.311Z"
   },
   {
    "duration": 10,
    "start_time": "2022-06-06T18:15:07.610Z"
   },
   {
    "duration": 1586,
    "start_time": "2022-06-06T18:15:26.934Z"
   },
   {
    "duration": 97,
    "start_time": "2022-06-06T18:15:28.522Z"
   },
   {
    "duration": 11,
    "start_time": "2022-06-06T18:15:28.620Z"
   },
   {
    "duration": 6,
    "start_time": "2022-06-06T18:15:28.633Z"
   },
   {
    "duration": 7,
    "start_time": "2022-06-06T18:15:28.641Z"
   },
   {
    "duration": 7,
    "start_time": "2022-06-06T18:15:28.650Z"
   },
   {
    "duration": 7,
    "start_time": "2022-06-06T18:15:28.658Z"
   },
   {
    "duration": 6,
    "start_time": "2022-06-06T18:15:28.666Z"
   },
   {
    "duration": 9,
    "start_time": "2022-06-06T18:15:28.673Z"
   },
   {
    "duration": 4,
    "start_time": "2022-06-06T18:15:28.709Z"
   },
   {
    "duration": 7,
    "start_time": "2022-06-06T18:15:28.715Z"
   },
   {
    "duration": 5,
    "start_time": "2022-06-06T18:15:28.723Z"
   },
   {
    "duration": 6,
    "start_time": "2022-06-06T18:15:28.730Z"
   },
   {
    "duration": 12,
    "start_time": "2022-06-06T18:15:28.738Z"
   },
   {
    "duration": 8,
    "start_time": "2022-06-06T18:15:28.752Z"
   },
   {
    "duration": 5,
    "start_time": "2022-06-06T18:15:28.762Z"
   },
   {
    "duration": 114,
    "start_time": "2022-06-06T18:15:28.768Z"
   },
   {
    "duration": 101,
    "start_time": "2022-06-06T18:15:28.883Z"
   },
   {
    "duration": 7,
    "start_time": "2022-06-06T18:15:28.985Z"
   },
   {
    "duration": 16,
    "start_time": "2022-06-06T18:15:28.993Z"
   },
   {
    "duration": 112,
    "start_time": "2022-06-06T18:15:29.010Z"
   },
   {
    "duration": 7,
    "start_time": "2022-06-06T18:15:29.124Z"
   },
   {
    "duration": 4,
    "start_time": "2022-06-06T18:15:29.132Z"
   },
   {
    "duration": 126,
    "start_time": "2022-06-06T18:15:29.138Z"
   },
   {
    "duration": 9,
    "start_time": "2022-06-06T18:15:29.265Z"
   },
   {
    "duration": 8,
    "start_time": "2022-06-06T18:15:29.275Z"
   },
   {
    "duration": 188,
    "start_time": "2022-06-06T18:15:29.285Z"
   },
   {
    "duration": 7,
    "start_time": "2022-06-06T18:15:29.476Z"
   },
   {
    "duration": 5,
    "start_time": "2022-06-06T18:15:29.485Z"
   },
   {
    "duration": 100,
    "start_time": "2022-06-06T18:15:29.491Z"
   },
   {
    "duration": 20,
    "start_time": "2022-06-06T18:15:29.593Z"
   },
   {
    "duration": 6,
    "start_time": "2022-06-06T18:15:29.614Z"
   },
   {
    "duration": 10,
    "start_time": "2022-06-06T18:15:29.621Z"
   },
   {
    "duration": 6,
    "start_time": "2022-06-06T18:15:29.632Z"
   },
   {
    "duration": 3552,
    "start_time": "2022-06-06T18:15:29.640Z"
   },
   {
    "duration": 4,
    "start_time": "2022-06-06T18:15:33.194Z"
   },
   {
    "duration": 16831,
    "start_time": "2022-06-06T18:15:33.199Z"
   },
   {
    "duration": 2045,
    "start_time": "2022-06-07T17:11:11.939Z"
   },
   {
    "duration": 0,
    "start_time": "2022-06-07T17:11:13.986Z"
   },
   {
    "duration": 0,
    "start_time": "2022-06-07T17:11:13.988Z"
   },
   {
    "duration": 0,
    "start_time": "2022-06-07T17:11:13.988Z"
   },
   {
    "duration": 0,
    "start_time": "2022-06-07T17:11:13.990Z"
   },
   {
    "duration": 0,
    "start_time": "2022-06-07T17:11:13.991Z"
   },
   {
    "duration": 0,
    "start_time": "2022-06-07T17:11:13.992Z"
   },
   {
    "duration": 0,
    "start_time": "2022-06-07T17:11:13.993Z"
   },
   {
    "duration": 0,
    "start_time": "2022-06-07T17:11:13.995Z"
   },
   {
    "duration": 0,
    "start_time": "2022-06-07T17:11:13.997Z"
   },
   {
    "duration": 0,
    "start_time": "2022-06-07T17:11:13.998Z"
   },
   {
    "duration": 0,
    "start_time": "2022-06-07T17:11:13.999Z"
   },
   {
    "duration": 0,
    "start_time": "2022-06-07T17:11:14.028Z"
   },
   {
    "duration": 0,
    "start_time": "2022-06-07T17:11:14.029Z"
   },
   {
    "duration": 0,
    "start_time": "2022-06-07T17:11:14.031Z"
   },
   {
    "duration": 0,
    "start_time": "2022-06-07T17:11:14.032Z"
   },
   {
    "duration": 0,
    "start_time": "2022-06-07T17:11:14.034Z"
   },
   {
    "duration": 0,
    "start_time": "2022-06-07T17:11:14.035Z"
   },
   {
    "duration": 0,
    "start_time": "2022-06-07T17:11:14.036Z"
   },
   {
    "duration": 0,
    "start_time": "2022-06-07T17:11:14.038Z"
   },
   {
    "duration": 0,
    "start_time": "2022-06-07T17:11:14.040Z"
   },
   {
    "duration": 0,
    "start_time": "2022-06-07T17:11:14.041Z"
   },
   {
    "duration": 0,
    "start_time": "2022-06-07T17:11:14.042Z"
   },
   {
    "duration": 0,
    "start_time": "2022-06-07T17:11:14.043Z"
   },
   {
    "duration": 0,
    "start_time": "2022-06-07T17:11:14.045Z"
   },
   {
    "duration": 0,
    "start_time": "2022-06-07T17:11:14.046Z"
   },
   {
    "duration": 1,
    "start_time": "2022-06-07T17:11:14.047Z"
   },
   {
    "duration": 0,
    "start_time": "2022-06-07T17:11:14.049Z"
   },
   {
    "duration": 0,
    "start_time": "2022-06-07T17:11:14.051Z"
   },
   {
    "duration": 0,
    "start_time": "2022-06-07T17:11:14.052Z"
   },
   {
    "duration": 0,
    "start_time": "2022-06-07T17:11:14.054Z"
   },
   {
    "duration": 0,
    "start_time": "2022-06-07T17:11:14.055Z"
   },
   {
    "duration": 0,
    "start_time": "2022-06-07T17:11:14.056Z"
   },
   {
    "duration": 4,
    "start_time": "2022-06-07T17:11:39.194Z"
   },
   {
    "duration": 104,
    "start_time": "2022-06-07T17:11:39.200Z"
   },
   {
    "duration": 11,
    "start_time": "2022-06-07T17:11:39.306Z"
   },
   {
    "duration": 26,
    "start_time": "2022-06-07T17:11:39.318Z"
   },
   {
    "duration": 27,
    "start_time": "2022-06-07T17:11:39.345Z"
   },
   {
    "duration": 19,
    "start_time": "2022-06-07T17:11:39.374Z"
   },
   {
    "duration": 13,
    "start_time": "2022-06-07T17:11:39.395Z"
   },
   {
    "duration": 23,
    "start_time": "2022-06-07T17:11:39.410Z"
   },
   {
    "duration": 35,
    "start_time": "2022-06-07T17:11:39.435Z"
   },
   {
    "duration": 29,
    "start_time": "2022-06-07T17:11:39.472Z"
   },
   {
    "duration": 19,
    "start_time": "2022-06-07T17:11:39.504Z"
   },
   {
    "duration": 12,
    "start_time": "2022-06-07T17:11:39.525Z"
   },
   {
    "duration": 25,
    "start_time": "2022-06-07T17:11:39.540Z"
   },
   {
    "duration": 29,
    "start_time": "2022-06-07T17:11:39.567Z"
   },
   {
    "duration": 13,
    "start_time": "2022-06-07T17:11:39.598Z"
   },
   {
    "duration": 22,
    "start_time": "2022-06-07T17:11:39.612Z"
   },
   {
    "duration": 114,
    "start_time": "2022-06-07T17:11:39.636Z"
   },
   {
    "duration": 101,
    "start_time": "2022-06-07T17:11:39.751Z"
   },
   {
    "duration": 7,
    "start_time": "2022-06-07T17:11:39.854Z"
   },
   {
    "duration": 18,
    "start_time": "2022-06-07T17:11:39.863Z"
   },
   {
    "duration": 114,
    "start_time": "2022-06-07T17:11:39.882Z"
   },
   {
    "duration": 8,
    "start_time": "2022-06-07T17:11:39.999Z"
   },
   {
    "duration": 21,
    "start_time": "2022-06-07T17:11:40.008Z"
   },
   {
    "duration": 120,
    "start_time": "2022-06-07T17:11:40.030Z"
   },
   {
    "duration": 8,
    "start_time": "2022-06-07T17:11:40.151Z"
   },
   {
    "duration": 30,
    "start_time": "2022-06-07T17:11:40.161Z"
   },
   {
    "duration": 135,
    "start_time": "2022-06-07T17:11:40.193Z"
   },
   {
    "duration": 8,
    "start_time": "2022-06-07T17:11:40.329Z"
   },
   {
    "duration": 8,
    "start_time": "2022-06-07T17:11:40.340Z"
   },
   {
    "duration": 116,
    "start_time": "2022-06-07T17:11:40.349Z"
   },
   {
    "duration": 9,
    "start_time": "2022-06-07T17:11:40.466Z"
   },
   {
    "duration": 20,
    "start_time": "2022-06-07T17:11:40.476Z"
   },
   {
    "duration": 28,
    "start_time": "2022-06-07T17:11:40.498Z"
   },
   {
    "duration": 20,
    "start_time": "2022-06-07T17:11:40.527Z"
   },
   {
    "duration": 10,
    "start_time": "2022-06-07T17:21:05.598Z"
   },
   {
    "duration": 18,
    "start_time": "2022-06-07T17:21:07.568Z"
   },
   {
    "duration": 13,
    "start_time": "2022-06-07T17:21:20.738Z"
   },
   {
    "duration": 26,
    "start_time": "2022-06-07T17:21:33.885Z"
   },
   {
    "duration": 3,
    "start_time": "2022-06-07T17:22:04.504Z"
   },
   {
    "duration": 4,
    "start_time": "2022-06-07T17:22:11.227Z"
   },
   {
    "duration": 27,
    "start_time": "2022-06-07T17:22:12.429Z"
   },
   {
    "duration": 23,
    "start_time": "2022-06-07T17:22:29.722Z"
   },
   {
    "duration": 11,
    "start_time": "2022-06-07T17:23:39.245Z"
   },
   {
    "duration": 22,
    "start_time": "2022-06-07T17:23:57.165Z"
   },
   {
    "duration": 11,
    "start_time": "2022-06-07T17:24:02.563Z"
   },
   {
    "duration": 3,
    "start_time": "2022-06-07T17:25:34.771Z"
   },
   {
    "duration": 3,
    "start_time": "2022-06-07T17:25:43.787Z"
   },
   {
    "duration": 36,
    "start_time": "2022-06-07T17:25:45.266Z"
   },
   {
    "duration": 38,
    "start_time": "2022-06-07T17:38:38.521Z"
   },
   {
    "duration": 18,
    "start_time": "2022-06-07T17:38:58.161Z"
   },
   {
    "duration": 32,
    "start_time": "2022-06-07T17:39:06.010Z"
   },
   {
    "duration": 10,
    "start_time": "2022-06-07T17:39:28.545Z"
   },
   {
    "duration": 17,
    "start_time": "2022-06-07T17:40:55.042Z"
   },
   {
    "duration": 20,
    "start_time": "2022-06-07T17:43:42.842Z"
   },
   {
    "duration": 8,
    "start_time": "2022-06-07T17:44:01.849Z"
   },
   {
    "duration": 4,
    "start_time": "2022-06-07T17:44:05.300Z"
   },
   {
    "duration": 116,
    "start_time": "2022-06-07T17:44:09.067Z"
   },
   {
    "duration": 22,
    "start_time": "2022-06-07T17:45:28.676Z"
   },
   {
    "duration": 5,
    "start_time": "2022-06-07T17:45:38.664Z"
   },
   {
    "duration": 6,
    "start_time": "2022-06-07T17:45:40.441Z"
   },
   {
    "duration": 8,
    "start_time": "2022-06-07T17:45:41.300Z"
   },
   {
    "duration": 20,
    "start_time": "2022-06-07T17:45:42.348Z"
   },
   {
    "duration": 35,
    "start_time": "2022-06-07T17:46:34.374Z"
   },
   {
    "duration": 19,
    "start_time": "2022-06-07T17:47:18.582Z"
   },
   {
    "duration": 4,
    "start_time": "2022-06-07T18:00:39.734Z"
   },
   {
    "duration": 45,
    "start_time": "2022-06-07T18:00:39.740Z"
   },
   {
    "duration": 11,
    "start_time": "2022-06-07T18:00:39.787Z"
   },
   {
    "duration": 8,
    "start_time": "2022-06-07T18:00:39.800Z"
   },
   {
    "duration": 7,
    "start_time": "2022-06-07T18:00:39.811Z"
   },
   {
    "duration": 4,
    "start_time": "2022-06-07T18:00:39.827Z"
   },
   {
    "duration": 9,
    "start_time": "2022-06-07T18:00:39.833Z"
   },
   {
    "duration": 11,
    "start_time": "2022-06-07T18:00:39.843Z"
   },
   {
    "duration": 8,
    "start_time": "2022-06-07T18:00:39.855Z"
   },
   {
    "duration": 7,
    "start_time": "2022-06-07T18:00:39.865Z"
   },
   {
    "duration": 8,
    "start_time": "2022-06-07T18:00:39.874Z"
   },
   {
    "duration": 6,
    "start_time": "2022-06-07T18:00:39.884Z"
   },
   {
    "duration": 35,
    "start_time": "2022-06-07T18:00:39.892Z"
   },
   {
    "duration": 4,
    "start_time": "2022-06-07T18:00:39.930Z"
   },
   {
    "duration": 11,
    "start_time": "2022-06-07T18:00:39.935Z"
   },
   {
    "duration": 8,
    "start_time": "2022-06-07T18:00:39.948Z"
   },
   {
    "duration": 115,
    "start_time": "2022-06-07T18:00:39.958Z"
   },
   {
    "duration": 104,
    "start_time": "2022-06-07T18:00:40.074Z"
   },
   {
    "duration": 7,
    "start_time": "2022-06-07T18:00:40.180Z"
   },
   {
    "duration": 8,
    "start_time": "2022-06-07T18:00:40.189Z"
   },
   {
    "duration": 130,
    "start_time": "2022-06-07T18:00:40.198Z"
   },
   {
    "duration": 9,
    "start_time": "2022-06-07T18:00:40.330Z"
   },
   {
    "duration": 6,
    "start_time": "2022-06-07T18:00:40.341Z"
   },
   {
    "duration": 129,
    "start_time": "2022-06-07T18:00:40.348Z"
   },
   {
    "duration": 8,
    "start_time": "2022-06-07T18:00:40.479Z"
   },
   {
    "duration": 13,
    "start_time": "2022-06-07T18:00:40.489Z"
   },
   {
    "duration": 106,
    "start_time": "2022-06-07T18:00:40.504Z"
   },
   {
    "duration": 21,
    "start_time": "2022-06-07T18:00:40.612Z"
   },
   {
    "duration": 7,
    "start_time": "2022-06-07T18:00:40.635Z"
   },
   {
    "duration": 129,
    "start_time": "2022-06-07T18:00:40.643Z"
   },
   {
    "duration": 8,
    "start_time": "2022-06-07T18:00:40.774Z"
   },
   {
    "duration": 6,
    "start_time": "2022-06-07T18:00:40.784Z"
   },
   {
    "duration": 8,
    "start_time": "2022-06-07T18:00:40.791Z"
   },
   {
    "duration": 37,
    "start_time": "2022-06-07T18:00:40.800Z"
   },
   {
    "duration": 4,
    "start_time": "2022-06-07T18:00:40.838Z"
   },
   {
    "duration": 12,
    "start_time": "2022-06-07T18:00:40.843Z"
   },
   {
    "duration": 6,
    "start_time": "2022-06-07T18:00:40.856Z"
   },
   {
    "duration": 22,
    "start_time": "2022-06-07T18:00:40.864Z"
   },
   {
    "duration": 18,
    "start_time": "2022-06-07T18:04:58.290Z"
   },
   {
    "duration": 19,
    "start_time": "2022-06-07T18:05:11.123Z"
   },
   {
    "duration": 24,
    "start_time": "2022-06-07T18:06:01.780Z"
   },
   {
    "duration": 19,
    "start_time": "2022-06-07T18:07:03.542Z"
   },
   {
    "duration": 19,
    "start_time": "2022-06-07T18:07:16.155Z"
   },
   {
    "duration": 21,
    "start_time": "2022-06-07T18:07:31.142Z"
   },
   {
    "duration": 399,
    "start_time": "2022-06-07T18:07:42.640Z"
   },
   {
    "duration": 21,
    "start_time": "2022-06-07T18:07:50.565Z"
   },
   {
    "duration": 24,
    "start_time": "2022-06-07T18:09:18.421Z"
   },
   {
    "duration": 32,
    "start_time": "2022-06-07T18:42:07.948Z"
   },
   {
    "duration": 2012,
    "start_time": "2022-06-09T17:45:16.735Z"
   },
   {
    "duration": 98,
    "start_time": "2022-06-09T17:45:18.749Z"
   },
   {
    "duration": 11,
    "start_time": "2022-06-09T17:45:18.848Z"
   },
   {
    "duration": 11,
    "start_time": "2022-06-09T17:45:18.860Z"
   },
   {
    "duration": 8,
    "start_time": "2022-06-09T17:45:18.872Z"
   },
   {
    "duration": 9,
    "start_time": "2022-06-09T17:45:18.881Z"
   },
   {
    "duration": 8,
    "start_time": "2022-06-09T17:45:18.891Z"
   },
   {
    "duration": 6,
    "start_time": "2022-06-09T17:45:18.900Z"
   },
   {
    "duration": 19,
    "start_time": "2022-06-09T17:45:18.907Z"
   },
   {
    "duration": 5,
    "start_time": "2022-06-09T17:45:18.930Z"
   },
   {
    "duration": 23,
    "start_time": "2022-06-09T17:45:18.937Z"
   },
   {
    "duration": 7,
    "start_time": "2022-06-09T17:45:18.961Z"
   },
   {
    "duration": 9,
    "start_time": "2022-06-09T17:45:18.969Z"
   },
   {
    "duration": 5,
    "start_time": "2022-06-09T17:45:18.980Z"
   },
   {
    "duration": 7,
    "start_time": "2022-06-09T17:45:18.987Z"
   },
   {
    "duration": 6,
    "start_time": "2022-06-09T17:45:18.996Z"
   },
   {
    "duration": 124,
    "start_time": "2022-06-09T17:45:19.003Z"
   },
   {
    "duration": 102,
    "start_time": "2022-06-09T17:45:19.128Z"
   },
   {
    "duration": 7,
    "start_time": "2022-06-09T17:45:19.232Z"
   },
   {
    "duration": 19,
    "start_time": "2022-06-09T17:45:19.241Z"
   },
   {
    "duration": 112,
    "start_time": "2022-06-09T17:45:19.262Z"
   },
   {
    "duration": 10,
    "start_time": "2022-06-09T17:45:19.376Z"
   },
   {
    "duration": 7,
    "start_time": "2022-06-09T17:45:19.388Z"
   },
   {
    "duration": 119,
    "start_time": "2022-06-09T17:45:19.397Z"
   },
   {
    "duration": 7,
    "start_time": "2022-06-09T17:45:19.518Z"
   },
   {
    "duration": 12,
    "start_time": "2022-06-09T17:45:19.527Z"
   },
   {
    "duration": 107,
    "start_time": "2022-06-09T17:45:19.540Z"
   },
   {
    "duration": 8,
    "start_time": "2022-06-09T17:45:19.658Z"
   },
   {
    "duration": 18,
    "start_time": "2022-06-09T17:45:19.667Z"
   },
   {
    "duration": 99,
    "start_time": "2022-06-09T17:45:19.686Z"
   },
   {
    "duration": 8,
    "start_time": "2022-06-09T17:45:19.787Z"
   },
   {
    "duration": 8,
    "start_time": "2022-06-09T17:45:19.796Z"
   },
   {
    "duration": 8,
    "start_time": "2022-06-09T17:45:19.805Z"
   },
   {
    "duration": 16,
    "start_time": "2022-06-09T17:45:19.814Z"
   },
   {
    "duration": 3,
    "start_time": "2022-06-09T17:45:19.832Z"
   },
   {
    "duration": 5,
    "start_time": "2022-06-09T17:45:19.836Z"
   },
   {
    "duration": 8,
    "start_time": "2022-06-09T17:45:19.859Z"
   },
   {
    "duration": 8,
    "start_time": "2022-06-09T17:45:19.869Z"
   },
   {
    "duration": 146,
    "start_time": "2022-06-09T17:45:19.879Z"
   },
   {
    "duration": 4,
    "start_time": "2022-06-09T17:45:51.363Z"
   },
   {
    "duration": 11,
    "start_time": "2022-06-09T17:50:38.920Z"
   },
   {
    "duration": 3,
    "start_time": "2022-06-09T17:57:01.705Z"
   },
   {
    "duration": 70,
    "start_time": "2022-06-09T17:57:01.710Z"
   },
   {
    "duration": 13,
    "start_time": "2022-06-09T17:57:01.782Z"
   },
   {
    "duration": 35,
    "start_time": "2022-06-09T17:57:01.797Z"
   },
   {
    "duration": 52,
    "start_time": "2022-06-09T17:57:01.833Z"
   },
   {
    "duration": 53,
    "start_time": "2022-06-09T17:57:01.887Z"
   },
   {
    "duration": 42,
    "start_time": "2022-06-09T17:57:01.941Z"
   },
   {
    "duration": 47,
    "start_time": "2022-06-09T17:57:01.985Z"
   },
   {
    "duration": 63,
    "start_time": "2022-06-09T17:57:02.034Z"
   },
   {
    "duration": 39,
    "start_time": "2022-06-09T17:57:02.099Z"
   },
   {
    "duration": 12,
    "start_time": "2022-06-09T17:57:02.140Z"
   },
   {
    "duration": 31,
    "start_time": "2022-06-09T17:57:02.154Z"
   },
   {
    "duration": 13,
    "start_time": "2022-06-09T17:57:02.187Z"
   },
   {
    "duration": 8,
    "start_time": "2022-06-09T17:57:02.201Z"
   },
   {
    "duration": 23,
    "start_time": "2022-06-09T17:57:02.211Z"
   },
   {
    "duration": 7,
    "start_time": "2022-06-09T17:57:02.236Z"
   },
   {
    "duration": 124,
    "start_time": "2022-06-09T17:57:02.244Z"
   },
   {
    "duration": 104,
    "start_time": "2022-06-09T17:57:02.370Z"
   },
   {
    "duration": 8,
    "start_time": "2022-06-09T17:57:02.476Z"
   },
   {
    "duration": 40,
    "start_time": "2022-06-09T17:57:02.486Z"
   },
   {
    "duration": 168,
    "start_time": "2022-06-09T17:57:02.528Z"
   },
   {
    "duration": 7,
    "start_time": "2022-06-09T17:57:02.698Z"
   },
   {
    "duration": 10,
    "start_time": "2022-06-09T17:57:02.707Z"
   },
   {
    "duration": 126,
    "start_time": "2022-06-09T17:57:02.720Z"
   },
   {
    "duration": 20,
    "start_time": "2022-06-09T17:57:02.848Z"
   },
   {
    "duration": 30,
    "start_time": "2022-06-09T17:57:02.870Z"
   },
   {
    "duration": 142,
    "start_time": "2022-06-09T17:57:02.901Z"
   },
   {
    "duration": 8,
    "start_time": "2022-06-09T17:57:03.045Z"
   },
   {
    "duration": 35,
    "start_time": "2022-06-09T17:57:03.055Z"
   },
   {
    "duration": 117,
    "start_time": "2022-06-09T17:57:03.092Z"
   },
   {
    "duration": 8,
    "start_time": "2022-06-09T17:57:03.211Z"
   },
   {
    "duration": 27,
    "start_time": "2022-06-09T17:57:03.220Z"
   },
   {
    "duration": 31,
    "start_time": "2022-06-09T17:57:03.249Z"
   },
   {
    "duration": 33,
    "start_time": "2022-06-09T17:57:03.282Z"
   },
   {
    "duration": 14,
    "start_time": "2022-06-09T17:57:03.316Z"
   },
   {
    "duration": 21,
    "start_time": "2022-06-09T17:57:03.331Z"
   },
   {
    "duration": 20,
    "start_time": "2022-06-09T17:57:03.353Z"
   },
   {
    "duration": 10,
    "start_time": "2022-06-09T17:57:03.375Z"
   },
   {
    "duration": 13,
    "start_time": "2022-06-09T17:57:03.387Z"
   },
   {
    "duration": 14,
    "start_time": "2022-06-09T17:57:03.402Z"
   },
   {
    "duration": 23,
    "start_time": "2022-06-09T17:57:03.417Z"
   },
   {
    "duration": 25,
    "start_time": "2022-06-09T17:57:03.441Z"
   },
   {
    "duration": 21,
    "start_time": "2022-06-09T17:57:03.467Z"
   },
   {
    "duration": 23,
    "start_time": "2022-06-09T17:57:14.512Z"
   },
   {
    "duration": 4,
    "start_time": "2022-06-09T17:58:00.242Z"
   },
   {
    "duration": 4,
    "start_time": "2022-06-09T17:58:01.588Z"
   },
   {
    "duration": 20,
    "start_time": "2022-06-09T17:58:31.111Z"
   },
   {
    "duration": 10,
    "start_time": "2022-06-09T17:58:55.662Z"
   },
   {
    "duration": 3,
    "start_time": "2022-06-09T17:59:01.008Z"
   },
   {
    "duration": 4,
    "start_time": "2022-06-09T17:59:01.599Z"
   },
   {
    "duration": 9,
    "start_time": "2022-06-09T17:59:02.140Z"
   },
   {
    "duration": 19,
    "start_time": "2022-06-09T18:04:43.614Z"
   },
   {
    "duration": 43,
    "start_time": "2022-06-09T18:06:58.233Z"
   },
   {
    "duration": 34,
    "start_time": "2022-06-09T18:08:47.147Z"
   },
   {
    "duration": 13,
    "start_time": "2022-06-09T18:08:55.925Z"
   },
   {
    "duration": 11,
    "start_time": "2022-06-09T18:09:13.917Z"
   },
   {
    "duration": 37,
    "start_time": "2022-06-09T18:09:44.405Z"
   },
   {
    "duration": 22,
    "start_time": "2022-06-09T18:10:28.509Z"
   },
   {
    "duration": 28,
    "start_time": "2022-06-09T18:10:52.603Z"
   },
   {
    "duration": 26,
    "start_time": "2022-06-09T18:11:12.738Z"
   },
   {
    "duration": 11,
    "start_time": "2022-06-09T18:27:42.066Z"
   },
   {
    "duration": 9,
    "start_time": "2022-06-09T18:28:35.809Z"
   },
   {
    "duration": 24,
    "start_time": "2022-06-09T18:28:38.875Z"
   },
   {
    "duration": 12,
    "start_time": "2022-06-09T18:28:51.848Z"
   },
   {
    "duration": 24,
    "start_time": "2022-06-09T18:28:53.775Z"
   },
   {
    "duration": 11,
    "start_time": "2022-06-09T18:28:59.329Z"
   },
   {
    "duration": 10,
    "start_time": "2022-06-09T18:29:30.337Z"
   },
   {
    "duration": 13,
    "start_time": "2022-06-09T18:29:32.781Z"
   },
   {
    "duration": 24,
    "start_time": "2022-06-09T18:29:49.971Z"
   },
   {
    "duration": 35,
    "start_time": "2022-06-09T18:29:55.235Z"
   },
   {
    "duration": 17,
    "start_time": "2022-06-09T18:30:31.625Z"
   },
   {
    "duration": 28,
    "start_time": "2022-06-09T18:30:57.738Z"
   },
   {
    "duration": 29,
    "start_time": "2022-06-09T18:43:45.990Z"
   },
   {
    "duration": 25,
    "start_time": "2022-06-09T19:00:15.021Z"
   },
   {
    "duration": 14,
    "start_time": "2022-06-09T19:07:03.015Z"
   },
   {
    "duration": 12,
    "start_time": "2022-06-09T19:07:09.544Z"
   },
   {
    "duration": 19,
    "start_time": "2022-06-09T19:07:51.727Z"
   },
   {
    "duration": 6,
    "start_time": "2022-06-09T19:08:19.139Z"
   },
   {
    "duration": 5,
    "start_time": "2022-06-09T19:08:32.220Z"
   },
   {
    "duration": 10,
    "start_time": "2022-06-09T19:09:01.595Z"
   },
   {
    "duration": 8,
    "start_time": "2022-06-09T19:09:03.988Z"
   },
   {
    "duration": 18,
    "start_time": "2022-06-09T19:09:06.201Z"
   },
   {
    "duration": 19,
    "start_time": "2022-06-09T19:09:40.956Z"
   },
   {
    "duration": 2,
    "start_time": "2022-06-09T20:06:28.987Z"
   },
   {
    "duration": 3,
    "start_time": "2022-06-09T20:11:31.387Z"
   },
   {
    "duration": 14,
    "start_time": "2022-06-09T20:11:32.173Z"
   },
   {
    "duration": 1783,
    "start_time": "2022-06-11T07:28:50.714Z"
   },
   {
    "duration": 1728,
    "start_time": "2022-06-11T07:32:33.655Z"
   },
   {
    "duration": 88,
    "start_time": "2022-06-11T07:32:35.386Z"
   },
   {
    "duration": 14,
    "start_time": "2022-06-11T07:32:35.475Z"
   },
   {
    "duration": 17,
    "start_time": "2022-06-11T07:32:35.491Z"
   },
   {
    "duration": 7,
    "start_time": "2022-06-11T07:32:35.510Z"
   },
   {
    "duration": 15,
    "start_time": "2022-06-11T07:32:35.519Z"
   },
   {
    "duration": 7,
    "start_time": "2022-06-11T07:32:35.535Z"
   },
   {
    "duration": 5,
    "start_time": "2022-06-11T07:32:35.544Z"
   },
   {
    "duration": 6,
    "start_time": "2022-06-11T07:32:35.550Z"
   },
   {
    "duration": 6,
    "start_time": "2022-06-11T07:32:35.558Z"
   },
   {
    "duration": 8,
    "start_time": "2022-06-11T07:32:35.565Z"
   },
   {
    "duration": 13,
    "start_time": "2022-06-11T07:32:35.577Z"
   },
   {
    "duration": 8,
    "start_time": "2022-06-11T07:32:35.591Z"
   },
   {
    "duration": 8,
    "start_time": "2022-06-11T07:32:35.601Z"
   },
   {
    "duration": 10,
    "start_time": "2022-06-11T07:32:35.611Z"
   },
   {
    "duration": 7,
    "start_time": "2022-06-11T07:32:35.622Z"
   },
   {
    "duration": 108,
    "start_time": "2022-06-11T07:32:35.630Z"
   },
   {
    "duration": 98,
    "start_time": "2022-06-11T07:32:35.739Z"
   },
   {
    "duration": 8,
    "start_time": "2022-06-11T07:32:35.838Z"
   },
   {
    "duration": 6,
    "start_time": "2022-06-11T07:32:35.847Z"
   },
   {
    "duration": 113,
    "start_time": "2022-06-11T07:32:35.855Z"
   },
   {
    "duration": 7,
    "start_time": "2022-06-11T07:32:35.977Z"
   },
   {
    "duration": 8,
    "start_time": "2022-06-11T07:32:35.986Z"
   },
   {
    "duration": 117,
    "start_time": "2022-06-11T07:32:35.996Z"
   },
   {
    "duration": 8,
    "start_time": "2022-06-11T07:32:36.115Z"
   },
   {
    "duration": 7,
    "start_time": "2022-06-11T07:32:36.124Z"
   },
   {
    "duration": 107,
    "start_time": "2022-06-11T07:32:36.132Z"
   },
   {
    "duration": 6,
    "start_time": "2022-06-11T07:32:36.242Z"
   },
   {
    "duration": 6,
    "start_time": "2022-06-11T07:32:36.249Z"
   },
   {
    "duration": 90,
    "start_time": "2022-06-11T07:32:36.256Z"
   },
   {
    "duration": 8,
    "start_time": "2022-06-11T07:32:36.347Z"
   },
   {
    "duration": 21,
    "start_time": "2022-06-11T07:32:36.357Z"
   },
   {
    "duration": 14,
    "start_time": "2022-06-11T07:32:36.380Z"
   },
   {
    "duration": 20,
    "start_time": "2022-06-11T07:32:36.395Z"
   },
   {
    "duration": 4,
    "start_time": "2022-06-11T07:32:36.417Z"
   },
   {
    "duration": 6,
    "start_time": "2022-06-11T07:32:36.423Z"
   },
   {
    "duration": 7,
    "start_time": "2022-06-11T07:32:36.430Z"
   },
   {
    "duration": 8,
    "start_time": "2022-06-11T07:32:36.438Z"
   },
   {
    "duration": 8,
    "start_time": "2022-06-11T07:32:36.448Z"
   },
   {
    "duration": 8,
    "start_time": "2022-06-11T07:32:36.458Z"
   },
   {
    "duration": 9,
    "start_time": "2022-06-11T07:32:36.468Z"
   },
   {
    "duration": 11,
    "start_time": "2022-06-11T07:32:36.479Z"
   },
   {
    "duration": 13,
    "start_time": "2022-06-11T07:32:36.492Z"
   },
   {
    "duration": 5,
    "start_time": "2022-06-11T07:32:36.507Z"
   },
   {
    "duration": 6,
    "start_time": "2022-06-11T07:32:36.513Z"
   },
   {
    "duration": 8,
    "start_time": "2022-06-11T07:32:36.521Z"
   },
   {
    "duration": 4,
    "start_time": "2022-06-11T07:32:36.530Z"
   },
   {
    "duration": 132,
    "start_time": "2022-06-11T07:32:36.535Z"
   },
   {
    "duration": 0,
    "start_time": "2022-06-11T07:32:36.668Z"
   },
   {
    "duration": 0,
    "start_time": "2022-06-11T07:32:36.669Z"
   },
   {
    "duration": 56,
    "start_time": "2022-06-11T07:33:28.845Z"
   },
   {
    "duration": 3,
    "start_time": "2022-06-11T07:33:37.455Z"
   },
   {
    "duration": 10,
    "start_time": "2022-06-11T07:33:38.364Z"
   },
   {
    "duration": 16,
    "start_time": "2022-06-11T07:33:56.948Z"
   },
   {
    "duration": 3,
    "start_time": "2022-06-11T07:35:33.786Z"
   },
   {
    "duration": 16,
    "start_time": "2022-06-11T07:35:34.552Z"
   },
   {
    "duration": 4,
    "start_time": "2022-06-11T07:35:37.594Z"
   },
   {
    "duration": 8,
    "start_time": "2022-06-11T07:38:10.781Z"
   },
   {
    "duration": 5,
    "start_time": "2022-06-11T07:38:11.382Z"
   },
   {
    "duration": 82,
    "start_time": "2022-06-11T10:10:24.565Z"
   },
   {
    "duration": 2329,
    "start_time": "2022-06-11T10:10:30.433Z"
   },
   {
    "duration": 88,
    "start_time": "2022-06-11T10:10:32.764Z"
   },
   {
    "duration": 13,
    "start_time": "2022-06-11T10:10:32.854Z"
   },
   {
    "duration": 54,
    "start_time": "2022-06-11T10:10:32.869Z"
   },
   {
    "duration": 16,
    "start_time": "2022-06-11T10:10:32.925Z"
   },
   {
    "duration": 30,
    "start_time": "2022-06-11T10:10:32.943Z"
   },
   {
    "duration": 14,
    "start_time": "2022-06-11T10:10:32.975Z"
   },
   {
    "duration": 43,
    "start_time": "2022-06-11T10:10:32.991Z"
   },
   {
    "duration": 22,
    "start_time": "2022-06-11T10:10:33.035Z"
   },
   {
    "duration": 13,
    "start_time": "2022-06-11T10:10:33.059Z"
   },
   {
    "duration": 10,
    "start_time": "2022-06-11T10:10:33.074Z"
   },
   {
    "duration": 55,
    "start_time": "2022-06-11T10:10:33.086Z"
   },
   {
    "duration": 28,
    "start_time": "2022-06-11T10:10:33.142Z"
   },
   {
    "duration": 49,
    "start_time": "2022-06-11T10:10:33.173Z"
   },
   {
    "duration": 38,
    "start_time": "2022-06-11T10:10:33.224Z"
   },
   {
    "duration": 33,
    "start_time": "2022-06-11T10:10:33.264Z"
   },
   {
    "duration": 144,
    "start_time": "2022-06-11T10:10:33.301Z"
   },
   {
    "duration": 104,
    "start_time": "2022-06-11T10:10:33.447Z"
   },
   {
    "duration": 8,
    "start_time": "2022-06-11T10:10:33.553Z"
   },
   {
    "duration": 41,
    "start_time": "2022-06-11T10:10:33.562Z"
   },
   {
    "duration": 153,
    "start_time": "2022-06-11T10:10:33.604Z"
   },
   {
    "duration": 9,
    "start_time": "2022-06-11T10:10:33.759Z"
   },
   {
    "duration": 16,
    "start_time": "2022-06-11T10:10:33.769Z"
   },
   {
    "duration": 138,
    "start_time": "2022-06-11T10:10:33.786Z"
   },
   {
    "duration": 10,
    "start_time": "2022-06-11T10:10:33.925Z"
   },
   {
    "duration": 6,
    "start_time": "2022-06-11T10:10:33.936Z"
   },
   {
    "duration": 134,
    "start_time": "2022-06-11T10:10:33.944Z"
   },
   {
    "duration": 24,
    "start_time": "2022-06-11T10:10:34.080Z"
   },
   {
    "duration": 28,
    "start_time": "2022-06-11T10:10:34.106Z"
   },
   {
    "duration": 107,
    "start_time": "2022-06-11T10:10:34.136Z"
   },
   {
    "duration": 9,
    "start_time": "2022-06-11T10:10:34.245Z"
   },
   {
    "duration": 7,
    "start_time": "2022-06-11T10:10:34.256Z"
   },
   {
    "duration": 6,
    "start_time": "2022-06-11T10:10:34.265Z"
   },
   {
    "duration": 45,
    "start_time": "2022-06-11T10:10:34.272Z"
   },
   {
    "duration": 6,
    "start_time": "2022-06-11T10:10:34.324Z"
   },
   {
    "duration": 6,
    "start_time": "2022-06-11T10:10:34.332Z"
   },
   {
    "duration": 8,
    "start_time": "2022-06-11T10:10:34.340Z"
   },
   {
    "duration": 9,
    "start_time": "2022-06-11T10:10:34.350Z"
   },
   {
    "duration": 12,
    "start_time": "2022-06-11T10:10:34.361Z"
   },
   {
    "duration": 7,
    "start_time": "2022-06-11T10:10:34.374Z"
   },
   {
    "duration": 7,
    "start_time": "2022-06-11T10:10:34.386Z"
   },
   {
    "duration": 34,
    "start_time": "2022-06-11T10:10:34.396Z"
   },
   {
    "duration": 6,
    "start_time": "2022-06-11T10:10:34.432Z"
   },
   {
    "duration": 5,
    "start_time": "2022-06-11T10:10:34.439Z"
   },
   {
    "duration": 6,
    "start_time": "2022-06-11T10:10:34.446Z"
   },
   {
    "duration": 8,
    "start_time": "2022-06-11T10:10:34.454Z"
   },
   {
    "duration": 5,
    "start_time": "2022-06-11T10:10:34.464Z"
   },
   {
    "duration": 7,
    "start_time": "2022-06-11T10:10:34.470Z"
   },
   {
    "duration": 8,
    "start_time": "2022-06-11T10:10:34.479Z"
   },
   {
    "duration": 36,
    "start_time": "2022-06-11T10:10:34.489Z"
   },
   {
    "duration": 18,
    "start_time": "2022-06-11T10:10:34.527Z"
   },
   {
    "duration": 4,
    "start_time": "2022-06-11T10:10:49.923Z"
   },
   {
    "duration": 16,
    "start_time": "2022-06-11T10:11:00.644Z"
   },
   {
    "duration": 19,
    "start_time": "2022-06-11T10:11:52.268Z"
   },
   {
    "duration": 4,
    "start_time": "2022-06-11T10:12:12.950Z"
   },
   {
    "duration": 123,
    "start_time": "2022-06-11T10:14:55.461Z"
   },
   {
    "duration": 4,
    "start_time": "2022-06-11T10:17:11.937Z"
   },
   {
    "duration": 4,
    "start_time": "2022-06-11T10:17:59.276Z"
   },
   {
    "duration": 79,
    "start_time": "2022-06-11T10:17:59.288Z"
   },
   {
    "duration": 13,
    "start_time": "2022-06-11T10:17:59.369Z"
   },
   {
    "duration": 6,
    "start_time": "2022-06-11T10:17:59.384Z"
   },
   {
    "duration": 39,
    "start_time": "2022-06-11T10:17:59.392Z"
   },
   {
    "duration": 10,
    "start_time": "2022-06-11T10:17:59.433Z"
   },
   {
    "duration": 8,
    "start_time": "2022-06-11T10:17:59.444Z"
   },
   {
    "duration": 7,
    "start_time": "2022-06-11T10:17:59.453Z"
   },
   {
    "duration": 7,
    "start_time": "2022-06-11T10:17:59.462Z"
   },
   {
    "duration": 7,
    "start_time": "2022-06-11T10:17:59.471Z"
   },
   {
    "duration": 6,
    "start_time": "2022-06-11T10:17:59.480Z"
   },
   {
    "duration": 5,
    "start_time": "2022-06-11T10:17:59.489Z"
   },
   {
    "duration": 15,
    "start_time": "2022-06-11T10:17:59.499Z"
   },
   {
    "duration": 21,
    "start_time": "2022-06-11T10:17:59.517Z"
   },
   {
    "duration": 6,
    "start_time": "2022-06-11T10:17:59.542Z"
   },
   {
    "duration": 6,
    "start_time": "2022-06-11T10:17:59.550Z"
   },
   {
    "duration": 124,
    "start_time": "2022-06-11T10:17:59.557Z"
   },
   {
    "duration": 114,
    "start_time": "2022-06-11T10:17:59.682Z"
   },
   {
    "duration": 22,
    "start_time": "2022-06-11T10:17:59.797Z"
   },
   {
    "duration": 13,
    "start_time": "2022-06-11T10:17:59.824Z"
   },
   {
    "duration": 116,
    "start_time": "2022-06-11T10:17:59.838Z"
   },
   {
    "duration": 8,
    "start_time": "2022-06-11T10:17:59.955Z"
   },
   {
    "duration": 12,
    "start_time": "2022-06-11T10:17:59.965Z"
   },
   {
    "duration": 158,
    "start_time": "2022-06-11T10:17:59.978Z"
   },
   {
    "duration": 10,
    "start_time": "2022-06-11T10:18:00.139Z"
   },
   {
    "duration": 24,
    "start_time": "2022-06-11T10:18:00.150Z"
   },
   {
    "duration": 135,
    "start_time": "2022-06-11T10:18:00.175Z"
   },
   {
    "duration": 10,
    "start_time": "2022-06-11T10:18:00.316Z"
   },
   {
    "duration": 10,
    "start_time": "2022-06-11T10:18:00.328Z"
   },
   {
    "duration": 217,
    "start_time": "2022-06-11T10:18:00.340Z"
   },
   {
    "duration": 8,
    "start_time": "2022-06-11T10:18:00.559Z"
   },
   {
    "duration": 14,
    "start_time": "2022-06-11T10:18:00.568Z"
   },
   {
    "duration": 18,
    "start_time": "2022-06-11T10:18:00.584Z"
   },
   {
    "duration": 49,
    "start_time": "2022-06-11T10:18:00.604Z"
   },
   {
    "duration": 11,
    "start_time": "2022-06-11T10:18:00.655Z"
   },
   {
    "duration": 13,
    "start_time": "2022-06-11T10:18:00.668Z"
   },
   {
    "duration": 7,
    "start_time": "2022-06-11T10:18:00.682Z"
   },
   {
    "duration": 45,
    "start_time": "2022-06-11T10:18:00.691Z"
   },
   {
    "duration": 19,
    "start_time": "2022-06-11T10:18:00.738Z"
   },
   {
    "duration": 12,
    "start_time": "2022-06-11T10:18:00.758Z"
   },
   {
    "duration": 21,
    "start_time": "2022-06-11T10:18:00.771Z"
   },
   {
    "duration": 35,
    "start_time": "2022-06-11T10:18:00.797Z"
   },
   {
    "duration": 10,
    "start_time": "2022-06-11T10:18:00.834Z"
   },
   {
    "duration": 9,
    "start_time": "2022-06-11T10:18:00.846Z"
   },
   {
    "duration": 18,
    "start_time": "2022-06-11T10:18:00.857Z"
   },
   {
    "duration": 6,
    "start_time": "2022-06-11T10:18:00.877Z"
   },
   {
    "duration": 44,
    "start_time": "2022-06-11T10:18:00.885Z"
   },
   {
    "duration": 14,
    "start_time": "2022-06-11T10:18:00.931Z"
   },
   {
    "duration": 32,
    "start_time": "2022-06-11T10:18:00.947Z"
   },
   {
    "duration": 11,
    "start_time": "2022-06-11T10:18:00.980Z"
   },
   {
    "duration": 41,
    "start_time": "2022-06-11T10:18:00.993Z"
   },
   {
    "duration": 22,
    "start_time": "2022-06-11T10:18:01.036Z"
   },
   {
    "duration": 45,
    "start_time": "2022-06-11T10:18:01.061Z"
   },
   {
    "duration": 36,
    "start_time": "2022-06-11T10:18:01.108Z"
   },
   {
    "duration": 0,
    "start_time": "2022-06-11T10:18:01.146Z"
   },
   {
    "duration": 0,
    "start_time": "2022-06-11T10:18:01.147Z"
   },
   {
    "duration": 5,
    "start_time": "2022-06-11T10:18:32.896Z"
   },
   {
    "duration": 70,
    "start_time": "2022-06-11T10:18:32.905Z"
   },
   {
    "duration": 10,
    "start_time": "2022-06-11T10:18:32.977Z"
   },
   {
    "duration": 16,
    "start_time": "2022-06-11T10:18:32.989Z"
   },
   {
    "duration": 31,
    "start_time": "2022-06-11T10:18:33.008Z"
   },
   {
    "duration": 9,
    "start_time": "2022-06-11T10:18:33.041Z"
   },
   {
    "duration": 10,
    "start_time": "2022-06-11T10:18:33.052Z"
   },
   {
    "duration": 8,
    "start_time": "2022-06-11T10:18:33.064Z"
   },
   {
    "duration": 7,
    "start_time": "2022-06-11T10:18:33.073Z"
   },
   {
    "duration": 7,
    "start_time": "2022-06-11T10:18:33.081Z"
   },
   {
    "duration": 38,
    "start_time": "2022-06-11T10:18:33.091Z"
   },
   {
    "duration": 7,
    "start_time": "2022-06-11T10:18:33.130Z"
   },
   {
    "duration": 13,
    "start_time": "2022-06-11T10:18:33.139Z"
   },
   {
    "duration": 8,
    "start_time": "2022-06-11T10:18:33.153Z"
   },
   {
    "duration": 8,
    "start_time": "2022-06-11T10:18:33.162Z"
   },
   {
    "duration": 5,
    "start_time": "2022-06-11T10:18:33.171Z"
   },
   {
    "duration": 109,
    "start_time": "2022-06-11T10:18:33.178Z"
   },
   {
    "duration": 122,
    "start_time": "2022-06-11T10:18:33.289Z"
   },
   {
    "duration": 18,
    "start_time": "2022-06-11T10:18:33.419Z"
   },
   {
    "duration": 11,
    "start_time": "2022-06-11T10:18:33.439Z"
   },
   {
    "duration": 140,
    "start_time": "2022-06-11T10:18:33.452Z"
   },
   {
    "duration": 24,
    "start_time": "2022-06-11T10:18:33.594Z"
   },
   {
    "duration": 14,
    "start_time": "2022-06-11T10:18:33.623Z"
   },
   {
    "duration": 127,
    "start_time": "2022-06-11T10:18:33.640Z"
   },
   {
    "duration": 9,
    "start_time": "2022-06-11T10:18:33.769Z"
   },
   {
    "duration": 15,
    "start_time": "2022-06-11T10:18:33.780Z"
   },
   {
    "duration": 172,
    "start_time": "2022-06-11T10:18:33.797Z"
   },
   {
    "duration": 11,
    "start_time": "2022-06-11T10:18:33.972Z"
   },
   {
    "duration": 41,
    "start_time": "2022-06-11T10:18:33.998Z"
   },
   {
    "duration": 125,
    "start_time": "2022-06-11T10:18:34.041Z"
   },
   {
    "duration": 10,
    "start_time": "2022-06-11T10:18:34.168Z"
   },
   {
    "duration": 18,
    "start_time": "2022-06-11T10:18:34.180Z"
   },
   {
    "duration": 33,
    "start_time": "2022-06-11T10:18:34.200Z"
   },
   {
    "duration": 19,
    "start_time": "2022-06-11T10:18:34.234Z"
   },
   {
    "duration": 14,
    "start_time": "2022-06-11T10:18:34.255Z"
   },
   {
    "duration": 6,
    "start_time": "2022-06-11T10:18:34.271Z"
   },
   {
    "duration": 9,
    "start_time": "2022-06-11T10:18:34.279Z"
   },
   {
    "duration": 39,
    "start_time": "2022-06-11T10:18:34.289Z"
   },
   {
    "duration": 34,
    "start_time": "2022-06-11T10:18:34.330Z"
   },
   {
    "duration": 12,
    "start_time": "2022-06-11T10:18:34.368Z"
   },
   {
    "duration": 15,
    "start_time": "2022-06-11T10:18:34.382Z"
   },
   {
    "duration": 52,
    "start_time": "2022-06-11T10:18:34.400Z"
   },
   {
    "duration": 35,
    "start_time": "2022-06-11T10:18:34.455Z"
   },
   {
    "duration": 55,
    "start_time": "2022-06-11T10:18:34.493Z"
   },
   {
    "duration": 15,
    "start_time": "2022-06-11T10:18:34.551Z"
   },
   {
    "duration": 15,
    "start_time": "2022-06-11T10:18:34.570Z"
   },
   {
    "duration": 34,
    "start_time": "2022-06-11T10:18:34.587Z"
   },
   {
    "duration": 24,
    "start_time": "2022-06-11T10:18:34.622Z"
   },
   {
    "duration": 15,
    "start_time": "2022-06-11T10:18:34.648Z"
   },
   {
    "duration": 11,
    "start_time": "2022-06-11T10:18:34.665Z"
   },
   {
    "duration": 7,
    "start_time": "2022-06-11T10:18:34.678Z"
   },
   {
    "duration": 21,
    "start_time": "2022-06-11T10:18:34.687Z"
   },
   {
    "duration": 44,
    "start_time": "2022-06-11T10:18:34.723Z"
   },
   {
    "duration": 10,
    "start_time": "2022-06-11T10:18:34.769Z"
   },
   {
    "duration": 3,
    "start_time": "2022-06-11T10:19:00.686Z"
   },
   {
    "duration": 91,
    "start_time": "2022-06-11T10:19:00.692Z"
   },
   {
    "duration": 20,
    "start_time": "2022-06-11T10:19:00.785Z"
   },
   {
    "duration": 28,
    "start_time": "2022-06-11T10:19:00.810Z"
   },
   {
    "duration": 10,
    "start_time": "2022-06-11T10:19:00.839Z"
   },
   {
    "duration": 12,
    "start_time": "2022-06-11T10:19:00.851Z"
   },
   {
    "duration": 11,
    "start_time": "2022-06-11T10:19:00.864Z"
   },
   {
    "duration": 14,
    "start_time": "2022-06-11T10:19:00.876Z"
   },
   {
    "duration": 35,
    "start_time": "2022-06-11T10:19:00.892Z"
   },
   {
    "duration": 6,
    "start_time": "2022-06-11T10:19:00.929Z"
   },
   {
    "duration": 17,
    "start_time": "2022-06-11T10:19:00.937Z"
   },
   {
    "duration": 10,
    "start_time": "2022-06-11T10:19:00.956Z"
   },
   {
    "duration": 21,
    "start_time": "2022-06-11T10:19:00.967Z"
   },
   {
    "duration": 44,
    "start_time": "2022-06-11T10:19:00.990Z"
   },
   {
    "duration": 26,
    "start_time": "2022-06-11T10:19:01.036Z"
   },
   {
    "duration": 15,
    "start_time": "2022-06-11T10:19:01.064Z"
   },
   {
    "duration": 116,
    "start_time": "2022-06-11T10:19:01.081Z"
   },
   {
    "duration": 123,
    "start_time": "2022-06-11T10:19:01.204Z"
   },
   {
    "duration": 9,
    "start_time": "2022-06-11T10:19:01.332Z"
   },
   {
    "duration": 15,
    "start_time": "2022-06-11T10:19:01.343Z"
   },
   {
    "duration": 131,
    "start_time": "2022-06-11T10:19:01.360Z"
   },
   {
    "duration": 19,
    "start_time": "2022-06-11T10:19:01.493Z"
   },
   {
    "duration": 27,
    "start_time": "2022-06-11T10:19:01.516Z"
   },
   {
    "duration": 140,
    "start_time": "2022-06-11T10:19:01.546Z"
   },
   {
    "duration": 11,
    "start_time": "2022-06-11T10:19:01.688Z"
   },
   {
    "duration": 30,
    "start_time": "2022-06-11T10:19:01.708Z"
   },
   {
    "duration": 120,
    "start_time": "2022-06-11T10:19:01.740Z"
   },
   {
    "duration": 9,
    "start_time": "2022-06-11T10:19:01.862Z"
   },
   {
    "duration": 16,
    "start_time": "2022-06-11T10:19:01.873Z"
   },
   {
    "duration": 136,
    "start_time": "2022-06-11T10:19:01.897Z"
   },
   {
    "duration": 9,
    "start_time": "2022-06-11T10:19:02.035Z"
   },
   {
    "duration": 15,
    "start_time": "2022-06-11T10:19:02.046Z"
   },
   {
    "duration": 23,
    "start_time": "2022-06-11T10:19:02.063Z"
   },
   {
    "duration": 51,
    "start_time": "2022-06-11T10:19:02.088Z"
   },
   {
    "duration": 14,
    "start_time": "2022-06-11T10:19:02.141Z"
   },
   {
    "duration": 25,
    "start_time": "2022-06-11T10:19:02.157Z"
   },
   {
    "duration": 54,
    "start_time": "2022-06-11T10:19:02.184Z"
   },
   {
    "duration": 11,
    "start_time": "2022-06-11T10:19:02.240Z"
   },
   {
    "duration": 34,
    "start_time": "2022-06-11T10:19:02.253Z"
   },
   {
    "duration": 45,
    "start_time": "2022-06-11T10:19:02.289Z"
   },
   {
    "duration": 25,
    "start_time": "2022-06-11T10:19:02.336Z"
   },
   {
    "duration": 10,
    "start_time": "2022-06-11T10:19:02.363Z"
   },
   {
    "duration": 7,
    "start_time": "2022-06-11T10:19:02.376Z"
   },
   {
    "duration": 36,
    "start_time": "2022-06-11T10:19:02.385Z"
   },
   {
    "duration": 6,
    "start_time": "2022-06-11T10:19:02.423Z"
   },
   {
    "duration": 11,
    "start_time": "2022-06-11T10:19:02.431Z"
   },
   {
    "duration": 8,
    "start_time": "2022-06-11T10:19:02.444Z"
   },
   {
    "duration": 8,
    "start_time": "2022-06-11T10:19:02.453Z"
   },
   {
    "duration": 12,
    "start_time": "2022-06-11T10:19:02.462Z"
   },
   {
    "duration": 7,
    "start_time": "2022-06-11T10:19:02.476Z"
   },
   {
    "duration": 7,
    "start_time": "2022-06-11T10:19:02.484Z"
   },
   {
    "duration": 47,
    "start_time": "2022-06-11T10:19:02.493Z"
   },
   {
    "duration": 5,
    "start_time": "2022-06-11T10:19:02.542Z"
   },
   {
    "duration": 1951,
    "start_time": "2022-06-11T10:19:50.828Z"
   },
   {
    "duration": 161,
    "start_time": "2022-06-11T10:19:52.781Z"
   },
   {
    "duration": 12,
    "start_time": "2022-06-11T10:19:52.944Z"
   },
   {
    "duration": 8,
    "start_time": "2022-06-11T10:19:52.957Z"
   },
   {
    "duration": 12,
    "start_time": "2022-06-11T10:19:52.967Z"
   },
   {
    "duration": 9,
    "start_time": "2022-06-11T10:19:52.981Z"
   },
   {
    "duration": 40,
    "start_time": "2022-06-11T10:19:52.992Z"
   },
   {
    "duration": 8,
    "start_time": "2022-06-11T10:19:53.034Z"
   },
   {
    "duration": 11,
    "start_time": "2022-06-11T10:19:53.043Z"
   },
   {
    "duration": 16,
    "start_time": "2022-06-11T10:19:53.056Z"
   },
   {
    "duration": 9,
    "start_time": "2022-06-11T10:19:53.074Z"
   },
   {
    "duration": 8,
    "start_time": "2022-06-11T10:19:53.085Z"
   },
   {
    "duration": 39,
    "start_time": "2022-06-11T10:19:53.094Z"
   },
   {
    "duration": 4,
    "start_time": "2022-06-11T10:19:53.137Z"
   },
   {
    "duration": 8,
    "start_time": "2022-06-11T10:19:53.143Z"
   },
   {
    "duration": 7,
    "start_time": "2022-06-11T10:19:53.152Z"
   },
   {
    "duration": 127,
    "start_time": "2022-06-11T10:19:53.160Z"
   },
   {
    "duration": 117,
    "start_time": "2022-06-11T10:19:53.289Z"
   },
   {
    "duration": 17,
    "start_time": "2022-06-11T10:19:53.415Z"
   },
   {
    "duration": 7,
    "start_time": "2022-06-11T10:19:53.433Z"
   },
   {
    "duration": 118,
    "start_time": "2022-06-11T10:19:53.442Z"
   },
   {
    "duration": 8,
    "start_time": "2022-06-11T10:19:53.561Z"
   },
   {
    "duration": 9,
    "start_time": "2022-06-11T10:19:53.571Z"
   },
   {
    "duration": 144,
    "start_time": "2022-06-11T10:19:53.581Z"
   },
   {
    "duration": 9,
    "start_time": "2022-06-11T10:19:53.728Z"
   },
   {
    "duration": 10,
    "start_time": "2022-06-11T10:19:53.738Z"
   },
   {
    "duration": 118,
    "start_time": "2022-06-11T10:19:53.749Z"
   },
   {
    "duration": 8,
    "start_time": "2022-06-11T10:19:53.869Z"
   },
   {
    "duration": 10,
    "start_time": "2022-06-11T10:19:53.879Z"
   },
   {
    "duration": 135,
    "start_time": "2022-06-11T10:19:53.895Z"
   },
   {
    "duration": 9,
    "start_time": "2022-06-11T10:19:54.032Z"
   },
   {
    "duration": 11,
    "start_time": "2022-06-11T10:19:54.042Z"
   },
   {
    "duration": 22,
    "start_time": "2022-06-11T10:19:54.055Z"
   },
   {
    "duration": 65,
    "start_time": "2022-06-11T10:19:54.079Z"
   },
   {
    "duration": 8,
    "start_time": "2022-06-11T10:19:54.146Z"
   },
   {
    "duration": 6,
    "start_time": "2022-06-11T10:19:54.155Z"
   },
   {
    "duration": 8,
    "start_time": "2022-06-11T10:19:54.163Z"
   },
   {
    "duration": 5,
    "start_time": "2022-06-11T10:19:54.172Z"
   },
   {
    "duration": 9,
    "start_time": "2022-06-11T10:19:54.179Z"
   },
   {
    "duration": 12,
    "start_time": "2022-06-11T10:19:54.189Z"
   },
   {
    "duration": 28,
    "start_time": "2022-06-11T10:19:54.210Z"
   },
   {
    "duration": 7,
    "start_time": "2022-06-11T10:19:54.240Z"
   },
   {
    "duration": 7,
    "start_time": "2022-06-11T10:19:54.249Z"
   },
   {
    "duration": 5,
    "start_time": "2022-06-11T10:19:54.258Z"
   },
   {
    "duration": 8,
    "start_time": "2022-06-11T10:19:54.265Z"
   },
   {
    "duration": 6,
    "start_time": "2022-06-11T10:19:54.274Z"
   },
   {
    "duration": 7,
    "start_time": "2022-06-11T10:19:54.282Z"
   },
   {
    "duration": 27,
    "start_time": "2022-06-11T10:19:54.290Z"
   },
   {
    "duration": 10,
    "start_time": "2022-06-11T10:19:54.322Z"
   },
   {
    "duration": 6,
    "start_time": "2022-06-11T10:19:54.333Z"
   },
   {
    "duration": 13,
    "start_time": "2022-06-11T10:19:54.340Z"
   },
   {
    "duration": 31,
    "start_time": "2022-06-11T10:19:54.355Z"
   },
   {
    "duration": 9,
    "start_time": "2022-06-11T10:19:54.387Z"
   },
   {
    "duration": 17,
    "start_time": "2022-06-11T10:20:32.235Z"
   },
   {
    "duration": 7,
    "start_time": "2022-06-11T10:20:34.990Z"
   },
   {
    "duration": 3,
    "start_time": "2022-06-11T10:27:58.556Z"
   },
   {
    "duration": 8,
    "start_time": "2022-06-11T10:29:26.991Z"
   },
   {
    "duration": 3,
    "start_time": "2022-06-11T10:30:07.944Z"
   },
   {
    "duration": 3,
    "start_time": "2022-06-11T10:30:13.789Z"
   },
   {
    "duration": 4,
    "start_time": "2022-06-11T12:12:54.121Z"
   },
   {
    "duration": 58,
    "start_time": "2022-06-11T12:19:20.370Z"
   },
   {
    "duration": 62,
    "start_time": "2022-06-11T12:20:58.868Z"
   },
   {
    "duration": 148,
    "start_time": "2022-06-11T12:22:42.025Z"
   },
   {
    "duration": 5,
    "start_time": "2022-06-11T12:22:52.231Z"
   },
   {
    "duration": 41,
    "start_time": "2022-06-11T12:22:59.574Z"
   },
   {
    "duration": 119,
    "start_time": "2022-06-11T12:30:13.087Z"
   },
   {
    "duration": 27,
    "start_time": "2022-06-11T12:31:05.782Z"
   },
   {
    "duration": 41,
    "start_time": "2022-06-11T12:31:35.383Z"
   },
   {
    "duration": 12,
    "start_time": "2022-06-11T12:33:51.149Z"
   },
   {
    "duration": 11,
    "start_time": "2022-06-11T12:33:59.622Z"
   },
   {
    "duration": 10,
    "start_time": "2022-06-11T12:34:05.493Z"
   },
   {
    "duration": 134,
    "start_time": "2022-06-11T12:34:05.512Z"
   },
   {
    "duration": 12,
    "start_time": "2022-06-11T12:34:05.649Z"
   },
   {
    "duration": 10,
    "start_time": "2022-06-11T12:34:05.663Z"
   },
   {
    "duration": 10,
    "start_time": "2022-06-11T12:34:05.675Z"
   },
   {
    "duration": 27,
    "start_time": "2022-06-11T12:34:05.687Z"
   },
   {
    "duration": 26,
    "start_time": "2022-06-11T12:34:05.716Z"
   },
   {
    "duration": 12,
    "start_time": "2022-06-11T12:34:05.744Z"
   },
   {
    "duration": 12,
    "start_time": "2022-06-11T12:34:05.758Z"
   },
   {
    "duration": 17,
    "start_time": "2022-06-11T12:34:05.771Z"
   },
   {
    "duration": 39,
    "start_time": "2022-06-11T12:34:05.792Z"
   },
   {
    "duration": 10,
    "start_time": "2022-06-11T12:34:05.833Z"
   },
   {
    "duration": 13,
    "start_time": "2022-06-11T12:34:05.845Z"
   },
   {
    "duration": 12,
    "start_time": "2022-06-11T12:34:05.859Z"
   },
   {
    "duration": 19,
    "start_time": "2022-06-11T12:34:05.872Z"
   },
   {
    "duration": 48,
    "start_time": "2022-06-11T12:34:05.892Z"
   },
   {
    "duration": 118,
    "start_time": "2022-06-11T12:34:05.942Z"
   },
   {
    "duration": 165,
    "start_time": "2022-06-11T12:34:06.062Z"
   },
   {
    "duration": 10,
    "start_time": "2022-06-11T12:34:06.232Z"
   },
   {
    "duration": 19,
    "start_time": "2022-06-11T12:34:06.243Z"
   },
   {
    "duration": 155,
    "start_time": "2022-06-11T12:34:06.264Z"
   },
   {
    "duration": 20,
    "start_time": "2022-06-11T12:34:06.421Z"
   },
   {
    "duration": 21,
    "start_time": "2022-06-11T12:34:06.444Z"
   },
   {
    "duration": 132,
    "start_time": "2022-06-11T12:34:06.467Z"
   },
   {
    "duration": 14,
    "start_time": "2022-06-11T12:34:06.601Z"
   },
   {
    "duration": 26,
    "start_time": "2022-06-11T12:34:06.617Z"
   },
   {
    "duration": 141,
    "start_time": "2022-06-11T12:34:06.645Z"
   },
   {
    "duration": 15,
    "start_time": "2022-06-11T12:34:06.788Z"
   },
   {
    "duration": 40,
    "start_time": "2022-06-11T12:34:06.807Z"
   },
   {
    "duration": 122,
    "start_time": "2022-06-11T12:34:06.849Z"
   },
   {
    "duration": 10,
    "start_time": "2022-06-11T12:34:06.973Z"
   },
   {
    "duration": 40,
    "start_time": "2022-06-11T12:34:06.985Z"
   },
   {
    "duration": 24,
    "start_time": "2022-06-11T12:34:07.031Z"
   },
   {
    "duration": 20,
    "start_time": "2022-06-11T12:34:07.057Z"
   },
   {
    "duration": 7,
    "start_time": "2022-06-11T12:34:07.079Z"
   },
   {
    "duration": 32,
    "start_time": "2022-06-11T12:34:07.088Z"
   },
   {
    "duration": 27,
    "start_time": "2022-06-11T12:34:07.122Z"
   },
   {
    "duration": 10,
    "start_time": "2022-06-11T12:34:07.151Z"
   },
   {
    "duration": 21,
    "start_time": "2022-06-11T12:34:07.163Z"
   },
   {
    "duration": 15,
    "start_time": "2022-06-11T12:34:07.186Z"
   },
   {
    "duration": 5,
    "start_time": "2022-06-11T12:34:10.190Z"
   },
   {
    "duration": 11,
    "start_time": "2022-06-11T12:34:15.136Z"
   },
   {
    "duration": 3,
    "start_time": "2022-06-11T12:34:19.889Z"
   },
   {
    "duration": 85,
    "start_time": "2022-06-11T12:34:19.896Z"
   },
   {
    "duration": 11,
    "start_time": "2022-06-11T12:34:19.984Z"
   },
   {
    "duration": 53,
    "start_time": "2022-06-11T12:34:19.996Z"
   },
   {
    "duration": 33,
    "start_time": "2022-06-11T12:34:20.052Z"
   },
   {
    "duration": 50,
    "start_time": "2022-06-11T12:34:20.088Z"
   },
   {
    "duration": 19,
    "start_time": "2022-06-11T12:34:20.140Z"
   },
   {
    "duration": 7,
    "start_time": "2022-06-11T12:34:20.161Z"
   },
   {
    "duration": 9,
    "start_time": "2022-06-11T12:34:20.170Z"
   },
   {
    "duration": 6,
    "start_time": "2022-06-11T12:34:20.181Z"
   },
   {
    "duration": 43,
    "start_time": "2022-06-11T12:34:20.190Z"
   },
   {
    "duration": 17,
    "start_time": "2022-06-11T12:34:20.235Z"
   },
   {
    "duration": 8,
    "start_time": "2022-06-11T12:34:20.254Z"
   },
   {
    "duration": 7,
    "start_time": "2022-06-11T12:34:20.263Z"
   },
   {
    "duration": 8,
    "start_time": "2022-06-11T12:34:20.271Z"
   },
   {
    "duration": 7,
    "start_time": "2022-06-11T12:34:20.281Z"
   },
   {
    "duration": 135,
    "start_time": "2022-06-11T12:34:20.290Z"
   },
   {
    "duration": 239,
    "start_time": "2022-06-11T12:34:20.427Z"
   },
   {
    "duration": 10,
    "start_time": "2022-06-11T12:34:20.668Z"
   },
   {
    "duration": 43,
    "start_time": "2022-06-11T12:34:20.680Z"
   },
   {
    "duration": 157,
    "start_time": "2022-06-11T12:34:20.725Z"
   },
   {
    "duration": 7,
    "start_time": "2022-06-11T12:34:20.884Z"
   },
   {
    "duration": 49,
    "start_time": "2022-06-11T12:34:20.893Z"
   },
   {
    "duration": 160,
    "start_time": "2022-06-11T12:34:20.945Z"
   },
   {
    "duration": 8,
    "start_time": "2022-06-11T12:34:21.107Z"
   },
   {
    "duration": 17,
    "start_time": "2022-06-11T12:34:21.129Z"
   },
   {
    "duration": 198,
    "start_time": "2022-06-11T12:34:21.149Z"
   },
   {
    "duration": 10,
    "start_time": "2022-06-11T12:34:21.353Z"
   },
   {
    "duration": 10,
    "start_time": "2022-06-11T12:34:21.400Z"
   },
   {
    "duration": 191,
    "start_time": "2022-06-11T12:34:21.412Z"
   },
   {
    "duration": 13,
    "start_time": "2022-06-11T12:34:21.606Z"
   },
   {
    "duration": 23,
    "start_time": "2022-06-11T12:34:21.621Z"
   },
   {
    "duration": 16,
    "start_time": "2022-06-11T12:34:21.646Z"
   },
   {
    "duration": 19,
    "start_time": "2022-06-11T12:34:21.664Z"
   },
   {
    "duration": 6,
    "start_time": "2022-06-11T12:34:21.685Z"
   },
   {
    "duration": 57,
    "start_time": "2022-06-11T12:34:21.692Z"
   },
   {
    "duration": 8,
    "start_time": "2022-06-11T12:34:21.751Z"
   },
   {
    "duration": 7,
    "start_time": "2022-06-11T12:34:21.761Z"
   },
   {
    "duration": 19,
    "start_time": "2022-06-11T12:34:21.770Z"
   },
   {
    "duration": 10,
    "start_time": "2022-06-11T12:34:21.791Z"
   },
   {
    "duration": 18,
    "start_time": "2022-06-11T12:34:23.754Z"
   },
   {
    "duration": 14,
    "start_time": "2022-06-11T12:34:39.335Z"
   },
   {
    "duration": 15,
    "start_time": "2022-06-11T12:34:49.042Z"
   },
   {
    "duration": 5,
    "start_time": "2022-06-11T12:34:59.184Z"
   },
   {
    "duration": 79,
    "start_time": "2022-06-11T12:34:59.203Z"
   },
   {
    "duration": 17,
    "start_time": "2022-06-11T12:34:59.284Z"
   },
   {
    "duration": 37,
    "start_time": "2022-06-11T12:34:59.303Z"
   },
   {
    "duration": 5,
    "start_time": "2022-06-11T12:34:59.342Z"
   },
   {
    "duration": 6,
    "start_time": "2022-06-11T12:34:59.349Z"
   },
   {
    "duration": 7,
    "start_time": "2022-06-11T12:34:59.356Z"
   },
   {
    "duration": 6,
    "start_time": "2022-06-11T12:34:59.364Z"
   },
   {
    "duration": 9,
    "start_time": "2022-06-11T12:34:59.372Z"
   },
   {
    "duration": 6,
    "start_time": "2022-06-11T12:34:59.383Z"
   },
   {
    "duration": 31,
    "start_time": "2022-06-11T12:34:59.390Z"
   },
   {
    "duration": 10,
    "start_time": "2022-06-11T12:34:59.424Z"
   },
   {
    "duration": 6,
    "start_time": "2022-06-11T12:34:59.436Z"
   },
   {
    "duration": 7,
    "start_time": "2022-06-11T12:34:59.444Z"
   },
   {
    "duration": 8,
    "start_time": "2022-06-11T12:34:59.453Z"
   },
   {
    "duration": 6,
    "start_time": "2022-06-11T12:34:59.463Z"
   },
   {
    "duration": 106,
    "start_time": "2022-06-11T12:34:59.470Z"
   },
   {
    "duration": 131,
    "start_time": "2022-06-11T12:34:59.578Z"
   },
   {
    "duration": 14,
    "start_time": "2022-06-11T12:34:59.716Z"
   },
   {
    "duration": 7,
    "start_time": "2022-06-11T12:34:59.732Z"
   },
   {
    "duration": 130,
    "start_time": "2022-06-11T12:34:59.741Z"
   },
   {
    "duration": 8,
    "start_time": "2022-06-11T12:34:59.873Z"
   },
   {
    "duration": 14,
    "start_time": "2022-06-11T12:34:59.893Z"
   },
   {
    "duration": 127,
    "start_time": "2022-06-11T12:34:59.919Z"
   },
   {
    "duration": 10,
    "start_time": "2022-06-11T12:35:00.048Z"
   },
   {
    "duration": 9,
    "start_time": "2022-06-11T12:35:00.060Z"
   },
   {
    "duration": 141,
    "start_time": "2022-06-11T12:35:00.071Z"
   },
   {
    "duration": 14,
    "start_time": "2022-06-11T12:35:00.213Z"
   },
   {
    "duration": 16,
    "start_time": "2022-06-11T12:35:00.232Z"
   },
   {
    "duration": 126,
    "start_time": "2022-06-11T12:35:00.250Z"
   },
   {
    "duration": 9,
    "start_time": "2022-06-11T12:35:00.377Z"
   },
   {
    "duration": 33,
    "start_time": "2022-06-11T12:35:00.388Z"
   },
   {
    "duration": 31,
    "start_time": "2022-06-11T12:35:00.423Z"
   },
   {
    "duration": 20,
    "start_time": "2022-06-11T12:35:00.456Z"
   },
   {
    "duration": 49,
    "start_time": "2022-06-11T12:35:00.478Z"
   },
   {
    "duration": 12,
    "start_time": "2022-06-11T12:35:00.529Z"
   },
   {
    "duration": 9,
    "start_time": "2022-06-11T12:35:00.542Z"
   },
   {
    "duration": 14,
    "start_time": "2022-06-11T12:35:00.552Z"
   },
   {
    "duration": 18,
    "start_time": "2022-06-11T12:35:00.568Z"
   },
   {
    "duration": 19,
    "start_time": "2022-06-11T12:35:00.588Z"
   },
   {
    "duration": 28,
    "start_time": "2022-06-11T12:35:00.609Z"
   },
   {
    "duration": 6,
    "start_time": "2022-06-11T12:35:00.639Z"
   },
   {
    "duration": 37,
    "start_time": "2022-06-11T12:37:29.310Z"
   },
   {
    "duration": 4,
    "start_time": "2022-06-11T12:38:10.434Z"
   },
   {
    "duration": 36,
    "start_time": "2022-06-11T12:38:21.547Z"
   },
   {
    "duration": 27,
    "start_time": "2022-06-11T12:40:45.710Z"
   },
   {
    "duration": 4,
    "start_time": "2022-06-11T12:41:24.883Z"
   },
   {
    "duration": 80,
    "start_time": "2022-06-11T12:41:24.890Z"
   },
   {
    "duration": 11,
    "start_time": "2022-06-11T12:41:24.972Z"
   },
   {
    "duration": 11,
    "start_time": "2022-06-11T12:41:24.984Z"
   },
   {
    "duration": 19,
    "start_time": "2022-06-11T12:41:24.999Z"
   },
   {
    "duration": 10,
    "start_time": "2022-06-11T12:41:25.019Z"
   },
   {
    "duration": 10,
    "start_time": "2022-06-11T12:41:25.031Z"
   },
   {
    "duration": 7,
    "start_time": "2022-06-11T12:41:25.043Z"
   },
   {
    "duration": 7,
    "start_time": "2022-06-11T12:41:25.052Z"
   },
   {
    "duration": 7,
    "start_time": "2022-06-11T12:41:25.061Z"
   },
   {
    "duration": 43,
    "start_time": "2022-06-11T12:41:25.070Z"
   },
   {
    "duration": 8,
    "start_time": "2022-06-11T12:41:25.114Z"
   },
   {
    "duration": 13,
    "start_time": "2022-06-11T12:41:25.124Z"
   },
   {
    "duration": 8,
    "start_time": "2022-06-11T12:41:25.138Z"
   },
   {
    "duration": 7,
    "start_time": "2022-06-11T12:41:25.147Z"
   },
   {
    "duration": 6,
    "start_time": "2022-06-11T12:41:25.156Z"
   },
   {
    "duration": 114,
    "start_time": "2022-06-11T12:41:25.163Z"
   },
   {
    "duration": 120,
    "start_time": "2022-06-11T12:41:25.279Z"
   },
   {
    "duration": 9,
    "start_time": "2022-06-11T12:41:25.406Z"
   },
   {
    "duration": 9,
    "start_time": "2022-06-11T12:41:25.417Z"
   },
   {
    "duration": 116,
    "start_time": "2022-06-11T12:41:25.427Z"
   },
   {
    "duration": 7,
    "start_time": "2022-06-11T12:41:25.545Z"
   },
   {
    "duration": 9,
    "start_time": "2022-06-11T12:41:25.554Z"
   },
   {
    "duration": 131,
    "start_time": "2022-06-11T12:41:25.564Z"
   },
   {
    "duration": 10,
    "start_time": "2022-06-11T12:41:25.702Z"
   },
   {
    "duration": 6,
    "start_time": "2022-06-11T12:41:25.714Z"
   },
   {
    "duration": 125,
    "start_time": "2022-06-11T12:41:25.722Z"
   },
   {
    "duration": 9,
    "start_time": "2022-06-11T12:41:25.849Z"
   },
   {
    "duration": 5,
    "start_time": "2022-06-11T12:41:25.862Z"
   },
   {
    "duration": 116,
    "start_time": "2022-06-11T12:41:25.869Z"
   },
   {
    "duration": 11,
    "start_time": "2022-06-11T12:41:25.996Z"
   },
   {
    "duration": 10,
    "start_time": "2022-06-11T12:41:26.013Z"
   },
   {
    "duration": 11,
    "start_time": "2022-06-11T12:41:26.025Z"
   },
   {
    "duration": 24,
    "start_time": "2022-06-11T12:41:26.038Z"
   },
   {
    "duration": 13,
    "start_time": "2022-06-11T12:41:26.064Z"
   },
   {
    "duration": 14,
    "start_time": "2022-06-11T12:41:26.079Z"
   },
   {
    "duration": 25,
    "start_time": "2022-06-11T12:41:26.095Z"
   },
   {
    "duration": 6,
    "start_time": "2022-06-11T12:41:26.122Z"
   },
   {
    "duration": 17,
    "start_time": "2022-06-11T12:41:26.129Z"
   },
   {
    "duration": 3,
    "start_time": "2022-06-11T12:41:26.148Z"
   },
   {
    "duration": 5,
    "start_time": "2022-06-11T12:41:26.153Z"
   },
   {
    "duration": 6,
    "start_time": "2022-06-11T12:41:26.159Z"
   },
   {
    "duration": 39,
    "start_time": "2022-06-11T12:41:26.167Z"
   },
   {
    "duration": 5,
    "start_time": "2022-06-11T12:49:48.534Z"
   },
   {
    "duration": 14,
    "start_time": "2022-06-11T12:50:45.031Z"
   },
   {
    "duration": 5,
    "start_time": "2022-06-11T12:53:18.541Z"
   },
   {
    "duration": 4,
    "start_time": "2022-06-11T12:53:21.512Z"
   },
   {
    "duration": 6,
    "start_time": "2022-06-11T12:53:29.191Z"
   },
   {
    "duration": 11,
    "start_time": "2022-06-11T12:53:37.853Z"
   },
   {
    "duration": 4,
    "start_time": "2022-06-11T12:53:51.972Z"
   },
   {
    "duration": 3,
    "start_time": "2022-06-11T12:53:54.389Z"
   },
   {
    "duration": 9,
    "start_time": "2022-06-11T12:54:01.290Z"
   },
   {
    "duration": 16,
    "start_time": "2022-06-11T12:54:30.321Z"
   },
   {
    "duration": 5,
    "start_time": "2022-06-11T12:54:38.856Z"
   },
   {
    "duration": 88,
    "start_time": "2022-06-11T12:54:38.865Z"
   },
   {
    "duration": 16,
    "start_time": "2022-06-11T12:54:38.955Z"
   },
   {
    "duration": 11,
    "start_time": "2022-06-11T12:54:38.973Z"
   },
   {
    "duration": 14,
    "start_time": "2022-06-11T12:54:38.986Z"
   },
   {
    "duration": 23,
    "start_time": "2022-06-11T12:54:39.004Z"
   },
   {
    "duration": 16,
    "start_time": "2022-06-11T12:54:39.031Z"
   },
   {
    "duration": 16,
    "start_time": "2022-06-11T12:54:39.050Z"
   },
   {
    "duration": 15,
    "start_time": "2022-06-11T12:54:39.069Z"
   },
   {
    "duration": 17,
    "start_time": "2022-06-11T12:54:39.086Z"
   },
   {
    "duration": 21,
    "start_time": "2022-06-11T12:54:39.108Z"
   },
   {
    "duration": 19,
    "start_time": "2022-06-11T12:54:39.132Z"
   },
   {
    "duration": 11,
    "start_time": "2022-06-11T12:54:39.153Z"
   },
   {
    "duration": 12,
    "start_time": "2022-06-11T12:54:39.166Z"
   },
   {
    "duration": 12,
    "start_time": "2022-06-11T12:54:39.180Z"
   },
   {
    "duration": 24,
    "start_time": "2022-06-11T12:54:39.194Z"
   },
   {
    "duration": 109,
    "start_time": "2022-06-11T12:54:39.221Z"
   },
   {
    "duration": 236,
    "start_time": "2022-06-11T12:54:39.332Z"
   },
   {
    "duration": 8,
    "start_time": "2022-06-11T12:54:39.570Z"
   },
   {
    "duration": 21,
    "start_time": "2022-06-11T12:54:39.580Z"
   },
   {
    "duration": 138,
    "start_time": "2022-06-11T12:54:39.603Z"
   },
   {
    "duration": 8,
    "start_time": "2022-06-11T12:54:39.744Z"
   },
   {
    "duration": 7,
    "start_time": "2022-06-11T12:54:39.754Z"
   },
   {
    "duration": 126,
    "start_time": "2022-06-11T12:54:39.762Z"
   },
   {
    "duration": 17,
    "start_time": "2022-06-11T12:54:39.894Z"
   },
   {
    "duration": 9,
    "start_time": "2022-06-11T12:54:39.912Z"
   },
   {
    "duration": 113,
    "start_time": "2022-06-11T12:54:39.923Z"
   },
   {
    "duration": 9,
    "start_time": "2022-06-11T12:54:40.038Z"
   },
   {
    "duration": 12,
    "start_time": "2022-06-11T12:54:40.051Z"
   },
   {
    "duration": 112,
    "start_time": "2022-06-11T12:54:40.065Z"
   },
   {
    "duration": 30,
    "start_time": "2022-06-11T12:54:40.179Z"
   },
   {
    "duration": 5,
    "start_time": "2022-06-11T12:54:40.212Z"
   },
   {
    "duration": 9,
    "start_time": "2022-06-11T12:54:40.219Z"
   },
   {
    "duration": 20,
    "start_time": "2022-06-11T12:54:40.229Z"
   },
   {
    "duration": 11,
    "start_time": "2022-06-11T12:54:40.251Z"
   },
   {
    "duration": 10,
    "start_time": "2022-06-11T12:54:40.263Z"
   },
   {
    "duration": 10,
    "start_time": "2022-06-11T12:54:40.274Z"
   },
   {
    "duration": 11,
    "start_time": "2022-06-11T12:54:40.286Z"
   },
   {
    "duration": 16,
    "start_time": "2022-06-11T12:54:40.298Z"
   },
   {
    "duration": 5,
    "start_time": "2022-06-11T12:54:40.316Z"
   },
   {
    "duration": 19,
    "start_time": "2022-06-11T12:54:40.322Z"
   },
   {
    "duration": 4,
    "start_time": "2022-06-11T12:54:40.343Z"
   },
   {
    "duration": 13,
    "start_time": "2022-06-11T12:54:40.349Z"
   },
   {
    "duration": 0,
    "start_time": "2022-06-11T12:54:40.363Z"
   },
   {
    "duration": 0,
    "start_time": "2022-06-11T12:54:40.365Z"
   },
   {
    "duration": 16,
    "start_time": "2022-06-11T12:54:51.897Z"
   },
   {
    "duration": 11,
    "start_time": "2022-06-11T12:55:07.831Z"
   },
   {
    "duration": 4,
    "start_time": "2022-06-11T12:55:14.289Z"
   },
   {
    "duration": 79,
    "start_time": "2022-06-11T12:55:14.296Z"
   },
   {
    "duration": 10,
    "start_time": "2022-06-11T12:55:14.377Z"
   },
   {
    "duration": 27,
    "start_time": "2022-06-11T12:55:14.389Z"
   },
   {
    "duration": 8,
    "start_time": "2022-06-11T12:55:14.418Z"
   },
   {
    "duration": 8,
    "start_time": "2022-06-11T12:55:14.428Z"
   },
   {
    "duration": 11,
    "start_time": "2022-06-11T12:55:14.437Z"
   },
   {
    "duration": 9,
    "start_time": "2022-06-11T12:55:14.450Z"
   },
   {
    "duration": 8,
    "start_time": "2022-06-11T12:55:14.461Z"
   },
   {
    "duration": 8,
    "start_time": "2022-06-11T12:55:14.471Z"
   },
   {
    "duration": 18,
    "start_time": "2022-06-11T12:55:14.481Z"
   },
   {
    "duration": 15,
    "start_time": "2022-06-11T12:55:14.500Z"
   },
   {
    "duration": 7,
    "start_time": "2022-06-11T12:55:14.517Z"
   },
   {
    "duration": 6,
    "start_time": "2022-06-11T12:55:14.525Z"
   },
   {
    "duration": 10,
    "start_time": "2022-06-11T12:55:14.533Z"
   },
   {
    "duration": 6,
    "start_time": "2022-06-11T12:55:14.545Z"
   },
   {
    "duration": 113,
    "start_time": "2022-06-11T12:55:14.553Z"
   },
   {
    "duration": 115,
    "start_time": "2022-06-11T12:55:14.669Z"
   },
   {
    "duration": 9,
    "start_time": "2022-06-11T12:55:14.794Z"
   },
   {
    "duration": 15,
    "start_time": "2022-06-11T12:55:14.805Z"
   },
   {
    "duration": 132,
    "start_time": "2022-06-11T12:55:14.822Z"
   },
   {
    "duration": 9,
    "start_time": "2022-06-11T12:55:14.956Z"
   },
   {
    "duration": 7,
    "start_time": "2022-06-11T12:55:14.967Z"
   },
   {
    "duration": 122,
    "start_time": "2022-06-11T12:55:14.994Z"
   },
   {
    "duration": 8,
    "start_time": "2022-06-11T12:55:15.118Z"
   },
   {
    "duration": 8,
    "start_time": "2022-06-11T12:55:15.127Z"
   },
   {
    "duration": 119,
    "start_time": "2022-06-11T12:55:15.137Z"
   },
   {
    "duration": 9,
    "start_time": "2022-06-11T12:55:15.257Z"
   },
   {
    "duration": 8,
    "start_time": "2022-06-11T12:55:15.267Z"
   },
   {
    "duration": 125,
    "start_time": "2022-06-11T12:55:15.276Z"
   },
   {
    "duration": 12,
    "start_time": "2022-06-11T12:55:15.402Z"
   },
   {
    "duration": 9,
    "start_time": "2022-06-11T12:55:15.416Z"
   },
   {
    "duration": 11,
    "start_time": "2022-06-11T12:55:15.427Z"
   },
   {
    "duration": 20,
    "start_time": "2022-06-11T12:55:15.439Z"
   },
   {
    "duration": 13,
    "start_time": "2022-06-11T12:55:15.461Z"
   },
   {
    "duration": 9,
    "start_time": "2022-06-11T12:55:15.476Z"
   },
   {
    "duration": 13,
    "start_time": "2022-06-11T12:55:15.487Z"
   },
   {
    "duration": 14,
    "start_time": "2022-06-11T12:55:15.502Z"
   },
   {
    "duration": 5,
    "start_time": "2022-06-11T12:55:15.518Z"
   },
   {
    "duration": 8,
    "start_time": "2022-06-11T12:55:15.524Z"
   },
   {
    "duration": 23,
    "start_time": "2022-06-11T12:55:15.534Z"
   },
   {
    "duration": 4,
    "start_time": "2022-06-11T12:55:15.560Z"
   },
   {
    "duration": 7,
    "start_time": "2022-06-11T12:55:15.565Z"
   },
   {
    "duration": 9,
    "start_time": "2022-06-11T12:55:15.574Z"
   },
   {
    "duration": 35,
    "start_time": "2022-06-11T12:55:15.584Z"
   },
   {
    "duration": 17,
    "start_time": "2022-06-11T12:55:28.712Z"
   },
   {
    "duration": 5,
    "start_time": "2022-06-11T12:56:51.034Z"
   },
   {
    "duration": 11,
    "start_time": "2022-06-11T12:57:08.706Z"
   },
   {
    "duration": 3,
    "start_time": "2022-06-11T12:57:31.386Z"
   },
   {
    "duration": 82,
    "start_time": "2022-06-11T12:57:31.392Z"
   },
   {
    "duration": 11,
    "start_time": "2022-06-11T12:57:31.475Z"
   },
   {
    "duration": 25,
    "start_time": "2022-06-11T12:57:31.488Z"
   },
   {
    "duration": 17,
    "start_time": "2022-06-11T12:57:31.515Z"
   },
   {
    "duration": 12,
    "start_time": "2022-06-11T12:57:31.535Z"
   },
   {
    "duration": 22,
    "start_time": "2022-06-11T12:57:31.548Z"
   },
   {
    "duration": 16,
    "start_time": "2022-06-11T12:57:31.572Z"
   },
   {
    "duration": 22,
    "start_time": "2022-06-11T12:57:31.590Z"
   },
   {
    "duration": 20,
    "start_time": "2022-06-11T12:57:31.613Z"
   },
   {
    "duration": 14,
    "start_time": "2022-06-11T12:57:31.635Z"
   },
   {
    "duration": 12,
    "start_time": "2022-06-11T12:57:31.650Z"
   },
   {
    "duration": 8,
    "start_time": "2022-06-11T12:57:31.664Z"
   },
   {
    "duration": 14,
    "start_time": "2022-06-11T12:57:31.675Z"
   },
   {
    "duration": 23,
    "start_time": "2022-06-11T12:57:31.691Z"
   },
   {
    "duration": 6,
    "start_time": "2022-06-11T12:57:31.716Z"
   },
   {
    "duration": 107,
    "start_time": "2022-06-11T12:57:31.724Z"
   },
   {
    "duration": 139,
    "start_time": "2022-06-11T12:57:31.833Z"
   },
   {
    "duration": 10,
    "start_time": "2022-06-11T12:57:31.974Z"
   },
   {
    "duration": 34,
    "start_time": "2022-06-11T12:57:31.986Z"
   },
   {
    "duration": 135,
    "start_time": "2022-06-11T12:57:32.021Z"
   },
   {
    "duration": 8,
    "start_time": "2022-06-11T12:57:32.158Z"
   },
   {
    "duration": 11,
    "start_time": "2022-06-11T12:57:32.167Z"
   },
   {
    "duration": 136,
    "start_time": "2022-06-11T12:57:32.179Z"
   },
   {
    "duration": 8,
    "start_time": "2022-06-11T12:57:32.316Z"
   },
   {
    "duration": 8,
    "start_time": "2022-06-11T12:57:32.325Z"
   },
   {
    "duration": 136,
    "start_time": "2022-06-11T12:57:32.335Z"
   },
   {
    "duration": 24,
    "start_time": "2022-06-11T12:57:32.473Z"
   },
   {
    "duration": 7,
    "start_time": "2022-06-11T12:57:32.499Z"
   },
   {
    "duration": 114,
    "start_time": "2022-06-11T12:57:32.508Z"
   },
   {
    "duration": 9,
    "start_time": "2022-06-11T12:57:32.624Z"
   },
   {
    "duration": 6,
    "start_time": "2022-06-11T12:57:32.635Z"
   },
   {
    "duration": 10,
    "start_time": "2022-06-11T12:57:32.643Z"
   },
   {
    "duration": 18,
    "start_time": "2022-06-11T12:57:32.654Z"
   },
   {
    "duration": 27,
    "start_time": "2022-06-11T12:57:32.673Z"
   },
   {
    "duration": 13,
    "start_time": "2022-06-11T12:57:32.704Z"
   },
   {
    "duration": 7,
    "start_time": "2022-06-11T12:57:32.718Z"
   },
   {
    "duration": 5,
    "start_time": "2022-06-11T12:57:32.726Z"
   },
   {
    "duration": 4,
    "start_time": "2022-06-11T12:57:32.733Z"
   },
   {
    "duration": 8,
    "start_time": "2022-06-11T12:57:32.739Z"
   },
   {
    "duration": 16,
    "start_time": "2022-06-11T12:57:32.750Z"
   },
   {
    "duration": 3,
    "start_time": "2022-06-11T12:57:32.767Z"
   },
   {
    "duration": 36,
    "start_time": "2022-06-11T12:57:32.772Z"
   },
   {
    "duration": 5,
    "start_time": "2022-06-11T12:57:32.810Z"
   },
   {
    "duration": 12,
    "start_time": "2022-06-11T12:57:37.326Z"
   },
   {
    "duration": 4,
    "start_time": "2022-06-11T12:58:21.587Z"
   },
   {
    "duration": 5,
    "start_time": "2022-06-11T12:59:04.038Z"
   },
   {
    "duration": 3,
    "start_time": "2022-06-11T12:59:09.324Z"
   },
   {
    "duration": 28,
    "start_time": "2022-06-11T12:59:10.138Z"
   },
   {
    "duration": 4,
    "start_time": "2022-06-11T12:59:37.888Z"
   },
   {
    "duration": 6,
    "start_time": "2022-06-11T12:59:43.708Z"
   },
   {
    "duration": 64,
    "start_time": "2022-06-11T12:59:43.716Z"
   },
   {
    "duration": 11,
    "start_time": "2022-06-11T12:59:43.782Z"
   },
   {
    "duration": 23,
    "start_time": "2022-06-11T12:59:43.797Z"
   },
   {
    "duration": 9,
    "start_time": "2022-06-11T12:59:43.823Z"
   },
   {
    "duration": 6,
    "start_time": "2022-06-11T12:59:43.834Z"
   },
   {
    "duration": 10,
    "start_time": "2022-06-11T12:59:43.842Z"
   },
   {
    "duration": 9,
    "start_time": "2022-06-11T12:59:43.854Z"
   },
   {
    "duration": 9,
    "start_time": "2022-06-11T12:59:43.864Z"
   },
   {
    "duration": 42,
    "start_time": "2022-06-11T12:59:43.875Z"
   },
   {
    "duration": 7,
    "start_time": "2022-06-11T12:59:43.919Z"
   },
   {
    "duration": 6,
    "start_time": "2022-06-11T12:59:43.928Z"
   },
   {
    "duration": 7,
    "start_time": "2022-06-11T12:59:43.935Z"
   },
   {
    "duration": 5,
    "start_time": "2022-06-11T12:59:43.945Z"
   },
   {
    "duration": 9,
    "start_time": "2022-06-11T12:59:43.952Z"
   },
   {
    "duration": 7,
    "start_time": "2022-06-11T12:59:43.963Z"
   },
   {
    "duration": 129,
    "start_time": "2022-06-11T12:59:43.972Z"
   },
   {
    "duration": 106,
    "start_time": "2022-06-11T12:59:44.109Z"
   },
   {
    "duration": 8,
    "start_time": "2022-06-11T12:59:44.217Z"
   },
   {
    "duration": 7,
    "start_time": "2022-06-11T12:59:44.227Z"
   },
   {
    "duration": 130,
    "start_time": "2022-06-11T12:59:44.236Z"
   },
   {
    "duration": 8,
    "start_time": "2022-06-11T12:59:44.368Z"
   },
   {
    "duration": 28,
    "start_time": "2022-06-11T12:59:44.377Z"
   },
   {
    "duration": 137,
    "start_time": "2022-06-11T12:59:44.406Z"
   },
   {
    "duration": 9,
    "start_time": "2022-06-11T12:59:44.545Z"
   },
   {
    "duration": 5,
    "start_time": "2022-06-11T12:59:44.557Z"
   },
   {
    "duration": 124,
    "start_time": "2022-06-11T12:59:44.564Z"
   },
   {
    "duration": 19,
    "start_time": "2022-06-11T12:59:44.694Z"
   },
   {
    "duration": 14,
    "start_time": "2022-06-11T12:59:44.714Z"
   },
   {
    "duration": 264,
    "start_time": "2022-06-11T12:59:44.729Z"
   },
   {
    "duration": 18,
    "start_time": "2022-06-11T12:59:44.997Z"
   },
   {
    "duration": 18,
    "start_time": "2022-06-11T12:59:45.017Z"
   },
   {
    "duration": 17,
    "start_time": "2022-06-11T12:59:45.037Z"
   },
   {
    "duration": 25,
    "start_time": "2022-06-11T12:59:45.056Z"
   },
   {
    "duration": 8,
    "start_time": "2022-06-11T12:59:45.083Z"
   },
   {
    "duration": 29,
    "start_time": "2022-06-11T12:59:45.092Z"
   },
   {
    "duration": 7,
    "start_time": "2022-06-11T12:59:45.124Z"
   },
   {
    "duration": 8,
    "start_time": "2022-06-11T12:59:45.133Z"
   },
   {
    "duration": 8,
    "start_time": "2022-06-11T12:59:45.143Z"
   },
   {
    "duration": 10,
    "start_time": "2022-06-11T12:59:45.153Z"
   },
   {
    "duration": 17,
    "start_time": "2022-06-11T12:59:45.168Z"
   },
   {
    "duration": 4,
    "start_time": "2022-06-11T12:59:45.187Z"
   },
   {
    "duration": 23,
    "start_time": "2022-06-11T12:59:45.196Z"
   },
   {
    "duration": 6,
    "start_time": "2022-06-11T12:59:45.221Z"
   },
   {
    "duration": 6,
    "start_time": "2022-06-11T12:59:45.229Z"
   },
   {
    "duration": 5,
    "start_time": "2022-06-11T12:59:45.237Z"
   },
   {
    "duration": 6,
    "start_time": "2022-06-11T12:59:45.244Z"
   },
   {
    "duration": 45,
    "start_time": "2022-06-11T12:59:45.252Z"
   },
   {
    "duration": 17,
    "start_time": "2022-06-11T13:00:31.444Z"
   },
   {
    "duration": 6,
    "start_time": "2022-06-11T13:03:29.047Z"
   },
   {
    "duration": 132,
    "start_time": "2022-06-11T13:03:29.056Z"
   },
   {
    "duration": 21,
    "start_time": "2022-06-11T13:03:29.190Z"
   },
   {
    "duration": 11,
    "start_time": "2022-06-11T13:03:29.213Z"
   },
   {
    "duration": 6,
    "start_time": "2022-06-11T13:03:29.227Z"
   },
   {
    "duration": 7,
    "start_time": "2022-06-11T13:03:29.235Z"
   },
   {
    "duration": 8,
    "start_time": "2022-06-11T13:03:29.244Z"
   },
   {
    "duration": 9,
    "start_time": "2022-06-11T13:03:29.254Z"
   },
   {
    "duration": 14,
    "start_time": "2022-06-11T13:03:29.295Z"
   },
   {
    "duration": 12,
    "start_time": "2022-06-11T13:03:29.310Z"
   },
   {
    "duration": 7,
    "start_time": "2022-06-11T13:03:29.324Z"
   },
   {
    "duration": 6,
    "start_time": "2022-06-11T13:03:29.332Z"
   },
   {
    "duration": 6,
    "start_time": "2022-06-11T13:03:29.339Z"
   },
   {
    "duration": 8,
    "start_time": "2022-06-11T13:03:29.346Z"
   },
   {
    "duration": 10,
    "start_time": "2022-06-11T13:03:29.355Z"
   },
   {
    "duration": 9,
    "start_time": "2022-06-11T13:03:29.367Z"
   },
   {
    "duration": 138,
    "start_time": "2022-06-11T13:03:29.377Z"
   },
   {
    "duration": 137,
    "start_time": "2022-06-11T13:03:29.517Z"
   },
   {
    "duration": 9,
    "start_time": "2022-06-11T13:03:29.656Z"
   },
   {
    "duration": 8,
    "start_time": "2022-06-11T13:03:29.666Z"
   },
   {
    "duration": 140,
    "start_time": "2022-06-11T13:03:29.676Z"
   },
   {
    "duration": 9,
    "start_time": "2022-06-11T13:03:29.820Z"
   },
   {
    "duration": 8,
    "start_time": "2022-06-11T13:03:29.831Z"
   },
   {
    "duration": 139,
    "start_time": "2022-06-11T13:03:29.842Z"
   },
   {
    "duration": 16,
    "start_time": "2022-06-11T13:03:29.983Z"
   },
   {
    "duration": 23,
    "start_time": "2022-06-11T13:03:30.000Z"
   },
   {
    "duration": 127,
    "start_time": "2022-06-11T13:03:30.025Z"
   },
   {
    "duration": 8,
    "start_time": "2022-06-11T13:03:30.154Z"
   },
   {
    "duration": 18,
    "start_time": "2022-06-11T13:03:30.164Z"
   },
   {
    "duration": 140,
    "start_time": "2022-06-11T13:03:30.183Z"
   },
   {
    "duration": 9,
    "start_time": "2022-06-11T13:03:30.325Z"
   },
   {
    "duration": 8,
    "start_time": "2022-06-11T13:03:30.336Z"
   },
   {
    "duration": 8,
    "start_time": "2022-06-11T13:03:30.346Z"
   },
   {
    "duration": 35,
    "start_time": "2022-06-11T13:03:30.355Z"
   },
   {
    "duration": 28,
    "start_time": "2022-06-11T13:03:30.392Z"
   },
   {
    "duration": 18,
    "start_time": "2022-06-11T13:03:30.422Z"
   },
   {
    "duration": 9,
    "start_time": "2022-06-11T13:03:30.442Z"
   },
   {
    "duration": 12,
    "start_time": "2022-06-11T13:03:30.453Z"
   },
   {
    "duration": 12,
    "start_time": "2022-06-11T13:03:30.467Z"
   },
   {
    "duration": 11,
    "start_time": "2022-06-11T13:03:30.481Z"
   },
   {
    "duration": 41,
    "start_time": "2022-06-11T13:03:30.494Z"
   },
   {
    "duration": 9,
    "start_time": "2022-06-11T13:03:30.537Z"
   },
   {
    "duration": 16,
    "start_time": "2022-06-11T13:03:30.548Z"
   },
   {
    "duration": 27,
    "start_time": "2022-06-11T13:03:30.566Z"
   },
   {
    "duration": 33,
    "start_time": "2022-06-11T13:03:30.597Z"
   },
   {
    "duration": 15,
    "start_time": "2022-06-11T13:03:30.632Z"
   },
   {
    "duration": 20,
    "start_time": "2022-06-11T13:03:30.649Z"
   },
   {
    "duration": 13,
    "start_time": "2022-06-11T13:03:30.671Z"
   },
   {
    "duration": 23,
    "start_time": "2022-06-11T13:03:30.686Z"
   },
   {
    "duration": 19,
    "start_time": "2022-06-11T13:03:30.711Z"
   },
   {
    "duration": 37,
    "start_time": "2022-06-11T13:03:30.732Z"
   },
   {
    "duration": 59,
    "start_time": "2022-06-11T13:03:30.771Z"
   },
   {
    "duration": 0,
    "start_time": "2022-06-11T13:03:30.833Z"
   },
   {
    "duration": 4,
    "start_time": "2022-06-11T13:06:38.216Z"
   },
   {
    "duration": 24,
    "start_time": "2022-06-11T13:06:43.429Z"
   },
   {
    "duration": 29,
    "start_time": "2022-06-11T13:16:22.455Z"
   },
   {
    "duration": 25,
    "start_time": "2022-06-11T13:16:39.423Z"
   },
   {
    "duration": 4,
    "start_time": "2022-06-11T13:18:10.494Z"
   },
   {
    "duration": 22,
    "start_time": "2022-06-11T13:18:11.735Z"
   },
   {
    "duration": 3,
    "start_time": "2022-06-11T13:18:35.912Z"
   },
   {
    "duration": 65,
    "start_time": "2022-06-11T13:18:35.917Z"
   },
   {
    "duration": 17,
    "start_time": "2022-06-11T13:18:35.984Z"
   },
   {
    "duration": 10,
    "start_time": "2022-06-11T13:18:36.011Z"
   },
   {
    "duration": 8,
    "start_time": "2022-06-11T13:18:36.023Z"
   },
   {
    "duration": 16,
    "start_time": "2022-06-11T13:18:36.033Z"
   },
   {
    "duration": 19,
    "start_time": "2022-06-11T13:18:36.051Z"
   },
   {
    "duration": 10,
    "start_time": "2022-06-11T13:18:36.072Z"
   },
   {
    "duration": 13,
    "start_time": "2022-06-11T13:18:36.084Z"
   },
   {
    "duration": 32,
    "start_time": "2022-06-11T13:18:36.099Z"
   },
   {
    "duration": 7,
    "start_time": "2022-06-11T13:18:36.133Z"
   },
   {
    "duration": 8,
    "start_time": "2022-06-11T13:18:36.141Z"
   },
   {
    "duration": 7,
    "start_time": "2022-06-11T13:18:36.151Z"
   },
   {
    "duration": 8,
    "start_time": "2022-06-11T13:18:36.160Z"
   },
   {
    "duration": 9,
    "start_time": "2022-06-11T13:18:36.170Z"
   },
   {
    "duration": 7,
    "start_time": "2022-06-11T13:18:36.181Z"
   },
   {
    "duration": 137,
    "start_time": "2022-06-11T13:18:36.190Z"
   },
   {
    "duration": 133,
    "start_time": "2022-06-11T13:18:36.329Z"
   },
   {
    "duration": 8,
    "start_time": "2022-06-11T13:18:36.464Z"
   },
   {
    "duration": 22,
    "start_time": "2022-06-11T13:18:36.474Z"
   },
   {
    "duration": 116,
    "start_time": "2022-06-11T13:18:36.502Z"
   },
   {
    "duration": 8,
    "start_time": "2022-06-11T13:18:36.620Z"
   },
   {
    "duration": 8,
    "start_time": "2022-06-11T13:18:36.630Z"
   },
   {
    "duration": 141,
    "start_time": "2022-06-11T13:18:36.642Z"
   },
   {
    "duration": 12,
    "start_time": "2022-06-11T13:18:36.785Z"
   },
   {
    "duration": 20,
    "start_time": "2022-06-11T13:18:36.798Z"
   },
   {
    "duration": 110,
    "start_time": "2022-06-11T13:18:36.820Z"
   },
   {
    "duration": 9,
    "start_time": "2022-06-11T13:18:36.933Z"
   },
   {
    "duration": 7,
    "start_time": "2022-06-11T13:18:36.944Z"
   },
   {
    "duration": 116,
    "start_time": "2022-06-11T13:18:36.953Z"
   },
   {
    "duration": 9,
    "start_time": "2022-06-11T13:18:37.071Z"
   },
   {
    "duration": 7,
    "start_time": "2022-06-11T13:18:37.096Z"
   },
   {
    "duration": 10,
    "start_time": "2022-06-11T13:18:37.112Z"
   },
   {
    "duration": 16,
    "start_time": "2022-06-11T13:18:37.124Z"
   },
   {
    "duration": 5,
    "start_time": "2022-06-11T13:18:37.141Z"
   },
   {
    "duration": 5,
    "start_time": "2022-06-11T13:18:37.148Z"
   },
   {
    "duration": 8,
    "start_time": "2022-06-11T13:18:37.155Z"
   },
   {
    "duration": 9,
    "start_time": "2022-06-11T13:18:37.164Z"
   },
   {
    "duration": 29,
    "start_time": "2022-06-11T13:18:37.174Z"
   },
   {
    "duration": 19,
    "start_time": "2022-06-11T13:18:37.206Z"
   },
   {
    "duration": 18,
    "start_time": "2022-06-11T13:18:37.227Z"
   },
   {
    "duration": 5,
    "start_time": "2022-06-11T13:18:37.247Z"
   },
   {
    "duration": 7,
    "start_time": "2022-06-11T13:18:37.253Z"
   },
   {
    "duration": 6,
    "start_time": "2022-06-11T13:18:37.261Z"
   },
   {
    "duration": 6,
    "start_time": "2022-06-11T13:18:37.269Z"
   },
   {
    "duration": 6,
    "start_time": "2022-06-11T13:18:37.277Z"
   },
   {
    "duration": 25,
    "start_time": "2022-06-11T13:18:37.285Z"
   },
   {
    "duration": 19,
    "start_time": "2022-06-11T13:18:37.312Z"
   },
   {
    "duration": 0,
    "start_time": "2022-06-11T13:18:37.333Z"
   },
   {
    "duration": 0,
    "start_time": "2022-06-11T13:18:37.334Z"
   },
   {
    "duration": 0,
    "start_time": "2022-06-11T13:18:37.335Z"
   },
   {
    "duration": 36,
    "start_time": "2022-06-11T13:19:03.442Z"
   },
   {
    "duration": 13,
    "start_time": "2022-06-11T13:21:32.837Z"
   },
   {
    "duration": 12,
    "start_time": "2022-06-11T13:23:45.243Z"
   },
   {
    "duration": 20,
    "start_time": "2022-06-11T13:24:04.689Z"
   },
   {
    "duration": 21,
    "start_time": "2022-06-11T13:27:04.346Z"
   },
   {
    "duration": 13,
    "start_time": "2022-06-11T13:27:13.448Z"
   },
   {
    "duration": 0,
    "start_time": "2022-06-11T13:27:13.463Z"
   },
   {
    "duration": 0,
    "start_time": "2022-06-11T13:27:13.464Z"
   },
   {
    "duration": 0,
    "start_time": "2022-06-11T13:27:13.466Z"
   },
   {
    "duration": 11,
    "start_time": "2022-06-11T13:27:13.467Z"
   },
   {
    "duration": 6,
    "start_time": "2022-06-11T13:27:13.480Z"
   },
   {
    "duration": 13,
    "start_time": "2022-06-11T13:27:13.488Z"
   },
   {
    "duration": 23,
    "start_time": "2022-06-11T13:27:13.503Z"
   },
   {
    "duration": 10,
    "start_time": "2022-06-11T13:27:13.528Z"
   },
   {
    "duration": 5,
    "start_time": "2022-06-11T13:27:13.540Z"
   },
   {
    "duration": 6,
    "start_time": "2022-06-11T13:27:13.547Z"
   },
   {
    "duration": 6,
    "start_time": "2022-06-11T13:27:13.555Z"
   },
   {
    "duration": 36,
    "start_time": "2022-06-11T13:27:13.563Z"
   },
   {
    "duration": 20,
    "start_time": "2022-06-11T13:27:13.606Z"
   },
   {
    "duration": 18,
    "start_time": "2022-06-11T13:27:13.629Z"
   },
   {
    "duration": 14,
    "start_time": "2022-06-11T13:27:13.653Z"
   },
   {
    "duration": 129,
    "start_time": "2022-06-11T13:27:13.669Z"
   },
   {
    "duration": 111,
    "start_time": "2022-06-11T13:27:13.803Z"
   },
   {
    "duration": 10,
    "start_time": "2022-06-11T13:27:13.916Z"
   },
   {
    "duration": 7,
    "start_time": "2022-06-11T13:27:13.927Z"
   },
   {
    "duration": 139,
    "start_time": "2022-06-11T13:27:13.936Z"
   },
   {
    "duration": 20,
    "start_time": "2022-06-11T13:27:14.077Z"
   },
   {
    "duration": 10,
    "start_time": "2022-06-11T13:27:14.099Z"
   },
   {
    "duration": 127,
    "start_time": "2022-06-11T13:27:14.110Z"
   },
   {
    "duration": 9,
    "start_time": "2022-06-11T13:27:14.239Z"
   },
   {
    "duration": 9,
    "start_time": "2022-06-11T13:27:14.250Z"
   },
   {
    "duration": 125,
    "start_time": "2022-06-11T13:27:14.261Z"
   },
   {
    "duration": 17,
    "start_time": "2022-06-11T13:27:14.394Z"
   },
   {
    "duration": 9,
    "start_time": "2022-06-11T13:27:14.416Z"
   },
   {
    "duration": 116,
    "start_time": "2022-06-11T13:27:14.427Z"
   },
   {
    "duration": 8,
    "start_time": "2022-06-11T13:27:14.545Z"
   },
   {
    "duration": 5,
    "start_time": "2022-06-11T13:27:14.557Z"
   },
   {
    "duration": 7,
    "start_time": "2022-06-11T13:27:14.564Z"
   },
   {
    "duration": 56,
    "start_time": "2022-06-11T13:27:14.573Z"
   },
   {
    "duration": 11,
    "start_time": "2022-06-11T13:27:14.631Z"
   },
   {
    "duration": 9,
    "start_time": "2022-06-11T13:27:14.643Z"
   },
   {
    "duration": 7,
    "start_time": "2022-06-11T13:27:14.654Z"
   },
   {
    "duration": 8,
    "start_time": "2022-06-11T13:27:14.663Z"
   },
   {
    "duration": 7,
    "start_time": "2022-06-11T13:27:14.672Z"
   },
   {
    "duration": 9,
    "start_time": "2022-06-11T13:27:14.681Z"
   },
   {
    "duration": 37,
    "start_time": "2022-06-11T13:27:14.691Z"
   },
   {
    "duration": 9,
    "start_time": "2022-06-11T13:27:14.729Z"
   },
   {
    "duration": 5,
    "start_time": "2022-06-11T13:27:14.740Z"
   },
   {
    "duration": 9,
    "start_time": "2022-06-11T13:27:14.747Z"
   },
   {
    "duration": 7,
    "start_time": "2022-06-11T13:27:14.758Z"
   },
   {
    "duration": 11,
    "start_time": "2022-06-11T13:27:14.767Z"
   },
   {
    "duration": 5,
    "start_time": "2022-06-11T13:27:14.780Z"
   },
   {
    "duration": 5,
    "start_time": "2022-06-11T13:27:14.786Z"
   },
   {
    "duration": 17,
    "start_time": "2022-06-11T13:27:14.793Z"
   },
   {
    "duration": 16,
    "start_time": "2022-06-11T13:27:14.811Z"
   },
   {
    "duration": 7,
    "start_time": "2022-06-11T13:27:14.830Z"
   },
   {
    "duration": 25,
    "start_time": "2022-06-11T13:27:14.839Z"
   },
   {
    "duration": 0,
    "start_time": "2022-06-11T13:27:14.866Z"
   },
   {
    "duration": 13,
    "start_time": "2022-06-11T13:28:14.689Z"
   },
   {
    "duration": 6,
    "start_time": "2022-06-11T13:28:19.490Z"
   },
   {
    "duration": 5,
    "start_time": "2022-06-11T13:28:41.206Z"
   },
   {
    "duration": 30,
    "start_time": "2022-06-11T13:30:41.191Z"
   },
   {
    "duration": 12,
    "start_time": "2022-06-11T13:33:02.825Z"
   },
   {
    "duration": 12,
    "start_time": "2022-06-11T13:33:15.054Z"
   },
   {
    "duration": 0,
    "start_time": "2022-06-11T13:33:15.067Z"
   },
   {
    "duration": 0,
    "start_time": "2022-06-11T13:33:15.068Z"
   },
   {
    "duration": 0,
    "start_time": "2022-06-11T13:33:15.069Z"
   },
   {
    "duration": 0,
    "start_time": "2022-06-11T13:33:15.070Z"
   },
   {
    "duration": 7,
    "start_time": "2022-06-11T13:33:15.071Z"
   },
   {
    "duration": 8,
    "start_time": "2022-06-11T13:33:15.080Z"
   },
   {
    "duration": 14,
    "start_time": "2022-06-11T13:33:15.089Z"
   },
   {
    "duration": 11,
    "start_time": "2022-06-11T13:33:15.106Z"
   },
   {
    "duration": 12,
    "start_time": "2022-06-11T13:33:15.119Z"
   },
   {
    "duration": 8,
    "start_time": "2022-06-11T13:33:15.133Z"
   },
   {
    "duration": 9,
    "start_time": "2022-06-11T13:33:15.143Z"
   },
   {
    "duration": 11,
    "start_time": "2022-06-11T13:33:15.154Z"
   },
   {
    "duration": 7,
    "start_time": "2022-06-11T13:33:15.166Z"
   },
   {
    "duration": 6,
    "start_time": "2022-06-11T13:33:15.198Z"
   },
   {
    "duration": 6,
    "start_time": "2022-06-11T13:33:15.212Z"
   },
   {
    "duration": 129,
    "start_time": "2022-06-11T13:33:15.220Z"
   },
   {
    "duration": 99,
    "start_time": "2022-06-11T13:33:15.350Z"
   },
   {
    "duration": 8,
    "start_time": "2022-06-11T13:33:15.451Z"
   },
   {
    "duration": 6,
    "start_time": "2022-06-11T13:33:15.460Z"
   },
   {
    "duration": 138,
    "start_time": "2022-06-11T13:33:15.468Z"
   },
   {
    "duration": 9,
    "start_time": "2022-06-11T13:33:15.609Z"
   },
   {
    "duration": 9,
    "start_time": "2022-06-11T13:33:15.619Z"
   },
   {
    "duration": 119,
    "start_time": "2022-06-11T13:33:15.629Z"
   },
   {
    "duration": 8,
    "start_time": "2022-06-11T13:33:15.750Z"
   },
   {
    "duration": 8,
    "start_time": "2022-06-11T13:33:15.760Z"
   },
   {
    "duration": 118,
    "start_time": "2022-06-11T13:33:15.769Z"
   },
   {
    "duration": 20,
    "start_time": "2022-06-11T13:33:15.889Z"
   },
   {
    "duration": 8,
    "start_time": "2022-06-11T13:33:15.912Z"
   },
   {
    "duration": 100,
    "start_time": "2022-06-11T13:33:15.922Z"
   },
   {
    "duration": 7,
    "start_time": "2022-06-11T13:33:16.024Z"
   },
   {
    "duration": 10,
    "start_time": "2022-06-11T13:33:16.033Z"
   },
   {
    "duration": 7,
    "start_time": "2022-06-11T13:33:16.047Z"
   },
   {
    "duration": 32,
    "start_time": "2022-06-11T13:33:16.056Z"
   },
   {
    "duration": 28,
    "start_time": "2022-06-11T13:33:16.090Z"
   },
   {
    "duration": 24,
    "start_time": "2022-06-11T13:33:16.120Z"
   },
   {
    "duration": 27,
    "start_time": "2022-06-11T13:33:16.146Z"
   },
   {
    "duration": 16,
    "start_time": "2022-06-11T13:33:16.175Z"
   },
   {
    "duration": 27,
    "start_time": "2022-06-11T13:33:16.193Z"
   },
   {
    "duration": 21,
    "start_time": "2022-06-11T13:33:16.222Z"
   },
   {
    "duration": 39,
    "start_time": "2022-06-11T13:33:16.245Z"
   },
   {
    "duration": 7,
    "start_time": "2022-06-11T13:33:16.286Z"
   },
   {
    "duration": 20,
    "start_time": "2022-06-11T13:33:16.296Z"
   },
   {
    "duration": 13,
    "start_time": "2022-06-11T13:33:16.318Z"
   },
   {
    "duration": 18,
    "start_time": "2022-06-11T13:33:16.333Z"
   },
   {
    "duration": 9,
    "start_time": "2022-06-11T13:33:16.353Z"
   },
   {
    "duration": 22,
    "start_time": "2022-06-11T13:33:16.364Z"
   },
   {
    "duration": 40,
    "start_time": "2022-06-11T13:33:16.387Z"
   },
   {
    "duration": 12,
    "start_time": "2022-06-11T13:33:16.428Z"
   },
   {
    "duration": 11,
    "start_time": "2022-06-11T13:33:16.442Z"
   },
   {
    "duration": 11,
    "start_time": "2022-06-11T13:33:16.454Z"
   },
   {
    "duration": 11,
    "start_time": "2022-06-11T13:33:16.466Z"
   },
   {
    "duration": 8,
    "start_time": "2022-06-11T13:33:16.479Z"
   },
   {
    "duration": 41,
    "start_time": "2022-06-11T13:33:16.488Z"
   },
   {
    "duration": 0,
    "start_time": "2022-06-11T13:33:16.530Z"
   },
   {
    "duration": 4,
    "start_time": "2022-06-11T13:33:39.038Z"
   },
   {
    "duration": 17,
    "start_time": "2022-06-11T13:33:52.492Z"
   },
   {
    "duration": 0,
    "start_time": "2022-06-11T13:33:52.511Z"
   },
   {
    "duration": 0,
    "start_time": "2022-06-11T13:33:52.513Z"
   },
   {
    "duration": 0,
    "start_time": "2022-06-11T13:33:52.516Z"
   },
   {
    "duration": 0,
    "start_time": "2022-06-11T13:33:52.517Z"
   },
   {
    "duration": 31,
    "start_time": "2022-06-11T13:33:52.518Z"
   },
   {
    "duration": 10,
    "start_time": "2022-06-11T13:33:52.551Z"
   },
   {
    "duration": 8,
    "start_time": "2022-06-11T13:33:52.563Z"
   },
   {
    "duration": 8,
    "start_time": "2022-06-11T13:33:52.598Z"
   },
   {
    "duration": 14,
    "start_time": "2022-06-11T13:33:52.610Z"
   },
   {
    "duration": 7,
    "start_time": "2022-06-11T13:33:52.626Z"
   },
   {
    "duration": 5,
    "start_time": "2022-06-11T13:33:52.635Z"
   },
   {
    "duration": 5,
    "start_time": "2022-06-11T13:33:52.642Z"
   },
   {
    "duration": 8,
    "start_time": "2022-06-11T13:33:52.649Z"
   },
   {
    "duration": 8,
    "start_time": "2022-06-11T13:33:52.658Z"
   },
   {
    "duration": 9,
    "start_time": "2022-06-11T13:33:52.697Z"
   },
   {
    "duration": 112,
    "start_time": "2022-06-11T13:33:52.710Z"
   },
   {
    "duration": 306,
    "start_time": "2022-06-11T13:33:52.824Z"
   },
   {
    "duration": 8,
    "start_time": "2022-06-11T13:33:53.132Z"
   },
   {
    "duration": 7,
    "start_time": "2022-06-11T13:33:53.141Z"
   },
   {
    "duration": 135,
    "start_time": "2022-06-11T13:33:53.150Z"
   },
   {
    "duration": 24,
    "start_time": "2022-06-11T13:33:53.287Z"
   },
   {
    "duration": 7,
    "start_time": "2022-06-11T13:33:53.313Z"
   },
   {
    "duration": 118,
    "start_time": "2022-06-11T13:33:53.322Z"
   },
   {
    "duration": 10,
    "start_time": "2022-06-11T13:33:53.442Z"
   },
   {
    "duration": 7,
    "start_time": "2022-06-11T13:33:53.454Z"
   },
   {
    "duration": 131,
    "start_time": "2022-06-11T13:33:53.463Z"
   },
   {
    "duration": 11,
    "start_time": "2022-06-11T13:33:53.598Z"
   },
   {
    "duration": 9,
    "start_time": "2022-06-11T13:33:53.611Z"
   },
   {
    "duration": 118,
    "start_time": "2022-06-11T13:33:53.622Z"
   },
   {
    "duration": 8,
    "start_time": "2022-06-11T13:33:53.743Z"
   },
   {
    "duration": 11,
    "start_time": "2022-06-11T13:33:53.753Z"
   },
   {
    "duration": 19,
    "start_time": "2022-06-11T13:33:53.765Z"
   },
   {
    "duration": 43,
    "start_time": "2022-06-11T13:33:53.786Z"
   },
   {
    "duration": 6,
    "start_time": "2022-06-11T13:33:53.831Z"
   },
   {
    "duration": 9,
    "start_time": "2022-06-11T13:33:53.839Z"
   },
   {
    "duration": 9,
    "start_time": "2022-06-11T13:33:53.849Z"
   },
   {
    "duration": 7,
    "start_time": "2022-06-11T13:33:53.860Z"
   },
   {
    "duration": 8,
    "start_time": "2022-06-11T13:33:53.868Z"
   },
   {
    "duration": 9,
    "start_time": "2022-06-11T13:33:53.877Z"
   },
   {
    "duration": 30,
    "start_time": "2022-06-11T13:33:53.888Z"
   },
   {
    "duration": 4,
    "start_time": "2022-06-11T13:33:53.920Z"
   },
   {
    "duration": 4,
    "start_time": "2022-06-11T13:33:53.926Z"
   },
   {
    "duration": 6,
    "start_time": "2022-06-11T13:33:53.932Z"
   },
   {
    "duration": 5,
    "start_time": "2022-06-11T13:33:53.940Z"
   },
   {
    "duration": 7,
    "start_time": "2022-06-11T13:33:53.947Z"
   },
   {
    "duration": 6,
    "start_time": "2022-06-11T13:33:53.956Z"
   },
   {
    "duration": 6,
    "start_time": "2022-06-11T13:33:53.963Z"
   },
   {
    "duration": 38,
    "start_time": "2022-06-11T13:33:53.970Z"
   },
   {
    "duration": 11,
    "start_time": "2022-06-11T13:33:54.012Z"
   },
   {
    "duration": 10,
    "start_time": "2022-06-11T13:33:54.025Z"
   },
   {
    "duration": 10,
    "start_time": "2022-06-11T13:33:54.038Z"
   },
   {
    "duration": 7,
    "start_time": "2022-06-11T13:33:54.050Z"
   },
   {
    "duration": 36,
    "start_time": "2022-06-11T13:33:54.059Z"
   },
   {
    "duration": 0,
    "start_time": "2022-06-11T13:33:54.097Z"
   },
   {
    "duration": 20,
    "start_time": "2022-06-11T13:34:47.161Z"
   },
   {
    "duration": 22,
    "start_time": "2022-06-11T13:34:58.029Z"
   },
   {
    "duration": 3,
    "start_time": "2022-06-11T13:35:56.819Z"
   },
   {
    "duration": 5,
    "start_time": "2022-06-11T13:35:57.576Z"
   },
   {
    "duration": 4,
    "start_time": "2022-06-11T13:35:58.311Z"
   },
   {
    "duration": 5,
    "start_time": "2022-06-11T13:35:59.074Z"
   },
   {
    "duration": 5,
    "start_time": "2022-06-11T13:35:59.721Z"
   },
   {
    "duration": 21,
    "start_time": "2022-06-11T13:36:00.911Z"
   },
   {
    "duration": 22,
    "start_time": "2022-06-11T13:36:23.344Z"
   },
   {
    "duration": 26,
    "start_time": "2022-06-11T13:36:34.993Z"
   },
   {
    "duration": 14,
    "start_time": "2022-06-11T13:37:33.946Z"
   },
   {
    "duration": 0,
    "start_time": "2022-06-11T13:37:33.962Z"
   },
   {
    "duration": 0,
    "start_time": "2022-06-11T13:37:33.963Z"
   },
   {
    "duration": 13,
    "start_time": "2022-06-11T13:37:33.965Z"
   },
   {
    "duration": 12,
    "start_time": "2022-06-11T13:37:33.980Z"
   },
   {
    "duration": 26,
    "start_time": "2022-06-11T13:37:33.995Z"
   },
   {
    "duration": 13,
    "start_time": "2022-06-11T13:37:34.024Z"
   },
   {
    "duration": 6,
    "start_time": "2022-06-11T13:37:34.038Z"
   },
   {
    "duration": 9,
    "start_time": "2022-06-11T13:37:34.046Z"
   },
   {
    "duration": 17,
    "start_time": "2022-06-11T13:37:34.057Z"
   },
   {
    "duration": 21,
    "start_time": "2022-06-11T13:37:34.076Z"
   },
   {
    "duration": 7,
    "start_time": "2022-06-11T13:37:34.101Z"
   },
   {
    "duration": 15,
    "start_time": "2022-06-11T13:37:34.112Z"
   },
   {
    "duration": 7,
    "start_time": "2022-06-11T13:37:34.129Z"
   },
   {
    "duration": 11,
    "start_time": "2022-06-11T13:37:34.137Z"
   },
   {
    "duration": 8,
    "start_time": "2022-06-11T13:37:34.150Z"
   },
   {
    "duration": 106,
    "start_time": "2022-06-11T13:37:34.160Z"
   },
   {
    "duration": 110,
    "start_time": "2022-06-11T13:37:34.268Z"
   },
   {
    "duration": 23,
    "start_time": "2022-06-11T13:37:34.380Z"
   },
   {
    "duration": 12,
    "start_time": "2022-06-11T13:37:34.404Z"
   },
   {
    "duration": 119,
    "start_time": "2022-06-11T13:37:34.418Z"
   },
   {
    "duration": 9,
    "start_time": "2022-06-11T13:37:34.539Z"
   },
   {
    "duration": 5,
    "start_time": "2022-06-11T13:37:34.550Z"
   },
   {
    "duration": 138,
    "start_time": "2022-06-11T13:37:34.557Z"
   },
   {
    "duration": 13,
    "start_time": "2022-06-11T13:37:34.698Z"
   },
   {
    "duration": 6,
    "start_time": "2022-06-11T13:37:34.713Z"
   },
   {
    "duration": 116,
    "start_time": "2022-06-11T13:37:34.721Z"
   },
   {
    "duration": 8,
    "start_time": "2022-06-11T13:37:34.839Z"
   },
   {
    "duration": 6,
    "start_time": "2022-06-11T13:37:34.848Z"
   },
   {
    "duration": 121,
    "start_time": "2022-06-11T13:37:34.855Z"
   },
   {
    "duration": 16,
    "start_time": "2022-06-11T13:37:34.980Z"
   },
   {
    "duration": 10,
    "start_time": "2022-06-11T13:37:34.998Z"
   },
   {
    "duration": 8,
    "start_time": "2022-06-11T13:37:35.010Z"
   },
   {
    "duration": 17,
    "start_time": "2022-06-11T13:37:35.019Z"
   },
   {
    "duration": 8,
    "start_time": "2022-06-11T13:37:35.038Z"
   },
   {
    "duration": 9,
    "start_time": "2022-06-11T13:37:35.048Z"
   },
   {
    "duration": 10,
    "start_time": "2022-06-11T13:37:35.059Z"
   },
   {
    "duration": 30,
    "start_time": "2022-06-11T13:37:35.071Z"
   },
   {
    "duration": 10,
    "start_time": "2022-06-11T13:37:35.106Z"
   },
   {
    "duration": 7,
    "start_time": "2022-06-11T13:37:35.118Z"
   },
   {
    "duration": 18,
    "start_time": "2022-06-11T13:37:35.127Z"
   },
   {
    "duration": 4,
    "start_time": "2022-06-11T13:37:35.147Z"
   },
   {
    "duration": 8,
    "start_time": "2022-06-11T13:37:35.152Z"
   },
   {
    "duration": 10,
    "start_time": "2022-06-11T13:37:35.161Z"
   },
   {
    "duration": 9,
    "start_time": "2022-06-11T13:37:35.172Z"
   },
   {
    "duration": 5,
    "start_time": "2022-06-11T13:37:35.182Z"
   },
   {
    "duration": 12,
    "start_time": "2022-06-11T13:37:35.189Z"
   },
   {
    "duration": 10,
    "start_time": "2022-06-11T13:37:35.207Z"
   },
   {
    "duration": 20,
    "start_time": "2022-06-11T13:37:35.219Z"
   },
   {
    "duration": 10,
    "start_time": "2022-06-11T13:37:35.241Z"
   },
   {
    "duration": 33,
    "start_time": "2022-06-11T13:37:35.253Z"
   },
   {
    "duration": 28,
    "start_time": "2022-06-11T13:37:35.288Z"
   },
   {
    "duration": 13,
    "start_time": "2022-06-11T13:37:35.317Z"
   },
   {
    "duration": 592,
    "start_time": "2022-06-11T13:37:35.331Z"
   },
   {
    "duration": 78,
    "start_time": "2022-06-11T13:37:35.924Z"
   },
   {
    "duration": 15,
    "start_time": "2022-06-11T13:38:19.771Z"
   },
   {
    "duration": 15,
    "start_time": "2022-06-11T13:38:27.505Z"
   },
   {
    "duration": 6,
    "start_time": "2022-06-11T13:39:59.408Z"
   },
   {
    "duration": 7,
    "start_time": "2022-06-11T13:40:04.497Z"
   },
   {
    "duration": 89,
    "start_time": "2022-06-11T13:40:04.509Z"
   },
   {
    "duration": 11,
    "start_time": "2022-06-11T13:40:04.600Z"
   },
   {
    "duration": 11,
    "start_time": "2022-06-11T13:40:04.614Z"
   },
   {
    "duration": 14,
    "start_time": "2022-06-11T13:40:04.628Z"
   },
   {
    "duration": 26,
    "start_time": "2022-06-11T13:40:04.644Z"
   },
   {
    "duration": 27,
    "start_time": "2022-06-11T13:40:04.672Z"
   },
   {
    "duration": 23,
    "start_time": "2022-06-11T13:40:04.702Z"
   },
   {
    "duration": 16,
    "start_time": "2022-06-11T13:40:04.727Z"
   },
   {
    "duration": 12,
    "start_time": "2022-06-11T13:40:04.745Z"
   },
   {
    "duration": 19,
    "start_time": "2022-06-11T13:40:04.761Z"
   },
   {
    "duration": 16,
    "start_time": "2022-06-11T13:40:04.782Z"
   },
   {
    "duration": 36,
    "start_time": "2022-06-11T13:40:04.799Z"
   },
   {
    "duration": 15,
    "start_time": "2022-06-11T13:40:04.837Z"
   },
   {
    "duration": 16,
    "start_time": "2022-06-11T13:40:04.853Z"
   },
   {
    "duration": 13,
    "start_time": "2022-06-11T13:40:04.871Z"
   },
   {
    "duration": 127,
    "start_time": "2022-06-11T13:40:04.886Z"
   },
   {
    "duration": 106,
    "start_time": "2022-06-11T13:40:05.015Z"
   },
   {
    "duration": 25,
    "start_time": "2022-06-11T13:40:05.122Z"
   },
   {
    "duration": 19,
    "start_time": "2022-06-11T13:40:05.149Z"
   },
   {
    "duration": 122,
    "start_time": "2022-06-11T13:40:05.170Z"
   },
   {
    "duration": 10,
    "start_time": "2022-06-11T13:40:05.294Z"
   },
   {
    "duration": 13,
    "start_time": "2022-06-11T13:40:05.308Z"
   },
   {
    "duration": 123,
    "start_time": "2022-06-11T13:40:05.323Z"
   },
   {
    "duration": 8,
    "start_time": "2022-06-11T13:40:05.448Z"
   },
   {
    "duration": 12,
    "start_time": "2022-06-11T13:40:05.457Z"
   },
   {
    "duration": 129,
    "start_time": "2022-06-11T13:40:05.471Z"
   },
   {
    "duration": 12,
    "start_time": "2022-06-11T13:40:05.603Z"
   },
   {
    "duration": 12,
    "start_time": "2022-06-11T13:40:05.619Z"
   },
   {
    "duration": 118,
    "start_time": "2022-06-11T13:40:05.633Z"
   },
   {
    "duration": 8,
    "start_time": "2022-06-11T13:40:05.753Z"
   },
   {
    "duration": 7,
    "start_time": "2022-06-11T13:40:05.763Z"
   },
   {
    "duration": 31,
    "start_time": "2022-06-11T13:40:05.772Z"
   },
   {
    "duration": 23,
    "start_time": "2022-06-11T13:40:05.804Z"
   },
   {
    "duration": 13,
    "start_time": "2022-06-11T13:40:05.829Z"
   },
   {
    "duration": 17,
    "start_time": "2022-06-11T13:40:05.844Z"
   },
   {
    "duration": 16,
    "start_time": "2022-06-11T13:40:05.863Z"
   },
   {
    "duration": 9,
    "start_time": "2022-06-11T13:40:05.881Z"
   },
   {
    "duration": 37,
    "start_time": "2022-06-11T13:40:05.892Z"
   },
   {
    "duration": 10,
    "start_time": "2022-06-11T13:40:05.931Z"
   },
   {
    "duration": 32,
    "start_time": "2022-06-11T13:40:05.943Z"
   },
   {
    "duration": 7,
    "start_time": "2022-06-11T13:40:05.977Z"
   },
   {
    "duration": 21,
    "start_time": "2022-06-11T13:40:05.985Z"
   },
   {
    "duration": 15,
    "start_time": "2022-06-11T13:40:06.013Z"
   },
   {
    "duration": 10,
    "start_time": "2022-06-11T13:40:06.030Z"
   },
   {
    "duration": 14,
    "start_time": "2022-06-11T13:40:06.042Z"
   },
   {
    "duration": 10,
    "start_time": "2022-06-11T13:40:06.058Z"
   },
   {
    "duration": 12,
    "start_time": "2022-06-11T13:40:06.069Z"
   },
   {
    "duration": 11,
    "start_time": "2022-06-11T13:40:06.083Z"
   },
   {
    "duration": 22,
    "start_time": "2022-06-11T13:40:06.095Z"
   },
   {
    "duration": 7,
    "start_time": "2022-06-11T13:40:06.119Z"
   },
   {
    "duration": 6,
    "start_time": "2022-06-11T13:40:06.128Z"
   },
   {
    "duration": 5,
    "start_time": "2022-06-11T13:40:06.136Z"
   },
   {
    "duration": 881,
    "start_time": "2022-06-11T13:40:06.143Z"
   },
   {
    "duration": 22,
    "start_time": "2022-06-11T13:40:07.096Z"
   },
   {
    "duration": 18,
    "start_time": "2022-06-11T13:40:38.111Z"
   },
   {
    "duration": 61,
    "start_time": "2022-06-11T13:44:19.172Z"
   },
   {
    "duration": 6,
    "start_time": "2022-06-11T13:44:57.522Z"
   },
   {
    "duration": 4,
    "start_time": "2022-06-11T13:47:22.677Z"
   },
   {
    "duration": 101,
    "start_time": "2022-06-11T13:47:22.683Z"
   },
   {
    "duration": 17,
    "start_time": "2022-06-11T13:47:22.787Z"
   },
   {
    "duration": 13,
    "start_time": "2022-06-11T13:47:22.808Z"
   },
   {
    "duration": 7,
    "start_time": "2022-06-11T13:47:22.825Z"
   },
   {
    "duration": 13,
    "start_time": "2022-06-11T13:47:22.834Z"
   },
   {
    "duration": 10,
    "start_time": "2022-06-11T13:47:22.849Z"
   },
   {
    "duration": 37,
    "start_time": "2022-06-11T13:47:22.861Z"
   },
   {
    "duration": 24,
    "start_time": "2022-06-11T13:47:22.900Z"
   },
   {
    "duration": 13,
    "start_time": "2022-06-11T13:47:22.926Z"
   },
   {
    "duration": 13,
    "start_time": "2022-06-11T13:47:22.942Z"
   },
   {
    "duration": 10,
    "start_time": "2022-06-11T13:47:22.957Z"
   },
   {
    "duration": 13,
    "start_time": "2022-06-11T13:47:22.969Z"
   },
   {
    "duration": 9,
    "start_time": "2022-06-11T13:47:22.984Z"
   },
   {
    "duration": 28,
    "start_time": "2022-06-11T13:47:22.996Z"
   },
   {
    "duration": 8,
    "start_time": "2022-06-11T13:47:23.026Z"
   },
   {
    "duration": 115,
    "start_time": "2022-06-11T13:47:23.036Z"
   },
   {
    "duration": 114,
    "start_time": "2022-06-11T13:47:23.153Z"
   },
   {
    "duration": 8,
    "start_time": "2022-06-11T13:47:23.269Z"
   },
   {
    "duration": 17,
    "start_time": "2022-06-11T13:47:23.280Z"
   },
   {
    "duration": 124,
    "start_time": "2022-06-11T13:47:23.304Z"
   },
   {
    "duration": 8,
    "start_time": "2022-06-11T13:47:23.430Z"
   },
   {
    "duration": 9,
    "start_time": "2022-06-11T13:47:23.440Z"
   },
   {
    "duration": 155,
    "start_time": "2022-06-11T13:47:23.450Z"
   },
   {
    "duration": 9,
    "start_time": "2022-06-11T13:47:23.613Z"
   },
   {
    "duration": 13,
    "start_time": "2022-06-11T13:47:23.624Z"
   },
   {
    "duration": 117,
    "start_time": "2022-06-11T13:47:23.638Z"
   },
   {
    "duration": 9,
    "start_time": "2022-06-11T13:47:23.757Z"
   },
   {
    "duration": 14,
    "start_time": "2022-06-11T13:47:23.770Z"
   },
   {
    "duration": 139,
    "start_time": "2022-06-11T13:47:23.786Z"
   },
   {
    "duration": 9,
    "start_time": "2022-06-11T13:47:23.926Z"
   },
   {
    "duration": 7,
    "start_time": "2022-06-11T13:47:23.937Z"
   },
   {
    "duration": 8,
    "start_time": "2022-06-11T13:47:23.946Z"
   },
   {
    "duration": 53,
    "start_time": "2022-06-11T13:47:23.956Z"
   },
   {
    "duration": 5,
    "start_time": "2022-06-11T13:47:24.013Z"
   },
   {
    "duration": 14,
    "start_time": "2022-06-11T13:47:24.020Z"
   },
   {
    "duration": 11,
    "start_time": "2022-06-11T13:47:24.036Z"
   },
   {
    "duration": 6,
    "start_time": "2022-06-11T13:47:24.050Z"
   },
   {
    "duration": 8,
    "start_time": "2022-06-11T13:47:24.058Z"
   },
   {
    "duration": 7,
    "start_time": "2022-06-11T13:47:24.068Z"
   },
   {
    "duration": 29,
    "start_time": "2022-06-11T13:47:24.077Z"
   },
   {
    "duration": 13,
    "start_time": "2022-06-11T13:47:24.110Z"
   },
   {
    "duration": 7,
    "start_time": "2022-06-11T13:47:24.125Z"
   },
   {
    "duration": 8,
    "start_time": "2022-06-11T13:47:24.134Z"
   },
   {
    "duration": 7,
    "start_time": "2022-06-11T13:47:24.144Z"
   },
   {
    "duration": 5,
    "start_time": "2022-06-11T13:47:24.153Z"
   },
   {
    "duration": 8,
    "start_time": "2022-06-11T13:47:24.159Z"
   },
   {
    "duration": 6,
    "start_time": "2022-06-11T13:47:24.169Z"
   },
   {
    "duration": 9,
    "start_time": "2022-06-11T13:47:24.177Z"
   },
   {
    "duration": 21,
    "start_time": "2022-06-11T13:47:24.196Z"
   },
   {
    "duration": 10,
    "start_time": "2022-06-11T13:47:24.219Z"
   },
   {
    "duration": 8,
    "start_time": "2022-06-11T13:47:24.231Z"
   },
   {
    "duration": 6,
    "start_time": "2022-06-11T13:47:24.241Z"
   },
   {
    "duration": 575,
    "start_time": "2022-06-11T13:47:24.249Z"
   },
   {
    "duration": 8,
    "start_time": "2022-06-11T13:47:24.895Z"
   },
   {
    "duration": 5453,
    "start_time": "2022-06-11T18:47:02.316Z"
   },
   {
    "duration": 75,
    "start_time": "2022-06-11T18:47:07.772Z"
   },
   {
    "duration": 12,
    "start_time": "2022-06-11T18:47:07.849Z"
   },
   {
    "duration": 4,
    "start_time": "2022-06-11T18:47:07.864Z"
   },
   {
    "duration": 12,
    "start_time": "2022-06-11T18:47:07.870Z"
   },
   {
    "duration": 6,
    "start_time": "2022-06-11T18:47:07.884Z"
   },
   {
    "duration": 8,
    "start_time": "2022-06-11T18:47:07.892Z"
   },
   {
    "duration": 9,
    "start_time": "2022-06-11T18:47:07.902Z"
   },
   {
    "duration": 8,
    "start_time": "2022-06-11T18:47:07.913Z"
   },
   {
    "duration": 37,
    "start_time": "2022-06-11T18:47:07.923Z"
   },
   {
    "duration": 5,
    "start_time": "2022-06-11T18:47:07.962Z"
   },
   {
    "duration": 5,
    "start_time": "2022-06-11T18:47:07.968Z"
   },
   {
    "duration": 5,
    "start_time": "2022-06-11T18:47:07.975Z"
   },
   {
    "duration": 7,
    "start_time": "2022-06-11T18:47:07.982Z"
   },
   {
    "duration": 7,
    "start_time": "2022-06-11T18:47:07.991Z"
   },
   {
    "duration": 5,
    "start_time": "2022-06-11T18:47:08.000Z"
   },
   {
    "duration": 178,
    "start_time": "2022-06-11T18:47:08.007Z"
   },
   {
    "duration": 103,
    "start_time": "2022-06-11T18:47:08.187Z"
   },
   {
    "duration": 9,
    "start_time": "2022-06-11T18:47:08.291Z"
   },
   {
    "duration": 7,
    "start_time": "2022-06-11T18:47:08.301Z"
   },
   {
    "duration": 124,
    "start_time": "2022-06-11T18:47:08.309Z"
   },
   {
    "duration": 8,
    "start_time": "2022-06-11T18:47:08.435Z"
   },
   {
    "duration": 4,
    "start_time": "2022-06-11T18:47:08.458Z"
   },
   {
    "duration": 122,
    "start_time": "2022-06-11T18:47:08.464Z"
   },
   {
    "duration": 7,
    "start_time": "2022-06-11T18:47:08.588Z"
   },
   {
    "duration": 7,
    "start_time": "2022-06-11T18:47:08.597Z"
   },
   {
    "duration": 146,
    "start_time": "2022-06-11T18:47:08.606Z"
   },
   {
    "duration": 8,
    "start_time": "2022-06-11T18:47:08.760Z"
   },
   {
    "duration": 7,
    "start_time": "2022-06-11T18:47:08.770Z"
   },
   {
    "duration": 107,
    "start_time": "2022-06-11T18:47:08.779Z"
   },
   {
    "duration": 8,
    "start_time": "2022-06-11T18:47:08.888Z"
   },
   {
    "duration": 5,
    "start_time": "2022-06-11T18:47:08.898Z"
   },
   {
    "duration": 9,
    "start_time": "2022-06-11T18:47:08.905Z"
   },
   {
    "duration": 15,
    "start_time": "2022-06-11T18:47:08.916Z"
   },
   {
    "duration": 26,
    "start_time": "2022-06-11T18:47:08.933Z"
   },
   {
    "duration": 4,
    "start_time": "2022-06-11T18:47:08.961Z"
   },
   {
    "duration": 7,
    "start_time": "2022-06-11T18:47:08.967Z"
   },
   {
    "duration": 5,
    "start_time": "2022-06-11T18:47:08.976Z"
   },
   {
    "duration": 5,
    "start_time": "2022-06-11T18:47:08.983Z"
   },
   {
    "duration": 14,
    "start_time": "2022-06-11T18:47:08.990Z"
   },
   {
    "duration": 17,
    "start_time": "2022-06-11T18:47:09.005Z"
   },
   {
    "duration": 4,
    "start_time": "2022-06-11T18:47:09.024Z"
   },
   {
    "duration": 30,
    "start_time": "2022-06-11T18:47:09.030Z"
   },
   {
    "duration": 7,
    "start_time": "2022-06-11T18:47:09.062Z"
   },
   {
    "duration": 6,
    "start_time": "2022-06-11T18:47:09.071Z"
   },
   {
    "duration": 7,
    "start_time": "2022-06-11T18:47:09.079Z"
   },
   {
    "duration": 8,
    "start_time": "2022-06-11T18:47:09.089Z"
   },
   {
    "duration": 58,
    "start_time": "2022-06-11T18:47:09.099Z"
   },
   {
    "duration": 3,
    "start_time": "2022-06-11T18:47:09.159Z"
   },
   {
    "duration": 42,
    "start_time": "2022-06-11T18:47:09.164Z"
   },
   {
    "duration": 3,
    "start_time": "2022-06-11T18:47:09.208Z"
   },
   {
    "duration": 9,
    "start_time": "2022-06-11T18:47:09.212Z"
   },
   {
    "duration": 7,
    "start_time": "2022-06-11T18:47:09.222Z"
   },
   {
    "duration": 449,
    "start_time": "2022-06-11T18:47:09.230Z"
   },
   {
    "duration": 91,
    "start_time": "2022-06-11T18:47:09.681Z"
   },
   {
    "duration": 5,
    "start_time": "2022-06-11T18:47:09.774Z"
   },
   {
    "duration": 5,
    "start_time": "2022-06-11T18:47:09.780Z"
   },
   {
    "duration": 140,
    "start_time": "2022-06-11T18:47:09.787Z"
   },
   {
    "duration": 0,
    "start_time": "2022-06-11T18:47:09.928Z"
   },
   {
    "duration": 538,
    "start_time": "2022-06-11T18:47:47.021Z"
   },
   {
    "duration": 467,
    "start_time": "2022-06-11T18:47:50.993Z"
   },
   {
    "duration": 6,
    "start_time": "2022-06-11T18:48:21.627Z"
   },
   {
    "duration": 4,
    "start_time": "2022-06-11T18:57:13.809Z"
   },
   {
    "duration": 50,
    "start_time": "2022-06-11T18:57:13.817Z"
   },
   {
    "duration": 14,
    "start_time": "2022-06-11T18:57:13.869Z"
   },
   {
    "duration": 12,
    "start_time": "2022-06-11T18:57:13.885Z"
   },
   {
    "duration": 11,
    "start_time": "2022-06-11T18:57:13.900Z"
   },
   {
    "duration": 10,
    "start_time": "2022-06-11T18:57:13.913Z"
   },
   {
    "duration": 35,
    "start_time": "2022-06-11T18:57:13.925Z"
   },
   {
    "duration": 9,
    "start_time": "2022-06-11T18:57:13.962Z"
   },
   {
    "duration": 16,
    "start_time": "2022-06-11T18:57:13.973Z"
   },
   {
    "duration": 14,
    "start_time": "2022-06-11T18:57:13.991Z"
   },
   {
    "duration": 10,
    "start_time": "2022-06-11T18:57:14.008Z"
   },
   {
    "duration": 7,
    "start_time": "2022-06-11T18:57:14.020Z"
   },
   {
    "duration": 22,
    "start_time": "2022-06-11T18:57:14.029Z"
   },
   {
    "duration": 4,
    "start_time": "2022-06-11T18:57:14.064Z"
   },
   {
    "duration": 18,
    "start_time": "2022-06-11T18:57:14.070Z"
   },
   {
    "duration": 19,
    "start_time": "2022-06-11T18:57:14.090Z"
   },
   {
    "duration": 92,
    "start_time": "2022-06-11T18:57:14.111Z"
   },
   {
    "duration": 121,
    "start_time": "2022-06-11T18:57:14.205Z"
   },
   {
    "duration": 9,
    "start_time": "2022-06-11T18:57:14.328Z"
   },
   {
    "duration": 23,
    "start_time": "2022-06-11T18:57:14.339Z"
   },
   {
    "duration": 109,
    "start_time": "2022-06-11T18:57:14.363Z"
   },
   {
    "duration": 10,
    "start_time": "2022-06-11T18:57:14.474Z"
   },
   {
    "duration": 8,
    "start_time": "2022-06-11T18:57:14.486Z"
   },
   {
    "duration": 134,
    "start_time": "2022-06-11T18:57:14.496Z"
   },
   {
    "duration": 8,
    "start_time": "2022-06-11T18:57:14.632Z"
   },
   {
    "duration": 23,
    "start_time": "2022-06-11T18:57:14.641Z"
   },
   {
    "duration": 127,
    "start_time": "2022-06-11T18:57:14.666Z"
   },
   {
    "duration": 8,
    "start_time": "2022-06-11T18:57:14.795Z"
   },
   {
    "duration": 4,
    "start_time": "2022-06-11T18:57:14.807Z"
   },
   {
    "duration": 198,
    "start_time": "2022-06-11T18:57:14.812Z"
   },
   {
    "duration": 7,
    "start_time": "2022-06-11T18:57:15.012Z"
   },
   {
    "duration": 45,
    "start_time": "2022-06-11T18:57:15.021Z"
   },
   {
    "duration": 37,
    "start_time": "2022-06-11T18:57:15.068Z"
   },
   {
    "duration": 38,
    "start_time": "2022-06-11T18:57:15.107Z"
   },
   {
    "duration": 51,
    "start_time": "2022-06-11T18:57:15.147Z"
   },
   {
    "duration": 54,
    "start_time": "2022-06-11T18:57:15.200Z"
   },
   {
    "duration": 7,
    "start_time": "2022-06-11T18:57:15.256Z"
   },
   {
    "duration": 7,
    "start_time": "2022-06-11T18:57:15.265Z"
   },
   {
    "duration": 9,
    "start_time": "2022-06-11T18:57:15.274Z"
   },
   {
    "duration": 8,
    "start_time": "2022-06-11T18:57:15.285Z"
   },
   {
    "duration": 19,
    "start_time": "2022-06-11T18:57:15.295Z"
   },
   {
    "duration": 4,
    "start_time": "2022-06-11T18:57:15.316Z"
   },
   {
    "duration": 5,
    "start_time": "2022-06-11T18:57:15.321Z"
   },
   {
    "duration": 6,
    "start_time": "2022-06-11T18:57:15.327Z"
   },
   {
    "duration": 6,
    "start_time": "2022-06-11T18:57:15.335Z"
   },
   {
    "duration": 27,
    "start_time": "2022-06-11T18:57:15.343Z"
   },
   {
    "duration": 22,
    "start_time": "2022-06-11T18:57:15.372Z"
   },
   {
    "duration": 8,
    "start_time": "2022-06-11T18:57:15.396Z"
   },
   {
    "duration": 10,
    "start_time": "2022-06-11T18:57:15.405Z"
   },
   {
    "duration": 57,
    "start_time": "2022-06-11T18:57:15.417Z"
   },
   {
    "duration": 6,
    "start_time": "2022-06-11T18:57:15.476Z"
   },
   {
    "duration": 8,
    "start_time": "2022-06-11T18:57:15.483Z"
   },
   {
    "duration": 15,
    "start_time": "2022-06-11T18:57:15.493Z"
   },
   {
    "duration": 460,
    "start_time": "2022-06-11T18:57:15.510Z"
   },
   {
    "duration": 5,
    "start_time": "2022-06-11T18:57:15.972Z"
   },
   {
    "duration": 6,
    "start_time": "2022-06-11T18:57:15.979Z"
   },
   {
    "duration": 10,
    "start_time": "2022-06-11T18:57:15.986Z"
   },
   {
    "duration": 565,
    "start_time": "2022-06-11T18:57:15.997Z"
   },
   {
    "duration": 5,
    "start_time": "2022-06-11T18:57:16.563Z"
   },
   {
    "duration": 14,
    "start_time": "2022-06-11T18:57:16.569Z"
   },
   {
    "duration": 0,
    "start_time": "2022-06-11T18:57:16.584Z"
   },
   {
    "duration": 0,
    "start_time": "2022-06-11T18:57:16.585Z"
   },
   {
    "duration": 0,
    "start_time": "2022-06-11T18:57:16.586Z"
   },
   {
    "duration": 4,
    "start_time": "2022-06-11T18:58:36.617Z"
   },
   {
    "duration": 52,
    "start_time": "2022-06-11T18:58:36.624Z"
   },
   {
    "duration": 10,
    "start_time": "2022-06-11T18:58:36.678Z"
   },
   {
    "duration": 8,
    "start_time": "2022-06-11T18:58:36.689Z"
   },
   {
    "duration": 7,
    "start_time": "2022-06-11T18:58:36.699Z"
   },
   {
    "duration": 6,
    "start_time": "2022-06-11T18:58:36.708Z"
   },
   {
    "duration": 8,
    "start_time": "2022-06-11T18:58:36.715Z"
   },
   {
    "duration": 5,
    "start_time": "2022-06-11T18:58:36.725Z"
   },
   {
    "duration": 7,
    "start_time": "2022-06-11T18:58:36.759Z"
   },
   {
    "duration": 10,
    "start_time": "2022-06-11T18:58:36.768Z"
   },
   {
    "duration": 9,
    "start_time": "2022-06-11T18:58:36.782Z"
   },
   {
    "duration": 9,
    "start_time": "2022-06-11T18:58:36.793Z"
   },
   {
    "duration": 14,
    "start_time": "2022-06-11T18:58:36.804Z"
   },
   {
    "duration": 7,
    "start_time": "2022-06-11T18:58:36.820Z"
   },
   {
    "duration": 10,
    "start_time": "2022-06-11T18:58:36.829Z"
   },
   {
    "duration": 5,
    "start_time": "2022-06-11T18:58:36.859Z"
   },
   {
    "duration": 126,
    "start_time": "2022-06-11T18:58:36.866Z"
   },
   {
    "duration": 105,
    "start_time": "2022-06-11T18:58:36.993Z"
   },
   {
    "duration": 7,
    "start_time": "2022-06-11T18:58:37.099Z"
   },
   {
    "duration": 7,
    "start_time": "2022-06-11T18:58:37.108Z"
   },
   {
    "duration": 170,
    "start_time": "2022-06-11T18:58:37.116Z"
   },
   {
    "duration": 10,
    "start_time": "2022-06-11T18:58:37.288Z"
   },
   {
    "duration": 25,
    "start_time": "2022-06-11T18:58:37.300Z"
   },
   {
    "duration": 156,
    "start_time": "2022-06-11T18:58:37.327Z"
   },
   {
    "duration": 8,
    "start_time": "2022-06-11T18:58:37.484Z"
   },
   {
    "duration": 6,
    "start_time": "2022-06-11T18:58:37.494Z"
   },
   {
    "duration": 110,
    "start_time": "2022-06-11T18:58:37.501Z"
   },
   {
    "duration": 8,
    "start_time": "2022-06-11T18:58:37.613Z"
   },
   {
    "duration": 6,
    "start_time": "2022-06-11T18:58:37.624Z"
   },
   {
    "duration": 111,
    "start_time": "2022-06-11T18:58:37.631Z"
   },
   {
    "duration": 15,
    "start_time": "2022-06-11T18:58:37.744Z"
   },
   {
    "duration": 4,
    "start_time": "2022-06-11T18:58:37.760Z"
   },
   {
    "duration": 8,
    "start_time": "2022-06-11T18:58:37.765Z"
   },
   {
    "duration": 14,
    "start_time": "2022-06-11T18:58:37.774Z"
   },
   {
    "duration": 6,
    "start_time": "2022-06-11T18:58:37.789Z"
   },
   {
    "duration": 5,
    "start_time": "2022-06-11T18:58:37.796Z"
   },
   {
    "duration": 6,
    "start_time": "2022-06-11T18:58:37.803Z"
   },
   {
    "duration": 9,
    "start_time": "2022-06-11T18:58:37.810Z"
   },
   {
    "duration": 7,
    "start_time": "2022-06-11T18:58:37.821Z"
   },
   {
    "duration": 3,
    "start_time": "2022-06-11T18:58:37.858Z"
   },
   {
    "duration": 15,
    "start_time": "2022-06-11T18:58:37.863Z"
   },
   {
    "duration": 4,
    "start_time": "2022-06-11T18:58:37.880Z"
   },
   {
    "duration": 6,
    "start_time": "2022-06-11T18:58:37.885Z"
   },
   {
    "duration": 6,
    "start_time": "2022-06-11T18:58:37.892Z"
   },
   {
    "duration": 6,
    "start_time": "2022-06-11T18:58:37.900Z"
   },
   {
    "duration": 5,
    "start_time": "2022-06-11T18:58:37.907Z"
   },
   {
    "duration": 10,
    "start_time": "2022-06-11T18:58:37.913Z"
   },
   {
    "duration": 5,
    "start_time": "2022-06-11T18:58:37.924Z"
   },
   {
    "duration": 29,
    "start_time": "2022-06-11T18:58:37.931Z"
   },
   {
    "duration": 6,
    "start_time": "2022-06-11T18:58:37.962Z"
   },
   {
    "duration": 10,
    "start_time": "2022-06-11T18:58:37.969Z"
   },
   {
    "duration": 10,
    "start_time": "2022-06-11T18:58:37.980Z"
   },
   {
    "duration": 13,
    "start_time": "2022-06-11T18:58:37.992Z"
   },
   {
    "duration": 360,
    "start_time": "2022-06-11T18:58:38.007Z"
   },
   {
    "duration": 6,
    "start_time": "2022-06-11T18:58:38.370Z"
   },
   {
    "duration": 6,
    "start_time": "2022-06-11T18:58:38.378Z"
   },
   {
    "duration": 9,
    "start_time": "2022-06-11T18:58:38.386Z"
   },
   {
    "duration": 6,
    "start_time": "2022-06-11T18:58:38.396Z"
   },
   {
    "duration": 423,
    "start_time": "2022-06-11T18:58:38.459Z"
   },
   {
    "duration": 6,
    "start_time": "2022-06-11T18:58:38.958Z"
   },
   {
    "duration": 12,
    "start_time": "2022-06-11T18:58:38.965Z"
   },
   {
    "duration": 0,
    "start_time": "2022-06-11T18:58:38.979Z"
   },
   {
    "duration": 0,
    "start_time": "2022-06-11T18:58:38.981Z"
   },
   {
    "duration": 0,
    "start_time": "2022-06-11T18:58:38.982Z"
   },
   {
    "duration": 6,
    "start_time": "2022-06-11T19:02:20.034Z"
   },
   {
    "duration": 6,
    "start_time": "2022-06-11T19:02:22.961Z"
   },
   {
    "duration": 73,
    "start_time": "2022-06-11T19:02:23.800Z"
   },
   {
    "duration": 6,
    "start_time": "2022-06-11T19:02:47.824Z"
   },
   {
    "duration": 5,
    "start_time": "2022-06-11T19:02:48.561Z"
   },
   {
    "duration": 575,
    "start_time": "2022-06-11T19:02:49.605Z"
   },
   {
    "duration": 14,
    "start_time": "2022-06-11T19:02:52.165Z"
   },
   {
    "duration": 15,
    "start_time": "2022-06-11T19:13:10.680Z"
   },
   {
    "duration": 3712,
    "start_time": "2022-06-13T11:11:44.834Z"
   },
   {
    "duration": 4,
    "start_time": "2022-06-13T11:22:02.253Z"
   },
   {
    "duration": 174,
    "start_time": "2022-06-13T11:22:02.259Z"
   },
   {
    "duration": 17,
    "start_time": "2022-06-13T11:22:02.436Z"
   },
   {
    "duration": 18,
    "start_time": "2022-06-13T11:22:02.454Z"
   },
   {
    "duration": 18,
    "start_time": "2022-06-13T11:22:02.474Z"
   },
   {
    "duration": 27,
    "start_time": "2022-06-13T11:22:02.493Z"
   },
   {
    "duration": 15,
    "start_time": "2022-06-13T11:22:02.522Z"
   },
   {
    "duration": 13,
    "start_time": "2022-06-13T11:22:02.539Z"
   },
   {
    "duration": 8,
    "start_time": "2022-06-13T11:22:02.554Z"
   },
   {
    "duration": 7,
    "start_time": "2022-06-13T11:22:02.564Z"
   },
   {
    "duration": 5,
    "start_time": "2022-06-13T11:22:02.574Z"
   },
   {
    "duration": 9,
    "start_time": "2022-06-13T11:22:02.580Z"
   },
   {
    "duration": 21,
    "start_time": "2022-06-13T11:22:02.590Z"
   },
   {
    "duration": 13,
    "start_time": "2022-06-13T11:22:02.612Z"
   },
   {
    "duration": 8,
    "start_time": "2022-06-13T11:22:02.627Z"
   },
   {
    "duration": 8,
    "start_time": "2022-06-13T11:22:02.637Z"
   },
   {
    "duration": 164,
    "start_time": "2022-06-13T11:22:02.646Z"
   },
   {
    "duration": 105,
    "start_time": "2022-06-13T11:22:02.811Z"
   },
   {
    "duration": 8,
    "start_time": "2022-06-13T11:22:02.918Z"
   },
   {
    "duration": 8,
    "start_time": "2022-06-13T11:22:02.927Z"
   },
   {
    "duration": 130,
    "start_time": "2022-06-13T11:22:02.937Z"
   },
   {
    "duration": 8,
    "start_time": "2022-06-13T11:22:03.069Z"
   },
   {
    "duration": 7,
    "start_time": "2022-06-13T11:22:03.078Z"
   },
   {
    "duration": 148,
    "start_time": "2022-06-13T11:22:03.086Z"
   },
   {
    "duration": 9,
    "start_time": "2022-06-13T11:22:03.236Z"
   },
   {
    "duration": 9,
    "start_time": "2022-06-13T11:22:03.246Z"
   },
   {
    "duration": 124,
    "start_time": "2022-06-13T11:22:03.257Z"
   },
   {
    "duration": 26,
    "start_time": "2022-06-13T11:22:03.383Z"
   },
   {
    "duration": 9,
    "start_time": "2022-06-13T11:22:03.413Z"
   },
   {
    "duration": 126,
    "start_time": "2022-06-13T11:22:03.424Z"
   },
   {
    "duration": 8,
    "start_time": "2022-06-13T11:22:03.551Z"
   },
   {
    "duration": 7,
    "start_time": "2022-06-13T11:22:03.560Z"
   },
   {
    "duration": 7,
    "start_time": "2022-06-13T11:22:03.568Z"
   },
   {
    "duration": 35,
    "start_time": "2022-06-13T11:22:03.577Z"
   },
   {
    "duration": 11,
    "start_time": "2022-06-13T11:22:03.614Z"
   },
   {
    "duration": 6,
    "start_time": "2022-06-13T11:22:03.627Z"
   },
   {
    "duration": 8,
    "start_time": "2022-06-13T11:22:03.635Z"
   },
   {
    "duration": 10,
    "start_time": "2022-06-13T11:22:03.644Z"
   },
   {
    "duration": 5,
    "start_time": "2022-06-13T11:22:03.655Z"
   },
   {
    "duration": 20,
    "start_time": "2022-06-13T11:22:03.661Z"
   },
   {
    "duration": 24,
    "start_time": "2022-06-13T11:22:03.682Z"
   },
   {
    "duration": 5,
    "start_time": "2022-06-13T11:22:03.711Z"
   },
   {
    "duration": 7,
    "start_time": "2022-06-13T11:22:03.718Z"
   },
   {
    "duration": 5,
    "start_time": "2022-06-13T11:22:03.730Z"
   },
   {
    "duration": 10,
    "start_time": "2022-06-13T11:22:03.737Z"
   },
   {
    "duration": 10,
    "start_time": "2022-06-13T11:22:03.749Z"
   },
   {
    "duration": 12,
    "start_time": "2022-06-13T11:22:03.760Z"
   },
   {
    "duration": 12,
    "start_time": "2022-06-13T11:22:03.773Z"
   },
   {
    "duration": 3,
    "start_time": "2022-06-13T11:22:03.787Z"
   },
   {
    "duration": 44,
    "start_time": "2022-06-13T11:22:03.791Z"
   },
   {
    "duration": 5,
    "start_time": "2022-06-13T11:22:03.837Z"
   },
   {
    "duration": 7,
    "start_time": "2022-06-13T11:22:03.844Z"
   },
   {
    "duration": 6,
    "start_time": "2022-06-13T11:22:03.852Z"
   },
   {
    "duration": 765,
    "start_time": "2022-06-13T11:22:03.859Z"
   },
   {
    "duration": 96,
    "start_time": "2022-06-13T11:22:04.626Z"
   },
   {
    "duration": 4,
    "start_time": "2022-06-13T11:22:04.723Z"
   },
   {
    "duration": 9,
    "start_time": "2022-06-13T11:22:04.729Z"
   },
   {
    "duration": 5,
    "start_time": "2022-06-13T11:22:04.740Z"
   },
   {
    "duration": 777,
    "start_time": "2022-06-13T11:22:04.747Z"
   },
   {
    "duration": 19,
    "start_time": "2022-06-13T11:22:05.596Z"
   },
   {
    "duration": 18,
    "start_time": "2022-06-13T11:22:05.617Z"
   },
   {
    "duration": 7,
    "start_time": "2022-06-13T11:22:05.637Z"
   },
   {
    "duration": 0,
    "start_time": "2022-06-13T11:22:05.646Z"
   },
   {
    "duration": 0,
    "start_time": "2022-06-13T11:22:05.647Z"
   },
   {
    "duration": 0,
    "start_time": "2022-06-13T11:22:05.648Z"
   },
   {
    "duration": 0,
    "start_time": "2022-06-13T11:22:05.649Z"
   },
   {
    "duration": 27,
    "start_time": "2022-06-13T11:23:06.051Z"
   },
   {
    "duration": 14,
    "start_time": "2022-06-13T11:28:11.225Z"
   },
   {
    "duration": 101,
    "start_time": "2022-06-13T11:28:11.241Z"
   },
   {
    "duration": 31,
    "start_time": "2022-06-13T11:28:11.344Z"
   },
   {
    "duration": 9,
    "start_time": "2022-06-13T11:28:11.377Z"
   },
   {
    "duration": 18,
    "start_time": "2022-06-13T11:28:11.388Z"
   },
   {
    "duration": 7,
    "start_time": "2022-06-13T11:28:11.416Z"
   },
   {
    "duration": 22,
    "start_time": "2022-06-13T11:28:11.425Z"
   },
   {
    "duration": 7,
    "start_time": "2022-06-13T11:28:11.449Z"
   },
   {
    "duration": 11,
    "start_time": "2022-06-13T11:28:11.457Z"
   },
   {
    "duration": 8,
    "start_time": "2022-06-13T11:28:11.470Z"
   },
   {
    "duration": 12,
    "start_time": "2022-06-13T11:28:11.480Z"
   },
   {
    "duration": 30,
    "start_time": "2022-06-13T11:28:11.494Z"
   },
   {
    "duration": 11,
    "start_time": "2022-06-13T11:28:11.526Z"
   },
   {
    "duration": 4,
    "start_time": "2022-06-13T11:28:11.540Z"
   },
   {
    "duration": 12,
    "start_time": "2022-06-13T11:28:11.546Z"
   },
   {
    "duration": 9,
    "start_time": "2022-06-13T11:28:11.559Z"
   },
   {
    "duration": 177,
    "start_time": "2022-06-13T11:28:11.569Z"
   },
   {
    "duration": 130,
    "start_time": "2022-06-13T11:28:11.748Z"
   },
   {
    "duration": 23,
    "start_time": "2022-06-13T11:28:11.880Z"
   },
   {
    "duration": 30,
    "start_time": "2022-06-13T11:28:11.904Z"
   },
   {
    "duration": 162,
    "start_time": "2022-06-13T11:28:11.936Z"
   },
   {
    "duration": 12,
    "start_time": "2022-06-13T11:28:12.099Z"
   },
   {
    "duration": 24,
    "start_time": "2022-06-13T11:28:12.112Z"
   },
   {
    "duration": 134,
    "start_time": "2022-06-13T11:28:12.138Z"
   },
   {
    "duration": 10,
    "start_time": "2022-06-13T11:28:12.275Z"
   },
   {
    "duration": 40,
    "start_time": "2022-06-13T11:28:12.286Z"
   },
   {
    "duration": 188,
    "start_time": "2022-06-13T11:28:12.328Z"
   },
   {
    "duration": 9,
    "start_time": "2022-06-13T11:28:12.521Z"
   },
   {
    "duration": 9,
    "start_time": "2022-06-13T11:28:12.532Z"
   },
   {
    "duration": 173,
    "start_time": "2022-06-13T11:28:12.544Z"
   },
   {
    "duration": 9,
    "start_time": "2022-06-13T11:28:12.719Z"
   },
   {
    "duration": 9,
    "start_time": "2022-06-13T11:28:12.731Z"
   },
   {
    "duration": 7,
    "start_time": "2022-06-13T11:28:12.742Z"
   },
   {
    "duration": 25,
    "start_time": "2022-06-13T11:28:12.751Z"
   },
   {
    "duration": 20,
    "start_time": "2022-06-13T11:28:12.777Z"
   },
   {
    "duration": 24,
    "start_time": "2022-06-13T11:28:12.800Z"
   },
   {
    "duration": 10,
    "start_time": "2022-06-13T11:28:12.826Z"
   },
   {
    "duration": 10,
    "start_time": "2022-06-13T11:28:12.838Z"
   },
   {
    "duration": 9,
    "start_time": "2022-06-13T11:28:12.849Z"
   },
   {
    "duration": 9,
    "start_time": "2022-06-13T11:28:12.860Z"
   },
   {
    "duration": 48,
    "start_time": "2022-06-13T11:28:12.875Z"
   },
   {
    "duration": 4,
    "start_time": "2022-06-13T11:28:12.925Z"
   },
   {
    "duration": 8,
    "start_time": "2022-06-13T11:28:12.931Z"
   },
   {
    "duration": 8,
    "start_time": "2022-06-13T11:28:12.941Z"
   },
   {
    "duration": 9,
    "start_time": "2022-06-13T11:28:12.951Z"
   },
   {
    "duration": 5,
    "start_time": "2022-06-13T11:28:12.961Z"
   },
   {
    "duration": 6,
    "start_time": "2022-06-13T11:28:12.967Z"
   },
   {
    "duration": 11,
    "start_time": "2022-06-13T11:28:12.975Z"
   },
   {
    "duration": 35,
    "start_time": "2022-06-13T11:28:12.988Z"
   },
   {
    "duration": 18,
    "start_time": "2022-06-13T11:28:13.025Z"
   },
   {
    "duration": 6,
    "start_time": "2022-06-13T11:28:13.045Z"
   },
   {
    "duration": 8,
    "start_time": "2022-06-13T11:28:13.053Z"
   },
   {
    "duration": 10,
    "start_time": "2022-06-13T11:28:13.062Z"
   },
   {
    "duration": 1151,
    "start_time": "2022-06-13T11:28:13.074Z"
   },
   {
    "duration": 69,
    "start_time": "2022-06-13T11:28:14.228Z"
   },
   {
    "duration": 4,
    "start_time": "2022-06-13T11:28:14.302Z"
   },
   {
    "duration": 12,
    "start_time": "2022-06-13T11:28:14.314Z"
   },
   {
    "duration": 13,
    "start_time": "2022-06-13T11:28:14.328Z"
   },
   {
    "duration": 1655,
    "start_time": "2022-06-13T11:28:14.343Z"
   },
   {
    "duration": 15,
    "start_time": "2022-06-13T11:28:16.000Z"
   },
   {
    "duration": 19,
    "start_time": "2022-06-13T11:28:16.019Z"
   },
   {
    "duration": 40,
    "start_time": "2022-06-13T11:28:16.040Z"
   },
   {
    "duration": 0,
    "start_time": "2022-06-13T11:28:16.082Z"
   },
   {
    "duration": 0,
    "start_time": "2022-06-13T11:28:16.083Z"
   },
   {
    "duration": 0,
    "start_time": "2022-06-13T11:28:16.085Z"
   },
   {
    "duration": 0,
    "start_time": "2022-06-13T11:28:16.086Z"
   },
   {
    "duration": 25,
    "start_time": "2022-06-13T11:28:50.350Z"
   },
   {
    "duration": 603,
    "start_time": "2022-06-13T11:28:58.578Z"
   },
   {
    "duration": 4,
    "start_time": "2022-06-13T11:30:55.820Z"
   },
   {
    "duration": 4,
    "start_time": "2022-06-13T11:31:00.912Z"
   },
   {
    "duration": 104,
    "start_time": "2022-06-13T11:31:00.918Z"
   },
   {
    "duration": 14,
    "start_time": "2022-06-13T11:31:01.024Z"
   },
   {
    "duration": 11,
    "start_time": "2022-06-13T11:31:01.040Z"
   },
   {
    "duration": 14,
    "start_time": "2022-06-13T11:31:01.053Z"
   },
   {
    "duration": 38,
    "start_time": "2022-06-13T11:31:01.069Z"
   },
   {
    "duration": 28,
    "start_time": "2022-06-13T11:31:01.111Z"
   },
   {
    "duration": 16,
    "start_time": "2022-06-13T11:31:01.141Z"
   },
   {
    "duration": 14,
    "start_time": "2022-06-13T11:31:01.159Z"
   },
   {
    "duration": 21,
    "start_time": "2022-06-13T11:31:01.175Z"
   },
   {
    "duration": 29,
    "start_time": "2022-06-13T11:31:01.198Z"
   },
   {
    "duration": 17,
    "start_time": "2022-06-13T11:31:01.230Z"
   },
   {
    "duration": 16,
    "start_time": "2022-06-13T11:31:01.250Z"
   },
   {
    "duration": 25,
    "start_time": "2022-06-13T11:31:01.268Z"
   },
   {
    "duration": 42,
    "start_time": "2022-06-13T11:31:01.294Z"
   },
   {
    "duration": 15,
    "start_time": "2022-06-13T11:31:01.338Z"
   },
   {
    "duration": 113,
    "start_time": "2022-06-13T11:31:01.355Z"
   },
   {
    "duration": 211,
    "start_time": "2022-06-13T11:31:01.470Z"
   },
   {
    "duration": 17,
    "start_time": "2022-06-13T11:31:01.683Z"
   },
   {
    "duration": 38,
    "start_time": "2022-06-13T11:31:01.702Z"
   },
   {
    "duration": 144,
    "start_time": "2022-06-13T11:31:01.742Z"
   },
   {
    "duration": 9,
    "start_time": "2022-06-13T11:31:01.888Z"
   },
   {
    "duration": 34,
    "start_time": "2022-06-13T11:31:01.905Z"
   },
   {
    "duration": 146,
    "start_time": "2022-06-13T11:31:01.942Z"
   },
   {
    "duration": 12,
    "start_time": "2022-06-13T11:31:02.090Z"
   },
   {
    "duration": 26,
    "start_time": "2022-06-13T11:31:02.104Z"
   },
   {
    "duration": 129,
    "start_time": "2022-06-13T11:31:02.132Z"
   },
   {
    "duration": 9,
    "start_time": "2022-06-13T11:31:02.262Z"
   },
   {
    "duration": 47,
    "start_time": "2022-06-13T11:31:02.273Z"
   },
   {
    "duration": 101,
    "start_time": "2022-06-13T11:31:02.322Z"
   },
   {
    "duration": 12,
    "start_time": "2022-06-13T11:31:02.425Z"
   },
   {
    "duration": 22,
    "start_time": "2022-06-13T11:31:02.439Z"
   },
   {
    "duration": 11,
    "start_time": "2022-06-13T11:31:02.463Z"
   },
   {
    "duration": 29,
    "start_time": "2022-06-13T11:31:02.476Z"
   },
   {
    "duration": 19,
    "start_time": "2022-06-13T11:31:02.507Z"
   },
   {
    "duration": 10,
    "start_time": "2022-06-13T11:31:02.528Z"
   },
   {
    "duration": 11,
    "start_time": "2022-06-13T11:31:02.542Z"
   },
   {
    "duration": 10,
    "start_time": "2022-06-13T11:31:02.555Z"
   },
   {
    "duration": 7,
    "start_time": "2022-06-13T11:31:02.566Z"
   },
   {
    "duration": 6,
    "start_time": "2022-06-13T11:31:02.575Z"
   },
   {
    "duration": 37,
    "start_time": "2022-06-13T11:31:02.582Z"
   },
   {
    "duration": 4,
    "start_time": "2022-06-13T11:31:02.621Z"
   },
   {
    "duration": 11,
    "start_time": "2022-06-13T11:31:02.626Z"
   },
   {
    "duration": 13,
    "start_time": "2022-06-13T11:31:02.638Z"
   },
   {
    "duration": 9,
    "start_time": "2022-06-13T11:31:02.652Z"
   },
   {
    "duration": 7,
    "start_time": "2022-06-13T11:31:02.662Z"
   },
   {
    "duration": 6,
    "start_time": "2022-06-13T11:31:02.671Z"
   },
   {
    "duration": 35,
    "start_time": "2022-06-13T11:31:02.679Z"
   },
   {
    "duration": 3,
    "start_time": "2022-06-13T11:31:02.716Z"
   },
   {
    "duration": 16,
    "start_time": "2022-06-13T11:31:02.721Z"
   },
   {
    "duration": 27,
    "start_time": "2022-06-13T11:31:02.739Z"
   },
   {
    "duration": 7,
    "start_time": "2022-06-13T11:31:02.768Z"
   },
   {
    "duration": 10,
    "start_time": "2022-06-13T11:31:02.776Z"
   },
   {
    "duration": 932,
    "start_time": "2022-06-13T11:31:02.788Z"
   },
   {
    "duration": 75,
    "start_time": "2022-06-13T11:31:03.722Z"
   },
   {
    "duration": 4,
    "start_time": "2022-06-13T11:31:03.800Z"
   },
   {
    "duration": 21,
    "start_time": "2022-06-13T11:31:03.806Z"
   },
   {
    "duration": 10,
    "start_time": "2022-06-13T11:31:03.829Z"
   },
   {
    "duration": 994,
    "start_time": "2022-06-13T11:31:03.841Z"
   },
   {
    "duration": 77,
    "start_time": "2022-06-13T11:31:04.837Z"
   },
   {
    "duration": 13,
    "start_time": "2022-06-13T11:31:04.919Z"
   },
   {
    "duration": 11,
    "start_time": "2022-06-13T11:31:04.934Z"
   },
   {
    "duration": 0,
    "start_time": "2022-06-13T11:31:04.946Z"
   },
   {
    "duration": 0,
    "start_time": "2022-06-13T11:31:04.947Z"
   },
   {
    "duration": 0,
    "start_time": "2022-06-13T11:31:04.949Z"
   },
   {
    "duration": 0,
    "start_time": "2022-06-13T11:31:04.950Z"
   },
   {
    "duration": 0,
    "start_time": "2022-06-13T11:31:04.952Z"
   },
   {
    "duration": 4,
    "start_time": "2022-06-13T11:31:24.788Z"
   },
   {
    "duration": 5,
    "start_time": "2022-06-13T11:31:28.848Z"
   },
   {
    "duration": 67,
    "start_time": "2022-06-13T11:31:28.855Z"
   },
   {
    "duration": 16,
    "start_time": "2022-06-13T11:31:28.925Z"
   },
   {
    "duration": 16,
    "start_time": "2022-06-13T11:31:28.944Z"
   },
   {
    "duration": 52,
    "start_time": "2022-06-13T11:31:28.962Z"
   },
   {
    "duration": 25,
    "start_time": "2022-06-13T11:31:29.019Z"
   },
   {
    "duration": 13,
    "start_time": "2022-06-13T11:31:29.048Z"
   },
   {
    "duration": 25,
    "start_time": "2022-06-13T11:31:29.064Z"
   },
   {
    "duration": 32,
    "start_time": "2022-06-13T11:31:29.092Z"
   },
   {
    "duration": 11,
    "start_time": "2022-06-13T11:31:29.128Z"
   },
   {
    "duration": 10,
    "start_time": "2022-06-13T11:31:29.141Z"
   },
   {
    "duration": 13,
    "start_time": "2022-06-13T11:31:29.153Z"
   },
   {
    "duration": 59,
    "start_time": "2022-06-13T11:31:29.168Z"
   },
   {
    "duration": 17,
    "start_time": "2022-06-13T11:31:29.229Z"
   },
   {
    "duration": 15,
    "start_time": "2022-06-13T11:31:29.248Z"
   },
   {
    "duration": 10,
    "start_time": "2022-06-13T11:31:29.266Z"
   },
   {
    "duration": 142,
    "start_time": "2022-06-13T11:31:29.278Z"
   },
   {
    "duration": 104,
    "start_time": "2022-06-13T11:31:29.422Z"
   },
   {
    "duration": 7,
    "start_time": "2022-06-13T11:31:29.528Z"
   },
   {
    "duration": 12,
    "start_time": "2022-06-13T11:31:29.537Z"
   },
   {
    "duration": 130,
    "start_time": "2022-06-13T11:31:29.551Z"
   },
   {
    "duration": 17,
    "start_time": "2022-06-13T11:31:29.682Z"
   },
   {
    "duration": 10,
    "start_time": "2022-06-13T11:31:29.709Z"
   },
   {
    "duration": 133,
    "start_time": "2022-06-13T11:31:29.721Z"
   },
   {
    "duration": 9,
    "start_time": "2022-06-13T11:31:29.856Z"
   },
   {
    "duration": 6,
    "start_time": "2022-06-13T11:31:29.867Z"
   },
   {
    "duration": 142,
    "start_time": "2022-06-13T11:31:29.874Z"
   },
   {
    "duration": 11,
    "start_time": "2022-06-13T11:31:30.020Z"
   },
   {
    "duration": 17,
    "start_time": "2022-06-13T11:31:30.033Z"
   },
   {
    "duration": 145,
    "start_time": "2022-06-13T11:31:30.052Z"
   },
   {
    "duration": 14,
    "start_time": "2022-06-13T11:31:30.200Z"
   },
   {
    "duration": 11,
    "start_time": "2022-06-13T11:31:30.216Z"
   },
   {
    "duration": 22,
    "start_time": "2022-06-13T11:31:30.229Z"
   },
   {
    "duration": 26,
    "start_time": "2022-06-13T11:31:30.253Z"
   },
   {
    "duration": 30,
    "start_time": "2022-06-13T11:31:30.281Z"
   },
   {
    "duration": 8,
    "start_time": "2022-06-13T11:31:30.313Z"
   },
   {
    "duration": 8,
    "start_time": "2022-06-13T11:31:30.323Z"
   },
   {
    "duration": 12,
    "start_time": "2022-06-13T11:31:30.333Z"
   },
   {
    "duration": 15,
    "start_time": "2022-06-13T11:31:30.347Z"
   },
   {
    "duration": 15,
    "start_time": "2022-06-13T11:31:30.364Z"
   },
   {
    "duration": 47,
    "start_time": "2022-06-13T11:31:30.381Z"
   },
   {
    "duration": 12,
    "start_time": "2022-06-13T11:31:30.430Z"
   },
   {
    "duration": 16,
    "start_time": "2022-06-13T11:31:30.443Z"
   },
   {
    "duration": 11,
    "start_time": "2022-06-13T11:31:30.461Z"
   },
   {
    "duration": 17,
    "start_time": "2022-06-13T11:31:30.474Z"
   },
   {
    "duration": 23,
    "start_time": "2022-06-13T11:31:30.493Z"
   },
   {
    "duration": 11,
    "start_time": "2022-06-13T11:31:30.518Z"
   },
   {
    "duration": 11,
    "start_time": "2022-06-13T11:31:30.531Z"
   },
   {
    "duration": 7,
    "start_time": "2022-06-13T11:31:30.544Z"
   },
   {
    "duration": 13,
    "start_time": "2022-06-13T11:31:30.553Z"
   },
   {
    "duration": 8,
    "start_time": "2022-06-13T11:31:30.568Z"
   },
   {
    "duration": 10,
    "start_time": "2022-06-13T11:31:30.578Z"
   },
   {
    "duration": 40,
    "start_time": "2022-06-13T11:31:30.590Z"
   },
   {
    "duration": 766,
    "start_time": "2022-06-13T11:31:30.632Z"
   },
   {
    "duration": 12,
    "start_time": "2022-06-13T11:31:31.408Z"
   },
   {
    "duration": 21,
    "start_time": "2022-06-13T11:31:31.422Z"
   },
   {
    "duration": 8,
    "start_time": "2022-06-13T11:31:31.444Z"
   },
   {
    "duration": 8,
    "start_time": "2022-06-13T11:31:31.453Z"
   },
   {
    "duration": 1053,
    "start_time": "2022-06-13T11:31:31.462Z"
   },
   {
    "duration": 7,
    "start_time": "2022-06-13T11:31:32.523Z"
   },
   {
    "duration": 8,
    "start_time": "2022-06-13T11:31:32.532Z"
   },
   {
    "duration": 68,
    "start_time": "2022-06-13T11:31:32.542Z"
   },
   {
    "duration": 0,
    "start_time": "2022-06-13T11:31:32.611Z"
   },
   {
    "duration": 0,
    "start_time": "2022-06-13T11:31:32.613Z"
   },
   {
    "duration": 0,
    "start_time": "2022-06-13T11:31:32.614Z"
   },
   {
    "duration": 0,
    "start_time": "2022-06-13T11:31:32.615Z"
   },
   {
    "duration": 0,
    "start_time": "2022-06-13T11:31:32.616Z"
   },
   {
    "duration": 5,
    "start_time": "2022-06-13T11:31:58.749Z"
   },
   {
    "duration": 56,
    "start_time": "2022-06-13T11:31:58.757Z"
   },
   {
    "duration": 14,
    "start_time": "2022-06-13T11:31:58.815Z"
   },
   {
    "duration": 11,
    "start_time": "2022-06-13T11:31:58.831Z"
   },
   {
    "duration": 11,
    "start_time": "2022-06-13T11:31:58.843Z"
   },
   {
    "duration": 42,
    "start_time": "2022-06-13T11:31:58.856Z"
   },
   {
    "duration": 22,
    "start_time": "2022-06-13T11:31:58.906Z"
   },
   {
    "duration": 23,
    "start_time": "2022-06-13T11:31:58.930Z"
   },
   {
    "duration": 12,
    "start_time": "2022-06-13T11:31:58.955Z"
   },
   {
    "duration": 27,
    "start_time": "2022-06-13T11:31:58.971Z"
   },
   {
    "duration": 32,
    "start_time": "2022-06-13T11:31:59.000Z"
   },
   {
    "duration": 8,
    "start_time": "2022-06-13T11:31:59.034Z"
   },
   {
    "duration": 11,
    "start_time": "2022-06-13T11:31:59.045Z"
   },
   {
    "duration": 21,
    "start_time": "2022-06-13T11:31:59.058Z"
   },
   {
    "duration": 29,
    "start_time": "2022-06-13T11:31:59.081Z"
   },
   {
    "duration": 10,
    "start_time": "2022-06-13T11:31:59.113Z"
   },
   {
    "duration": 125,
    "start_time": "2022-06-13T11:31:59.125Z"
   },
   {
    "duration": 121,
    "start_time": "2022-06-13T11:31:59.253Z"
   },
   {
    "duration": 9,
    "start_time": "2022-06-13T11:31:59.376Z"
   },
   {
    "duration": 17,
    "start_time": "2022-06-13T11:31:59.387Z"
   },
   {
    "duration": 116,
    "start_time": "2022-06-13T11:31:59.408Z"
   },
   {
    "duration": 10,
    "start_time": "2022-06-13T11:31:59.526Z"
   },
   {
    "duration": 8,
    "start_time": "2022-06-13T11:31:59.537Z"
   },
   {
    "duration": 125,
    "start_time": "2022-06-13T11:31:59.546Z"
   },
   {
    "duration": 9,
    "start_time": "2022-06-13T11:31:59.673Z"
   },
   {
    "duration": 8,
    "start_time": "2022-06-13T11:31:59.703Z"
   },
   {
    "duration": 103,
    "start_time": "2022-06-13T11:31:59.713Z"
   },
   {
    "duration": 9,
    "start_time": "2022-06-13T11:31:59.821Z"
   },
   {
    "duration": 6,
    "start_time": "2022-06-13T11:31:59.832Z"
   },
   {
    "duration": 124,
    "start_time": "2022-06-13T11:31:59.840Z"
   },
   {
    "duration": 10,
    "start_time": "2022-06-13T11:31:59.966Z"
   },
   {
    "duration": 4159,
    "start_time": "2022-06-13T11:32:27.810Z"
   },
   {
    "duration": 59,
    "start_time": "2022-06-13T11:32:31.972Z"
   },
   {
    "duration": 15,
    "start_time": "2022-06-13T11:32:32.033Z"
   },
   {
    "duration": 7,
    "start_time": "2022-06-13T11:32:32.050Z"
   },
   {
    "duration": 7,
    "start_time": "2022-06-13T11:32:32.060Z"
   },
   {
    "duration": 10,
    "start_time": "2022-06-13T11:32:32.068Z"
   },
   {
    "duration": 8,
    "start_time": "2022-06-13T11:32:32.079Z"
   },
   {
    "duration": 29,
    "start_time": "2022-06-13T11:32:32.089Z"
   },
   {
    "duration": 12,
    "start_time": "2022-06-13T11:32:32.119Z"
   },
   {
    "duration": 9,
    "start_time": "2022-06-13T11:32:32.133Z"
   },
   {
    "duration": 11,
    "start_time": "2022-06-13T11:32:32.144Z"
   },
   {
    "duration": 8,
    "start_time": "2022-06-13T11:32:32.157Z"
   },
   {
    "duration": 8,
    "start_time": "2022-06-13T11:32:32.167Z"
   },
   {
    "duration": 10,
    "start_time": "2022-06-13T11:32:32.178Z"
   },
   {
    "duration": 26,
    "start_time": "2022-06-13T11:32:32.190Z"
   },
   {
    "duration": 7,
    "start_time": "2022-06-13T11:32:32.217Z"
   },
   {
    "duration": 161,
    "start_time": "2022-06-13T11:32:32.226Z"
   },
   {
    "duration": 114,
    "start_time": "2022-06-13T11:32:32.397Z"
   },
   {
    "duration": 11,
    "start_time": "2022-06-13T11:32:32.513Z"
   },
   {
    "duration": 10,
    "start_time": "2022-06-13T11:32:32.526Z"
   },
   {
    "duration": 155,
    "start_time": "2022-06-13T11:32:32.538Z"
   },
   {
    "duration": 19,
    "start_time": "2022-06-13T11:32:32.696Z"
   },
   {
    "duration": 10,
    "start_time": "2022-06-13T11:32:32.717Z"
   },
   {
    "duration": 137,
    "start_time": "2022-06-13T11:32:32.729Z"
   },
   {
    "duration": 10,
    "start_time": "2022-06-13T11:32:32.869Z"
   },
   {
    "duration": 20,
    "start_time": "2022-06-13T11:32:32.881Z"
   },
   {
    "duration": 111,
    "start_time": "2022-06-13T11:32:32.909Z"
   },
   {
    "duration": 11,
    "start_time": "2022-06-13T11:32:33.022Z"
   },
   {
    "duration": 8,
    "start_time": "2022-06-13T11:32:33.035Z"
   },
   {
    "duration": 121,
    "start_time": "2022-06-13T11:32:33.045Z"
   },
   {
    "duration": 11,
    "start_time": "2022-06-13T11:32:33.168Z"
   },
   {
    "duration": 16,
    "start_time": "2022-06-13T11:32:33.181Z"
   },
   {
    "duration": 23,
    "start_time": "2022-06-13T11:32:33.199Z"
   },
   {
    "duration": 25,
    "start_time": "2022-06-13T11:32:33.224Z"
   },
   {
    "duration": 7,
    "start_time": "2022-06-13T11:32:33.251Z"
   },
   {
    "duration": 8,
    "start_time": "2022-06-13T11:32:33.260Z"
   },
   {
    "duration": 7,
    "start_time": "2022-06-13T11:32:33.270Z"
   },
   {
    "duration": 5,
    "start_time": "2022-06-13T11:32:33.279Z"
   },
   {
    "duration": 13,
    "start_time": "2022-06-13T11:32:33.285Z"
   },
   {
    "duration": 29,
    "start_time": "2022-06-13T11:32:33.301Z"
   },
   {
    "duration": 17,
    "start_time": "2022-06-13T11:32:33.334Z"
   },
   {
    "duration": 4,
    "start_time": "2022-06-13T11:32:33.353Z"
   },
   {
    "duration": 5,
    "start_time": "2022-06-13T11:32:33.359Z"
   },
   {
    "duration": 7,
    "start_time": "2022-06-13T11:32:33.366Z"
   },
   {
    "duration": 6,
    "start_time": "2022-06-13T11:32:33.375Z"
   },
   {
    "duration": 29,
    "start_time": "2022-06-13T11:32:33.383Z"
   },
   {
    "duration": 10,
    "start_time": "2022-06-13T11:32:33.415Z"
   },
   {
    "duration": 5,
    "start_time": "2022-06-13T11:32:33.427Z"
   },
   {
    "duration": 5,
    "start_time": "2022-06-13T11:32:33.433Z"
   },
   {
    "duration": 7,
    "start_time": "2022-06-13T11:32:33.439Z"
   },
   {
    "duration": 8,
    "start_time": "2022-06-13T11:32:33.448Z"
   },
   {
    "duration": 13,
    "start_time": "2022-06-13T11:32:33.458Z"
   },
   {
    "duration": 9,
    "start_time": "2022-06-13T11:32:33.473Z"
   },
   {
    "duration": 738,
    "start_time": "2022-06-13T11:32:33.484Z"
   },
   {
    "duration": 71,
    "start_time": "2022-06-13T11:32:34.224Z"
   },
   {
    "duration": 5,
    "start_time": "2022-06-13T11:32:34.304Z"
   },
   {
    "duration": 8,
    "start_time": "2022-06-13T11:32:34.312Z"
   },
   {
    "duration": 8,
    "start_time": "2022-06-13T11:32:34.321Z"
   },
   {
    "duration": 789,
    "start_time": "2022-06-13T11:32:34.331Z"
   },
   {
    "duration": 77,
    "start_time": "2022-06-13T11:32:35.121Z"
   },
   {
    "duration": 6,
    "start_time": "2022-06-13T11:32:35.201Z"
   },
   {
    "duration": 11,
    "start_time": "2022-06-13T11:32:35.208Z"
   },
   {
    "duration": 8,
    "start_time": "2022-06-13T11:32:35.221Z"
   },
   {
    "duration": 0,
    "start_time": "2022-06-13T11:32:35.231Z"
   },
   {
    "duration": 0,
    "start_time": "2022-06-13T11:32:35.232Z"
   },
   {
    "duration": 0,
    "start_time": "2022-06-13T11:32:35.234Z"
   },
   {
    "duration": 0,
    "start_time": "2022-06-13T11:32:35.236Z"
   },
   {
    "duration": 4,
    "start_time": "2022-06-13T11:33:23.613Z"
   },
   {
    "duration": 26,
    "start_time": "2022-06-13T11:33:26.607Z"
   },
   {
    "duration": 24,
    "start_time": "2022-06-13T11:35:03.433Z"
   },
   {
    "duration": 16204,
    "start_time": "2022-06-13T11:37:02.696Z"
   },
   {
    "duration": 14888,
    "start_time": "2022-06-13T11:37:49.810Z"
   },
   {
    "duration": 13048,
    "start_time": "2022-06-13T11:38:28.675Z"
   },
   {
    "duration": 61,
    "start_time": "2022-06-13T12:03:41.100Z"
   },
   {
    "duration": 218,
    "start_time": "2022-06-13T12:17:56.077Z"
   },
   {
    "duration": 193,
    "start_time": "2022-06-13T12:19:17.351Z"
   },
   {
    "duration": 15,
    "start_time": "2022-06-13T12:20:44.055Z"
   },
   {
    "duration": 30,
    "start_time": "2022-06-13T12:21:23.442Z"
   },
   {
    "duration": 32,
    "start_time": "2022-06-13T12:21:41.554Z"
   },
   {
    "duration": 22,
    "start_time": "2022-06-13T12:22:06.736Z"
   },
   {
    "duration": 13,
    "start_time": "2022-06-13T12:22:14.667Z"
   },
   {
    "duration": 29,
    "start_time": "2022-06-13T12:22:32.387Z"
   },
   {
    "duration": 32,
    "start_time": "2022-06-13T12:22:58.940Z"
   },
   {
    "duration": 40,
    "start_time": "2022-06-13T12:23:23.088Z"
   },
   {
    "duration": 17,
    "start_time": "2022-06-13T12:24:00.026Z"
   },
   {
    "duration": 20,
    "start_time": "2022-06-13T12:24:14.883Z"
   },
   {
    "duration": 15,
    "start_time": "2022-06-13T12:24:45.138Z"
   },
   {
    "duration": 14,
    "start_time": "2022-06-13T12:25:04.129Z"
   },
   {
    "duration": 5,
    "start_time": "2022-06-13T12:35:07.877Z"
   },
   {
    "duration": 104,
    "start_time": "2022-06-13T12:41:02.842Z"
   },
   {
    "duration": 25,
    "start_time": "2022-06-13T12:41:09.245Z"
   },
   {
    "duration": 35,
    "start_time": "2022-06-13T12:42:06.191Z"
   },
   {
    "duration": 13,
    "start_time": "2022-06-13T13:02:48.996Z"
   },
   {
    "duration": 15,
    "start_time": "2022-06-13T13:03:53.829Z"
   },
   {
    "duration": 16,
    "start_time": "2022-06-13T13:06:08.870Z"
   },
   {
    "duration": 5,
    "start_time": "2022-06-13T13:06:27.949Z"
   },
   {
    "duration": 89,
    "start_time": "2022-06-13T13:06:27.957Z"
   },
   {
    "duration": 21,
    "start_time": "2022-06-13T13:06:28.049Z"
   },
   {
    "duration": 17,
    "start_time": "2022-06-13T13:06:28.072Z"
   },
   {
    "duration": 55,
    "start_time": "2022-06-13T13:06:28.091Z"
   },
   {
    "duration": 9,
    "start_time": "2022-06-13T13:06:28.147Z"
   },
   {
    "duration": 10,
    "start_time": "2022-06-13T13:06:28.158Z"
   },
   {
    "duration": 33,
    "start_time": "2022-06-13T13:06:28.170Z"
   },
   {
    "duration": 36,
    "start_time": "2022-06-13T13:06:28.204Z"
   },
   {
    "duration": 6,
    "start_time": "2022-06-13T13:06:28.242Z"
   },
   {
    "duration": 8,
    "start_time": "2022-06-13T13:06:28.251Z"
   },
   {
    "duration": 7,
    "start_time": "2022-06-13T13:06:28.261Z"
   },
   {
    "duration": 11,
    "start_time": "2022-06-13T13:06:28.270Z"
   },
   {
    "duration": 9,
    "start_time": "2022-06-13T13:06:28.283Z"
   },
   {
    "duration": 39,
    "start_time": "2022-06-13T13:06:28.294Z"
   },
   {
    "duration": 8,
    "start_time": "2022-06-13T13:06:28.335Z"
   },
   {
    "duration": 108,
    "start_time": "2022-06-13T13:06:28.345Z"
   },
   {
    "duration": 122,
    "start_time": "2022-06-13T13:06:28.455Z"
   },
   {
    "duration": 8,
    "start_time": "2022-06-13T13:06:28.579Z"
   },
   {
    "duration": 5,
    "start_time": "2022-06-13T13:06:28.595Z"
   },
   {
    "duration": 193,
    "start_time": "2022-06-13T13:06:28.602Z"
   },
   {
    "duration": 23,
    "start_time": "2022-06-13T13:06:28.797Z"
   },
   {
    "duration": 14,
    "start_time": "2022-06-13T13:06:28.828Z"
   },
   {
    "duration": 178,
    "start_time": "2022-06-13T13:06:28.844Z"
   },
   {
    "duration": 18,
    "start_time": "2022-06-13T13:06:29.024Z"
   },
   {
    "duration": 20,
    "start_time": "2022-06-13T13:06:29.045Z"
   },
   {
    "duration": 156,
    "start_time": "2022-06-13T13:06:29.067Z"
   },
   {
    "duration": 9,
    "start_time": "2022-06-13T13:06:29.225Z"
   },
   {
    "duration": 19,
    "start_time": "2022-06-13T13:06:29.238Z"
   },
   {
    "duration": 170,
    "start_time": "2022-06-13T13:06:29.259Z"
   },
   {
    "duration": 20,
    "start_time": "2022-06-13T13:06:29.431Z"
   },
   {
    "duration": 12,
    "start_time": "2022-06-13T13:06:29.453Z"
   },
   {
    "duration": 9,
    "start_time": "2022-06-13T13:06:29.467Z"
   },
   {
    "duration": 29,
    "start_time": "2022-06-13T13:06:29.478Z"
   },
   {
    "duration": 29,
    "start_time": "2022-06-13T13:06:29.510Z"
   },
   {
    "duration": 8,
    "start_time": "2022-06-13T13:06:29.541Z"
   },
   {
    "duration": 11,
    "start_time": "2022-06-13T13:06:29.551Z"
   },
   {
    "duration": 8,
    "start_time": "2022-06-13T13:06:29.564Z"
   },
   {
    "duration": 5,
    "start_time": "2022-06-13T13:06:29.575Z"
   },
   {
    "duration": 7,
    "start_time": "2022-06-13T13:06:29.582Z"
   },
   {
    "duration": 47,
    "start_time": "2022-06-13T13:06:29.593Z"
   },
   {
    "duration": 9,
    "start_time": "2022-06-13T13:06:29.642Z"
   },
   {
    "duration": 5,
    "start_time": "2022-06-13T13:06:29.653Z"
   },
   {
    "duration": 7,
    "start_time": "2022-06-13T13:06:29.660Z"
   },
   {
    "duration": 8,
    "start_time": "2022-06-13T13:06:29.668Z"
   },
   {
    "duration": 5,
    "start_time": "2022-06-13T13:06:29.677Z"
   },
   {
    "duration": 12,
    "start_time": "2022-06-13T13:06:29.683Z"
   },
   {
    "duration": 31,
    "start_time": "2022-06-13T13:06:29.706Z"
   },
   {
    "duration": 5,
    "start_time": "2022-06-13T13:06:29.740Z"
   },
   {
    "duration": 8,
    "start_time": "2022-06-13T13:06:29.746Z"
   },
   {
    "duration": 5,
    "start_time": "2022-06-13T13:06:29.757Z"
   },
   {
    "duration": 8,
    "start_time": "2022-06-13T13:06:29.764Z"
   },
   {
    "duration": 7,
    "start_time": "2022-06-13T13:06:29.775Z"
   },
   {
    "duration": 1459,
    "start_time": "2022-06-13T13:06:29.784Z"
   },
   {
    "duration": 54,
    "start_time": "2022-06-13T13:06:31.245Z"
   },
   {
    "duration": 21,
    "start_time": "2022-06-13T13:06:33.833Z"
   },
   {
    "duration": 32,
    "start_time": "2022-06-13T13:06:58.130Z"
   },
   {
    "duration": 5,
    "start_time": "2022-06-13T13:07:04.155Z"
   },
   {
    "duration": 96,
    "start_time": "2022-06-13T13:07:04.163Z"
   },
   {
    "duration": 18,
    "start_time": "2022-06-13T13:07:04.261Z"
   },
   {
    "duration": 9,
    "start_time": "2022-06-13T13:07:04.282Z"
   },
   {
    "duration": 44,
    "start_time": "2022-06-13T13:07:04.297Z"
   },
   {
    "duration": 13,
    "start_time": "2022-06-13T13:07:04.344Z"
   },
   {
    "duration": 11,
    "start_time": "2022-06-13T13:07:04.359Z"
   },
   {
    "duration": 12,
    "start_time": "2022-06-13T13:07:04.372Z"
   },
   {
    "duration": 12,
    "start_time": "2022-06-13T13:07:04.387Z"
   },
   {
    "duration": 42,
    "start_time": "2022-06-13T13:07:04.401Z"
   },
   {
    "duration": 49,
    "start_time": "2022-06-13T13:07:04.444Z"
   },
   {
    "duration": 45,
    "start_time": "2022-06-13T13:07:04.500Z"
   },
   {
    "duration": 8,
    "start_time": "2022-06-13T13:07:04.547Z"
   },
   {
    "duration": 6,
    "start_time": "2022-06-13T13:07:04.557Z"
   },
   {
    "duration": 9,
    "start_time": "2022-06-13T13:07:04.565Z"
   },
   {
    "duration": 10,
    "start_time": "2022-06-13T13:07:04.576Z"
   },
   {
    "duration": 167,
    "start_time": "2022-06-13T13:07:04.588Z"
   },
   {
    "duration": 338,
    "start_time": "2022-06-13T13:07:04.758Z"
   },
   {
    "duration": 18,
    "start_time": "2022-06-13T13:07:05.102Z"
   },
   {
    "duration": 28,
    "start_time": "2022-06-13T13:07:05.122Z"
   },
   {
    "duration": 189,
    "start_time": "2022-06-13T13:07:05.153Z"
   },
   {
    "duration": 11,
    "start_time": "2022-06-13T13:07:05.345Z"
   },
   {
    "duration": 13,
    "start_time": "2022-06-13T13:07:05.358Z"
   },
   {
    "duration": 180,
    "start_time": "2022-06-13T13:07:05.376Z"
   },
   {
    "duration": 12,
    "start_time": "2022-06-13T13:07:05.559Z"
   },
   {
    "duration": 11,
    "start_time": "2022-06-13T13:07:05.573Z"
   },
   {
    "duration": 203,
    "start_time": "2022-06-13T13:07:05.585Z"
   },
   {
    "duration": 24,
    "start_time": "2022-06-13T13:07:05.791Z"
   },
   {
    "duration": 24,
    "start_time": "2022-06-13T13:07:05.821Z"
   },
   {
    "duration": 153,
    "start_time": "2022-06-13T13:07:05.847Z"
   },
   {
    "duration": 21,
    "start_time": "2022-06-13T13:07:06.006Z"
   },
   {
    "duration": 21,
    "start_time": "2022-06-13T13:07:06.035Z"
   },
   {
    "duration": 26,
    "start_time": "2022-06-13T13:07:06.058Z"
   },
   {
    "duration": 82,
    "start_time": "2022-06-13T13:07:06.086Z"
   },
   {
    "duration": 16,
    "start_time": "2022-06-13T13:07:06.170Z"
   },
   {
    "duration": 57,
    "start_time": "2022-06-13T13:07:06.189Z"
   },
   {
    "duration": 11,
    "start_time": "2022-06-13T13:07:06.248Z"
   },
   {
    "duration": 9,
    "start_time": "2022-06-13T13:07:06.262Z"
   },
   {
    "duration": 9,
    "start_time": "2022-06-13T13:07:06.273Z"
   },
   {
    "duration": 9,
    "start_time": "2022-06-13T13:07:06.284Z"
   },
   {
    "duration": 62,
    "start_time": "2022-06-13T13:07:06.304Z"
   },
   {
    "duration": 5,
    "start_time": "2022-06-13T13:07:06.369Z"
   },
   {
    "duration": 10,
    "start_time": "2022-06-13T13:07:06.379Z"
   },
   {
    "duration": 40,
    "start_time": "2022-06-13T13:07:06.391Z"
   },
   {
    "duration": 11,
    "start_time": "2022-06-13T13:07:06.434Z"
   },
   {
    "duration": 7,
    "start_time": "2022-06-13T13:07:06.447Z"
   },
   {
    "duration": 9,
    "start_time": "2022-06-13T13:07:06.456Z"
   },
   {
    "duration": 11,
    "start_time": "2022-06-13T13:07:06.468Z"
   },
   {
    "duration": 11,
    "start_time": "2022-06-13T13:07:06.481Z"
   },
   {
    "duration": 55,
    "start_time": "2022-06-13T13:07:06.494Z"
   },
   {
    "duration": 7,
    "start_time": "2022-06-13T13:07:06.552Z"
   },
   {
    "duration": 13,
    "start_time": "2022-06-13T13:07:06.562Z"
   },
   {
    "duration": 9,
    "start_time": "2022-06-13T13:07:06.577Z"
   },
   {
    "duration": 2239,
    "start_time": "2022-06-13T13:07:06.588Z"
   },
   {
    "duration": 10,
    "start_time": "2022-06-13T13:07:08.831Z"
   },
   {
    "duration": 4,
    "start_time": "2022-06-13T13:07:10.645Z"
   },
   {
    "duration": 17,
    "start_time": "2022-06-13T13:07:16.218Z"
   },
   {
    "duration": 8,
    "start_time": "2022-06-13T13:07:22.928Z"
   },
   {
    "duration": 94,
    "start_time": "2022-06-13T13:07:22.938Z"
   },
   {
    "duration": 14,
    "start_time": "2022-06-13T13:07:23.034Z"
   },
   {
    "duration": 15,
    "start_time": "2022-06-13T13:07:23.051Z"
   },
   {
    "duration": 15,
    "start_time": "2022-06-13T13:07:23.069Z"
   },
   {
    "duration": 14,
    "start_time": "2022-06-13T13:07:23.095Z"
   },
   {
    "duration": 15,
    "start_time": "2022-06-13T13:07:23.112Z"
   },
   {
    "duration": 20,
    "start_time": "2022-06-13T13:07:23.129Z"
   },
   {
    "duration": 18,
    "start_time": "2022-06-13T13:07:23.152Z"
   },
   {
    "duration": 19,
    "start_time": "2022-06-13T13:07:23.172Z"
   },
   {
    "duration": 34,
    "start_time": "2022-06-13T13:07:23.193Z"
   },
   {
    "duration": 17,
    "start_time": "2022-06-13T13:07:23.229Z"
   },
   {
    "duration": 24,
    "start_time": "2022-06-13T13:07:23.248Z"
   },
   {
    "duration": 28,
    "start_time": "2022-06-13T13:07:23.275Z"
   },
   {
    "duration": 47,
    "start_time": "2022-06-13T13:07:23.305Z"
   },
   {
    "duration": 7,
    "start_time": "2022-06-13T13:07:23.354Z"
   },
   {
    "duration": 171,
    "start_time": "2022-06-13T13:07:23.363Z"
   },
   {
    "duration": 128,
    "start_time": "2022-06-13T13:07:23.536Z"
   },
   {
    "duration": 9,
    "start_time": "2022-06-13T13:07:23.666Z"
   },
   {
    "duration": 52,
    "start_time": "2022-06-13T13:07:23.677Z"
   },
   {
    "duration": 150,
    "start_time": "2022-06-13T13:07:23.736Z"
   },
   {
    "duration": 25,
    "start_time": "2022-06-13T13:07:23.888Z"
   },
   {
    "duration": 26,
    "start_time": "2022-06-13T13:07:23.920Z"
   },
   {
    "duration": 164,
    "start_time": "2022-06-13T13:07:23.952Z"
   },
   {
    "duration": 12,
    "start_time": "2022-06-13T13:07:24.132Z"
   },
   {
    "duration": 4,
    "start_time": "2022-06-13T13:07:24.146Z"
   },
   {
    "duration": 149,
    "start_time": "2022-06-13T13:07:24.153Z"
   },
   {
    "duration": 14,
    "start_time": "2022-06-13T13:07:24.309Z"
   },
   {
    "duration": 27,
    "start_time": "2022-06-13T13:07:24.326Z"
   },
   {
    "duration": 142,
    "start_time": "2022-06-13T13:07:24.356Z"
   },
   {
    "duration": 17,
    "start_time": "2022-06-13T13:07:24.500Z"
   },
   {
    "duration": 35,
    "start_time": "2022-06-13T13:07:24.520Z"
   },
   {
    "duration": 9,
    "start_time": "2022-06-13T13:07:24.557Z"
   },
   {
    "duration": 21,
    "start_time": "2022-06-13T13:07:24.568Z"
   },
   {
    "duration": 53,
    "start_time": "2022-06-13T13:07:24.592Z"
   },
   {
    "duration": 12,
    "start_time": "2022-06-13T13:07:24.648Z"
   },
   {
    "duration": 12,
    "start_time": "2022-06-13T13:07:24.663Z"
   },
   {
    "duration": 10,
    "start_time": "2022-06-13T13:07:24.677Z"
   },
   {
    "duration": 51,
    "start_time": "2022-06-13T13:07:24.689Z"
   },
   {
    "duration": 7,
    "start_time": "2022-06-13T13:07:24.742Z"
   },
   {
    "duration": 22,
    "start_time": "2022-06-13T13:07:24.752Z"
   },
   {
    "duration": 5,
    "start_time": "2022-06-13T13:07:24.776Z"
   },
   {
    "duration": 9,
    "start_time": "2022-06-13T13:07:24.784Z"
   },
   {
    "duration": 47,
    "start_time": "2022-06-13T13:07:24.797Z"
   },
   {
    "duration": 7,
    "start_time": "2022-06-13T13:07:24.846Z"
   },
   {
    "duration": 5,
    "start_time": "2022-06-13T13:07:24.856Z"
   },
   {
    "duration": 10,
    "start_time": "2022-06-13T13:07:24.864Z"
   },
   {
    "duration": 10,
    "start_time": "2022-06-13T13:07:24.876Z"
   },
   {
    "duration": 35,
    "start_time": "2022-06-13T13:07:24.887Z"
   },
   {
    "duration": 21,
    "start_time": "2022-06-13T13:07:24.926Z"
   },
   {
    "duration": 4,
    "start_time": "2022-06-13T13:07:24.950Z"
   },
   {
    "duration": 9,
    "start_time": "2022-06-13T13:07:24.956Z"
   },
   {
    "duration": 10,
    "start_time": "2022-06-13T13:07:24.967Z"
   },
   {
    "duration": 2349,
    "start_time": "2022-06-13T13:07:24.980Z"
   },
   {
    "duration": 9,
    "start_time": "2022-06-13T13:07:27.331Z"
   },
   {
    "duration": 71,
    "start_time": "2022-06-13T13:07:27.343Z"
   },
   {
    "duration": 5,
    "start_time": "2022-06-13T13:07:49.141Z"
   },
   {
    "duration": 70,
    "start_time": "2022-06-13T13:07:49.149Z"
   },
   {
    "duration": 15,
    "start_time": "2022-06-13T13:07:49.221Z"
   },
   {
    "duration": 13,
    "start_time": "2022-06-13T13:07:49.238Z"
   },
   {
    "duration": 7,
    "start_time": "2022-06-13T13:07:49.253Z"
   },
   {
    "duration": 7,
    "start_time": "2022-06-13T13:07:49.262Z"
   },
   {
    "duration": 27,
    "start_time": "2022-06-13T13:07:49.271Z"
   },
   {
    "duration": 47,
    "start_time": "2022-06-13T13:07:49.299Z"
   },
   {
    "duration": 8,
    "start_time": "2022-06-13T13:07:49.349Z"
   },
   {
    "duration": 7,
    "start_time": "2022-06-13T13:07:49.359Z"
   },
   {
    "duration": 13,
    "start_time": "2022-06-13T13:07:49.368Z"
   },
   {
    "duration": 7,
    "start_time": "2022-06-13T13:07:49.382Z"
   },
   {
    "duration": 56,
    "start_time": "2022-06-13T13:07:49.391Z"
   },
   {
    "duration": 12,
    "start_time": "2022-06-13T13:07:49.450Z"
   },
   {
    "duration": 88,
    "start_time": "2022-06-13T13:07:49.465Z"
   },
   {
    "duration": 8,
    "start_time": "2022-06-13T13:07:49.557Z"
   },
   {
    "duration": 175,
    "start_time": "2022-06-13T13:07:49.567Z"
   },
   {
    "duration": 131,
    "start_time": "2022-06-13T13:07:49.743Z"
   },
   {
    "duration": 30,
    "start_time": "2022-06-13T13:07:49.876Z"
   },
   {
    "duration": 47,
    "start_time": "2022-06-13T13:07:49.908Z"
   },
   {
    "duration": 179,
    "start_time": "2022-06-13T13:07:49.958Z"
   },
   {
    "duration": 15,
    "start_time": "2022-06-13T13:07:50.139Z"
   },
   {
    "duration": 36,
    "start_time": "2022-06-13T13:07:50.156Z"
   },
   {
    "duration": 227,
    "start_time": "2022-06-13T13:07:50.203Z"
   },
   {
    "duration": 13,
    "start_time": "2022-06-13T13:07:50.436Z"
   },
   {
    "duration": 15,
    "start_time": "2022-06-13T13:07:50.454Z"
   },
   {
    "duration": 134,
    "start_time": "2022-06-13T13:07:50.470Z"
   },
   {
    "duration": 20,
    "start_time": "2022-06-13T13:07:50.609Z"
   },
   {
    "duration": 17,
    "start_time": "2022-06-13T13:07:50.638Z"
   },
   {
    "duration": 162,
    "start_time": "2022-06-13T13:07:50.657Z"
   },
   {
    "duration": 12,
    "start_time": "2022-06-13T13:07:50.821Z"
   },
   {
    "duration": 7,
    "start_time": "2022-06-13T13:07:50.836Z"
   },
   {
    "duration": 10,
    "start_time": "2022-06-13T13:07:50.845Z"
   },
   {
    "duration": 22,
    "start_time": "2022-06-13T13:07:50.857Z"
   },
   {
    "duration": 6,
    "start_time": "2022-06-13T13:07:50.881Z"
   },
   {
    "duration": 21,
    "start_time": "2022-06-13T13:07:50.904Z"
   },
   {
    "duration": 11,
    "start_time": "2022-06-13T13:07:50.927Z"
   },
   {
    "duration": 18,
    "start_time": "2022-06-13T13:07:50.939Z"
   },
   {
    "duration": 7,
    "start_time": "2022-06-13T13:07:50.958Z"
   },
   {
    "duration": 9,
    "start_time": "2022-06-13T13:07:50.967Z"
   },
   {
    "duration": 29,
    "start_time": "2022-06-13T13:07:50.978Z"
   },
   {
    "duration": 7,
    "start_time": "2022-06-13T13:07:51.013Z"
   },
   {
    "duration": 17,
    "start_time": "2022-06-13T13:07:51.022Z"
   },
   {
    "duration": 10,
    "start_time": "2022-06-13T13:07:51.041Z"
   },
   {
    "duration": 24,
    "start_time": "2022-06-13T13:07:51.053Z"
   },
   {
    "duration": 60,
    "start_time": "2022-06-13T13:07:51.079Z"
   },
   {
    "duration": 8,
    "start_time": "2022-06-13T13:07:51.142Z"
   },
   {
    "duration": 5,
    "start_time": "2022-06-13T13:07:51.152Z"
   },
   {
    "duration": 8,
    "start_time": "2022-06-13T13:07:51.159Z"
   },
   {
    "duration": 6,
    "start_time": "2022-06-13T13:07:51.169Z"
   },
   {
    "duration": 8,
    "start_time": "2022-06-13T13:07:51.177Z"
   },
   {
    "duration": 45,
    "start_time": "2022-06-13T13:07:51.186Z"
   },
   {
    "duration": 14,
    "start_time": "2022-06-13T13:07:51.233Z"
   },
   {
    "duration": 2062,
    "start_time": "2022-06-13T13:07:51.249Z"
   },
   {
    "duration": 22,
    "start_time": "2022-06-13T13:07:53.317Z"
   },
   {
    "duration": 6,
    "start_time": "2022-06-13T13:07:55.444Z"
   },
   {
    "duration": 12,
    "start_time": "2022-06-13T13:08:26.845Z"
   },
   {
    "duration": 10,
    "start_time": "2022-06-13T13:08:31.497Z"
   },
   {
    "duration": 118,
    "start_time": "2022-06-13T13:08:31.509Z"
   },
   {
    "duration": 12,
    "start_time": "2022-06-13T13:08:31.633Z"
   },
   {
    "duration": 38,
    "start_time": "2022-06-13T13:08:31.647Z"
   },
   {
    "duration": 47,
    "start_time": "2022-06-13T13:08:31.687Z"
   },
   {
    "duration": 48,
    "start_time": "2022-06-13T13:08:31.736Z"
   },
   {
    "duration": 40,
    "start_time": "2022-06-13T13:08:31.787Z"
   },
   {
    "duration": 20,
    "start_time": "2022-06-13T13:08:31.830Z"
   },
   {
    "duration": 27,
    "start_time": "2022-06-13T13:08:31.852Z"
   },
   {
    "duration": 31,
    "start_time": "2022-06-13T13:08:31.881Z"
   },
   {
    "duration": 36,
    "start_time": "2022-06-13T13:08:31.916Z"
   },
   {
    "duration": 11,
    "start_time": "2022-06-13T13:08:31.955Z"
   },
   {
    "duration": 15,
    "start_time": "2022-06-13T13:08:31.968Z"
   },
   {
    "duration": 25,
    "start_time": "2022-06-13T13:08:31.985Z"
   },
   {
    "duration": 38,
    "start_time": "2022-06-13T13:08:32.017Z"
   },
   {
    "duration": 20,
    "start_time": "2022-06-13T13:08:32.057Z"
   },
   {
    "duration": 154,
    "start_time": "2022-06-13T13:08:32.078Z"
   },
   {
    "duration": 263,
    "start_time": "2022-06-13T13:08:32.239Z"
   },
   {
    "duration": 17,
    "start_time": "2022-06-13T13:08:32.512Z"
   },
   {
    "duration": 33,
    "start_time": "2022-06-13T13:08:32.535Z"
   },
   {
    "duration": 130,
    "start_time": "2022-06-13T13:08:32.570Z"
   },
   {
    "duration": 17,
    "start_time": "2022-06-13T13:08:32.712Z"
   },
   {
    "duration": 21,
    "start_time": "2022-06-13T13:08:32.733Z"
   },
   {
    "duration": 152,
    "start_time": "2022-06-13T13:08:32.756Z"
   },
   {
    "duration": 21,
    "start_time": "2022-06-13T13:08:32.912Z"
   },
   {
    "duration": 16,
    "start_time": "2022-06-13T13:08:32.939Z"
   },
   {
    "duration": 153,
    "start_time": "2022-06-13T13:08:32.957Z"
   },
   {
    "duration": 16,
    "start_time": "2022-06-13T13:08:33.113Z"
   },
   {
    "duration": 17,
    "start_time": "2022-06-13T13:08:33.133Z"
   },
   {
    "duration": 127,
    "start_time": "2022-06-13T13:08:33.152Z"
   },
   {
    "duration": 17,
    "start_time": "2022-06-13T13:08:33.281Z"
   },
   {
    "duration": 43,
    "start_time": "2022-06-13T13:08:33.299Z"
   },
   {
    "duration": 20,
    "start_time": "2022-06-13T13:08:33.345Z"
   },
   {
    "duration": 46,
    "start_time": "2022-06-13T13:08:33.367Z"
   },
   {
    "duration": 22,
    "start_time": "2022-06-13T13:08:33.416Z"
   },
   {
    "duration": 21,
    "start_time": "2022-06-13T13:08:33.440Z"
   },
   {
    "duration": 9,
    "start_time": "2022-06-13T13:08:33.463Z"
   },
   {
    "duration": 52,
    "start_time": "2022-06-13T13:08:33.474Z"
   },
   {
    "duration": 15,
    "start_time": "2022-06-13T13:08:33.528Z"
   },
   {
    "duration": 19,
    "start_time": "2022-06-13T13:08:33.547Z"
   },
   {
    "duration": 45,
    "start_time": "2022-06-13T13:08:33.568Z"
   },
   {
    "duration": 32,
    "start_time": "2022-06-13T13:08:33.615Z"
   },
   {
    "duration": 82,
    "start_time": "2022-06-13T13:08:33.649Z"
   },
   {
    "duration": 24,
    "start_time": "2022-06-13T13:08:33.733Z"
   },
   {
    "duration": 17,
    "start_time": "2022-06-13T13:08:33.759Z"
   },
   {
    "duration": 42,
    "start_time": "2022-06-13T13:08:33.778Z"
   },
   {
    "duration": 16,
    "start_time": "2022-06-13T13:08:33.826Z"
   },
   {
    "duration": 27,
    "start_time": "2022-06-13T13:08:33.844Z"
   },
   {
    "duration": 17,
    "start_time": "2022-06-13T13:08:33.874Z"
   },
   {
    "duration": 45,
    "start_time": "2022-06-13T13:08:33.893Z"
   },
   {
    "duration": 15,
    "start_time": "2022-06-13T13:08:33.940Z"
   },
   {
    "duration": 22,
    "start_time": "2022-06-13T13:08:33.957Z"
   },
   {
    "duration": 23,
    "start_time": "2022-06-13T13:08:33.981Z"
   },
   {
    "duration": 1633,
    "start_time": "2022-06-13T13:08:34.005Z"
   },
   {
    "duration": 7,
    "start_time": "2022-06-13T13:08:35.641Z"
   },
   {
    "duration": 97,
    "start_time": "2022-06-13T13:08:35.650Z"
   },
   {
    "duration": 16,
    "start_time": "2022-06-13T13:08:38.833Z"
   },
   {
    "duration": 4,
    "start_time": "2022-06-13T13:08:45.541Z"
   },
   {
    "duration": 75,
    "start_time": "2022-06-13T13:08:45.547Z"
   },
   {
    "duration": 13,
    "start_time": "2022-06-13T13:08:45.625Z"
   },
   {
    "duration": 4,
    "start_time": "2022-06-13T13:08:45.640Z"
   },
   {
    "duration": 9,
    "start_time": "2022-06-13T13:08:45.646Z"
   },
   {
    "duration": 9,
    "start_time": "2022-06-13T13:08:45.657Z"
   },
   {
    "duration": 38,
    "start_time": "2022-06-13T13:08:45.667Z"
   },
   {
    "duration": 7,
    "start_time": "2022-06-13T13:08:45.707Z"
   },
   {
    "duration": 24,
    "start_time": "2022-06-13T13:08:45.716Z"
   },
   {
    "duration": 6,
    "start_time": "2022-06-13T13:08:45.742Z"
   },
   {
    "duration": 7,
    "start_time": "2022-06-13T13:08:45.751Z"
   },
   {
    "duration": 5,
    "start_time": "2022-06-13T13:08:45.760Z"
   },
   {
    "duration": 9,
    "start_time": "2022-06-13T13:08:45.768Z"
   },
   {
    "duration": 54,
    "start_time": "2022-06-13T13:08:45.779Z"
   },
   {
    "duration": 7,
    "start_time": "2022-06-13T13:08:45.835Z"
   },
   {
    "duration": 5,
    "start_time": "2022-06-13T13:08:45.844Z"
   },
   {
    "duration": 111,
    "start_time": "2022-06-13T13:08:45.851Z"
   },
   {
    "duration": 133,
    "start_time": "2022-06-13T13:08:45.964Z"
   },
   {
    "duration": 19,
    "start_time": "2022-06-13T13:08:46.104Z"
   },
   {
    "duration": 17,
    "start_time": "2022-06-13T13:08:46.124Z"
   },
   {
    "duration": 174,
    "start_time": "2022-06-13T13:08:46.143Z"
   },
   {
    "duration": 14,
    "start_time": "2022-06-13T13:08:46.319Z"
   },
   {
    "duration": 8,
    "start_time": "2022-06-13T13:08:46.335Z"
   },
   {
    "duration": 137,
    "start_time": "2022-06-13T13:08:46.345Z"
   },
   {
    "duration": 10,
    "start_time": "2022-06-13T13:08:46.484Z"
   },
   {
    "duration": 39,
    "start_time": "2022-06-13T13:08:46.498Z"
   },
   {
    "duration": 123,
    "start_time": "2022-06-13T13:08:46.539Z"
   },
   {
    "duration": 8,
    "start_time": "2022-06-13T13:08:46.664Z"
   },
   {
    "duration": 5,
    "start_time": "2022-06-13T13:08:46.677Z"
   },
   {
    "duration": 149,
    "start_time": "2022-06-13T13:08:46.696Z"
   },
   {
    "duration": 9,
    "start_time": "2022-06-13T13:08:46.847Z"
   },
   {
    "duration": 6,
    "start_time": "2022-06-13T13:08:46.858Z"
   },
   {
    "duration": 7,
    "start_time": "2022-06-13T13:08:46.866Z"
   },
   {
    "duration": 27,
    "start_time": "2022-06-13T13:08:46.900Z"
   },
   {
    "duration": 9,
    "start_time": "2022-06-13T13:08:46.929Z"
   },
   {
    "duration": 6,
    "start_time": "2022-06-13T13:08:46.940Z"
   },
   {
    "duration": 8,
    "start_time": "2022-06-13T13:08:46.948Z"
   },
   {
    "duration": 6,
    "start_time": "2022-06-13T13:08:46.958Z"
   },
   {
    "duration": 5,
    "start_time": "2022-06-13T13:08:46.966Z"
   },
   {
    "duration": 5,
    "start_time": "2022-06-13T13:08:46.973Z"
   },
   {
    "duration": 35,
    "start_time": "2022-06-13T13:08:46.980Z"
   },
   {
    "duration": 22,
    "start_time": "2022-06-13T13:08:47.017Z"
   },
   {
    "duration": 5,
    "start_time": "2022-06-13T13:08:47.041Z"
   },
   {
    "duration": 8,
    "start_time": "2022-06-13T13:08:47.048Z"
   },
   {
    "duration": 11,
    "start_time": "2022-06-13T13:08:47.058Z"
   },
   {
    "duration": 4,
    "start_time": "2022-06-13T13:08:47.071Z"
   },
   {
    "duration": 6,
    "start_time": "2022-06-13T13:08:47.076Z"
   },
   {
    "duration": 8,
    "start_time": "2022-06-13T13:08:47.084Z"
   },
   {
    "duration": 44,
    "start_time": "2022-06-13T13:08:47.093Z"
   },
   {
    "duration": 7,
    "start_time": "2022-06-13T13:08:47.138Z"
   },
   {
    "duration": 7,
    "start_time": "2022-06-13T13:08:47.147Z"
   },
   {
    "duration": 7,
    "start_time": "2022-06-13T13:08:47.156Z"
   },
   {
    "duration": 9,
    "start_time": "2022-06-13T13:08:47.164Z"
   },
   {
    "duration": 1566,
    "start_time": "2022-06-13T13:08:47.174Z"
   },
   {
    "duration": 72,
    "start_time": "2022-06-13T13:08:48.743Z"
   },
   {
    "duration": 35,
    "start_time": "2022-06-13T13:08:48.817Z"
   },
   {
    "duration": 13,
    "start_time": "2022-06-13T13:09:14.123Z"
   },
   {
    "duration": 5,
    "start_time": "2022-06-13T13:09:19.631Z"
   },
   {
    "duration": 60,
    "start_time": "2022-06-13T13:09:19.639Z"
   },
   {
    "duration": 18,
    "start_time": "2022-06-13T13:09:19.700Z"
   },
   {
    "duration": 21,
    "start_time": "2022-06-13T13:09:19.722Z"
   },
   {
    "duration": 7,
    "start_time": "2022-06-13T13:09:19.745Z"
   },
   {
    "duration": 9,
    "start_time": "2022-06-13T13:09:19.754Z"
   },
   {
    "duration": 7,
    "start_time": "2022-06-13T13:09:19.765Z"
   },
   {
    "duration": 9,
    "start_time": "2022-06-13T13:09:19.774Z"
   },
   {
    "duration": 10,
    "start_time": "2022-06-13T13:09:19.800Z"
   },
   {
    "duration": 28,
    "start_time": "2022-06-13T13:09:19.811Z"
   },
   {
    "duration": 8,
    "start_time": "2022-06-13T13:09:19.840Z"
   },
   {
    "duration": 8,
    "start_time": "2022-06-13T13:09:19.850Z"
   },
   {
    "duration": 7,
    "start_time": "2022-06-13T13:09:19.861Z"
   },
   {
    "duration": 8,
    "start_time": "2022-06-13T13:09:19.869Z"
   },
   {
    "duration": 28,
    "start_time": "2022-06-13T13:09:19.879Z"
   },
   {
    "duration": 28,
    "start_time": "2022-06-13T13:09:19.909Z"
   },
   {
    "duration": 114,
    "start_time": "2022-06-13T13:09:19.939Z"
   },
   {
    "duration": 117,
    "start_time": "2022-06-13T13:09:20.055Z"
   },
   {
    "duration": 8,
    "start_time": "2022-06-13T13:09:20.175Z"
   },
   {
    "duration": 13,
    "start_time": "2022-06-13T13:09:20.185Z"
   },
   {
    "duration": 154,
    "start_time": "2022-06-13T13:09:20.200Z"
   },
   {
    "duration": 10,
    "start_time": "2022-06-13T13:09:20.356Z"
   },
   {
    "duration": 6,
    "start_time": "2022-06-13T13:09:20.368Z"
   },
   {
    "duration": 162,
    "start_time": "2022-06-13T13:09:20.375Z"
   },
   {
    "duration": 10,
    "start_time": "2022-06-13T13:09:20.539Z"
   },
   {
    "duration": 8,
    "start_time": "2022-06-13T13:09:20.551Z"
   },
   {
    "duration": 155,
    "start_time": "2022-06-13T13:09:20.561Z"
   },
   {
    "duration": 19,
    "start_time": "2022-06-13T13:09:20.721Z"
   },
   {
    "duration": 8,
    "start_time": "2022-06-13T13:09:20.746Z"
   },
   {
    "duration": 116,
    "start_time": "2022-06-13T13:09:20.756Z"
   },
   {
    "duration": 8,
    "start_time": "2022-06-13T13:09:20.874Z"
   },
   {
    "duration": 17,
    "start_time": "2022-06-13T13:09:20.883Z"
   },
   {
    "duration": 39,
    "start_time": "2022-06-13T13:09:20.901Z"
   },
   {
    "duration": 15,
    "start_time": "2022-06-13T13:09:20.942Z"
   },
   {
    "duration": 7,
    "start_time": "2022-06-13T13:09:20.959Z"
   },
   {
    "duration": 7,
    "start_time": "2022-06-13T13:09:20.968Z"
   },
   {
    "duration": 5,
    "start_time": "2022-06-13T13:09:20.979Z"
   },
   {
    "duration": 33,
    "start_time": "2022-06-13T13:09:20.986Z"
   },
   {
    "duration": 9,
    "start_time": "2022-06-13T13:09:21.027Z"
   },
   {
    "duration": 6,
    "start_time": "2022-06-13T13:09:21.038Z"
   },
   {
    "duration": 20,
    "start_time": "2022-06-13T13:09:21.046Z"
   },
   {
    "duration": 5,
    "start_time": "2022-06-13T13:09:21.068Z"
   },
   {
    "duration": 8,
    "start_time": "2022-06-13T13:09:21.075Z"
   },
   {
    "duration": 7,
    "start_time": "2022-06-13T13:09:21.084Z"
   },
   {
    "duration": 41,
    "start_time": "2022-06-13T13:09:21.093Z"
   },
   {
    "duration": 5,
    "start_time": "2022-06-13T13:09:21.136Z"
   },
   {
    "duration": 6,
    "start_time": "2022-06-13T13:09:21.143Z"
   },
   {
    "duration": 5,
    "start_time": "2022-06-13T13:09:21.150Z"
   },
   {
    "duration": 5,
    "start_time": "2022-06-13T13:09:21.157Z"
   },
   {
    "duration": 6,
    "start_time": "2022-06-13T13:09:21.163Z"
   },
   {
    "duration": 5,
    "start_time": "2022-06-13T13:09:21.171Z"
   },
   {
    "duration": 7,
    "start_time": "2022-06-13T13:09:21.177Z"
   },
   {
    "duration": 7,
    "start_time": "2022-06-13T13:09:21.186Z"
   },
   {
    "duration": 1516,
    "start_time": "2022-06-13T13:09:21.195Z"
   },
   {
    "duration": 19,
    "start_time": "2022-06-13T13:09:22.713Z"
   },
   {
    "duration": 18,
    "start_time": "2022-06-13T13:09:22.737Z"
   },
   {
    "duration": 18,
    "start_time": "2022-06-13T13:10:19.237Z"
   },
   {
    "duration": 4,
    "start_time": "2022-06-13T13:10:27.867Z"
   },
   {
    "duration": 78,
    "start_time": "2022-06-13T13:10:27.874Z"
   },
   {
    "duration": 14,
    "start_time": "2022-06-13T13:10:27.954Z"
   },
   {
    "duration": 19,
    "start_time": "2022-06-13T13:10:27.970Z"
   },
   {
    "duration": 42,
    "start_time": "2022-06-13T13:10:27.991Z"
   },
   {
    "duration": 26,
    "start_time": "2022-06-13T13:10:28.036Z"
   },
   {
    "duration": 21,
    "start_time": "2022-06-13T13:10:28.064Z"
   },
   {
    "duration": 46,
    "start_time": "2022-06-13T13:10:28.087Z"
   },
   {
    "duration": 10,
    "start_time": "2022-06-13T13:10:28.136Z"
   },
   {
    "duration": 14,
    "start_time": "2022-06-13T13:10:28.148Z"
   },
   {
    "duration": 8,
    "start_time": "2022-06-13T13:10:28.166Z"
   },
   {
    "duration": 13,
    "start_time": "2022-06-13T13:10:28.176Z"
   },
   {
    "duration": 41,
    "start_time": "2022-06-13T13:10:28.192Z"
   },
   {
    "duration": 16,
    "start_time": "2022-06-13T13:10:28.235Z"
   },
   {
    "duration": 15,
    "start_time": "2022-06-13T13:10:28.253Z"
   },
   {
    "duration": 6,
    "start_time": "2022-06-13T13:10:28.272Z"
   },
   {
    "duration": 140,
    "start_time": "2022-06-13T13:10:28.281Z"
   },
   {
    "duration": 125,
    "start_time": "2022-06-13T13:10:28.426Z"
   },
   {
    "duration": 9,
    "start_time": "2022-06-13T13:10:28.553Z"
   },
   {
    "duration": 6,
    "start_time": "2022-06-13T13:10:28.565Z"
   },
   {
    "duration": 166,
    "start_time": "2022-06-13T13:10:28.573Z"
   },
   {
    "duration": 10,
    "start_time": "2022-06-13T13:10:28.741Z"
   },
   {
    "duration": 9,
    "start_time": "2022-06-13T13:10:28.753Z"
   },
   {
    "duration": 183,
    "start_time": "2022-06-13T13:10:28.765Z"
   },
   {
    "duration": 10,
    "start_time": "2022-06-13T13:10:28.951Z"
   },
   {
    "duration": 10,
    "start_time": "2022-06-13T13:10:28.962Z"
   },
   {
    "duration": 171,
    "start_time": "2022-06-13T13:10:28.975Z"
   },
   {
    "duration": 13,
    "start_time": "2022-06-13T13:10:29.148Z"
   },
   {
    "duration": 13,
    "start_time": "2022-06-13T13:10:29.166Z"
   },
   {
    "duration": 297,
    "start_time": "2022-06-13T13:10:29.197Z"
   },
   {
    "duration": 14,
    "start_time": "2022-06-13T13:10:29.500Z"
   },
   {
    "duration": 7,
    "start_time": "2022-06-13T13:10:29.516Z"
   },
   {
    "duration": 8,
    "start_time": "2022-06-13T13:10:29.525Z"
   },
   {
    "duration": 17,
    "start_time": "2022-06-13T13:10:29.535Z"
   },
   {
    "duration": 7,
    "start_time": "2022-06-13T13:10:29.554Z"
   },
   {
    "duration": 7,
    "start_time": "2022-06-13T13:10:29.563Z"
   },
   {
    "duration": 41,
    "start_time": "2022-06-13T13:10:29.572Z"
   },
   {
    "duration": 10,
    "start_time": "2022-06-13T13:10:29.615Z"
   },
   {
    "duration": 5,
    "start_time": "2022-06-13T13:10:29.627Z"
   },
   {
    "duration": 6,
    "start_time": "2022-06-13T13:10:29.634Z"
   },
   {
    "duration": 21,
    "start_time": "2022-06-13T13:10:29.642Z"
   },
   {
    "duration": 6,
    "start_time": "2022-06-13T13:10:29.665Z"
   },
   {
    "duration": 7,
    "start_time": "2022-06-13T13:10:29.673Z"
   },
   {
    "duration": 28,
    "start_time": "2022-06-13T13:10:29.682Z"
   },
   {
    "duration": 7,
    "start_time": "2022-06-13T13:10:29.712Z"
   },
   {
    "duration": 5,
    "start_time": "2022-06-13T13:10:29.721Z"
   },
   {
    "duration": 10,
    "start_time": "2022-06-13T13:10:29.727Z"
   },
   {
    "duration": 8,
    "start_time": "2022-06-13T13:10:29.739Z"
   },
   {
    "duration": 7,
    "start_time": "2022-06-13T13:10:29.749Z"
   },
   {
    "duration": 8,
    "start_time": "2022-06-13T13:10:29.758Z"
   },
   {
    "duration": 5,
    "start_time": "2022-06-13T13:10:29.768Z"
   },
   {
    "duration": 20,
    "start_time": "2022-06-13T13:10:29.775Z"
   },
   {
    "duration": 17,
    "start_time": "2022-06-13T13:10:29.803Z"
   },
   {
    "duration": 779,
    "start_time": "2022-06-13T13:10:29.821Z"
   },
   {
    "duration": 13,
    "start_time": "2022-06-13T13:10:30.602Z"
   },
   {
    "duration": 16,
    "start_time": "2022-06-13T13:10:34.313Z"
   },
   {
    "duration": 13,
    "start_time": "2022-06-13T13:12:17.456Z"
   },
   {
    "duration": 5,
    "start_time": "2022-06-13T13:12:22.820Z"
   },
   {
    "duration": 122,
    "start_time": "2022-06-13T13:12:22.828Z"
   },
   {
    "duration": 12,
    "start_time": "2022-06-13T13:12:22.952Z"
   },
   {
    "duration": 8,
    "start_time": "2022-06-13T13:12:22.966Z"
   },
   {
    "duration": 7,
    "start_time": "2022-06-13T13:12:22.977Z"
   },
   {
    "duration": 37,
    "start_time": "2022-06-13T13:12:22.986Z"
   },
   {
    "duration": 11,
    "start_time": "2022-06-13T13:12:23.025Z"
   },
   {
    "duration": 16,
    "start_time": "2022-06-13T13:12:23.038Z"
   },
   {
    "duration": 21,
    "start_time": "2022-06-13T13:12:23.056Z"
   },
   {
    "duration": 12,
    "start_time": "2022-06-13T13:12:23.079Z"
   },
   {
    "duration": 27,
    "start_time": "2022-06-13T13:12:23.094Z"
   },
   {
    "duration": 6,
    "start_time": "2022-06-13T13:12:23.123Z"
   },
   {
    "duration": 8,
    "start_time": "2022-06-13T13:12:23.131Z"
   },
   {
    "duration": 11,
    "start_time": "2022-06-13T13:12:23.141Z"
   },
   {
    "duration": 7,
    "start_time": "2022-06-13T13:12:23.155Z"
   },
   {
    "duration": 10,
    "start_time": "2022-06-13T13:12:23.164Z"
   },
   {
    "duration": 134,
    "start_time": "2022-06-13T13:12:23.176Z"
   },
   {
    "duration": 109,
    "start_time": "2022-06-13T13:12:23.314Z"
   },
   {
    "duration": 9,
    "start_time": "2022-06-13T13:12:23.425Z"
   },
   {
    "duration": 6,
    "start_time": "2022-06-13T13:12:23.436Z"
   },
   {
    "duration": 152,
    "start_time": "2022-06-13T13:12:23.444Z"
   },
   {
    "duration": 14,
    "start_time": "2022-06-13T13:12:23.604Z"
   },
   {
    "duration": 8,
    "start_time": "2022-06-13T13:12:23.620Z"
   },
   {
    "duration": 131,
    "start_time": "2022-06-13T13:12:23.629Z"
   },
   {
    "duration": 9,
    "start_time": "2022-06-13T13:12:23.762Z"
   },
   {
    "duration": 27,
    "start_time": "2022-06-13T13:12:23.773Z"
   },
   {
    "duration": 123,
    "start_time": "2022-06-13T13:12:23.801Z"
   },
   {
    "duration": 9,
    "start_time": "2022-06-13T13:12:23.927Z"
   },
   {
    "duration": 15,
    "start_time": "2022-06-13T13:12:23.941Z"
   },
   {
    "duration": 136,
    "start_time": "2022-06-13T13:12:23.958Z"
   },
   {
    "duration": 22,
    "start_time": "2022-06-13T13:12:24.103Z"
   },
   {
    "duration": 9,
    "start_time": "2022-06-13T13:12:24.127Z"
   },
   {
    "duration": 9,
    "start_time": "2022-06-13T13:12:24.138Z"
   },
   {
    "duration": 22,
    "start_time": "2022-06-13T13:12:24.149Z"
   },
   {
    "duration": 9,
    "start_time": "2022-06-13T13:12:24.173Z"
   },
   {
    "duration": 19,
    "start_time": "2022-06-13T13:12:24.184Z"
   },
   {
    "duration": 17,
    "start_time": "2022-06-13T13:12:24.204Z"
   },
   {
    "duration": 10,
    "start_time": "2022-06-13T13:12:24.223Z"
   },
   {
    "duration": 10,
    "start_time": "2022-06-13T13:12:24.235Z"
   },
   {
    "duration": 9,
    "start_time": "2022-06-13T13:12:24.247Z"
   },
   {
    "duration": 28,
    "start_time": "2022-06-13T13:12:24.258Z"
   },
   {
    "duration": 7,
    "start_time": "2022-06-13T13:12:24.288Z"
   },
   {
    "duration": 18,
    "start_time": "2022-06-13T13:12:24.302Z"
   },
   {
    "duration": 8,
    "start_time": "2022-06-13T13:12:24.322Z"
   },
   {
    "duration": 5,
    "start_time": "2022-06-13T13:12:24.332Z"
   },
   {
    "duration": 5,
    "start_time": "2022-06-13T13:12:24.339Z"
   },
   {
    "duration": 6,
    "start_time": "2022-06-13T13:12:24.345Z"
   },
   {
    "duration": 11,
    "start_time": "2022-06-13T13:12:24.353Z"
   },
   {
    "duration": 11,
    "start_time": "2022-06-13T13:12:24.366Z"
   },
   {
    "duration": 21,
    "start_time": "2022-06-13T13:12:24.379Z"
   },
   {
    "duration": 31,
    "start_time": "2022-06-13T13:12:24.401Z"
   },
   {
    "duration": 13,
    "start_time": "2022-06-13T13:12:24.434Z"
   },
   {
    "duration": 19,
    "start_time": "2022-06-13T13:12:24.449Z"
   },
   {
    "duration": 1235,
    "start_time": "2022-06-13T13:12:24.470Z"
   },
   {
    "duration": 6,
    "start_time": "2022-06-13T13:12:25.711Z"
   },
   {
    "duration": 30,
    "start_time": "2022-06-13T13:12:25.719Z"
   },
   {
    "duration": 4,
    "start_time": "2022-06-13T13:12:52.843Z"
   },
   {
    "duration": 63,
    "start_time": "2022-06-13T13:12:52.850Z"
   },
   {
    "duration": 31,
    "start_time": "2022-06-13T13:12:52.916Z"
   },
   {
    "duration": 8,
    "start_time": "2022-06-13T13:12:52.950Z"
   },
   {
    "duration": 12,
    "start_time": "2022-06-13T13:12:52.961Z"
   },
   {
    "duration": 26,
    "start_time": "2022-06-13T13:12:52.975Z"
   },
   {
    "duration": 24,
    "start_time": "2022-06-13T13:12:53.002Z"
   },
   {
    "duration": 11,
    "start_time": "2022-06-13T13:12:53.029Z"
   },
   {
    "duration": 10,
    "start_time": "2022-06-13T13:12:53.042Z"
   },
   {
    "duration": 8,
    "start_time": "2022-06-13T13:12:53.053Z"
   },
   {
    "duration": 35,
    "start_time": "2022-06-13T13:12:53.064Z"
   },
   {
    "duration": 10,
    "start_time": "2022-06-13T13:12:53.100Z"
   },
   {
    "duration": 16,
    "start_time": "2022-06-13T13:12:53.113Z"
   },
   {
    "duration": 10,
    "start_time": "2022-06-13T13:12:53.132Z"
   },
   {
    "duration": 10,
    "start_time": "2022-06-13T13:12:53.145Z"
   },
   {
    "duration": 6,
    "start_time": "2022-06-13T13:12:53.157Z"
   },
   {
    "duration": 174,
    "start_time": "2022-06-13T13:12:53.165Z"
   },
   {
    "duration": 121,
    "start_time": "2022-06-13T13:12:53.342Z"
   },
   {
    "duration": 13,
    "start_time": "2022-06-13T13:12:53.465Z"
   },
   {
    "duration": 7,
    "start_time": "2022-06-13T13:12:53.496Z"
   },
   {
    "duration": 150,
    "start_time": "2022-06-13T13:12:53.505Z"
   },
   {
    "duration": 12,
    "start_time": "2022-06-13T13:12:53.658Z"
   },
   {
    "duration": 16,
    "start_time": "2022-06-13T13:12:53.672Z"
   },
   {
    "duration": 174,
    "start_time": "2022-06-13T13:12:53.695Z"
   },
   {
    "duration": 9,
    "start_time": "2022-06-13T13:12:53.872Z"
   },
   {
    "duration": 43,
    "start_time": "2022-06-13T13:12:53.883Z"
   },
   {
    "duration": 168,
    "start_time": "2022-06-13T13:12:53.929Z"
   },
   {
    "duration": 12,
    "start_time": "2022-06-13T13:12:54.099Z"
   },
   {
    "duration": 20,
    "start_time": "2022-06-13T13:12:54.116Z"
   },
   {
    "duration": 116,
    "start_time": "2022-06-13T13:12:54.138Z"
   },
   {
    "duration": 13,
    "start_time": "2022-06-13T13:12:54.256Z"
   },
   {
    "duration": 28,
    "start_time": "2022-06-13T13:12:54.271Z"
   },
   {
    "duration": 27,
    "start_time": "2022-06-13T13:12:54.302Z"
   },
   {
    "duration": 29,
    "start_time": "2022-06-13T13:12:54.331Z"
   },
   {
    "duration": 14,
    "start_time": "2022-06-13T13:12:54.362Z"
   },
   {
    "duration": 15,
    "start_time": "2022-06-13T13:12:54.378Z"
   },
   {
    "duration": 28,
    "start_time": "2022-06-13T13:12:54.403Z"
   },
   {
    "duration": 16,
    "start_time": "2022-06-13T13:12:54.433Z"
   },
   {
    "duration": 10,
    "start_time": "2022-06-13T13:12:54.451Z"
   },
   {
    "duration": 9,
    "start_time": "2022-06-13T13:12:54.463Z"
   },
   {
    "duration": 40,
    "start_time": "2022-06-13T13:12:54.475Z"
   },
   {
    "duration": 10,
    "start_time": "2022-06-13T13:12:54.517Z"
   },
   {
    "duration": 15,
    "start_time": "2022-06-13T13:12:54.529Z"
   },
   {
    "duration": 15,
    "start_time": "2022-06-13T13:12:54.546Z"
   },
   {
    "duration": 20,
    "start_time": "2022-06-13T13:12:54.564Z"
   },
   {
    "duration": 8,
    "start_time": "2022-06-13T13:12:54.586Z"
   },
   {
    "duration": 41,
    "start_time": "2022-06-13T13:12:54.600Z"
   },
   {
    "duration": 7,
    "start_time": "2022-06-13T13:12:54.645Z"
   },
   {
    "duration": 15,
    "start_time": "2022-06-13T13:12:54.654Z"
   },
   {
    "duration": 11,
    "start_time": "2022-06-13T13:12:54.672Z"
   },
   {
    "duration": 17,
    "start_time": "2022-06-13T13:12:54.685Z"
   },
   {
    "duration": 22,
    "start_time": "2022-06-13T13:12:54.709Z"
   },
   {
    "duration": 7,
    "start_time": "2022-06-13T13:12:54.733Z"
   },
   {
    "duration": 2060,
    "start_time": "2022-06-13T13:12:54.742Z"
   },
   {
    "duration": 18,
    "start_time": "2022-06-13T13:12:56.805Z"
   },
   {
    "duration": 20,
    "start_time": "2022-06-13T13:12:56.826Z"
   },
   {
    "duration": 29,
    "start_time": "2022-06-13T13:15:36.194Z"
   },
   {
    "duration": 10,
    "start_time": "2022-06-13T13:15:42.194Z"
   },
   {
    "duration": 183,
    "start_time": "2022-06-13T13:15:42.209Z"
   },
   {
    "duration": 17,
    "start_time": "2022-06-13T13:15:42.394Z"
   },
   {
    "duration": 75,
    "start_time": "2022-06-13T13:15:42.412Z"
   },
   {
    "duration": 81,
    "start_time": "2022-06-13T13:15:42.490Z"
   },
   {
    "duration": 22,
    "start_time": "2022-06-13T13:15:42.574Z"
   },
   {
    "duration": 68,
    "start_time": "2022-06-13T13:15:42.597Z"
   },
   {
    "duration": 10,
    "start_time": "2022-06-13T13:15:42.667Z"
   },
   {
    "duration": 8,
    "start_time": "2022-06-13T13:15:42.678Z"
   },
   {
    "duration": 10,
    "start_time": "2022-06-13T13:15:42.688Z"
   },
   {
    "duration": 71,
    "start_time": "2022-06-13T13:15:42.699Z"
   },
   {
    "duration": 7,
    "start_time": "2022-06-13T13:15:42.772Z"
   },
   {
    "duration": 10,
    "start_time": "2022-06-13T13:15:42.781Z"
   },
   {
    "duration": 76,
    "start_time": "2022-06-13T13:15:42.795Z"
   },
   {
    "duration": 9,
    "start_time": "2022-06-13T13:15:42.874Z"
   },
   {
    "duration": 7,
    "start_time": "2022-06-13T13:15:42.884Z"
   },
   {
    "duration": 197,
    "start_time": "2022-06-13T13:15:42.893Z"
   },
   {
    "duration": 151,
    "start_time": "2022-06-13T13:15:43.092Z"
   },
   {
    "duration": 9,
    "start_time": "2022-06-13T13:15:43.245Z"
   },
   {
    "duration": 4,
    "start_time": "2022-06-13T13:15:43.255Z"
   },
   {
    "duration": 146,
    "start_time": "2022-06-13T13:15:43.261Z"
   },
   {
    "duration": 16,
    "start_time": "2022-06-13T13:15:43.413Z"
   },
   {
    "duration": 40,
    "start_time": "2022-06-13T13:15:43.435Z"
   },
   {
    "duration": 151,
    "start_time": "2022-06-13T13:15:43.477Z"
   },
   {
    "duration": 8,
    "start_time": "2022-06-13T13:15:43.630Z"
   },
   {
    "duration": 39,
    "start_time": "2022-06-13T13:15:43.640Z"
   },
   {
    "duration": 170,
    "start_time": "2022-06-13T13:15:43.682Z"
   },
   {
    "duration": 13,
    "start_time": "2022-06-13T13:15:43.854Z"
   },
   {
    "duration": 15,
    "start_time": "2022-06-13T13:15:43.870Z"
   },
   {
    "duration": 179,
    "start_time": "2022-06-13T13:15:43.888Z"
   },
   {
    "duration": 12,
    "start_time": "2022-06-13T13:15:44.070Z"
   },
   {
    "duration": 26,
    "start_time": "2022-06-13T13:15:44.084Z"
   },
   {
    "duration": 29,
    "start_time": "2022-06-13T13:15:44.112Z"
   },
   {
    "duration": 43,
    "start_time": "2022-06-13T13:15:44.143Z"
   },
   {
    "duration": 10,
    "start_time": "2022-06-13T13:15:44.188Z"
   },
   {
    "duration": 83,
    "start_time": "2022-06-13T13:15:44.200Z"
   },
   {
    "duration": 7,
    "start_time": "2022-06-13T13:15:44.285Z"
   },
   {
    "duration": 59,
    "start_time": "2022-06-13T13:15:44.306Z"
   },
   {
    "duration": 7,
    "start_time": "2022-06-13T13:15:44.367Z"
   },
   {
    "duration": 7,
    "start_time": "2022-06-13T13:15:44.376Z"
   },
   {
    "duration": 34,
    "start_time": "2022-06-13T13:15:44.387Z"
   },
   {
    "duration": 51,
    "start_time": "2022-06-13T13:15:44.423Z"
   },
   {
    "duration": 13,
    "start_time": "2022-06-13T13:15:44.476Z"
   },
   {
    "duration": 77,
    "start_time": "2022-06-13T13:15:44.491Z"
   },
   {
    "duration": 10,
    "start_time": "2022-06-13T13:15:44.570Z"
   },
   {
    "duration": 9,
    "start_time": "2022-06-13T13:15:44.582Z"
   },
   {
    "duration": 83,
    "start_time": "2022-06-13T13:15:44.593Z"
   },
   {
    "duration": 9,
    "start_time": "2022-06-13T13:15:44.679Z"
   },
   {
    "duration": 67,
    "start_time": "2022-06-13T13:15:44.690Z"
   },
   {
    "duration": 11,
    "start_time": "2022-06-13T13:15:44.759Z"
   },
   {
    "duration": 9,
    "start_time": "2022-06-13T13:15:44.772Z"
   },
   {
    "duration": 8,
    "start_time": "2022-06-13T13:15:44.783Z"
   },
   {
    "duration": 76,
    "start_time": "2022-06-13T13:15:44.793Z"
   },
   {
    "duration": 3711,
    "start_time": "2022-06-13T13:15:44.872Z"
   },
   {
    "duration": 26,
    "start_time": "2022-06-13T13:15:48.585Z"
   },
   {
    "duration": 68,
    "start_time": "2022-06-13T13:15:48.615Z"
   },
   {
    "duration": 21,
    "start_time": "2022-06-13T13:17:38.156Z"
   },
   {
    "duration": 20,
    "start_time": "2022-06-13T13:20:37.831Z"
   },
   {
    "duration": 19,
    "start_time": "2022-06-13T13:21:50.941Z"
   },
   {
    "duration": 26,
    "start_time": "2022-06-13T13:22:48.148Z"
   },
   {
    "duration": 7,
    "start_time": "2022-06-13T13:23:07.880Z"
   },
   {
    "duration": 4,
    "start_time": "2022-06-13T13:24:09.966Z"
   },
   {
    "duration": 14,
    "start_time": "2022-06-13T13:24:45.838Z"
   },
   {
    "duration": 11,
    "start_time": "2022-06-13T13:24:54.239Z"
   },
   {
    "duration": 118,
    "start_time": "2022-06-13T13:24:54.254Z"
   },
   {
    "duration": 13,
    "start_time": "2022-06-13T13:24:54.374Z"
   },
   {
    "duration": 14,
    "start_time": "2022-06-13T13:24:54.389Z"
   },
   {
    "duration": 35,
    "start_time": "2022-06-13T13:24:54.407Z"
   },
   {
    "duration": 46,
    "start_time": "2022-06-13T13:24:54.445Z"
   },
   {
    "duration": 82,
    "start_time": "2022-06-13T13:24:54.494Z"
   },
   {
    "duration": 54,
    "start_time": "2022-06-13T13:24:54.577Z"
   },
   {
    "duration": 42,
    "start_time": "2022-06-13T13:24:54.633Z"
   },
   {
    "duration": 6,
    "start_time": "2022-06-13T13:24:54.679Z"
   },
   {
    "duration": 12,
    "start_time": "2022-06-13T13:24:54.687Z"
   },
   {
    "duration": 72,
    "start_time": "2022-06-13T13:24:54.701Z"
   },
   {
    "duration": 9,
    "start_time": "2022-06-13T13:24:54.775Z"
   },
   {
    "duration": 7,
    "start_time": "2022-06-13T13:24:54.786Z"
   },
   {
    "duration": 70,
    "start_time": "2022-06-13T13:24:54.801Z"
   },
   {
    "duration": 9,
    "start_time": "2022-06-13T13:24:54.873Z"
   },
   {
    "duration": 146,
    "start_time": "2022-06-13T13:24:54.883Z"
   },
   {
    "duration": 136,
    "start_time": "2022-06-13T13:24:55.038Z"
   },
   {
    "duration": 22,
    "start_time": "2022-06-13T13:24:55.178Z"
   },
   {
    "duration": 48,
    "start_time": "2022-06-13T13:24:55.202Z"
   },
   {
    "duration": 191,
    "start_time": "2022-06-13T13:24:55.252Z"
   },
   {
    "duration": 17,
    "start_time": "2022-06-13T13:24:55.448Z"
   },
   {
    "duration": 14,
    "start_time": "2022-06-13T13:24:55.475Z"
   },
   {
    "duration": 182,
    "start_time": "2022-06-13T13:24:55.491Z"
   },
   {
    "duration": 9,
    "start_time": "2022-06-13T13:24:55.675Z"
   },
   {
    "duration": 13,
    "start_time": "2022-06-13T13:24:55.704Z"
   },
   {
    "duration": 242,
    "start_time": "2022-06-13T13:24:55.719Z"
   },
   {
    "duration": 11,
    "start_time": "2022-06-13T13:24:55.967Z"
   },
   {
    "duration": 9,
    "start_time": "2022-06-13T13:24:55.981Z"
   },
   {
    "duration": 225,
    "start_time": "2022-06-13T13:24:55.993Z"
   },
   {
    "duration": 10,
    "start_time": "2022-06-13T13:24:56.221Z"
   },
   {
    "duration": 48,
    "start_time": "2022-06-13T13:24:56.233Z"
   },
   {
    "duration": 10,
    "start_time": "2022-06-13T13:24:56.283Z"
   },
   {
    "duration": 56,
    "start_time": "2022-06-13T13:24:56.308Z"
   },
   {
    "duration": 6,
    "start_time": "2022-06-13T13:24:56.367Z"
   },
   {
    "duration": 9,
    "start_time": "2022-06-13T13:24:56.376Z"
   },
   {
    "duration": 36,
    "start_time": "2022-06-13T13:24:56.387Z"
   },
   {
    "duration": 49,
    "start_time": "2022-06-13T13:24:56.428Z"
   },
   {
    "duration": 8,
    "start_time": "2022-06-13T13:24:56.478Z"
   },
   {
    "duration": 74,
    "start_time": "2022-06-13T13:24:56.488Z"
   },
   {
    "duration": 20,
    "start_time": "2022-06-13T13:24:56.564Z"
   },
   {
    "duration": 4,
    "start_time": "2022-06-13T13:24:56.585Z"
   },
   {
    "duration": 51,
    "start_time": "2022-06-13T13:24:56.591Z"
   },
   {
    "duration": 29,
    "start_time": "2022-06-13T13:24:56.644Z"
   },
   {
    "duration": 7,
    "start_time": "2022-06-13T13:24:56.675Z"
   },
   {
    "duration": 5,
    "start_time": "2022-06-13T13:24:56.684Z"
   },
   {
    "duration": 33,
    "start_time": "2022-06-13T13:24:56.690Z"
   },
   {
    "duration": 40,
    "start_time": "2022-06-13T13:24:56.725Z"
   },
   {
    "duration": 7,
    "start_time": "2022-06-13T13:24:56.767Z"
   },
   {
    "duration": 7,
    "start_time": "2022-06-13T13:24:56.776Z"
   },
   {
    "duration": 14,
    "start_time": "2022-06-13T13:24:56.785Z"
   },
   {
    "duration": 14,
    "start_time": "2022-06-13T13:24:56.800Z"
   },
   {
    "duration": 62,
    "start_time": "2022-06-13T13:24:56.815Z"
   },
   {
    "duration": 2730,
    "start_time": "2022-06-13T13:24:56.880Z"
   },
   {
    "duration": 36,
    "start_time": "2022-06-13T13:24:59.612Z"
   },
   {
    "duration": 22,
    "start_time": "2022-06-13T13:24:59.650Z"
   },
   {
    "duration": 5,
    "start_time": "2022-06-13T13:25:03.277Z"
   },
   {
    "duration": 9,
    "start_time": "2022-06-13T13:25:43.122Z"
   },
   {
    "duration": 7,
    "start_time": "2022-06-13T13:28:37.079Z"
   },
   {
    "duration": 178,
    "start_time": "2022-06-13T13:28:37.089Z"
   },
   {
    "duration": 16,
    "start_time": "2022-06-13T13:28:37.269Z"
   },
   {
    "duration": 18,
    "start_time": "2022-06-13T13:28:37.287Z"
   },
   {
    "duration": 43,
    "start_time": "2022-06-13T13:28:37.308Z"
   },
   {
    "duration": 13,
    "start_time": "2022-06-13T13:28:37.353Z"
   },
   {
    "duration": 14,
    "start_time": "2022-06-13T13:28:37.368Z"
   },
   {
    "duration": 54,
    "start_time": "2022-06-13T13:28:37.385Z"
   },
   {
    "duration": 19,
    "start_time": "2022-06-13T13:28:37.441Z"
   },
   {
    "duration": 20,
    "start_time": "2022-06-13T13:28:37.463Z"
   },
   {
    "duration": 62,
    "start_time": "2022-06-13T13:28:37.488Z"
   },
   {
    "duration": 9,
    "start_time": "2022-06-13T13:28:37.553Z"
   },
   {
    "duration": 15,
    "start_time": "2022-06-13T13:28:37.564Z"
   },
   {
    "duration": 11,
    "start_time": "2022-06-13T13:28:37.581Z"
   },
   {
    "duration": 39,
    "start_time": "2022-06-13T13:28:37.608Z"
   },
   {
    "duration": 15,
    "start_time": "2022-06-13T13:28:37.649Z"
   },
   {
    "duration": 119,
    "start_time": "2022-06-13T13:28:37.666Z"
   },
   {
    "duration": 355,
    "start_time": "2022-06-13T13:28:37.788Z"
   },
   {
    "duration": 8,
    "start_time": "2022-06-13T13:28:38.146Z"
   },
   {
    "duration": 12,
    "start_time": "2022-06-13T13:28:38.157Z"
   },
   {
    "duration": 236,
    "start_time": "2022-06-13T13:28:38.171Z"
   },
   {
    "duration": 25,
    "start_time": "2022-06-13T13:28:38.414Z"
   },
   {
    "duration": 23,
    "start_time": "2022-06-13T13:28:38.444Z"
   },
   {
    "duration": 204,
    "start_time": "2022-06-13T13:28:38.470Z"
   },
   {
    "duration": 22,
    "start_time": "2022-06-13T13:28:38.676Z"
   },
   {
    "duration": 53,
    "start_time": "2022-06-13T13:28:38.700Z"
   },
   {
    "duration": 149,
    "start_time": "2022-06-13T13:28:38.755Z"
   },
   {
    "duration": 19,
    "start_time": "2022-06-13T13:28:38.906Z"
   },
   {
    "duration": 17,
    "start_time": "2022-06-13T13:28:38.934Z"
   },
   {
    "duration": 200,
    "start_time": "2022-06-13T13:28:38.953Z"
   },
   {
    "duration": 18,
    "start_time": "2022-06-13T13:28:39.155Z"
   },
   {
    "duration": 50,
    "start_time": "2022-06-13T13:28:39.176Z"
   },
   {
    "duration": 27,
    "start_time": "2022-06-13T13:28:39.232Z"
   },
   {
    "duration": 46,
    "start_time": "2022-06-13T13:28:39.262Z"
   },
   {
    "duration": 51,
    "start_time": "2022-06-13T13:28:39.310Z"
   },
   {
    "duration": 27,
    "start_time": "2022-06-13T13:28:39.364Z"
   },
   {
    "duration": 63,
    "start_time": "2022-06-13T13:28:39.393Z"
   },
   {
    "duration": 14,
    "start_time": "2022-06-13T13:28:39.459Z"
   },
   {
    "duration": 12,
    "start_time": "2022-06-13T13:28:39.475Z"
   },
   {
    "duration": 64,
    "start_time": "2022-06-13T13:28:39.493Z"
   },
   {
    "duration": 47,
    "start_time": "2022-06-13T13:28:39.560Z"
   },
   {
    "duration": 63,
    "start_time": "2022-06-13T13:28:39.609Z"
   },
   {
    "duration": 29,
    "start_time": "2022-06-13T13:28:39.675Z"
   },
   {
    "duration": 65,
    "start_time": "2022-06-13T13:28:39.707Z"
   },
   {
    "duration": 0,
    "start_time": "2022-06-13T13:28:39.775Z"
   },
   {
    "duration": 0,
    "start_time": "2022-06-13T13:28:39.777Z"
   },
   {
    "duration": 0,
    "start_time": "2022-06-13T13:28:39.779Z"
   },
   {
    "duration": 0,
    "start_time": "2022-06-13T13:28:39.781Z"
   },
   {
    "duration": 0,
    "start_time": "2022-06-13T13:28:39.783Z"
   },
   {
    "duration": 0,
    "start_time": "2022-06-13T13:28:39.785Z"
   },
   {
    "duration": 0,
    "start_time": "2022-06-13T13:28:39.787Z"
   },
   {
    "duration": 0,
    "start_time": "2022-06-13T13:28:39.788Z"
   },
   {
    "duration": 0,
    "start_time": "2022-06-13T13:28:39.790Z"
   },
   {
    "duration": 0,
    "start_time": "2022-06-13T13:28:39.791Z"
   },
   {
    "duration": 0,
    "start_time": "2022-06-13T13:28:39.792Z"
   },
   {
    "duration": 0,
    "start_time": "2022-06-13T13:28:39.794Z"
   },
   {
    "duration": 0,
    "start_time": "2022-06-13T13:28:39.794Z"
   },
   {
    "duration": 0,
    "start_time": "2022-06-13T13:28:39.795Z"
   },
   {
    "duration": 25,
    "start_time": "2022-06-13T13:28:58.384Z"
   },
   {
    "duration": 7,
    "start_time": "2022-06-13T13:29:24.666Z"
   },
   {
    "duration": 204,
    "start_time": "2022-06-13T13:29:24.676Z"
   },
   {
    "duration": 22,
    "start_time": "2022-06-13T13:29:24.882Z"
   },
   {
    "duration": 45,
    "start_time": "2022-06-13T13:29:24.910Z"
   },
   {
    "duration": 8,
    "start_time": "2022-06-13T13:29:24.957Z"
   },
   {
    "duration": 9,
    "start_time": "2022-06-13T13:29:24.967Z"
   },
   {
    "duration": 12,
    "start_time": "2022-06-13T13:29:24.978Z"
   },
   {
    "duration": 11,
    "start_time": "2022-06-13T13:29:24.992Z"
   },
   {
    "duration": 39,
    "start_time": "2022-06-13T13:29:25.009Z"
   },
   {
    "duration": 21,
    "start_time": "2022-06-13T13:29:25.051Z"
   },
   {
    "duration": 8,
    "start_time": "2022-06-13T13:29:25.074Z"
   },
   {
    "duration": 12,
    "start_time": "2022-06-13T13:29:25.084Z"
   },
   {
    "duration": 49,
    "start_time": "2022-06-13T13:29:25.098Z"
   },
   {
    "duration": 8,
    "start_time": "2022-06-13T13:29:25.150Z"
   },
   {
    "duration": 9,
    "start_time": "2022-06-13T13:29:25.160Z"
   },
   {
    "duration": 7,
    "start_time": "2022-06-13T13:29:25.172Z"
   },
   {
    "duration": 162,
    "start_time": "2022-06-13T13:29:25.181Z"
   },
   {
    "duration": 130,
    "start_time": "2022-06-13T13:29:25.344Z"
   },
   {
    "duration": 11,
    "start_time": "2022-06-13T13:29:25.476Z"
   },
   {
    "duration": 48,
    "start_time": "2022-06-13T13:29:25.494Z"
   },
   {
    "duration": 195,
    "start_time": "2022-06-13T13:29:25.545Z"
   },
   {
    "duration": 11,
    "start_time": "2022-06-13T13:29:25.743Z"
   },
   {
    "duration": 4,
    "start_time": "2022-06-13T13:29:25.756Z"
   },
   {
    "duration": 180,
    "start_time": "2022-06-13T13:29:25.764Z"
   },
   {
    "duration": 9,
    "start_time": "2022-06-13T13:29:25.946Z"
   },
   {
    "duration": 6,
    "start_time": "2022-06-13T13:29:25.958Z"
   },
   {
    "duration": 165,
    "start_time": "2022-06-13T13:29:25.966Z"
   },
   {
    "duration": 12,
    "start_time": "2022-06-13T13:29:26.145Z"
   },
   {
    "duration": 8,
    "start_time": "2022-06-13T13:29:26.159Z"
   },
   {
    "duration": 141,
    "start_time": "2022-06-13T13:29:26.169Z"
   },
   {
    "duration": 14,
    "start_time": "2022-06-13T13:29:26.316Z"
   },
   {
    "duration": 24,
    "start_time": "2022-06-13T13:29:26.331Z"
   },
   {
    "duration": 8,
    "start_time": "2022-06-13T13:29:26.357Z"
   },
   {
    "duration": 41,
    "start_time": "2022-06-13T13:29:26.368Z"
   },
   {
    "duration": 30,
    "start_time": "2022-06-13T13:29:26.414Z"
   },
   {
    "duration": 9,
    "start_time": "2022-06-13T13:29:26.446Z"
   },
   {
    "duration": 9,
    "start_time": "2022-06-13T13:29:26.457Z"
   },
   {
    "duration": 10,
    "start_time": "2022-06-13T13:29:26.468Z"
   },
   {
    "duration": 7,
    "start_time": "2022-06-13T13:29:26.481Z"
   },
   {
    "duration": 44,
    "start_time": "2022-06-13T13:29:26.490Z"
   },
   {
    "duration": 33,
    "start_time": "2022-06-13T13:29:26.536Z"
   },
   {
    "duration": 7,
    "start_time": "2022-06-13T13:29:26.572Z"
   },
   {
    "duration": 10,
    "start_time": "2022-06-13T13:29:26.581Z"
   },
   {
    "duration": 53,
    "start_time": "2022-06-13T13:29:26.594Z"
   },
   {
    "duration": 15,
    "start_time": "2022-06-13T13:29:26.649Z"
   },
   {
    "duration": 13,
    "start_time": "2022-06-13T13:29:26.666Z"
   },
   {
    "duration": 12,
    "start_time": "2022-06-13T13:29:26.681Z"
   },
   {
    "duration": 44,
    "start_time": "2022-06-13T13:29:26.705Z"
   },
   {
    "duration": 5,
    "start_time": "2022-06-13T13:29:26.752Z"
   },
   {
    "duration": 15,
    "start_time": "2022-06-13T13:29:26.760Z"
   },
   {
    "duration": 9,
    "start_time": "2022-06-13T13:29:26.777Z"
   },
   {
    "duration": 48,
    "start_time": "2022-06-13T13:29:26.789Z"
   },
   {
    "duration": 9,
    "start_time": "2022-06-13T13:29:26.841Z"
   },
   {
    "duration": 10,
    "start_time": "2022-06-13T13:29:26.853Z"
   },
   {
    "duration": 2731,
    "start_time": "2022-06-13T13:29:26.866Z"
   },
   {
    "duration": 19,
    "start_time": "2022-06-13T13:29:29.599Z"
   },
   {
    "duration": 13,
    "start_time": "2022-06-13T13:29:29.622Z"
   },
   {
    "duration": 50,
    "start_time": "2022-06-13T13:29:29.638Z"
   },
   {
    "duration": 16,
    "start_time": "2022-06-13T13:29:40.746Z"
   },
   {
    "duration": 20,
    "start_time": "2022-06-13T13:30:33.748Z"
   },
   {
    "duration": 20,
    "start_time": "2022-06-13T13:31:04.654Z"
   },
   {
    "duration": 6,
    "start_time": "2022-06-13T13:31:26.656Z"
   },
   {
    "duration": 9,
    "start_time": "2022-06-13T13:31:41.843Z"
   },
   {
    "duration": 72,
    "start_time": "2022-06-13T13:31:41.855Z"
   },
   {
    "duration": 27,
    "start_time": "2022-06-13T13:31:41.929Z"
   },
   {
    "duration": 11,
    "start_time": "2022-06-13T13:31:41.959Z"
   },
   {
    "duration": 9,
    "start_time": "2022-06-13T13:31:41.973Z"
   },
   {
    "duration": 19,
    "start_time": "2022-06-13T13:31:41.996Z"
   },
   {
    "duration": 60,
    "start_time": "2022-06-13T13:31:42.017Z"
   },
   {
    "duration": 11,
    "start_time": "2022-06-13T13:31:42.079Z"
   },
   {
    "duration": 72,
    "start_time": "2022-06-13T13:31:42.092Z"
   },
   {
    "duration": 9,
    "start_time": "2022-06-13T13:31:42.166Z"
   },
   {
    "duration": 11,
    "start_time": "2022-06-13T13:31:42.177Z"
   },
   {
    "duration": 56,
    "start_time": "2022-06-13T13:31:42.191Z"
   },
   {
    "duration": 13,
    "start_time": "2022-06-13T13:31:42.252Z"
   },
   {
    "duration": 7,
    "start_time": "2022-06-13T13:31:42.268Z"
   },
   {
    "duration": 9,
    "start_time": "2022-06-13T13:31:42.277Z"
   },
   {
    "duration": 24,
    "start_time": "2022-06-13T13:31:42.288Z"
   },
   {
    "duration": 209,
    "start_time": "2022-06-13T13:31:42.313Z"
   },
   {
    "duration": 149,
    "start_time": "2022-06-13T13:31:42.524Z"
   },
   {
    "duration": 10,
    "start_time": "2022-06-13T13:31:42.675Z"
   },
   {
    "duration": 17,
    "start_time": "2022-06-13T13:31:42.696Z"
   },
   {
    "duration": 200,
    "start_time": "2022-06-13T13:31:42.721Z"
   },
   {
    "duration": 15,
    "start_time": "2022-06-13T13:31:42.926Z"
   },
   {
    "duration": 6,
    "start_time": "2022-06-13T13:31:42.943Z"
   },
   {
    "duration": 177,
    "start_time": "2022-06-13T13:31:42.954Z"
   },
   {
    "duration": 14,
    "start_time": "2022-06-13T13:31:43.134Z"
   },
   {
    "duration": 7,
    "start_time": "2022-06-13T13:31:43.150Z"
   },
   {
    "duration": 178,
    "start_time": "2022-06-13T13:31:43.159Z"
   },
   {
    "duration": 10,
    "start_time": "2022-06-13T13:31:43.345Z"
   },
   {
    "duration": 9,
    "start_time": "2022-06-13T13:31:43.357Z"
   },
   {
    "duration": 150,
    "start_time": "2022-06-13T13:31:43.368Z"
   },
   {
    "duration": 12,
    "start_time": "2022-06-13T13:31:43.525Z"
   },
   {
    "duration": 14,
    "start_time": "2022-06-13T13:31:43.540Z"
   },
   {
    "duration": 9,
    "start_time": "2022-06-13T13:31:43.557Z"
   },
   {
    "duration": 17,
    "start_time": "2022-06-13T13:31:43.568Z"
   },
   {
    "duration": 6,
    "start_time": "2022-06-13T13:31:43.587Z"
   },
   {
    "duration": 51,
    "start_time": "2022-06-13T13:31:43.596Z"
   },
   {
    "duration": 8,
    "start_time": "2022-06-13T13:31:43.649Z"
   },
   {
    "duration": 7,
    "start_time": "2022-06-13T13:31:43.659Z"
   },
   {
    "duration": 5,
    "start_time": "2022-06-13T13:31:43.668Z"
   },
   {
    "duration": 7,
    "start_time": "2022-06-13T13:31:43.676Z"
   },
   {
    "duration": 30,
    "start_time": "2022-06-13T13:31:43.691Z"
   },
   {
    "duration": 29,
    "start_time": "2022-06-13T13:31:43.723Z"
   },
   {
    "duration": 8,
    "start_time": "2022-06-13T13:31:43.755Z"
   },
   {
    "duration": 7,
    "start_time": "2022-06-13T13:31:43.765Z"
   },
   {
    "duration": 13,
    "start_time": "2022-06-13T13:31:43.774Z"
   },
   {
    "duration": 9,
    "start_time": "2022-06-13T13:31:43.789Z"
   },
   {
    "duration": 63,
    "start_time": "2022-06-13T13:31:43.799Z"
   },
   {
    "duration": 20,
    "start_time": "2022-06-13T13:31:43.865Z"
   },
   {
    "duration": 44,
    "start_time": "2022-06-13T13:31:43.887Z"
   },
   {
    "duration": 25,
    "start_time": "2022-06-13T13:31:43.933Z"
   },
   {
    "duration": 10,
    "start_time": "2022-06-13T13:31:43.961Z"
   },
   {
    "duration": 24,
    "start_time": "2022-06-13T13:31:43.974Z"
   },
   {
    "duration": 85,
    "start_time": "2022-06-13T13:31:44.000Z"
   },
   {
    "duration": 63,
    "start_time": "2022-06-13T13:31:44.087Z"
   },
   {
    "duration": 3198,
    "start_time": "2022-06-13T13:31:44.152Z"
   },
   {
    "duration": 46,
    "start_time": "2022-06-13T13:31:47.354Z"
   },
   {
    "duration": 43,
    "start_time": "2022-06-13T13:31:47.403Z"
   },
   {
    "duration": 8,
    "start_time": "2022-06-13T13:31:47.448Z"
   },
   {
    "duration": 9,
    "start_time": "2022-06-13T13:31:47.458Z"
   },
   {
    "duration": 14,
    "start_time": "2022-06-13T13:31:52.764Z"
   },
   {
    "duration": 6,
    "start_time": "2022-06-13T13:33:17.756Z"
   },
   {
    "duration": 45,
    "start_time": "2022-06-13T13:33:27.488Z"
   },
   {
    "duration": 10,
    "start_time": "2022-06-13T13:34:18.266Z"
   },
   {
    "duration": 24,
    "start_time": "2022-06-13T13:34:23.630Z"
   },
   {
    "duration": 9,
    "start_time": "2022-06-13T13:34:42.834Z"
   },
   {
    "duration": 6,
    "start_time": "2022-06-13T13:35:22.016Z"
   },
   {
    "duration": 25,
    "start_time": "2022-06-13T13:35:29.317Z"
   },
   {
    "duration": 14,
    "start_time": "2022-06-13T13:36:06.138Z"
   },
   {
    "duration": 17,
    "start_time": "2022-06-13T13:36:15.863Z"
   },
   {
    "duration": 6,
    "start_time": "2022-06-13T13:37:04.266Z"
   },
   {
    "duration": 7,
    "start_time": "2022-06-13T13:38:38.879Z"
   },
   {
    "duration": 9,
    "start_time": "2022-06-13T13:38:57.726Z"
   },
   {
    "duration": 138,
    "start_time": "2022-06-13T13:38:57.737Z"
   },
   {
    "duration": 65,
    "start_time": "2022-06-13T13:38:57.878Z"
   },
   {
    "duration": 6,
    "start_time": "2022-06-13T13:38:57.946Z"
   },
   {
    "duration": 13,
    "start_time": "2022-06-13T13:38:57.956Z"
   },
   {
    "duration": 18,
    "start_time": "2022-06-13T13:38:57.972Z"
   },
   {
    "duration": 38,
    "start_time": "2022-06-13T13:38:57.992Z"
   },
   {
    "duration": 27,
    "start_time": "2022-06-13T13:38:58.035Z"
   },
   {
    "duration": 47,
    "start_time": "2022-06-13T13:38:58.064Z"
   },
   {
    "duration": 43,
    "start_time": "2022-06-13T13:38:58.114Z"
   },
   {
    "duration": 22,
    "start_time": "2022-06-13T13:38:58.159Z"
   },
   {
    "duration": 13,
    "start_time": "2022-06-13T13:38:58.183Z"
   },
   {
    "duration": 29,
    "start_time": "2022-06-13T13:38:58.203Z"
   },
   {
    "duration": 5,
    "start_time": "2022-06-13T13:38:58.236Z"
   },
   {
    "duration": 9,
    "start_time": "2022-06-13T13:38:58.243Z"
   },
   {
    "duration": 8,
    "start_time": "2022-06-13T13:38:58.253Z"
   },
   {
    "duration": 136,
    "start_time": "2022-06-13T13:38:58.264Z"
   },
   {
    "duration": 146,
    "start_time": "2022-06-13T13:38:58.402Z"
   },
   {
    "duration": 12,
    "start_time": "2022-06-13T13:38:58.551Z"
   },
   {
    "duration": 7,
    "start_time": "2022-06-13T13:38:58.566Z"
   },
   {
    "duration": 163,
    "start_time": "2022-06-13T13:38:58.575Z"
   },
   {
    "duration": 9,
    "start_time": "2022-06-13T13:38:58.741Z"
   },
   {
    "duration": 7,
    "start_time": "2022-06-13T13:38:58.752Z"
   },
   {
    "duration": 175,
    "start_time": "2022-06-13T13:38:58.761Z"
   },
   {
    "duration": 10,
    "start_time": "2022-06-13T13:38:58.938Z"
   },
   {
    "duration": 10,
    "start_time": "2022-06-13T13:38:58.955Z"
   },
   {
    "duration": 196,
    "start_time": "2022-06-13T13:38:58.968Z"
   },
   {
    "duration": 14,
    "start_time": "2022-06-13T13:38:59.167Z"
   },
   {
    "duration": 19,
    "start_time": "2022-06-13T13:38:59.184Z"
   },
   {
    "duration": 231,
    "start_time": "2022-06-13T13:38:59.211Z"
   },
   {
    "duration": 12,
    "start_time": "2022-06-13T13:38:59.444Z"
   },
   {
    "duration": 14,
    "start_time": "2022-06-13T13:38:59.458Z"
   },
   {
    "duration": 28,
    "start_time": "2022-06-13T13:38:59.474Z"
   },
   {
    "duration": 22,
    "start_time": "2022-06-13T13:38:59.504Z"
   },
   {
    "duration": 46,
    "start_time": "2022-06-13T13:38:59.528Z"
   },
   {
    "duration": 17,
    "start_time": "2022-06-13T13:38:59.576Z"
   },
   {
    "duration": 43,
    "start_time": "2022-06-13T13:38:59.607Z"
   },
   {
    "duration": 8,
    "start_time": "2022-06-13T13:38:59.653Z"
   },
   {
    "duration": 5,
    "start_time": "2022-06-13T13:38:59.664Z"
   },
   {
    "duration": 12,
    "start_time": "2022-06-13T13:38:59.671Z"
   },
   {
    "duration": 4,
    "start_time": "2022-06-13T13:38:59.687Z"
   },
   {
    "duration": 60,
    "start_time": "2022-06-13T13:38:59.693Z"
   },
   {
    "duration": 5,
    "start_time": "2022-06-13T13:38:59.755Z"
   },
   {
    "duration": 7,
    "start_time": "2022-06-13T13:38:59.761Z"
   },
   {
    "duration": 8,
    "start_time": "2022-06-13T13:38:59.770Z"
   },
   {
    "duration": 8,
    "start_time": "2022-06-13T13:38:59.780Z"
   },
   {
    "duration": 15,
    "start_time": "2022-06-13T13:38:59.790Z"
   },
   {
    "duration": 31,
    "start_time": "2022-06-13T13:38:59.806Z"
   },
   {
    "duration": 11,
    "start_time": "2022-06-13T13:38:59.841Z"
   },
   {
    "duration": 8,
    "start_time": "2022-06-13T13:38:59.855Z"
   },
   {
    "duration": 8,
    "start_time": "2022-06-13T13:38:59.865Z"
   },
   {
    "duration": 66,
    "start_time": "2022-06-13T13:38:59.876Z"
   },
   {
    "duration": 6,
    "start_time": "2022-06-13T13:38:59.944Z"
   },
   {
    "duration": 10,
    "start_time": "2022-06-13T13:38:59.952Z"
   },
   {
    "duration": 14,
    "start_time": "2022-06-13T13:38:59.964Z"
   },
   {
    "duration": 2068,
    "start_time": "2022-06-13T13:38:59.982Z"
   },
   {
    "duration": 102,
    "start_time": "2022-06-13T13:39:02.053Z"
   },
   {
    "duration": 19,
    "start_time": "2022-06-13T13:39:02.157Z"
   },
   {
    "duration": 67,
    "start_time": "2022-06-13T13:39:02.178Z"
   },
   {
    "duration": 50,
    "start_time": "2022-06-13T13:39:02.248Z"
   },
   {
    "duration": 54,
    "start_time": "2022-06-13T13:39:02.300Z"
   },
   {
    "duration": 48,
    "start_time": "2022-06-13T13:39:02.357Z"
   },
   {
    "duration": 459,
    "start_time": "2022-06-13T13:39:02.411Z"
   },
   {
    "duration": 15,
    "start_time": "2022-06-13T13:39:02.872Z"
   },
   {
    "duration": 0,
    "start_time": "2022-06-13T13:39:02.889Z"
   },
   {
    "duration": 0,
    "start_time": "2022-06-13T13:39:02.891Z"
   },
   {
    "duration": 0,
    "start_time": "2022-06-13T13:39:02.892Z"
   },
   {
    "duration": 0,
    "start_time": "2022-06-13T13:39:02.893Z"
   },
   {
    "duration": 0,
    "start_time": "2022-06-13T13:39:02.896Z"
   },
   {
    "duration": 0,
    "start_time": "2022-06-13T13:39:02.897Z"
   },
   {
    "duration": 0,
    "start_time": "2022-06-13T13:39:02.898Z"
   },
   {
    "duration": 0,
    "start_time": "2022-06-13T13:39:02.899Z"
   },
   {
    "duration": 0,
    "start_time": "2022-06-13T13:39:02.900Z"
   },
   {
    "duration": 0,
    "start_time": "2022-06-13T13:39:02.900Z"
   },
   {
    "duration": 0,
    "start_time": "2022-06-13T13:39:02.901Z"
   },
   {
    "duration": 0,
    "start_time": "2022-06-13T13:39:02.903Z"
   },
   {
    "duration": 7,
    "start_time": "2022-06-13T13:40:41.893Z"
   },
   {
    "duration": 5,
    "start_time": "2022-06-13T13:40:47.885Z"
   },
   {
    "duration": 137,
    "start_time": "2022-06-13T13:40:47.894Z"
   },
   {
    "duration": 19,
    "start_time": "2022-06-13T13:40:48.035Z"
   },
   {
    "duration": 15,
    "start_time": "2022-06-13T13:40:48.058Z"
   },
   {
    "duration": 22,
    "start_time": "2022-06-13T13:40:48.077Z"
   },
   {
    "duration": 75,
    "start_time": "2022-06-13T13:40:48.106Z"
   },
   {
    "duration": 54,
    "start_time": "2022-06-13T13:40:48.183Z"
   },
   {
    "duration": 12,
    "start_time": "2022-06-13T13:40:48.240Z"
   },
   {
    "duration": 12,
    "start_time": "2022-06-13T13:40:48.254Z"
   },
   {
    "duration": 8,
    "start_time": "2022-06-13T13:40:48.268Z"
   },
   {
    "duration": 7,
    "start_time": "2022-06-13T13:40:48.280Z"
   },
   {
    "duration": 14,
    "start_time": "2022-06-13T13:40:48.289Z"
   },
   {
    "duration": 40,
    "start_time": "2022-06-13T13:40:48.305Z"
   },
   {
    "duration": 10,
    "start_time": "2022-06-13T13:40:48.347Z"
   },
   {
    "duration": 15,
    "start_time": "2022-06-13T13:40:48.359Z"
   },
   {
    "duration": 11,
    "start_time": "2022-06-13T13:40:48.377Z"
   },
   {
    "duration": 192,
    "start_time": "2022-06-13T13:40:48.390Z"
   },
   {
    "duration": 177,
    "start_time": "2022-06-13T13:40:48.584Z"
   },
   {
    "duration": 14,
    "start_time": "2022-06-13T13:40:48.764Z"
   },
   {
    "duration": 8,
    "start_time": "2022-06-13T13:40:48.780Z"
   },
   {
    "duration": 184,
    "start_time": "2022-06-13T13:40:48.808Z"
   },
   {
    "duration": 9,
    "start_time": "2022-06-13T13:40:48.997Z"
   },
   {
    "duration": 53,
    "start_time": "2022-06-13T13:40:49.008Z"
   },
   {
    "duration": 192,
    "start_time": "2022-06-13T13:40:49.064Z"
   },
   {
    "duration": 10,
    "start_time": "2022-06-13T13:40:49.261Z"
   },
   {
    "duration": 9,
    "start_time": "2022-06-13T13:40:49.273Z"
   },
   {
    "duration": 264,
    "start_time": "2022-06-13T13:40:49.285Z"
   },
   {
    "duration": 10,
    "start_time": "2022-06-13T13:40:49.553Z"
   },
   {
    "duration": 12,
    "start_time": "2022-06-13T13:40:49.569Z"
   },
   {
    "duration": 238,
    "start_time": "2022-06-13T13:40:49.584Z"
   },
   {
    "duration": 19,
    "start_time": "2022-06-13T13:40:49.832Z"
   },
   {
    "duration": 26,
    "start_time": "2022-06-13T13:40:49.854Z"
   },
   {
    "duration": 8,
    "start_time": "2022-06-13T13:40:49.883Z"
   },
   {
    "duration": 26,
    "start_time": "2022-06-13T13:40:49.893Z"
   },
   {
    "duration": 34,
    "start_time": "2022-06-13T13:40:49.922Z"
   },
   {
    "duration": 9,
    "start_time": "2022-06-13T13:40:49.959Z"
   },
   {
    "duration": 15,
    "start_time": "2022-06-13T13:40:49.970Z"
   },
   {
    "duration": 28,
    "start_time": "2022-06-13T13:40:49.987Z"
   },
   {
    "duration": 8,
    "start_time": "2022-06-13T13:40:50.044Z"
   },
   {
    "duration": 15,
    "start_time": "2022-06-13T13:40:50.054Z"
   },
   {
    "duration": 19,
    "start_time": "2022-06-13T13:40:50.072Z"
   },
   {
    "duration": 75,
    "start_time": "2022-06-13T13:40:50.093Z"
   },
   {
    "duration": 6,
    "start_time": "2022-06-13T13:40:50.172Z"
   },
   {
    "duration": 30,
    "start_time": "2022-06-13T13:40:50.181Z"
   },
   {
    "duration": 37,
    "start_time": "2022-06-13T13:40:50.213Z"
   },
   {
    "duration": 9,
    "start_time": "2022-06-13T13:40:50.252Z"
   },
   {
    "duration": 7,
    "start_time": "2022-06-13T13:40:50.263Z"
   },
   {
    "duration": 11,
    "start_time": "2022-06-13T13:40:50.272Z"
   },
   {
    "duration": 22,
    "start_time": "2022-06-13T13:40:50.285Z"
   },
   {
    "duration": 33,
    "start_time": "2022-06-13T13:40:50.317Z"
   },
   {
    "duration": 12,
    "start_time": "2022-06-13T13:40:50.353Z"
   },
   {
    "duration": 15,
    "start_time": "2022-06-13T13:40:50.367Z"
   },
   {
    "duration": 4,
    "start_time": "2022-06-13T13:40:50.384Z"
   },
   {
    "duration": 44,
    "start_time": "2022-06-13T13:40:50.390Z"
   },
   {
    "duration": 13,
    "start_time": "2022-06-13T13:40:50.439Z"
   },
   {
    "duration": 1742,
    "start_time": "2022-06-13T13:40:50.455Z"
   },
   {
    "duration": 29,
    "start_time": "2022-06-13T13:40:52.200Z"
   },
   {
    "duration": 19,
    "start_time": "2022-06-13T13:40:52.237Z"
   },
   {
    "duration": 11,
    "start_time": "2022-06-13T13:40:52.259Z"
   },
   {
    "duration": 9,
    "start_time": "2022-06-13T13:40:52.272Z"
   },
   {
    "duration": 24,
    "start_time": "2022-06-13T13:40:52.283Z"
   },
   {
    "duration": 49,
    "start_time": "2022-06-13T13:40:52.309Z"
   },
   {
    "duration": 46,
    "start_time": "2022-06-13T13:40:52.361Z"
   },
   {
    "duration": 42,
    "start_time": "2022-06-13T13:40:52.413Z"
   },
   {
    "duration": 20,
    "start_time": "2022-06-13T13:40:52.458Z"
   },
   {
    "duration": 0,
    "start_time": "2022-06-13T13:40:52.481Z"
   },
   {
    "duration": 0,
    "start_time": "2022-06-13T13:40:52.483Z"
   },
   {
    "duration": 0,
    "start_time": "2022-06-13T13:40:52.484Z"
   },
   {
    "duration": 0,
    "start_time": "2022-06-13T13:40:52.486Z"
   },
   {
    "duration": 0,
    "start_time": "2022-06-13T13:40:52.486Z"
   },
   {
    "duration": 0,
    "start_time": "2022-06-13T13:40:52.488Z"
   },
   {
    "duration": 0,
    "start_time": "2022-06-13T13:40:52.488Z"
   },
   {
    "duration": 0,
    "start_time": "2022-06-13T13:40:52.489Z"
   },
   {
    "duration": 0,
    "start_time": "2022-06-13T13:40:52.490Z"
   },
   {
    "duration": 0,
    "start_time": "2022-06-13T13:40:52.490Z"
   },
   {
    "duration": 0,
    "start_time": "2022-06-13T13:40:52.491Z"
   },
   {
    "duration": 0,
    "start_time": "2022-06-13T13:40:52.503Z"
   },
   {
    "duration": 9,
    "start_time": "2022-06-13T13:41:47.290Z"
   },
   {
    "duration": 95,
    "start_time": "2022-06-13T13:41:47.302Z"
   },
   {
    "duration": 18,
    "start_time": "2022-06-13T13:41:47.404Z"
   },
   {
    "duration": 42,
    "start_time": "2022-06-13T13:41:47.424Z"
   },
   {
    "duration": 11,
    "start_time": "2022-06-13T13:41:47.470Z"
   },
   {
    "duration": 19,
    "start_time": "2022-06-13T13:41:47.483Z"
   },
   {
    "duration": 45,
    "start_time": "2022-06-13T13:41:47.505Z"
   },
   {
    "duration": 19,
    "start_time": "2022-06-13T13:41:47.552Z"
   },
   {
    "duration": 52,
    "start_time": "2022-06-13T13:41:47.573Z"
   },
   {
    "duration": 15,
    "start_time": "2022-06-13T13:41:47.633Z"
   },
   {
    "duration": 7,
    "start_time": "2022-06-13T13:41:47.653Z"
   },
   {
    "duration": 13,
    "start_time": "2022-06-13T13:41:47.663Z"
   },
   {
    "duration": 9,
    "start_time": "2022-06-13T13:41:47.679Z"
   },
   {
    "duration": 44,
    "start_time": "2022-06-13T13:41:47.691Z"
   },
   {
    "duration": 9,
    "start_time": "2022-06-13T13:41:47.738Z"
   },
   {
    "duration": 6,
    "start_time": "2022-06-13T13:41:47.749Z"
   },
   {
    "duration": 176,
    "start_time": "2022-06-13T13:41:47.757Z"
   },
   {
    "duration": 157,
    "start_time": "2022-06-13T13:41:47.936Z"
   },
   {
    "duration": 23,
    "start_time": "2022-06-13T13:41:48.108Z"
   },
   {
    "duration": 23,
    "start_time": "2022-06-13T13:41:48.133Z"
   },
   {
    "duration": 408,
    "start_time": "2022-06-13T13:41:48.159Z"
   },
   {
    "duration": 28,
    "start_time": "2022-06-13T13:41:48.569Z"
   },
   {
    "duration": 27,
    "start_time": "2022-06-13T13:41:48.604Z"
   },
   {
    "duration": 181,
    "start_time": "2022-06-13T13:41:48.632Z"
   },
   {
    "duration": 12,
    "start_time": "2022-06-13T13:41:48.816Z"
   },
   {
    "duration": 21,
    "start_time": "2022-06-13T13:41:48.831Z"
   },
   {
    "duration": 173,
    "start_time": "2022-06-13T13:41:48.854Z"
   },
   {
    "duration": 15,
    "start_time": "2022-06-13T13:41:49.029Z"
   },
   {
    "duration": 25,
    "start_time": "2022-06-13T13:41:49.048Z"
   },
   {
    "duration": 186,
    "start_time": "2022-06-13T13:41:49.075Z"
   },
   {
    "duration": 16,
    "start_time": "2022-06-13T13:41:49.264Z"
   },
   {
    "duration": 51,
    "start_time": "2022-06-13T13:41:49.283Z"
   },
   {
    "duration": 21,
    "start_time": "2022-06-13T13:41:49.346Z"
   },
   {
    "duration": 62,
    "start_time": "2022-06-13T13:41:49.369Z"
   },
   {
    "duration": 26,
    "start_time": "2022-06-13T13:41:49.438Z"
   },
   {
    "duration": 19,
    "start_time": "2022-06-13T13:41:49.467Z"
   },
   {
    "duration": 52,
    "start_time": "2022-06-13T13:41:49.488Z"
   },
   {
    "duration": 19,
    "start_time": "2022-06-13T13:41:49.544Z"
   },
   {
    "duration": 46,
    "start_time": "2022-06-13T13:41:49.565Z"
   },
   {
    "duration": 31,
    "start_time": "2022-06-13T13:41:49.618Z"
   },
   {
    "duration": 10,
    "start_time": "2022-06-13T13:41:49.652Z"
   },
   {
    "duration": 39,
    "start_time": "2022-06-13T13:41:49.664Z"
   },
   {
    "duration": 10,
    "start_time": "2022-06-13T13:41:49.705Z"
   },
   {
    "duration": 47,
    "start_time": "2022-06-13T13:41:49.717Z"
   },
   {
    "duration": 10,
    "start_time": "2022-06-13T13:41:49.767Z"
   },
   {
    "duration": 10,
    "start_time": "2022-06-13T13:41:49.779Z"
   },
   {
    "duration": 53,
    "start_time": "2022-06-13T13:41:49.792Z"
   },
   {
    "duration": 12,
    "start_time": "2022-06-13T13:41:49.847Z"
   },
   {
    "duration": 8,
    "start_time": "2022-06-13T13:41:49.861Z"
   },
   {
    "duration": 8,
    "start_time": "2022-06-13T13:41:49.870Z"
   },
   {
    "duration": 10,
    "start_time": "2022-06-13T13:41:49.879Z"
   },
   {
    "duration": 44,
    "start_time": "2022-06-13T13:41:49.891Z"
   },
   {
    "duration": 10,
    "start_time": "2022-06-13T13:41:49.938Z"
   },
   {
    "duration": 11,
    "start_time": "2022-06-13T13:41:49.950Z"
   },
   {
    "duration": 6,
    "start_time": "2022-06-13T13:41:49.963Z"
   },
   {
    "duration": 2469,
    "start_time": "2022-06-13T13:41:49.971Z"
   },
   {
    "duration": 64,
    "start_time": "2022-06-13T13:41:52.443Z"
   },
   {
    "duration": 38,
    "start_time": "2022-06-13T13:41:52.516Z"
   },
   {
    "duration": 12,
    "start_time": "2022-06-13T13:41:52.557Z"
   },
   {
    "duration": 13,
    "start_time": "2022-06-13T13:41:52.571Z"
   },
   {
    "duration": 52,
    "start_time": "2022-06-13T13:41:52.587Z"
   },
   {
    "duration": 12,
    "start_time": "2022-06-13T13:41:52.642Z"
   },
   {
    "duration": 8,
    "start_time": "2022-06-13T14:02:51.279Z"
   },
   {
    "duration": 9,
    "start_time": "2022-06-13T14:03:37.936Z"
   },
   {
    "duration": 7,
    "start_time": "2022-06-13T14:03:55.765Z"
   },
   {
    "duration": 5,
    "start_time": "2022-06-13T14:04:22.341Z"
   },
   {
    "duration": 34,
    "start_time": "2022-06-13T14:04:28.635Z"
   },
   {
    "duration": 6,
    "start_time": "2022-06-13T14:04:42.782Z"
   },
   {
    "duration": 93,
    "start_time": "2022-06-13T14:04:42.791Z"
   },
   {
    "duration": 33,
    "start_time": "2022-06-13T14:04:42.887Z"
   },
   {
    "duration": 22,
    "start_time": "2022-06-13T14:04:42.925Z"
   },
   {
    "duration": 21,
    "start_time": "2022-06-13T14:04:42.950Z"
   },
   {
    "duration": 9,
    "start_time": "2022-06-13T14:04:42.973Z"
   },
   {
    "duration": 40,
    "start_time": "2022-06-13T14:04:42.984Z"
   },
   {
    "duration": 18,
    "start_time": "2022-06-13T14:04:43.034Z"
   },
   {
    "duration": 15,
    "start_time": "2022-06-13T14:04:43.057Z"
   },
   {
    "duration": 10,
    "start_time": "2022-06-13T14:04:43.077Z"
   },
   {
    "duration": 40,
    "start_time": "2022-06-13T14:04:43.090Z"
   },
   {
    "duration": 11,
    "start_time": "2022-06-13T14:04:43.133Z"
   },
   {
    "duration": 13,
    "start_time": "2022-06-13T14:04:43.146Z"
   },
   {
    "duration": 41,
    "start_time": "2022-06-13T14:04:43.161Z"
   },
   {
    "duration": 53,
    "start_time": "2022-06-13T14:04:43.204Z"
   },
   {
    "duration": 7,
    "start_time": "2022-06-13T14:04:43.259Z"
   },
   {
    "duration": 120,
    "start_time": "2022-06-13T14:04:43.268Z"
   },
   {
    "duration": 132,
    "start_time": "2022-06-13T14:04:43.390Z"
   },
   {
    "duration": 9,
    "start_time": "2022-06-13T14:04:43.524Z"
   },
   {
    "duration": 17,
    "start_time": "2022-06-13T14:04:43.535Z"
   },
   {
    "duration": 141,
    "start_time": "2022-06-13T14:04:43.555Z"
   },
   {
    "duration": 10,
    "start_time": "2022-06-13T14:04:43.698Z"
   },
   {
    "duration": 45,
    "start_time": "2022-06-13T14:04:43.710Z"
   },
   {
    "duration": 150,
    "start_time": "2022-06-13T14:04:43.762Z"
   },
   {
    "duration": 14,
    "start_time": "2022-06-13T14:04:43.914Z"
   },
   {
    "duration": 19,
    "start_time": "2022-06-13T14:04:43.930Z"
   },
   {
    "duration": 164,
    "start_time": "2022-06-13T14:04:43.951Z"
   },
   {
    "duration": 17,
    "start_time": "2022-06-13T14:04:44.118Z"
   },
   {
    "duration": 6,
    "start_time": "2022-06-13T14:04:44.140Z"
   },
   {
    "duration": 119,
    "start_time": "2022-06-13T14:04:44.148Z"
   },
   {
    "duration": 9,
    "start_time": "2022-06-13T14:04:44.269Z"
   },
   {
    "duration": 26,
    "start_time": "2022-06-13T14:04:44.279Z"
   },
   {
    "duration": 30,
    "start_time": "2022-06-13T14:04:44.309Z"
   },
   {
    "duration": 18,
    "start_time": "2022-06-13T14:04:44.341Z"
   },
   {
    "duration": 8,
    "start_time": "2022-06-13T14:04:44.361Z"
   },
   {
    "duration": 9,
    "start_time": "2022-06-13T14:04:44.371Z"
   },
   {
    "duration": 6,
    "start_time": "2022-06-13T14:04:44.382Z"
   },
   {
    "duration": 10,
    "start_time": "2022-06-13T14:04:44.391Z"
   },
   {
    "duration": 34,
    "start_time": "2022-06-13T14:04:44.403Z"
   },
   {
    "duration": 5,
    "start_time": "2022-06-13T14:04:44.439Z"
   },
   {
    "duration": 6,
    "start_time": "2022-06-13T14:04:44.446Z"
   },
   {
    "duration": 21,
    "start_time": "2022-06-13T14:04:44.455Z"
   },
   {
    "duration": 5,
    "start_time": "2022-06-13T14:04:44.478Z"
   },
   {
    "duration": 19,
    "start_time": "2022-06-13T14:04:44.485Z"
   },
   {
    "duration": 27,
    "start_time": "2022-06-13T14:04:44.509Z"
   },
   {
    "duration": 6,
    "start_time": "2022-06-13T14:04:44.539Z"
   },
   {
    "duration": 7,
    "start_time": "2022-06-13T14:04:44.547Z"
   },
   {
    "duration": 12,
    "start_time": "2022-06-13T14:04:44.556Z"
   },
   {
    "duration": 6,
    "start_time": "2022-06-13T14:04:44.570Z"
   },
   {
    "duration": 4,
    "start_time": "2022-06-13T14:04:44.578Z"
   },
   {
    "duration": 7,
    "start_time": "2022-06-13T14:04:44.584Z"
   },
   {
    "duration": 46,
    "start_time": "2022-06-13T14:04:44.593Z"
   },
   {
    "duration": 6,
    "start_time": "2022-06-13T14:04:44.642Z"
   },
   {
    "duration": 12,
    "start_time": "2022-06-13T14:04:44.650Z"
   },
   {
    "duration": 7,
    "start_time": "2022-06-13T14:04:44.664Z"
   },
   {
    "duration": 1847,
    "start_time": "2022-06-13T14:04:44.672Z"
   },
   {
    "duration": 25,
    "start_time": "2022-06-13T14:04:46.526Z"
   },
   {
    "duration": 5,
    "start_time": "2022-06-13T14:04:46.554Z"
   },
   {
    "duration": 8,
    "start_time": "2022-06-13T14:04:46.561Z"
   },
   {
    "duration": 9,
    "start_time": "2022-06-13T14:04:46.572Z"
   },
   {
    "duration": 7,
    "start_time": "2022-06-13T14:04:46.599Z"
   },
   {
    "duration": 40,
    "start_time": "2022-06-13T14:04:46.608Z"
   },
   {
    "duration": 25,
    "start_time": "2022-06-13T14:04:50.148Z"
   },
   {
    "duration": 21,
    "start_time": "2022-06-13T14:05:11.226Z"
   },
   {
    "duration": 40,
    "start_time": "2022-06-13T14:06:05.285Z"
   },
   {
    "duration": 30,
    "start_time": "2022-06-13T14:08:01.604Z"
   },
   {
    "duration": 34,
    "start_time": "2022-06-13T14:08:12.820Z"
   },
   {
    "duration": 10,
    "start_time": "2022-06-13T14:08:52.136Z"
   },
   {
    "duration": 24,
    "start_time": "2022-06-13T14:11:42.708Z"
   },
   {
    "duration": 43,
    "start_time": "2022-06-13T14:12:03.829Z"
   },
   {
    "duration": 14,
    "start_time": "2022-06-13T14:12:25.445Z"
   },
   {
    "duration": 15,
    "start_time": "2022-06-13T14:12:33.841Z"
   },
   {
    "duration": 22,
    "start_time": "2022-06-13T14:12:48.489Z"
   },
   {
    "duration": 18,
    "start_time": "2022-06-13T14:13:06.903Z"
   },
   {
    "duration": 25,
    "start_time": "2022-06-13T14:13:56.001Z"
   },
   {
    "duration": 34,
    "start_time": "2022-06-13T14:16:42.504Z"
   },
   {
    "duration": 31,
    "start_time": "2022-06-13T14:17:00.371Z"
   },
   {
    "duration": 32,
    "start_time": "2022-06-13T14:18:36.736Z"
   },
   {
    "duration": 40,
    "start_time": "2022-06-13T14:19:19.073Z"
   },
   {
    "duration": 21,
    "start_time": "2022-06-13T14:19:33.158Z"
   },
   {
    "duration": 31,
    "start_time": "2022-06-13T14:20:48.441Z"
   },
   {
    "duration": 27,
    "start_time": "2022-06-13T14:21:24.034Z"
   },
   {
    "duration": 28,
    "start_time": "2022-06-13T14:21:28.751Z"
   },
   {
    "duration": 24,
    "start_time": "2022-06-13T14:21:38.452Z"
   },
   {
    "duration": 6,
    "start_time": "2022-06-13T14:21:50.314Z"
   },
   {
    "duration": 105,
    "start_time": "2022-06-13T14:21:50.324Z"
   },
   {
    "duration": 17,
    "start_time": "2022-06-13T14:21:50.432Z"
   },
   {
    "duration": 6,
    "start_time": "2022-06-13T14:21:50.452Z"
   },
   {
    "duration": 13,
    "start_time": "2022-06-13T14:21:50.460Z"
   },
   {
    "duration": 51,
    "start_time": "2022-06-13T14:21:50.475Z"
   },
   {
    "duration": 10,
    "start_time": "2022-06-13T14:21:50.528Z"
   },
   {
    "duration": 15,
    "start_time": "2022-06-13T14:21:50.540Z"
   },
   {
    "duration": 16,
    "start_time": "2022-06-13T14:21:50.557Z"
   },
   {
    "duration": 12,
    "start_time": "2022-06-13T14:21:50.594Z"
   },
   {
    "duration": 24,
    "start_time": "2022-06-13T14:21:50.612Z"
   },
   {
    "duration": 7,
    "start_time": "2022-06-13T14:21:50.639Z"
   },
   {
    "duration": 25,
    "start_time": "2022-06-13T14:21:50.648Z"
   },
   {
    "duration": 9,
    "start_time": "2022-06-13T14:21:50.676Z"
   },
   {
    "duration": 28,
    "start_time": "2022-06-13T14:21:50.687Z"
   },
   {
    "duration": 16,
    "start_time": "2022-06-13T14:21:50.723Z"
   },
   {
    "duration": 160,
    "start_time": "2022-06-13T14:21:50.742Z"
   },
   {
    "duration": 120,
    "start_time": "2022-06-13T14:21:50.904Z"
   },
   {
    "duration": 10,
    "start_time": "2022-06-13T14:21:51.027Z"
   },
   {
    "duration": 7,
    "start_time": "2022-06-13T14:21:51.039Z"
   },
   {
    "duration": 150,
    "start_time": "2022-06-13T14:21:51.048Z"
   },
   {
    "duration": 11,
    "start_time": "2022-06-13T14:21:51.200Z"
   },
   {
    "duration": 16,
    "start_time": "2022-06-13T14:21:51.213Z"
   },
   {
    "duration": 141,
    "start_time": "2022-06-13T14:21:51.231Z"
   },
   {
    "duration": 10,
    "start_time": "2022-06-13T14:21:51.374Z"
   },
   {
    "duration": 19,
    "start_time": "2022-06-13T14:21:51.386Z"
   },
   {
    "duration": 136,
    "start_time": "2022-06-13T14:21:51.409Z"
   },
   {
    "duration": 12,
    "start_time": "2022-06-13T14:21:51.551Z"
   },
   {
    "duration": 6,
    "start_time": "2022-06-13T14:21:51.566Z"
   },
   {
    "duration": 143,
    "start_time": "2022-06-13T14:21:51.574Z"
   },
   {
    "duration": 10,
    "start_time": "2022-06-13T14:21:51.720Z"
   },
   {
    "duration": 9,
    "start_time": "2022-06-13T14:21:51.733Z"
   },
   {
    "duration": 8,
    "start_time": "2022-06-13T14:21:51.745Z"
   },
   {
    "duration": 44,
    "start_time": "2022-06-13T14:21:51.755Z"
   },
   {
    "duration": 6,
    "start_time": "2022-06-13T14:21:51.804Z"
   },
   {
    "duration": 10,
    "start_time": "2022-06-13T14:21:51.813Z"
   },
   {
    "duration": 9,
    "start_time": "2022-06-13T14:21:51.825Z"
   },
   {
    "duration": 10,
    "start_time": "2022-06-13T14:21:51.836Z"
   },
   {
    "duration": 9,
    "start_time": "2022-06-13T14:21:51.848Z"
   },
   {
    "duration": 41,
    "start_time": "2022-06-13T14:21:51.859Z"
   },
   {
    "duration": 4,
    "start_time": "2022-06-13T14:21:51.902Z"
   },
   {
    "duration": 27,
    "start_time": "2022-06-13T14:21:51.908Z"
   },
   {
    "duration": 5,
    "start_time": "2022-06-13T14:21:51.937Z"
   },
   {
    "duration": 6,
    "start_time": "2022-06-13T14:21:51.944Z"
   },
   {
    "duration": 8,
    "start_time": "2022-06-13T14:21:51.953Z"
   },
   {
    "duration": 6,
    "start_time": "2022-06-13T14:21:51.963Z"
   },
   {
    "duration": 26,
    "start_time": "2022-06-13T14:21:51.971Z"
   },
   {
    "duration": 4,
    "start_time": "2022-06-13T14:21:51.999Z"
   },
   {
    "duration": 25,
    "start_time": "2022-06-13T14:21:52.006Z"
   },
   {
    "duration": 14,
    "start_time": "2022-06-13T14:21:52.033Z"
   },
   {
    "duration": 5,
    "start_time": "2022-06-13T14:21:52.049Z"
   },
   {
    "duration": 13,
    "start_time": "2022-06-13T14:21:52.057Z"
   },
   {
    "duration": 5,
    "start_time": "2022-06-13T14:21:52.072Z"
   },
   {
    "duration": 35,
    "start_time": "2022-06-13T14:21:52.079Z"
   },
   {
    "duration": 16,
    "start_time": "2022-06-13T14:21:52.116Z"
   },
   {
    "duration": 979,
    "start_time": "2022-06-13T14:21:52.134Z"
   },
   {
    "duration": 8,
    "start_time": "2022-06-13T14:21:53.115Z"
   },
   {
    "duration": 5,
    "start_time": "2022-06-13T14:21:53.125Z"
   },
   {
    "duration": 65,
    "start_time": "2022-06-13T14:21:53.132Z"
   },
   {
    "duration": 28,
    "start_time": "2022-06-13T14:21:53.199Z"
   },
   {
    "duration": 17,
    "start_time": "2022-06-13T14:21:53.230Z"
   },
   {
    "duration": 31,
    "start_time": "2022-06-13T14:21:58.655Z"
   },
   {
    "duration": 35,
    "start_time": "2022-06-13T14:22:17.177Z"
   },
   {
    "duration": 12,
    "start_time": "2022-06-13T14:22:31.005Z"
   },
   {
    "duration": 61,
    "start_time": "2022-06-13T14:22:39.483Z"
   },
   {
    "duration": 15,
    "start_time": "2022-06-13T14:23:05.478Z"
   },
   {
    "duration": 4,
    "start_time": "2022-06-13T14:23:35.271Z"
   },
   {
    "duration": 18,
    "start_time": "2022-06-13T14:23:45.164Z"
   },
   {
    "duration": 6,
    "start_time": "2022-06-13T14:24:19.510Z"
   },
   {
    "duration": 81,
    "start_time": "2022-06-13T14:24:19.532Z"
   },
   {
    "duration": 18,
    "start_time": "2022-06-13T14:24:19.617Z"
   },
   {
    "duration": 33,
    "start_time": "2022-06-13T14:24:19.638Z"
   },
   {
    "duration": 13,
    "start_time": "2022-06-13T14:24:19.674Z"
   },
   {
    "duration": 43,
    "start_time": "2022-06-13T14:24:19.697Z"
   },
   {
    "duration": 40,
    "start_time": "2022-06-13T14:24:19.744Z"
   },
   {
    "duration": 24,
    "start_time": "2022-06-13T14:24:19.787Z"
   },
   {
    "duration": 20,
    "start_time": "2022-06-13T14:24:19.813Z"
   },
   {
    "duration": 6,
    "start_time": "2022-06-13T14:24:19.835Z"
   },
   {
    "duration": 8,
    "start_time": "2022-06-13T14:24:19.843Z"
   },
   {
    "duration": 6,
    "start_time": "2022-06-13T14:24:19.852Z"
   },
   {
    "duration": 5,
    "start_time": "2022-06-13T14:24:19.860Z"
   },
   {
    "duration": 6,
    "start_time": "2022-06-13T14:24:19.867Z"
   },
   {
    "duration": 22,
    "start_time": "2022-06-13T14:24:19.876Z"
   },
   {
    "duration": 6,
    "start_time": "2022-06-13T14:24:19.901Z"
   },
   {
    "duration": 142,
    "start_time": "2022-06-13T14:24:19.909Z"
   },
   {
    "duration": 129,
    "start_time": "2022-06-13T14:24:20.054Z"
   },
   {
    "duration": 15,
    "start_time": "2022-06-13T14:24:20.194Z"
   },
   {
    "duration": 8,
    "start_time": "2022-06-13T14:24:20.211Z"
   },
   {
    "duration": 224,
    "start_time": "2022-06-13T14:24:20.222Z"
   },
   {
    "duration": 12,
    "start_time": "2022-06-13T14:24:20.449Z"
   },
   {
    "duration": 8,
    "start_time": "2022-06-13T14:24:20.463Z"
   },
   {
    "duration": 209,
    "start_time": "2022-06-13T14:24:20.493Z"
   },
   {
    "duration": 14,
    "start_time": "2022-06-13T14:24:20.705Z"
   },
   {
    "duration": 9,
    "start_time": "2022-06-13T14:24:20.721Z"
   },
   {
    "duration": 124,
    "start_time": "2022-06-13T14:24:20.733Z"
   },
   {
    "duration": 9,
    "start_time": "2022-06-13T14:24:20.859Z"
   },
   {
    "duration": 29,
    "start_time": "2022-06-13T14:24:20.871Z"
   },
   {
    "duration": 138,
    "start_time": "2022-06-13T14:24:20.902Z"
   },
   {
    "duration": 9,
    "start_time": "2022-06-13T14:24:21.042Z"
   },
   {
    "duration": 8,
    "start_time": "2022-06-13T14:24:21.054Z"
   },
   {
    "duration": 32,
    "start_time": "2022-06-13T14:24:21.065Z"
   },
   {
    "duration": 18,
    "start_time": "2022-06-13T14:24:21.100Z"
   },
   {
    "duration": 16,
    "start_time": "2022-06-13T14:24:21.123Z"
   },
   {
    "duration": 10,
    "start_time": "2022-06-13T14:24:21.142Z"
   },
   {
    "duration": 7,
    "start_time": "2022-06-13T14:24:21.155Z"
   },
   {
    "duration": 31,
    "start_time": "2022-06-13T14:24:21.165Z"
   },
   {
    "duration": 14,
    "start_time": "2022-06-13T14:24:21.198Z"
   },
   {
    "duration": 13,
    "start_time": "2022-06-13T14:24:21.214Z"
   },
   {
    "duration": 9,
    "start_time": "2022-06-13T14:24:21.229Z"
   },
   {
    "duration": 17,
    "start_time": "2022-06-13T14:24:21.243Z"
   },
   {
    "duration": 5,
    "start_time": "2022-06-13T14:24:21.262Z"
   },
   {
    "duration": 23,
    "start_time": "2022-06-13T14:24:21.270Z"
   },
   {
    "duration": 9,
    "start_time": "2022-06-13T14:24:21.296Z"
   },
   {
    "duration": 17,
    "start_time": "2022-06-13T14:24:21.307Z"
   },
   {
    "duration": 11,
    "start_time": "2022-06-13T14:24:21.325Z"
   },
   {
    "duration": 5,
    "start_time": "2022-06-13T14:24:21.338Z"
   },
   {
    "duration": 7,
    "start_time": "2022-06-13T14:24:21.345Z"
   },
   {
    "duration": 5,
    "start_time": "2022-06-13T14:24:21.354Z"
   },
   {
    "duration": 5,
    "start_time": "2022-06-13T14:24:21.360Z"
   },
   {
    "duration": 7,
    "start_time": "2022-06-13T14:24:21.367Z"
   },
   {
    "duration": 22,
    "start_time": "2022-06-13T14:24:21.375Z"
   },
   {
    "duration": 13,
    "start_time": "2022-06-13T14:24:21.399Z"
   },
   {
    "duration": 8,
    "start_time": "2022-06-13T14:24:21.415Z"
   },
   {
    "duration": 679,
    "start_time": "2022-06-13T14:24:21.425Z"
   },
   {
    "duration": 12,
    "start_time": "2022-06-13T14:24:22.112Z"
   },
   {
    "duration": 7,
    "start_time": "2022-06-13T14:24:22.127Z"
   },
   {
    "duration": 15,
    "start_time": "2022-06-13T14:24:22.135Z"
   },
   {
    "duration": 48,
    "start_time": "2022-06-13T14:24:22.153Z"
   },
   {
    "duration": 12,
    "start_time": "2022-06-13T14:24:22.204Z"
   },
   {
    "duration": 4,
    "start_time": "2022-06-13T14:24:46.387Z"
   },
   {
    "duration": 12,
    "start_time": "2022-06-13T14:24:58.476Z"
   },
   {
    "duration": 15,
    "start_time": "2022-06-13T14:25:14.646Z"
   },
   {
    "duration": 18,
    "start_time": "2022-06-13T14:25:38.426Z"
   },
   {
    "duration": 27,
    "start_time": "2022-06-13T14:25:51.411Z"
   },
   {
    "duration": 24,
    "start_time": "2022-06-13T14:26:15.780Z"
   },
   {
    "duration": 27,
    "start_time": "2022-06-13T14:26:24.712Z"
   },
   {
    "duration": 11,
    "start_time": "2022-06-13T14:26:39.384Z"
   },
   {
    "duration": 35,
    "start_time": "2022-06-13T14:27:06.396Z"
   },
   {
    "duration": 5,
    "start_time": "2022-06-13T14:28:02.271Z"
   },
   {
    "duration": 19,
    "start_time": "2022-06-13T14:28:12.143Z"
   },
   {
    "duration": 4,
    "start_time": "2022-06-13T14:32:44.427Z"
   },
   {
    "duration": 5,
    "start_time": "2022-06-13T14:33:28.342Z"
   },
   {
    "duration": 71,
    "start_time": "2022-06-13T14:33:28.351Z"
   },
   {
    "duration": 12,
    "start_time": "2022-06-13T14:33:28.425Z"
   },
   {
    "duration": 8,
    "start_time": "2022-06-13T14:33:28.439Z"
   },
   {
    "duration": 10,
    "start_time": "2022-06-13T14:33:28.449Z"
   },
   {
    "duration": 43,
    "start_time": "2022-06-13T14:33:28.461Z"
   },
   {
    "duration": 11,
    "start_time": "2022-06-13T14:33:28.506Z"
   },
   {
    "duration": 11,
    "start_time": "2022-06-13T14:33:28.519Z"
   },
   {
    "duration": 10,
    "start_time": "2022-06-13T14:33:28.532Z"
   },
   {
    "duration": 9,
    "start_time": "2022-06-13T14:33:28.544Z"
   },
   {
    "duration": 8,
    "start_time": "2022-06-13T14:33:28.555Z"
   },
   {
    "duration": 7,
    "start_time": "2022-06-13T14:33:28.595Z"
   },
   {
    "duration": 16,
    "start_time": "2022-06-13T14:33:28.604Z"
   },
   {
    "duration": 12,
    "start_time": "2022-06-13T14:33:28.622Z"
   },
   {
    "duration": 9,
    "start_time": "2022-06-13T14:33:28.637Z"
   },
   {
    "duration": 11,
    "start_time": "2022-06-13T14:33:28.648Z"
   },
   {
    "duration": 138,
    "start_time": "2022-06-13T14:33:28.662Z"
   },
   {
    "duration": 134,
    "start_time": "2022-06-13T14:33:28.804Z"
   },
   {
    "duration": 18,
    "start_time": "2022-06-13T14:33:28.940Z"
   },
   {
    "duration": 54,
    "start_time": "2022-06-13T14:33:28.961Z"
   },
   {
    "duration": 229,
    "start_time": "2022-06-13T14:33:29.017Z"
   },
   {
    "duration": 12,
    "start_time": "2022-06-13T14:33:29.250Z"
   },
   {
    "duration": 15,
    "start_time": "2022-06-13T14:33:29.264Z"
   },
   {
    "duration": 237,
    "start_time": "2022-06-13T14:33:29.281Z"
   },
   {
    "duration": 13,
    "start_time": "2022-06-13T14:33:29.521Z"
   },
   {
    "duration": 9,
    "start_time": "2022-06-13T14:33:29.537Z"
   },
   {
    "duration": 135,
    "start_time": "2022-06-13T14:33:29.548Z"
   },
   {
    "duration": 15,
    "start_time": "2022-06-13T14:33:29.695Z"
   },
   {
    "duration": 18,
    "start_time": "2022-06-13T14:33:29.713Z"
   },
   {
    "duration": 168,
    "start_time": "2022-06-13T14:33:29.734Z"
   },
   {
    "duration": 12,
    "start_time": "2022-06-13T14:33:29.904Z"
   },
   {
    "duration": 12,
    "start_time": "2022-06-13T14:33:29.919Z"
   },
   {
    "duration": 9,
    "start_time": "2022-06-13T14:33:29.933Z"
   },
   {
    "duration": 20,
    "start_time": "2022-06-13T14:33:29.945Z"
   },
   {
    "duration": 30,
    "start_time": "2022-06-13T14:33:29.968Z"
   },
   {
    "duration": 36,
    "start_time": "2022-06-13T14:33:30.001Z"
   },
   {
    "duration": 17,
    "start_time": "2022-06-13T14:33:30.039Z"
   },
   {
    "duration": 29,
    "start_time": "2022-06-13T14:33:30.057Z"
   },
   {
    "duration": 22,
    "start_time": "2022-06-13T14:33:30.089Z"
   },
   {
    "duration": 26,
    "start_time": "2022-06-13T14:33:30.113Z"
   },
   {
    "duration": 11,
    "start_time": "2022-06-13T14:33:30.142Z"
   },
   {
    "duration": 27,
    "start_time": "2022-06-13T14:33:30.158Z"
   },
   {
    "duration": 8,
    "start_time": "2022-06-13T14:33:30.187Z"
   },
   {
    "duration": 38,
    "start_time": "2022-06-13T14:33:30.197Z"
   },
   {
    "duration": 8,
    "start_time": "2022-06-13T14:33:30.238Z"
   },
   {
    "duration": 14,
    "start_time": "2022-06-13T14:33:30.248Z"
   },
   {
    "duration": 11,
    "start_time": "2022-06-13T14:33:30.264Z"
   },
   {
    "duration": 7,
    "start_time": "2022-06-13T14:33:30.278Z"
   },
   {
    "duration": 18,
    "start_time": "2022-06-13T14:33:30.287Z"
   },
   {
    "duration": 19,
    "start_time": "2022-06-13T14:33:30.307Z"
   },
   {
    "duration": 11,
    "start_time": "2022-06-13T14:33:30.330Z"
   },
   {
    "duration": 15,
    "start_time": "2022-06-13T14:33:30.344Z"
   },
   {
    "duration": 9,
    "start_time": "2022-06-13T14:33:30.362Z"
   },
   {
    "duration": 10,
    "start_time": "2022-06-13T14:33:30.373Z"
   },
   {
    "duration": 16,
    "start_time": "2022-06-13T14:33:30.385Z"
   },
   {
    "duration": 1021,
    "start_time": "2022-06-13T14:33:30.403Z"
   },
   {
    "duration": 6,
    "start_time": "2022-06-13T14:33:31.426Z"
   },
   {
    "duration": 61,
    "start_time": "2022-06-13T14:33:31.434Z"
   },
   {
    "duration": 21,
    "start_time": "2022-06-13T14:33:31.498Z"
   },
   {
    "duration": 9,
    "start_time": "2022-06-13T14:33:31.521Z"
   },
   {
    "duration": 20,
    "start_time": "2022-06-13T14:33:31.532Z"
   },
   {
    "duration": 13,
    "start_time": "2022-06-13T14:33:31.555Z"
   },
   {
    "duration": 50,
    "start_time": "2022-06-13T14:33:31.570Z"
   },
   {
    "duration": 14,
    "start_time": "2022-06-13T14:33:31.622Z"
   },
   {
    "duration": 0,
    "start_time": "2022-06-13T14:33:31.638Z"
   },
   {
    "duration": 4,
    "start_time": "2022-06-13T14:33:57.875Z"
   },
   {
    "duration": 61,
    "start_time": "2022-06-13T14:33:57.886Z"
   },
   {
    "duration": 14,
    "start_time": "2022-06-13T14:33:57.949Z"
   },
   {
    "duration": 14,
    "start_time": "2022-06-13T14:33:57.965Z"
   },
   {
    "duration": 16,
    "start_time": "2022-06-13T14:33:57.983Z"
   },
   {
    "duration": 14,
    "start_time": "2022-06-13T14:33:58.002Z"
   },
   {
    "duration": 12,
    "start_time": "2022-06-13T14:33:58.019Z"
   },
   {
    "duration": 14,
    "start_time": "2022-06-13T14:33:58.033Z"
   },
   {
    "duration": 25,
    "start_time": "2022-06-13T14:33:58.049Z"
   },
   {
    "duration": 17,
    "start_time": "2022-06-13T14:33:58.094Z"
   },
   {
    "duration": 8,
    "start_time": "2022-06-13T14:33:58.116Z"
   },
   {
    "duration": 12,
    "start_time": "2022-06-13T14:33:58.127Z"
   },
   {
    "duration": 9,
    "start_time": "2022-06-13T14:33:58.142Z"
   },
   {
    "duration": 9,
    "start_time": "2022-06-13T14:33:58.153Z"
   },
   {
    "duration": 34,
    "start_time": "2022-06-13T14:33:58.164Z"
   },
   {
    "duration": 15,
    "start_time": "2022-06-13T14:33:58.200Z"
   },
   {
    "duration": 128,
    "start_time": "2022-06-13T14:33:58.218Z"
   },
   {
    "duration": 134,
    "start_time": "2022-06-13T14:33:58.348Z"
   },
   {
    "duration": 18,
    "start_time": "2022-06-13T14:33:58.493Z"
   },
   {
    "duration": 18,
    "start_time": "2022-06-13T14:33:58.514Z"
   },
   {
    "duration": 133,
    "start_time": "2022-06-13T14:33:58.535Z"
   },
   {
    "duration": 23,
    "start_time": "2022-06-13T14:33:58.671Z"
   },
   {
    "duration": 11,
    "start_time": "2022-06-13T14:33:58.697Z"
   },
   {
    "duration": 143,
    "start_time": "2022-06-13T14:33:58.711Z"
   },
   {
    "duration": 10,
    "start_time": "2022-06-13T14:33:58.856Z"
   },
   {
    "duration": 33,
    "start_time": "2022-06-13T14:33:58.868Z"
   },
   {
    "duration": 222,
    "start_time": "2022-06-13T14:33:58.903Z"
   },
   {
    "duration": 14,
    "start_time": "2022-06-13T14:33:59.128Z"
   },
   {
    "duration": 20,
    "start_time": "2022-06-13T14:33:59.149Z"
   },
   {
    "duration": 155,
    "start_time": "2022-06-13T14:33:59.172Z"
   },
   {
    "duration": 12,
    "start_time": "2022-06-13T14:33:59.330Z"
   },
   {
    "duration": 17,
    "start_time": "2022-06-13T14:33:59.344Z"
   },
   {
    "duration": 63,
    "start_time": "2022-06-13T14:33:59.363Z"
   },
   {
    "duration": 42,
    "start_time": "2022-06-13T14:33:59.429Z"
   },
   {
    "duration": 31,
    "start_time": "2022-06-13T14:33:59.473Z"
   },
   {
    "duration": 31,
    "start_time": "2022-06-13T14:33:59.506Z"
   },
   {
    "duration": 19,
    "start_time": "2022-06-13T14:33:59.540Z"
   },
   {
    "duration": 36,
    "start_time": "2022-06-13T14:33:59.562Z"
   },
   {
    "duration": 31,
    "start_time": "2022-06-13T14:33:59.601Z"
   },
   {
    "duration": 17,
    "start_time": "2022-06-13T14:33:59.634Z"
   },
   {
    "duration": 13,
    "start_time": "2022-06-13T14:33:59.653Z"
   },
   {
    "duration": 26,
    "start_time": "2022-06-13T14:33:59.668Z"
   },
   {
    "duration": 33,
    "start_time": "2022-06-13T14:33:59.697Z"
   },
   {
    "duration": 15,
    "start_time": "2022-06-13T14:33:59.733Z"
   },
   {
    "duration": 10,
    "start_time": "2022-06-13T14:33:59.750Z"
   },
   {
    "duration": 20,
    "start_time": "2022-06-13T14:33:59.763Z"
   },
   {
    "duration": 42,
    "start_time": "2022-06-13T14:33:59.786Z"
   },
   {
    "duration": 15,
    "start_time": "2022-06-13T14:33:59.831Z"
   },
   {
    "duration": 15,
    "start_time": "2022-06-13T14:33:59.849Z"
   },
   {
    "duration": 17,
    "start_time": "2022-06-13T14:33:59.867Z"
   },
   {
    "duration": 16,
    "start_time": "2022-06-13T14:33:59.886Z"
   },
   {
    "duration": 17,
    "start_time": "2022-06-13T14:33:59.904Z"
   },
   {
    "duration": 10,
    "start_time": "2022-06-13T14:33:59.923Z"
   },
   {
    "duration": 18,
    "start_time": "2022-06-13T14:33:59.935Z"
   },
   {
    "duration": 18,
    "start_time": "2022-06-13T14:33:59.954Z"
   },
   {
    "duration": 735,
    "start_time": "2022-06-13T14:33:59.974Z"
   },
   {
    "duration": 17,
    "start_time": "2022-06-13T14:34:00.717Z"
   },
   {
    "duration": 5,
    "start_time": "2022-06-13T14:34:00.736Z"
   },
   {
    "duration": 60,
    "start_time": "2022-06-13T14:34:00.743Z"
   },
   {
    "duration": 13,
    "start_time": "2022-06-13T14:34:00.806Z"
   },
   {
    "duration": 17,
    "start_time": "2022-06-13T14:34:00.823Z"
   },
   {
    "duration": 15,
    "start_time": "2022-06-13T14:34:00.842Z"
   },
   {
    "duration": 43,
    "start_time": "2022-06-13T14:34:00.859Z"
   },
   {
    "duration": 21,
    "start_time": "2022-06-13T14:34:00.904Z"
   },
   {
    "duration": 22,
    "start_time": "2022-06-13T14:34:05.898Z"
   },
   {
    "duration": 25,
    "start_time": "2022-06-13T14:34:47.967Z"
   },
   {
    "duration": 5,
    "start_time": "2022-06-13T14:34:54.069Z"
   },
   {
    "duration": 75,
    "start_time": "2022-06-13T14:34:54.077Z"
   },
   {
    "duration": 12,
    "start_time": "2022-06-13T14:34:54.154Z"
   },
   {
    "duration": 12,
    "start_time": "2022-06-13T14:34:54.169Z"
   },
   {
    "duration": 11,
    "start_time": "2022-06-13T14:34:54.185Z"
   },
   {
    "duration": 27,
    "start_time": "2022-06-13T14:34:54.199Z"
   },
   {
    "duration": 21,
    "start_time": "2022-06-13T14:34:54.228Z"
   },
   {
    "duration": 13,
    "start_time": "2022-06-13T14:34:54.251Z"
   },
   {
    "duration": 16,
    "start_time": "2022-06-13T14:34:54.266Z"
   },
   {
    "duration": 31,
    "start_time": "2022-06-13T14:34:54.285Z"
   },
   {
    "duration": 12,
    "start_time": "2022-06-13T14:34:54.320Z"
   },
   {
    "duration": 9,
    "start_time": "2022-06-13T14:34:54.335Z"
   },
   {
    "duration": 12,
    "start_time": "2022-06-13T14:34:54.347Z"
   },
   {
    "duration": 12,
    "start_time": "2022-06-13T14:34:54.361Z"
   },
   {
    "duration": 20,
    "start_time": "2022-06-13T14:34:54.376Z"
   },
   {
    "duration": 20,
    "start_time": "2022-06-13T14:34:54.401Z"
   },
   {
    "duration": 127,
    "start_time": "2022-06-13T14:34:54.423Z"
   },
   {
    "duration": 126,
    "start_time": "2022-06-13T14:34:54.552Z"
   },
   {
    "duration": 18,
    "start_time": "2022-06-13T14:34:54.680Z"
   },
   {
    "duration": 13,
    "start_time": "2022-06-13T14:34:54.701Z"
   },
   {
    "duration": 147,
    "start_time": "2022-06-13T14:34:54.717Z"
   },
   {
    "duration": 9,
    "start_time": "2022-06-13T14:34:54.866Z"
   },
   {
    "duration": 9,
    "start_time": "2022-06-13T14:34:54.877Z"
   },
   {
    "duration": 431,
    "start_time": "2022-06-13T14:34:54.896Z"
   },
   {
    "duration": 9,
    "start_time": "2022-06-13T14:34:55.329Z"
   },
   {
    "duration": 9,
    "start_time": "2022-06-13T14:34:55.340Z"
   },
   {
    "duration": 134,
    "start_time": "2022-06-13T14:34:55.352Z"
   },
   {
    "duration": 14,
    "start_time": "2022-06-13T14:34:55.498Z"
   },
   {
    "duration": 6,
    "start_time": "2022-06-13T14:34:55.517Z"
   },
   {
    "duration": 117,
    "start_time": "2022-06-13T14:34:55.525Z"
   },
   {
    "duration": 10,
    "start_time": "2022-06-13T14:34:55.644Z"
   },
   {
    "duration": 12,
    "start_time": "2022-06-13T14:34:55.656Z"
   },
   {
    "duration": 12,
    "start_time": "2022-06-13T14:34:55.670Z"
   },
   {
    "duration": 22,
    "start_time": "2022-06-13T14:34:55.694Z"
   },
   {
    "duration": 10,
    "start_time": "2022-06-13T14:34:55.718Z"
   },
   {
    "duration": 8,
    "start_time": "2022-06-13T14:34:55.730Z"
   },
   {
    "duration": 7,
    "start_time": "2022-06-13T14:34:55.741Z"
   },
   {
    "duration": 10,
    "start_time": "2022-06-13T14:34:55.750Z"
   },
   {
    "duration": 34,
    "start_time": "2022-06-13T14:34:55.762Z"
   },
   {
    "duration": 17,
    "start_time": "2022-06-13T14:34:55.799Z"
   },
   {
    "duration": 11,
    "start_time": "2022-06-13T14:34:55.818Z"
   },
   {
    "duration": 18,
    "start_time": "2022-06-13T14:34:55.832Z"
   },
   {
    "duration": 13,
    "start_time": "2022-06-13T14:34:55.852Z"
   },
   {
    "duration": 15,
    "start_time": "2022-06-13T14:34:55.868Z"
   },
   {
    "duration": 7,
    "start_time": "2022-06-13T14:34:55.886Z"
   },
   {
    "duration": 18,
    "start_time": "2022-06-13T14:34:55.896Z"
   },
   {
    "duration": 15,
    "start_time": "2022-06-13T14:34:55.917Z"
   },
   {
    "duration": 6,
    "start_time": "2022-06-13T14:34:55.933Z"
   },
   {
    "duration": 12,
    "start_time": "2022-06-13T14:34:55.941Z"
   },
   {
    "duration": 5,
    "start_time": "2022-06-13T14:34:55.955Z"
   },
   {
    "duration": 9,
    "start_time": "2022-06-13T14:34:55.962Z"
   },
   {
    "duration": 8,
    "start_time": "2022-06-13T14:34:55.974Z"
   },
   {
    "duration": 11,
    "start_time": "2022-06-13T14:34:55.984Z"
   },
   {
    "duration": 17,
    "start_time": "2022-06-13T14:34:55.997Z"
   },
   {
    "duration": 12,
    "start_time": "2022-06-13T14:34:56.016Z"
   },
   {
    "duration": 1098,
    "start_time": "2022-06-13T14:34:56.030Z"
   },
   {
    "duration": 77,
    "start_time": "2022-06-13T14:34:57.130Z"
   },
   {
    "duration": 4,
    "start_time": "2022-06-13T14:34:57.216Z"
   },
   {
    "duration": 14,
    "start_time": "2022-06-13T14:34:57.222Z"
   },
   {
    "duration": 9,
    "start_time": "2022-06-13T14:34:57.238Z"
   },
   {
    "duration": 28,
    "start_time": "2022-06-13T14:34:57.249Z"
   },
   {
    "duration": 9,
    "start_time": "2022-06-13T14:34:57.280Z"
   },
   {
    "duration": 53,
    "start_time": "2022-06-13T14:34:57.294Z"
   },
   {
    "duration": 5,
    "start_time": "2022-06-13T14:35:03.171Z"
   },
   {
    "duration": 8,
    "start_time": "2022-06-13T14:35:09.552Z"
   },
   {
    "duration": 32,
    "start_time": "2022-06-13T14:35:11.719Z"
   },
   {
    "duration": 30,
    "start_time": "2022-06-13T14:35:47.955Z"
   },
   {
    "duration": 26,
    "start_time": "2022-06-13T14:36:15.560Z"
   },
   {
    "duration": 6,
    "start_time": "2022-06-13T14:36:39.424Z"
   },
   {
    "duration": 52,
    "start_time": "2022-06-13T14:36:39.433Z"
   },
   {
    "duration": 18,
    "start_time": "2022-06-13T14:36:39.487Z"
   },
   {
    "duration": 17,
    "start_time": "2022-06-13T14:36:39.508Z"
   },
   {
    "duration": 20,
    "start_time": "2022-06-13T14:36:39.528Z"
   },
   {
    "duration": 23,
    "start_time": "2022-06-13T14:36:39.550Z"
   },
   {
    "duration": 33,
    "start_time": "2022-06-13T14:36:39.575Z"
   },
   {
    "duration": 39,
    "start_time": "2022-06-13T14:36:39.611Z"
   },
   {
    "duration": 13,
    "start_time": "2022-06-13T14:36:39.652Z"
   },
   {
    "duration": 23,
    "start_time": "2022-06-13T14:36:39.666Z"
   },
   {
    "duration": 42,
    "start_time": "2022-06-13T14:36:39.691Z"
   },
   {
    "duration": 18,
    "start_time": "2022-06-13T14:36:39.735Z"
   },
   {
    "duration": 18,
    "start_time": "2022-06-13T14:36:39.754Z"
   },
   {
    "duration": 11,
    "start_time": "2022-06-13T14:36:39.775Z"
   },
   {
    "duration": 27,
    "start_time": "2022-06-13T14:36:39.788Z"
   },
   {
    "duration": 15,
    "start_time": "2022-06-13T14:36:39.818Z"
   },
   {
    "duration": 137,
    "start_time": "2022-06-13T14:36:39.835Z"
   },
   {
    "duration": 126,
    "start_time": "2022-06-13T14:36:39.974Z"
   },
   {
    "duration": 17,
    "start_time": "2022-06-13T14:36:40.103Z"
   },
   {
    "duration": 6,
    "start_time": "2022-06-13T14:36:40.122Z"
   },
   {
    "duration": 151,
    "start_time": "2022-06-13T14:36:40.130Z"
   },
   {
    "duration": 8,
    "start_time": "2022-06-13T14:36:40.283Z"
   },
   {
    "duration": 37,
    "start_time": "2022-06-13T14:36:40.294Z"
   },
   {
    "duration": 129,
    "start_time": "2022-06-13T14:36:40.334Z"
   },
   {
    "duration": 8,
    "start_time": "2022-06-13T14:36:40.465Z"
   },
   {
    "duration": 8,
    "start_time": "2022-06-13T14:36:40.474Z"
   },
   {
    "duration": 156,
    "start_time": "2022-06-13T14:36:40.483Z"
   },
   {
    "duration": 10,
    "start_time": "2022-06-13T14:36:40.641Z"
   },
   {
    "duration": 14,
    "start_time": "2022-06-13T14:36:40.653Z"
   },
   {
    "duration": 124,
    "start_time": "2022-06-13T14:36:40.669Z"
   },
   {
    "duration": 12,
    "start_time": "2022-06-13T14:36:40.801Z"
   },
   {
    "duration": 20,
    "start_time": "2022-06-13T14:36:40.815Z"
   },
   {
    "duration": 12,
    "start_time": "2022-06-13T14:36:40.837Z"
   },
   {
    "duration": 18,
    "start_time": "2022-06-13T14:36:40.851Z"
   },
   {
    "duration": 10,
    "start_time": "2022-06-13T14:36:40.871Z"
   },
   {
    "duration": 10,
    "start_time": "2022-06-13T14:36:40.882Z"
   },
   {
    "duration": 26,
    "start_time": "2022-06-13T14:36:40.893Z"
   },
   {
    "duration": 9,
    "start_time": "2022-06-13T14:36:40.921Z"
   },
   {
    "duration": 7,
    "start_time": "2022-06-13T14:36:40.932Z"
   },
   {
    "duration": 10,
    "start_time": "2022-06-13T14:36:40.941Z"
   },
   {
    "duration": 4,
    "start_time": "2022-06-13T14:36:40.956Z"
   },
   {
    "duration": 17,
    "start_time": "2022-06-13T14:36:40.962Z"
   },
   {
    "duration": 5,
    "start_time": "2022-06-13T14:36:40.981Z"
   },
   {
    "duration": 19,
    "start_time": "2022-06-13T14:36:40.988Z"
   },
   {
    "duration": 27,
    "start_time": "2022-06-13T14:36:41.009Z"
   },
   {
    "duration": 9,
    "start_time": "2022-06-13T14:36:41.038Z"
   },
   {
    "duration": 14,
    "start_time": "2022-06-13T14:36:41.050Z"
   },
   {
    "duration": 9,
    "start_time": "2022-06-13T14:36:41.067Z"
   },
   {
    "duration": 6,
    "start_time": "2022-06-13T14:36:41.079Z"
   },
   {
    "duration": 9,
    "start_time": "2022-06-13T14:36:41.088Z"
   },
   {
    "duration": 36,
    "start_time": "2022-06-13T14:36:41.100Z"
   },
   {
    "duration": 7,
    "start_time": "2022-06-13T14:36:41.138Z"
   },
   {
    "duration": 4,
    "start_time": "2022-06-13T14:36:41.147Z"
   },
   {
    "duration": 8,
    "start_time": "2022-06-13T14:36:41.153Z"
   },
   {
    "duration": 8,
    "start_time": "2022-06-13T14:36:41.162Z"
   },
   {
    "duration": 758,
    "start_time": "2022-06-13T14:36:41.172Z"
   },
   {
    "duration": 10,
    "start_time": "2022-06-13T14:36:41.995Z"
   },
   {
    "duration": 40,
    "start_time": "2022-06-13T14:36:42.007Z"
   },
   {
    "duration": 19,
    "start_time": "2022-06-13T14:36:42.050Z"
   },
   {
    "duration": 8,
    "start_time": "2022-06-13T14:36:42.070Z"
   },
   {
    "duration": 7,
    "start_time": "2022-06-13T14:36:42.080Z"
   },
   {
    "duration": 38,
    "start_time": "2022-06-13T14:36:42.089Z"
   },
   {
    "duration": 25,
    "start_time": "2022-06-13T14:36:42.129Z"
   },
   {
    "duration": 6,
    "start_time": "2022-06-13T14:36:42.156Z"
   },
   {
    "duration": 14,
    "start_time": "2022-06-13T14:36:46.321Z"
   },
   {
    "duration": 16,
    "start_time": "2022-06-13T14:37:06.162Z"
   },
   {
    "duration": 5,
    "start_time": "2022-06-13T14:37:36.673Z"
   },
   {
    "duration": 61,
    "start_time": "2022-06-13T14:37:36.682Z"
   },
   {
    "duration": 12,
    "start_time": "2022-06-13T14:37:36.744Z"
   },
   {
    "duration": 9,
    "start_time": "2022-06-13T14:37:36.758Z"
   },
   {
    "duration": 12,
    "start_time": "2022-06-13T14:37:36.769Z"
   },
   {
    "duration": 17,
    "start_time": "2022-06-13T14:37:36.784Z"
   },
   {
    "duration": 19,
    "start_time": "2022-06-13T14:37:36.805Z"
   },
   {
    "duration": 12,
    "start_time": "2022-06-13T14:37:36.826Z"
   },
   {
    "duration": 16,
    "start_time": "2022-06-13T14:37:36.840Z"
   },
   {
    "duration": 7,
    "start_time": "2022-06-13T14:37:36.859Z"
   },
   {
    "duration": 11,
    "start_time": "2022-06-13T14:37:36.895Z"
   },
   {
    "duration": 13,
    "start_time": "2022-06-13T14:37:36.910Z"
   },
   {
    "duration": 6,
    "start_time": "2022-06-13T14:37:36.925Z"
   },
   {
    "duration": 6,
    "start_time": "2022-06-13T14:37:36.933Z"
   },
   {
    "duration": 9,
    "start_time": "2022-06-13T14:37:36.941Z"
   },
   {
    "duration": 11,
    "start_time": "2022-06-13T14:37:36.951Z"
   },
   {
    "duration": 133,
    "start_time": "2022-06-13T14:37:36.964Z"
   },
   {
    "duration": 128,
    "start_time": "2022-06-13T14:37:37.100Z"
   },
   {
    "duration": 8,
    "start_time": "2022-06-13T14:37:37.230Z"
   },
   {
    "duration": 7,
    "start_time": "2022-06-13T14:37:37.240Z"
   },
   {
    "duration": 133,
    "start_time": "2022-06-13T14:37:37.249Z"
   },
   {
    "duration": 23,
    "start_time": "2022-06-13T14:37:37.384Z"
   },
   {
    "duration": 22,
    "start_time": "2022-06-13T14:37:37.409Z"
   },
   {
    "duration": 131,
    "start_time": "2022-06-13T14:37:37.433Z"
   },
   {
    "duration": 10,
    "start_time": "2022-06-13T14:37:37.566Z"
   },
   {
    "duration": 19,
    "start_time": "2022-06-13T14:37:37.578Z"
   },
   {
    "duration": 130,
    "start_time": "2022-06-13T14:37:37.600Z"
   },
   {
    "duration": 9,
    "start_time": "2022-06-13T14:37:37.733Z"
   },
   {
    "duration": 4,
    "start_time": "2022-06-13T14:37:37.748Z"
   },
   {
    "duration": 129,
    "start_time": "2022-06-13T14:37:37.755Z"
   },
   {
    "duration": 16,
    "start_time": "2022-06-13T14:37:37.898Z"
   },
   {
    "duration": 9,
    "start_time": "2022-06-13T14:37:37.917Z"
   },
   {
    "duration": 8,
    "start_time": "2022-06-13T14:37:37.928Z"
   },
   {
    "duration": 30,
    "start_time": "2022-06-13T14:37:37.939Z"
   },
   {
    "duration": 26,
    "start_time": "2022-06-13T14:37:37.972Z"
   },
   {
    "duration": 11,
    "start_time": "2022-06-13T14:37:38.003Z"
   },
   {
    "duration": 12,
    "start_time": "2022-06-13T14:37:38.017Z"
   },
   {
    "duration": 11,
    "start_time": "2022-06-13T14:37:38.031Z"
   },
   {
    "duration": 7,
    "start_time": "2022-06-13T14:37:38.044Z"
   },
   {
    "duration": 9,
    "start_time": "2022-06-13T14:37:38.053Z"
   },
   {
    "duration": 44,
    "start_time": "2022-06-13T14:37:38.064Z"
   },
   {
    "duration": 44,
    "start_time": "2022-06-13T14:37:38.110Z"
   },
   {
    "duration": 7,
    "start_time": "2022-06-13T14:37:38.157Z"
   },
   {
    "duration": 12,
    "start_time": "2022-06-13T14:37:38.166Z"
   },
   {
    "duration": 5,
    "start_time": "2022-06-13T14:37:38.181Z"
   },
   {
    "duration": 17,
    "start_time": "2022-06-13T14:37:38.189Z"
   },
   {
    "duration": 11,
    "start_time": "2022-06-13T14:37:38.211Z"
   },
   {
    "duration": 5,
    "start_time": "2022-06-13T14:37:38.225Z"
   },
   {
    "duration": 10,
    "start_time": "2022-06-13T14:37:38.232Z"
   },
   {
    "duration": 9,
    "start_time": "2022-06-13T14:37:38.244Z"
   },
   {
    "duration": 19,
    "start_time": "2022-06-13T14:37:38.255Z"
   },
   {
    "duration": 7,
    "start_time": "2022-06-13T14:37:38.277Z"
   },
   {
    "duration": 14,
    "start_time": "2022-06-13T14:37:38.286Z"
   },
   {
    "duration": 15,
    "start_time": "2022-06-13T14:37:38.303Z"
   },
   {
    "duration": 5,
    "start_time": "2022-06-13T14:37:38.321Z"
   },
   {
    "duration": 1100,
    "start_time": "2022-06-13T14:37:38.328Z"
   },
   {
    "duration": 67,
    "start_time": "2022-06-13T14:37:39.431Z"
   },
   {
    "duration": 10,
    "start_time": "2022-06-13T14:37:39.501Z"
   },
   {
    "duration": 21,
    "start_time": "2022-06-13T14:37:39.514Z"
   },
   {
    "duration": 14,
    "start_time": "2022-06-13T14:37:39.538Z"
   },
   {
    "duration": 6,
    "start_time": "2022-06-13T14:37:39.555Z"
   },
   {
    "duration": 9,
    "start_time": "2022-06-13T14:37:39.562Z"
   },
   {
    "duration": 45,
    "start_time": "2022-06-13T14:37:39.596Z"
   },
   {
    "duration": 6,
    "start_time": "2022-06-13T14:37:39.643Z"
   },
   {
    "duration": 23,
    "start_time": "2022-06-13T14:37:39.651Z"
   },
   {
    "duration": 21,
    "start_time": "2022-06-13T14:50:07.291Z"
   },
   {
    "duration": 26,
    "start_time": "2022-06-13T14:50:31.186Z"
   },
   {
    "duration": 13,
    "start_time": "2022-06-13T14:51:03.457Z"
   },
   {
    "duration": 9,
    "start_time": "2022-06-13T14:52:09.257Z"
   },
   {
    "duration": 166,
    "start_time": "2022-06-13T14:52:09.269Z"
   },
   {
    "duration": 21,
    "start_time": "2022-06-13T14:52:09.439Z"
   },
   {
    "duration": 28,
    "start_time": "2022-06-13T14:52:09.463Z"
   },
   {
    "duration": 37,
    "start_time": "2022-06-13T14:52:09.502Z"
   },
   {
    "duration": 18,
    "start_time": "2022-06-13T14:52:09.541Z"
   },
   {
    "duration": 16,
    "start_time": "2022-06-13T14:52:09.562Z"
   },
   {
    "duration": 47,
    "start_time": "2022-06-13T14:52:09.581Z"
   },
   {
    "duration": 17,
    "start_time": "2022-06-13T14:52:09.631Z"
   },
   {
    "duration": 17,
    "start_time": "2022-06-13T14:52:09.653Z"
   },
   {
    "duration": 8,
    "start_time": "2022-06-13T14:52:09.672Z"
   },
   {
    "duration": 47,
    "start_time": "2022-06-13T14:52:09.682Z"
   },
   {
    "duration": 23,
    "start_time": "2022-06-13T14:52:09.731Z"
   },
   {
    "duration": 7,
    "start_time": "2022-06-13T14:52:09.757Z"
   },
   {
    "duration": 16,
    "start_time": "2022-06-13T14:52:09.767Z"
   },
   {
    "duration": 43,
    "start_time": "2022-06-13T14:52:09.786Z"
   },
   {
    "duration": 149,
    "start_time": "2022-06-13T14:52:09.831Z"
   },
   {
    "duration": 171,
    "start_time": "2022-06-13T14:52:09.983Z"
   },
   {
    "duration": 11,
    "start_time": "2022-06-13T14:52:10.157Z"
   },
   {
    "duration": 15,
    "start_time": "2022-06-13T14:52:10.169Z"
   },
   {
    "duration": 212,
    "start_time": "2022-06-13T14:52:10.197Z"
   },
   {
    "duration": 11,
    "start_time": "2022-06-13T14:52:10.412Z"
   },
   {
    "duration": 16,
    "start_time": "2022-06-13T14:52:10.426Z"
   },
   {
    "duration": 239,
    "start_time": "2022-06-13T14:52:10.445Z"
   },
   {
    "duration": 41,
    "start_time": "2022-06-13T14:52:10.686Z"
   },
   {
    "duration": 18,
    "start_time": "2022-06-13T14:52:10.730Z"
   },
   {
    "duration": 139,
    "start_time": "2022-06-13T14:52:10.750Z"
   },
   {
    "duration": 26,
    "start_time": "2022-06-13T14:52:10.899Z"
   },
   {
    "duration": 16,
    "start_time": "2022-06-13T14:52:10.927Z"
   },
   {
    "duration": 152,
    "start_time": "2022-06-13T14:52:10.946Z"
   },
   {
    "duration": 26,
    "start_time": "2022-06-13T14:52:11.100Z"
   },
   {
    "duration": 5,
    "start_time": "2022-06-13T14:52:11.128Z"
   },
   {
    "duration": 16,
    "start_time": "2022-06-13T14:52:11.136Z"
   },
   {
    "duration": 18,
    "start_time": "2022-06-13T14:52:11.155Z"
   },
   {
    "duration": 41,
    "start_time": "2022-06-13T14:52:11.175Z"
   },
   {
    "duration": 12,
    "start_time": "2022-06-13T14:52:11.218Z"
   },
   {
    "duration": 9,
    "start_time": "2022-06-13T14:52:11.232Z"
   },
   {
    "duration": 17,
    "start_time": "2022-06-13T14:52:11.242Z"
   },
   {
    "duration": 10,
    "start_time": "2022-06-13T14:52:11.261Z"
   },
   {
    "duration": 24,
    "start_time": "2022-06-13T14:52:11.274Z"
   },
   {
    "duration": 32,
    "start_time": "2022-06-13T14:52:11.301Z"
   },
   {
    "duration": 25,
    "start_time": "2022-06-13T14:52:11.335Z"
   },
   {
    "duration": 12,
    "start_time": "2022-06-13T14:52:11.368Z"
   },
   {
    "duration": 36,
    "start_time": "2022-06-13T14:52:11.384Z"
   },
   {
    "duration": 28,
    "start_time": "2022-06-13T14:52:11.424Z"
   },
   {
    "duration": 11,
    "start_time": "2022-06-13T14:52:11.455Z"
   },
   {
    "duration": 15,
    "start_time": "2022-06-13T14:52:11.469Z"
   },
   {
    "duration": 6,
    "start_time": "2022-06-13T14:52:11.486Z"
   },
   {
    "duration": 35,
    "start_time": "2022-06-13T14:52:11.494Z"
   },
   {
    "duration": 18,
    "start_time": "2022-06-13T14:52:11.531Z"
   },
   {
    "duration": 8,
    "start_time": "2022-06-13T14:52:11.552Z"
   },
   {
    "duration": 14,
    "start_time": "2022-06-13T14:52:11.563Z"
   },
   {
    "duration": 12,
    "start_time": "2022-06-13T14:52:11.579Z"
   },
   {
    "duration": 1033,
    "start_time": "2022-06-13T14:52:11.600Z"
   },
   {
    "duration": 7,
    "start_time": "2022-06-13T14:52:12.636Z"
   },
   {
    "duration": 10,
    "start_time": "2022-06-13T14:52:12.647Z"
   },
   {
    "duration": 48,
    "start_time": "2022-06-13T14:52:12.659Z"
   },
   {
    "duration": 41,
    "start_time": "2022-06-13T14:52:12.710Z"
   },
   {
    "duration": 18,
    "start_time": "2022-06-13T14:52:12.753Z"
   },
   {
    "duration": 13,
    "start_time": "2022-06-13T14:52:12.774Z"
   },
   {
    "duration": 62,
    "start_time": "2022-06-13T14:52:12.789Z"
   },
   {
    "duration": 23,
    "start_time": "2022-06-13T14:52:12.853Z"
   },
   {
    "duration": 51,
    "start_time": "2022-06-13T14:52:12.879Z"
   },
   {
    "duration": 21,
    "start_time": "2022-06-13T14:52:12.932Z"
   },
   {
    "duration": 0,
    "start_time": "2022-06-13T14:52:12.955Z"
   },
   {
    "duration": 0,
    "start_time": "2022-06-13T14:52:12.957Z"
   },
   {
    "duration": 0,
    "start_time": "2022-06-13T14:52:12.959Z"
   },
   {
    "duration": 0,
    "start_time": "2022-06-13T14:52:12.960Z"
   },
   {
    "duration": 0,
    "start_time": "2022-06-13T14:52:12.962Z"
   },
   {
    "duration": 0,
    "start_time": "2022-06-13T14:52:12.963Z"
   },
   {
    "duration": 0,
    "start_time": "2022-06-13T14:52:12.964Z"
   },
   {
    "duration": 0,
    "start_time": "2022-06-13T14:52:12.966Z"
   },
   {
    "duration": 0,
    "start_time": "2022-06-13T14:52:12.967Z"
   },
   {
    "duration": 0,
    "start_time": "2022-06-13T14:52:12.969Z"
   },
   {
    "duration": 3,
    "start_time": "2022-06-13T14:52:22.819Z"
   },
   {
    "duration": 8,
    "start_time": "2022-06-13T14:52:28.085Z"
   },
   {
    "duration": 111,
    "start_time": "2022-06-13T14:52:28.096Z"
   },
   {
    "duration": 17,
    "start_time": "2022-06-13T14:52:28.210Z"
   },
   {
    "duration": 9,
    "start_time": "2022-06-13T14:52:28.230Z"
   },
   {
    "duration": 9,
    "start_time": "2022-06-13T14:52:28.242Z"
   },
   {
    "duration": 25,
    "start_time": "2022-06-13T14:52:28.254Z"
   },
   {
    "duration": 36,
    "start_time": "2022-06-13T14:52:28.295Z"
   },
   {
    "duration": 20,
    "start_time": "2022-06-13T14:52:28.333Z"
   },
   {
    "duration": 26,
    "start_time": "2022-06-13T14:52:28.356Z"
   },
   {
    "duration": 38,
    "start_time": "2022-06-13T14:52:28.385Z"
   },
   {
    "duration": 9,
    "start_time": "2022-06-13T14:52:28.426Z"
   },
   {
    "duration": 25,
    "start_time": "2022-06-13T14:52:28.438Z"
   },
   {
    "duration": 16,
    "start_time": "2022-06-13T14:52:28.466Z"
   },
   {
    "duration": 47,
    "start_time": "2022-06-13T14:52:28.486Z"
   },
   {
    "duration": 23,
    "start_time": "2022-06-13T14:52:28.535Z"
   },
   {
    "duration": 12,
    "start_time": "2022-06-13T14:52:28.561Z"
   },
   {
    "duration": 171,
    "start_time": "2022-06-13T14:52:28.576Z"
   },
   {
    "duration": 176,
    "start_time": "2022-06-13T14:52:28.749Z"
   },
   {
    "duration": 23,
    "start_time": "2022-06-13T14:52:28.935Z"
   },
   {
    "duration": 30,
    "start_time": "2022-06-13T14:52:28.963Z"
   },
   {
    "duration": 263,
    "start_time": "2022-06-13T14:52:29.002Z"
   },
   {
    "duration": 14,
    "start_time": "2022-06-13T14:52:29.268Z"
   },
   {
    "duration": 47,
    "start_time": "2022-06-13T14:52:29.285Z"
   },
   {
    "duration": 200,
    "start_time": "2022-06-13T14:52:29.338Z"
   },
   {
    "duration": 13,
    "start_time": "2022-06-13T14:52:29.540Z"
   },
   {
    "duration": 26,
    "start_time": "2022-06-13T14:52:29.556Z"
   },
   {
    "duration": 194,
    "start_time": "2022-06-13T14:52:29.585Z"
   },
   {
    "duration": 18,
    "start_time": "2022-06-13T14:52:29.782Z"
   },
   {
    "duration": 24,
    "start_time": "2022-06-13T14:52:29.807Z"
   },
   {
    "duration": 186,
    "start_time": "2022-06-13T14:52:29.834Z"
   },
   {
    "duration": 14,
    "start_time": "2022-06-13T14:52:30.025Z"
   },
   {
    "duration": 46,
    "start_time": "2022-06-13T14:52:30.041Z"
   },
   {
    "duration": 38,
    "start_time": "2022-06-13T14:52:30.089Z"
   },
   {
    "duration": 40,
    "start_time": "2022-06-13T14:52:30.129Z"
   },
   {
    "duration": 39,
    "start_time": "2022-06-13T14:52:30.172Z"
   },
   {
    "duration": 18,
    "start_time": "2022-06-13T14:52:30.221Z"
   },
   {
    "duration": 15,
    "start_time": "2022-06-13T14:52:30.242Z"
   },
   {
    "duration": 30,
    "start_time": "2022-06-13T14:52:30.259Z"
   },
   {
    "duration": 40,
    "start_time": "2022-06-13T14:52:30.292Z"
   },
   {
    "duration": 10,
    "start_time": "2022-06-13T14:52:30.335Z"
   },
   {
    "duration": 17,
    "start_time": "2022-06-13T14:52:30.348Z"
   },
   {
    "duration": 40,
    "start_time": "2022-06-13T14:52:30.371Z"
   },
   {
    "duration": 20,
    "start_time": "2022-06-13T14:52:30.414Z"
   },
   {
    "duration": 20,
    "start_time": "2022-06-13T14:52:30.438Z"
   },
   {
    "duration": 17,
    "start_time": "2022-06-13T14:52:30.460Z"
   },
   {
    "duration": 40,
    "start_time": "2022-06-13T14:52:30.479Z"
   },
   {
    "duration": 13,
    "start_time": "2022-06-13T14:52:30.522Z"
   },
   {
    "duration": 11,
    "start_time": "2022-06-13T14:52:30.537Z"
   },
   {
    "duration": 14,
    "start_time": "2022-06-13T14:52:30.551Z"
   },
   {
    "duration": 14,
    "start_time": "2022-06-13T14:52:30.568Z"
   },
   {
    "duration": 6,
    "start_time": "2022-06-13T14:52:30.585Z"
   },
   {
    "duration": 46,
    "start_time": "2022-06-13T14:52:30.596Z"
   },
   {
    "duration": 43,
    "start_time": "2022-06-13T14:52:30.644Z"
   },
   {
    "duration": 1453,
    "start_time": "2022-06-13T14:52:30.689Z"
   },
   {
    "duration": 64,
    "start_time": "2022-06-13T14:52:32.144Z"
   },
   {
    "duration": 23,
    "start_time": "2022-06-13T14:52:32.211Z"
   },
   {
    "duration": 20,
    "start_time": "2022-06-13T14:52:32.237Z"
   },
   {
    "duration": 11,
    "start_time": "2022-06-13T14:52:32.259Z"
   },
   {
    "duration": 17,
    "start_time": "2022-06-13T14:52:32.272Z"
   },
   {
    "duration": 36,
    "start_time": "2022-06-13T14:52:32.292Z"
   },
   {
    "duration": 37,
    "start_time": "2022-06-13T14:52:32.331Z"
   },
   {
    "duration": 10,
    "start_time": "2022-06-13T14:52:32.371Z"
   },
   {
    "duration": 39,
    "start_time": "2022-06-13T14:52:32.383Z"
   },
   {
    "duration": 8,
    "start_time": "2022-06-13T14:52:32.425Z"
   },
   {
    "duration": 19,
    "start_time": "2022-06-13T14:52:32.435Z"
   },
   {
    "duration": 7,
    "start_time": "2022-06-13T14:52:32.457Z"
   },
   {
    "duration": 9,
    "start_time": "2022-06-13T14:52:32.466Z"
   },
   {
    "duration": 1356,
    "start_time": "2022-06-13T14:52:32.481Z"
   },
   {
    "duration": 98,
    "start_time": "2022-06-13T14:52:33.840Z"
   },
   {
    "duration": 0,
    "start_time": "2022-06-13T14:52:33.944Z"
   },
   {
    "duration": 0,
    "start_time": "2022-06-13T14:52:33.945Z"
   },
   {
    "duration": 0,
    "start_time": "2022-06-13T14:52:33.947Z"
   },
   {
    "duration": 0,
    "start_time": "2022-06-13T14:52:33.948Z"
   },
   {
    "duration": 0,
    "start_time": "2022-06-13T14:52:33.950Z"
   },
   {
    "duration": 8,
    "start_time": "2022-06-13T14:54:07.441Z"
   },
   {
    "duration": 73,
    "start_time": "2022-06-13T14:54:07.452Z"
   },
   {
    "duration": 18,
    "start_time": "2022-06-13T14:54:07.527Z"
   },
   {
    "duration": 8,
    "start_time": "2022-06-13T14:54:07.548Z"
   },
   {
    "duration": 9,
    "start_time": "2022-06-13T14:54:07.559Z"
   },
   {
    "duration": 35,
    "start_time": "2022-06-13T14:54:07.570Z"
   },
   {
    "duration": 31,
    "start_time": "2022-06-13T14:54:07.607Z"
   },
   {
    "duration": 20,
    "start_time": "2022-06-13T14:54:07.640Z"
   },
   {
    "duration": 17,
    "start_time": "2022-06-13T14:54:07.662Z"
   },
   {
    "duration": 39,
    "start_time": "2022-06-13T14:54:07.681Z"
   },
   {
    "duration": 10,
    "start_time": "2022-06-13T14:54:07.725Z"
   },
   {
    "duration": 27,
    "start_time": "2022-06-13T14:54:07.737Z"
   },
   {
    "duration": 16,
    "start_time": "2022-06-13T14:54:07.769Z"
   },
   {
    "duration": 37,
    "start_time": "2022-06-13T14:54:07.788Z"
   },
   {
    "duration": 12,
    "start_time": "2022-06-13T14:54:07.828Z"
   },
   {
    "duration": 29,
    "start_time": "2022-06-13T14:54:07.842Z"
   },
   {
    "duration": 155,
    "start_time": "2022-06-13T14:54:07.874Z"
   },
   {
    "duration": 142,
    "start_time": "2022-06-13T14:54:08.036Z"
   },
   {
    "duration": 11,
    "start_time": "2022-06-13T14:54:08.180Z"
   },
   {
    "duration": 47,
    "start_time": "2022-06-13T14:54:08.194Z"
   },
   {
    "duration": 182,
    "start_time": "2022-06-13T14:54:08.243Z"
   },
   {
    "duration": 14,
    "start_time": "2022-06-13T14:54:08.427Z"
   },
   {
    "duration": 16,
    "start_time": "2022-06-13T14:54:08.443Z"
   },
   {
    "duration": 170,
    "start_time": "2022-06-13T14:54:08.461Z"
   },
   {
    "duration": 13,
    "start_time": "2022-06-13T14:54:08.634Z"
   },
   {
    "duration": 35,
    "start_time": "2022-06-13T14:54:08.650Z"
   },
   {
    "duration": 175,
    "start_time": "2022-06-13T14:54:08.693Z"
   },
   {
    "duration": 12,
    "start_time": "2022-06-13T14:54:08.871Z"
   },
   {
    "duration": 5,
    "start_time": "2022-06-13T14:54:08.905Z"
   },
   {
    "duration": 194,
    "start_time": "2022-06-13T14:54:08.913Z"
   },
   {
    "duration": 11,
    "start_time": "2022-06-13T14:54:09.110Z"
   },
   {
    "duration": 48,
    "start_time": "2022-06-13T14:54:09.123Z"
   },
   {
    "duration": 47,
    "start_time": "2022-06-13T14:54:09.173Z"
   },
   {
    "duration": 47,
    "start_time": "2022-06-13T14:54:09.222Z"
   },
   {
    "duration": 78,
    "start_time": "2022-06-13T14:54:09.271Z"
   },
   {
    "duration": 27,
    "start_time": "2022-06-13T14:54:09.351Z"
   },
   {
    "duration": 26,
    "start_time": "2022-06-13T14:54:09.381Z"
   },
   {
    "duration": 61,
    "start_time": "2022-06-13T14:54:09.410Z"
   },
   {
    "duration": 37,
    "start_time": "2022-06-13T14:54:09.474Z"
   },
   {
    "duration": 30,
    "start_time": "2022-06-13T14:54:09.513Z"
   },
   {
    "duration": 41,
    "start_time": "2022-06-13T14:54:09.546Z"
   },
   {
    "duration": 72,
    "start_time": "2022-06-13T14:54:09.589Z"
   },
   {
    "duration": 35,
    "start_time": "2022-06-13T14:54:09.664Z"
   },
   {
    "duration": 71,
    "start_time": "2022-06-13T14:54:09.701Z"
   },
   {
    "duration": 35,
    "start_time": "2022-06-13T14:54:09.775Z"
   },
   {
    "duration": 46,
    "start_time": "2022-06-13T14:54:09.812Z"
   },
   {
    "duration": 16,
    "start_time": "2022-06-13T14:54:09.860Z"
   },
   {
    "duration": 14,
    "start_time": "2022-06-13T14:54:09.879Z"
   },
   {
    "duration": 29,
    "start_time": "2022-06-13T14:54:09.895Z"
   },
   {
    "duration": 28,
    "start_time": "2022-06-13T14:54:09.926Z"
   },
   {
    "duration": 19,
    "start_time": "2022-06-13T14:54:09.956Z"
   },
   {
    "duration": 30,
    "start_time": "2022-06-13T14:54:09.977Z"
   },
   {
    "duration": 36,
    "start_time": "2022-06-13T14:54:10.024Z"
   },
   {
    "duration": 1755,
    "start_time": "2022-06-13T14:54:10.063Z"
   },
   {
    "duration": 12,
    "start_time": "2022-06-13T14:54:11.822Z"
   },
   {
    "duration": 58,
    "start_time": "2022-06-13T14:54:11.837Z"
   },
   {
    "duration": 66,
    "start_time": "2022-06-13T14:54:11.897Z"
   },
   {
    "duration": 8,
    "start_time": "2022-06-13T14:54:11.966Z"
   },
   {
    "duration": 16,
    "start_time": "2022-06-13T14:54:11.976Z"
   },
   {
    "duration": 53,
    "start_time": "2022-06-13T14:54:11.994Z"
   },
   {
    "duration": 40,
    "start_time": "2022-06-13T14:54:12.050Z"
   },
   {
    "duration": 0,
    "start_time": "2022-06-13T14:54:12.092Z"
   },
   {
    "duration": 0,
    "start_time": "2022-06-13T14:54:12.093Z"
   },
   {
    "duration": 9,
    "start_time": "2022-06-13T14:55:21.177Z"
   },
   {
    "duration": 94,
    "start_time": "2022-06-13T14:55:21.189Z"
   },
   {
    "duration": 24,
    "start_time": "2022-06-13T14:55:21.286Z"
   },
   {
    "duration": 37,
    "start_time": "2022-06-13T14:55:21.315Z"
   },
   {
    "duration": 26,
    "start_time": "2022-06-13T14:55:21.354Z"
   },
   {
    "duration": 28,
    "start_time": "2022-06-13T14:55:21.383Z"
   },
   {
    "duration": 36,
    "start_time": "2022-06-13T14:55:21.414Z"
   },
   {
    "duration": 13,
    "start_time": "2022-06-13T14:55:21.452Z"
   },
   {
    "duration": 16,
    "start_time": "2022-06-13T14:55:21.467Z"
   },
   {
    "duration": 13,
    "start_time": "2022-06-13T14:55:21.488Z"
   },
   {
    "duration": 38,
    "start_time": "2022-06-13T14:55:21.504Z"
   },
   {
    "duration": 8,
    "start_time": "2022-06-13T14:55:21.544Z"
   },
   {
    "duration": 7,
    "start_time": "2022-06-13T14:55:21.554Z"
   },
   {
    "duration": 7,
    "start_time": "2022-06-13T14:55:21.564Z"
   },
   {
    "duration": 15,
    "start_time": "2022-06-13T14:55:21.573Z"
   },
   {
    "duration": 48,
    "start_time": "2022-06-13T14:55:21.590Z"
   },
   {
    "duration": 137,
    "start_time": "2022-06-13T14:55:21.641Z"
   },
   {
    "duration": 145,
    "start_time": "2022-06-13T14:55:21.780Z"
   },
   {
    "duration": 14,
    "start_time": "2022-06-13T14:55:21.928Z"
   },
   {
    "duration": 17,
    "start_time": "2022-06-13T14:55:21.944Z"
   },
   {
    "duration": 205,
    "start_time": "2022-06-13T14:55:21.963Z"
   },
   {
    "duration": 12,
    "start_time": "2022-06-13T14:55:22.170Z"
   },
   {
    "duration": 52,
    "start_time": "2022-06-13T14:55:22.185Z"
   },
   {
    "duration": 163,
    "start_time": "2022-06-13T14:55:22.241Z"
   },
   {
    "duration": 9,
    "start_time": "2022-06-13T14:55:22.408Z"
   },
   {
    "duration": 22,
    "start_time": "2022-06-13T14:55:22.419Z"
   },
   {
    "duration": 208,
    "start_time": "2022-06-13T14:55:22.444Z"
   },
   {
    "duration": 14,
    "start_time": "2022-06-13T14:55:22.658Z"
   },
   {
    "duration": 32,
    "start_time": "2022-06-13T14:55:22.675Z"
   },
   {
    "duration": 149,
    "start_time": "2022-06-13T14:55:22.713Z"
   },
   {
    "duration": 12,
    "start_time": "2022-06-13T14:55:22.865Z"
   },
   {
    "duration": 48,
    "start_time": "2022-06-13T14:55:22.881Z"
   },
   {
    "duration": 16,
    "start_time": "2022-06-13T14:55:22.932Z"
   },
   {
    "duration": 31,
    "start_time": "2022-06-13T14:55:22.951Z"
   },
   {
    "duration": 43,
    "start_time": "2022-06-13T14:55:22.986Z"
   },
   {
    "duration": 15,
    "start_time": "2022-06-13T14:55:23.032Z"
   },
   {
    "duration": 8,
    "start_time": "2022-06-13T14:55:23.052Z"
   },
   {
    "duration": 23,
    "start_time": "2022-06-13T14:55:23.062Z"
   },
   {
    "duration": 6,
    "start_time": "2022-06-13T14:55:23.090Z"
   },
   {
    "duration": 37,
    "start_time": "2022-06-13T14:55:23.098Z"
   },
   {
    "duration": 17,
    "start_time": "2022-06-13T14:55:23.137Z"
   },
   {
    "duration": 26,
    "start_time": "2022-06-13T14:55:23.157Z"
   },
   {
    "duration": 31,
    "start_time": "2022-06-13T14:55:23.185Z"
   },
   {
    "duration": 41,
    "start_time": "2022-06-13T14:55:23.218Z"
   },
   {
    "duration": 17,
    "start_time": "2022-06-13T14:55:23.262Z"
   },
   {
    "duration": 12,
    "start_time": "2022-06-13T14:55:23.281Z"
   },
   {
    "duration": 35,
    "start_time": "2022-06-13T14:55:23.296Z"
   },
   {
    "duration": 12,
    "start_time": "2022-06-13T14:55:23.333Z"
   },
   {
    "duration": 10,
    "start_time": "2022-06-13T14:55:23.347Z"
   },
   {
    "duration": 11,
    "start_time": "2022-06-13T14:55:23.359Z"
   },
   {
    "duration": 10,
    "start_time": "2022-06-13T14:55:23.373Z"
   },
   {
    "duration": 28,
    "start_time": "2022-06-13T14:55:23.386Z"
   },
   {
    "duration": 20,
    "start_time": "2022-06-13T14:55:23.417Z"
   },
   {
    "duration": 2161,
    "start_time": "2022-06-13T14:55:23.439Z"
   },
   {
    "duration": 12,
    "start_time": "2022-06-13T14:55:25.602Z"
   },
   {
    "duration": 20,
    "start_time": "2022-06-13T14:55:25.618Z"
   },
   {
    "duration": 69,
    "start_time": "2022-06-13T14:55:25.642Z"
   },
   {
    "duration": 16,
    "start_time": "2022-06-13T14:55:25.717Z"
   },
   {
    "duration": 10,
    "start_time": "2022-06-13T14:55:25.735Z"
   },
   {
    "duration": 13,
    "start_time": "2022-06-13T14:55:25.748Z"
   },
   {
    "duration": 25,
    "start_time": "2022-06-13T14:55:25.763Z"
   },
   {
    "duration": 0,
    "start_time": "2022-06-13T14:55:25.789Z"
   },
   {
    "duration": 0,
    "start_time": "2022-06-13T14:55:25.791Z"
   },
   {
    "duration": 8,
    "start_time": "2022-06-13T14:56:39.738Z"
   },
   {
    "duration": 17,
    "start_time": "2022-06-13T14:56:51.125Z"
   },
   {
    "duration": 30,
    "start_time": "2022-06-13T14:57:20.728Z"
   },
   {
    "duration": 9,
    "start_time": "2022-06-13T14:57:34.978Z"
   },
   {
    "duration": 84,
    "start_time": "2022-06-13T14:57:34.989Z"
   },
   {
    "duration": 14,
    "start_time": "2022-06-13T14:57:35.076Z"
   },
   {
    "duration": 46,
    "start_time": "2022-06-13T14:57:35.092Z"
   },
   {
    "duration": 17,
    "start_time": "2022-06-13T14:57:35.141Z"
   },
   {
    "duration": 10,
    "start_time": "2022-06-13T14:57:35.160Z"
   },
   {
    "duration": 16,
    "start_time": "2022-06-13T14:57:35.172Z"
   },
   {
    "duration": 18,
    "start_time": "2022-06-13T14:57:35.190Z"
   },
   {
    "duration": 22,
    "start_time": "2022-06-13T14:57:35.210Z"
   },
   {
    "duration": 9,
    "start_time": "2022-06-13T14:57:35.238Z"
   },
   {
    "duration": 9,
    "start_time": "2022-06-13T14:57:35.250Z"
   },
   {
    "duration": 9,
    "start_time": "2022-06-13T14:57:35.261Z"
   },
   {
    "duration": 11,
    "start_time": "2022-06-13T14:57:35.271Z"
   },
   {
    "duration": 33,
    "start_time": "2022-06-13T14:57:35.297Z"
   },
   {
    "duration": 15,
    "start_time": "2022-06-13T14:57:35.332Z"
   },
   {
    "duration": 19,
    "start_time": "2022-06-13T14:57:35.349Z"
   },
   {
    "duration": 144,
    "start_time": "2022-06-13T14:57:35.370Z"
   },
   {
    "duration": 127,
    "start_time": "2022-06-13T14:57:35.516Z"
   },
   {
    "duration": 10,
    "start_time": "2022-06-13T14:57:35.645Z"
   },
   {
    "duration": 9,
    "start_time": "2022-06-13T14:57:35.657Z"
   },
   {
    "duration": 160,
    "start_time": "2022-06-13T14:57:35.668Z"
   },
   {
    "duration": 13,
    "start_time": "2022-06-13T14:57:35.832Z"
   },
   {
    "duration": 11,
    "start_time": "2022-06-13T14:57:35.847Z"
   },
   {
    "duration": 183,
    "start_time": "2022-06-13T14:57:35.861Z"
   },
   {
    "duration": 9,
    "start_time": "2022-06-13T14:57:36.046Z"
   },
   {
    "duration": 8,
    "start_time": "2022-06-13T14:57:36.059Z"
   },
   {
    "duration": 164,
    "start_time": "2022-06-13T14:57:36.069Z"
   },
   {
    "duration": 10,
    "start_time": "2022-06-13T14:57:36.235Z"
   },
   {
    "duration": 6,
    "start_time": "2022-06-13T14:57:36.247Z"
   },
   {
    "duration": 137,
    "start_time": "2022-06-13T14:57:36.255Z"
   },
   {
    "duration": 13,
    "start_time": "2022-06-13T14:57:36.396Z"
   },
   {
    "duration": 28,
    "start_time": "2022-06-13T14:57:36.413Z"
   },
   {
    "duration": 7,
    "start_time": "2022-06-13T14:57:36.444Z"
   },
   {
    "duration": 29,
    "start_time": "2022-06-13T14:57:36.454Z"
   },
   {
    "duration": 31,
    "start_time": "2022-06-13T14:57:36.485Z"
   },
   {
    "duration": 20,
    "start_time": "2022-06-13T14:57:36.520Z"
   },
   {
    "duration": 8,
    "start_time": "2022-06-13T14:57:36.542Z"
   },
   {
    "duration": 23,
    "start_time": "2022-06-13T14:57:36.553Z"
   },
   {
    "duration": 5,
    "start_time": "2022-06-13T14:57:36.579Z"
   },
   {
    "duration": 61,
    "start_time": "2022-06-13T14:57:36.586Z"
   },
   {
    "duration": 6,
    "start_time": "2022-06-13T14:57:36.655Z"
   },
   {
    "duration": 20,
    "start_time": "2022-06-13T14:57:36.663Z"
   },
   {
    "duration": 6,
    "start_time": "2022-06-13T14:57:36.685Z"
   },
   {
    "duration": 40,
    "start_time": "2022-06-13T14:57:36.693Z"
   },
   {
    "duration": 9,
    "start_time": "2022-06-13T14:57:36.735Z"
   },
   {
    "duration": 7,
    "start_time": "2022-06-13T14:57:36.746Z"
   },
   {
    "duration": 7,
    "start_time": "2022-06-13T14:57:36.755Z"
   },
   {
    "duration": 14,
    "start_time": "2022-06-13T14:57:36.764Z"
   },
   {
    "duration": 9,
    "start_time": "2022-06-13T14:57:36.780Z"
   },
   {
    "duration": 42,
    "start_time": "2022-06-13T14:57:36.791Z"
   },
   {
    "duration": 8,
    "start_time": "2022-06-13T14:57:36.836Z"
   },
   {
    "duration": 11,
    "start_time": "2022-06-13T14:57:36.847Z"
   },
   {
    "duration": 7,
    "start_time": "2022-06-13T14:57:36.860Z"
   },
   {
    "duration": 1375,
    "start_time": "2022-06-13T14:57:36.869Z"
   },
   {
    "duration": 22,
    "start_time": "2022-06-13T14:57:38.303Z"
   },
   {
    "duration": 15,
    "start_time": "2022-06-13T14:57:38.328Z"
   },
   {
    "duration": 15,
    "start_time": "2022-06-13T14:57:38.345Z"
   },
   {
    "duration": 8,
    "start_time": "2022-06-13T14:57:38.362Z"
   },
   {
    "duration": 11,
    "start_time": "2022-06-13T14:57:38.372Z"
   },
   {
    "duration": 30,
    "start_time": "2022-06-13T14:57:38.394Z"
   },
   {
    "duration": 26,
    "start_time": "2022-06-13T14:58:00.739Z"
   },
   {
    "duration": 16,
    "start_time": "2022-06-13T14:58:53.637Z"
   },
   {
    "duration": 44,
    "start_time": "2022-06-13T15:14:05.591Z"
   },
   {
    "duration": 6,
    "start_time": "2022-06-13T15:14:17.749Z"
   },
   {
    "duration": 27,
    "start_time": "2022-06-13T15:15:05.539Z"
   },
   {
    "duration": 33,
    "start_time": "2022-06-13T15:15:49.524Z"
   },
   {
    "duration": 251,
    "start_time": "2022-06-13T15:15:49.564Z"
   },
   {
    "duration": 32,
    "start_time": "2022-06-13T15:15:49.818Z"
   },
   {
    "duration": 10,
    "start_time": "2022-06-13T15:15:49.853Z"
   },
   {
    "duration": 47,
    "start_time": "2022-06-13T15:15:49.866Z"
   },
   {
    "duration": 32,
    "start_time": "2022-06-13T15:15:49.915Z"
   },
   {
    "duration": 469,
    "start_time": "2022-06-13T15:15:49.952Z"
   },
   {
    "duration": 27,
    "start_time": "2022-06-13T15:15:50.428Z"
   },
   {
    "duration": 76,
    "start_time": "2022-06-13T15:15:50.462Z"
   },
   {
    "duration": 146,
    "start_time": "2022-06-13T15:15:50.545Z"
   },
   {
    "duration": 88,
    "start_time": "2022-06-13T15:15:50.698Z"
   },
   {
    "duration": 87,
    "start_time": "2022-06-13T15:15:50.792Z"
   },
   {
    "duration": 76,
    "start_time": "2022-06-13T15:15:50.882Z"
   },
   {
    "duration": 25,
    "start_time": "2022-06-13T15:15:50.963Z"
   },
   {
    "duration": 86,
    "start_time": "2022-06-13T15:15:50.991Z"
   },
   {
    "duration": 19,
    "start_time": "2022-06-13T15:15:51.080Z"
   },
   {
    "duration": 191,
    "start_time": "2022-06-13T15:15:51.101Z"
   },
   {
    "duration": 142,
    "start_time": "2022-06-13T15:15:51.294Z"
   },
   {
    "duration": 12,
    "start_time": "2022-06-13T15:15:51.438Z"
   },
   {
    "duration": 32,
    "start_time": "2022-06-13T15:15:51.452Z"
   },
   {
    "duration": 190,
    "start_time": "2022-06-13T15:15:51.486Z"
   },
   {
    "duration": 16,
    "start_time": "2022-06-13T15:15:51.681Z"
   },
   {
    "duration": 107,
    "start_time": "2022-06-13T15:15:51.702Z"
   },
   {
    "duration": 223,
    "start_time": "2022-06-13T15:15:51.812Z"
   },
   {
    "duration": 32,
    "start_time": "2022-06-13T15:15:52.042Z"
   },
   {
    "duration": 94,
    "start_time": "2022-06-13T15:15:52.077Z"
   },
   {
    "duration": 156,
    "start_time": "2022-06-13T15:15:52.174Z"
   },
   {
    "duration": 14,
    "start_time": "2022-06-13T15:15:52.336Z"
   },
   {
    "duration": 29,
    "start_time": "2022-06-13T15:15:52.352Z"
   },
   {
    "duration": 165,
    "start_time": "2022-06-13T15:15:52.384Z"
   },
   {
    "duration": 14,
    "start_time": "2022-06-13T15:15:52.560Z"
   },
   {
    "duration": 14,
    "start_time": "2022-06-13T15:15:52.577Z"
   },
   {
    "duration": 72,
    "start_time": "2022-06-13T15:15:52.593Z"
   },
   {
    "duration": 11,
    "start_time": "2022-06-13T15:15:52.668Z"
   },
   {
    "duration": 32,
    "start_time": "2022-06-13T15:15:52.681Z"
   },
   {
    "duration": 53,
    "start_time": "2022-06-13T15:15:52.715Z"
   },
   {
    "duration": 9,
    "start_time": "2022-06-13T15:15:52.770Z"
   },
   {
    "duration": 32,
    "start_time": "2022-06-13T15:15:52.781Z"
   },
   {
    "duration": 74,
    "start_time": "2022-06-13T15:15:52.815Z"
   },
   {
    "duration": 34,
    "start_time": "2022-06-13T15:15:52.891Z"
   },
   {
    "duration": 20,
    "start_time": "2022-06-13T15:15:52.932Z"
   },
   {
    "duration": 28,
    "start_time": "2022-06-13T15:15:52.956Z"
   },
   {
    "duration": 4,
    "start_time": "2022-06-13T15:15:52.986Z"
   },
   {
    "duration": 63,
    "start_time": "2022-06-13T15:15:52.992Z"
   },
   {
    "duration": 21,
    "start_time": "2022-06-13T15:15:53.058Z"
   },
   {
    "duration": 78,
    "start_time": "2022-06-13T15:15:53.081Z"
   },
   {
    "duration": 11,
    "start_time": "2022-06-13T15:15:53.162Z"
   },
   {
    "duration": 9,
    "start_time": "2022-06-13T15:15:53.176Z"
   },
   {
    "duration": 10,
    "start_time": "2022-06-13T15:15:53.187Z"
   },
   {
    "duration": 62,
    "start_time": "2022-06-13T15:15:53.207Z"
   },
   {
    "duration": 14,
    "start_time": "2022-06-13T15:15:53.271Z"
   },
   {
    "duration": 47,
    "start_time": "2022-06-13T15:15:53.287Z"
   },
   {
    "duration": 8,
    "start_time": "2022-06-13T15:15:53.336Z"
   },
   {
    "duration": 4966,
    "start_time": "2022-06-13T15:15:53.347Z"
   },
   {
    "duration": 17,
    "start_time": "2022-06-13T15:15:58.315Z"
   },
   {
    "duration": 30,
    "start_time": "2022-06-13T15:15:58.335Z"
   },
   {
    "duration": 0,
    "start_time": "2022-06-13T15:15:58.368Z"
   },
   {
    "duration": 0,
    "start_time": "2022-06-13T15:15:58.369Z"
   },
   {
    "duration": 0,
    "start_time": "2022-06-13T15:15:58.371Z"
   },
   {
    "duration": 0,
    "start_time": "2022-06-13T15:15:58.373Z"
   },
   {
    "duration": 0,
    "start_time": "2022-06-13T15:15:58.374Z"
   },
   {
    "duration": 0,
    "start_time": "2022-06-13T15:15:58.376Z"
   },
   {
    "duration": 0,
    "start_time": "2022-06-13T15:15:58.378Z"
   },
   {
    "duration": 0,
    "start_time": "2022-06-13T15:15:58.400Z"
   },
   {
    "duration": 0,
    "start_time": "2022-06-13T15:15:58.403Z"
   },
   {
    "duration": 0,
    "start_time": "2022-06-13T15:15:58.406Z"
   },
   {
    "duration": 0,
    "start_time": "2022-06-13T15:15:58.408Z"
   },
   {
    "duration": 0,
    "start_time": "2022-06-13T15:15:58.410Z"
   },
   {
    "duration": 0,
    "start_time": "2022-06-13T15:15:58.413Z"
   },
   {
    "duration": 0,
    "start_time": "2022-06-13T15:15:58.414Z"
   },
   {
    "duration": 0,
    "start_time": "2022-06-13T15:15:58.416Z"
   },
   {
    "duration": 0,
    "start_time": "2022-06-13T15:15:58.418Z"
   },
   {
    "duration": 0,
    "start_time": "2022-06-13T15:15:58.427Z"
   },
   {
    "duration": 0,
    "start_time": "2022-06-13T15:15:58.429Z"
   },
   {
    "duration": 11,
    "start_time": "2022-06-13T15:16:40.546Z"
   },
   {
    "duration": 8,
    "start_time": "2022-06-13T15:16:51.932Z"
   },
   {
    "duration": 9,
    "start_time": "2022-06-13T15:17:37.014Z"
   },
   {
    "duration": 6,
    "start_time": "2022-06-13T15:17:38.276Z"
   },
   {
    "duration": 13,
    "start_time": "2022-06-13T15:17:46.155Z"
   },
   {
    "duration": 131,
    "start_time": "2022-06-13T15:17:46.171Z"
   },
   {
    "duration": 41,
    "start_time": "2022-06-13T15:17:46.304Z"
   },
   {
    "duration": 7,
    "start_time": "2022-06-13T15:17:46.358Z"
   },
   {
    "duration": 15,
    "start_time": "2022-06-13T15:17:46.368Z"
   },
   {
    "duration": 11,
    "start_time": "2022-06-13T15:17:46.386Z"
   },
   {
    "duration": 77,
    "start_time": "2022-06-13T15:17:46.401Z"
   },
   {
    "duration": 9,
    "start_time": "2022-06-13T15:17:46.481Z"
   },
   {
    "duration": 61,
    "start_time": "2022-06-13T15:17:46.493Z"
   },
   {
    "duration": 9,
    "start_time": "2022-06-13T15:17:46.558Z"
   },
   {
    "duration": 14,
    "start_time": "2022-06-13T15:17:46.569Z"
   },
   {
    "duration": 13,
    "start_time": "2022-06-13T15:17:46.585Z"
   },
   {
    "duration": 68,
    "start_time": "2022-06-13T15:17:46.605Z"
   },
   {
    "duration": 13,
    "start_time": "2022-06-13T15:17:46.675Z"
   },
   {
    "duration": 51,
    "start_time": "2022-06-13T15:17:46.691Z"
   },
   {
    "duration": 38,
    "start_time": "2022-06-13T15:17:46.745Z"
   },
   {
    "duration": 156,
    "start_time": "2022-06-13T15:17:46.786Z"
   },
   {
    "duration": 152,
    "start_time": "2022-06-13T15:17:46.944Z"
   },
   {
    "duration": 10,
    "start_time": "2022-06-13T15:17:47.098Z"
   },
   {
    "duration": 49,
    "start_time": "2022-06-13T15:17:47.110Z"
   },
   {
    "duration": 162,
    "start_time": "2022-06-13T15:17:47.162Z"
   },
   {
    "duration": 15,
    "start_time": "2022-06-13T15:17:47.327Z"
   },
   {
    "duration": 11,
    "start_time": "2022-06-13T15:17:47.346Z"
   },
   {
    "duration": 179,
    "start_time": "2022-06-13T15:17:47.360Z"
   },
   {
    "duration": 16,
    "start_time": "2022-06-13T15:17:47.541Z"
   },
   {
    "duration": 39,
    "start_time": "2022-06-13T15:17:47.560Z"
   },
   {
    "duration": 180,
    "start_time": "2022-06-13T15:17:47.602Z"
   },
   {
    "duration": 23,
    "start_time": "2022-06-13T15:17:47.788Z"
   },
   {
    "duration": 46,
    "start_time": "2022-06-13T15:17:47.817Z"
   },
   {
    "duration": 162,
    "start_time": "2022-06-13T15:17:47.866Z"
   },
   {
    "duration": 9,
    "start_time": "2022-06-13T15:17:48.030Z"
   },
   {
    "duration": 131,
    "start_time": "2022-06-13T15:17:48.041Z"
   },
   {
    "duration": 28,
    "start_time": "2022-06-13T15:17:48.174Z"
   },
   {
    "duration": 55,
    "start_time": "2022-06-13T15:17:48.207Z"
   },
   {
    "duration": 28,
    "start_time": "2022-06-13T15:17:48.265Z"
   },
   {
    "duration": 57,
    "start_time": "2022-06-13T15:17:48.298Z"
   },
   {
    "duration": 15,
    "start_time": "2022-06-13T15:17:48.357Z"
   },
   {
    "duration": 35,
    "start_time": "2022-06-13T15:17:48.375Z"
   },
   {
    "duration": 25,
    "start_time": "2022-06-13T15:17:48.412Z"
   },
   {
    "duration": 17,
    "start_time": "2022-06-13T15:17:48.440Z"
   },
   {
    "duration": 12,
    "start_time": "2022-06-13T15:17:48.460Z"
   },
   {
    "duration": 31,
    "start_time": "2022-06-13T15:17:48.475Z"
   },
   {
    "duration": 57,
    "start_time": "2022-06-13T15:17:48.509Z"
   },
   {
    "duration": 11,
    "start_time": "2022-06-13T15:17:48.569Z"
   },
   {
    "duration": 7,
    "start_time": "2022-06-13T15:17:48.583Z"
   },
   {
    "duration": 83,
    "start_time": "2022-06-13T15:17:48.593Z"
   },
   {
    "duration": 84,
    "start_time": "2022-06-13T15:17:48.679Z"
   },
   {
    "duration": 5,
    "start_time": "2022-06-13T15:17:48.772Z"
   },
   {
    "duration": 23,
    "start_time": "2022-06-13T15:17:48.779Z"
   },
   {
    "duration": 74,
    "start_time": "2022-06-13T15:17:48.804Z"
   },
   {
    "duration": 22,
    "start_time": "2022-06-13T15:17:48.881Z"
   },
   {
    "duration": 44,
    "start_time": "2022-06-13T15:17:48.913Z"
   },
   {
    "duration": 11,
    "start_time": "2022-06-13T15:17:48.960Z"
   },
   {
    "duration": 5743,
    "start_time": "2022-06-13T15:17:48.974Z"
   },
   {
    "duration": 18,
    "start_time": "2022-06-13T15:17:54.725Z"
   },
   {
    "duration": 57,
    "start_time": "2022-06-13T15:17:54.750Z"
   },
   {
    "duration": 23,
    "start_time": "2022-06-13T15:17:54.816Z"
   },
   {
    "duration": 31,
    "start_time": "2022-06-13T15:17:54.844Z"
   },
   {
    "duration": 16,
    "start_time": "2022-06-13T15:17:54.879Z"
   },
   {
    "duration": 43,
    "start_time": "2022-06-13T15:17:54.911Z"
   },
   {
    "duration": 30,
    "start_time": "2022-06-13T15:17:54.956Z"
   },
   {
    "duration": 7,
    "start_time": "2022-06-13T15:17:54.988Z"
   },
   {
    "duration": 69,
    "start_time": "2022-06-13T15:17:55.005Z"
   },
   {
    "duration": 6,
    "start_time": "2022-06-13T15:17:55.076Z"
   },
   {
    "duration": 10,
    "start_time": "2022-06-13T15:17:55.084Z"
   },
   {
    "duration": 67,
    "start_time": "2022-06-13T15:17:55.096Z"
   },
   {
    "duration": 10,
    "start_time": "2022-06-13T15:17:55.166Z"
   },
   {
    "duration": 4603,
    "start_time": "2022-06-13T15:17:55.178Z"
   },
   {
    "duration": 52,
    "start_time": "2022-06-13T15:17:59.785Z"
   },
   {
    "duration": 26,
    "start_time": "2022-06-13T15:17:59.844Z"
   },
   {
    "duration": 5,
    "start_time": "2022-06-13T15:17:59.878Z"
   },
   {
    "duration": 10159,
    "start_time": "2022-06-13T15:19:38.595Z"
   },
   {
    "duration": 232,
    "start_time": "2022-06-13T15:19:48.757Z"
   },
   {
    "duration": 63,
    "start_time": "2022-06-13T15:19:48.992Z"
   },
   {
    "duration": 88,
    "start_time": "2022-06-13T15:19:49.073Z"
   },
   {
    "duration": 42,
    "start_time": "2022-06-13T15:19:49.180Z"
   },
   {
    "duration": 69,
    "start_time": "2022-06-13T15:19:49.227Z"
   },
   {
    "duration": 33,
    "start_time": "2022-06-13T15:19:49.309Z"
   },
   {
    "duration": 27,
    "start_time": "2022-06-13T15:19:49.360Z"
   },
   {
    "duration": 184,
    "start_time": "2022-06-13T15:19:49.391Z"
   },
   {
    "duration": 97,
    "start_time": "2022-06-13T15:19:49.579Z"
   },
   {
    "duration": 37,
    "start_time": "2022-06-13T15:19:49.681Z"
   },
   {
    "duration": 51,
    "start_time": "2022-06-13T15:19:49.727Z"
   },
   {
    "duration": 91,
    "start_time": "2022-06-13T15:19:49.784Z"
   },
   {
    "duration": 27,
    "start_time": "2022-06-13T15:19:49.892Z"
   },
   {
    "duration": 48,
    "start_time": "2022-06-13T15:19:49.922Z"
   },
   {
    "duration": 76,
    "start_time": "2022-06-13T15:19:49.973Z"
   },
   {
    "duration": 322,
    "start_time": "2022-06-13T15:19:50.060Z"
   },
   {
    "duration": 243,
    "start_time": "2022-06-13T15:19:50.390Z"
   },
   {
    "duration": 15,
    "start_time": "2022-06-13T15:19:50.640Z"
   },
   {
    "duration": 104,
    "start_time": "2022-06-13T15:19:50.661Z"
   },
   {
    "duration": 201,
    "start_time": "2022-06-13T15:19:50.771Z"
   },
   {
    "duration": 17,
    "start_time": "2022-06-13T15:19:50.978Z"
   },
   {
    "duration": 59,
    "start_time": "2022-06-13T15:19:51.000Z"
   },
   {
    "duration": 290,
    "start_time": "2022-06-13T15:19:51.065Z"
   },
   {
    "duration": 17,
    "start_time": "2022-06-13T15:19:51.362Z"
   },
   {
    "duration": 96,
    "start_time": "2022-06-13T15:19:51.386Z"
   },
   {
    "duration": 354,
    "start_time": "2022-06-13T15:19:51.488Z"
   },
   {
    "duration": 13,
    "start_time": "2022-06-13T15:19:51.849Z"
   },
   {
    "duration": 60,
    "start_time": "2022-06-13T15:19:51.867Z"
   },
   {
    "duration": 198,
    "start_time": "2022-06-13T15:19:51.933Z"
   },
   {
    "duration": 18,
    "start_time": "2022-06-13T15:19:52.137Z"
   },
   {
    "duration": 101,
    "start_time": "2022-06-13T15:19:52.161Z"
   },
   {
    "duration": 29,
    "start_time": "2022-06-13T15:19:52.267Z"
   },
   {
    "duration": 81,
    "start_time": "2022-06-13T15:19:52.298Z"
   },
   {
    "duration": 42,
    "start_time": "2022-06-13T15:19:52.381Z"
   },
   {
    "duration": 106,
    "start_time": "2022-06-13T15:19:52.425Z"
   },
   {
    "duration": 57,
    "start_time": "2022-06-13T15:19:52.533Z"
   },
   {
    "duration": 98,
    "start_time": "2022-06-13T15:19:52.591Z"
   },
   {
    "duration": 271,
    "start_time": "2022-06-13T15:19:52.692Z"
   },
   {
    "duration": 0,
    "start_time": "2022-06-13T15:19:52.967Z"
   },
   {
    "duration": 0,
    "start_time": "2022-06-13T15:19:52.968Z"
   },
   {
    "duration": 0,
    "start_time": "2022-06-13T15:19:52.969Z"
   },
   {
    "duration": 0,
    "start_time": "2022-06-13T15:19:52.971Z"
   },
   {
    "duration": 0,
    "start_time": "2022-06-13T15:19:52.973Z"
   },
   {
    "duration": 0,
    "start_time": "2022-06-13T15:19:52.974Z"
   },
   {
    "duration": 0,
    "start_time": "2022-06-13T15:19:52.976Z"
   },
   {
    "duration": 0,
    "start_time": "2022-06-13T15:19:52.977Z"
   },
   {
    "duration": 0,
    "start_time": "2022-06-13T15:19:52.979Z"
   },
   {
    "duration": 0,
    "start_time": "2022-06-13T15:19:52.980Z"
   },
   {
    "duration": 0,
    "start_time": "2022-06-13T15:19:52.982Z"
   },
   {
    "duration": 0,
    "start_time": "2022-06-13T15:19:52.984Z"
   },
   {
    "duration": 0,
    "start_time": "2022-06-13T15:19:52.985Z"
   },
   {
    "duration": 0,
    "start_time": "2022-06-13T15:19:52.987Z"
   },
   {
    "duration": 0,
    "start_time": "2022-06-13T15:19:52.988Z"
   },
   {
    "duration": 0,
    "start_time": "2022-06-13T15:19:52.990Z"
   },
   {
    "duration": 0,
    "start_time": "2022-06-13T15:19:52.991Z"
   },
   {
    "duration": 0,
    "start_time": "2022-06-13T15:19:52.993Z"
   },
   {
    "duration": 0,
    "start_time": "2022-06-13T15:19:52.996Z"
   },
   {
    "duration": 0,
    "start_time": "2022-06-13T15:19:52.999Z"
   },
   {
    "duration": 1,
    "start_time": "2022-06-13T15:19:53.000Z"
   },
   {
    "duration": 0,
    "start_time": "2022-06-13T15:19:53.002Z"
   },
   {
    "duration": 0,
    "start_time": "2022-06-13T15:19:53.008Z"
   },
   {
    "duration": 0,
    "start_time": "2022-06-13T15:19:53.010Z"
   },
   {
    "duration": 0,
    "start_time": "2022-06-13T15:19:53.011Z"
   },
   {
    "duration": 14,
    "start_time": "2022-06-13T15:20:09.805Z"
   },
   {
    "duration": 13,
    "start_time": "2022-06-13T15:20:23.646Z"
   },
   {
    "duration": 113,
    "start_time": "2022-06-13T15:20:23.662Z"
   },
   {
    "duration": 12,
    "start_time": "2022-06-13T15:20:23.778Z"
   },
   {
    "duration": 78,
    "start_time": "2022-06-13T15:20:23.792Z"
   },
   {
    "duration": 15,
    "start_time": "2022-06-13T15:20:23.873Z"
   },
   {
    "duration": 57,
    "start_time": "2022-06-13T15:20:23.890Z"
   },
   {
    "duration": 94,
    "start_time": "2022-06-13T15:20:23.949Z"
   },
   {
    "duration": 112,
    "start_time": "2022-06-13T15:20:24.050Z"
   },
   {
    "duration": 107,
    "start_time": "2022-06-13T15:20:24.165Z"
   },
   {
    "duration": 31,
    "start_time": "2022-06-13T15:20:24.278Z"
   },
   {
    "duration": 105,
    "start_time": "2022-06-13T15:20:24.312Z"
   },
   {
    "duration": 44,
    "start_time": "2022-06-13T15:20:24.429Z"
   },
   {
    "duration": 75,
    "start_time": "2022-06-13T15:20:24.481Z"
   },
   {
    "duration": 21,
    "start_time": "2022-06-13T15:20:24.564Z"
   },
   {
    "duration": 91,
    "start_time": "2022-06-13T15:20:24.588Z"
   },
   {
    "duration": 20,
    "start_time": "2022-06-13T15:20:24.681Z"
   },
   {
    "duration": 275,
    "start_time": "2022-06-13T15:20:24.703Z"
   },
   {
    "duration": 204,
    "start_time": "2022-06-13T15:20:24.984Z"
   },
   {
    "duration": 23,
    "start_time": "2022-06-13T15:20:25.192Z"
   },
   {
    "duration": 55,
    "start_time": "2022-06-13T15:20:25.221Z"
   },
   {
    "duration": 209,
    "start_time": "2022-06-13T15:20:25.280Z"
   },
   {
    "duration": 27,
    "start_time": "2022-06-13T15:20:25.500Z"
   },
   {
    "duration": 51,
    "start_time": "2022-06-13T15:20:25.529Z"
   },
   {
    "duration": 256,
    "start_time": "2022-06-13T15:20:25.583Z"
   },
   {
    "duration": 20,
    "start_time": "2022-06-13T15:20:25.845Z"
   },
   {
    "duration": 68,
    "start_time": "2022-06-13T15:20:25.867Z"
   },
   {
    "duration": 191,
    "start_time": "2022-06-13T15:20:25.940Z"
   },
   {
    "duration": 17,
    "start_time": "2022-06-13T15:20:26.138Z"
   },
   {
    "duration": 15,
    "start_time": "2022-06-13T15:20:26.164Z"
   },
   {
    "duration": 282,
    "start_time": "2022-06-13T15:20:26.185Z"
   },
   {
    "duration": 12,
    "start_time": "2022-06-13T15:20:26.474Z"
   },
   {
    "duration": 48,
    "start_time": "2022-06-13T15:20:26.489Z"
   },
   {
    "duration": 22,
    "start_time": "2022-06-13T15:20:26.545Z"
   },
   {
    "duration": 54,
    "start_time": "2022-06-13T15:20:26.569Z"
   },
   {
    "duration": 57,
    "start_time": "2022-06-13T15:20:26.631Z"
   },
   {
    "duration": 73,
    "start_time": "2022-06-13T15:20:26.690Z"
   },
   {
    "duration": 26,
    "start_time": "2022-06-13T15:20:26.767Z"
   },
   {
    "duration": 85,
    "start_time": "2022-06-13T15:20:26.798Z"
   },
   {
    "duration": 67,
    "start_time": "2022-06-13T15:20:26.886Z"
   },
   {
    "duration": 3,
    "start_time": "2022-06-13T15:20:26.956Z"
   },
   {
    "duration": 25,
    "start_time": "2022-06-13T15:20:26.961Z"
   },
   {
    "duration": 57,
    "start_time": "2022-06-13T15:20:26.988Z"
   },
   {
    "duration": 15,
    "start_time": "2022-06-13T15:20:27.056Z"
   },
   {
    "duration": 46,
    "start_time": "2022-06-13T15:20:27.073Z"
   },
   {
    "duration": 0,
    "start_time": "2022-06-13T15:20:27.135Z"
   },
   {
    "duration": 0,
    "start_time": "2022-06-13T15:20:27.137Z"
   },
   {
    "duration": 0,
    "start_time": "2022-06-13T15:20:27.138Z"
   },
   {
    "duration": 0,
    "start_time": "2022-06-13T15:20:27.139Z"
   },
   {
    "duration": 0,
    "start_time": "2022-06-13T15:20:27.140Z"
   },
   {
    "duration": 0,
    "start_time": "2022-06-13T15:20:27.141Z"
   },
   {
    "duration": 0,
    "start_time": "2022-06-13T15:20:27.142Z"
   },
   {
    "duration": 0,
    "start_time": "2022-06-13T15:20:27.143Z"
   },
   {
    "duration": 0,
    "start_time": "2022-06-13T15:20:27.152Z"
   },
   {
    "duration": 0,
    "start_time": "2022-06-13T15:20:27.158Z"
   },
   {
    "duration": 0,
    "start_time": "2022-06-13T15:20:27.159Z"
   },
   {
    "duration": 0,
    "start_time": "2022-06-13T15:20:27.163Z"
   },
   {
    "duration": 0,
    "start_time": "2022-06-13T15:20:27.164Z"
   },
   {
    "duration": 0,
    "start_time": "2022-06-13T15:20:27.165Z"
   },
   {
    "duration": 0,
    "start_time": "2022-06-13T15:20:27.166Z"
   },
   {
    "duration": 0,
    "start_time": "2022-06-13T15:20:27.168Z"
   },
   {
    "duration": 0,
    "start_time": "2022-06-13T15:20:27.169Z"
   },
   {
    "duration": 0,
    "start_time": "2022-06-13T15:20:27.170Z"
   },
   {
    "duration": 0,
    "start_time": "2022-06-13T15:20:27.171Z"
   },
   {
    "duration": 0,
    "start_time": "2022-06-13T15:20:27.172Z"
   },
   {
    "duration": 0,
    "start_time": "2022-06-13T15:20:27.173Z"
   },
   {
    "duration": 11,
    "start_time": "2022-06-13T15:20:47.752Z"
   },
   {
    "duration": 159,
    "start_time": "2022-06-13T15:20:47.765Z"
   },
   {
    "duration": 23,
    "start_time": "2022-06-13T15:20:47.927Z"
   },
   {
    "duration": 110,
    "start_time": "2022-06-13T15:20:47.953Z"
   },
   {
    "duration": 109,
    "start_time": "2022-06-13T15:20:48.066Z"
   },
   {
    "duration": 17,
    "start_time": "2022-06-13T15:20:48.178Z"
   },
   {
    "duration": 87,
    "start_time": "2022-06-13T15:20:48.197Z"
   },
   {
    "duration": 25,
    "start_time": "2022-06-13T15:20:48.287Z"
   },
   {
    "duration": 39,
    "start_time": "2022-06-13T15:20:48.323Z"
   },
   {
    "duration": 22,
    "start_time": "2022-06-13T15:20:48.365Z"
   },
   {
    "duration": 64,
    "start_time": "2022-06-13T15:20:48.389Z"
   },
   {
    "duration": 23,
    "start_time": "2022-06-13T15:20:48.459Z"
   },
   {
    "duration": 21,
    "start_time": "2022-06-13T15:20:48.486Z"
   },
   {
    "duration": 69,
    "start_time": "2022-06-13T15:20:48.510Z"
   },
   {
    "duration": 9,
    "start_time": "2022-06-13T15:20:48.582Z"
   },
   {
    "duration": 78,
    "start_time": "2022-06-13T15:20:48.593Z"
   },
   {
    "duration": 170,
    "start_time": "2022-06-13T15:20:48.673Z"
   },
   {
    "duration": 266,
    "start_time": "2022-06-13T15:20:48.845Z"
   },
   {
    "duration": 8,
    "start_time": "2022-06-13T15:20:49.113Z"
   },
   {
    "duration": 127,
    "start_time": "2022-06-13T15:20:49.123Z"
   },
   {
    "duration": 288,
    "start_time": "2022-06-13T15:20:49.253Z"
   },
   {
    "duration": 14,
    "start_time": "2022-06-13T15:20:49.549Z"
   },
   {
    "duration": 14,
    "start_time": "2022-06-13T15:20:49.571Z"
   },
   {
    "duration": 211,
    "start_time": "2022-06-13T15:20:49.590Z"
   },
   {
    "duration": 12,
    "start_time": "2022-06-13T15:20:49.803Z"
   },
   {
    "duration": 72,
    "start_time": "2022-06-13T15:20:49.817Z"
   },
   {
    "duration": 182,
    "start_time": "2022-06-13T15:20:49.892Z"
   },
   {
    "duration": 16,
    "start_time": "2022-06-13T15:20:50.078Z"
   },
   {
    "duration": 68,
    "start_time": "2022-06-13T15:20:50.099Z"
   },
   {
    "duration": 184,
    "start_time": "2022-06-13T15:20:50.169Z"
   },
   {
    "duration": 23,
    "start_time": "2022-06-13T15:20:50.358Z"
   },
   {
    "duration": 12,
    "start_time": "2022-06-13T15:20:50.386Z"
   },
   {
    "duration": 40,
    "start_time": "2022-06-13T15:20:50.410Z"
   },
   {
    "duration": 114,
    "start_time": "2022-06-13T15:20:50.452Z"
   },
   {
    "duration": 47,
    "start_time": "2022-06-13T15:20:50.569Z"
   },
   {
    "duration": 135,
    "start_time": "2022-06-13T15:20:50.621Z"
   },
   {
    "duration": 12,
    "start_time": "2022-06-13T15:20:50.762Z"
   },
   {
    "duration": 42,
    "start_time": "2022-06-13T15:20:50.776Z"
   },
   {
    "duration": 72,
    "start_time": "2022-06-13T15:20:50.830Z"
   },
   {
    "duration": 40,
    "start_time": "2022-06-13T15:20:50.906Z"
   },
   {
    "duration": 35,
    "start_time": "2022-06-13T15:20:50.949Z"
   },
   {
    "duration": 62,
    "start_time": "2022-06-13T15:20:50.987Z"
   },
   {
    "duration": 15,
    "start_time": "2022-06-13T15:20:51.055Z"
   },
   {
    "duration": 29,
    "start_time": "2022-06-13T15:20:51.077Z"
   },
   {
    "duration": 48,
    "start_time": "2022-06-13T15:20:51.112Z"
   },
   {
    "duration": 19,
    "start_time": "2022-06-13T15:20:51.162Z"
   },
   {
    "duration": 88,
    "start_time": "2022-06-13T15:20:51.183Z"
   },
   {
    "duration": 31,
    "start_time": "2022-06-13T15:20:51.274Z"
   },
   {
    "duration": 53,
    "start_time": "2022-06-13T15:20:51.318Z"
   },
   {
    "duration": 13,
    "start_time": "2022-06-13T15:20:51.374Z"
   },
   {
    "duration": 41,
    "start_time": "2022-06-13T15:20:51.390Z"
   },
   {
    "duration": 79,
    "start_time": "2022-06-13T15:20:51.432Z"
   },
   {
    "duration": 79,
    "start_time": "2022-06-13T15:20:51.513Z"
   },
   {
    "duration": 7098,
    "start_time": "2022-06-13T15:20:51.603Z"
   },
   {
    "duration": 41,
    "start_time": "2022-06-13T15:20:58.704Z"
   },
   {
    "duration": 82,
    "start_time": "2022-06-13T15:20:58.752Z"
   },
   {
    "duration": 76,
    "start_time": "2022-06-13T15:20:58.841Z"
   },
   {
    "duration": 49,
    "start_time": "2022-06-13T15:20:58.936Z"
   },
   {
    "duration": 87,
    "start_time": "2022-06-13T15:20:58.993Z"
   },
   {
    "duration": 88,
    "start_time": "2022-06-13T15:20:59.092Z"
   },
   {
    "duration": 95,
    "start_time": "2022-06-13T15:20:59.187Z"
   },
   {
    "duration": 163,
    "start_time": "2022-06-13T15:20:59.285Z"
   },
   {
    "duration": 54,
    "start_time": "2022-06-13T15:20:59.449Z"
   },
   {
    "duration": 73,
    "start_time": "2022-06-13T15:20:59.506Z"
   },
   {
    "duration": 69,
    "start_time": "2022-06-13T15:20:59.581Z"
   },
   {
    "duration": 11,
    "start_time": "2022-06-13T15:22:44.224Z"
   },
   {
    "duration": 49,
    "start_time": "2022-06-13T15:22:50.807Z"
   },
   {
    "duration": 53,
    "start_time": "2022-06-13T15:23:03.122Z"
   },
   {
    "duration": 184,
    "start_time": "2022-06-13T15:23:57.551Z"
   },
   {
    "duration": 77,
    "start_time": "2022-06-13T15:24:05.230Z"
   },
   {
    "duration": 39,
    "start_time": "2022-06-13T15:25:50.510Z"
   },
   {
    "duration": 21,
    "start_time": "2022-06-13T15:27:44.640Z"
   },
   {
    "duration": 27,
    "start_time": "2022-06-13T15:28:03.232Z"
   },
   {
    "duration": 52,
    "start_time": "2022-06-13T15:28:06.912Z"
   },
   {
    "duration": 29,
    "start_time": "2022-06-13T15:28:10.912Z"
   },
   {
    "duration": 3,
    "start_time": "2022-06-13T15:28:47.021Z"
   },
   {
    "duration": 39,
    "start_time": "2022-06-13T15:29:55.114Z"
   },
   {
    "duration": 24,
    "start_time": "2022-06-13T15:30:23.926Z"
   },
   {
    "duration": 17,
    "start_time": "2022-06-13T15:30:52.861Z"
   },
   {
    "duration": 7,
    "start_time": "2022-06-13T15:31:04.391Z"
   },
   {
    "duration": 52,
    "start_time": "2022-06-13T15:31:12.561Z"
   },
   {
    "duration": 11,
    "start_time": "2022-06-13T15:31:23.190Z"
   },
   {
    "duration": 201,
    "start_time": "2022-06-13T15:31:23.204Z"
   },
   {
    "duration": 18,
    "start_time": "2022-06-13T15:31:23.414Z"
   },
   {
    "duration": 32,
    "start_time": "2022-06-13T15:31:23.435Z"
   },
   {
    "duration": 24,
    "start_time": "2022-06-13T15:31:23.469Z"
   },
   {
    "duration": 61,
    "start_time": "2022-06-13T15:31:23.499Z"
   },
   {
    "duration": 21,
    "start_time": "2022-06-13T15:31:23.563Z"
   },
   {
    "duration": 97,
    "start_time": "2022-06-13T15:31:23.587Z"
   },
   {
    "duration": 26,
    "start_time": "2022-06-13T15:31:23.688Z"
   },
   {
    "duration": 74,
    "start_time": "2022-06-13T15:31:23.719Z"
   },
   {
    "duration": 115,
    "start_time": "2022-06-13T15:31:23.798Z"
   },
   {
    "duration": 131,
    "start_time": "2022-06-13T15:31:23.916Z"
   },
   {
    "duration": 38,
    "start_time": "2022-06-13T15:31:24.053Z"
   },
   {
    "duration": 98,
    "start_time": "2022-06-13T15:31:24.095Z"
   },
   {
    "duration": 190,
    "start_time": "2022-06-13T15:31:24.198Z"
   },
   {
    "duration": 96,
    "start_time": "2022-06-13T15:31:24.391Z"
   },
   {
    "duration": 281,
    "start_time": "2022-06-13T15:31:24.489Z"
   },
   {
    "duration": 169,
    "start_time": "2022-06-13T15:31:24.772Z"
   },
   {
    "duration": 18,
    "start_time": "2022-06-13T15:31:24.948Z"
   },
   {
    "duration": 31,
    "start_time": "2022-06-13T15:31:24.973Z"
   },
   {
    "duration": 203,
    "start_time": "2022-06-13T15:31:25.015Z"
   },
   {
    "duration": 14,
    "start_time": "2022-06-13T15:31:25.225Z"
   },
   {
    "duration": 115,
    "start_time": "2022-06-13T15:31:25.245Z"
   },
   {
    "duration": 177,
    "start_time": "2022-06-13T15:31:25.374Z"
   },
   {
    "duration": 15,
    "start_time": "2022-06-13T15:31:25.557Z"
   },
   {
    "duration": 61,
    "start_time": "2022-06-13T15:31:25.578Z"
   },
   {
    "duration": 185,
    "start_time": "2022-06-13T15:31:25.659Z"
   },
   {
    "duration": 21,
    "start_time": "2022-06-13T15:31:25.851Z"
   },
   {
    "duration": 20,
    "start_time": "2022-06-13T15:31:25.874Z"
   },
   {
    "duration": 275,
    "start_time": "2022-06-13T15:31:25.899Z"
   },
   {
    "duration": 18,
    "start_time": "2022-06-13T15:31:26.178Z"
   },
   {
    "duration": 60,
    "start_time": "2022-06-13T15:31:26.199Z"
   },
   {
    "duration": 21,
    "start_time": "2022-06-13T15:31:26.261Z"
   },
   {
    "duration": 64,
    "start_time": "2022-06-13T15:31:26.285Z"
   },
   {
    "duration": 41,
    "start_time": "2022-06-13T15:31:26.352Z"
   },
   {
    "duration": 6,
    "start_time": "2022-06-13T15:31:26.395Z"
   },
   {
    "duration": 56,
    "start_time": "2022-06-13T15:31:26.404Z"
   },
   {
    "duration": 29,
    "start_time": "2022-06-13T15:31:26.462Z"
   },
   {
    "duration": 6,
    "start_time": "2022-06-13T15:31:26.493Z"
   },
   {
    "duration": 59,
    "start_time": "2022-06-13T15:31:26.502Z"
   },
   {
    "duration": 14,
    "start_time": "2022-06-13T15:31:26.563Z"
   },
   {
    "duration": 38,
    "start_time": "2022-06-13T15:31:26.580Z"
   },
   {
    "duration": 30,
    "start_time": "2022-06-13T15:31:26.621Z"
   },
   {
    "duration": 10,
    "start_time": "2022-06-13T15:31:26.660Z"
   },
   {
    "duration": 17,
    "start_time": "2022-06-13T15:31:26.673Z"
   },
   {
    "duration": 59,
    "start_time": "2022-06-13T15:31:26.693Z"
   },
   {
    "duration": 11,
    "start_time": "2022-06-13T15:31:26.757Z"
   },
   {
    "duration": 10,
    "start_time": "2022-06-13T15:31:26.771Z"
   },
   {
    "duration": 10,
    "start_time": "2022-06-13T15:31:26.783Z"
   },
   {
    "duration": 60,
    "start_time": "2022-06-13T15:31:26.796Z"
   },
   {
    "duration": 14,
    "start_time": "2022-06-13T15:31:26.858Z"
   },
   {
    "duration": 14,
    "start_time": "2022-06-13T15:31:26.875Z"
   },
   {
    "duration": 60,
    "start_time": "2022-06-13T15:31:26.891Z"
   },
   {
    "duration": 7544,
    "start_time": "2022-06-13T15:31:26.953Z"
   },
   {
    "duration": 29,
    "start_time": "2022-06-13T15:31:34.505Z"
   },
   {
    "duration": 85,
    "start_time": "2022-06-13T15:31:34.544Z"
   },
   {
    "duration": 114,
    "start_time": "2022-06-13T15:31:34.637Z"
   },
   {
    "duration": 188,
    "start_time": "2022-06-13T15:31:34.759Z"
   },
   {
    "duration": 173,
    "start_time": "2022-06-13T15:31:34.950Z"
   },
   {
    "duration": 144,
    "start_time": "2022-06-13T15:31:35.128Z"
   },
   {
    "duration": 116,
    "start_time": "2022-06-13T15:31:35.274Z"
   },
   {
    "duration": 122,
    "start_time": "2022-06-13T15:31:35.393Z"
   },
   {
    "duration": 11,
    "start_time": "2022-06-13T15:31:53.120Z"
   },
   {
    "duration": 22,
    "start_time": "2022-06-13T15:31:56.046Z"
   },
   {
    "duration": 27,
    "start_time": "2022-06-13T15:32:28.127Z"
   },
   {
    "duration": 52,
    "start_time": "2022-06-13T15:34:21.049Z"
   },
   {
    "duration": 9,
    "start_time": "2022-06-13T15:34:41.111Z"
   },
   {
    "duration": 236,
    "start_time": "2022-06-13T15:34:41.127Z"
   },
   {
    "duration": 20,
    "start_time": "2022-06-13T15:34:41.369Z"
   },
   {
    "duration": 14,
    "start_time": "2022-06-13T15:34:41.396Z"
   },
   {
    "duration": 70,
    "start_time": "2022-06-13T15:34:41.417Z"
   },
   {
    "duration": 33,
    "start_time": "2022-06-13T15:34:41.492Z"
   },
   {
    "duration": 57,
    "start_time": "2022-06-13T15:34:41.527Z"
   },
   {
    "duration": 48,
    "start_time": "2022-06-13T15:34:41.588Z"
   },
   {
    "duration": 62,
    "start_time": "2022-06-13T15:34:41.639Z"
   },
   {
    "duration": 64,
    "start_time": "2022-06-13T15:34:41.705Z"
   },
   {
    "duration": 24,
    "start_time": "2022-06-13T15:34:41.771Z"
   },
   {
    "duration": 88,
    "start_time": "2022-06-13T15:34:41.798Z"
   },
   {
    "duration": 75,
    "start_time": "2022-06-13T15:34:41.889Z"
   },
   {
    "duration": 13,
    "start_time": "2022-06-13T15:34:41.975Z"
   },
   {
    "duration": 109,
    "start_time": "2022-06-13T15:34:41.990Z"
   },
   {
    "duration": 75,
    "start_time": "2022-06-13T15:34:42.106Z"
   },
   {
    "duration": 271,
    "start_time": "2022-06-13T15:34:42.183Z"
   },
   {
    "duration": 163,
    "start_time": "2022-06-13T15:34:42.461Z"
   },
   {
    "duration": 18,
    "start_time": "2022-06-13T15:34:42.630Z"
   },
   {
    "duration": 115,
    "start_time": "2022-06-13T15:34:42.660Z"
   },
   {
    "duration": 200,
    "start_time": "2022-06-13T15:34:42.786Z"
   },
   {
    "duration": 18,
    "start_time": "2022-06-13T15:34:42.992Z"
   },
   {
    "duration": 70,
    "start_time": "2022-06-13T15:34:43.020Z"
   },
   {
    "duration": 227,
    "start_time": "2022-06-13T15:34:43.092Z"
   },
   {
    "duration": 15,
    "start_time": "2022-06-13T15:34:43.326Z"
   },
   {
    "duration": 111,
    "start_time": "2022-06-13T15:34:43.348Z"
   },
   {
    "duration": 260,
    "start_time": "2022-06-13T15:34:43.464Z"
   },
   {
    "duration": 13,
    "start_time": "2022-06-13T15:34:43.732Z"
   },
   {
    "duration": 32,
    "start_time": "2022-06-13T15:34:43.752Z"
   },
   {
    "duration": 147,
    "start_time": "2022-06-13T15:34:43.786Z"
   },
   {
    "duration": 17,
    "start_time": "2022-06-13T15:34:43.939Z"
   },
   {
    "duration": 24,
    "start_time": "2022-06-13T15:34:43.962Z"
   },
   {
    "duration": 33,
    "start_time": "2022-06-13T15:34:43.992Z"
   },
   {
    "duration": 21,
    "start_time": "2022-06-13T15:34:44.037Z"
   },
   {
    "duration": 43,
    "start_time": "2022-06-13T15:34:44.064Z"
   },
   {
    "duration": 118,
    "start_time": "2022-06-13T15:34:44.112Z"
   },
   {
    "duration": 105,
    "start_time": "2022-06-13T15:34:44.237Z"
   },
   {
    "duration": 68,
    "start_time": "2022-06-13T15:34:44.349Z"
   },
   {
    "duration": 46,
    "start_time": "2022-06-13T15:34:44.424Z"
   },
   {
    "duration": 9,
    "start_time": "2022-06-13T15:34:44.473Z"
   },
   {
    "duration": 46,
    "start_time": "2022-06-13T15:34:44.490Z"
   },
   {
    "duration": 50,
    "start_time": "2022-06-13T15:34:44.542Z"
   },
   {
    "duration": 68,
    "start_time": "2022-06-13T15:34:44.599Z"
   },
   {
    "duration": 11,
    "start_time": "2022-06-13T15:34:44.671Z"
   },
   {
    "duration": 15,
    "start_time": "2022-06-13T15:34:44.685Z"
   },
   {
    "duration": 78,
    "start_time": "2022-06-13T15:34:44.708Z"
   },
   {
    "duration": 24,
    "start_time": "2022-06-13T15:34:44.789Z"
   },
   {
    "duration": 31,
    "start_time": "2022-06-13T15:34:44.816Z"
   },
   {
    "duration": 11,
    "start_time": "2022-06-13T15:34:44.849Z"
   },
   {
    "duration": 17,
    "start_time": "2022-06-13T15:34:44.865Z"
   },
   {
    "duration": 59,
    "start_time": "2022-06-13T15:34:44.885Z"
   },
   {
    "duration": 12,
    "start_time": "2022-06-13T15:34:44.947Z"
   },
   {
    "duration": 14,
    "start_time": "2022-06-13T15:34:44.963Z"
   },
   {
    "duration": 7173,
    "start_time": "2022-06-13T15:34:44.981Z"
   },
   {
    "duration": 29,
    "start_time": "2022-06-13T15:34:52.161Z"
   },
   {
    "duration": 140,
    "start_time": "2022-06-13T15:34:52.197Z"
   },
   {
    "duration": 120,
    "start_time": "2022-06-13T15:34:52.356Z"
   },
   {
    "duration": 88,
    "start_time": "2022-06-13T15:34:52.483Z"
   },
   {
    "duration": 110,
    "start_time": "2022-06-13T15:34:52.578Z"
   },
   {
    "duration": 59,
    "start_time": "2022-06-13T15:34:52.694Z"
   },
   {
    "duration": 46,
    "start_time": "2022-06-13T15:34:52.758Z"
   },
   {
    "duration": 128,
    "start_time": "2022-06-13T15:34:52.813Z"
   },
   {
    "duration": 15,
    "start_time": "2022-06-13T15:34:52.947Z"
   },
   {
    "duration": 79,
    "start_time": "2022-06-13T15:34:52.969Z"
   },
   {
    "duration": 19,
    "start_time": "2022-06-13T15:34:53.054Z"
   },
   {
    "duration": 44,
    "start_time": "2022-06-13T15:35:09.247Z"
   },
   {
    "duration": 88,
    "start_time": "2022-06-13T15:36:17.009Z"
   },
   {
    "duration": 30,
    "start_time": "2022-06-13T15:37:10.944Z"
   },
   {
    "duration": 69,
    "start_time": "2022-06-13T15:37:17.991Z"
   },
   {
    "duration": 35,
    "start_time": "2022-06-13T15:39:34.917Z"
   },
   {
    "duration": 20,
    "start_time": "2022-06-13T15:39:49.763Z"
   },
   {
    "duration": 18,
    "start_time": "2022-06-13T15:40:22.248Z"
   },
   {
    "duration": 11,
    "start_time": "2022-06-13T15:40:28.794Z"
   },
   {
    "duration": 106,
    "start_time": "2022-06-13T15:40:28.808Z"
   },
   {
    "duration": 19,
    "start_time": "2022-06-13T15:40:28.922Z"
   },
   {
    "duration": 37,
    "start_time": "2022-06-13T15:40:28.945Z"
   },
   {
    "duration": 41,
    "start_time": "2022-06-13T15:40:28.985Z"
   },
   {
    "duration": 34,
    "start_time": "2022-06-13T15:40:29.029Z"
   },
   {
    "duration": 63,
    "start_time": "2022-06-13T15:40:29.066Z"
   },
   {
    "duration": 27,
    "start_time": "2022-06-13T15:40:29.132Z"
   },
   {
    "duration": 30,
    "start_time": "2022-06-13T15:40:29.164Z"
   },
   {
    "duration": 13,
    "start_time": "2022-06-13T15:40:29.198Z"
   },
   {
    "duration": 28,
    "start_time": "2022-06-13T15:40:29.213Z"
   },
   {
    "duration": 49,
    "start_time": "2022-06-13T15:40:29.243Z"
   },
   {
    "duration": 11,
    "start_time": "2022-06-13T15:40:29.294Z"
   },
   {
    "duration": 29,
    "start_time": "2022-06-13T15:40:29.310Z"
   },
   {
    "duration": 36,
    "start_time": "2022-06-13T15:40:29.342Z"
   },
   {
    "duration": 18,
    "start_time": "2022-06-13T15:40:29.379Z"
   },
   {
    "duration": 190,
    "start_time": "2022-06-13T15:40:29.399Z"
   },
   {
    "duration": 418,
    "start_time": "2022-06-13T15:40:29.594Z"
   },
   {
    "duration": 21,
    "start_time": "2022-06-13T15:40:30.015Z"
   },
   {
    "duration": 30,
    "start_time": "2022-06-13T15:40:30.040Z"
   },
   {
    "duration": 249,
    "start_time": "2022-06-13T15:40:30.072Z"
   },
   {
    "duration": 14,
    "start_time": "2022-06-13T15:40:30.324Z"
   },
   {
    "duration": 13,
    "start_time": "2022-06-13T15:40:30.341Z"
   },
   {
    "duration": 213,
    "start_time": "2022-06-13T15:40:30.356Z"
   },
   {
    "duration": 24,
    "start_time": "2022-06-13T15:40:30.571Z"
   },
   {
    "duration": 27,
    "start_time": "2022-06-13T15:40:30.598Z"
   },
   {
    "duration": 197,
    "start_time": "2022-06-13T15:40:30.628Z"
   },
   {
    "duration": 14,
    "start_time": "2022-06-13T15:40:30.828Z"
   },
   {
    "duration": 15,
    "start_time": "2022-06-13T15:40:30.844Z"
   },
   {
    "duration": 178,
    "start_time": "2022-06-13T15:40:30.862Z"
   },
   {
    "duration": 16,
    "start_time": "2022-06-13T15:40:31.043Z"
   },
   {
    "duration": 31,
    "start_time": "2022-06-13T15:40:31.061Z"
   },
   {
    "duration": 29,
    "start_time": "2022-06-13T15:40:31.094Z"
   },
   {
    "duration": 69,
    "start_time": "2022-06-13T15:40:31.125Z"
   },
   {
    "duration": 56,
    "start_time": "2022-06-13T15:40:31.196Z"
   },
   {
    "duration": 27,
    "start_time": "2022-06-13T15:40:31.255Z"
   },
   {
    "duration": 19,
    "start_time": "2022-06-13T15:40:31.285Z"
   },
   {
    "duration": 39,
    "start_time": "2022-06-13T15:40:31.307Z"
   },
   {
    "duration": 13,
    "start_time": "2022-06-13T15:40:31.349Z"
   },
   {
    "duration": 16,
    "start_time": "2022-06-13T15:40:31.365Z"
   },
   {
    "duration": 15,
    "start_time": "2022-06-13T15:40:31.389Z"
   },
   {
    "duration": 42,
    "start_time": "2022-06-13T15:40:31.406Z"
   },
   {
    "duration": 10,
    "start_time": "2022-06-13T15:40:31.451Z"
   },
   {
    "duration": 19,
    "start_time": "2022-06-13T15:40:31.464Z"
   },
   {
    "duration": 16,
    "start_time": "2022-06-13T15:40:31.486Z"
   },
   {
    "duration": 18,
    "start_time": "2022-06-13T15:40:31.505Z"
   },
   {
    "duration": 17,
    "start_time": "2022-06-13T15:40:31.525Z"
   },
   {
    "duration": 8,
    "start_time": "2022-06-13T15:40:31.545Z"
   },
   {
    "duration": 20,
    "start_time": "2022-06-13T15:40:31.555Z"
   },
   {
    "duration": 11,
    "start_time": "2022-06-13T15:40:31.578Z"
   },
   {
    "duration": 14,
    "start_time": "2022-06-13T15:40:31.592Z"
   },
   {
    "duration": 50,
    "start_time": "2022-06-13T15:40:31.608Z"
   },
   {
    "duration": 7,
    "start_time": "2022-06-13T15:40:31.664Z"
   },
   {
    "duration": 4936,
    "start_time": "2022-06-13T15:40:31.674Z"
   },
   {
    "duration": 11,
    "start_time": "2022-06-13T15:40:36.613Z"
   },
   {
    "duration": 103,
    "start_time": "2022-06-13T15:40:36.626Z"
   },
   {
    "duration": 20,
    "start_time": "2022-06-13T15:40:36.731Z"
   },
   {
    "duration": 17,
    "start_time": "2022-06-13T15:40:36.753Z"
   },
   {
    "duration": 27,
    "start_time": "2022-06-13T15:40:36.772Z"
   },
   {
    "duration": 37,
    "start_time": "2022-06-13T15:40:36.804Z"
   },
   {
    "duration": 18,
    "start_time": "2022-06-13T15:40:36.843Z"
   },
   {
    "duration": 34,
    "start_time": "2022-06-13T15:40:36.863Z"
   },
   {
    "duration": 10,
    "start_time": "2022-06-13T15:40:36.899Z"
   },
   {
    "duration": 20,
    "start_time": "2022-06-13T15:40:36.912Z"
   },
   {
    "duration": 28,
    "start_time": "2022-06-13T15:40:36.934Z"
   },
   {
    "duration": 8,
    "start_time": "2022-06-13T15:40:50.812Z"
   },
   {
    "duration": 204,
    "start_time": "2022-06-13T15:40:55.403Z"
   },
   {
    "duration": 7,
    "start_time": "2022-06-13T15:41:14.279Z"
   },
   {
    "duration": 382,
    "start_time": "2022-06-13T15:43:43.925Z"
   },
   {
    "duration": 267,
    "start_time": "2022-06-13T15:45:06.297Z"
   },
   {
    "duration": 13,
    "start_time": "2022-06-13T15:45:24.790Z"
   },
   {
    "duration": 6,
    "start_time": "2022-06-13T15:45:43.537Z"
   },
   {
    "duration": 214,
    "start_time": "2022-06-13T15:45:55.140Z"
   },
   {
    "duration": 7,
    "start_time": "2022-06-13T15:47:45.829Z"
   },
   {
    "duration": 226,
    "start_time": "2022-06-13T15:49:41.710Z"
   },
   {
    "duration": 312,
    "start_time": "2022-06-13T15:50:46.822Z"
   },
   {
    "duration": 229,
    "start_time": "2022-06-13T15:51:08.990Z"
   },
   {
    "duration": 215,
    "start_time": "2022-06-13T15:51:24.332Z"
   },
   {
    "duration": 307,
    "start_time": "2022-06-13T15:51:37.451Z"
   },
   {
    "duration": 192,
    "start_time": "2022-06-13T15:52:02.771Z"
   },
   {
    "duration": 237,
    "start_time": "2022-06-13T15:52:18.398Z"
   },
   {
    "duration": 266,
    "start_time": "2022-06-13T15:52:34.315Z"
   },
   {
    "duration": 599,
    "start_time": "2022-06-13T15:52:40.038Z"
   },
   {
    "duration": 320,
    "start_time": "2022-06-13T15:52:45.425Z"
   },
   {
    "duration": 428,
    "start_time": "2022-06-13T15:52:49.903Z"
   },
   {
    "duration": 374,
    "start_time": "2022-06-13T15:52:53.935Z"
   },
   {
    "duration": 328,
    "start_time": "2022-06-13T15:53:23.155Z"
   },
   {
    "duration": 358,
    "start_time": "2022-06-13T15:53:29.697Z"
   },
   {
    "duration": 16,
    "start_time": "2022-06-13T15:53:46.123Z"
   },
   {
    "duration": 77,
    "start_time": "2022-06-13T15:53:46.143Z"
   },
   {
    "duration": 24,
    "start_time": "2022-06-13T15:53:46.222Z"
   },
   {
    "duration": 11,
    "start_time": "2022-06-13T15:53:46.249Z"
   },
   {
    "duration": 14,
    "start_time": "2022-06-13T15:53:46.264Z"
   },
   {
    "duration": 67,
    "start_time": "2022-06-13T15:53:46.281Z"
   },
   {
    "duration": 20,
    "start_time": "2022-06-13T15:53:46.353Z"
   },
   {
    "duration": 69,
    "start_time": "2022-06-13T15:53:46.375Z"
   },
   {
    "duration": 38,
    "start_time": "2022-06-13T15:53:46.448Z"
   },
   {
    "duration": 37,
    "start_time": "2022-06-13T15:53:46.490Z"
   },
   {
    "duration": 128,
    "start_time": "2022-06-13T15:53:46.530Z"
   },
   {
    "duration": 26,
    "start_time": "2022-06-13T15:53:46.661Z"
   },
   {
    "duration": 66,
    "start_time": "2022-06-13T15:53:46.690Z"
   },
   {
    "duration": 15,
    "start_time": "2022-06-13T15:53:46.761Z"
   },
   {
    "duration": 55,
    "start_time": "2022-06-13T15:53:46.778Z"
   },
   {
    "duration": 9,
    "start_time": "2022-06-13T15:53:46.836Z"
   },
   {
    "duration": 153,
    "start_time": "2022-06-13T15:53:46.848Z"
   },
   {
    "duration": 232,
    "start_time": "2022-06-13T15:53:47.007Z"
   },
   {
    "duration": 16,
    "start_time": "2022-06-13T15:53:47.244Z"
   },
   {
    "duration": 32,
    "start_time": "2022-06-13T15:53:47.263Z"
   },
   {
    "duration": 303,
    "start_time": "2022-06-13T15:53:47.300Z"
   },
   {
    "duration": 28,
    "start_time": "2022-06-13T15:53:47.612Z"
   },
   {
    "duration": 66,
    "start_time": "2022-06-13T15:53:47.643Z"
   },
   {
    "duration": 308,
    "start_time": "2022-06-13T15:53:47.711Z"
   },
   {
    "duration": 29,
    "start_time": "2022-06-13T15:53:48.021Z"
   },
   {
    "duration": 6,
    "start_time": "2022-06-13T15:53:48.053Z"
   },
   {
    "duration": 188,
    "start_time": "2022-06-13T15:53:48.062Z"
   },
   {
    "duration": 11,
    "start_time": "2022-06-13T15:53:48.253Z"
   },
   {
    "duration": 23,
    "start_time": "2022-06-13T15:53:48.266Z"
   },
   {
    "duration": 197,
    "start_time": "2022-06-13T15:53:48.292Z"
   },
   {
    "duration": 33,
    "start_time": "2022-06-13T15:53:48.492Z"
   },
   {
    "duration": 14,
    "start_time": "2022-06-13T15:53:48.538Z"
   },
   {
    "duration": 15,
    "start_time": "2022-06-13T15:53:48.555Z"
   },
   {
    "duration": 19,
    "start_time": "2022-06-13T15:53:48.571Z"
   },
   {
    "duration": 67,
    "start_time": "2022-06-13T15:53:48.592Z"
   },
   {
    "duration": 11,
    "start_time": "2022-06-13T15:53:48.661Z"
   },
   {
    "duration": 6,
    "start_time": "2022-06-13T15:53:48.675Z"
   },
   {
    "duration": 84,
    "start_time": "2022-06-13T15:53:48.683Z"
   },
   {
    "duration": 71,
    "start_time": "2022-06-13T15:53:48.772Z"
   },
   {
    "duration": 19,
    "start_time": "2022-06-13T15:53:48.845Z"
   },
   {
    "duration": 10,
    "start_time": "2022-06-13T15:53:48.878Z"
   },
   {
    "duration": 168,
    "start_time": "2022-06-13T15:53:48.899Z"
   },
   {
    "duration": 22,
    "start_time": "2022-06-13T15:53:49.070Z"
   },
   {
    "duration": 80,
    "start_time": "2022-06-13T15:53:49.093Z"
   },
   {
    "duration": 65,
    "start_time": "2022-06-13T15:53:49.175Z"
   },
   {
    "duration": 39,
    "start_time": "2022-06-13T15:53:49.243Z"
   },
   {
    "duration": 82,
    "start_time": "2022-06-13T15:53:49.284Z"
   },
   {
    "duration": 18,
    "start_time": "2022-06-13T15:53:49.368Z"
   },
   {
    "duration": 80,
    "start_time": "2022-06-13T15:53:49.388Z"
   },
   {
    "duration": 17,
    "start_time": "2022-06-13T15:53:49.471Z"
   },
   {
    "duration": 52,
    "start_time": "2022-06-13T15:53:49.491Z"
   },
   {
    "duration": 24,
    "start_time": "2022-06-13T15:53:49.545Z"
   },
   {
    "duration": 68,
    "start_time": "2022-06-13T15:53:49.571Z"
   },
   {
    "duration": 5708,
    "start_time": "2022-06-13T15:53:49.641Z"
   },
   {
    "duration": 13,
    "start_time": "2022-06-13T15:53:55.355Z"
   },
   {
    "duration": 69,
    "start_time": "2022-06-13T15:53:55.371Z"
   },
   {
    "duration": 121,
    "start_time": "2022-06-13T15:53:55.445Z"
   },
   {
    "duration": 32,
    "start_time": "2022-06-13T15:53:55.568Z"
   },
   {
    "duration": 35,
    "start_time": "2022-06-13T15:53:55.603Z"
   },
   {
    "duration": 18,
    "start_time": "2022-06-13T15:53:55.641Z"
   },
   {
    "duration": 38,
    "start_time": "2022-06-13T15:53:55.661Z"
   },
   {
    "duration": 67,
    "start_time": "2022-06-13T15:53:55.701Z"
   },
   {
    "duration": 61,
    "start_time": "2022-06-13T15:53:55.770Z"
   },
   {
    "duration": 50,
    "start_time": "2022-06-13T15:53:55.833Z"
   },
   {
    "duration": 76,
    "start_time": "2022-06-13T15:53:55.885Z"
   },
   {
    "duration": 390,
    "start_time": "2022-06-13T15:53:55.964Z"
   },
   {
    "duration": 5,
    "start_time": "2022-06-13T15:53:56.356Z"
   },
   {
    "duration": 3,
    "start_time": "2022-06-13T15:53:56.363Z"
   },
   {
    "duration": 9164,
    "start_time": "2022-06-13T15:53:56.368Z"
   },
   {
    "duration": 63,
    "start_time": "2022-06-13T15:54:05.539Z"
   },
   {
    "duration": 37,
    "start_time": "2022-06-13T15:54:05.610Z"
   },
   {
    "duration": 12,
    "start_time": "2022-06-13T15:54:05.653Z"
   },
   {
    "duration": 130357,
    "start_time": "2022-06-13T15:54:05.669Z"
   },
   {
    "duration": 21,
    "start_time": "2022-06-13T15:56:16.030Z"
   },
   {
    "duration": 44,
    "start_time": "2022-06-13T15:56:16.053Z"
   },
   {
    "duration": 6,
    "start_time": "2022-06-13T16:02:08.417Z"
   },
   {
    "duration": 8,
    "start_time": "2022-06-13T16:02:53.729Z"
   },
   {
    "duration": 56,
    "start_time": "2022-06-13T16:02:53.739Z"
   },
   {
    "duration": 15,
    "start_time": "2022-06-13T16:02:53.797Z"
   },
   {
    "duration": 11,
    "start_time": "2022-06-13T16:02:53.816Z"
   },
   {
    "duration": 10,
    "start_time": "2022-06-13T16:02:53.829Z"
   },
   {
    "duration": 24,
    "start_time": "2022-06-13T16:02:53.842Z"
   },
   {
    "duration": 10,
    "start_time": "2022-06-13T16:02:53.895Z"
   },
   {
    "duration": 13,
    "start_time": "2022-06-13T16:02:53.907Z"
   },
   {
    "duration": 13,
    "start_time": "2022-06-13T16:02:53.923Z"
   },
   {
    "duration": 15,
    "start_time": "2022-06-13T16:02:53.940Z"
   },
   {
    "duration": 44,
    "start_time": "2022-06-13T16:02:53.957Z"
   },
   {
    "duration": 9,
    "start_time": "2022-06-13T16:02:54.003Z"
   },
   {
    "duration": 9,
    "start_time": "2022-06-13T16:02:54.015Z"
   },
   {
    "duration": 10,
    "start_time": "2022-06-13T16:02:54.027Z"
   },
   {
    "duration": 11,
    "start_time": "2022-06-13T16:02:54.040Z"
   },
   {
    "duration": 22,
    "start_time": "2022-06-13T16:02:54.052Z"
   },
   {
    "duration": 179,
    "start_time": "2022-06-13T16:02:54.076Z"
   },
   {
    "duration": 205,
    "start_time": "2022-06-13T16:02:54.258Z"
   },
   {
    "duration": 13,
    "start_time": "2022-06-13T16:02:54.465Z"
   },
   {
    "duration": 8,
    "start_time": "2022-06-13T16:02:54.496Z"
   },
   {
    "duration": 181,
    "start_time": "2022-06-13T16:02:54.507Z"
   },
   {
    "duration": 11,
    "start_time": "2022-06-13T16:02:54.690Z"
   },
   {
    "duration": 10,
    "start_time": "2022-06-13T16:02:54.704Z"
   },
   {
    "duration": 170,
    "start_time": "2022-06-13T16:02:54.716Z"
   },
   {
    "duration": 13,
    "start_time": "2022-06-13T16:02:54.894Z"
   },
   {
    "duration": 7,
    "start_time": "2022-06-13T16:02:54.910Z"
   },
   {
    "duration": 214,
    "start_time": "2022-06-13T16:02:54.920Z"
   },
   {
    "duration": 12,
    "start_time": "2022-06-13T16:02:55.141Z"
   },
   {
    "duration": 12,
    "start_time": "2022-06-13T16:02:55.155Z"
   },
   {
    "duration": 159,
    "start_time": "2022-06-13T16:02:55.169Z"
   },
   {
    "duration": 11,
    "start_time": "2022-06-13T16:02:55.330Z"
   },
   {
    "duration": 9,
    "start_time": "2022-06-13T16:02:55.344Z"
   },
   {
    "duration": 23,
    "start_time": "2022-06-13T16:02:55.355Z"
   },
   {
    "duration": 7,
    "start_time": "2022-06-13T16:02:55.395Z"
   },
   {
    "duration": 27,
    "start_time": "2022-06-13T16:02:55.405Z"
   },
   {
    "duration": 14,
    "start_time": "2022-06-13T16:02:55.434Z"
   },
   {
    "duration": 17,
    "start_time": "2022-06-13T16:02:55.450Z"
   },
   {
    "duration": 18,
    "start_time": "2022-06-13T16:02:55.469Z"
   },
   {
    "duration": 31,
    "start_time": "2022-06-13T16:02:55.489Z"
   },
   {
    "duration": 15,
    "start_time": "2022-06-13T16:02:55.522Z"
   },
   {
    "duration": 23,
    "start_time": "2022-06-13T16:02:55.539Z"
   },
   {
    "duration": 11,
    "start_time": "2022-06-13T16:02:55.564Z"
   },
   {
    "duration": 34,
    "start_time": "2022-06-13T16:02:55.577Z"
   },
   {
    "duration": 22,
    "start_time": "2022-06-13T16:02:55.613Z"
   },
   {
    "duration": 22,
    "start_time": "2022-06-13T16:02:55.637Z"
   },
   {
    "duration": 17,
    "start_time": "2022-06-13T16:02:55.661Z"
   },
   {
    "duration": 12,
    "start_time": "2022-06-13T16:02:55.680Z"
   },
   {
    "duration": 16,
    "start_time": "2022-06-13T16:02:55.695Z"
   },
   {
    "duration": 9,
    "start_time": "2022-06-13T16:03:22.768Z"
   },
   {
    "duration": 19,
    "start_time": "2022-06-13T16:03:56.040Z"
   },
   {
    "duration": 13,
    "start_time": "2022-06-13T16:05:44.918Z"
   },
   {
    "duration": 57,
    "start_time": "2022-06-13T16:05:44.934Z"
   },
   {
    "duration": 19,
    "start_time": "2022-06-13T16:05:44.993Z"
   },
   {
    "duration": 32,
    "start_time": "2022-06-13T16:05:45.014Z"
   },
   {
    "duration": 21,
    "start_time": "2022-06-13T16:05:45.050Z"
   },
   {
    "duration": 19,
    "start_time": "2022-06-13T16:05:45.074Z"
   },
   {
    "duration": 35,
    "start_time": "2022-06-13T16:05:45.095Z"
   },
   {
    "duration": 23,
    "start_time": "2022-06-13T16:05:45.132Z"
   },
   {
    "duration": 9,
    "start_time": "2022-06-13T16:05:45.157Z"
   },
   {
    "duration": 11,
    "start_time": "2022-06-13T16:05:45.168Z"
   },
   {
    "duration": 37,
    "start_time": "2022-06-13T16:05:45.181Z"
   },
   {
    "duration": 22,
    "start_time": "2022-06-13T16:05:45.221Z"
   },
   {
    "duration": 25,
    "start_time": "2022-06-13T16:05:45.244Z"
   },
   {
    "duration": 10,
    "start_time": "2022-06-13T16:05:45.273Z"
   },
   {
    "duration": 26,
    "start_time": "2022-06-13T16:05:45.286Z"
   },
   {
    "duration": 41,
    "start_time": "2022-06-13T16:05:45.316Z"
   },
   {
    "duration": 163,
    "start_time": "2022-06-13T16:05:45.359Z"
   },
   {
    "duration": 321,
    "start_time": "2022-06-13T16:05:45.524Z"
   },
   {
    "duration": 9,
    "start_time": "2022-06-13T16:05:45.847Z"
   },
   {
    "duration": 11,
    "start_time": "2022-06-13T16:05:45.858Z"
   },
   {
    "duration": 147,
    "start_time": "2022-06-13T16:05:45.871Z"
   },
   {
    "duration": 18,
    "start_time": "2022-06-13T16:05:46.021Z"
   },
   {
    "duration": 6,
    "start_time": "2022-06-13T16:05:46.042Z"
   },
   {
    "duration": 203,
    "start_time": "2022-06-13T16:05:46.049Z"
   },
   {
    "duration": 9,
    "start_time": "2022-06-13T16:05:46.254Z"
   },
   {
    "duration": 10,
    "start_time": "2022-06-13T16:05:46.265Z"
   },
   {
    "duration": 193,
    "start_time": "2022-06-13T16:05:46.277Z"
   },
   {
    "duration": 24,
    "start_time": "2022-06-13T16:05:46.476Z"
   },
   {
    "duration": 8,
    "start_time": "2022-06-13T16:05:46.503Z"
   },
   {
    "duration": 115,
    "start_time": "2022-06-13T16:05:46.517Z"
   },
   {
    "duration": 9,
    "start_time": "2022-06-13T16:05:46.634Z"
   },
   {
    "duration": 8,
    "start_time": "2022-06-13T16:05:46.645Z"
   },
   {
    "duration": 7,
    "start_time": "2022-06-13T16:05:46.655Z"
   },
   {
    "duration": 31,
    "start_time": "2022-06-13T16:05:46.664Z"
   },
   {
    "duration": 22,
    "start_time": "2022-06-13T16:05:46.697Z"
   },
   {
    "duration": 8,
    "start_time": "2022-06-13T16:05:46.723Z"
   },
   {
    "duration": 7,
    "start_time": "2022-06-13T16:05:46.733Z"
   },
   {
    "duration": 9,
    "start_time": "2022-06-13T16:05:46.741Z"
   },
   {
    "duration": 46,
    "start_time": "2022-06-13T16:05:46.753Z"
   },
   {
    "duration": 23,
    "start_time": "2022-06-13T16:05:46.801Z"
   },
   {
    "duration": 9,
    "start_time": "2022-06-13T16:05:46.827Z"
   },
   {
    "duration": 10,
    "start_time": "2022-06-13T16:05:46.837Z"
   },
   {
    "duration": 27,
    "start_time": "2022-06-13T16:05:46.849Z"
   },
   {
    "duration": 5,
    "start_time": "2022-06-13T16:05:46.878Z"
   },
   {
    "duration": 43,
    "start_time": "2022-06-13T16:05:46.884Z"
   },
   {
    "duration": 7,
    "start_time": "2022-06-13T16:05:46.928Z"
   },
   {
    "duration": 9,
    "start_time": "2022-06-13T16:05:57.551Z"
   },
   {
    "duration": 64,
    "start_time": "2022-06-13T16:05:57.563Z"
   },
   {
    "duration": 13,
    "start_time": "2022-06-13T16:05:57.629Z"
   },
   {
    "duration": 7,
    "start_time": "2022-06-13T16:05:57.645Z"
   },
   {
    "duration": 8,
    "start_time": "2022-06-13T16:05:57.654Z"
   },
   {
    "duration": 10,
    "start_time": "2022-06-13T16:05:57.664Z"
   },
   {
    "duration": 12,
    "start_time": "2022-06-13T16:05:57.697Z"
   },
   {
    "duration": 10,
    "start_time": "2022-06-13T16:05:57.711Z"
   },
   {
    "duration": 12,
    "start_time": "2022-06-13T16:05:57.724Z"
   },
   {
    "duration": 8,
    "start_time": "2022-06-13T16:05:57.740Z"
   },
   {
    "duration": 9,
    "start_time": "2022-06-13T16:05:57.750Z"
   },
   {
    "duration": 41,
    "start_time": "2022-06-13T16:05:57.761Z"
   },
   {
    "duration": 25,
    "start_time": "2022-06-13T16:05:57.804Z"
   },
   {
    "duration": 8,
    "start_time": "2022-06-13T16:05:57.832Z"
   },
   {
    "duration": 11,
    "start_time": "2022-06-13T16:05:57.842Z"
   },
   {
    "duration": 16,
    "start_time": "2022-06-13T16:05:57.856Z"
   },
   {
    "duration": 125,
    "start_time": "2022-06-13T16:05:57.874Z"
   },
   {
    "duration": 128,
    "start_time": "2022-06-13T16:05:58.001Z"
   },
   {
    "duration": 8,
    "start_time": "2022-06-13T16:05:58.131Z"
   },
   {
    "duration": 12,
    "start_time": "2022-06-13T16:05:58.141Z"
   },
   {
    "duration": 136,
    "start_time": "2022-06-13T16:05:58.155Z"
   },
   {
    "duration": 29,
    "start_time": "2022-06-13T16:05:58.293Z"
   },
   {
    "duration": 7,
    "start_time": "2022-06-13T16:05:58.324Z"
   },
   {
    "duration": 153,
    "start_time": "2022-06-13T16:05:58.333Z"
   },
   {
    "duration": 17,
    "start_time": "2022-06-13T16:05:58.488Z"
   },
   {
    "duration": 21,
    "start_time": "2022-06-13T16:05:58.510Z"
   },
   {
    "duration": 123,
    "start_time": "2022-06-13T16:05:58.534Z"
   },
   {
    "duration": 11,
    "start_time": "2022-06-13T16:05:58.661Z"
   },
   {
    "duration": 29,
    "start_time": "2022-06-13T16:05:58.674Z"
   },
   {
    "duration": 125,
    "start_time": "2022-06-13T16:05:58.707Z"
   },
   {
    "duration": 13,
    "start_time": "2022-06-13T16:05:58.834Z"
   },
   {
    "duration": 6,
    "start_time": "2022-06-13T16:05:58.849Z"
   },
   {
    "duration": 8,
    "start_time": "2022-06-13T16:05:58.857Z"
   },
   {
    "duration": 42,
    "start_time": "2022-06-13T16:05:58.866Z"
   },
   {
    "duration": 48,
    "start_time": "2022-06-13T16:05:58.910Z"
   },
   {
    "duration": 16,
    "start_time": "2022-06-13T16:05:58.961Z"
   },
   {
    "duration": 13,
    "start_time": "2022-06-13T16:05:58.980Z"
   },
   {
    "duration": 23,
    "start_time": "2022-06-13T16:05:58.995Z"
   },
   {
    "duration": 48,
    "start_time": "2022-06-13T16:05:59.019Z"
   },
   {
    "duration": 16,
    "start_time": "2022-06-13T16:05:59.070Z"
   },
   {
    "duration": 56,
    "start_time": "2022-06-13T16:05:59.088Z"
   },
   {
    "duration": 13,
    "start_time": "2022-06-13T16:05:59.146Z"
   },
   {
    "duration": 29,
    "start_time": "2022-06-13T16:05:59.162Z"
   },
   {
    "duration": 27,
    "start_time": "2022-06-13T16:05:59.200Z"
   },
   {
    "duration": 24,
    "start_time": "2022-06-13T16:05:59.230Z"
   },
   {
    "duration": 18,
    "start_time": "2022-06-13T16:05:59.257Z"
   },
   {
    "duration": 19,
    "start_time": "2022-06-13T16:05:59.278Z"
   },
   {
    "duration": 43,
    "start_time": "2022-06-13T16:05:59.299Z"
   },
   {
    "duration": 8,
    "start_time": "2022-06-13T16:05:59.344Z"
   },
   {
    "duration": 12,
    "start_time": "2022-06-13T16:05:59.354Z"
   },
   {
    "duration": 9,
    "start_time": "2022-06-13T16:05:59.370Z"
   },
   {
    "duration": 58,
    "start_time": "2022-06-13T16:05:59.382Z"
   },
   {
    "duration": 24,
    "start_time": "2022-06-13T16:05:59.442Z"
   },
   {
    "duration": 10,
    "start_time": "2022-06-13T16:05:59.469Z"
   },
   {
    "duration": 1233,
    "start_time": "2022-06-13T16:05:59.481Z"
   },
   {
    "duration": 16,
    "start_time": "2022-06-13T16:06:00.718Z"
   },
   {
    "duration": 38,
    "start_time": "2022-06-13T16:06:00.738Z"
   },
   {
    "duration": 44,
    "start_time": "2022-06-13T16:06:00.779Z"
   },
   {
    "duration": 33,
    "start_time": "2022-06-13T16:06:00.825Z"
   },
   {
    "duration": 27,
    "start_time": "2022-06-13T16:06:00.861Z"
   },
   {
    "duration": 35,
    "start_time": "2022-06-13T16:06:00.890Z"
   },
   {
    "duration": 41,
    "start_time": "2022-06-13T16:06:00.928Z"
   },
   {
    "duration": 50,
    "start_time": "2022-06-13T16:06:00.971Z"
   },
   {
    "duration": 8,
    "start_time": "2022-06-13T16:06:01.024Z"
   },
   {
    "duration": 64,
    "start_time": "2022-06-13T16:06:01.033Z"
   },
   {
    "duration": 62,
    "start_time": "2022-06-13T16:06:01.099Z"
   },
   {
    "duration": 318,
    "start_time": "2022-06-13T16:06:01.163Z"
   },
   {
    "duration": 14,
    "start_time": "2022-06-13T16:06:01.484Z"
   },
   {
    "duration": 36,
    "start_time": "2022-06-13T16:06:01.501Z"
   },
   {
    "duration": 1462,
    "start_time": "2022-06-13T16:06:01.540Z"
   },
   {
    "duration": 20,
    "start_time": "2022-06-13T16:06:03.005Z"
   },
   {
    "duration": 65,
    "start_time": "2022-06-13T16:06:03.029Z"
   },
   {
    "duration": 16,
    "start_time": "2022-06-13T16:06:03.097Z"
   },
   {
    "duration": 33990,
    "start_time": "2022-06-13T16:06:03.117Z"
   },
   {
    "duration": 26,
    "start_time": "2022-06-13T16:06:37.109Z"
   },
   {
    "duration": 7,
    "start_time": "2022-06-13T16:06:37.137Z"
   },
   {
    "duration": 63,
    "start_time": "2022-06-13T16:09:16.560Z"
   },
   {
    "duration": 23,
    "start_time": "2022-06-13T16:09:28.511Z"
   },
   {
    "duration": 6,
    "start_time": "2022-06-13T16:09:37.365Z"
   },
   {
    "duration": 51,
    "start_time": "2022-06-13T16:09:37.412Z"
   },
   {
    "duration": 14,
    "start_time": "2022-06-13T16:09:37.466Z"
   },
   {
    "duration": 10,
    "start_time": "2022-06-13T16:09:37.483Z"
   },
   {
    "duration": 28,
    "start_time": "2022-06-13T16:09:37.497Z"
   },
   {
    "duration": 12,
    "start_time": "2022-06-13T16:09:37.528Z"
   },
   {
    "duration": 9,
    "start_time": "2022-06-13T16:09:37.542Z"
   },
   {
    "duration": 15,
    "start_time": "2022-06-13T16:09:37.553Z"
   },
   {
    "duration": 35,
    "start_time": "2022-06-13T16:09:37.570Z"
   },
   {
    "duration": 8,
    "start_time": "2022-06-13T16:09:37.607Z"
   },
   {
    "duration": 25,
    "start_time": "2022-06-13T16:09:37.617Z"
   },
   {
    "duration": 19,
    "start_time": "2022-06-13T16:09:37.644Z"
   },
   {
    "duration": 7,
    "start_time": "2022-06-13T16:09:37.665Z"
   },
   {
    "duration": 11,
    "start_time": "2022-06-13T16:09:37.674Z"
   },
   {
    "duration": 12,
    "start_time": "2022-06-13T16:09:37.690Z"
   },
   {
    "duration": 21,
    "start_time": "2022-06-13T16:09:37.703Z"
   },
   {
    "duration": 151,
    "start_time": "2022-06-13T16:09:37.727Z"
   },
   {
    "duration": 128,
    "start_time": "2022-06-13T16:09:37.880Z"
   },
   {
    "duration": 13,
    "start_time": "2022-06-13T16:09:38.014Z"
   },
   {
    "duration": 5,
    "start_time": "2022-06-13T16:09:38.029Z"
   },
   {
    "duration": 184,
    "start_time": "2022-06-13T16:09:38.036Z"
   },
   {
    "duration": 10,
    "start_time": "2022-06-13T16:09:38.223Z"
   },
   {
    "duration": 5,
    "start_time": "2022-06-13T16:09:38.236Z"
   },
   {
    "duration": 167,
    "start_time": "2022-06-13T16:09:38.242Z"
   },
   {
    "duration": 14,
    "start_time": "2022-06-13T16:09:38.415Z"
   },
   {
    "duration": 8,
    "start_time": "2022-06-13T16:09:38.431Z"
   },
   {
    "duration": 161,
    "start_time": "2022-06-13T16:09:38.442Z"
   },
   {
    "duration": 11,
    "start_time": "2022-06-13T16:09:38.612Z"
   },
   {
    "duration": 5,
    "start_time": "2022-06-13T16:09:38.625Z"
   },
   {
    "duration": 129,
    "start_time": "2022-06-13T16:09:38.632Z"
   },
   {
    "duration": 8,
    "start_time": "2022-06-13T16:09:38.763Z"
   },
   {
    "duration": 5,
    "start_time": "2022-06-13T16:09:38.773Z"
   },
   {
    "duration": 30,
    "start_time": "2022-06-13T16:09:38.779Z"
   },
   {
    "duration": 14,
    "start_time": "2022-06-13T16:09:38.816Z"
   },
   {
    "duration": 24,
    "start_time": "2022-06-13T16:09:38.832Z"
   },
   {
    "duration": 10,
    "start_time": "2022-06-13T16:09:38.858Z"
   },
   {
    "duration": 8,
    "start_time": "2022-06-13T16:09:38.869Z"
   },
   {
    "duration": 24,
    "start_time": "2022-06-13T16:09:38.879Z"
   },
   {
    "duration": 46,
    "start_time": "2022-06-13T16:09:38.911Z"
   },
   {
    "duration": 4,
    "start_time": "2022-06-13T16:09:38.960Z"
   },
   {
    "duration": 10,
    "start_time": "2022-06-13T16:09:38.967Z"
   },
   {
    "duration": 4,
    "start_time": "2022-06-13T16:09:38.986Z"
   },
   {
    "duration": 51,
    "start_time": "2022-06-13T16:09:38.993Z"
   },
   {
    "duration": 7,
    "start_time": "2022-06-13T16:09:39.047Z"
   },
   {
    "duration": 6,
    "start_time": "2022-06-13T16:09:39.057Z"
   },
   {
    "duration": 7,
    "start_time": "2022-06-13T16:09:39.065Z"
   },
   {
    "duration": 9,
    "start_time": "2022-06-13T16:09:39.075Z"
   },
   {
    "duration": 13,
    "start_time": "2022-06-13T16:09:39.086Z"
   },
   {
    "duration": 23,
    "start_time": "2022-06-13T16:09:39.101Z"
   },
   {
    "duration": 12,
    "start_time": "2022-06-13T16:09:39.126Z"
   },
   {
    "duration": 9,
    "start_time": "2022-06-13T16:09:39.141Z"
   },
   {
    "duration": 5,
    "start_time": "2022-06-13T16:09:39.153Z"
   },
   {
    "duration": 11,
    "start_time": "2022-06-13T16:09:39.160Z"
   },
   {
    "duration": 9,
    "start_time": "2022-06-13T16:09:39.173Z"
   },
   {
    "duration": 1717,
    "start_time": "2022-06-13T16:09:39.184Z"
   },
   {
    "duration": 15,
    "start_time": "2022-06-13T16:09:40.904Z"
   },
   {
    "duration": 30,
    "start_time": "2022-06-13T16:09:40.922Z"
   },
   {
    "duration": 45,
    "start_time": "2022-06-13T16:09:40.954Z"
   },
   {
    "duration": 12,
    "start_time": "2022-06-13T16:09:41.001Z"
   },
   {
    "duration": 24,
    "start_time": "2022-06-13T16:09:41.015Z"
   },
   {
    "duration": 13,
    "start_time": "2022-06-13T16:09:41.041Z"
   },
   {
    "duration": 10,
    "start_time": "2022-06-13T16:09:41.057Z"
   },
   {
    "duration": 29,
    "start_time": "2022-06-13T16:09:41.070Z"
   },
   {
    "duration": 22,
    "start_time": "2022-06-13T16:09:41.101Z"
   },
   {
    "duration": 25,
    "start_time": "2022-06-13T16:09:41.125Z"
   },
   {
    "duration": 409,
    "start_time": "2022-06-13T16:09:41.153Z"
   },
   {
    "duration": 0,
    "start_time": "2022-06-13T16:09:41.565Z"
   },
   {
    "duration": 0,
    "start_time": "2022-06-13T16:09:41.567Z"
   },
   {
    "duration": 0,
    "start_time": "2022-06-13T16:09:41.569Z"
   },
   {
    "duration": 0,
    "start_time": "2022-06-13T16:09:41.570Z"
   },
   {
    "duration": 0,
    "start_time": "2022-06-13T16:09:41.572Z"
   },
   {
    "duration": 0,
    "start_time": "2022-06-13T16:09:41.573Z"
   },
   {
    "duration": 0,
    "start_time": "2022-06-13T16:09:41.575Z"
   },
   {
    "duration": 0,
    "start_time": "2022-06-13T16:09:41.576Z"
   },
   {
    "duration": 0,
    "start_time": "2022-06-13T16:09:41.578Z"
   },
   {
    "duration": 0,
    "start_time": "2022-06-13T16:09:41.579Z"
   },
   {
    "duration": 24,
    "start_time": "2022-06-13T16:11:23.544Z"
   },
   {
    "duration": 24,
    "start_time": "2022-06-13T16:11:48.217Z"
   },
   {
    "duration": 7,
    "start_time": "2022-06-13T16:11:57.663Z"
   },
   {
    "duration": 76,
    "start_time": "2022-06-13T16:11:57.672Z"
   },
   {
    "duration": 14,
    "start_time": "2022-06-13T16:11:57.750Z"
   },
   {
    "duration": 17,
    "start_time": "2022-06-13T16:11:57.766Z"
   },
   {
    "duration": 34,
    "start_time": "2022-06-13T16:11:57.787Z"
   },
   {
    "duration": 11,
    "start_time": "2022-06-13T16:11:57.823Z"
   },
   {
    "duration": 19,
    "start_time": "2022-06-13T16:11:57.836Z"
   },
   {
    "duration": 29,
    "start_time": "2022-06-13T16:11:57.857Z"
   },
   {
    "duration": 45,
    "start_time": "2022-06-13T16:11:57.890Z"
   },
   {
    "duration": 19,
    "start_time": "2022-06-13T16:11:57.938Z"
   },
   {
    "duration": 24,
    "start_time": "2022-06-13T16:11:57.959Z"
   },
   {
    "duration": 42,
    "start_time": "2022-06-13T16:11:57.985Z"
   },
   {
    "duration": 32,
    "start_time": "2022-06-13T16:11:58.029Z"
   },
   {
    "duration": 30,
    "start_time": "2022-06-13T16:11:58.062Z"
   },
   {
    "duration": 43,
    "start_time": "2022-06-13T16:11:58.094Z"
   },
   {
    "duration": 40,
    "start_time": "2022-06-13T16:11:58.139Z"
   },
   {
    "duration": 179,
    "start_time": "2022-06-13T16:11:58.181Z"
   },
   {
    "duration": 166,
    "start_time": "2022-06-13T16:11:58.363Z"
   },
   {
    "duration": 11,
    "start_time": "2022-06-13T16:11:58.531Z"
   },
   {
    "duration": 19,
    "start_time": "2022-06-13T16:11:58.544Z"
   },
   {
    "duration": 216,
    "start_time": "2022-06-13T16:11:58.565Z"
   },
   {
    "duration": 22,
    "start_time": "2022-06-13T16:11:58.783Z"
   },
   {
    "duration": 25,
    "start_time": "2022-06-13T16:11:58.808Z"
   },
   {
    "duration": 215,
    "start_time": "2022-06-13T16:11:58.836Z"
   },
   {
    "duration": 13,
    "start_time": "2022-06-13T16:11:59.056Z"
   },
   {
    "duration": 24,
    "start_time": "2022-06-13T16:11:59.072Z"
   },
   {
    "duration": 177,
    "start_time": "2022-06-13T16:11:59.101Z"
   },
   {
    "duration": 24,
    "start_time": "2022-06-13T16:11:59.281Z"
   },
   {
    "duration": 49,
    "start_time": "2022-06-13T16:11:59.308Z"
   },
   {
    "duration": 172,
    "start_time": "2022-06-13T16:11:59.361Z"
   },
   {
    "duration": 11,
    "start_time": "2022-06-13T16:11:59.537Z"
   },
   {
    "duration": 10,
    "start_time": "2022-06-13T16:11:59.550Z"
   },
   {
    "duration": 14,
    "start_time": "2022-06-13T16:11:59.563Z"
   },
   {
    "duration": 39,
    "start_time": "2022-06-13T16:11:59.580Z"
   },
   {
    "duration": 21,
    "start_time": "2022-06-13T16:11:59.622Z"
   },
   {
    "duration": 8,
    "start_time": "2022-06-13T16:11:59.645Z"
   },
   {
    "duration": 8,
    "start_time": "2022-06-13T16:11:59.655Z"
   },
   {
    "duration": 8,
    "start_time": "2022-06-13T16:13:06.941Z"
   },
   {
    "duration": 58,
    "start_time": "2022-06-13T16:13:07.000Z"
   },
   {
    "duration": 19,
    "start_time": "2022-06-13T16:13:07.061Z"
   },
   {
    "duration": 17,
    "start_time": "2022-06-13T16:13:07.082Z"
   },
   {
    "duration": 14,
    "start_time": "2022-06-13T16:13:07.101Z"
   },
   {
    "duration": 10,
    "start_time": "2022-06-13T16:13:07.118Z"
   },
   {
    "duration": 14,
    "start_time": "2022-06-13T16:13:07.130Z"
   },
   {
    "duration": 9,
    "start_time": "2022-06-13T16:13:07.147Z"
   },
   {
    "duration": 43,
    "start_time": "2022-06-13T16:13:07.158Z"
   },
   {
    "duration": 15,
    "start_time": "2022-06-13T16:13:07.203Z"
   },
   {
    "duration": 21,
    "start_time": "2022-06-13T16:13:07.222Z"
   },
   {
    "duration": 8,
    "start_time": "2022-06-13T16:13:07.246Z"
   },
   {
    "duration": 11,
    "start_time": "2022-06-13T16:13:07.256Z"
   },
   {
    "duration": 7,
    "start_time": "2022-06-13T16:13:07.270Z"
   },
   {
    "duration": 27,
    "start_time": "2022-06-13T16:13:07.280Z"
   },
   {
    "duration": 8,
    "start_time": "2022-06-13T16:13:07.308Z"
   },
   {
    "duration": 151,
    "start_time": "2022-06-13T16:13:07.318Z"
   },
   {
    "duration": 200,
    "start_time": "2022-06-13T16:13:07.471Z"
   },
   {
    "duration": 21,
    "start_time": "2022-06-13T16:13:07.673Z"
   },
   {
    "duration": 5,
    "start_time": "2022-06-13T16:13:07.697Z"
   },
   {
    "duration": 182,
    "start_time": "2022-06-13T16:13:07.705Z"
   },
   {
    "duration": 15,
    "start_time": "2022-06-13T16:13:07.894Z"
   },
   {
    "duration": 13,
    "start_time": "2022-06-13T16:13:07.912Z"
   },
   {
    "duration": 204,
    "start_time": "2022-06-13T16:13:07.928Z"
   },
   {
    "duration": 12,
    "start_time": "2022-06-13T16:13:08.134Z"
   },
   {
    "duration": 14,
    "start_time": "2022-06-13T16:13:08.148Z"
   },
   {
    "duration": 463,
    "start_time": "2022-06-13T16:13:08.165Z"
   },
   {
    "duration": 10,
    "start_time": "2022-06-13T16:13:08.631Z"
   },
   {
    "duration": 5,
    "start_time": "2022-06-13T16:13:08.643Z"
   },
   {
    "duration": 189,
    "start_time": "2022-06-13T16:13:08.650Z"
   },
   {
    "duration": 11,
    "start_time": "2022-06-13T16:13:08.842Z"
   },
   {
    "duration": 8,
    "start_time": "2022-06-13T16:13:08.856Z"
   },
   {
    "duration": 44,
    "start_time": "2022-06-13T16:13:08.866Z"
   },
   {
    "duration": 23,
    "start_time": "2022-06-13T16:13:08.913Z"
   },
   {
    "duration": 31,
    "start_time": "2022-06-13T16:13:08.939Z"
   },
   {
    "duration": 7,
    "start_time": "2022-06-13T16:13:08.973Z"
   },
   {
    "duration": 19,
    "start_time": "2022-06-13T16:13:08.985Z"
   },
   {
    "duration": 26,
    "start_time": "2022-06-13T16:13:09.006Z"
   },
   {
    "duration": 42,
    "start_time": "2022-06-13T16:13:09.036Z"
   },
   {
    "duration": 24,
    "start_time": "2022-06-13T16:13:09.080Z"
   },
   {
    "duration": 52,
    "start_time": "2022-06-13T16:13:09.107Z"
   },
   {
    "duration": 18,
    "start_time": "2022-06-13T16:13:09.165Z"
   },
   {
    "duration": 14,
    "start_time": "2022-06-13T16:13:09.186Z"
   },
   {
    "duration": 54,
    "start_time": "2022-06-13T16:13:09.204Z"
   },
   {
    "duration": 29,
    "start_time": "2022-06-13T16:13:09.260Z"
   },
   {
    "duration": 42,
    "start_time": "2022-06-13T16:13:09.292Z"
   },
   {
    "duration": 22,
    "start_time": "2022-06-13T16:13:09.336Z"
   },
   {
    "duration": 14,
    "start_time": "2022-06-13T16:13:09.361Z"
   },
   {
    "duration": 39,
    "start_time": "2022-06-13T16:13:09.377Z"
   },
   {
    "duration": 39,
    "start_time": "2022-06-13T16:13:09.418Z"
   },
   {
    "duration": 14,
    "start_time": "2022-06-13T16:13:09.460Z"
   },
   {
    "duration": 14,
    "start_time": "2022-06-13T16:13:09.477Z"
   },
   {
    "duration": 6,
    "start_time": "2022-06-13T16:13:09.493Z"
   },
   {
    "duration": 9,
    "start_time": "2022-06-13T16:13:09.502Z"
   },
   {
    "duration": 8,
    "start_time": "2022-06-13T16:13:09.514Z"
   },
   {
    "duration": 784,
    "start_time": "2022-06-13T16:13:09.525Z"
   },
   {
    "duration": 10,
    "start_time": "2022-06-13T16:13:10.312Z"
   },
   {
    "duration": 90,
    "start_time": "2022-06-13T16:13:10.325Z"
   },
   {
    "duration": 15,
    "start_time": "2022-06-13T16:13:10.417Z"
   },
   {
    "duration": 7,
    "start_time": "2022-06-13T16:13:10.435Z"
   },
   {
    "duration": 51,
    "start_time": "2022-06-13T16:13:10.444Z"
   },
   {
    "duration": 5,
    "start_time": "2022-06-13T16:13:10.501Z"
   },
   {
    "duration": 18,
    "start_time": "2022-06-13T16:13:10.508Z"
   },
   {
    "duration": 38,
    "start_time": "2022-06-13T16:13:10.528Z"
   },
   {
    "duration": 11,
    "start_time": "2022-06-13T16:13:10.569Z"
   },
   {
    "duration": 26,
    "start_time": "2022-06-13T16:13:10.583Z"
   },
   {
    "duration": 23,
    "start_time": "2022-06-13T16:13:10.612Z"
   },
   {
    "duration": 251,
    "start_time": "2022-06-13T16:13:10.637Z"
   },
   {
    "duration": 7,
    "start_time": "2022-06-13T16:13:10.891Z"
   },
   {
    "duration": 9,
    "start_time": "2022-06-13T16:13:10.900Z"
   },
   {
    "duration": 686,
    "start_time": "2022-06-13T16:13:10.911Z"
   },
   {
    "duration": 11,
    "start_time": "2022-06-13T16:13:11.599Z"
   },
   {
    "duration": 9,
    "start_time": "2022-06-13T16:13:11.615Z"
   },
   {
    "duration": 14,
    "start_time": "2022-06-13T16:13:11.626Z"
   },
   {
    "duration": 11961,
    "start_time": "2022-06-13T16:13:11.642Z"
   },
   {
    "duration": 96,
    "start_time": "2022-06-13T16:13:23.605Z"
   },
   {
    "duration": 5,
    "start_time": "2022-06-13T16:13:23.703Z"
   },
   {
    "duration": 8,
    "start_time": "2022-06-13T16:18:55.743Z"
   },
   {
    "duration": 77,
    "start_time": "2022-06-13T16:18:55.753Z"
   },
   {
    "duration": 21,
    "start_time": "2022-06-13T16:18:55.833Z"
   },
   {
    "duration": 7,
    "start_time": "2022-06-13T16:18:55.857Z"
   },
   {
    "duration": 34,
    "start_time": "2022-06-13T16:18:55.867Z"
   },
   {
    "duration": 26,
    "start_time": "2022-06-13T16:18:55.903Z"
   },
   {
    "duration": 11,
    "start_time": "2022-06-13T16:18:55.931Z"
   },
   {
    "duration": 9,
    "start_time": "2022-06-13T16:18:55.945Z"
   },
   {
    "duration": 14,
    "start_time": "2022-06-13T16:18:55.955Z"
   },
   {
    "duration": 33,
    "start_time": "2022-06-13T16:18:55.971Z"
   },
   {
    "duration": 22,
    "start_time": "2022-06-13T16:18:56.006Z"
   },
   {
    "duration": 6,
    "start_time": "2022-06-13T16:18:56.031Z"
   },
   {
    "duration": 11,
    "start_time": "2022-06-13T16:18:56.041Z"
   },
   {
    "duration": 15,
    "start_time": "2022-06-13T16:18:56.054Z"
   },
   {
    "duration": 22,
    "start_time": "2022-06-13T16:18:56.071Z"
   },
   {
    "duration": 30,
    "start_time": "2022-06-13T16:18:56.094Z"
   },
   {
    "duration": 112,
    "start_time": "2022-06-13T16:18:56.125Z"
   },
   {
    "duration": 179,
    "start_time": "2022-06-13T16:18:56.239Z"
   },
   {
    "duration": 10,
    "start_time": "2022-06-13T16:18:56.420Z"
   },
   {
    "duration": 11,
    "start_time": "2022-06-13T16:18:56.432Z"
   },
   {
    "duration": 134,
    "start_time": "2022-06-13T16:18:56.446Z"
   },
   {
    "duration": 12,
    "start_time": "2022-06-13T16:18:56.583Z"
   },
   {
    "duration": 25,
    "start_time": "2022-06-13T16:18:56.601Z"
   },
   {
    "duration": 145,
    "start_time": "2022-06-13T16:18:56.628Z"
   },
   {
    "duration": 24,
    "start_time": "2022-06-13T16:18:56.775Z"
   },
   {
    "duration": 7,
    "start_time": "2022-06-13T16:18:56.801Z"
   },
   {
    "duration": 133,
    "start_time": "2022-06-13T16:18:56.809Z"
   },
   {
    "duration": 9,
    "start_time": "2022-06-13T16:18:56.944Z"
   },
   {
    "duration": 7,
    "start_time": "2022-06-13T16:18:56.955Z"
   },
   {
    "duration": 148,
    "start_time": "2022-06-13T16:18:56.964Z"
   },
   {
    "duration": 11,
    "start_time": "2022-06-13T16:18:57.113Z"
   },
   {
    "duration": 6,
    "start_time": "2022-06-13T16:18:57.126Z"
   },
   {
    "duration": 9,
    "start_time": "2022-06-13T16:18:57.134Z"
   },
   {
    "duration": 6,
    "start_time": "2022-06-13T16:18:57.145Z"
   },
   {
    "duration": 44,
    "start_time": "2022-06-13T16:18:57.153Z"
   },
   {
    "duration": 8,
    "start_time": "2022-06-13T16:18:57.210Z"
   },
   {
    "duration": 6,
    "start_time": "2022-06-13T16:18:57.224Z"
   },
   {
    "duration": 8,
    "start_time": "2022-06-13T16:18:57.231Z"
   },
   {
    "duration": 8,
    "start_time": "2022-06-13T16:18:57.241Z"
   },
   {
    "duration": 17,
    "start_time": "2022-06-13T16:18:57.251Z"
   },
   {
    "duration": 6,
    "start_time": "2022-06-13T16:18:57.270Z"
   },
   {
    "duration": 37,
    "start_time": "2022-06-13T16:18:57.279Z"
   },
   {
    "duration": 7,
    "start_time": "2022-06-13T16:18:57.318Z"
   },
   {
    "duration": 23,
    "start_time": "2022-06-13T16:18:57.327Z"
   },
   {
    "duration": 5,
    "start_time": "2022-06-13T16:18:57.352Z"
   },
   {
    "duration": 12,
    "start_time": "2022-06-13T16:18:57.358Z"
   },
   {
    "duration": 9,
    "start_time": "2022-06-13T16:18:57.372Z"
   },
   {
    "duration": 16,
    "start_time": "2022-06-13T16:18:57.383Z"
   },
   {
    "duration": 19,
    "start_time": "2022-06-13T16:18:57.405Z"
   },
   {
    "duration": 7,
    "start_time": "2022-06-13T16:18:57.427Z"
   },
   {
    "duration": 8,
    "start_time": "2022-06-13T16:18:57.436Z"
   },
   {
    "duration": 8,
    "start_time": "2022-06-13T16:18:57.445Z"
   },
   {
    "duration": 7,
    "start_time": "2022-06-13T16:18:57.455Z"
   },
   {
    "duration": 8,
    "start_time": "2022-06-13T16:18:57.464Z"
   },
   {
    "duration": 10,
    "start_time": "2022-06-13T16:18:57.473Z"
   },
   {
    "duration": 722,
    "start_time": "2022-06-13T16:18:57.485Z"
   },
   {
    "duration": 7,
    "start_time": "2022-06-13T16:18:58.209Z"
   },
   {
    "duration": 21,
    "start_time": "2022-06-13T16:18:58.222Z"
   },
   {
    "duration": 13,
    "start_time": "2022-06-13T16:18:58.245Z"
   },
   {
    "duration": 46,
    "start_time": "2022-06-13T16:18:58.259Z"
   },
   {
    "duration": 31,
    "start_time": "2022-06-13T16:18:58.307Z"
   },
   {
    "duration": 9,
    "start_time": "2022-06-13T16:18:58.341Z"
   },
   {
    "duration": 11,
    "start_time": "2022-06-13T16:18:58.352Z"
   },
   {
    "duration": 36,
    "start_time": "2022-06-13T16:18:58.365Z"
   },
   {
    "duration": 23,
    "start_time": "2022-06-13T16:18:58.404Z"
   },
   {
    "duration": 31,
    "start_time": "2022-06-13T16:18:58.430Z"
   },
   {
    "duration": 17,
    "start_time": "2022-06-13T16:18:58.463Z"
   },
   {
    "duration": 267,
    "start_time": "2022-06-13T16:18:58.482Z"
   },
   {
    "duration": 6,
    "start_time": "2022-06-13T16:18:58.751Z"
   },
   {
    "duration": 6,
    "start_time": "2022-06-13T16:18:58.759Z"
   },
   {
    "duration": 1435,
    "start_time": "2022-06-13T16:18:58.767Z"
   },
   {
    "duration": 24,
    "start_time": "2022-06-13T16:19:00.213Z"
   },
   {
    "duration": 30,
    "start_time": "2022-06-13T16:19:00.239Z"
   },
   {
    "duration": 32,
    "start_time": "2022-06-13T16:19:00.272Z"
   },
   {
    "duration": 157,
    "start_time": "2022-06-13T16:19:00.306Z"
   },
   {
    "duration": 0,
    "start_time": "2022-06-13T16:19:00.465Z"
   },
   {
    "duration": 0,
    "start_time": "2022-06-13T16:19:00.467Z"
   },
   {
    "duration": 8,
    "start_time": "2022-06-13T16:19:29.354Z"
   },
   {
    "duration": 111,
    "start_time": "2022-06-13T16:19:29.365Z"
   },
   {
    "duration": 12,
    "start_time": "2022-06-13T16:19:29.479Z"
   },
   {
    "duration": 16,
    "start_time": "2022-06-13T16:19:29.494Z"
   },
   {
    "duration": 15,
    "start_time": "2022-06-13T16:19:29.516Z"
   },
   {
    "duration": 8,
    "start_time": "2022-06-13T16:19:29.532Z"
   },
   {
    "duration": 14,
    "start_time": "2022-06-13T16:19:29.542Z"
   },
   {
    "duration": 8,
    "start_time": "2022-06-13T16:19:29.559Z"
   },
   {
    "duration": 33,
    "start_time": "2022-06-13T16:19:29.570Z"
   },
   {
    "duration": 30,
    "start_time": "2022-06-13T16:19:29.605Z"
   },
   {
    "duration": 9,
    "start_time": "2022-06-13T16:19:29.637Z"
   },
   {
    "duration": 9,
    "start_time": "2022-06-13T16:19:29.649Z"
   },
   {
    "duration": 10,
    "start_time": "2022-06-13T16:19:29.660Z"
   },
   {
    "duration": 9,
    "start_time": "2022-06-13T16:19:29.673Z"
   },
   {
    "duration": 18,
    "start_time": "2022-06-13T16:19:29.684Z"
   },
   {
    "duration": 23,
    "start_time": "2022-06-13T16:19:29.704Z"
   },
   {
    "duration": 135,
    "start_time": "2022-06-13T16:19:29.730Z"
   },
   {
    "duration": 116,
    "start_time": "2022-06-13T16:19:29.867Z"
   },
   {
    "duration": 24,
    "start_time": "2022-06-13T16:19:29.986Z"
   },
   {
    "duration": 6,
    "start_time": "2022-06-13T16:19:30.012Z"
   },
   {
    "duration": 173,
    "start_time": "2022-06-13T16:19:30.020Z"
   },
   {
    "duration": 21,
    "start_time": "2022-06-13T16:19:30.197Z"
   },
   {
    "duration": 20,
    "start_time": "2022-06-13T16:19:30.220Z"
   },
   {
    "duration": 178,
    "start_time": "2022-06-13T16:19:30.249Z"
   },
   {
    "duration": 10,
    "start_time": "2022-06-13T16:19:30.430Z"
   },
   {
    "duration": 14,
    "start_time": "2022-06-13T16:19:30.442Z"
   },
   {
    "duration": 168,
    "start_time": "2022-06-13T16:19:30.459Z"
   },
   {
    "duration": 12,
    "start_time": "2022-06-13T16:19:30.629Z"
   },
   {
    "duration": 13,
    "start_time": "2022-06-13T16:19:30.645Z"
   },
   {
    "duration": 164,
    "start_time": "2022-06-13T16:19:30.661Z"
   },
   {
    "duration": 12,
    "start_time": "2022-06-13T16:19:30.827Z"
   },
   {
    "duration": 14,
    "start_time": "2022-06-13T16:19:30.841Z"
   },
   {
    "duration": 19,
    "start_time": "2022-06-13T16:19:30.858Z"
   },
   {
    "duration": 42,
    "start_time": "2022-06-13T16:19:30.880Z"
   },
   {
    "duration": 47,
    "start_time": "2022-06-13T16:19:30.924Z"
   },
   {
    "duration": 44,
    "start_time": "2022-06-13T16:19:30.974Z"
   },
   {
    "duration": 16,
    "start_time": "2022-06-13T16:19:31.020Z"
   },
   {
    "duration": 15,
    "start_time": "2022-06-13T16:19:31.038Z"
   },
   {
    "duration": 19,
    "start_time": "2022-06-13T16:19:31.055Z"
   },
   {
    "duration": 26,
    "start_time": "2022-06-13T16:19:31.076Z"
   },
   {
    "duration": 35,
    "start_time": "2022-06-13T16:19:31.103Z"
   },
   {
    "duration": 13,
    "start_time": "2022-06-13T16:19:31.140Z"
   },
   {
    "duration": 27,
    "start_time": "2022-06-13T16:19:31.157Z"
   },
   {
    "duration": 68,
    "start_time": "2022-06-13T16:19:31.187Z"
   },
   {
    "duration": 17,
    "start_time": "2022-06-13T16:19:31.258Z"
   },
   {
    "duration": 57,
    "start_time": "2022-06-13T16:19:31.278Z"
   },
   {
    "duration": 23,
    "start_time": "2022-06-13T16:19:31.337Z"
   },
   {
    "duration": 27,
    "start_time": "2022-06-13T16:19:31.363Z"
   },
   {
    "duration": 31,
    "start_time": "2022-06-13T16:19:31.402Z"
   },
   {
    "duration": 14,
    "start_time": "2022-06-13T16:19:31.436Z"
   },
   {
    "duration": 15,
    "start_time": "2022-06-13T16:19:31.452Z"
   },
   {
    "duration": 40,
    "start_time": "2022-06-13T16:19:31.469Z"
   },
   {
    "duration": 31,
    "start_time": "2022-06-13T16:19:31.513Z"
   },
   {
    "duration": 25,
    "start_time": "2022-06-13T16:19:31.546Z"
   },
   {
    "duration": 48,
    "start_time": "2022-06-13T16:19:31.573Z"
   },
   {
    "duration": 790,
    "start_time": "2022-06-13T16:19:31.623Z"
   },
   {
    "duration": 8,
    "start_time": "2022-06-13T16:19:32.415Z"
   },
   {
    "duration": 9,
    "start_time": "2022-06-13T16:20:46.671Z"
   },
   {
    "duration": 63,
    "start_time": "2022-06-13T16:20:46.698Z"
   },
   {
    "duration": 13,
    "start_time": "2022-06-13T16:20:46.764Z"
   },
   {
    "duration": 16,
    "start_time": "2022-06-13T16:20:46.779Z"
   },
   {
    "duration": 6,
    "start_time": "2022-06-13T16:20:46.798Z"
   },
   {
    "duration": 9,
    "start_time": "2022-06-13T16:20:46.806Z"
   },
   {
    "duration": 8,
    "start_time": "2022-06-13T16:20:46.817Z"
   },
   {
    "duration": 9,
    "start_time": "2022-06-13T16:20:46.827Z"
   },
   {
    "duration": 11,
    "start_time": "2022-06-13T16:20:46.838Z"
   },
   {
    "duration": 50,
    "start_time": "2022-06-13T16:20:46.850Z"
   },
   {
    "duration": 10,
    "start_time": "2022-06-13T16:20:46.901Z"
   },
   {
    "duration": 19,
    "start_time": "2022-06-13T16:20:46.913Z"
   },
   {
    "duration": 6,
    "start_time": "2022-06-13T16:20:46.935Z"
   },
   {
    "duration": 9,
    "start_time": "2022-06-13T16:20:46.943Z"
   },
   {
    "duration": 40,
    "start_time": "2022-06-13T16:20:46.956Z"
   },
   {
    "duration": 6,
    "start_time": "2022-06-13T16:20:46.998Z"
   },
   {
    "duration": 163,
    "start_time": "2022-06-13T16:20:47.006Z"
   },
   {
    "duration": 132,
    "start_time": "2022-06-13T16:20:47.172Z"
   },
   {
    "duration": 13,
    "start_time": "2022-06-13T16:20:47.307Z"
   },
   {
    "duration": 32,
    "start_time": "2022-06-13T16:20:47.323Z"
   },
   {
    "duration": 159,
    "start_time": "2022-06-13T16:20:47.357Z"
   },
   {
    "duration": 13,
    "start_time": "2022-06-13T16:20:47.519Z"
   },
   {
    "duration": 15,
    "start_time": "2022-06-13T16:20:47.535Z"
   },
   {
    "duration": 158,
    "start_time": "2022-06-13T16:20:47.553Z"
   },
   {
    "duration": 12,
    "start_time": "2022-06-13T16:20:47.713Z"
   },
   {
    "duration": 8,
    "start_time": "2022-06-13T16:20:47.727Z"
   },
   {
    "duration": 183,
    "start_time": "2022-06-13T16:20:47.737Z"
   },
   {
    "duration": 12,
    "start_time": "2022-06-13T16:20:47.923Z"
   },
   {
    "duration": 8,
    "start_time": "2022-06-13T16:20:47.938Z"
   },
   {
    "duration": 134,
    "start_time": "2022-06-13T16:20:47.948Z"
   },
   {
    "duration": 19,
    "start_time": "2022-06-13T16:20:48.084Z"
   },
   {
    "duration": 14,
    "start_time": "2022-06-13T16:20:48.106Z"
   },
   {
    "duration": 11,
    "start_time": "2022-06-13T16:20:48.122Z"
   },
   {
    "duration": 10,
    "start_time": "2022-06-13T16:20:48.135Z"
   },
   {
    "duration": 27,
    "start_time": "2022-06-13T16:20:48.147Z"
   },
   {
    "duration": 11,
    "start_time": "2022-06-13T16:20:48.193Z"
   },
   {
    "duration": 14,
    "start_time": "2022-06-13T16:20:48.206Z"
   },
   {
    "duration": 9,
    "start_time": "2022-06-13T16:20:48.222Z"
   },
   {
    "duration": 11,
    "start_time": "2022-06-13T16:20:48.233Z"
   },
   {
    "duration": 19,
    "start_time": "2022-06-13T16:20:48.246Z"
   },
   {
    "duration": 27,
    "start_time": "2022-06-13T16:20:48.268Z"
   },
   {
    "duration": 2,
    "start_time": "2022-06-13T16:20:48.300Z"
   },
   {
    "duration": 14,
    "start_time": "2022-06-13T16:20:48.304Z"
   },
   {
    "duration": 21,
    "start_time": "2022-06-13T16:20:48.320Z"
   },
   {
    "duration": 8,
    "start_time": "2022-06-13T16:20:48.344Z"
   },
   {
    "duration": 8,
    "start_time": "2022-06-13T16:20:48.354Z"
   },
   {
    "duration": 30,
    "start_time": "2022-06-13T16:20:48.364Z"
   },
   {
    "duration": 5,
    "start_time": "2022-06-13T16:20:48.396Z"
   },
   {
    "duration": 10,
    "start_time": "2022-06-13T16:20:48.402Z"
   },
   {
    "duration": 34,
    "start_time": "2022-06-13T16:20:48.414Z"
   },
   {
    "duration": 13,
    "start_time": "2022-06-13T16:20:48.450Z"
   },
   {
    "duration": 9,
    "start_time": "2022-06-13T16:20:48.465Z"
   },
   {
    "duration": 7,
    "start_time": "2022-06-13T16:20:48.477Z"
   },
   {
    "duration": 8,
    "start_time": "2022-06-13T16:20:48.486Z"
   },
   {
    "duration": 10,
    "start_time": "2022-06-13T16:20:48.496Z"
   },
   {
    "duration": 993,
    "start_time": "2022-06-13T16:20:48.507Z"
   },
   {
    "duration": 7,
    "start_time": "2022-06-13T16:20:49.502Z"
   },
   {
    "duration": 8,
    "start_time": "2022-06-13T16:21:11.530Z"
   },
   {
    "duration": 254,
    "start_time": "2022-06-13T16:21:11.541Z"
   },
   {
    "duration": 16,
    "start_time": "2022-06-13T16:21:11.797Z"
   },
   {
    "duration": 24,
    "start_time": "2022-06-13T16:21:11.821Z"
   },
   {
    "duration": 9,
    "start_time": "2022-06-13T16:21:11.847Z"
   },
   {
    "duration": 10,
    "start_time": "2022-06-13T16:21:11.859Z"
   },
   {
    "duration": 24,
    "start_time": "2022-06-13T16:21:11.872Z"
   },
   {
    "duration": 11,
    "start_time": "2022-06-13T16:21:11.898Z"
   },
   {
    "duration": 21,
    "start_time": "2022-06-13T16:21:11.911Z"
   },
   {
    "duration": 7,
    "start_time": "2022-06-13T16:21:11.934Z"
   },
   {
    "duration": 10,
    "start_time": "2022-06-13T16:21:11.943Z"
   },
   {
    "duration": 10,
    "start_time": "2022-06-13T16:21:11.955Z"
   },
   {
    "duration": 9,
    "start_time": "2022-06-13T16:21:11.967Z"
   },
   {
    "duration": 20,
    "start_time": "2022-06-13T16:21:11.998Z"
   },
   {
    "duration": 10,
    "start_time": "2022-06-13T16:21:12.020Z"
   },
   {
    "duration": 20,
    "start_time": "2022-06-13T16:21:12.033Z"
   },
   {
    "duration": 132,
    "start_time": "2022-06-13T16:21:12.055Z"
   },
   {
    "duration": 115,
    "start_time": "2022-06-13T16:21:12.189Z"
   },
   {
    "duration": 16,
    "start_time": "2022-06-13T16:21:12.306Z"
   },
   {
    "duration": 6,
    "start_time": "2022-06-13T16:21:12.324Z"
   },
   {
    "duration": 226,
    "start_time": "2022-06-13T16:21:12.333Z"
   },
   {
    "duration": 10,
    "start_time": "2022-06-13T16:21:12.561Z"
   },
   {
    "duration": 13,
    "start_time": "2022-06-13T16:21:12.573Z"
   },
   {
    "duration": 150,
    "start_time": "2022-06-13T16:21:12.595Z"
   },
   {
    "duration": 9,
    "start_time": "2022-06-13T16:21:12.748Z"
   },
   {
    "duration": 8,
    "start_time": "2022-06-13T16:21:12.759Z"
   },
   {
    "duration": 138,
    "start_time": "2022-06-13T16:21:12.769Z"
   },
   {
    "duration": 13,
    "start_time": "2022-06-13T16:21:12.911Z"
   },
   {
    "duration": 15,
    "start_time": "2022-06-13T16:21:12.925Z"
   },
   {
    "duration": 161,
    "start_time": "2022-06-13T16:21:12.942Z"
   },
   {
    "duration": 16,
    "start_time": "2022-06-13T16:21:13.110Z"
   },
   {
    "duration": 27,
    "start_time": "2022-06-13T16:21:13.128Z"
   },
   {
    "duration": 85,
    "start_time": "2022-06-13T16:21:13.157Z"
   },
   {
    "duration": 29,
    "start_time": "2022-06-13T16:21:13.249Z"
   },
   {
    "duration": 36,
    "start_time": "2022-06-13T16:21:13.281Z"
   },
   {
    "duration": 32,
    "start_time": "2022-06-13T16:21:13.320Z"
   },
   {
    "duration": 29,
    "start_time": "2022-06-13T16:21:13.355Z"
   },
   {
    "duration": 38,
    "start_time": "2022-06-13T16:21:13.385Z"
   },
   {
    "duration": 29,
    "start_time": "2022-06-13T16:21:13.425Z"
   },
   {
    "duration": 46,
    "start_time": "2022-06-13T16:21:13.457Z"
   },
   {
    "duration": 31,
    "start_time": "2022-06-13T16:21:13.509Z"
   },
   {
    "duration": 16,
    "start_time": "2022-06-13T16:21:13.542Z"
   },
   {
    "duration": 22,
    "start_time": "2022-06-13T16:21:13.560Z"
   },
   {
    "duration": 65,
    "start_time": "2022-06-13T16:21:13.584Z"
   },
   {
    "duration": 5,
    "start_time": "2022-06-13T16:21:13.653Z"
   },
   {
    "duration": 37,
    "start_time": "2022-06-13T16:21:13.661Z"
   },
   {
    "duration": 28,
    "start_time": "2022-06-13T16:21:13.701Z"
   },
   {
    "duration": 19,
    "start_time": "2022-06-13T16:21:13.732Z"
   },
   {
    "duration": 30,
    "start_time": "2022-06-13T16:21:13.753Z"
   },
   {
    "duration": 9,
    "start_time": "2022-06-13T16:21:13.784Z"
   },
   {
    "duration": 40,
    "start_time": "2022-06-13T16:21:13.796Z"
   },
   {
    "duration": 13,
    "start_time": "2022-06-13T16:21:13.838Z"
   },
   {
    "duration": 24,
    "start_time": "2022-06-13T16:21:13.853Z"
   },
   {
    "duration": 47,
    "start_time": "2022-06-13T16:21:13.880Z"
   },
   {
    "duration": 23,
    "start_time": "2022-06-13T16:21:13.929Z"
   },
   {
    "duration": 2244,
    "start_time": "2022-06-13T16:21:13.954Z"
   },
   {
    "duration": 9,
    "start_time": "2022-06-13T16:21:16.207Z"
   },
   {
    "duration": 7,
    "start_time": "2022-06-13T16:21:42.643Z"
   },
   {
    "duration": 72,
    "start_time": "2022-06-13T16:21:42.653Z"
   },
   {
    "duration": 13,
    "start_time": "2022-06-13T16:21:42.728Z"
   },
   {
    "duration": 19,
    "start_time": "2022-06-13T16:21:42.744Z"
   },
   {
    "duration": 20,
    "start_time": "2022-06-13T16:21:42.766Z"
   },
   {
    "duration": 40,
    "start_time": "2022-06-13T16:21:42.789Z"
   },
   {
    "duration": 21,
    "start_time": "2022-06-13T16:21:42.832Z"
   },
   {
    "duration": 24,
    "start_time": "2022-06-13T16:21:42.856Z"
   },
   {
    "duration": 22,
    "start_time": "2022-06-13T16:21:42.883Z"
   },
   {
    "duration": 32,
    "start_time": "2022-06-13T16:21:42.908Z"
   },
   {
    "duration": 16,
    "start_time": "2022-06-13T16:21:42.944Z"
   },
   {
    "duration": 24,
    "start_time": "2022-06-13T16:21:42.962Z"
   },
   {
    "duration": 48,
    "start_time": "2022-06-13T16:21:42.988Z"
   },
   {
    "duration": 27,
    "start_time": "2022-06-13T16:21:43.039Z"
   },
   {
    "duration": 38,
    "start_time": "2022-06-13T16:21:43.068Z"
   },
   {
    "duration": 22,
    "start_time": "2022-06-13T16:21:43.109Z"
   },
   {
    "duration": 172,
    "start_time": "2022-06-13T16:21:43.134Z"
   },
   {
    "duration": 120,
    "start_time": "2022-06-13T16:21:43.310Z"
   },
   {
    "duration": 9,
    "start_time": "2022-06-13T16:21:43.432Z"
   },
   {
    "duration": 23,
    "start_time": "2022-06-13T16:21:43.444Z"
   },
   {
    "duration": 151,
    "start_time": "2022-06-13T16:21:43.470Z"
   },
   {
    "duration": 11,
    "start_time": "2022-06-13T16:21:43.624Z"
   },
   {
    "duration": 20,
    "start_time": "2022-06-13T16:21:43.637Z"
   },
   {
    "duration": 182,
    "start_time": "2022-06-13T16:21:43.660Z"
   },
   {
    "duration": 11,
    "start_time": "2022-06-13T16:21:43.844Z"
   },
   {
    "duration": 36,
    "start_time": "2022-06-13T16:21:43.857Z"
   },
   {
    "duration": 493,
    "start_time": "2022-06-13T16:21:43.896Z"
   },
   {
    "duration": 34,
    "start_time": "2022-06-13T16:21:44.390Z"
   },
   {
    "duration": 18,
    "start_time": "2022-06-13T16:21:44.429Z"
   },
   {
    "duration": 171,
    "start_time": "2022-06-13T16:21:44.449Z"
   },
   {
    "duration": 19,
    "start_time": "2022-06-13T16:21:44.629Z"
   },
   {
    "duration": 9,
    "start_time": "2022-06-13T16:21:44.650Z"
   },
   {
    "duration": 26,
    "start_time": "2022-06-13T16:21:44.661Z"
   },
   {
    "duration": 18,
    "start_time": "2022-06-13T16:21:44.689Z"
   },
   {
    "duration": 48,
    "start_time": "2022-06-13T16:21:44.709Z"
   },
   {
    "duration": 21,
    "start_time": "2022-06-13T16:21:44.760Z"
   },
   {
    "duration": 32,
    "start_time": "2022-06-13T16:21:44.783Z"
   },
   {
    "duration": 19,
    "start_time": "2022-06-13T16:21:44.816Z"
   },
   {
    "duration": 16,
    "start_time": "2022-06-13T16:21:44.839Z"
   },
   {
    "duration": 32,
    "start_time": "2022-06-13T16:21:44.858Z"
   },
   {
    "duration": 46,
    "start_time": "2022-06-13T16:21:44.892Z"
   },
   {
    "duration": 30,
    "start_time": "2022-06-13T16:21:44.940Z"
   },
   {
    "duration": 31,
    "start_time": "2022-06-13T16:21:44.972Z"
   },
   {
    "duration": 61,
    "start_time": "2022-06-13T16:21:45.005Z"
   },
   {
    "duration": 58,
    "start_time": "2022-06-13T16:21:45.069Z"
   },
   {
    "duration": 16,
    "start_time": "2022-06-13T16:21:45.129Z"
   },
   {
    "duration": 29,
    "start_time": "2022-06-13T16:21:45.147Z"
   },
   {
    "duration": 46,
    "start_time": "2022-06-13T16:21:45.178Z"
   },
   {
    "duration": 19,
    "start_time": "2022-06-13T16:21:45.229Z"
   },
   {
    "duration": 30,
    "start_time": "2022-06-13T16:21:45.250Z"
   },
   {
    "duration": 8,
    "start_time": "2022-06-13T16:21:45.282Z"
   },
   {
    "duration": 71,
    "start_time": "2022-06-13T16:21:45.292Z"
   },
   {
    "duration": 0,
    "start_time": "2022-06-13T16:21:45.365Z"
   },
   {
    "duration": 0,
    "start_time": "2022-06-13T16:21:45.367Z"
   },
   {
    "duration": 0,
    "start_time": "2022-06-13T16:21:45.369Z"
   },
   {
    "duration": 0,
    "start_time": "2022-06-13T16:21:45.370Z"
   },
   {
    "duration": 0,
    "start_time": "2022-06-13T16:21:45.371Z"
   },
   {
    "duration": 7,
    "start_time": "2022-06-13T16:22:02.764Z"
   },
   {
    "duration": 89,
    "start_time": "2022-06-13T16:22:02.776Z"
   },
   {
    "duration": 14,
    "start_time": "2022-06-13T16:22:02.867Z"
   },
   {
    "duration": 12,
    "start_time": "2022-06-13T16:22:02.883Z"
   },
   {
    "duration": 49,
    "start_time": "2022-06-13T16:22:02.897Z"
   },
   {
    "duration": 9,
    "start_time": "2022-06-13T16:22:02.948Z"
   },
   {
    "duration": 13,
    "start_time": "2022-06-13T16:22:02.959Z"
   },
   {
    "duration": 10,
    "start_time": "2022-06-13T16:22:02.975Z"
   },
   {
    "duration": 20,
    "start_time": "2022-06-13T16:22:02.987Z"
   },
   {
    "duration": 46,
    "start_time": "2022-06-13T16:22:03.009Z"
   },
   {
    "duration": 21,
    "start_time": "2022-06-13T16:22:03.059Z"
   },
   {
    "duration": 9,
    "start_time": "2022-06-13T16:22:03.081Z"
   },
   {
    "duration": 29,
    "start_time": "2022-06-13T16:22:03.093Z"
   },
   {
    "duration": 24,
    "start_time": "2022-06-13T16:22:03.125Z"
   },
   {
    "duration": 12,
    "start_time": "2022-06-13T16:22:03.152Z"
   },
   {
    "duration": 8,
    "start_time": "2022-06-13T16:22:03.166Z"
   },
   {
    "duration": 192,
    "start_time": "2022-06-13T16:22:03.177Z"
   },
   {
    "duration": 160,
    "start_time": "2022-06-13T16:22:03.375Z"
   },
   {
    "duration": 14,
    "start_time": "2022-06-13T16:22:03.537Z"
   },
   {
    "duration": 5,
    "start_time": "2022-06-13T16:22:03.554Z"
   },
   {
    "duration": 208,
    "start_time": "2022-06-13T16:22:03.561Z"
   },
   {
    "duration": 10,
    "start_time": "2022-06-13T16:22:03.771Z"
   },
   {
    "duration": 23,
    "start_time": "2022-06-13T16:22:03.784Z"
   },
   {
    "duration": 165,
    "start_time": "2022-06-13T16:22:03.817Z"
   },
   {
    "duration": 20,
    "start_time": "2022-06-13T16:22:03.984Z"
   },
   {
    "duration": 53,
    "start_time": "2022-06-13T16:22:04.007Z"
   },
   {
    "duration": 130,
    "start_time": "2022-06-13T16:22:04.063Z"
   },
   {
    "duration": 14,
    "start_time": "2022-06-13T16:22:04.195Z"
   },
   {
    "duration": 34,
    "start_time": "2022-06-13T16:22:04.215Z"
   },
   {
    "duration": 127,
    "start_time": "2022-06-13T16:22:04.251Z"
   },
   {
    "duration": 9,
    "start_time": "2022-06-13T16:22:04.380Z"
   },
   {
    "duration": 48,
    "start_time": "2022-06-13T16:22:04.390Z"
   },
   {
    "duration": 7,
    "start_time": "2022-06-13T16:22:04.440Z"
   },
   {
    "duration": 18,
    "start_time": "2022-06-13T16:22:04.449Z"
   },
   {
    "duration": 19,
    "start_time": "2022-06-13T16:22:04.469Z"
   },
   {
    "duration": 44,
    "start_time": "2022-06-13T16:22:04.490Z"
   },
   {
    "duration": 12,
    "start_time": "2022-06-13T16:22:04.538Z"
   },
   {
    "duration": 14,
    "start_time": "2022-06-13T16:22:04.552Z"
   },
   {
    "duration": 11,
    "start_time": "2022-06-13T16:22:04.568Z"
   },
   {
    "duration": 49,
    "start_time": "2022-06-13T16:22:04.581Z"
   },
   {
    "duration": 21,
    "start_time": "2022-06-13T16:22:04.632Z"
   },
   {
    "duration": 6,
    "start_time": "2022-06-13T16:22:04.655Z"
   },
   {
    "duration": 9,
    "start_time": "2022-06-13T16:22:04.664Z"
   },
   {
    "duration": 40,
    "start_time": "2022-06-13T16:22:04.675Z"
   },
   {
    "duration": 30,
    "start_time": "2022-06-13T16:22:04.721Z"
   },
   {
    "duration": 13,
    "start_time": "2022-06-13T16:22:04.753Z"
   },
   {
    "duration": 14,
    "start_time": "2022-06-13T16:22:04.768Z"
   },
   {
    "duration": 9,
    "start_time": "2022-06-13T16:22:04.784Z"
   },
   {
    "duration": 51,
    "start_time": "2022-06-13T16:22:04.794Z"
   },
   {
    "duration": 6,
    "start_time": "2022-06-13T16:22:04.848Z"
   },
   {
    "duration": 9,
    "start_time": "2022-06-13T16:22:04.857Z"
   },
   {
    "duration": 10,
    "start_time": "2022-06-13T16:22:04.868Z"
   },
   {
    "duration": 12,
    "start_time": "2022-06-13T16:22:04.880Z"
   },
   {
    "duration": 48,
    "start_time": "2022-06-13T16:22:04.894Z"
   },
   {
    "duration": 9,
    "start_time": "2022-06-13T16:22:04.944Z"
   },
   {
    "duration": 5659,
    "start_time": "2022-06-13T16:22:04.956Z"
   },
   {
    "duration": 21,
    "start_time": "2022-06-13T16:22:10.617Z"
   },
   {
    "duration": 16,
    "start_time": "2022-06-13T16:23:43.023Z"
   },
   {
    "duration": 88,
    "start_time": "2022-06-13T16:23:43.042Z"
   },
   {
    "duration": 14,
    "start_time": "2022-06-13T16:23:43.135Z"
   },
   {
    "duration": 5,
    "start_time": "2022-06-13T16:23:43.151Z"
   },
   {
    "duration": 7,
    "start_time": "2022-06-13T16:23:43.160Z"
   },
   {
    "duration": 56,
    "start_time": "2022-06-13T16:23:43.169Z"
   },
   {
    "duration": 29,
    "start_time": "2022-06-13T16:23:43.228Z"
   },
   {
    "duration": 10,
    "start_time": "2022-06-13T16:23:43.259Z"
   },
   {
    "duration": 11,
    "start_time": "2022-06-13T16:23:43.271Z"
   },
   {
    "duration": 15,
    "start_time": "2022-06-13T16:23:43.284Z"
   },
   {
    "duration": 29,
    "start_time": "2022-06-13T16:23:43.317Z"
   },
   {
    "duration": 8,
    "start_time": "2022-06-13T16:23:43.348Z"
   },
   {
    "duration": 9,
    "start_time": "2022-06-13T16:23:43.358Z"
   },
   {
    "duration": 6,
    "start_time": "2022-06-13T16:23:43.371Z"
   },
   {
    "duration": 10,
    "start_time": "2022-06-13T16:23:43.380Z"
   },
   {
    "duration": 50,
    "start_time": "2022-06-13T16:23:43.393Z"
   },
   {
    "duration": 181,
    "start_time": "2022-06-13T16:23:43.446Z"
   },
   {
    "duration": 149,
    "start_time": "2022-06-13T16:23:43.630Z"
   },
   {
    "duration": 46,
    "start_time": "2022-06-13T16:23:43.782Z"
   },
   {
    "duration": 86,
    "start_time": "2022-06-13T16:23:43.833Z"
   },
   {
    "duration": 173,
    "start_time": "2022-06-13T16:23:43.926Z"
   },
   {
    "duration": 17,
    "start_time": "2022-06-13T16:23:44.102Z"
   },
   {
    "duration": 27,
    "start_time": "2022-06-13T16:23:44.128Z"
   },
   {
    "duration": 250,
    "start_time": "2022-06-13T16:23:44.158Z"
   },
   {
    "duration": 15,
    "start_time": "2022-06-13T16:23:44.411Z"
   },
   {
    "duration": 34,
    "start_time": "2022-06-13T16:23:44.428Z"
   },
   {
    "duration": 154,
    "start_time": "2022-06-13T16:23:44.464Z"
   },
   {
    "duration": 15,
    "start_time": "2022-06-13T16:23:44.620Z"
   },
   {
    "duration": 38,
    "start_time": "2022-06-13T16:23:44.637Z"
   },
   {
    "duration": 194,
    "start_time": "2022-06-13T16:23:44.677Z"
   },
   {
    "duration": 9,
    "start_time": "2022-06-13T16:23:44.873Z"
   },
   {
    "duration": 55,
    "start_time": "2022-06-13T16:23:44.884Z"
   },
   {
    "duration": 24,
    "start_time": "2022-06-13T16:23:44.941Z"
   },
   {
    "duration": 19,
    "start_time": "2022-06-13T16:23:44.966Z"
   },
   {
    "duration": 72,
    "start_time": "2022-06-13T16:23:44.987Z"
   },
   {
    "duration": 16,
    "start_time": "2022-06-13T16:23:45.062Z"
   },
   {
    "duration": 21,
    "start_time": "2022-06-13T16:23:45.080Z"
   },
   {
    "duration": 55,
    "start_time": "2022-06-13T16:23:45.106Z"
   },
   {
    "duration": 19,
    "start_time": "2022-06-13T16:23:45.163Z"
   },
   {
    "duration": 66,
    "start_time": "2022-06-13T16:23:45.185Z"
   },
   {
    "duration": 10,
    "start_time": "2022-06-13T16:23:45.259Z"
   },
   {
    "duration": 19,
    "start_time": "2022-06-13T16:23:45.272Z"
   },
   {
    "duration": 59,
    "start_time": "2022-06-13T16:23:45.293Z"
   },
   {
    "duration": 48,
    "start_time": "2022-06-13T16:23:45.355Z"
   },
   {
    "duration": 47,
    "start_time": "2022-06-13T16:23:45.405Z"
   },
   {
    "duration": 13,
    "start_time": "2022-06-13T16:23:45.454Z"
   },
   {
    "duration": 71,
    "start_time": "2022-06-13T16:23:45.470Z"
   },
   {
    "duration": 23,
    "start_time": "2022-06-13T16:23:45.543Z"
   },
   {
    "duration": 18,
    "start_time": "2022-06-13T16:23:45.569Z"
   },
   {
    "duration": 46,
    "start_time": "2022-06-13T16:23:45.590Z"
   },
   {
    "duration": 18,
    "start_time": "2022-06-13T16:23:45.638Z"
   },
   {
    "duration": 17,
    "start_time": "2022-06-13T16:23:45.658Z"
   },
   {
    "duration": 50,
    "start_time": "2022-06-13T16:23:45.677Z"
   },
   {
    "duration": 27,
    "start_time": "2022-06-13T16:23:45.729Z"
   },
   {
    "duration": 21,
    "start_time": "2022-06-13T16:23:45.759Z"
   },
   {
    "duration": 5860,
    "start_time": "2022-06-13T16:23:45.785Z"
   },
   {
    "duration": 9,
    "start_time": "2022-06-13T16:23:51.648Z"
   },
   {
    "duration": 10,
    "start_time": "2022-06-13T16:25:11.639Z"
   },
   {
    "duration": 106,
    "start_time": "2022-06-13T16:25:11.652Z"
   },
   {
    "duration": 14,
    "start_time": "2022-06-13T16:25:11.760Z"
   },
   {
    "duration": 9,
    "start_time": "2022-06-13T16:25:11.777Z"
   },
   {
    "duration": 46,
    "start_time": "2022-06-13T16:25:11.789Z"
   },
   {
    "duration": 6,
    "start_time": "2022-06-13T16:25:11.838Z"
   },
   {
    "duration": 10,
    "start_time": "2022-06-13T16:25:11.846Z"
   },
   {
    "duration": 11,
    "start_time": "2022-06-13T16:25:11.858Z"
   },
   {
    "duration": 21,
    "start_time": "2022-06-13T16:25:11.870Z"
   },
   {
    "duration": 45,
    "start_time": "2022-06-13T16:25:11.894Z"
   },
   {
    "duration": 9,
    "start_time": "2022-06-13T16:25:11.941Z"
   },
   {
    "duration": 8,
    "start_time": "2022-06-13T16:25:11.952Z"
   },
   {
    "duration": 8,
    "start_time": "2022-06-13T16:25:11.962Z"
   },
   {
    "duration": 7,
    "start_time": "2022-06-13T16:25:11.972Z"
   },
   {
    "duration": 35,
    "start_time": "2022-06-13T16:25:11.981Z"
   },
   {
    "duration": 51,
    "start_time": "2022-06-13T16:25:12.018Z"
   },
   {
    "duration": 144,
    "start_time": "2022-06-13T16:25:12.070Z"
   },
   {
    "duration": 132,
    "start_time": "2022-06-13T16:25:12.216Z"
   },
   {
    "duration": 11,
    "start_time": "2022-06-13T16:25:12.350Z"
   },
   {
    "duration": 8,
    "start_time": "2022-06-13T16:25:12.363Z"
   },
   {
    "duration": 166,
    "start_time": "2022-06-13T16:25:12.373Z"
   },
   {
    "duration": 12,
    "start_time": "2022-06-13T16:25:12.541Z"
   },
   {
    "duration": 14,
    "start_time": "2022-06-13T16:25:12.565Z"
   },
   {
    "duration": 168,
    "start_time": "2022-06-13T16:25:12.581Z"
   },
   {
    "duration": 9,
    "start_time": "2022-06-13T16:25:12.757Z"
   },
   {
    "duration": 9,
    "start_time": "2022-06-13T16:25:12.768Z"
   },
   {
    "duration": 146,
    "start_time": "2022-06-13T16:25:12.779Z"
   },
   {
    "duration": 13,
    "start_time": "2022-06-13T16:25:12.930Z"
   },
   {
    "duration": 10,
    "start_time": "2022-06-13T16:25:12.945Z"
   },
   {
    "duration": 156,
    "start_time": "2022-06-13T16:25:12.957Z"
   },
   {
    "duration": 12,
    "start_time": "2022-06-13T16:25:13.115Z"
   },
   {
    "duration": 18,
    "start_time": "2022-06-13T16:25:13.130Z"
   },
   {
    "duration": 10,
    "start_time": "2022-06-13T16:25:13.150Z"
   },
   {
    "duration": 14,
    "start_time": "2022-06-13T16:25:13.162Z"
   },
   {
    "duration": 44,
    "start_time": "2022-06-13T16:25:13.178Z"
   },
   {
    "duration": 25,
    "start_time": "2022-06-13T16:25:13.232Z"
   },
   {
    "duration": 12,
    "start_time": "2022-06-13T16:25:13.259Z"
   },
   {
    "duration": 9,
    "start_time": "2022-06-13T16:25:13.273Z"
   },
   {
    "duration": 9,
    "start_time": "2022-06-13T16:25:13.284Z"
   },
   {
    "duration": 35,
    "start_time": "2022-06-13T16:25:13.308Z"
   },
   {
    "duration": 9,
    "start_time": "2022-06-13T16:25:13.346Z"
   },
   {
    "duration": 5,
    "start_time": "2022-06-13T16:25:13.357Z"
   },
   {
    "duration": 12,
    "start_time": "2022-06-13T16:25:13.364Z"
   },
   {
    "duration": 47,
    "start_time": "2022-06-13T16:25:13.379Z"
   },
   {
    "duration": 16,
    "start_time": "2022-06-13T16:25:13.428Z"
   },
   {
    "duration": 10,
    "start_time": "2022-06-13T16:25:13.446Z"
   },
   {
    "duration": 8,
    "start_time": "2022-06-13T16:25:13.458Z"
   },
   {
    "duration": 13,
    "start_time": "2022-06-13T16:25:13.468Z"
   },
   {
    "duration": 63,
    "start_time": "2022-06-13T16:25:13.484Z"
   },
   {
    "duration": 11,
    "start_time": "2022-06-13T16:25:13.549Z"
   },
   {
    "duration": 8,
    "start_time": "2022-06-13T16:25:13.562Z"
   },
   {
    "duration": 13,
    "start_time": "2022-06-13T16:25:13.573Z"
   },
   {
    "duration": 60,
    "start_time": "2022-06-13T16:25:13.589Z"
   },
   {
    "duration": 13,
    "start_time": "2022-06-13T16:25:13.652Z"
   },
   {
    "duration": 9,
    "start_time": "2022-06-13T16:25:13.667Z"
   },
   {
    "duration": 9879,
    "start_time": "2022-06-13T16:25:13.678Z"
   },
   {
    "duration": 71,
    "start_time": "2022-06-13T16:25:23.559Z"
   },
   {
    "duration": 30,
    "start_time": "2022-06-13T16:25:23.635Z"
   },
   {
    "duration": 85,
    "start_time": "2022-06-13T16:25:23.667Z"
   },
   {
    "duration": 6,
    "start_time": "2022-06-13T16:25:23.755Z"
   },
   {
    "duration": 16,
    "start_time": "2022-06-13T16:25:23.763Z"
   },
   {
    "duration": 9,
    "start_time": "2022-06-13T16:25:23.782Z"
   },
   {
    "duration": 57,
    "start_time": "2022-06-13T16:25:23.793Z"
   },
   {
    "duration": 22,
    "start_time": "2022-06-13T16:25:23.852Z"
   },
   {
    "duration": 10,
    "start_time": "2022-06-13T16:25:23.877Z"
   },
   {
    "duration": 19,
    "start_time": "2022-06-13T16:25:23.889Z"
   },
   {
    "duration": 24,
    "start_time": "2022-06-13T16:25:23.909Z"
   },
   {
    "duration": 313,
    "start_time": "2022-06-13T16:25:23.934Z"
   },
   {
    "duration": 5,
    "start_time": "2022-06-13T16:25:24.255Z"
   },
   {
    "duration": 8,
    "start_time": "2022-06-13T16:25:24.262Z"
   },
   {
    "duration": 4579,
    "start_time": "2022-06-13T16:25:24.272Z"
   },
   {
    "duration": 89,
    "start_time": "2022-06-13T16:25:28.854Z"
   },
   {
    "duration": 29,
    "start_time": "2022-06-13T16:25:28.945Z"
   },
   {
    "duration": 13,
    "start_time": "2022-06-13T16:25:28.977Z"
   },
   {
    "duration": 82,
    "start_time": "2022-06-13T16:25:28.992Z"
   },
   {
    "duration": 0,
    "start_time": "2022-06-13T16:25:29.077Z"
   },
   {
    "duration": 0,
    "start_time": "2022-06-13T16:25:29.079Z"
   },
   {
    "duration": 14,
    "start_time": "2022-06-13T16:26:00.734Z"
   },
   {
    "duration": 91,
    "start_time": "2022-06-13T16:26:00.750Z"
   },
   {
    "duration": 14,
    "start_time": "2022-06-13T16:26:00.843Z"
   },
   {
    "duration": 18,
    "start_time": "2022-06-13T16:26:00.861Z"
   },
   {
    "duration": 15,
    "start_time": "2022-06-13T16:26:00.882Z"
   },
   {
    "duration": 48,
    "start_time": "2022-06-13T16:26:00.899Z"
   },
   {
    "duration": 18,
    "start_time": "2022-06-13T16:26:00.950Z"
   },
   {
    "duration": 22,
    "start_time": "2022-06-13T16:26:00.970Z"
   },
   {
    "duration": 17,
    "start_time": "2022-06-13T16:26:00.998Z"
   },
   {
    "duration": 8,
    "start_time": "2022-06-13T16:26:01.018Z"
   },
   {
    "duration": 22,
    "start_time": "2022-06-13T16:26:01.036Z"
   },
   {
    "duration": 10,
    "start_time": "2022-06-13T16:26:01.061Z"
   },
   {
    "duration": 17,
    "start_time": "2022-06-13T16:26:01.073Z"
   },
   {
    "duration": 48,
    "start_time": "2022-06-13T16:26:01.093Z"
   },
   {
    "duration": 14,
    "start_time": "2022-06-13T16:26:01.143Z"
   },
   {
    "duration": 14,
    "start_time": "2022-06-13T16:26:01.159Z"
   },
   {
    "duration": 207,
    "start_time": "2022-06-13T16:26:01.175Z"
   },
   {
    "duration": 164,
    "start_time": "2022-06-13T16:26:01.385Z"
   },
   {
    "duration": 13,
    "start_time": "2022-06-13T16:26:01.552Z"
   },
   {
    "duration": 61,
    "start_time": "2022-06-13T16:26:01.567Z"
   },
   {
    "duration": 214,
    "start_time": "2022-06-13T16:26:01.630Z"
   },
   {
    "duration": 14,
    "start_time": "2022-06-13T16:26:01.846Z"
   },
   {
    "duration": 18,
    "start_time": "2022-06-13T16:26:01.862Z"
   },
   {
    "duration": 309,
    "start_time": "2022-06-13T16:26:01.882Z"
   },
   {
    "duration": 30,
    "start_time": "2022-06-13T16:26:02.199Z"
   },
   {
    "duration": 33,
    "start_time": "2022-06-13T16:26:02.234Z"
   },
   {
    "duration": 172,
    "start_time": "2022-06-13T16:26:02.270Z"
   },
   {
    "duration": 18,
    "start_time": "2022-06-13T16:26:02.456Z"
   },
   {
    "duration": 36,
    "start_time": "2022-06-13T16:26:02.476Z"
   },
   {
    "duration": 198,
    "start_time": "2022-06-13T16:26:02.516Z"
   },
   {
    "duration": 13,
    "start_time": "2022-06-13T16:26:02.716Z"
   },
   {
    "duration": 20,
    "start_time": "2022-06-13T16:26:02.731Z"
   },
   {
    "duration": 9,
    "start_time": "2022-06-13T16:26:02.754Z"
   },
   {
    "duration": 9,
    "start_time": "2022-06-13T16:26:02.765Z"
   },
   {
    "duration": 53,
    "start_time": "2022-06-13T16:26:02.777Z"
   },
   {
    "duration": 17,
    "start_time": "2022-06-13T16:26:02.832Z"
   },
   {
    "duration": 13,
    "start_time": "2022-06-13T16:26:02.851Z"
   },
   {
    "duration": 15,
    "start_time": "2022-06-13T16:26:02.866Z"
   },
   {
    "duration": 11,
    "start_time": "2022-06-13T16:26:02.882Z"
   },
   {
    "duration": 52,
    "start_time": "2022-06-13T16:26:02.896Z"
   },
   {
    "duration": 5,
    "start_time": "2022-06-13T16:26:02.950Z"
   },
   {
    "duration": 6,
    "start_time": "2022-06-13T16:26:02.957Z"
   },
   {
    "duration": 9,
    "start_time": "2022-06-13T16:26:02.965Z"
   },
   {
    "duration": 19,
    "start_time": "2022-06-13T16:26:02.976Z"
   },
   {
    "duration": 43,
    "start_time": "2022-06-13T16:26:02.996Z"
   },
   {
    "duration": 7,
    "start_time": "2022-06-13T16:26:03.041Z"
   },
   {
    "duration": 8,
    "start_time": "2022-06-13T16:26:03.050Z"
   },
   {
    "duration": 6,
    "start_time": "2022-06-13T16:26:03.060Z"
   },
   {
    "duration": 24,
    "start_time": "2022-06-13T16:26:03.068Z"
   },
   {
    "duration": 24,
    "start_time": "2022-06-13T16:26:03.096Z"
   },
   {
    "duration": 24,
    "start_time": "2022-06-13T16:26:03.122Z"
   },
   {
    "duration": 11,
    "start_time": "2022-06-13T16:26:03.149Z"
   },
   {
    "duration": 5,
    "start_time": "2022-06-13T16:26:03.162Z"
   },
   {
    "duration": 18,
    "start_time": "2022-06-13T16:26:03.169Z"
   },
   {
    "duration": 20,
    "start_time": "2022-06-13T16:26:03.189Z"
   },
   {
    "duration": 7240,
    "start_time": "2022-06-13T16:26:03.212Z"
   },
   {
    "duration": 92,
    "start_time": "2022-06-13T16:26:10.457Z"
   },
   {
    "duration": 8,
    "start_time": "2022-06-13T16:26:49.439Z"
   },
   {
    "duration": 745,
    "start_time": "2022-06-13T16:26:49.450Z"
   },
   {
    "duration": 19,
    "start_time": "2022-06-13T16:26:50.198Z"
   },
   {
    "duration": 10,
    "start_time": "2022-06-13T16:26:50.222Z"
   },
   {
    "duration": 9,
    "start_time": "2022-06-13T16:26:50.235Z"
   },
   {
    "duration": 8,
    "start_time": "2022-06-13T16:26:50.247Z"
   },
   {
    "duration": 41,
    "start_time": "2022-06-13T16:26:50.257Z"
   },
   {
    "duration": 11,
    "start_time": "2022-06-13T16:26:50.300Z"
   },
   {
    "duration": 20,
    "start_time": "2022-06-13T16:26:50.315Z"
   },
   {
    "duration": 11,
    "start_time": "2022-06-13T16:26:50.338Z"
   },
   {
    "duration": 8,
    "start_time": "2022-06-13T16:26:50.351Z"
   },
   {
    "duration": 9,
    "start_time": "2022-06-13T16:26:50.361Z"
   },
   {
    "duration": 40,
    "start_time": "2022-06-13T16:26:50.372Z"
   },
   {
    "duration": 5,
    "start_time": "2022-06-13T16:26:50.420Z"
   },
   {
    "duration": 11,
    "start_time": "2022-06-13T16:26:50.427Z"
   },
   {
    "duration": 7,
    "start_time": "2022-06-13T16:26:50.440Z"
   },
   {
    "duration": 129,
    "start_time": "2022-06-13T16:26:50.449Z"
   },
   {
    "duration": 157,
    "start_time": "2022-06-13T16:26:50.581Z"
   },
   {
    "duration": 17,
    "start_time": "2022-06-13T16:26:50.741Z"
   },
   {
    "duration": 6,
    "start_time": "2022-06-13T16:26:50.761Z"
   },
   {
    "duration": 155,
    "start_time": "2022-06-13T16:26:50.769Z"
   },
   {
    "duration": 12,
    "start_time": "2022-06-13T16:26:50.927Z"
   },
   {
    "duration": 7,
    "start_time": "2022-06-13T16:26:50.942Z"
   },
   {
    "duration": 179,
    "start_time": "2022-06-13T16:26:50.950Z"
   },
   {
    "duration": 11,
    "start_time": "2022-06-13T16:26:51.131Z"
   },
   {
    "duration": 12,
    "start_time": "2022-06-13T16:26:51.144Z"
   },
   {
    "duration": 137,
    "start_time": "2022-06-13T16:26:51.159Z"
   },
   {
    "duration": 21,
    "start_time": "2022-06-13T16:26:51.298Z"
   },
   {
    "duration": 12,
    "start_time": "2022-06-13T16:26:51.321Z"
   },
   {
    "duration": 142,
    "start_time": "2022-06-13T16:26:51.335Z"
   },
   {
    "duration": 33,
    "start_time": "2022-06-13T16:26:51.481Z"
   },
   {
    "duration": 16,
    "start_time": "2022-06-13T16:26:51.517Z"
   },
   {
    "duration": 10,
    "start_time": "2022-06-13T16:26:51.535Z"
   },
   {
    "duration": 10,
    "start_time": "2022-06-13T16:26:51.547Z"
   },
   {
    "duration": 26,
    "start_time": "2022-06-13T16:26:51.560Z"
   },
   {
    "duration": 26,
    "start_time": "2022-06-13T16:26:51.588Z"
   },
   {
    "duration": 10,
    "start_time": "2022-06-13T16:26:51.617Z"
   },
   {
    "duration": 8,
    "start_time": "2022-06-13T16:26:51.629Z"
   },
   {
    "duration": 13,
    "start_time": "2022-06-13T16:26:51.638Z"
   },
   {
    "duration": 25,
    "start_time": "2022-06-13T16:26:51.653Z"
   },
   {
    "duration": 12,
    "start_time": "2022-06-13T16:26:51.686Z"
   },
   {
    "duration": 15,
    "start_time": "2022-06-13T16:26:51.705Z"
   },
   {
    "duration": 8,
    "start_time": "2022-06-13T16:26:51.722Z"
   },
   {
    "duration": 36,
    "start_time": "2022-06-13T16:26:51.733Z"
   },
   {
    "duration": 6,
    "start_time": "2022-06-13T16:26:51.771Z"
   },
   {
    "duration": 8,
    "start_time": "2022-06-13T16:26:51.780Z"
   },
   {
    "duration": 32,
    "start_time": "2022-06-13T16:26:51.793Z"
   },
   {
    "duration": 7,
    "start_time": "2022-06-13T16:26:51.827Z"
   },
   {
    "duration": 7,
    "start_time": "2022-06-13T16:26:51.837Z"
   },
   {
    "duration": 5,
    "start_time": "2022-06-13T16:26:51.846Z"
   },
   {
    "duration": 6,
    "start_time": "2022-06-13T16:26:51.853Z"
   },
   {
    "duration": 10,
    "start_time": "2022-06-13T16:26:51.861Z"
   },
   {
    "duration": 4,
    "start_time": "2022-06-13T16:26:51.873Z"
   },
   {
    "duration": 39,
    "start_time": "2022-06-13T16:26:51.879Z"
   },
   {
    "duration": 10,
    "start_time": "2022-06-13T16:26:51.920Z"
   },
   {
    "duration": 5703,
    "start_time": "2022-06-13T16:26:51.932Z"
   },
   {
    "duration": 86,
    "start_time": "2022-06-13T16:26:57.637Z"
   },
   {
    "duration": 10,
    "start_time": "2022-06-13T16:31:09.849Z"
   },
   {
    "duration": 56,
    "start_time": "2022-06-13T16:31:09.863Z"
   },
   {
    "duration": 15,
    "start_time": "2022-06-13T16:31:09.922Z"
   },
   {
    "duration": 5,
    "start_time": "2022-06-13T16:31:09.941Z"
   },
   {
    "duration": 18,
    "start_time": "2022-06-13T16:31:09.948Z"
   },
   {
    "duration": 34,
    "start_time": "2022-06-13T16:31:09.969Z"
   },
   {
    "duration": 19,
    "start_time": "2022-06-13T16:31:10.006Z"
   },
   {
    "duration": 10,
    "start_time": "2022-06-13T16:31:10.034Z"
   },
   {
    "duration": 26,
    "start_time": "2022-06-13T16:31:10.047Z"
   },
   {
    "duration": 20,
    "start_time": "2022-06-13T16:31:10.076Z"
   },
   {
    "duration": 14,
    "start_time": "2022-06-13T16:31:10.098Z"
   },
   {
    "duration": 6,
    "start_time": "2022-06-13T16:31:10.114Z"
   },
   {
    "duration": 8,
    "start_time": "2022-06-13T16:31:10.122Z"
   },
   {
    "duration": 11,
    "start_time": "2022-06-13T16:31:10.132Z"
   },
   {
    "duration": 15,
    "start_time": "2022-06-13T16:31:10.145Z"
   },
   {
    "duration": 7,
    "start_time": "2022-06-13T16:31:10.162Z"
   },
   {
    "duration": 135,
    "start_time": "2022-06-13T16:31:10.171Z"
   },
   {
    "duration": 201,
    "start_time": "2022-06-13T16:31:10.309Z"
   },
   {
    "duration": 11,
    "start_time": "2022-06-13T16:31:10.513Z"
   },
   {
    "duration": 10,
    "start_time": "2022-06-13T16:31:10.525Z"
   },
   {
    "duration": 179,
    "start_time": "2022-06-13T16:31:10.537Z"
   },
   {
    "duration": 15,
    "start_time": "2022-06-13T16:31:10.718Z"
   },
   {
    "duration": 17,
    "start_time": "2022-06-13T16:31:10.736Z"
   },
   {
    "duration": 170,
    "start_time": "2022-06-13T16:31:10.755Z"
   },
   {
    "duration": 13,
    "start_time": "2022-06-13T16:31:10.928Z"
   },
   {
    "duration": 12,
    "start_time": "2022-06-13T16:31:10.943Z"
   },
   {
    "duration": 229,
    "start_time": "2022-06-13T16:31:10.957Z"
   },
   {
    "duration": 11,
    "start_time": "2022-06-13T16:31:11.199Z"
   },
   {
    "duration": 10,
    "start_time": "2022-06-13T16:31:11.212Z"
   },
   {
    "duration": 121,
    "start_time": "2022-06-13T16:31:11.225Z"
   },
   {
    "duration": 14,
    "start_time": "2022-06-13T16:31:11.348Z"
   },
   {
    "duration": 13,
    "start_time": "2022-06-13T16:31:11.364Z"
   },
   {
    "duration": 8,
    "start_time": "2022-06-13T16:31:11.396Z"
   },
   {
    "duration": 14,
    "start_time": "2022-06-13T16:31:11.406Z"
   },
   {
    "duration": 19,
    "start_time": "2022-06-13T16:31:11.422Z"
   },
   {
    "duration": 10,
    "start_time": "2022-06-13T16:31:11.443Z"
   },
   {
    "duration": 8,
    "start_time": "2022-06-13T16:31:11.455Z"
   },
   {
    "duration": 7,
    "start_time": "2022-06-13T16:31:11.465Z"
   },
   {
    "duration": 32,
    "start_time": "2022-06-13T16:31:11.473Z"
   },
   {
    "duration": 15,
    "start_time": "2022-06-13T16:31:11.507Z"
   },
   {
    "duration": 12,
    "start_time": "2022-06-13T16:31:11.525Z"
   },
   {
    "duration": 4,
    "start_time": "2022-06-13T16:31:11.539Z"
   },
   {
    "duration": 6,
    "start_time": "2022-06-13T16:31:11.545Z"
   },
   {
    "duration": 20,
    "start_time": "2022-06-13T16:31:11.553Z"
   },
   {
    "duration": 22,
    "start_time": "2022-06-13T16:31:11.575Z"
   },
   {
    "duration": 10,
    "start_time": "2022-06-13T16:31:11.599Z"
   },
   {
    "duration": 6,
    "start_time": "2022-06-13T16:31:11.612Z"
   },
   {
    "duration": 12,
    "start_time": "2022-06-13T16:31:11.620Z"
   },
   {
    "duration": 7,
    "start_time": "2022-06-13T16:31:11.635Z"
   },
   {
    "duration": 8,
    "start_time": "2022-06-13T16:31:11.644Z"
   },
   {
    "duration": 7,
    "start_time": "2022-06-13T16:31:11.654Z"
   },
   {
    "duration": 9,
    "start_time": "2022-06-13T16:31:11.663Z"
   },
   {
    "duration": 22,
    "start_time": "2022-06-13T16:31:11.673Z"
   },
   {
    "duration": 11,
    "start_time": "2022-06-13T16:31:11.697Z"
   },
   {
    "duration": 12,
    "start_time": "2022-06-13T16:31:11.710Z"
   },
   {
    "duration": 61,
    "start_time": "2022-06-13T16:31:11.724Z"
   },
   {
    "duration": 0,
    "start_time": "2022-06-13T16:31:11.789Z"
   },
   {
    "duration": 9,
    "start_time": "2022-06-13T16:31:31.939Z"
   },
   {
    "duration": 62,
    "start_time": "2022-06-13T16:31:31.951Z"
   },
   {
    "duration": 28,
    "start_time": "2022-06-13T16:31:32.015Z"
   },
   {
    "duration": 13,
    "start_time": "2022-06-13T16:31:32.046Z"
   },
   {
    "duration": 44,
    "start_time": "2022-06-13T16:31:32.061Z"
   },
   {
    "duration": 21,
    "start_time": "2022-06-13T16:31:32.108Z"
   },
   {
    "duration": 17,
    "start_time": "2022-06-13T16:31:32.132Z"
   },
   {
    "duration": 11,
    "start_time": "2022-06-13T16:31:32.152Z"
   },
   {
    "duration": 31,
    "start_time": "2022-06-13T16:31:32.165Z"
   },
   {
    "duration": 41,
    "start_time": "2022-06-13T16:31:32.200Z"
   },
   {
    "duration": 31,
    "start_time": "2022-06-13T16:31:32.244Z"
   },
   {
    "duration": 14,
    "start_time": "2022-06-13T16:31:32.278Z"
   },
   {
    "duration": 14,
    "start_time": "2022-06-13T16:31:32.295Z"
   },
   {
    "duration": 13,
    "start_time": "2022-06-13T16:31:32.312Z"
   },
   {
    "duration": 15,
    "start_time": "2022-06-13T16:31:32.327Z"
   },
   {
    "duration": 14,
    "start_time": "2022-06-13T16:31:32.344Z"
   },
   {
    "duration": 181,
    "start_time": "2022-06-13T16:31:32.361Z"
   },
   {
    "duration": 591,
    "start_time": "2022-06-13T16:31:32.545Z"
   },
   {
    "duration": 14,
    "start_time": "2022-06-13T16:31:33.139Z"
   },
   {
    "duration": 8,
    "start_time": "2022-06-13T16:31:33.155Z"
   },
   {
    "duration": 198,
    "start_time": "2022-06-13T16:31:33.165Z"
   },
   {
    "duration": 10,
    "start_time": "2022-06-13T16:31:33.366Z"
   },
   {
    "duration": 20,
    "start_time": "2022-06-13T16:31:33.378Z"
   },
   {
    "duration": 139,
    "start_time": "2022-06-13T16:31:33.401Z"
   },
   {
    "duration": 13,
    "start_time": "2022-06-13T16:31:33.542Z"
   },
   {
    "duration": 9,
    "start_time": "2022-06-13T16:31:33.557Z"
   },
   {
    "duration": 194,
    "start_time": "2022-06-13T16:31:33.569Z"
   },
   {
    "duration": 25,
    "start_time": "2022-06-13T16:31:33.769Z"
   },
   {
    "duration": 5,
    "start_time": "2022-06-13T16:31:33.797Z"
   },
   {
    "duration": 147,
    "start_time": "2022-06-13T16:31:33.805Z"
   },
   {
    "duration": 9,
    "start_time": "2022-06-13T16:31:33.954Z"
   },
   {
    "duration": 12,
    "start_time": "2022-06-13T16:31:33.966Z"
   },
   {
    "duration": 17,
    "start_time": "2022-06-13T16:31:33.980Z"
   },
   {
    "duration": 9,
    "start_time": "2022-06-13T16:31:34.000Z"
   },
   {
    "duration": 23,
    "start_time": "2022-06-13T16:31:34.011Z"
   },
   {
    "duration": 12,
    "start_time": "2022-06-13T16:31:34.036Z"
   },
   {
    "duration": 23,
    "start_time": "2022-06-13T16:31:34.050Z"
   },
   {
    "duration": 22,
    "start_time": "2022-06-13T16:31:34.075Z"
   },
   {
    "duration": 19,
    "start_time": "2022-06-13T16:31:34.100Z"
   },
   {
    "duration": 16,
    "start_time": "2022-06-13T16:31:34.121Z"
   },
   {
    "duration": 5,
    "start_time": "2022-06-13T16:31:34.140Z"
   },
   {
    "duration": 6,
    "start_time": "2022-06-13T16:31:34.148Z"
   },
   {
    "duration": 9,
    "start_time": "2022-06-13T16:31:34.156Z"
   },
   {
    "duration": 47,
    "start_time": "2022-06-13T16:31:34.168Z"
   },
   {
    "duration": 6,
    "start_time": "2022-06-13T16:31:34.218Z"
   },
   {
    "duration": 7,
    "start_time": "2022-06-13T16:31:34.226Z"
   },
   {
    "duration": 10,
    "start_time": "2022-06-13T16:31:34.235Z"
   },
   {
    "duration": 11,
    "start_time": "2022-06-13T16:31:34.247Z"
   },
   {
    "duration": 6,
    "start_time": "2022-06-13T16:31:34.261Z"
   },
   {
    "duration": 5,
    "start_time": "2022-06-13T16:31:34.296Z"
   },
   {
    "duration": 16,
    "start_time": "2022-06-13T16:31:34.303Z"
   },
   {
    "duration": 13,
    "start_time": "2022-06-13T16:31:34.322Z"
   },
   {
    "duration": 10,
    "start_time": "2022-06-13T16:31:34.338Z"
   },
   {
    "duration": 23,
    "start_time": "2022-06-13T16:31:34.352Z"
   },
   {
    "duration": 19,
    "start_time": "2022-06-13T16:31:34.377Z"
   },
   {
    "duration": 36,
    "start_time": "2022-06-13T16:31:34.399Z"
   },
   {
    "duration": 0,
    "start_time": "2022-06-13T16:31:34.437Z"
   },
   {
    "duration": 8,
    "start_time": "2022-06-13T16:32:38.263Z"
   },
   {
    "duration": 62,
    "start_time": "2022-06-13T16:32:38.273Z"
   },
   {
    "duration": 13,
    "start_time": "2022-06-13T16:32:38.337Z"
   },
   {
    "duration": 8,
    "start_time": "2022-06-13T16:32:38.353Z"
   },
   {
    "duration": 12,
    "start_time": "2022-06-13T16:32:38.362Z"
   },
   {
    "duration": 24,
    "start_time": "2022-06-13T16:32:38.376Z"
   },
   {
    "duration": 8,
    "start_time": "2022-06-13T16:32:38.403Z"
   },
   {
    "duration": 11,
    "start_time": "2022-06-13T16:32:38.413Z"
   },
   {
    "duration": 11,
    "start_time": "2022-06-13T16:32:38.427Z"
   },
   {
    "duration": 8,
    "start_time": "2022-06-13T16:32:38.440Z"
   },
   {
    "duration": 9,
    "start_time": "2022-06-13T16:32:38.494Z"
   },
   {
    "duration": 10,
    "start_time": "2022-06-13T16:32:38.505Z"
   },
   {
    "duration": 11,
    "start_time": "2022-06-13T16:32:38.517Z"
   },
   {
    "duration": 18,
    "start_time": "2022-06-13T16:32:38.530Z"
   },
   {
    "duration": 10,
    "start_time": "2022-06-13T16:32:38.550Z"
   },
   {
    "duration": 7,
    "start_time": "2022-06-13T16:32:38.561Z"
   },
   {
    "duration": 158,
    "start_time": "2022-06-13T16:32:38.595Z"
   },
   {
    "duration": 118,
    "start_time": "2022-06-13T16:32:38.756Z"
   },
   {
    "duration": 19,
    "start_time": "2022-06-13T16:32:38.876Z"
   },
   {
    "duration": 8,
    "start_time": "2022-06-13T16:32:38.897Z"
   },
   {
    "duration": 166,
    "start_time": "2022-06-13T16:32:38.907Z"
   },
   {
    "duration": 25,
    "start_time": "2022-06-13T16:32:39.076Z"
   },
   {
    "duration": 8,
    "start_time": "2022-06-13T16:32:39.104Z"
   },
   {
    "duration": 206,
    "start_time": "2022-06-13T16:32:39.118Z"
   },
   {
    "duration": 17,
    "start_time": "2022-06-13T16:32:39.327Z"
   },
   {
    "duration": 11,
    "start_time": "2022-06-13T16:32:39.346Z"
   },
   {
    "duration": 174,
    "start_time": "2022-06-13T16:32:39.359Z"
   },
   {
    "duration": 9,
    "start_time": "2022-06-13T16:32:39.535Z"
   },
   {
    "duration": 11,
    "start_time": "2022-06-13T16:32:39.546Z"
   },
   {
    "duration": 122,
    "start_time": "2022-06-13T16:32:39.559Z"
   },
   {
    "duration": 18,
    "start_time": "2022-06-13T16:32:39.683Z"
   },
   {
    "duration": 7,
    "start_time": "2022-06-13T16:32:39.703Z"
   },
   {
    "duration": 13,
    "start_time": "2022-06-13T16:32:39.712Z"
   },
   {
    "duration": 8,
    "start_time": "2022-06-13T16:32:39.728Z"
   },
   {
    "duration": 22,
    "start_time": "2022-06-13T16:32:39.738Z"
   },
   {
    "duration": 40,
    "start_time": "2022-06-13T16:32:39.762Z"
   },
   {
    "duration": 6,
    "start_time": "2022-06-13T16:32:39.805Z"
   },
   {
    "duration": 8,
    "start_time": "2022-06-13T16:32:39.813Z"
   },
   {
    "duration": 14,
    "start_time": "2022-06-13T16:32:39.823Z"
   },
   {
    "duration": 17,
    "start_time": "2022-06-13T16:32:39.839Z"
   },
   {
    "duration": 37,
    "start_time": "2022-06-13T16:32:39.859Z"
   },
   {
    "duration": 4,
    "start_time": "2022-06-13T16:32:39.898Z"
   },
   {
    "duration": 12,
    "start_time": "2022-06-13T16:32:39.904Z"
   },
   {
    "duration": 19,
    "start_time": "2022-06-13T16:32:39.918Z"
   },
   {
    "duration": 4,
    "start_time": "2022-06-13T16:32:39.939Z"
   },
   {
    "duration": 9,
    "start_time": "2022-06-13T16:32:39.945Z"
   },
   {
    "duration": 11,
    "start_time": "2022-06-13T16:32:39.956Z"
   },
   {
    "duration": 28,
    "start_time": "2022-06-13T16:32:39.969Z"
   },
   {
    "duration": 9,
    "start_time": "2022-06-13T16:32:40.000Z"
   },
   {
    "duration": 11,
    "start_time": "2022-06-13T16:32:40.011Z"
   },
   {
    "duration": 23,
    "start_time": "2022-06-13T16:32:40.024Z"
   },
   {
    "duration": 16,
    "start_time": "2022-06-13T16:32:40.049Z"
   },
   {
    "duration": 11,
    "start_time": "2022-06-13T16:32:40.068Z"
   },
   {
    "duration": 19,
    "start_time": "2022-06-13T16:32:40.082Z"
   },
   {
    "duration": 39,
    "start_time": "2022-06-13T16:32:40.103Z"
   },
   {
    "duration": 1952,
    "start_time": "2022-06-13T16:32:40.145Z"
   },
   {
    "duration": 9,
    "start_time": "2022-06-13T16:32:42.099Z"
   },
   {
    "duration": 1270,
    "start_time": "2022-06-13T16:32:55.129Z"
   },
   {
    "duration": 7,
    "start_time": "2022-06-13T16:33:02.030Z"
   },
   {
    "duration": 146,
    "start_time": "2022-06-13T16:33:02.042Z"
   },
   {
    "duration": 14,
    "start_time": "2022-06-13T16:33:02.191Z"
   },
   {
    "duration": 12,
    "start_time": "2022-06-13T16:33:02.207Z"
   },
   {
    "duration": 17,
    "start_time": "2022-06-13T16:33:02.221Z"
   },
   {
    "duration": 20,
    "start_time": "2022-06-13T16:33:02.241Z"
   },
   {
    "duration": 18,
    "start_time": "2022-06-13T16:33:02.264Z"
   },
   {
    "duration": 9,
    "start_time": "2022-06-13T16:33:02.296Z"
   },
   {
    "duration": 19,
    "start_time": "2022-06-13T16:33:02.311Z"
   },
   {
    "duration": 18,
    "start_time": "2022-06-13T16:33:02.334Z"
   },
   {
    "duration": 19,
    "start_time": "2022-06-13T16:33:02.354Z"
   },
   {
    "duration": 19,
    "start_time": "2022-06-13T16:33:02.375Z"
   },
   {
    "duration": 16,
    "start_time": "2022-06-13T16:33:02.397Z"
   },
   {
    "duration": 15,
    "start_time": "2022-06-13T16:33:02.415Z"
   },
   {
    "duration": 22,
    "start_time": "2022-06-13T16:33:02.433Z"
   },
   {
    "duration": 22,
    "start_time": "2022-06-13T16:33:02.457Z"
   },
   {
    "duration": 172,
    "start_time": "2022-06-13T16:33:02.481Z"
   },
   {
    "duration": 155,
    "start_time": "2022-06-13T16:33:02.656Z"
   },
   {
    "duration": 11,
    "start_time": "2022-06-13T16:33:02.814Z"
   },
   {
    "duration": 7,
    "start_time": "2022-06-13T16:33:02.828Z"
   },
   {
    "duration": 214,
    "start_time": "2022-06-13T16:33:02.838Z"
   },
   {
    "duration": 11,
    "start_time": "2022-06-13T16:33:03.055Z"
   },
   {
    "duration": 26,
    "start_time": "2022-06-13T16:33:03.069Z"
   },
   {
    "duration": 198,
    "start_time": "2022-06-13T16:33:03.102Z"
   },
   {
    "duration": 12,
    "start_time": "2022-06-13T16:33:03.303Z"
   },
   {
    "duration": 39,
    "start_time": "2022-06-13T16:33:03.318Z"
   },
   {
    "duration": 139,
    "start_time": "2022-06-13T16:33:03.359Z"
   },
   {
    "duration": 11,
    "start_time": "2022-06-13T16:33:03.500Z"
   },
   {
    "duration": 11,
    "start_time": "2022-06-13T16:33:03.514Z"
   },
   {
    "duration": 143,
    "start_time": "2022-06-13T16:33:03.528Z"
   },
   {
    "duration": 10,
    "start_time": "2022-06-13T16:33:03.674Z"
   },
   {
    "duration": 5,
    "start_time": "2022-06-13T16:33:03.695Z"
   },
   {
    "duration": 9,
    "start_time": "2022-06-13T16:33:03.701Z"
   },
   {
    "duration": 9,
    "start_time": "2022-06-13T16:33:03.712Z"
   },
   {
    "duration": 20,
    "start_time": "2022-06-13T16:33:03.723Z"
   },
   {
    "duration": 9,
    "start_time": "2022-06-13T16:33:03.745Z"
   },
   {
    "duration": 38,
    "start_time": "2022-06-13T16:33:03.757Z"
   },
   {
    "duration": 8,
    "start_time": "2022-06-13T16:33:03.798Z"
   },
   {
    "duration": 9,
    "start_time": "2022-06-13T16:33:03.808Z"
   },
   {
    "duration": 25,
    "start_time": "2022-06-13T16:33:03.819Z"
   },
   {
    "duration": 7,
    "start_time": "2022-06-13T16:33:03.846Z"
   },
   {
    "duration": 7,
    "start_time": "2022-06-13T16:33:03.856Z"
   },
   {
    "duration": 35,
    "start_time": "2022-06-13T16:33:03.865Z"
   },
   {
    "duration": 29,
    "start_time": "2022-06-13T16:33:03.902Z"
   },
   {
    "duration": 5,
    "start_time": "2022-06-13T16:33:03.933Z"
   },
   {
    "duration": 7,
    "start_time": "2022-06-13T16:33:03.940Z"
   },
   {
    "duration": 10,
    "start_time": "2022-06-13T16:33:03.949Z"
   },
   {
    "duration": 34,
    "start_time": "2022-06-13T16:33:03.961Z"
   },
   {
    "duration": 5,
    "start_time": "2022-06-13T16:33:03.997Z"
   },
   {
    "duration": 7,
    "start_time": "2022-06-13T16:33:04.004Z"
   },
   {
    "duration": 10,
    "start_time": "2022-06-13T16:33:04.014Z"
   },
   {
    "duration": 11,
    "start_time": "2022-06-13T16:33:04.027Z"
   },
   {
    "duration": 11,
    "start_time": "2022-06-13T16:33:04.040Z"
   },
   {
    "duration": 13,
    "start_time": "2022-06-13T16:33:04.054Z"
   },
   {
    "duration": 25,
    "start_time": "2022-06-13T16:33:04.071Z"
   },
   {
    "duration": 1495,
    "start_time": "2022-06-13T16:33:04.099Z"
   },
   {
    "duration": 8,
    "start_time": "2022-06-13T16:33:05.598Z"
   },
   {
    "duration": 8,
    "start_time": "2022-06-13T16:33:13.146Z"
   },
   {
    "duration": 76,
    "start_time": "2022-06-13T16:33:13.165Z"
   },
   {
    "duration": 18,
    "start_time": "2022-06-13T16:33:13.247Z"
   },
   {
    "duration": 11,
    "start_time": "2022-06-13T16:33:13.268Z"
   },
   {
    "duration": 8,
    "start_time": "2022-06-13T16:33:13.283Z"
   },
   {
    "duration": 9,
    "start_time": "2022-06-13T16:33:13.295Z"
   },
   {
    "duration": 22,
    "start_time": "2022-06-13T16:33:13.306Z"
   },
   {
    "duration": 17,
    "start_time": "2022-06-13T16:33:13.330Z"
   },
   {
    "duration": 13,
    "start_time": "2022-06-13T16:33:13.352Z"
   },
   {
    "duration": 7,
    "start_time": "2022-06-13T16:33:13.367Z"
   },
   {
    "duration": 7,
    "start_time": "2022-06-13T16:33:13.393Z"
   },
   {
    "duration": 8,
    "start_time": "2022-06-13T16:33:13.402Z"
   },
   {
    "duration": 15,
    "start_time": "2022-06-13T16:33:13.412Z"
   },
   {
    "duration": 14,
    "start_time": "2022-06-13T16:33:13.430Z"
   },
   {
    "duration": 8,
    "start_time": "2022-06-13T16:33:13.447Z"
   },
   {
    "duration": 38,
    "start_time": "2022-06-13T16:33:13.458Z"
   },
   {
    "duration": 158,
    "start_time": "2022-06-13T16:33:13.499Z"
   },
   {
    "duration": 109,
    "start_time": "2022-06-13T16:33:13.659Z"
   },
   {
    "duration": 27,
    "start_time": "2022-06-13T16:33:13.770Z"
   },
   {
    "duration": 5,
    "start_time": "2022-06-13T16:33:13.799Z"
   },
   {
    "duration": 182,
    "start_time": "2022-06-13T16:33:13.806Z"
   },
   {
    "duration": 11,
    "start_time": "2022-06-13T16:33:13.995Z"
   },
   {
    "duration": 7,
    "start_time": "2022-06-13T16:33:14.008Z"
   },
   {
    "duration": 199,
    "start_time": "2022-06-13T16:33:14.017Z"
   },
   {
    "duration": 18,
    "start_time": "2022-06-13T16:33:14.220Z"
   },
   {
    "duration": 9,
    "start_time": "2022-06-13T16:33:14.240Z"
   },
   {
    "duration": 122,
    "start_time": "2022-06-13T16:33:14.255Z"
   },
   {
    "duration": 22,
    "start_time": "2022-06-13T16:33:14.380Z"
   },
   {
    "duration": 10,
    "start_time": "2022-06-13T16:33:14.405Z"
   },
   {
    "duration": 119,
    "start_time": "2022-06-13T16:33:14.417Z"
   },
   {
    "duration": 14,
    "start_time": "2022-06-13T16:33:14.539Z"
   },
   {
    "duration": 5,
    "start_time": "2022-06-13T16:33:14.555Z"
   },
   {
    "duration": 9,
    "start_time": "2022-06-13T16:33:14.562Z"
   },
   {
    "duration": 8,
    "start_time": "2022-06-13T16:33:14.593Z"
   },
   {
    "duration": 23,
    "start_time": "2022-06-13T16:33:14.603Z"
   },
   {
    "duration": 7,
    "start_time": "2022-06-13T16:33:14.628Z"
   },
   {
    "duration": 8,
    "start_time": "2022-06-13T16:33:14.637Z"
   },
   {
    "duration": 18,
    "start_time": "2022-06-13T16:33:14.647Z"
   },
   {
    "duration": 14,
    "start_time": "2022-06-13T16:33:14.667Z"
   },
   {
    "duration": 32,
    "start_time": "2022-06-13T16:33:14.683Z"
   },
   {
    "duration": 10,
    "start_time": "2022-06-13T16:33:14.717Z"
   },
   {
    "duration": 6,
    "start_time": "2022-06-13T16:33:14.729Z"
   },
   {
    "duration": 10,
    "start_time": "2022-06-13T16:33:14.737Z"
   },
   {
    "duration": 26,
    "start_time": "2022-06-13T16:33:14.750Z"
   },
   {
    "duration": 18,
    "start_time": "2022-06-13T16:33:14.778Z"
   },
   {
    "duration": 5,
    "start_time": "2022-06-13T16:33:14.798Z"
   },
   {
    "duration": 6,
    "start_time": "2022-06-13T16:33:14.805Z"
   },
   {
    "duration": 9,
    "start_time": "2022-06-13T16:33:14.814Z"
   },
   {
    "duration": 8,
    "start_time": "2022-06-13T16:33:14.824Z"
   },
   {
    "duration": 7,
    "start_time": "2022-06-13T16:33:14.833Z"
   },
   {
    "duration": 10,
    "start_time": "2022-06-13T16:33:14.842Z"
   },
   {
    "duration": 42,
    "start_time": "2022-06-13T16:33:14.854Z"
   },
   {
    "duration": 4,
    "start_time": "2022-06-13T16:33:14.899Z"
   },
   {
    "duration": 8,
    "start_time": "2022-06-13T16:33:14.906Z"
   },
   {
    "duration": 9,
    "start_time": "2022-06-13T16:33:14.916Z"
   },
   {
    "duration": 8,
    "start_time": "2022-06-13T16:34:19.458Z"
   },
   {
    "duration": 67,
    "start_time": "2022-06-13T16:34:19.469Z"
   },
   {
    "duration": 15,
    "start_time": "2022-06-13T16:34:19.539Z"
   },
   {
    "duration": 6,
    "start_time": "2022-06-13T16:34:19.557Z"
   },
   {
    "duration": 28,
    "start_time": "2022-06-13T16:34:19.567Z"
   },
   {
    "duration": 7,
    "start_time": "2022-06-13T16:34:19.597Z"
   },
   {
    "duration": 9,
    "start_time": "2022-06-13T16:34:19.607Z"
   },
   {
    "duration": 9,
    "start_time": "2022-06-13T16:34:19.618Z"
   },
   {
    "duration": 13,
    "start_time": "2022-06-13T16:34:19.629Z"
   },
   {
    "duration": 50,
    "start_time": "2022-06-13T16:34:19.645Z"
   },
   {
    "duration": 9,
    "start_time": "2022-06-13T16:34:19.697Z"
   },
   {
    "duration": 10,
    "start_time": "2022-06-13T16:34:19.709Z"
   },
   {
    "duration": 7,
    "start_time": "2022-06-13T16:34:19.722Z"
   },
   {
    "duration": 7,
    "start_time": "2022-06-13T16:34:19.731Z"
   },
   {
    "duration": 8,
    "start_time": "2022-06-13T16:34:19.740Z"
   },
   {
    "duration": 7,
    "start_time": "2022-06-13T16:34:19.750Z"
   },
   {
    "duration": 147,
    "start_time": "2022-06-13T16:34:19.759Z"
   },
   {
    "duration": 153,
    "start_time": "2022-06-13T16:34:19.909Z"
   },
   {
    "duration": 14,
    "start_time": "2022-06-13T16:34:20.064Z"
   },
   {
    "duration": 20,
    "start_time": "2022-06-13T16:34:20.081Z"
   },
   {
    "duration": 145,
    "start_time": "2022-06-13T16:34:20.103Z"
   },
   {
    "duration": 11,
    "start_time": "2022-06-13T16:34:20.251Z"
   },
   {
    "duration": 9,
    "start_time": "2022-06-13T16:34:20.264Z"
   },
   {
    "duration": 147,
    "start_time": "2022-06-13T16:34:20.275Z"
   },
   {
    "duration": 9,
    "start_time": "2022-06-13T16:34:20.424Z"
   },
   {
    "duration": 7,
    "start_time": "2022-06-13T16:34:20.435Z"
   },
   {
    "duration": 165,
    "start_time": "2022-06-13T16:34:20.444Z"
   },
   {
    "duration": 13,
    "start_time": "2022-06-13T16:34:20.611Z"
   },
   {
    "duration": 12,
    "start_time": "2022-06-13T16:34:20.627Z"
   },
   {
    "duration": 143,
    "start_time": "2022-06-13T16:34:20.641Z"
   },
   {
    "duration": 22,
    "start_time": "2022-06-13T16:34:20.786Z"
   },
   {
    "duration": 12,
    "start_time": "2022-06-13T16:34:20.810Z"
   },
   {
    "duration": 15,
    "start_time": "2022-06-13T16:34:20.825Z"
   },
   {
    "duration": 14,
    "start_time": "2022-06-13T16:34:20.844Z"
   },
   {
    "duration": 35,
    "start_time": "2022-06-13T16:34:20.861Z"
   },
   {
    "duration": 6,
    "start_time": "2022-06-13T16:34:20.898Z"
   },
   {
    "duration": 7,
    "start_time": "2022-06-13T16:34:20.910Z"
   },
   {
    "duration": 7,
    "start_time": "2022-06-13T16:34:20.919Z"
   },
   {
    "duration": 10,
    "start_time": "2022-06-13T16:34:20.927Z"
   },
   {
    "duration": 22,
    "start_time": "2022-06-13T16:34:20.939Z"
   },
   {
    "duration": 33,
    "start_time": "2022-06-13T16:34:20.963Z"
   },
   {
    "duration": 11,
    "start_time": "2022-06-13T16:34:20.998Z"
   },
   {
    "duration": 13,
    "start_time": "2022-06-13T16:34:21.010Z"
   },
   {
    "duration": 27,
    "start_time": "2022-06-13T16:34:21.026Z"
   },
   {
    "duration": 4,
    "start_time": "2022-06-13T16:34:21.056Z"
   },
   {
    "duration": 11,
    "start_time": "2022-06-13T16:34:21.062Z"
   },
   {
    "duration": 12,
    "start_time": "2022-06-13T16:34:21.075Z"
   },
   {
    "duration": 11,
    "start_time": "2022-06-13T16:34:21.093Z"
   },
   {
    "duration": 5,
    "start_time": "2022-06-13T16:34:21.116Z"
   },
   {
    "duration": 6,
    "start_time": "2022-06-13T16:34:21.124Z"
   },
   {
    "duration": 11,
    "start_time": "2022-06-13T16:34:21.133Z"
   },
   {
    "duration": 18,
    "start_time": "2022-06-13T16:34:21.146Z"
   },
   {
    "duration": 3,
    "start_time": "2022-06-13T16:34:21.167Z"
   },
   {
    "duration": 12,
    "start_time": "2022-06-13T16:34:21.173Z"
   },
   {
    "duration": 11,
    "start_time": "2022-06-13T16:34:21.187Z"
   },
   {
    "duration": 17199,
    "start_time": "2022-06-13T16:34:21.200Z"
   },
   {
    "duration": 8,
    "start_time": "2022-06-13T16:34:38.401Z"
   },
   {
    "duration": 9,
    "start_time": "2022-06-13T16:35:00.701Z"
   },
   {
    "duration": 99,
    "start_time": "2022-06-13T16:35:00.718Z"
   },
   {
    "duration": 17,
    "start_time": "2022-06-13T16:35:00.822Z"
   },
   {
    "duration": 36,
    "start_time": "2022-06-13T16:35:00.844Z"
   },
   {
    "duration": 38,
    "start_time": "2022-06-13T16:35:00.884Z"
   },
   {
    "duration": 49,
    "start_time": "2022-06-13T16:35:00.925Z"
   },
   {
    "duration": 21,
    "start_time": "2022-06-13T16:35:00.976Z"
   },
   {
    "duration": 44,
    "start_time": "2022-06-13T16:35:00.999Z"
   },
   {
    "duration": 22,
    "start_time": "2022-06-13T16:35:01.046Z"
   },
   {
    "duration": 23,
    "start_time": "2022-06-13T16:35:01.070Z"
   },
   {
    "duration": 23,
    "start_time": "2022-06-13T16:35:01.096Z"
   },
   {
    "duration": 56,
    "start_time": "2022-06-13T16:35:01.122Z"
   },
   {
    "duration": 28,
    "start_time": "2022-06-13T16:35:01.181Z"
   },
   {
    "duration": 26,
    "start_time": "2022-06-13T16:35:01.212Z"
   },
   {
    "duration": 65,
    "start_time": "2022-06-13T16:35:01.241Z"
   },
   {
    "duration": 34,
    "start_time": "2022-06-13T16:35:01.309Z"
   },
   {
    "duration": 166,
    "start_time": "2022-06-13T16:35:01.346Z"
   },
   {
    "duration": 154,
    "start_time": "2022-06-13T16:35:01.514Z"
   },
   {
    "duration": 24,
    "start_time": "2022-06-13T16:35:01.670Z"
   },
   {
    "duration": 20,
    "start_time": "2022-06-13T16:35:01.696Z"
   },
   {
    "duration": 180,
    "start_time": "2022-06-13T16:35:01.717Z"
   },
   {
    "duration": 12,
    "start_time": "2022-06-13T16:35:01.900Z"
   },
   {
    "duration": 25,
    "start_time": "2022-06-13T16:35:01.915Z"
   },
   {
    "duration": 242,
    "start_time": "2022-06-13T16:35:01.944Z"
   },
   {
    "duration": 34,
    "start_time": "2022-06-13T16:35:02.189Z"
   },
   {
    "duration": 35,
    "start_time": "2022-06-13T16:35:02.230Z"
   },
   {
    "duration": 157,
    "start_time": "2022-06-13T16:35:02.267Z"
   },
   {
    "duration": 15,
    "start_time": "2022-06-13T16:35:02.427Z"
   },
   {
    "duration": 15,
    "start_time": "2022-06-13T16:35:02.451Z"
   },
   {
    "duration": 166,
    "start_time": "2022-06-13T16:35:02.469Z"
   },
   {
    "duration": 12,
    "start_time": "2022-06-13T16:35:02.637Z"
   },
   {
    "duration": 12,
    "start_time": "2022-06-13T16:35:02.651Z"
   },
   {
    "duration": 32,
    "start_time": "2022-06-13T16:35:02.665Z"
   },
   {
    "duration": 8,
    "start_time": "2022-06-13T16:35:02.700Z"
   },
   {
    "duration": 29,
    "start_time": "2022-06-13T16:35:02.710Z"
   },
   {
    "duration": 25,
    "start_time": "2022-06-13T16:35:02.741Z"
   },
   {
    "duration": 13,
    "start_time": "2022-06-13T16:35:02.771Z"
   },
   {
    "duration": 22,
    "start_time": "2022-06-13T16:35:02.786Z"
   },
   {
    "duration": 9,
    "start_time": "2022-06-13T16:35:02.810Z"
   },
   {
    "duration": 20,
    "start_time": "2022-06-13T16:35:02.821Z"
   },
   {
    "duration": 14,
    "start_time": "2022-06-13T16:35:02.843Z"
   },
   {
    "duration": 8,
    "start_time": "2022-06-13T16:35:02.859Z"
   },
   {
    "duration": 9,
    "start_time": "2022-06-13T16:35:02.869Z"
   },
   {
    "duration": 37,
    "start_time": "2022-06-13T16:35:02.882Z"
   },
   {
    "duration": 6,
    "start_time": "2022-06-13T16:35:02.922Z"
   },
   {
    "duration": 9,
    "start_time": "2022-06-13T16:35:02.930Z"
   },
   {
    "duration": 7,
    "start_time": "2022-06-13T16:35:02.941Z"
   },
   {
    "duration": 11,
    "start_time": "2022-06-13T16:35:02.950Z"
   },
   {
    "duration": 18,
    "start_time": "2022-06-13T16:35:02.965Z"
   },
   {
    "duration": 9,
    "start_time": "2022-06-13T16:35:02.995Z"
   },
   {
    "duration": 8,
    "start_time": "2022-06-13T16:35:03.006Z"
   },
   {
    "duration": 13,
    "start_time": "2022-06-13T16:35:03.016Z"
   },
   {
    "duration": 7,
    "start_time": "2022-06-13T16:35:03.031Z"
   },
   {
    "duration": 8,
    "start_time": "2022-06-13T16:35:03.040Z"
   },
   {
    "duration": 15,
    "start_time": "2022-06-13T16:35:03.050Z"
   },
   {
    "duration": 9236,
    "start_time": "2022-06-13T16:35:03.068Z"
   },
   {
    "duration": 18,
    "start_time": "2022-06-13T16:35:12.307Z"
   },
   {
    "duration": 9,
    "start_time": "2022-06-13T16:35:25.260Z"
   },
   {
    "duration": 85,
    "start_time": "2022-06-13T16:35:25.272Z"
   },
   {
    "duration": 18,
    "start_time": "2022-06-13T16:35:25.360Z"
   },
   {
    "duration": 16,
    "start_time": "2022-06-13T16:35:25.381Z"
   },
   {
    "duration": 13,
    "start_time": "2022-06-13T16:35:25.399Z"
   },
   {
    "duration": 20,
    "start_time": "2022-06-13T16:35:25.414Z"
   },
   {
    "duration": 13,
    "start_time": "2022-06-13T16:35:25.437Z"
   },
   {
    "duration": 16,
    "start_time": "2022-06-13T16:35:25.453Z"
   },
   {
    "duration": 28,
    "start_time": "2022-06-13T16:35:25.495Z"
   },
   {
    "duration": 9,
    "start_time": "2022-06-13T16:35:25.525Z"
   },
   {
    "duration": 15,
    "start_time": "2022-06-13T16:35:25.538Z"
   },
   {
    "duration": 20,
    "start_time": "2022-06-13T16:35:25.555Z"
   },
   {
    "duration": 11,
    "start_time": "2022-06-13T16:35:25.577Z"
   },
   {
    "duration": 12,
    "start_time": "2022-06-13T16:35:25.591Z"
   },
   {
    "duration": 15,
    "start_time": "2022-06-13T16:35:25.608Z"
   },
   {
    "duration": 6,
    "start_time": "2022-06-13T16:35:25.626Z"
   },
   {
    "duration": 195,
    "start_time": "2022-06-13T16:35:25.635Z"
   },
   {
    "duration": 135,
    "start_time": "2022-06-13T16:35:25.835Z"
   },
   {
    "duration": 24,
    "start_time": "2022-06-13T16:35:25.973Z"
   },
   {
    "duration": 7,
    "start_time": "2022-06-13T16:35:25.999Z"
   },
   {
    "duration": 189,
    "start_time": "2022-06-13T16:35:26.008Z"
   },
   {
    "duration": 12,
    "start_time": "2022-06-13T16:35:26.199Z"
   },
   {
    "duration": 14,
    "start_time": "2022-06-13T16:35:26.213Z"
   },
   {
    "duration": 252,
    "start_time": "2022-06-13T16:35:26.234Z"
   },
   {
    "duration": 12,
    "start_time": "2022-06-13T16:35:26.493Z"
   },
   {
    "duration": 11,
    "start_time": "2022-06-13T16:35:26.508Z"
   },
   {
    "duration": 174,
    "start_time": "2022-06-13T16:35:26.521Z"
   },
   {
    "duration": 11,
    "start_time": "2022-06-13T16:35:26.697Z"
   },
   {
    "duration": 18,
    "start_time": "2022-06-13T16:35:26.710Z"
   },
   {
    "duration": 191,
    "start_time": "2022-06-13T16:35:26.731Z"
   },
   {
    "duration": 15,
    "start_time": "2022-06-13T16:35:26.925Z"
   },
   {
    "duration": 18,
    "start_time": "2022-06-13T16:35:26.942Z"
   },
   {
    "duration": 13,
    "start_time": "2022-06-13T16:35:26.962Z"
   },
   {
    "duration": 17,
    "start_time": "2022-06-13T16:35:26.978Z"
   },
   {
    "duration": 28,
    "start_time": "2022-06-13T16:35:26.999Z"
   },
   {
    "duration": 6,
    "start_time": "2022-06-13T16:35:27.032Z"
   },
   {
    "duration": 19,
    "start_time": "2022-06-13T16:35:27.039Z"
   },
   {
    "duration": 17,
    "start_time": "2022-06-13T16:35:27.060Z"
   },
   {
    "duration": 15,
    "start_time": "2022-06-13T16:35:27.082Z"
   },
   {
    "duration": 23,
    "start_time": "2022-06-13T16:35:27.099Z"
   },
   {
    "duration": 17,
    "start_time": "2022-06-13T16:35:27.126Z"
   },
   {
    "duration": 25,
    "start_time": "2022-06-13T16:35:27.145Z"
   },
   {
    "duration": 9,
    "start_time": "2022-06-13T16:35:27.173Z"
   },
   {
    "duration": 22,
    "start_time": "2022-06-13T16:35:27.185Z"
   },
   {
    "duration": 28,
    "start_time": "2022-06-13T16:35:27.209Z"
   },
   {
    "duration": 19,
    "start_time": "2022-06-13T16:35:27.239Z"
   },
   {
    "duration": 23,
    "start_time": "2022-06-13T16:35:27.260Z"
   },
   {
    "duration": 10,
    "start_time": "2022-06-13T16:35:27.286Z"
   },
   {
    "duration": 14,
    "start_time": "2022-06-13T16:35:27.298Z"
   },
   {
    "duration": 5,
    "start_time": "2022-06-13T16:35:27.314Z"
   },
   {
    "duration": 9,
    "start_time": "2022-06-13T16:35:27.321Z"
   },
   {
    "duration": 9,
    "start_time": "2022-06-13T16:35:27.332Z"
   },
   {
    "duration": 5,
    "start_time": "2022-06-13T16:35:27.344Z"
   },
   {
    "duration": 11,
    "start_time": "2022-06-13T16:35:27.351Z"
   },
   {
    "duration": 34,
    "start_time": "2022-06-13T16:35:27.364Z"
   },
   {
    "duration": 3014,
    "start_time": "2022-06-13T16:35:27.401Z"
   },
   {
    "duration": 84,
    "start_time": "2022-06-13T16:35:30.418Z"
   },
   {
    "duration": 10,
    "start_time": "2022-06-13T16:35:40.463Z"
   },
   {
    "duration": 65,
    "start_time": "2022-06-13T16:35:40.477Z"
   },
   {
    "duration": 14,
    "start_time": "2022-06-13T16:35:40.545Z"
   },
   {
    "duration": 15,
    "start_time": "2022-06-13T16:35:40.561Z"
   },
   {
    "duration": 21,
    "start_time": "2022-06-13T16:35:40.579Z"
   },
   {
    "duration": 8,
    "start_time": "2022-06-13T16:35:40.602Z"
   },
   {
    "duration": 17,
    "start_time": "2022-06-13T16:35:40.613Z"
   },
   {
    "duration": 20,
    "start_time": "2022-06-13T16:35:40.633Z"
   },
   {
    "duration": 40,
    "start_time": "2022-06-13T16:35:40.656Z"
   },
   {
    "duration": 24,
    "start_time": "2022-06-13T16:35:40.699Z"
   },
   {
    "duration": 15,
    "start_time": "2022-06-13T16:35:40.726Z"
   },
   {
    "duration": 19,
    "start_time": "2022-06-13T16:35:40.744Z"
   },
   {
    "duration": 18,
    "start_time": "2022-06-13T16:35:40.770Z"
   },
   {
    "duration": 23,
    "start_time": "2022-06-13T16:35:40.790Z"
   },
   {
    "duration": 18,
    "start_time": "2022-06-13T16:35:40.816Z"
   },
   {
    "duration": 12,
    "start_time": "2022-06-13T16:35:40.837Z"
   },
   {
    "duration": 143,
    "start_time": "2022-06-13T16:35:40.851Z"
   },
   {
    "duration": 142,
    "start_time": "2022-06-13T16:35:40.997Z"
   },
   {
    "duration": 10,
    "start_time": "2022-06-13T16:35:41.141Z"
   },
   {
    "duration": 19,
    "start_time": "2022-06-13T16:35:41.156Z"
   },
   {
    "duration": 178,
    "start_time": "2022-06-13T16:35:41.178Z"
   },
   {
    "duration": 10,
    "start_time": "2022-06-13T16:35:41.358Z"
   },
   {
    "duration": 7,
    "start_time": "2022-06-13T16:35:41.370Z"
   },
   {
    "duration": 193,
    "start_time": "2022-06-13T16:35:41.379Z"
   },
   {
    "duration": 13,
    "start_time": "2022-06-13T16:35:41.574Z"
   },
   {
    "duration": 4,
    "start_time": "2022-06-13T16:35:41.595Z"
   },
   {
    "duration": 140,
    "start_time": "2022-06-13T16:35:41.601Z"
   },
   {
    "duration": 9,
    "start_time": "2022-06-13T16:35:41.744Z"
   },
   {
    "duration": 12,
    "start_time": "2022-06-13T16:35:41.756Z"
   },
   {
    "duration": 148,
    "start_time": "2022-06-13T16:35:41.770Z"
   },
   {
    "duration": 10,
    "start_time": "2022-06-13T16:35:41.920Z"
   },
   {
    "duration": 21,
    "start_time": "2022-06-13T16:35:41.933Z"
   },
   {
    "duration": 20,
    "start_time": "2022-06-13T16:35:41.956Z"
   },
   {
    "duration": 14,
    "start_time": "2022-06-13T16:35:41.982Z"
   },
   {
    "duration": 21,
    "start_time": "2022-06-13T16:35:41.999Z"
   },
   {
    "duration": 58,
    "start_time": "2022-06-13T16:35:42.022Z"
   },
   {
    "duration": 19,
    "start_time": "2022-06-13T16:35:42.086Z"
   },
   {
    "duration": 30,
    "start_time": "2022-06-13T16:35:42.107Z"
   },
   {
    "duration": 29,
    "start_time": "2022-06-13T16:35:42.140Z"
   },
   {
    "duration": 23,
    "start_time": "2022-06-13T16:35:42.172Z"
   },
   {
    "duration": 12,
    "start_time": "2022-06-13T16:35:42.199Z"
   },
   {
    "duration": 10,
    "start_time": "2022-06-13T16:35:42.214Z"
   },
   {
    "duration": 16,
    "start_time": "2022-06-13T16:35:42.226Z"
   },
   {
    "duration": 23,
    "start_time": "2022-06-13T16:35:42.245Z"
   },
   {
    "duration": 5,
    "start_time": "2022-06-13T16:35:42.271Z"
   },
   {
    "duration": 31,
    "start_time": "2022-06-13T16:35:42.279Z"
   },
   {
    "duration": 15,
    "start_time": "2022-06-13T16:35:42.313Z"
   },
   {
    "duration": 13,
    "start_time": "2022-06-13T16:35:42.330Z"
   },
   {
    "duration": 22,
    "start_time": "2022-06-13T16:35:42.345Z"
   },
   {
    "duration": 32,
    "start_time": "2022-06-13T16:35:42.369Z"
   },
   {
    "duration": 42,
    "start_time": "2022-06-13T16:35:42.404Z"
   },
   {
    "duration": 19,
    "start_time": "2022-06-13T16:35:42.452Z"
   },
   {
    "duration": 35,
    "start_time": "2022-06-13T16:35:42.474Z"
   },
   {
    "duration": 11,
    "start_time": "2022-06-13T16:35:42.512Z"
   },
   {
    "duration": 65,
    "start_time": "2022-06-13T16:35:42.528Z"
   },
   {
    "duration": 8,
    "start_time": "2022-06-13T16:35:56.331Z"
   },
   {
    "duration": 77,
    "start_time": "2022-06-13T16:35:56.341Z"
   },
   {
    "duration": 14,
    "start_time": "2022-06-13T16:35:56.421Z"
   },
   {
    "duration": 12,
    "start_time": "2022-06-13T16:35:56.438Z"
   },
   {
    "duration": 11,
    "start_time": "2022-06-13T16:35:56.453Z"
   },
   {
    "duration": 31,
    "start_time": "2022-06-13T16:35:56.467Z"
   },
   {
    "duration": 15,
    "start_time": "2022-06-13T16:35:56.500Z"
   },
   {
    "duration": 8,
    "start_time": "2022-06-13T16:35:56.517Z"
   },
   {
    "duration": 24,
    "start_time": "2022-06-13T16:35:56.527Z"
   },
   {
    "duration": 13,
    "start_time": "2022-06-13T16:35:56.554Z"
   },
   {
    "duration": 8,
    "start_time": "2022-06-13T16:35:56.595Z"
   },
   {
    "duration": 9,
    "start_time": "2022-06-13T16:35:56.605Z"
   },
   {
    "duration": 8,
    "start_time": "2022-06-13T16:35:56.616Z"
   },
   {
    "duration": 8,
    "start_time": "2022-06-13T16:35:56.627Z"
   },
   {
    "duration": 16,
    "start_time": "2022-06-13T16:35:56.637Z"
   },
   {
    "duration": 17,
    "start_time": "2022-06-13T16:35:56.655Z"
   },
   {
    "duration": 202,
    "start_time": "2022-06-13T16:35:56.674Z"
   },
   {
    "duration": 177,
    "start_time": "2022-06-13T16:35:56.878Z"
   },
   {
    "duration": 20,
    "start_time": "2022-06-13T16:35:57.062Z"
   },
   {
    "duration": 22,
    "start_time": "2022-06-13T16:35:57.084Z"
   },
   {
    "duration": 571,
    "start_time": "2022-06-13T16:35:57.108Z"
   },
   {
    "duration": 20,
    "start_time": "2022-06-13T16:35:57.681Z"
   },
   {
    "duration": 9,
    "start_time": "2022-06-13T16:35:57.704Z"
   },
   {
    "duration": 191,
    "start_time": "2022-06-13T16:35:57.715Z"
   },
   {
    "duration": 17,
    "start_time": "2022-06-13T16:35:57.909Z"
   },
   {
    "duration": 17,
    "start_time": "2022-06-13T16:35:57.929Z"
   },
   {
    "duration": 165,
    "start_time": "2022-06-13T16:35:57.948Z"
   },
   {
    "duration": 10,
    "start_time": "2022-06-13T16:35:58.116Z"
   },
   {
    "duration": 14,
    "start_time": "2022-06-13T16:35:58.130Z"
   },
   {
    "duration": 176,
    "start_time": "2022-06-13T16:35:58.148Z"
   },
   {
    "duration": 14,
    "start_time": "2022-06-13T16:35:58.326Z"
   },
   {
    "duration": 16,
    "start_time": "2022-06-13T16:35:58.345Z"
   },
   {
    "duration": 17,
    "start_time": "2022-06-13T16:35:58.364Z"
   },
   {
    "duration": 41,
    "start_time": "2022-06-13T16:35:58.383Z"
   },
   {
    "duration": 22,
    "start_time": "2022-06-13T16:35:58.427Z"
   },
   {
    "duration": 14,
    "start_time": "2022-06-13T16:35:58.452Z"
   },
   {
    "duration": 14,
    "start_time": "2022-06-13T16:35:58.471Z"
   },
   {
    "duration": 9,
    "start_time": "2022-06-13T16:35:58.489Z"
   },
   {
    "duration": 19,
    "start_time": "2022-06-13T16:35:58.501Z"
   },
   {
    "duration": 26,
    "start_time": "2022-06-13T16:35:58.523Z"
   },
   {
    "duration": 13,
    "start_time": "2022-06-13T16:35:58.553Z"
   },
   {
    "duration": 16,
    "start_time": "2022-06-13T16:35:58.567Z"
   },
   {
    "duration": 10,
    "start_time": "2022-06-13T16:35:58.585Z"
   },
   {
    "duration": 34,
    "start_time": "2022-06-13T16:35:58.598Z"
   },
   {
    "duration": 6,
    "start_time": "2022-06-13T16:35:58.636Z"
   },
   {
    "duration": 16,
    "start_time": "2022-06-13T16:35:58.644Z"
   },
   {
    "duration": 11,
    "start_time": "2022-06-13T16:35:58.662Z"
   },
   {
    "duration": 29,
    "start_time": "2022-06-13T16:35:58.681Z"
   },
   {
    "duration": 12,
    "start_time": "2022-06-13T16:35:58.714Z"
   },
   {
    "duration": 14,
    "start_time": "2022-06-13T16:35:58.728Z"
   },
   {
    "duration": 7,
    "start_time": "2022-06-13T16:35:58.745Z"
   },
   {
    "duration": 17,
    "start_time": "2022-06-13T16:35:58.754Z"
   },
   {
    "duration": 7,
    "start_time": "2022-06-13T16:35:58.774Z"
   },
   {
    "duration": 9,
    "start_time": "2022-06-13T16:35:58.783Z"
   },
   {
    "duration": 18,
    "start_time": "2022-06-13T16:35:58.794Z"
   },
   {
    "duration": 14694,
    "start_time": "2022-06-13T16:35:58.814Z"
   },
   {
    "duration": 18,
    "start_time": "2022-06-13T16:36:13.510Z"
   },
   {
    "duration": 8706,
    "start_time": "2022-06-13T16:36:22.613Z"
   },
   {
    "duration": 7,
    "start_time": "2022-06-13T16:36:41.840Z"
   },
   {
    "duration": 64,
    "start_time": "2022-06-13T16:36:41.852Z"
   },
   {
    "duration": 14,
    "start_time": "2022-06-13T16:36:41.918Z"
   },
   {
    "duration": 15,
    "start_time": "2022-06-13T16:36:41.934Z"
   },
   {
    "duration": 21,
    "start_time": "2022-06-13T16:36:41.951Z"
   },
   {
    "duration": 27,
    "start_time": "2022-06-13T16:36:41.976Z"
   },
   {
    "duration": 26,
    "start_time": "2022-06-13T16:36:42.006Z"
   },
   {
    "duration": 30,
    "start_time": "2022-06-13T16:36:42.034Z"
   },
   {
    "duration": 38,
    "start_time": "2022-06-13T16:36:42.066Z"
   },
   {
    "duration": 40,
    "start_time": "2022-06-13T16:36:42.107Z"
   },
   {
    "duration": 24,
    "start_time": "2022-06-13T16:36:42.150Z"
   },
   {
    "duration": 15,
    "start_time": "2022-06-13T16:36:42.176Z"
   },
   {
    "duration": 38,
    "start_time": "2022-06-13T16:36:42.193Z"
   },
   {
    "duration": 42,
    "start_time": "2022-06-13T16:36:42.233Z"
   },
   {
    "duration": 18,
    "start_time": "2022-06-13T16:36:42.282Z"
   },
   {
    "duration": 35,
    "start_time": "2022-06-13T16:36:42.303Z"
   },
   {
    "duration": 207,
    "start_time": "2022-06-13T16:36:42.341Z"
   },
   {
    "duration": 165,
    "start_time": "2022-06-13T16:36:42.551Z"
   },
   {
    "duration": 11,
    "start_time": "2022-06-13T16:36:42.718Z"
   },
   {
    "duration": 32,
    "start_time": "2022-06-13T16:36:42.730Z"
   },
   {
    "duration": 167,
    "start_time": "2022-06-13T16:36:42.764Z"
   },
   {
    "duration": 12,
    "start_time": "2022-06-13T16:36:42.934Z"
   },
   {
    "duration": 33,
    "start_time": "2022-06-13T16:36:42.949Z"
   },
   {
    "duration": 187,
    "start_time": "2022-06-13T16:36:42.985Z"
   },
   {
    "duration": 11,
    "start_time": "2022-06-13T16:36:43.174Z"
   },
   {
    "duration": 53,
    "start_time": "2022-06-13T16:36:43.188Z"
   },
   {
    "duration": 155,
    "start_time": "2022-06-13T16:36:43.244Z"
   },
   {
    "duration": 12,
    "start_time": "2022-06-13T16:36:43.401Z"
   },
   {
    "duration": 14,
    "start_time": "2022-06-13T16:36:43.415Z"
   },
   {
    "duration": 163,
    "start_time": "2022-06-13T16:36:43.431Z"
   },
   {
    "duration": 11,
    "start_time": "2022-06-13T16:36:43.596Z"
   },
   {
    "duration": 21,
    "start_time": "2022-06-13T16:36:43.609Z"
   },
   {
    "duration": 15,
    "start_time": "2022-06-13T16:36:43.633Z"
   },
   {
    "duration": 25,
    "start_time": "2022-06-13T16:36:43.650Z"
   },
   {
    "duration": 45,
    "start_time": "2022-06-13T16:36:43.677Z"
   },
   {
    "duration": 28,
    "start_time": "2022-06-13T16:36:43.724Z"
   },
   {
    "duration": 21,
    "start_time": "2022-06-13T16:36:43.757Z"
   },
   {
    "duration": 22,
    "start_time": "2022-06-13T16:36:43.781Z"
   },
   {
    "duration": 26,
    "start_time": "2022-06-13T16:36:43.806Z"
   },
   {
    "duration": 43,
    "start_time": "2022-06-13T16:36:43.835Z"
   },
   {
    "duration": 17,
    "start_time": "2022-06-13T16:36:43.880Z"
   },
   {
    "duration": 16,
    "start_time": "2022-06-13T16:36:43.905Z"
   },
   {
    "duration": 21,
    "start_time": "2022-06-13T16:36:43.924Z"
   },
   {
    "duration": 40,
    "start_time": "2022-06-13T16:36:43.947Z"
   },
   {
    "duration": 8,
    "start_time": "2022-06-13T16:36:43.991Z"
   },
   {
    "duration": 9,
    "start_time": "2022-06-13T16:36:44.002Z"
   },
   {
    "duration": 14,
    "start_time": "2022-06-13T16:36:44.014Z"
   },
   {
    "duration": 16,
    "start_time": "2022-06-13T16:36:44.031Z"
   },
   {
    "duration": 16,
    "start_time": "2022-06-13T16:36:44.052Z"
   },
   {
    "duration": 14,
    "start_time": "2022-06-13T16:36:44.071Z"
   },
   {
    "duration": 38,
    "start_time": "2022-06-13T16:36:44.088Z"
   },
   {
    "duration": 21,
    "start_time": "2022-06-13T16:36:44.134Z"
   },
   {
    "duration": 9,
    "start_time": "2022-06-13T16:36:44.159Z"
   },
   {
    "duration": 21,
    "start_time": "2022-06-13T16:36:44.170Z"
   },
   {
    "duration": 30,
    "start_time": "2022-06-13T16:36:44.193Z"
   },
   {
    "duration": 13568,
    "start_time": "2022-06-13T16:36:44.227Z"
   },
   {
    "duration": 31,
    "start_time": "2022-06-13T16:36:57.798Z"
   },
   {
    "duration": 75,
    "start_time": "2022-06-13T16:36:57.831Z"
   },
   {
    "duration": 35,
    "start_time": "2022-06-13T16:36:57.908Z"
   },
   {
    "duration": 20,
    "start_time": "2022-06-13T16:36:57.948Z"
   },
   {
    "duration": 34,
    "start_time": "2022-06-13T16:36:57.971Z"
   },
   {
    "duration": 16,
    "start_time": "2022-06-13T16:36:58.007Z"
   },
   {
    "duration": 27,
    "start_time": "2022-06-13T16:36:58.025Z"
   },
   {
    "duration": 33,
    "start_time": "2022-06-13T16:36:58.055Z"
   },
   {
    "duration": 18,
    "start_time": "2022-06-13T16:36:58.090Z"
   },
   {
    "duration": 50,
    "start_time": "2022-06-13T16:36:58.110Z"
   },
   {
    "duration": 12,
    "start_time": "2022-06-13T16:36:58.163Z"
   },
   {
    "duration": 322,
    "start_time": "2022-06-13T16:36:58.178Z"
   },
   {
    "duration": 5,
    "start_time": "2022-06-13T16:36:58.502Z"
   },
   {
    "duration": 11,
    "start_time": "2022-06-13T16:36:58.513Z"
   },
   {
    "duration": 3372,
    "start_time": "2022-06-13T16:36:58.527Z"
   },
   {
    "duration": 28,
    "start_time": "2022-06-13T16:37:01.901Z"
   },
   {
    "duration": 34,
    "start_time": "2022-06-13T16:37:01.931Z"
   },
   {
    "duration": 43,
    "start_time": "2022-06-13T16:37:01.969Z"
   },
   {
    "duration": 64,
    "start_time": "2022-06-13T16:37:02.015Z"
   },
   {
    "duration": 0,
    "start_time": "2022-06-13T16:37:02.083Z"
   },
   {
    "duration": 0,
    "start_time": "2022-06-13T16:37:02.084Z"
   },
   {
    "duration": 309,
    "start_time": "2022-06-13T16:37:15.669Z"
   },
   {
    "duration": 341,
    "start_time": "2022-06-13T16:37:25.443Z"
   },
   {
    "duration": 356,
    "start_time": "2022-06-13T16:38:12.380Z"
   },
   {
    "duration": 339,
    "start_time": "2022-06-13T16:38:28.305Z"
   },
   {
    "duration": 273,
    "start_time": "2022-06-13T16:38:35.745Z"
   },
   {
    "duration": 326,
    "start_time": "2022-06-13T16:38:43.827Z"
   },
   {
    "duration": 354,
    "start_time": "2022-06-13T16:38:48.831Z"
   },
   {
    "duration": 315,
    "start_time": "2022-06-13T16:38:59.309Z"
   },
   {
    "duration": 325,
    "start_time": "2022-06-13T16:39:06.335Z"
   },
   {
    "duration": 365,
    "start_time": "2022-06-13T16:39:15.496Z"
   },
   {
    "duration": 314,
    "start_time": "2022-06-13T16:39:28.270Z"
   },
   {
    "duration": 383,
    "start_time": "2022-06-13T16:39:39.059Z"
   },
   {
    "duration": 2705,
    "start_time": "2022-06-13T16:41:39.696Z"
   },
   {
    "duration": 18,
    "start_time": "2022-06-13T16:42:44.493Z"
   },
   {
    "duration": 6,
    "start_time": "2022-06-13T16:42:55.951Z"
   },
   {
    "duration": 16,
    "start_time": "2022-06-13T16:42:55.960Z"
   },
   {
    "duration": 13948,
    "start_time": "2022-06-13T16:42:55.978Z"
   },
   {
    "duration": 90,
    "start_time": "2022-06-13T16:43:09.929Z"
   },
   {
    "duration": 33,
    "start_time": "2022-06-13T16:43:10.021Z"
   },
   {
    "duration": 28,
    "start_time": "2022-06-13T16:43:10.057Z"
   },
   {
    "duration": 20407,
    "start_time": "2022-06-13T16:43:10.088Z"
   },
   {
    "duration": 23,
    "start_time": "2022-06-13T16:43:30.497Z"
   },
   {
    "duration": 10,
    "start_time": "2022-06-13T16:43:30.524Z"
   },
   {
    "duration": 6,
    "start_time": "2022-06-13T16:43:54.562Z"
   },
   {
    "duration": 11,
    "start_time": "2022-06-13T16:43:54.571Z"
   },
   {
    "duration": 9991,
    "start_time": "2022-06-13T16:43:54.609Z"
   },
   {
    "duration": 16,
    "start_time": "2022-06-13T16:44:04.603Z"
   },
   {
    "duration": 10,
    "start_time": "2022-06-13T16:44:04.621Z"
   },
   {
    "duration": 67,
    "start_time": "2022-06-13T16:44:04.634Z"
   },
   {
    "duration": 14010,
    "start_time": "2022-06-13T16:44:04.706Z"
   },
   {
    "duration": 98,
    "start_time": "2022-06-13T16:44:18.719Z"
   },
   {
    "duration": 6,
    "start_time": "2022-06-13T16:44:18.820Z"
   },
   {
    "duration": 5,
    "start_time": "2022-06-13T16:44:24.008Z"
   },
   {
    "duration": 15,
    "start_time": "2022-06-13T16:44:24.017Z"
   },
   {
    "duration": 3280,
    "start_time": "2022-06-13T16:44:24.035Z"
   },
   {
    "duration": 96,
    "start_time": "2022-06-13T16:44:27.318Z"
   },
   {
    "duration": 13,
    "start_time": "2022-06-13T16:44:27.417Z"
   },
   {
    "duration": 13,
    "start_time": "2022-06-13T16:44:27.433Z"
   },
   {
    "duration": 16549,
    "start_time": "2022-06-13T16:44:27.448Z"
   },
   {
    "duration": 23,
    "start_time": "2022-06-13T16:44:44.000Z"
   },
   {
    "duration": 4,
    "start_time": "2022-06-13T16:44:44.028Z"
   },
   {
    "duration": 7,
    "start_time": "2022-06-13T16:44:48.910Z"
   },
   {
    "duration": 12,
    "start_time": "2022-06-13T16:44:48.921Z"
   },
   {
    "duration": 11360,
    "start_time": "2022-06-13T16:44:48.936Z"
   },
   {
    "duration": 15,
    "start_time": "2022-06-13T16:45:00.298Z"
   },
   {
    "duration": 19,
    "start_time": "2022-06-13T16:45:00.319Z"
   },
   {
    "duration": 22,
    "start_time": "2022-06-13T16:45:00.340Z"
   },
   {
    "duration": 36439,
    "start_time": "2022-06-13T16:45:00.363Z"
   },
   {
    "duration": 20,
    "start_time": "2022-06-13T16:45:36.804Z"
   },
   {
    "duration": 6,
    "start_time": "2022-06-13T16:45:36.827Z"
   },
   {
    "duration": 9,
    "start_time": "2022-06-13T16:46:38.428Z"
   },
   {
    "duration": 18,
    "start_time": "2022-06-13T16:46:38.440Z"
   },
   {
    "duration": 52345,
    "start_time": "2022-06-13T16:46:38.461Z"
   },
   {
    "duration": 20,
    "start_time": "2022-06-13T16:47:30.812Z"
   },
   {
    "duration": 25,
    "start_time": "2022-06-13T16:47:30.897Z"
   },
   {
    "duration": 14,
    "start_time": "2022-06-13T16:47:30.925Z"
   },
   {
    "duration": 12,
    "start_time": "2022-06-13T16:48:08.736Z"
   },
   {
    "duration": 5,
    "start_time": "2022-06-13T16:48:08.751Z"
   },
   {
    "duration": 19542,
    "start_time": "2022-06-13T16:48:08.758Z"
   },
   {
    "duration": 88,
    "start_time": "2022-06-13T16:48:28.305Z"
   },
   {
    "duration": 28,
    "start_time": "2022-06-13T16:48:28.395Z"
   },
   {
    "duration": 11,
    "start_time": "2022-06-13T16:48:28.425Z"
   },
   {
    "duration": 36,
    "start_time": "2022-06-13T16:49:07.099Z"
   },
   {
    "duration": 5,
    "start_time": "2022-06-13T16:49:07.137Z"
   },
   {
    "duration": 23452,
    "start_time": "2022-06-13T16:49:07.144Z"
   },
   {
    "duration": 33,
    "start_time": "2022-06-13T16:49:30.601Z"
   },
   {
    "duration": 19,
    "start_time": "2022-06-13T16:49:30.636Z"
   },
   {
    "duration": 67,
    "start_time": "2022-06-13T16:49:30.657Z"
   },
   {
    "duration": 42584,
    "start_time": "2022-06-13T16:49:30.727Z"
   },
   {
    "duration": 28,
    "start_time": "2022-06-13T16:50:13.315Z"
   },
   {
    "duration": 14,
    "start_time": "2022-06-13T16:50:13.345Z"
   },
   {
    "duration": 10,
    "start_time": "2022-06-13T16:50:15.536Z"
   },
   {
    "duration": 4,
    "start_time": "2022-06-13T16:50:15.550Z"
   },
   {
    "duration": 22485,
    "start_time": "2022-06-13T16:50:15.556Z"
   },
   {
    "duration": 58,
    "start_time": "2022-06-13T16:50:38.044Z"
   },
   {
    "duration": 25,
    "start_time": "2022-06-13T16:50:38.108Z"
   },
   {
    "duration": 12,
    "start_time": "2022-06-13T16:50:38.137Z"
   },
   {
    "duration": 18,
    "start_time": "2022-06-13T16:51:20.838Z"
   },
   {
    "duration": 5,
    "start_time": "2022-06-13T16:51:20.859Z"
   },
   {
    "duration": 66618,
    "start_time": "2022-06-13T16:51:20.897Z"
   },
   {
    "duration": 123,
    "start_time": "2022-06-13T16:52:27.517Z"
   },
   {
    "duration": 8,
    "start_time": "2022-06-13T16:52:27.643Z"
   },
   {
    "duration": 43,
    "start_time": "2022-06-13T16:52:27.654Z"
   },
   {
    "duration": 13,
    "start_time": "2022-06-13T16:53:58.270Z"
   },
   {
    "duration": 6,
    "start_time": "2022-06-13T16:53:58.286Z"
   },
   {
    "duration": 129617,
    "start_time": "2022-06-13T16:53:58.294Z"
   },
   {
    "duration": 158,
    "start_time": "2022-06-13T16:56:07.913Z"
   },
   {
    "duration": 11,
    "start_time": "2022-06-13T16:56:08.096Z"
   },
   {
    "duration": 60,
    "start_time": "2022-06-13T16:56:08.110Z"
   },
   {
    "duration": 9,
    "start_time": "2022-06-13T16:57:44.263Z"
   },
   {
    "duration": 6,
    "start_time": "2022-06-13T16:57:44.274Z"
   },
   {
    "duration": 23324,
    "start_time": "2022-06-13T16:57:44.282Z"
   },
   {
    "duration": 36,
    "start_time": "2022-06-13T16:58:07.609Z"
   },
   {
    "duration": 11,
    "start_time": "2022-06-13T16:58:07.651Z"
   },
   {
    "duration": 37,
    "start_time": "2022-06-13T16:58:07.664Z"
   },
   {
    "duration": 13,
    "start_time": "2022-06-13T16:59:45.776Z"
   },
   {
    "duration": 51,
    "start_time": "2022-06-13T16:59:45.792Z"
   },
   {
    "duration": 45119,
    "start_time": "2022-06-13T16:59:45.849Z"
   },
   {
    "duration": 87,
    "start_time": "2022-06-13T17:00:30.970Z"
   },
   {
    "duration": 16,
    "start_time": "2022-06-13T17:00:31.059Z"
   },
   {
    "duration": 71,
    "start_time": "2022-06-13T17:00:31.077Z"
   },
   {
    "duration": 104,
    "start_time": "2022-06-13T17:03:44.503Z"
   },
   {
    "duration": 83,
    "start_time": "2022-06-13T17:03:44.612Z"
   },
   {
    "duration": 2649,
    "start_time": "2022-06-13T17:05:19.718Z"
   },
   {
    "duration": 113,
    "start_time": "2022-06-13T17:05:22.370Z"
   },
   {
    "duration": 27,
    "start_time": "2022-06-13T17:05:22.485Z"
   },
   {
    "duration": 59,
    "start_time": "2022-06-13T17:05:22.522Z"
   },
   {
    "duration": 11,
    "start_time": "2022-06-13T17:05:22.584Z"
   },
   {
    "duration": 61,
    "start_time": "2022-06-13T17:05:22.598Z"
   },
   {
    "duration": 12,
    "start_time": "2022-06-13T17:05:22.662Z"
   },
   {
    "duration": 8,
    "start_time": "2022-06-13T17:05:22.676Z"
   },
   {
    "duration": 15,
    "start_time": "2022-06-13T17:05:22.686Z"
   },
   {
    "duration": 35,
    "start_time": "2022-06-13T17:05:22.704Z"
   },
   {
    "duration": 13,
    "start_time": "2022-06-13T17:05:22.742Z"
   },
   {
    "duration": 6,
    "start_time": "2022-06-13T17:05:22.757Z"
   },
   {
    "duration": 14,
    "start_time": "2022-06-13T17:05:22.765Z"
   },
   {
    "duration": 9,
    "start_time": "2022-06-13T17:05:22.781Z"
   },
   {
    "duration": 58,
    "start_time": "2022-06-13T17:05:22.792Z"
   },
   {
    "duration": 17,
    "start_time": "2022-06-13T17:05:22.852Z"
   },
   {
    "duration": 157,
    "start_time": "2022-06-13T17:05:22.870Z"
   },
   {
    "duration": 127,
    "start_time": "2022-06-13T17:05:23.031Z"
   },
   {
    "duration": 11,
    "start_time": "2022-06-13T17:05:23.160Z"
   },
   {
    "duration": 8,
    "start_time": "2022-06-13T17:05:23.173Z"
   },
   {
    "duration": 245,
    "start_time": "2022-06-13T17:05:23.183Z"
   },
   {
    "duration": 10,
    "start_time": "2022-06-13T17:05:23.433Z"
   },
   {
    "duration": 8,
    "start_time": "2022-06-13T17:05:23.445Z"
   },
   {
    "duration": 135,
    "start_time": "2022-06-13T17:05:23.455Z"
   },
   {
    "duration": 27,
    "start_time": "2022-06-13T17:05:23.592Z"
   },
   {
    "duration": 31,
    "start_time": "2022-06-13T17:05:23.624Z"
   },
   {
    "duration": 164,
    "start_time": "2022-06-13T17:05:23.657Z"
   },
   {
    "duration": 14,
    "start_time": "2022-06-13T17:05:23.827Z"
   },
   {
    "duration": 23,
    "start_time": "2022-06-13T17:05:23.846Z"
   },
   {
    "duration": 133,
    "start_time": "2022-06-13T17:05:23.872Z"
   },
   {
    "duration": 12,
    "start_time": "2022-06-13T17:05:24.008Z"
   },
   {
    "duration": 43,
    "start_time": "2022-06-13T17:05:24.022Z"
   },
   {
    "duration": 17,
    "start_time": "2022-06-13T17:05:24.066Z"
   },
   {
    "duration": 82,
    "start_time": "2022-06-13T17:05:24.086Z"
   },
   {
    "duration": 17,
    "start_time": "2022-06-13T17:05:24.170Z"
   },
   {
    "duration": 40,
    "start_time": "2022-06-13T17:05:24.189Z"
   },
   {
    "duration": 22,
    "start_time": "2022-06-13T17:05:24.231Z"
   },
   {
    "duration": 8,
    "start_time": "2022-06-13T17:05:24.255Z"
   },
   {
    "duration": 9,
    "start_time": "2022-06-13T17:05:24.264Z"
   },
   {
    "duration": 18,
    "start_time": "2022-06-13T17:05:24.274Z"
   },
   {
    "duration": 61,
    "start_time": "2022-06-13T17:05:24.297Z"
   },
   {
    "duration": 6,
    "start_time": "2022-06-13T17:05:24.360Z"
   },
   {
    "duration": 18,
    "start_time": "2022-06-13T17:05:24.369Z"
   },
   {
    "duration": 24,
    "start_time": "2022-06-13T17:05:24.389Z"
   },
   {
    "duration": 42,
    "start_time": "2022-06-13T17:05:24.415Z"
   },
   {
    "duration": 7,
    "start_time": "2022-06-13T17:05:24.459Z"
   },
   {
    "duration": 8,
    "start_time": "2022-06-13T17:05:24.468Z"
   },
   {
    "duration": 10,
    "start_time": "2022-06-13T17:05:24.478Z"
   },
   {
    "duration": 16,
    "start_time": "2022-06-13T17:05:24.490Z"
   },
   {
    "duration": 26,
    "start_time": "2022-06-13T17:05:24.507Z"
   },
   {
    "duration": 23,
    "start_time": "2022-06-13T17:05:24.535Z"
   },
   {
    "duration": 9,
    "start_time": "2022-06-13T17:05:24.560Z"
   },
   {
    "duration": 4,
    "start_time": "2022-06-13T17:05:24.571Z"
   },
   {
    "duration": 6,
    "start_time": "2022-06-13T17:05:24.577Z"
   },
   {
    "duration": 8,
    "start_time": "2022-06-13T17:05:24.584Z"
   },
   {
    "duration": 28831,
    "start_time": "2022-06-13T17:05:24.594Z"
   },
   {
    "duration": 20,
    "start_time": "2022-06-13T17:05:53.428Z"
   },
   {
    "duration": 20,
    "start_time": "2022-06-13T17:05:53.450Z"
   },
   {
    "duration": 44,
    "start_time": "2022-06-13T17:05:53.472Z"
   },
   {
    "duration": 34,
    "start_time": "2022-06-13T17:05:53.518Z"
   },
   {
    "duration": 15,
    "start_time": "2022-06-13T17:05:53.554Z"
   },
   {
    "duration": 5,
    "start_time": "2022-06-13T17:05:53.572Z"
   },
   {
    "duration": 7,
    "start_time": "2022-06-13T17:05:53.579Z"
   },
   {
    "duration": 36,
    "start_time": "2022-06-13T17:05:53.588Z"
   },
   {
    "duration": 42,
    "start_time": "2022-06-13T17:05:53.627Z"
   },
   {
    "duration": 15,
    "start_time": "2022-06-13T17:05:53.671Z"
   },
   {
    "duration": 53,
    "start_time": "2022-06-13T17:05:53.688Z"
   },
   {
    "duration": 374,
    "start_time": "2022-06-13T17:05:53.743Z"
   },
   {
    "duration": 24,
    "start_time": "2022-06-13T17:05:54.119Z"
   },
   {
    "duration": 22,
    "start_time": "2022-06-13T17:05:54.153Z"
   },
   {
    "duration": 41750,
    "start_time": "2022-06-13T17:05:54.178Z"
   },
   {
    "duration": 24,
    "start_time": "2022-06-13T17:06:35.937Z"
   },
   {
    "duration": 44,
    "start_time": "2022-06-13T17:06:35.964Z"
   },
   {
    "duration": 37,
    "start_time": "2022-06-13T17:06:36.019Z"
   },
   {
    "duration": 12,
    "start_time": "2022-06-13T17:07:46.860Z"
   },
   {
    "duration": 7,
    "start_time": "2022-06-13T17:07:46.874Z"
   },
   {
    "duration": 249,
    "start_time": "2022-06-13T17:07:46.882Z"
   },
   {
    "duration": 0,
    "start_time": "2022-06-13T17:07:47.147Z"
   },
   {
    "duration": 0,
    "start_time": "2022-06-13T17:07:47.148Z"
   },
   {
    "duration": 0,
    "start_time": "2022-06-13T17:07:47.148Z"
   },
   {
    "duration": 0,
    "start_time": "2022-06-13T17:07:47.149Z"
   },
   {
    "duration": 0,
    "start_time": "2022-06-13T17:07:47.150Z"
   },
   {
    "duration": 0,
    "start_time": "2022-06-13T17:07:47.150Z"
   },
   {
    "duration": 19,
    "start_time": "2022-06-13T17:09:12.288Z"
   },
   {
    "duration": 50,
    "start_time": "2022-06-13T17:09:12.312Z"
   },
   {
    "duration": 34394,
    "start_time": "2022-06-13T17:09:12.365Z"
   },
   {
    "duration": 47,
    "start_time": "2022-06-13T17:09:46.808Z"
   },
   {
    "duration": 7,
    "start_time": "2022-06-13T17:09:46.858Z"
   },
   {
    "duration": 31,
    "start_time": "2022-06-13T17:09:46.867Z"
   },
   {
    "duration": 113707,
    "start_time": "2022-06-13T17:09:46.900Z"
   },
   {
    "duration": 34,
    "start_time": "2022-06-13T17:11:40.610Z"
   },
   {
    "duration": 14,
    "start_time": "2022-06-13T17:11:40.647Z"
   },
   {
    "duration": 11,
    "start_time": "2022-06-13T17:13:35.420Z"
   },
   {
    "duration": 39,
    "start_time": "2022-06-13T17:13:35.433Z"
   },
   {
    "duration": 22228,
    "start_time": "2022-06-13T17:13:35.474Z"
   },
   {
    "duration": 28,
    "start_time": "2022-06-13T17:13:57.708Z"
   },
   {
    "duration": 10,
    "start_time": "2022-06-13T17:13:57.738Z"
   },
   {
    "duration": 5,
    "start_time": "2022-06-13T17:13:57.750Z"
   },
   {
    "duration": 3,
    "start_time": "2022-06-13T17:15:43.645Z"
   },
   {
    "duration": 11,
    "start_time": "2022-06-13T17:15:43.651Z"
   },
   {
    "duration": 5,
    "start_time": "2022-06-13T17:15:43.664Z"
   },
   {
    "duration": 24256,
    "start_time": "2022-06-13T17:15:43.671Z"
   },
   {
    "duration": 86,
    "start_time": "2022-06-13T17:16:07.934Z"
   },
   {
    "duration": 12,
    "start_time": "2022-06-13T17:16:08.029Z"
   },
   {
    "duration": 16,
    "start_time": "2022-06-13T17:16:08.042Z"
   },
   {
    "duration": 9,
    "start_time": "2022-06-13T17:18:04.446Z"
   },
   {
    "duration": 20,
    "start_time": "2022-06-13T17:18:04.457Z"
   },
   {
    "duration": 21944,
    "start_time": "2022-06-13T17:18:04.479Z"
   },
   {
    "duration": 9,
    "start_time": "2022-06-13T17:18:26.432Z"
   },
   {
    "duration": 26,
    "start_time": "2022-06-13T17:18:26.444Z"
   },
   {
    "duration": 29,
    "start_time": "2022-06-13T17:18:26.472Z"
   },
   {
    "duration": 14,
    "start_time": "2022-06-13T17:20:04.720Z"
   },
   {
    "duration": 17,
    "start_time": "2022-06-13T17:20:04.736Z"
   },
   {
    "duration": 13879,
    "start_time": "2022-06-13T17:20:04.755Z"
   },
   {
    "duration": 91,
    "start_time": "2022-06-13T17:20:18.637Z"
   },
   {
    "duration": 10,
    "start_time": "2022-06-13T17:20:18.730Z"
   },
   {
    "duration": 21,
    "start_time": "2022-06-13T17:20:18.742Z"
   },
   {
    "duration": 6,
    "start_time": "2022-06-13T17:21:55.755Z"
   },
   {
    "duration": 49,
    "start_time": "2022-06-13T17:21:55.763Z"
   },
   {
    "duration": 21729,
    "start_time": "2022-06-13T17:21:55.820Z"
   },
   {
    "duration": 84,
    "start_time": "2022-06-13T17:22:17.552Z"
   },
   {
    "duration": 9,
    "start_time": "2022-06-13T17:22:17.640Z"
   },
   {
    "duration": 16,
    "start_time": "2022-06-13T17:22:17.651Z"
   },
   {
    "duration": 7,
    "start_time": "2022-06-13T17:23:43.635Z"
   },
   {
    "duration": 10,
    "start_time": "2022-06-13T17:23:43.644Z"
   },
   {
    "duration": 16374,
    "start_time": "2022-06-13T17:23:43.656Z"
   },
   {
    "duration": 73,
    "start_time": "2022-06-13T17:24:00.034Z"
   },
   {
    "duration": 60,
    "start_time": "2022-06-13T17:24:00.109Z"
   },
   {
    "duration": 28,
    "start_time": "2022-06-13T17:24:00.171Z"
   },
   {
    "duration": 18,
    "start_time": "2022-06-13T17:24:53.608Z"
   },
   {
    "duration": 11,
    "start_time": "2022-06-13T17:24:53.629Z"
   },
   {
    "duration": 20871,
    "start_time": "2022-06-13T17:24:53.642Z"
   },
   {
    "duration": 18,
    "start_time": "2022-06-13T17:25:14.516Z"
   },
   {
    "duration": 24,
    "start_time": "2022-06-13T17:25:14.595Z"
   },
   {
    "duration": 26,
    "start_time": "2022-06-13T17:25:14.621Z"
   },
   {
    "duration": 4,
    "start_time": "2022-06-13T17:26:05.528Z"
   },
   {
    "duration": 15562,
    "start_time": "2022-06-13T17:26:05.533Z"
   },
   {
    "duration": 29,
    "start_time": "2022-06-13T17:26:21.099Z"
   },
   {
    "duration": 13,
    "start_time": "2022-06-13T17:26:21.131Z"
   },
   {
    "duration": 50,
    "start_time": "2022-06-13T17:26:21.148Z"
   },
   {
    "duration": 12,
    "start_time": "2022-06-13T17:27:22.622Z"
   },
   {
    "duration": 5,
    "start_time": "2022-06-13T17:27:22.636Z"
   },
   {
    "duration": 14997,
    "start_time": "2022-06-13T17:27:22.643Z"
   },
   {
    "duration": 57,
    "start_time": "2022-06-13T17:27:37.642Z"
   },
   {
    "duration": 25,
    "start_time": "2022-06-13T17:27:37.702Z"
   },
   {
    "duration": 14,
    "start_time": "2022-06-13T17:27:37.729Z"
   },
   {
    "duration": 12,
    "start_time": "2022-06-13T17:28:04.029Z"
   },
   {
    "duration": 16,
    "start_time": "2022-06-13T17:28:04.044Z"
   },
   {
    "duration": 16435,
    "start_time": "2022-06-13T17:28:04.063Z"
   },
   {
    "duration": 13,
    "start_time": "2022-06-13T17:28:20.501Z"
   },
   {
    "duration": 15,
    "start_time": "2022-06-13T17:28:20.517Z"
   },
   {
    "duration": 14,
    "start_time": "2022-06-13T17:28:20.535Z"
   },
   {
    "duration": 33205,
    "start_time": "2022-06-13T17:28:20.596Z"
   },
   {
    "duration": 23,
    "start_time": "2022-06-13T17:28:53.807Z"
   },
   {
    "duration": 8,
    "start_time": "2022-06-13T17:29:27.357Z"
   },
   {
    "duration": 9,
    "start_time": "2022-06-13T17:29:27.367Z"
   },
   {
    "duration": 15616,
    "start_time": "2022-06-13T17:29:27.378Z"
   },
   {
    "duration": 31,
    "start_time": "2022-06-13T17:29:42.998Z"
   },
   {
    "duration": 10,
    "start_time": "2022-06-13T17:29:43.031Z"
   },
   {
    "duration": 66,
    "start_time": "2022-06-13T17:29:43.043Z"
   },
   {
    "duration": 25582,
    "start_time": "2022-06-13T17:29:43.115Z"
   },
   {
    "duration": 24,
    "start_time": "2022-06-13T17:30:08.699Z"
   },
   {
    "duration": 10,
    "start_time": "2022-06-13T17:46:17.369Z"
   },
   {
    "duration": 10,
    "start_time": "2022-06-13T17:46:17.381Z"
   },
   {
    "duration": 192870,
    "start_time": "2022-06-13T17:46:17.397Z"
   },
   {
    "duration": 46,
    "start_time": "2022-06-13T17:49:30.269Z"
   },
   {
    "duration": 37,
    "start_time": "2022-06-13T17:49:30.319Z"
   },
   {
    "duration": 10,
    "start_time": "2022-06-13T17:49:30.358Z"
   },
   {
    "duration": 47769,
    "start_time": "2022-06-13T17:49:30.370Z"
   },
   {
    "duration": 85,
    "start_time": "2022-06-13T17:50:18.141Z"
   },
   {
    "duration": 34,
    "start_time": "2022-06-13T18:38:28.987Z"
   },
   {
    "duration": 20,
    "start_time": "2022-06-13T18:38:52.026Z"
   },
   {
    "duration": 13,
    "start_time": "2022-06-13T18:39:07.903Z"
   },
   {
    "duration": 28,
    "start_time": "2022-06-13T18:39:21.968Z"
   },
   {
    "duration": 0,
    "start_time": "2022-06-13T18:39:21.998Z"
   },
   {
    "duration": 0,
    "start_time": "2022-06-13T18:39:21.999Z"
   },
   {
    "duration": 0,
    "start_time": "2022-06-13T18:39:22.000Z"
   },
   {
    "duration": 0,
    "start_time": "2022-06-13T18:39:22.002Z"
   },
   {
    "duration": 0,
    "start_time": "2022-06-13T18:39:22.003Z"
   },
   {
    "duration": 0,
    "start_time": "2022-06-13T18:39:22.004Z"
   },
   {
    "duration": 0,
    "start_time": "2022-06-13T18:39:22.005Z"
   },
   {
    "duration": 0,
    "start_time": "2022-06-13T18:39:22.006Z"
   },
   {
    "duration": 0,
    "start_time": "2022-06-13T18:39:22.007Z"
   },
   {
    "duration": 0,
    "start_time": "2022-06-13T18:39:22.008Z"
   },
   {
    "duration": 0,
    "start_time": "2022-06-13T18:39:22.009Z"
   },
   {
    "duration": 0,
    "start_time": "2022-06-13T18:39:22.010Z"
   },
   {
    "duration": 5,
    "start_time": "2022-06-13T18:39:22.013Z"
   },
   {
    "duration": 10,
    "start_time": "2022-06-13T18:39:22.019Z"
   },
   {
    "duration": 6,
    "start_time": "2022-06-13T18:39:22.031Z"
   },
   {
    "duration": 186,
    "start_time": "2022-06-13T18:39:22.038Z"
   },
   {
    "duration": 107,
    "start_time": "2022-06-13T18:39:22.226Z"
   },
   {
    "duration": 9,
    "start_time": "2022-06-13T18:39:22.336Z"
   },
   {
    "duration": 12,
    "start_time": "2022-06-13T18:39:22.346Z"
   },
   {
    "duration": 134,
    "start_time": "2022-06-13T18:39:22.360Z"
   },
   {
    "duration": 9,
    "start_time": "2022-06-13T18:39:22.496Z"
   },
   {
    "duration": 16,
    "start_time": "2022-06-13T18:39:22.506Z"
   },
   {
    "duration": 128,
    "start_time": "2022-06-13T18:39:22.523Z"
   },
   {
    "duration": 9,
    "start_time": "2022-06-13T18:39:22.653Z"
   },
   {
    "duration": 13,
    "start_time": "2022-06-13T18:39:22.663Z"
   },
   {
    "duration": 221,
    "start_time": "2022-06-13T18:39:22.678Z"
   },
   {
    "duration": 8,
    "start_time": "2022-06-13T18:39:22.900Z"
   },
   {
    "duration": 11,
    "start_time": "2022-06-13T18:39:22.910Z"
   },
   {
    "duration": 141,
    "start_time": "2022-06-13T18:39:22.924Z"
   },
   {
    "duration": 8,
    "start_time": "2022-06-13T18:39:23.067Z"
   },
   {
    "duration": 17,
    "start_time": "2022-06-13T18:39:23.077Z"
   },
   {
    "duration": 7,
    "start_time": "2022-06-13T18:39:23.098Z"
   },
   {
    "duration": 12,
    "start_time": "2022-06-13T18:39:23.107Z"
   },
   {
    "duration": 20,
    "start_time": "2022-06-13T18:39:23.121Z"
   },
   {
    "duration": 19,
    "start_time": "2022-06-13T18:39:23.142Z"
   },
   {
    "duration": 14,
    "start_time": "2022-06-13T18:39:23.163Z"
   },
   {
    "duration": 13,
    "start_time": "2022-06-13T18:39:23.179Z"
   },
   {
    "duration": 13,
    "start_time": "2022-06-13T18:39:23.194Z"
   },
   {
    "duration": 30,
    "start_time": "2022-06-13T18:39:23.209Z"
   },
   {
    "duration": 10,
    "start_time": "2022-06-13T18:39:23.241Z"
   },
   {
    "duration": 11,
    "start_time": "2022-06-13T18:39:23.253Z"
   },
   {
    "duration": 7,
    "start_time": "2022-06-13T18:39:23.266Z"
   },
   {
    "duration": 24,
    "start_time": "2022-06-13T18:39:23.275Z"
   },
   {
    "duration": 8,
    "start_time": "2022-06-13T18:39:23.301Z"
   },
   {
    "duration": 10,
    "start_time": "2022-06-13T18:39:23.311Z"
   },
   {
    "duration": 7,
    "start_time": "2022-06-13T18:39:23.323Z"
   },
   {
    "duration": 20,
    "start_time": "2022-06-13T18:39:23.332Z"
   },
   {
    "duration": 7,
    "start_time": "2022-06-13T18:39:23.354Z"
   },
   {
    "duration": 5,
    "start_time": "2022-06-13T18:39:23.362Z"
   },
   {
    "duration": 5,
    "start_time": "2022-06-13T18:39:23.369Z"
   },
   {
    "duration": 8,
    "start_time": "2022-06-13T18:39:23.376Z"
   },
   {
    "duration": 7,
    "start_time": "2022-06-13T18:39:23.385Z"
   },
   {
    "duration": 7,
    "start_time": "2022-06-13T18:39:23.394Z"
   },
   {
    "duration": 7,
    "start_time": "2022-06-13T18:39:23.402Z"
   },
   {
    "duration": 4502,
    "start_time": "2022-06-13T18:39:23.410Z"
   },
   {
    "duration": 5,
    "start_time": "2022-06-13T18:39:27.914Z"
   },
   {
    "duration": 17,
    "start_time": "2022-06-13T18:39:27.996Z"
   },
   {
    "duration": 10,
    "start_time": "2022-06-13T18:39:28.015Z"
   },
   {
    "duration": 8,
    "start_time": "2022-06-13T18:39:28.027Z"
   },
   {
    "duration": 17,
    "start_time": "2022-06-13T18:39:28.036Z"
   },
   {
    "duration": 9,
    "start_time": "2022-06-13T18:39:28.055Z"
   },
   {
    "duration": 30,
    "start_time": "2022-06-13T18:39:28.066Z"
   },
   {
    "duration": 24,
    "start_time": "2022-06-13T18:39:28.097Z"
   },
   {
    "duration": 7,
    "start_time": "2022-06-13T18:39:28.123Z"
   },
   {
    "duration": 14,
    "start_time": "2022-06-13T18:39:28.131Z"
   },
   {
    "duration": 8,
    "start_time": "2022-06-13T18:39:28.147Z"
   },
   {
    "duration": 254,
    "start_time": "2022-06-13T18:39:28.156Z"
   },
   {
    "duration": 14,
    "start_time": "2022-06-13T18:39:28.412Z"
   },
   {
    "duration": 0,
    "start_time": "2022-06-13T18:39:28.428Z"
   },
   {
    "duration": 0,
    "start_time": "2022-06-13T18:39:28.429Z"
   },
   {
    "duration": 0,
    "start_time": "2022-06-13T18:39:28.430Z"
   },
   {
    "duration": 0,
    "start_time": "2022-06-13T18:39:28.431Z"
   },
   {
    "duration": 0,
    "start_time": "2022-06-13T18:39:28.432Z"
   },
   {
    "duration": 0,
    "start_time": "2022-06-13T18:39:28.433Z"
   },
   {
    "duration": 0,
    "start_time": "2022-06-13T18:39:28.434Z"
   },
   {
    "duration": 0,
    "start_time": "2022-06-13T18:39:28.435Z"
   },
   {
    "duration": 0,
    "start_time": "2022-06-13T18:39:28.436Z"
   },
   {
    "duration": 0,
    "start_time": "2022-06-13T18:39:28.437Z"
   },
   {
    "duration": 0,
    "start_time": "2022-06-13T18:39:28.438Z"
   },
   {
    "duration": 16,
    "start_time": "2022-06-13T18:40:40.119Z"
   },
   {
    "duration": 29,
    "start_time": "2022-06-13T18:42:46.817Z"
   },
   {
    "duration": 6,
    "start_time": "2022-06-13T18:42:59.609Z"
   },
   {
    "duration": 79,
    "start_time": "2022-06-13T18:42:59.617Z"
   },
   {
    "duration": 11,
    "start_time": "2022-06-13T18:42:59.698Z"
   },
   {
    "duration": 10,
    "start_time": "2022-06-13T18:42:59.711Z"
   },
   {
    "duration": 9,
    "start_time": "2022-06-13T18:42:59.723Z"
   },
   {
    "duration": 11,
    "start_time": "2022-06-13T18:42:59.733Z"
   },
   {
    "duration": 11,
    "start_time": "2022-06-13T18:42:59.746Z"
   },
   {
    "duration": 36,
    "start_time": "2022-06-13T18:42:59.759Z"
   },
   {
    "duration": 13,
    "start_time": "2022-06-13T18:42:59.797Z"
   },
   {
    "duration": 16,
    "start_time": "2022-06-13T18:42:59.813Z"
   },
   {
    "duration": 14,
    "start_time": "2022-06-13T18:42:59.830Z"
   },
   {
    "duration": 9,
    "start_time": "2022-06-13T18:42:59.845Z"
   },
   {
    "duration": 8,
    "start_time": "2022-06-13T18:42:59.856Z"
   },
   {
    "duration": 8,
    "start_time": "2022-06-13T18:42:59.866Z"
   },
   {
    "duration": 11,
    "start_time": "2022-06-13T18:42:59.876Z"
   },
   {
    "duration": 9,
    "start_time": "2022-06-13T18:42:59.889Z"
   },
   {
    "duration": 109,
    "start_time": "2022-06-13T18:42:59.900Z"
   },
   {
    "duration": 124,
    "start_time": "2022-06-13T18:43:00.011Z"
   },
   {
    "duration": 8,
    "start_time": "2022-06-13T18:43:00.137Z"
   },
   {
    "duration": 16,
    "start_time": "2022-06-13T18:43:00.147Z"
   },
   {
    "duration": 133,
    "start_time": "2022-06-13T18:43:00.165Z"
   },
   {
    "duration": 9,
    "start_time": "2022-06-13T18:43:00.300Z"
   },
   {
    "duration": 19,
    "start_time": "2022-06-13T18:43:00.311Z"
   },
   {
    "duration": 127,
    "start_time": "2022-06-13T18:43:00.332Z"
   },
   {
    "duration": 9,
    "start_time": "2022-06-13T18:43:00.461Z"
   },
   {
    "duration": 19,
    "start_time": "2022-06-13T18:43:00.472Z"
   },
   {
    "duration": 132,
    "start_time": "2022-06-13T18:43:00.496Z"
   },
   {
    "duration": 15,
    "start_time": "2022-06-13T18:43:00.632Z"
   },
   {
    "duration": 18,
    "start_time": "2022-06-13T18:43:00.649Z"
   },
   {
    "duration": 113,
    "start_time": "2022-06-13T18:43:00.669Z"
   },
   {
    "duration": 15,
    "start_time": "2022-06-13T18:43:00.784Z"
   },
   {
    "duration": 24,
    "start_time": "2022-06-13T18:43:00.801Z"
   },
   {
    "duration": 15,
    "start_time": "2022-06-13T18:43:00.827Z"
   },
   {
    "duration": 27,
    "start_time": "2022-06-13T18:43:00.844Z"
   },
   {
    "duration": 28,
    "start_time": "2022-06-13T18:43:00.873Z"
   },
   {
    "duration": 13,
    "start_time": "2022-06-13T18:43:00.903Z"
   },
   {
    "duration": 22,
    "start_time": "2022-06-13T18:43:00.918Z"
   },
   {
    "duration": 44,
    "start_time": "2022-06-13T18:43:00.942Z"
   },
   {
    "duration": 24,
    "start_time": "2022-06-13T18:43:00.988Z"
   },
   {
    "duration": 27,
    "start_time": "2022-06-13T18:43:01.015Z"
   },
   {
    "duration": 30,
    "start_time": "2022-06-13T18:43:01.044Z"
   },
   {
    "duration": 32,
    "start_time": "2022-06-13T18:43:01.077Z"
   },
   {
    "duration": 26,
    "start_time": "2022-06-13T18:43:01.111Z"
   },
   {
    "duration": 45,
    "start_time": "2022-06-13T18:43:01.139Z"
   },
   {
    "duration": 22,
    "start_time": "2022-06-13T18:43:01.187Z"
   },
   {
    "duration": 20,
    "start_time": "2022-06-13T18:43:01.211Z"
   },
   {
    "duration": 16,
    "start_time": "2022-06-13T18:43:01.233Z"
   },
   {
    "duration": 28,
    "start_time": "2022-06-13T18:43:01.251Z"
   },
   {
    "duration": 23,
    "start_time": "2022-06-13T18:43:01.281Z"
   },
   {
    "duration": 23,
    "start_time": "2022-06-13T18:43:01.306Z"
   },
   {
    "duration": 23,
    "start_time": "2022-06-13T18:43:01.333Z"
   },
   {
    "duration": 22,
    "start_time": "2022-06-13T18:43:01.359Z"
   },
   {
    "duration": 25,
    "start_time": "2022-06-13T18:43:01.384Z"
   },
   {
    "duration": 46,
    "start_time": "2022-06-13T18:43:01.411Z"
   },
   {
    "duration": 20,
    "start_time": "2022-06-13T18:43:01.460Z"
   },
   {
    "duration": 4829,
    "start_time": "2022-06-13T18:43:01.483Z"
   },
   {
    "duration": 80,
    "start_time": "2022-06-13T18:43:06.314Z"
   },
   {
    "duration": 44,
    "start_time": "2022-06-13T18:43:06.396Z"
   },
   {
    "duration": 33,
    "start_time": "2022-06-13T18:43:06.442Z"
   },
   {
    "duration": 22,
    "start_time": "2022-06-13T18:43:06.477Z"
   },
   {
    "duration": 35,
    "start_time": "2022-06-13T18:43:06.502Z"
   },
   {
    "duration": 28,
    "start_time": "2022-06-13T18:43:06.539Z"
   },
   {
    "duration": 23,
    "start_time": "2022-06-13T18:43:06.569Z"
   },
   {
    "duration": 38,
    "start_time": "2022-06-13T18:43:06.595Z"
   },
   {
    "duration": 20,
    "start_time": "2022-06-13T18:43:06.635Z"
   },
   {
    "duration": 47,
    "start_time": "2022-06-13T18:43:06.657Z"
   },
   {
    "duration": 16,
    "start_time": "2022-06-13T18:43:06.706Z"
   },
   {
    "duration": 274,
    "start_time": "2022-06-13T18:43:06.724Z"
   },
   {
    "duration": 14,
    "start_time": "2022-06-13T18:43:07.000Z"
   },
   {
    "duration": 0,
    "start_time": "2022-06-13T18:43:07.016Z"
   },
   {
    "duration": 0,
    "start_time": "2022-06-13T18:43:07.017Z"
   },
   {
    "duration": 0,
    "start_time": "2022-06-13T18:43:07.022Z"
   },
   {
    "duration": 0,
    "start_time": "2022-06-13T18:43:07.024Z"
   },
   {
    "duration": 0,
    "start_time": "2022-06-13T18:43:07.025Z"
   },
   {
    "duration": 0,
    "start_time": "2022-06-13T18:43:07.026Z"
   },
   {
    "duration": 0,
    "start_time": "2022-06-13T18:43:07.027Z"
   },
   {
    "duration": 0,
    "start_time": "2022-06-13T18:43:07.028Z"
   },
   {
    "duration": 0,
    "start_time": "2022-06-13T18:43:07.029Z"
   },
   {
    "duration": 0,
    "start_time": "2022-06-13T18:43:07.030Z"
   },
   {
    "duration": 0,
    "start_time": "2022-06-13T18:43:07.032Z"
   },
   {
    "duration": 14,
    "start_time": "2022-06-13T18:43:34.769Z"
   },
   {
    "duration": 6,
    "start_time": "2022-06-13T18:44:32.773Z"
   },
   {
    "duration": 7,
    "start_time": "2022-06-13T18:44:41.210Z"
   },
   {
    "duration": 55,
    "start_time": "2022-06-13T18:44:41.218Z"
   },
   {
    "duration": 11,
    "start_time": "2022-06-13T18:44:41.274Z"
   },
   {
    "duration": 10,
    "start_time": "2022-06-13T18:44:41.288Z"
   },
   {
    "duration": 10,
    "start_time": "2022-06-13T18:44:41.299Z"
   },
   {
    "duration": 7,
    "start_time": "2022-06-13T18:44:41.312Z"
   },
   {
    "duration": 10,
    "start_time": "2022-06-13T18:44:41.320Z"
   },
   {
    "duration": 11,
    "start_time": "2022-06-13T18:44:41.332Z"
   },
   {
    "duration": 13,
    "start_time": "2022-06-13T18:44:41.345Z"
   },
   {
    "duration": 33,
    "start_time": "2022-06-13T18:44:41.362Z"
   },
   {
    "duration": 5,
    "start_time": "2022-06-13T18:44:41.397Z"
   },
   {
    "duration": 6,
    "start_time": "2022-06-13T18:44:41.404Z"
   },
   {
    "duration": 6,
    "start_time": "2022-06-13T18:44:41.411Z"
   },
   {
    "duration": 10,
    "start_time": "2022-06-13T18:44:41.419Z"
   },
   {
    "duration": 7,
    "start_time": "2022-06-13T18:44:41.430Z"
   },
   {
    "duration": 5,
    "start_time": "2022-06-13T18:44:41.439Z"
   },
   {
    "duration": 122,
    "start_time": "2022-06-13T18:44:41.446Z"
   },
   {
    "duration": 109,
    "start_time": "2022-06-13T18:44:41.570Z"
   },
   {
    "duration": 20,
    "start_time": "2022-06-13T18:44:41.681Z"
   },
   {
    "duration": 6,
    "start_time": "2022-06-13T18:44:41.702Z"
   },
   {
    "duration": 122,
    "start_time": "2022-06-13T18:44:41.709Z"
   },
   {
    "duration": 9,
    "start_time": "2022-06-13T18:44:41.833Z"
   },
   {
    "duration": 5,
    "start_time": "2022-06-13T18:44:41.843Z"
   },
   {
    "duration": 134,
    "start_time": "2022-06-13T18:44:41.850Z"
   },
   {
    "duration": 15,
    "start_time": "2022-06-13T18:44:41.986Z"
   },
   {
    "duration": 10,
    "start_time": "2022-06-13T18:44:42.002Z"
   },
   {
    "duration": 247,
    "start_time": "2022-06-13T18:44:42.014Z"
   },
   {
    "duration": 9,
    "start_time": "2022-06-13T18:44:42.265Z"
   },
   {
    "duration": 20,
    "start_time": "2022-06-13T18:44:42.275Z"
   },
   {
    "duration": 102,
    "start_time": "2022-06-13T18:44:42.297Z"
   },
   {
    "duration": 7,
    "start_time": "2022-06-13T18:44:42.401Z"
   },
   {
    "duration": 6,
    "start_time": "2022-06-13T18:44:42.410Z"
   },
   {
    "duration": 7,
    "start_time": "2022-06-13T18:44:42.418Z"
   },
   {
    "duration": 8,
    "start_time": "2022-06-13T18:44:42.426Z"
   },
   {
    "duration": 24,
    "start_time": "2022-06-13T18:44:42.436Z"
   },
   {
    "duration": 32,
    "start_time": "2022-06-13T18:44:42.462Z"
   },
   {
    "duration": 8,
    "start_time": "2022-06-13T18:44:42.497Z"
   },
   {
    "duration": 16,
    "start_time": "2022-06-13T18:44:42.506Z"
   },
   {
    "duration": 32,
    "start_time": "2022-06-13T18:44:42.524Z"
   },
   {
    "duration": 17,
    "start_time": "2022-06-13T18:44:42.558Z"
   },
   {
    "duration": 7,
    "start_time": "2022-06-13T18:44:42.576Z"
   },
   {
    "duration": 7,
    "start_time": "2022-06-13T18:44:42.585Z"
   },
   {
    "duration": 6,
    "start_time": "2022-06-13T18:44:42.594Z"
   },
   {
    "duration": 26,
    "start_time": "2022-06-13T18:44:42.602Z"
   },
   {
    "duration": 4,
    "start_time": "2022-06-13T18:44:42.630Z"
   },
   {
    "duration": 11,
    "start_time": "2022-06-13T18:44:42.636Z"
   },
   {
    "duration": 8,
    "start_time": "2022-06-13T18:44:42.649Z"
   },
   {
    "duration": 10,
    "start_time": "2022-06-13T18:44:42.659Z"
   },
   {
    "duration": 6,
    "start_time": "2022-06-13T18:44:42.671Z"
   },
   {
    "duration": 3,
    "start_time": "2022-06-13T18:44:42.695Z"
   },
   {
    "duration": 9,
    "start_time": "2022-06-13T18:44:42.700Z"
   },
   {
    "duration": 7,
    "start_time": "2022-06-13T18:44:42.711Z"
   },
   {
    "duration": 8,
    "start_time": "2022-06-13T18:44:42.719Z"
   },
   {
    "duration": 6,
    "start_time": "2022-06-13T18:44:42.728Z"
   },
   {
    "duration": 6,
    "start_time": "2022-06-13T18:44:42.736Z"
   },
   {
    "duration": 4251,
    "start_time": "2022-06-13T18:44:42.743Z"
   },
   {
    "duration": 7,
    "start_time": "2022-06-13T18:44:46.996Z"
   },
   {
    "duration": 24,
    "start_time": "2022-06-13T18:44:47.005Z"
   },
   {
    "duration": 26,
    "start_time": "2022-06-13T18:44:47.030Z"
   },
   {
    "duration": 13,
    "start_time": "2022-06-13T18:44:47.058Z"
   },
   {
    "duration": 26,
    "start_time": "2022-06-13T18:44:47.080Z"
   },
   {
    "duration": 12,
    "start_time": "2022-06-13T18:44:47.107Z"
   },
   {
    "duration": 19,
    "start_time": "2022-06-13T18:44:47.120Z"
   },
   {
    "duration": 32,
    "start_time": "2022-06-13T18:44:47.141Z"
   },
   {
    "duration": 8,
    "start_time": "2022-06-13T18:44:47.175Z"
   },
   {
    "duration": 21,
    "start_time": "2022-06-13T18:44:47.185Z"
   },
   {
    "duration": 16,
    "start_time": "2022-06-13T18:44:47.208Z"
   },
   {
    "duration": 220,
    "start_time": "2022-06-13T18:44:47.226Z"
   },
   {
    "duration": 14,
    "start_time": "2022-06-13T18:44:47.448Z"
   },
   {
    "duration": 0,
    "start_time": "2022-06-13T18:44:47.464Z"
   },
   {
    "duration": 0,
    "start_time": "2022-06-13T18:44:47.465Z"
   },
   {
    "duration": 0,
    "start_time": "2022-06-13T18:44:47.467Z"
   },
   {
    "duration": 0,
    "start_time": "2022-06-13T18:44:47.468Z"
   },
   {
    "duration": 0,
    "start_time": "2022-06-13T18:44:47.469Z"
   },
   {
    "duration": 0,
    "start_time": "2022-06-13T18:44:47.471Z"
   },
   {
    "duration": 0,
    "start_time": "2022-06-13T18:44:47.495Z"
   },
   {
    "duration": 0,
    "start_time": "2022-06-13T18:44:47.497Z"
   },
   {
    "duration": 0,
    "start_time": "2022-06-13T18:44:47.498Z"
   },
   {
    "duration": 0,
    "start_time": "2022-06-13T18:44:47.500Z"
   },
   {
    "duration": 0,
    "start_time": "2022-06-13T18:44:47.502Z"
   },
   {
    "duration": 13,
    "start_time": "2022-06-13T18:45:00.742Z"
   },
   {
    "duration": 5,
    "start_time": "2022-06-13T18:45:41.379Z"
   },
   {
    "duration": 3,
    "start_time": "2022-06-13T18:45:50.328Z"
   },
   {
    "duration": 4,
    "start_time": "2022-06-13T18:45:52.510Z"
   },
   {
    "duration": 36,
    "start_time": "2022-06-13T18:45:57.004Z"
   },
   {
    "duration": 5948,
    "start_time": "2022-06-14T16:45:45.749Z"
   },
   {
    "duration": 151,
    "start_time": "2022-06-14T16:45:51.699Z"
   },
   {
    "duration": 11,
    "start_time": "2022-06-14T16:45:51.852Z"
   },
   {
    "duration": 19,
    "start_time": "2022-06-14T16:45:51.865Z"
   },
   {
    "duration": 9,
    "start_time": "2022-06-14T16:45:51.885Z"
   },
   {
    "duration": 13,
    "start_time": "2022-06-14T16:45:51.895Z"
   },
   {
    "duration": 32,
    "start_time": "2022-06-14T16:45:51.909Z"
   },
   {
    "duration": 23,
    "start_time": "2022-06-14T16:45:51.942Z"
   },
   {
    "duration": 17,
    "start_time": "2022-06-14T16:45:51.967Z"
   },
   {
    "duration": 13,
    "start_time": "2022-06-14T16:45:51.987Z"
   },
   {
    "duration": 25,
    "start_time": "2022-06-14T16:45:52.001Z"
   },
   {
    "duration": 23,
    "start_time": "2022-06-14T16:45:52.027Z"
   },
   {
    "duration": 19,
    "start_time": "2022-06-14T16:45:52.051Z"
   },
   {
    "duration": 8,
    "start_time": "2022-06-14T16:45:52.072Z"
   },
   {
    "duration": 30,
    "start_time": "2022-06-14T16:45:52.081Z"
   },
   {
    "duration": 8,
    "start_time": "2022-06-14T16:45:52.112Z"
   },
   {
    "duration": 135,
    "start_time": "2022-06-14T16:45:52.121Z"
   },
   {
    "duration": 102,
    "start_time": "2022-06-14T16:45:52.257Z"
   },
   {
    "duration": 7,
    "start_time": "2022-06-14T16:45:52.361Z"
   },
   {
    "duration": 15,
    "start_time": "2022-06-14T16:45:52.370Z"
   },
   {
    "duration": 130,
    "start_time": "2022-06-14T16:45:52.386Z"
   },
   {
    "duration": 21,
    "start_time": "2022-06-14T16:45:52.517Z"
   },
   {
    "duration": 38,
    "start_time": "2022-06-14T16:45:52.539Z"
   },
   {
    "duration": 129,
    "start_time": "2022-06-14T16:45:52.579Z"
   },
   {
    "duration": 8,
    "start_time": "2022-06-14T16:45:52.709Z"
   },
   {
    "duration": 23,
    "start_time": "2022-06-14T16:45:52.734Z"
   },
   {
    "duration": 119,
    "start_time": "2022-06-14T16:45:52.759Z"
   },
   {
    "duration": 10,
    "start_time": "2022-06-14T16:45:52.881Z"
   },
   {
    "duration": 26,
    "start_time": "2022-06-14T16:45:52.892Z"
   },
   {
    "duration": 139,
    "start_time": "2022-06-14T16:45:52.919Z"
   },
   {
    "duration": 7,
    "start_time": "2022-06-14T16:45:53.060Z"
   },
   {
    "duration": 15,
    "start_time": "2022-06-14T16:45:53.068Z"
   },
   {
    "duration": 25,
    "start_time": "2022-06-14T16:45:53.085Z"
   },
   {
    "duration": 26,
    "start_time": "2022-06-14T16:45:53.112Z"
   },
   {
    "duration": 35,
    "start_time": "2022-06-14T16:45:53.139Z"
   },
   {
    "duration": 12,
    "start_time": "2022-06-14T16:45:53.176Z"
   },
   {
    "duration": 20,
    "start_time": "2022-06-14T16:45:53.189Z"
   },
   {
    "duration": 24,
    "start_time": "2022-06-14T16:45:53.211Z"
   },
   {
    "duration": 26,
    "start_time": "2022-06-14T16:45:53.244Z"
   },
   {
    "duration": 27,
    "start_time": "2022-06-14T16:45:53.272Z"
   },
   {
    "duration": 14,
    "start_time": "2022-06-14T16:45:53.300Z"
   },
   {
    "duration": 8,
    "start_time": "2022-06-14T16:45:53.316Z"
   },
   {
    "duration": 37,
    "start_time": "2022-06-14T16:45:53.325Z"
   },
   {
    "duration": 16,
    "start_time": "2022-06-14T16:45:53.363Z"
   },
   {
    "duration": 13,
    "start_time": "2022-06-14T16:45:53.380Z"
   },
   {
    "duration": 14,
    "start_time": "2022-06-14T16:45:53.395Z"
   },
   {
    "duration": 13,
    "start_time": "2022-06-14T16:45:53.410Z"
   },
   {
    "duration": 39,
    "start_time": "2022-06-14T16:45:53.424Z"
   },
   {
    "duration": 19,
    "start_time": "2022-06-14T16:45:53.465Z"
   },
   {
    "duration": 95,
    "start_time": "2022-06-14T16:45:53.486Z"
   },
   {
    "duration": 3,
    "start_time": "2022-06-14T16:45:53.583Z"
   },
   {
    "duration": 31,
    "start_time": "2022-06-14T16:45:53.588Z"
   },
   {
    "duration": 3,
    "start_time": "2022-06-14T16:45:53.620Z"
   },
   {
    "duration": 31,
    "start_time": "2022-06-14T16:45:53.624Z"
   },
   {
    "duration": 8,
    "start_time": "2022-06-14T16:45:53.656Z"
   },
   {
    "duration": 5881,
    "start_time": "2022-06-14T16:45:53.666Z"
   },
   {
    "duration": 7,
    "start_time": "2022-06-14T16:45:59.551Z"
   },
   {
    "duration": 86,
    "start_time": "2022-06-14T16:45:59.559Z"
   },
   {
    "duration": 8,
    "start_time": "2022-06-14T16:45:59.646Z"
   },
   {
    "duration": 6,
    "start_time": "2022-06-14T16:45:59.656Z"
   },
   {
    "duration": 14,
    "start_time": "2022-06-14T16:45:59.663Z"
   },
   {
    "duration": 8,
    "start_time": "2022-06-14T16:45:59.678Z"
   },
   {
    "duration": 7,
    "start_time": "2022-06-14T16:45:59.687Z"
   },
   {
    "duration": 48,
    "start_time": "2022-06-14T16:45:59.698Z"
   },
   {
    "duration": 5,
    "start_time": "2022-06-14T16:45:59.747Z"
   },
   {
    "duration": 14,
    "start_time": "2022-06-14T16:45:59.754Z"
   },
   {
    "duration": 5,
    "start_time": "2022-06-14T16:45:59.770Z"
   },
   {
    "duration": 244,
    "start_time": "2022-06-14T16:45:59.777Z"
   },
   {
    "duration": 16,
    "start_time": "2022-06-14T16:46:00.023Z"
   },
   {
    "duration": 18,
    "start_time": "2022-06-14T16:46:00.044Z"
   },
   {
    "duration": 8,
    "start_time": "2022-06-14T16:46:00.063Z"
   },
   {
    "duration": 9,
    "start_time": "2022-06-14T16:46:00.074Z"
   },
   {
    "duration": 0,
    "start_time": "2022-06-14T16:46:00.085Z"
   },
   {
    "duration": 0,
    "start_time": "2022-06-14T16:46:00.086Z"
   },
   {
    "duration": 0,
    "start_time": "2022-06-14T16:46:00.087Z"
   },
   {
    "duration": 0,
    "start_time": "2022-06-14T16:46:00.088Z"
   },
   {
    "duration": 0,
    "start_time": "2022-06-14T16:46:00.089Z"
   },
   {
    "duration": 0,
    "start_time": "2022-06-14T16:46:00.091Z"
   },
   {
    "duration": 0,
    "start_time": "2022-06-14T16:46:00.092Z"
   },
   {
    "duration": 0,
    "start_time": "2022-06-14T16:46:00.093Z"
   },
   {
    "duration": 36,
    "start_time": "2022-06-14T16:48:10.748Z"
   },
   {
    "duration": 24,
    "start_time": "2022-06-14T16:48:41.843Z"
   },
   {
    "duration": 26,
    "start_time": "2022-06-14T16:49:02.479Z"
   },
   {
    "duration": 22,
    "start_time": "2022-06-14T16:51:43.439Z"
   },
   {
    "duration": 138,
    "start_time": "2022-06-14T16:52:29.798Z"
   },
   {
    "duration": 18,
    "start_time": "2022-06-14T16:53:03.807Z"
   },
   {
    "duration": 34,
    "start_time": "2022-06-14T16:53:26.870Z"
   },
   {
    "duration": 33,
    "start_time": "2022-06-14T16:58:21.926Z"
   },
   {
    "duration": 24,
    "start_time": "2022-06-14T17:00:34.124Z"
   },
   {
    "duration": 31,
    "start_time": "2022-06-14T17:38:11.826Z"
   },
   {
    "duration": 16,
    "start_time": "2022-06-14T17:38:37.677Z"
   },
   {
    "duration": 22,
    "start_time": "2022-06-14T17:38:54.358Z"
   },
   {
    "duration": 28,
    "start_time": "2022-06-14T17:39:50.346Z"
   },
   {
    "duration": 5,
    "start_time": "2022-06-14T17:40:24.451Z"
   },
   {
    "duration": 27,
    "start_time": "2022-06-14T17:40:26.556Z"
   },
   {
    "duration": 17,
    "start_time": "2022-06-14T17:45:09.145Z"
   },
   {
    "duration": 3,
    "start_time": "2022-06-14T17:45:55.971Z"
   },
   {
    "duration": 3,
    "start_time": "2022-06-14T17:45:57.553Z"
   },
   {
    "duration": 29,
    "start_time": "2022-06-14T17:45:57.582Z"
   },
   {
    "duration": 47,
    "start_time": "2022-06-14T17:46:37.026Z"
   },
   {
    "duration": 20,
    "start_time": "2022-06-14T17:47:09.762Z"
   },
   {
    "duration": 29,
    "start_time": "2022-06-14T17:52:36.251Z"
   },
   {
    "duration": 20,
    "start_time": "2022-06-14T17:53:27.186Z"
   },
   {
    "duration": 3,
    "start_time": "2022-06-14T17:56:21.275Z"
   },
   {
    "duration": 4,
    "start_time": "2022-06-14T17:56:21.871Z"
   },
   {
    "duration": 21,
    "start_time": "2022-06-14T17:56:22.702Z"
   },
   {
    "duration": 32,
    "start_time": "2022-06-14T17:56:58.854Z"
   },
   {
    "duration": 5,
    "start_time": "2022-06-14T17:57:16.058Z"
   },
   {
    "duration": 8,
    "start_time": "2022-06-14T17:57:19.345Z"
   },
   {
    "duration": 20,
    "start_time": "2022-06-14T17:57:19.380Z"
   },
   {
    "duration": 54,
    "start_time": "2022-06-14T17:58:22.318Z"
   },
   {
    "duration": 22,
    "start_time": "2022-06-14T18:03:28.267Z"
   },
   {
    "duration": 21,
    "start_time": "2022-06-14T18:04:01.752Z"
   },
   {
    "duration": 22,
    "start_time": "2022-06-14T18:10:36.798Z"
   },
   {
    "duration": 19,
    "start_time": "2022-06-14T18:10:43.085Z"
   },
   {
    "duration": 3,
    "start_time": "2022-06-14T18:11:55.814Z"
   },
   {
    "duration": 3,
    "start_time": "2022-06-14T18:12:10.015Z"
   },
   {
    "duration": 3,
    "start_time": "2022-06-14T18:12:21.267Z"
   },
   {
    "duration": 20,
    "start_time": "2022-06-14T18:12:24.355Z"
   },
   {
    "duration": 25,
    "start_time": "2022-06-14T18:14:03.187Z"
   },
   {
    "duration": 59,
    "start_time": "2022-06-14T18:19:09.034Z"
   },
   {
    "duration": 9,
    "start_time": "2022-06-14T18:19:52.073Z"
   },
   {
    "duration": 1680,
    "start_time": "2022-06-14T18:19:57.450Z"
   },
   {
    "duration": 82,
    "start_time": "2022-06-14T18:19:59.137Z"
   },
   {
    "duration": 15,
    "start_time": "2022-06-14T18:19:59.220Z"
   },
   {
    "duration": 15,
    "start_time": "2022-06-14T18:19:59.238Z"
   },
   {
    "duration": 14,
    "start_time": "2022-06-14T18:19:59.255Z"
   },
   {
    "duration": 9,
    "start_time": "2022-06-14T18:19:59.271Z"
   },
   {
    "duration": 8,
    "start_time": "2022-06-14T18:19:59.281Z"
   },
   {
    "duration": 8,
    "start_time": "2022-06-14T18:19:59.290Z"
   },
   {
    "duration": 7,
    "start_time": "2022-06-14T18:19:59.300Z"
   },
   {
    "duration": 41,
    "start_time": "2022-06-14T18:19:59.310Z"
   },
   {
    "duration": 13,
    "start_time": "2022-06-14T18:19:59.352Z"
   },
   {
    "duration": 10,
    "start_time": "2022-06-14T18:19:59.366Z"
   },
   {
    "duration": 10,
    "start_time": "2022-06-14T18:19:59.377Z"
   },
   {
    "duration": 6,
    "start_time": "2022-06-14T18:19:59.389Z"
   },
   {
    "duration": 8,
    "start_time": "2022-06-14T18:19:59.396Z"
   },
   {
    "duration": 5,
    "start_time": "2022-06-14T18:19:59.405Z"
   },
   {
    "duration": 104,
    "start_time": "2022-06-14T18:19:59.412Z"
   },
   {
    "duration": 95,
    "start_time": "2022-06-14T18:19:59.518Z"
   },
   {
    "duration": 20,
    "start_time": "2022-06-14T18:19:59.615Z"
   },
   {
    "duration": 4,
    "start_time": "2022-06-14T18:19:59.639Z"
   },
   {
    "duration": 107,
    "start_time": "2022-06-14T18:19:59.644Z"
   },
   {
    "duration": 8,
    "start_time": "2022-06-14T18:19:59.753Z"
   },
   {
    "duration": 6,
    "start_time": "2022-06-14T18:19:59.762Z"
   },
   {
    "duration": 113,
    "start_time": "2022-06-14T18:19:59.770Z"
   },
   {
    "duration": 7,
    "start_time": "2022-06-14T18:19:59.884Z"
   },
   {
    "duration": 7,
    "start_time": "2022-06-14T18:19:59.892Z"
   },
   {
    "duration": 100,
    "start_time": "2022-06-14T18:19:59.900Z"
   },
   {
    "duration": 6,
    "start_time": "2022-06-14T18:20:00.004Z"
   },
   {
    "duration": 21,
    "start_time": "2022-06-14T18:20:00.012Z"
   },
   {
    "duration": 97,
    "start_time": "2022-06-14T18:20:00.043Z"
   },
   {
    "duration": 8,
    "start_time": "2022-06-14T18:20:00.142Z"
   },
   {
    "duration": 10,
    "start_time": "2022-06-14T18:20:00.151Z"
   },
   {
    "duration": 6,
    "start_time": "2022-06-14T18:20:00.162Z"
   },
   {
    "duration": 7,
    "start_time": "2022-06-14T18:20:00.170Z"
   },
   {
    "duration": 21,
    "start_time": "2022-06-14T18:20:00.179Z"
   },
   {
    "duration": 14,
    "start_time": "2022-06-14T18:20:00.201Z"
   },
   {
    "duration": 22,
    "start_time": "2022-06-14T18:20:00.216Z"
   },
   {
    "duration": 17,
    "start_time": "2022-06-14T18:20:00.240Z"
   },
   {
    "duration": 15,
    "start_time": "2022-06-14T18:20:00.259Z"
   },
   {
    "duration": 17,
    "start_time": "2022-06-14T18:20:00.276Z"
   },
   {
    "duration": 11,
    "start_time": "2022-06-14T18:20:00.295Z"
   },
   {
    "duration": 7,
    "start_time": "2022-06-14T18:20:00.307Z"
   },
   {
    "duration": 18,
    "start_time": "2022-06-14T18:20:00.315Z"
   },
   {
    "duration": 22,
    "start_time": "2022-06-14T18:20:00.342Z"
   },
   {
    "duration": 12,
    "start_time": "2022-06-14T18:20:00.366Z"
   },
   {
    "duration": 8,
    "start_time": "2022-06-14T18:20:00.380Z"
   },
   {
    "duration": 8,
    "start_time": "2022-06-14T18:20:00.390Z"
   },
   {
    "duration": 17,
    "start_time": "2022-06-14T18:20:00.399Z"
   },
   {
    "duration": 8,
    "start_time": "2022-06-14T18:20:00.417Z"
   },
   {
    "duration": 29,
    "start_time": "2022-06-14T18:20:00.428Z"
   },
   {
    "duration": 26,
    "start_time": "2022-06-14T18:20:00.459Z"
   },
   {
    "duration": 26,
    "start_time": "2022-06-14T18:20:00.487Z"
   },
   {
    "duration": 33,
    "start_time": "2022-06-14T18:20:00.515Z"
   },
   {
    "duration": 30,
    "start_time": "2022-06-14T18:20:00.549Z"
   },
   {
    "duration": 19,
    "start_time": "2022-06-14T18:20:00.580Z"
   },
   {
    "duration": 4841,
    "start_time": "2022-06-14T18:20:00.600Z"
   },
   {
    "duration": 5,
    "start_time": "2022-06-14T18:20:05.443Z"
   },
   {
    "duration": 16,
    "start_time": "2022-06-14T18:20:05.449Z"
   },
   {
    "duration": 18,
    "start_time": "2022-06-14T18:20:05.466Z"
   },
   {
    "duration": 3,
    "start_time": "2022-06-14T18:20:05.539Z"
   },
   {
    "duration": 17,
    "start_time": "2022-06-14T18:20:05.544Z"
   },
   {
    "duration": 8,
    "start_time": "2022-06-14T18:20:05.563Z"
   },
   {
    "duration": 7,
    "start_time": "2022-06-14T18:20:05.572Z"
   },
   {
    "duration": 24,
    "start_time": "2022-06-14T18:20:05.581Z"
   },
   {
    "duration": 8,
    "start_time": "2022-06-14T18:20:05.606Z"
   },
   {
    "duration": 36,
    "start_time": "2022-06-14T18:20:05.615Z"
   },
   {
    "duration": 7,
    "start_time": "2022-06-14T18:20:05.653Z"
   },
   {
    "duration": 215,
    "start_time": "2022-06-14T18:20:05.662Z"
   },
   {
    "duration": 5,
    "start_time": "2022-06-14T18:20:05.879Z"
   },
   {
    "duration": 12,
    "start_time": "2022-06-14T18:20:05.885Z"
   },
   {
    "duration": 8,
    "start_time": "2022-06-14T18:20:05.898Z"
   },
   {
    "duration": 5,
    "start_time": "2022-06-14T18:20:05.908Z"
   },
   {
    "duration": 129,
    "start_time": "2022-06-14T18:20:05.918Z"
   },
   {
    "duration": 0,
    "start_time": "2022-06-14T18:20:06.048Z"
   },
   {
    "duration": 0,
    "start_time": "2022-06-14T18:20:06.049Z"
   },
   {
    "duration": 0,
    "start_time": "2022-06-14T18:20:06.050Z"
   },
   {
    "duration": 0,
    "start_time": "2022-06-14T18:20:06.051Z"
   },
   {
    "duration": 0,
    "start_time": "2022-06-14T18:20:06.053Z"
   },
   {
    "duration": 0,
    "start_time": "2022-06-14T18:20:06.054Z"
   },
   {
    "duration": 0,
    "start_time": "2022-06-14T18:20:06.055Z"
   },
   {
    "duration": 0,
    "start_time": "2022-06-14T18:20:06.056Z"
   },
   {
    "duration": 1973,
    "start_time": "2022-06-14T18:23:05.496Z"
   },
   {
    "duration": 47,
    "start_time": "2022-06-14T18:23:07.470Z"
   },
   {
    "duration": 14,
    "start_time": "2022-06-14T18:23:07.518Z"
   },
   {
    "duration": 19,
    "start_time": "2022-06-14T18:23:07.538Z"
   },
   {
    "duration": 18,
    "start_time": "2022-06-14T18:23:07.559Z"
   },
   {
    "duration": 21,
    "start_time": "2022-06-14T18:23:07.579Z"
   },
   {
    "duration": 21,
    "start_time": "2022-06-14T18:23:07.601Z"
   },
   {
    "duration": 35,
    "start_time": "2022-06-14T18:23:07.623Z"
   },
   {
    "duration": 26,
    "start_time": "2022-06-14T18:23:07.659Z"
   },
   {
    "duration": 12,
    "start_time": "2022-06-14T18:23:07.687Z"
   },
   {
    "duration": 7,
    "start_time": "2022-06-14T18:23:07.700Z"
   },
   {
    "duration": 15,
    "start_time": "2022-06-14T18:23:07.708Z"
   },
   {
    "duration": 18,
    "start_time": "2022-06-14T18:23:07.725Z"
   },
   {
    "duration": 21,
    "start_time": "2022-06-14T18:23:07.745Z"
   },
   {
    "duration": 10,
    "start_time": "2022-06-14T18:23:07.768Z"
   },
   {
    "duration": 16,
    "start_time": "2022-06-14T18:23:07.779Z"
   },
   {
    "duration": 118,
    "start_time": "2022-06-14T18:23:07.797Z"
   },
   {
    "duration": 99,
    "start_time": "2022-06-14T18:23:07.916Z"
   },
   {
    "duration": 16,
    "start_time": "2022-06-14T18:23:08.028Z"
   },
   {
    "duration": 7,
    "start_time": "2022-06-14T18:23:08.047Z"
   },
   {
    "duration": 111,
    "start_time": "2022-06-14T18:23:08.056Z"
   },
   {
    "duration": 7,
    "start_time": "2022-06-14T18:23:08.169Z"
   },
   {
    "duration": 7,
    "start_time": "2022-06-14T18:23:08.178Z"
   },
   {
    "duration": 120,
    "start_time": "2022-06-14T18:23:08.186Z"
   },
   {
    "duration": 8,
    "start_time": "2022-06-14T18:23:08.308Z"
   },
   {
    "duration": 7,
    "start_time": "2022-06-14T18:23:08.327Z"
   },
   {
    "duration": 118,
    "start_time": "2022-06-14T18:23:08.336Z"
   },
   {
    "duration": 10,
    "start_time": "2022-06-14T18:23:08.459Z"
   },
   {
    "duration": 11,
    "start_time": "2022-06-14T18:23:08.470Z"
   },
   {
    "duration": 108,
    "start_time": "2022-06-14T18:23:08.482Z"
   },
   {
    "duration": 8,
    "start_time": "2022-06-14T18:23:08.591Z"
   },
   {
    "duration": 6,
    "start_time": "2022-06-14T18:23:08.600Z"
   },
   {
    "duration": 22,
    "start_time": "2022-06-14T18:23:08.608Z"
   },
   {
    "duration": 13,
    "start_time": "2022-06-14T18:23:08.633Z"
   },
   {
    "duration": 20,
    "start_time": "2022-06-14T18:23:08.648Z"
   },
   {
    "duration": 8,
    "start_time": "2022-06-14T18:23:08.669Z"
   },
   {
    "duration": 10,
    "start_time": "2022-06-14T18:23:08.678Z"
   },
   {
    "duration": 10,
    "start_time": "2022-06-14T18:23:08.690Z"
   },
   {
    "duration": 16,
    "start_time": "2022-06-14T18:23:08.702Z"
   },
   {
    "duration": 24,
    "start_time": "2022-06-14T18:23:08.719Z"
   },
   {
    "duration": 5,
    "start_time": "2022-06-14T18:23:08.745Z"
   },
   {
    "duration": 7,
    "start_time": "2022-06-14T18:23:08.752Z"
   },
   {
    "duration": 14,
    "start_time": "2022-06-14T18:23:08.760Z"
   },
   {
    "duration": 17,
    "start_time": "2022-06-14T18:23:08.775Z"
   },
   {
    "duration": 8,
    "start_time": "2022-06-14T18:23:08.794Z"
   },
   {
    "duration": 11,
    "start_time": "2022-06-14T18:23:08.803Z"
   },
   {
    "duration": 6,
    "start_time": "2022-06-14T18:23:08.815Z"
   },
   {
    "duration": 24,
    "start_time": "2022-06-14T18:23:08.822Z"
   },
   {
    "duration": 8,
    "start_time": "2022-06-14T18:23:08.847Z"
   },
   {
    "duration": 10,
    "start_time": "2022-06-14T18:23:08.856Z"
   },
   {
    "duration": 9,
    "start_time": "2022-06-14T18:23:08.867Z"
   },
   {
    "duration": 8,
    "start_time": "2022-06-14T18:23:08.877Z"
   },
   {
    "duration": 9,
    "start_time": "2022-06-14T18:23:08.887Z"
   },
   {
    "duration": 10,
    "start_time": "2022-06-14T18:23:08.898Z"
   },
   {
    "duration": 8,
    "start_time": "2022-06-14T18:23:08.909Z"
   },
   {
    "duration": 5231,
    "start_time": "2022-06-14T18:23:08.919Z"
   },
   {
    "duration": 8,
    "start_time": "2022-06-14T18:23:14.154Z"
   },
   {
    "duration": 80,
    "start_time": "2022-06-14T18:23:14.163Z"
   },
   {
    "duration": 56,
    "start_time": "2022-06-14T18:23:14.246Z"
   },
   {
    "duration": 44,
    "start_time": "2022-06-14T18:23:14.303Z"
   },
   {
    "duration": 41,
    "start_time": "2022-06-14T18:23:14.349Z"
   },
   {
    "duration": 14,
    "start_time": "2022-06-14T18:23:14.392Z"
   },
   {
    "duration": 11,
    "start_time": "2022-06-14T18:23:14.408Z"
   },
   {
    "duration": 56,
    "start_time": "2022-06-14T18:23:14.421Z"
   },
   {
    "duration": 13,
    "start_time": "2022-06-14T18:23:14.478Z"
   },
   {
    "duration": 15,
    "start_time": "2022-06-14T18:23:14.493Z"
   },
   {
    "duration": 12,
    "start_time": "2022-06-14T18:23:14.509Z"
   },
   {
    "duration": 241,
    "start_time": "2022-06-14T18:23:14.522Z"
   },
   {
    "duration": 5,
    "start_time": "2022-06-14T18:23:14.765Z"
   },
   {
    "duration": 16,
    "start_time": "2022-06-14T18:23:14.772Z"
   },
   {
    "duration": 7,
    "start_time": "2022-06-14T18:23:14.789Z"
   },
   {
    "duration": 11,
    "start_time": "2022-06-14T18:23:14.797Z"
   },
   {
    "duration": 185,
    "start_time": "2022-06-14T18:23:14.810Z"
   },
   {
    "duration": 0,
    "start_time": "2022-06-14T18:23:14.996Z"
   },
   {
    "duration": 0,
    "start_time": "2022-06-14T18:23:14.998Z"
   },
   {
    "duration": 0,
    "start_time": "2022-06-14T18:23:14.999Z"
   },
   {
    "duration": 0,
    "start_time": "2022-06-14T18:23:15.000Z"
   },
   {
    "duration": 0,
    "start_time": "2022-06-14T18:23:15.002Z"
   },
   {
    "duration": 0,
    "start_time": "2022-06-14T18:23:15.003Z"
   },
   {
    "duration": 0,
    "start_time": "2022-06-14T18:23:15.004Z"
   },
   {
    "duration": 0,
    "start_time": "2022-06-14T18:23:15.005Z"
   },
   {
    "duration": 23,
    "start_time": "2022-06-14T18:36:29.660Z"
   },
   {
    "duration": 23,
    "start_time": "2022-06-14T18:37:31.272Z"
   },
   {
    "duration": 2146,
    "start_time": "2022-06-14T20:04:25.308Z"
   },
   {
    "duration": 129,
    "start_time": "2022-06-14T20:04:27.456Z"
   },
   {
    "duration": 14,
    "start_time": "2022-06-14T20:04:27.587Z"
   },
   {
    "duration": 5,
    "start_time": "2022-06-14T20:04:27.603Z"
   },
   {
    "duration": 8,
    "start_time": "2022-06-14T20:04:27.609Z"
   },
   {
    "duration": 10,
    "start_time": "2022-06-14T20:04:27.619Z"
   },
   {
    "duration": 29,
    "start_time": "2022-06-14T20:04:27.631Z"
   },
   {
    "duration": 7,
    "start_time": "2022-06-14T20:04:27.661Z"
   },
   {
    "duration": 12,
    "start_time": "2022-06-14T20:04:27.670Z"
   },
   {
    "duration": 8,
    "start_time": "2022-06-14T20:04:27.685Z"
   },
   {
    "duration": 7,
    "start_time": "2022-06-14T20:04:27.695Z"
   },
   {
    "duration": 14,
    "start_time": "2022-06-14T20:04:27.704Z"
   },
   {
    "duration": 9,
    "start_time": "2022-06-14T20:04:27.720Z"
   },
   {
    "duration": 6,
    "start_time": "2022-06-14T20:04:27.731Z"
   },
   {
    "duration": 7,
    "start_time": "2022-06-14T20:04:27.758Z"
   },
   {
    "duration": 14,
    "start_time": "2022-06-14T20:04:27.767Z"
   },
   {
    "duration": 130,
    "start_time": "2022-06-14T20:04:27.784Z"
   },
   {
    "duration": 112,
    "start_time": "2022-06-14T20:04:27.916Z"
   },
   {
    "duration": 8,
    "start_time": "2022-06-14T20:04:28.030Z"
   },
   {
    "duration": 4,
    "start_time": "2022-06-14T20:04:28.039Z"
   },
   {
    "duration": 133,
    "start_time": "2022-06-14T20:04:28.059Z"
   },
   {
    "duration": 8,
    "start_time": "2022-06-14T20:04:28.193Z"
   },
   {
    "duration": 6,
    "start_time": "2022-06-14T20:04:28.203Z"
   },
   {
    "duration": 138,
    "start_time": "2022-06-14T20:04:28.210Z"
   },
   {
    "duration": 8,
    "start_time": "2022-06-14T20:04:28.358Z"
   },
   {
    "duration": 17,
    "start_time": "2022-06-14T20:04:28.367Z"
   },
   {
    "duration": 121,
    "start_time": "2022-06-14T20:04:28.386Z"
   },
   {
    "duration": 8,
    "start_time": "2022-06-14T20:04:28.511Z"
   },
   {
    "duration": 7,
    "start_time": "2022-06-14T20:04:28.521Z"
   },
   {
    "duration": 119,
    "start_time": "2022-06-14T20:04:28.530Z"
   },
   {
    "duration": 10,
    "start_time": "2022-06-14T20:04:28.658Z"
   },
   {
    "duration": 12,
    "start_time": "2022-06-14T20:04:28.670Z"
   },
   {
    "duration": 7,
    "start_time": "2022-06-14T20:04:28.684Z"
   },
   {
    "duration": 7,
    "start_time": "2022-06-14T20:04:28.692Z"
   },
   {
    "duration": 22,
    "start_time": "2022-06-14T20:04:28.701Z"
   },
   {
    "duration": 4,
    "start_time": "2022-06-14T20:04:28.725Z"
   },
   {
    "duration": 31,
    "start_time": "2022-06-14T20:04:28.730Z"
   },
   {
    "duration": 14,
    "start_time": "2022-06-14T20:04:28.763Z"
   },
   {
    "duration": 10,
    "start_time": "2022-06-14T20:04:28.779Z"
   },
   {
    "duration": 17,
    "start_time": "2022-06-14T20:04:28.791Z"
   },
   {
    "duration": 13,
    "start_time": "2022-06-14T20:04:28.809Z"
   },
   {
    "duration": 15,
    "start_time": "2022-06-14T20:04:28.825Z"
   },
   {
    "duration": 33,
    "start_time": "2022-06-14T20:04:28.842Z"
   },
   {
    "duration": 17,
    "start_time": "2022-06-14T20:04:28.877Z"
   },
   {
    "duration": 3,
    "start_time": "2022-06-14T20:04:28.897Z"
   },
   {
    "duration": 5,
    "start_time": "2022-06-14T20:04:28.902Z"
   },
   {
    "duration": 6,
    "start_time": "2022-06-14T20:04:28.908Z"
   },
   {
    "duration": 13,
    "start_time": "2022-06-14T20:04:28.915Z"
   },
   {
    "duration": 7,
    "start_time": "2022-06-14T20:04:28.930Z"
   },
   {
    "duration": 5,
    "start_time": "2022-06-14T20:04:28.959Z"
   },
   {
    "duration": 6,
    "start_time": "2022-06-14T20:04:28.966Z"
   },
   {
    "duration": 7,
    "start_time": "2022-06-14T20:04:28.973Z"
   },
   {
    "duration": 4,
    "start_time": "2022-06-14T20:04:28.982Z"
   },
   {
    "duration": 7,
    "start_time": "2022-06-14T20:04:28.988Z"
   },
   {
    "duration": 5,
    "start_time": "2022-06-14T20:04:28.996Z"
   },
   {
    "duration": 4680,
    "start_time": "2022-06-14T20:04:29.003Z"
   },
   {
    "duration": 75,
    "start_time": "2022-06-14T20:04:33.685Z"
   },
   {
    "duration": 22,
    "start_time": "2022-06-14T20:04:33.762Z"
   },
   {
    "duration": 13,
    "start_time": "2022-06-14T20:04:33.786Z"
   },
   {
    "duration": 7,
    "start_time": "2022-06-14T20:04:33.802Z"
   },
   {
    "duration": 23,
    "start_time": "2022-06-14T20:04:33.811Z"
   },
   {
    "duration": 23,
    "start_time": "2022-06-14T20:04:33.836Z"
   },
   {
    "duration": 8,
    "start_time": "2022-06-14T20:04:33.861Z"
   },
   {
    "duration": 19,
    "start_time": "2022-06-14T20:04:33.871Z"
   },
   {
    "duration": 8,
    "start_time": "2022-06-14T20:04:33.892Z"
   },
   {
    "duration": 15,
    "start_time": "2022-06-14T20:04:33.902Z"
   },
   {
    "duration": 10,
    "start_time": "2022-06-14T20:04:33.919Z"
   },
   {
    "duration": 301,
    "start_time": "2022-06-14T20:04:33.931Z"
   },
   {
    "duration": 6,
    "start_time": "2022-06-14T20:04:34.234Z"
   },
   {
    "duration": 16,
    "start_time": "2022-06-14T20:04:34.242Z"
   },
   {
    "duration": 6,
    "start_time": "2022-06-14T20:04:34.260Z"
   },
   {
    "duration": 7,
    "start_time": "2022-06-14T20:04:34.268Z"
   },
   {
    "duration": 190,
    "start_time": "2022-06-14T20:04:34.278Z"
   },
   {
    "duration": 0,
    "start_time": "2022-06-14T20:04:34.470Z"
   },
   {
    "duration": 0,
    "start_time": "2022-06-14T20:04:34.472Z"
   },
   {
    "duration": 0,
    "start_time": "2022-06-14T20:04:34.473Z"
   },
   {
    "duration": 0,
    "start_time": "2022-06-14T20:04:34.474Z"
   },
   {
    "duration": 0,
    "start_time": "2022-06-14T20:04:34.475Z"
   },
   {
    "duration": 0,
    "start_time": "2022-06-14T20:04:34.476Z"
   },
   {
    "duration": 0,
    "start_time": "2022-06-14T20:04:34.477Z"
   },
   {
    "duration": 0,
    "start_time": "2022-06-14T20:04:34.478Z"
   },
   {
    "duration": 23,
    "start_time": "2022-06-14T20:05:47.147Z"
   },
   {
    "duration": 24,
    "start_time": "2022-06-14T20:06:50.556Z"
   },
   {
    "duration": 23,
    "start_time": "2022-06-14T20:07:17.124Z"
   },
   {
    "duration": 24,
    "start_time": "2022-06-14T20:07:27.752Z"
   },
   {
    "duration": 25,
    "start_time": "2022-06-14T20:26:03.258Z"
   },
   {
    "duration": 27,
    "start_time": "2022-06-14T20:26:11.999Z"
   },
   {
    "duration": 0,
    "start_time": "2022-06-14T20:55:11.181Z"
   },
   {
    "duration": 7,
    "start_time": "2022-06-14T20:55:25.223Z"
   },
   {
    "duration": 80,
    "start_time": "2022-06-14T20:55:25.231Z"
   },
   {
    "duration": 14,
    "start_time": "2022-06-14T20:55:25.312Z"
   },
   {
    "duration": 7,
    "start_time": "2022-06-14T20:55:25.328Z"
   },
   {
    "duration": 8,
    "start_time": "2022-06-14T20:55:25.337Z"
   },
   {
    "duration": 12,
    "start_time": "2022-06-14T20:55:25.347Z"
   },
   {
    "duration": 11,
    "start_time": "2022-06-14T20:55:25.361Z"
   },
   {
    "duration": 8,
    "start_time": "2022-06-14T20:55:25.374Z"
   },
   {
    "duration": 10,
    "start_time": "2022-06-14T20:55:25.385Z"
   },
   {
    "duration": 7,
    "start_time": "2022-06-14T20:55:25.397Z"
   },
   {
    "duration": 8,
    "start_time": "2022-06-14T20:55:25.406Z"
   },
   {
    "duration": 6,
    "start_time": "2022-06-14T20:55:25.458Z"
   },
   {
    "duration": 12,
    "start_time": "2022-06-14T20:55:25.466Z"
   },
   {
    "duration": 13,
    "start_time": "2022-06-14T20:55:25.480Z"
   },
   {
    "duration": 9,
    "start_time": "2022-06-14T20:55:25.494Z"
   },
   {
    "duration": 5,
    "start_time": "2022-06-14T20:55:25.505Z"
   },
   {
    "duration": 208,
    "start_time": "2022-06-14T20:55:25.512Z"
   },
   {
    "duration": 147,
    "start_time": "2022-06-14T20:55:25.722Z"
   },
   {
    "duration": 14,
    "start_time": "2022-06-14T20:55:25.870Z"
   },
   {
    "duration": 40,
    "start_time": "2022-06-14T20:55:25.887Z"
   },
   {
    "duration": 137,
    "start_time": "2022-06-14T20:55:25.929Z"
   },
   {
    "duration": 12,
    "start_time": "2022-06-14T20:55:26.068Z"
   },
   {
    "duration": 19,
    "start_time": "2022-06-14T20:55:26.082Z"
   },
   {
    "duration": 161,
    "start_time": "2022-06-14T20:55:26.106Z"
   },
   {
    "duration": 11,
    "start_time": "2022-06-14T20:55:26.269Z"
   },
   {
    "duration": 18,
    "start_time": "2022-06-14T20:55:26.281Z"
   },
   {
    "duration": 223,
    "start_time": "2022-06-14T20:55:26.301Z"
   },
   {
    "duration": 10,
    "start_time": "2022-06-14T20:55:26.526Z"
   },
   {
    "duration": 22,
    "start_time": "2022-06-14T20:55:26.540Z"
   },
   {
    "duration": 166,
    "start_time": "2022-06-14T20:55:26.564Z"
   },
   {
    "duration": 11,
    "start_time": "2022-06-14T20:55:26.734Z"
   },
   {
    "duration": 14,
    "start_time": "2022-06-14T20:55:26.747Z"
   },
   {
    "duration": 8,
    "start_time": "2022-06-14T20:55:26.764Z"
   },
   {
    "duration": 13,
    "start_time": "2022-06-14T20:55:26.774Z"
   },
   {
    "duration": 45,
    "start_time": "2022-06-14T20:55:26.790Z"
   },
   {
    "duration": 6,
    "start_time": "2022-06-14T20:55:26.838Z"
   },
   {
    "duration": 11,
    "start_time": "2022-06-14T20:55:26.846Z"
   },
   {
    "duration": 7,
    "start_time": "2022-06-14T20:55:26.859Z"
   },
   {
    "duration": 13,
    "start_time": "2022-06-14T20:55:26.868Z"
   },
   {
    "duration": 16,
    "start_time": "2022-06-14T20:55:26.883Z"
   },
   {
    "duration": 7,
    "start_time": "2022-06-14T20:55:26.901Z"
   },
   {
    "duration": 5,
    "start_time": "2022-06-14T20:55:26.910Z"
   },
   {
    "duration": 11,
    "start_time": "2022-06-14T20:55:26.917Z"
   },
   {
    "duration": 35,
    "start_time": "2022-06-14T20:55:26.930Z"
   },
   {
    "duration": 7,
    "start_time": "2022-06-14T20:55:26.967Z"
   },
   {
    "duration": 8,
    "start_time": "2022-06-14T20:55:26.976Z"
   },
   {
    "duration": 25,
    "start_time": "2022-06-14T20:55:26.986Z"
   },
   {
    "duration": 71,
    "start_time": "2022-06-14T20:55:27.013Z"
   },
   {
    "duration": 88,
    "start_time": "2022-06-14T20:55:27.086Z"
   },
   {
    "duration": 17,
    "start_time": "2022-06-14T20:55:27.176Z"
   },
   {
    "duration": 43,
    "start_time": "2022-06-14T20:55:27.195Z"
   },
   {
    "duration": 19,
    "start_time": "2022-06-14T20:55:27.240Z"
   },
   {
    "duration": 12,
    "start_time": "2022-06-14T20:55:27.260Z"
   },
   {
    "duration": 15,
    "start_time": "2022-06-14T20:55:27.273Z"
   },
   {
    "duration": 11,
    "start_time": "2022-06-14T20:55:27.289Z"
   },
   {
    "duration": 4878,
    "start_time": "2022-06-14T20:55:27.302Z"
   },
   {
    "duration": 77,
    "start_time": "2022-06-14T20:55:32.182Z"
   },
   {
    "duration": 15,
    "start_time": "2022-06-14T20:55:32.261Z"
   },
   {
    "duration": 10,
    "start_time": "2022-06-14T20:55:32.278Z"
   },
   {
    "duration": 6,
    "start_time": "2022-06-14T20:55:32.290Z"
   },
   {
    "duration": 20,
    "start_time": "2022-06-14T20:55:32.297Z"
   },
   {
    "duration": 42,
    "start_time": "2022-06-14T20:55:32.319Z"
   },
   {
    "duration": 8,
    "start_time": "2022-06-14T20:55:32.362Z"
   },
   {
    "duration": 22,
    "start_time": "2022-06-14T20:55:32.371Z"
   },
   {
    "duration": 7,
    "start_time": "2022-06-14T20:55:32.395Z"
   },
   {
    "duration": 15,
    "start_time": "2022-06-14T20:55:32.403Z"
   },
   {
    "duration": 39,
    "start_time": "2022-06-14T20:55:32.420Z"
   },
   {
    "duration": 258,
    "start_time": "2022-06-14T20:55:32.461Z"
   },
   {
    "duration": 6,
    "start_time": "2022-06-14T20:55:32.723Z"
   },
   {
    "duration": 8,
    "start_time": "2022-06-14T20:55:32.731Z"
   },
   {
    "duration": 19,
    "start_time": "2022-06-14T20:55:32.740Z"
   },
   {
    "duration": 14,
    "start_time": "2022-06-14T20:55:32.762Z"
   },
   {
    "duration": 43,
    "start_time": "2022-06-14T20:55:32.779Z"
   },
   {
    "duration": 0,
    "start_time": "2022-06-14T20:55:32.824Z"
   },
   {
    "duration": 0,
    "start_time": "2022-06-14T20:55:32.826Z"
   },
   {
    "duration": 0,
    "start_time": "2022-06-14T20:55:32.827Z"
   },
   {
    "duration": 0,
    "start_time": "2022-06-14T20:55:32.829Z"
   },
   {
    "duration": 0,
    "start_time": "2022-06-14T20:55:32.830Z"
   },
   {
    "duration": 0,
    "start_time": "2022-06-14T20:55:32.831Z"
   },
   {
    "duration": 0,
    "start_time": "2022-06-14T20:55:32.833Z"
   },
   {
    "duration": 0,
    "start_time": "2022-06-14T20:55:32.834Z"
   },
   {
    "duration": 11,
    "start_time": "2022-06-14T20:56:00.711Z"
   },
   {
    "duration": 15571,
    "start_time": "2022-06-14T20:56:22.120Z"
   },
   {
    "duration": 62,
    "start_time": "2022-06-14T20:57:10.937Z"
   },
   {
    "duration": 26,
    "start_time": "2022-06-14T20:57:16.255Z"
   },
   {
    "duration": 1891,
    "start_time": "2022-06-15T16:49:35.684Z"
   },
   {
    "duration": 99,
    "start_time": "2022-06-15T16:49:37.577Z"
   },
   {
    "duration": 11,
    "start_time": "2022-06-15T16:49:37.677Z"
   },
   {
    "duration": 5,
    "start_time": "2022-06-15T16:49:37.690Z"
   },
   {
    "duration": 8,
    "start_time": "2022-06-15T16:49:37.696Z"
   },
   {
    "duration": 6,
    "start_time": "2022-06-15T16:49:37.706Z"
   },
   {
    "duration": 7,
    "start_time": "2022-06-15T16:49:37.713Z"
   },
   {
    "duration": 6,
    "start_time": "2022-06-15T16:49:37.722Z"
   },
   {
    "duration": 6,
    "start_time": "2022-06-15T16:49:37.730Z"
   },
   {
    "duration": 4,
    "start_time": "2022-06-15T16:49:37.739Z"
   },
   {
    "duration": 5,
    "start_time": "2022-06-15T16:49:37.745Z"
   },
   {
    "duration": 6,
    "start_time": "2022-06-15T16:49:37.751Z"
   },
   {
    "duration": 4,
    "start_time": "2022-06-15T16:49:37.795Z"
   },
   {
    "duration": 5,
    "start_time": "2022-06-15T16:49:37.801Z"
   },
   {
    "duration": 8,
    "start_time": "2022-06-15T16:49:37.808Z"
   },
   {
    "duration": 5,
    "start_time": "2022-06-15T16:49:37.817Z"
   },
   {
    "duration": 119,
    "start_time": "2022-06-15T16:49:37.824Z"
   },
   {
    "duration": 98,
    "start_time": "2022-06-15T16:49:37.944Z"
   },
   {
    "duration": 8,
    "start_time": "2022-06-15T16:49:38.044Z"
   },
   {
    "duration": 5,
    "start_time": "2022-06-15T16:49:38.053Z"
   },
   {
    "duration": 151,
    "start_time": "2022-06-15T16:49:38.059Z"
   },
   {
    "duration": 8,
    "start_time": "2022-06-15T16:49:38.212Z"
   },
   {
    "duration": 7,
    "start_time": "2022-06-15T16:49:38.222Z"
   },
   {
    "duration": 130,
    "start_time": "2022-06-15T16:49:38.230Z"
   },
   {
    "duration": 8,
    "start_time": "2022-06-15T16:49:38.361Z"
   },
   {
    "duration": 9,
    "start_time": "2022-06-15T16:49:38.371Z"
   },
   {
    "duration": 102,
    "start_time": "2022-06-15T16:49:38.394Z"
   },
   {
    "duration": 8,
    "start_time": "2022-06-15T16:49:38.501Z"
   },
   {
    "duration": 4,
    "start_time": "2022-06-15T16:49:38.511Z"
   },
   {
    "duration": 104,
    "start_time": "2022-06-15T16:49:38.517Z"
   },
   {
    "duration": 7,
    "start_time": "2022-06-15T16:49:38.622Z"
   },
   {
    "duration": 6,
    "start_time": "2022-06-15T16:49:38.630Z"
   },
   {
    "duration": 7,
    "start_time": "2022-06-15T16:49:38.638Z"
   },
   {
    "duration": 8,
    "start_time": "2022-06-15T16:49:38.646Z"
   },
   {
    "duration": 15,
    "start_time": "2022-06-15T16:49:38.655Z"
   },
   {
    "duration": 4,
    "start_time": "2022-06-15T16:49:38.671Z"
   },
   {
    "duration": 23,
    "start_time": "2022-06-15T16:49:38.676Z"
   },
   {
    "duration": 6,
    "start_time": "2022-06-15T16:49:38.701Z"
   },
   {
    "duration": 8,
    "start_time": "2022-06-15T16:49:38.708Z"
   },
   {
    "duration": 14,
    "start_time": "2022-06-15T16:49:38.717Z"
   },
   {
    "duration": 9,
    "start_time": "2022-06-15T16:49:38.732Z"
   },
   {
    "duration": 5,
    "start_time": "2022-06-15T16:49:38.742Z"
   },
   {
    "duration": 11,
    "start_time": "2022-06-15T16:49:38.748Z"
   },
   {
    "duration": 14,
    "start_time": "2022-06-15T16:49:38.761Z"
   },
   {
    "duration": 17,
    "start_time": "2022-06-15T16:49:38.777Z"
   },
   {
    "duration": 3,
    "start_time": "2022-06-15T16:49:38.796Z"
   },
   {
    "duration": 6,
    "start_time": "2022-06-15T16:49:38.801Z"
   },
   {
    "duration": 9,
    "start_time": "2022-06-15T16:49:38.808Z"
   },
   {
    "duration": 8,
    "start_time": "2022-06-15T16:49:38.818Z"
   },
   {
    "duration": 9,
    "start_time": "2022-06-15T16:49:38.827Z"
   },
   {
    "duration": 4,
    "start_time": "2022-06-15T16:49:38.838Z"
   },
   {
    "duration": 9,
    "start_time": "2022-06-15T16:49:38.843Z"
   },
   {
    "duration": 3,
    "start_time": "2022-06-15T16:49:38.853Z"
   },
   {
    "duration": 7,
    "start_time": "2022-06-15T16:49:38.858Z"
   },
   {
    "duration": 6,
    "start_time": "2022-06-15T16:49:38.867Z"
   },
   {
    "duration": 4112,
    "start_time": "2022-06-15T16:49:38.895Z"
   },
   {
    "duration": 7,
    "start_time": "2022-06-15T16:49:43.009Z"
   },
   {
    "duration": 76,
    "start_time": "2022-06-15T16:49:43.018Z"
   },
   {
    "duration": 10,
    "start_time": "2022-06-15T16:49:43.096Z"
   },
   {
    "duration": 5,
    "start_time": "2022-06-15T16:49:43.107Z"
   },
   {
    "duration": 27,
    "start_time": "2022-06-15T16:49:43.114Z"
   },
   {
    "duration": 9,
    "start_time": "2022-06-15T16:49:43.142Z"
   },
   {
    "duration": 7,
    "start_time": "2022-06-15T16:49:43.152Z"
   },
   {
    "duration": 16,
    "start_time": "2022-06-15T16:49:43.160Z"
   },
   {
    "duration": 14,
    "start_time": "2022-06-15T16:49:43.178Z"
   },
   {
    "duration": 17,
    "start_time": "2022-06-15T16:49:43.194Z"
   },
   {
    "duration": 15,
    "start_time": "2022-06-15T16:49:43.212Z"
   },
   {
    "duration": 221,
    "start_time": "2022-06-15T16:49:43.228Z"
   },
   {
    "duration": 7,
    "start_time": "2022-06-15T16:49:43.451Z"
   },
   {
    "duration": 6,
    "start_time": "2022-06-15T16:49:43.460Z"
   },
   {
    "duration": 5,
    "start_time": "2022-06-15T16:49:43.468Z"
   },
   {
    "duration": 19,
    "start_time": "2022-06-15T16:49:43.475Z"
   },
   {
    "duration": 175,
    "start_time": "2022-06-15T16:49:43.497Z"
   },
   {
    "duration": 0,
    "start_time": "2022-06-15T16:49:43.674Z"
   },
   {
    "duration": 0,
    "start_time": "2022-06-15T16:49:43.675Z"
   },
   {
    "duration": 0,
    "start_time": "2022-06-15T16:49:43.677Z"
   },
   {
    "duration": 0,
    "start_time": "2022-06-15T16:49:43.679Z"
   },
   {
    "duration": 0,
    "start_time": "2022-06-15T16:49:43.680Z"
   },
   {
    "duration": 0,
    "start_time": "2022-06-15T16:49:43.682Z"
   },
   {
    "duration": 0,
    "start_time": "2022-06-15T16:49:43.694Z"
   },
   {
    "duration": 0,
    "start_time": "2022-06-15T16:49:43.696Z"
   },
   {
    "duration": 5,
    "start_time": "2022-06-15T16:51:57.614Z"
   },
   {
    "duration": 7,
    "start_time": "2022-06-15T16:52:21.075Z"
   },
   {
    "duration": 6,
    "start_time": "2022-06-15T16:52:33.362Z"
   },
   {
    "duration": 3,
    "start_time": "2022-06-15T16:52:52.881Z"
   },
   {
    "duration": 6,
    "start_time": "2022-06-15T16:55:08.822Z"
   },
   {
    "duration": 5,
    "start_time": "2022-06-15T16:55:29.392Z"
   },
   {
    "duration": 67,
    "start_time": "2022-06-15T16:55:29.399Z"
   },
   {
    "duration": 10,
    "start_time": "2022-06-15T16:55:29.468Z"
   },
   {
    "duration": 10,
    "start_time": "2022-06-15T16:55:29.480Z"
   },
   {
    "duration": 8,
    "start_time": "2022-06-15T16:55:29.492Z"
   },
   {
    "duration": 6,
    "start_time": "2022-06-15T16:55:29.501Z"
   },
   {
    "duration": 8,
    "start_time": "2022-06-15T16:55:29.508Z"
   },
   {
    "duration": 7,
    "start_time": "2022-06-15T16:55:29.517Z"
   },
   {
    "duration": 7,
    "start_time": "2022-06-15T16:55:29.526Z"
   },
   {
    "duration": 5,
    "start_time": "2022-06-15T16:55:29.534Z"
   },
   {
    "duration": 5,
    "start_time": "2022-06-15T16:55:29.541Z"
   },
   {
    "duration": 7,
    "start_time": "2022-06-15T16:55:29.548Z"
   },
   {
    "duration": 9,
    "start_time": "2022-06-15T16:55:29.556Z"
   },
   {
    "duration": 7,
    "start_time": "2022-06-15T16:55:29.567Z"
   },
   {
    "duration": 5,
    "start_time": "2022-06-15T16:55:29.594Z"
   },
   {
    "duration": 7,
    "start_time": "2022-06-15T16:55:29.600Z"
   },
   {
    "duration": 108,
    "start_time": "2022-06-15T16:55:29.608Z"
   },
   {
    "duration": 101,
    "start_time": "2022-06-15T16:55:29.718Z"
   },
   {
    "duration": 7,
    "start_time": "2022-06-15T16:55:29.820Z"
   },
   {
    "duration": 7,
    "start_time": "2022-06-15T16:55:29.828Z"
   },
   {
    "duration": 110,
    "start_time": "2022-06-15T16:55:29.836Z"
   },
   {
    "duration": 7,
    "start_time": "2022-06-15T16:55:29.947Z"
   },
   {
    "duration": 6,
    "start_time": "2022-06-15T16:55:29.955Z"
   },
   {
    "duration": 114,
    "start_time": "2022-06-15T16:55:29.964Z"
   },
   {
    "duration": 16,
    "start_time": "2022-06-15T16:55:30.080Z"
   },
   {
    "duration": 7,
    "start_time": "2022-06-15T16:55:30.097Z"
   },
   {
    "duration": 204,
    "start_time": "2022-06-15T16:55:30.105Z"
   },
   {
    "duration": 8,
    "start_time": "2022-06-15T16:55:30.311Z"
   },
   {
    "duration": 33,
    "start_time": "2022-06-15T16:55:30.320Z"
   },
   {
    "duration": 88,
    "start_time": "2022-06-15T16:55:30.354Z"
   },
   {
    "duration": 7,
    "start_time": "2022-06-15T16:55:30.444Z"
   },
   {
    "duration": 13,
    "start_time": "2022-06-15T16:55:30.453Z"
   },
   {
    "duration": 12,
    "start_time": "2022-06-15T16:55:30.467Z"
   },
   {
    "duration": 18,
    "start_time": "2022-06-15T16:55:30.481Z"
   },
   {
    "duration": 30,
    "start_time": "2022-06-15T16:55:30.501Z"
   },
   {
    "duration": 13,
    "start_time": "2022-06-15T16:55:30.533Z"
   },
   {
    "duration": 10,
    "start_time": "2022-06-15T16:55:30.548Z"
   },
   {
    "duration": 14,
    "start_time": "2022-06-15T16:55:30.559Z"
   },
   {
    "duration": 16,
    "start_time": "2022-06-15T16:55:30.574Z"
   },
   {
    "duration": 45,
    "start_time": "2022-06-15T16:55:30.592Z"
   },
   {
    "duration": 17,
    "start_time": "2022-06-15T16:55:30.639Z"
   },
   {
    "duration": 23,
    "start_time": "2022-06-15T16:55:30.657Z"
   },
   {
    "duration": 37,
    "start_time": "2022-06-15T16:55:30.682Z"
   },
   {
    "duration": 32,
    "start_time": "2022-06-15T16:55:30.720Z"
   },
   {
    "duration": 18,
    "start_time": "2022-06-15T16:55:30.753Z"
   },
   {
    "duration": 36,
    "start_time": "2022-06-15T16:55:30.773Z"
   },
   {
    "duration": 24,
    "start_time": "2022-06-15T16:55:30.811Z"
   },
   {
    "duration": 39,
    "start_time": "2022-06-15T16:55:30.836Z"
   },
   {
    "duration": 21,
    "start_time": "2022-06-15T16:55:30.877Z"
   },
   {
    "duration": 15,
    "start_time": "2022-06-15T16:55:30.900Z"
   },
   {
    "duration": 6,
    "start_time": "2022-06-15T16:55:30.917Z"
   },
   {
    "duration": 8,
    "start_time": "2022-06-15T16:55:30.924Z"
   },
   {
    "duration": 25,
    "start_time": "2022-06-15T16:55:30.933Z"
   },
   {
    "duration": 8,
    "start_time": "2022-06-15T16:55:30.960Z"
   },
   {
    "duration": 17,
    "start_time": "2022-06-15T16:55:30.970Z"
   },
   {
    "duration": 4017,
    "start_time": "2022-06-15T16:55:30.988Z"
   },
   {
    "duration": 5,
    "start_time": "2022-06-15T16:55:35.007Z"
   },
   {
    "duration": 16,
    "start_time": "2022-06-15T16:55:35.096Z"
   },
   {
    "duration": 14,
    "start_time": "2022-06-15T16:55:35.114Z"
   },
   {
    "duration": 8,
    "start_time": "2022-06-15T16:55:35.130Z"
   },
   {
    "duration": 65,
    "start_time": "2022-06-15T16:55:35.143Z"
   },
   {
    "duration": 4,
    "start_time": "2022-06-15T16:55:35.210Z"
   },
   {
    "duration": 6,
    "start_time": "2022-06-15T16:55:35.216Z"
   },
   {
    "duration": 73,
    "start_time": "2022-06-15T16:55:35.224Z"
   },
   {
    "duration": 11,
    "start_time": "2022-06-15T16:55:35.299Z"
   },
   {
    "duration": 14,
    "start_time": "2022-06-15T16:55:35.311Z"
   },
   {
    "duration": 7,
    "start_time": "2022-06-15T16:55:35.326Z"
   },
   {
    "duration": 272,
    "start_time": "2022-06-15T16:55:35.334Z"
   },
   {
    "duration": 5,
    "start_time": "2022-06-15T16:55:35.607Z"
   },
   {
    "duration": 10,
    "start_time": "2022-06-15T16:55:35.613Z"
   },
   {
    "duration": 6,
    "start_time": "2022-06-15T16:55:35.624Z"
   },
   {
    "duration": 6,
    "start_time": "2022-06-15T16:55:35.631Z"
   },
   {
    "duration": 18,
    "start_time": "2022-06-15T16:55:35.638Z"
   },
   {
    "duration": 0,
    "start_time": "2022-06-15T16:55:35.658Z"
   },
   {
    "duration": 0,
    "start_time": "2022-06-15T16:55:35.659Z"
   },
   {
    "duration": 0,
    "start_time": "2022-06-15T16:55:35.660Z"
   },
   {
    "duration": 0,
    "start_time": "2022-06-15T16:55:35.661Z"
   },
   {
    "duration": 0,
    "start_time": "2022-06-15T16:55:35.662Z"
   },
   {
    "duration": 0,
    "start_time": "2022-06-15T16:55:35.663Z"
   },
   {
    "duration": 0,
    "start_time": "2022-06-15T16:55:35.664Z"
   },
   {
    "duration": 0,
    "start_time": "2022-06-15T16:55:35.665Z"
   },
   {
    "duration": 0,
    "start_time": "2022-06-15T16:55:35.665Z"
   },
   {
    "duration": 6,
    "start_time": "2022-06-15T16:56:41.878Z"
   },
   {
    "duration": 65,
    "start_time": "2022-06-15T16:56:41.887Z"
   },
   {
    "duration": 10,
    "start_time": "2022-06-15T16:56:41.953Z"
   },
   {
    "duration": 8,
    "start_time": "2022-06-15T16:56:41.964Z"
   },
   {
    "duration": 7,
    "start_time": "2022-06-15T16:56:41.973Z"
   },
   {
    "duration": 8,
    "start_time": "2022-06-15T16:56:41.981Z"
   },
   {
    "duration": 8,
    "start_time": "2022-06-15T16:56:41.990Z"
   },
   {
    "duration": 8,
    "start_time": "2022-06-15T16:56:42.000Z"
   },
   {
    "duration": 7,
    "start_time": "2022-06-15T16:56:42.009Z"
   },
   {
    "duration": 4,
    "start_time": "2022-06-15T16:56:42.018Z"
   },
   {
    "duration": 13,
    "start_time": "2022-06-15T16:56:42.025Z"
   },
   {
    "duration": 17,
    "start_time": "2022-06-15T16:56:42.039Z"
   },
   {
    "duration": 7,
    "start_time": "2022-06-15T16:56:42.058Z"
   },
   {
    "duration": 28,
    "start_time": "2022-06-15T16:56:42.066Z"
   },
   {
    "duration": 4,
    "start_time": "2022-06-15T16:56:42.096Z"
   },
   {
    "duration": 8,
    "start_time": "2022-06-15T16:56:42.101Z"
   },
   {
    "duration": 121,
    "start_time": "2022-06-15T16:56:42.110Z"
   },
   {
    "duration": 99,
    "start_time": "2022-06-15T16:56:42.233Z"
   },
   {
    "duration": 7,
    "start_time": "2022-06-15T16:56:42.334Z"
   },
   {
    "duration": 5,
    "start_time": "2022-06-15T16:56:42.343Z"
   },
   {
    "duration": 119,
    "start_time": "2022-06-15T16:56:42.349Z"
   },
   {
    "duration": 7,
    "start_time": "2022-06-15T16:56:42.470Z"
   },
   {
    "duration": 17,
    "start_time": "2022-06-15T16:56:42.479Z"
   },
   {
    "duration": 110,
    "start_time": "2022-06-15T16:56:42.498Z"
   },
   {
    "duration": 9,
    "start_time": "2022-06-15T16:56:42.609Z"
   },
   {
    "duration": 6,
    "start_time": "2022-06-15T16:56:42.619Z"
   },
   {
    "duration": 112,
    "start_time": "2022-06-15T16:56:42.626Z"
   },
   {
    "duration": 7,
    "start_time": "2022-06-15T16:56:42.740Z"
   },
   {
    "duration": 3,
    "start_time": "2022-06-15T16:56:42.751Z"
   },
   {
    "duration": 96,
    "start_time": "2022-06-15T16:56:42.756Z"
   },
   {
    "duration": 7,
    "start_time": "2022-06-15T16:56:42.854Z"
   },
   {
    "duration": 7,
    "start_time": "2022-06-15T16:56:42.862Z"
   },
   {
    "duration": 25,
    "start_time": "2022-06-15T16:56:42.870Z"
   },
   {
    "duration": 4,
    "start_time": "2022-06-15T16:56:42.896Z"
   },
   {
    "duration": 17,
    "start_time": "2022-06-15T16:56:42.901Z"
   },
   {
    "duration": 11,
    "start_time": "2022-06-15T16:56:42.919Z"
   },
   {
    "duration": 6,
    "start_time": "2022-06-15T16:56:42.931Z"
   },
   {
    "duration": 5,
    "start_time": "2022-06-15T16:56:42.938Z"
   },
   {
    "duration": 7,
    "start_time": "2022-06-15T16:56:42.945Z"
   },
   {
    "duration": 12,
    "start_time": "2022-06-15T16:56:42.953Z"
   },
   {
    "duration": 27,
    "start_time": "2022-06-15T16:56:42.967Z"
   },
   {
    "duration": 2,
    "start_time": "2022-06-15T16:56:42.996Z"
   },
   {
    "duration": 5,
    "start_time": "2022-06-15T16:56:43.000Z"
   },
   {
    "duration": 15,
    "start_time": "2022-06-15T16:56:43.007Z"
   },
   {
    "duration": 3,
    "start_time": "2022-06-15T16:56:43.024Z"
   },
   {
    "duration": 5,
    "start_time": "2022-06-15T16:56:43.029Z"
   },
   {
    "duration": 4,
    "start_time": "2022-06-15T16:56:43.035Z"
   },
   {
    "duration": 8,
    "start_time": "2022-06-15T16:56:43.040Z"
   },
   {
    "duration": 9,
    "start_time": "2022-06-15T16:56:43.050Z"
   },
   {
    "duration": 10,
    "start_time": "2022-06-15T16:56:43.060Z"
   },
   {
    "duration": 23,
    "start_time": "2022-06-15T16:56:43.071Z"
   },
   {
    "duration": 5,
    "start_time": "2022-06-15T16:56:43.096Z"
   },
   {
    "duration": 4,
    "start_time": "2022-06-15T16:56:43.103Z"
   },
   {
    "duration": 7,
    "start_time": "2022-06-15T16:56:43.109Z"
   },
   {
    "duration": 6,
    "start_time": "2022-06-15T16:56:43.117Z"
   },
   {
    "duration": 3578,
    "start_time": "2022-06-15T16:56:43.124Z"
   },
   {
    "duration": 5,
    "start_time": "2022-06-15T16:56:46.704Z"
   },
   {
    "duration": 16,
    "start_time": "2022-06-15T16:56:46.710Z"
   },
   {
    "duration": 68,
    "start_time": "2022-06-15T16:56:46.728Z"
   },
   {
    "duration": 7,
    "start_time": "2022-06-15T16:56:46.798Z"
   },
   {
    "duration": 14,
    "start_time": "2022-06-15T16:56:46.807Z"
   },
   {
    "duration": 6,
    "start_time": "2022-06-15T16:56:46.822Z"
   },
   {
    "duration": 7,
    "start_time": "2022-06-15T16:56:46.830Z"
   },
   {
    "duration": 18,
    "start_time": "2022-06-15T16:56:46.838Z"
   },
   {
    "duration": 6,
    "start_time": "2022-06-15T16:56:46.858Z"
   },
   {
    "duration": 17,
    "start_time": "2022-06-15T16:56:46.865Z"
   },
   {
    "duration": 13,
    "start_time": "2022-06-15T16:56:46.883Z"
   },
   {
    "duration": 205,
    "start_time": "2022-06-15T16:56:46.897Z"
   },
   {
    "duration": 4,
    "start_time": "2022-06-15T16:56:47.104Z"
   },
   {
    "duration": 6,
    "start_time": "2022-06-15T16:56:47.110Z"
   },
   {
    "duration": 5,
    "start_time": "2022-06-15T16:56:47.117Z"
   },
   {
    "duration": 6,
    "start_time": "2022-06-15T16:56:47.124Z"
   },
   {
    "duration": 18,
    "start_time": "2022-06-15T16:56:47.132Z"
   },
   {
    "duration": 0,
    "start_time": "2022-06-15T16:56:47.151Z"
   },
   {
    "duration": 0,
    "start_time": "2022-06-15T16:56:47.152Z"
   },
   {
    "duration": 0,
    "start_time": "2022-06-15T16:56:47.153Z"
   },
   {
    "duration": 0,
    "start_time": "2022-06-15T16:56:47.154Z"
   },
   {
    "duration": 0,
    "start_time": "2022-06-15T16:56:47.155Z"
   },
   {
    "duration": 0,
    "start_time": "2022-06-15T16:56:47.155Z"
   },
   {
    "duration": 0,
    "start_time": "2022-06-15T16:56:47.156Z"
   },
   {
    "duration": 0,
    "start_time": "2022-06-15T16:56:47.157Z"
   },
   {
    "duration": 0,
    "start_time": "2022-06-15T16:56:47.158Z"
   },
   {
    "duration": 7,
    "start_time": "2022-06-15T16:58:02.350Z"
   },
   {
    "duration": 65,
    "start_time": "2022-06-15T16:58:02.407Z"
   },
   {
    "duration": 11,
    "start_time": "2022-06-15T16:58:02.473Z"
   },
   {
    "duration": 19,
    "start_time": "2022-06-15T16:58:02.486Z"
   },
   {
    "duration": 22,
    "start_time": "2022-06-15T16:58:02.506Z"
   },
   {
    "duration": 11,
    "start_time": "2022-06-15T16:58:02.531Z"
   },
   {
    "duration": 12,
    "start_time": "2022-06-15T16:58:02.544Z"
   },
   {
    "duration": 9,
    "start_time": "2022-06-15T16:58:02.558Z"
   },
   {
    "duration": 12,
    "start_time": "2022-06-15T16:58:02.569Z"
   },
   {
    "duration": 11,
    "start_time": "2022-06-15T16:58:02.582Z"
   },
   {
    "duration": 10,
    "start_time": "2022-06-15T16:58:02.595Z"
   },
   {
    "duration": 6,
    "start_time": "2022-06-15T16:58:02.606Z"
   },
   {
    "duration": 13,
    "start_time": "2022-06-15T16:58:02.613Z"
   },
   {
    "duration": 8,
    "start_time": "2022-06-15T16:58:02.627Z"
   },
   {
    "duration": 8,
    "start_time": "2022-06-15T16:58:02.638Z"
   },
   {
    "duration": 5,
    "start_time": "2022-06-15T16:58:02.648Z"
   },
   {
    "duration": 108,
    "start_time": "2022-06-15T16:58:02.654Z"
   },
   {
    "duration": 121,
    "start_time": "2022-06-15T16:58:02.763Z"
   },
   {
    "duration": 15,
    "start_time": "2022-06-15T16:58:02.886Z"
   },
   {
    "duration": 8,
    "start_time": "2022-06-15T16:58:02.903Z"
   },
   {
    "duration": 128,
    "start_time": "2022-06-15T16:58:02.913Z"
   },
   {
    "duration": 8,
    "start_time": "2022-06-15T16:58:03.043Z"
   },
   {
    "duration": 10,
    "start_time": "2022-06-15T16:58:03.052Z"
   },
   {
    "duration": 157,
    "start_time": "2022-06-15T16:58:03.063Z"
   },
   {
    "duration": 8,
    "start_time": "2022-06-15T16:58:03.221Z"
   },
   {
    "duration": 7,
    "start_time": "2022-06-15T16:58:03.231Z"
   },
   {
    "duration": 227,
    "start_time": "2022-06-15T16:58:03.239Z"
   },
   {
    "duration": 7,
    "start_time": "2022-06-15T16:58:03.468Z"
   },
   {
    "duration": 20,
    "start_time": "2022-06-15T16:58:03.476Z"
   },
   {
    "duration": 117,
    "start_time": "2022-06-15T16:58:03.499Z"
   },
   {
    "duration": 8,
    "start_time": "2022-06-15T16:58:03.618Z"
   },
   {
    "duration": 15,
    "start_time": "2022-06-15T16:58:03.628Z"
   },
   {
    "duration": 9,
    "start_time": "2022-06-15T16:58:03.644Z"
   },
   {
    "duration": 8,
    "start_time": "2022-06-15T16:58:03.655Z"
   },
   {
    "duration": 19,
    "start_time": "2022-06-15T16:58:03.665Z"
   },
   {
    "duration": 11,
    "start_time": "2022-06-15T16:58:03.686Z"
   },
   {
    "duration": 9,
    "start_time": "2022-06-15T16:58:03.699Z"
   },
   {
    "duration": 14,
    "start_time": "2022-06-15T16:58:03.710Z"
   },
   {
    "duration": 19,
    "start_time": "2022-06-15T16:58:03.726Z"
   },
   {
    "duration": 51,
    "start_time": "2022-06-15T16:58:03.747Z"
   },
   {
    "duration": 9,
    "start_time": "2022-06-15T16:58:03.800Z"
   },
   {
    "duration": 8,
    "start_time": "2022-06-15T16:58:03.814Z"
   },
   {
    "duration": 7,
    "start_time": "2022-06-15T16:58:03.823Z"
   },
   {
    "duration": 21,
    "start_time": "2022-06-15T16:58:03.832Z"
   },
   {
    "duration": 4,
    "start_time": "2022-06-15T16:58:03.855Z"
   },
   {
    "duration": 13,
    "start_time": "2022-06-15T16:58:03.861Z"
   },
   {
    "duration": 22,
    "start_time": "2022-06-15T16:58:03.875Z"
   },
   {
    "duration": 12,
    "start_time": "2022-06-15T16:58:03.898Z"
   },
   {
    "duration": 11,
    "start_time": "2022-06-15T16:58:03.911Z"
   },
   {
    "duration": 11,
    "start_time": "2022-06-15T16:58:03.923Z"
   },
   {
    "duration": 5,
    "start_time": "2022-06-15T16:58:03.935Z"
   },
   {
    "duration": 8,
    "start_time": "2022-06-15T16:58:03.942Z"
   },
   {
    "duration": 3,
    "start_time": "2022-06-15T16:58:03.952Z"
   },
   {
    "duration": 8,
    "start_time": "2022-06-15T16:58:03.956Z"
   },
   {
    "duration": 8,
    "start_time": "2022-06-15T16:58:03.965Z"
   },
   {
    "duration": 4235,
    "start_time": "2022-06-15T16:58:03.974Z"
   },
   {
    "duration": 6,
    "start_time": "2022-06-15T16:58:08.211Z"
   },
   {
    "duration": 80,
    "start_time": "2022-06-15T16:58:08.219Z"
   },
   {
    "duration": 14,
    "start_time": "2022-06-15T16:58:08.301Z"
   },
   {
    "duration": 30,
    "start_time": "2022-06-15T16:58:08.316Z"
   },
   {
    "duration": 33,
    "start_time": "2022-06-15T16:58:08.348Z"
   },
   {
    "duration": 18,
    "start_time": "2022-06-15T16:58:08.382Z"
   },
   {
    "duration": 15,
    "start_time": "2022-06-15T16:58:08.402Z"
   },
   {
    "duration": 37,
    "start_time": "2022-06-15T16:58:08.419Z"
   },
   {
    "duration": 14,
    "start_time": "2022-06-15T16:58:08.458Z"
   },
   {
    "duration": 29,
    "start_time": "2022-06-15T16:58:08.474Z"
   },
   {
    "duration": 31,
    "start_time": "2022-06-15T16:58:08.504Z"
   },
   {
    "duration": 254,
    "start_time": "2022-06-15T16:58:08.536Z"
   },
   {
    "duration": 7,
    "start_time": "2022-06-15T16:58:08.794Z"
   },
   {
    "duration": 20,
    "start_time": "2022-06-15T16:58:08.802Z"
   },
   {
    "duration": 16,
    "start_time": "2022-06-15T16:58:08.823Z"
   },
   {
    "duration": 8,
    "start_time": "2022-06-15T16:58:08.841Z"
   },
   {
    "duration": 20,
    "start_time": "2022-06-15T16:58:08.850Z"
   },
   {
    "duration": 0,
    "start_time": "2022-06-15T16:58:08.871Z"
   },
   {
    "duration": 0,
    "start_time": "2022-06-15T16:58:08.872Z"
   },
   {
    "duration": 0,
    "start_time": "2022-06-15T16:58:08.873Z"
   },
   {
    "duration": 0,
    "start_time": "2022-06-15T16:58:08.874Z"
   },
   {
    "duration": 0,
    "start_time": "2022-06-15T16:58:08.876Z"
   },
   {
    "duration": 0,
    "start_time": "2022-06-15T16:58:08.877Z"
   },
   {
    "duration": 0,
    "start_time": "2022-06-15T16:58:08.878Z"
   },
   {
    "duration": 0,
    "start_time": "2022-06-15T16:58:08.878Z"
   },
   {
    "duration": 0,
    "start_time": "2022-06-15T16:58:08.894Z"
   },
   {
    "duration": 4,
    "start_time": "2022-06-15T16:58:23.407Z"
   },
   {
    "duration": 5,
    "start_time": "2022-06-15T16:59:27.990Z"
   },
   {
    "duration": 3,
    "start_time": "2022-06-15T16:59:36.049Z"
   },
   {
    "duration": 5,
    "start_time": "2022-06-15T16:59:39.296Z"
   },
   {
    "duration": 61,
    "start_time": "2022-06-15T16:59:39.307Z"
   },
   {
    "duration": 11,
    "start_time": "2022-06-15T16:59:39.370Z"
   },
   {
    "duration": 6,
    "start_time": "2022-06-15T16:59:39.383Z"
   },
   {
    "duration": 7,
    "start_time": "2022-06-15T16:59:39.392Z"
   },
   {
    "duration": 9,
    "start_time": "2022-06-15T16:59:39.401Z"
   },
   {
    "duration": 6,
    "start_time": "2022-06-15T16:59:39.412Z"
   },
   {
    "duration": 8,
    "start_time": "2022-06-15T16:59:39.420Z"
   },
   {
    "duration": 14,
    "start_time": "2022-06-15T16:59:39.429Z"
   },
   {
    "duration": 6,
    "start_time": "2022-06-15T16:59:39.444Z"
   },
   {
    "duration": 6,
    "start_time": "2022-06-15T16:59:39.453Z"
   },
   {
    "duration": 4,
    "start_time": "2022-06-15T16:59:39.461Z"
   },
   {
    "duration": 4,
    "start_time": "2022-06-15T16:59:39.494Z"
   },
   {
    "duration": 10,
    "start_time": "2022-06-15T16:59:39.500Z"
   },
   {
    "duration": 8,
    "start_time": "2022-06-15T16:59:39.511Z"
   },
   {
    "duration": 5,
    "start_time": "2022-06-15T16:59:39.521Z"
   },
   {
    "duration": 104,
    "start_time": "2022-06-15T16:59:39.527Z"
   },
   {
    "duration": 105,
    "start_time": "2022-06-15T16:59:39.633Z"
   },
   {
    "duration": 6,
    "start_time": "2022-06-15T16:59:39.740Z"
   },
   {
    "duration": 6,
    "start_time": "2022-06-15T16:59:39.748Z"
   },
   {
    "duration": 109,
    "start_time": "2022-06-15T16:59:39.755Z"
   },
   {
    "duration": 7,
    "start_time": "2022-06-15T16:59:39.865Z"
   },
   {
    "duration": 5,
    "start_time": "2022-06-15T16:59:39.874Z"
   },
   {
    "duration": 115,
    "start_time": "2022-06-15T16:59:39.881Z"
   },
   {
    "duration": 7,
    "start_time": "2022-06-15T16:59:39.997Z"
   },
   {
    "duration": 11,
    "start_time": "2022-06-15T16:59:40.006Z"
   },
   {
    "duration": 107,
    "start_time": "2022-06-15T16:59:40.018Z"
   },
   {
    "duration": 7,
    "start_time": "2022-06-15T16:59:40.126Z"
   },
   {
    "duration": 4,
    "start_time": "2022-06-15T16:59:40.137Z"
   },
   {
    "duration": 93,
    "start_time": "2022-06-15T16:59:40.142Z"
   },
   {
    "duration": 7,
    "start_time": "2022-06-15T16:59:40.237Z"
   },
   {
    "duration": 5,
    "start_time": "2022-06-15T16:59:40.245Z"
   },
   {
    "duration": 6,
    "start_time": "2022-06-15T16:59:40.251Z"
   },
   {
    "duration": 5,
    "start_time": "2022-06-15T16:59:40.259Z"
   },
   {
    "duration": 40,
    "start_time": "2022-06-15T16:59:40.265Z"
   },
   {
    "duration": 6,
    "start_time": "2022-06-15T16:59:40.307Z"
   },
   {
    "duration": 6,
    "start_time": "2022-06-15T16:59:40.314Z"
   },
   {
    "duration": 4,
    "start_time": "2022-06-15T16:59:40.322Z"
   },
   {
    "duration": 5,
    "start_time": "2022-06-15T16:59:40.328Z"
   },
   {
    "duration": 11,
    "start_time": "2022-06-15T16:59:40.335Z"
   },
   {
    "duration": 5,
    "start_time": "2022-06-15T16:59:40.347Z"
   },
   {
    "duration": 4,
    "start_time": "2022-06-15T16:59:40.353Z"
   },
   {
    "duration": 5,
    "start_time": "2022-06-15T16:59:40.358Z"
   },
   {
    "duration": 38,
    "start_time": "2022-06-15T16:59:40.364Z"
   },
   {
    "duration": 3,
    "start_time": "2022-06-15T16:59:40.404Z"
   },
   {
    "duration": 6,
    "start_time": "2022-06-15T16:59:40.408Z"
   },
   {
    "duration": 6,
    "start_time": "2022-06-15T16:59:40.415Z"
   },
   {
    "duration": 8,
    "start_time": "2022-06-15T16:59:40.422Z"
   },
   {
    "duration": 6,
    "start_time": "2022-06-15T16:59:40.431Z"
   },
   {
    "duration": 7,
    "start_time": "2022-06-15T16:59:40.438Z"
   },
   {
    "duration": 5,
    "start_time": "2022-06-15T16:59:40.446Z"
   },
   {
    "duration": 6,
    "start_time": "2022-06-15T16:59:40.452Z"
   },
   {
    "duration": 4,
    "start_time": "2022-06-15T16:59:40.460Z"
   },
   {
    "duration": 6,
    "start_time": "2022-06-15T16:59:40.465Z"
   },
   {
    "duration": 25,
    "start_time": "2022-06-15T16:59:40.472Z"
   },
   {
    "duration": 4408,
    "start_time": "2022-06-15T16:59:40.498Z"
   },
   {
    "duration": 5,
    "start_time": "2022-06-15T16:59:44.908Z"
   },
   {
    "duration": 80,
    "start_time": "2022-06-15T16:59:44.914Z"
   },
   {
    "duration": 9,
    "start_time": "2022-06-15T16:59:44.996Z"
   },
   {
    "duration": 22,
    "start_time": "2022-06-15T16:59:45.006Z"
   },
   {
    "duration": 15,
    "start_time": "2022-06-15T16:59:45.029Z"
   },
   {
    "duration": 8,
    "start_time": "2022-06-15T16:59:45.045Z"
   },
   {
    "duration": 7,
    "start_time": "2022-06-15T16:59:45.054Z"
   },
   {
    "duration": 22,
    "start_time": "2022-06-15T16:59:45.062Z"
   },
   {
    "duration": 6,
    "start_time": "2022-06-15T16:59:45.085Z"
   },
   {
    "duration": 13,
    "start_time": "2022-06-15T16:59:45.095Z"
   },
   {
    "duration": 6,
    "start_time": "2022-06-15T16:59:45.110Z"
   },
   {
    "duration": 213,
    "start_time": "2022-06-15T16:59:45.117Z"
   },
   {
    "duration": 5,
    "start_time": "2022-06-15T16:59:45.331Z"
   },
   {
    "duration": 7,
    "start_time": "2022-06-15T16:59:45.338Z"
   },
   {
    "duration": 6,
    "start_time": "2022-06-15T16:59:45.347Z"
   },
   {
    "duration": 6,
    "start_time": "2022-06-15T16:59:45.354Z"
   },
   {
    "duration": 41,
    "start_time": "2022-06-15T16:59:45.362Z"
   },
   {
    "duration": 0,
    "start_time": "2022-06-15T16:59:45.405Z"
   },
   {
    "duration": 0,
    "start_time": "2022-06-15T16:59:45.406Z"
   },
   {
    "duration": 0,
    "start_time": "2022-06-15T16:59:45.407Z"
   },
   {
    "duration": 0,
    "start_time": "2022-06-15T16:59:45.408Z"
   },
   {
    "duration": 0,
    "start_time": "2022-06-15T16:59:45.409Z"
   },
   {
    "duration": 0,
    "start_time": "2022-06-15T16:59:45.410Z"
   },
   {
    "duration": 0,
    "start_time": "2022-06-15T16:59:45.411Z"
   },
   {
    "duration": 0,
    "start_time": "2022-06-15T16:59:45.412Z"
   },
   {
    "duration": 0,
    "start_time": "2022-06-15T16:59:45.413Z"
   },
   {
    "duration": 0,
    "start_time": "2022-06-15T16:59:45.415Z"
   },
   {
    "duration": 4,
    "start_time": "2022-06-15T16:59:50.650Z"
   },
   {
    "duration": 2,
    "start_time": "2022-06-15T17:00:15.117Z"
   },
   {
    "duration": 6,
    "start_time": "2022-06-15T17:01:08.990Z"
   },
   {
    "duration": 80,
    "start_time": "2022-06-15T17:01:08.998Z"
   },
   {
    "duration": 11,
    "start_time": "2022-06-15T17:01:09.080Z"
   },
   {
    "duration": 21,
    "start_time": "2022-06-15T17:01:09.093Z"
   },
   {
    "duration": 24,
    "start_time": "2022-06-15T17:01:09.116Z"
   },
   {
    "duration": 22,
    "start_time": "2022-06-15T17:01:09.141Z"
   },
   {
    "duration": 20,
    "start_time": "2022-06-15T17:01:09.165Z"
   },
   {
    "duration": 42,
    "start_time": "2022-06-15T17:01:09.187Z"
   },
   {
    "duration": 32,
    "start_time": "2022-06-15T17:01:09.230Z"
   },
   {
    "duration": 26,
    "start_time": "2022-06-15T17:01:09.264Z"
   },
   {
    "duration": 41,
    "start_time": "2022-06-15T17:01:09.291Z"
   },
   {
    "duration": 29,
    "start_time": "2022-06-15T17:01:09.334Z"
   },
   {
    "duration": 27,
    "start_time": "2022-06-15T17:01:09.365Z"
   },
   {
    "duration": 32,
    "start_time": "2022-06-15T17:01:09.396Z"
   },
   {
    "duration": 16,
    "start_time": "2022-06-15T17:01:09.430Z"
   },
   {
    "duration": 35,
    "start_time": "2022-06-15T17:01:09.448Z"
   },
   {
    "duration": 98,
    "start_time": "2022-06-15T17:01:09.484Z"
   },
   {
    "duration": 80,
    "start_time": "2022-06-15T17:01:09.583Z"
   },
   {
    "duration": 7,
    "start_time": "2022-06-15T17:01:09.665Z"
   },
   {
    "duration": 28,
    "start_time": "2022-06-15T17:01:09.673Z"
   },
   {
    "duration": 125,
    "start_time": "2022-06-15T17:01:09.702Z"
   },
   {
    "duration": 7,
    "start_time": "2022-06-15T17:01:09.828Z"
   },
   {
    "duration": 26,
    "start_time": "2022-06-15T17:01:09.836Z"
   },
   {
    "duration": 117,
    "start_time": "2022-06-15T17:01:09.863Z"
   },
   {
    "duration": 14,
    "start_time": "2022-06-15T17:01:09.982Z"
   },
   {
    "duration": 8,
    "start_time": "2022-06-15T17:01:09.998Z"
   },
   {
    "duration": 98,
    "start_time": "2022-06-15T17:01:10.007Z"
   },
   {
    "duration": 7,
    "start_time": "2022-06-15T17:01:10.106Z"
   },
   {
    "duration": 5,
    "start_time": "2022-06-15T17:01:10.114Z"
   },
   {
    "duration": 102,
    "start_time": "2022-06-15T17:01:10.120Z"
   },
   {
    "duration": 7,
    "start_time": "2022-06-15T17:01:10.224Z"
   },
   {
    "duration": 32,
    "start_time": "2022-06-15T17:01:10.232Z"
   },
   {
    "duration": 31,
    "start_time": "2022-06-15T17:01:10.265Z"
   },
   {
    "duration": 27,
    "start_time": "2022-06-15T17:01:10.297Z"
   },
   {
    "duration": 37,
    "start_time": "2022-06-15T17:01:10.326Z"
   },
   {
    "duration": 13,
    "start_time": "2022-06-15T17:01:10.365Z"
   },
   {
    "duration": 13,
    "start_time": "2022-06-15T17:01:10.380Z"
   },
   {
    "duration": 27,
    "start_time": "2022-06-15T17:01:10.394Z"
   },
   {
    "duration": 19,
    "start_time": "2022-06-15T17:01:10.423Z"
   },
   {
    "duration": 22,
    "start_time": "2022-06-15T17:01:10.444Z"
   },
   {
    "duration": 11,
    "start_time": "2022-06-15T17:01:10.470Z"
   },
   {
    "duration": 17,
    "start_time": "2022-06-15T17:01:10.482Z"
   },
   {
    "duration": 15,
    "start_time": "2022-06-15T17:01:10.501Z"
   },
   {
    "duration": 143,
    "start_time": "2022-06-15T17:01:10.517Z"
   },
   {
    "duration": 3,
    "start_time": "2022-06-15T17:01:10.662Z"
   },
   {
    "duration": 14,
    "start_time": "2022-06-15T17:01:10.666Z"
   },
   {
    "duration": 20,
    "start_time": "2022-06-15T17:01:10.682Z"
   },
   {
    "duration": 14,
    "start_time": "2022-06-15T17:01:10.704Z"
   },
   {
    "duration": 18,
    "start_time": "2022-06-15T17:01:10.719Z"
   },
   {
    "duration": 10,
    "start_time": "2022-06-15T17:01:10.738Z"
   },
   {
    "duration": 18,
    "start_time": "2022-06-15T17:01:10.749Z"
   },
   {
    "duration": 25,
    "start_time": "2022-06-15T17:01:10.768Z"
   },
   {
    "duration": 8,
    "start_time": "2022-06-15T17:01:10.794Z"
   },
   {
    "duration": 27,
    "start_time": "2022-06-15T17:01:10.804Z"
   },
   {
    "duration": 14,
    "start_time": "2022-06-15T17:01:10.833Z"
   },
   {
    "duration": 4146,
    "start_time": "2022-06-15T17:01:10.848Z"
   },
   {
    "duration": 6,
    "start_time": "2022-06-15T17:01:14.997Z"
   },
   {
    "duration": 32,
    "start_time": "2022-06-15T17:01:15.005Z"
   },
   {
    "duration": 22,
    "start_time": "2022-06-15T17:01:15.038Z"
   },
   {
    "duration": 17,
    "start_time": "2022-06-15T17:01:15.061Z"
   },
   {
    "duration": 22,
    "start_time": "2022-06-15T17:01:15.079Z"
   },
   {
    "duration": 23,
    "start_time": "2022-06-15T17:01:15.103Z"
   },
   {
    "duration": 9,
    "start_time": "2022-06-15T17:01:15.128Z"
   },
   {
    "duration": 21,
    "start_time": "2022-06-15T17:01:15.138Z"
   },
   {
    "duration": 13,
    "start_time": "2022-06-15T17:01:15.161Z"
   },
   {
    "duration": 21,
    "start_time": "2022-06-15T17:01:15.175Z"
   },
   {
    "duration": 24,
    "start_time": "2022-06-15T17:01:15.197Z"
   },
   {
    "duration": 218,
    "start_time": "2022-06-15T17:01:15.223Z"
   },
   {
    "duration": 5,
    "start_time": "2022-06-15T17:01:15.443Z"
   },
   {
    "duration": 20,
    "start_time": "2022-06-15T17:01:15.449Z"
   },
   {
    "duration": 11,
    "start_time": "2022-06-15T17:01:15.470Z"
   },
   {
    "duration": 27,
    "start_time": "2022-06-15T17:01:15.482Z"
   },
   {
    "duration": 28,
    "start_time": "2022-06-15T17:01:15.510Z"
   },
   {
    "duration": 0,
    "start_time": "2022-06-15T17:01:15.539Z"
   },
   {
    "duration": 0,
    "start_time": "2022-06-15T17:01:15.540Z"
   },
   {
    "duration": 0,
    "start_time": "2022-06-15T17:01:15.541Z"
   },
   {
    "duration": 0,
    "start_time": "2022-06-15T17:01:15.542Z"
   },
   {
    "duration": 0,
    "start_time": "2022-06-15T17:01:15.544Z"
   },
   {
    "duration": 0,
    "start_time": "2022-06-15T17:01:15.545Z"
   },
   {
    "duration": 0,
    "start_time": "2022-06-15T17:01:15.546Z"
   },
   {
    "duration": 0,
    "start_time": "2022-06-15T17:01:15.547Z"
   },
   {
    "duration": 0,
    "start_time": "2022-06-15T17:01:15.548Z"
   },
   {
    "duration": 0,
    "start_time": "2022-06-15T17:01:15.548Z"
   },
   {
    "duration": 3,
    "start_time": "2022-06-15T17:01:22.116Z"
   },
   {
    "duration": 1588,
    "start_time": "2022-06-15T17:02:10.606Z"
   },
   {
    "duration": 71,
    "start_time": "2022-06-15T17:02:12.196Z"
   },
   {
    "duration": 11,
    "start_time": "2022-06-15T17:02:12.269Z"
   },
   {
    "duration": 7,
    "start_time": "2022-06-15T17:02:12.282Z"
   },
   {
    "duration": 10,
    "start_time": "2022-06-15T17:02:12.291Z"
   },
   {
    "duration": 7,
    "start_time": "2022-06-15T17:02:12.303Z"
   },
   {
    "duration": 9,
    "start_time": "2022-06-15T17:02:12.311Z"
   },
   {
    "duration": 5,
    "start_time": "2022-06-15T17:02:12.321Z"
   },
   {
    "duration": 9,
    "start_time": "2022-06-15T17:02:12.327Z"
   },
   {
    "duration": 4,
    "start_time": "2022-06-15T17:02:12.338Z"
   },
   {
    "duration": 6,
    "start_time": "2022-06-15T17:02:12.343Z"
   },
   {
    "duration": 5,
    "start_time": "2022-06-15T17:02:12.351Z"
   },
   {
    "duration": 6,
    "start_time": "2022-06-15T17:02:12.357Z"
   },
   {
    "duration": 30,
    "start_time": "2022-06-15T17:02:12.365Z"
   },
   {
    "duration": 5,
    "start_time": "2022-06-15T17:02:12.396Z"
   },
   {
    "duration": 7,
    "start_time": "2022-06-15T17:02:12.403Z"
   },
   {
    "duration": 108,
    "start_time": "2022-06-15T17:02:12.411Z"
   },
   {
    "duration": 93,
    "start_time": "2022-06-15T17:02:12.520Z"
   },
   {
    "duration": 7,
    "start_time": "2022-06-15T17:02:12.615Z"
   },
   {
    "duration": 5,
    "start_time": "2022-06-15T17:02:12.623Z"
   },
   {
    "duration": 111,
    "start_time": "2022-06-15T17:02:12.630Z"
   },
   {
    "duration": 8,
    "start_time": "2022-06-15T17:02:12.743Z"
   },
   {
    "duration": 4,
    "start_time": "2022-06-15T17:02:12.752Z"
   },
   {
    "duration": 103,
    "start_time": "2022-06-15T17:02:12.758Z"
   },
   {
    "duration": 7,
    "start_time": "2022-06-15T17:02:12.863Z"
   },
   {
    "duration": 4,
    "start_time": "2022-06-15T17:02:12.872Z"
   },
   {
    "duration": 105,
    "start_time": "2022-06-15T17:02:12.877Z"
   },
   {
    "duration": 14,
    "start_time": "2022-06-15T17:02:12.986Z"
   },
   {
    "duration": 4,
    "start_time": "2022-06-15T17:02:13.002Z"
   },
   {
    "duration": 105,
    "start_time": "2022-06-15T17:02:13.007Z"
   },
   {
    "duration": 7,
    "start_time": "2022-06-15T17:02:13.114Z"
   },
   {
    "duration": 5,
    "start_time": "2022-06-15T17:02:13.122Z"
   },
   {
    "duration": 5,
    "start_time": "2022-06-15T17:02:13.129Z"
   },
   {
    "duration": 5,
    "start_time": "2022-06-15T17:02:13.136Z"
   },
   {
    "duration": 15,
    "start_time": "2022-06-15T17:02:13.142Z"
   },
   {
    "duration": 7,
    "start_time": "2022-06-15T17:02:13.158Z"
   },
   {
    "duration": 28,
    "start_time": "2022-06-15T17:02:13.166Z"
   },
   {
    "duration": 4,
    "start_time": "2022-06-15T17:02:13.197Z"
   },
   {
    "duration": 9,
    "start_time": "2022-06-15T17:02:13.202Z"
   },
   {
    "duration": 13,
    "start_time": "2022-06-15T17:02:13.212Z"
   },
   {
    "duration": 5,
    "start_time": "2022-06-15T17:02:13.226Z"
   },
   {
    "duration": 8,
    "start_time": "2022-06-15T17:02:13.232Z"
   },
   {
    "duration": 7,
    "start_time": "2022-06-15T17:02:13.241Z"
   },
   {
    "duration": 15,
    "start_time": "2022-06-15T17:02:13.249Z"
   },
   {
    "duration": 3,
    "start_time": "2022-06-15T17:02:13.266Z"
   },
   {
    "duration": 26,
    "start_time": "2022-06-15T17:02:13.270Z"
   },
   {
    "duration": 5,
    "start_time": "2022-06-15T17:02:13.298Z"
   },
   {
    "duration": 10,
    "start_time": "2022-06-15T17:02:13.305Z"
   },
   {
    "duration": 7,
    "start_time": "2022-06-15T17:02:13.317Z"
   },
   {
    "duration": 4,
    "start_time": "2022-06-15T17:02:13.325Z"
   },
   {
    "duration": 4,
    "start_time": "2022-06-15T17:02:13.330Z"
   },
   {
    "duration": 6,
    "start_time": "2022-06-15T17:02:13.335Z"
   },
   {
    "duration": 3,
    "start_time": "2022-06-15T17:02:13.343Z"
   },
   {
    "duration": 5,
    "start_time": "2022-06-15T17:02:13.347Z"
   },
   {
    "duration": 4,
    "start_time": "2022-06-15T17:02:13.353Z"
   },
   {
    "duration": 3540,
    "start_time": "2022-06-15T17:02:13.358Z"
   },
   {
    "duration": 5,
    "start_time": "2022-06-15T17:02:16.900Z"
   },
   {
    "duration": 12,
    "start_time": "2022-06-15T17:02:16.907Z"
   },
   {
    "duration": 8,
    "start_time": "2022-06-15T17:02:16.921Z"
   },
   {
    "duration": 7,
    "start_time": "2022-06-15T17:02:16.930Z"
   },
   {
    "duration": 68,
    "start_time": "2022-06-15T17:02:16.939Z"
   },
   {
    "duration": 5,
    "start_time": "2022-06-15T17:02:17.009Z"
   },
   {
    "duration": 8,
    "start_time": "2022-06-15T17:02:17.016Z"
   },
   {
    "duration": 25,
    "start_time": "2022-06-15T17:02:17.025Z"
   },
   {
    "duration": 5,
    "start_time": "2022-06-15T17:02:17.051Z"
   },
   {
    "duration": 12,
    "start_time": "2022-06-15T17:02:17.058Z"
   },
   {
    "duration": 6,
    "start_time": "2022-06-15T17:02:17.072Z"
   },
   {
    "duration": 218,
    "start_time": "2022-06-15T17:02:17.079Z"
   },
   {
    "duration": 9,
    "start_time": "2022-06-15T17:02:17.299Z"
   },
   {
    "duration": 23,
    "start_time": "2022-06-15T17:02:17.310Z"
   },
   {
    "duration": 8,
    "start_time": "2022-06-15T17:02:17.335Z"
   },
   {
    "duration": 10,
    "start_time": "2022-06-15T17:02:17.346Z"
   },
   {
    "duration": 12062,
    "start_time": "2022-06-15T17:02:17.358Z"
   },
   {
    "duration": 6,
    "start_time": "2022-06-15T17:02:29.421Z"
   },
   {
    "duration": 11,
    "start_time": "2022-06-15T17:02:29.429Z"
   },
   {
    "duration": 17,
    "start_time": "2022-06-15T17:02:29.441Z"
   },
   {
    "duration": 18,
    "start_time": "2022-06-15T17:02:29.460Z"
   },
   {
    "duration": 20418,
    "start_time": "2022-06-15T17:02:29.480Z"
   },
   {
    "duration": 5,
    "start_time": "2022-06-15T17:02:49.900Z"
   },
   {
    "duration": 12,
    "start_time": "2022-06-15T17:02:49.907Z"
   },
   {
    "duration": 8,
    "start_time": "2022-06-15T17:02:49.920Z"
   },
   {
    "duration": 7370,
    "start_time": "2022-06-15T17:02:49.932Z"
   },
   {
    "duration": 12,
    "start_time": "2022-06-15T17:02:57.304Z"
   },
   {
    "duration": 5,
    "start_time": "2022-06-15T17:03:09.955Z"
   },
   {
    "duration": 82,
    "start_time": "2022-06-15T17:03:09.961Z"
   },
   {
    "duration": 13,
    "start_time": "2022-06-15T17:03:10.045Z"
   },
   {
    "duration": 8,
    "start_time": "2022-06-15T17:03:10.060Z"
   },
   {
    "duration": 9,
    "start_time": "2022-06-15T17:03:10.070Z"
   },
   {
    "duration": 10,
    "start_time": "2022-06-15T17:03:10.081Z"
   },
   {
    "duration": 10,
    "start_time": "2022-06-15T17:03:10.093Z"
   },
   {
    "duration": 11,
    "start_time": "2022-06-15T17:03:10.104Z"
   },
   {
    "duration": 10,
    "start_time": "2022-06-15T17:03:10.116Z"
   },
   {
    "duration": 7,
    "start_time": "2022-06-15T17:03:10.128Z"
   },
   {
    "duration": 9,
    "start_time": "2022-06-15T17:03:10.137Z"
   },
   {
    "duration": 5,
    "start_time": "2022-06-15T17:03:10.148Z"
   },
   {
    "duration": 17,
    "start_time": "2022-06-15T17:03:10.155Z"
   },
   {
    "duration": 21,
    "start_time": "2022-06-15T17:03:10.173Z"
   },
   {
    "duration": 6,
    "start_time": "2022-06-15T17:03:10.196Z"
   },
   {
    "duration": 7,
    "start_time": "2022-06-15T17:03:10.203Z"
   },
   {
    "duration": 119,
    "start_time": "2022-06-15T17:03:10.212Z"
   },
   {
    "duration": 109,
    "start_time": "2022-06-15T17:03:10.333Z"
   },
   {
    "duration": 7,
    "start_time": "2022-06-15T17:03:10.444Z"
   },
   {
    "duration": 8,
    "start_time": "2022-06-15T17:03:10.453Z"
   },
   {
    "duration": 103,
    "start_time": "2022-06-15T17:03:10.462Z"
   },
   {
    "duration": 7,
    "start_time": "2022-06-15T17:03:10.567Z"
   },
   {
    "duration": 18,
    "start_time": "2022-06-15T17:03:10.576Z"
   },
   {
    "duration": 104,
    "start_time": "2022-06-15T17:03:10.596Z"
   },
   {
    "duration": 7,
    "start_time": "2022-06-15T17:03:10.702Z"
   },
   {
    "duration": 6,
    "start_time": "2022-06-15T17:03:10.710Z"
   },
   {
    "duration": 186,
    "start_time": "2022-06-15T17:03:10.717Z"
   },
   {
    "duration": 7,
    "start_time": "2022-06-15T17:03:10.905Z"
   },
   {
    "duration": 2,
    "start_time": "2022-06-15T17:03:10.916Z"
   },
   {
    "duration": 101,
    "start_time": "2022-06-15T17:03:10.919Z"
   },
   {
    "duration": 7,
    "start_time": "2022-06-15T17:03:11.021Z"
   },
   {
    "duration": 4,
    "start_time": "2022-06-15T17:03:11.029Z"
   },
   {
    "duration": 6,
    "start_time": "2022-06-15T17:03:11.034Z"
   },
   {
    "duration": 4,
    "start_time": "2022-06-15T17:03:11.041Z"
   },
   {
    "duration": 16,
    "start_time": "2022-06-15T17:03:11.047Z"
   },
   {
    "duration": 3,
    "start_time": "2022-06-15T17:03:11.064Z"
   },
   {
    "duration": 25,
    "start_time": "2022-06-15T17:03:11.069Z"
   },
   {
    "duration": 8,
    "start_time": "2022-06-15T17:03:11.099Z"
   },
   {
    "duration": 7,
    "start_time": "2022-06-15T17:03:11.109Z"
   },
   {
    "duration": 13,
    "start_time": "2022-06-15T17:03:11.117Z"
   },
   {
    "duration": 6,
    "start_time": "2022-06-15T17:03:11.132Z"
   },
   {
    "duration": 6,
    "start_time": "2022-06-15T17:03:11.139Z"
   },
   {
    "duration": 5,
    "start_time": "2022-06-15T17:03:11.147Z"
   },
   {
    "duration": 16,
    "start_time": "2022-06-15T17:03:11.153Z"
   },
   {
    "duration": 3,
    "start_time": "2022-06-15T17:03:11.170Z"
   },
   {
    "duration": 20,
    "start_time": "2022-06-15T17:03:11.175Z"
   },
   {
    "duration": 6,
    "start_time": "2022-06-15T17:03:11.196Z"
   },
   {
    "duration": 7,
    "start_time": "2022-06-15T17:03:11.203Z"
   },
   {
    "duration": 5,
    "start_time": "2022-06-15T17:03:11.212Z"
   },
   {
    "duration": 6,
    "start_time": "2022-06-15T17:03:11.218Z"
   },
   {
    "duration": 5,
    "start_time": "2022-06-15T17:03:11.226Z"
   },
   {
    "duration": 7,
    "start_time": "2022-06-15T17:03:11.232Z"
   },
   {
    "duration": 5,
    "start_time": "2022-06-15T17:03:11.240Z"
   },
   {
    "duration": 5,
    "start_time": "2022-06-15T17:03:11.246Z"
   },
   {
    "duration": 5,
    "start_time": "2022-06-15T17:03:11.252Z"
   },
   {
    "duration": 3655,
    "start_time": "2022-06-15T17:03:11.258Z"
   },
   {
    "duration": 80,
    "start_time": "2022-06-15T17:03:14.915Z"
   },
   {
    "duration": 15,
    "start_time": "2022-06-15T17:03:14.997Z"
   },
   {
    "duration": 21,
    "start_time": "2022-06-15T17:03:15.014Z"
   },
   {
    "duration": 20,
    "start_time": "2022-06-15T17:03:15.037Z"
   },
   {
    "duration": 13,
    "start_time": "2022-06-15T17:03:15.058Z"
   },
   {
    "duration": 13,
    "start_time": "2022-06-15T17:03:15.072Z"
   },
   {
    "duration": 11,
    "start_time": "2022-06-15T17:03:15.087Z"
   },
   {
    "duration": 27,
    "start_time": "2022-06-15T17:03:15.100Z"
   },
   {
    "duration": 7,
    "start_time": "2022-06-15T17:03:15.129Z"
   },
   {
    "duration": 13,
    "start_time": "2022-06-15T17:03:15.137Z"
   },
   {
    "duration": 5,
    "start_time": "2022-06-15T17:03:15.151Z"
   },
   {
    "duration": 256,
    "start_time": "2022-06-15T17:03:15.158Z"
   },
   {
    "duration": 6,
    "start_time": "2022-06-15T17:03:15.416Z"
   },
   {
    "duration": 11,
    "start_time": "2022-06-15T17:03:15.425Z"
   },
   {
    "duration": 7,
    "start_time": "2022-06-15T17:03:15.438Z"
   },
   {
    "duration": 6,
    "start_time": "2022-06-15T17:03:15.447Z"
   },
   {
    "duration": 37,
    "start_time": "2022-06-15T17:03:15.454Z"
   },
   {
    "duration": 0,
    "start_time": "2022-06-15T17:03:15.493Z"
   },
   {
    "duration": 0,
    "start_time": "2022-06-15T17:03:15.494Z"
   },
   {
    "duration": 0,
    "start_time": "2022-06-15T17:03:15.495Z"
   },
   {
    "duration": 1,
    "start_time": "2022-06-15T17:03:15.496Z"
   },
   {
    "duration": 0,
    "start_time": "2022-06-15T17:03:15.498Z"
   },
   {
    "duration": 0,
    "start_time": "2022-06-15T17:03:15.499Z"
   },
   {
    "duration": 0,
    "start_time": "2022-06-15T17:03:15.500Z"
   },
   {
    "duration": 0,
    "start_time": "2022-06-15T17:03:15.502Z"
   },
   {
    "duration": 0,
    "start_time": "2022-06-15T17:03:15.503Z"
   },
   {
    "duration": 0,
    "start_time": "2022-06-15T17:03:15.504Z"
   },
   {
    "duration": 5,
    "start_time": "2022-06-15T17:03:38.649Z"
   },
   {
    "duration": 64,
    "start_time": "2022-06-15T17:03:38.656Z"
   },
   {
    "duration": 9,
    "start_time": "2022-06-15T17:03:38.722Z"
   },
   {
    "duration": 7,
    "start_time": "2022-06-15T17:03:38.733Z"
   },
   {
    "duration": 8,
    "start_time": "2022-06-15T17:03:38.741Z"
   },
   {
    "duration": 23,
    "start_time": "2022-06-15T17:03:38.751Z"
   },
   {
    "duration": 13,
    "start_time": "2022-06-15T17:03:38.775Z"
   },
   {
    "duration": 8,
    "start_time": "2022-06-15T17:03:38.790Z"
   },
   {
    "duration": 6,
    "start_time": "2022-06-15T17:03:38.800Z"
   },
   {
    "duration": 10,
    "start_time": "2022-06-15T17:03:38.808Z"
   },
   {
    "duration": 5,
    "start_time": "2022-06-15T17:03:38.820Z"
   },
   {
    "duration": 5,
    "start_time": "2022-06-15T17:03:38.827Z"
   },
   {
    "duration": 11,
    "start_time": "2022-06-15T17:03:38.833Z"
   },
   {
    "duration": 8,
    "start_time": "2022-06-15T17:03:38.846Z"
   },
   {
    "duration": 7,
    "start_time": "2022-06-15T17:03:38.855Z"
   },
   {
    "duration": 7,
    "start_time": "2022-06-15T17:03:38.864Z"
   },
   {
    "duration": 124,
    "start_time": "2022-06-15T17:03:38.873Z"
   },
   {
    "duration": 80,
    "start_time": "2022-06-15T17:03:38.998Z"
   },
   {
    "duration": 20,
    "start_time": "2022-06-15T17:03:39.079Z"
   },
   {
    "duration": 5,
    "start_time": "2022-06-15T17:03:39.101Z"
   },
   {
    "duration": 105,
    "start_time": "2022-06-15T17:03:39.107Z"
   },
   {
    "duration": 7,
    "start_time": "2022-06-15T17:03:39.214Z"
   },
   {
    "duration": 5,
    "start_time": "2022-06-15T17:03:39.222Z"
   },
   {
    "duration": 106,
    "start_time": "2022-06-15T17:03:39.230Z"
   },
   {
    "duration": 8,
    "start_time": "2022-06-15T17:03:39.337Z"
   },
   {
    "duration": 4,
    "start_time": "2022-06-15T17:03:39.347Z"
   },
   {
    "duration": 98,
    "start_time": "2022-06-15T17:03:39.352Z"
   },
   {
    "duration": 6,
    "start_time": "2022-06-15T17:03:39.452Z"
   },
   {
    "duration": 8,
    "start_time": "2022-06-15T17:03:39.459Z"
   },
   {
    "duration": 92,
    "start_time": "2022-06-15T17:03:39.468Z"
   },
   {
    "duration": 6,
    "start_time": "2022-06-15T17:03:39.562Z"
   },
   {
    "duration": 6,
    "start_time": "2022-06-15T17:03:39.570Z"
   },
   {
    "duration": 17,
    "start_time": "2022-06-15T17:03:39.577Z"
   },
   {
    "duration": 4,
    "start_time": "2022-06-15T17:03:39.596Z"
   },
   {
    "duration": 16,
    "start_time": "2022-06-15T17:03:39.601Z"
   },
   {
    "duration": 6,
    "start_time": "2022-06-15T17:03:39.618Z"
   },
   {
    "duration": 16,
    "start_time": "2022-06-15T17:03:39.625Z"
   },
   {
    "duration": 9,
    "start_time": "2022-06-15T17:03:39.642Z"
   },
   {
    "duration": 6,
    "start_time": "2022-06-15T17:03:39.652Z"
   },
   {
    "duration": 15,
    "start_time": "2022-06-15T17:03:39.659Z"
   },
   {
    "duration": 6,
    "start_time": "2022-06-15T17:03:39.675Z"
   },
   {
    "duration": 12,
    "start_time": "2022-06-15T17:03:39.683Z"
   },
   {
    "duration": 6,
    "start_time": "2022-06-15T17:03:39.696Z"
   },
   {
    "duration": 17,
    "start_time": "2022-06-15T17:03:39.704Z"
   },
   {
    "duration": 3,
    "start_time": "2022-06-15T17:03:39.723Z"
   },
   {
    "duration": 4,
    "start_time": "2022-06-15T17:03:39.727Z"
   },
   {
    "duration": 4,
    "start_time": "2022-06-15T17:03:39.732Z"
   },
   {
    "duration": 7,
    "start_time": "2022-06-15T17:03:39.737Z"
   },
   {
    "duration": 4,
    "start_time": "2022-06-15T17:03:39.745Z"
   },
   {
    "duration": 5,
    "start_time": "2022-06-15T17:03:39.751Z"
   },
   {
    "duration": 7,
    "start_time": "2022-06-15T17:03:39.757Z"
   },
   {
    "duration": 10,
    "start_time": "2022-06-15T17:03:39.765Z"
   },
   {
    "duration": 6,
    "start_time": "2022-06-15T17:03:39.795Z"
   },
   {
    "duration": 6,
    "start_time": "2022-06-15T17:03:39.803Z"
   },
   {
    "duration": 7,
    "start_time": "2022-06-15T17:03:39.810Z"
   },
   {
    "duration": 3786,
    "start_time": "2022-06-15T17:03:39.818Z"
   },
   {
    "duration": 5,
    "start_time": "2022-06-15T17:03:43.606Z"
   },
   {
    "duration": 16,
    "start_time": "2022-06-15T17:03:43.612Z"
   },
   {
    "duration": 9,
    "start_time": "2022-06-15T17:03:43.629Z"
   },
   {
    "duration": 4,
    "start_time": "2022-06-15T17:03:43.694Z"
   },
   {
    "duration": 15,
    "start_time": "2022-06-15T17:03:43.699Z"
   },
   {
    "duration": 12,
    "start_time": "2022-06-15T17:03:43.716Z"
   },
   {
    "duration": 9,
    "start_time": "2022-06-15T17:03:43.729Z"
   },
   {
    "duration": 19,
    "start_time": "2022-06-15T17:03:43.740Z"
   },
   {
    "duration": 5,
    "start_time": "2022-06-15T17:03:43.761Z"
   },
   {
    "duration": 33,
    "start_time": "2022-06-15T17:03:43.768Z"
   },
   {
    "duration": 8,
    "start_time": "2022-06-15T17:03:43.803Z"
   },
   {
    "duration": 227,
    "start_time": "2022-06-15T17:03:43.813Z"
   },
   {
    "duration": 6,
    "start_time": "2022-06-15T17:03:44.044Z"
   },
   {
    "duration": 7,
    "start_time": "2022-06-15T17:03:44.051Z"
   },
   {
    "duration": 9,
    "start_time": "2022-06-15T17:03:44.060Z"
   },
   {
    "duration": 6,
    "start_time": "2022-06-15T17:03:44.070Z"
   },
   {
    "duration": 11439,
    "start_time": "2022-06-15T17:03:44.077Z"
   },
   {
    "duration": 7,
    "start_time": "2022-06-15T17:03:55.517Z"
   },
   {
    "duration": 9,
    "start_time": "2022-06-15T17:03:55.525Z"
   },
   {
    "duration": 9,
    "start_time": "2022-06-15T17:03:55.536Z"
   },
   {
    "duration": 6,
    "start_time": "2022-06-15T17:03:55.546Z"
   },
   {
    "duration": 20665,
    "start_time": "2022-06-15T17:03:55.553Z"
   },
   {
    "duration": 78,
    "start_time": "2022-06-15T17:04:16.220Z"
   },
   {
    "duration": 9,
    "start_time": "2022-06-15T17:04:16.299Z"
   },
   {
    "duration": 5,
    "start_time": "2022-06-15T17:04:16.310Z"
   },
   {
    "duration": 7684,
    "start_time": "2022-06-15T17:04:16.316Z"
   },
   {
    "duration": 15,
    "start_time": "2022-06-15T17:04:24.002Z"
   },
   {
    "duration": 117,
    "start_time": "2022-06-15T17:10:07.149Z"
   },
   {
    "duration": 21,
    "start_time": "2022-06-15T17:17:27.753Z"
   },
   {
    "duration": 5,
    "start_time": "2022-06-15T17:19:30.660Z"
   },
   {
    "duration": 224,
    "start_time": "2022-06-15T17:19:30.666Z"
   },
   {
    "duration": 9,
    "start_time": "2022-06-15T17:19:30.892Z"
   },
   {
    "duration": 12,
    "start_time": "2022-06-15T17:19:30.904Z"
   },
   {
    "duration": 11,
    "start_time": "2022-06-15T17:19:30.918Z"
   },
   {
    "duration": 10,
    "start_time": "2022-06-15T17:19:30.930Z"
   },
   {
    "duration": 13,
    "start_time": "2022-06-15T17:19:30.942Z"
   },
   {
    "duration": 37,
    "start_time": "2022-06-15T17:19:30.957Z"
   },
   {
    "duration": 11,
    "start_time": "2022-06-15T17:19:30.996Z"
   },
   {
    "duration": 17,
    "start_time": "2022-06-15T17:19:31.008Z"
   },
   {
    "duration": 8,
    "start_time": "2022-06-15T17:19:31.026Z"
   },
   {
    "duration": 7,
    "start_time": "2022-06-15T17:19:31.035Z"
   },
   {
    "duration": 10,
    "start_time": "2022-06-15T17:19:31.043Z"
   },
   {
    "duration": 10,
    "start_time": "2022-06-15T17:19:31.054Z"
   },
   {
    "duration": 9,
    "start_time": "2022-06-15T17:19:31.065Z"
   },
   {
    "duration": 9,
    "start_time": "2022-06-15T17:19:31.075Z"
   },
   {
    "duration": 96,
    "start_time": "2022-06-15T17:19:31.085Z"
   },
   {
    "duration": 85,
    "start_time": "2022-06-15T17:19:31.182Z"
   },
   {
    "duration": 7,
    "start_time": "2022-06-15T17:19:31.268Z"
   },
   {
    "duration": 18,
    "start_time": "2022-06-15T17:19:31.276Z"
   },
   {
    "duration": 98,
    "start_time": "2022-06-15T17:19:31.296Z"
   },
   {
    "duration": 7,
    "start_time": "2022-06-15T17:19:31.395Z"
   },
   {
    "duration": 7,
    "start_time": "2022-06-15T17:19:31.404Z"
   },
   {
    "duration": 202,
    "start_time": "2022-06-15T17:19:31.414Z"
   },
   {
    "duration": 6,
    "start_time": "2022-06-15T17:19:31.618Z"
   },
   {
    "duration": 4,
    "start_time": "2022-06-15T17:19:31.626Z"
   },
   {
    "duration": 100,
    "start_time": "2022-06-15T17:19:31.632Z"
   },
   {
    "duration": 7,
    "start_time": "2022-06-15T17:19:31.734Z"
   },
   {
    "duration": 8,
    "start_time": "2022-06-15T17:19:31.742Z"
   },
   {
    "duration": 90,
    "start_time": "2022-06-15T17:19:31.752Z"
   },
   {
    "duration": 8,
    "start_time": "2022-06-15T17:19:31.843Z"
   },
   {
    "duration": 14,
    "start_time": "2022-06-15T17:19:31.853Z"
   },
   {
    "duration": 8,
    "start_time": "2022-06-15T17:19:31.869Z"
   },
   {
    "duration": 16,
    "start_time": "2022-06-15T17:19:31.878Z"
   },
   {
    "duration": 15,
    "start_time": "2022-06-15T17:19:31.896Z"
   },
   {
    "duration": 10,
    "start_time": "2022-06-15T17:19:31.912Z"
   },
   {
    "duration": 8,
    "start_time": "2022-06-15T17:19:31.924Z"
   },
   {
    "duration": 7,
    "start_time": "2022-06-15T17:19:31.933Z"
   },
   {
    "duration": 9,
    "start_time": "2022-06-15T17:19:31.942Z"
   },
   {
    "duration": 16,
    "start_time": "2022-06-15T17:19:31.953Z"
   },
   {
    "duration": 25,
    "start_time": "2022-06-15T17:19:31.970Z"
   },
   {
    "duration": 18,
    "start_time": "2022-06-15T17:19:31.997Z"
   },
   {
    "duration": 12,
    "start_time": "2022-06-15T17:19:32.017Z"
   },
   {
    "duration": 27,
    "start_time": "2022-06-15T17:19:32.030Z"
   },
   {
    "duration": 4,
    "start_time": "2022-06-15T17:19:32.059Z"
   },
   {
    "duration": 6,
    "start_time": "2022-06-15T17:19:32.064Z"
   },
   {
    "duration": 5,
    "start_time": "2022-06-15T17:19:32.072Z"
   },
   {
    "duration": 9,
    "start_time": "2022-06-15T17:19:32.079Z"
   },
   {
    "duration": 5,
    "start_time": "2022-06-15T17:19:32.089Z"
   },
   {
    "duration": 6,
    "start_time": "2022-06-15T17:19:32.096Z"
   },
   {
    "duration": 6,
    "start_time": "2022-06-15T17:19:32.103Z"
   },
   {
    "duration": 8,
    "start_time": "2022-06-15T17:19:32.110Z"
   },
   {
    "duration": 5,
    "start_time": "2022-06-15T17:19:32.120Z"
   },
   {
    "duration": 8,
    "start_time": "2022-06-15T17:19:32.127Z"
   },
   {
    "duration": 6,
    "start_time": "2022-06-15T17:19:32.136Z"
   },
   {
    "duration": 3866,
    "start_time": "2022-06-15T17:19:32.144Z"
   },
   {
    "duration": 83,
    "start_time": "2022-06-15T17:19:36.012Z"
   },
   {
    "duration": 24,
    "start_time": "2022-06-15T17:19:36.097Z"
   },
   {
    "duration": 15,
    "start_time": "2022-06-15T17:19:36.123Z"
   },
   {
    "duration": 13,
    "start_time": "2022-06-15T17:19:36.140Z"
   },
   {
    "duration": 17,
    "start_time": "2022-06-15T17:19:36.154Z"
   },
   {
    "duration": 14,
    "start_time": "2022-06-15T17:19:36.172Z"
   },
   {
    "duration": 12,
    "start_time": "2022-06-15T17:19:36.188Z"
   },
   {
    "duration": 24,
    "start_time": "2022-06-15T17:19:36.202Z"
   },
   {
    "duration": 5,
    "start_time": "2022-06-15T17:19:36.228Z"
   },
   {
    "duration": 15,
    "start_time": "2022-06-15T17:19:36.234Z"
   },
   {
    "duration": 6,
    "start_time": "2022-06-15T17:19:36.250Z"
   },
   {
    "duration": 211,
    "start_time": "2022-06-15T17:19:36.257Z"
   },
   {
    "duration": 5,
    "start_time": "2022-06-15T17:19:36.472Z"
   },
   {
    "duration": 7,
    "start_time": "2022-06-15T17:19:36.478Z"
   },
   {
    "duration": 8,
    "start_time": "2022-06-15T17:19:36.486Z"
   },
   {
    "duration": 4,
    "start_time": "2022-06-15T17:19:36.496Z"
   },
   {
    "duration": 70102,
    "start_time": "2022-06-15T17:19:36.501Z"
   },
   {
    "duration": 19,
    "start_time": "2022-06-15T17:20:46.605Z"
   },
   {
    "duration": 5,
    "start_time": "2022-06-15T17:20:46.625Z"
   },
   {
    "duration": 6,
    "start_time": "2022-06-15T17:20:46.632Z"
   },
   {
    "duration": 20576,
    "start_time": "2022-06-15T17:20:46.639Z"
   },
   {
    "duration": 5,
    "start_time": "2022-06-15T17:21:07.217Z"
   },
   {
    "duration": 8,
    "start_time": "2022-06-15T17:21:07.296Z"
   },
   {
    "duration": 8,
    "start_time": "2022-06-15T17:21:07.306Z"
   },
   {
    "duration": 7391,
    "start_time": "2022-06-15T17:21:07.316Z"
   },
   {
    "duration": 14,
    "start_time": "2022-06-15T17:21:14.709Z"
   },
   {
    "duration": 5,
    "start_time": "2022-06-15T17:22:08.656Z"
   },
   {
    "duration": 72,
    "start_time": "2022-06-15T17:22:08.663Z"
   },
   {
    "duration": 10,
    "start_time": "2022-06-15T17:22:08.736Z"
   },
   {
    "duration": 15,
    "start_time": "2022-06-15T17:22:08.747Z"
   },
   {
    "duration": 12,
    "start_time": "2022-06-15T17:22:08.764Z"
   },
   {
    "duration": 6,
    "start_time": "2022-06-15T17:22:08.777Z"
   },
   {
    "duration": 8,
    "start_time": "2022-06-15T17:22:08.785Z"
   },
   {
    "duration": 6,
    "start_time": "2022-06-15T17:22:08.794Z"
   },
   {
    "duration": 5,
    "start_time": "2022-06-15T17:22:08.802Z"
   },
   {
    "duration": 4,
    "start_time": "2022-06-15T17:22:08.809Z"
   },
   {
    "duration": 6,
    "start_time": "2022-06-15T17:22:08.814Z"
   },
   {
    "duration": 10,
    "start_time": "2022-06-15T17:22:08.822Z"
   },
   {
    "duration": 4,
    "start_time": "2022-06-15T17:22:08.835Z"
   },
   {
    "duration": 5,
    "start_time": "2022-06-15T17:22:08.840Z"
   },
   {
    "duration": 8,
    "start_time": "2022-06-15T17:22:08.847Z"
   },
   {
    "duration": 5,
    "start_time": "2022-06-15T17:22:08.856Z"
   },
   {
    "duration": 110,
    "start_time": "2022-06-15T17:22:08.862Z"
   },
   {
    "duration": 100,
    "start_time": "2022-06-15T17:22:08.973Z"
   },
   {
    "duration": 25,
    "start_time": "2022-06-15T17:22:09.074Z"
   },
   {
    "duration": 5,
    "start_time": "2022-06-15T17:22:09.101Z"
   },
   {
    "duration": 103,
    "start_time": "2022-06-15T17:22:09.107Z"
   },
   {
    "duration": 7,
    "start_time": "2022-06-15T17:22:09.211Z"
   },
   {
    "duration": 5,
    "start_time": "2022-06-15T17:22:09.219Z"
   },
   {
    "duration": 105,
    "start_time": "2022-06-15T17:22:09.225Z"
   },
   {
    "duration": 6,
    "start_time": "2022-06-15T17:22:09.332Z"
   },
   {
    "duration": 5,
    "start_time": "2022-06-15T17:22:09.340Z"
   },
   {
    "duration": 95,
    "start_time": "2022-06-15T17:22:09.346Z"
   },
   {
    "duration": 6,
    "start_time": "2022-06-15T17:22:09.443Z"
   },
   {
    "duration": 5,
    "start_time": "2022-06-15T17:22:09.451Z"
   },
   {
    "duration": 92,
    "start_time": "2022-06-15T17:22:09.457Z"
   },
   {
    "duration": 6,
    "start_time": "2022-06-15T17:22:09.550Z"
   },
   {
    "duration": 4,
    "start_time": "2022-06-15T17:22:09.558Z"
   },
   {
    "duration": 6,
    "start_time": "2022-06-15T17:22:09.563Z"
   },
   {
    "duration": 4,
    "start_time": "2022-06-15T17:22:09.571Z"
   },
   {
    "duration": 31,
    "start_time": "2022-06-15T17:22:09.577Z"
   },
   {
    "duration": 6,
    "start_time": "2022-06-15T17:22:09.610Z"
   },
   {
    "duration": 4,
    "start_time": "2022-06-15T17:22:09.620Z"
   },
   {
    "duration": 5,
    "start_time": "2022-06-15T17:22:09.625Z"
   },
   {
    "duration": 7,
    "start_time": "2022-06-15T17:22:09.631Z"
   },
   {
    "duration": 12,
    "start_time": "2022-06-15T17:22:09.640Z"
   },
   {
    "duration": 3,
    "start_time": "2022-06-15T17:22:09.654Z"
   },
   {
    "duration": 3,
    "start_time": "2022-06-15T17:22:09.659Z"
   },
   {
    "duration": 34,
    "start_time": "2022-06-15T17:22:09.663Z"
   },
   {
    "duration": 16,
    "start_time": "2022-06-15T17:22:09.698Z"
   },
   {
    "duration": 4,
    "start_time": "2022-06-15T17:22:09.715Z"
   },
   {
    "duration": 4,
    "start_time": "2022-06-15T17:22:09.721Z"
   },
   {
    "duration": 4,
    "start_time": "2022-06-15T17:22:09.726Z"
   },
   {
    "duration": 5,
    "start_time": "2022-06-15T17:22:09.731Z"
   },
   {
    "duration": 6,
    "start_time": "2022-06-15T17:22:09.738Z"
   },
   {
    "duration": 3,
    "start_time": "2022-06-15T17:22:09.746Z"
   },
   {
    "duration": 6,
    "start_time": "2022-06-15T17:22:09.750Z"
   },
   {
    "duration": 6,
    "start_time": "2022-06-15T17:22:09.758Z"
   },
   {
    "duration": 2,
    "start_time": "2022-06-15T17:22:09.794Z"
   },
   {
    "duration": 9,
    "start_time": "2022-06-15T17:22:09.798Z"
   },
   {
    "duration": 11,
    "start_time": "2022-06-15T17:22:09.808Z"
   },
   {
    "duration": 3489,
    "start_time": "2022-06-15T17:22:09.820Z"
   },
   {
    "duration": 10,
    "start_time": "2022-06-15T17:22:13.311Z"
   },
   {
    "duration": 81,
    "start_time": "2022-06-15T17:22:13.323Z"
   },
   {
    "duration": 7,
    "start_time": "2022-06-15T17:22:13.406Z"
   },
   {
    "duration": 7,
    "start_time": "2022-06-15T17:22:13.414Z"
   },
   {
    "duration": 14,
    "start_time": "2022-06-15T17:22:13.423Z"
   },
   {
    "duration": 4,
    "start_time": "2022-06-15T17:22:13.439Z"
   },
   {
    "duration": 7,
    "start_time": "2022-06-15T17:22:13.444Z"
   },
   {
    "duration": 43,
    "start_time": "2022-06-15T17:22:13.452Z"
   },
   {
    "duration": 3,
    "start_time": "2022-06-15T17:22:13.497Z"
   },
   {
    "duration": 12,
    "start_time": "2022-06-15T17:22:13.502Z"
   },
   {
    "duration": 5,
    "start_time": "2022-06-15T17:22:13.516Z"
   },
   {
    "duration": 215,
    "start_time": "2022-06-15T17:22:13.523Z"
   },
   {
    "duration": 6,
    "start_time": "2022-06-15T17:22:13.740Z"
   },
   {
    "duration": 9,
    "start_time": "2022-06-15T17:22:13.748Z"
   },
   {
    "duration": 5,
    "start_time": "2022-06-15T17:22:13.759Z"
   },
   {
    "duration": 6,
    "start_time": "2022-06-15T17:22:13.766Z"
   },
   {
    "duration": 39,
    "start_time": "2022-06-15T17:22:13.773Z"
   },
   {
    "duration": 0,
    "start_time": "2022-06-15T17:22:13.815Z"
   },
   {
    "duration": 0,
    "start_time": "2022-06-15T17:22:13.816Z"
   },
   {
    "duration": 0,
    "start_time": "2022-06-15T17:22:13.818Z"
   },
   {
    "duration": 0,
    "start_time": "2022-06-15T17:22:13.819Z"
   },
   {
    "duration": 0,
    "start_time": "2022-06-15T17:22:13.820Z"
   },
   {
    "duration": 0,
    "start_time": "2022-06-15T17:22:13.822Z"
   },
   {
    "duration": 0,
    "start_time": "2022-06-15T17:22:13.823Z"
   },
   {
    "duration": 0,
    "start_time": "2022-06-15T17:22:13.825Z"
   },
   {
    "duration": 0,
    "start_time": "2022-06-15T17:22:13.826Z"
   },
   {
    "duration": 34313,
    "start_time": "2022-06-15T17:23:43.197Z"
   },
   {
    "duration": 91,
    "start_time": "2022-06-15T17:24:17.512Z"
   },
   {
    "duration": 5,
    "start_time": "2022-06-15T17:25:20.097Z"
   },
   {
    "duration": 6,
    "start_time": "2022-06-15T17:25:20.104Z"
   },
   {
    "duration": 7,
    "start_time": "2022-06-15T17:25:20.112Z"
   },
   {
    "duration": 5,
    "start_time": "2022-06-15T17:25:20.121Z"
   },
   {
    "duration": 60972,
    "start_time": "2022-06-15T17:25:20.127Z"
   },
   {
    "duration": 20,
    "start_time": "2022-06-15T17:26:21.101Z"
   },
   {
    "duration": 10,
    "start_time": "2022-06-15T17:26:21.122Z"
   },
   {
    "duration": 4,
    "start_time": "2022-06-15T17:26:21.133Z"
   },
   {
    "duration": 20861,
    "start_time": "2022-06-15T17:26:21.138Z"
   },
   {
    "duration": 7,
    "start_time": "2022-06-15T17:26:42.001Z"
   },
   {
    "duration": 6,
    "start_time": "2022-06-15T17:26:42.010Z"
   },
   {
    "duration": 6,
    "start_time": "2022-06-15T17:26:42.018Z"
   },
   {
    "duration": 7589,
    "start_time": "2022-06-15T17:26:42.026Z"
   },
   {
    "duration": 90,
    "start_time": "2022-06-15T17:26:49.617Z"
   },
   {
    "duration": 6,
    "start_time": "2022-06-15T17:27:14.581Z"
   },
   {
    "duration": 8,
    "start_time": "2022-06-15T17:27:14.589Z"
   },
   {
    "duration": 6,
    "start_time": "2022-06-15T17:27:14.599Z"
   },
   {
    "duration": 7,
    "start_time": "2022-06-15T17:27:14.607Z"
   },
   {
    "duration": 56923,
    "start_time": "2022-06-15T17:27:14.616Z"
   },
   {
    "duration": 20,
    "start_time": "2022-06-15T17:28:11.541Z"
   },
   {
    "duration": 8,
    "start_time": "2022-06-15T17:28:11.563Z"
   },
   {
    "duration": 8,
    "start_time": "2022-06-15T17:28:11.573Z"
   },
   {
    "duration": 20724,
    "start_time": "2022-06-15T17:28:11.583Z"
   },
   {
    "duration": 6,
    "start_time": "2022-06-15T17:28:32.309Z"
   },
   {
    "duration": 7,
    "start_time": "2022-06-15T17:28:32.316Z"
   },
   {
    "duration": 68,
    "start_time": "2022-06-15T17:28:32.326Z"
   },
   {
    "duration": 7512,
    "start_time": "2022-06-15T17:28:32.396Z"
   },
   {
    "duration": 13,
    "start_time": "2022-06-15T17:28:39.909Z"
   },
   {
    "duration": 6,
    "start_time": "2022-06-15T17:32:40.847Z"
   },
   {
    "duration": 7,
    "start_time": "2022-06-15T17:32:40.855Z"
   },
   {
    "duration": 3,
    "start_time": "2022-06-15T17:32:40.874Z"
   },
   {
    "duration": 5,
    "start_time": "2022-06-15T17:32:40.879Z"
   },
   {
    "duration": 43674,
    "start_time": "2022-06-15T17:32:40.925Z"
   },
   {
    "duration": 33,
    "start_time": "2022-06-15T17:33:24.602Z"
   },
   {
    "duration": 5,
    "start_time": "2022-06-15T17:35:48.310Z"
   },
   {
    "duration": 8,
    "start_time": "2022-06-15T17:35:48.317Z"
   },
   {
    "duration": 5,
    "start_time": "2022-06-15T17:35:48.326Z"
   },
   {
    "duration": 5,
    "start_time": "2022-06-15T17:35:48.333Z"
   },
   {
    "duration": 56560,
    "start_time": "2022-06-15T17:35:48.340Z"
   },
   {
    "duration": 21,
    "start_time": "2022-06-15T17:36:44.901Z"
   },
   {
    "duration": 7,
    "start_time": "2022-06-15T17:38:17.146Z"
   },
   {
    "duration": 12,
    "start_time": "2022-06-15T17:38:17.155Z"
   },
   {
    "duration": 6,
    "start_time": "2022-06-15T17:38:17.170Z"
   },
   {
    "duration": 5,
    "start_time": "2022-06-15T17:38:17.178Z"
   },
   {
    "duration": 32322,
    "start_time": "2022-06-15T17:38:17.185Z"
   },
   {
    "duration": 20,
    "start_time": "2022-06-15T17:38:49.509Z"
   },
   {
    "duration": 6,
    "start_time": "2022-06-15T18:13:37.690Z"
   },
   {
    "duration": 9,
    "start_time": "2022-06-15T18:35:14.204Z"
   },
   {
    "duration": 128,
    "start_time": "2022-06-15T18:35:14.216Z"
   },
   {
    "duration": 13,
    "start_time": "2022-06-15T18:35:14.346Z"
   },
   {
    "duration": 9,
    "start_time": "2022-06-15T18:35:14.362Z"
   },
   {
    "duration": 9,
    "start_time": "2022-06-15T18:35:14.372Z"
   },
   {
    "duration": 8,
    "start_time": "2022-06-15T18:35:14.383Z"
   },
   {
    "duration": 20,
    "start_time": "2022-06-15T18:35:14.393Z"
   },
   {
    "duration": 15,
    "start_time": "2022-06-15T18:35:14.415Z"
   },
   {
    "duration": 9,
    "start_time": "2022-06-15T18:35:14.432Z"
   },
   {
    "duration": 22,
    "start_time": "2022-06-15T18:35:14.445Z"
   },
   {
    "duration": 9,
    "start_time": "2022-06-15T18:35:14.468Z"
   },
   {
    "duration": 8,
    "start_time": "2022-06-15T18:35:14.479Z"
   },
   {
    "duration": 9,
    "start_time": "2022-06-15T18:35:14.489Z"
   },
   {
    "duration": 26,
    "start_time": "2022-06-15T18:35:14.500Z"
   },
   {
    "duration": 26,
    "start_time": "2022-06-15T18:35:14.530Z"
   },
   {
    "duration": 3,
    "start_time": "2022-06-15T18:35:14.559Z"
   },
   {
    "duration": 6,
    "start_time": "2022-06-15T18:35:14.564Z"
   },
   {
    "duration": 7,
    "start_time": "2022-06-15T18:35:14.573Z"
   },
   {
    "duration": 7,
    "start_time": "2022-06-15T18:35:14.583Z"
   },
   {
    "duration": 26,
    "start_time": "2022-06-15T18:35:14.592Z"
   },
   {
    "duration": 6480,
    "start_time": "2022-06-15T18:35:14.621Z"
   },
   {
    "duration": 502,
    "start_time": "2022-06-15T18:35:21.102Z"
   },
   {
    "duration": 0,
    "start_time": "2022-06-15T18:35:21.606Z"
   },
   {
    "duration": 0,
    "start_time": "2022-06-15T18:35:21.607Z"
   },
   {
    "duration": 0,
    "start_time": "2022-06-15T18:35:21.608Z"
   },
   {
    "duration": 0,
    "start_time": "2022-06-15T18:35:21.609Z"
   },
   {
    "duration": 0,
    "start_time": "2022-06-15T18:35:21.610Z"
   },
   {
    "duration": 0,
    "start_time": "2022-06-15T18:35:21.612Z"
   },
   {
    "duration": 0,
    "start_time": "2022-06-15T18:35:21.612Z"
   },
   {
    "duration": 0,
    "start_time": "2022-06-15T18:35:21.613Z"
   },
   {
    "duration": 0,
    "start_time": "2022-06-15T18:35:21.614Z"
   },
   {
    "duration": 1,
    "start_time": "2022-06-15T18:35:21.615Z"
   },
   {
    "duration": 0,
    "start_time": "2022-06-15T18:35:21.617Z"
   },
   {
    "duration": 191,
    "start_time": "2022-06-15T18:35:35.657Z"
   },
   {
    "duration": 7515,
    "start_time": "2022-06-15T18:36:44.909Z"
   },
   {
    "duration": 65,
    "start_time": "2022-06-15T18:37:07.547Z"
   },
   {
    "duration": 6,
    "start_time": "2022-06-15T18:37:23.244Z"
   },
   {
    "duration": 5312,
    "start_time": "2022-06-15T18:37:31.307Z"
   },
   {
    "duration": 6,
    "start_time": "2022-06-15T18:37:48.660Z"
   },
   {
    "duration": 83,
    "start_time": "2022-06-15T18:37:48.668Z"
   },
   {
    "duration": 11,
    "start_time": "2022-06-15T18:37:48.753Z"
   },
   {
    "duration": 7,
    "start_time": "2022-06-15T18:37:48.766Z"
   },
   {
    "duration": 9,
    "start_time": "2022-06-15T18:37:48.776Z"
   },
   {
    "duration": 7,
    "start_time": "2022-06-15T18:37:48.787Z"
   },
   {
    "duration": 8,
    "start_time": "2022-06-15T18:37:48.795Z"
   },
   {
    "duration": 8,
    "start_time": "2022-06-15T18:37:48.805Z"
   },
   {
    "duration": 10,
    "start_time": "2022-06-15T18:37:48.814Z"
   },
   {
    "duration": 17,
    "start_time": "2022-06-15T18:37:48.825Z"
   },
   {
    "duration": 6,
    "start_time": "2022-06-15T18:37:48.845Z"
   },
   {
    "duration": 10,
    "start_time": "2022-06-15T18:37:48.853Z"
   },
   {
    "duration": 8,
    "start_time": "2022-06-15T18:37:48.864Z"
   },
   {
    "duration": 7,
    "start_time": "2022-06-15T18:37:48.874Z"
   },
   {
    "duration": 16,
    "start_time": "2022-06-15T18:37:48.895Z"
   },
   {
    "duration": 8,
    "start_time": "2022-06-15T18:37:48.913Z"
   },
   {
    "duration": 6,
    "start_time": "2022-06-15T18:37:48.924Z"
   },
   {
    "duration": 7,
    "start_time": "2022-06-15T18:37:48.931Z"
   },
   {
    "duration": 7,
    "start_time": "2022-06-15T18:37:48.939Z"
   },
   {
    "duration": 8,
    "start_time": "2022-06-15T18:37:48.948Z"
   },
   {
    "duration": 5036,
    "start_time": "2022-06-15T18:37:48.958Z"
   },
   {
    "duration": 7,
    "start_time": "2022-06-15T18:37:53.996Z"
   },
   {
    "duration": 5,
    "start_time": "2022-06-15T18:37:54.004Z"
   },
   {
    "duration": 10,
    "start_time": "2022-06-15T18:37:54.010Z"
   },
   {
    "duration": 18,
    "start_time": "2022-06-15T18:37:54.023Z"
   },
   {
    "duration": 8,
    "start_time": "2022-06-15T18:37:54.043Z"
   },
   {
    "duration": 289,
    "start_time": "2022-06-15T18:37:54.053Z"
   },
   {
    "duration": 5,
    "start_time": "2022-06-15T18:37:54.344Z"
   },
   {
    "duration": 3,
    "start_time": "2022-06-15T18:37:54.353Z"
   },
   {
    "duration": 5,
    "start_time": "2022-06-15T18:37:54.357Z"
   },
   {
    "duration": 6,
    "start_time": "2022-06-15T18:37:54.363Z"
   },
   {
    "duration": 33438,
    "start_time": "2022-06-15T18:37:54.370Z"
   },
   {
    "duration": 22,
    "start_time": "2022-06-15T18:38:27.809Z"
   },
   {
    "duration": 7,
    "start_time": "2022-06-15T18:45:10.545Z"
   },
   {
    "duration": 63,
    "start_time": "2022-06-15T18:45:10.553Z"
   },
   {
    "duration": 11,
    "start_time": "2022-06-15T18:45:10.617Z"
   },
   {
    "duration": 6,
    "start_time": "2022-06-15T18:45:10.631Z"
   },
   {
    "duration": 7,
    "start_time": "2022-06-15T18:45:10.638Z"
   },
   {
    "duration": 5,
    "start_time": "2022-06-15T18:45:10.647Z"
   },
   {
    "duration": 8,
    "start_time": "2022-06-15T18:45:10.654Z"
   },
   {
    "duration": 7,
    "start_time": "2022-06-15T18:45:10.663Z"
   },
   {
    "duration": 23,
    "start_time": "2022-06-15T18:45:10.672Z"
   },
   {
    "duration": 14,
    "start_time": "2022-06-15T18:45:10.698Z"
   },
   {
    "duration": 5,
    "start_time": "2022-06-15T18:45:10.714Z"
   },
   {
    "duration": 8,
    "start_time": "2022-06-15T18:45:10.720Z"
   },
   {
    "duration": 7,
    "start_time": "2022-06-15T18:45:10.730Z"
   },
   {
    "duration": 5,
    "start_time": "2022-06-15T18:45:10.738Z"
   },
   {
    "duration": 18,
    "start_time": "2022-06-15T18:45:10.744Z"
   },
   {
    "duration": 3,
    "start_time": "2022-06-15T18:45:10.763Z"
   },
   {
    "duration": 28,
    "start_time": "2022-06-15T18:45:10.768Z"
   },
   {
    "duration": 6,
    "start_time": "2022-06-15T18:45:10.798Z"
   },
   {
    "duration": 6,
    "start_time": "2022-06-15T18:45:10.805Z"
   },
   {
    "duration": 6,
    "start_time": "2022-06-15T18:45:10.813Z"
   },
   {
    "duration": 4283,
    "start_time": "2022-06-15T18:45:10.821Z"
   },
   {
    "duration": 7,
    "start_time": "2022-06-15T18:45:15.106Z"
   },
   {
    "duration": 5,
    "start_time": "2022-06-15T18:45:15.114Z"
   },
   {
    "duration": 12,
    "start_time": "2022-06-15T18:45:15.121Z"
   },
   {
    "duration": 26,
    "start_time": "2022-06-15T18:45:15.195Z"
   },
   {
    "duration": 7,
    "start_time": "2022-06-15T18:45:15.223Z"
   },
   {
    "duration": 382,
    "start_time": "2022-06-15T18:45:15.233Z"
   },
   {
    "duration": 5,
    "start_time": "2022-06-15T18:45:15.619Z"
   },
   {
    "duration": 7,
    "start_time": "2022-06-15T18:45:15.626Z"
   },
   {
    "duration": 7,
    "start_time": "2022-06-15T18:45:15.634Z"
   },
   {
    "duration": 431481,
    "start_time": "2022-06-15T18:45:15.642Z"
   },
   {
    "duration": 21,
    "start_time": "2022-06-15T18:52:27.194Z"
   },
   {
    "duration": 6,
    "start_time": "2022-06-15T18:54:33.190Z"
   },
   {
    "duration": 5,
    "start_time": "2022-06-15T18:54:33.199Z"
   },
   {
    "duration": 6,
    "start_time": "2022-06-15T18:54:33.206Z"
   },
   {
    "duration": 5200,
    "start_time": "2022-06-15T18:54:33.214Z"
   },
   {
    "duration": 85,
    "start_time": "2022-06-15T18:54:38.417Z"
   },
   {
    "duration": 5,
    "start_time": "2022-06-15T18:55:11.426Z"
   },
   {
    "duration": 5,
    "start_time": "2022-06-15T18:55:11.433Z"
   },
   {
    "duration": 7,
    "start_time": "2022-06-15T18:55:11.440Z"
   },
   {
    "duration": 5155,
    "start_time": "2022-06-15T18:55:11.449Z"
   },
   {
    "duration": 20,
    "start_time": "2022-06-15T18:55:16.606Z"
   },
   {
    "duration": 6,
    "start_time": "2022-06-15T18:55:59.226Z"
   },
   {
    "duration": 10,
    "start_time": "2022-06-15T18:55:59.234Z"
   },
   {
    "duration": 5,
    "start_time": "2022-06-15T18:55:59.246Z"
   },
   {
    "duration": 5361,
    "start_time": "2022-06-15T18:55:59.252Z"
   },
   {
    "duration": 19,
    "start_time": "2022-06-15T18:56:04.615Z"
   },
   {
    "duration": 7,
    "start_time": "2022-06-15T18:56:20.210Z"
   },
   {
    "duration": 9,
    "start_time": "2022-06-15T18:56:20.218Z"
   },
   {
    "duration": 7,
    "start_time": "2022-06-15T18:56:20.228Z"
   },
   {
    "duration": 586878,
    "start_time": "2022-06-15T18:56:20.236Z"
   },
   {
    "duration": 19,
    "start_time": "2022-06-15T19:06:07.116Z"
   },
   {
    "duration": 6,
    "start_time": "2022-06-15T19:06:35.015Z"
   },
   {
    "duration": 9,
    "start_time": "2022-06-15T19:06:35.023Z"
   },
   {
    "duration": 6,
    "start_time": "2022-06-15T19:06:35.033Z"
   },
   {
    "duration": 537482,
    "start_time": "2022-06-15T19:06:35.041Z"
   },
   {
    "duration": 20,
    "start_time": "2022-06-15T19:15:32.594Z"
   },
   {
    "duration": 6,
    "start_time": "2022-06-15T19:18:11.839Z"
   },
   {
    "duration": 7,
    "start_time": "2022-06-15T19:18:11.847Z"
   },
   {
    "duration": 9,
    "start_time": "2022-06-15T19:18:11.856Z"
   },
   {
    "duration": 5755,
    "start_time": "2022-06-15T19:18:11.866Z"
   },
   {
    "duration": 82,
    "start_time": "2022-06-15T19:18:17.623Z"
   },
   {
    "duration": 6,
    "start_time": "2022-06-15T19:18:41.687Z"
   },
   {
    "duration": 71,
    "start_time": "2022-06-15T19:18:41.707Z"
   },
   {
    "duration": 11,
    "start_time": "2022-06-15T19:18:41.779Z"
   },
   {
    "duration": 8,
    "start_time": "2022-06-15T19:18:41.792Z"
   },
   {
    "duration": 16,
    "start_time": "2022-06-15T19:18:41.802Z"
   },
   {
    "duration": 8,
    "start_time": "2022-06-15T19:18:41.820Z"
   },
   {
    "duration": 5,
    "start_time": "2022-06-15T19:18:41.829Z"
   },
   {
    "duration": 5,
    "start_time": "2022-06-15T19:18:41.836Z"
   },
   {
    "duration": 8,
    "start_time": "2022-06-15T19:18:41.842Z"
   },
   {
    "duration": 16,
    "start_time": "2022-06-15T19:18:41.851Z"
   },
   {
    "duration": 3,
    "start_time": "2022-06-15T19:18:41.869Z"
   },
   {
    "duration": 5,
    "start_time": "2022-06-15T19:18:41.874Z"
   },
   {
    "duration": 30,
    "start_time": "2022-06-15T19:18:41.881Z"
   },
   {
    "duration": 6,
    "start_time": "2022-06-15T19:18:41.913Z"
   },
   {
    "duration": 15,
    "start_time": "2022-06-15T19:18:41.922Z"
   },
   {
    "duration": 3,
    "start_time": "2022-06-15T19:18:41.938Z"
   },
   {
    "duration": 5,
    "start_time": "2022-06-15T19:18:41.942Z"
   },
   {
    "duration": 6,
    "start_time": "2022-06-15T19:18:41.948Z"
   },
   {
    "duration": 5,
    "start_time": "2022-06-15T19:18:41.956Z"
   },
   {
    "duration": 6,
    "start_time": "2022-06-15T19:18:41.963Z"
   },
   {
    "duration": 5650,
    "start_time": "2022-06-15T19:18:41.971Z"
   },
   {
    "duration": 92,
    "start_time": "2022-06-15T19:18:47.623Z"
   },
   {
    "duration": 9,
    "start_time": "2022-06-15T19:18:47.717Z"
   },
   {
    "duration": 12,
    "start_time": "2022-06-15T19:18:47.728Z"
   },
   {
    "duration": 54,
    "start_time": "2022-06-15T19:18:47.741Z"
   },
   {
    "duration": 7,
    "start_time": "2022-06-15T19:18:47.798Z"
   },
   {
    "duration": 232,
    "start_time": "2022-06-15T19:18:47.808Z"
   },
   {
    "duration": 6,
    "start_time": "2022-06-15T19:18:48.042Z"
   },
   {
    "duration": 8,
    "start_time": "2022-06-15T19:18:48.049Z"
   },
   {
    "duration": 5,
    "start_time": "2022-06-15T19:18:48.058Z"
   },
   {
    "duration": 664050,
    "start_time": "2022-06-15T19:18:48.065Z"
   },
   {
    "duration": 79,
    "start_time": "2022-06-15T19:29:52.116Z"
   },
   {
    "duration": 51,
    "start_time": "2022-06-15T19:29:52.198Z"
   },
   {
    "duration": 51,
    "start_time": "2022-06-15T19:30:02.157Z"
   },
   {
    "duration": 3,
    "start_time": "2022-06-15T19:30:09.024Z"
   },
   {
    "duration": 4,
    "start_time": "2022-06-15T19:30:52.089Z"
   },
   {
    "duration": 3,
    "start_time": "2022-06-15T19:31:05.417Z"
   },
   {
    "duration": 4,
    "start_time": "2022-06-15T19:31:08.765Z"
   },
   {
    "duration": 4,
    "start_time": "2022-06-15T19:31:18.481Z"
   },
   {
    "duration": 4,
    "start_time": "2022-06-15T19:31:19.395Z"
   },
   {
    "duration": 5,
    "start_time": "2022-06-15T19:32:36.530Z"
   },
   {
    "duration": 69,
    "start_time": "2022-06-15T19:32:36.537Z"
   },
   {
    "duration": 10,
    "start_time": "2022-06-15T19:32:36.608Z"
   },
   {
    "duration": 6,
    "start_time": "2022-06-15T19:32:36.619Z"
   },
   {
    "duration": 6,
    "start_time": "2022-06-15T19:32:36.627Z"
   },
   {
    "duration": 5,
    "start_time": "2022-06-15T19:32:36.634Z"
   },
   {
    "duration": 5,
    "start_time": "2022-06-15T19:32:36.640Z"
   },
   {
    "duration": 4,
    "start_time": "2022-06-15T19:32:36.646Z"
   },
   {
    "duration": 5,
    "start_time": "2022-06-15T19:32:36.651Z"
   },
   {
    "duration": 4,
    "start_time": "2022-06-15T19:32:36.658Z"
   },
   {
    "duration": 32,
    "start_time": "2022-06-15T19:32:36.664Z"
   },
   {
    "duration": 13,
    "start_time": "2022-06-15T19:32:36.697Z"
   },
   {
    "duration": 5,
    "start_time": "2022-06-15T19:32:36.712Z"
   },
   {
    "duration": 9,
    "start_time": "2022-06-15T19:32:36.718Z"
   },
   {
    "duration": 4,
    "start_time": "2022-06-15T19:32:36.728Z"
   },
   {
    "duration": 4,
    "start_time": "2022-06-15T19:32:36.734Z"
   },
   {
    "duration": 15,
    "start_time": "2022-06-15T19:32:36.739Z"
   },
   {
    "duration": 8,
    "start_time": "2022-06-15T19:32:36.755Z"
   },
   {
    "duration": 0,
    "start_time": "2022-06-15T19:32:36.765Z"
   },
   {
    "duration": 0,
    "start_time": "2022-06-15T19:32:36.799Z"
   },
   {
    "duration": 0,
    "start_time": "2022-06-15T19:32:36.800Z"
   },
   {
    "duration": 0,
    "start_time": "2022-06-15T19:32:36.801Z"
   },
   {
    "duration": 0,
    "start_time": "2022-06-15T19:32:36.803Z"
   },
   {
    "duration": 0,
    "start_time": "2022-06-15T19:32:36.804Z"
   },
   {
    "duration": 0,
    "start_time": "2022-06-15T19:32:36.805Z"
   },
   {
    "duration": 0,
    "start_time": "2022-06-15T19:32:36.806Z"
   },
   {
    "duration": 0,
    "start_time": "2022-06-15T19:32:36.807Z"
   },
   {
    "duration": 0,
    "start_time": "2022-06-15T19:32:36.808Z"
   },
   {
    "duration": 0,
    "start_time": "2022-06-15T19:32:36.809Z"
   },
   {
    "duration": 0,
    "start_time": "2022-06-15T19:32:36.810Z"
   },
   {
    "duration": 0,
    "start_time": "2022-06-15T19:32:36.811Z"
   },
   {
    "duration": 0,
    "start_time": "2022-06-15T19:32:36.812Z"
   },
   {
    "duration": 0,
    "start_time": "2022-06-15T19:32:36.813Z"
   },
   {
    "duration": 0,
    "start_time": "2022-06-15T19:32:36.814Z"
   },
   {
    "duration": 1624,
    "start_time": "2022-06-15T19:33:21.473Z"
   },
   {
    "duration": 78,
    "start_time": "2022-06-15T19:33:23.099Z"
   },
   {
    "duration": 11,
    "start_time": "2022-06-15T19:33:23.179Z"
   },
   {
    "duration": 7,
    "start_time": "2022-06-15T19:33:23.192Z"
   },
   {
    "duration": 7,
    "start_time": "2022-06-15T19:33:23.200Z"
   },
   {
    "duration": 5,
    "start_time": "2022-06-15T19:33:23.208Z"
   },
   {
    "duration": 7,
    "start_time": "2022-06-15T19:33:23.215Z"
   },
   {
    "duration": 5,
    "start_time": "2022-06-15T19:33:23.223Z"
   },
   {
    "duration": 5,
    "start_time": "2022-06-15T19:33:23.229Z"
   },
   {
    "duration": 8,
    "start_time": "2022-06-15T19:33:23.237Z"
   },
   {
    "duration": 6,
    "start_time": "2022-06-15T19:33:23.246Z"
   },
   {
    "duration": 15,
    "start_time": "2022-06-15T19:33:23.254Z"
   },
   {
    "duration": 29,
    "start_time": "2022-06-15T19:33:23.270Z"
   },
   {
    "duration": 9,
    "start_time": "2022-06-15T19:33:23.301Z"
   },
   {
    "duration": 7,
    "start_time": "2022-06-15T19:33:23.311Z"
   },
   {
    "duration": 5,
    "start_time": "2022-06-15T19:33:23.320Z"
   },
   {
    "duration": 16,
    "start_time": "2022-06-15T19:33:23.326Z"
   },
   {
    "duration": 150,
    "start_time": "2022-06-15T19:33:23.344Z"
   },
   {
    "duration": 0,
    "start_time": "2022-06-15T19:33:23.496Z"
   },
   {
    "duration": 0,
    "start_time": "2022-06-15T19:33:23.498Z"
   },
   {
    "duration": 0,
    "start_time": "2022-06-15T19:33:23.500Z"
   },
   {
    "duration": 0,
    "start_time": "2022-06-15T19:33:23.502Z"
   },
   {
    "duration": 0,
    "start_time": "2022-06-15T19:33:23.503Z"
   },
   {
    "duration": 0,
    "start_time": "2022-06-15T19:33:23.504Z"
   },
   {
    "duration": 0,
    "start_time": "2022-06-15T19:33:23.506Z"
   },
   {
    "duration": 0,
    "start_time": "2022-06-15T19:33:23.508Z"
   },
   {
    "duration": 0,
    "start_time": "2022-06-15T19:33:23.509Z"
   },
   {
    "duration": 0,
    "start_time": "2022-06-15T19:33:23.510Z"
   },
   {
    "duration": 0,
    "start_time": "2022-06-15T19:33:23.512Z"
   },
   {
    "duration": 0,
    "start_time": "2022-06-15T19:33:23.513Z"
   },
   {
    "duration": 0,
    "start_time": "2022-06-15T19:33:23.515Z"
   },
   {
    "duration": 0,
    "start_time": "2022-06-15T19:33:23.516Z"
   },
   {
    "duration": 0,
    "start_time": "2022-06-15T19:33:23.518Z"
   },
   {
    "duration": 0,
    "start_time": "2022-06-15T19:33:23.519Z"
   },
   {
    "duration": 6,
    "start_time": "2022-06-15T19:34:24.582Z"
   },
   {
    "duration": 84,
    "start_time": "2022-06-15T19:34:24.591Z"
   },
   {
    "duration": 11,
    "start_time": "2022-06-15T19:34:24.676Z"
   },
   {
    "duration": 7,
    "start_time": "2022-06-15T19:34:24.689Z"
   },
   {
    "duration": 9,
    "start_time": "2022-06-15T19:34:24.697Z"
   },
   {
    "duration": 5,
    "start_time": "2022-06-15T19:34:24.708Z"
   },
   {
    "duration": 5,
    "start_time": "2022-06-15T19:34:24.714Z"
   },
   {
    "duration": 7,
    "start_time": "2022-06-15T19:34:24.720Z"
   },
   {
    "duration": 5,
    "start_time": "2022-06-15T19:34:24.729Z"
   },
   {
    "duration": 5,
    "start_time": "2022-06-15T19:34:24.735Z"
   },
   {
    "duration": 6,
    "start_time": "2022-06-15T19:34:24.742Z"
   },
   {
    "duration": 15,
    "start_time": "2022-06-15T19:34:24.750Z"
   },
   {
    "duration": 5,
    "start_time": "2022-06-15T19:34:24.795Z"
   },
   {
    "duration": 10,
    "start_time": "2022-06-15T19:34:24.801Z"
   },
   {
    "duration": 6,
    "start_time": "2022-06-15T19:34:24.813Z"
   },
   {
    "duration": 9,
    "start_time": "2022-06-15T19:34:24.821Z"
   },
   {
    "duration": 22,
    "start_time": "2022-06-15T19:34:24.832Z"
   },
   {
    "duration": 3,
    "start_time": "2022-06-15T19:34:24.855Z"
   },
   {
    "duration": 6,
    "start_time": "2022-06-15T19:34:24.860Z"
   },
   {
    "duration": 5,
    "start_time": "2022-06-15T19:34:24.868Z"
   },
   {
    "duration": 31,
    "start_time": "2022-06-15T19:34:24.874Z"
   },
   {
    "duration": 3,
    "start_time": "2022-06-15T19:34:24.907Z"
   },
   {
    "duration": 4188,
    "start_time": "2022-06-15T19:34:24.912Z"
   },
   {
    "duration": 5,
    "start_time": "2022-06-15T19:34:29.103Z"
   },
   {
    "duration": 8,
    "start_time": "2022-06-15T19:34:29.109Z"
   },
   {
    "duration": 9,
    "start_time": "2022-06-15T19:34:29.118Z"
   },
   {
    "duration": 14,
    "start_time": "2022-06-15T19:34:29.129Z"
   },
   {
    "duration": 51,
    "start_time": "2022-06-15T19:34:29.144Z"
   },
   {
    "duration": 242,
    "start_time": "2022-06-15T19:34:29.197Z"
   },
   {
    "duration": 6,
    "start_time": "2022-06-15T19:34:29.441Z"
   },
   {
    "duration": 16,
    "start_time": "2022-06-15T19:34:29.448Z"
   },
   {
    "duration": 5,
    "start_time": "2022-06-15T19:34:29.465Z"
   },
   {
    "duration": 4939,
    "start_time": "2022-06-15T19:34:29.472Z"
   },
   {
    "duration": 20,
    "start_time": "2022-06-15T19:34:34.412Z"
   },
   {
    "duration": 5,
    "start_time": "2022-06-15T19:35:09.339Z"
   },
   {
    "duration": 82,
    "start_time": "2022-06-15T19:35:09.347Z"
   },
   {
    "duration": 11,
    "start_time": "2022-06-15T19:35:09.431Z"
   },
   {
    "duration": 8,
    "start_time": "2022-06-15T19:35:09.443Z"
   },
   {
    "duration": 6,
    "start_time": "2022-06-15T19:35:09.453Z"
   },
   {
    "duration": 7,
    "start_time": "2022-06-15T19:35:09.460Z"
   },
   {
    "duration": 24,
    "start_time": "2022-06-15T19:35:09.468Z"
   },
   {
    "duration": 8,
    "start_time": "2022-06-15T19:35:09.494Z"
   },
   {
    "duration": 7,
    "start_time": "2022-06-15T19:35:09.503Z"
   },
   {
    "duration": 14,
    "start_time": "2022-06-15T19:35:09.512Z"
   },
   {
    "duration": 4,
    "start_time": "2022-06-15T19:35:09.529Z"
   },
   {
    "duration": 9,
    "start_time": "2022-06-15T19:35:09.534Z"
   },
   {
    "duration": 6,
    "start_time": "2022-06-15T19:35:09.545Z"
   },
   {
    "duration": 12,
    "start_time": "2022-06-15T19:35:09.552Z"
   },
   {
    "duration": 16,
    "start_time": "2022-06-15T19:35:09.565Z"
   },
   {
    "duration": 12,
    "start_time": "2022-06-15T19:35:09.583Z"
   },
   {
    "duration": 9,
    "start_time": "2022-06-15T19:35:09.597Z"
   },
   {
    "duration": 8,
    "start_time": "2022-06-15T19:35:09.607Z"
   },
   {
    "duration": 8,
    "start_time": "2022-06-15T19:35:09.617Z"
   },
   {
    "duration": 9,
    "start_time": "2022-06-15T19:35:09.626Z"
   },
   {
    "duration": 3465,
    "start_time": "2022-06-15T19:35:09.636Z"
   },
   {
    "duration": 7,
    "start_time": "2022-06-15T19:35:13.102Z"
   },
   {
    "duration": 10,
    "start_time": "2022-06-15T19:35:13.110Z"
   },
   {
    "duration": 32,
    "start_time": "2022-06-15T19:35:13.122Z"
   },
   {
    "duration": 41,
    "start_time": "2022-06-15T19:35:13.155Z"
   },
   {
    "duration": 8,
    "start_time": "2022-06-15T19:35:13.197Z"
   },
   {
    "duration": 215,
    "start_time": "2022-06-15T19:35:13.207Z"
   },
   {
    "duration": 6,
    "start_time": "2022-06-15T19:35:13.424Z"
   },
   {
    "duration": 4,
    "start_time": "2022-06-15T19:35:13.433Z"
   },
   {
    "duration": 5,
    "start_time": "2022-06-15T19:35:13.438Z"
   },
   {
    "duration": 5170,
    "start_time": "2022-06-15T19:35:13.445Z"
   },
   {
    "duration": 20,
    "start_time": "2022-06-15T19:35:18.616Z"
   },
   {
    "duration": 5,
    "start_time": "2022-06-15T19:35:36.120Z"
   },
   {
    "duration": 6,
    "start_time": "2022-06-15T19:35:36.127Z"
   },
   {
    "duration": 5,
    "start_time": "2022-06-15T19:35:36.134Z"
   },
   {
    "duration": 120864,
    "start_time": "2022-06-15T19:35:36.141Z"
   },
   {
    "duration": 35,
    "start_time": "2022-06-15T19:37:37.007Z"
   },
   {
    "duration": 2766,
    "start_time": "2022-06-16T18:37:08.496Z"
   },
   {
    "duration": 80,
    "start_time": "2022-06-16T18:37:12.017Z"
   },
   {
    "duration": 12,
    "start_time": "2022-06-16T18:37:51.244Z"
   },
   {
    "duration": 5,
    "start_time": "2022-06-16T18:37:52.655Z"
   },
   {
    "duration": 5,
    "start_time": "2022-06-16T18:37:54.104Z"
   },
   {
    "duration": 4,
    "start_time": "2022-06-16T18:38:45.662Z"
   },
   {
    "duration": 4,
    "start_time": "2022-06-16T18:38:46.662Z"
   },
   {
    "duration": 4,
    "start_time": "2022-06-16T18:38:47.204Z"
   },
   {
    "duration": 5,
    "start_time": "2022-06-16T18:38:47.699Z"
   },
   {
    "duration": 22,
    "start_time": "2022-06-16T18:46:45.894Z"
   },
   {
    "duration": 4,
    "start_time": "2022-06-16T18:47:03.049Z"
   },
   {
    "duration": 5,
    "start_time": "2022-06-16T18:47:03.728Z"
   },
   {
    "duration": 3,
    "start_time": "2022-06-16T18:47:26.804Z"
   },
   {
    "duration": 3,
    "start_time": "2022-06-16T18:47:32.202Z"
   },
   {
    "duration": 19,
    "start_time": "2022-06-16T18:47:43.676Z"
   },
   {
    "duration": 6,
    "start_time": "2022-06-16T18:48:01.202Z"
   },
   {
    "duration": 5,
    "start_time": "2022-06-16T18:48:01.747Z"
   },
   {
    "duration": 5,
    "start_time": "2022-06-16T18:48:49.940Z"
   },
   {
    "duration": 3,
    "start_time": "2022-06-16T18:48:56.440Z"
   },
   {
    "duration": 8,
    "start_time": "2022-06-16T18:48:57.374Z"
   },
   {
    "duration": 4,
    "start_time": "2022-06-16T18:49:58.710Z"
   },
   {
    "duration": 5,
    "start_time": "2022-06-16T19:04:34.695Z"
   },
   {
    "duration": 36,
    "start_time": "2022-06-16T19:04:35.607Z"
   },
   {
    "duration": 10,
    "start_time": "2022-06-16T19:04:37.657Z"
   },
   {
    "duration": 4,
    "start_time": "2022-06-16T19:04:38.404Z"
   },
   {
    "duration": 4,
    "start_time": "2022-06-16T19:04:39.156Z"
   },
   {
    "duration": 3,
    "start_time": "2022-06-16T19:04:40.659Z"
   },
   {
    "duration": 4,
    "start_time": "2022-06-16T19:04:40.863Z"
   },
   {
    "duration": 4,
    "start_time": "2022-06-16T19:04:41.190Z"
   },
   {
    "duration": 5,
    "start_time": "2022-06-16T19:04:41.387Z"
   },
   {
    "duration": 14,
    "start_time": "2022-06-16T19:04:42.564Z"
   },
   {
    "duration": 5,
    "start_time": "2022-06-16T19:04:43.179Z"
   },
   {
    "duration": 5,
    "start_time": "2022-06-16T19:04:43.424Z"
   },
   {
    "duration": 2,
    "start_time": "2022-06-16T19:04:44.055Z"
   },
   {
    "duration": 3,
    "start_time": "2022-06-16T19:04:44.259Z"
   },
   {
    "duration": 14,
    "start_time": "2022-06-16T19:04:44.718Z"
   },
   {
    "duration": 4,
    "start_time": "2022-06-16T19:04:45.178Z"
   },
   {
    "duration": 3,
    "start_time": "2022-06-16T19:04:45.348Z"
   },
   {
    "duration": 3,
    "start_time": "2022-06-16T19:04:45.710Z"
   },
   {
    "duration": 5,
    "start_time": "2022-06-16T19:04:46.091Z"
   },
   {
    "duration": 3,
    "start_time": "2022-06-16T19:04:46.744Z"
   },
   {
    "duration": 3907,
    "start_time": "2022-06-16T19:04:46.952Z"
   },
   {
    "duration": 6,
    "start_time": "2022-06-16T19:04:50.860Z"
   },
   {
    "duration": 3,
    "start_time": "2022-06-16T19:04:55.418Z"
   },
   {
    "duration": 6,
    "start_time": "2022-06-16T19:04:56.155Z"
   },
   {
    "duration": 14,
    "start_time": "2022-06-16T19:04:57.922Z"
   },
   {
    "duration": 4,
    "start_time": "2022-06-16T19:05:00.124Z"
   },
   {
    "duration": 248,
    "start_time": "2022-06-16T19:05:01.107Z"
   },
   {
    "duration": 27,
    "start_time": "2022-06-16T19:22:38.626Z"
   },
   {
    "duration": 5,
    "start_time": "2022-06-16T19:22:45.869Z"
   },
   {
    "duration": 3,
    "start_time": "2022-06-16T19:24:54.006Z"
   },
   {
    "duration": 4,
    "start_time": "2022-06-16T19:27:26.987Z"
   },
   {
    "duration": 4,
    "start_time": "2022-06-16T19:28:05.699Z"
   },
   {
    "duration": 6,
    "start_time": "2022-06-16T19:28:10.185Z"
   },
   {
    "duration": 3,
    "start_time": "2022-06-16T19:28:12.189Z"
   },
   {
    "duration": 3,
    "start_time": "2022-06-16T19:28:12.857Z"
   },
   {
    "duration": 3,
    "start_time": "2022-06-16T19:29:03.653Z"
   },
   {
    "duration": 5,
    "start_time": "2022-06-16T19:30:46.107Z"
   },
   {
    "duration": 4,
    "start_time": "2022-06-16T19:31:03.420Z"
   },
   {
    "duration": 14,
    "start_time": "2022-06-16T19:31:54.455Z"
   },
   {
    "duration": 120,
    "start_time": "2022-06-16T19:41:41.918Z"
   },
   {
    "duration": 64,
    "start_time": "2022-06-16T19:42:11.129Z"
   },
   {
    "duration": 4,
    "start_time": "2022-06-16T19:42:25.354Z"
   },
   {
    "duration": 6,
    "start_time": "2022-06-16T19:43:17.762Z"
   },
   {
    "duration": 5,
    "start_time": "2022-06-16T19:44:25.384Z"
   },
   {
    "duration": 17,
    "start_time": "2022-06-16T19:44:39.529Z"
   },
   {
    "duration": 5,
    "start_time": "2022-06-16T19:44:55.161Z"
   },
   {
    "duration": 2,
    "start_time": "2022-06-16T19:44:56.104Z"
   },
   {
    "duration": 4,
    "start_time": "2022-06-16T19:44:56.950Z"
   },
   {
    "duration": 523840,
    "start_time": "2022-06-16T19:44:59.324Z"
   },
   {
    "duration": 4,
    "start_time": "2022-06-16T19:53:43.167Z"
   },
   {
    "duration": 7,
    "start_time": "2022-06-16T19:53:43.172Z"
   },
   {
    "duration": 2115,
    "start_time": "2022-06-17T15:03:46.444Z"
   },
   {
    "duration": 128,
    "start_time": "2022-06-17T15:03:48.560Z"
   },
   {
    "duration": 12,
    "start_time": "2022-06-17T15:03:48.690Z"
   },
   {
    "duration": 8,
    "start_time": "2022-06-17T15:03:48.704Z"
   },
   {
    "duration": 6,
    "start_time": "2022-06-17T15:03:48.714Z"
   },
   {
    "duration": 5,
    "start_time": "2022-06-17T15:03:48.721Z"
   },
   {
    "duration": 7,
    "start_time": "2022-06-17T15:03:48.728Z"
   },
   {
    "duration": 6,
    "start_time": "2022-06-17T15:03:48.736Z"
   },
   {
    "duration": 18,
    "start_time": "2022-06-17T15:03:48.743Z"
   },
   {
    "duration": 18,
    "start_time": "2022-06-17T15:03:48.764Z"
   },
   {
    "duration": 16,
    "start_time": "2022-06-17T15:03:48.784Z"
   },
   {
    "duration": 7,
    "start_time": "2022-06-17T15:03:48.802Z"
   },
   {
    "duration": 10,
    "start_time": "2022-06-17T15:03:48.811Z"
   },
   {
    "duration": 8,
    "start_time": "2022-06-17T15:03:48.822Z"
   },
   {
    "duration": 31,
    "start_time": "2022-06-17T15:03:48.832Z"
   },
   {
    "duration": 5,
    "start_time": "2022-06-17T15:03:48.865Z"
   },
   {
    "duration": 11,
    "start_time": "2022-06-17T15:03:48.871Z"
   },
   {
    "duration": 2,
    "start_time": "2022-06-17T15:03:48.883Z"
   },
   {
    "duration": 8,
    "start_time": "2022-06-17T15:03:48.887Z"
   },
   {
    "duration": 6,
    "start_time": "2022-06-17T15:03:48.897Z"
   },
   {
    "duration": 4359,
    "start_time": "2022-06-17T15:03:48.905Z"
   },
   {
    "duration": 6,
    "start_time": "2022-06-17T15:03:53.266Z"
   },
   {
    "duration": 4,
    "start_time": "2022-06-17T15:03:53.274Z"
   },
   {
    "duration": 6,
    "start_time": "2022-06-17T15:03:53.279Z"
   },
   {
    "duration": 8,
    "start_time": "2022-06-17T15:03:53.287Z"
   },
   {
    "duration": 6,
    "start_time": "2022-06-17T15:03:53.296Z"
   },
   {
    "duration": 65,
    "start_time": "2022-06-17T15:03:53.303Z"
   },
   {
    "duration": 3,
    "start_time": "2022-06-17T15:03:53.371Z"
   },
   {
    "duration": 8,
    "start_time": "2022-06-17T15:03:53.375Z"
   },
   {
    "duration": 5,
    "start_time": "2022-06-17T15:03:53.384Z"
   },
   {
    "duration": 248,
    "start_time": "2022-06-17T15:03:53.390Z"
   },
   {
    "duration": 5,
    "start_time": "2022-06-17T15:03:53.640Z"
   },
   {
    "duration": 6,
    "start_time": "2022-06-17T15:03:53.646Z"
   },
   {
    "duration": 5,
    "start_time": "2022-06-17T15:03:53.659Z"
   },
   {
    "duration": 527898,
    "start_time": "2022-06-17T15:03:53.665Z"
   },
   {
    "duration": 4,
    "start_time": "2022-06-17T15:12:41.564Z"
   },
   {
    "duration": 32,
    "start_time": "2022-06-17T15:12:41.569Z"
   },
   {
    "duration": 51,
    "start_time": "2022-06-17T15:12:41.603Z"
   },
   {
    "duration": 49,
    "start_time": "2022-06-17T15:12:41.657Z"
   },
   {
    "duration": 28,
    "start_time": "2022-06-17T15:12:41.708Z"
   },
   {
    "duration": 14,
    "start_time": "2022-06-17T15:13:40.956Z"
   },
   {
    "duration": 4,
    "start_time": "2022-06-17T15:13:41.831Z"
   },
   {
    "duration": 139,
    "start_time": "2022-06-17T15:23:38.423Z"
   },
   {
    "duration": 12,
    "start_time": "2022-06-17T15:24:07.077Z"
   },
   {
    "duration": 5,
    "start_time": "2022-06-17T15:24:20.544Z"
   },
   {
    "duration": 5,
    "start_time": "2022-06-17T15:24:31.249Z"
   },
   {
    "duration": 6,
    "start_time": "2022-06-17T15:24:59.761Z"
   },
   {
    "duration": 7,
    "start_time": "2022-06-17T15:25:13.222Z"
   },
   {
    "duration": 24,
    "start_time": "2022-06-17T15:25:22.155Z"
   },
   {
    "duration": 16,
    "start_time": "2022-06-17T15:25:43.034Z"
   },
   {
    "duration": 14,
    "start_time": "2022-06-17T15:25:58.227Z"
   },
   {
    "duration": 4,
    "start_time": "2022-06-17T15:26:00.435Z"
   },
   {
    "duration": 19,
    "start_time": "2022-06-17T15:26:06.140Z"
   },
   {
    "duration": 12,
    "start_time": "2022-06-17T15:26:11.218Z"
   },
   {
    "duration": 13,
    "start_time": "2022-06-17T15:26:17.670Z"
   },
   {
    "duration": 10,
    "start_time": "2022-06-17T15:26:38.733Z"
   },
   {
    "duration": 14,
    "start_time": "2022-06-17T15:26:47.518Z"
   },
   {
    "duration": 7,
    "start_time": "2022-06-17T15:26:52.021Z"
   },
   {
    "duration": 14,
    "start_time": "2022-06-17T15:27:11.354Z"
   },
   {
    "duration": 15,
    "start_time": "2022-06-17T15:45:03.828Z"
   },
   {
    "duration": 15,
    "start_time": "2022-06-17T15:45:25.520Z"
   },
   {
    "duration": 15,
    "start_time": "2022-06-17T15:56:39.632Z"
   },
   {
    "duration": 10,
    "start_time": "2022-06-17T15:57:25.762Z"
   },
   {
    "duration": 8,
    "start_time": "2022-06-17T16:01:57.552Z"
   },
   {
    "duration": 7,
    "start_time": "2022-06-17T16:07:46.808Z"
   },
   {
    "duration": 15,
    "start_time": "2022-06-17T16:08:06.556Z"
   },
   {
    "duration": 7,
    "start_time": "2022-06-17T16:08:20.014Z"
   },
   {
    "duration": 16,
    "start_time": "2022-06-17T16:09:14.224Z"
   },
   {
    "duration": 1983,
    "start_time": "2022-06-17T19:00:44.978Z"
   },
   {
    "duration": 109,
    "start_time": "2022-06-17T19:00:46.963Z"
   },
   {
    "duration": 12,
    "start_time": "2022-06-17T19:00:47.073Z"
   },
   {
    "duration": 8,
    "start_time": "2022-06-17T19:00:47.087Z"
   },
   {
    "duration": 7,
    "start_time": "2022-06-17T19:00:47.096Z"
   },
   {
    "duration": 8,
    "start_time": "2022-06-17T19:00:47.105Z"
   },
   {
    "duration": 11,
    "start_time": "2022-06-17T19:00:47.114Z"
   },
   {
    "duration": 7,
    "start_time": "2022-06-17T19:00:47.126Z"
   },
   {
    "duration": 8,
    "start_time": "2022-06-17T19:00:47.134Z"
   },
   {
    "duration": 17,
    "start_time": "2022-06-17T19:00:47.144Z"
   },
   {
    "duration": 6,
    "start_time": "2022-06-17T19:00:47.163Z"
   },
   {
    "duration": 15,
    "start_time": "2022-06-17T19:00:47.170Z"
   },
   {
    "duration": 12,
    "start_time": "2022-06-17T19:00:47.186Z"
   },
   {
    "duration": 10,
    "start_time": "2022-06-17T19:00:47.200Z"
   },
   {
    "duration": 24,
    "start_time": "2022-06-17T19:00:47.212Z"
   },
   {
    "duration": 7,
    "start_time": "2022-06-17T19:00:47.237Z"
   },
   {
    "duration": 12,
    "start_time": "2022-06-17T19:00:47.246Z"
   },
   {
    "duration": 16,
    "start_time": "2022-06-17T19:00:47.260Z"
   },
   {
    "duration": 16,
    "start_time": "2022-06-17T19:00:47.277Z"
   },
   {
    "duration": 20,
    "start_time": "2022-06-17T19:00:47.294Z"
   },
   {
    "duration": 4015,
    "start_time": "2022-06-17T19:00:47.315Z"
   },
   {
    "duration": 7,
    "start_time": "2022-06-17T19:00:51.331Z"
   },
   {
    "duration": 18,
    "start_time": "2022-06-17T19:00:51.340Z"
   },
   {
    "duration": 18,
    "start_time": "2022-06-17T19:00:51.359Z"
   },
   {
    "duration": 11,
    "start_time": "2022-06-17T19:00:51.378Z"
   },
   {
    "duration": 25,
    "start_time": "2022-06-17T19:00:51.390Z"
   },
   {
    "duration": 16,
    "start_time": "2022-06-17T19:00:51.416Z"
   },
   {
    "duration": 18,
    "start_time": "2022-06-17T19:00:51.437Z"
   },
   {
    "duration": 7,
    "start_time": "2022-06-17T19:00:51.456Z"
   },
   {
    "duration": 10,
    "start_time": "2022-06-17T19:00:51.465Z"
   },
   {
    "duration": 7,
    "start_time": "2022-06-17T19:00:51.477Z"
   },
   {
    "duration": 16,
    "start_time": "2022-06-17T19:00:51.485Z"
   },
   {
    "duration": 14,
    "start_time": "2022-06-17T19:00:51.503Z"
   },
   {
    "duration": 249,
    "start_time": "2022-06-17T19:00:51.518Z"
   },
   {
    "duration": 6,
    "start_time": "2022-06-17T19:00:51.769Z"
   },
   {
    "duration": 9,
    "start_time": "2022-06-17T19:00:51.776Z"
   },
   {
    "duration": 7,
    "start_time": "2022-06-17T19:00:51.786Z"
   },
   {
    "duration": 5462,
    "start_time": "2022-06-17T19:00:51.794Z"
   },
   {
    "duration": 5,
    "start_time": "2022-06-17T19:00:57.325Z"
   },
   {
    "duration": 8,
    "start_time": "2022-06-17T19:00:57.331Z"
   },
   {
    "duration": 26,
    "start_time": "2022-06-17T19:00:57.340Z"
   },
   {
    "duration": 7,
    "start_time": "2022-06-17T19:03:20.305Z"
   },
   {
    "duration": 16,
    "start_time": "2022-06-17T19:04:18.576Z"
   },
   {
    "duration": 7,
    "start_time": "2022-06-17T19:04:25.145Z"
   },
   {
    "duration": 55,
    "start_time": "2022-06-17T19:04:25.513Z"
   },
   {
    "duration": 11,
    "start_time": "2022-06-17T19:04:25.571Z"
   },
   {
    "duration": 8,
    "start_time": "2022-06-17T19:04:25.584Z"
   },
   {
    "duration": 7,
    "start_time": "2022-06-17T19:04:25.594Z"
   },
   {
    "duration": 6,
    "start_time": "2022-06-17T19:04:25.604Z"
   },
   {
    "duration": 8,
    "start_time": "2022-06-17T19:04:25.611Z"
   },
   {
    "duration": 4,
    "start_time": "2022-06-17T19:04:25.689Z"
   },
   {
    "duration": 9,
    "start_time": "2022-06-17T19:04:25.695Z"
   },
   {
    "duration": 25,
    "start_time": "2022-06-17T19:04:25.705Z"
   },
   {
    "duration": 5,
    "start_time": "2022-06-17T19:04:28.074Z"
   },
   {
    "duration": 13,
    "start_time": "2022-06-17T19:04:28.080Z"
   },
   {
    "duration": 17,
    "start_time": "2022-06-17T19:04:28.095Z"
   },
   {
    "duration": 10,
    "start_time": "2022-06-17T19:04:28.113Z"
   },
   {
    "duration": 6,
    "start_time": "2022-06-17T19:04:28.125Z"
   },
   {
    "duration": 20,
    "start_time": "2022-06-17T19:04:28.132Z"
   },
   {
    "duration": 3,
    "start_time": "2022-06-17T19:04:28.153Z"
   },
   {
    "duration": 13,
    "start_time": "2022-06-17T19:04:28.158Z"
   },
   {
    "duration": 14,
    "start_time": "2022-06-17T19:04:28.173Z"
   },
   {
    "duration": 13,
    "start_time": "2022-06-17T19:04:28.189Z"
   },
   {
    "duration": 3,
    "start_time": "2022-06-17T19:04:28.203Z"
   },
   {
    "duration": 179,
    "start_time": "2022-06-17T19:04:28.209Z"
   },
   {
    "duration": 0,
    "start_time": "2022-06-17T19:04:28.391Z"
   },
   {
    "duration": 0,
    "start_time": "2022-06-17T19:04:28.392Z"
   },
   {
    "duration": 0,
    "start_time": "2022-06-17T19:04:28.393Z"
   },
   {
    "duration": 0,
    "start_time": "2022-06-17T19:04:28.395Z"
   },
   {
    "duration": 0,
    "start_time": "2022-06-17T19:04:28.396Z"
   },
   {
    "duration": 0,
    "start_time": "2022-06-17T19:04:28.398Z"
   },
   {
    "duration": 0,
    "start_time": "2022-06-17T19:04:28.399Z"
   },
   {
    "duration": 0,
    "start_time": "2022-06-17T19:04:28.400Z"
   },
   {
    "duration": 0,
    "start_time": "2022-06-17T19:04:28.402Z"
   },
   {
    "duration": 0,
    "start_time": "2022-06-17T19:04:28.404Z"
   },
   {
    "duration": 0,
    "start_time": "2022-06-17T19:04:28.405Z"
   },
   {
    "duration": 0,
    "start_time": "2022-06-17T19:04:28.426Z"
   },
   {
    "duration": 0,
    "start_time": "2022-06-17T19:04:28.427Z"
   },
   {
    "duration": 0,
    "start_time": "2022-06-17T19:04:28.429Z"
   },
   {
    "duration": 0,
    "start_time": "2022-06-17T19:04:28.430Z"
   },
   {
    "duration": 0,
    "start_time": "2022-06-17T19:04:28.431Z"
   },
   {
    "duration": 0,
    "start_time": "2022-06-17T19:04:28.433Z"
   },
   {
    "duration": 0,
    "start_time": "2022-06-17T19:04:28.434Z"
   },
   {
    "duration": 0,
    "start_time": "2022-06-17T19:04:28.436Z"
   },
   {
    "duration": 0,
    "start_time": "2022-06-17T19:04:28.438Z"
   },
   {
    "duration": 0,
    "start_time": "2022-06-17T19:04:28.440Z"
   },
   {
    "duration": 6,
    "start_time": "2022-06-17T19:06:05.259Z"
   },
   {
    "duration": 77,
    "start_time": "2022-06-17T19:06:05.293Z"
   },
   {
    "duration": 10,
    "start_time": "2022-06-17T19:06:05.372Z"
   },
   {
    "duration": 8,
    "start_time": "2022-06-17T19:06:05.383Z"
   },
   {
    "duration": 15,
    "start_time": "2022-06-17T19:06:05.393Z"
   },
   {
    "duration": 21,
    "start_time": "2022-06-17T19:06:05.409Z"
   },
   {
    "duration": 29,
    "start_time": "2022-06-17T19:06:05.431Z"
   },
   {
    "duration": 7,
    "start_time": "2022-06-17T19:06:05.461Z"
   },
   {
    "duration": 9,
    "start_time": "2022-06-17T19:06:05.469Z"
   },
   {
    "duration": 23,
    "start_time": "2022-06-17T19:06:05.480Z"
   },
   {
    "duration": 11,
    "start_time": "2022-06-17T19:06:05.505Z"
   },
   {
    "duration": 8,
    "start_time": "2022-06-17T19:06:05.517Z"
   },
   {
    "duration": 11,
    "start_time": "2022-06-17T19:06:05.526Z"
   },
   {
    "duration": 10,
    "start_time": "2022-06-17T19:06:05.539Z"
   },
   {
    "duration": 9,
    "start_time": "2022-06-17T19:06:05.550Z"
   },
   {
    "duration": 17,
    "start_time": "2022-06-17T19:06:05.561Z"
   },
   {
    "duration": 11,
    "start_time": "2022-06-17T19:06:05.579Z"
   },
   {
    "duration": 4,
    "start_time": "2022-06-17T19:06:05.995Z"
   },
   {
    "duration": 11,
    "start_time": "2022-06-17T19:06:06.000Z"
   },
   {
    "duration": 13,
    "start_time": "2022-06-17T19:06:06.013Z"
   },
   {
    "duration": 5,
    "start_time": "2022-06-17T19:06:06.027Z"
   },
   {
    "duration": 20,
    "start_time": "2022-06-17T19:06:06.033Z"
   },
   {
    "duration": 0,
    "start_time": "2022-06-17T19:06:06.054Z"
   },
   {
    "duration": 0,
    "start_time": "2022-06-17T19:06:06.056Z"
   },
   {
    "duration": 0,
    "start_time": "2022-06-17T19:06:06.057Z"
   },
   {
    "duration": 0,
    "start_time": "2022-06-17T19:06:06.058Z"
   },
   {
    "duration": 4,
    "start_time": "2022-06-17T19:06:06.559Z"
   },
   {
    "duration": 12,
    "start_time": "2022-06-17T19:06:06.564Z"
   },
   {
    "duration": 9,
    "start_time": "2022-06-17T19:06:06.577Z"
   },
   {
    "duration": 9,
    "start_time": "2022-06-17T19:06:06.588Z"
   },
   {
    "duration": 24,
    "start_time": "2022-06-17T19:06:06.599Z"
   },
   {
    "duration": 8,
    "start_time": "2022-06-17T19:06:06.624Z"
   },
   {
    "duration": 7,
    "start_time": "2022-06-17T19:06:06.633Z"
   },
   {
    "duration": 339,
    "start_time": "2022-06-17T19:06:06.641Z"
   },
   {
    "duration": 0,
    "start_time": "2022-06-17T19:06:06.982Z"
   },
   {
    "duration": 0,
    "start_time": "2022-06-17T19:06:06.983Z"
   },
   {
    "duration": 6,
    "start_time": "2022-06-17T19:06:09.220Z"
   },
   {
    "duration": 26,
    "start_time": "2022-06-17T19:06:09.228Z"
   },
   {
    "duration": 28,
    "start_time": "2022-06-17T19:06:09.256Z"
   },
   {
    "duration": 31,
    "start_time": "2022-06-17T19:06:11.209Z"
   },
   {
    "duration": 0,
    "start_time": "2022-06-17T19:06:11.242Z"
   },
   {
    "duration": 0,
    "start_time": "2022-06-17T19:06:11.244Z"
   },
   {
    "duration": 0,
    "start_time": "2022-06-17T19:06:11.245Z"
   },
   {
    "duration": 10,
    "start_time": "2022-06-17T19:08:39.424Z"
   },
   {
    "duration": 5,
    "start_time": "2022-06-17T19:08:47.917Z"
   },
   {
    "duration": 88,
    "start_time": "2022-06-17T19:08:47.924Z"
   },
   {
    "duration": 10,
    "start_time": "2022-06-17T19:08:48.013Z"
   },
   {
    "duration": 9,
    "start_time": "2022-06-17T19:08:48.025Z"
   },
   {
    "duration": 7,
    "start_time": "2022-06-17T19:08:48.035Z"
   },
   {
    "duration": 11,
    "start_time": "2022-06-17T19:08:48.043Z"
   },
   {
    "duration": 14,
    "start_time": "2022-06-17T19:08:48.056Z"
   },
   {
    "duration": 11,
    "start_time": "2022-06-17T19:08:48.071Z"
   },
   {
    "duration": 10,
    "start_time": "2022-06-17T19:08:48.083Z"
   },
   {
    "duration": 21,
    "start_time": "2022-06-17T19:08:48.096Z"
   },
   {
    "duration": 4,
    "start_time": "2022-06-17T19:08:48.118Z"
   },
   {
    "duration": 13,
    "start_time": "2022-06-17T19:08:48.124Z"
   },
   {
    "duration": 17,
    "start_time": "2022-06-17T19:08:48.138Z"
   },
   {
    "duration": 25,
    "start_time": "2022-06-17T19:08:48.157Z"
   },
   {
    "duration": 7,
    "start_time": "2022-06-17T19:08:48.183Z"
   },
   {
    "duration": 24,
    "start_time": "2022-06-17T19:08:48.192Z"
   },
   {
    "duration": 4,
    "start_time": "2022-06-17T19:08:48.218Z"
   },
   {
    "duration": 8,
    "start_time": "2022-06-17T19:08:48.224Z"
   },
   {
    "duration": 10,
    "start_time": "2022-06-17T19:08:48.233Z"
   },
   {
    "duration": 27,
    "start_time": "2022-06-17T19:08:48.245Z"
   },
   {
    "duration": 21,
    "start_time": "2022-06-17T19:08:48.273Z"
   },
   {
    "duration": 21,
    "start_time": "2022-06-17T19:08:52.721Z"
   },
   {
    "duration": 27,
    "start_time": "2022-06-17T19:09:41.560Z"
   },
   {
    "duration": 4,
    "start_time": "2022-06-17T19:09:58.979Z"
   },
   {
    "duration": 4,
    "start_time": "2022-06-17T19:10:27.210Z"
   },
   {
    "duration": 4,
    "start_time": "2022-06-17T19:10:35.150Z"
   },
   {
    "duration": 10,
    "start_time": "2022-06-17T19:10:48.071Z"
   },
   {
    "duration": 7,
    "start_time": "2022-06-17T19:11:08.058Z"
   },
   {
    "duration": 11,
    "start_time": "2022-06-17T19:11:21.500Z"
   },
   {
    "duration": 9,
    "start_time": "2022-06-17T19:11:37.958Z"
   },
   {
    "duration": 6,
    "start_time": "2022-06-17T19:11:48.814Z"
   },
   {
    "duration": 74,
    "start_time": "2022-06-17T19:11:48.825Z"
   },
   {
    "duration": 11,
    "start_time": "2022-06-17T19:11:48.901Z"
   },
   {
    "duration": 11,
    "start_time": "2022-06-17T19:11:48.914Z"
   },
   {
    "duration": 16,
    "start_time": "2022-06-17T19:11:48.927Z"
   },
   {
    "duration": 9,
    "start_time": "2022-06-17T19:11:48.945Z"
   },
   {
    "duration": 7,
    "start_time": "2022-06-17T19:11:48.955Z"
   },
   {
    "duration": 9,
    "start_time": "2022-06-17T19:11:48.964Z"
   },
   {
    "duration": 9,
    "start_time": "2022-06-17T19:11:48.975Z"
   },
   {
    "duration": 21,
    "start_time": "2022-06-17T19:11:48.985Z"
   },
   {
    "duration": 25,
    "start_time": "2022-06-17T19:11:49.008Z"
   },
   {
    "duration": 18,
    "start_time": "2022-06-17T19:11:49.034Z"
   },
   {
    "duration": 13,
    "start_time": "2022-06-17T19:11:49.053Z"
   },
   {
    "duration": 15,
    "start_time": "2022-06-17T19:11:49.068Z"
   },
   {
    "duration": 10,
    "start_time": "2022-06-17T19:11:51.474Z"
   },
   {
    "duration": 1865,
    "start_time": "2022-06-17T19:12:10.804Z"
   },
   {
    "duration": 69,
    "start_time": "2022-06-17T19:12:12.671Z"
   },
   {
    "duration": 11,
    "start_time": "2022-06-17T19:12:12.743Z"
   },
   {
    "duration": 13,
    "start_time": "2022-06-17T19:12:12.757Z"
   },
   {
    "duration": 12,
    "start_time": "2022-06-17T19:12:12.772Z"
   },
   {
    "duration": 13,
    "start_time": "2022-06-17T19:12:12.786Z"
   },
   {
    "duration": 13,
    "start_time": "2022-06-17T19:12:12.801Z"
   },
   {
    "duration": 44,
    "start_time": "2022-06-17T19:12:12.816Z"
   },
   {
    "duration": 16,
    "start_time": "2022-06-17T19:12:12.861Z"
   },
   {
    "duration": 28,
    "start_time": "2022-06-17T19:12:12.880Z"
   },
   {
    "duration": 18,
    "start_time": "2022-06-17T19:12:12.909Z"
   },
   {
    "duration": 10,
    "start_time": "2022-06-17T19:12:12.929Z"
   },
   {
    "duration": 11,
    "start_time": "2022-06-17T19:12:12.941Z"
   },
   {
    "duration": 129,
    "start_time": "2022-06-17T19:12:15.956Z"
   },
   {
    "duration": 11,
    "start_time": "2022-06-17T19:12:26.596Z"
   },
   {
    "duration": 11,
    "start_time": "2022-06-17T19:14:40.989Z"
   },
   {
    "duration": 4,
    "start_time": "2022-06-17T19:16:39.502Z"
   },
   {
    "duration": 9,
    "start_time": "2022-06-17T19:16:43.165Z"
   },
   {
    "duration": 6,
    "start_time": "2022-06-17T19:16:50.934Z"
   },
   {
    "duration": 100,
    "start_time": "2022-06-17T19:16:50.941Z"
   },
   {
    "duration": 10,
    "start_time": "2022-06-17T19:16:51.042Z"
   },
   {
    "duration": 10,
    "start_time": "2022-06-17T19:16:51.054Z"
   },
   {
    "duration": 9,
    "start_time": "2022-06-17T19:16:51.066Z"
   },
   {
    "duration": 6,
    "start_time": "2022-06-17T19:16:51.077Z"
   },
   {
    "duration": 7,
    "start_time": "2022-06-17T19:16:51.084Z"
   },
   {
    "duration": 20,
    "start_time": "2022-06-17T19:16:51.092Z"
   },
   {
    "duration": 8,
    "start_time": "2022-06-17T19:16:51.114Z"
   },
   {
    "duration": 19,
    "start_time": "2022-06-17T19:16:51.124Z"
   },
   {
    "duration": 7,
    "start_time": "2022-06-17T19:16:51.145Z"
   },
   {
    "duration": 17,
    "start_time": "2022-06-17T19:16:51.153Z"
   },
   {
    "duration": 25,
    "start_time": "2022-06-17T19:16:51.172Z"
   },
   {
    "duration": 12,
    "start_time": "2022-06-17T19:16:51.199Z"
   },
   {
    "duration": 6,
    "start_time": "2022-06-17T19:16:59.104Z"
   },
   {
    "duration": 201,
    "start_time": "2022-06-17T19:16:59.112Z"
   },
   {
    "duration": 16,
    "start_time": "2022-06-17T19:16:59.315Z"
   },
   {
    "duration": 14,
    "start_time": "2022-06-17T19:16:59.333Z"
   },
   {
    "duration": 10,
    "start_time": "2022-06-17T19:16:59.350Z"
   },
   {
    "duration": 5,
    "start_time": "2022-06-17T19:16:59.362Z"
   },
   {
    "duration": 9,
    "start_time": "2022-06-17T19:16:59.369Z"
   },
   {
    "duration": 9,
    "start_time": "2022-06-17T19:16:59.379Z"
   },
   {
    "duration": 9,
    "start_time": "2022-06-17T19:16:59.389Z"
   },
   {
    "duration": 18,
    "start_time": "2022-06-17T19:16:59.400Z"
   },
   {
    "duration": 4,
    "start_time": "2022-06-17T19:16:59.425Z"
   },
   {
    "duration": 15,
    "start_time": "2022-06-17T19:16:59.431Z"
   },
   {
    "duration": 18,
    "start_time": "2022-06-17T19:16:59.448Z"
   },
   {
    "duration": 16,
    "start_time": "2022-06-17T19:16:59.467Z"
   },
   {
    "duration": 7,
    "start_time": "2022-06-17T19:16:59.484Z"
   },
   {
    "duration": 11,
    "start_time": "2022-06-17T19:16:59.492Z"
   },
   {
    "duration": 27,
    "start_time": "2022-06-17T19:16:59.504Z"
   },
   {
    "duration": 3,
    "start_time": "2022-06-17T19:16:59.532Z"
   },
   {
    "duration": 9,
    "start_time": "2022-06-17T19:16:59.537Z"
   },
   {
    "duration": 19,
    "start_time": "2022-06-17T19:16:59.548Z"
   },
   {
    "duration": 18,
    "start_time": "2022-06-17T19:16:59.569Z"
   },
   {
    "duration": 8,
    "start_time": "2022-06-17T19:16:59.589Z"
   },
   {
    "duration": 16,
    "start_time": "2022-06-17T19:16:59.599Z"
   },
   {
    "duration": 4225,
    "start_time": "2022-06-17T19:16:59.618Z"
   },
   {
    "duration": 8,
    "start_time": "2022-06-17T19:17:03.844Z"
   },
   {
    "duration": 12,
    "start_time": "2022-06-17T19:17:03.927Z"
   },
   {
    "duration": 9,
    "start_time": "2022-06-17T19:17:03.941Z"
   },
   {
    "duration": 11,
    "start_time": "2022-06-17T19:17:03.951Z"
   },
   {
    "duration": 8,
    "start_time": "2022-06-17T19:17:03.965Z"
   },
   {
    "duration": 8,
    "start_time": "2022-06-17T19:17:03.974Z"
   },
   {
    "duration": 14,
    "start_time": "2022-06-17T19:17:03.983Z"
   },
   {
    "duration": 5,
    "start_time": "2022-06-17T19:17:03.999Z"
   },
   {
    "duration": 26,
    "start_time": "2022-06-17T19:17:04.006Z"
   },
   {
    "duration": 2,
    "start_time": "2022-06-17T19:17:04.034Z"
   },
   {
    "duration": 7,
    "start_time": "2022-06-17T19:17:04.038Z"
   },
   {
    "duration": 365,
    "start_time": "2022-06-17T19:17:04.046Z"
   },
   {
    "duration": 1,
    "start_time": "2022-06-17T19:17:04.413Z"
   },
   {
    "duration": 0,
    "start_time": "2022-06-17T19:17:04.415Z"
   },
   {
    "duration": 0,
    "start_time": "2022-06-17T19:17:04.416Z"
   },
   {
    "duration": 0,
    "start_time": "2022-06-17T19:17:04.418Z"
   },
   {
    "duration": 0,
    "start_time": "2022-06-17T19:17:04.419Z"
   },
   {
    "duration": 0,
    "start_time": "2022-06-17T19:17:04.421Z"
   },
   {
    "duration": 0,
    "start_time": "2022-06-17T19:17:04.422Z"
   },
   {
    "duration": 0,
    "start_time": "2022-06-17T19:17:04.423Z"
   },
   {
    "duration": 0,
    "start_time": "2022-06-17T19:17:04.424Z"
   },
   {
    "duration": 23,
    "start_time": "2022-06-17T19:17:34.548Z"
   },
   {
    "duration": 2,
    "start_time": "2022-06-17T19:17:36.314Z"
   },
   {
    "duration": 4,
    "start_time": "2022-06-17T19:17:37.331Z"
   },
   {
    "duration": 357,
    "start_time": "2022-06-17T19:17:43.462Z"
   },
   {
    "duration": 26,
    "start_time": "2022-06-17T19:17:54.455Z"
   },
   {
    "duration": 3,
    "start_time": "2022-06-17T19:17:55.960Z"
   },
   {
    "duration": 7,
    "start_time": "2022-06-17T19:17:55.964Z"
   },
   {
    "duration": 5,
    "start_time": "2022-06-17T19:17:57.919Z"
   },
   {
    "duration": 6,
    "start_time": "2022-06-17T19:18:18.392Z"
   },
   {
    "duration": 210,
    "start_time": "2022-06-17T19:18:18.400Z"
   },
   {
    "duration": 11,
    "start_time": "2022-06-17T19:18:18.612Z"
   },
   {
    "duration": 6,
    "start_time": "2022-06-17T19:18:18.624Z"
   },
   {
    "duration": 5,
    "start_time": "2022-06-17T19:18:18.633Z"
   },
   {
    "duration": 4,
    "start_time": "2022-06-17T19:18:18.640Z"
   },
   {
    "duration": 5,
    "start_time": "2022-06-17T19:18:18.646Z"
   },
   {
    "duration": 6,
    "start_time": "2022-06-17T19:18:18.652Z"
   },
   {
    "duration": 7,
    "start_time": "2022-06-17T19:18:18.659Z"
   },
   {
    "duration": 25,
    "start_time": "2022-06-17T19:18:18.667Z"
   },
   {
    "duration": 9,
    "start_time": "2022-06-17T19:18:18.695Z"
   },
   {
    "duration": 31,
    "start_time": "2022-06-17T19:18:18.705Z"
   },
   {
    "duration": 10,
    "start_time": "2022-06-17T19:18:18.737Z"
   },
   {
    "duration": 11,
    "start_time": "2022-06-17T19:18:18.749Z"
   },
   {
    "duration": 7,
    "start_time": "2022-06-17T19:18:18.761Z"
   },
   {
    "duration": 10,
    "start_time": "2022-06-17T19:18:18.769Z"
   },
   {
    "duration": 18,
    "start_time": "2022-06-17T19:18:18.781Z"
   },
   {
    "duration": 11,
    "start_time": "2022-06-17T19:18:18.801Z"
   },
   {
    "duration": 6,
    "start_time": "2022-06-17T19:18:18.813Z"
   },
   {
    "duration": 4,
    "start_time": "2022-06-17T19:18:18.821Z"
   },
   {
    "duration": 11,
    "start_time": "2022-06-17T19:18:18.827Z"
   },
   {
    "duration": 4,
    "start_time": "2022-06-17T19:18:18.839Z"
   },
   {
    "duration": 9,
    "start_time": "2022-06-17T19:18:18.844Z"
   },
   {
    "duration": 3771,
    "start_time": "2022-06-17T19:18:18.855Z"
   },
   {
    "duration": 7,
    "start_time": "2022-06-17T19:18:22.628Z"
   },
   {
    "duration": 18,
    "start_time": "2022-06-17T19:18:22.636Z"
   },
   {
    "duration": 8,
    "start_time": "2022-06-17T19:18:22.656Z"
   },
   {
    "duration": 13,
    "start_time": "2022-06-17T19:18:22.666Z"
   },
   {
    "duration": 6,
    "start_time": "2022-06-17T19:18:22.682Z"
   },
   {
    "duration": 12,
    "start_time": "2022-06-17T19:18:22.689Z"
   },
   {
    "duration": 26,
    "start_time": "2022-06-17T19:18:22.703Z"
   },
   {
    "duration": 9,
    "start_time": "2022-06-17T19:18:22.731Z"
   },
   {
    "duration": 23,
    "start_time": "2022-06-17T19:18:22.741Z"
   },
   {
    "duration": 5,
    "start_time": "2022-06-17T19:18:22.766Z"
   },
   {
    "duration": 10,
    "start_time": "2022-06-17T19:18:22.773Z"
   },
   {
    "duration": 8,
    "start_time": "2022-06-17T19:18:22.784Z"
   },
   {
    "duration": 5,
    "start_time": "2022-06-17T19:18:22.793Z"
   },
   {
    "duration": 293,
    "start_time": "2022-06-17T19:18:22.800Z"
   },
   {
    "duration": 7,
    "start_time": "2022-06-17T19:18:23.094Z"
   },
   {
    "duration": 10,
    "start_time": "2022-06-17T19:18:23.103Z"
   },
   {
    "duration": 6,
    "start_time": "2022-06-17T19:18:23.114Z"
   },
   {
    "duration": 5503,
    "start_time": "2022-06-17T19:18:23.126Z"
   },
   {
    "duration": 4,
    "start_time": "2022-06-17T19:18:28.631Z"
   },
   {
    "duration": 9,
    "start_time": "2022-06-17T19:18:28.636Z"
   },
   {
    "duration": 23,
    "start_time": "2022-06-17T19:18:28.646Z"
   },
   {
    "duration": 212,
    "start_time": "2022-06-17T19:18:41.676Z"
   },
   {
    "duration": 219,
    "start_time": "2022-06-17T19:18:49.088Z"
   },
   {
    "duration": 13,
    "start_time": "2022-06-17T19:26:38.269Z"
   },
   {
    "duration": 24,
    "start_time": "2022-06-17T19:38:21.446Z"
   },
   {
    "duration": 0,
    "start_time": "2022-06-17T19:38:21.472Z"
   },
   {
    "duration": 3,
    "start_time": "2022-06-17T19:38:30.578Z"
   },
   {
    "duration": 4,
    "start_time": "2022-06-17T19:38:31.212Z"
   },
   {
    "duration": 5443,
    "start_time": "2022-06-17T19:38:34.091Z"
   },
   {
    "duration": 4,
    "start_time": "2022-06-17T19:38:39.536Z"
   },
   {
    "duration": 25,
    "start_time": "2022-06-17T19:43:35.608Z"
   },
   {
    "duration": 45,
    "start_time": "2022-06-17T19:44:54.240Z"
   },
   {
    "duration": 6,
    "start_time": "2022-06-17T19:46:20.946Z"
   },
   {
    "duration": 17,
    "start_time": "2022-06-17T19:46:37.173Z"
   },
   {
    "duration": 31,
    "start_time": "2022-06-17T19:46:54.079Z"
   },
   {
    "duration": 31,
    "start_time": "2022-06-17T19:47:57.751Z"
   },
   {
    "duration": 20,
    "start_time": "2022-06-17T19:48:43.537Z"
   },
   {
    "duration": 13,
    "start_time": "2022-06-17T19:50:15.586Z"
   },
   {
    "duration": 4,
    "start_time": "2022-06-17T19:50:26.657Z"
   },
   {
    "duration": 333,
    "start_time": "2022-06-17T19:50:27.379Z"
   },
   {
    "duration": 236,
    "start_time": "2022-06-17T19:51:04.484Z"
   },
   {
    "duration": 6,
    "start_time": "2022-06-17T19:51:26.979Z"
   },
   {
    "duration": 66,
    "start_time": "2022-06-17T19:51:26.987Z"
   },
   {
    "duration": 11,
    "start_time": "2022-06-17T19:51:27.055Z"
   },
   {
    "duration": 12,
    "start_time": "2022-06-17T19:51:27.067Z"
   },
   {
    "duration": 14,
    "start_time": "2022-06-17T19:51:27.081Z"
   },
   {
    "duration": 8,
    "start_time": "2022-06-17T19:51:27.097Z"
   },
   {
    "duration": 11,
    "start_time": "2022-06-17T19:51:27.106Z"
   },
   {
    "duration": 8,
    "start_time": "2022-06-17T19:51:27.118Z"
   },
   {
    "duration": 8,
    "start_time": "2022-06-17T19:51:27.127Z"
   },
   {
    "duration": 23,
    "start_time": "2022-06-17T19:51:27.136Z"
   },
   {
    "duration": 7,
    "start_time": "2022-06-17T19:51:27.160Z"
   },
   {
    "duration": 7,
    "start_time": "2022-06-17T19:51:27.169Z"
   },
   {
    "duration": 10,
    "start_time": "2022-06-17T19:51:27.177Z"
   },
   {
    "duration": 8,
    "start_time": "2022-06-17T19:51:27.190Z"
   },
   {
    "duration": 7,
    "start_time": "2022-06-17T19:51:27.200Z"
   },
   {
    "duration": 8,
    "start_time": "2022-06-17T19:51:27.208Z"
   },
   {
    "duration": 19,
    "start_time": "2022-06-17T19:51:27.218Z"
   },
   {
    "duration": 9,
    "start_time": "2022-06-17T19:51:27.239Z"
   },
   {
    "duration": 8,
    "start_time": "2022-06-17T19:51:27.249Z"
   },
   {
    "duration": 6,
    "start_time": "2022-06-17T19:51:27.258Z"
   },
   {
    "duration": 12,
    "start_time": "2022-06-17T19:51:27.265Z"
   },
   {
    "duration": 11,
    "start_time": "2022-06-17T19:51:27.279Z"
   },
   {
    "duration": 12,
    "start_time": "2022-06-17T19:51:27.291Z"
   },
   {
    "duration": 3739,
    "start_time": "2022-06-17T19:51:27.305Z"
   },
   {
    "duration": 80,
    "start_time": "2022-06-17T19:51:31.046Z"
   },
   {
    "duration": 10,
    "start_time": "2022-06-17T19:51:31.128Z"
   },
   {
    "duration": 24,
    "start_time": "2022-06-17T19:51:31.140Z"
   },
   {
    "duration": 32,
    "start_time": "2022-06-17T19:51:31.165Z"
   },
   {
    "duration": 29,
    "start_time": "2022-06-17T19:51:31.198Z"
   },
   {
    "duration": 28,
    "start_time": "2022-06-17T19:51:31.229Z"
   },
   {
    "duration": 21,
    "start_time": "2022-06-17T19:51:31.259Z"
   },
   {
    "duration": 71,
    "start_time": "2022-06-17T19:51:31.282Z"
   },
   {
    "duration": 20,
    "start_time": "2022-06-17T19:51:31.355Z"
   },
   {
    "duration": 18,
    "start_time": "2022-06-17T19:51:31.377Z"
   },
   {
    "duration": 26,
    "start_time": "2022-06-17T19:51:31.396Z"
   },
   {
    "duration": 48,
    "start_time": "2022-06-17T19:51:31.424Z"
   },
   {
    "duration": 231,
    "start_time": "2022-06-17T19:51:31.476Z"
   },
   {
    "duration": 7,
    "start_time": "2022-06-17T19:51:31.709Z"
   },
   {
    "duration": 15,
    "start_time": "2022-06-17T19:51:31.726Z"
   },
   {
    "duration": 8,
    "start_time": "2022-06-17T19:51:31.743Z"
   },
   {
    "duration": 5873,
    "start_time": "2022-06-17T19:51:31.753Z"
   },
   {
    "duration": 4,
    "start_time": "2022-06-17T19:51:37.628Z"
   },
   {
    "duration": 7,
    "start_time": "2022-06-17T19:51:37.634Z"
   },
   {
    "duration": 22,
    "start_time": "2022-06-17T19:51:37.642Z"
   },
   {
    "duration": 11,
    "start_time": "2022-06-17T19:51:37.665Z"
   },
   {
    "duration": 27,
    "start_time": "2022-06-17T19:51:37.678Z"
   },
   {
    "duration": 28,
    "start_time": "2022-06-17T19:51:37.706Z"
   },
   {
    "duration": 3,
    "start_time": "2022-06-17T19:51:37.736Z"
   },
   {
    "duration": 206,
    "start_time": "2022-06-17T19:51:37.740Z"
   },
   {
    "duration": 7,
    "start_time": "2022-06-17T19:53:23.842Z"
   },
   {
    "duration": 12,
    "start_time": "2022-06-17T19:58:18.998Z"
   },
   {
    "duration": 12,
    "start_time": "2022-06-17T19:58:27.744Z"
   },
   {
    "duration": 6,
    "start_time": "2022-06-17T20:27:44.176Z"
   },
   {
    "duration": 148,
    "start_time": "2022-06-17T20:27:44.208Z"
   },
   {
    "duration": 13,
    "start_time": "2022-06-17T20:27:44.358Z"
   },
   {
    "duration": 48,
    "start_time": "2022-06-17T20:27:44.373Z"
   },
   {
    "duration": 27,
    "start_time": "2022-06-17T20:27:44.423Z"
   },
   {
    "duration": 17,
    "start_time": "2022-06-17T20:27:44.453Z"
   },
   {
    "duration": 23,
    "start_time": "2022-06-17T20:27:44.473Z"
   },
   {
    "duration": 19,
    "start_time": "2022-06-17T20:27:44.498Z"
   },
   {
    "duration": 14,
    "start_time": "2022-06-17T20:27:44.519Z"
   },
   {
    "duration": 28,
    "start_time": "2022-06-17T20:27:44.534Z"
   },
   {
    "duration": 18,
    "start_time": "2022-06-17T20:27:44.564Z"
   },
   {
    "duration": 6,
    "start_time": "2022-06-17T20:27:44.993Z"
   },
   {
    "duration": 28,
    "start_time": "2022-06-17T20:27:45.001Z"
   },
   {
    "duration": 15,
    "start_time": "2022-06-17T20:27:45.031Z"
   },
   {
    "duration": 8,
    "start_time": "2022-06-17T20:27:45.048Z"
   },
   {
    "duration": 6,
    "start_time": "2022-06-17T20:27:45.059Z"
   },
   {
    "duration": 32,
    "start_time": "2022-06-17T20:27:45.067Z"
   },
   {
    "duration": 4,
    "start_time": "2022-06-17T20:27:45.101Z"
   },
   {
    "duration": 18,
    "start_time": "2022-06-17T20:27:45.107Z"
   },
   {
    "duration": 11,
    "start_time": "2022-06-17T20:27:45.128Z"
   },
   {
    "duration": 130,
    "start_time": "2022-06-17T20:27:45.140Z"
   },
   {
    "duration": 3,
    "start_time": "2022-06-17T20:27:45.272Z"
   },
   {
    "duration": 18,
    "start_time": "2022-06-17T20:27:45.277Z"
   },
   {
    "duration": 4656,
    "start_time": "2022-06-17T20:27:45.296Z"
   },
   {
    "duration": 74,
    "start_time": "2022-06-17T20:27:49.956Z"
   },
   {
    "duration": 22,
    "start_time": "2022-06-17T20:27:50.031Z"
   },
   {
    "duration": 16,
    "start_time": "2022-06-17T20:27:50.055Z"
   },
   {
    "duration": 23,
    "start_time": "2022-06-17T20:27:50.073Z"
   },
   {
    "duration": 14,
    "start_time": "2022-06-17T20:27:50.098Z"
   },
   {
    "duration": 20,
    "start_time": "2022-06-17T20:27:50.114Z"
   },
   {
    "duration": 13,
    "start_time": "2022-06-17T20:27:50.136Z"
   },
   {
    "duration": 22,
    "start_time": "2022-06-17T20:27:50.151Z"
   },
   {
    "duration": 8,
    "start_time": "2022-06-17T20:27:50.175Z"
   },
   {
    "duration": 15,
    "start_time": "2022-06-17T20:27:50.185Z"
   },
   {
    "duration": 16,
    "start_time": "2022-06-17T20:27:50.202Z"
   },
   {
    "duration": 10,
    "start_time": "2022-06-17T20:27:50.220Z"
   },
   {
    "duration": 232,
    "start_time": "2022-06-17T20:27:50.232Z"
   },
   {
    "duration": 6,
    "start_time": "2022-06-17T20:27:50.465Z"
   },
   {
    "duration": 22,
    "start_time": "2022-06-17T20:27:50.473Z"
   },
   {
    "duration": 10,
    "start_time": "2022-06-17T20:27:50.496Z"
   },
   {
    "duration": 566840,
    "start_time": "2022-06-17T20:27:50.508Z"
   },
   {
    "duration": 4,
    "start_time": "2022-06-17T20:37:17.350Z"
   },
   {
    "duration": 73,
    "start_time": "2022-06-17T20:37:17.356Z"
   },
   {
    "duration": 21,
    "start_time": "2022-06-17T20:37:17.431Z"
   },
   {
    "duration": 12,
    "start_time": "2022-06-17T20:37:17.454Z"
   },
   {
    "duration": 53,
    "start_time": "2022-06-17T20:37:17.468Z"
   },
   {
    "duration": 3,
    "start_time": "2022-06-17T20:37:17.523Z"
   },
   {
    "duration": 200,
    "start_time": "2022-06-17T20:37:17.528Z"
   }
  ],
  "kernelspec": {
   "display_name": "Python 3",
   "language": "python",
   "name": "python3"
  },
  "language_info": {
   "codemirror_mode": {
    "name": "ipython",
    "version": 3
   },
   "file_extension": ".py",
   "mimetype": "text/x-python",
   "name": "python",
   "nbconvert_exporter": "python",
   "pygments_lexer": "ipython3",
   "version": "3.8.8"
  },
  "toc": {
   "base_numbering": 1,
   "nav_menu": {},
   "number_sections": false,
   "sideBar": true,
   "skip_h1_title": false,
   "title_cell": "Table of Contents",
   "title_sidebar": "Contents",
   "toc_cell": false,
   "toc_position": {
    "height": "calc(100% - 180px)",
    "left": "10px",
    "top": "150px",
    "width": "165px"
   },
   "toc_section_display": true,
   "toc_window_display": true
  },
  "varInspector": {
   "cols": {
    "lenName": 16,
    "lenType": 16,
    "lenVar": 40
   },
   "kernels_config": {
    "python": {
     "delete_cmd_postfix": "",
     "delete_cmd_prefix": "del ",
     "library": "var_list.py",
     "varRefreshCmd": "print(var_dic_list())"
    },
    "r": {
     "delete_cmd_postfix": ") ",
     "delete_cmd_prefix": "rm(",
     "library": "var_list.r",
     "varRefreshCmd": "cat(var_dic_list()) "
    }
   },
   "types_to_exclude": [
    "module",
    "function",
    "builtin_function_or_method",
    "instance",
    "_Feature"
   ],
   "window_display": false
  }
 },
 "nbformat": 4,
 "nbformat_minor": 5
}
