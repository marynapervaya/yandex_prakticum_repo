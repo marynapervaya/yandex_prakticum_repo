{
 "cells": [
  {
   "cell_type": "markdown",
   "id": "3f65ed9b",
   "metadata": {
    "id": "GEqQaHzsZ_bA"
   },
   "source": [
    "## Предсказание стоимости жилья\n",
    "\n",
    "В проекте вам нужно обучить модель линейной регрессии на данных о жилье в Калифорнии в 1990 году. На основе данных нужно предсказать медианную стоимость дома в жилом массиве. Обучите модель и сделайте предсказания на тестовой выборке. Для оценки качества модели используйте метрики RMSE, MAE и R2."
   ]
  },
  {
   "cell_type": "markdown",
   "id": "10ce618a",
   "metadata": {
    "id": "53871372"
   },
   "source": [
    "# Подготовка данных"
   ]
  },
  {
   "cell_type": "code",
   "execution_count": 46,
   "id": "364ac0e2",
   "metadata": {},
   "outputs": [
    {
     "name": "stdout",
     "output_type": "stream",
     "text": [
      "End\n"
     ]
    }
   ],
   "source": [
    "#Импортируем все нужные модули из pyspark.ml.feature для трансформации признаков,\n",
    "#алгоритм линейной регрессии из pyspark.ml.regression и модули из pyspark.ml.evaluation для оценки качества модели.\n",
    "\n",
    "import pandas as pd \n",
    "import numpy as np\n",
    "\n",
    "import pyspark\n",
    "from pyspark.sql import SparkSession\n",
    "from pyspark.sql.types import *\n",
    "import pyspark.sql.functions as F\n",
    "\n",
    "from pyspark.sql import functions as F, Window\n",
    "from pyspark.ml.evaluation import RegressionEvaluator\n",
    "from pyspark.sql import DataFrame\n",
    "from pyspark.ml.regression import LinearRegression\n",
    "\n",
    "from pyspark import SparkConf, SparkContext\n",
    "from pyspark.sql import SQLContext\n",
    "\n",
    "\n",
    "pyspark_version = pyspark.__version__\n",
    "if int(pyspark_version[:1]) == 3:\n",
    "    from pyspark.ml.feature import OneHotEncoder    \n",
    "elif int(pyspark_version[:1]) == 2:\n",
    "    from pyspark.ml.feature import OneHotEncoderEstimator\n",
    "from pyspark.ml.feature import StringIndexer, VectorAssembler, StandardScaler\n",
    "        \n",
    "RANDOM_SEED = 2022\n",
    "\n",
    "spark = SparkSession.builder \\\n",
    "                    .master(\"local\") \\\n",
    "                    .appName(\"HAUSING - Logistic regression\") \\\n",
    "                    .getOrCreate()\n",
    "\n",
    "df = spark.read.option('header', 'true').csv('/datasets/housing.csv', inferSchema = True, nullValue=\"NA\")\n",
    "print(\"End\")"
   ]
  },
  {
   "cell_type": "code",
   "execution_count": 47,
   "id": "ce9f2ebc",
   "metadata": {},
   "outputs": [],
   "source": [
    "#заполним пропущенные значения в столбце total_bedrooms на среднее значение  по столбцу\n",
    "exclude = [\"total_bedrooms\"]\n",
    "#mean = cases_df['total_bedrooms'].mean()\n",
    "#df = df.fillna(mean)\n",
    "mean = df.select(F.mean('total_bedrooms')).collect()[0][0]\n",
    "df = df.na.fill({'total_bedrooms': mean})"
   ]
  },
  {
   "cell_type": "code",
   "execution_count": 48,
   "id": "51e6e770",
   "metadata": {},
   "outputs": [
    {
     "name": "stdout",
     "output_type": "stream",
     "text": [
      "<class 'pandas.core.frame.DataFrame'>\n",
      "RangeIndex: 20640 entries, 0 to 20639\n",
      "Data columns (total 10 columns):\n",
      "longitude             20640 non-null float64\n",
      "latitude              20640 non-null float64\n",
      "housing_median_age    20640 non-null float64\n",
      "total_rooms           20640 non-null float64\n",
      "total_bedrooms        20640 non-null float64\n",
      "population            20640 non-null float64\n",
      "households            20640 non-null float64\n",
      "median_income         20640 non-null float64\n",
      "median_house_value    20640 non-null float64\n",
      "ocean_proximity       20640 non-null object\n",
      "dtypes: float64(9), object(1)\n",
      "memory usage: 1.6+ MB\n"
     ]
    }
   ],
   "source": [
    "# посмотрим на таблицу, преобразованную в таблицу Pandas\n",
    "cases_df = df.toPandas()\n",
    "cases_df.info()"
   ]
  },
  {
   "cell_type": "code",
   "execution_count": 49,
   "id": "dce27aab",
   "metadata": {
    "scrolled": true
   },
   "outputs": [
    {
     "name": "stdout",
     "output_type": "stream",
     "text": [
      "root\n",
      " |-- longitude: double (nullable = true)\n",
      " |-- latitude: double (nullable = true)\n",
      " |-- housing_median_age: double (nullable = true)\n",
      " |-- total_rooms: double (nullable = true)\n",
      " |-- total_bedrooms: double (nullable = false)\n",
      " |-- population: double (nullable = true)\n",
      " |-- households: double (nullable = true)\n",
      " |-- median_income: double (nullable = true)\n",
      " |-- median_house_value: double (nullable = true)\n",
      " |-- ocean_proximity: string (nullable = true)\n",
      "\n"
     ]
    }
   ],
   "source": [
    "#посмотрим на типы всех наших колонок\n",
    "df.printSchema()"
   ]
  },
  {
   "cell_type": "code",
   "execution_count": 51,
   "id": "bcc6c479",
   "metadata": {},
   "outputs": [],
   "source": [
    "#Разделим колонки на два типа: числовые и текстовые, которые представляют категориальные данные,\n",
    "#отдельно создадим переменную под столбец с целевым значением\n",
    "categorical_col = 'ocean_proximity'\n",
    "numerical_cols  = ['longitude', 'latitude', 'housing_median_age', 'total_rooms', 'total_bedrooms', 'population', 'households', \n",
    "                   'median_income']\n",
    "target = \"median_house_value\" \n",
    "\n",
    "#создадим отдельный набор данных, используя только числовые переменные, исключив категориальные\n",
    "df_num = df['longitude', 'latitude', 'housing_median_age', 'total_rooms', 'total_bedrooms', 'population', 'households', \n",
    "                   'median_income', 'median_house_value']"
   ]
  },
  {
   "cell_type": "code",
   "execution_count": 52,
   "id": "9e0171a1",
   "metadata": {},
   "outputs": [],
   "source": [
    "#В первую очередь трансформируем категориальные признаки с помощью трансформера StringIndexer. \n",
    "#(Он переводит текстовые категории в числовое представление).\n",
    "\n",
    "indexer = StringIndexer(inputCol=categorical_col, \n",
    "                        outputCol=categorical_col+'_idx')\n",
    "df = indexer.fit(df).transform(df)\n",
    "\n",
    "#cols = [c for c in df.columns for i in categorical_col if (c.startswith(i))]\n",
    "#df.select(cols).show(3)"
   ]
  },
  {
   "cell_type": "code",
   "execution_count": 53,
   "id": "fa5eec33",
   "metadata": {},
   "outputs": [],
   "source": [
    "#Дополнительно создадим OHE-кодирование для категорий.\n",
    "encoder = OneHotEncoderEstimator(inputCols=[categorical_col+'_idx'],\n",
    "                        outputCols=[categorical_col+'_ohe'])\n",
    "df = encoder.fit(df).transform(df)\n",
    "\n",
    "#cols = [c for c in df.columns for i in categorical_cols if (c.startswith(i))]\n",
    "#df.select(cols).show(3)"
   ]
  },
  {
   "cell_type": "code",
   "execution_count": 54,
   "id": "4f017d52",
   "metadata": {},
   "outputs": [],
   "source": [
    " #объединеним категориальные признаки в один вектор, с которым ML-алгоритм умеет работать\n",
    "categorical_assembler = \\\n",
    "        VectorAssembler(inputCols=[categorical_col +'_ohe'],\n",
    "                                        outputCol=\"categorical_features\")\n",
    "df = categorical_assembler.transform(df)"
   ]
  },
  {
   "cell_type": "code",
   "execution_count": 55,
   "id": "9639d914",
   "metadata": {},
   "outputs": [],
   "source": [
    " #объединеним числовые признаки в один вектор, с которым ML-алгоритм умеет работать\n",
    "numerical_assembler = VectorAssembler(inputCols=numerical_cols,\n",
    "                                                                            outputCol=\"numerical_features\")\n",
    "df = numerical_assembler.transform(df)\n",
    "df_num = numerical_assembler.transform(df_num)"
   ]
  },
  {
   "cell_type": "code",
   "execution_count": 56,
   "id": "426713da",
   "metadata": {
    "id": "df92e3ec"
   },
   "outputs": [],
   "source": [
    "# проведем шкалирование значений — чтобы сильные выбросы не смещали предсказания модели\n",
    "standardScaler = StandardScaler(inputCol='numerical_features',\n",
    "                                                                outputCol=\"numerical_features_scaled\")\n",
    "df = standardScaler.fit(df).transform(df)\n",
    "df_num = standardScaler.fit(df_num).transform(df_num)"
   ]
  },
  {
   "cell_type": "code",
   "execution_count": 57,
   "id": "4d5605fb",
   "metadata": {},
   "outputs": [
    {
     "name": "stdout",
     "output_type": "stream",
     "text": [
      "['longitude', 'latitude', 'housing_median_age', 'total_rooms', 'total_bedrooms', 'population', 'households', 'median_income', 'median_house_value', 'ocean_proximity', 'ocean_proximity_idx', 'ocean_proximity_ohe', 'categorical_features', 'numerical_features', 'numerical_features_scaled']\n"
     ]
    }
   ],
   "source": [
    "#выведем название всех колонок для всего набора данных\n",
    "print(df.columns)"
   ]
  },
  {
   "cell_type": "code",
   "execution_count": 58,
   "id": "4489256d",
   "metadata": {},
   "outputs": [
    {
     "name": "stdout",
     "output_type": "stream",
     "text": [
      "['longitude', 'latitude', 'housing_median_age', 'total_rooms', 'total_bedrooms', 'population', 'households', 'median_income', 'median_house_value', 'numerical_features', 'numerical_features_scaled']\n"
     ]
    }
   ],
   "source": [
    "#выведем название всех колонок для набора данных с числовыми признаками\n",
    "print(df_num.columns)"
   ]
  },
  {
   "cell_type": "code",
   "execution_count": 59,
   "id": "ccf91a32",
   "metadata": {},
   "outputs": [
    {
     "name": "stdout",
     "output_type": "stream",
     "text": [
      "+--------------------+-------------------------+\n",
      "|categorical_features|numerical_features_scaled|\n",
      "+--------------------+-------------------------+\n",
      "|       (4,[3],[1.0])|     [-61.007269596069...|\n",
      "|       (4,[3],[1.0])|     [-61.002278409814...|\n",
      "|       (4,[3],[1.0])|     [-61.012260782324...|\n",
      "+--------------------+-------------------------+\n",
      "only showing top 3 rows\n",
      "\n"
     ]
    }
   ],
   "source": [
    "#соберем трансформированные категорийные и числовые признаки\n",
    "all_features = ['categorical_features','numerical_features_scaled']\n",
    "\n",
    "final_assembler = VectorAssembler(inputCols=all_features, \n",
    "                                  outputCol=\"features\") \n",
    "df = final_assembler.transform(df)\n",
    "\n",
    "df.select(all_features).show(3)"
   ]
  },
  {
   "cell_type": "code",
   "execution_count": 60,
   "id": "216319f7",
   "metadata": {
    "scrolled": true
   },
   "outputs": [
    {
     "name": "stdout",
     "output_type": "stream",
     "text": [
      "+-------------------------+\n",
      "|numerical_features_scaled|\n",
      "+-------------------------+\n",
      "|     [-61.007269596069...|\n",
      "|     [-61.002278409814...|\n",
      "|     [-61.012260782324...|\n",
      "+-------------------------+\n",
      "only showing top 3 rows\n",
      "\n"
     ]
    }
   ],
   "source": [
    "#собрать трансформированные числовые признаки\n",
    "features_num = ['numerical_features_scaled']\n",
    "\n",
    "final_assembler = VectorAssembler(inputCols=features_num, \n",
    "                                  outputCol=\"features_num\") \n",
    "df_num = final_assembler.transform(df_num)\n",
    "\n",
    "df_num.select(features_num).show(3)"
   ]
  },
  {
   "cell_type": "markdown",
   "id": "3b8ecb8e",
   "metadata": {},
   "source": [
    "***Вывод***:\n",
    "\n",
    "Заполнили пропущенные значения в столбце total_bedrooms на среднее значение  по столбцу, трансформировали категориальные признаки, создали OHE-кодирование для категорий, объединенили категориальные признаки в один вектор и числовые признаки в другой вектор, провели шкалирование значений числовых признаков, трансформировали категорийные и числовые признаки.\n"
   ]
  },
  {
   "cell_type": "markdown",
   "id": "e96600c6",
   "metadata": {},
   "source": [
    "# Обучение моделей"
   ]
  },
  {
   "cell_type": "code",
   "execution_count": 61,
   "id": "2f72e801",
   "metadata": {},
   "outputs": [
    {
     "name": "stdout",
     "output_type": "stream",
     "text": [
      "16437 4203\n"
     ]
    }
   ],
   "source": [
    "#Разделяем  датасет на две части — выборку для обучения и выборку для тестирования качества модели\n",
    "train_data, test_data = df.randomSplit([.8,.2], seed=RANDOM_SEED)\n",
    "print(train_data.count(), test_data.count())"
   ]
  },
  {
   "cell_type": "code",
   "execution_count": 62,
   "id": "07e12840",
   "metadata": {},
   "outputs": [
    {
     "name": "stdout",
     "output_type": "stream",
     "text": [
      "16437 4203\n"
     ]
    }
   ],
   "source": [
    "#Разделяем  датасет числовых признаков на две части — выборку для обучения и выборку для тестирования качества модели\n",
    "train_data_num, test_data_num = df_num.randomSplit([.8,.2], seed=RANDOM_SEED)\n",
    "print(train_data_num.count(), test_data_num.count())"
   ]
  },
  {
   "cell_type": "code",
   "execution_count": 63,
   "id": "9cf39d74",
   "metadata": {},
   "outputs": [
    {
     "name": "stdout",
     "output_type": "stream",
     "text": [
      "Coefficients: [17386.430795751403,-42907.646586252515,26250.999191614977,14845.127873281883,-23673.416384793836,-23520.779171806957,13928.424690788983,210.91685191627477,28791.435833964173,-49348.35198000037,25614.623162511383,72262.85193905383]\n",
      "Intercept: -1000156.2856539406\n"
     ]
    }
   ],
   "source": [
    "#Построим модель линейной регрессии на наборе данных, используя все данные из файла;\n",
    "\n",
    "lr = LinearRegression(labelCol= 'median_house_value', featuresCol = 'features', maxIter=10, regParam=0.3, elasticNetParam=0.8)\n",
    "lr_model = lr.fit(train_data)\n",
    "print(\"Coefficients: %s\" % str(lr_model.coefficients))\n",
    "print(\"Intercept: %s\" % str(lr_model.intercept))"
   ]
  },
  {
   "cell_type": "code",
   "execution_count": 64,
   "id": "1b7f61e6",
   "metadata": {},
   "outputs": [
    {
     "name": "stdout",
     "output_type": "stream",
     "text": [
      "Coefficients: [-68531.938070535,-72805.95765339056,15996.687794895974,-8348.40585674149,34076.863487206974,-53847.0966943031,34478.58288001748,76625.04909315362]\n",
      "Intercept: -2871869.1386776133\n"
     ]
    }
   ],
   "source": [
    "#Построим модель линейной регрессии на наборе данных, используя только числовые переменные, исключив категориальные.\n",
    "#Для построения модели используйте оценщик LinearRegression из библиотеки MLlib.\n",
    "lr_num = LinearRegression(labelCol= target, featuresCol = 'features_num',  maxIter=10, regParam=0.3, elasticNetParam=0.8)\n",
    "lr_model_num = lr_num.fit(train_data_num)\n",
    "print(\"Coefficients: %s\" % str(lr_model_num.coefficients))\n",
    "print(\"Intercept: %s\" % str(lr_model_num.intercept))"
   ]
  },
  {
   "cell_type": "code",
   "execution_count": 65,
   "id": "fed30310",
   "metadata": {},
   "outputs": [
    {
     "name": "stdout",
     "output_type": "stream",
     "text": [
      "RMSE: 69342.855671\n",
      "r2: 0.639466\n",
      "MAE: 50202.693350\n"
     ]
    }
   ],
   "source": [
    "#использую summury для статистики для числовых и строковых столбцов на тренировочной выборке\n",
    "trainingSummary = lr_model.summary\n",
    "print(\"RMSE: %f\" % trainingSummary.rootMeanSquaredError)\n",
    "print(\"r2: %f\" % trainingSummary.r2)\n",
    "print(\"MAE: %f\" % trainingSummary.meanAbsoluteError)"
   ]
  },
  {
   "cell_type": "code",
   "execution_count": 66,
   "id": "af399bee",
   "metadata": {},
   "outputs": [
    {
     "name": "stdout",
     "output_type": "stream",
     "text": [
      "RMSE: 70172.882592\n",
      "r2: 0.630783\n",
      "MAE: 51124.357613\n"
     ]
    }
   ],
   "source": [
    "#использую summury для статистики для числовых и строковых столбцов на тренировочной выборке только ля числовых переменных\n",
    "trainingSummaryNum = lr_model_num.summary\n",
    "print(\"RMSE: %f\" % trainingSummaryNum.rootMeanSquaredError)\n",
    "print(\"r2: %f\" % trainingSummaryNum.r2)\n",
    "print(\"MAE: %f\" % trainingSummaryNum.meanAbsoluteError)"
   ]
  },
  {
   "cell_type": "code",
   "execution_count": 67,
   "id": "5058c615",
   "metadata": {},
   "outputs": [
    {
     "name": "stdout",
     "output_type": "stream",
     "text": [
      "+------------------+------------------+--------------------+\n",
      "|        prediction|median_house_value|            features|\n",
      "+------------------+------------------+--------------------+\n",
      "| 144464.2682678937|           85800.0|[0.0,0.0,1.0,0.0,...|\n",
      "|207143.88575844374|          111400.0|[0.0,0.0,1.0,0.0,...|\n",
      "| 157074.7809646111|           58100.0|[0.0,0.0,1.0,0.0,...|\n",
      "| 150118.7533728031|           64600.0|[0.0,0.0,1.0,0.0,...|\n",
      "|187107.79636004497|           82800.0|[0.0,0.0,1.0,0.0,...|\n",
      "+------------------+------------------+--------------------+\n",
      "only showing top 5 rows\n",
      "\n",
      "R Squared (R2) on test data = 0.640376\n"
     ]
    }
   ],
   "source": [
    "#Для построения модели используем оценщик LinearRegression из библиотеки MLlib evaluate\n",
    "lr_predictions = lr_model.transform(test_data)\n",
    "lr_predictions.select(\"prediction\",target,\"features\").show(5)\n",
    "lr_evaluator = RegressionEvaluator(predictionCol=\"prediction\", \\\n",
    "                 labelCol=target,metricName=\"r2\")\n",
    "print(\"R Squared (R2) on test data = %g\" % lr_evaluator.evaluate(lr_predictions))"
   ]
  },
  {
   "cell_type": "code",
   "execution_count": 68,
   "id": "e5b0298c",
   "metadata": {
    "scrolled": true
   },
   "outputs": [
    {
     "name": "stdout",
     "output_type": "stream",
     "text": [
      "+------------------+------------------+--------------------+\n",
      "|        prediction|median_house_value|        features_num|\n",
      "+------------------+------------------+--------------------+\n",
      "| 75114.75630027708|           85800.0|[-62.040445150874...|\n",
      "|170158.36659766315|          111400.0|[-62.020480405854...|\n",
      "|112067.09445788525|           58100.0|[-61.995524474579...|\n",
      "|103033.32668885449|           64600.0|[-61.980550915813...|\n",
      "|141942.49020201433|           82800.0|[-61.975559729558...|\n",
      "+------------------+------------------+--------------------+\n",
      "only showing top 5 rows\n",
      "\n",
      "R Squared (R2) on test data num = 0.63094\n"
     ]
    }
   ],
   "source": [
    "#Для построения модели используем оценщик LinearRegression из библиотеки MLlib evaluate на числовых переменных\n",
    "lr_predictions_num = lr_model_num.transform(test_data_num)\n",
    "lr_predictions_num.select(\"prediction\",target,\"features_num\").show(5)\n",
    "lr_evaluator_num = RegressionEvaluator(predictionCol=\"prediction\", \\\n",
    "                 labelCol=target,metricName=\"r2\")\n",
    "print(\"R Squared (R2) on test data num = %g\" % lr_evaluator_num.evaluate(lr_predictions_num))"
   ]
  },
  {
   "cell_type": "markdown",
   "id": "a492c600",
   "metadata": {},
   "source": [
    "***Вывод:***  \n",
    "\n",
    "На тренировочной выборке для числовых переменных показатели RMSE и MAE выше чем на наборе данных с категориальными переменными, а показатель R2 ниже."
   ]
  },
  {
   "cell_type": "markdown",
   "id": "2abda6a6",
   "metadata": {},
   "source": [
    "# Анализ результатов"
   ]
  },
  {
   "cell_type": "code",
   "execution_count": 69,
   "id": "24a53a18",
   "metadata": {},
   "outputs": [
    {
     "name": "stdout",
     "output_type": "stream",
     "text": [
      "Root Mean Squared Error (RMSE) on test data = 68981\n",
      "R2 on test data = 0.640376\n",
      "Root Mean Absolute Error (MAE) on test data = 49522.3\n"
     ]
    }
   ],
   "source": [
    "#Считаем RMSE, R2, MAE на тестовой выборке\n",
    "test_result = lr_model.evaluate(test_data)\n",
    "print(\"Root Mean Squared Error (RMSE) on test data = %g\" % test_result.rootMeanSquaredError)\n",
    "print(\"R2 on test data = %g\" % test_result.r2)\n",
    "print(\"Root Mean Absolute Error (MAE) on test data = %g\" % test_result.meanAbsoluteError)"
   ]
  },
  {
   "cell_type": "code",
   "execution_count": 70,
   "id": "8f2486ac",
   "metadata": {},
   "outputs": [
    {
     "name": "stdout",
     "output_type": "stream",
     "text": [
      "Root Mean Squared Error (RMSE) on test data num = 69880.1\n",
      "R2 on test data num = 0.63094\n",
      "Root Mean Absolute Error (MAE) on test data num = 50611.2\n"
     ]
    }
   ],
   "source": [
    "#Считаем RMSE, R2, MAE на тестовой выборке для числовых переменных\n",
    "test_result_num = lr_model_num.evaluate(test_data_num)\n",
    "print(\"Root Mean Squared Error (RMSE) on test data num = %g\" % test_result_num.rootMeanSquaredError)\n",
    "print(\"R2 on test data num = %g\" % test_result_num.r2)\n",
    "print(\"Root Mean Absolute Error (MAE) on test data num = %g\" % test_result_num.meanAbsoluteError)"
   ]
  },
  {
   "cell_type": "markdown",
   "id": "59d4c1a9",
   "metadata": {},
   "source": [
    "***Вывод***:  \n",
    "\n",
    "На тестовой выборке для числовых переменных показатели RMSE и MAE выше чем на наборе данных с категориальными переменными, а показатель R2 ниже."
   ]
  }
 ],
 "metadata": {
  "ExecuteTimeLog": [
   {
    "duration": 1664,
    "start_time": "2022-02-22T10:52:50.778Z"
   },
   {
    "duration": 88,
    "start_time": "2022-02-22T10:53:02.567Z"
   },
   {
    "duration": 829,
    "start_time": "2022-02-22T10:53:49.342Z"
   },
   {
    "duration": 99,
    "start_time": "2022-02-22T10:53:58.188Z"
   },
   {
    "duration": 236,
    "start_time": "2022-02-22T13:43:31.089Z"
   },
   {
    "duration": 1283,
    "start_time": "2022-02-22T13:43:40.450Z"
   },
   {
    "duration": 497,
    "start_time": "2022-02-22T13:43:45.384Z"
   },
   {
    "duration": 59,
    "start_time": "2022-02-22T13:43:50.335Z"
   },
   {
    "duration": 239,
    "start_time": "2022-02-22T13:43:53.409Z"
   },
   {
    "duration": 4,
    "start_time": "2022-02-22T13:47:08.019Z"
   },
   {
    "duration": 194,
    "start_time": "2022-02-22T13:47:13.039Z"
   },
   {
    "duration": 132,
    "start_time": "2022-02-22T13:47:42.568Z"
   },
   {
    "duration": 25027,
    "start_time": "2022-02-22T13:48:03.649Z"
   },
   {
    "duration": 1201,
    "start_time": "2022-02-22T13:49:14.219Z"
   },
   {
    "duration": 1257,
    "start_time": "2022-02-22T13:51:34.806Z"
   },
   {
    "duration": 45,
    "start_time": "2022-02-22T13:52:16.649Z"
   },
   {
    "duration": 9,
    "start_time": "2022-02-22T13:53:17.759Z"
   },
   {
    "duration": 185,
    "start_time": "2022-02-22T13:59:00.776Z"
   },
   {
    "duration": 123,
    "start_time": "2022-02-22T13:59:04.386Z"
   },
   {
    "duration": 237,
    "start_time": "2022-02-22T13:59:08.915Z"
   },
   {
    "duration": 764,
    "start_time": "2022-02-22T13:59:59.236Z"
   },
   {
    "duration": 360,
    "start_time": "2022-02-22T14:00:38.496Z"
   },
   {
    "duration": 267,
    "start_time": "2022-02-22T14:00:55.716Z"
   },
   {
    "duration": 655,
    "start_time": "2022-02-22T14:01:10.665Z"
   },
   {
    "duration": 4,
    "start_time": "2022-02-22T14:01:24.309Z"
   },
   {
    "duration": 220,
    "start_time": "2022-02-22T17:58:21.235Z"
   },
   {
    "duration": 455,
    "start_time": "2022-02-22T17:58:25.535Z"
   },
   {
    "duration": 13550,
    "start_time": "2022-02-22T17:58:25.992Z"
   },
   {
    "duration": 7087,
    "start_time": "2022-02-22T17:58:39.544Z"
   },
   {
    "duration": 616,
    "start_time": "2022-02-22T17:58:46.633Z"
   },
   {
    "duration": 918,
    "start_time": "2022-02-22T17:58:47.251Z"
   },
   {
    "duration": 10,
    "start_time": "2022-02-22T17:58:48.171Z"
   },
   {
    "duration": 801,
    "start_time": "2022-02-22T17:58:48.232Z"
   },
   {
    "duration": 1397,
    "start_time": "2022-02-22T17:58:49.034Z"
   },
   {
    "duration": 10,
    "start_time": "2022-02-22T17:58:50.433Z"
   },
   {
    "duration": 202,
    "start_time": "2022-02-22T17:59:10.113Z"
   },
   {
    "duration": 221,
    "start_time": "2022-02-22T17:59:19.626Z"
   },
   {
    "duration": 5,
    "start_time": "2022-02-22T18:01:32.595Z"
   },
   {
    "duration": 260,
    "start_time": "2022-02-22T18:01:32.602Z"
   },
   {
    "duration": 541,
    "start_time": "2022-02-22T18:01:32.323Z"
   },
   {
    "duration": 534,
    "start_time": "2022-02-22T18:01:32.331Z"
   },
   {
    "duration": 531,
    "start_time": "2022-02-22T18:01:32.335Z"
   },
   {
    "duration": 528,
    "start_time": "2022-02-22T18:01:32.339Z"
   },
   {
    "duration": 526,
    "start_time": "2022-02-22T18:01:32.342Z"
   },
   {
    "duration": 523,
    "start_time": "2022-02-22T18:01:32.346Z"
   },
   {
    "duration": 522,
    "start_time": "2022-02-22T18:01:32.348Z"
   },
   {
    "duration": 518,
    "start_time": "2022-02-22T18:01:32.353Z"
   },
   {
    "duration": 374,
    "start_time": "2022-02-22T18:01:32.498Z"
   },
   {
    "duration": 366,
    "start_time": "2022-02-22T18:01:32.507Z"
   },
   {
    "duration": 364,
    "start_time": "2022-02-22T18:01:32.510Z"
   },
   {
    "duration": 362,
    "start_time": "2022-02-22T18:01:32.513Z"
   },
   {
    "duration": 360,
    "start_time": "2022-02-22T18:01:32.516Z"
   },
   {
    "duration": 4,
    "start_time": "2022-02-22T18:02:25.154Z"
   },
   {
    "duration": 232,
    "start_time": "2022-02-22T18:02:25.160Z"
   },
   {
    "duration": 541,
    "start_time": "2022-02-22T18:02:24.853Z"
   },
   {
    "duration": 537,
    "start_time": "2022-02-22T18:02:24.858Z"
   },
   {
    "duration": 534,
    "start_time": "2022-02-22T18:02:24.862Z"
   },
   {
    "duration": 533,
    "start_time": "2022-02-22T18:02:24.864Z"
   },
   {
    "duration": 531,
    "start_time": "2022-02-22T18:02:24.867Z"
   },
   {
    "duration": 528,
    "start_time": "2022-02-22T18:02:24.871Z"
   },
   {
    "duration": 524,
    "start_time": "2022-02-22T18:02:24.876Z"
   },
   {
    "duration": 523,
    "start_time": "2022-02-22T18:02:24.878Z"
   },
   {
    "duration": 521,
    "start_time": "2022-02-22T18:02:24.881Z"
   },
   {
    "duration": 519,
    "start_time": "2022-02-22T18:02:24.884Z"
   },
   {
    "duration": 516,
    "start_time": "2022-02-22T18:02:24.888Z"
   },
   {
    "duration": 514,
    "start_time": "2022-02-22T18:02:24.891Z"
   },
   {
    "duration": 227,
    "start_time": "2022-02-22T18:02:34.488Z"
   },
   {
    "duration": 665,
    "start_time": "2022-02-22T18:02:55.728Z"
   },
   {
    "duration": 181,
    "start_time": "2022-02-22T18:02:58.873Z"
   },
   {
    "duration": 180,
    "start_time": "2022-02-22T18:03:03.586Z"
   },
   {
    "duration": 4,
    "start_time": "2022-02-22T18:03:05.947Z"
   },
   {
    "duration": 704,
    "start_time": "2022-02-22T18:03:10.562Z"
   },
   {
    "duration": 633,
    "start_time": "2022-02-22T18:03:14.123Z"
   },
   {
    "duration": 10,
    "start_time": "2022-02-22T18:03:16.946Z"
   },
   {
    "duration": 49,
    "start_time": "2022-02-22T18:04:13.411Z"
   },
   {
    "duration": 191,
    "start_time": "2022-02-22T18:10:08.005Z"
   },
   {
    "duration": 19,
    "start_time": "2022-02-22T18:13:53.206Z"
   },
   {
    "duration": 4,
    "start_time": "2022-02-22T18:14:00.278Z"
   },
   {
    "duration": 263,
    "start_time": "2022-02-22T18:14:00.284Z"
   },
   {
    "duration": 550,
    "start_time": "2022-02-22T18:14:00.000Z"
   },
   {
    "duration": 543,
    "start_time": "2022-02-22T18:14:00.008Z"
   },
   {
    "duration": 538,
    "start_time": "2022-02-22T18:14:00.015Z"
   },
   {
    "duration": 533,
    "start_time": "2022-02-22T18:14:00.021Z"
   },
   {
    "duration": 530,
    "start_time": "2022-02-22T18:14:00.025Z"
   },
   {
    "duration": 525,
    "start_time": "2022-02-22T18:14:00.032Z"
   },
   {
    "duration": 509,
    "start_time": "2022-02-22T18:14:00.049Z"
   },
   {
    "duration": 506,
    "start_time": "2022-02-22T18:14:00.054Z"
   },
   {
    "duration": 501,
    "start_time": "2022-02-22T18:14:00.060Z"
   },
   {
    "duration": 497,
    "start_time": "2022-02-22T18:14:00.065Z"
   },
   {
    "duration": 495,
    "start_time": "2022-02-22T18:14:00.069Z"
   },
   {
    "duration": 491,
    "start_time": "2022-02-22T18:14:00.074Z"
   },
   {
    "duration": 602,
    "start_time": "2022-02-22T18:14:25.016Z"
   },
   {
    "duration": 177,
    "start_time": "2022-02-22T18:14:28.395Z"
   },
   {
    "duration": 211,
    "start_time": "2022-02-22T18:14:32.621Z"
   },
   {
    "duration": 4,
    "start_time": "2022-02-22T18:14:36.064Z"
   },
   {
    "duration": 574,
    "start_time": "2022-02-22T18:14:41.458Z"
   },
   {
    "duration": 1037,
    "start_time": "2022-02-22T18:14:49.331Z"
   },
   {
    "duration": 9,
    "start_time": "2022-02-22T18:14:56.781Z"
   },
   {
    "duration": 16,
    "start_time": "2022-02-22T18:15:15.996Z"
   },
   {
    "duration": 79,
    "start_time": "2022-02-22T18:15:19.678Z"
   },
   {
    "duration": 3236,
    "start_time": "2022-02-22T18:15:23.591Z"
   },
   {
    "duration": 26266,
    "start_time": "2022-02-22T18:16:01.503Z"
   },
   {
    "duration": 1391,
    "start_time": "2022-02-22T18:16:27.771Z"
   },
   {
    "duration": 178,
    "start_time": "2022-02-22T18:29:43.346Z"
   },
   {
    "duration": 7,
    "start_time": "2022-02-22T18:29:55.212Z"
   },
   {
    "duration": 222,
    "start_time": "2022-02-22T18:29:55.221Z"
   },
   {
    "duration": 532,
    "start_time": "2022-02-22T18:29:54.915Z"
   },
   {
    "duration": 529,
    "start_time": "2022-02-22T18:29:54.919Z"
   },
   {
    "duration": 526,
    "start_time": "2022-02-22T18:29:54.923Z"
   },
   {
    "duration": 509,
    "start_time": "2022-02-22T18:29:54.942Z"
   },
   {
    "duration": 506,
    "start_time": "2022-02-22T18:29:54.946Z"
   },
   {
    "duration": 505,
    "start_time": "2022-02-22T18:29:54.949Z"
   },
   {
    "duration": 504,
    "start_time": "2022-02-22T18:29:54.952Z"
   },
   {
    "duration": 502,
    "start_time": "2022-02-22T18:29:54.955Z"
   },
   {
    "duration": 501,
    "start_time": "2022-02-22T18:29:54.958Z"
   },
   {
    "duration": 497,
    "start_time": "2022-02-22T18:29:54.963Z"
   },
   {
    "duration": 495,
    "start_time": "2022-02-22T18:29:54.966Z"
   },
   {
    "duration": 492,
    "start_time": "2022-02-22T18:29:54.971Z"
   },
   {
    "duration": 490,
    "start_time": "2022-02-22T18:29:54.974Z"
   },
   {
    "duration": 12,
    "start_time": "2022-02-22T18:30:11.576Z"
   },
   {
    "duration": 6,
    "start_time": "2022-02-22T18:30:18.478Z"
   },
   {
    "duration": 13,
    "start_time": "2022-02-22T18:30:18.486Z"
   },
   {
    "duration": 751,
    "start_time": "2022-02-22T18:30:18.501Z"
   },
   {
    "duration": 200,
    "start_time": "2022-02-22T18:30:19.254Z"
   },
   {
    "duration": 287,
    "start_time": "2022-02-22T18:30:19.456Z"
   },
   {
    "duration": 6,
    "start_time": "2022-02-22T18:30:19.745Z"
   },
   {
    "duration": 501,
    "start_time": "2022-02-22T18:30:19.753Z"
   },
   {
    "duration": 430,
    "start_time": "2022-02-22T18:30:20.257Z"
   },
   {
    "duration": 9,
    "start_time": "2022-02-22T18:30:20.689Z"
   },
   {
    "duration": 15,
    "start_time": "2022-02-22T18:30:20.731Z"
   },
   {
    "duration": 13,
    "start_time": "2022-02-22T18:30:20.747Z"
   },
   {
    "duration": 203,
    "start_time": "2022-02-22T18:30:20.762Z"
   },
   {
    "duration": 526,
    "start_time": "2022-02-22T18:30:20.441Z"
   },
   {
    "duration": 522,
    "start_time": "2022-02-22T18:30:20.446Z"
   },
   {
    "duration": 519,
    "start_time": "2022-02-22T18:30:20.451Z"
   },
   {
    "duration": 428,
    "start_time": "2022-02-22T18:30:38.841Z"
   },
   {
    "duration": 177,
    "start_time": "2022-02-22T18:52:40.139Z"
   },
   {
    "duration": 3,
    "start_time": "2022-02-22T18:52:47.417Z"
   },
   {
    "duration": 13,
    "start_time": "2022-02-22T18:52:54.398Z"
   },
   {
    "duration": 186,
    "start_time": "2022-02-22T18:52:57.126Z"
   },
   {
    "duration": 244,
    "start_time": "2022-02-22T18:53:20.390Z"
   },
   {
    "duration": 15,
    "start_time": "2022-02-22T19:02:05.899Z"
   },
   {
    "duration": 243,
    "start_time": "2022-02-22T19:02:08.282Z"
   },
   {
    "duration": 200,
    "start_time": "2022-02-22T19:02:37.185Z"
   },
   {
    "duration": 10,
    "start_time": "2022-02-22T19:03:30.120Z"
   },
   {
    "duration": 13,
    "start_time": "2022-02-22T19:03:30.131Z"
   },
   {
    "duration": 562,
    "start_time": "2022-02-22T19:03:30.146Z"
   },
   {
    "duration": 134,
    "start_time": "2022-02-22T19:03:30.710Z"
   },
   {
    "duration": 193,
    "start_time": "2022-02-22T19:03:30.846Z"
   },
   {
    "duration": 3,
    "start_time": "2022-02-22T19:03:31.041Z"
   },
   {
    "duration": 499,
    "start_time": "2022-02-22T19:03:31.046Z"
   },
   {
    "duration": 508,
    "start_time": "2022-02-22T19:03:31.548Z"
   },
   {
    "duration": 9,
    "start_time": "2022-02-22T19:03:32.058Z"
   },
   {
    "duration": 19,
    "start_time": "2022-02-22T19:03:32.068Z"
   },
   {
    "duration": 238,
    "start_time": "2022-02-22T19:03:32.089Z"
   },
   {
    "duration": 332,
    "start_time": "2022-02-22T19:03:31.997Z"
   },
   {
    "duration": 330,
    "start_time": "2022-02-22T19:03:32.000Z"
   },
   {
    "duration": 328,
    "start_time": "2022-02-22T19:03:32.003Z"
   },
   {
    "duration": 326,
    "start_time": "2022-02-22T19:03:32.006Z"
   },
   {
    "duration": 325,
    "start_time": "2022-02-22T19:03:32.008Z"
   },
   {
    "duration": 316,
    "start_time": "2022-02-22T19:03:32.018Z"
   },
   {
    "duration": 181,
    "start_time": "2022-02-22T19:05:56.532Z"
   },
   {
    "duration": 259,
    "start_time": "2022-02-22T19:06:14.898Z"
   },
   {
    "duration": 15,
    "start_time": "2022-02-22T19:07:23.066Z"
   },
   {
    "duration": 283,
    "start_time": "2022-02-22T19:07:27.610Z"
   },
   {
    "duration": 497,
    "start_time": "2022-02-22T19:07:40.268Z"
   },
   {
    "duration": 216,
    "start_time": "2022-02-22T19:08:25.754Z"
   },
   {
    "duration": 159,
    "start_time": "2022-02-22T19:08:53.654Z"
   },
   {
    "duration": 201,
    "start_time": "2022-02-22T19:08:59.817Z"
   },
   {
    "duration": 25,
    "start_time": "2022-02-22T19:20:57.899Z"
   },
   {
    "duration": 17,
    "start_time": "2022-02-22T19:21:10.751Z"
   },
   {
    "duration": 1383,
    "start_time": "2022-02-23T17:37:54.440Z"
   },
   {
    "duration": 345,
    "start_time": "2022-02-23T17:38:30.420Z"
   },
   {
    "duration": 297,
    "start_time": "2022-02-23T17:45:01.141Z"
   },
   {
    "duration": -1933,
    "start_time": "2022-02-23T17:45:03.375Z"
   },
   {
    "duration": -1935,
    "start_time": "2022-02-23T17:45:03.378Z"
   },
   {
    "duration": -1938,
    "start_time": "2022-02-23T17:45:03.382Z"
   },
   {
    "duration": -1943,
    "start_time": "2022-02-23T17:45:03.388Z"
   },
   {
    "duration": -1952,
    "start_time": "2022-02-23T17:45:03.397Z"
   },
   {
    "duration": -1957,
    "start_time": "2022-02-23T17:45:03.403Z"
   },
   {
    "duration": -1960,
    "start_time": "2022-02-23T17:45:03.407Z"
   },
   {
    "duration": -1964,
    "start_time": "2022-02-23T17:45:03.412Z"
   },
   {
    "duration": -1967,
    "start_time": "2022-02-23T17:45:03.416Z"
   },
   {
    "duration": -1973,
    "start_time": "2022-02-23T17:45:03.423Z"
   },
   {
    "duration": -1984,
    "start_time": "2022-02-23T17:45:03.435Z"
   },
   {
    "duration": -1988,
    "start_time": "2022-02-23T17:45:03.440Z"
   },
   {
    "duration": -1992,
    "start_time": "2022-02-23T17:45:03.444Z"
   },
   {
    "duration": -1995,
    "start_time": "2022-02-23T17:45:03.448Z"
   },
   {
    "duration": -1998,
    "start_time": "2022-02-23T17:45:03.452Z"
   },
   {
    "duration": -2001,
    "start_time": "2022-02-23T17:45:03.456Z"
   },
   {
    "duration": 290,
    "start_time": "2022-02-23T17:46:47.658Z"
   },
   {
    "duration": 289,
    "start_time": "2022-02-23T17:51:08.968Z"
   },
   {
    "duration": 115,
    "start_time": "2022-02-23T17:52:41.715Z"
   },
   {
    "duration": 343,
    "start_time": "2022-02-23T17:52:47.539Z"
   },
   {
    "duration": 8313,
    "start_time": "2022-02-23T17:53:32.919Z"
   },
   {
    "duration": 303,
    "start_time": "2022-02-23T17:54:00.306Z"
   },
   {
    "duration": 756,
    "start_time": "2022-02-23T17:54:07.618Z"
   },
   {
    "duration": 589,
    "start_time": "2022-02-23T17:57:28.947Z"
   },
   {
    "duration": 3,
    "start_time": "2022-02-23T18:02:07.001Z"
   },
   {
    "duration": 373,
    "start_time": "2022-02-23T18:44:29.109Z"
   },
   {
    "duration": 646,
    "start_time": "2022-02-23T18:56:59.623Z"
   },
   {
    "duration": 3,
    "start_time": "2022-02-23T18:57:02.854Z"
   },
   {
    "duration": 322,
    "start_time": "2022-02-23T18:57:05.907Z"
   },
   {
    "duration": 310,
    "start_time": "2022-02-23T18:57:35.249Z"
   },
   {
    "duration": 308,
    "start_time": "2022-02-23T18:59:59.760Z"
   },
   {
    "duration": 570,
    "start_time": "2022-02-23T19:01:49.772Z"
   },
   {
    "duration": 414,
    "start_time": "2022-02-23T19:02:03.104Z"
   },
   {
    "duration": 378,
    "start_time": "2022-02-23T19:09:21.913Z"
   },
   {
    "duration": 315,
    "start_time": "2022-02-23T19:09:28.650Z"
   },
   {
    "duration": 100,
    "start_time": "2022-02-23T19:13:41.353Z"
   },
   {
    "duration": 580,
    "start_time": "2022-02-23T19:14:28.159Z"
   },
   {
    "duration": 3,
    "start_time": "2022-02-23T19:14:32.132Z"
   },
   {
    "duration": 358,
    "start_time": "2022-02-23T19:14:35.569Z"
   },
   {
    "duration": 566,
    "start_time": "2022-02-23T19:15:09.378Z"
   },
   {
    "duration": 2,
    "start_time": "2022-02-23T19:15:12.952Z"
   },
   {
    "duration": 307,
    "start_time": "2022-02-23T19:15:15.904Z"
   },
   {
    "duration": 368,
    "start_time": "2022-02-23T19:19:17.560Z"
   },
   {
    "duration": 2386,
    "start_time": "2022-02-23T19:19:30.051Z"
   },
   {
    "duration": 329,
    "start_time": "2022-02-23T19:20:34.324Z"
   },
   {
    "duration": 309,
    "start_time": "2022-02-23T19:23:53.952Z"
   },
   {
    "duration": 3,
    "start_time": "2022-02-23T19:24:05.422Z"
   },
   {
    "duration": 418,
    "start_time": "2022-02-23T19:24:11.286Z"
   },
   {
    "duration": 471,
    "start_time": "2022-02-23T19:25:34.135Z"
   },
   {
    "duration": 353,
    "start_time": "2022-02-23T19:25:42.684Z"
   },
   {
    "duration": 428,
    "start_time": "2022-02-23T19:27:38.579Z"
   },
   {
    "duration": 621,
    "start_time": "2022-02-23T19:28:04.865Z"
   },
   {
    "duration": 495,
    "start_time": "2022-02-23T19:28:08.658Z"
   },
   {
    "duration": 369,
    "start_time": "2022-02-23T19:29:07.114Z"
   },
   {
    "duration": 54,
    "start_time": "2022-02-23T19:29:14.550Z"
   },
   {
    "duration": 23,
    "start_time": "2022-02-23T19:29:34.333Z"
   },
   {
    "duration": 930,
    "start_time": "2022-02-23T19:29:48.362Z"
   },
   {
    "duration": 398,
    "start_time": "2022-02-23T19:30:14.766Z"
   },
   {
    "duration": 2,
    "start_time": "2022-02-23T19:30:15.166Z"
   },
   {
    "duration": 710,
    "start_time": "2022-02-23T19:30:15.170Z"
   },
   {
    "duration": 354,
    "start_time": "2022-02-23T19:30:15.881Z"
   },
   {
    "duration": 41,
    "start_time": "2022-02-23T19:30:16.237Z"
   },
   {
    "duration": 67,
    "start_time": "2022-02-23T19:30:16.280Z"
   },
   {
    "duration": 560,
    "start_time": "2022-02-23T19:30:19.108Z"
   },
   {
    "duration": 607,
    "start_time": "2022-02-23T19:31:44.041Z"
   },
   {
    "duration": 11,
    "start_time": "2022-02-23T19:35:34.387Z"
   },
   {
    "duration": 1766,
    "start_time": "2022-02-23T19:40:20.775Z"
   },
   {
    "duration": 311,
    "start_time": "2022-02-23T19:41:13.660Z"
   },
   {
    "duration": 314,
    "start_time": "2022-02-23T19:42:12.904Z"
   },
   {
    "duration": 626,
    "start_time": "2022-02-23T19:45:15.782Z"
   },
   {
    "duration": 300,
    "start_time": "2022-02-23T19:47:48.531Z"
   },
   {
    "duration": 561,
    "start_time": "2022-02-23T19:47:56.295Z"
   },
   {
    "duration": 5,
    "start_time": "2022-02-23T19:48:03.096Z"
   },
   {
    "duration": 289,
    "start_time": "2022-02-23T19:48:12.200Z"
   },
   {
    "duration": 293,
    "start_time": "2022-02-23T19:48:17.565Z"
   },
   {
    "duration": 600,
    "start_time": "2022-02-23T19:48:38.979Z"
   },
   {
    "duration": 1025,
    "start_time": "2022-02-23T19:48:42.816Z"
   },
   {
    "duration": 10,
    "start_time": "2022-02-23T19:48:46.053Z"
   },
   {
    "duration": 329,
    "start_time": "2022-02-23T19:53:04.632Z"
   },
   {
    "duration": 414,
    "start_time": "2022-02-23T19:53:52.487Z"
   },
   {
    "duration": 2153,
    "start_time": "2022-02-23T19:55:31.793Z"
   },
   {
    "duration": 979,
    "start_time": "2022-02-23T19:55:48.364Z"
   },
   {
    "duration": 392,
    "start_time": "2022-02-23T19:56:30.887Z"
   },
   {
    "duration": 851,
    "start_time": "2022-02-23T19:56:31.281Z"
   },
   {
    "duration": 3,
    "start_time": "2022-02-23T19:56:32.134Z"
   },
   {
    "duration": 1394,
    "start_time": "2022-02-23T19:56:32.138Z"
   },
   {
    "duration": 641,
    "start_time": "2022-02-23T19:56:33.534Z"
   },
   {
    "duration": 91,
    "start_time": "2022-02-23T19:56:34.177Z"
   },
   {
    "duration": 411,
    "start_time": "2022-02-23T19:56:40.389Z"
   },
   {
    "duration": 225,
    "start_time": "2022-02-23T19:57:41.773Z"
   },
   {
    "duration": 729,
    "start_time": "2022-02-23T19:57:43.228Z"
   },
   {
    "duration": 3,
    "start_time": "2022-02-23T19:57:49.328Z"
   },
   {
    "duration": 3,
    "start_time": "2022-02-23T19:57:54.517Z"
   },
   {
    "duration": 878,
    "start_time": "2022-02-23T19:58:00.379Z"
   },
   {
    "duration": 392,
    "start_time": "2022-02-23T19:58:05.882Z"
   },
   {
    "duration": 38,
    "start_time": "2022-02-23T19:58:11.635Z"
   },
   {
    "duration": 16,
    "start_time": "2022-02-23T19:58:31.499Z"
   },
   {
    "duration": 1280,
    "start_time": "2022-02-23T19:58:33.648Z"
   },
   {
    "duration": 7,
    "start_time": "2022-02-23T19:58:49.635Z"
   },
   {
    "duration": 355,
    "start_time": "2022-02-23T19:59:39.905Z"
   },
   {
    "duration": 678,
    "start_time": "2022-02-23T19:59:40.262Z"
   },
   {
    "duration": 509,
    "start_time": "2022-02-23T19:59:40.943Z"
   },
   {
    "duration": 9,
    "start_time": "2022-02-23T19:59:47.070Z"
   },
   {
    "duration": 326,
    "start_time": "2022-02-23T20:01:49.410Z"
   },
   {
    "duration": 316,
    "start_time": "2022-02-23T20:11:17.134Z"
   },
   {
    "duration": 311,
    "start_time": "2022-02-23T20:11:37.857Z"
   },
   {
    "duration": 309,
    "start_time": "2022-02-23T20:11:54.242Z"
   },
   {
    "duration": 399,
    "start_time": "2022-02-23T20:13:10.417Z"
   },
   {
    "duration": 281,
    "start_time": "2022-02-23T20:13:41.221Z"
   },
   {
    "duration": 265,
    "start_time": "2022-02-23T20:13:43.879Z"
   },
   {
    "duration": 383,
    "start_time": "2022-02-23T20:13:48.795Z"
   },
   {
    "duration": 233,
    "start_time": "2022-02-23T20:13:54.103Z"
   },
   {
    "duration": 308,
    "start_time": "2022-02-23T20:13:55.447Z"
   },
   {
    "duration": 344,
    "start_time": "2022-02-23T20:14:33.802Z"
   },
   {
    "duration": 346,
    "start_time": "2022-02-23T20:14:40.403Z"
   },
   {
    "duration": 304,
    "start_time": "2022-02-23T20:14:43.257Z"
   },
   {
    "duration": 564,
    "start_time": "2022-02-23T20:15:05.948Z"
   },
   {
    "duration": 317,
    "start_time": "2022-02-23T20:15:13.648Z"
   },
   {
    "duration": 815,
    "start_time": "2022-02-23T20:15:42.931Z"
   },
   {
    "duration": 589,
    "start_time": "2022-02-23T20:16:58.868Z"
   },
   {
    "duration": 257,
    "start_time": "2022-02-23T20:17:06.120Z"
   },
   {
    "duration": 559,
    "start_time": "2022-02-23T20:17:08.017Z"
   },
   {
    "duration": 270,
    "start_time": "2022-02-23T20:17:37.286Z"
   },
   {
    "duration": 489,
    "start_time": "2022-02-23T20:17:37.558Z"
   },
   {
    "duration": 492,
    "start_time": "2022-02-23T20:17:38.048Z"
   },
   {
    "duration": 10,
    "start_time": "2022-02-23T20:17:38.542Z"
   },
   {
    "duration": 3,
    "start_time": "2022-02-23T20:17:38.554Z"
   },
   {
    "duration": 505,
    "start_time": "2022-02-23T20:17:38.559Z"
   },
   {
    "duration": 211,
    "start_time": "2022-02-23T20:17:39.065Z"
   },
   {
    "duration": 82,
    "start_time": "2022-02-23T20:17:39.278Z"
   },
   {
    "duration": 19,
    "start_time": "2022-02-23T20:17:39.363Z"
   },
   {
    "duration": 576,
    "start_time": "2022-02-23T20:17:45.490Z"
   },
   {
    "duration": 4,
    "start_time": "2022-02-23T20:17:50.055Z"
   },
   {
    "duration": 257,
    "start_time": "2022-02-23T20:18:12.199Z"
   },
   {
    "duration": 410,
    "start_time": "2022-02-23T20:18:12.457Z"
   },
   {
    "duration": 606,
    "start_time": "2022-02-23T20:18:12.869Z"
   },
   {
    "duration": 8,
    "start_time": "2022-02-23T20:18:13.476Z"
   },
   {
    "duration": 3,
    "start_time": "2022-02-23T20:18:13.485Z"
   },
   {
    "duration": 369,
    "start_time": "2022-02-23T20:18:13.489Z"
   },
   {
    "duration": 201,
    "start_time": "2022-02-23T20:18:13.859Z"
   },
   {
    "duration": 36,
    "start_time": "2022-02-23T20:18:14.061Z"
   },
   {
    "duration": 36,
    "start_time": "2022-02-23T20:18:14.098Z"
   },
   {
    "duration": 317,
    "start_time": "2022-02-23T20:18:14.135Z"
   },
   {
    "duration": 4,
    "start_time": "2022-02-23T20:18:16.353Z"
   },
   {
    "duration": 563,
    "start_time": "2022-02-23T20:19:47.173Z"
   },
   {
    "duration": 2794,
    "start_time": "2022-02-23T20:20:01.678Z"
   },
   {
    "duration": 389,
    "start_time": "2022-02-23T20:20:40.865Z"
   },
   {
    "duration": 417,
    "start_time": "2022-02-23T20:23:27.604Z"
   },
   {
    "duration": 451,
    "start_time": "2022-02-23T20:23:28.023Z"
   },
   {
    "duration": 456,
    "start_time": "2022-02-23T20:23:28.476Z"
   },
   {
    "duration": 10,
    "start_time": "2022-02-23T20:23:28.935Z"
   },
   {
    "duration": 4,
    "start_time": "2022-02-23T20:23:28.946Z"
   },
   {
    "duration": 355,
    "start_time": "2022-02-23T20:23:28.951Z"
   },
   {
    "duration": 176,
    "start_time": "2022-02-23T20:23:29.308Z"
   },
   {
    "duration": 86,
    "start_time": "2022-02-23T20:23:29.486Z"
   },
   {
    "duration": 59,
    "start_time": "2022-02-23T20:23:29.574Z"
   },
   {
    "duration": 338,
    "start_time": "2022-02-23T20:23:29.637Z"
   },
   {
    "duration": 3,
    "start_time": "2022-02-23T20:23:29.977Z"
   },
   {
    "duration": 391,
    "start_time": "2022-02-23T20:23:29.982Z"
   },
   {
    "duration": 1558,
    "start_time": "2022-02-23T20:23:30.374Z"
   },
   {
    "duration": 5833,
    "start_time": "2022-02-23T20:23:35.244Z"
   },
   {
    "duration": 313,
    "start_time": "2022-02-23T20:25:21.970Z"
   },
   {
    "duration": 290,
    "start_time": "2022-02-23T20:25:35.201Z"
   },
   {
    "duration": 328,
    "start_time": "2022-02-23T20:26:40.440Z"
   },
   {
    "duration": 339,
    "start_time": "2022-02-23T20:26:50.472Z"
   },
   {
    "duration": 324,
    "start_time": "2022-02-23T20:28:49.134Z"
   },
   {
    "duration": 275,
    "start_time": "2022-02-23T20:41:07.639Z"
   },
   {
    "duration": 518,
    "start_time": "2022-02-23T20:41:07.916Z"
   },
   {
    "duration": 605,
    "start_time": "2022-02-23T20:41:08.436Z"
   },
   {
    "duration": 12,
    "start_time": "2022-02-23T20:41:09.043Z"
   },
   {
    "duration": 4,
    "start_time": "2022-02-23T20:41:09.057Z"
   },
   {
    "duration": 341,
    "start_time": "2022-02-23T20:41:09.063Z"
   },
   {
    "duration": 227,
    "start_time": "2022-02-23T20:41:09.406Z"
   },
   {
    "duration": 51,
    "start_time": "2022-02-23T20:41:09.637Z"
   },
   {
    "duration": 42,
    "start_time": "2022-02-23T20:41:09.690Z"
   },
   {
    "duration": 262,
    "start_time": "2022-02-23T20:41:09.733Z"
   },
   {
    "duration": 36,
    "start_time": "2022-02-23T20:41:09.997Z"
   },
   {
    "duration": 339,
    "start_time": "2022-02-23T20:41:10.035Z"
   },
   {
    "duration": 998,
    "start_time": "2022-02-23T20:41:10.376Z"
   },
   {
    "duration": 3064,
    "start_time": "2022-02-23T20:41:11.376Z"
   },
   {
    "duration": 324,
    "start_time": "2022-02-23T20:41:23.218Z"
   },
   {
    "duration": 284,
    "start_time": "2022-02-23T20:41:58.885Z"
   },
   {
    "duration": 305,
    "start_time": "2022-02-23T20:42:06.217Z"
   },
   {
    "duration": 418,
    "start_time": "2022-02-23T20:42:37.481Z"
   },
   {
    "duration": 326,
    "start_time": "2022-02-23T20:42:50.816Z"
   },
   {
    "duration": 102,
    "start_time": "2022-02-23T20:45:21.349Z"
   },
   {
    "duration": 323,
    "start_time": "2022-02-23T20:45:48.498Z"
   },
   {
    "duration": 312,
    "start_time": "2022-02-23T20:45:54.302Z"
   },
   {
    "duration": 291,
    "start_time": "2022-02-23T20:47:12.362Z"
   },
   {
    "duration": 3226,
    "start_time": "2022-02-23T20:47:16.728Z"
   },
   {
    "duration": 371,
    "start_time": "2022-02-23T20:47:22.256Z"
   },
   {
    "duration": 582,
    "start_time": "2022-02-23T20:48:25.940Z"
   },
   {
    "duration": 363,
    "start_time": "2022-02-23T20:49:49.303Z"
   },
   {
    "duration": 369,
    "start_time": "2022-02-23T20:49:56.750Z"
   },
   {
    "duration": 330,
    "start_time": "2022-02-23T20:50:18.345Z"
   },
   {
    "duration": 103,
    "start_time": "2022-02-23T20:52:44.957Z"
   },
   {
    "duration": 300,
    "start_time": "2022-02-23T20:52:49.152Z"
   },
   {
    "duration": 305,
    "start_time": "2022-02-23T20:53:05.333Z"
   },
   {
    "duration": 98,
    "start_time": "2022-02-23T20:53:15.640Z"
   },
   {
    "duration": 218,
    "start_time": "2022-02-23T20:55:21.557Z"
   },
   {
    "duration": 410,
    "start_time": "2022-02-23T20:58:54.515Z"
   },
   {
    "duration": 324,
    "start_time": "2022-02-23T20:59:30.745Z"
   },
   {
    "duration": 235,
    "start_time": "2022-02-23T20:59:40.182Z"
   },
   {
    "duration": 276,
    "start_time": "2022-02-23T21:00:44.265Z"
   },
   {
    "duration": 440,
    "start_time": "2022-02-23T21:00:44.543Z"
   },
   {
    "duration": 786,
    "start_time": "2022-02-23T21:00:44.986Z"
   },
   {
    "duration": 8,
    "start_time": "2022-02-23T21:00:45.774Z"
   },
   {
    "duration": 2,
    "start_time": "2022-02-23T21:00:45.784Z"
   },
   {
    "duration": 393,
    "start_time": "2022-02-23T21:00:45.787Z"
   },
   {
    "duration": 209,
    "start_time": "2022-02-23T21:00:46.182Z"
   },
   {
    "duration": 73,
    "start_time": "2022-02-23T21:00:46.394Z"
   },
   {
    "duration": 14,
    "start_time": "2022-02-23T21:00:46.469Z"
   },
   {
    "duration": 227,
    "start_time": "2022-02-23T21:00:46.484Z"
   },
   {
    "duration": 4,
    "start_time": "2022-02-23T21:00:46.712Z"
   },
   {
    "duration": 286,
    "start_time": "2022-02-23T21:00:46.718Z"
   },
   {
    "duration": 1055,
    "start_time": "2022-02-23T21:00:47.006Z"
   },
   {
    "duration": 318,
    "start_time": "2022-02-23T21:00:51.130Z"
   },
   {
    "duration": 318,
    "start_time": "2022-02-23T21:01:10.301Z"
   },
   {
    "duration": 6575,
    "start_time": "2022-02-23T21:03:15.682Z"
   },
   {
    "duration": 1430,
    "start_time": "2022-02-23T21:03:50.160Z"
   },
   {
    "duration": 13,
    "start_time": "2022-02-23T21:04:35.916Z"
   },
   {
    "duration": 879,
    "start_time": "2022-02-23T21:04:39.692Z"
   },
   {
    "duration": 2074,
    "start_time": "2022-02-23T21:05:11.871Z"
   },
   {
    "duration": 308,
    "start_time": "2022-02-23T21:05:58.632Z"
   },
   {
    "duration": 1880,
    "start_time": "2022-02-23T21:06:06.155Z"
   },
   {
    "duration": 650,
    "start_time": "2022-02-23T21:06:26.236Z"
   },
   {
    "duration": 31438,
    "start_time": "2022-02-25T08:25:21.247Z"
   },
   {
    "duration": 2405,
    "start_time": "2022-02-25T08:25:52.689Z"
   },
   {
    "duration": 1824,
    "start_time": "2022-02-25T08:25:55.097Z"
   },
   {
    "duration": 13,
    "start_time": "2022-02-25T08:25:56.960Z"
   },
   {
    "duration": 4,
    "start_time": "2022-02-25T08:25:56.975Z"
   },
   {
    "duration": 2762,
    "start_time": "2022-02-25T08:25:56.981Z"
   },
   {
    "duration": -2596,
    "start_time": "2022-02-25T08:26:02.342Z"
   },
   {
    "duration": -2602,
    "start_time": "2022-02-25T08:26:02.350Z"
   },
   {
    "duration": -2607,
    "start_time": "2022-02-25T08:26:02.357Z"
   },
   {
    "duration": -2610,
    "start_time": "2022-02-25T08:26:02.362Z"
   },
   {
    "duration": -2613,
    "start_time": "2022-02-25T08:26:02.367Z"
   },
   {
    "duration": -2615,
    "start_time": "2022-02-25T08:26:02.371Z"
   },
   {
    "duration": -2617,
    "start_time": "2022-02-25T08:26:02.375Z"
   },
   {
    "duration": -2618,
    "start_time": "2022-02-25T08:26:02.378Z"
   },
   {
    "duration": -2620,
    "start_time": "2022-02-25T08:26:02.381Z"
   },
   {
    "duration": 341,
    "start_time": "2022-02-25T08:26:43.485Z"
   },
   {
    "duration": 446,
    "start_time": "2022-02-25T08:27:55.328Z"
   },
   {
    "duration": 940,
    "start_time": "2022-02-25T08:28:34.036Z"
   },
   {
    "duration": 1391,
    "start_time": "2022-02-25T08:28:34.979Z"
   },
   {
    "duration": 869,
    "start_time": "2022-02-25T08:28:36.373Z"
   },
   {
    "duration": 15,
    "start_time": "2022-02-25T08:28:37.262Z"
   },
   {
    "duration": 5,
    "start_time": "2022-02-25T08:28:37.280Z"
   },
   {
    "duration": 811,
    "start_time": "2022-02-25T08:28:39.957Z"
   },
   {
    "duration": 760,
    "start_time": "2022-02-25T08:28:52.025Z"
   },
   {
    "duration": 1087,
    "start_time": "2022-02-25T08:28:52.789Z"
   },
   {
    "duration": 1067,
    "start_time": "2022-02-25T08:28:53.879Z"
   },
   {
    "duration": 22,
    "start_time": "2022-02-25T08:28:54.949Z"
   },
   {
    "duration": 3,
    "start_time": "2022-02-25T08:28:54.973Z"
   },
   {
    "duration": 623,
    "start_time": "2022-02-25T08:28:54.978Z"
   },
   {
    "duration": 768,
    "start_time": "2022-02-25T08:28:55.604Z"
   },
   {
    "duration": -2574,
    "start_time": "2022-02-25T08:28:58.949Z"
   },
   {
    "duration": -2576,
    "start_time": "2022-02-25T08:28:58.953Z"
   },
   {
    "duration": -2579,
    "start_time": "2022-02-25T08:28:58.957Z"
   },
   {
    "duration": -2583,
    "start_time": "2022-02-25T08:28:58.962Z"
   },
   {
    "duration": -2584,
    "start_time": "2022-02-25T08:28:58.965Z"
   },
   {
    "duration": -2586,
    "start_time": "2022-02-25T08:28:58.968Z"
   },
   {
    "duration": -2592,
    "start_time": "2022-02-25T08:28:58.975Z"
   },
   {
    "duration": -2594,
    "start_time": "2022-02-25T08:28:58.979Z"
   },
   {
    "duration": -2597,
    "start_time": "2022-02-25T08:28:58.983Z"
   },
   {
    "duration": -2603,
    "start_time": "2022-02-25T08:28:58.991Z"
   },
   {
    "duration": 629,
    "start_time": "2022-02-25T08:29:58.032Z"
   },
   {
    "duration": 1110,
    "start_time": "2022-02-25T08:29:58.664Z"
   },
   {
    "duration": 987,
    "start_time": "2022-02-25T08:29:59.777Z"
   },
   {
    "duration": 12,
    "start_time": "2022-02-25T08:30:00.768Z"
   },
   {
    "duration": 13,
    "start_time": "2022-02-25T08:30:00.783Z"
   },
   {
    "duration": 604,
    "start_time": "2022-02-25T08:30:00.798Z"
   },
   {
    "duration": 154,
    "start_time": "2022-02-25T08:30:01.405Z"
   },
   {
    "duration": -2542,
    "start_time": "2022-02-25T08:30:04.105Z"
   },
   {
    "duration": -2559,
    "start_time": "2022-02-25T08:30:04.124Z"
   },
   {
    "duration": -2560,
    "start_time": "2022-02-25T08:30:04.127Z"
   },
   {
    "duration": -2561,
    "start_time": "2022-02-25T08:30:04.130Z"
   },
   {
    "duration": -2561,
    "start_time": "2022-02-25T08:30:04.132Z"
   },
   {
    "duration": -2560,
    "start_time": "2022-02-25T08:30:04.134Z"
   },
   {
    "duration": -2561,
    "start_time": "2022-02-25T08:30:04.137Z"
   },
   {
    "duration": -2563,
    "start_time": "2022-02-25T08:30:04.141Z"
   },
   {
    "duration": -2564,
    "start_time": "2022-02-25T08:30:04.144Z"
   },
   {
    "duration": -2564,
    "start_time": "2022-02-25T08:30:04.146Z"
   },
   {
    "duration": 49,
    "start_time": "2022-02-25T08:30:53.801Z"
   },
   {
    "duration": 663,
    "start_time": "2022-02-25T08:31:01.636Z"
   },
   {
    "duration": 797,
    "start_time": "2022-02-25T08:31:02.302Z"
   },
   {
    "duration": 701,
    "start_time": "2022-02-25T08:31:03.161Z"
   },
   {
    "duration": 12,
    "start_time": "2022-02-25T08:31:03.864Z"
   },
   {
    "duration": 3,
    "start_time": "2022-02-25T08:31:03.878Z"
   },
   {
    "duration": 602,
    "start_time": "2022-02-25T08:31:03.883Z"
   },
   {
    "duration": 178,
    "start_time": "2022-02-25T08:31:04.487Z"
   },
   {
    "duration": 382,
    "start_time": "2022-02-25T08:31:04.668Z"
   },
   {
    "duration": -2676,
    "start_time": "2022-02-25T08:31:07.730Z"
   },
   {
    "duration": -2681,
    "start_time": "2022-02-25T08:31:07.737Z"
   },
   {
    "duration": -2684,
    "start_time": "2022-02-25T08:31:07.743Z"
   },
   {
    "duration": -2686,
    "start_time": "2022-02-25T08:31:07.747Z"
   },
   {
    "duration": -2688,
    "start_time": "2022-02-25T08:31:07.752Z"
   },
   {
    "duration": -2690,
    "start_time": "2022-02-25T08:31:07.756Z"
   },
   {
    "duration": -2692,
    "start_time": "2022-02-25T08:31:07.760Z"
   },
   {
    "duration": -2694,
    "start_time": "2022-02-25T08:31:07.765Z"
   },
   {
    "duration": -2697,
    "start_time": "2022-02-25T08:31:07.770Z"
   },
   {
    "duration": 290,
    "start_time": "2022-02-25T08:31:26.702Z"
   },
   {
    "duration": 40,
    "start_time": "2022-02-25T08:32:06.859Z"
   },
   {
    "duration": 536,
    "start_time": "2022-02-25T08:32:13.827Z"
   },
   {
    "duration": 934,
    "start_time": "2022-02-25T08:32:14.366Z"
   },
   {
    "duration": 942,
    "start_time": "2022-02-25T08:32:15.363Z"
   },
   {
    "duration": 13,
    "start_time": "2022-02-25T08:32:16.309Z"
   },
   {
    "duration": 3,
    "start_time": "2022-02-25T08:32:16.324Z"
   },
   {
    "duration": 352,
    "start_time": "2022-02-25T08:32:16.330Z"
   },
   {
    "duration": 186,
    "start_time": "2022-02-25T08:32:16.685Z"
   },
   {
    "duration": 98,
    "start_time": "2022-02-25T08:32:16.874Z"
   },
   {
    "duration": 91,
    "start_time": "2022-02-25T08:32:16.977Z"
   },
   {
    "duration": 1626,
    "start_time": "2022-02-25T08:32:17.072Z"
   },
   {
    "duration": 68,
    "start_time": "2022-02-25T08:32:18.701Z"
   },
   {
    "duration": 1303,
    "start_time": "2022-02-25T08:32:18.772Z"
   },
   {
    "duration": 5216,
    "start_time": "2022-02-25T08:32:20.077Z"
   },
   {
    "duration": 8938,
    "start_time": "2022-02-25T08:32:25.360Z"
   },
   {
    "duration": 8,
    "start_time": "2022-02-25T08:32:34.300Z"
   },
   {
    "duration": 4851,
    "start_time": "2022-02-25T08:32:34.311Z"
   },
   {
    "duration": 2636,
    "start_time": "2022-02-25T08:32:39.164Z"
   },
   {
    "duration": 2169,
    "start_time": "2022-02-25T08:34:26.201Z"
   },
   {
    "duration": 1965,
    "start_time": "2022-02-25T08:35:27.346Z"
   },
   {
    "duration": 1552,
    "start_time": "2022-02-25T08:37:39.413Z"
   },
   {
    "duration": 1516,
    "start_time": "2022-02-25T08:37:54.053Z"
   },
   {
    "duration": 319,
    "start_time": "2022-02-25T11:39:24.812Z"
   },
   {
    "duration": 21415,
    "start_time": "2022-02-25T11:39:31.956Z"
   },
   {
    "duration": 1701,
    "start_time": "2022-02-25T11:39:53.374Z"
   },
   {
    "duration": 943,
    "start_time": "2022-02-25T11:39:55.077Z"
   },
   {
    "duration": 9,
    "start_time": "2022-02-25T11:39:56.022Z"
   },
   {
    "duration": 55,
    "start_time": "2022-02-25T11:39:56.033Z"
   },
   {
    "duration": 339,
    "start_time": "2022-02-25T11:40:39.330Z"
   },
   {
    "duration": 8,
    "start_time": "2022-02-25T11:41:49.372Z"
   },
   {
    "duration": 697,
    "start_time": "2022-02-25T11:41:57.983Z"
   },
   {
    "duration": 1088,
    "start_time": "2022-02-25T11:41:58.682Z"
   },
   {
    "duration": 740,
    "start_time": "2022-02-25T11:41:59.773Z"
   },
   {
    "duration": 10,
    "start_time": "2022-02-25T11:42:00.570Z"
   },
   {
    "duration": 91,
    "start_time": "2022-02-25T11:42:00.581Z"
   },
   {
    "duration": 1199,
    "start_time": "2022-02-25T11:42:00.675Z"
   },
   {
    "duration": 293,
    "start_time": "2022-02-25T11:42:01.876Z"
   },
   {
    "duration": 24,
    "start_time": "2022-02-25T11:42:02.172Z"
   },
   {
    "duration": 211,
    "start_time": "2022-02-25T11:42:02.199Z"
   },
   {
    "duration": 2000,
    "start_time": "2022-02-25T11:42:02.470Z"
   },
   {
    "duration": 5,
    "start_time": "2022-02-25T11:42:04.472Z"
   },
   {
    "duration": 5,
    "start_time": "2022-02-25T11:42:25.582Z"
   },
   {
    "duration": 551,
    "start_time": "2022-02-25T11:44:16.426Z"
   },
   {
    "duration": 1004,
    "start_time": "2022-02-25T11:44:16.979Z"
   },
   {
    "duration": 724,
    "start_time": "2022-02-25T11:44:17.986Z"
   },
   {
    "duration": 8,
    "start_time": "2022-02-25T11:44:18.712Z"
   },
   {
    "duration": 22,
    "start_time": "2022-02-25T11:44:18.722Z"
   },
   {
    "duration": 500,
    "start_time": "2022-02-25T11:44:18.770Z"
   },
   {
    "duration": 38,
    "start_time": "2022-02-25T11:44:19.272Z"
   },
   {
    "duration": 82,
    "start_time": "2022-02-25T11:44:19.312Z"
   },
   {
    "duration": 106,
    "start_time": "2022-02-25T11:44:19.397Z"
   },
   {
    "duration": 1178,
    "start_time": "2022-02-25T11:44:19.505Z"
   },
   {
    "duration": 6,
    "start_time": "2022-02-25T11:44:20.685Z"
   },
   {
    "duration": 13,
    "start_time": "2022-02-25T11:44:20.693Z"
   },
   {
    "duration": 1169,
    "start_time": "2022-02-25T11:44:20.708Z"
   },
   {
    "duration": 584,
    "start_time": "2022-02-25T11:44:27.406Z"
   },
   {
    "duration": 3056,
    "start_time": "2022-02-25T11:45:02.728Z"
   },
   {
    "duration": 536,
    "start_time": "2022-02-25T11:45:56.639Z"
   },
   {
    "duration": 346,
    "start_time": "2022-02-25T11:46:18.774Z"
   },
   {
    "duration": 480,
    "start_time": "2022-02-25T11:46:27.823Z"
   },
   {
    "duration": 674,
    "start_time": "2022-02-25T11:46:28.305Z"
   },
   {
    "duration": 598,
    "start_time": "2022-02-25T11:46:28.981Z"
   },
   {
    "duration": 9,
    "start_time": "2022-02-25T11:46:29.581Z"
   },
   {
    "duration": 79,
    "start_time": "2022-02-25T11:46:29.592Z"
   },
   {
    "duration": 308,
    "start_time": "2022-02-25T11:46:29.673Z"
   },
   {
    "duration": 94,
    "start_time": "2022-02-25T11:46:29.983Z"
   },
   {
    "duration": 17,
    "start_time": "2022-02-25T11:46:30.080Z"
   },
   {
    "duration": 33,
    "start_time": "2022-02-25T11:46:30.169Z"
   },
   {
    "duration": 861,
    "start_time": "2022-02-25T11:46:30.270Z"
   },
   {
    "duration": 4,
    "start_time": "2022-02-25T11:46:31.133Z"
   },
   {
    "duration": 30,
    "start_time": "2022-02-25T11:46:31.139Z"
   },
   {
    "duration": 502,
    "start_time": "2022-02-25T11:46:31.171Z"
   },
   {
    "duration": 534,
    "start_time": "2022-02-25T11:46:31.675Z"
   },
   {
    "duration": 2277,
    "start_time": "2022-02-25T11:46:32.211Z"
   },
   {
    "duration": 1313,
    "start_time": "2022-02-25T11:46:34.490Z"
   },
   {
    "duration": 344,
    "start_time": "2022-02-25T11:46:41.634Z"
   },
   {
    "duration": 374,
    "start_time": "2022-02-25T11:47:13.432Z"
   },
   {
    "duration": 5732,
    "start_time": "2022-02-25T11:47:19.251Z"
   },
   {
    "duration": 368,
    "start_time": "2022-02-25T11:47:50.314Z"
   },
   {
    "duration": 291,
    "start_time": "2022-02-25T11:48:50.834Z"
   },
   {
    "duration": 472,
    "start_time": "2022-02-25T11:49:03.338Z"
   },
   {
    "duration": 678,
    "start_time": "2022-02-25T11:49:03.813Z"
   },
   {
    "duration": 531,
    "start_time": "2022-02-25T11:49:04.493Z"
   },
   {
    "duration": 10,
    "start_time": "2022-02-25T11:49:05.027Z"
   },
   {
    "duration": 42,
    "start_time": "2022-02-25T11:49:05.039Z"
   },
   {
    "duration": 331,
    "start_time": "2022-02-25T11:49:05.083Z"
   },
   {
    "duration": 72,
    "start_time": "2022-02-25T11:49:05.416Z"
   },
   {
    "duration": 18,
    "start_time": "2022-02-25T11:49:05.490Z"
   },
   {
    "duration": 106,
    "start_time": "2022-02-25T11:49:05.511Z"
   },
   {
    "duration": 587,
    "start_time": "2022-02-25T11:49:05.619Z"
   },
   {
    "duration": 4,
    "start_time": "2022-02-25T11:49:06.208Z"
   },
   {
    "duration": 8,
    "start_time": "2022-02-25T11:49:06.214Z"
   },
   {
    "duration": 397,
    "start_time": "2022-02-25T11:49:06.224Z"
   },
   {
    "duration": 431,
    "start_time": "2022-02-25T11:49:06.622Z"
   },
   {
    "duration": 1176,
    "start_time": "2022-02-25T11:49:35.593Z"
   },
   {
    "duration": 993,
    "start_time": "2022-02-25T11:49:38.622Z"
   },
   {
    "duration": 3064,
    "start_time": "2022-02-25T11:49:42.331Z"
   },
   {
    "duration": 308,
    "start_time": "2022-02-25T11:50:16.125Z"
   },
   {
    "duration": 395,
    "start_time": "2022-02-25T11:51:02.569Z"
   },
   {
    "duration": 283,
    "start_time": "2022-02-25T11:51:53.455Z"
   },
   {
    "duration": 348,
    "start_time": "2022-02-25T11:52:01.466Z"
   },
   {
    "duration": 468,
    "start_time": "2022-02-25T11:52:01.816Z"
   },
   {
    "duration": 479,
    "start_time": "2022-02-25T11:52:02.286Z"
   },
   {
    "duration": 11,
    "start_time": "2022-02-25T11:52:02.770Z"
   },
   {
    "duration": 32,
    "start_time": "2022-02-25T11:52:02.783Z"
   },
   {
    "duration": 294,
    "start_time": "2022-02-25T11:52:02.817Z"
   },
   {
    "duration": 83,
    "start_time": "2022-02-25T11:52:03.113Z"
   },
   {
    "duration": 79,
    "start_time": "2022-02-25T11:52:03.199Z"
   },
   {
    "duration": 27,
    "start_time": "2022-02-25T11:52:03.280Z"
   },
   {
    "duration": 527,
    "start_time": "2022-02-25T11:52:03.308Z"
   },
   {
    "duration": 6,
    "start_time": "2022-02-25T11:52:03.870Z"
   },
   {
    "duration": 23,
    "start_time": "2022-02-25T11:52:03.878Z"
   },
   {
    "duration": 469,
    "start_time": "2022-02-25T11:52:03.903Z"
   },
   {
    "duration": 259,
    "start_time": "2022-02-25T11:52:07.862Z"
   },
   {
    "duration": 685,
    "start_time": "2022-02-25T11:52:17.184Z"
   },
   {
    "duration": 311,
    "start_time": "2022-02-25T11:52:23.338Z"
   },
   {
    "duration": 323,
    "start_time": "2022-02-25T12:03:35.240Z"
   },
   {
    "duration": 302,
    "start_time": "2022-02-25T12:04:03.058Z"
   },
   {
    "duration": 301,
    "start_time": "2022-02-25T12:04:59.878Z"
   },
   {
    "duration": 354,
    "start_time": "2022-02-25T12:08:54.697Z"
   },
   {
    "duration": 277,
    "start_time": "2022-02-25T12:09:01.377Z"
   },
   {
    "duration": 513,
    "start_time": "2022-02-25T12:09:01.656Z"
   },
   {
    "duration": 425,
    "start_time": "2022-02-25T12:09:02.172Z"
   },
   {
    "duration": 11,
    "start_time": "2022-02-25T12:09:02.598Z"
   },
   {
    "duration": 18,
    "start_time": "2022-02-25T12:09:02.610Z"
   },
   {
    "duration": 241,
    "start_time": "2022-02-25T12:09:02.629Z"
   },
   {
    "duration": 27,
    "start_time": "2022-02-25T12:09:02.872Z"
   },
   {
    "duration": 15,
    "start_time": "2022-02-25T12:09:02.901Z"
   },
   {
    "duration": 62,
    "start_time": "2022-02-25T12:09:02.918Z"
   },
   {
    "duration": 468,
    "start_time": "2022-02-25T12:09:02.982Z"
   },
   {
    "duration": 17,
    "start_time": "2022-02-25T12:09:03.452Z"
   },
   {
    "duration": 7,
    "start_time": "2022-02-25T12:09:03.471Z"
   },
   {
    "duration": 319,
    "start_time": "2022-02-25T12:09:03.480Z"
   },
   {
    "duration": 270,
    "start_time": "2022-02-25T12:09:03.801Z"
   },
   {
    "duration": 369,
    "start_time": "2022-02-25T12:09:13.212Z"
   },
   {
    "duration": 375,
    "start_time": "2022-02-25T12:09:20.438Z"
   },
   {
    "duration": 588,
    "start_time": "2022-02-25T12:09:20.816Z"
   },
   {
    "duration": 451,
    "start_time": "2022-02-25T12:09:21.407Z"
   },
   {
    "duration": 16,
    "start_time": "2022-02-25T12:09:21.860Z"
   },
   {
    "duration": 21,
    "start_time": "2022-02-25T12:09:21.877Z"
   },
   {
    "duration": 323,
    "start_time": "2022-02-25T12:09:21.901Z"
   },
   {
    "duration": 53,
    "start_time": "2022-02-25T12:09:22.226Z"
   },
   {
    "duration": 16,
    "start_time": "2022-02-25T12:09:22.281Z"
   },
   {
    "duration": 70,
    "start_time": "2022-02-25T12:09:22.299Z"
   },
   {
    "duration": 502,
    "start_time": "2022-02-25T12:09:22.371Z"
   },
   {
    "duration": 5,
    "start_time": "2022-02-25T12:09:22.875Z"
   },
   {
    "duration": 6,
    "start_time": "2022-02-25T12:09:22.881Z"
   },
   {
    "duration": 316,
    "start_time": "2022-02-25T12:09:22.888Z"
   },
   {
    "duration": 321,
    "start_time": "2022-02-25T12:10:05.453Z"
   },
   {
    "duration": 512,
    "start_time": "2022-02-25T12:10:05.776Z"
   },
   {
    "duration": 395,
    "start_time": "2022-02-25T12:10:06.291Z"
   },
   {
    "duration": 9,
    "start_time": "2022-02-25T12:10:06.689Z"
   },
   {
    "duration": 30,
    "start_time": "2022-02-25T12:10:06.700Z"
   },
   {
    "duration": 251,
    "start_time": "2022-02-25T12:10:06.732Z"
   },
   {
    "duration": 35,
    "start_time": "2022-02-25T12:10:06.984Z"
   },
   {
    "duration": 61,
    "start_time": "2022-02-25T12:10:07.022Z"
   },
   {
    "duration": 83,
    "start_time": "2022-02-25T12:10:07.086Z"
   },
   {
    "duration": 504,
    "start_time": "2022-02-25T12:10:07.172Z"
   },
   {
    "duration": 4,
    "start_time": "2022-02-25T12:10:07.678Z"
   },
   {
    "duration": 5,
    "start_time": "2022-02-25T12:10:07.684Z"
   },
   {
    "duration": 307,
    "start_time": "2022-02-25T12:11:26.131Z"
   },
   {
    "duration": 473,
    "start_time": "2022-02-25T12:11:26.440Z"
   },
   {
    "duration": 370,
    "start_time": "2022-02-25T12:11:26.915Z"
   },
   {
    "duration": 11,
    "start_time": "2022-02-25T12:11:27.287Z"
   },
   {
    "duration": 19,
    "start_time": "2022-02-25T12:11:27.300Z"
   },
   {
    "duration": 194,
    "start_time": "2022-02-25T12:11:27.321Z"
   },
   {
    "duration": 57,
    "start_time": "2022-02-25T12:11:27.517Z"
   },
   {
    "duration": 101,
    "start_time": "2022-02-25T12:11:27.577Z"
   },
   {
    "duration": 26,
    "start_time": "2022-02-25T12:11:27.681Z"
   },
   {
    "duration": 500,
    "start_time": "2022-02-25T12:11:27.709Z"
   },
   {
    "duration": 4,
    "start_time": "2022-02-25T12:11:28.211Z"
   },
   {
    "duration": 8,
    "start_time": "2022-02-25T12:11:28.216Z"
   },
   {
    "duration": 378,
    "start_time": "2022-02-25T12:11:28.226Z"
   },
   {
    "duration": 253,
    "start_time": "2022-02-25T12:11:40.635Z"
   },
   {
    "duration": 1046,
    "start_time": "2022-02-25T12:11:45.337Z"
   },
   {
    "duration": 979,
    "start_time": "2022-02-25T12:11:48.323Z"
   },
   {
    "duration": 498,
    "start_time": "2022-02-25T12:11:53.778Z"
   },
   {
    "duration": 299,
    "start_time": "2022-02-25T12:12:33.321Z"
   },
   {
    "duration": 451,
    "start_time": "2022-02-25T12:12:41.399Z"
   },
   {
    "duration": 339,
    "start_time": "2022-02-25T12:15:35.803Z"
   },
   {
    "duration": 1584,
    "start_time": "2022-02-25T12:20:06.821Z"
   },
   {
    "duration": 321,
    "start_time": "2022-02-25T12:20:14.987Z"
   },
   {
    "duration": 1495,
    "start_time": "2022-02-25T12:20:15.310Z"
   },
   {
    "duration": 1328,
    "start_time": "2022-02-25T12:20:16.808Z"
   },
   {
    "duration": 36,
    "start_time": "2022-02-25T12:20:18.139Z"
   },
   {
    "duration": 21,
    "start_time": "2022-02-25T12:20:18.178Z"
   },
   {
    "duration": 293,
    "start_time": "2022-02-25T12:20:18.201Z"
   },
   {
    "duration": 27,
    "start_time": "2022-02-25T12:20:18.495Z"
   },
   {
    "duration": 16,
    "start_time": "2022-02-25T12:20:18.569Z"
   },
   {
    "duration": 24,
    "start_time": "2022-02-25T12:20:18.587Z"
   },
   {
    "duration": 560,
    "start_time": "2022-02-25T12:20:18.670Z"
   },
   {
    "duration": 4,
    "start_time": "2022-02-25T12:20:19.232Z"
   },
   {
    "duration": 8,
    "start_time": "2022-02-25T12:20:19.238Z"
   },
   {
    "duration": 520,
    "start_time": "2022-02-25T12:20:23.889Z"
   },
   {
    "duration": 544,
    "start_time": "2022-02-25T12:20:58.873Z"
   },
   {
    "duration": 413,
    "start_time": "2022-02-25T12:27:12.263Z"
   },
   {
    "duration": 249,
    "start_time": "2022-02-25T12:27:33.327Z"
   },
   {
    "duration": 601,
    "start_time": "2022-02-25T12:27:33.578Z"
   },
   {
    "duration": 620,
    "start_time": "2022-02-25T12:27:34.181Z"
   },
   {
    "duration": 9,
    "start_time": "2022-02-25T12:27:34.803Z"
   },
   {
    "duration": 21,
    "start_time": "2022-02-25T12:27:34.814Z"
   },
   {
    "duration": 234,
    "start_time": "2022-02-25T12:27:34.837Z"
   },
   {
    "duration": 27,
    "start_time": "2022-02-25T12:27:35.072Z"
   },
   {
    "duration": 14,
    "start_time": "2022-02-25T12:27:35.101Z"
   },
   {
    "duration": 66,
    "start_time": "2022-02-25T12:27:35.119Z"
   },
   {
    "duration": 483,
    "start_time": "2022-02-25T12:27:35.187Z"
   },
   {
    "duration": 4,
    "start_time": "2022-02-25T12:27:35.671Z"
   },
   {
    "duration": 7,
    "start_time": "2022-02-25T12:27:35.677Z"
   },
   {
    "duration": 715,
    "start_time": "2022-02-25T12:27:35.686Z"
   },
   {
    "duration": 608,
    "start_time": "2022-02-25T12:27:36.403Z"
   },
   {
    "duration": 1314,
    "start_time": "2022-02-25T12:27:37.012Z"
   },
   {
    "duration": 1470,
    "start_time": "2022-02-25T12:27:38.329Z"
   },
   {
    "duration": 2588,
    "start_time": "2022-02-25T12:27:39.800Z"
   },
   {
    "duration": 2727,
    "start_time": "2022-02-25T12:27:42.390Z"
   },
   {
    "duration": 6,
    "start_time": "2022-02-25T12:27:45.118Z"
   },
   {
    "duration": 1551,
    "start_time": "2022-02-25T12:27:45.126Z"
   },
   {
    "duration": 1299,
    "start_time": "2022-02-25T12:27:46.679Z"
   },
   {
    "duration": 5,
    "start_time": "2022-02-25T12:29:24.815Z"
   },
   {
    "duration": 342,
    "start_time": "2022-02-25T12:30:58.713Z"
   },
   {
    "duration": 337,
    "start_time": "2022-02-25T12:31:06.657Z"
   },
   {
    "duration": 271,
    "start_time": "2022-02-25T12:33:23.659Z"
   },
   {
    "duration": 469,
    "start_time": "2022-02-25T12:33:23.932Z"
   },
   {
    "duration": 403,
    "start_time": "2022-02-25T12:33:24.403Z"
   },
   {
    "duration": 9,
    "start_time": "2022-02-25T12:33:24.808Z"
   },
   {
    "duration": 17,
    "start_time": "2022-02-25T12:33:24.819Z"
   },
   {
    "duration": 232,
    "start_time": "2022-02-25T12:33:24.838Z"
   },
   {
    "duration": 30,
    "start_time": "2022-02-25T12:33:25.073Z"
   },
   {
    "duration": 17,
    "start_time": "2022-02-25T12:33:25.168Z"
   },
   {
    "duration": 94,
    "start_time": "2022-02-25T12:33:25.188Z"
   },
   {
    "duration": 506,
    "start_time": "2022-02-25T12:33:25.284Z"
   },
   {
    "duration": 4,
    "start_time": "2022-02-25T12:33:25.792Z"
   },
   {
    "duration": 11,
    "start_time": "2022-02-25T12:33:25.798Z"
   },
   {
    "duration": 396,
    "start_time": "2022-02-25T12:33:25.811Z"
   },
   {
    "duration": 286,
    "start_time": "2022-02-25T12:33:26.208Z"
   },
   {
    "duration": 1110,
    "start_time": "2022-02-25T12:33:26.497Z"
   },
   {
    "duration": 1185,
    "start_time": "2022-02-25T12:33:27.609Z"
   },
   {
    "duration": 2111,
    "start_time": "2022-02-25T12:33:28.796Z"
   },
   {
    "duration": 2372,
    "start_time": "2022-02-25T12:33:30.909Z"
   },
   {
    "duration": 5,
    "start_time": "2022-02-25T12:33:33.283Z"
   },
   {
    "duration": 7,
    "start_time": "2022-02-25T12:33:33.290Z"
   },
   {
    "duration": 1089,
    "start_time": "2022-02-25T12:33:33.298Z"
   },
   {
    "duration": 358,
    "start_time": "2022-02-25T12:33:41.749Z"
   },
   {
    "duration": 5,
    "start_time": "2022-02-25T12:35:21.198Z"
   },
   {
    "duration": 6,
    "start_time": "2022-02-25T12:36:02.967Z"
   },
   {
    "duration": 365,
    "start_time": "2022-02-25T12:39:39.251Z"
   },
   {
    "duration": 266,
    "start_time": "2022-02-25T12:48:42.079Z"
   },
   {
    "duration": 533,
    "start_time": "2022-02-25T12:48:42.347Z"
   },
   {
    "duration": 550,
    "start_time": "2022-02-25T12:48:42.883Z"
   },
   {
    "duration": 10,
    "start_time": "2022-02-25T12:48:43.435Z"
   },
   {
    "duration": 39,
    "start_time": "2022-02-25T12:48:43.447Z"
   },
   {
    "duration": 217,
    "start_time": "2022-02-25T12:48:43.487Z"
   },
   {
    "duration": 67,
    "start_time": "2022-02-25T12:48:43.706Z"
   },
   {
    "duration": 17,
    "start_time": "2022-02-25T12:48:43.775Z"
   },
   {
    "duration": 27,
    "start_time": "2022-02-25T12:48:43.795Z"
   },
   {
    "duration": 477,
    "start_time": "2022-02-25T12:48:43.870Z"
   },
   {
    "duration": 7,
    "start_time": "2022-02-25T12:48:44.349Z"
   },
   {
    "duration": 5,
    "start_time": "2022-02-25T12:48:44.358Z"
   },
   {
    "duration": 239,
    "start_time": "2022-02-25T12:48:44.365Z"
   },
   {
    "duration": 316,
    "start_time": "2022-02-25T12:48:44.606Z"
   },
   {
    "duration": 867,
    "start_time": "2022-02-25T12:48:44.925Z"
   },
   {
    "duration": 1092,
    "start_time": "2022-02-25T12:48:45.794Z"
   },
   {
    "duration": 2262,
    "start_time": "2022-02-25T12:48:46.888Z"
   },
   {
    "duration": 2039,
    "start_time": "2022-02-25T12:48:49.169Z"
   },
   {
    "duration": 65,
    "start_time": "2022-02-25T12:48:51.210Z"
   },
   {
    "duration": 5,
    "start_time": "2022-02-25T12:48:51.277Z"
   },
   {
    "duration": 1027,
    "start_time": "2022-02-25T12:48:51.284Z"
   },
   {
    "duration": 575,
    "start_time": "2022-02-25T12:51:38.653Z"
   },
   {
    "duration": 350,
    "start_time": "2022-02-25T12:52:10.961Z"
   },
   {
    "duration": 1033,
    "start_time": "2022-02-25T12:53:02.514Z"
   },
   {
    "duration": 254,
    "start_time": "2022-02-25T12:53:24.794Z"
   },
   {
    "duration": 623,
    "start_time": "2022-02-25T12:53:25.069Z"
   },
   {
    "duration": 437,
    "start_time": "2022-02-25T12:53:25.695Z"
   },
   {
    "duration": 11,
    "start_time": "2022-02-25T12:53:26.134Z"
   },
   {
    "duration": 40,
    "start_time": "2022-02-25T12:53:26.148Z"
   },
   {
    "duration": 215,
    "start_time": "2022-02-25T12:53:26.190Z"
   },
   {
    "duration": 31,
    "start_time": "2022-02-25T12:53:26.407Z"
   },
   {
    "duration": 74,
    "start_time": "2022-02-25T12:53:26.440Z"
   },
   {
    "duration": 82,
    "start_time": "2022-02-25T12:53:26.517Z"
   },
   {
    "duration": 567,
    "start_time": "2022-02-25T12:53:26.602Z"
   },
   {
    "duration": 7,
    "start_time": "2022-02-25T12:53:27.171Z"
   },
   {
    "duration": 4,
    "start_time": "2022-02-25T12:53:27.180Z"
   },
   {
    "duration": 254,
    "start_time": "2022-02-25T12:53:27.185Z"
   },
   {
    "duration": 228,
    "start_time": "2022-02-25T12:53:27.441Z"
   },
   {
    "duration": 649,
    "start_time": "2022-02-25T12:53:27.671Z"
   },
   {
    "duration": 625,
    "start_time": "2022-02-25T12:53:28.323Z"
   },
   {
    "duration": 2188,
    "start_time": "2022-02-25T12:53:28.950Z"
   },
   {
    "duration": 1774,
    "start_time": "2022-02-25T12:53:31.171Z"
   },
   {
    "duration": 25,
    "start_time": "2022-02-25T12:53:32.948Z"
   },
   {
    "duration": 7,
    "start_time": "2022-02-25T12:53:32.975Z"
   },
   {
    "duration": 890,
    "start_time": "2022-02-25T12:53:32.984Z"
   },
   {
    "duration": 961,
    "start_time": "2022-02-25T12:53:33.877Z"
   },
   {
    "duration": 876,
    "start_time": "2022-02-25T12:53:34.841Z"
   },
   {
    "duration": 1255,
    "start_time": "2022-02-25T12:53:35.719Z"
   },
   {
    "duration": 1133,
    "start_time": "2022-02-25T12:53:36.976Z"
   },
   {
    "duration": 11,
    "start_time": "2022-02-25T12:54:21.936Z"
   },
   {
    "duration": 11,
    "start_time": "2022-02-25T12:55:35.418Z"
   },
   {
    "duration": 328,
    "start_time": "2022-02-25T13:01:37.052Z"
   },
   {
    "duration": 444,
    "start_time": "2022-02-25T13:01:37.382Z"
   },
   {
    "duration": 50,
    "start_time": "2022-02-25T13:01:43.174Z"
   },
   {
    "duration": 3,
    "start_time": "2022-02-25T13:46:31.437Z"
   },
   {
    "duration": 64,
    "start_time": "2022-02-25T18:59:47.213Z"
   },
   {
    "duration": 21559,
    "start_time": "2022-02-26T09:58:50.466Z"
   },
   {
    "duration": 1388,
    "start_time": "2022-02-26T09:59:12.028Z"
   },
   {
    "duration": 324,
    "start_time": "2022-02-26T09:59:13.418Z"
   },
   {
    "duration": 915,
    "start_time": "2022-02-26T09:59:13.745Z"
   },
   {
    "duration": 5,
    "start_time": "2022-02-26T09:59:14.713Z"
   },
   {
    "duration": 34194,
    "start_time": "2022-02-26T13:09:16.252Z"
   },
   {
    "duration": 2604,
    "start_time": "2022-02-26T13:09:50.449Z"
   },
   {
    "duration": 487,
    "start_time": "2022-02-26T13:09:53.056Z"
   },
   {
    "duration": 2001,
    "start_time": "2022-02-26T13:09:53.546Z"
   },
   {
    "duration": 6,
    "start_time": "2022-02-26T13:09:55.551Z"
   },
   {
    "duration": 3,
    "start_time": "2022-02-26T13:09:55.560Z"
   },
   {
    "duration": 184,
    "start_time": "2022-02-26T13:09:55.566Z"
   },
   {
    "duration": 2103,
    "start_time": "2022-02-26T13:09:55.754Z"
   },
   {
    "duration": 476,
    "start_time": "2022-02-26T13:09:57.860Z"
   },
   {
    "duration": 104,
    "start_time": "2022-02-26T13:09:58.344Z"
   },
   {
    "duration": 299,
    "start_time": "2022-02-26T13:09:58.450Z"
   },
   {
    "duration": 3604,
    "start_time": "2022-02-26T13:09:58.752Z"
   },
   {
    "duration": 93,
    "start_time": "2022-02-26T13:10:02.359Z"
   },
   {
    "duration": 5,
    "start_time": "2022-02-26T13:10:02.454Z"
   },
   {
    "duration": 1690,
    "start_time": "2022-02-26T13:10:02.462Z"
   },
   {
    "duration": 1094,
    "start_time": "2022-02-26T13:10:04.155Z"
   },
   {
    "duration": 4982,
    "start_time": "2022-02-26T13:10:05.252Z"
   },
   {
    "duration": 2599,
    "start_time": "2022-02-26T13:10:10.237Z"
   },
   {
    "duration": 10531,
    "start_time": "2022-02-26T13:10:12.841Z"
   },
   {
    "duration": 6558,
    "start_time": "2022-02-26T13:10:23.374Z"
   },
   {
    "duration": 16,
    "start_time": "2022-02-26T13:10:29.935Z"
   },
   {
    "duration": 78,
    "start_time": "2022-02-26T13:10:29.957Z"
   },
   {
    "duration": 3308,
    "start_time": "2022-02-26T13:10:30.043Z"
   },
   {
    "duration": 2594,
    "start_time": "2022-02-26T13:10:33.353Z"
   },
   {
    "duration": 2694,
    "start_time": "2022-02-26T13:10:35.949Z"
   },
   {
    "duration": 2308,
    "start_time": "2022-02-26T13:10:38.645Z"
   },
   {
    "duration": 384,
    "start_time": "2022-02-26T13:10:40.955Z"
   },
   {
    "duration": 1048,
    "start_time": "2022-02-26T13:10:40.294Z"
   },
   {
    "duration": 1046,
    "start_time": "2022-02-26T13:10:40.298Z"
   },
   {
    "duration": 1043,
    "start_time": "2022-02-26T13:10:40.303Z"
   },
   {
    "duration": 1038,
    "start_time": "2022-02-26T13:10:40.310Z"
   },
   {
    "duration": 1035,
    "start_time": "2022-02-26T13:10:40.314Z"
   },
   {
    "duration": 1034,
    "start_time": "2022-02-26T13:10:40.317Z"
   },
   {
    "duration": 1032,
    "start_time": "2022-02-26T13:10:40.320Z"
   },
   {
    "duration": 1031,
    "start_time": "2022-02-26T13:10:40.323Z"
   },
   {
    "duration": 828,
    "start_time": "2022-02-26T13:14:32.607Z"
   },
   {
    "duration": 816,
    "start_time": "2022-02-26T13:14:33.437Z"
   },
   {
    "duration": 757,
    "start_time": "2022-02-26T13:14:34.257Z"
   },
   {
    "duration": -204,
    "start_time": "2022-02-26T13:14:35.221Z"
   },
   {
    "duration": -205,
    "start_time": "2022-02-26T13:14:35.223Z"
   },
   {
    "duration": -206,
    "start_time": "2022-02-26T13:14:35.225Z"
   },
   {
    "duration": -209,
    "start_time": "2022-02-26T13:14:35.230Z"
   },
   {
    "duration": -210,
    "start_time": "2022-02-26T13:14:35.232Z"
   },
   {
    "duration": -210,
    "start_time": "2022-02-26T13:14:35.233Z"
   },
   {
    "duration": 306,
    "start_time": "2022-02-26T13:14:50.566Z"
   },
   {
    "duration": 298,
    "start_time": "2022-02-26T13:15:27.295Z"
   },
   {
    "duration": 603,
    "start_time": "2022-02-26T13:15:40.052Z"
   },
   {
    "duration": 405,
    "start_time": "2022-02-26T13:15:40.949Z"
   },
   {
    "duration": 302,
    "start_time": "2022-02-26T13:15:45.029Z"
   },
   {
    "duration": 28275,
    "start_time": "2022-02-26T13:20:30.576Z"
   },
   {
    "duration": 2179,
    "start_time": "2022-02-26T13:20:58.854Z"
   },
   {
    "duration": 779,
    "start_time": "2022-02-26T13:21:01.037Z"
   },
   {
    "duration": 1215,
    "start_time": "2022-02-26T13:21:00.604Z"
   },
   {
    "duration": 357,
    "start_time": "2022-02-26T13:21:56.593Z"
   },
   {
    "duration": 367,
    "start_time": "2022-02-26T13:22:09.423Z"
   },
   {
    "duration": 1165,
    "start_time": "2022-02-26T13:24:11.409Z"
   },
   {
    "duration": 28575,
    "start_time": "2022-02-26T13:24:33.697Z"
   },
   {
    "duration": 1768,
    "start_time": "2022-02-26T13:25:02.276Z"
   },
   {
    "duration": 48,
    "start_time": "2022-02-26T13:25:04.048Z"
   },
   {
    "duration": 213,
    "start_time": "2022-02-26T13:25:04.142Z"
   },
   {
    "duration": 92,
    "start_time": "2022-02-26T13:25:04.358Z"
   },
   {
    "duration": 4214,
    "start_time": "2022-02-26T13:25:04.452Z"
   },
   {
    "duration": 1153,
    "start_time": "2022-02-26T13:25:07.516Z"
   },
   {
    "duration": 1145,
    "start_time": "2022-02-26T13:25:07.527Z"
   },
   {
    "duration": 1141,
    "start_time": "2022-02-26T13:25:07.533Z"
   },
   {
    "duration": 573,
    "start_time": "2022-02-26T13:26:45.584Z"
   },
   {
    "duration": 1188,
    "start_time": "2022-02-26T13:31:10.575Z"
   },
   {
    "duration": 791,
    "start_time": "2022-02-26T13:31:11.766Z"
   },
   {
    "duration": 84,
    "start_time": "2022-02-26T13:31:12.561Z"
   },
   {
    "duration": 200,
    "start_time": "2022-02-26T13:31:12.653Z"
   },
   {
    "duration": 10,
    "start_time": "2022-02-26T13:31:13.807Z"
   },
   {
    "duration": 27219,
    "start_time": "2022-02-26T13:31:14.350Z"
   },
   {
    "duration": 4315,
    "start_time": "2022-02-26T13:31:41.571Z"
   },
   {
    "duration": 4054,
    "start_time": "2022-02-26T13:31:45.889Z"
   },
   {
    "duration": 501,
    "start_time": "2022-02-26T13:31:49.945Z"
   },
   {
    "duration": 25978,
    "start_time": "2022-02-26T14:11:45.097Z"
   },
   {
    "duration": 2339,
    "start_time": "2022-02-26T14:12:11.134Z"
   },
   {
    "duration": 566,
    "start_time": "2022-02-26T14:12:13.477Z"
   },
   {
    "duration": 1499,
    "start_time": "2022-02-26T14:12:14.046Z"
   },
   {
    "duration": 6,
    "start_time": "2022-02-26T14:12:15.548Z"
   },
   {
    "duration": 8,
    "start_time": "2022-02-26T14:12:15.556Z"
   },
   {
    "duration": 80,
    "start_time": "2022-02-26T14:12:15.566Z"
   },
   {
    "duration": 2205,
    "start_time": "2022-02-26T14:12:15.650Z"
   },
   {
    "duration": 209,
    "start_time": "2022-02-26T14:12:17.859Z"
   },
   {
    "duration": 103,
    "start_time": "2022-02-26T14:12:18.071Z"
   },
   {
    "duration": 256,
    "start_time": "2022-02-26T14:12:18.176Z"
   },
   {
    "duration": 3004,
    "start_time": "2022-02-26T14:12:18.440Z"
   },
   {
    "duration": 87,
    "start_time": "2022-02-26T14:12:21.453Z"
   },
   {
    "duration": 8,
    "start_time": "2022-02-26T14:12:21.542Z"
   },
   {
    "duration": 1690,
    "start_time": "2022-02-26T14:12:21.553Z"
   },
   {
    "duration": 1043,
    "start_time": "2022-02-26T14:12:23.249Z"
   },
   {
    "duration": 8027,
    "start_time": "2022-02-26T14:12:24.335Z"
   },
   {
    "duration": 4895,
    "start_time": "2022-02-26T14:12:32.365Z"
   },
   {
    "duration": 14927,
    "start_time": "2022-02-26T14:12:37.335Z"
   },
   {
    "duration": 11178,
    "start_time": "2022-02-26T14:12:52.264Z"
   },
   {
    "duration": 12,
    "start_time": "2022-02-26T14:13:03.449Z"
   },
   {
    "duration": 78,
    "start_time": "2022-02-26T14:13:03.464Z"
   },
   {
    "duration": 3644,
    "start_time": "2022-02-26T14:13:03.552Z"
   },
   {
    "duration": 2369,
    "start_time": "2022-02-26T14:13:07.235Z"
   },
   {
    "duration": 2626,
    "start_time": "2022-02-26T14:13:09.607Z"
   },
   {
    "duration": 2615,
    "start_time": "2022-02-26T14:13:12.236Z"
   },
   {
    "duration": 703,
    "start_time": "2022-02-26T14:13:14.854Z"
   },
   {
    "duration": 799,
    "start_time": "2022-02-26T14:13:15.559Z"
   },
   {
    "duration": 84,
    "start_time": "2022-02-26T14:13:16.361Z"
   },
   {
    "duration": 195,
    "start_time": "2022-02-26T14:13:16.449Z"
   },
   {
    "duration": 10,
    "start_time": "2022-02-26T14:13:16.647Z"
   },
   {
    "duration": 20487,
    "start_time": "2022-02-26T14:13:16.660Z"
   },
   {
    "duration": 4496,
    "start_time": "2022-02-26T14:13:37.150Z"
   },
   {
    "duration": 3502,
    "start_time": "2022-02-26T14:13:41.650Z"
   },
   {
    "duration": 517,
    "start_time": "2022-02-26T14:13:45.155Z"
   },
   {
    "duration": 27199,
    "start_time": "2022-02-26T14:15:30.247Z"
   },
   {
    "duration": 2000,
    "start_time": "2022-02-26T14:15:57.451Z"
   },
   {
    "duration": 408,
    "start_time": "2022-02-26T14:15:59.455Z"
   },
   {
    "duration": 1432,
    "start_time": "2022-02-26T14:15:59.866Z"
   },
   {
    "duration": 11,
    "start_time": "2022-02-26T14:16:01.300Z"
   },
   {
    "duration": 31,
    "start_time": "2022-02-26T14:16:01.313Z"
   },
   {
    "duration": 51,
    "start_time": "2022-02-26T14:16:01.347Z"
   },
   {
    "duration": 2299,
    "start_time": "2022-02-26T14:16:01.438Z"
   },
   {
    "duration": 408,
    "start_time": "2022-02-26T14:16:03.741Z"
   },
   {
    "duration": 104,
    "start_time": "2022-02-26T14:16:04.151Z"
   },
   {
    "duration": 205,
    "start_time": "2022-02-26T14:16:04.258Z"
   },
   {
    "duration": 2894,
    "start_time": "2022-02-26T14:16:04.466Z"
   },
   {
    "duration": 76,
    "start_time": "2022-02-26T14:16:07.362Z"
   },
   {
    "duration": 8,
    "start_time": "2022-02-26T14:16:07.440Z"
   },
   {
    "duration": 1809,
    "start_time": "2022-02-26T14:16:07.451Z"
   },
   {
    "duration": 1111,
    "start_time": "2022-02-26T14:16:09.263Z"
   },
   {
    "duration": 5573,
    "start_time": "2022-02-26T14:16:10.377Z"
   },
   {
    "duration": 2684,
    "start_time": "2022-02-26T14:16:15.953Z"
   },
   {
    "duration": 9129,
    "start_time": "2022-02-26T14:16:18.639Z"
   },
   {
    "duration": 5688,
    "start_time": "2022-02-26T14:16:27.771Z"
   },
   {
    "duration": 9,
    "start_time": "2022-02-26T14:16:33.462Z"
   },
   {
    "duration": 11,
    "start_time": "2022-02-26T14:16:33.474Z"
   },
   {
    "duration": 3056,
    "start_time": "2022-02-26T14:16:33.490Z"
   },
   {
    "duration": 2030,
    "start_time": "2022-02-26T14:16:36.552Z"
   },
   {
    "duration": 2962,
    "start_time": "2022-02-26T14:16:38.584Z"
   },
   {
    "duration": 1921,
    "start_time": "2022-02-26T14:16:41.548Z"
   },
   {
    "duration": 812,
    "start_time": "2022-02-26T14:16:43.471Z"
   },
   {
    "duration": 749,
    "start_time": "2022-02-26T14:16:44.286Z"
   },
   {
    "duration": 17,
    "start_time": "2022-02-26T14:16:45.039Z"
   },
   {
    "duration": 220,
    "start_time": "2022-02-26T14:16:45.059Z"
   },
   {
    "duration": 63,
    "start_time": "2022-02-26T14:16:45.281Z"
   },
   {
    "duration": 14287,
    "start_time": "2022-02-26T14:16:45.347Z"
   },
   {
    "duration": 2698,
    "start_time": "2022-02-26T14:16:59.638Z"
   },
   {
    "duration": 2593,
    "start_time": "2022-02-26T14:17:02.339Z"
   },
   {
    "duration": 313,
    "start_time": "2022-02-26T14:17:04.935Z"
   },
   {
    "duration": 27730,
    "start_time": "2022-02-28T09:54:46.248Z"
   },
   {
    "duration": 1399,
    "start_time": "2022-02-28T09:55:13.981Z"
   },
   {
    "duration": 327,
    "start_time": "2022-02-28T09:55:15.438Z"
   },
   {
    "duration": 1682,
    "start_time": "2022-02-28T09:55:15.766Z"
   },
   {
    "duration": 6,
    "start_time": "2022-02-28T09:55:17.450Z"
   },
   {
    "duration": 5,
    "start_time": "2022-02-28T09:55:17.457Z"
   },
   {
    "duration": 83,
    "start_time": "2022-02-28T09:55:17.464Z"
   },
   {
    "duration": 1893,
    "start_time": "2022-02-28T09:55:17.551Z"
   },
   {
    "duration": 324,
    "start_time": "2022-02-28T09:55:19.446Z"
   },
   {
    "duration": 104,
    "start_time": "2022-02-28T09:55:19.772Z"
   },
   {
    "duration": 162,
    "start_time": "2022-02-28T09:55:19.878Z"
   },
   {
    "duration": 2097,
    "start_time": "2022-02-28T09:55:20.048Z"
   },
   {
    "duration": 12,
    "start_time": "2022-02-28T09:55:22.151Z"
   },
   {
    "duration": 5,
    "start_time": "2022-02-28T09:55:22.165Z"
   },
   {
    "duration": 1267,
    "start_time": "2022-02-28T09:55:22.171Z"
   },
   {
    "duration": 742,
    "start_time": "2022-02-28T09:55:23.439Z"
   },
   {
    "duration": 3886,
    "start_time": "2022-02-28T09:55:24.183Z"
   },
   {
    "duration": 1879,
    "start_time": "2022-02-28T09:55:28.071Z"
   },
   {
    "duration": 7190,
    "start_time": "2022-02-28T09:55:29.951Z"
   },
   {
    "duration": 4408,
    "start_time": "2022-02-28T09:55:37.143Z"
   },
   {
    "duration": 7,
    "start_time": "2022-02-28T09:55:41.553Z"
   },
   {
    "duration": 8,
    "start_time": "2022-02-28T09:55:41.562Z"
   },
   {
    "duration": 2285,
    "start_time": "2022-02-28T09:55:41.573Z"
   },
   {
    "duration": 1610,
    "start_time": "2022-02-28T09:55:43.861Z"
   },
   {
    "duration": 1728,
    "start_time": "2022-02-28T09:55:45.473Z"
   },
   {
    "duration": 1748,
    "start_time": "2022-02-28T09:55:47.203Z"
   },
   {
    "duration": 538,
    "start_time": "2022-02-28T09:55:48.953Z"
   },
   {
    "duration": 512,
    "start_time": "2022-02-28T09:55:49.538Z"
   },
   {
    "duration": 14,
    "start_time": "2022-02-28T09:55:50.052Z"
   },
   {
    "duration": 136,
    "start_time": "2022-02-28T09:55:50.068Z"
   },
   {
    "duration": 8,
    "start_time": "2022-02-28T09:55:50.205Z"
   },
   {
    "duration": 12541,
    "start_time": "2022-02-28T09:55:50.214Z"
   },
   {
    "duration": 2501,
    "start_time": "2022-02-28T09:56:02.757Z"
   },
   {
    "duration": 2519,
    "start_time": "2022-02-28T09:56:05.260Z"
   },
   {
    "duration": 273,
    "start_time": "2022-02-28T09:56:07.781Z"
   },
   {
    "duration": 303,
    "start_time": "2022-03-11T07:07:24.321Z"
   },
   {
    "duration": 24663,
    "start_time": "2022-03-11T07:07:36.830Z"
   },
   {
    "duration": 1739,
    "start_time": "2022-03-11T07:08:01.497Z"
   },
   {
    "duration": 1858,
    "start_time": "2022-03-11T07:08:03.239Z"
   },
   {
    "duration": 1154,
    "start_time": "2022-03-11T07:08:05.099Z"
   },
   {
    "duration": 28,
    "start_time": "2022-03-11T07:08:06.255Z"
   },
   {
    "duration": 3,
    "start_time": "2022-03-11T07:08:06.285Z"
   },
   {
    "duration": 37,
    "start_time": "2022-03-11T07:08:06.290Z"
   },
   {
    "duration": 1728,
    "start_time": "2022-03-11T07:08:06.384Z"
   },
   {
    "duration": 385,
    "start_time": "2022-03-11T07:08:08.116Z"
   },
   {
    "duration": 109,
    "start_time": "2022-03-11T07:08:08.503Z"
   },
   {
    "duration": 286,
    "start_time": "2022-03-11T07:08:08.615Z"
   },
   {
    "duration": 3179,
    "start_time": "2022-03-11T07:08:08.904Z"
   },
   {
    "duration": 17,
    "start_time": "2022-03-11T07:08:12.086Z"
   },
   {
    "duration": 5,
    "start_time": "2022-03-11T07:08:12.106Z"
   },
   {
    "duration": 1384,
    "start_time": "2022-03-11T07:08:12.113Z"
   },
   {
    "duration": 1007,
    "start_time": "2022-03-11T07:08:13.500Z"
   },
   {
    "duration": 4388,
    "start_time": "2022-03-11T07:08:14.510Z"
   },
   {
    "duration": 2781,
    "start_time": "2022-03-11T07:08:18.901Z"
   },
   {
    "duration": 8230,
    "start_time": "2022-03-11T07:08:21.685Z"
   },
   {
    "duration": 5072,
    "start_time": "2022-03-11T07:08:29.918Z"
   },
   {
    "duration": 10,
    "start_time": "2022-03-11T07:08:34.993Z"
   },
   {
    "duration": 11,
    "start_time": "2022-03-11T07:08:35.005Z"
   },
   {
    "duration": 2772,
    "start_time": "2022-03-11T07:08:35.021Z"
   },
   {
    "duration": 2193,
    "start_time": "2022-03-11T07:08:37.795Z"
   },
   {
    "duration": 2523,
    "start_time": "2022-03-11T07:08:39.990Z"
   },
   {
    "duration": 1804,
    "start_time": "2022-03-11T07:08:42.516Z"
   },
   {
    "duration": 785,
    "start_time": "2022-03-11T07:08:44.323Z"
   },
   {
    "duration": 598,
    "start_time": "2022-03-11T07:08:45.111Z"
   },
   {
    "duration": 77,
    "start_time": "2022-03-11T07:08:45.713Z"
   },
   {
    "duration": 120,
    "start_time": "2022-03-11T07:08:45.792Z"
   },
   {
    "duration": 16,
    "start_time": "2022-03-11T07:08:45.915Z"
   },
   {
    "duration": 15849,
    "start_time": "2022-03-11T07:08:45.933Z"
   },
   {
    "duration": 3177,
    "start_time": "2022-03-11T07:09:01.785Z"
   },
   {
    "duration": 3518,
    "start_time": "2022-03-11T07:09:04.965Z"
   },
   {
    "duration": 327,
    "start_time": "2022-03-11T07:09:08.486Z"
   },
   {
    "duration": 341,
    "start_time": "2022-03-11T07:10:29.094Z"
   },
   {
    "duration": 39349,
    "start_time": "2022-03-14T06:40:36.993Z"
   },
   {
    "duration": 1835,
    "start_time": "2022-03-14T06:41:16.346Z"
   },
   {
    "duration": 2098,
    "start_time": "2022-03-14T06:41:18.185Z"
   },
   {
    "duration": -8886,
    "start_time": "2022-03-14T06:41:29.176Z"
   },
   {
    "duration": -8890,
    "start_time": "2022-03-14T06:41:29.183Z"
   },
   {
    "duration": -8893,
    "start_time": "2022-03-14T06:41:29.188Z"
   },
   {
    "duration": -8897,
    "start_time": "2022-03-14T06:41:29.194Z"
   },
   {
    "duration": -8899,
    "start_time": "2022-03-14T06:41:29.199Z"
   },
   {
    "duration": -8911,
    "start_time": "2022-03-14T06:41:29.212Z"
   },
   {
    "duration": -8920,
    "start_time": "2022-03-14T06:41:29.224Z"
   },
   {
    "duration": -8938,
    "start_time": "2022-03-14T06:41:29.244Z"
   },
   {
    "duration": -8941,
    "start_time": "2022-03-14T06:41:29.249Z"
   },
   {
    "duration": -8952,
    "start_time": "2022-03-14T06:41:29.261Z"
   },
   {
    "duration": -8966,
    "start_time": "2022-03-14T06:41:29.278Z"
   },
   {
    "duration": -8970,
    "start_time": "2022-03-14T06:41:29.284Z"
   },
   {
    "duration": -8973,
    "start_time": "2022-03-14T06:41:29.289Z"
   },
   {
    "duration": -8976,
    "start_time": "2022-03-14T06:41:29.294Z"
   },
   {
    "duration": -9000,
    "start_time": "2022-03-14T06:41:29.320Z"
   },
   {
    "duration": -9006,
    "start_time": "2022-03-14T06:41:29.328Z"
   },
   {
    "duration": -9010,
    "start_time": "2022-03-14T06:41:29.335Z"
   },
   {
    "duration": -9052,
    "start_time": "2022-03-14T06:41:29.379Z"
   },
   {
    "duration": -9079,
    "start_time": "2022-03-14T06:41:29.411Z"
   },
   {
    "duration": -9081,
    "start_time": "2022-03-14T06:41:29.415Z"
   },
   {
    "duration": -9082,
    "start_time": "2022-03-14T06:41:29.418Z"
   },
   {
    "duration": -9083,
    "start_time": "2022-03-14T06:41:29.422Z"
   },
   {
    "duration": -9084,
    "start_time": "2022-03-14T06:41:29.425Z"
   },
   {
    "duration": -9085,
    "start_time": "2022-03-14T06:41:29.428Z"
   },
   {
    "duration": -9108,
    "start_time": "2022-03-14T06:41:29.453Z"
   },
   {
    "duration": -9119,
    "start_time": "2022-03-14T06:41:29.467Z"
   },
   {
    "duration": -9121,
    "start_time": "2022-03-14T06:41:29.471Z"
   },
   {
    "duration": -9122,
    "start_time": "2022-03-14T06:41:29.474Z"
   },
   {
    "duration": -9123,
    "start_time": "2022-03-14T06:41:29.477Z"
   },
   {
    "duration": -9125,
    "start_time": "2022-03-14T06:41:29.481Z"
   },
   {
    "duration": -9127,
    "start_time": "2022-03-14T06:41:29.485Z"
   },
   {
    "duration": -9143,
    "start_time": "2022-03-14T06:41:29.503Z"
   },
   {
    "duration": 119,
    "start_time": "2022-03-14T06:42:31.166Z"
   },
   {
    "duration": 1158,
    "start_time": "2022-03-14T06:43:29.076Z"
   },
   {
    "duration": 1046,
    "start_time": "2022-03-14T06:43:33.312Z"
   },
   {
    "duration": 1300,
    "start_time": "2022-03-14T06:43:34.361Z"
   },
   {
    "duration": 897,
    "start_time": "2022-03-14T06:43:35.664Z"
   },
   {
    "duration": 1522,
    "start_time": "2022-03-14T06:43:36.563Z"
   },
   {
    "duration": 7,
    "start_time": "2022-03-14T06:43:38.088Z"
   },
   {
    "duration": 4,
    "start_time": "2022-03-14T06:43:38.098Z"
   },
   {
    "duration": 81,
    "start_time": "2022-03-14T06:43:38.105Z"
   },
   {
    "duration": 1744,
    "start_time": "2022-03-14T06:43:38.189Z"
   },
   {
    "duration": 208,
    "start_time": "2022-03-14T06:43:39.937Z"
   },
   {
    "duration": 125,
    "start_time": "2022-03-14T06:43:40.149Z"
   },
   {
    "duration": 193,
    "start_time": "2022-03-14T06:43:40.277Z"
   },
   {
    "duration": 2923,
    "start_time": "2022-03-14T06:43:40.533Z"
   },
   {
    "duration": 86,
    "start_time": "2022-03-14T06:43:43.458Z"
   },
   {
    "duration": 5,
    "start_time": "2022-03-14T06:43:43.547Z"
   },
   {
    "duration": 1690,
    "start_time": "2022-03-14T06:43:43.554Z"
   },
   {
    "duration": 1121,
    "start_time": "2022-03-14T06:43:45.248Z"
   },
   {
    "duration": 5667,
    "start_time": "2022-03-14T06:43:46.372Z"
   },
   {
    "duration": 2599,
    "start_time": "2022-03-14T06:43:52.042Z"
   },
   {
    "duration": 10924,
    "start_time": "2022-03-14T06:43:54.644Z"
   },
   {
    "duration": 5403,
    "start_time": "2022-03-14T06:44:05.572Z"
   },
   {
    "duration": 11,
    "start_time": "2022-03-14T06:44:11.034Z"
   },
   {
    "duration": 12,
    "start_time": "2022-03-14T06:44:11.048Z"
   },
   {
    "duration": 3172,
    "start_time": "2022-03-14T06:44:11.066Z"
   },
   {
    "duration": 2320,
    "start_time": "2022-03-14T06:44:14.241Z"
   },
   {
    "duration": 2614,
    "start_time": "2022-03-14T06:44:16.565Z"
   },
   {
    "duration": 1730,
    "start_time": "2022-03-14T06:44:19.234Z"
   },
   {
    "duration": 877,
    "start_time": "2022-03-14T06:44:20.969Z"
   },
   {
    "duration": 498,
    "start_time": "2022-03-14T06:44:21.850Z"
   },
   {
    "duration": 81,
    "start_time": "2022-03-14T06:44:22.352Z"
   },
   {
    "duration": 210,
    "start_time": "2022-03-14T06:44:22.436Z"
   },
   {
    "duration": 11,
    "start_time": "2022-03-14T06:44:22.649Z"
   },
   {
    "duration": 20282,
    "start_time": "2022-03-14T06:44:22.662Z"
   },
   {
    "duration": 4321,
    "start_time": "2022-03-14T06:44:42.949Z"
   },
   {
    "duration": 6365,
    "start_time": "2022-03-14T06:44:47.273Z"
   },
   {
    "duration": 748,
    "start_time": "2022-03-14T06:44:53.640Z"
   },
   {
    "duration": 423,
    "start_time": "2022-03-14T06:45:46.038Z"
   },
   {
    "duration": 1368,
    "start_time": "2022-03-14T06:46:15.909Z"
   },
   {
    "duration": 4,
    "start_time": "2022-03-14T06:46:17.279Z"
   },
   {
    "duration": 561,
    "start_time": "2022-03-14T06:46:17.285Z"
   },
   {
    "duration": 1030,
    "start_time": "2022-03-14T06:46:22.708Z"
   },
   {
    "duration": 569,
    "start_time": "2022-03-14T06:48:17.869Z"
   },
   {
    "duration": 399,
    "start_time": "2022-03-14T06:48:18.441Z"
   },
   {
    "duration": 925,
    "start_time": "2022-03-14T06:48:18.844Z"
   },
   {
    "duration": 5,
    "start_time": "2022-03-14T06:48:19.773Z"
   },
   {
    "duration": 9,
    "start_time": "2022-03-14T06:48:19.781Z"
   },
   {
    "duration": 66,
    "start_time": "2022-03-14T06:48:19.792Z"
   },
   {
    "duration": 702,
    "start_time": "2022-03-14T06:48:19.861Z"
   },
   {
    "duration": 72,
    "start_time": "2022-03-14T06:48:20.567Z"
   },
   {
    "duration": 87,
    "start_time": "2022-03-14T06:48:20.646Z"
   },
   {
    "duration": 109,
    "start_time": "2022-03-14T06:48:20.736Z"
   },
   {
    "duration": 827,
    "start_time": "2022-03-14T06:48:20.848Z"
   },
   {
    "duration": 63,
    "start_time": "2022-03-14T06:48:21.678Z"
   },
   {
    "duration": 6,
    "start_time": "2022-03-14T06:48:21.743Z"
   },
   {
    "duration": 615,
    "start_time": "2022-03-14T06:48:21.751Z"
   },
   {
    "duration": 513,
    "start_time": "2022-03-14T06:48:22.368Z"
   },
   {
    "duration": 1881,
    "start_time": "2022-03-14T06:48:22.884Z"
   },
   {
    "duration": 1774,
    "start_time": "2022-03-14T06:48:24.768Z"
   },
   {
    "duration": 4391,
    "start_time": "2022-03-14T06:48:26.544Z"
   },
   {
    "duration": 3438,
    "start_time": "2022-03-14T06:48:30.937Z"
   },
   {
    "duration": 8,
    "start_time": "2022-03-14T06:48:34.377Z"
   },
   {
    "duration": 50,
    "start_time": "2022-03-14T06:48:34.389Z"
   },
   {
    "duration": 1638,
    "start_time": "2022-03-14T06:48:34.442Z"
   },
   {
    "duration": 1352,
    "start_time": "2022-03-14T06:48:36.086Z"
   },
   {
    "duration": 1755,
    "start_time": "2022-03-14T06:48:37.442Z"
   },
   {
    "duration": 1355,
    "start_time": "2022-03-14T06:48:39.200Z"
   },
   {
    "duration": 670,
    "start_time": "2022-03-14T06:48:40.558Z"
   },
   {
    "duration": 368,
    "start_time": "2022-03-14T06:48:41.233Z"
   },
   {
    "duration": 41,
    "start_time": "2022-03-14T06:48:41.604Z"
   },
   {
    "duration": 118,
    "start_time": "2022-03-14T06:48:41.648Z"
   },
   {
    "duration": 11,
    "start_time": "2022-03-14T06:48:41.769Z"
   },
   {
    "duration": 12574,
    "start_time": "2022-03-14T06:48:41.782Z"
   },
   {
    "duration": 2193,
    "start_time": "2022-03-14T06:48:54.359Z"
   },
   {
    "duration": 2216,
    "start_time": "2022-03-14T06:48:56.555Z"
   },
   {
    "duration": 504,
    "start_time": "2022-03-14T06:48:58.774Z"
   }
  ],
  "colab": {
   "name": "PySparkSprint.ipynb",
   "provenance": []
  },
  "kernelspec": {
   "display_name": "Python 3",
   "language": "python",
   "name": "python3"
  },
  "language_info": {
   "codemirror_mode": {
    "name": "ipython",
    "version": 3
   },
   "file_extension": ".py",
   "mimetype": "text/x-python",
   "name": "python",
   "nbconvert_exporter": "python",
   "pygments_lexer": "ipython3",
   "version": "3.8.8"
  },
  "toc": {
   "base_numbering": 1,
   "nav_menu": {},
   "number_sections": true,
   "sideBar": true,
   "skip_h1_title": true,
   "title_cell": "Table of Contents",
   "title_sidebar": "Contents",
   "toc_cell": false,
   "toc_position": {},
   "toc_section_display": true,
   "toc_window_display": false
  }
 },
 "nbformat": 4,
 "nbformat_minor": 5
}
