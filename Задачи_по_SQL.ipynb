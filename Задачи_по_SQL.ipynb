{
 "cells": [
  {
   "cell_type": "code",
   "execution_count": 1,
   "metadata": {
    "id": "nlZBlglMDWKe"
   },
   "outputs": [],
   "source": [
    "import pandas as pd\n",
    "import matplotlib.pyplot as plt\n",
    "import seaborn as sns\n",
    "from sqlalchemy import create_engine "
   ]
  },
  {
   "cell_type": "markdown",
   "metadata": {
    "id": "XnOE3n28DWKg"
   },
   "source": [
    "### Конфигурация для подключения к базе данных `data-analyst-advanced-sql`\n",
    "Эта база данных содержит схему `stackoverflow`, с которой вы будете работать в проекте"
   ]
  },
  {
   "cell_type": "code",
   "execution_count": 2,
   "metadata": {
    "id": "6p-yGp7qDWKg"
   },
   "outputs": [],
   "source": [
    "db_config = {\n",
    "    'user': 'praktikum_student', # имя пользователя\n",
    "    'pwd': 'Sdf4$2;d-d30pp', # пароль\n",
    "    'host': 'rc1b-wcoijxj3yxfsf3fs.mdb.yandexcloud.net',\n",
    "    'port': 6432, # порт подключения\n",
    "    'db': 'data-analyst-advanced-sql' # название базы данных\n",
    "}  \n",
    "\n",
    "connection_string = 'postgresql://{}:{}@{}:{}/{}'.format(\n",
    "    db_config['user'],\n",
    "    db_config['pwd'],\n",
    "    db_config['host'],\n",
    "    db_config['port'],\n",
    "    db_config['db'],\n",
    ")"
   ]
  },
  {
   "cell_type": "markdown",
   "metadata": {
    "id": "2Rg8ZpS0DWKh"
   },
   "source": [
    "Создание подключения"
   ]
  },
  {
   "cell_type": "code",
   "execution_count": 3,
   "metadata": {
    "id": "DamCUTR6DWKi"
   },
   "outputs": [],
   "source": [
    "engine = create_engine(connection_string) "
   ]
  },
  {
   "cell_type": "markdown",
   "metadata": {
    "id": "bel8XeSlDWKj"
   },
   "source": [
    "Пример запроса к базе данных\n",
    "\n",
    "`sample_df` является pandas-датафреймом."
   ]
  },
  {
   "cell_type": "code",
   "execution_count": 4,
   "metadata": {
    "id": "6Z_fw0yLDWKk"
   },
   "outputs": [],
   "source": [
    "query = '''\n",
    "SELECT *\n",
    "FROM stackoverflow.users\n",
    "LIMIT 10;\n",
    "'''\n",
    "\n",
    "sample_df = pd.read_sql_query(query, con=engine) "
   ]
  },
  {
   "cell_type": "code",
   "execution_count": 5,
   "metadata": {
    "id": "ZpuZ290oDWKk",
    "outputId": "22785a0a-e2bc-4559-ec3c-4879c4b377eb"
   },
   "outputs": [
    {
     "data": {
      "text/html": [
       "<div>\n",
       "<style scoped>\n",
       "    .dataframe tbody tr th:only-of-type {\n",
       "        vertical-align: middle;\n",
       "    }\n",
       "\n",
       "    .dataframe tbody tr th {\n",
       "        vertical-align: top;\n",
       "    }\n",
       "\n",
       "    .dataframe thead th {\n",
       "        text-align: right;\n",
       "    }\n",
       "</style>\n",
       "<table border=\"1\" class=\"dataframe\">\n",
       "  <thead>\n",
       "    <tr style=\"text-align: right;\">\n",
       "      <th></th>\n",
       "      <th>id</th>\n",
       "      <th>creation_date</th>\n",
       "      <th>display_name</th>\n",
       "      <th>last_access_date</th>\n",
       "      <th>location</th>\n",
       "      <th>reputation</th>\n",
       "      <th>views</th>\n",
       "    </tr>\n",
       "  </thead>\n",
       "  <tbody>\n",
       "    <tr>\n",
       "      <th>0</th>\n",
       "      <td>1</td>\n",
       "      <td>2008-07-31 14:22:31</td>\n",
       "      <td>Jeff Atwood</td>\n",
       "      <td>2018-08-29 02:34:23</td>\n",
       "      <td>El Cerrito, CA</td>\n",
       "      <td>44300</td>\n",
       "      <td>408587</td>\n",
       "    </tr>\n",
       "    <tr>\n",
       "      <th>1</th>\n",
       "      <td>2</td>\n",
       "      <td>2008-07-31 14:22:31</td>\n",
       "      <td>Geoff Dalgas</td>\n",
       "      <td>2018-08-23 17:31:56</td>\n",
       "      <td>Corvallis, OR</td>\n",
       "      <td>3491</td>\n",
       "      <td>23966</td>\n",
       "    </tr>\n",
       "    <tr>\n",
       "      <th>2</th>\n",
       "      <td>3</td>\n",
       "      <td>2008-07-31 14:22:31</td>\n",
       "      <td>Jarrod Dixon</td>\n",
       "      <td>2018-08-30 20:56:24</td>\n",
       "      <td>Raleigh, NC, United States</td>\n",
       "      <td>13418</td>\n",
       "      <td>24396</td>\n",
       "    </tr>\n",
       "    <tr>\n",
       "      <th>3</th>\n",
       "      <td>4</td>\n",
       "      <td>2008-07-31 14:22:31</td>\n",
       "      <td>Joel Spolsky</td>\n",
       "      <td>2018-08-14 22:18:15</td>\n",
       "      <td>New York, NY</td>\n",
       "      <td>28768</td>\n",
       "      <td>73755</td>\n",
       "    </tr>\n",
       "    <tr>\n",
       "      <th>4</th>\n",
       "      <td>5</td>\n",
       "      <td>2008-07-31 14:22:31</td>\n",
       "      <td>Jon Galloway</td>\n",
       "      <td>2018-08-29 16:48:36</td>\n",
       "      <td>San Diego, CA</td>\n",
       "      <td>39172</td>\n",
       "      <td>11700</td>\n",
       "    </tr>\n",
       "    <tr>\n",
       "      <th>5</th>\n",
       "      <td>8</td>\n",
       "      <td>2008-07-31 21:33:24</td>\n",
       "      <td>Eggs McLaren</td>\n",
       "      <td>2018-04-09 02:04:56</td>\n",
       "      <td>None</td>\n",
       "      <td>942</td>\n",
       "      <td>6372</td>\n",
       "    </tr>\n",
       "    <tr>\n",
       "      <th>6</th>\n",
       "      <td>9</td>\n",
       "      <td>2008-07-31 21:35:27</td>\n",
       "      <td>Kevin Dente</td>\n",
       "      <td>2018-08-30 18:18:03</td>\n",
       "      <td>Oakland, CA</td>\n",
       "      <td>14337</td>\n",
       "      <td>4949</td>\n",
       "    </tr>\n",
       "    <tr>\n",
       "      <th>7</th>\n",
       "      <td>11</td>\n",
       "      <td>2008-08-01 00:59:11</td>\n",
       "      <td>Anonymous User</td>\n",
       "      <td>2008-08-01 00:59:11</td>\n",
       "      <td>None</td>\n",
       "      <td>1890</td>\n",
       "      <td>2123</td>\n",
       "    </tr>\n",
       "    <tr>\n",
       "      <th>8</th>\n",
       "      <td>13</td>\n",
       "      <td>2008-08-01 04:18:05</td>\n",
       "      <td>Chris Jester-Young</td>\n",
       "      <td>2018-08-30 02:47:23</td>\n",
       "      <td>Raleigh, NC, United States</td>\n",
       "      <td>177138</td>\n",
       "      <td>35414</td>\n",
       "    </tr>\n",
       "    <tr>\n",
       "      <th>9</th>\n",
       "      <td>17</td>\n",
       "      <td>2008-08-01 12:02:22</td>\n",
       "      <td>Nick Berardi</td>\n",
       "      <td>2018-01-22 01:35:38</td>\n",
       "      <td>Issaquah, WA</td>\n",
       "      <td>44443</td>\n",
       "      <td>4786</td>\n",
       "    </tr>\n",
       "  </tbody>\n",
       "</table>\n",
       "</div>"
      ],
      "text/plain": [
       "   id       creation_date        display_name    last_access_date  \\\n",
       "0   1 2008-07-31 14:22:31         Jeff Atwood 2018-08-29 02:34:23   \n",
       "1   2 2008-07-31 14:22:31        Geoff Dalgas 2018-08-23 17:31:56   \n",
       "2   3 2008-07-31 14:22:31        Jarrod Dixon 2018-08-30 20:56:24   \n",
       "3   4 2008-07-31 14:22:31        Joel Spolsky 2018-08-14 22:18:15   \n",
       "4   5 2008-07-31 14:22:31        Jon Galloway 2018-08-29 16:48:36   \n",
       "5   8 2008-07-31 21:33:24        Eggs McLaren 2018-04-09 02:04:56   \n",
       "6   9 2008-07-31 21:35:27         Kevin Dente 2018-08-30 18:18:03   \n",
       "7  11 2008-08-01 00:59:11      Anonymous User 2008-08-01 00:59:11   \n",
       "8  13 2008-08-01 04:18:05  Chris Jester-Young 2018-08-30 02:47:23   \n",
       "9  17 2008-08-01 12:02:22        Nick Berardi 2018-01-22 01:35:38   \n",
       "\n",
       "                     location  reputation   views  \n",
       "0              El Cerrito, CA       44300  408587  \n",
       "1               Corvallis, OR        3491   23966  \n",
       "2  Raleigh, NC, United States       13418   24396  \n",
       "3                New York, NY       28768   73755  \n",
       "4               San Diego, CA       39172   11700  \n",
       "5                        None         942    6372  \n",
       "6                 Oakland, CA       14337    4949  \n",
       "7                        None        1890    2123  \n",
       "8  Raleigh, NC, United States      177138   35414  \n",
       "9                Issaquah, WA       44443    4786  "
      ]
     },
     "execution_count": 5,
     "metadata": {},
     "output_type": "execute_result"
    }
   ],
   "source": [
    "sample_df"
   ]
  },
  {
   "cell_type": "markdown",
   "metadata": {
    "id": "gnBMXkDBDWKm"
   },
   "source": [
    "# Задание 1"
   ]
  },
  {
   "cell_type": "markdown",
   "metadata": {
    "id": "vHsfOrrNDWKn"
   },
   "source": [
    "Выведите общую сумму просмотров постов за каждый месяц 2008 года. Если данных за какой-либо месяц в базе нет, такой месяц можно пропустить. Результат отсортируйте по убыванию общего количества просмотров."
   ]
  },
  {
   "cell_type": "markdown",
   "metadata": {
    "id": "N5rTgGNmDWKn"
   },
   "source": [
    "| month_date  | total_views |\n",
    "| ------------- | ------------- |\n",
    "| 2008-09-01  | 452928568  |\n",
    "| 2008-10-01  | 365400138  |\n",
    "| ...         | ... |"
   ]
  },
  {
   "cell_type": "code",
   "execution_count": 6,
   "metadata": {},
   "outputs": [],
   "source": [
    "# напишите запрос\n",
    "query_1 = '''\n",
    "EXPLAIN ANALYZE SELECT DISTINCT DATE_TRUNC('month', creation_date)::date AS month_date,\n",
    "                SUM(views_count) AS total_views\n",
    "FROM stackoverflow.posts\n",
    "WHERE DATE_TRUNC('month', creation_date) BETWEEN '2008-01-01' AND '2008-12-31'\n",
    "GROUP BY DATE_TRUNC('month', creation_date)\n",
    "ORDER BY total_views DESC\n",
    "'''\n",
    "\n",
    "# выполните запрос"
   ]
  },
  {
   "cell_type": "code",
   "execution_count": 7,
   "metadata": {},
   "outputs": [],
   "source": [
    "sample_df = pd.read_sql_query(query_1, con=engine) "
   ]
  },
  {
   "cell_type": "code",
   "execution_count": 8,
   "metadata": {},
   "outputs": [
    {
     "data": {
      "text/html": [
       "<div>\n",
       "<style scoped>\n",
       "    .dataframe tbody tr th:only-of-type {\n",
       "        vertical-align: middle;\n",
       "    }\n",
       "\n",
       "    .dataframe tbody tr th {\n",
       "        vertical-align: top;\n",
       "    }\n",
       "\n",
       "    .dataframe thead th {\n",
       "        text-align: right;\n",
       "    }\n",
       "</style>\n",
       "<table border=\"1\" class=\"dataframe\">\n",
       "  <thead>\n",
       "    <tr style=\"text-align: right;\">\n",
       "      <th></th>\n",
       "      <th>QUERY PLAN</th>\n",
       "    </tr>\n",
       "  </thead>\n",
       "  <tbody>\n",
       "    <tr>\n",
       "      <th>0</th>\n",
       "      <td>Unique  (cost=6745.09..6754.23 rows=1219 width...</td>\n",
       "    </tr>\n",
       "    <tr>\n",
       "      <th>1</th>\n",
       "      <td>-&gt;  Sort  (cost=6745.09..6748.13 rows=1219 w...</td>\n",
       "    </tr>\n",
       "    <tr>\n",
       "      <th>2</th>\n",
       "      <td>Sort Key: (sum(views_count)) DESC, (((...</td>\n",
       "    </tr>\n",
       "    <tr>\n",
       "      <th>3</th>\n",
       "      <td>Sort Method: quicksort  Memory: 25kB</td>\n",
       "    </tr>\n",
       "    <tr>\n",
       "      <th>4</th>\n",
       "      <td>-&gt;  Finalize GroupAggregate  (cost=652...</td>\n",
       "    </tr>\n",
       "    <tr>\n",
       "      <th>5</th>\n",
       "      <td>Group Key: (date_trunc('month'::...</td>\n",
       "    </tr>\n",
       "    <tr>\n",
       "      <th>6</th>\n",
       "      <td>-&gt;  Gather Merge  (cost=6528.76....</td>\n",
       "    </tr>\n",
       "    <tr>\n",
       "      <th>7</th>\n",
       "      <td>Workers Planned: 2</td>\n",
       "    </tr>\n",
       "    <tr>\n",
       "      <th>8</th>\n",
       "      <td>Workers Launched: 2</td>\n",
       "    </tr>\n",
       "    <tr>\n",
       "      <th>9</th>\n",
       "      <td>-&gt;  Partial GroupAggregate...</td>\n",
       "    </tr>\n",
       "    <tr>\n",
       "      <th>10</th>\n",
       "      <td>Group Key: (date_tru...</td>\n",
       "    </tr>\n",
       "    <tr>\n",
       "      <th>11</th>\n",
       "      <td>-&gt;  Sort  (cost=5528...</td>\n",
       "    </tr>\n",
       "    <tr>\n",
       "      <th>12</th>\n",
       "      <td>Sort Key: (dat...</td>\n",
       "    </tr>\n",
       "    <tr>\n",
       "      <th>13</th>\n",
       "      <td>Sort Method: e...</td>\n",
       "    </tr>\n",
       "    <tr>\n",
       "      <th>14</th>\n",
       "      <td>Worker 0:  Sor...</td>\n",
       "    </tr>\n",
       "    <tr>\n",
       "      <th>15</th>\n",
       "      <td>Worker 1:  Sor...</td>\n",
       "    </tr>\n",
       "    <tr>\n",
       "      <th>16</th>\n",
       "      <td>-&gt;  Parallel S...</td>\n",
       "    </tr>\n",
       "    <tr>\n",
       "      <th>17</th>\n",
       "      <td>Filter: ...</td>\n",
       "    </tr>\n",
       "    <tr>\n",
       "      <th>18</th>\n",
       "      <td>Planning Time: 0.240 ms</td>\n",
       "    </tr>\n",
       "    <tr>\n",
       "      <th>19</th>\n",
       "      <td>Execution Time: 76.822 ms</td>\n",
       "    </tr>\n",
       "  </tbody>\n",
       "</table>\n",
       "</div>"
      ],
      "text/plain": [
       "                                           QUERY PLAN\n",
       "0   Unique  (cost=6745.09..6754.23 rows=1219 width...\n",
       "1     ->  Sort  (cost=6745.09..6748.13 rows=1219 w...\n",
       "2           Sort Key: (sum(views_count)) DESC, (((...\n",
       "3                Sort Method: quicksort  Memory: 25kB\n",
       "4           ->  Finalize GroupAggregate  (cost=652...\n",
       "5                 Group Key: (date_trunc('month'::...\n",
       "6                 ->  Gather Merge  (cost=6528.76....\n",
       "7                                  Workers Planned: 2\n",
       "8                                 Workers Launched: 2\n",
       "9                       ->  Partial GroupAggregate...\n",
       "10                            Group Key: (date_tru...\n",
       "11                            ->  Sort  (cost=5528...\n",
       "12                                  Sort Key: (dat...\n",
       "13                                  Sort Method: e...\n",
       "14                                  Worker 0:  Sor...\n",
       "15                                  Worker 1:  Sor...\n",
       "16                                  ->  Parallel S...\n",
       "17                                        Filter: ...\n",
       "18                            Planning Time: 0.240 ms\n",
       "19                          Execution Time: 76.822 ms"
      ]
     },
     "execution_count": 8,
     "metadata": {},
     "output_type": "execute_result"
    }
   ],
   "source": [
    "sample_df"
   ]
  },
  {
   "cell_type": "code",
   "execution_count": 9,
   "metadata": {
    "id": "eWvykcXTDWKo"
   },
   "outputs": [],
   "source": [
    "# напишите запрос\n",
    "query_1_1 = '''\n",
    "EXPLAIN ANALYZE SELECT DISTINCT DATE_TRUNC('month', creation_date)::date AS month_date,\n",
    "                SUM(views_count) OVER (PARTITION BY date_trunc('month', creation_date)) AS total_views\n",
    "FROM stackoverflow.posts\n",
    "WHERE DATE_TRUNC('month', creation_date) BETWEEN '2008-01-01' AND '2008-12-31'\n",
    "ORDER BY total_views DESC\n",
    "'''\n",
    "\n",
    "# выполните запрос"
   ]
  },
  {
   "cell_type": "code",
   "execution_count": 10,
   "metadata": {},
   "outputs": [],
   "source": [
    "sample_df_1 = pd.read_sql_query(query_1_1, con=engine) "
   ]
  },
  {
   "cell_type": "code",
   "execution_count": 11,
   "metadata": {},
   "outputs": [
    {
     "data": {
      "text/html": [
       "<div>\n",
       "<style scoped>\n",
       "    .dataframe tbody tr th:only-of-type {\n",
       "        vertical-align: middle;\n",
       "    }\n",
       "\n",
       "    .dataframe tbody tr th {\n",
       "        vertical-align: top;\n",
       "    }\n",
       "\n",
       "    .dataframe thead th {\n",
       "        text-align: right;\n",
       "    }\n",
       "</style>\n",
       "<table border=\"1\" class=\"dataframe\">\n",
       "  <thead>\n",
       "    <tr style=\"text-align: right;\">\n",
       "      <th></th>\n",
       "      <th>QUERY PLAN</th>\n",
       "    </tr>\n",
       "  </thead>\n",
       "  <tbody>\n",
       "    <tr>\n",
       "      <th>0</th>\n",
       "      <td>Unique  (cost=6783.24..6792.39 rows=1219 width...</td>\n",
       "    </tr>\n",
       "    <tr>\n",
       "      <th>1</th>\n",
       "      <td>-&gt;  Sort  (cost=6783.24..6786.29 rows=1219 w...</td>\n",
       "    </tr>\n",
       "    <tr>\n",
       "      <th>2</th>\n",
       "      <td>Sort Key: (sum(views_count) OVER (?)) ...</td>\n",
       "    </tr>\n",
       "    <tr>\n",
       "      <th>3</th>\n",
       "      <td>Sort Method: external merge  Disk: 8120kB</td>\n",
       "    </tr>\n",
       "    <tr>\n",
       "      <th>4</th>\n",
       "      <td>-&gt;  WindowAgg  (cost=6690.29..6720.76 ...</td>\n",
       "    </tr>\n",
       "    <tr>\n",
       "      <th>5</th>\n",
       "      <td>-&gt;  Sort  (cost=6690.29..6693.33...</td>\n",
       "    </tr>\n",
       "    <tr>\n",
       "      <th>6</th>\n",
       "      <td>Sort Key: (date_trunc('mon...</td>\n",
       "    </tr>\n",
       "    <tr>\n",
       "      <th>7</th>\n",
       "      <td>Sort Method: external merg...</td>\n",
       "    </tr>\n",
       "    <tr>\n",
       "      <th>8</th>\n",
       "      <td>-&gt;  Gather  (cost=1000.00....</td>\n",
       "    </tr>\n",
       "    <tr>\n",
       "      <th>9</th>\n",
       "      <td>Workers Planned: 2</td>\n",
       "    </tr>\n",
       "    <tr>\n",
       "      <th>10</th>\n",
       "      <td>Workers Launched: 2</td>\n",
       "    </tr>\n",
       "    <tr>\n",
       "      <th>11</th>\n",
       "      <td>-&gt;  Parallel Seq Sca...</td>\n",
       "    </tr>\n",
       "    <tr>\n",
       "      <th>12</th>\n",
       "      <td>Filter: ((date...</td>\n",
       "    </tr>\n",
       "    <tr>\n",
       "      <th>13</th>\n",
       "      <td>Planning Time: 0.073 ms</td>\n",
       "    </tr>\n",
       "    <tr>\n",
       "      <th>14</th>\n",
       "      <td>Execution Time: 274.046 ms</td>\n",
       "    </tr>\n",
       "  </tbody>\n",
       "</table>\n",
       "</div>"
      ],
      "text/plain": [
       "                                           QUERY PLAN\n",
       "0   Unique  (cost=6783.24..6792.39 rows=1219 width...\n",
       "1     ->  Sort  (cost=6783.24..6786.29 rows=1219 w...\n",
       "2           Sort Key: (sum(views_count) OVER (?)) ...\n",
       "3           Sort Method: external merge  Disk: 8120kB\n",
       "4           ->  WindowAgg  (cost=6690.29..6720.76 ...\n",
       "5                 ->  Sort  (cost=6690.29..6693.33...\n",
       "6                       Sort Key: (date_trunc('mon...\n",
       "7                       Sort Method: external merg...\n",
       "8                       ->  Gather  (cost=1000.00....\n",
       "9                                  Workers Planned: 2\n",
       "10                                Workers Launched: 2\n",
       "11                            ->  Parallel Seq Sca...\n",
       "12                                  Filter: ((date...\n",
       "13                            Planning Time: 0.073 ms\n",
       "14                         Execution Time: 274.046 ms"
      ]
     },
     "execution_count": 11,
     "metadata": {},
     "output_type": "execute_result"
    }
   ],
   "source": [
    "sample_df_1"
   ]
  },
  {
   "cell_type": "markdown",
   "metadata": {
    "id": "I_ZvhOxkDWKp"
   },
   "source": [
    "Проанализируйте итоговую таблицу. Отличаются ли данные за разные месяцы? С чем могут быть связаны отличия?"
   ]
  },
  {
   "cell_type": "markdown",
   "metadata": {},
   "source": [
    "Согласно данным из таблицы, нами проведен анализ с момента начала работы stackoverflow, в данной связи,\n",
    "в первые несколько месяцев (с июля до сентября 2008 года) мы видим рост числа просмотров,\n",
    "в первые месяцы пользователи очень активно просматривали посты, \n",
    "в дальнейшем ситуация изменилась и количество просмотров стало снижаться.\n",
    "возможно это связано с тем, что в новом сервисе хотелось изучить всё, а в дальнейшем число просмотров начало стабилизироваться и пользователи смотрели только необходимую им информацию."
   ]
  },
  {
   "cell_type": "markdown",
   "metadata": {
    "id": "FziIXkn5DWKr"
   },
   "source": [
    "# Задание 2"
   ]
  },
  {
   "cell_type": "markdown",
   "metadata": {
    "id": "fTGESZvYDWKr"
   },
   "source": [
    "Выведите имена самых активных пользователей, которые в первый месяц после регистрации (включая день регистрации) дали больше 100 ответов. Вопросы, которые задавали пользователи, не учитывайте. Для каждого имени пользователя выведите количество уникальных значений `user_id`. Отсортируйте результат по полю с именами в лексикографическом порядке."
   ]
  },
  {
   "cell_type": "markdown",
   "metadata": {
    "id": "W5-tv6Y3DWKs"
   },
   "source": [
    "| display_name | count |\n",
    "| ------------ | ----- |\n",
    "| 1800 INFORMATION | 1 |\n",
    "| Adam Bellaire | 1 |\n",
    "| Adam Davis | 1 |\n",
    "| ... | ... |"
   ]
  },
  {
   "cell_type": "code",
   "execution_count": 13,
   "metadata": {
    "id": "fIO-y-YjDWKt"
   },
   "outputs": [],
   "source": [
    "# напишите запрос\n",
    "query_2 = '''\n",
    "\n",
    "WITH first_month AS\n",
    "  (SELECT t1.display_name,\n",
    "          t1.id,\n",
    "          COUNT(*) OVER (PARTITION BY t2.user_id) AS count_posts\n",
    "   FROM stackoverflow.users AS t1\n",
    "   INNER JOIN stackoverflow.posts AS t2 ON t1.id = t2.user_id\n",
    "   INNER JOIN stackoverflow.post_types AS t3 ON t2.post_type_id = t3.id\n",
    "   WHERE (t1.creation_date + interval '1 month')::date >= t2.creation_date::date\n",
    "     AND t3.type = 'Answer' )\n",
    "     \n",
    "SELECT display_name,\n",
    "       count(distinct(id))\n",
    "    \n",
    "FROM first_month\n",
    "WHERE count_posts >= 100\n",
    "GROUP BY display_name\n",
    "ORDER BY display_name\n",
    "\n",
    "'''\n",
    "\n",
    "# выполните запрос"
   ]
  },
  {
   "cell_type": "code",
   "execution_count": 14,
   "metadata": {},
   "outputs": [],
   "source": [
    "sample_df_2 = pd.read_sql_query(query_2, con=engine) \n"
   ]
  },
  {
   "cell_type": "code",
   "execution_count": 15,
   "metadata": {},
   "outputs": [
    {
     "data": {
      "text/html": [
       "<div>\n",
       "<style scoped>\n",
       "    .dataframe tbody tr th:only-of-type {\n",
       "        vertical-align: middle;\n",
       "    }\n",
       "\n",
       "    .dataframe tbody tr th {\n",
       "        vertical-align: top;\n",
       "    }\n",
       "\n",
       "    .dataframe thead th {\n",
       "        text-align: right;\n",
       "    }\n",
       "</style>\n",
       "<table border=\"1\" class=\"dataframe\">\n",
       "  <thead>\n",
       "    <tr style=\"text-align: right;\">\n",
       "      <th></th>\n",
       "      <th>display_name</th>\n",
       "      <th>count</th>\n",
       "    </tr>\n",
       "  </thead>\n",
       "  <tbody>\n",
       "    <tr>\n",
       "      <th>0</th>\n",
       "      <td>1800 INFORMATION</td>\n",
       "      <td>1</td>\n",
       "    </tr>\n",
       "    <tr>\n",
       "      <th>1</th>\n",
       "      <td>Adam Bellaire</td>\n",
       "      <td>1</td>\n",
       "    </tr>\n",
       "    <tr>\n",
       "      <th>2</th>\n",
       "      <td>Adam Davis</td>\n",
       "      <td>1</td>\n",
       "    </tr>\n",
       "    <tr>\n",
       "      <th>3</th>\n",
       "      <td>Adam Liss</td>\n",
       "      <td>1</td>\n",
       "    </tr>\n",
       "    <tr>\n",
       "      <th>4</th>\n",
       "      <td>Amy B</td>\n",
       "      <td>1</td>\n",
       "    </tr>\n",
       "    <tr>\n",
       "      <th>...</th>\n",
       "      <td>...</td>\n",
       "      <td>...</td>\n",
       "    </tr>\n",
       "    <tr>\n",
       "      <th>64</th>\n",
       "      <td>lomaxx</td>\n",
       "      <td>1</td>\n",
       "    </tr>\n",
       "    <tr>\n",
       "      <th>65</th>\n",
       "      <td>mattlant</td>\n",
       "      <td>1</td>\n",
       "    </tr>\n",
       "    <tr>\n",
       "      <th>66</th>\n",
       "      <td>paxdiablo</td>\n",
       "      <td>1</td>\n",
       "    </tr>\n",
       "    <tr>\n",
       "      <th>67</th>\n",
       "      <td>tvanfosson</td>\n",
       "      <td>1</td>\n",
       "    </tr>\n",
       "    <tr>\n",
       "      <th>68</th>\n",
       "      <td>tzot</td>\n",
       "      <td>1</td>\n",
       "    </tr>\n",
       "  </tbody>\n",
       "</table>\n",
       "<p>69 rows × 2 columns</p>\n",
       "</div>"
      ],
      "text/plain": [
       "        display_name  count\n",
       "0   1800 INFORMATION      1\n",
       "1      Adam Bellaire      1\n",
       "2         Adam Davis      1\n",
       "3          Adam Liss      1\n",
       "4              Amy B      1\n",
       "..               ...    ...\n",
       "64            lomaxx      1\n",
       "65          mattlant      1\n",
       "66         paxdiablo      1\n",
       "67        tvanfosson      1\n",
       "68              tzot      1\n",
       "\n",
       "[69 rows x 2 columns]"
      ]
     },
     "execution_count": 15,
     "metadata": {},
     "output_type": "execute_result"
    }
   ],
   "source": [
    "sample_df_2"
   ]
  },
  {
   "cell_type": "markdown",
   "metadata": {
    "id": "YIqqc-7HDWKt"
   },
   "source": [
    "<details>\n",
    "\n",
    "<summary>Подсказка</summary>\n",
    "Вам нужно присоединить несколько таблиц — изучите внимательнее описание базы. Чтобы добавить промежуток времени к дате, используйте ключевое слово INTERVAL, например, так: <дата> + INTERVAL '1 year 2 months 3 days'\n",
    ".</details>"
   ]
  },
  {
   "cell_type": "markdown",
   "metadata": {
    "id": "I3Wr82TplKpI"
   },
   "source": [
    "Какие аномалии наблюдаются в данных? О чём они говорят?"
   ]
  },
  {
   "cell_type": "code",
   "execution_count": 16,
   "metadata": {
    "id": "CEIGGQ6ODWKy"
   },
   "outputs": [
    {
     "data": {
      "text/plain": [
       "Index(['display_name', 'count'], dtype='object')"
      ]
     },
     "execution_count": 16,
     "metadata": {},
     "output_type": "execute_result"
    }
   ],
   "source": [
    "# напишите ваш ответ здесь\n",
    "sample_df_2.columns"
   ]
  },
  {
   "cell_type": "code",
   "execution_count": 17,
   "metadata": {},
   "outputs": [],
   "source": [
    "# напишите запрос\n",
    "query_2_1 = '''\n",
    "\n",
    "WITH first_month AS\n",
    "  (SELECT t1.display_name,\n",
    "          t1.id,\n",
    "          COUNT(*) OVER (PARTITION BY t2.user_id) AS count_posts\n",
    "   FROM stackoverflow.users AS t1\n",
    "   INNER JOIN stackoverflow.posts AS t2 ON t1.id = t2.user_id\n",
    "   INNER JOIN stackoverflow.post_types AS t3 ON t2.post_type_id = t3.id\n",
    "   WHERE (t1.creation_date + interval '1 month')::date >= t2.creation_date::date\n",
    "     AND t3.type = 'Answer' )\n",
    "     \n",
    "SELECT display_name,\n",
    "       count(distinct(id))\n",
    "    \n",
    "FROM first_month\n",
    "GROUP BY display_name\n",
    "ORDER BY display_name\n",
    "\n",
    "'''\n",
    "\n",
    "# выполните запрос"
   ]
  },
  {
   "cell_type": "code",
   "execution_count": 18,
   "metadata": {},
   "outputs": [],
   "source": [
    "sample_df_2_1 = pd.read_sql_query(query_2_1, con=engine) "
   ]
  },
  {
   "cell_type": "code",
   "execution_count": 19,
   "metadata": {},
   "outputs": [
    {
     "data": {
      "text/html": [
       "<div>\n",
       "<style scoped>\n",
       "    .dataframe tbody tr th:only-of-type {\n",
       "        vertical-align: middle;\n",
       "    }\n",
       "\n",
       "    .dataframe tbody tr th {\n",
       "        vertical-align: top;\n",
       "    }\n",
       "\n",
       "    .dataframe thead th {\n",
       "        text-align: right;\n",
       "    }\n",
       "</style>\n",
       "<table border=\"1\" class=\"dataframe\">\n",
       "  <thead>\n",
       "    <tr style=\"text-align: right;\">\n",
       "      <th></th>\n",
       "      <th>display_name</th>\n",
       "      <th>count</th>\n",
       "    </tr>\n",
       "  </thead>\n",
       "  <tbody>\n",
       "    <tr>\n",
       "      <th>0</th>\n",
       "      <td>0124816</td>\n",
       "      <td>1</td>\n",
       "    </tr>\n",
       "    <tr>\n",
       "      <th>1</th>\n",
       "      <td>0bytes</td>\n",
       "      <td>1</td>\n",
       "    </tr>\n",
       "    <tr>\n",
       "      <th>2</th>\n",
       "      <td>1077</td>\n",
       "      <td>1</td>\n",
       "    </tr>\n",
       "    <tr>\n",
       "      <th>3</th>\n",
       "      <td>108</td>\n",
       "      <td>1</td>\n",
       "    </tr>\n",
       "    <tr>\n",
       "      <th>4</th>\n",
       "      <td>10goto10</td>\n",
       "      <td>1</td>\n",
       "    </tr>\n",
       "    <tr>\n",
       "      <th>...</th>\n",
       "      <td>...</td>\n",
       "      <td>...</td>\n",
       "    </tr>\n",
       "    <tr>\n",
       "      <th>13046</th>\n",
       "      <td>Željko Filipin</td>\n",
       "      <td>1</td>\n",
       "    </tr>\n",
       "    <tr>\n",
       "      <th>13047</th>\n",
       "      <td>Željko Živković</td>\n",
       "      <td>1</td>\n",
       "    </tr>\n",
       "    <tr>\n",
       "      <th>13048</th>\n",
       "      <td>ʞɔıu</td>\n",
       "      <td>1</td>\n",
       "    </tr>\n",
       "    <tr>\n",
       "      <th>13049</th>\n",
       "      <td>λ Jonas Gorauskas</td>\n",
       "      <td>1</td>\n",
       "    </tr>\n",
       "    <tr>\n",
       "      <th>13050</th>\n",
       "      <td>None</td>\n",
       "      <td>1</td>\n",
       "    </tr>\n",
       "  </tbody>\n",
       "</table>\n",
       "<p>13051 rows × 2 columns</p>\n",
       "</div>"
      ],
      "text/plain": [
       "            display_name  count\n",
       "0                0124816      1\n",
       "1                 0bytes      1\n",
       "2                   1077      1\n",
       "3                    108      1\n",
       "4               10goto10      1\n",
       "...                  ...    ...\n",
       "13046     Željko Filipin      1\n",
       "13047    Željko Živković      1\n",
       "13048               ʞɔıu      1\n",
       "13049  λ Jonas Gorauskas      1\n",
       "13050               None      1\n",
       "\n",
       "[13051 rows x 2 columns]"
      ]
     },
     "execution_count": 19,
     "metadata": {},
     "output_type": "execute_result"
    }
   ],
   "source": [
    "sample_df_2_1"
   ]
  },
  {
   "cell_type": "code",
   "execution_count": 20,
   "metadata": {},
   "outputs": [
    {
     "data": {
      "text/plain": [
       "array([ 1,  4, 11,  8,  2, 13,  5,  3, 10, 17,  9, 15, 29, 21,  7, 19, 12,\n",
       "        6, 16, 18])"
      ]
     },
     "execution_count": 20,
     "metadata": {},
     "output_type": "execute_result"
    }
   ],
   "source": [
    "sample_df_2_1['count'].unique()"
   ]
  },
  {
   "cell_type": "markdown",
   "metadata": {},
   "source": [
    "Как видно из данных вшые, аномалии могут быть в одинаковых именах у пользователей с разными id."
   ]
  },
  {
   "cell_type": "markdown",
   "metadata": {
    "id": "JhM2xXj5DWKu"
   },
   "source": [
    "# Задание 3"
   ]
  },
  {
   "cell_type": "markdown",
   "metadata": {
    "id": "IS6xPqyyDWKu"
   },
   "source": [
    "Выведите количество постов за 2008 год по месяцам. Отберите посты от пользователей, которые зарегистрировались в сентябре 2008 года и сделали хотя бы один пост в декабре того же года. Отсортируйте таблицу по значению месяца по убыванию."
   ]
  },
  {
   "cell_type": "markdown",
   "metadata": {
    "id": "WmjhjV2xDWKv"
   },
   "source": [
    "| month | count |\n",
    "| ------|------ |\n",
    "| 2008-12-01 | 17641 |\n",
    "| 2008-11-01 | 18294 |\n",
    "| ... | ... |"
   ]
  },
  {
   "cell_type": "code",
   "execution_count": 22,
   "metadata": {
    "id": "kVu0FB8WDWKv"
   },
   "outputs": [],
   "source": [
    "# напишите запрос\n",
    "query_3 = '''\n",
    "SELECT DISTINCT DATE_TRUNC('month', creation_date)::date,\n",
    "                COUNT(id) OVER (PARTITION BY DATE_TRUNC('month', creation_date::date))\n",
    "FROM stackoverflow.posts\n",
    "WHERE user_id in\n",
    "    (SELECT t1.id\n",
    "     FROM stackoverflow.posts AS t2\n",
    "     INNER JOIN stackoverflow.users AS t1 ON t2.user_id = t1.id\n",
    "     WHERE t1.creation_date::date BETWEEN '2008-09-01' AND '2008-09-30'\n",
    "       AND t2.creation_date::date BETWEEN '2008-12-01' AND '2008-12-31')\n",
    "ORDER BY DATE_TRUNC('month', creation_date)::date DESC\n",
    "'''\n",
    "\n",
    "# выполните запрос"
   ]
  },
  {
   "cell_type": "code",
   "execution_count": 23,
   "metadata": {},
   "outputs": [],
   "source": [
    "sample_df_3 = pd.read_sql_query(query_3, con=engine) "
   ]
  },
  {
   "cell_type": "code",
   "execution_count": 24,
   "metadata": {},
   "outputs": [
    {
     "data": {
      "text/html": [
       "<div>\n",
       "<style scoped>\n",
       "    .dataframe tbody tr th:only-of-type {\n",
       "        vertical-align: middle;\n",
       "    }\n",
       "\n",
       "    .dataframe tbody tr th {\n",
       "        vertical-align: top;\n",
       "    }\n",
       "\n",
       "    .dataframe thead th {\n",
       "        text-align: right;\n",
       "    }\n",
       "</style>\n",
       "<table border=\"1\" class=\"dataframe\">\n",
       "  <thead>\n",
       "    <tr style=\"text-align: right;\">\n",
       "      <th></th>\n",
       "      <th>date_trunc</th>\n",
       "      <th>count</th>\n",
       "    </tr>\n",
       "  </thead>\n",
       "  <tbody>\n",
       "    <tr>\n",
       "      <th>0</th>\n",
       "      <td>2008-12-01</td>\n",
       "      <td>17641</td>\n",
       "    </tr>\n",
       "    <tr>\n",
       "      <th>1</th>\n",
       "      <td>2008-11-01</td>\n",
       "      <td>18294</td>\n",
       "    </tr>\n",
       "    <tr>\n",
       "      <th>2</th>\n",
       "      <td>2008-10-01</td>\n",
       "      <td>27171</td>\n",
       "    </tr>\n",
       "    <tr>\n",
       "      <th>3</th>\n",
       "      <td>2008-09-01</td>\n",
       "      <td>24870</td>\n",
       "    </tr>\n",
       "    <tr>\n",
       "      <th>4</th>\n",
       "      <td>2008-08-01</td>\n",
       "      <td>32</td>\n",
       "    </tr>\n",
       "  </tbody>\n",
       "</table>\n",
       "</div>"
      ],
      "text/plain": [
       "   date_trunc  count\n",
       "0  2008-12-01  17641\n",
       "1  2008-11-01  18294\n",
       "2  2008-10-01  27171\n",
       "3  2008-09-01  24870\n",
       "4  2008-08-01     32"
      ]
     },
     "execution_count": 24,
     "metadata": {},
     "output_type": "execute_result"
    }
   ],
   "source": [
    "sample_df_3"
   ]
  },
  {
   "cell_type": "markdown",
   "metadata": {
    "id": "Vnxn9DVHDWKx"
   },
   "source": [
    "Изучите данные: есть ли в них аномалии? Предположите, почему могли появиться аномальные значения."
   ]
  },
  {
   "cell_type": "code",
   "execution_count": 25,
   "metadata": {
    "id": "MMVIz4yMlKpN"
   },
   "outputs": [
    {
     "data": {
      "text/plain": [
       "Index(['date_trunc', 'count'], dtype='object')"
      ]
     },
     "execution_count": 25,
     "metadata": {},
     "output_type": "execute_result"
    }
   ],
   "source": [
    "# напишите ваш ответ здесь\n",
    "sample_df_3.columns"
   ]
  },
  {
   "cell_type": "code",
   "execution_count": 26,
   "metadata": {},
   "outputs": [
    {
     "data": {
      "text/plain": [
       "<AxesSubplot:>"
      ]
     },
     "execution_count": 26,
     "metadata": {},
     "output_type": "execute_result"
    },
    {
     "data": {
      "image/png": "[encoded data removed]",
      "text/plain": [
       "<Figure size 432x288 with 1 Axes>"
      ]
     },
     "metadata": {
      "needs_background": "light"
     },
     "output_type": "display_data"
    }
   ],
   "source": [
    "sample_df_3['count'].hist(bins=15)"
   ]
  },
  {
   "cell_type": "markdown",
   "metadata": {},
   "source": [
    "Как видно из таблицы выше, наименьшее количество постов пользователей, зарегистрированных в сентябре 2008 года, было в августе 2008 года. Что может свидетельствовать либо о некорректных данных о дате регистрации/дате публикации поста, либо о том, что зарегистрированные пользователи оставляли посты до момента регистрации. "
   ]
  },
  {
   "cell_type": "markdown",
   "metadata": {
    "id": "5Pcizm0DDWKz"
   },
   "source": [
    "# Задание 4"
   ]
  },
  {
   "cell_type": "markdown",
   "metadata": {
    "id": "KUZPF6vHDWKz"
   },
   "source": [
    "Используя данные о постах, выведите несколько полей:\n",
    "\n",
    "- идентификатор пользователя, который написал пост;\n",
    "- дата создания поста;\n",
    "- количество просмотров у текущего поста;\n",
    "- сумму просмотров постов автора с накоплением.\n",
    "\n",
    "Данные в таблице должны быть отсортированы по возрастанию идентификаторов пользователей, а данные об одном и том же пользователе — по возрастанию даты создания поста."
   ]
  },
  {
   "cell_type": "markdown",
   "metadata": {
    "id": "ZpsTUVDYDWK0"
   },
   "source": [
    "| user_id | creation_date | views_count | cumulative_count |\n",
    "| ------ | -------------- | ----------- | ---------------- |\n",
    "| 1 | 2008-07-31 23:41:00  | 480476   | 480476  |\n",
    "| 1 | 2008-07-31 23:55:38  | 136033 | 616509  | \n",
    "| 1 | 2008-07-31 23:56:41  | 0 |  616509  |\n",
    "| ... | ... | ... | ... |\n",
    "| 2 | 2008-07-31 23:56:41 | 79087  | 79087 |\n",
    "| 2 | 2008-08-01 05:09:56 | 65443 | 144530 |\n",
    "| ... | ...  | ...  | ...  |"
   ]
  },
  {
   "cell_type": "code",
   "execution_count": 27,
   "metadata": {
    "id": "hDoJhMzfDWK0"
   },
   "outputs": [],
   "source": [
    "# напишите запрос\n",
    "query_4= '''\n",
    "SELECT user_id,\n",
    "           creation_date,\n",
    "           views_count,\n",
    "           SUM(views_count) OVER (PARTITION BY user_id ORDER BY creation_date ) AS cumulative_count\n",
    "       \n",
    "FROM stackoverflow.posts  \n",
    "ORDER BY user_id, creation_date\n",
    "\n",
    "'''\n",
    "\n",
    "# выполните запрос"
   ]
  },
  {
   "cell_type": "code",
   "execution_count": 28,
   "metadata": {},
   "outputs": [],
   "source": [
    "sample_df_4 = pd.read_sql_query(query_4, con=engine) "
   ]
  },
  {
   "cell_type": "code",
   "execution_count": 29,
   "metadata": {},
   "outputs": [
    {
     "data": {
      "text/html": [
       "<div>\n",
       "<style scoped>\n",
       "    .dataframe tbody tr th:only-of-type {\n",
       "        vertical-align: middle;\n",
       "    }\n",
       "\n",
       "    .dataframe tbody tr th {\n",
       "        vertical-align: top;\n",
       "    }\n",
       "\n",
       "    .dataframe thead th {\n",
       "        text-align: right;\n",
       "    }\n",
       "</style>\n",
       "<table border=\"1\" class=\"dataframe\">\n",
       "  <thead>\n",
       "    <tr style=\"text-align: right;\">\n",
       "      <th></th>\n",
       "      <th>user_id</th>\n",
       "      <th>creation_date</th>\n",
       "      <th>views_count</th>\n",
       "      <th>cumulative_count</th>\n",
       "    </tr>\n",
       "  </thead>\n",
       "  <tbody>\n",
       "    <tr>\n",
       "      <th>0</th>\n",
       "      <td>1</td>\n",
       "      <td>2008-07-31 23:41:00</td>\n",
       "      <td>480476</td>\n",
       "      <td>480476</td>\n",
       "    </tr>\n",
       "    <tr>\n",
       "      <th>1</th>\n",
       "      <td>1</td>\n",
       "      <td>2008-07-31 23:55:38</td>\n",
       "      <td>136033</td>\n",
       "      <td>616509</td>\n",
       "    </tr>\n",
       "    <tr>\n",
       "      <th>2</th>\n",
       "      <td>1</td>\n",
       "      <td>2008-07-31 23:56:41</td>\n",
       "      <td>0</td>\n",
       "      <td>616509</td>\n",
       "    </tr>\n",
       "    <tr>\n",
       "      <th>3</th>\n",
       "      <td>1</td>\n",
       "      <td>2008-08-04 02:45:08</td>\n",
       "      <td>0</td>\n",
       "      <td>616509</td>\n",
       "    </tr>\n",
       "    <tr>\n",
       "      <th>4</th>\n",
       "      <td>1</td>\n",
       "      <td>2008-08-04 04:31:03</td>\n",
       "      <td>0</td>\n",
       "      <td>616509</td>\n",
       "    </tr>\n",
       "    <tr>\n",
       "      <th>...</th>\n",
       "      <td>...</td>\n",
       "      <td>...</td>\n",
       "      <td>...</td>\n",
       "      <td>...</td>\n",
       "    </tr>\n",
       "    <tr>\n",
       "      <th>243791</th>\n",
       "      <td>5696608</td>\n",
       "      <td>2008-12-23 16:00:37</td>\n",
       "      <td>0</td>\n",
       "      <td>2804</td>\n",
       "    </tr>\n",
       "    <tr>\n",
       "      <th>243792</th>\n",
       "      <td>5696608</td>\n",
       "      <td>2008-12-23 17:35:09</td>\n",
       "      <td>0</td>\n",
       "      <td>2804</td>\n",
       "    </tr>\n",
       "    <tr>\n",
       "      <th>243793</th>\n",
       "      <td>5696608</td>\n",
       "      <td>2008-12-24 01:02:48</td>\n",
       "      <td>0</td>\n",
       "      <td>2804</td>\n",
       "    </tr>\n",
       "    <tr>\n",
       "      <th>243794</th>\n",
       "      <td>5696608</td>\n",
       "      <td>2008-12-30 14:34:45</td>\n",
       "      <td>0</td>\n",
       "      <td>2804</td>\n",
       "    </tr>\n",
       "    <tr>\n",
       "      <th>243795</th>\n",
       "      <td>5696608</td>\n",
       "      <td>2008-12-30 16:32:12</td>\n",
       "      <td>0</td>\n",
       "      <td>2804</td>\n",
       "    </tr>\n",
       "  </tbody>\n",
       "</table>\n",
       "<p>243796 rows × 4 columns</p>\n",
       "</div>"
      ],
      "text/plain": [
       "        user_id       creation_date  views_count  cumulative_count\n",
       "0             1 2008-07-31 23:41:00       480476            480476\n",
       "1             1 2008-07-31 23:55:38       136033            616509\n",
       "2             1 2008-07-31 23:56:41            0            616509\n",
       "3             1 2008-08-04 02:45:08            0            616509\n",
       "4             1 2008-08-04 04:31:03            0            616509\n",
       "...         ...                 ...          ...               ...\n",
       "243791  5696608 2008-12-23 16:00:37            0              2804\n",
       "243792  5696608 2008-12-23 17:35:09            0              2804\n",
       "243793  5696608 2008-12-24 01:02:48            0              2804\n",
       "243794  5696608 2008-12-30 14:34:45            0              2804\n",
       "243795  5696608 2008-12-30 16:32:12            0              2804\n",
       "\n",
       "[243796 rows x 4 columns]"
      ]
     },
     "execution_count": 29,
     "metadata": {},
     "output_type": "execute_result"
    }
   ],
   "source": [
    "sample_df_4"
   ]
  },
  {
   "cell_type": "markdown",
   "metadata": {
    "id": "N0kHRHvIDWK2"
   },
   "source": [
    "# Задание 5"
   ]
  },
  {
   "cell_type": "markdown",
   "metadata": {
    "id": "gBgvmPtODWK2"
   },
   "source": [
    "Найдите среднее количество постов пользователей в день за август 2008 года. Отберите данные о пользователях, которые опубликовали больше 120 постов за август. Дни без публикаций не учитывайте. \n",
    "\n",
    "Отсортируйте результат по возрастанию среднего количества постов. Значения можно не округлять."
   ]
  },
  {
   "cell_type": "markdown",
   "metadata": {
    "id": "nfzR08BODWK3"
   },
   "source": [
    "| user_id | avg_daily |\n",
    "| ------- | --------- |\n",
    "| 116     | 4.777778  |\n",
    "| 234     | 5.208333  |\n",
    "| ...     | ... |"
   ]
  },
  {
   "cell_type": "code",
   "execution_count": 30,
   "metadata": {
    "id": "YFyPNz5GDWK3"
   },
   "outputs": [],
   "source": [
    "# напишите запрос\n",
    "query_5 = '''\n",
    "\n",
    "    WITH POSTS AS (WITH TOP_ID AS (\n",
    "        WITH TBL AS (SELECT user_id id,\n",
    "        count(*) as count\n",
    "        FROM stackoverflow.posts\n",
    "        WHERE creation_date BETWEEN '2008-08-01' AND '2008-09-01'\n",
    "        GROUP BY user_id\n",
    "        ORDER BY count DESC)\n",
    "\n",
    "        SELECT id\n",
    "        FROM TBL\n",
    "        WHERE count>120\n",
    "    )\n",
    "\n",
    "    SELECT user_id AS id, \n",
    "           DATE_TRUNC('day', CAST(creation_date AS date)) AS day,\n",
    "           count(id)\n",
    "    FROM stackoverflow.posts\n",
    "    WHERE creation_date BETWEEN '2008-08-01' AND '2008-09-01'\n",
    "    AND user_id IN (SELECT * FROM TOP_ID)\n",
    "    GROUP BY user_id, DATE_TRUNC('day', CAST(creation_date AS date))\n",
    "    )\n",
    "SELECT ID, AVG(count)\n",
    "FROM POSTS\n",
    "GROUP BY ID \n",
    "\n",
    "'''\n",
    "\n",
    "\n",
    "# выполните запрос"
   ]
  },
  {
   "cell_type": "code",
   "execution_count": 31,
   "metadata": {},
   "outputs": [],
   "source": [
    "sample_df_5 = pd.read_sql_query(query_5, con=engine) \n"
   ]
  },
  {
   "cell_type": "code",
   "execution_count": 32,
   "metadata": {},
   "outputs": [
    {
     "data": {
      "text/html": [
       "<div>\n",
       "<style scoped>\n",
       "    .dataframe tbody tr th:only-of-type {\n",
       "        vertical-align: middle;\n",
       "    }\n",
       "\n",
       "    .dataframe tbody tr th {\n",
       "        vertical-align: top;\n",
       "    }\n",
       "\n",
       "    .dataframe thead th {\n",
       "        text-align: right;\n",
       "    }\n",
       "</style>\n",
       "<table border=\"1\" class=\"dataframe\">\n",
       "  <thead>\n",
       "    <tr style=\"text-align: right;\">\n",
       "      <th></th>\n",
       "      <th>id</th>\n",
       "      <th>avg</th>\n",
       "    </tr>\n",
       "  </thead>\n",
       "  <tbody>\n",
       "    <tr>\n",
       "      <th>0</th>\n",
       "      <td>116</td>\n",
       "      <td>4.777778</td>\n",
       "    </tr>\n",
       "    <tr>\n",
       "      <th>1</th>\n",
       "      <td>905</td>\n",
       "      <td>7.000000</td>\n",
       "    </tr>\n",
       "    <tr>\n",
       "      <th>2</th>\n",
       "      <td>91</td>\n",
       "      <td>5.681818</td>\n",
       "    </tr>\n",
       "    <tr>\n",
       "      <th>3</th>\n",
       "      <td>383</td>\n",
       "      <td>7.277778</td>\n",
       "    </tr>\n",
       "    <tr>\n",
       "      <th>4</th>\n",
       "      <td>234</td>\n",
       "      <td>5.208333</td>\n",
       "    </tr>\n",
       "  </tbody>\n",
       "</table>\n",
       "</div>"
      ],
      "text/plain": [
       "    id       avg\n",
       "0  116  4.777778\n",
       "1  905  7.000000\n",
       "2   91  5.681818\n",
       "3  383  7.277778\n",
       "4  234  5.208333"
      ]
     },
     "execution_count": 32,
     "metadata": {},
     "output_type": "execute_result"
    }
   ],
   "source": [
    "sample_df_5.head(15)"
   ]
  },
  {
   "cell_type": "markdown",
   "metadata": {
    "id": "EQ0dcFH4DWK5"
   },
   "source": [
    "# Задание 6"
   ]
  },
  {
   "cell_type": "markdown",
   "metadata": {
    "id": "c7flfg_hDWK5"
   },
   "source": [
    "Сколько в среднем дней в период с 1 по 7 декабря 2008 года пользователи взаимодействовали с платформой? Для каждого пользователя отберите дни, в которые он или она опубликовали хотя бы один пост. Нужно получить одно целое число — не забудьте округлить результат. "
   ]
  },
  {
   "cell_type": "markdown",
   "metadata": {
    "id": "RC1Ibzm9DWK6"
   },
   "source": [
    "| result |\n",
    "| -----  |\n",
    "| <целое число> |"
   ]
  },
  {
   "cell_type": "code",
   "execution_count": 33,
   "metadata": {
    "id": "kZ7LXTr6DWK6"
   },
   "outputs": [],
   "source": [
    "# напишите запрос\n",
    "query_6 = '''\n",
    "WITH t2 AS (\n",
    "    with t1 AS (\n",
    "    select user_id,\n",
    "    DATE_TRUNC('day', creation_date)::date,\n",
    "    COUNT(id)\n",
    "\n",
    "    FROM stackoverflow.posts\n",
    "    WHERE creation_date::date BETWEEN '2008-12-01' and '2008-12-07'\n",
    "    GROUP BY user_id, DATE_TRUNC('day', creation_date)::date\n",
    "    )\n",
    "\n",
    "    SELECT user_id,\n",
    "    COUNT(date_trunc) AS days_count\n",
    "    FROM t1\n",
    "    GROUP BY user_id\n",
    ")\n",
    "\n",
    "SELECT ROUND(AVG(days_count))\n",
    "FROM t2\n",
    "'''\n",
    "\n",
    "# выполните запрос"
   ]
  },
  {
   "cell_type": "code",
   "execution_count": 34,
   "metadata": {},
   "outputs": [],
   "source": [
    "sample_df_6 = pd.read_sql_query(query_6, con=engine) "
   ]
  },
  {
   "cell_type": "code",
   "execution_count": 35,
   "metadata": {},
   "outputs": [
    {
     "data": {
      "text/html": [
       "<div>\n",
       "<style scoped>\n",
       "    .dataframe tbody tr th:only-of-type {\n",
       "        vertical-align: middle;\n",
       "    }\n",
       "\n",
       "    .dataframe tbody tr th {\n",
       "        vertical-align: top;\n",
       "    }\n",
       "\n",
       "    .dataframe thead th {\n",
       "        text-align: right;\n",
       "    }\n",
       "</style>\n",
       "<table border=\"1\" class=\"dataframe\">\n",
       "  <thead>\n",
       "    <tr style=\"text-align: right;\">\n",
       "      <th></th>\n",
       "      <th>round</th>\n",
       "    </tr>\n",
       "  </thead>\n",
       "  <tbody>\n",
       "    <tr>\n",
       "      <th>0</th>\n",
       "      <td>2.0</td>\n",
       "    </tr>\n",
       "  </tbody>\n",
       "</table>\n",
       "</div>"
      ],
      "text/plain": [
       "   round\n",
       "0    2.0"
      ]
     },
     "execution_count": 35,
     "metadata": {},
     "output_type": "execute_result"
    }
   ],
   "source": [
    "sample_df_6"
   ]
  },
  {
   "cell_type": "markdown",
   "metadata": {
    "id": "UJFtNNggDWK7"
   },
   "source": [
    "Проанализируйте итоговую таблицу — какие выводы можно сделать?"
   ]
  },
  {
   "cell_type": "markdown",
   "metadata": {},
   "source": [
    "В первую неделю декабря 2008 года пользовтаели в среднем взаимодействовали с платформой 2 дня за неделю."
   ]
  },
  {
   "cell_type": "markdown",
   "metadata": {
    "id": "wfOmqmfLDWK8"
   },
   "source": [
    "# Задание 7"
   ]
  },
  {
   "cell_type": "markdown",
   "metadata": {
    "id": "X4ARQimADWK9"
   },
   "source": [
    "Выведите историю активности каждого пользователя в таком виде: идентификатор пользователя, дата публикации поста. Отсортируйте вывод по возрастанию идентификаторов пользователей, а для каждого пользователя — по возрастанию даты публикации.\n",
    "\n",
    "Добавьте в таблицу новое поле: для каждого поста в нём будет указано название месяца предпоследней публикации пользователя относительно текущей. Если такой публикации нет, укажите `NULL`.  Python автоматически поменяет `NULL` на `None`, но дополнительно преобразовывать значения `None` вам не нужно.\n",
    "\n",
    "Посмотрите внимательно на образец таблицы: для первых двух постов предпоследней публикации нет, но, начиная с третьего поста, в новое поле входит нужный месяц. Для следующего пользователя в первые две записи поля `second_last_month` тоже войдёт `NULL`."
   ]
  },
  {
   "cell_type": "markdown",
   "metadata": {
    "id": "IGPjRP01DWK9"
   },
   "source": [
    "| user_id | creation_date | second_last_month |\n",
    "| ------- | ------------- | ----------------- |\n",
    "| 1       | 2008-07-31 23:41:00 | None |\n",
    "| 1       | 2008-07-31 23:55:38 | None |\n",
    "| 1       | 2008-07-31 23:56:41 | July |\n",
    "| 1       | 2008-08-04 02:45:08 | July |\n",
    "| 1       | 2008-08-04 04:31:03 | July |\n",
    "| 1       | 2008-08-04 08:04:42 | August |\n",
    "| ... | ... | ... |"
   ]
  },
  {
   "cell_type": "code",
   "execution_count": 37,
   "metadata": {
    "id": "HzI1vhaMDWK-"
   },
   "outputs": [],
   "source": [
    "# напишите запрос\n",
    "query_7 = '''\n",
    "WITH t1 AS (\n",
    "    SELECT user_id,\n",
    "        creation_date,\n",
    "        LAG(extract(MONTH from creation_date), 2, NULL) OVER (PARTITION BY user_id ORDER BY creatioN_date) AS creation_date_lag         \n",
    "    FROM stackoverflow.posts\n",
    ")\n",
    "\n",
    "SELECT user_id,\n",
    "       creation_date,\n",
    "       case\n",
    "           when creation_date_lag = 1.0 then 'January'\n",
    "           when creation_date_lag = 2.0 then 'Febrary'\n",
    "           when creation_date_lag = 3.0 then 'March'\n",
    "           when creation_date_lag = 4.0 then 'April'\n",
    "           when creation_date_lag = 5.0 then 'May'\n",
    "           when creation_date_lag = 6.0 then 'June'\n",
    "           when creation_date_lag = 7.0 then 'July'\n",
    "           when creation_date_lag = 8.0 then 'August'\n",
    "           when creation_date_lag = 9.0 then 'September'\n",
    "           when creation_date_lag = 10.0 then 'October'\n",
    "           when creation_date_lag = 11.0 then 'November'\n",
    "           when creation_date_lag = 12.0 then 'December'\n",
    "           else 'None'\n",
    "       END AS second_last_month\n",
    "FROM t1       \n",
    "'''\n",
    "\n",
    "# выполните запрос"
   ]
  },
  {
   "cell_type": "code",
   "execution_count": 38,
   "metadata": {},
   "outputs": [],
   "source": [
    "sample_df_7 = pd.read_sql_query(query_7, con=engine) "
   ]
  },
  {
   "cell_type": "code",
   "execution_count": 39,
   "metadata": {},
   "outputs": [
    {
     "data": {
      "text/html": [
       "<div>\n",
       "<style scoped>\n",
       "    .dataframe tbody tr th:only-of-type {\n",
       "        vertical-align: middle;\n",
       "    }\n",
       "\n",
       "    .dataframe tbody tr th {\n",
       "        vertical-align: top;\n",
       "    }\n",
       "\n",
       "    .dataframe thead th {\n",
       "        text-align: right;\n",
       "    }\n",
       "</style>\n",
       "<table border=\"1\" class=\"dataframe\">\n",
       "  <thead>\n",
       "    <tr style=\"text-align: right;\">\n",
       "      <th></th>\n",
       "      <th>user_id</th>\n",
       "      <th>creation_date</th>\n",
       "      <th>second_last_month</th>\n",
       "    </tr>\n",
       "  </thead>\n",
       "  <tbody>\n",
       "    <tr>\n",
       "      <th>0</th>\n",
       "      <td>1</td>\n",
       "      <td>2008-07-31 23:41:00</td>\n",
       "      <td>None</td>\n",
       "    </tr>\n",
       "    <tr>\n",
       "      <th>1</th>\n",
       "      <td>1</td>\n",
       "      <td>2008-07-31 23:55:38</td>\n",
       "      <td>None</td>\n",
       "    </tr>\n",
       "    <tr>\n",
       "      <th>2</th>\n",
       "      <td>1</td>\n",
       "      <td>2008-07-31 23:56:41</td>\n",
       "      <td>July</td>\n",
       "    </tr>\n",
       "    <tr>\n",
       "      <th>3</th>\n",
       "      <td>1</td>\n",
       "      <td>2008-08-04 02:45:08</td>\n",
       "      <td>July</td>\n",
       "    </tr>\n",
       "    <tr>\n",
       "      <th>4</th>\n",
       "      <td>1</td>\n",
       "      <td>2008-08-04 04:31:03</td>\n",
       "      <td>July</td>\n",
       "    </tr>\n",
       "    <tr>\n",
       "      <th>...</th>\n",
       "      <td>...</td>\n",
       "      <td>...</td>\n",
       "      <td>...</td>\n",
       "    </tr>\n",
       "    <tr>\n",
       "      <th>243791</th>\n",
       "      <td>5696608</td>\n",
       "      <td>2008-12-23 16:00:37</td>\n",
       "      <td>December</td>\n",
       "    </tr>\n",
       "    <tr>\n",
       "      <th>243792</th>\n",
       "      <td>5696608</td>\n",
       "      <td>2008-12-23 17:35:09</td>\n",
       "      <td>December</td>\n",
       "    </tr>\n",
       "    <tr>\n",
       "      <th>243793</th>\n",
       "      <td>5696608</td>\n",
       "      <td>2008-12-24 01:02:48</td>\n",
       "      <td>December</td>\n",
       "    </tr>\n",
       "    <tr>\n",
       "      <th>243794</th>\n",
       "      <td>5696608</td>\n",
       "      <td>2008-12-30 14:34:45</td>\n",
       "      <td>December</td>\n",
       "    </tr>\n",
       "    <tr>\n",
       "      <th>243795</th>\n",
       "      <td>5696608</td>\n",
       "      <td>2008-12-30 16:32:12</td>\n",
       "      <td>December</td>\n",
       "    </tr>\n",
       "  </tbody>\n",
       "</table>\n",
       "<p>243796 rows × 3 columns</p>\n",
       "</div>"
      ],
      "text/plain": [
       "        user_id       creation_date second_last_month\n",
       "0             1 2008-07-31 23:41:00              None\n",
       "1             1 2008-07-31 23:55:38              None\n",
       "2             1 2008-07-31 23:56:41              July\n",
       "3             1 2008-08-04 02:45:08              July\n",
       "4             1 2008-08-04 04:31:03              July\n",
       "...         ...                 ...               ...\n",
       "243791  5696608 2008-12-23 16:00:37          December\n",
       "243792  5696608 2008-12-23 17:35:09          December\n",
       "243793  5696608 2008-12-24 01:02:48          December\n",
       "243794  5696608 2008-12-30 14:34:45          December\n",
       "243795  5696608 2008-12-30 16:32:12          December\n",
       "\n",
       "[243796 rows x 3 columns]"
      ]
     },
     "execution_count": 39,
     "metadata": {},
     "output_type": "execute_result"
    }
   ],
   "source": [
    "sample_df_7"
   ]
  },
  {
   "cell_type": "markdown",
   "metadata": {
    "id": "tf9qq2yzDWK_"
   },
   "source": [
    "# Задание 8"
   ]
  },
  {
   "cell_type": "markdown",
   "metadata": {
    "id": "gfwLVXBYDWLA"
   },
   "source": [
    "Рассчитайте аналог Retention Rate по месяцам для пользователей StackOverflow. Объедините пользователей в когорты по месяцу их первого поста. Возвращение определяйте по наличию поста в текущем месяце. "
   ]
  },
  {
   "cell_type": "markdown",
   "metadata": {
    "id": "kN2ic39WlKpl"
   },
   "source": [
    "| cohort_dt | session_date | users_cnt | cohort_users_cnt | retention_rate |\n",
    "| --- | --- | --- | --- | --- |\n",
    "| 2008-07-01 00:00:00 | 2008-07-01 00:00:00 | 3 | 3 | 100 |\n",
    "| 2008-07-01 00:00:00 | 2008-08-01 00:00:00 | 2 | 3 | 66,67 |\n",
    "| 2008-07-01 00:00:00 | 2008-09-01 00:00:00 | 1 | 3 | 33,33 |\n",
    "| 2008-07-01 00:00:00 | 2008-10-01 00:00:00 | 2 | 3 | 66,67 |\n",
    "| 2008-07-01 00:00:00 | 2008-11-01 00:00:00 | 1 | 3 | 33,33 |\n",
    "| 2008-07-01 00:00:00 | 2008-12-01 00:00:00 | 2 | 3 | 66,67 |\n",
    "| 2008-08-01 00:00:00 | 2008-08-01 00:00:00 | 2151 | 2151 | 100 |\n",
    "| ... | ... | ... | ... | ... |"
   ]
  },
  {
   "cell_type": "code",
   "execution_count": 40,
   "metadata": {
    "id": "LUgFmwmTDWLB"
   },
   "outputs": [],
   "source": [
    "# напишите запрос\n",
    "query_8 = '''\n",
    "  WITH PROFILE AS\n",
    "  (WITH t1 AS\n",
    "     (SELECT DISTINCT user_id,\n",
    "                      min(date_trunc('month', creation_date)) OVER (PARTITION BY user_id) AS first_post\n",
    "      FROM stackoverflow.posts) \n",
    "      SELECT *,\n",
    "                           count(*) OVER (PARTITION BY first_post) AS cohort_users_cnt\n",
    "   FROM t1\n",
    "   ORDER BY user_id),\n",
    "   sessions AS\n",
    "  (SELECT user_id,\n",
    "          DATE_TRUNC('month', creation_date) AS session_date\n",
    "   FROM stackoverflow.posts\n",
    "   GROUP BY user_id,\n",
    "            DATE_TRUNC('month', creation_date)\n",
    "            )\n",
    "            \n",
    "            \n",
    "SELECT first_post AS cohort_dt,\n",
    "       session_date,\n",
    "       COUNT(p.user_id) AS users_cnt,\n",
    "       cohort_users_cnt,\n",
    "       ROUND(COUNT(p.user_id) * 100.0 / cohort_users_cnt, 2) AS retention_rate\n",
    "FROM PROFILE AS p\n",
    "INNER JOIN sessions AS s ON p.user_id = s.user_id\n",
    "GROUP BY 1,\n",
    "         2,\n",
    "         4\n",
    "'''\n",
    "# выполните запрос"
   ]
  },
  {
   "cell_type": "code",
   "execution_count": 41,
   "metadata": {},
   "outputs": [],
   "source": [
    "sample_df_8= pd.read_sql_query(query_8, con=engine) "
   ]
  },
  {
   "cell_type": "code",
   "execution_count": 42,
   "metadata": {},
   "outputs": [
    {
     "data": {
      "text/html": [
       "<div>\n",
       "<style scoped>\n",
       "    .dataframe tbody tr th:only-of-type {\n",
       "        vertical-align: middle;\n",
       "    }\n",
       "\n",
       "    .dataframe tbody tr th {\n",
       "        vertical-align: top;\n",
       "    }\n",
       "\n",
       "    .dataframe thead th {\n",
       "        text-align: right;\n",
       "    }\n",
       "</style>\n",
       "<table border=\"1\" class=\"dataframe\">\n",
       "  <thead>\n",
       "    <tr style=\"text-align: right;\">\n",
       "      <th></th>\n",
       "      <th>cohort_dt</th>\n",
       "      <th>session_date</th>\n",
       "      <th>users_cnt</th>\n",
       "      <th>cohort_users_cnt</th>\n",
       "      <th>retention_rate</th>\n",
       "    </tr>\n",
       "  </thead>\n",
       "  <tbody>\n",
       "    <tr>\n",
       "      <th>0</th>\n",
       "      <td>2008-07-01</td>\n",
       "      <td>2008-07-01</td>\n",
       "      <td>3</td>\n",
       "      <td>3</td>\n",
       "      <td>100.00</td>\n",
       "    </tr>\n",
       "    <tr>\n",
       "      <th>1</th>\n",
       "      <td>2008-07-01</td>\n",
       "      <td>2008-08-01</td>\n",
       "      <td>2</td>\n",
       "      <td>3</td>\n",
       "      <td>66.67</td>\n",
       "    </tr>\n",
       "    <tr>\n",
       "      <th>2</th>\n",
       "      <td>2008-07-01</td>\n",
       "      <td>2008-09-01</td>\n",
       "      <td>1</td>\n",
       "      <td>3</td>\n",
       "      <td>33.33</td>\n",
       "    </tr>\n",
       "    <tr>\n",
       "      <th>3</th>\n",
       "      <td>2008-07-01</td>\n",
       "      <td>2008-10-01</td>\n",
       "      <td>2</td>\n",
       "      <td>3</td>\n",
       "      <td>66.67</td>\n",
       "    </tr>\n",
       "    <tr>\n",
       "      <th>4</th>\n",
       "      <td>2008-07-01</td>\n",
       "      <td>2008-11-01</td>\n",
       "      <td>1</td>\n",
       "      <td>3</td>\n",
       "      <td>33.33</td>\n",
       "    </tr>\n",
       "    <tr>\n",
       "      <th>5</th>\n",
       "      <td>2008-07-01</td>\n",
       "      <td>2008-12-01</td>\n",
       "      <td>2</td>\n",
       "      <td>3</td>\n",
       "      <td>66.67</td>\n",
       "    </tr>\n",
       "    <tr>\n",
       "      <th>6</th>\n",
       "      <td>2008-08-01</td>\n",
       "      <td>2008-08-01</td>\n",
       "      <td>2151</td>\n",
       "      <td>2151</td>\n",
       "      <td>100.00</td>\n",
       "    </tr>\n",
       "    <tr>\n",
       "      <th>7</th>\n",
       "      <td>2008-08-01</td>\n",
       "      <td>2008-09-01</td>\n",
       "      <td>1571</td>\n",
       "      <td>2151</td>\n",
       "      <td>73.04</td>\n",
       "    </tr>\n",
       "    <tr>\n",
       "      <th>8</th>\n",
       "      <td>2008-08-01</td>\n",
       "      <td>2008-10-01</td>\n",
       "      <td>1275</td>\n",
       "      <td>2151</td>\n",
       "      <td>59.27</td>\n",
       "    </tr>\n",
       "    <tr>\n",
       "      <th>9</th>\n",
       "      <td>2008-08-01</td>\n",
       "      <td>2008-11-01</td>\n",
       "      <td>1050</td>\n",
       "      <td>2151</td>\n",
       "      <td>48.81</td>\n",
       "    </tr>\n",
       "    <tr>\n",
       "      <th>10</th>\n",
       "      <td>2008-08-01</td>\n",
       "      <td>2008-12-01</td>\n",
       "      <td>894</td>\n",
       "      <td>2151</td>\n",
       "      <td>41.56</td>\n",
       "    </tr>\n",
       "    <tr>\n",
       "      <th>11</th>\n",
       "      <td>2008-09-01</td>\n",
       "      <td>2008-09-01</td>\n",
       "      <td>7678</td>\n",
       "      <td>7678</td>\n",
       "      <td>100.00</td>\n",
       "    </tr>\n",
       "    <tr>\n",
       "      <th>12</th>\n",
       "      <td>2008-09-01</td>\n",
       "      <td>2008-10-01</td>\n",
       "      <td>4132</td>\n",
       "      <td>7678</td>\n",
       "      <td>53.82</td>\n",
       "    </tr>\n",
       "    <tr>\n",
       "      <th>13</th>\n",
       "      <td>2008-09-01</td>\n",
       "      <td>2008-11-01</td>\n",
       "      <td>2966</td>\n",
       "      <td>7678</td>\n",
       "      <td>38.63</td>\n",
       "    </tr>\n",
       "    <tr>\n",
       "      <th>14</th>\n",
       "      <td>2008-09-01</td>\n",
       "      <td>2008-12-01</td>\n",
       "      <td>2500</td>\n",
       "      <td>7678</td>\n",
       "      <td>32.56</td>\n",
       "    </tr>\n",
       "    <tr>\n",
       "      <th>15</th>\n",
       "      <td>2008-10-01</td>\n",
       "      <td>2008-10-01</td>\n",
       "      <td>3629</td>\n",
       "      <td>3629</td>\n",
       "      <td>100.00</td>\n",
       "    </tr>\n",
       "    <tr>\n",
       "      <th>16</th>\n",
       "      <td>2008-10-01</td>\n",
       "      <td>2008-11-01</td>\n",
       "      <td>1640</td>\n",
       "      <td>3629</td>\n",
       "      <td>45.19</td>\n",
       "    </tr>\n",
       "    <tr>\n",
       "      <th>17</th>\n",
       "      <td>2008-10-01</td>\n",
       "      <td>2008-12-01</td>\n",
       "      <td>1221</td>\n",
       "      <td>3629</td>\n",
       "      <td>33.65</td>\n",
       "    </tr>\n",
       "    <tr>\n",
       "      <th>18</th>\n",
       "      <td>2008-11-01</td>\n",
       "      <td>2008-11-01</td>\n",
       "      <td>2852</td>\n",
       "      <td>2852</td>\n",
       "      <td>100.00</td>\n",
       "    </tr>\n",
       "    <tr>\n",
       "      <th>19</th>\n",
       "      <td>2008-11-01</td>\n",
       "      <td>2008-12-01</td>\n",
       "      <td>1151</td>\n",
       "      <td>2852</td>\n",
       "      <td>40.36</td>\n",
       "    </tr>\n",
       "    <tr>\n",
       "      <th>20</th>\n",
       "      <td>2008-12-01</td>\n",
       "      <td>2008-12-01</td>\n",
       "      <td>2536</td>\n",
       "      <td>2536</td>\n",
       "      <td>100.00</td>\n",
       "    </tr>\n",
       "  </tbody>\n",
       "</table>\n",
       "</div>"
      ],
      "text/plain": [
       "    cohort_dt session_date  users_cnt  cohort_users_cnt  retention_rate\n",
       "0  2008-07-01   2008-07-01          3                 3          100.00\n",
       "1  2008-07-01   2008-08-01          2                 3           66.67\n",
       "2  2008-07-01   2008-09-01          1                 3           33.33\n",
       "3  2008-07-01   2008-10-01          2                 3           66.67\n",
       "4  2008-07-01   2008-11-01          1                 3           33.33\n",
       "5  2008-07-01   2008-12-01          2                 3           66.67\n",
       "6  2008-08-01   2008-08-01       2151              2151          100.00\n",
       "7  2008-08-01   2008-09-01       1571              2151           73.04\n",
       "8  2008-08-01   2008-10-01       1275              2151           59.27\n",
       "9  2008-08-01   2008-11-01       1050              2151           48.81\n",
       "10 2008-08-01   2008-12-01        894              2151           41.56\n",
       "11 2008-09-01   2008-09-01       7678              7678          100.00\n",
       "12 2008-09-01   2008-10-01       4132              7678           53.82\n",
       "13 2008-09-01   2008-11-01       2966              7678           38.63\n",
       "14 2008-09-01   2008-12-01       2500              7678           32.56\n",
       "15 2008-10-01   2008-10-01       3629              3629          100.00\n",
       "16 2008-10-01   2008-11-01       1640              3629           45.19\n",
       "17 2008-10-01   2008-12-01       1221              3629           33.65\n",
       "18 2008-11-01   2008-11-01       2852              2852          100.00\n",
       "19 2008-11-01   2008-12-01       1151              2852           40.36\n",
       "20 2008-12-01   2008-12-01       2536              2536          100.00"
      ]
     },
     "execution_count": 42,
     "metadata": {},
     "output_type": "execute_result"
    }
   ],
   "source": [
    "sample_df_8"
   ]
  },
  {
   "cell_type": "markdown",
   "metadata": {
    "id": "_msBtnb2DWLC"
   },
   "source": [
    "Постройте тепловую карту Retention Rate. Какие аномалии или другие необычные явления удалось выявить? Сформулируйте гипотезы о возможных причинах."
   ]
  },
  {
   "cell_type": "code",
   "execution_count": 43,
   "metadata": {
    "id": "qAEJc8H1DWLC"
   },
   "outputs": [
    {
     "data": {
      "image/png": "[encoded data removed]",
      "text/plain": [
       "<Figure size 1152x1152 with 2 Axes>"
      ]
     },
     "metadata": {
      "needs_background": "light"
     },
     "output_type": "display_data"
    }
   ],
   "source": [
    "# постройте тепловую карту Retention Rate\n",
    "# создаём сводную таблицу с результатами\n",
    "retention = sample_df_8.pivot('cohort_dt', 'session_date', 'retention_rate')\n",
    "retention.index = [str(x)[0:10] for x in retention.index]\n",
    "retention.columns = [str(x)[0:10] for x in retention.columns]\n",
    "\n",
    "# строим хитмэп\n",
    "plt.figure(figsize=(16, 16)) # задаём размер графика\n",
    "sns.heatmap(retention, # датафрейм с данными\n",
    "            annot=True, # добавляем подписи\n",
    "            fmt='') # задаём исходный формат\n",
    "plt.title('Тепловая карта') # название графика\n",
    "plt.show() "
   ]
  },
  {
   "cell_type": "markdown",
   "metadata": {},
   "source": [
    "1. В когорте пользователей, пришедших с июля по сентябрь 2008 года коэффициент удержания первого месяца больше 50%.\n",
    "2. Количество пользователей, пришедших в июле 2008 года, во 2-м и 4-м месяце после регистрации существенно снидалось,\n",
    "при этом, в 3-м и 5-м месяцах, количество пользователей восстанавливалось. Возможно это связано с тем,\n",
    "что пользователи удалялись и восстанавливались вновь.\n",
    "3. В когорте пришедших в ноябре 2008 года, самое маленькое значение Retention Rate за первый месяц."
   ]
  },
  {
   "cell_type": "markdown",
   "metadata": {
    "id": "1k7oPWt5DWLK"
   },
   "source": [
    "# Задание 9\n"
   ]
  },
  {
   "cell_type": "markdown",
   "metadata": {
    "id": "ALsYVSyRDWLM"
   },
   "source": [
    "На сколько процентов менялось количество постов ежемесячно с 1 сентября по 31 декабря 2008 года? Отобразите таблицу со следующими полями:\n",
    "\n",
    "- номер месяца;\n",
    "- количество постов за месяц;\n",
    "- процент, который показывает, насколько изменилось количество постов в текущем месяце по сравнению с предыдущим.\n",
    "\n",
    "Если постов стало меньше, значение процента должно быть отрицательным, если больше — положительным. Округлите значение процента до двух знаков после запятой.\n",
    "\n",
    "Напомним, что при делении одного целого числа на другое в PostgreSQL в результате получится целое число, округлённое до ближайшего целого вниз. Чтобы этого избежать, переведите делимое в тип `numeric`."
   ]
  },
  {
   "cell_type": "markdown",
   "metadata": {
    "id": "u4E2zF8DDWLM"
   },
   "source": [
    "| creation_month | posts_count | percentage |\n",
    "| -------------- | ----------- | ---------- |\n",
    "| 9 | 70731 | Nan |\n",
    "| 10 | 63102 | -10.33 |\n",
    "| ... | ... | ... |"
   ]
  },
  {
   "cell_type": "code",
   "execution_count": 45,
   "metadata": {
    "id": "Mb5pShStDWLN"
   },
   "outputs": [],
   "source": [
    "# напишите запрос\n",
    "query_9 = '''\n",
    "WITH t1 AS (\n",
    "    SELECT DISTINCT\n",
    "        EXTRACT(month FROM creation_date)::int AS creation_month,\n",
    "        COUNT(*) OVER (PARTITION BY EXTRACT(month FROM creation_date)) AS posts_count\n",
    "    FROM stackoverflow.posts\n",
    "    WHERE creation_date >= '01.09.2008'\n",
    "      AND creation_date <= '31.12.2008'\n",
    ")\n",
    "\n",
    "SELECT\n",
    "     creation_month,\n",
    "     posts_count,\n",
    "     ROUND( ((posts_count::float - LAG(posts_count) OVER (ORDER BY creation_month)) /\n",
    "                                                         LAG(posts_count) OVER (ORDER BY creation_month) * 100)::numeric, 2)\n",
    "FROM t1     \n",
    "'''\n",
    "\n",
    "# выполните запрос"
   ]
  },
  {
   "cell_type": "code",
   "execution_count": 46,
   "metadata": {},
   "outputs": [],
   "source": [
    "sample_df_9 = pd.read_sql_query(query_9, con=engine) "
   ]
  },
  {
   "cell_type": "code",
   "execution_count": 47,
   "metadata": {},
   "outputs": [
    {
     "data": {
      "text/html": [
       "<div>\n",
       "<style scoped>\n",
       "    .dataframe tbody tr th:only-of-type {\n",
       "        vertical-align: middle;\n",
       "    }\n",
       "\n",
       "    .dataframe tbody tr th {\n",
       "        vertical-align: top;\n",
       "    }\n",
       "\n",
       "    .dataframe thead th {\n",
       "        text-align: right;\n",
       "    }\n",
       "</style>\n",
       "<table border=\"1\" class=\"dataframe\">\n",
       "  <thead>\n",
       "    <tr style=\"text-align: right;\">\n",
       "      <th></th>\n",
       "      <th>creation_month</th>\n",
       "      <th>posts_count</th>\n",
       "      <th>round</th>\n",
       "    </tr>\n",
       "  </thead>\n",
       "  <tbody>\n",
       "    <tr>\n",
       "      <th>0</th>\n",
       "      <td>9</td>\n",
       "      <td>70371</td>\n",
       "      <td>NaN</td>\n",
       "    </tr>\n",
       "    <tr>\n",
       "      <th>1</th>\n",
       "      <td>10</td>\n",
       "      <td>63102</td>\n",
       "      <td>-10.33</td>\n",
       "    </tr>\n",
       "    <tr>\n",
       "      <th>2</th>\n",
       "      <td>11</td>\n",
       "      <td>46975</td>\n",
       "      <td>-25.56</td>\n",
       "    </tr>\n",
       "    <tr>\n",
       "      <th>3</th>\n",
       "      <td>12</td>\n",
       "      <td>44592</td>\n",
       "      <td>-5.07</td>\n",
       "    </tr>\n",
       "  </tbody>\n",
       "</table>\n",
       "</div>"
      ],
      "text/plain": [
       "   creation_month  posts_count  round\n",
       "0               9        70371    NaN\n",
       "1              10        63102 -10.33\n",
       "2              11        46975 -25.56\n",
       "3              12        44592  -5.07"
      ]
     },
     "execution_count": 47,
     "metadata": {},
     "output_type": "execute_result"
    }
   ],
   "source": [
    "sample_df_9"
   ]
  },
  {
   "cell_type": "markdown",
   "metadata": {
    "id": "9NQE2y_MDWLP"
   },
   "source": [
    "Постройте круговую диаграмму с количеством постов по месяцам."
   ]
  },
  {
   "cell_type": "code",
   "execution_count": 48,
   "metadata": {
    "id": "377ABjiVDWLP"
   },
   "outputs": [
    {
     "data": {
      "text/plain": [
       "(-1.1113450333821802,\n",
       " 1.1005402602007526,\n",
       " -1.1194443395301965,\n",
       " 1.1127112873136231)"
      ]
     },
     "execution_count": 48,
     "metadata": {},
     "output_type": "execute_result"
    },
    {
     "data": {
      "image/png": "[encoded data removed]",
      "text/plain": [
       "<Figure size 432x288 with 1 Axes>"
      ]
     },
     "metadata": {},
     "output_type": "display_data"
    }
   ],
   "source": [
    "# постройте круговую диаграмму с количеством постов по месяцам\n",
    "fig, ax = plt.subplots()\n",
    "ax.pie(sample_df_9['posts_count'], labels=sample_df_9['creation_month'], autopct='%1.1f%%', shadow=True,\n",
    "        wedgeprops={'lw':1, 'ls':'--', 'edgecolor':'k'}, rotatelabels=True)\n",
    "ax.axis('equal')"
   ]
  },
  {
   "cell_type": "markdown",
   "metadata": {
    "id": "uw7qMtafDWLP"
   },
   "source": [
    "# Задание 10"
   ]
  },
  {
   "cell_type": "markdown",
   "metadata": {
    "id": "oRBpWKx3DWLQ"
   },
   "source": [
    "Выгрузите данные активности пользователя, который опубликовал больше всего постов за всё время. Выведите данные за октябрь 2008 года в таком виде:\n",
    "\n",
    "- номер недели;\n",
    "- дата и время последнего поста, опубликованного на этой неделе."
   ]
  },
  {
   "cell_type": "markdown",
   "metadata": {
    "id": "XjAWSn_3DWLQ"
   },
   "source": [
    "| week_creation | creation_date |\n",
    "| ------------- | ------------- |\n",
    "| 40 | 2008-10-05 09:00:58 |\n",
    "| 41 | 2008-10-12 21:22:23 |\n",
    "| ... | ... |"
   ]
  },
  {
   "cell_type": "code",
   "execution_count": 49,
   "metadata": {
    "id": "r5F5fSkwDWLQ"
   },
   "outputs": [],
   "source": [
    "# напишите запрос\n",
    "query_10 = '''\n",
    "WITH t1 AS (\n",
    "    SELECT user_id AS top_user,\n",
    "        COUNT(*) AS post_count \n",
    "    FROM stackoverflow.posts\n",
    "    GROUP BY user_id\n",
    "    ORDER BY post_count DESC\n",
    "    LIMIT 1   \n",
    ")\n",
    "\n",
    "SELECT\n",
    "    EXTRACT(week FROM creation_date)::int AS week_creation,\n",
    "    MAX(creation_date) AS creation_date\n",
    "FROM stackoverflow.posts\n",
    "WHERE user_id = (SELECT top_user FROM t1) AND\n",
    "      creation_date >= '01-10-2008' AND\n",
    "      creation_date <= '01-11-2008'\n",
    "GROUP BY EXTRACT(week FROM creation_date)\n",
    "\n",
    "'''\n",
    "\n",
    "# выполните запрос"
   ]
  },
  {
   "cell_type": "code",
   "execution_count": 50,
   "metadata": {},
   "outputs": [],
   "source": [
    "sample_df_10 = pd.read_sql_query(query_10, con=engine) "
   ]
  },
  {
   "cell_type": "code",
   "execution_count": 51,
   "metadata": {},
   "outputs": [
    {
     "data": {
      "text/html": [
       "<div>\n",
       "<style scoped>\n",
       "    .dataframe tbody tr th:only-of-type {\n",
       "        vertical-align: middle;\n",
       "    }\n",
       "\n",
       "    .dataframe tbody tr th {\n",
       "        vertical-align: top;\n",
       "    }\n",
       "\n",
       "    .dataframe thead th {\n",
       "        text-align: right;\n",
       "    }\n",
       "</style>\n",
       "<table border=\"1\" class=\"dataframe\">\n",
       "  <thead>\n",
       "    <tr style=\"text-align: right;\">\n",
       "      <th></th>\n",
       "      <th>week_creation</th>\n",
       "      <th>creation_date</th>\n",
       "    </tr>\n",
       "  </thead>\n",
       "  <tbody>\n",
       "    <tr>\n",
       "      <th>0</th>\n",
       "      <td>40</td>\n",
       "      <td>2008-10-05 09:00:58</td>\n",
       "    </tr>\n",
       "    <tr>\n",
       "      <th>1</th>\n",
       "      <td>41</td>\n",
       "      <td>2008-10-12 21:22:23</td>\n",
       "    </tr>\n",
       "    <tr>\n",
       "      <th>2</th>\n",
       "      <td>42</td>\n",
       "      <td>2008-10-19 06:49:30</td>\n",
       "    </tr>\n",
       "    <tr>\n",
       "      <th>3</th>\n",
       "      <td>43</td>\n",
       "      <td>2008-10-26 21:44:36</td>\n",
       "    </tr>\n",
       "    <tr>\n",
       "      <th>4</th>\n",
       "      <td>44</td>\n",
       "      <td>2008-10-31 22:16:01</td>\n",
       "    </tr>\n",
       "  </tbody>\n",
       "</table>\n",
       "</div>"
      ],
      "text/plain": [
       "   week_creation       creation_date\n",
       "0             40 2008-10-05 09:00:58\n",
       "1             41 2008-10-12 21:22:23\n",
       "2             42 2008-10-19 06:49:30\n",
       "3             43 2008-10-26 21:44:36\n",
       "4             44 2008-10-31 22:16:01"
      ]
     },
     "execution_count": 51,
     "metadata": {},
     "output_type": "execute_result"
    }
   ],
   "source": [
    "sample_df_10"
   ]
  }
 ],
 "metadata": {
  "ExecuteTimeLog": [
   {
    "duration": 14,
    "start_time": "2022-05-22T17:08:22.514Z"
   },
   {
    "duration": 62,
    "start_time": "2022-05-22T17:08:24.634Z"
   },
   {
    "duration": 1511,
    "start_time": "2022-05-22T17:08:30.755Z"
   },
   {
    "duration": 3,
    "start_time": "2022-05-22T17:08:32.268Z"
   },
   {
    "duration": 194,
    "start_time": "2022-05-22T17:08:32.273Z"
   },
   {
    "duration": 109,
    "start_time": "2022-05-22T17:08:32.470Z"
   },
   {
    "duration": 15,
    "start_time": "2022-05-22T17:08:32.580Z"
   },
   {
    "duration": 2,
    "start_time": "2022-05-22T17:08:32.597Z"
   },
   {
    "duration": 5,
    "start_time": "2022-05-22T17:08:32.601Z"
   },
   {
    "duration": 13,
    "start_time": "2022-05-22T17:08:32.608Z"
   },
   {
    "duration": 7,
    "start_time": "2022-05-22T17:08:32.625Z"
   },
   {
    "duration": 4,
    "start_time": "2022-05-22T17:08:32.635Z"
   },
   {
    "duration": 6,
    "start_time": "2022-05-22T17:08:32.641Z"
   },
   {
    "duration": 5,
    "start_time": "2022-05-22T17:08:32.649Z"
   },
   {
    "duration": 6,
    "start_time": "2022-05-22T17:08:32.655Z"
   },
   {
    "duration": 1567,
    "start_time": "2022-05-22T17:08:32.662Z"
   },
   {
    "duration": 3,
    "start_time": "2022-05-22T17:08:34.231Z"
   },
   {
    "duration": 5,
    "start_time": "2022-05-22T17:08:34.236Z"
   },
   {
    "duration": 4,
    "start_time": "2022-05-22T17:08:34.243Z"
   },
   {
    "duration": 7,
    "start_time": "2022-05-22T17:08:34.249Z"
   },
   {
    "duration": 11,
    "start_time": "2022-05-22T17:08:34.258Z"
   },
   {
    "duration": 6,
    "start_time": "2022-05-22T17:08:34.271Z"
   },
   {
    "duration": 9,
    "start_time": "2022-05-22T17:08:34.279Z"
   },
   {
    "duration": 5,
    "start_time": "2022-05-22T17:08:34.291Z"
   },
   {
    "duration": 7,
    "start_time": "2022-05-22T17:08:34.298Z"
   },
   {
    "duration": 74,
    "start_time": "2022-05-22T17:08:52.185Z"
   },
   {
    "duration": 2,
    "start_time": "2022-05-22T17:09:07.652Z"
   },
   {
    "duration": 1454,
    "start_time": "2022-05-22T17:09:29.658Z"
   },
   {
    "duration": 18,
    "start_time": "2022-05-22T17:09:54.610Z"
   },
   {
    "duration": 3,
    "start_time": "2022-05-22T17:11:30.669Z"
   },
   {
    "duration": 19,
    "start_time": "2022-05-22T17:11:33.411Z"
   },
   {
    "duration": 2,
    "start_time": "2022-05-22T17:12:10.426Z"
   },
   {
    "duration": 143,
    "start_time": "2022-05-22T17:12:13.190Z"
   },
   {
    "duration": 8,
    "start_time": "2022-05-22T17:12:15.770Z"
   },
   {
    "duration": 3,
    "start_time": "2022-05-22T17:14:57.232Z"
   },
   {
    "duration": 225,
    "start_time": "2022-05-22T17:14:58.975Z"
   },
   {
    "duration": 8,
    "start_time": "2022-05-22T17:15:00.869Z"
   },
   {
    "duration": 3,
    "start_time": "2022-05-22T17:15:33.789Z"
   },
   {
    "duration": 36,
    "start_time": "2022-05-22T17:15:35.940Z"
   },
   {
    "duration": 8,
    "start_time": "2022-05-22T17:15:37.772Z"
   },
   {
    "duration": 2,
    "start_time": "2022-05-22T17:15:44.709Z"
   },
   {
    "duration": 35,
    "start_time": "2022-05-22T17:15:46.311Z"
   },
   {
    "duration": 8,
    "start_time": "2022-05-22T17:15:47.479Z"
   },
   {
    "duration": 7,
    "start_time": "2022-05-22T17:16:17.717Z"
   },
   {
    "duration": 3,
    "start_time": "2022-05-22T17:19:43.778Z"
   },
   {
    "duration": 35,
    "start_time": "2022-05-22T17:19:45.008Z"
   },
   {
    "duration": 6,
    "start_time": "2022-05-22T17:19:45.644Z"
   },
   {
    "duration": 3,
    "start_time": "2022-05-22T17:23:34.140Z"
   },
   {
    "duration": 110,
    "start_time": "2022-05-22T17:23:34.601Z"
   },
   {
    "duration": 19,
    "start_time": "2022-05-22T17:23:35.055Z"
   },
   {
    "duration": 5,
    "start_time": "2022-05-22T17:24:57.303Z"
   },
   {
    "duration": 59,
    "start_time": "2022-05-22T17:24:57.716Z"
   },
   {
    "duration": 13,
    "start_time": "2022-05-22T17:24:58.417Z"
   },
   {
    "duration": 3,
    "start_time": "2022-05-22T17:30:11.654Z"
   },
   {
    "duration": 65,
    "start_time": "2022-05-22T17:30:12.625Z"
   },
   {
    "duration": 9,
    "start_time": "2022-05-22T17:30:13.454Z"
   },
   {
    "duration": 2,
    "start_time": "2022-05-22T17:36:36.087Z"
   },
   {
    "duration": 54,
    "start_time": "2022-05-22T17:36:37.594Z"
   },
   {
    "duration": 8,
    "start_time": "2022-05-22T17:36:38.328Z"
   },
   {
    "duration": 3,
    "start_time": "2022-05-22T17:51:41.875Z"
   },
   {
    "duration": 3,
    "start_time": "2022-05-22T17:52:09.680Z"
   },
   {
    "duration": 54,
    "start_time": "2022-05-22T17:52:10.106Z"
   },
   {
    "duration": 7,
    "start_time": "2022-05-22T17:52:11.742Z"
   },
   {
    "duration": 6,
    "start_time": "2022-05-22T17:52:34.991Z"
   },
   {
    "duration": 46,
    "start_time": "2022-05-22T17:52:37.378Z"
   },
   {
    "duration": 6,
    "start_time": "2022-05-22T17:52:40.760Z"
   },
   {
    "duration": 4,
    "start_time": "2022-05-22T17:53:34.393Z"
   },
   {
    "duration": 569,
    "start_time": "2022-05-22T17:53:35.078Z"
   },
   {
    "duration": 7,
    "start_time": "2022-05-22T17:53:35.822Z"
   },
   {
    "duration": 2,
    "start_time": "2022-05-22T17:54:02.665Z"
   },
   {
    "duration": 1821,
    "start_time": "2022-05-22T17:54:03.525Z"
   },
   {
    "duration": 7,
    "start_time": "2022-05-22T17:54:05.348Z"
   },
   {
    "duration": 2,
    "start_time": "2022-05-22T17:57:00.153Z"
   },
   {
    "duration": 644,
    "start_time": "2022-05-22T17:57:00.823Z"
   },
   {
    "duration": 8,
    "start_time": "2022-05-22T17:57:01.741Z"
   },
   {
    "duration": 291,
    "start_time": "2022-05-22T17:59:26.530Z"
   },
   {
    "duration": 4,
    "start_time": "2022-05-22T18:04:01.626Z"
   },
   {
    "duration": 632,
    "start_time": "2022-05-22T18:04:02.241Z"
   },
   {
    "duration": 8,
    "start_time": "2022-05-22T18:04:02.926Z"
   },
   {
    "duration": 2,
    "start_time": "2022-05-22T18:04:26.226Z"
   },
   {
    "duration": 686,
    "start_time": "2022-05-22T18:04:26.787Z"
   },
   {
    "duration": 10,
    "start_time": "2022-05-22T18:04:27.475Z"
   },
   {
    "duration": 3,
    "start_time": "2022-05-22T18:04:53.060Z"
   },
   {
    "duration": 1001,
    "start_time": "2022-05-22T18:04:55.106Z"
   },
   {
    "duration": 10,
    "start_time": "2022-05-22T18:04:56.352Z"
   },
   {
    "duration": 3,
    "start_time": "2022-05-22T18:05:34.992Z"
   },
   {
    "duration": 940,
    "start_time": "2022-05-22T18:05:35.572Z"
   },
   {
    "duration": 9,
    "start_time": "2022-05-22T18:05:36.650Z"
   },
   {
    "duration": 4,
    "start_time": "2022-05-22T18:07:02.132Z"
   },
   {
    "duration": 79,
    "start_time": "2022-05-22T18:07:02.666Z"
   },
   {
    "duration": 8,
    "start_time": "2022-05-22T18:07:04.242Z"
   },
   {
    "duration": 4,
    "start_time": "2022-05-22T18:07:13.139Z"
   },
   {
    "duration": 395,
    "start_time": "2022-05-22T18:07:14.039Z"
   },
   {
    "duration": 9,
    "start_time": "2022-05-22T18:07:15.086Z"
   },
   {
    "duration": 9,
    "start_time": "2022-05-22T18:07:30.627Z"
   },
   {
    "duration": 5,
    "start_time": "2022-05-22T18:10:22.124Z"
   },
   {
    "duration": 61,
    "start_time": "2022-05-22T18:10:22.694Z"
   },
   {
    "duration": 13,
    "start_time": "2022-05-22T18:10:23.868Z"
   },
   {
    "duration": 4,
    "start_time": "2022-05-22T18:10:39.985Z"
   },
   {
    "duration": 390,
    "start_time": "2022-05-22T18:10:40.709Z"
   },
   {
    "duration": 11,
    "start_time": "2022-05-22T18:10:41.841Z"
   },
   {
    "duration": 8,
    "start_time": "2022-05-22T18:16:51.386Z"
   },
   {
    "duration": 77,
    "start_time": "2022-05-22T18:16:52.031Z"
   },
   {
    "duration": 5,
    "start_time": "2022-05-22T18:17:26.383Z"
   },
   {
    "duration": 5,
    "start_time": "2022-05-22T18:17:33.566Z"
   },
   {
    "duration": 718,
    "start_time": "2022-05-22T18:17:34.294Z"
   },
   {
    "duration": 10,
    "start_time": "2022-05-22T18:17:35.057Z"
   },
   {
    "duration": 4,
    "start_time": "2022-05-22T18:21:58.066Z"
   },
   {
    "duration": 53,
    "start_time": "2022-05-22T18:21:58.759Z"
   },
   {
    "duration": 13,
    "start_time": "2022-05-22T18:21:59.773Z"
   },
   {
    "duration": 4,
    "start_time": "2022-05-22T18:22:08.716Z"
   },
   {
    "duration": 340,
    "start_time": "2022-05-22T18:22:09.536Z"
   },
   {
    "duration": 9,
    "start_time": "2022-05-22T18:22:10.440Z"
   },
   {
    "duration": 5,
    "start_time": "2022-05-22T18:29:29.704Z"
   },
   {
    "duration": 72,
    "start_time": "2022-05-22T18:29:30.596Z"
   },
   {
    "duration": 12,
    "start_time": "2022-05-22T18:29:31.602Z"
   },
   {
    "duration": 4,
    "start_time": "2022-05-22T18:30:19.033Z"
   },
   {
    "duration": 71,
    "start_time": "2022-05-22T18:30:19.917Z"
   },
   {
    "duration": 9,
    "start_time": "2022-05-22T18:30:24.521Z"
   },
   {
    "duration": 5,
    "start_time": "2022-05-22T18:34:09.288Z"
   },
   {
    "duration": 264,
    "start_time": "2022-05-22T18:34:10.162Z"
   },
   {
    "duration": 16,
    "start_time": "2022-05-22T18:34:11.135Z"
   },
   {
    "duration": 6,
    "start_time": "2022-05-22T18:38:28.329Z"
   },
   {
    "duration": 272,
    "start_time": "2022-05-22T18:38:29.152Z"
   },
   {
    "duration": 11,
    "start_time": "2022-05-22T18:38:29.833Z"
   },
   {
    "duration": 5,
    "start_time": "2022-05-22T18:38:55.878Z"
   },
   {
    "duration": 257,
    "start_time": "2022-05-22T18:38:56.629Z"
   },
   {
    "duration": 15,
    "start_time": "2022-05-22T18:38:57.441Z"
   },
   {
    "duration": 5,
    "start_time": "2022-05-22T18:39:06.042Z"
   },
   {
    "duration": 262,
    "start_time": "2022-05-22T18:39:06.981Z"
   },
   {
    "duration": 16,
    "start_time": "2022-05-22T18:39:08.029Z"
   },
   {
    "duration": 5,
    "start_time": "2022-05-22T18:43:12.901Z"
   },
   {
    "duration": 70,
    "start_time": "2022-05-22T18:43:13.791Z"
   },
   {
    "duration": 17,
    "start_time": "2022-05-22T18:43:14.659Z"
   },
   {
    "duration": 5,
    "start_time": "2022-05-22T18:43:44.834Z"
   },
   {
    "duration": 76,
    "start_time": "2022-05-22T18:43:45.626Z"
   },
   {
    "duration": 14,
    "start_time": "2022-05-22T18:43:46.369Z"
   },
   {
    "duration": 6,
    "start_time": "2022-05-22T18:44:19.277Z"
   },
   {
    "duration": 244,
    "start_time": "2022-05-22T18:44:20.164Z"
   },
   {
    "duration": 12,
    "start_time": "2022-05-22T18:44:20.882Z"
   },
   {
    "duration": 5,
    "start_time": "2022-05-22T18:44:29.754Z"
   },
   {
    "duration": 257,
    "start_time": "2022-05-22T18:44:30.615Z"
   },
   {
    "duration": 24,
    "start_time": "2022-05-22T18:44:31.659Z"
   },
   {
    "duration": 5,
    "start_time": "2022-05-22T18:45:43.358Z"
   },
   {
    "duration": 230,
    "start_time": "2022-05-22T18:45:44.083Z"
   },
   {
    "duration": 11,
    "start_time": "2022-05-22T18:45:44.760Z"
   },
   {
    "duration": 5,
    "start_time": "2022-05-22T18:45:50.678Z"
   },
   {
    "duration": 236,
    "start_time": "2022-05-22T18:45:51.474Z"
   },
   {
    "duration": 12,
    "start_time": "2022-05-22T18:45:52.259Z"
   },
   {
    "duration": 5,
    "start_time": "2022-05-22T18:48:50.024Z"
   },
   {
    "duration": 229,
    "start_time": "2022-05-22T18:48:51.061Z"
   },
   {
    "duration": 11,
    "start_time": "2022-05-22T18:48:52.088Z"
   },
   {
    "duration": 3,
    "start_time": "2022-05-22T18:57:21.056Z"
   },
   {
    "duration": 999,
    "start_time": "2022-05-23T16:22:31.757Z"
   },
   {
    "duration": 4,
    "start_time": "2022-05-23T16:22:32.758Z"
   },
   {
    "duration": 61,
    "start_time": "2022-05-23T16:22:32.764Z"
   },
   {
    "duration": 67,
    "start_time": "2022-05-23T16:22:32.827Z"
   },
   {
    "duration": 19,
    "start_time": "2022-05-23T16:22:32.896Z"
   },
   {
    "duration": 3,
    "start_time": "2022-05-23T16:22:32.917Z"
   },
   {
    "duration": 15,
    "start_time": "2022-05-23T16:22:32.922Z"
   },
   {
    "duration": 3,
    "start_time": "2022-05-23T16:22:32.939Z"
   },
   {
    "duration": 6,
    "start_time": "2022-05-23T16:22:32.943Z"
   },
   {
    "duration": 14,
    "start_time": "2022-05-23T16:22:32.951Z"
   },
   {
    "duration": 10,
    "start_time": "2022-05-23T16:22:32.968Z"
   },
   {
    "duration": 15,
    "start_time": "2022-05-23T16:22:32.980Z"
   },
   {
    "duration": 13,
    "start_time": "2022-05-23T16:22:32.997Z"
   },
   {
    "duration": 2,
    "start_time": "2022-05-23T16:22:33.014Z"
   },
   {
    "duration": 8,
    "start_time": "2022-05-23T16:22:33.018Z"
   },
   {
    "duration": 10698,
    "start_time": "2022-05-23T16:22:33.028Z"
   },
   {
    "duration": 3,
    "start_time": "2022-05-23T16:22:43.728Z"
   },
   {
    "duration": 65,
    "start_time": "2022-05-23T16:22:43.733Z"
   },
   {
    "duration": 8,
    "start_time": "2022-05-23T16:22:43.800Z"
   },
   {
    "duration": 8,
    "start_time": "2022-05-23T16:22:43.810Z"
   },
   {
    "duration": 8,
    "start_time": "2022-05-23T16:22:43.820Z"
   },
   {
    "duration": 9,
    "start_time": "2022-05-23T16:22:43.830Z"
   },
   {
    "duration": 11,
    "start_time": "2022-05-23T16:22:43.840Z"
   },
   {
    "duration": 249,
    "start_time": "2022-05-23T16:22:43.853Z"
   },
   {
    "duration": 13,
    "start_time": "2022-05-23T16:22:44.104Z"
   },
   {
    "duration": 6,
    "start_time": "2022-05-23T16:22:44.119Z"
   },
   {
    "duration": 31,
    "start_time": "2022-05-23T16:22:44.127Z"
   },
   {
    "duration": 5,
    "start_time": "2022-05-23T16:22:44.160Z"
   },
   {
    "duration": 21,
    "start_time": "2022-05-23T16:22:44.167Z"
   },
   {
    "duration": 35,
    "start_time": "2022-05-23T16:22:44.189Z"
   },
   {
    "duration": 3,
    "start_time": "2022-05-23T16:28:00.733Z"
   },
   {
    "duration": 25,
    "start_time": "2022-05-23T16:28:00.738Z"
   },
   {
    "duration": 20,
    "start_time": "2022-05-23T16:28:00.765Z"
   },
   {
    "duration": 108,
    "start_time": "2022-05-23T16:28:00.786Z"
   },
   {
    "duration": 14,
    "start_time": "2022-05-23T16:28:00.898Z"
   },
   {
    "duration": 23,
    "start_time": "2022-05-23T16:28:00.914Z"
   },
   {
    "duration": 31,
    "start_time": "2022-05-23T16:28:00.939Z"
   },
   {
    "duration": 23,
    "start_time": "2022-05-23T16:28:00.972Z"
   },
   {
    "duration": 30,
    "start_time": "2022-05-23T16:28:00.997Z"
   },
   {
    "duration": 25,
    "start_time": "2022-05-23T16:28:01.029Z"
   },
   {
    "duration": 17,
    "start_time": "2022-05-23T16:28:01.057Z"
   },
   {
    "duration": 43,
    "start_time": "2022-05-23T16:28:01.076Z"
   },
   {
    "duration": 19,
    "start_time": "2022-05-23T16:28:01.121Z"
   },
   {
    "duration": 49,
    "start_time": "2022-05-23T16:28:01.142Z"
   },
   {
    "duration": 41,
    "start_time": "2022-05-23T16:28:01.193Z"
   },
   {
    "duration": 15,
    "start_time": "2022-05-23T16:28:01.236Z"
   },
   {
    "duration": 23,
    "start_time": "2022-05-23T16:28:01.253Z"
   },
   {
    "duration": 35,
    "start_time": "2022-05-23T16:28:01.277Z"
   },
   {
    "duration": 1260,
    "start_time": "2022-05-23T16:28:01.314Z"
   },
   {
    "duration": 25,
    "start_time": "2022-05-23T16:28:02.575Z"
   },
   {
    "duration": 19,
    "start_time": "2022-05-23T16:28:02.602Z"
   },
   {
    "duration": 65,
    "start_time": "2022-05-23T16:28:02.623Z"
   },
   {
    "duration": 10,
    "start_time": "2022-05-23T16:28:02.690Z"
   },
   {
    "duration": 18,
    "start_time": "2022-05-23T16:28:02.702Z"
   },
   {
    "duration": 60,
    "start_time": "2022-05-23T16:28:02.722Z"
   },
   {
    "duration": 7,
    "start_time": "2022-05-23T16:28:02.784Z"
   },
   {
    "duration": 25,
    "start_time": "2022-05-23T16:28:02.793Z"
   },
   {
    "duration": 6,
    "start_time": "2022-05-23T16:28:02.820Z"
   },
   {
    "duration": 1224,
    "start_time": "2022-05-23T16:28:02.829Z"
   },
   {
    "duration": 10,
    "start_time": "2022-05-23T16:28:04.055Z"
   },
   {
    "duration": 7,
    "start_time": "2022-05-23T16:28:04.067Z"
   },
   {
    "duration": 250,
    "start_time": "2022-05-23T16:28:04.076Z"
   },
   {
    "duration": 12,
    "start_time": "2022-05-23T16:28:04.328Z"
   },
   {
    "duration": 5,
    "start_time": "2022-05-23T16:28:04.342Z"
   },
   {
    "duration": 12,
    "start_time": "2022-05-23T16:28:04.348Z"
   },
   {
    "duration": 8,
    "start_time": "2022-05-23T16:28:04.362Z"
   },
   {
    "duration": 247,
    "start_time": "2022-05-23T16:28:04.371Z"
   },
   {
    "duration": 12,
    "start_time": "2022-05-23T16:28:04.620Z"
   },
   {
    "duration": 6,
    "start_time": "2022-05-23T16:28:04.633Z"
   },
   {
    "duration": 4,
    "start_time": "2022-05-23T16:28:04.640Z"
   },
   {
    "duration": 246,
    "start_time": "2022-05-23T16:28:04.646Z"
   },
   {
    "duration": 19,
    "start_time": "2022-05-23T16:28:04.894Z"
   },
   {
    "duration": 3,
    "start_time": "2022-05-23T16:33:36.580Z"
   },
   {
    "duration": 13689,
    "start_time": "2022-05-23T16:33:37.716Z"
   },
   {
    "duration": 9,
    "start_time": "2022-05-23T16:33:51.412Z"
   },
   {
    "duration": 3,
    "start_time": "2022-05-23T16:34:33.276Z"
   },
   {
    "duration": 151,
    "start_time": "2022-05-23T16:34:34.024Z"
   },
   {
    "duration": 13,
    "start_time": "2022-05-23T16:34:34.712Z"
   },
   {
    "duration": 4,
    "start_time": "2022-05-23T16:36:42.876Z"
   },
   {
    "duration": 131,
    "start_time": "2022-05-23T16:36:43.497Z"
   },
   {
    "duration": 8,
    "start_time": "2022-05-23T16:36:44.112Z"
   },
   {
    "duration": 4,
    "start_time": "2022-05-23T16:37:47.099Z"
   },
   {
    "duration": 1402,
    "start_time": "2022-05-23T16:37:47.728Z"
   },
   {
    "duration": 14,
    "start_time": "2022-05-23T16:37:49.132Z"
   },
   {
    "duration": 4,
    "start_time": "2022-05-23T16:40:07.390Z"
   },
   {
    "duration": 33,
    "start_time": "2022-05-23T16:40:08.038Z"
   },
   {
    "duration": 8,
    "start_time": "2022-05-23T16:40:08.820Z"
   },
   {
    "duration": 3,
    "start_time": "2022-05-23T16:41:24.826Z"
   },
   {
    "duration": 1239,
    "start_time": "2022-05-23T16:41:25.411Z"
   },
   {
    "duration": 12,
    "start_time": "2022-05-23T16:41:26.652Z"
   },
   {
    "duration": 4,
    "start_time": "2022-05-23T16:43:37.058Z"
   },
   {
    "duration": 206,
    "start_time": "2022-05-23T16:43:38.507Z"
   },
   {
    "duration": 8,
    "start_time": "2022-05-23T16:43:39.275Z"
   },
   {
    "duration": 3,
    "start_time": "2022-05-23T16:45:21.314Z"
   },
   {
    "duration": 81,
    "start_time": "2022-05-23T16:45:21.982Z"
   },
   {
    "duration": 6,
    "start_time": "2022-05-23T16:45:22.635Z"
   },
   {
    "duration": 4,
    "start_time": "2022-05-23T16:56:26.119Z"
   },
   {
    "duration": 233,
    "start_time": "2022-05-23T16:56:27.420Z"
   },
   {
    "duration": 7,
    "start_time": "2022-05-23T16:56:28.056Z"
   },
   {
    "duration": 2,
    "start_time": "2022-05-23T16:56:37.120Z"
   },
   {
    "duration": 1049,
    "start_time": "2022-05-23T16:56:38.771Z"
   },
   {
    "duration": 7,
    "start_time": "2022-05-23T16:56:39.823Z"
   },
   {
    "duration": 64,
    "start_time": "2022-05-23T17:08:08.173Z"
   },
   {
    "duration": 31,
    "start_time": "2022-05-23T17:08:29.053Z"
   },
   {
    "duration": 232,
    "start_time": "2022-05-23T17:08:30.137Z"
   },
   {
    "duration": 8,
    "start_time": "2022-05-23T17:08:32.068Z"
   },
   {
    "duration": 38,
    "start_time": "2022-05-23T17:09:11.860Z"
   },
   {
    "duration": 51,
    "start_time": "2022-05-23T17:09:17.899Z"
   },
   {
    "duration": 27,
    "start_time": "2022-05-23T17:10:18.935Z"
   },
   {
    "duration": 29,
    "start_time": "2022-05-23T17:11:00.053Z"
   },
   {
    "duration": 3,
    "start_time": "2022-05-23T17:12:36.421Z"
   },
   {
    "duration": 411,
    "start_time": "2022-05-23T17:12:37.158Z"
   },
   {
    "duration": 12,
    "start_time": "2022-05-23T17:12:37.860Z"
   },
   {
    "duration": 996,
    "start_time": "2022-05-23T17:22:10.917Z"
   },
   {
    "duration": 143,
    "start_time": "2022-05-23T17:22:59.922Z"
   },
   {
    "duration": 674,
    "start_time": "2022-05-23T17:23:14.616Z"
   },
   {
    "duration": 9,
    "start_time": "2022-05-23T17:23:46.579Z"
   },
   {
    "duration": 6,
    "start_time": "2022-05-23T17:23:50.615Z"
   },
   {
    "duration": 3,
    "start_time": "2022-05-23T17:24:21.409Z"
   },
   {
    "duration": 142,
    "start_time": "2022-05-23T17:24:21.910Z"
   },
   {
    "duration": 11,
    "start_time": "2022-05-23T17:24:22.434Z"
   },
   {
    "duration": 4,
    "start_time": "2022-05-23T17:24:26.052Z"
   },
   {
    "duration": 220,
    "start_time": "2022-05-23T17:24:57.518Z"
   },
   {
    "duration": 148,
    "start_time": "2022-05-23T17:25:28.856Z"
   },
   {
    "duration": 171,
    "start_time": "2022-05-23T17:26:24.057Z"
   },
   {
    "duration": 14,
    "start_time": "2022-05-23T17:27:42.328Z"
   },
   {
    "duration": 8,
    "start_time": "2022-05-23T17:28:05.416Z"
   },
   {
    "duration": 176,
    "start_time": "2022-05-23T17:28:37.051Z"
   },
   {
    "duration": 4,
    "start_time": "2022-05-23T17:28:51.159Z"
   },
   {
    "duration": 71,
    "start_time": "2022-05-23T17:28:51.767Z"
   },
   {
    "duration": 3,
    "start_time": "2022-05-23T17:29:02.353Z"
   },
   {
    "duration": 62,
    "start_time": "2022-05-23T17:29:03.158Z"
   },
   {
    "duration": 3,
    "start_time": "2022-05-23T17:29:11.524Z"
   },
   {
    "duration": 60,
    "start_time": "2022-05-23T17:29:12.376Z"
   },
   {
    "duration": 3,
    "start_time": "2022-05-23T17:29:29.412Z"
   },
   {
    "duration": 149,
    "start_time": "2022-05-23T17:29:30.021Z"
   },
   {
    "duration": 11,
    "start_time": "2022-05-23T17:29:30.811Z"
   },
   {
    "duration": 4,
    "start_time": "2022-05-23T17:30:43.248Z"
   },
   {
    "duration": 3,
    "start_time": "2022-05-23T17:31:15.670Z"
   },
   {
    "duration": 127,
    "start_time": "2022-05-23T17:31:16.233Z"
   },
   {
    "duration": 13,
    "start_time": "2022-05-23T17:31:16.993Z"
   },
   {
    "duration": 4,
    "start_time": "2022-05-23T17:31:19.566Z"
   },
   {
    "duration": 505,
    "start_time": "2022-05-23T17:31:21.355Z"
   },
   {
    "duration": 149,
    "start_time": "2022-05-23T17:31:36.944Z"
   },
   {
    "duration": 170,
    "start_time": "2022-05-23T17:31:52.087Z"
   },
   {
    "duration": 261,
    "start_time": "2022-05-23T17:33:51.958Z"
   },
   {
    "duration": 240,
    "start_time": "2022-05-23T17:34:12.580Z"
   },
   {
    "duration": 159,
    "start_time": "2022-05-23T17:34:18.112Z"
   },
   {
    "duration": 5,
    "start_time": "2022-05-23T18:19:37.662Z"
   },
   {
    "duration": 424,
    "start_time": "2022-05-23T18:19:39.679Z"
   },
   {
    "duration": 21,
    "start_time": "2022-05-23T18:19:40.380Z"
   },
   {
    "duration": 154,
    "start_time": "2022-05-23T18:19:47.029Z"
   },
   {
    "duration": 810,
    "start_time": "2022-05-23T18:20:52.858Z"
   },
   {
    "duration": 604,
    "start_time": "2022-05-23T18:21:08.306Z"
   },
   {
    "duration": 34,
    "start_time": "2022-05-23T18:39:43.188Z"
   },
   {
    "duration": 152,
    "start_time": "2022-05-23T18:50:56.755Z"
   },
   {
    "duration": 6,
    "start_time": "2022-05-23T18:51:01.186Z"
   },
   {
    "duration": 14414,
    "start_time": "2022-05-23T18:51:03.089Z"
   },
   {
    "duration": 12,
    "start_time": "2022-05-23T18:51:17.508Z"
   },
   {
    "duration": 390,
    "start_time": "2022-05-23T18:51:17.522Z"
   },
   {
    "duration": 93,
    "start_time": "2022-05-23T18:51:30.628Z"
   },
   {
    "duration": 99,
    "start_time": "2022-05-23T18:52:43.585Z"
   },
   {
    "duration": 36,
    "start_time": "2022-05-23T18:56:48.024Z"
   },
   {
    "duration": 176,
    "start_time": "2022-05-23T18:59:52.583Z"
   },
   {
    "duration": 8,
    "start_time": "2022-05-23T18:59:53.890Z"
   },
   {
    "duration": 3,
    "start_time": "2022-05-23T19:00:12.600Z"
   },
   {
    "duration": 144,
    "start_time": "2022-05-23T19:00:13.255Z"
   },
   {
    "duration": 11,
    "start_time": "2022-05-23T19:00:14.953Z"
   },
   {
    "duration": 3,
    "start_time": "2022-05-23T19:02:26.223Z"
   },
   {
    "duration": 3,
    "start_time": "2022-05-23T19:14:12.960Z"
   },
   {
    "duration": 5,
    "start_time": "2022-05-23T19:15:17.013Z"
   },
   {
    "duration": 7,
    "start_time": "2022-05-23T19:15:23.262Z"
   },
   {
    "duration": 148,
    "start_time": "2022-05-23T19:15:26.485Z"
   },
   {
    "duration": 4,
    "start_time": "2022-05-23T19:16:11.177Z"
   },
   {
    "duration": 2,
    "start_time": "2022-05-23T19:23:21.614Z"
   },
   {
    "duration": 3,
    "start_time": "2022-05-23T19:23:25.097Z"
   },
   {
    "duration": 44,
    "start_time": "2022-05-23T19:28:38.894Z"
   },
   {
    "duration": 145,
    "start_time": "2022-05-23T19:29:00.702Z"
   },
   {
    "duration": 161,
    "start_time": "2022-05-23T19:29:37.865Z"
   },
   {
    "duration": 159,
    "start_time": "2022-05-23T19:30:02.885Z"
   },
   {
    "duration": 117,
    "start_time": "2022-05-23T19:31:30.002Z"
   },
   {
    "duration": 129,
    "start_time": "2022-05-23T19:34:04.197Z"
   },
   {
    "duration": 167,
    "start_time": "2022-05-23T19:35:46.078Z"
   },
   {
    "duration": 120,
    "start_time": "2022-05-23T19:36:06.712Z"
   },
   {
    "duration": 46,
    "start_time": "2022-05-23T19:37:44.854Z"
   },
   {
    "duration": 139,
    "start_time": "2022-05-23T19:38:04.167Z"
   },
   {
    "duration": 125,
    "start_time": "2022-05-23T19:38:21.292Z"
   },
   {
    "duration": 1550,
    "start_time": "2022-05-24T05:56:34.292Z"
   },
   {
    "duration": 3,
    "start_time": "2022-05-24T05:56:35.845Z"
   },
   {
    "duration": 231,
    "start_time": "2022-05-24T05:56:35.850Z"
   },
   {
    "duration": 290,
    "start_time": "2022-05-24T05:56:36.083Z"
   },
   {
    "duration": 18,
    "start_time": "2022-05-24T05:56:36.375Z"
   },
   {
    "duration": 2,
    "start_time": "2022-05-24T05:56:36.395Z"
   },
   {
    "duration": 277,
    "start_time": "2022-05-24T05:56:36.399Z"
   },
   {
    "duration": 8,
    "start_time": "2022-05-24T05:56:36.678Z"
   },
   {
    "duration": 8,
    "start_time": "2022-05-24T05:56:36.689Z"
   },
   {
    "duration": 4,
    "start_time": "2022-05-24T05:56:36.700Z"
   },
   {
    "duration": 186,
    "start_time": "2022-05-24T05:56:36.705Z"
   },
   {
    "duration": 12,
    "start_time": "2022-05-24T05:56:36.893Z"
   },
   {
    "duration": 4,
    "start_time": "2022-05-24T05:56:36.907Z"
   },
   {
    "duration": 22,
    "start_time": "2022-05-24T05:56:36.913Z"
   },
   {
    "duration": 7,
    "start_time": "2022-05-24T05:56:36.937Z"
   },
   {
    "duration": 4,
    "start_time": "2022-05-24T05:56:36.946Z"
   },
   {
    "duration": 173,
    "start_time": "2022-05-24T05:56:36.951Z"
   },
   {
    "duration": 13,
    "start_time": "2022-05-24T05:56:37.126Z"
   },
   {
    "duration": 16,
    "start_time": "2022-05-24T05:56:37.140Z"
   },
   {
    "duration": 180,
    "start_time": "2022-05-24T05:56:37.158Z"
   },
   {
    "duration": 4,
    "start_time": "2022-05-24T05:56:37.340Z"
   },
   {
    "duration": 1348,
    "start_time": "2022-05-24T05:56:37.346Z"
   },
   {
    "duration": 12,
    "start_time": "2022-05-24T05:56:38.695Z"
   },
   {
    "duration": 25,
    "start_time": "2022-05-24T05:56:38.709Z"
   },
   {
    "duration": 100,
    "start_time": "2022-05-24T05:56:38.737Z"
   },
   {
    "duration": 7,
    "start_time": "2022-05-24T05:56:38.839Z"
   },
   {
    "duration": 7,
    "start_time": "2022-05-24T05:56:38.848Z"
   },
   {
    "duration": 68,
    "start_time": "2022-05-24T05:56:38.858Z"
   },
   {
    "duration": 11,
    "start_time": "2022-05-24T05:56:38.930Z"
   },
   {
    "duration": 16,
    "start_time": "2022-05-24T05:56:38.943Z"
   },
   {
    "duration": 9,
    "start_time": "2022-05-24T05:56:38.961Z"
   },
   {
    "duration": 1313,
    "start_time": "2022-05-24T05:56:38.972Z"
   },
   {
    "duration": 11,
    "start_time": "2022-05-24T05:56:40.287Z"
   },
   {
    "duration": 10,
    "start_time": "2022-05-24T05:56:40.300Z"
   },
   {
    "duration": 499,
    "start_time": "2022-05-24T05:56:40.312Z"
   },
   {
    "duration": 15,
    "start_time": "2022-05-24T05:56:40.814Z"
   },
   {
    "duration": 540,
    "start_time": "2022-05-24T05:56:40.835Z"
   },
   {
    "duration": 3,
    "start_time": "2022-05-24T05:56:41.376Z"
   },
   {
    "duration": 8,
    "start_time": "2022-05-24T05:56:41.381Z"
   },
   {
    "duration": 12781,
    "start_time": "2022-05-24T05:56:41.391Z"
   },
   {
    "duration": 8,
    "start_time": "2022-05-24T05:56:54.174Z"
   },
   {
    "duration": 123,
    "start_time": "2022-05-24T05:56:54.184Z"
   },
   {
    "duration": 3,
    "start_time": "2022-05-24T05:56:54.309Z"
   },
   {
    "duration": 150,
    "start_time": "2022-05-24T05:56:54.313Z"
   },
   {
    "duration": 8,
    "start_time": "2022-05-24T05:56:54.464Z"
   },
   {
    "duration": 4,
    "start_time": "2022-05-24T05:57:54.786Z"
   },
   {
    "duration": 296,
    "start_time": "2022-05-24T05:57:57.757Z"
   },
   {
    "duration": 12,
    "start_time": "2022-05-24T05:57:58.911Z"
   },
   {
    "duration": 2,
    "start_time": "2022-05-24T05:58:11.909Z"
   },
   {
    "duration": 197,
    "start_time": "2022-05-24T05:58:12.632Z"
   },
   {
    "duration": 9,
    "start_time": "2022-05-24T05:58:13.305Z"
   },
   {
    "duration": 125,
    "start_time": "2022-05-24T06:27:18.683Z"
   },
   {
    "duration": 122,
    "start_time": "2022-05-24T06:27:25.248Z"
   },
   {
    "duration": 11,
    "start_time": "2022-05-24T06:27:43.530Z"
   },
   {
    "duration": 118,
    "start_time": "2022-05-24T06:27:44.088Z"
   },
   {
    "duration": 13,
    "start_time": "2022-05-24T06:27:44.542Z"
   },
   {
    "duration": 8,
    "start_time": "2022-05-24T16:52:07.323Z"
   },
   {
    "duration": 50,
    "start_time": "2022-05-24T16:52:08.325Z"
   },
   {
    "duration": 1501,
    "start_time": "2022-05-24T16:52:12.771Z"
   },
   {
    "duration": 3,
    "start_time": "2022-05-24T16:52:14.274Z"
   },
   {
    "duration": 3538,
    "start_time": "2022-05-24T16:52:14.279Z"
   },
   {
    "duration": 180,
    "start_time": "2022-05-24T16:52:17.819Z"
   },
   {
    "duration": 14,
    "start_time": "2022-05-24T16:52:18.001Z"
   },
   {
    "duration": 17,
    "start_time": "2022-05-24T16:52:18.016Z"
   },
   {
    "duration": 268,
    "start_time": "2022-05-24T16:52:18.035Z"
   },
   {
    "duration": 7,
    "start_time": "2022-05-24T16:52:18.305Z"
   },
   {
    "duration": 8,
    "start_time": "2022-05-24T16:52:18.313Z"
   },
   {
    "duration": 6,
    "start_time": "2022-05-24T16:52:18.324Z"
   },
   {
    "duration": 179,
    "start_time": "2022-05-24T16:52:18.331Z"
   },
   {
    "duration": 9,
    "start_time": "2022-05-24T16:52:18.512Z"
   },
   {
    "duration": 6,
    "start_time": "2022-05-24T16:52:18.522Z"
   },
   {
    "duration": 6,
    "start_time": "2022-05-24T16:52:18.530Z"
   },
   {
    "duration": 5,
    "start_time": "2022-05-24T16:52:18.537Z"
   },
   {
    "duration": 4,
    "start_time": "2022-05-24T16:52:18.544Z"
   },
   {
    "duration": 164,
    "start_time": "2022-05-24T16:52:18.549Z"
   },
   {
    "duration": 6,
    "start_time": "2022-05-24T16:52:18.715Z"
   },
   {
    "duration": 8,
    "start_time": "2022-05-24T16:52:18.722Z"
   },
   {
    "duration": 143,
    "start_time": "2022-05-24T16:52:18.732Z"
   },
   {
    "duration": 2,
    "start_time": "2022-05-24T16:52:18.876Z"
   },
   {
    "duration": 1520,
    "start_time": "2022-05-24T16:52:18.880Z"
   },
   {
    "duration": 11,
    "start_time": "2022-05-24T16:52:20.401Z"
   },
   {
    "duration": 13,
    "start_time": "2022-05-24T16:52:20.414Z"
   },
   {
    "duration": 93,
    "start_time": "2022-05-24T16:52:20.428Z"
   },
   {
    "duration": 7,
    "start_time": "2022-05-24T16:52:20.523Z"
   },
   {
    "duration": 8,
    "start_time": "2022-05-24T16:52:20.531Z"
   },
   {
    "duration": 61,
    "start_time": "2022-05-24T16:52:20.542Z"
   },
   {
    "duration": 6,
    "start_time": "2022-05-24T16:52:20.604Z"
   },
   {
    "duration": 6,
    "start_time": "2022-05-24T16:52:20.612Z"
   },
   {
    "duration": 8,
    "start_time": "2022-05-24T16:52:20.620Z"
   },
   {
    "duration": 1137,
    "start_time": "2022-05-24T16:52:20.630Z"
   },
   {
    "duration": 10,
    "start_time": "2022-05-24T16:52:21.769Z"
   },
   {
    "duration": 6,
    "start_time": "2022-05-24T16:52:21.780Z"
   },
   {
    "duration": 457,
    "start_time": "2022-05-24T16:52:21.788Z"
   },
   {
    "duration": 10,
    "start_time": "2022-05-24T16:52:22.247Z"
   },
   {
    "duration": 474,
    "start_time": "2022-05-24T16:52:22.258Z"
   },
   {
    "duration": 3,
    "start_time": "2022-05-24T16:52:22.733Z"
   },
   {
    "duration": 14,
    "start_time": "2022-05-24T16:52:22.737Z"
   },
   {
    "duration": 234,
    "start_time": "2022-05-24T16:52:22.753Z"
   },
   {
    "duration": 7,
    "start_time": "2022-05-24T16:52:22.988Z"
   },
   {
    "duration": 103,
    "start_time": "2022-05-24T16:52:22.997Z"
   },
   {
    "duration": 2,
    "start_time": "2022-05-24T16:52:23.102Z"
   },
   {
    "duration": 111,
    "start_time": "2022-05-24T16:52:23.106Z"
   },
   {
    "duration": 7,
    "start_time": "2022-05-24T16:52:23.218Z"
   },
   {
    "duration": 40,
    "start_time": "2022-05-24T16:53:07.480Z"
   },
   {
    "duration": 3,
    "start_time": "2022-05-24T16:59:45.959Z"
   },
   {
    "duration": 94,
    "start_time": "2022-05-24T16:59:50.033Z"
   },
   {
    "duration": 7,
    "start_time": "2022-05-24T16:59:52.183Z"
   },
   {
    "duration": 3,
    "start_time": "2022-05-24T17:15:39.461Z"
   },
   {
    "duration": 3,
    "start_time": "2022-05-24T17:15:40.485Z"
   },
   {
    "duration": 103,
    "start_time": "2022-05-24T17:15:41.539Z"
   },
   {
    "duration": 6,
    "start_time": "2022-05-24T17:15:42.270Z"
   },
   {
    "duration": 2,
    "start_time": "2022-05-24T17:18:21.463Z"
   },
   {
    "duration": 102,
    "start_time": "2022-05-24T17:18:22.119Z"
   },
   {
    "duration": 7,
    "start_time": "2022-05-24T17:18:23.026Z"
   },
   {
    "duration": 3,
    "start_time": "2022-05-24T17:18:37.311Z"
   },
   {
    "duration": 318,
    "start_time": "2022-05-24T17:18:38.271Z"
   },
   {
    "duration": 8,
    "start_time": "2022-05-24T17:18:39.094Z"
   },
   {
    "duration": 25,
    "start_time": "2022-05-24T17:20:19.542Z"
   },
   {
    "duration": 3,
    "start_time": "2022-05-24T17:35:36.308Z"
   },
   {
    "duration": 4,
    "start_time": "2022-05-24T17:36:36.343Z"
   },
   {
    "duration": 257,
    "start_time": "2022-05-24T17:36:37.167Z"
   },
   {
    "duration": 9,
    "start_time": "2022-05-24T17:36:38.239Z"
   },
   {
    "duration": 8,
    "start_time": "2022-05-24T17:36:45.514Z"
   },
   {
    "duration": 6,
    "start_time": "2022-05-24T17:36:50.572Z"
   },
   {
    "duration": 50,
    "start_time": "2022-05-24T17:42:16.668Z"
   },
   {
    "duration": 3,
    "start_time": "2022-05-24T17:42:26.613Z"
   },
   {
    "duration": 10,
    "start_time": "2022-05-24T17:42:26.623Z"
   },
   {
    "duration": 6,
    "start_time": "2022-05-24T17:42:26.634Z"
   },
   {
    "duration": 184,
    "start_time": "2022-05-24T17:42:26.656Z"
   },
   {
    "duration": 9,
    "start_time": "2022-05-24T17:42:26.843Z"
   },
   {
    "duration": 8,
    "start_time": "2022-05-24T17:42:26.853Z"
   },
   {
    "duration": 117,
    "start_time": "2022-05-24T17:42:26.862Z"
   },
   {
    "duration": 7,
    "start_time": "2022-05-24T17:42:26.982Z"
   },
   {
    "duration": 17,
    "start_time": "2022-05-24T17:42:26.990Z"
   },
   {
    "duration": 320,
    "start_time": "2022-05-24T17:42:27.008Z"
   },
   {
    "duration": 6,
    "start_time": "2022-05-24T17:42:27.330Z"
   },
   {
    "duration": 6,
    "start_time": "2022-05-24T17:42:27.337Z"
   },
   {
    "duration": 8,
    "start_time": "2022-05-24T17:42:27.344Z"
   },
   {
    "duration": 187,
    "start_time": "2022-05-24T17:42:27.353Z"
   },
   {
    "duration": 8,
    "start_time": "2022-05-24T17:42:27.542Z"
   },
   {
    "duration": 9,
    "start_time": "2022-05-24T17:42:27.552Z"
   },
   {
    "duration": 5,
    "start_time": "2022-05-24T17:42:27.564Z"
   },
   {
    "duration": 265,
    "start_time": "2022-05-24T17:42:27.570Z"
   },
   {
    "duration": 9,
    "start_time": "2022-05-24T17:42:27.836Z"
   },
   {
    "duration": 5,
    "start_time": "2022-05-24T17:42:27.847Z"
   },
   {
    "duration": 4,
    "start_time": "2022-05-24T17:42:27.854Z"
   },
   {
    "duration": 169,
    "start_time": "2022-05-24T17:42:27.860Z"
   },
   {
    "duration": 6,
    "start_time": "2022-05-24T17:42:28.030Z"
   },
   {
    "duration": 21,
    "start_time": "2022-05-24T17:42:28.038Z"
   },
   {
    "duration": 124,
    "start_time": "2022-05-24T17:42:28.061Z"
   },
   {
    "duration": 2,
    "start_time": "2022-05-24T17:42:28.187Z"
   },
   {
    "duration": 1295,
    "start_time": "2022-05-24T17:42:28.191Z"
   },
   {
    "duration": 11,
    "start_time": "2022-05-24T17:42:29.488Z"
   },
   {
    "duration": 7,
    "start_time": "2022-05-24T17:42:29.500Z"
   },
   {
    "duration": 93,
    "start_time": "2022-05-24T17:42:29.509Z"
   },
   {
    "duration": 5,
    "start_time": "2022-05-24T17:42:29.604Z"
   },
   {
    "duration": 8,
    "start_time": "2022-05-24T17:42:29.611Z"
   },
   {
    "duration": 61,
    "start_time": "2022-05-24T17:42:29.620Z"
   },
   {
    "duration": 7,
    "start_time": "2022-05-24T17:42:29.682Z"
   },
   {
    "duration": 5,
    "start_time": "2022-05-24T17:42:29.691Z"
   },
   {
    "duration": 6,
    "start_time": "2022-05-24T17:42:29.697Z"
   },
   {
    "duration": 1081,
    "start_time": "2022-05-24T17:42:29.704Z"
   },
   {
    "duration": 11,
    "start_time": "2022-05-24T17:42:30.787Z"
   },
   {
    "duration": 13,
    "start_time": "2022-05-24T17:42:30.800Z"
   },
   {
    "duration": 484,
    "start_time": "2022-05-24T17:42:30.814Z"
   },
   {
    "duration": 9,
    "start_time": "2022-05-24T17:42:31.300Z"
   },
   {
    "duration": 399,
    "start_time": "2022-05-24T17:42:31.310Z"
   },
   {
    "duration": 2,
    "start_time": "2022-05-24T17:42:31.711Z"
   },
   {
    "duration": 3,
    "start_time": "2022-05-24T17:42:31.726Z"
   },
   {
    "duration": 232,
    "start_time": "2022-05-24T17:42:31.731Z"
   },
   {
    "duration": 8,
    "start_time": "2022-05-24T17:42:31.965Z"
   },
   {
    "duration": 136,
    "start_time": "2022-05-24T17:42:31.974Z"
   },
   {
    "duration": 3,
    "start_time": "2022-05-24T17:42:32.111Z"
   },
   {
    "duration": 138,
    "start_time": "2022-05-24T17:42:32.115Z"
   },
   {
    "duration": 7,
    "start_time": "2022-05-24T17:42:32.255Z"
   },
   {
    "duration": 54,
    "start_time": "2022-05-24T18:59:53.348Z"
   },
   {
    "duration": 1293,
    "start_time": "2022-05-24T18:59:58.099Z"
   },
   {
    "duration": 4,
    "start_time": "2022-05-24T18:59:59.394Z"
   },
   {
    "duration": 49,
    "start_time": "2022-05-24T18:59:59.399Z"
   },
   {
    "duration": 55,
    "start_time": "2022-05-24T18:59:59.449Z"
   },
   {
    "duration": 13,
    "start_time": "2022-05-24T18:59:59.506Z"
   },
   {
    "duration": 2,
    "start_time": "2022-05-24T18:59:59.521Z"
   },
   {
    "duration": 88,
    "start_time": "2022-05-24T18:59:59.525Z"
   },
   {
    "duration": 8,
    "start_time": "2022-05-24T18:59:59.614Z"
   },
   {
    "duration": 10,
    "start_time": "2022-05-24T18:59:59.624Z"
   },
   {
    "duration": 283,
    "start_time": "2022-05-24T18:59:59.636Z"
   },
   {
    "duration": 6,
    "start_time": "2022-05-24T18:59:59.921Z"
   },
   {
    "duration": 5,
    "start_time": "2022-05-24T18:59:59.929Z"
   },
   {
    "duration": 9,
    "start_time": "2022-05-24T18:59:59.935Z"
   },
   {
    "duration": 169,
    "start_time": "2022-05-24T18:59:59.947Z"
   },
   {
    "duration": 9,
    "start_time": "2022-05-24T19:00:00.117Z"
   },
   {
    "duration": 6,
    "start_time": "2022-05-24T19:00:00.128Z"
   },
   {
    "duration": 6,
    "start_time": "2022-05-24T19:00:00.136Z"
   },
   {
    "duration": 234,
    "start_time": "2022-05-24T19:00:00.143Z"
   },
   {
    "duration": 9,
    "start_time": "2022-05-24T19:00:00.379Z"
   },
   {
    "duration": 10,
    "start_time": "2022-05-24T19:00:00.390Z"
   },
   {
    "duration": 147,
    "start_time": "2022-05-24T19:00:00.402Z"
   },
   {
    "duration": 2,
    "start_time": "2022-05-24T19:00:00.550Z"
   },
   {
    "duration": 150,
    "start_time": "2022-05-24T19:00:00.554Z"
   },
   {
    "duration": 6,
    "start_time": "2022-05-24T19:00:00.706Z"
   },
   {
    "duration": 15,
    "start_time": "2022-05-24T19:00:00.714Z"
   },
   {
    "duration": 288,
    "start_time": "2022-05-24T19:00:00.730Z"
   },
   {
    "duration": 3,
    "start_time": "2022-05-24T19:00:01.020Z"
   },
   {
    "duration": 1742,
    "start_time": "2022-05-24T19:00:01.025Z"
   },
   {
    "duration": 11,
    "start_time": "2022-05-24T19:00:02.769Z"
   },
   {
    "duration": 11,
    "start_time": "2022-05-24T19:00:02.782Z"
   },
   {
    "duration": 68,
    "start_time": "2022-05-24T19:00:02.796Z"
   },
   {
    "duration": 9,
    "start_time": "2022-05-24T19:00:02.866Z"
   },
   {
    "duration": 11,
    "start_time": "2022-05-24T19:00:02.876Z"
   },
   {
    "duration": 35,
    "start_time": "2022-05-24T19:00:02.890Z"
   },
   {
    "duration": 7,
    "start_time": "2022-05-24T19:00:02.927Z"
   },
   {
    "duration": 9,
    "start_time": "2022-05-24T19:00:02.936Z"
   },
   {
    "duration": 6,
    "start_time": "2022-05-24T19:00:02.947Z"
   },
   {
    "duration": 1154,
    "start_time": "2022-05-24T19:00:02.954Z"
   },
   {
    "duration": 10,
    "start_time": "2022-05-24T19:00:04.111Z"
   },
   {
    "duration": 7,
    "start_time": "2022-05-24T19:00:04.123Z"
   },
   {
    "duration": 442,
    "start_time": "2022-05-24T19:00:04.134Z"
   },
   {
    "duration": 14,
    "start_time": "2022-05-24T19:00:04.578Z"
   },
   {
    "duration": 456,
    "start_time": "2022-05-24T19:00:04.594Z"
   },
   {
    "duration": 3,
    "start_time": "2022-05-24T19:00:05.052Z"
   },
   {
    "duration": 24,
    "start_time": "2022-05-24T19:00:05.057Z"
   },
   {
    "duration": 361,
    "start_time": "2022-05-24T19:00:05.083Z"
   },
   {
    "duration": 8,
    "start_time": "2022-05-24T19:00:05.446Z"
   },
   {
    "duration": 106,
    "start_time": "2022-05-24T19:00:05.456Z"
   },
   {
    "duration": 2,
    "start_time": "2022-05-24T19:00:05.564Z"
   },
   {
    "duration": 95,
    "start_time": "2022-05-24T19:00:05.568Z"
   },
   {
    "duration": 7,
    "start_time": "2022-05-24T19:00:05.664Z"
   }
  ],
  "colab": {
   "name": "AdvansedSQLProjectTemplate.ipynb",
   "provenance": []
  },
  "kernelspec": {
   "display_name": "Python 3",
   "language": "python",
   "name": "python3"
  },
  "language_info": {
   "codemirror_mode": {
    "name": "ipython",
    "version": 3
   },
   "file_extension": ".py",
   "mimetype": "text/x-python",
   "name": "python",
   "nbconvert_exporter": "python",
   "pygments_lexer": "ipython3",
   "version": "3.8.8"
  },
  "toc": {
   "base_numbering": 1,
   "nav_menu": {},
   "number_sections": false,
   "sideBar": true,
   "skip_h1_title": false,
   "title_cell": "Table of Contents",
   "title_sidebar": "Contents",
   "toc_cell": false,
   "toc_position": {},
   "toc_section_display": true,
   "toc_window_display": true
  }
 },
 "nbformat": 4,
 "nbformat_minor": 1
}
